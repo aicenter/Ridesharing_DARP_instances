{
 "cells": [
  {
   "cell_type": "code",
   "execution_count": 2,
   "outputs": [],
   "source": [
    "%load_ext autoreload"
   ],
   "metadata": {
    "collapsed": false,
    "ExecuteTime": {
     "start_time": "2023-04-03T15:22:23.943435Z",
     "end_time": "2023-04-03T15:22:24.008400Z"
    }
   }
  },
  {
   "cell_type": "code",
   "execution_count": 3,
   "outputs": [],
   "source": [
    "import os\n",
    "from os import path\n",
    "import numpy as np\n",
    "import copy\n",
    "from pathlib import Path\n",
    "from datetime import datetime, timedelta\n",
    "from typing import List\n",
    "\n",
    "from darpbenchmark.instance_generation.generate_config import generate_config, default_config"
   ],
   "metadata": {
    "collapsed": false,
    "ExecuteTime": {
     "start_time": "2023-04-03T15:22:25.057488Z",
     "end_time": "2023-04-03T15:22:25.261508Z"
    }
   }
  },
  {
   "cell_type": "code",
   "execution_count": 27,
   "outputs": [],
   "source": [
    "%autoreload"
   ],
   "metadata": {
    "collapsed": false
   }
  },
  {
   "cell_type": "code",
   "execution_count": 4,
   "outputs": [],
   "source": [
    "darp_dir_path = r\"C:/Google Drive/AIC Experiment Data/DARP\"\n",
    "# darp_dir_path = r\"D:/AIC Data/Experiment Data/DARP\""
   ],
   "metadata": {
    "collapsed": false,
    "ExecuteTime": {
     "start_time": "2023-04-03T15:22:28.466188Z",
     "end_time": "2023-04-03T15:22:28.478217Z"
    }
   }
  },
  {
   "cell_type": "code",
   "execution_count": null,
   "outputs": [],
   "source": [],
   "metadata": {
    "collapsed": false
   }
  },
  {
   "cell_type": "markdown",
   "source": [
    "# VGA Benchmark"
   ],
   "metadata": {
    "collapsed": false
   }
  },
  {
   "cell_type": "code",
   "execution_count": 5,
   "outputs": [
    {
     "name": "stderr",
     "output_type": "stream",
     "text": [
      "15:22:33 [INFO] Saving config to C:\\Google Drive\\AIC Experiment Data\\DARP\\Real demand\\NYC\\experiments\\VGA_benchmark\\config.yaml\n"
     ]
    }
   ],
   "source": [
    "config = copy.deepcopy(default_config)\n",
    "config['vehicles']['vehicle_to_request_ratio'] = 0.5\n",
    "config['max_prolongation'] = 300\n",
    "config['area_dir'] = \"../../\"\n",
    "config['demand']['filepath'] = \"./trips.di\"\n",
    "config['demand']['mode'] = 'load'\n",
    "config['map']['SRID_plane'] = 32618\n",
    "config['demand']['min_time'] = \"2022-03-11 18:00:00\"\n",
    "config['demand']['max_time'] = \"2022-03-11 18:01:00\"\n",
    "config['vehicles']['start_time'] = \"2022-03-11 17:30:00\"\n",
    "config['demand']['dataset'] = 2, 3, 4, 5\n",
    "config['demand']['positions_set'] = 1\n",
    "config['area'] = 'Manhattan'\n",
    "instance_dir = darp_dir_path / Path('Real demand/NYC/experiments/VGA_benchmark')\n",
    "os.makedirs(instance_dir, exist_ok=True)\n",
    "config_path = instance_dir / Path(\"config.yaml\")\n",
    "generate_config(config, config_path)"
   ],
   "metadata": {
    "collapsed": false,
    "ExecuteTime": {
     "start_time": "2023-04-03T15:22:33.442053Z",
     "end_time": "2023-04-03T15:22:33.462052Z"
    }
   }
  },
  {
   "cell_type": "code",
   "execution_count": null,
   "outputs": [],
   "source": [],
   "metadata": {
    "collapsed": false
   }
  },
  {
   "cell_type": "markdown",
   "source": [
    "# Final experiments"
   ],
   "metadata": {
    "collapsed": false
   }
  },
  {
   "cell_type": "markdown",
   "source": [
    "final experiment setup:\n",
    "- NYC, Manhattan, Chicago, DC\n",
    "- scenario lengths: 5, 15, 30\n",
    "- vehicle count: request count / 2\n",
    "- peak time\n",
    "- max delay 5 minutes\n",
    "- speed: posted speed\n",
    "- vehicle start: 15 min before\n",
    "- vehicle capacity: 4"
   ],
   "metadata": {
    "collapsed": false
   }
  },
  {
   "cell_type": "markdown",
   "source": [
    "## Common"
   ],
   "metadata": {
    "collapsed": false
   }
  },
  {
   "cell_type": "code",
   "execution_count": 22,
   "outputs": [],
   "source": [
    "config = copy.deepcopy(default_config)\n",
    "lengths = [5, 15, 30]\n",
    "config['vehicles']['vehicle_to_request_ratio'] = 0.5\n",
    "config['max_prolongation'] = 300\n",
    "config['area_dir'] = \"../../../\"\n",
    "config['demand']['filepath'] = \"./trips.di\"\n",
    "config['demand']['mode'] = 'load'\n",
    "\n",
    "NYC_config = copy.deepcopy(config)\n",
    "NYC_config['map']['SRID_plane'] = 32618\n",
    "NYC_config['demand']['min_time'] = \"2022-03-11 18:00:00\"\n",
    "NYC_config['demand']['dataset'] = 2, 3, 4, 5\n",
    "NYC_config['demand']['positions_set'] = 1\n",
    "\n",
    "Manhattan_config = copy.deepcopy(NYC_config)\n",
    "\n",
    "Chicago_config = copy.deepcopy(config)\n",
    "Chicago_config['map']['SRID_plane'] = 26916\n",
    "Chicago_config['demand']['min_time'] = \"2022-05-20 18:00:00\"\n",
    "Chicago_config['demand']['dataset'] = 1\n",
    "Chicago_config['demand']['positions_set'] = 3\n",
    "Chicago_config['demand']['time_set'] = 1\n",
    "\n",
    "DC_config = copy.deepcopy(config)\n",
    "DC_config['map']['SRID_plane'] = 32618\n",
    "DC_config['demand']['min_time'] = \"2021-10-22 18:00:00\"\n",
    "DC_config['demand']['dataset'] = 7\n",
    "DC_config['demand']['positions_set'] = 4\n",
    "DC_config['demand']['time_set'] = 2\n",
    "configs = [NYC_config, Manhattan_config, Chicago_config, DC_config]\n",
    "map_dirs = ['NYC', 'Manhattan', 'Chicago', 'DC']\n",
    "\n",
    "area_ids = [12, 4, 19, 1]\n",
    "for id, config in zip(area_ids, configs):\n",
    "    config['area_id'] = id\n",
    "\n",
    "configs = [Chicago_config]\n",
    "map_dirs = ['Chicago']\n",
    "\n",
    "def generate_instances_for_city(config: dict, root_path: Path, lengths: List[int]):\n",
    "    start_time = datetime.strptime(config['demand']['min_time'], '%Y-%m-%d %H:%M:%S')\n",
    "    if 'start_time' not in config['vehicles']:\n",
    "        vehicle_start_time = start_time - timedelta(minutes=15)\n",
    "        config['vehicles']['start_time'] = vehicle_start_time.strftime('%Y-%m-%d %H:%M:%S')\n",
    "    for length in lengths:\n",
    "        end_time = start_time + timedelta(minutes=length)\n",
    "        config['demand']['max_time'] = end_time.strftime('%Y-%m-%d %H:%M:%S')\n",
    "        instance_dir = root_path / Path(f\"{length:0>2d}_min\")\n",
    "        os.makedirs(instance_dir, exist_ok=True)\n",
    "        config_path = instance_dir / Path(\"config.yaml\")\n",
    "        generate_config(config, config_path)"
   ],
   "metadata": {
    "collapsed": false,
    "ExecuteTime": {
     "start_time": "2023-04-03T20:23:20.363602Z",
     "end_time": "2023-04-03T20:23:20.379599Z"
    }
   }
  },
  {
   "cell_type": "code",
   "execution_count": null,
   "outputs": [],
   "source": [],
   "metadata": {
    "collapsed": false
   }
  },
  {
   "cell_type": "markdown",
   "source": [
    "## Real speeds"
   ],
   "metadata": {
    "collapsed": false
   }
  },
  {
   "cell_type": "code",
   "execution_count": 7,
   "outputs": [
    {
     "name": "stderr",
     "output_type": "stream",
     "text": [
      "15:22:51 [INFO] Saving config to C:\\Google Drive\\AIC Experiment Data\\DARP\\Real demand and speeds\\Chicago\\experiments\\final_experiments\\05_min\\config.yaml\n",
      "15:22:51 [INFO] Saving config to C:\\Google Drive\\AIC Experiment Data\\DARP\\Real demand and speeds\\Chicago\\experiments\\final_experiments\\15_min\\config.yaml\n",
      "15:22:51 [INFO] Saving config to C:\\Google Drive\\AIC Experiment Data\\DARP\\Real demand and speeds\\Chicago\\experiments\\final_experiments\\30_min\\config.yaml\n"
     ]
    }
   ],
   "source": [
    "for config, map_dir in zip(configs, map_dirs):\n",
    "    root_path = darp_dir_path / Path('Real demand and speeds') / Path(map_dir) / Path('experiments/final_experiments')\n",
    "    generate_instances_for_city(config, root_path, lengths)"
   ],
   "metadata": {
    "collapsed": false,
    "ExecuteTime": {
     "start_time": "2023-04-03T15:22:51.122492Z",
     "end_time": "2023-04-03T15:22:51.139494Z"
    }
   }
  },
  {
   "cell_type": "markdown",
   "source": [
    "### NYC more vehicles"
   ],
   "metadata": {
    "collapsed": false
   }
  },
  {
   "cell_type": "code",
   "execution_count": 23,
   "outputs": [
    {
     "name": "stderr",
     "output_type": "stream",
     "text": [
      "20:24:10 [INFO] Saving config to C:\\Google Drive\\AIC Experiment Data\\DARP\\Real demand and speeds\\NYC\\experiments\\final_experiments-more_vehicles\\05_min\\config.yaml\n",
      "20:24:10 [INFO] Saving config to C:\\Google Drive\\AIC Experiment Data\\DARP\\Real demand and speeds\\NYC\\experiments\\final_experiments-more_vehicles\\15_min\\config.yaml\n",
      "20:24:10 [INFO] Saving config to C:\\Google Drive\\AIC Experiment Data\\DARP\\Real demand and speeds\\NYC\\experiments\\final_experiments-more_vehicles\\30_min\\config.yaml\n"
     ]
    }
   ],
   "source": [
    "root_path = darp_dir_path / Path('Real demand and speeds/NYC') / Path('experiments/final_experiments-more_vehicles')\n",
    "NYC_config['vehicles']['vehicle_to_request_ratio'] = 0.5\n",
    "NYC_config['vehicles']['start_time'] = \"2022-03-11 17:30:00\"\n",
    "generate_instances_for_city(NYC_config, root_path, lengths)"
   ],
   "metadata": {
    "collapsed": false,
    "ExecuteTime": {
     "start_time": "2023-04-03T20:24:10.939913Z",
     "end_time": "2023-04-03T20:24:10.956204Z"
    }
   }
  },
  {
   "cell_type": "code",
   "execution_count": null,
   "outputs": [],
   "source": [],
   "metadata": {
    "collapsed": false
   }
  },
  {
   "cell_type": "markdown",
   "source": [
    "### Chicago more vehicles"
   ],
   "metadata": {
    "collapsed": false
   }
  },
  {
   "cell_type": "code",
   "execution_count": 24,
   "outputs": [
    {
     "name": "stderr",
     "output_type": "stream",
     "text": [
      "20:37:56 [INFO] Saving config to C:\\Google Drive\\AIC Experiment Data\\DARP\\Real demand and speeds\\Chicago\\experiments\\final_experiments-more_vehicles\\05_min\\config.yaml\n",
      "20:37:56 [INFO] Saving config to C:\\Google Drive\\AIC Experiment Data\\DARP\\Real demand and speeds\\Chicago\\experiments\\final_experiments-more_vehicles\\15_min\\config.yaml\n",
      "20:37:56 [INFO] Saving config to C:\\Google Drive\\AIC Experiment Data\\DARP\\Real demand and speeds\\Chicago\\experiments\\final_experiments-more_vehicles\\30_min\\config.yaml\n"
     ]
    }
   ],
   "source": [
    "root_path = darp_dir_path / Path('Real demand and speeds/Chicago') / Path('experiments/final_experiments-more_vehicles')\n",
    "Chicago_config['vehicles']['vehicle_to_request_ratio'] = 0.5\n",
    "Chicago_config['vehicles']['start_time'] = \"2022-05-20 17:00:00\"\n",
    "generate_instances_for_city(Chicago_config, root_path, lengths)"
   ],
   "metadata": {
    "collapsed": false,
    "ExecuteTime": {
     "start_time": "2023-04-03T20:37:56.476706Z",
     "end_time": "2023-04-03T20:37:56.509240Z"
    }
   }
  },
  {
   "cell_type": "code",
   "execution_count": null,
   "outputs": [],
   "source": [],
   "metadata": {
    "collapsed": false
   }
  },
  {
   "cell_type": "markdown",
   "source": [
    "### DC more vehicles"
   ],
   "metadata": {
    "collapsed": false
   }
  },
  {
   "cell_type": "code",
   "execution_count": 17,
   "outputs": [
    {
     "name": "stderr",
     "output_type": "stream",
     "text": [
      "10:18:37 [INFO] Saving config to C:\\Google Drive\\AIC Experiment Data\\DARP\\Real demand and speeds\\DC\\experiments\\final_experiments-more_vehicles\\05_min\\config.yaml\n",
      "10:18:37 [INFO] Saving config to C:\\Google Drive\\AIC Experiment Data\\DARP\\Real demand and speeds\\DC\\experiments\\final_experiments-more_vehicles\\15_min\\config.yaml\n",
      "10:18:37 [INFO] Saving config to C:\\Google Drive\\AIC Experiment Data\\DARP\\Real demand and speeds\\DC\\experiments\\final_experiments-more_vehicles\\30_min\\config.yaml\n"
     ]
    }
   ],
   "source": [
    "root_path = darp_dir_path / Path('Real demand and speeds/DC/experiments/final_experiments-more_vehicles')\n",
    "DC_config['vehicles']['vehicle_to_request_ratio'] = 0.6\n",
    "generate_instances_for_city(DC_config, root_path, lengths)"
   ],
   "metadata": {
    "collapsed": false
   }
  },
  {
   "cell_type": "markdown",
   "source": [
    "## Posted Speeds"
   ],
   "metadata": {
    "collapsed": false
   }
  },
  {
   "cell_type": "code",
   "execution_count": 10,
   "outputs": [
    {
     "name": "stderr",
     "output_type": "stream",
     "text": [
      "18:31:03 [INFO] Saving config to C:\\AIC Experiment Data\\DARP\\Real demand\\NYC\\experiments\\final_experiments\\05_min\\config.yaml\n",
      "18:31:03 [INFO] Saving config to C:\\AIC Experiment Data\\DARP\\Real demand\\NYC\\experiments\\final_experiments\\15_min\\config.yaml\n",
      "18:31:03 [INFO] Saving config to C:\\AIC Experiment Data\\DARP\\Real demand\\NYC\\experiments\\final_experiments\\30_min\\config.yaml\n",
      "18:31:03 [INFO] Saving config to C:\\AIC Experiment Data\\DARP\\Real demand\\NYC\\experiments\\final_experiments-Manhattan\\05_min\\config.yaml\n",
      "18:31:03 [INFO] Saving config to C:\\AIC Experiment Data\\DARP\\Real demand\\NYC\\experiments\\final_experiments-Manhattan\\15_min\\config.yaml\n",
      "18:31:03 [INFO] Saving config to C:\\AIC Experiment Data\\DARP\\Real demand\\NYC\\experiments\\final_experiments-Manhattan\\30_min\\config.yaml\n",
      "18:31:03 [INFO] Saving config to C:\\AIC Experiment Data\\DARP\\Real demand\\Chicago\\experiments\\final_experiments\\05_min\\config.yaml\n",
      "18:31:03 [INFO] Saving config to C:\\AIC Experiment Data\\DARP\\Real demand\\Chicago\\experiments\\final_experiments\\15_min\\config.yaml\n",
      "18:31:03 [INFO] Saving config to C:\\AIC Experiment Data\\DARP\\Real demand\\Chicago\\experiments\\final_experiments\\30_min\\config.yaml\n",
      "18:31:03 [INFO] Saving config to C:\\AIC Experiment Data\\DARP\\Real demand\\DC\\experiments\\final_experiments\\05_min\\config.yaml\n",
      "18:31:03 [INFO] Saving config to C:\\AIC Experiment Data\\DARP\\Real demand\\DC\\experiments\\final_experiments\\15_min\\config.yaml\n",
      "18:31:03 [INFO] Saving config to C:\\AIC Experiment Data\\DARP\\Real demand\\DC\\experiments\\final_experiments\\30_min\\config.yaml\n"
     ]
    }
   ],
   "source": [
    "Manhattan_config = copy.deepcopy(NYC_config)\n",
    "Manhattan_config['area'] = 'Manhattan'\n",
    "configs[1] = Manhattan_config\n",
    "map_dirs[1] = 'NYC'\n",
    "exp_root_names = ['final_experiments', 'final_experiments-Manhattan', 'final_experiments', 'final_experiments']\n",
    "\n",
    "for config, map_dir, exp_root_name in zip(configs, map_dirs, exp_root_names):\n",
    "    root_path = darp_dir_path / Path('Real demand') / Path(map_dir) / Path('experiments' / Path(exp_root_name))\n",
    "    start_time = datetime.strptime(config['demand']['min_time'], '%Y-%m-%d %H:%M:%S')\n",
    "    vehicle_start_time = start_time - timedelta(minutes=15)\n",
    "    config['vehicles']['start_time'] = vehicle_start_time.strftime('%Y-%m-%d %H:%M:%S')\n",
    "    for length in lengths:\n",
    "        end_time = start_time + timedelta(minutes=length)\n",
    "        config['demand']['max_time'] = end_time.strftime('%Y-%m-%d %H:%M:%S')\n",
    "        instance_dir = root_path / Path(f\"{length:0>2d}_min\")\n",
    "        os.makedirs(instance_dir, exist_ok=True)\n",
    "        config_path = instance_dir / Path(\"config.yaml\")\n",
    "        generate_config(config, config_path)"
   ],
   "metadata": {
    "collapsed": false
   }
  },
  {
   "cell_type": "code",
   "execution_count": null,
   "outputs": [],
   "source": [],
   "metadata": {
    "collapsed": false
   }
  },
  {
   "cell_type": "code",
   "execution_count": null,
   "outputs": [],
   "source": [],
   "metadata": {
    "collapsed": false
   }
  },
  {
   "cell_type": "markdown",
   "source": [
    "# DC"
   ],
   "metadata": {
    "collapsed": false
   }
  },
  {
   "cell_type": "code",
   "execution_count": 21,
   "outputs": [
    {
     "name": "stderr",
     "output_type": "stream",
     "text": [
      "17:57:37 [INFO] Saving config to C:/AIC Experiment Data/DARP/Real demand/DC/experiments/max_VGA_optimal\\10_min\\config.yaml\n",
      "17:57:37 [INFO] Saving config to C:/AIC Experiment Data/DARP/Real demand/DC/experiments/max_VGA_optimal\\11_min\\config.yaml\n",
      "17:57:37 [INFO] Saving config to C:/AIC Experiment Data/DARP/Real demand/DC/experiments/max_VGA_optimal\\12_min\\config.yaml\n",
      "17:57:37 [INFO] Saving config to C:/AIC Experiment Data/DARP/Real demand/DC/experiments/max_VGA_optimal\\13_min\\config.yaml\n",
      "17:57:37 [INFO] Saving config to C:/AIC Experiment Data/DARP/Real demand/DC/experiments/max_VGA_optimal\\14_min\\config.yaml\n",
      "17:57:37 [INFO] Saving config to C:/AIC Experiment Data/DARP/Real demand/DC/experiments/max_VGA_optimal\\15_min\\config.yaml\n"
     ]
    }
   ],
   "source": [
    "root_path = f'{darp_dir_path}/Real demand/DC/experiments/max_VGA_optimal'\n",
    "instance_lengths = range(10, 16, 1) # in minutes\n",
    "\n",
    "default_config['area_dir'] = \"../../../\"\n",
    "default_config['map']['SRID_plane'] = 32618\n",
    "default_config['demand']['min_time'] = \"2021-10-22 18:00:00\"\n",
    "default_config['demand']['filepath'] = \"./trips.di\"\n",
    "default_config['demand']['mode'] = 'load'\n",
    "default_config['demand']['dataset'] = 7\n",
    "default_config['demand']['positions_set'] = 4\n",
    "default_config['demand']['time_set'] = 2\n",
    "default_config['vehicles']['start_time'] = \"2021-10-21 17:30:00\"\n",
    "default_config['vehicles']['vehicle_count'] = 80\n",
    "default_config['max_prolongation'] = 300\n",
    "end_time_base = '2021-10-22 18:'\n",
    "\n",
    "for instance_length in instance_lengths:\n",
    "    default_config['demand']['max_time'] = f\"{end_time_base}{str(instance_length)}:00\"\n",
    "    instance_dir = path.join(root_path, f\"{instance_length:0>2d}_min\")\n",
    "    os.makedirs(instance_dir, exist_ok=True)\n",
    "    config_path = path.join(instance_dir, \"config.yaml\")\n",
    "    generate_config(default_config, config_path)"
   ],
   "metadata": {
    "collapsed": false
   }
  },
  {
   "cell_type": "code",
   "execution_count": 20,
   "outputs": [
    {
     "data": {
      "text/plain": "{'map': {'SRID': 4326, 'SRID_plane': 32618},\n 'demand': {'min_time': '2021-10-22 18:00:00',\n  'filepath': './trips.di',\n  'mode': 'load',\n  'dataset': 7,\n  'positions_set': 4,\n  'time_set': 2,\n  'max_time': '2021-10-22 18:15'},\n 'vehicles': {'vehicle_capacity': 4,\n  'start_time': '2021-10-21 17:30:00',\n  'vehicle_count': 80},\n 'save_shp': True,\n 'area_dir': '../../../',\n 'max_prolongation': 300}"
     },
     "execution_count": 20,
     "metadata": {},
     "output_type": "execute_result"
    }
   ],
   "source": [
    "default_config"
   ],
   "metadata": {
    "collapsed": false
   }
  },
  {
   "cell_type": "code",
   "execution_count": null,
   "outputs": [],
   "source": [],
   "metadata": {
    "collapsed": false
   }
  },
  {
   "cell_type": "markdown",
   "source": [
    "# Chicago"
   ],
   "metadata": {
    "collapsed": false
   }
  },
  {
   "cell_type": "code",
   "execution_count": 24,
   "outputs": [
    {
     "name": "stderr",
     "output_type": "stream",
     "text": [
      "22:55:37 [INFO] Saving config to C:/AIC Experiment Data/DARP/Real demand/Chicago/experiments/max_VGA_optimal\\03_min\\config.yaml\n",
      "22:55:37 [INFO] Saving config to C:/AIC Experiment Data/DARP/Real demand/Chicago/experiments/max_VGA_optimal\\04_min\\config.yaml\n"
     ]
    }
   ],
   "source": [
    "root_path = f'{darp_dir_path}/Real demand/Chicago/experiments/max_VGA_optimal'\n",
    "instance_lengths = range(3, 5, 1) # in minutes\n",
    "\n",
    "default_config['area_dir'] = \"../../../\"\n",
    "default_config['map']['SRID_plane'] = 26916\n",
    "default_config['demand']['min_time'] = \"2022-05-20 18:00:00\"\n",
    "default_config['demand']['filepath'] = \"./trips.di\"\n",
    "default_config['demand']['mode'] = 'load'\n",
    "default_config['demand']['dataset'] = 1\n",
    "default_config['demand']['positions_set'] = 3\n",
    "default_config['demand']['time_set'] = 1\n",
    "default_config['vehicles']['start_time'] = \"2022-05-20 17:30:00\"\n",
    "default_config['vehicles']['vehicle_count'] = 246\n",
    "default_config['max_prolongation'] = 300\n",
    "end_time_base = '2022-05-20 18:'\n",
    "\n",
    "for instance_length in instance_lengths:\n",
    "    default_config['demand']['max_time'] = f\"{end_time_base}{str(instance_length)}:00\"\n",
    "    instance_dir = path.join(root_path, f\"{instance_length:0>2d}_min\")\n",
    "    os.makedirs(instance_dir, exist_ok=True)\n",
    "    config_path = path.join(instance_dir, \"config.yaml\")\n",
    "    generate_config(default_config, config_path)"
   ],
   "metadata": {
    "collapsed": false
   }
  },
  {
   "cell_type": "code",
   "execution_count": null,
   "outputs": [],
   "source": [],
   "metadata": {
    "collapsed": false
   }
  },
  {
   "cell_type": "markdown",
   "source": [
    "# Manhattan\n",
    "\n"
   ],
   "metadata": {
    "collapsed": false
   }
  },
  {
   "cell_type": "markdown",
   "source": [
    "## Max optimal lenght"
   ],
   "metadata": {
    "collapsed": false
   }
  },
  {
   "cell_type": "code",
   "execution_count": 19,
   "outputs": [
    {
     "name": "stderr",
     "output_type": "stream",
     "text": [
      "09:30:04 [INFO] Saving config to C:/AIC Experiment Data/DARP/Real demand/NYC/experiments/max_VGA_optimal\\01_min\\config.yaml\n",
      "09:30:04 [INFO] Saving config to C:/AIC Experiment Data/DARP/Real demand/NYC/experiments/max_VGA_optimal\\02_min\\config.yaml\n",
      "09:30:04 [INFO] Saving config to C:/AIC Experiment Data/DARP/Real demand/NYC/experiments/max_VGA_optimal\\03_min\\config.yaml\n"
     ]
    }
   ],
   "source": [
    "root_path = f'{darp_dir_path}/Real demand/NYC/experiments/max_VGA_optimal'\n",
    "instance_lengths = range(1, 4, 1) # in minutes\n",
    "\n",
    "config = copy.deepcopy(default_config)\n",
    "\n",
    "config['area_dir'] = \"../../../\"\n",
    "config['area'] = 'Manhattan'\n",
    "config['map']['SRID_plane'] = 32618\n",
    "config['demand']['min_time'] = \"2022-03-11 18:00:00\"\n",
    "config['demand']['filepath'] = \"./trips.di\"\n",
    "config['demand']['mode'] = 'load'\n",
    "config['demand']['dataset'] = 2, 3, 4, 5\n",
    "config['demand']['positions_set'] = 1\n",
    "config['vehicles']['start_time'] = \"2022-03-11 17:30:00\"\n",
    "config['max_prolongation'] = 300\n",
    "end_time_base = '2022-03-11 18:'\n",
    "\n",
    "for instance_length in instance_lengths:\n",
    "    config['vehicles']['vehicle_count'] = 400 * instance_length\n",
    "    config['demand']['max_time'] = f\"{end_time_base}{instance_length:0>2d}:00\"\n",
    "    instance_dir = path.join(root_path, f\"{instance_length:0>2d}_min\")\n",
    "    os.makedirs(instance_dir, exist_ok=True)\n",
    "    config_path = path.join(instance_dir, \"config.yaml\")\n",
    "    generate_config(config, config_path)"
   ],
   "metadata": {
    "collapsed": false
   }
  },
  {
   "cell_type": "code",
   "execution_count": 9,
   "outputs": [
    {
     "data": {
      "text/plain": "{'map': {'SRID': 4326},\n 'demand': {},\n 'vehicles': {'vehicle_capacity': 4},\n 'save_shp': True}"
     },
     "execution_count": 9,
     "metadata": {},
     "output_type": "execute_result"
    }
   ],
   "source": [
    "default_config"
   ],
   "metadata": {
    "collapsed": false
   }
  },
  {
   "cell_type": "code",
   "execution_count": 10,
   "outputs": [
    {
     "data": {
      "text/plain": "{'map': {'SRID': 4326, 'SRID_plane': 32618},\n 'demand': {'min_time': '2022-03-11 18:00:00',\n  'filepath': './trips.di',\n  'mode': 'load',\n  'dataset': (2, 3, 4, 5),\n  'positions_set': 1,\n  'max_time': '2022-03-11 18:3:00'},\n 'vehicles': {'vehicle_capacity': 4,\n  'start_time': '2022-03-11 17:30:00',\n  'vehicle_count': 2561},\n 'save_shp': True,\n 'area_dir': '../../../',\n 'max_prolongation': 300}"
     },
     "execution_count": 10,
     "metadata": {},
     "output_type": "execute_result"
    }
   ],
   "source": [
    "config"
   ],
   "metadata": {
    "collapsed": false
   }
  },
  {
   "cell_type": "code",
   "execution_count": null,
   "outputs": [],
   "source": [],
   "metadata": {
    "collapsed": false
   }
  },
  {
   "cell_type": "markdown",
   "source": [
    "## Vehicle count SA"
   ],
   "metadata": {
    "collapsed": false
   }
  },
  {
   "cell_type": "code",
   "execution_count": null,
   "outputs": [],
   "source": [
    "root_path = f'{darp_dir_path}/Manhattan/experiments/vehicle_count_SA'\n",
    "vehicles = range(1000, 8001, 1000)\n",
    "\n",
    "default_config['area_dir'] = f\"{darp_dir_path}/Manhattan\"\n",
    "default_config['map']['place'] = 'Manhattan'\n",
    "default_config['map']['SRID_plane'] = 32618\n",
    "default_config['demand']['min_time'] = 32400 # 9:00\n",
    "default_config['demand']['max_time'] = 33600 # 9:20\n",
    "default_config['demand']['avg_distance'] = 5000 # 5km\n",
    "default_config['vehicles']['start_time'] = 31800 # 8:50\n",
    "default_config['instance_params']['max_prolongation'] = 300\n",
    "default_config['demand']['request_count'] = 8400\n",
    "default_config['instance_params']['time_to_start'] = 0 # this parameter is ignored\n",
    "\n",
    "\n",
    "for vehicle_count in vehicles:\n",
    "    default_config['vehicles']['vehicle_count'] = vehicle_count\n",
    "    instance_dir = path.join(root_path, f\"veh_count_{str(vehicle_count)}\")\n",
    "    os.makedirs(instance_dir, exist_ok=True)\n",
    "    config_path = path.join(instance_dir, \"config.yaml\")\n",
    "    generate_config(default_config, config_path)"
   ],
   "metadata": {
    "collapsed": false
   }
  },
  {
   "cell_type": "markdown",
   "source": [
    "## Length up 20 min"
   ],
   "metadata": {
    "collapsed": false
   }
  },
  {
   "cell_type": "code",
   "execution_count": null,
   "outputs": [],
   "source": [
    "root_path = f'{darp_dir_path}/Manhattan/experiments/10-20_min-max_delay_5_min'\n",
    "lengths = range(630, 1201, 30) # 10,5-20 min, 30s resolution\n",
    "\n",
    "default_config['area_dir'] = f\"{darp_dir_path}/Manhattan\"\n",
    "default_config['map']['place'] = 'Manhattan'\n",
    "default_config['map']['SRID_plane'] = 32618\n",
    "default_config['demand']['min_time'] = 32400 # 9:00\n",
    "default_config['demand']['avg_distance'] = 5000 # 5km\n",
    "default_config['vehicles']['start_time'] = 31800 # 8:50\n",
    "default_config['instance_params']['max_prolongation'] = 300\n",
    "\n",
    "for exp_length in lengths:\n",
    "    default_config['demand']['max_time'] = default_config['demand']['min_time'] + exp_length\n",
    "    default_config['demand']['request_count'] = exp_length * 7\n",
    "    default_config['vehicles']['vehicle_count'] = default_config['demand']['request_count']\n",
    "    default_config['instance_params']['time_to_start'] = 0 # this parameter is ignored\n",
    "    instance_dir = path.join(root_path, f\"exp_length_{str(exp_length)}_s\")\n",
    "    os.makedirs(instance_dir, exist_ok=True)\n",
    "    config_path = path.join(instance_dir, \"config.yaml\")\n",
    "    generate_config(default_config, config_path)"
   ],
   "metadata": {
    "collapsed": false
   }
  },
  {
   "cell_type": "markdown",
   "source": [
    "## Max dalay - experiment length SA"
   ],
   "metadata": {
    "collapsed": false
   }
  },
  {
   "cell_type": "markdown",
   "source": [
    "### Min Vehicles"
   ],
   "metadata": {
    "collapsed": false
   }
  },
  {
   "cell_type": "code",
   "execution_count": null,
   "outputs": [],
   "source": [
    "root_path = f'{darp_dir_path}/Manhattan/experiments/max_delay-exp_length_SA_min_vehicles'\n",
    "lengths = range(30, 1201, 30) # 0,5 to 10 min, 30s step\n",
    "request_counts = [length * 7 for length in lengths] # 100% current taxi demand on Manhattan\n",
    "max_delays = range(2, 11, 1) # 2 to 10 min 1 min step\n",
    "\n",
    "default_config['area_dir'] = f\"{darp_dir_path}/Manhattan\"\n",
    "default_config['map']['place'] = 'Manhattan'\n",
    "default_config['map']['SRID_plane'] = 32618\n",
    "default_config['demand']['min_time'] = 32400 # 9:00\n",
    "default_config['demand']['avg_distance'] = 5000 # 5km\n",
    "default_config['vehicles']['start_time'] = 31800 # 8:50\n",
    "\n",
    "\n",
    "for length, request_count in zip(lengths, request_counts):\n",
    "    for max_delay in max_delays:\n",
    "        default_config['demand']['request_count'] = request_count\n",
    "        default_config['demand']['max_time'] = default_config['demand']['min_time'] + length\n",
    "\n",
    "        # average occupancy 2, request takes 6 min to serve on average\n",
    "        default_config['vehicles']['vehicle_count'] = request_count / 2 / min(1, length / 360)\n",
    "        default_config['instance_params']['max_prolongation'] = max_delay * 60\n",
    "        default_config['instance_params']['time_to_start'] = 120 # this parameter is ignored\n",
    "        instance_dir = path.join(root_path, f\"exp_length_{str(length)}_s-max_delay_{str(max_delay)}\")\n",
    "        os.makedirs(instance_dir, exist_ok=True)\n",
    "        config_path = path.join(instance_dir, \"config.yaml\")\n",
    "        generate_config(default_config, config_path)"
   ],
   "metadata": {
    "collapsed": false
   }
  },
  {
   "cell_type": "code",
   "execution_count": null,
   "outputs": [],
   "source": [],
   "metadata": {
    "collapsed": false
   }
  },
  {
   "cell_type": "markdown",
   "source": [
    "\n",
    "### Max Vehicle"
   ],
   "metadata": {
    "collapsed": false
   }
  },
  {
   "cell_type": "markdown",
   "source": [
    "### Min Vehicles"
   ],
   "metadata": {
    "collapsed": false
   }
  },
  {
   "cell_type": "code",
   "execution_count": null,
   "outputs": [],
   "source": [
    "root_path = f'{darp_dir_path}/Manhattan/experiments/max_delay-exp_length_SA_min_vehicles'\n",
    "lengths = range(30, 1201, 30) # 0,5 to 10 min, 30s step\n",
    "request_counts = [length * 7 for length in lengths] # 100% current taxi demand on Manhattan\n",
    "max_delays = range(2, 11, 1) # 2 to 10 min 1 min step\n",
    "\n",
    "default_config['area_dir'] = f\"{darp_dir_path}/Manhattan\"\n",
    "default_config['map']['place'] = 'Manhattan'\n",
    "default_config['map']['SRID_plane'] = 32618\n",
    "default_config['demand']['min_time'] = 32400 # 9:00\n",
    "default_config['demand']['avg_distance'] = 5000 # 5km\n",
    "default_config['vehicles']['start_time'] = 31800 # 8:50\n",
    "\n",
    "\n",
    "for length, request_count in zip(lengths, request_counts):\n",
    "    for max_delay in max_delays:\n",
    "        default_config['demand']['request_count'] = request_count\n",
    "        default_config['demand']['max_time'] = default_config['demand']['min_time'] + length\n",
    "\n",
    "        # average occupancy 2, request takes 6 min to serve on average\n",
    "        default_config['vehicles']['vehicle_count'] = request_count / 2 / min(1, length / 360)\n",
    "        default_config['instance_params']['max_prolongation'] = max_delay * 60\n",
    "        default_config['instance_params']['time_to_start'] = 120 # this parameter is ignored\n",
    "        instance_dir = path.join(root_path, f\"exp_length_{str(length)}_s-max_delay_{str(max_delay)}\")\n",
    "        os.makedirs(instance_dir, exist_ok=True)\n",
    "        config_path = path.join(instance_dir, \"config.yaml\")\n",
    "        generate_config(default_config, config_path)"
   ],
   "metadata": {
    "collapsed": false
   }
  },
  {
   "cell_type": "code",
   "execution_count": null,
   "outputs": [],
   "source": [],
   "metadata": {
    "collapsed": false
   }
  },
  {
   "cell_type": "markdown",
   "source": [
    "\n",
    "### Max Vehicle"
   ],
   "metadata": {
    "collapsed": false
   }
  },
  {
   "cell_type": "code",
   "execution_count": null,
   "outputs": [],
   "source": [
    "root_path = f'{darp_dir_path}/Manhattan/experiments/max_delay-exp_length_SA'\n",
    "lengths = range(30, 601, 30) # 0,5 to 10 min, 30s step\n",
    "request_counts = [length * 7 for length in lengths] # 100% current taxi demand on Manhattan\n",
    "vehicle_counts =  [req for req in request_counts] # dedicated vehicle for each request\n",
    "max_delays = range(2, 11, 1) # 2 to 10 min 1 min step\n",
    "\n",
    "default_config['area_dir'] = f\"{darp_dir_path}/Manhattan\"\n",
    "default_config['map']['place'] = 'Manhattan'\n",
    "default_config['map']['SRID_plane'] = 32618\n",
    "default_config['demand']['min_time'] = 32400 # 9:00\n",
    "default_config['demand']['avg_distance'] = 5000 # 5km\n",
    "default_config['vehicles']['start_time'] = 31800 # 8:50\n",
    "\n",
    "\n",
    "for length, request_count, vehicle_count in zip(lengths, request_counts, vehicle_counts):\n",
    "    for max_delay in max_delays:\n",
    "        default_config['demand']['request_count'] = request_count\n",
    "        default_config['demand']['max_time'] = default_config['demand']['min_time'] + length\n",
    "        default_config['vehicles']['vehicle_count'] = vehicle_count\n",
    "        default_config['instance_params']['max_prolongation'] = max_delay * 60\n",
    "        default_config['instance_params']['time_to_start'] = 120 # this parameter is ignored\n",
    "        instance_dir = path.join(root_path, f\"exp_length_{str(length)}_s-max_delay_{str(max_delay)}\")\n",
    "        os.makedirs(instance_dir, exist_ok=True)\n",
    "        config_path = path.join(instance_dir, \"config.yaml\")\n",
    "        generate_config(default_config, config_path)"
   ],
   "metadata": {
    "collapsed": false
   }
  },
  {
   "cell_type": "code",
   "execution_count": null,
   "outputs": [],
   "source": [
    "root_path = f'{darp_dir_path}/Manhattan/experiments/max_delay-exp_length_SA_min_vehicles'\n",
    "lengths = range(30, 1201, 30) # 0,5 to 10 min, 30s step\n",
    "request_counts = [length * 7 for length in lengths] # 100% current taxi demand on Manhattan\n",
    "max_delays = range(2, 11, 1) # 2 to 10 min 1 min step\n",
    "\n",
    "default_config['area_dir'] = f\"{darp_dir_path}/Manhattan\"\n",
    "default_config['map']['place'] = 'Manhattan'\n",
    "default_config['map']['SRID_plane'] = 32618\n",
    "default_config['demand']['min_time'] = 32400 # 9:00\n",
    "default_config['demand']['avg_distance'] = 5000 # 5km\n",
    "default_config['vehicles']['start_time'] = 31800 # 8:50\n",
    "\n",
    "\n",
    "for length, request_count in zip(lengths, request_counts):\n",
    "    for max_delay in max_delays:\n",
    "        default_config['demand']['request_count'] = request_count\n",
    "        default_config['demand']['max_time'] = default_config['demand']['min_time'] + length\n",
    "\n",
    "        # average occupancy 2, request takes 6 min to serve on average\n",
    "        default_config['vehicles']['vehicle_count'] = request_count / 2 / min(1, length / 360)\n",
    "        default_config['instance_params']['max_prolongation'] = max_delay * 60\n",
    "        default_config['instance_params']['time_to_start'] = 120 # this parameter is ignored\n",
    "        instance_dir = path.join(root_path, f\"exp_length_{str(length)}_s-max_delay_{str(max_delay)}\")\n",
    "        os.makedirs(instance_dir, exist_ok=True)\n",
    "        config_path = path.join(instance_dir, \"config.yaml\")\n",
    "        generate_config(default_config, config_path)"
   ],
   "metadata": {
    "collapsed": false
   }
  },
  {
   "cell_type": "code",
   "execution_count": null,
   "outputs": [],
   "source": [],
   "metadata": {
    "collapsed": false
   }
  },
  {
   "cell_type": "markdown",
   "source": [
    "\n",
    "### Max Vehicle"
   ],
   "metadata": {
    "collapsed": false
   }
  },
  {
   "cell_type": "code",
   "execution_count": null,
   "outputs": [],
   "source": [
    "root_path = f'{darp_dir_path}/Manhattan/experiments/max_delay-exp_length_SA'\n",
    "lengths = range(30, 601, 30) # 0,5 to 10 min, 30s step\n",
    "request_counts = [length * 7 for length in lengths] # 100% current taxi demand on Manhattan\n",
    "vehicle_counts =  [req for req in request_counts] # dedicated vehicle for each request\n",
    "max_delays = range(2, 11, 1) # 2 to 10 min 1 min step\n",
    "\n",
    "default_config['area_dir'] = f\"{darp_dir_path}/Manhattan\"\n",
    "default_config['map']['place'] = 'Manhattan'\n",
    "default_config['map']['SRID_plane'] = 32618\n",
    "default_config['demand']['min_time'] = 32400 # 9:00\n",
    "default_config['demand']['avg_distance'] = 5000 # 5km\n",
    "default_config['vehicles']['start_time'] = 31800 # 8:50\n",
    "\n",
    "\n",
    "for length, request_count, vehicle_count in zip(lengths, request_counts, vehicle_counts):\n",
    "    for max_delay in max_delays:\n",
    "        default_config['demand']['request_count'] = request_count\n",
    "        default_config['demand']['max_time'] = default_config['demand']['min_time'] + length\n",
    "        default_config['vehicles']['vehicle_count'] = vehicle_count\n",
    "        default_config['instance_params']['max_prolongation'] = max_delay * 60\n",
    "        default_config['instance_params']['time_to_start'] = 120 # this parameter is ignored\n",
    "        instance_dir = path.join(root_path, f\"exp_length_{str(length)}_s-max_delay_{str(max_delay)}\")\n",
    "        os.makedirs(instance_dir, exist_ok=True)\n",
    "        config_path = path.join(instance_dir, \"config.yaml\")\n",
    "        generate_config(default_config, config_path)"
   ],
   "metadata": {
    "collapsed": false
   }
  },
  {
   "cell_type": "markdown",
   "source": [
    "# Prague Instances for testing the VGA chaining capabilities\n",
    "## 10% total demand"
   ],
   "metadata": {
    "collapsed": false
   }
  },
  {
   "cell_type": "code",
   "execution_count": null,
   "outputs": [],
   "source": [],
   "metadata": {
    "collapsed": false
   }
  },
  {
   "cell_type": "markdown",
   "source": [
    "\n",
    "### Max Vehicle"
   ],
   "metadata": {
    "collapsed": false
   }
  },
  {
   "cell_type": "code",
   "execution_count": null,
   "outputs": [],
   "source": [
    "root_path = f'{darp_dir_path}/Manhattan/experiments/max_delay-exp_length_SA'\n",
    "lengths = range(30, 601, 30) # 0,5 to 10 min, 30s step\n",
    "request_counts = [length * 7 for length in lengths] # 100% current taxi demand on Manhattan\n",
    "vehicle_counts =  [req for req in request_counts] # dedicated vehicle for each request\n",
    "max_delays = range(2, 11, 1) # 2 to 10 min 1 min step\n",
    "\n",
    "default_config['area_dir'] = f\"{darp_dir_path}/Manhattan\"\n",
    "default_config['map']['place'] = 'Manhattan'\n",
    "default_config['map']['SRID_plane'] = 32618\n",
    "default_config['demand']['min_time'] = 32400 # 9:00\n",
    "default_config['demand']['avg_distance'] = 5000 # 5km\n",
    "default_config['vehicles']['start_time'] = 31800 # 8:50\n",
    "\n",
    "\n",
    "for length, request_count, vehicle_count in zip(lengths, request_counts, vehicle_counts):\n",
    "    for max_delay in max_delays:\n",
    "        default_config['demand']['request_count'] = request_count\n",
    "        default_config['demand']['max_time'] = default_config['demand']['min_time'] + length\n",
    "        default_config['vehicles']['vehicle_count'] = vehicle_count\n",
    "        default_config['instance_params']['max_prolongation'] = max_delay * 60\n",
    "        default_config['instance_params']['time_to_start'] = 120 # this parameter is ignored\n",
    "        instance_dir = path.join(root_path, f\"exp_length_{str(length)}_s-max_delay_{str(max_delay)}\")\n",
    "        os.makedirs(instance_dir, exist_ok=True)\n",
    "        config_path = path.join(instance_dir, \"config.yaml\")\n",
    "        generate_config(default_config, config_path)"
   ],
   "metadata": {
    "collapsed": false
   }
  },
  {
   "cell_type": "markdown",
   "source": [
    "# Prague Instances for testing the VGA chaining capabilities\n",
    "## 10% total demand"
   ],
   "metadata": {
    "collapsed": false
   }
  },
  {
   "cell_type": "code",
   "execution_count": null,
   "outputs": [],
   "source": [],
   "metadata": {
    "collapsed": false
   }
  },
  {
   "cell_type": "markdown",
   "source": [
    "\n",
    "### Max Vehicle"
   ],
   "metadata": {
    "collapsed": false
   }
  },
  {
   "cell_type": "code",
   "execution_count": null,
   "outputs": [],
   "source": [
    "root_path = f'{darp_dir_path}/Manhattan/experiments/max_delay-exp_length_SA'\n",
    "lengths = range(30, 601, 30) # 0,5 to 10 min, 30s step\n",
    "request_counts = [length * 7 for length in lengths] # 100% current taxi demand on Manhattan\n",
    "vehicle_counts =  [req for req in request_counts] # dedicated vehicle for each request\n",
    "max_delays = range(2, 11, 1) # 2 to 10 min 1 min step\n",
    "\n",
    "default_config['area_dir'] = f\"{darp_dir_path}/Manhattan\"\n",
    "default_config['map']['place'] = 'Manhattan'\n",
    "default_config['map']['SRID_plane'] = 32618\n",
    "default_config['demand']['min_time'] = 32400 # 9:00\n",
    "default_config['demand']['avg_distance'] = 5000 # 5km\n",
    "default_config['vehicles']['start_time'] = 31800 # 8:50\n",
    "\n",
    "\n",
    "for length, request_count, vehicle_count in zip(lengths, request_counts, vehicle_counts):\n",
    "    for max_delay in max_delays:\n",
    "        default_config['demand']['request_count'] = request_count\n",
    "        default_config['demand']['max_time'] = default_config['demand']['min_time'] + length\n",
    "        default_config['vehicles']['vehicle_count'] = vehicle_count\n",
    "        default_config['instance_params']['max_prolongation'] = max_delay * 60\n",
    "        default_config['instance_params']['time_to_start'] = 120 # this parameter is ignored\n",
    "        instance_dir = path.join(root_path, f\"exp_length_{str(length)}_s-max_delay_{str(max_delay)}\")\n",
    "        os.makedirs(instance_dir, exist_ok=True)\n",
    "        config_path = path.join(instance_dir, \"config.yaml\")\n",
    "        generate_config(default_config, config_path)"
   ],
   "metadata": {
    "collapsed": false
   }
  },
  {
   "cell_type": "markdown",
   "source": [
    "# Prague Instances for testing the VGA chaining capabilities\n",
    "## 10% total demand"
   ],
   "metadata": {
    "collapsed": false
   }
  },
  {
   "cell_type": "code",
   "execution_count": null,
   "outputs": [],
   "source": [],
   "metadata": {
    "collapsed": false
   }
  },
  {
   "cell_type": "markdown",
   "source": [
    "\n",
    "### Max Vehicle"
   ],
   "metadata": {
    "collapsed": false
   }
  },
  {
   "cell_type": "code",
   "execution_count": 12,
   "outputs": [
    {
     "name": "stderr",
     "output_type": "stream",
     "text": [
      "18:32:35 [INFO] Saving config to C:/AIC Experiment Data/DARP/Manhattan/experiments/max_delay-exp_length_SA\\exp_length_30_s-max_delay_2\\config.yaml\n",
      "18:32:35 [INFO] Saving config to C:/AIC Experiment Data/DARP/Manhattan/experiments/max_delay-exp_length_SA\\exp_length_30_s-max_delay_3\\config.yaml\n",
      "18:32:35 [INFO] Saving config to C:/AIC Experiment Data/DARP/Manhattan/experiments/max_delay-exp_length_SA\\exp_length_30_s-max_delay_4\\config.yaml\n",
      "18:32:35 [INFO] Saving config to C:/AIC Experiment Data/DARP/Manhattan/experiments/max_delay-exp_length_SA\\exp_length_30_s-max_delay_5\\config.yaml\n",
      "18:32:35 [INFO] Saving config to C:/AIC Experiment Data/DARP/Manhattan/experiments/max_delay-exp_length_SA\\exp_length_30_s-max_delay_6\\config.yaml\n",
      "18:32:35 [INFO] Saving config to C:/AIC Experiment Data/DARP/Manhattan/experiments/max_delay-exp_length_SA\\exp_length_30_s-max_delay_7\\config.yaml\n",
      "18:32:35 [INFO] Saving config to C:/AIC Experiment Data/DARP/Manhattan/experiments/max_delay-exp_length_SA\\exp_length_30_s-max_delay_8\\config.yaml\n",
      "18:32:35 [INFO] Saving config to C:/AIC Experiment Data/DARP/Manhattan/experiments/max_delay-exp_length_SA\\exp_length_30_s-max_delay_9\\config.yaml\n",
      "18:32:35 [INFO] Saving config to C:/AIC Experiment Data/DARP/Manhattan/experiments/max_delay-exp_length_SA\\exp_length_30_s-max_delay_10\\config.yaml\n",
      "18:32:35 [INFO] Saving config to C:/AIC Experiment Data/DARP/Manhattan/experiments/max_delay-exp_length_SA\\exp_length_60_s-max_delay_2\\config.yaml\n",
      "18:32:35 [INFO] Saving config to C:/AIC Experiment Data/DARP/Manhattan/experiments/max_delay-exp_length_SA\\exp_length_60_s-max_delay_3\\config.yaml\n",
      "18:32:35 [INFO] Saving config to C:/AIC Experiment Data/DARP/Manhattan/experiments/max_delay-exp_length_SA\\exp_length_60_s-max_delay_4\\config.yaml\n",
      "18:32:35 [INFO] Saving config to C:/AIC Experiment Data/DARP/Manhattan/experiments/max_delay-exp_length_SA\\exp_length_60_s-max_delay_5\\config.yaml\n",
      "18:32:35 [INFO] Saving config to C:/AIC Experiment Data/DARP/Manhattan/experiments/max_delay-exp_length_SA\\exp_length_60_s-max_delay_6\\config.yaml\n",
      "18:32:35 [INFO] Saving config to C:/AIC Experiment Data/DARP/Manhattan/experiments/max_delay-exp_length_SA\\exp_length_60_s-max_delay_7\\config.yaml\n",
      "18:32:35 [INFO] Saving config to C:/AIC Experiment Data/DARP/Manhattan/experiments/max_delay-exp_length_SA\\exp_length_60_s-max_delay_8\\config.yaml\n",
      "18:32:35 [INFO] Saving config to C:/AIC Experiment Data/DARP/Manhattan/experiments/max_delay-exp_length_SA\\exp_length_60_s-max_delay_9\\config.yaml\n",
      "18:32:35 [INFO] Saving config to C:/AIC Experiment Data/DARP/Manhattan/experiments/max_delay-exp_length_SA\\exp_length_60_s-max_delay_10\\config.yaml\n",
      "18:32:35 [INFO] Saving config to C:/AIC Experiment Data/DARP/Manhattan/experiments/max_delay-exp_length_SA\\exp_length_90_s-max_delay_2\\config.yaml\n",
      "18:32:35 [INFO] Saving config to C:/AIC Experiment Data/DARP/Manhattan/experiments/max_delay-exp_length_SA\\exp_length_90_s-max_delay_3\\config.yaml\n",
      "18:32:35 [INFO] Saving config to C:/AIC Experiment Data/DARP/Manhattan/experiments/max_delay-exp_length_SA\\exp_length_90_s-max_delay_4\\config.yaml\n",
      "18:32:35 [INFO] Saving config to C:/AIC Experiment Data/DARP/Manhattan/experiments/max_delay-exp_length_SA\\exp_length_90_s-max_delay_5\\config.yaml\n",
      "18:32:35 [INFO] Saving config to C:/AIC Experiment Data/DARP/Manhattan/experiments/max_delay-exp_length_SA\\exp_length_90_s-max_delay_6\\config.yaml\n",
      "18:32:35 [INFO] Saving config to C:/AIC Experiment Data/DARP/Manhattan/experiments/max_delay-exp_length_SA\\exp_length_90_s-max_delay_7\\config.yaml\n",
      "18:32:35 [INFO] Saving config to C:/AIC Experiment Data/DARP/Manhattan/experiments/max_delay-exp_length_SA\\exp_length_90_s-max_delay_8\\config.yaml\n",
      "18:32:35 [INFO] Saving config to C:/AIC Experiment Data/DARP/Manhattan/experiments/max_delay-exp_length_SA\\exp_length_90_s-max_delay_9\\config.yaml\n",
      "18:32:35 [INFO] Saving config to C:/AIC Experiment Data/DARP/Manhattan/experiments/max_delay-exp_length_SA\\exp_length_90_s-max_delay_10\\config.yaml\n",
      "18:32:35 [INFO] Saving config to C:/AIC Experiment Data/DARP/Manhattan/experiments/max_delay-exp_length_SA\\exp_length_120_s-max_delay_2\\config.yaml\n",
      "18:32:35 [INFO] Saving config to C:/AIC Experiment Data/DARP/Manhattan/experiments/max_delay-exp_length_SA\\exp_length_120_s-max_delay_3\\config.yaml\n",
      "18:32:35 [INFO] Saving config to C:/AIC Experiment Data/DARP/Manhattan/experiments/max_delay-exp_length_SA\\exp_length_120_s-max_delay_4\\config.yaml\n",
      "18:32:35 [INFO] Saving config to C:/AIC Experiment Data/DARP/Manhattan/experiments/max_delay-exp_length_SA\\exp_length_120_s-max_delay_5\\config.yaml\n",
      "18:32:35 [INFO] Saving config to C:/AIC Experiment Data/DARP/Manhattan/experiments/max_delay-exp_length_SA\\exp_length_120_s-max_delay_6\\config.yaml\n",
      "18:32:35 [INFO] Saving config to C:/AIC Experiment Data/DARP/Manhattan/experiments/max_delay-exp_length_SA\\exp_length_120_s-max_delay_7\\config.yaml\n",
      "18:32:35 [INFO] Saving config to C:/AIC Experiment Data/DARP/Manhattan/experiments/max_delay-exp_length_SA\\exp_length_120_s-max_delay_8\\config.yaml\n",
      "18:32:35 [INFO] Saving config to C:/AIC Experiment Data/DARP/Manhattan/experiments/max_delay-exp_length_SA\\exp_length_120_s-max_delay_9\\config.yaml\n",
      "18:32:35 [INFO] Saving config to C:/AIC Experiment Data/DARP/Manhattan/experiments/max_delay-exp_length_SA\\exp_length_120_s-max_delay_10\\config.yaml\n",
      "18:32:35 [INFO] Saving config to C:/AIC Experiment Data/DARP/Manhattan/experiments/max_delay-exp_length_SA\\exp_length_150_s-max_delay_2\\config.yaml\n",
      "18:32:35 [INFO] Saving config to C:/AIC Experiment Data/DARP/Manhattan/experiments/max_delay-exp_length_SA\\exp_length_150_s-max_delay_3\\config.yaml\n",
      "18:32:35 [INFO] Saving config to C:/AIC Experiment Data/DARP/Manhattan/experiments/max_delay-exp_length_SA\\exp_length_150_s-max_delay_4\\config.yaml\n",
      "18:32:35 [INFO] Saving config to C:/AIC Experiment Data/DARP/Manhattan/experiments/max_delay-exp_length_SA\\exp_length_150_s-max_delay_5\\config.yaml\n",
      "18:32:35 [INFO] Saving config to C:/AIC Experiment Data/DARP/Manhattan/experiments/max_delay-exp_length_SA\\exp_length_150_s-max_delay_6\\config.yaml\n",
      "18:32:35 [INFO] Saving config to C:/AIC Experiment Data/DARP/Manhattan/experiments/max_delay-exp_length_SA\\exp_length_150_s-max_delay_7\\config.yaml\n",
      "18:32:35 [INFO] Saving config to C:/AIC Experiment Data/DARP/Manhattan/experiments/max_delay-exp_length_SA\\exp_length_150_s-max_delay_8\\config.yaml\n",
      "18:32:35 [INFO] Saving config to C:/AIC Experiment Data/DARP/Manhattan/experiments/max_delay-exp_length_SA\\exp_length_150_s-max_delay_9\\config.yaml\n",
      "18:32:35 [INFO] Saving config to C:/AIC Experiment Data/DARP/Manhattan/experiments/max_delay-exp_length_SA\\exp_length_150_s-max_delay_10\\config.yaml\n",
      "18:32:35 [INFO] Saving config to C:/AIC Experiment Data/DARP/Manhattan/experiments/max_delay-exp_length_SA\\exp_length_180_s-max_delay_2\\config.yaml\n",
      "18:32:35 [INFO] Saving config to C:/AIC Experiment Data/DARP/Manhattan/experiments/max_delay-exp_length_SA\\exp_length_180_s-max_delay_3\\config.yaml\n",
      "18:32:35 [INFO] Saving config to C:/AIC Experiment Data/DARP/Manhattan/experiments/max_delay-exp_length_SA\\exp_length_180_s-max_delay_4\\config.yaml\n",
      "18:32:35 [INFO] Saving config to C:/AIC Experiment Data/DARP/Manhattan/experiments/max_delay-exp_length_SA\\exp_length_180_s-max_delay_5\\config.yaml\n",
      "18:32:35 [INFO] Saving config to C:/AIC Experiment Data/DARP/Manhattan/experiments/max_delay-exp_length_SA\\exp_length_180_s-max_delay_6\\config.yaml\n",
      "18:32:35 [INFO] Saving config to C:/AIC Experiment Data/DARP/Manhattan/experiments/max_delay-exp_length_SA\\exp_length_180_s-max_delay_7\\config.yaml\n",
      "18:32:35 [INFO] Saving config to C:/AIC Experiment Data/DARP/Manhattan/experiments/max_delay-exp_length_SA\\exp_length_180_s-max_delay_8\\config.yaml\n",
      "18:32:35 [INFO] Saving config to C:/AIC Experiment Data/DARP/Manhattan/experiments/max_delay-exp_length_SA\\exp_length_180_s-max_delay_9\\config.yaml\n",
      "18:32:35 [INFO] Saving config to C:/AIC Experiment Data/DARP/Manhattan/experiments/max_delay-exp_length_SA\\exp_length_180_s-max_delay_10\\config.yaml\n",
      "18:32:35 [INFO] Saving config to C:/AIC Experiment Data/DARP/Manhattan/experiments/max_delay-exp_length_SA\\exp_length_210_s-max_delay_2\\config.yaml\n",
      "18:32:35 [INFO] Saving config to C:/AIC Experiment Data/DARP/Manhattan/experiments/max_delay-exp_length_SA\\exp_length_210_s-max_delay_3\\config.yaml\n",
      "18:32:35 [INFO] Saving config to C:/AIC Experiment Data/DARP/Manhattan/experiments/max_delay-exp_length_SA\\exp_length_210_s-max_delay_4\\config.yaml\n",
      "18:32:35 [INFO] Saving config to C:/AIC Experiment Data/DARP/Manhattan/experiments/max_delay-exp_length_SA\\exp_length_210_s-max_delay_5\\config.yaml\n",
      "18:32:35 [INFO] Saving config to C:/AIC Experiment Data/DARP/Manhattan/experiments/max_delay-exp_length_SA\\exp_length_210_s-max_delay_6\\config.yaml\n",
      "18:32:35 [INFO] Saving config to C:/AIC Experiment Data/DARP/Manhattan/experiments/max_delay-exp_length_SA\\exp_length_210_s-max_delay_7\\config.yaml\n",
      "18:32:35 [INFO] Saving config to C:/AIC Experiment Data/DARP/Manhattan/experiments/max_delay-exp_length_SA\\exp_length_210_s-max_delay_8\\config.yaml\n",
      "18:32:35 [INFO] Saving config to C:/AIC Experiment Data/DARP/Manhattan/experiments/max_delay-exp_length_SA\\exp_length_210_s-max_delay_9\\config.yaml\n",
      "18:32:35 [INFO] Saving config to C:/AIC Experiment Data/DARP/Manhattan/experiments/max_delay-exp_length_SA\\exp_length_210_s-max_delay_10\\config.yaml\n",
      "18:32:35 [INFO] Saving config to C:/AIC Experiment Data/DARP/Manhattan/experiments/max_delay-exp_length_SA\\exp_length_240_s-max_delay_2\\config.yaml\n",
      "18:32:35 [INFO] Saving config to C:/AIC Experiment Data/DARP/Manhattan/experiments/max_delay-exp_length_SA\\exp_length_240_s-max_delay_3\\config.yaml\n",
      "18:32:35 [INFO] Saving config to C:/AIC Experiment Data/DARP/Manhattan/experiments/max_delay-exp_length_SA\\exp_length_240_s-max_delay_4\\config.yaml\n",
      "18:32:35 [INFO] Saving config to C:/AIC Experiment Data/DARP/Manhattan/experiments/max_delay-exp_length_SA\\exp_length_240_s-max_delay_5\\config.yaml\n",
      "18:32:35 [INFO] Saving config to C:/AIC Experiment Data/DARP/Manhattan/experiments/max_delay-exp_length_SA\\exp_length_240_s-max_delay_6\\config.yaml\n",
      "18:32:35 [INFO] Saving config to C:/AIC Experiment Data/DARP/Manhattan/experiments/max_delay-exp_length_SA\\exp_length_240_s-max_delay_7\\config.yaml\n",
      "18:32:35 [INFO] Saving config to C:/AIC Experiment Data/DARP/Manhattan/experiments/max_delay-exp_length_SA\\exp_length_240_s-max_delay_8\\config.yaml\n",
      "18:32:35 [INFO] Saving config to C:/AIC Experiment Data/DARP/Manhattan/experiments/max_delay-exp_length_SA\\exp_length_240_s-max_delay_9\\config.yaml\n",
      "18:32:35 [INFO] Saving config to C:/AIC Experiment Data/DARP/Manhattan/experiments/max_delay-exp_length_SA\\exp_length_240_s-max_delay_10\\config.yaml\n",
      "18:32:35 [INFO] Saving config to C:/AIC Experiment Data/DARP/Manhattan/experiments/max_delay-exp_length_SA\\exp_length_270_s-max_delay_2\\config.yaml\n",
      "18:32:35 [INFO] Saving config to C:/AIC Experiment Data/DARP/Manhattan/experiments/max_delay-exp_length_SA\\exp_length_270_s-max_delay_3\\config.yaml\n",
      "18:32:35 [INFO] Saving config to C:/AIC Experiment Data/DARP/Manhattan/experiments/max_delay-exp_length_SA\\exp_length_270_s-max_delay_4\\config.yaml\n",
      "18:32:35 [INFO] Saving config to C:/AIC Experiment Data/DARP/Manhattan/experiments/max_delay-exp_length_SA\\exp_length_270_s-max_delay_5\\config.yaml\n",
      "18:32:35 [INFO] Saving config to C:/AIC Experiment Data/DARP/Manhattan/experiments/max_delay-exp_length_SA\\exp_length_270_s-max_delay_6\\config.yaml\n",
      "18:32:35 [INFO] Saving config to C:/AIC Experiment Data/DARP/Manhattan/experiments/max_delay-exp_length_SA\\exp_length_270_s-max_delay_7\\config.yaml\n",
      "18:32:35 [INFO] Saving config to C:/AIC Experiment Data/DARP/Manhattan/experiments/max_delay-exp_length_SA\\exp_length_270_s-max_delay_8\\config.yaml\n",
      "18:32:35 [INFO] Saving config to C:/AIC Experiment Data/DARP/Manhattan/experiments/max_delay-exp_length_SA\\exp_length_270_s-max_delay_9\\config.yaml\n",
      "18:32:35 [INFO] Saving config to C:/AIC Experiment Data/DARP/Manhattan/experiments/max_delay-exp_length_SA\\exp_length_270_s-max_delay_10\\config.yaml\n",
      "18:32:35 [INFO] Saving config to C:/AIC Experiment Data/DARP/Manhattan/experiments/max_delay-exp_length_SA\\exp_length_300_s-max_delay_2\\config.yaml\n",
      "18:32:35 [INFO] Saving config to C:/AIC Experiment Data/DARP/Manhattan/experiments/max_delay-exp_length_SA\\exp_length_300_s-max_delay_3\\config.yaml\n",
      "18:32:35 [INFO] Saving config to C:/AIC Experiment Data/DARP/Manhattan/experiments/max_delay-exp_length_SA\\exp_length_300_s-max_delay_4\\config.yaml\n",
      "18:32:35 [INFO] Saving config to C:/AIC Experiment Data/DARP/Manhattan/experiments/max_delay-exp_length_SA\\exp_length_300_s-max_delay_5\\config.yaml\n",
      "18:32:35 [INFO] Saving config to C:/AIC Experiment Data/DARP/Manhattan/experiments/max_delay-exp_length_SA\\exp_length_300_s-max_delay_6\\config.yaml\n",
      "18:32:35 [INFO] Saving config to C:/AIC Experiment Data/DARP/Manhattan/experiments/max_delay-exp_length_SA\\exp_length_300_s-max_delay_7\\config.yaml\n",
      "18:32:35 [INFO] Saving config to C:/AIC Experiment Data/DARP/Manhattan/experiments/max_delay-exp_length_SA\\exp_length_300_s-max_delay_8\\config.yaml\n",
      "18:32:35 [INFO] Saving config to C:/AIC Experiment Data/DARP/Manhattan/experiments/max_delay-exp_length_SA\\exp_length_300_s-max_delay_9\\config.yaml\n",
      "18:32:35 [INFO] Saving config to C:/AIC Experiment Data/DARP/Manhattan/experiments/max_delay-exp_length_SA\\exp_length_300_s-max_delay_10\\config.yaml\n",
      "18:32:35 [INFO] Saving config to C:/AIC Experiment Data/DARP/Manhattan/experiments/max_delay-exp_length_SA\\exp_length_330_s-max_delay_2\\config.yaml\n",
      "18:32:35 [INFO] Saving config to C:/AIC Experiment Data/DARP/Manhattan/experiments/max_delay-exp_length_SA\\exp_length_330_s-max_delay_3\\config.yaml\n",
      "18:32:35 [INFO] Saving config to C:/AIC Experiment Data/DARP/Manhattan/experiments/max_delay-exp_length_SA\\exp_length_330_s-max_delay_4\\config.yaml\n",
      "18:32:35 [INFO] Saving config to C:/AIC Experiment Data/DARP/Manhattan/experiments/max_delay-exp_length_SA\\exp_length_330_s-max_delay_5\\config.yaml\n",
      "18:32:35 [INFO] Saving config to C:/AIC Experiment Data/DARP/Manhattan/experiments/max_delay-exp_length_SA\\exp_length_330_s-max_delay_6\\config.yaml\n",
      "18:32:35 [INFO] Saving config to C:/AIC Experiment Data/DARP/Manhattan/experiments/max_delay-exp_length_SA\\exp_length_330_s-max_delay_7\\config.yaml\n",
      "18:32:35 [INFO] Saving config to C:/AIC Experiment Data/DARP/Manhattan/experiments/max_delay-exp_length_SA\\exp_length_330_s-max_delay_8\\config.yaml\n",
      "18:32:35 [INFO] Saving config to C:/AIC Experiment Data/DARP/Manhattan/experiments/max_delay-exp_length_SA\\exp_length_330_s-max_delay_9\\config.yaml\n",
      "18:32:35 [INFO] Saving config to C:/AIC Experiment Data/DARP/Manhattan/experiments/max_delay-exp_length_SA\\exp_length_330_s-max_delay_10\\config.yaml\n",
      "18:32:35 [INFO] Saving config to C:/AIC Experiment Data/DARP/Manhattan/experiments/max_delay-exp_length_SA\\exp_length_360_s-max_delay_2\\config.yaml\n",
      "18:32:35 [INFO] Saving config to C:/AIC Experiment Data/DARP/Manhattan/experiments/max_delay-exp_length_SA\\exp_length_360_s-max_delay_3\\config.yaml\n",
      "18:32:35 [INFO] Saving config to C:/AIC Experiment Data/DARP/Manhattan/experiments/max_delay-exp_length_SA\\exp_length_360_s-max_delay_4\\config.yaml\n",
      "18:32:35 [INFO] Saving config to C:/AIC Experiment Data/DARP/Manhattan/experiments/max_delay-exp_length_SA\\exp_length_360_s-max_delay_5\\config.yaml\n",
      "18:32:35 [INFO] Saving config to C:/AIC Experiment Data/DARP/Manhattan/experiments/max_delay-exp_length_SA\\exp_length_360_s-max_delay_6\\config.yaml\n",
      "18:32:35 [INFO] Saving config to C:/AIC Experiment Data/DARP/Manhattan/experiments/max_delay-exp_length_SA\\exp_length_360_s-max_delay_7\\config.yaml\n",
      "18:32:35 [INFO] Saving config to C:/AIC Experiment Data/DARP/Manhattan/experiments/max_delay-exp_length_SA\\exp_length_360_s-max_delay_8\\config.yaml\n",
      "18:32:35 [INFO] Saving config to C:/AIC Experiment Data/DARP/Manhattan/experiments/max_delay-exp_length_SA\\exp_length_360_s-max_delay_9\\config.yaml\n",
      "18:32:35 [INFO] Saving config to C:/AIC Experiment Data/DARP/Manhattan/experiments/max_delay-exp_length_SA\\exp_length_360_s-max_delay_10\\config.yaml\n",
      "18:32:35 [INFO] Saving config to C:/AIC Experiment Data/DARP/Manhattan/experiments/max_delay-exp_length_SA\\exp_length_390_s-max_delay_2\\config.yaml\n",
      "18:32:35 [INFO] Saving config to C:/AIC Experiment Data/DARP/Manhattan/experiments/max_delay-exp_length_SA\\exp_length_390_s-max_delay_3\\config.yaml\n",
      "18:32:35 [INFO] Saving config to C:/AIC Experiment Data/DARP/Manhattan/experiments/max_delay-exp_length_SA\\exp_length_390_s-max_delay_4\\config.yaml\n",
      "18:32:35 [INFO] Saving config to C:/AIC Experiment Data/DARP/Manhattan/experiments/max_delay-exp_length_SA\\exp_length_390_s-max_delay_5\\config.yaml\n",
      "18:32:35 [INFO] Saving config to C:/AIC Experiment Data/DARP/Manhattan/experiments/max_delay-exp_length_SA\\exp_length_390_s-max_delay_6\\config.yaml\n",
      "18:32:35 [INFO] Saving config to C:/AIC Experiment Data/DARP/Manhattan/experiments/max_delay-exp_length_SA\\exp_length_390_s-max_delay_7\\config.yaml\n",
      "18:32:35 [INFO] Saving config to C:/AIC Experiment Data/DARP/Manhattan/experiments/max_delay-exp_length_SA\\exp_length_390_s-max_delay_8\\config.yaml\n",
      "18:32:35 [INFO] Saving config to C:/AIC Experiment Data/DARP/Manhattan/experiments/max_delay-exp_length_SA\\exp_length_390_s-max_delay_9\\config.yaml\n",
      "18:32:35 [INFO] Saving config to C:/AIC Experiment Data/DARP/Manhattan/experiments/max_delay-exp_length_SA\\exp_length_390_s-max_delay_10\\config.yaml\n",
      "18:32:35 [INFO] Saving config to C:/AIC Experiment Data/DARP/Manhattan/experiments/max_delay-exp_length_SA\\exp_length_420_s-max_delay_2\\config.yaml\n",
      "18:32:35 [INFO] Saving config to C:/AIC Experiment Data/DARP/Manhattan/experiments/max_delay-exp_length_SA\\exp_length_420_s-max_delay_3\\config.yaml\n",
      "18:32:35 [INFO] Saving config to C:/AIC Experiment Data/DARP/Manhattan/experiments/max_delay-exp_length_SA\\exp_length_420_s-max_delay_4\\config.yaml\n",
      "18:32:35 [INFO] Saving config to C:/AIC Experiment Data/DARP/Manhattan/experiments/max_delay-exp_length_SA\\exp_length_420_s-max_delay_5\\config.yaml\n",
      "18:32:35 [INFO] Saving config to C:/AIC Experiment Data/DARP/Manhattan/experiments/max_delay-exp_length_SA\\exp_length_420_s-max_delay_6\\config.yaml\n",
      "18:32:35 [INFO] Saving config to C:/AIC Experiment Data/DARP/Manhattan/experiments/max_delay-exp_length_SA\\exp_length_420_s-max_delay_7\\config.yaml\n",
      "18:32:35 [INFO] Saving config to C:/AIC Experiment Data/DARP/Manhattan/experiments/max_delay-exp_length_SA\\exp_length_420_s-max_delay_8\\config.yaml\n",
      "18:32:35 [INFO] Saving config to C:/AIC Experiment Data/DARP/Manhattan/experiments/max_delay-exp_length_SA\\exp_length_420_s-max_delay_9\\config.yaml\n",
      "18:32:35 [INFO] Saving config to C:/AIC Experiment Data/DARP/Manhattan/experiments/max_delay-exp_length_SA\\exp_length_420_s-max_delay_10\\config.yaml\n",
      "18:32:35 [INFO] Saving config to C:/AIC Experiment Data/DARP/Manhattan/experiments/max_delay-exp_length_SA\\exp_length_450_s-max_delay_2\\config.yaml\n",
      "18:32:35 [INFO] Saving config to C:/AIC Experiment Data/DARP/Manhattan/experiments/max_delay-exp_length_SA\\exp_length_450_s-max_delay_3\\config.yaml\n",
      "18:32:35 [INFO] Saving config to C:/AIC Experiment Data/DARP/Manhattan/experiments/max_delay-exp_length_SA\\exp_length_450_s-max_delay_4\\config.yaml\n",
      "18:32:35 [INFO] Saving config to C:/AIC Experiment Data/DARP/Manhattan/experiments/max_delay-exp_length_SA\\exp_length_450_s-max_delay_5\\config.yaml\n",
      "18:32:35 [INFO] Saving config to C:/AIC Experiment Data/DARP/Manhattan/experiments/max_delay-exp_length_SA\\exp_length_450_s-max_delay_6\\config.yaml\n",
      "18:32:35 [INFO] Saving config to C:/AIC Experiment Data/DARP/Manhattan/experiments/max_delay-exp_length_SA\\exp_length_450_s-max_delay_7\\config.yaml\n",
      "18:32:35 [INFO] Saving config to C:/AIC Experiment Data/DARP/Manhattan/experiments/max_delay-exp_length_SA\\exp_length_450_s-max_delay_8\\config.yaml\n",
      "18:32:35 [INFO] Saving config to C:/AIC Experiment Data/DARP/Manhattan/experiments/max_delay-exp_length_SA\\exp_length_450_s-max_delay_9\\config.yaml\n",
      "18:32:35 [INFO] Saving config to C:/AIC Experiment Data/DARP/Manhattan/experiments/max_delay-exp_length_SA\\exp_length_450_s-max_delay_10\\config.yaml\n",
      "18:32:35 [INFO] Saving config to C:/AIC Experiment Data/DARP/Manhattan/experiments/max_delay-exp_length_SA\\exp_length_480_s-max_delay_2\\config.yaml\n",
      "18:32:35 [INFO] Saving config to C:/AIC Experiment Data/DARP/Manhattan/experiments/max_delay-exp_length_SA\\exp_length_480_s-max_delay_3\\config.yaml\n",
      "18:32:35 [INFO] Saving config to C:/AIC Experiment Data/DARP/Manhattan/experiments/max_delay-exp_length_SA\\exp_length_480_s-max_delay_4\\config.yaml\n",
      "18:32:35 [INFO] Saving config to C:/AIC Experiment Data/DARP/Manhattan/experiments/max_delay-exp_length_SA\\exp_length_480_s-max_delay_5\\config.yaml\n",
      "18:32:35 [INFO] Saving config to C:/AIC Experiment Data/DARP/Manhattan/experiments/max_delay-exp_length_SA\\exp_length_480_s-max_delay_6\\config.yaml\n",
      "18:32:35 [INFO] Saving config to C:/AIC Experiment Data/DARP/Manhattan/experiments/max_delay-exp_length_SA\\exp_length_480_s-max_delay_7\\config.yaml\n",
      "18:32:35 [INFO] Saving config to C:/AIC Experiment Data/DARP/Manhattan/experiments/max_delay-exp_length_SA\\exp_length_480_s-max_delay_8\\config.yaml\n",
      "18:32:35 [INFO] Saving config to C:/AIC Experiment Data/DARP/Manhattan/experiments/max_delay-exp_length_SA\\exp_length_480_s-max_delay_9\\config.yaml\n",
      "18:32:35 [INFO] Saving config to C:/AIC Experiment Data/DARP/Manhattan/experiments/max_delay-exp_length_SA\\exp_length_480_s-max_delay_10\\config.yaml\n",
      "18:32:35 [INFO] Saving config to C:/AIC Experiment Data/DARP/Manhattan/experiments/max_delay-exp_length_SA\\exp_length_510_s-max_delay_2\\config.yaml\n",
      "18:32:35 [INFO] Saving config to C:/AIC Experiment Data/DARP/Manhattan/experiments/max_delay-exp_length_SA\\exp_length_510_s-max_delay_3\\config.yaml\n",
      "18:32:35 [INFO] Saving config to C:/AIC Experiment Data/DARP/Manhattan/experiments/max_delay-exp_length_SA\\exp_length_510_s-max_delay_4\\config.yaml\n",
      "18:32:35 [INFO] Saving config to C:/AIC Experiment Data/DARP/Manhattan/experiments/max_delay-exp_length_SA\\exp_length_510_s-max_delay_5\\config.yaml\n",
      "18:32:35 [INFO] Saving config to C:/AIC Experiment Data/DARP/Manhattan/experiments/max_delay-exp_length_SA\\exp_length_510_s-max_delay_6\\config.yaml\n",
      "18:32:35 [INFO] Saving config to C:/AIC Experiment Data/DARP/Manhattan/experiments/max_delay-exp_length_SA\\exp_length_510_s-max_delay_7\\config.yaml\n",
      "18:32:35 [INFO] Saving config to C:/AIC Experiment Data/DARP/Manhattan/experiments/max_delay-exp_length_SA\\exp_length_510_s-max_delay_8\\config.yaml\n",
      "18:32:35 [INFO] Saving config to C:/AIC Experiment Data/DARP/Manhattan/experiments/max_delay-exp_length_SA\\exp_length_510_s-max_delay_9\\config.yaml\n",
      "18:32:35 [INFO] Saving config to C:/AIC Experiment Data/DARP/Manhattan/experiments/max_delay-exp_length_SA\\exp_length_510_s-max_delay_10\\config.yaml\n",
      "18:32:36 [INFO] Saving config to C:/AIC Experiment Data/DARP/Manhattan/experiments/max_delay-exp_length_SA\\exp_length_540_s-max_delay_2\\config.yaml\n",
      "18:32:36 [INFO] Saving config to C:/AIC Experiment Data/DARP/Manhattan/experiments/max_delay-exp_length_SA\\exp_length_540_s-max_delay_3\\config.yaml\n",
      "18:32:36 [INFO] Saving config to C:/AIC Experiment Data/DARP/Manhattan/experiments/max_delay-exp_length_SA\\exp_length_540_s-max_delay_4\\config.yaml\n",
      "18:32:36 [INFO] Saving config to C:/AIC Experiment Data/DARP/Manhattan/experiments/max_delay-exp_length_SA\\exp_length_540_s-max_delay_5\\config.yaml\n",
      "18:32:36 [INFO] Saving config to C:/AIC Experiment Data/DARP/Manhattan/experiments/max_delay-exp_length_SA\\exp_length_540_s-max_delay_6\\config.yaml\n",
      "18:32:36 [INFO] Saving config to C:/AIC Experiment Data/DARP/Manhattan/experiments/max_delay-exp_length_SA\\exp_length_540_s-max_delay_7\\config.yaml\n",
      "18:32:36 [INFO] Saving config to C:/AIC Experiment Data/DARP/Manhattan/experiments/max_delay-exp_length_SA\\exp_length_540_s-max_delay_8\\config.yaml\n",
      "18:32:36 [INFO] Saving config to C:/AIC Experiment Data/DARP/Manhattan/experiments/max_delay-exp_length_SA\\exp_length_540_s-max_delay_9\\config.yaml\n",
      "18:32:36 [INFO] Saving config to C:/AIC Experiment Data/DARP/Manhattan/experiments/max_delay-exp_length_SA\\exp_length_540_s-max_delay_10\\config.yaml\n",
      "18:32:36 [INFO] Saving config to C:/AIC Experiment Data/DARP/Manhattan/experiments/max_delay-exp_length_SA\\exp_length_570_s-max_delay_2\\config.yaml\n",
      "18:32:36 [INFO] Saving config to C:/AIC Experiment Data/DARP/Manhattan/experiments/max_delay-exp_length_SA\\exp_length_570_s-max_delay_3\\config.yaml\n",
      "18:32:36 [INFO] Saving config to C:/AIC Experiment Data/DARP/Manhattan/experiments/max_delay-exp_length_SA\\exp_length_570_s-max_delay_4\\config.yaml\n",
      "18:32:36 [INFO] Saving config to C:/AIC Experiment Data/DARP/Manhattan/experiments/max_delay-exp_length_SA\\exp_length_570_s-max_delay_5\\config.yaml\n",
      "18:32:36 [INFO] Saving config to C:/AIC Experiment Data/DARP/Manhattan/experiments/max_delay-exp_length_SA\\exp_length_570_s-max_delay_6\\config.yaml\n",
      "18:32:36 [INFO] Saving config to C:/AIC Experiment Data/DARP/Manhattan/experiments/max_delay-exp_length_SA\\exp_length_570_s-max_delay_7\\config.yaml\n",
      "18:32:36 [INFO] Saving config to C:/AIC Experiment Data/DARP/Manhattan/experiments/max_delay-exp_length_SA\\exp_length_570_s-max_delay_8\\config.yaml\n",
      "18:32:36 [INFO] Saving config to C:/AIC Experiment Data/DARP/Manhattan/experiments/max_delay-exp_length_SA\\exp_length_570_s-max_delay_9\\config.yaml\n",
      "18:32:36 [INFO] Saving config to C:/AIC Experiment Data/DARP/Manhattan/experiments/max_delay-exp_length_SA\\exp_length_570_s-max_delay_10\\config.yaml\n",
      "18:32:36 [INFO] Saving config to C:/AIC Experiment Data/DARP/Manhattan/experiments/max_delay-exp_length_SA\\exp_length_600_s-max_delay_2\\config.yaml\n",
      "18:32:36 [INFO] Saving config to C:/AIC Experiment Data/DARP/Manhattan/experiments/max_delay-exp_length_SA\\exp_length_600_s-max_delay_3\\config.yaml\n",
      "18:32:36 [INFO] Saving config to C:/AIC Experiment Data/DARP/Manhattan/experiments/max_delay-exp_length_SA\\exp_length_600_s-max_delay_4\\config.yaml\n",
      "18:32:36 [INFO] Saving config to C:/AIC Experiment Data/DARP/Manhattan/experiments/max_delay-exp_length_SA\\exp_length_600_s-max_delay_5\\config.yaml\n",
      "18:32:36 [INFO] Saving config to C:/AIC Experiment Data/DARP/Manhattan/experiments/max_delay-exp_length_SA\\exp_length_600_s-max_delay_6\\config.yaml\n",
      "18:32:36 [INFO] Saving config to C:/AIC Experiment Data/DARP/Manhattan/experiments/max_delay-exp_length_SA\\exp_length_600_s-max_delay_7\\config.yaml\n",
      "18:32:36 [INFO] Saving config to C:/AIC Experiment Data/DARP/Manhattan/experiments/max_delay-exp_length_SA\\exp_length_600_s-max_delay_8\\config.yaml\n",
      "18:32:36 [INFO] Saving config to C:/AIC Experiment Data/DARP/Manhattan/experiments/max_delay-exp_length_SA\\exp_length_600_s-max_delay_9\\config.yaml\n",
      "18:32:36 [INFO] Saving config to C:/AIC Experiment Data/DARP/Manhattan/experiments/max_delay-exp_length_SA\\exp_length_600_s-max_delay_10\\config.yaml\n"
     ]
    }
   ],
   "source": [
    "root_path = f'{darp_dir_path}/Manhattan/experiments/max_delay-exp_length_SA'\n",
    "lengths = range(30, 601, 30) # 0,5 to 10 min, 30s step\n",
    "request_counts = [length * 7 for length in lengths] # 100% current taxi demand on Manhattan\n",
    "vehicle_counts =  [req for req in request_counts] # dedicated vehicle for each request\n",
    "max_delays = range(2, 11, 1) # 2 to 10 min 1 min step\n",
    "\n",
    "default_config['area_dir'] = f\"{darp_dir_path}/Manhattan\"\n",
    "default_config['map']['place'] = 'Manhattan'\n",
    "default_config['map']['SRID_plane'] = 32618\n",
    "default_config['demand']['min_time'] = 32400 # 9:00\n",
    "default_config['demand']['avg_distance'] = 5000 # 5km\n",
    "default_config['vehicles']['start_time'] = 31800 # 8:50\n",
    "\n",
    "\n",
    "for length, request_count, vehicle_count in zip(lengths, request_counts, vehicle_counts):\n",
    "    for max_delay in max_delays:\n",
    "        default_config['demand']['request_count'] = request_count\n",
    "        default_config['demand']['max_time'] = default_config['demand']['min_time'] + length\n",
    "        default_config['vehicles']['vehicle_count'] = vehicle_count\n",
    "        default_config['instance_params']['max_prolongation'] = max_delay * 60\n",
    "        default_config['instance_params']['time_to_start'] = 120 # this parameter is ignored\n",
    "        instance_dir = path.join(root_path, f\"exp_length_{str(length)}_s-max_delay_{str(max_delay)}\")\n",
    "        os.makedirs(instance_dir, exist_ok=True)\n",
    "        config_path = path.join(instance_dir, \"config.yaml\")\n",
    "        generate_config(default_config, config_path)"
   ],
   "metadata": {
    "collapsed": false
   }
  },
  {
   "cell_type": "markdown",
   "source": [
    "# Prague Instances for testing the VGA chaining capabilities\n",
    "## 10% total demand"
   ],
   "metadata": {
    "collapsed": false
   }
  },
  {
   "cell_type": "code",
   "execution_count": 20,
   "outputs": [],
   "source": [
    "root_path = f'{darp_dir_path}/Prague/experiments/initial_set'\n",
    "\n",
    "lengths = np.array(range(2, 21, 2)) # in minutes\n",
    "request_counts = [length * 70 for length in lengths]\n",
    "vehicle_counts = [length * 60 for length in lengths]\n",
    "\n",
    "lengths = lengths * 60\n",
    "\n",
    "default_config['area_dir'] = f\"{darp_dir_path}/Prague\"\n",
    "default_config['map']['place'] = 'Prague'\n",
    "default_config['map']['SRID_plane'] = 3310\n",
    "default_config['demand']['min_time'] = 25200\n",
    "default_config['demand']['avg_distance'] = 10000\n",
    "default_config['vehicles']['start_time'] = 24600\n",
    "default_config['instance_params']['max_prolongation'] = 180\n",
    "default_config['instance_params']['time_to_start'] = 120"
   ],
   "metadata": {
    "collapsed": false
   }
  },
  {
   "cell_type": "markdown",
   "source": [
    "## 50% total demand"
   ],
   "metadata": {
    "collapsed": false
   }
  },
  {
   "cell_type": "code",
   "execution_count": 23,
   "outputs": [],
   "source": [
    "root_path = f'{darp_dir_path}/Prague/experiments/50_percend_demand_2_to_20_min'\n",
    "\n",
    "lengths = np.array(range(2, 21, 2)) # in minutes\n",
    "request_counts = [length * 350 for length in lengths]\n",
    "vehicle_counts = [length * 350 for length in lengths]\n",
    "\n",
    "lengths = lengths * 60\n",
    "\n",
    "default_config['area_dir'] = f\"{darp_dir_path}/Prague\"\n",
    "default_config['map']['place'] = 'Prague'\n",
    "default_config['map']['SRID_plane'] = 3310\n",
    "default_config['demand']['min_time'] = 25200\n",
    "default_config['demand']['avg_distance'] = 10000\n",
    "default_config['vehicles']['start_time'] = 24600\n",
    "default_config['instance_params']['max_prolongation'] = 180\n",
    "default_config['instance_params']['time_to_start'] = 120"
   ],
   "metadata": {
    "collapsed": false
   }
  },
  {
   "cell_type": "markdown",
   "source": [
    "## 100% demand"
   ],
   "metadata": {
    "collapsed": false
   }
  },
  {
   "cell_type": "code",
   "execution_count": 6,
   "outputs": [],
   "source": [
    "root_path = f'{darp_dir_path}/Prague/experiments/2_to_20_min'\n",
    "\n",
    "lengths = np.array(range(2, 21, 2)) # in minutes\n",
    "request_counts = [length * 700 for length in lengths]\n",
    "vehicle_counts = [length * 700 for length in lengths]\n",
    "\n",
    "lengths = lengths * 60\n",
    "\n",
    "default_config['area_dir'] = f\"{darp_dir_path}/Prague\"\n",
    "default_config['map']['place'] = 'Prague'\n",
    "default_config['map']['SRID_plane'] = 3310\n",
    "default_config['demand']['min_time'] = 25200\n",
    "default_config['demand']['avg_distance'] = 10000\n",
    "default_config['vehicles']['start_time'] = 24600\n",
    "default_config['instance_params']['max_prolongation'] = 180\n",
    "default_config['instance_params']['time_to_start'] = 120"
   ],
   "metadata": {
    "collapsed": false
   }
  },
  {
   "cell_type": "markdown",
   "source": [
    "## 100% demand 10-20 min half vehicles"
   ],
   "metadata": {
    "collapsed": false
   }
  },
  {
   "cell_type": "code",
   "execution_count": 8,
   "outputs": [],
   "source": [
    "root_path = f'{darp_dir_path}/Prague/experiments/10_to_20_min_half_vehicles'\n",
    "\n",
    "lengths = np.array(range(10, 21, 2)) # in minutes\n",
    "request_counts = [length * 700 for length in lengths]\n",
    "vehicle_counts = [length * 350 for length in lengths]\n",
    "\n",
    "lengths = lengths * 60\n",
    "\n",
    "default_config['area_dir'] = f\"{darp_dir_path}/Prague\"\n",
    "default_config['map']['place'] = 'Prague'\n",
    "default_config['map']['SRID_plane'] = 3310\n",
    "default_config['demand']['min_time'] = 25200\n",
    "default_config['demand']['avg_distance'] = 10000\n",
    "default_config['vehicles']['start_time'] = 24600\n",
    "default_config['instance_params']['max_prolongation'] = 180\n",
    "default_config['instance_params']['time_to_start'] = 120"
   ],
   "metadata": {
    "collapsed": false
   }
  },
  {
   "cell_type": "markdown",
   "source": [
    "# Single batch experiment length SA"
   ],
   "metadata": {
    "collapsed": false
   }
  },
  {
   "cell_type": "code",
   "execution_count": 18,
   "outputs": [],
   "source": [
    "root_path = r'C:\\AIC Experiment Data\\DARP\\Plzen\\experiments\\single_batch-exp_length_sensitivity_analysis'"
   ],
   "metadata": {
    "collapsed": false
   }
  },
  {
   "cell_type": "code",
   "execution_count": 19,
   "outputs": [],
   "source": [
    "lengths = [30, 40, 50, 60, 70, 80, 90, 100, 120]\n",
    "request_counts = [length * 5 for length in lengths]\n",
    "vehicle_counts = [length * 3 for length in lengths]"
   ],
   "metadata": {
    "collapsed": false
   }
  },
  {
   "cell_type": "code",
   "execution_count": 20,
   "outputs": [],
   "source": [
    "default_config['area_dir'] = r\"C:/AIC Experiment Data/DARP/Plzen\"\n",
    "default_config['map']['place'] = 'Plzen'\n",
    "default_config['map']['SRID_plane'] = 3310\n",
    "default_config['demand']['min_time'] = 25200\n",
    "default_config['demand']['avg_distance'] = 5000\n",
    "default_config['vehicles']['start_time'] = 24600\n",
    "default_config['instance_params']['max_prolongation'] = 180\n",
    "default_config['instance_params']['time_to_start'] = 120"
   ],
   "metadata": {
    "collapsed": false
   }
  },
  {
   "cell_type": "code",
   "execution_count": 21,
   "outputs": [
    {
     "name": "stderr",
     "output_type": "stream",
     "text": [
      "15:37:30 [INFO] Saving config to C:\\AIC Experiment Data\\DARP\\Plzen\\experiments\\single_batch-exp_length_sensitivity_analysis\\30_s\\config.yaml\n",
      "15:37:30 [INFO] Saving config to C:\\AIC Experiment Data\\DARP\\Plzen\\experiments\\single_batch-exp_length_sensitivity_analysis\\40_s\\config.yaml\n",
      "15:37:30 [INFO] Saving config to C:\\AIC Experiment Data\\DARP\\Plzen\\experiments\\single_batch-exp_length_sensitivity_analysis\\50_s\\config.yaml\n",
      "15:37:30 [INFO] Saving config to C:\\AIC Experiment Data\\DARP\\Plzen\\experiments\\single_batch-exp_length_sensitivity_analysis\\60_s\\config.yaml\n",
      "15:37:30 [INFO] Saving config to C:\\AIC Experiment Data\\DARP\\Plzen\\experiments\\single_batch-exp_length_sensitivity_analysis\\70_s\\config.yaml\n",
      "15:37:30 [INFO] Saving config to C:\\AIC Experiment Data\\DARP\\Plzen\\experiments\\single_batch-exp_length_sensitivity_analysis\\80_s\\config.yaml\n",
      "15:37:30 [INFO] Saving config to C:\\AIC Experiment Data\\DARP\\Plzen\\experiments\\single_batch-exp_length_sensitivity_analysis\\90_s\\config.yaml\n",
      "15:37:30 [INFO] Saving config to C:\\AIC Experiment Data\\DARP\\Plzen\\experiments\\single_batch-exp_length_sensitivity_analysis\\100_s\\config.yaml\n",
      "15:37:30 [INFO] Saving config to C:\\AIC Experiment Data\\DARP\\Plzen\\experiments\\single_batch-exp_length_sensitivity_analysis\\120_s\\config.yaml\n"
     ]
    }
   ],
   "source": [
    "for length, request_count, vehicle_count in zip(lengths, request_counts, vehicle_counts):\n",
    "    default_config['demand']['request_count'] = request_count\n",
    "    default_config['demand']['max_time'] = 25200 + length\n",
    "    default_config['vehicles']['vehicle_count'] = vehicle_count\n",
    "    instance_dir = path.join(root_path, f\"{str(length)}_s\")\n",
    "    os.makedirs(instance_dir, exist_ok=True)\n",
    "    config_path = path.join(instance_dir, \"config.yaml\")\n",
    "    generate_config(default_config, config_path)"
   ],
   "metadata": {
    "collapsed": false
   }
  },
  {
   "cell_type": "markdown",
   "source": [
    "# Experiment length 2 to 20 minutes SA"
   ],
   "metadata": {
    "collapsed": false
   }
  },
  {
   "cell_type": "code",
   "execution_count": 6,
   "outputs": [],
   "source": [
    "root_path = r'C:\\AIC Experiment Data\\DARP\\Plzen\\experiments\\2_to_20_min_length_trend'\n",
    "lengths = range(120, 1201, 120)\n",
    "request_counts = [length * 5 for length in lengths]\n",
    "vehicle_counts = [min(length * 3, 2000) for length in lengths]\n",
    "default_config['area_dir'] = r\"C:/AIC Experiment Data/DARP/Plzen\"\n",
    "default_config['map']['place'] = 'Plzen'\n",
    "default_config['map']['SRID_plane'] = 3310\n",
    "default_config['demand']['min_time'] = 25200\n",
    "default_config['demand']['avg_distance'] = 5000\n",
    "default_config['vehicles']['start_time'] = 24600\n",
    "default_config['instance_params']['max_prolongation'] = 180\n",
    "default_config['instance_params']['time_to_start'] = 270"
   ],
   "metadata": {
    "collapsed": false
   }
  },
  {
   "cell_type": "markdown",
   "source": [
    "# Experiment length 5 to 60 minutes SA"
   ],
   "metadata": {
    "collapsed": false
   }
  },
  {
   "cell_type": "code",
   "execution_count": 4,
   "outputs": [],
   "source": [
    "root_path = r'C:\\AIC Experiment Data\\DARP\\Plzen\\experiments\\5_to_60_min_length_trend'\n",
    "lengths = range(300, 3601, 300)\n",
    "request_counts = [length * 5 for length in lengths]\n",
    "vehicle_counts = [min(length * 3, 2000) for length in lengths]\n",
    "default_config['area_dir'] = r\"C:/AIC Experiment Data/DARP/Plzen\"\n",
    "default_config['map']['place'] = 'Plzen'\n",
    "default_config['map']['SRID_plane'] = 3310\n",
    "default_config['demand']['min_time'] = 25200\n",
    "default_config['demand']['avg_distance'] = 5000\n",
    "default_config['vehicles']['start_time'] = 24600\n",
    "default_config['instance_params']['max_prolongation'] = 180\n",
    "default_config['instance_params']['time_to_start'] = 270"
   ],
   "metadata": {
    "collapsed": false
   }
  },
  {
   "cell_type": "markdown",
   "source": [
    "# Instance config generation"
   ],
   "metadata": {
    "collapsed": false
   }
  },
  {
   "cell_type": "code",
   "execution_count": 9,
   "outputs": [
    {
     "name": "stderr",
     "output_type": "stream",
     "text": [
      "14:33:39 [INFO] Saving config to C:/AIC Experiment Data/DARP/Prague/experiments/10_to_20_min_half_vehicles\\600_s\\config.yaml\n",
      "14:33:39 [INFO] Saving config to C:/AIC Experiment Data/DARP/Prague/experiments/10_to_20_min_half_vehicles\\720_s\\config.yaml\n",
      "14:33:39 [INFO] Saving config to C:/AIC Experiment Data/DARP/Prague/experiments/10_to_20_min_half_vehicles\\840_s\\config.yaml\n",
      "14:33:39 [INFO] Saving config to C:/AIC Experiment Data/DARP/Prague/experiments/10_to_20_min_half_vehicles\\960_s\\config.yaml\n",
      "14:33:39 [INFO] Saving config to C:/AIC Experiment Data/DARP/Prague/experiments/10_to_20_min_half_vehicles\\1080_s\\config.yaml\n",
      "14:33:39 [INFO] Saving config to C:/AIC Experiment Data/DARP/Prague/experiments/10_to_20_min_half_vehicles\\1200_s\\config.yaml\n"
     ]
    }
   ],
   "source": [
    "for length, request_count, vehicle_count in zip(lengths, request_counts, vehicle_counts):\n",
    "    default_config['demand']['request_count'] = int(request_count)\n",
    "    default_config['demand']['max_time'] = int(25200 + length)\n",
    "    default_config['vehicles']['vehicle_count'] = int(vehicle_count)\n",
    "    instance_dir = path.join(root_path, f\"{str(length)}_s\")\n",
    "    os.makedirs(instance_dir, exist_ok=True)\n",
    "    config_path = path.join(instance_dir, \"config.yaml\")\n",
    "    generate_config(default_config, config_path)"
   ],
   "metadata": {
    "collapsed": false
   }
  },
  {
   "cell_type": "code",
   "execution_count": 16,
   "outputs": [],
   "source": [
    "%autoreload"
   ],
   "metadata": {
    "collapsed": false
   }
  },
  {
   "cell_type": "code",
   "execution_count": null,
   "outputs": [],
   "source": [],
   "metadata": {
    "collapsed": false
   }
  }
 ],
 "metadata": {
  "kernelspec": {
   "display_name": "Python 3",
   "language": "python",
   "name": "python3"
  },
  "language_info": {
   "codemirror_mode": {
    "name": "ipython",
    "version": 2
   },
   "file_extension": ".py",
   "mimetype": "text/x-python",
   "name": "python",
   "nbconvert_exporter": "python",
   "pygments_lexer": "ipython2",
   "version": "2.7.6"
  }
 },
 "nbformat": 4,
 "nbformat_minor": 0
}
