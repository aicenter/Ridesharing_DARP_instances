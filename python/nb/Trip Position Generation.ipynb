{
 "cells": [
  {
   "cell_type": "code",
   "execution_count": 1,
   "metadata": {
    "collapsed": true,
    "ExecuteTime": {
     "start_time": "2023-05-05T12:01:23.928123Z",
     "end_time": "2023-05-05T12:01:23.991146Z"
    }
   },
   "outputs": [],
   "source": [
    "%load_ext autoreload"
   ]
  },
  {
   "cell_type": "code",
   "execution_count": null,
   "outputs": [],
   "source": [],
   "metadata": {
    "collapsed": false
   }
  },
  {
   "cell_type": "code",
   "execution_count": 10,
   "outputs": [],
   "source": [
    "%autoreload"
   ],
   "metadata": {
    "collapsed": false,
    "ExecuteTime": {
     "start_time": "2023-05-05T11:44:28.376980Z",
     "end_time": "2023-05-05T11:44:28.523017Z"
    }
   }
  },
  {
   "cell_type": "code",
   "execution_count": 2,
   "outputs": [
    {
     "name": "stderr",
     "output_type": "stream",
     "text": [
      "12:01:29 INFO Connecting to ssh server\n"
     ]
    },
    {
     "name": "stdout",
     "output_type": "stream",
     "text": [
      "Successfully read db config from: ['C:\\\\Workspaces\\\\AIC\\\\darp-benchmark/config.ini']\n"
     ]
    },
    {
     "name": "stderr",
     "output_type": "stream",
     "text": [
      "12:01:30 INFO Connected (version 2.0, client OpenSSH_7.9p1)\n",
      "12:01:30 INFO Auth banner: b'Debian GNU/Linux \\n _ _          __      _                   _\\n(_) |_ ___   / _| ___| |  _____   ___   _| |_   ___ ____\\n| | __/ __| | |_ / _ \\\\ | / __\\\\ \\\\ / / | | | __| / __|_  /\\n| | |_\\\\__ \\\\_|  _|  __/ || (__ \\\\ V /| |_| | |_ | (__ / /\\n|_|\\\\__|___(_)_|  \\\\___|_(_)___| \\\\_/  \\\\__,_|\\\\__(_)___/___|\\n\\nWelcome to our ultra super duper cool server.\\n\\n'\n",
      "12:01:30 INFO Authentication (publickey) successful!\n",
      "12:01:30 INFO SSH tunnel established from ('127.0.0.1', 1113) to its.fel.cvut.cz/5432\n",
      "12:01:30 INFO Starting _psycopg2 connection\n",
      "12:01:32 INFO Starting sql_alchemy connection\n"
     ]
    }
   ],
   "source": [
    "from darpbenchmark.db import db\n",
    "from darpbenchmark.instance_generation.demand_positions import generate_positions"
   ],
   "metadata": {
    "collapsed": false,
    "ExecuteTime": {
     "start_time": "2023-05-05T12:01:26.877794Z",
     "end_time": "2023-05-05T12:01:32.739912Z"
    }
   }
  },
  {
   "cell_type": "code",
   "execution_count": null,
   "outputs": [],
   "source": [],
   "metadata": {
    "collapsed": false
   }
  },
  {
   "cell_type": "markdown",
   "source": [
    "# NYC"
   ],
   "metadata": {
    "collapsed": false
   }
  },
  {
   "cell_type": "code",
   "execution_count": 30,
   "outputs": [
    {
     "name": "stderr",
     "output_type": "stream",
     "text": [
      "12:27:24 INFO Selecting demand edges for target area\n",
      "12:27:32 INFO Positions will be generated for the following demand datasets: [New York Yellow Taxi, New York Green Taxi, New York FHV, New York High Volume FHV]\n",
      "12:27:32 INFO Demand will be joined to zones from the following zones types: [NYC taxi zone]\n",
      "12:27:32 INFO The following zones will be ignored: 264, 265\n",
      "12:27:32 INFO There are 42288 trips between 2022-03-11 18:00:00 and 2022-03-11 18:59:59 in the requested demand datasets\n",
      "12:27:32 INFO Checking that all trips have a corresponding zone\n",
      "12:27:32 INFO Checking that all used zones contains at least one demand edge\n",
      "12:28:04 INFO Inserting new node positions\n"
     ]
    }
   ],
   "source": [
    "demand_datasets = [2, 3, 4, 5]\n",
    "start_time = '2022-03-11 18:00:00'\n",
    "end_time = '2022-03-11 18:59:59'\n",
    "zone_types = [2]\n",
    "trip_location_set = 1\n",
    "\n",
    "# Ignored zones: 264 and 265 means unknown zones, 1 is the New Ark airport which is outside the city\n",
    "# ignored_zones = [1, 264, 265]\n",
    "ignored_zones = [264, 265]\n",
    "\n",
    "generate_positions(demand_datasets, start_time, end_time, zone_types, trip_location_set, ignored_zones)"
   ],
   "metadata": {
    "collapsed": false
   }
  },
  {
   "cell_type": "code",
   "execution_count": 34,
   "outputs": [],
   "source": [
    "db.execute_sql('DROP TABLE network_edges;')"
   ],
   "metadata": {
    "collapsed": false
   }
  },
  {
   "cell_type": "markdown",
   "source": [
    "# Chicago"
   ],
   "metadata": {
    "collapsed": false
   }
  },
  {
   "cell_type": "code",
   "execution_count": 35,
   "outputs": [
    {
     "name": "stderr",
     "output_type": "stream",
     "text": [
      "23:30:11 INFO Selecting demand edges for target area\n",
      "23:30:19 INFO Positions will be generated for the following demand datasets: [Chicago]\n",
      "23:30:19 INFO Demand will be joined to zones from the following zones types: [comunity area, census tract]\n",
      "23:30:19 INFO There are 21033 trips between 2022-05-20 00:00:00 and 2022-05-20 23:59:59 in the requested demand datasets\n",
      "23:30:19 INFO Checking that all trips have a corresponding zone\n",
      "23:30:19 INFO Counting zones and requests outside the selected area\n",
      "23:30:19 INFO 3 zones will be ignored because they are outside the selected area\n",
      "23:30:19 INFO 22 requests will be ignored because they are outside the selected area\n",
      "23:30:19 INFO Checking that all used zones contains at least one demand edge\n",
      "23:30:47 INFO Inserting new node positions\n"
     ]
    }
   ],
   "source": [
    "area = 19\n",
    "demand_datasets = [1]\n",
    "start_time = '2022-05-20 00:00:00'\n",
    "end_time = '2022-05-20 23:59:59'\n",
    "zone_types = [0,1]\n",
    "trip_location_set = 3\n",
    "generate_positions(area, demand_datasets, start_time, end_time, zone_types, trip_location_set)"
   ],
   "metadata": {
    "collapsed": false
   }
  },
  {
   "cell_type": "code",
   "execution_count": null,
   "outputs": [],
   "source": [],
   "metadata": {
    "collapsed": false
   }
  },
  {
   "cell_type": "markdown",
   "source": [
    "# DC"
   ],
   "metadata": {
    "collapsed": false
   }
  },
  {
   "cell_type": "code",
   "execution_count": 6,
   "outputs": [
    {
     "name": "stderr",
     "output_type": "stream",
     "text": [
      "19:54:03 INFO Selecting demand edges for target area\n",
      "19:54:05 INFO Positions will be generated for the following demand datasets: [Washington DC]\n",
      "19:54:05 INFO Demand will be joined to zones from the following zones types: [DC zones created as Voronoi diagram from MAR centroids ]\n",
      "19:54:05 INFO There are 5504 trips between 2021-10-22 00:00:00 and 2021-10-22 23:59:59 in the requested demand datasets\n",
      "19:54:05 INFO Checking that all trips have a corresponding zone\n",
      "19:54:05 INFO Checking that all used zones contains at least one demand edge\n",
      "19:54:06 INFO 5 used zones has no corresponding network_edges. Searching neighborhood zones\n",
      "19:54:08 INFO Inserting new node positions with usage of neighborhood zones for missing values\n"
     ]
    }
   ],
   "source": [
    "area = 1\n",
    "demand_datasets = [7]\n",
    "start_time = '2021-10-22 00:00:00'\n",
    "end_time = '2021-10-22 23:59:59'\n",
    "zone_types = [3]\n",
    "trip_location_set = 4\n",
    "generate_positions(area, demand_datasets, start_time, end_time, zone_types, trip_location_set)"
   ],
   "metadata": {
    "collapsed": false
   }
  },
  {
   "cell_type": "markdown",
   "source": [
    "# ITSC Instance paper"
   ],
   "metadata": {
    "collapsed": false
   }
  },
  {
   "cell_type": "code",
   "execution_count": 3,
   "outputs": [],
   "source": [
    "start_time = '2022-04-05 00:00:00'\n",
    "end_time = '2022-04-05 23:59:59'"
   ],
   "metadata": {
    "collapsed": false,
    "ExecuteTime": {
     "start_time": "2023-05-05T12:01:40.157584Z",
     "end_time": "2023-05-05T12:01:40.162570Z"
    }
   }
  },
  {
   "cell_type": "markdown",
   "source": [
    "## NYC"
   ],
   "metadata": {
    "collapsed": false
   }
  },
  {
   "cell_type": "code",
   "execution_count": 4,
   "outputs": [
    {
     "name": "stderr",
     "output_type": "stream",
     "text": [
      "10:45:14 INFO Selecting demand edges for target area\n",
      "10:45:20 INFO Positions will be generated for the following demand datasets: [New York Yellow Taxi, New York Green Taxi, New York FHV, New York High Volume FHV]\n",
      "10:45:20 INFO Demand will be joined to zones from the following zones types: [NYC taxi zone]\n",
      "10:45:20 INFO The following zones will be ignored: 264, 265\n",
      "10:45:23 INFO There are 631291 trips between 2022-04-05 00:00:00 and 2022-04-05 23:59:59 in the requested demand datasets\n",
      "10:45:23 INFO Checking that all trips have a corresponding zone\n",
      "10:45:26 INFO Counting zones and requests outside the selected area\n",
      "10:45:28 INFO Checking that all used zones contains at least one demand edge\n",
      "10:53:03 INFO Inserting new node positions\n"
     ]
    }
   ],
   "source": [
    "area = 12\n",
    "demand_datasets = [2, 3, 4, 5]\n",
    "zone_types = [2]\n",
    "trip_location_set = 1\n",
    "ignored_zones = [264, 265]\n",
    "generate_positions(area, demand_datasets, start_time, end_time, zone_types, trip_location_set, ignored_zones)"
   ],
   "metadata": {
    "collapsed": false,
    "ExecuteTime": {
     "start_time": "2023-05-04T10:45:14.525532Z",
     "end_time": "2023-05-04T14:11:31.791346Z"
    }
   }
  },
  {
   "cell_type": "markdown",
   "source": [
    "## Chicago"
   ],
   "metadata": {
    "collapsed": false
   }
  },
  {
   "cell_type": "code",
   "execution_count": 5,
   "outputs": [
    {
     "name": "stderr",
     "output_type": "stream",
     "text": [
      "14:30:01 INFO Selecting demand edges for target area\n",
      "14:30:09 INFO Positions will be generated for the following demand datasets: [Chicago]\n",
      "14:30:09 INFO Demand will be joined to zones from the following zones types: [comunity area, census tract]\n",
      "14:30:09 INFO There are 15733 trips between 2022-04-05 00:00:00 and 2022-04-05 23:59:59 in the requested demand datasets\n",
      "14:30:09 INFO Checking that all trips have a corresponding zone\n",
      "14:30:09 INFO Counting zones and requests outside the selected area\n",
      "14:30:10 INFO 2 zones will be ignored because they are outside the selected area\n",
      "14:30:10 INFO 5 requests will be ignored because they are outside the selected area\n",
      "14:30:10 INFO Checking that all used zones contains at least one demand edge\n",
      "14:30:39 INFO Inserting new node positions\n"
     ]
    }
   ],
   "source": [
    "area = 19\n",
    "demand_datasets = [1]\n",
    "zone_types = [0,1]\n",
    "trip_location_set = 3\n",
    "generate_positions(area, demand_datasets, start_time, end_time, zone_types, trip_location_set)"
   ],
   "metadata": {
    "collapsed": false,
    "ExecuteTime": {
     "start_time": "2023-05-04T14:30:01.559367Z",
     "end_time": "2023-05-04T14:48:38.616215Z"
    }
   }
  },
  {
   "cell_type": "markdown",
   "source": [
    "## DC"
   ],
   "metadata": {
    "collapsed": false
   }
  },
  {
   "cell_type": "code",
   "execution_count": 4,
   "outputs": [
    {
     "name": "stderr",
     "output_type": "stream",
     "text": [
      "12:02:01 INFO Selecting demand edges for target area\n",
      "12:02:05 INFO Positions will be generated for the following demand datasets: [Washington DC]\n",
      "12:02:05 INFO Demand will be joined to zones from the following zones types: [DC zones created as Voronoi diagram from MAR centroids - created using the area with a buffer (id 22)]\n",
      "12:02:06 INFO There are 8477 trips between 2022-04-05 00:00:00 and 2022-04-05 23:59:59 in the requested demand datasets\n",
      "12:02:06 INFO Checking that all trips have a corresponding zone\n",
      "12:02:06 INFO Counting zones and requests outside the selected area\n",
      "12:02:06 INFO Checking that all used zones contains at least one demand edge\n",
      "12:02:08 INFO 5 used zones has no corresponding network_edges. Searching neighborhood zones\n",
      "12:02:13 INFO Inserting new node positions with usage of neighborhood zones for missing values\n"
     ]
    }
   ],
   "source": [
    "area = 22\n",
    "demand_datasets = [7]\n",
    "zone_types = [4]\n",
    "trip_location_set = 4\n",
    "generate_positions(area, demand_datasets, start_time, end_time, zone_types, trip_location_set, print_sql=False)"
   ],
   "metadata": {
    "collapsed": false,
    "ExecuteTime": {
     "start_time": "2023-05-05T12:02:01.027074Z",
     "end_time": "2023-05-05T12:03:39.193311Z"
    }
   }
  }
 ],
 "metadata": {
  "kernelspec": {
   "display_name": "Python 3",
   "language": "python",
   "name": "python3"
  },
  "language_info": {
   "codemirror_mode": {
    "name": "ipython",
    "version": 2
   },
   "file_extension": ".py",
   "mimetype": "text/x-python",
   "name": "python",
   "nbconvert_exporter": "python",
   "pygments_lexer": "ipython2",
   "version": "2.7.6"
  }
 },
 "nbformat": 4,
 "nbformat_minor": 0
}
