{
 "cells": [
  {
   "cell_type": "code",
   "execution_count": 1,
   "outputs": [],
   "source": [
    "%load_ext autoreload"
   ],
   "metadata": {
    "collapsed": false,
    "ExecuteTime": {
     "end_time": "2023-05-10T13:54:58.283698800Z",
     "start_time": "2023-05-10T13:54:58.216667100Z"
    }
   }
  },
  {
   "cell_type": "code",
   "execution_count": 19,
   "outputs": [
    {
     "name": "stderr",
     "output_type": "stream",
     "text": [
      "[autoreload of pydevd failed: Traceback (most recent call last):\n",
      "  File \"C:\\Program Files\\Python310\\lib\\site-packages\\IPython\\extensions\\autoreload.py\", line 257, in check\n",
      "    superreload(m, reload, self.old_objects)\n",
      "  File \"C:\\Program Files\\Python310\\lib\\site-packages\\IPython\\extensions\\autoreload.py\", line 480, in superreload\n",
      "    update_generic(old_obj, new_obj)\n",
      "  File \"C:\\Program Files\\Python310\\lib\\site-packages\\IPython\\extensions\\autoreload.py\", line 377, in update_generic\n",
      "    update(a, b)\n",
      "  File \"C:\\Program Files\\Python310\\lib\\site-packages\\IPython\\extensions\\autoreload.py\", line 345, in update_class\n",
      "    update_instances(old, new)\n",
      "  File \"C:\\Program Files\\Python310\\lib\\site-packages\\IPython\\extensions\\autoreload.py\", line 303, in update_instances\n",
      "    ref.__class__ = new\n",
      "TypeError: __class__ assignment: 'ThreadsSuspendedSingleNotification' object layout differs from 'ThreadsSuspendedSingleNotification'\n",
      "]\n"
     ]
    }
   ],
   "source": [
    "%autoreload"
   ],
   "metadata": {
    "collapsed": false,
    "ExecuteTime": {
     "end_time": "2023-05-10T13:54:49.713383300Z",
     "start_time": "2023-05-10T13:54:47.549909200Z"
    }
   }
  },
  {
   "cell_type": "code",
   "execution_count": 2,
   "outputs": [],
   "source": [
    "import logging\n",
    "import os\n",
    "from pathlib import Path\n",
    "import pandas as pd\n",
    "import yaml\n",
    "from typing import Dict, List\n",
    "import plotly.express as px\n",
    "\n",
    "from darpinstances.results import load_instance_series, instance_series_results_to_dataframe, load_instance_results, load_results_from_folder, get_processed_results, load_aggregate_stats_in_dir,load_occupancies_in_dir"
   ],
   "metadata": {
    "collapsed": false,
    "ExecuteTime": {
     "end_time": "2023-05-10T13:55:01.727864500Z",
     "start_time": "2023-05-10T13:55:01.001867200Z"
    }
   }
  },
  {
   "cell_type": "code",
   "execution_count": 3,
   "outputs": [],
   "source": [
    "# darp_data_path = r\"D:/Google Drive/AIC Experiment Data/DARP\"\n",
    "darp_data_path = r\"C:/Google Drive/AIC Experiment Data/DARP\""
   ],
   "metadata": {
    "collapsed": false,
    "ExecuteTime": {
     "end_time": "2023-05-10T13:55:01.742865600Z",
     "start_time": "2023-05-10T13:55:01.729861400Z"
    }
   }
  },
  {
   "cell_type": "code",
   "execution_count": 4,
   "outputs": [],
   "source": [
    "final_results_path = Path(darp_data_path) / Path(\"Results/final-real_speeds\")\n",
    "areas = [\n",
    "    'NYC',\n",
    "    'Manhattan',\n",
    "    'Chicago',\n",
    "    'DC'\n",
    "]"
   ],
   "metadata": {
    "collapsed": false,
    "ExecuteTime": {
     "end_time": "2023-05-10T13:55:02.360144500Z",
     "start_time": "2023-05-10T13:55:02.345126400Z"
    }
   }
  },
  {
   "cell_type": "code",
   "execution_count": 9,
   "outputs": [
    {
     "name": "stderr",
     "output_type": "stream",
     "text": [
      "00:09:58 [INFO] Loading json file from: D:\\Google Drive\\AIC Experiment Data\\DARP\\Results\\final-real_speeds\\Manhattan\\05_min\\ih\\config.yaml-performance.json\n",
      "00:09:58 [INFO] Loading json file from: D:\\Google Drive\\AIC Experiment Data\\DARP\\Results\\final-real_speeds\\Manhattan\\05_min\\ih\\config.yaml-solution.json\n",
      "00:09:58 [INFO] Loading experiment config from D:\\Google Drive\\AIC Experiment Data\\DARP\\Results\\final-real_speeds\\Manhattan\\05_min\\ih\\config.yaml\n",
      "00:09:58 [INFO] Loading instance config from D:\\Google Drive\\AIC Experiment Data\\DARP\\Real demand and speeds\\Manhattan\\experiments\\final_experiments\\05_min\\config.yaml\n"
     ]
    },
    {
     "data": {
      "text/plain": "{'cost_minutes': 9203,\n 'total_time': 1.024,\n 'dropped_requests': 0,\n 'avg_delay': 554.799522673031,\n 'plan_count': 593,\n 'req_count': 1676,\n 'avg_occupancy': 1.6790995445202068,\n 'used_connections': -1,\n 'total_driving_duration': 552165,\n 'total_waiting_duration': 2611,\n 'avg_waiting_duration': 4.403035413153457,\n 'tts_cost': 24025,\n 'tts_cost_per_plan': 40.51433389544688,\n 'method': 'ih',\n 'max_delay': 300,\n 'start_time': datetime.datetime(2022, 3, 11, 18, 0),\n 'end_time': datetime.datetime(2022, 3, 11, 18, 5)}"
     },
     "execution_count": 9,
     "metadata": {},
     "output_type": "execute_result"
    }
   ],
   "source": [
    "test_path = r'D:\\Google Drive\\AIC Experiment Data\\DARP\\Results\\final-real_speeds\\Manhattan\\05_min\\ih'\n",
    "load_aggregate_stats_for_result(Path(test_path))"
   ],
   "metadata": {
    "collapsed": false,
    "ExecuteTime": {
     "end_time": "2023-05-09T22:09:58.395650800Z",
     "start_time": "2023-05-09T22:09:58.339607800Z"
    }
   }
  },
  {
   "cell_type": "code",
   "execution_count": 12,
   "outputs": [
    {
     "name": "stderr",
     "output_type": "stream",
     "text": [
      "23:05:30 [WARNING] No solution found in folder: D:\\Google Drive\\AIC Experiment Data\\DARP\\Results\\final-real_speeds\\Manhattan\\05_min\\halns\n",
      "23:05:30 [WARNING] No solution found in folder: D:\\Google Drive\\AIC Experiment Data\\DARP\\Results\\final-real_speeds\\Manhattan\\05_min\\halns-ih\n",
      "23:05:30 [WARNING] No solution found in folder: D:\\Google Drive\\AIC Experiment Data\\DARP\\Results\\final-real_speeds\\Manhattan\\05_min\\halns-vga\n",
      "23:05:30 [INFO] Loading json file from: D:\\Google Drive\\AIC Experiment Data\\DARP\\Results\\final-real_speeds\\Manhattan\\05_min\\ih\\config.yaml-performance.json\n",
      "23:05:30 [INFO] Loading json file from: D:\\Google Drive\\AIC Experiment Data\\DARP\\Results\\final-real_speeds\\Manhattan\\05_min\\ih\\config.yaml-solution.json\n",
      "23:05:30 [WARNING] No solution found in folder: D:\\Google Drive\\AIC Experiment Data\\DARP\\Results\\final-real_speeds\\Manhattan\\05_min\\vga\n",
      "23:05:30 [INFO] Loading json file from: D:\\Google Drive\\AIC Experiment Data\\DARP\\Results\\final-real_speeds\\Manhattan\\05_min\\vga_chaining-batch_120_s\\config.yaml-performance.json\n",
      "23:05:30 [INFO] Loading json file from: D:\\Google Drive\\AIC Experiment Data\\DARP\\Results\\final-real_speeds\\Manhattan\\05_min\\vga_chaining-batch_120_s\\config.yaml-solution.json\n",
      "23:05:30 [INFO] Loading json file from: D:\\Google Drive\\AIC Experiment Data\\DARP\\Results\\final-real_speeds\\Manhattan\\05_min\\vga_chaining-batch_120_s-limited\\config.yaml-performance.json\n",
      "23:05:30 [INFO] Loading json file from: D:\\Google Drive\\AIC Experiment Data\\DARP\\Results\\final-real_speeds\\Manhattan\\05_min\\vga_chaining-batch_120_s-limited\\config.yaml-solution.json\n",
      "23:05:30 [WARNING] No solution found in folder: D:\\Google Drive\\AIC Experiment Data\\DARP\\Results\\final-real_speeds\\Manhattan\\05_min\\vga_chaining-batch_240_s\n",
      "23:05:30 [INFO] Loading json file from: D:\\Google Drive\\AIC Experiment Data\\DARP\\Results\\final-real_speeds\\Manhattan\\05_min\\vga_chaining-batch_240_s-limited\\config.yaml-performance.json\n",
      "23:05:30 [INFO] Loading json file from: D:\\Google Drive\\AIC Experiment Data\\DARP\\Results\\final-real_speeds\\Manhattan\\05_min\\vga_chaining-batch_240_s-limited\\config.yaml-solution.json\n",
      "23:05:30 [INFO] Loading json file from: D:\\Google Drive\\AIC Experiment Data\\DARP\\Results\\final-real_speeds\\Manhattan\\05_min\\vga_chaining-batch_30_s\\config.yaml-performance.json\n",
      "23:05:30 [INFO] Loading json file from: D:\\Google Drive\\AIC Experiment Data\\DARP\\Results\\final-real_speeds\\Manhattan\\05_min\\vga_chaining-batch_30_s\\config.yaml-solution.json\n",
      "23:05:31 [WARNING] No solution found in folder: D:\\Google Drive\\AIC Experiment Data\\DARP\\Results\\final-real_speeds\\Manhattan\\05_min\\vga_chaining-batch_480_s\n",
      "23:05:31 [INFO] Loading json file from: D:\\Google Drive\\AIC Experiment Data\\DARP\\Results\\final-real_speeds\\Manhattan\\05_min\\vga_chaining-batch_480_s-limited\\config.yaml-performance.json\n",
      "23:05:31 [INFO] Loading json file from: D:\\Google Drive\\AIC Experiment Data\\DARP\\Results\\final-real_speeds\\Manhattan\\05_min\\vga_chaining-batch_480_s-limited\\config.yaml-solution.json\n",
      "23:05:31 [INFO] Loading json file from: D:\\Google Drive\\AIC Experiment Data\\DARP\\Results\\final-real_speeds\\Manhattan\\05_min\\vga_chaining-batch_60_s\\config.yaml-performance.json\n",
      "23:05:31 [INFO] Loading json file from: D:\\Google Drive\\AIC Experiment Data\\DARP\\Results\\final-real_speeds\\Manhattan\\05_min\\vga_chaining-batch_60_s\\config.yaml-solution.json\n"
     ]
    },
    {
     "data": {
      "text/plain": "   cost_minutes  total_time  dropped_requests   avg_delay  plan_count  \\\n0          9203       1.024                 0  554.799523         593   \n1          8036     169.488                 0  542.550716         572   \n2          8036     113.903                 0  542.550716         572   \n3          8065     111.654                 0  544.662888         560   \n4          9847      10.407                 0  527.038783         737   \n5          8117     111.799                 0  548.521480         553   \n6          8832      10.052                 0  535.949881         642   \n\n   req_count  avg_occupancy  used_connections  total_driving_duration  \\\n0       1676       1.679100                -1                  552165   \n1       1676       1.881875              1763                  482157   \n2       1676       1.881875              1763                  482157   \n3       1676       1.882138              1688                  483922   \n4       1676       1.494704              2456                  590836   \n5       1676       1.883496              1659                  487046   \n6       1676       1.694257              2019                  529925   \n\n   total_waiting_duration  avg_waiting_duration  tts_cost  tts_cost_per_plan  \n0                    2611              4.403035     24025          40.514334  \n1                    1890              3.304196     15297          26.743007  \n2                    1890              3.304196     15297          26.743007  \n3                    1977              3.530357     14494          25.882143  \n4                     290              0.393487     23941          32.484396  \n5                    1853              3.350814     14206          25.688969  \n6                     599              0.933022     17974          27.996885  ",
      "text/html": "<div>\n<style scoped>\n    .dataframe tbody tr th:only-of-type {\n        vertical-align: middle;\n    }\n\n    .dataframe tbody tr th {\n        vertical-align: top;\n    }\n\n    .dataframe thead th {\n        text-align: right;\n    }\n</style>\n<table border=\"1\" class=\"dataframe\">\n  <thead>\n    <tr style=\"text-align: right;\">\n      <th></th>\n      <th>cost_minutes</th>\n      <th>total_time</th>\n      <th>dropped_requests</th>\n      <th>avg_delay</th>\n      <th>plan_count</th>\n      <th>req_count</th>\n      <th>avg_occupancy</th>\n      <th>used_connections</th>\n      <th>total_driving_duration</th>\n      <th>total_waiting_duration</th>\n      <th>avg_waiting_duration</th>\n      <th>tts_cost</th>\n      <th>tts_cost_per_plan</th>\n    </tr>\n  </thead>\n  <tbody>\n    <tr>\n      <th>0</th>\n      <td>9203</td>\n      <td>1.024</td>\n      <td>0</td>\n      <td>554.799523</td>\n      <td>593</td>\n      <td>1676</td>\n      <td>1.679100</td>\n      <td>-1</td>\n      <td>552165</td>\n      <td>2611</td>\n      <td>4.403035</td>\n      <td>24025</td>\n      <td>40.514334</td>\n    </tr>\n    <tr>\n      <th>1</th>\n      <td>8036</td>\n      <td>169.488</td>\n      <td>0</td>\n      <td>542.550716</td>\n      <td>572</td>\n      <td>1676</td>\n      <td>1.881875</td>\n      <td>1763</td>\n      <td>482157</td>\n      <td>1890</td>\n      <td>3.304196</td>\n      <td>15297</td>\n      <td>26.743007</td>\n    </tr>\n    <tr>\n      <th>2</th>\n      <td>8036</td>\n      <td>113.903</td>\n      <td>0</td>\n      <td>542.550716</td>\n      <td>572</td>\n      <td>1676</td>\n      <td>1.881875</td>\n      <td>1763</td>\n      <td>482157</td>\n      <td>1890</td>\n      <td>3.304196</td>\n      <td>15297</td>\n      <td>26.743007</td>\n    </tr>\n    <tr>\n      <th>3</th>\n      <td>8065</td>\n      <td>111.654</td>\n      <td>0</td>\n      <td>544.662888</td>\n      <td>560</td>\n      <td>1676</td>\n      <td>1.882138</td>\n      <td>1688</td>\n      <td>483922</td>\n      <td>1977</td>\n      <td>3.530357</td>\n      <td>14494</td>\n      <td>25.882143</td>\n    </tr>\n    <tr>\n      <th>4</th>\n      <td>9847</td>\n      <td>10.407</td>\n      <td>0</td>\n      <td>527.038783</td>\n      <td>737</td>\n      <td>1676</td>\n      <td>1.494704</td>\n      <td>2456</td>\n      <td>590836</td>\n      <td>290</td>\n      <td>0.393487</td>\n      <td>23941</td>\n      <td>32.484396</td>\n    </tr>\n    <tr>\n      <th>5</th>\n      <td>8117</td>\n      <td>111.799</td>\n      <td>0</td>\n      <td>548.521480</td>\n      <td>553</td>\n      <td>1676</td>\n      <td>1.883496</td>\n      <td>1659</td>\n      <td>487046</td>\n      <td>1853</td>\n      <td>3.350814</td>\n      <td>14206</td>\n      <td>25.688969</td>\n    </tr>\n    <tr>\n      <th>6</th>\n      <td>8832</td>\n      <td>10.052</td>\n      <td>0</td>\n      <td>535.949881</td>\n      <td>642</td>\n      <td>1676</td>\n      <td>1.694257</td>\n      <td>2019</td>\n      <td>529925</td>\n      <td>599</td>\n      <td>0.933022</td>\n      <td>17974</td>\n      <td>27.996885</td>\n    </tr>\n  </tbody>\n</table>\n</div>"
     },
     "execution_count": 12,
     "metadata": {},
     "output_type": "execute_result"
    }
   ],
   "source": [
    "test_path = r'D:\\Google Drive\\AIC Experiment Data\\DARP\\Results\\final-real_speeds\\Manhattan\\05_min'\n",
    "load_aggregate_stats_in_dir(Path(test_path))"
   ],
   "metadata": {
    "collapsed": false,
    "ExecuteTime": {
     "end_time": "2023-05-09T21:05:31.263166100Z",
     "start_time": "2023-05-09T21:05:30.492463900Z"
    }
   }
  },
  {
   "cell_type": "code",
   "execution_count": 14,
   "outputs": [
    {
     "name": "stderr",
     "output_type": "stream",
     "text": [
      "11:30:40 [INFO] Loading aggregate stats in C:\\Google Drive\\AIC Experiment Data\\DARP\\Results\\final-real_speeds\\NYC\n",
      "11:30:40 [INFO] Loading aggregate stats in C:\\Google Drive\\AIC Experiment Data\\DARP\\Results\\final-real_speeds\\Manhattan\n",
      "11:30:40 [WARNING] No solution found in folder: C:\\Google Drive\\AIC Experiment Data\\DARP\\Results\\final-real_speeds\\Manhattan\\05_min\\halns\n",
      "11:30:40 [WARNING] No solution found in folder: C:\\Google Drive\\AIC Experiment Data\\DARP\\Results\\final-real_speeds\\Manhattan\\05_min\\halns-ih\n",
      "11:30:40 [WARNING] No solution found in folder: C:\\Google Drive\\AIC Experiment Data\\DARP\\Results\\final-real_speeds\\Manhattan\\05_min\\halns-vga\n",
      "11:30:40 [INFO] Loading json file from: C:\\Google Drive\\AIC Experiment Data\\DARP\\Results\\final-real_speeds\\Manhattan\\05_min\\ih\\config.yaml-performance.json\n",
      "11:30:40 [INFO] Loading json file from: C:\\Google Drive\\AIC Experiment Data\\DARP\\Results\\final-real_speeds\\Manhattan\\05_min\\ih\\config.yaml-solution.json\n",
      "11:30:40 [INFO] Loading experiment config from C:\\Google Drive\\AIC Experiment Data\\DARP\\Results\\final-real_speeds\\Manhattan\\05_min\\ih\\config.yaml\n",
      "11:30:40 [INFO] Loading instance config from C:\\Google Drive\\AIC Experiment Data\\DARP\\Real demand and speeds\\Manhattan\\experiments\\final_experiments\\05_min\\config.yaml\n",
      "11:30:40 [WARNING] No solution found in folder: C:\\Google Drive\\AIC Experiment Data\\DARP\\Results\\final-real_speeds\\Manhattan\\05_min\\vga\n",
      "11:30:40 [INFO] Loading json file from: C:\\Google Drive\\AIC Experiment Data\\DARP\\Results\\final-real_speeds\\Manhattan\\05_min\\vga_chaining-batch_120_s\\config.yaml-performance.json\n",
      "11:30:40 [INFO] Loading json file from: C:\\Google Drive\\AIC Experiment Data\\DARP\\Results\\final-real_speeds\\Manhattan\\05_min\\vga_chaining-batch_120_s\\config.yaml-solution.json\n",
      "11:30:40 [INFO] Loading experiment config from C:\\Google Drive\\AIC Experiment Data\\DARP\\Results\\final-real_speeds\\Manhattan\\05_min\\vga_chaining-batch_120_s\\config.yaml\n",
      "11:30:40 [INFO] Loading instance config from C:\\Google Drive\\AIC Experiment Data\\DARP\\Real demand and speeds\\Manhattan\\experiments\\final_experiments\\05_min\\config.yaml\n",
      "11:30:40 [INFO] Loading json file from: C:\\Google Drive\\AIC Experiment Data\\DARP\\Results\\final-real_speeds\\Manhattan\\05_min\\vga_chaining-batch_120_s-limited\\config.yaml-performance.json\n",
      "11:30:40 [INFO] Loading json file from: C:\\Google Drive\\AIC Experiment Data\\DARP\\Results\\final-real_speeds\\Manhattan\\05_min\\vga_chaining-batch_120_s-limited\\config.yaml-solution.json\n",
      "11:30:40 [INFO] Loading experiment config from C:\\Google Drive\\AIC Experiment Data\\DARP\\Results\\final-real_speeds\\Manhattan\\05_min\\vga_chaining-batch_120_s-limited\\config.yaml\n",
      "11:30:40 [INFO] Loading instance config from C:\\Google Drive\\AIC Experiment Data\\DARP\\Real demand and speeds\\Manhattan\\experiments\\final_experiments\\05_min\\config.yaml\n",
      "11:30:40 [WARNING] No solution found in folder: C:\\Google Drive\\AIC Experiment Data\\DARP\\Results\\final-real_speeds\\Manhattan\\05_min\\vga_chaining-batch_240_s\n",
      "11:30:40 [INFO] Loading json file from: C:\\Google Drive\\AIC Experiment Data\\DARP\\Results\\final-real_speeds\\Manhattan\\05_min\\vga_chaining-batch_240_s-limited\\config.yaml-performance.json\n",
      "11:30:40 [INFO] Loading json file from: C:\\Google Drive\\AIC Experiment Data\\DARP\\Results\\final-real_speeds\\Manhattan\\05_min\\vga_chaining-batch_240_s-limited\\config.yaml-solution.json\n",
      "11:30:40 [INFO] Loading experiment config from C:\\Google Drive\\AIC Experiment Data\\DARP\\Results\\final-real_speeds\\Manhattan\\05_min\\vga_chaining-batch_240_s-limited\\config.yaml\n",
      "11:30:40 [INFO] Loading instance config from C:\\Google Drive\\AIC Experiment Data\\DARP\\Real demand and speeds\\Manhattan\\experiments\\final_experiments\\05_min\\config.yaml\n",
      "11:30:41 [INFO] Loading json file from: C:\\Google Drive\\AIC Experiment Data\\DARP\\Results\\final-real_speeds\\Manhattan\\05_min\\vga_chaining-batch_30_s\\config.yaml-performance.json\n",
      "11:30:41 [INFO] Loading json file from: C:\\Google Drive\\AIC Experiment Data\\DARP\\Results\\final-real_speeds\\Manhattan\\05_min\\vga_chaining-batch_30_s\\config.yaml-solution.json\n",
      "11:30:41 [INFO] Loading experiment config from C:\\Google Drive\\AIC Experiment Data\\DARP\\Results\\final-real_speeds\\Manhattan\\05_min\\vga_chaining-batch_30_s\\config.yaml\n",
      "11:30:41 [INFO] Loading instance config from C:\\Google Drive\\AIC Experiment Data\\DARP\\Real demand and speeds\\Manhattan\\experiments\\final_experiments\\05_min\\config.yaml\n",
      "11:30:41 [WARNING] No solution found in folder: C:\\Google Drive\\AIC Experiment Data\\DARP\\Results\\final-real_speeds\\Manhattan\\05_min\\vga_chaining-batch_480_s\n",
      "11:30:41 [INFO] Loading json file from: C:\\Google Drive\\AIC Experiment Data\\DARP\\Results\\final-real_speeds\\Manhattan\\05_min\\vga_chaining-batch_480_s-limited\\config.yaml-performance.json\n",
      "11:30:41 [INFO] Loading json file from: C:\\Google Drive\\AIC Experiment Data\\DARP\\Results\\final-real_speeds\\Manhattan\\05_min\\vga_chaining-batch_480_s-limited\\config.yaml-solution.json\n",
      "11:30:41 [INFO] Loading experiment config from C:\\Google Drive\\AIC Experiment Data\\DARP\\Results\\final-real_speeds\\Manhattan\\05_min\\vga_chaining-batch_480_s-limited\\config.yaml\n",
      "11:30:41 [INFO] Loading instance config from C:\\Google Drive\\AIC Experiment Data\\DARP\\Real demand and speeds\\Manhattan\\experiments\\final_experiments\\05_min\\config.yaml\n",
      "11:30:41 [INFO] Loading json file from: C:\\Google Drive\\AIC Experiment Data\\DARP\\Results\\final-real_speeds\\Manhattan\\05_min\\vga_chaining-batch_60_s\\config.yaml-performance.json\n",
      "11:30:41 [INFO] Loading json file from: C:\\Google Drive\\AIC Experiment Data\\DARP\\Results\\final-real_speeds\\Manhattan\\05_min\\vga_chaining-batch_60_s\\config.yaml-solution.json\n",
      "11:30:41 [INFO] Loading experiment config from C:\\Google Drive\\AIC Experiment Data\\DARP\\Results\\final-real_speeds\\Manhattan\\05_min\\vga_chaining-batch_60_s\\config.yaml\n",
      "11:30:41 [INFO] Loading instance config from C:\\Google Drive\\AIC Experiment Data\\DARP\\Real demand and speeds\\Manhattan\\experiments\\final_experiments\\05_min\\config.yaml\n",
      "11:30:41 [WARNING] No solution found in folder: C:\\Google Drive\\AIC Experiment Data\\DARP\\Results\\final-real_speeds\\Manhattan\\15_min\\halns\n",
      "11:30:41 [WARNING] No solution found in folder: C:\\Google Drive\\AIC Experiment Data\\DARP\\Results\\final-real_speeds\\Manhattan\\15_min\\halns-ih\n",
      "11:30:41 [WARNING] No solution found in folder: C:\\Google Drive\\AIC Experiment Data\\DARP\\Results\\final-real_speeds\\Manhattan\\15_min\\halns-vga\n",
      "11:30:41 [INFO] Loading json file from: C:\\Google Drive\\AIC Experiment Data\\DARP\\Results\\final-real_speeds\\Manhattan\\15_min\\ih\\config.yaml-performance.json\n",
      "11:30:41 [INFO] Loading json file from: C:\\Google Drive\\AIC Experiment Data\\DARP\\Results\\final-real_speeds\\Manhattan\\15_min\\ih\\config.yaml-solution.json\n",
      "11:30:41 [INFO] Loading experiment config from C:\\Google Drive\\AIC Experiment Data\\DARP\\Results\\final-real_speeds\\Manhattan\\15_min\\ih\\config.yaml\n",
      "11:30:41 [INFO] Loading instance config from C:\\Google Drive\\AIC Experiment Data\\DARP\\Real demand and speeds\\Manhattan\\experiments\\final_experiments\\15_min\\config.yaml\n",
      "11:30:41 [WARNING] No solution found in folder: C:\\Google Drive\\AIC Experiment Data\\DARP\\Results\\final-real_speeds\\Manhattan\\15_min\\vga\n",
      "11:30:43 [INFO] Loading json file from: C:\\Google Drive\\AIC Experiment Data\\DARP\\Results\\final-real_speeds\\Manhattan\\15_min\\vga_chaining-batch_120_s\\config.yaml-performance.json\n",
      "11:30:43 [INFO] Loading json file from: C:\\Google Drive\\AIC Experiment Data\\DARP\\Results\\final-real_speeds\\Manhattan\\15_min\\vga_chaining-batch_120_s\\config.yaml-solution.json\n",
      "11:30:43 [INFO] Loading experiment config from C:\\Google Drive\\AIC Experiment Data\\DARP\\Results\\final-real_speeds\\Manhattan\\15_min\\vga_chaining-batch_120_s\\config.yaml\n",
      "11:30:43 [INFO] Loading instance config from C:\\Google Drive\\AIC Experiment Data\\DARP\\Real demand and speeds\\Manhattan\\experiments\\final_experiments\\15_min\\config.yaml\n",
      "11:30:44 [INFO] Loading json file from: C:\\Google Drive\\AIC Experiment Data\\DARP\\Results\\final-real_speeds\\Manhattan\\15_min\\vga_chaining-batch_120_s-limited\\config.yaml-performance.json\n",
      "11:30:44 [INFO] Loading json file from: C:\\Google Drive\\AIC Experiment Data\\DARP\\Results\\final-real_speeds\\Manhattan\\15_min\\vga_chaining-batch_120_s-limited\\config.yaml-solution.json\n",
      "11:30:44 [INFO] Loading experiment config from C:\\Google Drive\\AIC Experiment Data\\DARP\\Results\\final-real_speeds\\Manhattan\\15_min\\vga_chaining-batch_120_s-limited\\config.yaml\n",
      "11:30:44 [INFO] Loading instance config from C:\\Google Drive\\AIC Experiment Data\\DARP\\Real demand and speeds\\Manhattan\\experiments\\final_experiments\\15_min\\config.yaml\n",
      "11:30:44 [WARNING] No solution found in folder: C:\\Google Drive\\AIC Experiment Data\\DARP\\Results\\final-real_speeds\\Manhattan\\15_min\\vga_chaining-batch_240_s\n",
      "11:30:46 [INFO] Loading json file from: C:\\Google Drive\\AIC Experiment Data\\DARP\\Results\\final-real_speeds\\Manhattan\\15_min\\vga_chaining-batch_240_s-limited\\config.yaml-performance.json\n",
      "11:30:46 [INFO] Loading json file from: C:\\Google Drive\\AIC Experiment Data\\DARP\\Results\\final-real_speeds\\Manhattan\\15_min\\vga_chaining-batch_240_s-limited\\config.yaml-solution.json\n",
      "11:30:46 [INFO] Loading experiment config from C:\\Google Drive\\AIC Experiment Data\\DARP\\Results\\final-real_speeds\\Manhattan\\15_min\\vga_chaining-batch_240_s-limited\\config.yaml\n",
      "11:30:46 [INFO] Loading instance config from C:\\Google Drive\\AIC Experiment Data\\DARP\\Real demand and speeds\\Manhattan\\experiments\\final_experiments\\15_min\\config.yaml\n",
      "11:30:48 [INFO] Loading json file from: C:\\Google Drive\\AIC Experiment Data\\DARP\\Results\\final-real_speeds\\Manhattan\\15_min\\vga_chaining-batch_30_s\\config.yaml-performance.json\n",
      "11:30:48 [INFO] Loading json file from: C:\\Google Drive\\AIC Experiment Data\\DARP\\Results\\final-real_speeds\\Manhattan\\15_min\\vga_chaining-batch_30_s\\config.yaml-solution.json\n",
      "11:30:48 [INFO] Loading experiment config from C:\\Google Drive\\AIC Experiment Data\\DARP\\Results\\final-real_speeds\\Manhattan\\15_min\\vga_chaining-batch_30_s\\config.yaml\n",
      "11:30:48 [INFO] Loading instance config from C:\\Google Drive\\AIC Experiment Data\\DARP\\Real demand and speeds\\Manhattan\\experiments\\final_experiments\\15_min\\config.yaml\n",
      "11:30:48 [WARNING] No solution found in folder: C:\\Google Drive\\AIC Experiment Data\\DARP\\Results\\final-real_speeds\\Manhattan\\15_min\\vga_chaining-batch_480_s\n",
      "11:30:50 [INFO] Loading json file from: C:\\Google Drive\\AIC Experiment Data\\DARP\\Results\\final-real_speeds\\Manhattan\\15_min\\vga_chaining-batch_480_s-limited\\config.yaml-performance.json\n",
      "11:30:50 [INFO] Loading json file from: C:\\Google Drive\\AIC Experiment Data\\DARP\\Results\\final-real_speeds\\Manhattan\\15_min\\vga_chaining-batch_480_s-limited\\config.yaml-solution.json\n",
      "11:30:50 [INFO] Loading experiment config from C:\\Google Drive\\AIC Experiment Data\\DARP\\Results\\final-real_speeds\\Manhattan\\15_min\\vga_chaining-batch_480_s-limited\\config.yaml\n",
      "11:30:50 [INFO] Loading instance config from C:\\Google Drive\\AIC Experiment Data\\DARP\\Real demand and speeds\\Manhattan\\experiments\\final_experiments\\15_min\\config.yaml\n",
      "11:30:52 [INFO] Loading json file from: C:\\Google Drive\\AIC Experiment Data\\DARP\\Results\\final-real_speeds\\Manhattan\\15_min\\vga_chaining-batch_60_s\\config.yaml-performance.json\n",
      "11:30:52 [INFO] Loading json file from: C:\\Google Drive\\AIC Experiment Data\\DARP\\Results\\final-real_speeds\\Manhattan\\15_min\\vga_chaining-batch_60_s\\config.yaml-solution.json\n",
      "11:30:52 [INFO] Loading experiment config from C:\\Google Drive\\AIC Experiment Data\\DARP\\Results\\final-real_speeds\\Manhattan\\15_min\\vga_chaining-batch_60_s\\config.yaml\n",
      "11:30:52 [INFO] Loading instance config from C:\\Google Drive\\AIC Experiment Data\\DARP\\Real demand and speeds\\Manhattan\\experiments\\final_experiments\\15_min\\config.yaml\n",
      "11:30:52 [WARNING] No solution found in folder: C:\\Google Drive\\AIC Experiment Data\\DARP\\Results\\final-real_speeds\\Manhattan\\30_min\\halns\n",
      "11:30:52 [WARNING] No solution found in folder: C:\\Google Drive\\AIC Experiment Data\\DARP\\Results\\final-real_speeds\\Manhattan\\30_min\\halns-ih\n",
      "11:30:52 [WARNING] No solution found in folder: C:\\Google Drive\\AIC Experiment Data\\DARP\\Results\\final-real_speeds\\Manhattan\\30_min\\halns-vga\n",
      "11:30:52 [INFO] Loading json file from: C:\\Google Drive\\AIC Experiment Data\\DARP\\Results\\final-real_speeds\\Manhattan\\30_min\\ih\\config.yaml-performance.json\n",
      "11:30:52 [INFO] Loading json file from: C:\\Google Drive\\AIC Experiment Data\\DARP\\Results\\final-real_speeds\\Manhattan\\30_min\\ih\\config.yaml-solution.json\n",
      "11:30:52 [INFO] Loading experiment config from C:\\Google Drive\\AIC Experiment Data\\DARP\\Results\\final-real_speeds\\Manhattan\\30_min\\ih\\config.yaml\n",
      "11:30:52 [INFO] Loading instance config from C:\\Google Drive\\AIC Experiment Data\\DARP\\Real demand and speeds\\Manhattan\\experiments\\final_experiments\\30_min\\config.yaml\n",
      "11:30:52 [WARNING] No solution found in folder: C:\\Google Drive\\AIC Experiment Data\\DARP\\Results\\final-real_speeds\\Manhattan\\30_min\\vga\n",
      "11:30:59 [INFO] Loading json file from: C:\\Google Drive\\AIC Experiment Data\\DARP\\Results\\final-real_speeds\\Manhattan\\30_min\\vga_chaining-batch_120_s\\config.yaml-performance.json\n",
      "11:30:59 [INFO] Loading json file from: C:\\Google Drive\\AIC Experiment Data\\DARP\\Results\\final-real_speeds\\Manhattan\\30_min\\vga_chaining-batch_120_s\\config.yaml-solution.json\n",
      "11:30:59 [INFO] Loading experiment config from C:\\Google Drive\\AIC Experiment Data\\DARP\\Results\\final-real_speeds\\Manhattan\\30_min\\vga_chaining-batch_120_s\\config.yaml\n",
      "11:30:59 [INFO] Loading instance config from C:\\Google Drive\\AIC Experiment Data\\DARP\\Real demand and speeds\\Manhattan\\experiments\\final_experiments\\30_min\\config.yaml\n",
      "11:31:06 [INFO] Loading json file from: C:\\Google Drive\\AIC Experiment Data\\DARP\\Results\\final-real_speeds\\Manhattan\\30_min\\vga_chaining-batch_120_s-limited\\config.yaml-performance.json\n",
      "11:31:06 [INFO] Loading json file from: C:\\Google Drive\\AIC Experiment Data\\DARP\\Results\\final-real_speeds\\Manhattan\\30_min\\vga_chaining-batch_120_s-limited\\config.yaml-solution.json\n",
      "11:31:06 [INFO] Loading experiment config from C:\\Google Drive\\AIC Experiment Data\\DARP\\Results\\final-real_speeds\\Manhattan\\30_min\\vga_chaining-batch_120_s-limited\\config.yaml\n",
      "11:31:06 [INFO] Loading instance config from C:\\Google Drive\\AIC Experiment Data\\DARP\\Real demand and speeds\\Manhattan\\experiments\\final_experiments\\30_min\\config.yaml\n",
      "11:31:06 [WARNING] No solution found in folder: C:\\Google Drive\\AIC Experiment Data\\DARP\\Results\\final-real_speeds\\Manhattan\\30_min\\vga_chaining-batch_240_s\n",
      "11:31:13 [INFO] Loading json file from: C:\\Google Drive\\AIC Experiment Data\\DARP\\Results\\final-real_speeds\\Manhattan\\30_min\\vga_chaining-batch_240_s-limited\\config.yaml-performance.json\n",
      "11:31:13 [INFO] Loading json file from: C:\\Google Drive\\AIC Experiment Data\\DARP\\Results\\final-real_speeds\\Manhattan\\30_min\\vga_chaining-batch_240_s-limited\\config.yaml-solution.json\n",
      "11:31:13 [INFO] Loading experiment config from C:\\Google Drive\\AIC Experiment Data\\DARP\\Results\\final-real_speeds\\Manhattan\\30_min\\vga_chaining-batch_240_s-limited\\config.yaml\n",
      "11:31:13 [INFO] Loading instance config from C:\\Google Drive\\AIC Experiment Data\\DARP\\Real demand and speeds\\Manhattan\\experiments\\final_experiments\\30_min\\config.yaml\n",
      "11:31:28 [INFO] Loading json file from: C:\\Google Drive\\AIC Experiment Data\\DARP\\Results\\final-real_speeds\\Manhattan\\30_min\\vga_chaining-batch_30_s\\config.yaml-performance.json\n",
      "11:31:28 [INFO] Loading json file from: C:\\Google Drive\\AIC Experiment Data\\DARP\\Results\\final-real_speeds\\Manhattan\\30_min\\vga_chaining-batch_30_s\\config.yaml-solution.json\n",
      "11:31:28 [INFO] Loading experiment config from C:\\Google Drive\\AIC Experiment Data\\DARP\\Results\\final-real_speeds\\Manhattan\\30_min\\vga_chaining-batch_30_s\\config.yaml\n",
      "11:31:28 [INFO] Loading instance config from C:\\Google Drive\\AIC Experiment Data\\DARP\\Real demand and speeds\\Manhattan\\experiments\\final_experiments\\30_min\\config.yaml\n",
      "11:31:28 [WARNING] No solution found in folder: C:\\Google Drive\\AIC Experiment Data\\DARP\\Results\\final-real_speeds\\Manhattan\\30_min\\vga_chaining-batch_480_s\n",
      "11:31:34 [INFO] Loading json file from: C:\\Google Drive\\AIC Experiment Data\\DARP\\Results\\final-real_speeds\\Manhattan\\30_min\\vga_chaining-batch_480_s-limited\\config.yaml-performance.json\n",
      "11:31:34 [INFO] Loading json file from: C:\\Google Drive\\AIC Experiment Data\\DARP\\Results\\final-real_speeds\\Manhattan\\30_min\\vga_chaining-batch_480_s-limited\\config.yaml-solution.json\n",
      "11:31:34 [INFO] Loading experiment config from C:\\Google Drive\\AIC Experiment Data\\DARP\\Results\\final-real_speeds\\Manhattan\\30_min\\vga_chaining-batch_480_s-limited\\config.yaml\n",
      "11:31:34 [INFO] Loading instance config from C:\\Google Drive\\AIC Experiment Data\\DARP\\Real demand and speeds\\Manhattan\\experiments\\final_experiments\\30_min\\config.yaml\n",
      "11:31:44 [INFO] Loading json file from: C:\\Google Drive\\AIC Experiment Data\\DARP\\Results\\final-real_speeds\\Manhattan\\30_min\\vga_chaining-batch_60_s\\config.yaml-performance.json\n",
      "11:31:44 [INFO] Loading json file from: C:\\Google Drive\\AIC Experiment Data\\DARP\\Results\\final-real_speeds\\Manhattan\\30_min\\vga_chaining-batch_60_s\\config.yaml-solution.json\n",
      "11:31:44 [INFO] Loading experiment config from C:\\Google Drive\\AIC Experiment Data\\DARP\\Results\\final-real_speeds\\Manhattan\\30_min\\vga_chaining-batch_60_s\\config.yaml\n",
      "11:31:44 [INFO] Loading instance config from C:\\Google Drive\\AIC Experiment Data\\DARP\\Real demand and speeds\\Manhattan\\experiments\\final_experiments\\30_min\\config.yaml\n",
      "11:31:44 [INFO] Loading aggregate stats in C:\\Google Drive\\AIC Experiment Data\\DARP\\Results\\final-real_speeds\\Chicago\n",
      "11:31:44 [INFO] Loading aggregate stats in C:\\Google Drive\\AIC Experiment Data\\DARP\\Results\\final-real_speeds\\DC\n",
      "11:31:44 [INFO] Loading json file from: C:\\Google Drive\\AIC Experiment Data\\DARP\\Results\\final-real_speeds\\DC\\05_min\\ih\\config.yaml-performance.json\n",
      "11:31:44 [INFO] Loading json file from: C:\\Google Drive\\AIC Experiment Data\\DARP\\Results\\final-real_speeds\\DC\\05_min\\ih\\config.yaml-solution.json\n",
      "11:31:44 [INFO] Loading experiment config from C:\\Google Drive\\AIC Experiment Data\\DARP\\Results\\final-real_speeds\\DC\\05_min\\ih\\config.yaml\n",
      "11:31:44 [INFO] Loading instance config from C:\\Google Drive\\AIC Experiment Data\\DARP\\Real demand and speeds\\DC\\experiments\\final_experiments\\05_min\\config.yaml\n",
      "11:31:44 [INFO] Loading json file from: C:\\Google Drive\\AIC Experiment Data\\DARP\\Results\\final-real_speeds\\DC\\05_min\\vga\\config.yaml-performance.json\n",
      "11:31:44 [INFO] Loading json file from: C:\\Google Drive\\AIC Experiment Data\\DARP\\Results\\final-real_speeds\\DC\\05_min\\vga\\config.yaml-solution.json\n",
      "11:31:44 [INFO] Loading experiment config from C:\\Google Drive\\AIC Experiment Data\\DARP\\Results\\final-real_speeds\\DC\\05_min\\vga\\config.yaml\n",
      "11:31:44 [INFO] Loading instance config from C:\\Google Drive\\AIC Experiment Data\\DARP\\Real demand and speeds\\DC\\experiments\\final_experiments\\05_min\\config.yaml\n",
      "11:31:44 [WARNING] No solution found in folder: C:\\Google Drive\\AIC Experiment Data\\DARP\\Results\\final-real_speeds\\DC\\05_min\\vga_chaining-batch_120_s\n",
      "11:31:44 [WARNING] No solution found in folder: C:\\Google Drive\\AIC Experiment Data\\DARP\\Results\\final-real_speeds\\DC\\05_min\\vga_chaining-batch_120_s-limited\n",
      "11:31:44 [WARNING] No solution found in folder: C:\\Google Drive\\AIC Experiment Data\\DARP\\Results\\final-real_speeds\\DC\\05_min\\vga_chaining-batch_240_s\n",
      "11:31:44 [WARNING] No solution found in folder: C:\\Google Drive\\AIC Experiment Data\\DARP\\Results\\final-real_speeds\\DC\\05_min\\vga_chaining-batch_240_s-limited\n",
      "11:31:44 [WARNING] No solution found in folder: C:\\Google Drive\\AIC Experiment Data\\DARP\\Results\\final-real_speeds\\DC\\05_min\\vga_chaining-batch_30_s\n",
      "11:31:44 [INFO] Loading json file from: C:\\Google Drive\\AIC Experiment Data\\DARP\\Results\\final-real_speeds\\DC\\05_min\\vga_chaining-batch_480_s\\config.yaml-performance.json\n",
      "11:31:44 [INFO] Loading json file from: C:\\Google Drive\\AIC Experiment Data\\DARP\\Results\\final-real_speeds\\DC\\05_min\\vga_chaining-batch_480_s\\config.yaml-solution.json\n",
      "11:31:44 [INFO] Loading experiment config from C:\\Google Drive\\AIC Experiment Data\\DARP\\Results\\final-real_speeds\\DC\\05_min\\vga_chaining-batch_480_s\\config.yaml\n",
      "11:31:44 [INFO] Loading instance config from C:\\Google Drive\\AIC Experiment Data\\DARP\\Real demand and speeds\\DC\\experiments\\final_experiments\\05_min\\config.yaml\n",
      "11:31:44 [WARNING] No solution found in folder: C:\\Google Drive\\AIC Experiment Data\\DARP\\Results\\final-real_speeds\\DC\\05_min\\vga_chaining-batch_480_s-limited\n",
      "11:31:44 [WARNING] No solution found in folder: C:\\Google Drive\\AIC Experiment Data\\DARP\\Results\\final-real_speeds\\DC\\05_min\\vga_chaining-batch_60_s\n",
      "11:31:44 [INFO] Loading json file from: C:\\Google Drive\\AIC Experiment Data\\DARP\\Results\\final-real_speeds\\DC\\15_min\\ih\\config.yaml-performance.json\n",
      "11:31:44 [INFO] Loading json file from: C:\\Google Drive\\AIC Experiment Data\\DARP\\Results\\final-real_speeds\\DC\\15_min\\ih\\config.yaml-solution.json\n",
      "11:31:44 [INFO] Loading experiment config from C:\\Google Drive\\AIC Experiment Data\\DARP\\Results\\final-real_speeds\\DC\\15_min\\ih\\config.yaml\n",
      "11:31:44 [INFO] Loading instance config from C:\\Google Drive\\AIC Experiment Data\\DARP\\Real demand and speeds\\DC\\experiments\\final_experiments\\15_min\\config.yaml\n",
      "11:31:44 [INFO] Loading json file from: C:\\Google Drive\\AIC Experiment Data\\DARP\\Results\\final-real_speeds\\DC\\15_min\\vga\\config.yaml-performance.json\n",
      "11:31:44 [INFO] Loading json file from: C:\\Google Drive\\AIC Experiment Data\\DARP\\Results\\final-real_speeds\\DC\\15_min\\vga\\config.yaml-solution.json\n",
      "11:31:44 [INFO] Loading experiment config from C:\\Google Drive\\AIC Experiment Data\\DARP\\Results\\final-real_speeds\\DC\\15_min\\vga\\config.yaml\n",
      "11:31:44 [INFO] Loading instance config from C:\\Google Drive\\AIC Experiment Data\\DARP\\Real demand and speeds\\DC\\experiments\\final_experiments\\15_min\\config.yaml\n",
      "11:31:44 [WARNING] No solution found in folder: C:\\Google Drive\\AIC Experiment Data\\DARP\\Results\\final-real_speeds\\DC\\15_min\\vga_chaining-batch_120_s\n",
      "11:31:44 [WARNING] No solution found in folder: C:\\Google Drive\\AIC Experiment Data\\DARP\\Results\\final-real_speeds\\DC\\15_min\\vga_chaining-batch_120_s-limited\n",
      "11:31:44 [WARNING] No solution found in folder: C:\\Google Drive\\AIC Experiment Data\\DARP\\Results\\final-real_speeds\\DC\\15_min\\vga_chaining-batch_240_s\n",
      "11:31:44 [WARNING] No solution found in folder: C:\\Google Drive\\AIC Experiment Data\\DARP\\Results\\final-real_speeds\\DC\\15_min\\vga_chaining-batch_240_s-limited\n",
      "11:31:44 [WARNING] No solution found in folder: C:\\Google Drive\\AIC Experiment Data\\DARP\\Results\\final-real_speeds\\DC\\15_min\\vga_chaining-batch_30_s\n",
      "11:31:44 [WARNING] No solution found in folder: C:\\Google Drive\\AIC Experiment Data\\DARP\\Results\\final-real_speeds\\DC\\15_min\\vga_chaining-batch_480_s\n",
      "11:31:44 [WARNING] No solution found in folder: C:\\Google Drive\\AIC Experiment Data\\DARP\\Results\\final-real_speeds\\DC\\15_min\\vga_chaining-batch_480_s-limited\n",
      "11:31:44 [WARNING] No solution found in folder: C:\\Google Drive\\AIC Experiment Data\\DARP\\Results\\final-real_speeds\\DC\\15_min\\vga_chaining-batch_60_s\n",
      "11:31:44 [INFO] Loading json file from: C:\\Google Drive\\AIC Experiment Data\\DARP\\Results\\final-real_speeds\\DC\\30_min\\ih\\config.yaml-performance.json\n",
      "11:31:44 [INFO] Loading json file from: C:\\Google Drive\\AIC Experiment Data\\DARP\\Results\\final-real_speeds\\DC\\30_min\\ih\\config.yaml-solution.json\n",
      "11:31:44 [INFO] Loading experiment config from C:\\Google Drive\\AIC Experiment Data\\DARP\\Results\\final-real_speeds\\DC\\30_min\\ih\\config.yaml\n",
      "11:31:44 [INFO] Loading instance config from C:\\Google Drive\\AIC Experiment Data\\DARP\\Real demand and speeds\\DC\\experiments\\final_experiments\\30_min\\config.yaml\n",
      "11:31:44 [INFO] Loading json file from: C:\\Google Drive\\AIC Experiment Data\\DARP\\Results\\final-real_speeds\\DC\\30_min\\vga\\config.yaml-performance.json\n",
      "11:31:44 [INFO] Loading json file from: C:\\Google Drive\\AIC Experiment Data\\DARP\\Results\\final-real_speeds\\DC\\30_min\\vga\\config.yaml-solution.json\n",
      "11:31:44 [INFO] Loading experiment config from C:\\Google Drive\\AIC Experiment Data\\DARP\\Results\\final-real_speeds\\DC\\30_min\\vga\\config.yaml\n",
      "11:31:44 [INFO] Loading instance config from C:\\Google Drive\\AIC Experiment Data\\DARP\\Real demand and speeds\\DC\\experiments\\final_experiments\\30_min\\config.yaml\n",
      "11:31:44 [WARNING] No solution found in folder: C:\\Google Drive\\AIC Experiment Data\\DARP\\Results\\final-real_speeds\\DC\\30_min\\vga_chaining-batch_120_s\n",
      "11:31:44 [WARNING] No solution found in folder: C:\\Google Drive\\AIC Experiment Data\\DARP\\Results\\final-real_speeds\\DC\\30_min\\vga_chaining-batch_120_s-limited\n",
      "11:31:44 [INFO] Loading json file from: C:\\Google Drive\\AIC Experiment Data\\DARP\\Results\\final-real_speeds\\DC\\30_min\\vga_chaining-batch_240_s\\config.yaml-performance.json\n",
      "11:31:44 [INFO] Loading json file from: C:\\Google Drive\\AIC Experiment Data\\DARP\\Results\\final-real_speeds\\DC\\30_min\\vga_chaining-batch_240_s\\config.yaml-solution.json\n",
      "11:31:44 [INFO] Loading experiment config from C:\\Google Drive\\AIC Experiment Data\\DARP\\Results\\final-real_speeds\\DC\\30_min\\vga_chaining-batch_240_s\\config.yaml\n",
      "11:31:44 [INFO] Loading instance config from C:\\Google Drive\\AIC Experiment Data\\DARP\\Real demand and speeds\\DC\\experiments\\final_experiments\\30_min\\config.yaml\n",
      "11:31:44 [WARNING] No solution found in folder: C:\\Google Drive\\AIC Experiment Data\\DARP\\Results\\final-real_speeds\\DC\\30_min\\vga_chaining-batch_240_s-limited\n",
      "11:31:44 [WARNING] No solution found in folder: C:\\Google Drive\\AIC Experiment Data\\DARP\\Results\\final-real_speeds\\DC\\30_min\\vga_chaining-batch_30_s\n",
      "11:31:44 [INFO] Loading json file from: C:\\Google Drive\\AIC Experiment Data\\DARP\\Results\\final-real_speeds\\DC\\30_min\\vga_chaining-batch_480_s\\config.yaml-performance.json\n",
      "11:31:44 [INFO] Loading json file from: C:\\Google Drive\\AIC Experiment Data\\DARP\\Results\\final-real_speeds\\DC\\30_min\\vga_chaining-batch_480_s\\config.yaml-solution.json\n",
      "11:31:44 [INFO] Loading experiment config from C:\\Google Drive\\AIC Experiment Data\\DARP\\Results\\final-real_speeds\\DC\\30_min\\vga_chaining-batch_480_s\\config.yaml\n",
      "11:31:44 [INFO] Loading instance config from C:\\Google Drive\\AIC Experiment Data\\DARP\\Real demand and speeds\\DC\\experiments\\final_experiments\\30_min\\config.yaml\n",
      "11:31:44 [WARNING] No solution found in folder: C:\\Google Drive\\AIC Experiment Data\\DARP\\Results\\final-real_speeds\\DC\\30_min\\vga_chaining-batch_480_s-limited\n",
      "11:31:44 [WARNING] No solution found in folder: C:\\Google Drive\\AIC Experiment Data\\DARP\\Results\\final-real_speeds\\DC\\30_min\\vga_chaining-batch_60_s\n"
     ]
    },
    {
     "data": {
      "text/plain": "         area  cost_minutes  total_time  dropped_requests    avg_delay   \n0   Manhattan        9203.0       1.024               0.0   554.799523  \\\n1   Manhattan        8036.0     169.488               0.0   542.550716   \n2   Manhattan        8036.0     113.903               0.0   542.550716   \n3   Manhattan        8065.0     111.654               0.0   544.662888   \n4   Manhattan        9847.0      10.407               0.0   527.038783   \n5   Manhattan        8117.0     111.799               0.0   548.521480   \n6   Manhattan        8832.0      10.052               0.0   535.949881   \n7   Manhattan       24610.0       8.791               0.0   562.032649   \n8   Manhattan       23543.0     251.819               0.0   545.104203   \n9   Manhattan       23543.0     250.845               0.0   545.104203   \n10  Manhattan       23643.0     388.632               0.0   547.371848   \n11  Manhattan       29418.0     191.203               0.0   529.356012   \n12  Manhattan       23802.0     379.810               0.0   550.086804   \n13  Manhattan       26509.0     127.335               0.0   538.576931   \n14  Manhattan       46869.0      38.645               0.0   563.669268   \n15  Manhattan       47101.0    1249.247               0.0   546.866859   \n16  Manhattan       47101.0    1286.340               0.0   546.866859   \n17  Manhattan       47340.0    1219.913               0.0   549.446339   \n18  Manhattan       59044.0    1681.038               0.0   530.213102   \n19  Manhattan       47643.0    1139.635               0.0   552.166667   \n20  Manhattan       53257.0     918.119               0.0   538.751156   \n21         DC         493.0       0.000               6.0   909.200000   \n22         DC         421.0       0.077               3.0   839.090909   \n23         DC         439.0       0.072               3.0   839.666667   \n24         DC        1723.0       0.007               7.0   988.198276   \n25         DC        1650.0       1.972               0.0  1001.227642   \n26         DC        3238.0       0.025               0.0  1014.591270   \n27         DC        2996.0     254.966               0.0  1029.376984   \n28         DC        3744.0       0.562               0.0   974.246032   \n29         DC        3413.0       0.470               0.0   990.980159   \n\n    plan_count  req_count  avg_occupancy  used_connections   \n0        593.0     1676.0       1.679100              -1.0  \\\n1        572.0     1676.0       1.881875            1763.0   \n2        572.0     1676.0       1.881875            1763.0   \n3        560.0     1676.0       1.882138            1688.0   \n4        737.0     1676.0       1.494704            2456.0   \n5        553.0     1676.0       1.883496            1659.0   \n6        642.0     1676.0       1.694257            2019.0   \n7       1330.0     5115.0       1.936824              -1.0   \n8       1631.0     5115.0       1.968700            5783.0   \n9       1631.0     5115.0       1.968700            5783.0   \n10      1608.0     5115.0       1.968614            5458.0   \n11      2049.0     5115.0       1.533742            8679.0   \n12      1595.0     5115.0       1.965225            5256.0   \n13      1844.0     5115.0       1.731135            6953.0   \n14      1993.0    10380.0       2.068728              -1.0   \n15      2913.0    10380.0       2.003390           12692.0   \n16      2913.0    10380.0       2.003390           12692.0   \n17      2843.0    10380.0       2.002672           12102.0   \n18      3693.0    10380.0       1.553248           18787.0   \n19      2800.0    10380.0       1.999852           11801.0   \n20      3319.0    10380.0       1.749194           15419.0   \n21        18.0       30.0       0.916872              -1.0   \n22        18.0       33.0       1.091838              -1.0   \n23        18.0       33.0       1.043877              54.0   \n24        62.0      116.0       1.102313              -1.0   \n25        62.0      123.0       1.231009              -1.0   \n26       111.0      252.0       1.307270              -1.0   \n27       111.0      252.0       1.418702              -1.0   \n28       126.0      252.0       1.090227             676.0   \n29       126.0      252.0       1.211336             573.0   \n\n    total_driving_duration  total_waiting_duration  avg_waiting_duration   \n0                 552165.0                  2611.0              4.403035  \\\n1                 482157.0                  1890.0              3.304196   \n2                 482157.0                  1890.0              3.304196   \n3                 483922.0                  1977.0              3.530357   \n4                 590836.0                   290.0              0.393487   \n5                 487046.0                  1853.0              3.350814   \n6                 529925.0                   599.0              0.933022   \n7                1476581.0                 13193.0              9.919549   \n8                1412599.0                 12320.0              7.553648   \n9                1412599.0                 12320.0              7.553648   \n10               1418580.0                  9994.0              6.215174   \n11               1765103.0                 20820.0             10.161054   \n12               1428112.0                  8955.0              5.614420   \n13               1590564.0                 11206.0              6.077007   \n14               2812152.0                 49427.0             24.800301   \n15               2826057.0                161777.0             55.536217   \n16               2826057.0                161777.0             55.536217   \n17               2840385.0                152430.0             53.615899   \n18               3542658.0                316323.0             85.654752   \n19               2858577.0                150626.0             53.795000   \n20               3195412.0                217846.0             65.636035   \n21                 29605.0                   132.0              7.333333   \n22                 25240.0                   132.0              7.333333   \n23                 26369.0                   183.0             10.166667   \n24                103369.0                   865.0             13.951613   \n25                 98983.0                  1467.0             23.661290   \n26                194298.0                  4107.0             37.000000   \n27                179789.0                  6808.0             61.333333   \n28                224611.0                  4396.0             34.888889   \n29                204764.0                  4467.0             35.452381   \n\n    tts_cost  tts_cost_per_plan        method  max_delay          start_time   \n0    24025.0          40.514334            ih      300.0 2022-03-11 18:00:00  \\\n1    15297.0          26.743007  vga_chaining      300.0 2022-03-11 18:00:00   \n2    15297.0          26.743007  vga_chaining      300.0 2022-03-11 18:00:00   \n3    14494.0          25.882143  vga_chaining      300.0 2022-03-11 18:00:00   \n4    23941.0          32.484396  vga_chaining      300.0 2022-03-11 18:00:00   \n5    14206.0          25.688969  vga_chaining      300.0 2022-03-11 18:00:00   \n6    17974.0          27.996885  vga_chaining      300.0 2022-03-11 18:00:00   \n7    30240.0          22.736842            ih      300.0 2022-03-11 18:00:00   \n8    18171.0          11.141018  vga_chaining      300.0 2022-03-11 18:00:00   \n9    18171.0          11.141018  vga_chaining      300.0 2022-03-11 18:00:00   \n10   17826.0          11.085821  vga_chaining      300.0 2022-03-11 18:00:00   \n11   23553.0          11.494876  vga_chaining      300.0 2022-03-11 18:00:00   \n12   17750.0          11.128527  vga_chaining      300.0 2022-03-11 18:00:00   \n13   22189.0          12.033080  vga_chaining      300.0 2022-03-11 18:00:00   \n14   36997.0          18.563472            ih      300.0 2022-03-11 18:00:00   \n15   12497.0           4.290079  vga_chaining      300.0 2022-03-11 18:00:00   \n16   12497.0           4.290079  vga_chaining      300.0 2022-03-11 18:00:00   \n17   12181.0           4.284559  vga_chaining      300.0 2022-03-11 18:00:00   \n18   14915.0           4.038722  vga_chaining      300.0 2022-03-11 18:00:00   \n19   11655.0           4.162500  vga_chaining      300.0 2022-03-11 18:00:00   \n20   13434.0           4.047605  vga_chaining      300.0 2022-03-11 18:00:00   \n21    8202.0         455.666667            ih      300.0 2021-10-22 18:00:00   \n22    4961.0         275.611111           vga      300.0 2021-10-22 18:00:00   \n23    6502.0         361.222222  vga_chaining      300.0 2021-10-22 18:00:00   \n24   15717.0         253.500000            ih      300.0 2021-10-22 18:00:00   \n25   11450.0         184.677419           vga      300.0 2021-10-22 18:00:00   \n26   11331.0         102.081081            ih      300.0 2021-10-22 18:00:00   \n27    8372.0          75.423423           vga      300.0 2021-10-22 18:00:00   \n28   12938.0         102.682540  vga_chaining      300.0 2021-10-22 18:00:00   \n29   11660.0          92.539683  vga_chaining      300.0 2021-10-22 18:00:00   \n\n              end_time  \n0  2022-03-11 18:05:00  \n1  2022-03-11 18:05:00  \n2  2022-03-11 18:05:00  \n3  2022-03-11 18:05:00  \n4  2022-03-11 18:05:00  \n5  2022-03-11 18:05:00  \n6  2022-03-11 18:05:00  \n7  2022-03-11 18:15:00  \n8  2022-03-11 18:15:00  \n9  2022-03-11 18:15:00  \n10 2022-03-11 18:15:00  \n11 2022-03-11 18:15:00  \n12 2022-03-11 18:15:00  \n13 2022-03-11 18:15:00  \n14 2022-03-11 18:30:00  \n15 2022-03-11 18:30:00  \n16 2022-03-11 18:30:00  \n17 2022-03-11 18:30:00  \n18 2022-03-11 18:30:00  \n19 2022-03-11 18:30:00  \n20 2022-03-11 18:30:00  \n21 2021-10-22 18:05:00  \n22 2021-10-22 18:05:00  \n23 2021-10-22 18:05:00  \n24 2021-10-22 18:15:00  \n25 2021-10-22 18:15:00  \n26 2021-10-22 18:30:00  \n27 2021-10-22 18:30:00  \n28 2021-10-22 18:30:00  \n29 2021-10-22 18:30:00  ",
      "text/html": "<div>\n<style scoped>\n    .dataframe tbody tr th:only-of-type {\n        vertical-align: middle;\n    }\n\n    .dataframe tbody tr th {\n        vertical-align: top;\n    }\n\n    .dataframe thead th {\n        text-align: right;\n    }\n</style>\n<table border=\"1\" class=\"dataframe\">\n  <thead>\n    <tr style=\"text-align: right;\">\n      <th></th>\n      <th>area</th>\n      <th>cost_minutes</th>\n      <th>total_time</th>\n      <th>dropped_requests</th>\n      <th>avg_delay</th>\n      <th>plan_count</th>\n      <th>req_count</th>\n      <th>avg_occupancy</th>\n      <th>used_connections</th>\n      <th>total_driving_duration</th>\n      <th>total_waiting_duration</th>\n      <th>avg_waiting_duration</th>\n      <th>tts_cost</th>\n      <th>tts_cost_per_plan</th>\n      <th>method</th>\n      <th>max_delay</th>\n      <th>start_time</th>\n      <th>end_time</th>\n    </tr>\n  </thead>\n  <tbody>\n    <tr>\n      <th>0</th>\n      <td>Manhattan</td>\n      <td>9203.0</td>\n      <td>1.024</td>\n      <td>0.0</td>\n      <td>554.799523</td>\n      <td>593.0</td>\n      <td>1676.0</td>\n      <td>1.679100</td>\n      <td>-1.0</td>\n      <td>552165.0</td>\n      <td>2611.0</td>\n      <td>4.403035</td>\n      <td>24025.0</td>\n      <td>40.514334</td>\n      <td>ih</td>\n      <td>300.0</td>\n      <td>2022-03-11 18:00:00</td>\n      <td>2022-03-11 18:05:00</td>\n    </tr>\n    <tr>\n      <th>1</th>\n      <td>Manhattan</td>\n      <td>8036.0</td>\n      <td>169.488</td>\n      <td>0.0</td>\n      <td>542.550716</td>\n      <td>572.0</td>\n      <td>1676.0</td>\n      <td>1.881875</td>\n      <td>1763.0</td>\n      <td>482157.0</td>\n      <td>1890.0</td>\n      <td>3.304196</td>\n      <td>15297.0</td>\n      <td>26.743007</td>\n      <td>vga_chaining</td>\n      <td>300.0</td>\n      <td>2022-03-11 18:00:00</td>\n      <td>2022-03-11 18:05:00</td>\n    </tr>\n    <tr>\n      <th>2</th>\n      <td>Manhattan</td>\n      <td>8036.0</td>\n      <td>113.903</td>\n      <td>0.0</td>\n      <td>542.550716</td>\n      <td>572.0</td>\n      <td>1676.0</td>\n      <td>1.881875</td>\n      <td>1763.0</td>\n      <td>482157.0</td>\n      <td>1890.0</td>\n      <td>3.304196</td>\n      <td>15297.0</td>\n      <td>26.743007</td>\n      <td>vga_chaining</td>\n      <td>300.0</td>\n      <td>2022-03-11 18:00:00</td>\n      <td>2022-03-11 18:05:00</td>\n    </tr>\n    <tr>\n      <th>3</th>\n      <td>Manhattan</td>\n      <td>8065.0</td>\n      <td>111.654</td>\n      <td>0.0</td>\n      <td>544.662888</td>\n      <td>560.0</td>\n      <td>1676.0</td>\n      <td>1.882138</td>\n      <td>1688.0</td>\n      <td>483922.0</td>\n      <td>1977.0</td>\n      <td>3.530357</td>\n      <td>14494.0</td>\n      <td>25.882143</td>\n      <td>vga_chaining</td>\n      <td>300.0</td>\n      <td>2022-03-11 18:00:00</td>\n      <td>2022-03-11 18:05:00</td>\n    </tr>\n    <tr>\n      <th>4</th>\n      <td>Manhattan</td>\n      <td>9847.0</td>\n      <td>10.407</td>\n      <td>0.0</td>\n      <td>527.038783</td>\n      <td>737.0</td>\n      <td>1676.0</td>\n      <td>1.494704</td>\n      <td>2456.0</td>\n      <td>590836.0</td>\n      <td>290.0</td>\n      <td>0.393487</td>\n      <td>23941.0</td>\n      <td>32.484396</td>\n      <td>vga_chaining</td>\n      <td>300.0</td>\n      <td>2022-03-11 18:00:00</td>\n      <td>2022-03-11 18:05:00</td>\n    </tr>\n    <tr>\n      <th>5</th>\n      <td>Manhattan</td>\n      <td>8117.0</td>\n      <td>111.799</td>\n      <td>0.0</td>\n      <td>548.521480</td>\n      <td>553.0</td>\n      <td>1676.0</td>\n      <td>1.883496</td>\n      <td>1659.0</td>\n      <td>487046.0</td>\n      <td>1853.0</td>\n      <td>3.350814</td>\n      <td>14206.0</td>\n      <td>25.688969</td>\n      <td>vga_chaining</td>\n      <td>300.0</td>\n      <td>2022-03-11 18:00:00</td>\n      <td>2022-03-11 18:05:00</td>\n    </tr>\n    <tr>\n      <th>6</th>\n      <td>Manhattan</td>\n      <td>8832.0</td>\n      <td>10.052</td>\n      <td>0.0</td>\n      <td>535.949881</td>\n      <td>642.0</td>\n      <td>1676.0</td>\n      <td>1.694257</td>\n      <td>2019.0</td>\n      <td>529925.0</td>\n      <td>599.0</td>\n      <td>0.933022</td>\n      <td>17974.0</td>\n      <td>27.996885</td>\n      <td>vga_chaining</td>\n      <td>300.0</td>\n      <td>2022-03-11 18:00:00</td>\n      <td>2022-03-11 18:05:00</td>\n    </tr>\n    <tr>\n      <th>7</th>\n      <td>Manhattan</td>\n      <td>24610.0</td>\n      <td>8.791</td>\n      <td>0.0</td>\n      <td>562.032649</td>\n      <td>1330.0</td>\n      <td>5115.0</td>\n      <td>1.936824</td>\n      <td>-1.0</td>\n      <td>1476581.0</td>\n      <td>13193.0</td>\n      <td>9.919549</td>\n      <td>30240.0</td>\n      <td>22.736842</td>\n      <td>ih</td>\n      <td>300.0</td>\n      <td>2022-03-11 18:00:00</td>\n      <td>2022-03-11 18:15:00</td>\n    </tr>\n    <tr>\n      <th>8</th>\n      <td>Manhattan</td>\n      <td>23543.0</td>\n      <td>251.819</td>\n      <td>0.0</td>\n      <td>545.104203</td>\n      <td>1631.0</td>\n      <td>5115.0</td>\n      <td>1.968700</td>\n      <td>5783.0</td>\n      <td>1412599.0</td>\n      <td>12320.0</td>\n      <td>7.553648</td>\n      <td>18171.0</td>\n      <td>11.141018</td>\n      <td>vga_chaining</td>\n      <td>300.0</td>\n      <td>2022-03-11 18:00:00</td>\n      <td>2022-03-11 18:15:00</td>\n    </tr>\n    <tr>\n      <th>9</th>\n      <td>Manhattan</td>\n      <td>23543.0</td>\n      <td>250.845</td>\n      <td>0.0</td>\n      <td>545.104203</td>\n      <td>1631.0</td>\n      <td>5115.0</td>\n      <td>1.968700</td>\n      <td>5783.0</td>\n      <td>1412599.0</td>\n      <td>12320.0</td>\n      <td>7.553648</td>\n      <td>18171.0</td>\n      <td>11.141018</td>\n      <td>vga_chaining</td>\n      <td>300.0</td>\n      <td>2022-03-11 18:00:00</td>\n      <td>2022-03-11 18:15:00</td>\n    </tr>\n    <tr>\n      <th>10</th>\n      <td>Manhattan</td>\n      <td>23643.0</td>\n      <td>388.632</td>\n      <td>0.0</td>\n      <td>547.371848</td>\n      <td>1608.0</td>\n      <td>5115.0</td>\n      <td>1.968614</td>\n      <td>5458.0</td>\n      <td>1418580.0</td>\n      <td>9994.0</td>\n      <td>6.215174</td>\n      <td>17826.0</td>\n      <td>11.085821</td>\n      <td>vga_chaining</td>\n      <td>300.0</td>\n      <td>2022-03-11 18:00:00</td>\n      <td>2022-03-11 18:15:00</td>\n    </tr>\n    <tr>\n      <th>11</th>\n      <td>Manhattan</td>\n      <td>29418.0</td>\n      <td>191.203</td>\n      <td>0.0</td>\n      <td>529.356012</td>\n      <td>2049.0</td>\n      <td>5115.0</td>\n      <td>1.533742</td>\n      <td>8679.0</td>\n      <td>1765103.0</td>\n      <td>20820.0</td>\n      <td>10.161054</td>\n      <td>23553.0</td>\n      <td>11.494876</td>\n      <td>vga_chaining</td>\n      <td>300.0</td>\n      <td>2022-03-11 18:00:00</td>\n      <td>2022-03-11 18:15:00</td>\n    </tr>\n    <tr>\n      <th>12</th>\n      <td>Manhattan</td>\n      <td>23802.0</td>\n      <td>379.810</td>\n      <td>0.0</td>\n      <td>550.086804</td>\n      <td>1595.0</td>\n      <td>5115.0</td>\n      <td>1.965225</td>\n      <td>5256.0</td>\n      <td>1428112.0</td>\n      <td>8955.0</td>\n      <td>5.614420</td>\n      <td>17750.0</td>\n      <td>11.128527</td>\n      <td>vga_chaining</td>\n      <td>300.0</td>\n      <td>2022-03-11 18:00:00</td>\n      <td>2022-03-11 18:15:00</td>\n    </tr>\n    <tr>\n      <th>13</th>\n      <td>Manhattan</td>\n      <td>26509.0</td>\n      <td>127.335</td>\n      <td>0.0</td>\n      <td>538.576931</td>\n      <td>1844.0</td>\n      <td>5115.0</td>\n      <td>1.731135</td>\n      <td>6953.0</td>\n      <td>1590564.0</td>\n      <td>11206.0</td>\n      <td>6.077007</td>\n      <td>22189.0</td>\n      <td>12.033080</td>\n      <td>vga_chaining</td>\n      <td>300.0</td>\n      <td>2022-03-11 18:00:00</td>\n      <td>2022-03-11 18:15:00</td>\n    </tr>\n    <tr>\n      <th>14</th>\n      <td>Manhattan</td>\n      <td>46869.0</td>\n      <td>38.645</td>\n      <td>0.0</td>\n      <td>563.669268</td>\n      <td>1993.0</td>\n      <td>10380.0</td>\n      <td>2.068728</td>\n      <td>-1.0</td>\n      <td>2812152.0</td>\n      <td>49427.0</td>\n      <td>24.800301</td>\n      <td>36997.0</td>\n      <td>18.563472</td>\n      <td>ih</td>\n      <td>300.0</td>\n      <td>2022-03-11 18:00:00</td>\n      <td>2022-03-11 18:30:00</td>\n    </tr>\n    <tr>\n      <th>15</th>\n      <td>Manhattan</td>\n      <td>47101.0</td>\n      <td>1249.247</td>\n      <td>0.0</td>\n      <td>546.866859</td>\n      <td>2913.0</td>\n      <td>10380.0</td>\n      <td>2.003390</td>\n      <td>12692.0</td>\n      <td>2826057.0</td>\n      <td>161777.0</td>\n      <td>55.536217</td>\n      <td>12497.0</td>\n      <td>4.290079</td>\n      <td>vga_chaining</td>\n      <td>300.0</td>\n      <td>2022-03-11 18:00:00</td>\n      <td>2022-03-11 18:30:00</td>\n    </tr>\n    <tr>\n      <th>16</th>\n      <td>Manhattan</td>\n      <td>47101.0</td>\n      <td>1286.340</td>\n      <td>0.0</td>\n      <td>546.866859</td>\n      <td>2913.0</td>\n      <td>10380.0</td>\n      <td>2.003390</td>\n      <td>12692.0</td>\n      <td>2826057.0</td>\n      <td>161777.0</td>\n      <td>55.536217</td>\n      <td>12497.0</td>\n      <td>4.290079</td>\n      <td>vga_chaining</td>\n      <td>300.0</td>\n      <td>2022-03-11 18:00:00</td>\n      <td>2022-03-11 18:30:00</td>\n    </tr>\n    <tr>\n      <th>17</th>\n      <td>Manhattan</td>\n      <td>47340.0</td>\n      <td>1219.913</td>\n      <td>0.0</td>\n      <td>549.446339</td>\n      <td>2843.0</td>\n      <td>10380.0</td>\n      <td>2.002672</td>\n      <td>12102.0</td>\n      <td>2840385.0</td>\n      <td>152430.0</td>\n      <td>53.615899</td>\n      <td>12181.0</td>\n      <td>4.284559</td>\n      <td>vga_chaining</td>\n      <td>300.0</td>\n      <td>2022-03-11 18:00:00</td>\n      <td>2022-03-11 18:30:00</td>\n    </tr>\n    <tr>\n      <th>18</th>\n      <td>Manhattan</td>\n      <td>59044.0</td>\n      <td>1681.038</td>\n      <td>0.0</td>\n      <td>530.213102</td>\n      <td>3693.0</td>\n      <td>10380.0</td>\n      <td>1.553248</td>\n      <td>18787.0</td>\n      <td>3542658.0</td>\n      <td>316323.0</td>\n      <td>85.654752</td>\n      <td>14915.0</td>\n      <td>4.038722</td>\n      <td>vga_chaining</td>\n      <td>300.0</td>\n      <td>2022-03-11 18:00:00</td>\n      <td>2022-03-11 18:30:00</td>\n    </tr>\n    <tr>\n      <th>19</th>\n      <td>Manhattan</td>\n      <td>47643.0</td>\n      <td>1139.635</td>\n      <td>0.0</td>\n      <td>552.166667</td>\n      <td>2800.0</td>\n      <td>10380.0</td>\n      <td>1.999852</td>\n      <td>11801.0</td>\n      <td>2858577.0</td>\n      <td>150626.0</td>\n      <td>53.795000</td>\n      <td>11655.0</td>\n      <td>4.162500</td>\n      <td>vga_chaining</td>\n      <td>300.0</td>\n      <td>2022-03-11 18:00:00</td>\n      <td>2022-03-11 18:30:00</td>\n    </tr>\n    <tr>\n      <th>20</th>\n      <td>Manhattan</td>\n      <td>53257.0</td>\n      <td>918.119</td>\n      <td>0.0</td>\n      <td>538.751156</td>\n      <td>3319.0</td>\n      <td>10380.0</td>\n      <td>1.749194</td>\n      <td>15419.0</td>\n      <td>3195412.0</td>\n      <td>217846.0</td>\n      <td>65.636035</td>\n      <td>13434.0</td>\n      <td>4.047605</td>\n      <td>vga_chaining</td>\n      <td>300.0</td>\n      <td>2022-03-11 18:00:00</td>\n      <td>2022-03-11 18:30:00</td>\n    </tr>\n    <tr>\n      <th>21</th>\n      <td>DC</td>\n      <td>493.0</td>\n      <td>0.000</td>\n      <td>6.0</td>\n      <td>909.200000</td>\n      <td>18.0</td>\n      <td>30.0</td>\n      <td>0.916872</td>\n      <td>-1.0</td>\n      <td>29605.0</td>\n      <td>132.0</td>\n      <td>7.333333</td>\n      <td>8202.0</td>\n      <td>455.666667</td>\n      <td>ih</td>\n      <td>300.0</td>\n      <td>2021-10-22 18:00:00</td>\n      <td>2021-10-22 18:05:00</td>\n    </tr>\n    <tr>\n      <th>22</th>\n      <td>DC</td>\n      <td>421.0</td>\n      <td>0.077</td>\n      <td>3.0</td>\n      <td>839.090909</td>\n      <td>18.0</td>\n      <td>33.0</td>\n      <td>1.091838</td>\n      <td>-1.0</td>\n      <td>25240.0</td>\n      <td>132.0</td>\n      <td>7.333333</td>\n      <td>4961.0</td>\n      <td>275.611111</td>\n      <td>vga</td>\n      <td>300.0</td>\n      <td>2021-10-22 18:00:00</td>\n      <td>2021-10-22 18:05:00</td>\n    </tr>\n    <tr>\n      <th>23</th>\n      <td>DC</td>\n      <td>439.0</td>\n      <td>0.072</td>\n      <td>3.0</td>\n      <td>839.666667</td>\n      <td>18.0</td>\n      <td>33.0</td>\n      <td>1.043877</td>\n      <td>54.0</td>\n      <td>26369.0</td>\n      <td>183.0</td>\n      <td>10.166667</td>\n      <td>6502.0</td>\n      <td>361.222222</td>\n      <td>vga_chaining</td>\n      <td>300.0</td>\n      <td>2021-10-22 18:00:00</td>\n      <td>2021-10-22 18:05:00</td>\n    </tr>\n    <tr>\n      <th>24</th>\n      <td>DC</td>\n      <td>1723.0</td>\n      <td>0.007</td>\n      <td>7.0</td>\n      <td>988.198276</td>\n      <td>62.0</td>\n      <td>116.0</td>\n      <td>1.102313</td>\n      <td>-1.0</td>\n      <td>103369.0</td>\n      <td>865.0</td>\n      <td>13.951613</td>\n      <td>15717.0</td>\n      <td>253.500000</td>\n      <td>ih</td>\n      <td>300.0</td>\n      <td>2021-10-22 18:00:00</td>\n      <td>2021-10-22 18:15:00</td>\n    </tr>\n    <tr>\n      <th>25</th>\n      <td>DC</td>\n      <td>1650.0</td>\n      <td>1.972</td>\n      <td>0.0</td>\n      <td>1001.227642</td>\n      <td>62.0</td>\n      <td>123.0</td>\n      <td>1.231009</td>\n      <td>-1.0</td>\n      <td>98983.0</td>\n      <td>1467.0</td>\n      <td>23.661290</td>\n      <td>11450.0</td>\n      <td>184.677419</td>\n      <td>vga</td>\n      <td>300.0</td>\n      <td>2021-10-22 18:00:00</td>\n      <td>2021-10-22 18:15:00</td>\n    </tr>\n    <tr>\n      <th>26</th>\n      <td>DC</td>\n      <td>3238.0</td>\n      <td>0.025</td>\n      <td>0.0</td>\n      <td>1014.591270</td>\n      <td>111.0</td>\n      <td>252.0</td>\n      <td>1.307270</td>\n      <td>-1.0</td>\n      <td>194298.0</td>\n      <td>4107.0</td>\n      <td>37.000000</td>\n      <td>11331.0</td>\n      <td>102.081081</td>\n      <td>ih</td>\n      <td>300.0</td>\n      <td>2021-10-22 18:00:00</td>\n      <td>2021-10-22 18:30:00</td>\n    </tr>\n    <tr>\n      <th>27</th>\n      <td>DC</td>\n      <td>2996.0</td>\n      <td>254.966</td>\n      <td>0.0</td>\n      <td>1029.376984</td>\n      <td>111.0</td>\n      <td>252.0</td>\n      <td>1.418702</td>\n      <td>-1.0</td>\n      <td>179789.0</td>\n      <td>6808.0</td>\n      <td>61.333333</td>\n      <td>8372.0</td>\n      <td>75.423423</td>\n      <td>vga</td>\n      <td>300.0</td>\n      <td>2021-10-22 18:00:00</td>\n      <td>2021-10-22 18:30:00</td>\n    </tr>\n    <tr>\n      <th>28</th>\n      <td>DC</td>\n      <td>3744.0</td>\n      <td>0.562</td>\n      <td>0.0</td>\n      <td>974.246032</td>\n      <td>126.0</td>\n      <td>252.0</td>\n      <td>1.090227</td>\n      <td>676.0</td>\n      <td>224611.0</td>\n      <td>4396.0</td>\n      <td>34.888889</td>\n      <td>12938.0</td>\n      <td>102.682540</td>\n      <td>vga_chaining</td>\n      <td>300.0</td>\n      <td>2021-10-22 18:00:00</td>\n      <td>2021-10-22 18:30:00</td>\n    </tr>\n    <tr>\n      <th>29</th>\n      <td>DC</td>\n      <td>3413.0</td>\n      <td>0.470</td>\n      <td>0.0</td>\n      <td>990.980159</td>\n      <td>126.0</td>\n      <td>252.0</td>\n      <td>1.211336</td>\n      <td>573.0</td>\n      <td>204764.0</td>\n      <td>4467.0</td>\n      <td>35.452381</td>\n      <td>11660.0</td>\n      <td>92.539683</td>\n      <td>vga_chaining</td>\n      <td>300.0</td>\n      <td>2021-10-22 18:00:00</td>\n      <td>2021-10-22 18:30:00</td>\n    </tr>\n  </tbody>\n</table>\n</div>"
     },
     "execution_count": 14,
     "metadata": {},
     "output_type": "execute_result"
    }
   ],
   "source": [
    "df = pd.DataFrame()\n",
    "for area in areas:\n",
    "    res_in_area = load_aggregate_stats_in_dir(final_results_path / area)\n",
    "    res_in_area['area'] = area\n",
    "    df = pd.concat([df, res_in_area], ignore_index=True)\n",
    "df"
   ],
   "metadata": {
    "collapsed": false,
    "ExecuteTime": {
     "end_time": "2023-05-10T09:31:44.339855700Z",
     "start_time": "2023-05-10T09:30:40.206878600Z"
    }
   }
  },
  {
   "cell_type": "code",
   "execution_count": 38,
   "outputs": [
    {
     "data": {
      "text/plain": "         area  cost_minutes  total_time  dropped_requests    avg_delay   \n0   Manhattan        9203.0       1.024               0.0   554.799523  \\\n1   Manhattan        8036.0     169.488               0.0   542.550716   \n2   Manhattan        8036.0     113.903               0.0   542.550716   \n3   Manhattan        8065.0     111.654               0.0   544.662888   \n4   Manhattan        9847.0      10.407               0.0   527.038783   \n5   Manhattan        8117.0     111.799               0.0   548.521480   \n6   Manhattan        8832.0      10.052               0.0   535.949881   \n7   Manhattan       24610.0       8.791               0.0   562.032649   \n8   Manhattan       23543.0     251.819               0.0   545.104203   \n9   Manhattan       23543.0     250.845               0.0   545.104203   \n10  Manhattan       23643.0     388.632               0.0   547.371848   \n11  Manhattan       29418.0     191.203               0.0   529.356012   \n12  Manhattan       23802.0     379.810               0.0   550.086804   \n13  Manhattan       26509.0     127.335               0.0   538.576931   \n14  Manhattan       46869.0      38.645               0.0   563.669268   \n15  Manhattan       47101.0    1249.247               0.0   546.866859   \n16  Manhattan       47101.0    1286.340               0.0   546.866859   \n17  Manhattan       47340.0    1219.913               0.0   549.446339   \n18  Manhattan       59044.0    1681.038               0.0   530.213102   \n19  Manhattan       47643.0    1139.635               0.0   552.166667   \n20  Manhattan       53257.0     918.119               0.0   538.751156   \n21         DC         493.0       0.000               6.0   909.200000   \n22         DC         421.0       0.077               3.0   839.090909   \n23         DC         439.0       0.072               3.0   839.666667   \n24         DC        1723.0       0.007               7.0   988.198276   \n25         DC        1650.0       1.972               0.0  1001.227642   \n26         DC        3238.0       0.025               0.0  1014.591270   \n27         DC        2996.0     254.966               0.0  1029.376984   \n28         DC        3744.0       0.562               0.0   974.246032   \n29         DC        3413.0       0.470               0.0   990.980159   \n\n    plan_count  req_count  avg_occupancy  used_connections   \n0        593.0     1676.0       1.679100              -1.0  \\\n1        572.0     1676.0       1.881875            1763.0   \n2        572.0     1676.0       1.881875            1763.0   \n3        560.0     1676.0       1.882138            1688.0   \n4        737.0     1676.0       1.494704            2456.0   \n5        553.0     1676.0       1.883496            1659.0   \n6        642.0     1676.0       1.694257            2019.0   \n7       1330.0     5115.0       1.936824              -1.0   \n8       1631.0     5115.0       1.968700            5783.0   \n9       1631.0     5115.0       1.968700            5783.0   \n10      1608.0     5115.0       1.968614            5458.0   \n11      2049.0     5115.0       1.533742            8679.0   \n12      1595.0     5115.0       1.965225            5256.0   \n13      1844.0     5115.0       1.731135            6953.0   \n14      1993.0    10380.0       2.068728              -1.0   \n15      2913.0    10380.0       2.003390           12692.0   \n16      2913.0    10380.0       2.003390           12692.0   \n17      2843.0    10380.0       2.002672           12102.0   \n18      3693.0    10380.0       1.553248           18787.0   \n19      2800.0    10380.0       1.999852           11801.0   \n20      3319.0    10380.0       1.749194           15419.0   \n21        18.0       30.0       0.916872              -1.0   \n22        18.0       33.0       1.091838              -1.0   \n23        18.0       33.0       1.043877              54.0   \n24        62.0      116.0       1.102313              -1.0   \n25        62.0      123.0       1.231009              -1.0   \n26       111.0      252.0       1.307270              -1.0   \n27       111.0      252.0       1.418702              -1.0   \n28       126.0      252.0       1.090227             676.0   \n29       126.0      252.0       1.211336             573.0   \n\n    total_driving_duration  total_waiting_duration  avg_waiting_duration   \n0                 552165.0                  2611.0              4.403035  \\\n1                 482157.0                  1890.0              3.304196   \n2                 482157.0                  1890.0              3.304196   \n3                 483922.0                  1977.0              3.530357   \n4                 590836.0                   290.0              0.393487   \n5                 487046.0                  1853.0              3.350814   \n6                 529925.0                   599.0              0.933022   \n7                1476581.0                 13193.0              9.919549   \n8                1412599.0                 12320.0              7.553648   \n9                1412599.0                 12320.0              7.553648   \n10               1418580.0                  9994.0              6.215174   \n11               1765103.0                 20820.0             10.161054   \n12               1428112.0                  8955.0              5.614420   \n13               1590564.0                 11206.0              6.077007   \n14               2812152.0                 49427.0             24.800301   \n15               2826057.0                161777.0             55.536217   \n16               2826057.0                161777.0             55.536217   \n17               2840385.0                152430.0             53.615899   \n18               3542658.0                316323.0             85.654752   \n19               2858577.0                150626.0             53.795000   \n20               3195412.0                217846.0             65.636035   \n21                 29605.0                   132.0              7.333333   \n22                 25240.0                   132.0              7.333333   \n23                 26369.0                   183.0             10.166667   \n24                103369.0                   865.0             13.951613   \n25                 98983.0                  1467.0             23.661290   \n26                194298.0                  4107.0             37.000000   \n27                179789.0                  6808.0             61.333333   \n28                224611.0                  4396.0             34.888889   \n29                204764.0                  4467.0             35.452381   \n\n    tts_cost  tts_cost_per_plan        method  max_delay          start_time   \n0    24025.0          40.514334            ih      300.0 2022-03-11 18:00:00  \\\n1    15297.0          26.743007  vga_chaining      300.0 2022-03-11 18:00:00   \n2    15297.0          26.743007  vga_chaining      300.0 2022-03-11 18:00:00   \n3    14494.0          25.882143  vga_chaining      300.0 2022-03-11 18:00:00   \n4    23941.0          32.484396  vga_chaining      300.0 2022-03-11 18:00:00   \n5    14206.0          25.688969  vga_chaining      300.0 2022-03-11 18:00:00   \n6    17974.0          27.996885  vga_chaining      300.0 2022-03-11 18:00:00   \n7    30240.0          22.736842            ih      300.0 2022-03-11 18:00:00   \n8    18171.0          11.141018  vga_chaining      300.0 2022-03-11 18:00:00   \n9    18171.0          11.141018  vga_chaining      300.0 2022-03-11 18:00:00   \n10   17826.0          11.085821  vga_chaining      300.0 2022-03-11 18:00:00   \n11   23553.0          11.494876  vga_chaining      300.0 2022-03-11 18:00:00   \n12   17750.0          11.128527  vga_chaining      300.0 2022-03-11 18:00:00   \n13   22189.0          12.033080  vga_chaining      300.0 2022-03-11 18:00:00   \n14   36997.0          18.563472            ih      300.0 2022-03-11 18:00:00   \n15   12497.0           4.290079  vga_chaining      300.0 2022-03-11 18:00:00   \n16   12497.0           4.290079  vga_chaining      300.0 2022-03-11 18:00:00   \n17   12181.0           4.284559  vga_chaining      300.0 2022-03-11 18:00:00   \n18   14915.0           4.038722  vga_chaining      300.0 2022-03-11 18:00:00   \n19   11655.0           4.162500  vga_chaining      300.0 2022-03-11 18:00:00   \n20   13434.0           4.047605  vga_chaining      300.0 2022-03-11 18:00:00   \n21    8202.0         455.666667            ih      300.0 2021-10-22 18:00:00   \n22    4961.0         275.611111           vga      300.0 2021-10-22 18:00:00   \n23    6502.0         361.222222  vga_chaining      300.0 2021-10-22 18:00:00   \n24   15717.0         253.500000            ih      300.0 2021-10-22 18:00:00   \n25   11450.0         184.677419           vga      300.0 2021-10-22 18:00:00   \n26   11331.0         102.081081            ih      300.0 2021-10-22 18:00:00   \n27    8372.0          75.423423           vga      300.0 2021-10-22 18:00:00   \n28   12938.0         102.682540  vga_chaining      300.0 2021-10-22 18:00:00   \n29   11660.0          92.539683  vga_chaining      300.0 2021-10-22 18:00:00   \n\n              end_time  duration_minutes  cost_per_request  \n0  2022-03-11 18:05:00                 5        329.463007  \n1  2022-03-11 18:05:00                 5        287.684964  \n2  2022-03-11 18:05:00                 5        287.684964  \n3  2022-03-11 18:05:00                 5        288.723150  \n4  2022-03-11 18:05:00                 5        352.517900  \n5  2022-03-11 18:05:00                 5        290.584726  \n6  2022-03-11 18:05:00                 5        316.181384  \n7  2022-03-11 18:15:00                15        288.680352  \n8  2022-03-11 18:15:00                15        276.164223  \n9  2022-03-11 18:15:00                15        276.164223  \n10 2022-03-11 18:15:00                15        277.337243  \n11 2022-03-11 18:15:00                15        345.079179  \n12 2022-03-11 18:15:00                15        279.202346  \n13 2022-03-11 18:15:00                15        310.956012  \n14 2022-03-11 18:30:00                30        270.919075  \n15 2022-03-11 18:30:00                30        272.260116  \n16 2022-03-11 18:30:00                30        272.260116  \n17 2022-03-11 18:30:00                30        273.641618  \n18 2022-03-11 18:30:00                30        341.294798  \n19 2022-03-11 18:30:00                30        275.393064  \n20 2022-03-11 18:30:00                30        307.843931  \n21 2021-10-22 18:05:00                 5        986.000000  \n22 2021-10-22 18:05:00                 5        765.454545  \n23 2021-10-22 18:05:00                 5        798.181818  \n24 2021-10-22 18:15:00                15        891.206897  \n25 2021-10-22 18:15:00                15        804.878049  \n26 2021-10-22 18:30:00                30        770.952381  \n27 2021-10-22 18:30:00                30        713.333333  \n28 2021-10-22 18:30:00                30        891.428571  \n29 2021-10-22 18:30:00                30        812.619048  ",
      "text/html": "<div>\n<style scoped>\n    .dataframe tbody tr th:only-of-type {\n        vertical-align: middle;\n    }\n\n    .dataframe tbody tr th {\n        vertical-align: top;\n    }\n\n    .dataframe thead th {\n        text-align: right;\n    }\n</style>\n<table border=\"1\" class=\"dataframe\">\n  <thead>\n    <tr style=\"text-align: right;\">\n      <th></th>\n      <th>area</th>\n      <th>cost_minutes</th>\n      <th>total_time</th>\n      <th>dropped_requests</th>\n      <th>avg_delay</th>\n      <th>plan_count</th>\n      <th>req_count</th>\n      <th>avg_occupancy</th>\n      <th>used_connections</th>\n      <th>total_driving_duration</th>\n      <th>total_waiting_duration</th>\n      <th>avg_waiting_duration</th>\n      <th>tts_cost</th>\n      <th>tts_cost_per_plan</th>\n      <th>method</th>\n      <th>max_delay</th>\n      <th>start_time</th>\n      <th>end_time</th>\n      <th>duration_minutes</th>\n      <th>cost_per_request</th>\n    </tr>\n  </thead>\n  <tbody>\n    <tr>\n      <th>0</th>\n      <td>Manhattan</td>\n      <td>9203.0</td>\n      <td>1.024</td>\n      <td>0.0</td>\n      <td>554.799523</td>\n      <td>593.0</td>\n      <td>1676.0</td>\n      <td>1.679100</td>\n      <td>-1.0</td>\n      <td>552165.0</td>\n      <td>2611.0</td>\n      <td>4.403035</td>\n      <td>24025.0</td>\n      <td>40.514334</td>\n      <td>ih</td>\n      <td>300.0</td>\n      <td>2022-03-11 18:00:00</td>\n      <td>2022-03-11 18:05:00</td>\n      <td>5</td>\n      <td>329.463007</td>\n    </tr>\n    <tr>\n      <th>1</th>\n      <td>Manhattan</td>\n      <td>8036.0</td>\n      <td>169.488</td>\n      <td>0.0</td>\n      <td>542.550716</td>\n      <td>572.0</td>\n      <td>1676.0</td>\n      <td>1.881875</td>\n      <td>1763.0</td>\n      <td>482157.0</td>\n      <td>1890.0</td>\n      <td>3.304196</td>\n      <td>15297.0</td>\n      <td>26.743007</td>\n      <td>vga_chaining</td>\n      <td>300.0</td>\n      <td>2022-03-11 18:00:00</td>\n      <td>2022-03-11 18:05:00</td>\n      <td>5</td>\n      <td>287.684964</td>\n    </tr>\n    <tr>\n      <th>2</th>\n      <td>Manhattan</td>\n      <td>8036.0</td>\n      <td>113.903</td>\n      <td>0.0</td>\n      <td>542.550716</td>\n      <td>572.0</td>\n      <td>1676.0</td>\n      <td>1.881875</td>\n      <td>1763.0</td>\n      <td>482157.0</td>\n      <td>1890.0</td>\n      <td>3.304196</td>\n      <td>15297.0</td>\n      <td>26.743007</td>\n      <td>vga_chaining</td>\n      <td>300.0</td>\n      <td>2022-03-11 18:00:00</td>\n      <td>2022-03-11 18:05:00</td>\n      <td>5</td>\n      <td>287.684964</td>\n    </tr>\n    <tr>\n      <th>3</th>\n      <td>Manhattan</td>\n      <td>8065.0</td>\n      <td>111.654</td>\n      <td>0.0</td>\n      <td>544.662888</td>\n      <td>560.0</td>\n      <td>1676.0</td>\n      <td>1.882138</td>\n      <td>1688.0</td>\n      <td>483922.0</td>\n      <td>1977.0</td>\n      <td>3.530357</td>\n      <td>14494.0</td>\n      <td>25.882143</td>\n      <td>vga_chaining</td>\n      <td>300.0</td>\n      <td>2022-03-11 18:00:00</td>\n      <td>2022-03-11 18:05:00</td>\n      <td>5</td>\n      <td>288.723150</td>\n    </tr>\n    <tr>\n      <th>4</th>\n      <td>Manhattan</td>\n      <td>9847.0</td>\n      <td>10.407</td>\n      <td>0.0</td>\n      <td>527.038783</td>\n      <td>737.0</td>\n      <td>1676.0</td>\n      <td>1.494704</td>\n      <td>2456.0</td>\n      <td>590836.0</td>\n      <td>290.0</td>\n      <td>0.393487</td>\n      <td>23941.0</td>\n      <td>32.484396</td>\n      <td>vga_chaining</td>\n      <td>300.0</td>\n      <td>2022-03-11 18:00:00</td>\n      <td>2022-03-11 18:05:00</td>\n      <td>5</td>\n      <td>352.517900</td>\n    </tr>\n    <tr>\n      <th>5</th>\n      <td>Manhattan</td>\n      <td>8117.0</td>\n      <td>111.799</td>\n      <td>0.0</td>\n      <td>548.521480</td>\n      <td>553.0</td>\n      <td>1676.0</td>\n      <td>1.883496</td>\n      <td>1659.0</td>\n      <td>487046.0</td>\n      <td>1853.0</td>\n      <td>3.350814</td>\n      <td>14206.0</td>\n      <td>25.688969</td>\n      <td>vga_chaining</td>\n      <td>300.0</td>\n      <td>2022-03-11 18:00:00</td>\n      <td>2022-03-11 18:05:00</td>\n      <td>5</td>\n      <td>290.584726</td>\n    </tr>\n    <tr>\n      <th>6</th>\n      <td>Manhattan</td>\n      <td>8832.0</td>\n      <td>10.052</td>\n      <td>0.0</td>\n      <td>535.949881</td>\n      <td>642.0</td>\n      <td>1676.0</td>\n      <td>1.694257</td>\n      <td>2019.0</td>\n      <td>529925.0</td>\n      <td>599.0</td>\n      <td>0.933022</td>\n      <td>17974.0</td>\n      <td>27.996885</td>\n      <td>vga_chaining</td>\n      <td>300.0</td>\n      <td>2022-03-11 18:00:00</td>\n      <td>2022-03-11 18:05:00</td>\n      <td>5</td>\n      <td>316.181384</td>\n    </tr>\n    <tr>\n      <th>7</th>\n      <td>Manhattan</td>\n      <td>24610.0</td>\n      <td>8.791</td>\n      <td>0.0</td>\n      <td>562.032649</td>\n      <td>1330.0</td>\n      <td>5115.0</td>\n      <td>1.936824</td>\n      <td>-1.0</td>\n      <td>1476581.0</td>\n      <td>13193.0</td>\n      <td>9.919549</td>\n      <td>30240.0</td>\n      <td>22.736842</td>\n      <td>ih</td>\n      <td>300.0</td>\n      <td>2022-03-11 18:00:00</td>\n      <td>2022-03-11 18:15:00</td>\n      <td>15</td>\n      <td>288.680352</td>\n    </tr>\n    <tr>\n      <th>8</th>\n      <td>Manhattan</td>\n      <td>23543.0</td>\n      <td>251.819</td>\n      <td>0.0</td>\n      <td>545.104203</td>\n      <td>1631.0</td>\n      <td>5115.0</td>\n      <td>1.968700</td>\n      <td>5783.0</td>\n      <td>1412599.0</td>\n      <td>12320.0</td>\n      <td>7.553648</td>\n      <td>18171.0</td>\n      <td>11.141018</td>\n      <td>vga_chaining</td>\n      <td>300.0</td>\n      <td>2022-03-11 18:00:00</td>\n      <td>2022-03-11 18:15:00</td>\n      <td>15</td>\n      <td>276.164223</td>\n    </tr>\n    <tr>\n      <th>9</th>\n      <td>Manhattan</td>\n      <td>23543.0</td>\n      <td>250.845</td>\n      <td>0.0</td>\n      <td>545.104203</td>\n      <td>1631.0</td>\n      <td>5115.0</td>\n      <td>1.968700</td>\n      <td>5783.0</td>\n      <td>1412599.0</td>\n      <td>12320.0</td>\n      <td>7.553648</td>\n      <td>18171.0</td>\n      <td>11.141018</td>\n      <td>vga_chaining</td>\n      <td>300.0</td>\n      <td>2022-03-11 18:00:00</td>\n      <td>2022-03-11 18:15:00</td>\n      <td>15</td>\n      <td>276.164223</td>\n    </tr>\n    <tr>\n      <th>10</th>\n      <td>Manhattan</td>\n      <td>23643.0</td>\n      <td>388.632</td>\n      <td>0.0</td>\n      <td>547.371848</td>\n      <td>1608.0</td>\n      <td>5115.0</td>\n      <td>1.968614</td>\n      <td>5458.0</td>\n      <td>1418580.0</td>\n      <td>9994.0</td>\n      <td>6.215174</td>\n      <td>17826.0</td>\n      <td>11.085821</td>\n      <td>vga_chaining</td>\n      <td>300.0</td>\n      <td>2022-03-11 18:00:00</td>\n      <td>2022-03-11 18:15:00</td>\n      <td>15</td>\n      <td>277.337243</td>\n    </tr>\n    <tr>\n      <th>11</th>\n      <td>Manhattan</td>\n      <td>29418.0</td>\n      <td>191.203</td>\n      <td>0.0</td>\n      <td>529.356012</td>\n      <td>2049.0</td>\n      <td>5115.0</td>\n      <td>1.533742</td>\n      <td>8679.0</td>\n      <td>1765103.0</td>\n      <td>20820.0</td>\n      <td>10.161054</td>\n      <td>23553.0</td>\n      <td>11.494876</td>\n      <td>vga_chaining</td>\n      <td>300.0</td>\n      <td>2022-03-11 18:00:00</td>\n      <td>2022-03-11 18:15:00</td>\n      <td>15</td>\n      <td>345.079179</td>\n    </tr>\n    <tr>\n      <th>12</th>\n      <td>Manhattan</td>\n      <td>23802.0</td>\n      <td>379.810</td>\n      <td>0.0</td>\n      <td>550.086804</td>\n      <td>1595.0</td>\n      <td>5115.0</td>\n      <td>1.965225</td>\n      <td>5256.0</td>\n      <td>1428112.0</td>\n      <td>8955.0</td>\n      <td>5.614420</td>\n      <td>17750.0</td>\n      <td>11.128527</td>\n      <td>vga_chaining</td>\n      <td>300.0</td>\n      <td>2022-03-11 18:00:00</td>\n      <td>2022-03-11 18:15:00</td>\n      <td>15</td>\n      <td>279.202346</td>\n    </tr>\n    <tr>\n      <th>13</th>\n      <td>Manhattan</td>\n      <td>26509.0</td>\n      <td>127.335</td>\n      <td>0.0</td>\n      <td>538.576931</td>\n      <td>1844.0</td>\n      <td>5115.0</td>\n      <td>1.731135</td>\n      <td>6953.0</td>\n      <td>1590564.0</td>\n      <td>11206.0</td>\n      <td>6.077007</td>\n      <td>22189.0</td>\n      <td>12.033080</td>\n      <td>vga_chaining</td>\n      <td>300.0</td>\n      <td>2022-03-11 18:00:00</td>\n      <td>2022-03-11 18:15:00</td>\n      <td>15</td>\n      <td>310.956012</td>\n    </tr>\n    <tr>\n      <th>14</th>\n      <td>Manhattan</td>\n      <td>46869.0</td>\n      <td>38.645</td>\n      <td>0.0</td>\n      <td>563.669268</td>\n      <td>1993.0</td>\n      <td>10380.0</td>\n      <td>2.068728</td>\n      <td>-1.0</td>\n      <td>2812152.0</td>\n      <td>49427.0</td>\n      <td>24.800301</td>\n      <td>36997.0</td>\n      <td>18.563472</td>\n      <td>ih</td>\n      <td>300.0</td>\n      <td>2022-03-11 18:00:00</td>\n      <td>2022-03-11 18:30:00</td>\n      <td>30</td>\n      <td>270.919075</td>\n    </tr>\n    <tr>\n      <th>15</th>\n      <td>Manhattan</td>\n      <td>47101.0</td>\n      <td>1249.247</td>\n      <td>0.0</td>\n      <td>546.866859</td>\n      <td>2913.0</td>\n      <td>10380.0</td>\n      <td>2.003390</td>\n      <td>12692.0</td>\n      <td>2826057.0</td>\n      <td>161777.0</td>\n      <td>55.536217</td>\n      <td>12497.0</td>\n      <td>4.290079</td>\n      <td>vga_chaining</td>\n      <td>300.0</td>\n      <td>2022-03-11 18:00:00</td>\n      <td>2022-03-11 18:30:00</td>\n      <td>30</td>\n      <td>272.260116</td>\n    </tr>\n    <tr>\n      <th>16</th>\n      <td>Manhattan</td>\n      <td>47101.0</td>\n      <td>1286.340</td>\n      <td>0.0</td>\n      <td>546.866859</td>\n      <td>2913.0</td>\n      <td>10380.0</td>\n      <td>2.003390</td>\n      <td>12692.0</td>\n      <td>2826057.0</td>\n      <td>161777.0</td>\n      <td>55.536217</td>\n      <td>12497.0</td>\n      <td>4.290079</td>\n      <td>vga_chaining</td>\n      <td>300.0</td>\n      <td>2022-03-11 18:00:00</td>\n      <td>2022-03-11 18:30:00</td>\n      <td>30</td>\n      <td>272.260116</td>\n    </tr>\n    <tr>\n      <th>17</th>\n      <td>Manhattan</td>\n      <td>47340.0</td>\n      <td>1219.913</td>\n      <td>0.0</td>\n      <td>549.446339</td>\n      <td>2843.0</td>\n      <td>10380.0</td>\n      <td>2.002672</td>\n      <td>12102.0</td>\n      <td>2840385.0</td>\n      <td>152430.0</td>\n      <td>53.615899</td>\n      <td>12181.0</td>\n      <td>4.284559</td>\n      <td>vga_chaining</td>\n      <td>300.0</td>\n      <td>2022-03-11 18:00:00</td>\n      <td>2022-03-11 18:30:00</td>\n      <td>30</td>\n      <td>273.641618</td>\n    </tr>\n    <tr>\n      <th>18</th>\n      <td>Manhattan</td>\n      <td>59044.0</td>\n      <td>1681.038</td>\n      <td>0.0</td>\n      <td>530.213102</td>\n      <td>3693.0</td>\n      <td>10380.0</td>\n      <td>1.553248</td>\n      <td>18787.0</td>\n      <td>3542658.0</td>\n      <td>316323.0</td>\n      <td>85.654752</td>\n      <td>14915.0</td>\n      <td>4.038722</td>\n      <td>vga_chaining</td>\n      <td>300.0</td>\n      <td>2022-03-11 18:00:00</td>\n      <td>2022-03-11 18:30:00</td>\n      <td>30</td>\n      <td>341.294798</td>\n    </tr>\n    <tr>\n      <th>19</th>\n      <td>Manhattan</td>\n      <td>47643.0</td>\n      <td>1139.635</td>\n      <td>0.0</td>\n      <td>552.166667</td>\n      <td>2800.0</td>\n      <td>10380.0</td>\n      <td>1.999852</td>\n      <td>11801.0</td>\n      <td>2858577.0</td>\n      <td>150626.0</td>\n      <td>53.795000</td>\n      <td>11655.0</td>\n      <td>4.162500</td>\n      <td>vga_chaining</td>\n      <td>300.0</td>\n      <td>2022-03-11 18:00:00</td>\n      <td>2022-03-11 18:30:00</td>\n      <td>30</td>\n      <td>275.393064</td>\n    </tr>\n    <tr>\n      <th>20</th>\n      <td>Manhattan</td>\n      <td>53257.0</td>\n      <td>918.119</td>\n      <td>0.0</td>\n      <td>538.751156</td>\n      <td>3319.0</td>\n      <td>10380.0</td>\n      <td>1.749194</td>\n      <td>15419.0</td>\n      <td>3195412.0</td>\n      <td>217846.0</td>\n      <td>65.636035</td>\n      <td>13434.0</td>\n      <td>4.047605</td>\n      <td>vga_chaining</td>\n      <td>300.0</td>\n      <td>2022-03-11 18:00:00</td>\n      <td>2022-03-11 18:30:00</td>\n      <td>30</td>\n      <td>307.843931</td>\n    </tr>\n    <tr>\n      <th>21</th>\n      <td>DC</td>\n      <td>493.0</td>\n      <td>0.000</td>\n      <td>6.0</td>\n      <td>909.200000</td>\n      <td>18.0</td>\n      <td>30.0</td>\n      <td>0.916872</td>\n      <td>-1.0</td>\n      <td>29605.0</td>\n      <td>132.0</td>\n      <td>7.333333</td>\n      <td>8202.0</td>\n      <td>455.666667</td>\n      <td>ih</td>\n      <td>300.0</td>\n      <td>2021-10-22 18:00:00</td>\n      <td>2021-10-22 18:05:00</td>\n      <td>5</td>\n      <td>986.000000</td>\n    </tr>\n    <tr>\n      <th>22</th>\n      <td>DC</td>\n      <td>421.0</td>\n      <td>0.077</td>\n      <td>3.0</td>\n      <td>839.090909</td>\n      <td>18.0</td>\n      <td>33.0</td>\n      <td>1.091838</td>\n      <td>-1.0</td>\n      <td>25240.0</td>\n      <td>132.0</td>\n      <td>7.333333</td>\n      <td>4961.0</td>\n      <td>275.611111</td>\n      <td>vga</td>\n      <td>300.0</td>\n      <td>2021-10-22 18:00:00</td>\n      <td>2021-10-22 18:05:00</td>\n      <td>5</td>\n      <td>765.454545</td>\n    </tr>\n    <tr>\n      <th>23</th>\n      <td>DC</td>\n      <td>439.0</td>\n      <td>0.072</td>\n      <td>3.0</td>\n      <td>839.666667</td>\n      <td>18.0</td>\n      <td>33.0</td>\n      <td>1.043877</td>\n      <td>54.0</td>\n      <td>26369.0</td>\n      <td>183.0</td>\n      <td>10.166667</td>\n      <td>6502.0</td>\n      <td>361.222222</td>\n      <td>vga_chaining</td>\n      <td>300.0</td>\n      <td>2021-10-22 18:00:00</td>\n      <td>2021-10-22 18:05:00</td>\n      <td>5</td>\n      <td>798.181818</td>\n    </tr>\n    <tr>\n      <th>24</th>\n      <td>DC</td>\n      <td>1723.0</td>\n      <td>0.007</td>\n      <td>7.0</td>\n      <td>988.198276</td>\n      <td>62.0</td>\n      <td>116.0</td>\n      <td>1.102313</td>\n      <td>-1.0</td>\n      <td>103369.0</td>\n      <td>865.0</td>\n      <td>13.951613</td>\n      <td>15717.0</td>\n      <td>253.500000</td>\n      <td>ih</td>\n      <td>300.0</td>\n      <td>2021-10-22 18:00:00</td>\n      <td>2021-10-22 18:15:00</td>\n      <td>15</td>\n      <td>891.206897</td>\n    </tr>\n    <tr>\n      <th>25</th>\n      <td>DC</td>\n      <td>1650.0</td>\n      <td>1.972</td>\n      <td>0.0</td>\n      <td>1001.227642</td>\n      <td>62.0</td>\n      <td>123.0</td>\n      <td>1.231009</td>\n      <td>-1.0</td>\n      <td>98983.0</td>\n      <td>1467.0</td>\n      <td>23.661290</td>\n      <td>11450.0</td>\n      <td>184.677419</td>\n      <td>vga</td>\n      <td>300.0</td>\n      <td>2021-10-22 18:00:00</td>\n      <td>2021-10-22 18:15:00</td>\n      <td>15</td>\n      <td>804.878049</td>\n    </tr>\n    <tr>\n      <th>26</th>\n      <td>DC</td>\n      <td>3238.0</td>\n      <td>0.025</td>\n      <td>0.0</td>\n      <td>1014.591270</td>\n      <td>111.0</td>\n      <td>252.0</td>\n      <td>1.307270</td>\n      <td>-1.0</td>\n      <td>194298.0</td>\n      <td>4107.0</td>\n      <td>37.000000</td>\n      <td>11331.0</td>\n      <td>102.081081</td>\n      <td>ih</td>\n      <td>300.0</td>\n      <td>2021-10-22 18:00:00</td>\n      <td>2021-10-22 18:30:00</td>\n      <td>30</td>\n      <td>770.952381</td>\n    </tr>\n    <tr>\n      <th>27</th>\n      <td>DC</td>\n      <td>2996.0</td>\n      <td>254.966</td>\n      <td>0.0</td>\n      <td>1029.376984</td>\n      <td>111.0</td>\n      <td>252.0</td>\n      <td>1.418702</td>\n      <td>-1.0</td>\n      <td>179789.0</td>\n      <td>6808.0</td>\n      <td>61.333333</td>\n      <td>8372.0</td>\n      <td>75.423423</td>\n      <td>vga</td>\n      <td>300.0</td>\n      <td>2021-10-22 18:00:00</td>\n      <td>2021-10-22 18:30:00</td>\n      <td>30</td>\n      <td>713.333333</td>\n    </tr>\n    <tr>\n      <th>28</th>\n      <td>DC</td>\n      <td>3744.0</td>\n      <td>0.562</td>\n      <td>0.0</td>\n      <td>974.246032</td>\n      <td>126.0</td>\n      <td>252.0</td>\n      <td>1.090227</td>\n      <td>676.0</td>\n      <td>224611.0</td>\n      <td>4396.0</td>\n      <td>34.888889</td>\n      <td>12938.0</td>\n      <td>102.682540</td>\n      <td>vga_chaining</td>\n      <td>300.0</td>\n      <td>2021-10-22 18:00:00</td>\n      <td>2021-10-22 18:30:00</td>\n      <td>30</td>\n      <td>891.428571</td>\n    </tr>\n    <tr>\n      <th>29</th>\n      <td>DC</td>\n      <td>3413.0</td>\n      <td>0.470</td>\n      <td>0.0</td>\n      <td>990.980159</td>\n      <td>126.0</td>\n      <td>252.0</td>\n      <td>1.211336</td>\n      <td>573.0</td>\n      <td>204764.0</td>\n      <td>4467.0</td>\n      <td>35.452381</td>\n      <td>11660.0</td>\n      <td>92.539683</td>\n      <td>vga_chaining</td>\n      <td>300.0</td>\n      <td>2021-10-22 18:00:00</td>\n      <td>2021-10-22 18:30:00</td>\n      <td>30</td>\n      <td>812.619048</td>\n    </tr>\n  </tbody>\n</table>\n</div>"
     },
     "execution_count": 38,
     "metadata": {},
     "output_type": "execute_result"
    }
   ],
   "source": [
    "df['duration_minutes'] = [int(interval / 60) for interval in (df['end_time'] - df['start_time']).dt.total_seconds()]\n",
    "df['cost_per_request'] = df['cost_minutes'] * 60 / df['req_count']\n",
    "df"
   ],
   "metadata": {
    "collapsed": false,
    "ExecuteTime": {
     "end_time": "2023-05-10T11:31:09.513200Z",
     "start_time": "2023-05-10T11:31:09.493204600Z"
    }
   }
  },
  {
   "cell_type": "markdown",
   "source": [
    "# Main Results"
   ],
   "metadata": {
    "collapsed": false
   }
  },
  {
   "cell_type": "code",
   "execution_count": 39,
   "outputs": [
    {
     "data": {
      "application/vnd.plotly.v1+json": {
       "data": [
        {
         "alignmentgroup": "True",
         "hovertemplate": "method=ih<br>duration_minutes=5<br>area=%{x}<br>cost_per_request=%{y}<br>max_delay=%{marker.color}<extra></extra>",
         "legendgroup": "",
         "marker": {
          "color": [
           300.0,
           300.0
          ],
          "coloraxis": "coloraxis",
          "pattern": {
           "shape": ""
          }
         },
         "name": "",
         "offsetgroup": "",
         "orientation": "v",
         "showlegend": false,
         "textposition": "auto",
         "x": [
          "Manhattan",
          "DC"
         ],
         "xaxis": "x7",
         "y": [
          329.4630071599045,
          986.0
         ],
         "yaxis": "y7",
         "type": "bar"
        },
        {
         "alignmentgroup": "True",
         "hovertemplate": "method=ih<br>duration_minutes=15<br>area=%{x}<br>cost_per_request=%{y}<br>max_delay=%{marker.color}<extra></extra>",
         "legendgroup": "",
         "marker": {
          "color": [
           300.0,
           300.0
          ],
          "coloraxis": "coloraxis",
          "pattern": {
           "shape": ""
          }
         },
         "name": "",
         "offsetgroup": "",
         "orientation": "v",
         "showlegend": false,
         "textposition": "auto",
         "x": [
          "Manhattan",
          "DC"
         ],
         "xaxis": "x8",
         "y": [
          288.68035190615836,
          891.2068965517242
         ],
         "yaxis": "y8",
         "type": "bar"
        },
        {
         "alignmentgroup": "True",
         "hovertemplate": "method=ih<br>duration_minutes=30<br>area=%{x}<br>cost_per_request=%{y}<br>max_delay=%{marker.color}<extra></extra>",
         "legendgroup": "",
         "marker": {
          "color": [
           300.0,
           300.0
          ],
          "coloraxis": "coloraxis",
          "pattern": {
           "shape": ""
          }
         },
         "name": "",
         "offsetgroup": "",
         "orientation": "v",
         "showlegend": false,
         "textposition": "auto",
         "x": [
          "Manhattan",
          "DC"
         ],
         "xaxis": "x9",
         "y": [
          270.91907514450867,
          770.952380952381
         ],
         "yaxis": "y9",
         "type": "bar"
        },
        {
         "alignmentgroup": "True",
         "hovertemplate": "method=vga_chaining<br>duration_minutes=5<br>area=%{x}<br>cost_per_request=%{y}<br>max_delay=%{marker.color}<extra></extra>",
         "legendgroup": "",
         "marker": {
          "color": [
           300.0,
           300.0,
           300.0,
           300.0,
           300.0,
           300.0,
           300.0
          ],
          "coloraxis": "coloraxis",
          "pattern": {
           "shape": ""
          }
         },
         "name": "",
         "offsetgroup": "",
         "orientation": "v",
         "showlegend": false,
         "textposition": "auto",
         "x": [
          "Manhattan",
          "Manhattan",
          "Manhattan",
          "Manhattan",
          "Manhattan",
          "Manhattan",
          "DC"
         ],
         "xaxis": "x4",
         "y": [
          287.68496420047734,
          287.68496420047734,
          288.7231503579952,
          352.51789976133654,
          290.58472553699283,
          316.18138424821,
          798.1818181818181
         ],
         "yaxis": "y4",
         "type": "bar"
        },
        {
         "alignmentgroup": "True",
         "hovertemplate": "method=vga_chaining<br>duration_minutes=15<br>area=%{x}<br>cost_per_request=%{y}<br>max_delay=%{marker.color}<extra></extra>",
         "legendgroup": "",
         "marker": {
          "color": [
           300.0,
           300.0,
           300.0,
           300.0,
           300.0,
           300.0
          ],
          "coloraxis": "coloraxis",
          "pattern": {
           "shape": ""
          }
         },
         "name": "",
         "offsetgroup": "",
         "orientation": "v",
         "showlegend": false,
         "textposition": "auto",
         "x": [
          "Manhattan",
          "Manhattan",
          "Manhattan",
          "Manhattan",
          "Manhattan",
          "Manhattan"
         ],
         "xaxis": "x5",
         "y": [
          276.1642228739003,
          276.1642228739003,
          277.3372434017595,
          345.0791788856305,
          279.2023460410557,
          310.95601173020526
         ],
         "yaxis": "y5",
         "type": "bar"
        },
        {
         "alignmentgroup": "True",
         "hovertemplate": "method=vga_chaining<br>duration_minutes=30<br>area=%{x}<br>cost_per_request=%{y}<br>max_delay=%{marker.color}<extra></extra>",
         "legendgroup": "",
         "marker": {
          "color": [
           300.0,
           300.0,
           300.0,
           300.0,
           300.0,
           300.0,
           300.0,
           300.0
          ],
          "coloraxis": "coloraxis",
          "pattern": {
           "shape": ""
          }
         },
         "name": "",
         "offsetgroup": "",
         "orientation": "v",
         "showlegend": false,
         "textposition": "auto",
         "x": [
          "Manhattan",
          "Manhattan",
          "Manhattan",
          "Manhattan",
          "Manhattan",
          "Manhattan",
          "DC",
          "DC"
         ],
         "xaxis": "x6",
         "y": [
          272.26011560693644,
          272.26011560693644,
          273.64161849710985,
          341.29479768786126,
          275.39306358381504,
          307.84393063583815,
          891.4285714285714,
          812.6190476190476
         ],
         "yaxis": "y6",
         "type": "bar"
        },
        {
         "alignmentgroup": "True",
         "hovertemplate": "method=vga<br>duration_minutes=5<br>area=%{x}<br>cost_per_request=%{y}<br>max_delay=%{marker.color}<extra></extra>",
         "legendgroup": "",
         "marker": {
          "color": [
           300.0
          ],
          "coloraxis": "coloraxis",
          "pattern": {
           "shape": ""
          }
         },
         "name": "",
         "offsetgroup": "",
         "orientation": "v",
         "showlegend": false,
         "textposition": "auto",
         "x": [
          "DC"
         ],
         "xaxis": "x",
         "y": [
          765.4545454545455
         ],
         "yaxis": "y",
         "type": "bar"
        },
        {
         "alignmentgroup": "True",
         "hovertemplate": "method=vga<br>duration_minutes=15<br>area=%{x}<br>cost_per_request=%{y}<br>max_delay=%{marker.color}<extra></extra>",
         "legendgroup": "",
         "marker": {
          "color": [
           300.0
          ],
          "coloraxis": "coloraxis",
          "pattern": {
           "shape": ""
          }
         },
         "name": "",
         "offsetgroup": "",
         "orientation": "v",
         "showlegend": false,
         "textposition": "auto",
         "x": [
          "DC"
         ],
         "xaxis": "x2",
         "y": [
          804.8780487804878
         ],
         "yaxis": "y2",
         "type": "bar"
        },
        {
         "alignmentgroup": "True",
         "hovertemplate": "method=vga<br>duration_minutes=30<br>area=%{x}<br>cost_per_request=%{y}<br>max_delay=%{marker.color}<extra></extra>",
         "legendgroup": "",
         "marker": {
          "color": [
           300.0
          ],
          "coloraxis": "coloraxis",
          "pattern": {
           "shape": ""
          }
         },
         "name": "",
         "offsetgroup": "",
         "orientation": "v",
         "showlegend": false,
         "textposition": "auto",
         "x": [
          "DC"
         ],
         "xaxis": "x3",
         "y": [
          713.3333333333334
         ],
         "yaxis": "y3",
         "type": "bar"
        }
       ],
       "layout": {
        "template": {
         "data": {
          "histogram2dcontour": [
           {
            "type": "histogram2dcontour",
            "colorbar": {
             "outlinewidth": 0,
             "ticks": ""
            },
            "colorscale": [
             [
              0.0,
              "#0d0887"
             ],
             [
              0.1111111111111111,
              "#46039f"
             ],
             [
              0.2222222222222222,
              "#7201a8"
             ],
             [
              0.3333333333333333,
              "#9c179e"
             ],
             [
              0.4444444444444444,
              "#bd3786"
             ],
             [
              0.5555555555555556,
              "#d8576b"
             ],
             [
              0.6666666666666666,
              "#ed7953"
             ],
             [
              0.7777777777777778,
              "#fb9f3a"
             ],
             [
              0.8888888888888888,
              "#fdca26"
             ],
             [
              1.0,
              "#f0f921"
             ]
            ]
           }
          ],
          "choropleth": [
           {
            "type": "choropleth",
            "colorbar": {
             "outlinewidth": 0,
             "ticks": ""
            }
           }
          ],
          "histogram2d": [
           {
            "type": "histogram2d",
            "colorbar": {
             "outlinewidth": 0,
             "ticks": ""
            },
            "colorscale": [
             [
              0.0,
              "#0d0887"
             ],
             [
              0.1111111111111111,
              "#46039f"
             ],
             [
              0.2222222222222222,
              "#7201a8"
             ],
             [
              0.3333333333333333,
              "#9c179e"
             ],
             [
              0.4444444444444444,
              "#bd3786"
             ],
             [
              0.5555555555555556,
              "#d8576b"
             ],
             [
              0.6666666666666666,
              "#ed7953"
             ],
             [
              0.7777777777777778,
              "#fb9f3a"
             ],
             [
              0.8888888888888888,
              "#fdca26"
             ],
             [
              1.0,
              "#f0f921"
             ]
            ]
           }
          ],
          "heatmap": [
           {
            "type": "heatmap",
            "colorbar": {
             "outlinewidth": 0,
             "ticks": ""
            },
            "colorscale": [
             [
              0.0,
              "#0d0887"
             ],
             [
              0.1111111111111111,
              "#46039f"
             ],
             [
              0.2222222222222222,
              "#7201a8"
             ],
             [
              0.3333333333333333,
              "#9c179e"
             ],
             [
              0.4444444444444444,
              "#bd3786"
             ],
             [
              0.5555555555555556,
              "#d8576b"
             ],
             [
              0.6666666666666666,
              "#ed7953"
             ],
             [
              0.7777777777777778,
              "#fb9f3a"
             ],
             [
              0.8888888888888888,
              "#fdca26"
             ],
             [
              1.0,
              "#f0f921"
             ]
            ]
           }
          ],
          "heatmapgl": [
           {
            "type": "heatmapgl",
            "colorbar": {
             "outlinewidth": 0,
             "ticks": ""
            },
            "colorscale": [
             [
              0.0,
              "#0d0887"
             ],
             [
              0.1111111111111111,
              "#46039f"
             ],
             [
              0.2222222222222222,
              "#7201a8"
             ],
             [
              0.3333333333333333,
              "#9c179e"
             ],
             [
              0.4444444444444444,
              "#bd3786"
             ],
             [
              0.5555555555555556,
              "#d8576b"
             ],
             [
              0.6666666666666666,
              "#ed7953"
             ],
             [
              0.7777777777777778,
              "#fb9f3a"
             ],
             [
              0.8888888888888888,
              "#fdca26"
             ],
             [
              1.0,
              "#f0f921"
             ]
            ]
           }
          ],
          "contourcarpet": [
           {
            "type": "contourcarpet",
            "colorbar": {
             "outlinewidth": 0,
             "ticks": ""
            }
           }
          ],
          "contour": [
           {
            "type": "contour",
            "colorbar": {
             "outlinewidth": 0,
             "ticks": ""
            },
            "colorscale": [
             [
              0.0,
              "#0d0887"
             ],
             [
              0.1111111111111111,
              "#46039f"
             ],
             [
              0.2222222222222222,
              "#7201a8"
             ],
             [
              0.3333333333333333,
              "#9c179e"
             ],
             [
              0.4444444444444444,
              "#bd3786"
             ],
             [
              0.5555555555555556,
              "#d8576b"
             ],
             [
              0.6666666666666666,
              "#ed7953"
             ],
             [
              0.7777777777777778,
              "#fb9f3a"
             ],
             [
              0.8888888888888888,
              "#fdca26"
             ],
             [
              1.0,
              "#f0f921"
             ]
            ]
           }
          ],
          "surface": [
           {
            "type": "surface",
            "colorbar": {
             "outlinewidth": 0,
             "ticks": ""
            },
            "colorscale": [
             [
              0.0,
              "#0d0887"
             ],
             [
              0.1111111111111111,
              "#46039f"
             ],
             [
              0.2222222222222222,
              "#7201a8"
             ],
             [
              0.3333333333333333,
              "#9c179e"
             ],
             [
              0.4444444444444444,
              "#bd3786"
             ],
             [
              0.5555555555555556,
              "#d8576b"
             ],
             [
              0.6666666666666666,
              "#ed7953"
             ],
             [
              0.7777777777777778,
              "#fb9f3a"
             ],
             [
              0.8888888888888888,
              "#fdca26"
             ],
             [
              1.0,
              "#f0f921"
             ]
            ]
           }
          ],
          "mesh3d": [
           {
            "type": "mesh3d",
            "colorbar": {
             "outlinewidth": 0,
             "ticks": ""
            }
           }
          ],
          "scatter": [
           {
            "fillpattern": {
             "fillmode": "overlay",
             "size": 10,
             "solidity": 0.2
            },
            "type": "scatter"
           }
          ],
          "parcoords": [
           {
            "type": "parcoords",
            "line": {
             "colorbar": {
              "outlinewidth": 0,
              "ticks": ""
             }
            }
           }
          ],
          "scatterpolargl": [
           {
            "type": "scatterpolargl",
            "marker": {
             "colorbar": {
              "outlinewidth": 0,
              "ticks": ""
             }
            }
           }
          ],
          "bar": [
           {
            "error_x": {
             "color": "#2a3f5f"
            },
            "error_y": {
             "color": "#2a3f5f"
            },
            "marker": {
             "line": {
              "color": "#E5ECF6",
              "width": 0.5
             },
             "pattern": {
              "fillmode": "overlay",
              "size": 10,
              "solidity": 0.2
             }
            },
            "type": "bar"
           }
          ],
          "scattergeo": [
           {
            "type": "scattergeo",
            "marker": {
             "colorbar": {
              "outlinewidth": 0,
              "ticks": ""
             }
            }
           }
          ],
          "scatterpolar": [
           {
            "type": "scatterpolar",
            "marker": {
             "colorbar": {
              "outlinewidth": 0,
              "ticks": ""
             }
            }
           }
          ],
          "histogram": [
           {
            "marker": {
             "pattern": {
              "fillmode": "overlay",
              "size": 10,
              "solidity": 0.2
             }
            },
            "type": "histogram"
           }
          ],
          "scattergl": [
           {
            "type": "scattergl",
            "marker": {
             "colorbar": {
              "outlinewidth": 0,
              "ticks": ""
             }
            }
           }
          ],
          "scatter3d": [
           {
            "type": "scatter3d",
            "line": {
             "colorbar": {
              "outlinewidth": 0,
              "ticks": ""
             }
            },
            "marker": {
             "colorbar": {
              "outlinewidth": 0,
              "ticks": ""
             }
            }
           }
          ],
          "scattermapbox": [
           {
            "type": "scattermapbox",
            "marker": {
             "colorbar": {
              "outlinewidth": 0,
              "ticks": ""
             }
            }
           }
          ],
          "scatterternary": [
           {
            "type": "scatterternary",
            "marker": {
             "colorbar": {
              "outlinewidth": 0,
              "ticks": ""
             }
            }
           }
          ],
          "scattercarpet": [
           {
            "type": "scattercarpet",
            "marker": {
             "colorbar": {
              "outlinewidth": 0,
              "ticks": ""
             }
            }
           }
          ],
          "carpet": [
           {
            "aaxis": {
             "endlinecolor": "#2a3f5f",
             "gridcolor": "white",
             "linecolor": "white",
             "minorgridcolor": "white",
             "startlinecolor": "#2a3f5f"
            },
            "baxis": {
             "endlinecolor": "#2a3f5f",
             "gridcolor": "white",
             "linecolor": "white",
             "minorgridcolor": "white",
             "startlinecolor": "#2a3f5f"
            },
            "type": "carpet"
           }
          ],
          "table": [
           {
            "cells": {
             "fill": {
              "color": "#EBF0F8"
             },
             "line": {
              "color": "white"
             }
            },
            "header": {
             "fill": {
              "color": "#C8D4E3"
             },
             "line": {
              "color": "white"
             }
            },
            "type": "table"
           }
          ],
          "barpolar": [
           {
            "marker": {
             "line": {
              "color": "#E5ECF6",
              "width": 0.5
             },
             "pattern": {
              "fillmode": "overlay",
              "size": 10,
              "solidity": 0.2
             }
            },
            "type": "barpolar"
           }
          ],
          "pie": [
           {
            "automargin": true,
            "type": "pie"
           }
          ]
         },
         "layout": {
          "autotypenumbers": "strict",
          "colorway": [
           "#636efa",
           "#EF553B",
           "#00cc96",
           "#ab63fa",
           "#FFA15A",
           "#19d3f3",
           "#FF6692",
           "#B6E880",
           "#FF97FF",
           "#FECB52"
          ],
          "font": {
           "color": "#2a3f5f"
          },
          "hovermode": "closest",
          "hoverlabel": {
           "align": "left"
          },
          "paper_bgcolor": "white",
          "plot_bgcolor": "#E5ECF6",
          "polar": {
           "bgcolor": "#E5ECF6",
           "angularaxis": {
            "gridcolor": "white",
            "linecolor": "white",
            "ticks": ""
           },
           "radialaxis": {
            "gridcolor": "white",
            "linecolor": "white",
            "ticks": ""
           }
          },
          "ternary": {
           "bgcolor": "#E5ECF6",
           "aaxis": {
            "gridcolor": "white",
            "linecolor": "white",
            "ticks": ""
           },
           "baxis": {
            "gridcolor": "white",
            "linecolor": "white",
            "ticks": ""
           },
           "caxis": {
            "gridcolor": "white",
            "linecolor": "white",
            "ticks": ""
           }
          },
          "coloraxis": {
           "colorbar": {
            "outlinewidth": 0,
            "ticks": ""
           }
          },
          "colorscale": {
           "sequential": [
            [
             0.0,
             "#0d0887"
            ],
            [
             0.1111111111111111,
             "#46039f"
            ],
            [
             0.2222222222222222,
             "#7201a8"
            ],
            [
             0.3333333333333333,
             "#9c179e"
            ],
            [
             0.4444444444444444,
             "#bd3786"
            ],
            [
             0.5555555555555556,
             "#d8576b"
            ],
            [
             0.6666666666666666,
             "#ed7953"
            ],
            [
             0.7777777777777778,
             "#fb9f3a"
            ],
            [
             0.8888888888888888,
             "#fdca26"
            ],
            [
             1.0,
             "#f0f921"
            ]
           ],
           "sequentialminus": [
            [
             0.0,
             "#0d0887"
            ],
            [
             0.1111111111111111,
             "#46039f"
            ],
            [
             0.2222222222222222,
             "#7201a8"
            ],
            [
             0.3333333333333333,
             "#9c179e"
            ],
            [
             0.4444444444444444,
             "#bd3786"
            ],
            [
             0.5555555555555556,
             "#d8576b"
            ],
            [
             0.6666666666666666,
             "#ed7953"
            ],
            [
             0.7777777777777778,
             "#fb9f3a"
            ],
            [
             0.8888888888888888,
             "#fdca26"
            ],
            [
             1.0,
             "#f0f921"
            ]
           ],
           "diverging": [
            [
             0,
             "#8e0152"
            ],
            [
             0.1,
             "#c51b7d"
            ],
            [
             0.2,
             "#de77ae"
            ],
            [
             0.3,
             "#f1b6da"
            ],
            [
             0.4,
             "#fde0ef"
            ],
            [
             0.5,
             "#f7f7f7"
            ],
            [
             0.6,
             "#e6f5d0"
            ],
            [
             0.7,
             "#b8e186"
            ],
            [
             0.8,
             "#7fbc41"
            ],
            [
             0.9,
             "#4d9221"
            ],
            [
             1,
             "#276419"
            ]
           ]
          },
          "xaxis": {
           "gridcolor": "white",
           "linecolor": "white",
           "ticks": "",
           "title": {
            "standoff": 15
           },
           "zerolinecolor": "white",
           "automargin": true,
           "zerolinewidth": 2
          },
          "yaxis": {
           "gridcolor": "white",
           "linecolor": "white",
           "ticks": "",
           "title": {
            "standoff": 15
           },
           "zerolinecolor": "white",
           "automargin": true,
           "zerolinewidth": 2
          },
          "scene": {
           "xaxis": {
            "backgroundcolor": "#E5ECF6",
            "gridcolor": "white",
            "linecolor": "white",
            "showbackground": true,
            "ticks": "",
            "zerolinecolor": "white",
            "gridwidth": 2
           },
           "yaxis": {
            "backgroundcolor": "#E5ECF6",
            "gridcolor": "white",
            "linecolor": "white",
            "showbackground": true,
            "ticks": "",
            "zerolinecolor": "white",
            "gridwidth": 2
           },
           "zaxis": {
            "backgroundcolor": "#E5ECF6",
            "gridcolor": "white",
            "linecolor": "white",
            "showbackground": true,
            "ticks": "",
            "zerolinecolor": "white",
            "gridwidth": 2
           }
          },
          "shapedefaults": {
           "line": {
            "color": "#2a3f5f"
           }
          },
          "annotationdefaults": {
           "arrowcolor": "#2a3f5f",
           "arrowhead": 0,
           "arrowwidth": 1
          },
          "geo": {
           "bgcolor": "white",
           "landcolor": "#E5ECF6",
           "subunitcolor": "white",
           "showland": true,
           "showlakes": true,
           "lakecolor": "white"
          },
          "title": {
           "x": 0.05
          },
          "mapbox": {
           "style": "light"
          }
         }
        },
        "xaxis": {
         "anchor": "y",
         "domain": [
          0.0,
          0.3133333333333333
         ],
         "title": {
          "text": ""
         }
        },
        "yaxis": {
         "anchor": "x",
         "domain": [
          0.0,
          0.3133333333333333
         ],
         "title": {
          "text": ""
         }
        },
        "xaxis2": {
         "anchor": "y2",
         "domain": [
          0.3333333333333333,
          0.6466666666666666
         ],
         "matches": "x",
         "title": {
          "text": ""
         }
        },
        "yaxis2": {
         "anchor": "x2",
         "domain": [
          0.0,
          0.3133333333333333
         ],
         "matches": "y",
         "showticklabels": false,
         "title": {
          "text": ""
         }
        },
        "xaxis3": {
         "anchor": "y3",
         "domain": [
          0.6666666666666666,
          0.98
         ],
         "matches": "x",
         "title": {
          "text": ""
         }
        },
        "yaxis3": {
         "anchor": "x3",
         "domain": [
          0.0,
          0.3133333333333333
         ],
         "matches": "y",
         "showticklabels": false,
         "title": {
          "text": ""
         }
        },
        "xaxis4": {
         "anchor": "y4",
         "domain": [
          0.0,
          0.3133333333333333
         ],
         "matches": "x",
         "showticklabels": false,
         "title": {
          "text": ""
         }
        },
        "yaxis4": {
         "anchor": "x4",
         "domain": [
          0.34333333333333327,
          0.6566666666666665
         ],
         "matches": "y",
         "title": {
          "text": ""
         }
        },
        "xaxis5": {
         "anchor": "y5",
         "domain": [
          0.3333333333333333,
          0.6466666666666666
         ],
         "matches": "x",
         "showticklabels": false,
         "title": {
          "text": ""
         }
        },
        "yaxis5": {
         "anchor": "x5",
         "domain": [
          0.34333333333333327,
          0.6566666666666665
         ],
         "matches": "y",
         "showticklabels": false,
         "title": {
          "text": ""
         }
        },
        "xaxis6": {
         "anchor": "y6",
         "domain": [
          0.6666666666666666,
          0.98
         ],
         "matches": "x",
         "showticklabels": false,
         "title": {
          "text": ""
         }
        },
        "yaxis6": {
         "anchor": "x6",
         "domain": [
          0.34333333333333327,
          0.6566666666666665
         ],
         "matches": "y",
         "showticklabels": false,
         "title": {
          "text": ""
         }
        },
        "xaxis7": {
         "anchor": "y7",
         "domain": [
          0.0,
          0.3133333333333333
         ],
         "matches": "x",
         "showticklabels": false,
         "title": {
          "text": ""
         }
        },
        "yaxis7": {
         "anchor": "x7",
         "domain": [
          0.6866666666666665,
          0.9999999999999998
         ],
         "matches": "y",
         "title": {
          "text": ""
         }
        },
        "xaxis8": {
         "anchor": "y8",
         "domain": [
          0.3333333333333333,
          0.6466666666666666
         ],
         "matches": "x",
         "showticklabels": false,
         "title": {
          "text": ""
         }
        },
        "yaxis8": {
         "anchor": "x8",
         "domain": [
          0.6866666666666665,
          0.9999999999999998
         ],
         "matches": "y",
         "showticklabels": false,
         "title": {
          "text": ""
         }
        },
        "xaxis9": {
         "anchor": "y9",
         "domain": [
          0.6666666666666666,
          0.98
         ],
         "matches": "x",
         "showticklabels": false,
         "title": {
          "text": ""
         }
        },
        "yaxis9": {
         "anchor": "x9",
         "domain": [
          0.6866666666666665,
          0.9999999999999998
         ],
         "matches": "y",
         "showticklabels": false,
         "title": {
          "text": ""
         }
        },
        "annotations": [
         {
          "showarrow": false,
          "text": "5",
          "x": 0.15666666666666665,
          "xanchor": "center",
          "xref": "paper",
          "y": 0.9999999999999998,
          "yanchor": "bottom",
          "yref": "paper"
         },
         {
          "showarrow": false,
          "text": "15",
          "x": 0.49,
          "xanchor": "center",
          "xref": "paper",
          "y": 0.9999999999999998,
          "yanchor": "bottom",
          "yref": "paper"
         },
         {
          "showarrow": false,
          "text": "30",
          "x": 0.8233333333333333,
          "xanchor": "center",
          "xref": "paper",
          "y": 0.9999999999999998,
          "yanchor": "bottom",
          "yref": "paper"
         },
         {
          "showarrow": false,
          "text": "vga",
          "textangle": 90,
          "x": 0.98,
          "xanchor": "left",
          "xref": "paper",
          "y": 0.15666666666666665,
          "yanchor": "middle",
          "yref": "paper"
         },
         {
          "showarrow": false,
          "text": "vga_chaining",
          "textangle": 90,
          "x": 0.98,
          "xanchor": "left",
          "xref": "paper",
          "y": 0.4999999999999999,
          "yanchor": "middle",
          "yref": "paper"
         },
         {
          "showarrow": false,
          "text": "ih",
          "textangle": 90,
          "x": 0.98,
          "xanchor": "left",
          "xref": "paper",
          "y": 0.8433333333333332,
          "yanchor": "middle",
          "yref": "paper"
         },
         {
          "showarrow": false,
          "text": "travel time per request [s]",
          "textangle": -90,
          "x": -0.06,
          "xref": "paper",
          "y": 0.5,
          "yref": "paper"
         }
        ],
        "coloraxis": {
         "colorbar": {
          "title": {
           "text": "max_delay"
          }
         },
         "colorscale": [
          [
           0.0,
           "#0d0887"
          ],
          [
           0.1111111111111111,
           "#46039f"
          ],
          [
           0.2222222222222222,
           "#7201a8"
          ],
          [
           0.3333333333333333,
           "#9c179e"
          ],
          [
           0.4444444444444444,
           "#bd3786"
          ],
          [
           0.5555555555555556,
           "#d8576b"
          ],
          [
           0.6666666666666666,
           "#ed7953"
          ],
          [
           0.7777777777777778,
           "#fb9f3a"
          ],
          [
           0.8888888888888888,
           "#fdca26"
          ],
          [
           1.0,
           "#f0f921"
          ]
         ]
        },
        "legend": {
         "tracegroupgap": 0
        },
        "title": {
         "text": "Average Cost per Request"
        },
        "barmode": "group"
       },
       "config": {
        "plotlyServerURL": "https://plot.ly"
       }
      },
      "text/html": "<div>                            <div id=\"7ade380e-f852-47aa-aa38-848574427195\" class=\"plotly-graph-div\" style=\"height:525px; width:100%;\"></div>            <script type=\"text/javascript\">                require([\"plotly\"], function(Plotly) {                    window.PLOTLYENV=window.PLOTLYENV || {};                                    if (document.getElementById(\"7ade380e-f852-47aa-aa38-848574427195\")) {                    Plotly.newPlot(                        \"7ade380e-f852-47aa-aa38-848574427195\",                        [{\"alignmentgroup\":\"True\",\"hovertemplate\":\"method=ih<br>duration_minutes=5<br>area=%{x}<br>cost_per_request=%{y}<br>max_delay=%{marker.color}<extra></extra>\",\"legendgroup\":\"\",\"marker\":{\"color\":[300.0,300.0],\"coloraxis\":\"coloraxis\",\"pattern\":{\"shape\":\"\"}},\"name\":\"\",\"offsetgroup\":\"\",\"orientation\":\"v\",\"showlegend\":false,\"textposition\":\"auto\",\"x\":[\"Manhattan\",\"DC\"],\"xaxis\":\"x7\",\"y\":[329.4630071599045,986.0],\"yaxis\":\"y7\",\"type\":\"bar\"},{\"alignmentgroup\":\"True\",\"hovertemplate\":\"method=ih<br>duration_minutes=15<br>area=%{x}<br>cost_per_request=%{y}<br>max_delay=%{marker.color}<extra></extra>\",\"legendgroup\":\"\",\"marker\":{\"color\":[300.0,300.0],\"coloraxis\":\"coloraxis\",\"pattern\":{\"shape\":\"\"}},\"name\":\"\",\"offsetgroup\":\"\",\"orientation\":\"v\",\"showlegend\":false,\"textposition\":\"auto\",\"x\":[\"Manhattan\",\"DC\"],\"xaxis\":\"x8\",\"y\":[288.68035190615836,891.2068965517242],\"yaxis\":\"y8\",\"type\":\"bar\"},{\"alignmentgroup\":\"True\",\"hovertemplate\":\"method=ih<br>duration_minutes=30<br>area=%{x}<br>cost_per_request=%{y}<br>max_delay=%{marker.color}<extra></extra>\",\"legendgroup\":\"\",\"marker\":{\"color\":[300.0,300.0],\"coloraxis\":\"coloraxis\",\"pattern\":{\"shape\":\"\"}},\"name\":\"\",\"offsetgroup\":\"\",\"orientation\":\"v\",\"showlegend\":false,\"textposition\":\"auto\",\"x\":[\"Manhattan\",\"DC\"],\"xaxis\":\"x9\",\"y\":[270.91907514450867,770.952380952381],\"yaxis\":\"y9\",\"type\":\"bar\"},{\"alignmentgroup\":\"True\",\"hovertemplate\":\"method=vga_chaining<br>duration_minutes=5<br>area=%{x}<br>cost_per_request=%{y}<br>max_delay=%{marker.color}<extra></extra>\",\"legendgroup\":\"\",\"marker\":{\"color\":[300.0,300.0,300.0,300.0,300.0,300.0,300.0],\"coloraxis\":\"coloraxis\",\"pattern\":{\"shape\":\"\"}},\"name\":\"\",\"offsetgroup\":\"\",\"orientation\":\"v\",\"showlegend\":false,\"textposition\":\"auto\",\"x\":[\"Manhattan\",\"Manhattan\",\"Manhattan\",\"Manhattan\",\"Manhattan\",\"Manhattan\",\"DC\"],\"xaxis\":\"x4\",\"y\":[287.68496420047734,287.68496420047734,288.7231503579952,352.51789976133654,290.58472553699283,316.18138424821,798.1818181818181],\"yaxis\":\"y4\",\"type\":\"bar\"},{\"alignmentgroup\":\"True\",\"hovertemplate\":\"method=vga_chaining<br>duration_minutes=15<br>area=%{x}<br>cost_per_request=%{y}<br>max_delay=%{marker.color}<extra></extra>\",\"legendgroup\":\"\",\"marker\":{\"color\":[300.0,300.0,300.0,300.0,300.0,300.0],\"coloraxis\":\"coloraxis\",\"pattern\":{\"shape\":\"\"}},\"name\":\"\",\"offsetgroup\":\"\",\"orientation\":\"v\",\"showlegend\":false,\"textposition\":\"auto\",\"x\":[\"Manhattan\",\"Manhattan\",\"Manhattan\",\"Manhattan\",\"Manhattan\",\"Manhattan\"],\"xaxis\":\"x5\",\"y\":[276.1642228739003,276.1642228739003,277.3372434017595,345.0791788856305,279.2023460410557,310.95601173020526],\"yaxis\":\"y5\",\"type\":\"bar\"},{\"alignmentgroup\":\"True\",\"hovertemplate\":\"method=vga_chaining<br>duration_minutes=30<br>area=%{x}<br>cost_per_request=%{y}<br>max_delay=%{marker.color}<extra></extra>\",\"legendgroup\":\"\",\"marker\":{\"color\":[300.0,300.0,300.0,300.0,300.0,300.0,300.0,300.0],\"coloraxis\":\"coloraxis\",\"pattern\":{\"shape\":\"\"}},\"name\":\"\",\"offsetgroup\":\"\",\"orientation\":\"v\",\"showlegend\":false,\"textposition\":\"auto\",\"x\":[\"Manhattan\",\"Manhattan\",\"Manhattan\",\"Manhattan\",\"Manhattan\",\"Manhattan\",\"DC\",\"DC\"],\"xaxis\":\"x6\",\"y\":[272.26011560693644,272.26011560693644,273.64161849710985,341.29479768786126,275.39306358381504,307.84393063583815,891.4285714285714,812.6190476190476],\"yaxis\":\"y6\",\"type\":\"bar\"},{\"alignmentgroup\":\"True\",\"hovertemplate\":\"method=vga<br>duration_minutes=5<br>area=%{x}<br>cost_per_request=%{y}<br>max_delay=%{marker.color}<extra></extra>\",\"legendgroup\":\"\",\"marker\":{\"color\":[300.0],\"coloraxis\":\"coloraxis\",\"pattern\":{\"shape\":\"\"}},\"name\":\"\",\"offsetgroup\":\"\",\"orientation\":\"v\",\"showlegend\":false,\"textposition\":\"auto\",\"x\":[\"DC\"],\"xaxis\":\"x\",\"y\":[765.4545454545455],\"yaxis\":\"y\",\"type\":\"bar\"},{\"alignmentgroup\":\"True\",\"hovertemplate\":\"method=vga<br>duration_minutes=15<br>area=%{x}<br>cost_per_request=%{y}<br>max_delay=%{marker.color}<extra></extra>\",\"legendgroup\":\"\",\"marker\":{\"color\":[300.0],\"coloraxis\":\"coloraxis\",\"pattern\":{\"shape\":\"\"}},\"name\":\"\",\"offsetgroup\":\"\",\"orientation\":\"v\",\"showlegend\":false,\"textposition\":\"auto\",\"x\":[\"DC\"],\"xaxis\":\"x2\",\"y\":[804.8780487804878],\"yaxis\":\"y2\",\"type\":\"bar\"},{\"alignmentgroup\":\"True\",\"hovertemplate\":\"method=vga<br>duration_minutes=30<br>area=%{x}<br>cost_per_request=%{y}<br>max_delay=%{marker.color}<extra></extra>\",\"legendgroup\":\"\",\"marker\":{\"color\":[300.0],\"coloraxis\":\"coloraxis\",\"pattern\":{\"shape\":\"\"}},\"name\":\"\",\"offsetgroup\":\"\",\"orientation\":\"v\",\"showlegend\":false,\"textposition\":\"auto\",\"x\":[\"DC\"],\"xaxis\":\"x3\",\"y\":[713.3333333333334],\"yaxis\":\"y3\",\"type\":\"bar\"}],                        {\"template\":{\"data\":{\"histogram2dcontour\":[{\"type\":\"histogram2dcontour\",\"colorbar\":{\"outlinewidth\":0,\"ticks\":\"\"},\"colorscale\":[[0.0,\"#0d0887\"],[0.1111111111111111,\"#46039f\"],[0.2222222222222222,\"#7201a8\"],[0.3333333333333333,\"#9c179e\"],[0.4444444444444444,\"#bd3786\"],[0.5555555555555556,\"#d8576b\"],[0.6666666666666666,\"#ed7953\"],[0.7777777777777778,\"#fb9f3a\"],[0.8888888888888888,\"#fdca26\"],[1.0,\"#f0f921\"]]}],\"choropleth\":[{\"type\":\"choropleth\",\"colorbar\":{\"outlinewidth\":0,\"ticks\":\"\"}}],\"histogram2d\":[{\"type\":\"histogram2d\",\"colorbar\":{\"outlinewidth\":0,\"ticks\":\"\"},\"colorscale\":[[0.0,\"#0d0887\"],[0.1111111111111111,\"#46039f\"],[0.2222222222222222,\"#7201a8\"],[0.3333333333333333,\"#9c179e\"],[0.4444444444444444,\"#bd3786\"],[0.5555555555555556,\"#d8576b\"],[0.6666666666666666,\"#ed7953\"],[0.7777777777777778,\"#fb9f3a\"],[0.8888888888888888,\"#fdca26\"],[1.0,\"#f0f921\"]]}],\"heatmap\":[{\"type\":\"heatmap\",\"colorbar\":{\"outlinewidth\":0,\"ticks\":\"\"},\"colorscale\":[[0.0,\"#0d0887\"],[0.1111111111111111,\"#46039f\"],[0.2222222222222222,\"#7201a8\"],[0.3333333333333333,\"#9c179e\"],[0.4444444444444444,\"#bd3786\"],[0.5555555555555556,\"#d8576b\"],[0.6666666666666666,\"#ed7953\"],[0.7777777777777778,\"#fb9f3a\"],[0.8888888888888888,\"#fdca26\"],[1.0,\"#f0f921\"]]}],\"heatmapgl\":[{\"type\":\"heatmapgl\",\"colorbar\":{\"outlinewidth\":0,\"ticks\":\"\"},\"colorscale\":[[0.0,\"#0d0887\"],[0.1111111111111111,\"#46039f\"],[0.2222222222222222,\"#7201a8\"],[0.3333333333333333,\"#9c179e\"],[0.4444444444444444,\"#bd3786\"],[0.5555555555555556,\"#d8576b\"],[0.6666666666666666,\"#ed7953\"],[0.7777777777777778,\"#fb9f3a\"],[0.8888888888888888,\"#fdca26\"],[1.0,\"#f0f921\"]]}],\"contourcarpet\":[{\"type\":\"contourcarpet\",\"colorbar\":{\"outlinewidth\":0,\"ticks\":\"\"}}],\"contour\":[{\"type\":\"contour\",\"colorbar\":{\"outlinewidth\":0,\"ticks\":\"\"},\"colorscale\":[[0.0,\"#0d0887\"],[0.1111111111111111,\"#46039f\"],[0.2222222222222222,\"#7201a8\"],[0.3333333333333333,\"#9c179e\"],[0.4444444444444444,\"#bd3786\"],[0.5555555555555556,\"#d8576b\"],[0.6666666666666666,\"#ed7953\"],[0.7777777777777778,\"#fb9f3a\"],[0.8888888888888888,\"#fdca26\"],[1.0,\"#f0f921\"]]}],\"surface\":[{\"type\":\"surface\",\"colorbar\":{\"outlinewidth\":0,\"ticks\":\"\"},\"colorscale\":[[0.0,\"#0d0887\"],[0.1111111111111111,\"#46039f\"],[0.2222222222222222,\"#7201a8\"],[0.3333333333333333,\"#9c179e\"],[0.4444444444444444,\"#bd3786\"],[0.5555555555555556,\"#d8576b\"],[0.6666666666666666,\"#ed7953\"],[0.7777777777777778,\"#fb9f3a\"],[0.8888888888888888,\"#fdca26\"],[1.0,\"#f0f921\"]]}],\"mesh3d\":[{\"type\":\"mesh3d\",\"colorbar\":{\"outlinewidth\":0,\"ticks\":\"\"}}],\"scatter\":[{\"fillpattern\":{\"fillmode\":\"overlay\",\"size\":10,\"solidity\":0.2},\"type\":\"scatter\"}],\"parcoords\":[{\"type\":\"parcoords\",\"line\":{\"colorbar\":{\"outlinewidth\":0,\"ticks\":\"\"}}}],\"scatterpolargl\":[{\"type\":\"scatterpolargl\",\"marker\":{\"colorbar\":{\"outlinewidth\":0,\"ticks\":\"\"}}}],\"bar\":[{\"error_x\":{\"color\":\"#2a3f5f\"},\"error_y\":{\"color\":\"#2a3f5f\"},\"marker\":{\"line\":{\"color\":\"#E5ECF6\",\"width\":0.5},\"pattern\":{\"fillmode\":\"overlay\",\"size\":10,\"solidity\":0.2}},\"type\":\"bar\"}],\"scattergeo\":[{\"type\":\"scattergeo\",\"marker\":{\"colorbar\":{\"outlinewidth\":0,\"ticks\":\"\"}}}],\"scatterpolar\":[{\"type\":\"scatterpolar\",\"marker\":{\"colorbar\":{\"outlinewidth\":0,\"ticks\":\"\"}}}],\"histogram\":[{\"marker\":{\"pattern\":{\"fillmode\":\"overlay\",\"size\":10,\"solidity\":0.2}},\"type\":\"histogram\"}],\"scattergl\":[{\"type\":\"scattergl\",\"marker\":{\"colorbar\":{\"outlinewidth\":0,\"ticks\":\"\"}}}],\"scatter3d\":[{\"type\":\"scatter3d\",\"line\":{\"colorbar\":{\"outlinewidth\":0,\"ticks\":\"\"}},\"marker\":{\"colorbar\":{\"outlinewidth\":0,\"ticks\":\"\"}}}],\"scattermapbox\":[{\"type\":\"scattermapbox\",\"marker\":{\"colorbar\":{\"outlinewidth\":0,\"ticks\":\"\"}}}],\"scatterternary\":[{\"type\":\"scatterternary\",\"marker\":{\"colorbar\":{\"outlinewidth\":0,\"ticks\":\"\"}}}],\"scattercarpet\":[{\"type\":\"scattercarpet\",\"marker\":{\"colorbar\":{\"outlinewidth\":0,\"ticks\":\"\"}}}],\"carpet\":[{\"aaxis\":{\"endlinecolor\":\"#2a3f5f\",\"gridcolor\":\"white\",\"linecolor\":\"white\",\"minorgridcolor\":\"white\",\"startlinecolor\":\"#2a3f5f\"},\"baxis\":{\"endlinecolor\":\"#2a3f5f\",\"gridcolor\":\"white\",\"linecolor\":\"white\",\"minorgridcolor\":\"white\",\"startlinecolor\":\"#2a3f5f\"},\"type\":\"carpet\"}],\"table\":[{\"cells\":{\"fill\":{\"color\":\"#EBF0F8\"},\"line\":{\"color\":\"white\"}},\"header\":{\"fill\":{\"color\":\"#C8D4E3\"},\"line\":{\"color\":\"white\"}},\"type\":\"table\"}],\"barpolar\":[{\"marker\":{\"line\":{\"color\":\"#E5ECF6\",\"width\":0.5},\"pattern\":{\"fillmode\":\"overlay\",\"size\":10,\"solidity\":0.2}},\"type\":\"barpolar\"}],\"pie\":[{\"automargin\":true,\"type\":\"pie\"}]},\"layout\":{\"autotypenumbers\":\"strict\",\"colorway\":[\"#636efa\",\"#EF553B\",\"#00cc96\",\"#ab63fa\",\"#FFA15A\",\"#19d3f3\",\"#FF6692\",\"#B6E880\",\"#FF97FF\",\"#FECB52\"],\"font\":{\"color\":\"#2a3f5f\"},\"hovermode\":\"closest\",\"hoverlabel\":{\"align\":\"left\"},\"paper_bgcolor\":\"white\",\"plot_bgcolor\":\"#E5ECF6\",\"polar\":{\"bgcolor\":\"#E5ECF6\",\"angularaxis\":{\"gridcolor\":\"white\",\"linecolor\":\"white\",\"ticks\":\"\"},\"radialaxis\":{\"gridcolor\":\"white\",\"linecolor\":\"white\",\"ticks\":\"\"}},\"ternary\":{\"bgcolor\":\"#E5ECF6\",\"aaxis\":{\"gridcolor\":\"white\",\"linecolor\":\"white\",\"ticks\":\"\"},\"baxis\":{\"gridcolor\":\"white\",\"linecolor\":\"white\",\"ticks\":\"\"},\"caxis\":{\"gridcolor\":\"white\",\"linecolor\":\"white\",\"ticks\":\"\"}},\"coloraxis\":{\"colorbar\":{\"outlinewidth\":0,\"ticks\":\"\"}},\"colorscale\":{\"sequential\":[[0.0,\"#0d0887\"],[0.1111111111111111,\"#46039f\"],[0.2222222222222222,\"#7201a8\"],[0.3333333333333333,\"#9c179e\"],[0.4444444444444444,\"#bd3786\"],[0.5555555555555556,\"#d8576b\"],[0.6666666666666666,\"#ed7953\"],[0.7777777777777778,\"#fb9f3a\"],[0.8888888888888888,\"#fdca26\"],[1.0,\"#f0f921\"]],\"sequentialminus\":[[0.0,\"#0d0887\"],[0.1111111111111111,\"#46039f\"],[0.2222222222222222,\"#7201a8\"],[0.3333333333333333,\"#9c179e\"],[0.4444444444444444,\"#bd3786\"],[0.5555555555555556,\"#d8576b\"],[0.6666666666666666,\"#ed7953\"],[0.7777777777777778,\"#fb9f3a\"],[0.8888888888888888,\"#fdca26\"],[1.0,\"#f0f921\"]],\"diverging\":[[0,\"#8e0152\"],[0.1,\"#c51b7d\"],[0.2,\"#de77ae\"],[0.3,\"#f1b6da\"],[0.4,\"#fde0ef\"],[0.5,\"#f7f7f7\"],[0.6,\"#e6f5d0\"],[0.7,\"#b8e186\"],[0.8,\"#7fbc41\"],[0.9,\"#4d9221\"],[1,\"#276419\"]]},\"xaxis\":{\"gridcolor\":\"white\",\"linecolor\":\"white\",\"ticks\":\"\",\"title\":{\"standoff\":15},\"zerolinecolor\":\"white\",\"automargin\":true,\"zerolinewidth\":2},\"yaxis\":{\"gridcolor\":\"white\",\"linecolor\":\"white\",\"ticks\":\"\",\"title\":{\"standoff\":15},\"zerolinecolor\":\"white\",\"automargin\":true,\"zerolinewidth\":2},\"scene\":{\"xaxis\":{\"backgroundcolor\":\"#E5ECF6\",\"gridcolor\":\"white\",\"linecolor\":\"white\",\"showbackground\":true,\"ticks\":\"\",\"zerolinecolor\":\"white\",\"gridwidth\":2},\"yaxis\":{\"backgroundcolor\":\"#E5ECF6\",\"gridcolor\":\"white\",\"linecolor\":\"white\",\"showbackground\":true,\"ticks\":\"\",\"zerolinecolor\":\"white\",\"gridwidth\":2},\"zaxis\":{\"backgroundcolor\":\"#E5ECF6\",\"gridcolor\":\"white\",\"linecolor\":\"white\",\"showbackground\":true,\"ticks\":\"\",\"zerolinecolor\":\"white\",\"gridwidth\":2}},\"shapedefaults\":{\"line\":{\"color\":\"#2a3f5f\"}},\"annotationdefaults\":{\"arrowcolor\":\"#2a3f5f\",\"arrowhead\":0,\"arrowwidth\":1},\"geo\":{\"bgcolor\":\"white\",\"landcolor\":\"#E5ECF6\",\"subunitcolor\":\"white\",\"showland\":true,\"showlakes\":true,\"lakecolor\":\"white\"},\"title\":{\"x\":0.05},\"mapbox\":{\"style\":\"light\"}}},\"xaxis\":{\"anchor\":\"y\",\"domain\":[0.0,0.3133333333333333],\"title\":{\"text\":\"\"}},\"yaxis\":{\"anchor\":\"x\",\"domain\":[0.0,0.3133333333333333],\"title\":{\"text\":\"\"}},\"xaxis2\":{\"anchor\":\"y2\",\"domain\":[0.3333333333333333,0.6466666666666666],\"matches\":\"x\",\"title\":{\"text\":\"\"}},\"yaxis2\":{\"anchor\":\"x2\",\"domain\":[0.0,0.3133333333333333],\"matches\":\"y\",\"showticklabels\":false,\"title\":{\"text\":\"\"}},\"xaxis3\":{\"anchor\":\"y3\",\"domain\":[0.6666666666666666,0.98],\"matches\":\"x\",\"title\":{\"text\":\"\"}},\"yaxis3\":{\"anchor\":\"x3\",\"domain\":[0.0,0.3133333333333333],\"matches\":\"y\",\"showticklabels\":false,\"title\":{\"text\":\"\"}},\"xaxis4\":{\"anchor\":\"y4\",\"domain\":[0.0,0.3133333333333333],\"matches\":\"x\",\"showticklabels\":false,\"title\":{\"text\":\"\"}},\"yaxis4\":{\"anchor\":\"x4\",\"domain\":[0.34333333333333327,0.6566666666666665],\"matches\":\"y\",\"title\":{\"text\":\"\"}},\"xaxis5\":{\"anchor\":\"y5\",\"domain\":[0.3333333333333333,0.6466666666666666],\"matches\":\"x\",\"showticklabels\":false,\"title\":{\"text\":\"\"}},\"yaxis5\":{\"anchor\":\"x5\",\"domain\":[0.34333333333333327,0.6566666666666665],\"matches\":\"y\",\"showticklabels\":false,\"title\":{\"text\":\"\"}},\"xaxis6\":{\"anchor\":\"y6\",\"domain\":[0.6666666666666666,0.98],\"matches\":\"x\",\"showticklabels\":false,\"title\":{\"text\":\"\"}},\"yaxis6\":{\"anchor\":\"x6\",\"domain\":[0.34333333333333327,0.6566666666666665],\"matches\":\"y\",\"showticklabels\":false,\"title\":{\"text\":\"\"}},\"xaxis7\":{\"anchor\":\"y7\",\"domain\":[0.0,0.3133333333333333],\"matches\":\"x\",\"showticklabels\":false,\"title\":{\"text\":\"\"}},\"yaxis7\":{\"anchor\":\"x7\",\"domain\":[0.6866666666666665,0.9999999999999998],\"matches\":\"y\",\"title\":{\"text\":\"\"}},\"xaxis8\":{\"anchor\":\"y8\",\"domain\":[0.3333333333333333,0.6466666666666666],\"matches\":\"x\",\"showticklabels\":false,\"title\":{\"text\":\"\"}},\"yaxis8\":{\"anchor\":\"x8\",\"domain\":[0.6866666666666665,0.9999999999999998],\"matches\":\"y\",\"showticklabels\":false,\"title\":{\"text\":\"\"}},\"xaxis9\":{\"anchor\":\"y9\",\"domain\":[0.6666666666666666,0.98],\"matches\":\"x\",\"showticklabels\":false,\"title\":{\"text\":\"\"}},\"yaxis9\":{\"anchor\":\"x9\",\"domain\":[0.6866666666666665,0.9999999999999998],\"matches\":\"y\",\"showticklabels\":false,\"title\":{\"text\":\"\"}},\"annotations\":[{\"showarrow\":false,\"text\":\"5\",\"x\":0.15666666666666665,\"xanchor\":\"center\",\"xref\":\"paper\",\"y\":0.9999999999999998,\"yanchor\":\"bottom\",\"yref\":\"paper\"},{\"showarrow\":false,\"text\":\"15\",\"x\":0.49,\"xanchor\":\"center\",\"xref\":\"paper\",\"y\":0.9999999999999998,\"yanchor\":\"bottom\",\"yref\":\"paper\"},{\"showarrow\":false,\"text\":\"30\",\"x\":0.8233333333333333,\"xanchor\":\"center\",\"xref\":\"paper\",\"y\":0.9999999999999998,\"yanchor\":\"bottom\",\"yref\":\"paper\"},{\"showarrow\":false,\"text\":\"vga\",\"textangle\":90,\"x\":0.98,\"xanchor\":\"left\",\"xref\":\"paper\",\"y\":0.15666666666666665,\"yanchor\":\"middle\",\"yref\":\"paper\"},{\"showarrow\":false,\"text\":\"vga_chaining\",\"textangle\":90,\"x\":0.98,\"xanchor\":\"left\",\"xref\":\"paper\",\"y\":0.4999999999999999,\"yanchor\":\"middle\",\"yref\":\"paper\"},{\"showarrow\":false,\"text\":\"ih\",\"textangle\":90,\"x\":0.98,\"xanchor\":\"left\",\"xref\":\"paper\",\"y\":0.8433333333333332,\"yanchor\":\"middle\",\"yref\":\"paper\"},{\"showarrow\":false,\"text\":\"travel time per request [s]\",\"textangle\":-90,\"x\":-0.06,\"xref\":\"paper\",\"y\":0.5,\"yref\":\"paper\"}],\"coloraxis\":{\"colorbar\":{\"title\":{\"text\":\"max_delay\"}},\"colorscale\":[[0.0,\"#0d0887\"],[0.1111111111111111,\"#46039f\"],[0.2222222222222222,\"#7201a8\"],[0.3333333333333333,\"#9c179e\"],[0.4444444444444444,\"#bd3786\"],[0.5555555555555556,\"#d8576b\"],[0.6666666666666666,\"#ed7953\"],[0.7777777777777778,\"#fb9f3a\"],[0.8888888888888888,\"#fdca26\"],[1.0,\"#f0f921\"]]},\"legend\":{\"tracegroupgap\":0},\"title\":{\"text\":\"Average Cost per Request\"},\"barmode\":\"group\"},                        {\"responsive\": true}                    ).then(function(){\n                            \nvar gd = document.getElementById('7ade380e-f852-47aa-aa38-848574427195');\nvar x = new MutationObserver(function (mutations, observer) {{\n        var display = window.getComputedStyle(gd).display;\n        if (!display || display === 'none') {{\n            console.log([gd, 'removed!']);\n            Plotly.purge(gd);\n            observer.disconnect();\n        }}\n}});\n\n// Listen for the removal of the full notebook cells\nvar notebookContainer = gd.closest('#notebook-container');\nif (notebookContainer) {{\n    x.observe(notebookContainer, {childList: true});\n}}\n\n// Listen for the clearing of the current output cell\nvar outputEl = gd.closest('.output');\nif (outputEl) {{\n    x.observe(outputEl, {childList: true});\n}}\n\n                        })                };                });            </script>        </div>"
     },
     "metadata": {},
     "output_type": "display_data"
    }
   ],
   "source": [
    "fig = px.bar(\n",
    "    df,\n",
    "    x = 'area',\n",
    "    y = 'cost_per_request',\n",
    "    barmode='group',\n",
    "    title = 'Average Cost per Request',\n",
    "    facet_col='duration_minutes',\n",
    "    facet_row='method',\n",
    "    color='max_delay'\n",
    ")\n",
    "\n",
    "# shared axes titles\n",
    "fig.for_each_yaxis(lambda y: y.update(title = ''))\n",
    "fig.add_annotation(x=-0.06, y=0.5, text=\"travel time per request [s]\", textangle=-90, xref=\"paper\", yref=\"paper\", showarrow=False)\n",
    "fig.for_each_xaxis(lambda y: y.update(title = ''))\n",
    "# fig.add_annotation(x=0.5, y=-0.1, text=\"Area\",  xref=\"paper\", yref=\"paper\", showarrow=False)\n",
    "\n",
    "# faceting label editing\n",
    "fig.for_each_annotation(lambda a: a.update(text=a.text.split(\"=\")[-1]))\n",
    "\n",
    "fig.show()"
   ],
   "metadata": {
    "collapsed": false,
    "ExecuteTime": {
     "end_time": "2023-05-10T11:31:18.260252300Z",
     "start_time": "2023-05-10T11:31:18.111992300Z"
    }
   }
  },
  {
   "cell_type": "markdown",
   "source": [
    "# Delay histogram"
   ],
   "metadata": {
    "collapsed": false
   }
  },
  {
   "cell_type": "code",
   "execution_count": 5,
   "outputs": [
    {
     "name": "stderr",
     "output_type": "stream",
     "text": [
      "15:55:07 [INFO] Loading occupancy stats in C:\\Google Drive\\AIC Experiment Data\\DARP\\Results\\final-real_speeds\\NYC\n",
      "15:55:07 [INFO] Loading occupancy stats in C:\\Google Drive\\AIC Experiment Data\\DARP\\Results\\final-real_speeds\\Manhattan\n",
      "15:55:07 [WARNING] No solution found in folder: C:\\Google Drive\\AIC Experiment Data\\DARP\\Results\\final-real_speeds\\Manhattan\\05_min\\halns\n",
      "15:55:07 [WARNING] No solution found in folder: C:\\Google Drive\\AIC Experiment Data\\DARP\\Results\\final-real_speeds\\Manhattan\\05_min\\halns-ih\n",
      "15:55:07 [WARNING] No solution found in folder: C:\\Google Drive\\AIC Experiment Data\\DARP\\Results\\final-real_speeds\\Manhattan\\05_min\\halns-vga\n",
      "15:55:07 [INFO] Loading json file from: C:\\Google Drive\\AIC Experiment Data\\DARP\\Results\\final-real_speeds\\Manhattan\\05_min\\ih\\config.yaml-performance.json\n",
      "15:55:07 [INFO] Loading json file from: C:\\Google Drive\\AIC Experiment Data\\DARP\\Results\\final-real_speeds\\Manhattan\\05_min\\ih\\config.yaml-solution.json\n",
      "15:55:07 [INFO] Loading experiment config from C:\\Google Drive\\AIC Experiment Data\\DARP\\Results\\final-real_speeds\\Manhattan\\05_min\\ih\\config.yaml\n",
      "15:55:07 [INFO] Loading instance config from C:\\Google Drive\\AIC Experiment Data\\DARP\\Real demand and speeds\\Manhattan\\experiments\\final_experiments\\05_min\\config.yaml\n",
      "15:55:07 [WARNING] No solution found in folder: C:\\Google Drive\\AIC Experiment Data\\DARP\\Results\\final-real_speeds\\Manhattan\\05_min\\vga\n",
      "15:55:07 [INFO] Loading json file from: C:\\Google Drive\\AIC Experiment Data\\DARP\\Results\\final-real_speeds\\Manhattan\\05_min\\vga_chaining-batch_120_s\\config.yaml-performance.json\n",
      "15:55:07 [INFO] Loading json file from: C:\\Google Drive\\AIC Experiment Data\\DARP\\Results\\final-real_speeds\\Manhattan\\05_min\\vga_chaining-batch_120_s\\config.yaml-solution.json\n",
      "15:55:07 [INFO] Loading experiment config from C:\\Google Drive\\AIC Experiment Data\\DARP\\Results\\final-real_speeds\\Manhattan\\05_min\\vga_chaining-batch_120_s\\config.yaml\n",
      "15:55:07 [INFO] Loading instance config from C:\\Google Drive\\AIC Experiment Data\\DARP\\Real demand and speeds\\Manhattan\\experiments\\final_experiments\\05_min\\config.yaml\n",
      "15:55:08 [INFO] Loading json file from: C:\\Google Drive\\AIC Experiment Data\\DARP\\Results\\final-real_speeds\\Manhattan\\05_min\\vga_chaining-batch_120_s-limited\\config.yaml-performance.json\n",
      "15:55:08 [INFO] Loading json file from: C:\\Google Drive\\AIC Experiment Data\\DARP\\Results\\final-real_speeds\\Manhattan\\05_min\\vga_chaining-batch_120_s-limited\\config.yaml-solution.json\n",
      "15:55:08 [INFO] Loading experiment config from C:\\Google Drive\\AIC Experiment Data\\DARP\\Results\\final-real_speeds\\Manhattan\\05_min\\vga_chaining-batch_120_s-limited\\config.yaml\n",
      "15:55:08 [INFO] Loading instance config from C:\\Google Drive\\AIC Experiment Data\\DARP\\Real demand and speeds\\Manhattan\\experiments\\final_experiments\\05_min\\config.yaml\n",
      "15:55:08 [WARNING] No solution found in folder: C:\\Google Drive\\AIC Experiment Data\\DARP\\Results\\final-real_speeds\\Manhattan\\05_min\\vga_chaining-batch_240_s\n",
      "15:55:08 [INFO] Loading json file from: C:\\Google Drive\\AIC Experiment Data\\DARP\\Results\\final-real_speeds\\Manhattan\\05_min\\vga_chaining-batch_240_s-limited\\config.yaml-performance.json\n",
      "15:55:08 [INFO] Loading json file from: C:\\Google Drive\\AIC Experiment Data\\DARP\\Results\\final-real_speeds\\Manhattan\\05_min\\vga_chaining-batch_240_s-limited\\config.yaml-solution.json\n",
      "15:55:08 [INFO] Loading experiment config from C:\\Google Drive\\AIC Experiment Data\\DARP\\Results\\final-real_speeds\\Manhattan\\05_min\\vga_chaining-batch_240_s-limited\\config.yaml\n",
      "15:55:08 [INFO] Loading instance config from C:\\Google Drive\\AIC Experiment Data\\DARP\\Real demand and speeds\\Manhattan\\experiments\\final_experiments\\05_min\\config.yaml\n",
      "15:55:08 [INFO] Loading json file from: C:\\Google Drive\\AIC Experiment Data\\DARP\\Results\\final-real_speeds\\Manhattan\\05_min\\vga_chaining-batch_30_s\\config.yaml-performance.json\n",
      "15:55:08 [INFO] Loading json file from: C:\\Google Drive\\AIC Experiment Data\\DARP\\Results\\final-real_speeds\\Manhattan\\05_min\\vga_chaining-batch_30_s\\config.yaml-solution.json\n",
      "15:55:08 [INFO] Loading experiment config from C:\\Google Drive\\AIC Experiment Data\\DARP\\Results\\final-real_speeds\\Manhattan\\05_min\\vga_chaining-batch_30_s\\config.yaml\n",
      "15:55:08 [INFO] Loading instance config from C:\\Google Drive\\AIC Experiment Data\\DARP\\Real demand and speeds\\Manhattan\\experiments\\final_experiments\\05_min\\config.yaml\n",
      "15:55:08 [WARNING] No solution found in folder: C:\\Google Drive\\AIC Experiment Data\\DARP\\Results\\final-real_speeds\\Manhattan\\05_min\\vga_chaining-batch_480_s\n",
      "15:55:08 [INFO] Loading json file from: C:\\Google Drive\\AIC Experiment Data\\DARP\\Results\\final-real_speeds\\Manhattan\\05_min\\vga_chaining-batch_480_s-limited\\config.yaml-performance.json\n",
      "15:55:08 [INFO] Loading json file from: C:\\Google Drive\\AIC Experiment Data\\DARP\\Results\\final-real_speeds\\Manhattan\\05_min\\vga_chaining-batch_480_s-limited\\config.yaml-solution.json\n",
      "15:55:08 [INFO] Loading experiment config from C:\\Google Drive\\AIC Experiment Data\\DARP\\Results\\final-real_speeds\\Manhattan\\05_min\\vga_chaining-batch_480_s-limited\\config.yaml\n",
      "15:55:08 [INFO] Loading instance config from C:\\Google Drive\\AIC Experiment Data\\DARP\\Real demand and speeds\\Manhattan\\experiments\\final_experiments\\05_min\\config.yaml\n",
      "15:55:08 [INFO] Loading json file from: C:\\Google Drive\\AIC Experiment Data\\DARP\\Results\\final-real_speeds\\Manhattan\\05_min\\vga_chaining-batch_60_s\\config.yaml-performance.json\n",
      "15:55:08 [INFO] Loading json file from: C:\\Google Drive\\AIC Experiment Data\\DARP\\Results\\final-real_speeds\\Manhattan\\05_min\\vga_chaining-batch_60_s\\config.yaml-solution.json\n",
      "15:55:08 [INFO] Loading experiment config from C:\\Google Drive\\AIC Experiment Data\\DARP\\Results\\final-real_speeds\\Manhattan\\05_min\\vga_chaining-batch_60_s\\config.yaml\n",
      "15:55:08 [INFO] Loading instance config from C:\\Google Drive\\AIC Experiment Data\\DARP\\Real demand and speeds\\Manhattan\\experiments\\final_experiments\\05_min\\config.yaml\n",
      "15:55:08 [WARNING] No solution found in folder: C:\\Google Drive\\AIC Experiment Data\\DARP\\Results\\final-real_speeds\\Manhattan\\15_min\\halns\n",
      "15:55:08 [WARNING] No solution found in folder: C:\\Google Drive\\AIC Experiment Data\\DARP\\Results\\final-real_speeds\\Manhattan\\15_min\\halns-ih\n",
      "15:55:08 [WARNING] No solution found in folder: C:\\Google Drive\\AIC Experiment Data\\DARP\\Results\\final-real_speeds\\Manhattan\\15_min\\halns-vga\n",
      "15:55:08 [INFO] Loading json file from: C:\\Google Drive\\AIC Experiment Data\\DARP\\Results\\final-real_speeds\\Manhattan\\15_min\\ih\\config.yaml-performance.json\n",
      "15:55:08 [INFO] Loading json file from: C:\\Google Drive\\AIC Experiment Data\\DARP\\Results\\final-real_speeds\\Manhattan\\15_min\\ih\\config.yaml-solution.json\n",
      "15:55:08 [INFO] Loading experiment config from C:\\Google Drive\\AIC Experiment Data\\DARP\\Results\\final-real_speeds\\Manhattan\\15_min\\ih\\config.yaml\n",
      "15:55:08 [INFO] Loading instance config from C:\\Google Drive\\AIC Experiment Data\\DARP\\Real demand and speeds\\Manhattan\\experiments\\final_experiments\\15_min\\config.yaml\n",
      "15:55:08 [WARNING] No solution found in folder: C:\\Google Drive\\AIC Experiment Data\\DARP\\Results\\final-real_speeds\\Manhattan\\15_min\\vga\n",
      "15:55:10 [INFO] Loading json file from: C:\\Google Drive\\AIC Experiment Data\\DARP\\Results\\final-real_speeds\\Manhattan\\15_min\\vga_chaining-batch_120_s\\config.yaml-performance.json\n",
      "15:55:10 [INFO] Loading json file from: C:\\Google Drive\\AIC Experiment Data\\DARP\\Results\\final-real_speeds\\Manhattan\\15_min\\vga_chaining-batch_120_s\\config.yaml-solution.json\n",
      "15:55:10 [INFO] Loading experiment config from C:\\Google Drive\\AIC Experiment Data\\DARP\\Results\\final-real_speeds\\Manhattan\\15_min\\vga_chaining-batch_120_s\\config.yaml\n",
      "15:55:10 [INFO] Loading instance config from C:\\Google Drive\\AIC Experiment Data\\DARP\\Real demand and speeds\\Manhattan\\experiments\\final_experiments\\15_min\\config.yaml\n",
      "15:55:12 [INFO] Loading json file from: C:\\Google Drive\\AIC Experiment Data\\DARP\\Results\\final-real_speeds\\Manhattan\\15_min\\vga_chaining-batch_120_s-limited\\config.yaml-performance.json\n",
      "15:55:12 [INFO] Loading json file from: C:\\Google Drive\\AIC Experiment Data\\DARP\\Results\\final-real_speeds\\Manhattan\\15_min\\vga_chaining-batch_120_s-limited\\config.yaml-solution.json\n",
      "15:55:12 [INFO] Loading experiment config from C:\\Google Drive\\AIC Experiment Data\\DARP\\Results\\final-real_speeds\\Manhattan\\15_min\\vga_chaining-batch_120_s-limited\\config.yaml\n",
      "15:55:12 [INFO] Loading instance config from C:\\Google Drive\\AIC Experiment Data\\DARP\\Real demand and speeds\\Manhattan\\experiments\\final_experiments\\15_min\\config.yaml\n",
      "15:55:12 [WARNING] No solution found in folder: C:\\Google Drive\\AIC Experiment Data\\DARP\\Results\\final-real_speeds\\Manhattan\\15_min\\vga_chaining-batch_240_s\n",
      "15:55:13 [INFO] Loading json file from: C:\\Google Drive\\AIC Experiment Data\\DARP\\Results\\final-real_speeds\\Manhattan\\15_min\\vga_chaining-batch_240_s-limited\\config.yaml-performance.json\n",
      "15:55:13 [INFO] Loading json file from: C:\\Google Drive\\AIC Experiment Data\\DARP\\Results\\final-real_speeds\\Manhattan\\15_min\\vga_chaining-batch_240_s-limited\\config.yaml-solution.json\n",
      "15:55:13 [INFO] Loading experiment config from C:\\Google Drive\\AIC Experiment Data\\DARP\\Results\\final-real_speeds\\Manhattan\\15_min\\vga_chaining-batch_240_s-limited\\config.yaml\n",
      "15:55:13 [INFO] Loading instance config from C:\\Google Drive\\AIC Experiment Data\\DARP\\Real demand and speeds\\Manhattan\\experiments\\final_experiments\\15_min\\config.yaml\n",
      "15:55:16 [INFO] Loading json file from: C:\\Google Drive\\AIC Experiment Data\\DARP\\Results\\final-real_speeds\\Manhattan\\15_min\\vga_chaining-batch_30_s\\config.yaml-performance.json\n",
      "15:55:16 [INFO] Loading json file from: C:\\Google Drive\\AIC Experiment Data\\DARP\\Results\\final-real_speeds\\Manhattan\\15_min\\vga_chaining-batch_30_s\\config.yaml-solution.json\n",
      "15:55:16 [INFO] Loading experiment config from C:\\Google Drive\\AIC Experiment Data\\DARP\\Results\\final-real_speeds\\Manhattan\\15_min\\vga_chaining-batch_30_s\\config.yaml\n",
      "15:55:16 [INFO] Loading instance config from C:\\Google Drive\\AIC Experiment Data\\DARP\\Real demand and speeds\\Manhattan\\experiments\\final_experiments\\15_min\\config.yaml\n",
      "15:55:16 [WARNING] No solution found in folder: C:\\Google Drive\\AIC Experiment Data\\DARP\\Results\\final-real_speeds\\Manhattan\\15_min\\vga_chaining-batch_480_s\n",
      "15:55:17 [INFO] Loading json file from: C:\\Google Drive\\AIC Experiment Data\\DARP\\Results\\final-real_speeds\\Manhattan\\15_min\\vga_chaining-batch_480_s-limited\\config.yaml-performance.json\n",
      "15:55:17 [INFO] Loading json file from: C:\\Google Drive\\AIC Experiment Data\\DARP\\Results\\final-real_speeds\\Manhattan\\15_min\\vga_chaining-batch_480_s-limited\\config.yaml-solution.json\n",
      "15:55:17 [INFO] Loading experiment config from C:\\Google Drive\\AIC Experiment Data\\DARP\\Results\\final-real_speeds\\Manhattan\\15_min\\vga_chaining-batch_480_s-limited\\config.yaml\n",
      "15:55:17 [INFO] Loading instance config from C:\\Google Drive\\AIC Experiment Data\\DARP\\Real demand and speeds\\Manhattan\\experiments\\final_experiments\\15_min\\config.yaml\n",
      "15:55:19 [INFO] Loading json file from: C:\\Google Drive\\AIC Experiment Data\\DARP\\Results\\final-real_speeds\\Manhattan\\15_min\\vga_chaining-batch_60_s\\config.yaml-performance.json\n",
      "15:55:19 [INFO] Loading json file from: C:\\Google Drive\\AIC Experiment Data\\DARP\\Results\\final-real_speeds\\Manhattan\\15_min\\vga_chaining-batch_60_s\\config.yaml-solution.json\n",
      "15:55:19 [INFO] Loading experiment config from C:\\Google Drive\\AIC Experiment Data\\DARP\\Results\\final-real_speeds\\Manhattan\\15_min\\vga_chaining-batch_60_s\\config.yaml\n",
      "15:55:19 [INFO] Loading instance config from C:\\Google Drive\\AIC Experiment Data\\DARP\\Real demand and speeds\\Manhattan\\experiments\\final_experiments\\15_min\\config.yaml\n",
      "15:55:19 [WARNING] No solution found in folder: C:\\Google Drive\\AIC Experiment Data\\DARP\\Results\\final-real_speeds\\Manhattan\\30_min\\halns\n",
      "15:55:19 [WARNING] No solution found in folder: C:\\Google Drive\\AIC Experiment Data\\DARP\\Results\\final-real_speeds\\Manhattan\\30_min\\halns-ih\n",
      "15:55:19 [WARNING] No solution found in folder: C:\\Google Drive\\AIC Experiment Data\\DARP\\Results\\final-real_speeds\\Manhattan\\30_min\\halns-vga\n",
      "15:55:19 [INFO] Loading json file from: C:\\Google Drive\\AIC Experiment Data\\DARP\\Results\\final-real_speeds\\Manhattan\\30_min\\ih\\config.yaml-performance.json\n",
      "15:55:19 [INFO] Loading json file from: C:\\Google Drive\\AIC Experiment Data\\DARP\\Results\\final-real_speeds\\Manhattan\\30_min\\ih\\config.yaml-solution.json\n",
      "15:55:19 [INFO] Loading experiment config from C:\\Google Drive\\AIC Experiment Data\\DARP\\Results\\final-real_speeds\\Manhattan\\30_min\\ih\\config.yaml\n",
      "15:55:19 [INFO] Loading instance config from C:\\Google Drive\\AIC Experiment Data\\DARP\\Real demand and speeds\\Manhattan\\experiments\\final_experiments\\30_min\\config.yaml\n",
      "15:55:19 [WARNING] No solution found in folder: C:\\Google Drive\\AIC Experiment Data\\DARP\\Results\\final-real_speeds\\Manhattan\\30_min\\vga\n",
      "15:55:26 [INFO] Loading json file from: C:\\Google Drive\\AIC Experiment Data\\DARP\\Results\\final-real_speeds\\Manhattan\\30_min\\vga_chaining-batch_120_s\\config.yaml-performance.json\n",
      "15:55:26 [INFO] Loading json file from: C:\\Google Drive\\AIC Experiment Data\\DARP\\Results\\final-real_speeds\\Manhattan\\30_min\\vga_chaining-batch_120_s\\config.yaml-solution.json\n",
      "15:55:27 [INFO] Loading experiment config from C:\\Google Drive\\AIC Experiment Data\\DARP\\Results\\final-real_speeds\\Manhattan\\30_min\\vga_chaining-batch_120_s\\config.yaml\n",
      "15:55:27 [INFO] Loading instance config from C:\\Google Drive\\AIC Experiment Data\\DARP\\Real demand and speeds\\Manhattan\\experiments\\final_experiments\\30_min\\config.yaml\n",
      "15:55:34 [INFO] Loading json file from: C:\\Google Drive\\AIC Experiment Data\\DARP\\Results\\final-real_speeds\\Manhattan\\30_min\\vga_chaining-batch_120_s-limited\\config.yaml-performance.json\n",
      "15:55:34 [INFO] Loading json file from: C:\\Google Drive\\AIC Experiment Data\\DARP\\Results\\final-real_speeds\\Manhattan\\30_min\\vga_chaining-batch_120_s-limited\\config.yaml-solution.json\n",
      "15:55:34 [INFO] Loading experiment config from C:\\Google Drive\\AIC Experiment Data\\DARP\\Results\\final-real_speeds\\Manhattan\\30_min\\vga_chaining-batch_120_s-limited\\config.yaml\n",
      "15:55:34 [INFO] Loading instance config from C:\\Google Drive\\AIC Experiment Data\\DARP\\Real demand and speeds\\Manhattan\\experiments\\final_experiments\\30_min\\config.yaml\n",
      "15:55:34 [WARNING] No solution found in folder: C:\\Google Drive\\AIC Experiment Data\\DARP\\Results\\final-real_speeds\\Manhattan\\30_min\\vga_chaining-batch_240_s\n",
      "15:55:41 [INFO] Loading json file from: C:\\Google Drive\\AIC Experiment Data\\DARP\\Results\\final-real_speeds\\Manhattan\\30_min\\vga_chaining-batch_240_s-limited\\config.yaml-performance.json\n",
      "15:55:41 [INFO] Loading json file from: C:\\Google Drive\\AIC Experiment Data\\DARP\\Results\\final-real_speeds\\Manhattan\\30_min\\vga_chaining-batch_240_s-limited\\config.yaml-solution.json\n",
      "15:55:41 [INFO] Loading experiment config from C:\\Google Drive\\AIC Experiment Data\\DARP\\Results\\final-real_speeds\\Manhattan\\30_min\\vga_chaining-batch_240_s-limited\\config.yaml\n",
      "15:55:41 [INFO] Loading instance config from C:\\Google Drive\\AIC Experiment Data\\DARP\\Real demand and speeds\\Manhattan\\experiments\\final_experiments\\30_min\\config.yaml\n",
      "15:55:56 [INFO] Loading json file from: C:\\Google Drive\\AIC Experiment Data\\DARP\\Results\\final-real_speeds\\Manhattan\\30_min\\vga_chaining-batch_30_s\\config.yaml-performance.json\n",
      "15:55:56 [INFO] Loading json file from: C:\\Google Drive\\AIC Experiment Data\\DARP\\Results\\final-real_speeds\\Manhattan\\30_min\\vga_chaining-batch_30_s\\config.yaml-solution.json\n",
      "15:55:56 [INFO] Loading experiment config from C:\\Google Drive\\AIC Experiment Data\\DARP\\Results\\final-real_speeds\\Manhattan\\30_min\\vga_chaining-batch_30_s\\config.yaml\n",
      "15:55:56 [INFO] Loading instance config from C:\\Google Drive\\AIC Experiment Data\\DARP\\Real demand and speeds\\Manhattan\\experiments\\final_experiments\\30_min\\config.yaml\n",
      "15:55:56 [WARNING] No solution found in folder: C:\\Google Drive\\AIC Experiment Data\\DARP\\Results\\final-real_speeds\\Manhattan\\30_min\\vga_chaining-batch_480_s\n",
      "15:56:02 [INFO] Loading json file from: C:\\Google Drive\\AIC Experiment Data\\DARP\\Results\\final-real_speeds\\Manhattan\\30_min\\vga_chaining-batch_480_s-limited\\config.yaml-performance.json\n",
      "15:56:02 [INFO] Loading json file from: C:\\Google Drive\\AIC Experiment Data\\DARP\\Results\\final-real_speeds\\Manhattan\\30_min\\vga_chaining-batch_480_s-limited\\config.yaml-solution.json\n",
      "15:56:02 [INFO] Loading experiment config from C:\\Google Drive\\AIC Experiment Data\\DARP\\Results\\final-real_speeds\\Manhattan\\30_min\\vga_chaining-batch_480_s-limited\\config.yaml\n",
      "15:56:02 [INFO] Loading instance config from C:\\Google Drive\\AIC Experiment Data\\DARP\\Real demand and speeds\\Manhattan\\experiments\\final_experiments\\30_min\\config.yaml\n",
      "15:56:12 [INFO] Loading json file from: C:\\Google Drive\\AIC Experiment Data\\DARP\\Results\\final-real_speeds\\Manhattan\\30_min\\vga_chaining-batch_60_s\\config.yaml-performance.json\n",
      "15:56:12 [INFO] Loading json file from: C:\\Google Drive\\AIC Experiment Data\\DARP\\Results\\final-real_speeds\\Manhattan\\30_min\\vga_chaining-batch_60_s\\config.yaml-solution.json\n",
      "15:56:12 [INFO] Loading experiment config from C:\\Google Drive\\AIC Experiment Data\\DARP\\Results\\final-real_speeds\\Manhattan\\30_min\\vga_chaining-batch_60_s\\config.yaml\n",
      "15:56:12 [INFO] Loading instance config from C:\\Google Drive\\AIC Experiment Data\\DARP\\Real demand and speeds\\Manhattan\\experiments\\final_experiments\\30_min\\config.yaml\n",
      "15:56:12 [INFO] Loading occupancy stats in C:\\Google Drive\\AIC Experiment Data\\DARP\\Results\\final-real_speeds\\Chicago\n",
      "15:56:12 [INFO] Loading occupancy stats in C:\\Google Drive\\AIC Experiment Data\\DARP\\Results\\final-real_speeds\\DC\n",
      "15:56:12 [INFO] Loading json file from: C:\\Google Drive\\AIC Experiment Data\\DARP\\Results\\final-real_speeds\\DC\\05_min\\ih\\config.yaml-performance.json\n",
      "15:56:12 [INFO] Loading json file from: C:\\Google Drive\\AIC Experiment Data\\DARP\\Results\\final-real_speeds\\DC\\05_min\\ih\\config.yaml-solution.json\n",
      "15:56:12 [INFO] Loading experiment config from C:\\Google Drive\\AIC Experiment Data\\DARP\\Results\\final-real_speeds\\DC\\05_min\\ih\\config.yaml\n",
      "15:56:12 [INFO] Loading instance config from C:\\Google Drive\\AIC Experiment Data\\DARP\\Real demand and speeds\\DC\\experiments\\final_experiments\\05_min\\config.yaml\n",
      "15:56:12 [INFO] Loading json file from: C:\\Google Drive\\AIC Experiment Data\\DARP\\Results\\final-real_speeds\\DC\\05_min\\vga\\config.yaml-performance.json\n",
      "15:56:12 [INFO] Loading json file from: C:\\Google Drive\\AIC Experiment Data\\DARP\\Results\\final-real_speeds\\DC\\05_min\\vga\\config.yaml-solution.json\n",
      "15:56:12 [INFO] Loading experiment config from C:\\Google Drive\\AIC Experiment Data\\DARP\\Results\\final-real_speeds\\DC\\05_min\\vga\\config.yaml\n",
      "15:56:12 [INFO] Loading instance config from C:\\Google Drive\\AIC Experiment Data\\DARP\\Real demand and speeds\\DC\\experiments\\final_experiments\\05_min\\config.yaml\n",
      "15:56:12 [WARNING] No solution found in folder: C:\\Google Drive\\AIC Experiment Data\\DARP\\Results\\final-real_speeds\\DC\\05_min\\vga_chaining-batch_120_s\n",
      "15:56:12 [WARNING] No solution found in folder: C:\\Google Drive\\AIC Experiment Data\\DARP\\Results\\final-real_speeds\\DC\\05_min\\vga_chaining-batch_120_s-limited\n",
      "15:56:12 [WARNING] No solution found in folder: C:\\Google Drive\\AIC Experiment Data\\DARP\\Results\\final-real_speeds\\DC\\05_min\\vga_chaining-batch_240_s\n",
      "15:56:12 [WARNING] No solution found in folder: C:\\Google Drive\\AIC Experiment Data\\DARP\\Results\\final-real_speeds\\DC\\05_min\\vga_chaining-batch_240_s-limited\n",
      "15:56:12 [WARNING] No solution found in folder: C:\\Google Drive\\AIC Experiment Data\\DARP\\Results\\final-real_speeds\\DC\\05_min\\vga_chaining-batch_30_s\n",
      "15:56:12 [INFO] Loading json file from: C:\\Google Drive\\AIC Experiment Data\\DARP\\Results\\final-real_speeds\\DC\\05_min\\vga_chaining-batch_480_s\\config.yaml-performance.json\n",
      "15:56:12 [INFO] Loading json file from: C:\\Google Drive\\AIC Experiment Data\\DARP\\Results\\final-real_speeds\\DC\\05_min\\vga_chaining-batch_480_s\\config.yaml-solution.json\n",
      "15:56:12 [INFO] Loading experiment config from C:\\Google Drive\\AIC Experiment Data\\DARP\\Results\\final-real_speeds\\DC\\05_min\\vga_chaining-batch_480_s\\config.yaml\n",
      "15:56:12 [INFO] Loading instance config from C:\\Google Drive\\AIC Experiment Data\\DARP\\Real demand and speeds\\DC\\experiments\\final_experiments\\05_min\\config.yaml\n",
      "15:56:12 [WARNING] No solution found in folder: C:\\Google Drive\\AIC Experiment Data\\DARP\\Results\\final-real_speeds\\DC\\05_min\\vga_chaining-batch_480_s-limited\n",
      "15:56:12 [WARNING] No solution found in folder: C:\\Google Drive\\AIC Experiment Data\\DARP\\Results\\final-real_speeds\\DC\\05_min\\vga_chaining-batch_60_s\n",
      "15:56:12 [INFO] Loading json file from: C:\\Google Drive\\AIC Experiment Data\\DARP\\Results\\final-real_speeds\\DC\\15_min\\ih\\config.yaml-performance.json\n",
      "15:56:12 [INFO] Loading json file from: C:\\Google Drive\\AIC Experiment Data\\DARP\\Results\\final-real_speeds\\DC\\15_min\\ih\\config.yaml-solution.json\n",
      "15:56:12 [INFO] Loading experiment config from C:\\Google Drive\\AIC Experiment Data\\DARP\\Results\\final-real_speeds\\DC\\15_min\\ih\\config.yaml\n",
      "15:56:12 [INFO] Loading instance config from C:\\Google Drive\\AIC Experiment Data\\DARP\\Real demand and speeds\\DC\\experiments\\final_experiments\\15_min\\config.yaml\n",
      "15:56:12 [INFO] Loading json file from: C:\\Google Drive\\AIC Experiment Data\\DARP\\Results\\final-real_speeds\\DC\\15_min\\vga\\config.yaml-performance.json\n",
      "15:56:12 [INFO] Loading json file from: C:\\Google Drive\\AIC Experiment Data\\DARP\\Results\\final-real_speeds\\DC\\15_min\\vga\\config.yaml-solution.json\n",
      "15:56:12 [INFO] Loading experiment config from C:\\Google Drive\\AIC Experiment Data\\DARP\\Results\\final-real_speeds\\DC\\15_min\\vga\\config.yaml\n",
      "15:56:12 [INFO] Loading instance config from C:\\Google Drive\\AIC Experiment Data\\DARP\\Real demand and speeds\\DC\\experiments\\final_experiments\\15_min\\config.yaml\n",
      "15:56:12 [WARNING] No solution found in folder: C:\\Google Drive\\AIC Experiment Data\\DARP\\Results\\final-real_speeds\\DC\\15_min\\vga_chaining-batch_120_s\n",
      "15:56:12 [WARNING] No solution found in folder: C:\\Google Drive\\AIC Experiment Data\\DARP\\Results\\final-real_speeds\\DC\\15_min\\vga_chaining-batch_120_s-limited\n",
      "15:56:12 [WARNING] No solution found in folder: C:\\Google Drive\\AIC Experiment Data\\DARP\\Results\\final-real_speeds\\DC\\15_min\\vga_chaining-batch_240_s\n",
      "15:56:12 [WARNING] No solution found in folder: C:\\Google Drive\\AIC Experiment Data\\DARP\\Results\\final-real_speeds\\DC\\15_min\\vga_chaining-batch_240_s-limited\n",
      "15:56:12 [WARNING] No solution found in folder: C:\\Google Drive\\AIC Experiment Data\\DARP\\Results\\final-real_speeds\\DC\\15_min\\vga_chaining-batch_30_s\n",
      "15:56:12 [WARNING] No solution found in folder: C:\\Google Drive\\AIC Experiment Data\\DARP\\Results\\final-real_speeds\\DC\\15_min\\vga_chaining-batch_480_s\n",
      "15:56:12 [WARNING] No solution found in folder: C:\\Google Drive\\AIC Experiment Data\\DARP\\Results\\final-real_speeds\\DC\\15_min\\vga_chaining-batch_480_s-limited\n",
      "15:56:12 [WARNING] No solution found in folder: C:\\Google Drive\\AIC Experiment Data\\DARP\\Results\\final-real_speeds\\DC\\15_min\\vga_chaining-batch_60_s\n",
      "15:56:12 [INFO] Loading json file from: C:\\Google Drive\\AIC Experiment Data\\DARP\\Results\\final-real_speeds\\DC\\30_min\\ih\\config.yaml-performance.json\n",
      "15:56:12 [INFO] Loading json file from: C:\\Google Drive\\AIC Experiment Data\\DARP\\Results\\final-real_speeds\\DC\\30_min\\ih\\config.yaml-solution.json\n",
      "15:56:12 [INFO] Loading experiment config from C:\\Google Drive\\AIC Experiment Data\\DARP\\Results\\final-real_speeds\\DC\\30_min\\ih\\config.yaml\n",
      "15:56:12 [INFO] Loading instance config from C:\\Google Drive\\AIC Experiment Data\\DARP\\Real demand and speeds\\DC\\experiments\\final_experiments\\30_min\\config.yaml\n",
      "15:56:12 [INFO] Loading json file from: C:\\Google Drive\\AIC Experiment Data\\DARP\\Results\\final-real_speeds\\DC\\30_min\\vga\\config.yaml-performance.json\n",
      "15:56:12 [INFO] Loading json file from: C:\\Google Drive\\AIC Experiment Data\\DARP\\Results\\final-real_speeds\\DC\\30_min\\vga\\config.yaml-solution.json\n",
      "15:56:12 [INFO] Loading experiment config from C:\\Google Drive\\AIC Experiment Data\\DARP\\Results\\final-real_speeds\\DC\\30_min\\vga\\config.yaml\n",
      "15:56:12 [INFO] Loading instance config from C:\\Google Drive\\AIC Experiment Data\\DARP\\Real demand and speeds\\DC\\experiments\\final_experiments\\30_min\\config.yaml\n",
      "15:56:12 [WARNING] No solution found in folder: C:\\Google Drive\\AIC Experiment Data\\DARP\\Results\\final-real_speeds\\DC\\30_min\\vga_chaining-batch_120_s\n",
      "15:56:12 [WARNING] No solution found in folder: C:\\Google Drive\\AIC Experiment Data\\DARP\\Results\\final-real_speeds\\DC\\30_min\\vga_chaining-batch_120_s-limited\n",
      "15:56:12 [INFO] Loading json file from: C:\\Google Drive\\AIC Experiment Data\\DARP\\Results\\final-real_speeds\\DC\\30_min\\vga_chaining-batch_240_s\\config.yaml-performance.json\n",
      "15:56:12 [INFO] Loading json file from: C:\\Google Drive\\AIC Experiment Data\\DARP\\Results\\final-real_speeds\\DC\\30_min\\vga_chaining-batch_240_s\\config.yaml-solution.json\n",
      "15:56:12 [INFO] Loading experiment config from C:\\Google Drive\\AIC Experiment Data\\DARP\\Results\\final-real_speeds\\DC\\30_min\\vga_chaining-batch_240_s\\config.yaml\n",
      "15:56:12 [INFO] Loading instance config from C:\\Google Drive\\AIC Experiment Data\\DARP\\Real demand and speeds\\DC\\experiments\\final_experiments\\30_min\\config.yaml\n",
      "15:56:12 [WARNING] No solution found in folder: C:\\Google Drive\\AIC Experiment Data\\DARP\\Results\\final-real_speeds\\DC\\30_min\\vga_chaining-batch_240_s-limited\n",
      "15:56:12 [WARNING] No solution found in folder: C:\\Google Drive\\AIC Experiment Data\\DARP\\Results\\final-real_speeds\\DC\\30_min\\vga_chaining-batch_30_s\n",
      "15:56:12 [INFO] Loading json file from: C:\\Google Drive\\AIC Experiment Data\\DARP\\Results\\final-real_speeds\\DC\\30_min\\vga_chaining-batch_480_s\\config.yaml-performance.json\n",
      "15:56:12 [INFO] Loading json file from: C:\\Google Drive\\AIC Experiment Data\\DARP\\Results\\final-real_speeds\\DC\\30_min\\vga_chaining-batch_480_s\\config.yaml-solution.json\n",
      "15:56:12 [INFO] Loading experiment config from C:\\Google Drive\\AIC Experiment Data\\DARP\\Results\\final-real_speeds\\DC\\30_min\\vga_chaining-batch_480_s\\config.yaml\n",
      "15:56:12 [INFO] Loading instance config from C:\\Google Drive\\AIC Experiment Data\\DARP\\Real demand and speeds\\DC\\experiments\\final_experiments\\30_min\\config.yaml\n",
      "15:56:12 [WARNING] No solution found in folder: C:\\Google Drive\\AIC Experiment Data\\DARP\\Results\\final-real_speeds\\DC\\30_min\\vga_chaining-batch_480_s-limited\n",
      "15:56:12 [WARNING] No solution found in folder: C:\\Google Drive\\AIC Experiment Data\\DARP\\Results\\final-real_speeds\\DC\\30_min\\vga_chaining-batch_60_s\n"
     ]
    },
    {
     "data": {
      "text/plain": "     cost_minutes  total_time  dropped_requests   avg_delay  plan_count   \n0            9203       1.024                 0  554.799523         593  \\\n1            9203       1.024                 0  554.799523         593   \n2            9203       1.024                 0  554.799523         593   \n3            9203       1.024                 0  554.799523         593   \n4            9203       1.024                 0  554.799523         593   \n..            ...         ...               ...         ...         ...   \n145          3413       0.470                 0  990.980159         126   \n146          3413       0.470                 0  990.980159         126   \n147          3413       0.470                 0  990.980159         126   \n148          3413       0.470                 0  990.980159         126   \n149          3413       0.470                 0  990.980159         126   \n\n     req_count  avg_occupancy  used_connections  total_driving_duration   \n0         1676       1.679100                -1                  552165  \\\n1         1676       1.679100                -1                  552165   \n2         1676       1.679100                -1                  552165   \n3         1676       1.679100                -1                  552165   \n4         1676       1.679100                -1                  552165   \n..         ...            ...               ...                     ...   \n145        252       1.211336               573                  204764   \n146        252       1.211336               573                  204764   \n147        252       1.211336               573                  204764   \n148        252       1.211336               573                  204764   \n149        252       1.211336               573                  204764   \n\n     total_waiting_duration  ...  tts_cost  tts_cost_per_plan        method   \n0                      2611  ...     24025          40.514334            ih  \\\n1                      2611  ...     24025          40.514334            ih   \n2                      2611  ...     24025          40.514334            ih   \n3                      2611  ...     24025          40.514334            ih   \n4                      2611  ...     24025          40.514334            ih   \n..                      ...  ...       ...                ...           ...   \n145                    4467  ...     11660          92.539683  vga_chaining   \n146                    4467  ...     11660          92.539683  vga_chaining   \n147                    4467  ...     11660          92.539683  vga_chaining   \n148                    4467  ...     11660          92.539683  vga_chaining   \n149                    4467  ...     11660          92.539683  vga_chaining   \n\n    max_delay          start_time            end_time duration_minutes   \n0         300 2022-03-11 18:00:00 2022-03-11 18:05:00                5  \\\n1         300 2022-03-11 18:00:00 2022-03-11 18:05:00                5   \n2         300 2022-03-11 18:00:00 2022-03-11 18:05:00                5   \n3         300 2022-03-11 18:00:00 2022-03-11 18:05:00                5   \n4         300 2022-03-11 18:00:00 2022-03-11 18:05:00                5   \n..        ...                 ...                 ...              ...   \n145       300 2021-10-22 18:00:00 2021-10-22 18:30:00               30   \n146       300 2021-10-22 18:00:00 2021-10-22 18:30:00               30   \n147       300 2021-10-22 18:00:00 2021-10-22 18:30:00               30   \n148       300 2021-10-22 18:00:00 2021-10-22 18:30:00               30   \n149       300 2021-10-22 18:00:00 2021-10-22 18:30:00               30   \n\n     occupancy  vehicle_hours       area  \n0            0       6.901667  Manhattan  \n1            1      70.335278  Manhattan  \n2            2      47.120833  Manhattan  \n3            3      23.123611  Manhattan  \n4            4       5.897778  Manhattan  \n..         ...            ...        ...  \n145          0       4.857222         DC  \n146          1      36.687778         DC  \n147          2      13.790000         DC  \n148          3       1.543889         DC  \n149          4       0.000000         DC  \n\n[150 rows x 21 columns]",
      "text/html": "<div>\n<style scoped>\n    .dataframe tbody tr th:only-of-type {\n        vertical-align: middle;\n    }\n\n    .dataframe tbody tr th {\n        vertical-align: top;\n    }\n\n    .dataframe thead th {\n        text-align: right;\n    }\n</style>\n<table border=\"1\" class=\"dataframe\">\n  <thead>\n    <tr style=\"text-align: right;\">\n      <th></th>\n      <th>cost_minutes</th>\n      <th>total_time</th>\n      <th>dropped_requests</th>\n      <th>avg_delay</th>\n      <th>plan_count</th>\n      <th>req_count</th>\n      <th>avg_occupancy</th>\n      <th>used_connections</th>\n      <th>total_driving_duration</th>\n      <th>total_waiting_duration</th>\n      <th>...</th>\n      <th>tts_cost</th>\n      <th>tts_cost_per_plan</th>\n      <th>method</th>\n      <th>max_delay</th>\n      <th>start_time</th>\n      <th>end_time</th>\n      <th>duration_minutes</th>\n      <th>occupancy</th>\n      <th>vehicle_hours</th>\n      <th>area</th>\n    </tr>\n  </thead>\n  <tbody>\n    <tr>\n      <th>0</th>\n      <td>9203</td>\n      <td>1.024</td>\n      <td>0</td>\n      <td>554.799523</td>\n      <td>593</td>\n      <td>1676</td>\n      <td>1.679100</td>\n      <td>-1</td>\n      <td>552165</td>\n      <td>2611</td>\n      <td>...</td>\n      <td>24025</td>\n      <td>40.514334</td>\n      <td>ih</td>\n      <td>300</td>\n      <td>2022-03-11 18:00:00</td>\n      <td>2022-03-11 18:05:00</td>\n      <td>5</td>\n      <td>0</td>\n      <td>6.901667</td>\n      <td>Manhattan</td>\n    </tr>\n    <tr>\n      <th>1</th>\n      <td>9203</td>\n      <td>1.024</td>\n      <td>0</td>\n      <td>554.799523</td>\n      <td>593</td>\n      <td>1676</td>\n      <td>1.679100</td>\n      <td>-1</td>\n      <td>552165</td>\n      <td>2611</td>\n      <td>...</td>\n      <td>24025</td>\n      <td>40.514334</td>\n      <td>ih</td>\n      <td>300</td>\n      <td>2022-03-11 18:00:00</td>\n      <td>2022-03-11 18:05:00</td>\n      <td>5</td>\n      <td>1</td>\n      <td>70.335278</td>\n      <td>Manhattan</td>\n    </tr>\n    <tr>\n      <th>2</th>\n      <td>9203</td>\n      <td>1.024</td>\n      <td>0</td>\n      <td>554.799523</td>\n      <td>593</td>\n      <td>1676</td>\n      <td>1.679100</td>\n      <td>-1</td>\n      <td>552165</td>\n      <td>2611</td>\n      <td>...</td>\n      <td>24025</td>\n      <td>40.514334</td>\n      <td>ih</td>\n      <td>300</td>\n      <td>2022-03-11 18:00:00</td>\n      <td>2022-03-11 18:05:00</td>\n      <td>5</td>\n      <td>2</td>\n      <td>47.120833</td>\n      <td>Manhattan</td>\n    </tr>\n    <tr>\n      <th>3</th>\n      <td>9203</td>\n      <td>1.024</td>\n      <td>0</td>\n      <td>554.799523</td>\n      <td>593</td>\n      <td>1676</td>\n      <td>1.679100</td>\n      <td>-1</td>\n      <td>552165</td>\n      <td>2611</td>\n      <td>...</td>\n      <td>24025</td>\n      <td>40.514334</td>\n      <td>ih</td>\n      <td>300</td>\n      <td>2022-03-11 18:00:00</td>\n      <td>2022-03-11 18:05:00</td>\n      <td>5</td>\n      <td>3</td>\n      <td>23.123611</td>\n      <td>Manhattan</td>\n    </tr>\n    <tr>\n      <th>4</th>\n      <td>9203</td>\n      <td>1.024</td>\n      <td>0</td>\n      <td>554.799523</td>\n      <td>593</td>\n      <td>1676</td>\n      <td>1.679100</td>\n      <td>-1</td>\n      <td>552165</td>\n      <td>2611</td>\n      <td>...</td>\n      <td>24025</td>\n      <td>40.514334</td>\n      <td>ih</td>\n      <td>300</td>\n      <td>2022-03-11 18:00:00</td>\n      <td>2022-03-11 18:05:00</td>\n      <td>5</td>\n      <td>4</td>\n      <td>5.897778</td>\n      <td>Manhattan</td>\n    </tr>\n    <tr>\n      <th>...</th>\n      <td>...</td>\n      <td>...</td>\n      <td>...</td>\n      <td>...</td>\n      <td>...</td>\n      <td>...</td>\n      <td>...</td>\n      <td>...</td>\n      <td>...</td>\n      <td>...</td>\n      <td>...</td>\n      <td>...</td>\n      <td>...</td>\n      <td>...</td>\n      <td>...</td>\n      <td>...</td>\n      <td>...</td>\n      <td>...</td>\n      <td>...</td>\n      <td>...</td>\n      <td>...</td>\n    </tr>\n    <tr>\n      <th>145</th>\n      <td>3413</td>\n      <td>0.470</td>\n      <td>0</td>\n      <td>990.980159</td>\n      <td>126</td>\n      <td>252</td>\n      <td>1.211336</td>\n      <td>573</td>\n      <td>204764</td>\n      <td>4467</td>\n      <td>...</td>\n      <td>11660</td>\n      <td>92.539683</td>\n      <td>vga_chaining</td>\n      <td>300</td>\n      <td>2021-10-22 18:00:00</td>\n      <td>2021-10-22 18:30:00</td>\n      <td>30</td>\n      <td>0</td>\n      <td>4.857222</td>\n      <td>DC</td>\n    </tr>\n    <tr>\n      <th>146</th>\n      <td>3413</td>\n      <td>0.470</td>\n      <td>0</td>\n      <td>990.980159</td>\n      <td>126</td>\n      <td>252</td>\n      <td>1.211336</td>\n      <td>573</td>\n      <td>204764</td>\n      <td>4467</td>\n      <td>...</td>\n      <td>11660</td>\n      <td>92.539683</td>\n      <td>vga_chaining</td>\n      <td>300</td>\n      <td>2021-10-22 18:00:00</td>\n      <td>2021-10-22 18:30:00</td>\n      <td>30</td>\n      <td>1</td>\n      <td>36.687778</td>\n      <td>DC</td>\n    </tr>\n    <tr>\n      <th>147</th>\n      <td>3413</td>\n      <td>0.470</td>\n      <td>0</td>\n      <td>990.980159</td>\n      <td>126</td>\n      <td>252</td>\n      <td>1.211336</td>\n      <td>573</td>\n      <td>204764</td>\n      <td>4467</td>\n      <td>...</td>\n      <td>11660</td>\n      <td>92.539683</td>\n      <td>vga_chaining</td>\n      <td>300</td>\n      <td>2021-10-22 18:00:00</td>\n      <td>2021-10-22 18:30:00</td>\n      <td>30</td>\n      <td>2</td>\n      <td>13.790000</td>\n      <td>DC</td>\n    </tr>\n    <tr>\n      <th>148</th>\n      <td>3413</td>\n      <td>0.470</td>\n      <td>0</td>\n      <td>990.980159</td>\n      <td>126</td>\n      <td>252</td>\n      <td>1.211336</td>\n      <td>573</td>\n      <td>204764</td>\n      <td>4467</td>\n      <td>...</td>\n      <td>11660</td>\n      <td>92.539683</td>\n      <td>vga_chaining</td>\n      <td>300</td>\n      <td>2021-10-22 18:00:00</td>\n      <td>2021-10-22 18:30:00</td>\n      <td>30</td>\n      <td>3</td>\n      <td>1.543889</td>\n      <td>DC</td>\n    </tr>\n    <tr>\n      <th>149</th>\n      <td>3413</td>\n      <td>0.470</td>\n      <td>0</td>\n      <td>990.980159</td>\n      <td>126</td>\n      <td>252</td>\n      <td>1.211336</td>\n      <td>573</td>\n      <td>204764</td>\n      <td>4467</td>\n      <td>...</td>\n      <td>11660</td>\n      <td>92.539683</td>\n      <td>vga_chaining</td>\n      <td>300</td>\n      <td>2021-10-22 18:00:00</td>\n      <td>2021-10-22 18:30:00</td>\n      <td>30</td>\n      <td>4</td>\n      <td>0.000000</td>\n      <td>DC</td>\n    </tr>\n  </tbody>\n</table>\n<p>150 rows × 21 columns</p>\n</div>"
     },
     "execution_count": 5,
     "metadata": {},
     "output_type": "execute_result"
    }
   ],
   "source": [
    "occupancy_df = pd.DataFrame()\n",
    "for area in areas:\n",
    "    occ_in_area = load_occupancies_in_dir(final_results_path / area)\n",
    "    if occ_in_area is not None:\n",
    "        occ_in_area['area'] = area\n",
    "        occupancy_df = pd.concat([occupancy_df, occ_in_area], ignore_index=True)\n",
    "occupancy_df"
   ],
   "metadata": {
    "collapsed": false,
    "ExecuteTime": {
     "end_time": "2023-05-10T13:56:12.422161500Z",
     "start_time": "2023-05-10T13:55:07.659688Z"
    }
   }
  },
  {
   "cell_type": "code",
   "execution_count": 10,
   "outputs": [
    {
     "data": {
      "text/plain": "     cost_minutes  total_time  dropped_requests    avg_delay  plan_count   \n0            9203       1.024                 0   554.799523         593  \\\n1            9203       1.024                 0   554.799523         593   \n2            9203       1.024                 0   554.799523         593   \n3            9203       1.024                 0   554.799523         593   \n4            9203       1.024                 0   554.799523         593   \n35          24610       8.791                 0   562.032649        1330   \n36          24610       8.791                 0   562.032649        1330   \n37          24610       8.791                 0   562.032649        1330   \n38          24610       8.791                 0   562.032649        1330   \n39          24610       8.791                 0   562.032649        1330   \n70          46869      38.645                 0   563.669268        1993   \n71          46869      38.645                 0   563.669268        1993   \n72          46869      38.645                 0   563.669268        1993   \n73          46869      38.645                 0   563.669268        1993   \n74          46869      38.645                 0   563.669268        1993   \n105           493       0.000                 6   909.200000          18   \n106           493       0.000                 6   909.200000          18   \n107           493       0.000                 6   909.200000          18   \n108           493       0.000                 6   909.200000          18   \n109           493       0.000                 6   909.200000          18   \n120          1723       0.007                 7   988.198276          62   \n121          1723       0.007                 7   988.198276          62   \n122          1723       0.007                 7   988.198276          62   \n123          1723       0.007                 7   988.198276          62   \n124          1723       0.007                 7   988.198276          62   \n130          3238       0.025                 0  1014.591270         111   \n131          3238       0.025                 0  1014.591270         111   \n132          3238       0.025                 0  1014.591270         111   \n133          3238       0.025                 0  1014.591270         111   \n134          3238       0.025                 0  1014.591270         111   \n\n     req_count  avg_occupancy  used_connections  total_driving_duration   \n0         1676       1.679100                -1                  552165  \\\n1         1676       1.679100                -1                  552165   \n2         1676       1.679100                -1                  552165   \n3         1676       1.679100                -1                  552165   \n4         1676       1.679100                -1                  552165   \n35        5115       1.936824                -1                 1476581   \n36        5115       1.936824                -1                 1476581   \n37        5115       1.936824                -1                 1476581   \n38        5115       1.936824                -1                 1476581   \n39        5115       1.936824                -1                 1476581   \n70       10380       2.068728                -1                 2812152   \n71       10380       2.068728                -1                 2812152   \n72       10380       2.068728                -1                 2812152   \n73       10380       2.068728                -1                 2812152   \n74       10380       2.068728                -1                 2812152   \n105         30       0.916872                -1                   29605   \n106         30       0.916872                -1                   29605   \n107         30       0.916872                -1                   29605   \n108         30       0.916872                -1                   29605   \n109         30       0.916872                -1                   29605   \n120        116       1.102313                -1                  103369   \n121        116       1.102313                -1                  103369   \n122        116       1.102313                -1                  103369   \n123        116       1.102313                -1                  103369   \n124        116       1.102313                -1                  103369   \n130        252       1.307270                -1                  194298   \n131        252       1.307270                -1                  194298   \n132        252       1.307270                -1                  194298   \n133        252       1.307270                -1                  194298   \n134        252       1.307270                -1                  194298   \n\n     total_waiting_duration  ...  tts_cost_per_plan  method  max_delay   \n0                      2611  ...          40.514334      ih        300  \\\n1                      2611  ...          40.514334      ih        300   \n2                      2611  ...          40.514334      ih        300   \n3                      2611  ...          40.514334      ih        300   \n4                      2611  ...          40.514334      ih        300   \n35                    13193  ...          22.736842      ih        300   \n36                    13193  ...          22.736842      ih        300   \n37                    13193  ...          22.736842      ih        300   \n38                    13193  ...          22.736842      ih        300   \n39                    13193  ...          22.736842      ih        300   \n70                    49427  ...          18.563472      ih        300   \n71                    49427  ...          18.563472      ih        300   \n72                    49427  ...          18.563472      ih        300   \n73                    49427  ...          18.563472      ih        300   \n74                    49427  ...          18.563472      ih        300   \n105                     132  ...         455.666667      ih        300   \n106                     132  ...         455.666667      ih        300   \n107                     132  ...         455.666667      ih        300   \n108                     132  ...         455.666667      ih        300   \n109                     132  ...         455.666667      ih        300   \n120                     865  ...         253.500000      ih        300   \n121                     865  ...         253.500000      ih        300   \n122                     865  ...         253.500000      ih        300   \n123                     865  ...         253.500000      ih        300   \n124                     865  ...         253.500000      ih        300   \n130                    4107  ...         102.081081      ih        300   \n131                    4107  ...         102.081081      ih        300   \n132                    4107  ...         102.081081      ih        300   \n133                    4107  ...         102.081081      ih        300   \n134                    4107  ...         102.081081      ih        300   \n\n             start_time            end_time duration_minutes occupancy   \n0   2022-03-11 18:00:00 2022-03-11 18:05:00                5         0  \\\n1   2022-03-11 18:00:00 2022-03-11 18:05:00                5         1   \n2   2022-03-11 18:00:00 2022-03-11 18:05:00                5         2   \n3   2022-03-11 18:00:00 2022-03-11 18:05:00                5         3   \n4   2022-03-11 18:00:00 2022-03-11 18:05:00                5         4   \n35  2022-03-11 18:00:00 2022-03-11 18:15:00               15         0   \n36  2022-03-11 18:00:00 2022-03-11 18:15:00               15         1   \n37  2022-03-11 18:00:00 2022-03-11 18:15:00               15         2   \n38  2022-03-11 18:00:00 2022-03-11 18:15:00               15         3   \n39  2022-03-11 18:00:00 2022-03-11 18:15:00               15         4   \n70  2022-03-11 18:00:00 2022-03-11 18:30:00               30         0   \n71  2022-03-11 18:00:00 2022-03-11 18:30:00               30         1   \n72  2022-03-11 18:00:00 2022-03-11 18:30:00               30         2   \n73  2022-03-11 18:00:00 2022-03-11 18:30:00               30         3   \n74  2022-03-11 18:00:00 2022-03-11 18:30:00               30         4   \n105 2021-10-22 18:00:00 2021-10-22 18:05:00                5         0   \n106 2021-10-22 18:00:00 2021-10-22 18:05:00                5         1   \n107 2021-10-22 18:00:00 2021-10-22 18:05:00                5         2   \n108 2021-10-22 18:00:00 2021-10-22 18:05:00                5         3   \n109 2021-10-22 18:00:00 2021-10-22 18:05:00                5         4   \n120 2021-10-22 18:00:00 2021-10-22 18:15:00               15         0   \n121 2021-10-22 18:00:00 2021-10-22 18:15:00               15         1   \n122 2021-10-22 18:00:00 2021-10-22 18:15:00               15         2   \n123 2021-10-22 18:00:00 2021-10-22 18:15:00               15         3   \n124 2021-10-22 18:00:00 2021-10-22 18:15:00               15         4   \n130 2021-10-22 18:00:00 2021-10-22 18:30:00               30         0   \n131 2021-10-22 18:00:00 2021-10-22 18:30:00               30         1   \n132 2021-10-22 18:00:00 2021-10-22 18:30:00               30         2   \n133 2021-10-22 18:00:00 2021-10-22 18:30:00               30         3   \n134 2021-10-22 18:00:00 2021-10-22 18:30:00               30         4   \n\n     vehicle_hours       area    percent  \n0         6.901667  Manhattan   4.478564  \n1        70.335278  Manhattan  45.641304  \n2        47.120833  Manhattan  30.577206  \n3        23.123611  Manhattan  15.005155  \n4         5.897778  Manhattan   3.827130  \n35        8.701667  Manhattan   2.102735  \n36      156.762222  Manhattan  37.881182  \n37      129.511389  Manhattan  31.296089  \n38       82.118889  Manhattan  19.843815  \n39       33.067222  Manhattan   7.990608  \n70       10.802778  Manhattan   1.359040  \n71      254.580833  Manhattan  32.027458  \n72      260.788056  Manhattan  32.808355  \n73      180.090000  Manhattan  22.656163  \n74       74.891667  Manhattan   9.421721  \n105       2.331111         DC  28.220735  \n106       4.436667         DC  53.710865  \n107       1.264167         DC  15.304167  \n108       0.191667         DC   2.320342  \n109       0.000000         DC   0.000000  \n120       4.756389         DC  16.427461  \n121      17.331944         DC  59.860506  \n122       5.556389         DC  19.190475  \n123       1.068889         DC   3.691694  \n124       0.000000         DC   0.000000  \n130       4.338056         DC   7.871273  \n131      31.972778         DC  58.013659  \n132      14.625278         DC  26.537134  \n133       2.810000         DC   5.098662  \n134       0.225556         DC   0.409264  \n\n[30 rows x 22 columns]",
      "text/html": "<div>\n<style scoped>\n    .dataframe tbody tr th:only-of-type {\n        vertical-align: middle;\n    }\n\n    .dataframe tbody tr th {\n        vertical-align: top;\n    }\n\n    .dataframe thead th {\n        text-align: right;\n    }\n</style>\n<table border=\"1\" class=\"dataframe\">\n  <thead>\n    <tr style=\"text-align: right;\">\n      <th></th>\n      <th>cost_minutes</th>\n      <th>total_time</th>\n      <th>dropped_requests</th>\n      <th>avg_delay</th>\n      <th>plan_count</th>\n      <th>req_count</th>\n      <th>avg_occupancy</th>\n      <th>used_connections</th>\n      <th>total_driving_duration</th>\n      <th>total_waiting_duration</th>\n      <th>...</th>\n      <th>tts_cost_per_plan</th>\n      <th>method</th>\n      <th>max_delay</th>\n      <th>start_time</th>\n      <th>end_time</th>\n      <th>duration_minutes</th>\n      <th>occupancy</th>\n      <th>vehicle_hours</th>\n      <th>area</th>\n      <th>percent</th>\n    </tr>\n  </thead>\n  <tbody>\n    <tr>\n      <th>0</th>\n      <td>9203</td>\n      <td>1.024</td>\n      <td>0</td>\n      <td>554.799523</td>\n      <td>593</td>\n      <td>1676</td>\n      <td>1.679100</td>\n      <td>-1</td>\n      <td>552165</td>\n      <td>2611</td>\n      <td>...</td>\n      <td>40.514334</td>\n      <td>ih</td>\n      <td>300</td>\n      <td>2022-03-11 18:00:00</td>\n      <td>2022-03-11 18:05:00</td>\n      <td>5</td>\n      <td>0</td>\n      <td>6.901667</td>\n      <td>Manhattan</td>\n      <td>4.478564</td>\n    </tr>\n    <tr>\n      <th>1</th>\n      <td>9203</td>\n      <td>1.024</td>\n      <td>0</td>\n      <td>554.799523</td>\n      <td>593</td>\n      <td>1676</td>\n      <td>1.679100</td>\n      <td>-1</td>\n      <td>552165</td>\n      <td>2611</td>\n      <td>...</td>\n      <td>40.514334</td>\n      <td>ih</td>\n      <td>300</td>\n      <td>2022-03-11 18:00:00</td>\n      <td>2022-03-11 18:05:00</td>\n      <td>5</td>\n      <td>1</td>\n      <td>70.335278</td>\n      <td>Manhattan</td>\n      <td>45.641304</td>\n    </tr>\n    <tr>\n      <th>2</th>\n      <td>9203</td>\n      <td>1.024</td>\n      <td>0</td>\n      <td>554.799523</td>\n      <td>593</td>\n      <td>1676</td>\n      <td>1.679100</td>\n      <td>-1</td>\n      <td>552165</td>\n      <td>2611</td>\n      <td>...</td>\n      <td>40.514334</td>\n      <td>ih</td>\n      <td>300</td>\n      <td>2022-03-11 18:00:00</td>\n      <td>2022-03-11 18:05:00</td>\n      <td>5</td>\n      <td>2</td>\n      <td>47.120833</td>\n      <td>Manhattan</td>\n      <td>30.577206</td>\n    </tr>\n    <tr>\n      <th>3</th>\n      <td>9203</td>\n      <td>1.024</td>\n      <td>0</td>\n      <td>554.799523</td>\n      <td>593</td>\n      <td>1676</td>\n      <td>1.679100</td>\n      <td>-1</td>\n      <td>552165</td>\n      <td>2611</td>\n      <td>...</td>\n      <td>40.514334</td>\n      <td>ih</td>\n      <td>300</td>\n      <td>2022-03-11 18:00:00</td>\n      <td>2022-03-11 18:05:00</td>\n      <td>5</td>\n      <td>3</td>\n      <td>23.123611</td>\n      <td>Manhattan</td>\n      <td>15.005155</td>\n    </tr>\n    <tr>\n      <th>4</th>\n      <td>9203</td>\n      <td>1.024</td>\n      <td>0</td>\n      <td>554.799523</td>\n      <td>593</td>\n      <td>1676</td>\n      <td>1.679100</td>\n      <td>-1</td>\n      <td>552165</td>\n      <td>2611</td>\n      <td>...</td>\n      <td>40.514334</td>\n      <td>ih</td>\n      <td>300</td>\n      <td>2022-03-11 18:00:00</td>\n      <td>2022-03-11 18:05:00</td>\n      <td>5</td>\n      <td>4</td>\n      <td>5.897778</td>\n      <td>Manhattan</td>\n      <td>3.827130</td>\n    </tr>\n    <tr>\n      <th>35</th>\n      <td>24610</td>\n      <td>8.791</td>\n      <td>0</td>\n      <td>562.032649</td>\n      <td>1330</td>\n      <td>5115</td>\n      <td>1.936824</td>\n      <td>-1</td>\n      <td>1476581</td>\n      <td>13193</td>\n      <td>...</td>\n      <td>22.736842</td>\n      <td>ih</td>\n      <td>300</td>\n      <td>2022-03-11 18:00:00</td>\n      <td>2022-03-11 18:15:00</td>\n      <td>15</td>\n      <td>0</td>\n      <td>8.701667</td>\n      <td>Manhattan</td>\n      <td>2.102735</td>\n    </tr>\n    <tr>\n      <th>36</th>\n      <td>24610</td>\n      <td>8.791</td>\n      <td>0</td>\n      <td>562.032649</td>\n      <td>1330</td>\n      <td>5115</td>\n      <td>1.936824</td>\n      <td>-1</td>\n      <td>1476581</td>\n      <td>13193</td>\n      <td>...</td>\n      <td>22.736842</td>\n      <td>ih</td>\n      <td>300</td>\n      <td>2022-03-11 18:00:00</td>\n      <td>2022-03-11 18:15:00</td>\n      <td>15</td>\n      <td>1</td>\n      <td>156.762222</td>\n      <td>Manhattan</td>\n      <td>37.881182</td>\n    </tr>\n    <tr>\n      <th>37</th>\n      <td>24610</td>\n      <td>8.791</td>\n      <td>0</td>\n      <td>562.032649</td>\n      <td>1330</td>\n      <td>5115</td>\n      <td>1.936824</td>\n      <td>-1</td>\n      <td>1476581</td>\n      <td>13193</td>\n      <td>...</td>\n      <td>22.736842</td>\n      <td>ih</td>\n      <td>300</td>\n      <td>2022-03-11 18:00:00</td>\n      <td>2022-03-11 18:15:00</td>\n      <td>15</td>\n      <td>2</td>\n      <td>129.511389</td>\n      <td>Manhattan</td>\n      <td>31.296089</td>\n    </tr>\n    <tr>\n      <th>38</th>\n      <td>24610</td>\n      <td>8.791</td>\n      <td>0</td>\n      <td>562.032649</td>\n      <td>1330</td>\n      <td>5115</td>\n      <td>1.936824</td>\n      <td>-1</td>\n      <td>1476581</td>\n      <td>13193</td>\n      <td>...</td>\n      <td>22.736842</td>\n      <td>ih</td>\n      <td>300</td>\n      <td>2022-03-11 18:00:00</td>\n      <td>2022-03-11 18:15:00</td>\n      <td>15</td>\n      <td>3</td>\n      <td>82.118889</td>\n      <td>Manhattan</td>\n      <td>19.843815</td>\n    </tr>\n    <tr>\n      <th>39</th>\n      <td>24610</td>\n      <td>8.791</td>\n      <td>0</td>\n      <td>562.032649</td>\n      <td>1330</td>\n      <td>5115</td>\n      <td>1.936824</td>\n      <td>-1</td>\n      <td>1476581</td>\n      <td>13193</td>\n      <td>...</td>\n      <td>22.736842</td>\n      <td>ih</td>\n      <td>300</td>\n      <td>2022-03-11 18:00:00</td>\n      <td>2022-03-11 18:15:00</td>\n      <td>15</td>\n      <td>4</td>\n      <td>33.067222</td>\n      <td>Manhattan</td>\n      <td>7.990608</td>\n    </tr>\n    <tr>\n      <th>70</th>\n      <td>46869</td>\n      <td>38.645</td>\n      <td>0</td>\n      <td>563.669268</td>\n      <td>1993</td>\n      <td>10380</td>\n      <td>2.068728</td>\n      <td>-1</td>\n      <td>2812152</td>\n      <td>49427</td>\n      <td>...</td>\n      <td>18.563472</td>\n      <td>ih</td>\n      <td>300</td>\n      <td>2022-03-11 18:00:00</td>\n      <td>2022-03-11 18:30:00</td>\n      <td>30</td>\n      <td>0</td>\n      <td>10.802778</td>\n      <td>Manhattan</td>\n      <td>1.359040</td>\n    </tr>\n    <tr>\n      <th>71</th>\n      <td>46869</td>\n      <td>38.645</td>\n      <td>0</td>\n      <td>563.669268</td>\n      <td>1993</td>\n      <td>10380</td>\n      <td>2.068728</td>\n      <td>-1</td>\n      <td>2812152</td>\n      <td>49427</td>\n      <td>...</td>\n      <td>18.563472</td>\n      <td>ih</td>\n      <td>300</td>\n      <td>2022-03-11 18:00:00</td>\n      <td>2022-03-11 18:30:00</td>\n      <td>30</td>\n      <td>1</td>\n      <td>254.580833</td>\n      <td>Manhattan</td>\n      <td>32.027458</td>\n    </tr>\n    <tr>\n      <th>72</th>\n      <td>46869</td>\n      <td>38.645</td>\n      <td>0</td>\n      <td>563.669268</td>\n      <td>1993</td>\n      <td>10380</td>\n      <td>2.068728</td>\n      <td>-1</td>\n      <td>2812152</td>\n      <td>49427</td>\n      <td>...</td>\n      <td>18.563472</td>\n      <td>ih</td>\n      <td>300</td>\n      <td>2022-03-11 18:00:00</td>\n      <td>2022-03-11 18:30:00</td>\n      <td>30</td>\n      <td>2</td>\n      <td>260.788056</td>\n      <td>Manhattan</td>\n      <td>32.808355</td>\n    </tr>\n    <tr>\n      <th>73</th>\n      <td>46869</td>\n      <td>38.645</td>\n      <td>0</td>\n      <td>563.669268</td>\n      <td>1993</td>\n      <td>10380</td>\n      <td>2.068728</td>\n      <td>-1</td>\n      <td>2812152</td>\n      <td>49427</td>\n      <td>...</td>\n      <td>18.563472</td>\n      <td>ih</td>\n      <td>300</td>\n      <td>2022-03-11 18:00:00</td>\n      <td>2022-03-11 18:30:00</td>\n      <td>30</td>\n      <td>3</td>\n      <td>180.090000</td>\n      <td>Manhattan</td>\n      <td>22.656163</td>\n    </tr>\n    <tr>\n      <th>74</th>\n      <td>46869</td>\n      <td>38.645</td>\n      <td>0</td>\n      <td>563.669268</td>\n      <td>1993</td>\n      <td>10380</td>\n      <td>2.068728</td>\n      <td>-1</td>\n      <td>2812152</td>\n      <td>49427</td>\n      <td>...</td>\n      <td>18.563472</td>\n      <td>ih</td>\n      <td>300</td>\n      <td>2022-03-11 18:00:00</td>\n      <td>2022-03-11 18:30:00</td>\n      <td>30</td>\n      <td>4</td>\n      <td>74.891667</td>\n      <td>Manhattan</td>\n      <td>9.421721</td>\n    </tr>\n    <tr>\n      <th>105</th>\n      <td>493</td>\n      <td>0.000</td>\n      <td>6</td>\n      <td>909.200000</td>\n      <td>18</td>\n      <td>30</td>\n      <td>0.916872</td>\n      <td>-1</td>\n      <td>29605</td>\n      <td>132</td>\n      <td>...</td>\n      <td>455.666667</td>\n      <td>ih</td>\n      <td>300</td>\n      <td>2021-10-22 18:00:00</td>\n      <td>2021-10-22 18:05:00</td>\n      <td>5</td>\n      <td>0</td>\n      <td>2.331111</td>\n      <td>DC</td>\n      <td>28.220735</td>\n    </tr>\n    <tr>\n      <th>106</th>\n      <td>493</td>\n      <td>0.000</td>\n      <td>6</td>\n      <td>909.200000</td>\n      <td>18</td>\n      <td>30</td>\n      <td>0.916872</td>\n      <td>-1</td>\n      <td>29605</td>\n      <td>132</td>\n      <td>...</td>\n      <td>455.666667</td>\n      <td>ih</td>\n      <td>300</td>\n      <td>2021-10-22 18:00:00</td>\n      <td>2021-10-22 18:05:00</td>\n      <td>5</td>\n      <td>1</td>\n      <td>4.436667</td>\n      <td>DC</td>\n      <td>53.710865</td>\n    </tr>\n    <tr>\n      <th>107</th>\n      <td>493</td>\n      <td>0.000</td>\n      <td>6</td>\n      <td>909.200000</td>\n      <td>18</td>\n      <td>30</td>\n      <td>0.916872</td>\n      <td>-1</td>\n      <td>29605</td>\n      <td>132</td>\n      <td>...</td>\n      <td>455.666667</td>\n      <td>ih</td>\n      <td>300</td>\n      <td>2021-10-22 18:00:00</td>\n      <td>2021-10-22 18:05:00</td>\n      <td>5</td>\n      <td>2</td>\n      <td>1.264167</td>\n      <td>DC</td>\n      <td>15.304167</td>\n    </tr>\n    <tr>\n      <th>108</th>\n      <td>493</td>\n      <td>0.000</td>\n      <td>6</td>\n      <td>909.200000</td>\n      <td>18</td>\n      <td>30</td>\n      <td>0.916872</td>\n      <td>-1</td>\n      <td>29605</td>\n      <td>132</td>\n      <td>...</td>\n      <td>455.666667</td>\n      <td>ih</td>\n      <td>300</td>\n      <td>2021-10-22 18:00:00</td>\n      <td>2021-10-22 18:05:00</td>\n      <td>5</td>\n      <td>3</td>\n      <td>0.191667</td>\n      <td>DC</td>\n      <td>2.320342</td>\n    </tr>\n    <tr>\n      <th>109</th>\n      <td>493</td>\n      <td>0.000</td>\n      <td>6</td>\n      <td>909.200000</td>\n      <td>18</td>\n      <td>30</td>\n      <td>0.916872</td>\n      <td>-1</td>\n      <td>29605</td>\n      <td>132</td>\n      <td>...</td>\n      <td>455.666667</td>\n      <td>ih</td>\n      <td>300</td>\n      <td>2021-10-22 18:00:00</td>\n      <td>2021-10-22 18:05:00</td>\n      <td>5</td>\n      <td>4</td>\n      <td>0.000000</td>\n      <td>DC</td>\n      <td>0.000000</td>\n    </tr>\n    <tr>\n      <th>120</th>\n      <td>1723</td>\n      <td>0.007</td>\n      <td>7</td>\n      <td>988.198276</td>\n      <td>62</td>\n      <td>116</td>\n      <td>1.102313</td>\n      <td>-1</td>\n      <td>103369</td>\n      <td>865</td>\n      <td>...</td>\n      <td>253.500000</td>\n      <td>ih</td>\n      <td>300</td>\n      <td>2021-10-22 18:00:00</td>\n      <td>2021-10-22 18:15:00</td>\n      <td>15</td>\n      <td>0</td>\n      <td>4.756389</td>\n      <td>DC</td>\n      <td>16.427461</td>\n    </tr>\n    <tr>\n      <th>121</th>\n      <td>1723</td>\n      <td>0.007</td>\n      <td>7</td>\n      <td>988.198276</td>\n      <td>62</td>\n      <td>116</td>\n      <td>1.102313</td>\n      <td>-1</td>\n      <td>103369</td>\n      <td>865</td>\n      <td>...</td>\n      <td>253.500000</td>\n      <td>ih</td>\n      <td>300</td>\n      <td>2021-10-22 18:00:00</td>\n      <td>2021-10-22 18:15:00</td>\n      <td>15</td>\n      <td>1</td>\n      <td>17.331944</td>\n      <td>DC</td>\n      <td>59.860506</td>\n    </tr>\n    <tr>\n      <th>122</th>\n      <td>1723</td>\n      <td>0.007</td>\n      <td>7</td>\n      <td>988.198276</td>\n      <td>62</td>\n      <td>116</td>\n      <td>1.102313</td>\n      <td>-1</td>\n      <td>103369</td>\n      <td>865</td>\n      <td>...</td>\n      <td>253.500000</td>\n      <td>ih</td>\n      <td>300</td>\n      <td>2021-10-22 18:00:00</td>\n      <td>2021-10-22 18:15:00</td>\n      <td>15</td>\n      <td>2</td>\n      <td>5.556389</td>\n      <td>DC</td>\n      <td>19.190475</td>\n    </tr>\n    <tr>\n      <th>123</th>\n      <td>1723</td>\n      <td>0.007</td>\n      <td>7</td>\n      <td>988.198276</td>\n      <td>62</td>\n      <td>116</td>\n      <td>1.102313</td>\n      <td>-1</td>\n      <td>103369</td>\n      <td>865</td>\n      <td>...</td>\n      <td>253.500000</td>\n      <td>ih</td>\n      <td>300</td>\n      <td>2021-10-22 18:00:00</td>\n      <td>2021-10-22 18:15:00</td>\n      <td>15</td>\n      <td>3</td>\n      <td>1.068889</td>\n      <td>DC</td>\n      <td>3.691694</td>\n    </tr>\n    <tr>\n      <th>124</th>\n      <td>1723</td>\n      <td>0.007</td>\n      <td>7</td>\n      <td>988.198276</td>\n      <td>62</td>\n      <td>116</td>\n      <td>1.102313</td>\n      <td>-1</td>\n      <td>103369</td>\n      <td>865</td>\n      <td>...</td>\n      <td>253.500000</td>\n      <td>ih</td>\n      <td>300</td>\n      <td>2021-10-22 18:00:00</td>\n      <td>2021-10-22 18:15:00</td>\n      <td>15</td>\n      <td>4</td>\n      <td>0.000000</td>\n      <td>DC</td>\n      <td>0.000000</td>\n    </tr>\n    <tr>\n      <th>130</th>\n      <td>3238</td>\n      <td>0.025</td>\n      <td>0</td>\n      <td>1014.591270</td>\n      <td>111</td>\n      <td>252</td>\n      <td>1.307270</td>\n      <td>-1</td>\n      <td>194298</td>\n      <td>4107</td>\n      <td>...</td>\n      <td>102.081081</td>\n      <td>ih</td>\n      <td>300</td>\n      <td>2021-10-22 18:00:00</td>\n      <td>2021-10-22 18:30:00</td>\n      <td>30</td>\n      <td>0</td>\n      <td>4.338056</td>\n      <td>DC</td>\n      <td>7.871273</td>\n    </tr>\n    <tr>\n      <th>131</th>\n      <td>3238</td>\n      <td>0.025</td>\n      <td>0</td>\n      <td>1014.591270</td>\n      <td>111</td>\n      <td>252</td>\n      <td>1.307270</td>\n      <td>-1</td>\n      <td>194298</td>\n      <td>4107</td>\n      <td>...</td>\n      <td>102.081081</td>\n      <td>ih</td>\n      <td>300</td>\n      <td>2021-10-22 18:00:00</td>\n      <td>2021-10-22 18:30:00</td>\n      <td>30</td>\n      <td>1</td>\n      <td>31.972778</td>\n      <td>DC</td>\n      <td>58.013659</td>\n    </tr>\n    <tr>\n      <th>132</th>\n      <td>3238</td>\n      <td>0.025</td>\n      <td>0</td>\n      <td>1014.591270</td>\n      <td>111</td>\n      <td>252</td>\n      <td>1.307270</td>\n      <td>-1</td>\n      <td>194298</td>\n      <td>4107</td>\n      <td>...</td>\n      <td>102.081081</td>\n      <td>ih</td>\n      <td>300</td>\n      <td>2021-10-22 18:00:00</td>\n      <td>2021-10-22 18:30:00</td>\n      <td>30</td>\n      <td>2</td>\n      <td>14.625278</td>\n      <td>DC</td>\n      <td>26.537134</td>\n    </tr>\n    <tr>\n      <th>133</th>\n      <td>3238</td>\n      <td>0.025</td>\n      <td>0</td>\n      <td>1014.591270</td>\n      <td>111</td>\n      <td>252</td>\n      <td>1.307270</td>\n      <td>-1</td>\n      <td>194298</td>\n      <td>4107</td>\n      <td>...</td>\n      <td>102.081081</td>\n      <td>ih</td>\n      <td>300</td>\n      <td>2021-10-22 18:00:00</td>\n      <td>2021-10-22 18:30:00</td>\n      <td>30</td>\n      <td>3</td>\n      <td>2.810000</td>\n      <td>DC</td>\n      <td>5.098662</td>\n    </tr>\n    <tr>\n      <th>134</th>\n      <td>3238</td>\n      <td>0.025</td>\n      <td>0</td>\n      <td>1014.591270</td>\n      <td>111</td>\n      <td>252</td>\n      <td>1.307270</td>\n      <td>-1</td>\n      <td>194298</td>\n      <td>4107</td>\n      <td>...</td>\n      <td>102.081081</td>\n      <td>ih</td>\n      <td>300</td>\n      <td>2021-10-22 18:00:00</td>\n      <td>2021-10-22 18:30:00</td>\n      <td>30</td>\n      <td>4</td>\n      <td>0.225556</td>\n      <td>DC</td>\n      <td>0.409264</td>\n    </tr>\n  </tbody>\n</table>\n<p>30 rows × 22 columns</p>\n</div>"
     },
     "execution_count": 10,
     "metadata": {},
     "output_type": "execute_result"
    }
   ],
   "source": [
    "occupancy_df_ih = pd.DataFrame(occupancy_df[occupancy_df['method'] == 'ih'])\n",
    "occupancy_df_ih['percent'] = occupancy_df_ih['vehicle_hours'] * 3600 /  (occupancy_df_ih['total_driving_duration'] + occupancy_df_ih['total_waiting_duration']) * 100\n",
    "occupancy_df_ih"
   ],
   "metadata": {
    "collapsed": false,
    "ExecuteTime": {
     "end_time": "2023-05-10T14:08:00.706351200Z",
     "start_time": "2023-05-10T14:08:00.664325600Z"
    }
   }
  },
  {
   "cell_type": "code",
   "execution_count": 25,
   "outputs": [
    {
     "data": {
      "application/vnd.plotly.v1+json": {
       "data": [
        {
         "alignmentgroup": "True",
         "hovertemplate": "area=Manhattan<br>max_delay=300<br>duration_minutes=5<br>occupancy=%{x}<br>percent=%{y}<extra></extra>",
         "legendgroup": "Manhattan",
         "marker": {
          "color": "#636efa",
          "pattern": {
           "shape": ""
          }
         },
         "name": "Manhattan",
         "offsetgroup": "Manhattan",
         "orientation": "v",
         "showlegend": true,
         "textposition": "auto",
         "x": [
          0,
          1,
          2,
          3,
          4
         ],
         "xaxis": "x",
         "y": [
          4.478564321455867,
          45.64130387760105,
          30.577205935368507,
          15.005155233824102,
          3.8271302291375258
         ],
         "yaxis": "y",
         "type": "bar"
        },
        {
         "alignmentgroup": "True",
         "hovertemplate": "area=Manhattan<br>max_delay=300<br>duration_minutes=15<br>occupancy=%{x}<br>percent=%{y}<extra></extra>",
         "legendgroup": "Manhattan",
         "marker": {
          "color": "#636efa",
          "pattern": {
           "shape": ""
          }
         },
         "name": "Manhattan",
         "offsetgroup": "Manhattan",
         "orientation": "v",
         "showlegend": false,
         "textposition": "auto",
         "x": [
          0,
          1,
          2,
          3,
          4
         ],
         "xaxis": "x2",
         "y": [
          2.102735045718344,
          37.881181977937594,
          31.2960892054768,
          19.843815236404986,
          7.990607971410428
         ],
         "yaxis": "y2",
         "type": "bar"
        },
        {
         "alignmentgroup": "True",
         "hovertemplate": "area=Manhattan<br>max_delay=300<br>duration_minutes=30<br>occupancy=%{x}<br>percent=%{y}<extra></extra>",
         "legendgroup": "Manhattan",
         "marker": {
          "color": "#636efa",
          "pattern": {
           "shape": ""
          }
         },
         "name": "Manhattan",
         "offsetgroup": "Manhattan",
         "orientation": "v",
         "showlegend": false,
         "textposition": "auto",
         "x": [
          0,
          1,
          2,
          3,
          4
         ],
         "xaxis": "x3",
         "y": [
          1.3590398867198843,
          32.02745756800704,
          32.80835510744243,
          22.65616290865987,
          9.421721364323684
         ],
         "yaxis": "y3",
         "type": "bar"
        },
        {
         "alignmentgroup": "True",
         "hovertemplate": "area=DC<br>max_delay=300<br>duration_minutes=5<br>occupancy=%{x}<br>percent=%{y}<extra></extra>",
         "legendgroup": "DC",
         "marker": {
          "color": "#EF553B",
          "pattern": {
           "shape": ""
          }
         },
         "name": "DC",
         "offsetgroup": "DC",
         "orientation": "v",
         "showlegend": true,
         "textposition": "auto",
         "x": [
          0,
          1,
          2,
          3,
          4
         ],
         "xaxis": "x",
         "y": [
          28.220735111141003,
          53.71086525204291,
          15.304166526549418,
          2.32034166190268,
          0.0
         ],
         "yaxis": "y",
         "type": "bar"
        },
        {
         "alignmentgroup": "True",
         "hovertemplate": "area=DC<br>max_delay=300<br>duration_minutes=15<br>occupancy=%{x}<br>percent=%{y}<extra></extra>",
         "legendgroup": "DC",
         "marker": {
          "color": "#EF553B",
          "pattern": {
           "shape": ""
          }
         },
         "name": "DC",
         "offsetgroup": "DC",
         "orientation": "v",
         "showlegend": false,
         "textposition": "auto",
         "x": [
          0,
          1,
          2,
          3,
          4
         ],
         "xaxis": "x2",
         "y": [
          16.427461289022776,
          59.86050616881249,
          19.19047527678109,
          3.691693689199302,
          0.0
         ],
         "yaxis": "y2",
         "type": "bar"
        },
        {
         "alignmentgroup": "True",
         "hovertemplate": "area=DC<br>max_delay=300<br>duration_minutes=30<br>occupancy=%{x}<br>percent=%{y}<extra></extra>",
         "legendgroup": "DC",
         "marker": {
          "color": "#EF553B",
          "pattern": {
           "shape": ""
          }
         },
         "name": "DC",
         "offsetgroup": "DC",
         "orientation": "v",
         "showlegend": false,
         "textposition": "auto",
         "x": [
          0,
          1,
          2,
          3,
          4
         ],
         "xaxis": "x3",
         "y": [
          7.871273405408131,
          58.01365892996648,
          26.53713364078526,
          5.098661828078929,
          0.40926387943852227
         ],
         "yaxis": "y3",
         "type": "bar"
        }
       ],
       "layout": {
        "template": {
         "data": {
          "histogram2dcontour": [
           {
            "type": "histogram2dcontour",
            "colorbar": {
             "outlinewidth": 0,
             "ticks": ""
            },
            "colorscale": [
             [
              0.0,
              "#0d0887"
             ],
             [
              0.1111111111111111,
              "#46039f"
             ],
             [
              0.2222222222222222,
              "#7201a8"
             ],
             [
              0.3333333333333333,
              "#9c179e"
             ],
             [
              0.4444444444444444,
              "#bd3786"
             ],
             [
              0.5555555555555556,
              "#d8576b"
             ],
             [
              0.6666666666666666,
              "#ed7953"
             ],
             [
              0.7777777777777778,
              "#fb9f3a"
             ],
             [
              0.8888888888888888,
              "#fdca26"
             ],
             [
              1.0,
              "#f0f921"
             ]
            ]
           }
          ],
          "choropleth": [
           {
            "type": "choropleth",
            "colorbar": {
             "outlinewidth": 0,
             "ticks": ""
            }
           }
          ],
          "histogram2d": [
           {
            "type": "histogram2d",
            "colorbar": {
             "outlinewidth": 0,
             "ticks": ""
            },
            "colorscale": [
             [
              0.0,
              "#0d0887"
             ],
             [
              0.1111111111111111,
              "#46039f"
             ],
             [
              0.2222222222222222,
              "#7201a8"
             ],
             [
              0.3333333333333333,
              "#9c179e"
             ],
             [
              0.4444444444444444,
              "#bd3786"
             ],
             [
              0.5555555555555556,
              "#d8576b"
             ],
             [
              0.6666666666666666,
              "#ed7953"
             ],
             [
              0.7777777777777778,
              "#fb9f3a"
             ],
             [
              0.8888888888888888,
              "#fdca26"
             ],
             [
              1.0,
              "#f0f921"
             ]
            ]
           }
          ],
          "heatmap": [
           {
            "type": "heatmap",
            "colorbar": {
             "outlinewidth": 0,
             "ticks": ""
            },
            "colorscale": [
             [
              0.0,
              "#0d0887"
             ],
             [
              0.1111111111111111,
              "#46039f"
             ],
             [
              0.2222222222222222,
              "#7201a8"
             ],
             [
              0.3333333333333333,
              "#9c179e"
             ],
             [
              0.4444444444444444,
              "#bd3786"
             ],
             [
              0.5555555555555556,
              "#d8576b"
             ],
             [
              0.6666666666666666,
              "#ed7953"
             ],
             [
              0.7777777777777778,
              "#fb9f3a"
             ],
             [
              0.8888888888888888,
              "#fdca26"
             ],
             [
              1.0,
              "#f0f921"
             ]
            ]
           }
          ],
          "heatmapgl": [
           {
            "type": "heatmapgl",
            "colorbar": {
             "outlinewidth": 0,
             "ticks": ""
            },
            "colorscale": [
             [
              0.0,
              "#0d0887"
             ],
             [
              0.1111111111111111,
              "#46039f"
             ],
             [
              0.2222222222222222,
              "#7201a8"
             ],
             [
              0.3333333333333333,
              "#9c179e"
             ],
             [
              0.4444444444444444,
              "#bd3786"
             ],
             [
              0.5555555555555556,
              "#d8576b"
             ],
             [
              0.6666666666666666,
              "#ed7953"
             ],
             [
              0.7777777777777778,
              "#fb9f3a"
             ],
             [
              0.8888888888888888,
              "#fdca26"
             ],
             [
              1.0,
              "#f0f921"
             ]
            ]
           }
          ],
          "contourcarpet": [
           {
            "type": "contourcarpet",
            "colorbar": {
             "outlinewidth": 0,
             "ticks": ""
            }
           }
          ],
          "contour": [
           {
            "type": "contour",
            "colorbar": {
             "outlinewidth": 0,
             "ticks": ""
            },
            "colorscale": [
             [
              0.0,
              "#0d0887"
             ],
             [
              0.1111111111111111,
              "#46039f"
             ],
             [
              0.2222222222222222,
              "#7201a8"
             ],
             [
              0.3333333333333333,
              "#9c179e"
             ],
             [
              0.4444444444444444,
              "#bd3786"
             ],
             [
              0.5555555555555556,
              "#d8576b"
             ],
             [
              0.6666666666666666,
              "#ed7953"
             ],
             [
              0.7777777777777778,
              "#fb9f3a"
             ],
             [
              0.8888888888888888,
              "#fdca26"
             ],
             [
              1.0,
              "#f0f921"
             ]
            ]
           }
          ],
          "surface": [
           {
            "type": "surface",
            "colorbar": {
             "outlinewidth": 0,
             "ticks": ""
            },
            "colorscale": [
             [
              0.0,
              "#0d0887"
             ],
             [
              0.1111111111111111,
              "#46039f"
             ],
             [
              0.2222222222222222,
              "#7201a8"
             ],
             [
              0.3333333333333333,
              "#9c179e"
             ],
             [
              0.4444444444444444,
              "#bd3786"
             ],
             [
              0.5555555555555556,
              "#d8576b"
             ],
             [
              0.6666666666666666,
              "#ed7953"
             ],
             [
              0.7777777777777778,
              "#fb9f3a"
             ],
             [
              0.8888888888888888,
              "#fdca26"
             ],
             [
              1.0,
              "#f0f921"
             ]
            ]
           }
          ],
          "mesh3d": [
           {
            "type": "mesh3d",
            "colorbar": {
             "outlinewidth": 0,
             "ticks": ""
            }
           }
          ],
          "scatter": [
           {
            "fillpattern": {
             "fillmode": "overlay",
             "size": 10,
             "solidity": 0.2
            },
            "type": "scatter"
           }
          ],
          "parcoords": [
           {
            "type": "parcoords",
            "line": {
             "colorbar": {
              "outlinewidth": 0,
              "ticks": ""
             }
            }
           }
          ],
          "scatterpolargl": [
           {
            "type": "scatterpolargl",
            "marker": {
             "colorbar": {
              "outlinewidth": 0,
              "ticks": ""
             }
            }
           }
          ],
          "bar": [
           {
            "error_x": {
             "color": "#2a3f5f"
            },
            "error_y": {
             "color": "#2a3f5f"
            },
            "marker": {
             "line": {
              "color": "#E5ECF6",
              "width": 0.5
             },
             "pattern": {
              "fillmode": "overlay",
              "size": 10,
              "solidity": 0.2
             }
            },
            "type": "bar"
           }
          ],
          "scattergeo": [
           {
            "type": "scattergeo",
            "marker": {
             "colorbar": {
              "outlinewidth": 0,
              "ticks": ""
             }
            }
           }
          ],
          "scatterpolar": [
           {
            "type": "scatterpolar",
            "marker": {
             "colorbar": {
              "outlinewidth": 0,
              "ticks": ""
             }
            }
           }
          ],
          "histogram": [
           {
            "marker": {
             "pattern": {
              "fillmode": "overlay",
              "size": 10,
              "solidity": 0.2
             }
            },
            "type": "histogram"
           }
          ],
          "scattergl": [
           {
            "type": "scattergl",
            "marker": {
             "colorbar": {
              "outlinewidth": 0,
              "ticks": ""
             }
            }
           }
          ],
          "scatter3d": [
           {
            "type": "scatter3d",
            "line": {
             "colorbar": {
              "outlinewidth": 0,
              "ticks": ""
             }
            },
            "marker": {
             "colorbar": {
              "outlinewidth": 0,
              "ticks": ""
             }
            }
           }
          ],
          "scattermapbox": [
           {
            "type": "scattermapbox",
            "marker": {
             "colorbar": {
              "outlinewidth": 0,
              "ticks": ""
             }
            }
           }
          ],
          "scatterternary": [
           {
            "type": "scatterternary",
            "marker": {
             "colorbar": {
              "outlinewidth": 0,
              "ticks": ""
             }
            }
           }
          ],
          "scattercarpet": [
           {
            "type": "scattercarpet",
            "marker": {
             "colorbar": {
              "outlinewidth": 0,
              "ticks": ""
             }
            }
           }
          ],
          "carpet": [
           {
            "aaxis": {
             "endlinecolor": "#2a3f5f",
             "gridcolor": "white",
             "linecolor": "white",
             "minorgridcolor": "white",
             "startlinecolor": "#2a3f5f"
            },
            "baxis": {
             "endlinecolor": "#2a3f5f",
             "gridcolor": "white",
             "linecolor": "white",
             "minorgridcolor": "white",
             "startlinecolor": "#2a3f5f"
            },
            "type": "carpet"
           }
          ],
          "table": [
           {
            "cells": {
             "fill": {
              "color": "#EBF0F8"
             },
             "line": {
              "color": "white"
             }
            },
            "header": {
             "fill": {
              "color": "#C8D4E3"
             },
             "line": {
              "color": "white"
             }
            },
            "type": "table"
           }
          ],
          "barpolar": [
           {
            "marker": {
             "line": {
              "color": "#E5ECF6",
              "width": 0.5
             },
             "pattern": {
              "fillmode": "overlay",
              "size": 10,
              "solidity": 0.2
             }
            },
            "type": "barpolar"
           }
          ],
          "pie": [
           {
            "automargin": true,
            "type": "pie"
           }
          ]
         },
         "layout": {
          "autotypenumbers": "strict",
          "colorway": [
           "#636efa",
           "#EF553B",
           "#00cc96",
           "#ab63fa",
           "#FFA15A",
           "#19d3f3",
           "#FF6692",
           "#B6E880",
           "#FF97FF",
           "#FECB52"
          ],
          "font": {
           "color": "#2a3f5f"
          },
          "hovermode": "closest",
          "hoverlabel": {
           "align": "left"
          },
          "paper_bgcolor": "white",
          "plot_bgcolor": "#E5ECF6",
          "polar": {
           "bgcolor": "#E5ECF6",
           "angularaxis": {
            "gridcolor": "white",
            "linecolor": "white",
            "ticks": ""
           },
           "radialaxis": {
            "gridcolor": "white",
            "linecolor": "white",
            "ticks": ""
           }
          },
          "ternary": {
           "bgcolor": "#E5ECF6",
           "aaxis": {
            "gridcolor": "white",
            "linecolor": "white",
            "ticks": ""
           },
           "baxis": {
            "gridcolor": "white",
            "linecolor": "white",
            "ticks": ""
           },
           "caxis": {
            "gridcolor": "white",
            "linecolor": "white",
            "ticks": ""
           }
          },
          "coloraxis": {
           "colorbar": {
            "outlinewidth": 0,
            "ticks": ""
           }
          },
          "colorscale": {
           "sequential": [
            [
             0.0,
             "#0d0887"
            ],
            [
             0.1111111111111111,
             "#46039f"
            ],
            [
             0.2222222222222222,
             "#7201a8"
            ],
            [
             0.3333333333333333,
             "#9c179e"
            ],
            [
             0.4444444444444444,
             "#bd3786"
            ],
            [
             0.5555555555555556,
             "#d8576b"
            ],
            [
             0.6666666666666666,
             "#ed7953"
            ],
            [
             0.7777777777777778,
             "#fb9f3a"
            ],
            [
             0.8888888888888888,
             "#fdca26"
            ],
            [
             1.0,
             "#f0f921"
            ]
           ],
           "sequentialminus": [
            [
             0.0,
             "#0d0887"
            ],
            [
             0.1111111111111111,
             "#46039f"
            ],
            [
             0.2222222222222222,
             "#7201a8"
            ],
            [
             0.3333333333333333,
             "#9c179e"
            ],
            [
             0.4444444444444444,
             "#bd3786"
            ],
            [
             0.5555555555555556,
             "#d8576b"
            ],
            [
             0.6666666666666666,
             "#ed7953"
            ],
            [
             0.7777777777777778,
             "#fb9f3a"
            ],
            [
             0.8888888888888888,
             "#fdca26"
            ],
            [
             1.0,
             "#f0f921"
            ]
           ],
           "diverging": [
            [
             0,
             "#8e0152"
            ],
            [
             0.1,
             "#c51b7d"
            ],
            [
             0.2,
             "#de77ae"
            ],
            [
             0.3,
             "#f1b6da"
            ],
            [
             0.4,
             "#fde0ef"
            ],
            [
             0.5,
             "#f7f7f7"
            ],
            [
             0.6,
             "#e6f5d0"
            ],
            [
             0.7,
             "#b8e186"
            ],
            [
             0.8,
             "#7fbc41"
            ],
            [
             0.9,
             "#4d9221"
            ],
            [
             1,
             "#276419"
            ]
           ]
          },
          "xaxis": {
           "gridcolor": "white",
           "linecolor": "white",
           "ticks": "",
           "title": {
            "standoff": 15
           },
           "zerolinecolor": "white",
           "automargin": true,
           "zerolinewidth": 2
          },
          "yaxis": {
           "gridcolor": "white",
           "linecolor": "white",
           "ticks": "",
           "title": {
            "standoff": 15
           },
           "zerolinecolor": "white",
           "automargin": true,
           "zerolinewidth": 2
          },
          "scene": {
           "xaxis": {
            "backgroundcolor": "#E5ECF6",
            "gridcolor": "white",
            "linecolor": "white",
            "showbackground": true,
            "ticks": "",
            "zerolinecolor": "white",
            "gridwidth": 2
           },
           "yaxis": {
            "backgroundcolor": "#E5ECF6",
            "gridcolor": "white",
            "linecolor": "white",
            "showbackground": true,
            "ticks": "",
            "zerolinecolor": "white",
            "gridwidth": 2
           },
           "zaxis": {
            "backgroundcolor": "#E5ECF6",
            "gridcolor": "white",
            "linecolor": "white",
            "showbackground": true,
            "ticks": "",
            "zerolinecolor": "white",
            "gridwidth": 2
           }
          },
          "shapedefaults": {
           "line": {
            "color": "#2a3f5f"
           }
          },
          "annotationdefaults": {
           "arrowcolor": "#2a3f5f",
           "arrowhead": 0,
           "arrowwidth": 1
          },
          "geo": {
           "bgcolor": "white",
           "landcolor": "#E5ECF6",
           "subunitcolor": "white",
           "showland": true,
           "showlakes": true,
           "lakecolor": "white"
          },
          "title": {
           "x": 0.05
          },
          "mapbox": {
           "style": "light"
          }
         }
        },
        "xaxis": {
         "anchor": "y",
         "domain": [
          0.0,
          0.3133333333333333
         ],
         "title": {
          "text": ""
         },
         "dtick": 1
        },
        "yaxis": {
         "anchor": "x",
         "domain": [
          0.0,
          1.0
         ],
         "title": {
          "text": ""
         }
        },
        "xaxis2": {
         "anchor": "y2",
         "domain": [
          0.3333333333333333,
          0.6466666666666666
         ],
         "matches": "x",
         "title": {
          "text": ""
         },
         "dtick": 1
        },
        "yaxis2": {
         "anchor": "x2",
         "domain": [
          0.0,
          1.0
         ],
         "matches": "y",
         "showticklabels": false,
         "title": {
          "text": ""
         }
        },
        "xaxis3": {
         "anchor": "y3",
         "domain": [
          0.6666666666666666,
          0.98
         ],
         "matches": "x",
         "title": {
          "text": ""
         },
         "dtick": 1
        },
        "yaxis3": {
         "anchor": "x3",
         "domain": [
          0.0,
          1.0
         ],
         "matches": "y",
         "showticklabels": false,
         "title": {
          "text": ""
         }
        },
        "annotations": [
         {
          "showarrow": false,
          "text": "5",
          "x": 0.15666666666666665,
          "xanchor": "center",
          "xref": "paper",
          "y": 1.0,
          "yanchor": "bottom",
          "yref": "paper"
         },
         {
          "showarrow": false,
          "text": "15",
          "x": 0.49,
          "xanchor": "center",
          "xref": "paper",
          "y": 1.0,
          "yanchor": "bottom",
          "yref": "paper"
         },
         {
          "showarrow": false,
          "text": "30",
          "x": 0.8233333333333333,
          "xanchor": "center",
          "xref": "paper",
          "y": 1.0,
          "yanchor": "bottom",
          "yref": "paper"
         },
         {
          "showarrow": false,
          "text": "300",
          "textangle": 90,
          "x": 0.98,
          "xanchor": "left",
          "xref": "paper",
          "y": 0.5,
          "yanchor": "middle",
          "yref": "paper"
         },
         {
          "showarrow": false,
          "text": "% of time",
          "textangle": -90,
          "x": -0.04,
          "xref": "paper",
          "y": 0.5,
          "yref": "paper"
         },
         {
          "showarrow": false,
          "text": "Occupancy",
          "x": 0.5,
          "xref": "paper",
          "y": -0.1,
          "yref": "paper"
         }
        ],
        "legend": {
         "title": {
          "text": "area"
         },
         "tracegroupgap": 0
        },
        "margin": {
         "t": 30,
         "l": 10,
         "r": 10,
         "b": 10
        },
        "barmode": "group"
       },
       "config": {
        "plotlyServerURL": "https://plot.ly"
       }
      },
      "text/html": "<div>                            <div id=\"d87d3c83-b1fd-414b-bc88-980070f97dfd\" class=\"plotly-graph-div\" style=\"height:525px; width:100%;\"></div>            <script type=\"text/javascript\">                require([\"plotly\"], function(Plotly) {                    window.PLOTLYENV=window.PLOTLYENV || {};                                    if (document.getElementById(\"d87d3c83-b1fd-414b-bc88-980070f97dfd\")) {                    Plotly.newPlot(                        \"d87d3c83-b1fd-414b-bc88-980070f97dfd\",                        [{\"alignmentgroup\":\"True\",\"hovertemplate\":\"area=Manhattan<br>max_delay=300<br>duration_minutes=5<br>occupancy=%{x}<br>percent=%{y}<extra></extra>\",\"legendgroup\":\"Manhattan\",\"marker\":{\"color\":\"#636efa\",\"pattern\":{\"shape\":\"\"}},\"name\":\"Manhattan\",\"offsetgroup\":\"Manhattan\",\"orientation\":\"v\",\"showlegend\":true,\"textposition\":\"auto\",\"x\":[0,1,2,3,4],\"xaxis\":\"x\",\"y\":[4.478564321455867,45.64130387760105,30.577205935368507,15.005155233824102,3.8271302291375258],\"yaxis\":\"y\",\"type\":\"bar\"},{\"alignmentgroup\":\"True\",\"hovertemplate\":\"area=Manhattan<br>max_delay=300<br>duration_minutes=15<br>occupancy=%{x}<br>percent=%{y}<extra></extra>\",\"legendgroup\":\"Manhattan\",\"marker\":{\"color\":\"#636efa\",\"pattern\":{\"shape\":\"\"}},\"name\":\"Manhattan\",\"offsetgroup\":\"Manhattan\",\"orientation\":\"v\",\"showlegend\":false,\"textposition\":\"auto\",\"x\":[0,1,2,3,4],\"xaxis\":\"x2\",\"y\":[2.102735045718344,37.881181977937594,31.2960892054768,19.843815236404986,7.990607971410428],\"yaxis\":\"y2\",\"type\":\"bar\"},{\"alignmentgroup\":\"True\",\"hovertemplate\":\"area=Manhattan<br>max_delay=300<br>duration_minutes=30<br>occupancy=%{x}<br>percent=%{y}<extra></extra>\",\"legendgroup\":\"Manhattan\",\"marker\":{\"color\":\"#636efa\",\"pattern\":{\"shape\":\"\"}},\"name\":\"Manhattan\",\"offsetgroup\":\"Manhattan\",\"orientation\":\"v\",\"showlegend\":false,\"textposition\":\"auto\",\"x\":[0,1,2,3,4],\"xaxis\":\"x3\",\"y\":[1.3590398867198843,32.02745756800704,32.80835510744243,22.65616290865987,9.421721364323684],\"yaxis\":\"y3\",\"type\":\"bar\"},{\"alignmentgroup\":\"True\",\"hovertemplate\":\"area=DC<br>max_delay=300<br>duration_minutes=5<br>occupancy=%{x}<br>percent=%{y}<extra></extra>\",\"legendgroup\":\"DC\",\"marker\":{\"color\":\"#EF553B\",\"pattern\":{\"shape\":\"\"}},\"name\":\"DC\",\"offsetgroup\":\"DC\",\"orientation\":\"v\",\"showlegend\":true,\"textposition\":\"auto\",\"x\":[0,1,2,3,4],\"xaxis\":\"x\",\"y\":[28.220735111141003,53.71086525204291,15.304166526549418,2.32034166190268,0.0],\"yaxis\":\"y\",\"type\":\"bar\"},{\"alignmentgroup\":\"True\",\"hovertemplate\":\"area=DC<br>max_delay=300<br>duration_minutes=15<br>occupancy=%{x}<br>percent=%{y}<extra></extra>\",\"legendgroup\":\"DC\",\"marker\":{\"color\":\"#EF553B\",\"pattern\":{\"shape\":\"\"}},\"name\":\"DC\",\"offsetgroup\":\"DC\",\"orientation\":\"v\",\"showlegend\":false,\"textposition\":\"auto\",\"x\":[0,1,2,3,4],\"xaxis\":\"x2\",\"y\":[16.427461289022776,59.86050616881249,19.19047527678109,3.691693689199302,0.0],\"yaxis\":\"y2\",\"type\":\"bar\"},{\"alignmentgroup\":\"True\",\"hovertemplate\":\"area=DC<br>max_delay=300<br>duration_minutes=30<br>occupancy=%{x}<br>percent=%{y}<extra></extra>\",\"legendgroup\":\"DC\",\"marker\":{\"color\":\"#EF553B\",\"pattern\":{\"shape\":\"\"}},\"name\":\"DC\",\"offsetgroup\":\"DC\",\"orientation\":\"v\",\"showlegend\":false,\"textposition\":\"auto\",\"x\":[0,1,2,3,4],\"xaxis\":\"x3\",\"y\":[7.871273405408131,58.01365892996648,26.53713364078526,5.098661828078929,0.40926387943852227],\"yaxis\":\"y3\",\"type\":\"bar\"}],                        {\"template\":{\"data\":{\"histogram2dcontour\":[{\"type\":\"histogram2dcontour\",\"colorbar\":{\"outlinewidth\":0,\"ticks\":\"\"},\"colorscale\":[[0.0,\"#0d0887\"],[0.1111111111111111,\"#46039f\"],[0.2222222222222222,\"#7201a8\"],[0.3333333333333333,\"#9c179e\"],[0.4444444444444444,\"#bd3786\"],[0.5555555555555556,\"#d8576b\"],[0.6666666666666666,\"#ed7953\"],[0.7777777777777778,\"#fb9f3a\"],[0.8888888888888888,\"#fdca26\"],[1.0,\"#f0f921\"]]}],\"choropleth\":[{\"type\":\"choropleth\",\"colorbar\":{\"outlinewidth\":0,\"ticks\":\"\"}}],\"histogram2d\":[{\"type\":\"histogram2d\",\"colorbar\":{\"outlinewidth\":0,\"ticks\":\"\"},\"colorscale\":[[0.0,\"#0d0887\"],[0.1111111111111111,\"#46039f\"],[0.2222222222222222,\"#7201a8\"],[0.3333333333333333,\"#9c179e\"],[0.4444444444444444,\"#bd3786\"],[0.5555555555555556,\"#d8576b\"],[0.6666666666666666,\"#ed7953\"],[0.7777777777777778,\"#fb9f3a\"],[0.8888888888888888,\"#fdca26\"],[1.0,\"#f0f921\"]]}],\"heatmap\":[{\"type\":\"heatmap\",\"colorbar\":{\"outlinewidth\":0,\"ticks\":\"\"},\"colorscale\":[[0.0,\"#0d0887\"],[0.1111111111111111,\"#46039f\"],[0.2222222222222222,\"#7201a8\"],[0.3333333333333333,\"#9c179e\"],[0.4444444444444444,\"#bd3786\"],[0.5555555555555556,\"#d8576b\"],[0.6666666666666666,\"#ed7953\"],[0.7777777777777778,\"#fb9f3a\"],[0.8888888888888888,\"#fdca26\"],[1.0,\"#f0f921\"]]}],\"heatmapgl\":[{\"type\":\"heatmapgl\",\"colorbar\":{\"outlinewidth\":0,\"ticks\":\"\"},\"colorscale\":[[0.0,\"#0d0887\"],[0.1111111111111111,\"#46039f\"],[0.2222222222222222,\"#7201a8\"],[0.3333333333333333,\"#9c179e\"],[0.4444444444444444,\"#bd3786\"],[0.5555555555555556,\"#d8576b\"],[0.6666666666666666,\"#ed7953\"],[0.7777777777777778,\"#fb9f3a\"],[0.8888888888888888,\"#fdca26\"],[1.0,\"#f0f921\"]]}],\"contourcarpet\":[{\"type\":\"contourcarpet\",\"colorbar\":{\"outlinewidth\":0,\"ticks\":\"\"}}],\"contour\":[{\"type\":\"contour\",\"colorbar\":{\"outlinewidth\":0,\"ticks\":\"\"},\"colorscale\":[[0.0,\"#0d0887\"],[0.1111111111111111,\"#46039f\"],[0.2222222222222222,\"#7201a8\"],[0.3333333333333333,\"#9c179e\"],[0.4444444444444444,\"#bd3786\"],[0.5555555555555556,\"#d8576b\"],[0.6666666666666666,\"#ed7953\"],[0.7777777777777778,\"#fb9f3a\"],[0.8888888888888888,\"#fdca26\"],[1.0,\"#f0f921\"]]}],\"surface\":[{\"type\":\"surface\",\"colorbar\":{\"outlinewidth\":0,\"ticks\":\"\"},\"colorscale\":[[0.0,\"#0d0887\"],[0.1111111111111111,\"#46039f\"],[0.2222222222222222,\"#7201a8\"],[0.3333333333333333,\"#9c179e\"],[0.4444444444444444,\"#bd3786\"],[0.5555555555555556,\"#d8576b\"],[0.6666666666666666,\"#ed7953\"],[0.7777777777777778,\"#fb9f3a\"],[0.8888888888888888,\"#fdca26\"],[1.0,\"#f0f921\"]]}],\"mesh3d\":[{\"type\":\"mesh3d\",\"colorbar\":{\"outlinewidth\":0,\"ticks\":\"\"}}],\"scatter\":[{\"fillpattern\":{\"fillmode\":\"overlay\",\"size\":10,\"solidity\":0.2},\"type\":\"scatter\"}],\"parcoords\":[{\"type\":\"parcoords\",\"line\":{\"colorbar\":{\"outlinewidth\":0,\"ticks\":\"\"}}}],\"scatterpolargl\":[{\"type\":\"scatterpolargl\",\"marker\":{\"colorbar\":{\"outlinewidth\":0,\"ticks\":\"\"}}}],\"bar\":[{\"error_x\":{\"color\":\"#2a3f5f\"},\"error_y\":{\"color\":\"#2a3f5f\"},\"marker\":{\"line\":{\"color\":\"#E5ECF6\",\"width\":0.5},\"pattern\":{\"fillmode\":\"overlay\",\"size\":10,\"solidity\":0.2}},\"type\":\"bar\"}],\"scattergeo\":[{\"type\":\"scattergeo\",\"marker\":{\"colorbar\":{\"outlinewidth\":0,\"ticks\":\"\"}}}],\"scatterpolar\":[{\"type\":\"scatterpolar\",\"marker\":{\"colorbar\":{\"outlinewidth\":0,\"ticks\":\"\"}}}],\"histogram\":[{\"marker\":{\"pattern\":{\"fillmode\":\"overlay\",\"size\":10,\"solidity\":0.2}},\"type\":\"histogram\"}],\"scattergl\":[{\"type\":\"scattergl\",\"marker\":{\"colorbar\":{\"outlinewidth\":0,\"ticks\":\"\"}}}],\"scatter3d\":[{\"type\":\"scatter3d\",\"line\":{\"colorbar\":{\"outlinewidth\":0,\"ticks\":\"\"}},\"marker\":{\"colorbar\":{\"outlinewidth\":0,\"ticks\":\"\"}}}],\"scattermapbox\":[{\"type\":\"scattermapbox\",\"marker\":{\"colorbar\":{\"outlinewidth\":0,\"ticks\":\"\"}}}],\"scatterternary\":[{\"type\":\"scatterternary\",\"marker\":{\"colorbar\":{\"outlinewidth\":0,\"ticks\":\"\"}}}],\"scattercarpet\":[{\"type\":\"scattercarpet\",\"marker\":{\"colorbar\":{\"outlinewidth\":0,\"ticks\":\"\"}}}],\"carpet\":[{\"aaxis\":{\"endlinecolor\":\"#2a3f5f\",\"gridcolor\":\"white\",\"linecolor\":\"white\",\"minorgridcolor\":\"white\",\"startlinecolor\":\"#2a3f5f\"},\"baxis\":{\"endlinecolor\":\"#2a3f5f\",\"gridcolor\":\"white\",\"linecolor\":\"white\",\"minorgridcolor\":\"white\",\"startlinecolor\":\"#2a3f5f\"},\"type\":\"carpet\"}],\"table\":[{\"cells\":{\"fill\":{\"color\":\"#EBF0F8\"},\"line\":{\"color\":\"white\"}},\"header\":{\"fill\":{\"color\":\"#C8D4E3\"},\"line\":{\"color\":\"white\"}},\"type\":\"table\"}],\"barpolar\":[{\"marker\":{\"line\":{\"color\":\"#E5ECF6\",\"width\":0.5},\"pattern\":{\"fillmode\":\"overlay\",\"size\":10,\"solidity\":0.2}},\"type\":\"barpolar\"}],\"pie\":[{\"automargin\":true,\"type\":\"pie\"}]},\"layout\":{\"autotypenumbers\":\"strict\",\"colorway\":[\"#636efa\",\"#EF553B\",\"#00cc96\",\"#ab63fa\",\"#FFA15A\",\"#19d3f3\",\"#FF6692\",\"#B6E880\",\"#FF97FF\",\"#FECB52\"],\"font\":{\"color\":\"#2a3f5f\"},\"hovermode\":\"closest\",\"hoverlabel\":{\"align\":\"left\"},\"paper_bgcolor\":\"white\",\"plot_bgcolor\":\"#E5ECF6\",\"polar\":{\"bgcolor\":\"#E5ECF6\",\"angularaxis\":{\"gridcolor\":\"white\",\"linecolor\":\"white\",\"ticks\":\"\"},\"radialaxis\":{\"gridcolor\":\"white\",\"linecolor\":\"white\",\"ticks\":\"\"}},\"ternary\":{\"bgcolor\":\"#E5ECF6\",\"aaxis\":{\"gridcolor\":\"white\",\"linecolor\":\"white\",\"ticks\":\"\"},\"baxis\":{\"gridcolor\":\"white\",\"linecolor\":\"white\",\"ticks\":\"\"},\"caxis\":{\"gridcolor\":\"white\",\"linecolor\":\"white\",\"ticks\":\"\"}},\"coloraxis\":{\"colorbar\":{\"outlinewidth\":0,\"ticks\":\"\"}},\"colorscale\":{\"sequential\":[[0.0,\"#0d0887\"],[0.1111111111111111,\"#46039f\"],[0.2222222222222222,\"#7201a8\"],[0.3333333333333333,\"#9c179e\"],[0.4444444444444444,\"#bd3786\"],[0.5555555555555556,\"#d8576b\"],[0.6666666666666666,\"#ed7953\"],[0.7777777777777778,\"#fb9f3a\"],[0.8888888888888888,\"#fdca26\"],[1.0,\"#f0f921\"]],\"sequentialminus\":[[0.0,\"#0d0887\"],[0.1111111111111111,\"#46039f\"],[0.2222222222222222,\"#7201a8\"],[0.3333333333333333,\"#9c179e\"],[0.4444444444444444,\"#bd3786\"],[0.5555555555555556,\"#d8576b\"],[0.6666666666666666,\"#ed7953\"],[0.7777777777777778,\"#fb9f3a\"],[0.8888888888888888,\"#fdca26\"],[1.0,\"#f0f921\"]],\"diverging\":[[0,\"#8e0152\"],[0.1,\"#c51b7d\"],[0.2,\"#de77ae\"],[0.3,\"#f1b6da\"],[0.4,\"#fde0ef\"],[0.5,\"#f7f7f7\"],[0.6,\"#e6f5d0\"],[0.7,\"#b8e186\"],[0.8,\"#7fbc41\"],[0.9,\"#4d9221\"],[1,\"#276419\"]]},\"xaxis\":{\"gridcolor\":\"white\",\"linecolor\":\"white\",\"ticks\":\"\",\"title\":{\"standoff\":15},\"zerolinecolor\":\"white\",\"automargin\":true,\"zerolinewidth\":2},\"yaxis\":{\"gridcolor\":\"white\",\"linecolor\":\"white\",\"ticks\":\"\",\"title\":{\"standoff\":15},\"zerolinecolor\":\"white\",\"automargin\":true,\"zerolinewidth\":2},\"scene\":{\"xaxis\":{\"backgroundcolor\":\"#E5ECF6\",\"gridcolor\":\"white\",\"linecolor\":\"white\",\"showbackground\":true,\"ticks\":\"\",\"zerolinecolor\":\"white\",\"gridwidth\":2},\"yaxis\":{\"backgroundcolor\":\"#E5ECF6\",\"gridcolor\":\"white\",\"linecolor\":\"white\",\"showbackground\":true,\"ticks\":\"\",\"zerolinecolor\":\"white\",\"gridwidth\":2},\"zaxis\":{\"backgroundcolor\":\"#E5ECF6\",\"gridcolor\":\"white\",\"linecolor\":\"white\",\"showbackground\":true,\"ticks\":\"\",\"zerolinecolor\":\"white\",\"gridwidth\":2}},\"shapedefaults\":{\"line\":{\"color\":\"#2a3f5f\"}},\"annotationdefaults\":{\"arrowcolor\":\"#2a3f5f\",\"arrowhead\":0,\"arrowwidth\":1},\"geo\":{\"bgcolor\":\"white\",\"landcolor\":\"#E5ECF6\",\"subunitcolor\":\"white\",\"showland\":true,\"showlakes\":true,\"lakecolor\":\"white\"},\"title\":{\"x\":0.05},\"mapbox\":{\"style\":\"light\"}}},\"xaxis\":{\"anchor\":\"y\",\"domain\":[0.0,0.3133333333333333],\"title\":{\"text\":\"\"},\"dtick\":1},\"yaxis\":{\"anchor\":\"x\",\"domain\":[0.0,1.0],\"title\":{\"text\":\"\"}},\"xaxis2\":{\"anchor\":\"y2\",\"domain\":[0.3333333333333333,0.6466666666666666],\"matches\":\"x\",\"title\":{\"text\":\"\"},\"dtick\":1},\"yaxis2\":{\"anchor\":\"x2\",\"domain\":[0.0,1.0],\"matches\":\"y\",\"showticklabels\":false,\"title\":{\"text\":\"\"}},\"xaxis3\":{\"anchor\":\"y3\",\"domain\":[0.6666666666666666,0.98],\"matches\":\"x\",\"title\":{\"text\":\"\"},\"dtick\":1},\"yaxis3\":{\"anchor\":\"x3\",\"domain\":[0.0,1.0],\"matches\":\"y\",\"showticklabels\":false,\"title\":{\"text\":\"\"}},\"annotations\":[{\"showarrow\":false,\"text\":\"5\",\"x\":0.15666666666666665,\"xanchor\":\"center\",\"xref\":\"paper\",\"y\":1.0,\"yanchor\":\"bottom\",\"yref\":\"paper\"},{\"showarrow\":false,\"text\":\"15\",\"x\":0.49,\"xanchor\":\"center\",\"xref\":\"paper\",\"y\":1.0,\"yanchor\":\"bottom\",\"yref\":\"paper\"},{\"showarrow\":false,\"text\":\"30\",\"x\":0.8233333333333333,\"xanchor\":\"center\",\"xref\":\"paper\",\"y\":1.0,\"yanchor\":\"bottom\",\"yref\":\"paper\"},{\"showarrow\":false,\"text\":\"300\",\"textangle\":90,\"x\":0.98,\"xanchor\":\"left\",\"xref\":\"paper\",\"y\":0.5,\"yanchor\":\"middle\",\"yref\":\"paper\"},{\"showarrow\":false,\"text\":\"% of time\",\"textangle\":-90,\"x\":-0.04,\"xref\":\"paper\",\"y\":0.5,\"yref\":\"paper\"},{\"showarrow\":false,\"text\":\"Occupancy\",\"x\":0.5,\"xref\":\"paper\",\"y\":-0.1,\"yref\":\"paper\"}],\"legend\":{\"title\":{\"text\":\"area\"},\"tracegroupgap\":0},\"margin\":{\"t\":30,\"l\":10,\"r\":10,\"b\":10},\"barmode\":\"group\"},                        {\"responsive\": true}                    ).then(function(){\n                            \nvar gd = document.getElementById('d87d3c83-b1fd-414b-bc88-980070f97dfd');\nvar x = new MutationObserver(function (mutations, observer) {{\n        var display = window.getComputedStyle(gd).display;\n        if (!display || display === 'none') {{\n            console.log([gd, 'removed!']);\n            Plotly.purge(gd);\n            observer.disconnect();\n        }}\n}});\n\n// Listen for the removal of the full notebook cells\nvar notebookContainer = gd.closest('#notebook-container');\nif (notebookContainer) {{\n    x.observe(notebookContainer, {childList: true});\n}}\n\n// Listen for the clearing of the current output cell\nvar outputEl = gd.closest('.output');\nif (outputEl) {{\n    x.observe(outputEl, {childList: true});\n}}\n\n                        })                };                });            </script>        </div>"
     },
     "metadata": {},
     "output_type": "display_data"
    }
   ],
   "source": [
    "fig = px.bar(\n",
    "    occupancy_df_ih,\n",
    "    x=\"occupancy\",\n",
    "    y=\"percent\",\n",
    "    facet_row=\"max_delay\",\n",
    "    facet_col=\"duration_minutes\",\n",
    "    color=\"area\",\n",
    "    barmode='group',\n",
    ")\n",
    "\n",
    "# fig.update_yaxes(matches=None)\n",
    "# make the facet labels nicer\n",
    "fig.for_each_annotation(lambda a: a.update(text=a.text.split(\"=\")[-1]))\n",
    "\n",
    "# shared axes titles\n",
    "fig.for_each_yaxis(lambda y: y.update(title = ''))\n",
    "fig.add_annotation(x=-0.04, y=0.5, text=\"% of time\", textangle=-90, xref=\"paper\", yref=\"paper\", showarrow=False)\n",
    "fig.for_each_xaxis(lambda y: y.update(title = ''))\n",
    "fig.add_annotation(x=0.5, y=-0.1, text=\"Occupancy\",  xref=\"paper\", yref=\"paper\", showarrow=False)\n",
    "\n",
    "# # legend style\n",
    "# fig.update_layout(legend=dict(\n",
    "#     orientation=\"h\",\n",
    "#     title=\"Method:\",\n",
    "#     y=1.15,\n",
    "#     xanchor=\"center\",\n",
    "#     x=0.5,\n",
    "# ))\n",
    "\n",
    "# ticks for all occupancy values\n",
    "fig.update_xaxes(dtick=1)\n",
    "\n",
    "\n",
    "fig.update_layout(\n",
    "    margin=dict(l=10,r=10,b=10,t=30)\n",
    ")\n",
    "\n",
    "fig.show()"
   ],
   "metadata": {
    "collapsed": false,
    "ExecuteTime": {
     "end_time": "2023-05-10T14:12:14.634245800Z",
     "start_time": "2023-05-10T14:12:14.524216200Z"
    }
   }
  },
  {
   "cell_type": "code",
   "execution_count": null,
   "outputs": [],
   "source": [],
   "metadata": {
    "collapsed": false
   }
  }
 ],
 "metadata": {
  "kernelspec": {
   "display_name": "Python 3",
   "language": "python",
   "name": "python3"
  },
  "language_info": {
   "codemirror_mode": {
    "name": "ipython",
    "version": 2
   },
   "file_extension": ".py",
   "mimetype": "text/x-python",
   "name": "python",
   "nbconvert_exporter": "python",
   "pygments_lexer": "ipython2",
   "version": "2.7.6"
  }
 },
 "nbformat": 4,
 "nbformat_minor": 0
}
