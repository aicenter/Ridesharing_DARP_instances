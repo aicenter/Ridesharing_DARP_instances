{
 "cells": [
  {
   "cell_type": "code",
   "execution_count": 1,
   "outputs": [],
   "source": [
    "%load_ext autoreload"
   ],
   "metadata": {
    "collapsed": false,
    "ExecuteTime": {
     "end_time": "2023-05-26T08:02:24.576497300Z",
     "start_time": "2023-05-26T08:02:24.504478Z"
    }
   }
  },
  {
   "cell_type": "code",
   "execution_count": 17,
   "outputs": [
    {
     "name": "stderr",
     "output_type": "stream",
     "text": [
      "[autoreload of _pydevd_bundle.pydevd_additional_thread_info_regular failed: Traceback (most recent call last):\n",
      "  File \"C:\\Program Files\\Python310\\lib\\site-packages\\IPython\\extensions\\autoreload.py\", line 257, in check\n",
      "    superreload(m, reload, self.old_objects)\n",
      "  File \"C:\\Program Files\\Python310\\lib\\site-packages\\IPython\\extensions\\autoreload.py\", line 480, in superreload\n",
      "    update_generic(old_obj, new_obj)\n",
      "  File \"C:\\Program Files\\Python310\\lib\\site-packages\\IPython\\extensions\\autoreload.py\", line 377, in update_generic\n",
      "    update(a, b)\n",
      "  File \"C:\\Program Files\\Python310\\lib\\site-packages\\IPython\\extensions\\autoreload.py\", line 345, in update_class\n",
      "    update_instances(old, new)\n",
      "  File \"C:\\Program Files\\Python310\\lib\\site-packages\\IPython\\extensions\\autoreload.py\", line 294, in update_instances\n",
      "    def update_instances(old, new):\n",
      "  File \"C:\\Users\\david\\AppData\\Local\\JetBrains\\Toolbox\\apps\\PyCharm-P\\ch-0\\231.8770.66\\plugins\\python\\helpers\\pydev\\_pydevd_bundle\\pydevd_trace_dispatch_regular.py\", line 391, in __call__\n",
      "    pydev_step_cmd = additional_info.pydev_step_cmd\n",
      "TypeError: descriptor 'pydev_step_cmd' for 'PyDBAdditionalThreadInfo' objects doesn't apply to a 'PyDBAdditionalThreadInfo' object\n",
      "]\n",
      "[autoreload of pydevd failed: Traceback (most recent call last):\n",
      "  File \"C:\\Program Files\\Python310\\lib\\site-packages\\IPython\\extensions\\autoreload.py\", line 257, in check\n",
      "    superreload(m, reload, self.old_objects)\n",
      "  File \"C:\\Program Files\\Python310\\lib\\site-packages\\IPython\\extensions\\autoreload.py\", line 480, in superreload\n",
      "    update_generic(old_obj, new_obj)\n",
      "  File \"C:\\Program Files\\Python310\\lib\\site-packages\\IPython\\extensions\\autoreload.py\", line 377, in update_generic\n",
      "    update(a, b)\n",
      "  File \"C:\\Program Files\\Python310\\lib\\site-packages\\IPython\\extensions\\autoreload.py\", line 345, in update_class\n",
      "    update_instances(old, new)\n",
      "  File \"C:\\Program Files\\Python310\\lib\\site-packages\\IPython\\extensions\\autoreload.py\", line 303, in update_instances\n",
      "    ref.__class__ = new\n",
      "TypeError: __class__ assignment: 'ThreadsSuspendedSingleNotification' object layout differs from 'ThreadsSuspendedSingleNotification'\n",
      "]\n"
     ]
    }
   ],
   "source": [
    "%autoreload"
   ],
   "metadata": {
    "collapsed": false,
    "ExecuteTime": {
     "end_time": "2023-05-17T09:35:21.384546200Z",
     "start_time": "2023-05-17T09:35:19.856546700Z"
    }
   }
  },
  {
   "cell_type": "code",
   "execution_count": 2,
   "outputs": [],
   "source": [
    "import logging\n",
    "import os\n",
    "from pathlib import Path\n",
    "import pandas as pd\n",
    "import yaml\n",
    "from typing import Dict, List\n",
    "import plotly.express as px\n",
    "import plotly.graph_objs as go\n",
    "import numpy as np\n",
    "\n",
    "from darpinstances.results import load_instance_series, instance_series_results_to_dataframe, load_instance_results, load_results_from_folder, get_processed_results, load_aggregate_stats_in_dir,load_occupancies_in_dir"
   ],
   "metadata": {
    "collapsed": false,
    "ExecuteTime": {
     "end_time": "2023-05-26T08:02:29.560474600Z",
     "start_time": "2023-05-26T08:02:26.866475700Z"
    }
   }
  },
  {
   "cell_type": "code",
   "execution_count": 6,
   "outputs": [],
   "source": [
    "# darp_data_path = r\"D:/Google Drive/AIC Experiment Data/DARP\"\n",
    "darp_data_path = r\"C:/Google Drive/AIC Experiment Data/DARP\"\n",
    "# darp_data_path = r\"C:/AIC Experiment Data/DARP\"\n",
    "\n",
    "fig_path = Path(\"C:/Workspaces/AIC/Ridesharing_DARP_instances/figures\")"
   ],
   "metadata": {
    "collapsed": false,
    "ExecuteTime": {
     "end_time": "2023-05-26T08:04:01.543711600Z",
     "start_time": "2023-05-26T08:04:01.529711800Z"
    }
   }
  },
  {
   "cell_type": "code",
   "execution_count": 7,
   "outputs": [],
   "source": [
    "final_results_path = Path(darp_data_path) / Path(\"ITSC_instance_paper/Results\")\n",
    "areas = [\n",
    "    'NYC',\n",
    "    'Manhattan',\n",
    "    'Chicago',\n",
    "    'DC'\n",
    "]"
   ],
   "metadata": {
    "collapsed": false,
    "ExecuteTime": {
     "end_time": "2023-05-26T08:04:02.108531300Z",
     "start_time": "2023-05-26T08:04:02.085534500Z"
    }
   }
  },
  {
   "cell_type": "code",
   "execution_count": 8,
   "outputs": [
    {
     "name": "stderr",
     "output_type": "stream",
     "text": [
      "10:04:04 [INFO] Loading aggregate stats in C:\\Google Drive\\AIC Experiment Data\\DARP\\ITSC_instance_paper\\Results\\NYC\n",
      "10:04:04 [WARNING] No solution found in folder: C:\\Google Drive\\AIC Experiment Data\\DARP\\ITSC_instance_paper\\Results\\NYC\\start_18-00\\duration_01_min\\max_delay_03_min\\halns\n",
      "10:04:04 [WARNING] No solution found in folder: C:\\Google Drive\\AIC Experiment Data\\DARP\\ITSC_instance_paper\\Results\\NYC\\start_18-00\\duration_01_min\\max_delay_03_min\\halns-ih\n",
      "10:04:04 [INFO] Loading json file from: C:\\Google Drive\\AIC Experiment Data\\DARP\\ITSC_instance_paper\\Results\\NYC\\start_18-00\\duration_01_min\\max_delay_03_min\\ih\\config.yaml-performance.json\n",
      "10:04:04 [INFO] Loading json file from: C:\\Google Drive\\AIC Experiment Data\\DARP\\ITSC_instance_paper\\Results\\NYC\\start_18-00\\duration_01_min\\max_delay_03_min\\ih\\config.yaml-solution.json\n",
      "10:04:04 [INFO] Loading experiment config from C:\\Google Drive\\AIC Experiment Data\\DARP\\ITSC_instance_paper\\Results\\NYC\\start_18-00\\duration_01_min\\max_delay_03_min\\ih\\config.yaml\n",
      "10:04:04 [INFO] Loading instance config from C:\\Google Drive\\AIC Experiment Data\\DARP\\ITSC_instance_paper\\Instances\\NYC\\instances\\start_18-00\\duration_01_min\\max_delay_03_min\\config.yaml\n",
      "10:04:04 [INFO] Loading json file from: C:\\Google Drive\\AIC Experiment Data\\DARP\\ITSC_instance_paper\\Results\\NYC\\start_18-00\\duration_01_min\\max_delay_03_min\\vga\\config.yaml-performance.json\n",
      "10:04:04 [INFO] Loading json file from: C:\\Google Drive\\AIC Experiment Data\\DARP\\ITSC_instance_paper\\Results\\NYC\\start_18-00\\duration_01_min\\max_delay_03_min\\vga\\config.yaml-solution.json\n",
      "10:04:04 [INFO] Loading experiment config from C:\\Google Drive\\AIC Experiment Data\\DARP\\ITSC_instance_paper\\Results\\NYC\\start_18-00\\duration_01_min\\max_delay_03_min\\vga\\config.yaml\n",
      "10:04:04 [INFO] Loading instance config from C:\\Google Drive\\AIC Experiment Data\\DARP\\ITSC_instance_paper\\Instances\\NYC\\instances\\start_18-00\\duration_01_min\\max_delay_03_min\\config.yaml\n",
      "10:04:04 [WARNING] No solution found in folder: C:\\Google Drive\\AIC Experiment Data\\DARP\\ITSC_instance_paper\\Results\\NYC\\start_18-00\\duration_01_min\\max_delay_05_min\\halns\n",
      "10:04:04 [WARNING] No solution found in folder: C:\\Google Drive\\AIC Experiment Data\\DARP\\ITSC_instance_paper\\Results\\NYC\\start_18-00\\duration_01_min\\max_delay_05_min\\halns-ih\n",
      "10:04:04 [INFO] Loading json file from: C:\\Google Drive\\AIC Experiment Data\\DARP\\ITSC_instance_paper\\Results\\NYC\\start_18-00\\duration_01_min\\max_delay_05_min\\ih\\config.yaml-performance.json\n",
      "10:04:04 [INFO] Loading json file from: C:\\Google Drive\\AIC Experiment Data\\DARP\\ITSC_instance_paper\\Results\\NYC\\start_18-00\\duration_01_min\\max_delay_05_min\\ih\\config.yaml-solution.json\n",
      "10:04:04 [INFO] Loading experiment config from C:\\Google Drive\\AIC Experiment Data\\DARP\\ITSC_instance_paper\\Results\\NYC\\start_18-00\\duration_01_min\\max_delay_05_min\\ih\\config.yaml\n",
      "10:04:04 [INFO] Loading instance config from C:\\Google Drive\\AIC Experiment Data\\DARP\\ITSC_instance_paper\\Instances\\NYC\\instances\\start_18-00\\duration_01_min\\max_delay_05_min\\config.yaml\n",
      "10:04:04 [INFO] Loading json file from: C:\\Google Drive\\AIC Experiment Data\\DARP\\ITSC_instance_paper\\Results\\NYC\\start_18-00\\duration_01_min\\max_delay_05_min\\vga\\config.yaml-performance.json\n",
      "10:04:04 [INFO] Loading json file from: C:\\Google Drive\\AIC Experiment Data\\DARP\\ITSC_instance_paper\\Results\\NYC\\start_18-00\\duration_01_min\\max_delay_05_min\\vga\\config.yaml-solution.json\n",
      "10:04:04 [INFO] Loading experiment config from C:\\Google Drive\\AIC Experiment Data\\DARP\\ITSC_instance_paper\\Results\\NYC\\start_18-00\\duration_01_min\\max_delay_05_min\\vga\\config.yaml\n",
      "10:04:04 [INFO] Loading instance config from C:\\Google Drive\\AIC Experiment Data\\DARP\\ITSC_instance_paper\\Instances\\NYC\\instances\\start_18-00\\duration_01_min\\max_delay_05_min\\config.yaml\n",
      "10:04:04 [WARNING] No solution found in folder: C:\\Google Drive\\AIC Experiment Data\\DARP\\ITSC_instance_paper\\Results\\NYC\\start_18-00\\duration_01_min\\max_delay_10_min\\halns\n",
      "10:04:04 [WARNING] No solution found in folder: C:\\Google Drive\\AIC Experiment Data\\DARP\\ITSC_instance_paper\\Results\\NYC\\start_18-00\\duration_01_min\\max_delay_10_min\\halns-ih\n",
      "10:04:04 [INFO] Loading json file from: C:\\Google Drive\\AIC Experiment Data\\DARP\\ITSC_instance_paper\\Results\\NYC\\start_18-00\\duration_01_min\\max_delay_10_min\\ih\\config.yaml-performance.json\n",
      "10:04:04 [INFO] Loading json file from: C:\\Google Drive\\AIC Experiment Data\\DARP\\ITSC_instance_paper\\Results\\NYC\\start_18-00\\duration_01_min\\max_delay_10_min\\ih\\config.yaml-solution.json\n",
      "10:04:04 [INFO] Loading experiment config from C:\\Google Drive\\AIC Experiment Data\\DARP\\ITSC_instance_paper\\Results\\NYC\\start_18-00\\duration_01_min\\max_delay_10_min\\ih\\config.yaml\n",
      "10:04:04 [INFO] Loading instance config from C:\\Google Drive\\AIC Experiment Data\\DARP\\ITSC_instance_paper\\Instances\\NYC\\instances\\start_18-00\\duration_01_min\\max_delay_10_min\\config.yaml\n",
      "10:04:04 [WARNING] No solution found in folder: C:\\Google Drive\\AIC Experiment Data\\DARP\\ITSC_instance_paper\\Results\\NYC\\start_18-00\\duration_01_min\\max_delay_10_min\\vga\n",
      "10:04:04 [WARNING] No solution found in folder: C:\\Google Drive\\AIC Experiment Data\\DARP\\ITSC_instance_paper\\Results\\NYC\\start_18-00\\duration_02_h\\max_delay_03_min\\halns\n",
      "10:04:04 [WARNING] No solution found in folder: C:\\Google Drive\\AIC Experiment Data\\DARP\\ITSC_instance_paper\\Results\\NYC\\start_18-00\\duration_02_h\\max_delay_03_min\\halns-ih\n",
      "10:04:04 [INFO] Loading json file from: C:\\Google Drive\\AIC Experiment Data\\DARP\\ITSC_instance_paper\\Results\\NYC\\start_18-00\\duration_02_h\\max_delay_03_min\\ih\\config.yaml-performance.json\n",
      "10:04:04 [INFO] Loading json file from: C:\\Google Drive\\AIC Experiment Data\\DARP\\ITSC_instance_paper\\Results\\NYC\\start_18-00\\duration_02_h\\max_delay_03_min\\ih\\config.yaml-solution.json\n",
      "10:04:05 [INFO] Loading experiment config from C:\\Google Drive\\AIC Experiment Data\\DARP\\ITSC_instance_paper\\Results\\NYC\\start_18-00\\duration_02_h\\max_delay_03_min\\ih\\config.yaml\n",
      "10:04:05 [INFO] Loading instance config from C:\\Google Drive\\AIC Experiment Data\\DARP\\ITSC_instance_paper\\Instances\\NYC\\instances\\start_18-00\\duration_02_h\\max_delay_03_min\\config.yaml\n",
      "10:04:05 [WARNING] No solution found in folder: C:\\Google Drive\\AIC Experiment Data\\DARP\\ITSC_instance_paper\\Results\\NYC\\start_18-00\\duration_02_h\\max_delay_03_min\\vga\n",
      "10:04:05 [WARNING] No solution found in folder: C:\\Google Drive\\AIC Experiment Data\\DARP\\ITSC_instance_paper\\Results\\NYC\\start_18-00\\duration_02_h\\max_delay_05_min\\halns\n",
      "10:04:05 [WARNING] No solution found in folder: C:\\Google Drive\\AIC Experiment Data\\DARP\\ITSC_instance_paper\\Results\\NYC\\start_18-00\\duration_02_h\\max_delay_05_min\\halns-ih\n",
      "10:04:05 [INFO] Loading json file from: C:\\Google Drive\\AIC Experiment Data\\DARP\\ITSC_instance_paper\\Results\\NYC\\start_18-00\\duration_02_h\\max_delay_05_min\\ih\\config.yaml-performance.json\n",
      "10:04:05 [INFO] Loading json file from: C:\\Google Drive\\AIC Experiment Data\\DARP\\ITSC_instance_paper\\Results\\NYC\\start_18-00\\duration_02_h\\max_delay_05_min\\ih\\config.yaml-solution.json\n",
      "10:04:06 [INFO] Loading experiment config from C:\\Google Drive\\AIC Experiment Data\\DARP\\ITSC_instance_paper\\Results\\NYC\\start_18-00\\duration_02_h\\max_delay_05_min\\ih\\config.yaml\n",
      "10:04:06 [INFO] Loading instance config from C:\\Google Drive\\AIC Experiment Data\\DARP\\ITSC_instance_paper\\Instances\\NYC\\instances\\start_18-00\\duration_02_h\\max_delay_05_min\\config.yaml\n",
      "10:04:06 [WARNING] No solution found in folder: C:\\Google Drive\\AIC Experiment Data\\DARP\\ITSC_instance_paper\\Results\\NYC\\start_18-00\\duration_02_h\\max_delay_05_min\\vga\n",
      "10:04:06 [WARNING] No solution found in folder: C:\\Google Drive\\AIC Experiment Data\\DARP\\ITSC_instance_paper\\Results\\NYC\\start_18-00\\duration_02_h\\max_delay_10_min\\halns\n",
      "10:04:06 [WARNING] No solution found in folder: C:\\Google Drive\\AIC Experiment Data\\DARP\\ITSC_instance_paper\\Results\\NYC\\start_18-00\\duration_02_h\\max_delay_10_min\\halns-ih\n",
      "10:04:06 [INFO] Loading json file from: C:\\Google Drive\\AIC Experiment Data\\DARP\\ITSC_instance_paper\\Results\\NYC\\start_18-00\\duration_02_h\\max_delay_10_min\\ih\\config.yaml-performance.json\n",
      "10:04:06 [INFO] Loading json file from: C:\\Google Drive\\AIC Experiment Data\\DARP\\ITSC_instance_paper\\Results\\NYC\\start_18-00\\duration_02_h\\max_delay_10_min\\ih\\config.yaml-solution.json\n",
      "10:04:06 [INFO] Loading experiment config from C:\\Google Drive\\AIC Experiment Data\\DARP\\ITSC_instance_paper\\Results\\NYC\\start_18-00\\duration_02_h\\max_delay_10_min\\ih\\config.yaml\n",
      "10:04:06 [INFO] Loading instance config from C:\\Google Drive\\AIC Experiment Data\\DARP\\ITSC_instance_paper\\Instances\\NYC\\instances\\start_18-00\\duration_02_h\\max_delay_10_min\\config.yaml\n",
      "10:04:06 [WARNING] No solution found in folder: C:\\Google Drive\\AIC Experiment Data\\DARP\\ITSC_instance_paper\\Results\\NYC\\start_18-00\\duration_02_h\\max_delay_10_min\\vga\n",
      "10:04:07 [WARNING] No solution found in folder: C:\\Google Drive\\AIC Experiment Data\\DARP\\ITSC_instance_paper\\Results\\NYC\\start_18-00\\duration_02_min\\max_delay_03_min\\halns\n",
      "10:04:07 [WARNING] No solution found in folder: C:\\Google Drive\\AIC Experiment Data\\DARP\\ITSC_instance_paper\\Results\\NYC\\start_18-00\\duration_02_min\\max_delay_03_min\\halns-ih\n",
      "10:04:07 [INFO] Loading json file from: C:\\Google Drive\\AIC Experiment Data\\DARP\\ITSC_instance_paper\\Results\\NYC\\start_18-00\\duration_02_min\\max_delay_03_min\\ih\\config.yaml-performance.json\n",
      "10:04:07 [INFO] Loading json file from: C:\\Google Drive\\AIC Experiment Data\\DARP\\ITSC_instance_paper\\Results\\NYC\\start_18-00\\duration_02_min\\max_delay_03_min\\ih\\config.yaml-solution.json\n",
      "10:04:07 [INFO] Loading experiment config from C:\\Google Drive\\AIC Experiment Data\\DARP\\ITSC_instance_paper\\Results\\NYC\\start_18-00\\duration_02_min\\max_delay_03_min\\ih\\config.yaml\n",
      "10:04:07 [INFO] Loading instance config from C:\\Google Drive\\AIC Experiment Data\\DARP\\ITSC_instance_paper\\Instances\\NYC\\instances\\start_18-00\\duration_02_min\\max_delay_03_min\\config.yaml\n",
      "10:04:07 [INFO] Loading json file from: C:\\Google Drive\\AIC Experiment Data\\DARP\\ITSC_instance_paper\\Results\\NYC\\start_18-00\\duration_02_min\\max_delay_03_min\\vga\\config.yaml-performance.json\n",
      "10:04:07 [INFO] Loading json file from: C:\\Google Drive\\AIC Experiment Data\\DARP\\ITSC_instance_paper\\Results\\NYC\\start_18-00\\duration_02_min\\max_delay_03_min\\vga\\config.yaml-solution.json\n",
      "10:04:07 [INFO] Loading experiment config from C:\\Google Drive\\AIC Experiment Data\\DARP\\ITSC_instance_paper\\Results\\NYC\\start_18-00\\duration_02_min\\max_delay_03_min\\vga\\config.yaml\n",
      "10:04:07 [INFO] Loading instance config from C:\\Google Drive\\AIC Experiment Data\\DARP\\ITSC_instance_paper\\Instances\\NYC\\instances\\start_18-00\\duration_02_min\\max_delay_03_min\\config.yaml\n",
      "10:04:07 [WARNING] No solution found in folder: C:\\Google Drive\\AIC Experiment Data\\DARP\\ITSC_instance_paper\\Results\\NYC\\start_18-00\\duration_02_min\\max_delay_05_min\\halns\n",
      "10:04:07 [WARNING] No solution found in folder: C:\\Google Drive\\AIC Experiment Data\\DARP\\ITSC_instance_paper\\Results\\NYC\\start_18-00\\duration_02_min\\max_delay_05_min\\halns-ih\n",
      "10:04:07 [INFO] Loading json file from: C:\\Google Drive\\AIC Experiment Data\\DARP\\ITSC_instance_paper\\Results\\NYC\\start_18-00\\duration_02_min\\max_delay_05_min\\ih\\config.yaml-performance.json\n",
      "10:04:07 [INFO] Loading json file from: C:\\Google Drive\\AIC Experiment Data\\DARP\\ITSC_instance_paper\\Results\\NYC\\start_18-00\\duration_02_min\\max_delay_05_min\\ih\\config.yaml-solution.json\n",
      "10:04:07 [INFO] Loading experiment config from C:\\Google Drive\\AIC Experiment Data\\DARP\\ITSC_instance_paper\\Results\\NYC\\start_18-00\\duration_02_min\\max_delay_05_min\\ih\\config.yaml\n",
      "10:04:07 [INFO] Loading instance config from C:\\Google Drive\\AIC Experiment Data\\DARP\\ITSC_instance_paper\\Instances\\NYC\\instances\\start_18-00\\duration_02_min\\max_delay_05_min\\config.yaml\n",
      "10:04:07 [INFO] Loading json file from: C:\\Google Drive\\AIC Experiment Data\\DARP\\ITSC_instance_paper\\Results\\NYC\\start_18-00\\duration_02_min\\max_delay_05_min\\vga\\config.yaml-performance.json\n",
      "10:04:07 [INFO] Loading json file from: C:\\Google Drive\\AIC Experiment Data\\DARP\\ITSC_instance_paper\\Results\\NYC\\start_18-00\\duration_02_min\\max_delay_05_min\\vga\\config.yaml-solution.json\n",
      "10:04:07 [INFO] Loading experiment config from C:\\Google Drive\\AIC Experiment Data\\DARP\\ITSC_instance_paper\\Results\\NYC\\start_18-00\\duration_02_min\\max_delay_05_min\\vga\\config.yaml\n",
      "10:04:07 [INFO] Loading instance config from C:\\Google Drive\\AIC Experiment Data\\DARP\\ITSC_instance_paper\\Instances\\NYC\\instances\\start_18-00\\duration_02_min\\max_delay_05_min\\config.yaml\n",
      "10:04:07 [WARNING] No solution found in folder: C:\\Google Drive\\AIC Experiment Data\\DARP\\ITSC_instance_paper\\Results\\NYC\\start_18-00\\duration_02_min\\max_delay_10_min\\halns\n",
      "10:04:07 [WARNING] No solution found in folder: C:\\Google Drive\\AIC Experiment Data\\DARP\\ITSC_instance_paper\\Results\\NYC\\start_18-00\\duration_02_min\\max_delay_10_min\\halns-ih\n",
      "10:04:07 [INFO] Loading json file from: C:\\Google Drive\\AIC Experiment Data\\DARP\\ITSC_instance_paper\\Results\\NYC\\start_18-00\\duration_02_min\\max_delay_10_min\\ih\\config.yaml-performance.json\n",
      "10:04:07 [INFO] Loading json file from: C:\\Google Drive\\AIC Experiment Data\\DARP\\ITSC_instance_paper\\Results\\NYC\\start_18-00\\duration_02_min\\max_delay_10_min\\ih\\config.yaml-solution.json\n",
      "10:04:07 [INFO] Loading experiment config from C:\\Google Drive\\AIC Experiment Data\\DARP\\ITSC_instance_paper\\Results\\NYC\\start_18-00\\duration_02_min\\max_delay_10_min\\ih\\config.yaml\n",
      "10:04:07 [INFO] Loading instance config from C:\\Google Drive\\AIC Experiment Data\\DARP\\ITSC_instance_paper\\Instances\\NYC\\instances\\start_18-00\\duration_02_min\\max_delay_10_min\\config.yaml\n",
      "10:04:07 [WARNING] No solution found in folder: C:\\Google Drive\\AIC Experiment Data\\DARP\\ITSC_instance_paper\\Results\\NYC\\start_18-00\\duration_02_min\\max_delay_10_min\\vga\n",
      "10:04:07 [WARNING] No solution found in folder: C:\\Google Drive\\AIC Experiment Data\\DARP\\ITSC_instance_paper\\Results\\NYC\\start_18-00\\duration_05_min\\max_delay_03_min\\halns\n",
      "10:04:07 [WARNING] No solution found in folder: C:\\Google Drive\\AIC Experiment Data\\DARP\\ITSC_instance_paper\\Results\\NYC\\start_18-00\\duration_05_min\\max_delay_03_min\\halns-ih\n",
      "10:04:07 [INFO] Loading json file from: C:\\Google Drive\\AIC Experiment Data\\DARP\\ITSC_instance_paper\\Results\\NYC\\start_18-00\\duration_05_min\\max_delay_03_min\\ih\\config.yaml-performance.json\n",
      "10:04:07 [INFO] Loading json file from: C:\\Google Drive\\AIC Experiment Data\\DARP\\ITSC_instance_paper\\Results\\NYC\\start_18-00\\duration_05_min\\max_delay_03_min\\ih\\config.yaml-solution.json\n",
      "10:04:07 [INFO] Loading experiment config from C:\\Google Drive\\AIC Experiment Data\\DARP\\ITSC_instance_paper\\Results\\NYC\\start_18-00\\duration_05_min\\max_delay_03_min\\ih\\config.yaml\n",
      "10:04:07 [INFO] Loading instance config from C:\\Google Drive\\AIC Experiment Data\\DARP\\ITSC_instance_paper\\Instances\\NYC\\instances\\start_18-00\\duration_05_min\\max_delay_03_min\\config.yaml\n",
      "10:04:07 [WARNING] No solution found in folder: C:\\Google Drive\\AIC Experiment Data\\DARP\\ITSC_instance_paper\\Results\\NYC\\start_18-00\\duration_05_min\\max_delay_03_min\\vga\n",
      "10:04:07 [WARNING] No solution found in folder: C:\\Google Drive\\AIC Experiment Data\\DARP\\ITSC_instance_paper\\Results\\NYC\\start_18-00\\duration_05_min\\max_delay_05_min\\halns\n",
      "10:04:07 [WARNING] No solution found in folder: C:\\Google Drive\\AIC Experiment Data\\DARP\\ITSC_instance_paper\\Results\\NYC\\start_18-00\\duration_05_min\\max_delay_05_min\\halns-ih\n",
      "10:04:07 [INFO] Loading json file from: C:\\Google Drive\\AIC Experiment Data\\DARP\\ITSC_instance_paper\\Results\\NYC\\start_18-00\\duration_05_min\\max_delay_05_min\\ih\\config.yaml-performance.json\n",
      "10:04:07 [INFO] Loading json file from: C:\\Google Drive\\AIC Experiment Data\\DARP\\ITSC_instance_paper\\Results\\NYC\\start_18-00\\duration_05_min\\max_delay_05_min\\ih\\config.yaml-solution.json\n",
      "10:04:07 [INFO] Loading experiment config from C:\\Google Drive\\AIC Experiment Data\\DARP\\ITSC_instance_paper\\Results\\NYC\\start_18-00\\duration_05_min\\max_delay_05_min\\ih\\config.yaml\n",
      "10:04:07 [INFO] Loading instance config from C:\\Google Drive\\AIC Experiment Data\\DARP\\ITSC_instance_paper\\Instances\\NYC\\instances\\start_18-00\\duration_05_min\\max_delay_05_min\\config.yaml\n",
      "10:04:07 [WARNING] No solution found in folder: C:\\Google Drive\\AIC Experiment Data\\DARP\\ITSC_instance_paper\\Results\\NYC\\start_18-00\\duration_05_min\\max_delay_05_min\\vga\n",
      "10:04:07 [WARNING] No solution found in folder: C:\\Google Drive\\AIC Experiment Data\\DARP\\ITSC_instance_paper\\Results\\NYC\\start_18-00\\duration_05_min\\max_delay_10_min\\halns\n",
      "10:04:07 [WARNING] No solution found in folder: C:\\Google Drive\\AIC Experiment Data\\DARP\\ITSC_instance_paper\\Results\\NYC\\start_18-00\\duration_05_min\\max_delay_10_min\\halns-ih\n",
      "10:04:07 [INFO] Loading json file from: C:\\Google Drive\\AIC Experiment Data\\DARP\\ITSC_instance_paper\\Results\\NYC\\start_18-00\\duration_05_min\\max_delay_10_min\\ih\\config.yaml-performance.json\n",
      "10:04:07 [INFO] Loading json file from: C:\\Google Drive\\AIC Experiment Data\\DARP\\ITSC_instance_paper\\Results\\NYC\\start_18-00\\duration_05_min\\max_delay_10_min\\ih\\config.yaml-solution.json\n",
      "10:04:07 [INFO] Loading experiment config from C:\\Google Drive\\AIC Experiment Data\\DARP\\ITSC_instance_paper\\Results\\NYC\\start_18-00\\duration_05_min\\max_delay_10_min\\ih\\config.yaml\n",
      "10:04:07 [INFO] Loading instance config from C:\\Google Drive\\AIC Experiment Data\\DARP\\ITSC_instance_paper\\Instances\\NYC\\instances\\start_18-00\\duration_05_min\\max_delay_10_min\\config.yaml\n",
      "10:04:07 [WARNING] No solution found in folder: C:\\Google Drive\\AIC Experiment Data\\DARP\\ITSC_instance_paper\\Results\\NYC\\start_18-00\\duration_05_min\\max_delay_10_min\\vga\n",
      "10:04:07 [WARNING] No solution found in folder: C:\\Google Drive\\AIC Experiment Data\\DARP\\ITSC_instance_paper\\Results\\NYC\\start_18-00\\duration_15_min\\max_delay_03_min\\halns\n",
      "10:04:07 [WARNING] No solution found in folder: C:\\Google Drive\\AIC Experiment Data\\DARP\\ITSC_instance_paper\\Results\\NYC\\start_18-00\\duration_15_min\\max_delay_03_min\\halns-ih\n",
      "10:04:07 [INFO] Loading json file from: C:\\Google Drive\\AIC Experiment Data\\DARP\\ITSC_instance_paper\\Results\\NYC\\start_18-00\\duration_15_min\\max_delay_03_min\\ih\\config.yaml-performance.json\n",
      "10:04:07 [INFO] Loading json file from: C:\\Google Drive\\AIC Experiment Data\\DARP\\ITSC_instance_paper\\Results\\NYC\\start_18-00\\duration_15_min\\max_delay_03_min\\ih\\config.yaml-solution.json\n",
      "10:04:07 [INFO] Loading experiment config from C:\\Google Drive\\AIC Experiment Data\\DARP\\ITSC_instance_paper\\Results\\NYC\\start_18-00\\duration_15_min\\max_delay_03_min\\ih\\config.yaml\n",
      "10:04:07 [INFO] Loading instance config from C:\\Google Drive\\AIC Experiment Data\\DARP\\ITSC_instance_paper\\Instances\\NYC\\instances\\start_18-00\\duration_15_min\\max_delay_03_min\\config.yaml\n",
      "10:04:07 [WARNING] No solution found in folder: C:\\Google Drive\\AIC Experiment Data\\DARP\\ITSC_instance_paper\\Results\\NYC\\start_18-00\\duration_15_min\\max_delay_03_min\\vga\n",
      "10:04:07 [WARNING] No solution found in folder: C:\\Google Drive\\AIC Experiment Data\\DARP\\ITSC_instance_paper\\Results\\NYC\\start_18-00\\duration_15_min\\max_delay_05_min\\halns\n",
      "10:04:07 [WARNING] No solution found in folder: C:\\Google Drive\\AIC Experiment Data\\DARP\\ITSC_instance_paper\\Results\\NYC\\start_18-00\\duration_15_min\\max_delay_05_min\\halns-ih\n",
      "10:04:07 [INFO] Loading json file from: C:\\Google Drive\\AIC Experiment Data\\DARP\\ITSC_instance_paper\\Results\\NYC\\start_18-00\\duration_15_min\\max_delay_05_min\\ih\\config.yaml-performance.json\n",
      "10:04:07 [INFO] Loading json file from: C:\\Google Drive\\AIC Experiment Data\\DARP\\ITSC_instance_paper\\Results\\NYC\\start_18-00\\duration_15_min\\max_delay_05_min\\ih\\config.yaml-solution.json\n",
      "10:04:07 [INFO] Loading experiment config from C:\\Google Drive\\AIC Experiment Data\\DARP\\ITSC_instance_paper\\Results\\NYC\\start_18-00\\duration_15_min\\max_delay_05_min\\ih\\config.yaml\n",
      "10:04:07 [INFO] Loading instance config from C:\\Google Drive\\AIC Experiment Data\\DARP\\ITSC_instance_paper\\Instances\\NYC\\instances\\start_18-00\\duration_15_min\\max_delay_05_min\\config.yaml\n",
      "10:04:07 [WARNING] No solution found in folder: C:\\Google Drive\\AIC Experiment Data\\DARP\\ITSC_instance_paper\\Results\\NYC\\start_18-00\\duration_15_min\\max_delay_05_min\\vga\n",
      "10:04:07 [WARNING] No solution found in folder: C:\\Google Drive\\AIC Experiment Data\\DARP\\ITSC_instance_paper\\Results\\NYC\\start_18-00\\duration_15_min\\max_delay_10_min\\halns\n",
      "10:04:07 [WARNING] No solution found in folder: C:\\Google Drive\\AIC Experiment Data\\DARP\\ITSC_instance_paper\\Results\\NYC\\start_18-00\\duration_15_min\\max_delay_10_min\\halns-ih\n",
      "10:04:07 [INFO] Loading json file from: C:\\Google Drive\\AIC Experiment Data\\DARP\\ITSC_instance_paper\\Results\\NYC\\start_18-00\\duration_15_min\\max_delay_10_min\\ih\\config.yaml-performance.json\n",
      "10:04:07 [INFO] Loading json file from: C:\\Google Drive\\AIC Experiment Data\\DARP\\ITSC_instance_paper\\Results\\NYC\\start_18-00\\duration_15_min\\max_delay_10_min\\ih\\config.yaml-solution.json\n",
      "10:04:07 [INFO] Loading experiment config from C:\\Google Drive\\AIC Experiment Data\\DARP\\ITSC_instance_paper\\Results\\NYC\\start_18-00\\duration_15_min\\max_delay_10_min\\ih\\config.yaml\n",
      "10:04:07 [INFO] Loading instance config from C:\\Google Drive\\AIC Experiment Data\\DARP\\ITSC_instance_paper\\Instances\\NYC\\instances\\start_18-00\\duration_15_min\\max_delay_10_min\\config.yaml\n",
      "10:04:07 [WARNING] No solution found in folder: C:\\Google Drive\\AIC Experiment Data\\DARP\\ITSC_instance_paper\\Results\\NYC\\start_18-00\\duration_15_min\\max_delay_10_min\\vga\n",
      "10:04:07 [WARNING] No solution found in folder: C:\\Google Drive\\AIC Experiment Data\\DARP\\ITSC_instance_paper\\Results\\NYC\\start_18-00\\duration_16_h\\max_delay_03_min\\halns\n",
      "10:04:07 [WARNING] No solution found in folder: C:\\Google Drive\\AIC Experiment Data\\DARP\\ITSC_instance_paper\\Results\\NYC\\start_18-00\\duration_16_h\\max_delay_03_min\\halns-ih\n",
      "10:04:07 [INFO] Loading json file from: C:\\Google Drive\\AIC Experiment Data\\DARP\\ITSC_instance_paper\\Results\\NYC\\start_18-00\\duration_16_h\\max_delay_03_min\\ih\\config.yaml-performance.json\n",
      "10:04:07 [INFO] Loading json file from: C:\\Google Drive\\AIC Experiment Data\\DARP\\ITSC_instance_paper\\Results\\NYC\\start_18-00\\duration_16_h\\max_delay_03_min\\ih\\config.yaml-solution.json\n",
      "10:04:09 [INFO] Loading experiment config from C:\\Google Drive\\AIC Experiment Data\\DARP\\ITSC_instance_paper\\Results\\NYC\\start_18-00\\duration_16_h\\max_delay_03_min\\ih\\config.yaml\n",
      "10:04:09 [INFO] Loading instance config from C:\\Google Drive\\AIC Experiment Data\\DARP\\ITSC_instance_paper\\Instances\\NYC\\instances\\start_18-00\\duration_16_h\\max_delay_03_min\\config.yaml\n",
      "10:04:09 [WARNING] No solution found in folder: C:\\Google Drive\\AIC Experiment Data\\DARP\\ITSC_instance_paper\\Results\\NYC\\start_18-00\\duration_16_h\\max_delay_03_min\\vga\n",
      "10:04:09 [WARNING] No solution found in folder: C:\\Google Drive\\AIC Experiment Data\\DARP\\ITSC_instance_paper\\Results\\NYC\\start_18-00\\duration_16_h\\max_delay_05_min\\halns\n",
      "10:04:09 [WARNING] No solution found in folder: C:\\Google Drive\\AIC Experiment Data\\DARP\\ITSC_instance_paper\\Results\\NYC\\start_18-00\\duration_16_h\\max_delay_05_min\\halns-ih\n",
      "10:04:09 [INFO] Loading json file from: C:\\Google Drive\\AIC Experiment Data\\DARP\\ITSC_instance_paper\\Results\\NYC\\start_18-00\\duration_16_h\\max_delay_05_min\\ih\\config.yaml-performance.json\n",
      "10:04:09 [INFO] Loading json file from: C:\\Google Drive\\AIC Experiment Data\\DARP\\ITSC_instance_paper\\Results\\NYC\\start_18-00\\duration_16_h\\max_delay_05_min\\ih\\config.yaml-solution.json\n",
      "10:04:11 [INFO] Loading experiment config from C:\\Google Drive\\AIC Experiment Data\\DARP\\ITSC_instance_paper\\Results\\NYC\\start_18-00\\duration_16_h\\max_delay_05_min\\ih\\config.yaml\n",
      "10:04:11 [INFO] Loading instance config from C:\\Google Drive\\AIC Experiment Data\\DARP\\ITSC_instance_paper\\Instances\\NYC\\instances\\start_18-00\\duration_16_h\\max_delay_05_min\\config.yaml\n",
      "10:04:11 [WARNING] No solution found in folder: C:\\Google Drive\\AIC Experiment Data\\DARP\\ITSC_instance_paper\\Results\\NYC\\start_18-00\\duration_16_h\\max_delay_05_min\\vga\n",
      "10:04:11 [WARNING] No solution found in folder: C:\\Google Drive\\AIC Experiment Data\\DARP\\ITSC_instance_paper\\Results\\NYC\\start_18-00\\duration_16_h\\max_delay_10_min\\halns\n",
      "10:04:11 [WARNING] No solution found in folder: C:\\Google Drive\\AIC Experiment Data\\DARP\\ITSC_instance_paper\\Results\\NYC\\start_18-00\\duration_16_h\\max_delay_10_min\\halns-ih\n",
      "10:04:11 [INFO] Loading json file from: C:\\Google Drive\\AIC Experiment Data\\DARP\\ITSC_instance_paper\\Results\\NYC\\start_18-00\\duration_16_h\\max_delay_10_min\\ih\\config.yaml-performance.json\n",
      "10:04:11 [INFO] Loading json file from: C:\\Google Drive\\AIC Experiment Data\\DARP\\ITSC_instance_paper\\Results\\NYC\\start_18-00\\duration_16_h\\max_delay_10_min\\ih\\config.yaml-solution.json\n",
      "10:04:13 [INFO] Loading experiment config from C:\\Google Drive\\AIC Experiment Data\\DARP\\ITSC_instance_paper\\Results\\NYC\\start_18-00\\duration_16_h\\max_delay_10_min\\ih\\config.yaml\n",
      "10:04:13 [INFO] Loading instance config from C:\\Google Drive\\AIC Experiment Data\\DARP\\ITSC_instance_paper\\Instances\\NYC\\instances\\start_18-00\\duration_16_h\\max_delay_10_min\\config.yaml\n",
      "10:04:13 [WARNING] No solution found in folder: C:\\Google Drive\\AIC Experiment Data\\DARP\\ITSC_instance_paper\\Results\\NYC\\start_18-00\\duration_16_h\\max_delay_10_min\\vga\n",
      "10:04:13 [WARNING] No solution found in folder: C:\\Google Drive\\AIC Experiment Data\\DARP\\ITSC_instance_paper\\Results\\NYC\\start_18-00\\duration_30_min\\max_delay_03_min\\halns\n",
      "10:04:13 [WARNING] No solution found in folder: C:\\Google Drive\\AIC Experiment Data\\DARP\\ITSC_instance_paper\\Results\\NYC\\start_18-00\\duration_30_min\\max_delay_03_min\\halns-ih\n",
      "10:04:13 [INFO] Loading json file from: C:\\Google Drive\\AIC Experiment Data\\DARP\\ITSC_instance_paper\\Results\\NYC\\start_18-00\\duration_30_min\\max_delay_03_min\\ih\\config.yaml-performance.json\n",
      "10:04:13 [INFO] Loading json file from: C:\\Google Drive\\AIC Experiment Data\\DARP\\ITSC_instance_paper\\Results\\NYC\\start_18-00\\duration_30_min\\max_delay_03_min\\ih\\config.yaml-solution.json\n",
      "10:04:14 [INFO] Loading experiment config from C:\\Google Drive\\AIC Experiment Data\\DARP\\ITSC_instance_paper\\Results\\NYC\\start_18-00\\duration_30_min\\max_delay_03_min\\ih\\config.yaml\n",
      "10:04:14 [INFO] Loading instance config from C:\\Google Drive\\AIC Experiment Data\\DARP\\ITSC_instance_paper\\Instances\\NYC\\instances\\start_18-00\\duration_30_min\\max_delay_03_min\\config.yaml\n",
      "10:04:14 [WARNING] No solution found in folder: C:\\Google Drive\\AIC Experiment Data\\DARP\\ITSC_instance_paper\\Results\\NYC\\start_18-00\\duration_30_min\\max_delay_03_min\\vga\n",
      "10:04:14 [WARNING] No solution found in folder: C:\\Google Drive\\AIC Experiment Data\\DARP\\ITSC_instance_paper\\Results\\NYC\\start_18-00\\duration_30_min\\max_delay_05_min\\halns\n",
      "10:04:14 [WARNING] No solution found in folder: C:\\Google Drive\\AIC Experiment Data\\DARP\\ITSC_instance_paper\\Results\\NYC\\start_18-00\\duration_30_min\\max_delay_05_min\\halns-ih\n",
      "10:04:14 [INFO] Loading json file from: C:\\Google Drive\\AIC Experiment Data\\DARP\\ITSC_instance_paper\\Results\\NYC\\start_18-00\\duration_30_min\\max_delay_05_min\\ih\\config.yaml-performance.json\n",
      "10:04:14 [INFO] Loading json file from: C:\\Google Drive\\AIC Experiment Data\\DARP\\ITSC_instance_paper\\Results\\NYC\\start_18-00\\duration_30_min\\max_delay_05_min\\ih\\config.yaml-solution.json\n",
      "10:04:14 [INFO] Loading experiment config from C:\\Google Drive\\AIC Experiment Data\\DARP\\ITSC_instance_paper\\Results\\NYC\\start_18-00\\duration_30_min\\max_delay_05_min\\ih\\config.yaml\n",
      "10:04:14 [INFO] Loading instance config from C:\\Google Drive\\AIC Experiment Data\\DARP\\ITSC_instance_paper\\Instances\\NYC\\instances\\start_18-00\\duration_30_min\\max_delay_05_min\\config.yaml\n",
      "10:04:14 [WARNING] No solution found in folder: C:\\Google Drive\\AIC Experiment Data\\DARP\\ITSC_instance_paper\\Results\\NYC\\start_18-00\\duration_30_min\\max_delay_05_min\\vga\n",
      "10:04:14 [WARNING] No solution found in folder: C:\\Google Drive\\AIC Experiment Data\\DARP\\ITSC_instance_paper\\Results\\NYC\\start_18-00\\duration_30_min\\max_delay_10_min\\halns\n",
      "10:04:14 [WARNING] No solution found in folder: C:\\Google Drive\\AIC Experiment Data\\DARP\\ITSC_instance_paper\\Results\\NYC\\start_18-00\\duration_30_min\\max_delay_10_min\\halns-ih\n",
      "10:04:14 [INFO] Loading json file from: C:\\Google Drive\\AIC Experiment Data\\DARP\\ITSC_instance_paper\\Results\\NYC\\start_18-00\\duration_30_min\\max_delay_10_min\\ih\\config.yaml-performance.json\n",
      "10:04:14 [INFO] Loading json file from: C:\\Google Drive\\AIC Experiment Data\\DARP\\ITSC_instance_paper\\Results\\NYC\\start_18-00\\duration_30_min\\max_delay_10_min\\ih\\config.yaml-solution.json\n",
      "10:04:14 [INFO] Loading experiment config from C:\\Google Drive\\AIC Experiment Data\\DARP\\ITSC_instance_paper\\Results\\NYC\\start_18-00\\duration_30_min\\max_delay_10_min\\ih\\config.yaml\n",
      "10:04:14 [INFO] Loading instance config from C:\\Google Drive\\AIC Experiment Data\\DARP\\ITSC_instance_paper\\Instances\\NYC\\instances\\start_18-00\\duration_30_min\\max_delay_10_min\\config.yaml\n",
      "10:04:14 [WARNING] No solution found in folder: C:\\Google Drive\\AIC Experiment Data\\DARP\\ITSC_instance_paper\\Results\\NYC\\start_18-00\\duration_30_min\\max_delay_10_min\\vga\n",
      "10:04:14 [WARNING] No solution found in folder: C:\\Google Drive\\AIC Experiment Data\\DARP\\ITSC_instance_paper\\Results\\NYC\\start_18-00\\duration_30_s\\max_delay_03_min\\halns\n",
      "10:04:14 [WARNING] No solution found in folder: C:\\Google Drive\\AIC Experiment Data\\DARP\\ITSC_instance_paper\\Results\\NYC\\start_18-00\\duration_30_s\\max_delay_03_min\\halns-ih\n",
      "10:04:14 [INFO] Loading json file from: C:\\Google Drive\\AIC Experiment Data\\DARP\\ITSC_instance_paper\\Results\\NYC\\start_18-00\\duration_30_s\\max_delay_03_min\\ih\\config.yaml-performance.json\n",
      "10:04:14 [INFO] Loading json file from: C:\\Google Drive\\AIC Experiment Data\\DARP\\ITSC_instance_paper\\Results\\NYC\\start_18-00\\duration_30_s\\max_delay_03_min\\ih\\config.yaml-solution.json\n",
      "10:04:14 [INFO] Loading experiment config from C:\\Google Drive\\AIC Experiment Data\\DARP\\ITSC_instance_paper\\Results\\NYC\\start_18-00\\duration_30_s\\max_delay_03_min\\ih\\config.yaml\n",
      "10:04:14 [INFO] Loading instance config from C:\\Google Drive\\AIC Experiment Data\\DARP\\ITSC_instance_paper\\Instances\\NYC\\instances\\start_18-00\\duration_30_s\\max_delay_03_min\\config.yaml\n",
      "10:04:14 [INFO] Loading json file from: C:\\Google Drive\\AIC Experiment Data\\DARP\\ITSC_instance_paper\\Results\\NYC\\start_18-00\\duration_30_s\\max_delay_03_min\\vga\\config.yaml-performance.json\n",
      "10:04:14 [INFO] Loading json file from: C:\\Google Drive\\AIC Experiment Data\\DARP\\ITSC_instance_paper\\Results\\NYC\\start_18-00\\duration_30_s\\max_delay_03_min\\vga\\config.yaml-solution.json\n",
      "10:04:14 [INFO] Loading experiment config from C:\\Google Drive\\AIC Experiment Data\\DARP\\ITSC_instance_paper\\Results\\NYC\\start_18-00\\duration_30_s\\max_delay_03_min\\vga\\config.yaml\n",
      "10:04:14 [INFO] Loading instance config from C:\\Google Drive\\AIC Experiment Data\\DARP\\ITSC_instance_paper\\Instances\\NYC\\instances\\start_18-00\\duration_30_s\\max_delay_03_min\\config.yaml\n",
      "10:04:14 [WARNING] No solution found in folder: C:\\Google Drive\\AIC Experiment Data\\DARP\\ITSC_instance_paper\\Results\\NYC\\start_18-00\\duration_30_s\\max_delay_05_min\\halns\n",
      "10:04:14 [WARNING] No solution found in folder: C:\\Google Drive\\AIC Experiment Data\\DARP\\ITSC_instance_paper\\Results\\NYC\\start_18-00\\duration_30_s\\max_delay_05_min\\halns-ih\n",
      "10:04:14 [INFO] Loading json file from: C:\\Google Drive\\AIC Experiment Data\\DARP\\ITSC_instance_paper\\Results\\NYC\\start_18-00\\duration_30_s\\max_delay_05_min\\ih\\config.yaml-performance.json\n",
      "10:04:14 [INFO] Loading json file from: C:\\Google Drive\\AIC Experiment Data\\DARP\\ITSC_instance_paper\\Results\\NYC\\start_18-00\\duration_30_s\\max_delay_05_min\\ih\\config.yaml-solution.json\n",
      "10:04:14 [INFO] Loading experiment config from C:\\Google Drive\\AIC Experiment Data\\DARP\\ITSC_instance_paper\\Results\\NYC\\start_18-00\\duration_30_s\\max_delay_05_min\\ih\\config.yaml\n",
      "10:04:14 [INFO] Loading instance config from C:\\Google Drive\\AIC Experiment Data\\DARP\\ITSC_instance_paper\\Instances\\NYC\\instances\\start_18-00\\duration_30_s\\max_delay_05_min\\config.yaml\n",
      "10:04:14 [INFO] Loading json file from: C:\\Google Drive\\AIC Experiment Data\\DARP\\ITSC_instance_paper\\Results\\NYC\\start_18-00\\duration_30_s\\max_delay_05_min\\vga\\config.yaml-performance.json\n",
      "10:04:14 [INFO] Loading json file from: C:\\Google Drive\\AIC Experiment Data\\DARP\\ITSC_instance_paper\\Results\\NYC\\start_18-00\\duration_30_s\\max_delay_05_min\\vga\\config.yaml-solution.json\n",
      "10:04:14 [INFO] Loading experiment config from C:\\Google Drive\\AIC Experiment Data\\DARP\\ITSC_instance_paper\\Results\\NYC\\start_18-00\\duration_30_s\\max_delay_05_min\\vga\\config.yaml\n",
      "10:04:14 [INFO] Loading instance config from C:\\Google Drive\\AIC Experiment Data\\DARP\\ITSC_instance_paper\\Instances\\NYC\\instances\\start_18-00\\duration_30_s\\max_delay_05_min\\config.yaml\n",
      "10:04:14 [WARNING] No solution found in folder: C:\\Google Drive\\AIC Experiment Data\\DARP\\ITSC_instance_paper\\Results\\NYC\\start_18-00\\duration_30_s\\max_delay_10_min\\halns\n",
      "10:04:14 [WARNING] No solution found in folder: C:\\Google Drive\\AIC Experiment Data\\DARP\\ITSC_instance_paper\\Results\\NYC\\start_18-00\\duration_30_s\\max_delay_10_min\\halns-ih\n",
      "10:04:14 [INFO] Loading json file from: C:\\Google Drive\\AIC Experiment Data\\DARP\\ITSC_instance_paper\\Results\\NYC\\start_18-00\\duration_30_s\\max_delay_10_min\\ih\\config.yaml-performance.json\n",
      "10:04:14 [INFO] Loading json file from: C:\\Google Drive\\AIC Experiment Data\\DARP\\ITSC_instance_paper\\Results\\NYC\\start_18-00\\duration_30_s\\max_delay_10_min\\ih\\config.yaml-solution.json\n",
      "10:04:14 [INFO] Loading experiment config from C:\\Google Drive\\AIC Experiment Data\\DARP\\ITSC_instance_paper\\Results\\NYC\\start_18-00\\duration_30_s\\max_delay_10_min\\ih\\config.yaml\n",
      "10:04:14 [INFO] Loading instance config from C:\\Google Drive\\AIC Experiment Data\\DARP\\ITSC_instance_paper\\Instances\\NYC\\instances\\start_18-00\\duration_30_s\\max_delay_10_min\\config.yaml\n",
      "10:04:14 [INFO] Loading json file from: C:\\Google Drive\\AIC Experiment Data\\DARP\\ITSC_instance_paper\\Results\\NYC\\start_18-00\\duration_30_s\\max_delay_10_min\\vga\\config.yaml-performance.json\n",
      "10:04:14 [INFO] Loading json file from: C:\\Google Drive\\AIC Experiment Data\\DARP\\ITSC_instance_paper\\Results\\NYC\\start_18-00\\duration_30_s\\max_delay_10_min\\vga\\config.yaml-solution.json\n",
      "10:04:14 [INFO] Loading experiment config from C:\\Google Drive\\AIC Experiment Data\\DARP\\ITSC_instance_paper\\Results\\NYC\\start_18-00\\duration_30_s\\max_delay_10_min\\vga\\config.yaml\n",
      "10:04:14 [INFO] Loading instance config from C:\\Google Drive\\AIC Experiment Data\\DARP\\ITSC_instance_paper\\Instances\\NYC\\instances\\start_18-00\\duration_30_s\\max_delay_10_min\\config.yaml\n",
      "10:04:14 [INFO] Loading aggregate stats in C:\\Google Drive\\AIC Experiment Data\\DARP\\ITSC_instance_paper\\Results\\Manhattan\n",
      "10:04:14 [WARNING] No solution found in folder: C:\\Google Drive\\AIC Experiment Data\\DARP\\ITSC_instance_paper\\Results\\Manhattan\\start_18-00\\duration_01_min\\max_delay_03_min\\halns\n",
      "10:04:14 [WARNING] No solution found in folder: C:\\Google Drive\\AIC Experiment Data\\DARP\\ITSC_instance_paper\\Results\\Manhattan\\start_18-00\\duration_01_min\\max_delay_03_min\\halns-ih\n",
      "10:04:14 [INFO] Loading json file from: C:\\Google Drive\\AIC Experiment Data\\DARP\\ITSC_instance_paper\\Results\\Manhattan\\start_18-00\\duration_01_min\\max_delay_03_min\\ih\\config.yaml-performance.json\n",
      "10:04:14 [INFO] Loading json file from: C:\\Google Drive\\AIC Experiment Data\\DARP\\ITSC_instance_paper\\Results\\Manhattan\\start_18-00\\duration_01_min\\max_delay_03_min\\ih\\config.yaml-solution.json\n",
      "10:04:14 [INFO] Loading experiment config from C:\\Google Drive\\AIC Experiment Data\\DARP\\ITSC_instance_paper\\Results\\Manhattan\\start_18-00\\duration_01_min\\max_delay_03_min\\ih\\config.yaml\n",
      "10:04:14 [INFO] Loading instance config from C:\\Google Drive\\AIC Experiment Data\\DARP\\ITSC_instance_paper\\Instances\\Manhattan\\instances\\start_18-00\\duration_01_min\\max_delay_03_min\\config.yaml\n",
      "10:04:14 [INFO] Loading json file from: C:\\Google Drive\\AIC Experiment Data\\DARP\\ITSC_instance_paper\\Results\\Manhattan\\start_18-00\\duration_01_min\\max_delay_03_min\\vga\\config.yaml-performance.json\n",
      "10:04:14 [INFO] Loading json file from: C:\\Google Drive\\AIC Experiment Data\\DARP\\ITSC_instance_paper\\Results\\Manhattan\\start_18-00\\duration_01_min\\max_delay_03_min\\vga\\config.yaml-solution.json\n",
      "10:04:14 [INFO] Loading experiment config from C:\\Google Drive\\AIC Experiment Data\\DARP\\ITSC_instance_paper\\Results\\Manhattan\\start_18-00\\duration_01_min\\max_delay_03_min\\vga\\config.yaml\n",
      "10:04:14 [INFO] Loading instance config from C:\\Google Drive\\AIC Experiment Data\\DARP\\ITSC_instance_paper\\Instances\\Manhattan\\instances\\start_18-00\\duration_01_min\\max_delay_03_min\\config.yaml\n",
      "10:04:14 [WARNING] No solution found in folder: C:\\Google Drive\\AIC Experiment Data\\DARP\\ITSC_instance_paper\\Results\\Manhattan\\start_18-00\\duration_01_min\\max_delay_05_min\\halns\n",
      "10:04:14 [WARNING] No solution found in folder: C:\\Google Drive\\AIC Experiment Data\\DARP\\ITSC_instance_paper\\Results\\Manhattan\\start_18-00\\duration_01_min\\max_delay_05_min\\halns-ih\n",
      "10:04:14 [INFO] Loading json file from: C:\\Google Drive\\AIC Experiment Data\\DARP\\ITSC_instance_paper\\Results\\Manhattan\\start_18-00\\duration_01_min\\max_delay_05_min\\ih\\config.yaml-performance.json\n",
      "10:04:14 [INFO] Loading json file from: C:\\Google Drive\\AIC Experiment Data\\DARP\\ITSC_instance_paper\\Results\\Manhattan\\start_18-00\\duration_01_min\\max_delay_05_min\\ih\\config.yaml-solution.json\n",
      "10:04:14 [INFO] Loading experiment config from C:\\Google Drive\\AIC Experiment Data\\DARP\\ITSC_instance_paper\\Results\\Manhattan\\start_18-00\\duration_01_min\\max_delay_05_min\\ih\\config.yaml\n",
      "10:04:14 [INFO] Loading instance config from C:\\Google Drive\\AIC Experiment Data\\DARP\\ITSC_instance_paper\\Instances\\Manhattan\\instances\\start_18-00\\duration_01_min\\max_delay_05_min\\config.yaml\n",
      "10:04:14 [INFO] Loading json file from: C:\\Google Drive\\AIC Experiment Data\\DARP\\ITSC_instance_paper\\Results\\Manhattan\\start_18-00\\duration_01_min\\max_delay_05_min\\vga\\config.yaml-performance.json\n",
      "10:04:14 [INFO] Loading json file from: C:\\Google Drive\\AIC Experiment Data\\DARP\\ITSC_instance_paper\\Results\\Manhattan\\start_18-00\\duration_01_min\\max_delay_05_min\\vga\\config.yaml-solution.json\n",
      "10:04:14 [INFO] Loading experiment config from C:\\Google Drive\\AIC Experiment Data\\DARP\\ITSC_instance_paper\\Results\\Manhattan\\start_18-00\\duration_01_min\\max_delay_05_min\\vga\\config.yaml\n",
      "10:04:14 [INFO] Loading instance config from C:\\Google Drive\\AIC Experiment Data\\DARP\\ITSC_instance_paper\\Instances\\Manhattan\\instances\\start_18-00\\duration_01_min\\max_delay_05_min\\config.yaml\n",
      "10:04:14 [WARNING] No solution found in folder: C:\\Google Drive\\AIC Experiment Data\\DARP\\ITSC_instance_paper\\Results\\Manhattan\\start_18-00\\duration_01_min\\max_delay_10_min\\halns\n",
      "10:04:14 [WARNING] No solution found in folder: C:\\Google Drive\\AIC Experiment Data\\DARP\\ITSC_instance_paper\\Results\\Manhattan\\start_18-00\\duration_01_min\\max_delay_10_min\\halns-ih\n",
      "10:04:14 [INFO] Loading json file from: C:\\Google Drive\\AIC Experiment Data\\DARP\\ITSC_instance_paper\\Results\\Manhattan\\start_18-00\\duration_01_min\\max_delay_10_min\\ih\\config.yaml-performance.json\n",
      "10:04:14 [INFO] Loading json file from: C:\\Google Drive\\AIC Experiment Data\\DARP\\ITSC_instance_paper\\Results\\Manhattan\\start_18-00\\duration_01_min\\max_delay_10_min\\ih\\config.yaml-solution.json\n",
      "10:04:14 [INFO] Loading experiment config from C:\\Google Drive\\AIC Experiment Data\\DARP\\ITSC_instance_paper\\Results\\Manhattan\\start_18-00\\duration_01_min\\max_delay_10_min\\ih\\config.yaml\n",
      "10:04:14 [INFO] Loading instance config from C:\\Google Drive\\AIC Experiment Data\\DARP\\ITSC_instance_paper\\Instances\\Manhattan\\instances\\start_18-00\\duration_01_min\\max_delay_10_min\\config.yaml\n",
      "10:04:14 [INFO] Loading json file from: C:\\Google Drive\\AIC Experiment Data\\DARP\\ITSC_instance_paper\\Results\\Manhattan\\start_18-00\\duration_01_min\\max_delay_10_min\\vga\\config.yaml-performance.json\n",
      "10:04:14 [INFO] Loading json file from: C:\\Google Drive\\AIC Experiment Data\\DARP\\ITSC_instance_paper\\Results\\Manhattan\\start_18-00\\duration_01_min\\max_delay_10_min\\vga\\config.yaml-solution.json\n",
      "10:04:14 [INFO] Loading experiment config from C:\\Google Drive\\AIC Experiment Data\\DARP\\ITSC_instance_paper\\Results\\Manhattan\\start_18-00\\duration_01_min\\max_delay_10_min\\vga\\config.yaml\n",
      "10:04:14 [INFO] Loading instance config from C:\\Google Drive\\AIC Experiment Data\\DARP\\ITSC_instance_paper\\Instances\\Manhattan\\instances\\start_18-00\\duration_01_min\\max_delay_10_min\\config.yaml\n",
      "10:04:14 [WARNING] No solution found in folder: C:\\Google Drive\\AIC Experiment Data\\DARP\\ITSC_instance_paper\\Results\\Manhattan\\start_18-00\\duration_02_h\\max_delay_03_min\\halns\n",
      "10:04:14 [WARNING] No solution found in folder: C:\\Google Drive\\AIC Experiment Data\\DARP\\ITSC_instance_paper\\Results\\Manhattan\\start_18-00\\duration_02_h\\max_delay_03_min\\halns-ih\n",
      "10:04:14 [INFO] Loading json file from: C:\\Google Drive\\AIC Experiment Data\\DARP\\ITSC_instance_paper\\Results\\Manhattan\\start_18-00\\duration_02_h\\max_delay_03_min\\ih\\config.yaml-performance.json\n",
      "10:04:14 [INFO] Loading json file from: C:\\Google Drive\\AIC Experiment Data\\DARP\\ITSC_instance_paper\\Results\\Manhattan\\start_18-00\\duration_02_h\\max_delay_03_min\\ih\\config.yaml-solution.json\n",
      "10:04:15 [INFO] Loading experiment config from C:\\Google Drive\\AIC Experiment Data\\DARP\\ITSC_instance_paper\\Results\\Manhattan\\start_18-00\\duration_02_h\\max_delay_03_min\\ih\\config.yaml\n",
      "10:04:15 [INFO] Loading instance config from C:\\Google Drive\\AIC Experiment Data\\DARP\\ITSC_instance_paper\\Instances\\Manhattan\\instances\\start_18-00\\duration_02_h\\max_delay_03_min\\config.yaml\n",
      "10:04:15 [WARNING] No solution found in folder: C:\\Google Drive\\AIC Experiment Data\\DARP\\ITSC_instance_paper\\Results\\Manhattan\\start_18-00\\duration_02_h\\max_delay_03_min\\vga\n",
      "10:04:15 [WARNING] No solution found in folder: C:\\Google Drive\\AIC Experiment Data\\DARP\\ITSC_instance_paper\\Results\\Manhattan\\start_18-00\\duration_02_h\\max_delay_05_min\\halns\n",
      "10:04:15 [WARNING] No solution found in folder: C:\\Google Drive\\AIC Experiment Data\\DARP\\ITSC_instance_paper\\Results\\Manhattan\\start_18-00\\duration_02_h\\max_delay_05_min\\halns-ih\n",
      "10:04:15 [INFO] Loading json file from: C:\\Google Drive\\AIC Experiment Data\\DARP\\ITSC_instance_paper\\Results\\Manhattan\\start_18-00\\duration_02_h\\max_delay_05_min\\ih\\config.yaml-performance.json\n",
      "10:04:15 [INFO] Loading json file from: C:\\Google Drive\\AIC Experiment Data\\DARP\\ITSC_instance_paper\\Results\\Manhattan\\start_18-00\\duration_02_h\\max_delay_05_min\\ih\\config.yaml-solution.json\n",
      "10:04:15 [INFO] Loading experiment config from C:\\Google Drive\\AIC Experiment Data\\DARP\\ITSC_instance_paper\\Results\\Manhattan\\start_18-00\\duration_02_h\\max_delay_05_min\\ih\\config.yaml\n",
      "10:04:15 [INFO] Loading instance config from C:\\Google Drive\\AIC Experiment Data\\DARP\\ITSC_instance_paper\\Instances\\Manhattan\\instances\\start_18-00\\duration_02_h\\max_delay_05_min\\config.yaml\n",
      "10:04:15 [WARNING] No solution found in folder: C:\\Google Drive\\AIC Experiment Data\\DARP\\ITSC_instance_paper\\Results\\Manhattan\\start_18-00\\duration_02_h\\max_delay_05_min\\vga\n",
      "10:04:15 [WARNING] No solution found in folder: C:\\Google Drive\\AIC Experiment Data\\DARP\\ITSC_instance_paper\\Results\\Manhattan\\start_18-00\\duration_02_h\\max_delay_10_min\\halns\n",
      "10:04:15 [WARNING] No solution found in folder: C:\\Google Drive\\AIC Experiment Data\\DARP\\ITSC_instance_paper\\Results\\Manhattan\\start_18-00\\duration_02_h\\max_delay_10_min\\halns-ih\n",
      "10:04:15 [INFO] Loading json file from: C:\\Google Drive\\AIC Experiment Data\\DARP\\ITSC_instance_paper\\Results\\Manhattan\\start_18-00\\duration_02_h\\max_delay_10_min\\ih\\config.yaml-performance.json\n",
      "10:04:15 [INFO] Loading json file from: C:\\Google Drive\\AIC Experiment Data\\DARP\\ITSC_instance_paper\\Results\\Manhattan\\start_18-00\\duration_02_h\\max_delay_10_min\\ih\\config.yaml-solution.json\n",
      "10:04:16 [INFO] Loading experiment config from C:\\Google Drive\\AIC Experiment Data\\DARP\\ITSC_instance_paper\\Results\\Manhattan\\start_18-00\\duration_02_h\\max_delay_10_min\\ih\\config.yaml\n",
      "10:04:16 [INFO] Loading instance config from C:\\Google Drive\\AIC Experiment Data\\DARP\\ITSC_instance_paper\\Instances\\Manhattan\\instances\\start_18-00\\duration_02_h\\max_delay_10_min\\config.yaml\n",
      "10:04:16 [WARNING] No solution found in folder: C:\\Google Drive\\AIC Experiment Data\\DARP\\ITSC_instance_paper\\Results\\Manhattan\\start_18-00\\duration_02_h\\max_delay_10_min\\vga\n",
      "10:04:16 [WARNING] No solution found in folder: C:\\Google Drive\\AIC Experiment Data\\DARP\\ITSC_instance_paper\\Results\\Manhattan\\start_18-00\\duration_02_min\\max_delay_03_min\\halns\n",
      "10:04:16 [WARNING] No solution found in folder: C:\\Google Drive\\AIC Experiment Data\\DARP\\ITSC_instance_paper\\Results\\Manhattan\\start_18-00\\duration_02_min\\max_delay_03_min\\halns-ih\n",
      "10:04:16 [INFO] Loading json file from: C:\\Google Drive\\AIC Experiment Data\\DARP\\ITSC_instance_paper\\Results\\Manhattan\\start_18-00\\duration_02_min\\max_delay_03_min\\ih\\config.yaml-performance.json\n",
      "10:04:16 [INFO] Loading json file from: C:\\Google Drive\\AIC Experiment Data\\DARP\\ITSC_instance_paper\\Results\\Manhattan\\start_18-00\\duration_02_min\\max_delay_03_min\\ih\\config.yaml-solution.json\n",
      "10:04:16 [INFO] Loading experiment config from C:\\Google Drive\\AIC Experiment Data\\DARP\\ITSC_instance_paper\\Results\\Manhattan\\start_18-00\\duration_02_min\\max_delay_03_min\\ih\\config.yaml\n",
      "10:04:16 [INFO] Loading instance config from C:\\Google Drive\\AIC Experiment Data\\DARP\\ITSC_instance_paper\\Instances\\Manhattan\\instances\\start_18-00\\duration_02_min\\max_delay_03_min\\config.yaml\n",
      "10:04:16 [INFO] Loading json file from: C:\\Google Drive\\AIC Experiment Data\\DARP\\ITSC_instance_paper\\Results\\Manhattan\\start_18-00\\duration_02_min\\max_delay_03_min\\vga\\config.yaml-performance.json\n",
      "10:04:16 [INFO] Loading json file from: C:\\Google Drive\\AIC Experiment Data\\DARP\\ITSC_instance_paper\\Results\\Manhattan\\start_18-00\\duration_02_min\\max_delay_03_min\\vga\\config.yaml-solution.json\n",
      "10:04:16 [INFO] Loading experiment config from C:\\Google Drive\\AIC Experiment Data\\DARP\\ITSC_instance_paper\\Results\\Manhattan\\start_18-00\\duration_02_min\\max_delay_03_min\\vga\\config.yaml\n",
      "10:04:16 [INFO] Loading instance config from C:\\Google Drive\\AIC Experiment Data\\DARP\\ITSC_instance_paper\\Instances\\Manhattan\\instances\\start_18-00\\duration_02_min\\max_delay_03_min\\config.yaml\n",
      "10:04:16 [WARNING] No solution found in folder: C:\\Google Drive\\AIC Experiment Data\\DARP\\ITSC_instance_paper\\Results\\Manhattan\\start_18-00\\duration_02_min\\max_delay_05_min\\halns\n",
      "10:04:16 [WARNING] No solution found in folder: C:\\Google Drive\\AIC Experiment Data\\DARP\\ITSC_instance_paper\\Results\\Manhattan\\start_18-00\\duration_02_min\\max_delay_05_min\\halns-ih\n",
      "10:04:16 [INFO] Loading json file from: C:\\Google Drive\\AIC Experiment Data\\DARP\\ITSC_instance_paper\\Results\\Manhattan\\start_18-00\\duration_02_min\\max_delay_05_min\\ih\\config.yaml-performance.json\n",
      "10:04:16 [INFO] Loading json file from: C:\\Google Drive\\AIC Experiment Data\\DARP\\ITSC_instance_paper\\Results\\Manhattan\\start_18-00\\duration_02_min\\max_delay_05_min\\ih\\config.yaml-solution.json\n",
      "10:04:16 [INFO] Loading experiment config from C:\\Google Drive\\AIC Experiment Data\\DARP\\ITSC_instance_paper\\Results\\Manhattan\\start_18-00\\duration_02_min\\max_delay_05_min\\ih\\config.yaml\n",
      "10:04:16 [INFO] Loading instance config from C:\\Google Drive\\AIC Experiment Data\\DARP\\ITSC_instance_paper\\Instances\\Manhattan\\instances\\start_18-00\\duration_02_min\\max_delay_05_min\\config.yaml\n",
      "10:04:16 [INFO] Loading json file from: C:\\Google Drive\\AIC Experiment Data\\DARP\\ITSC_instance_paper\\Results\\Manhattan\\start_18-00\\duration_02_min\\max_delay_05_min\\vga\\config.yaml-performance.json\n",
      "10:04:16 [INFO] Loading json file from: C:\\Google Drive\\AIC Experiment Data\\DARP\\ITSC_instance_paper\\Results\\Manhattan\\start_18-00\\duration_02_min\\max_delay_05_min\\vga\\config.yaml-solution.json\n",
      "10:04:16 [INFO] Loading experiment config from C:\\Google Drive\\AIC Experiment Data\\DARP\\ITSC_instance_paper\\Results\\Manhattan\\start_18-00\\duration_02_min\\max_delay_05_min\\vga\\config.yaml\n",
      "10:04:16 [INFO] Loading instance config from C:\\Google Drive\\AIC Experiment Data\\DARP\\ITSC_instance_paper\\Instances\\Manhattan\\instances\\start_18-00\\duration_02_min\\max_delay_05_min\\config.yaml\n",
      "10:04:16 [WARNING] No solution found in folder: C:\\Google Drive\\AIC Experiment Data\\DARP\\ITSC_instance_paper\\Results\\Manhattan\\start_18-00\\duration_02_min\\max_delay_10_min\\halns\n",
      "10:04:16 [WARNING] No solution found in folder: C:\\Google Drive\\AIC Experiment Data\\DARP\\ITSC_instance_paper\\Results\\Manhattan\\start_18-00\\duration_02_min\\max_delay_10_min\\halns-ih\n",
      "10:04:16 [INFO] Loading json file from: C:\\Google Drive\\AIC Experiment Data\\DARP\\ITSC_instance_paper\\Results\\Manhattan\\start_18-00\\duration_02_min\\max_delay_10_min\\ih\\config.yaml-performance.json\n",
      "10:04:16 [INFO] Loading json file from: C:\\Google Drive\\AIC Experiment Data\\DARP\\ITSC_instance_paper\\Results\\Manhattan\\start_18-00\\duration_02_min\\max_delay_10_min\\ih\\config.yaml-solution.json\n",
      "10:04:16 [INFO] Loading experiment config from C:\\Google Drive\\AIC Experiment Data\\DARP\\ITSC_instance_paper\\Results\\Manhattan\\start_18-00\\duration_02_min\\max_delay_10_min\\ih\\config.yaml\n",
      "10:04:16 [INFO] Loading instance config from C:\\Google Drive\\AIC Experiment Data\\DARP\\ITSC_instance_paper\\Instances\\Manhattan\\instances\\start_18-00\\duration_02_min\\max_delay_10_min\\config.yaml\n",
      "10:04:16 [WARNING] No solution found in folder: C:\\Google Drive\\AIC Experiment Data\\DARP\\ITSC_instance_paper\\Results\\Manhattan\\start_18-00\\duration_02_min\\max_delay_10_min\\vga\n",
      "10:04:16 [WARNING] No solution found in folder: C:\\Google Drive\\AIC Experiment Data\\DARP\\ITSC_instance_paper\\Results\\Manhattan\\start_18-00\\duration_05_min\\max_delay_03_min\\halns\n",
      "10:04:16 [WARNING] No solution found in folder: C:\\Google Drive\\AIC Experiment Data\\DARP\\ITSC_instance_paper\\Results\\Manhattan\\start_18-00\\duration_05_min\\max_delay_03_min\\halns-ih\n",
      "10:04:16 [INFO] Loading json file from: C:\\Google Drive\\AIC Experiment Data\\DARP\\ITSC_instance_paper\\Results\\Manhattan\\start_18-00\\duration_05_min\\max_delay_03_min\\ih\\config.yaml-performance.json\n",
      "10:04:16 [INFO] Loading json file from: C:\\Google Drive\\AIC Experiment Data\\DARP\\ITSC_instance_paper\\Results\\Manhattan\\start_18-00\\duration_05_min\\max_delay_03_min\\ih\\config.yaml-solution.json\n",
      "10:04:16 [INFO] Loading experiment config from C:\\Google Drive\\AIC Experiment Data\\DARP\\ITSC_instance_paper\\Results\\Manhattan\\start_18-00\\duration_05_min\\max_delay_03_min\\ih\\config.yaml\n",
      "10:04:16 [INFO] Loading instance config from C:\\Google Drive\\AIC Experiment Data\\DARP\\ITSC_instance_paper\\Instances\\Manhattan\\instances\\start_18-00\\duration_05_min\\max_delay_03_min\\config.yaml\n",
      "10:04:16 [WARNING] No solution found in folder: C:\\Google Drive\\AIC Experiment Data\\DARP\\ITSC_instance_paper\\Results\\Manhattan\\start_18-00\\duration_05_min\\max_delay_03_min\\vga\n",
      "10:04:16 [WARNING] No solution found in folder: C:\\Google Drive\\AIC Experiment Data\\DARP\\ITSC_instance_paper\\Results\\Manhattan\\start_18-00\\duration_05_min\\max_delay_05_min\\halns\n",
      "10:04:16 [WARNING] No solution found in folder: C:\\Google Drive\\AIC Experiment Data\\DARP\\ITSC_instance_paper\\Results\\Manhattan\\start_18-00\\duration_05_min\\max_delay_05_min\\halns-ih\n",
      "10:04:16 [INFO] Loading json file from: C:\\Google Drive\\AIC Experiment Data\\DARP\\ITSC_instance_paper\\Results\\Manhattan\\start_18-00\\duration_05_min\\max_delay_05_min\\ih\\config.yaml-performance.json\n",
      "10:04:16 [INFO] Loading json file from: C:\\Google Drive\\AIC Experiment Data\\DARP\\ITSC_instance_paper\\Results\\Manhattan\\start_18-00\\duration_05_min\\max_delay_05_min\\ih\\config.yaml-solution.json\n",
      "10:04:16 [INFO] Loading experiment config from C:\\Google Drive\\AIC Experiment Data\\DARP\\ITSC_instance_paper\\Results\\Manhattan\\start_18-00\\duration_05_min\\max_delay_05_min\\ih\\config.yaml\n",
      "10:04:16 [INFO] Loading instance config from C:\\Google Drive\\AIC Experiment Data\\DARP\\ITSC_instance_paper\\Instances\\Manhattan\\instances\\start_18-00\\duration_05_min\\max_delay_05_min\\config.yaml\n",
      "10:04:16 [WARNING] No solution found in folder: C:\\Google Drive\\AIC Experiment Data\\DARP\\ITSC_instance_paper\\Results\\Manhattan\\start_18-00\\duration_05_min\\max_delay_05_min\\vga\n",
      "10:04:16 [WARNING] No solution found in folder: C:\\Google Drive\\AIC Experiment Data\\DARP\\ITSC_instance_paper\\Results\\Manhattan\\start_18-00\\duration_05_min\\max_delay_10_min\\halns\n",
      "10:04:16 [WARNING] No solution found in folder: C:\\Google Drive\\AIC Experiment Data\\DARP\\ITSC_instance_paper\\Results\\Manhattan\\start_18-00\\duration_05_min\\max_delay_10_min\\halns-ih\n",
      "10:04:16 [INFO] Loading json file from: C:\\Google Drive\\AIC Experiment Data\\DARP\\ITSC_instance_paper\\Results\\Manhattan\\start_18-00\\duration_05_min\\max_delay_10_min\\ih\\config.yaml-performance.json\n",
      "10:04:16 [INFO] Loading json file from: C:\\Google Drive\\AIC Experiment Data\\DARP\\ITSC_instance_paper\\Results\\Manhattan\\start_18-00\\duration_05_min\\max_delay_10_min\\ih\\config.yaml-solution.json\n",
      "10:04:16 [INFO] Loading experiment config from C:\\Google Drive\\AIC Experiment Data\\DARP\\ITSC_instance_paper\\Results\\Manhattan\\start_18-00\\duration_05_min\\max_delay_10_min\\ih\\config.yaml\n",
      "10:04:16 [INFO] Loading instance config from C:\\Google Drive\\AIC Experiment Data\\DARP\\ITSC_instance_paper\\Instances\\Manhattan\\instances\\start_18-00\\duration_05_min\\max_delay_10_min\\config.yaml\n",
      "10:04:16 [WARNING] No solution found in folder: C:\\Google Drive\\AIC Experiment Data\\DARP\\ITSC_instance_paper\\Results\\Manhattan\\start_18-00\\duration_05_min\\max_delay_10_min\\vga\n",
      "10:04:16 [WARNING] No solution found in folder: C:\\Google Drive\\AIC Experiment Data\\DARP\\ITSC_instance_paper\\Results\\Manhattan\\start_18-00\\duration_15_min\\max_delay_03_min\\halns\n",
      "10:04:16 [WARNING] No solution found in folder: C:\\Google Drive\\AIC Experiment Data\\DARP\\ITSC_instance_paper\\Results\\Manhattan\\start_18-00\\duration_15_min\\max_delay_03_min\\halns-ih\n",
      "10:04:16 [INFO] Loading json file from: C:\\Google Drive\\AIC Experiment Data\\DARP\\ITSC_instance_paper\\Results\\Manhattan\\start_18-00\\duration_15_min\\max_delay_03_min\\ih\\config.yaml-performance.json\n",
      "10:04:16 [INFO] Loading json file from: C:\\Google Drive\\AIC Experiment Data\\DARP\\ITSC_instance_paper\\Results\\Manhattan\\start_18-00\\duration_15_min\\max_delay_03_min\\ih\\config.yaml-solution.json\n",
      "10:04:16 [INFO] Loading experiment config from C:\\Google Drive\\AIC Experiment Data\\DARP\\ITSC_instance_paper\\Results\\Manhattan\\start_18-00\\duration_15_min\\max_delay_03_min\\ih\\config.yaml\n",
      "10:04:16 [INFO] Loading instance config from C:\\Google Drive\\AIC Experiment Data\\DARP\\ITSC_instance_paper\\Instances\\Manhattan\\instances\\start_18-00\\duration_15_min\\max_delay_03_min\\config.yaml\n",
      "10:04:16 [WARNING] No solution found in folder: C:\\Google Drive\\AIC Experiment Data\\DARP\\ITSC_instance_paper\\Results\\Manhattan\\start_18-00\\duration_15_min\\max_delay_03_min\\vga\n",
      "10:04:16 [WARNING] No solution found in folder: C:\\Google Drive\\AIC Experiment Data\\DARP\\ITSC_instance_paper\\Results\\Manhattan\\start_18-00\\duration_15_min\\max_delay_05_min\\halns\n",
      "10:04:16 [WARNING] No solution found in folder: C:\\Google Drive\\AIC Experiment Data\\DARP\\ITSC_instance_paper\\Results\\Manhattan\\start_18-00\\duration_15_min\\max_delay_05_min\\halns-ih\n",
      "10:04:16 [INFO] Loading json file from: C:\\Google Drive\\AIC Experiment Data\\DARP\\ITSC_instance_paper\\Results\\Manhattan\\start_18-00\\duration_15_min\\max_delay_05_min\\ih\\config.yaml-performance.json\n",
      "10:04:16 [INFO] Loading json file from: C:\\Google Drive\\AIC Experiment Data\\DARP\\ITSC_instance_paper\\Results\\Manhattan\\start_18-00\\duration_15_min\\max_delay_05_min\\ih\\config.yaml-solution.json\n",
      "10:04:16 [INFO] Loading experiment config from C:\\Google Drive\\AIC Experiment Data\\DARP\\ITSC_instance_paper\\Results\\Manhattan\\start_18-00\\duration_15_min\\max_delay_05_min\\ih\\config.yaml\n",
      "10:04:16 [INFO] Loading instance config from C:\\Google Drive\\AIC Experiment Data\\DARP\\ITSC_instance_paper\\Instances\\Manhattan\\instances\\start_18-00\\duration_15_min\\max_delay_05_min\\config.yaml\n",
      "10:04:16 [WARNING] No solution found in folder: C:\\Google Drive\\AIC Experiment Data\\DARP\\ITSC_instance_paper\\Results\\Manhattan\\start_18-00\\duration_15_min\\max_delay_05_min\\vga\n",
      "10:04:16 [WARNING] No solution found in folder: C:\\Google Drive\\AIC Experiment Data\\DARP\\ITSC_instance_paper\\Results\\Manhattan\\start_18-00\\duration_15_min\\max_delay_10_min\\halns\n",
      "10:04:16 [WARNING] No solution found in folder: C:\\Google Drive\\AIC Experiment Data\\DARP\\ITSC_instance_paper\\Results\\Manhattan\\start_18-00\\duration_15_min\\max_delay_10_min\\halns-ih\n",
      "10:04:16 [INFO] Loading json file from: C:\\Google Drive\\AIC Experiment Data\\DARP\\ITSC_instance_paper\\Results\\Manhattan\\start_18-00\\duration_15_min\\max_delay_10_min\\ih\\config.yaml-performance.json\n",
      "10:04:16 [INFO] Loading json file from: C:\\Google Drive\\AIC Experiment Data\\DARP\\ITSC_instance_paper\\Results\\Manhattan\\start_18-00\\duration_15_min\\max_delay_10_min\\ih\\config.yaml-solution.json\n",
      "10:04:16 [INFO] Loading experiment config from C:\\Google Drive\\AIC Experiment Data\\DARP\\ITSC_instance_paper\\Results\\Manhattan\\start_18-00\\duration_15_min\\max_delay_10_min\\ih\\config.yaml\n",
      "10:04:16 [INFO] Loading instance config from C:\\Google Drive\\AIC Experiment Data\\DARP\\ITSC_instance_paper\\Instances\\Manhattan\\instances\\start_18-00\\duration_15_min\\max_delay_10_min\\config.yaml\n",
      "10:04:16 [WARNING] No solution found in folder: C:\\Google Drive\\AIC Experiment Data\\DARP\\ITSC_instance_paper\\Results\\Manhattan\\start_18-00\\duration_15_min\\max_delay_10_min\\vga\n",
      "10:04:16 [WARNING] No solution found in folder: C:\\Google Drive\\AIC Experiment Data\\DARP\\ITSC_instance_paper\\Results\\Manhattan\\start_18-00\\duration_16_h\\max_delay_03_min\\halns\n",
      "10:04:16 [WARNING] No solution found in folder: C:\\Google Drive\\AIC Experiment Data\\DARP\\ITSC_instance_paper\\Results\\Manhattan\\start_18-00\\duration_16_h\\max_delay_03_min\\halns-ih\n",
      "10:04:16 [INFO] Loading json file from: C:\\Google Drive\\AIC Experiment Data\\DARP\\ITSC_instance_paper\\Results\\Manhattan\\start_18-00\\duration_16_h\\max_delay_03_min\\ih\\config.yaml-performance.json\n",
      "10:04:16 [INFO] Loading json file from: C:\\Google Drive\\AIC Experiment Data\\DARP\\ITSC_instance_paper\\Results\\Manhattan\\start_18-00\\duration_16_h\\max_delay_03_min\\ih\\config.yaml-solution.json\n",
      "10:04:17 [INFO] Loading experiment config from C:\\Google Drive\\AIC Experiment Data\\DARP\\ITSC_instance_paper\\Results\\Manhattan\\start_18-00\\duration_16_h\\max_delay_03_min\\ih\\config.yaml\n",
      "10:04:17 [INFO] Loading instance config from C:\\Google Drive\\AIC Experiment Data\\DARP\\ITSC_instance_paper\\Instances\\Manhattan\\instances\\start_18-00\\duration_16_h\\max_delay_03_min\\config.yaml\n",
      "10:04:17 [WARNING] No solution found in folder: C:\\Google Drive\\AIC Experiment Data\\DARP\\ITSC_instance_paper\\Results\\Manhattan\\start_18-00\\duration_16_h\\max_delay_03_min\\vga\n",
      "10:04:17 [WARNING] No solution found in folder: C:\\Google Drive\\AIC Experiment Data\\DARP\\ITSC_instance_paper\\Results\\Manhattan\\start_18-00\\duration_16_h\\max_delay_05_min\\halns\n",
      "10:04:17 [WARNING] No solution found in folder: C:\\Google Drive\\AIC Experiment Data\\DARP\\ITSC_instance_paper\\Results\\Manhattan\\start_18-00\\duration_16_h\\max_delay_05_min\\halns-ih\n",
      "10:04:17 [INFO] Loading json file from: C:\\Google Drive\\AIC Experiment Data\\DARP\\ITSC_instance_paper\\Results\\Manhattan\\start_18-00\\duration_16_h\\max_delay_05_min\\ih\\config.yaml-performance.json\n",
      "10:04:17 [INFO] Loading json file from: C:\\Google Drive\\AIC Experiment Data\\DARP\\ITSC_instance_paper\\Results\\Manhattan\\start_18-00\\duration_16_h\\max_delay_05_min\\ih\\config.yaml-solution.json\n",
      "10:04:18 [INFO] Loading experiment config from C:\\Google Drive\\AIC Experiment Data\\DARP\\ITSC_instance_paper\\Results\\Manhattan\\start_18-00\\duration_16_h\\max_delay_05_min\\ih\\config.yaml\n",
      "10:04:18 [INFO] Loading instance config from C:\\Google Drive\\AIC Experiment Data\\DARP\\ITSC_instance_paper\\Instances\\Manhattan\\instances\\start_18-00\\duration_16_h\\max_delay_05_min\\config.yaml\n",
      "10:04:18 [WARNING] No solution found in folder: C:\\Google Drive\\AIC Experiment Data\\DARP\\ITSC_instance_paper\\Results\\Manhattan\\start_18-00\\duration_16_h\\max_delay_05_min\\vga\n",
      "10:04:18 [WARNING] No solution found in folder: C:\\Google Drive\\AIC Experiment Data\\DARP\\ITSC_instance_paper\\Results\\Manhattan\\start_18-00\\duration_16_h\\max_delay_10_min\\halns\n",
      "10:04:18 [WARNING] No solution found in folder: C:\\Google Drive\\AIC Experiment Data\\DARP\\ITSC_instance_paper\\Results\\Manhattan\\start_18-00\\duration_16_h\\max_delay_10_min\\halns-ih\n",
      "10:04:18 [INFO] Loading json file from: C:\\Google Drive\\AIC Experiment Data\\DARP\\ITSC_instance_paper\\Results\\Manhattan\\start_18-00\\duration_16_h\\max_delay_10_min\\ih\\config.yaml-performance.json\n",
      "10:04:18 [INFO] Loading json file from: C:\\Google Drive\\AIC Experiment Data\\DARP\\ITSC_instance_paper\\Results\\Manhattan\\start_18-00\\duration_16_h\\max_delay_10_min\\ih\\config.yaml-solution.json\n",
      "10:04:19 [INFO] Loading experiment config from C:\\Google Drive\\AIC Experiment Data\\DARP\\ITSC_instance_paper\\Results\\Manhattan\\start_18-00\\duration_16_h\\max_delay_10_min\\ih\\config.yaml\n",
      "10:04:19 [INFO] Loading instance config from C:\\Google Drive\\AIC Experiment Data\\DARP\\ITSC_instance_paper\\Instances\\Manhattan\\instances\\start_18-00\\duration_16_h\\max_delay_10_min\\config.yaml\n",
      "10:04:19 [WARNING] No solution found in folder: C:\\Google Drive\\AIC Experiment Data\\DARP\\ITSC_instance_paper\\Results\\Manhattan\\start_18-00\\duration_16_h\\max_delay_10_min\\vga\n",
      "10:04:19 [WARNING] No solution found in folder: C:\\Google Drive\\AIC Experiment Data\\DARP\\ITSC_instance_paper\\Results\\Manhattan\\start_18-00\\duration_30_min\\max_delay_03_min\\halns\n",
      "10:04:19 [WARNING] No solution found in folder: C:\\Google Drive\\AIC Experiment Data\\DARP\\ITSC_instance_paper\\Results\\Manhattan\\start_18-00\\duration_30_min\\max_delay_03_min\\halns-ih\n",
      "10:04:19 [INFO] Loading json file from: C:\\Google Drive\\AIC Experiment Data\\DARP\\ITSC_instance_paper\\Results\\Manhattan\\start_18-00\\duration_30_min\\max_delay_03_min\\ih\\config.yaml-performance.json\n",
      "10:04:19 [INFO] Loading json file from: C:\\Google Drive\\AIC Experiment Data\\DARP\\ITSC_instance_paper\\Results\\Manhattan\\start_18-00\\duration_30_min\\max_delay_03_min\\ih\\config.yaml-solution.json\n",
      "10:04:19 [INFO] Loading experiment config from C:\\Google Drive\\AIC Experiment Data\\DARP\\ITSC_instance_paper\\Results\\Manhattan\\start_18-00\\duration_30_min\\max_delay_03_min\\ih\\config.yaml\n",
      "10:04:19 [INFO] Loading instance config from C:\\Google Drive\\AIC Experiment Data\\DARP\\ITSC_instance_paper\\Instances\\Manhattan\\instances\\start_18-00\\duration_30_min\\max_delay_03_min\\config.yaml\n",
      "10:04:19 [WARNING] No solution found in folder: C:\\Google Drive\\AIC Experiment Data\\DARP\\ITSC_instance_paper\\Results\\Manhattan\\start_18-00\\duration_30_min\\max_delay_03_min\\vga\n",
      "10:04:19 [WARNING] No solution found in folder: C:\\Google Drive\\AIC Experiment Data\\DARP\\ITSC_instance_paper\\Results\\Manhattan\\start_18-00\\duration_30_min\\max_delay_05_min\\halns\n",
      "10:04:19 [WARNING] No solution found in folder: C:\\Google Drive\\AIC Experiment Data\\DARP\\ITSC_instance_paper\\Results\\Manhattan\\start_18-00\\duration_30_min\\max_delay_05_min\\halns-ih\n",
      "10:04:19 [INFO] Loading json file from: C:\\Google Drive\\AIC Experiment Data\\DARP\\ITSC_instance_paper\\Results\\Manhattan\\start_18-00\\duration_30_min\\max_delay_05_min\\ih\\config.yaml-performance.json\n",
      "10:04:19 [INFO] Loading json file from: C:\\Google Drive\\AIC Experiment Data\\DARP\\ITSC_instance_paper\\Results\\Manhattan\\start_18-00\\duration_30_min\\max_delay_05_min\\ih\\config.yaml-solution.json\n",
      "10:04:19 [INFO] Loading experiment config from C:\\Google Drive\\AIC Experiment Data\\DARP\\ITSC_instance_paper\\Results\\Manhattan\\start_18-00\\duration_30_min\\max_delay_05_min\\ih\\config.yaml\n",
      "10:04:19 [INFO] Loading instance config from C:\\Google Drive\\AIC Experiment Data\\DARP\\ITSC_instance_paper\\Instances\\Manhattan\\instances\\start_18-00\\duration_30_min\\max_delay_05_min\\config.yaml\n",
      "10:04:19 [WARNING] No solution found in folder: C:\\Google Drive\\AIC Experiment Data\\DARP\\ITSC_instance_paper\\Results\\Manhattan\\start_18-00\\duration_30_min\\max_delay_05_min\\vga\n",
      "10:04:19 [WARNING] No solution found in folder: C:\\Google Drive\\AIC Experiment Data\\DARP\\ITSC_instance_paper\\Results\\Manhattan\\start_18-00\\duration_30_min\\max_delay_10_min\\halns\n",
      "10:04:19 [WARNING] No solution found in folder: C:\\Google Drive\\AIC Experiment Data\\DARP\\ITSC_instance_paper\\Results\\Manhattan\\start_18-00\\duration_30_min\\max_delay_10_min\\halns-ih\n",
      "10:04:19 [INFO] Loading json file from: C:\\Google Drive\\AIC Experiment Data\\DARP\\ITSC_instance_paper\\Results\\Manhattan\\start_18-00\\duration_30_min\\max_delay_10_min\\ih\\config.yaml-performance.json\n",
      "10:04:19 [INFO] Loading json file from: C:\\Google Drive\\AIC Experiment Data\\DARP\\ITSC_instance_paper\\Results\\Manhattan\\start_18-00\\duration_30_min\\max_delay_10_min\\ih\\config.yaml-solution.json\n",
      "10:04:19 [INFO] Loading experiment config from C:\\Google Drive\\AIC Experiment Data\\DARP\\ITSC_instance_paper\\Results\\Manhattan\\start_18-00\\duration_30_min\\max_delay_10_min\\ih\\config.yaml\n",
      "10:04:19 [INFO] Loading instance config from C:\\Google Drive\\AIC Experiment Data\\DARP\\ITSC_instance_paper\\Instances\\Manhattan\\instances\\start_18-00\\duration_30_min\\max_delay_10_min\\config.yaml\n",
      "10:04:19 [WARNING] No solution found in folder: C:\\Google Drive\\AIC Experiment Data\\DARP\\ITSC_instance_paper\\Results\\Manhattan\\start_18-00\\duration_30_min\\max_delay_10_min\\vga\n",
      "10:04:19 [WARNING] No solution found in folder: C:\\Google Drive\\AIC Experiment Data\\DARP\\ITSC_instance_paper\\Results\\Manhattan\\start_18-00\\duration_30_s\\max_delay_03_min\\halns\n",
      "10:04:19 [WARNING] No solution found in folder: C:\\Google Drive\\AIC Experiment Data\\DARP\\ITSC_instance_paper\\Results\\Manhattan\\start_18-00\\duration_30_s\\max_delay_03_min\\halns-ih\n",
      "10:04:19 [INFO] Loading json file from: C:\\Google Drive\\AIC Experiment Data\\DARP\\ITSC_instance_paper\\Results\\Manhattan\\start_18-00\\duration_30_s\\max_delay_03_min\\ih\\config.yaml-performance.json\n",
      "10:04:19 [INFO] Loading json file from: C:\\Google Drive\\AIC Experiment Data\\DARP\\ITSC_instance_paper\\Results\\Manhattan\\start_18-00\\duration_30_s\\max_delay_03_min\\ih\\config.yaml-solution.json\n",
      "10:04:19 [INFO] Loading experiment config from C:\\Google Drive\\AIC Experiment Data\\DARP\\ITSC_instance_paper\\Results\\Manhattan\\start_18-00\\duration_30_s\\max_delay_03_min\\ih\\config.yaml\n",
      "10:04:19 [INFO] Loading instance config from C:\\Google Drive\\AIC Experiment Data\\DARP\\ITSC_instance_paper\\Instances\\Manhattan\\instances\\start_18-00\\duration_30_s\\max_delay_03_min\\config.yaml\n",
      "10:04:19 [INFO] Loading json file from: C:\\Google Drive\\AIC Experiment Data\\DARP\\ITSC_instance_paper\\Results\\Manhattan\\start_18-00\\duration_30_s\\max_delay_03_min\\vga\\config.yaml-performance.json\n",
      "10:04:19 [INFO] Loading json file from: C:\\Google Drive\\AIC Experiment Data\\DARP\\ITSC_instance_paper\\Results\\Manhattan\\start_18-00\\duration_30_s\\max_delay_03_min\\vga\\config.yaml-solution.json\n",
      "10:04:19 [INFO] Loading experiment config from C:\\Google Drive\\AIC Experiment Data\\DARP\\ITSC_instance_paper\\Results\\Manhattan\\start_18-00\\duration_30_s\\max_delay_03_min\\vga\\config.yaml\n",
      "10:04:19 [INFO] Loading instance config from C:\\Google Drive\\AIC Experiment Data\\DARP\\ITSC_instance_paper\\Instances\\Manhattan\\instances\\start_18-00\\duration_30_s\\max_delay_03_min\\config.yaml\n",
      "10:04:19 [WARNING] No solution found in folder: C:\\Google Drive\\AIC Experiment Data\\DARP\\ITSC_instance_paper\\Results\\Manhattan\\start_18-00\\duration_30_s\\max_delay_05_min\\halns\n",
      "10:04:19 [WARNING] No solution found in folder: C:\\Google Drive\\AIC Experiment Data\\DARP\\ITSC_instance_paper\\Results\\Manhattan\\start_18-00\\duration_30_s\\max_delay_05_min\\halns-ih\n",
      "10:04:19 [INFO] Loading json file from: C:\\Google Drive\\AIC Experiment Data\\DARP\\ITSC_instance_paper\\Results\\Manhattan\\start_18-00\\duration_30_s\\max_delay_05_min\\ih\\config.yaml-performance.json\n",
      "10:04:19 [INFO] Loading json file from: C:\\Google Drive\\AIC Experiment Data\\DARP\\ITSC_instance_paper\\Results\\Manhattan\\start_18-00\\duration_30_s\\max_delay_05_min\\ih\\config.yaml-solution.json\n",
      "10:04:19 [INFO] Loading experiment config from C:\\Google Drive\\AIC Experiment Data\\DARP\\ITSC_instance_paper\\Results\\Manhattan\\start_18-00\\duration_30_s\\max_delay_05_min\\ih\\config.yaml\n",
      "10:04:19 [INFO] Loading instance config from C:\\Google Drive\\AIC Experiment Data\\DARP\\ITSC_instance_paper\\Instances\\Manhattan\\instances\\start_18-00\\duration_30_s\\max_delay_05_min\\config.yaml\n",
      "10:04:19 [INFO] Loading json file from: C:\\Google Drive\\AIC Experiment Data\\DARP\\ITSC_instance_paper\\Results\\Manhattan\\start_18-00\\duration_30_s\\max_delay_05_min\\vga\\config.yaml-performance.json\n",
      "10:04:19 [INFO] Loading json file from: C:\\Google Drive\\AIC Experiment Data\\DARP\\ITSC_instance_paper\\Results\\Manhattan\\start_18-00\\duration_30_s\\max_delay_05_min\\vga\\config.yaml-solution.json\n",
      "10:04:19 [INFO] Loading experiment config from C:\\Google Drive\\AIC Experiment Data\\DARP\\ITSC_instance_paper\\Results\\Manhattan\\start_18-00\\duration_30_s\\max_delay_05_min\\vga\\config.yaml\n",
      "10:04:19 [INFO] Loading instance config from C:\\Google Drive\\AIC Experiment Data\\DARP\\ITSC_instance_paper\\Instances\\Manhattan\\instances\\start_18-00\\duration_30_s\\max_delay_05_min\\config.yaml\n",
      "10:04:19 [WARNING] No solution found in folder: C:\\Google Drive\\AIC Experiment Data\\DARP\\ITSC_instance_paper\\Results\\Manhattan\\start_18-00\\duration_30_s\\max_delay_10_min\\halns\n",
      "10:04:19 [WARNING] No solution found in folder: C:\\Google Drive\\AIC Experiment Data\\DARP\\ITSC_instance_paper\\Results\\Manhattan\\start_18-00\\duration_30_s\\max_delay_10_min\\halns-ih\n",
      "10:04:19 [INFO] Loading json file from: C:\\Google Drive\\AIC Experiment Data\\DARP\\ITSC_instance_paper\\Results\\Manhattan\\start_18-00\\duration_30_s\\max_delay_10_min\\ih\\config.yaml-performance.json\n",
      "10:04:19 [INFO] Loading json file from: C:\\Google Drive\\AIC Experiment Data\\DARP\\ITSC_instance_paper\\Results\\Manhattan\\start_18-00\\duration_30_s\\max_delay_10_min\\ih\\config.yaml-solution.json\n",
      "10:04:19 [INFO] Loading experiment config from C:\\Google Drive\\AIC Experiment Data\\DARP\\ITSC_instance_paper\\Results\\Manhattan\\start_18-00\\duration_30_s\\max_delay_10_min\\ih\\config.yaml\n",
      "10:04:19 [INFO] Loading instance config from C:\\Google Drive\\AIC Experiment Data\\DARP\\ITSC_instance_paper\\Instances\\Manhattan\\instances\\start_18-00\\duration_30_s\\max_delay_10_min\\config.yaml\n",
      "10:04:19 [INFO] Loading json file from: C:\\Google Drive\\AIC Experiment Data\\DARP\\ITSC_instance_paper\\Results\\Manhattan\\start_18-00\\duration_30_s\\max_delay_10_min\\vga\\config.yaml-performance.json\n",
      "10:04:19 [INFO] Loading json file from: C:\\Google Drive\\AIC Experiment Data\\DARP\\ITSC_instance_paper\\Results\\Manhattan\\start_18-00\\duration_30_s\\max_delay_10_min\\vga\\config.yaml-solution.json\n",
      "10:04:19 [INFO] Loading experiment config from C:\\Google Drive\\AIC Experiment Data\\DARP\\ITSC_instance_paper\\Results\\Manhattan\\start_18-00\\duration_30_s\\max_delay_10_min\\vga\\config.yaml\n",
      "10:04:19 [INFO] Loading instance config from C:\\Google Drive\\AIC Experiment Data\\DARP\\ITSC_instance_paper\\Instances\\Manhattan\\instances\\start_18-00\\duration_30_s\\max_delay_10_min\\config.yaml\n",
      "10:04:19 [INFO] Loading aggregate stats in C:\\Google Drive\\AIC Experiment Data\\DARP\\ITSC_instance_paper\\Results\\Chicago\n",
      "10:04:19 [WARNING] No solution found in folder: C:\\Google Drive\\AIC Experiment Data\\DARP\\ITSC_instance_paper\\Results\\Chicago\\start_18-00\\duration_01_min\\max_delay_03_min\\halns\n",
      "10:04:19 [WARNING] No solution found in folder: C:\\Google Drive\\AIC Experiment Data\\DARP\\ITSC_instance_paper\\Results\\Chicago\\start_18-00\\duration_01_min\\max_delay_03_min\\halns-ih\n",
      "10:04:19 [INFO] Loading json file from: C:\\Google Drive\\AIC Experiment Data\\DARP\\ITSC_instance_paper\\Results\\Chicago\\start_18-00\\duration_01_min\\max_delay_03_min\\ih\\config.yaml-performance.json\n",
      "10:04:19 [INFO] Loading json file from: C:\\Google Drive\\AIC Experiment Data\\DARP\\ITSC_instance_paper\\Results\\Chicago\\start_18-00\\duration_01_min\\max_delay_03_min\\ih\\config.yaml-solution.json\n",
      "10:04:19 [INFO] Loading experiment config from C:\\Google Drive\\AIC Experiment Data\\DARP\\ITSC_instance_paper\\Results\\Chicago\\start_18-00\\duration_01_min\\max_delay_03_min\\ih\\config.yaml\n",
      "10:04:19 [INFO] Loading instance config from C:\\Google Drive\\AIC Experiment Data\\DARP\\ITSC_instance_paper\\Instances\\Chicago\\instances\\start_18-00\\duration_01_min\\max_delay_03_min\\config.yaml\n",
      "10:04:19 [INFO] Loading json file from: C:\\Google Drive\\AIC Experiment Data\\DARP\\ITSC_instance_paper\\Results\\Chicago\\start_18-00\\duration_01_min\\max_delay_03_min\\vga\\config.yaml-performance.json\n",
      "10:04:19 [INFO] Loading json file from: C:\\Google Drive\\AIC Experiment Data\\DARP\\ITSC_instance_paper\\Results\\Chicago\\start_18-00\\duration_01_min\\max_delay_03_min\\vga\\config.yaml-solution.json\n",
      "10:04:19 [INFO] Loading experiment config from C:\\Google Drive\\AIC Experiment Data\\DARP\\ITSC_instance_paper\\Results\\Chicago\\start_18-00\\duration_01_min\\max_delay_03_min\\vga\\config.yaml\n",
      "10:04:19 [INFO] Loading instance config from C:\\Google Drive\\AIC Experiment Data\\DARP\\ITSC_instance_paper\\Instances\\Chicago\\instances\\start_18-00\\duration_01_min\\max_delay_03_min\\config.yaml\n",
      "10:04:19 [WARNING] No solution found in folder: C:\\Google Drive\\AIC Experiment Data\\DARP\\ITSC_instance_paper\\Results\\Chicago\\start_18-00\\duration_01_min\\max_delay_05_min\\halns\n",
      "10:04:19 [WARNING] No solution found in folder: C:\\Google Drive\\AIC Experiment Data\\DARP\\ITSC_instance_paper\\Results\\Chicago\\start_18-00\\duration_01_min\\max_delay_05_min\\halns-ih\n",
      "10:04:19 [INFO] Loading json file from: C:\\Google Drive\\AIC Experiment Data\\DARP\\ITSC_instance_paper\\Results\\Chicago\\start_18-00\\duration_01_min\\max_delay_05_min\\ih\\config.yaml-performance.json\n",
      "10:04:19 [INFO] Loading json file from: C:\\Google Drive\\AIC Experiment Data\\DARP\\ITSC_instance_paper\\Results\\Chicago\\start_18-00\\duration_01_min\\max_delay_05_min\\ih\\config.yaml-solution.json\n",
      "10:04:19 [INFO] Loading experiment config from C:\\Google Drive\\AIC Experiment Data\\DARP\\ITSC_instance_paper\\Results\\Chicago\\start_18-00\\duration_01_min\\max_delay_05_min\\ih\\config.yaml\n",
      "10:04:19 [INFO] Loading instance config from C:\\Google Drive\\AIC Experiment Data\\DARP\\ITSC_instance_paper\\Instances\\Chicago\\instances\\start_18-00\\duration_01_min\\max_delay_05_min\\config.yaml\n",
      "10:04:19 [INFO] Loading json file from: C:\\Google Drive\\AIC Experiment Data\\DARP\\ITSC_instance_paper\\Results\\Chicago\\start_18-00\\duration_01_min\\max_delay_05_min\\vga\\config.yaml-performance.json\n",
      "10:04:19 [INFO] Loading json file from: C:\\Google Drive\\AIC Experiment Data\\DARP\\ITSC_instance_paper\\Results\\Chicago\\start_18-00\\duration_01_min\\max_delay_05_min\\vga\\config.yaml-solution.json\n",
      "10:04:19 [INFO] Loading experiment config from C:\\Google Drive\\AIC Experiment Data\\DARP\\ITSC_instance_paper\\Results\\Chicago\\start_18-00\\duration_01_min\\max_delay_05_min\\vga\\config.yaml\n",
      "10:04:19 [INFO] Loading instance config from C:\\Google Drive\\AIC Experiment Data\\DARP\\ITSC_instance_paper\\Instances\\Chicago\\instances\\start_18-00\\duration_01_min\\max_delay_05_min\\config.yaml\n",
      "10:04:19 [WARNING] No solution found in folder: C:\\Google Drive\\AIC Experiment Data\\DARP\\ITSC_instance_paper\\Results\\Chicago\\start_18-00\\duration_01_min\\max_delay_10_min\\halns\n",
      "10:04:19 [WARNING] No solution found in folder: C:\\Google Drive\\AIC Experiment Data\\DARP\\ITSC_instance_paper\\Results\\Chicago\\start_18-00\\duration_01_min\\max_delay_10_min\\halns-ih\n",
      "10:04:19 [INFO] Loading json file from: C:\\Google Drive\\AIC Experiment Data\\DARP\\ITSC_instance_paper\\Results\\Chicago\\start_18-00\\duration_01_min\\max_delay_10_min\\ih\\config.yaml-performance.json\n",
      "10:04:19 [INFO] Loading json file from: C:\\Google Drive\\AIC Experiment Data\\DARP\\ITSC_instance_paper\\Results\\Chicago\\start_18-00\\duration_01_min\\max_delay_10_min\\ih\\config.yaml-solution.json\n",
      "10:04:19 [INFO] Loading experiment config from C:\\Google Drive\\AIC Experiment Data\\DARP\\ITSC_instance_paper\\Results\\Chicago\\start_18-00\\duration_01_min\\max_delay_10_min\\ih\\config.yaml\n",
      "10:04:19 [INFO] Loading instance config from C:\\Google Drive\\AIC Experiment Data\\DARP\\ITSC_instance_paper\\Instances\\Chicago\\instances\\start_18-00\\duration_01_min\\max_delay_10_min\\config.yaml\n",
      "10:04:19 [INFO] Loading json file from: C:\\Google Drive\\AIC Experiment Data\\DARP\\ITSC_instance_paper\\Results\\Chicago\\start_18-00\\duration_01_min\\max_delay_10_min\\vga\\config.yaml-performance.json\n",
      "10:04:19 [INFO] Loading json file from: C:\\Google Drive\\AIC Experiment Data\\DARP\\ITSC_instance_paper\\Results\\Chicago\\start_18-00\\duration_01_min\\max_delay_10_min\\vga\\config.yaml-solution.json\n",
      "10:04:19 [INFO] Loading experiment config from C:\\Google Drive\\AIC Experiment Data\\DARP\\ITSC_instance_paper\\Results\\Chicago\\start_18-00\\duration_01_min\\max_delay_10_min\\vga\\config.yaml\n",
      "10:04:19 [INFO] Loading instance config from C:\\Google Drive\\AIC Experiment Data\\DARP\\ITSC_instance_paper\\Instances\\Chicago\\instances\\start_18-00\\duration_01_min\\max_delay_10_min\\config.yaml\n",
      "10:04:19 [WARNING] No solution found in folder: C:\\Google Drive\\AIC Experiment Data\\DARP\\ITSC_instance_paper\\Results\\Chicago\\start_18-00\\duration_02_h\\max_delay_03_min\\halns\n",
      "10:04:19 [WARNING] No solution found in folder: C:\\Google Drive\\AIC Experiment Data\\DARP\\ITSC_instance_paper\\Results\\Chicago\\start_18-00\\duration_02_h\\max_delay_03_min\\halns-ih\n",
      "10:04:19 [INFO] Loading json file from: C:\\Google Drive\\AIC Experiment Data\\DARP\\ITSC_instance_paper\\Results\\Chicago\\start_18-00\\duration_02_h\\max_delay_03_min\\ih\\config.yaml-performance.json\n",
      "10:04:19 [INFO] Loading json file from: C:\\Google Drive\\AIC Experiment Data\\DARP\\ITSC_instance_paper\\Results\\Chicago\\start_18-00\\duration_02_h\\max_delay_03_min\\ih\\config.yaml-solution.json\n",
      "10:04:19 [INFO] Loading experiment config from C:\\Google Drive\\AIC Experiment Data\\DARP\\ITSC_instance_paper\\Results\\Chicago\\start_18-00\\duration_02_h\\max_delay_03_min\\ih\\config.yaml\n",
      "10:04:19 [INFO] Loading instance config from C:\\Google Drive\\AIC Experiment Data\\DARP\\ITSC_instance_paper\\Instances\\Chicago\\instances\\start_18-00\\duration_02_h\\max_delay_03_min\\config.yaml\n",
      "10:04:19 [WARNING] No solution found in folder: C:\\Google Drive\\AIC Experiment Data\\DARP\\ITSC_instance_paper\\Results\\Chicago\\start_18-00\\duration_02_h\\max_delay_03_min\\vga\n",
      "10:04:19 [WARNING] No solution found in folder: C:\\Google Drive\\AIC Experiment Data\\DARP\\ITSC_instance_paper\\Results\\Chicago\\start_18-00\\duration_02_h\\max_delay_05_min\\halns\n",
      "10:04:19 [WARNING] No solution found in folder: C:\\Google Drive\\AIC Experiment Data\\DARP\\ITSC_instance_paper\\Results\\Chicago\\start_18-00\\duration_02_h\\max_delay_05_min\\halns-ih\n",
      "10:04:19 [INFO] Loading json file from: C:\\Google Drive\\AIC Experiment Data\\DARP\\ITSC_instance_paper\\Results\\Chicago\\start_18-00\\duration_02_h\\max_delay_05_min\\ih\\config.yaml-performance.json\n",
      "10:04:19 [INFO] Loading json file from: C:\\Google Drive\\AIC Experiment Data\\DARP\\ITSC_instance_paper\\Results\\Chicago\\start_18-00\\duration_02_h\\max_delay_05_min\\ih\\config.yaml-solution.json\n",
      "10:04:19 [INFO] Loading experiment config from C:\\Google Drive\\AIC Experiment Data\\DARP\\ITSC_instance_paper\\Results\\Chicago\\start_18-00\\duration_02_h\\max_delay_05_min\\ih\\config.yaml\n",
      "10:04:19 [INFO] Loading instance config from C:\\Google Drive\\AIC Experiment Data\\DARP\\ITSC_instance_paper\\Instances\\Chicago\\instances\\start_18-00\\duration_02_h\\max_delay_05_min\\config.yaml\n",
      "10:04:19 [WARNING] No solution found in folder: C:\\Google Drive\\AIC Experiment Data\\DARP\\ITSC_instance_paper\\Results\\Chicago\\start_18-00\\duration_02_h\\max_delay_05_min\\vga\n",
      "10:04:19 [WARNING] No solution found in folder: C:\\Google Drive\\AIC Experiment Data\\DARP\\ITSC_instance_paper\\Results\\Chicago\\start_18-00\\duration_02_h\\max_delay_10_min\\halns\n",
      "10:04:19 [WARNING] No solution found in folder: C:\\Google Drive\\AIC Experiment Data\\DARP\\ITSC_instance_paper\\Results\\Chicago\\start_18-00\\duration_02_h\\max_delay_10_min\\halns-ih\n",
      "10:04:19 [INFO] Loading json file from: C:\\Google Drive\\AIC Experiment Data\\DARP\\ITSC_instance_paper\\Results\\Chicago\\start_18-00\\duration_02_h\\max_delay_10_min\\ih\\config.yaml-performance.json\n",
      "10:04:19 [INFO] Loading json file from: C:\\Google Drive\\AIC Experiment Data\\DARP\\ITSC_instance_paper\\Results\\Chicago\\start_18-00\\duration_02_h\\max_delay_10_min\\ih\\config.yaml-solution.json\n",
      "10:04:20 [INFO] Loading experiment config from C:\\Google Drive\\AIC Experiment Data\\DARP\\ITSC_instance_paper\\Results\\Chicago\\start_18-00\\duration_02_h\\max_delay_10_min\\ih\\config.yaml\n",
      "10:04:20 [INFO] Loading instance config from C:\\Google Drive\\AIC Experiment Data\\DARP\\ITSC_instance_paper\\Instances\\Chicago\\instances\\start_18-00\\duration_02_h\\max_delay_10_min\\config.yaml\n",
      "10:04:20 [WARNING] No solution found in folder: C:\\Google Drive\\AIC Experiment Data\\DARP\\ITSC_instance_paper\\Results\\Chicago\\start_18-00\\duration_02_h\\max_delay_10_min\\vga\n",
      "10:04:20 [WARNING] No solution found in folder: C:\\Google Drive\\AIC Experiment Data\\DARP\\ITSC_instance_paper\\Results\\Chicago\\start_18-00\\duration_02_min\\max_delay_03_min\\halns\n",
      "10:04:20 [WARNING] No solution found in folder: C:\\Google Drive\\AIC Experiment Data\\DARP\\ITSC_instance_paper\\Results\\Chicago\\start_18-00\\duration_02_min\\max_delay_03_min\\halns-ih\n",
      "10:04:20 [INFO] Loading json file from: C:\\Google Drive\\AIC Experiment Data\\DARP\\ITSC_instance_paper\\Results\\Chicago\\start_18-00\\duration_02_min\\max_delay_03_min\\ih\\config.yaml-performance.json\n",
      "10:04:20 [INFO] Loading json file from: C:\\Google Drive\\AIC Experiment Data\\DARP\\ITSC_instance_paper\\Results\\Chicago\\start_18-00\\duration_02_min\\max_delay_03_min\\ih\\config.yaml-solution.json\n",
      "10:04:20 [INFO] Loading experiment config from C:\\Google Drive\\AIC Experiment Data\\DARP\\ITSC_instance_paper\\Results\\Chicago\\start_18-00\\duration_02_min\\max_delay_03_min\\ih\\config.yaml\n",
      "10:04:20 [INFO] Loading instance config from C:\\Google Drive\\AIC Experiment Data\\DARP\\ITSC_instance_paper\\Instances\\Chicago\\instances\\start_18-00\\duration_02_min\\max_delay_03_min\\config.yaml\n",
      "10:04:20 [INFO] Loading json file from: C:\\Google Drive\\AIC Experiment Data\\DARP\\ITSC_instance_paper\\Results\\Chicago\\start_18-00\\duration_02_min\\max_delay_03_min\\vga\\config.yaml-performance.json\n",
      "10:04:20 [INFO] Loading json file from: C:\\Google Drive\\AIC Experiment Data\\DARP\\ITSC_instance_paper\\Results\\Chicago\\start_18-00\\duration_02_min\\max_delay_03_min\\vga\\config.yaml-solution.json\n",
      "10:04:20 [INFO] Loading experiment config from C:\\Google Drive\\AIC Experiment Data\\DARP\\ITSC_instance_paper\\Results\\Chicago\\start_18-00\\duration_02_min\\max_delay_03_min\\vga\\config.yaml\n",
      "10:04:20 [INFO] Loading instance config from C:\\Google Drive\\AIC Experiment Data\\DARP\\ITSC_instance_paper\\Instances\\Chicago\\instances\\start_18-00\\duration_02_min\\max_delay_03_min\\config.yaml\n",
      "10:04:20 [WARNING] No solution found in folder: C:\\Google Drive\\AIC Experiment Data\\DARP\\ITSC_instance_paper\\Results\\Chicago\\start_18-00\\duration_02_min\\max_delay_05_min\\halns\n",
      "10:04:20 [WARNING] No solution found in folder: C:\\Google Drive\\AIC Experiment Data\\DARP\\ITSC_instance_paper\\Results\\Chicago\\start_18-00\\duration_02_min\\max_delay_05_min\\halns-ih\n",
      "10:04:20 [INFO] Loading json file from: C:\\Google Drive\\AIC Experiment Data\\DARP\\ITSC_instance_paper\\Results\\Chicago\\start_18-00\\duration_02_min\\max_delay_05_min\\ih\\config.yaml-performance.json\n",
      "10:04:20 [INFO] Loading json file from: C:\\Google Drive\\AIC Experiment Data\\DARP\\ITSC_instance_paper\\Results\\Chicago\\start_18-00\\duration_02_min\\max_delay_05_min\\ih\\config.yaml-solution.json\n",
      "10:04:20 [INFO] Loading experiment config from C:\\Google Drive\\AIC Experiment Data\\DARP\\ITSC_instance_paper\\Results\\Chicago\\start_18-00\\duration_02_min\\max_delay_05_min\\ih\\config.yaml\n",
      "10:04:20 [INFO] Loading instance config from C:\\Google Drive\\AIC Experiment Data\\DARP\\ITSC_instance_paper\\Instances\\Chicago\\instances\\start_18-00\\duration_02_min\\max_delay_05_min\\config.yaml\n",
      "10:04:20 [INFO] Loading json file from: C:\\Google Drive\\AIC Experiment Data\\DARP\\ITSC_instance_paper\\Results\\Chicago\\start_18-00\\duration_02_min\\max_delay_05_min\\vga\\config.yaml-performance.json\n",
      "10:04:20 [INFO] Loading json file from: C:\\Google Drive\\AIC Experiment Data\\DARP\\ITSC_instance_paper\\Results\\Chicago\\start_18-00\\duration_02_min\\max_delay_05_min\\vga\\config.yaml-solution.json\n",
      "10:04:20 [INFO] Loading experiment config from C:\\Google Drive\\AIC Experiment Data\\DARP\\ITSC_instance_paper\\Results\\Chicago\\start_18-00\\duration_02_min\\max_delay_05_min\\vga\\config.yaml\n",
      "10:04:20 [INFO] Loading instance config from C:\\Google Drive\\AIC Experiment Data\\DARP\\ITSC_instance_paper\\Instances\\Chicago\\instances\\start_18-00\\duration_02_min\\max_delay_05_min\\config.yaml\n",
      "10:04:20 [WARNING] No solution found in folder: C:\\Google Drive\\AIC Experiment Data\\DARP\\ITSC_instance_paper\\Results\\Chicago\\start_18-00\\duration_02_min\\max_delay_10_min\\halns\n",
      "10:04:20 [WARNING] No solution found in folder: C:\\Google Drive\\AIC Experiment Data\\DARP\\ITSC_instance_paper\\Results\\Chicago\\start_18-00\\duration_02_min\\max_delay_10_min\\halns-ih\n",
      "10:04:20 [INFO] Loading json file from: C:\\Google Drive\\AIC Experiment Data\\DARP\\ITSC_instance_paper\\Results\\Chicago\\start_18-00\\duration_02_min\\max_delay_10_min\\ih\\config.yaml-performance.json\n",
      "10:04:20 [INFO] Loading json file from: C:\\Google Drive\\AIC Experiment Data\\DARP\\ITSC_instance_paper\\Results\\Chicago\\start_18-00\\duration_02_min\\max_delay_10_min\\ih\\config.yaml-solution.json\n",
      "10:04:20 [INFO] Loading experiment config from C:\\Google Drive\\AIC Experiment Data\\DARP\\ITSC_instance_paper\\Results\\Chicago\\start_18-00\\duration_02_min\\max_delay_10_min\\ih\\config.yaml\n",
      "10:04:20 [INFO] Loading instance config from C:\\Google Drive\\AIC Experiment Data\\DARP\\ITSC_instance_paper\\Instances\\Chicago\\instances\\start_18-00\\duration_02_min\\max_delay_10_min\\config.yaml\n",
      "10:04:20 [INFO] Loading json file from: C:\\Google Drive\\AIC Experiment Data\\DARP\\ITSC_instance_paper\\Results\\Chicago\\start_18-00\\duration_02_min\\max_delay_10_min\\vga\\config.yaml-performance.json\n",
      "10:04:20 [INFO] Loading json file from: C:\\Google Drive\\AIC Experiment Data\\DARP\\ITSC_instance_paper\\Results\\Chicago\\start_18-00\\duration_02_min\\max_delay_10_min\\vga\\config.yaml-solution.json\n",
      "10:04:20 [INFO] Loading experiment config from C:\\Google Drive\\AIC Experiment Data\\DARP\\ITSC_instance_paper\\Results\\Chicago\\start_18-00\\duration_02_min\\max_delay_10_min\\vga\\config.yaml\n",
      "10:04:20 [INFO] Loading instance config from C:\\Google Drive\\AIC Experiment Data\\DARP\\ITSC_instance_paper\\Instances\\Chicago\\instances\\start_18-00\\duration_02_min\\max_delay_10_min\\config.yaml\n",
      "10:04:20 [WARNING] No solution found in folder: C:\\Google Drive\\AIC Experiment Data\\DARP\\ITSC_instance_paper\\Results\\Chicago\\start_18-00\\duration_05_min\\max_delay_03_min\\halns\n",
      "10:04:20 [WARNING] No solution found in folder: C:\\Google Drive\\AIC Experiment Data\\DARP\\ITSC_instance_paper\\Results\\Chicago\\start_18-00\\duration_05_min\\max_delay_03_min\\halns-ih\n",
      "10:04:20 [INFO] Loading json file from: C:\\Google Drive\\AIC Experiment Data\\DARP\\ITSC_instance_paper\\Results\\Chicago\\start_18-00\\duration_05_min\\max_delay_03_min\\ih\\config.yaml-performance.json\n",
      "10:04:20 [INFO] Loading json file from: C:\\Google Drive\\AIC Experiment Data\\DARP\\ITSC_instance_paper\\Results\\Chicago\\start_18-00\\duration_05_min\\max_delay_03_min\\ih\\config.yaml-solution.json\n",
      "10:04:20 [INFO] Loading experiment config from C:\\Google Drive\\AIC Experiment Data\\DARP\\ITSC_instance_paper\\Results\\Chicago\\start_18-00\\duration_05_min\\max_delay_03_min\\ih\\config.yaml\n",
      "10:04:20 [INFO] Loading instance config from C:\\Google Drive\\AIC Experiment Data\\DARP\\ITSC_instance_paper\\Instances\\Chicago\\instances\\start_18-00\\duration_05_min\\max_delay_03_min\\config.yaml\n",
      "10:04:20 [INFO] Loading json file from: C:\\Google Drive\\AIC Experiment Data\\DARP\\ITSC_instance_paper\\Results\\Chicago\\start_18-00\\duration_05_min\\max_delay_03_min\\vga\\config.yaml-performance.json\n",
      "10:04:20 [INFO] Loading json file from: C:\\Google Drive\\AIC Experiment Data\\DARP\\ITSC_instance_paper\\Results\\Chicago\\start_18-00\\duration_05_min\\max_delay_03_min\\vga\\config.yaml-solution.json\n",
      "10:04:20 [INFO] Loading experiment config from C:\\Google Drive\\AIC Experiment Data\\DARP\\ITSC_instance_paper\\Results\\Chicago\\start_18-00\\duration_05_min\\max_delay_03_min\\vga\\config.yaml\n",
      "10:04:20 [INFO] Loading instance config from C:\\Google Drive\\AIC Experiment Data\\DARP\\ITSC_instance_paper\\Instances\\Chicago\\instances\\start_18-00\\duration_05_min\\max_delay_03_min\\config.yaml\n",
      "10:04:20 [WARNING] No solution found in folder: C:\\Google Drive\\AIC Experiment Data\\DARP\\ITSC_instance_paper\\Results\\Chicago\\start_18-00\\duration_05_min\\max_delay_05_min\\halns\n",
      "10:04:20 [WARNING] No solution found in folder: C:\\Google Drive\\AIC Experiment Data\\DARP\\ITSC_instance_paper\\Results\\Chicago\\start_18-00\\duration_05_min\\max_delay_05_min\\halns-ih\n",
      "10:04:20 [INFO] Loading json file from: C:\\Google Drive\\AIC Experiment Data\\DARP\\ITSC_instance_paper\\Results\\Chicago\\start_18-00\\duration_05_min\\max_delay_05_min\\ih\\config.yaml-performance.json\n",
      "10:04:20 [INFO] Loading json file from: C:\\Google Drive\\AIC Experiment Data\\DARP\\ITSC_instance_paper\\Results\\Chicago\\start_18-00\\duration_05_min\\max_delay_05_min\\ih\\config.yaml-solution.json\n",
      "10:04:20 [INFO] Loading experiment config from C:\\Google Drive\\AIC Experiment Data\\DARP\\ITSC_instance_paper\\Results\\Chicago\\start_18-00\\duration_05_min\\max_delay_05_min\\ih\\config.yaml\n",
      "10:04:20 [INFO] Loading instance config from C:\\Google Drive\\AIC Experiment Data\\DARP\\ITSC_instance_paper\\Instances\\Chicago\\instances\\start_18-00\\duration_05_min\\max_delay_05_min\\config.yaml\n",
      "10:04:20 [INFO] Loading json file from: C:\\Google Drive\\AIC Experiment Data\\DARP\\ITSC_instance_paper\\Results\\Chicago\\start_18-00\\duration_05_min\\max_delay_05_min\\vga\\config.yaml-performance.json\n",
      "10:04:20 [INFO] Loading json file from: C:\\Google Drive\\AIC Experiment Data\\DARP\\ITSC_instance_paper\\Results\\Chicago\\start_18-00\\duration_05_min\\max_delay_05_min\\vga\\config.yaml-solution.json\n",
      "10:04:20 [INFO] Loading experiment config from C:\\Google Drive\\AIC Experiment Data\\DARP\\ITSC_instance_paper\\Results\\Chicago\\start_18-00\\duration_05_min\\max_delay_05_min\\vga\\config.yaml\n",
      "10:04:20 [INFO] Loading instance config from C:\\Google Drive\\AIC Experiment Data\\DARP\\ITSC_instance_paper\\Instances\\Chicago\\instances\\start_18-00\\duration_05_min\\max_delay_05_min\\config.yaml\n",
      "10:04:20 [WARNING] No solution found in folder: C:\\Google Drive\\AIC Experiment Data\\DARP\\ITSC_instance_paper\\Results\\Chicago\\start_18-00\\duration_05_min\\max_delay_10_min\\halns\n",
      "10:04:20 [WARNING] No solution found in folder: C:\\Google Drive\\AIC Experiment Data\\DARP\\ITSC_instance_paper\\Results\\Chicago\\start_18-00\\duration_05_min\\max_delay_10_min\\halns-ih\n",
      "10:04:20 [INFO] Loading json file from: C:\\Google Drive\\AIC Experiment Data\\DARP\\ITSC_instance_paper\\Results\\Chicago\\start_18-00\\duration_05_min\\max_delay_10_min\\ih\\config.yaml-performance.json\n",
      "10:04:20 [INFO] Loading json file from: C:\\Google Drive\\AIC Experiment Data\\DARP\\ITSC_instance_paper\\Results\\Chicago\\start_18-00\\duration_05_min\\max_delay_10_min\\ih\\config.yaml-solution.json\n",
      "10:04:20 [INFO] Loading experiment config from C:\\Google Drive\\AIC Experiment Data\\DARP\\ITSC_instance_paper\\Results\\Chicago\\start_18-00\\duration_05_min\\max_delay_10_min\\ih\\config.yaml\n",
      "10:04:20 [INFO] Loading instance config from C:\\Google Drive\\AIC Experiment Data\\DARP\\ITSC_instance_paper\\Instances\\Chicago\\instances\\start_18-00\\duration_05_min\\max_delay_10_min\\config.yaml\n",
      "10:04:20 [INFO] Loading json file from: C:\\Google Drive\\AIC Experiment Data\\DARP\\ITSC_instance_paper\\Results\\Chicago\\start_18-00\\duration_05_min\\max_delay_10_min\\vga\\config.yaml-performance.json\n",
      "10:04:20 [INFO] Loading json file from: C:\\Google Drive\\AIC Experiment Data\\DARP\\ITSC_instance_paper\\Results\\Chicago\\start_18-00\\duration_05_min\\max_delay_10_min\\vga\\config.yaml-solution.json\n",
      "10:04:20 [INFO] Loading experiment config from C:\\Google Drive\\AIC Experiment Data\\DARP\\ITSC_instance_paper\\Results\\Chicago\\start_18-00\\duration_05_min\\max_delay_10_min\\vga\\config.yaml\n",
      "10:04:20 [INFO] Loading instance config from C:\\Google Drive\\AIC Experiment Data\\DARP\\ITSC_instance_paper\\Instances\\Chicago\\instances\\start_18-00\\duration_05_min\\max_delay_10_min\\config.yaml\n",
      "10:04:20 [WARNING] No solution found in folder: C:\\Google Drive\\AIC Experiment Data\\DARP\\ITSC_instance_paper\\Results\\Chicago\\start_18-00\\duration_15_min\\max_delay_03_min\\halns\n",
      "10:04:20 [WARNING] No solution found in folder: C:\\Google Drive\\AIC Experiment Data\\DARP\\ITSC_instance_paper\\Results\\Chicago\\start_18-00\\duration_15_min\\max_delay_03_min\\halns-ih\n",
      "10:04:20 [INFO] Loading json file from: C:\\Google Drive\\AIC Experiment Data\\DARP\\ITSC_instance_paper\\Results\\Chicago\\start_18-00\\duration_15_min\\max_delay_03_min\\ih\\config.yaml-performance.json\n",
      "10:04:20 [INFO] Loading json file from: C:\\Google Drive\\AIC Experiment Data\\DARP\\ITSC_instance_paper\\Results\\Chicago\\start_18-00\\duration_15_min\\max_delay_03_min\\ih\\config.yaml-solution.json\n",
      "10:04:20 [INFO] Loading experiment config from C:\\Google Drive\\AIC Experiment Data\\DARP\\ITSC_instance_paper\\Results\\Chicago\\start_18-00\\duration_15_min\\max_delay_03_min\\ih\\config.yaml\n",
      "10:04:20 [INFO] Loading instance config from C:\\Google Drive\\AIC Experiment Data\\DARP\\ITSC_instance_paper\\Instances\\Chicago\\instances\\start_18-00\\duration_15_min\\max_delay_03_min\\config.yaml\n",
      "10:04:20 [WARNING] No solution found in folder: C:\\Google Drive\\AIC Experiment Data\\DARP\\ITSC_instance_paper\\Results\\Chicago\\start_18-00\\duration_15_min\\max_delay_03_min\\vga\n",
      "10:04:20 [WARNING] No solution found in folder: C:\\Google Drive\\AIC Experiment Data\\DARP\\ITSC_instance_paper\\Results\\Chicago\\start_18-00\\duration_15_min\\max_delay_05_min\\halns\n",
      "10:04:20 [WARNING] No solution found in folder: C:\\Google Drive\\AIC Experiment Data\\DARP\\ITSC_instance_paper\\Results\\Chicago\\start_18-00\\duration_15_min\\max_delay_05_min\\halns-ih\n",
      "10:04:20 [INFO] Loading json file from: C:\\Google Drive\\AIC Experiment Data\\DARP\\ITSC_instance_paper\\Results\\Chicago\\start_18-00\\duration_15_min\\max_delay_05_min\\ih\\config.yaml-performance.json\n",
      "10:04:20 [INFO] Loading json file from: C:\\Google Drive\\AIC Experiment Data\\DARP\\ITSC_instance_paper\\Results\\Chicago\\start_18-00\\duration_15_min\\max_delay_05_min\\ih\\config.yaml-solution.json\n",
      "10:04:20 [INFO] Loading experiment config from C:\\Google Drive\\AIC Experiment Data\\DARP\\ITSC_instance_paper\\Results\\Chicago\\start_18-00\\duration_15_min\\max_delay_05_min\\ih\\config.yaml\n",
      "10:04:20 [INFO] Loading instance config from C:\\Google Drive\\AIC Experiment Data\\DARP\\ITSC_instance_paper\\Instances\\Chicago\\instances\\start_18-00\\duration_15_min\\max_delay_05_min\\config.yaml\n",
      "10:04:20 [WARNING] No solution found in folder: C:\\Google Drive\\AIC Experiment Data\\DARP\\ITSC_instance_paper\\Results\\Chicago\\start_18-00\\duration_15_min\\max_delay_05_min\\vga\n",
      "10:04:20 [WARNING] No solution found in folder: C:\\Google Drive\\AIC Experiment Data\\DARP\\ITSC_instance_paper\\Results\\Chicago\\start_18-00\\duration_15_min\\max_delay_10_min\\halns\n",
      "10:04:20 [WARNING] No solution found in folder: C:\\Google Drive\\AIC Experiment Data\\DARP\\ITSC_instance_paper\\Results\\Chicago\\start_18-00\\duration_15_min\\max_delay_10_min\\halns-ih\n",
      "10:04:20 [INFO] Loading json file from: C:\\Google Drive\\AIC Experiment Data\\DARP\\ITSC_instance_paper\\Results\\Chicago\\start_18-00\\duration_15_min\\max_delay_10_min\\ih\\config.yaml-performance.json\n",
      "10:04:20 [INFO] Loading json file from: C:\\Google Drive\\AIC Experiment Data\\DARP\\ITSC_instance_paper\\Results\\Chicago\\start_18-00\\duration_15_min\\max_delay_10_min\\ih\\config.yaml-solution.json\n",
      "10:04:20 [INFO] Loading experiment config from C:\\Google Drive\\AIC Experiment Data\\DARP\\ITSC_instance_paper\\Results\\Chicago\\start_18-00\\duration_15_min\\max_delay_10_min\\ih\\config.yaml\n",
      "10:04:20 [INFO] Loading instance config from C:\\Google Drive\\AIC Experiment Data\\DARP\\ITSC_instance_paper\\Instances\\Chicago\\instances\\start_18-00\\duration_15_min\\max_delay_10_min\\config.yaml\n",
      "10:04:20 [WARNING] No solution found in folder: C:\\Google Drive\\AIC Experiment Data\\DARP\\ITSC_instance_paper\\Results\\Chicago\\start_18-00\\duration_15_min\\max_delay_10_min\\vga\n",
      "10:04:20 [WARNING] No solution found in folder: C:\\Google Drive\\AIC Experiment Data\\DARP\\ITSC_instance_paper\\Results\\Chicago\\start_18-00\\duration_16_h\\max_delay_03_min\\halns\n",
      "10:04:20 [WARNING] No solution found in folder: C:\\Google Drive\\AIC Experiment Data\\DARP\\ITSC_instance_paper\\Results\\Chicago\\start_18-00\\duration_16_h\\max_delay_03_min\\halns-ih\n",
      "10:04:20 [INFO] Loading json file from: C:\\Google Drive\\AIC Experiment Data\\DARP\\ITSC_instance_paper\\Results\\Chicago\\start_18-00\\duration_16_h\\max_delay_03_min\\ih\\config.yaml-performance.json\n",
      "10:04:20 [INFO] Loading json file from: C:\\Google Drive\\AIC Experiment Data\\DARP\\ITSC_instance_paper\\Results\\Chicago\\start_18-00\\duration_16_h\\max_delay_03_min\\ih\\config.yaml-solution.json\n",
      "10:04:20 [INFO] Loading experiment config from C:\\Google Drive\\AIC Experiment Data\\DARP\\ITSC_instance_paper\\Results\\Chicago\\start_18-00\\duration_16_h\\max_delay_03_min\\ih\\config.yaml\n",
      "10:04:20 [INFO] Loading instance config from C:\\Google Drive\\AIC Experiment Data\\DARP\\ITSC_instance_paper\\Instances\\Chicago\\instances\\start_18-00\\duration_16_h\\max_delay_03_min\\config.yaml\n",
      "10:04:20 [WARNING] No solution found in folder: C:\\Google Drive\\AIC Experiment Data\\DARP\\ITSC_instance_paper\\Results\\Chicago\\start_18-00\\duration_16_h\\max_delay_03_min\\vga\n",
      "10:04:20 [WARNING] No solution found in folder: C:\\Google Drive\\AIC Experiment Data\\DARP\\ITSC_instance_paper\\Results\\Chicago\\start_18-00\\duration_16_h\\max_delay_05_min\\halns\n",
      "10:04:20 [WARNING] No solution found in folder: C:\\Google Drive\\AIC Experiment Data\\DARP\\ITSC_instance_paper\\Results\\Chicago\\start_18-00\\duration_16_h\\max_delay_05_min\\halns-ih\n",
      "10:04:20 [INFO] Loading json file from: C:\\Google Drive\\AIC Experiment Data\\DARP\\ITSC_instance_paper\\Results\\Chicago\\start_18-00\\duration_16_h\\max_delay_05_min\\ih\\config.yaml-performance.json\n",
      "10:04:20 [INFO] Loading json file from: C:\\Google Drive\\AIC Experiment Data\\DARP\\ITSC_instance_paper\\Results\\Chicago\\start_18-00\\duration_16_h\\max_delay_05_min\\ih\\config.yaml-solution.json\n",
      "10:04:20 [INFO] Loading experiment config from C:\\Google Drive\\AIC Experiment Data\\DARP\\ITSC_instance_paper\\Results\\Chicago\\start_18-00\\duration_16_h\\max_delay_05_min\\ih\\config.yaml\n",
      "10:04:20 [INFO] Loading instance config from C:\\Google Drive\\AIC Experiment Data\\DARP\\ITSC_instance_paper\\Instances\\Chicago\\instances\\start_18-00\\duration_16_h\\max_delay_05_min\\config.yaml\n",
      "10:04:20 [WARNING] No solution found in folder: C:\\Google Drive\\AIC Experiment Data\\DARP\\ITSC_instance_paper\\Results\\Chicago\\start_18-00\\duration_16_h\\max_delay_05_min\\vga\n",
      "10:04:20 [WARNING] No solution found in folder: C:\\Google Drive\\AIC Experiment Data\\DARP\\ITSC_instance_paper\\Results\\Chicago\\start_18-00\\duration_16_h\\max_delay_10_min\\halns\n",
      "10:04:20 [WARNING] No solution found in folder: C:\\Google Drive\\AIC Experiment Data\\DARP\\ITSC_instance_paper\\Results\\Chicago\\start_18-00\\duration_16_h\\max_delay_10_min\\halns-ih\n",
      "10:04:20 [INFO] Loading json file from: C:\\Google Drive\\AIC Experiment Data\\DARP\\ITSC_instance_paper\\Results\\Chicago\\start_18-00\\duration_16_h\\max_delay_10_min\\ih\\config.yaml-performance.json\n",
      "10:04:20 [INFO] Loading json file from: C:\\Google Drive\\AIC Experiment Data\\DARP\\ITSC_instance_paper\\Results\\Chicago\\start_18-00\\duration_16_h\\max_delay_10_min\\ih\\config.yaml-solution.json\n",
      "10:04:20 [INFO] Loading experiment config from C:\\Google Drive\\AIC Experiment Data\\DARP\\ITSC_instance_paper\\Results\\Chicago\\start_18-00\\duration_16_h\\max_delay_10_min\\ih\\config.yaml\n",
      "10:04:20 [INFO] Loading instance config from C:\\Google Drive\\AIC Experiment Data\\DARP\\ITSC_instance_paper\\Instances\\Chicago\\instances\\start_18-00\\duration_16_h\\max_delay_10_min\\config.yaml\n",
      "10:04:20 [WARNING] No solution found in folder: C:\\Google Drive\\AIC Experiment Data\\DARP\\ITSC_instance_paper\\Results\\Chicago\\start_18-00\\duration_16_h\\max_delay_10_min\\vga\n",
      "10:04:20 [WARNING] No solution found in folder: C:\\Google Drive\\AIC Experiment Data\\DARP\\ITSC_instance_paper\\Results\\Chicago\\start_18-00\\duration_30_min\\max_delay_03_min\\halns\n",
      "10:04:20 [WARNING] No solution found in folder: C:\\Google Drive\\AIC Experiment Data\\DARP\\ITSC_instance_paper\\Results\\Chicago\\start_18-00\\duration_30_min\\max_delay_03_min\\halns-ih\n",
      "10:04:20 [INFO] Loading json file from: C:\\Google Drive\\AIC Experiment Data\\DARP\\ITSC_instance_paper\\Results\\Chicago\\start_18-00\\duration_30_min\\max_delay_03_min\\ih\\config.yaml-performance.json\n",
      "10:04:20 [INFO] Loading json file from: C:\\Google Drive\\AIC Experiment Data\\DARP\\ITSC_instance_paper\\Results\\Chicago\\start_18-00\\duration_30_min\\max_delay_03_min\\ih\\config.yaml-solution.json\n",
      "10:04:20 [INFO] Loading experiment config from C:\\Google Drive\\AIC Experiment Data\\DARP\\ITSC_instance_paper\\Results\\Chicago\\start_18-00\\duration_30_min\\max_delay_03_min\\ih\\config.yaml\n",
      "10:04:20 [INFO] Loading instance config from C:\\Google Drive\\AIC Experiment Data\\DARP\\ITSC_instance_paper\\Instances\\Chicago\\instances\\start_18-00\\duration_30_min\\max_delay_03_min\\config.yaml\n",
      "10:04:20 [WARNING] No solution found in folder: C:\\Google Drive\\AIC Experiment Data\\DARP\\ITSC_instance_paper\\Results\\Chicago\\start_18-00\\duration_30_min\\max_delay_03_min\\vga\n",
      "10:04:20 [WARNING] No solution found in folder: C:\\Google Drive\\AIC Experiment Data\\DARP\\ITSC_instance_paper\\Results\\Chicago\\start_18-00\\duration_30_min\\max_delay_05_min\\halns\n",
      "10:04:20 [WARNING] No solution found in folder: C:\\Google Drive\\AIC Experiment Data\\DARP\\ITSC_instance_paper\\Results\\Chicago\\start_18-00\\duration_30_min\\max_delay_05_min\\halns-ih\n",
      "10:04:20 [INFO] Loading json file from: C:\\Google Drive\\AIC Experiment Data\\DARP\\ITSC_instance_paper\\Results\\Chicago\\start_18-00\\duration_30_min\\max_delay_05_min\\ih\\config.yaml-performance.json\n",
      "10:04:20 [INFO] Loading json file from: C:\\Google Drive\\AIC Experiment Data\\DARP\\ITSC_instance_paper\\Results\\Chicago\\start_18-00\\duration_30_min\\max_delay_05_min\\ih\\config.yaml-solution.json\n",
      "10:04:20 [INFO] Loading experiment config from C:\\Google Drive\\AIC Experiment Data\\DARP\\ITSC_instance_paper\\Results\\Chicago\\start_18-00\\duration_30_min\\max_delay_05_min\\ih\\config.yaml\n",
      "10:04:20 [INFO] Loading instance config from C:\\Google Drive\\AIC Experiment Data\\DARP\\ITSC_instance_paper\\Instances\\Chicago\\instances\\start_18-00\\duration_30_min\\max_delay_05_min\\config.yaml\n",
      "10:04:20 [WARNING] No solution found in folder: C:\\Google Drive\\AIC Experiment Data\\DARP\\ITSC_instance_paper\\Results\\Chicago\\start_18-00\\duration_30_min\\max_delay_05_min\\vga\n",
      "10:04:20 [WARNING] No solution found in folder: C:\\Google Drive\\AIC Experiment Data\\DARP\\ITSC_instance_paper\\Results\\Chicago\\start_18-00\\duration_30_min\\max_delay_10_min\\halns\n",
      "10:04:20 [WARNING] No solution found in folder: C:\\Google Drive\\AIC Experiment Data\\DARP\\ITSC_instance_paper\\Results\\Chicago\\start_18-00\\duration_30_min\\max_delay_10_min\\halns-ih\n",
      "10:04:20 [INFO] Loading json file from: C:\\Google Drive\\AIC Experiment Data\\DARP\\ITSC_instance_paper\\Results\\Chicago\\start_18-00\\duration_30_min\\max_delay_10_min\\ih\\config.yaml-performance.json\n",
      "10:04:20 [INFO] Loading json file from: C:\\Google Drive\\AIC Experiment Data\\DARP\\ITSC_instance_paper\\Results\\Chicago\\start_18-00\\duration_30_min\\max_delay_10_min\\ih\\config.yaml-solution.json\n",
      "10:04:20 [INFO] Loading experiment config from C:\\Google Drive\\AIC Experiment Data\\DARP\\ITSC_instance_paper\\Results\\Chicago\\start_18-00\\duration_30_min\\max_delay_10_min\\ih\\config.yaml\n",
      "10:04:20 [INFO] Loading instance config from C:\\Google Drive\\AIC Experiment Data\\DARP\\ITSC_instance_paper\\Instances\\Chicago\\instances\\start_18-00\\duration_30_min\\max_delay_10_min\\config.yaml\n",
      "10:04:20 [WARNING] No solution found in folder: C:\\Google Drive\\AIC Experiment Data\\DARP\\ITSC_instance_paper\\Results\\Chicago\\start_18-00\\duration_30_min\\max_delay_10_min\\vga\n",
      "10:04:20 [WARNING] No solution found in folder: C:\\Google Drive\\AIC Experiment Data\\DARP\\ITSC_instance_paper\\Results\\Chicago\\start_18-00\\duration_30_s\\max_delay_03_min\\halns\n",
      "10:04:20 [WARNING] No solution found in folder: C:\\Google Drive\\AIC Experiment Data\\DARP\\ITSC_instance_paper\\Results\\Chicago\\start_18-00\\duration_30_s\\max_delay_03_min\\halns-ih\n",
      "10:04:20 [INFO] Loading json file from: C:\\Google Drive\\AIC Experiment Data\\DARP\\ITSC_instance_paper\\Results\\Chicago\\start_18-00\\duration_30_s\\max_delay_03_min\\ih\\config.yaml-performance.json\n",
      "10:04:20 [INFO] Loading json file from: C:\\Google Drive\\AIC Experiment Data\\DARP\\ITSC_instance_paper\\Results\\Chicago\\start_18-00\\duration_30_s\\max_delay_03_min\\ih\\config.yaml-solution.json\n",
      "10:04:20 [INFO] Loading experiment config from C:\\Google Drive\\AIC Experiment Data\\DARP\\ITSC_instance_paper\\Results\\Chicago\\start_18-00\\duration_30_s\\max_delay_03_min\\ih\\config.yaml\n",
      "10:04:20 [INFO] Loading instance config from C:\\Google Drive\\AIC Experiment Data\\DARP\\ITSC_instance_paper\\Instances\\Chicago\\instances\\start_18-00\\duration_30_s\\max_delay_03_min\\config.yaml\n",
      "10:04:20 [INFO] Loading json file from: C:\\Google Drive\\AIC Experiment Data\\DARP\\ITSC_instance_paper\\Results\\Chicago\\start_18-00\\duration_30_s\\max_delay_03_min\\vga\\config.yaml-performance.json\n",
      "10:04:20 [INFO] Loading json file from: C:\\Google Drive\\AIC Experiment Data\\DARP\\ITSC_instance_paper\\Results\\Chicago\\start_18-00\\duration_30_s\\max_delay_03_min\\vga\\config.yaml-solution.json\n",
      "10:04:20 [INFO] Loading experiment config from C:\\Google Drive\\AIC Experiment Data\\DARP\\ITSC_instance_paper\\Results\\Chicago\\start_18-00\\duration_30_s\\max_delay_03_min\\vga\\config.yaml\n",
      "10:04:20 [INFO] Loading instance config from C:\\Google Drive\\AIC Experiment Data\\DARP\\ITSC_instance_paper\\Instances\\Chicago\\instances\\start_18-00\\duration_30_s\\max_delay_03_min\\config.yaml\n",
      "10:04:20 [WARNING] No solution found in folder: C:\\Google Drive\\AIC Experiment Data\\DARP\\ITSC_instance_paper\\Results\\Chicago\\start_18-00\\duration_30_s\\max_delay_05_min\\halns\n",
      "10:04:20 [WARNING] No solution found in folder: C:\\Google Drive\\AIC Experiment Data\\DARP\\ITSC_instance_paper\\Results\\Chicago\\start_18-00\\duration_30_s\\max_delay_05_min\\halns-ih\n",
      "10:04:20 [INFO] Loading json file from: C:\\Google Drive\\AIC Experiment Data\\DARP\\ITSC_instance_paper\\Results\\Chicago\\start_18-00\\duration_30_s\\max_delay_05_min\\ih\\config.yaml-performance.json\n",
      "10:04:20 [INFO] Loading json file from: C:\\Google Drive\\AIC Experiment Data\\DARP\\ITSC_instance_paper\\Results\\Chicago\\start_18-00\\duration_30_s\\max_delay_05_min\\ih\\config.yaml-solution.json\n",
      "10:04:20 [INFO] Loading experiment config from C:\\Google Drive\\AIC Experiment Data\\DARP\\ITSC_instance_paper\\Results\\Chicago\\start_18-00\\duration_30_s\\max_delay_05_min\\ih\\config.yaml\n",
      "10:04:20 [INFO] Loading instance config from C:\\Google Drive\\AIC Experiment Data\\DARP\\ITSC_instance_paper\\Instances\\Chicago\\instances\\start_18-00\\duration_30_s\\max_delay_05_min\\config.yaml\n",
      "10:04:20 [INFO] Loading json file from: C:\\Google Drive\\AIC Experiment Data\\DARP\\ITSC_instance_paper\\Results\\Chicago\\start_18-00\\duration_30_s\\max_delay_05_min\\vga\\config.yaml-performance.json\n",
      "10:04:20 [INFO] Loading json file from: C:\\Google Drive\\AIC Experiment Data\\DARP\\ITSC_instance_paper\\Results\\Chicago\\start_18-00\\duration_30_s\\max_delay_05_min\\vga\\config.yaml-solution.json\n",
      "10:04:20 [INFO] Loading experiment config from C:\\Google Drive\\AIC Experiment Data\\DARP\\ITSC_instance_paper\\Results\\Chicago\\start_18-00\\duration_30_s\\max_delay_05_min\\vga\\config.yaml\n",
      "10:04:20 [INFO] Loading instance config from C:\\Google Drive\\AIC Experiment Data\\DARP\\ITSC_instance_paper\\Instances\\Chicago\\instances\\start_18-00\\duration_30_s\\max_delay_05_min\\config.yaml\n",
      "10:04:20 [WARNING] No solution found in folder: C:\\Google Drive\\AIC Experiment Data\\DARP\\ITSC_instance_paper\\Results\\Chicago\\start_18-00\\duration_30_s\\max_delay_10_min\\halns\n",
      "10:04:20 [WARNING] No solution found in folder: C:\\Google Drive\\AIC Experiment Data\\DARP\\ITSC_instance_paper\\Results\\Chicago\\start_18-00\\duration_30_s\\max_delay_10_min\\halns-ih\n",
      "10:04:20 [INFO] Loading json file from: C:\\Google Drive\\AIC Experiment Data\\DARP\\ITSC_instance_paper\\Results\\Chicago\\start_18-00\\duration_30_s\\max_delay_10_min\\ih\\config.yaml-performance.json\n",
      "10:04:20 [INFO] Loading json file from: C:\\Google Drive\\AIC Experiment Data\\DARP\\ITSC_instance_paper\\Results\\Chicago\\start_18-00\\duration_30_s\\max_delay_10_min\\ih\\config.yaml-solution.json\n",
      "10:04:20 [INFO] Loading experiment config from C:\\Google Drive\\AIC Experiment Data\\DARP\\ITSC_instance_paper\\Results\\Chicago\\start_18-00\\duration_30_s\\max_delay_10_min\\ih\\config.yaml\n",
      "10:04:20 [INFO] Loading instance config from C:\\Google Drive\\AIC Experiment Data\\DARP\\ITSC_instance_paper\\Instances\\Chicago\\instances\\start_18-00\\duration_30_s\\max_delay_10_min\\config.yaml\n",
      "10:04:20 [INFO] Loading json file from: C:\\Google Drive\\AIC Experiment Data\\DARP\\ITSC_instance_paper\\Results\\Chicago\\start_18-00\\duration_30_s\\max_delay_10_min\\vga\\config.yaml-performance.json\n",
      "10:04:20 [INFO] Loading json file from: C:\\Google Drive\\AIC Experiment Data\\DARP\\ITSC_instance_paper\\Results\\Chicago\\start_18-00\\duration_30_s\\max_delay_10_min\\vga\\config.yaml-solution.json\n",
      "10:04:20 [INFO] Loading experiment config from C:\\Google Drive\\AIC Experiment Data\\DARP\\ITSC_instance_paper\\Results\\Chicago\\start_18-00\\duration_30_s\\max_delay_10_min\\vga\\config.yaml\n",
      "10:04:20 [INFO] Loading instance config from C:\\Google Drive\\AIC Experiment Data\\DARP\\ITSC_instance_paper\\Instances\\Chicago\\instances\\start_18-00\\duration_30_s\\max_delay_10_min\\config.yaml\n",
      "10:04:20 [INFO] Loading aggregate stats in C:\\Google Drive\\AIC Experiment Data\\DARP\\ITSC_instance_paper\\Results\\DC\n",
      "10:04:20 [WARNING] No solution found in folder: C:\\Google Drive\\AIC Experiment Data\\DARP\\ITSC_instance_paper\\Results\\DC\\start_18-00\\duration_01_min\\max_delay_03_min\\halns\n",
      "10:04:20 [WARNING] No solution found in folder: C:\\Google Drive\\AIC Experiment Data\\DARP\\ITSC_instance_paper\\Results\\DC\\start_18-00\\duration_01_min\\max_delay_03_min\\halns-ih\n",
      "10:04:20 [INFO] Loading json file from: C:\\Google Drive\\AIC Experiment Data\\DARP\\ITSC_instance_paper\\Results\\DC\\start_18-00\\duration_01_min\\max_delay_03_min\\ih\\config.yaml-performance.json\n",
      "10:04:20 [INFO] Loading json file from: C:\\Google Drive\\AIC Experiment Data\\DARP\\ITSC_instance_paper\\Results\\DC\\start_18-00\\duration_01_min\\max_delay_03_min\\ih\\config.yaml-solution.json\n",
      "10:04:20 [INFO] Loading experiment config from C:\\Google Drive\\AIC Experiment Data\\DARP\\ITSC_instance_paper\\Results\\DC\\start_18-00\\duration_01_min\\max_delay_03_min\\ih\\config.yaml\n",
      "10:04:20 [INFO] Loading instance config from C:\\Google Drive\\AIC Experiment Data\\DARP\\ITSC_instance_paper\\Instances\\DC\\instances\\start_18-00\\duration_01_min\\max_delay_03_min\\config.yaml\n",
      "10:04:20 [INFO] Loading json file from: C:\\Google Drive\\AIC Experiment Data\\DARP\\ITSC_instance_paper\\Results\\DC\\start_18-00\\duration_01_min\\max_delay_03_min\\vga\\config.yaml-performance.json\n",
      "10:04:20 [INFO] Loading json file from: C:\\Google Drive\\AIC Experiment Data\\DARP\\ITSC_instance_paper\\Results\\DC\\start_18-00\\duration_01_min\\max_delay_03_min\\vga\\config.yaml-solution.json\n",
      "10:04:20 [INFO] Loading experiment config from C:\\Google Drive\\AIC Experiment Data\\DARP\\ITSC_instance_paper\\Results\\DC\\start_18-00\\duration_01_min\\max_delay_03_min\\vga\\config.yaml\n",
      "10:04:20 [INFO] Loading instance config from C:\\Google Drive\\AIC Experiment Data\\DARP\\ITSC_instance_paper\\Instances\\DC\\instances\\start_18-00\\duration_01_min\\max_delay_03_min\\config.yaml\n",
      "10:04:20 [WARNING] No solution found in folder: C:\\Google Drive\\AIC Experiment Data\\DARP\\ITSC_instance_paper\\Results\\DC\\start_18-00\\duration_01_min\\max_delay_05_min\\halns\n",
      "10:04:20 [WARNING] No solution found in folder: C:\\Google Drive\\AIC Experiment Data\\DARP\\ITSC_instance_paper\\Results\\DC\\start_18-00\\duration_01_min\\max_delay_05_min\\halns-ih\n",
      "10:04:20 [INFO] Loading json file from: C:\\Google Drive\\AIC Experiment Data\\DARP\\ITSC_instance_paper\\Results\\DC\\start_18-00\\duration_01_min\\max_delay_05_min\\ih\\config.yaml-performance.json\n",
      "10:04:20 [INFO] Loading json file from: C:\\Google Drive\\AIC Experiment Data\\DARP\\ITSC_instance_paper\\Results\\DC\\start_18-00\\duration_01_min\\max_delay_05_min\\ih\\config.yaml-solution.json\n",
      "10:04:20 [INFO] Loading experiment config from C:\\Google Drive\\AIC Experiment Data\\DARP\\ITSC_instance_paper\\Results\\DC\\start_18-00\\duration_01_min\\max_delay_05_min\\ih\\config.yaml\n",
      "10:04:20 [INFO] Loading instance config from C:\\Google Drive\\AIC Experiment Data\\DARP\\ITSC_instance_paper\\Instances\\DC\\instances\\start_18-00\\duration_01_min\\max_delay_05_min\\config.yaml\n",
      "10:04:20 [INFO] Loading json file from: C:\\Google Drive\\AIC Experiment Data\\DARP\\ITSC_instance_paper\\Results\\DC\\start_18-00\\duration_01_min\\max_delay_05_min\\vga\\config.yaml-performance.json\n",
      "10:04:20 [INFO] Loading json file from: C:\\Google Drive\\AIC Experiment Data\\DARP\\ITSC_instance_paper\\Results\\DC\\start_18-00\\duration_01_min\\max_delay_05_min\\vga\\config.yaml-solution.json\n",
      "10:04:20 [INFO] Loading experiment config from C:\\Google Drive\\AIC Experiment Data\\DARP\\ITSC_instance_paper\\Results\\DC\\start_18-00\\duration_01_min\\max_delay_05_min\\vga\\config.yaml\n",
      "10:04:20 [INFO] Loading instance config from C:\\Google Drive\\AIC Experiment Data\\DARP\\ITSC_instance_paper\\Instances\\DC\\instances\\start_18-00\\duration_01_min\\max_delay_05_min\\config.yaml\n",
      "10:04:20 [WARNING] No solution found in folder: C:\\Google Drive\\AIC Experiment Data\\DARP\\ITSC_instance_paper\\Results\\DC\\start_18-00\\duration_01_min\\max_delay_10_min\\halns\n",
      "10:04:20 [WARNING] No solution found in folder: C:\\Google Drive\\AIC Experiment Data\\DARP\\ITSC_instance_paper\\Results\\DC\\start_18-00\\duration_01_min\\max_delay_10_min\\halns-ih\n",
      "10:04:20 [INFO] Loading json file from: C:\\Google Drive\\AIC Experiment Data\\DARP\\ITSC_instance_paper\\Results\\DC\\start_18-00\\duration_01_min\\max_delay_10_min\\ih\\config.yaml-performance.json\n",
      "10:04:20 [INFO] Loading json file from: C:\\Google Drive\\AIC Experiment Data\\DARP\\ITSC_instance_paper\\Results\\DC\\start_18-00\\duration_01_min\\max_delay_10_min\\ih\\config.yaml-solution.json\n",
      "10:04:20 [INFO] Loading experiment config from C:\\Google Drive\\AIC Experiment Data\\DARP\\ITSC_instance_paper\\Results\\DC\\start_18-00\\duration_01_min\\max_delay_10_min\\ih\\config.yaml\n",
      "10:04:20 [INFO] Loading instance config from C:\\Google Drive\\AIC Experiment Data\\DARP\\ITSC_instance_paper\\Instances\\DC\\instances\\start_18-00\\duration_01_min\\max_delay_10_min\\config.yaml\n",
      "10:04:20 [INFO] Loading json file from: C:\\Google Drive\\AIC Experiment Data\\DARP\\ITSC_instance_paper\\Results\\DC\\start_18-00\\duration_01_min\\max_delay_10_min\\vga\\config.yaml-performance.json\n",
      "10:04:20 [INFO] Loading json file from: C:\\Google Drive\\AIC Experiment Data\\DARP\\ITSC_instance_paper\\Results\\DC\\start_18-00\\duration_01_min\\max_delay_10_min\\vga\\config.yaml-solution.json\n",
      "10:04:20 [INFO] Loading experiment config from C:\\Google Drive\\AIC Experiment Data\\DARP\\ITSC_instance_paper\\Results\\DC\\start_18-00\\duration_01_min\\max_delay_10_min\\vga\\config.yaml\n",
      "10:04:20 [INFO] Loading instance config from C:\\Google Drive\\AIC Experiment Data\\DARP\\ITSC_instance_paper\\Instances\\DC\\instances\\start_18-00\\duration_01_min\\max_delay_10_min\\config.yaml\n",
      "10:04:20 [WARNING] No solution found in folder: C:\\Google Drive\\AIC Experiment Data\\DARP\\ITSC_instance_paper\\Results\\DC\\start_18-00\\duration_02_h\\max_delay_03_min\\halns\n",
      "10:04:20 [WARNING] No solution found in folder: C:\\Google Drive\\AIC Experiment Data\\DARP\\ITSC_instance_paper\\Results\\DC\\start_18-00\\duration_02_h\\max_delay_03_min\\halns-ih\n",
      "10:04:20 [INFO] Loading json file from: C:\\Google Drive\\AIC Experiment Data\\DARP\\ITSC_instance_paper\\Results\\DC\\start_18-00\\duration_02_h\\max_delay_03_min\\ih\\config.yaml-performance.json\n",
      "10:04:20 [INFO] Loading json file from: C:\\Google Drive\\AIC Experiment Data\\DARP\\ITSC_instance_paper\\Results\\DC\\start_18-00\\duration_02_h\\max_delay_03_min\\ih\\config.yaml-solution.json\n",
      "10:04:20 [INFO] Loading experiment config from C:\\Google Drive\\AIC Experiment Data\\DARP\\ITSC_instance_paper\\Results\\DC\\start_18-00\\duration_02_h\\max_delay_03_min\\ih\\config.yaml\n",
      "10:04:20 [INFO] Loading instance config from C:\\Google Drive\\AIC Experiment Data\\DARP\\ITSC_instance_paper\\Instances\\DC\\instances\\start_18-00\\duration_02_h\\max_delay_03_min\\config.yaml\n",
      "10:04:20 [WARNING] No solution found in folder: C:\\Google Drive\\AIC Experiment Data\\DARP\\ITSC_instance_paper\\Results\\DC\\start_18-00\\duration_02_h\\max_delay_03_min\\vga\n",
      "10:04:20 [WARNING] No solution found in folder: C:\\Google Drive\\AIC Experiment Data\\DARP\\ITSC_instance_paper\\Results\\DC\\start_18-00\\duration_02_h\\max_delay_05_min\\halns\n",
      "10:04:20 [WARNING] No solution found in folder: C:\\Google Drive\\AIC Experiment Data\\DARP\\ITSC_instance_paper\\Results\\DC\\start_18-00\\duration_02_h\\max_delay_05_min\\halns-ih\n",
      "10:04:20 [INFO] Loading json file from: C:\\Google Drive\\AIC Experiment Data\\DARP\\ITSC_instance_paper\\Results\\DC\\start_18-00\\duration_02_h\\max_delay_05_min\\ih\\config.yaml-performance.json\n",
      "10:04:20 [INFO] Loading json file from: C:\\Google Drive\\AIC Experiment Data\\DARP\\ITSC_instance_paper\\Results\\DC\\start_18-00\\duration_02_h\\max_delay_05_min\\ih\\config.yaml-solution.json\n",
      "10:04:20 [INFO] Loading experiment config from C:\\Google Drive\\AIC Experiment Data\\DARP\\ITSC_instance_paper\\Results\\DC\\start_18-00\\duration_02_h\\max_delay_05_min\\ih\\config.yaml\n",
      "10:04:20 [INFO] Loading instance config from C:\\Google Drive\\AIC Experiment Data\\DARP\\ITSC_instance_paper\\Instances\\DC\\instances\\start_18-00\\duration_02_h\\max_delay_05_min\\config.yaml\n",
      "10:04:20 [WARNING] No solution found in folder: C:\\Google Drive\\AIC Experiment Data\\DARP\\ITSC_instance_paper\\Results\\DC\\start_18-00\\duration_02_h\\max_delay_05_min\\vga\n",
      "10:04:20 [WARNING] No solution found in folder: C:\\Google Drive\\AIC Experiment Data\\DARP\\ITSC_instance_paper\\Results\\DC\\start_18-00\\duration_02_h\\max_delay_10_min\\halns\n",
      "10:04:20 [WARNING] No solution found in folder: C:\\Google Drive\\AIC Experiment Data\\DARP\\ITSC_instance_paper\\Results\\DC\\start_18-00\\duration_02_h\\max_delay_10_min\\halns-ih\n",
      "10:04:20 [INFO] Loading json file from: C:\\Google Drive\\AIC Experiment Data\\DARP\\ITSC_instance_paper\\Results\\DC\\start_18-00\\duration_02_h\\max_delay_10_min\\ih\\config.yaml-performance.json\n",
      "10:04:20 [INFO] Loading json file from: C:\\Google Drive\\AIC Experiment Data\\DARP\\ITSC_instance_paper\\Results\\DC\\start_18-00\\duration_02_h\\max_delay_10_min\\ih\\config.yaml-solution.json\n",
      "10:04:20 [INFO] Loading experiment config from C:\\Google Drive\\AIC Experiment Data\\DARP\\ITSC_instance_paper\\Results\\DC\\start_18-00\\duration_02_h\\max_delay_10_min\\ih\\config.yaml\n",
      "10:04:20 [INFO] Loading instance config from C:\\Google Drive\\AIC Experiment Data\\DARP\\ITSC_instance_paper\\Instances\\DC\\instances\\start_18-00\\duration_02_h\\max_delay_10_min\\config.yaml\n",
      "10:04:20 [WARNING] No solution found in folder: C:\\Google Drive\\AIC Experiment Data\\DARP\\ITSC_instance_paper\\Results\\DC\\start_18-00\\duration_02_h\\max_delay_10_min\\vga\n",
      "10:04:20 [WARNING] No solution found in folder: C:\\Google Drive\\AIC Experiment Data\\DARP\\ITSC_instance_paper\\Results\\DC\\start_18-00\\duration_02_min\\max_delay_03_min\\halns\n",
      "10:04:20 [WARNING] No solution found in folder: C:\\Google Drive\\AIC Experiment Data\\DARP\\ITSC_instance_paper\\Results\\DC\\start_18-00\\duration_02_min\\max_delay_03_min\\halns-ih\n",
      "10:04:20 [INFO] Loading json file from: C:\\Google Drive\\AIC Experiment Data\\DARP\\ITSC_instance_paper\\Results\\DC\\start_18-00\\duration_02_min\\max_delay_03_min\\ih\\config.yaml-performance.json\n",
      "10:04:20 [INFO] Loading json file from: C:\\Google Drive\\AIC Experiment Data\\DARP\\ITSC_instance_paper\\Results\\DC\\start_18-00\\duration_02_min\\max_delay_03_min\\ih\\config.yaml-solution.json\n",
      "10:04:20 [INFO] Loading experiment config from C:\\Google Drive\\AIC Experiment Data\\DARP\\ITSC_instance_paper\\Results\\DC\\start_18-00\\duration_02_min\\max_delay_03_min\\ih\\config.yaml\n",
      "10:04:20 [INFO] Loading instance config from C:\\Google Drive\\AIC Experiment Data\\DARP\\ITSC_instance_paper\\Instances\\DC\\instances\\start_18-00\\duration_02_min\\max_delay_03_min\\config.yaml\n",
      "10:04:20 [INFO] Loading json file from: C:\\Google Drive\\AIC Experiment Data\\DARP\\ITSC_instance_paper\\Results\\DC\\start_18-00\\duration_02_min\\max_delay_03_min\\vga\\config.yaml-performance.json\n",
      "10:04:20 [INFO] Loading json file from: C:\\Google Drive\\AIC Experiment Data\\DARP\\ITSC_instance_paper\\Results\\DC\\start_18-00\\duration_02_min\\max_delay_03_min\\vga\\config.yaml-solution.json\n",
      "10:04:20 [INFO] Loading experiment config from C:\\Google Drive\\AIC Experiment Data\\DARP\\ITSC_instance_paper\\Results\\DC\\start_18-00\\duration_02_min\\max_delay_03_min\\vga\\config.yaml\n",
      "10:04:20 [INFO] Loading instance config from C:\\Google Drive\\AIC Experiment Data\\DARP\\ITSC_instance_paper\\Instances\\DC\\instances\\start_18-00\\duration_02_min\\max_delay_03_min\\config.yaml\n",
      "10:04:20 [WARNING] No solution found in folder: C:\\Google Drive\\AIC Experiment Data\\DARP\\ITSC_instance_paper\\Results\\DC\\start_18-00\\duration_02_min\\max_delay_05_min\\halns\n",
      "10:04:20 [WARNING] No solution found in folder: C:\\Google Drive\\AIC Experiment Data\\DARP\\ITSC_instance_paper\\Results\\DC\\start_18-00\\duration_02_min\\max_delay_05_min\\halns-ih\n",
      "10:04:20 [INFO] Loading json file from: C:\\Google Drive\\AIC Experiment Data\\DARP\\ITSC_instance_paper\\Results\\DC\\start_18-00\\duration_02_min\\max_delay_05_min\\ih\\config.yaml-performance.json\n",
      "10:04:20 [INFO] Loading json file from: C:\\Google Drive\\AIC Experiment Data\\DARP\\ITSC_instance_paper\\Results\\DC\\start_18-00\\duration_02_min\\max_delay_05_min\\ih\\config.yaml-solution.json\n",
      "10:04:20 [INFO] Loading experiment config from C:\\Google Drive\\AIC Experiment Data\\DARP\\ITSC_instance_paper\\Results\\DC\\start_18-00\\duration_02_min\\max_delay_05_min\\ih\\config.yaml\n",
      "10:04:20 [INFO] Loading instance config from C:\\Google Drive\\AIC Experiment Data\\DARP\\ITSC_instance_paper\\Instances\\DC\\instances\\start_18-00\\duration_02_min\\max_delay_05_min\\config.yaml\n",
      "10:04:20 [INFO] Loading json file from: C:\\Google Drive\\AIC Experiment Data\\DARP\\ITSC_instance_paper\\Results\\DC\\start_18-00\\duration_02_min\\max_delay_05_min\\vga\\config.yaml-performance.json\n",
      "10:04:20 [INFO] Loading json file from: C:\\Google Drive\\AIC Experiment Data\\DARP\\ITSC_instance_paper\\Results\\DC\\start_18-00\\duration_02_min\\max_delay_05_min\\vga\\config.yaml-solution.json\n",
      "10:04:20 [INFO] Loading experiment config from C:\\Google Drive\\AIC Experiment Data\\DARP\\ITSC_instance_paper\\Results\\DC\\start_18-00\\duration_02_min\\max_delay_05_min\\vga\\config.yaml\n",
      "10:04:20 [INFO] Loading instance config from C:\\Google Drive\\AIC Experiment Data\\DARP\\ITSC_instance_paper\\Instances\\DC\\instances\\start_18-00\\duration_02_min\\max_delay_05_min\\config.yaml\n",
      "10:04:20 [WARNING] No solution found in folder: C:\\Google Drive\\AIC Experiment Data\\DARP\\ITSC_instance_paper\\Results\\DC\\start_18-00\\duration_02_min\\max_delay_10_min\\halns\n",
      "10:04:20 [WARNING] No solution found in folder: C:\\Google Drive\\AIC Experiment Data\\DARP\\ITSC_instance_paper\\Results\\DC\\start_18-00\\duration_02_min\\max_delay_10_min\\halns-ih\n",
      "10:04:20 [INFO] Loading json file from: C:\\Google Drive\\AIC Experiment Data\\DARP\\ITSC_instance_paper\\Results\\DC\\start_18-00\\duration_02_min\\max_delay_10_min\\ih\\config.yaml-performance.json\n",
      "10:04:20 [INFO] Loading json file from: C:\\Google Drive\\AIC Experiment Data\\DARP\\ITSC_instance_paper\\Results\\DC\\start_18-00\\duration_02_min\\max_delay_10_min\\ih\\config.yaml-solution.json\n",
      "10:04:20 [INFO] Loading experiment config from C:\\Google Drive\\AIC Experiment Data\\DARP\\ITSC_instance_paper\\Results\\DC\\start_18-00\\duration_02_min\\max_delay_10_min\\ih\\config.yaml\n",
      "10:04:20 [INFO] Loading instance config from C:\\Google Drive\\AIC Experiment Data\\DARP\\ITSC_instance_paper\\Instances\\DC\\instances\\start_18-00\\duration_02_min\\max_delay_10_min\\config.yaml\n",
      "10:04:20 [INFO] Loading json file from: C:\\Google Drive\\AIC Experiment Data\\DARP\\ITSC_instance_paper\\Results\\DC\\start_18-00\\duration_02_min\\max_delay_10_min\\vga\\config.yaml-performance.json\n",
      "10:04:20 [INFO] Loading json file from: C:\\Google Drive\\AIC Experiment Data\\DARP\\ITSC_instance_paper\\Results\\DC\\start_18-00\\duration_02_min\\max_delay_10_min\\vga\\config.yaml-solution.json\n",
      "10:04:20 [INFO] Loading experiment config from C:\\Google Drive\\AIC Experiment Data\\DARP\\ITSC_instance_paper\\Results\\DC\\start_18-00\\duration_02_min\\max_delay_10_min\\vga\\config.yaml\n",
      "10:04:20 [INFO] Loading instance config from C:\\Google Drive\\AIC Experiment Data\\DARP\\ITSC_instance_paper\\Instances\\DC\\instances\\start_18-00\\duration_02_min\\max_delay_10_min\\config.yaml\n",
      "10:04:20 [WARNING] No solution found in folder: C:\\Google Drive\\AIC Experiment Data\\DARP\\ITSC_instance_paper\\Results\\DC\\start_18-00\\duration_05_min\\max_delay_03_min\\halns\n",
      "10:04:20 [WARNING] No solution found in folder: C:\\Google Drive\\AIC Experiment Data\\DARP\\ITSC_instance_paper\\Results\\DC\\start_18-00\\duration_05_min\\max_delay_03_min\\halns-ih\n",
      "10:04:20 [INFO] Loading json file from: C:\\Google Drive\\AIC Experiment Data\\DARP\\ITSC_instance_paper\\Results\\DC\\start_18-00\\duration_05_min\\max_delay_03_min\\ih\\config.yaml-performance.json\n",
      "10:04:20 [INFO] Loading json file from: C:\\Google Drive\\AIC Experiment Data\\DARP\\ITSC_instance_paper\\Results\\DC\\start_18-00\\duration_05_min\\max_delay_03_min\\ih\\config.yaml-solution.json\n",
      "10:04:20 [INFO] Loading experiment config from C:\\Google Drive\\AIC Experiment Data\\DARP\\ITSC_instance_paper\\Results\\DC\\start_18-00\\duration_05_min\\max_delay_03_min\\ih\\config.yaml\n",
      "10:04:20 [INFO] Loading instance config from C:\\Google Drive\\AIC Experiment Data\\DARP\\ITSC_instance_paper\\Instances\\DC\\instances\\start_18-00\\duration_05_min\\max_delay_03_min\\config.yaml\n",
      "10:04:20 [INFO] Loading json file from: C:\\Google Drive\\AIC Experiment Data\\DARP\\ITSC_instance_paper\\Results\\DC\\start_18-00\\duration_05_min\\max_delay_03_min\\vga\\config.yaml-performance.json\n",
      "10:04:20 [INFO] Loading json file from: C:\\Google Drive\\AIC Experiment Data\\DARP\\ITSC_instance_paper\\Results\\DC\\start_18-00\\duration_05_min\\max_delay_03_min\\vga\\config.yaml-solution.json\n",
      "10:04:20 [INFO] Loading experiment config from C:\\Google Drive\\AIC Experiment Data\\DARP\\ITSC_instance_paper\\Results\\DC\\start_18-00\\duration_05_min\\max_delay_03_min\\vga\\config.yaml\n",
      "10:04:20 [INFO] Loading instance config from C:\\Google Drive\\AIC Experiment Data\\DARP\\ITSC_instance_paper\\Instances\\DC\\instances\\start_18-00\\duration_05_min\\max_delay_03_min\\config.yaml\n",
      "10:04:20 [WARNING] No solution found in folder: C:\\Google Drive\\AIC Experiment Data\\DARP\\ITSC_instance_paper\\Results\\DC\\start_18-00\\duration_05_min\\max_delay_05_min\\halns\n",
      "10:04:20 [WARNING] No solution found in folder: C:\\Google Drive\\AIC Experiment Data\\DARP\\ITSC_instance_paper\\Results\\DC\\start_18-00\\duration_05_min\\max_delay_05_min\\halns-ih\n",
      "10:04:20 [INFO] Loading json file from: C:\\Google Drive\\AIC Experiment Data\\DARP\\ITSC_instance_paper\\Results\\DC\\start_18-00\\duration_05_min\\max_delay_05_min\\ih\\config.yaml-performance.json\n",
      "10:04:20 [INFO] Loading json file from: C:\\Google Drive\\AIC Experiment Data\\DARP\\ITSC_instance_paper\\Results\\DC\\start_18-00\\duration_05_min\\max_delay_05_min\\ih\\config.yaml-solution.json\n",
      "10:04:20 [INFO] Loading experiment config from C:\\Google Drive\\AIC Experiment Data\\DARP\\ITSC_instance_paper\\Results\\DC\\start_18-00\\duration_05_min\\max_delay_05_min\\ih\\config.yaml\n",
      "10:04:20 [INFO] Loading instance config from C:\\Google Drive\\AIC Experiment Data\\DARP\\ITSC_instance_paper\\Instances\\DC\\instances\\start_18-00\\duration_05_min\\max_delay_05_min\\config.yaml\n",
      "10:04:20 [INFO] Loading json file from: C:\\Google Drive\\AIC Experiment Data\\DARP\\ITSC_instance_paper\\Results\\DC\\start_18-00\\duration_05_min\\max_delay_05_min\\vga\\config.yaml-performance.json\n",
      "10:04:20 [INFO] Loading json file from: C:\\Google Drive\\AIC Experiment Data\\DARP\\ITSC_instance_paper\\Results\\DC\\start_18-00\\duration_05_min\\max_delay_05_min\\vga\\config.yaml-solution.json\n",
      "10:04:20 [INFO] Loading experiment config from C:\\Google Drive\\AIC Experiment Data\\DARP\\ITSC_instance_paper\\Results\\DC\\start_18-00\\duration_05_min\\max_delay_05_min\\vga\\config.yaml\n",
      "10:04:20 [INFO] Loading instance config from C:\\Google Drive\\AIC Experiment Data\\DARP\\ITSC_instance_paper\\Instances\\DC\\instances\\start_18-00\\duration_05_min\\max_delay_05_min\\config.yaml\n",
      "10:04:20 [WARNING] No solution found in folder: C:\\Google Drive\\AIC Experiment Data\\DARP\\ITSC_instance_paper\\Results\\DC\\start_18-00\\duration_05_min\\max_delay_10_min\\halns\n",
      "10:04:20 [WARNING] No solution found in folder: C:\\Google Drive\\AIC Experiment Data\\DARP\\ITSC_instance_paper\\Results\\DC\\start_18-00\\duration_05_min\\max_delay_10_min\\halns-ih\n",
      "10:04:20 [INFO] Loading json file from: C:\\Google Drive\\AIC Experiment Data\\DARP\\ITSC_instance_paper\\Results\\DC\\start_18-00\\duration_05_min\\max_delay_10_min\\ih\\config.yaml-performance.json\n",
      "10:04:20 [INFO] Loading json file from: C:\\Google Drive\\AIC Experiment Data\\DARP\\ITSC_instance_paper\\Results\\DC\\start_18-00\\duration_05_min\\max_delay_10_min\\ih\\config.yaml-solution.json\n",
      "10:04:20 [INFO] Loading experiment config from C:\\Google Drive\\AIC Experiment Data\\DARP\\ITSC_instance_paper\\Results\\DC\\start_18-00\\duration_05_min\\max_delay_10_min\\ih\\config.yaml\n",
      "10:04:20 [INFO] Loading instance config from C:\\Google Drive\\AIC Experiment Data\\DARP\\ITSC_instance_paper\\Instances\\DC\\instances\\start_18-00\\duration_05_min\\max_delay_10_min\\config.yaml\n",
      "10:04:20 [INFO] Loading json file from: C:\\Google Drive\\AIC Experiment Data\\DARP\\ITSC_instance_paper\\Results\\DC\\start_18-00\\duration_05_min\\max_delay_10_min\\vga\\config.yaml-performance.json\n",
      "10:04:20 [INFO] Loading json file from: C:\\Google Drive\\AIC Experiment Data\\DARP\\ITSC_instance_paper\\Results\\DC\\start_18-00\\duration_05_min\\max_delay_10_min\\vga\\config.yaml-solution.json\n",
      "10:04:20 [INFO] Loading experiment config from C:\\Google Drive\\AIC Experiment Data\\DARP\\ITSC_instance_paper\\Results\\DC\\start_18-00\\duration_05_min\\max_delay_10_min\\vga\\config.yaml\n",
      "10:04:20 [INFO] Loading instance config from C:\\Google Drive\\AIC Experiment Data\\DARP\\ITSC_instance_paper\\Instances\\DC\\instances\\start_18-00\\duration_05_min\\max_delay_10_min\\config.yaml\n",
      "10:04:20 [WARNING] No solution found in folder: C:\\Google Drive\\AIC Experiment Data\\DARP\\ITSC_instance_paper\\Results\\DC\\start_18-00\\duration_15_min\\max_delay_03_min\\halns\n",
      "10:04:20 [WARNING] No solution found in folder: C:\\Google Drive\\AIC Experiment Data\\DARP\\ITSC_instance_paper\\Results\\DC\\start_18-00\\duration_15_min\\max_delay_03_min\\halns-ih\n",
      "10:04:20 [INFO] Loading json file from: C:\\Google Drive\\AIC Experiment Data\\DARP\\ITSC_instance_paper\\Results\\DC\\start_18-00\\duration_15_min\\max_delay_03_min\\ih\\config.yaml-performance.json\n",
      "10:04:20 [INFO] Loading json file from: C:\\Google Drive\\AIC Experiment Data\\DARP\\ITSC_instance_paper\\Results\\DC\\start_18-00\\duration_15_min\\max_delay_03_min\\ih\\config.yaml-solution.json\n",
      "10:04:20 [INFO] Loading experiment config from C:\\Google Drive\\AIC Experiment Data\\DARP\\ITSC_instance_paper\\Results\\DC\\start_18-00\\duration_15_min\\max_delay_03_min\\ih\\config.yaml\n",
      "10:04:20 [INFO] Loading instance config from C:\\Google Drive\\AIC Experiment Data\\DARP\\ITSC_instance_paper\\Instances\\DC\\instances\\start_18-00\\duration_15_min\\max_delay_03_min\\config.yaml\n",
      "10:04:20 [INFO] Loading json file from: C:\\Google Drive\\AIC Experiment Data\\DARP\\ITSC_instance_paper\\Results\\DC\\start_18-00\\duration_15_min\\max_delay_03_min\\vga\\config.yaml-performance.json\n",
      "10:04:20 [INFO] Loading json file from: C:\\Google Drive\\AIC Experiment Data\\DARP\\ITSC_instance_paper\\Results\\DC\\start_18-00\\duration_15_min\\max_delay_03_min\\vga\\config.yaml-solution.json\n",
      "10:04:20 [INFO] Loading experiment config from C:\\Google Drive\\AIC Experiment Data\\DARP\\ITSC_instance_paper\\Results\\DC\\start_18-00\\duration_15_min\\max_delay_03_min\\vga\\config.yaml\n",
      "10:04:20 [INFO] Loading instance config from C:\\Google Drive\\AIC Experiment Data\\DARP\\ITSC_instance_paper\\Instances\\DC\\instances\\start_18-00\\duration_15_min\\max_delay_03_min\\config.yaml\n",
      "10:04:20 [WARNING] No solution found in folder: C:\\Google Drive\\AIC Experiment Data\\DARP\\ITSC_instance_paper\\Results\\DC\\start_18-00\\duration_15_min\\max_delay_05_min\\halns\n",
      "10:04:20 [WARNING] No solution found in folder: C:\\Google Drive\\AIC Experiment Data\\DARP\\ITSC_instance_paper\\Results\\DC\\start_18-00\\duration_15_min\\max_delay_05_min\\halns-ih\n",
      "10:04:20 [INFO] Loading json file from: C:\\Google Drive\\AIC Experiment Data\\DARP\\ITSC_instance_paper\\Results\\DC\\start_18-00\\duration_15_min\\max_delay_05_min\\ih\\config.yaml-performance.json\n",
      "10:04:20 [INFO] Loading json file from: C:\\Google Drive\\AIC Experiment Data\\DARP\\ITSC_instance_paper\\Results\\DC\\start_18-00\\duration_15_min\\max_delay_05_min\\ih\\config.yaml-solution.json\n",
      "10:04:20 [INFO] Loading experiment config from C:\\Google Drive\\AIC Experiment Data\\DARP\\ITSC_instance_paper\\Results\\DC\\start_18-00\\duration_15_min\\max_delay_05_min\\ih\\config.yaml\n",
      "10:04:21 [INFO] Loading instance config from C:\\Google Drive\\AIC Experiment Data\\DARP\\ITSC_instance_paper\\Instances\\DC\\instances\\start_18-00\\duration_15_min\\max_delay_05_min\\config.yaml\n",
      "10:04:21 [INFO] Loading json file from: C:\\Google Drive\\AIC Experiment Data\\DARP\\ITSC_instance_paper\\Results\\DC\\start_18-00\\duration_15_min\\max_delay_05_min\\vga\\config.yaml-performance.json\n",
      "10:04:21 [INFO] Loading json file from: C:\\Google Drive\\AIC Experiment Data\\DARP\\ITSC_instance_paper\\Results\\DC\\start_18-00\\duration_15_min\\max_delay_05_min\\vga\\config.yaml-solution.json\n",
      "10:04:21 [INFO] Loading experiment config from C:\\Google Drive\\AIC Experiment Data\\DARP\\ITSC_instance_paper\\Results\\DC\\start_18-00\\duration_15_min\\max_delay_05_min\\vga\\config.yaml\n",
      "10:04:21 [INFO] Loading instance config from C:\\Google Drive\\AIC Experiment Data\\DARP\\ITSC_instance_paper\\Instances\\DC\\instances\\start_18-00\\duration_15_min\\max_delay_05_min\\config.yaml\n",
      "10:04:21 [WARNING] No solution found in folder: C:\\Google Drive\\AIC Experiment Data\\DARP\\ITSC_instance_paper\\Results\\DC\\start_18-00\\duration_15_min\\max_delay_10_min\\halns\n",
      "10:04:21 [WARNING] No solution found in folder: C:\\Google Drive\\AIC Experiment Data\\DARP\\ITSC_instance_paper\\Results\\DC\\start_18-00\\duration_15_min\\max_delay_10_min\\halns-ih\n",
      "10:04:21 [INFO] Loading json file from: C:\\Google Drive\\AIC Experiment Data\\DARP\\ITSC_instance_paper\\Results\\DC\\start_18-00\\duration_15_min\\max_delay_10_min\\ih\\config.yaml-performance.json\n",
      "10:04:21 [INFO] Loading json file from: C:\\Google Drive\\AIC Experiment Data\\DARP\\ITSC_instance_paper\\Results\\DC\\start_18-00\\duration_15_min\\max_delay_10_min\\ih\\config.yaml-solution.json\n",
      "10:04:21 [INFO] Loading experiment config from C:\\Google Drive\\AIC Experiment Data\\DARP\\ITSC_instance_paper\\Results\\DC\\start_18-00\\duration_15_min\\max_delay_10_min\\ih\\config.yaml\n",
      "10:04:21 [INFO] Loading instance config from C:\\Google Drive\\AIC Experiment Data\\DARP\\ITSC_instance_paper\\Instances\\DC\\instances\\start_18-00\\duration_15_min\\max_delay_10_min\\config.yaml\n",
      "10:04:21 [INFO] Loading json file from: C:\\Google Drive\\AIC Experiment Data\\DARP\\ITSC_instance_paper\\Results\\DC\\start_18-00\\duration_15_min\\max_delay_10_min\\vga\\config.yaml-performance.json\n",
      "10:04:21 [INFO] Loading json file from: C:\\Google Drive\\AIC Experiment Data\\DARP\\ITSC_instance_paper\\Results\\DC\\start_18-00\\duration_15_min\\max_delay_10_min\\vga\\config.yaml-solution.json\n",
      "10:04:21 [INFO] Loading experiment config from C:\\Google Drive\\AIC Experiment Data\\DARP\\ITSC_instance_paper\\Results\\DC\\start_18-00\\duration_15_min\\max_delay_10_min\\vga\\config.yaml\n",
      "10:04:21 [INFO] Loading instance config from C:\\Google Drive\\AIC Experiment Data\\DARP\\ITSC_instance_paper\\Instances\\DC\\instances\\start_18-00\\duration_15_min\\max_delay_10_min\\config.yaml\n",
      "10:04:21 [WARNING] No solution found in folder: C:\\Google Drive\\AIC Experiment Data\\DARP\\ITSC_instance_paper\\Results\\DC\\start_18-00\\duration_16_h\\max_delay_03_min\\halns\n",
      "10:04:21 [WARNING] No solution found in folder: C:\\Google Drive\\AIC Experiment Data\\DARP\\ITSC_instance_paper\\Results\\DC\\start_18-00\\duration_16_h\\max_delay_03_min\\halns-ih\n",
      "10:04:21 [INFO] Loading json file from: C:\\Google Drive\\AIC Experiment Data\\DARP\\ITSC_instance_paper\\Results\\DC\\start_18-00\\duration_16_h\\max_delay_03_min\\ih\\config.yaml-performance.json\n",
      "10:04:21 [INFO] Loading json file from: C:\\Google Drive\\AIC Experiment Data\\DARP\\ITSC_instance_paper\\Results\\DC\\start_18-00\\duration_16_h\\max_delay_03_min\\ih\\config.yaml-solution.json\n",
      "10:04:21 [INFO] Loading experiment config from C:\\Google Drive\\AIC Experiment Data\\DARP\\ITSC_instance_paper\\Results\\DC\\start_18-00\\duration_16_h\\max_delay_03_min\\ih\\config.yaml\n",
      "10:04:21 [INFO] Loading instance config from C:\\Google Drive\\AIC Experiment Data\\DARP\\ITSC_instance_paper\\Instances\\DC\\instances\\start_18-00\\duration_16_h\\max_delay_03_min\\config.yaml\n",
      "10:04:21 [WARNING] No solution found in folder: C:\\Google Drive\\AIC Experiment Data\\DARP\\ITSC_instance_paper\\Results\\DC\\start_18-00\\duration_16_h\\max_delay_03_min\\vga\n",
      "10:04:21 [WARNING] No solution found in folder: C:\\Google Drive\\AIC Experiment Data\\DARP\\ITSC_instance_paper\\Results\\DC\\start_18-00\\duration_16_h\\max_delay_05_min\\halns\n",
      "10:04:21 [WARNING] No solution found in folder: C:\\Google Drive\\AIC Experiment Data\\DARP\\ITSC_instance_paper\\Results\\DC\\start_18-00\\duration_16_h\\max_delay_05_min\\halns-ih\n",
      "10:04:21 [INFO] Loading json file from: C:\\Google Drive\\AIC Experiment Data\\DARP\\ITSC_instance_paper\\Results\\DC\\start_18-00\\duration_16_h\\max_delay_05_min\\ih\\config.yaml-performance.json\n",
      "10:04:21 [INFO] Loading json file from: C:\\Google Drive\\AIC Experiment Data\\DARP\\ITSC_instance_paper\\Results\\DC\\start_18-00\\duration_16_h\\max_delay_05_min\\ih\\config.yaml-solution.json\n",
      "10:04:21 [INFO] Loading experiment config from C:\\Google Drive\\AIC Experiment Data\\DARP\\ITSC_instance_paper\\Results\\DC\\start_18-00\\duration_16_h\\max_delay_05_min\\ih\\config.yaml\n",
      "10:04:21 [INFO] Loading instance config from C:\\Google Drive\\AIC Experiment Data\\DARP\\ITSC_instance_paper\\Instances\\DC\\instances\\start_18-00\\duration_16_h\\max_delay_05_min\\config.yaml\n",
      "10:04:21 [WARNING] No solution found in folder: C:\\Google Drive\\AIC Experiment Data\\DARP\\ITSC_instance_paper\\Results\\DC\\start_18-00\\duration_16_h\\max_delay_05_min\\vga\n",
      "10:04:21 [WARNING] No solution found in folder: C:\\Google Drive\\AIC Experiment Data\\DARP\\ITSC_instance_paper\\Results\\DC\\start_18-00\\duration_16_h\\max_delay_10_min\\halns\n",
      "10:04:21 [WARNING] No solution found in folder: C:\\Google Drive\\AIC Experiment Data\\DARP\\ITSC_instance_paper\\Results\\DC\\start_18-00\\duration_16_h\\max_delay_10_min\\halns-ih\n",
      "10:04:21 [INFO] Loading json file from: C:\\Google Drive\\AIC Experiment Data\\DARP\\ITSC_instance_paper\\Results\\DC\\start_18-00\\duration_16_h\\max_delay_10_min\\ih\\config.yaml-performance.json\n",
      "10:04:21 [INFO] Loading json file from: C:\\Google Drive\\AIC Experiment Data\\DARP\\ITSC_instance_paper\\Results\\DC\\start_18-00\\duration_16_h\\max_delay_10_min\\ih\\config.yaml-solution.json\n",
      "10:04:21 [INFO] Loading experiment config from C:\\Google Drive\\AIC Experiment Data\\DARP\\ITSC_instance_paper\\Results\\DC\\start_18-00\\duration_16_h\\max_delay_10_min\\ih\\config.yaml\n",
      "10:04:21 [INFO] Loading instance config from C:\\Google Drive\\AIC Experiment Data\\DARP\\ITSC_instance_paper\\Instances\\DC\\instances\\start_18-00\\duration_16_h\\max_delay_10_min\\config.yaml\n",
      "10:04:21 [WARNING] No solution found in folder: C:\\Google Drive\\AIC Experiment Data\\DARP\\ITSC_instance_paper\\Results\\DC\\start_18-00\\duration_16_h\\max_delay_10_min\\vga\n",
      "10:04:21 [WARNING] No solution found in folder: C:\\Google Drive\\AIC Experiment Data\\DARP\\ITSC_instance_paper\\Results\\DC\\start_18-00\\duration_30_min\\max_delay_03_min\\halns\n",
      "10:04:21 [WARNING] No solution found in folder: C:\\Google Drive\\AIC Experiment Data\\DARP\\ITSC_instance_paper\\Results\\DC\\start_18-00\\duration_30_min\\max_delay_03_min\\halns-ih\n",
      "10:04:21 [INFO] Loading json file from: C:\\Google Drive\\AIC Experiment Data\\DARP\\ITSC_instance_paper\\Results\\DC\\start_18-00\\duration_30_min\\max_delay_03_min\\ih\\config.yaml-performance.json\n",
      "10:04:21 [INFO] Loading json file from: C:\\Google Drive\\AIC Experiment Data\\DARP\\ITSC_instance_paper\\Results\\DC\\start_18-00\\duration_30_min\\max_delay_03_min\\ih\\config.yaml-solution.json\n",
      "10:04:21 [INFO] Loading experiment config from C:\\Google Drive\\AIC Experiment Data\\DARP\\ITSC_instance_paper\\Results\\DC\\start_18-00\\duration_30_min\\max_delay_03_min\\ih\\config.yaml\n",
      "10:04:21 [INFO] Loading instance config from C:\\Google Drive\\AIC Experiment Data\\DARP\\ITSC_instance_paper\\Instances\\DC\\instances\\start_18-00\\duration_30_min\\max_delay_03_min\\config.yaml\n",
      "10:04:21 [INFO] Loading json file from: C:\\Google Drive\\AIC Experiment Data\\DARP\\ITSC_instance_paper\\Results\\DC\\start_18-00\\duration_30_min\\max_delay_03_min\\vga\\config.yaml-performance.json\n",
      "10:04:21 [INFO] Loading json file from: C:\\Google Drive\\AIC Experiment Data\\DARP\\ITSC_instance_paper\\Results\\DC\\start_18-00\\duration_30_min\\max_delay_03_min\\vga\\config.yaml-solution.json\n",
      "10:04:21 [INFO] Loading experiment config from C:\\Google Drive\\AIC Experiment Data\\DARP\\ITSC_instance_paper\\Results\\DC\\start_18-00\\duration_30_min\\max_delay_03_min\\vga\\config.yaml\n",
      "10:04:21 [INFO] Loading instance config from C:\\Google Drive\\AIC Experiment Data\\DARP\\ITSC_instance_paper\\Instances\\DC\\instances\\start_18-00\\duration_30_min\\max_delay_03_min\\config.yaml\n",
      "10:04:21 [WARNING] No solution found in folder: C:\\Google Drive\\AIC Experiment Data\\DARP\\ITSC_instance_paper\\Results\\DC\\start_18-00\\duration_30_min\\max_delay_05_min\\halns\n",
      "10:04:21 [WARNING] No solution found in folder: C:\\Google Drive\\AIC Experiment Data\\DARP\\ITSC_instance_paper\\Results\\DC\\start_18-00\\duration_30_min\\max_delay_05_min\\halns-ih\n",
      "10:04:21 [INFO] Loading json file from: C:\\Google Drive\\AIC Experiment Data\\DARP\\ITSC_instance_paper\\Results\\DC\\start_18-00\\duration_30_min\\max_delay_05_min\\ih\\config.yaml-performance.json\n",
      "10:04:21 [INFO] Loading json file from: C:\\Google Drive\\AIC Experiment Data\\DARP\\ITSC_instance_paper\\Results\\DC\\start_18-00\\duration_30_min\\max_delay_05_min\\ih\\config.yaml-solution.json\n",
      "10:04:21 [INFO] Loading experiment config from C:\\Google Drive\\AIC Experiment Data\\DARP\\ITSC_instance_paper\\Results\\DC\\start_18-00\\duration_30_min\\max_delay_05_min\\ih\\config.yaml\n",
      "10:04:21 [INFO] Loading instance config from C:\\Google Drive\\AIC Experiment Data\\DARP\\ITSC_instance_paper\\Instances\\DC\\instances\\start_18-00\\duration_30_min\\max_delay_05_min\\config.yaml\n",
      "10:04:21 [INFO] Loading json file from: C:\\Google Drive\\AIC Experiment Data\\DARP\\ITSC_instance_paper\\Results\\DC\\start_18-00\\duration_30_min\\max_delay_05_min\\vga\\config.yaml-performance.json\n",
      "10:04:21 [INFO] Loading json file from: C:\\Google Drive\\AIC Experiment Data\\DARP\\ITSC_instance_paper\\Results\\DC\\start_18-00\\duration_30_min\\max_delay_05_min\\vga\\config.yaml-solution.json\n",
      "10:04:21 [INFO] Loading experiment config from C:\\Google Drive\\AIC Experiment Data\\DARP\\ITSC_instance_paper\\Results\\DC\\start_18-00\\duration_30_min\\max_delay_05_min\\vga\\config.yaml\n",
      "10:04:21 [INFO] Loading instance config from C:\\Google Drive\\AIC Experiment Data\\DARP\\ITSC_instance_paper\\Instances\\DC\\instances\\start_18-00\\duration_30_min\\max_delay_05_min\\config.yaml\n",
      "10:04:21 [WARNING] No solution found in folder: C:\\Google Drive\\AIC Experiment Data\\DARP\\ITSC_instance_paper\\Results\\DC\\start_18-00\\duration_30_min\\max_delay_10_min\\halns\n",
      "10:04:21 [WARNING] No solution found in folder: C:\\Google Drive\\AIC Experiment Data\\DARP\\ITSC_instance_paper\\Results\\DC\\start_18-00\\duration_30_min\\max_delay_10_min\\halns-ih\n",
      "10:04:21 [INFO] Loading json file from: C:\\Google Drive\\AIC Experiment Data\\DARP\\ITSC_instance_paper\\Results\\DC\\start_18-00\\duration_30_min\\max_delay_10_min\\ih\\config.yaml-performance.json\n",
      "10:04:21 [INFO] Loading json file from: C:\\Google Drive\\AIC Experiment Data\\DARP\\ITSC_instance_paper\\Results\\DC\\start_18-00\\duration_30_min\\max_delay_10_min\\ih\\config.yaml-solution.json\n",
      "10:04:21 [INFO] Loading experiment config from C:\\Google Drive\\AIC Experiment Data\\DARP\\ITSC_instance_paper\\Results\\DC\\start_18-00\\duration_30_min\\max_delay_10_min\\ih\\config.yaml\n",
      "10:04:21 [INFO] Loading instance config from C:\\Google Drive\\AIC Experiment Data\\DARP\\ITSC_instance_paper\\Instances\\DC\\instances\\start_18-00\\duration_30_min\\max_delay_10_min\\config.yaml\n",
      "10:04:21 [WARNING] No solution found in folder: C:\\Google Drive\\AIC Experiment Data\\DARP\\ITSC_instance_paper\\Results\\DC\\start_18-00\\duration_30_min\\max_delay_10_min\\vga\n",
      "10:04:21 [WARNING] No solution found in folder: C:\\Google Drive\\AIC Experiment Data\\DARP\\ITSC_instance_paper\\Results\\DC\\start_18-00\\duration_30_s\\max_delay_03_min\\halns\n",
      "10:04:21 [WARNING] No solution found in folder: C:\\Google Drive\\AIC Experiment Data\\DARP\\ITSC_instance_paper\\Results\\DC\\start_18-00\\duration_30_s\\max_delay_03_min\\halns-ih\n",
      "10:04:21 [INFO] Loading json file from: C:\\Google Drive\\AIC Experiment Data\\DARP\\ITSC_instance_paper\\Results\\DC\\start_18-00\\duration_30_s\\max_delay_03_min\\ih\\config.yaml-performance.json\n",
      "10:04:21 [INFO] Loading json file from: C:\\Google Drive\\AIC Experiment Data\\DARP\\ITSC_instance_paper\\Results\\DC\\start_18-00\\duration_30_s\\max_delay_03_min\\ih\\config.yaml-solution.json\n",
      "10:04:21 [INFO] Loading experiment config from C:\\Google Drive\\AIC Experiment Data\\DARP\\ITSC_instance_paper\\Results\\DC\\start_18-00\\duration_30_s\\max_delay_03_min\\ih\\config.yaml\n",
      "10:04:21 [INFO] Loading instance config from C:\\Google Drive\\AIC Experiment Data\\DARP\\ITSC_instance_paper\\Instances\\DC\\instances\\start_18-00\\duration_30_s\\max_delay_03_min\\config.yaml\n",
      "10:04:21 [INFO] Loading json file from: C:\\Google Drive\\AIC Experiment Data\\DARP\\ITSC_instance_paper\\Results\\DC\\start_18-00\\duration_30_s\\max_delay_03_min\\vga\\config.yaml-performance.json\n",
      "10:04:21 [INFO] Loading json file from: C:\\Google Drive\\AIC Experiment Data\\DARP\\ITSC_instance_paper\\Results\\DC\\start_18-00\\duration_30_s\\max_delay_03_min\\vga\\config.yaml-solution.json\n",
      "10:04:21 [INFO] Loading experiment config from C:\\Google Drive\\AIC Experiment Data\\DARP\\ITSC_instance_paper\\Results\\DC\\start_18-00\\duration_30_s\\max_delay_03_min\\vga\\config.yaml\n",
      "10:04:21 [INFO] Loading instance config from C:\\Google Drive\\AIC Experiment Data\\DARP\\ITSC_instance_paper\\Instances\\DC\\instances\\start_18-00\\duration_30_s\\max_delay_03_min\\config.yaml\n",
      "10:04:21 [WARNING] No solution found in folder: C:\\Google Drive\\AIC Experiment Data\\DARP\\ITSC_instance_paper\\Results\\DC\\start_18-00\\duration_30_s\\max_delay_05_min\\halns\n",
      "10:04:21 [WARNING] No solution found in folder: C:\\Google Drive\\AIC Experiment Data\\DARP\\ITSC_instance_paper\\Results\\DC\\start_18-00\\duration_30_s\\max_delay_05_min\\halns-ih\n",
      "10:04:21 [INFO] Loading json file from: C:\\Google Drive\\AIC Experiment Data\\DARP\\ITSC_instance_paper\\Results\\DC\\start_18-00\\duration_30_s\\max_delay_05_min\\ih\\config.yaml-performance.json\n",
      "10:04:21 [INFO] Loading json file from: C:\\Google Drive\\AIC Experiment Data\\DARP\\ITSC_instance_paper\\Results\\DC\\start_18-00\\duration_30_s\\max_delay_05_min\\ih\\config.yaml-solution.json\n",
      "10:04:21 [INFO] Loading experiment config from C:\\Google Drive\\AIC Experiment Data\\DARP\\ITSC_instance_paper\\Results\\DC\\start_18-00\\duration_30_s\\max_delay_05_min\\ih\\config.yaml\n",
      "10:04:21 [INFO] Loading instance config from C:\\Google Drive\\AIC Experiment Data\\DARP\\ITSC_instance_paper\\Instances\\DC\\instances\\start_18-00\\duration_30_s\\max_delay_05_min\\config.yaml\n",
      "10:04:21 [INFO] Loading json file from: C:\\Google Drive\\AIC Experiment Data\\DARP\\ITSC_instance_paper\\Results\\DC\\start_18-00\\duration_30_s\\max_delay_05_min\\vga\\config.yaml-performance.json\n",
      "10:04:21 [INFO] Loading json file from: C:\\Google Drive\\AIC Experiment Data\\DARP\\ITSC_instance_paper\\Results\\DC\\start_18-00\\duration_30_s\\max_delay_05_min\\vga\\config.yaml-solution.json\n",
      "10:04:21 [INFO] Loading experiment config from C:\\Google Drive\\AIC Experiment Data\\DARP\\ITSC_instance_paper\\Results\\DC\\start_18-00\\duration_30_s\\max_delay_05_min\\vga\\config.yaml\n",
      "10:04:21 [INFO] Loading instance config from C:\\Google Drive\\AIC Experiment Data\\DARP\\ITSC_instance_paper\\Instances\\DC\\instances\\start_18-00\\duration_30_s\\max_delay_05_min\\config.yaml\n",
      "10:04:21 [WARNING] No solution found in folder: C:\\Google Drive\\AIC Experiment Data\\DARP\\ITSC_instance_paper\\Results\\DC\\start_18-00\\duration_30_s\\max_delay_10_min\\halns\n",
      "10:04:21 [WARNING] No solution found in folder: C:\\Google Drive\\AIC Experiment Data\\DARP\\ITSC_instance_paper\\Results\\DC\\start_18-00\\duration_30_s\\max_delay_10_min\\halns-ih\n",
      "10:04:21 [INFO] Loading json file from: C:\\Google Drive\\AIC Experiment Data\\DARP\\ITSC_instance_paper\\Results\\DC\\start_18-00\\duration_30_s\\max_delay_10_min\\ih\\config.yaml-performance.json\n",
      "10:04:21 [INFO] Loading json file from: C:\\Google Drive\\AIC Experiment Data\\DARP\\ITSC_instance_paper\\Results\\DC\\start_18-00\\duration_30_s\\max_delay_10_min\\ih\\config.yaml-solution.json\n",
      "10:04:21 [INFO] Loading experiment config from C:\\Google Drive\\AIC Experiment Data\\DARP\\ITSC_instance_paper\\Results\\DC\\start_18-00\\duration_30_s\\max_delay_10_min\\ih\\config.yaml\n",
      "10:04:21 [INFO] Loading instance config from C:\\Google Drive\\AIC Experiment Data\\DARP\\ITSC_instance_paper\\Instances\\DC\\instances\\start_18-00\\duration_30_s\\max_delay_10_min\\config.yaml\n",
      "10:04:21 [INFO] Loading json file from: C:\\Google Drive\\AIC Experiment Data\\DARP\\ITSC_instance_paper\\Results\\DC\\start_18-00\\duration_30_s\\max_delay_10_min\\vga\\config.yaml-performance.json\n",
      "10:04:21 [INFO] Loading json file from: C:\\Google Drive\\AIC Experiment Data\\DARP\\ITSC_instance_paper\\Results\\DC\\start_18-00\\duration_30_s\\max_delay_10_min\\vga\\config.yaml-solution.json\n",
      "10:04:21 [INFO] Loading experiment config from C:\\Google Drive\\AIC Experiment Data\\DARP\\ITSC_instance_paper\\Results\\DC\\start_18-00\\duration_30_s\\max_delay_10_min\\vga\\config.yaml\n",
      "10:04:21 [INFO] Loading instance config from C:\\Google Drive\\AIC Experiment Data\\DARP\\ITSC_instance_paper\\Instances\\DC\\instances\\start_18-00\\duration_30_s\\max_delay_10_min\\config.yaml\n"
     ]
    },
    {
     "data": {
      "text/plain": "     cost_minutes  total_time  dropped_requests    avg_delay  plan_count   \n0            7705       0.217                 0   637.605740         516  \\\n1            7265      66.308                 0   639.945619         496   \n2            6865       0.224                 0   672.448640         417   \n3            6334     211.519                 0   672.898792         390   \n4            6250       0.342                 0   765.703927         300   \n..            ...         ...               ...          ...         ...   \n135           141       0.030                 0  1499.000000           4   \n136           141       0.000                 0  1499.000000           4   \n137           141       0.031                 0  1499.000000           4   \n138           141       0.000                 0  1499.000000           4   \n139           141       0.036                 0  1499.000000           4   \n\n     req_count  avg_occupancy  used_connections  total_driving_duration   \n0          662       0.913043                -1                  462273  \\\n1          662       0.971463                -1                  435927   \n2          662       1.080782                -1                  411874   \n3          662       1.171687                -1                  380046   \n4          662       1.351537                -1                  375016   \n..         ...            ...               ...                     ...   \n135          4       0.707576                -1                    8474   \n136          4       0.707576                -1                    8474   \n137          4       0.707576                -1                    8474   \n138          4       0.707576                -1                    8474   \n139          4       0.707576                -1                    8474   \n\n     total_waiting_duration  avg_waiting_duration  tts_cost   \n0                        20              0.038760     87521  \\\n1                       157              0.316532     70528   \n2                        15              0.035971     58316   \n3                       144              0.369231     46020   \n4                        48              0.160000     34045   \n..                      ...                   ...       ...   \n135                       0              0.000000      2478   \n136                       0              0.000000      2478   \n137                       0              0.000000      2478   \n138                       0              0.000000      2478   \n139                       0              0.000000      2478   \n\n     tts_cost_per_plan method  max_delay          start_time   \n0           169.614341     ih        180 2022-04-05 18:00:00  \\\n1           142.193548    vga        180 2022-04-05 18:00:00   \n2           139.846523     ih        300 2022-04-05 18:00:00   \n3           118.000000    vga        300 2022-04-05 18:00:00   \n4           113.483333     ih        600 2022-04-05 18:00:00   \n..                 ...    ...        ...                 ...   \n135         619.500000    vga        180 2022-04-05 18:00:00   \n136         619.500000     ih        300 2022-04-05 18:00:00   \n137         619.500000    vga        300 2022-04-05 18:00:00   \n138         619.500000     ih        600 2022-04-05 18:00:00   \n139         619.500000    vga        600 2022-04-05 18:00:00   \n\n               end_time  duration_minutes area  \n0   2022-04-05 18:01:00               1.0  NYC  \n1   2022-04-05 18:01:00               1.0  NYC  \n2   2022-04-05 18:01:00               1.0  NYC  \n3   2022-04-05 18:01:00               1.0  NYC  \n4   2022-04-05 18:01:00               1.0  NYC  \n..                  ...               ...  ...  \n135 2022-04-05 18:00:30               0.5   DC  \n136 2022-04-05 18:00:30               0.5   DC  \n137 2022-04-05 18:00:30               0.5   DC  \n138 2022-04-05 18:00:30               0.5   DC  \n139 2022-04-05 18:00:30               0.5   DC  \n\n[140 rows x 19 columns]",
      "text/html": "<div>\n<style scoped>\n    .dataframe tbody tr th:only-of-type {\n        vertical-align: middle;\n    }\n\n    .dataframe tbody tr th {\n        vertical-align: top;\n    }\n\n    .dataframe thead th {\n        text-align: right;\n    }\n</style>\n<table border=\"1\" class=\"dataframe\">\n  <thead>\n    <tr style=\"text-align: right;\">\n      <th></th>\n      <th>cost_minutes</th>\n      <th>total_time</th>\n      <th>dropped_requests</th>\n      <th>avg_delay</th>\n      <th>plan_count</th>\n      <th>req_count</th>\n      <th>avg_occupancy</th>\n      <th>used_connections</th>\n      <th>total_driving_duration</th>\n      <th>total_waiting_duration</th>\n      <th>avg_waiting_duration</th>\n      <th>tts_cost</th>\n      <th>tts_cost_per_plan</th>\n      <th>method</th>\n      <th>max_delay</th>\n      <th>start_time</th>\n      <th>end_time</th>\n      <th>duration_minutes</th>\n      <th>area</th>\n    </tr>\n  </thead>\n  <tbody>\n    <tr>\n      <th>0</th>\n      <td>7705</td>\n      <td>0.217</td>\n      <td>0</td>\n      <td>637.605740</td>\n      <td>516</td>\n      <td>662</td>\n      <td>0.913043</td>\n      <td>-1</td>\n      <td>462273</td>\n      <td>20</td>\n      <td>0.038760</td>\n      <td>87521</td>\n      <td>169.614341</td>\n      <td>ih</td>\n      <td>180</td>\n      <td>2022-04-05 18:00:00</td>\n      <td>2022-04-05 18:01:00</td>\n      <td>1.0</td>\n      <td>NYC</td>\n    </tr>\n    <tr>\n      <th>1</th>\n      <td>7265</td>\n      <td>66.308</td>\n      <td>0</td>\n      <td>639.945619</td>\n      <td>496</td>\n      <td>662</td>\n      <td>0.971463</td>\n      <td>-1</td>\n      <td>435927</td>\n      <td>157</td>\n      <td>0.316532</td>\n      <td>70528</td>\n      <td>142.193548</td>\n      <td>vga</td>\n      <td>180</td>\n      <td>2022-04-05 18:00:00</td>\n      <td>2022-04-05 18:01:00</td>\n      <td>1.0</td>\n      <td>NYC</td>\n    </tr>\n    <tr>\n      <th>2</th>\n      <td>6865</td>\n      <td>0.224</td>\n      <td>0</td>\n      <td>672.448640</td>\n      <td>417</td>\n      <td>662</td>\n      <td>1.080782</td>\n      <td>-1</td>\n      <td>411874</td>\n      <td>15</td>\n      <td>0.035971</td>\n      <td>58316</td>\n      <td>139.846523</td>\n      <td>ih</td>\n      <td>300</td>\n      <td>2022-04-05 18:00:00</td>\n      <td>2022-04-05 18:01:00</td>\n      <td>1.0</td>\n      <td>NYC</td>\n    </tr>\n    <tr>\n      <th>3</th>\n      <td>6334</td>\n      <td>211.519</td>\n      <td>0</td>\n      <td>672.898792</td>\n      <td>390</td>\n      <td>662</td>\n      <td>1.171687</td>\n      <td>-1</td>\n      <td>380046</td>\n      <td>144</td>\n      <td>0.369231</td>\n      <td>46020</td>\n      <td>118.000000</td>\n      <td>vga</td>\n      <td>300</td>\n      <td>2022-04-05 18:00:00</td>\n      <td>2022-04-05 18:01:00</td>\n      <td>1.0</td>\n      <td>NYC</td>\n    </tr>\n    <tr>\n      <th>4</th>\n      <td>6250</td>\n      <td>0.342</td>\n      <td>0</td>\n      <td>765.703927</td>\n      <td>300</td>\n      <td>662</td>\n      <td>1.351537</td>\n      <td>-1</td>\n      <td>375016</td>\n      <td>48</td>\n      <td>0.160000</td>\n      <td>34045</td>\n      <td>113.483333</td>\n      <td>ih</td>\n      <td>600</td>\n      <td>2022-04-05 18:00:00</td>\n      <td>2022-04-05 18:01:00</td>\n      <td>1.0</td>\n      <td>NYC</td>\n    </tr>\n    <tr>\n      <th>...</th>\n      <td>...</td>\n      <td>...</td>\n      <td>...</td>\n      <td>...</td>\n      <td>...</td>\n      <td>...</td>\n      <td>...</td>\n      <td>...</td>\n      <td>...</td>\n      <td>...</td>\n      <td>...</td>\n      <td>...</td>\n      <td>...</td>\n      <td>...</td>\n      <td>...</td>\n      <td>...</td>\n      <td>...</td>\n      <td>...</td>\n      <td>...</td>\n    </tr>\n    <tr>\n      <th>135</th>\n      <td>141</td>\n      <td>0.030</td>\n      <td>0</td>\n      <td>1499.000000</td>\n      <td>4</td>\n      <td>4</td>\n      <td>0.707576</td>\n      <td>-1</td>\n      <td>8474</td>\n      <td>0</td>\n      <td>0.000000</td>\n      <td>2478</td>\n      <td>619.500000</td>\n      <td>vga</td>\n      <td>180</td>\n      <td>2022-04-05 18:00:00</td>\n      <td>2022-04-05 18:00:30</td>\n      <td>0.5</td>\n      <td>DC</td>\n    </tr>\n    <tr>\n      <th>136</th>\n      <td>141</td>\n      <td>0.000</td>\n      <td>0</td>\n      <td>1499.000000</td>\n      <td>4</td>\n      <td>4</td>\n      <td>0.707576</td>\n      <td>-1</td>\n      <td>8474</td>\n      <td>0</td>\n      <td>0.000000</td>\n      <td>2478</td>\n      <td>619.500000</td>\n      <td>ih</td>\n      <td>300</td>\n      <td>2022-04-05 18:00:00</td>\n      <td>2022-04-05 18:00:30</td>\n      <td>0.5</td>\n      <td>DC</td>\n    </tr>\n    <tr>\n      <th>137</th>\n      <td>141</td>\n      <td>0.031</td>\n      <td>0</td>\n      <td>1499.000000</td>\n      <td>4</td>\n      <td>4</td>\n      <td>0.707576</td>\n      <td>-1</td>\n      <td>8474</td>\n      <td>0</td>\n      <td>0.000000</td>\n      <td>2478</td>\n      <td>619.500000</td>\n      <td>vga</td>\n      <td>300</td>\n      <td>2022-04-05 18:00:00</td>\n      <td>2022-04-05 18:00:30</td>\n      <td>0.5</td>\n      <td>DC</td>\n    </tr>\n    <tr>\n      <th>138</th>\n      <td>141</td>\n      <td>0.000</td>\n      <td>0</td>\n      <td>1499.000000</td>\n      <td>4</td>\n      <td>4</td>\n      <td>0.707576</td>\n      <td>-1</td>\n      <td>8474</td>\n      <td>0</td>\n      <td>0.000000</td>\n      <td>2478</td>\n      <td>619.500000</td>\n      <td>ih</td>\n      <td>600</td>\n      <td>2022-04-05 18:00:00</td>\n      <td>2022-04-05 18:00:30</td>\n      <td>0.5</td>\n      <td>DC</td>\n    </tr>\n    <tr>\n      <th>139</th>\n      <td>141</td>\n      <td>0.036</td>\n      <td>0</td>\n      <td>1499.000000</td>\n      <td>4</td>\n      <td>4</td>\n      <td>0.707576</td>\n      <td>-1</td>\n      <td>8474</td>\n      <td>0</td>\n      <td>0.000000</td>\n      <td>2478</td>\n      <td>619.500000</td>\n      <td>vga</td>\n      <td>600</td>\n      <td>2022-04-05 18:00:00</td>\n      <td>2022-04-05 18:00:30</td>\n      <td>0.5</td>\n      <td>DC</td>\n    </tr>\n  </tbody>\n</table>\n<p>140 rows × 19 columns</p>\n</div>"
     },
     "execution_count": 8,
     "metadata": {},
     "output_type": "execute_result"
    }
   ],
   "source": [
    "df = pd.DataFrame()\n",
    "for area in areas:\n",
    "    res_in_area = load_aggregate_stats_in_dir(final_results_path / area)\n",
    "    res_in_area['area'] = area\n",
    "    df = pd.concat([df, res_in_area], ignore_index=True)\n",
    "df"
   ],
   "metadata": {
    "collapsed": false,
    "ExecuteTime": {
     "end_time": "2023-05-26T08:04:21.414298900Z",
     "start_time": "2023-05-26T08:04:04.258859300Z"
    }
   }
  },
  {
   "cell_type": "code",
   "execution_count": 40,
   "outputs": [
    {
     "data": {
      "text/plain": "     cost_minutes  total_time  dropped_requests    avg_delay  plan_count   \n25           4387       0.080                 0   635.346505         272  \\\n26           4147       5.808                 0   635.541033         269   \n27           3878       0.115                 0   666.978723         227   \n28           3628      12.363                 0   665.699088         220   \n29           3469       0.061                 0   763.860182         162   \n..            ...         ...               ...          ...         ...   \n106         18464       0.374                 0  1073.624287         184   \n107         15744       0.499                 0  1172.247759         153   \n126         54035       2.137                 0  1007.545648         218   \n127         46890       2.381                 0  1059.411283         218   \n128         39919       2.103                 0  1156.725508         198   \n\n     req_count  avg_occupancy  used_connections  total_driving_duration   \n25         329       0.794050                -1                  263244  \\\n26         329       0.840295                -1                  248790   \n27         329       0.943008                -1                  232698   \n28         329       1.005875                -1                  217702   \n29         329       1.207583                -1                  208110   \n..         ...            ...               ...                     ...   \n106       1227       1.178538                -1                 1107846   \n107       1227       1.511977                -1                  944622   \n126       3297       1.018138                -1                 3242092   \n127       3297       1.228621                -1                 2813396   \n128       3297       1.580091                -1                 2395112   \n\n     total_waiting_duration  ...  method  max_delay          start_time   \n25                        0  ...      ih        180 2022-04-05 18:00:00  \\\n26                       36  ...     vga        180 2022-04-05 18:00:00   \n27                        0  ...      ih        300 2022-04-05 18:00:00   \n28                       34  ...     vga        300 2022-04-05 18:00:00   \n29                        0  ...      ih        600 2022-04-05 18:00:00   \n..                      ...  ...     ...        ...                 ...   \n106                  114141  ...      ih        300 2022-04-05 18:00:00   \n107                   49015  ...      ih        600 2022-04-05 18:00:00   \n126                  686325  ...      ih        180 2022-04-05 18:00:00   \n127                  655525  ...      ih        300 2022-04-05 18:00:00   \n128                  483273  ...      ih        600 2022-04-05 18:00:00   \n\n               end_time  duration_minutes area cost_per_request  area_short   \n25  2022-04-05 18:00:30               0.5  NYC       800.060790         NYC  \\\n26  2022-04-05 18:00:30               0.5  NYC       756.291793         NYC   \n27  2022-04-05 18:00:30               0.5  NYC       707.234043         NYC   \n28  2022-04-05 18:00:30               0.5  NYC       661.641337         NYC   \n29  2022-04-05 18:00:30               0.5  NYC       632.644377         NYC   \n..                  ...               ...  ...              ...         ...   \n106 2022-04-05 20:00:00             120.0   DC       902.885086          DC   \n107 2022-04-05 20:00:00             120.0   DC       769.877751          DC   \n126 2022-04-06 10:00:00             960.0   DC       983.348499          DC   \n127 2022-04-06 10:00:00             960.0   DC       853.321201          DC   \n128 2022-04-06 10:00:00             960.0   DC       726.460419          DC   \n\n    area_oreder  area_order  \n25            0           0  \n26            0           0  \n27            0           0  \n28            0           0  \n29            0           0  \n..          ...         ...  \n106           3           3  \n107           3           3  \n126           3           3  \n127           3           3  \n128           3           3  \n\n[140 rows x 23 columns]",
      "text/html": "<div>\n<style scoped>\n    .dataframe tbody tr th:only-of-type {\n        vertical-align: middle;\n    }\n\n    .dataframe tbody tr th {\n        vertical-align: top;\n    }\n\n    .dataframe thead th {\n        text-align: right;\n    }\n</style>\n<table border=\"1\" class=\"dataframe\">\n  <thead>\n    <tr style=\"text-align: right;\">\n      <th></th>\n      <th>cost_minutes</th>\n      <th>total_time</th>\n      <th>dropped_requests</th>\n      <th>avg_delay</th>\n      <th>plan_count</th>\n      <th>req_count</th>\n      <th>avg_occupancy</th>\n      <th>used_connections</th>\n      <th>total_driving_duration</th>\n      <th>total_waiting_duration</th>\n      <th>...</th>\n      <th>method</th>\n      <th>max_delay</th>\n      <th>start_time</th>\n      <th>end_time</th>\n      <th>duration_minutes</th>\n      <th>area</th>\n      <th>cost_per_request</th>\n      <th>area_short</th>\n      <th>area_oreder</th>\n      <th>area_order</th>\n    </tr>\n  </thead>\n  <tbody>\n    <tr>\n      <th>25</th>\n      <td>4387</td>\n      <td>0.080</td>\n      <td>0</td>\n      <td>635.346505</td>\n      <td>272</td>\n      <td>329</td>\n      <td>0.794050</td>\n      <td>-1</td>\n      <td>263244</td>\n      <td>0</td>\n      <td>...</td>\n      <td>ih</td>\n      <td>180</td>\n      <td>2022-04-05 18:00:00</td>\n      <td>2022-04-05 18:00:30</td>\n      <td>0.5</td>\n      <td>NYC</td>\n      <td>800.060790</td>\n      <td>NYC</td>\n      <td>0</td>\n      <td>0</td>\n    </tr>\n    <tr>\n      <th>26</th>\n      <td>4147</td>\n      <td>5.808</td>\n      <td>0</td>\n      <td>635.541033</td>\n      <td>269</td>\n      <td>329</td>\n      <td>0.840295</td>\n      <td>-1</td>\n      <td>248790</td>\n      <td>36</td>\n      <td>...</td>\n      <td>vga</td>\n      <td>180</td>\n      <td>2022-04-05 18:00:00</td>\n      <td>2022-04-05 18:00:30</td>\n      <td>0.5</td>\n      <td>NYC</td>\n      <td>756.291793</td>\n      <td>NYC</td>\n      <td>0</td>\n      <td>0</td>\n    </tr>\n    <tr>\n      <th>27</th>\n      <td>3878</td>\n      <td>0.115</td>\n      <td>0</td>\n      <td>666.978723</td>\n      <td>227</td>\n      <td>329</td>\n      <td>0.943008</td>\n      <td>-1</td>\n      <td>232698</td>\n      <td>0</td>\n      <td>...</td>\n      <td>ih</td>\n      <td>300</td>\n      <td>2022-04-05 18:00:00</td>\n      <td>2022-04-05 18:00:30</td>\n      <td>0.5</td>\n      <td>NYC</td>\n      <td>707.234043</td>\n      <td>NYC</td>\n      <td>0</td>\n      <td>0</td>\n    </tr>\n    <tr>\n      <th>28</th>\n      <td>3628</td>\n      <td>12.363</td>\n      <td>0</td>\n      <td>665.699088</td>\n      <td>220</td>\n      <td>329</td>\n      <td>1.005875</td>\n      <td>-1</td>\n      <td>217702</td>\n      <td>34</td>\n      <td>...</td>\n      <td>vga</td>\n      <td>300</td>\n      <td>2022-04-05 18:00:00</td>\n      <td>2022-04-05 18:00:30</td>\n      <td>0.5</td>\n      <td>NYC</td>\n      <td>661.641337</td>\n      <td>NYC</td>\n      <td>0</td>\n      <td>0</td>\n    </tr>\n    <tr>\n      <th>29</th>\n      <td>3469</td>\n      <td>0.061</td>\n      <td>0</td>\n      <td>763.860182</td>\n      <td>162</td>\n      <td>329</td>\n      <td>1.207583</td>\n      <td>-1</td>\n      <td>208110</td>\n      <td>0</td>\n      <td>...</td>\n      <td>ih</td>\n      <td>600</td>\n      <td>2022-04-05 18:00:00</td>\n      <td>2022-04-05 18:00:30</td>\n      <td>0.5</td>\n      <td>NYC</td>\n      <td>632.644377</td>\n      <td>NYC</td>\n      <td>0</td>\n      <td>0</td>\n    </tr>\n    <tr>\n      <th>...</th>\n      <td>...</td>\n      <td>...</td>\n      <td>...</td>\n      <td>...</td>\n      <td>...</td>\n      <td>...</td>\n      <td>...</td>\n      <td>...</td>\n      <td>...</td>\n      <td>...</td>\n      <td>...</td>\n      <td>...</td>\n      <td>...</td>\n      <td>...</td>\n      <td>...</td>\n      <td>...</td>\n      <td>...</td>\n      <td>...</td>\n      <td>...</td>\n      <td>...</td>\n      <td>...</td>\n    </tr>\n    <tr>\n      <th>106</th>\n      <td>18464</td>\n      <td>0.374</td>\n      <td>0</td>\n      <td>1073.624287</td>\n      <td>184</td>\n      <td>1227</td>\n      <td>1.178538</td>\n      <td>-1</td>\n      <td>1107846</td>\n      <td>114141</td>\n      <td>...</td>\n      <td>ih</td>\n      <td>300</td>\n      <td>2022-04-05 18:00:00</td>\n      <td>2022-04-05 20:00:00</td>\n      <td>120.0</td>\n      <td>DC</td>\n      <td>902.885086</td>\n      <td>DC</td>\n      <td>3</td>\n      <td>3</td>\n    </tr>\n    <tr>\n      <th>107</th>\n      <td>15744</td>\n      <td>0.499</td>\n      <td>0</td>\n      <td>1172.247759</td>\n      <td>153</td>\n      <td>1227</td>\n      <td>1.511977</td>\n      <td>-1</td>\n      <td>944622</td>\n      <td>49015</td>\n      <td>...</td>\n      <td>ih</td>\n      <td>600</td>\n      <td>2022-04-05 18:00:00</td>\n      <td>2022-04-05 20:00:00</td>\n      <td>120.0</td>\n      <td>DC</td>\n      <td>769.877751</td>\n      <td>DC</td>\n      <td>3</td>\n      <td>3</td>\n    </tr>\n    <tr>\n      <th>126</th>\n      <td>54035</td>\n      <td>2.137</td>\n      <td>0</td>\n      <td>1007.545648</td>\n      <td>218</td>\n      <td>3297</td>\n      <td>1.018138</td>\n      <td>-1</td>\n      <td>3242092</td>\n      <td>686325</td>\n      <td>...</td>\n      <td>ih</td>\n      <td>180</td>\n      <td>2022-04-05 18:00:00</td>\n      <td>2022-04-06 10:00:00</td>\n      <td>960.0</td>\n      <td>DC</td>\n      <td>983.348499</td>\n      <td>DC</td>\n      <td>3</td>\n      <td>3</td>\n    </tr>\n    <tr>\n      <th>127</th>\n      <td>46890</td>\n      <td>2.381</td>\n      <td>0</td>\n      <td>1059.411283</td>\n      <td>218</td>\n      <td>3297</td>\n      <td>1.228621</td>\n      <td>-1</td>\n      <td>2813396</td>\n      <td>655525</td>\n      <td>...</td>\n      <td>ih</td>\n      <td>300</td>\n      <td>2022-04-05 18:00:00</td>\n      <td>2022-04-06 10:00:00</td>\n      <td>960.0</td>\n      <td>DC</td>\n      <td>853.321201</td>\n      <td>DC</td>\n      <td>3</td>\n      <td>3</td>\n    </tr>\n    <tr>\n      <th>128</th>\n      <td>39919</td>\n      <td>2.103</td>\n      <td>0</td>\n      <td>1156.725508</td>\n      <td>198</td>\n      <td>3297</td>\n      <td>1.580091</td>\n      <td>-1</td>\n      <td>2395112</td>\n      <td>483273</td>\n      <td>...</td>\n      <td>ih</td>\n      <td>600</td>\n      <td>2022-04-05 18:00:00</td>\n      <td>2022-04-06 10:00:00</td>\n      <td>960.0</td>\n      <td>DC</td>\n      <td>726.460419</td>\n      <td>DC</td>\n      <td>3</td>\n      <td>3</td>\n    </tr>\n  </tbody>\n</table>\n<p>140 rows × 23 columns</p>\n</div>"
     },
     "execution_count": 40,
     "metadata": {},
     "output_type": "execute_result"
    }
   ],
   "source": [
    "df['cost_per_request'] = df['cost_minutes'] * 60 / df['req_count']\n",
    "df['area_short'] = df['area'].map({\n",
    "    'NYC': 'NYC',\n",
    "    'Manhattan': 'Man',\n",
    "    'Chicago': 'Chic',\n",
    "    'DC': 'DC'\n",
    "})\n",
    "area_order = {\n",
    "    'NYC': 0,\n",
    "    'Manhattan': 1,\n",
    "    'Chicago': 2,\n",
    "    'DC': 3\n",
    "}\n",
    "df['area_order'] = df['area'].map(area_order)\n",
    "df.sort_values(by=['area_order', 'duration_minutes', 'max_delay', 'method'], inplace=True)\n",
    "df"
   ],
   "metadata": {
    "collapsed": false,
    "ExecuteTime": {
     "end_time": "2023-05-26T08:24:00.347493500Z",
     "start_time": "2023-05-26T08:24:00.308495500Z"
    }
   }
  },
  {
   "cell_type": "markdown",
   "source": [
    "# Main Results"
   ],
   "metadata": {
    "collapsed": false
   }
  },
  {
   "cell_type": "markdown",
   "source": [
    "## IH all instances"
   ],
   "metadata": {
    "collapsed": false
   }
  },
  {
   "cell_type": "code",
   "execution_count": 25,
   "outputs": [
    {
     "data": {
      "application/vnd.plotly.v1+json": {
       "data": [
        {
         "alignmentgroup": "True",
         "hovertemplate": "max_delay=180<br>duration_minutes=0.5<br>area_short=%{x}<br>cost_per_request=%{y}<extra></extra>",
         "legendgroup": "",
         "marker": {
          "color": "#636efa",
          "pattern": {
           "shape": ""
          }
         },
         "name": "",
         "offsetgroup": "",
         "orientation": "v",
         "showlegend": false,
         "textposition": "auto",
         "x": [
          "NYC",
          "Man",
          "Chic",
          "DC"
         ],
         "xaxis": "x17",
         "y": [
          800.0607902735562,
          495.85714285714283,
          756.0,
          2115.0
         ],
         "yaxis": "y17",
         "type": "bar"
        },
        {
         "alignmentgroup": "True",
         "hovertemplate": "max_delay=180<br>duration_minutes=1.0<br>area_short=%{x}<br>cost_per_request=%{y}<extra></extra>",
         "legendgroup": "",
         "marker": {
          "color": "#636efa",
          "pattern": {
           "shape": ""
          }
         },
         "name": "",
         "offsetgroup": "",
         "orientation": "v",
         "showlegend": false,
         "textposition": "auto",
         "x": [
          "NYC",
          "Man",
          "Chic",
          "DC"
         ],
         "xaxis": "x18",
         "y": [
          698.3383685800604,
          476.43356643356645,
          1153.8461538461538,
          1705.7142857142858
         ],
         "yaxis": "y18",
         "type": "bar"
        },
        {
         "alignmentgroup": "True",
         "hovertemplate": "max_delay=180<br>duration_minutes=2.0<br>area_short=%{x}<br>cost_per_request=%{y}<extra></extra>",
         "legendgroup": "",
         "marker": {
          "color": "#636efa",
          "pattern": {
           "shape": ""
          }
         },
         "name": "",
         "offsetgroup": "",
         "orientation": "v",
         "showlegend": false,
         "textposition": "auto",
         "x": [
          "NYC",
          "Man",
          "Chic",
          "DC"
         ],
         "xaxis": "x19",
         "y": [
          665.7977528089888,
          423.6694214876033,
          938.5714285714286,
          1313.3333333333333
         ],
         "yaxis": "y19",
         "type": "bar"
        },
        {
         "alignmentgroup": "True",
         "hovertemplate": "max_delay=180<br>duration_minutes=5.0<br>area_short=%{x}<br>cost_per_request=%{y}<extra></extra>",
         "legendgroup": "",
         "marker": {
          "color": "#636efa",
          "pattern": {
           "shape": ""
          }
         },
         "name": "",
         "offsetgroup": "",
         "orientation": "v",
         "showlegend": false,
         "textposition": "auto",
         "x": [
          "NYC",
          "Man",
          "Chic",
          "DC"
         ],
         "xaxis": "x20",
         "y": [
          583.6238532110092,
          372.91917973462,
          902.6373626373627,
          1313.3333333333333
         ],
         "yaxis": "y20",
         "type": "bar"
        },
        {
         "alignmentgroup": "True",
         "hovertemplate": "max_delay=180<br>duration_minutes=15.0<br>area_short=%{x}<br>cost_per_request=%{y}<extra></extra>",
         "legendgroup": "",
         "marker": {
          "color": "#636efa",
          "pattern": {
           "shape": ""
          }
         },
         "name": "",
         "offsetgroup": "",
         "orientation": "v",
         "showlegend": false,
         "textposition": "auto",
         "x": [
          "NYC",
          "Man",
          "Chic",
          "DC"
         ],
         "xaxis": "x21",
         "y": [
          522.432099933756,
          329.86504987287304,
          787.6642335766423,
          1254.1104294478528
         ],
         "yaxis": "y21",
         "type": "bar"
        },
        {
         "alignmentgroup": "True",
         "hovertemplate": "max_delay=180<br>duration_minutes=30.0<br>area_short=%{x}<br>cost_per_request=%{y}<extra></extra>",
         "legendgroup": "",
         "marker": {
          "color": "#636efa",
          "pattern": {
           "shape": ""
          }
         },
         "name": "",
         "offsetgroup": "",
         "orientation": "v",
         "showlegend": false,
         "textposition": "auto",
         "x": [
          "NYC",
          "Man",
          "Chic",
          "DC"
         ],
         "xaxis": "x22",
         "y": [
          516.5078451129984,
          316.55471916618416,
          851.2751677852349,
          1163.0487804878048
         ],
         "yaxis": "y22",
         "type": "bar"
        },
        {
         "alignmentgroup": "True",
         "hovertemplate": "max_delay=180<br>duration_minutes=120.0<br>area_short=%{x}<br>cost_per_request=%{y}<extra></extra>",
         "legendgroup": "",
         "marker": {
          "color": "#636efa",
          "pattern": {
           "shape": ""
          }
         },
         "name": "",
         "offsetgroup": "",
         "orientation": "v",
         "showlegend": false,
         "textposition": "auto",
         "x": [
          "NYC",
          "Man",
          "Chic",
          "DC"
         ],
         "xaxis": "x23",
         "y": [
          515.2593804422397,
          328.31360946745565,
          1036.8501529051987,
          1027.0415647921761
         ],
         "yaxis": "y23",
         "type": "bar"
        },
        {
         "alignmentgroup": "True",
         "hovertemplate": "max_delay=180<br>duration_minutes=960.0<br>area_short=%{x}<br>cost_per_request=%{y}<extra></extra>",
         "legendgroup": "",
         "marker": {
          "color": "#636efa",
          "pattern": {
           "shape": ""
          }
         },
         "name": "",
         "offsetgroup": "",
         "orientation": "v",
         "showlegend": false,
         "textposition": "auto",
         "x": [
          "NYC",
          "Man",
          "Chic",
          "DC"
         ],
         "xaxis": "x24",
         "y": [
          575.8836997489018,
          363.5436802050081,
          1305.482340537691,
          983.3484986351228
         ],
         "yaxis": "y24",
         "type": "bar"
        },
        {
         "alignmentgroup": "True",
         "hovertemplate": "max_delay=300<br>duration_minutes=0.5<br>area_short=%{x}<br>cost_per_request=%{y}<extra></extra>",
         "legendgroup": "",
         "marker": {
          "color": "#636efa",
          "pattern": {
           "shape": ""
          }
         },
         "name": "",
         "offsetgroup": "",
         "orientation": "v",
         "showlegend": false,
         "textposition": "auto",
         "x": [
          "NYC",
          "Man",
          "Chic",
          "DC"
         ],
         "xaxis": "x9",
         "y": [
          707.2340425531914,
          463.7142857142857,
          624.0,
          2115.0
         ],
         "yaxis": "y9",
         "type": "bar"
        },
        {
         "alignmentgroup": "True",
         "hovertemplate": "max_delay=300<br>duration_minutes=1.0<br>area_short=%{x}<br>cost_per_request=%{y}<extra></extra>",
         "legendgroup": "",
         "marker": {
          "color": "#636efa",
          "pattern": {
           "shape": ""
          }
         },
         "name": "",
         "offsetgroup": "",
         "orientation": "v",
         "showlegend": false,
         "textposition": "auto",
         "x": [
          "NYC",
          "Man",
          "Chic",
          "DC"
         ],
         "xaxis": "x10",
         "y": [
          622.2054380664653,
          429.44055944055947,
          1144.6153846153845,
          1705.7142857142858
         ],
         "yaxis": "y10",
         "type": "bar"
        },
        {
         "alignmentgroup": "True",
         "hovertemplate": "max_delay=300<br>duration_minutes=2.0<br>area_short=%{x}<br>cost_per_request=%{y}<extra></extra>",
         "legendgroup": "",
         "marker": {
          "color": "#636efa",
          "pattern": {
           "shape": ""
          }
         },
         "name": "",
         "offsetgroup": "",
         "orientation": "v",
         "showlegend": false,
         "textposition": "auto",
         "x": [
          "NYC",
          "Man",
          "Chic",
          "DC"
         ],
         "xaxis": "x11",
         "y": [
          578.561797752809,
          388.3636363636364,
          919.2857142857143,
          1270.0
         ],
         "yaxis": "y11",
         "type": "bar"
        },
        {
         "alignmentgroup": "True",
         "hovertemplate": "max_delay=300<br>duration_minutes=5.0<br>area_short=%{x}<br>cost_per_request=%{y}<extra></extra>",
         "legendgroup": "",
         "marker": {
          "color": "#636efa",
          "pattern": {
           "shape": ""
          }
         },
         "name": "",
         "offsetgroup": "",
         "orientation": "v",
         "showlegend": false,
         "textposition": "auto",
         "x": [
          "NYC",
          "Man",
          "Chic",
          "DC"
         ],
         "xaxis": "x12",
         "y": [
          522.8841743119266,
          348.34740651387216,
          791.2087912087912,
          1165.5555555555557
         ],
         "yaxis": "y12",
         "type": "bar"
        },
        {
         "alignmentgroup": "True",
         "hovertemplate": "max_delay=300<br>duration_minutes=15.0<br>area_short=%{x}<br>cost_per_request=%{y}<extra></extra>",
         "legendgroup": "",
         "marker": {
          "color": "#636efa",
          "pattern": {
           "shape": ""
          }
         },
         "name": "",
         "offsetgroup": "",
         "orientation": "v",
         "showlegend": false,
         "textposition": "auto",
         "x": [
          "NYC",
          "Man",
          "Chic",
          "DC"
         ],
         "xaxis": "x13",
         "y": [
          462.6819343238384,
          297.89947193428515,
          682.5547445255474,
          1080.0
         ],
         "yaxis": "y13",
         "type": "bar"
        },
        {
         "alignmentgroup": "True",
         "hovertemplate": "max_delay=300<br>duration_minutes=30.0<br>area_short=%{x}<br>cost_per_request=%{y}<extra></extra>",
         "legendgroup": "",
         "marker": {
          "color": "#636efa",
          "pattern": {
           "shape": ""
          }
         },
         "name": "",
         "offsetgroup": "",
         "orientation": "v",
         "showlegend": false,
         "textposition": "auto",
         "x": [
          "NYC",
          "Man",
          "Chic",
          "DC"
         ],
         "xaxis": "x14",
         "y": [
          452.0598819634375,
          280.37058482918354,
          713.7583892617449,
          1023.109756097561
         ],
         "yaxis": "y14",
         "type": "bar"
        },
        {
         "alignmentgroup": "True",
         "hovertemplate": "max_delay=300<br>duration_minutes=120.0<br>area_short=%{x}<br>cost_per_request=%{y}<extra></extra>",
         "legendgroup": "",
         "marker": {
          "color": "#636efa",
          "pattern": {
           "shape": ""
          }
         },
         "name": "",
         "offsetgroup": "",
         "orientation": "v",
         "showlegend": false,
         "textposition": "auto",
         "x": [
          "NYC",
          "Man",
          "Chic",
          "DC"
         ],
         "xaxis": "x15",
         "y": [
          453.104649321864,
          280.7428725121033,
          849.6941896024465,
          902.8850855745721
         ],
         "yaxis": "y15",
         "type": "bar"
        },
        {
         "alignmentgroup": "True",
         "hovertemplate": "max_delay=300<br>duration_minutes=960.0<br>area_short=%{x}<br>cost_per_request=%{y}<extra></extra>",
         "legendgroup": "",
         "marker": {
          "color": "#636efa",
          "pattern": {
           "shape": ""
          }
         },
         "name": "",
         "offsetgroup": "",
         "orientation": "v",
         "showlegend": false,
         "textposition": "auto",
         "x": [
          "NYC",
          "Man",
          "Chic",
          "DC"
         ],
         "xaxis": "x16",
         "y": [
          510.1269580882316,
          311.2208807838026,
          1113.6215076436479,
          853.3212010919017
         ],
         "yaxis": "y16",
         "type": "bar"
        },
        {
         "alignmentgroup": "True",
         "hovertemplate": "max_delay=600<br>duration_minutes=0.5<br>area_short=%{x}<br>cost_per_request=%{y}<extra></extra>",
         "legendgroup": "",
         "marker": {
          "color": "#636efa",
          "pattern": {
           "shape": ""
          }
         },
         "name": "",
         "offsetgroup": "",
         "orientation": "v",
         "showlegend": false,
         "textposition": "auto",
         "x": [
          "NYC",
          "Man",
          "Chic",
          "DC"
         ],
         "xaxis": "x",
         "y": [
          632.644376899696,
          415.7142857142857,
          600.0,
          2115.0
         ],
         "yaxis": "y",
         "type": "bar"
        },
        {
         "alignmentgroup": "True",
         "hovertemplate": "max_delay=600<br>duration_minutes=1.0<br>area_short=%{x}<br>cost_per_request=%{y}<extra></extra>",
         "legendgroup": "",
         "marker": {
          "color": "#636efa",
          "pattern": {
           "shape": ""
          }
         },
         "name": "",
         "offsetgroup": "",
         "orientation": "v",
         "showlegend": false,
         "textposition": "auto",
         "x": [
          "NYC",
          "Man",
          "Chic",
          "DC"
         ],
         "xaxis": "x2",
         "y": [
          566.465256797583,
          392.72727272727275,
          1001.5384615384615,
          1525.7142857142858
         ],
         "yaxis": "y2",
         "type": "bar"
        },
        {
         "alignmentgroup": "True",
         "hovertemplate": "max_delay=600<br>duration_minutes=2.0<br>area_short=%{x}<br>cost_per_request=%{y}<extra></extra>",
         "legendgroup": "",
         "marker": {
          "color": "#636efa",
          "pattern": {
           "shape": ""
          }
         },
         "name": "",
         "offsetgroup": "",
         "orientation": "v",
         "showlegend": false,
         "textposition": "auto",
         "x": [
          "NYC",
          "Man",
          "Chic",
          "DC"
         ],
         "xaxis": "x3",
         "y": [
          518.3820224719101,
          357.42148760330576,
          857.1428571428571,
          1216.6666666666667
         ],
         "yaxis": "y3",
         "type": "bar"
        },
        {
         "alignmentgroup": "True",
         "hovertemplate": "max_delay=600<br>duration_minutes=5.0<br>area_short=%{x}<br>cost_per_request=%{y}<extra></extra>",
         "legendgroup": "",
         "marker": {
          "color": "#636efa",
          "pattern": {
           "shape": ""
          }
         },
         "name": "",
         "offsetgroup": "",
         "orientation": "v",
         "showlegend": false,
         "textposition": "auto",
         "x": [
          "NYC",
          "Man",
          "Chic",
          "DC"
         ],
         "xaxis": "x4",
         "y": [
          484.283256880734,
          329.81905910735827,
          662.6373626373627,
          1022.2222222222222
         ],
         "yaxis": "y4",
         "type": "bar"
        },
        {
         "alignmentgroup": "True",
         "hovertemplate": "max_delay=600<br>duration_minutes=15.0<br>area_short=%{x}<br>cost_per_request=%{y}<extra></extra>",
         "legendgroup": "",
         "marker": {
          "color": "#636efa",
          "pattern": {
           "shape": ""
          }
         },
         "name": "",
         "offsetgroup": "",
         "orientation": "v",
         "showlegend": false,
         "textposition": "auto",
         "x": [
          "NYC",
          "Man",
          "Chic",
          "DC"
         ],
         "xaxis": "x5",
         "y": [
          431.7422163338696,
          285.9065128104831,
          598.6861313868613,
          899.6319018404907
         ],
         "yaxis": "y5",
         "type": "bar"
        },
        {
         "alignmentgroup": "True",
         "hovertemplate": "max_delay=600<br>duration_minutes=30.0<br>area_short=%{x}<br>cost_per_request=%{y}<extra></extra>",
         "legendgroup": "",
         "marker": {
          "color": "#636efa",
          "pattern": {
           "shape": ""
          }
         },
         "name": "",
         "offsetgroup": "",
         "orientation": "v",
         "showlegend": false,
         "textposition": "auto",
         "x": [
          "NYC",
          "Man",
          "Chic",
          "DC"
         ],
         "xaxis": "x6",
         "y": [
          406.6330790269181,
          261.0885929357267,
          577.6510067114094,
          868.5365853658536
         ],
         "yaxis": "y6",
         "type": "bar"
        },
        {
         "alignmentgroup": "True",
         "hovertemplate": "max_delay=600<br>duration_minutes=120.0<br>area_short=%{x}<br>cost_per_request=%{y}<extra></extra>",
         "legendgroup": "",
         "marker": {
          "color": "#636efa",
          "pattern": {
           "shape": ""
          }
         },
         "name": "",
         "offsetgroup": "",
         "orientation": "v",
         "showlegend": false,
         "textposition": "auto",
         "x": [
          "NYC",
          "Man",
          "Chic",
          "DC"
         ],
         "xaxis": "x7",
         "y": [
          392.26713810755183,
          243.25497579343732,
          683.0886850152905,
          769.8777506112469
         ],
         "yaxis": "y7",
         "type": "bar"
        },
        {
         "alignmentgroup": "True",
         "hovertemplate": "max_delay=600<br>duration_minutes=960.0<br>area_short=%{x}<br>cost_per_request=%{y}<extra></extra>",
         "legendgroup": "",
         "marker": {
          "color": "#636efa",
          "pattern": {
           "shape": ""
          }
         },
         "name": "",
         "offsetgroup": "",
         "orientation": "v",
         "showlegend": false,
         "textposition": "auto",
         "x": [
          "NYC",
          "Man",
          "Chic",
          "DC"
         ],
         "xaxis": "x8",
         "y": [
          433.48593799534035,
          262.2508919399556,
          893.1049024775962,
          726.4604185623294
         ],
         "yaxis": "y8",
         "type": "bar"
        }
       ],
       "layout": {
        "template": {
         "data": {
          "histogram2dcontour": [
           {
            "type": "histogram2dcontour",
            "colorbar": {
             "outlinewidth": 0,
             "ticks": ""
            },
            "colorscale": [
             [
              0.0,
              "#0d0887"
             ],
             [
              0.1111111111111111,
              "#46039f"
             ],
             [
              0.2222222222222222,
              "#7201a8"
             ],
             [
              0.3333333333333333,
              "#9c179e"
             ],
             [
              0.4444444444444444,
              "#bd3786"
             ],
             [
              0.5555555555555556,
              "#d8576b"
             ],
             [
              0.6666666666666666,
              "#ed7953"
             ],
             [
              0.7777777777777778,
              "#fb9f3a"
             ],
             [
              0.8888888888888888,
              "#fdca26"
             ],
             [
              1.0,
              "#f0f921"
             ]
            ]
           }
          ],
          "choropleth": [
           {
            "type": "choropleth",
            "colorbar": {
             "outlinewidth": 0,
             "ticks": ""
            }
           }
          ],
          "histogram2d": [
           {
            "type": "histogram2d",
            "colorbar": {
             "outlinewidth": 0,
             "ticks": ""
            },
            "colorscale": [
             [
              0.0,
              "#0d0887"
             ],
             [
              0.1111111111111111,
              "#46039f"
             ],
             [
              0.2222222222222222,
              "#7201a8"
             ],
             [
              0.3333333333333333,
              "#9c179e"
             ],
             [
              0.4444444444444444,
              "#bd3786"
             ],
             [
              0.5555555555555556,
              "#d8576b"
             ],
             [
              0.6666666666666666,
              "#ed7953"
             ],
             [
              0.7777777777777778,
              "#fb9f3a"
             ],
             [
              0.8888888888888888,
              "#fdca26"
             ],
             [
              1.0,
              "#f0f921"
             ]
            ]
           }
          ],
          "heatmap": [
           {
            "type": "heatmap",
            "colorbar": {
             "outlinewidth": 0,
             "ticks": ""
            },
            "colorscale": [
             [
              0.0,
              "#0d0887"
             ],
             [
              0.1111111111111111,
              "#46039f"
             ],
             [
              0.2222222222222222,
              "#7201a8"
             ],
             [
              0.3333333333333333,
              "#9c179e"
             ],
             [
              0.4444444444444444,
              "#bd3786"
             ],
             [
              0.5555555555555556,
              "#d8576b"
             ],
             [
              0.6666666666666666,
              "#ed7953"
             ],
             [
              0.7777777777777778,
              "#fb9f3a"
             ],
             [
              0.8888888888888888,
              "#fdca26"
             ],
             [
              1.0,
              "#f0f921"
             ]
            ]
           }
          ],
          "heatmapgl": [
           {
            "type": "heatmapgl",
            "colorbar": {
             "outlinewidth": 0,
             "ticks": ""
            },
            "colorscale": [
             [
              0.0,
              "#0d0887"
             ],
             [
              0.1111111111111111,
              "#46039f"
             ],
             [
              0.2222222222222222,
              "#7201a8"
             ],
             [
              0.3333333333333333,
              "#9c179e"
             ],
             [
              0.4444444444444444,
              "#bd3786"
             ],
             [
              0.5555555555555556,
              "#d8576b"
             ],
             [
              0.6666666666666666,
              "#ed7953"
             ],
             [
              0.7777777777777778,
              "#fb9f3a"
             ],
             [
              0.8888888888888888,
              "#fdca26"
             ],
             [
              1.0,
              "#f0f921"
             ]
            ]
           }
          ],
          "contourcarpet": [
           {
            "type": "contourcarpet",
            "colorbar": {
             "outlinewidth": 0,
             "ticks": ""
            }
           }
          ],
          "contour": [
           {
            "type": "contour",
            "colorbar": {
             "outlinewidth": 0,
             "ticks": ""
            },
            "colorscale": [
             [
              0.0,
              "#0d0887"
             ],
             [
              0.1111111111111111,
              "#46039f"
             ],
             [
              0.2222222222222222,
              "#7201a8"
             ],
             [
              0.3333333333333333,
              "#9c179e"
             ],
             [
              0.4444444444444444,
              "#bd3786"
             ],
             [
              0.5555555555555556,
              "#d8576b"
             ],
             [
              0.6666666666666666,
              "#ed7953"
             ],
             [
              0.7777777777777778,
              "#fb9f3a"
             ],
             [
              0.8888888888888888,
              "#fdca26"
             ],
             [
              1.0,
              "#f0f921"
             ]
            ]
           }
          ],
          "surface": [
           {
            "type": "surface",
            "colorbar": {
             "outlinewidth": 0,
             "ticks": ""
            },
            "colorscale": [
             [
              0.0,
              "#0d0887"
             ],
             [
              0.1111111111111111,
              "#46039f"
             ],
             [
              0.2222222222222222,
              "#7201a8"
             ],
             [
              0.3333333333333333,
              "#9c179e"
             ],
             [
              0.4444444444444444,
              "#bd3786"
             ],
             [
              0.5555555555555556,
              "#d8576b"
             ],
             [
              0.6666666666666666,
              "#ed7953"
             ],
             [
              0.7777777777777778,
              "#fb9f3a"
             ],
             [
              0.8888888888888888,
              "#fdca26"
             ],
             [
              1.0,
              "#f0f921"
             ]
            ]
           }
          ],
          "mesh3d": [
           {
            "type": "mesh3d",
            "colorbar": {
             "outlinewidth": 0,
             "ticks": ""
            }
           }
          ],
          "scatter": [
           {
            "fillpattern": {
             "fillmode": "overlay",
             "size": 10,
             "solidity": 0.2
            },
            "type": "scatter"
           }
          ],
          "parcoords": [
           {
            "type": "parcoords",
            "line": {
             "colorbar": {
              "outlinewidth": 0,
              "ticks": ""
             }
            }
           }
          ],
          "scatterpolargl": [
           {
            "type": "scatterpolargl",
            "marker": {
             "colorbar": {
              "outlinewidth": 0,
              "ticks": ""
             }
            }
           }
          ],
          "bar": [
           {
            "error_x": {
             "color": "#2a3f5f"
            },
            "error_y": {
             "color": "#2a3f5f"
            },
            "marker": {
             "line": {
              "color": "#E5ECF6",
              "width": 0.5
             },
             "pattern": {
              "fillmode": "overlay",
              "size": 10,
              "solidity": 0.2
             }
            },
            "type": "bar"
           }
          ],
          "scattergeo": [
           {
            "type": "scattergeo",
            "marker": {
             "colorbar": {
              "outlinewidth": 0,
              "ticks": ""
             }
            }
           }
          ],
          "scatterpolar": [
           {
            "type": "scatterpolar",
            "marker": {
             "colorbar": {
              "outlinewidth": 0,
              "ticks": ""
             }
            }
           }
          ],
          "histogram": [
           {
            "marker": {
             "pattern": {
              "fillmode": "overlay",
              "size": 10,
              "solidity": 0.2
             }
            },
            "type": "histogram"
           }
          ],
          "scattergl": [
           {
            "type": "scattergl",
            "marker": {
             "colorbar": {
              "outlinewidth": 0,
              "ticks": ""
             }
            }
           }
          ],
          "scatter3d": [
           {
            "type": "scatter3d",
            "line": {
             "colorbar": {
              "outlinewidth": 0,
              "ticks": ""
             }
            },
            "marker": {
             "colorbar": {
              "outlinewidth": 0,
              "ticks": ""
             }
            }
           }
          ],
          "scattermapbox": [
           {
            "type": "scattermapbox",
            "marker": {
             "colorbar": {
              "outlinewidth": 0,
              "ticks": ""
             }
            }
           }
          ],
          "scatterternary": [
           {
            "type": "scatterternary",
            "marker": {
             "colorbar": {
              "outlinewidth": 0,
              "ticks": ""
             }
            }
           }
          ],
          "scattercarpet": [
           {
            "type": "scattercarpet",
            "marker": {
             "colorbar": {
              "outlinewidth": 0,
              "ticks": ""
             }
            }
           }
          ],
          "carpet": [
           {
            "aaxis": {
             "endlinecolor": "#2a3f5f",
             "gridcolor": "white",
             "linecolor": "white",
             "minorgridcolor": "white",
             "startlinecolor": "#2a3f5f"
            },
            "baxis": {
             "endlinecolor": "#2a3f5f",
             "gridcolor": "white",
             "linecolor": "white",
             "minorgridcolor": "white",
             "startlinecolor": "#2a3f5f"
            },
            "type": "carpet"
           }
          ],
          "table": [
           {
            "cells": {
             "fill": {
              "color": "#EBF0F8"
             },
             "line": {
              "color": "white"
             }
            },
            "header": {
             "fill": {
              "color": "#C8D4E3"
             },
             "line": {
              "color": "white"
             }
            },
            "type": "table"
           }
          ],
          "barpolar": [
           {
            "marker": {
             "line": {
              "color": "#E5ECF6",
              "width": 0.5
             },
             "pattern": {
              "fillmode": "overlay",
              "size": 10,
              "solidity": 0.2
             }
            },
            "type": "barpolar"
           }
          ],
          "pie": [
           {
            "automargin": true,
            "type": "pie"
           }
          ]
         },
         "layout": {
          "autotypenumbers": "strict",
          "colorway": [
           "#636efa",
           "#EF553B",
           "#00cc96",
           "#ab63fa",
           "#FFA15A",
           "#19d3f3",
           "#FF6692",
           "#B6E880",
           "#FF97FF",
           "#FECB52"
          ],
          "font": {
           "color": "#2a3f5f"
          },
          "hovermode": "closest",
          "hoverlabel": {
           "align": "left"
          },
          "paper_bgcolor": "white",
          "plot_bgcolor": "#E5ECF6",
          "polar": {
           "bgcolor": "#E5ECF6",
           "angularaxis": {
            "gridcolor": "white",
            "linecolor": "white",
            "ticks": ""
           },
           "radialaxis": {
            "gridcolor": "white",
            "linecolor": "white",
            "ticks": ""
           }
          },
          "ternary": {
           "bgcolor": "#E5ECF6",
           "aaxis": {
            "gridcolor": "white",
            "linecolor": "white",
            "ticks": ""
           },
           "baxis": {
            "gridcolor": "white",
            "linecolor": "white",
            "ticks": ""
           },
           "caxis": {
            "gridcolor": "white",
            "linecolor": "white",
            "ticks": ""
           }
          },
          "coloraxis": {
           "colorbar": {
            "outlinewidth": 0,
            "ticks": ""
           }
          },
          "colorscale": {
           "sequential": [
            [
             0.0,
             "#0d0887"
            ],
            [
             0.1111111111111111,
             "#46039f"
            ],
            [
             0.2222222222222222,
             "#7201a8"
            ],
            [
             0.3333333333333333,
             "#9c179e"
            ],
            [
             0.4444444444444444,
             "#bd3786"
            ],
            [
             0.5555555555555556,
             "#d8576b"
            ],
            [
             0.6666666666666666,
             "#ed7953"
            ],
            [
             0.7777777777777778,
             "#fb9f3a"
            ],
            [
             0.8888888888888888,
             "#fdca26"
            ],
            [
             1.0,
             "#f0f921"
            ]
           ],
           "sequentialminus": [
            [
             0.0,
             "#0d0887"
            ],
            [
             0.1111111111111111,
             "#46039f"
            ],
            [
             0.2222222222222222,
             "#7201a8"
            ],
            [
             0.3333333333333333,
             "#9c179e"
            ],
            [
             0.4444444444444444,
             "#bd3786"
            ],
            [
             0.5555555555555556,
             "#d8576b"
            ],
            [
             0.6666666666666666,
             "#ed7953"
            ],
            [
             0.7777777777777778,
             "#fb9f3a"
            ],
            [
             0.8888888888888888,
             "#fdca26"
            ],
            [
             1.0,
             "#f0f921"
            ]
           ],
           "diverging": [
            [
             0,
             "#8e0152"
            ],
            [
             0.1,
             "#c51b7d"
            ],
            [
             0.2,
             "#de77ae"
            ],
            [
             0.3,
             "#f1b6da"
            ],
            [
             0.4,
             "#fde0ef"
            ],
            [
             0.5,
             "#f7f7f7"
            ],
            [
             0.6,
             "#e6f5d0"
            ],
            [
             0.7,
             "#b8e186"
            ],
            [
             0.8,
             "#7fbc41"
            ],
            [
             0.9,
             "#4d9221"
            ],
            [
             1,
             "#276419"
            ]
           ]
          },
          "xaxis": {
           "gridcolor": "white",
           "linecolor": "white",
           "ticks": "",
           "title": {
            "standoff": 15
           },
           "zerolinecolor": "white",
           "automargin": true,
           "zerolinewidth": 2
          },
          "yaxis": {
           "gridcolor": "white",
           "linecolor": "white",
           "ticks": "",
           "title": {
            "standoff": 15
           },
           "zerolinecolor": "white",
           "automargin": true,
           "zerolinewidth": 2
          },
          "scene": {
           "xaxis": {
            "backgroundcolor": "#E5ECF6",
            "gridcolor": "white",
            "linecolor": "white",
            "showbackground": true,
            "ticks": "",
            "zerolinecolor": "white",
            "gridwidth": 2
           },
           "yaxis": {
            "backgroundcolor": "#E5ECF6",
            "gridcolor": "white",
            "linecolor": "white",
            "showbackground": true,
            "ticks": "",
            "zerolinecolor": "white",
            "gridwidth": 2
           },
           "zaxis": {
            "backgroundcolor": "#E5ECF6",
            "gridcolor": "white",
            "linecolor": "white",
            "showbackground": true,
            "ticks": "",
            "zerolinecolor": "white",
            "gridwidth": 2
           }
          },
          "shapedefaults": {
           "line": {
            "color": "#2a3f5f"
           }
          },
          "annotationdefaults": {
           "arrowcolor": "#2a3f5f",
           "arrowhead": 0,
           "arrowwidth": 1
          },
          "geo": {
           "bgcolor": "white",
           "landcolor": "#E5ECF6",
           "subunitcolor": "white",
           "showland": true,
           "showlakes": true,
           "lakecolor": "white"
          },
          "title": {
           "x": 0.05
          },
          "mapbox": {
           "style": "light"
          }
         }
        },
        "xaxis": {
         "anchor": "y",
         "domain": [
          0.0,
          0.105
         ],
         "title": {
          "text": ""
         }
        },
        "yaxis": {
         "anchor": "x",
         "domain": [
          0.0,
          0.3133333333333333
         ],
         "title": {
          "text": ""
         }
        },
        "xaxis2": {
         "anchor": "y2",
         "domain": [
          0.125,
          0.22999999999999998
         ],
         "matches": "x",
         "title": {
          "text": ""
         }
        },
        "yaxis2": {
         "anchor": "x2",
         "domain": [
          0.0,
          0.3133333333333333
         ],
         "matches": "y",
         "showticklabels": false,
         "title": {
          "text": ""
         }
        },
        "xaxis3": {
         "anchor": "y3",
         "domain": [
          0.25,
          0.355
         ],
         "matches": "x",
         "title": {
          "text": ""
         }
        },
        "yaxis3": {
         "anchor": "x3",
         "domain": [
          0.0,
          0.3133333333333333
         ],
         "matches": "y",
         "showticklabels": false,
         "title": {
          "text": ""
         }
        },
        "xaxis4": {
         "anchor": "y4",
         "domain": [
          0.375,
          0.48
         ],
         "matches": "x",
         "title": {
          "text": ""
         }
        },
        "yaxis4": {
         "anchor": "x4",
         "domain": [
          0.0,
          0.3133333333333333
         ],
         "matches": "y",
         "showticklabels": false,
         "title": {
          "text": ""
         }
        },
        "xaxis5": {
         "anchor": "y5",
         "domain": [
          0.5,
          0.605
         ],
         "matches": "x",
         "title": {
          "text": ""
         }
        },
        "yaxis5": {
         "anchor": "x5",
         "domain": [
          0.0,
          0.3133333333333333
         ],
         "matches": "y",
         "showticklabels": false,
         "title": {
          "text": ""
         }
        },
        "xaxis6": {
         "anchor": "y6",
         "domain": [
          0.625,
          0.73
         ],
         "matches": "x",
         "title": {
          "text": ""
         }
        },
        "yaxis6": {
         "anchor": "x6",
         "domain": [
          0.0,
          0.3133333333333333
         ],
         "matches": "y",
         "showticklabels": false,
         "title": {
          "text": ""
         }
        },
        "xaxis7": {
         "anchor": "y7",
         "domain": [
          0.75,
          0.855
         ],
         "matches": "x",
         "title": {
          "text": ""
         }
        },
        "yaxis7": {
         "anchor": "x7",
         "domain": [
          0.0,
          0.3133333333333333
         ],
         "matches": "y",
         "showticklabels": false,
         "title": {
          "text": ""
         }
        },
        "xaxis8": {
         "anchor": "y8",
         "domain": [
          0.875,
          0.98
         ],
         "matches": "x",
         "title": {
          "text": ""
         }
        },
        "yaxis8": {
         "anchor": "x8",
         "domain": [
          0.0,
          0.3133333333333333
         ],
         "matches": "y",
         "showticklabels": false,
         "title": {
          "text": ""
         }
        },
        "xaxis9": {
         "anchor": "y9",
         "domain": [
          0.0,
          0.105
         ],
         "matches": "x",
         "showticklabels": false,
         "title": {
          "text": ""
         }
        },
        "yaxis9": {
         "anchor": "x9",
         "domain": [
          0.34333333333333327,
          0.6566666666666665
         ],
         "matches": "y",
         "title": {
          "text": ""
         }
        },
        "xaxis10": {
         "anchor": "y10",
         "domain": [
          0.125,
          0.22999999999999998
         ],
         "matches": "x",
         "showticklabels": false,
         "title": {
          "text": ""
         }
        },
        "yaxis10": {
         "anchor": "x10",
         "domain": [
          0.34333333333333327,
          0.6566666666666665
         ],
         "matches": "y",
         "showticklabels": false,
         "title": {
          "text": ""
         }
        },
        "xaxis11": {
         "anchor": "y11",
         "domain": [
          0.25,
          0.355
         ],
         "matches": "x",
         "showticklabels": false,
         "title": {
          "text": ""
         }
        },
        "yaxis11": {
         "anchor": "x11",
         "domain": [
          0.34333333333333327,
          0.6566666666666665
         ],
         "matches": "y",
         "showticklabels": false,
         "title": {
          "text": ""
         }
        },
        "xaxis12": {
         "anchor": "y12",
         "domain": [
          0.375,
          0.48
         ],
         "matches": "x",
         "showticklabels": false,
         "title": {
          "text": ""
         }
        },
        "yaxis12": {
         "anchor": "x12",
         "domain": [
          0.34333333333333327,
          0.6566666666666665
         ],
         "matches": "y",
         "showticklabels": false,
         "title": {
          "text": ""
         }
        },
        "xaxis13": {
         "anchor": "y13",
         "domain": [
          0.5,
          0.605
         ],
         "matches": "x",
         "showticklabels": false,
         "title": {
          "text": ""
         }
        },
        "yaxis13": {
         "anchor": "x13",
         "domain": [
          0.34333333333333327,
          0.6566666666666665
         ],
         "matches": "y",
         "showticklabels": false,
         "title": {
          "text": ""
         }
        },
        "xaxis14": {
         "anchor": "y14",
         "domain": [
          0.625,
          0.73
         ],
         "matches": "x",
         "showticklabels": false,
         "title": {
          "text": ""
         }
        },
        "yaxis14": {
         "anchor": "x14",
         "domain": [
          0.34333333333333327,
          0.6566666666666665
         ],
         "matches": "y",
         "showticklabels": false,
         "title": {
          "text": ""
         }
        },
        "xaxis15": {
         "anchor": "y15",
         "domain": [
          0.75,
          0.855
         ],
         "matches": "x",
         "showticklabels": false,
         "title": {
          "text": ""
         }
        },
        "yaxis15": {
         "anchor": "x15",
         "domain": [
          0.34333333333333327,
          0.6566666666666665
         ],
         "matches": "y",
         "showticklabels": false,
         "title": {
          "text": ""
         }
        },
        "xaxis16": {
         "anchor": "y16",
         "domain": [
          0.875,
          0.98
         ],
         "matches": "x",
         "showticklabels": false,
         "title": {
          "text": ""
         }
        },
        "yaxis16": {
         "anchor": "x16",
         "domain": [
          0.34333333333333327,
          0.6566666666666665
         ],
         "matches": "y",
         "showticklabels": false,
         "title": {
          "text": ""
         }
        },
        "xaxis17": {
         "anchor": "y17",
         "domain": [
          0.0,
          0.105
         ],
         "matches": "x",
         "showticklabels": false,
         "title": {
          "text": ""
         }
        },
        "yaxis17": {
         "anchor": "x17",
         "domain": [
          0.6866666666666665,
          0.9999999999999998
         ],
         "matches": "y",
         "title": {
          "text": ""
         }
        },
        "xaxis18": {
         "anchor": "y18",
         "domain": [
          0.125,
          0.22999999999999998
         ],
         "matches": "x",
         "showticklabels": false,
         "title": {
          "text": ""
         }
        },
        "yaxis18": {
         "anchor": "x18",
         "domain": [
          0.6866666666666665,
          0.9999999999999998
         ],
         "matches": "y",
         "showticklabels": false,
         "title": {
          "text": ""
         }
        },
        "xaxis19": {
         "anchor": "y19",
         "domain": [
          0.25,
          0.355
         ],
         "matches": "x",
         "showticklabels": false,
         "title": {
          "text": ""
         }
        },
        "yaxis19": {
         "anchor": "x19",
         "domain": [
          0.6866666666666665,
          0.9999999999999998
         ],
         "matches": "y",
         "showticklabels": false,
         "title": {
          "text": ""
         }
        },
        "xaxis20": {
         "anchor": "y20",
         "domain": [
          0.375,
          0.48
         ],
         "matches": "x",
         "showticklabels": false,
         "title": {
          "text": ""
         }
        },
        "yaxis20": {
         "anchor": "x20",
         "domain": [
          0.6866666666666665,
          0.9999999999999998
         ],
         "matches": "y",
         "showticklabels": false,
         "title": {
          "text": ""
         }
        },
        "xaxis21": {
         "anchor": "y21",
         "domain": [
          0.5,
          0.605
         ],
         "matches": "x",
         "showticklabels": false,
         "title": {
          "text": ""
         }
        },
        "yaxis21": {
         "anchor": "x21",
         "domain": [
          0.6866666666666665,
          0.9999999999999998
         ],
         "matches": "y",
         "showticklabels": false,
         "title": {
          "text": ""
         }
        },
        "xaxis22": {
         "anchor": "y22",
         "domain": [
          0.625,
          0.73
         ],
         "matches": "x",
         "showticklabels": false,
         "title": {
          "text": ""
         }
        },
        "yaxis22": {
         "anchor": "x22",
         "domain": [
          0.6866666666666665,
          0.9999999999999998
         ],
         "matches": "y",
         "showticklabels": false,
         "title": {
          "text": ""
         }
        },
        "xaxis23": {
         "anchor": "y23",
         "domain": [
          0.75,
          0.855
         ],
         "matches": "x",
         "showticklabels": false,
         "title": {
          "text": ""
         }
        },
        "yaxis23": {
         "anchor": "x23",
         "domain": [
          0.6866666666666665,
          0.9999999999999998
         ],
         "matches": "y",
         "showticklabels": false,
         "title": {
          "text": ""
         }
        },
        "xaxis24": {
         "anchor": "y24",
         "domain": [
          0.875,
          0.98
         ],
         "matches": "x",
         "showticklabels": false,
         "title": {
          "text": ""
         }
        },
        "yaxis24": {
         "anchor": "x24",
         "domain": [
          0.6866666666666665,
          0.9999999999999998
         ],
         "matches": "y",
         "showticklabels": false,
         "title": {
          "text": ""
         }
        },
        "annotations": [
         {
          "showarrow": false,
          "text": "0.5",
          "x": 0.0525,
          "xanchor": "center",
          "xref": "paper",
          "y": 0.9999999999999998,
          "yanchor": "bottom",
          "yref": "paper"
         },
         {
          "showarrow": false,
          "text": "1.0",
          "x": 0.1775,
          "xanchor": "center",
          "xref": "paper",
          "y": 0.9999999999999998,
          "yanchor": "bottom",
          "yref": "paper"
         },
         {
          "showarrow": false,
          "text": "2.0",
          "x": 0.3025,
          "xanchor": "center",
          "xref": "paper",
          "y": 0.9999999999999998,
          "yanchor": "bottom",
          "yref": "paper"
         },
         {
          "showarrow": false,
          "text": "5.0",
          "x": 0.4275,
          "xanchor": "center",
          "xref": "paper",
          "y": 0.9999999999999998,
          "yanchor": "bottom",
          "yref": "paper"
         },
         {
          "showarrow": false,
          "text": "15.0",
          "x": 0.5525,
          "xanchor": "center",
          "xref": "paper",
          "y": 0.9999999999999998,
          "yanchor": "bottom",
          "yref": "paper"
         },
         {
          "showarrow": false,
          "text": "30.0",
          "x": 0.6775,
          "xanchor": "center",
          "xref": "paper",
          "y": 0.9999999999999998,
          "yanchor": "bottom",
          "yref": "paper"
         },
         {
          "showarrow": false,
          "text": "120.0",
          "x": 0.8025,
          "xanchor": "center",
          "xref": "paper",
          "y": 0.9999999999999998,
          "yanchor": "bottom",
          "yref": "paper"
         },
         {
          "showarrow": false,
          "text": "960.0",
          "x": 0.9275,
          "xanchor": "center",
          "xref": "paper",
          "y": 0.9999999999999998,
          "yanchor": "bottom",
          "yref": "paper"
         },
         {
          "showarrow": false,
          "text": "600",
          "textangle": 90,
          "x": 0.98,
          "xanchor": "left",
          "xref": "paper",
          "y": 0.15666666666666665,
          "yanchor": "middle",
          "yref": "paper"
         },
         {
          "showarrow": false,
          "text": "300",
          "textangle": 90,
          "x": 0.98,
          "xanchor": "left",
          "xref": "paper",
          "y": 0.4999999999999999,
          "yanchor": "middle",
          "yref": "paper"
         },
         {
          "showarrow": false,
          "text": "180",
          "textangle": 90,
          "x": 0.98,
          "xanchor": "left",
          "xref": "paper",
          "y": 0.8433333333333332,
          "yanchor": "middle",
          "yref": "paper"
         },
         {
          "showarrow": false,
          "text": "travel time per request [s]",
          "textangle": -90,
          "x": -0.06,
          "xref": "paper",
          "y": 0.5,
          "yref": "paper"
         },
         {
          "showarrow": false,
          "text": "instance length [min]",
          "x": 0.5,
          "xref": "paper",
          "y": 1.15,
          "yref": "paper"
         },
         {
          "showarrow": false,
          "text": "maximum delay [s]",
          "textangle": 90,
          "x": 1.02,
          "xref": "paper",
          "y": 0.5,
          "yref": "paper"
         }
        ],
        "legend": {
         "tracegroupgap": 0
        },
        "title": {
         "text": "Average Cost per Request"
        },
        "barmode": "group"
       },
       "config": {
        "plotlyServerURL": "https://plot.ly"
       }
      },
      "text/html": "<div>                            <div id=\"831ff015-1eeb-4ada-aee4-d66663cd0a6f\" class=\"plotly-graph-div\" style=\"height:525px; width:100%;\"></div>            <script type=\"text/javascript\">                require([\"plotly\"], function(Plotly) {                    window.PLOTLYENV=window.PLOTLYENV || {};                                    if (document.getElementById(\"831ff015-1eeb-4ada-aee4-d66663cd0a6f\")) {                    Plotly.newPlot(                        \"831ff015-1eeb-4ada-aee4-d66663cd0a6f\",                        [{\"alignmentgroup\":\"True\",\"hovertemplate\":\"max_delay=180<br>duration_minutes=0.5<br>area_short=%{x}<br>cost_per_request=%{y}<extra></extra>\",\"legendgroup\":\"\",\"marker\":{\"color\":\"#636efa\",\"pattern\":{\"shape\":\"\"}},\"name\":\"\",\"offsetgroup\":\"\",\"orientation\":\"v\",\"showlegend\":false,\"textposition\":\"auto\",\"x\":[\"NYC\",\"Man\",\"Chic\",\"DC\"],\"xaxis\":\"x17\",\"y\":[800.0607902735562,495.85714285714283,756.0,2115.0],\"yaxis\":\"y17\",\"type\":\"bar\"},{\"alignmentgroup\":\"True\",\"hovertemplate\":\"max_delay=180<br>duration_minutes=1.0<br>area_short=%{x}<br>cost_per_request=%{y}<extra></extra>\",\"legendgroup\":\"\",\"marker\":{\"color\":\"#636efa\",\"pattern\":{\"shape\":\"\"}},\"name\":\"\",\"offsetgroup\":\"\",\"orientation\":\"v\",\"showlegend\":false,\"textposition\":\"auto\",\"x\":[\"NYC\",\"Man\",\"Chic\",\"DC\"],\"xaxis\":\"x18\",\"y\":[698.3383685800604,476.43356643356645,1153.8461538461538,1705.7142857142858],\"yaxis\":\"y18\",\"type\":\"bar\"},{\"alignmentgroup\":\"True\",\"hovertemplate\":\"max_delay=180<br>duration_minutes=2.0<br>area_short=%{x}<br>cost_per_request=%{y}<extra></extra>\",\"legendgroup\":\"\",\"marker\":{\"color\":\"#636efa\",\"pattern\":{\"shape\":\"\"}},\"name\":\"\",\"offsetgroup\":\"\",\"orientation\":\"v\",\"showlegend\":false,\"textposition\":\"auto\",\"x\":[\"NYC\",\"Man\",\"Chic\",\"DC\"],\"xaxis\":\"x19\",\"y\":[665.7977528089888,423.6694214876033,938.5714285714286,1313.3333333333333],\"yaxis\":\"y19\",\"type\":\"bar\"},{\"alignmentgroup\":\"True\",\"hovertemplate\":\"max_delay=180<br>duration_minutes=5.0<br>area_short=%{x}<br>cost_per_request=%{y}<extra></extra>\",\"legendgroup\":\"\",\"marker\":{\"color\":\"#636efa\",\"pattern\":{\"shape\":\"\"}},\"name\":\"\",\"offsetgroup\":\"\",\"orientation\":\"v\",\"showlegend\":false,\"textposition\":\"auto\",\"x\":[\"NYC\",\"Man\",\"Chic\",\"DC\"],\"xaxis\":\"x20\",\"y\":[583.6238532110092,372.91917973462,902.6373626373627,1313.3333333333333],\"yaxis\":\"y20\",\"type\":\"bar\"},{\"alignmentgroup\":\"True\",\"hovertemplate\":\"max_delay=180<br>duration_minutes=15.0<br>area_short=%{x}<br>cost_per_request=%{y}<extra></extra>\",\"legendgroup\":\"\",\"marker\":{\"color\":\"#636efa\",\"pattern\":{\"shape\":\"\"}},\"name\":\"\",\"offsetgroup\":\"\",\"orientation\":\"v\",\"showlegend\":false,\"textposition\":\"auto\",\"x\":[\"NYC\",\"Man\",\"Chic\",\"DC\"],\"xaxis\":\"x21\",\"y\":[522.432099933756,329.86504987287304,787.6642335766423,1254.1104294478528],\"yaxis\":\"y21\",\"type\":\"bar\"},{\"alignmentgroup\":\"True\",\"hovertemplate\":\"max_delay=180<br>duration_minutes=30.0<br>area_short=%{x}<br>cost_per_request=%{y}<extra></extra>\",\"legendgroup\":\"\",\"marker\":{\"color\":\"#636efa\",\"pattern\":{\"shape\":\"\"}},\"name\":\"\",\"offsetgroup\":\"\",\"orientation\":\"v\",\"showlegend\":false,\"textposition\":\"auto\",\"x\":[\"NYC\",\"Man\",\"Chic\",\"DC\"],\"xaxis\":\"x22\",\"y\":[516.5078451129984,316.55471916618416,851.2751677852349,1163.0487804878048],\"yaxis\":\"y22\",\"type\":\"bar\"},{\"alignmentgroup\":\"True\",\"hovertemplate\":\"max_delay=180<br>duration_minutes=120.0<br>area_short=%{x}<br>cost_per_request=%{y}<extra></extra>\",\"legendgroup\":\"\",\"marker\":{\"color\":\"#636efa\",\"pattern\":{\"shape\":\"\"}},\"name\":\"\",\"offsetgroup\":\"\",\"orientation\":\"v\",\"showlegend\":false,\"textposition\":\"auto\",\"x\":[\"NYC\",\"Man\",\"Chic\",\"DC\"],\"xaxis\":\"x23\",\"y\":[515.2593804422397,328.31360946745565,1036.8501529051987,1027.0415647921761],\"yaxis\":\"y23\",\"type\":\"bar\"},{\"alignmentgroup\":\"True\",\"hovertemplate\":\"max_delay=180<br>duration_minutes=960.0<br>area_short=%{x}<br>cost_per_request=%{y}<extra></extra>\",\"legendgroup\":\"\",\"marker\":{\"color\":\"#636efa\",\"pattern\":{\"shape\":\"\"}},\"name\":\"\",\"offsetgroup\":\"\",\"orientation\":\"v\",\"showlegend\":false,\"textposition\":\"auto\",\"x\":[\"NYC\",\"Man\",\"Chic\",\"DC\"],\"xaxis\":\"x24\",\"y\":[575.8836997489018,363.5436802050081,1305.482340537691,983.3484986351228],\"yaxis\":\"y24\",\"type\":\"bar\"},{\"alignmentgroup\":\"True\",\"hovertemplate\":\"max_delay=300<br>duration_minutes=0.5<br>area_short=%{x}<br>cost_per_request=%{y}<extra></extra>\",\"legendgroup\":\"\",\"marker\":{\"color\":\"#636efa\",\"pattern\":{\"shape\":\"\"}},\"name\":\"\",\"offsetgroup\":\"\",\"orientation\":\"v\",\"showlegend\":false,\"textposition\":\"auto\",\"x\":[\"NYC\",\"Man\",\"Chic\",\"DC\"],\"xaxis\":\"x9\",\"y\":[707.2340425531914,463.7142857142857,624.0,2115.0],\"yaxis\":\"y9\",\"type\":\"bar\"},{\"alignmentgroup\":\"True\",\"hovertemplate\":\"max_delay=300<br>duration_minutes=1.0<br>area_short=%{x}<br>cost_per_request=%{y}<extra></extra>\",\"legendgroup\":\"\",\"marker\":{\"color\":\"#636efa\",\"pattern\":{\"shape\":\"\"}},\"name\":\"\",\"offsetgroup\":\"\",\"orientation\":\"v\",\"showlegend\":false,\"textposition\":\"auto\",\"x\":[\"NYC\",\"Man\",\"Chic\",\"DC\"],\"xaxis\":\"x10\",\"y\":[622.2054380664653,429.44055944055947,1144.6153846153845,1705.7142857142858],\"yaxis\":\"y10\",\"type\":\"bar\"},{\"alignmentgroup\":\"True\",\"hovertemplate\":\"max_delay=300<br>duration_minutes=2.0<br>area_short=%{x}<br>cost_per_request=%{y}<extra></extra>\",\"legendgroup\":\"\",\"marker\":{\"color\":\"#636efa\",\"pattern\":{\"shape\":\"\"}},\"name\":\"\",\"offsetgroup\":\"\",\"orientation\":\"v\",\"showlegend\":false,\"textposition\":\"auto\",\"x\":[\"NYC\",\"Man\",\"Chic\",\"DC\"],\"xaxis\":\"x11\",\"y\":[578.561797752809,388.3636363636364,919.2857142857143,1270.0],\"yaxis\":\"y11\",\"type\":\"bar\"},{\"alignmentgroup\":\"True\",\"hovertemplate\":\"max_delay=300<br>duration_minutes=5.0<br>area_short=%{x}<br>cost_per_request=%{y}<extra></extra>\",\"legendgroup\":\"\",\"marker\":{\"color\":\"#636efa\",\"pattern\":{\"shape\":\"\"}},\"name\":\"\",\"offsetgroup\":\"\",\"orientation\":\"v\",\"showlegend\":false,\"textposition\":\"auto\",\"x\":[\"NYC\",\"Man\",\"Chic\",\"DC\"],\"xaxis\":\"x12\",\"y\":[522.8841743119266,348.34740651387216,791.2087912087912,1165.5555555555557],\"yaxis\":\"y12\",\"type\":\"bar\"},{\"alignmentgroup\":\"True\",\"hovertemplate\":\"max_delay=300<br>duration_minutes=15.0<br>area_short=%{x}<br>cost_per_request=%{y}<extra></extra>\",\"legendgroup\":\"\",\"marker\":{\"color\":\"#636efa\",\"pattern\":{\"shape\":\"\"}},\"name\":\"\",\"offsetgroup\":\"\",\"orientation\":\"v\",\"showlegend\":false,\"textposition\":\"auto\",\"x\":[\"NYC\",\"Man\",\"Chic\",\"DC\"],\"xaxis\":\"x13\",\"y\":[462.6819343238384,297.89947193428515,682.5547445255474,1080.0],\"yaxis\":\"y13\",\"type\":\"bar\"},{\"alignmentgroup\":\"True\",\"hovertemplate\":\"max_delay=300<br>duration_minutes=30.0<br>area_short=%{x}<br>cost_per_request=%{y}<extra></extra>\",\"legendgroup\":\"\",\"marker\":{\"color\":\"#636efa\",\"pattern\":{\"shape\":\"\"}},\"name\":\"\",\"offsetgroup\":\"\",\"orientation\":\"v\",\"showlegend\":false,\"textposition\":\"auto\",\"x\":[\"NYC\",\"Man\",\"Chic\",\"DC\"],\"xaxis\":\"x14\",\"y\":[452.0598819634375,280.37058482918354,713.7583892617449,1023.109756097561],\"yaxis\":\"y14\",\"type\":\"bar\"},{\"alignmentgroup\":\"True\",\"hovertemplate\":\"max_delay=300<br>duration_minutes=120.0<br>area_short=%{x}<br>cost_per_request=%{y}<extra></extra>\",\"legendgroup\":\"\",\"marker\":{\"color\":\"#636efa\",\"pattern\":{\"shape\":\"\"}},\"name\":\"\",\"offsetgroup\":\"\",\"orientation\":\"v\",\"showlegend\":false,\"textposition\":\"auto\",\"x\":[\"NYC\",\"Man\",\"Chic\",\"DC\"],\"xaxis\":\"x15\",\"y\":[453.104649321864,280.7428725121033,849.6941896024465,902.8850855745721],\"yaxis\":\"y15\",\"type\":\"bar\"},{\"alignmentgroup\":\"True\",\"hovertemplate\":\"max_delay=300<br>duration_minutes=960.0<br>area_short=%{x}<br>cost_per_request=%{y}<extra></extra>\",\"legendgroup\":\"\",\"marker\":{\"color\":\"#636efa\",\"pattern\":{\"shape\":\"\"}},\"name\":\"\",\"offsetgroup\":\"\",\"orientation\":\"v\",\"showlegend\":false,\"textposition\":\"auto\",\"x\":[\"NYC\",\"Man\",\"Chic\",\"DC\"],\"xaxis\":\"x16\",\"y\":[510.1269580882316,311.2208807838026,1113.6215076436479,853.3212010919017],\"yaxis\":\"y16\",\"type\":\"bar\"},{\"alignmentgroup\":\"True\",\"hovertemplate\":\"max_delay=600<br>duration_minutes=0.5<br>area_short=%{x}<br>cost_per_request=%{y}<extra></extra>\",\"legendgroup\":\"\",\"marker\":{\"color\":\"#636efa\",\"pattern\":{\"shape\":\"\"}},\"name\":\"\",\"offsetgroup\":\"\",\"orientation\":\"v\",\"showlegend\":false,\"textposition\":\"auto\",\"x\":[\"NYC\",\"Man\",\"Chic\",\"DC\"],\"xaxis\":\"x\",\"y\":[632.644376899696,415.7142857142857,600.0,2115.0],\"yaxis\":\"y\",\"type\":\"bar\"},{\"alignmentgroup\":\"True\",\"hovertemplate\":\"max_delay=600<br>duration_minutes=1.0<br>area_short=%{x}<br>cost_per_request=%{y}<extra></extra>\",\"legendgroup\":\"\",\"marker\":{\"color\":\"#636efa\",\"pattern\":{\"shape\":\"\"}},\"name\":\"\",\"offsetgroup\":\"\",\"orientation\":\"v\",\"showlegend\":false,\"textposition\":\"auto\",\"x\":[\"NYC\",\"Man\",\"Chic\",\"DC\"],\"xaxis\":\"x2\",\"y\":[566.465256797583,392.72727272727275,1001.5384615384615,1525.7142857142858],\"yaxis\":\"y2\",\"type\":\"bar\"},{\"alignmentgroup\":\"True\",\"hovertemplate\":\"max_delay=600<br>duration_minutes=2.0<br>area_short=%{x}<br>cost_per_request=%{y}<extra></extra>\",\"legendgroup\":\"\",\"marker\":{\"color\":\"#636efa\",\"pattern\":{\"shape\":\"\"}},\"name\":\"\",\"offsetgroup\":\"\",\"orientation\":\"v\",\"showlegend\":false,\"textposition\":\"auto\",\"x\":[\"NYC\",\"Man\",\"Chic\",\"DC\"],\"xaxis\":\"x3\",\"y\":[518.3820224719101,357.42148760330576,857.1428571428571,1216.6666666666667],\"yaxis\":\"y3\",\"type\":\"bar\"},{\"alignmentgroup\":\"True\",\"hovertemplate\":\"max_delay=600<br>duration_minutes=5.0<br>area_short=%{x}<br>cost_per_request=%{y}<extra></extra>\",\"legendgroup\":\"\",\"marker\":{\"color\":\"#636efa\",\"pattern\":{\"shape\":\"\"}},\"name\":\"\",\"offsetgroup\":\"\",\"orientation\":\"v\",\"showlegend\":false,\"textposition\":\"auto\",\"x\":[\"NYC\",\"Man\",\"Chic\",\"DC\"],\"xaxis\":\"x4\",\"y\":[484.283256880734,329.81905910735827,662.6373626373627,1022.2222222222222],\"yaxis\":\"y4\",\"type\":\"bar\"},{\"alignmentgroup\":\"True\",\"hovertemplate\":\"max_delay=600<br>duration_minutes=15.0<br>area_short=%{x}<br>cost_per_request=%{y}<extra></extra>\",\"legendgroup\":\"\",\"marker\":{\"color\":\"#636efa\",\"pattern\":{\"shape\":\"\"}},\"name\":\"\",\"offsetgroup\":\"\",\"orientation\":\"v\",\"showlegend\":false,\"textposition\":\"auto\",\"x\":[\"NYC\",\"Man\",\"Chic\",\"DC\"],\"xaxis\":\"x5\",\"y\":[431.7422163338696,285.9065128104831,598.6861313868613,899.6319018404907],\"yaxis\":\"y5\",\"type\":\"bar\"},{\"alignmentgroup\":\"True\",\"hovertemplate\":\"max_delay=600<br>duration_minutes=30.0<br>area_short=%{x}<br>cost_per_request=%{y}<extra></extra>\",\"legendgroup\":\"\",\"marker\":{\"color\":\"#636efa\",\"pattern\":{\"shape\":\"\"}},\"name\":\"\",\"offsetgroup\":\"\",\"orientation\":\"v\",\"showlegend\":false,\"textposition\":\"auto\",\"x\":[\"NYC\",\"Man\",\"Chic\",\"DC\"],\"xaxis\":\"x6\",\"y\":[406.6330790269181,261.0885929357267,577.6510067114094,868.5365853658536],\"yaxis\":\"y6\",\"type\":\"bar\"},{\"alignmentgroup\":\"True\",\"hovertemplate\":\"max_delay=600<br>duration_minutes=120.0<br>area_short=%{x}<br>cost_per_request=%{y}<extra></extra>\",\"legendgroup\":\"\",\"marker\":{\"color\":\"#636efa\",\"pattern\":{\"shape\":\"\"}},\"name\":\"\",\"offsetgroup\":\"\",\"orientation\":\"v\",\"showlegend\":false,\"textposition\":\"auto\",\"x\":[\"NYC\",\"Man\",\"Chic\",\"DC\"],\"xaxis\":\"x7\",\"y\":[392.26713810755183,243.25497579343732,683.0886850152905,769.8777506112469],\"yaxis\":\"y7\",\"type\":\"bar\"},{\"alignmentgroup\":\"True\",\"hovertemplate\":\"max_delay=600<br>duration_minutes=960.0<br>area_short=%{x}<br>cost_per_request=%{y}<extra></extra>\",\"legendgroup\":\"\",\"marker\":{\"color\":\"#636efa\",\"pattern\":{\"shape\":\"\"}},\"name\":\"\",\"offsetgroup\":\"\",\"orientation\":\"v\",\"showlegend\":false,\"textposition\":\"auto\",\"x\":[\"NYC\",\"Man\",\"Chic\",\"DC\"],\"xaxis\":\"x8\",\"y\":[433.48593799534035,262.2508919399556,893.1049024775962,726.4604185623294],\"yaxis\":\"y8\",\"type\":\"bar\"}],                        {\"template\":{\"data\":{\"histogram2dcontour\":[{\"type\":\"histogram2dcontour\",\"colorbar\":{\"outlinewidth\":0,\"ticks\":\"\"},\"colorscale\":[[0.0,\"#0d0887\"],[0.1111111111111111,\"#46039f\"],[0.2222222222222222,\"#7201a8\"],[0.3333333333333333,\"#9c179e\"],[0.4444444444444444,\"#bd3786\"],[0.5555555555555556,\"#d8576b\"],[0.6666666666666666,\"#ed7953\"],[0.7777777777777778,\"#fb9f3a\"],[0.8888888888888888,\"#fdca26\"],[1.0,\"#f0f921\"]]}],\"choropleth\":[{\"type\":\"choropleth\",\"colorbar\":{\"outlinewidth\":0,\"ticks\":\"\"}}],\"histogram2d\":[{\"type\":\"histogram2d\",\"colorbar\":{\"outlinewidth\":0,\"ticks\":\"\"},\"colorscale\":[[0.0,\"#0d0887\"],[0.1111111111111111,\"#46039f\"],[0.2222222222222222,\"#7201a8\"],[0.3333333333333333,\"#9c179e\"],[0.4444444444444444,\"#bd3786\"],[0.5555555555555556,\"#d8576b\"],[0.6666666666666666,\"#ed7953\"],[0.7777777777777778,\"#fb9f3a\"],[0.8888888888888888,\"#fdca26\"],[1.0,\"#f0f921\"]]}],\"heatmap\":[{\"type\":\"heatmap\",\"colorbar\":{\"outlinewidth\":0,\"ticks\":\"\"},\"colorscale\":[[0.0,\"#0d0887\"],[0.1111111111111111,\"#46039f\"],[0.2222222222222222,\"#7201a8\"],[0.3333333333333333,\"#9c179e\"],[0.4444444444444444,\"#bd3786\"],[0.5555555555555556,\"#d8576b\"],[0.6666666666666666,\"#ed7953\"],[0.7777777777777778,\"#fb9f3a\"],[0.8888888888888888,\"#fdca26\"],[1.0,\"#f0f921\"]]}],\"heatmapgl\":[{\"type\":\"heatmapgl\",\"colorbar\":{\"outlinewidth\":0,\"ticks\":\"\"},\"colorscale\":[[0.0,\"#0d0887\"],[0.1111111111111111,\"#46039f\"],[0.2222222222222222,\"#7201a8\"],[0.3333333333333333,\"#9c179e\"],[0.4444444444444444,\"#bd3786\"],[0.5555555555555556,\"#d8576b\"],[0.6666666666666666,\"#ed7953\"],[0.7777777777777778,\"#fb9f3a\"],[0.8888888888888888,\"#fdca26\"],[1.0,\"#f0f921\"]]}],\"contourcarpet\":[{\"type\":\"contourcarpet\",\"colorbar\":{\"outlinewidth\":0,\"ticks\":\"\"}}],\"contour\":[{\"type\":\"contour\",\"colorbar\":{\"outlinewidth\":0,\"ticks\":\"\"},\"colorscale\":[[0.0,\"#0d0887\"],[0.1111111111111111,\"#46039f\"],[0.2222222222222222,\"#7201a8\"],[0.3333333333333333,\"#9c179e\"],[0.4444444444444444,\"#bd3786\"],[0.5555555555555556,\"#d8576b\"],[0.6666666666666666,\"#ed7953\"],[0.7777777777777778,\"#fb9f3a\"],[0.8888888888888888,\"#fdca26\"],[1.0,\"#f0f921\"]]}],\"surface\":[{\"type\":\"surface\",\"colorbar\":{\"outlinewidth\":0,\"ticks\":\"\"},\"colorscale\":[[0.0,\"#0d0887\"],[0.1111111111111111,\"#46039f\"],[0.2222222222222222,\"#7201a8\"],[0.3333333333333333,\"#9c179e\"],[0.4444444444444444,\"#bd3786\"],[0.5555555555555556,\"#d8576b\"],[0.6666666666666666,\"#ed7953\"],[0.7777777777777778,\"#fb9f3a\"],[0.8888888888888888,\"#fdca26\"],[1.0,\"#f0f921\"]]}],\"mesh3d\":[{\"type\":\"mesh3d\",\"colorbar\":{\"outlinewidth\":0,\"ticks\":\"\"}}],\"scatter\":[{\"fillpattern\":{\"fillmode\":\"overlay\",\"size\":10,\"solidity\":0.2},\"type\":\"scatter\"}],\"parcoords\":[{\"type\":\"parcoords\",\"line\":{\"colorbar\":{\"outlinewidth\":0,\"ticks\":\"\"}}}],\"scatterpolargl\":[{\"type\":\"scatterpolargl\",\"marker\":{\"colorbar\":{\"outlinewidth\":0,\"ticks\":\"\"}}}],\"bar\":[{\"error_x\":{\"color\":\"#2a3f5f\"},\"error_y\":{\"color\":\"#2a3f5f\"},\"marker\":{\"line\":{\"color\":\"#E5ECF6\",\"width\":0.5},\"pattern\":{\"fillmode\":\"overlay\",\"size\":10,\"solidity\":0.2}},\"type\":\"bar\"}],\"scattergeo\":[{\"type\":\"scattergeo\",\"marker\":{\"colorbar\":{\"outlinewidth\":0,\"ticks\":\"\"}}}],\"scatterpolar\":[{\"type\":\"scatterpolar\",\"marker\":{\"colorbar\":{\"outlinewidth\":0,\"ticks\":\"\"}}}],\"histogram\":[{\"marker\":{\"pattern\":{\"fillmode\":\"overlay\",\"size\":10,\"solidity\":0.2}},\"type\":\"histogram\"}],\"scattergl\":[{\"type\":\"scattergl\",\"marker\":{\"colorbar\":{\"outlinewidth\":0,\"ticks\":\"\"}}}],\"scatter3d\":[{\"type\":\"scatter3d\",\"line\":{\"colorbar\":{\"outlinewidth\":0,\"ticks\":\"\"}},\"marker\":{\"colorbar\":{\"outlinewidth\":0,\"ticks\":\"\"}}}],\"scattermapbox\":[{\"type\":\"scattermapbox\",\"marker\":{\"colorbar\":{\"outlinewidth\":0,\"ticks\":\"\"}}}],\"scatterternary\":[{\"type\":\"scatterternary\",\"marker\":{\"colorbar\":{\"outlinewidth\":0,\"ticks\":\"\"}}}],\"scattercarpet\":[{\"type\":\"scattercarpet\",\"marker\":{\"colorbar\":{\"outlinewidth\":0,\"ticks\":\"\"}}}],\"carpet\":[{\"aaxis\":{\"endlinecolor\":\"#2a3f5f\",\"gridcolor\":\"white\",\"linecolor\":\"white\",\"minorgridcolor\":\"white\",\"startlinecolor\":\"#2a3f5f\"},\"baxis\":{\"endlinecolor\":\"#2a3f5f\",\"gridcolor\":\"white\",\"linecolor\":\"white\",\"minorgridcolor\":\"white\",\"startlinecolor\":\"#2a3f5f\"},\"type\":\"carpet\"}],\"table\":[{\"cells\":{\"fill\":{\"color\":\"#EBF0F8\"},\"line\":{\"color\":\"white\"}},\"header\":{\"fill\":{\"color\":\"#C8D4E3\"},\"line\":{\"color\":\"white\"}},\"type\":\"table\"}],\"barpolar\":[{\"marker\":{\"line\":{\"color\":\"#E5ECF6\",\"width\":0.5},\"pattern\":{\"fillmode\":\"overlay\",\"size\":10,\"solidity\":0.2}},\"type\":\"barpolar\"}],\"pie\":[{\"automargin\":true,\"type\":\"pie\"}]},\"layout\":{\"autotypenumbers\":\"strict\",\"colorway\":[\"#636efa\",\"#EF553B\",\"#00cc96\",\"#ab63fa\",\"#FFA15A\",\"#19d3f3\",\"#FF6692\",\"#B6E880\",\"#FF97FF\",\"#FECB52\"],\"font\":{\"color\":\"#2a3f5f\"},\"hovermode\":\"closest\",\"hoverlabel\":{\"align\":\"left\"},\"paper_bgcolor\":\"white\",\"plot_bgcolor\":\"#E5ECF6\",\"polar\":{\"bgcolor\":\"#E5ECF6\",\"angularaxis\":{\"gridcolor\":\"white\",\"linecolor\":\"white\",\"ticks\":\"\"},\"radialaxis\":{\"gridcolor\":\"white\",\"linecolor\":\"white\",\"ticks\":\"\"}},\"ternary\":{\"bgcolor\":\"#E5ECF6\",\"aaxis\":{\"gridcolor\":\"white\",\"linecolor\":\"white\",\"ticks\":\"\"},\"baxis\":{\"gridcolor\":\"white\",\"linecolor\":\"white\",\"ticks\":\"\"},\"caxis\":{\"gridcolor\":\"white\",\"linecolor\":\"white\",\"ticks\":\"\"}},\"coloraxis\":{\"colorbar\":{\"outlinewidth\":0,\"ticks\":\"\"}},\"colorscale\":{\"sequential\":[[0.0,\"#0d0887\"],[0.1111111111111111,\"#46039f\"],[0.2222222222222222,\"#7201a8\"],[0.3333333333333333,\"#9c179e\"],[0.4444444444444444,\"#bd3786\"],[0.5555555555555556,\"#d8576b\"],[0.6666666666666666,\"#ed7953\"],[0.7777777777777778,\"#fb9f3a\"],[0.8888888888888888,\"#fdca26\"],[1.0,\"#f0f921\"]],\"sequentialminus\":[[0.0,\"#0d0887\"],[0.1111111111111111,\"#46039f\"],[0.2222222222222222,\"#7201a8\"],[0.3333333333333333,\"#9c179e\"],[0.4444444444444444,\"#bd3786\"],[0.5555555555555556,\"#d8576b\"],[0.6666666666666666,\"#ed7953\"],[0.7777777777777778,\"#fb9f3a\"],[0.8888888888888888,\"#fdca26\"],[1.0,\"#f0f921\"]],\"diverging\":[[0,\"#8e0152\"],[0.1,\"#c51b7d\"],[0.2,\"#de77ae\"],[0.3,\"#f1b6da\"],[0.4,\"#fde0ef\"],[0.5,\"#f7f7f7\"],[0.6,\"#e6f5d0\"],[0.7,\"#b8e186\"],[0.8,\"#7fbc41\"],[0.9,\"#4d9221\"],[1,\"#276419\"]]},\"xaxis\":{\"gridcolor\":\"white\",\"linecolor\":\"white\",\"ticks\":\"\",\"title\":{\"standoff\":15},\"zerolinecolor\":\"white\",\"automargin\":true,\"zerolinewidth\":2},\"yaxis\":{\"gridcolor\":\"white\",\"linecolor\":\"white\",\"ticks\":\"\",\"title\":{\"standoff\":15},\"zerolinecolor\":\"white\",\"automargin\":true,\"zerolinewidth\":2},\"scene\":{\"xaxis\":{\"backgroundcolor\":\"#E5ECF6\",\"gridcolor\":\"white\",\"linecolor\":\"white\",\"showbackground\":true,\"ticks\":\"\",\"zerolinecolor\":\"white\",\"gridwidth\":2},\"yaxis\":{\"backgroundcolor\":\"#E5ECF6\",\"gridcolor\":\"white\",\"linecolor\":\"white\",\"showbackground\":true,\"ticks\":\"\",\"zerolinecolor\":\"white\",\"gridwidth\":2},\"zaxis\":{\"backgroundcolor\":\"#E5ECF6\",\"gridcolor\":\"white\",\"linecolor\":\"white\",\"showbackground\":true,\"ticks\":\"\",\"zerolinecolor\":\"white\",\"gridwidth\":2}},\"shapedefaults\":{\"line\":{\"color\":\"#2a3f5f\"}},\"annotationdefaults\":{\"arrowcolor\":\"#2a3f5f\",\"arrowhead\":0,\"arrowwidth\":1},\"geo\":{\"bgcolor\":\"white\",\"landcolor\":\"#E5ECF6\",\"subunitcolor\":\"white\",\"showland\":true,\"showlakes\":true,\"lakecolor\":\"white\"},\"title\":{\"x\":0.05},\"mapbox\":{\"style\":\"light\"}}},\"xaxis\":{\"anchor\":\"y\",\"domain\":[0.0,0.105],\"title\":{\"text\":\"\"}},\"yaxis\":{\"anchor\":\"x\",\"domain\":[0.0,0.3133333333333333],\"title\":{\"text\":\"\"}},\"xaxis2\":{\"anchor\":\"y2\",\"domain\":[0.125,0.22999999999999998],\"matches\":\"x\",\"title\":{\"text\":\"\"}},\"yaxis2\":{\"anchor\":\"x2\",\"domain\":[0.0,0.3133333333333333],\"matches\":\"y\",\"showticklabels\":false,\"title\":{\"text\":\"\"}},\"xaxis3\":{\"anchor\":\"y3\",\"domain\":[0.25,0.355],\"matches\":\"x\",\"title\":{\"text\":\"\"}},\"yaxis3\":{\"anchor\":\"x3\",\"domain\":[0.0,0.3133333333333333],\"matches\":\"y\",\"showticklabels\":false,\"title\":{\"text\":\"\"}},\"xaxis4\":{\"anchor\":\"y4\",\"domain\":[0.375,0.48],\"matches\":\"x\",\"title\":{\"text\":\"\"}},\"yaxis4\":{\"anchor\":\"x4\",\"domain\":[0.0,0.3133333333333333],\"matches\":\"y\",\"showticklabels\":false,\"title\":{\"text\":\"\"}},\"xaxis5\":{\"anchor\":\"y5\",\"domain\":[0.5,0.605],\"matches\":\"x\",\"title\":{\"text\":\"\"}},\"yaxis5\":{\"anchor\":\"x5\",\"domain\":[0.0,0.3133333333333333],\"matches\":\"y\",\"showticklabels\":false,\"title\":{\"text\":\"\"}},\"xaxis6\":{\"anchor\":\"y6\",\"domain\":[0.625,0.73],\"matches\":\"x\",\"title\":{\"text\":\"\"}},\"yaxis6\":{\"anchor\":\"x6\",\"domain\":[0.0,0.3133333333333333],\"matches\":\"y\",\"showticklabels\":false,\"title\":{\"text\":\"\"}},\"xaxis7\":{\"anchor\":\"y7\",\"domain\":[0.75,0.855],\"matches\":\"x\",\"title\":{\"text\":\"\"}},\"yaxis7\":{\"anchor\":\"x7\",\"domain\":[0.0,0.3133333333333333],\"matches\":\"y\",\"showticklabels\":false,\"title\":{\"text\":\"\"}},\"xaxis8\":{\"anchor\":\"y8\",\"domain\":[0.875,0.98],\"matches\":\"x\",\"title\":{\"text\":\"\"}},\"yaxis8\":{\"anchor\":\"x8\",\"domain\":[0.0,0.3133333333333333],\"matches\":\"y\",\"showticklabels\":false,\"title\":{\"text\":\"\"}},\"xaxis9\":{\"anchor\":\"y9\",\"domain\":[0.0,0.105],\"matches\":\"x\",\"showticklabels\":false,\"title\":{\"text\":\"\"}},\"yaxis9\":{\"anchor\":\"x9\",\"domain\":[0.34333333333333327,0.6566666666666665],\"matches\":\"y\",\"title\":{\"text\":\"\"}},\"xaxis10\":{\"anchor\":\"y10\",\"domain\":[0.125,0.22999999999999998],\"matches\":\"x\",\"showticklabels\":false,\"title\":{\"text\":\"\"}},\"yaxis10\":{\"anchor\":\"x10\",\"domain\":[0.34333333333333327,0.6566666666666665],\"matches\":\"y\",\"showticklabels\":false,\"title\":{\"text\":\"\"}},\"xaxis11\":{\"anchor\":\"y11\",\"domain\":[0.25,0.355],\"matches\":\"x\",\"showticklabels\":false,\"title\":{\"text\":\"\"}},\"yaxis11\":{\"anchor\":\"x11\",\"domain\":[0.34333333333333327,0.6566666666666665],\"matches\":\"y\",\"showticklabels\":false,\"title\":{\"text\":\"\"}},\"xaxis12\":{\"anchor\":\"y12\",\"domain\":[0.375,0.48],\"matches\":\"x\",\"showticklabels\":false,\"title\":{\"text\":\"\"}},\"yaxis12\":{\"anchor\":\"x12\",\"domain\":[0.34333333333333327,0.6566666666666665],\"matches\":\"y\",\"showticklabels\":false,\"title\":{\"text\":\"\"}},\"xaxis13\":{\"anchor\":\"y13\",\"domain\":[0.5,0.605],\"matches\":\"x\",\"showticklabels\":false,\"title\":{\"text\":\"\"}},\"yaxis13\":{\"anchor\":\"x13\",\"domain\":[0.34333333333333327,0.6566666666666665],\"matches\":\"y\",\"showticklabels\":false,\"title\":{\"text\":\"\"}},\"xaxis14\":{\"anchor\":\"y14\",\"domain\":[0.625,0.73],\"matches\":\"x\",\"showticklabels\":false,\"title\":{\"text\":\"\"}},\"yaxis14\":{\"anchor\":\"x14\",\"domain\":[0.34333333333333327,0.6566666666666665],\"matches\":\"y\",\"showticklabels\":false,\"title\":{\"text\":\"\"}},\"xaxis15\":{\"anchor\":\"y15\",\"domain\":[0.75,0.855],\"matches\":\"x\",\"showticklabels\":false,\"title\":{\"text\":\"\"}},\"yaxis15\":{\"anchor\":\"x15\",\"domain\":[0.34333333333333327,0.6566666666666665],\"matches\":\"y\",\"showticklabels\":false,\"title\":{\"text\":\"\"}},\"xaxis16\":{\"anchor\":\"y16\",\"domain\":[0.875,0.98],\"matches\":\"x\",\"showticklabels\":false,\"title\":{\"text\":\"\"}},\"yaxis16\":{\"anchor\":\"x16\",\"domain\":[0.34333333333333327,0.6566666666666665],\"matches\":\"y\",\"showticklabels\":false,\"title\":{\"text\":\"\"}},\"xaxis17\":{\"anchor\":\"y17\",\"domain\":[0.0,0.105],\"matches\":\"x\",\"showticklabels\":false,\"title\":{\"text\":\"\"}},\"yaxis17\":{\"anchor\":\"x17\",\"domain\":[0.6866666666666665,0.9999999999999998],\"matches\":\"y\",\"title\":{\"text\":\"\"}},\"xaxis18\":{\"anchor\":\"y18\",\"domain\":[0.125,0.22999999999999998],\"matches\":\"x\",\"showticklabels\":false,\"title\":{\"text\":\"\"}},\"yaxis18\":{\"anchor\":\"x18\",\"domain\":[0.6866666666666665,0.9999999999999998],\"matches\":\"y\",\"showticklabels\":false,\"title\":{\"text\":\"\"}},\"xaxis19\":{\"anchor\":\"y19\",\"domain\":[0.25,0.355],\"matches\":\"x\",\"showticklabels\":false,\"title\":{\"text\":\"\"}},\"yaxis19\":{\"anchor\":\"x19\",\"domain\":[0.6866666666666665,0.9999999999999998],\"matches\":\"y\",\"showticklabels\":false,\"title\":{\"text\":\"\"}},\"xaxis20\":{\"anchor\":\"y20\",\"domain\":[0.375,0.48],\"matches\":\"x\",\"showticklabels\":false,\"title\":{\"text\":\"\"}},\"yaxis20\":{\"anchor\":\"x20\",\"domain\":[0.6866666666666665,0.9999999999999998],\"matches\":\"y\",\"showticklabels\":false,\"title\":{\"text\":\"\"}},\"xaxis21\":{\"anchor\":\"y21\",\"domain\":[0.5,0.605],\"matches\":\"x\",\"showticklabels\":false,\"title\":{\"text\":\"\"}},\"yaxis21\":{\"anchor\":\"x21\",\"domain\":[0.6866666666666665,0.9999999999999998],\"matches\":\"y\",\"showticklabels\":false,\"title\":{\"text\":\"\"}},\"xaxis22\":{\"anchor\":\"y22\",\"domain\":[0.625,0.73],\"matches\":\"x\",\"showticklabels\":false,\"title\":{\"text\":\"\"}},\"yaxis22\":{\"anchor\":\"x22\",\"domain\":[0.6866666666666665,0.9999999999999998],\"matches\":\"y\",\"showticklabels\":false,\"title\":{\"text\":\"\"}},\"xaxis23\":{\"anchor\":\"y23\",\"domain\":[0.75,0.855],\"matches\":\"x\",\"showticklabels\":false,\"title\":{\"text\":\"\"}},\"yaxis23\":{\"anchor\":\"x23\",\"domain\":[0.6866666666666665,0.9999999999999998],\"matches\":\"y\",\"showticklabels\":false,\"title\":{\"text\":\"\"}},\"xaxis24\":{\"anchor\":\"y24\",\"domain\":[0.875,0.98],\"matches\":\"x\",\"showticklabels\":false,\"title\":{\"text\":\"\"}},\"yaxis24\":{\"anchor\":\"x24\",\"domain\":[0.6866666666666665,0.9999999999999998],\"matches\":\"y\",\"showticklabels\":false,\"title\":{\"text\":\"\"}},\"annotations\":[{\"showarrow\":false,\"text\":\"0.5\",\"x\":0.0525,\"xanchor\":\"center\",\"xref\":\"paper\",\"y\":0.9999999999999998,\"yanchor\":\"bottom\",\"yref\":\"paper\"},{\"showarrow\":false,\"text\":\"1.0\",\"x\":0.1775,\"xanchor\":\"center\",\"xref\":\"paper\",\"y\":0.9999999999999998,\"yanchor\":\"bottom\",\"yref\":\"paper\"},{\"showarrow\":false,\"text\":\"2.0\",\"x\":0.3025,\"xanchor\":\"center\",\"xref\":\"paper\",\"y\":0.9999999999999998,\"yanchor\":\"bottom\",\"yref\":\"paper\"},{\"showarrow\":false,\"text\":\"5.0\",\"x\":0.4275,\"xanchor\":\"center\",\"xref\":\"paper\",\"y\":0.9999999999999998,\"yanchor\":\"bottom\",\"yref\":\"paper\"},{\"showarrow\":false,\"text\":\"15.0\",\"x\":0.5525,\"xanchor\":\"center\",\"xref\":\"paper\",\"y\":0.9999999999999998,\"yanchor\":\"bottom\",\"yref\":\"paper\"},{\"showarrow\":false,\"text\":\"30.0\",\"x\":0.6775,\"xanchor\":\"center\",\"xref\":\"paper\",\"y\":0.9999999999999998,\"yanchor\":\"bottom\",\"yref\":\"paper\"},{\"showarrow\":false,\"text\":\"120.0\",\"x\":0.8025,\"xanchor\":\"center\",\"xref\":\"paper\",\"y\":0.9999999999999998,\"yanchor\":\"bottom\",\"yref\":\"paper\"},{\"showarrow\":false,\"text\":\"960.0\",\"x\":0.9275,\"xanchor\":\"center\",\"xref\":\"paper\",\"y\":0.9999999999999998,\"yanchor\":\"bottom\",\"yref\":\"paper\"},{\"showarrow\":false,\"text\":\"600\",\"textangle\":90,\"x\":0.98,\"xanchor\":\"left\",\"xref\":\"paper\",\"y\":0.15666666666666665,\"yanchor\":\"middle\",\"yref\":\"paper\"},{\"showarrow\":false,\"text\":\"300\",\"textangle\":90,\"x\":0.98,\"xanchor\":\"left\",\"xref\":\"paper\",\"y\":0.4999999999999999,\"yanchor\":\"middle\",\"yref\":\"paper\"},{\"showarrow\":false,\"text\":\"180\",\"textangle\":90,\"x\":0.98,\"xanchor\":\"left\",\"xref\":\"paper\",\"y\":0.8433333333333332,\"yanchor\":\"middle\",\"yref\":\"paper\"},{\"showarrow\":false,\"text\":\"travel time per request [s]\",\"textangle\":-90,\"x\":-0.06,\"xref\":\"paper\",\"y\":0.5,\"yref\":\"paper\"},{\"showarrow\":false,\"text\":\"instance length [min]\",\"x\":0.5,\"xref\":\"paper\",\"y\":1.15,\"yref\":\"paper\"},{\"showarrow\":false,\"text\":\"maximum delay [s]\",\"textangle\":90,\"x\":1.02,\"xref\":\"paper\",\"y\":0.5,\"yref\":\"paper\"}],\"legend\":{\"tracegroupgap\":0},\"title\":{\"text\":\"Average Cost per Request\"},\"barmode\":\"group\"},                        {\"responsive\": true}                    ).then(function(){\n                            \nvar gd = document.getElementById('831ff015-1eeb-4ada-aee4-d66663cd0a6f');\nvar x = new MutationObserver(function (mutations, observer) {{\n        var display = window.getComputedStyle(gd).display;\n        if (!display || display === 'none') {{\n            console.log([gd, 'removed!']);\n            Plotly.purge(gd);\n            observer.disconnect();\n        }}\n}});\n\n// Listen for the removal of the full notebook cells\nvar notebookContainer = gd.closest('#notebook-container');\nif (notebookContainer) {{\n    x.observe(notebookContainer, {childList: true});\n}}\n\n// Listen for the clearing of the current output cell\nvar outputEl = gd.closest('.output');\nif (outputEl) {{\n    x.observe(outputEl, {childList: true});\n}}\n\n                        })                };                });            </script>        </div>"
     },
     "metadata": {},
     "output_type": "display_data"
    }
   ],
   "source": [
    "dfih = df[df['method'] == 'ih']\n",
    "fig = px.bar(\n",
    "    dfih,\n",
    "    x = 'area_short',\n",
    "    y = 'cost_per_request',\n",
    "    barmode='group',\n",
    "    title = 'Average Cost per Request',\n",
    "    facet_col='duration_minutes',\n",
    "    facet_row='max_delay'\n",
    ")\n",
    "\n",
    "# shared axes titles\n",
    "fig.for_each_yaxis(lambda y: y.update(title = ''))\n",
    "fig.add_annotation(x=-0.06, y=0.5, text=\"travel time per request [s]\", textangle=-90, xref=\"paper\", yref=\"paper\", showarrow=False)\n",
    "fig.for_each_xaxis(lambda y: y.update(title = ''))\n",
    "\n",
    "# faceting annotations\n",
    "fig.add_annotation(x=0.5, y=1.15, text=\"instance length [min]\",  xref=\"paper\", yref=\"paper\", showarrow=False)\n",
    "fig.add_annotation(x=1.02, y=0.5, text=\"maximum delay [s]\",  xref=\"paper\", yref=\"paper\", showarrow=False, textangle=90)\n",
    "\n",
    "# faceting label editing\n",
    "fig.for_each_annotation(lambda a: a.update(text=a.text.split(\"=\")[-1]))\n",
    "\n",
    "fig.show()"
   ],
   "metadata": {
    "collapsed": false,
    "ExecuteTime": {
     "end_time": "2023-05-26T08:17:34.701806500Z",
     "start_time": "2023-05-26T08:17:34.393806500Z"
    }
   }
  },
  {
   "cell_type": "markdown",
   "source": [
    "## IH and VGA all instances"
   ],
   "metadata": {
    "collapsed": false
   }
  },
  {
   "cell_type": "code",
   "execution_count": 73,
   "outputs": [],
   "source": [
    "def plot_main_result(width: int, height: int) -> go.Figure:\n",
    "    fig = px.bar(\n",
    "        # df[df['duration_minutes'] <= 30],\n",
    "        df,\n",
    "        x = 'area_short',\n",
    "        y = 'cost_per_request',\n",
    "        barmode='group',\n",
    "        # title = 'Average Cost per Request',\n",
    "        facet_col='duration_minutes',\n",
    "        facet_row='max_delay',\n",
    "        color='method',\n",
    "        width=width,\n",
    "        height=height\n",
    "    )\n",
    "\n",
    "    # shared axes titles\n",
    "    fig.for_each_yaxis(lambda y: y.update(title = ''))\n",
    "    fig.add_annotation(x=-0.06, y=0.5, text=\"travel time per request [s]\", textangle=-90, xref=\"paper\", yref=\"paper\", showarrow=False)\n",
    "    fig.for_each_xaxis(lambda y: y.update(title = ''))\n",
    "\n",
    "\n",
    "\n",
    "    # faceting annotations\n",
    "    duration_annotation_y = 1 + 0.08 * 600 / height\n",
    "    fig.add_annotation(x=0.5, y=duration_annotation_y, text=\"instance length [min]\",  xref=\"paper\", yref=\"paper\", showarrow=False)\n",
    "    fig.add_annotation(x=1.02, y=0.5, text=\"maximum delay [s]\",  xref=\"paper\", yref=\"paper\", showarrow=False, textangle=90)\n",
    "\n",
    "    # faceting label editing\n",
    "    fig.for_each_annotation(lambda a: a.update(text=a.text.split(\"=\")[-1]))\n",
    "\n",
    "    # legend editing\n",
    "    legend_y = 1 + 0.04 * 600 / height\n",
    "    fig.update_layout(legend=dict(\n",
    "        orientation=\"h\",\n",
    "        yanchor=\"bottom\",\n",
    "        y=legend_y,\n",
    "        xanchor=\"right\",\n",
    "        x=1,\n",
    "        bordercolor=\"Black\",\n",
    "        borderwidth=0,\n",
    "        tracegroupgap=0\n",
    "    ))\n",
    "\n",
    "    # set margins\n",
    "    fig.update_layout(margin=dict(l=0, r=13, t=0, b=0, pad=0))\n",
    "\n",
    "    # fig.update_xaxes(automargin=True)\n",
    "    # fig.update_yaxes(automargin=True)\n",
    "\n",
    "    fig.show()\n",
    "\n",
    "    return fig"
   ],
   "metadata": {
    "collapsed": false,
    "ExecuteTime": {
     "end_time": "2023-05-26T08:50:29.359982600Z",
     "start_time": "2023-05-26T08:50:29.332918100Z"
    }
   }
  },
  {
   "cell_type": "code",
   "execution_count": 76,
   "outputs": [
    {
     "data": {
      "application/vnd.plotly.v1+json": {
       "data": [
        {
         "alignmentgroup": "True",
         "hovertemplate": "method=ih<br>max_delay=180<br>duration_minutes=0.5<br>area_short=%{x}<br>cost_per_request=%{y}<extra></extra>",
         "legendgroup": "ih",
         "marker": {
          "color": "#636efa",
          "pattern": {
           "shape": ""
          }
         },
         "name": "ih",
         "offsetgroup": "ih",
         "orientation": "v",
         "showlegend": true,
         "textposition": "auto",
         "x": [
          "NYC",
          "Man",
          "Chic",
          "DC"
         ],
         "xaxis": "x17",
         "y": [
          800.0607902735562,
          495.85714285714283,
          756.0,
          2115.0
         ],
         "yaxis": "y17",
         "type": "bar"
        },
        {
         "alignmentgroup": "True",
         "hovertemplate": "method=ih<br>max_delay=180<br>duration_minutes=1.0<br>area_short=%{x}<br>cost_per_request=%{y}<extra></extra>",
         "legendgroup": "ih",
         "marker": {
          "color": "#636efa",
          "pattern": {
           "shape": ""
          }
         },
         "name": "ih",
         "offsetgroup": "ih",
         "orientation": "v",
         "showlegend": false,
         "textposition": "auto",
         "x": [
          "NYC",
          "Man",
          "Chic",
          "DC"
         ],
         "xaxis": "x18",
         "y": [
          698.3383685800604,
          476.43356643356645,
          1153.8461538461538,
          1705.7142857142858
         ],
         "yaxis": "y18",
         "type": "bar"
        },
        {
         "alignmentgroup": "True",
         "hovertemplate": "method=ih<br>max_delay=180<br>duration_minutes=2.0<br>area_short=%{x}<br>cost_per_request=%{y}<extra></extra>",
         "legendgroup": "ih",
         "marker": {
          "color": "#636efa",
          "pattern": {
           "shape": ""
          }
         },
         "name": "ih",
         "offsetgroup": "ih",
         "orientation": "v",
         "showlegend": false,
         "textposition": "auto",
         "x": [
          "NYC",
          "Man",
          "Chic",
          "DC"
         ],
         "xaxis": "x19",
         "y": [
          665.7977528089888,
          423.6694214876033,
          938.5714285714286,
          1313.3333333333333
         ],
         "yaxis": "y19",
         "type": "bar"
        },
        {
         "alignmentgroup": "True",
         "hovertemplate": "method=ih<br>max_delay=180<br>duration_minutes=5.0<br>area_short=%{x}<br>cost_per_request=%{y}<extra></extra>",
         "legendgroup": "ih",
         "marker": {
          "color": "#636efa",
          "pattern": {
           "shape": ""
          }
         },
         "name": "ih",
         "offsetgroup": "ih",
         "orientation": "v",
         "showlegend": false,
         "textposition": "auto",
         "x": [
          "NYC",
          "Man",
          "Chic",
          "DC"
         ],
         "xaxis": "x20",
         "y": [
          583.6238532110092,
          372.91917973462,
          902.6373626373627,
          1313.3333333333333
         ],
         "yaxis": "y20",
         "type": "bar"
        },
        {
         "alignmentgroup": "True",
         "hovertemplate": "method=ih<br>max_delay=180<br>duration_minutes=15.0<br>area_short=%{x}<br>cost_per_request=%{y}<extra></extra>",
         "legendgroup": "ih",
         "marker": {
          "color": "#636efa",
          "pattern": {
           "shape": ""
          }
         },
         "name": "ih",
         "offsetgroup": "ih",
         "orientation": "v",
         "showlegend": false,
         "textposition": "auto",
         "x": [
          "NYC",
          "Man",
          "Chic",
          "DC"
         ],
         "xaxis": "x21",
         "y": [
          522.432099933756,
          329.86504987287304,
          787.6642335766423,
          1254.1104294478528
         ],
         "yaxis": "y21",
         "type": "bar"
        },
        {
         "alignmentgroup": "True",
         "hovertemplate": "method=ih<br>max_delay=180<br>duration_minutes=30.0<br>area_short=%{x}<br>cost_per_request=%{y}<extra></extra>",
         "legendgroup": "ih",
         "marker": {
          "color": "#636efa",
          "pattern": {
           "shape": ""
          }
         },
         "name": "ih",
         "offsetgroup": "ih",
         "orientation": "v",
         "showlegend": false,
         "textposition": "auto",
         "x": [
          "NYC",
          "Man",
          "Chic",
          "DC"
         ],
         "xaxis": "x22",
         "y": [
          516.5078451129984,
          316.55471916618416,
          851.2751677852349,
          1163.0487804878048
         ],
         "yaxis": "y22",
         "type": "bar"
        },
        {
         "alignmentgroup": "True",
         "hovertemplate": "method=ih<br>max_delay=180<br>duration_minutes=120.0<br>area_short=%{x}<br>cost_per_request=%{y}<extra></extra>",
         "legendgroup": "ih",
         "marker": {
          "color": "#636efa",
          "pattern": {
           "shape": ""
          }
         },
         "name": "ih",
         "offsetgroup": "ih",
         "orientation": "v",
         "showlegend": false,
         "textposition": "auto",
         "x": [
          "NYC",
          "Man",
          "Chic",
          "DC"
         ],
         "xaxis": "x23",
         "y": [
          515.2593804422397,
          328.31360946745565,
          1036.8501529051987,
          1027.0415647921761
         ],
         "yaxis": "y23",
         "type": "bar"
        },
        {
         "alignmentgroup": "True",
         "hovertemplate": "method=ih<br>max_delay=180<br>duration_minutes=960.0<br>area_short=%{x}<br>cost_per_request=%{y}<extra></extra>",
         "legendgroup": "ih",
         "marker": {
          "color": "#636efa",
          "pattern": {
           "shape": ""
          }
         },
         "name": "ih",
         "offsetgroup": "ih",
         "orientation": "v",
         "showlegend": false,
         "textposition": "auto",
         "x": [
          "NYC",
          "Man",
          "Chic",
          "DC"
         ],
         "xaxis": "x24",
         "y": [
          575.8836997489018,
          363.5436802050081,
          1305.482340537691,
          983.3484986351228
         ],
         "yaxis": "y24",
         "type": "bar"
        },
        {
         "alignmentgroup": "True",
         "hovertemplate": "method=ih<br>max_delay=300<br>duration_minutes=0.5<br>area_short=%{x}<br>cost_per_request=%{y}<extra></extra>",
         "legendgroup": "ih",
         "marker": {
          "color": "#636efa",
          "pattern": {
           "shape": ""
          }
         },
         "name": "ih",
         "offsetgroup": "ih",
         "orientation": "v",
         "showlegend": false,
         "textposition": "auto",
         "x": [
          "NYC",
          "Man",
          "Chic",
          "DC"
         ],
         "xaxis": "x9",
         "y": [
          707.2340425531914,
          463.7142857142857,
          624.0,
          2115.0
         ],
         "yaxis": "y9",
         "type": "bar"
        },
        {
         "alignmentgroup": "True",
         "hovertemplate": "method=ih<br>max_delay=300<br>duration_minutes=1.0<br>area_short=%{x}<br>cost_per_request=%{y}<extra></extra>",
         "legendgroup": "ih",
         "marker": {
          "color": "#636efa",
          "pattern": {
           "shape": ""
          }
         },
         "name": "ih",
         "offsetgroup": "ih",
         "orientation": "v",
         "showlegend": false,
         "textposition": "auto",
         "x": [
          "NYC",
          "Man",
          "Chic",
          "DC"
         ],
         "xaxis": "x10",
         "y": [
          622.2054380664653,
          429.44055944055947,
          1144.6153846153845,
          1705.7142857142858
         ],
         "yaxis": "y10",
         "type": "bar"
        },
        {
         "alignmentgroup": "True",
         "hovertemplate": "method=ih<br>max_delay=300<br>duration_minutes=2.0<br>area_short=%{x}<br>cost_per_request=%{y}<extra></extra>",
         "legendgroup": "ih",
         "marker": {
          "color": "#636efa",
          "pattern": {
           "shape": ""
          }
         },
         "name": "ih",
         "offsetgroup": "ih",
         "orientation": "v",
         "showlegend": false,
         "textposition": "auto",
         "x": [
          "NYC",
          "Man",
          "Chic",
          "DC"
         ],
         "xaxis": "x11",
         "y": [
          578.561797752809,
          388.3636363636364,
          919.2857142857143,
          1270.0
         ],
         "yaxis": "y11",
         "type": "bar"
        },
        {
         "alignmentgroup": "True",
         "hovertemplate": "method=ih<br>max_delay=300<br>duration_minutes=5.0<br>area_short=%{x}<br>cost_per_request=%{y}<extra></extra>",
         "legendgroup": "ih",
         "marker": {
          "color": "#636efa",
          "pattern": {
           "shape": ""
          }
         },
         "name": "ih",
         "offsetgroup": "ih",
         "orientation": "v",
         "showlegend": false,
         "textposition": "auto",
         "x": [
          "NYC",
          "Man",
          "Chic",
          "DC"
         ],
         "xaxis": "x12",
         "y": [
          522.8841743119266,
          348.34740651387216,
          791.2087912087912,
          1165.5555555555557
         ],
         "yaxis": "y12",
         "type": "bar"
        },
        {
         "alignmentgroup": "True",
         "hovertemplate": "method=ih<br>max_delay=300<br>duration_minutes=15.0<br>area_short=%{x}<br>cost_per_request=%{y}<extra></extra>",
         "legendgroup": "ih",
         "marker": {
          "color": "#636efa",
          "pattern": {
           "shape": ""
          }
         },
         "name": "ih",
         "offsetgroup": "ih",
         "orientation": "v",
         "showlegend": false,
         "textposition": "auto",
         "x": [
          "NYC",
          "Man",
          "Chic",
          "DC"
         ],
         "xaxis": "x13",
         "y": [
          462.6819343238384,
          297.89947193428515,
          682.5547445255474,
          1080.0
         ],
         "yaxis": "y13",
         "type": "bar"
        },
        {
         "alignmentgroup": "True",
         "hovertemplate": "method=ih<br>max_delay=300<br>duration_minutes=30.0<br>area_short=%{x}<br>cost_per_request=%{y}<extra></extra>",
         "legendgroup": "ih",
         "marker": {
          "color": "#636efa",
          "pattern": {
           "shape": ""
          }
         },
         "name": "ih",
         "offsetgroup": "ih",
         "orientation": "v",
         "showlegend": false,
         "textposition": "auto",
         "x": [
          "NYC",
          "Man",
          "Chic",
          "DC"
         ],
         "xaxis": "x14",
         "y": [
          452.0598819634375,
          280.37058482918354,
          713.7583892617449,
          1023.109756097561
         ],
         "yaxis": "y14",
         "type": "bar"
        },
        {
         "alignmentgroup": "True",
         "hovertemplate": "method=ih<br>max_delay=300<br>duration_minutes=120.0<br>area_short=%{x}<br>cost_per_request=%{y}<extra></extra>",
         "legendgroup": "ih",
         "marker": {
          "color": "#636efa",
          "pattern": {
           "shape": ""
          }
         },
         "name": "ih",
         "offsetgroup": "ih",
         "orientation": "v",
         "showlegend": false,
         "textposition": "auto",
         "x": [
          "NYC",
          "Man",
          "Chic",
          "DC"
         ],
         "xaxis": "x15",
         "y": [
          453.104649321864,
          280.7428725121033,
          849.6941896024465,
          902.8850855745721
         ],
         "yaxis": "y15",
         "type": "bar"
        },
        {
         "alignmentgroup": "True",
         "hovertemplate": "method=ih<br>max_delay=300<br>duration_minutes=960.0<br>area_short=%{x}<br>cost_per_request=%{y}<extra></extra>",
         "legendgroup": "ih",
         "marker": {
          "color": "#636efa",
          "pattern": {
           "shape": ""
          }
         },
         "name": "ih",
         "offsetgroup": "ih",
         "orientation": "v",
         "showlegend": false,
         "textposition": "auto",
         "x": [
          "NYC",
          "Man",
          "Chic",
          "DC"
         ],
         "xaxis": "x16",
         "y": [
          510.1269580882316,
          311.2208807838026,
          1113.6215076436479,
          853.3212010919017
         ],
         "yaxis": "y16",
         "type": "bar"
        },
        {
         "alignmentgroup": "True",
         "hovertemplate": "method=ih<br>max_delay=600<br>duration_minutes=0.5<br>area_short=%{x}<br>cost_per_request=%{y}<extra></extra>",
         "legendgroup": "ih",
         "marker": {
          "color": "#636efa",
          "pattern": {
           "shape": ""
          }
         },
         "name": "ih",
         "offsetgroup": "ih",
         "orientation": "v",
         "showlegend": false,
         "textposition": "auto",
         "x": [
          "NYC",
          "Man",
          "Chic",
          "DC"
         ],
         "xaxis": "x",
         "y": [
          632.644376899696,
          415.7142857142857,
          600.0,
          2115.0
         ],
         "yaxis": "y",
         "type": "bar"
        },
        {
         "alignmentgroup": "True",
         "hovertemplate": "method=ih<br>max_delay=600<br>duration_minutes=1.0<br>area_short=%{x}<br>cost_per_request=%{y}<extra></extra>",
         "legendgroup": "ih",
         "marker": {
          "color": "#636efa",
          "pattern": {
           "shape": ""
          }
         },
         "name": "ih",
         "offsetgroup": "ih",
         "orientation": "v",
         "showlegend": false,
         "textposition": "auto",
         "x": [
          "NYC",
          "Man",
          "Chic",
          "DC"
         ],
         "xaxis": "x2",
         "y": [
          566.465256797583,
          392.72727272727275,
          1001.5384615384615,
          1525.7142857142858
         ],
         "yaxis": "y2",
         "type": "bar"
        },
        {
         "alignmentgroup": "True",
         "hovertemplate": "method=ih<br>max_delay=600<br>duration_minutes=2.0<br>area_short=%{x}<br>cost_per_request=%{y}<extra></extra>",
         "legendgroup": "ih",
         "marker": {
          "color": "#636efa",
          "pattern": {
           "shape": ""
          }
         },
         "name": "ih",
         "offsetgroup": "ih",
         "orientation": "v",
         "showlegend": false,
         "textposition": "auto",
         "x": [
          "NYC",
          "Man",
          "Chic",
          "DC"
         ],
         "xaxis": "x3",
         "y": [
          518.3820224719101,
          357.42148760330576,
          857.1428571428571,
          1216.6666666666667
         ],
         "yaxis": "y3",
         "type": "bar"
        },
        {
         "alignmentgroup": "True",
         "hovertemplate": "method=ih<br>max_delay=600<br>duration_minutes=5.0<br>area_short=%{x}<br>cost_per_request=%{y}<extra></extra>",
         "legendgroup": "ih",
         "marker": {
          "color": "#636efa",
          "pattern": {
           "shape": ""
          }
         },
         "name": "ih",
         "offsetgroup": "ih",
         "orientation": "v",
         "showlegend": false,
         "textposition": "auto",
         "x": [
          "NYC",
          "Man",
          "Chic",
          "DC"
         ],
         "xaxis": "x4",
         "y": [
          484.283256880734,
          329.81905910735827,
          662.6373626373627,
          1022.2222222222222
         ],
         "yaxis": "y4",
         "type": "bar"
        },
        {
         "alignmentgroup": "True",
         "hovertemplate": "method=ih<br>max_delay=600<br>duration_minutes=15.0<br>area_short=%{x}<br>cost_per_request=%{y}<extra></extra>",
         "legendgroup": "ih",
         "marker": {
          "color": "#636efa",
          "pattern": {
           "shape": ""
          }
         },
         "name": "ih",
         "offsetgroup": "ih",
         "orientation": "v",
         "showlegend": false,
         "textposition": "auto",
         "x": [
          "NYC",
          "Man",
          "Chic",
          "DC"
         ],
         "xaxis": "x5",
         "y": [
          431.7422163338696,
          285.9065128104831,
          598.6861313868613,
          899.6319018404907
         ],
         "yaxis": "y5",
         "type": "bar"
        },
        {
         "alignmentgroup": "True",
         "hovertemplate": "method=ih<br>max_delay=600<br>duration_minutes=30.0<br>area_short=%{x}<br>cost_per_request=%{y}<extra></extra>",
         "legendgroup": "ih",
         "marker": {
          "color": "#636efa",
          "pattern": {
           "shape": ""
          }
         },
         "name": "ih",
         "offsetgroup": "ih",
         "orientation": "v",
         "showlegend": false,
         "textposition": "auto",
         "x": [
          "NYC",
          "Man",
          "Chic",
          "DC"
         ],
         "xaxis": "x6",
         "y": [
          406.6330790269181,
          261.0885929357267,
          577.6510067114094,
          868.5365853658536
         ],
         "yaxis": "y6",
         "type": "bar"
        },
        {
         "alignmentgroup": "True",
         "hovertemplate": "method=ih<br>max_delay=600<br>duration_minutes=120.0<br>area_short=%{x}<br>cost_per_request=%{y}<extra></extra>",
         "legendgroup": "ih",
         "marker": {
          "color": "#636efa",
          "pattern": {
           "shape": ""
          }
         },
         "name": "ih",
         "offsetgroup": "ih",
         "orientation": "v",
         "showlegend": false,
         "textposition": "auto",
         "x": [
          "NYC",
          "Man",
          "Chic",
          "DC"
         ],
         "xaxis": "x7",
         "y": [
          392.26713810755183,
          243.25497579343732,
          683.0886850152905,
          769.8777506112469
         ],
         "yaxis": "y7",
         "type": "bar"
        },
        {
         "alignmentgroup": "True",
         "hovertemplate": "method=ih<br>max_delay=600<br>duration_minutes=960.0<br>area_short=%{x}<br>cost_per_request=%{y}<extra></extra>",
         "legendgroup": "ih",
         "marker": {
          "color": "#636efa",
          "pattern": {
           "shape": ""
          }
         },
         "name": "ih",
         "offsetgroup": "ih",
         "orientation": "v",
         "showlegend": false,
         "textposition": "auto",
         "x": [
          "NYC",
          "Man",
          "Chic",
          "DC"
         ],
         "xaxis": "x8",
         "y": [
          433.48593799534035,
          262.2508919399556,
          893.1049024775962,
          726.4604185623294
         ],
         "yaxis": "y8",
         "type": "bar"
        },
        {
         "alignmentgroup": "True",
         "hovertemplate": "method=vga<br>max_delay=180<br>duration_minutes=0.5<br>area_short=%{x}<br>cost_per_request=%{y}<extra></extra>",
         "legendgroup": "vga",
         "marker": {
          "color": "#EF553B",
          "pattern": {
           "shape": ""
          }
         },
         "name": "vga",
         "offsetgroup": "vga",
         "orientation": "v",
         "showlegend": true,
         "textposition": "auto",
         "x": [
          "NYC",
          "Man",
          "Chic",
          "DC"
         ],
         "xaxis": "x17",
         "y": [
          756.2917933130699,
          465.85714285714283,
          720.0,
          2115.0
         ],
         "yaxis": "y17",
         "type": "bar"
        },
        {
         "alignmentgroup": "True",
         "hovertemplate": "method=vga<br>max_delay=180<br>duration_minutes=1.0<br>area_short=%{x}<br>cost_per_request=%{y}<extra></extra>",
         "legendgroup": "vga",
         "marker": {
          "color": "#EF553B",
          "pattern": {
           "shape": ""
          }
         },
         "name": "vga",
         "offsetgroup": "vga",
         "orientation": "v",
         "showlegend": false,
         "textposition": "auto",
         "x": [
          "NYC",
          "Man",
          "Chic",
          "DC"
         ],
         "xaxis": "x18",
         "y": [
          658.4592145015106,
          419.5804195804196,
          1144.6153846153845,
          1705.7142857142858
         ],
         "yaxis": "y18",
         "type": "bar"
        },
        {
         "alignmentgroup": "True",
         "hovertemplate": "method=vga<br>max_delay=180<br>duration_minutes=2.0<br>area_short=%{x}<br>cost_per_request=%{y}<extra></extra>",
         "legendgroup": "vga",
         "marker": {
          "color": "#EF553B",
          "pattern": {
           "shape": ""
          }
         },
         "name": "vga",
         "offsetgroup": "vga",
         "orientation": "v",
         "showlegend": false,
         "textposition": "auto",
         "x": [
          "NYC",
          "Man",
          "Chic",
          "DC"
         ],
         "xaxis": "x19",
         "y": [
          602.0674157303371,
          355.73553719008265,
          906.4285714285714,
          1290.0
         ],
         "yaxis": "y19",
         "type": "bar"
        },
        {
         "alignmentgroup": "True",
         "hovertemplate": "method=vga<br>max_delay=180<br>duration_minutes=5.0<br>area_short=%{x}<br>cost_per_request=%{y}<extra></extra>",
         "legendgroup": "vga",
         "marker": {
          "color": "#EF553B",
          "pattern": {
           "shape": ""
          }
         },
         "name": "vga",
         "offsetgroup": "vga",
         "orientation": "v",
         "showlegend": false,
         "textposition": "auto",
         "x": [
          "Chic",
          "DC"
         ],
         "xaxis": "x20",
         "y": [
          843.9560439560439,
          1292.2222222222222
         ],
         "yaxis": "y20",
         "type": "bar"
        },
        {
         "alignmentgroup": "True",
         "hovertemplate": "method=vga<br>max_delay=180<br>duration_minutes=15.0<br>area_short=%{x}<br>cost_per_request=%{y}<extra></extra>",
         "legendgroup": "vga",
         "marker": {
          "color": "#EF553B",
          "pattern": {
           "shape": ""
          }
         },
         "name": "vga",
         "offsetgroup": "vga",
         "orientation": "v",
         "showlegend": false,
         "textposition": "auto",
         "x": [
          "DC"
         ],
         "xaxis": "x21",
         "y": [
          1193.006134969325
         ],
         "yaxis": "y21",
         "type": "bar"
        },
        {
         "alignmentgroup": "True",
         "hovertemplate": "method=vga<br>max_delay=180<br>duration_minutes=30.0<br>area_short=%{x}<br>cost_per_request=%{y}<extra></extra>",
         "legendgroup": "vga",
         "marker": {
          "color": "#EF553B",
          "pattern": {
           "shape": ""
          }
         },
         "name": "vga",
         "offsetgroup": "vga",
         "orientation": "v",
         "showlegend": false,
         "textposition": "auto",
         "x": [
          "DC"
         ],
         "xaxis": "x22",
         "y": [
          1086.5853658536585
         ],
         "yaxis": "y22",
         "type": "bar"
        },
        {
         "alignmentgroup": "True",
         "hovertemplate": "method=vga<br>max_delay=300<br>duration_minutes=0.5<br>area_short=%{x}<br>cost_per_request=%{y}<extra></extra>",
         "legendgroup": "vga",
         "marker": {
          "color": "#EF553B",
          "pattern": {
           "shape": ""
          }
         },
         "name": "vga",
         "offsetgroup": "vga",
         "orientation": "v",
         "showlegend": false,
         "textposition": "auto",
         "x": [
          "NYC",
          "Man",
          "Chic",
          "DC"
         ],
         "xaxis": "x9",
         "y": [
          661.6413373860182,
          397.2857142857143,
          624.0,
          2115.0
         ],
         "yaxis": "y9",
         "type": "bar"
        },
        {
         "alignmentgroup": "True",
         "hovertemplate": "method=vga<br>max_delay=300<br>duration_minutes=1.0<br>area_short=%{x}<br>cost_per_request=%{y}<extra></extra>",
         "legendgroup": "vga",
         "marker": {
          "color": "#EF553B",
          "pattern": {
           "shape": ""
          }
         },
         "name": "vga",
         "offsetgroup": "vga",
         "orientation": "v",
         "showlegend": false,
         "textposition": "auto",
         "x": [
          "NYC",
          "Man",
          "Chic",
          "DC"
         ],
         "xaxis": "x10",
         "y": [
          574.0785498489425,
          349.9300699300699,
          1107.6923076923076,
          1705.7142857142858
         ],
         "yaxis": "y10",
         "type": "bar"
        },
        {
         "alignmentgroup": "True",
         "hovertemplate": "method=vga<br>max_delay=300<br>duration_minutes=2.0<br>area_short=%{x}<br>cost_per_request=%{y}<extra></extra>",
         "legendgroup": "vga",
         "marker": {
          "color": "#EF553B",
          "pattern": {
           "shape": ""
          }
         },
         "name": "vga",
         "offsetgroup": "vga",
         "orientation": "v",
         "showlegend": false,
         "textposition": "auto",
         "x": [
          "NYC",
          "Man",
          "Chic",
          "DC"
         ],
         "xaxis": "x11",
         "y": [
          500.80898876404495,
          295.53719008264466,
          887.1428571428571,
          1270.0
         ],
         "yaxis": "y11",
         "type": "bar"
        },
        {
         "alignmentgroup": "True",
         "hovertemplate": "method=vga<br>max_delay=300<br>duration_minutes=5.0<br>area_short=%{x}<br>cost_per_request=%{y}<extra></extra>",
         "legendgroup": "vga",
         "marker": {
          "color": "#EF553B",
          "pattern": {
           "shape": ""
          }
         },
         "name": "vga",
         "offsetgroup": "vga",
         "orientation": "v",
         "showlegend": false,
         "textposition": "auto",
         "x": [
          "Chic",
          "DC"
         ],
         "xaxis": "x12",
         "y": [
          744.3956043956044,
          1120.0
         ],
         "yaxis": "y12",
         "type": "bar"
        },
        {
         "alignmentgroup": "True",
         "hovertemplate": "method=vga<br>max_delay=300<br>duration_minutes=15.0<br>area_short=%{x}<br>cost_per_request=%{y}<extra></extra>",
         "legendgroup": "vga",
         "marker": {
          "color": "#EF553B",
          "pattern": {
           "shape": ""
          }
         },
         "name": "vga",
         "offsetgroup": "vga",
         "orientation": "v",
         "showlegend": false,
         "textposition": "auto",
         "x": [
          "DC"
         ],
         "xaxis": "x13",
         "y": [
          984.6625766871166
         ],
         "yaxis": "y13",
         "type": "bar"
        },
        {
         "alignmentgroup": "True",
         "hovertemplate": "method=vga<br>max_delay=300<br>duration_minutes=30.0<br>area_short=%{x}<br>cost_per_request=%{y}<extra></extra>",
         "legendgroup": "vga",
         "marker": {
          "color": "#EF553B",
          "pattern": {
           "shape": ""
          }
         },
         "name": "vga",
         "offsetgroup": "vga",
         "orientation": "v",
         "showlegend": false,
         "textposition": "auto",
         "x": [
          "DC"
         ],
         "xaxis": "x14",
         "y": [
          881.7073170731708
         ],
         "yaxis": "y14",
         "type": "bar"
        },
        {
         "alignmentgroup": "True",
         "hovertemplate": "method=vga<br>max_delay=600<br>duration_minutes=0.5<br>area_short=%{x}<br>cost_per_request=%{y}<extra></extra>",
         "legendgroup": "vga",
         "marker": {
          "color": "#EF553B",
          "pattern": {
           "shape": ""
          }
         },
         "name": "vga",
         "offsetgroup": "vga",
         "orientation": "v",
         "showlegend": false,
         "textposition": "auto",
         "x": [
          "NYC",
          "Man",
          "Chic",
          "DC"
         ],
         "xaxis": "x",
         "y": [
          557.3252279635259,
          330.0,
          588.0,
          2115.0
         ],
         "yaxis": "y",
         "type": "bar"
        },
        {
         "alignmentgroup": "True",
         "hovertemplate": "method=vga<br>max_delay=600<br>duration_minutes=1.0<br>area_short=%{x}<br>cost_per_request=%{y}<extra></extra>",
         "legendgroup": "vga",
         "marker": {
          "color": "#EF553B",
          "pattern": {
           "shape": ""
          }
         },
         "name": "vga",
         "offsetgroup": "vga",
         "orientation": "v",
         "showlegend": false,
         "textposition": "auto",
         "x": [
          "Man",
          "Chic",
          "DC"
         ],
         "xaxis": "x2",
         "y": [
          286.57342657342656,
          983.0769230769231,
          1525.7142857142858
         ],
         "yaxis": "y2",
         "type": "bar"
        },
        {
         "alignmentgroup": "True",
         "hovertemplate": "method=vga<br>max_delay=600<br>duration_minutes=2.0<br>area_short=%{x}<br>cost_per_request=%{y}<extra></extra>",
         "legendgroup": "vga",
         "marker": {
          "color": "#EF553B",
          "pattern": {
           "shape": ""
          }
         },
         "name": "vga",
         "offsetgroup": "vga",
         "orientation": "v",
         "showlegend": false,
         "textposition": "auto",
         "x": [
          "Chic",
          "DC"
         ],
         "xaxis": "x3",
         "y": [
          842.1428571428571,
          1053.3333333333333
         ],
         "yaxis": "y3",
         "type": "bar"
        },
        {
         "alignmentgroup": "True",
         "hovertemplate": "method=vga<br>max_delay=600<br>duration_minutes=5.0<br>area_short=%{x}<br>cost_per_request=%{y}<extra></extra>",
         "legendgroup": "vga",
         "marker": {
          "color": "#EF553B",
          "pattern": {
           "shape": ""
          }
         },
         "name": "vga",
         "offsetgroup": "vga",
         "orientation": "v",
         "showlegend": false,
         "textposition": "auto",
         "x": [
          "Chic",
          "DC"
         ],
         "xaxis": "x4",
         "y": [
          581.5384615384615,
          860.0
         ],
         "yaxis": "y4",
         "type": "bar"
        },
        {
         "alignmentgroup": "True",
         "hovertemplate": "method=vga<br>max_delay=600<br>duration_minutes=15.0<br>area_short=%{x}<br>cost_per_request=%{y}<extra></extra>",
         "legendgroup": "vga",
         "marker": {
          "color": "#EF553B",
          "pattern": {
           "shape": ""
          }
         },
         "name": "vga",
         "offsetgroup": "vga",
         "orientation": "v",
         "showlegend": false,
         "textposition": "auto",
         "x": [
          "DC"
         ],
         "xaxis": "x5",
         "y": [
          703.4355828220858
         ],
         "yaxis": "y5",
         "type": "bar"
        }
       ],
       "layout": {
        "template": {
         "data": {
          "histogram2dcontour": [
           {
            "type": "histogram2dcontour",
            "colorbar": {
             "outlinewidth": 0,
             "ticks": ""
            },
            "colorscale": [
             [
              0.0,
              "#0d0887"
             ],
             [
              0.1111111111111111,
              "#46039f"
             ],
             [
              0.2222222222222222,
              "#7201a8"
             ],
             [
              0.3333333333333333,
              "#9c179e"
             ],
             [
              0.4444444444444444,
              "#bd3786"
             ],
             [
              0.5555555555555556,
              "#d8576b"
             ],
             [
              0.6666666666666666,
              "#ed7953"
             ],
             [
              0.7777777777777778,
              "#fb9f3a"
             ],
             [
              0.8888888888888888,
              "#fdca26"
             ],
             [
              1.0,
              "#f0f921"
             ]
            ]
           }
          ],
          "choropleth": [
           {
            "type": "choropleth",
            "colorbar": {
             "outlinewidth": 0,
             "ticks": ""
            }
           }
          ],
          "histogram2d": [
           {
            "type": "histogram2d",
            "colorbar": {
             "outlinewidth": 0,
             "ticks": ""
            },
            "colorscale": [
             [
              0.0,
              "#0d0887"
             ],
             [
              0.1111111111111111,
              "#46039f"
             ],
             [
              0.2222222222222222,
              "#7201a8"
             ],
             [
              0.3333333333333333,
              "#9c179e"
             ],
             [
              0.4444444444444444,
              "#bd3786"
             ],
             [
              0.5555555555555556,
              "#d8576b"
             ],
             [
              0.6666666666666666,
              "#ed7953"
             ],
             [
              0.7777777777777778,
              "#fb9f3a"
             ],
             [
              0.8888888888888888,
              "#fdca26"
             ],
             [
              1.0,
              "#f0f921"
             ]
            ]
           }
          ],
          "heatmap": [
           {
            "type": "heatmap",
            "colorbar": {
             "outlinewidth": 0,
             "ticks": ""
            },
            "colorscale": [
             [
              0.0,
              "#0d0887"
             ],
             [
              0.1111111111111111,
              "#46039f"
             ],
             [
              0.2222222222222222,
              "#7201a8"
             ],
             [
              0.3333333333333333,
              "#9c179e"
             ],
             [
              0.4444444444444444,
              "#bd3786"
             ],
             [
              0.5555555555555556,
              "#d8576b"
             ],
             [
              0.6666666666666666,
              "#ed7953"
             ],
             [
              0.7777777777777778,
              "#fb9f3a"
             ],
             [
              0.8888888888888888,
              "#fdca26"
             ],
             [
              1.0,
              "#f0f921"
             ]
            ]
           }
          ],
          "heatmapgl": [
           {
            "type": "heatmapgl",
            "colorbar": {
             "outlinewidth": 0,
             "ticks": ""
            },
            "colorscale": [
             [
              0.0,
              "#0d0887"
             ],
             [
              0.1111111111111111,
              "#46039f"
             ],
             [
              0.2222222222222222,
              "#7201a8"
             ],
             [
              0.3333333333333333,
              "#9c179e"
             ],
             [
              0.4444444444444444,
              "#bd3786"
             ],
             [
              0.5555555555555556,
              "#d8576b"
             ],
             [
              0.6666666666666666,
              "#ed7953"
             ],
             [
              0.7777777777777778,
              "#fb9f3a"
             ],
             [
              0.8888888888888888,
              "#fdca26"
             ],
             [
              1.0,
              "#f0f921"
             ]
            ]
           }
          ],
          "contourcarpet": [
           {
            "type": "contourcarpet",
            "colorbar": {
             "outlinewidth": 0,
             "ticks": ""
            }
           }
          ],
          "contour": [
           {
            "type": "contour",
            "colorbar": {
             "outlinewidth": 0,
             "ticks": ""
            },
            "colorscale": [
             [
              0.0,
              "#0d0887"
             ],
             [
              0.1111111111111111,
              "#46039f"
             ],
             [
              0.2222222222222222,
              "#7201a8"
             ],
             [
              0.3333333333333333,
              "#9c179e"
             ],
             [
              0.4444444444444444,
              "#bd3786"
             ],
             [
              0.5555555555555556,
              "#d8576b"
             ],
             [
              0.6666666666666666,
              "#ed7953"
             ],
             [
              0.7777777777777778,
              "#fb9f3a"
             ],
             [
              0.8888888888888888,
              "#fdca26"
             ],
             [
              1.0,
              "#f0f921"
             ]
            ]
           }
          ],
          "surface": [
           {
            "type": "surface",
            "colorbar": {
             "outlinewidth": 0,
             "ticks": ""
            },
            "colorscale": [
             [
              0.0,
              "#0d0887"
             ],
             [
              0.1111111111111111,
              "#46039f"
             ],
             [
              0.2222222222222222,
              "#7201a8"
             ],
             [
              0.3333333333333333,
              "#9c179e"
             ],
             [
              0.4444444444444444,
              "#bd3786"
             ],
             [
              0.5555555555555556,
              "#d8576b"
             ],
             [
              0.6666666666666666,
              "#ed7953"
             ],
             [
              0.7777777777777778,
              "#fb9f3a"
             ],
             [
              0.8888888888888888,
              "#fdca26"
             ],
             [
              1.0,
              "#f0f921"
             ]
            ]
           }
          ],
          "mesh3d": [
           {
            "type": "mesh3d",
            "colorbar": {
             "outlinewidth": 0,
             "ticks": ""
            }
           }
          ],
          "scatter": [
           {
            "fillpattern": {
             "fillmode": "overlay",
             "size": 10,
             "solidity": 0.2
            },
            "type": "scatter"
           }
          ],
          "parcoords": [
           {
            "type": "parcoords",
            "line": {
             "colorbar": {
              "outlinewidth": 0,
              "ticks": ""
             }
            }
           }
          ],
          "scatterpolargl": [
           {
            "type": "scatterpolargl",
            "marker": {
             "colorbar": {
              "outlinewidth": 0,
              "ticks": ""
             }
            }
           }
          ],
          "bar": [
           {
            "error_x": {
             "color": "#2a3f5f"
            },
            "error_y": {
             "color": "#2a3f5f"
            },
            "marker": {
             "line": {
              "color": "#E5ECF6",
              "width": 0.5
             },
             "pattern": {
              "fillmode": "overlay",
              "size": 10,
              "solidity": 0.2
             }
            },
            "type": "bar"
           }
          ],
          "scattergeo": [
           {
            "type": "scattergeo",
            "marker": {
             "colorbar": {
              "outlinewidth": 0,
              "ticks": ""
             }
            }
           }
          ],
          "scatterpolar": [
           {
            "type": "scatterpolar",
            "marker": {
             "colorbar": {
              "outlinewidth": 0,
              "ticks": ""
             }
            }
           }
          ],
          "histogram": [
           {
            "marker": {
             "pattern": {
              "fillmode": "overlay",
              "size": 10,
              "solidity": 0.2
             }
            },
            "type": "histogram"
           }
          ],
          "scattergl": [
           {
            "type": "scattergl",
            "marker": {
             "colorbar": {
              "outlinewidth": 0,
              "ticks": ""
             }
            }
           }
          ],
          "scatter3d": [
           {
            "type": "scatter3d",
            "line": {
             "colorbar": {
              "outlinewidth": 0,
              "ticks": ""
             }
            },
            "marker": {
             "colorbar": {
              "outlinewidth": 0,
              "ticks": ""
             }
            }
           }
          ],
          "scattermapbox": [
           {
            "type": "scattermapbox",
            "marker": {
             "colorbar": {
              "outlinewidth": 0,
              "ticks": ""
             }
            }
           }
          ],
          "scatterternary": [
           {
            "type": "scatterternary",
            "marker": {
             "colorbar": {
              "outlinewidth": 0,
              "ticks": ""
             }
            }
           }
          ],
          "scattercarpet": [
           {
            "type": "scattercarpet",
            "marker": {
             "colorbar": {
              "outlinewidth": 0,
              "ticks": ""
             }
            }
           }
          ],
          "carpet": [
           {
            "aaxis": {
             "endlinecolor": "#2a3f5f",
             "gridcolor": "white",
             "linecolor": "white",
             "minorgridcolor": "white",
             "startlinecolor": "#2a3f5f"
            },
            "baxis": {
             "endlinecolor": "#2a3f5f",
             "gridcolor": "white",
             "linecolor": "white",
             "minorgridcolor": "white",
             "startlinecolor": "#2a3f5f"
            },
            "type": "carpet"
           }
          ],
          "table": [
           {
            "cells": {
             "fill": {
              "color": "#EBF0F8"
             },
             "line": {
              "color": "white"
             }
            },
            "header": {
             "fill": {
              "color": "#C8D4E3"
             },
             "line": {
              "color": "white"
             }
            },
            "type": "table"
           }
          ],
          "barpolar": [
           {
            "marker": {
             "line": {
              "color": "#E5ECF6",
              "width": 0.5
             },
             "pattern": {
              "fillmode": "overlay",
              "size": 10,
              "solidity": 0.2
             }
            },
            "type": "barpolar"
           }
          ],
          "pie": [
           {
            "automargin": true,
            "type": "pie"
           }
          ]
         },
         "layout": {
          "autotypenumbers": "strict",
          "colorway": [
           "#636efa",
           "#EF553B",
           "#00cc96",
           "#ab63fa",
           "#FFA15A",
           "#19d3f3",
           "#FF6692",
           "#B6E880",
           "#FF97FF",
           "#FECB52"
          ],
          "font": {
           "color": "#2a3f5f"
          },
          "hovermode": "closest",
          "hoverlabel": {
           "align": "left"
          },
          "paper_bgcolor": "white",
          "plot_bgcolor": "#E5ECF6",
          "polar": {
           "bgcolor": "#E5ECF6",
           "angularaxis": {
            "gridcolor": "white",
            "linecolor": "white",
            "ticks": ""
           },
           "radialaxis": {
            "gridcolor": "white",
            "linecolor": "white",
            "ticks": ""
           }
          },
          "ternary": {
           "bgcolor": "#E5ECF6",
           "aaxis": {
            "gridcolor": "white",
            "linecolor": "white",
            "ticks": ""
           },
           "baxis": {
            "gridcolor": "white",
            "linecolor": "white",
            "ticks": ""
           },
           "caxis": {
            "gridcolor": "white",
            "linecolor": "white",
            "ticks": ""
           }
          },
          "coloraxis": {
           "colorbar": {
            "outlinewidth": 0,
            "ticks": ""
           }
          },
          "colorscale": {
           "sequential": [
            [
             0.0,
             "#0d0887"
            ],
            [
             0.1111111111111111,
             "#46039f"
            ],
            [
             0.2222222222222222,
             "#7201a8"
            ],
            [
             0.3333333333333333,
             "#9c179e"
            ],
            [
             0.4444444444444444,
             "#bd3786"
            ],
            [
             0.5555555555555556,
             "#d8576b"
            ],
            [
             0.6666666666666666,
             "#ed7953"
            ],
            [
             0.7777777777777778,
             "#fb9f3a"
            ],
            [
             0.8888888888888888,
             "#fdca26"
            ],
            [
             1.0,
             "#f0f921"
            ]
           ],
           "sequentialminus": [
            [
             0.0,
             "#0d0887"
            ],
            [
             0.1111111111111111,
             "#46039f"
            ],
            [
             0.2222222222222222,
             "#7201a8"
            ],
            [
             0.3333333333333333,
             "#9c179e"
            ],
            [
             0.4444444444444444,
             "#bd3786"
            ],
            [
             0.5555555555555556,
             "#d8576b"
            ],
            [
             0.6666666666666666,
             "#ed7953"
            ],
            [
             0.7777777777777778,
             "#fb9f3a"
            ],
            [
             0.8888888888888888,
             "#fdca26"
            ],
            [
             1.0,
             "#f0f921"
            ]
           ],
           "diverging": [
            [
             0,
             "#8e0152"
            ],
            [
             0.1,
             "#c51b7d"
            ],
            [
             0.2,
             "#de77ae"
            ],
            [
             0.3,
             "#f1b6da"
            ],
            [
             0.4,
             "#fde0ef"
            ],
            [
             0.5,
             "#f7f7f7"
            ],
            [
             0.6,
             "#e6f5d0"
            ],
            [
             0.7,
             "#b8e186"
            ],
            [
             0.8,
             "#7fbc41"
            ],
            [
             0.9,
             "#4d9221"
            ],
            [
             1,
             "#276419"
            ]
           ]
          },
          "xaxis": {
           "gridcolor": "white",
           "linecolor": "white",
           "ticks": "",
           "title": {
            "standoff": 15
           },
           "zerolinecolor": "white",
           "automargin": true,
           "zerolinewidth": 2
          },
          "yaxis": {
           "gridcolor": "white",
           "linecolor": "white",
           "ticks": "",
           "title": {
            "standoff": 15
           },
           "zerolinecolor": "white",
           "automargin": true,
           "zerolinewidth": 2
          },
          "scene": {
           "xaxis": {
            "backgroundcolor": "#E5ECF6",
            "gridcolor": "white",
            "linecolor": "white",
            "showbackground": true,
            "ticks": "",
            "zerolinecolor": "white",
            "gridwidth": 2
           },
           "yaxis": {
            "backgroundcolor": "#E5ECF6",
            "gridcolor": "white",
            "linecolor": "white",
            "showbackground": true,
            "ticks": "",
            "zerolinecolor": "white",
            "gridwidth": 2
           },
           "zaxis": {
            "backgroundcolor": "#E5ECF6",
            "gridcolor": "white",
            "linecolor": "white",
            "showbackground": true,
            "ticks": "",
            "zerolinecolor": "white",
            "gridwidth": 2
           }
          },
          "shapedefaults": {
           "line": {
            "color": "#2a3f5f"
           }
          },
          "annotationdefaults": {
           "arrowcolor": "#2a3f5f",
           "arrowhead": 0,
           "arrowwidth": 1
          },
          "geo": {
           "bgcolor": "white",
           "landcolor": "#E5ECF6",
           "subunitcolor": "white",
           "showland": true,
           "showlakes": true,
           "lakecolor": "white"
          },
          "title": {
           "x": 0.05
          },
          "mapbox": {
           "style": "light"
          }
         }
        },
        "xaxis": {
         "anchor": "y",
         "domain": [
          0.0,
          0.105
         ],
         "title": {
          "text": ""
         }
        },
        "yaxis": {
         "anchor": "x",
         "domain": [
          0.0,
          0.3133333333333333
         ],
         "title": {
          "text": ""
         }
        },
        "xaxis2": {
         "anchor": "y2",
         "domain": [
          0.125,
          0.22999999999999998
         ],
         "matches": "x",
         "title": {
          "text": ""
         }
        },
        "yaxis2": {
         "anchor": "x2",
         "domain": [
          0.0,
          0.3133333333333333
         ],
         "matches": "y",
         "showticklabels": false,
         "title": {
          "text": ""
         }
        },
        "xaxis3": {
         "anchor": "y3",
         "domain": [
          0.25,
          0.355
         ],
         "matches": "x",
         "title": {
          "text": ""
         }
        },
        "yaxis3": {
         "anchor": "x3",
         "domain": [
          0.0,
          0.3133333333333333
         ],
         "matches": "y",
         "showticklabels": false,
         "title": {
          "text": ""
         }
        },
        "xaxis4": {
         "anchor": "y4",
         "domain": [
          0.375,
          0.48
         ],
         "matches": "x",
         "title": {
          "text": ""
         }
        },
        "yaxis4": {
         "anchor": "x4",
         "domain": [
          0.0,
          0.3133333333333333
         ],
         "matches": "y",
         "showticklabels": false,
         "title": {
          "text": ""
         }
        },
        "xaxis5": {
         "anchor": "y5",
         "domain": [
          0.5,
          0.605
         ],
         "matches": "x",
         "title": {
          "text": ""
         }
        },
        "yaxis5": {
         "anchor": "x5",
         "domain": [
          0.0,
          0.3133333333333333
         ],
         "matches": "y",
         "showticklabels": false,
         "title": {
          "text": ""
         }
        },
        "xaxis6": {
         "anchor": "y6",
         "domain": [
          0.625,
          0.73
         ],
         "matches": "x",
         "title": {
          "text": ""
         }
        },
        "yaxis6": {
         "anchor": "x6",
         "domain": [
          0.0,
          0.3133333333333333
         ],
         "matches": "y",
         "showticklabels": false,
         "title": {
          "text": ""
         }
        },
        "xaxis7": {
         "anchor": "y7",
         "domain": [
          0.75,
          0.855
         ],
         "matches": "x",
         "title": {
          "text": ""
         }
        },
        "yaxis7": {
         "anchor": "x7",
         "domain": [
          0.0,
          0.3133333333333333
         ],
         "matches": "y",
         "showticklabels": false,
         "title": {
          "text": ""
         }
        },
        "xaxis8": {
         "anchor": "y8",
         "domain": [
          0.875,
          0.98
         ],
         "matches": "x",
         "title": {
          "text": ""
         }
        },
        "yaxis8": {
         "anchor": "x8",
         "domain": [
          0.0,
          0.3133333333333333
         ],
         "matches": "y",
         "showticklabels": false,
         "title": {
          "text": ""
         }
        },
        "xaxis9": {
         "anchor": "y9",
         "domain": [
          0.0,
          0.105
         ],
         "matches": "x",
         "showticklabels": false,
         "title": {
          "text": ""
         }
        },
        "yaxis9": {
         "anchor": "x9",
         "domain": [
          0.34333333333333327,
          0.6566666666666665
         ],
         "matches": "y",
         "title": {
          "text": ""
         }
        },
        "xaxis10": {
         "anchor": "y10",
         "domain": [
          0.125,
          0.22999999999999998
         ],
         "matches": "x",
         "showticklabels": false,
         "title": {
          "text": ""
         }
        },
        "yaxis10": {
         "anchor": "x10",
         "domain": [
          0.34333333333333327,
          0.6566666666666665
         ],
         "matches": "y",
         "showticklabels": false,
         "title": {
          "text": ""
         }
        },
        "xaxis11": {
         "anchor": "y11",
         "domain": [
          0.25,
          0.355
         ],
         "matches": "x",
         "showticklabels": false,
         "title": {
          "text": ""
         }
        },
        "yaxis11": {
         "anchor": "x11",
         "domain": [
          0.34333333333333327,
          0.6566666666666665
         ],
         "matches": "y",
         "showticklabels": false,
         "title": {
          "text": ""
         }
        },
        "xaxis12": {
         "anchor": "y12",
         "domain": [
          0.375,
          0.48
         ],
         "matches": "x",
         "showticklabels": false,
         "title": {
          "text": ""
         }
        },
        "yaxis12": {
         "anchor": "x12",
         "domain": [
          0.34333333333333327,
          0.6566666666666665
         ],
         "matches": "y",
         "showticklabels": false,
         "title": {
          "text": ""
         }
        },
        "xaxis13": {
         "anchor": "y13",
         "domain": [
          0.5,
          0.605
         ],
         "matches": "x",
         "showticklabels": false,
         "title": {
          "text": ""
         }
        },
        "yaxis13": {
         "anchor": "x13",
         "domain": [
          0.34333333333333327,
          0.6566666666666665
         ],
         "matches": "y",
         "showticklabels": false,
         "title": {
          "text": ""
         }
        },
        "xaxis14": {
         "anchor": "y14",
         "domain": [
          0.625,
          0.73
         ],
         "matches": "x",
         "showticklabels": false,
         "title": {
          "text": ""
         }
        },
        "yaxis14": {
         "anchor": "x14",
         "domain": [
          0.34333333333333327,
          0.6566666666666665
         ],
         "matches": "y",
         "showticklabels": false,
         "title": {
          "text": ""
         }
        },
        "xaxis15": {
         "anchor": "y15",
         "domain": [
          0.75,
          0.855
         ],
         "matches": "x",
         "showticklabels": false,
         "title": {
          "text": ""
         }
        },
        "yaxis15": {
         "anchor": "x15",
         "domain": [
          0.34333333333333327,
          0.6566666666666665
         ],
         "matches": "y",
         "showticklabels": false,
         "title": {
          "text": ""
         }
        },
        "xaxis16": {
         "anchor": "y16",
         "domain": [
          0.875,
          0.98
         ],
         "matches": "x",
         "showticklabels": false,
         "title": {
          "text": ""
         }
        },
        "yaxis16": {
         "anchor": "x16",
         "domain": [
          0.34333333333333327,
          0.6566666666666665
         ],
         "matches": "y",
         "showticklabels": false,
         "title": {
          "text": ""
         }
        },
        "xaxis17": {
         "anchor": "y17",
         "domain": [
          0.0,
          0.105
         ],
         "matches": "x",
         "showticklabels": false,
         "title": {
          "text": ""
         }
        },
        "yaxis17": {
         "anchor": "x17",
         "domain": [
          0.6866666666666665,
          0.9999999999999998
         ],
         "matches": "y",
         "title": {
          "text": ""
         }
        },
        "xaxis18": {
         "anchor": "y18",
         "domain": [
          0.125,
          0.22999999999999998
         ],
         "matches": "x",
         "showticklabels": false,
         "title": {
          "text": ""
         }
        },
        "yaxis18": {
         "anchor": "x18",
         "domain": [
          0.6866666666666665,
          0.9999999999999998
         ],
         "matches": "y",
         "showticklabels": false,
         "title": {
          "text": ""
         }
        },
        "xaxis19": {
         "anchor": "y19",
         "domain": [
          0.25,
          0.355
         ],
         "matches": "x",
         "showticklabels": false,
         "title": {
          "text": ""
         }
        },
        "yaxis19": {
         "anchor": "x19",
         "domain": [
          0.6866666666666665,
          0.9999999999999998
         ],
         "matches": "y",
         "showticklabels": false,
         "title": {
          "text": ""
         }
        },
        "xaxis20": {
         "anchor": "y20",
         "domain": [
          0.375,
          0.48
         ],
         "matches": "x",
         "showticklabels": false,
         "title": {
          "text": ""
         }
        },
        "yaxis20": {
         "anchor": "x20",
         "domain": [
          0.6866666666666665,
          0.9999999999999998
         ],
         "matches": "y",
         "showticklabels": false,
         "title": {
          "text": ""
         }
        },
        "xaxis21": {
         "anchor": "y21",
         "domain": [
          0.5,
          0.605
         ],
         "matches": "x",
         "showticklabels": false,
         "title": {
          "text": ""
         }
        },
        "yaxis21": {
         "anchor": "x21",
         "domain": [
          0.6866666666666665,
          0.9999999999999998
         ],
         "matches": "y",
         "showticklabels": false,
         "title": {
          "text": ""
         }
        },
        "xaxis22": {
         "anchor": "y22",
         "domain": [
          0.625,
          0.73
         ],
         "matches": "x",
         "showticklabels": false,
         "title": {
          "text": ""
         }
        },
        "yaxis22": {
         "anchor": "x22",
         "domain": [
          0.6866666666666665,
          0.9999999999999998
         ],
         "matches": "y",
         "showticklabels": false,
         "title": {
          "text": ""
         }
        },
        "xaxis23": {
         "anchor": "y23",
         "domain": [
          0.75,
          0.855
         ],
         "matches": "x",
         "showticklabels": false,
         "title": {
          "text": ""
         }
        },
        "yaxis23": {
         "anchor": "x23",
         "domain": [
          0.6866666666666665,
          0.9999999999999998
         ],
         "matches": "y",
         "showticklabels": false,
         "title": {
          "text": ""
         }
        },
        "xaxis24": {
         "anchor": "y24",
         "domain": [
          0.875,
          0.98
         ],
         "matches": "x",
         "showticklabels": false,
         "title": {
          "text": ""
         }
        },
        "yaxis24": {
         "anchor": "x24",
         "domain": [
          0.6866666666666665,
          0.9999999999999998
         ],
         "matches": "y",
         "showticklabels": false,
         "title": {
          "text": ""
         }
        },
        "annotations": [
         {
          "showarrow": false,
          "text": "0.5",
          "x": 0.0525,
          "xanchor": "center",
          "xref": "paper",
          "y": 0.9999999999999998,
          "yanchor": "bottom",
          "yref": "paper"
         },
         {
          "showarrow": false,
          "text": "1.0",
          "x": 0.1775,
          "xanchor": "center",
          "xref": "paper",
          "y": 0.9999999999999998,
          "yanchor": "bottom",
          "yref": "paper"
         },
         {
          "showarrow": false,
          "text": "2.0",
          "x": 0.3025,
          "xanchor": "center",
          "xref": "paper",
          "y": 0.9999999999999998,
          "yanchor": "bottom",
          "yref": "paper"
         },
         {
          "showarrow": false,
          "text": "5.0",
          "x": 0.4275,
          "xanchor": "center",
          "xref": "paper",
          "y": 0.9999999999999998,
          "yanchor": "bottom",
          "yref": "paper"
         },
         {
          "showarrow": false,
          "text": "15.0",
          "x": 0.5525,
          "xanchor": "center",
          "xref": "paper",
          "y": 0.9999999999999998,
          "yanchor": "bottom",
          "yref": "paper"
         },
         {
          "showarrow": false,
          "text": "30.0",
          "x": 0.6775,
          "xanchor": "center",
          "xref": "paper",
          "y": 0.9999999999999998,
          "yanchor": "bottom",
          "yref": "paper"
         },
         {
          "showarrow": false,
          "text": "120.0",
          "x": 0.8025,
          "xanchor": "center",
          "xref": "paper",
          "y": 0.9999999999999998,
          "yanchor": "bottom",
          "yref": "paper"
         },
         {
          "showarrow": false,
          "text": "960.0",
          "x": 0.9275,
          "xanchor": "center",
          "xref": "paper",
          "y": 0.9999999999999998,
          "yanchor": "bottom",
          "yref": "paper"
         },
         {
          "showarrow": false,
          "text": "600",
          "textangle": 90,
          "x": 0.98,
          "xanchor": "left",
          "xref": "paper",
          "y": 0.15666666666666665,
          "yanchor": "middle",
          "yref": "paper"
         },
         {
          "showarrow": false,
          "text": "300",
          "textangle": 90,
          "x": 0.98,
          "xanchor": "left",
          "xref": "paper",
          "y": 0.4999999999999999,
          "yanchor": "middle",
          "yref": "paper"
         },
         {
          "showarrow": false,
          "text": "180",
          "textangle": 90,
          "x": 0.98,
          "xanchor": "left",
          "xref": "paper",
          "y": 0.8433333333333332,
          "yanchor": "middle",
          "yref": "paper"
         },
         {
          "showarrow": false,
          "text": "travel time per request [s]",
          "textangle": -90,
          "x": -0.06,
          "xref": "paper",
          "y": 0.5,
          "yref": "paper"
         },
         {
          "showarrow": false,
          "text": "instance length [min]",
          "x": 0.5,
          "xref": "paper",
          "y": 1.12,
          "yref": "paper"
         },
         {
          "showarrow": false,
          "text": "maximum delay [s]",
          "textangle": 90,
          "x": 1.02,
          "xref": "paper",
          "y": 0.5,
          "yref": "paper"
         }
        ],
        "legend": {
         "title": {
          "text": "method"
         },
         "tracegroupgap": 0,
         "orientation": "h",
         "yanchor": "bottom",
         "y": 1.06,
         "xanchor": "right",
         "x": 1,
         "bordercolor": "Black",
         "borderwidth": 0
        },
        "margin": {
         "t": 0,
         "l": 0,
         "r": 13,
         "b": 0,
         "pad": 0
        },
        "barmode": "group",
        "height": 400,
        "width": 900
       },
       "config": {
        "plotlyServerURL": "https://plot.ly"
       }
      },
      "text/html": "<div>                            <div id=\"e336a8e8-6a65-45ae-9ed3-f2c3fa93cda5\" class=\"plotly-graph-div\" style=\"height:400px; width:900px;\"></div>            <script type=\"text/javascript\">                require([\"plotly\"], function(Plotly) {                    window.PLOTLYENV=window.PLOTLYENV || {};                                    if (document.getElementById(\"e336a8e8-6a65-45ae-9ed3-f2c3fa93cda5\")) {                    Plotly.newPlot(                        \"e336a8e8-6a65-45ae-9ed3-f2c3fa93cda5\",                        [{\"alignmentgroup\":\"True\",\"hovertemplate\":\"method=ih<br>max_delay=180<br>duration_minutes=0.5<br>area_short=%{x}<br>cost_per_request=%{y}<extra></extra>\",\"legendgroup\":\"ih\",\"marker\":{\"color\":\"#636efa\",\"pattern\":{\"shape\":\"\"}},\"name\":\"ih\",\"offsetgroup\":\"ih\",\"orientation\":\"v\",\"showlegend\":true,\"textposition\":\"auto\",\"x\":[\"NYC\",\"Man\",\"Chic\",\"DC\"],\"xaxis\":\"x17\",\"y\":[800.0607902735562,495.85714285714283,756.0,2115.0],\"yaxis\":\"y17\",\"type\":\"bar\"},{\"alignmentgroup\":\"True\",\"hovertemplate\":\"method=ih<br>max_delay=180<br>duration_minutes=1.0<br>area_short=%{x}<br>cost_per_request=%{y}<extra></extra>\",\"legendgroup\":\"ih\",\"marker\":{\"color\":\"#636efa\",\"pattern\":{\"shape\":\"\"}},\"name\":\"ih\",\"offsetgroup\":\"ih\",\"orientation\":\"v\",\"showlegend\":false,\"textposition\":\"auto\",\"x\":[\"NYC\",\"Man\",\"Chic\",\"DC\"],\"xaxis\":\"x18\",\"y\":[698.3383685800604,476.43356643356645,1153.8461538461538,1705.7142857142858],\"yaxis\":\"y18\",\"type\":\"bar\"},{\"alignmentgroup\":\"True\",\"hovertemplate\":\"method=ih<br>max_delay=180<br>duration_minutes=2.0<br>area_short=%{x}<br>cost_per_request=%{y}<extra></extra>\",\"legendgroup\":\"ih\",\"marker\":{\"color\":\"#636efa\",\"pattern\":{\"shape\":\"\"}},\"name\":\"ih\",\"offsetgroup\":\"ih\",\"orientation\":\"v\",\"showlegend\":false,\"textposition\":\"auto\",\"x\":[\"NYC\",\"Man\",\"Chic\",\"DC\"],\"xaxis\":\"x19\",\"y\":[665.7977528089888,423.6694214876033,938.5714285714286,1313.3333333333333],\"yaxis\":\"y19\",\"type\":\"bar\"},{\"alignmentgroup\":\"True\",\"hovertemplate\":\"method=ih<br>max_delay=180<br>duration_minutes=5.0<br>area_short=%{x}<br>cost_per_request=%{y}<extra></extra>\",\"legendgroup\":\"ih\",\"marker\":{\"color\":\"#636efa\",\"pattern\":{\"shape\":\"\"}},\"name\":\"ih\",\"offsetgroup\":\"ih\",\"orientation\":\"v\",\"showlegend\":false,\"textposition\":\"auto\",\"x\":[\"NYC\",\"Man\",\"Chic\",\"DC\"],\"xaxis\":\"x20\",\"y\":[583.6238532110092,372.91917973462,902.6373626373627,1313.3333333333333],\"yaxis\":\"y20\",\"type\":\"bar\"},{\"alignmentgroup\":\"True\",\"hovertemplate\":\"method=ih<br>max_delay=180<br>duration_minutes=15.0<br>area_short=%{x}<br>cost_per_request=%{y}<extra></extra>\",\"legendgroup\":\"ih\",\"marker\":{\"color\":\"#636efa\",\"pattern\":{\"shape\":\"\"}},\"name\":\"ih\",\"offsetgroup\":\"ih\",\"orientation\":\"v\",\"showlegend\":false,\"textposition\":\"auto\",\"x\":[\"NYC\",\"Man\",\"Chic\",\"DC\"],\"xaxis\":\"x21\",\"y\":[522.432099933756,329.86504987287304,787.6642335766423,1254.1104294478528],\"yaxis\":\"y21\",\"type\":\"bar\"},{\"alignmentgroup\":\"True\",\"hovertemplate\":\"method=ih<br>max_delay=180<br>duration_minutes=30.0<br>area_short=%{x}<br>cost_per_request=%{y}<extra></extra>\",\"legendgroup\":\"ih\",\"marker\":{\"color\":\"#636efa\",\"pattern\":{\"shape\":\"\"}},\"name\":\"ih\",\"offsetgroup\":\"ih\",\"orientation\":\"v\",\"showlegend\":false,\"textposition\":\"auto\",\"x\":[\"NYC\",\"Man\",\"Chic\",\"DC\"],\"xaxis\":\"x22\",\"y\":[516.5078451129984,316.55471916618416,851.2751677852349,1163.0487804878048],\"yaxis\":\"y22\",\"type\":\"bar\"},{\"alignmentgroup\":\"True\",\"hovertemplate\":\"method=ih<br>max_delay=180<br>duration_minutes=120.0<br>area_short=%{x}<br>cost_per_request=%{y}<extra></extra>\",\"legendgroup\":\"ih\",\"marker\":{\"color\":\"#636efa\",\"pattern\":{\"shape\":\"\"}},\"name\":\"ih\",\"offsetgroup\":\"ih\",\"orientation\":\"v\",\"showlegend\":false,\"textposition\":\"auto\",\"x\":[\"NYC\",\"Man\",\"Chic\",\"DC\"],\"xaxis\":\"x23\",\"y\":[515.2593804422397,328.31360946745565,1036.8501529051987,1027.0415647921761],\"yaxis\":\"y23\",\"type\":\"bar\"},{\"alignmentgroup\":\"True\",\"hovertemplate\":\"method=ih<br>max_delay=180<br>duration_minutes=960.0<br>area_short=%{x}<br>cost_per_request=%{y}<extra></extra>\",\"legendgroup\":\"ih\",\"marker\":{\"color\":\"#636efa\",\"pattern\":{\"shape\":\"\"}},\"name\":\"ih\",\"offsetgroup\":\"ih\",\"orientation\":\"v\",\"showlegend\":false,\"textposition\":\"auto\",\"x\":[\"NYC\",\"Man\",\"Chic\",\"DC\"],\"xaxis\":\"x24\",\"y\":[575.8836997489018,363.5436802050081,1305.482340537691,983.3484986351228],\"yaxis\":\"y24\",\"type\":\"bar\"},{\"alignmentgroup\":\"True\",\"hovertemplate\":\"method=ih<br>max_delay=300<br>duration_minutes=0.5<br>area_short=%{x}<br>cost_per_request=%{y}<extra></extra>\",\"legendgroup\":\"ih\",\"marker\":{\"color\":\"#636efa\",\"pattern\":{\"shape\":\"\"}},\"name\":\"ih\",\"offsetgroup\":\"ih\",\"orientation\":\"v\",\"showlegend\":false,\"textposition\":\"auto\",\"x\":[\"NYC\",\"Man\",\"Chic\",\"DC\"],\"xaxis\":\"x9\",\"y\":[707.2340425531914,463.7142857142857,624.0,2115.0],\"yaxis\":\"y9\",\"type\":\"bar\"},{\"alignmentgroup\":\"True\",\"hovertemplate\":\"method=ih<br>max_delay=300<br>duration_minutes=1.0<br>area_short=%{x}<br>cost_per_request=%{y}<extra></extra>\",\"legendgroup\":\"ih\",\"marker\":{\"color\":\"#636efa\",\"pattern\":{\"shape\":\"\"}},\"name\":\"ih\",\"offsetgroup\":\"ih\",\"orientation\":\"v\",\"showlegend\":false,\"textposition\":\"auto\",\"x\":[\"NYC\",\"Man\",\"Chic\",\"DC\"],\"xaxis\":\"x10\",\"y\":[622.2054380664653,429.44055944055947,1144.6153846153845,1705.7142857142858],\"yaxis\":\"y10\",\"type\":\"bar\"},{\"alignmentgroup\":\"True\",\"hovertemplate\":\"method=ih<br>max_delay=300<br>duration_minutes=2.0<br>area_short=%{x}<br>cost_per_request=%{y}<extra></extra>\",\"legendgroup\":\"ih\",\"marker\":{\"color\":\"#636efa\",\"pattern\":{\"shape\":\"\"}},\"name\":\"ih\",\"offsetgroup\":\"ih\",\"orientation\":\"v\",\"showlegend\":false,\"textposition\":\"auto\",\"x\":[\"NYC\",\"Man\",\"Chic\",\"DC\"],\"xaxis\":\"x11\",\"y\":[578.561797752809,388.3636363636364,919.2857142857143,1270.0],\"yaxis\":\"y11\",\"type\":\"bar\"},{\"alignmentgroup\":\"True\",\"hovertemplate\":\"method=ih<br>max_delay=300<br>duration_minutes=5.0<br>area_short=%{x}<br>cost_per_request=%{y}<extra></extra>\",\"legendgroup\":\"ih\",\"marker\":{\"color\":\"#636efa\",\"pattern\":{\"shape\":\"\"}},\"name\":\"ih\",\"offsetgroup\":\"ih\",\"orientation\":\"v\",\"showlegend\":false,\"textposition\":\"auto\",\"x\":[\"NYC\",\"Man\",\"Chic\",\"DC\"],\"xaxis\":\"x12\",\"y\":[522.8841743119266,348.34740651387216,791.2087912087912,1165.5555555555557],\"yaxis\":\"y12\",\"type\":\"bar\"},{\"alignmentgroup\":\"True\",\"hovertemplate\":\"method=ih<br>max_delay=300<br>duration_minutes=15.0<br>area_short=%{x}<br>cost_per_request=%{y}<extra></extra>\",\"legendgroup\":\"ih\",\"marker\":{\"color\":\"#636efa\",\"pattern\":{\"shape\":\"\"}},\"name\":\"ih\",\"offsetgroup\":\"ih\",\"orientation\":\"v\",\"showlegend\":false,\"textposition\":\"auto\",\"x\":[\"NYC\",\"Man\",\"Chic\",\"DC\"],\"xaxis\":\"x13\",\"y\":[462.6819343238384,297.89947193428515,682.5547445255474,1080.0],\"yaxis\":\"y13\",\"type\":\"bar\"},{\"alignmentgroup\":\"True\",\"hovertemplate\":\"method=ih<br>max_delay=300<br>duration_minutes=30.0<br>area_short=%{x}<br>cost_per_request=%{y}<extra></extra>\",\"legendgroup\":\"ih\",\"marker\":{\"color\":\"#636efa\",\"pattern\":{\"shape\":\"\"}},\"name\":\"ih\",\"offsetgroup\":\"ih\",\"orientation\":\"v\",\"showlegend\":false,\"textposition\":\"auto\",\"x\":[\"NYC\",\"Man\",\"Chic\",\"DC\"],\"xaxis\":\"x14\",\"y\":[452.0598819634375,280.37058482918354,713.7583892617449,1023.109756097561],\"yaxis\":\"y14\",\"type\":\"bar\"},{\"alignmentgroup\":\"True\",\"hovertemplate\":\"method=ih<br>max_delay=300<br>duration_minutes=120.0<br>area_short=%{x}<br>cost_per_request=%{y}<extra></extra>\",\"legendgroup\":\"ih\",\"marker\":{\"color\":\"#636efa\",\"pattern\":{\"shape\":\"\"}},\"name\":\"ih\",\"offsetgroup\":\"ih\",\"orientation\":\"v\",\"showlegend\":false,\"textposition\":\"auto\",\"x\":[\"NYC\",\"Man\",\"Chic\",\"DC\"],\"xaxis\":\"x15\",\"y\":[453.104649321864,280.7428725121033,849.6941896024465,902.8850855745721],\"yaxis\":\"y15\",\"type\":\"bar\"},{\"alignmentgroup\":\"True\",\"hovertemplate\":\"method=ih<br>max_delay=300<br>duration_minutes=960.0<br>area_short=%{x}<br>cost_per_request=%{y}<extra></extra>\",\"legendgroup\":\"ih\",\"marker\":{\"color\":\"#636efa\",\"pattern\":{\"shape\":\"\"}},\"name\":\"ih\",\"offsetgroup\":\"ih\",\"orientation\":\"v\",\"showlegend\":false,\"textposition\":\"auto\",\"x\":[\"NYC\",\"Man\",\"Chic\",\"DC\"],\"xaxis\":\"x16\",\"y\":[510.1269580882316,311.2208807838026,1113.6215076436479,853.3212010919017],\"yaxis\":\"y16\",\"type\":\"bar\"},{\"alignmentgroup\":\"True\",\"hovertemplate\":\"method=ih<br>max_delay=600<br>duration_minutes=0.5<br>area_short=%{x}<br>cost_per_request=%{y}<extra></extra>\",\"legendgroup\":\"ih\",\"marker\":{\"color\":\"#636efa\",\"pattern\":{\"shape\":\"\"}},\"name\":\"ih\",\"offsetgroup\":\"ih\",\"orientation\":\"v\",\"showlegend\":false,\"textposition\":\"auto\",\"x\":[\"NYC\",\"Man\",\"Chic\",\"DC\"],\"xaxis\":\"x\",\"y\":[632.644376899696,415.7142857142857,600.0,2115.0],\"yaxis\":\"y\",\"type\":\"bar\"},{\"alignmentgroup\":\"True\",\"hovertemplate\":\"method=ih<br>max_delay=600<br>duration_minutes=1.0<br>area_short=%{x}<br>cost_per_request=%{y}<extra></extra>\",\"legendgroup\":\"ih\",\"marker\":{\"color\":\"#636efa\",\"pattern\":{\"shape\":\"\"}},\"name\":\"ih\",\"offsetgroup\":\"ih\",\"orientation\":\"v\",\"showlegend\":false,\"textposition\":\"auto\",\"x\":[\"NYC\",\"Man\",\"Chic\",\"DC\"],\"xaxis\":\"x2\",\"y\":[566.465256797583,392.72727272727275,1001.5384615384615,1525.7142857142858],\"yaxis\":\"y2\",\"type\":\"bar\"},{\"alignmentgroup\":\"True\",\"hovertemplate\":\"method=ih<br>max_delay=600<br>duration_minutes=2.0<br>area_short=%{x}<br>cost_per_request=%{y}<extra></extra>\",\"legendgroup\":\"ih\",\"marker\":{\"color\":\"#636efa\",\"pattern\":{\"shape\":\"\"}},\"name\":\"ih\",\"offsetgroup\":\"ih\",\"orientation\":\"v\",\"showlegend\":false,\"textposition\":\"auto\",\"x\":[\"NYC\",\"Man\",\"Chic\",\"DC\"],\"xaxis\":\"x3\",\"y\":[518.3820224719101,357.42148760330576,857.1428571428571,1216.6666666666667],\"yaxis\":\"y3\",\"type\":\"bar\"},{\"alignmentgroup\":\"True\",\"hovertemplate\":\"method=ih<br>max_delay=600<br>duration_minutes=5.0<br>area_short=%{x}<br>cost_per_request=%{y}<extra></extra>\",\"legendgroup\":\"ih\",\"marker\":{\"color\":\"#636efa\",\"pattern\":{\"shape\":\"\"}},\"name\":\"ih\",\"offsetgroup\":\"ih\",\"orientation\":\"v\",\"showlegend\":false,\"textposition\":\"auto\",\"x\":[\"NYC\",\"Man\",\"Chic\",\"DC\"],\"xaxis\":\"x4\",\"y\":[484.283256880734,329.81905910735827,662.6373626373627,1022.2222222222222],\"yaxis\":\"y4\",\"type\":\"bar\"},{\"alignmentgroup\":\"True\",\"hovertemplate\":\"method=ih<br>max_delay=600<br>duration_minutes=15.0<br>area_short=%{x}<br>cost_per_request=%{y}<extra></extra>\",\"legendgroup\":\"ih\",\"marker\":{\"color\":\"#636efa\",\"pattern\":{\"shape\":\"\"}},\"name\":\"ih\",\"offsetgroup\":\"ih\",\"orientation\":\"v\",\"showlegend\":false,\"textposition\":\"auto\",\"x\":[\"NYC\",\"Man\",\"Chic\",\"DC\"],\"xaxis\":\"x5\",\"y\":[431.7422163338696,285.9065128104831,598.6861313868613,899.6319018404907],\"yaxis\":\"y5\",\"type\":\"bar\"},{\"alignmentgroup\":\"True\",\"hovertemplate\":\"method=ih<br>max_delay=600<br>duration_minutes=30.0<br>area_short=%{x}<br>cost_per_request=%{y}<extra></extra>\",\"legendgroup\":\"ih\",\"marker\":{\"color\":\"#636efa\",\"pattern\":{\"shape\":\"\"}},\"name\":\"ih\",\"offsetgroup\":\"ih\",\"orientation\":\"v\",\"showlegend\":false,\"textposition\":\"auto\",\"x\":[\"NYC\",\"Man\",\"Chic\",\"DC\"],\"xaxis\":\"x6\",\"y\":[406.6330790269181,261.0885929357267,577.6510067114094,868.5365853658536],\"yaxis\":\"y6\",\"type\":\"bar\"},{\"alignmentgroup\":\"True\",\"hovertemplate\":\"method=ih<br>max_delay=600<br>duration_minutes=120.0<br>area_short=%{x}<br>cost_per_request=%{y}<extra></extra>\",\"legendgroup\":\"ih\",\"marker\":{\"color\":\"#636efa\",\"pattern\":{\"shape\":\"\"}},\"name\":\"ih\",\"offsetgroup\":\"ih\",\"orientation\":\"v\",\"showlegend\":false,\"textposition\":\"auto\",\"x\":[\"NYC\",\"Man\",\"Chic\",\"DC\"],\"xaxis\":\"x7\",\"y\":[392.26713810755183,243.25497579343732,683.0886850152905,769.8777506112469],\"yaxis\":\"y7\",\"type\":\"bar\"},{\"alignmentgroup\":\"True\",\"hovertemplate\":\"method=ih<br>max_delay=600<br>duration_minutes=960.0<br>area_short=%{x}<br>cost_per_request=%{y}<extra></extra>\",\"legendgroup\":\"ih\",\"marker\":{\"color\":\"#636efa\",\"pattern\":{\"shape\":\"\"}},\"name\":\"ih\",\"offsetgroup\":\"ih\",\"orientation\":\"v\",\"showlegend\":false,\"textposition\":\"auto\",\"x\":[\"NYC\",\"Man\",\"Chic\",\"DC\"],\"xaxis\":\"x8\",\"y\":[433.48593799534035,262.2508919399556,893.1049024775962,726.4604185623294],\"yaxis\":\"y8\",\"type\":\"bar\"},{\"alignmentgroup\":\"True\",\"hovertemplate\":\"method=vga<br>max_delay=180<br>duration_minutes=0.5<br>area_short=%{x}<br>cost_per_request=%{y}<extra></extra>\",\"legendgroup\":\"vga\",\"marker\":{\"color\":\"#EF553B\",\"pattern\":{\"shape\":\"\"}},\"name\":\"vga\",\"offsetgroup\":\"vga\",\"orientation\":\"v\",\"showlegend\":true,\"textposition\":\"auto\",\"x\":[\"NYC\",\"Man\",\"Chic\",\"DC\"],\"xaxis\":\"x17\",\"y\":[756.2917933130699,465.85714285714283,720.0,2115.0],\"yaxis\":\"y17\",\"type\":\"bar\"},{\"alignmentgroup\":\"True\",\"hovertemplate\":\"method=vga<br>max_delay=180<br>duration_minutes=1.0<br>area_short=%{x}<br>cost_per_request=%{y}<extra></extra>\",\"legendgroup\":\"vga\",\"marker\":{\"color\":\"#EF553B\",\"pattern\":{\"shape\":\"\"}},\"name\":\"vga\",\"offsetgroup\":\"vga\",\"orientation\":\"v\",\"showlegend\":false,\"textposition\":\"auto\",\"x\":[\"NYC\",\"Man\",\"Chic\",\"DC\"],\"xaxis\":\"x18\",\"y\":[658.4592145015106,419.5804195804196,1144.6153846153845,1705.7142857142858],\"yaxis\":\"y18\",\"type\":\"bar\"},{\"alignmentgroup\":\"True\",\"hovertemplate\":\"method=vga<br>max_delay=180<br>duration_minutes=2.0<br>area_short=%{x}<br>cost_per_request=%{y}<extra></extra>\",\"legendgroup\":\"vga\",\"marker\":{\"color\":\"#EF553B\",\"pattern\":{\"shape\":\"\"}},\"name\":\"vga\",\"offsetgroup\":\"vga\",\"orientation\":\"v\",\"showlegend\":false,\"textposition\":\"auto\",\"x\":[\"NYC\",\"Man\",\"Chic\",\"DC\"],\"xaxis\":\"x19\",\"y\":[602.0674157303371,355.73553719008265,906.4285714285714,1290.0],\"yaxis\":\"y19\",\"type\":\"bar\"},{\"alignmentgroup\":\"True\",\"hovertemplate\":\"method=vga<br>max_delay=180<br>duration_minutes=5.0<br>area_short=%{x}<br>cost_per_request=%{y}<extra></extra>\",\"legendgroup\":\"vga\",\"marker\":{\"color\":\"#EF553B\",\"pattern\":{\"shape\":\"\"}},\"name\":\"vga\",\"offsetgroup\":\"vga\",\"orientation\":\"v\",\"showlegend\":false,\"textposition\":\"auto\",\"x\":[\"Chic\",\"DC\"],\"xaxis\":\"x20\",\"y\":[843.9560439560439,1292.2222222222222],\"yaxis\":\"y20\",\"type\":\"bar\"},{\"alignmentgroup\":\"True\",\"hovertemplate\":\"method=vga<br>max_delay=180<br>duration_minutes=15.0<br>area_short=%{x}<br>cost_per_request=%{y}<extra></extra>\",\"legendgroup\":\"vga\",\"marker\":{\"color\":\"#EF553B\",\"pattern\":{\"shape\":\"\"}},\"name\":\"vga\",\"offsetgroup\":\"vga\",\"orientation\":\"v\",\"showlegend\":false,\"textposition\":\"auto\",\"x\":[\"DC\"],\"xaxis\":\"x21\",\"y\":[1193.006134969325],\"yaxis\":\"y21\",\"type\":\"bar\"},{\"alignmentgroup\":\"True\",\"hovertemplate\":\"method=vga<br>max_delay=180<br>duration_minutes=30.0<br>area_short=%{x}<br>cost_per_request=%{y}<extra></extra>\",\"legendgroup\":\"vga\",\"marker\":{\"color\":\"#EF553B\",\"pattern\":{\"shape\":\"\"}},\"name\":\"vga\",\"offsetgroup\":\"vga\",\"orientation\":\"v\",\"showlegend\":false,\"textposition\":\"auto\",\"x\":[\"DC\"],\"xaxis\":\"x22\",\"y\":[1086.5853658536585],\"yaxis\":\"y22\",\"type\":\"bar\"},{\"alignmentgroup\":\"True\",\"hovertemplate\":\"method=vga<br>max_delay=300<br>duration_minutes=0.5<br>area_short=%{x}<br>cost_per_request=%{y}<extra></extra>\",\"legendgroup\":\"vga\",\"marker\":{\"color\":\"#EF553B\",\"pattern\":{\"shape\":\"\"}},\"name\":\"vga\",\"offsetgroup\":\"vga\",\"orientation\":\"v\",\"showlegend\":false,\"textposition\":\"auto\",\"x\":[\"NYC\",\"Man\",\"Chic\",\"DC\"],\"xaxis\":\"x9\",\"y\":[661.6413373860182,397.2857142857143,624.0,2115.0],\"yaxis\":\"y9\",\"type\":\"bar\"},{\"alignmentgroup\":\"True\",\"hovertemplate\":\"method=vga<br>max_delay=300<br>duration_minutes=1.0<br>area_short=%{x}<br>cost_per_request=%{y}<extra></extra>\",\"legendgroup\":\"vga\",\"marker\":{\"color\":\"#EF553B\",\"pattern\":{\"shape\":\"\"}},\"name\":\"vga\",\"offsetgroup\":\"vga\",\"orientation\":\"v\",\"showlegend\":false,\"textposition\":\"auto\",\"x\":[\"NYC\",\"Man\",\"Chic\",\"DC\"],\"xaxis\":\"x10\",\"y\":[574.0785498489425,349.9300699300699,1107.6923076923076,1705.7142857142858],\"yaxis\":\"y10\",\"type\":\"bar\"},{\"alignmentgroup\":\"True\",\"hovertemplate\":\"method=vga<br>max_delay=300<br>duration_minutes=2.0<br>area_short=%{x}<br>cost_per_request=%{y}<extra></extra>\",\"legendgroup\":\"vga\",\"marker\":{\"color\":\"#EF553B\",\"pattern\":{\"shape\":\"\"}},\"name\":\"vga\",\"offsetgroup\":\"vga\",\"orientation\":\"v\",\"showlegend\":false,\"textposition\":\"auto\",\"x\":[\"NYC\",\"Man\",\"Chic\",\"DC\"],\"xaxis\":\"x11\",\"y\":[500.80898876404495,295.53719008264466,887.1428571428571,1270.0],\"yaxis\":\"y11\",\"type\":\"bar\"},{\"alignmentgroup\":\"True\",\"hovertemplate\":\"method=vga<br>max_delay=300<br>duration_minutes=5.0<br>area_short=%{x}<br>cost_per_request=%{y}<extra></extra>\",\"legendgroup\":\"vga\",\"marker\":{\"color\":\"#EF553B\",\"pattern\":{\"shape\":\"\"}},\"name\":\"vga\",\"offsetgroup\":\"vga\",\"orientation\":\"v\",\"showlegend\":false,\"textposition\":\"auto\",\"x\":[\"Chic\",\"DC\"],\"xaxis\":\"x12\",\"y\":[744.3956043956044,1120.0],\"yaxis\":\"y12\",\"type\":\"bar\"},{\"alignmentgroup\":\"True\",\"hovertemplate\":\"method=vga<br>max_delay=300<br>duration_minutes=15.0<br>area_short=%{x}<br>cost_per_request=%{y}<extra></extra>\",\"legendgroup\":\"vga\",\"marker\":{\"color\":\"#EF553B\",\"pattern\":{\"shape\":\"\"}},\"name\":\"vga\",\"offsetgroup\":\"vga\",\"orientation\":\"v\",\"showlegend\":false,\"textposition\":\"auto\",\"x\":[\"DC\"],\"xaxis\":\"x13\",\"y\":[984.6625766871166],\"yaxis\":\"y13\",\"type\":\"bar\"},{\"alignmentgroup\":\"True\",\"hovertemplate\":\"method=vga<br>max_delay=300<br>duration_minutes=30.0<br>area_short=%{x}<br>cost_per_request=%{y}<extra></extra>\",\"legendgroup\":\"vga\",\"marker\":{\"color\":\"#EF553B\",\"pattern\":{\"shape\":\"\"}},\"name\":\"vga\",\"offsetgroup\":\"vga\",\"orientation\":\"v\",\"showlegend\":false,\"textposition\":\"auto\",\"x\":[\"DC\"],\"xaxis\":\"x14\",\"y\":[881.7073170731708],\"yaxis\":\"y14\",\"type\":\"bar\"},{\"alignmentgroup\":\"True\",\"hovertemplate\":\"method=vga<br>max_delay=600<br>duration_minutes=0.5<br>area_short=%{x}<br>cost_per_request=%{y}<extra></extra>\",\"legendgroup\":\"vga\",\"marker\":{\"color\":\"#EF553B\",\"pattern\":{\"shape\":\"\"}},\"name\":\"vga\",\"offsetgroup\":\"vga\",\"orientation\":\"v\",\"showlegend\":false,\"textposition\":\"auto\",\"x\":[\"NYC\",\"Man\",\"Chic\",\"DC\"],\"xaxis\":\"x\",\"y\":[557.3252279635259,330.0,588.0,2115.0],\"yaxis\":\"y\",\"type\":\"bar\"},{\"alignmentgroup\":\"True\",\"hovertemplate\":\"method=vga<br>max_delay=600<br>duration_minutes=1.0<br>area_short=%{x}<br>cost_per_request=%{y}<extra></extra>\",\"legendgroup\":\"vga\",\"marker\":{\"color\":\"#EF553B\",\"pattern\":{\"shape\":\"\"}},\"name\":\"vga\",\"offsetgroup\":\"vga\",\"orientation\":\"v\",\"showlegend\":false,\"textposition\":\"auto\",\"x\":[\"Man\",\"Chic\",\"DC\"],\"xaxis\":\"x2\",\"y\":[286.57342657342656,983.0769230769231,1525.7142857142858],\"yaxis\":\"y2\",\"type\":\"bar\"},{\"alignmentgroup\":\"True\",\"hovertemplate\":\"method=vga<br>max_delay=600<br>duration_minutes=2.0<br>area_short=%{x}<br>cost_per_request=%{y}<extra></extra>\",\"legendgroup\":\"vga\",\"marker\":{\"color\":\"#EF553B\",\"pattern\":{\"shape\":\"\"}},\"name\":\"vga\",\"offsetgroup\":\"vga\",\"orientation\":\"v\",\"showlegend\":false,\"textposition\":\"auto\",\"x\":[\"Chic\",\"DC\"],\"xaxis\":\"x3\",\"y\":[842.1428571428571,1053.3333333333333],\"yaxis\":\"y3\",\"type\":\"bar\"},{\"alignmentgroup\":\"True\",\"hovertemplate\":\"method=vga<br>max_delay=600<br>duration_minutes=5.0<br>area_short=%{x}<br>cost_per_request=%{y}<extra></extra>\",\"legendgroup\":\"vga\",\"marker\":{\"color\":\"#EF553B\",\"pattern\":{\"shape\":\"\"}},\"name\":\"vga\",\"offsetgroup\":\"vga\",\"orientation\":\"v\",\"showlegend\":false,\"textposition\":\"auto\",\"x\":[\"Chic\",\"DC\"],\"xaxis\":\"x4\",\"y\":[581.5384615384615,860.0],\"yaxis\":\"y4\",\"type\":\"bar\"},{\"alignmentgroup\":\"True\",\"hovertemplate\":\"method=vga<br>max_delay=600<br>duration_minutes=15.0<br>area_short=%{x}<br>cost_per_request=%{y}<extra></extra>\",\"legendgroup\":\"vga\",\"marker\":{\"color\":\"#EF553B\",\"pattern\":{\"shape\":\"\"}},\"name\":\"vga\",\"offsetgroup\":\"vga\",\"orientation\":\"v\",\"showlegend\":false,\"textposition\":\"auto\",\"x\":[\"DC\"],\"xaxis\":\"x5\",\"y\":[703.4355828220858],\"yaxis\":\"y5\",\"type\":\"bar\"}],                        {\"template\":{\"data\":{\"histogram2dcontour\":[{\"type\":\"histogram2dcontour\",\"colorbar\":{\"outlinewidth\":0,\"ticks\":\"\"},\"colorscale\":[[0.0,\"#0d0887\"],[0.1111111111111111,\"#46039f\"],[0.2222222222222222,\"#7201a8\"],[0.3333333333333333,\"#9c179e\"],[0.4444444444444444,\"#bd3786\"],[0.5555555555555556,\"#d8576b\"],[0.6666666666666666,\"#ed7953\"],[0.7777777777777778,\"#fb9f3a\"],[0.8888888888888888,\"#fdca26\"],[1.0,\"#f0f921\"]]}],\"choropleth\":[{\"type\":\"choropleth\",\"colorbar\":{\"outlinewidth\":0,\"ticks\":\"\"}}],\"histogram2d\":[{\"type\":\"histogram2d\",\"colorbar\":{\"outlinewidth\":0,\"ticks\":\"\"},\"colorscale\":[[0.0,\"#0d0887\"],[0.1111111111111111,\"#46039f\"],[0.2222222222222222,\"#7201a8\"],[0.3333333333333333,\"#9c179e\"],[0.4444444444444444,\"#bd3786\"],[0.5555555555555556,\"#d8576b\"],[0.6666666666666666,\"#ed7953\"],[0.7777777777777778,\"#fb9f3a\"],[0.8888888888888888,\"#fdca26\"],[1.0,\"#f0f921\"]]}],\"heatmap\":[{\"type\":\"heatmap\",\"colorbar\":{\"outlinewidth\":0,\"ticks\":\"\"},\"colorscale\":[[0.0,\"#0d0887\"],[0.1111111111111111,\"#46039f\"],[0.2222222222222222,\"#7201a8\"],[0.3333333333333333,\"#9c179e\"],[0.4444444444444444,\"#bd3786\"],[0.5555555555555556,\"#d8576b\"],[0.6666666666666666,\"#ed7953\"],[0.7777777777777778,\"#fb9f3a\"],[0.8888888888888888,\"#fdca26\"],[1.0,\"#f0f921\"]]}],\"heatmapgl\":[{\"type\":\"heatmapgl\",\"colorbar\":{\"outlinewidth\":0,\"ticks\":\"\"},\"colorscale\":[[0.0,\"#0d0887\"],[0.1111111111111111,\"#46039f\"],[0.2222222222222222,\"#7201a8\"],[0.3333333333333333,\"#9c179e\"],[0.4444444444444444,\"#bd3786\"],[0.5555555555555556,\"#d8576b\"],[0.6666666666666666,\"#ed7953\"],[0.7777777777777778,\"#fb9f3a\"],[0.8888888888888888,\"#fdca26\"],[1.0,\"#f0f921\"]]}],\"contourcarpet\":[{\"type\":\"contourcarpet\",\"colorbar\":{\"outlinewidth\":0,\"ticks\":\"\"}}],\"contour\":[{\"type\":\"contour\",\"colorbar\":{\"outlinewidth\":0,\"ticks\":\"\"},\"colorscale\":[[0.0,\"#0d0887\"],[0.1111111111111111,\"#46039f\"],[0.2222222222222222,\"#7201a8\"],[0.3333333333333333,\"#9c179e\"],[0.4444444444444444,\"#bd3786\"],[0.5555555555555556,\"#d8576b\"],[0.6666666666666666,\"#ed7953\"],[0.7777777777777778,\"#fb9f3a\"],[0.8888888888888888,\"#fdca26\"],[1.0,\"#f0f921\"]]}],\"surface\":[{\"type\":\"surface\",\"colorbar\":{\"outlinewidth\":0,\"ticks\":\"\"},\"colorscale\":[[0.0,\"#0d0887\"],[0.1111111111111111,\"#46039f\"],[0.2222222222222222,\"#7201a8\"],[0.3333333333333333,\"#9c179e\"],[0.4444444444444444,\"#bd3786\"],[0.5555555555555556,\"#d8576b\"],[0.6666666666666666,\"#ed7953\"],[0.7777777777777778,\"#fb9f3a\"],[0.8888888888888888,\"#fdca26\"],[1.0,\"#f0f921\"]]}],\"mesh3d\":[{\"type\":\"mesh3d\",\"colorbar\":{\"outlinewidth\":0,\"ticks\":\"\"}}],\"scatter\":[{\"fillpattern\":{\"fillmode\":\"overlay\",\"size\":10,\"solidity\":0.2},\"type\":\"scatter\"}],\"parcoords\":[{\"type\":\"parcoords\",\"line\":{\"colorbar\":{\"outlinewidth\":0,\"ticks\":\"\"}}}],\"scatterpolargl\":[{\"type\":\"scatterpolargl\",\"marker\":{\"colorbar\":{\"outlinewidth\":0,\"ticks\":\"\"}}}],\"bar\":[{\"error_x\":{\"color\":\"#2a3f5f\"},\"error_y\":{\"color\":\"#2a3f5f\"},\"marker\":{\"line\":{\"color\":\"#E5ECF6\",\"width\":0.5},\"pattern\":{\"fillmode\":\"overlay\",\"size\":10,\"solidity\":0.2}},\"type\":\"bar\"}],\"scattergeo\":[{\"type\":\"scattergeo\",\"marker\":{\"colorbar\":{\"outlinewidth\":0,\"ticks\":\"\"}}}],\"scatterpolar\":[{\"type\":\"scatterpolar\",\"marker\":{\"colorbar\":{\"outlinewidth\":0,\"ticks\":\"\"}}}],\"histogram\":[{\"marker\":{\"pattern\":{\"fillmode\":\"overlay\",\"size\":10,\"solidity\":0.2}},\"type\":\"histogram\"}],\"scattergl\":[{\"type\":\"scattergl\",\"marker\":{\"colorbar\":{\"outlinewidth\":0,\"ticks\":\"\"}}}],\"scatter3d\":[{\"type\":\"scatter3d\",\"line\":{\"colorbar\":{\"outlinewidth\":0,\"ticks\":\"\"}},\"marker\":{\"colorbar\":{\"outlinewidth\":0,\"ticks\":\"\"}}}],\"scattermapbox\":[{\"type\":\"scattermapbox\",\"marker\":{\"colorbar\":{\"outlinewidth\":0,\"ticks\":\"\"}}}],\"scatterternary\":[{\"type\":\"scatterternary\",\"marker\":{\"colorbar\":{\"outlinewidth\":0,\"ticks\":\"\"}}}],\"scattercarpet\":[{\"type\":\"scattercarpet\",\"marker\":{\"colorbar\":{\"outlinewidth\":0,\"ticks\":\"\"}}}],\"carpet\":[{\"aaxis\":{\"endlinecolor\":\"#2a3f5f\",\"gridcolor\":\"white\",\"linecolor\":\"white\",\"minorgridcolor\":\"white\",\"startlinecolor\":\"#2a3f5f\"},\"baxis\":{\"endlinecolor\":\"#2a3f5f\",\"gridcolor\":\"white\",\"linecolor\":\"white\",\"minorgridcolor\":\"white\",\"startlinecolor\":\"#2a3f5f\"},\"type\":\"carpet\"}],\"table\":[{\"cells\":{\"fill\":{\"color\":\"#EBF0F8\"},\"line\":{\"color\":\"white\"}},\"header\":{\"fill\":{\"color\":\"#C8D4E3\"},\"line\":{\"color\":\"white\"}},\"type\":\"table\"}],\"barpolar\":[{\"marker\":{\"line\":{\"color\":\"#E5ECF6\",\"width\":0.5},\"pattern\":{\"fillmode\":\"overlay\",\"size\":10,\"solidity\":0.2}},\"type\":\"barpolar\"}],\"pie\":[{\"automargin\":true,\"type\":\"pie\"}]},\"layout\":{\"autotypenumbers\":\"strict\",\"colorway\":[\"#636efa\",\"#EF553B\",\"#00cc96\",\"#ab63fa\",\"#FFA15A\",\"#19d3f3\",\"#FF6692\",\"#B6E880\",\"#FF97FF\",\"#FECB52\"],\"font\":{\"color\":\"#2a3f5f\"},\"hovermode\":\"closest\",\"hoverlabel\":{\"align\":\"left\"},\"paper_bgcolor\":\"white\",\"plot_bgcolor\":\"#E5ECF6\",\"polar\":{\"bgcolor\":\"#E5ECF6\",\"angularaxis\":{\"gridcolor\":\"white\",\"linecolor\":\"white\",\"ticks\":\"\"},\"radialaxis\":{\"gridcolor\":\"white\",\"linecolor\":\"white\",\"ticks\":\"\"}},\"ternary\":{\"bgcolor\":\"#E5ECF6\",\"aaxis\":{\"gridcolor\":\"white\",\"linecolor\":\"white\",\"ticks\":\"\"},\"baxis\":{\"gridcolor\":\"white\",\"linecolor\":\"white\",\"ticks\":\"\"},\"caxis\":{\"gridcolor\":\"white\",\"linecolor\":\"white\",\"ticks\":\"\"}},\"coloraxis\":{\"colorbar\":{\"outlinewidth\":0,\"ticks\":\"\"}},\"colorscale\":{\"sequential\":[[0.0,\"#0d0887\"],[0.1111111111111111,\"#46039f\"],[0.2222222222222222,\"#7201a8\"],[0.3333333333333333,\"#9c179e\"],[0.4444444444444444,\"#bd3786\"],[0.5555555555555556,\"#d8576b\"],[0.6666666666666666,\"#ed7953\"],[0.7777777777777778,\"#fb9f3a\"],[0.8888888888888888,\"#fdca26\"],[1.0,\"#f0f921\"]],\"sequentialminus\":[[0.0,\"#0d0887\"],[0.1111111111111111,\"#46039f\"],[0.2222222222222222,\"#7201a8\"],[0.3333333333333333,\"#9c179e\"],[0.4444444444444444,\"#bd3786\"],[0.5555555555555556,\"#d8576b\"],[0.6666666666666666,\"#ed7953\"],[0.7777777777777778,\"#fb9f3a\"],[0.8888888888888888,\"#fdca26\"],[1.0,\"#f0f921\"]],\"diverging\":[[0,\"#8e0152\"],[0.1,\"#c51b7d\"],[0.2,\"#de77ae\"],[0.3,\"#f1b6da\"],[0.4,\"#fde0ef\"],[0.5,\"#f7f7f7\"],[0.6,\"#e6f5d0\"],[0.7,\"#b8e186\"],[0.8,\"#7fbc41\"],[0.9,\"#4d9221\"],[1,\"#276419\"]]},\"xaxis\":{\"gridcolor\":\"white\",\"linecolor\":\"white\",\"ticks\":\"\",\"title\":{\"standoff\":15},\"zerolinecolor\":\"white\",\"automargin\":true,\"zerolinewidth\":2},\"yaxis\":{\"gridcolor\":\"white\",\"linecolor\":\"white\",\"ticks\":\"\",\"title\":{\"standoff\":15},\"zerolinecolor\":\"white\",\"automargin\":true,\"zerolinewidth\":2},\"scene\":{\"xaxis\":{\"backgroundcolor\":\"#E5ECF6\",\"gridcolor\":\"white\",\"linecolor\":\"white\",\"showbackground\":true,\"ticks\":\"\",\"zerolinecolor\":\"white\",\"gridwidth\":2},\"yaxis\":{\"backgroundcolor\":\"#E5ECF6\",\"gridcolor\":\"white\",\"linecolor\":\"white\",\"showbackground\":true,\"ticks\":\"\",\"zerolinecolor\":\"white\",\"gridwidth\":2},\"zaxis\":{\"backgroundcolor\":\"#E5ECF6\",\"gridcolor\":\"white\",\"linecolor\":\"white\",\"showbackground\":true,\"ticks\":\"\",\"zerolinecolor\":\"white\",\"gridwidth\":2}},\"shapedefaults\":{\"line\":{\"color\":\"#2a3f5f\"}},\"annotationdefaults\":{\"arrowcolor\":\"#2a3f5f\",\"arrowhead\":0,\"arrowwidth\":1},\"geo\":{\"bgcolor\":\"white\",\"landcolor\":\"#E5ECF6\",\"subunitcolor\":\"white\",\"showland\":true,\"showlakes\":true,\"lakecolor\":\"white\"},\"title\":{\"x\":0.05},\"mapbox\":{\"style\":\"light\"}}},\"xaxis\":{\"anchor\":\"y\",\"domain\":[0.0,0.105],\"title\":{\"text\":\"\"}},\"yaxis\":{\"anchor\":\"x\",\"domain\":[0.0,0.3133333333333333],\"title\":{\"text\":\"\"}},\"xaxis2\":{\"anchor\":\"y2\",\"domain\":[0.125,0.22999999999999998],\"matches\":\"x\",\"title\":{\"text\":\"\"}},\"yaxis2\":{\"anchor\":\"x2\",\"domain\":[0.0,0.3133333333333333],\"matches\":\"y\",\"showticklabels\":false,\"title\":{\"text\":\"\"}},\"xaxis3\":{\"anchor\":\"y3\",\"domain\":[0.25,0.355],\"matches\":\"x\",\"title\":{\"text\":\"\"}},\"yaxis3\":{\"anchor\":\"x3\",\"domain\":[0.0,0.3133333333333333],\"matches\":\"y\",\"showticklabels\":false,\"title\":{\"text\":\"\"}},\"xaxis4\":{\"anchor\":\"y4\",\"domain\":[0.375,0.48],\"matches\":\"x\",\"title\":{\"text\":\"\"}},\"yaxis4\":{\"anchor\":\"x4\",\"domain\":[0.0,0.3133333333333333],\"matches\":\"y\",\"showticklabels\":false,\"title\":{\"text\":\"\"}},\"xaxis5\":{\"anchor\":\"y5\",\"domain\":[0.5,0.605],\"matches\":\"x\",\"title\":{\"text\":\"\"}},\"yaxis5\":{\"anchor\":\"x5\",\"domain\":[0.0,0.3133333333333333],\"matches\":\"y\",\"showticklabels\":false,\"title\":{\"text\":\"\"}},\"xaxis6\":{\"anchor\":\"y6\",\"domain\":[0.625,0.73],\"matches\":\"x\",\"title\":{\"text\":\"\"}},\"yaxis6\":{\"anchor\":\"x6\",\"domain\":[0.0,0.3133333333333333],\"matches\":\"y\",\"showticklabels\":false,\"title\":{\"text\":\"\"}},\"xaxis7\":{\"anchor\":\"y7\",\"domain\":[0.75,0.855],\"matches\":\"x\",\"title\":{\"text\":\"\"}},\"yaxis7\":{\"anchor\":\"x7\",\"domain\":[0.0,0.3133333333333333],\"matches\":\"y\",\"showticklabels\":false,\"title\":{\"text\":\"\"}},\"xaxis8\":{\"anchor\":\"y8\",\"domain\":[0.875,0.98],\"matches\":\"x\",\"title\":{\"text\":\"\"}},\"yaxis8\":{\"anchor\":\"x8\",\"domain\":[0.0,0.3133333333333333],\"matches\":\"y\",\"showticklabels\":false,\"title\":{\"text\":\"\"}},\"xaxis9\":{\"anchor\":\"y9\",\"domain\":[0.0,0.105],\"matches\":\"x\",\"showticklabels\":false,\"title\":{\"text\":\"\"}},\"yaxis9\":{\"anchor\":\"x9\",\"domain\":[0.34333333333333327,0.6566666666666665],\"matches\":\"y\",\"title\":{\"text\":\"\"}},\"xaxis10\":{\"anchor\":\"y10\",\"domain\":[0.125,0.22999999999999998],\"matches\":\"x\",\"showticklabels\":false,\"title\":{\"text\":\"\"}},\"yaxis10\":{\"anchor\":\"x10\",\"domain\":[0.34333333333333327,0.6566666666666665],\"matches\":\"y\",\"showticklabels\":false,\"title\":{\"text\":\"\"}},\"xaxis11\":{\"anchor\":\"y11\",\"domain\":[0.25,0.355],\"matches\":\"x\",\"showticklabels\":false,\"title\":{\"text\":\"\"}},\"yaxis11\":{\"anchor\":\"x11\",\"domain\":[0.34333333333333327,0.6566666666666665],\"matches\":\"y\",\"showticklabels\":false,\"title\":{\"text\":\"\"}},\"xaxis12\":{\"anchor\":\"y12\",\"domain\":[0.375,0.48],\"matches\":\"x\",\"showticklabels\":false,\"title\":{\"text\":\"\"}},\"yaxis12\":{\"anchor\":\"x12\",\"domain\":[0.34333333333333327,0.6566666666666665],\"matches\":\"y\",\"showticklabels\":false,\"title\":{\"text\":\"\"}},\"xaxis13\":{\"anchor\":\"y13\",\"domain\":[0.5,0.605],\"matches\":\"x\",\"showticklabels\":false,\"title\":{\"text\":\"\"}},\"yaxis13\":{\"anchor\":\"x13\",\"domain\":[0.34333333333333327,0.6566666666666665],\"matches\":\"y\",\"showticklabels\":false,\"title\":{\"text\":\"\"}},\"xaxis14\":{\"anchor\":\"y14\",\"domain\":[0.625,0.73],\"matches\":\"x\",\"showticklabels\":false,\"title\":{\"text\":\"\"}},\"yaxis14\":{\"anchor\":\"x14\",\"domain\":[0.34333333333333327,0.6566666666666665],\"matches\":\"y\",\"showticklabels\":false,\"title\":{\"text\":\"\"}},\"xaxis15\":{\"anchor\":\"y15\",\"domain\":[0.75,0.855],\"matches\":\"x\",\"showticklabels\":false,\"title\":{\"text\":\"\"}},\"yaxis15\":{\"anchor\":\"x15\",\"domain\":[0.34333333333333327,0.6566666666666665],\"matches\":\"y\",\"showticklabels\":false,\"title\":{\"text\":\"\"}},\"xaxis16\":{\"anchor\":\"y16\",\"domain\":[0.875,0.98],\"matches\":\"x\",\"showticklabels\":false,\"title\":{\"text\":\"\"}},\"yaxis16\":{\"anchor\":\"x16\",\"domain\":[0.34333333333333327,0.6566666666666665],\"matches\":\"y\",\"showticklabels\":false,\"title\":{\"text\":\"\"}},\"xaxis17\":{\"anchor\":\"y17\",\"domain\":[0.0,0.105],\"matches\":\"x\",\"showticklabels\":false,\"title\":{\"text\":\"\"}},\"yaxis17\":{\"anchor\":\"x17\",\"domain\":[0.6866666666666665,0.9999999999999998],\"matches\":\"y\",\"title\":{\"text\":\"\"}},\"xaxis18\":{\"anchor\":\"y18\",\"domain\":[0.125,0.22999999999999998],\"matches\":\"x\",\"showticklabels\":false,\"title\":{\"text\":\"\"}},\"yaxis18\":{\"anchor\":\"x18\",\"domain\":[0.6866666666666665,0.9999999999999998],\"matches\":\"y\",\"showticklabels\":false,\"title\":{\"text\":\"\"}},\"xaxis19\":{\"anchor\":\"y19\",\"domain\":[0.25,0.355],\"matches\":\"x\",\"showticklabels\":false,\"title\":{\"text\":\"\"}},\"yaxis19\":{\"anchor\":\"x19\",\"domain\":[0.6866666666666665,0.9999999999999998],\"matches\":\"y\",\"showticklabels\":false,\"title\":{\"text\":\"\"}},\"xaxis20\":{\"anchor\":\"y20\",\"domain\":[0.375,0.48],\"matches\":\"x\",\"showticklabels\":false,\"title\":{\"text\":\"\"}},\"yaxis20\":{\"anchor\":\"x20\",\"domain\":[0.6866666666666665,0.9999999999999998],\"matches\":\"y\",\"showticklabels\":false,\"title\":{\"text\":\"\"}},\"xaxis21\":{\"anchor\":\"y21\",\"domain\":[0.5,0.605],\"matches\":\"x\",\"showticklabels\":false,\"title\":{\"text\":\"\"}},\"yaxis21\":{\"anchor\":\"x21\",\"domain\":[0.6866666666666665,0.9999999999999998],\"matches\":\"y\",\"showticklabels\":false,\"title\":{\"text\":\"\"}},\"xaxis22\":{\"anchor\":\"y22\",\"domain\":[0.625,0.73],\"matches\":\"x\",\"showticklabels\":false,\"title\":{\"text\":\"\"}},\"yaxis22\":{\"anchor\":\"x22\",\"domain\":[0.6866666666666665,0.9999999999999998],\"matches\":\"y\",\"showticklabels\":false,\"title\":{\"text\":\"\"}},\"xaxis23\":{\"anchor\":\"y23\",\"domain\":[0.75,0.855],\"matches\":\"x\",\"showticklabels\":false,\"title\":{\"text\":\"\"}},\"yaxis23\":{\"anchor\":\"x23\",\"domain\":[0.6866666666666665,0.9999999999999998],\"matches\":\"y\",\"showticklabels\":false,\"title\":{\"text\":\"\"}},\"xaxis24\":{\"anchor\":\"y24\",\"domain\":[0.875,0.98],\"matches\":\"x\",\"showticklabels\":false,\"title\":{\"text\":\"\"}},\"yaxis24\":{\"anchor\":\"x24\",\"domain\":[0.6866666666666665,0.9999999999999998],\"matches\":\"y\",\"showticklabels\":false,\"title\":{\"text\":\"\"}},\"annotations\":[{\"showarrow\":false,\"text\":\"0.5\",\"x\":0.0525,\"xanchor\":\"center\",\"xref\":\"paper\",\"y\":0.9999999999999998,\"yanchor\":\"bottom\",\"yref\":\"paper\"},{\"showarrow\":false,\"text\":\"1.0\",\"x\":0.1775,\"xanchor\":\"center\",\"xref\":\"paper\",\"y\":0.9999999999999998,\"yanchor\":\"bottom\",\"yref\":\"paper\"},{\"showarrow\":false,\"text\":\"2.0\",\"x\":0.3025,\"xanchor\":\"center\",\"xref\":\"paper\",\"y\":0.9999999999999998,\"yanchor\":\"bottom\",\"yref\":\"paper\"},{\"showarrow\":false,\"text\":\"5.0\",\"x\":0.4275,\"xanchor\":\"center\",\"xref\":\"paper\",\"y\":0.9999999999999998,\"yanchor\":\"bottom\",\"yref\":\"paper\"},{\"showarrow\":false,\"text\":\"15.0\",\"x\":0.5525,\"xanchor\":\"center\",\"xref\":\"paper\",\"y\":0.9999999999999998,\"yanchor\":\"bottom\",\"yref\":\"paper\"},{\"showarrow\":false,\"text\":\"30.0\",\"x\":0.6775,\"xanchor\":\"center\",\"xref\":\"paper\",\"y\":0.9999999999999998,\"yanchor\":\"bottom\",\"yref\":\"paper\"},{\"showarrow\":false,\"text\":\"120.0\",\"x\":0.8025,\"xanchor\":\"center\",\"xref\":\"paper\",\"y\":0.9999999999999998,\"yanchor\":\"bottom\",\"yref\":\"paper\"},{\"showarrow\":false,\"text\":\"960.0\",\"x\":0.9275,\"xanchor\":\"center\",\"xref\":\"paper\",\"y\":0.9999999999999998,\"yanchor\":\"bottom\",\"yref\":\"paper\"},{\"showarrow\":false,\"text\":\"600\",\"textangle\":90,\"x\":0.98,\"xanchor\":\"left\",\"xref\":\"paper\",\"y\":0.15666666666666665,\"yanchor\":\"middle\",\"yref\":\"paper\"},{\"showarrow\":false,\"text\":\"300\",\"textangle\":90,\"x\":0.98,\"xanchor\":\"left\",\"xref\":\"paper\",\"y\":0.4999999999999999,\"yanchor\":\"middle\",\"yref\":\"paper\"},{\"showarrow\":false,\"text\":\"180\",\"textangle\":90,\"x\":0.98,\"xanchor\":\"left\",\"xref\":\"paper\",\"y\":0.8433333333333332,\"yanchor\":\"middle\",\"yref\":\"paper\"},{\"showarrow\":false,\"text\":\"travel time per request [s]\",\"textangle\":-90,\"x\":-0.06,\"xref\":\"paper\",\"y\":0.5,\"yref\":\"paper\"},{\"showarrow\":false,\"text\":\"instance length [min]\",\"x\":0.5,\"xref\":\"paper\",\"y\":1.12,\"yref\":\"paper\"},{\"showarrow\":false,\"text\":\"maximum delay [s]\",\"textangle\":90,\"x\":1.02,\"xref\":\"paper\",\"y\":0.5,\"yref\":\"paper\"}],\"legend\":{\"title\":{\"text\":\"method\"},\"tracegroupgap\":0,\"orientation\":\"h\",\"yanchor\":\"bottom\",\"y\":1.06,\"xanchor\":\"right\",\"x\":1,\"bordercolor\":\"Black\",\"borderwidth\":0},\"margin\":{\"t\":0,\"l\":0,\"r\":13,\"b\":0,\"pad\":0},\"barmode\":\"group\",\"height\":400,\"width\":900},                        {\"responsive\": true}                    ).then(function(){\n                            \nvar gd = document.getElementById('e336a8e8-6a65-45ae-9ed3-f2c3fa93cda5');\nvar x = new MutationObserver(function (mutations, observer) {{\n        var display = window.getComputedStyle(gd).display;\n        if (!display || display === 'none') {{\n            console.log([gd, 'removed!']);\n            Plotly.purge(gd);\n            observer.disconnect();\n        }}\n}});\n\n// Listen for the removal of the full notebook cells\nvar notebookContainer = gd.closest('#notebook-container');\nif (notebookContainer) {{\n    x.observe(notebookContainer, {childList: true});\n}}\n\n// Listen for the clearing of the current output cell\nvar outputEl = gd.closest('.output');\nif (outputEl) {{\n    x.observe(outputEl, {childList: true});\n}}\n\n                        })                };                });            </script>        </div>"
     },
     "metadata": {},
     "output_type": "display_data"
    }
   ],
   "source": [
    "fig = plot_main_result(900, 400)"
   ],
   "metadata": {
    "collapsed": false,
    "ExecuteTime": {
     "end_time": "2023-05-26T08:50:38.872375800Z",
     "start_time": "2023-05-26T08:50:38.501356700Z"
    }
   }
  },
  {
   "cell_type": "code",
   "execution_count": 78,
   "outputs": [],
   "source": [
    "fig.write_image(fig_path / \"main_result-wide.pdf\")\n",
    "# fig.write_image(fig_path / \"main_result.png\")"
   ],
   "metadata": {
    "collapsed": false,
    "ExecuteTime": {
     "end_time": "2023-05-26T08:50:45.530338100Z",
     "start_time": "2023-05-26T08:50:45.209334700Z"
    }
   }
  },
  {
   "cell_type": "markdown",
   "source": [
    "## All methods selected instances"
   ],
   "metadata": {
    "collapsed": false
   }
  },
  {
   "cell_type": "code",
   "execution_count": 89,
   "outputs": [],
   "source": [
    "def plot_main_result(width: int, height: int) -> None:\n",
    "    dfsel = df.query('duration_minutes <= 5 and max_delay <= 300')\n",
    "    fig = px.bar(\n",
    "        dfsel,\n",
    "        x = 'area',\n",
    "        y = 'cost_per_request',\n",
    "        barmode='group',\n",
    "        title = 'Average Cost per Request',\n",
    "        facet_col='duration_minutes',\n",
    "        facet_row='max_delay',\n",
    "        color='method'\n",
    "    )\n",
    "\n",
    "    # shared axes titles\n",
    "    fig.for_each_yaxis(lambda y: y.update(title = ''))\n",
    "    fig.add_annotation(x=-0.06, y=0.5, text=\"travel time per request [s]\", textangle=-90, xref=\"paper\", yref=\"paper\", showarrow=False)\n",
    "    fig.for_each_xaxis(lambda y: y.update(title = ''))\n",
    "    # fig.add_annotation(x=0.5, y=-0.1, text=\"Area\",  xref=\"paper\", yref=\"paper\", showarrow=False)\n",
    "\n",
    "    # faceting label editing\n",
    "    fig.for_each_annotation(lambda a: a.update(text=a.text.split(\"=\")[-1]))\n",
    "\n",
    "    fig.show()\n",
    "    return fig"
   ],
   "metadata": {
    "collapsed": false,
    "ExecuteTime": {
     "end_time": "2023-05-17T14:54:16.058502500Z",
     "start_time": "2023-05-17T14:54:16.033501700Z"
    }
   }
  },
  {
   "cell_type": "code",
   "execution_count": 90,
   "outputs": [
    {
     "data": {
      "application/vnd.plotly.v1+json": {
       "data": [
        {
         "alignmentgroup": "True",
         "hovertemplate": "method=ih<br>max_delay=180<br>duration_minutes=0.5<br>area=%{x}<br>cost_per_request=%{y}<extra></extra>",
         "legendgroup": "ih",
         "marker": {
          "color": "#636efa",
          "pattern": {
           "shape": ""
          }
         },
         "name": "ih",
         "offsetgroup": "ih",
         "orientation": "v",
         "showlegend": true,
         "textposition": "auto",
         "x": [
          "Chicago",
          "DC",
          "Manhattan",
          "NYC"
         ],
         "xaxis": "x5",
         "y": [
          1008.0,
          2115.0,
          498.42857142857144,
          823.7689969604863
         ],
         "yaxis": "y5",
         "type": "bar"
        },
        {
         "alignmentgroup": "True",
         "hovertemplate": "method=ih<br>max_delay=180<br>duration_minutes=1.0<br>area=%{x}<br>cost_per_request=%{y}<extra></extra>",
         "legendgroup": "ih",
         "marker": {
          "color": "#636efa",
          "pattern": {
           "shape": ""
          }
         },
         "name": "ih",
         "offsetgroup": "ih",
         "orientation": "v",
         "showlegend": false,
         "textposition": "auto",
         "x": [
          "Chicago",
          "DC",
          "Manhattan",
          "NYC"
         ],
         "xaxis": "x6",
         "y": [
          1153.8461538461538,
          1705.7142857142858,
          488.8111888111888,
          710.4833836858006
         ],
         "yaxis": "y6",
         "type": "bar"
        },
        {
         "alignmentgroup": "True",
         "hovertemplate": "method=ih<br>max_delay=180<br>duration_minutes=2.0<br>area=%{x}<br>cost_per_request=%{y}<extra></extra>",
         "legendgroup": "ih",
         "marker": {
          "color": "#636efa",
          "pattern": {
           "shape": ""
          }
         },
         "name": "ih",
         "offsetgroup": "ih",
         "orientation": "v",
         "showlegend": false,
         "textposition": "auto",
         "x": [
          "Chicago",
          "DC",
          "Manhattan",
          "NYC"
         ],
         "xaxis": "x7",
         "y": [
          949.2857142857143,
          1320.0,
          433.1900826446281,
          685.7528089887641
         ],
         "yaxis": "y7",
         "type": "bar"
        },
        {
         "alignmentgroup": "True",
         "hovertemplate": "method=ih<br>max_delay=180<br>duration_minutes=5.0<br>area=%{x}<br>cost_per_request=%{y}<extra></extra>",
         "legendgroup": "ih",
         "marker": {
          "color": "#636efa",
          "pattern": {
           "shape": ""
          }
         },
         "name": "ih",
         "offsetgroup": "ih",
         "orientation": "v",
         "showlegend": false,
         "textposition": "auto",
         "x": [
          "Chicago",
          "DC",
          "Manhattan",
          "NYC"
         ],
         "xaxis": "x8",
         "y": [
          954.065934065934,
          1334.4444444444443,
          378.45597104945716,
          597.1616972477065
         ],
         "yaxis": "y8",
         "type": "bar"
        },
        {
         "alignmentgroup": "True",
         "hovertemplate": "method=ih<br>max_delay=300<br>duration_minutes=0.5<br>area=%{x}<br>cost_per_request=%{y}<extra></extra>",
         "legendgroup": "ih",
         "marker": {
          "color": "#636efa",
          "pattern": {
           "shape": ""
          }
         },
         "name": "ih",
         "offsetgroup": "ih",
         "orientation": "v",
         "showlegend": false,
         "textposition": "auto",
         "x": [
          "Chicago",
          "DC",
          "Manhattan",
          "NYC"
         ],
         "xaxis": "x",
         "y": [
          696.0,
          2115.0,
          464.57142857142856,
          716.5349544072948
         ],
         "yaxis": "y",
         "type": "bar"
        },
        {
         "alignmentgroup": "True",
         "hovertemplate": "method=ih<br>max_delay=300<br>duration_minutes=1.0<br>area=%{x}<br>cost_per_request=%{y}<extra></extra>",
         "legendgroup": "ih",
         "marker": {
          "color": "#636efa",
          "pattern": {
           "shape": ""
          }
         },
         "name": "ih",
         "offsetgroup": "ih",
         "orientation": "v",
         "showlegend": false,
         "textposition": "auto",
         "x": [
          "Chicago",
          "DC",
          "Manhattan",
          "NYC"
         ],
         "xaxis": "x2",
         "y": [
          1144.6153846153845,
          1705.7142857142858,
          434.8951048951049,
          628.1873111782477
         ],
         "yaxis": "y2",
         "type": "bar"
        },
        {
         "alignmentgroup": "True",
         "hovertemplate": "method=ih<br>max_delay=300<br>duration_minutes=2.0<br>area=%{x}<br>cost_per_request=%{y}<extra></extra>",
         "legendgroup": "ih",
         "marker": {
          "color": "#636efa",
          "pattern": {
           "shape": ""
          }
         },
         "name": "ih",
         "offsetgroup": "ih",
         "orientation": "v",
         "showlegend": false,
         "textposition": "auto",
         "x": [
          "Chicago",
          "DC",
          "Manhattan",
          "NYC"
         ],
         "xaxis": "x3",
         "y": [
          930.0,
          1303.3333333333333,
          387.07438016528926,
          586.3370786516854
         ],
         "yaxis": "y3",
         "type": "bar"
        },
        {
         "alignmentgroup": "True",
         "hovertemplate": "method=ih<br>max_delay=300<br>duration_minutes=5.0<br>area=%{x}<br>cost_per_request=%{y}<extra></extra>",
         "legendgroup": "ih",
         "marker": {
          "color": "#636efa",
          "pattern": {
           "shape": ""
          }
         },
         "name": "ih",
         "offsetgroup": "ih",
         "orientation": "v",
         "showlegend": false,
         "textposition": "auto",
         "x": [
          "Chicago",
          "DC",
          "Manhattan",
          "NYC"
         ],
         "xaxis": "x4",
         "y": [
          805.7142857142857,
          1207.7777777777778,
          349.65018094089265,
          525.9977064220184
         ],
         "yaxis": "y4",
         "type": "bar"
        },
        {
         "alignmentgroup": "True",
         "hovertemplate": "method=vga<br>max_delay=180<br>duration_minutes=0.5<br>area=%{x}<br>cost_per_request=%{y}<extra></extra>",
         "legendgroup": "vga",
         "marker": {
          "color": "#EF553B",
          "pattern": {
           "shape": ""
          }
         },
         "name": "vga",
         "offsetgroup": "vga",
         "orientation": "v",
         "showlegend": true,
         "textposition": "auto",
         "x": [
          "Chicago",
          "DC",
          "Manhattan",
          "NYC"
         ],
         "xaxis": "x5",
         "y": [
          900.0,
          2115.0,
          469.7142857142857,
          774.7112462006079
         ],
         "yaxis": "y5",
         "type": "bar"
        },
        {
         "alignmentgroup": "True",
         "hovertemplate": "method=vga<br>max_delay=180<br>duration_minutes=1.0<br>area=%{x}<br>cost_per_request=%{y}<extra></extra>",
         "legendgroup": "vga",
         "marker": {
          "color": "#EF553B",
          "pattern": {
           "shape": ""
          }
         },
         "name": "vga",
         "offsetgroup": "vga",
         "orientation": "v",
         "showlegend": false,
         "textposition": "auto",
         "x": [
          "Chicago",
          "DC",
          "Manhattan",
          "NYC"
         ],
         "xaxis": "x6",
         "y": [
          1144.6153846153845,
          1705.7142857142858,
          424.4055944055944,
          668.8821752265861
         ],
         "yaxis": "y6",
         "type": "bar"
        },
        {
         "alignmentgroup": "True",
         "hovertemplate": "method=vga<br>max_delay=180<br>duration_minutes=2.0<br>area=%{x}<br>cost_per_request=%{y}<extra></extra>",
         "legendgroup": "vga",
         "marker": {
          "color": "#EF553B",
          "pattern": {
           "shape": ""
          }
         },
         "name": "vga",
         "offsetgroup": "vga",
         "orientation": "v",
         "showlegend": false,
         "textposition": "auto",
         "x": [
          "Chicago",
          "DC",
          "Manhattan",
          "NYC"
         ],
         "xaxis": "x7",
         "y": [
          919.2857142857143,
          1303.3333333333333,
          357.6198347107438,
          614.1123595505618
         ],
         "yaxis": "y7",
         "type": "bar"
        },
        {
         "alignmentgroup": "True",
         "hovertemplate": "method=vga<br>max_delay=180<br>duration_minutes=5.0<br>area=%{x}<br>cost_per_request=%{y}<extra></extra>",
         "legendgroup": "vga",
         "marker": {
          "color": "#EF553B",
          "pattern": {
           "shape": ""
          }
         },
         "name": "vga",
         "offsetgroup": "vga",
         "orientation": "v",
         "showlegend": false,
         "textposition": "auto",
         "x": [
          "Chicago",
          "DC"
         ],
         "xaxis": "x8",
         "y": [
          867.6923076923077,
          1314.4444444444443
         ],
         "yaxis": "y8",
         "type": "bar"
        },
        {
         "alignmentgroup": "True",
         "hovertemplate": "method=vga<br>max_delay=300<br>duration_minutes=0.5<br>area=%{x}<br>cost_per_request=%{y}<extra></extra>",
         "legendgroup": "vga",
         "marker": {
          "color": "#EF553B",
          "pattern": {
           "shape": ""
          }
         },
         "name": "vga",
         "offsetgroup": "vga",
         "orientation": "v",
         "showlegend": false,
         "textposition": "auto",
         "x": [
          "Chicago",
          "DC",
          "Manhattan",
          "NYC"
         ],
         "xaxis": "x",
         "y": [
          696.0,
          2115.0,
          398.57142857142856,
          667.112462006079
         ],
         "yaxis": "y",
         "type": "bar"
        },
        {
         "alignmentgroup": "True",
         "hovertemplate": "method=vga<br>max_delay=300<br>duration_minutes=1.0<br>area=%{x}<br>cost_per_request=%{y}<extra></extra>",
         "legendgroup": "vga",
         "marker": {
          "color": "#EF553B",
          "pattern": {
           "shape": ""
          }
         },
         "name": "vga",
         "offsetgroup": "vga",
         "orientation": "v",
         "showlegend": false,
         "textposition": "auto",
         "x": [
          "Chicago",
          "DC",
          "Manhattan",
          "NYC"
         ],
         "xaxis": "x2",
         "y": [
          1107.6923076923076,
          1705.7142857142858,
          352.02797202797206,
          578.5196374622357
         ],
         "yaxis": "y2",
         "type": "bar"
        },
        {
         "alignmentgroup": "True",
         "hovertemplate": "method=vga<br>max_delay=300<br>duration_minutes=2.0<br>area=%{x}<br>cost_per_request=%{y}<extra></extra>",
         "legendgroup": "vga",
         "marker": {
          "color": "#EF553B",
          "pattern": {
           "shape": ""
          }
         },
         "name": "vga",
         "offsetgroup": "vga",
         "orientation": "v",
         "showlegend": false,
         "textposition": "auto",
         "x": [
          "Chicago",
          "DC",
          "Manhattan"
         ],
         "xaxis": "x3",
         "y": [
          895.7142857142857,
          1276.6666666666667,
          296.1322314049587
         ],
         "yaxis": "y3",
         "type": "bar"
        },
        {
         "alignmentgroup": "True",
         "hovertemplate": "method=vga<br>max_delay=300<br>duration_minutes=5.0<br>area=%{x}<br>cost_per_request=%{y}<extra></extra>",
         "legendgroup": "vga",
         "marker": {
          "color": "#EF553B",
          "pattern": {
           "shape": ""
          }
         },
         "name": "vga",
         "offsetgroup": "vga",
         "orientation": "v",
         "showlegend": false,
         "textposition": "auto",
         "x": [
          "Chicago",
          "DC"
         ],
         "xaxis": "x4",
         "y": [
          754.2857142857143,
          1138.888888888889
         ],
         "yaxis": "y4",
         "type": "bar"
        }
       ],
       "layout": {
        "template": {
         "data": {
          "histogram2dcontour": [
           {
            "type": "histogram2dcontour",
            "colorbar": {
             "outlinewidth": 0,
             "ticks": ""
            },
            "colorscale": [
             [
              0.0,
              "#0d0887"
             ],
             [
              0.1111111111111111,
              "#46039f"
             ],
             [
              0.2222222222222222,
              "#7201a8"
             ],
             [
              0.3333333333333333,
              "#9c179e"
             ],
             [
              0.4444444444444444,
              "#bd3786"
             ],
             [
              0.5555555555555556,
              "#d8576b"
             ],
             [
              0.6666666666666666,
              "#ed7953"
             ],
             [
              0.7777777777777778,
              "#fb9f3a"
             ],
             [
              0.8888888888888888,
              "#fdca26"
             ],
             [
              1.0,
              "#f0f921"
             ]
            ]
           }
          ],
          "choropleth": [
           {
            "type": "choropleth",
            "colorbar": {
             "outlinewidth": 0,
             "ticks": ""
            }
           }
          ],
          "histogram2d": [
           {
            "type": "histogram2d",
            "colorbar": {
             "outlinewidth": 0,
             "ticks": ""
            },
            "colorscale": [
             [
              0.0,
              "#0d0887"
             ],
             [
              0.1111111111111111,
              "#46039f"
             ],
             [
              0.2222222222222222,
              "#7201a8"
             ],
             [
              0.3333333333333333,
              "#9c179e"
             ],
             [
              0.4444444444444444,
              "#bd3786"
             ],
             [
              0.5555555555555556,
              "#d8576b"
             ],
             [
              0.6666666666666666,
              "#ed7953"
             ],
             [
              0.7777777777777778,
              "#fb9f3a"
             ],
             [
              0.8888888888888888,
              "#fdca26"
             ],
             [
              1.0,
              "#f0f921"
             ]
            ]
           }
          ],
          "heatmap": [
           {
            "type": "heatmap",
            "colorbar": {
             "outlinewidth": 0,
             "ticks": ""
            },
            "colorscale": [
             [
              0.0,
              "#0d0887"
             ],
             [
              0.1111111111111111,
              "#46039f"
             ],
             [
              0.2222222222222222,
              "#7201a8"
             ],
             [
              0.3333333333333333,
              "#9c179e"
             ],
             [
              0.4444444444444444,
              "#bd3786"
             ],
             [
              0.5555555555555556,
              "#d8576b"
             ],
             [
              0.6666666666666666,
              "#ed7953"
             ],
             [
              0.7777777777777778,
              "#fb9f3a"
             ],
             [
              0.8888888888888888,
              "#fdca26"
             ],
             [
              1.0,
              "#f0f921"
             ]
            ]
           }
          ],
          "heatmapgl": [
           {
            "type": "heatmapgl",
            "colorbar": {
             "outlinewidth": 0,
             "ticks": ""
            },
            "colorscale": [
             [
              0.0,
              "#0d0887"
             ],
             [
              0.1111111111111111,
              "#46039f"
             ],
             [
              0.2222222222222222,
              "#7201a8"
             ],
             [
              0.3333333333333333,
              "#9c179e"
             ],
             [
              0.4444444444444444,
              "#bd3786"
             ],
             [
              0.5555555555555556,
              "#d8576b"
             ],
             [
              0.6666666666666666,
              "#ed7953"
             ],
             [
              0.7777777777777778,
              "#fb9f3a"
             ],
             [
              0.8888888888888888,
              "#fdca26"
             ],
             [
              1.0,
              "#f0f921"
             ]
            ]
           }
          ],
          "contourcarpet": [
           {
            "type": "contourcarpet",
            "colorbar": {
             "outlinewidth": 0,
             "ticks": ""
            }
           }
          ],
          "contour": [
           {
            "type": "contour",
            "colorbar": {
             "outlinewidth": 0,
             "ticks": ""
            },
            "colorscale": [
             [
              0.0,
              "#0d0887"
             ],
             [
              0.1111111111111111,
              "#46039f"
             ],
             [
              0.2222222222222222,
              "#7201a8"
             ],
             [
              0.3333333333333333,
              "#9c179e"
             ],
             [
              0.4444444444444444,
              "#bd3786"
             ],
             [
              0.5555555555555556,
              "#d8576b"
             ],
             [
              0.6666666666666666,
              "#ed7953"
             ],
             [
              0.7777777777777778,
              "#fb9f3a"
             ],
             [
              0.8888888888888888,
              "#fdca26"
             ],
             [
              1.0,
              "#f0f921"
             ]
            ]
           }
          ],
          "surface": [
           {
            "type": "surface",
            "colorbar": {
             "outlinewidth": 0,
             "ticks": ""
            },
            "colorscale": [
             [
              0.0,
              "#0d0887"
             ],
             [
              0.1111111111111111,
              "#46039f"
             ],
             [
              0.2222222222222222,
              "#7201a8"
             ],
             [
              0.3333333333333333,
              "#9c179e"
             ],
             [
              0.4444444444444444,
              "#bd3786"
             ],
             [
              0.5555555555555556,
              "#d8576b"
             ],
             [
              0.6666666666666666,
              "#ed7953"
             ],
             [
              0.7777777777777778,
              "#fb9f3a"
             ],
             [
              0.8888888888888888,
              "#fdca26"
             ],
             [
              1.0,
              "#f0f921"
             ]
            ]
           }
          ],
          "mesh3d": [
           {
            "type": "mesh3d",
            "colorbar": {
             "outlinewidth": 0,
             "ticks": ""
            }
           }
          ],
          "scatter": [
           {
            "fillpattern": {
             "fillmode": "overlay",
             "size": 10,
             "solidity": 0.2
            },
            "type": "scatter"
           }
          ],
          "parcoords": [
           {
            "type": "parcoords",
            "line": {
             "colorbar": {
              "outlinewidth": 0,
              "ticks": ""
             }
            }
           }
          ],
          "scatterpolargl": [
           {
            "type": "scatterpolargl",
            "marker": {
             "colorbar": {
              "outlinewidth": 0,
              "ticks": ""
             }
            }
           }
          ],
          "bar": [
           {
            "error_x": {
             "color": "#2a3f5f"
            },
            "error_y": {
             "color": "#2a3f5f"
            },
            "marker": {
             "line": {
              "color": "#E5ECF6",
              "width": 0.5
             },
             "pattern": {
              "fillmode": "overlay",
              "size": 10,
              "solidity": 0.2
             }
            },
            "type": "bar"
           }
          ],
          "scattergeo": [
           {
            "type": "scattergeo",
            "marker": {
             "colorbar": {
              "outlinewidth": 0,
              "ticks": ""
             }
            }
           }
          ],
          "scatterpolar": [
           {
            "type": "scatterpolar",
            "marker": {
             "colorbar": {
              "outlinewidth": 0,
              "ticks": ""
             }
            }
           }
          ],
          "histogram": [
           {
            "marker": {
             "pattern": {
              "fillmode": "overlay",
              "size": 10,
              "solidity": 0.2
             }
            },
            "type": "histogram"
           }
          ],
          "scattergl": [
           {
            "type": "scattergl",
            "marker": {
             "colorbar": {
              "outlinewidth": 0,
              "ticks": ""
             }
            }
           }
          ],
          "scatter3d": [
           {
            "type": "scatter3d",
            "line": {
             "colorbar": {
              "outlinewidth": 0,
              "ticks": ""
             }
            },
            "marker": {
             "colorbar": {
              "outlinewidth": 0,
              "ticks": ""
             }
            }
           }
          ],
          "scattermapbox": [
           {
            "type": "scattermapbox",
            "marker": {
             "colorbar": {
              "outlinewidth": 0,
              "ticks": ""
             }
            }
           }
          ],
          "scatterternary": [
           {
            "type": "scatterternary",
            "marker": {
             "colorbar": {
              "outlinewidth": 0,
              "ticks": ""
             }
            }
           }
          ],
          "scattercarpet": [
           {
            "type": "scattercarpet",
            "marker": {
             "colorbar": {
              "outlinewidth": 0,
              "ticks": ""
             }
            }
           }
          ],
          "carpet": [
           {
            "aaxis": {
             "endlinecolor": "#2a3f5f",
             "gridcolor": "white",
             "linecolor": "white",
             "minorgridcolor": "white",
             "startlinecolor": "#2a3f5f"
            },
            "baxis": {
             "endlinecolor": "#2a3f5f",
             "gridcolor": "white",
             "linecolor": "white",
             "minorgridcolor": "white",
             "startlinecolor": "#2a3f5f"
            },
            "type": "carpet"
           }
          ],
          "table": [
           {
            "cells": {
             "fill": {
              "color": "#EBF0F8"
             },
             "line": {
              "color": "white"
             }
            },
            "header": {
             "fill": {
              "color": "#C8D4E3"
             },
             "line": {
              "color": "white"
             }
            },
            "type": "table"
           }
          ],
          "barpolar": [
           {
            "marker": {
             "line": {
              "color": "#E5ECF6",
              "width": 0.5
             },
             "pattern": {
              "fillmode": "overlay",
              "size": 10,
              "solidity": 0.2
             }
            },
            "type": "barpolar"
           }
          ],
          "pie": [
           {
            "automargin": true,
            "type": "pie"
           }
          ]
         },
         "layout": {
          "autotypenumbers": "strict",
          "colorway": [
           "#636efa",
           "#EF553B",
           "#00cc96",
           "#ab63fa",
           "#FFA15A",
           "#19d3f3",
           "#FF6692",
           "#B6E880",
           "#FF97FF",
           "#FECB52"
          ],
          "font": {
           "color": "#2a3f5f"
          },
          "hovermode": "closest",
          "hoverlabel": {
           "align": "left"
          },
          "paper_bgcolor": "white",
          "plot_bgcolor": "#E5ECF6",
          "polar": {
           "bgcolor": "#E5ECF6",
           "angularaxis": {
            "gridcolor": "white",
            "linecolor": "white",
            "ticks": ""
           },
           "radialaxis": {
            "gridcolor": "white",
            "linecolor": "white",
            "ticks": ""
           }
          },
          "ternary": {
           "bgcolor": "#E5ECF6",
           "aaxis": {
            "gridcolor": "white",
            "linecolor": "white",
            "ticks": ""
           },
           "baxis": {
            "gridcolor": "white",
            "linecolor": "white",
            "ticks": ""
           },
           "caxis": {
            "gridcolor": "white",
            "linecolor": "white",
            "ticks": ""
           }
          },
          "coloraxis": {
           "colorbar": {
            "outlinewidth": 0,
            "ticks": ""
           }
          },
          "colorscale": {
           "sequential": [
            [
             0.0,
             "#0d0887"
            ],
            [
             0.1111111111111111,
             "#46039f"
            ],
            [
             0.2222222222222222,
             "#7201a8"
            ],
            [
             0.3333333333333333,
             "#9c179e"
            ],
            [
             0.4444444444444444,
             "#bd3786"
            ],
            [
             0.5555555555555556,
             "#d8576b"
            ],
            [
             0.6666666666666666,
             "#ed7953"
            ],
            [
             0.7777777777777778,
             "#fb9f3a"
            ],
            [
             0.8888888888888888,
             "#fdca26"
            ],
            [
             1.0,
             "#f0f921"
            ]
           ],
           "sequentialminus": [
            [
             0.0,
             "#0d0887"
            ],
            [
             0.1111111111111111,
             "#46039f"
            ],
            [
             0.2222222222222222,
             "#7201a8"
            ],
            [
             0.3333333333333333,
             "#9c179e"
            ],
            [
             0.4444444444444444,
             "#bd3786"
            ],
            [
             0.5555555555555556,
             "#d8576b"
            ],
            [
             0.6666666666666666,
             "#ed7953"
            ],
            [
             0.7777777777777778,
             "#fb9f3a"
            ],
            [
             0.8888888888888888,
             "#fdca26"
            ],
            [
             1.0,
             "#f0f921"
            ]
           ],
           "diverging": [
            [
             0,
             "#8e0152"
            ],
            [
             0.1,
             "#c51b7d"
            ],
            [
             0.2,
             "#de77ae"
            ],
            [
             0.3,
             "#f1b6da"
            ],
            [
             0.4,
             "#fde0ef"
            ],
            [
             0.5,
             "#f7f7f7"
            ],
            [
             0.6,
             "#e6f5d0"
            ],
            [
             0.7,
             "#b8e186"
            ],
            [
             0.8,
             "#7fbc41"
            ],
            [
             0.9,
             "#4d9221"
            ],
            [
             1,
             "#276419"
            ]
           ]
          },
          "xaxis": {
           "gridcolor": "white",
           "linecolor": "white",
           "ticks": "",
           "title": {
            "standoff": 15
           },
           "zerolinecolor": "white",
           "automargin": true,
           "zerolinewidth": 2
          },
          "yaxis": {
           "gridcolor": "white",
           "linecolor": "white",
           "ticks": "",
           "title": {
            "standoff": 15
           },
           "zerolinecolor": "white",
           "automargin": true,
           "zerolinewidth": 2
          },
          "scene": {
           "xaxis": {
            "backgroundcolor": "#E5ECF6",
            "gridcolor": "white",
            "linecolor": "white",
            "showbackground": true,
            "ticks": "",
            "zerolinecolor": "white",
            "gridwidth": 2
           },
           "yaxis": {
            "backgroundcolor": "#E5ECF6",
            "gridcolor": "white",
            "linecolor": "white",
            "showbackground": true,
            "ticks": "",
            "zerolinecolor": "white",
            "gridwidth": 2
           },
           "zaxis": {
            "backgroundcolor": "#E5ECF6",
            "gridcolor": "white",
            "linecolor": "white",
            "showbackground": true,
            "ticks": "",
            "zerolinecolor": "white",
            "gridwidth": 2
           }
          },
          "shapedefaults": {
           "line": {
            "color": "#2a3f5f"
           }
          },
          "annotationdefaults": {
           "arrowcolor": "#2a3f5f",
           "arrowhead": 0,
           "arrowwidth": 1
          },
          "geo": {
           "bgcolor": "white",
           "landcolor": "#E5ECF6",
           "subunitcolor": "white",
           "showland": true,
           "showlakes": true,
           "lakecolor": "white"
          },
          "title": {
           "x": 0.05
          },
          "mapbox": {
           "style": "light"
          }
         }
        },
        "xaxis": {
         "anchor": "y",
         "domain": [
          0.0,
          0.22999999999999998
         ],
         "title": {
          "text": ""
         }
        },
        "yaxis": {
         "anchor": "x",
         "domain": [
          0.0,
          0.485
         ],
         "title": {
          "text": ""
         }
        },
        "xaxis2": {
         "anchor": "y2",
         "domain": [
          0.24999999999999997,
          0.48
         ],
         "matches": "x",
         "title": {
          "text": ""
         }
        },
        "yaxis2": {
         "anchor": "x2",
         "domain": [
          0.0,
          0.485
         ],
         "matches": "y",
         "showticklabels": false,
         "title": {
          "text": ""
         }
        },
        "xaxis3": {
         "anchor": "y3",
         "domain": [
          0.49999999999999994,
          0.73
         ],
         "matches": "x",
         "title": {
          "text": ""
         }
        },
        "yaxis3": {
         "anchor": "x3",
         "domain": [
          0.0,
          0.485
         ],
         "matches": "y",
         "showticklabels": false,
         "title": {
          "text": ""
         }
        },
        "xaxis4": {
         "anchor": "y4",
         "domain": [
          0.75,
          0.98
         ],
         "matches": "x",
         "title": {
          "text": ""
         }
        },
        "yaxis4": {
         "anchor": "x4",
         "domain": [
          0.0,
          0.485
         ],
         "matches": "y",
         "showticklabels": false,
         "title": {
          "text": ""
         }
        },
        "xaxis5": {
         "anchor": "y5",
         "domain": [
          0.0,
          0.22999999999999998
         ],
         "matches": "x",
         "showticklabels": false,
         "title": {
          "text": ""
         }
        },
        "yaxis5": {
         "anchor": "x5",
         "domain": [
          0.515,
          1.0
         ],
         "matches": "y",
         "title": {
          "text": ""
         }
        },
        "xaxis6": {
         "anchor": "y6",
         "domain": [
          0.24999999999999997,
          0.48
         ],
         "matches": "x",
         "showticklabels": false,
         "title": {
          "text": ""
         }
        },
        "yaxis6": {
         "anchor": "x6",
         "domain": [
          0.515,
          1.0
         ],
         "matches": "y",
         "showticklabels": false,
         "title": {
          "text": ""
         }
        },
        "xaxis7": {
         "anchor": "y7",
         "domain": [
          0.49999999999999994,
          0.73
         ],
         "matches": "x",
         "showticklabels": false,
         "title": {
          "text": ""
         }
        },
        "yaxis7": {
         "anchor": "x7",
         "domain": [
          0.515,
          1.0
         ],
         "matches": "y",
         "showticklabels": false,
         "title": {
          "text": ""
         }
        },
        "xaxis8": {
         "anchor": "y8",
         "domain": [
          0.75,
          0.98
         ],
         "matches": "x",
         "showticklabels": false,
         "title": {
          "text": ""
         }
        },
        "yaxis8": {
         "anchor": "x8",
         "domain": [
          0.515,
          1.0
         ],
         "matches": "y",
         "showticklabels": false,
         "title": {
          "text": ""
         }
        },
        "annotations": [
         {
          "showarrow": false,
          "text": "0.5",
          "x": 0.11499999999999999,
          "xanchor": "center",
          "xref": "paper",
          "y": 1.0,
          "yanchor": "bottom",
          "yref": "paper"
         },
         {
          "showarrow": false,
          "text": "1.0",
          "x": 0.365,
          "xanchor": "center",
          "xref": "paper",
          "y": 1.0,
          "yanchor": "bottom",
          "yref": "paper"
         },
         {
          "showarrow": false,
          "text": "2.0",
          "x": 0.615,
          "xanchor": "center",
          "xref": "paper",
          "y": 1.0,
          "yanchor": "bottom",
          "yref": "paper"
         },
         {
          "showarrow": false,
          "text": "5.0",
          "x": 0.865,
          "xanchor": "center",
          "xref": "paper",
          "y": 1.0,
          "yanchor": "bottom",
          "yref": "paper"
         },
         {
          "showarrow": false,
          "text": "300",
          "textangle": 90,
          "x": 0.98,
          "xanchor": "left",
          "xref": "paper",
          "y": 0.2425,
          "yanchor": "middle",
          "yref": "paper"
         },
         {
          "showarrow": false,
          "text": "180",
          "textangle": 90,
          "x": 0.98,
          "xanchor": "left",
          "xref": "paper",
          "y": 0.7575000000000001,
          "yanchor": "middle",
          "yref": "paper"
         },
         {
          "showarrow": false,
          "text": "travel time per request [s]",
          "textangle": -90,
          "x": -0.06,
          "xref": "paper",
          "y": 0.5,
          "yref": "paper"
         }
        ],
        "legend": {
         "title": {
          "text": "method"
         },
         "tracegroupgap": 0
        },
        "title": {
         "text": "Average Cost per Request"
        },
        "barmode": "group"
       },
       "config": {
        "plotlyServerURL": "https://plot.ly"
       }
      },
      "text/html": "<div>                            <div id=\"20c8a773-b2f7-4afa-a954-7e12777ac347\" class=\"plotly-graph-div\" style=\"height:525px; width:100%;\"></div>            <script type=\"text/javascript\">                require([\"plotly\"], function(Plotly) {                    window.PLOTLYENV=window.PLOTLYENV || {};                                    if (document.getElementById(\"20c8a773-b2f7-4afa-a954-7e12777ac347\")) {                    Plotly.newPlot(                        \"20c8a773-b2f7-4afa-a954-7e12777ac347\",                        [{\"alignmentgroup\":\"True\",\"hovertemplate\":\"method=ih<br>max_delay=180<br>duration_minutes=0.5<br>area=%{x}<br>cost_per_request=%{y}<extra></extra>\",\"legendgroup\":\"ih\",\"marker\":{\"color\":\"#636efa\",\"pattern\":{\"shape\":\"\"}},\"name\":\"ih\",\"offsetgroup\":\"ih\",\"orientation\":\"v\",\"showlegend\":true,\"textposition\":\"auto\",\"x\":[\"Chicago\",\"DC\",\"Manhattan\",\"NYC\"],\"xaxis\":\"x5\",\"y\":[1008.0,2115.0,498.42857142857144,823.7689969604863],\"yaxis\":\"y5\",\"type\":\"bar\"},{\"alignmentgroup\":\"True\",\"hovertemplate\":\"method=ih<br>max_delay=180<br>duration_minutes=1.0<br>area=%{x}<br>cost_per_request=%{y}<extra></extra>\",\"legendgroup\":\"ih\",\"marker\":{\"color\":\"#636efa\",\"pattern\":{\"shape\":\"\"}},\"name\":\"ih\",\"offsetgroup\":\"ih\",\"orientation\":\"v\",\"showlegend\":false,\"textposition\":\"auto\",\"x\":[\"Chicago\",\"DC\",\"Manhattan\",\"NYC\"],\"xaxis\":\"x6\",\"y\":[1153.8461538461538,1705.7142857142858,488.8111888111888,710.4833836858006],\"yaxis\":\"y6\",\"type\":\"bar\"},{\"alignmentgroup\":\"True\",\"hovertemplate\":\"method=ih<br>max_delay=180<br>duration_minutes=2.0<br>area=%{x}<br>cost_per_request=%{y}<extra></extra>\",\"legendgroup\":\"ih\",\"marker\":{\"color\":\"#636efa\",\"pattern\":{\"shape\":\"\"}},\"name\":\"ih\",\"offsetgroup\":\"ih\",\"orientation\":\"v\",\"showlegend\":false,\"textposition\":\"auto\",\"x\":[\"Chicago\",\"DC\",\"Manhattan\",\"NYC\"],\"xaxis\":\"x7\",\"y\":[949.2857142857143,1320.0,433.1900826446281,685.7528089887641],\"yaxis\":\"y7\",\"type\":\"bar\"},{\"alignmentgroup\":\"True\",\"hovertemplate\":\"method=ih<br>max_delay=180<br>duration_minutes=5.0<br>area=%{x}<br>cost_per_request=%{y}<extra></extra>\",\"legendgroup\":\"ih\",\"marker\":{\"color\":\"#636efa\",\"pattern\":{\"shape\":\"\"}},\"name\":\"ih\",\"offsetgroup\":\"ih\",\"orientation\":\"v\",\"showlegend\":false,\"textposition\":\"auto\",\"x\":[\"Chicago\",\"DC\",\"Manhattan\",\"NYC\"],\"xaxis\":\"x8\",\"y\":[954.065934065934,1334.4444444444443,378.45597104945716,597.1616972477065],\"yaxis\":\"y8\",\"type\":\"bar\"},{\"alignmentgroup\":\"True\",\"hovertemplate\":\"method=ih<br>max_delay=300<br>duration_minutes=0.5<br>area=%{x}<br>cost_per_request=%{y}<extra></extra>\",\"legendgroup\":\"ih\",\"marker\":{\"color\":\"#636efa\",\"pattern\":{\"shape\":\"\"}},\"name\":\"ih\",\"offsetgroup\":\"ih\",\"orientation\":\"v\",\"showlegend\":false,\"textposition\":\"auto\",\"x\":[\"Chicago\",\"DC\",\"Manhattan\",\"NYC\"],\"xaxis\":\"x\",\"y\":[696.0,2115.0,464.57142857142856,716.5349544072948],\"yaxis\":\"y\",\"type\":\"bar\"},{\"alignmentgroup\":\"True\",\"hovertemplate\":\"method=ih<br>max_delay=300<br>duration_minutes=1.0<br>area=%{x}<br>cost_per_request=%{y}<extra></extra>\",\"legendgroup\":\"ih\",\"marker\":{\"color\":\"#636efa\",\"pattern\":{\"shape\":\"\"}},\"name\":\"ih\",\"offsetgroup\":\"ih\",\"orientation\":\"v\",\"showlegend\":false,\"textposition\":\"auto\",\"x\":[\"Chicago\",\"DC\",\"Manhattan\",\"NYC\"],\"xaxis\":\"x2\",\"y\":[1144.6153846153845,1705.7142857142858,434.8951048951049,628.1873111782477],\"yaxis\":\"y2\",\"type\":\"bar\"},{\"alignmentgroup\":\"True\",\"hovertemplate\":\"method=ih<br>max_delay=300<br>duration_minutes=2.0<br>area=%{x}<br>cost_per_request=%{y}<extra></extra>\",\"legendgroup\":\"ih\",\"marker\":{\"color\":\"#636efa\",\"pattern\":{\"shape\":\"\"}},\"name\":\"ih\",\"offsetgroup\":\"ih\",\"orientation\":\"v\",\"showlegend\":false,\"textposition\":\"auto\",\"x\":[\"Chicago\",\"DC\",\"Manhattan\",\"NYC\"],\"xaxis\":\"x3\",\"y\":[930.0,1303.3333333333333,387.07438016528926,586.3370786516854],\"yaxis\":\"y3\",\"type\":\"bar\"},{\"alignmentgroup\":\"True\",\"hovertemplate\":\"method=ih<br>max_delay=300<br>duration_minutes=5.0<br>area=%{x}<br>cost_per_request=%{y}<extra></extra>\",\"legendgroup\":\"ih\",\"marker\":{\"color\":\"#636efa\",\"pattern\":{\"shape\":\"\"}},\"name\":\"ih\",\"offsetgroup\":\"ih\",\"orientation\":\"v\",\"showlegend\":false,\"textposition\":\"auto\",\"x\":[\"Chicago\",\"DC\",\"Manhattan\",\"NYC\"],\"xaxis\":\"x4\",\"y\":[805.7142857142857,1207.7777777777778,349.65018094089265,525.9977064220184],\"yaxis\":\"y4\",\"type\":\"bar\"},{\"alignmentgroup\":\"True\",\"hovertemplate\":\"method=vga<br>max_delay=180<br>duration_minutes=0.5<br>area=%{x}<br>cost_per_request=%{y}<extra></extra>\",\"legendgroup\":\"vga\",\"marker\":{\"color\":\"#EF553B\",\"pattern\":{\"shape\":\"\"}},\"name\":\"vga\",\"offsetgroup\":\"vga\",\"orientation\":\"v\",\"showlegend\":true,\"textposition\":\"auto\",\"x\":[\"Chicago\",\"DC\",\"Manhattan\",\"NYC\"],\"xaxis\":\"x5\",\"y\":[900.0,2115.0,469.7142857142857,774.7112462006079],\"yaxis\":\"y5\",\"type\":\"bar\"},{\"alignmentgroup\":\"True\",\"hovertemplate\":\"method=vga<br>max_delay=180<br>duration_minutes=1.0<br>area=%{x}<br>cost_per_request=%{y}<extra></extra>\",\"legendgroup\":\"vga\",\"marker\":{\"color\":\"#EF553B\",\"pattern\":{\"shape\":\"\"}},\"name\":\"vga\",\"offsetgroup\":\"vga\",\"orientation\":\"v\",\"showlegend\":false,\"textposition\":\"auto\",\"x\":[\"Chicago\",\"DC\",\"Manhattan\",\"NYC\"],\"xaxis\":\"x6\",\"y\":[1144.6153846153845,1705.7142857142858,424.4055944055944,668.8821752265861],\"yaxis\":\"y6\",\"type\":\"bar\"},{\"alignmentgroup\":\"True\",\"hovertemplate\":\"method=vga<br>max_delay=180<br>duration_minutes=2.0<br>area=%{x}<br>cost_per_request=%{y}<extra></extra>\",\"legendgroup\":\"vga\",\"marker\":{\"color\":\"#EF553B\",\"pattern\":{\"shape\":\"\"}},\"name\":\"vga\",\"offsetgroup\":\"vga\",\"orientation\":\"v\",\"showlegend\":false,\"textposition\":\"auto\",\"x\":[\"Chicago\",\"DC\",\"Manhattan\",\"NYC\"],\"xaxis\":\"x7\",\"y\":[919.2857142857143,1303.3333333333333,357.6198347107438,614.1123595505618],\"yaxis\":\"y7\",\"type\":\"bar\"},{\"alignmentgroup\":\"True\",\"hovertemplate\":\"method=vga<br>max_delay=180<br>duration_minutes=5.0<br>area=%{x}<br>cost_per_request=%{y}<extra></extra>\",\"legendgroup\":\"vga\",\"marker\":{\"color\":\"#EF553B\",\"pattern\":{\"shape\":\"\"}},\"name\":\"vga\",\"offsetgroup\":\"vga\",\"orientation\":\"v\",\"showlegend\":false,\"textposition\":\"auto\",\"x\":[\"Chicago\",\"DC\"],\"xaxis\":\"x8\",\"y\":[867.6923076923077,1314.4444444444443],\"yaxis\":\"y8\",\"type\":\"bar\"},{\"alignmentgroup\":\"True\",\"hovertemplate\":\"method=vga<br>max_delay=300<br>duration_minutes=0.5<br>area=%{x}<br>cost_per_request=%{y}<extra></extra>\",\"legendgroup\":\"vga\",\"marker\":{\"color\":\"#EF553B\",\"pattern\":{\"shape\":\"\"}},\"name\":\"vga\",\"offsetgroup\":\"vga\",\"orientation\":\"v\",\"showlegend\":false,\"textposition\":\"auto\",\"x\":[\"Chicago\",\"DC\",\"Manhattan\",\"NYC\"],\"xaxis\":\"x\",\"y\":[696.0,2115.0,398.57142857142856,667.112462006079],\"yaxis\":\"y\",\"type\":\"bar\"},{\"alignmentgroup\":\"True\",\"hovertemplate\":\"method=vga<br>max_delay=300<br>duration_minutes=1.0<br>area=%{x}<br>cost_per_request=%{y}<extra></extra>\",\"legendgroup\":\"vga\",\"marker\":{\"color\":\"#EF553B\",\"pattern\":{\"shape\":\"\"}},\"name\":\"vga\",\"offsetgroup\":\"vga\",\"orientation\":\"v\",\"showlegend\":false,\"textposition\":\"auto\",\"x\":[\"Chicago\",\"DC\",\"Manhattan\",\"NYC\"],\"xaxis\":\"x2\",\"y\":[1107.6923076923076,1705.7142857142858,352.02797202797206,578.5196374622357],\"yaxis\":\"y2\",\"type\":\"bar\"},{\"alignmentgroup\":\"True\",\"hovertemplate\":\"method=vga<br>max_delay=300<br>duration_minutes=2.0<br>area=%{x}<br>cost_per_request=%{y}<extra></extra>\",\"legendgroup\":\"vga\",\"marker\":{\"color\":\"#EF553B\",\"pattern\":{\"shape\":\"\"}},\"name\":\"vga\",\"offsetgroup\":\"vga\",\"orientation\":\"v\",\"showlegend\":false,\"textposition\":\"auto\",\"x\":[\"Chicago\",\"DC\",\"Manhattan\"],\"xaxis\":\"x3\",\"y\":[895.7142857142857,1276.6666666666667,296.1322314049587],\"yaxis\":\"y3\",\"type\":\"bar\"},{\"alignmentgroup\":\"True\",\"hovertemplate\":\"method=vga<br>max_delay=300<br>duration_minutes=5.0<br>area=%{x}<br>cost_per_request=%{y}<extra></extra>\",\"legendgroup\":\"vga\",\"marker\":{\"color\":\"#EF553B\",\"pattern\":{\"shape\":\"\"}},\"name\":\"vga\",\"offsetgroup\":\"vga\",\"orientation\":\"v\",\"showlegend\":false,\"textposition\":\"auto\",\"x\":[\"Chicago\",\"DC\"],\"xaxis\":\"x4\",\"y\":[754.2857142857143,1138.888888888889],\"yaxis\":\"y4\",\"type\":\"bar\"}],                        {\"template\":{\"data\":{\"histogram2dcontour\":[{\"type\":\"histogram2dcontour\",\"colorbar\":{\"outlinewidth\":0,\"ticks\":\"\"},\"colorscale\":[[0.0,\"#0d0887\"],[0.1111111111111111,\"#46039f\"],[0.2222222222222222,\"#7201a8\"],[0.3333333333333333,\"#9c179e\"],[0.4444444444444444,\"#bd3786\"],[0.5555555555555556,\"#d8576b\"],[0.6666666666666666,\"#ed7953\"],[0.7777777777777778,\"#fb9f3a\"],[0.8888888888888888,\"#fdca26\"],[1.0,\"#f0f921\"]]}],\"choropleth\":[{\"type\":\"choropleth\",\"colorbar\":{\"outlinewidth\":0,\"ticks\":\"\"}}],\"histogram2d\":[{\"type\":\"histogram2d\",\"colorbar\":{\"outlinewidth\":0,\"ticks\":\"\"},\"colorscale\":[[0.0,\"#0d0887\"],[0.1111111111111111,\"#46039f\"],[0.2222222222222222,\"#7201a8\"],[0.3333333333333333,\"#9c179e\"],[0.4444444444444444,\"#bd3786\"],[0.5555555555555556,\"#d8576b\"],[0.6666666666666666,\"#ed7953\"],[0.7777777777777778,\"#fb9f3a\"],[0.8888888888888888,\"#fdca26\"],[1.0,\"#f0f921\"]]}],\"heatmap\":[{\"type\":\"heatmap\",\"colorbar\":{\"outlinewidth\":0,\"ticks\":\"\"},\"colorscale\":[[0.0,\"#0d0887\"],[0.1111111111111111,\"#46039f\"],[0.2222222222222222,\"#7201a8\"],[0.3333333333333333,\"#9c179e\"],[0.4444444444444444,\"#bd3786\"],[0.5555555555555556,\"#d8576b\"],[0.6666666666666666,\"#ed7953\"],[0.7777777777777778,\"#fb9f3a\"],[0.8888888888888888,\"#fdca26\"],[1.0,\"#f0f921\"]]}],\"heatmapgl\":[{\"type\":\"heatmapgl\",\"colorbar\":{\"outlinewidth\":0,\"ticks\":\"\"},\"colorscale\":[[0.0,\"#0d0887\"],[0.1111111111111111,\"#46039f\"],[0.2222222222222222,\"#7201a8\"],[0.3333333333333333,\"#9c179e\"],[0.4444444444444444,\"#bd3786\"],[0.5555555555555556,\"#d8576b\"],[0.6666666666666666,\"#ed7953\"],[0.7777777777777778,\"#fb9f3a\"],[0.8888888888888888,\"#fdca26\"],[1.0,\"#f0f921\"]]}],\"contourcarpet\":[{\"type\":\"contourcarpet\",\"colorbar\":{\"outlinewidth\":0,\"ticks\":\"\"}}],\"contour\":[{\"type\":\"contour\",\"colorbar\":{\"outlinewidth\":0,\"ticks\":\"\"},\"colorscale\":[[0.0,\"#0d0887\"],[0.1111111111111111,\"#46039f\"],[0.2222222222222222,\"#7201a8\"],[0.3333333333333333,\"#9c179e\"],[0.4444444444444444,\"#bd3786\"],[0.5555555555555556,\"#d8576b\"],[0.6666666666666666,\"#ed7953\"],[0.7777777777777778,\"#fb9f3a\"],[0.8888888888888888,\"#fdca26\"],[1.0,\"#f0f921\"]]}],\"surface\":[{\"type\":\"surface\",\"colorbar\":{\"outlinewidth\":0,\"ticks\":\"\"},\"colorscale\":[[0.0,\"#0d0887\"],[0.1111111111111111,\"#46039f\"],[0.2222222222222222,\"#7201a8\"],[0.3333333333333333,\"#9c179e\"],[0.4444444444444444,\"#bd3786\"],[0.5555555555555556,\"#d8576b\"],[0.6666666666666666,\"#ed7953\"],[0.7777777777777778,\"#fb9f3a\"],[0.8888888888888888,\"#fdca26\"],[1.0,\"#f0f921\"]]}],\"mesh3d\":[{\"type\":\"mesh3d\",\"colorbar\":{\"outlinewidth\":0,\"ticks\":\"\"}}],\"scatter\":[{\"fillpattern\":{\"fillmode\":\"overlay\",\"size\":10,\"solidity\":0.2},\"type\":\"scatter\"}],\"parcoords\":[{\"type\":\"parcoords\",\"line\":{\"colorbar\":{\"outlinewidth\":0,\"ticks\":\"\"}}}],\"scatterpolargl\":[{\"type\":\"scatterpolargl\",\"marker\":{\"colorbar\":{\"outlinewidth\":0,\"ticks\":\"\"}}}],\"bar\":[{\"error_x\":{\"color\":\"#2a3f5f\"},\"error_y\":{\"color\":\"#2a3f5f\"},\"marker\":{\"line\":{\"color\":\"#E5ECF6\",\"width\":0.5},\"pattern\":{\"fillmode\":\"overlay\",\"size\":10,\"solidity\":0.2}},\"type\":\"bar\"}],\"scattergeo\":[{\"type\":\"scattergeo\",\"marker\":{\"colorbar\":{\"outlinewidth\":0,\"ticks\":\"\"}}}],\"scatterpolar\":[{\"type\":\"scatterpolar\",\"marker\":{\"colorbar\":{\"outlinewidth\":0,\"ticks\":\"\"}}}],\"histogram\":[{\"marker\":{\"pattern\":{\"fillmode\":\"overlay\",\"size\":10,\"solidity\":0.2}},\"type\":\"histogram\"}],\"scattergl\":[{\"type\":\"scattergl\",\"marker\":{\"colorbar\":{\"outlinewidth\":0,\"ticks\":\"\"}}}],\"scatter3d\":[{\"type\":\"scatter3d\",\"line\":{\"colorbar\":{\"outlinewidth\":0,\"ticks\":\"\"}},\"marker\":{\"colorbar\":{\"outlinewidth\":0,\"ticks\":\"\"}}}],\"scattermapbox\":[{\"type\":\"scattermapbox\",\"marker\":{\"colorbar\":{\"outlinewidth\":0,\"ticks\":\"\"}}}],\"scatterternary\":[{\"type\":\"scatterternary\",\"marker\":{\"colorbar\":{\"outlinewidth\":0,\"ticks\":\"\"}}}],\"scattercarpet\":[{\"type\":\"scattercarpet\",\"marker\":{\"colorbar\":{\"outlinewidth\":0,\"ticks\":\"\"}}}],\"carpet\":[{\"aaxis\":{\"endlinecolor\":\"#2a3f5f\",\"gridcolor\":\"white\",\"linecolor\":\"white\",\"minorgridcolor\":\"white\",\"startlinecolor\":\"#2a3f5f\"},\"baxis\":{\"endlinecolor\":\"#2a3f5f\",\"gridcolor\":\"white\",\"linecolor\":\"white\",\"minorgridcolor\":\"white\",\"startlinecolor\":\"#2a3f5f\"},\"type\":\"carpet\"}],\"table\":[{\"cells\":{\"fill\":{\"color\":\"#EBF0F8\"},\"line\":{\"color\":\"white\"}},\"header\":{\"fill\":{\"color\":\"#C8D4E3\"},\"line\":{\"color\":\"white\"}},\"type\":\"table\"}],\"barpolar\":[{\"marker\":{\"line\":{\"color\":\"#E5ECF6\",\"width\":0.5},\"pattern\":{\"fillmode\":\"overlay\",\"size\":10,\"solidity\":0.2}},\"type\":\"barpolar\"}],\"pie\":[{\"automargin\":true,\"type\":\"pie\"}]},\"layout\":{\"autotypenumbers\":\"strict\",\"colorway\":[\"#636efa\",\"#EF553B\",\"#00cc96\",\"#ab63fa\",\"#FFA15A\",\"#19d3f3\",\"#FF6692\",\"#B6E880\",\"#FF97FF\",\"#FECB52\"],\"font\":{\"color\":\"#2a3f5f\"},\"hovermode\":\"closest\",\"hoverlabel\":{\"align\":\"left\"},\"paper_bgcolor\":\"white\",\"plot_bgcolor\":\"#E5ECF6\",\"polar\":{\"bgcolor\":\"#E5ECF6\",\"angularaxis\":{\"gridcolor\":\"white\",\"linecolor\":\"white\",\"ticks\":\"\"},\"radialaxis\":{\"gridcolor\":\"white\",\"linecolor\":\"white\",\"ticks\":\"\"}},\"ternary\":{\"bgcolor\":\"#E5ECF6\",\"aaxis\":{\"gridcolor\":\"white\",\"linecolor\":\"white\",\"ticks\":\"\"},\"baxis\":{\"gridcolor\":\"white\",\"linecolor\":\"white\",\"ticks\":\"\"},\"caxis\":{\"gridcolor\":\"white\",\"linecolor\":\"white\",\"ticks\":\"\"}},\"coloraxis\":{\"colorbar\":{\"outlinewidth\":0,\"ticks\":\"\"}},\"colorscale\":{\"sequential\":[[0.0,\"#0d0887\"],[0.1111111111111111,\"#46039f\"],[0.2222222222222222,\"#7201a8\"],[0.3333333333333333,\"#9c179e\"],[0.4444444444444444,\"#bd3786\"],[0.5555555555555556,\"#d8576b\"],[0.6666666666666666,\"#ed7953\"],[0.7777777777777778,\"#fb9f3a\"],[0.8888888888888888,\"#fdca26\"],[1.0,\"#f0f921\"]],\"sequentialminus\":[[0.0,\"#0d0887\"],[0.1111111111111111,\"#46039f\"],[0.2222222222222222,\"#7201a8\"],[0.3333333333333333,\"#9c179e\"],[0.4444444444444444,\"#bd3786\"],[0.5555555555555556,\"#d8576b\"],[0.6666666666666666,\"#ed7953\"],[0.7777777777777778,\"#fb9f3a\"],[0.8888888888888888,\"#fdca26\"],[1.0,\"#f0f921\"]],\"diverging\":[[0,\"#8e0152\"],[0.1,\"#c51b7d\"],[0.2,\"#de77ae\"],[0.3,\"#f1b6da\"],[0.4,\"#fde0ef\"],[0.5,\"#f7f7f7\"],[0.6,\"#e6f5d0\"],[0.7,\"#b8e186\"],[0.8,\"#7fbc41\"],[0.9,\"#4d9221\"],[1,\"#276419\"]]},\"xaxis\":{\"gridcolor\":\"white\",\"linecolor\":\"white\",\"ticks\":\"\",\"title\":{\"standoff\":15},\"zerolinecolor\":\"white\",\"automargin\":true,\"zerolinewidth\":2},\"yaxis\":{\"gridcolor\":\"white\",\"linecolor\":\"white\",\"ticks\":\"\",\"title\":{\"standoff\":15},\"zerolinecolor\":\"white\",\"automargin\":true,\"zerolinewidth\":2},\"scene\":{\"xaxis\":{\"backgroundcolor\":\"#E5ECF6\",\"gridcolor\":\"white\",\"linecolor\":\"white\",\"showbackground\":true,\"ticks\":\"\",\"zerolinecolor\":\"white\",\"gridwidth\":2},\"yaxis\":{\"backgroundcolor\":\"#E5ECF6\",\"gridcolor\":\"white\",\"linecolor\":\"white\",\"showbackground\":true,\"ticks\":\"\",\"zerolinecolor\":\"white\",\"gridwidth\":2},\"zaxis\":{\"backgroundcolor\":\"#E5ECF6\",\"gridcolor\":\"white\",\"linecolor\":\"white\",\"showbackground\":true,\"ticks\":\"\",\"zerolinecolor\":\"white\",\"gridwidth\":2}},\"shapedefaults\":{\"line\":{\"color\":\"#2a3f5f\"}},\"annotationdefaults\":{\"arrowcolor\":\"#2a3f5f\",\"arrowhead\":0,\"arrowwidth\":1},\"geo\":{\"bgcolor\":\"white\",\"landcolor\":\"#E5ECF6\",\"subunitcolor\":\"white\",\"showland\":true,\"showlakes\":true,\"lakecolor\":\"white\"},\"title\":{\"x\":0.05},\"mapbox\":{\"style\":\"light\"}}},\"xaxis\":{\"anchor\":\"y\",\"domain\":[0.0,0.22999999999999998],\"title\":{\"text\":\"\"}},\"yaxis\":{\"anchor\":\"x\",\"domain\":[0.0,0.485],\"title\":{\"text\":\"\"}},\"xaxis2\":{\"anchor\":\"y2\",\"domain\":[0.24999999999999997,0.48],\"matches\":\"x\",\"title\":{\"text\":\"\"}},\"yaxis2\":{\"anchor\":\"x2\",\"domain\":[0.0,0.485],\"matches\":\"y\",\"showticklabels\":false,\"title\":{\"text\":\"\"}},\"xaxis3\":{\"anchor\":\"y3\",\"domain\":[0.49999999999999994,0.73],\"matches\":\"x\",\"title\":{\"text\":\"\"}},\"yaxis3\":{\"anchor\":\"x3\",\"domain\":[0.0,0.485],\"matches\":\"y\",\"showticklabels\":false,\"title\":{\"text\":\"\"}},\"xaxis4\":{\"anchor\":\"y4\",\"domain\":[0.75,0.98],\"matches\":\"x\",\"title\":{\"text\":\"\"}},\"yaxis4\":{\"anchor\":\"x4\",\"domain\":[0.0,0.485],\"matches\":\"y\",\"showticklabels\":false,\"title\":{\"text\":\"\"}},\"xaxis5\":{\"anchor\":\"y5\",\"domain\":[0.0,0.22999999999999998],\"matches\":\"x\",\"showticklabels\":false,\"title\":{\"text\":\"\"}},\"yaxis5\":{\"anchor\":\"x5\",\"domain\":[0.515,1.0],\"matches\":\"y\",\"title\":{\"text\":\"\"}},\"xaxis6\":{\"anchor\":\"y6\",\"domain\":[0.24999999999999997,0.48],\"matches\":\"x\",\"showticklabels\":false,\"title\":{\"text\":\"\"}},\"yaxis6\":{\"anchor\":\"x6\",\"domain\":[0.515,1.0],\"matches\":\"y\",\"showticklabels\":false,\"title\":{\"text\":\"\"}},\"xaxis7\":{\"anchor\":\"y7\",\"domain\":[0.49999999999999994,0.73],\"matches\":\"x\",\"showticklabels\":false,\"title\":{\"text\":\"\"}},\"yaxis7\":{\"anchor\":\"x7\",\"domain\":[0.515,1.0],\"matches\":\"y\",\"showticklabels\":false,\"title\":{\"text\":\"\"}},\"xaxis8\":{\"anchor\":\"y8\",\"domain\":[0.75,0.98],\"matches\":\"x\",\"showticklabels\":false,\"title\":{\"text\":\"\"}},\"yaxis8\":{\"anchor\":\"x8\",\"domain\":[0.515,1.0],\"matches\":\"y\",\"showticklabels\":false,\"title\":{\"text\":\"\"}},\"annotations\":[{\"showarrow\":false,\"text\":\"0.5\",\"x\":0.11499999999999999,\"xanchor\":\"center\",\"xref\":\"paper\",\"y\":1.0,\"yanchor\":\"bottom\",\"yref\":\"paper\"},{\"showarrow\":false,\"text\":\"1.0\",\"x\":0.365,\"xanchor\":\"center\",\"xref\":\"paper\",\"y\":1.0,\"yanchor\":\"bottom\",\"yref\":\"paper\"},{\"showarrow\":false,\"text\":\"2.0\",\"x\":0.615,\"xanchor\":\"center\",\"xref\":\"paper\",\"y\":1.0,\"yanchor\":\"bottom\",\"yref\":\"paper\"},{\"showarrow\":false,\"text\":\"5.0\",\"x\":0.865,\"xanchor\":\"center\",\"xref\":\"paper\",\"y\":1.0,\"yanchor\":\"bottom\",\"yref\":\"paper\"},{\"showarrow\":false,\"text\":\"300\",\"textangle\":90,\"x\":0.98,\"xanchor\":\"left\",\"xref\":\"paper\",\"y\":0.2425,\"yanchor\":\"middle\",\"yref\":\"paper\"},{\"showarrow\":false,\"text\":\"180\",\"textangle\":90,\"x\":0.98,\"xanchor\":\"left\",\"xref\":\"paper\",\"y\":0.7575000000000001,\"yanchor\":\"middle\",\"yref\":\"paper\"},{\"showarrow\":false,\"text\":\"travel time per request [s]\",\"textangle\":-90,\"x\":-0.06,\"xref\":\"paper\",\"y\":0.5,\"yref\":\"paper\"}],\"legend\":{\"title\":{\"text\":\"method\"},\"tracegroupgap\":0},\"title\":{\"text\":\"Average Cost per Request\"},\"barmode\":\"group\"},                        {\"responsive\": true}                    ).then(function(){\n                            \nvar gd = document.getElementById('20c8a773-b2f7-4afa-a954-7e12777ac347');\nvar x = new MutationObserver(function (mutations, observer) {{\n        var display = window.getComputedStyle(gd).display;\n        if (!display || display === 'none') {{\n            console.log([gd, 'removed!']);\n            Plotly.purge(gd);\n            observer.disconnect();\n        }}\n}});\n\n// Listen for the removal of the full notebook cells\nvar notebookContainer = gd.closest('#notebook-container');\nif (notebookContainer) {{\n    x.observe(notebookContainer, {childList: true});\n}}\n\n// Listen for the clearing of the current output cell\nvar outputEl = gd.closest('.output');\nif (outputEl) {{\n    x.observe(outputEl, {childList: true});\n}}\n\n                        })                };                });            </script>        </div>"
     },
     "metadata": {},
     "output_type": "display_data"
    }
   ],
   "source": [
    "fig = plot_main_result(900, 600)"
   ],
   "metadata": {
    "collapsed": false,
    "ExecuteTime": {
     "end_time": "2023-05-17T14:54:17.398136300Z",
     "start_time": "2023-05-17T14:54:17.213080900Z"
    }
   }
  },
  {
   "cell_type": "markdown",
   "source": [
    "# VGA/IH cost ratio"
   ],
   "metadata": {
    "collapsed": false
   }
  },
  {
   "cell_type": "code",
   "execution_count": 57,
   "outputs": [
    {
     "data": {
      "text/plain": "duration_minutes  max_delay  area       area_order  area_short\n0.5               180        Chicago    2           Chic          0.050000\n                             DC         3           DC            0.000000\n                             Manhattan  1           Man           0.064397\n                             NYC        0           NYC           0.057873\n                  300        Chicago    2           Chic          0.000000\n                                                                    ...   \n960.0             300        NYC        0           NYC                NaN\n                  600        Chicago    2           Chic               NaN\n                             DC         3           DC                 NaN\n                             Manhattan  1           Man                NaN\n                             NYC        0           NYC                NaN\nName: cost_per_request, Length: 96, dtype: float64"
     },
     "execution_count": 57,
     "metadata": {},
     "output_type": "execute_result"
    }
   ],
   "source": [
    "def compute_ih_vga_cost_ratio(s: pd.Series):\n",
    "    if len(s) != 2:\n",
    "        return None\n",
    "    diff = s.max() - s.min()\n",
    "    return diff / s.min()\n",
    "\n",
    "vga_ih_diff = df.groupby(['duration_minutes', 'max_delay', 'area', 'area_order', 'area_short'])['cost_per_request'].apply(compute_ih_vga_cost_ratio)\n",
    "# vga_ih_diff.sort_values(inplace=True)\n",
    "vga_ih_diff"
   ],
   "metadata": {
    "collapsed": false,
    "ExecuteTime": {
     "end_time": "2023-05-26T08:39:33.261347700Z",
     "start_time": "2023-05-26T08:39:33.227316900Z"
    }
   }
  },
  {
   "cell_type": "code",
   "execution_count": 58,
   "outputs": [
    {
     "data": {
      "text/plain": "    duration_minutes  max_delay area  area_order area_short  cost_ratio   \n3                0.5        180  NYC           0        NYC    0.057873  \\\n7                0.5        300  NYC           0        NYC    0.068908   \n11               0.5        600  NYC           0        NYC    0.135144   \n15               1.0        180  NYC           0        NYC    0.060564   \n19               1.0        300  NYC           0        NYC    0.083833   \n..               ...        ...  ...         ...        ...         ...   \n53              15.0        300   DC           3         DC    0.096822   \n57              15.0        600   DC           3         DC    0.278912   \n61              30.0        180   DC           3         DC    0.070370   \n65              30.0        300   DC           3         DC    0.160373   \n69              30.0        600   DC           3         DC         NaN   \n\n    cost_ratio_percent  \n3             5.787316  \n7             6.890849  \n11           13.514398  \n15            6.056435  \n19            8.383328  \n..                 ...  \n53            9.682243  \n57           27.891156  \n61            7.037037  \n65           16.037344  \n69                 NaN  \n\n[72 rows x 7 columns]",
      "text/html": "<div>\n<style scoped>\n    .dataframe tbody tr th:only-of-type {\n        vertical-align: middle;\n    }\n\n    .dataframe tbody tr th {\n        vertical-align: top;\n    }\n\n    .dataframe thead th {\n        text-align: right;\n    }\n</style>\n<table border=\"1\" class=\"dataframe\">\n  <thead>\n    <tr style=\"text-align: right;\">\n      <th></th>\n      <th>duration_minutes</th>\n      <th>max_delay</th>\n      <th>area</th>\n      <th>area_order</th>\n      <th>area_short</th>\n      <th>cost_ratio</th>\n      <th>cost_ratio_percent</th>\n    </tr>\n  </thead>\n  <tbody>\n    <tr>\n      <th>3</th>\n      <td>0.5</td>\n      <td>180</td>\n      <td>NYC</td>\n      <td>0</td>\n      <td>NYC</td>\n      <td>0.057873</td>\n      <td>5.787316</td>\n    </tr>\n    <tr>\n      <th>7</th>\n      <td>0.5</td>\n      <td>300</td>\n      <td>NYC</td>\n      <td>0</td>\n      <td>NYC</td>\n      <td>0.068908</td>\n      <td>6.890849</td>\n    </tr>\n    <tr>\n      <th>11</th>\n      <td>0.5</td>\n      <td>600</td>\n      <td>NYC</td>\n      <td>0</td>\n      <td>NYC</td>\n      <td>0.135144</td>\n      <td>13.514398</td>\n    </tr>\n    <tr>\n      <th>15</th>\n      <td>1.0</td>\n      <td>180</td>\n      <td>NYC</td>\n      <td>0</td>\n      <td>NYC</td>\n      <td>0.060564</td>\n      <td>6.056435</td>\n    </tr>\n    <tr>\n      <th>19</th>\n      <td>1.0</td>\n      <td>300</td>\n      <td>NYC</td>\n      <td>0</td>\n      <td>NYC</td>\n      <td>0.083833</td>\n      <td>8.383328</td>\n    </tr>\n    <tr>\n      <th>...</th>\n      <td>...</td>\n      <td>...</td>\n      <td>...</td>\n      <td>...</td>\n      <td>...</td>\n      <td>...</td>\n      <td>...</td>\n    </tr>\n    <tr>\n      <th>53</th>\n      <td>15.0</td>\n      <td>300</td>\n      <td>DC</td>\n      <td>3</td>\n      <td>DC</td>\n      <td>0.096822</td>\n      <td>9.682243</td>\n    </tr>\n    <tr>\n      <th>57</th>\n      <td>15.0</td>\n      <td>600</td>\n      <td>DC</td>\n      <td>3</td>\n      <td>DC</td>\n      <td>0.278912</td>\n      <td>27.891156</td>\n    </tr>\n    <tr>\n      <th>61</th>\n      <td>30.0</td>\n      <td>180</td>\n      <td>DC</td>\n      <td>3</td>\n      <td>DC</td>\n      <td>0.070370</td>\n      <td>7.037037</td>\n    </tr>\n    <tr>\n      <th>65</th>\n      <td>30.0</td>\n      <td>300</td>\n      <td>DC</td>\n      <td>3</td>\n      <td>DC</td>\n      <td>0.160373</td>\n      <td>16.037344</td>\n    </tr>\n    <tr>\n      <th>69</th>\n      <td>30.0</td>\n      <td>600</td>\n      <td>DC</td>\n      <td>3</td>\n      <td>DC</td>\n      <td>NaN</td>\n      <td>NaN</td>\n    </tr>\n  </tbody>\n</table>\n<p>72 rows × 7 columns</p>\n</div>"
     },
     "execution_count": 58,
     "metadata": {},
     "output_type": "execute_result"
    }
   ],
   "source": [
    "vga_ih_diff_df = pd.DataFrame(vga_ih_diff)\n",
    "vga_ih_diff_df.reset_index(inplace=True)\n",
    "vga_ih_diff_df.rename(columns={'cost_per_request': 'cost_ratio'}, inplace=True)\n",
    "vga_ih_diff_df['cost_ratio_percent'] = vga_ih_diff_df['cost_ratio'] * 100\n",
    "vga_ih_diff_df = vga_ih_diff_df.query('duration_minutes <= 30')\n",
    "vga_ih_diff_df.sort_values(by=['area_order', 'duration_minutes', 'max_delay'], inplace=True)\n",
    "vga_ih_diff_df"
   ],
   "metadata": {
    "collapsed": false,
    "ExecuteTime": {
     "end_time": "2023-05-26T08:39:34.253248200Z",
     "start_time": "2023-05-26T08:39:34.205647300Z"
    }
   }
  },
  {
   "cell_type": "code",
   "execution_count": 59,
   "outputs": [
    {
     "data": {
      "text/plain": "{(0.5, 600): 1,\n (1.0, 600): 2,\n (2.0, 600): 3,\n (5.0, 600): 4,\n (15.0, 600): 5,\n (30.0, 600): 6,\n (0.5, 300): 7,\n (1.0, 300): 8,\n (2.0, 300): 9,\n (5.0, 300): 10,\n (15.0, 300): 11,\n (30.0, 300): 12,\n (0.5, 180): 13,\n (1.0, 180): 14,\n (2.0, 180): 15,\n (5.0, 180): 16,\n (15.0, 180): 17,\n (30.0, 180): 18}"
     },
     "execution_count": 59,
     "metadata": {},
     "output_type": "execute_result"
    }
   ],
   "source": [
    "vals_to_axis = {}\n",
    "i = 1\n",
    "delays = vga_ih_diff_df['max_delay'].unique()\n",
    "delays[::-1].sort()\n",
    "durations = vga_ih_diff_df['duration_minutes'].unique()\n",
    "durations.sort()\n",
    "for max_delay in delays:\n",
    "    for duration in durations:\n",
    "        vals_to_axis[(duration, max_delay)] = i\n",
    "        i += 1\n",
    "vals_to_axis"
   ],
   "metadata": {
    "collapsed": false,
    "ExecuteTime": {
     "end_time": "2023-05-26T08:39:35.065969100Z",
     "start_time": "2023-05-26T08:39:35.052361400Z"
    }
   }
  },
  {
   "cell_type": "code",
   "execution_count": 67,
   "outputs": [
    {
     "data": {
      "application/vnd.plotly.v1+json": {
       "data": [
        {
         "alignmentgroup": "True",
         "hovertemplate": "max_delay=180<br>duration_minutes=0.5<br>area_short=%{x}<br>cost_ratio_percent=%{y}<extra></extra>",
         "legendgroup": "",
         "marker": {
          "color": "#636efa",
          "pattern": {
           "shape": ""
          }
         },
         "name": "",
         "offsetgroup": "",
         "orientation": "v",
         "showlegend": false,
         "textposition": "auto",
         "x": [
          "NYC",
          "Man",
          "Chic",
          "DC"
         ],
         "xaxis": "x13",
         "y": [
          5.7873161321437205,
          6.439742410303588,
          5.0,
          0.0
         ],
         "yaxis": "y13",
         "type": "bar"
        },
        {
         "alignmentgroup": "True",
         "hovertemplate": "max_delay=180<br>duration_minutes=1.0<br>area_short=%{x}<br>cost_ratio_percent=%{y}<extra></extra>",
         "legendgroup": "",
         "marker": {
          "color": "#636efa",
          "pattern": {
           "shape": ""
          }
         },
         "name": "",
         "offsetgroup": "",
         "orientation": "v",
         "showlegend": false,
         "textposition": "auto",
         "x": [
          "NYC",
          "Man",
          "Chic",
          "DC"
         ],
         "xaxis": "x14",
         "y": [
          6.05643496214728,
          13.550000000000006,
          0.8064516129032304,
          0.0
         ],
         "yaxis": "y14",
         "type": "bar"
        },
        {
         "alignmentgroup": "True",
         "hovertemplate": "max_delay=180<br>duration_minutes=2.0<br>area_short=%{x}<br>cost_ratio_percent=%{y}<extra></extra>",
         "legendgroup": "",
         "marker": {
          "color": "#636efa",
          "pattern": {
           "shape": ""
          }
         },
         "name": "",
         "offsetgroup": "",
         "orientation": "v",
         "showlegend": false,
         "textposition": "auto",
         "x": [
          "NYC",
          "Man",
          "Chic",
          "DC"
         ],
         "xaxis": "x15",
         "y": [
          10.585249328157662,
          19.09673822135489,
          3.546099290780138,
          1.8087855297157562
         ],
         "yaxis": "y15",
         "type": "bar"
        },
        {
         "alignmentgroup": "True",
         "hovertemplate": "max_delay=180<br>duration_minutes=5.0<br>area_short=%{x}<br>cost_ratio_percent=%{y}<extra></extra>",
         "legendgroup": "",
         "marker": {
          "color": "#636efa",
          "pattern": {
           "shape": ""
          }
         },
         "name": "",
         "offsetgroup": "",
         "orientation": "v",
         "showlegend": false,
         "textposition": "auto",
         "x": [
          "NYC",
          "Man",
          "Chic",
          "DC"
         ],
         "xaxis": "x16",
         "y": [
          null,
          null,
          6.9531250000000115,
          1.6337059329320704
         ],
         "yaxis": "y16",
         "type": "bar"
        },
        {
         "alignmentgroup": "True",
         "hovertemplate": "max_delay=180<br>duration_minutes=15.0<br>area_short=%{x}<br>cost_ratio_percent=%{y}<extra></extra>",
         "legendgroup": "",
         "marker": {
          "color": "#636efa",
          "pattern": {
           "shape": ""
          }
         },
         "name": "",
         "offsetgroup": "",
         "orientation": "v",
         "showlegend": false,
         "textposition": "auto",
         "x": [
          "NYC",
          "Man",
          "Chic",
          "DC"
         ],
         "xaxis": "x17",
         "y": [
          null,
          null,
          null,
          5.1218759642085825
         ],
         "yaxis": "y17",
         "type": "bar"
        },
        {
         "alignmentgroup": "True",
         "hovertemplate": "max_delay=180<br>duration_minutes=30.0<br>area_short=%{x}<br>cost_ratio_percent=%{y}<extra></extra>",
         "legendgroup": "",
         "marker": {
          "color": "#636efa",
          "pattern": {
           "shape": ""
          }
         },
         "name": "",
         "offsetgroup": "",
         "orientation": "v",
         "showlegend": false,
         "textposition": "auto",
         "x": [
          "NYC",
          "Man",
          "Chic",
          "DC"
         ],
         "xaxis": "x18",
         "y": [
          null,
          null,
          null,
          7.03703703703704
         ],
         "yaxis": "y18",
         "type": "bar"
        },
        {
         "alignmentgroup": "True",
         "hovertemplate": "max_delay=300<br>duration_minutes=0.5<br>area_short=%{x}<br>cost_ratio_percent=%{y}<extra></extra>",
         "legendgroup": "",
         "marker": {
          "color": "#636efa",
          "pattern": {
           "shape": ""
          }
         },
         "name": "",
         "offsetgroup": "",
         "orientation": "v",
         "showlegend": false,
         "textposition": "auto",
         "x": [
          "NYC",
          "Man",
          "Chic",
          "DC"
         ],
         "xaxis": "x7",
         "y": [
          6.890848952590954,
          16.72060409924488,
          0.0,
          0.0
         ],
         "yaxis": "y7",
         "type": "bar"
        },
        {
         "alignmentgroup": "True",
         "hovertemplate": "max_delay=300<br>duration_minutes=1.0<br>area_short=%{x}<br>cost_ratio_percent=%{y}<extra></extra>",
         "legendgroup": "",
         "marker": {
          "color": "#636efa",
          "pattern": {
           "shape": ""
          }
         },
         "name": "",
         "offsetgroup": "",
         "orientation": "v",
         "showlegend": false,
         "textposition": "auto",
         "x": [
          "NYC",
          "Man",
          "Chic",
          "DC"
         ],
         "xaxis": "x8",
         "y": [
          8.383328070729409,
          22.72182254196644,
          3.3333333333333317,
          0.0
         ],
         "yaxis": "y8",
         "type": "bar"
        },
        {
         "alignmentgroup": "True",
         "hovertemplate": "max_delay=300<br>duration_minutes=2.0<br>area_short=%{x}<br>cost_ratio_percent=%{y}<extra></extra>",
         "legendgroup": "",
         "marker": {
          "color": "#636efa",
          "pattern": {
           "shape": ""
          }
         },
         "name": "",
         "offsetgroup": "",
         "orientation": "v",
         "showlegend": false,
         "textposition": "auto",
         "x": [
          "NYC",
          "Man",
          "Chic",
          "DC"
         ],
         "xaxis": "x9",
         "y": [
          15.52544198151305,
          31.409395973154353,
          3.6231884057971104,
          0.0
         ],
         "yaxis": "y9",
         "type": "bar"
        },
        {
         "alignmentgroup": "True",
         "hovertemplate": "max_delay=300<br>duration_minutes=5.0<br>area_short=%{x}<br>cost_ratio_percent=%{y}<extra></extra>",
         "legendgroup": "",
         "marker": {
          "color": "#636efa",
          "pattern": {
           "shape": ""
          }
         },
         "name": "",
         "offsetgroup": "",
         "orientation": "v",
         "showlegend": false,
         "textposition": "auto",
         "x": [
          "NYC",
          "Man",
          "Chic",
          "DC"
         ],
         "xaxis": "x10",
         "y": [
          null,
          null,
          6.288751107174489,
          4.067460317460327
         ],
         "yaxis": "y10",
         "type": "bar"
        },
        {
         "alignmentgroup": "True",
         "hovertemplate": "max_delay=300<br>duration_minutes=15.0<br>area_short=%{x}<br>cost_ratio_percent=%{y}<extra></extra>",
         "legendgroup": "",
         "marker": {
          "color": "#636efa",
          "pattern": {
           "shape": ""
          }
         },
         "name": "",
         "offsetgroup": "",
         "orientation": "v",
         "showlegend": false,
         "textposition": "auto",
         "x": [
          "NYC",
          "Man",
          "Chic",
          "DC"
         ],
         "xaxis": "x11",
         "y": [
          null,
          null,
          null,
          9.682242990654203
         ],
         "yaxis": "y11",
         "type": "bar"
        },
        {
         "alignmentgroup": "True",
         "hovertemplate": "max_delay=300<br>duration_minutes=30.0<br>area_short=%{x}<br>cost_ratio_percent=%{y}<extra></extra>",
         "legendgroup": "",
         "marker": {
          "color": "#636efa",
          "pattern": {
           "shape": ""
          }
         },
         "name": "",
         "offsetgroup": "",
         "orientation": "v",
         "showlegend": false,
         "textposition": "auto",
         "x": [
          "NYC",
          "Man",
          "Chic",
          "DC"
         ],
         "xaxis": "x12",
         "y": [
          null,
          null,
          null,
          16.037344398340245
         ],
         "yaxis": "y12",
         "type": "bar"
        },
        {
         "alignmentgroup": "True",
         "hovertemplate": "max_delay=600<br>duration_minutes=0.5<br>area_short=%{x}<br>cost_ratio_percent=%{y}<extra></extra>",
         "legendgroup": "",
         "marker": {
          "color": "#636efa",
          "pattern": {
           "shape": ""
          }
         },
         "name": "",
         "offsetgroup": "",
         "orientation": "v",
         "showlegend": false,
         "textposition": "auto",
         "x": [
          "NYC",
          "Man",
          "Chic",
          "DC"
         ],
         "xaxis": "x",
         "y": [
          13.514397905759143,
          25.974025974025977,
          2.0408163265306123,
          0.0
         ],
         "yaxis": "y",
         "type": "bar"
        },
        {
         "alignmentgroup": "True",
         "hovertemplate": "max_delay=600<br>duration_minutes=1.0<br>area_short=%{x}<br>cost_ratio_percent=%{y}<extra></extra>",
         "legendgroup": "",
         "marker": {
          "color": "#636efa",
          "pattern": {
           "shape": ""
          }
         },
         "name": "",
         "offsetgroup": "",
         "orientation": "v",
         "showlegend": false,
         "textposition": "auto",
         "x": [
          "NYC",
          "Man",
          "Chic",
          "DC"
         ],
         "xaxis": "x2",
         "y": [
          null,
          37.04245973645682,
          1.8779342723004684,
          0.0
         ],
         "yaxis": "y2",
         "type": "bar"
        },
        {
         "alignmentgroup": "True",
         "hovertemplate": "max_delay=600<br>duration_minutes=2.0<br>area_short=%{x}<br>cost_ratio_percent=%{y}<extra></extra>",
         "legendgroup": "",
         "marker": {
          "color": "#636efa",
          "pattern": {
           "shape": ""
          }
         },
         "name": "",
         "offsetgroup": "",
         "orientation": "v",
         "showlegend": false,
         "textposition": "auto",
         "x": [
          "NYC",
          "Man",
          "Chic",
          "DC"
         ],
         "xaxis": "x3",
         "y": [
          null,
          null,
          1.7811704834605597,
          15.506329113924068
         ],
         "yaxis": "y3",
         "type": "bar"
        },
        {
         "alignmentgroup": "True",
         "hovertemplate": "max_delay=600<br>duration_minutes=5.0<br>area_short=%{x}<br>cost_ratio_percent=%{y}<extra></extra>",
         "legendgroup": "",
         "marker": {
          "color": "#636efa",
          "pattern": {
           "shape": ""
          }
         },
         "name": "",
         "offsetgroup": "",
         "orientation": "v",
         "showlegend": false,
         "textposition": "auto",
         "x": [
          "NYC",
          "Man",
          "Chic",
          "DC"
         ],
         "xaxis": "x4",
         "y": [
          null,
          null,
          13.945578231292524,
          18.863049095607227
         ],
         "yaxis": "y4",
         "type": "bar"
        },
        {
         "alignmentgroup": "True",
         "hovertemplate": "max_delay=600<br>duration_minutes=15.0<br>area_short=%{x}<br>cost_ratio_percent=%{y}<extra></extra>",
         "legendgroup": "",
         "marker": {
          "color": "#636efa",
          "pattern": {
           "shape": ""
          }
         },
         "name": "",
         "offsetgroup": "",
         "orientation": "v",
         "showlegend": false,
         "textposition": "auto",
         "x": [
          "NYC",
          "Man",
          "Chic",
          "DC"
         ],
         "xaxis": "x5",
         "y": [
          null,
          null,
          null,
          27.89115646258503
         ],
         "yaxis": "y5",
         "type": "bar"
        },
        {
         "alignmentgroup": "True",
         "hovertemplate": "max_delay=600<br>duration_minutes=30.0<br>area_short=%{x}<br>cost_ratio_percent=%{y}<extra></extra>",
         "legendgroup": "",
         "marker": {
          "color": "#636efa",
          "pattern": {
           "shape": ""
          }
         },
         "name": "",
         "offsetgroup": "",
         "orientation": "v",
         "showlegend": false,
         "textposition": "auto",
         "x": [
          "NYC",
          "Man",
          "Chic",
          "DC"
         ],
         "xaxis": "x6",
         "y": [
          null,
          null,
          null,
          null
         ],
         "yaxis": "y6",
         "type": "bar"
        }
       ],
       "layout": {
        "template": {
         "data": {
          "histogram2dcontour": [
           {
            "type": "histogram2dcontour",
            "colorbar": {
             "outlinewidth": 0,
             "ticks": ""
            },
            "colorscale": [
             [
              0.0,
              "#0d0887"
             ],
             [
              0.1111111111111111,
              "#46039f"
             ],
             [
              0.2222222222222222,
              "#7201a8"
             ],
             [
              0.3333333333333333,
              "#9c179e"
             ],
             [
              0.4444444444444444,
              "#bd3786"
             ],
             [
              0.5555555555555556,
              "#d8576b"
             ],
             [
              0.6666666666666666,
              "#ed7953"
             ],
             [
              0.7777777777777778,
              "#fb9f3a"
             ],
             [
              0.8888888888888888,
              "#fdca26"
             ],
             [
              1.0,
              "#f0f921"
             ]
            ]
           }
          ],
          "choropleth": [
           {
            "type": "choropleth",
            "colorbar": {
             "outlinewidth": 0,
             "ticks": ""
            }
           }
          ],
          "histogram2d": [
           {
            "type": "histogram2d",
            "colorbar": {
             "outlinewidth": 0,
             "ticks": ""
            },
            "colorscale": [
             [
              0.0,
              "#0d0887"
             ],
             [
              0.1111111111111111,
              "#46039f"
             ],
             [
              0.2222222222222222,
              "#7201a8"
             ],
             [
              0.3333333333333333,
              "#9c179e"
             ],
             [
              0.4444444444444444,
              "#bd3786"
             ],
             [
              0.5555555555555556,
              "#d8576b"
             ],
             [
              0.6666666666666666,
              "#ed7953"
             ],
             [
              0.7777777777777778,
              "#fb9f3a"
             ],
             [
              0.8888888888888888,
              "#fdca26"
             ],
             [
              1.0,
              "#f0f921"
             ]
            ]
           }
          ],
          "heatmap": [
           {
            "type": "heatmap",
            "colorbar": {
             "outlinewidth": 0,
             "ticks": ""
            },
            "colorscale": [
             [
              0.0,
              "#0d0887"
             ],
             [
              0.1111111111111111,
              "#46039f"
             ],
             [
              0.2222222222222222,
              "#7201a8"
             ],
             [
              0.3333333333333333,
              "#9c179e"
             ],
             [
              0.4444444444444444,
              "#bd3786"
             ],
             [
              0.5555555555555556,
              "#d8576b"
             ],
             [
              0.6666666666666666,
              "#ed7953"
             ],
             [
              0.7777777777777778,
              "#fb9f3a"
             ],
             [
              0.8888888888888888,
              "#fdca26"
             ],
             [
              1.0,
              "#f0f921"
             ]
            ]
           }
          ],
          "heatmapgl": [
           {
            "type": "heatmapgl",
            "colorbar": {
             "outlinewidth": 0,
             "ticks": ""
            },
            "colorscale": [
             [
              0.0,
              "#0d0887"
             ],
             [
              0.1111111111111111,
              "#46039f"
             ],
             [
              0.2222222222222222,
              "#7201a8"
             ],
             [
              0.3333333333333333,
              "#9c179e"
             ],
             [
              0.4444444444444444,
              "#bd3786"
             ],
             [
              0.5555555555555556,
              "#d8576b"
             ],
             [
              0.6666666666666666,
              "#ed7953"
             ],
             [
              0.7777777777777778,
              "#fb9f3a"
             ],
             [
              0.8888888888888888,
              "#fdca26"
             ],
             [
              1.0,
              "#f0f921"
             ]
            ]
           }
          ],
          "contourcarpet": [
           {
            "type": "contourcarpet",
            "colorbar": {
             "outlinewidth": 0,
             "ticks": ""
            }
           }
          ],
          "contour": [
           {
            "type": "contour",
            "colorbar": {
             "outlinewidth": 0,
             "ticks": ""
            },
            "colorscale": [
             [
              0.0,
              "#0d0887"
             ],
             [
              0.1111111111111111,
              "#46039f"
             ],
             [
              0.2222222222222222,
              "#7201a8"
             ],
             [
              0.3333333333333333,
              "#9c179e"
             ],
             [
              0.4444444444444444,
              "#bd3786"
             ],
             [
              0.5555555555555556,
              "#d8576b"
             ],
             [
              0.6666666666666666,
              "#ed7953"
             ],
             [
              0.7777777777777778,
              "#fb9f3a"
             ],
             [
              0.8888888888888888,
              "#fdca26"
             ],
             [
              1.0,
              "#f0f921"
             ]
            ]
           }
          ],
          "surface": [
           {
            "type": "surface",
            "colorbar": {
             "outlinewidth": 0,
             "ticks": ""
            },
            "colorscale": [
             [
              0.0,
              "#0d0887"
             ],
             [
              0.1111111111111111,
              "#46039f"
             ],
             [
              0.2222222222222222,
              "#7201a8"
             ],
             [
              0.3333333333333333,
              "#9c179e"
             ],
             [
              0.4444444444444444,
              "#bd3786"
             ],
             [
              0.5555555555555556,
              "#d8576b"
             ],
             [
              0.6666666666666666,
              "#ed7953"
             ],
             [
              0.7777777777777778,
              "#fb9f3a"
             ],
             [
              0.8888888888888888,
              "#fdca26"
             ],
             [
              1.0,
              "#f0f921"
             ]
            ]
           }
          ],
          "mesh3d": [
           {
            "type": "mesh3d",
            "colorbar": {
             "outlinewidth": 0,
             "ticks": ""
            }
           }
          ],
          "scatter": [
           {
            "fillpattern": {
             "fillmode": "overlay",
             "size": 10,
             "solidity": 0.2
            },
            "type": "scatter"
           }
          ],
          "parcoords": [
           {
            "type": "parcoords",
            "line": {
             "colorbar": {
              "outlinewidth": 0,
              "ticks": ""
             }
            }
           }
          ],
          "scatterpolargl": [
           {
            "type": "scatterpolargl",
            "marker": {
             "colorbar": {
              "outlinewidth": 0,
              "ticks": ""
             }
            }
           }
          ],
          "bar": [
           {
            "error_x": {
             "color": "#2a3f5f"
            },
            "error_y": {
             "color": "#2a3f5f"
            },
            "marker": {
             "line": {
              "color": "#E5ECF6",
              "width": 0.5
             },
             "pattern": {
              "fillmode": "overlay",
              "size": 10,
              "solidity": 0.2
             }
            },
            "type": "bar"
           }
          ],
          "scattergeo": [
           {
            "type": "scattergeo",
            "marker": {
             "colorbar": {
              "outlinewidth": 0,
              "ticks": ""
             }
            }
           }
          ],
          "scatterpolar": [
           {
            "type": "scatterpolar",
            "marker": {
             "colorbar": {
              "outlinewidth": 0,
              "ticks": ""
             }
            }
           }
          ],
          "histogram": [
           {
            "marker": {
             "pattern": {
              "fillmode": "overlay",
              "size": 10,
              "solidity": 0.2
             }
            },
            "type": "histogram"
           }
          ],
          "scattergl": [
           {
            "type": "scattergl",
            "marker": {
             "colorbar": {
              "outlinewidth": 0,
              "ticks": ""
             }
            }
           }
          ],
          "scatter3d": [
           {
            "type": "scatter3d",
            "line": {
             "colorbar": {
              "outlinewidth": 0,
              "ticks": ""
             }
            },
            "marker": {
             "colorbar": {
              "outlinewidth": 0,
              "ticks": ""
             }
            }
           }
          ],
          "scattermapbox": [
           {
            "type": "scattermapbox",
            "marker": {
             "colorbar": {
              "outlinewidth": 0,
              "ticks": ""
             }
            }
           }
          ],
          "scatterternary": [
           {
            "type": "scatterternary",
            "marker": {
             "colorbar": {
              "outlinewidth": 0,
              "ticks": ""
             }
            }
           }
          ],
          "scattercarpet": [
           {
            "type": "scattercarpet",
            "marker": {
             "colorbar": {
              "outlinewidth": 0,
              "ticks": ""
             }
            }
           }
          ],
          "carpet": [
           {
            "aaxis": {
             "endlinecolor": "#2a3f5f",
             "gridcolor": "white",
             "linecolor": "white",
             "minorgridcolor": "white",
             "startlinecolor": "#2a3f5f"
            },
            "baxis": {
             "endlinecolor": "#2a3f5f",
             "gridcolor": "white",
             "linecolor": "white",
             "minorgridcolor": "white",
             "startlinecolor": "#2a3f5f"
            },
            "type": "carpet"
           }
          ],
          "table": [
           {
            "cells": {
             "fill": {
              "color": "#EBF0F8"
             },
             "line": {
              "color": "white"
             }
            },
            "header": {
             "fill": {
              "color": "#C8D4E3"
             },
             "line": {
              "color": "white"
             }
            },
            "type": "table"
           }
          ],
          "barpolar": [
           {
            "marker": {
             "line": {
              "color": "#E5ECF6",
              "width": 0.5
             },
             "pattern": {
              "fillmode": "overlay",
              "size": 10,
              "solidity": 0.2
             }
            },
            "type": "barpolar"
           }
          ],
          "pie": [
           {
            "automargin": true,
            "type": "pie"
           }
          ]
         },
         "layout": {
          "autotypenumbers": "strict",
          "colorway": [
           "#636efa",
           "#EF553B",
           "#00cc96",
           "#ab63fa",
           "#FFA15A",
           "#19d3f3",
           "#FF6692",
           "#B6E880",
           "#FF97FF",
           "#FECB52"
          ],
          "font": {
           "color": "#2a3f5f"
          },
          "hovermode": "closest",
          "hoverlabel": {
           "align": "left"
          },
          "paper_bgcolor": "white",
          "plot_bgcolor": "#E5ECF6",
          "polar": {
           "bgcolor": "#E5ECF6",
           "angularaxis": {
            "gridcolor": "white",
            "linecolor": "white",
            "ticks": ""
           },
           "radialaxis": {
            "gridcolor": "white",
            "linecolor": "white",
            "ticks": ""
           }
          },
          "ternary": {
           "bgcolor": "#E5ECF6",
           "aaxis": {
            "gridcolor": "white",
            "linecolor": "white",
            "ticks": ""
           },
           "baxis": {
            "gridcolor": "white",
            "linecolor": "white",
            "ticks": ""
           },
           "caxis": {
            "gridcolor": "white",
            "linecolor": "white",
            "ticks": ""
           }
          },
          "coloraxis": {
           "colorbar": {
            "outlinewidth": 0,
            "ticks": ""
           }
          },
          "colorscale": {
           "sequential": [
            [
             0.0,
             "#0d0887"
            ],
            [
             0.1111111111111111,
             "#46039f"
            ],
            [
             0.2222222222222222,
             "#7201a8"
            ],
            [
             0.3333333333333333,
             "#9c179e"
            ],
            [
             0.4444444444444444,
             "#bd3786"
            ],
            [
             0.5555555555555556,
             "#d8576b"
            ],
            [
             0.6666666666666666,
             "#ed7953"
            ],
            [
             0.7777777777777778,
             "#fb9f3a"
            ],
            [
             0.8888888888888888,
             "#fdca26"
            ],
            [
             1.0,
             "#f0f921"
            ]
           ],
           "sequentialminus": [
            [
             0.0,
             "#0d0887"
            ],
            [
             0.1111111111111111,
             "#46039f"
            ],
            [
             0.2222222222222222,
             "#7201a8"
            ],
            [
             0.3333333333333333,
             "#9c179e"
            ],
            [
             0.4444444444444444,
             "#bd3786"
            ],
            [
             0.5555555555555556,
             "#d8576b"
            ],
            [
             0.6666666666666666,
             "#ed7953"
            ],
            [
             0.7777777777777778,
             "#fb9f3a"
            ],
            [
             0.8888888888888888,
             "#fdca26"
            ],
            [
             1.0,
             "#f0f921"
            ]
           ],
           "diverging": [
            [
             0,
             "#8e0152"
            ],
            [
             0.1,
             "#c51b7d"
            ],
            [
             0.2,
             "#de77ae"
            ],
            [
             0.3,
             "#f1b6da"
            ],
            [
             0.4,
             "#fde0ef"
            ],
            [
             0.5,
             "#f7f7f7"
            ],
            [
             0.6,
             "#e6f5d0"
            ],
            [
             0.7,
             "#b8e186"
            ],
            [
             0.8,
             "#7fbc41"
            ],
            [
             0.9,
             "#4d9221"
            ],
            [
             1,
             "#276419"
            ]
           ]
          },
          "xaxis": {
           "gridcolor": "white",
           "linecolor": "white",
           "ticks": "",
           "title": {
            "standoff": 15
           },
           "zerolinecolor": "white",
           "automargin": true,
           "zerolinewidth": 2
          },
          "yaxis": {
           "gridcolor": "white",
           "linecolor": "white",
           "ticks": "",
           "title": {
            "standoff": 15
           },
           "zerolinecolor": "white",
           "automargin": true,
           "zerolinewidth": 2
          },
          "scene": {
           "xaxis": {
            "backgroundcolor": "#E5ECF6",
            "gridcolor": "white",
            "linecolor": "white",
            "showbackground": true,
            "ticks": "",
            "zerolinecolor": "white",
            "gridwidth": 2
           },
           "yaxis": {
            "backgroundcolor": "#E5ECF6",
            "gridcolor": "white",
            "linecolor": "white",
            "showbackground": true,
            "ticks": "",
            "zerolinecolor": "white",
            "gridwidth": 2
           },
           "zaxis": {
            "backgroundcolor": "#E5ECF6",
            "gridcolor": "white",
            "linecolor": "white",
            "showbackground": true,
            "ticks": "",
            "zerolinecolor": "white",
            "gridwidth": 2
           }
          },
          "shapedefaults": {
           "line": {
            "color": "#2a3f5f"
           }
          },
          "annotationdefaults": {
           "arrowcolor": "#2a3f5f",
           "arrowhead": 0,
           "arrowwidth": 1
          },
          "geo": {
           "bgcolor": "white",
           "landcolor": "#E5ECF6",
           "subunitcolor": "white",
           "showland": true,
           "showlakes": true,
           "lakecolor": "white"
          },
          "title": {
           "x": 0.05
          },
          "mapbox": {
           "style": "light"
          }
         }
        },
        "xaxis": {
         "anchor": "y",
         "domain": [
          0.0,
          0.14666666666666667
         ],
         "title": {
          "text": ""
         }
        },
        "yaxis": {
         "anchor": "x",
         "domain": [
          0.0,
          0.3133333333333333
         ],
         "title": {
          "text": ""
         }
        },
        "xaxis2": {
         "anchor": "y2",
         "domain": [
          0.16666666666666666,
          0.31333333333333335
         ],
         "matches": "x",
         "title": {
          "text": ""
         }
        },
        "yaxis2": {
         "anchor": "x2",
         "domain": [
          0.0,
          0.3133333333333333
         ],
         "matches": "y",
         "showticklabels": false,
         "title": {
          "text": ""
         }
        },
        "xaxis3": {
         "anchor": "y3",
         "domain": [
          0.3333333333333333,
          0.48
         ],
         "matches": "x",
         "title": {
          "text": ""
         }
        },
        "yaxis3": {
         "anchor": "x3",
         "domain": [
          0.0,
          0.3133333333333333
         ],
         "matches": "y",
         "showticklabels": false,
         "title": {
          "text": ""
         }
        },
        "xaxis4": {
         "anchor": "y4",
         "domain": [
          0.5,
          0.6466666666666667
         ],
         "matches": "x",
         "title": {
          "text": ""
         }
        },
        "yaxis4": {
         "anchor": "x4",
         "domain": [
          0.0,
          0.3133333333333333
         ],
         "matches": "y",
         "showticklabels": false,
         "title": {
          "text": ""
         }
        },
        "xaxis5": {
         "anchor": "y5",
         "domain": [
          0.6666666666666666,
          0.8133333333333332
         ],
         "matches": "x",
         "title": {
          "text": ""
         }
        },
        "yaxis5": {
         "anchor": "x5",
         "domain": [
          0.0,
          0.3133333333333333
         ],
         "matches": "y",
         "showticklabels": false,
         "title": {
          "text": ""
         }
        },
        "xaxis6": {
         "anchor": "y6",
         "domain": [
          0.8333333333333334,
          0.98
         ],
         "matches": "x",
         "title": {
          "text": ""
         }
        },
        "yaxis6": {
         "anchor": "x6",
         "domain": [
          0.0,
          0.3133333333333333
         ],
         "matches": "y",
         "showticklabels": false,
         "title": {
          "text": ""
         }
        },
        "xaxis7": {
         "anchor": "y7",
         "domain": [
          0.0,
          0.14666666666666667
         ],
         "matches": "x",
         "showticklabels": false,
         "title": {
          "text": ""
         }
        },
        "yaxis7": {
         "anchor": "x7",
         "domain": [
          0.34333333333333327,
          0.6566666666666665
         ],
         "matches": "y",
         "title": {
          "text": ""
         }
        },
        "xaxis8": {
         "anchor": "y8",
         "domain": [
          0.16666666666666666,
          0.31333333333333335
         ],
         "matches": "x",
         "showticklabels": false,
         "title": {
          "text": ""
         }
        },
        "yaxis8": {
         "anchor": "x8",
         "domain": [
          0.34333333333333327,
          0.6566666666666665
         ],
         "matches": "y",
         "showticklabels": false,
         "title": {
          "text": ""
         }
        },
        "xaxis9": {
         "anchor": "y9",
         "domain": [
          0.3333333333333333,
          0.48
         ],
         "matches": "x",
         "showticklabels": false,
         "title": {
          "text": ""
         }
        },
        "yaxis9": {
         "anchor": "x9",
         "domain": [
          0.34333333333333327,
          0.6566666666666665
         ],
         "matches": "y",
         "showticklabels": false,
         "title": {
          "text": ""
         }
        },
        "xaxis10": {
         "anchor": "y10",
         "domain": [
          0.5,
          0.6466666666666667
         ],
         "matches": "x",
         "showticklabels": false,
         "title": {
          "text": ""
         }
        },
        "yaxis10": {
         "anchor": "x10",
         "domain": [
          0.34333333333333327,
          0.6566666666666665
         ],
         "matches": "y",
         "showticklabels": false,
         "title": {
          "text": ""
         }
        },
        "xaxis11": {
         "anchor": "y11",
         "domain": [
          0.6666666666666666,
          0.8133333333333332
         ],
         "matches": "x",
         "showticklabels": false,
         "title": {
          "text": ""
         }
        },
        "yaxis11": {
         "anchor": "x11",
         "domain": [
          0.34333333333333327,
          0.6566666666666665
         ],
         "matches": "y",
         "showticklabels": false,
         "title": {
          "text": ""
         }
        },
        "xaxis12": {
         "anchor": "y12",
         "domain": [
          0.8333333333333334,
          0.98
         ],
         "matches": "x",
         "showticklabels": false,
         "title": {
          "text": ""
         }
        },
        "yaxis12": {
         "anchor": "x12",
         "domain": [
          0.34333333333333327,
          0.6566666666666665
         ],
         "matches": "y",
         "showticklabels": false,
         "title": {
          "text": ""
         }
        },
        "xaxis13": {
         "anchor": "y13",
         "domain": [
          0.0,
          0.14666666666666667
         ],
         "matches": "x",
         "showticklabels": false,
         "title": {
          "text": ""
         }
        },
        "yaxis13": {
         "anchor": "x13",
         "domain": [
          0.6866666666666665,
          0.9999999999999998
         ],
         "matches": "y",
         "title": {
          "text": ""
         }
        },
        "xaxis14": {
         "anchor": "y14",
         "domain": [
          0.16666666666666666,
          0.31333333333333335
         ],
         "matches": "x",
         "showticklabels": false,
         "title": {
          "text": ""
         }
        },
        "yaxis14": {
         "anchor": "x14",
         "domain": [
          0.6866666666666665,
          0.9999999999999998
         ],
         "matches": "y",
         "showticklabels": false,
         "title": {
          "text": ""
         }
        },
        "xaxis15": {
         "anchor": "y15",
         "domain": [
          0.3333333333333333,
          0.48
         ],
         "matches": "x",
         "showticklabels": false,
         "title": {
          "text": ""
         }
        },
        "yaxis15": {
         "anchor": "x15",
         "domain": [
          0.6866666666666665,
          0.9999999999999998
         ],
         "matches": "y",
         "showticklabels": false,
         "title": {
          "text": ""
         }
        },
        "xaxis16": {
         "anchor": "y16",
         "domain": [
          0.5,
          0.6466666666666667
         ],
         "matches": "x",
         "showticklabels": false,
         "title": {
          "text": ""
         }
        },
        "yaxis16": {
         "anchor": "x16",
         "domain": [
          0.6866666666666665,
          0.9999999999999998
         ],
         "matches": "y",
         "showticklabels": false,
         "title": {
          "text": ""
         }
        },
        "xaxis17": {
         "anchor": "y17",
         "domain": [
          0.6666666666666666,
          0.8133333333333332
         ],
         "matches": "x",
         "showticklabels": false,
         "title": {
          "text": ""
         }
        },
        "yaxis17": {
         "anchor": "x17",
         "domain": [
          0.6866666666666665,
          0.9999999999999998
         ],
         "matches": "y",
         "showticklabels": false,
         "title": {
          "text": ""
         }
        },
        "xaxis18": {
         "anchor": "y18",
         "domain": [
          0.8333333333333334,
          0.98
         ],
         "matches": "x",
         "showticklabels": false,
         "title": {
          "text": ""
         }
        },
        "yaxis18": {
         "anchor": "x18",
         "domain": [
          0.6866666666666665,
          0.9999999999999998
         ],
         "matches": "y",
         "showticklabels": false,
         "title": {
          "text": ""
         }
        },
        "annotations": [
         {
          "showarrow": false,
          "text": "0.5",
          "x": 0.07333333333333333,
          "xanchor": "center",
          "xref": "paper",
          "y": 0.9999999999999998,
          "yanchor": "bottom",
          "yref": "paper"
         },
         {
          "showarrow": false,
          "text": "1.0",
          "x": 0.24,
          "xanchor": "center",
          "xref": "paper",
          "y": 0.9999999999999998,
          "yanchor": "bottom",
          "yref": "paper"
         },
         {
          "showarrow": false,
          "text": "2.0",
          "x": 0.4066666666666666,
          "xanchor": "center",
          "xref": "paper",
          "y": 0.9999999999999998,
          "yanchor": "bottom",
          "yref": "paper"
         },
         {
          "showarrow": false,
          "text": "5.0",
          "x": 0.5733333333333334,
          "xanchor": "center",
          "xref": "paper",
          "y": 0.9999999999999998,
          "yanchor": "bottom",
          "yref": "paper"
         },
         {
          "showarrow": false,
          "text": "15.0",
          "x": 0.74,
          "xanchor": "center",
          "xref": "paper",
          "y": 0.9999999999999998,
          "yanchor": "bottom",
          "yref": "paper"
         },
         {
          "showarrow": false,
          "text": "30.0",
          "x": 0.9066666666666667,
          "xanchor": "center",
          "xref": "paper",
          "y": 0.9999999999999998,
          "yanchor": "bottom",
          "yref": "paper"
         },
         {
          "showarrow": false,
          "text": "600",
          "textangle": 90,
          "x": 0.98,
          "xanchor": "left",
          "xref": "paper",
          "y": 0.15666666666666665,
          "yanchor": "middle",
          "yref": "paper"
         },
         {
          "showarrow": false,
          "text": "300",
          "textangle": 90,
          "x": 0.98,
          "xanchor": "left",
          "xref": "paper",
          "y": 0.4999999999999999,
          "yanchor": "middle",
          "yref": "paper"
         },
         {
          "showarrow": false,
          "text": "180",
          "textangle": 90,
          "x": 0.98,
          "xanchor": "left",
          "xref": "paper",
          "y": 0.8433333333333332,
          "yanchor": "middle",
          "yref": "paper"
         },
         {
          "showarrow": false,
          "text": "X",
          "x": "NYC",
          "xanchor": "center",
          "xref": "x2",
          "y": 0,
          "yanchor": "bottom",
          "yref": "y2"
         },
         {
          "showarrow": false,
          "text": "X",
          "x": "NYC",
          "xanchor": "center",
          "xref": "x3",
          "y": 0,
          "yanchor": "bottom",
          "yref": "y3"
         },
         {
          "showarrow": false,
          "text": "X",
          "x": "NYC",
          "xanchor": "center",
          "xref": "x16",
          "y": 0,
          "yanchor": "bottom",
          "yref": "y16"
         },
         {
          "showarrow": false,
          "text": "X",
          "x": "NYC",
          "xanchor": "center",
          "xref": "x10",
          "y": 0,
          "yanchor": "bottom",
          "yref": "y10"
         },
         {
          "showarrow": false,
          "text": "X",
          "x": "NYC",
          "xanchor": "center",
          "xref": "x4",
          "y": 0,
          "yanchor": "bottom",
          "yref": "y4"
         },
         {
          "showarrow": false,
          "text": "X",
          "x": "NYC",
          "xanchor": "center",
          "xref": "x17",
          "y": 0,
          "yanchor": "bottom",
          "yref": "y17"
         },
         {
          "showarrow": false,
          "text": "X",
          "x": "NYC",
          "xanchor": "center",
          "xref": "x11",
          "y": 0,
          "yanchor": "bottom",
          "yref": "y11"
         },
         {
          "showarrow": false,
          "text": "X",
          "x": "NYC",
          "xanchor": "center",
          "xref": "x5",
          "y": 0,
          "yanchor": "bottom",
          "yref": "y5"
         },
         {
          "showarrow": false,
          "text": "X",
          "x": "NYC",
          "xanchor": "center",
          "xref": "x18",
          "y": 0,
          "yanchor": "bottom",
          "yref": "y18"
         },
         {
          "showarrow": false,
          "text": "X",
          "x": "NYC",
          "xanchor": "center",
          "xref": "x12",
          "y": 0,
          "yanchor": "bottom",
          "yref": "y12"
         },
         {
          "showarrow": false,
          "text": "X",
          "x": "NYC",
          "xanchor": "center",
          "xref": "x6",
          "y": 0,
          "yanchor": "bottom",
          "yref": "y6"
         },
         {
          "showarrow": false,
          "text": "X",
          "x": "Man",
          "xanchor": "center",
          "xref": "x3",
          "y": 0,
          "yanchor": "bottom",
          "yref": "y3"
         },
         {
          "showarrow": false,
          "text": "X",
          "x": "Man",
          "xanchor": "center",
          "xref": "x16",
          "y": 0,
          "yanchor": "bottom",
          "yref": "y16"
         },
         {
          "showarrow": false,
          "text": "X",
          "x": "Man",
          "xanchor": "center",
          "xref": "x10",
          "y": 0,
          "yanchor": "bottom",
          "yref": "y10"
         },
         {
          "showarrow": false,
          "text": "X",
          "x": "Man",
          "xanchor": "center",
          "xref": "x4",
          "y": 0,
          "yanchor": "bottom",
          "yref": "y4"
         },
         {
          "showarrow": false,
          "text": "X",
          "x": "Man",
          "xanchor": "center",
          "xref": "x17",
          "y": 0,
          "yanchor": "bottom",
          "yref": "y17"
         },
         {
          "showarrow": false,
          "text": "X",
          "x": "Man",
          "xanchor": "center",
          "xref": "x11",
          "y": 0,
          "yanchor": "bottom",
          "yref": "y11"
         },
         {
          "showarrow": false,
          "text": "X",
          "x": "Man",
          "xanchor": "center",
          "xref": "x5",
          "y": 0,
          "yanchor": "bottom",
          "yref": "y5"
         },
         {
          "showarrow": false,
          "text": "X",
          "x": "Man",
          "xanchor": "center",
          "xref": "x18",
          "y": 0,
          "yanchor": "bottom",
          "yref": "y18"
         },
         {
          "showarrow": false,
          "text": "X",
          "x": "Man",
          "xanchor": "center",
          "xref": "x12",
          "y": 0,
          "yanchor": "bottom",
          "yref": "y12"
         },
         {
          "showarrow": false,
          "text": "X",
          "x": "Man",
          "xanchor": "center",
          "xref": "x6",
          "y": 0,
          "yanchor": "bottom",
          "yref": "y6"
         },
         {
          "showarrow": false,
          "text": "X",
          "x": "Chic",
          "xanchor": "center",
          "xref": "x17",
          "y": 0,
          "yanchor": "bottom",
          "yref": "y17"
         },
         {
          "showarrow": false,
          "text": "X",
          "x": "Chic",
          "xanchor": "center",
          "xref": "x11",
          "y": 0,
          "yanchor": "bottom",
          "yref": "y11"
         },
         {
          "showarrow": false,
          "text": "X",
          "x": "Chic",
          "xanchor": "center",
          "xref": "x5",
          "y": 0,
          "yanchor": "bottom",
          "yref": "y5"
         },
         {
          "showarrow": false,
          "text": "X",
          "x": "Chic",
          "xanchor": "center",
          "xref": "x18",
          "y": 0,
          "yanchor": "bottom",
          "yref": "y18"
         },
         {
          "showarrow": false,
          "text": "X",
          "x": "Chic",
          "xanchor": "center",
          "xref": "x12",
          "y": 0,
          "yanchor": "bottom",
          "yref": "y12"
         },
         {
          "showarrow": false,
          "text": "X",
          "x": "Chic",
          "xanchor": "center",
          "xref": "x6",
          "y": 0,
          "yanchor": "bottom",
          "yref": "y6"
         },
         {
          "showarrow": false,
          "text": "X",
          "x": "DC",
          "xanchor": "center",
          "xref": "x6",
          "y": 0,
          "yanchor": "bottom",
          "yref": "y6"
         },
         {
          "showarrow": false,
          "text": "cost diff between VGA and IH [%]",
          "textangle": -90,
          "x": -0.05,
          "xref": "paper",
          "y": 0.5,
          "yref": "paper"
         },
         {
          "showarrow": false,
          "text": "instance length [min]",
          "x": 0.5,
          "xref": "paper",
          "y": 1.12,
          "yref": "paper"
         },
         {
          "showarrow": false,
          "text": "maximum delay [s]",
          "textangle": 90,
          "x": 1.02,
          "xref": "paper",
          "y": 0.5,
          "yref": "paper"
         }
        ],
        "legend": {
         "tracegroupgap": 0,
         "orientation": "h",
         "yanchor": "bottom",
         "y": 1.06,
         "xanchor": "right",
         "x": 1,
         "bordercolor": "Black",
         "borderwidth": 1
        },
        "margin": {
         "t": 35,
         "l": 0,
         "r": 12,
         "b": 0,
         "pad": 0
        },
        "barmode": "group",
        "height": 400,
        "width": 900
       },
       "config": {
        "plotlyServerURL": "https://plot.ly"
       }
      },
      "text/html": "<div>                            <div id=\"6488e4be-76ea-4f0b-99a4-8d8cdbe589bb\" class=\"plotly-graph-div\" style=\"height:400px; width:900px;\"></div>            <script type=\"text/javascript\">                require([\"plotly\"], function(Plotly) {                    window.PLOTLYENV=window.PLOTLYENV || {};                                    if (document.getElementById(\"6488e4be-76ea-4f0b-99a4-8d8cdbe589bb\")) {                    Plotly.newPlot(                        \"6488e4be-76ea-4f0b-99a4-8d8cdbe589bb\",                        [{\"alignmentgroup\":\"True\",\"hovertemplate\":\"max_delay=180<br>duration_minutes=0.5<br>area_short=%{x}<br>cost_ratio_percent=%{y}<extra></extra>\",\"legendgroup\":\"\",\"marker\":{\"color\":\"#636efa\",\"pattern\":{\"shape\":\"\"}},\"name\":\"\",\"offsetgroup\":\"\",\"orientation\":\"v\",\"showlegend\":false,\"textposition\":\"auto\",\"x\":[\"NYC\",\"Man\",\"Chic\",\"DC\"],\"xaxis\":\"x13\",\"y\":[5.7873161321437205,6.439742410303588,5.0,0.0],\"yaxis\":\"y13\",\"type\":\"bar\"},{\"alignmentgroup\":\"True\",\"hovertemplate\":\"max_delay=180<br>duration_minutes=1.0<br>area_short=%{x}<br>cost_ratio_percent=%{y}<extra></extra>\",\"legendgroup\":\"\",\"marker\":{\"color\":\"#636efa\",\"pattern\":{\"shape\":\"\"}},\"name\":\"\",\"offsetgroup\":\"\",\"orientation\":\"v\",\"showlegend\":false,\"textposition\":\"auto\",\"x\":[\"NYC\",\"Man\",\"Chic\",\"DC\"],\"xaxis\":\"x14\",\"y\":[6.05643496214728,13.550000000000006,0.8064516129032304,0.0],\"yaxis\":\"y14\",\"type\":\"bar\"},{\"alignmentgroup\":\"True\",\"hovertemplate\":\"max_delay=180<br>duration_minutes=2.0<br>area_short=%{x}<br>cost_ratio_percent=%{y}<extra></extra>\",\"legendgroup\":\"\",\"marker\":{\"color\":\"#636efa\",\"pattern\":{\"shape\":\"\"}},\"name\":\"\",\"offsetgroup\":\"\",\"orientation\":\"v\",\"showlegend\":false,\"textposition\":\"auto\",\"x\":[\"NYC\",\"Man\",\"Chic\",\"DC\"],\"xaxis\":\"x15\",\"y\":[10.585249328157662,19.09673822135489,3.546099290780138,1.8087855297157562],\"yaxis\":\"y15\",\"type\":\"bar\"},{\"alignmentgroup\":\"True\",\"hovertemplate\":\"max_delay=180<br>duration_minutes=5.0<br>area_short=%{x}<br>cost_ratio_percent=%{y}<extra></extra>\",\"legendgroup\":\"\",\"marker\":{\"color\":\"#636efa\",\"pattern\":{\"shape\":\"\"}},\"name\":\"\",\"offsetgroup\":\"\",\"orientation\":\"v\",\"showlegend\":false,\"textposition\":\"auto\",\"x\":[\"NYC\",\"Man\",\"Chic\",\"DC\"],\"xaxis\":\"x16\",\"y\":[null,null,6.9531250000000115,1.6337059329320704],\"yaxis\":\"y16\",\"type\":\"bar\"},{\"alignmentgroup\":\"True\",\"hovertemplate\":\"max_delay=180<br>duration_minutes=15.0<br>area_short=%{x}<br>cost_ratio_percent=%{y}<extra></extra>\",\"legendgroup\":\"\",\"marker\":{\"color\":\"#636efa\",\"pattern\":{\"shape\":\"\"}},\"name\":\"\",\"offsetgroup\":\"\",\"orientation\":\"v\",\"showlegend\":false,\"textposition\":\"auto\",\"x\":[\"NYC\",\"Man\",\"Chic\",\"DC\"],\"xaxis\":\"x17\",\"y\":[null,null,null,5.1218759642085825],\"yaxis\":\"y17\",\"type\":\"bar\"},{\"alignmentgroup\":\"True\",\"hovertemplate\":\"max_delay=180<br>duration_minutes=30.0<br>area_short=%{x}<br>cost_ratio_percent=%{y}<extra></extra>\",\"legendgroup\":\"\",\"marker\":{\"color\":\"#636efa\",\"pattern\":{\"shape\":\"\"}},\"name\":\"\",\"offsetgroup\":\"\",\"orientation\":\"v\",\"showlegend\":false,\"textposition\":\"auto\",\"x\":[\"NYC\",\"Man\",\"Chic\",\"DC\"],\"xaxis\":\"x18\",\"y\":[null,null,null,7.03703703703704],\"yaxis\":\"y18\",\"type\":\"bar\"},{\"alignmentgroup\":\"True\",\"hovertemplate\":\"max_delay=300<br>duration_minutes=0.5<br>area_short=%{x}<br>cost_ratio_percent=%{y}<extra></extra>\",\"legendgroup\":\"\",\"marker\":{\"color\":\"#636efa\",\"pattern\":{\"shape\":\"\"}},\"name\":\"\",\"offsetgroup\":\"\",\"orientation\":\"v\",\"showlegend\":false,\"textposition\":\"auto\",\"x\":[\"NYC\",\"Man\",\"Chic\",\"DC\"],\"xaxis\":\"x7\",\"y\":[6.890848952590954,16.72060409924488,0.0,0.0],\"yaxis\":\"y7\",\"type\":\"bar\"},{\"alignmentgroup\":\"True\",\"hovertemplate\":\"max_delay=300<br>duration_minutes=1.0<br>area_short=%{x}<br>cost_ratio_percent=%{y}<extra></extra>\",\"legendgroup\":\"\",\"marker\":{\"color\":\"#636efa\",\"pattern\":{\"shape\":\"\"}},\"name\":\"\",\"offsetgroup\":\"\",\"orientation\":\"v\",\"showlegend\":false,\"textposition\":\"auto\",\"x\":[\"NYC\",\"Man\",\"Chic\",\"DC\"],\"xaxis\":\"x8\",\"y\":[8.383328070729409,22.72182254196644,3.3333333333333317,0.0],\"yaxis\":\"y8\",\"type\":\"bar\"},{\"alignmentgroup\":\"True\",\"hovertemplate\":\"max_delay=300<br>duration_minutes=2.0<br>area_short=%{x}<br>cost_ratio_percent=%{y}<extra></extra>\",\"legendgroup\":\"\",\"marker\":{\"color\":\"#636efa\",\"pattern\":{\"shape\":\"\"}},\"name\":\"\",\"offsetgroup\":\"\",\"orientation\":\"v\",\"showlegend\":false,\"textposition\":\"auto\",\"x\":[\"NYC\",\"Man\",\"Chic\",\"DC\"],\"xaxis\":\"x9\",\"y\":[15.52544198151305,31.409395973154353,3.6231884057971104,0.0],\"yaxis\":\"y9\",\"type\":\"bar\"},{\"alignmentgroup\":\"True\",\"hovertemplate\":\"max_delay=300<br>duration_minutes=5.0<br>area_short=%{x}<br>cost_ratio_percent=%{y}<extra></extra>\",\"legendgroup\":\"\",\"marker\":{\"color\":\"#636efa\",\"pattern\":{\"shape\":\"\"}},\"name\":\"\",\"offsetgroup\":\"\",\"orientation\":\"v\",\"showlegend\":false,\"textposition\":\"auto\",\"x\":[\"NYC\",\"Man\",\"Chic\",\"DC\"],\"xaxis\":\"x10\",\"y\":[null,null,6.288751107174489,4.067460317460327],\"yaxis\":\"y10\",\"type\":\"bar\"},{\"alignmentgroup\":\"True\",\"hovertemplate\":\"max_delay=300<br>duration_minutes=15.0<br>area_short=%{x}<br>cost_ratio_percent=%{y}<extra></extra>\",\"legendgroup\":\"\",\"marker\":{\"color\":\"#636efa\",\"pattern\":{\"shape\":\"\"}},\"name\":\"\",\"offsetgroup\":\"\",\"orientation\":\"v\",\"showlegend\":false,\"textposition\":\"auto\",\"x\":[\"NYC\",\"Man\",\"Chic\",\"DC\"],\"xaxis\":\"x11\",\"y\":[null,null,null,9.682242990654203],\"yaxis\":\"y11\",\"type\":\"bar\"},{\"alignmentgroup\":\"True\",\"hovertemplate\":\"max_delay=300<br>duration_minutes=30.0<br>area_short=%{x}<br>cost_ratio_percent=%{y}<extra></extra>\",\"legendgroup\":\"\",\"marker\":{\"color\":\"#636efa\",\"pattern\":{\"shape\":\"\"}},\"name\":\"\",\"offsetgroup\":\"\",\"orientation\":\"v\",\"showlegend\":false,\"textposition\":\"auto\",\"x\":[\"NYC\",\"Man\",\"Chic\",\"DC\"],\"xaxis\":\"x12\",\"y\":[null,null,null,16.037344398340245],\"yaxis\":\"y12\",\"type\":\"bar\"},{\"alignmentgroup\":\"True\",\"hovertemplate\":\"max_delay=600<br>duration_minutes=0.5<br>area_short=%{x}<br>cost_ratio_percent=%{y}<extra></extra>\",\"legendgroup\":\"\",\"marker\":{\"color\":\"#636efa\",\"pattern\":{\"shape\":\"\"}},\"name\":\"\",\"offsetgroup\":\"\",\"orientation\":\"v\",\"showlegend\":false,\"textposition\":\"auto\",\"x\":[\"NYC\",\"Man\",\"Chic\",\"DC\"],\"xaxis\":\"x\",\"y\":[13.514397905759143,25.974025974025977,2.0408163265306123,0.0],\"yaxis\":\"y\",\"type\":\"bar\"},{\"alignmentgroup\":\"True\",\"hovertemplate\":\"max_delay=600<br>duration_minutes=1.0<br>area_short=%{x}<br>cost_ratio_percent=%{y}<extra></extra>\",\"legendgroup\":\"\",\"marker\":{\"color\":\"#636efa\",\"pattern\":{\"shape\":\"\"}},\"name\":\"\",\"offsetgroup\":\"\",\"orientation\":\"v\",\"showlegend\":false,\"textposition\":\"auto\",\"x\":[\"NYC\",\"Man\",\"Chic\",\"DC\"],\"xaxis\":\"x2\",\"y\":[null,37.04245973645682,1.8779342723004684,0.0],\"yaxis\":\"y2\",\"type\":\"bar\"},{\"alignmentgroup\":\"True\",\"hovertemplate\":\"max_delay=600<br>duration_minutes=2.0<br>area_short=%{x}<br>cost_ratio_percent=%{y}<extra></extra>\",\"legendgroup\":\"\",\"marker\":{\"color\":\"#636efa\",\"pattern\":{\"shape\":\"\"}},\"name\":\"\",\"offsetgroup\":\"\",\"orientation\":\"v\",\"showlegend\":false,\"textposition\":\"auto\",\"x\":[\"NYC\",\"Man\",\"Chic\",\"DC\"],\"xaxis\":\"x3\",\"y\":[null,null,1.7811704834605597,15.506329113924068],\"yaxis\":\"y3\",\"type\":\"bar\"},{\"alignmentgroup\":\"True\",\"hovertemplate\":\"max_delay=600<br>duration_minutes=5.0<br>area_short=%{x}<br>cost_ratio_percent=%{y}<extra></extra>\",\"legendgroup\":\"\",\"marker\":{\"color\":\"#636efa\",\"pattern\":{\"shape\":\"\"}},\"name\":\"\",\"offsetgroup\":\"\",\"orientation\":\"v\",\"showlegend\":false,\"textposition\":\"auto\",\"x\":[\"NYC\",\"Man\",\"Chic\",\"DC\"],\"xaxis\":\"x4\",\"y\":[null,null,13.945578231292524,18.863049095607227],\"yaxis\":\"y4\",\"type\":\"bar\"},{\"alignmentgroup\":\"True\",\"hovertemplate\":\"max_delay=600<br>duration_minutes=15.0<br>area_short=%{x}<br>cost_ratio_percent=%{y}<extra></extra>\",\"legendgroup\":\"\",\"marker\":{\"color\":\"#636efa\",\"pattern\":{\"shape\":\"\"}},\"name\":\"\",\"offsetgroup\":\"\",\"orientation\":\"v\",\"showlegend\":false,\"textposition\":\"auto\",\"x\":[\"NYC\",\"Man\",\"Chic\",\"DC\"],\"xaxis\":\"x5\",\"y\":[null,null,null,27.89115646258503],\"yaxis\":\"y5\",\"type\":\"bar\"},{\"alignmentgroup\":\"True\",\"hovertemplate\":\"max_delay=600<br>duration_minutes=30.0<br>area_short=%{x}<br>cost_ratio_percent=%{y}<extra></extra>\",\"legendgroup\":\"\",\"marker\":{\"color\":\"#636efa\",\"pattern\":{\"shape\":\"\"}},\"name\":\"\",\"offsetgroup\":\"\",\"orientation\":\"v\",\"showlegend\":false,\"textposition\":\"auto\",\"x\":[\"NYC\",\"Man\",\"Chic\",\"DC\"],\"xaxis\":\"x6\",\"y\":[null,null,null,null],\"yaxis\":\"y6\",\"type\":\"bar\"}],                        {\"template\":{\"data\":{\"histogram2dcontour\":[{\"type\":\"histogram2dcontour\",\"colorbar\":{\"outlinewidth\":0,\"ticks\":\"\"},\"colorscale\":[[0.0,\"#0d0887\"],[0.1111111111111111,\"#46039f\"],[0.2222222222222222,\"#7201a8\"],[0.3333333333333333,\"#9c179e\"],[0.4444444444444444,\"#bd3786\"],[0.5555555555555556,\"#d8576b\"],[0.6666666666666666,\"#ed7953\"],[0.7777777777777778,\"#fb9f3a\"],[0.8888888888888888,\"#fdca26\"],[1.0,\"#f0f921\"]]}],\"choropleth\":[{\"type\":\"choropleth\",\"colorbar\":{\"outlinewidth\":0,\"ticks\":\"\"}}],\"histogram2d\":[{\"type\":\"histogram2d\",\"colorbar\":{\"outlinewidth\":0,\"ticks\":\"\"},\"colorscale\":[[0.0,\"#0d0887\"],[0.1111111111111111,\"#46039f\"],[0.2222222222222222,\"#7201a8\"],[0.3333333333333333,\"#9c179e\"],[0.4444444444444444,\"#bd3786\"],[0.5555555555555556,\"#d8576b\"],[0.6666666666666666,\"#ed7953\"],[0.7777777777777778,\"#fb9f3a\"],[0.8888888888888888,\"#fdca26\"],[1.0,\"#f0f921\"]]}],\"heatmap\":[{\"type\":\"heatmap\",\"colorbar\":{\"outlinewidth\":0,\"ticks\":\"\"},\"colorscale\":[[0.0,\"#0d0887\"],[0.1111111111111111,\"#46039f\"],[0.2222222222222222,\"#7201a8\"],[0.3333333333333333,\"#9c179e\"],[0.4444444444444444,\"#bd3786\"],[0.5555555555555556,\"#d8576b\"],[0.6666666666666666,\"#ed7953\"],[0.7777777777777778,\"#fb9f3a\"],[0.8888888888888888,\"#fdca26\"],[1.0,\"#f0f921\"]]}],\"heatmapgl\":[{\"type\":\"heatmapgl\",\"colorbar\":{\"outlinewidth\":0,\"ticks\":\"\"},\"colorscale\":[[0.0,\"#0d0887\"],[0.1111111111111111,\"#46039f\"],[0.2222222222222222,\"#7201a8\"],[0.3333333333333333,\"#9c179e\"],[0.4444444444444444,\"#bd3786\"],[0.5555555555555556,\"#d8576b\"],[0.6666666666666666,\"#ed7953\"],[0.7777777777777778,\"#fb9f3a\"],[0.8888888888888888,\"#fdca26\"],[1.0,\"#f0f921\"]]}],\"contourcarpet\":[{\"type\":\"contourcarpet\",\"colorbar\":{\"outlinewidth\":0,\"ticks\":\"\"}}],\"contour\":[{\"type\":\"contour\",\"colorbar\":{\"outlinewidth\":0,\"ticks\":\"\"},\"colorscale\":[[0.0,\"#0d0887\"],[0.1111111111111111,\"#46039f\"],[0.2222222222222222,\"#7201a8\"],[0.3333333333333333,\"#9c179e\"],[0.4444444444444444,\"#bd3786\"],[0.5555555555555556,\"#d8576b\"],[0.6666666666666666,\"#ed7953\"],[0.7777777777777778,\"#fb9f3a\"],[0.8888888888888888,\"#fdca26\"],[1.0,\"#f0f921\"]]}],\"surface\":[{\"type\":\"surface\",\"colorbar\":{\"outlinewidth\":0,\"ticks\":\"\"},\"colorscale\":[[0.0,\"#0d0887\"],[0.1111111111111111,\"#46039f\"],[0.2222222222222222,\"#7201a8\"],[0.3333333333333333,\"#9c179e\"],[0.4444444444444444,\"#bd3786\"],[0.5555555555555556,\"#d8576b\"],[0.6666666666666666,\"#ed7953\"],[0.7777777777777778,\"#fb9f3a\"],[0.8888888888888888,\"#fdca26\"],[1.0,\"#f0f921\"]]}],\"mesh3d\":[{\"type\":\"mesh3d\",\"colorbar\":{\"outlinewidth\":0,\"ticks\":\"\"}}],\"scatter\":[{\"fillpattern\":{\"fillmode\":\"overlay\",\"size\":10,\"solidity\":0.2},\"type\":\"scatter\"}],\"parcoords\":[{\"type\":\"parcoords\",\"line\":{\"colorbar\":{\"outlinewidth\":0,\"ticks\":\"\"}}}],\"scatterpolargl\":[{\"type\":\"scatterpolargl\",\"marker\":{\"colorbar\":{\"outlinewidth\":0,\"ticks\":\"\"}}}],\"bar\":[{\"error_x\":{\"color\":\"#2a3f5f\"},\"error_y\":{\"color\":\"#2a3f5f\"},\"marker\":{\"line\":{\"color\":\"#E5ECF6\",\"width\":0.5},\"pattern\":{\"fillmode\":\"overlay\",\"size\":10,\"solidity\":0.2}},\"type\":\"bar\"}],\"scattergeo\":[{\"type\":\"scattergeo\",\"marker\":{\"colorbar\":{\"outlinewidth\":0,\"ticks\":\"\"}}}],\"scatterpolar\":[{\"type\":\"scatterpolar\",\"marker\":{\"colorbar\":{\"outlinewidth\":0,\"ticks\":\"\"}}}],\"histogram\":[{\"marker\":{\"pattern\":{\"fillmode\":\"overlay\",\"size\":10,\"solidity\":0.2}},\"type\":\"histogram\"}],\"scattergl\":[{\"type\":\"scattergl\",\"marker\":{\"colorbar\":{\"outlinewidth\":0,\"ticks\":\"\"}}}],\"scatter3d\":[{\"type\":\"scatter3d\",\"line\":{\"colorbar\":{\"outlinewidth\":0,\"ticks\":\"\"}},\"marker\":{\"colorbar\":{\"outlinewidth\":0,\"ticks\":\"\"}}}],\"scattermapbox\":[{\"type\":\"scattermapbox\",\"marker\":{\"colorbar\":{\"outlinewidth\":0,\"ticks\":\"\"}}}],\"scatterternary\":[{\"type\":\"scatterternary\",\"marker\":{\"colorbar\":{\"outlinewidth\":0,\"ticks\":\"\"}}}],\"scattercarpet\":[{\"type\":\"scattercarpet\",\"marker\":{\"colorbar\":{\"outlinewidth\":0,\"ticks\":\"\"}}}],\"carpet\":[{\"aaxis\":{\"endlinecolor\":\"#2a3f5f\",\"gridcolor\":\"white\",\"linecolor\":\"white\",\"minorgridcolor\":\"white\",\"startlinecolor\":\"#2a3f5f\"},\"baxis\":{\"endlinecolor\":\"#2a3f5f\",\"gridcolor\":\"white\",\"linecolor\":\"white\",\"minorgridcolor\":\"white\",\"startlinecolor\":\"#2a3f5f\"},\"type\":\"carpet\"}],\"table\":[{\"cells\":{\"fill\":{\"color\":\"#EBF0F8\"},\"line\":{\"color\":\"white\"}},\"header\":{\"fill\":{\"color\":\"#C8D4E3\"},\"line\":{\"color\":\"white\"}},\"type\":\"table\"}],\"barpolar\":[{\"marker\":{\"line\":{\"color\":\"#E5ECF6\",\"width\":0.5},\"pattern\":{\"fillmode\":\"overlay\",\"size\":10,\"solidity\":0.2}},\"type\":\"barpolar\"}],\"pie\":[{\"automargin\":true,\"type\":\"pie\"}]},\"layout\":{\"autotypenumbers\":\"strict\",\"colorway\":[\"#636efa\",\"#EF553B\",\"#00cc96\",\"#ab63fa\",\"#FFA15A\",\"#19d3f3\",\"#FF6692\",\"#B6E880\",\"#FF97FF\",\"#FECB52\"],\"font\":{\"color\":\"#2a3f5f\"},\"hovermode\":\"closest\",\"hoverlabel\":{\"align\":\"left\"},\"paper_bgcolor\":\"white\",\"plot_bgcolor\":\"#E5ECF6\",\"polar\":{\"bgcolor\":\"#E5ECF6\",\"angularaxis\":{\"gridcolor\":\"white\",\"linecolor\":\"white\",\"ticks\":\"\"},\"radialaxis\":{\"gridcolor\":\"white\",\"linecolor\":\"white\",\"ticks\":\"\"}},\"ternary\":{\"bgcolor\":\"#E5ECF6\",\"aaxis\":{\"gridcolor\":\"white\",\"linecolor\":\"white\",\"ticks\":\"\"},\"baxis\":{\"gridcolor\":\"white\",\"linecolor\":\"white\",\"ticks\":\"\"},\"caxis\":{\"gridcolor\":\"white\",\"linecolor\":\"white\",\"ticks\":\"\"}},\"coloraxis\":{\"colorbar\":{\"outlinewidth\":0,\"ticks\":\"\"}},\"colorscale\":{\"sequential\":[[0.0,\"#0d0887\"],[0.1111111111111111,\"#46039f\"],[0.2222222222222222,\"#7201a8\"],[0.3333333333333333,\"#9c179e\"],[0.4444444444444444,\"#bd3786\"],[0.5555555555555556,\"#d8576b\"],[0.6666666666666666,\"#ed7953\"],[0.7777777777777778,\"#fb9f3a\"],[0.8888888888888888,\"#fdca26\"],[1.0,\"#f0f921\"]],\"sequentialminus\":[[0.0,\"#0d0887\"],[0.1111111111111111,\"#46039f\"],[0.2222222222222222,\"#7201a8\"],[0.3333333333333333,\"#9c179e\"],[0.4444444444444444,\"#bd3786\"],[0.5555555555555556,\"#d8576b\"],[0.6666666666666666,\"#ed7953\"],[0.7777777777777778,\"#fb9f3a\"],[0.8888888888888888,\"#fdca26\"],[1.0,\"#f0f921\"]],\"diverging\":[[0,\"#8e0152\"],[0.1,\"#c51b7d\"],[0.2,\"#de77ae\"],[0.3,\"#f1b6da\"],[0.4,\"#fde0ef\"],[0.5,\"#f7f7f7\"],[0.6,\"#e6f5d0\"],[0.7,\"#b8e186\"],[0.8,\"#7fbc41\"],[0.9,\"#4d9221\"],[1,\"#276419\"]]},\"xaxis\":{\"gridcolor\":\"white\",\"linecolor\":\"white\",\"ticks\":\"\",\"title\":{\"standoff\":15},\"zerolinecolor\":\"white\",\"automargin\":true,\"zerolinewidth\":2},\"yaxis\":{\"gridcolor\":\"white\",\"linecolor\":\"white\",\"ticks\":\"\",\"title\":{\"standoff\":15},\"zerolinecolor\":\"white\",\"automargin\":true,\"zerolinewidth\":2},\"scene\":{\"xaxis\":{\"backgroundcolor\":\"#E5ECF6\",\"gridcolor\":\"white\",\"linecolor\":\"white\",\"showbackground\":true,\"ticks\":\"\",\"zerolinecolor\":\"white\",\"gridwidth\":2},\"yaxis\":{\"backgroundcolor\":\"#E5ECF6\",\"gridcolor\":\"white\",\"linecolor\":\"white\",\"showbackground\":true,\"ticks\":\"\",\"zerolinecolor\":\"white\",\"gridwidth\":2},\"zaxis\":{\"backgroundcolor\":\"#E5ECF6\",\"gridcolor\":\"white\",\"linecolor\":\"white\",\"showbackground\":true,\"ticks\":\"\",\"zerolinecolor\":\"white\",\"gridwidth\":2}},\"shapedefaults\":{\"line\":{\"color\":\"#2a3f5f\"}},\"annotationdefaults\":{\"arrowcolor\":\"#2a3f5f\",\"arrowhead\":0,\"arrowwidth\":1},\"geo\":{\"bgcolor\":\"white\",\"landcolor\":\"#E5ECF6\",\"subunitcolor\":\"white\",\"showland\":true,\"showlakes\":true,\"lakecolor\":\"white\"},\"title\":{\"x\":0.05},\"mapbox\":{\"style\":\"light\"}}},\"xaxis\":{\"anchor\":\"y\",\"domain\":[0.0,0.14666666666666667],\"title\":{\"text\":\"\"}},\"yaxis\":{\"anchor\":\"x\",\"domain\":[0.0,0.3133333333333333],\"title\":{\"text\":\"\"}},\"xaxis2\":{\"anchor\":\"y2\",\"domain\":[0.16666666666666666,0.31333333333333335],\"matches\":\"x\",\"title\":{\"text\":\"\"}},\"yaxis2\":{\"anchor\":\"x2\",\"domain\":[0.0,0.3133333333333333],\"matches\":\"y\",\"showticklabels\":false,\"title\":{\"text\":\"\"}},\"xaxis3\":{\"anchor\":\"y3\",\"domain\":[0.3333333333333333,0.48],\"matches\":\"x\",\"title\":{\"text\":\"\"}},\"yaxis3\":{\"anchor\":\"x3\",\"domain\":[0.0,0.3133333333333333],\"matches\":\"y\",\"showticklabels\":false,\"title\":{\"text\":\"\"}},\"xaxis4\":{\"anchor\":\"y4\",\"domain\":[0.5,0.6466666666666667],\"matches\":\"x\",\"title\":{\"text\":\"\"}},\"yaxis4\":{\"anchor\":\"x4\",\"domain\":[0.0,0.3133333333333333],\"matches\":\"y\",\"showticklabels\":false,\"title\":{\"text\":\"\"}},\"xaxis5\":{\"anchor\":\"y5\",\"domain\":[0.6666666666666666,0.8133333333333332],\"matches\":\"x\",\"title\":{\"text\":\"\"}},\"yaxis5\":{\"anchor\":\"x5\",\"domain\":[0.0,0.3133333333333333],\"matches\":\"y\",\"showticklabels\":false,\"title\":{\"text\":\"\"}},\"xaxis6\":{\"anchor\":\"y6\",\"domain\":[0.8333333333333334,0.98],\"matches\":\"x\",\"title\":{\"text\":\"\"}},\"yaxis6\":{\"anchor\":\"x6\",\"domain\":[0.0,0.3133333333333333],\"matches\":\"y\",\"showticklabels\":false,\"title\":{\"text\":\"\"}},\"xaxis7\":{\"anchor\":\"y7\",\"domain\":[0.0,0.14666666666666667],\"matches\":\"x\",\"showticklabels\":false,\"title\":{\"text\":\"\"}},\"yaxis7\":{\"anchor\":\"x7\",\"domain\":[0.34333333333333327,0.6566666666666665],\"matches\":\"y\",\"title\":{\"text\":\"\"}},\"xaxis8\":{\"anchor\":\"y8\",\"domain\":[0.16666666666666666,0.31333333333333335],\"matches\":\"x\",\"showticklabels\":false,\"title\":{\"text\":\"\"}},\"yaxis8\":{\"anchor\":\"x8\",\"domain\":[0.34333333333333327,0.6566666666666665],\"matches\":\"y\",\"showticklabels\":false,\"title\":{\"text\":\"\"}},\"xaxis9\":{\"anchor\":\"y9\",\"domain\":[0.3333333333333333,0.48],\"matches\":\"x\",\"showticklabels\":false,\"title\":{\"text\":\"\"}},\"yaxis9\":{\"anchor\":\"x9\",\"domain\":[0.34333333333333327,0.6566666666666665],\"matches\":\"y\",\"showticklabels\":false,\"title\":{\"text\":\"\"}},\"xaxis10\":{\"anchor\":\"y10\",\"domain\":[0.5,0.6466666666666667],\"matches\":\"x\",\"showticklabels\":false,\"title\":{\"text\":\"\"}},\"yaxis10\":{\"anchor\":\"x10\",\"domain\":[0.34333333333333327,0.6566666666666665],\"matches\":\"y\",\"showticklabels\":false,\"title\":{\"text\":\"\"}},\"xaxis11\":{\"anchor\":\"y11\",\"domain\":[0.6666666666666666,0.8133333333333332],\"matches\":\"x\",\"showticklabels\":false,\"title\":{\"text\":\"\"}},\"yaxis11\":{\"anchor\":\"x11\",\"domain\":[0.34333333333333327,0.6566666666666665],\"matches\":\"y\",\"showticklabels\":false,\"title\":{\"text\":\"\"}},\"xaxis12\":{\"anchor\":\"y12\",\"domain\":[0.8333333333333334,0.98],\"matches\":\"x\",\"showticklabels\":false,\"title\":{\"text\":\"\"}},\"yaxis12\":{\"anchor\":\"x12\",\"domain\":[0.34333333333333327,0.6566666666666665],\"matches\":\"y\",\"showticklabels\":false,\"title\":{\"text\":\"\"}},\"xaxis13\":{\"anchor\":\"y13\",\"domain\":[0.0,0.14666666666666667],\"matches\":\"x\",\"showticklabels\":false,\"title\":{\"text\":\"\"}},\"yaxis13\":{\"anchor\":\"x13\",\"domain\":[0.6866666666666665,0.9999999999999998],\"matches\":\"y\",\"title\":{\"text\":\"\"}},\"xaxis14\":{\"anchor\":\"y14\",\"domain\":[0.16666666666666666,0.31333333333333335],\"matches\":\"x\",\"showticklabels\":false,\"title\":{\"text\":\"\"}},\"yaxis14\":{\"anchor\":\"x14\",\"domain\":[0.6866666666666665,0.9999999999999998],\"matches\":\"y\",\"showticklabels\":false,\"title\":{\"text\":\"\"}},\"xaxis15\":{\"anchor\":\"y15\",\"domain\":[0.3333333333333333,0.48],\"matches\":\"x\",\"showticklabels\":false,\"title\":{\"text\":\"\"}},\"yaxis15\":{\"anchor\":\"x15\",\"domain\":[0.6866666666666665,0.9999999999999998],\"matches\":\"y\",\"showticklabels\":false,\"title\":{\"text\":\"\"}},\"xaxis16\":{\"anchor\":\"y16\",\"domain\":[0.5,0.6466666666666667],\"matches\":\"x\",\"showticklabels\":false,\"title\":{\"text\":\"\"}},\"yaxis16\":{\"anchor\":\"x16\",\"domain\":[0.6866666666666665,0.9999999999999998],\"matches\":\"y\",\"showticklabels\":false,\"title\":{\"text\":\"\"}},\"xaxis17\":{\"anchor\":\"y17\",\"domain\":[0.6666666666666666,0.8133333333333332],\"matches\":\"x\",\"showticklabels\":false,\"title\":{\"text\":\"\"}},\"yaxis17\":{\"anchor\":\"x17\",\"domain\":[0.6866666666666665,0.9999999999999998],\"matches\":\"y\",\"showticklabels\":false,\"title\":{\"text\":\"\"}},\"xaxis18\":{\"anchor\":\"y18\",\"domain\":[0.8333333333333334,0.98],\"matches\":\"x\",\"showticklabels\":false,\"title\":{\"text\":\"\"}},\"yaxis18\":{\"anchor\":\"x18\",\"domain\":[0.6866666666666665,0.9999999999999998],\"matches\":\"y\",\"showticklabels\":false,\"title\":{\"text\":\"\"}},\"annotations\":[{\"showarrow\":false,\"text\":\"0.5\",\"x\":0.07333333333333333,\"xanchor\":\"center\",\"xref\":\"paper\",\"y\":0.9999999999999998,\"yanchor\":\"bottom\",\"yref\":\"paper\"},{\"showarrow\":false,\"text\":\"1.0\",\"x\":0.24,\"xanchor\":\"center\",\"xref\":\"paper\",\"y\":0.9999999999999998,\"yanchor\":\"bottom\",\"yref\":\"paper\"},{\"showarrow\":false,\"text\":\"2.0\",\"x\":0.4066666666666666,\"xanchor\":\"center\",\"xref\":\"paper\",\"y\":0.9999999999999998,\"yanchor\":\"bottom\",\"yref\":\"paper\"},{\"showarrow\":false,\"text\":\"5.0\",\"x\":0.5733333333333334,\"xanchor\":\"center\",\"xref\":\"paper\",\"y\":0.9999999999999998,\"yanchor\":\"bottom\",\"yref\":\"paper\"},{\"showarrow\":false,\"text\":\"15.0\",\"x\":0.74,\"xanchor\":\"center\",\"xref\":\"paper\",\"y\":0.9999999999999998,\"yanchor\":\"bottom\",\"yref\":\"paper\"},{\"showarrow\":false,\"text\":\"30.0\",\"x\":0.9066666666666667,\"xanchor\":\"center\",\"xref\":\"paper\",\"y\":0.9999999999999998,\"yanchor\":\"bottom\",\"yref\":\"paper\"},{\"showarrow\":false,\"text\":\"600\",\"textangle\":90,\"x\":0.98,\"xanchor\":\"left\",\"xref\":\"paper\",\"y\":0.15666666666666665,\"yanchor\":\"middle\",\"yref\":\"paper\"},{\"showarrow\":false,\"text\":\"300\",\"textangle\":90,\"x\":0.98,\"xanchor\":\"left\",\"xref\":\"paper\",\"y\":0.4999999999999999,\"yanchor\":\"middle\",\"yref\":\"paper\"},{\"showarrow\":false,\"text\":\"180\",\"textangle\":90,\"x\":0.98,\"xanchor\":\"left\",\"xref\":\"paper\",\"y\":0.8433333333333332,\"yanchor\":\"middle\",\"yref\":\"paper\"},{\"showarrow\":false,\"text\":\"X\",\"x\":\"NYC\",\"xanchor\":\"center\",\"xref\":\"x2\",\"y\":0,\"yanchor\":\"bottom\",\"yref\":\"y2\"},{\"showarrow\":false,\"text\":\"X\",\"x\":\"NYC\",\"xanchor\":\"center\",\"xref\":\"x3\",\"y\":0,\"yanchor\":\"bottom\",\"yref\":\"y3\"},{\"showarrow\":false,\"text\":\"X\",\"x\":\"NYC\",\"xanchor\":\"center\",\"xref\":\"x16\",\"y\":0,\"yanchor\":\"bottom\",\"yref\":\"y16\"},{\"showarrow\":false,\"text\":\"X\",\"x\":\"NYC\",\"xanchor\":\"center\",\"xref\":\"x10\",\"y\":0,\"yanchor\":\"bottom\",\"yref\":\"y10\"},{\"showarrow\":false,\"text\":\"X\",\"x\":\"NYC\",\"xanchor\":\"center\",\"xref\":\"x4\",\"y\":0,\"yanchor\":\"bottom\",\"yref\":\"y4\"},{\"showarrow\":false,\"text\":\"X\",\"x\":\"NYC\",\"xanchor\":\"center\",\"xref\":\"x17\",\"y\":0,\"yanchor\":\"bottom\",\"yref\":\"y17\"},{\"showarrow\":false,\"text\":\"X\",\"x\":\"NYC\",\"xanchor\":\"center\",\"xref\":\"x11\",\"y\":0,\"yanchor\":\"bottom\",\"yref\":\"y11\"},{\"showarrow\":false,\"text\":\"X\",\"x\":\"NYC\",\"xanchor\":\"center\",\"xref\":\"x5\",\"y\":0,\"yanchor\":\"bottom\",\"yref\":\"y5\"},{\"showarrow\":false,\"text\":\"X\",\"x\":\"NYC\",\"xanchor\":\"center\",\"xref\":\"x18\",\"y\":0,\"yanchor\":\"bottom\",\"yref\":\"y18\"},{\"showarrow\":false,\"text\":\"X\",\"x\":\"NYC\",\"xanchor\":\"center\",\"xref\":\"x12\",\"y\":0,\"yanchor\":\"bottom\",\"yref\":\"y12\"},{\"showarrow\":false,\"text\":\"X\",\"x\":\"NYC\",\"xanchor\":\"center\",\"xref\":\"x6\",\"y\":0,\"yanchor\":\"bottom\",\"yref\":\"y6\"},{\"showarrow\":false,\"text\":\"X\",\"x\":\"Man\",\"xanchor\":\"center\",\"xref\":\"x3\",\"y\":0,\"yanchor\":\"bottom\",\"yref\":\"y3\"},{\"showarrow\":false,\"text\":\"X\",\"x\":\"Man\",\"xanchor\":\"center\",\"xref\":\"x16\",\"y\":0,\"yanchor\":\"bottom\",\"yref\":\"y16\"},{\"showarrow\":false,\"text\":\"X\",\"x\":\"Man\",\"xanchor\":\"center\",\"xref\":\"x10\",\"y\":0,\"yanchor\":\"bottom\",\"yref\":\"y10\"},{\"showarrow\":false,\"text\":\"X\",\"x\":\"Man\",\"xanchor\":\"center\",\"xref\":\"x4\",\"y\":0,\"yanchor\":\"bottom\",\"yref\":\"y4\"},{\"showarrow\":false,\"text\":\"X\",\"x\":\"Man\",\"xanchor\":\"center\",\"xref\":\"x17\",\"y\":0,\"yanchor\":\"bottom\",\"yref\":\"y17\"},{\"showarrow\":false,\"text\":\"X\",\"x\":\"Man\",\"xanchor\":\"center\",\"xref\":\"x11\",\"y\":0,\"yanchor\":\"bottom\",\"yref\":\"y11\"},{\"showarrow\":false,\"text\":\"X\",\"x\":\"Man\",\"xanchor\":\"center\",\"xref\":\"x5\",\"y\":0,\"yanchor\":\"bottom\",\"yref\":\"y5\"},{\"showarrow\":false,\"text\":\"X\",\"x\":\"Man\",\"xanchor\":\"center\",\"xref\":\"x18\",\"y\":0,\"yanchor\":\"bottom\",\"yref\":\"y18\"},{\"showarrow\":false,\"text\":\"X\",\"x\":\"Man\",\"xanchor\":\"center\",\"xref\":\"x12\",\"y\":0,\"yanchor\":\"bottom\",\"yref\":\"y12\"},{\"showarrow\":false,\"text\":\"X\",\"x\":\"Man\",\"xanchor\":\"center\",\"xref\":\"x6\",\"y\":0,\"yanchor\":\"bottom\",\"yref\":\"y6\"},{\"showarrow\":false,\"text\":\"X\",\"x\":\"Chic\",\"xanchor\":\"center\",\"xref\":\"x17\",\"y\":0,\"yanchor\":\"bottom\",\"yref\":\"y17\"},{\"showarrow\":false,\"text\":\"X\",\"x\":\"Chic\",\"xanchor\":\"center\",\"xref\":\"x11\",\"y\":0,\"yanchor\":\"bottom\",\"yref\":\"y11\"},{\"showarrow\":false,\"text\":\"X\",\"x\":\"Chic\",\"xanchor\":\"center\",\"xref\":\"x5\",\"y\":0,\"yanchor\":\"bottom\",\"yref\":\"y5\"},{\"showarrow\":false,\"text\":\"X\",\"x\":\"Chic\",\"xanchor\":\"center\",\"xref\":\"x18\",\"y\":0,\"yanchor\":\"bottom\",\"yref\":\"y18\"},{\"showarrow\":false,\"text\":\"X\",\"x\":\"Chic\",\"xanchor\":\"center\",\"xref\":\"x12\",\"y\":0,\"yanchor\":\"bottom\",\"yref\":\"y12\"},{\"showarrow\":false,\"text\":\"X\",\"x\":\"Chic\",\"xanchor\":\"center\",\"xref\":\"x6\",\"y\":0,\"yanchor\":\"bottom\",\"yref\":\"y6\"},{\"showarrow\":false,\"text\":\"X\",\"x\":\"DC\",\"xanchor\":\"center\",\"xref\":\"x6\",\"y\":0,\"yanchor\":\"bottom\",\"yref\":\"y6\"},{\"showarrow\":false,\"text\":\"cost diff between VGA and IH [%]\",\"textangle\":-90,\"x\":-0.05,\"xref\":\"paper\",\"y\":0.5,\"yref\":\"paper\"},{\"showarrow\":false,\"text\":\"instance length [min]\",\"x\":0.5,\"xref\":\"paper\",\"y\":1.12,\"yref\":\"paper\"},{\"showarrow\":false,\"text\":\"maximum delay [s]\",\"textangle\":90,\"x\":1.02,\"xref\":\"paper\",\"y\":0.5,\"yref\":\"paper\"}],\"legend\":{\"tracegroupgap\":0,\"orientation\":\"h\",\"yanchor\":\"bottom\",\"y\":1.06,\"xanchor\":\"right\",\"x\":1,\"bordercolor\":\"Black\",\"borderwidth\":1},\"margin\":{\"t\":35,\"l\":0,\"r\":12,\"b\":0,\"pad\":0},\"barmode\":\"group\",\"height\":400,\"width\":900},                        {\"responsive\": true}                    ).then(function(){\n                            \nvar gd = document.getElementById('6488e4be-76ea-4f0b-99a4-8d8cdbe589bb');\nvar x = new MutationObserver(function (mutations, observer) {{\n        var display = window.getComputedStyle(gd).display;\n        if (!display || display === 'none') {{\n            console.log([gd, 'removed!']);\n            Plotly.purge(gd);\n            observer.disconnect();\n        }}\n}});\n\n// Listen for the removal of the full notebook cells\nvar notebookContainer = gd.closest('#notebook-container');\nif (notebookContainer) {{\n    x.observe(notebookContainer, {childList: true});\n}}\n\n// Listen for the clearing of the current output cell\nvar outputEl = gd.closest('.output');\nif (outputEl) {{\n    x.observe(outputEl, {childList: true});\n}}\n\n                        })                };                });            </script>        </div>"
     },
     "metadata": {},
     "output_type": "display_data"
    }
   ],
   "source": [
    "def plot_cost_ratio(width: int, height: int) -> go.Figure:\n",
    "\n",
    "    fig = px.bar(\n",
    "        vga_ih_diff_df,\n",
    "        x = 'area_short',\n",
    "        y = 'cost_ratio_percent',\n",
    "        barmode='group',\n",
    "        # title = 'Average Cost per Request',\n",
    "        facet_col='duration_minutes',\n",
    "        facet_row='max_delay',\n",
    "        width=width,\n",
    "        height=height,\n",
    "    )\n",
    "\n",
    "    # annotations for missing values\n",
    "    for xi, yi, duration, max_delay in zip(vga_ih_diff_df['area_short'], vga_ih_diff_df['cost_ratio'], vga_ih_diff_df['duration_minutes'], vga_ih_diff_df['max_delay']):\n",
    "        if np.isnan(yi):\n",
    "            axis_ref = vals_to_axis[(duration, max_delay)]\n",
    "            # axis_ref = 11\n",
    "            fig.add_annotation(dict(\n",
    "                x=xi,\n",
    "                y=0,\n",
    "                text=\"X\",\n",
    "                xanchor='center',\n",
    "                yanchor='bottom',\n",
    "                showarrow=False,\n",
    "                xref=f'x{axis_ref}',\n",
    "                yref=f'y{axis_ref}'\n",
    "            ))\n",
    "\n",
    "    # shared axes titles\n",
    "    fig.for_each_yaxis(lambda y: y.update(title = ''))\n",
    "    fig.add_annotation(x=-0.05, y=0.5, text=\"cost diff between VGA and IH [%]\", textangle=-90, xref=\"paper\", yref=\"paper\", showarrow=False)\n",
    "    fig.for_each_xaxis(lambda y: y.update(title = ''))\n",
    "\n",
    "    # faceting annotations\n",
    "    duration_annotation_y = 1 + 0.08 * 600 / height\n",
    "    fig.add_annotation(x=0.5, y=duration_annotation_y, text=\"instance length [min]\",  xref=\"paper\", yref=\"paper\", showarrow=False)\n",
    "    fig.add_annotation(x=1.02, y=0.5, text=\"maximum delay [s]\",  xref=\"paper\", yref=\"paper\", showarrow=False, textangle=90)\n",
    "\n",
    "    # faceting label editing\n",
    "    fig.for_each_annotation(lambda a: a.update(text=a.text.split(\"=\")[-1]))\n",
    "\n",
    "    # legend editing\n",
    "    legend_y = 1 + 0.04 * 600 / height\n",
    "    fig.update_layout(legend=dict(\n",
    "        orientation=\"h\",\n",
    "        yanchor=\"bottom\",\n",
    "        y=legend_y,\n",
    "        xanchor=\"right\",\n",
    "        x=1,\n",
    "        bordercolor=\"Black\",\n",
    "        borderwidth=1,\n",
    "        tracegroupgap=0\n",
    "    ))\n",
    "\n",
    "    # set margins\n",
    "    fig.update_layout(margin=dict(l=0, r=12, t=35, b=0, pad=0))\n",
    "\n",
    "    return fig\n",
    "\n",
    "fig = plot_cost_ratio(900, 400)\n",
    "fig"
   ],
   "metadata": {
    "collapsed": false,
    "ExecuteTime": {
     "end_time": "2023-05-26T08:42:23.447897900Z",
     "start_time": "2023-05-26T08:42:23.042913100Z"
    }
   }
  },
  {
   "cell_type": "code",
   "execution_count": 68,
   "outputs": [],
   "source": [
    "fig.write_image(fig_path / \"cost_ratio-wide.pdf\")"
   ],
   "metadata": {
    "collapsed": false,
    "ExecuteTime": {
     "end_time": "2023-05-26T08:42:38.168352Z",
     "start_time": "2023-05-26T08:42:37.898355700Z"
    }
   }
  },
  {
   "cell_type": "markdown",
   "source": [
    "# Occupancy histogram"
   ],
   "metadata": {
    "collapsed": false
   }
  },
  {
   "cell_type": "code",
   "execution_count": 39,
   "outputs": [
    {
     "name": "stderr",
     "output_type": "stream",
     "text": [
      "10:22:45 [INFO] Loading occupancy stats in C:\\Google Drive\\AIC Experiment Data\\DARP\\ITSC_instance_paper\\Results\\NYC\n",
      "10:22:45 [WARNING] No solution found in folder: C:\\Google Drive\\AIC Experiment Data\\DARP\\ITSC_instance_paper\\Results\\NYC\\start_18-00\\duration_01_min\\max_delay_03_min\\halns\n",
      "10:22:45 [WARNING] No solution found in folder: C:\\Google Drive\\AIC Experiment Data\\DARP\\ITSC_instance_paper\\Results\\NYC\\start_18-00\\duration_01_min\\max_delay_03_min\\halns-ih\n",
      "10:22:45 [INFO] Loading json file from: C:\\Google Drive\\AIC Experiment Data\\DARP\\ITSC_instance_paper\\Results\\NYC\\start_18-00\\duration_01_min\\max_delay_03_min\\ih\\config.yaml-performance.json\n",
      "10:22:45 [INFO] Loading json file from: C:\\Google Drive\\AIC Experiment Data\\DARP\\ITSC_instance_paper\\Results\\NYC\\start_18-00\\duration_01_min\\max_delay_03_min\\ih\\config.yaml-solution.json\n",
      "10:22:45 [INFO] Loading experiment config from C:\\Google Drive\\AIC Experiment Data\\DARP\\ITSC_instance_paper\\Results\\NYC\\start_18-00\\duration_01_min\\max_delay_03_min\\ih\\config.yaml\n",
      "10:22:45 [INFO] Loading instance config from C:\\Google Drive\\AIC Experiment Data\\DARP\\ITSC_instance_paper\\Instances\\NYC\\instances\\start_18-00\\duration_01_min\\max_delay_03_min\\config.yaml\n",
      "10:22:45 [INFO] Loading json file from: C:\\Google Drive\\AIC Experiment Data\\DARP\\ITSC_instance_paper\\Results\\NYC\\start_18-00\\duration_01_min\\max_delay_03_min\\vga\\config.yaml-performance.json\n",
      "10:22:45 [INFO] Loading json file from: C:\\Google Drive\\AIC Experiment Data\\DARP\\ITSC_instance_paper\\Results\\NYC\\start_18-00\\duration_01_min\\max_delay_03_min\\vga\\config.yaml-solution.json\n",
      "10:22:45 [INFO] Loading experiment config from C:\\Google Drive\\AIC Experiment Data\\DARP\\ITSC_instance_paper\\Results\\NYC\\start_18-00\\duration_01_min\\max_delay_03_min\\vga\\config.yaml\n",
      "10:22:45 [INFO] Loading instance config from C:\\Google Drive\\AIC Experiment Data\\DARP\\ITSC_instance_paper\\Instances\\NYC\\instances\\start_18-00\\duration_01_min\\max_delay_03_min\\config.yaml\n",
      "10:22:45 [WARNING] No solution found in folder: C:\\Google Drive\\AIC Experiment Data\\DARP\\ITSC_instance_paper\\Results\\NYC\\start_18-00\\duration_01_min\\max_delay_05_min\\halns\n",
      "10:22:45 [WARNING] No solution found in folder: C:\\Google Drive\\AIC Experiment Data\\DARP\\ITSC_instance_paper\\Results\\NYC\\start_18-00\\duration_01_min\\max_delay_05_min\\halns-ih\n",
      "10:22:45 [INFO] Loading json file from: C:\\Google Drive\\AIC Experiment Data\\DARP\\ITSC_instance_paper\\Results\\NYC\\start_18-00\\duration_01_min\\max_delay_05_min\\ih\\config.yaml-performance.json\n",
      "10:22:45 [INFO] Loading json file from: C:\\Google Drive\\AIC Experiment Data\\DARP\\ITSC_instance_paper\\Results\\NYC\\start_18-00\\duration_01_min\\max_delay_05_min\\ih\\config.yaml-solution.json\n",
      "10:22:45 [INFO] Loading experiment config from C:\\Google Drive\\AIC Experiment Data\\DARP\\ITSC_instance_paper\\Results\\NYC\\start_18-00\\duration_01_min\\max_delay_05_min\\ih\\config.yaml\n",
      "10:22:45 [INFO] Loading instance config from C:\\Google Drive\\AIC Experiment Data\\DARP\\ITSC_instance_paper\\Instances\\NYC\\instances\\start_18-00\\duration_01_min\\max_delay_05_min\\config.yaml\n",
      "10:22:45 [INFO] Loading json file from: C:\\Google Drive\\AIC Experiment Data\\DARP\\ITSC_instance_paper\\Results\\NYC\\start_18-00\\duration_01_min\\max_delay_05_min\\vga\\config.yaml-performance.json\n",
      "10:22:45 [INFO] Loading json file from: C:\\Google Drive\\AIC Experiment Data\\DARP\\ITSC_instance_paper\\Results\\NYC\\start_18-00\\duration_01_min\\max_delay_05_min\\vga\\config.yaml-solution.json\n",
      "10:22:45 [INFO] Loading experiment config from C:\\Google Drive\\AIC Experiment Data\\DARP\\ITSC_instance_paper\\Results\\NYC\\start_18-00\\duration_01_min\\max_delay_05_min\\vga\\config.yaml\n",
      "10:22:45 [INFO] Loading instance config from C:\\Google Drive\\AIC Experiment Data\\DARP\\ITSC_instance_paper\\Instances\\NYC\\instances\\start_18-00\\duration_01_min\\max_delay_05_min\\config.yaml\n",
      "10:22:45 [WARNING] No solution found in folder: C:\\Google Drive\\AIC Experiment Data\\DARP\\ITSC_instance_paper\\Results\\NYC\\start_18-00\\duration_01_min\\max_delay_10_min\\halns\n",
      "10:22:45 [WARNING] No solution found in folder: C:\\Google Drive\\AIC Experiment Data\\DARP\\ITSC_instance_paper\\Results\\NYC\\start_18-00\\duration_01_min\\max_delay_10_min\\halns-ih\n",
      "10:22:45 [INFO] Loading json file from: C:\\Google Drive\\AIC Experiment Data\\DARP\\ITSC_instance_paper\\Results\\NYC\\start_18-00\\duration_01_min\\max_delay_10_min\\ih\\config.yaml-performance.json\n",
      "10:22:45 [INFO] Loading json file from: C:\\Google Drive\\AIC Experiment Data\\DARP\\ITSC_instance_paper\\Results\\NYC\\start_18-00\\duration_01_min\\max_delay_10_min\\ih\\config.yaml-solution.json\n",
      "10:22:45 [INFO] Loading experiment config from C:\\Google Drive\\AIC Experiment Data\\DARP\\ITSC_instance_paper\\Results\\NYC\\start_18-00\\duration_01_min\\max_delay_10_min\\ih\\config.yaml\n",
      "10:22:45 [INFO] Loading instance config from C:\\Google Drive\\AIC Experiment Data\\DARP\\ITSC_instance_paper\\Instances\\NYC\\instances\\start_18-00\\duration_01_min\\max_delay_10_min\\config.yaml\n",
      "10:22:45 [WARNING] No solution found in folder: C:\\Google Drive\\AIC Experiment Data\\DARP\\ITSC_instance_paper\\Results\\NYC\\start_18-00\\duration_01_min\\max_delay_10_min\\vga\n",
      "10:22:45 [WARNING] No solution found in folder: C:\\Google Drive\\AIC Experiment Data\\DARP\\ITSC_instance_paper\\Results\\NYC\\start_18-00\\duration_02_h\\max_delay_03_min\\halns\n",
      "10:22:45 [WARNING] No solution found in folder: C:\\Google Drive\\AIC Experiment Data\\DARP\\ITSC_instance_paper\\Results\\NYC\\start_18-00\\duration_02_h\\max_delay_03_min\\halns-ih\n",
      "10:22:45 [INFO] Loading json file from: C:\\Google Drive\\AIC Experiment Data\\DARP\\ITSC_instance_paper\\Results\\NYC\\start_18-00\\duration_02_h\\max_delay_03_min\\ih\\config.yaml-performance.json\n",
      "10:22:45 [INFO] Loading json file from: C:\\Google Drive\\AIC Experiment Data\\DARP\\ITSC_instance_paper\\Results\\NYC\\start_18-00\\duration_02_h\\max_delay_03_min\\ih\\config.yaml-solution.json\n",
      "10:22:46 [INFO] Loading experiment config from C:\\Google Drive\\AIC Experiment Data\\DARP\\ITSC_instance_paper\\Results\\NYC\\start_18-00\\duration_02_h\\max_delay_03_min\\ih\\config.yaml\n",
      "10:22:46 [INFO] Loading instance config from C:\\Google Drive\\AIC Experiment Data\\DARP\\ITSC_instance_paper\\Instances\\NYC\\instances\\start_18-00\\duration_02_h\\max_delay_03_min\\config.yaml\n",
      "10:22:46 [WARNING] No solution found in folder: C:\\Google Drive\\AIC Experiment Data\\DARP\\ITSC_instance_paper\\Results\\NYC\\start_18-00\\duration_02_h\\max_delay_03_min\\vga\n",
      "10:22:46 [WARNING] No solution found in folder: C:\\Google Drive\\AIC Experiment Data\\DARP\\ITSC_instance_paper\\Results\\NYC\\start_18-00\\duration_02_h\\max_delay_05_min\\halns\n",
      "10:22:46 [WARNING] No solution found in folder: C:\\Google Drive\\AIC Experiment Data\\DARP\\ITSC_instance_paper\\Results\\NYC\\start_18-00\\duration_02_h\\max_delay_05_min\\halns-ih\n",
      "10:22:46 [INFO] Loading json file from: C:\\Google Drive\\AIC Experiment Data\\DARP\\ITSC_instance_paper\\Results\\NYC\\start_18-00\\duration_02_h\\max_delay_05_min\\ih\\config.yaml-performance.json\n",
      "10:22:46 [INFO] Loading json file from: C:\\Google Drive\\AIC Experiment Data\\DARP\\ITSC_instance_paper\\Results\\NYC\\start_18-00\\duration_02_h\\max_delay_05_min\\ih\\config.yaml-solution.json\n",
      "10:22:46 [INFO] Loading experiment config from C:\\Google Drive\\AIC Experiment Data\\DARP\\ITSC_instance_paper\\Results\\NYC\\start_18-00\\duration_02_h\\max_delay_05_min\\ih\\config.yaml\n",
      "10:22:46 [INFO] Loading instance config from C:\\Google Drive\\AIC Experiment Data\\DARP\\ITSC_instance_paper\\Instances\\NYC\\instances\\start_18-00\\duration_02_h\\max_delay_05_min\\config.yaml\n",
      "10:22:46 [WARNING] No solution found in folder: C:\\Google Drive\\AIC Experiment Data\\DARP\\ITSC_instance_paper\\Results\\NYC\\start_18-00\\duration_02_h\\max_delay_05_min\\vga\n",
      "10:22:46 [WARNING] No solution found in folder: C:\\Google Drive\\AIC Experiment Data\\DARP\\ITSC_instance_paper\\Results\\NYC\\start_18-00\\duration_02_h\\max_delay_10_min\\halns\n",
      "10:22:46 [WARNING] No solution found in folder: C:\\Google Drive\\AIC Experiment Data\\DARP\\ITSC_instance_paper\\Results\\NYC\\start_18-00\\duration_02_h\\max_delay_10_min\\halns-ih\n",
      "10:22:46 [INFO] Loading json file from: C:\\Google Drive\\AIC Experiment Data\\DARP\\ITSC_instance_paper\\Results\\NYC\\start_18-00\\duration_02_h\\max_delay_10_min\\ih\\config.yaml-performance.json\n",
      "10:22:46 [INFO] Loading json file from: C:\\Google Drive\\AIC Experiment Data\\DARP\\ITSC_instance_paper\\Results\\NYC\\start_18-00\\duration_02_h\\max_delay_10_min\\ih\\config.yaml-solution.json\n",
      "10:22:47 [INFO] Loading experiment config from C:\\Google Drive\\AIC Experiment Data\\DARP\\ITSC_instance_paper\\Results\\NYC\\start_18-00\\duration_02_h\\max_delay_10_min\\ih\\config.yaml\n",
      "10:22:47 [INFO] Loading instance config from C:\\Google Drive\\AIC Experiment Data\\DARP\\ITSC_instance_paper\\Instances\\NYC\\instances\\start_18-00\\duration_02_h\\max_delay_10_min\\config.yaml\n",
      "10:22:47 [WARNING] No solution found in folder: C:\\Google Drive\\AIC Experiment Data\\DARP\\ITSC_instance_paper\\Results\\NYC\\start_18-00\\duration_02_h\\max_delay_10_min\\vga\n",
      "10:22:47 [WARNING] No solution found in folder: C:\\Google Drive\\AIC Experiment Data\\DARP\\ITSC_instance_paper\\Results\\NYC\\start_18-00\\duration_02_min\\max_delay_03_min\\halns\n",
      "10:22:47 [WARNING] No solution found in folder: C:\\Google Drive\\AIC Experiment Data\\DARP\\ITSC_instance_paper\\Results\\NYC\\start_18-00\\duration_02_min\\max_delay_03_min\\halns-ih\n",
      "10:22:47 [INFO] Loading json file from: C:\\Google Drive\\AIC Experiment Data\\DARP\\ITSC_instance_paper\\Results\\NYC\\start_18-00\\duration_02_min\\max_delay_03_min\\ih\\config.yaml-performance.json\n",
      "10:22:47 [INFO] Loading json file from: C:\\Google Drive\\AIC Experiment Data\\DARP\\ITSC_instance_paper\\Results\\NYC\\start_18-00\\duration_02_min\\max_delay_03_min\\ih\\config.yaml-solution.json\n",
      "10:22:47 [INFO] Loading experiment config from C:\\Google Drive\\AIC Experiment Data\\DARP\\ITSC_instance_paper\\Results\\NYC\\start_18-00\\duration_02_min\\max_delay_03_min\\ih\\config.yaml\n",
      "10:22:47 [INFO] Loading instance config from C:\\Google Drive\\AIC Experiment Data\\DARP\\ITSC_instance_paper\\Instances\\NYC\\instances\\start_18-00\\duration_02_min\\max_delay_03_min\\config.yaml\n",
      "10:22:47 [INFO] Loading json file from: C:\\Google Drive\\AIC Experiment Data\\DARP\\ITSC_instance_paper\\Results\\NYC\\start_18-00\\duration_02_min\\max_delay_03_min\\vga\\config.yaml-performance.json\n",
      "10:22:47 [INFO] Loading json file from: C:\\Google Drive\\AIC Experiment Data\\DARP\\ITSC_instance_paper\\Results\\NYC\\start_18-00\\duration_02_min\\max_delay_03_min\\vga\\config.yaml-solution.json\n",
      "10:22:47 [INFO] Loading experiment config from C:\\Google Drive\\AIC Experiment Data\\DARP\\ITSC_instance_paper\\Results\\NYC\\start_18-00\\duration_02_min\\max_delay_03_min\\vga\\config.yaml\n",
      "10:22:47 [INFO] Loading instance config from C:\\Google Drive\\AIC Experiment Data\\DARP\\ITSC_instance_paper\\Instances\\NYC\\instances\\start_18-00\\duration_02_min\\max_delay_03_min\\config.yaml\n",
      "10:22:47 [WARNING] No solution found in folder: C:\\Google Drive\\AIC Experiment Data\\DARP\\ITSC_instance_paper\\Results\\NYC\\start_18-00\\duration_02_min\\max_delay_05_min\\halns\n",
      "10:22:47 [WARNING] No solution found in folder: C:\\Google Drive\\AIC Experiment Data\\DARP\\ITSC_instance_paper\\Results\\NYC\\start_18-00\\duration_02_min\\max_delay_05_min\\halns-ih\n",
      "10:22:47 [INFO] Loading json file from: C:\\Google Drive\\AIC Experiment Data\\DARP\\ITSC_instance_paper\\Results\\NYC\\start_18-00\\duration_02_min\\max_delay_05_min\\ih\\config.yaml-performance.json\n",
      "10:22:47 [INFO] Loading json file from: C:\\Google Drive\\AIC Experiment Data\\DARP\\ITSC_instance_paper\\Results\\NYC\\start_18-00\\duration_02_min\\max_delay_05_min\\ih\\config.yaml-solution.json\n",
      "10:22:47 [INFO] Loading experiment config from C:\\Google Drive\\AIC Experiment Data\\DARP\\ITSC_instance_paper\\Results\\NYC\\start_18-00\\duration_02_min\\max_delay_05_min\\ih\\config.yaml\n",
      "10:22:47 [INFO] Loading instance config from C:\\Google Drive\\AIC Experiment Data\\DARP\\ITSC_instance_paper\\Instances\\NYC\\instances\\start_18-00\\duration_02_min\\max_delay_05_min\\config.yaml\n",
      "10:22:47 [INFO] Loading json file from: C:\\Google Drive\\AIC Experiment Data\\DARP\\ITSC_instance_paper\\Results\\NYC\\start_18-00\\duration_02_min\\max_delay_05_min\\vga\\config.yaml-performance.json\n",
      "10:22:47 [INFO] Loading json file from: C:\\Google Drive\\AIC Experiment Data\\DARP\\ITSC_instance_paper\\Results\\NYC\\start_18-00\\duration_02_min\\max_delay_05_min\\vga\\config.yaml-solution.json\n",
      "10:22:47 [INFO] Loading experiment config from C:\\Google Drive\\AIC Experiment Data\\DARP\\ITSC_instance_paper\\Results\\NYC\\start_18-00\\duration_02_min\\max_delay_05_min\\vga\\config.yaml\n",
      "10:22:47 [INFO] Loading instance config from C:\\Google Drive\\AIC Experiment Data\\DARP\\ITSC_instance_paper\\Instances\\NYC\\instances\\start_18-00\\duration_02_min\\max_delay_05_min\\config.yaml\n",
      "10:22:47 [WARNING] No solution found in folder: C:\\Google Drive\\AIC Experiment Data\\DARP\\ITSC_instance_paper\\Results\\NYC\\start_18-00\\duration_02_min\\max_delay_10_min\\halns\n",
      "10:22:47 [WARNING] No solution found in folder: C:\\Google Drive\\AIC Experiment Data\\DARP\\ITSC_instance_paper\\Results\\NYC\\start_18-00\\duration_02_min\\max_delay_10_min\\halns-ih\n",
      "10:22:47 [INFO] Loading json file from: C:\\Google Drive\\AIC Experiment Data\\DARP\\ITSC_instance_paper\\Results\\NYC\\start_18-00\\duration_02_min\\max_delay_10_min\\ih\\config.yaml-performance.json\n",
      "10:22:47 [INFO] Loading json file from: C:\\Google Drive\\AIC Experiment Data\\DARP\\ITSC_instance_paper\\Results\\NYC\\start_18-00\\duration_02_min\\max_delay_10_min\\ih\\config.yaml-solution.json\n",
      "10:22:47 [INFO] Loading experiment config from C:\\Google Drive\\AIC Experiment Data\\DARP\\ITSC_instance_paper\\Results\\NYC\\start_18-00\\duration_02_min\\max_delay_10_min\\ih\\config.yaml\n",
      "10:22:47 [INFO] Loading instance config from C:\\Google Drive\\AIC Experiment Data\\DARP\\ITSC_instance_paper\\Instances\\NYC\\instances\\start_18-00\\duration_02_min\\max_delay_10_min\\config.yaml\n",
      "10:22:47 [WARNING] No solution found in folder: C:\\Google Drive\\AIC Experiment Data\\DARP\\ITSC_instance_paper\\Results\\NYC\\start_18-00\\duration_02_min\\max_delay_10_min\\vga\n",
      "10:22:47 [WARNING] No solution found in folder: C:\\Google Drive\\AIC Experiment Data\\DARP\\ITSC_instance_paper\\Results\\NYC\\start_18-00\\duration_05_min\\max_delay_03_min\\halns\n",
      "10:22:47 [WARNING] No solution found in folder: C:\\Google Drive\\AIC Experiment Data\\DARP\\ITSC_instance_paper\\Results\\NYC\\start_18-00\\duration_05_min\\max_delay_03_min\\halns-ih\n",
      "10:22:47 [INFO] Loading json file from: C:\\Google Drive\\AIC Experiment Data\\DARP\\ITSC_instance_paper\\Results\\NYC\\start_18-00\\duration_05_min\\max_delay_03_min\\ih\\config.yaml-performance.json\n",
      "10:22:47 [INFO] Loading json file from: C:\\Google Drive\\AIC Experiment Data\\DARP\\ITSC_instance_paper\\Results\\NYC\\start_18-00\\duration_05_min\\max_delay_03_min\\ih\\config.yaml-solution.json\n",
      "10:22:47 [INFO] Loading experiment config from C:\\Google Drive\\AIC Experiment Data\\DARP\\ITSC_instance_paper\\Results\\NYC\\start_18-00\\duration_05_min\\max_delay_03_min\\ih\\config.yaml\n",
      "10:22:47 [INFO] Loading instance config from C:\\Google Drive\\AIC Experiment Data\\DARP\\ITSC_instance_paper\\Instances\\NYC\\instances\\start_18-00\\duration_05_min\\max_delay_03_min\\config.yaml\n",
      "10:22:47 [WARNING] No solution found in folder: C:\\Google Drive\\AIC Experiment Data\\DARP\\ITSC_instance_paper\\Results\\NYC\\start_18-00\\duration_05_min\\max_delay_03_min\\vga\n",
      "10:22:47 [WARNING] No solution found in folder: C:\\Google Drive\\AIC Experiment Data\\DARP\\ITSC_instance_paper\\Results\\NYC\\start_18-00\\duration_05_min\\max_delay_05_min\\halns\n",
      "10:22:47 [WARNING] No solution found in folder: C:\\Google Drive\\AIC Experiment Data\\DARP\\ITSC_instance_paper\\Results\\NYC\\start_18-00\\duration_05_min\\max_delay_05_min\\halns-ih\n",
      "10:22:47 [INFO] Loading json file from: C:\\Google Drive\\AIC Experiment Data\\DARP\\ITSC_instance_paper\\Results\\NYC\\start_18-00\\duration_05_min\\max_delay_05_min\\ih\\config.yaml-performance.json\n",
      "10:22:47 [INFO] Loading json file from: C:\\Google Drive\\AIC Experiment Data\\DARP\\ITSC_instance_paper\\Results\\NYC\\start_18-00\\duration_05_min\\max_delay_05_min\\ih\\config.yaml-solution.json\n",
      "10:22:47 [INFO] Loading experiment config from C:\\Google Drive\\AIC Experiment Data\\DARP\\ITSC_instance_paper\\Results\\NYC\\start_18-00\\duration_05_min\\max_delay_05_min\\ih\\config.yaml\n",
      "10:22:47 [INFO] Loading instance config from C:\\Google Drive\\AIC Experiment Data\\DARP\\ITSC_instance_paper\\Instances\\NYC\\instances\\start_18-00\\duration_05_min\\max_delay_05_min\\config.yaml\n",
      "10:22:47 [WARNING] No solution found in folder: C:\\Google Drive\\AIC Experiment Data\\DARP\\ITSC_instance_paper\\Results\\NYC\\start_18-00\\duration_05_min\\max_delay_05_min\\vga\n",
      "10:22:47 [WARNING] No solution found in folder: C:\\Google Drive\\AIC Experiment Data\\DARP\\ITSC_instance_paper\\Results\\NYC\\start_18-00\\duration_05_min\\max_delay_10_min\\halns\n",
      "10:22:47 [WARNING] No solution found in folder: C:\\Google Drive\\AIC Experiment Data\\DARP\\ITSC_instance_paper\\Results\\NYC\\start_18-00\\duration_05_min\\max_delay_10_min\\halns-ih\n",
      "10:22:47 [INFO] Loading json file from: C:\\Google Drive\\AIC Experiment Data\\DARP\\ITSC_instance_paper\\Results\\NYC\\start_18-00\\duration_05_min\\max_delay_10_min\\ih\\config.yaml-performance.json\n",
      "10:22:47 [INFO] Loading json file from: C:\\Google Drive\\AIC Experiment Data\\DARP\\ITSC_instance_paper\\Results\\NYC\\start_18-00\\duration_05_min\\max_delay_10_min\\ih\\config.yaml-solution.json\n",
      "10:22:47 [INFO] Loading experiment config from C:\\Google Drive\\AIC Experiment Data\\DARP\\ITSC_instance_paper\\Results\\NYC\\start_18-00\\duration_05_min\\max_delay_10_min\\ih\\config.yaml\n",
      "10:22:47 [INFO] Loading instance config from C:\\Google Drive\\AIC Experiment Data\\DARP\\ITSC_instance_paper\\Instances\\NYC\\instances\\start_18-00\\duration_05_min\\max_delay_10_min\\config.yaml\n",
      "10:22:47 [WARNING] No solution found in folder: C:\\Google Drive\\AIC Experiment Data\\DARP\\ITSC_instance_paper\\Results\\NYC\\start_18-00\\duration_05_min\\max_delay_10_min\\vga\n",
      "10:22:47 [WARNING] No solution found in folder: C:\\Google Drive\\AIC Experiment Data\\DARP\\ITSC_instance_paper\\Results\\NYC\\start_18-00\\duration_15_min\\max_delay_03_min\\halns\n",
      "10:22:47 [WARNING] No solution found in folder: C:\\Google Drive\\AIC Experiment Data\\DARP\\ITSC_instance_paper\\Results\\NYC\\start_18-00\\duration_15_min\\max_delay_03_min\\halns-ih\n",
      "10:22:47 [INFO] Loading json file from: C:\\Google Drive\\AIC Experiment Data\\DARP\\ITSC_instance_paper\\Results\\NYC\\start_18-00\\duration_15_min\\max_delay_03_min\\ih\\config.yaml-performance.json\n",
      "10:22:47 [INFO] Loading json file from: C:\\Google Drive\\AIC Experiment Data\\DARP\\ITSC_instance_paper\\Results\\NYC\\start_18-00\\duration_15_min\\max_delay_03_min\\ih\\config.yaml-solution.json\n",
      "10:22:47 [INFO] Loading experiment config from C:\\Google Drive\\AIC Experiment Data\\DARP\\ITSC_instance_paper\\Results\\NYC\\start_18-00\\duration_15_min\\max_delay_03_min\\ih\\config.yaml\n",
      "10:22:47 [INFO] Loading instance config from C:\\Google Drive\\AIC Experiment Data\\DARP\\ITSC_instance_paper\\Instances\\NYC\\instances\\start_18-00\\duration_15_min\\max_delay_03_min\\config.yaml\n",
      "10:22:48 [WARNING] No solution found in folder: C:\\Google Drive\\AIC Experiment Data\\DARP\\ITSC_instance_paper\\Results\\NYC\\start_18-00\\duration_15_min\\max_delay_03_min\\vga\n",
      "10:22:48 [WARNING] No solution found in folder: C:\\Google Drive\\AIC Experiment Data\\DARP\\ITSC_instance_paper\\Results\\NYC\\start_18-00\\duration_15_min\\max_delay_05_min\\halns\n",
      "10:22:48 [WARNING] No solution found in folder: C:\\Google Drive\\AIC Experiment Data\\DARP\\ITSC_instance_paper\\Results\\NYC\\start_18-00\\duration_15_min\\max_delay_05_min\\halns-ih\n",
      "10:22:48 [INFO] Loading json file from: C:\\Google Drive\\AIC Experiment Data\\DARP\\ITSC_instance_paper\\Results\\NYC\\start_18-00\\duration_15_min\\max_delay_05_min\\ih\\config.yaml-performance.json\n",
      "10:22:48 [INFO] Loading json file from: C:\\Google Drive\\AIC Experiment Data\\DARP\\ITSC_instance_paper\\Results\\NYC\\start_18-00\\duration_15_min\\max_delay_05_min\\ih\\config.yaml-solution.json\n",
      "10:22:48 [INFO] Loading experiment config from C:\\Google Drive\\AIC Experiment Data\\DARP\\ITSC_instance_paper\\Results\\NYC\\start_18-00\\duration_15_min\\max_delay_05_min\\ih\\config.yaml\n",
      "10:22:48 [INFO] Loading instance config from C:\\Google Drive\\AIC Experiment Data\\DARP\\ITSC_instance_paper\\Instances\\NYC\\instances\\start_18-00\\duration_15_min\\max_delay_05_min\\config.yaml\n",
      "10:22:48 [WARNING] No solution found in folder: C:\\Google Drive\\AIC Experiment Data\\DARP\\ITSC_instance_paper\\Results\\NYC\\start_18-00\\duration_15_min\\max_delay_05_min\\vga\n",
      "10:22:48 [WARNING] No solution found in folder: C:\\Google Drive\\AIC Experiment Data\\DARP\\ITSC_instance_paper\\Results\\NYC\\start_18-00\\duration_15_min\\max_delay_10_min\\halns\n",
      "10:22:48 [WARNING] No solution found in folder: C:\\Google Drive\\AIC Experiment Data\\DARP\\ITSC_instance_paper\\Results\\NYC\\start_18-00\\duration_15_min\\max_delay_10_min\\halns-ih\n",
      "10:22:48 [INFO] Loading json file from: C:\\Google Drive\\AIC Experiment Data\\DARP\\ITSC_instance_paper\\Results\\NYC\\start_18-00\\duration_15_min\\max_delay_10_min\\ih\\config.yaml-performance.json\n",
      "10:22:48 [INFO] Loading json file from: C:\\Google Drive\\AIC Experiment Data\\DARP\\ITSC_instance_paper\\Results\\NYC\\start_18-00\\duration_15_min\\max_delay_10_min\\ih\\config.yaml-solution.json\n",
      "10:22:48 [INFO] Loading experiment config from C:\\Google Drive\\AIC Experiment Data\\DARP\\ITSC_instance_paper\\Results\\NYC\\start_18-00\\duration_15_min\\max_delay_10_min\\ih\\config.yaml\n",
      "10:22:48 [INFO] Loading instance config from C:\\Google Drive\\AIC Experiment Data\\DARP\\ITSC_instance_paper\\Instances\\NYC\\instances\\start_18-00\\duration_15_min\\max_delay_10_min\\config.yaml\n",
      "10:22:48 [WARNING] No solution found in folder: C:\\Google Drive\\AIC Experiment Data\\DARP\\ITSC_instance_paper\\Results\\NYC\\start_18-00\\duration_15_min\\max_delay_10_min\\vga\n",
      "10:22:48 [WARNING] No solution found in folder: C:\\Google Drive\\AIC Experiment Data\\DARP\\ITSC_instance_paper\\Results\\NYC\\start_18-00\\duration_16_h\\max_delay_03_min\\halns\n",
      "10:22:48 [WARNING] No solution found in folder: C:\\Google Drive\\AIC Experiment Data\\DARP\\ITSC_instance_paper\\Results\\NYC\\start_18-00\\duration_16_h\\max_delay_03_min\\halns-ih\n",
      "10:22:48 [INFO] Loading json file from: C:\\Google Drive\\AIC Experiment Data\\DARP\\ITSC_instance_paper\\Results\\NYC\\start_18-00\\duration_16_h\\max_delay_03_min\\ih\\config.yaml-performance.json\n",
      "10:22:48 [INFO] Loading json file from: C:\\Google Drive\\AIC Experiment Data\\DARP\\ITSC_instance_paper\\Results\\NYC\\start_18-00\\duration_16_h\\max_delay_03_min\\ih\\config.yaml-solution.json\n",
      "10:22:50 [INFO] Loading experiment config from C:\\Google Drive\\AIC Experiment Data\\DARP\\ITSC_instance_paper\\Results\\NYC\\start_18-00\\duration_16_h\\max_delay_03_min\\ih\\config.yaml\n",
      "10:22:50 [INFO] Loading instance config from C:\\Google Drive\\AIC Experiment Data\\DARP\\ITSC_instance_paper\\Instances\\NYC\\instances\\start_18-00\\duration_16_h\\max_delay_03_min\\config.yaml\n",
      "10:22:50 [WARNING] No solution found in folder: C:\\Google Drive\\AIC Experiment Data\\DARP\\ITSC_instance_paper\\Results\\NYC\\start_18-00\\duration_16_h\\max_delay_03_min\\vga\n",
      "10:22:50 [WARNING] No solution found in folder: C:\\Google Drive\\AIC Experiment Data\\DARP\\ITSC_instance_paper\\Results\\NYC\\start_18-00\\duration_16_h\\max_delay_05_min\\halns\n",
      "10:22:50 [WARNING] No solution found in folder: C:\\Google Drive\\AIC Experiment Data\\DARP\\ITSC_instance_paper\\Results\\NYC\\start_18-00\\duration_16_h\\max_delay_05_min\\halns-ih\n",
      "10:22:50 [INFO] Loading json file from: C:\\Google Drive\\AIC Experiment Data\\DARP\\ITSC_instance_paper\\Results\\NYC\\start_18-00\\duration_16_h\\max_delay_05_min\\ih\\config.yaml-performance.json\n",
      "10:22:50 [INFO] Loading json file from: C:\\Google Drive\\AIC Experiment Data\\DARP\\ITSC_instance_paper\\Results\\NYC\\start_18-00\\duration_16_h\\max_delay_05_min\\ih\\config.yaml-solution.json\n",
      "10:22:52 [INFO] Loading experiment config from C:\\Google Drive\\AIC Experiment Data\\DARP\\ITSC_instance_paper\\Results\\NYC\\start_18-00\\duration_16_h\\max_delay_05_min\\ih\\config.yaml\n",
      "10:22:52 [INFO] Loading instance config from C:\\Google Drive\\AIC Experiment Data\\DARP\\ITSC_instance_paper\\Instances\\NYC\\instances\\start_18-00\\duration_16_h\\max_delay_05_min\\config.yaml\n",
      "10:22:52 [WARNING] No solution found in folder: C:\\Google Drive\\AIC Experiment Data\\DARP\\ITSC_instance_paper\\Results\\NYC\\start_18-00\\duration_16_h\\max_delay_05_min\\vga\n",
      "10:22:52 [WARNING] No solution found in folder: C:\\Google Drive\\AIC Experiment Data\\DARP\\ITSC_instance_paper\\Results\\NYC\\start_18-00\\duration_16_h\\max_delay_10_min\\halns\n",
      "10:22:52 [WARNING] No solution found in folder: C:\\Google Drive\\AIC Experiment Data\\DARP\\ITSC_instance_paper\\Results\\NYC\\start_18-00\\duration_16_h\\max_delay_10_min\\halns-ih\n",
      "10:22:52 [INFO] Loading json file from: C:\\Google Drive\\AIC Experiment Data\\DARP\\ITSC_instance_paper\\Results\\NYC\\start_18-00\\duration_16_h\\max_delay_10_min\\ih\\config.yaml-performance.json\n",
      "10:22:52 [INFO] Loading json file from: C:\\Google Drive\\AIC Experiment Data\\DARP\\ITSC_instance_paper\\Results\\NYC\\start_18-00\\duration_16_h\\max_delay_10_min\\ih\\config.yaml-solution.json\n",
      "10:22:54 [INFO] Loading experiment config from C:\\Google Drive\\AIC Experiment Data\\DARP\\ITSC_instance_paper\\Results\\NYC\\start_18-00\\duration_16_h\\max_delay_10_min\\ih\\config.yaml\n",
      "10:22:54 [INFO] Loading instance config from C:\\Google Drive\\AIC Experiment Data\\DARP\\ITSC_instance_paper\\Instances\\NYC\\instances\\start_18-00\\duration_16_h\\max_delay_10_min\\config.yaml\n",
      "10:22:54 [WARNING] No solution found in folder: C:\\Google Drive\\AIC Experiment Data\\DARP\\ITSC_instance_paper\\Results\\NYC\\start_18-00\\duration_16_h\\max_delay_10_min\\vga\n",
      "10:22:54 [WARNING] No solution found in folder: C:\\Google Drive\\AIC Experiment Data\\DARP\\ITSC_instance_paper\\Results\\NYC\\start_18-00\\duration_30_min\\max_delay_03_min\\halns\n",
      "10:22:54 [WARNING] No solution found in folder: C:\\Google Drive\\AIC Experiment Data\\DARP\\ITSC_instance_paper\\Results\\NYC\\start_18-00\\duration_30_min\\max_delay_03_min\\halns-ih\n",
      "10:22:54 [INFO] Loading json file from: C:\\Google Drive\\AIC Experiment Data\\DARP\\ITSC_instance_paper\\Results\\NYC\\start_18-00\\duration_30_min\\max_delay_03_min\\ih\\config.yaml-performance.json\n",
      "10:22:54 [INFO] Loading json file from: C:\\Google Drive\\AIC Experiment Data\\DARP\\ITSC_instance_paper\\Results\\NYC\\start_18-00\\duration_30_min\\max_delay_03_min\\ih\\config.yaml-solution.json\n",
      "10:22:54 [INFO] Loading experiment config from C:\\Google Drive\\AIC Experiment Data\\DARP\\ITSC_instance_paper\\Results\\NYC\\start_18-00\\duration_30_min\\max_delay_03_min\\ih\\config.yaml\n",
      "10:22:54 [INFO] Loading instance config from C:\\Google Drive\\AIC Experiment Data\\DARP\\ITSC_instance_paper\\Instances\\NYC\\instances\\start_18-00\\duration_30_min\\max_delay_03_min\\config.yaml\n",
      "10:22:54 [WARNING] No solution found in folder: C:\\Google Drive\\AIC Experiment Data\\DARP\\ITSC_instance_paper\\Results\\NYC\\start_18-00\\duration_30_min\\max_delay_03_min\\vga\n",
      "10:22:54 [WARNING] No solution found in folder: C:\\Google Drive\\AIC Experiment Data\\DARP\\ITSC_instance_paper\\Results\\NYC\\start_18-00\\duration_30_min\\max_delay_05_min\\halns\n",
      "10:22:54 [WARNING] No solution found in folder: C:\\Google Drive\\AIC Experiment Data\\DARP\\ITSC_instance_paper\\Results\\NYC\\start_18-00\\duration_30_min\\max_delay_05_min\\halns-ih\n",
      "10:22:54 [INFO] Loading json file from: C:\\Google Drive\\AIC Experiment Data\\DARP\\ITSC_instance_paper\\Results\\NYC\\start_18-00\\duration_30_min\\max_delay_05_min\\ih\\config.yaml-performance.json\n",
      "10:22:54 [INFO] Loading json file from: C:\\Google Drive\\AIC Experiment Data\\DARP\\ITSC_instance_paper\\Results\\NYC\\start_18-00\\duration_30_min\\max_delay_05_min\\ih\\config.yaml-solution.json\n",
      "10:22:54 [INFO] Loading experiment config from C:\\Google Drive\\AIC Experiment Data\\DARP\\ITSC_instance_paper\\Results\\NYC\\start_18-00\\duration_30_min\\max_delay_05_min\\ih\\config.yaml\n",
      "10:22:54 [INFO] Loading instance config from C:\\Google Drive\\AIC Experiment Data\\DARP\\ITSC_instance_paper\\Instances\\NYC\\instances\\start_18-00\\duration_30_min\\max_delay_05_min\\config.yaml\n",
      "10:22:54 [WARNING] No solution found in folder: C:\\Google Drive\\AIC Experiment Data\\DARP\\ITSC_instance_paper\\Results\\NYC\\start_18-00\\duration_30_min\\max_delay_05_min\\vga\n",
      "10:22:54 [WARNING] No solution found in folder: C:\\Google Drive\\AIC Experiment Data\\DARP\\ITSC_instance_paper\\Results\\NYC\\start_18-00\\duration_30_min\\max_delay_10_min\\halns\n",
      "10:22:54 [WARNING] No solution found in folder: C:\\Google Drive\\AIC Experiment Data\\DARP\\ITSC_instance_paper\\Results\\NYC\\start_18-00\\duration_30_min\\max_delay_10_min\\halns-ih\n",
      "10:22:54 [INFO] Loading json file from: C:\\Google Drive\\AIC Experiment Data\\DARP\\ITSC_instance_paper\\Results\\NYC\\start_18-00\\duration_30_min\\max_delay_10_min\\ih\\config.yaml-performance.json\n",
      "10:22:54 [INFO] Loading json file from: C:\\Google Drive\\AIC Experiment Data\\DARP\\ITSC_instance_paper\\Results\\NYC\\start_18-00\\duration_30_min\\max_delay_10_min\\ih\\config.yaml-solution.json\n",
      "10:22:54 [INFO] Loading experiment config from C:\\Google Drive\\AIC Experiment Data\\DARP\\ITSC_instance_paper\\Results\\NYC\\start_18-00\\duration_30_min\\max_delay_10_min\\ih\\config.yaml\n",
      "10:22:54 [INFO] Loading instance config from C:\\Google Drive\\AIC Experiment Data\\DARP\\ITSC_instance_paper\\Instances\\NYC\\instances\\start_18-00\\duration_30_min\\max_delay_10_min\\config.yaml\n",
      "10:22:54 [WARNING] No solution found in folder: C:\\Google Drive\\AIC Experiment Data\\DARP\\ITSC_instance_paper\\Results\\NYC\\start_18-00\\duration_30_min\\max_delay_10_min\\vga\n",
      "10:22:54 [WARNING] No solution found in folder: C:\\Google Drive\\AIC Experiment Data\\DARP\\ITSC_instance_paper\\Results\\NYC\\start_18-00\\duration_30_s\\max_delay_03_min\\halns\n",
      "10:22:54 [WARNING] No solution found in folder: C:\\Google Drive\\AIC Experiment Data\\DARP\\ITSC_instance_paper\\Results\\NYC\\start_18-00\\duration_30_s\\max_delay_03_min\\halns-ih\n",
      "10:22:54 [INFO] Loading json file from: C:\\Google Drive\\AIC Experiment Data\\DARP\\ITSC_instance_paper\\Results\\NYC\\start_18-00\\duration_30_s\\max_delay_03_min\\ih\\config.yaml-performance.json\n",
      "10:22:54 [INFO] Loading json file from: C:\\Google Drive\\AIC Experiment Data\\DARP\\ITSC_instance_paper\\Results\\NYC\\start_18-00\\duration_30_s\\max_delay_03_min\\ih\\config.yaml-solution.json\n",
      "10:22:54 [INFO] Loading experiment config from C:\\Google Drive\\AIC Experiment Data\\DARP\\ITSC_instance_paper\\Results\\NYC\\start_18-00\\duration_30_s\\max_delay_03_min\\ih\\config.yaml\n",
      "10:22:54 [INFO] Loading instance config from C:\\Google Drive\\AIC Experiment Data\\DARP\\ITSC_instance_paper\\Instances\\NYC\\instances\\start_18-00\\duration_30_s\\max_delay_03_min\\config.yaml\n",
      "10:22:54 [INFO] Loading json file from: C:\\Google Drive\\AIC Experiment Data\\DARP\\ITSC_instance_paper\\Results\\NYC\\start_18-00\\duration_30_s\\max_delay_03_min\\vga\\config.yaml-performance.json\n",
      "10:22:54 [INFO] Loading json file from: C:\\Google Drive\\AIC Experiment Data\\DARP\\ITSC_instance_paper\\Results\\NYC\\start_18-00\\duration_30_s\\max_delay_03_min\\vga\\config.yaml-solution.json\n",
      "10:22:54 [INFO] Loading experiment config from C:\\Google Drive\\AIC Experiment Data\\DARP\\ITSC_instance_paper\\Results\\NYC\\start_18-00\\duration_30_s\\max_delay_03_min\\vga\\config.yaml\n",
      "10:22:54 [INFO] Loading instance config from C:\\Google Drive\\AIC Experiment Data\\DARP\\ITSC_instance_paper\\Instances\\NYC\\instances\\start_18-00\\duration_30_s\\max_delay_03_min\\config.yaml\n",
      "10:22:54 [WARNING] No solution found in folder: C:\\Google Drive\\AIC Experiment Data\\DARP\\ITSC_instance_paper\\Results\\NYC\\start_18-00\\duration_30_s\\max_delay_05_min\\halns\n",
      "10:22:54 [WARNING] No solution found in folder: C:\\Google Drive\\AIC Experiment Data\\DARP\\ITSC_instance_paper\\Results\\NYC\\start_18-00\\duration_30_s\\max_delay_05_min\\halns-ih\n",
      "10:22:54 [INFO] Loading json file from: C:\\Google Drive\\AIC Experiment Data\\DARP\\ITSC_instance_paper\\Results\\NYC\\start_18-00\\duration_30_s\\max_delay_05_min\\ih\\config.yaml-performance.json\n",
      "10:22:54 [INFO] Loading json file from: C:\\Google Drive\\AIC Experiment Data\\DARP\\ITSC_instance_paper\\Results\\NYC\\start_18-00\\duration_30_s\\max_delay_05_min\\ih\\config.yaml-solution.json\n",
      "10:22:54 [INFO] Loading experiment config from C:\\Google Drive\\AIC Experiment Data\\DARP\\ITSC_instance_paper\\Results\\NYC\\start_18-00\\duration_30_s\\max_delay_05_min\\ih\\config.yaml\n",
      "10:22:54 [INFO] Loading instance config from C:\\Google Drive\\AIC Experiment Data\\DARP\\ITSC_instance_paper\\Instances\\NYC\\instances\\start_18-00\\duration_30_s\\max_delay_05_min\\config.yaml\n",
      "10:22:54 [INFO] Loading json file from: C:\\Google Drive\\AIC Experiment Data\\DARP\\ITSC_instance_paper\\Results\\NYC\\start_18-00\\duration_30_s\\max_delay_05_min\\vga\\config.yaml-performance.json\n",
      "10:22:54 [INFO] Loading json file from: C:\\Google Drive\\AIC Experiment Data\\DARP\\ITSC_instance_paper\\Results\\NYC\\start_18-00\\duration_30_s\\max_delay_05_min\\vga\\config.yaml-solution.json\n",
      "10:22:54 [INFO] Loading experiment config from C:\\Google Drive\\AIC Experiment Data\\DARP\\ITSC_instance_paper\\Results\\NYC\\start_18-00\\duration_30_s\\max_delay_05_min\\vga\\config.yaml\n",
      "10:22:54 [INFO] Loading instance config from C:\\Google Drive\\AIC Experiment Data\\DARP\\ITSC_instance_paper\\Instances\\NYC\\instances\\start_18-00\\duration_30_s\\max_delay_05_min\\config.yaml\n",
      "10:22:54 [WARNING] No solution found in folder: C:\\Google Drive\\AIC Experiment Data\\DARP\\ITSC_instance_paper\\Results\\NYC\\start_18-00\\duration_30_s\\max_delay_10_min\\halns\n",
      "10:22:54 [WARNING] No solution found in folder: C:\\Google Drive\\AIC Experiment Data\\DARP\\ITSC_instance_paper\\Results\\NYC\\start_18-00\\duration_30_s\\max_delay_10_min\\halns-ih\n",
      "10:22:54 [INFO] Loading json file from: C:\\Google Drive\\AIC Experiment Data\\DARP\\ITSC_instance_paper\\Results\\NYC\\start_18-00\\duration_30_s\\max_delay_10_min\\ih\\config.yaml-performance.json\n",
      "10:22:54 [INFO] Loading json file from: C:\\Google Drive\\AIC Experiment Data\\DARP\\ITSC_instance_paper\\Results\\NYC\\start_18-00\\duration_30_s\\max_delay_10_min\\ih\\config.yaml-solution.json\n",
      "10:22:54 [INFO] Loading experiment config from C:\\Google Drive\\AIC Experiment Data\\DARP\\ITSC_instance_paper\\Results\\NYC\\start_18-00\\duration_30_s\\max_delay_10_min\\ih\\config.yaml\n",
      "10:22:54 [INFO] Loading instance config from C:\\Google Drive\\AIC Experiment Data\\DARP\\ITSC_instance_paper\\Instances\\NYC\\instances\\start_18-00\\duration_30_s\\max_delay_10_min\\config.yaml\n",
      "10:22:54 [INFO] Loading json file from: C:\\Google Drive\\AIC Experiment Data\\DARP\\ITSC_instance_paper\\Results\\NYC\\start_18-00\\duration_30_s\\max_delay_10_min\\vga\\config.yaml-performance.json\n",
      "10:22:54 [INFO] Loading json file from: C:\\Google Drive\\AIC Experiment Data\\DARP\\ITSC_instance_paper\\Results\\NYC\\start_18-00\\duration_30_s\\max_delay_10_min\\vga\\config.yaml-solution.json\n",
      "10:22:54 [INFO] Loading experiment config from C:\\Google Drive\\AIC Experiment Data\\DARP\\ITSC_instance_paper\\Results\\NYC\\start_18-00\\duration_30_s\\max_delay_10_min\\vga\\config.yaml\n",
      "10:22:54 [INFO] Loading instance config from C:\\Google Drive\\AIC Experiment Data\\DARP\\ITSC_instance_paper\\Instances\\NYC\\instances\\start_18-00\\duration_30_s\\max_delay_10_min\\config.yaml\n",
      "10:22:54 [INFO] Loading occupancy stats in C:\\Google Drive\\AIC Experiment Data\\DARP\\ITSC_instance_paper\\Results\\Manhattan\n",
      "10:22:54 [WARNING] No solution found in folder: C:\\Google Drive\\AIC Experiment Data\\DARP\\ITSC_instance_paper\\Results\\Manhattan\\start_18-00\\duration_01_min\\max_delay_03_min\\halns\n",
      "10:22:54 [WARNING] No solution found in folder: C:\\Google Drive\\AIC Experiment Data\\DARP\\ITSC_instance_paper\\Results\\Manhattan\\start_18-00\\duration_01_min\\max_delay_03_min\\halns-ih\n",
      "10:22:54 [INFO] Loading json file from: C:\\Google Drive\\AIC Experiment Data\\DARP\\ITSC_instance_paper\\Results\\Manhattan\\start_18-00\\duration_01_min\\max_delay_03_min\\ih\\config.yaml-performance.json\n",
      "10:22:54 [INFO] Loading json file from: C:\\Google Drive\\AIC Experiment Data\\DARP\\ITSC_instance_paper\\Results\\Manhattan\\start_18-00\\duration_01_min\\max_delay_03_min\\ih\\config.yaml-solution.json\n",
      "10:22:54 [INFO] Loading experiment config from C:\\Google Drive\\AIC Experiment Data\\DARP\\ITSC_instance_paper\\Results\\Manhattan\\start_18-00\\duration_01_min\\max_delay_03_min\\ih\\config.yaml\n",
      "10:22:54 [INFO] Loading instance config from C:\\Google Drive\\AIC Experiment Data\\DARP\\ITSC_instance_paper\\Instances\\Manhattan\\instances\\start_18-00\\duration_01_min\\max_delay_03_min\\config.yaml\n",
      "10:22:54 [INFO] Loading json file from: C:\\Google Drive\\AIC Experiment Data\\DARP\\ITSC_instance_paper\\Results\\Manhattan\\start_18-00\\duration_01_min\\max_delay_03_min\\vga\\config.yaml-performance.json\n",
      "10:22:54 [INFO] Loading json file from: C:\\Google Drive\\AIC Experiment Data\\DARP\\ITSC_instance_paper\\Results\\Manhattan\\start_18-00\\duration_01_min\\max_delay_03_min\\vga\\config.yaml-solution.json\n",
      "10:22:54 [INFO] Loading experiment config from C:\\Google Drive\\AIC Experiment Data\\DARP\\ITSC_instance_paper\\Results\\Manhattan\\start_18-00\\duration_01_min\\max_delay_03_min\\vga\\config.yaml\n",
      "10:22:54 [INFO] Loading instance config from C:\\Google Drive\\AIC Experiment Data\\DARP\\ITSC_instance_paper\\Instances\\Manhattan\\instances\\start_18-00\\duration_01_min\\max_delay_03_min\\config.yaml\n",
      "10:22:54 [WARNING] No solution found in folder: C:\\Google Drive\\AIC Experiment Data\\DARP\\ITSC_instance_paper\\Results\\Manhattan\\start_18-00\\duration_01_min\\max_delay_05_min\\halns\n",
      "10:22:54 [WARNING] No solution found in folder: C:\\Google Drive\\AIC Experiment Data\\DARP\\ITSC_instance_paper\\Results\\Manhattan\\start_18-00\\duration_01_min\\max_delay_05_min\\halns-ih\n",
      "10:22:54 [INFO] Loading json file from: C:\\Google Drive\\AIC Experiment Data\\DARP\\ITSC_instance_paper\\Results\\Manhattan\\start_18-00\\duration_01_min\\max_delay_05_min\\ih\\config.yaml-performance.json\n",
      "10:22:54 [INFO] Loading json file from: C:\\Google Drive\\AIC Experiment Data\\DARP\\ITSC_instance_paper\\Results\\Manhattan\\start_18-00\\duration_01_min\\max_delay_05_min\\ih\\config.yaml-solution.json\n",
      "10:22:54 [INFO] Loading experiment config from C:\\Google Drive\\AIC Experiment Data\\DARP\\ITSC_instance_paper\\Results\\Manhattan\\start_18-00\\duration_01_min\\max_delay_05_min\\ih\\config.yaml\n",
      "10:22:54 [INFO] Loading instance config from C:\\Google Drive\\AIC Experiment Data\\DARP\\ITSC_instance_paper\\Instances\\Manhattan\\instances\\start_18-00\\duration_01_min\\max_delay_05_min\\config.yaml\n",
      "10:22:54 [INFO] Loading json file from: C:\\Google Drive\\AIC Experiment Data\\DARP\\ITSC_instance_paper\\Results\\Manhattan\\start_18-00\\duration_01_min\\max_delay_05_min\\vga\\config.yaml-performance.json\n",
      "10:22:54 [INFO] Loading json file from: C:\\Google Drive\\AIC Experiment Data\\DARP\\ITSC_instance_paper\\Results\\Manhattan\\start_18-00\\duration_01_min\\max_delay_05_min\\vga\\config.yaml-solution.json\n",
      "10:22:54 [INFO] Loading experiment config from C:\\Google Drive\\AIC Experiment Data\\DARP\\ITSC_instance_paper\\Results\\Manhattan\\start_18-00\\duration_01_min\\max_delay_05_min\\vga\\config.yaml\n",
      "10:22:54 [INFO] Loading instance config from C:\\Google Drive\\AIC Experiment Data\\DARP\\ITSC_instance_paper\\Instances\\Manhattan\\instances\\start_18-00\\duration_01_min\\max_delay_05_min\\config.yaml\n",
      "10:22:54 [WARNING] No solution found in folder: C:\\Google Drive\\AIC Experiment Data\\DARP\\ITSC_instance_paper\\Results\\Manhattan\\start_18-00\\duration_01_min\\max_delay_10_min\\halns\n",
      "10:22:54 [WARNING] No solution found in folder: C:\\Google Drive\\AIC Experiment Data\\DARP\\ITSC_instance_paper\\Results\\Manhattan\\start_18-00\\duration_01_min\\max_delay_10_min\\halns-ih\n",
      "10:22:54 [INFO] Loading json file from: C:\\Google Drive\\AIC Experiment Data\\DARP\\ITSC_instance_paper\\Results\\Manhattan\\start_18-00\\duration_01_min\\max_delay_10_min\\ih\\config.yaml-performance.json\n",
      "10:22:54 [INFO] Loading json file from: C:\\Google Drive\\AIC Experiment Data\\DARP\\ITSC_instance_paper\\Results\\Manhattan\\start_18-00\\duration_01_min\\max_delay_10_min\\ih\\config.yaml-solution.json\n",
      "10:22:54 [INFO] Loading experiment config from C:\\Google Drive\\AIC Experiment Data\\DARP\\ITSC_instance_paper\\Results\\Manhattan\\start_18-00\\duration_01_min\\max_delay_10_min\\ih\\config.yaml\n",
      "10:22:54 [INFO] Loading instance config from C:\\Google Drive\\AIC Experiment Data\\DARP\\ITSC_instance_paper\\Instances\\Manhattan\\instances\\start_18-00\\duration_01_min\\max_delay_10_min\\config.yaml\n",
      "10:22:54 [INFO] Loading json file from: C:\\Google Drive\\AIC Experiment Data\\DARP\\ITSC_instance_paper\\Results\\Manhattan\\start_18-00\\duration_01_min\\max_delay_10_min\\vga\\config.yaml-performance.json\n",
      "10:22:54 [INFO] Loading json file from: C:\\Google Drive\\AIC Experiment Data\\DARP\\ITSC_instance_paper\\Results\\Manhattan\\start_18-00\\duration_01_min\\max_delay_10_min\\vga\\config.yaml-solution.json\n",
      "10:22:54 [INFO] Loading experiment config from C:\\Google Drive\\AIC Experiment Data\\DARP\\ITSC_instance_paper\\Results\\Manhattan\\start_18-00\\duration_01_min\\max_delay_10_min\\vga\\config.yaml\n",
      "10:22:54 [INFO] Loading instance config from C:\\Google Drive\\AIC Experiment Data\\DARP\\ITSC_instance_paper\\Instances\\Manhattan\\instances\\start_18-00\\duration_01_min\\max_delay_10_min\\config.yaml\n",
      "10:22:54 [WARNING] No solution found in folder: C:\\Google Drive\\AIC Experiment Data\\DARP\\ITSC_instance_paper\\Results\\Manhattan\\start_18-00\\duration_02_h\\max_delay_03_min\\halns\n",
      "10:22:54 [WARNING] No solution found in folder: C:\\Google Drive\\AIC Experiment Data\\DARP\\ITSC_instance_paper\\Results\\Manhattan\\start_18-00\\duration_02_h\\max_delay_03_min\\halns-ih\n",
      "10:22:54 [INFO] Loading json file from: C:\\Google Drive\\AIC Experiment Data\\DARP\\ITSC_instance_paper\\Results\\Manhattan\\start_18-00\\duration_02_h\\max_delay_03_min\\ih\\config.yaml-performance.json\n",
      "10:22:54 [INFO] Loading json file from: C:\\Google Drive\\AIC Experiment Data\\DARP\\ITSC_instance_paper\\Results\\Manhattan\\start_18-00\\duration_02_h\\max_delay_03_min\\ih\\config.yaml-solution.json\n",
      "10:22:55 [INFO] Loading experiment config from C:\\Google Drive\\AIC Experiment Data\\DARP\\ITSC_instance_paper\\Results\\Manhattan\\start_18-00\\duration_02_h\\max_delay_03_min\\ih\\config.yaml\n",
      "10:22:55 [INFO] Loading instance config from C:\\Google Drive\\AIC Experiment Data\\DARP\\ITSC_instance_paper\\Instances\\Manhattan\\instances\\start_18-00\\duration_02_h\\max_delay_03_min\\config.yaml\n",
      "10:22:55 [WARNING] No solution found in folder: C:\\Google Drive\\AIC Experiment Data\\DARP\\ITSC_instance_paper\\Results\\Manhattan\\start_18-00\\duration_02_h\\max_delay_03_min\\vga\n",
      "10:22:55 [WARNING] No solution found in folder: C:\\Google Drive\\AIC Experiment Data\\DARP\\ITSC_instance_paper\\Results\\Manhattan\\start_18-00\\duration_02_h\\max_delay_05_min\\halns\n",
      "10:22:55 [WARNING] No solution found in folder: C:\\Google Drive\\AIC Experiment Data\\DARP\\ITSC_instance_paper\\Results\\Manhattan\\start_18-00\\duration_02_h\\max_delay_05_min\\halns-ih\n",
      "10:22:55 [INFO] Loading json file from: C:\\Google Drive\\AIC Experiment Data\\DARP\\ITSC_instance_paper\\Results\\Manhattan\\start_18-00\\duration_02_h\\max_delay_05_min\\ih\\config.yaml-performance.json\n",
      "10:22:55 [INFO] Loading json file from: C:\\Google Drive\\AIC Experiment Data\\DARP\\ITSC_instance_paper\\Results\\Manhattan\\start_18-00\\duration_02_h\\max_delay_05_min\\ih\\config.yaml-solution.json\n",
      "10:22:55 [INFO] Loading experiment config from C:\\Google Drive\\AIC Experiment Data\\DARP\\ITSC_instance_paper\\Results\\Manhattan\\start_18-00\\duration_02_h\\max_delay_05_min\\ih\\config.yaml\n",
      "10:22:55 [INFO] Loading instance config from C:\\Google Drive\\AIC Experiment Data\\DARP\\ITSC_instance_paper\\Instances\\Manhattan\\instances\\start_18-00\\duration_02_h\\max_delay_05_min\\config.yaml\n",
      "10:22:55 [WARNING] No solution found in folder: C:\\Google Drive\\AIC Experiment Data\\DARP\\ITSC_instance_paper\\Results\\Manhattan\\start_18-00\\duration_02_h\\max_delay_05_min\\vga\n",
      "10:22:55 [WARNING] No solution found in folder: C:\\Google Drive\\AIC Experiment Data\\DARP\\ITSC_instance_paper\\Results\\Manhattan\\start_18-00\\duration_02_h\\max_delay_10_min\\halns\n",
      "10:22:55 [WARNING] No solution found in folder: C:\\Google Drive\\AIC Experiment Data\\DARP\\ITSC_instance_paper\\Results\\Manhattan\\start_18-00\\duration_02_h\\max_delay_10_min\\halns-ih\n",
      "10:22:55 [INFO] Loading json file from: C:\\Google Drive\\AIC Experiment Data\\DARP\\ITSC_instance_paper\\Results\\Manhattan\\start_18-00\\duration_02_h\\max_delay_10_min\\ih\\config.yaml-performance.json\n",
      "10:22:55 [INFO] Loading json file from: C:\\Google Drive\\AIC Experiment Data\\DARP\\ITSC_instance_paper\\Results\\Manhattan\\start_18-00\\duration_02_h\\max_delay_10_min\\ih\\config.yaml-solution.json\n",
      "10:22:56 [INFO] Loading experiment config from C:\\Google Drive\\AIC Experiment Data\\DARP\\ITSC_instance_paper\\Results\\Manhattan\\start_18-00\\duration_02_h\\max_delay_10_min\\ih\\config.yaml\n",
      "10:22:56 [INFO] Loading instance config from C:\\Google Drive\\AIC Experiment Data\\DARP\\ITSC_instance_paper\\Instances\\Manhattan\\instances\\start_18-00\\duration_02_h\\max_delay_10_min\\config.yaml\n",
      "10:22:56 [WARNING] No solution found in folder: C:\\Google Drive\\AIC Experiment Data\\DARP\\ITSC_instance_paper\\Results\\Manhattan\\start_18-00\\duration_02_h\\max_delay_10_min\\vga\n",
      "10:22:56 [WARNING] No solution found in folder: C:\\Google Drive\\AIC Experiment Data\\DARP\\ITSC_instance_paper\\Results\\Manhattan\\start_18-00\\duration_02_min\\max_delay_03_min\\halns\n",
      "10:22:56 [WARNING] No solution found in folder: C:\\Google Drive\\AIC Experiment Data\\DARP\\ITSC_instance_paper\\Results\\Manhattan\\start_18-00\\duration_02_min\\max_delay_03_min\\halns-ih\n",
      "10:22:56 [INFO] Loading json file from: C:\\Google Drive\\AIC Experiment Data\\DARP\\ITSC_instance_paper\\Results\\Manhattan\\start_18-00\\duration_02_min\\max_delay_03_min\\ih\\config.yaml-performance.json\n",
      "10:22:56 [INFO] Loading json file from: C:\\Google Drive\\AIC Experiment Data\\DARP\\ITSC_instance_paper\\Results\\Manhattan\\start_18-00\\duration_02_min\\max_delay_03_min\\ih\\config.yaml-solution.json\n",
      "10:22:56 [INFO] Loading experiment config from C:\\Google Drive\\AIC Experiment Data\\DARP\\ITSC_instance_paper\\Results\\Manhattan\\start_18-00\\duration_02_min\\max_delay_03_min\\ih\\config.yaml\n",
      "10:22:56 [INFO] Loading instance config from C:\\Google Drive\\AIC Experiment Data\\DARP\\ITSC_instance_paper\\Instances\\Manhattan\\instances\\start_18-00\\duration_02_min\\max_delay_03_min\\config.yaml\n",
      "10:22:56 [INFO] Loading json file from: C:\\Google Drive\\AIC Experiment Data\\DARP\\ITSC_instance_paper\\Results\\Manhattan\\start_18-00\\duration_02_min\\max_delay_03_min\\vga\\config.yaml-performance.json\n",
      "10:22:56 [INFO] Loading json file from: C:\\Google Drive\\AIC Experiment Data\\DARP\\ITSC_instance_paper\\Results\\Manhattan\\start_18-00\\duration_02_min\\max_delay_03_min\\vga\\config.yaml-solution.json\n",
      "10:22:56 [INFO] Loading experiment config from C:\\Google Drive\\AIC Experiment Data\\DARP\\ITSC_instance_paper\\Results\\Manhattan\\start_18-00\\duration_02_min\\max_delay_03_min\\vga\\config.yaml\n",
      "10:22:56 [INFO] Loading instance config from C:\\Google Drive\\AIC Experiment Data\\DARP\\ITSC_instance_paper\\Instances\\Manhattan\\instances\\start_18-00\\duration_02_min\\max_delay_03_min\\config.yaml\n",
      "10:22:56 [WARNING] No solution found in folder: C:\\Google Drive\\AIC Experiment Data\\DARP\\ITSC_instance_paper\\Results\\Manhattan\\start_18-00\\duration_02_min\\max_delay_05_min\\halns\n",
      "10:22:56 [WARNING] No solution found in folder: C:\\Google Drive\\AIC Experiment Data\\DARP\\ITSC_instance_paper\\Results\\Manhattan\\start_18-00\\duration_02_min\\max_delay_05_min\\halns-ih\n",
      "10:22:56 [INFO] Loading json file from: C:\\Google Drive\\AIC Experiment Data\\DARP\\ITSC_instance_paper\\Results\\Manhattan\\start_18-00\\duration_02_min\\max_delay_05_min\\ih\\config.yaml-performance.json\n",
      "10:22:56 [INFO] Loading json file from: C:\\Google Drive\\AIC Experiment Data\\DARP\\ITSC_instance_paper\\Results\\Manhattan\\start_18-00\\duration_02_min\\max_delay_05_min\\ih\\config.yaml-solution.json\n",
      "10:22:56 [INFO] Loading experiment config from C:\\Google Drive\\AIC Experiment Data\\DARP\\ITSC_instance_paper\\Results\\Manhattan\\start_18-00\\duration_02_min\\max_delay_05_min\\ih\\config.yaml\n",
      "10:22:56 [INFO] Loading instance config from C:\\Google Drive\\AIC Experiment Data\\DARP\\ITSC_instance_paper\\Instances\\Manhattan\\instances\\start_18-00\\duration_02_min\\max_delay_05_min\\config.yaml\n",
      "10:22:56 [INFO] Loading json file from: C:\\Google Drive\\AIC Experiment Data\\DARP\\ITSC_instance_paper\\Results\\Manhattan\\start_18-00\\duration_02_min\\max_delay_05_min\\vga\\config.yaml-performance.json\n",
      "10:22:56 [INFO] Loading json file from: C:\\Google Drive\\AIC Experiment Data\\DARP\\ITSC_instance_paper\\Results\\Manhattan\\start_18-00\\duration_02_min\\max_delay_05_min\\vga\\config.yaml-solution.json\n",
      "10:22:56 [INFO] Loading experiment config from C:\\Google Drive\\AIC Experiment Data\\DARP\\ITSC_instance_paper\\Results\\Manhattan\\start_18-00\\duration_02_min\\max_delay_05_min\\vga\\config.yaml\n",
      "10:22:56 [INFO] Loading instance config from C:\\Google Drive\\AIC Experiment Data\\DARP\\ITSC_instance_paper\\Instances\\Manhattan\\instances\\start_18-00\\duration_02_min\\max_delay_05_min\\config.yaml\n",
      "10:22:56 [WARNING] No solution found in folder: C:\\Google Drive\\AIC Experiment Data\\DARP\\ITSC_instance_paper\\Results\\Manhattan\\start_18-00\\duration_02_min\\max_delay_10_min\\halns\n",
      "10:22:56 [WARNING] No solution found in folder: C:\\Google Drive\\AIC Experiment Data\\DARP\\ITSC_instance_paper\\Results\\Manhattan\\start_18-00\\duration_02_min\\max_delay_10_min\\halns-ih\n",
      "10:22:56 [INFO] Loading json file from: C:\\Google Drive\\AIC Experiment Data\\DARP\\ITSC_instance_paper\\Results\\Manhattan\\start_18-00\\duration_02_min\\max_delay_10_min\\ih\\config.yaml-performance.json\n",
      "10:22:56 [INFO] Loading json file from: C:\\Google Drive\\AIC Experiment Data\\DARP\\ITSC_instance_paper\\Results\\Manhattan\\start_18-00\\duration_02_min\\max_delay_10_min\\ih\\config.yaml-solution.json\n",
      "10:22:56 [INFO] Loading experiment config from C:\\Google Drive\\AIC Experiment Data\\DARP\\ITSC_instance_paper\\Results\\Manhattan\\start_18-00\\duration_02_min\\max_delay_10_min\\ih\\config.yaml\n",
      "10:22:56 [INFO] Loading instance config from C:\\Google Drive\\AIC Experiment Data\\DARP\\ITSC_instance_paper\\Instances\\Manhattan\\instances\\start_18-00\\duration_02_min\\max_delay_10_min\\config.yaml\n",
      "10:22:56 [WARNING] No solution found in folder: C:\\Google Drive\\AIC Experiment Data\\DARP\\ITSC_instance_paper\\Results\\Manhattan\\start_18-00\\duration_02_min\\max_delay_10_min\\vga\n",
      "10:22:56 [WARNING] No solution found in folder: C:\\Google Drive\\AIC Experiment Data\\DARP\\ITSC_instance_paper\\Results\\Manhattan\\start_18-00\\duration_05_min\\max_delay_03_min\\halns\n",
      "10:22:56 [WARNING] No solution found in folder: C:\\Google Drive\\AIC Experiment Data\\DARP\\ITSC_instance_paper\\Results\\Manhattan\\start_18-00\\duration_05_min\\max_delay_03_min\\halns-ih\n",
      "10:22:56 [INFO] Loading json file from: C:\\Google Drive\\AIC Experiment Data\\DARP\\ITSC_instance_paper\\Results\\Manhattan\\start_18-00\\duration_05_min\\max_delay_03_min\\ih\\config.yaml-performance.json\n",
      "10:22:56 [INFO] Loading json file from: C:\\Google Drive\\AIC Experiment Data\\DARP\\ITSC_instance_paper\\Results\\Manhattan\\start_18-00\\duration_05_min\\max_delay_03_min\\ih\\config.yaml-solution.json\n",
      "10:22:56 [INFO] Loading experiment config from C:\\Google Drive\\AIC Experiment Data\\DARP\\ITSC_instance_paper\\Results\\Manhattan\\start_18-00\\duration_05_min\\max_delay_03_min\\ih\\config.yaml\n",
      "10:22:56 [INFO] Loading instance config from C:\\Google Drive\\AIC Experiment Data\\DARP\\ITSC_instance_paper\\Instances\\Manhattan\\instances\\start_18-00\\duration_05_min\\max_delay_03_min\\config.yaml\n",
      "10:22:56 [WARNING] No solution found in folder: C:\\Google Drive\\AIC Experiment Data\\DARP\\ITSC_instance_paper\\Results\\Manhattan\\start_18-00\\duration_05_min\\max_delay_03_min\\vga\n",
      "10:22:56 [WARNING] No solution found in folder: C:\\Google Drive\\AIC Experiment Data\\DARP\\ITSC_instance_paper\\Results\\Manhattan\\start_18-00\\duration_05_min\\max_delay_05_min\\halns\n",
      "10:22:56 [WARNING] No solution found in folder: C:\\Google Drive\\AIC Experiment Data\\DARP\\ITSC_instance_paper\\Results\\Manhattan\\start_18-00\\duration_05_min\\max_delay_05_min\\halns-ih\n",
      "10:22:56 [INFO] Loading json file from: C:\\Google Drive\\AIC Experiment Data\\DARP\\ITSC_instance_paper\\Results\\Manhattan\\start_18-00\\duration_05_min\\max_delay_05_min\\ih\\config.yaml-performance.json\n",
      "10:22:56 [INFO] Loading json file from: C:\\Google Drive\\AIC Experiment Data\\DARP\\ITSC_instance_paper\\Results\\Manhattan\\start_18-00\\duration_05_min\\max_delay_05_min\\ih\\config.yaml-solution.json\n",
      "10:22:56 [INFO] Loading experiment config from C:\\Google Drive\\AIC Experiment Data\\DARP\\ITSC_instance_paper\\Results\\Manhattan\\start_18-00\\duration_05_min\\max_delay_05_min\\ih\\config.yaml\n",
      "10:22:56 [INFO] Loading instance config from C:\\Google Drive\\AIC Experiment Data\\DARP\\ITSC_instance_paper\\Instances\\Manhattan\\instances\\start_18-00\\duration_05_min\\max_delay_05_min\\config.yaml\n",
      "10:22:56 [WARNING] No solution found in folder: C:\\Google Drive\\AIC Experiment Data\\DARP\\ITSC_instance_paper\\Results\\Manhattan\\start_18-00\\duration_05_min\\max_delay_05_min\\vga\n",
      "10:22:56 [WARNING] No solution found in folder: C:\\Google Drive\\AIC Experiment Data\\DARP\\ITSC_instance_paper\\Results\\Manhattan\\start_18-00\\duration_05_min\\max_delay_10_min\\halns\n",
      "10:22:56 [WARNING] No solution found in folder: C:\\Google Drive\\AIC Experiment Data\\DARP\\ITSC_instance_paper\\Results\\Manhattan\\start_18-00\\duration_05_min\\max_delay_10_min\\halns-ih\n",
      "10:22:56 [INFO] Loading json file from: C:\\Google Drive\\AIC Experiment Data\\DARP\\ITSC_instance_paper\\Results\\Manhattan\\start_18-00\\duration_05_min\\max_delay_10_min\\ih\\config.yaml-performance.json\n",
      "10:22:56 [INFO] Loading json file from: C:\\Google Drive\\AIC Experiment Data\\DARP\\ITSC_instance_paper\\Results\\Manhattan\\start_18-00\\duration_05_min\\max_delay_10_min\\ih\\config.yaml-solution.json\n",
      "10:22:56 [INFO] Loading experiment config from C:\\Google Drive\\AIC Experiment Data\\DARP\\ITSC_instance_paper\\Results\\Manhattan\\start_18-00\\duration_05_min\\max_delay_10_min\\ih\\config.yaml\n",
      "10:22:56 [INFO] Loading instance config from C:\\Google Drive\\AIC Experiment Data\\DARP\\ITSC_instance_paper\\Instances\\Manhattan\\instances\\start_18-00\\duration_05_min\\max_delay_10_min\\config.yaml\n",
      "10:22:56 [WARNING] No solution found in folder: C:\\Google Drive\\AIC Experiment Data\\DARP\\ITSC_instance_paper\\Results\\Manhattan\\start_18-00\\duration_05_min\\max_delay_10_min\\vga\n",
      "10:22:56 [WARNING] No solution found in folder: C:\\Google Drive\\AIC Experiment Data\\DARP\\ITSC_instance_paper\\Results\\Manhattan\\start_18-00\\duration_15_min\\max_delay_03_min\\halns\n",
      "10:22:56 [WARNING] No solution found in folder: C:\\Google Drive\\AIC Experiment Data\\DARP\\ITSC_instance_paper\\Results\\Manhattan\\start_18-00\\duration_15_min\\max_delay_03_min\\halns-ih\n",
      "10:22:56 [INFO] Loading json file from: C:\\Google Drive\\AIC Experiment Data\\DARP\\ITSC_instance_paper\\Results\\Manhattan\\start_18-00\\duration_15_min\\max_delay_03_min\\ih\\config.yaml-performance.json\n",
      "10:22:56 [INFO] Loading json file from: C:\\Google Drive\\AIC Experiment Data\\DARP\\ITSC_instance_paper\\Results\\Manhattan\\start_18-00\\duration_15_min\\max_delay_03_min\\ih\\config.yaml-solution.json\n",
      "10:22:56 [INFO] Loading experiment config from C:\\Google Drive\\AIC Experiment Data\\DARP\\ITSC_instance_paper\\Results\\Manhattan\\start_18-00\\duration_15_min\\max_delay_03_min\\ih\\config.yaml\n",
      "10:22:56 [INFO] Loading instance config from C:\\Google Drive\\AIC Experiment Data\\DARP\\ITSC_instance_paper\\Instances\\Manhattan\\instances\\start_18-00\\duration_15_min\\max_delay_03_min\\config.yaml\n",
      "10:22:56 [WARNING] No solution found in folder: C:\\Google Drive\\AIC Experiment Data\\DARP\\ITSC_instance_paper\\Results\\Manhattan\\start_18-00\\duration_15_min\\max_delay_03_min\\vga\n",
      "10:22:56 [WARNING] No solution found in folder: C:\\Google Drive\\AIC Experiment Data\\DARP\\ITSC_instance_paper\\Results\\Manhattan\\start_18-00\\duration_15_min\\max_delay_05_min\\halns\n",
      "10:22:56 [WARNING] No solution found in folder: C:\\Google Drive\\AIC Experiment Data\\DARP\\ITSC_instance_paper\\Results\\Manhattan\\start_18-00\\duration_15_min\\max_delay_05_min\\halns-ih\n",
      "10:22:56 [INFO] Loading json file from: C:\\Google Drive\\AIC Experiment Data\\DARP\\ITSC_instance_paper\\Results\\Manhattan\\start_18-00\\duration_15_min\\max_delay_05_min\\ih\\config.yaml-performance.json\n",
      "10:22:56 [INFO] Loading json file from: C:\\Google Drive\\AIC Experiment Data\\DARP\\ITSC_instance_paper\\Results\\Manhattan\\start_18-00\\duration_15_min\\max_delay_05_min\\ih\\config.yaml-solution.json\n",
      "10:22:56 [INFO] Loading experiment config from C:\\Google Drive\\AIC Experiment Data\\DARP\\ITSC_instance_paper\\Results\\Manhattan\\start_18-00\\duration_15_min\\max_delay_05_min\\ih\\config.yaml\n",
      "10:22:56 [INFO] Loading instance config from C:\\Google Drive\\AIC Experiment Data\\DARP\\ITSC_instance_paper\\Instances\\Manhattan\\instances\\start_18-00\\duration_15_min\\max_delay_05_min\\config.yaml\n",
      "10:22:56 [WARNING] No solution found in folder: C:\\Google Drive\\AIC Experiment Data\\DARP\\ITSC_instance_paper\\Results\\Manhattan\\start_18-00\\duration_15_min\\max_delay_05_min\\vga\n",
      "10:22:56 [WARNING] No solution found in folder: C:\\Google Drive\\AIC Experiment Data\\DARP\\ITSC_instance_paper\\Results\\Manhattan\\start_18-00\\duration_15_min\\max_delay_10_min\\halns\n",
      "10:22:56 [WARNING] No solution found in folder: C:\\Google Drive\\AIC Experiment Data\\DARP\\ITSC_instance_paper\\Results\\Manhattan\\start_18-00\\duration_15_min\\max_delay_10_min\\halns-ih\n",
      "10:22:56 [INFO] Loading json file from: C:\\Google Drive\\AIC Experiment Data\\DARP\\ITSC_instance_paper\\Results\\Manhattan\\start_18-00\\duration_15_min\\max_delay_10_min\\ih\\config.yaml-performance.json\n",
      "10:22:56 [INFO] Loading json file from: C:\\Google Drive\\AIC Experiment Data\\DARP\\ITSC_instance_paper\\Results\\Manhattan\\start_18-00\\duration_15_min\\max_delay_10_min\\ih\\config.yaml-solution.json\n",
      "10:22:56 [INFO] Loading experiment config from C:\\Google Drive\\AIC Experiment Data\\DARP\\ITSC_instance_paper\\Results\\Manhattan\\start_18-00\\duration_15_min\\max_delay_10_min\\ih\\config.yaml\n",
      "10:22:56 [INFO] Loading instance config from C:\\Google Drive\\AIC Experiment Data\\DARP\\ITSC_instance_paper\\Instances\\Manhattan\\instances\\start_18-00\\duration_15_min\\max_delay_10_min\\config.yaml\n",
      "10:22:56 [WARNING] No solution found in folder: C:\\Google Drive\\AIC Experiment Data\\DARP\\ITSC_instance_paper\\Results\\Manhattan\\start_18-00\\duration_15_min\\max_delay_10_min\\vga\n",
      "10:22:56 [WARNING] No solution found in folder: C:\\Google Drive\\AIC Experiment Data\\DARP\\ITSC_instance_paper\\Results\\Manhattan\\start_18-00\\duration_16_h\\max_delay_03_min\\halns\n",
      "10:22:56 [WARNING] No solution found in folder: C:\\Google Drive\\AIC Experiment Data\\DARP\\ITSC_instance_paper\\Results\\Manhattan\\start_18-00\\duration_16_h\\max_delay_03_min\\halns-ih\n",
      "10:22:56 [INFO] Loading json file from: C:\\Google Drive\\AIC Experiment Data\\DARP\\ITSC_instance_paper\\Results\\Manhattan\\start_18-00\\duration_16_h\\max_delay_03_min\\ih\\config.yaml-performance.json\n",
      "10:22:56 [INFO] Loading json file from: C:\\Google Drive\\AIC Experiment Data\\DARP\\ITSC_instance_paper\\Results\\Manhattan\\start_18-00\\duration_16_h\\max_delay_03_min\\ih\\config.yaml-solution.json\n",
      "10:22:57 [INFO] Loading experiment config from C:\\Google Drive\\AIC Experiment Data\\DARP\\ITSC_instance_paper\\Results\\Manhattan\\start_18-00\\duration_16_h\\max_delay_03_min\\ih\\config.yaml\n",
      "10:22:57 [INFO] Loading instance config from C:\\Google Drive\\AIC Experiment Data\\DARP\\ITSC_instance_paper\\Instances\\Manhattan\\instances\\start_18-00\\duration_16_h\\max_delay_03_min\\config.yaml\n",
      "10:22:57 [WARNING] No solution found in folder: C:\\Google Drive\\AIC Experiment Data\\DARP\\ITSC_instance_paper\\Results\\Manhattan\\start_18-00\\duration_16_h\\max_delay_03_min\\vga\n",
      "10:22:57 [WARNING] No solution found in folder: C:\\Google Drive\\AIC Experiment Data\\DARP\\ITSC_instance_paper\\Results\\Manhattan\\start_18-00\\duration_16_h\\max_delay_05_min\\halns\n",
      "10:22:57 [WARNING] No solution found in folder: C:\\Google Drive\\AIC Experiment Data\\DARP\\ITSC_instance_paper\\Results\\Manhattan\\start_18-00\\duration_16_h\\max_delay_05_min\\halns-ih\n",
      "10:22:57 [INFO] Loading json file from: C:\\Google Drive\\AIC Experiment Data\\DARP\\ITSC_instance_paper\\Results\\Manhattan\\start_18-00\\duration_16_h\\max_delay_05_min\\ih\\config.yaml-performance.json\n",
      "10:22:57 [INFO] Loading json file from: C:\\Google Drive\\AIC Experiment Data\\DARP\\ITSC_instance_paper\\Results\\Manhattan\\start_18-00\\duration_16_h\\max_delay_05_min\\ih\\config.yaml-solution.json\n",
      "10:22:58 [INFO] Loading experiment config from C:\\Google Drive\\AIC Experiment Data\\DARP\\ITSC_instance_paper\\Results\\Manhattan\\start_18-00\\duration_16_h\\max_delay_05_min\\ih\\config.yaml\n",
      "10:22:58 [INFO] Loading instance config from C:\\Google Drive\\AIC Experiment Data\\DARP\\ITSC_instance_paper\\Instances\\Manhattan\\instances\\start_18-00\\duration_16_h\\max_delay_05_min\\config.yaml\n",
      "10:22:58 [WARNING] No solution found in folder: C:\\Google Drive\\AIC Experiment Data\\DARP\\ITSC_instance_paper\\Results\\Manhattan\\start_18-00\\duration_16_h\\max_delay_05_min\\vga\n",
      "10:22:58 [WARNING] No solution found in folder: C:\\Google Drive\\AIC Experiment Data\\DARP\\ITSC_instance_paper\\Results\\Manhattan\\start_18-00\\duration_16_h\\max_delay_10_min\\halns\n",
      "10:22:58 [WARNING] No solution found in folder: C:\\Google Drive\\AIC Experiment Data\\DARP\\ITSC_instance_paper\\Results\\Manhattan\\start_18-00\\duration_16_h\\max_delay_10_min\\halns-ih\n",
      "10:22:58 [INFO] Loading json file from: C:\\Google Drive\\AIC Experiment Data\\DARP\\ITSC_instance_paper\\Results\\Manhattan\\start_18-00\\duration_16_h\\max_delay_10_min\\ih\\config.yaml-performance.json\n",
      "10:22:58 [INFO] Loading json file from: C:\\Google Drive\\AIC Experiment Data\\DARP\\ITSC_instance_paper\\Results\\Manhattan\\start_18-00\\duration_16_h\\max_delay_10_min\\ih\\config.yaml-solution.json\n",
      "10:22:59 [INFO] Loading experiment config from C:\\Google Drive\\AIC Experiment Data\\DARP\\ITSC_instance_paper\\Results\\Manhattan\\start_18-00\\duration_16_h\\max_delay_10_min\\ih\\config.yaml\n",
      "10:22:59 [INFO] Loading instance config from C:\\Google Drive\\AIC Experiment Data\\DARP\\ITSC_instance_paper\\Instances\\Manhattan\\instances\\start_18-00\\duration_16_h\\max_delay_10_min\\config.yaml\n",
      "10:22:59 [WARNING] No solution found in folder: C:\\Google Drive\\AIC Experiment Data\\DARP\\ITSC_instance_paper\\Results\\Manhattan\\start_18-00\\duration_16_h\\max_delay_10_min\\vga\n",
      "10:22:59 [WARNING] No solution found in folder: C:\\Google Drive\\AIC Experiment Data\\DARP\\ITSC_instance_paper\\Results\\Manhattan\\start_18-00\\duration_30_min\\max_delay_03_min\\halns\n",
      "10:22:59 [WARNING] No solution found in folder: C:\\Google Drive\\AIC Experiment Data\\DARP\\ITSC_instance_paper\\Results\\Manhattan\\start_18-00\\duration_30_min\\max_delay_03_min\\halns-ih\n",
      "10:22:59 [INFO] Loading json file from: C:\\Google Drive\\AIC Experiment Data\\DARP\\ITSC_instance_paper\\Results\\Manhattan\\start_18-00\\duration_30_min\\max_delay_03_min\\ih\\config.yaml-performance.json\n",
      "10:22:59 [INFO] Loading json file from: C:\\Google Drive\\AIC Experiment Data\\DARP\\ITSC_instance_paper\\Results\\Manhattan\\start_18-00\\duration_30_min\\max_delay_03_min\\ih\\config.yaml-solution.json\n",
      "10:22:59 [INFO] Loading experiment config from C:\\Google Drive\\AIC Experiment Data\\DARP\\ITSC_instance_paper\\Results\\Manhattan\\start_18-00\\duration_30_min\\max_delay_03_min\\ih\\config.yaml\n",
      "10:22:59 [INFO] Loading instance config from C:\\Google Drive\\AIC Experiment Data\\DARP\\ITSC_instance_paper\\Instances\\Manhattan\\instances\\start_18-00\\duration_30_min\\max_delay_03_min\\config.yaml\n",
      "10:22:59 [WARNING] No solution found in folder: C:\\Google Drive\\AIC Experiment Data\\DARP\\ITSC_instance_paper\\Results\\Manhattan\\start_18-00\\duration_30_min\\max_delay_03_min\\vga\n",
      "10:22:59 [WARNING] No solution found in folder: C:\\Google Drive\\AIC Experiment Data\\DARP\\ITSC_instance_paper\\Results\\Manhattan\\start_18-00\\duration_30_min\\max_delay_05_min\\halns\n",
      "10:22:59 [WARNING] No solution found in folder: C:\\Google Drive\\AIC Experiment Data\\DARP\\ITSC_instance_paper\\Results\\Manhattan\\start_18-00\\duration_30_min\\max_delay_05_min\\halns-ih\n",
      "10:22:59 [INFO] Loading json file from: C:\\Google Drive\\AIC Experiment Data\\DARP\\ITSC_instance_paper\\Results\\Manhattan\\start_18-00\\duration_30_min\\max_delay_05_min\\ih\\config.yaml-performance.json\n",
      "10:22:59 [INFO] Loading json file from: C:\\Google Drive\\AIC Experiment Data\\DARP\\ITSC_instance_paper\\Results\\Manhattan\\start_18-00\\duration_30_min\\max_delay_05_min\\ih\\config.yaml-solution.json\n",
      "10:22:59 [INFO] Loading experiment config from C:\\Google Drive\\AIC Experiment Data\\DARP\\ITSC_instance_paper\\Results\\Manhattan\\start_18-00\\duration_30_min\\max_delay_05_min\\ih\\config.yaml\n",
      "10:22:59 [INFO] Loading instance config from C:\\Google Drive\\AIC Experiment Data\\DARP\\ITSC_instance_paper\\Instances\\Manhattan\\instances\\start_18-00\\duration_30_min\\max_delay_05_min\\config.yaml\n",
      "10:22:59 [WARNING] No solution found in folder: C:\\Google Drive\\AIC Experiment Data\\DARP\\ITSC_instance_paper\\Results\\Manhattan\\start_18-00\\duration_30_min\\max_delay_05_min\\vga\n",
      "10:22:59 [WARNING] No solution found in folder: C:\\Google Drive\\AIC Experiment Data\\DARP\\ITSC_instance_paper\\Results\\Manhattan\\start_18-00\\duration_30_min\\max_delay_10_min\\halns\n",
      "10:22:59 [WARNING] No solution found in folder: C:\\Google Drive\\AIC Experiment Data\\DARP\\ITSC_instance_paper\\Results\\Manhattan\\start_18-00\\duration_30_min\\max_delay_10_min\\halns-ih\n",
      "10:22:59 [INFO] Loading json file from: C:\\Google Drive\\AIC Experiment Data\\DARP\\ITSC_instance_paper\\Results\\Manhattan\\start_18-00\\duration_30_min\\max_delay_10_min\\ih\\config.yaml-performance.json\n",
      "10:22:59 [INFO] Loading json file from: C:\\Google Drive\\AIC Experiment Data\\DARP\\ITSC_instance_paper\\Results\\Manhattan\\start_18-00\\duration_30_min\\max_delay_10_min\\ih\\config.yaml-solution.json\n",
      "10:22:59 [INFO] Loading experiment config from C:\\Google Drive\\AIC Experiment Data\\DARP\\ITSC_instance_paper\\Results\\Manhattan\\start_18-00\\duration_30_min\\max_delay_10_min\\ih\\config.yaml\n",
      "10:22:59 [INFO] Loading instance config from C:\\Google Drive\\AIC Experiment Data\\DARP\\ITSC_instance_paper\\Instances\\Manhattan\\instances\\start_18-00\\duration_30_min\\max_delay_10_min\\config.yaml\n",
      "10:22:59 [WARNING] No solution found in folder: C:\\Google Drive\\AIC Experiment Data\\DARP\\ITSC_instance_paper\\Results\\Manhattan\\start_18-00\\duration_30_min\\max_delay_10_min\\vga\n",
      "10:22:59 [WARNING] No solution found in folder: C:\\Google Drive\\AIC Experiment Data\\DARP\\ITSC_instance_paper\\Results\\Manhattan\\start_18-00\\duration_30_s\\max_delay_03_min\\halns\n",
      "10:22:59 [WARNING] No solution found in folder: C:\\Google Drive\\AIC Experiment Data\\DARP\\ITSC_instance_paper\\Results\\Manhattan\\start_18-00\\duration_30_s\\max_delay_03_min\\halns-ih\n",
      "10:22:59 [INFO] Loading json file from: C:\\Google Drive\\AIC Experiment Data\\DARP\\ITSC_instance_paper\\Results\\Manhattan\\start_18-00\\duration_30_s\\max_delay_03_min\\ih\\config.yaml-performance.json\n",
      "10:22:59 [INFO] Loading json file from: C:\\Google Drive\\AIC Experiment Data\\DARP\\ITSC_instance_paper\\Results\\Manhattan\\start_18-00\\duration_30_s\\max_delay_03_min\\ih\\config.yaml-solution.json\n",
      "10:22:59 [INFO] Loading experiment config from C:\\Google Drive\\AIC Experiment Data\\DARP\\ITSC_instance_paper\\Results\\Manhattan\\start_18-00\\duration_30_s\\max_delay_03_min\\ih\\config.yaml\n",
      "10:22:59 [INFO] Loading instance config from C:\\Google Drive\\AIC Experiment Data\\DARP\\ITSC_instance_paper\\Instances\\Manhattan\\instances\\start_18-00\\duration_30_s\\max_delay_03_min\\config.yaml\n",
      "10:22:59 [INFO] Loading json file from: C:\\Google Drive\\AIC Experiment Data\\DARP\\ITSC_instance_paper\\Results\\Manhattan\\start_18-00\\duration_30_s\\max_delay_03_min\\vga\\config.yaml-performance.json\n",
      "10:22:59 [INFO] Loading json file from: C:\\Google Drive\\AIC Experiment Data\\DARP\\ITSC_instance_paper\\Results\\Manhattan\\start_18-00\\duration_30_s\\max_delay_03_min\\vga\\config.yaml-solution.json\n",
      "10:22:59 [INFO] Loading experiment config from C:\\Google Drive\\AIC Experiment Data\\DARP\\ITSC_instance_paper\\Results\\Manhattan\\start_18-00\\duration_30_s\\max_delay_03_min\\vga\\config.yaml\n",
      "10:22:59 [INFO] Loading instance config from C:\\Google Drive\\AIC Experiment Data\\DARP\\ITSC_instance_paper\\Instances\\Manhattan\\instances\\start_18-00\\duration_30_s\\max_delay_03_min\\config.yaml\n",
      "10:22:59 [WARNING] No solution found in folder: C:\\Google Drive\\AIC Experiment Data\\DARP\\ITSC_instance_paper\\Results\\Manhattan\\start_18-00\\duration_30_s\\max_delay_05_min\\halns\n",
      "10:22:59 [WARNING] No solution found in folder: C:\\Google Drive\\AIC Experiment Data\\DARP\\ITSC_instance_paper\\Results\\Manhattan\\start_18-00\\duration_30_s\\max_delay_05_min\\halns-ih\n",
      "10:22:59 [INFO] Loading json file from: C:\\Google Drive\\AIC Experiment Data\\DARP\\ITSC_instance_paper\\Results\\Manhattan\\start_18-00\\duration_30_s\\max_delay_05_min\\ih\\config.yaml-performance.json\n",
      "10:22:59 [INFO] Loading json file from: C:\\Google Drive\\AIC Experiment Data\\DARP\\ITSC_instance_paper\\Results\\Manhattan\\start_18-00\\duration_30_s\\max_delay_05_min\\ih\\config.yaml-solution.json\n",
      "10:22:59 [INFO] Loading experiment config from C:\\Google Drive\\AIC Experiment Data\\DARP\\ITSC_instance_paper\\Results\\Manhattan\\start_18-00\\duration_30_s\\max_delay_05_min\\ih\\config.yaml\n",
      "10:22:59 [INFO] Loading instance config from C:\\Google Drive\\AIC Experiment Data\\DARP\\ITSC_instance_paper\\Instances\\Manhattan\\instances\\start_18-00\\duration_30_s\\max_delay_05_min\\config.yaml\n",
      "10:22:59 [INFO] Loading json file from: C:\\Google Drive\\AIC Experiment Data\\DARP\\ITSC_instance_paper\\Results\\Manhattan\\start_18-00\\duration_30_s\\max_delay_05_min\\vga\\config.yaml-performance.json\n",
      "10:22:59 [INFO] Loading json file from: C:\\Google Drive\\AIC Experiment Data\\DARP\\ITSC_instance_paper\\Results\\Manhattan\\start_18-00\\duration_30_s\\max_delay_05_min\\vga\\config.yaml-solution.json\n",
      "10:22:59 [INFO] Loading experiment config from C:\\Google Drive\\AIC Experiment Data\\DARP\\ITSC_instance_paper\\Results\\Manhattan\\start_18-00\\duration_30_s\\max_delay_05_min\\vga\\config.yaml\n",
      "10:22:59 [INFO] Loading instance config from C:\\Google Drive\\AIC Experiment Data\\DARP\\ITSC_instance_paper\\Instances\\Manhattan\\instances\\start_18-00\\duration_30_s\\max_delay_05_min\\config.yaml\n",
      "10:22:59 [WARNING] No solution found in folder: C:\\Google Drive\\AIC Experiment Data\\DARP\\ITSC_instance_paper\\Results\\Manhattan\\start_18-00\\duration_30_s\\max_delay_10_min\\halns\n",
      "10:22:59 [WARNING] No solution found in folder: C:\\Google Drive\\AIC Experiment Data\\DARP\\ITSC_instance_paper\\Results\\Manhattan\\start_18-00\\duration_30_s\\max_delay_10_min\\halns-ih\n",
      "10:22:59 [INFO] Loading json file from: C:\\Google Drive\\AIC Experiment Data\\DARP\\ITSC_instance_paper\\Results\\Manhattan\\start_18-00\\duration_30_s\\max_delay_10_min\\ih\\config.yaml-performance.json\n",
      "10:22:59 [INFO] Loading json file from: C:\\Google Drive\\AIC Experiment Data\\DARP\\ITSC_instance_paper\\Results\\Manhattan\\start_18-00\\duration_30_s\\max_delay_10_min\\ih\\config.yaml-solution.json\n",
      "10:22:59 [INFO] Loading experiment config from C:\\Google Drive\\AIC Experiment Data\\DARP\\ITSC_instance_paper\\Results\\Manhattan\\start_18-00\\duration_30_s\\max_delay_10_min\\ih\\config.yaml\n",
      "10:22:59 [INFO] Loading instance config from C:\\Google Drive\\AIC Experiment Data\\DARP\\ITSC_instance_paper\\Instances\\Manhattan\\instances\\start_18-00\\duration_30_s\\max_delay_10_min\\config.yaml\n",
      "10:22:59 [INFO] Loading json file from: C:\\Google Drive\\AIC Experiment Data\\DARP\\ITSC_instance_paper\\Results\\Manhattan\\start_18-00\\duration_30_s\\max_delay_10_min\\vga\\config.yaml-performance.json\n",
      "10:22:59 [INFO] Loading json file from: C:\\Google Drive\\AIC Experiment Data\\DARP\\ITSC_instance_paper\\Results\\Manhattan\\start_18-00\\duration_30_s\\max_delay_10_min\\vga\\config.yaml-solution.json\n",
      "10:22:59 [INFO] Loading experiment config from C:\\Google Drive\\AIC Experiment Data\\DARP\\ITSC_instance_paper\\Results\\Manhattan\\start_18-00\\duration_30_s\\max_delay_10_min\\vga\\config.yaml\n",
      "10:22:59 [INFO] Loading instance config from C:\\Google Drive\\AIC Experiment Data\\DARP\\ITSC_instance_paper\\Instances\\Manhattan\\instances\\start_18-00\\duration_30_s\\max_delay_10_min\\config.yaml\n",
      "10:22:59 [INFO] Loading occupancy stats in C:\\Google Drive\\AIC Experiment Data\\DARP\\ITSC_instance_paper\\Results\\Chicago\n",
      "10:22:59 [WARNING] No solution found in folder: C:\\Google Drive\\AIC Experiment Data\\DARP\\ITSC_instance_paper\\Results\\Chicago\\start_18-00\\duration_01_min\\max_delay_03_min\\halns\n",
      "10:22:59 [WARNING] No solution found in folder: C:\\Google Drive\\AIC Experiment Data\\DARP\\ITSC_instance_paper\\Results\\Chicago\\start_18-00\\duration_01_min\\max_delay_03_min\\halns-ih\n",
      "10:22:59 [INFO] Loading json file from: C:\\Google Drive\\AIC Experiment Data\\DARP\\ITSC_instance_paper\\Results\\Chicago\\start_18-00\\duration_01_min\\max_delay_03_min\\ih\\config.yaml-performance.json\n",
      "10:22:59 [INFO] Loading json file from: C:\\Google Drive\\AIC Experiment Data\\DARP\\ITSC_instance_paper\\Results\\Chicago\\start_18-00\\duration_01_min\\max_delay_03_min\\ih\\config.yaml-solution.json\n",
      "10:22:59 [INFO] Loading experiment config from C:\\Google Drive\\AIC Experiment Data\\DARP\\ITSC_instance_paper\\Results\\Chicago\\start_18-00\\duration_01_min\\max_delay_03_min\\ih\\config.yaml\n",
      "10:22:59 [INFO] Loading instance config from C:\\Google Drive\\AIC Experiment Data\\DARP\\ITSC_instance_paper\\Instances\\Chicago\\instances\\start_18-00\\duration_01_min\\max_delay_03_min\\config.yaml\n",
      "10:22:59 [INFO] Loading json file from: C:\\Google Drive\\AIC Experiment Data\\DARP\\ITSC_instance_paper\\Results\\Chicago\\start_18-00\\duration_01_min\\max_delay_03_min\\vga\\config.yaml-performance.json\n",
      "10:22:59 [INFO] Loading json file from: C:\\Google Drive\\AIC Experiment Data\\DARP\\ITSC_instance_paper\\Results\\Chicago\\start_18-00\\duration_01_min\\max_delay_03_min\\vga\\config.yaml-solution.json\n",
      "10:22:59 [INFO] Loading experiment config from C:\\Google Drive\\AIC Experiment Data\\DARP\\ITSC_instance_paper\\Results\\Chicago\\start_18-00\\duration_01_min\\max_delay_03_min\\vga\\config.yaml\n",
      "10:22:59 [INFO] Loading instance config from C:\\Google Drive\\AIC Experiment Data\\DARP\\ITSC_instance_paper\\Instances\\Chicago\\instances\\start_18-00\\duration_01_min\\max_delay_03_min\\config.yaml\n",
      "10:22:59 [WARNING] No solution found in folder: C:\\Google Drive\\AIC Experiment Data\\DARP\\ITSC_instance_paper\\Results\\Chicago\\start_18-00\\duration_01_min\\max_delay_05_min\\halns\n",
      "10:22:59 [WARNING] No solution found in folder: C:\\Google Drive\\AIC Experiment Data\\DARP\\ITSC_instance_paper\\Results\\Chicago\\start_18-00\\duration_01_min\\max_delay_05_min\\halns-ih\n",
      "10:22:59 [INFO] Loading json file from: C:\\Google Drive\\AIC Experiment Data\\DARP\\ITSC_instance_paper\\Results\\Chicago\\start_18-00\\duration_01_min\\max_delay_05_min\\ih\\config.yaml-performance.json\n",
      "10:22:59 [INFO] Loading json file from: C:\\Google Drive\\AIC Experiment Data\\DARP\\ITSC_instance_paper\\Results\\Chicago\\start_18-00\\duration_01_min\\max_delay_05_min\\ih\\config.yaml-solution.json\n",
      "10:22:59 [INFO] Loading experiment config from C:\\Google Drive\\AIC Experiment Data\\DARP\\ITSC_instance_paper\\Results\\Chicago\\start_18-00\\duration_01_min\\max_delay_05_min\\ih\\config.yaml\n",
      "10:22:59 [INFO] Loading instance config from C:\\Google Drive\\AIC Experiment Data\\DARP\\ITSC_instance_paper\\Instances\\Chicago\\instances\\start_18-00\\duration_01_min\\max_delay_05_min\\config.yaml\n",
      "10:22:59 [INFO] Loading json file from: C:\\Google Drive\\AIC Experiment Data\\DARP\\ITSC_instance_paper\\Results\\Chicago\\start_18-00\\duration_01_min\\max_delay_05_min\\vga\\config.yaml-performance.json\n",
      "10:22:59 [INFO] Loading json file from: C:\\Google Drive\\AIC Experiment Data\\DARP\\ITSC_instance_paper\\Results\\Chicago\\start_18-00\\duration_01_min\\max_delay_05_min\\vga\\config.yaml-solution.json\n",
      "10:22:59 [INFO] Loading experiment config from C:\\Google Drive\\AIC Experiment Data\\DARP\\ITSC_instance_paper\\Results\\Chicago\\start_18-00\\duration_01_min\\max_delay_05_min\\vga\\config.yaml\n",
      "10:22:59 [INFO] Loading instance config from C:\\Google Drive\\AIC Experiment Data\\DARP\\ITSC_instance_paper\\Instances\\Chicago\\instances\\start_18-00\\duration_01_min\\max_delay_05_min\\config.yaml\n",
      "10:22:59 [WARNING] No solution found in folder: C:\\Google Drive\\AIC Experiment Data\\DARP\\ITSC_instance_paper\\Results\\Chicago\\start_18-00\\duration_01_min\\max_delay_10_min\\halns\n",
      "10:22:59 [WARNING] No solution found in folder: C:\\Google Drive\\AIC Experiment Data\\DARP\\ITSC_instance_paper\\Results\\Chicago\\start_18-00\\duration_01_min\\max_delay_10_min\\halns-ih\n",
      "10:22:59 [INFO] Loading json file from: C:\\Google Drive\\AIC Experiment Data\\DARP\\ITSC_instance_paper\\Results\\Chicago\\start_18-00\\duration_01_min\\max_delay_10_min\\ih\\config.yaml-performance.json\n",
      "10:22:59 [INFO] Loading json file from: C:\\Google Drive\\AIC Experiment Data\\DARP\\ITSC_instance_paper\\Results\\Chicago\\start_18-00\\duration_01_min\\max_delay_10_min\\ih\\config.yaml-solution.json\n",
      "10:22:59 [INFO] Loading experiment config from C:\\Google Drive\\AIC Experiment Data\\DARP\\ITSC_instance_paper\\Results\\Chicago\\start_18-00\\duration_01_min\\max_delay_10_min\\ih\\config.yaml\n",
      "10:22:59 [INFO] Loading instance config from C:\\Google Drive\\AIC Experiment Data\\DARP\\ITSC_instance_paper\\Instances\\Chicago\\instances\\start_18-00\\duration_01_min\\max_delay_10_min\\config.yaml\n",
      "10:22:59 [INFO] Loading json file from: C:\\Google Drive\\AIC Experiment Data\\DARP\\ITSC_instance_paper\\Results\\Chicago\\start_18-00\\duration_01_min\\max_delay_10_min\\vga\\config.yaml-performance.json\n",
      "10:22:59 [INFO] Loading json file from: C:\\Google Drive\\AIC Experiment Data\\DARP\\ITSC_instance_paper\\Results\\Chicago\\start_18-00\\duration_01_min\\max_delay_10_min\\vga\\config.yaml-solution.json\n",
      "10:22:59 [INFO] Loading experiment config from C:\\Google Drive\\AIC Experiment Data\\DARP\\ITSC_instance_paper\\Results\\Chicago\\start_18-00\\duration_01_min\\max_delay_10_min\\vga\\config.yaml\n",
      "10:22:59 [INFO] Loading instance config from C:\\Google Drive\\AIC Experiment Data\\DARP\\ITSC_instance_paper\\Instances\\Chicago\\instances\\start_18-00\\duration_01_min\\max_delay_10_min\\config.yaml\n",
      "10:22:59 [WARNING] No solution found in folder: C:\\Google Drive\\AIC Experiment Data\\DARP\\ITSC_instance_paper\\Results\\Chicago\\start_18-00\\duration_02_h\\max_delay_03_min\\halns\n",
      "10:22:59 [WARNING] No solution found in folder: C:\\Google Drive\\AIC Experiment Data\\DARP\\ITSC_instance_paper\\Results\\Chicago\\start_18-00\\duration_02_h\\max_delay_03_min\\halns-ih\n",
      "10:22:59 [INFO] Loading json file from: C:\\Google Drive\\AIC Experiment Data\\DARP\\ITSC_instance_paper\\Results\\Chicago\\start_18-00\\duration_02_h\\max_delay_03_min\\ih\\config.yaml-performance.json\n",
      "10:22:59 [INFO] Loading json file from: C:\\Google Drive\\AIC Experiment Data\\DARP\\ITSC_instance_paper\\Results\\Chicago\\start_18-00\\duration_02_h\\max_delay_03_min\\ih\\config.yaml-solution.json\n",
      "10:22:59 [INFO] Loading experiment config from C:\\Google Drive\\AIC Experiment Data\\DARP\\ITSC_instance_paper\\Results\\Chicago\\start_18-00\\duration_02_h\\max_delay_03_min\\ih\\config.yaml\n",
      "10:22:59 [INFO] Loading instance config from C:\\Google Drive\\AIC Experiment Data\\DARP\\ITSC_instance_paper\\Instances\\Chicago\\instances\\start_18-00\\duration_02_h\\max_delay_03_min\\config.yaml\n",
      "10:22:59 [WARNING] No solution found in folder: C:\\Google Drive\\AIC Experiment Data\\DARP\\ITSC_instance_paper\\Results\\Chicago\\start_18-00\\duration_02_h\\max_delay_03_min\\vga\n",
      "10:22:59 [WARNING] No solution found in folder: C:\\Google Drive\\AIC Experiment Data\\DARP\\ITSC_instance_paper\\Results\\Chicago\\start_18-00\\duration_02_h\\max_delay_05_min\\halns\n",
      "10:22:59 [WARNING] No solution found in folder: C:\\Google Drive\\AIC Experiment Data\\DARP\\ITSC_instance_paper\\Results\\Chicago\\start_18-00\\duration_02_h\\max_delay_05_min\\halns-ih\n",
      "10:22:59 [INFO] Loading json file from: C:\\Google Drive\\AIC Experiment Data\\DARP\\ITSC_instance_paper\\Results\\Chicago\\start_18-00\\duration_02_h\\max_delay_05_min\\ih\\config.yaml-performance.json\n",
      "10:22:59 [INFO] Loading json file from: C:\\Google Drive\\AIC Experiment Data\\DARP\\ITSC_instance_paper\\Results\\Chicago\\start_18-00\\duration_02_h\\max_delay_05_min\\ih\\config.yaml-solution.json\n",
      "10:22:59 [INFO] Loading experiment config from C:\\Google Drive\\AIC Experiment Data\\DARP\\ITSC_instance_paper\\Results\\Chicago\\start_18-00\\duration_02_h\\max_delay_05_min\\ih\\config.yaml\n",
      "10:22:59 [INFO] Loading instance config from C:\\Google Drive\\AIC Experiment Data\\DARP\\ITSC_instance_paper\\Instances\\Chicago\\instances\\start_18-00\\duration_02_h\\max_delay_05_min\\config.yaml\n",
      "10:22:59 [WARNING] No solution found in folder: C:\\Google Drive\\AIC Experiment Data\\DARP\\ITSC_instance_paper\\Results\\Chicago\\start_18-00\\duration_02_h\\max_delay_05_min\\vga\n",
      "10:22:59 [WARNING] No solution found in folder: C:\\Google Drive\\AIC Experiment Data\\DARP\\ITSC_instance_paper\\Results\\Chicago\\start_18-00\\duration_02_h\\max_delay_10_min\\halns\n",
      "10:22:59 [WARNING] No solution found in folder: C:\\Google Drive\\AIC Experiment Data\\DARP\\ITSC_instance_paper\\Results\\Chicago\\start_18-00\\duration_02_h\\max_delay_10_min\\halns-ih\n",
      "10:22:59 [INFO] Loading json file from: C:\\Google Drive\\AIC Experiment Data\\DARP\\ITSC_instance_paper\\Results\\Chicago\\start_18-00\\duration_02_h\\max_delay_10_min\\ih\\config.yaml-performance.json\n",
      "10:22:59 [INFO] Loading json file from: C:\\Google Drive\\AIC Experiment Data\\DARP\\ITSC_instance_paper\\Results\\Chicago\\start_18-00\\duration_02_h\\max_delay_10_min\\ih\\config.yaml-solution.json\n",
      "10:22:59 [INFO] Loading experiment config from C:\\Google Drive\\AIC Experiment Data\\DARP\\ITSC_instance_paper\\Results\\Chicago\\start_18-00\\duration_02_h\\max_delay_10_min\\ih\\config.yaml\n",
      "10:22:59 [INFO] Loading instance config from C:\\Google Drive\\AIC Experiment Data\\DARP\\ITSC_instance_paper\\Instances\\Chicago\\instances\\start_18-00\\duration_02_h\\max_delay_10_min\\config.yaml\n",
      "10:22:59 [WARNING] No solution found in folder: C:\\Google Drive\\AIC Experiment Data\\DARP\\ITSC_instance_paper\\Results\\Chicago\\start_18-00\\duration_02_h\\max_delay_10_min\\vga\n",
      "10:22:59 [WARNING] No solution found in folder: C:\\Google Drive\\AIC Experiment Data\\DARP\\ITSC_instance_paper\\Results\\Chicago\\start_18-00\\duration_02_min\\max_delay_03_min\\halns\n",
      "10:22:59 [WARNING] No solution found in folder: C:\\Google Drive\\AIC Experiment Data\\DARP\\ITSC_instance_paper\\Results\\Chicago\\start_18-00\\duration_02_min\\max_delay_03_min\\halns-ih\n",
      "10:22:59 [INFO] Loading json file from: C:\\Google Drive\\AIC Experiment Data\\DARP\\ITSC_instance_paper\\Results\\Chicago\\start_18-00\\duration_02_min\\max_delay_03_min\\ih\\config.yaml-performance.json\n",
      "10:22:59 [INFO] Loading json file from: C:\\Google Drive\\AIC Experiment Data\\DARP\\ITSC_instance_paper\\Results\\Chicago\\start_18-00\\duration_02_min\\max_delay_03_min\\ih\\config.yaml-solution.json\n",
      "10:22:59 [INFO] Loading experiment config from C:\\Google Drive\\AIC Experiment Data\\DARP\\ITSC_instance_paper\\Results\\Chicago\\start_18-00\\duration_02_min\\max_delay_03_min\\ih\\config.yaml\n",
      "10:22:59 [INFO] Loading instance config from C:\\Google Drive\\AIC Experiment Data\\DARP\\ITSC_instance_paper\\Instances\\Chicago\\instances\\start_18-00\\duration_02_min\\max_delay_03_min\\config.yaml\n",
      "10:22:59 [INFO] Loading json file from: C:\\Google Drive\\AIC Experiment Data\\DARP\\ITSC_instance_paper\\Results\\Chicago\\start_18-00\\duration_02_min\\max_delay_03_min\\vga\\config.yaml-performance.json\n",
      "10:22:59 [INFO] Loading json file from: C:\\Google Drive\\AIC Experiment Data\\DARP\\ITSC_instance_paper\\Results\\Chicago\\start_18-00\\duration_02_min\\max_delay_03_min\\vga\\config.yaml-solution.json\n",
      "10:22:59 [INFO] Loading experiment config from C:\\Google Drive\\AIC Experiment Data\\DARP\\ITSC_instance_paper\\Results\\Chicago\\start_18-00\\duration_02_min\\max_delay_03_min\\vga\\config.yaml\n",
      "10:22:59 [INFO] Loading instance config from C:\\Google Drive\\AIC Experiment Data\\DARP\\ITSC_instance_paper\\Instances\\Chicago\\instances\\start_18-00\\duration_02_min\\max_delay_03_min\\config.yaml\n",
      "10:22:59 [WARNING] No solution found in folder: C:\\Google Drive\\AIC Experiment Data\\DARP\\ITSC_instance_paper\\Results\\Chicago\\start_18-00\\duration_02_min\\max_delay_05_min\\halns\n",
      "10:22:59 [WARNING] No solution found in folder: C:\\Google Drive\\AIC Experiment Data\\DARP\\ITSC_instance_paper\\Results\\Chicago\\start_18-00\\duration_02_min\\max_delay_05_min\\halns-ih\n",
      "10:22:59 [INFO] Loading json file from: C:\\Google Drive\\AIC Experiment Data\\DARP\\ITSC_instance_paper\\Results\\Chicago\\start_18-00\\duration_02_min\\max_delay_05_min\\ih\\config.yaml-performance.json\n",
      "10:22:59 [INFO] Loading json file from: C:\\Google Drive\\AIC Experiment Data\\DARP\\ITSC_instance_paper\\Results\\Chicago\\start_18-00\\duration_02_min\\max_delay_05_min\\ih\\config.yaml-solution.json\n",
      "10:22:59 [INFO] Loading experiment config from C:\\Google Drive\\AIC Experiment Data\\DARP\\ITSC_instance_paper\\Results\\Chicago\\start_18-00\\duration_02_min\\max_delay_05_min\\ih\\config.yaml\n",
      "10:22:59 [INFO] Loading instance config from C:\\Google Drive\\AIC Experiment Data\\DARP\\ITSC_instance_paper\\Instances\\Chicago\\instances\\start_18-00\\duration_02_min\\max_delay_05_min\\config.yaml\n",
      "10:22:59 [INFO] Loading json file from: C:\\Google Drive\\AIC Experiment Data\\DARP\\ITSC_instance_paper\\Results\\Chicago\\start_18-00\\duration_02_min\\max_delay_05_min\\vga\\config.yaml-performance.json\n",
      "10:22:59 [INFO] Loading json file from: C:\\Google Drive\\AIC Experiment Data\\DARP\\ITSC_instance_paper\\Results\\Chicago\\start_18-00\\duration_02_min\\max_delay_05_min\\vga\\config.yaml-solution.json\n",
      "10:22:59 [INFO] Loading experiment config from C:\\Google Drive\\AIC Experiment Data\\DARP\\ITSC_instance_paper\\Results\\Chicago\\start_18-00\\duration_02_min\\max_delay_05_min\\vga\\config.yaml\n",
      "10:22:59 [INFO] Loading instance config from C:\\Google Drive\\AIC Experiment Data\\DARP\\ITSC_instance_paper\\Instances\\Chicago\\instances\\start_18-00\\duration_02_min\\max_delay_05_min\\config.yaml\n",
      "10:22:59 [WARNING] No solution found in folder: C:\\Google Drive\\AIC Experiment Data\\DARP\\ITSC_instance_paper\\Results\\Chicago\\start_18-00\\duration_02_min\\max_delay_10_min\\halns\n",
      "10:22:59 [WARNING] No solution found in folder: C:\\Google Drive\\AIC Experiment Data\\DARP\\ITSC_instance_paper\\Results\\Chicago\\start_18-00\\duration_02_min\\max_delay_10_min\\halns-ih\n",
      "10:22:59 [INFO] Loading json file from: C:\\Google Drive\\AIC Experiment Data\\DARP\\ITSC_instance_paper\\Results\\Chicago\\start_18-00\\duration_02_min\\max_delay_10_min\\ih\\config.yaml-performance.json\n",
      "10:22:59 [INFO] Loading json file from: C:\\Google Drive\\AIC Experiment Data\\DARP\\ITSC_instance_paper\\Results\\Chicago\\start_18-00\\duration_02_min\\max_delay_10_min\\ih\\config.yaml-solution.json\n",
      "10:22:59 [INFO] Loading experiment config from C:\\Google Drive\\AIC Experiment Data\\DARP\\ITSC_instance_paper\\Results\\Chicago\\start_18-00\\duration_02_min\\max_delay_10_min\\ih\\config.yaml\n",
      "10:22:59 [INFO] Loading instance config from C:\\Google Drive\\AIC Experiment Data\\DARP\\ITSC_instance_paper\\Instances\\Chicago\\instances\\start_18-00\\duration_02_min\\max_delay_10_min\\config.yaml\n",
      "10:22:59 [INFO] Loading json file from: C:\\Google Drive\\AIC Experiment Data\\DARP\\ITSC_instance_paper\\Results\\Chicago\\start_18-00\\duration_02_min\\max_delay_10_min\\vga\\config.yaml-performance.json\n",
      "10:22:59 [INFO] Loading json file from: C:\\Google Drive\\AIC Experiment Data\\DARP\\ITSC_instance_paper\\Results\\Chicago\\start_18-00\\duration_02_min\\max_delay_10_min\\vga\\config.yaml-solution.json\n",
      "10:22:59 [INFO] Loading experiment config from C:\\Google Drive\\AIC Experiment Data\\DARP\\ITSC_instance_paper\\Results\\Chicago\\start_18-00\\duration_02_min\\max_delay_10_min\\vga\\config.yaml\n",
      "10:22:59 [INFO] Loading instance config from C:\\Google Drive\\AIC Experiment Data\\DARP\\ITSC_instance_paper\\Instances\\Chicago\\instances\\start_18-00\\duration_02_min\\max_delay_10_min\\config.yaml\n",
      "10:22:59 [WARNING] No solution found in folder: C:\\Google Drive\\AIC Experiment Data\\DARP\\ITSC_instance_paper\\Results\\Chicago\\start_18-00\\duration_05_min\\max_delay_03_min\\halns\n",
      "10:22:59 [WARNING] No solution found in folder: C:\\Google Drive\\AIC Experiment Data\\DARP\\ITSC_instance_paper\\Results\\Chicago\\start_18-00\\duration_05_min\\max_delay_03_min\\halns-ih\n",
      "10:22:59 [INFO] Loading json file from: C:\\Google Drive\\AIC Experiment Data\\DARP\\ITSC_instance_paper\\Results\\Chicago\\start_18-00\\duration_05_min\\max_delay_03_min\\ih\\config.yaml-performance.json\n",
      "10:22:59 [INFO] Loading json file from: C:\\Google Drive\\AIC Experiment Data\\DARP\\ITSC_instance_paper\\Results\\Chicago\\start_18-00\\duration_05_min\\max_delay_03_min\\ih\\config.yaml-solution.json\n",
      "10:22:59 [INFO] Loading experiment config from C:\\Google Drive\\AIC Experiment Data\\DARP\\ITSC_instance_paper\\Results\\Chicago\\start_18-00\\duration_05_min\\max_delay_03_min\\ih\\config.yaml\n",
      "10:22:59 [INFO] Loading instance config from C:\\Google Drive\\AIC Experiment Data\\DARP\\ITSC_instance_paper\\Instances\\Chicago\\instances\\start_18-00\\duration_05_min\\max_delay_03_min\\config.yaml\n",
      "10:22:59 [INFO] Loading json file from: C:\\Google Drive\\AIC Experiment Data\\DARP\\ITSC_instance_paper\\Results\\Chicago\\start_18-00\\duration_05_min\\max_delay_03_min\\vga\\config.yaml-performance.json\n",
      "10:22:59 [INFO] Loading json file from: C:\\Google Drive\\AIC Experiment Data\\DARP\\ITSC_instance_paper\\Results\\Chicago\\start_18-00\\duration_05_min\\max_delay_03_min\\vga\\config.yaml-solution.json\n",
      "10:22:59 [INFO] Loading experiment config from C:\\Google Drive\\AIC Experiment Data\\DARP\\ITSC_instance_paper\\Results\\Chicago\\start_18-00\\duration_05_min\\max_delay_03_min\\vga\\config.yaml\n",
      "10:22:59 [INFO] Loading instance config from C:\\Google Drive\\AIC Experiment Data\\DARP\\ITSC_instance_paper\\Instances\\Chicago\\instances\\start_18-00\\duration_05_min\\max_delay_03_min\\config.yaml\n",
      "10:22:59 [WARNING] No solution found in folder: C:\\Google Drive\\AIC Experiment Data\\DARP\\ITSC_instance_paper\\Results\\Chicago\\start_18-00\\duration_05_min\\max_delay_05_min\\halns\n",
      "10:22:59 [WARNING] No solution found in folder: C:\\Google Drive\\AIC Experiment Data\\DARP\\ITSC_instance_paper\\Results\\Chicago\\start_18-00\\duration_05_min\\max_delay_05_min\\halns-ih\n",
      "10:22:59 [INFO] Loading json file from: C:\\Google Drive\\AIC Experiment Data\\DARP\\ITSC_instance_paper\\Results\\Chicago\\start_18-00\\duration_05_min\\max_delay_05_min\\ih\\config.yaml-performance.json\n",
      "10:22:59 [INFO] Loading json file from: C:\\Google Drive\\AIC Experiment Data\\DARP\\ITSC_instance_paper\\Results\\Chicago\\start_18-00\\duration_05_min\\max_delay_05_min\\ih\\config.yaml-solution.json\n",
      "10:22:59 [INFO] Loading experiment config from C:\\Google Drive\\AIC Experiment Data\\DARP\\ITSC_instance_paper\\Results\\Chicago\\start_18-00\\duration_05_min\\max_delay_05_min\\ih\\config.yaml\n",
      "10:22:59 [INFO] Loading instance config from C:\\Google Drive\\AIC Experiment Data\\DARP\\ITSC_instance_paper\\Instances\\Chicago\\instances\\start_18-00\\duration_05_min\\max_delay_05_min\\config.yaml\n",
      "10:22:59 [INFO] Loading json file from: C:\\Google Drive\\AIC Experiment Data\\DARP\\ITSC_instance_paper\\Results\\Chicago\\start_18-00\\duration_05_min\\max_delay_05_min\\vga\\config.yaml-performance.json\n",
      "10:22:59 [INFO] Loading json file from: C:\\Google Drive\\AIC Experiment Data\\DARP\\ITSC_instance_paper\\Results\\Chicago\\start_18-00\\duration_05_min\\max_delay_05_min\\vga\\config.yaml-solution.json\n",
      "10:22:59 [INFO] Loading experiment config from C:\\Google Drive\\AIC Experiment Data\\DARP\\ITSC_instance_paper\\Results\\Chicago\\start_18-00\\duration_05_min\\max_delay_05_min\\vga\\config.yaml\n",
      "10:22:59 [INFO] Loading instance config from C:\\Google Drive\\AIC Experiment Data\\DARP\\ITSC_instance_paper\\Instances\\Chicago\\instances\\start_18-00\\duration_05_min\\max_delay_05_min\\config.yaml\n",
      "10:22:59 [WARNING] No solution found in folder: C:\\Google Drive\\AIC Experiment Data\\DARP\\ITSC_instance_paper\\Results\\Chicago\\start_18-00\\duration_05_min\\max_delay_10_min\\halns\n",
      "10:22:59 [WARNING] No solution found in folder: C:\\Google Drive\\AIC Experiment Data\\DARP\\ITSC_instance_paper\\Results\\Chicago\\start_18-00\\duration_05_min\\max_delay_10_min\\halns-ih\n",
      "10:22:59 [INFO] Loading json file from: C:\\Google Drive\\AIC Experiment Data\\DARP\\ITSC_instance_paper\\Results\\Chicago\\start_18-00\\duration_05_min\\max_delay_10_min\\ih\\config.yaml-performance.json\n",
      "10:22:59 [INFO] Loading json file from: C:\\Google Drive\\AIC Experiment Data\\DARP\\ITSC_instance_paper\\Results\\Chicago\\start_18-00\\duration_05_min\\max_delay_10_min\\ih\\config.yaml-solution.json\n",
      "10:22:59 [INFO] Loading experiment config from C:\\Google Drive\\AIC Experiment Data\\DARP\\ITSC_instance_paper\\Results\\Chicago\\start_18-00\\duration_05_min\\max_delay_10_min\\ih\\config.yaml\n",
      "10:22:59 [INFO] Loading instance config from C:\\Google Drive\\AIC Experiment Data\\DARP\\ITSC_instance_paper\\Instances\\Chicago\\instances\\start_18-00\\duration_05_min\\max_delay_10_min\\config.yaml\n",
      "10:22:59 [INFO] Loading json file from: C:\\Google Drive\\AIC Experiment Data\\DARP\\ITSC_instance_paper\\Results\\Chicago\\start_18-00\\duration_05_min\\max_delay_10_min\\vga\\config.yaml-performance.json\n",
      "10:22:59 [INFO] Loading json file from: C:\\Google Drive\\AIC Experiment Data\\DARP\\ITSC_instance_paper\\Results\\Chicago\\start_18-00\\duration_05_min\\max_delay_10_min\\vga\\config.yaml-solution.json\n",
      "10:22:59 [INFO] Loading experiment config from C:\\Google Drive\\AIC Experiment Data\\DARP\\ITSC_instance_paper\\Results\\Chicago\\start_18-00\\duration_05_min\\max_delay_10_min\\vga\\config.yaml\n",
      "10:22:59 [INFO] Loading instance config from C:\\Google Drive\\AIC Experiment Data\\DARP\\ITSC_instance_paper\\Instances\\Chicago\\instances\\start_18-00\\duration_05_min\\max_delay_10_min\\config.yaml\n",
      "10:22:59 [WARNING] No solution found in folder: C:\\Google Drive\\AIC Experiment Data\\DARP\\ITSC_instance_paper\\Results\\Chicago\\start_18-00\\duration_15_min\\max_delay_03_min\\halns\n",
      "10:22:59 [WARNING] No solution found in folder: C:\\Google Drive\\AIC Experiment Data\\DARP\\ITSC_instance_paper\\Results\\Chicago\\start_18-00\\duration_15_min\\max_delay_03_min\\halns-ih\n",
      "10:22:59 [INFO] Loading json file from: C:\\Google Drive\\AIC Experiment Data\\DARP\\ITSC_instance_paper\\Results\\Chicago\\start_18-00\\duration_15_min\\max_delay_03_min\\ih\\config.yaml-performance.json\n",
      "10:22:59 [INFO] Loading json file from: C:\\Google Drive\\AIC Experiment Data\\DARP\\ITSC_instance_paper\\Results\\Chicago\\start_18-00\\duration_15_min\\max_delay_03_min\\ih\\config.yaml-solution.json\n",
      "10:22:59 [INFO] Loading experiment config from C:\\Google Drive\\AIC Experiment Data\\DARP\\ITSC_instance_paper\\Results\\Chicago\\start_18-00\\duration_15_min\\max_delay_03_min\\ih\\config.yaml\n",
      "10:22:59 [INFO] Loading instance config from C:\\Google Drive\\AIC Experiment Data\\DARP\\ITSC_instance_paper\\Instances\\Chicago\\instances\\start_18-00\\duration_15_min\\max_delay_03_min\\config.yaml\n",
      "10:22:59 [WARNING] No solution found in folder: C:\\Google Drive\\AIC Experiment Data\\DARP\\ITSC_instance_paper\\Results\\Chicago\\start_18-00\\duration_15_min\\max_delay_03_min\\vga\n",
      "10:22:59 [WARNING] No solution found in folder: C:\\Google Drive\\AIC Experiment Data\\DARP\\ITSC_instance_paper\\Results\\Chicago\\start_18-00\\duration_15_min\\max_delay_05_min\\halns\n",
      "10:22:59 [WARNING] No solution found in folder: C:\\Google Drive\\AIC Experiment Data\\DARP\\ITSC_instance_paper\\Results\\Chicago\\start_18-00\\duration_15_min\\max_delay_05_min\\halns-ih\n",
      "10:22:59 [INFO] Loading json file from: C:\\Google Drive\\AIC Experiment Data\\DARP\\ITSC_instance_paper\\Results\\Chicago\\start_18-00\\duration_15_min\\max_delay_05_min\\ih\\config.yaml-performance.json\n",
      "10:22:59 [INFO] Loading json file from: C:\\Google Drive\\AIC Experiment Data\\DARP\\ITSC_instance_paper\\Results\\Chicago\\start_18-00\\duration_15_min\\max_delay_05_min\\ih\\config.yaml-solution.json\n",
      "10:22:59 [INFO] Loading experiment config from C:\\Google Drive\\AIC Experiment Data\\DARP\\ITSC_instance_paper\\Results\\Chicago\\start_18-00\\duration_15_min\\max_delay_05_min\\ih\\config.yaml\n",
      "10:22:59 [INFO] Loading instance config from C:\\Google Drive\\AIC Experiment Data\\DARP\\ITSC_instance_paper\\Instances\\Chicago\\instances\\start_18-00\\duration_15_min\\max_delay_05_min\\config.yaml\n",
      "10:22:59 [WARNING] No solution found in folder: C:\\Google Drive\\AIC Experiment Data\\DARP\\ITSC_instance_paper\\Results\\Chicago\\start_18-00\\duration_15_min\\max_delay_05_min\\vga\n",
      "10:22:59 [WARNING] No solution found in folder: C:\\Google Drive\\AIC Experiment Data\\DARP\\ITSC_instance_paper\\Results\\Chicago\\start_18-00\\duration_15_min\\max_delay_10_min\\halns\n",
      "10:22:59 [WARNING] No solution found in folder: C:\\Google Drive\\AIC Experiment Data\\DARP\\ITSC_instance_paper\\Results\\Chicago\\start_18-00\\duration_15_min\\max_delay_10_min\\halns-ih\n",
      "10:22:59 [INFO] Loading json file from: C:\\Google Drive\\AIC Experiment Data\\DARP\\ITSC_instance_paper\\Results\\Chicago\\start_18-00\\duration_15_min\\max_delay_10_min\\ih\\config.yaml-performance.json\n",
      "10:22:59 [INFO] Loading json file from: C:\\Google Drive\\AIC Experiment Data\\DARP\\ITSC_instance_paper\\Results\\Chicago\\start_18-00\\duration_15_min\\max_delay_10_min\\ih\\config.yaml-solution.json\n",
      "10:22:59 [INFO] Loading experiment config from C:\\Google Drive\\AIC Experiment Data\\DARP\\ITSC_instance_paper\\Results\\Chicago\\start_18-00\\duration_15_min\\max_delay_10_min\\ih\\config.yaml\n",
      "10:22:59 [INFO] Loading instance config from C:\\Google Drive\\AIC Experiment Data\\DARP\\ITSC_instance_paper\\Instances\\Chicago\\instances\\start_18-00\\duration_15_min\\max_delay_10_min\\config.yaml\n",
      "10:22:59 [WARNING] No solution found in folder: C:\\Google Drive\\AIC Experiment Data\\DARP\\ITSC_instance_paper\\Results\\Chicago\\start_18-00\\duration_15_min\\max_delay_10_min\\vga\n",
      "10:22:59 [WARNING] No solution found in folder: C:\\Google Drive\\AIC Experiment Data\\DARP\\ITSC_instance_paper\\Results\\Chicago\\start_18-00\\duration_16_h\\max_delay_03_min\\halns\n",
      "10:22:59 [WARNING] No solution found in folder: C:\\Google Drive\\AIC Experiment Data\\DARP\\ITSC_instance_paper\\Results\\Chicago\\start_18-00\\duration_16_h\\max_delay_03_min\\halns-ih\n",
      "10:22:59 [INFO] Loading json file from: C:\\Google Drive\\AIC Experiment Data\\DARP\\ITSC_instance_paper\\Results\\Chicago\\start_18-00\\duration_16_h\\max_delay_03_min\\ih\\config.yaml-performance.json\n",
      "10:22:59 [INFO] Loading json file from: C:\\Google Drive\\AIC Experiment Data\\DARP\\ITSC_instance_paper\\Results\\Chicago\\start_18-00\\duration_16_h\\max_delay_03_min\\ih\\config.yaml-solution.json\n",
      "10:22:59 [INFO] Loading experiment config from C:\\Google Drive\\AIC Experiment Data\\DARP\\ITSC_instance_paper\\Results\\Chicago\\start_18-00\\duration_16_h\\max_delay_03_min\\ih\\config.yaml\n",
      "10:22:59 [INFO] Loading instance config from C:\\Google Drive\\AIC Experiment Data\\DARP\\ITSC_instance_paper\\Instances\\Chicago\\instances\\start_18-00\\duration_16_h\\max_delay_03_min\\config.yaml\n",
      "10:22:59 [WARNING] No solution found in folder: C:\\Google Drive\\AIC Experiment Data\\DARP\\ITSC_instance_paper\\Results\\Chicago\\start_18-00\\duration_16_h\\max_delay_03_min\\vga\n",
      "10:22:59 [WARNING] No solution found in folder: C:\\Google Drive\\AIC Experiment Data\\DARP\\ITSC_instance_paper\\Results\\Chicago\\start_18-00\\duration_16_h\\max_delay_05_min\\halns\n",
      "10:22:59 [WARNING] No solution found in folder: C:\\Google Drive\\AIC Experiment Data\\DARP\\ITSC_instance_paper\\Results\\Chicago\\start_18-00\\duration_16_h\\max_delay_05_min\\halns-ih\n",
      "10:22:59 [INFO] Loading json file from: C:\\Google Drive\\AIC Experiment Data\\DARP\\ITSC_instance_paper\\Results\\Chicago\\start_18-00\\duration_16_h\\max_delay_05_min\\ih\\config.yaml-performance.json\n",
      "10:22:59 [INFO] Loading json file from: C:\\Google Drive\\AIC Experiment Data\\DARP\\ITSC_instance_paper\\Results\\Chicago\\start_18-00\\duration_16_h\\max_delay_05_min\\ih\\config.yaml-solution.json\n",
      "10:22:59 [INFO] Loading experiment config from C:\\Google Drive\\AIC Experiment Data\\DARP\\ITSC_instance_paper\\Results\\Chicago\\start_18-00\\duration_16_h\\max_delay_05_min\\ih\\config.yaml\n",
      "10:22:59 [INFO] Loading instance config from C:\\Google Drive\\AIC Experiment Data\\DARP\\ITSC_instance_paper\\Instances\\Chicago\\instances\\start_18-00\\duration_16_h\\max_delay_05_min\\config.yaml\n",
      "10:22:59 [WARNING] No solution found in folder: C:\\Google Drive\\AIC Experiment Data\\DARP\\ITSC_instance_paper\\Results\\Chicago\\start_18-00\\duration_16_h\\max_delay_05_min\\vga\n",
      "10:22:59 [WARNING] No solution found in folder: C:\\Google Drive\\AIC Experiment Data\\DARP\\ITSC_instance_paper\\Results\\Chicago\\start_18-00\\duration_16_h\\max_delay_10_min\\halns\n",
      "10:22:59 [WARNING] No solution found in folder: C:\\Google Drive\\AIC Experiment Data\\DARP\\ITSC_instance_paper\\Results\\Chicago\\start_18-00\\duration_16_h\\max_delay_10_min\\halns-ih\n",
      "10:22:59 [INFO] Loading json file from: C:\\Google Drive\\AIC Experiment Data\\DARP\\ITSC_instance_paper\\Results\\Chicago\\start_18-00\\duration_16_h\\max_delay_10_min\\ih\\config.yaml-performance.json\n",
      "10:22:59 [INFO] Loading json file from: C:\\Google Drive\\AIC Experiment Data\\DARP\\ITSC_instance_paper\\Results\\Chicago\\start_18-00\\duration_16_h\\max_delay_10_min\\ih\\config.yaml-solution.json\n",
      "10:22:59 [INFO] Loading experiment config from C:\\Google Drive\\AIC Experiment Data\\DARP\\ITSC_instance_paper\\Results\\Chicago\\start_18-00\\duration_16_h\\max_delay_10_min\\ih\\config.yaml\n",
      "10:22:59 [INFO] Loading instance config from C:\\Google Drive\\AIC Experiment Data\\DARP\\ITSC_instance_paper\\Instances\\Chicago\\instances\\start_18-00\\duration_16_h\\max_delay_10_min\\config.yaml\n",
      "10:22:59 [WARNING] No solution found in folder: C:\\Google Drive\\AIC Experiment Data\\DARP\\ITSC_instance_paper\\Results\\Chicago\\start_18-00\\duration_16_h\\max_delay_10_min\\vga\n",
      "10:22:59 [WARNING] No solution found in folder: C:\\Google Drive\\AIC Experiment Data\\DARP\\ITSC_instance_paper\\Results\\Chicago\\start_18-00\\duration_30_min\\max_delay_03_min\\halns\n",
      "10:22:59 [WARNING] No solution found in folder: C:\\Google Drive\\AIC Experiment Data\\DARP\\ITSC_instance_paper\\Results\\Chicago\\start_18-00\\duration_30_min\\max_delay_03_min\\halns-ih\n",
      "10:22:59 [INFO] Loading json file from: C:\\Google Drive\\AIC Experiment Data\\DARP\\ITSC_instance_paper\\Results\\Chicago\\start_18-00\\duration_30_min\\max_delay_03_min\\ih\\config.yaml-performance.json\n",
      "10:22:59 [INFO] Loading json file from: C:\\Google Drive\\AIC Experiment Data\\DARP\\ITSC_instance_paper\\Results\\Chicago\\start_18-00\\duration_30_min\\max_delay_03_min\\ih\\config.yaml-solution.json\n",
      "10:22:59 [INFO] Loading experiment config from C:\\Google Drive\\AIC Experiment Data\\DARP\\ITSC_instance_paper\\Results\\Chicago\\start_18-00\\duration_30_min\\max_delay_03_min\\ih\\config.yaml\n",
      "10:22:59 [INFO] Loading instance config from C:\\Google Drive\\AIC Experiment Data\\DARP\\ITSC_instance_paper\\Instances\\Chicago\\instances\\start_18-00\\duration_30_min\\max_delay_03_min\\config.yaml\n",
      "10:22:59 [WARNING] No solution found in folder: C:\\Google Drive\\AIC Experiment Data\\DARP\\ITSC_instance_paper\\Results\\Chicago\\start_18-00\\duration_30_min\\max_delay_03_min\\vga\n",
      "10:22:59 [WARNING] No solution found in folder: C:\\Google Drive\\AIC Experiment Data\\DARP\\ITSC_instance_paper\\Results\\Chicago\\start_18-00\\duration_30_min\\max_delay_05_min\\halns\n",
      "10:22:59 [WARNING] No solution found in folder: C:\\Google Drive\\AIC Experiment Data\\DARP\\ITSC_instance_paper\\Results\\Chicago\\start_18-00\\duration_30_min\\max_delay_05_min\\halns-ih\n",
      "10:22:59 [INFO] Loading json file from: C:\\Google Drive\\AIC Experiment Data\\DARP\\ITSC_instance_paper\\Results\\Chicago\\start_18-00\\duration_30_min\\max_delay_05_min\\ih\\config.yaml-performance.json\n",
      "10:22:59 [INFO] Loading json file from: C:\\Google Drive\\AIC Experiment Data\\DARP\\ITSC_instance_paper\\Results\\Chicago\\start_18-00\\duration_30_min\\max_delay_05_min\\ih\\config.yaml-solution.json\n",
      "10:22:59 [INFO] Loading experiment config from C:\\Google Drive\\AIC Experiment Data\\DARP\\ITSC_instance_paper\\Results\\Chicago\\start_18-00\\duration_30_min\\max_delay_05_min\\ih\\config.yaml\n",
      "10:22:59 [INFO] Loading instance config from C:\\Google Drive\\AIC Experiment Data\\DARP\\ITSC_instance_paper\\Instances\\Chicago\\instances\\start_18-00\\duration_30_min\\max_delay_05_min\\config.yaml\n",
      "10:22:59 [WARNING] No solution found in folder: C:\\Google Drive\\AIC Experiment Data\\DARP\\ITSC_instance_paper\\Results\\Chicago\\start_18-00\\duration_30_min\\max_delay_05_min\\vga\n",
      "10:22:59 [WARNING] No solution found in folder: C:\\Google Drive\\AIC Experiment Data\\DARP\\ITSC_instance_paper\\Results\\Chicago\\start_18-00\\duration_30_min\\max_delay_10_min\\halns\n",
      "10:22:59 [WARNING] No solution found in folder: C:\\Google Drive\\AIC Experiment Data\\DARP\\ITSC_instance_paper\\Results\\Chicago\\start_18-00\\duration_30_min\\max_delay_10_min\\halns-ih\n",
      "10:22:59 [INFO] Loading json file from: C:\\Google Drive\\AIC Experiment Data\\DARP\\ITSC_instance_paper\\Results\\Chicago\\start_18-00\\duration_30_min\\max_delay_10_min\\ih\\config.yaml-performance.json\n",
      "10:22:59 [INFO] Loading json file from: C:\\Google Drive\\AIC Experiment Data\\DARP\\ITSC_instance_paper\\Results\\Chicago\\start_18-00\\duration_30_min\\max_delay_10_min\\ih\\config.yaml-solution.json\n",
      "10:22:59 [INFO] Loading experiment config from C:\\Google Drive\\AIC Experiment Data\\DARP\\ITSC_instance_paper\\Results\\Chicago\\start_18-00\\duration_30_min\\max_delay_10_min\\ih\\config.yaml\n",
      "10:22:59 [INFO] Loading instance config from C:\\Google Drive\\AIC Experiment Data\\DARP\\ITSC_instance_paper\\Instances\\Chicago\\instances\\start_18-00\\duration_30_min\\max_delay_10_min\\config.yaml\n",
      "10:22:59 [WARNING] No solution found in folder: C:\\Google Drive\\AIC Experiment Data\\DARP\\ITSC_instance_paper\\Results\\Chicago\\start_18-00\\duration_30_min\\max_delay_10_min\\vga\n",
      "10:22:59 [WARNING] No solution found in folder: C:\\Google Drive\\AIC Experiment Data\\DARP\\ITSC_instance_paper\\Results\\Chicago\\start_18-00\\duration_30_s\\max_delay_03_min\\halns\n",
      "10:22:59 [WARNING] No solution found in folder: C:\\Google Drive\\AIC Experiment Data\\DARP\\ITSC_instance_paper\\Results\\Chicago\\start_18-00\\duration_30_s\\max_delay_03_min\\halns-ih\n",
      "10:22:59 [INFO] Loading json file from: C:\\Google Drive\\AIC Experiment Data\\DARP\\ITSC_instance_paper\\Results\\Chicago\\start_18-00\\duration_30_s\\max_delay_03_min\\ih\\config.yaml-performance.json\n",
      "10:22:59 [INFO] Loading json file from: C:\\Google Drive\\AIC Experiment Data\\DARP\\ITSC_instance_paper\\Results\\Chicago\\start_18-00\\duration_30_s\\max_delay_03_min\\ih\\config.yaml-solution.json\n",
      "10:22:59 [INFO] Loading experiment config from C:\\Google Drive\\AIC Experiment Data\\DARP\\ITSC_instance_paper\\Results\\Chicago\\start_18-00\\duration_30_s\\max_delay_03_min\\ih\\config.yaml\n",
      "10:22:59 [INFO] Loading instance config from C:\\Google Drive\\AIC Experiment Data\\DARP\\ITSC_instance_paper\\Instances\\Chicago\\instances\\start_18-00\\duration_30_s\\max_delay_03_min\\config.yaml\n",
      "10:22:59 [INFO] Loading json file from: C:\\Google Drive\\AIC Experiment Data\\DARP\\ITSC_instance_paper\\Results\\Chicago\\start_18-00\\duration_30_s\\max_delay_03_min\\vga\\config.yaml-performance.json\n",
      "10:22:59 [INFO] Loading json file from: C:\\Google Drive\\AIC Experiment Data\\DARP\\ITSC_instance_paper\\Results\\Chicago\\start_18-00\\duration_30_s\\max_delay_03_min\\vga\\config.yaml-solution.json\n",
      "10:22:59 [INFO] Loading experiment config from C:\\Google Drive\\AIC Experiment Data\\DARP\\ITSC_instance_paper\\Results\\Chicago\\start_18-00\\duration_30_s\\max_delay_03_min\\vga\\config.yaml\n",
      "10:22:59 [INFO] Loading instance config from C:\\Google Drive\\AIC Experiment Data\\DARP\\ITSC_instance_paper\\Instances\\Chicago\\instances\\start_18-00\\duration_30_s\\max_delay_03_min\\config.yaml\n",
      "10:22:59 [WARNING] No solution found in folder: C:\\Google Drive\\AIC Experiment Data\\DARP\\ITSC_instance_paper\\Results\\Chicago\\start_18-00\\duration_30_s\\max_delay_05_min\\halns\n",
      "10:22:59 [WARNING] No solution found in folder: C:\\Google Drive\\AIC Experiment Data\\DARP\\ITSC_instance_paper\\Results\\Chicago\\start_18-00\\duration_30_s\\max_delay_05_min\\halns-ih\n",
      "10:22:59 [INFO] Loading json file from: C:\\Google Drive\\AIC Experiment Data\\DARP\\ITSC_instance_paper\\Results\\Chicago\\start_18-00\\duration_30_s\\max_delay_05_min\\ih\\config.yaml-performance.json\n",
      "10:22:59 [INFO] Loading json file from: C:\\Google Drive\\AIC Experiment Data\\DARP\\ITSC_instance_paper\\Results\\Chicago\\start_18-00\\duration_30_s\\max_delay_05_min\\ih\\config.yaml-solution.json\n",
      "10:22:59 [INFO] Loading experiment config from C:\\Google Drive\\AIC Experiment Data\\DARP\\ITSC_instance_paper\\Results\\Chicago\\start_18-00\\duration_30_s\\max_delay_05_min\\ih\\config.yaml\n",
      "10:22:59 [INFO] Loading instance config from C:\\Google Drive\\AIC Experiment Data\\DARP\\ITSC_instance_paper\\Instances\\Chicago\\instances\\start_18-00\\duration_30_s\\max_delay_05_min\\config.yaml\n",
      "10:22:59 [INFO] Loading json file from: C:\\Google Drive\\AIC Experiment Data\\DARP\\ITSC_instance_paper\\Results\\Chicago\\start_18-00\\duration_30_s\\max_delay_05_min\\vga\\config.yaml-performance.json\n",
      "10:22:59 [INFO] Loading json file from: C:\\Google Drive\\AIC Experiment Data\\DARP\\ITSC_instance_paper\\Results\\Chicago\\start_18-00\\duration_30_s\\max_delay_05_min\\vga\\config.yaml-solution.json\n",
      "10:22:59 [INFO] Loading experiment config from C:\\Google Drive\\AIC Experiment Data\\DARP\\ITSC_instance_paper\\Results\\Chicago\\start_18-00\\duration_30_s\\max_delay_05_min\\vga\\config.yaml\n",
      "10:22:59 [INFO] Loading instance config from C:\\Google Drive\\AIC Experiment Data\\DARP\\ITSC_instance_paper\\Instances\\Chicago\\instances\\start_18-00\\duration_30_s\\max_delay_05_min\\config.yaml\n",
      "10:22:59 [WARNING] No solution found in folder: C:\\Google Drive\\AIC Experiment Data\\DARP\\ITSC_instance_paper\\Results\\Chicago\\start_18-00\\duration_30_s\\max_delay_10_min\\halns\n",
      "10:22:59 [WARNING] No solution found in folder: C:\\Google Drive\\AIC Experiment Data\\DARP\\ITSC_instance_paper\\Results\\Chicago\\start_18-00\\duration_30_s\\max_delay_10_min\\halns-ih\n",
      "10:22:59 [INFO] Loading json file from: C:\\Google Drive\\AIC Experiment Data\\DARP\\ITSC_instance_paper\\Results\\Chicago\\start_18-00\\duration_30_s\\max_delay_10_min\\ih\\config.yaml-performance.json\n",
      "10:22:59 [INFO] Loading json file from: C:\\Google Drive\\AIC Experiment Data\\DARP\\ITSC_instance_paper\\Results\\Chicago\\start_18-00\\duration_30_s\\max_delay_10_min\\ih\\config.yaml-solution.json\n",
      "10:22:59 [INFO] Loading experiment config from C:\\Google Drive\\AIC Experiment Data\\DARP\\ITSC_instance_paper\\Results\\Chicago\\start_18-00\\duration_30_s\\max_delay_10_min\\ih\\config.yaml\n",
      "10:22:59 [INFO] Loading instance config from C:\\Google Drive\\AIC Experiment Data\\DARP\\ITSC_instance_paper\\Instances\\Chicago\\instances\\start_18-00\\duration_30_s\\max_delay_10_min\\config.yaml\n",
      "10:22:59 [INFO] Loading json file from: C:\\Google Drive\\AIC Experiment Data\\DARP\\ITSC_instance_paper\\Results\\Chicago\\start_18-00\\duration_30_s\\max_delay_10_min\\vga\\config.yaml-performance.json\n",
      "10:22:59 [INFO] Loading json file from: C:\\Google Drive\\AIC Experiment Data\\DARP\\ITSC_instance_paper\\Results\\Chicago\\start_18-00\\duration_30_s\\max_delay_10_min\\vga\\config.yaml-solution.json\n",
      "10:22:59 [INFO] Loading experiment config from C:\\Google Drive\\AIC Experiment Data\\DARP\\ITSC_instance_paper\\Results\\Chicago\\start_18-00\\duration_30_s\\max_delay_10_min\\vga\\config.yaml\n",
      "10:22:59 [INFO] Loading instance config from C:\\Google Drive\\AIC Experiment Data\\DARP\\ITSC_instance_paper\\Instances\\Chicago\\instances\\start_18-00\\duration_30_s\\max_delay_10_min\\config.yaml\n",
      "10:22:59 [INFO] Loading occupancy stats in C:\\Google Drive\\AIC Experiment Data\\DARP\\ITSC_instance_paper\\Results\\DC\n",
      "10:22:59 [WARNING] No solution found in folder: C:\\Google Drive\\AIC Experiment Data\\DARP\\ITSC_instance_paper\\Results\\DC\\start_18-00\\duration_01_min\\max_delay_03_min\\halns\n",
      "10:22:59 [WARNING] No solution found in folder: C:\\Google Drive\\AIC Experiment Data\\DARP\\ITSC_instance_paper\\Results\\DC\\start_18-00\\duration_01_min\\max_delay_03_min\\halns-ih\n",
      "10:22:59 [INFO] Loading json file from: C:\\Google Drive\\AIC Experiment Data\\DARP\\ITSC_instance_paper\\Results\\DC\\start_18-00\\duration_01_min\\max_delay_03_min\\ih\\config.yaml-performance.json\n",
      "10:22:59 [INFO] Loading json file from: C:\\Google Drive\\AIC Experiment Data\\DARP\\ITSC_instance_paper\\Results\\DC\\start_18-00\\duration_01_min\\max_delay_03_min\\ih\\config.yaml-solution.json\n",
      "10:22:59 [INFO] Loading experiment config from C:\\Google Drive\\AIC Experiment Data\\DARP\\ITSC_instance_paper\\Results\\DC\\start_18-00\\duration_01_min\\max_delay_03_min\\ih\\config.yaml\n",
      "10:22:59 [INFO] Loading instance config from C:\\Google Drive\\AIC Experiment Data\\DARP\\ITSC_instance_paper\\Instances\\DC\\instances\\start_18-00\\duration_01_min\\max_delay_03_min\\config.yaml\n",
      "10:22:59 [INFO] Loading json file from: C:\\Google Drive\\AIC Experiment Data\\DARP\\ITSC_instance_paper\\Results\\DC\\start_18-00\\duration_01_min\\max_delay_03_min\\vga\\config.yaml-performance.json\n",
      "10:22:59 [INFO] Loading json file from: C:\\Google Drive\\AIC Experiment Data\\DARP\\ITSC_instance_paper\\Results\\DC\\start_18-00\\duration_01_min\\max_delay_03_min\\vga\\config.yaml-solution.json\n",
      "10:22:59 [INFO] Loading experiment config from C:\\Google Drive\\AIC Experiment Data\\DARP\\ITSC_instance_paper\\Results\\DC\\start_18-00\\duration_01_min\\max_delay_03_min\\vga\\config.yaml\n",
      "10:22:59 [INFO] Loading instance config from C:\\Google Drive\\AIC Experiment Data\\DARP\\ITSC_instance_paper\\Instances\\DC\\instances\\start_18-00\\duration_01_min\\max_delay_03_min\\config.yaml\n",
      "10:22:59 [WARNING] No solution found in folder: C:\\Google Drive\\AIC Experiment Data\\DARP\\ITSC_instance_paper\\Results\\DC\\start_18-00\\duration_01_min\\max_delay_05_min\\halns\n",
      "10:22:59 [WARNING] No solution found in folder: C:\\Google Drive\\AIC Experiment Data\\DARP\\ITSC_instance_paper\\Results\\DC\\start_18-00\\duration_01_min\\max_delay_05_min\\halns-ih\n",
      "10:22:59 [INFO] Loading json file from: C:\\Google Drive\\AIC Experiment Data\\DARP\\ITSC_instance_paper\\Results\\DC\\start_18-00\\duration_01_min\\max_delay_05_min\\ih\\config.yaml-performance.json\n",
      "10:22:59 [INFO] Loading json file from: C:\\Google Drive\\AIC Experiment Data\\DARP\\ITSC_instance_paper\\Results\\DC\\start_18-00\\duration_01_min\\max_delay_05_min\\ih\\config.yaml-solution.json\n",
      "10:22:59 [INFO] Loading experiment config from C:\\Google Drive\\AIC Experiment Data\\DARP\\ITSC_instance_paper\\Results\\DC\\start_18-00\\duration_01_min\\max_delay_05_min\\ih\\config.yaml\n",
      "10:22:59 [INFO] Loading instance config from C:\\Google Drive\\AIC Experiment Data\\DARP\\ITSC_instance_paper\\Instances\\DC\\instances\\start_18-00\\duration_01_min\\max_delay_05_min\\config.yaml\n",
      "10:22:59 [INFO] Loading json file from: C:\\Google Drive\\AIC Experiment Data\\DARP\\ITSC_instance_paper\\Results\\DC\\start_18-00\\duration_01_min\\max_delay_05_min\\vga\\config.yaml-performance.json\n",
      "10:22:59 [INFO] Loading json file from: C:\\Google Drive\\AIC Experiment Data\\DARP\\ITSC_instance_paper\\Results\\DC\\start_18-00\\duration_01_min\\max_delay_05_min\\vga\\config.yaml-solution.json\n",
      "10:22:59 [INFO] Loading experiment config from C:\\Google Drive\\AIC Experiment Data\\DARP\\ITSC_instance_paper\\Results\\DC\\start_18-00\\duration_01_min\\max_delay_05_min\\vga\\config.yaml\n",
      "10:22:59 [INFO] Loading instance config from C:\\Google Drive\\AIC Experiment Data\\DARP\\ITSC_instance_paper\\Instances\\DC\\instances\\start_18-00\\duration_01_min\\max_delay_05_min\\config.yaml\n",
      "10:22:59 [WARNING] No solution found in folder: C:\\Google Drive\\AIC Experiment Data\\DARP\\ITSC_instance_paper\\Results\\DC\\start_18-00\\duration_01_min\\max_delay_10_min\\halns\n",
      "10:22:59 [WARNING] No solution found in folder: C:\\Google Drive\\AIC Experiment Data\\DARP\\ITSC_instance_paper\\Results\\DC\\start_18-00\\duration_01_min\\max_delay_10_min\\halns-ih\n",
      "10:22:59 [INFO] Loading json file from: C:\\Google Drive\\AIC Experiment Data\\DARP\\ITSC_instance_paper\\Results\\DC\\start_18-00\\duration_01_min\\max_delay_10_min\\ih\\config.yaml-performance.json\n",
      "10:22:59 [INFO] Loading json file from: C:\\Google Drive\\AIC Experiment Data\\DARP\\ITSC_instance_paper\\Results\\DC\\start_18-00\\duration_01_min\\max_delay_10_min\\ih\\config.yaml-solution.json\n",
      "10:22:59 [INFO] Loading experiment config from C:\\Google Drive\\AIC Experiment Data\\DARP\\ITSC_instance_paper\\Results\\DC\\start_18-00\\duration_01_min\\max_delay_10_min\\ih\\config.yaml\n",
      "10:22:59 [INFO] Loading instance config from C:\\Google Drive\\AIC Experiment Data\\DARP\\ITSC_instance_paper\\Instances\\DC\\instances\\start_18-00\\duration_01_min\\max_delay_10_min\\config.yaml\n",
      "10:22:59 [INFO] Loading json file from: C:\\Google Drive\\AIC Experiment Data\\DARP\\ITSC_instance_paper\\Results\\DC\\start_18-00\\duration_01_min\\max_delay_10_min\\vga\\config.yaml-performance.json\n",
      "10:22:59 [INFO] Loading json file from: C:\\Google Drive\\AIC Experiment Data\\DARP\\ITSC_instance_paper\\Results\\DC\\start_18-00\\duration_01_min\\max_delay_10_min\\vga\\config.yaml-solution.json\n",
      "10:22:59 [INFO] Loading experiment config from C:\\Google Drive\\AIC Experiment Data\\DARP\\ITSC_instance_paper\\Results\\DC\\start_18-00\\duration_01_min\\max_delay_10_min\\vga\\config.yaml\n",
      "10:22:59 [INFO] Loading instance config from C:\\Google Drive\\AIC Experiment Data\\DARP\\ITSC_instance_paper\\Instances\\DC\\instances\\start_18-00\\duration_01_min\\max_delay_10_min\\config.yaml\n",
      "10:22:59 [WARNING] No solution found in folder: C:\\Google Drive\\AIC Experiment Data\\DARP\\ITSC_instance_paper\\Results\\DC\\start_18-00\\duration_02_h\\max_delay_03_min\\halns\n",
      "10:22:59 [WARNING] No solution found in folder: C:\\Google Drive\\AIC Experiment Data\\DARP\\ITSC_instance_paper\\Results\\DC\\start_18-00\\duration_02_h\\max_delay_03_min\\halns-ih\n",
      "10:22:59 [INFO] Loading json file from: C:\\Google Drive\\AIC Experiment Data\\DARP\\ITSC_instance_paper\\Results\\DC\\start_18-00\\duration_02_h\\max_delay_03_min\\ih\\config.yaml-performance.json\n",
      "10:22:59 [INFO] Loading json file from: C:\\Google Drive\\AIC Experiment Data\\DARP\\ITSC_instance_paper\\Results\\DC\\start_18-00\\duration_02_h\\max_delay_03_min\\ih\\config.yaml-solution.json\n",
      "10:23:00 [INFO] Loading experiment config from C:\\Google Drive\\AIC Experiment Data\\DARP\\ITSC_instance_paper\\Results\\DC\\start_18-00\\duration_02_h\\max_delay_03_min\\ih\\config.yaml\n",
      "10:23:00 [INFO] Loading instance config from C:\\Google Drive\\AIC Experiment Data\\DARP\\ITSC_instance_paper\\Instances\\DC\\instances\\start_18-00\\duration_02_h\\max_delay_03_min\\config.yaml\n",
      "10:23:00 [WARNING] No solution found in folder: C:\\Google Drive\\AIC Experiment Data\\DARP\\ITSC_instance_paper\\Results\\DC\\start_18-00\\duration_02_h\\max_delay_03_min\\vga\n",
      "10:23:00 [WARNING] No solution found in folder: C:\\Google Drive\\AIC Experiment Data\\DARP\\ITSC_instance_paper\\Results\\DC\\start_18-00\\duration_02_h\\max_delay_05_min\\halns\n",
      "10:23:00 [WARNING] No solution found in folder: C:\\Google Drive\\AIC Experiment Data\\DARP\\ITSC_instance_paper\\Results\\DC\\start_18-00\\duration_02_h\\max_delay_05_min\\halns-ih\n",
      "10:23:00 [INFO] Loading json file from: C:\\Google Drive\\AIC Experiment Data\\DARP\\ITSC_instance_paper\\Results\\DC\\start_18-00\\duration_02_h\\max_delay_05_min\\ih\\config.yaml-performance.json\n",
      "10:23:00 [INFO] Loading json file from: C:\\Google Drive\\AIC Experiment Data\\DARP\\ITSC_instance_paper\\Results\\DC\\start_18-00\\duration_02_h\\max_delay_05_min\\ih\\config.yaml-solution.json\n",
      "10:23:00 [INFO] Loading experiment config from C:\\Google Drive\\AIC Experiment Data\\DARP\\ITSC_instance_paper\\Results\\DC\\start_18-00\\duration_02_h\\max_delay_05_min\\ih\\config.yaml\n",
      "10:23:00 [INFO] Loading instance config from C:\\Google Drive\\AIC Experiment Data\\DARP\\ITSC_instance_paper\\Instances\\DC\\instances\\start_18-00\\duration_02_h\\max_delay_05_min\\config.yaml\n",
      "10:23:00 [WARNING] No solution found in folder: C:\\Google Drive\\AIC Experiment Data\\DARP\\ITSC_instance_paper\\Results\\DC\\start_18-00\\duration_02_h\\max_delay_05_min\\vga\n",
      "10:23:00 [WARNING] No solution found in folder: C:\\Google Drive\\AIC Experiment Data\\DARP\\ITSC_instance_paper\\Results\\DC\\start_18-00\\duration_02_h\\max_delay_10_min\\halns\n",
      "10:23:00 [WARNING] No solution found in folder: C:\\Google Drive\\AIC Experiment Data\\DARP\\ITSC_instance_paper\\Results\\DC\\start_18-00\\duration_02_h\\max_delay_10_min\\halns-ih\n",
      "10:23:00 [INFO] Loading json file from: C:\\Google Drive\\AIC Experiment Data\\DARP\\ITSC_instance_paper\\Results\\DC\\start_18-00\\duration_02_h\\max_delay_10_min\\ih\\config.yaml-performance.json\n",
      "10:23:00 [INFO] Loading json file from: C:\\Google Drive\\AIC Experiment Data\\DARP\\ITSC_instance_paper\\Results\\DC\\start_18-00\\duration_02_h\\max_delay_10_min\\ih\\config.yaml-solution.json\n",
      "10:23:00 [INFO] Loading experiment config from C:\\Google Drive\\AIC Experiment Data\\DARP\\ITSC_instance_paper\\Results\\DC\\start_18-00\\duration_02_h\\max_delay_10_min\\ih\\config.yaml\n",
      "10:23:00 [INFO] Loading instance config from C:\\Google Drive\\AIC Experiment Data\\DARP\\ITSC_instance_paper\\Instances\\DC\\instances\\start_18-00\\duration_02_h\\max_delay_10_min\\config.yaml\n",
      "10:23:00 [WARNING] No solution found in folder: C:\\Google Drive\\AIC Experiment Data\\DARP\\ITSC_instance_paper\\Results\\DC\\start_18-00\\duration_02_h\\max_delay_10_min\\vga\n",
      "10:23:00 [WARNING] No solution found in folder: C:\\Google Drive\\AIC Experiment Data\\DARP\\ITSC_instance_paper\\Results\\DC\\start_18-00\\duration_02_min\\max_delay_03_min\\halns\n",
      "10:23:00 [WARNING] No solution found in folder: C:\\Google Drive\\AIC Experiment Data\\DARP\\ITSC_instance_paper\\Results\\DC\\start_18-00\\duration_02_min\\max_delay_03_min\\halns-ih\n",
      "10:23:00 [INFO] Loading json file from: C:\\Google Drive\\AIC Experiment Data\\DARP\\ITSC_instance_paper\\Results\\DC\\start_18-00\\duration_02_min\\max_delay_03_min\\ih\\config.yaml-performance.json\n",
      "10:23:00 [INFO] Loading json file from: C:\\Google Drive\\AIC Experiment Data\\DARP\\ITSC_instance_paper\\Results\\DC\\start_18-00\\duration_02_min\\max_delay_03_min\\ih\\config.yaml-solution.json\n",
      "10:23:00 [INFO] Loading experiment config from C:\\Google Drive\\AIC Experiment Data\\DARP\\ITSC_instance_paper\\Results\\DC\\start_18-00\\duration_02_min\\max_delay_03_min\\ih\\config.yaml\n",
      "10:23:00 [INFO] Loading instance config from C:\\Google Drive\\AIC Experiment Data\\DARP\\ITSC_instance_paper\\Instances\\DC\\instances\\start_18-00\\duration_02_min\\max_delay_03_min\\config.yaml\n",
      "10:23:00 [INFO] Loading json file from: C:\\Google Drive\\AIC Experiment Data\\DARP\\ITSC_instance_paper\\Results\\DC\\start_18-00\\duration_02_min\\max_delay_03_min\\vga\\config.yaml-performance.json\n",
      "10:23:00 [INFO] Loading json file from: C:\\Google Drive\\AIC Experiment Data\\DARP\\ITSC_instance_paper\\Results\\DC\\start_18-00\\duration_02_min\\max_delay_03_min\\vga\\config.yaml-solution.json\n",
      "10:23:00 [INFO] Loading experiment config from C:\\Google Drive\\AIC Experiment Data\\DARP\\ITSC_instance_paper\\Results\\DC\\start_18-00\\duration_02_min\\max_delay_03_min\\vga\\config.yaml\n",
      "10:23:00 [INFO] Loading instance config from C:\\Google Drive\\AIC Experiment Data\\DARP\\ITSC_instance_paper\\Instances\\DC\\instances\\start_18-00\\duration_02_min\\max_delay_03_min\\config.yaml\n",
      "10:23:00 [WARNING] No solution found in folder: C:\\Google Drive\\AIC Experiment Data\\DARP\\ITSC_instance_paper\\Results\\DC\\start_18-00\\duration_02_min\\max_delay_05_min\\halns\n",
      "10:23:00 [WARNING] No solution found in folder: C:\\Google Drive\\AIC Experiment Data\\DARP\\ITSC_instance_paper\\Results\\DC\\start_18-00\\duration_02_min\\max_delay_05_min\\halns-ih\n",
      "10:23:00 [INFO] Loading json file from: C:\\Google Drive\\AIC Experiment Data\\DARP\\ITSC_instance_paper\\Results\\DC\\start_18-00\\duration_02_min\\max_delay_05_min\\ih\\config.yaml-performance.json\n",
      "10:23:00 [INFO] Loading json file from: C:\\Google Drive\\AIC Experiment Data\\DARP\\ITSC_instance_paper\\Results\\DC\\start_18-00\\duration_02_min\\max_delay_05_min\\ih\\config.yaml-solution.json\n",
      "10:23:00 [INFO] Loading experiment config from C:\\Google Drive\\AIC Experiment Data\\DARP\\ITSC_instance_paper\\Results\\DC\\start_18-00\\duration_02_min\\max_delay_05_min\\ih\\config.yaml\n",
      "10:23:00 [INFO] Loading instance config from C:\\Google Drive\\AIC Experiment Data\\DARP\\ITSC_instance_paper\\Instances\\DC\\instances\\start_18-00\\duration_02_min\\max_delay_05_min\\config.yaml\n",
      "10:23:00 [INFO] Loading json file from: C:\\Google Drive\\AIC Experiment Data\\DARP\\ITSC_instance_paper\\Results\\DC\\start_18-00\\duration_02_min\\max_delay_05_min\\vga\\config.yaml-performance.json\n",
      "10:23:00 [INFO] Loading json file from: C:\\Google Drive\\AIC Experiment Data\\DARP\\ITSC_instance_paper\\Results\\DC\\start_18-00\\duration_02_min\\max_delay_05_min\\vga\\config.yaml-solution.json\n",
      "10:23:00 [INFO] Loading experiment config from C:\\Google Drive\\AIC Experiment Data\\DARP\\ITSC_instance_paper\\Results\\DC\\start_18-00\\duration_02_min\\max_delay_05_min\\vga\\config.yaml\n",
      "10:23:00 [INFO] Loading instance config from C:\\Google Drive\\AIC Experiment Data\\DARP\\ITSC_instance_paper\\Instances\\DC\\instances\\start_18-00\\duration_02_min\\max_delay_05_min\\config.yaml\n",
      "10:23:00 [WARNING] No solution found in folder: C:\\Google Drive\\AIC Experiment Data\\DARP\\ITSC_instance_paper\\Results\\DC\\start_18-00\\duration_02_min\\max_delay_10_min\\halns\n",
      "10:23:00 [WARNING] No solution found in folder: C:\\Google Drive\\AIC Experiment Data\\DARP\\ITSC_instance_paper\\Results\\DC\\start_18-00\\duration_02_min\\max_delay_10_min\\halns-ih\n",
      "10:23:00 [INFO] Loading json file from: C:\\Google Drive\\AIC Experiment Data\\DARP\\ITSC_instance_paper\\Results\\DC\\start_18-00\\duration_02_min\\max_delay_10_min\\ih\\config.yaml-performance.json\n",
      "10:23:00 [INFO] Loading json file from: C:\\Google Drive\\AIC Experiment Data\\DARP\\ITSC_instance_paper\\Results\\DC\\start_18-00\\duration_02_min\\max_delay_10_min\\ih\\config.yaml-solution.json\n",
      "10:23:00 [INFO] Loading experiment config from C:\\Google Drive\\AIC Experiment Data\\DARP\\ITSC_instance_paper\\Results\\DC\\start_18-00\\duration_02_min\\max_delay_10_min\\ih\\config.yaml\n",
      "10:23:00 [INFO] Loading instance config from C:\\Google Drive\\AIC Experiment Data\\DARP\\ITSC_instance_paper\\Instances\\DC\\instances\\start_18-00\\duration_02_min\\max_delay_10_min\\config.yaml\n",
      "10:23:00 [INFO] Loading json file from: C:\\Google Drive\\AIC Experiment Data\\DARP\\ITSC_instance_paper\\Results\\DC\\start_18-00\\duration_02_min\\max_delay_10_min\\vga\\config.yaml-performance.json\n",
      "10:23:00 [INFO] Loading json file from: C:\\Google Drive\\AIC Experiment Data\\DARP\\ITSC_instance_paper\\Results\\DC\\start_18-00\\duration_02_min\\max_delay_10_min\\vga\\config.yaml-solution.json\n",
      "10:23:00 [INFO] Loading experiment config from C:\\Google Drive\\AIC Experiment Data\\DARP\\ITSC_instance_paper\\Results\\DC\\start_18-00\\duration_02_min\\max_delay_10_min\\vga\\config.yaml\n",
      "10:23:00 [INFO] Loading instance config from C:\\Google Drive\\AIC Experiment Data\\DARP\\ITSC_instance_paper\\Instances\\DC\\instances\\start_18-00\\duration_02_min\\max_delay_10_min\\config.yaml\n",
      "10:23:00 [WARNING] No solution found in folder: C:\\Google Drive\\AIC Experiment Data\\DARP\\ITSC_instance_paper\\Results\\DC\\start_18-00\\duration_05_min\\max_delay_03_min\\halns\n",
      "10:23:00 [WARNING] No solution found in folder: C:\\Google Drive\\AIC Experiment Data\\DARP\\ITSC_instance_paper\\Results\\DC\\start_18-00\\duration_05_min\\max_delay_03_min\\halns-ih\n",
      "10:23:00 [INFO] Loading json file from: C:\\Google Drive\\AIC Experiment Data\\DARP\\ITSC_instance_paper\\Results\\DC\\start_18-00\\duration_05_min\\max_delay_03_min\\ih\\config.yaml-performance.json\n",
      "10:23:00 [INFO] Loading json file from: C:\\Google Drive\\AIC Experiment Data\\DARP\\ITSC_instance_paper\\Results\\DC\\start_18-00\\duration_05_min\\max_delay_03_min\\ih\\config.yaml-solution.json\n",
      "10:23:00 [INFO] Loading experiment config from C:\\Google Drive\\AIC Experiment Data\\DARP\\ITSC_instance_paper\\Results\\DC\\start_18-00\\duration_05_min\\max_delay_03_min\\ih\\config.yaml\n",
      "10:23:00 [INFO] Loading instance config from C:\\Google Drive\\AIC Experiment Data\\DARP\\ITSC_instance_paper\\Instances\\DC\\instances\\start_18-00\\duration_05_min\\max_delay_03_min\\config.yaml\n",
      "10:23:00 [INFO] Loading json file from: C:\\Google Drive\\AIC Experiment Data\\DARP\\ITSC_instance_paper\\Results\\DC\\start_18-00\\duration_05_min\\max_delay_03_min\\vga\\config.yaml-performance.json\n",
      "10:23:00 [INFO] Loading json file from: C:\\Google Drive\\AIC Experiment Data\\DARP\\ITSC_instance_paper\\Results\\DC\\start_18-00\\duration_05_min\\max_delay_03_min\\vga\\config.yaml-solution.json\n",
      "10:23:00 [INFO] Loading experiment config from C:\\Google Drive\\AIC Experiment Data\\DARP\\ITSC_instance_paper\\Results\\DC\\start_18-00\\duration_05_min\\max_delay_03_min\\vga\\config.yaml\n",
      "10:23:00 [INFO] Loading instance config from C:\\Google Drive\\AIC Experiment Data\\DARP\\ITSC_instance_paper\\Instances\\DC\\instances\\start_18-00\\duration_05_min\\max_delay_03_min\\config.yaml\n",
      "10:23:00 [WARNING] No solution found in folder: C:\\Google Drive\\AIC Experiment Data\\DARP\\ITSC_instance_paper\\Results\\DC\\start_18-00\\duration_05_min\\max_delay_05_min\\halns\n",
      "10:23:00 [WARNING] No solution found in folder: C:\\Google Drive\\AIC Experiment Data\\DARP\\ITSC_instance_paper\\Results\\DC\\start_18-00\\duration_05_min\\max_delay_05_min\\halns-ih\n",
      "10:23:00 [INFO] Loading json file from: C:\\Google Drive\\AIC Experiment Data\\DARP\\ITSC_instance_paper\\Results\\DC\\start_18-00\\duration_05_min\\max_delay_05_min\\ih\\config.yaml-performance.json\n",
      "10:23:00 [INFO] Loading json file from: C:\\Google Drive\\AIC Experiment Data\\DARP\\ITSC_instance_paper\\Results\\DC\\start_18-00\\duration_05_min\\max_delay_05_min\\ih\\config.yaml-solution.json\n",
      "10:23:00 [INFO] Loading experiment config from C:\\Google Drive\\AIC Experiment Data\\DARP\\ITSC_instance_paper\\Results\\DC\\start_18-00\\duration_05_min\\max_delay_05_min\\ih\\config.yaml\n",
      "10:23:00 [INFO] Loading instance config from C:\\Google Drive\\AIC Experiment Data\\DARP\\ITSC_instance_paper\\Instances\\DC\\instances\\start_18-00\\duration_05_min\\max_delay_05_min\\config.yaml\n",
      "10:23:00 [INFO] Loading json file from: C:\\Google Drive\\AIC Experiment Data\\DARP\\ITSC_instance_paper\\Results\\DC\\start_18-00\\duration_05_min\\max_delay_05_min\\vga\\config.yaml-performance.json\n",
      "10:23:00 [INFO] Loading json file from: C:\\Google Drive\\AIC Experiment Data\\DARP\\ITSC_instance_paper\\Results\\DC\\start_18-00\\duration_05_min\\max_delay_05_min\\vga\\config.yaml-solution.json\n",
      "10:23:00 [INFO] Loading experiment config from C:\\Google Drive\\AIC Experiment Data\\DARP\\ITSC_instance_paper\\Results\\DC\\start_18-00\\duration_05_min\\max_delay_05_min\\vga\\config.yaml\n",
      "10:23:00 [INFO] Loading instance config from C:\\Google Drive\\AIC Experiment Data\\DARP\\ITSC_instance_paper\\Instances\\DC\\instances\\start_18-00\\duration_05_min\\max_delay_05_min\\config.yaml\n",
      "10:23:00 [WARNING] No solution found in folder: C:\\Google Drive\\AIC Experiment Data\\DARP\\ITSC_instance_paper\\Results\\DC\\start_18-00\\duration_05_min\\max_delay_10_min\\halns\n",
      "10:23:00 [WARNING] No solution found in folder: C:\\Google Drive\\AIC Experiment Data\\DARP\\ITSC_instance_paper\\Results\\DC\\start_18-00\\duration_05_min\\max_delay_10_min\\halns-ih\n",
      "10:23:00 [INFO] Loading json file from: C:\\Google Drive\\AIC Experiment Data\\DARP\\ITSC_instance_paper\\Results\\DC\\start_18-00\\duration_05_min\\max_delay_10_min\\ih\\config.yaml-performance.json\n",
      "10:23:00 [INFO] Loading json file from: C:\\Google Drive\\AIC Experiment Data\\DARP\\ITSC_instance_paper\\Results\\DC\\start_18-00\\duration_05_min\\max_delay_10_min\\ih\\config.yaml-solution.json\n",
      "10:23:00 [INFO] Loading experiment config from C:\\Google Drive\\AIC Experiment Data\\DARP\\ITSC_instance_paper\\Results\\DC\\start_18-00\\duration_05_min\\max_delay_10_min\\ih\\config.yaml\n",
      "10:23:00 [INFO] Loading instance config from C:\\Google Drive\\AIC Experiment Data\\DARP\\ITSC_instance_paper\\Instances\\DC\\instances\\start_18-00\\duration_05_min\\max_delay_10_min\\config.yaml\n",
      "10:23:00 [INFO] Loading json file from: C:\\Google Drive\\AIC Experiment Data\\DARP\\ITSC_instance_paper\\Results\\DC\\start_18-00\\duration_05_min\\max_delay_10_min\\vga\\config.yaml-performance.json\n",
      "10:23:00 [INFO] Loading json file from: C:\\Google Drive\\AIC Experiment Data\\DARP\\ITSC_instance_paper\\Results\\DC\\start_18-00\\duration_05_min\\max_delay_10_min\\vga\\config.yaml-solution.json\n",
      "10:23:00 [INFO] Loading experiment config from C:\\Google Drive\\AIC Experiment Data\\DARP\\ITSC_instance_paper\\Results\\DC\\start_18-00\\duration_05_min\\max_delay_10_min\\vga\\config.yaml\n",
      "10:23:00 [INFO] Loading instance config from C:\\Google Drive\\AIC Experiment Data\\DARP\\ITSC_instance_paper\\Instances\\DC\\instances\\start_18-00\\duration_05_min\\max_delay_10_min\\config.yaml\n",
      "10:23:00 [WARNING] No solution found in folder: C:\\Google Drive\\AIC Experiment Data\\DARP\\ITSC_instance_paper\\Results\\DC\\start_18-00\\duration_15_min\\max_delay_03_min\\halns\n",
      "10:23:00 [WARNING] No solution found in folder: C:\\Google Drive\\AIC Experiment Data\\DARP\\ITSC_instance_paper\\Results\\DC\\start_18-00\\duration_15_min\\max_delay_03_min\\halns-ih\n",
      "10:23:00 [INFO] Loading json file from: C:\\Google Drive\\AIC Experiment Data\\DARP\\ITSC_instance_paper\\Results\\DC\\start_18-00\\duration_15_min\\max_delay_03_min\\ih\\config.yaml-performance.json\n",
      "10:23:00 [INFO] Loading json file from: C:\\Google Drive\\AIC Experiment Data\\DARP\\ITSC_instance_paper\\Results\\DC\\start_18-00\\duration_15_min\\max_delay_03_min\\ih\\config.yaml-solution.json\n",
      "10:23:00 [INFO] Loading experiment config from C:\\Google Drive\\AIC Experiment Data\\DARP\\ITSC_instance_paper\\Results\\DC\\start_18-00\\duration_15_min\\max_delay_03_min\\ih\\config.yaml\n",
      "10:23:00 [INFO] Loading instance config from C:\\Google Drive\\AIC Experiment Data\\DARP\\ITSC_instance_paper\\Instances\\DC\\instances\\start_18-00\\duration_15_min\\max_delay_03_min\\config.yaml\n",
      "10:23:00 [INFO] Loading json file from: C:\\Google Drive\\AIC Experiment Data\\DARP\\ITSC_instance_paper\\Results\\DC\\start_18-00\\duration_15_min\\max_delay_03_min\\vga\\config.yaml-performance.json\n",
      "10:23:00 [INFO] Loading json file from: C:\\Google Drive\\AIC Experiment Data\\DARP\\ITSC_instance_paper\\Results\\DC\\start_18-00\\duration_15_min\\max_delay_03_min\\vga\\config.yaml-solution.json\n",
      "10:23:00 [INFO] Loading experiment config from C:\\Google Drive\\AIC Experiment Data\\DARP\\ITSC_instance_paper\\Results\\DC\\start_18-00\\duration_15_min\\max_delay_03_min\\vga\\config.yaml\n",
      "10:23:00 [INFO] Loading instance config from C:\\Google Drive\\AIC Experiment Data\\DARP\\ITSC_instance_paper\\Instances\\DC\\instances\\start_18-00\\duration_15_min\\max_delay_03_min\\config.yaml\n",
      "10:23:00 [WARNING] No solution found in folder: C:\\Google Drive\\AIC Experiment Data\\DARP\\ITSC_instance_paper\\Results\\DC\\start_18-00\\duration_15_min\\max_delay_05_min\\halns\n",
      "10:23:00 [WARNING] No solution found in folder: C:\\Google Drive\\AIC Experiment Data\\DARP\\ITSC_instance_paper\\Results\\DC\\start_18-00\\duration_15_min\\max_delay_05_min\\halns-ih\n",
      "10:23:00 [INFO] Loading json file from: C:\\Google Drive\\AIC Experiment Data\\DARP\\ITSC_instance_paper\\Results\\DC\\start_18-00\\duration_15_min\\max_delay_05_min\\ih\\config.yaml-performance.json\n",
      "10:23:00 [INFO] Loading json file from: C:\\Google Drive\\AIC Experiment Data\\DARP\\ITSC_instance_paper\\Results\\DC\\start_18-00\\duration_15_min\\max_delay_05_min\\ih\\config.yaml-solution.json\n",
      "10:23:00 [INFO] Loading experiment config from C:\\Google Drive\\AIC Experiment Data\\DARP\\ITSC_instance_paper\\Results\\DC\\start_18-00\\duration_15_min\\max_delay_05_min\\ih\\config.yaml\n",
      "10:23:00 [INFO] Loading instance config from C:\\Google Drive\\AIC Experiment Data\\DARP\\ITSC_instance_paper\\Instances\\DC\\instances\\start_18-00\\duration_15_min\\max_delay_05_min\\config.yaml\n",
      "10:23:00 [INFO] Loading json file from: C:\\Google Drive\\AIC Experiment Data\\DARP\\ITSC_instance_paper\\Results\\DC\\start_18-00\\duration_15_min\\max_delay_05_min\\vga\\config.yaml-performance.json\n",
      "10:23:00 [INFO] Loading json file from: C:\\Google Drive\\AIC Experiment Data\\DARP\\ITSC_instance_paper\\Results\\DC\\start_18-00\\duration_15_min\\max_delay_05_min\\vga\\config.yaml-solution.json\n",
      "10:23:00 [INFO] Loading experiment config from C:\\Google Drive\\AIC Experiment Data\\DARP\\ITSC_instance_paper\\Results\\DC\\start_18-00\\duration_15_min\\max_delay_05_min\\vga\\config.yaml\n",
      "10:23:00 [INFO] Loading instance config from C:\\Google Drive\\AIC Experiment Data\\DARP\\ITSC_instance_paper\\Instances\\DC\\instances\\start_18-00\\duration_15_min\\max_delay_05_min\\config.yaml\n",
      "10:23:00 [WARNING] No solution found in folder: C:\\Google Drive\\AIC Experiment Data\\DARP\\ITSC_instance_paper\\Results\\DC\\start_18-00\\duration_15_min\\max_delay_10_min\\halns\n",
      "10:23:00 [WARNING] No solution found in folder: C:\\Google Drive\\AIC Experiment Data\\DARP\\ITSC_instance_paper\\Results\\DC\\start_18-00\\duration_15_min\\max_delay_10_min\\halns-ih\n",
      "10:23:00 [INFO] Loading json file from: C:\\Google Drive\\AIC Experiment Data\\DARP\\ITSC_instance_paper\\Results\\DC\\start_18-00\\duration_15_min\\max_delay_10_min\\ih\\config.yaml-performance.json\n",
      "10:23:00 [INFO] Loading json file from: C:\\Google Drive\\AIC Experiment Data\\DARP\\ITSC_instance_paper\\Results\\DC\\start_18-00\\duration_15_min\\max_delay_10_min\\ih\\config.yaml-solution.json\n",
      "10:23:00 [INFO] Loading experiment config from C:\\Google Drive\\AIC Experiment Data\\DARP\\ITSC_instance_paper\\Results\\DC\\start_18-00\\duration_15_min\\max_delay_10_min\\ih\\config.yaml\n",
      "10:23:00 [INFO] Loading instance config from C:\\Google Drive\\AIC Experiment Data\\DARP\\ITSC_instance_paper\\Instances\\DC\\instances\\start_18-00\\duration_15_min\\max_delay_10_min\\config.yaml\n",
      "10:23:00 [INFO] Loading json file from: C:\\Google Drive\\AIC Experiment Data\\DARP\\ITSC_instance_paper\\Results\\DC\\start_18-00\\duration_15_min\\max_delay_10_min\\vga\\config.yaml-performance.json\n",
      "10:23:00 [INFO] Loading json file from: C:\\Google Drive\\AIC Experiment Data\\DARP\\ITSC_instance_paper\\Results\\DC\\start_18-00\\duration_15_min\\max_delay_10_min\\vga\\config.yaml-solution.json\n",
      "10:23:00 [INFO] Loading experiment config from C:\\Google Drive\\AIC Experiment Data\\DARP\\ITSC_instance_paper\\Results\\DC\\start_18-00\\duration_15_min\\max_delay_10_min\\vga\\config.yaml\n",
      "10:23:00 [INFO] Loading instance config from C:\\Google Drive\\AIC Experiment Data\\DARP\\ITSC_instance_paper\\Instances\\DC\\instances\\start_18-00\\duration_15_min\\max_delay_10_min\\config.yaml\n",
      "10:23:00 [WARNING] No solution found in folder: C:\\Google Drive\\AIC Experiment Data\\DARP\\ITSC_instance_paper\\Results\\DC\\start_18-00\\duration_16_h\\max_delay_03_min\\halns\n",
      "10:23:00 [WARNING] No solution found in folder: C:\\Google Drive\\AIC Experiment Data\\DARP\\ITSC_instance_paper\\Results\\DC\\start_18-00\\duration_16_h\\max_delay_03_min\\halns-ih\n",
      "10:23:00 [INFO] Loading json file from: C:\\Google Drive\\AIC Experiment Data\\DARP\\ITSC_instance_paper\\Results\\DC\\start_18-00\\duration_16_h\\max_delay_03_min\\ih\\config.yaml-performance.json\n",
      "10:23:00 [INFO] Loading json file from: C:\\Google Drive\\AIC Experiment Data\\DARP\\ITSC_instance_paper\\Results\\DC\\start_18-00\\duration_16_h\\max_delay_03_min\\ih\\config.yaml-solution.json\n",
      "10:23:00 [INFO] Loading experiment config from C:\\Google Drive\\AIC Experiment Data\\DARP\\ITSC_instance_paper\\Results\\DC\\start_18-00\\duration_16_h\\max_delay_03_min\\ih\\config.yaml\n",
      "10:23:00 [INFO] Loading instance config from C:\\Google Drive\\AIC Experiment Data\\DARP\\ITSC_instance_paper\\Instances\\DC\\instances\\start_18-00\\duration_16_h\\max_delay_03_min\\config.yaml\n",
      "10:23:00 [WARNING] No solution found in folder: C:\\Google Drive\\AIC Experiment Data\\DARP\\ITSC_instance_paper\\Results\\DC\\start_18-00\\duration_16_h\\max_delay_03_min\\vga\n",
      "10:23:00 [WARNING] No solution found in folder: C:\\Google Drive\\AIC Experiment Data\\DARP\\ITSC_instance_paper\\Results\\DC\\start_18-00\\duration_16_h\\max_delay_05_min\\halns\n",
      "10:23:00 [WARNING] No solution found in folder: C:\\Google Drive\\AIC Experiment Data\\DARP\\ITSC_instance_paper\\Results\\DC\\start_18-00\\duration_16_h\\max_delay_05_min\\halns-ih\n",
      "10:23:00 [INFO] Loading json file from: C:\\Google Drive\\AIC Experiment Data\\DARP\\ITSC_instance_paper\\Results\\DC\\start_18-00\\duration_16_h\\max_delay_05_min\\ih\\config.yaml-performance.json\n",
      "10:23:00 [INFO] Loading json file from: C:\\Google Drive\\AIC Experiment Data\\DARP\\ITSC_instance_paper\\Results\\DC\\start_18-00\\duration_16_h\\max_delay_05_min\\ih\\config.yaml-solution.json\n",
      "10:23:00 [INFO] Loading experiment config from C:\\Google Drive\\AIC Experiment Data\\DARP\\ITSC_instance_paper\\Results\\DC\\start_18-00\\duration_16_h\\max_delay_05_min\\ih\\config.yaml\n",
      "10:23:00 [INFO] Loading instance config from C:\\Google Drive\\AIC Experiment Data\\DARP\\ITSC_instance_paper\\Instances\\DC\\instances\\start_18-00\\duration_16_h\\max_delay_05_min\\config.yaml\n",
      "10:23:00 [WARNING] No solution found in folder: C:\\Google Drive\\AIC Experiment Data\\DARP\\ITSC_instance_paper\\Results\\DC\\start_18-00\\duration_16_h\\max_delay_05_min\\vga\n",
      "10:23:00 [WARNING] No solution found in folder: C:\\Google Drive\\AIC Experiment Data\\DARP\\ITSC_instance_paper\\Results\\DC\\start_18-00\\duration_16_h\\max_delay_10_min\\halns\n",
      "10:23:00 [WARNING] No solution found in folder: C:\\Google Drive\\AIC Experiment Data\\DARP\\ITSC_instance_paper\\Results\\DC\\start_18-00\\duration_16_h\\max_delay_10_min\\halns-ih\n",
      "10:23:00 [INFO] Loading json file from: C:\\Google Drive\\AIC Experiment Data\\DARP\\ITSC_instance_paper\\Results\\DC\\start_18-00\\duration_16_h\\max_delay_10_min\\ih\\config.yaml-performance.json\n",
      "10:23:00 [INFO] Loading json file from: C:\\Google Drive\\AIC Experiment Data\\DARP\\ITSC_instance_paper\\Results\\DC\\start_18-00\\duration_16_h\\max_delay_10_min\\ih\\config.yaml-solution.json\n",
      "10:23:00 [INFO] Loading experiment config from C:\\Google Drive\\AIC Experiment Data\\DARP\\ITSC_instance_paper\\Results\\DC\\start_18-00\\duration_16_h\\max_delay_10_min\\ih\\config.yaml\n",
      "10:23:00 [INFO] Loading instance config from C:\\Google Drive\\AIC Experiment Data\\DARP\\ITSC_instance_paper\\Instances\\DC\\instances\\start_18-00\\duration_16_h\\max_delay_10_min\\config.yaml\n",
      "10:23:00 [WARNING] No solution found in folder: C:\\Google Drive\\AIC Experiment Data\\DARP\\ITSC_instance_paper\\Results\\DC\\start_18-00\\duration_16_h\\max_delay_10_min\\vga\n",
      "10:23:00 [WARNING] No solution found in folder: C:\\Google Drive\\AIC Experiment Data\\DARP\\ITSC_instance_paper\\Results\\DC\\start_18-00\\duration_30_min\\max_delay_03_min\\halns\n",
      "10:23:00 [WARNING] No solution found in folder: C:\\Google Drive\\AIC Experiment Data\\DARP\\ITSC_instance_paper\\Results\\DC\\start_18-00\\duration_30_min\\max_delay_03_min\\halns-ih\n",
      "10:23:00 [INFO] Loading json file from: C:\\Google Drive\\AIC Experiment Data\\DARP\\ITSC_instance_paper\\Results\\DC\\start_18-00\\duration_30_min\\max_delay_03_min\\ih\\config.yaml-performance.json\n",
      "10:23:00 [INFO] Loading json file from: C:\\Google Drive\\AIC Experiment Data\\DARP\\ITSC_instance_paper\\Results\\DC\\start_18-00\\duration_30_min\\max_delay_03_min\\ih\\config.yaml-solution.json\n",
      "10:23:00 [INFO] Loading experiment config from C:\\Google Drive\\AIC Experiment Data\\DARP\\ITSC_instance_paper\\Results\\DC\\start_18-00\\duration_30_min\\max_delay_03_min\\ih\\config.yaml\n",
      "10:23:00 [INFO] Loading instance config from C:\\Google Drive\\AIC Experiment Data\\DARP\\ITSC_instance_paper\\Instances\\DC\\instances\\start_18-00\\duration_30_min\\max_delay_03_min\\config.yaml\n",
      "10:23:00 [INFO] Loading json file from: C:\\Google Drive\\AIC Experiment Data\\DARP\\ITSC_instance_paper\\Results\\DC\\start_18-00\\duration_30_min\\max_delay_03_min\\vga\\config.yaml-performance.json\n",
      "10:23:00 [INFO] Loading json file from: C:\\Google Drive\\AIC Experiment Data\\DARP\\ITSC_instance_paper\\Results\\DC\\start_18-00\\duration_30_min\\max_delay_03_min\\vga\\config.yaml-solution.json\n",
      "10:23:00 [INFO] Loading experiment config from C:\\Google Drive\\AIC Experiment Data\\DARP\\ITSC_instance_paper\\Results\\DC\\start_18-00\\duration_30_min\\max_delay_03_min\\vga\\config.yaml\n",
      "10:23:00 [INFO] Loading instance config from C:\\Google Drive\\AIC Experiment Data\\DARP\\ITSC_instance_paper\\Instances\\DC\\instances\\start_18-00\\duration_30_min\\max_delay_03_min\\config.yaml\n",
      "10:23:00 [WARNING] No solution found in folder: C:\\Google Drive\\AIC Experiment Data\\DARP\\ITSC_instance_paper\\Results\\DC\\start_18-00\\duration_30_min\\max_delay_05_min\\halns\n",
      "10:23:00 [WARNING] No solution found in folder: C:\\Google Drive\\AIC Experiment Data\\DARP\\ITSC_instance_paper\\Results\\DC\\start_18-00\\duration_30_min\\max_delay_05_min\\halns-ih\n",
      "10:23:00 [INFO] Loading json file from: C:\\Google Drive\\AIC Experiment Data\\DARP\\ITSC_instance_paper\\Results\\DC\\start_18-00\\duration_30_min\\max_delay_05_min\\ih\\config.yaml-performance.json\n",
      "10:23:00 [INFO] Loading json file from: C:\\Google Drive\\AIC Experiment Data\\DARP\\ITSC_instance_paper\\Results\\DC\\start_18-00\\duration_30_min\\max_delay_05_min\\ih\\config.yaml-solution.json\n",
      "10:23:00 [INFO] Loading experiment config from C:\\Google Drive\\AIC Experiment Data\\DARP\\ITSC_instance_paper\\Results\\DC\\start_18-00\\duration_30_min\\max_delay_05_min\\ih\\config.yaml\n",
      "10:23:00 [INFO] Loading instance config from C:\\Google Drive\\AIC Experiment Data\\DARP\\ITSC_instance_paper\\Instances\\DC\\instances\\start_18-00\\duration_30_min\\max_delay_05_min\\config.yaml\n",
      "10:23:00 [INFO] Loading json file from: C:\\Google Drive\\AIC Experiment Data\\DARP\\ITSC_instance_paper\\Results\\DC\\start_18-00\\duration_30_min\\max_delay_05_min\\vga\\config.yaml-performance.json\n",
      "10:23:00 [INFO] Loading json file from: C:\\Google Drive\\AIC Experiment Data\\DARP\\ITSC_instance_paper\\Results\\DC\\start_18-00\\duration_30_min\\max_delay_05_min\\vga\\config.yaml-solution.json\n",
      "10:23:00 [INFO] Loading experiment config from C:\\Google Drive\\AIC Experiment Data\\DARP\\ITSC_instance_paper\\Results\\DC\\start_18-00\\duration_30_min\\max_delay_05_min\\vga\\config.yaml\n",
      "10:23:00 [INFO] Loading instance config from C:\\Google Drive\\AIC Experiment Data\\DARP\\ITSC_instance_paper\\Instances\\DC\\instances\\start_18-00\\duration_30_min\\max_delay_05_min\\config.yaml\n",
      "10:23:00 [WARNING] No solution found in folder: C:\\Google Drive\\AIC Experiment Data\\DARP\\ITSC_instance_paper\\Results\\DC\\start_18-00\\duration_30_min\\max_delay_10_min\\halns\n",
      "10:23:00 [WARNING] No solution found in folder: C:\\Google Drive\\AIC Experiment Data\\DARP\\ITSC_instance_paper\\Results\\DC\\start_18-00\\duration_30_min\\max_delay_10_min\\halns-ih\n",
      "10:23:00 [INFO] Loading json file from: C:\\Google Drive\\AIC Experiment Data\\DARP\\ITSC_instance_paper\\Results\\DC\\start_18-00\\duration_30_min\\max_delay_10_min\\ih\\config.yaml-performance.json\n",
      "10:23:00 [INFO] Loading json file from: C:\\Google Drive\\AIC Experiment Data\\DARP\\ITSC_instance_paper\\Results\\DC\\start_18-00\\duration_30_min\\max_delay_10_min\\ih\\config.yaml-solution.json\n",
      "10:23:00 [INFO] Loading experiment config from C:\\Google Drive\\AIC Experiment Data\\DARP\\ITSC_instance_paper\\Results\\DC\\start_18-00\\duration_30_min\\max_delay_10_min\\ih\\config.yaml\n",
      "10:23:00 [INFO] Loading instance config from C:\\Google Drive\\AIC Experiment Data\\DARP\\ITSC_instance_paper\\Instances\\DC\\instances\\start_18-00\\duration_30_min\\max_delay_10_min\\config.yaml\n",
      "10:23:00 [WARNING] No solution found in folder: C:\\Google Drive\\AIC Experiment Data\\DARP\\ITSC_instance_paper\\Results\\DC\\start_18-00\\duration_30_min\\max_delay_10_min\\vga\n",
      "10:23:00 [WARNING] No solution found in folder: C:\\Google Drive\\AIC Experiment Data\\DARP\\ITSC_instance_paper\\Results\\DC\\start_18-00\\duration_30_s\\max_delay_03_min\\halns\n",
      "10:23:00 [WARNING] No solution found in folder: C:\\Google Drive\\AIC Experiment Data\\DARP\\ITSC_instance_paper\\Results\\DC\\start_18-00\\duration_30_s\\max_delay_03_min\\halns-ih\n",
      "10:23:00 [INFO] Loading json file from: C:\\Google Drive\\AIC Experiment Data\\DARP\\ITSC_instance_paper\\Results\\DC\\start_18-00\\duration_30_s\\max_delay_03_min\\ih\\config.yaml-performance.json\n",
      "10:23:00 [INFO] Loading json file from: C:\\Google Drive\\AIC Experiment Data\\DARP\\ITSC_instance_paper\\Results\\DC\\start_18-00\\duration_30_s\\max_delay_03_min\\ih\\config.yaml-solution.json\n",
      "10:23:00 [INFO] Loading experiment config from C:\\Google Drive\\AIC Experiment Data\\DARP\\ITSC_instance_paper\\Results\\DC\\start_18-00\\duration_30_s\\max_delay_03_min\\ih\\config.yaml\n",
      "10:23:00 [INFO] Loading instance config from C:\\Google Drive\\AIC Experiment Data\\DARP\\ITSC_instance_paper\\Instances\\DC\\instances\\start_18-00\\duration_30_s\\max_delay_03_min\\config.yaml\n",
      "10:23:00 [INFO] Loading json file from: C:\\Google Drive\\AIC Experiment Data\\DARP\\ITSC_instance_paper\\Results\\DC\\start_18-00\\duration_30_s\\max_delay_03_min\\vga\\config.yaml-performance.json\n",
      "10:23:00 [INFO] Loading json file from: C:\\Google Drive\\AIC Experiment Data\\DARP\\ITSC_instance_paper\\Results\\DC\\start_18-00\\duration_30_s\\max_delay_03_min\\vga\\config.yaml-solution.json\n",
      "10:23:00 [INFO] Loading experiment config from C:\\Google Drive\\AIC Experiment Data\\DARP\\ITSC_instance_paper\\Results\\DC\\start_18-00\\duration_30_s\\max_delay_03_min\\vga\\config.yaml\n",
      "10:23:00 [INFO] Loading instance config from C:\\Google Drive\\AIC Experiment Data\\DARP\\ITSC_instance_paper\\Instances\\DC\\instances\\start_18-00\\duration_30_s\\max_delay_03_min\\config.yaml\n",
      "10:23:00 [WARNING] No solution found in folder: C:\\Google Drive\\AIC Experiment Data\\DARP\\ITSC_instance_paper\\Results\\DC\\start_18-00\\duration_30_s\\max_delay_05_min\\halns\n",
      "10:23:00 [WARNING] No solution found in folder: C:\\Google Drive\\AIC Experiment Data\\DARP\\ITSC_instance_paper\\Results\\DC\\start_18-00\\duration_30_s\\max_delay_05_min\\halns-ih\n",
      "10:23:00 [INFO] Loading json file from: C:\\Google Drive\\AIC Experiment Data\\DARP\\ITSC_instance_paper\\Results\\DC\\start_18-00\\duration_30_s\\max_delay_05_min\\ih\\config.yaml-performance.json\n",
      "10:23:00 [INFO] Loading json file from: C:\\Google Drive\\AIC Experiment Data\\DARP\\ITSC_instance_paper\\Results\\DC\\start_18-00\\duration_30_s\\max_delay_05_min\\ih\\config.yaml-solution.json\n",
      "10:23:00 [INFO] Loading experiment config from C:\\Google Drive\\AIC Experiment Data\\DARP\\ITSC_instance_paper\\Results\\DC\\start_18-00\\duration_30_s\\max_delay_05_min\\ih\\config.yaml\n",
      "10:23:00 [INFO] Loading instance config from C:\\Google Drive\\AIC Experiment Data\\DARP\\ITSC_instance_paper\\Instances\\DC\\instances\\start_18-00\\duration_30_s\\max_delay_05_min\\config.yaml\n",
      "10:23:00 [INFO] Loading json file from: C:\\Google Drive\\AIC Experiment Data\\DARP\\ITSC_instance_paper\\Results\\DC\\start_18-00\\duration_30_s\\max_delay_05_min\\vga\\config.yaml-performance.json\n",
      "10:23:00 [INFO] Loading json file from: C:\\Google Drive\\AIC Experiment Data\\DARP\\ITSC_instance_paper\\Results\\DC\\start_18-00\\duration_30_s\\max_delay_05_min\\vga\\config.yaml-solution.json\n",
      "10:23:00 [INFO] Loading experiment config from C:\\Google Drive\\AIC Experiment Data\\DARP\\ITSC_instance_paper\\Results\\DC\\start_18-00\\duration_30_s\\max_delay_05_min\\vga\\config.yaml\n",
      "10:23:00 [INFO] Loading instance config from C:\\Google Drive\\AIC Experiment Data\\DARP\\ITSC_instance_paper\\Instances\\DC\\instances\\start_18-00\\duration_30_s\\max_delay_05_min\\config.yaml\n",
      "10:23:00 [WARNING] No solution found in folder: C:\\Google Drive\\AIC Experiment Data\\DARP\\ITSC_instance_paper\\Results\\DC\\start_18-00\\duration_30_s\\max_delay_10_min\\halns\n",
      "10:23:00 [WARNING] No solution found in folder: C:\\Google Drive\\AIC Experiment Data\\DARP\\ITSC_instance_paper\\Results\\DC\\start_18-00\\duration_30_s\\max_delay_10_min\\halns-ih\n",
      "10:23:00 [INFO] Loading json file from: C:\\Google Drive\\AIC Experiment Data\\DARP\\ITSC_instance_paper\\Results\\DC\\start_18-00\\duration_30_s\\max_delay_10_min\\ih\\config.yaml-performance.json\n",
      "10:23:00 [INFO] Loading json file from: C:\\Google Drive\\AIC Experiment Data\\DARP\\ITSC_instance_paper\\Results\\DC\\start_18-00\\duration_30_s\\max_delay_10_min\\ih\\config.yaml-solution.json\n",
      "10:23:00 [INFO] Loading experiment config from C:\\Google Drive\\AIC Experiment Data\\DARP\\ITSC_instance_paper\\Results\\DC\\start_18-00\\duration_30_s\\max_delay_10_min\\ih\\config.yaml\n",
      "10:23:00 [INFO] Loading instance config from C:\\Google Drive\\AIC Experiment Data\\DARP\\ITSC_instance_paper\\Instances\\DC\\instances\\start_18-00\\duration_30_s\\max_delay_10_min\\config.yaml\n",
      "10:23:00 [INFO] Loading json file from: C:\\Google Drive\\AIC Experiment Data\\DARP\\ITSC_instance_paper\\Results\\DC\\start_18-00\\duration_30_s\\max_delay_10_min\\vga\\config.yaml-performance.json\n",
      "10:23:00 [INFO] Loading json file from: C:\\Google Drive\\AIC Experiment Data\\DARP\\ITSC_instance_paper\\Results\\DC\\start_18-00\\duration_30_s\\max_delay_10_min\\vga\\config.yaml-solution.json\n",
      "10:23:00 [INFO] Loading experiment config from C:\\Google Drive\\AIC Experiment Data\\DARP\\ITSC_instance_paper\\Results\\DC\\start_18-00\\duration_30_s\\max_delay_10_min\\vga\\config.yaml\n",
      "10:23:00 [INFO] Loading instance config from C:\\Google Drive\\AIC Experiment Data\\DARP\\ITSC_instance_paper\\Instances\\DC\\instances\\start_18-00\\duration_30_s\\max_delay_10_min\\config.yaml\n"
     ]
    },
    {
     "data": {
      "text/plain": "     cost_minutes  total_time  dropped_requests   avg_delay  plan_count   \n0            7705       0.217                 0   637.60574         516  \\\n1            7705       0.217                 0   637.60574         516   \n2            7705       0.217                 0   637.60574         516   \n3            7705       0.217                 0   637.60574         516   \n4            7705       0.217                 0   637.60574         516   \n..            ...         ...               ...         ...         ...   \n695           141       0.036                 0  1499.00000           4   \n696           141       0.036                 0  1499.00000           4   \n697           141       0.036                 0  1499.00000           4   \n698           141       0.036                 0  1499.00000           4   \n699           141       0.036                 0  1499.00000           4   \n\n     req_count  avg_occupancy  used_connections  total_driving_duration   \n0          662       0.913043                -1                  462273  \\\n1          662       0.913043                -1                  462273   \n2          662       0.913043                -1                  462273   \n3          662       0.913043                -1                  462273   \n4          662       0.913043                -1                  462273   \n..         ...            ...               ...                     ...   \n695          4       0.707576                -1                    8474   \n696          4       0.707576                -1                    8474   \n697          4       0.707576                -1                    8474   \n698          4       0.707576                -1                    8474   \n699          4       0.707576                -1                    8474   \n\n     total_waiting_duration  ...  tts_cost  tts_cost_per_plan  method   \n0                        20  ...     87521         169.614341      ih  \\\n1                        20  ...     87521         169.614341      ih   \n2                        20  ...     87521         169.614341      ih   \n3                        20  ...     87521         169.614341      ih   \n4                        20  ...     87521         169.614341      ih   \n..                      ...  ...       ...                ...     ...   \n695                       0  ...      2478         619.500000     vga   \n696                       0  ...      2478         619.500000     vga   \n697                       0  ...      2478         619.500000     vga   \n698                       0  ...      2478         619.500000     vga   \n699                       0  ...      2478         619.500000     vga   \n\n    max_delay          start_time            end_time duration_minutes   \n0         180 2022-04-05 18:00:00 2022-04-05 18:01:00              1.0  \\\n1         180 2022-04-05 18:00:00 2022-04-05 18:01:00              1.0   \n2         180 2022-04-05 18:00:00 2022-04-05 18:01:00              1.0   \n3         180 2022-04-05 18:00:00 2022-04-05 18:01:00              1.0   \n4         180 2022-04-05 18:00:00 2022-04-05 18:01:00              1.0   \n..        ...                 ...                 ...              ...   \n695       600 2022-04-05 18:00:00 2022-04-05 18:00:30              0.5   \n696       600 2022-04-05 18:00:00 2022-04-05 18:00:30              0.5   \n697       600 2022-04-05 18:00:00 2022-04-05 18:00:30              0.5   \n698       600 2022-04-05 18:00:00 2022-04-05 18:00:30              0.5   \n699       600 2022-04-05 18:00:00 2022-04-05 18:00:30              0.5   \n\n     occupancy  vehicle_hours  area  \n0            0      24.345000   NYC  \n1            1      91.622778   NYC  \n2            2      11.723333   NYC  \n3            3       0.698611   NYC  \n4            4       0.019444   NYC  \n..         ...            ...   ...  \n695          0       0.688333    DC  \n696          1       1.665556    DC  \n697          2       0.000000    DC  \n698          3       0.000000    DC  \n699          4       0.000000    DC  \n\n[700 rows x 21 columns]",
      "text/html": "<div>\n<style scoped>\n    .dataframe tbody tr th:only-of-type {\n        vertical-align: middle;\n    }\n\n    .dataframe tbody tr th {\n        vertical-align: top;\n    }\n\n    .dataframe thead th {\n        text-align: right;\n    }\n</style>\n<table border=\"1\" class=\"dataframe\">\n  <thead>\n    <tr style=\"text-align: right;\">\n      <th></th>\n      <th>cost_minutes</th>\n      <th>total_time</th>\n      <th>dropped_requests</th>\n      <th>avg_delay</th>\n      <th>plan_count</th>\n      <th>req_count</th>\n      <th>avg_occupancy</th>\n      <th>used_connections</th>\n      <th>total_driving_duration</th>\n      <th>total_waiting_duration</th>\n      <th>...</th>\n      <th>tts_cost</th>\n      <th>tts_cost_per_plan</th>\n      <th>method</th>\n      <th>max_delay</th>\n      <th>start_time</th>\n      <th>end_time</th>\n      <th>duration_minutes</th>\n      <th>occupancy</th>\n      <th>vehicle_hours</th>\n      <th>area</th>\n    </tr>\n  </thead>\n  <tbody>\n    <tr>\n      <th>0</th>\n      <td>7705</td>\n      <td>0.217</td>\n      <td>0</td>\n      <td>637.60574</td>\n      <td>516</td>\n      <td>662</td>\n      <td>0.913043</td>\n      <td>-1</td>\n      <td>462273</td>\n      <td>20</td>\n      <td>...</td>\n      <td>87521</td>\n      <td>169.614341</td>\n      <td>ih</td>\n      <td>180</td>\n      <td>2022-04-05 18:00:00</td>\n      <td>2022-04-05 18:01:00</td>\n      <td>1.0</td>\n      <td>0</td>\n      <td>24.345000</td>\n      <td>NYC</td>\n    </tr>\n    <tr>\n      <th>1</th>\n      <td>7705</td>\n      <td>0.217</td>\n      <td>0</td>\n      <td>637.60574</td>\n      <td>516</td>\n      <td>662</td>\n      <td>0.913043</td>\n      <td>-1</td>\n      <td>462273</td>\n      <td>20</td>\n      <td>...</td>\n      <td>87521</td>\n      <td>169.614341</td>\n      <td>ih</td>\n      <td>180</td>\n      <td>2022-04-05 18:00:00</td>\n      <td>2022-04-05 18:01:00</td>\n      <td>1.0</td>\n      <td>1</td>\n      <td>91.622778</td>\n      <td>NYC</td>\n    </tr>\n    <tr>\n      <th>2</th>\n      <td>7705</td>\n      <td>0.217</td>\n      <td>0</td>\n      <td>637.60574</td>\n      <td>516</td>\n      <td>662</td>\n      <td>0.913043</td>\n      <td>-1</td>\n      <td>462273</td>\n      <td>20</td>\n      <td>...</td>\n      <td>87521</td>\n      <td>169.614341</td>\n      <td>ih</td>\n      <td>180</td>\n      <td>2022-04-05 18:00:00</td>\n      <td>2022-04-05 18:01:00</td>\n      <td>1.0</td>\n      <td>2</td>\n      <td>11.723333</td>\n      <td>NYC</td>\n    </tr>\n    <tr>\n      <th>3</th>\n      <td>7705</td>\n      <td>0.217</td>\n      <td>0</td>\n      <td>637.60574</td>\n      <td>516</td>\n      <td>662</td>\n      <td>0.913043</td>\n      <td>-1</td>\n      <td>462273</td>\n      <td>20</td>\n      <td>...</td>\n      <td>87521</td>\n      <td>169.614341</td>\n      <td>ih</td>\n      <td>180</td>\n      <td>2022-04-05 18:00:00</td>\n      <td>2022-04-05 18:01:00</td>\n      <td>1.0</td>\n      <td>3</td>\n      <td>0.698611</td>\n      <td>NYC</td>\n    </tr>\n    <tr>\n      <th>4</th>\n      <td>7705</td>\n      <td>0.217</td>\n      <td>0</td>\n      <td>637.60574</td>\n      <td>516</td>\n      <td>662</td>\n      <td>0.913043</td>\n      <td>-1</td>\n      <td>462273</td>\n      <td>20</td>\n      <td>...</td>\n      <td>87521</td>\n      <td>169.614341</td>\n      <td>ih</td>\n      <td>180</td>\n      <td>2022-04-05 18:00:00</td>\n      <td>2022-04-05 18:01:00</td>\n      <td>1.0</td>\n      <td>4</td>\n      <td>0.019444</td>\n      <td>NYC</td>\n    </tr>\n    <tr>\n      <th>...</th>\n      <td>...</td>\n      <td>...</td>\n      <td>...</td>\n      <td>...</td>\n      <td>...</td>\n      <td>...</td>\n      <td>...</td>\n      <td>...</td>\n      <td>...</td>\n      <td>...</td>\n      <td>...</td>\n      <td>...</td>\n      <td>...</td>\n      <td>...</td>\n      <td>...</td>\n      <td>...</td>\n      <td>...</td>\n      <td>...</td>\n      <td>...</td>\n      <td>...</td>\n      <td>...</td>\n    </tr>\n    <tr>\n      <th>695</th>\n      <td>141</td>\n      <td>0.036</td>\n      <td>0</td>\n      <td>1499.00000</td>\n      <td>4</td>\n      <td>4</td>\n      <td>0.707576</td>\n      <td>-1</td>\n      <td>8474</td>\n      <td>0</td>\n      <td>...</td>\n      <td>2478</td>\n      <td>619.500000</td>\n      <td>vga</td>\n      <td>600</td>\n      <td>2022-04-05 18:00:00</td>\n      <td>2022-04-05 18:00:30</td>\n      <td>0.5</td>\n      <td>0</td>\n      <td>0.688333</td>\n      <td>DC</td>\n    </tr>\n    <tr>\n      <th>696</th>\n      <td>141</td>\n      <td>0.036</td>\n      <td>0</td>\n      <td>1499.00000</td>\n      <td>4</td>\n      <td>4</td>\n      <td>0.707576</td>\n      <td>-1</td>\n      <td>8474</td>\n      <td>0</td>\n      <td>...</td>\n      <td>2478</td>\n      <td>619.500000</td>\n      <td>vga</td>\n      <td>600</td>\n      <td>2022-04-05 18:00:00</td>\n      <td>2022-04-05 18:00:30</td>\n      <td>0.5</td>\n      <td>1</td>\n      <td>1.665556</td>\n      <td>DC</td>\n    </tr>\n    <tr>\n      <th>697</th>\n      <td>141</td>\n      <td>0.036</td>\n      <td>0</td>\n      <td>1499.00000</td>\n      <td>4</td>\n      <td>4</td>\n      <td>0.707576</td>\n      <td>-1</td>\n      <td>8474</td>\n      <td>0</td>\n      <td>...</td>\n      <td>2478</td>\n      <td>619.500000</td>\n      <td>vga</td>\n      <td>600</td>\n      <td>2022-04-05 18:00:00</td>\n      <td>2022-04-05 18:00:30</td>\n      <td>0.5</td>\n      <td>2</td>\n      <td>0.000000</td>\n      <td>DC</td>\n    </tr>\n    <tr>\n      <th>698</th>\n      <td>141</td>\n      <td>0.036</td>\n      <td>0</td>\n      <td>1499.00000</td>\n      <td>4</td>\n      <td>4</td>\n      <td>0.707576</td>\n      <td>-1</td>\n      <td>8474</td>\n      <td>0</td>\n      <td>...</td>\n      <td>2478</td>\n      <td>619.500000</td>\n      <td>vga</td>\n      <td>600</td>\n      <td>2022-04-05 18:00:00</td>\n      <td>2022-04-05 18:00:30</td>\n      <td>0.5</td>\n      <td>3</td>\n      <td>0.000000</td>\n      <td>DC</td>\n    </tr>\n    <tr>\n      <th>699</th>\n      <td>141</td>\n      <td>0.036</td>\n      <td>0</td>\n      <td>1499.00000</td>\n      <td>4</td>\n      <td>4</td>\n      <td>0.707576</td>\n      <td>-1</td>\n      <td>8474</td>\n      <td>0</td>\n      <td>...</td>\n      <td>2478</td>\n      <td>619.500000</td>\n      <td>vga</td>\n      <td>600</td>\n      <td>2022-04-05 18:00:00</td>\n      <td>2022-04-05 18:00:30</td>\n      <td>0.5</td>\n      <td>4</td>\n      <td>0.000000</td>\n      <td>DC</td>\n    </tr>\n  </tbody>\n</table>\n<p>700 rows × 21 columns</p>\n</div>"
     },
     "execution_count": 39,
     "metadata": {},
     "output_type": "execute_result"
    }
   ],
   "source": [
    "occupancy_df = pd.DataFrame()\n",
    "for area in areas:\n",
    "    occ_in_area = load_occupancies_in_dir(final_results_path / area)\n",
    "    if occ_in_area is not None:\n",
    "        occ_in_area['area'] = area\n",
    "        occupancy_df = pd.concat([occupancy_df, occ_in_area], ignore_index=True)\n",
    "occupancy_df"
   ],
   "metadata": {
    "collapsed": false,
    "ExecuteTime": {
     "end_time": "2023-05-26T08:23:00.475747800Z",
     "start_time": "2023-05-26T08:22:45.174047700Z"
    }
   }
  },
  {
   "cell_type": "code",
   "execution_count": 41,
   "outputs": [
    {
     "data": {
      "text/plain": "     cost_minutes  total_time  dropped_requests    avg_delay  plan_count   \n125          4387       0.080                 0   635.346505         272  \\\n126          4387       0.080                 0   635.346505         272   \n127          4387       0.080                 0   635.346505         272   \n128          4387       0.080                 0   635.346505         272   \n129          4387       0.080                 0   635.346505         272   \n..            ...         ...               ...          ...         ...   \n640         39919       2.103                 0  1156.725508         198   \n641         39919       2.103                 0  1156.725508         198   \n642         39919       2.103                 0  1156.725508         198   \n643         39919       2.103                 0  1156.725508         198   \n644         39919       2.103                 0  1156.725508         198   \n\n     req_count  avg_occupancy  used_connections  total_driving_duration   \n125        329       0.794050                -1                  263244  \\\n126        329       0.794050                -1                  263244   \n127        329       0.794050                -1                  263244   \n128        329       0.794050                -1                  263244   \n129        329       0.794050                -1                  263244   \n..         ...            ...               ...                     ...   \n640       3297       1.580091                -1                 2395112   \n641       3297       1.580091                -1                 2395112   \n642       3297       1.580091                -1                 2395112   \n643       3297       1.580091                -1                 2395112   \n644       3297       1.580091                -1                 2395112   \n\n     total_waiting_duration  ...  method  max_delay          start_time   \n125                       0  ...      ih        180 2022-04-05 18:00:00  \\\n126                       0  ...      ih        180 2022-04-05 18:00:00   \n127                       0  ...      ih        180 2022-04-05 18:00:00   \n128                       0  ...      ih        180 2022-04-05 18:00:00   \n129                       0  ...      ih        180 2022-04-05 18:00:00   \n..                      ...  ...     ...        ...                 ...   \n640                  483273  ...      ih        600 2022-04-05 18:00:00   \n641                  483273  ...      ih        600 2022-04-05 18:00:00   \n642                  483273  ...      ih        600 2022-04-05 18:00:00   \n643                  483273  ...      ih        600 2022-04-05 18:00:00   \n644                  483273  ...      ih        600 2022-04-05 18:00:00   \n\n               end_time  duration_minutes occupancy vehicle_hours  area   \n125 2022-04-05 18:00:30               0.5         0     20.133611   NYC  \\\n126 2022-04-05 18:00:30               0.5         1     48.085833   NYC   \n127 2022-04-05 18:00:30               0.5         2      4.733889   NYC   \n128 2022-04-05 18:00:30               0.5         3      0.170000   NYC   \n129 2022-04-05 18:00:30               0.5         4      0.000000   NYC   \n..                  ...               ...       ...           ...   ...   \n640 2022-04-06 10:00:00             960.0         0     57.613056    DC   \n641 2022-04-06 10:00:00             960.0         1    274.241944    DC   \n642 2022-04-06 10:00:00             960.0         2    237.377778    DC   \n643 2022-04-06 10:00:00             960.0         3     82.053611    DC   \n644 2022-04-06 10:00:00             960.0         4     14.022500    DC   \n\n     area_order    percent  \n125           0  27.533771  \n126           0  65.759903  \n127           0   6.473842  \n128           0   0.232484  \n129           0   0.000000  \n..          ...        ...  \n640           3   7.205673  \n641           3  34.299477  \n642           3  29.688871  \n643           3  10.262456  \n644           3   1.753796  \n\n[480 rows x 23 columns]",
      "text/html": "<div>\n<style scoped>\n    .dataframe tbody tr th:only-of-type {\n        vertical-align: middle;\n    }\n\n    .dataframe tbody tr th {\n        vertical-align: top;\n    }\n\n    .dataframe thead th {\n        text-align: right;\n    }\n</style>\n<table border=\"1\" class=\"dataframe\">\n  <thead>\n    <tr style=\"text-align: right;\">\n      <th></th>\n      <th>cost_minutes</th>\n      <th>total_time</th>\n      <th>dropped_requests</th>\n      <th>avg_delay</th>\n      <th>plan_count</th>\n      <th>req_count</th>\n      <th>avg_occupancy</th>\n      <th>used_connections</th>\n      <th>total_driving_duration</th>\n      <th>total_waiting_duration</th>\n      <th>...</th>\n      <th>method</th>\n      <th>max_delay</th>\n      <th>start_time</th>\n      <th>end_time</th>\n      <th>duration_minutes</th>\n      <th>occupancy</th>\n      <th>vehicle_hours</th>\n      <th>area</th>\n      <th>area_order</th>\n      <th>percent</th>\n    </tr>\n  </thead>\n  <tbody>\n    <tr>\n      <th>125</th>\n      <td>4387</td>\n      <td>0.080</td>\n      <td>0</td>\n      <td>635.346505</td>\n      <td>272</td>\n      <td>329</td>\n      <td>0.794050</td>\n      <td>-1</td>\n      <td>263244</td>\n      <td>0</td>\n      <td>...</td>\n      <td>ih</td>\n      <td>180</td>\n      <td>2022-04-05 18:00:00</td>\n      <td>2022-04-05 18:00:30</td>\n      <td>0.5</td>\n      <td>0</td>\n      <td>20.133611</td>\n      <td>NYC</td>\n      <td>0</td>\n      <td>27.533771</td>\n    </tr>\n    <tr>\n      <th>126</th>\n      <td>4387</td>\n      <td>0.080</td>\n      <td>0</td>\n      <td>635.346505</td>\n      <td>272</td>\n      <td>329</td>\n      <td>0.794050</td>\n      <td>-1</td>\n      <td>263244</td>\n      <td>0</td>\n      <td>...</td>\n      <td>ih</td>\n      <td>180</td>\n      <td>2022-04-05 18:00:00</td>\n      <td>2022-04-05 18:00:30</td>\n      <td>0.5</td>\n      <td>1</td>\n      <td>48.085833</td>\n      <td>NYC</td>\n      <td>0</td>\n      <td>65.759903</td>\n    </tr>\n    <tr>\n      <th>127</th>\n      <td>4387</td>\n      <td>0.080</td>\n      <td>0</td>\n      <td>635.346505</td>\n      <td>272</td>\n      <td>329</td>\n      <td>0.794050</td>\n      <td>-1</td>\n      <td>263244</td>\n      <td>0</td>\n      <td>...</td>\n      <td>ih</td>\n      <td>180</td>\n      <td>2022-04-05 18:00:00</td>\n      <td>2022-04-05 18:00:30</td>\n      <td>0.5</td>\n      <td>2</td>\n      <td>4.733889</td>\n      <td>NYC</td>\n      <td>0</td>\n      <td>6.473842</td>\n    </tr>\n    <tr>\n      <th>128</th>\n      <td>4387</td>\n      <td>0.080</td>\n      <td>0</td>\n      <td>635.346505</td>\n      <td>272</td>\n      <td>329</td>\n      <td>0.794050</td>\n      <td>-1</td>\n      <td>263244</td>\n      <td>0</td>\n      <td>...</td>\n      <td>ih</td>\n      <td>180</td>\n      <td>2022-04-05 18:00:00</td>\n      <td>2022-04-05 18:00:30</td>\n      <td>0.5</td>\n      <td>3</td>\n      <td>0.170000</td>\n      <td>NYC</td>\n      <td>0</td>\n      <td>0.232484</td>\n    </tr>\n    <tr>\n      <th>129</th>\n      <td>4387</td>\n      <td>0.080</td>\n      <td>0</td>\n      <td>635.346505</td>\n      <td>272</td>\n      <td>329</td>\n      <td>0.794050</td>\n      <td>-1</td>\n      <td>263244</td>\n      <td>0</td>\n      <td>...</td>\n      <td>ih</td>\n      <td>180</td>\n      <td>2022-04-05 18:00:00</td>\n      <td>2022-04-05 18:00:30</td>\n      <td>0.5</td>\n      <td>4</td>\n      <td>0.000000</td>\n      <td>NYC</td>\n      <td>0</td>\n      <td>0.000000</td>\n    </tr>\n    <tr>\n      <th>...</th>\n      <td>...</td>\n      <td>...</td>\n      <td>...</td>\n      <td>...</td>\n      <td>...</td>\n      <td>...</td>\n      <td>...</td>\n      <td>...</td>\n      <td>...</td>\n      <td>...</td>\n      <td>...</td>\n      <td>...</td>\n      <td>...</td>\n      <td>...</td>\n      <td>...</td>\n      <td>...</td>\n      <td>...</td>\n      <td>...</td>\n      <td>...</td>\n      <td>...</td>\n      <td>...</td>\n    </tr>\n    <tr>\n      <th>640</th>\n      <td>39919</td>\n      <td>2.103</td>\n      <td>0</td>\n      <td>1156.725508</td>\n      <td>198</td>\n      <td>3297</td>\n      <td>1.580091</td>\n      <td>-1</td>\n      <td>2395112</td>\n      <td>483273</td>\n      <td>...</td>\n      <td>ih</td>\n      <td>600</td>\n      <td>2022-04-05 18:00:00</td>\n      <td>2022-04-06 10:00:00</td>\n      <td>960.0</td>\n      <td>0</td>\n      <td>57.613056</td>\n      <td>DC</td>\n      <td>3</td>\n      <td>7.205673</td>\n    </tr>\n    <tr>\n      <th>641</th>\n      <td>39919</td>\n      <td>2.103</td>\n      <td>0</td>\n      <td>1156.725508</td>\n      <td>198</td>\n      <td>3297</td>\n      <td>1.580091</td>\n      <td>-1</td>\n      <td>2395112</td>\n      <td>483273</td>\n      <td>...</td>\n      <td>ih</td>\n      <td>600</td>\n      <td>2022-04-05 18:00:00</td>\n      <td>2022-04-06 10:00:00</td>\n      <td>960.0</td>\n      <td>1</td>\n      <td>274.241944</td>\n      <td>DC</td>\n      <td>3</td>\n      <td>34.299477</td>\n    </tr>\n    <tr>\n      <th>642</th>\n      <td>39919</td>\n      <td>2.103</td>\n      <td>0</td>\n      <td>1156.725508</td>\n      <td>198</td>\n      <td>3297</td>\n      <td>1.580091</td>\n      <td>-1</td>\n      <td>2395112</td>\n      <td>483273</td>\n      <td>...</td>\n      <td>ih</td>\n      <td>600</td>\n      <td>2022-04-05 18:00:00</td>\n      <td>2022-04-06 10:00:00</td>\n      <td>960.0</td>\n      <td>2</td>\n      <td>237.377778</td>\n      <td>DC</td>\n      <td>3</td>\n      <td>29.688871</td>\n    </tr>\n    <tr>\n      <th>643</th>\n      <td>39919</td>\n      <td>2.103</td>\n      <td>0</td>\n      <td>1156.725508</td>\n      <td>198</td>\n      <td>3297</td>\n      <td>1.580091</td>\n      <td>-1</td>\n      <td>2395112</td>\n      <td>483273</td>\n      <td>...</td>\n      <td>ih</td>\n      <td>600</td>\n      <td>2022-04-05 18:00:00</td>\n      <td>2022-04-06 10:00:00</td>\n      <td>960.0</td>\n      <td>3</td>\n      <td>82.053611</td>\n      <td>DC</td>\n      <td>3</td>\n      <td>10.262456</td>\n    </tr>\n    <tr>\n      <th>644</th>\n      <td>39919</td>\n      <td>2.103</td>\n      <td>0</td>\n      <td>1156.725508</td>\n      <td>198</td>\n      <td>3297</td>\n      <td>1.580091</td>\n      <td>-1</td>\n      <td>2395112</td>\n      <td>483273</td>\n      <td>...</td>\n      <td>ih</td>\n      <td>600</td>\n      <td>2022-04-05 18:00:00</td>\n      <td>2022-04-06 10:00:00</td>\n      <td>960.0</td>\n      <td>4</td>\n      <td>14.022500</td>\n      <td>DC</td>\n      <td>3</td>\n      <td>1.753796</td>\n    </tr>\n  </tbody>\n</table>\n<p>480 rows × 23 columns</p>\n</div>"
     },
     "execution_count": 41,
     "metadata": {},
     "output_type": "execute_result"
    }
   ],
   "source": [
    "occupancy_df['area_order'] = occupancy_df['area'].map(area_order)\n",
    "occupancy_df.sort_values(by=['area_order', 'max_delay', 'duration_minutes'], inplace=True)\n",
    "occupancy_df_ih = pd.DataFrame(occupancy_df[occupancy_df['method'] == 'ih'])\n",
    "occupancy_df_ih['percent'] = occupancy_df_ih['vehicle_hours'] * 3600 /  (occupancy_df_ih['total_driving_duration'] + occupancy_df_ih['total_waiting_duration']) * 100\n",
    "occupancy_df_ih"
   ],
   "metadata": {
    "collapsed": false,
    "ExecuteTime": {
     "end_time": "2023-05-26T08:24:30.459074700Z",
     "start_time": "2023-05-26T08:24:30.397879300Z"
    }
   }
  },
  {
   "cell_type": "code",
   "execution_count": 42,
   "outputs": [
    {
     "data": {
      "text/plain": "     cost_minutes  total_time  dropped_requests    avg_delay  plan_count   \n0            7705       0.217                 0   637.605740         516  \\\n1            7705       0.217                 0   637.605740         516   \n2            7705       0.217                 0   637.605740         516   \n3            7705       0.217                 0   637.605740         516   \n4            7705       0.217                 0   637.605740         516   \n..            ...         ...               ...          ...         ...   \n665          4748       0.038                 0  1148.588415         111   \n666          4748       0.038                 0  1148.588415         111   \n667          4748       0.038                 0  1148.588415         111   \n668          4748       0.038                 0  1148.588415         111   \n669          4748       0.038                 0  1148.588415         111   \n\n     req_count  avg_occupancy  used_connections  total_driving_duration   \n0          662       0.913043                -1                  462273  \\\n1          662       0.913043                -1                  462273   \n2          662       0.913043                -1                  462273   \n3          662       0.913043                -1                  462273   \n4          662       0.913043                -1                  462273   \n..         ...            ...               ...                     ...   \n665        328       1.313859                -1                  284867   \n666        328       1.313859                -1                  284867   \n667        328       1.313859                -1                  284867   \n668        328       1.313859                -1                  284867   \n669        328       1.313859                -1                  284867   \n\n     total_waiting_duration  ...  max_delay          start_time   \n0                        20  ...        180 2022-04-05 18:00:00  \\\n1                        20  ...        180 2022-04-05 18:00:00   \n2                        20  ...        180 2022-04-05 18:00:00   \n3                        20  ...        180 2022-04-05 18:00:00   \n4                        20  ...        180 2022-04-05 18:00:00   \n..                      ...  ...        ...                 ...   \n665                    1900  ...        600 2022-04-05 18:00:00   \n666                    1900  ...        600 2022-04-05 18:00:00   \n667                    1900  ...        600 2022-04-05 18:00:00   \n668                    1900  ...        600 2022-04-05 18:00:00   \n669                    1900  ...        600 2022-04-05 18:00:00   \n\n               end_time duration_minutes  occupancy vehicle_hours area   \n0   2022-04-05 18:01:00              1.0          0     24.345000  NYC  \\\n1   2022-04-05 18:01:00              1.0          1     91.622778  NYC   \n2   2022-04-05 18:01:00              1.0          2     11.723333  NYC   \n3   2022-04-05 18:01:00              1.0          3      0.698611  NYC   \n4   2022-04-05 18:01:00              1.0          4      0.019444  NYC   \n..                  ...              ...        ...           ...  ...   \n665 2022-04-05 18:30:00             30.0          0     14.936944   DC   \n666 2022-04-05 18:30:00             30.0          1     33.516389   DC   \n667 2022-04-05 18:30:00             30.0          2     22.441667   DC   \n668 2022-04-05 18:30:00             30.0          3      7.373333   DC   \n669 2022-04-05 18:30:00             30.0          4      0.861389   DC   \n\n     area_order    percent  oc_str  \n0             0  18.958107       0  \n1             0  71.349123       1  \n2             0   9.129275       2  \n3             0   0.544027       3  \n4             0   0.015142       4  \n..          ...        ...     ...  \n665           3  18.751460       0  \n666           3  42.075622       1  \n667           3  28.172698       2  \n668           3   9.256295       3  \n669           3   1.081366       4  \n\n[180 rows x 24 columns]",
      "text/html": "<div>\n<style scoped>\n    .dataframe tbody tr th:only-of-type {\n        vertical-align: middle;\n    }\n\n    .dataframe tbody tr th {\n        vertical-align: top;\n    }\n\n    .dataframe thead th {\n        text-align: right;\n    }\n</style>\n<table border=\"1\" class=\"dataframe\">\n  <thead>\n    <tr style=\"text-align: right;\">\n      <th></th>\n      <th>cost_minutes</th>\n      <th>total_time</th>\n      <th>dropped_requests</th>\n      <th>avg_delay</th>\n      <th>plan_count</th>\n      <th>req_count</th>\n      <th>avg_occupancy</th>\n      <th>used_connections</th>\n      <th>total_driving_duration</th>\n      <th>total_waiting_duration</th>\n      <th>...</th>\n      <th>max_delay</th>\n      <th>start_time</th>\n      <th>end_time</th>\n      <th>duration_minutes</th>\n      <th>occupancy</th>\n      <th>vehicle_hours</th>\n      <th>area</th>\n      <th>area_order</th>\n      <th>percent</th>\n      <th>oc_str</th>\n    </tr>\n  </thead>\n  <tbody>\n    <tr>\n      <th>0</th>\n      <td>7705</td>\n      <td>0.217</td>\n      <td>0</td>\n      <td>637.605740</td>\n      <td>516</td>\n      <td>662</td>\n      <td>0.913043</td>\n      <td>-1</td>\n      <td>462273</td>\n      <td>20</td>\n      <td>...</td>\n      <td>180</td>\n      <td>2022-04-05 18:00:00</td>\n      <td>2022-04-05 18:01:00</td>\n      <td>1.0</td>\n      <td>0</td>\n      <td>24.345000</td>\n      <td>NYC</td>\n      <td>0</td>\n      <td>18.958107</td>\n      <td>0</td>\n    </tr>\n    <tr>\n      <th>1</th>\n      <td>7705</td>\n      <td>0.217</td>\n      <td>0</td>\n      <td>637.605740</td>\n      <td>516</td>\n      <td>662</td>\n      <td>0.913043</td>\n      <td>-1</td>\n      <td>462273</td>\n      <td>20</td>\n      <td>...</td>\n      <td>180</td>\n      <td>2022-04-05 18:00:00</td>\n      <td>2022-04-05 18:01:00</td>\n      <td>1.0</td>\n      <td>1</td>\n      <td>91.622778</td>\n      <td>NYC</td>\n      <td>0</td>\n      <td>71.349123</td>\n      <td>1</td>\n    </tr>\n    <tr>\n      <th>2</th>\n      <td>7705</td>\n      <td>0.217</td>\n      <td>0</td>\n      <td>637.605740</td>\n      <td>516</td>\n      <td>662</td>\n      <td>0.913043</td>\n      <td>-1</td>\n      <td>462273</td>\n      <td>20</td>\n      <td>...</td>\n      <td>180</td>\n      <td>2022-04-05 18:00:00</td>\n      <td>2022-04-05 18:01:00</td>\n      <td>1.0</td>\n      <td>2</td>\n      <td>11.723333</td>\n      <td>NYC</td>\n      <td>0</td>\n      <td>9.129275</td>\n      <td>2</td>\n    </tr>\n    <tr>\n      <th>3</th>\n      <td>7705</td>\n      <td>0.217</td>\n      <td>0</td>\n      <td>637.605740</td>\n      <td>516</td>\n      <td>662</td>\n      <td>0.913043</td>\n      <td>-1</td>\n      <td>462273</td>\n      <td>20</td>\n      <td>...</td>\n      <td>180</td>\n      <td>2022-04-05 18:00:00</td>\n      <td>2022-04-05 18:01:00</td>\n      <td>1.0</td>\n      <td>3</td>\n      <td>0.698611</td>\n      <td>NYC</td>\n      <td>0</td>\n      <td>0.544027</td>\n      <td>3</td>\n    </tr>\n    <tr>\n      <th>4</th>\n      <td>7705</td>\n      <td>0.217</td>\n      <td>0</td>\n      <td>637.605740</td>\n      <td>516</td>\n      <td>662</td>\n      <td>0.913043</td>\n      <td>-1</td>\n      <td>462273</td>\n      <td>20</td>\n      <td>...</td>\n      <td>180</td>\n      <td>2022-04-05 18:00:00</td>\n      <td>2022-04-05 18:01:00</td>\n      <td>1.0</td>\n      <td>4</td>\n      <td>0.019444</td>\n      <td>NYC</td>\n      <td>0</td>\n      <td>0.015142</td>\n      <td>4</td>\n    </tr>\n    <tr>\n      <th>...</th>\n      <td>...</td>\n      <td>...</td>\n      <td>...</td>\n      <td>...</td>\n      <td>...</td>\n      <td>...</td>\n      <td>...</td>\n      <td>...</td>\n      <td>...</td>\n      <td>...</td>\n      <td>...</td>\n      <td>...</td>\n      <td>...</td>\n      <td>...</td>\n      <td>...</td>\n      <td>...</td>\n      <td>...</td>\n      <td>...</td>\n      <td>...</td>\n      <td>...</td>\n      <td>...</td>\n    </tr>\n    <tr>\n      <th>665</th>\n      <td>4748</td>\n      <td>0.038</td>\n      <td>0</td>\n      <td>1148.588415</td>\n      <td>111</td>\n      <td>328</td>\n      <td>1.313859</td>\n      <td>-1</td>\n      <td>284867</td>\n      <td>1900</td>\n      <td>...</td>\n      <td>600</td>\n      <td>2022-04-05 18:00:00</td>\n      <td>2022-04-05 18:30:00</td>\n      <td>30.0</td>\n      <td>0</td>\n      <td>14.936944</td>\n      <td>DC</td>\n      <td>3</td>\n      <td>18.751460</td>\n      <td>0</td>\n    </tr>\n    <tr>\n      <th>666</th>\n      <td>4748</td>\n      <td>0.038</td>\n      <td>0</td>\n      <td>1148.588415</td>\n      <td>111</td>\n      <td>328</td>\n      <td>1.313859</td>\n      <td>-1</td>\n      <td>284867</td>\n      <td>1900</td>\n      <td>...</td>\n      <td>600</td>\n      <td>2022-04-05 18:00:00</td>\n      <td>2022-04-05 18:30:00</td>\n      <td>30.0</td>\n      <td>1</td>\n      <td>33.516389</td>\n      <td>DC</td>\n      <td>3</td>\n      <td>42.075622</td>\n      <td>1</td>\n    </tr>\n    <tr>\n      <th>667</th>\n      <td>4748</td>\n      <td>0.038</td>\n      <td>0</td>\n      <td>1148.588415</td>\n      <td>111</td>\n      <td>328</td>\n      <td>1.313859</td>\n      <td>-1</td>\n      <td>284867</td>\n      <td>1900</td>\n      <td>...</td>\n      <td>600</td>\n      <td>2022-04-05 18:00:00</td>\n      <td>2022-04-05 18:30:00</td>\n      <td>30.0</td>\n      <td>2</td>\n      <td>22.441667</td>\n      <td>DC</td>\n      <td>3</td>\n      <td>28.172698</td>\n      <td>2</td>\n    </tr>\n    <tr>\n      <th>668</th>\n      <td>4748</td>\n      <td>0.038</td>\n      <td>0</td>\n      <td>1148.588415</td>\n      <td>111</td>\n      <td>328</td>\n      <td>1.313859</td>\n      <td>-1</td>\n      <td>284867</td>\n      <td>1900</td>\n      <td>...</td>\n      <td>600</td>\n      <td>2022-04-05 18:00:00</td>\n      <td>2022-04-05 18:30:00</td>\n      <td>30.0</td>\n      <td>3</td>\n      <td>7.373333</td>\n      <td>DC</td>\n      <td>3</td>\n      <td>9.256295</td>\n      <td>3</td>\n    </tr>\n    <tr>\n      <th>669</th>\n      <td>4748</td>\n      <td>0.038</td>\n      <td>0</td>\n      <td>1148.588415</td>\n      <td>111</td>\n      <td>328</td>\n      <td>1.313859</td>\n      <td>-1</td>\n      <td>284867</td>\n      <td>1900</td>\n      <td>...</td>\n      <td>600</td>\n      <td>2022-04-05 18:00:00</td>\n      <td>2022-04-05 18:30:00</td>\n      <td>30.0</td>\n      <td>4</td>\n      <td>0.861389</td>\n      <td>DC</td>\n      <td>3</td>\n      <td>1.081366</td>\n      <td>4</td>\n    </tr>\n  </tbody>\n</table>\n<p>180 rows × 24 columns</p>\n</div>"
     },
     "execution_count": 42,
     "metadata": {},
     "output_type": "execute_result"
    }
   ],
   "source": [
    "occupancy_df_ih_red = pd.DataFrame(occupancy_df_ih[occupancy_df_ih['duration_minutes'].isin((1, 5, 30))])\n",
    "occupancy_df_ih_red['oc_str'] = occupancy_df_ih_red['occupancy'].astype(str)\n",
    "occupancy_df_ih_red"
   ],
   "metadata": {
    "collapsed": false,
    "ExecuteTime": {
     "end_time": "2023-05-26T08:24:32.897879400Z",
     "start_time": "2023-05-26T08:24:32.838878400Z"
    }
   }
  },
  {
   "cell_type": "code",
   "execution_count": 79,
   "outputs": [
    {
     "data": {
      "application/vnd.plotly.v1+json": {
       "data": [
        {
         "alignmentgroup": "True",
         "hovertemplate": "oc_str=0<br>max_delay=180<br>duration_minutes=1.0<br>area=%{x}<br>percent=%{y}<extra></extra>",
         "legendgroup": "0",
         "marker": {
          "color": "#f51302",
          "pattern": {
           "shape": ""
          }
         },
         "name": "0",
         "offsetgroup": "0",
         "orientation": "v",
         "showlegend": true,
         "textposition": "auto",
         "x": [
          "NYC",
          "Manhattan",
          "Chicago",
          "DC"
         ],
         "xaxis": "x7",
         "y": [
          18.958106655303023,
          16.19513125931145,
          26.346986346986345,
          29.606088483733377
         ],
         "yaxis": "y7",
         "type": "bar"
        },
        {
         "alignmentgroup": "True",
         "hovertemplate": "oc_str=0<br>max_delay=180<br>duration_minutes=5.0<br>area=%{x}<br>percent=%{y}<extra></extra>",
         "legendgroup": "0",
         "marker": {
          "color": "#f51302",
          "pattern": {
           "shape": ""
          }
         },
         "name": "0",
         "offsetgroup": "0",
         "orientation": "v",
         "showlegend": false,
         "textposition": "auto",
         "x": [
          "NYC",
          "Manhattan",
          "Chicago",
          "DC"
         ],
         "xaxis": "x8",
         "y": [
          13.602449610489597,
          10.236163384202928,
          15.9265916875167,
          32.38437676254935
         ],
         "yaxis": "y8",
         "type": "bar"
        },
        {
         "alignmentgroup": "True",
         "hovertemplate": "oc_str=0<br>max_delay=180<br>duration_minutes=30.0<br>area=%{x}<br>percent=%{y}<extra></extra>",
         "legendgroup": "0",
         "marker": {
          "color": "#f51302",
          "pattern": {
           "shape": ""
          }
         },
         "name": "0",
         "offsetgroup": "0",
         "orientation": "v",
         "showlegend": false,
         "textposition": "auto",
         "x": [
          "NYC",
          "Manhattan",
          "Chicago",
          "DC"
         ],
         "xaxis": "x9",
         "y": [
          11.059809279079312,
          5.605337944600834,
          17.96127156270332,
          27.340829823423533
         ],
         "yaxis": "y9",
         "type": "bar"
        },
        {
         "alignmentgroup": "True",
         "hovertemplate": "oc_str=0<br>max_delay=300<br>duration_minutes=1.0<br>area=%{x}<br>percent=%{y}<extra></extra>",
         "legendgroup": "0",
         "marker": {
          "color": "#f51302",
          "pattern": {
           "shape": ""
          }
         },
         "name": "0",
         "offsetgroup": "0",
         "orientation": "v",
         "showlegend": false,
         "textposition": "auto",
         "x": [
          "NYC",
          "Manhattan",
          "Chicago",
          "DC"
         ],
         "xaxis": "x4",
         "y": [
          14.324975903702212,
          11.686049823801811,
          25.497445549879,
          29.606088483733377
         ],
         "yaxis": "y4",
         "type": "bar"
        },
        {
         "alignmentgroup": "True",
         "hovertemplate": "oc_str=0<br>max_delay=300<br>duration_minutes=5.0<br>area=%{x}<br>percent=%{y}<extra></extra>",
         "legendgroup": "0",
         "marker": {
          "color": "#f51302",
          "pattern": {
           "shape": ""
          }
         },
         "name": "0",
         "offsetgroup": "0",
         "orientation": "v",
         "showlegend": false,
         "textposition": "auto",
         "x": [
          "NYC",
          "Manhattan",
          "Chicago",
          "DC"
         ],
         "xaxis": "x5",
         "y": [
          8.167813530310514,
          7.1378852335279905,
          11.730521771615956,
          26.901652092491783
         ],
         "yaxis": "y5",
         "type": "bar"
        },
        {
         "alignmentgroup": "True",
         "hovertemplate": "oc_str=0<br>max_delay=300<br>duration_minutes=30.0<br>area=%{x}<br>percent=%{y}<extra></extra>",
         "legendgroup": "0",
         "marker": {
          "color": "#f51302",
          "pattern": {
           "shape": ""
          }
         },
         "name": "0",
         "offsetgroup": "0",
         "orientation": "v",
         "showlegend": false,
         "textposition": "auto",
         "x": [
          "NYC",
          "Manhattan",
          "Chicago",
          "DC"
         ],
         "xaxis": "x6",
         "y": [
          6.393080053321593,
          3.4431120433162863,
          13.076761744966442,
          24.438399516405756
         ],
         "yaxis": "y6",
         "type": "bar"
        },
        {
         "alignmentgroup": "True",
         "hovertemplate": "oc_str=0<br>max_delay=600<br>duration_minutes=1.0<br>area=%{x}<br>percent=%{y}<extra></extra>",
         "legendgroup": "0",
         "marker": {
          "color": "#f51302",
          "pattern": {
           "shape": ""
          }
         },
         "name": "0",
         "offsetgroup": "0",
         "orientation": "v",
         "showlegend": false,
         "textposition": "auto",
         "x": [
          "NYC",
          "Manhattan",
          "Chicago",
          "DC"
         ],
         "xaxis": "x",
         "y": [
          9.577032186506836,
          7.401438797677979,
          17.198038013488656,
          25.644631973745895
         ],
         "yaxis": "y",
         "type": "bar"
        },
        {
         "alignmentgroup": "True",
         "hovertemplate": "oc_str=0<br>max_delay=600<br>duration_minutes=5.0<br>area=%{x}<br>percent=%{y}<extra></extra>",
         "legendgroup": "0",
         "marker": {
          "color": "#f51302",
          "pattern": {
           "shape": ""
          }
         },
         "name": "0",
         "offsetgroup": "0",
         "orientation": "v",
         "showlegend": false,
         "textposition": "auto",
         "x": [
          "NYC",
          "Manhattan",
          "Chicago",
          "DC"
         ],
         "xaxis": "x2",
         "y": [
          5.193535767092833,
          4.278893398456194,
          7.59933774834437,
          20.251077859497844
         ],
         "yaxis": "y2",
         "type": "bar"
        },
        {
         "alignmentgroup": "True",
         "hovertemplate": "oc_str=0<br>max_delay=600<br>duration_minutes=30.0<br>area=%{x}<br>percent=%{y}<extra></extra>",
         "legendgroup": "0",
         "marker": {
          "color": "#f51302",
          "pattern": {
           "shape": ""
          }
         },
         "name": "0",
         "offsetgroup": "0",
         "orientation": "v",
         "showlegend": false,
         "textposition": "auto",
         "x": [
          "NYC",
          "Manhattan",
          "Chicago",
          "DC"
         ],
         "xaxis": "x3",
         "y": [
          3.2085145045103514,
          2.0103188279646416,
          4.986493434189933,
          18.7514602447283
         ],
         "yaxis": "y3",
         "type": "bar"
        },
        {
         "alignmentgroup": "True",
         "hovertemplate": "oc_str=1<br>max_delay=180<br>duration_minutes=1.0<br>area=%{x}<br>percent=%{y}<extra></extra>",
         "legendgroup": "1",
         "marker": {
          "color": "#0206f5",
          "pattern": {
           "shape": ""
          }
         },
         "name": "1",
         "offsetgroup": "1",
         "orientation": "v",
         "showlegend": true,
         "textposition": "auto",
         "x": [
          "NYC",
          "Manhattan",
          "Chicago",
          "DC"
         ],
         "xaxis": "x7",
         "y": [
          71.34912274250314,
          62.36083283794594,
          71.9014319014319,
          70.39391151626663
         ],
         "yaxis": "y7",
         "type": "bar"
        },
        {
         "alignmentgroup": "True",
         "hovertemplate": "oc_str=1<br>max_delay=180<br>duration_minutes=5.0<br>area=%{x}<br>percent=%{y}<extra></extra>",
         "legendgroup": "1",
         "marker": {
          "color": "#0206f5",
          "pattern": {
           "shape": ""
          }
         },
         "name": "1",
         "offsetgroup": "1",
         "orientation": "v",
         "showlegend": false,
         "textposition": "auto",
         "x": [
          "NYC",
          "Manhattan",
          "Chicago",
          "DC"
         ],
         "xaxis": "x8",
         "y": [
          64.24536461562724,
          49.29415214477212,
          70.38768916850874,
          64.81669486745629
         ],
         "yaxis": "y8",
         "type": "bar"
        },
        {
         "alignmentgroup": "True",
         "hovertemplate": "oc_str=1<br>max_delay=180<br>duration_minutes=30.0<br>area=%{x}<br>percent=%{y}<extra></extra>",
         "legendgroup": "1",
         "marker": {
          "color": "#0206f5",
          "pattern": {
           "shape": ""
          }
         },
         "name": "1",
         "offsetgroup": "1",
         "orientation": "v",
         "showlegend": false,
         "textposition": "auto",
         "x": [
          "NYC",
          "Manhattan",
          "Chicago",
          "DC"
         ],
         "xaxis": "x9",
         "y": [
          57.80692446615118,
          42.71781260469569,
          59.17773143475332,
          59.819802924099996
         ],
         "yaxis": "y9",
         "type": "bar"
        },
        {
         "alignmentgroup": "True",
         "hovertemplate": "oc_str=1<br>max_delay=300<br>duration_minutes=1.0<br>area=%{x}<br>percent=%{y}<extra></extra>",
         "legendgroup": "1",
         "marker": {
          "color": "#0206f5",
          "pattern": {
           "shape": ""
          }
         },
         "name": "1",
         "offsetgroup": "1",
         "orientation": "v",
         "showlegend": false,
         "textposition": "auto",
         "x": [
          "NYC",
          "Manhattan",
          "Chicago",
          "DC"
         ],
         "xaxis": "x4",
         "y": [
          65.57907591608418,
          53.78968528480627,
          71.16160258133907,
          70.39391151626663
         ],
         "yaxis": "y4",
         "type": "bar"
        },
        {
         "alignmentgroup": "True",
         "hovertemplate": "oc_str=1<br>max_delay=300<br>duration_minutes=5.0<br>area=%{x}<br>percent=%{y}<extra></extra>",
         "legendgroup": "1",
         "marker": {
          "color": "#0206f5",
          "pattern": {
           "shape": ""
          }
         },
         "name": "1",
         "offsetgroup": "1",
         "orientation": "v",
         "showlegend": false,
         "textposition": "auto",
         "x": [
          "NYC",
          "Manhattan",
          "Chicago",
          "DC"
         ],
         "xaxis": "x5",
         "y": [
          58.5900989535724,
          44.61515077716001,
          69.23055636268039,
          64.29353604926123
         ],
         "yaxis": "y5",
         "type": "bar"
        },
        {
         "alignmentgroup": "True",
         "hovertemplate": "oc_str=1<br>max_delay=300<br>duration_minutes=30.0<br>area=%{x}<br>percent=%{y}<extra></extra>",
         "legendgroup": "1",
         "marker": {
          "color": "#0206f5",
          "pattern": {
           "shape": ""
          }
         },
         "name": "1",
         "offsetgroup": "1",
         "orientation": "v",
         "showlegend": false,
         "textposition": "auto",
         "x": [
          "NYC",
          "Manhattan",
          "Chicago",
          "DC"
         ],
         "xaxis": "x6",
         "y": [
          49.53005185999551,
          32.943770769932165,
          51.08513276918588,
          50.691462724425364
         ],
         "yaxis": "y6",
         "type": "bar"
        },
        {
         "alignmentgroup": "True",
         "hovertemplate": "oc_str=1<br>max_delay=600<br>duration_minutes=1.0<br>area=%{x}<br>percent=%{y}<extra></extra>",
         "legendgroup": "1",
         "marker": {
          "color": "#0206f5",
          "pattern": {
           "shape": ""
          }
         },
         "name": "1",
         "offsetgroup": "1",
         "orientation": "v",
         "showlegend": false,
         "textposition": "auto",
         "x": [
          "NYC",
          "Manhattan",
          "Chicago",
          "DC"
         ],
         "xaxis": "x",
         "y": [
          55.40387773819935,
          42.52911428469675,
          74.06499080318822,
          64.91326769807783
         ],
         "yaxis": "y",
         "type": "bar"
        },
        {
         "alignmentgroup": "True",
         "hovertemplate": "oc_str=1<br>max_delay=600<br>duration_minutes=5.0<br>area=%{x}<br>percent=%{y}<extra></extra>",
         "legendgroup": "1",
         "marker": {
          "color": "#0206f5",
          "pattern": {
           "shape": ""
          }
         },
         "name": "1",
         "offsetgroup": "1",
         "orientation": "v",
         "showlegend": false,
         "textposition": "auto",
         "x": [
          "NYC",
          "Manhattan",
          "Chicago",
          "DC"
         ],
         "xaxis": "x2",
         "y": [
          47.99644474281709,
          34.942043333248094,
          54.53476821192053,
          60.646353392993
         ],
         "yaxis": "y2",
         "type": "bar"
        },
        {
         "alignmentgroup": "True",
         "hovertemplate": "oc_str=1<br>max_delay=600<br>duration_minutes=30.0<br>area=%{x}<br>percent=%{y}<extra></extra>",
         "legendgroup": "1",
         "marker": {
          "color": "#0206f5",
          "pattern": {
           "shape": ""
          }
         },
         "name": "1",
         "offsetgroup": "1",
         "orientation": "v",
         "showlegend": false,
         "textposition": "auto",
         "x": [
          "NYC",
          "Manhattan",
          "Chicago",
          "DC"
         ],
         "xaxis": "x3",
         "y": [
          38.74554416834902,
          23.028645113480643,
          42.69921119383271,
          42.075622369380014
         ],
         "yaxis": "y3",
         "type": "bar"
        },
        {
         "alignmentgroup": "True",
         "hovertemplate": "oc_str=2<br>max_delay=180<br>duration_minutes=1.0<br>area=%{x}<br>percent=%{y}<extra></extra>",
         "legendgroup": "2",
         "marker": {
          "color": "#0206f5",
          "pattern": {
           "shape": ""
          }
         },
         "name": "2",
         "offsetgroup": "2",
         "orientation": "v",
         "showlegend": true,
         "textposition": "auto",
         "x": [
          "NYC",
          "Manhattan",
          "Chicago",
          "DC"
         ],
         "xaxis": "x7",
         "y": [
          9.129275156664713,
          20.006311602339697,
          1.7515817515817518,
          0.0
         ],
         "yaxis": "y7",
         "type": "bar"
        },
        {
         "alignmentgroup": "True",
         "hovertemplate": "oc_str=2<br>max_delay=180<br>duration_minutes=5.0<br>area=%{x}<br>percent=%{y}<extra></extra>",
         "legendgroup": "2",
         "marker": {
          "color": "#0206f5",
          "pattern": {
           "shape": ""
          }
         },
         "name": "2",
         "offsetgroup": "2",
         "orientation": "v",
         "showlegend": false,
         "textposition": "auto",
         "x": [
          "NYC",
          "Manhattan",
          "Chicago",
          "DC"
         ],
         "xaxis": "x8",
         "y": [
          18.849012192219195,
          31.711596463188286,
          13.159812471154082,
          2.79892836999436
         ],
         "yaxis": "y8",
         "type": "bar"
        },
        {
         "alignmentgroup": "True",
         "hovertemplate": "oc_str=2<br>max_delay=180<br>duration_minutes=30.0<br>area=%{x}<br>percent=%{y}<extra></extra>",
         "legendgroup": "2",
         "marker": {
          "color": "#0206f5",
          "pattern": {
           "shape": ""
          }
         },
         "name": "2",
         "offsetgroup": "2",
         "orientation": "v",
         "showlegend": false,
         "textposition": "auto",
         "x": [
          "NYC",
          "Manhattan",
          "Chicago",
          "DC"
         ],
         "xaxis": "x9",
         "y": [
          23.77492167685428,
          34.7729696919343,
          17.33106154993885,
          11.852164422668677
         ],
         "yaxis": "y9",
         "type": "bar"
        },
        {
         "alignmentgroup": "True",
         "hovertemplate": "oc_str=2<br>max_delay=300<br>duration_minutes=1.0<br>area=%{x}<br>percent=%{y}<extra></extra>",
         "legendgroup": "2",
         "marker": {
          "color": "#0206f5",
          "pattern": {
           "shape": ""
          }
         },
         "name": "2",
         "offsetgroup": "2",
         "orientation": "v",
         "showlegend": false,
         "textposition": "auto",
         "x": [
          "NYC",
          "Manhattan",
          "Chicago",
          "DC"
         ],
         "xaxis": "x4",
         "y": [
          18.049765834970103,
          28.731291658867285,
          2.6283947297660664,
          0.0
         ],
         "yaxis": "y4",
         "type": "bar"
        },
        {
         "alignmentgroup": "True",
         "hovertemplate": "oc_str=2<br>max_delay=300<br>duration_minutes=5.0<br>area=%{x}<br>percent=%{y}<extra></extra>",
         "legendgroup": "2",
         "marker": {
          "color": "#0206f5",
          "pattern": {
           "shape": ""
          }
         },
         "name": "2",
         "offsetgroup": "2",
         "orientation": "v",
         "showlegend": false,
         "textposition": "auto",
         "x": [
          "NYC",
          "Manhattan",
          "Chicago",
          "DC"
         ],
         "xaxis": "x5",
         "y": [
          25.882904483462788,
          31.167924942181507,
          11.053920551243204,
          8.71117741346749
         ],
         "yaxis": "y5",
         "type": "bar"
        },
        {
         "alignmentgroup": "True",
         "hovertemplate": "oc_str=2<br>max_delay=300<br>duration_minutes=30.0<br>area=%{x}<br>percent=%{y}<extra></extra>",
         "legendgroup": "2",
         "marker": {
          "color": "#0206f5",
          "pattern": {
           "shape": ""
          }
         },
         "name": "2",
         "offsetgroup": "2",
         "orientation": "v",
         "showlegend": false,
         "textposition": "auto",
         "x": [
          "NYC",
          "Manhattan",
          "Chicago",
          "DC"
         ],
         "xaxis": "x6",
         "y": [
          29.5473521457876,
          32.33970589334404,
          25.159350379340534,
          22.951762066891277
         ],
         "yaxis": "y6",
         "type": "bar"
        },
        {
         "alignmentgroup": "True",
         "hovertemplate": "oc_str=2<br>max_delay=600<br>duration_minutes=1.0<br>area=%{x}<br>percent=%{y}<extra></extra>",
         "legendgroup": "2",
         "marker": {
          "color": "#0206f5",
          "pattern": {
           "shape": ""
          }
         },
         "name": "2",
         "offsetgroup": "2",
         "orientation": "v",
         "showlegend": false,
         "textposition": "auto",
         "x": [
          "NYC",
          "Manhattan",
          "Chicago",
          "DC"
         ],
         "xaxis": "x",
         "y": [
          26.58372971012947,
          30.914562484418962,
          7.2271612507664,
          9.442100328176277
         ],
         "yaxis": "y",
         "type": "bar"
        },
        {
         "alignmentgroup": "True",
         "hovertemplate": "oc_str=2<br>max_delay=600<br>duration_minutes=5.0<br>area=%{x}<br>percent=%{y}<extra></extra>",
         "legendgroup": "2",
         "marker": {
          "color": "#0206f5",
          "pattern": {
           "shape": ""
          }
         },
         "name": "2",
         "offsetgroup": "2",
         "orientation": "v",
         "showlegend": false,
         "textposition": "auto",
         "x": [
          "NYC",
          "Manhattan",
          "Chicago",
          "DC"
         ],
         "xaxis": "x2",
         "y": [
          28.34868468485505,
          28.342326084335813,
          24.276490066225165,
          16.800115937828338
         ],
         "yaxis": "y2",
         "type": "bar"
        },
        {
         "alignmentgroup": "True",
         "hovertemplate": "oc_str=2<br>max_delay=600<br>duration_minutes=30.0<br>area=%{x}<br>percent=%{y}<extra></extra>",
         "legendgroup": "2",
         "marker": {
          "color": "#0206f5",
          "pattern": {
           "shape": ""
          }
         },
         "name": "2",
         "offsetgroup": "2",
         "orientation": "v",
         "showlegend": false,
         "textposition": "auto",
         "x": [
          "NYC",
          "Manhattan",
          "Chicago",
          "DC"
         ],
         "xaxis": "x3",
         "y": [
          29.12237436995695,
          25.210331766933873,
          27.771828513482422,
          28.172697695341515
         ],
         "yaxis": "y3",
         "type": "bar"
        },
        {
         "alignmentgroup": "True",
         "hovertemplate": "oc_str=3<br>max_delay=180<br>duration_minutes=1.0<br>area=%{x}<br>percent=%{y}<extra></extra>",
         "legendgroup": "3",
         "marker": {
          "color": "#0206f5",
          "pattern": {
           "shape": ""
          }
         },
         "name": "3",
         "offsetgroup": "3",
         "orientation": "v",
         "showlegend": true,
         "textposition": "auto",
         "x": [
          "NYC",
          "Manhattan",
          "Chicago",
          "DC"
         ],
         "xaxis": "x7",
         "y": [
          0.5440272727469376,
          1.4230461554268774,
          0.0,
          0.0
         ],
         "yaxis": "y7",
         "type": "bar"
        },
        {
         "alignmentgroup": "True",
         "hovertemplate": "oc_str=3<br>max_delay=180<br>duration_minutes=5.0<br>area=%{x}<br>percent=%{y}<extra></extra>",
         "legendgroup": "3",
         "marker": {
          "color": "#0206f5",
          "pattern": {
           "shape": ""
          }
         },
         "name": "3",
         "offsetgroup": "3",
         "orientation": "v",
         "showlegend": false,
         "textposition": "auto",
         "x": [
          "NYC",
          "Manhattan",
          "Chicago",
          "DC"
         ],
         "xaxis": "x8",
         "y": [
          2.6757351623131425,
          7.283396061043514,
          0.3109286564481259,
          0.0
         ],
         "yaxis": "y8",
         "type": "bar"
        },
        {
         "alignmentgroup": "True",
         "hovertemplate": "oc_str=3<br>max_delay=180<br>duration_minutes=30.0<br>area=%{x}<br>percent=%{y}<extra></extra>",
         "legendgroup": "3",
         "marker": {
          "color": "#0206f5",
          "pattern": {
           "shape": ""
          }
         },
         "name": "3",
         "offsetgroup": "3",
         "orientation": "v",
         "showlegend": false,
         "textposition": "auto",
         "x": [
          "NYC",
          "Manhattan",
          "Chicago",
          "DC"
         ],
         "xaxis": "x9",
         "y": [
          4.945785786939996,
          12.154606968843758,
          2.0984104512212105,
          0.35867501230747595
         ],
         "yaxis": "y9",
         "type": "bar"
        },
        {
         "alignmentgroup": "True",
         "hovertemplate": "oc_str=3<br>max_delay=300<br>duration_minutes=1.0<br>area=%{x}<br>percent=%{y}<extra></extra>",
         "legendgroup": "3",
         "marker": {
          "color": "#0206f5",
          "pattern": {
           "shape": ""
          }
         },
         "name": "3",
         "offsetgroup": "3",
         "orientation": "v",
         "showlegend": false,
         "textposition": "auto",
         "x": [
          "NYC",
          "Manhattan",
          "Chicago",
          "DC"
         ],
         "xaxis": "x4",
         "y": [
          1.7745072094666279,
          5.398256736630504,
          0.7125571390158645,
          0.0
         ],
         "yaxis": "y4",
         "type": "bar"
        },
        {
         "alignmentgroup": "True",
         "hovertemplate": "oc_str=3<br>max_delay=300<br>duration_minutes=5.0<br>area=%{x}<br>percent=%{y}<extra></extra>",
         "legendgroup": "3",
         "marker": {
          "color": "#0206f5",
          "pattern": {
           "shape": ""
          }
         },
         "name": "3",
         "offsetgroup": "3",
         "orientation": "v",
         "showlegend": false,
         "textposition": "auto",
         "x": [
          "NYC",
          "Manhattan",
          "Chicago",
          "DC"
         ],
         "xaxis": "x5",
         "y": [
          5.958822316276164,
          12.472731606464617,
          7.02336972313312,
          0.0
         ],
         "yaxis": "y5",
         "type": "bar"
        },
        {
         "alignmentgroup": "True",
         "hovertemplate": "oc_str=3<br>max_delay=300<br>duration_minutes=30.0<br>area=%{x}<br>percent=%{y}<extra></extra>",
         "legendgroup": "3",
         "marker": {
          "color": "#0206f5",
          "pattern": {
           "shape": ""
          }
         },
         "name": "3",
         "offsetgroup": "3",
         "orientation": "v",
         "showlegend": false,
         "textposition": "auto",
         "x": [
          "NYC",
          "Manhattan",
          "Chicago",
          "DC"
         ],
         "xaxis": "x6",
         "y": [
          10.02332164858564,
          21.05805287342733,
          6.125984826378756,
          1.3565529686819389
         ],
         "yaxis": "y6",
         "type": "bar"
        },
        {
         "alignmentgroup": "True",
         "hovertemplate": "oc_str=3<br>max_delay=600<br>duration_minutes=1.0<br>area=%{x}<br>percent=%{y}<extra></extra>",
         "legendgroup": "3",
         "marker": {
          "color": "#0206f5",
          "pattern": {
           "shape": ""
          }
         },
         "name": "3",
         "offsetgroup": "3",
         "orientation": "v",
         "showlegend": false,
         "textposition": "auto",
         "x": [
          "NYC",
          "Manhattan",
          "Chicago",
          "DC"
         ],
         "xaxis": "x",
         "y": [
          7.125183968602691,
          15.344207414793972,
          1.5098099325567136,
          0.0
         ],
         "yaxis": "y",
         "type": "bar"
        },
        {
         "alignmentgroup": "True",
         "hovertemplate": "oc_str=3<br>max_delay=600<br>duration_minutes=5.0<br>area=%{x}<br>percent=%{y}<extra></extra>",
         "legendgroup": "3",
         "marker": {
          "color": "#0206f5",
          "pattern": {
           "shape": ""
          }
         },
         "name": "3",
         "offsetgroup": "3",
         "orientation": "v",
         "showlegend": false,
         "textposition": "auto",
         "x": [
          "NYC",
          "Manhattan",
          "Chicago",
          "DC"
         ],
         "xaxis": "x2",
         "y": [
          13.888550724466386,
          20.501463072488757,
          6.58112582781457,
          2.302452809680809
         ],
         "yaxis": "y2",
         "type": "bar"
        },
        {
         "alignmentgroup": "True",
         "hovertemplate": "oc_str=3<br>max_delay=600<br>duration_minutes=30.0<br>area=%{x}<br>percent=%{y}<extra></extra>",
         "legendgroup": "3",
         "marker": {
          "color": "#0206f5",
          "pattern": {
           "shape": ""
          }
         },
         "name": "3",
         "offsetgroup": "3",
         "orientation": "v",
         "showlegend": false,
         "textposition": "auto",
         "x": [
          "NYC",
          "Manhattan",
          "Chicago",
          "DC"
         ],
         "xaxis": "x3",
         "y": [
          18.43164080428017,
          28.09417805197937,
          15.915023675547008,
          9.256295180407788
         ],
         "yaxis": "y3",
         "type": "bar"
        },
        {
         "alignmentgroup": "True",
         "hovertemplate": "oc_str=4<br>max_delay=180<br>duration_minutes=1.0<br>area=%{x}<br>percent=%{y}<extra></extra>",
         "legendgroup": "4",
         "marker": {
          "color": "#0206f5",
          "pattern": {
           "shape": ""
          }
         },
         "name": "4",
         "offsetgroup": "4",
         "orientation": "v",
         "showlegend": true,
         "textposition": "auto",
         "x": [
          "NYC",
          "Manhattan",
          "Chicago",
          "DC"
         ],
         "xaxis": "x7",
         "y": [
          0.015141912163930666,
          0.0,
          0.0,
          0.0
         ],
         "yaxis": "y7",
         "type": "bar"
        },
        {
         "alignmentgroup": "True",
         "hovertemplate": "oc_str=4<br>max_delay=180<br>duration_minutes=5.0<br>area=%{x}<br>percent=%{y}<extra></extra>",
         "legendgroup": "4",
         "marker": {
          "color": "#0206f5",
          "pattern": {
           "shape": ""
          }
         },
         "name": "4",
         "offsetgroup": "4",
         "orientation": "v",
         "showlegend": false,
         "textposition": "auto",
         "x": [
          "NYC",
          "Manhattan",
          "Chicago",
          "DC"
         ],
         "xaxis": "x8",
         "y": [
          0.3285835887459754,
          1.0883365126830276,
          0.0,
          0.0
         ],
         "yaxis": "y8",
         "type": "bar"
        },
        {
         "alignmentgroup": "True",
         "hovertemplate": "oc_str=4<br>max_delay=180<br>duration_minutes=30.0<br>area=%{x}<br>percent=%{y}<extra></extra>",
         "legendgroup": "4",
         "marker": {
          "color": "#0206f5",
          "pattern": {
           "shape": ""
          }
         },
         "name": "4",
         "offsetgroup": "4",
         "orientation": "v",
         "showlegend": false,
         "textposition": "auto",
         "x": [
          "NYC",
          "Manhattan",
          "Chicago",
          "DC"
         ],
         "xaxis": "x9",
         "y": [
          0.9212824359859565,
          2.7802093659696467,
          0.23315671680235675,
          0.0
         ],
         "yaxis": "y9",
         "type": "bar"
        },
        {
         "alignmentgroup": "True",
         "hovertemplate": "oc_str=4<br>max_delay=300<br>duration_minutes=1.0<br>area=%{x}<br>percent=%{y}<extra></extra>",
         "legendgroup": "4",
         "marker": {
          "color": "#0206f5",
          "pattern": {
           "shape": ""
          }
         },
         "name": "4",
         "offsetgroup": "4",
         "orientation": "v",
         "showlegend": false,
         "textposition": "auto",
         "x": [
          "NYC",
          "Manhattan",
          "Chicago",
          "DC"
         ],
         "xaxis": "x4",
         "y": [
          0.268033377924635,
          0.3662318003141455,
          0.0,
          0.0
         ],
         "yaxis": "y4",
         "type": "bar"
        },
        {
         "alignmentgroup": "True",
         "hovertemplate": "oc_str=4<br>max_delay=300<br>duration_minutes=5.0<br>area=%{x}<br>percent=%{y}<extra></extra>",
         "legendgroup": "4",
         "marker": {
          "color": "#0206f5",
          "pattern": {
           "shape": ""
          }
         },
         "name": "4",
         "offsetgroup": "4",
         "orientation": "v",
         "showlegend": false,
         "textposition": "auto",
         "x": [
          "NYC",
          "Manhattan",
          "Chicago",
          "DC"
         ],
         "xaxis": "x5",
         "y": [
          1.1690733571513363,
          4.367088279642881,
          0.5728280270640488,
          0.0
         ],
         "yaxis": "y5",
         "type": "bar"
        },
        {
         "alignmentgroup": "True",
         "hovertemplate": "oc_str=4<br>max_delay=300<br>duration_minutes=30.0<br>area=%{x}<br>percent=%{y}<extra></extra>",
         "legendgroup": "4",
         "marker": {
          "color": "#0206f5",
          "pattern": {
           "shape": ""
          }
         },
         "name": "4",
         "offsetgroup": "4",
         "orientation": "v",
         "showlegend": false,
         "textposition": "auto",
         "x": [
          "NYC",
          "Manhattan",
          "Chicago",
          "DC"
         ],
         "xaxis": "x6",
         "y": [
          3.217473875384508,
          8.91278513961675,
          1.5326360519404727,
          0.0
         ],
         "yaxis": "y6",
         "type": "bar"
        },
        {
         "alignmentgroup": "True",
         "hovertemplate": "oc_str=4<br>max_delay=600<br>duration_minutes=1.0<br>area=%{x}<br>percent=%{y}<extra></extra>",
         "legendgroup": "4",
         "marker": {
          "color": "#0206f5",
          "pattern": {
           "shape": ""
          }
         },
         "name": "4",
         "offsetgroup": "4",
         "orientation": "v",
         "showlegend": false,
         "textposition": "auto",
         "x": [
          "NYC",
          "Manhattan",
          "Chicago",
          "DC"
         ],
         "xaxis": "x",
         "y": [
          1.2973785807222233,
          3.8106770184123366,
          0.0,
          0.0
         ],
         "yaxis": "y",
         "type": "bar"
        },
        {
         "alignmentgroup": "True",
         "hovertemplate": "oc_str=4<br>max_delay=600<br>duration_minutes=5.0<br>area=%{x}<br>percent=%{y}<extra></extra>",
         "legendgroup": "4",
         "marker": {
          "color": "#0206f5",
          "pattern": {
           "shape": ""
          }
         },
         "name": "4",
         "offsetgroup": "4",
         "orientation": "v",
         "showlegend": false,
         "textposition": "auto",
         "x": [
          "NYC",
          "Manhattan",
          "Chicago",
          "DC"
         ],
         "xaxis": "x2",
         "y": [
          4.397857862992586,
          11.82074896160211,
          6.79635761589404,
          0.0
         ],
         "yaxis": "y2",
         "type": "bar"
        },
        {
         "alignmentgroup": "True",
         "hovertemplate": "oc_str=4<br>max_delay=600<br>duration_minutes=30.0<br>area=%{x}<br>percent=%{y}<extra></extra>",
         "legendgroup": "4",
         "marker": {
          "color": "#0206f5",
          "pattern": {
           "shape": ""
          }
         },
         "name": "4",
         "offsetgroup": "4",
         "orientation": "v",
         "showlegend": false,
         "textposition": "auto",
         "x": [
          "NYC",
          "Manhattan",
          "Chicago",
          "DC"
         ],
         "xaxis": "x3",
         "y": [
          9.58710803736438,
          21.102907445200525,
          6.413275349310185,
          1.0813657080486947
         ],
         "yaxis": "y3",
         "type": "bar"
        }
       ],
       "layout": {
        "template": {
         "data": {
          "histogram2dcontour": [
           {
            "type": "histogram2dcontour",
            "colorbar": {
             "outlinewidth": 0,
             "ticks": ""
            },
            "colorscale": [
             [
              0.0,
              "#0d0887"
             ],
             [
              0.1111111111111111,
              "#46039f"
             ],
             [
              0.2222222222222222,
              "#7201a8"
             ],
             [
              0.3333333333333333,
              "#9c179e"
             ],
             [
              0.4444444444444444,
              "#bd3786"
             ],
             [
              0.5555555555555556,
              "#d8576b"
             ],
             [
              0.6666666666666666,
              "#ed7953"
             ],
             [
              0.7777777777777778,
              "#fb9f3a"
             ],
             [
              0.8888888888888888,
              "#fdca26"
             ],
             [
              1.0,
              "#f0f921"
             ]
            ]
           }
          ],
          "choropleth": [
           {
            "type": "choropleth",
            "colorbar": {
             "outlinewidth": 0,
             "ticks": ""
            }
           }
          ],
          "histogram2d": [
           {
            "type": "histogram2d",
            "colorbar": {
             "outlinewidth": 0,
             "ticks": ""
            },
            "colorscale": [
             [
              0.0,
              "#0d0887"
             ],
             [
              0.1111111111111111,
              "#46039f"
             ],
             [
              0.2222222222222222,
              "#7201a8"
             ],
             [
              0.3333333333333333,
              "#9c179e"
             ],
             [
              0.4444444444444444,
              "#bd3786"
             ],
             [
              0.5555555555555556,
              "#d8576b"
             ],
             [
              0.6666666666666666,
              "#ed7953"
             ],
             [
              0.7777777777777778,
              "#fb9f3a"
             ],
             [
              0.8888888888888888,
              "#fdca26"
             ],
             [
              1.0,
              "#f0f921"
             ]
            ]
           }
          ],
          "heatmap": [
           {
            "type": "heatmap",
            "colorbar": {
             "outlinewidth": 0,
             "ticks": ""
            },
            "colorscale": [
             [
              0.0,
              "#0d0887"
             ],
             [
              0.1111111111111111,
              "#46039f"
             ],
             [
              0.2222222222222222,
              "#7201a8"
             ],
             [
              0.3333333333333333,
              "#9c179e"
             ],
             [
              0.4444444444444444,
              "#bd3786"
             ],
             [
              0.5555555555555556,
              "#d8576b"
             ],
             [
              0.6666666666666666,
              "#ed7953"
             ],
             [
              0.7777777777777778,
              "#fb9f3a"
             ],
             [
              0.8888888888888888,
              "#fdca26"
             ],
             [
              1.0,
              "#f0f921"
             ]
            ]
           }
          ],
          "heatmapgl": [
           {
            "type": "heatmapgl",
            "colorbar": {
             "outlinewidth": 0,
             "ticks": ""
            },
            "colorscale": [
             [
              0.0,
              "#0d0887"
             ],
             [
              0.1111111111111111,
              "#46039f"
             ],
             [
              0.2222222222222222,
              "#7201a8"
             ],
             [
              0.3333333333333333,
              "#9c179e"
             ],
             [
              0.4444444444444444,
              "#bd3786"
             ],
             [
              0.5555555555555556,
              "#d8576b"
             ],
             [
              0.6666666666666666,
              "#ed7953"
             ],
             [
              0.7777777777777778,
              "#fb9f3a"
             ],
             [
              0.8888888888888888,
              "#fdca26"
             ],
             [
              1.0,
              "#f0f921"
             ]
            ]
           }
          ],
          "contourcarpet": [
           {
            "type": "contourcarpet",
            "colorbar": {
             "outlinewidth": 0,
             "ticks": ""
            }
           }
          ],
          "contour": [
           {
            "type": "contour",
            "colorbar": {
             "outlinewidth": 0,
             "ticks": ""
            },
            "colorscale": [
             [
              0.0,
              "#0d0887"
             ],
             [
              0.1111111111111111,
              "#46039f"
             ],
             [
              0.2222222222222222,
              "#7201a8"
             ],
             [
              0.3333333333333333,
              "#9c179e"
             ],
             [
              0.4444444444444444,
              "#bd3786"
             ],
             [
              0.5555555555555556,
              "#d8576b"
             ],
             [
              0.6666666666666666,
              "#ed7953"
             ],
             [
              0.7777777777777778,
              "#fb9f3a"
             ],
             [
              0.8888888888888888,
              "#fdca26"
             ],
             [
              1.0,
              "#f0f921"
             ]
            ]
           }
          ],
          "surface": [
           {
            "type": "surface",
            "colorbar": {
             "outlinewidth": 0,
             "ticks": ""
            },
            "colorscale": [
             [
              0.0,
              "#0d0887"
             ],
             [
              0.1111111111111111,
              "#46039f"
             ],
             [
              0.2222222222222222,
              "#7201a8"
             ],
             [
              0.3333333333333333,
              "#9c179e"
             ],
             [
              0.4444444444444444,
              "#bd3786"
             ],
             [
              0.5555555555555556,
              "#d8576b"
             ],
             [
              0.6666666666666666,
              "#ed7953"
             ],
             [
              0.7777777777777778,
              "#fb9f3a"
             ],
             [
              0.8888888888888888,
              "#fdca26"
             ],
             [
              1.0,
              "#f0f921"
             ]
            ]
           }
          ],
          "mesh3d": [
           {
            "type": "mesh3d",
            "colorbar": {
             "outlinewidth": 0,
             "ticks": ""
            }
           }
          ],
          "scatter": [
           {
            "fillpattern": {
             "fillmode": "overlay",
             "size": 10,
             "solidity": 0.2
            },
            "type": "scatter"
           }
          ],
          "parcoords": [
           {
            "type": "parcoords",
            "line": {
             "colorbar": {
              "outlinewidth": 0,
              "ticks": ""
             }
            }
           }
          ],
          "scatterpolargl": [
           {
            "type": "scatterpolargl",
            "marker": {
             "colorbar": {
              "outlinewidth": 0,
              "ticks": ""
             }
            }
           }
          ],
          "bar": [
           {
            "error_x": {
             "color": "#2a3f5f"
            },
            "error_y": {
             "color": "#2a3f5f"
            },
            "marker": {
             "line": {
              "color": "#E5ECF6",
              "width": 0.5
             },
             "pattern": {
              "fillmode": "overlay",
              "size": 10,
              "solidity": 0.2
             }
            },
            "type": "bar"
           }
          ],
          "scattergeo": [
           {
            "type": "scattergeo",
            "marker": {
             "colorbar": {
              "outlinewidth": 0,
              "ticks": ""
             }
            }
           }
          ],
          "scatterpolar": [
           {
            "type": "scatterpolar",
            "marker": {
             "colorbar": {
              "outlinewidth": 0,
              "ticks": ""
             }
            }
           }
          ],
          "histogram": [
           {
            "marker": {
             "pattern": {
              "fillmode": "overlay",
              "size": 10,
              "solidity": 0.2
             }
            },
            "type": "histogram"
           }
          ],
          "scattergl": [
           {
            "type": "scattergl",
            "marker": {
             "colorbar": {
              "outlinewidth": 0,
              "ticks": ""
             }
            }
           }
          ],
          "scatter3d": [
           {
            "type": "scatter3d",
            "line": {
             "colorbar": {
              "outlinewidth": 0,
              "ticks": ""
             }
            },
            "marker": {
             "colorbar": {
              "outlinewidth": 0,
              "ticks": ""
             }
            }
           }
          ],
          "scattermapbox": [
           {
            "type": "scattermapbox",
            "marker": {
             "colorbar": {
              "outlinewidth": 0,
              "ticks": ""
             }
            }
           }
          ],
          "scatterternary": [
           {
            "type": "scatterternary",
            "marker": {
             "colorbar": {
              "outlinewidth": 0,
              "ticks": ""
             }
            }
           }
          ],
          "scattercarpet": [
           {
            "type": "scattercarpet",
            "marker": {
             "colorbar": {
              "outlinewidth": 0,
              "ticks": ""
             }
            }
           }
          ],
          "carpet": [
           {
            "aaxis": {
             "endlinecolor": "#2a3f5f",
             "gridcolor": "white",
             "linecolor": "white",
             "minorgridcolor": "white",
             "startlinecolor": "#2a3f5f"
            },
            "baxis": {
             "endlinecolor": "#2a3f5f",
             "gridcolor": "white",
             "linecolor": "white",
             "minorgridcolor": "white",
             "startlinecolor": "#2a3f5f"
            },
            "type": "carpet"
           }
          ],
          "table": [
           {
            "cells": {
             "fill": {
              "color": "#EBF0F8"
             },
             "line": {
              "color": "white"
             }
            },
            "header": {
             "fill": {
              "color": "#C8D4E3"
             },
             "line": {
              "color": "white"
             }
            },
            "type": "table"
           }
          ],
          "barpolar": [
           {
            "marker": {
             "line": {
              "color": "#E5ECF6",
              "width": 0.5
             },
             "pattern": {
              "fillmode": "overlay",
              "size": 10,
              "solidity": 0.2
             }
            },
            "type": "barpolar"
           }
          ],
          "pie": [
           {
            "automargin": true,
            "type": "pie"
           }
          ]
         },
         "layout": {
          "autotypenumbers": "strict",
          "colorway": [
           "#636efa",
           "#EF553B",
           "#00cc96",
           "#ab63fa",
           "#FFA15A",
           "#19d3f3",
           "#FF6692",
           "#B6E880",
           "#FF97FF",
           "#FECB52"
          ],
          "font": {
           "color": "#2a3f5f"
          },
          "hovermode": "closest",
          "hoverlabel": {
           "align": "left"
          },
          "paper_bgcolor": "white",
          "plot_bgcolor": "#E5ECF6",
          "polar": {
           "bgcolor": "#E5ECF6",
           "angularaxis": {
            "gridcolor": "white",
            "linecolor": "white",
            "ticks": ""
           },
           "radialaxis": {
            "gridcolor": "white",
            "linecolor": "white",
            "ticks": ""
           }
          },
          "ternary": {
           "bgcolor": "#E5ECF6",
           "aaxis": {
            "gridcolor": "white",
            "linecolor": "white",
            "ticks": ""
           },
           "baxis": {
            "gridcolor": "white",
            "linecolor": "white",
            "ticks": ""
           },
           "caxis": {
            "gridcolor": "white",
            "linecolor": "white",
            "ticks": ""
           }
          },
          "coloraxis": {
           "colorbar": {
            "outlinewidth": 0,
            "ticks": ""
           }
          },
          "colorscale": {
           "sequential": [
            [
             0.0,
             "#0d0887"
            ],
            [
             0.1111111111111111,
             "#46039f"
            ],
            [
             0.2222222222222222,
             "#7201a8"
            ],
            [
             0.3333333333333333,
             "#9c179e"
            ],
            [
             0.4444444444444444,
             "#bd3786"
            ],
            [
             0.5555555555555556,
             "#d8576b"
            ],
            [
             0.6666666666666666,
             "#ed7953"
            ],
            [
             0.7777777777777778,
             "#fb9f3a"
            ],
            [
             0.8888888888888888,
             "#fdca26"
            ],
            [
             1.0,
             "#f0f921"
            ]
           ],
           "sequentialminus": [
            [
             0.0,
             "#0d0887"
            ],
            [
             0.1111111111111111,
             "#46039f"
            ],
            [
             0.2222222222222222,
             "#7201a8"
            ],
            [
             0.3333333333333333,
             "#9c179e"
            ],
            [
             0.4444444444444444,
             "#bd3786"
            ],
            [
             0.5555555555555556,
             "#d8576b"
            ],
            [
             0.6666666666666666,
             "#ed7953"
            ],
            [
             0.7777777777777778,
             "#fb9f3a"
            ],
            [
             0.8888888888888888,
             "#fdca26"
            ],
            [
             1.0,
             "#f0f921"
            ]
           ],
           "diverging": [
            [
             0,
             "#8e0152"
            ],
            [
             0.1,
             "#c51b7d"
            ],
            [
             0.2,
             "#de77ae"
            ],
            [
             0.3,
             "#f1b6da"
            ],
            [
             0.4,
             "#fde0ef"
            ],
            [
             0.5,
             "#f7f7f7"
            ],
            [
             0.6,
             "#e6f5d0"
            ],
            [
             0.7,
             "#b8e186"
            ],
            [
             0.8,
             "#7fbc41"
            ],
            [
             0.9,
             "#4d9221"
            ],
            [
             1,
             "#276419"
            ]
           ]
          },
          "xaxis": {
           "gridcolor": "white",
           "linecolor": "white",
           "ticks": "",
           "title": {
            "standoff": 15
           },
           "zerolinecolor": "white",
           "automargin": true,
           "zerolinewidth": 2
          },
          "yaxis": {
           "gridcolor": "white",
           "linecolor": "white",
           "ticks": "",
           "title": {
            "standoff": 15
           },
           "zerolinecolor": "white",
           "automargin": true,
           "zerolinewidth": 2
          },
          "scene": {
           "xaxis": {
            "backgroundcolor": "#E5ECF6",
            "gridcolor": "white",
            "linecolor": "white",
            "showbackground": true,
            "ticks": "",
            "zerolinecolor": "white",
            "gridwidth": 2
           },
           "yaxis": {
            "backgroundcolor": "#E5ECF6",
            "gridcolor": "white",
            "linecolor": "white",
            "showbackground": true,
            "ticks": "",
            "zerolinecolor": "white",
            "gridwidth": 2
           },
           "zaxis": {
            "backgroundcolor": "#E5ECF6",
            "gridcolor": "white",
            "linecolor": "white",
            "showbackground": true,
            "ticks": "",
            "zerolinecolor": "white",
            "gridwidth": 2
           }
          },
          "shapedefaults": {
           "line": {
            "color": "#2a3f5f"
           }
          },
          "annotationdefaults": {
           "arrowcolor": "#2a3f5f",
           "arrowhead": 0,
           "arrowwidth": 1
          },
          "geo": {
           "bgcolor": "white",
           "landcolor": "#E5ECF6",
           "subunitcolor": "white",
           "showland": true,
           "showlakes": true,
           "lakecolor": "white"
          },
          "title": {
           "x": 0.05
          },
          "mapbox": {
           "style": "light"
          }
         }
        },
        "xaxis": {
         "anchor": "y",
         "domain": [
          0.0,
          0.3133333333333333
         ],
         "title": {
          "text": ""
         },
         "tickvals": [
          0,
          1,
          2,
          3
         ],
         "ticktext": [
          "NYC",
          "Man",
          "Chic",
          "DC"
         ]
        },
        "yaxis": {
         "anchor": "x",
         "domain": [
          0.0,
          0.3133333333333333
         ],
         "title": {
          "text": ""
         }
        },
        "xaxis2": {
         "anchor": "y2",
         "domain": [
          0.3333333333333333,
          0.6466666666666666
         ],
         "matches": "x",
         "title": {
          "text": ""
         },
         "tickvals": [
          0,
          1,
          2,
          3
         ],
         "ticktext": [
          "NYC",
          "Man",
          "Chic",
          "DC"
         ]
        },
        "yaxis2": {
         "anchor": "x2",
         "domain": [
          0.0,
          0.3133333333333333
         ],
         "matches": "y",
         "showticklabels": false,
         "title": {
          "text": ""
         }
        },
        "xaxis3": {
         "anchor": "y3",
         "domain": [
          0.6666666666666666,
          0.98
         ],
         "matches": "x",
         "title": {
          "text": ""
         },
         "tickvals": [
          0,
          1,
          2,
          3
         ],
         "ticktext": [
          "NYC",
          "Man",
          "Chic",
          "DC"
         ]
        },
        "yaxis3": {
         "anchor": "x3",
         "domain": [
          0.0,
          0.3133333333333333
         ],
         "matches": "y",
         "showticklabels": false,
         "title": {
          "text": ""
         }
        },
        "xaxis4": {
         "anchor": "y4",
         "domain": [
          0.0,
          0.3133333333333333
         ],
         "matches": "x",
         "showticklabels": false,
         "title": {
          "text": ""
         },
         "tickvals": [
          0,
          1,
          2,
          3
         ],
         "ticktext": [
          "NYC",
          "Man",
          "Chic",
          "DC"
         ]
        },
        "yaxis4": {
         "anchor": "x4",
         "domain": [
          0.34333333333333327,
          0.6566666666666665
         ],
         "matches": "y",
         "title": {
          "text": ""
         }
        },
        "xaxis5": {
         "anchor": "y5",
         "domain": [
          0.3333333333333333,
          0.6466666666666666
         ],
         "matches": "x",
         "showticklabels": false,
         "title": {
          "text": ""
         },
         "tickvals": [
          0,
          1,
          2,
          3
         ],
         "ticktext": [
          "NYC",
          "Man",
          "Chic",
          "DC"
         ]
        },
        "yaxis5": {
         "anchor": "x5",
         "domain": [
          0.34333333333333327,
          0.6566666666666665
         ],
         "matches": "y",
         "showticklabels": false,
         "title": {
          "text": ""
         }
        },
        "xaxis6": {
         "anchor": "y6",
         "domain": [
          0.6666666666666666,
          0.98
         ],
         "matches": "x",
         "showticklabels": false,
         "title": {
          "text": ""
         },
         "tickvals": [
          0,
          1,
          2,
          3
         ],
         "ticktext": [
          "NYC",
          "Man",
          "Chic",
          "DC"
         ]
        },
        "yaxis6": {
         "anchor": "x6",
         "domain": [
          0.34333333333333327,
          0.6566666666666665
         ],
         "matches": "y",
         "showticklabels": false,
         "title": {
          "text": ""
         }
        },
        "xaxis7": {
         "anchor": "y7",
         "domain": [
          0.0,
          0.3133333333333333
         ],
         "matches": "x",
         "showticklabels": false,
         "title": {
          "text": ""
         },
         "tickvals": [
          0,
          1,
          2,
          3
         ],
         "ticktext": [
          "NYC",
          "Man",
          "Chic",
          "DC"
         ]
        },
        "yaxis7": {
         "anchor": "x7",
         "domain": [
          0.6866666666666665,
          0.9999999999999998
         ],
         "matches": "y",
         "title": {
          "text": ""
         }
        },
        "xaxis8": {
         "anchor": "y8",
         "domain": [
          0.3333333333333333,
          0.6466666666666666
         ],
         "matches": "x",
         "showticklabels": false,
         "title": {
          "text": ""
         },
         "tickvals": [
          0,
          1,
          2,
          3
         ],
         "ticktext": [
          "NYC",
          "Man",
          "Chic",
          "DC"
         ]
        },
        "yaxis8": {
         "anchor": "x8",
         "domain": [
          0.6866666666666665,
          0.9999999999999998
         ],
         "matches": "y",
         "showticklabels": false,
         "title": {
          "text": ""
         }
        },
        "xaxis9": {
         "anchor": "y9",
         "domain": [
          0.6666666666666666,
          0.98
         ],
         "matches": "x",
         "showticklabels": false,
         "title": {
          "text": ""
         },
         "tickvals": [
          0,
          1,
          2,
          3
         ],
         "ticktext": [
          "NYC",
          "Man",
          "Chic",
          "DC"
         ]
        },
        "yaxis9": {
         "anchor": "x9",
         "domain": [
          0.6866666666666665,
          0.9999999999999998
         ],
         "matches": "y",
         "showticklabels": false,
         "title": {
          "text": ""
         }
        },
        "annotations": [
         {
          "showarrow": false,
          "text": "1.0",
          "x": 0.15666666666666665,
          "xanchor": "center",
          "xref": "paper",
          "y": 0.9999999999999998,
          "yanchor": "bottom",
          "yref": "paper"
         },
         {
          "showarrow": false,
          "text": "5.0",
          "x": 0.49,
          "xanchor": "center",
          "xref": "paper",
          "y": 0.9999999999999998,
          "yanchor": "bottom",
          "yref": "paper"
         },
         {
          "showarrow": false,
          "text": "30.0",
          "x": 0.8233333333333333,
          "xanchor": "center",
          "xref": "paper",
          "y": 0.9999999999999998,
          "yanchor": "bottom",
          "yref": "paper"
         },
         {
          "showarrow": false,
          "text": "600",
          "textangle": 90,
          "x": 0.98,
          "xanchor": "left",
          "xref": "paper",
          "y": 0.15666666666666665,
          "yanchor": "middle",
          "yref": "paper"
         },
         {
          "showarrow": false,
          "text": "300",
          "textangle": 90,
          "x": 0.98,
          "xanchor": "left",
          "xref": "paper",
          "y": 0.4999999999999999,
          "yanchor": "middle",
          "yref": "paper"
         },
         {
          "showarrow": false,
          "text": "180",
          "textangle": 90,
          "x": 0.98,
          "xanchor": "left",
          "xref": "paper",
          "y": 0.8433333333333332,
          "yanchor": "middle",
          "yref": "paper"
         },
         {
          "showarrow": false,
          "text": "% of time",
          "textangle": -90,
          "x": -0.08,
          "xref": "paper",
          "y": 0.5,
          "yref": "paper"
         },
         {
          "showarrow": false,
          "text": "max delay [s]",
          "textangle": 90,
          "x": 1.06,
          "xref": "paper",
          "y": 0.5,
          "yref": "paper"
         },
         {
          "showarrow": false,
          "text": "instance length [min]",
          "x": 0.5,
          "xref": "paper",
          "y": 1.13,
          "yref": "paper"
         }
        ],
        "legend": {
         "title": {
          "text": "oc_str"
         },
         "tracegroupgap": 0
        },
        "margin": {
         "t": 27,
         "l": 0,
         "r": 20,
         "b": 0
        },
        "barmode": "group",
        "height": 300,
        "width": 450,
        "showlegend": false
       },
       "config": {
        "plotlyServerURL": "https://plot.ly"
       }
      },
      "text/html": "<div>                            <div id=\"7197d446-b39b-4098-b8c7-70e7ad0a5be7\" class=\"plotly-graph-div\" style=\"height:300px; width:450px;\"></div>            <script type=\"text/javascript\">                require([\"plotly\"], function(Plotly) {                    window.PLOTLYENV=window.PLOTLYENV || {};                                    if (document.getElementById(\"7197d446-b39b-4098-b8c7-70e7ad0a5be7\")) {                    Plotly.newPlot(                        \"7197d446-b39b-4098-b8c7-70e7ad0a5be7\",                        [{\"alignmentgroup\":\"True\",\"hovertemplate\":\"oc_str=0<br>max_delay=180<br>duration_minutes=1.0<br>area=%{x}<br>percent=%{y}<extra></extra>\",\"legendgroup\":\"0\",\"marker\":{\"color\":\"#f51302\",\"pattern\":{\"shape\":\"\"}},\"name\":\"0\",\"offsetgroup\":\"0\",\"orientation\":\"v\",\"showlegend\":true,\"textposition\":\"auto\",\"x\":[\"NYC\",\"Manhattan\",\"Chicago\",\"DC\"],\"xaxis\":\"x7\",\"y\":[18.958106655303023,16.19513125931145,26.346986346986345,29.606088483733377],\"yaxis\":\"y7\",\"type\":\"bar\"},{\"alignmentgroup\":\"True\",\"hovertemplate\":\"oc_str=0<br>max_delay=180<br>duration_minutes=5.0<br>area=%{x}<br>percent=%{y}<extra></extra>\",\"legendgroup\":\"0\",\"marker\":{\"color\":\"#f51302\",\"pattern\":{\"shape\":\"\"}},\"name\":\"0\",\"offsetgroup\":\"0\",\"orientation\":\"v\",\"showlegend\":false,\"textposition\":\"auto\",\"x\":[\"NYC\",\"Manhattan\",\"Chicago\",\"DC\"],\"xaxis\":\"x8\",\"y\":[13.602449610489597,10.236163384202928,15.9265916875167,32.38437676254935],\"yaxis\":\"y8\",\"type\":\"bar\"},{\"alignmentgroup\":\"True\",\"hovertemplate\":\"oc_str=0<br>max_delay=180<br>duration_minutes=30.0<br>area=%{x}<br>percent=%{y}<extra></extra>\",\"legendgroup\":\"0\",\"marker\":{\"color\":\"#f51302\",\"pattern\":{\"shape\":\"\"}},\"name\":\"0\",\"offsetgroup\":\"0\",\"orientation\":\"v\",\"showlegend\":false,\"textposition\":\"auto\",\"x\":[\"NYC\",\"Manhattan\",\"Chicago\",\"DC\"],\"xaxis\":\"x9\",\"y\":[11.059809279079312,5.605337944600834,17.96127156270332,27.340829823423533],\"yaxis\":\"y9\",\"type\":\"bar\"},{\"alignmentgroup\":\"True\",\"hovertemplate\":\"oc_str=0<br>max_delay=300<br>duration_minutes=1.0<br>area=%{x}<br>percent=%{y}<extra></extra>\",\"legendgroup\":\"0\",\"marker\":{\"color\":\"#f51302\",\"pattern\":{\"shape\":\"\"}},\"name\":\"0\",\"offsetgroup\":\"0\",\"orientation\":\"v\",\"showlegend\":false,\"textposition\":\"auto\",\"x\":[\"NYC\",\"Manhattan\",\"Chicago\",\"DC\"],\"xaxis\":\"x4\",\"y\":[14.324975903702212,11.686049823801811,25.497445549879,29.606088483733377],\"yaxis\":\"y4\",\"type\":\"bar\"},{\"alignmentgroup\":\"True\",\"hovertemplate\":\"oc_str=0<br>max_delay=300<br>duration_minutes=5.0<br>area=%{x}<br>percent=%{y}<extra></extra>\",\"legendgroup\":\"0\",\"marker\":{\"color\":\"#f51302\",\"pattern\":{\"shape\":\"\"}},\"name\":\"0\",\"offsetgroup\":\"0\",\"orientation\":\"v\",\"showlegend\":false,\"textposition\":\"auto\",\"x\":[\"NYC\",\"Manhattan\",\"Chicago\",\"DC\"],\"xaxis\":\"x5\",\"y\":[8.167813530310514,7.1378852335279905,11.730521771615956,26.901652092491783],\"yaxis\":\"y5\",\"type\":\"bar\"},{\"alignmentgroup\":\"True\",\"hovertemplate\":\"oc_str=0<br>max_delay=300<br>duration_minutes=30.0<br>area=%{x}<br>percent=%{y}<extra></extra>\",\"legendgroup\":\"0\",\"marker\":{\"color\":\"#f51302\",\"pattern\":{\"shape\":\"\"}},\"name\":\"0\",\"offsetgroup\":\"0\",\"orientation\":\"v\",\"showlegend\":false,\"textposition\":\"auto\",\"x\":[\"NYC\",\"Manhattan\",\"Chicago\",\"DC\"],\"xaxis\":\"x6\",\"y\":[6.393080053321593,3.4431120433162863,13.076761744966442,24.438399516405756],\"yaxis\":\"y6\",\"type\":\"bar\"},{\"alignmentgroup\":\"True\",\"hovertemplate\":\"oc_str=0<br>max_delay=600<br>duration_minutes=1.0<br>area=%{x}<br>percent=%{y}<extra></extra>\",\"legendgroup\":\"0\",\"marker\":{\"color\":\"#f51302\",\"pattern\":{\"shape\":\"\"}},\"name\":\"0\",\"offsetgroup\":\"0\",\"orientation\":\"v\",\"showlegend\":false,\"textposition\":\"auto\",\"x\":[\"NYC\",\"Manhattan\",\"Chicago\",\"DC\"],\"xaxis\":\"x\",\"y\":[9.577032186506836,7.401438797677979,17.198038013488656,25.644631973745895],\"yaxis\":\"y\",\"type\":\"bar\"},{\"alignmentgroup\":\"True\",\"hovertemplate\":\"oc_str=0<br>max_delay=600<br>duration_minutes=5.0<br>area=%{x}<br>percent=%{y}<extra></extra>\",\"legendgroup\":\"0\",\"marker\":{\"color\":\"#f51302\",\"pattern\":{\"shape\":\"\"}},\"name\":\"0\",\"offsetgroup\":\"0\",\"orientation\":\"v\",\"showlegend\":false,\"textposition\":\"auto\",\"x\":[\"NYC\",\"Manhattan\",\"Chicago\",\"DC\"],\"xaxis\":\"x2\",\"y\":[5.193535767092833,4.278893398456194,7.59933774834437,20.251077859497844],\"yaxis\":\"y2\",\"type\":\"bar\"},{\"alignmentgroup\":\"True\",\"hovertemplate\":\"oc_str=0<br>max_delay=600<br>duration_minutes=30.0<br>area=%{x}<br>percent=%{y}<extra></extra>\",\"legendgroup\":\"0\",\"marker\":{\"color\":\"#f51302\",\"pattern\":{\"shape\":\"\"}},\"name\":\"0\",\"offsetgroup\":\"0\",\"orientation\":\"v\",\"showlegend\":false,\"textposition\":\"auto\",\"x\":[\"NYC\",\"Manhattan\",\"Chicago\",\"DC\"],\"xaxis\":\"x3\",\"y\":[3.2085145045103514,2.0103188279646416,4.986493434189933,18.7514602447283],\"yaxis\":\"y3\",\"type\":\"bar\"},{\"alignmentgroup\":\"True\",\"hovertemplate\":\"oc_str=1<br>max_delay=180<br>duration_minutes=1.0<br>area=%{x}<br>percent=%{y}<extra></extra>\",\"legendgroup\":\"1\",\"marker\":{\"color\":\"#0206f5\",\"pattern\":{\"shape\":\"\"}},\"name\":\"1\",\"offsetgroup\":\"1\",\"orientation\":\"v\",\"showlegend\":true,\"textposition\":\"auto\",\"x\":[\"NYC\",\"Manhattan\",\"Chicago\",\"DC\"],\"xaxis\":\"x7\",\"y\":[71.34912274250314,62.36083283794594,71.9014319014319,70.39391151626663],\"yaxis\":\"y7\",\"type\":\"bar\"},{\"alignmentgroup\":\"True\",\"hovertemplate\":\"oc_str=1<br>max_delay=180<br>duration_minutes=5.0<br>area=%{x}<br>percent=%{y}<extra></extra>\",\"legendgroup\":\"1\",\"marker\":{\"color\":\"#0206f5\",\"pattern\":{\"shape\":\"\"}},\"name\":\"1\",\"offsetgroup\":\"1\",\"orientation\":\"v\",\"showlegend\":false,\"textposition\":\"auto\",\"x\":[\"NYC\",\"Manhattan\",\"Chicago\",\"DC\"],\"xaxis\":\"x8\",\"y\":[64.24536461562724,49.29415214477212,70.38768916850874,64.81669486745629],\"yaxis\":\"y8\",\"type\":\"bar\"},{\"alignmentgroup\":\"True\",\"hovertemplate\":\"oc_str=1<br>max_delay=180<br>duration_minutes=30.0<br>area=%{x}<br>percent=%{y}<extra></extra>\",\"legendgroup\":\"1\",\"marker\":{\"color\":\"#0206f5\",\"pattern\":{\"shape\":\"\"}},\"name\":\"1\",\"offsetgroup\":\"1\",\"orientation\":\"v\",\"showlegend\":false,\"textposition\":\"auto\",\"x\":[\"NYC\",\"Manhattan\",\"Chicago\",\"DC\"],\"xaxis\":\"x9\",\"y\":[57.80692446615118,42.71781260469569,59.17773143475332,59.819802924099996],\"yaxis\":\"y9\",\"type\":\"bar\"},{\"alignmentgroup\":\"True\",\"hovertemplate\":\"oc_str=1<br>max_delay=300<br>duration_minutes=1.0<br>area=%{x}<br>percent=%{y}<extra></extra>\",\"legendgroup\":\"1\",\"marker\":{\"color\":\"#0206f5\",\"pattern\":{\"shape\":\"\"}},\"name\":\"1\",\"offsetgroup\":\"1\",\"orientation\":\"v\",\"showlegend\":false,\"textposition\":\"auto\",\"x\":[\"NYC\",\"Manhattan\",\"Chicago\",\"DC\"],\"xaxis\":\"x4\",\"y\":[65.57907591608418,53.78968528480627,71.16160258133907,70.39391151626663],\"yaxis\":\"y4\",\"type\":\"bar\"},{\"alignmentgroup\":\"True\",\"hovertemplate\":\"oc_str=1<br>max_delay=300<br>duration_minutes=5.0<br>area=%{x}<br>percent=%{y}<extra></extra>\",\"legendgroup\":\"1\",\"marker\":{\"color\":\"#0206f5\",\"pattern\":{\"shape\":\"\"}},\"name\":\"1\",\"offsetgroup\":\"1\",\"orientation\":\"v\",\"showlegend\":false,\"textposition\":\"auto\",\"x\":[\"NYC\",\"Manhattan\",\"Chicago\",\"DC\"],\"xaxis\":\"x5\",\"y\":[58.5900989535724,44.61515077716001,69.23055636268039,64.29353604926123],\"yaxis\":\"y5\",\"type\":\"bar\"},{\"alignmentgroup\":\"True\",\"hovertemplate\":\"oc_str=1<br>max_delay=300<br>duration_minutes=30.0<br>area=%{x}<br>percent=%{y}<extra></extra>\",\"legendgroup\":\"1\",\"marker\":{\"color\":\"#0206f5\",\"pattern\":{\"shape\":\"\"}},\"name\":\"1\",\"offsetgroup\":\"1\",\"orientation\":\"v\",\"showlegend\":false,\"textposition\":\"auto\",\"x\":[\"NYC\",\"Manhattan\",\"Chicago\",\"DC\"],\"xaxis\":\"x6\",\"y\":[49.53005185999551,32.943770769932165,51.08513276918588,50.691462724425364],\"yaxis\":\"y6\",\"type\":\"bar\"},{\"alignmentgroup\":\"True\",\"hovertemplate\":\"oc_str=1<br>max_delay=600<br>duration_minutes=1.0<br>area=%{x}<br>percent=%{y}<extra></extra>\",\"legendgroup\":\"1\",\"marker\":{\"color\":\"#0206f5\",\"pattern\":{\"shape\":\"\"}},\"name\":\"1\",\"offsetgroup\":\"1\",\"orientation\":\"v\",\"showlegend\":false,\"textposition\":\"auto\",\"x\":[\"NYC\",\"Manhattan\",\"Chicago\",\"DC\"],\"xaxis\":\"x\",\"y\":[55.40387773819935,42.52911428469675,74.06499080318822,64.91326769807783],\"yaxis\":\"y\",\"type\":\"bar\"},{\"alignmentgroup\":\"True\",\"hovertemplate\":\"oc_str=1<br>max_delay=600<br>duration_minutes=5.0<br>area=%{x}<br>percent=%{y}<extra></extra>\",\"legendgroup\":\"1\",\"marker\":{\"color\":\"#0206f5\",\"pattern\":{\"shape\":\"\"}},\"name\":\"1\",\"offsetgroup\":\"1\",\"orientation\":\"v\",\"showlegend\":false,\"textposition\":\"auto\",\"x\":[\"NYC\",\"Manhattan\",\"Chicago\",\"DC\"],\"xaxis\":\"x2\",\"y\":[47.99644474281709,34.942043333248094,54.53476821192053,60.646353392993],\"yaxis\":\"y2\",\"type\":\"bar\"},{\"alignmentgroup\":\"True\",\"hovertemplate\":\"oc_str=1<br>max_delay=600<br>duration_minutes=30.0<br>area=%{x}<br>percent=%{y}<extra></extra>\",\"legendgroup\":\"1\",\"marker\":{\"color\":\"#0206f5\",\"pattern\":{\"shape\":\"\"}},\"name\":\"1\",\"offsetgroup\":\"1\",\"orientation\":\"v\",\"showlegend\":false,\"textposition\":\"auto\",\"x\":[\"NYC\",\"Manhattan\",\"Chicago\",\"DC\"],\"xaxis\":\"x3\",\"y\":[38.74554416834902,23.028645113480643,42.69921119383271,42.075622369380014],\"yaxis\":\"y3\",\"type\":\"bar\"},{\"alignmentgroup\":\"True\",\"hovertemplate\":\"oc_str=2<br>max_delay=180<br>duration_minutes=1.0<br>area=%{x}<br>percent=%{y}<extra></extra>\",\"legendgroup\":\"2\",\"marker\":{\"color\":\"#0206f5\",\"pattern\":{\"shape\":\"\"}},\"name\":\"2\",\"offsetgroup\":\"2\",\"orientation\":\"v\",\"showlegend\":true,\"textposition\":\"auto\",\"x\":[\"NYC\",\"Manhattan\",\"Chicago\",\"DC\"],\"xaxis\":\"x7\",\"y\":[9.129275156664713,20.006311602339697,1.7515817515817518,0.0],\"yaxis\":\"y7\",\"type\":\"bar\"},{\"alignmentgroup\":\"True\",\"hovertemplate\":\"oc_str=2<br>max_delay=180<br>duration_minutes=5.0<br>area=%{x}<br>percent=%{y}<extra></extra>\",\"legendgroup\":\"2\",\"marker\":{\"color\":\"#0206f5\",\"pattern\":{\"shape\":\"\"}},\"name\":\"2\",\"offsetgroup\":\"2\",\"orientation\":\"v\",\"showlegend\":false,\"textposition\":\"auto\",\"x\":[\"NYC\",\"Manhattan\",\"Chicago\",\"DC\"],\"xaxis\":\"x8\",\"y\":[18.849012192219195,31.711596463188286,13.159812471154082,2.79892836999436],\"yaxis\":\"y8\",\"type\":\"bar\"},{\"alignmentgroup\":\"True\",\"hovertemplate\":\"oc_str=2<br>max_delay=180<br>duration_minutes=30.0<br>area=%{x}<br>percent=%{y}<extra></extra>\",\"legendgroup\":\"2\",\"marker\":{\"color\":\"#0206f5\",\"pattern\":{\"shape\":\"\"}},\"name\":\"2\",\"offsetgroup\":\"2\",\"orientation\":\"v\",\"showlegend\":false,\"textposition\":\"auto\",\"x\":[\"NYC\",\"Manhattan\",\"Chicago\",\"DC\"],\"xaxis\":\"x9\",\"y\":[23.77492167685428,34.7729696919343,17.33106154993885,11.852164422668677],\"yaxis\":\"y9\",\"type\":\"bar\"},{\"alignmentgroup\":\"True\",\"hovertemplate\":\"oc_str=2<br>max_delay=300<br>duration_minutes=1.0<br>area=%{x}<br>percent=%{y}<extra></extra>\",\"legendgroup\":\"2\",\"marker\":{\"color\":\"#0206f5\",\"pattern\":{\"shape\":\"\"}},\"name\":\"2\",\"offsetgroup\":\"2\",\"orientation\":\"v\",\"showlegend\":false,\"textposition\":\"auto\",\"x\":[\"NYC\",\"Manhattan\",\"Chicago\",\"DC\"],\"xaxis\":\"x4\",\"y\":[18.049765834970103,28.731291658867285,2.6283947297660664,0.0],\"yaxis\":\"y4\",\"type\":\"bar\"},{\"alignmentgroup\":\"True\",\"hovertemplate\":\"oc_str=2<br>max_delay=300<br>duration_minutes=5.0<br>area=%{x}<br>percent=%{y}<extra></extra>\",\"legendgroup\":\"2\",\"marker\":{\"color\":\"#0206f5\",\"pattern\":{\"shape\":\"\"}},\"name\":\"2\",\"offsetgroup\":\"2\",\"orientation\":\"v\",\"showlegend\":false,\"textposition\":\"auto\",\"x\":[\"NYC\",\"Manhattan\",\"Chicago\",\"DC\"],\"xaxis\":\"x5\",\"y\":[25.882904483462788,31.167924942181507,11.053920551243204,8.71117741346749],\"yaxis\":\"y5\",\"type\":\"bar\"},{\"alignmentgroup\":\"True\",\"hovertemplate\":\"oc_str=2<br>max_delay=300<br>duration_minutes=30.0<br>area=%{x}<br>percent=%{y}<extra></extra>\",\"legendgroup\":\"2\",\"marker\":{\"color\":\"#0206f5\",\"pattern\":{\"shape\":\"\"}},\"name\":\"2\",\"offsetgroup\":\"2\",\"orientation\":\"v\",\"showlegend\":false,\"textposition\":\"auto\",\"x\":[\"NYC\",\"Manhattan\",\"Chicago\",\"DC\"],\"xaxis\":\"x6\",\"y\":[29.5473521457876,32.33970589334404,25.159350379340534,22.951762066891277],\"yaxis\":\"y6\",\"type\":\"bar\"},{\"alignmentgroup\":\"True\",\"hovertemplate\":\"oc_str=2<br>max_delay=600<br>duration_minutes=1.0<br>area=%{x}<br>percent=%{y}<extra></extra>\",\"legendgroup\":\"2\",\"marker\":{\"color\":\"#0206f5\",\"pattern\":{\"shape\":\"\"}},\"name\":\"2\",\"offsetgroup\":\"2\",\"orientation\":\"v\",\"showlegend\":false,\"textposition\":\"auto\",\"x\":[\"NYC\",\"Manhattan\",\"Chicago\",\"DC\"],\"xaxis\":\"x\",\"y\":[26.58372971012947,30.914562484418962,7.2271612507664,9.442100328176277],\"yaxis\":\"y\",\"type\":\"bar\"},{\"alignmentgroup\":\"True\",\"hovertemplate\":\"oc_str=2<br>max_delay=600<br>duration_minutes=5.0<br>area=%{x}<br>percent=%{y}<extra></extra>\",\"legendgroup\":\"2\",\"marker\":{\"color\":\"#0206f5\",\"pattern\":{\"shape\":\"\"}},\"name\":\"2\",\"offsetgroup\":\"2\",\"orientation\":\"v\",\"showlegend\":false,\"textposition\":\"auto\",\"x\":[\"NYC\",\"Manhattan\",\"Chicago\",\"DC\"],\"xaxis\":\"x2\",\"y\":[28.34868468485505,28.342326084335813,24.276490066225165,16.800115937828338],\"yaxis\":\"y2\",\"type\":\"bar\"},{\"alignmentgroup\":\"True\",\"hovertemplate\":\"oc_str=2<br>max_delay=600<br>duration_minutes=30.0<br>area=%{x}<br>percent=%{y}<extra></extra>\",\"legendgroup\":\"2\",\"marker\":{\"color\":\"#0206f5\",\"pattern\":{\"shape\":\"\"}},\"name\":\"2\",\"offsetgroup\":\"2\",\"orientation\":\"v\",\"showlegend\":false,\"textposition\":\"auto\",\"x\":[\"NYC\",\"Manhattan\",\"Chicago\",\"DC\"],\"xaxis\":\"x3\",\"y\":[29.12237436995695,25.210331766933873,27.771828513482422,28.172697695341515],\"yaxis\":\"y3\",\"type\":\"bar\"},{\"alignmentgroup\":\"True\",\"hovertemplate\":\"oc_str=3<br>max_delay=180<br>duration_minutes=1.0<br>area=%{x}<br>percent=%{y}<extra></extra>\",\"legendgroup\":\"3\",\"marker\":{\"color\":\"#0206f5\",\"pattern\":{\"shape\":\"\"}},\"name\":\"3\",\"offsetgroup\":\"3\",\"orientation\":\"v\",\"showlegend\":true,\"textposition\":\"auto\",\"x\":[\"NYC\",\"Manhattan\",\"Chicago\",\"DC\"],\"xaxis\":\"x7\",\"y\":[0.5440272727469376,1.4230461554268774,0.0,0.0],\"yaxis\":\"y7\",\"type\":\"bar\"},{\"alignmentgroup\":\"True\",\"hovertemplate\":\"oc_str=3<br>max_delay=180<br>duration_minutes=5.0<br>area=%{x}<br>percent=%{y}<extra></extra>\",\"legendgroup\":\"3\",\"marker\":{\"color\":\"#0206f5\",\"pattern\":{\"shape\":\"\"}},\"name\":\"3\",\"offsetgroup\":\"3\",\"orientation\":\"v\",\"showlegend\":false,\"textposition\":\"auto\",\"x\":[\"NYC\",\"Manhattan\",\"Chicago\",\"DC\"],\"xaxis\":\"x8\",\"y\":[2.6757351623131425,7.283396061043514,0.3109286564481259,0.0],\"yaxis\":\"y8\",\"type\":\"bar\"},{\"alignmentgroup\":\"True\",\"hovertemplate\":\"oc_str=3<br>max_delay=180<br>duration_minutes=30.0<br>area=%{x}<br>percent=%{y}<extra></extra>\",\"legendgroup\":\"3\",\"marker\":{\"color\":\"#0206f5\",\"pattern\":{\"shape\":\"\"}},\"name\":\"3\",\"offsetgroup\":\"3\",\"orientation\":\"v\",\"showlegend\":false,\"textposition\":\"auto\",\"x\":[\"NYC\",\"Manhattan\",\"Chicago\",\"DC\"],\"xaxis\":\"x9\",\"y\":[4.945785786939996,12.154606968843758,2.0984104512212105,0.35867501230747595],\"yaxis\":\"y9\",\"type\":\"bar\"},{\"alignmentgroup\":\"True\",\"hovertemplate\":\"oc_str=3<br>max_delay=300<br>duration_minutes=1.0<br>area=%{x}<br>percent=%{y}<extra></extra>\",\"legendgroup\":\"3\",\"marker\":{\"color\":\"#0206f5\",\"pattern\":{\"shape\":\"\"}},\"name\":\"3\",\"offsetgroup\":\"3\",\"orientation\":\"v\",\"showlegend\":false,\"textposition\":\"auto\",\"x\":[\"NYC\",\"Manhattan\",\"Chicago\",\"DC\"],\"xaxis\":\"x4\",\"y\":[1.7745072094666279,5.398256736630504,0.7125571390158645,0.0],\"yaxis\":\"y4\",\"type\":\"bar\"},{\"alignmentgroup\":\"True\",\"hovertemplate\":\"oc_str=3<br>max_delay=300<br>duration_minutes=5.0<br>area=%{x}<br>percent=%{y}<extra></extra>\",\"legendgroup\":\"3\",\"marker\":{\"color\":\"#0206f5\",\"pattern\":{\"shape\":\"\"}},\"name\":\"3\",\"offsetgroup\":\"3\",\"orientation\":\"v\",\"showlegend\":false,\"textposition\":\"auto\",\"x\":[\"NYC\",\"Manhattan\",\"Chicago\",\"DC\"],\"xaxis\":\"x5\",\"y\":[5.958822316276164,12.472731606464617,7.02336972313312,0.0],\"yaxis\":\"y5\",\"type\":\"bar\"},{\"alignmentgroup\":\"True\",\"hovertemplate\":\"oc_str=3<br>max_delay=300<br>duration_minutes=30.0<br>area=%{x}<br>percent=%{y}<extra></extra>\",\"legendgroup\":\"3\",\"marker\":{\"color\":\"#0206f5\",\"pattern\":{\"shape\":\"\"}},\"name\":\"3\",\"offsetgroup\":\"3\",\"orientation\":\"v\",\"showlegend\":false,\"textposition\":\"auto\",\"x\":[\"NYC\",\"Manhattan\",\"Chicago\",\"DC\"],\"xaxis\":\"x6\",\"y\":[10.02332164858564,21.05805287342733,6.125984826378756,1.3565529686819389],\"yaxis\":\"y6\",\"type\":\"bar\"},{\"alignmentgroup\":\"True\",\"hovertemplate\":\"oc_str=3<br>max_delay=600<br>duration_minutes=1.0<br>area=%{x}<br>percent=%{y}<extra></extra>\",\"legendgroup\":\"3\",\"marker\":{\"color\":\"#0206f5\",\"pattern\":{\"shape\":\"\"}},\"name\":\"3\",\"offsetgroup\":\"3\",\"orientation\":\"v\",\"showlegend\":false,\"textposition\":\"auto\",\"x\":[\"NYC\",\"Manhattan\",\"Chicago\",\"DC\"],\"xaxis\":\"x\",\"y\":[7.125183968602691,15.344207414793972,1.5098099325567136,0.0],\"yaxis\":\"y\",\"type\":\"bar\"},{\"alignmentgroup\":\"True\",\"hovertemplate\":\"oc_str=3<br>max_delay=600<br>duration_minutes=5.0<br>area=%{x}<br>percent=%{y}<extra></extra>\",\"legendgroup\":\"3\",\"marker\":{\"color\":\"#0206f5\",\"pattern\":{\"shape\":\"\"}},\"name\":\"3\",\"offsetgroup\":\"3\",\"orientation\":\"v\",\"showlegend\":false,\"textposition\":\"auto\",\"x\":[\"NYC\",\"Manhattan\",\"Chicago\",\"DC\"],\"xaxis\":\"x2\",\"y\":[13.888550724466386,20.501463072488757,6.58112582781457,2.302452809680809],\"yaxis\":\"y2\",\"type\":\"bar\"},{\"alignmentgroup\":\"True\",\"hovertemplate\":\"oc_str=3<br>max_delay=600<br>duration_minutes=30.0<br>area=%{x}<br>percent=%{y}<extra></extra>\",\"legendgroup\":\"3\",\"marker\":{\"color\":\"#0206f5\",\"pattern\":{\"shape\":\"\"}},\"name\":\"3\",\"offsetgroup\":\"3\",\"orientation\":\"v\",\"showlegend\":false,\"textposition\":\"auto\",\"x\":[\"NYC\",\"Manhattan\",\"Chicago\",\"DC\"],\"xaxis\":\"x3\",\"y\":[18.43164080428017,28.09417805197937,15.915023675547008,9.256295180407788],\"yaxis\":\"y3\",\"type\":\"bar\"},{\"alignmentgroup\":\"True\",\"hovertemplate\":\"oc_str=4<br>max_delay=180<br>duration_minutes=1.0<br>area=%{x}<br>percent=%{y}<extra></extra>\",\"legendgroup\":\"4\",\"marker\":{\"color\":\"#0206f5\",\"pattern\":{\"shape\":\"\"}},\"name\":\"4\",\"offsetgroup\":\"4\",\"orientation\":\"v\",\"showlegend\":true,\"textposition\":\"auto\",\"x\":[\"NYC\",\"Manhattan\",\"Chicago\",\"DC\"],\"xaxis\":\"x7\",\"y\":[0.015141912163930666,0.0,0.0,0.0],\"yaxis\":\"y7\",\"type\":\"bar\"},{\"alignmentgroup\":\"True\",\"hovertemplate\":\"oc_str=4<br>max_delay=180<br>duration_minutes=5.0<br>area=%{x}<br>percent=%{y}<extra></extra>\",\"legendgroup\":\"4\",\"marker\":{\"color\":\"#0206f5\",\"pattern\":{\"shape\":\"\"}},\"name\":\"4\",\"offsetgroup\":\"4\",\"orientation\":\"v\",\"showlegend\":false,\"textposition\":\"auto\",\"x\":[\"NYC\",\"Manhattan\",\"Chicago\",\"DC\"],\"xaxis\":\"x8\",\"y\":[0.3285835887459754,1.0883365126830276,0.0,0.0],\"yaxis\":\"y8\",\"type\":\"bar\"},{\"alignmentgroup\":\"True\",\"hovertemplate\":\"oc_str=4<br>max_delay=180<br>duration_minutes=30.0<br>area=%{x}<br>percent=%{y}<extra></extra>\",\"legendgroup\":\"4\",\"marker\":{\"color\":\"#0206f5\",\"pattern\":{\"shape\":\"\"}},\"name\":\"4\",\"offsetgroup\":\"4\",\"orientation\":\"v\",\"showlegend\":false,\"textposition\":\"auto\",\"x\":[\"NYC\",\"Manhattan\",\"Chicago\",\"DC\"],\"xaxis\":\"x9\",\"y\":[0.9212824359859565,2.7802093659696467,0.23315671680235675,0.0],\"yaxis\":\"y9\",\"type\":\"bar\"},{\"alignmentgroup\":\"True\",\"hovertemplate\":\"oc_str=4<br>max_delay=300<br>duration_minutes=1.0<br>area=%{x}<br>percent=%{y}<extra></extra>\",\"legendgroup\":\"4\",\"marker\":{\"color\":\"#0206f5\",\"pattern\":{\"shape\":\"\"}},\"name\":\"4\",\"offsetgroup\":\"4\",\"orientation\":\"v\",\"showlegend\":false,\"textposition\":\"auto\",\"x\":[\"NYC\",\"Manhattan\",\"Chicago\",\"DC\"],\"xaxis\":\"x4\",\"y\":[0.268033377924635,0.3662318003141455,0.0,0.0],\"yaxis\":\"y4\",\"type\":\"bar\"},{\"alignmentgroup\":\"True\",\"hovertemplate\":\"oc_str=4<br>max_delay=300<br>duration_minutes=5.0<br>area=%{x}<br>percent=%{y}<extra></extra>\",\"legendgroup\":\"4\",\"marker\":{\"color\":\"#0206f5\",\"pattern\":{\"shape\":\"\"}},\"name\":\"4\",\"offsetgroup\":\"4\",\"orientation\":\"v\",\"showlegend\":false,\"textposition\":\"auto\",\"x\":[\"NYC\",\"Manhattan\",\"Chicago\",\"DC\"],\"xaxis\":\"x5\",\"y\":[1.1690733571513363,4.367088279642881,0.5728280270640488,0.0],\"yaxis\":\"y5\",\"type\":\"bar\"},{\"alignmentgroup\":\"True\",\"hovertemplate\":\"oc_str=4<br>max_delay=300<br>duration_minutes=30.0<br>area=%{x}<br>percent=%{y}<extra></extra>\",\"legendgroup\":\"4\",\"marker\":{\"color\":\"#0206f5\",\"pattern\":{\"shape\":\"\"}},\"name\":\"4\",\"offsetgroup\":\"4\",\"orientation\":\"v\",\"showlegend\":false,\"textposition\":\"auto\",\"x\":[\"NYC\",\"Manhattan\",\"Chicago\",\"DC\"],\"xaxis\":\"x6\",\"y\":[3.217473875384508,8.91278513961675,1.5326360519404727,0.0],\"yaxis\":\"y6\",\"type\":\"bar\"},{\"alignmentgroup\":\"True\",\"hovertemplate\":\"oc_str=4<br>max_delay=600<br>duration_minutes=1.0<br>area=%{x}<br>percent=%{y}<extra></extra>\",\"legendgroup\":\"4\",\"marker\":{\"color\":\"#0206f5\",\"pattern\":{\"shape\":\"\"}},\"name\":\"4\",\"offsetgroup\":\"4\",\"orientation\":\"v\",\"showlegend\":false,\"textposition\":\"auto\",\"x\":[\"NYC\",\"Manhattan\",\"Chicago\",\"DC\"],\"xaxis\":\"x\",\"y\":[1.2973785807222233,3.8106770184123366,0.0,0.0],\"yaxis\":\"y\",\"type\":\"bar\"},{\"alignmentgroup\":\"True\",\"hovertemplate\":\"oc_str=4<br>max_delay=600<br>duration_minutes=5.0<br>area=%{x}<br>percent=%{y}<extra></extra>\",\"legendgroup\":\"4\",\"marker\":{\"color\":\"#0206f5\",\"pattern\":{\"shape\":\"\"}},\"name\":\"4\",\"offsetgroup\":\"4\",\"orientation\":\"v\",\"showlegend\":false,\"textposition\":\"auto\",\"x\":[\"NYC\",\"Manhattan\",\"Chicago\",\"DC\"],\"xaxis\":\"x2\",\"y\":[4.397857862992586,11.82074896160211,6.79635761589404,0.0],\"yaxis\":\"y2\",\"type\":\"bar\"},{\"alignmentgroup\":\"True\",\"hovertemplate\":\"oc_str=4<br>max_delay=600<br>duration_minutes=30.0<br>area=%{x}<br>percent=%{y}<extra></extra>\",\"legendgroup\":\"4\",\"marker\":{\"color\":\"#0206f5\",\"pattern\":{\"shape\":\"\"}},\"name\":\"4\",\"offsetgroup\":\"4\",\"orientation\":\"v\",\"showlegend\":false,\"textposition\":\"auto\",\"x\":[\"NYC\",\"Manhattan\",\"Chicago\",\"DC\"],\"xaxis\":\"x3\",\"y\":[9.58710803736438,21.102907445200525,6.413275349310185,1.0813657080486947],\"yaxis\":\"y3\",\"type\":\"bar\"}],                        {\"template\":{\"data\":{\"histogram2dcontour\":[{\"type\":\"histogram2dcontour\",\"colorbar\":{\"outlinewidth\":0,\"ticks\":\"\"},\"colorscale\":[[0.0,\"#0d0887\"],[0.1111111111111111,\"#46039f\"],[0.2222222222222222,\"#7201a8\"],[0.3333333333333333,\"#9c179e\"],[0.4444444444444444,\"#bd3786\"],[0.5555555555555556,\"#d8576b\"],[0.6666666666666666,\"#ed7953\"],[0.7777777777777778,\"#fb9f3a\"],[0.8888888888888888,\"#fdca26\"],[1.0,\"#f0f921\"]]}],\"choropleth\":[{\"type\":\"choropleth\",\"colorbar\":{\"outlinewidth\":0,\"ticks\":\"\"}}],\"histogram2d\":[{\"type\":\"histogram2d\",\"colorbar\":{\"outlinewidth\":0,\"ticks\":\"\"},\"colorscale\":[[0.0,\"#0d0887\"],[0.1111111111111111,\"#46039f\"],[0.2222222222222222,\"#7201a8\"],[0.3333333333333333,\"#9c179e\"],[0.4444444444444444,\"#bd3786\"],[0.5555555555555556,\"#d8576b\"],[0.6666666666666666,\"#ed7953\"],[0.7777777777777778,\"#fb9f3a\"],[0.8888888888888888,\"#fdca26\"],[1.0,\"#f0f921\"]]}],\"heatmap\":[{\"type\":\"heatmap\",\"colorbar\":{\"outlinewidth\":0,\"ticks\":\"\"},\"colorscale\":[[0.0,\"#0d0887\"],[0.1111111111111111,\"#46039f\"],[0.2222222222222222,\"#7201a8\"],[0.3333333333333333,\"#9c179e\"],[0.4444444444444444,\"#bd3786\"],[0.5555555555555556,\"#d8576b\"],[0.6666666666666666,\"#ed7953\"],[0.7777777777777778,\"#fb9f3a\"],[0.8888888888888888,\"#fdca26\"],[1.0,\"#f0f921\"]]}],\"heatmapgl\":[{\"type\":\"heatmapgl\",\"colorbar\":{\"outlinewidth\":0,\"ticks\":\"\"},\"colorscale\":[[0.0,\"#0d0887\"],[0.1111111111111111,\"#46039f\"],[0.2222222222222222,\"#7201a8\"],[0.3333333333333333,\"#9c179e\"],[0.4444444444444444,\"#bd3786\"],[0.5555555555555556,\"#d8576b\"],[0.6666666666666666,\"#ed7953\"],[0.7777777777777778,\"#fb9f3a\"],[0.8888888888888888,\"#fdca26\"],[1.0,\"#f0f921\"]]}],\"contourcarpet\":[{\"type\":\"contourcarpet\",\"colorbar\":{\"outlinewidth\":0,\"ticks\":\"\"}}],\"contour\":[{\"type\":\"contour\",\"colorbar\":{\"outlinewidth\":0,\"ticks\":\"\"},\"colorscale\":[[0.0,\"#0d0887\"],[0.1111111111111111,\"#46039f\"],[0.2222222222222222,\"#7201a8\"],[0.3333333333333333,\"#9c179e\"],[0.4444444444444444,\"#bd3786\"],[0.5555555555555556,\"#d8576b\"],[0.6666666666666666,\"#ed7953\"],[0.7777777777777778,\"#fb9f3a\"],[0.8888888888888888,\"#fdca26\"],[1.0,\"#f0f921\"]]}],\"surface\":[{\"type\":\"surface\",\"colorbar\":{\"outlinewidth\":0,\"ticks\":\"\"},\"colorscale\":[[0.0,\"#0d0887\"],[0.1111111111111111,\"#46039f\"],[0.2222222222222222,\"#7201a8\"],[0.3333333333333333,\"#9c179e\"],[0.4444444444444444,\"#bd3786\"],[0.5555555555555556,\"#d8576b\"],[0.6666666666666666,\"#ed7953\"],[0.7777777777777778,\"#fb9f3a\"],[0.8888888888888888,\"#fdca26\"],[1.0,\"#f0f921\"]]}],\"mesh3d\":[{\"type\":\"mesh3d\",\"colorbar\":{\"outlinewidth\":0,\"ticks\":\"\"}}],\"scatter\":[{\"fillpattern\":{\"fillmode\":\"overlay\",\"size\":10,\"solidity\":0.2},\"type\":\"scatter\"}],\"parcoords\":[{\"type\":\"parcoords\",\"line\":{\"colorbar\":{\"outlinewidth\":0,\"ticks\":\"\"}}}],\"scatterpolargl\":[{\"type\":\"scatterpolargl\",\"marker\":{\"colorbar\":{\"outlinewidth\":0,\"ticks\":\"\"}}}],\"bar\":[{\"error_x\":{\"color\":\"#2a3f5f\"},\"error_y\":{\"color\":\"#2a3f5f\"},\"marker\":{\"line\":{\"color\":\"#E5ECF6\",\"width\":0.5},\"pattern\":{\"fillmode\":\"overlay\",\"size\":10,\"solidity\":0.2}},\"type\":\"bar\"}],\"scattergeo\":[{\"type\":\"scattergeo\",\"marker\":{\"colorbar\":{\"outlinewidth\":0,\"ticks\":\"\"}}}],\"scatterpolar\":[{\"type\":\"scatterpolar\",\"marker\":{\"colorbar\":{\"outlinewidth\":0,\"ticks\":\"\"}}}],\"histogram\":[{\"marker\":{\"pattern\":{\"fillmode\":\"overlay\",\"size\":10,\"solidity\":0.2}},\"type\":\"histogram\"}],\"scattergl\":[{\"type\":\"scattergl\",\"marker\":{\"colorbar\":{\"outlinewidth\":0,\"ticks\":\"\"}}}],\"scatter3d\":[{\"type\":\"scatter3d\",\"line\":{\"colorbar\":{\"outlinewidth\":0,\"ticks\":\"\"}},\"marker\":{\"colorbar\":{\"outlinewidth\":0,\"ticks\":\"\"}}}],\"scattermapbox\":[{\"type\":\"scattermapbox\",\"marker\":{\"colorbar\":{\"outlinewidth\":0,\"ticks\":\"\"}}}],\"scatterternary\":[{\"type\":\"scatterternary\",\"marker\":{\"colorbar\":{\"outlinewidth\":0,\"ticks\":\"\"}}}],\"scattercarpet\":[{\"type\":\"scattercarpet\",\"marker\":{\"colorbar\":{\"outlinewidth\":0,\"ticks\":\"\"}}}],\"carpet\":[{\"aaxis\":{\"endlinecolor\":\"#2a3f5f\",\"gridcolor\":\"white\",\"linecolor\":\"white\",\"minorgridcolor\":\"white\",\"startlinecolor\":\"#2a3f5f\"},\"baxis\":{\"endlinecolor\":\"#2a3f5f\",\"gridcolor\":\"white\",\"linecolor\":\"white\",\"minorgridcolor\":\"white\",\"startlinecolor\":\"#2a3f5f\"},\"type\":\"carpet\"}],\"table\":[{\"cells\":{\"fill\":{\"color\":\"#EBF0F8\"},\"line\":{\"color\":\"white\"}},\"header\":{\"fill\":{\"color\":\"#C8D4E3\"},\"line\":{\"color\":\"white\"}},\"type\":\"table\"}],\"barpolar\":[{\"marker\":{\"line\":{\"color\":\"#E5ECF6\",\"width\":0.5},\"pattern\":{\"fillmode\":\"overlay\",\"size\":10,\"solidity\":0.2}},\"type\":\"barpolar\"}],\"pie\":[{\"automargin\":true,\"type\":\"pie\"}]},\"layout\":{\"autotypenumbers\":\"strict\",\"colorway\":[\"#636efa\",\"#EF553B\",\"#00cc96\",\"#ab63fa\",\"#FFA15A\",\"#19d3f3\",\"#FF6692\",\"#B6E880\",\"#FF97FF\",\"#FECB52\"],\"font\":{\"color\":\"#2a3f5f\"},\"hovermode\":\"closest\",\"hoverlabel\":{\"align\":\"left\"},\"paper_bgcolor\":\"white\",\"plot_bgcolor\":\"#E5ECF6\",\"polar\":{\"bgcolor\":\"#E5ECF6\",\"angularaxis\":{\"gridcolor\":\"white\",\"linecolor\":\"white\",\"ticks\":\"\"},\"radialaxis\":{\"gridcolor\":\"white\",\"linecolor\":\"white\",\"ticks\":\"\"}},\"ternary\":{\"bgcolor\":\"#E5ECF6\",\"aaxis\":{\"gridcolor\":\"white\",\"linecolor\":\"white\",\"ticks\":\"\"},\"baxis\":{\"gridcolor\":\"white\",\"linecolor\":\"white\",\"ticks\":\"\"},\"caxis\":{\"gridcolor\":\"white\",\"linecolor\":\"white\",\"ticks\":\"\"}},\"coloraxis\":{\"colorbar\":{\"outlinewidth\":0,\"ticks\":\"\"}},\"colorscale\":{\"sequential\":[[0.0,\"#0d0887\"],[0.1111111111111111,\"#46039f\"],[0.2222222222222222,\"#7201a8\"],[0.3333333333333333,\"#9c179e\"],[0.4444444444444444,\"#bd3786\"],[0.5555555555555556,\"#d8576b\"],[0.6666666666666666,\"#ed7953\"],[0.7777777777777778,\"#fb9f3a\"],[0.8888888888888888,\"#fdca26\"],[1.0,\"#f0f921\"]],\"sequentialminus\":[[0.0,\"#0d0887\"],[0.1111111111111111,\"#46039f\"],[0.2222222222222222,\"#7201a8\"],[0.3333333333333333,\"#9c179e\"],[0.4444444444444444,\"#bd3786\"],[0.5555555555555556,\"#d8576b\"],[0.6666666666666666,\"#ed7953\"],[0.7777777777777778,\"#fb9f3a\"],[0.8888888888888888,\"#fdca26\"],[1.0,\"#f0f921\"]],\"diverging\":[[0,\"#8e0152\"],[0.1,\"#c51b7d\"],[0.2,\"#de77ae\"],[0.3,\"#f1b6da\"],[0.4,\"#fde0ef\"],[0.5,\"#f7f7f7\"],[0.6,\"#e6f5d0\"],[0.7,\"#b8e186\"],[0.8,\"#7fbc41\"],[0.9,\"#4d9221\"],[1,\"#276419\"]]},\"xaxis\":{\"gridcolor\":\"white\",\"linecolor\":\"white\",\"ticks\":\"\",\"title\":{\"standoff\":15},\"zerolinecolor\":\"white\",\"automargin\":true,\"zerolinewidth\":2},\"yaxis\":{\"gridcolor\":\"white\",\"linecolor\":\"white\",\"ticks\":\"\",\"title\":{\"standoff\":15},\"zerolinecolor\":\"white\",\"automargin\":true,\"zerolinewidth\":2},\"scene\":{\"xaxis\":{\"backgroundcolor\":\"#E5ECF6\",\"gridcolor\":\"white\",\"linecolor\":\"white\",\"showbackground\":true,\"ticks\":\"\",\"zerolinecolor\":\"white\",\"gridwidth\":2},\"yaxis\":{\"backgroundcolor\":\"#E5ECF6\",\"gridcolor\":\"white\",\"linecolor\":\"white\",\"showbackground\":true,\"ticks\":\"\",\"zerolinecolor\":\"white\",\"gridwidth\":2},\"zaxis\":{\"backgroundcolor\":\"#E5ECF6\",\"gridcolor\":\"white\",\"linecolor\":\"white\",\"showbackground\":true,\"ticks\":\"\",\"zerolinecolor\":\"white\",\"gridwidth\":2}},\"shapedefaults\":{\"line\":{\"color\":\"#2a3f5f\"}},\"annotationdefaults\":{\"arrowcolor\":\"#2a3f5f\",\"arrowhead\":0,\"arrowwidth\":1},\"geo\":{\"bgcolor\":\"white\",\"landcolor\":\"#E5ECF6\",\"subunitcolor\":\"white\",\"showland\":true,\"showlakes\":true,\"lakecolor\":\"white\"},\"title\":{\"x\":0.05},\"mapbox\":{\"style\":\"light\"}}},\"xaxis\":{\"anchor\":\"y\",\"domain\":[0.0,0.3133333333333333],\"title\":{\"text\":\"\"},\"tickvals\":[0,1,2,3],\"ticktext\":[\"NYC\",\"Man\",\"Chic\",\"DC\"]},\"yaxis\":{\"anchor\":\"x\",\"domain\":[0.0,0.3133333333333333],\"title\":{\"text\":\"\"}},\"xaxis2\":{\"anchor\":\"y2\",\"domain\":[0.3333333333333333,0.6466666666666666],\"matches\":\"x\",\"title\":{\"text\":\"\"},\"tickvals\":[0,1,2,3],\"ticktext\":[\"NYC\",\"Man\",\"Chic\",\"DC\"]},\"yaxis2\":{\"anchor\":\"x2\",\"domain\":[0.0,0.3133333333333333],\"matches\":\"y\",\"showticklabels\":false,\"title\":{\"text\":\"\"}},\"xaxis3\":{\"anchor\":\"y3\",\"domain\":[0.6666666666666666,0.98],\"matches\":\"x\",\"title\":{\"text\":\"\"},\"tickvals\":[0,1,2,3],\"ticktext\":[\"NYC\",\"Man\",\"Chic\",\"DC\"]},\"yaxis3\":{\"anchor\":\"x3\",\"domain\":[0.0,0.3133333333333333],\"matches\":\"y\",\"showticklabels\":false,\"title\":{\"text\":\"\"}},\"xaxis4\":{\"anchor\":\"y4\",\"domain\":[0.0,0.3133333333333333],\"matches\":\"x\",\"showticklabels\":false,\"title\":{\"text\":\"\"},\"tickvals\":[0,1,2,3],\"ticktext\":[\"NYC\",\"Man\",\"Chic\",\"DC\"]},\"yaxis4\":{\"anchor\":\"x4\",\"domain\":[0.34333333333333327,0.6566666666666665],\"matches\":\"y\",\"title\":{\"text\":\"\"}},\"xaxis5\":{\"anchor\":\"y5\",\"domain\":[0.3333333333333333,0.6466666666666666],\"matches\":\"x\",\"showticklabels\":false,\"title\":{\"text\":\"\"},\"tickvals\":[0,1,2,3],\"ticktext\":[\"NYC\",\"Man\",\"Chic\",\"DC\"]},\"yaxis5\":{\"anchor\":\"x5\",\"domain\":[0.34333333333333327,0.6566666666666665],\"matches\":\"y\",\"showticklabels\":false,\"title\":{\"text\":\"\"}},\"xaxis6\":{\"anchor\":\"y6\",\"domain\":[0.6666666666666666,0.98],\"matches\":\"x\",\"showticklabels\":false,\"title\":{\"text\":\"\"},\"tickvals\":[0,1,2,3],\"ticktext\":[\"NYC\",\"Man\",\"Chic\",\"DC\"]},\"yaxis6\":{\"anchor\":\"x6\",\"domain\":[0.34333333333333327,0.6566666666666665],\"matches\":\"y\",\"showticklabels\":false,\"title\":{\"text\":\"\"}},\"xaxis7\":{\"anchor\":\"y7\",\"domain\":[0.0,0.3133333333333333],\"matches\":\"x\",\"showticklabels\":false,\"title\":{\"text\":\"\"},\"tickvals\":[0,1,2,3],\"ticktext\":[\"NYC\",\"Man\",\"Chic\",\"DC\"]},\"yaxis7\":{\"anchor\":\"x7\",\"domain\":[0.6866666666666665,0.9999999999999998],\"matches\":\"y\",\"title\":{\"text\":\"\"}},\"xaxis8\":{\"anchor\":\"y8\",\"domain\":[0.3333333333333333,0.6466666666666666],\"matches\":\"x\",\"showticklabels\":false,\"title\":{\"text\":\"\"},\"tickvals\":[0,1,2,3],\"ticktext\":[\"NYC\",\"Man\",\"Chic\",\"DC\"]},\"yaxis8\":{\"anchor\":\"x8\",\"domain\":[0.6866666666666665,0.9999999999999998],\"matches\":\"y\",\"showticklabels\":false,\"title\":{\"text\":\"\"}},\"xaxis9\":{\"anchor\":\"y9\",\"domain\":[0.6666666666666666,0.98],\"matches\":\"x\",\"showticklabels\":false,\"title\":{\"text\":\"\"},\"tickvals\":[0,1,2,3],\"ticktext\":[\"NYC\",\"Man\",\"Chic\",\"DC\"]},\"yaxis9\":{\"anchor\":\"x9\",\"domain\":[0.6866666666666665,0.9999999999999998],\"matches\":\"y\",\"showticklabels\":false,\"title\":{\"text\":\"\"}},\"annotations\":[{\"showarrow\":false,\"text\":\"1.0\",\"x\":0.15666666666666665,\"xanchor\":\"center\",\"xref\":\"paper\",\"y\":0.9999999999999998,\"yanchor\":\"bottom\",\"yref\":\"paper\"},{\"showarrow\":false,\"text\":\"5.0\",\"x\":0.49,\"xanchor\":\"center\",\"xref\":\"paper\",\"y\":0.9999999999999998,\"yanchor\":\"bottom\",\"yref\":\"paper\"},{\"showarrow\":false,\"text\":\"30.0\",\"x\":0.8233333333333333,\"xanchor\":\"center\",\"xref\":\"paper\",\"y\":0.9999999999999998,\"yanchor\":\"bottom\",\"yref\":\"paper\"},{\"showarrow\":false,\"text\":\"600\",\"textangle\":90,\"x\":0.98,\"xanchor\":\"left\",\"xref\":\"paper\",\"y\":0.15666666666666665,\"yanchor\":\"middle\",\"yref\":\"paper\"},{\"showarrow\":false,\"text\":\"300\",\"textangle\":90,\"x\":0.98,\"xanchor\":\"left\",\"xref\":\"paper\",\"y\":0.4999999999999999,\"yanchor\":\"middle\",\"yref\":\"paper\"},{\"showarrow\":false,\"text\":\"180\",\"textangle\":90,\"x\":0.98,\"xanchor\":\"left\",\"xref\":\"paper\",\"y\":0.8433333333333332,\"yanchor\":\"middle\",\"yref\":\"paper\"},{\"showarrow\":false,\"text\":\"% of time\",\"textangle\":-90,\"x\":-0.08,\"xref\":\"paper\",\"y\":0.5,\"yref\":\"paper\"},{\"showarrow\":false,\"text\":\"max delay [s]\",\"textangle\":90,\"x\":1.06,\"xref\":\"paper\",\"y\":0.5,\"yref\":\"paper\"},{\"showarrow\":false,\"text\":\"instance length [min]\",\"x\":0.5,\"xref\":\"paper\",\"y\":1.13,\"yref\":\"paper\"}],\"legend\":{\"title\":{\"text\":\"oc_str\"},\"tracegroupgap\":0},\"margin\":{\"t\":27,\"l\":0,\"r\":20,\"b\":0},\"barmode\":\"group\",\"height\":300,\"width\":450,\"showlegend\":false},                        {\"responsive\": true}                    ).then(function(){\n                            \nvar gd = document.getElementById('7197d446-b39b-4098-b8c7-70e7ad0a5be7');\nvar x = new MutationObserver(function (mutations, observer) {{\n        var display = window.getComputedStyle(gd).display;\n        if (!display || display === 'none') {{\n            console.log([gd, 'removed!']);\n            Plotly.purge(gd);\n            observer.disconnect();\n        }}\n}});\n\n// Listen for the removal of the full notebook cells\nvar notebookContainer = gd.closest('#notebook-container');\nif (notebookContainer) {{\n    x.observe(notebookContainer, {childList: true});\n}}\n\n// Listen for the clearing of the current output cell\nvar outputEl = gd.closest('.output');\nif (outputEl) {{\n    x.observe(outputEl, {childList: true});\n}}\n\n                        })                };                });            </script>        </div>"
     },
     "metadata": {},
     "output_type": "display_data"
    }
   ],
   "source": [
    "def get_occupancy_histogram(width: int, height: int, oc_df: pd.DataFrame) -> go.Figure:\n",
    "    fig = px.bar(\n",
    "        oc_df,\n",
    "        x=\"area\",\n",
    "        y=\"percent\",\n",
    "        facet_row=\"max_delay\",\n",
    "        facet_col=\"duration_minutes\",\n",
    "        color=\"oc_str\",\n",
    "        barmode='group',\n",
    "        width=width,\n",
    "        height=height,\n",
    "        color_discrete_sequence=['#f51302', '#0206f5', '#0206f5', '#0206f5', '#0206f5', '#0206f5'],\n",
    "    )\n",
    "\n",
    "    # fig.update_yaxes(matches=None)\n",
    "    # make the facet labels nicer\n",
    "    fig.for_each_annotation(lambda a: a.update(text=a.text.split(\"=\")[-1]))\n",
    "\n",
    "    # shared axes titles\n",
    "    fig.for_each_yaxis(lambda y: y.update(title = ''))\n",
    "    fig.add_annotation(x=-0.08, y=0.5, text=\"% of time\", textangle=-90, xref=\"paper\", yref=\"paper\", showarrow=False)\n",
    "    fig.for_each_xaxis(lambda y: y.update(title = ''))\n",
    "    # fig.add_annotation(x=0.5, y=-0.12, text=\"Occupancy\",  xref=\"paper\", yref=\"paper\", showarrow=False)\n",
    "\n",
    "    fig.add_annotation(x=1.06, y=0.5, text=\"max delay [s]\", textangle=90, xref=\"paper\", yref=\"paper\", showarrow=False)\n",
    "    fig.add_annotation(x=0.5, y=1.13, text=\"instance length [min]\",  xref=\"paper\", yref=\"paper\", showarrow=False)\n",
    "\n",
    "\n",
    "# legend style\n",
    "    fig.update_layout(\n",
    "        showlegend=False\n",
    "        # orientation=\"h\",\n",
    "        # title=\"Occupancy:\",\n",
    "        # y=1.18,\n",
    "        # xanchor=\"center\",\n",
    "        # x=0.5,\n",
    "    )\n",
    "\n",
    "    # ticks for all occupancy values\n",
    "    # fig.update_xaxes(dtick=1)\n",
    "\n",
    "    # custom city tick labels\n",
    "    fig.update_xaxes(tickvals=[0, 1, 2, 3], ticktext=['NYC', 'Man', 'Chic', 'DC'])\n",
    "    # fig.for_each_xaxis(lambda x: x.update(ticktext=['NYC, Man, Ch, DC']))\n",
    "\n",
    "\n",
    "    fig.update_layout(\n",
    "        margin=dict(l=0,r=20,b=0,t=27)\n",
    "    )\n",
    "\n",
    "    return fig\n",
    "\n",
    "fig = get_occupancy_histogram(450, 300, occupancy_df_ih_red)\n",
    "fig"
   ],
   "metadata": {
    "collapsed": false,
    "ExecuteTime": {
     "end_time": "2023-05-26T08:51:49.960822200Z",
     "start_time": "2023-05-26T08:51:49.812297100Z"
    }
   }
  },
  {
   "cell_type": "code",
   "execution_count": 80,
   "outputs": [],
   "source": [
    "fig.write_image(fig_path / \"occupancy.pdf\")\n",
    "# fig.close()"
   ],
   "metadata": {
    "collapsed": false,
    "ExecuteTime": {
     "end_time": "2023-05-26T08:51:51.882124400Z",
     "start_time": "2023-05-26T08:51:51.671113400Z"
    }
   }
  },
  {
   "cell_type": "code",
   "execution_count": null,
   "outputs": [],
   "source": [],
   "metadata": {
    "collapsed": false
   }
  }
 ],
 "metadata": {
  "kernelspec": {
   "display_name": "Python 3",
   "language": "python",
   "name": "python3"
  },
  "language_info": {
   "codemirror_mode": {
    "name": "ipython",
    "version": 2
   },
   "file_extension": ".py",
   "mimetype": "text/x-python",
   "name": "python",
   "nbconvert_exporter": "python",
   "pygments_lexer": "ipython2",
   "version": "2.7.6"
  }
 },
 "nbformat": 4,
 "nbformat_minor": 0
}
