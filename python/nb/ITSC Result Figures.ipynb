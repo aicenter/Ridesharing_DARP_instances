{
 "cells": [
  {
   "cell_type": "code",
   "execution_count": 1,
   "outputs": [],
   "source": [
    "%load_ext autoreload"
   ],
   "metadata": {
    "collapsed": false,
    "ExecuteTime": {
     "end_time": "2023-05-11T15:00:09.060793800Z",
     "start_time": "2023-05-11T15:00:08.998876600Z"
    }
   }
  },
  {
   "cell_type": "code",
   "execution_count": 9,
   "outputs": [],
   "source": [
    "%autoreload"
   ],
   "metadata": {
    "collapsed": false,
    "ExecuteTime": {
     "end_time": "2023-05-11T09:53:59.667935100Z",
     "start_time": "2023-05-11T09:53:58.908306Z"
    }
   }
  },
  {
   "cell_type": "code",
   "execution_count": 2,
   "outputs": [],
   "source": [
    "import logging\n",
    "import os\n",
    "from pathlib import Path\n",
    "import pandas as pd\n",
    "import yaml\n",
    "from typing import Dict, List\n",
    "import plotly.express as px\n",
    "\n",
    "from darpinstances.results import load_instance_series, instance_series_results_to_dataframe, load_instance_results, load_results_from_folder, get_processed_results, load_aggregate_stats_in_dir,load_occupancies_in_dir"
   ],
   "metadata": {
    "collapsed": false,
    "ExecuteTime": {
     "end_time": "2023-05-11T15:00:11.398815200Z",
     "start_time": "2023-05-11T15:00:10.599629900Z"
    }
   }
  },
  {
   "cell_type": "code",
   "execution_count": 3,
   "outputs": [],
   "source": [
    "# darp_data_path = r\"D:/Google Drive/AIC Experiment Data/DARP\"\n",
    "darp_data_path = r\"C:/Google Drive/AIC Experiment Data/DARP\""
   ],
   "metadata": {
    "collapsed": false,
    "ExecuteTime": {
     "end_time": "2023-05-11T15:00:13.844011300Z",
     "start_time": "2023-05-11T15:00:13.792980700Z"
    }
   }
  },
  {
   "cell_type": "code",
   "execution_count": 4,
   "outputs": [],
   "source": [
    "final_results_path = Path(darp_data_path) / Path(\"ITSC_instance_paper\\old/Results\")\n",
    "areas = [\n",
    "    'NYC',\n",
    "    'Manhattan',\n",
    "    'Chicago',\n",
    "    'DC'\n",
    "]"
   ],
   "metadata": {
    "collapsed": false,
    "ExecuteTime": {
     "end_time": "2023-05-11T15:00:28.916366100Z",
     "start_time": "2023-05-11T15:00:28.822365800Z"
    }
   }
  },
  {
   "cell_type": "code",
   "execution_count": 9,
   "outputs": [
    {
     "name": "stderr",
     "output_type": "stream",
     "text": [
      "00:09:58 [INFO] Loading json file from: D:\\Google Drive\\AIC Experiment Data\\DARP\\Results\\final-real_speeds\\Manhattan\\05_min\\ih\\config.yaml-performance.json\n",
      "00:09:58 [INFO] Loading json file from: D:\\Google Drive\\AIC Experiment Data\\DARP\\Results\\final-real_speeds\\Manhattan\\05_min\\ih\\config.yaml-solution.json\n",
      "00:09:58 [INFO] Loading experiment config from D:\\Google Drive\\AIC Experiment Data\\DARP\\Results\\final-real_speeds\\Manhattan\\05_min\\ih\\config.yaml\n",
      "00:09:58 [INFO] Loading instance config from D:\\Google Drive\\AIC Experiment Data\\DARP\\Real demand and speeds\\Manhattan\\experiments\\final_experiments\\05_min\\config.yaml\n"
     ]
    },
    {
     "data": {
      "text/plain": "{'cost_minutes': 9203,\n 'total_time': 1.024,\n 'dropped_requests': 0,\n 'avg_delay': 554.799522673031,\n 'plan_count': 593,\n 'req_count': 1676,\n 'avg_occupancy': 1.6790995445202068,\n 'used_connections': -1,\n 'total_driving_duration': 552165,\n 'total_waiting_duration': 2611,\n 'avg_waiting_duration': 4.403035413153457,\n 'tts_cost': 24025,\n 'tts_cost_per_plan': 40.51433389544688,\n 'method': 'ih',\n 'max_delay': 300,\n 'start_time': datetime.datetime(2022, 3, 11, 18, 0),\n 'end_time': datetime.datetime(2022, 3, 11, 18, 5)}"
     },
     "execution_count": 9,
     "metadata": {},
     "output_type": "execute_result"
    }
   ],
   "source": [
    "test_path = r'D:\\Google Drive\\AIC Experiment Data\\DARP\\Results\\final-real_speeds\\Manhattan\\05_min\\ih'\n",
    "load_aggregate_stats_for_result(Path(test_path))"
   ],
   "metadata": {
    "collapsed": false,
    "ExecuteTime": {
     "end_time": "2023-05-09T22:09:58.395650800Z",
     "start_time": "2023-05-09T22:09:58.339607800Z"
    }
   }
  },
  {
   "cell_type": "code",
   "execution_count": 12,
   "outputs": [
    {
     "name": "stderr",
     "output_type": "stream",
     "text": [
      "23:05:30 [WARNING] No solution found in folder: D:\\Google Drive\\AIC Experiment Data\\DARP\\Results\\final-real_speeds\\Manhattan\\05_min\\halns\n",
      "23:05:30 [WARNING] No solution found in folder: D:\\Google Drive\\AIC Experiment Data\\DARP\\Results\\final-real_speeds\\Manhattan\\05_min\\halns-ih\n",
      "23:05:30 [WARNING] No solution found in folder: D:\\Google Drive\\AIC Experiment Data\\DARP\\Results\\final-real_speeds\\Manhattan\\05_min\\halns-vga\n",
      "23:05:30 [INFO] Loading json file from: D:\\Google Drive\\AIC Experiment Data\\DARP\\Results\\final-real_speeds\\Manhattan\\05_min\\ih\\config.yaml-performance.json\n",
      "23:05:30 [INFO] Loading json file from: D:\\Google Drive\\AIC Experiment Data\\DARP\\Results\\final-real_speeds\\Manhattan\\05_min\\ih\\config.yaml-solution.json\n",
      "23:05:30 [WARNING] No solution found in folder: D:\\Google Drive\\AIC Experiment Data\\DARP\\Results\\final-real_speeds\\Manhattan\\05_min\\vga\n",
      "23:05:30 [INFO] Loading json file from: D:\\Google Drive\\AIC Experiment Data\\DARP\\Results\\final-real_speeds\\Manhattan\\05_min\\vga_chaining-batch_120_s\\config.yaml-performance.json\n",
      "23:05:30 [INFO] Loading json file from: D:\\Google Drive\\AIC Experiment Data\\DARP\\Results\\final-real_speeds\\Manhattan\\05_min\\vga_chaining-batch_120_s\\config.yaml-solution.json\n",
      "23:05:30 [INFO] Loading json file from: D:\\Google Drive\\AIC Experiment Data\\DARP\\Results\\final-real_speeds\\Manhattan\\05_min\\vga_chaining-batch_120_s-limited\\config.yaml-performance.json\n",
      "23:05:30 [INFO] Loading json file from: D:\\Google Drive\\AIC Experiment Data\\DARP\\Results\\final-real_speeds\\Manhattan\\05_min\\vga_chaining-batch_120_s-limited\\config.yaml-solution.json\n",
      "23:05:30 [WARNING] No solution found in folder: D:\\Google Drive\\AIC Experiment Data\\DARP\\Results\\final-real_speeds\\Manhattan\\05_min\\vga_chaining-batch_240_s\n",
      "23:05:30 [INFO] Loading json file from: D:\\Google Drive\\AIC Experiment Data\\DARP\\Results\\final-real_speeds\\Manhattan\\05_min\\vga_chaining-batch_240_s-limited\\config.yaml-performance.json\n",
      "23:05:30 [INFO] Loading json file from: D:\\Google Drive\\AIC Experiment Data\\DARP\\Results\\final-real_speeds\\Manhattan\\05_min\\vga_chaining-batch_240_s-limited\\config.yaml-solution.json\n",
      "23:05:30 [INFO] Loading json file from: D:\\Google Drive\\AIC Experiment Data\\DARP\\Results\\final-real_speeds\\Manhattan\\05_min\\vga_chaining-batch_30_s\\config.yaml-performance.json\n",
      "23:05:30 [INFO] Loading json file from: D:\\Google Drive\\AIC Experiment Data\\DARP\\Results\\final-real_speeds\\Manhattan\\05_min\\vga_chaining-batch_30_s\\config.yaml-solution.json\n",
      "23:05:31 [WARNING] No solution found in folder: D:\\Google Drive\\AIC Experiment Data\\DARP\\Results\\final-real_speeds\\Manhattan\\05_min\\vga_chaining-batch_480_s\n",
      "23:05:31 [INFO] Loading json file from: D:\\Google Drive\\AIC Experiment Data\\DARP\\Results\\final-real_speeds\\Manhattan\\05_min\\vga_chaining-batch_480_s-limited\\config.yaml-performance.json\n",
      "23:05:31 [INFO] Loading json file from: D:\\Google Drive\\AIC Experiment Data\\DARP\\Results\\final-real_speeds\\Manhattan\\05_min\\vga_chaining-batch_480_s-limited\\config.yaml-solution.json\n",
      "23:05:31 [INFO] Loading json file from: D:\\Google Drive\\AIC Experiment Data\\DARP\\Results\\final-real_speeds\\Manhattan\\05_min\\vga_chaining-batch_60_s\\config.yaml-performance.json\n",
      "23:05:31 [INFO] Loading json file from: D:\\Google Drive\\AIC Experiment Data\\DARP\\Results\\final-real_speeds\\Manhattan\\05_min\\vga_chaining-batch_60_s\\config.yaml-solution.json\n"
     ]
    },
    {
     "data": {
      "text/plain": "   cost_minutes  total_time  dropped_requests   avg_delay  plan_count  \\\n0          9203       1.024                 0  554.799523         593   \n1          8036     169.488                 0  542.550716         572   \n2          8036     113.903                 0  542.550716         572   \n3          8065     111.654                 0  544.662888         560   \n4          9847      10.407                 0  527.038783         737   \n5          8117     111.799                 0  548.521480         553   \n6          8832      10.052                 0  535.949881         642   \n\n   req_count  avg_occupancy  used_connections  total_driving_duration  \\\n0       1676       1.679100                -1                  552165   \n1       1676       1.881875              1763                  482157   \n2       1676       1.881875              1763                  482157   \n3       1676       1.882138              1688                  483922   \n4       1676       1.494704              2456                  590836   \n5       1676       1.883496              1659                  487046   \n6       1676       1.694257              2019                  529925   \n\n   total_waiting_duration  avg_waiting_duration  tts_cost  tts_cost_per_plan  \n0                    2611              4.403035     24025          40.514334  \n1                    1890              3.304196     15297          26.743007  \n2                    1890              3.304196     15297          26.743007  \n3                    1977              3.530357     14494          25.882143  \n4                     290              0.393487     23941          32.484396  \n5                    1853              3.350814     14206          25.688969  \n6                     599              0.933022     17974          27.996885  ",
      "text/html": "<div>\n<style scoped>\n    .dataframe tbody tr th:only-of-type {\n        vertical-align: middle;\n    }\n\n    .dataframe tbody tr th {\n        vertical-align: top;\n    }\n\n    .dataframe thead th {\n        text-align: right;\n    }\n</style>\n<table border=\"1\" class=\"dataframe\">\n  <thead>\n    <tr style=\"text-align: right;\">\n      <th></th>\n      <th>cost_minutes</th>\n      <th>total_time</th>\n      <th>dropped_requests</th>\n      <th>avg_delay</th>\n      <th>plan_count</th>\n      <th>req_count</th>\n      <th>avg_occupancy</th>\n      <th>used_connections</th>\n      <th>total_driving_duration</th>\n      <th>total_waiting_duration</th>\n      <th>avg_waiting_duration</th>\n      <th>tts_cost</th>\n      <th>tts_cost_per_plan</th>\n    </tr>\n  </thead>\n  <tbody>\n    <tr>\n      <th>0</th>\n      <td>9203</td>\n      <td>1.024</td>\n      <td>0</td>\n      <td>554.799523</td>\n      <td>593</td>\n      <td>1676</td>\n      <td>1.679100</td>\n      <td>-1</td>\n      <td>552165</td>\n      <td>2611</td>\n      <td>4.403035</td>\n      <td>24025</td>\n      <td>40.514334</td>\n    </tr>\n    <tr>\n      <th>1</th>\n      <td>8036</td>\n      <td>169.488</td>\n      <td>0</td>\n      <td>542.550716</td>\n      <td>572</td>\n      <td>1676</td>\n      <td>1.881875</td>\n      <td>1763</td>\n      <td>482157</td>\n      <td>1890</td>\n      <td>3.304196</td>\n      <td>15297</td>\n      <td>26.743007</td>\n    </tr>\n    <tr>\n      <th>2</th>\n      <td>8036</td>\n      <td>113.903</td>\n      <td>0</td>\n      <td>542.550716</td>\n      <td>572</td>\n      <td>1676</td>\n      <td>1.881875</td>\n      <td>1763</td>\n      <td>482157</td>\n      <td>1890</td>\n      <td>3.304196</td>\n      <td>15297</td>\n      <td>26.743007</td>\n    </tr>\n    <tr>\n      <th>3</th>\n      <td>8065</td>\n      <td>111.654</td>\n      <td>0</td>\n      <td>544.662888</td>\n      <td>560</td>\n      <td>1676</td>\n      <td>1.882138</td>\n      <td>1688</td>\n      <td>483922</td>\n      <td>1977</td>\n      <td>3.530357</td>\n      <td>14494</td>\n      <td>25.882143</td>\n    </tr>\n    <tr>\n      <th>4</th>\n      <td>9847</td>\n      <td>10.407</td>\n      <td>0</td>\n      <td>527.038783</td>\n      <td>737</td>\n      <td>1676</td>\n      <td>1.494704</td>\n      <td>2456</td>\n      <td>590836</td>\n      <td>290</td>\n      <td>0.393487</td>\n      <td>23941</td>\n      <td>32.484396</td>\n    </tr>\n    <tr>\n      <th>5</th>\n      <td>8117</td>\n      <td>111.799</td>\n      <td>0</td>\n      <td>548.521480</td>\n      <td>553</td>\n      <td>1676</td>\n      <td>1.883496</td>\n      <td>1659</td>\n      <td>487046</td>\n      <td>1853</td>\n      <td>3.350814</td>\n      <td>14206</td>\n      <td>25.688969</td>\n    </tr>\n    <tr>\n      <th>6</th>\n      <td>8832</td>\n      <td>10.052</td>\n      <td>0</td>\n      <td>535.949881</td>\n      <td>642</td>\n      <td>1676</td>\n      <td>1.694257</td>\n      <td>2019</td>\n      <td>529925</td>\n      <td>599</td>\n      <td>0.933022</td>\n      <td>17974</td>\n      <td>27.996885</td>\n    </tr>\n  </tbody>\n</table>\n</div>"
     },
     "execution_count": 12,
     "metadata": {},
     "output_type": "execute_result"
    }
   ],
   "source": [
    "test_path = r'D:\\Google Drive\\AIC Experiment Data\\DARP\\Results\\final-real_speeds\\Manhattan\\05_min'\n",
    "load_aggregate_stats_in_dir(Path(test_path))"
   ],
   "metadata": {
    "collapsed": false,
    "ExecuteTime": {
     "end_time": "2023-05-09T21:05:31.263166100Z",
     "start_time": "2023-05-09T21:05:30.492463900Z"
    }
   }
  },
  {
   "cell_type": "code",
   "execution_count": 8,
   "outputs": [
    {
     "name": "stderr",
     "output_type": "stream",
     "text": [
      "17:03:55 [INFO] Loading aggregate stats in C:\\Google Drive\\AIC Experiment Data\\DARP\\ITSC_instance_paper\\old\\Results\\NYC\n",
      "17:03:55 [WARNING] No solution found in folder: C:\\Google Drive\\AIC Experiment Data\\DARP\\ITSC_instance_paper\\old\\Results\\NYC\\start_18-00\\duration_005_min\\max_delay_03_min\\halns\n",
      "17:03:55 [WARNING] No solution found in folder: C:\\Google Drive\\AIC Experiment Data\\DARP\\ITSC_instance_paper\\old\\Results\\NYC\\start_18-00\\duration_005_min\\max_delay_03_min\\halns-ih\n",
      "17:03:55 [INFO] Loading json file from: C:\\Google Drive\\AIC Experiment Data\\DARP\\ITSC_instance_paper\\old\\Results\\NYC\\start_18-00\\duration_005_min\\max_delay_03_min\\ih\\config.yaml-performance.json\n",
      "17:03:55 [INFO] Loading json file from: C:\\Google Drive\\AIC Experiment Data\\DARP\\ITSC_instance_paper\\old\\Results\\NYC\\start_18-00\\duration_005_min\\max_delay_03_min\\ih\\config.yaml-solution.json\n",
      "17:03:55 [INFO] Loading experiment config from C:\\Google Drive\\AIC Experiment Data\\DARP\\ITSC_instance_paper\\old\\Results\\NYC\\start_18-00\\duration_005_min\\max_delay_03_min\\ih\\config.yaml\n",
      "17:03:55 [INFO] Loading instance config from C:\\Google Drive\\AIC Experiment Data\\DARP\\ITSC_instance_paper\\old\\Instances\\NYC\\instances\\start_18-00\\duration_005_min\\max_delay_03_min\\config.yaml\n",
      "17:03:55 [WARNING] No solution found in folder: C:\\Google Drive\\AIC Experiment Data\\DARP\\ITSC_instance_paper\\old\\Results\\NYC\\start_18-00\\duration_005_min\\max_delay_03_min\\vga\n",
      "17:03:55 [WARNING] No solution found in folder: C:\\Google Drive\\AIC Experiment Data\\DARP\\ITSC_instance_paper\\old\\Results\\NYC\\start_18-00\\duration_005_min\\max_delay_05_min\\halns\n",
      "17:03:55 [WARNING] No solution found in folder: C:\\Google Drive\\AIC Experiment Data\\DARP\\ITSC_instance_paper\\old\\Results\\NYC\\start_18-00\\duration_005_min\\max_delay_05_min\\halns-ih\n",
      "17:03:55 [INFO] Loading json file from: C:\\Google Drive\\AIC Experiment Data\\DARP\\ITSC_instance_paper\\old\\Results\\NYC\\start_18-00\\duration_005_min\\max_delay_05_min\\ih\\config.yaml-performance.json\n",
      "17:03:55 [INFO] Loading json file from: C:\\Google Drive\\AIC Experiment Data\\DARP\\ITSC_instance_paper\\old\\Results\\NYC\\start_18-00\\duration_005_min\\max_delay_05_min\\ih\\config.yaml-solution.json\n",
      "17:03:55 [INFO] Loading experiment config from C:\\Google Drive\\AIC Experiment Data\\DARP\\ITSC_instance_paper\\old\\Results\\NYC\\start_18-00\\duration_005_min\\max_delay_05_min\\ih\\config.yaml\n",
      "17:03:55 [INFO] Loading instance config from C:\\Google Drive\\AIC Experiment Data\\DARP\\ITSC_instance_paper\\old\\Instances\\NYC\\instances\\start_18-00\\duration_005_min\\max_delay_05_min\\config.yaml\n",
      "17:03:55 [WARNING] No solution found in folder: C:\\Google Drive\\AIC Experiment Data\\DARP\\ITSC_instance_paper\\old\\Results\\NYC\\start_18-00\\duration_005_min\\max_delay_05_min\\vga\n",
      "17:03:55 [WARNING] No solution found in folder: C:\\Google Drive\\AIC Experiment Data\\DARP\\ITSC_instance_paper\\old\\Results\\NYC\\start_18-00\\duration_005_min\\max_delay_10_min\\halns\n",
      "17:03:55 [WARNING] No solution found in folder: C:\\Google Drive\\AIC Experiment Data\\DARP\\ITSC_instance_paper\\old\\Results\\NYC\\start_18-00\\duration_005_min\\max_delay_10_min\\halns-ih\n",
      "17:03:55 [INFO] Loading json file from: C:\\Google Drive\\AIC Experiment Data\\DARP\\ITSC_instance_paper\\old\\Results\\NYC\\start_18-00\\duration_005_min\\max_delay_10_min\\ih\\config.yaml-performance.json\n",
      "17:03:55 [INFO] Loading json file from: C:\\Google Drive\\AIC Experiment Data\\DARP\\ITSC_instance_paper\\old\\Results\\NYC\\start_18-00\\duration_005_min\\max_delay_10_min\\ih\\config.yaml-solution.json\n",
      "17:03:55 [INFO] Loading experiment config from C:\\Google Drive\\AIC Experiment Data\\DARP\\ITSC_instance_paper\\old\\Results\\NYC\\start_18-00\\duration_005_min\\max_delay_10_min\\ih\\config.yaml\n",
      "17:03:55 [INFO] Loading instance config from C:\\Google Drive\\AIC Experiment Data\\DARP\\ITSC_instance_paper\\old\\Instances\\NYC\\instances\\start_18-00\\duration_005_min\\max_delay_10_min\\config.yaml\n",
      "17:03:55 [WARNING] No solution found in folder: C:\\Google Drive\\AIC Experiment Data\\DARP\\ITSC_instance_paper\\old\\Results\\NYC\\start_18-00\\duration_005_min\\max_delay_10_min\\vga\n",
      "17:03:55 [WARNING] No solution found in folder: C:\\Google Drive\\AIC Experiment Data\\DARP\\ITSC_instance_paper\\old\\Results\\NYC\\start_18-00\\duration_015_min\\max_delay_03_min\\halns\n",
      "17:03:55 [WARNING] No solution found in folder: C:\\Google Drive\\AIC Experiment Data\\DARP\\ITSC_instance_paper\\old\\Results\\NYC\\start_18-00\\duration_015_min\\max_delay_03_min\\halns-ih\n",
      "17:03:55 [INFO] Loading json file from: C:\\Google Drive\\AIC Experiment Data\\DARP\\ITSC_instance_paper\\old\\Results\\NYC\\start_18-00\\duration_015_min\\max_delay_03_min\\ih\\config.yaml-performance.json\n",
      "17:03:55 [INFO] Loading json file from: C:\\Google Drive\\AIC Experiment Data\\DARP\\ITSC_instance_paper\\old\\Results\\NYC\\start_18-00\\duration_015_min\\max_delay_03_min\\ih\\config.yaml-solution.json\n",
      "17:03:55 [INFO] Loading experiment config from C:\\Google Drive\\AIC Experiment Data\\DARP\\ITSC_instance_paper\\old\\Results\\NYC\\start_18-00\\duration_015_min\\max_delay_03_min\\ih\\config.yaml\n",
      "17:03:55 [INFO] Loading instance config from C:\\Google Drive\\AIC Experiment Data\\DARP\\ITSC_instance_paper\\old\\Instances\\NYC\\instances\\start_18-00\\duration_015_min\\max_delay_03_min\\config.yaml\n",
      "17:03:55 [WARNING] No solution found in folder: C:\\Google Drive\\AIC Experiment Data\\DARP\\ITSC_instance_paper\\old\\Results\\NYC\\start_18-00\\duration_015_min\\max_delay_03_min\\vga\n",
      "17:03:55 [WARNING] No solution found in folder: C:\\Google Drive\\AIC Experiment Data\\DARP\\ITSC_instance_paper\\old\\Results\\NYC\\start_18-00\\duration_015_min\\max_delay_05_min\\halns\n",
      "17:03:55 [WARNING] No solution found in folder: C:\\Google Drive\\AIC Experiment Data\\DARP\\ITSC_instance_paper\\old\\Results\\NYC\\start_18-00\\duration_015_min\\max_delay_05_min\\halns-ih\n",
      "17:03:55 [INFO] Loading json file from: C:\\Google Drive\\AIC Experiment Data\\DARP\\ITSC_instance_paper\\old\\Results\\NYC\\start_18-00\\duration_015_min\\max_delay_05_min\\ih\\config.yaml-performance.json\n",
      "17:03:55 [INFO] Loading json file from: C:\\Google Drive\\AIC Experiment Data\\DARP\\ITSC_instance_paper\\old\\Results\\NYC\\start_18-00\\duration_015_min\\max_delay_05_min\\ih\\config.yaml-solution.json\n",
      "17:03:55 [INFO] Loading experiment config from C:\\Google Drive\\AIC Experiment Data\\DARP\\ITSC_instance_paper\\old\\Results\\NYC\\start_18-00\\duration_015_min\\max_delay_05_min\\ih\\config.yaml\n",
      "17:03:55 [INFO] Loading instance config from C:\\Google Drive\\AIC Experiment Data\\DARP\\ITSC_instance_paper\\old\\Instances\\NYC\\instances\\start_18-00\\duration_015_min\\max_delay_05_min\\config.yaml\n",
      "17:03:55 [WARNING] No solution found in folder: C:\\Google Drive\\AIC Experiment Data\\DARP\\ITSC_instance_paper\\old\\Results\\NYC\\start_18-00\\duration_015_min\\max_delay_05_min\\vga\n",
      "17:03:55 [WARNING] No solution found in folder: C:\\Google Drive\\AIC Experiment Data\\DARP\\ITSC_instance_paper\\old\\Results\\NYC\\start_18-00\\duration_015_min\\max_delay_10_min\\halns\n",
      "17:03:55 [WARNING] No solution found in folder: C:\\Google Drive\\AIC Experiment Data\\DARP\\ITSC_instance_paper\\old\\Results\\NYC\\start_18-00\\duration_015_min\\max_delay_10_min\\halns-ih\n",
      "17:03:55 [INFO] Loading json file from: C:\\Google Drive\\AIC Experiment Data\\DARP\\ITSC_instance_paper\\old\\Results\\NYC\\start_18-00\\duration_015_min\\max_delay_10_min\\ih\\config.yaml-performance.json\n",
      "17:03:55 [INFO] Loading json file from: C:\\Google Drive\\AIC Experiment Data\\DARP\\ITSC_instance_paper\\old\\Results\\NYC\\start_18-00\\duration_015_min\\max_delay_10_min\\ih\\config.yaml-solution.json\n",
      "17:03:55 [INFO] Loading experiment config from C:\\Google Drive\\AIC Experiment Data\\DARP\\ITSC_instance_paper\\old\\Results\\NYC\\start_18-00\\duration_015_min\\max_delay_10_min\\ih\\config.yaml\n",
      "17:03:55 [INFO] Loading instance config from C:\\Google Drive\\AIC Experiment Data\\DARP\\ITSC_instance_paper\\old\\Instances\\NYC\\instances\\start_18-00\\duration_015_min\\max_delay_10_min\\config.yaml\n",
      "17:03:55 [WARNING] No solution found in folder: C:\\Google Drive\\AIC Experiment Data\\DARP\\ITSC_instance_paper\\old\\Results\\NYC\\start_18-00\\duration_015_min\\max_delay_10_min\\vga\n",
      "17:03:55 [WARNING] No solution found in folder: C:\\Google Drive\\AIC Experiment Data\\DARP\\ITSC_instance_paper\\old\\Results\\NYC\\start_18-00\\duration_030_min\\max_delay_03_min\\halns\n",
      "17:03:55 [WARNING] No solution found in folder: C:\\Google Drive\\AIC Experiment Data\\DARP\\ITSC_instance_paper\\old\\Results\\NYC\\start_18-00\\duration_030_min\\max_delay_03_min\\halns-ih\n",
      "17:03:55 [INFO] Loading json file from: C:\\Google Drive\\AIC Experiment Data\\DARP\\ITSC_instance_paper\\old\\Results\\NYC\\start_18-00\\duration_030_min\\max_delay_03_min\\ih\\config.yaml-performance.json\n",
      "17:03:55 [INFO] Loading json file from: C:\\Google Drive\\AIC Experiment Data\\DARP\\ITSC_instance_paper\\old\\Results\\NYC\\start_18-00\\duration_030_min\\max_delay_03_min\\ih\\config.yaml-solution.json\n",
      "17:03:56 [INFO] Loading experiment config from C:\\Google Drive\\AIC Experiment Data\\DARP\\ITSC_instance_paper\\old\\Results\\NYC\\start_18-00\\duration_030_min\\max_delay_03_min\\ih\\config.yaml\n",
      "17:03:56 [INFO] Loading instance config from C:\\Google Drive\\AIC Experiment Data\\DARP\\ITSC_instance_paper\\old\\Instances\\NYC\\instances\\start_18-00\\duration_030_min\\max_delay_03_min\\config.yaml\n",
      "17:03:56 [WARNING] No solution found in folder: C:\\Google Drive\\AIC Experiment Data\\DARP\\ITSC_instance_paper\\old\\Results\\NYC\\start_18-00\\duration_030_min\\max_delay_03_min\\vga\n",
      "17:03:56 [WARNING] No solution found in folder: C:\\Google Drive\\AIC Experiment Data\\DARP\\ITSC_instance_paper\\old\\Results\\NYC\\start_18-00\\duration_030_min\\max_delay_05_min\\halns\n",
      "17:03:56 [WARNING] No solution found in folder: C:\\Google Drive\\AIC Experiment Data\\DARP\\ITSC_instance_paper\\old\\Results\\NYC\\start_18-00\\duration_030_min\\max_delay_05_min\\halns-ih\n",
      "17:03:56 [INFO] Loading json file from: C:\\Google Drive\\AIC Experiment Data\\DARP\\ITSC_instance_paper\\old\\Results\\NYC\\start_18-00\\duration_030_min\\max_delay_05_min\\ih\\config.yaml-performance.json\n",
      "17:03:56 [INFO] Loading json file from: C:\\Google Drive\\AIC Experiment Data\\DARP\\ITSC_instance_paper\\old\\Results\\NYC\\start_18-00\\duration_030_min\\max_delay_05_min\\ih\\config.yaml-solution.json\n",
      "17:03:56 [INFO] Loading experiment config from C:\\Google Drive\\AIC Experiment Data\\DARP\\ITSC_instance_paper\\old\\Results\\NYC\\start_18-00\\duration_030_min\\max_delay_05_min\\ih\\config.yaml\n",
      "17:03:56 [INFO] Loading instance config from C:\\Google Drive\\AIC Experiment Data\\DARP\\ITSC_instance_paper\\old\\Instances\\NYC\\instances\\start_18-00\\duration_030_min\\max_delay_05_min\\config.yaml\n",
      "17:03:56 [WARNING] No solution found in folder: C:\\Google Drive\\AIC Experiment Data\\DARP\\ITSC_instance_paper\\old\\Results\\NYC\\start_18-00\\duration_030_min\\max_delay_05_min\\vga\n",
      "17:03:56 [WARNING] No solution found in folder: C:\\Google Drive\\AIC Experiment Data\\DARP\\ITSC_instance_paper\\old\\Results\\NYC\\start_18-00\\duration_030_min\\max_delay_10_min\\halns\n",
      "17:03:56 [WARNING] No solution found in folder: C:\\Google Drive\\AIC Experiment Data\\DARP\\ITSC_instance_paper\\old\\Results\\NYC\\start_18-00\\duration_030_min\\max_delay_10_min\\halns-ih\n",
      "17:03:56 [INFO] Loading json file from: C:\\Google Drive\\AIC Experiment Data\\DARP\\ITSC_instance_paper\\old\\Results\\NYC\\start_18-00\\duration_030_min\\max_delay_10_min\\ih\\config.yaml-performance.json\n",
      "17:03:56 [INFO] Loading json file from: C:\\Google Drive\\AIC Experiment Data\\DARP\\ITSC_instance_paper\\old\\Results\\NYC\\start_18-00\\duration_030_min\\max_delay_10_min\\ih\\config.yaml-solution.json\n",
      "17:03:56 [INFO] Loading experiment config from C:\\Google Drive\\AIC Experiment Data\\DARP\\ITSC_instance_paper\\old\\Results\\NYC\\start_18-00\\duration_030_min\\max_delay_10_min\\ih\\config.yaml\n",
      "17:03:56 [INFO] Loading instance config from C:\\Google Drive\\AIC Experiment Data\\DARP\\ITSC_instance_paper\\old\\Instances\\NYC\\instances\\start_18-00\\duration_030_min\\max_delay_10_min\\config.yaml\n",
      "17:03:56 [WARNING] No solution found in folder: C:\\Google Drive\\AIC Experiment Data\\DARP\\ITSC_instance_paper\\old\\Results\\NYC\\start_18-00\\duration_030_min\\max_delay_10_min\\vga\n",
      "17:03:56 [WARNING] No solution found in folder: C:\\Google Drive\\AIC Experiment Data\\DARP\\ITSC_instance_paper\\old\\Results\\NYC\\start_18-00\\duration_120_min\\max_delay_03_min\\halns\n",
      "17:03:56 [WARNING] No solution found in folder: C:\\Google Drive\\AIC Experiment Data\\DARP\\ITSC_instance_paper\\old\\Results\\NYC\\start_18-00\\duration_120_min\\max_delay_03_min\\halns-ih\n",
      "17:03:56 [WARNING] No solution found in folder: C:\\Google Drive\\AIC Experiment Data\\DARP\\ITSC_instance_paper\\old\\Results\\NYC\\start_18-00\\duration_120_min\\max_delay_03_min\\ih\n",
      "17:03:56 [WARNING] No solution found in folder: C:\\Google Drive\\AIC Experiment Data\\DARP\\ITSC_instance_paper\\old\\Results\\NYC\\start_18-00\\duration_120_min\\max_delay_03_min\\vga\n",
      "17:03:56 [WARNING] No solution found in folder: C:\\Google Drive\\AIC Experiment Data\\DARP\\ITSC_instance_paper\\old\\Results\\NYC\\start_18-00\\duration_120_min\\max_delay_05_min\\halns\n",
      "17:03:56 [WARNING] No solution found in folder: C:\\Google Drive\\AIC Experiment Data\\DARP\\ITSC_instance_paper\\old\\Results\\NYC\\start_18-00\\duration_120_min\\max_delay_05_min\\halns-ih\n",
      "17:03:56 [WARNING] No solution found in folder: C:\\Google Drive\\AIC Experiment Data\\DARP\\ITSC_instance_paper\\old\\Results\\NYC\\start_18-00\\duration_120_min\\max_delay_05_min\\ih\n",
      "17:03:56 [WARNING] No solution found in folder: C:\\Google Drive\\AIC Experiment Data\\DARP\\ITSC_instance_paper\\old\\Results\\NYC\\start_18-00\\duration_120_min\\max_delay_05_min\\vga\n",
      "17:03:56 [WARNING] No solution found in folder: C:\\Google Drive\\AIC Experiment Data\\DARP\\ITSC_instance_paper\\old\\Results\\NYC\\start_18-00\\duration_120_min\\max_delay_10_min\\halns\n",
      "17:03:56 [WARNING] No solution found in folder: C:\\Google Drive\\AIC Experiment Data\\DARP\\ITSC_instance_paper\\old\\Results\\NYC\\start_18-00\\duration_120_min\\max_delay_10_min\\halns-ih\n",
      "17:03:56 [WARNING] No solution found in folder: C:\\Google Drive\\AIC Experiment Data\\DARP\\ITSC_instance_paper\\old\\Results\\NYC\\start_18-00\\duration_120_min\\max_delay_10_min\\ih\n",
      "17:03:56 [WARNING] No solution found in folder: C:\\Google Drive\\AIC Experiment Data\\DARP\\ITSC_instance_paper\\old\\Results\\NYC\\start_18-00\\duration_120_min\\max_delay_10_min\\vga\n",
      "17:03:56 [WARNING] No solution found in folder: C:\\Google Drive\\AIC Experiment Data\\DARP\\ITSC_instance_paper\\old\\Results\\NYC\\start_18-00\\duration_960_min\\max_delay_03_min\\halns\n",
      "17:03:56 [WARNING] No solution found in folder: C:\\Google Drive\\AIC Experiment Data\\DARP\\ITSC_instance_paper\\old\\Results\\NYC\\start_18-00\\duration_960_min\\max_delay_03_min\\halns-ih\n",
      "17:03:56 [WARNING] No solution found in folder: C:\\Google Drive\\AIC Experiment Data\\DARP\\ITSC_instance_paper\\old\\Results\\NYC\\start_18-00\\duration_960_min\\max_delay_03_min\\ih\n",
      "17:03:56 [WARNING] No solution found in folder: C:\\Google Drive\\AIC Experiment Data\\DARP\\ITSC_instance_paper\\old\\Results\\NYC\\start_18-00\\duration_960_min\\max_delay_03_min\\vga\n",
      "17:03:56 [WARNING] No solution found in folder: C:\\Google Drive\\AIC Experiment Data\\DARP\\ITSC_instance_paper\\old\\Results\\NYC\\start_18-00\\duration_960_min\\max_delay_05_min\\halns\n",
      "17:03:56 [WARNING] No solution found in folder: C:\\Google Drive\\AIC Experiment Data\\DARP\\ITSC_instance_paper\\old\\Results\\NYC\\start_18-00\\duration_960_min\\max_delay_05_min\\halns-ih\n",
      "17:03:56 [WARNING] No solution found in folder: C:\\Google Drive\\AIC Experiment Data\\DARP\\ITSC_instance_paper\\old\\Results\\NYC\\start_18-00\\duration_960_min\\max_delay_05_min\\ih\n",
      "17:03:56 [WARNING] No solution found in folder: C:\\Google Drive\\AIC Experiment Data\\DARP\\ITSC_instance_paper\\old\\Results\\NYC\\start_18-00\\duration_960_min\\max_delay_05_min\\vga\n",
      "17:03:56 [WARNING] No solution found in folder: C:\\Google Drive\\AIC Experiment Data\\DARP\\ITSC_instance_paper\\old\\Results\\NYC\\start_18-00\\duration_960_min\\max_delay_10_min\\halns\n",
      "17:03:56 [WARNING] No solution found in folder: C:\\Google Drive\\AIC Experiment Data\\DARP\\ITSC_instance_paper\\old\\Results\\NYC\\start_18-00\\duration_960_min\\max_delay_10_min\\halns-ih\n",
      "17:03:56 [WARNING] No solution found in folder: C:\\Google Drive\\AIC Experiment Data\\DARP\\ITSC_instance_paper\\old\\Results\\NYC\\start_18-00\\duration_960_min\\max_delay_10_min\\ih\n",
      "17:03:56 [WARNING] No solution found in folder: C:\\Google Drive\\AIC Experiment Data\\DARP\\ITSC_instance_paper\\old\\Results\\NYC\\start_18-00\\duration_960_min\\max_delay_10_min\\vga\n",
      "17:03:56 [INFO] Loading aggregate stats in C:\\Google Drive\\AIC Experiment Data\\DARP\\ITSC_instance_paper\\old\\Results\\Manhattan\n",
      "17:03:56 [WARNING] No solution found in folder: C:\\Google Drive\\AIC Experiment Data\\DARP\\ITSC_instance_paper\\old\\Results\\Manhattan\\start_18-00\\duration_005_min\\max_delay_03_min\\halns\n",
      "17:03:56 [WARNING] No solution found in folder: C:\\Google Drive\\AIC Experiment Data\\DARP\\ITSC_instance_paper\\old\\Results\\Manhattan\\start_18-00\\duration_005_min\\max_delay_03_min\\halns-ih\n",
      "17:03:56 [INFO] Loading json file from: C:\\Google Drive\\AIC Experiment Data\\DARP\\ITSC_instance_paper\\old\\Results\\Manhattan\\start_18-00\\duration_005_min\\max_delay_03_min\\ih\\config.yaml-performance.json\n",
      "17:03:56 [INFO] Loading json file from: C:\\Google Drive\\AIC Experiment Data\\DARP\\ITSC_instance_paper\\old\\Results\\Manhattan\\start_18-00\\duration_005_min\\max_delay_03_min\\ih\\config.yaml-solution.json\n",
      "17:03:56 [INFO] Loading experiment config from C:\\Google Drive\\AIC Experiment Data\\DARP\\ITSC_instance_paper\\old\\Results\\Manhattan\\start_18-00\\duration_005_min\\max_delay_03_min\\ih\\config.yaml\n",
      "17:03:56 [INFO] Loading instance config from C:\\Google Drive\\AIC Experiment Data\\DARP\\ITSC_instance_paper\\old\\Instances\\Manhattan\\instances\\start_18-00\\duration_005_min\\max_delay_03_min\\config.yaml\n",
      "17:03:56 [WARNING] No solution found in folder: C:\\Google Drive\\AIC Experiment Data\\DARP\\ITSC_instance_paper\\old\\Results\\Manhattan\\start_18-00\\duration_005_min\\max_delay_03_min\\vga\n",
      "17:03:56 [WARNING] No solution found in folder: C:\\Google Drive\\AIC Experiment Data\\DARP\\ITSC_instance_paper\\old\\Results\\Manhattan\\start_18-00\\duration_005_min\\max_delay_05_min\\halns\n",
      "17:03:56 [WARNING] No solution found in folder: C:\\Google Drive\\AIC Experiment Data\\DARP\\ITSC_instance_paper\\old\\Results\\Manhattan\\start_18-00\\duration_005_min\\max_delay_05_min\\halns-ih\n",
      "17:03:56 [INFO] Loading json file from: C:\\Google Drive\\AIC Experiment Data\\DARP\\ITSC_instance_paper\\old\\Results\\Manhattan\\start_18-00\\duration_005_min\\max_delay_05_min\\ih\\config.yaml-performance.json\n",
      "17:03:56 [INFO] Loading json file from: C:\\Google Drive\\AIC Experiment Data\\DARP\\ITSC_instance_paper\\old\\Results\\Manhattan\\start_18-00\\duration_005_min\\max_delay_05_min\\ih\\config.yaml-solution.json\n",
      "17:03:56 [INFO] Loading experiment config from C:\\Google Drive\\AIC Experiment Data\\DARP\\ITSC_instance_paper\\old\\Results\\Manhattan\\start_18-00\\duration_005_min\\max_delay_05_min\\ih\\config.yaml\n",
      "17:03:56 [INFO] Loading instance config from C:\\Google Drive\\AIC Experiment Data\\DARP\\ITSC_instance_paper\\old\\Instances\\Manhattan\\instances\\start_18-00\\duration_005_min\\max_delay_05_min\\config.yaml\n",
      "17:03:56 [WARNING] No solution found in folder: C:\\Google Drive\\AIC Experiment Data\\DARP\\ITSC_instance_paper\\old\\Results\\Manhattan\\start_18-00\\duration_005_min\\max_delay_05_min\\vga\n",
      "17:03:56 [WARNING] No solution found in folder: C:\\Google Drive\\AIC Experiment Data\\DARP\\ITSC_instance_paper\\old\\Results\\Manhattan\\start_18-00\\duration_005_min\\max_delay_10_min\\halns\n",
      "17:03:56 [WARNING] No solution found in folder: C:\\Google Drive\\AIC Experiment Data\\DARP\\ITSC_instance_paper\\old\\Results\\Manhattan\\start_18-00\\duration_005_min\\max_delay_10_min\\halns-ih\n",
      "17:03:56 [INFO] Loading json file from: C:\\Google Drive\\AIC Experiment Data\\DARP\\ITSC_instance_paper\\old\\Results\\Manhattan\\start_18-00\\duration_005_min\\max_delay_10_min\\ih\\config.yaml-performance.json\n",
      "17:03:56 [INFO] Loading json file from: C:\\Google Drive\\AIC Experiment Data\\DARP\\ITSC_instance_paper\\old\\Results\\Manhattan\\start_18-00\\duration_005_min\\max_delay_10_min\\ih\\config.yaml-solution.json\n",
      "17:03:56 [INFO] Loading experiment config from C:\\Google Drive\\AIC Experiment Data\\DARP\\ITSC_instance_paper\\old\\Results\\Manhattan\\start_18-00\\duration_005_min\\max_delay_10_min\\ih\\config.yaml\n",
      "17:03:56 [INFO] Loading instance config from C:\\Google Drive\\AIC Experiment Data\\DARP\\ITSC_instance_paper\\old\\Instances\\Manhattan\\instances\\start_18-00\\duration_005_min\\max_delay_10_min\\config.yaml\n",
      "17:03:56 [WARNING] No solution found in folder: C:\\Google Drive\\AIC Experiment Data\\DARP\\ITSC_instance_paper\\old\\Results\\Manhattan\\start_18-00\\duration_005_min\\max_delay_10_min\\vga\n",
      "17:03:56 [WARNING] No solution found in folder: C:\\Google Drive\\AIC Experiment Data\\DARP\\ITSC_instance_paper\\old\\Results\\Manhattan\\start_18-00\\duration_015_min\\max_delay_03_min\\halns\n",
      "17:03:56 [WARNING] No solution found in folder: C:\\Google Drive\\AIC Experiment Data\\DARP\\ITSC_instance_paper\\old\\Results\\Manhattan\\start_18-00\\duration_015_min\\max_delay_03_min\\halns-ih\n",
      "17:03:56 [INFO] Loading json file from: C:\\Google Drive\\AIC Experiment Data\\DARP\\ITSC_instance_paper\\old\\Results\\Manhattan\\start_18-00\\duration_015_min\\max_delay_03_min\\ih\\config.yaml-performance.json\n",
      "17:03:56 [INFO] Loading json file from: C:\\Google Drive\\AIC Experiment Data\\DARP\\ITSC_instance_paper\\old\\Results\\Manhattan\\start_18-00\\duration_015_min\\max_delay_03_min\\ih\\config.yaml-solution.json\n",
      "17:03:56 [INFO] Loading experiment config from C:\\Google Drive\\AIC Experiment Data\\DARP\\ITSC_instance_paper\\old\\Results\\Manhattan\\start_18-00\\duration_015_min\\max_delay_03_min\\ih\\config.yaml\n",
      "17:03:56 [INFO] Loading instance config from C:\\Google Drive\\AIC Experiment Data\\DARP\\ITSC_instance_paper\\old\\Instances\\Manhattan\\instances\\start_18-00\\duration_015_min\\max_delay_03_min\\config.yaml\n",
      "17:03:56 [WARNING] No solution found in folder: C:\\Google Drive\\AIC Experiment Data\\DARP\\ITSC_instance_paper\\old\\Results\\Manhattan\\start_18-00\\duration_015_min\\max_delay_03_min\\vga\n",
      "17:03:56 [WARNING] No solution found in folder: C:\\Google Drive\\AIC Experiment Data\\DARP\\ITSC_instance_paper\\old\\Results\\Manhattan\\start_18-00\\duration_015_min\\max_delay_05_min\\halns\n",
      "17:03:56 [WARNING] No solution found in folder: C:\\Google Drive\\AIC Experiment Data\\DARP\\ITSC_instance_paper\\old\\Results\\Manhattan\\start_18-00\\duration_015_min\\max_delay_05_min\\halns-ih\n",
      "17:03:56 [INFO] Loading json file from: C:\\Google Drive\\AIC Experiment Data\\DARP\\ITSC_instance_paper\\old\\Results\\Manhattan\\start_18-00\\duration_015_min\\max_delay_05_min\\ih\\config.yaml-performance.json\n",
      "17:03:56 [INFO] Loading json file from: C:\\Google Drive\\AIC Experiment Data\\DARP\\ITSC_instance_paper\\old\\Results\\Manhattan\\start_18-00\\duration_015_min\\max_delay_05_min\\ih\\config.yaml-solution.json\n",
      "17:03:56 [INFO] Loading experiment config from C:\\Google Drive\\AIC Experiment Data\\DARP\\ITSC_instance_paper\\old\\Results\\Manhattan\\start_18-00\\duration_015_min\\max_delay_05_min\\ih\\config.yaml\n",
      "17:03:56 [INFO] Loading instance config from C:\\Google Drive\\AIC Experiment Data\\DARP\\ITSC_instance_paper\\old\\Instances\\Manhattan\\instances\\start_18-00\\duration_015_min\\max_delay_05_min\\config.yaml\n",
      "17:03:56 [WARNING] No solution found in folder: C:\\Google Drive\\AIC Experiment Data\\DARP\\ITSC_instance_paper\\old\\Results\\Manhattan\\start_18-00\\duration_015_min\\max_delay_05_min\\vga\n",
      "17:03:56 [WARNING] No solution found in folder: C:\\Google Drive\\AIC Experiment Data\\DARP\\ITSC_instance_paper\\old\\Results\\Manhattan\\start_18-00\\duration_015_min\\max_delay_10_min\\halns\n",
      "17:03:56 [WARNING] No solution found in folder: C:\\Google Drive\\AIC Experiment Data\\DARP\\ITSC_instance_paper\\old\\Results\\Manhattan\\start_18-00\\duration_015_min\\max_delay_10_min\\halns-ih\n",
      "17:03:56 [INFO] Loading json file from: C:\\Google Drive\\AIC Experiment Data\\DARP\\ITSC_instance_paper\\old\\Results\\Manhattan\\start_18-00\\duration_015_min\\max_delay_10_min\\ih\\config.yaml-performance.json\n",
      "17:03:56 [INFO] Loading json file from: C:\\Google Drive\\AIC Experiment Data\\DARP\\ITSC_instance_paper\\old\\Results\\Manhattan\\start_18-00\\duration_015_min\\max_delay_10_min\\ih\\config.yaml-solution.json\n",
      "17:03:56 [INFO] Loading experiment config from C:\\Google Drive\\AIC Experiment Data\\DARP\\ITSC_instance_paper\\old\\Results\\Manhattan\\start_18-00\\duration_015_min\\max_delay_10_min\\ih\\config.yaml\n",
      "17:03:56 [INFO] Loading instance config from C:\\Google Drive\\AIC Experiment Data\\DARP\\ITSC_instance_paper\\old\\Instances\\Manhattan\\instances\\start_18-00\\duration_015_min\\max_delay_10_min\\config.yaml\n",
      "17:03:56 [WARNING] No solution found in folder: C:\\Google Drive\\AIC Experiment Data\\DARP\\ITSC_instance_paper\\old\\Results\\Manhattan\\start_18-00\\duration_015_min\\max_delay_10_min\\vga\n",
      "17:03:56 [WARNING] No solution found in folder: C:\\Google Drive\\AIC Experiment Data\\DARP\\ITSC_instance_paper\\old\\Results\\Manhattan\\start_18-00\\duration_030_min\\max_delay_03_min\\halns\n",
      "17:03:56 [WARNING] No solution found in folder: C:\\Google Drive\\AIC Experiment Data\\DARP\\ITSC_instance_paper\\old\\Results\\Manhattan\\start_18-00\\duration_030_min\\max_delay_03_min\\halns-ih\n",
      "17:03:56 [INFO] Loading json file from: C:\\Google Drive\\AIC Experiment Data\\DARP\\ITSC_instance_paper\\old\\Results\\Manhattan\\start_18-00\\duration_030_min\\max_delay_03_min\\ih\\config.yaml-performance.json\n",
      "17:03:56 [INFO] Loading json file from: C:\\Google Drive\\AIC Experiment Data\\DARP\\ITSC_instance_paper\\old\\Results\\Manhattan\\start_18-00\\duration_030_min\\max_delay_03_min\\ih\\config.yaml-solution.json\n",
      "17:03:56 [INFO] Loading experiment config from C:\\Google Drive\\AIC Experiment Data\\DARP\\ITSC_instance_paper\\old\\Results\\Manhattan\\start_18-00\\duration_030_min\\max_delay_03_min\\ih\\config.yaml\n",
      "17:03:56 [INFO] Loading instance config from C:\\Google Drive\\AIC Experiment Data\\DARP\\ITSC_instance_paper\\old\\Instances\\Manhattan\\instances\\start_18-00\\duration_030_min\\max_delay_03_min\\config.yaml\n",
      "17:03:56 [WARNING] No solution found in folder: C:\\Google Drive\\AIC Experiment Data\\DARP\\ITSC_instance_paper\\old\\Results\\Manhattan\\start_18-00\\duration_030_min\\max_delay_03_min\\vga\n",
      "17:03:56 [WARNING] No solution found in folder: C:\\Google Drive\\AIC Experiment Data\\DARP\\ITSC_instance_paper\\old\\Results\\Manhattan\\start_18-00\\duration_030_min\\max_delay_05_min\\halns\n",
      "17:03:56 [WARNING] No solution found in folder: C:\\Google Drive\\AIC Experiment Data\\DARP\\ITSC_instance_paper\\old\\Results\\Manhattan\\start_18-00\\duration_030_min\\max_delay_05_min\\halns-ih\n",
      "17:03:56 [INFO] Loading json file from: C:\\Google Drive\\AIC Experiment Data\\DARP\\ITSC_instance_paper\\old\\Results\\Manhattan\\start_18-00\\duration_030_min\\max_delay_05_min\\ih\\config.yaml-performance.json\n",
      "17:03:56 [INFO] Loading json file from: C:\\Google Drive\\AIC Experiment Data\\DARP\\ITSC_instance_paper\\old\\Results\\Manhattan\\start_18-00\\duration_030_min\\max_delay_05_min\\ih\\config.yaml-solution.json\n",
      "17:03:57 [INFO] Loading experiment config from C:\\Google Drive\\AIC Experiment Data\\DARP\\ITSC_instance_paper\\old\\Results\\Manhattan\\start_18-00\\duration_030_min\\max_delay_05_min\\ih\\config.yaml\n",
      "17:03:57 [INFO] Loading instance config from C:\\Google Drive\\AIC Experiment Data\\DARP\\ITSC_instance_paper\\old\\Instances\\Manhattan\\instances\\start_18-00\\duration_030_min\\max_delay_05_min\\config.yaml\n",
      "17:03:57 [WARNING] No solution found in folder: C:\\Google Drive\\AIC Experiment Data\\DARP\\ITSC_instance_paper\\old\\Results\\Manhattan\\start_18-00\\duration_030_min\\max_delay_05_min\\vga\n",
      "17:03:57 [WARNING] No solution found in folder: C:\\Google Drive\\AIC Experiment Data\\DARP\\ITSC_instance_paper\\old\\Results\\Manhattan\\start_18-00\\duration_030_min\\max_delay_10_min\\halns\n",
      "17:03:57 [WARNING] No solution found in folder: C:\\Google Drive\\AIC Experiment Data\\DARP\\ITSC_instance_paper\\old\\Results\\Manhattan\\start_18-00\\duration_030_min\\max_delay_10_min\\halns-ih\n",
      "17:03:57 [INFO] Loading json file from: C:\\Google Drive\\AIC Experiment Data\\DARP\\ITSC_instance_paper\\old\\Results\\Manhattan\\start_18-00\\duration_030_min\\max_delay_10_min\\ih\\config.yaml-performance.json\n",
      "17:03:57 [INFO] Loading json file from: C:\\Google Drive\\AIC Experiment Data\\DARP\\ITSC_instance_paper\\old\\Results\\Manhattan\\start_18-00\\duration_030_min\\max_delay_10_min\\ih\\config.yaml-solution.json\n",
      "17:03:57 [INFO] Loading experiment config from C:\\Google Drive\\AIC Experiment Data\\DARP\\ITSC_instance_paper\\old\\Results\\Manhattan\\start_18-00\\duration_030_min\\max_delay_10_min\\ih\\config.yaml\n",
      "17:03:57 [INFO] Loading instance config from C:\\Google Drive\\AIC Experiment Data\\DARP\\ITSC_instance_paper\\old\\Instances\\Manhattan\\instances\\start_18-00\\duration_030_min\\max_delay_10_min\\config.yaml\n",
      "17:03:57 [WARNING] No solution found in folder: C:\\Google Drive\\AIC Experiment Data\\DARP\\ITSC_instance_paper\\old\\Results\\Manhattan\\start_18-00\\duration_030_min\\max_delay_10_min\\vga\n",
      "17:03:57 [WARNING] No solution found in folder: C:\\Google Drive\\AIC Experiment Data\\DARP\\ITSC_instance_paper\\old\\Results\\Manhattan\\start_18-00\\duration_120_min\\max_delay_03_min\\halns\n",
      "17:03:57 [WARNING] No solution found in folder: C:\\Google Drive\\AIC Experiment Data\\DARP\\ITSC_instance_paper\\old\\Results\\Manhattan\\start_18-00\\duration_120_min\\max_delay_03_min\\halns-ih\n",
      "17:03:57 [INFO] Loading json file from: C:\\Google Drive\\AIC Experiment Data\\DARP\\ITSC_instance_paper\\old\\Results\\Manhattan\\start_18-00\\duration_120_min\\max_delay_03_min\\ih\\config.yaml-performance.json\n",
      "17:03:57 [INFO] Loading json file from: C:\\Google Drive\\AIC Experiment Data\\DARP\\ITSC_instance_paper\\old\\Results\\Manhattan\\start_18-00\\duration_120_min\\max_delay_03_min\\ih\\config.yaml-solution.json\n",
      "17:03:57 [INFO] Loading experiment config from C:\\Google Drive\\AIC Experiment Data\\DARP\\ITSC_instance_paper\\old\\Results\\Manhattan\\start_18-00\\duration_120_min\\max_delay_03_min\\ih\\config.yaml\n",
      "17:03:57 [INFO] Loading instance config from C:\\Google Drive\\AIC Experiment Data\\DARP\\ITSC_instance_paper\\old\\Instances\\Manhattan\\instances\\start_18-00\\duration_120_min\\max_delay_03_min\\config.yaml\n",
      "17:03:57 [WARNING] No solution found in folder: C:\\Google Drive\\AIC Experiment Data\\DARP\\ITSC_instance_paper\\old\\Results\\Manhattan\\start_18-00\\duration_120_min\\max_delay_03_min\\vga\n",
      "17:03:57 [WARNING] No solution found in folder: C:\\Google Drive\\AIC Experiment Data\\DARP\\ITSC_instance_paper\\old\\Results\\Manhattan\\start_18-00\\duration_120_min\\max_delay_05_min\\halns\n",
      "17:03:57 [WARNING] No solution found in folder: C:\\Google Drive\\AIC Experiment Data\\DARP\\ITSC_instance_paper\\old\\Results\\Manhattan\\start_18-00\\duration_120_min\\max_delay_05_min\\halns-ih\n",
      "17:03:57 [INFO] Loading json file from: C:\\Google Drive\\AIC Experiment Data\\DARP\\ITSC_instance_paper\\old\\Results\\Manhattan\\start_18-00\\duration_120_min\\max_delay_05_min\\ih\\config.yaml-performance.json\n",
      "17:03:57 [INFO] Loading json file from: C:\\Google Drive\\AIC Experiment Data\\DARP\\ITSC_instance_paper\\old\\Results\\Manhattan\\start_18-00\\duration_120_min\\max_delay_05_min\\ih\\config.yaml-solution.json\n",
      "17:03:58 [INFO] Loading experiment config from C:\\Google Drive\\AIC Experiment Data\\DARP\\ITSC_instance_paper\\old\\Results\\Manhattan\\start_18-00\\duration_120_min\\max_delay_05_min\\ih\\config.yaml\n",
      "17:03:58 [INFO] Loading instance config from C:\\Google Drive\\AIC Experiment Data\\DARP\\ITSC_instance_paper\\old\\Instances\\Manhattan\\instances\\start_18-00\\duration_120_min\\max_delay_05_min\\config.yaml\n",
      "17:03:58 [WARNING] No solution found in folder: C:\\Google Drive\\AIC Experiment Data\\DARP\\ITSC_instance_paper\\old\\Results\\Manhattan\\start_18-00\\duration_120_min\\max_delay_05_min\\vga\n",
      "17:03:58 [WARNING] No solution found in folder: C:\\Google Drive\\AIC Experiment Data\\DARP\\ITSC_instance_paper\\old\\Results\\Manhattan\\start_18-00\\duration_120_min\\max_delay_10_min\\halns\n",
      "17:03:58 [WARNING] No solution found in folder: C:\\Google Drive\\AIC Experiment Data\\DARP\\ITSC_instance_paper\\old\\Results\\Manhattan\\start_18-00\\duration_120_min\\max_delay_10_min\\halns-ih\n",
      "17:03:58 [INFO] Loading json file from: C:\\Google Drive\\AIC Experiment Data\\DARP\\ITSC_instance_paper\\old\\Results\\Manhattan\\start_18-00\\duration_120_min\\max_delay_10_min\\ih\\config.yaml-performance.json\n",
      "17:03:58 [INFO] Loading json file from: C:\\Google Drive\\AIC Experiment Data\\DARP\\ITSC_instance_paper\\old\\Results\\Manhattan\\start_18-00\\duration_120_min\\max_delay_10_min\\ih\\config.yaml-solution.json\n",
      "17:03:58 [INFO] Loading experiment config from C:\\Google Drive\\AIC Experiment Data\\DARP\\ITSC_instance_paper\\old\\Results\\Manhattan\\start_18-00\\duration_120_min\\max_delay_10_min\\ih\\config.yaml\n",
      "17:03:58 [INFO] Loading instance config from C:\\Google Drive\\AIC Experiment Data\\DARP\\ITSC_instance_paper\\old\\Instances\\Manhattan\\instances\\start_18-00\\duration_120_min\\max_delay_10_min\\config.yaml\n",
      "17:03:58 [WARNING] No solution found in folder: C:\\Google Drive\\AIC Experiment Data\\DARP\\ITSC_instance_paper\\old\\Results\\Manhattan\\start_18-00\\duration_120_min\\max_delay_10_min\\vga\n",
      "17:03:58 [WARNING] No solution found in folder: C:\\Google Drive\\AIC Experiment Data\\DARP\\ITSC_instance_paper\\old\\Results\\Manhattan\\start_18-00\\duration_960_min\\max_delay_03_min\\halns\n",
      "17:03:58 [WARNING] No solution found in folder: C:\\Google Drive\\AIC Experiment Data\\DARP\\ITSC_instance_paper\\old\\Results\\Manhattan\\start_18-00\\duration_960_min\\max_delay_03_min\\halns-ih\n",
      "17:03:58 [INFO] Loading json file from: C:\\Google Drive\\AIC Experiment Data\\DARP\\ITSC_instance_paper\\old\\Results\\Manhattan\\start_18-00\\duration_960_min\\max_delay_03_min\\ih\\config.yaml-performance.json\n",
      "17:03:58 [INFO] Loading json file from: C:\\Google Drive\\AIC Experiment Data\\DARP\\ITSC_instance_paper\\old\\Results\\Manhattan\\start_18-00\\duration_960_min\\max_delay_03_min\\ih\\config.yaml-solution.json\n",
      "17:03:59 [INFO] Loading experiment config from C:\\Google Drive\\AIC Experiment Data\\DARP\\ITSC_instance_paper\\old\\Results\\Manhattan\\start_18-00\\duration_960_min\\max_delay_03_min\\ih\\config.yaml\n",
      "17:03:59 [INFO] Loading instance config from C:\\Google Drive\\AIC Experiment Data\\DARP\\ITSC_instance_paper\\old\\Instances\\Manhattan\\instances\\start_18-00\\duration_960_min\\max_delay_03_min\\config.yaml\n",
      "17:03:59 [WARNING] No solution found in folder: C:\\Google Drive\\AIC Experiment Data\\DARP\\ITSC_instance_paper\\old\\Results\\Manhattan\\start_18-00\\duration_960_min\\max_delay_03_min\\vga\n",
      "17:03:59 [WARNING] No solution found in folder: C:\\Google Drive\\AIC Experiment Data\\DARP\\ITSC_instance_paper\\old\\Results\\Manhattan\\start_18-00\\duration_960_min\\max_delay_05_min\\halns\n",
      "17:03:59 [WARNING] No solution found in folder: C:\\Google Drive\\AIC Experiment Data\\DARP\\ITSC_instance_paper\\old\\Results\\Manhattan\\start_18-00\\duration_960_min\\max_delay_05_min\\halns-ih\n",
      "17:03:59 [INFO] Loading json file from: C:\\Google Drive\\AIC Experiment Data\\DARP\\ITSC_instance_paper\\old\\Results\\Manhattan\\start_18-00\\duration_960_min\\max_delay_05_min\\ih\\config.yaml-performance.json\n",
      "17:03:59 [INFO] Loading json file from: C:\\Google Drive\\AIC Experiment Data\\DARP\\ITSC_instance_paper\\old\\Results\\Manhattan\\start_18-00\\duration_960_min\\max_delay_05_min\\ih\\config.yaml-solution.json\n",
      "17:04:00 [INFO] Loading experiment config from C:\\Google Drive\\AIC Experiment Data\\DARP\\ITSC_instance_paper\\old\\Results\\Manhattan\\start_18-00\\duration_960_min\\max_delay_05_min\\ih\\config.yaml\n",
      "17:04:00 [INFO] Loading instance config from C:\\Google Drive\\AIC Experiment Data\\DARP\\ITSC_instance_paper\\old\\Instances\\Manhattan\\instances\\start_18-00\\duration_960_min\\max_delay_05_min\\config.yaml\n",
      "17:04:00 [WARNING] No solution found in folder: C:\\Google Drive\\AIC Experiment Data\\DARP\\ITSC_instance_paper\\old\\Results\\Manhattan\\start_18-00\\duration_960_min\\max_delay_05_min\\vga\n",
      "17:04:00 [WARNING] No solution found in folder: C:\\Google Drive\\AIC Experiment Data\\DARP\\ITSC_instance_paper\\old\\Results\\Manhattan\\start_18-00\\duration_960_min\\max_delay_10_min\\halns\n",
      "17:04:00 [WARNING] No solution found in folder: C:\\Google Drive\\AIC Experiment Data\\DARP\\ITSC_instance_paper\\old\\Results\\Manhattan\\start_18-00\\duration_960_min\\max_delay_10_min\\halns-ih\n",
      "17:04:00 [INFO] Loading json file from: C:\\Google Drive\\AIC Experiment Data\\DARP\\ITSC_instance_paper\\old\\Results\\Manhattan\\start_18-00\\duration_960_min\\max_delay_10_min\\ih\\config.yaml-performance.json\n",
      "17:04:00 [INFO] Loading json file from: C:\\Google Drive\\AIC Experiment Data\\DARP\\ITSC_instance_paper\\old\\Results\\Manhattan\\start_18-00\\duration_960_min\\max_delay_10_min\\ih\\config.yaml-solution.json\n",
      "17:04:01 [INFO] Loading experiment config from C:\\Google Drive\\AIC Experiment Data\\DARP\\ITSC_instance_paper\\old\\Results\\Manhattan\\start_18-00\\duration_960_min\\max_delay_10_min\\ih\\config.yaml\n",
      "17:04:01 [INFO] Loading instance config from C:\\Google Drive\\AIC Experiment Data\\DARP\\ITSC_instance_paper\\old\\Instances\\Manhattan\\instances\\start_18-00\\duration_960_min\\max_delay_10_min\\config.yaml\n",
      "17:04:01 [WARNING] No solution found in folder: C:\\Google Drive\\AIC Experiment Data\\DARP\\ITSC_instance_paper\\old\\Results\\Manhattan\\start_18-00\\duration_960_min\\max_delay_10_min\\vga\n",
      "17:04:01 [INFO] Loading aggregate stats in C:\\Google Drive\\AIC Experiment Data\\DARP\\ITSC_instance_paper\\old\\Results\\Chicago\n",
      "17:04:01 [WARNING] No solution found in folder: C:\\Google Drive\\AIC Experiment Data\\DARP\\ITSC_instance_paper\\old\\Results\\Chicago\\start_18-00\\duration_005_min\\max_delay_03_min\\halns\n",
      "17:04:01 [WARNING] No solution found in folder: C:\\Google Drive\\AIC Experiment Data\\DARP\\ITSC_instance_paper\\old\\Results\\Chicago\\start_18-00\\duration_005_min\\max_delay_03_min\\halns-ih\n",
      "17:04:01 [INFO] Loading json file from: C:\\Google Drive\\AIC Experiment Data\\DARP\\ITSC_instance_paper\\old\\Results\\Chicago\\start_18-00\\duration_005_min\\max_delay_03_min\\ih\\config.yaml-performance.json\n",
      "17:04:01 [INFO] Loading json file from: C:\\Google Drive\\AIC Experiment Data\\DARP\\ITSC_instance_paper\\old\\Results\\Chicago\\start_18-00\\duration_005_min\\max_delay_03_min\\ih\\config.yaml-solution.json\n",
      "17:04:01 [INFO] Loading experiment config from C:\\Google Drive\\AIC Experiment Data\\DARP\\ITSC_instance_paper\\old\\Results\\Chicago\\start_18-00\\duration_005_min\\max_delay_03_min\\ih\\config.yaml\n",
      "17:04:01 [INFO] Loading instance config from C:\\Google Drive\\AIC Experiment Data\\DARP\\ITSC_instance_paper\\old\\Instances\\Chicago\\instances\\start_18-00\\duration_005_min\\max_delay_03_min\\config.yaml\n",
      "17:04:01 [WARNING] No solution found in folder: C:\\Google Drive\\AIC Experiment Data\\DARP\\ITSC_instance_paper\\old\\Results\\Chicago\\start_18-00\\duration_005_min\\max_delay_03_min\\vga\n",
      "17:04:01 [WARNING] No solution found in folder: C:\\Google Drive\\AIC Experiment Data\\DARP\\ITSC_instance_paper\\old\\Results\\Chicago\\start_18-00\\duration_005_min\\max_delay_05_min\\halns\n",
      "17:04:01 [WARNING] No solution found in folder: C:\\Google Drive\\AIC Experiment Data\\DARP\\ITSC_instance_paper\\old\\Results\\Chicago\\start_18-00\\duration_005_min\\max_delay_05_min\\halns-ih\n",
      "17:04:01 [INFO] Loading json file from: C:\\Google Drive\\AIC Experiment Data\\DARP\\ITSC_instance_paper\\old\\Results\\Chicago\\start_18-00\\duration_005_min\\max_delay_05_min\\ih\\config.yaml-performance.json\n",
      "17:04:01 [INFO] Loading json file from: C:\\Google Drive\\AIC Experiment Data\\DARP\\ITSC_instance_paper\\old\\Results\\Chicago\\start_18-00\\duration_005_min\\max_delay_05_min\\ih\\config.yaml-solution.json\n",
      "17:04:01 [INFO] Loading experiment config from C:\\Google Drive\\AIC Experiment Data\\DARP\\ITSC_instance_paper\\old\\Results\\Chicago\\start_18-00\\duration_005_min\\max_delay_05_min\\ih\\config.yaml\n",
      "17:04:01 [INFO] Loading instance config from C:\\Google Drive\\AIC Experiment Data\\DARP\\ITSC_instance_paper\\old\\Instances\\Chicago\\instances\\start_18-00\\duration_005_min\\max_delay_05_min\\config.yaml\n",
      "17:04:01 [WARNING] No solution found in folder: C:\\Google Drive\\AIC Experiment Data\\DARP\\ITSC_instance_paper\\old\\Results\\Chicago\\start_18-00\\duration_005_min\\max_delay_05_min\\vga\n",
      "17:04:01 [WARNING] No solution found in folder: C:\\Google Drive\\AIC Experiment Data\\DARP\\ITSC_instance_paper\\old\\Results\\Chicago\\start_18-00\\duration_005_min\\max_delay_10_min\\halns\n",
      "17:04:01 [WARNING] No solution found in folder: C:\\Google Drive\\AIC Experiment Data\\DARP\\ITSC_instance_paper\\old\\Results\\Chicago\\start_18-00\\duration_005_min\\max_delay_10_min\\halns-ih\n",
      "17:04:01 [INFO] Loading json file from: C:\\Google Drive\\AIC Experiment Data\\DARP\\ITSC_instance_paper\\old\\Results\\Chicago\\start_18-00\\duration_005_min\\max_delay_10_min\\ih\\config.yaml-performance.json\n",
      "17:04:01 [INFO] Loading json file from: C:\\Google Drive\\AIC Experiment Data\\DARP\\ITSC_instance_paper\\old\\Results\\Chicago\\start_18-00\\duration_005_min\\max_delay_10_min\\ih\\config.yaml-solution.json\n",
      "17:04:01 [INFO] Loading experiment config from C:\\Google Drive\\AIC Experiment Data\\DARP\\ITSC_instance_paper\\old\\Results\\Chicago\\start_18-00\\duration_005_min\\max_delay_10_min\\ih\\config.yaml\n",
      "17:04:01 [INFO] Loading instance config from C:\\Google Drive\\AIC Experiment Data\\DARP\\ITSC_instance_paper\\old\\Instances\\Chicago\\instances\\start_18-00\\duration_005_min\\max_delay_10_min\\config.yaml\n",
      "17:04:01 [WARNING] No solution found in folder: C:\\Google Drive\\AIC Experiment Data\\DARP\\ITSC_instance_paper\\old\\Results\\Chicago\\start_18-00\\duration_005_min\\max_delay_10_min\\vga\n",
      "17:04:01 [WARNING] No solution found in folder: C:\\Google Drive\\AIC Experiment Data\\DARP\\ITSC_instance_paper\\old\\Results\\Chicago\\start_18-00\\duration_015_min\\max_delay_03_min\\halns\n",
      "17:04:01 [WARNING] No solution found in folder: C:\\Google Drive\\AIC Experiment Data\\DARP\\ITSC_instance_paper\\old\\Results\\Chicago\\start_18-00\\duration_015_min\\max_delay_03_min\\halns-ih\n",
      "17:04:01 [INFO] Loading json file from: C:\\Google Drive\\AIC Experiment Data\\DARP\\ITSC_instance_paper\\old\\Results\\Chicago\\start_18-00\\duration_015_min\\max_delay_03_min\\ih\\config.yaml-performance.json\n",
      "17:04:01 [INFO] Loading json file from: C:\\Google Drive\\AIC Experiment Data\\DARP\\ITSC_instance_paper\\old\\Results\\Chicago\\start_18-00\\duration_015_min\\max_delay_03_min\\ih\\config.yaml-solution.json\n",
      "17:04:01 [INFO] Loading experiment config from C:\\Google Drive\\AIC Experiment Data\\DARP\\ITSC_instance_paper\\old\\Results\\Chicago\\start_18-00\\duration_015_min\\max_delay_03_min\\ih\\config.yaml\n",
      "17:04:01 [INFO] Loading instance config from C:\\Google Drive\\AIC Experiment Data\\DARP\\ITSC_instance_paper\\old\\Instances\\Chicago\\instances\\start_18-00\\duration_015_min\\max_delay_03_min\\config.yaml\n",
      "17:04:01 [WARNING] No solution found in folder: C:\\Google Drive\\AIC Experiment Data\\DARP\\ITSC_instance_paper\\old\\Results\\Chicago\\start_18-00\\duration_015_min\\max_delay_03_min\\vga\n",
      "17:04:01 [WARNING] No solution found in folder: C:\\Google Drive\\AIC Experiment Data\\DARP\\ITSC_instance_paper\\old\\Results\\Chicago\\start_18-00\\duration_015_min\\max_delay_05_min\\halns\n",
      "17:04:01 [WARNING] No solution found in folder: C:\\Google Drive\\AIC Experiment Data\\DARP\\ITSC_instance_paper\\old\\Results\\Chicago\\start_18-00\\duration_015_min\\max_delay_05_min\\halns-ih\n",
      "17:04:01 [INFO] Loading json file from: C:\\Google Drive\\AIC Experiment Data\\DARP\\ITSC_instance_paper\\old\\Results\\Chicago\\start_18-00\\duration_015_min\\max_delay_05_min\\ih\\config.yaml-performance.json\n",
      "17:04:01 [INFO] Loading json file from: C:\\Google Drive\\AIC Experiment Data\\DARP\\ITSC_instance_paper\\old\\Results\\Chicago\\start_18-00\\duration_015_min\\max_delay_05_min\\ih\\config.yaml-solution.json\n",
      "17:04:01 [INFO] Loading experiment config from C:\\Google Drive\\AIC Experiment Data\\DARP\\ITSC_instance_paper\\old\\Results\\Chicago\\start_18-00\\duration_015_min\\max_delay_05_min\\ih\\config.yaml\n",
      "17:04:01 [INFO] Loading instance config from C:\\Google Drive\\AIC Experiment Data\\DARP\\ITSC_instance_paper\\old\\Instances\\Chicago\\instances\\start_18-00\\duration_015_min\\max_delay_05_min\\config.yaml\n",
      "17:04:01 [WARNING] No solution found in folder: C:\\Google Drive\\AIC Experiment Data\\DARP\\ITSC_instance_paper\\old\\Results\\Chicago\\start_18-00\\duration_015_min\\max_delay_05_min\\vga\n",
      "17:04:01 [WARNING] No solution found in folder: C:\\Google Drive\\AIC Experiment Data\\DARP\\ITSC_instance_paper\\old\\Results\\Chicago\\start_18-00\\duration_015_min\\max_delay_10_min\\halns\n",
      "17:04:01 [WARNING] No solution found in folder: C:\\Google Drive\\AIC Experiment Data\\DARP\\ITSC_instance_paper\\old\\Results\\Chicago\\start_18-00\\duration_015_min\\max_delay_10_min\\halns-ih\n",
      "17:04:01 [INFO] Loading json file from: C:\\Google Drive\\AIC Experiment Data\\DARP\\ITSC_instance_paper\\old\\Results\\Chicago\\start_18-00\\duration_015_min\\max_delay_10_min\\ih\\config.yaml-performance.json\n",
      "17:04:01 [INFO] Loading json file from: C:\\Google Drive\\AIC Experiment Data\\DARP\\ITSC_instance_paper\\old\\Results\\Chicago\\start_18-00\\duration_015_min\\max_delay_10_min\\ih\\config.yaml-solution.json\n",
      "17:04:01 [INFO] Loading experiment config from C:\\Google Drive\\AIC Experiment Data\\DARP\\ITSC_instance_paper\\old\\Results\\Chicago\\start_18-00\\duration_015_min\\max_delay_10_min\\ih\\config.yaml\n",
      "17:04:01 [INFO] Loading instance config from C:\\Google Drive\\AIC Experiment Data\\DARP\\ITSC_instance_paper\\old\\Instances\\Chicago\\instances\\start_18-00\\duration_015_min\\max_delay_10_min\\config.yaml\n",
      "17:04:01 [WARNING] No solution found in folder: C:\\Google Drive\\AIC Experiment Data\\DARP\\ITSC_instance_paper\\old\\Results\\Chicago\\start_18-00\\duration_015_min\\max_delay_10_min\\vga\n",
      "17:04:01 [WARNING] No solution found in folder: C:\\Google Drive\\AIC Experiment Data\\DARP\\ITSC_instance_paper\\old\\Results\\Chicago\\start_18-00\\duration_030_min\\max_delay_03_min\\halns\n",
      "17:04:01 [WARNING] No solution found in folder: C:\\Google Drive\\AIC Experiment Data\\DARP\\ITSC_instance_paper\\old\\Results\\Chicago\\start_18-00\\duration_030_min\\max_delay_03_min\\halns-ih\n",
      "17:04:01 [INFO] Loading json file from: C:\\Google Drive\\AIC Experiment Data\\DARP\\ITSC_instance_paper\\old\\Results\\Chicago\\start_18-00\\duration_030_min\\max_delay_03_min\\ih\\config.yaml-performance.json\n",
      "17:04:01 [INFO] Loading json file from: C:\\Google Drive\\AIC Experiment Data\\DARP\\ITSC_instance_paper\\old\\Results\\Chicago\\start_18-00\\duration_030_min\\max_delay_03_min\\ih\\config.yaml-solution.json\n",
      "17:04:01 [INFO] Loading experiment config from C:\\Google Drive\\AIC Experiment Data\\DARP\\ITSC_instance_paper\\old\\Results\\Chicago\\start_18-00\\duration_030_min\\max_delay_03_min\\ih\\config.yaml\n",
      "17:04:01 [INFO] Loading instance config from C:\\Google Drive\\AIC Experiment Data\\DARP\\ITSC_instance_paper\\old\\Instances\\Chicago\\instances\\start_18-00\\duration_030_min\\max_delay_03_min\\config.yaml\n",
      "17:04:01 [WARNING] No solution found in folder: C:\\Google Drive\\AIC Experiment Data\\DARP\\ITSC_instance_paper\\old\\Results\\Chicago\\start_18-00\\duration_030_min\\max_delay_03_min\\vga\n",
      "17:04:01 [WARNING] No solution found in folder: C:\\Google Drive\\AIC Experiment Data\\DARP\\ITSC_instance_paper\\old\\Results\\Chicago\\start_18-00\\duration_030_min\\max_delay_05_min\\halns\n",
      "17:04:01 [WARNING] No solution found in folder: C:\\Google Drive\\AIC Experiment Data\\DARP\\ITSC_instance_paper\\old\\Results\\Chicago\\start_18-00\\duration_030_min\\max_delay_05_min\\halns-ih\n",
      "17:04:01 [INFO] Loading json file from: C:\\Google Drive\\AIC Experiment Data\\DARP\\ITSC_instance_paper\\old\\Results\\Chicago\\start_18-00\\duration_030_min\\max_delay_05_min\\ih\\config.yaml-performance.json\n",
      "17:04:01 [INFO] Loading json file from: C:\\Google Drive\\AIC Experiment Data\\DARP\\ITSC_instance_paper\\old\\Results\\Chicago\\start_18-00\\duration_030_min\\max_delay_05_min\\ih\\config.yaml-solution.json\n",
      "17:04:01 [INFO] Loading experiment config from C:\\Google Drive\\AIC Experiment Data\\DARP\\ITSC_instance_paper\\old\\Results\\Chicago\\start_18-00\\duration_030_min\\max_delay_05_min\\ih\\config.yaml\n",
      "17:04:01 [INFO] Loading instance config from C:\\Google Drive\\AIC Experiment Data\\DARP\\ITSC_instance_paper\\old\\Instances\\Chicago\\instances\\start_18-00\\duration_030_min\\max_delay_05_min\\config.yaml\n",
      "17:04:01 [WARNING] No solution found in folder: C:\\Google Drive\\AIC Experiment Data\\DARP\\ITSC_instance_paper\\old\\Results\\Chicago\\start_18-00\\duration_030_min\\max_delay_05_min\\vga\n",
      "17:04:01 [WARNING] No solution found in folder: C:\\Google Drive\\AIC Experiment Data\\DARP\\ITSC_instance_paper\\old\\Results\\Chicago\\start_18-00\\duration_030_min\\max_delay_10_min\\halns\n",
      "17:04:01 [WARNING] No solution found in folder: C:\\Google Drive\\AIC Experiment Data\\DARP\\ITSC_instance_paper\\old\\Results\\Chicago\\start_18-00\\duration_030_min\\max_delay_10_min\\halns-ih\n",
      "17:04:01 [INFO] Loading json file from: C:\\Google Drive\\AIC Experiment Data\\DARP\\ITSC_instance_paper\\old\\Results\\Chicago\\start_18-00\\duration_030_min\\max_delay_10_min\\ih\\config.yaml-performance.json\n",
      "17:04:01 [INFO] Loading json file from: C:\\Google Drive\\AIC Experiment Data\\DARP\\ITSC_instance_paper\\old\\Results\\Chicago\\start_18-00\\duration_030_min\\max_delay_10_min\\ih\\config.yaml-solution.json\n",
      "17:04:01 [INFO] Loading experiment config from C:\\Google Drive\\AIC Experiment Data\\DARP\\ITSC_instance_paper\\old\\Results\\Chicago\\start_18-00\\duration_030_min\\max_delay_10_min\\ih\\config.yaml\n",
      "17:04:01 [INFO] Loading instance config from C:\\Google Drive\\AIC Experiment Data\\DARP\\ITSC_instance_paper\\old\\Instances\\Chicago\\instances\\start_18-00\\duration_030_min\\max_delay_10_min\\config.yaml\n",
      "17:04:01 [WARNING] No solution found in folder: C:\\Google Drive\\AIC Experiment Data\\DARP\\ITSC_instance_paper\\old\\Results\\Chicago\\start_18-00\\duration_030_min\\max_delay_10_min\\vga\n",
      "17:04:01 [WARNING] No solution found in folder: C:\\Google Drive\\AIC Experiment Data\\DARP\\ITSC_instance_paper\\old\\Results\\Chicago\\start_18-00\\duration_120_min\\max_delay_03_min\\halns\n",
      "17:04:01 [WARNING] No solution found in folder: C:\\Google Drive\\AIC Experiment Data\\DARP\\ITSC_instance_paper\\old\\Results\\Chicago\\start_18-00\\duration_120_min\\max_delay_03_min\\halns-ih\n",
      "17:04:01 [INFO] Loading json file from: C:\\Google Drive\\AIC Experiment Data\\DARP\\ITSC_instance_paper\\old\\Results\\Chicago\\start_18-00\\duration_120_min\\max_delay_03_min\\ih\\config.yaml-performance.json\n",
      "17:04:01 [INFO] Loading json file from: C:\\Google Drive\\AIC Experiment Data\\DARP\\ITSC_instance_paper\\old\\Results\\Chicago\\start_18-00\\duration_120_min\\max_delay_03_min\\ih\\config.yaml-solution.json\n",
      "17:04:01 [INFO] Loading experiment config from C:\\Google Drive\\AIC Experiment Data\\DARP\\ITSC_instance_paper\\old\\Results\\Chicago\\start_18-00\\duration_120_min\\max_delay_03_min\\ih\\config.yaml\n",
      "17:04:01 [INFO] Loading instance config from C:\\Google Drive\\AIC Experiment Data\\DARP\\ITSC_instance_paper\\old\\Instances\\Chicago\\instances\\start_18-00\\duration_120_min\\max_delay_03_min\\config.yaml\n",
      "17:04:01 [WARNING] No solution found in folder: C:\\Google Drive\\AIC Experiment Data\\DARP\\ITSC_instance_paper\\old\\Results\\Chicago\\start_18-00\\duration_120_min\\max_delay_03_min\\vga\n",
      "17:04:01 [WARNING] No solution found in folder: C:\\Google Drive\\AIC Experiment Data\\DARP\\ITSC_instance_paper\\old\\Results\\Chicago\\start_18-00\\duration_120_min\\max_delay_05_min\\halns\n",
      "17:04:01 [WARNING] No solution found in folder: C:\\Google Drive\\AIC Experiment Data\\DARP\\ITSC_instance_paper\\old\\Results\\Chicago\\start_18-00\\duration_120_min\\max_delay_05_min\\halns-ih\n",
      "17:04:01 [INFO] Loading json file from: C:\\Google Drive\\AIC Experiment Data\\DARP\\ITSC_instance_paper\\old\\Results\\Chicago\\start_18-00\\duration_120_min\\max_delay_05_min\\ih\\config.yaml-performance.json\n",
      "17:04:01 [INFO] Loading json file from: C:\\Google Drive\\AIC Experiment Data\\DARP\\ITSC_instance_paper\\old\\Results\\Chicago\\start_18-00\\duration_120_min\\max_delay_05_min\\ih\\config.yaml-solution.json\n",
      "17:04:01 [INFO] Loading experiment config from C:\\Google Drive\\AIC Experiment Data\\DARP\\ITSC_instance_paper\\old\\Results\\Chicago\\start_18-00\\duration_120_min\\max_delay_05_min\\ih\\config.yaml\n",
      "17:04:01 [INFO] Loading instance config from C:\\Google Drive\\AIC Experiment Data\\DARP\\ITSC_instance_paper\\old\\Instances\\Chicago\\instances\\start_18-00\\duration_120_min\\max_delay_05_min\\config.yaml\n",
      "17:04:01 [WARNING] No solution found in folder: C:\\Google Drive\\AIC Experiment Data\\DARP\\ITSC_instance_paper\\old\\Results\\Chicago\\start_18-00\\duration_120_min\\max_delay_05_min\\vga\n",
      "17:04:01 [WARNING] No solution found in folder: C:\\Google Drive\\AIC Experiment Data\\DARP\\ITSC_instance_paper\\old\\Results\\Chicago\\start_18-00\\duration_120_min\\max_delay_10_min\\halns\n",
      "17:04:01 [WARNING] No solution found in folder: C:\\Google Drive\\AIC Experiment Data\\DARP\\ITSC_instance_paper\\old\\Results\\Chicago\\start_18-00\\duration_120_min\\max_delay_10_min\\halns-ih\n",
      "17:04:01 [INFO] Loading json file from: C:\\Google Drive\\AIC Experiment Data\\DARP\\ITSC_instance_paper\\old\\Results\\Chicago\\start_18-00\\duration_120_min\\max_delay_10_min\\ih\\config.yaml-performance.json\n",
      "17:04:01 [INFO] Loading json file from: C:\\Google Drive\\AIC Experiment Data\\DARP\\ITSC_instance_paper\\old\\Results\\Chicago\\start_18-00\\duration_120_min\\max_delay_10_min\\ih\\config.yaml-solution.json\n",
      "17:04:01 [INFO] Loading experiment config from C:\\Google Drive\\AIC Experiment Data\\DARP\\ITSC_instance_paper\\old\\Results\\Chicago\\start_18-00\\duration_120_min\\max_delay_10_min\\ih\\config.yaml\n",
      "17:04:01 [INFO] Loading instance config from C:\\Google Drive\\AIC Experiment Data\\DARP\\ITSC_instance_paper\\old\\Instances\\Chicago\\instances\\start_18-00\\duration_120_min\\max_delay_10_min\\config.yaml\n",
      "17:04:01 [WARNING] No solution found in folder: C:\\Google Drive\\AIC Experiment Data\\DARP\\ITSC_instance_paper\\old\\Results\\Chicago\\start_18-00\\duration_120_min\\max_delay_10_min\\vga\n",
      "17:04:01 [WARNING] No solution found in folder: C:\\Google Drive\\AIC Experiment Data\\DARP\\ITSC_instance_paper\\old\\Results\\Chicago\\start_18-00\\duration_960_min\\max_delay_03_min\\halns\n",
      "17:04:01 [WARNING] No solution found in folder: C:\\Google Drive\\AIC Experiment Data\\DARP\\ITSC_instance_paper\\old\\Results\\Chicago\\start_18-00\\duration_960_min\\max_delay_03_min\\halns-ih\n",
      "17:04:01 [INFO] Loading json file from: C:\\Google Drive\\AIC Experiment Data\\DARP\\ITSC_instance_paper\\old\\Results\\Chicago\\start_18-00\\duration_960_min\\max_delay_03_min\\ih\\config.yaml-performance.json\n",
      "17:04:01 [INFO] Loading json file from: C:\\Google Drive\\AIC Experiment Data\\DARP\\ITSC_instance_paper\\old\\Results\\Chicago\\start_18-00\\duration_960_min\\max_delay_03_min\\ih\\config.yaml-solution.json\n",
      "17:04:01 [INFO] Loading experiment config from C:\\Google Drive\\AIC Experiment Data\\DARP\\ITSC_instance_paper\\old\\Results\\Chicago\\start_18-00\\duration_960_min\\max_delay_03_min\\ih\\config.yaml\n",
      "17:04:01 [INFO] Loading instance config from C:\\Google Drive\\AIC Experiment Data\\DARP\\ITSC_instance_paper\\old\\Instances\\Chicago\\instances\\start_18-00\\duration_960_min\\max_delay_03_min\\config.yaml\n",
      "17:04:01 [WARNING] No solution found in folder: C:\\Google Drive\\AIC Experiment Data\\DARP\\ITSC_instance_paper\\old\\Results\\Chicago\\start_18-00\\duration_960_min\\max_delay_03_min\\vga\n",
      "17:04:01 [WARNING] No solution found in folder: C:\\Google Drive\\AIC Experiment Data\\DARP\\ITSC_instance_paper\\old\\Results\\Chicago\\start_18-00\\duration_960_min\\max_delay_05_min\\halns\n",
      "17:04:01 [WARNING] No solution found in folder: C:\\Google Drive\\AIC Experiment Data\\DARP\\ITSC_instance_paper\\old\\Results\\Chicago\\start_18-00\\duration_960_min\\max_delay_05_min\\halns-ih\n",
      "17:04:01 [INFO] Loading json file from: C:\\Google Drive\\AIC Experiment Data\\DARP\\ITSC_instance_paper\\old\\Results\\Chicago\\start_18-00\\duration_960_min\\max_delay_05_min\\ih\\config.yaml-performance.json\n",
      "17:04:01 [INFO] Loading json file from: C:\\Google Drive\\AIC Experiment Data\\DARP\\ITSC_instance_paper\\old\\Results\\Chicago\\start_18-00\\duration_960_min\\max_delay_05_min\\ih\\config.yaml-solution.json\n",
      "17:04:01 [INFO] Loading experiment config from C:\\Google Drive\\AIC Experiment Data\\DARP\\ITSC_instance_paper\\old\\Results\\Chicago\\start_18-00\\duration_960_min\\max_delay_05_min\\ih\\config.yaml\n",
      "17:04:01 [INFO] Loading instance config from C:\\Google Drive\\AIC Experiment Data\\DARP\\ITSC_instance_paper\\old\\Instances\\Chicago\\instances\\start_18-00\\duration_960_min\\max_delay_05_min\\config.yaml\n",
      "17:04:01 [WARNING] No solution found in folder: C:\\Google Drive\\AIC Experiment Data\\DARP\\ITSC_instance_paper\\old\\Results\\Chicago\\start_18-00\\duration_960_min\\max_delay_05_min\\vga\n",
      "17:04:01 [WARNING] No solution found in folder: C:\\Google Drive\\AIC Experiment Data\\DARP\\ITSC_instance_paper\\old\\Results\\Chicago\\start_18-00\\duration_960_min\\max_delay_10_min\\halns\n",
      "17:04:01 [WARNING] No solution found in folder: C:\\Google Drive\\AIC Experiment Data\\DARP\\ITSC_instance_paper\\old\\Results\\Chicago\\start_18-00\\duration_960_min\\max_delay_10_min\\halns-ih\n",
      "17:04:01 [INFO] Loading json file from: C:\\Google Drive\\AIC Experiment Data\\DARP\\ITSC_instance_paper\\old\\Results\\Chicago\\start_18-00\\duration_960_min\\max_delay_10_min\\ih\\config.yaml-performance.json\n",
      "17:04:01 [INFO] Loading json file from: C:\\Google Drive\\AIC Experiment Data\\DARP\\ITSC_instance_paper\\old\\Results\\Chicago\\start_18-00\\duration_960_min\\max_delay_10_min\\ih\\config.yaml-solution.json\n",
      "17:04:01 [INFO] Loading experiment config from C:\\Google Drive\\AIC Experiment Data\\DARP\\ITSC_instance_paper\\old\\Results\\Chicago\\start_18-00\\duration_960_min\\max_delay_10_min\\ih\\config.yaml\n",
      "17:04:01 [INFO] Loading instance config from C:\\Google Drive\\AIC Experiment Data\\DARP\\ITSC_instance_paper\\old\\Instances\\Chicago\\instances\\start_18-00\\duration_960_min\\max_delay_10_min\\config.yaml\n",
      "17:04:01 [WARNING] No solution found in folder: C:\\Google Drive\\AIC Experiment Data\\DARP\\ITSC_instance_paper\\old\\Results\\Chicago\\start_18-00\\duration_960_min\\max_delay_10_min\\vga\n",
      "17:04:01 [INFO] Loading aggregate stats in C:\\Google Drive\\AIC Experiment Data\\DARP\\ITSC_instance_paper\\old\\Results\\DC\n",
      "17:04:01 [INFO] Loading json file from: C:\\Google Drive\\AIC Experiment Data\\DARP\\ITSC_instance_paper\\old\\Results\\DC\\start_18-00\\duration_005_min\\max_delay_03_min\\halns\\config.yaml-performance.json\n",
      "17:04:01 [INFO] Loading json file from: C:\\Google Drive\\AIC Experiment Data\\DARP\\ITSC_instance_paper\\old\\Results\\DC\\start_18-00\\duration_005_min\\max_delay_03_min\\halns\\config.yaml-solution.json\n",
      "17:04:01 [INFO] Loading experiment config from C:\\Google Drive\\AIC Experiment Data\\DARP\\ITSC_instance_paper\\old\\Results\\DC\\start_18-00\\duration_005_min\\max_delay_03_min\\halns\\config.yaml\n",
      "17:04:01 [INFO] Loading instance config from C:\\Google Drive\\AIC Experiment Data\\DARP\\ITSC_instance_paper\\old\\Instances\\DC\\instances\\start_18-00\\duration_005_min\\max_delay_03_min\\config.yaml\n",
      "17:04:01 [INFO] Loading json file from: C:\\Google Drive\\AIC Experiment Data\\DARP\\ITSC_instance_paper\\old\\Results\\DC\\start_18-00\\duration_005_min\\max_delay_03_min\\halns-ih\\config.yaml-performance.json\n",
      "17:04:01 [INFO] Loading json file from: C:\\Google Drive\\AIC Experiment Data\\DARP\\ITSC_instance_paper\\old\\Results\\DC\\start_18-00\\duration_005_min\\max_delay_03_min\\halns-ih\\config.yaml-solution.json\n",
      "17:04:01 [INFO] Loading experiment config from C:\\Google Drive\\AIC Experiment Data\\DARP\\ITSC_instance_paper\\old\\Results\\DC\\start_18-00\\duration_005_min\\max_delay_03_min\\halns-ih\\config.yaml\n",
      "17:04:01 [INFO] Loading instance config from C:\\Google Drive\\AIC Experiment Data\\DARP\\ITSC_instance_paper\\old\\Instances\\DC\\instances\\start_18-00\\duration_005_min\\max_delay_03_min\\config.yaml\n",
      "17:04:01 [INFO] Loading json file from: C:\\Google Drive\\AIC Experiment Data\\DARP\\ITSC_instance_paper\\old\\Results\\DC\\start_18-00\\duration_005_min\\max_delay_03_min\\ih\\config.yaml-performance.json\n",
      "17:04:01 [INFO] Loading json file from: C:\\Google Drive\\AIC Experiment Data\\DARP\\ITSC_instance_paper\\old\\Results\\DC\\start_18-00\\duration_005_min\\max_delay_03_min\\ih\\config.yaml-solution.json\n",
      "17:04:01 [INFO] Loading experiment config from C:\\Google Drive\\AIC Experiment Data\\DARP\\ITSC_instance_paper\\old\\Results\\DC\\start_18-00\\duration_005_min\\max_delay_03_min\\ih\\config.yaml\n",
      "17:04:01 [INFO] Loading instance config from C:\\Google Drive\\AIC Experiment Data\\DARP\\ITSC_instance_paper\\old\\Instances\\DC\\instances\\start_18-00\\duration_005_min\\max_delay_03_min\\config.yaml\n",
      "17:04:01 [INFO] Loading json file from: C:\\Google Drive\\AIC Experiment Data\\DARP\\ITSC_instance_paper\\old\\Results\\DC\\start_18-00\\duration_005_min\\max_delay_03_min\\vga\\config.yaml-performance.json\n",
      "17:04:01 [INFO] Loading json file from: C:\\Google Drive\\AIC Experiment Data\\DARP\\ITSC_instance_paper\\old\\Results\\DC\\start_18-00\\duration_005_min\\max_delay_03_min\\vga\\config.yaml-solution.json\n",
      "17:04:01 [INFO] Loading experiment config from C:\\Google Drive\\AIC Experiment Data\\DARP\\ITSC_instance_paper\\old\\Results\\DC\\start_18-00\\duration_005_min\\max_delay_03_min\\vga\\config.yaml\n",
      "17:04:01 [INFO] Loading instance config from C:\\Google Drive\\AIC Experiment Data\\DARP\\ITSC_instance_paper\\old\\Instances\\DC\\instances\\start_18-00\\duration_005_min\\max_delay_03_min\\config.yaml\n",
      "17:04:01 [INFO] Loading json file from: C:\\Google Drive\\AIC Experiment Data\\DARP\\ITSC_instance_paper\\old\\Results\\DC\\start_18-00\\duration_005_min\\max_delay_05_min\\halns\\config.yaml-performance.json\n",
      "17:04:01 [INFO] Loading json file from: C:\\Google Drive\\AIC Experiment Data\\DARP\\ITSC_instance_paper\\old\\Results\\DC\\start_18-00\\duration_005_min\\max_delay_05_min\\halns\\config.yaml-solution.json\n",
      "17:04:01 [INFO] Loading experiment config from C:\\Google Drive\\AIC Experiment Data\\DARP\\ITSC_instance_paper\\old\\Results\\DC\\start_18-00\\duration_005_min\\max_delay_05_min\\halns\\config.yaml\n",
      "17:04:01 [INFO] Loading instance config from C:\\Google Drive\\AIC Experiment Data\\DARP\\ITSC_instance_paper\\old\\Instances\\DC\\instances\\start_18-00\\duration_005_min\\max_delay_05_min\\config.yaml\n",
      "17:04:01 [INFO] Loading json file from: C:\\Google Drive\\AIC Experiment Data\\DARP\\ITSC_instance_paper\\old\\Results\\DC\\start_18-00\\duration_005_min\\max_delay_05_min\\halns-ih\\config.yaml-performance.json\n",
      "17:04:01 [INFO] Loading json file from: C:\\Google Drive\\AIC Experiment Data\\DARP\\ITSC_instance_paper\\old\\Results\\DC\\start_18-00\\duration_005_min\\max_delay_05_min\\halns-ih\\config.yaml-solution.json\n",
      "17:04:01 [INFO] Loading experiment config from C:\\Google Drive\\AIC Experiment Data\\DARP\\ITSC_instance_paper\\old\\Results\\DC\\start_18-00\\duration_005_min\\max_delay_05_min\\halns-ih\\config.yaml\n",
      "17:04:01 [INFO] Loading instance config from C:\\Google Drive\\AIC Experiment Data\\DARP\\ITSC_instance_paper\\old\\Instances\\DC\\instances\\start_18-00\\duration_005_min\\max_delay_05_min\\config.yaml\n",
      "17:04:01 [INFO] Loading json file from: C:\\Google Drive\\AIC Experiment Data\\DARP\\ITSC_instance_paper\\old\\Results\\DC\\start_18-00\\duration_005_min\\max_delay_05_min\\ih\\config.yaml-performance.json\n",
      "17:04:01 [INFO] Loading json file from: C:\\Google Drive\\AIC Experiment Data\\DARP\\ITSC_instance_paper\\old\\Results\\DC\\start_18-00\\duration_005_min\\max_delay_05_min\\ih\\config.yaml-solution.json\n",
      "17:04:01 [INFO] Loading experiment config from C:\\Google Drive\\AIC Experiment Data\\DARP\\ITSC_instance_paper\\old\\Results\\DC\\start_18-00\\duration_005_min\\max_delay_05_min\\ih\\config.yaml\n",
      "17:04:01 [INFO] Loading instance config from C:\\Google Drive\\AIC Experiment Data\\DARP\\ITSC_instance_paper\\old\\Instances\\DC\\instances\\start_18-00\\duration_005_min\\max_delay_05_min\\config.yaml\n",
      "17:04:01 [INFO] Loading json file from: C:\\Google Drive\\AIC Experiment Data\\DARP\\ITSC_instance_paper\\old\\Results\\DC\\start_18-00\\duration_005_min\\max_delay_05_min\\vga\\config.yaml-performance.json\n",
      "17:04:01 [INFO] Loading json file from: C:\\Google Drive\\AIC Experiment Data\\DARP\\ITSC_instance_paper\\old\\Results\\DC\\start_18-00\\duration_005_min\\max_delay_05_min\\vga\\config.yaml-solution.json\n",
      "17:04:01 [INFO] Loading experiment config from C:\\Google Drive\\AIC Experiment Data\\DARP\\ITSC_instance_paper\\old\\Results\\DC\\start_18-00\\duration_005_min\\max_delay_05_min\\vga\\config.yaml\n",
      "17:04:01 [INFO] Loading instance config from C:\\Google Drive\\AIC Experiment Data\\DARP\\ITSC_instance_paper\\old\\Instances\\DC\\instances\\start_18-00\\duration_005_min\\max_delay_05_min\\config.yaml\n",
      "17:04:01 [INFO] Loading json file from: C:\\Google Drive\\AIC Experiment Data\\DARP\\ITSC_instance_paper\\old\\Results\\DC\\start_18-00\\duration_005_min\\max_delay_10_min\\halns\\config.yaml-performance.json\n",
      "17:04:01 [INFO] Loading json file from: C:\\Google Drive\\AIC Experiment Data\\DARP\\ITSC_instance_paper\\old\\Results\\DC\\start_18-00\\duration_005_min\\max_delay_10_min\\halns\\config.yaml-solution.json\n",
      "17:04:01 [INFO] Loading experiment config from C:\\Google Drive\\AIC Experiment Data\\DARP\\ITSC_instance_paper\\old\\Results\\DC\\start_18-00\\duration_005_min\\max_delay_10_min\\halns\\config.yaml\n",
      "17:04:01 [INFO] Loading instance config from C:\\Google Drive\\AIC Experiment Data\\DARP\\ITSC_instance_paper\\old\\Instances\\DC\\instances\\start_18-00\\duration_005_min\\max_delay_10_min\\config.yaml\n",
      "17:04:01 [INFO] Loading json file from: C:\\Google Drive\\AIC Experiment Data\\DARP\\ITSC_instance_paper\\old\\Results\\DC\\start_18-00\\duration_005_min\\max_delay_10_min\\halns-ih\\config.yaml-performance.json\n",
      "17:04:01 [INFO] Loading json file from: C:\\Google Drive\\AIC Experiment Data\\DARP\\ITSC_instance_paper\\old\\Results\\DC\\start_18-00\\duration_005_min\\max_delay_10_min\\halns-ih\\config.yaml-solution.json\n",
      "17:04:01 [INFO] Loading experiment config from C:\\Google Drive\\AIC Experiment Data\\DARP\\ITSC_instance_paper\\old\\Results\\DC\\start_18-00\\duration_005_min\\max_delay_10_min\\halns-ih\\config.yaml\n",
      "17:04:01 [INFO] Loading instance config from C:\\Google Drive\\AIC Experiment Data\\DARP\\ITSC_instance_paper\\old\\Instances\\DC\\instances\\start_18-00\\duration_005_min\\max_delay_10_min\\config.yaml\n",
      "17:04:01 [INFO] Loading json file from: C:\\Google Drive\\AIC Experiment Data\\DARP\\ITSC_instance_paper\\old\\Results\\DC\\start_18-00\\duration_005_min\\max_delay_10_min\\ih\\config.yaml-performance.json\n",
      "17:04:01 [INFO] Loading json file from: C:\\Google Drive\\AIC Experiment Data\\DARP\\ITSC_instance_paper\\old\\Results\\DC\\start_18-00\\duration_005_min\\max_delay_10_min\\ih\\config.yaml-solution.json\n",
      "17:04:01 [INFO] Loading experiment config from C:\\Google Drive\\AIC Experiment Data\\DARP\\ITSC_instance_paper\\old\\Results\\DC\\start_18-00\\duration_005_min\\max_delay_10_min\\ih\\config.yaml\n",
      "17:04:01 [INFO] Loading instance config from C:\\Google Drive\\AIC Experiment Data\\DARP\\ITSC_instance_paper\\old\\Instances\\DC\\instances\\start_18-00\\duration_005_min\\max_delay_10_min\\config.yaml\n",
      "17:04:01 [WARNING] No solution found in folder: C:\\Google Drive\\AIC Experiment Data\\DARP\\ITSC_instance_paper\\old\\Results\\DC\\start_18-00\\duration_005_min\\max_delay_10_min\\vga\n",
      "17:04:01 [INFO] Loading json file from: C:\\Google Drive\\AIC Experiment Data\\DARP\\ITSC_instance_paper\\old\\Results\\DC\\start_18-00\\duration_015_min\\max_delay_03_min\\halns-ih\\config.yaml-performance.json\n",
      "17:04:01 [INFO] Loading json file from: C:\\Google Drive\\AIC Experiment Data\\DARP\\ITSC_instance_paper\\old\\Results\\DC\\start_18-00\\duration_015_min\\max_delay_03_min\\halns-ih\\config.yaml-solution.json\n",
      "17:04:01 [INFO] Loading experiment config from C:\\Google Drive\\AIC Experiment Data\\DARP\\ITSC_instance_paper\\old\\Results\\DC\\start_18-00\\duration_015_min\\max_delay_03_min\\halns-ih\\config.yaml\n",
      "17:04:01 [INFO] Loading instance config from C:\\Google Drive\\AIC Experiment Data\\DARP\\ITSC_instance_paper\\old\\Instances\\DC\\instances\\start_18-00\\duration_015_min\\max_delay_03_min\\config.yaml\n",
      "17:04:01 [INFO] Loading json file from: C:\\Google Drive\\AIC Experiment Data\\DARP\\ITSC_instance_paper\\old\\Results\\DC\\start_18-00\\duration_015_min\\max_delay_03_min\\ih\\config.yaml-performance.json\n",
      "17:04:01 [INFO] Loading json file from: C:\\Google Drive\\AIC Experiment Data\\DARP\\ITSC_instance_paper\\old\\Results\\DC\\start_18-00\\duration_015_min\\max_delay_03_min\\ih\\config.yaml-solution.json\n",
      "17:04:01 [INFO] Loading experiment config from C:\\Google Drive\\AIC Experiment Data\\DARP\\ITSC_instance_paper\\old\\Results\\DC\\start_18-00\\duration_015_min\\max_delay_03_min\\ih\\config.yaml\n",
      "17:04:01 [INFO] Loading instance config from C:\\Google Drive\\AIC Experiment Data\\DARP\\ITSC_instance_paper\\old\\Instances\\DC\\instances\\start_18-00\\duration_015_min\\max_delay_03_min\\config.yaml\n",
      "17:04:01 [WARNING] No solution found in folder: C:\\Google Drive\\AIC Experiment Data\\DARP\\ITSC_instance_paper\\old\\Results\\DC\\start_18-00\\duration_015_min\\max_delay_03_min\\vga\n",
      "17:04:01 [INFO] Loading json file from: C:\\Google Drive\\AIC Experiment Data\\DARP\\ITSC_instance_paper\\old\\Results\\DC\\start_18-00\\duration_015_min\\max_delay_05_min\\halns\\config.yaml-performance.json\n",
      "17:04:01 [INFO] Loading json file from: C:\\Google Drive\\AIC Experiment Data\\DARP\\ITSC_instance_paper\\old\\Results\\DC\\start_18-00\\duration_015_min\\max_delay_05_min\\halns\\config.yaml-solution.json\n",
      "17:04:01 [INFO] Loading experiment config from C:\\Google Drive\\AIC Experiment Data\\DARP\\ITSC_instance_paper\\old\\Results\\DC\\start_18-00\\duration_015_min\\max_delay_05_min\\halns\\config.yaml\n",
      "17:04:01 [INFO] Loading instance config from C:\\Google Drive\\AIC Experiment Data\\DARP\\ITSC_instance_paper\\old\\Instances\\DC\\instances\\start_18-00\\duration_015_min\\max_delay_05_min\\config.yaml\n",
      "17:04:01 [INFO] Loading json file from: C:\\Google Drive\\AIC Experiment Data\\DARP\\ITSC_instance_paper\\old\\Results\\DC\\start_18-00\\duration_015_min\\max_delay_05_min\\halns-ih\\config.yaml-performance.json\n",
      "17:04:01 [INFO] Loading json file from: C:\\Google Drive\\AIC Experiment Data\\DARP\\ITSC_instance_paper\\old\\Results\\DC\\start_18-00\\duration_015_min\\max_delay_05_min\\halns-ih\\config.yaml-solution.json\n",
      "17:04:01 [INFO] Loading experiment config from C:\\Google Drive\\AIC Experiment Data\\DARP\\ITSC_instance_paper\\old\\Results\\DC\\start_18-00\\duration_015_min\\max_delay_05_min\\halns-ih\\config.yaml\n",
      "17:04:01 [INFO] Loading instance config from C:\\Google Drive\\AIC Experiment Data\\DARP\\ITSC_instance_paper\\old\\Instances\\DC\\instances\\start_18-00\\duration_015_min\\max_delay_05_min\\config.yaml\n",
      "17:04:01 [INFO] Loading json file from: C:\\Google Drive\\AIC Experiment Data\\DARP\\ITSC_instance_paper\\old\\Results\\DC\\start_18-00\\duration_015_min\\max_delay_05_min\\ih\\config.yaml-performance.json\n",
      "17:04:01 [INFO] Loading json file from: C:\\Google Drive\\AIC Experiment Data\\DARP\\ITSC_instance_paper\\old\\Results\\DC\\start_18-00\\duration_015_min\\max_delay_05_min\\ih\\config.yaml-solution.json\n",
      "17:04:01 [INFO] Loading experiment config from C:\\Google Drive\\AIC Experiment Data\\DARP\\ITSC_instance_paper\\old\\Results\\DC\\start_18-00\\duration_015_min\\max_delay_05_min\\ih\\config.yaml\n",
      "17:04:01 [INFO] Loading instance config from C:\\Google Drive\\AIC Experiment Data\\DARP\\ITSC_instance_paper\\old\\Instances\\DC\\instances\\start_18-00\\duration_015_min\\max_delay_05_min\\config.yaml\n",
      "17:04:01 [WARNING] No solution found in folder: C:\\Google Drive\\AIC Experiment Data\\DARP\\ITSC_instance_paper\\old\\Results\\DC\\start_18-00\\duration_015_min\\max_delay_05_min\\vga\n",
      "17:04:01 [INFO] Loading json file from: C:\\Google Drive\\AIC Experiment Data\\DARP\\ITSC_instance_paper\\old\\Results\\DC\\start_18-00\\duration_015_min\\max_delay_10_min\\halns\\config.yaml-performance.json\n",
      "17:04:01 [INFO] Loading json file from: C:\\Google Drive\\AIC Experiment Data\\DARP\\ITSC_instance_paper\\old\\Results\\DC\\start_18-00\\duration_015_min\\max_delay_10_min\\halns\\config.yaml-solution.json\n",
      "17:04:01 [INFO] Loading experiment config from C:\\Google Drive\\AIC Experiment Data\\DARP\\ITSC_instance_paper\\old\\Results\\DC\\start_18-00\\duration_015_min\\max_delay_10_min\\halns\\config.yaml\n",
      "17:04:01 [INFO] Loading instance config from C:\\Google Drive\\AIC Experiment Data\\DARP\\ITSC_instance_paper\\old\\Instances\\DC\\instances\\start_18-00\\duration_015_min\\max_delay_10_min\\config.yaml\n",
      "17:04:01 [INFO] Loading json file from: C:\\Google Drive\\AIC Experiment Data\\DARP\\ITSC_instance_paper\\old\\Results\\DC\\start_18-00\\duration_015_min\\max_delay_10_min\\halns-ih\\config.yaml-performance.json\n",
      "17:04:01 [INFO] Loading json file from: C:\\Google Drive\\AIC Experiment Data\\DARP\\ITSC_instance_paper\\old\\Results\\DC\\start_18-00\\duration_015_min\\max_delay_10_min\\halns-ih\\config.yaml-solution.json\n",
      "17:04:01 [INFO] Loading experiment config from C:\\Google Drive\\AIC Experiment Data\\DARP\\ITSC_instance_paper\\old\\Results\\DC\\start_18-00\\duration_015_min\\max_delay_10_min\\halns-ih\\config.yaml\n",
      "17:04:01 [INFO] Loading instance config from C:\\Google Drive\\AIC Experiment Data\\DARP\\ITSC_instance_paper\\old\\Instances\\DC\\instances\\start_18-00\\duration_015_min\\max_delay_10_min\\config.yaml\n",
      "17:04:01 [INFO] Loading json file from: C:\\Google Drive\\AIC Experiment Data\\DARP\\ITSC_instance_paper\\old\\Results\\DC\\start_18-00\\duration_015_min\\max_delay_10_min\\ih\\config.yaml-performance.json\n",
      "17:04:01 [INFO] Loading json file from: C:\\Google Drive\\AIC Experiment Data\\DARP\\ITSC_instance_paper\\old\\Results\\DC\\start_18-00\\duration_015_min\\max_delay_10_min\\ih\\config.yaml-solution.json\n",
      "17:04:01 [INFO] Loading experiment config from C:\\Google Drive\\AIC Experiment Data\\DARP\\ITSC_instance_paper\\old\\Results\\DC\\start_18-00\\duration_015_min\\max_delay_10_min\\ih\\config.yaml\n",
      "17:04:01 [INFO] Loading instance config from C:\\Google Drive\\AIC Experiment Data\\DARP\\ITSC_instance_paper\\old\\Instances\\DC\\instances\\start_18-00\\duration_015_min\\max_delay_10_min\\config.yaml\n",
      "17:04:01 [WARNING] No solution found in folder: C:\\Google Drive\\AIC Experiment Data\\DARP\\ITSC_instance_paper\\old\\Results\\DC\\start_18-00\\duration_015_min\\max_delay_10_min\\vga\n",
      "17:04:01 [INFO] Loading json file from: C:\\Google Drive\\AIC Experiment Data\\DARP\\ITSC_instance_paper\\old\\Results\\DC\\start_18-00\\duration_030_min\\max_delay_03_min\\halns\\config.yaml-performance.json\n",
      "17:04:01 [INFO] Loading json file from: C:\\Google Drive\\AIC Experiment Data\\DARP\\ITSC_instance_paper\\old\\Results\\DC\\start_18-00\\duration_030_min\\max_delay_03_min\\halns\\config.yaml-solution.json\n",
      "17:04:01 [INFO] Loading experiment config from C:\\Google Drive\\AIC Experiment Data\\DARP\\ITSC_instance_paper\\old\\Results\\DC\\start_18-00\\duration_030_min\\max_delay_03_min\\halns\\config.yaml\n",
      "17:04:01 [INFO] Loading instance config from C:\\Google Drive\\AIC Experiment Data\\DARP\\ITSC_instance_paper\\old\\Instances\\DC\\instances\\start_18-00\\duration_030_min\\max_delay_03_min\\config.yaml\n",
      "17:04:01 [INFO] Loading json file from: C:\\Google Drive\\AIC Experiment Data\\DARP\\ITSC_instance_paper\\old\\Results\\DC\\start_18-00\\duration_030_min\\max_delay_03_min\\halns-ih\\config.yaml-performance.json\n",
      "17:04:01 [INFO] Loading json file from: C:\\Google Drive\\AIC Experiment Data\\DARP\\ITSC_instance_paper\\old\\Results\\DC\\start_18-00\\duration_030_min\\max_delay_03_min\\halns-ih\\config.yaml-solution.json\n",
      "17:04:01 [INFO] Loading experiment config from C:\\Google Drive\\AIC Experiment Data\\DARP\\ITSC_instance_paper\\old\\Results\\DC\\start_18-00\\duration_030_min\\max_delay_03_min\\halns-ih\\config.yaml\n",
      "17:04:01 [INFO] Loading instance config from C:\\Google Drive\\AIC Experiment Data\\DARP\\ITSC_instance_paper\\old\\Instances\\DC\\instances\\start_18-00\\duration_030_min\\max_delay_03_min\\config.yaml\n",
      "17:04:01 [INFO] Loading json file from: C:\\Google Drive\\AIC Experiment Data\\DARP\\ITSC_instance_paper\\old\\Results\\DC\\start_18-00\\duration_030_min\\max_delay_03_min\\ih\\config.yaml-performance.json\n",
      "17:04:01 [INFO] Loading json file from: C:\\Google Drive\\AIC Experiment Data\\DARP\\ITSC_instance_paper\\old\\Results\\DC\\start_18-00\\duration_030_min\\max_delay_03_min\\ih\\config.yaml-solution.json\n",
      "17:04:01 [INFO] Loading experiment config from C:\\Google Drive\\AIC Experiment Data\\DARP\\ITSC_instance_paper\\old\\Results\\DC\\start_18-00\\duration_030_min\\max_delay_03_min\\ih\\config.yaml\n",
      "17:04:01 [INFO] Loading instance config from C:\\Google Drive\\AIC Experiment Data\\DARP\\ITSC_instance_paper\\old\\Instances\\DC\\instances\\start_18-00\\duration_030_min\\max_delay_03_min\\config.yaml\n",
      "17:04:01 [WARNING] No solution found in folder: C:\\Google Drive\\AIC Experiment Data\\DARP\\ITSC_instance_paper\\old\\Results\\DC\\start_18-00\\duration_030_min\\max_delay_03_min\\vga\n",
      "17:04:01 [INFO] Loading json file from: C:\\Google Drive\\AIC Experiment Data\\DARP\\ITSC_instance_paper\\old\\Results\\DC\\start_18-00\\duration_030_min\\max_delay_05_min\\halns\\config.yaml-performance.json\n",
      "17:04:01 [INFO] Loading json file from: C:\\Google Drive\\AIC Experiment Data\\DARP\\ITSC_instance_paper\\old\\Results\\DC\\start_18-00\\duration_030_min\\max_delay_05_min\\halns\\config.yaml-solution.json\n",
      "17:04:01 [INFO] Loading experiment config from C:\\Google Drive\\AIC Experiment Data\\DARP\\ITSC_instance_paper\\old\\Results\\DC\\start_18-00\\duration_030_min\\max_delay_05_min\\halns\\config.yaml\n",
      "17:04:01 [INFO] Loading instance config from C:\\Google Drive\\AIC Experiment Data\\DARP\\ITSC_instance_paper\\old\\Instances\\DC\\instances\\start_18-00\\duration_030_min\\max_delay_05_min\\config.yaml\n",
      "17:04:01 [INFO] Loading json file from: C:\\Google Drive\\AIC Experiment Data\\DARP\\ITSC_instance_paper\\old\\Results\\DC\\start_18-00\\duration_030_min\\max_delay_05_min\\halns-ih\\config.yaml-performance.json\n",
      "17:04:01 [INFO] Loading json file from: C:\\Google Drive\\AIC Experiment Data\\DARP\\ITSC_instance_paper\\old\\Results\\DC\\start_18-00\\duration_030_min\\max_delay_05_min\\halns-ih\\config.yaml-solution.json\n",
      "17:04:01 [INFO] Loading experiment config from C:\\Google Drive\\AIC Experiment Data\\DARP\\ITSC_instance_paper\\old\\Results\\DC\\start_18-00\\duration_030_min\\max_delay_05_min\\halns-ih\\config.yaml\n",
      "17:04:01 [INFO] Loading instance config from C:\\Google Drive\\AIC Experiment Data\\DARP\\ITSC_instance_paper\\old\\Instances\\DC\\instances\\start_18-00\\duration_030_min\\max_delay_05_min\\config.yaml\n",
      "17:04:01 [INFO] Loading json file from: C:\\Google Drive\\AIC Experiment Data\\DARP\\ITSC_instance_paper\\old\\Results\\DC\\start_18-00\\duration_030_min\\max_delay_05_min\\ih\\config.yaml-performance.json\n",
      "17:04:01 [INFO] Loading json file from: C:\\Google Drive\\AIC Experiment Data\\DARP\\ITSC_instance_paper\\old\\Results\\DC\\start_18-00\\duration_030_min\\max_delay_05_min\\ih\\config.yaml-solution.json\n",
      "17:04:01 [INFO] Loading experiment config from C:\\Google Drive\\AIC Experiment Data\\DARP\\ITSC_instance_paper\\old\\Results\\DC\\start_18-00\\duration_030_min\\max_delay_05_min\\ih\\config.yaml\n",
      "17:04:01 [INFO] Loading instance config from C:\\Google Drive\\AIC Experiment Data\\DARP\\ITSC_instance_paper\\old\\Instances\\DC\\instances\\start_18-00\\duration_030_min\\max_delay_05_min\\config.yaml\n",
      "17:04:01 [WARNING] No solution found in folder: C:\\Google Drive\\AIC Experiment Data\\DARP\\ITSC_instance_paper\\old\\Results\\DC\\start_18-00\\duration_030_min\\max_delay_05_min\\vga\n",
      "17:04:01 [INFO] Loading json file from: C:\\Google Drive\\AIC Experiment Data\\DARP\\ITSC_instance_paper\\old\\Results\\DC\\start_18-00\\duration_030_min\\max_delay_10_min\\halns-ih\\config.yaml-performance.json\n",
      "17:04:01 [INFO] Loading json file from: C:\\Google Drive\\AIC Experiment Data\\DARP\\ITSC_instance_paper\\old\\Results\\DC\\start_18-00\\duration_030_min\\max_delay_10_min\\halns-ih\\config.yaml-solution.json\n",
      "17:04:01 [INFO] Loading experiment config from C:\\Google Drive\\AIC Experiment Data\\DARP\\ITSC_instance_paper\\old\\Results\\DC\\start_18-00\\duration_030_min\\max_delay_10_min\\halns-ih\\config.yaml\n",
      "17:04:01 [INFO] Loading instance config from C:\\Google Drive\\AIC Experiment Data\\DARP\\ITSC_instance_paper\\old\\Instances\\DC\\instances\\start_18-00\\duration_030_min\\max_delay_10_min\\config.yaml\n",
      "17:04:01 [INFO] Loading json file from: C:\\Google Drive\\AIC Experiment Data\\DARP\\ITSC_instance_paper\\old\\Results\\DC\\start_18-00\\duration_030_min\\max_delay_10_min\\ih\\config.yaml-performance.json\n",
      "17:04:01 [INFO] Loading json file from: C:\\Google Drive\\AIC Experiment Data\\DARP\\ITSC_instance_paper\\old\\Results\\DC\\start_18-00\\duration_030_min\\max_delay_10_min\\ih\\config.yaml-solution.json\n",
      "17:04:01 [INFO] Loading experiment config from C:\\Google Drive\\AIC Experiment Data\\DARP\\ITSC_instance_paper\\old\\Results\\DC\\start_18-00\\duration_030_min\\max_delay_10_min\\ih\\config.yaml\n",
      "17:04:01 [INFO] Loading instance config from C:\\Google Drive\\AIC Experiment Data\\DARP\\ITSC_instance_paper\\old\\Instances\\DC\\instances\\start_18-00\\duration_030_min\\max_delay_10_min\\config.yaml\n",
      "17:04:01 [WARNING] No solution found in folder: C:\\Google Drive\\AIC Experiment Data\\DARP\\ITSC_instance_paper\\old\\Results\\DC\\start_18-00\\duration_030_min\\max_delay_10_min\\vga\n",
      "17:04:01 [WARNING] No solution found in folder: C:\\Google Drive\\AIC Experiment Data\\DARP\\ITSC_instance_paper\\old\\Results\\DC\\start_18-00\\duration_120_min\\max_delay_03_min\\halns\n",
      "17:04:01 [INFO] Loading json file from: C:\\Google Drive\\AIC Experiment Data\\DARP\\ITSC_instance_paper\\old\\Results\\DC\\start_18-00\\duration_120_min\\max_delay_03_min\\halns-ih\\config.yaml-performance.json\n",
      "17:04:01 [INFO] Loading json file from: C:\\Google Drive\\AIC Experiment Data\\DARP\\ITSC_instance_paper\\old\\Results\\DC\\start_18-00\\duration_120_min\\max_delay_03_min\\halns-ih\\config.yaml-solution.json\n",
      "17:04:01 [INFO] Loading experiment config from C:\\Google Drive\\AIC Experiment Data\\DARP\\ITSC_instance_paper\\old\\Results\\DC\\start_18-00\\duration_120_min\\max_delay_03_min\\halns-ih\\config.yaml\n",
      "17:04:01 [INFO] Loading instance config from C:\\Google Drive\\AIC Experiment Data\\DARP\\ITSC_instance_paper\\old\\Instances\\DC\\instances\\start_18-00\\duration_120_min\\max_delay_03_min\\config.yaml\n",
      "17:04:01 [INFO] Loading json file from: C:\\Google Drive\\AIC Experiment Data\\DARP\\ITSC_instance_paper\\old\\Results\\DC\\start_18-00\\duration_120_min\\max_delay_03_min\\ih\\config.yaml-performance.json\n",
      "17:04:01 [INFO] Loading json file from: C:\\Google Drive\\AIC Experiment Data\\DARP\\ITSC_instance_paper\\old\\Results\\DC\\start_18-00\\duration_120_min\\max_delay_03_min\\ih\\config.yaml-solution.json\n",
      "17:04:01 [INFO] Loading experiment config from C:\\Google Drive\\AIC Experiment Data\\DARP\\ITSC_instance_paper\\old\\Results\\DC\\start_18-00\\duration_120_min\\max_delay_03_min\\ih\\config.yaml\n",
      "17:04:01 [INFO] Loading instance config from C:\\Google Drive\\AIC Experiment Data\\DARP\\ITSC_instance_paper\\old\\Instances\\DC\\instances\\start_18-00\\duration_120_min\\max_delay_03_min\\config.yaml\n",
      "17:04:01 [WARNING] No solution found in folder: C:\\Google Drive\\AIC Experiment Data\\DARP\\ITSC_instance_paper\\old\\Results\\DC\\start_18-00\\duration_120_min\\max_delay_03_min\\vga\n",
      "17:04:01 [WARNING] No solution found in folder: C:\\Google Drive\\AIC Experiment Data\\DARP\\ITSC_instance_paper\\old\\Results\\DC\\start_18-00\\duration_120_min\\max_delay_05_min\\halns\n",
      "17:04:01 [INFO] Loading json file from: C:\\Google Drive\\AIC Experiment Data\\DARP\\ITSC_instance_paper\\old\\Results\\DC\\start_18-00\\duration_120_min\\max_delay_05_min\\halns-ih\\config.yaml-performance.json\n",
      "17:04:01 [INFO] Loading json file from: C:\\Google Drive\\AIC Experiment Data\\DARP\\ITSC_instance_paper\\old\\Results\\DC\\start_18-00\\duration_120_min\\max_delay_05_min\\halns-ih\\config.yaml-solution.json\n",
      "17:04:01 [INFO] Loading experiment config from C:\\Google Drive\\AIC Experiment Data\\DARP\\ITSC_instance_paper\\old\\Results\\DC\\start_18-00\\duration_120_min\\max_delay_05_min\\halns-ih\\config.yaml\n",
      "17:04:01 [INFO] Loading instance config from C:\\Google Drive\\AIC Experiment Data\\DARP\\ITSC_instance_paper\\old\\Instances\\DC\\instances\\start_18-00\\duration_120_min\\max_delay_05_min\\config.yaml\n",
      "17:04:01 [INFO] Loading json file from: C:\\Google Drive\\AIC Experiment Data\\DARP\\ITSC_instance_paper\\old\\Results\\DC\\start_18-00\\duration_120_min\\max_delay_05_min\\ih\\config.yaml-performance.json\n",
      "17:04:01 [INFO] Loading json file from: C:\\Google Drive\\AIC Experiment Data\\DARP\\ITSC_instance_paper\\old\\Results\\DC\\start_18-00\\duration_120_min\\max_delay_05_min\\ih\\config.yaml-solution.json\n",
      "17:04:01 [INFO] Loading experiment config from C:\\Google Drive\\AIC Experiment Data\\DARP\\ITSC_instance_paper\\old\\Results\\DC\\start_18-00\\duration_120_min\\max_delay_05_min\\ih\\config.yaml\n",
      "17:04:01 [INFO] Loading instance config from C:\\Google Drive\\AIC Experiment Data\\DARP\\ITSC_instance_paper\\old\\Instances\\DC\\instances\\start_18-00\\duration_120_min\\max_delay_05_min\\config.yaml\n",
      "17:04:01 [WARNING] No solution found in folder: C:\\Google Drive\\AIC Experiment Data\\DARP\\ITSC_instance_paper\\old\\Results\\DC\\start_18-00\\duration_120_min\\max_delay_05_min\\vga\n",
      "17:04:01 [WARNING] No solution found in folder: C:\\Google Drive\\AIC Experiment Data\\DARP\\ITSC_instance_paper\\old\\Results\\DC\\start_18-00\\duration_120_min\\max_delay_10_min\\halns\n",
      "17:04:02 [WARNING] No solution found in folder: C:\\Google Drive\\AIC Experiment Data\\DARP\\ITSC_instance_paper\\old\\Results\\DC\\start_18-00\\duration_120_min\\max_delay_10_min\\halns-ih\n",
      "17:04:02 [INFO] Loading json file from: C:\\Google Drive\\AIC Experiment Data\\DARP\\ITSC_instance_paper\\old\\Results\\DC\\start_18-00\\duration_120_min\\max_delay_10_min\\ih\\config.yaml-performance.json\n",
      "17:04:02 [INFO] Loading json file from: C:\\Google Drive\\AIC Experiment Data\\DARP\\ITSC_instance_paper\\old\\Results\\DC\\start_18-00\\duration_120_min\\max_delay_10_min\\ih\\config.yaml-solution.json\n",
      "17:04:02 [INFO] Loading experiment config from C:\\Google Drive\\AIC Experiment Data\\DARP\\ITSC_instance_paper\\old\\Results\\DC\\start_18-00\\duration_120_min\\max_delay_10_min\\ih\\config.yaml\n",
      "17:04:02 [INFO] Loading instance config from C:\\Google Drive\\AIC Experiment Data\\DARP\\ITSC_instance_paper\\old\\Instances\\DC\\instances\\start_18-00\\duration_120_min\\max_delay_10_min\\config.yaml\n",
      "17:04:02 [WARNING] No solution found in folder: C:\\Google Drive\\AIC Experiment Data\\DARP\\ITSC_instance_paper\\old\\Results\\DC\\start_18-00\\duration_120_min\\max_delay_10_min\\vga\n",
      "17:04:02 [WARNING] No solution found in folder: C:\\Google Drive\\AIC Experiment Data\\DARP\\ITSC_instance_paper\\old\\Results\\DC\\start_18-00\\duration_960_min\\max_delay_03_min\\halns\n",
      "17:04:02 [INFO] Loading json file from: C:\\Google Drive\\AIC Experiment Data\\DARP\\ITSC_instance_paper\\old\\Results\\DC\\start_18-00\\duration_960_min\\max_delay_03_min\\halns-ih\\config.yaml-performance.json\n",
      "17:04:02 [INFO] Loading json file from: C:\\Google Drive\\AIC Experiment Data\\DARP\\ITSC_instance_paper\\old\\Results\\DC\\start_18-00\\duration_960_min\\max_delay_03_min\\halns-ih\\config.yaml-solution.json\n",
      "17:04:02 [INFO] Loading experiment config from C:\\Google Drive\\AIC Experiment Data\\DARP\\ITSC_instance_paper\\old\\Results\\DC\\start_18-00\\duration_960_min\\max_delay_03_min\\halns-ih\\config.yaml\n",
      "17:04:02 [INFO] Loading instance config from C:\\Google Drive\\AIC Experiment Data\\DARP\\ITSC_instance_paper\\old\\Instances\\DC\\instances\\start_18-00\\duration_960_min\\max_delay_03_min\\config.yaml\n",
      "17:04:02 [INFO] Loading json file from: C:\\Google Drive\\AIC Experiment Data\\DARP\\ITSC_instance_paper\\old\\Results\\DC\\start_18-00\\duration_960_min\\max_delay_03_min\\ih\\config.yaml-performance.json\n",
      "17:04:02 [INFO] Loading json file from: C:\\Google Drive\\AIC Experiment Data\\DARP\\ITSC_instance_paper\\old\\Results\\DC\\start_18-00\\duration_960_min\\max_delay_03_min\\ih\\config.yaml-solution.json\n",
      "17:04:02 [INFO] Loading experiment config from C:\\Google Drive\\AIC Experiment Data\\DARP\\ITSC_instance_paper\\old\\Results\\DC\\start_18-00\\duration_960_min\\max_delay_03_min\\ih\\config.yaml\n",
      "17:04:02 [INFO] Loading instance config from C:\\Google Drive\\AIC Experiment Data\\DARP\\ITSC_instance_paper\\old\\Instances\\DC\\instances\\start_18-00\\duration_960_min\\max_delay_03_min\\config.yaml\n",
      "17:04:02 [WARNING] No solution found in folder: C:\\Google Drive\\AIC Experiment Data\\DARP\\ITSC_instance_paper\\old\\Results\\DC\\start_18-00\\duration_960_min\\max_delay_03_min\\vga\n",
      "17:04:02 [WARNING] No solution found in folder: C:\\Google Drive\\AIC Experiment Data\\DARP\\ITSC_instance_paper\\old\\Results\\DC\\start_18-00\\duration_960_min\\max_delay_05_min\\halns\n",
      "17:04:02 [WARNING] No solution found in folder: C:\\Google Drive\\AIC Experiment Data\\DARP\\ITSC_instance_paper\\old\\Results\\DC\\start_18-00\\duration_960_min\\max_delay_05_min\\halns-ih\n",
      "17:04:02 [INFO] Loading json file from: C:\\Google Drive\\AIC Experiment Data\\DARP\\ITSC_instance_paper\\old\\Results\\DC\\start_18-00\\duration_960_min\\max_delay_05_min\\ih\\config.yaml-performance.json\n",
      "17:04:02 [INFO] Loading json file from: C:\\Google Drive\\AIC Experiment Data\\DARP\\ITSC_instance_paper\\old\\Results\\DC\\start_18-00\\duration_960_min\\max_delay_05_min\\ih\\config.yaml-solution.json\n",
      "17:04:02 [INFO] Loading experiment config from C:\\Google Drive\\AIC Experiment Data\\DARP\\ITSC_instance_paper\\old\\Results\\DC\\start_18-00\\duration_960_min\\max_delay_05_min\\ih\\config.yaml\n",
      "17:04:02 [INFO] Loading instance config from C:\\Google Drive\\AIC Experiment Data\\DARP\\ITSC_instance_paper\\old\\Instances\\DC\\instances\\start_18-00\\duration_960_min\\max_delay_05_min\\config.yaml\n",
      "17:04:02 [WARNING] No solution found in folder: C:\\Google Drive\\AIC Experiment Data\\DARP\\ITSC_instance_paper\\old\\Results\\DC\\start_18-00\\duration_960_min\\max_delay_05_min\\vga\n",
      "17:04:02 [WARNING] No solution found in folder: C:\\Google Drive\\AIC Experiment Data\\DARP\\ITSC_instance_paper\\old\\Results\\DC\\start_18-00\\duration_960_min\\max_delay_10_min\\halns\n",
      "17:04:02 [WARNING] No solution found in folder: C:\\Google Drive\\AIC Experiment Data\\DARP\\ITSC_instance_paper\\old\\Results\\DC\\start_18-00\\duration_960_min\\max_delay_10_min\\halns-ih\n",
      "17:04:02 [INFO] Loading json file from: C:\\Google Drive\\AIC Experiment Data\\DARP\\ITSC_instance_paper\\old\\Results\\DC\\start_18-00\\duration_960_min\\max_delay_10_min\\ih\\config.yaml-performance.json\n",
      "17:04:02 [INFO] Loading json file from: C:\\Google Drive\\AIC Experiment Data\\DARP\\ITSC_instance_paper\\old\\Results\\DC\\start_18-00\\duration_960_min\\max_delay_10_min\\ih\\config.yaml-solution.json\n",
      "17:04:02 [INFO] Loading experiment config from C:\\Google Drive\\AIC Experiment Data\\DARP\\ITSC_instance_paper\\old\\Results\\DC\\start_18-00\\duration_960_min\\max_delay_10_min\\ih\\config.yaml\n",
      "17:04:02 [INFO] Loading instance config from C:\\Google Drive\\AIC Experiment Data\\DARP\\ITSC_instance_paper\\old\\Instances\\DC\\instances\\start_18-00\\duration_960_min\\max_delay_10_min\\config.yaml\n",
      "17:04:02 [WARNING] No solution found in folder: C:\\Google Drive\\AIC Experiment Data\\DARP\\ITSC_instance_paper\\old\\Results\\DC\\start_18-00\\duration_960_min\\max_delay_10_min\\vga\n"
     ]
    },
    {
     "data": {
      "text/plain": "    cost_minutes  total_time  dropped_requests   avg_delay  plan_count   \n0          31291       4.939                 0  649.588303        2040  \\\n1          29165       6.058                 0  692.985952        1623   \n2          27745       7.079                 0  788.497993        1184   \n3          84321      43.268                 0  653.297246        4791   \n4          78006      41.753                 0  697.790764        3816   \n..           ...         ...               ...         ...         ...   \n70          5216       0.489                 0  523.987775         283   \n71         15001    9266.477                 0  387.339096         932   \n72         15053       2.164                 0  392.845314         939   \n73         14035       2.103                 0  429.952684         794   \n74         13015       2.075                 0  505.841978         604   \n\n    req_count  avg_occupancy  used_connections  total_driving_duration   \n0        3488       1.203135                -1                 1877450  \\\n1        3488       1.377924                -1                 1749883   \n2        3488       1.649940                -1                 1664689   \n3       10567       1.354346                -1                 5059242   \n4       10567       1.565468                -1                 4680354   \n..        ...            ...               ...                     ...   \n70       1227       1.957308                -1                  312962   \n71       3297       1.408142                -1                  900060   \n72       3297       1.406866                -1                  903168   \n73       3297       1.634182                -1                  842107   \n74       3297       2.039316                -1                  780871   \n\n    total_waiting_duration  avg_waiting_duration  tts_cost  tts_cost_per_plan   \n0                     6606              3.238235    130288          63.866667  \\\n1                     5312              3.272951    101949          62.815157   \n2                     3606              3.045608     65528          55.344595   \n3                    59559             12.431434    154873          32.325819   \n4                    43515             11.403302    135304          35.457023   \n..                     ...                   ...       ...                ...   \n70                  108646            383.908127      4687          16.561837   \n71                 2745182           2945.474249     11251          12.071888   \n72                 2788436           2969.580405     10909          11.617678   \n73                 1808372           2277.546599     10875          13.696474   \n74                 1112067           1841.170530      8056          13.337748   \n\n   method  max_delay          start_time            end_time   \n0      ih        180 2022-04-05 18:00:00 2022-04-05 18:05:00  \\\n1      ih        300 2022-04-05 18:00:00 2022-04-05 18:05:00   \n2      ih        600 2022-04-05 18:00:00 2022-04-05 18:05:00   \n3      ih        180 2022-04-05 18:00:00 2022-04-05 18:15:00   \n4      ih        300 2022-04-05 18:00:00 2022-04-05 18:15:00   \n..    ...        ...                 ...                 ...   \n70     ih        600 2022-04-05 18:00:00 2022-04-05 20:00:00   \n71  halns        180 2022-04-05 18:00:00 2022-04-06 10:00:00   \n72     ih        180 2022-04-05 18:00:00 2022-04-06 10:00:00   \n73     ih        300 2022-04-05 18:00:00 2022-04-06 10:00:00   \n74     ih        600 2022-04-05 18:00:00 2022-04-06 10:00:00   \n\n    duration_minutes area  \n0                  5  NYC  \n1                  5  NYC  \n2                  5  NYC  \n3                 15  NYC  \n4                 15  NYC  \n..               ...  ...  \n70               120   DC  \n71               960   DC  \n72               960   DC  \n73               960   DC  \n74               960   DC  \n\n[75 rows x 19 columns]",
      "text/html": "<div>\n<style scoped>\n    .dataframe tbody tr th:only-of-type {\n        vertical-align: middle;\n    }\n\n    .dataframe tbody tr th {\n        vertical-align: top;\n    }\n\n    .dataframe thead th {\n        text-align: right;\n    }\n</style>\n<table border=\"1\" class=\"dataframe\">\n  <thead>\n    <tr style=\"text-align: right;\">\n      <th></th>\n      <th>cost_minutes</th>\n      <th>total_time</th>\n      <th>dropped_requests</th>\n      <th>avg_delay</th>\n      <th>plan_count</th>\n      <th>req_count</th>\n      <th>avg_occupancy</th>\n      <th>used_connections</th>\n      <th>total_driving_duration</th>\n      <th>total_waiting_duration</th>\n      <th>avg_waiting_duration</th>\n      <th>tts_cost</th>\n      <th>tts_cost_per_plan</th>\n      <th>method</th>\n      <th>max_delay</th>\n      <th>start_time</th>\n      <th>end_time</th>\n      <th>duration_minutes</th>\n      <th>area</th>\n    </tr>\n  </thead>\n  <tbody>\n    <tr>\n      <th>0</th>\n      <td>31291</td>\n      <td>4.939</td>\n      <td>0</td>\n      <td>649.588303</td>\n      <td>2040</td>\n      <td>3488</td>\n      <td>1.203135</td>\n      <td>-1</td>\n      <td>1877450</td>\n      <td>6606</td>\n      <td>3.238235</td>\n      <td>130288</td>\n      <td>63.866667</td>\n      <td>ih</td>\n      <td>180</td>\n      <td>2022-04-05 18:00:00</td>\n      <td>2022-04-05 18:05:00</td>\n      <td>5</td>\n      <td>NYC</td>\n    </tr>\n    <tr>\n      <th>1</th>\n      <td>29165</td>\n      <td>6.058</td>\n      <td>0</td>\n      <td>692.985952</td>\n      <td>1623</td>\n      <td>3488</td>\n      <td>1.377924</td>\n      <td>-1</td>\n      <td>1749883</td>\n      <td>5312</td>\n      <td>3.272951</td>\n      <td>101949</td>\n      <td>62.815157</td>\n      <td>ih</td>\n      <td>300</td>\n      <td>2022-04-05 18:00:00</td>\n      <td>2022-04-05 18:05:00</td>\n      <td>5</td>\n      <td>NYC</td>\n    </tr>\n    <tr>\n      <th>2</th>\n      <td>27745</td>\n      <td>7.079</td>\n      <td>0</td>\n      <td>788.497993</td>\n      <td>1184</td>\n      <td>3488</td>\n      <td>1.649940</td>\n      <td>-1</td>\n      <td>1664689</td>\n      <td>3606</td>\n      <td>3.045608</td>\n      <td>65528</td>\n      <td>55.344595</td>\n      <td>ih</td>\n      <td>600</td>\n      <td>2022-04-05 18:00:00</td>\n      <td>2022-04-05 18:05:00</td>\n      <td>5</td>\n      <td>NYC</td>\n    </tr>\n    <tr>\n      <th>3</th>\n      <td>84321</td>\n      <td>43.268</td>\n      <td>0</td>\n      <td>653.297246</td>\n      <td>4791</td>\n      <td>10567</td>\n      <td>1.354346</td>\n      <td>-1</td>\n      <td>5059242</td>\n      <td>59559</td>\n      <td>12.431434</td>\n      <td>154873</td>\n      <td>32.325819</td>\n      <td>ih</td>\n      <td>180</td>\n      <td>2022-04-05 18:00:00</td>\n      <td>2022-04-05 18:15:00</td>\n      <td>15</td>\n      <td>NYC</td>\n    </tr>\n    <tr>\n      <th>4</th>\n      <td>78006</td>\n      <td>41.753</td>\n      <td>0</td>\n      <td>697.790764</td>\n      <td>3816</td>\n      <td>10567</td>\n      <td>1.565468</td>\n      <td>-1</td>\n      <td>4680354</td>\n      <td>43515</td>\n      <td>11.403302</td>\n      <td>135304</td>\n      <td>35.457023</td>\n      <td>ih</td>\n      <td>300</td>\n      <td>2022-04-05 18:00:00</td>\n      <td>2022-04-05 18:15:00</td>\n      <td>15</td>\n      <td>NYC</td>\n    </tr>\n    <tr>\n      <th>...</th>\n      <td>...</td>\n      <td>...</td>\n      <td>...</td>\n      <td>...</td>\n      <td>...</td>\n      <td>...</td>\n      <td>...</td>\n      <td>...</td>\n      <td>...</td>\n      <td>...</td>\n      <td>...</td>\n      <td>...</td>\n      <td>...</td>\n      <td>...</td>\n      <td>...</td>\n      <td>...</td>\n      <td>...</td>\n      <td>...</td>\n      <td>...</td>\n    </tr>\n    <tr>\n      <th>70</th>\n      <td>5216</td>\n      <td>0.489</td>\n      <td>0</td>\n      <td>523.987775</td>\n      <td>283</td>\n      <td>1227</td>\n      <td>1.957308</td>\n      <td>-1</td>\n      <td>312962</td>\n      <td>108646</td>\n      <td>383.908127</td>\n      <td>4687</td>\n      <td>16.561837</td>\n      <td>ih</td>\n      <td>600</td>\n      <td>2022-04-05 18:00:00</td>\n      <td>2022-04-05 20:00:00</td>\n      <td>120</td>\n      <td>DC</td>\n    </tr>\n    <tr>\n      <th>71</th>\n      <td>15001</td>\n      <td>9266.477</td>\n      <td>0</td>\n      <td>387.339096</td>\n      <td>932</td>\n      <td>3297</td>\n      <td>1.408142</td>\n      <td>-1</td>\n      <td>900060</td>\n      <td>2745182</td>\n      <td>2945.474249</td>\n      <td>11251</td>\n      <td>12.071888</td>\n      <td>halns</td>\n      <td>180</td>\n      <td>2022-04-05 18:00:00</td>\n      <td>2022-04-06 10:00:00</td>\n      <td>960</td>\n      <td>DC</td>\n    </tr>\n    <tr>\n      <th>72</th>\n      <td>15053</td>\n      <td>2.164</td>\n      <td>0</td>\n      <td>392.845314</td>\n      <td>939</td>\n      <td>3297</td>\n      <td>1.406866</td>\n      <td>-1</td>\n      <td>903168</td>\n      <td>2788436</td>\n      <td>2969.580405</td>\n      <td>10909</td>\n      <td>11.617678</td>\n      <td>ih</td>\n      <td>180</td>\n      <td>2022-04-05 18:00:00</td>\n      <td>2022-04-06 10:00:00</td>\n      <td>960</td>\n      <td>DC</td>\n    </tr>\n    <tr>\n      <th>73</th>\n      <td>14035</td>\n      <td>2.103</td>\n      <td>0</td>\n      <td>429.952684</td>\n      <td>794</td>\n      <td>3297</td>\n      <td>1.634182</td>\n      <td>-1</td>\n      <td>842107</td>\n      <td>1808372</td>\n      <td>2277.546599</td>\n      <td>10875</td>\n      <td>13.696474</td>\n      <td>ih</td>\n      <td>300</td>\n      <td>2022-04-05 18:00:00</td>\n      <td>2022-04-06 10:00:00</td>\n      <td>960</td>\n      <td>DC</td>\n    </tr>\n    <tr>\n      <th>74</th>\n      <td>13015</td>\n      <td>2.075</td>\n      <td>0</td>\n      <td>505.841978</td>\n      <td>604</td>\n      <td>3297</td>\n      <td>2.039316</td>\n      <td>-1</td>\n      <td>780871</td>\n      <td>1112067</td>\n      <td>1841.170530</td>\n      <td>8056</td>\n      <td>13.337748</td>\n      <td>ih</td>\n      <td>600</td>\n      <td>2022-04-05 18:00:00</td>\n      <td>2022-04-06 10:00:00</td>\n      <td>960</td>\n      <td>DC</td>\n    </tr>\n  </tbody>\n</table>\n<p>75 rows × 19 columns</p>\n</div>"
     },
     "execution_count": 8,
     "metadata": {},
     "output_type": "execute_result"
    }
   ],
   "source": [
    "df = pd.DataFrame()\n",
    "for area in areas:\n",
    "    res_in_area = load_aggregate_stats_in_dir(final_results_path / area)\n",
    "    res_in_area['area'] = area\n",
    "    df = pd.concat([df, res_in_area], ignore_index=True)\n",
    "df"
   ],
   "metadata": {
    "collapsed": false,
    "ExecuteTime": {
     "end_time": "2023-05-11T15:04:02.244107900Z",
     "start_time": "2023-05-11T15:03:55.231933400Z"
    }
   }
  },
  {
   "cell_type": "code",
   "execution_count": 9,
   "outputs": [
    {
     "data": {
      "text/plain": "    cost_minutes  total_time  dropped_requests   avg_delay  plan_count   \n0          31291       4.939                 0  649.588303        2040  \\\n1          29165       6.058                 0  692.985952        1623   \n2          27745       7.079                 0  788.497993        1184   \n3          84321      43.268                 0  653.297246        4791   \n4          78006      41.753                 0  697.790764        3816   \n..           ...         ...               ...         ...         ...   \n70          5216       0.489                 0  523.987775         283   \n71         15001    9266.477                 0  387.339096         932   \n72         15053       2.164                 0  392.845314         939   \n73         14035       2.103                 0  429.952684         794   \n74         13015       2.075                 0  505.841978         604   \n\n    req_count  avg_occupancy  used_connections  total_driving_duration   \n0        3488       1.203135                -1                 1877450  \\\n1        3488       1.377924                -1                 1749883   \n2        3488       1.649940                -1                 1664689   \n3       10567       1.354346                -1                 5059242   \n4       10567       1.565468                -1                 4680354   \n..        ...            ...               ...                     ...   \n70       1227       1.957308                -1                  312962   \n71       3297       1.408142                -1                  900060   \n72       3297       1.406866                -1                  903168   \n73       3297       1.634182                -1                  842107   \n74       3297       2.039316                -1                  780871   \n\n    total_waiting_duration  avg_waiting_duration  tts_cost  tts_cost_per_plan   \n0                     6606              3.238235    130288          63.866667  \\\n1                     5312              3.272951    101949          62.815157   \n2                     3606              3.045608     65528          55.344595   \n3                    59559             12.431434    154873          32.325819   \n4                    43515             11.403302    135304          35.457023   \n..                     ...                   ...       ...                ...   \n70                  108646            383.908127      4687          16.561837   \n71                 2745182           2945.474249     11251          12.071888   \n72                 2788436           2969.580405     10909          11.617678   \n73                 1808372           2277.546599     10875          13.696474   \n74                 1112067           1841.170530      8056          13.337748   \n\n   method  max_delay          start_time            end_time   \n0      ih        180 2022-04-05 18:00:00 2022-04-05 18:05:00  \\\n1      ih        300 2022-04-05 18:00:00 2022-04-05 18:05:00   \n2      ih        600 2022-04-05 18:00:00 2022-04-05 18:05:00   \n3      ih        180 2022-04-05 18:00:00 2022-04-05 18:15:00   \n4      ih        300 2022-04-05 18:00:00 2022-04-05 18:15:00   \n..    ...        ...                 ...                 ...   \n70     ih        600 2022-04-05 18:00:00 2022-04-05 20:00:00   \n71  halns        180 2022-04-05 18:00:00 2022-04-06 10:00:00   \n72     ih        180 2022-04-05 18:00:00 2022-04-06 10:00:00   \n73     ih        300 2022-04-05 18:00:00 2022-04-06 10:00:00   \n74     ih        600 2022-04-05 18:00:00 2022-04-06 10:00:00   \n\n    duration_minutes area  cost_per_request  \n0                  5  NYC        538.262615  \n1                  5  NYC        501.691514  \n2                  5  NYC        477.264908  \n3                 15  NYC        478.779218  \n4                 15  NYC        442.922305  \n..               ...  ...               ...  \n70               120   DC        255.061125  \n71               960   DC        272.993631  \n72               960   DC        273.939945  \n73               960   DC        255.414013  \n74               960   DC        236.851683  \n\n[75 rows x 20 columns]",
      "text/html": "<div>\n<style scoped>\n    .dataframe tbody tr th:only-of-type {\n        vertical-align: middle;\n    }\n\n    .dataframe tbody tr th {\n        vertical-align: top;\n    }\n\n    .dataframe thead th {\n        text-align: right;\n    }\n</style>\n<table border=\"1\" class=\"dataframe\">\n  <thead>\n    <tr style=\"text-align: right;\">\n      <th></th>\n      <th>cost_minutes</th>\n      <th>total_time</th>\n      <th>dropped_requests</th>\n      <th>avg_delay</th>\n      <th>plan_count</th>\n      <th>req_count</th>\n      <th>avg_occupancy</th>\n      <th>used_connections</th>\n      <th>total_driving_duration</th>\n      <th>total_waiting_duration</th>\n      <th>avg_waiting_duration</th>\n      <th>tts_cost</th>\n      <th>tts_cost_per_plan</th>\n      <th>method</th>\n      <th>max_delay</th>\n      <th>start_time</th>\n      <th>end_time</th>\n      <th>duration_minutes</th>\n      <th>area</th>\n      <th>cost_per_request</th>\n    </tr>\n  </thead>\n  <tbody>\n    <tr>\n      <th>0</th>\n      <td>31291</td>\n      <td>4.939</td>\n      <td>0</td>\n      <td>649.588303</td>\n      <td>2040</td>\n      <td>3488</td>\n      <td>1.203135</td>\n      <td>-1</td>\n      <td>1877450</td>\n      <td>6606</td>\n      <td>3.238235</td>\n      <td>130288</td>\n      <td>63.866667</td>\n      <td>ih</td>\n      <td>180</td>\n      <td>2022-04-05 18:00:00</td>\n      <td>2022-04-05 18:05:00</td>\n      <td>5</td>\n      <td>NYC</td>\n      <td>538.262615</td>\n    </tr>\n    <tr>\n      <th>1</th>\n      <td>29165</td>\n      <td>6.058</td>\n      <td>0</td>\n      <td>692.985952</td>\n      <td>1623</td>\n      <td>3488</td>\n      <td>1.377924</td>\n      <td>-1</td>\n      <td>1749883</td>\n      <td>5312</td>\n      <td>3.272951</td>\n      <td>101949</td>\n      <td>62.815157</td>\n      <td>ih</td>\n      <td>300</td>\n      <td>2022-04-05 18:00:00</td>\n      <td>2022-04-05 18:05:00</td>\n      <td>5</td>\n      <td>NYC</td>\n      <td>501.691514</td>\n    </tr>\n    <tr>\n      <th>2</th>\n      <td>27745</td>\n      <td>7.079</td>\n      <td>0</td>\n      <td>788.497993</td>\n      <td>1184</td>\n      <td>3488</td>\n      <td>1.649940</td>\n      <td>-1</td>\n      <td>1664689</td>\n      <td>3606</td>\n      <td>3.045608</td>\n      <td>65528</td>\n      <td>55.344595</td>\n      <td>ih</td>\n      <td>600</td>\n      <td>2022-04-05 18:00:00</td>\n      <td>2022-04-05 18:05:00</td>\n      <td>5</td>\n      <td>NYC</td>\n      <td>477.264908</td>\n    </tr>\n    <tr>\n      <th>3</th>\n      <td>84321</td>\n      <td>43.268</td>\n      <td>0</td>\n      <td>653.297246</td>\n      <td>4791</td>\n      <td>10567</td>\n      <td>1.354346</td>\n      <td>-1</td>\n      <td>5059242</td>\n      <td>59559</td>\n      <td>12.431434</td>\n      <td>154873</td>\n      <td>32.325819</td>\n      <td>ih</td>\n      <td>180</td>\n      <td>2022-04-05 18:00:00</td>\n      <td>2022-04-05 18:15:00</td>\n      <td>15</td>\n      <td>NYC</td>\n      <td>478.779218</td>\n    </tr>\n    <tr>\n      <th>4</th>\n      <td>78006</td>\n      <td>41.753</td>\n      <td>0</td>\n      <td>697.790764</td>\n      <td>3816</td>\n      <td>10567</td>\n      <td>1.565468</td>\n      <td>-1</td>\n      <td>4680354</td>\n      <td>43515</td>\n      <td>11.403302</td>\n      <td>135304</td>\n      <td>35.457023</td>\n      <td>ih</td>\n      <td>300</td>\n      <td>2022-04-05 18:00:00</td>\n      <td>2022-04-05 18:15:00</td>\n      <td>15</td>\n      <td>NYC</td>\n      <td>442.922305</td>\n    </tr>\n    <tr>\n      <th>...</th>\n      <td>...</td>\n      <td>...</td>\n      <td>...</td>\n      <td>...</td>\n      <td>...</td>\n      <td>...</td>\n      <td>...</td>\n      <td>...</td>\n      <td>...</td>\n      <td>...</td>\n      <td>...</td>\n      <td>...</td>\n      <td>...</td>\n      <td>...</td>\n      <td>...</td>\n      <td>...</td>\n      <td>...</td>\n      <td>...</td>\n      <td>...</td>\n      <td>...</td>\n    </tr>\n    <tr>\n      <th>70</th>\n      <td>5216</td>\n      <td>0.489</td>\n      <td>0</td>\n      <td>523.987775</td>\n      <td>283</td>\n      <td>1227</td>\n      <td>1.957308</td>\n      <td>-1</td>\n      <td>312962</td>\n      <td>108646</td>\n      <td>383.908127</td>\n      <td>4687</td>\n      <td>16.561837</td>\n      <td>ih</td>\n      <td>600</td>\n      <td>2022-04-05 18:00:00</td>\n      <td>2022-04-05 20:00:00</td>\n      <td>120</td>\n      <td>DC</td>\n      <td>255.061125</td>\n    </tr>\n    <tr>\n      <th>71</th>\n      <td>15001</td>\n      <td>9266.477</td>\n      <td>0</td>\n      <td>387.339096</td>\n      <td>932</td>\n      <td>3297</td>\n      <td>1.408142</td>\n      <td>-1</td>\n      <td>900060</td>\n      <td>2745182</td>\n      <td>2945.474249</td>\n      <td>11251</td>\n      <td>12.071888</td>\n      <td>halns</td>\n      <td>180</td>\n      <td>2022-04-05 18:00:00</td>\n      <td>2022-04-06 10:00:00</td>\n      <td>960</td>\n      <td>DC</td>\n      <td>272.993631</td>\n    </tr>\n    <tr>\n      <th>72</th>\n      <td>15053</td>\n      <td>2.164</td>\n      <td>0</td>\n      <td>392.845314</td>\n      <td>939</td>\n      <td>3297</td>\n      <td>1.406866</td>\n      <td>-1</td>\n      <td>903168</td>\n      <td>2788436</td>\n      <td>2969.580405</td>\n      <td>10909</td>\n      <td>11.617678</td>\n      <td>ih</td>\n      <td>180</td>\n      <td>2022-04-05 18:00:00</td>\n      <td>2022-04-06 10:00:00</td>\n      <td>960</td>\n      <td>DC</td>\n      <td>273.939945</td>\n    </tr>\n    <tr>\n      <th>73</th>\n      <td>14035</td>\n      <td>2.103</td>\n      <td>0</td>\n      <td>429.952684</td>\n      <td>794</td>\n      <td>3297</td>\n      <td>1.634182</td>\n      <td>-1</td>\n      <td>842107</td>\n      <td>1808372</td>\n      <td>2277.546599</td>\n      <td>10875</td>\n      <td>13.696474</td>\n      <td>ih</td>\n      <td>300</td>\n      <td>2022-04-05 18:00:00</td>\n      <td>2022-04-06 10:00:00</td>\n      <td>960</td>\n      <td>DC</td>\n      <td>255.414013</td>\n    </tr>\n    <tr>\n      <th>74</th>\n      <td>13015</td>\n      <td>2.075</td>\n      <td>0</td>\n      <td>505.841978</td>\n      <td>604</td>\n      <td>3297</td>\n      <td>2.039316</td>\n      <td>-1</td>\n      <td>780871</td>\n      <td>1112067</td>\n      <td>1841.170530</td>\n      <td>8056</td>\n      <td>13.337748</td>\n      <td>ih</td>\n      <td>600</td>\n      <td>2022-04-05 18:00:00</td>\n      <td>2022-04-06 10:00:00</td>\n      <td>960</td>\n      <td>DC</td>\n      <td>236.851683</td>\n    </tr>\n  </tbody>\n</table>\n<p>75 rows × 20 columns</p>\n</div>"
     },
     "execution_count": 9,
     "metadata": {},
     "output_type": "execute_result"
    }
   ],
   "source": [
    "df['cost_per_request'] = df['cost_minutes'] * 60 / df['req_count']\n",
    "df"
   ],
   "metadata": {
    "collapsed": false,
    "ExecuteTime": {
     "end_time": "2023-05-11T15:04:04.002106500Z",
     "start_time": "2023-05-11T15:04:03.974386Z"
    }
   }
  },
  {
   "cell_type": "markdown",
   "source": [
    "# Main Results"
   ],
   "metadata": {
    "collapsed": false
   }
  },
  {
   "cell_type": "markdown",
   "source": [
    "## IH all instances"
   ],
   "metadata": {
    "collapsed": false
   }
  },
  {
   "cell_type": "code",
   "execution_count": 12,
   "outputs": [
    {
     "data": {
      "application/vnd.plotly.v1+json": {
       "data": [
        {
         "alignmentgroup": "True",
         "hovertemplate": "max_delay=180<br>duration_minutes=5<br>area=%{x}<br>cost_per_request=%{y}<extra></extra>",
         "legendgroup": "",
         "marker": {
          "color": "#636efa",
          "pattern": {
           "shape": ""
          }
         },
         "name": "",
         "offsetgroup": "",
         "orientation": "v",
         "showlegend": false,
         "textposition": "auto",
         "x": [
          "NYC",
          "Manhattan",
          "Chicago",
          "DC"
         ],
         "xaxis": "x11",
         "y": [
          538.2626146788991,
          347.30560578661846,
          915.1648351648352,
          374.44444444444446
         ],
         "yaxis": "y11",
         "type": "bar"
        },
        {
         "alignmentgroup": "True",
         "hovertemplate": "max_delay=180<br>duration_minutes=15<br>area=%{x}<br>cost_per_request=%{y}<extra></extra>",
         "legendgroup": "",
         "marker": {
          "color": "#636efa",
          "pattern": {
           "shape": ""
          }
         },
         "name": "",
         "offsetgroup": "",
         "orientation": "v",
         "showlegend": false,
         "textposition": "auto",
         "x": [
          "NYC",
          "Manhattan",
          "Chicago",
          "DC"
         ],
         "xaxis": "x12",
         "y": [
          478.7792183211886,
          311.0754790770434,
          761.6058394160584,
          339.7546012269939
         ],
         "yaxis": "y12",
         "type": "bar"
        },
        {
         "alignmentgroup": "True",
         "hovertemplate": "max_delay=180<br>duration_minutes=30<br>area=%{x}<br>cost_per_request=%{y}<extra></extra>",
         "legendgroup": "",
         "marker": {
          "color": "#636efa",
          "pattern": {
           "shape": ""
          }
         },
         "name": "",
         "offsetgroup": "",
         "orientation": "v",
         "showlegend": false,
         "textposition": "auto",
         "x": [
          "NYC",
          "Manhattan",
          "Chicago",
          "DC"
         ],
         "xaxis": "x13",
         "y": [
          456.15661436591336,
          294.8672395481317,
          726.5436241610738,
          314.2682926829268
         ],
         "yaxis": "y13",
         "type": "bar"
        },
        {
         "alignmentgroup": "True",
         "hovertemplate": "max_delay=180<br>duration_minutes=120<br>area=%{x}<br>cost_per_request=%{y}<extra></extra>",
         "legendgroup": "",
         "marker": {
          "color": "#636efa",
          "pattern": {
           "shape": ""
          }
         },
         "name": "",
         "offsetgroup": "",
         "orientation": "v",
         "showlegend": false,
         "textposition": "auto",
         "x": [
          "Manhattan",
          "Chicago",
          "DC"
         ],
         "xaxis": "x14",
         "y": [
          294.26343666819025,
          751.4373088685015,
          294.1320293398533
         ],
         "yaxis": "y14",
         "type": "bar"
        },
        {
         "alignmentgroup": "True",
         "hovertemplate": "max_delay=180<br>duration_minutes=960<br>area=%{x}<br>cost_per_request=%{y}<extra></extra>",
         "legendgroup": "",
         "marker": {
          "color": "#636efa",
          "pattern": {
           "shape": ""
          }
         },
         "name": "",
         "offsetgroup": "",
         "orientation": "v",
         "showlegend": false,
         "textposition": "auto",
         "x": [
          "Manhattan",
          "Chicago",
          "DC"
         ],
         "xaxis": "x15",
         "y": [
          309.5730158379537,
          1071.44438587243,
          273.93994540491354
         ],
         "yaxis": "y15",
         "type": "bar"
        },
        {
         "alignmentgroup": "True",
         "hovertemplate": "max_delay=300<br>duration_minutes=5<br>area=%{x}<br>cost_per_request=%{y}<extra></extra>",
         "legendgroup": "",
         "marker": {
          "color": "#636efa",
          "pattern": {
           "shape": ""
          }
         },
         "name": "",
         "offsetgroup": "",
         "orientation": "v",
         "showlegend": false,
         "textposition": "auto",
         "x": [
          "NYC",
          "Manhattan",
          "Chicago",
          "DC"
         ],
         "xaxis": "x6",
         "y": [
          501.6915137614679,
          328.31826401446654,
          777.3626373626373,
          372.22222222222223
         ],
         "yaxis": "y6",
         "type": "bar"
        },
        {
         "alignmentgroup": "True",
         "hovertemplate": "max_delay=300<br>duration_minutes=15<br>area=%{x}<br>cost_per_request=%{y}<extra></extra>",
         "legendgroup": "",
         "marker": {
          "color": "#636efa",
          "pattern": {
           "shape": ""
          }
         },
         "name": "",
         "offsetgroup": "",
         "orientation": "v",
         "showlegend": false,
         "textposition": "auto",
         "x": [
          "NYC",
          "Manhattan",
          "Chicago",
          "DC"
         ],
         "xaxis": "x7",
         "y": [
          442.92230529005394,
          287.68087602659364,
          674.4525547445255,
          325.76687116564415
         ],
         "yaxis": "y7",
         "type": "bar"
        },
        {
         "alignmentgroup": "True",
         "hovertemplate": "max_delay=300<br>duration_minutes=30<br>area=%{x}<br>cost_per_request=%{y}<extra></extra>",
         "legendgroup": "",
         "marker": {
          "color": "#636efa",
          "pattern": {
           "shape": ""
          }
         },
         "name": "",
         "offsetgroup": "",
         "orientation": "v",
         "showlegend": false,
         "textposition": "auto",
         "x": [
          "NYC",
          "Manhattan",
          "Chicago",
          "DC"
         ],
         "xaxis": "x8",
         "y": [
          420.5786670505254,
          268.0505938012938,
          638.6577181208054,
          297.6219512195122
         ],
         "yaxis": "y8",
         "type": "bar"
        },
        {
         "alignmentgroup": "True",
         "hovertemplate": "max_delay=300<br>duration_minutes=120<br>area=%{x}<br>cost_per_request=%{y}<extra></extra>",
         "legendgroup": "",
         "marker": {
          "color": "#636efa",
          "pattern": {
           "shape": ""
          }
         },
         "name": "",
         "offsetgroup": "",
         "orientation": "v",
         "showlegend": false,
         "textposition": "auto",
         "x": [
          "Manhattan",
          "Chicago",
          "DC"
         ],
         "xaxis": "x9",
         "y": [
          263.44312101739575,
          648.256880733945,
          274.1320293398533
         ],
         "yaxis": "y9",
         "type": "bar"
        },
        {
         "alignmentgroup": "True",
         "hovertemplate": "max_delay=300<br>duration_minutes=960<br>area=%{x}<br>cost_per_request=%{y}<extra></extra>",
         "legendgroup": "",
         "marker": {
          "color": "#636efa",
          "pattern": {
           "shape": ""
          }
         },
         "name": "",
         "offsetgroup": "",
         "orientation": "v",
         "showlegend": false,
         "textposition": "auto",
         "x": [
          "Manhattan",
          "Chicago",
          "DC"
         ],
         "xaxis": "x10",
         "y": [
          278.23904928099665,
          883.3948339483395,
          255.4140127388535
         ],
         "yaxis": "y10",
         "type": "bar"
        },
        {
         "alignmentgroup": "True",
         "hovertemplate": "max_delay=600<br>duration_minutes=5<br>area=%{x}<br>cost_per_request=%{y}<extra></extra>",
         "legendgroup": "",
         "marker": {
          "color": "#636efa",
          "pattern": {
           "shape": ""
          }
         },
         "name": "",
         "offsetgroup": "",
         "orientation": "v",
         "showlegend": false,
         "textposition": "auto",
         "x": [
          "NYC",
          "Manhattan",
          "Chicago",
          "DC"
         ],
         "xaxis": "x",
         "y": [
          477.26490825688074,
          320.57866184448466,
          696.2637362637363,
          341.1111111111111
         ],
         "yaxis": "y",
         "type": "bar"
        },
        {
         "alignmentgroup": "True",
         "hovertemplate": "max_delay=600<br>duration_minutes=15<br>area=%{x}<br>cost_per_request=%{y}<extra></extra>",
         "legendgroup": "",
         "marker": {
          "color": "#636efa",
          "pattern": {
           "shape": ""
          }
         },
         "name": "",
         "offsetgroup": "",
         "orientation": "v",
         "showlegend": false,
         "textposition": "auto",
         "x": [
          "NYC",
          "Manhattan",
          "Chicago",
          "DC"
         ],
         "xaxis": "x2",
         "y": [
          418.05810542254187,
          283.4806413766132,
          591.4598540145986,
          293.37423312883436
         ],
         "yaxis": "y2",
         "type": "bar"
        },
        {
         "alignmentgroup": "True",
         "hovertemplate": "max_delay=600<br>duration_minutes=30<br>area=%{x}<br>cost_per_request=%{y}<extra></extra>",
         "legendgroup": "",
         "marker": {
          "color": "#636efa",
          "pattern": {
           "shape": ""
          }
         },
         "name": "",
         "offsetgroup": "",
         "orientation": "v",
         "showlegend": false,
         "textposition": "auto",
         "x": [
          "NYC",
          "Manhattan",
          "Chicago",
          "DC"
         ],
         "xaxis": "x3",
         "y": [
          391.3718151720167,
          254.52930385246694,
          566.4765100671141,
          260.6707317073171
         ],
         "yaxis": "y3",
         "type": "bar"
        },
        {
         "alignmentgroup": "True",
         "hovertemplate": "max_delay=600<br>duration_minutes=120<br>area=%{x}<br>cost_per_request=%{y}<extra></extra>",
         "legendgroup": "",
         "marker": {
          "color": "#636efa",
          "pattern": {
           "shape": ""
          }
         },
         "name": "",
         "offsetgroup": "",
         "orientation": "v",
         "showlegend": false,
         "textposition": "auto",
         "x": [
          "Manhattan",
          "Chicago",
          "DC"
         ],
         "xaxis": "x4",
         "y": [
          238.81590621891215,
          553.8532110091743,
          255.06112469437653
         ],
         "yaxis": "y4",
         "type": "bar"
        },
        {
         "alignmentgroup": "True",
         "hovertemplate": "max_delay=600<br>duration_minutes=960<br>area=%{x}<br>cost_per_request=%{y}<extra></extra>",
         "legendgroup": "",
         "marker": {
          "color": "#636efa",
          "pattern": {
           "shape": ""
          }
         },
         "name": "",
         "offsetgroup": "",
         "orientation": "v",
         "showlegend": false,
         "textposition": "auto",
         "x": [
          "Manhattan",
          "Chicago",
          "DC"
         ],
         "xaxis": "x5",
         "y": [
          248.2940513794703,
          673.9167105956774,
          236.85168334849863
         ],
         "yaxis": "y5",
         "type": "bar"
        }
       ],
       "layout": {
        "template": {
         "data": {
          "histogram2dcontour": [
           {
            "type": "histogram2dcontour",
            "colorbar": {
             "outlinewidth": 0,
             "ticks": ""
            },
            "colorscale": [
             [
              0.0,
              "#0d0887"
             ],
             [
              0.1111111111111111,
              "#46039f"
             ],
             [
              0.2222222222222222,
              "#7201a8"
             ],
             [
              0.3333333333333333,
              "#9c179e"
             ],
             [
              0.4444444444444444,
              "#bd3786"
             ],
             [
              0.5555555555555556,
              "#d8576b"
             ],
             [
              0.6666666666666666,
              "#ed7953"
             ],
             [
              0.7777777777777778,
              "#fb9f3a"
             ],
             [
              0.8888888888888888,
              "#fdca26"
             ],
             [
              1.0,
              "#f0f921"
             ]
            ]
           }
          ],
          "choropleth": [
           {
            "type": "choropleth",
            "colorbar": {
             "outlinewidth": 0,
             "ticks": ""
            }
           }
          ],
          "histogram2d": [
           {
            "type": "histogram2d",
            "colorbar": {
             "outlinewidth": 0,
             "ticks": ""
            },
            "colorscale": [
             [
              0.0,
              "#0d0887"
             ],
             [
              0.1111111111111111,
              "#46039f"
             ],
             [
              0.2222222222222222,
              "#7201a8"
             ],
             [
              0.3333333333333333,
              "#9c179e"
             ],
             [
              0.4444444444444444,
              "#bd3786"
             ],
             [
              0.5555555555555556,
              "#d8576b"
             ],
             [
              0.6666666666666666,
              "#ed7953"
             ],
             [
              0.7777777777777778,
              "#fb9f3a"
             ],
             [
              0.8888888888888888,
              "#fdca26"
             ],
             [
              1.0,
              "#f0f921"
             ]
            ]
           }
          ],
          "heatmap": [
           {
            "type": "heatmap",
            "colorbar": {
             "outlinewidth": 0,
             "ticks": ""
            },
            "colorscale": [
             [
              0.0,
              "#0d0887"
             ],
             [
              0.1111111111111111,
              "#46039f"
             ],
             [
              0.2222222222222222,
              "#7201a8"
             ],
             [
              0.3333333333333333,
              "#9c179e"
             ],
             [
              0.4444444444444444,
              "#bd3786"
             ],
             [
              0.5555555555555556,
              "#d8576b"
             ],
             [
              0.6666666666666666,
              "#ed7953"
             ],
             [
              0.7777777777777778,
              "#fb9f3a"
             ],
             [
              0.8888888888888888,
              "#fdca26"
             ],
             [
              1.0,
              "#f0f921"
             ]
            ]
           }
          ],
          "heatmapgl": [
           {
            "type": "heatmapgl",
            "colorbar": {
             "outlinewidth": 0,
             "ticks": ""
            },
            "colorscale": [
             [
              0.0,
              "#0d0887"
             ],
             [
              0.1111111111111111,
              "#46039f"
             ],
             [
              0.2222222222222222,
              "#7201a8"
             ],
             [
              0.3333333333333333,
              "#9c179e"
             ],
             [
              0.4444444444444444,
              "#bd3786"
             ],
             [
              0.5555555555555556,
              "#d8576b"
             ],
             [
              0.6666666666666666,
              "#ed7953"
             ],
             [
              0.7777777777777778,
              "#fb9f3a"
             ],
             [
              0.8888888888888888,
              "#fdca26"
             ],
             [
              1.0,
              "#f0f921"
             ]
            ]
           }
          ],
          "contourcarpet": [
           {
            "type": "contourcarpet",
            "colorbar": {
             "outlinewidth": 0,
             "ticks": ""
            }
           }
          ],
          "contour": [
           {
            "type": "contour",
            "colorbar": {
             "outlinewidth": 0,
             "ticks": ""
            },
            "colorscale": [
             [
              0.0,
              "#0d0887"
             ],
             [
              0.1111111111111111,
              "#46039f"
             ],
             [
              0.2222222222222222,
              "#7201a8"
             ],
             [
              0.3333333333333333,
              "#9c179e"
             ],
             [
              0.4444444444444444,
              "#bd3786"
             ],
             [
              0.5555555555555556,
              "#d8576b"
             ],
             [
              0.6666666666666666,
              "#ed7953"
             ],
             [
              0.7777777777777778,
              "#fb9f3a"
             ],
             [
              0.8888888888888888,
              "#fdca26"
             ],
             [
              1.0,
              "#f0f921"
             ]
            ]
           }
          ],
          "surface": [
           {
            "type": "surface",
            "colorbar": {
             "outlinewidth": 0,
             "ticks": ""
            },
            "colorscale": [
             [
              0.0,
              "#0d0887"
             ],
             [
              0.1111111111111111,
              "#46039f"
             ],
             [
              0.2222222222222222,
              "#7201a8"
             ],
             [
              0.3333333333333333,
              "#9c179e"
             ],
             [
              0.4444444444444444,
              "#bd3786"
             ],
             [
              0.5555555555555556,
              "#d8576b"
             ],
             [
              0.6666666666666666,
              "#ed7953"
             ],
             [
              0.7777777777777778,
              "#fb9f3a"
             ],
             [
              0.8888888888888888,
              "#fdca26"
             ],
             [
              1.0,
              "#f0f921"
             ]
            ]
           }
          ],
          "mesh3d": [
           {
            "type": "mesh3d",
            "colorbar": {
             "outlinewidth": 0,
             "ticks": ""
            }
           }
          ],
          "scatter": [
           {
            "fillpattern": {
             "fillmode": "overlay",
             "size": 10,
             "solidity": 0.2
            },
            "type": "scatter"
           }
          ],
          "parcoords": [
           {
            "type": "parcoords",
            "line": {
             "colorbar": {
              "outlinewidth": 0,
              "ticks": ""
             }
            }
           }
          ],
          "scatterpolargl": [
           {
            "type": "scatterpolargl",
            "marker": {
             "colorbar": {
              "outlinewidth": 0,
              "ticks": ""
             }
            }
           }
          ],
          "bar": [
           {
            "error_x": {
             "color": "#2a3f5f"
            },
            "error_y": {
             "color": "#2a3f5f"
            },
            "marker": {
             "line": {
              "color": "#E5ECF6",
              "width": 0.5
             },
             "pattern": {
              "fillmode": "overlay",
              "size": 10,
              "solidity": 0.2
             }
            },
            "type": "bar"
           }
          ],
          "scattergeo": [
           {
            "type": "scattergeo",
            "marker": {
             "colorbar": {
              "outlinewidth": 0,
              "ticks": ""
             }
            }
           }
          ],
          "scatterpolar": [
           {
            "type": "scatterpolar",
            "marker": {
             "colorbar": {
              "outlinewidth": 0,
              "ticks": ""
             }
            }
           }
          ],
          "histogram": [
           {
            "marker": {
             "pattern": {
              "fillmode": "overlay",
              "size": 10,
              "solidity": 0.2
             }
            },
            "type": "histogram"
           }
          ],
          "scattergl": [
           {
            "type": "scattergl",
            "marker": {
             "colorbar": {
              "outlinewidth": 0,
              "ticks": ""
             }
            }
           }
          ],
          "scatter3d": [
           {
            "type": "scatter3d",
            "line": {
             "colorbar": {
              "outlinewidth": 0,
              "ticks": ""
             }
            },
            "marker": {
             "colorbar": {
              "outlinewidth": 0,
              "ticks": ""
             }
            }
           }
          ],
          "scattermapbox": [
           {
            "type": "scattermapbox",
            "marker": {
             "colorbar": {
              "outlinewidth": 0,
              "ticks": ""
             }
            }
           }
          ],
          "scatterternary": [
           {
            "type": "scatterternary",
            "marker": {
             "colorbar": {
              "outlinewidth": 0,
              "ticks": ""
             }
            }
           }
          ],
          "scattercarpet": [
           {
            "type": "scattercarpet",
            "marker": {
             "colorbar": {
              "outlinewidth": 0,
              "ticks": ""
             }
            }
           }
          ],
          "carpet": [
           {
            "aaxis": {
             "endlinecolor": "#2a3f5f",
             "gridcolor": "white",
             "linecolor": "white",
             "minorgridcolor": "white",
             "startlinecolor": "#2a3f5f"
            },
            "baxis": {
             "endlinecolor": "#2a3f5f",
             "gridcolor": "white",
             "linecolor": "white",
             "minorgridcolor": "white",
             "startlinecolor": "#2a3f5f"
            },
            "type": "carpet"
           }
          ],
          "table": [
           {
            "cells": {
             "fill": {
              "color": "#EBF0F8"
             },
             "line": {
              "color": "white"
             }
            },
            "header": {
             "fill": {
              "color": "#C8D4E3"
             },
             "line": {
              "color": "white"
             }
            },
            "type": "table"
           }
          ],
          "barpolar": [
           {
            "marker": {
             "line": {
              "color": "#E5ECF6",
              "width": 0.5
             },
             "pattern": {
              "fillmode": "overlay",
              "size": 10,
              "solidity": 0.2
             }
            },
            "type": "barpolar"
           }
          ],
          "pie": [
           {
            "automargin": true,
            "type": "pie"
           }
          ]
         },
         "layout": {
          "autotypenumbers": "strict",
          "colorway": [
           "#636efa",
           "#EF553B",
           "#00cc96",
           "#ab63fa",
           "#FFA15A",
           "#19d3f3",
           "#FF6692",
           "#B6E880",
           "#FF97FF",
           "#FECB52"
          ],
          "font": {
           "color": "#2a3f5f"
          },
          "hovermode": "closest",
          "hoverlabel": {
           "align": "left"
          },
          "paper_bgcolor": "white",
          "plot_bgcolor": "#E5ECF6",
          "polar": {
           "bgcolor": "#E5ECF6",
           "angularaxis": {
            "gridcolor": "white",
            "linecolor": "white",
            "ticks": ""
           },
           "radialaxis": {
            "gridcolor": "white",
            "linecolor": "white",
            "ticks": ""
           }
          },
          "ternary": {
           "bgcolor": "#E5ECF6",
           "aaxis": {
            "gridcolor": "white",
            "linecolor": "white",
            "ticks": ""
           },
           "baxis": {
            "gridcolor": "white",
            "linecolor": "white",
            "ticks": ""
           },
           "caxis": {
            "gridcolor": "white",
            "linecolor": "white",
            "ticks": ""
           }
          },
          "coloraxis": {
           "colorbar": {
            "outlinewidth": 0,
            "ticks": ""
           }
          },
          "colorscale": {
           "sequential": [
            [
             0.0,
             "#0d0887"
            ],
            [
             0.1111111111111111,
             "#46039f"
            ],
            [
             0.2222222222222222,
             "#7201a8"
            ],
            [
             0.3333333333333333,
             "#9c179e"
            ],
            [
             0.4444444444444444,
             "#bd3786"
            ],
            [
             0.5555555555555556,
             "#d8576b"
            ],
            [
             0.6666666666666666,
             "#ed7953"
            ],
            [
             0.7777777777777778,
             "#fb9f3a"
            ],
            [
             0.8888888888888888,
             "#fdca26"
            ],
            [
             1.0,
             "#f0f921"
            ]
           ],
           "sequentialminus": [
            [
             0.0,
             "#0d0887"
            ],
            [
             0.1111111111111111,
             "#46039f"
            ],
            [
             0.2222222222222222,
             "#7201a8"
            ],
            [
             0.3333333333333333,
             "#9c179e"
            ],
            [
             0.4444444444444444,
             "#bd3786"
            ],
            [
             0.5555555555555556,
             "#d8576b"
            ],
            [
             0.6666666666666666,
             "#ed7953"
            ],
            [
             0.7777777777777778,
             "#fb9f3a"
            ],
            [
             0.8888888888888888,
             "#fdca26"
            ],
            [
             1.0,
             "#f0f921"
            ]
           ],
           "diverging": [
            [
             0,
             "#8e0152"
            ],
            [
             0.1,
             "#c51b7d"
            ],
            [
             0.2,
             "#de77ae"
            ],
            [
             0.3,
             "#f1b6da"
            ],
            [
             0.4,
             "#fde0ef"
            ],
            [
             0.5,
             "#f7f7f7"
            ],
            [
             0.6,
             "#e6f5d0"
            ],
            [
             0.7,
             "#b8e186"
            ],
            [
             0.8,
             "#7fbc41"
            ],
            [
             0.9,
             "#4d9221"
            ],
            [
             1,
             "#276419"
            ]
           ]
          },
          "xaxis": {
           "gridcolor": "white",
           "linecolor": "white",
           "ticks": "",
           "title": {
            "standoff": 15
           },
           "zerolinecolor": "white",
           "automargin": true,
           "zerolinewidth": 2
          },
          "yaxis": {
           "gridcolor": "white",
           "linecolor": "white",
           "ticks": "",
           "title": {
            "standoff": 15
           },
           "zerolinecolor": "white",
           "automargin": true,
           "zerolinewidth": 2
          },
          "scene": {
           "xaxis": {
            "backgroundcolor": "#E5ECF6",
            "gridcolor": "white",
            "linecolor": "white",
            "showbackground": true,
            "ticks": "",
            "zerolinecolor": "white",
            "gridwidth": 2
           },
           "yaxis": {
            "backgroundcolor": "#E5ECF6",
            "gridcolor": "white",
            "linecolor": "white",
            "showbackground": true,
            "ticks": "",
            "zerolinecolor": "white",
            "gridwidth": 2
           },
           "zaxis": {
            "backgroundcolor": "#E5ECF6",
            "gridcolor": "white",
            "linecolor": "white",
            "showbackground": true,
            "ticks": "",
            "zerolinecolor": "white",
            "gridwidth": 2
           }
          },
          "shapedefaults": {
           "line": {
            "color": "#2a3f5f"
           }
          },
          "annotationdefaults": {
           "arrowcolor": "#2a3f5f",
           "arrowhead": 0,
           "arrowwidth": 1
          },
          "geo": {
           "bgcolor": "white",
           "landcolor": "#E5ECF6",
           "subunitcolor": "white",
           "showland": true,
           "showlakes": true,
           "lakecolor": "white"
          },
          "title": {
           "x": 0.05
          },
          "mapbox": {
           "style": "light"
          }
         }
        },
        "xaxis": {
         "anchor": "y",
         "domain": [
          0.0,
          0.18000000000000002
         ],
         "title": {
          "text": ""
         }
        },
        "yaxis": {
         "anchor": "x",
         "domain": [
          0.0,
          0.3133333333333333
         ],
         "title": {
          "text": ""
         }
        },
        "xaxis2": {
         "anchor": "y2",
         "domain": [
          0.2,
          0.38
         ],
         "matches": "x",
         "title": {
          "text": ""
         }
        },
        "yaxis2": {
         "anchor": "x2",
         "domain": [
          0.0,
          0.3133333333333333
         ],
         "matches": "y",
         "showticklabels": false,
         "title": {
          "text": ""
         }
        },
        "xaxis3": {
         "anchor": "y3",
         "domain": [
          0.4,
          0.5800000000000001
         ],
         "matches": "x",
         "title": {
          "text": ""
         }
        },
        "yaxis3": {
         "anchor": "x3",
         "domain": [
          0.0,
          0.3133333333333333
         ],
         "matches": "y",
         "showticklabels": false,
         "title": {
          "text": ""
         }
        },
        "xaxis4": {
         "anchor": "y4",
         "domain": [
          0.6000000000000001,
          0.7800000000000001
         ],
         "matches": "x",
         "title": {
          "text": ""
         }
        },
        "yaxis4": {
         "anchor": "x4",
         "domain": [
          0.0,
          0.3133333333333333
         ],
         "matches": "y",
         "showticklabels": false,
         "title": {
          "text": ""
         }
        },
        "xaxis5": {
         "anchor": "y5",
         "domain": [
          0.8,
          0.9800000000000001
         ],
         "matches": "x",
         "title": {
          "text": ""
         }
        },
        "yaxis5": {
         "anchor": "x5",
         "domain": [
          0.0,
          0.3133333333333333
         ],
         "matches": "y",
         "showticklabels": false,
         "title": {
          "text": ""
         }
        },
        "xaxis6": {
         "anchor": "y6",
         "domain": [
          0.0,
          0.18000000000000002
         ],
         "matches": "x",
         "showticklabels": false,
         "title": {
          "text": ""
         }
        },
        "yaxis6": {
         "anchor": "x6",
         "domain": [
          0.34333333333333327,
          0.6566666666666665
         ],
         "matches": "y",
         "title": {
          "text": ""
         }
        },
        "xaxis7": {
         "anchor": "y7",
         "domain": [
          0.2,
          0.38
         ],
         "matches": "x",
         "showticklabels": false,
         "title": {
          "text": ""
         }
        },
        "yaxis7": {
         "anchor": "x7",
         "domain": [
          0.34333333333333327,
          0.6566666666666665
         ],
         "matches": "y",
         "showticklabels": false,
         "title": {
          "text": ""
         }
        },
        "xaxis8": {
         "anchor": "y8",
         "domain": [
          0.4,
          0.5800000000000001
         ],
         "matches": "x",
         "showticklabels": false,
         "title": {
          "text": ""
         }
        },
        "yaxis8": {
         "anchor": "x8",
         "domain": [
          0.34333333333333327,
          0.6566666666666665
         ],
         "matches": "y",
         "showticklabels": false,
         "title": {
          "text": ""
         }
        },
        "xaxis9": {
         "anchor": "y9",
         "domain": [
          0.6000000000000001,
          0.7800000000000001
         ],
         "matches": "x",
         "showticklabels": false,
         "title": {
          "text": ""
         }
        },
        "yaxis9": {
         "anchor": "x9",
         "domain": [
          0.34333333333333327,
          0.6566666666666665
         ],
         "matches": "y",
         "showticklabels": false,
         "title": {
          "text": ""
         }
        },
        "xaxis10": {
         "anchor": "y10",
         "domain": [
          0.8,
          0.9800000000000001
         ],
         "matches": "x",
         "showticklabels": false,
         "title": {
          "text": ""
         }
        },
        "yaxis10": {
         "anchor": "x10",
         "domain": [
          0.34333333333333327,
          0.6566666666666665
         ],
         "matches": "y",
         "showticklabels": false,
         "title": {
          "text": ""
         }
        },
        "xaxis11": {
         "anchor": "y11",
         "domain": [
          0.0,
          0.18000000000000002
         ],
         "matches": "x",
         "showticklabels": false,
         "title": {
          "text": ""
         }
        },
        "yaxis11": {
         "anchor": "x11",
         "domain": [
          0.6866666666666665,
          0.9999999999999998
         ],
         "matches": "y",
         "title": {
          "text": ""
         }
        },
        "xaxis12": {
         "anchor": "y12",
         "domain": [
          0.2,
          0.38
         ],
         "matches": "x",
         "showticklabels": false,
         "title": {
          "text": ""
         }
        },
        "yaxis12": {
         "anchor": "x12",
         "domain": [
          0.6866666666666665,
          0.9999999999999998
         ],
         "matches": "y",
         "showticklabels": false,
         "title": {
          "text": ""
         }
        },
        "xaxis13": {
         "anchor": "y13",
         "domain": [
          0.4,
          0.5800000000000001
         ],
         "matches": "x",
         "showticklabels": false,
         "title": {
          "text": ""
         }
        },
        "yaxis13": {
         "anchor": "x13",
         "domain": [
          0.6866666666666665,
          0.9999999999999998
         ],
         "matches": "y",
         "showticklabels": false,
         "title": {
          "text": ""
         }
        },
        "xaxis14": {
         "anchor": "y14",
         "domain": [
          0.6000000000000001,
          0.7800000000000001
         ],
         "matches": "x",
         "showticklabels": false,
         "title": {
          "text": ""
         }
        },
        "yaxis14": {
         "anchor": "x14",
         "domain": [
          0.6866666666666665,
          0.9999999999999998
         ],
         "matches": "y",
         "showticklabels": false,
         "title": {
          "text": ""
         }
        },
        "xaxis15": {
         "anchor": "y15",
         "domain": [
          0.8,
          0.9800000000000001
         ],
         "matches": "x",
         "showticklabels": false,
         "title": {
          "text": ""
         }
        },
        "yaxis15": {
         "anchor": "x15",
         "domain": [
          0.6866666666666665,
          0.9999999999999998
         ],
         "matches": "y",
         "showticklabels": false,
         "title": {
          "text": ""
         }
        },
        "annotations": [
         {
          "showarrow": false,
          "text": "5",
          "x": 0.09000000000000001,
          "xanchor": "center",
          "xref": "paper",
          "y": 0.9999999999999998,
          "yanchor": "bottom",
          "yref": "paper"
         },
         {
          "showarrow": false,
          "text": "15",
          "x": 0.29000000000000004,
          "xanchor": "center",
          "xref": "paper",
          "y": 0.9999999999999998,
          "yanchor": "bottom",
          "yref": "paper"
         },
         {
          "showarrow": false,
          "text": "30",
          "x": 0.49000000000000005,
          "xanchor": "center",
          "xref": "paper",
          "y": 0.9999999999999998,
          "yanchor": "bottom",
          "yref": "paper"
         },
         {
          "showarrow": false,
          "text": "120",
          "x": 0.6900000000000002,
          "xanchor": "center",
          "xref": "paper",
          "y": 0.9999999999999998,
          "yanchor": "bottom",
          "yref": "paper"
         },
         {
          "showarrow": false,
          "text": "960",
          "x": 0.8900000000000001,
          "xanchor": "center",
          "xref": "paper",
          "y": 0.9999999999999998,
          "yanchor": "bottom",
          "yref": "paper"
         },
         {
          "showarrow": false,
          "text": "600",
          "textangle": 90,
          "x": 0.9800000000000001,
          "xanchor": "left",
          "xref": "paper",
          "y": 0.15666666666666665,
          "yanchor": "middle",
          "yref": "paper"
         },
         {
          "showarrow": false,
          "text": "300",
          "textangle": 90,
          "x": 0.9800000000000001,
          "xanchor": "left",
          "xref": "paper",
          "y": 0.4999999999999999,
          "yanchor": "middle",
          "yref": "paper"
         },
         {
          "showarrow": false,
          "text": "180",
          "textangle": 90,
          "x": 0.9800000000000001,
          "xanchor": "left",
          "xref": "paper",
          "y": 0.8433333333333332,
          "yanchor": "middle",
          "yref": "paper"
         },
         {
          "showarrow": false,
          "text": "travel time per request [s]",
          "textangle": -90,
          "x": -0.06,
          "xref": "paper",
          "y": 0.5,
          "yref": "paper"
         }
        ],
        "legend": {
         "tracegroupgap": 0
        },
        "title": {
         "text": "Average Cost per Request"
        },
        "barmode": "group"
       },
       "config": {
        "plotlyServerURL": "https://plot.ly"
       }
      },
      "text/html": "<div>                            <div id=\"0c70f012-e925-4968-8b3f-f22562f23c43\" class=\"plotly-graph-div\" style=\"height:525px; width:100%;\"></div>            <script type=\"text/javascript\">                require([\"plotly\"], function(Plotly) {                    window.PLOTLYENV=window.PLOTLYENV || {};                                    if (document.getElementById(\"0c70f012-e925-4968-8b3f-f22562f23c43\")) {                    Plotly.newPlot(                        \"0c70f012-e925-4968-8b3f-f22562f23c43\",                        [{\"alignmentgroup\":\"True\",\"hovertemplate\":\"max_delay=180<br>duration_minutes=5<br>area=%{x}<br>cost_per_request=%{y}<extra></extra>\",\"legendgroup\":\"\",\"marker\":{\"color\":\"#636efa\",\"pattern\":{\"shape\":\"\"}},\"name\":\"\",\"offsetgroup\":\"\",\"orientation\":\"v\",\"showlegend\":false,\"textposition\":\"auto\",\"x\":[\"NYC\",\"Manhattan\",\"Chicago\",\"DC\"],\"xaxis\":\"x11\",\"y\":[538.2626146788991,347.30560578661846,915.1648351648352,374.44444444444446],\"yaxis\":\"y11\",\"type\":\"bar\"},{\"alignmentgroup\":\"True\",\"hovertemplate\":\"max_delay=180<br>duration_minutes=15<br>area=%{x}<br>cost_per_request=%{y}<extra></extra>\",\"legendgroup\":\"\",\"marker\":{\"color\":\"#636efa\",\"pattern\":{\"shape\":\"\"}},\"name\":\"\",\"offsetgroup\":\"\",\"orientation\":\"v\",\"showlegend\":false,\"textposition\":\"auto\",\"x\":[\"NYC\",\"Manhattan\",\"Chicago\",\"DC\"],\"xaxis\":\"x12\",\"y\":[478.7792183211886,311.0754790770434,761.6058394160584,339.7546012269939],\"yaxis\":\"y12\",\"type\":\"bar\"},{\"alignmentgroup\":\"True\",\"hovertemplate\":\"max_delay=180<br>duration_minutes=30<br>area=%{x}<br>cost_per_request=%{y}<extra></extra>\",\"legendgroup\":\"\",\"marker\":{\"color\":\"#636efa\",\"pattern\":{\"shape\":\"\"}},\"name\":\"\",\"offsetgroup\":\"\",\"orientation\":\"v\",\"showlegend\":false,\"textposition\":\"auto\",\"x\":[\"NYC\",\"Manhattan\",\"Chicago\",\"DC\"],\"xaxis\":\"x13\",\"y\":[456.15661436591336,294.8672395481317,726.5436241610738,314.2682926829268],\"yaxis\":\"y13\",\"type\":\"bar\"},{\"alignmentgroup\":\"True\",\"hovertemplate\":\"max_delay=180<br>duration_minutes=120<br>area=%{x}<br>cost_per_request=%{y}<extra></extra>\",\"legendgroup\":\"\",\"marker\":{\"color\":\"#636efa\",\"pattern\":{\"shape\":\"\"}},\"name\":\"\",\"offsetgroup\":\"\",\"orientation\":\"v\",\"showlegend\":false,\"textposition\":\"auto\",\"x\":[\"Manhattan\",\"Chicago\",\"DC\"],\"xaxis\":\"x14\",\"y\":[294.26343666819025,751.4373088685015,294.1320293398533],\"yaxis\":\"y14\",\"type\":\"bar\"},{\"alignmentgroup\":\"True\",\"hovertemplate\":\"max_delay=180<br>duration_minutes=960<br>area=%{x}<br>cost_per_request=%{y}<extra></extra>\",\"legendgroup\":\"\",\"marker\":{\"color\":\"#636efa\",\"pattern\":{\"shape\":\"\"}},\"name\":\"\",\"offsetgroup\":\"\",\"orientation\":\"v\",\"showlegend\":false,\"textposition\":\"auto\",\"x\":[\"Manhattan\",\"Chicago\",\"DC\"],\"xaxis\":\"x15\",\"y\":[309.5730158379537,1071.44438587243,273.93994540491354],\"yaxis\":\"y15\",\"type\":\"bar\"},{\"alignmentgroup\":\"True\",\"hovertemplate\":\"max_delay=300<br>duration_minutes=5<br>area=%{x}<br>cost_per_request=%{y}<extra></extra>\",\"legendgroup\":\"\",\"marker\":{\"color\":\"#636efa\",\"pattern\":{\"shape\":\"\"}},\"name\":\"\",\"offsetgroup\":\"\",\"orientation\":\"v\",\"showlegend\":false,\"textposition\":\"auto\",\"x\":[\"NYC\",\"Manhattan\",\"Chicago\",\"DC\"],\"xaxis\":\"x6\",\"y\":[501.6915137614679,328.31826401446654,777.3626373626373,372.22222222222223],\"yaxis\":\"y6\",\"type\":\"bar\"},{\"alignmentgroup\":\"True\",\"hovertemplate\":\"max_delay=300<br>duration_minutes=15<br>area=%{x}<br>cost_per_request=%{y}<extra></extra>\",\"legendgroup\":\"\",\"marker\":{\"color\":\"#636efa\",\"pattern\":{\"shape\":\"\"}},\"name\":\"\",\"offsetgroup\":\"\",\"orientation\":\"v\",\"showlegend\":false,\"textposition\":\"auto\",\"x\":[\"NYC\",\"Manhattan\",\"Chicago\",\"DC\"],\"xaxis\":\"x7\",\"y\":[442.92230529005394,287.68087602659364,674.4525547445255,325.76687116564415],\"yaxis\":\"y7\",\"type\":\"bar\"},{\"alignmentgroup\":\"True\",\"hovertemplate\":\"max_delay=300<br>duration_minutes=30<br>area=%{x}<br>cost_per_request=%{y}<extra></extra>\",\"legendgroup\":\"\",\"marker\":{\"color\":\"#636efa\",\"pattern\":{\"shape\":\"\"}},\"name\":\"\",\"offsetgroup\":\"\",\"orientation\":\"v\",\"showlegend\":false,\"textposition\":\"auto\",\"x\":[\"NYC\",\"Manhattan\",\"Chicago\",\"DC\"],\"xaxis\":\"x8\",\"y\":[420.5786670505254,268.0505938012938,638.6577181208054,297.6219512195122],\"yaxis\":\"y8\",\"type\":\"bar\"},{\"alignmentgroup\":\"True\",\"hovertemplate\":\"max_delay=300<br>duration_minutes=120<br>area=%{x}<br>cost_per_request=%{y}<extra></extra>\",\"legendgroup\":\"\",\"marker\":{\"color\":\"#636efa\",\"pattern\":{\"shape\":\"\"}},\"name\":\"\",\"offsetgroup\":\"\",\"orientation\":\"v\",\"showlegend\":false,\"textposition\":\"auto\",\"x\":[\"Manhattan\",\"Chicago\",\"DC\"],\"xaxis\":\"x9\",\"y\":[263.44312101739575,648.256880733945,274.1320293398533],\"yaxis\":\"y9\",\"type\":\"bar\"},{\"alignmentgroup\":\"True\",\"hovertemplate\":\"max_delay=300<br>duration_minutes=960<br>area=%{x}<br>cost_per_request=%{y}<extra></extra>\",\"legendgroup\":\"\",\"marker\":{\"color\":\"#636efa\",\"pattern\":{\"shape\":\"\"}},\"name\":\"\",\"offsetgroup\":\"\",\"orientation\":\"v\",\"showlegend\":false,\"textposition\":\"auto\",\"x\":[\"Manhattan\",\"Chicago\",\"DC\"],\"xaxis\":\"x10\",\"y\":[278.23904928099665,883.3948339483395,255.4140127388535],\"yaxis\":\"y10\",\"type\":\"bar\"},{\"alignmentgroup\":\"True\",\"hovertemplate\":\"max_delay=600<br>duration_minutes=5<br>area=%{x}<br>cost_per_request=%{y}<extra></extra>\",\"legendgroup\":\"\",\"marker\":{\"color\":\"#636efa\",\"pattern\":{\"shape\":\"\"}},\"name\":\"\",\"offsetgroup\":\"\",\"orientation\":\"v\",\"showlegend\":false,\"textposition\":\"auto\",\"x\":[\"NYC\",\"Manhattan\",\"Chicago\",\"DC\"],\"xaxis\":\"x\",\"y\":[477.26490825688074,320.57866184448466,696.2637362637363,341.1111111111111],\"yaxis\":\"y\",\"type\":\"bar\"},{\"alignmentgroup\":\"True\",\"hovertemplate\":\"max_delay=600<br>duration_minutes=15<br>area=%{x}<br>cost_per_request=%{y}<extra></extra>\",\"legendgroup\":\"\",\"marker\":{\"color\":\"#636efa\",\"pattern\":{\"shape\":\"\"}},\"name\":\"\",\"offsetgroup\":\"\",\"orientation\":\"v\",\"showlegend\":false,\"textposition\":\"auto\",\"x\":[\"NYC\",\"Manhattan\",\"Chicago\",\"DC\"],\"xaxis\":\"x2\",\"y\":[418.05810542254187,283.4806413766132,591.4598540145986,293.37423312883436],\"yaxis\":\"y2\",\"type\":\"bar\"},{\"alignmentgroup\":\"True\",\"hovertemplate\":\"max_delay=600<br>duration_minutes=30<br>area=%{x}<br>cost_per_request=%{y}<extra></extra>\",\"legendgroup\":\"\",\"marker\":{\"color\":\"#636efa\",\"pattern\":{\"shape\":\"\"}},\"name\":\"\",\"offsetgroup\":\"\",\"orientation\":\"v\",\"showlegend\":false,\"textposition\":\"auto\",\"x\":[\"NYC\",\"Manhattan\",\"Chicago\",\"DC\"],\"xaxis\":\"x3\",\"y\":[391.3718151720167,254.52930385246694,566.4765100671141,260.6707317073171],\"yaxis\":\"y3\",\"type\":\"bar\"},{\"alignmentgroup\":\"True\",\"hovertemplate\":\"max_delay=600<br>duration_minutes=120<br>area=%{x}<br>cost_per_request=%{y}<extra></extra>\",\"legendgroup\":\"\",\"marker\":{\"color\":\"#636efa\",\"pattern\":{\"shape\":\"\"}},\"name\":\"\",\"offsetgroup\":\"\",\"orientation\":\"v\",\"showlegend\":false,\"textposition\":\"auto\",\"x\":[\"Manhattan\",\"Chicago\",\"DC\"],\"xaxis\":\"x4\",\"y\":[238.81590621891215,553.8532110091743,255.06112469437653],\"yaxis\":\"y4\",\"type\":\"bar\"},{\"alignmentgroup\":\"True\",\"hovertemplate\":\"max_delay=600<br>duration_minutes=960<br>area=%{x}<br>cost_per_request=%{y}<extra></extra>\",\"legendgroup\":\"\",\"marker\":{\"color\":\"#636efa\",\"pattern\":{\"shape\":\"\"}},\"name\":\"\",\"offsetgroup\":\"\",\"orientation\":\"v\",\"showlegend\":false,\"textposition\":\"auto\",\"x\":[\"Manhattan\",\"Chicago\",\"DC\"],\"xaxis\":\"x5\",\"y\":[248.2940513794703,673.9167105956774,236.85168334849863],\"yaxis\":\"y5\",\"type\":\"bar\"}],                        {\"template\":{\"data\":{\"histogram2dcontour\":[{\"type\":\"histogram2dcontour\",\"colorbar\":{\"outlinewidth\":0,\"ticks\":\"\"},\"colorscale\":[[0.0,\"#0d0887\"],[0.1111111111111111,\"#46039f\"],[0.2222222222222222,\"#7201a8\"],[0.3333333333333333,\"#9c179e\"],[0.4444444444444444,\"#bd3786\"],[0.5555555555555556,\"#d8576b\"],[0.6666666666666666,\"#ed7953\"],[0.7777777777777778,\"#fb9f3a\"],[0.8888888888888888,\"#fdca26\"],[1.0,\"#f0f921\"]]}],\"choropleth\":[{\"type\":\"choropleth\",\"colorbar\":{\"outlinewidth\":0,\"ticks\":\"\"}}],\"histogram2d\":[{\"type\":\"histogram2d\",\"colorbar\":{\"outlinewidth\":0,\"ticks\":\"\"},\"colorscale\":[[0.0,\"#0d0887\"],[0.1111111111111111,\"#46039f\"],[0.2222222222222222,\"#7201a8\"],[0.3333333333333333,\"#9c179e\"],[0.4444444444444444,\"#bd3786\"],[0.5555555555555556,\"#d8576b\"],[0.6666666666666666,\"#ed7953\"],[0.7777777777777778,\"#fb9f3a\"],[0.8888888888888888,\"#fdca26\"],[1.0,\"#f0f921\"]]}],\"heatmap\":[{\"type\":\"heatmap\",\"colorbar\":{\"outlinewidth\":0,\"ticks\":\"\"},\"colorscale\":[[0.0,\"#0d0887\"],[0.1111111111111111,\"#46039f\"],[0.2222222222222222,\"#7201a8\"],[0.3333333333333333,\"#9c179e\"],[0.4444444444444444,\"#bd3786\"],[0.5555555555555556,\"#d8576b\"],[0.6666666666666666,\"#ed7953\"],[0.7777777777777778,\"#fb9f3a\"],[0.8888888888888888,\"#fdca26\"],[1.0,\"#f0f921\"]]}],\"heatmapgl\":[{\"type\":\"heatmapgl\",\"colorbar\":{\"outlinewidth\":0,\"ticks\":\"\"},\"colorscale\":[[0.0,\"#0d0887\"],[0.1111111111111111,\"#46039f\"],[0.2222222222222222,\"#7201a8\"],[0.3333333333333333,\"#9c179e\"],[0.4444444444444444,\"#bd3786\"],[0.5555555555555556,\"#d8576b\"],[0.6666666666666666,\"#ed7953\"],[0.7777777777777778,\"#fb9f3a\"],[0.8888888888888888,\"#fdca26\"],[1.0,\"#f0f921\"]]}],\"contourcarpet\":[{\"type\":\"contourcarpet\",\"colorbar\":{\"outlinewidth\":0,\"ticks\":\"\"}}],\"contour\":[{\"type\":\"contour\",\"colorbar\":{\"outlinewidth\":0,\"ticks\":\"\"},\"colorscale\":[[0.0,\"#0d0887\"],[0.1111111111111111,\"#46039f\"],[0.2222222222222222,\"#7201a8\"],[0.3333333333333333,\"#9c179e\"],[0.4444444444444444,\"#bd3786\"],[0.5555555555555556,\"#d8576b\"],[0.6666666666666666,\"#ed7953\"],[0.7777777777777778,\"#fb9f3a\"],[0.8888888888888888,\"#fdca26\"],[1.0,\"#f0f921\"]]}],\"surface\":[{\"type\":\"surface\",\"colorbar\":{\"outlinewidth\":0,\"ticks\":\"\"},\"colorscale\":[[0.0,\"#0d0887\"],[0.1111111111111111,\"#46039f\"],[0.2222222222222222,\"#7201a8\"],[0.3333333333333333,\"#9c179e\"],[0.4444444444444444,\"#bd3786\"],[0.5555555555555556,\"#d8576b\"],[0.6666666666666666,\"#ed7953\"],[0.7777777777777778,\"#fb9f3a\"],[0.8888888888888888,\"#fdca26\"],[1.0,\"#f0f921\"]]}],\"mesh3d\":[{\"type\":\"mesh3d\",\"colorbar\":{\"outlinewidth\":0,\"ticks\":\"\"}}],\"scatter\":[{\"fillpattern\":{\"fillmode\":\"overlay\",\"size\":10,\"solidity\":0.2},\"type\":\"scatter\"}],\"parcoords\":[{\"type\":\"parcoords\",\"line\":{\"colorbar\":{\"outlinewidth\":0,\"ticks\":\"\"}}}],\"scatterpolargl\":[{\"type\":\"scatterpolargl\",\"marker\":{\"colorbar\":{\"outlinewidth\":0,\"ticks\":\"\"}}}],\"bar\":[{\"error_x\":{\"color\":\"#2a3f5f\"},\"error_y\":{\"color\":\"#2a3f5f\"},\"marker\":{\"line\":{\"color\":\"#E5ECF6\",\"width\":0.5},\"pattern\":{\"fillmode\":\"overlay\",\"size\":10,\"solidity\":0.2}},\"type\":\"bar\"}],\"scattergeo\":[{\"type\":\"scattergeo\",\"marker\":{\"colorbar\":{\"outlinewidth\":0,\"ticks\":\"\"}}}],\"scatterpolar\":[{\"type\":\"scatterpolar\",\"marker\":{\"colorbar\":{\"outlinewidth\":0,\"ticks\":\"\"}}}],\"histogram\":[{\"marker\":{\"pattern\":{\"fillmode\":\"overlay\",\"size\":10,\"solidity\":0.2}},\"type\":\"histogram\"}],\"scattergl\":[{\"type\":\"scattergl\",\"marker\":{\"colorbar\":{\"outlinewidth\":0,\"ticks\":\"\"}}}],\"scatter3d\":[{\"type\":\"scatter3d\",\"line\":{\"colorbar\":{\"outlinewidth\":0,\"ticks\":\"\"}},\"marker\":{\"colorbar\":{\"outlinewidth\":0,\"ticks\":\"\"}}}],\"scattermapbox\":[{\"type\":\"scattermapbox\",\"marker\":{\"colorbar\":{\"outlinewidth\":0,\"ticks\":\"\"}}}],\"scatterternary\":[{\"type\":\"scatterternary\",\"marker\":{\"colorbar\":{\"outlinewidth\":0,\"ticks\":\"\"}}}],\"scattercarpet\":[{\"type\":\"scattercarpet\",\"marker\":{\"colorbar\":{\"outlinewidth\":0,\"ticks\":\"\"}}}],\"carpet\":[{\"aaxis\":{\"endlinecolor\":\"#2a3f5f\",\"gridcolor\":\"white\",\"linecolor\":\"white\",\"minorgridcolor\":\"white\",\"startlinecolor\":\"#2a3f5f\"},\"baxis\":{\"endlinecolor\":\"#2a3f5f\",\"gridcolor\":\"white\",\"linecolor\":\"white\",\"minorgridcolor\":\"white\",\"startlinecolor\":\"#2a3f5f\"},\"type\":\"carpet\"}],\"table\":[{\"cells\":{\"fill\":{\"color\":\"#EBF0F8\"},\"line\":{\"color\":\"white\"}},\"header\":{\"fill\":{\"color\":\"#C8D4E3\"},\"line\":{\"color\":\"white\"}},\"type\":\"table\"}],\"barpolar\":[{\"marker\":{\"line\":{\"color\":\"#E5ECF6\",\"width\":0.5},\"pattern\":{\"fillmode\":\"overlay\",\"size\":10,\"solidity\":0.2}},\"type\":\"barpolar\"}],\"pie\":[{\"automargin\":true,\"type\":\"pie\"}]},\"layout\":{\"autotypenumbers\":\"strict\",\"colorway\":[\"#636efa\",\"#EF553B\",\"#00cc96\",\"#ab63fa\",\"#FFA15A\",\"#19d3f3\",\"#FF6692\",\"#B6E880\",\"#FF97FF\",\"#FECB52\"],\"font\":{\"color\":\"#2a3f5f\"},\"hovermode\":\"closest\",\"hoverlabel\":{\"align\":\"left\"},\"paper_bgcolor\":\"white\",\"plot_bgcolor\":\"#E5ECF6\",\"polar\":{\"bgcolor\":\"#E5ECF6\",\"angularaxis\":{\"gridcolor\":\"white\",\"linecolor\":\"white\",\"ticks\":\"\"},\"radialaxis\":{\"gridcolor\":\"white\",\"linecolor\":\"white\",\"ticks\":\"\"}},\"ternary\":{\"bgcolor\":\"#E5ECF6\",\"aaxis\":{\"gridcolor\":\"white\",\"linecolor\":\"white\",\"ticks\":\"\"},\"baxis\":{\"gridcolor\":\"white\",\"linecolor\":\"white\",\"ticks\":\"\"},\"caxis\":{\"gridcolor\":\"white\",\"linecolor\":\"white\",\"ticks\":\"\"}},\"coloraxis\":{\"colorbar\":{\"outlinewidth\":0,\"ticks\":\"\"}},\"colorscale\":{\"sequential\":[[0.0,\"#0d0887\"],[0.1111111111111111,\"#46039f\"],[0.2222222222222222,\"#7201a8\"],[0.3333333333333333,\"#9c179e\"],[0.4444444444444444,\"#bd3786\"],[0.5555555555555556,\"#d8576b\"],[0.6666666666666666,\"#ed7953\"],[0.7777777777777778,\"#fb9f3a\"],[0.8888888888888888,\"#fdca26\"],[1.0,\"#f0f921\"]],\"sequentialminus\":[[0.0,\"#0d0887\"],[0.1111111111111111,\"#46039f\"],[0.2222222222222222,\"#7201a8\"],[0.3333333333333333,\"#9c179e\"],[0.4444444444444444,\"#bd3786\"],[0.5555555555555556,\"#d8576b\"],[0.6666666666666666,\"#ed7953\"],[0.7777777777777778,\"#fb9f3a\"],[0.8888888888888888,\"#fdca26\"],[1.0,\"#f0f921\"]],\"diverging\":[[0,\"#8e0152\"],[0.1,\"#c51b7d\"],[0.2,\"#de77ae\"],[0.3,\"#f1b6da\"],[0.4,\"#fde0ef\"],[0.5,\"#f7f7f7\"],[0.6,\"#e6f5d0\"],[0.7,\"#b8e186\"],[0.8,\"#7fbc41\"],[0.9,\"#4d9221\"],[1,\"#276419\"]]},\"xaxis\":{\"gridcolor\":\"white\",\"linecolor\":\"white\",\"ticks\":\"\",\"title\":{\"standoff\":15},\"zerolinecolor\":\"white\",\"automargin\":true,\"zerolinewidth\":2},\"yaxis\":{\"gridcolor\":\"white\",\"linecolor\":\"white\",\"ticks\":\"\",\"title\":{\"standoff\":15},\"zerolinecolor\":\"white\",\"automargin\":true,\"zerolinewidth\":2},\"scene\":{\"xaxis\":{\"backgroundcolor\":\"#E5ECF6\",\"gridcolor\":\"white\",\"linecolor\":\"white\",\"showbackground\":true,\"ticks\":\"\",\"zerolinecolor\":\"white\",\"gridwidth\":2},\"yaxis\":{\"backgroundcolor\":\"#E5ECF6\",\"gridcolor\":\"white\",\"linecolor\":\"white\",\"showbackground\":true,\"ticks\":\"\",\"zerolinecolor\":\"white\",\"gridwidth\":2},\"zaxis\":{\"backgroundcolor\":\"#E5ECF6\",\"gridcolor\":\"white\",\"linecolor\":\"white\",\"showbackground\":true,\"ticks\":\"\",\"zerolinecolor\":\"white\",\"gridwidth\":2}},\"shapedefaults\":{\"line\":{\"color\":\"#2a3f5f\"}},\"annotationdefaults\":{\"arrowcolor\":\"#2a3f5f\",\"arrowhead\":0,\"arrowwidth\":1},\"geo\":{\"bgcolor\":\"white\",\"landcolor\":\"#E5ECF6\",\"subunitcolor\":\"white\",\"showland\":true,\"showlakes\":true,\"lakecolor\":\"white\"},\"title\":{\"x\":0.05},\"mapbox\":{\"style\":\"light\"}}},\"xaxis\":{\"anchor\":\"y\",\"domain\":[0.0,0.18000000000000002],\"title\":{\"text\":\"\"}},\"yaxis\":{\"anchor\":\"x\",\"domain\":[0.0,0.3133333333333333],\"title\":{\"text\":\"\"}},\"xaxis2\":{\"anchor\":\"y2\",\"domain\":[0.2,0.38],\"matches\":\"x\",\"title\":{\"text\":\"\"}},\"yaxis2\":{\"anchor\":\"x2\",\"domain\":[0.0,0.3133333333333333],\"matches\":\"y\",\"showticklabels\":false,\"title\":{\"text\":\"\"}},\"xaxis3\":{\"anchor\":\"y3\",\"domain\":[0.4,0.5800000000000001],\"matches\":\"x\",\"title\":{\"text\":\"\"}},\"yaxis3\":{\"anchor\":\"x3\",\"domain\":[0.0,0.3133333333333333],\"matches\":\"y\",\"showticklabels\":false,\"title\":{\"text\":\"\"}},\"xaxis4\":{\"anchor\":\"y4\",\"domain\":[0.6000000000000001,0.7800000000000001],\"matches\":\"x\",\"title\":{\"text\":\"\"}},\"yaxis4\":{\"anchor\":\"x4\",\"domain\":[0.0,0.3133333333333333],\"matches\":\"y\",\"showticklabels\":false,\"title\":{\"text\":\"\"}},\"xaxis5\":{\"anchor\":\"y5\",\"domain\":[0.8,0.9800000000000001],\"matches\":\"x\",\"title\":{\"text\":\"\"}},\"yaxis5\":{\"anchor\":\"x5\",\"domain\":[0.0,0.3133333333333333],\"matches\":\"y\",\"showticklabels\":false,\"title\":{\"text\":\"\"}},\"xaxis6\":{\"anchor\":\"y6\",\"domain\":[0.0,0.18000000000000002],\"matches\":\"x\",\"showticklabels\":false,\"title\":{\"text\":\"\"}},\"yaxis6\":{\"anchor\":\"x6\",\"domain\":[0.34333333333333327,0.6566666666666665],\"matches\":\"y\",\"title\":{\"text\":\"\"}},\"xaxis7\":{\"anchor\":\"y7\",\"domain\":[0.2,0.38],\"matches\":\"x\",\"showticklabels\":false,\"title\":{\"text\":\"\"}},\"yaxis7\":{\"anchor\":\"x7\",\"domain\":[0.34333333333333327,0.6566666666666665],\"matches\":\"y\",\"showticklabels\":false,\"title\":{\"text\":\"\"}},\"xaxis8\":{\"anchor\":\"y8\",\"domain\":[0.4,0.5800000000000001],\"matches\":\"x\",\"showticklabels\":false,\"title\":{\"text\":\"\"}},\"yaxis8\":{\"anchor\":\"x8\",\"domain\":[0.34333333333333327,0.6566666666666665],\"matches\":\"y\",\"showticklabels\":false,\"title\":{\"text\":\"\"}},\"xaxis9\":{\"anchor\":\"y9\",\"domain\":[0.6000000000000001,0.7800000000000001],\"matches\":\"x\",\"showticklabels\":false,\"title\":{\"text\":\"\"}},\"yaxis9\":{\"anchor\":\"x9\",\"domain\":[0.34333333333333327,0.6566666666666665],\"matches\":\"y\",\"showticklabels\":false,\"title\":{\"text\":\"\"}},\"xaxis10\":{\"anchor\":\"y10\",\"domain\":[0.8,0.9800000000000001],\"matches\":\"x\",\"showticklabels\":false,\"title\":{\"text\":\"\"}},\"yaxis10\":{\"anchor\":\"x10\",\"domain\":[0.34333333333333327,0.6566666666666665],\"matches\":\"y\",\"showticklabels\":false,\"title\":{\"text\":\"\"}},\"xaxis11\":{\"anchor\":\"y11\",\"domain\":[0.0,0.18000000000000002],\"matches\":\"x\",\"showticklabels\":false,\"title\":{\"text\":\"\"}},\"yaxis11\":{\"anchor\":\"x11\",\"domain\":[0.6866666666666665,0.9999999999999998],\"matches\":\"y\",\"title\":{\"text\":\"\"}},\"xaxis12\":{\"anchor\":\"y12\",\"domain\":[0.2,0.38],\"matches\":\"x\",\"showticklabels\":false,\"title\":{\"text\":\"\"}},\"yaxis12\":{\"anchor\":\"x12\",\"domain\":[0.6866666666666665,0.9999999999999998],\"matches\":\"y\",\"showticklabels\":false,\"title\":{\"text\":\"\"}},\"xaxis13\":{\"anchor\":\"y13\",\"domain\":[0.4,0.5800000000000001],\"matches\":\"x\",\"showticklabels\":false,\"title\":{\"text\":\"\"}},\"yaxis13\":{\"anchor\":\"x13\",\"domain\":[0.6866666666666665,0.9999999999999998],\"matches\":\"y\",\"showticklabels\":false,\"title\":{\"text\":\"\"}},\"xaxis14\":{\"anchor\":\"y14\",\"domain\":[0.6000000000000001,0.7800000000000001],\"matches\":\"x\",\"showticklabels\":false,\"title\":{\"text\":\"\"}},\"yaxis14\":{\"anchor\":\"x14\",\"domain\":[0.6866666666666665,0.9999999999999998],\"matches\":\"y\",\"showticklabels\":false,\"title\":{\"text\":\"\"}},\"xaxis15\":{\"anchor\":\"y15\",\"domain\":[0.8,0.9800000000000001],\"matches\":\"x\",\"showticklabels\":false,\"title\":{\"text\":\"\"}},\"yaxis15\":{\"anchor\":\"x15\",\"domain\":[0.6866666666666665,0.9999999999999998],\"matches\":\"y\",\"showticklabels\":false,\"title\":{\"text\":\"\"}},\"annotations\":[{\"showarrow\":false,\"text\":\"5\",\"x\":0.09000000000000001,\"xanchor\":\"center\",\"xref\":\"paper\",\"y\":0.9999999999999998,\"yanchor\":\"bottom\",\"yref\":\"paper\"},{\"showarrow\":false,\"text\":\"15\",\"x\":0.29000000000000004,\"xanchor\":\"center\",\"xref\":\"paper\",\"y\":0.9999999999999998,\"yanchor\":\"bottom\",\"yref\":\"paper\"},{\"showarrow\":false,\"text\":\"30\",\"x\":0.49000000000000005,\"xanchor\":\"center\",\"xref\":\"paper\",\"y\":0.9999999999999998,\"yanchor\":\"bottom\",\"yref\":\"paper\"},{\"showarrow\":false,\"text\":\"120\",\"x\":0.6900000000000002,\"xanchor\":\"center\",\"xref\":\"paper\",\"y\":0.9999999999999998,\"yanchor\":\"bottom\",\"yref\":\"paper\"},{\"showarrow\":false,\"text\":\"960\",\"x\":0.8900000000000001,\"xanchor\":\"center\",\"xref\":\"paper\",\"y\":0.9999999999999998,\"yanchor\":\"bottom\",\"yref\":\"paper\"},{\"showarrow\":false,\"text\":\"600\",\"textangle\":90,\"x\":0.9800000000000001,\"xanchor\":\"left\",\"xref\":\"paper\",\"y\":0.15666666666666665,\"yanchor\":\"middle\",\"yref\":\"paper\"},{\"showarrow\":false,\"text\":\"300\",\"textangle\":90,\"x\":0.9800000000000001,\"xanchor\":\"left\",\"xref\":\"paper\",\"y\":0.4999999999999999,\"yanchor\":\"middle\",\"yref\":\"paper\"},{\"showarrow\":false,\"text\":\"180\",\"textangle\":90,\"x\":0.9800000000000001,\"xanchor\":\"left\",\"xref\":\"paper\",\"y\":0.8433333333333332,\"yanchor\":\"middle\",\"yref\":\"paper\"},{\"showarrow\":false,\"text\":\"travel time per request [s]\",\"textangle\":-90,\"x\":-0.06,\"xref\":\"paper\",\"y\":0.5,\"yref\":\"paper\"}],\"legend\":{\"tracegroupgap\":0},\"title\":{\"text\":\"Average Cost per Request\"},\"barmode\":\"group\"},                        {\"responsive\": true}                    ).then(function(){\n                            \nvar gd = document.getElementById('0c70f012-e925-4968-8b3f-f22562f23c43');\nvar x = new MutationObserver(function (mutations, observer) {{\n        var display = window.getComputedStyle(gd).display;\n        if (!display || display === 'none') {{\n            console.log([gd, 'removed!']);\n            Plotly.purge(gd);\n            observer.disconnect();\n        }}\n}});\n\n// Listen for the removal of the full notebook cells\nvar notebookContainer = gd.closest('#notebook-container');\nif (notebookContainer) {{\n    x.observe(notebookContainer, {childList: true});\n}}\n\n// Listen for the clearing of the current output cell\nvar outputEl = gd.closest('.output');\nif (outputEl) {{\n    x.observe(outputEl, {childList: true});\n}}\n\n                        })                };                });            </script>        </div>"
     },
     "metadata": {},
     "output_type": "display_data"
    }
   ],
   "source": [
    "dfih = df[df['method'] == 'ih']\n",
    "fig = px.bar(\n",
    "    dfih,\n",
    "    x = 'area',\n",
    "    y = 'cost_per_request',\n",
    "    barmode='group',\n",
    "    title = 'Average Cost per Request',\n",
    "    facet_col='duration_minutes',\n",
    "    facet_row='max_delay'\n",
    ")\n",
    "\n",
    "# shared axes titles\n",
    "fig.for_each_yaxis(lambda y: y.update(title = ''))\n",
    "fig.add_annotation(x=-0.06, y=0.5, text=\"travel time per request [s]\", textangle=-90, xref=\"paper\", yref=\"paper\", showarrow=False)\n",
    "fig.for_each_xaxis(lambda y: y.update(title = ''))\n",
    "# fig.add_annotation(x=0.5, y=-0.1, text=\"Area\",  xref=\"paper\", yref=\"paper\", showarrow=False)\n",
    "\n",
    "# faceting label editing\n",
    "fig.for_each_annotation(lambda a: a.update(text=a.text.split(\"=\")[-1]))\n",
    "\n",
    "fig.show()"
   ],
   "metadata": {
    "collapsed": false,
    "ExecuteTime": {
     "end_time": "2023-05-11T15:06:14.987017300Z",
     "start_time": "2023-05-11T15:06:14.717937700Z"
    }
   }
  },
  {
   "cell_type": "markdown",
   "source": [
    "## All methods selected instances"
   ],
   "metadata": {
    "collapsed": false
   }
  },
  {
   "cell_type": "code",
   "execution_count": 15,
   "outputs": [
    {
     "data": {
      "application/vnd.plotly.v1+json": {
       "data": [
        {
         "alignmentgroup": "True",
         "hovertemplate": "method=ih<br>max_delay=180<br>duration_minutes=5<br>area=%{x}<br>cost_per_request=%{y}<extra></extra>",
         "legendgroup": "ih",
         "marker": {
          "color": "#636efa",
          "pattern": {
           "shape": ""
          }
         },
         "name": "ih",
         "offsetgroup": "ih",
         "orientation": "v",
         "showlegend": true,
         "textposition": "auto",
         "x": [
          "NYC",
          "Manhattan",
          "Chicago",
          "DC"
         ],
         "xaxis": "x2",
         "y": [
          538.2626146788991,
          347.30560578661846,
          915.1648351648352,
          374.44444444444446
         ],
         "yaxis": "y2",
         "type": "bar"
        },
        {
         "alignmentgroup": "True",
         "hovertemplate": "method=ih<br>max_delay=300<br>duration_minutes=5<br>area=%{x}<br>cost_per_request=%{y}<extra></extra>",
         "legendgroup": "ih",
         "marker": {
          "color": "#636efa",
          "pattern": {
           "shape": ""
          }
         },
         "name": "ih",
         "offsetgroup": "ih",
         "orientation": "v",
         "showlegend": false,
         "textposition": "auto",
         "x": [
          "NYC",
          "Manhattan",
          "Chicago",
          "DC"
         ],
         "xaxis": "x",
         "y": [
          501.6915137614679,
          328.31826401446654,
          777.3626373626373,
          372.22222222222223
         ],
         "yaxis": "y",
         "type": "bar"
        },
        {
         "alignmentgroup": "True",
         "hovertemplate": "method=halns<br>max_delay=180<br>duration_minutes=5<br>area=%{x}<br>cost_per_request=%{y}<extra></extra>",
         "legendgroup": "halns",
         "marker": {
          "color": "#EF553B",
          "pattern": {
           "shape": ""
          }
         },
         "name": "halns",
         "offsetgroup": "halns",
         "orientation": "v",
         "showlegend": true,
         "textposition": "auto",
         "x": [
          "DC",
          "DC"
         ],
         "xaxis": "x2",
         "y": [
          380.0,
          373.3333333333333
         ],
         "yaxis": "y2",
         "type": "bar"
        },
        {
         "alignmentgroup": "True",
         "hovertemplate": "method=halns<br>max_delay=300<br>duration_minutes=5<br>area=%{x}<br>cost_per_request=%{y}<extra></extra>",
         "legendgroup": "halns",
         "marker": {
          "color": "#EF553B",
          "pattern": {
           "shape": ""
          }
         },
         "name": "halns",
         "offsetgroup": "halns",
         "orientation": "v",
         "showlegend": false,
         "textposition": "auto",
         "x": [
          "DC",
          "DC"
         ],
         "xaxis": "x",
         "y": [
          363.3333333333333,
          357.77777777777777
         ],
         "yaxis": "y",
         "type": "bar"
        },
        {
         "alignmentgroup": "True",
         "hovertemplate": "method=vga<br>max_delay=180<br>duration_minutes=5<br>area=%{x}<br>cost_per_request=%{y}<extra></extra>",
         "legendgroup": "vga",
         "marker": {
          "color": "#00cc96",
          "pattern": {
           "shape": ""
          }
         },
         "name": "vga",
         "offsetgroup": "vga",
         "orientation": "v",
         "showlegend": true,
         "textposition": "auto",
         "x": [
          "DC"
         ],
         "xaxis": "x2",
         "y": [
          370.0
         ],
         "yaxis": "y2",
         "type": "bar"
        },
        {
         "alignmentgroup": "True",
         "hovertemplate": "method=vga<br>max_delay=300<br>duration_minutes=5<br>area=%{x}<br>cost_per_request=%{y}<extra></extra>",
         "legendgroup": "vga",
         "marker": {
          "color": "#00cc96",
          "pattern": {
           "shape": ""
          }
         },
         "name": "vga",
         "offsetgroup": "vga",
         "orientation": "v",
         "showlegend": false,
         "textposition": "auto",
         "x": [
          "DC"
         ],
         "xaxis": "x",
         "y": [
          338.8888888888889
         ],
         "yaxis": "y",
         "type": "bar"
        }
       ],
       "layout": {
        "template": {
         "data": {
          "histogram2dcontour": [
           {
            "type": "histogram2dcontour",
            "colorbar": {
             "outlinewidth": 0,
             "ticks": ""
            },
            "colorscale": [
             [
              0.0,
              "#0d0887"
             ],
             [
              0.1111111111111111,
              "#46039f"
             ],
             [
              0.2222222222222222,
              "#7201a8"
             ],
             [
              0.3333333333333333,
              "#9c179e"
             ],
             [
              0.4444444444444444,
              "#bd3786"
             ],
             [
              0.5555555555555556,
              "#d8576b"
             ],
             [
              0.6666666666666666,
              "#ed7953"
             ],
             [
              0.7777777777777778,
              "#fb9f3a"
             ],
             [
              0.8888888888888888,
              "#fdca26"
             ],
             [
              1.0,
              "#f0f921"
             ]
            ]
           }
          ],
          "choropleth": [
           {
            "type": "choropleth",
            "colorbar": {
             "outlinewidth": 0,
             "ticks": ""
            }
           }
          ],
          "histogram2d": [
           {
            "type": "histogram2d",
            "colorbar": {
             "outlinewidth": 0,
             "ticks": ""
            },
            "colorscale": [
             [
              0.0,
              "#0d0887"
             ],
             [
              0.1111111111111111,
              "#46039f"
             ],
             [
              0.2222222222222222,
              "#7201a8"
             ],
             [
              0.3333333333333333,
              "#9c179e"
             ],
             [
              0.4444444444444444,
              "#bd3786"
             ],
             [
              0.5555555555555556,
              "#d8576b"
             ],
             [
              0.6666666666666666,
              "#ed7953"
             ],
             [
              0.7777777777777778,
              "#fb9f3a"
             ],
             [
              0.8888888888888888,
              "#fdca26"
             ],
             [
              1.0,
              "#f0f921"
             ]
            ]
           }
          ],
          "heatmap": [
           {
            "type": "heatmap",
            "colorbar": {
             "outlinewidth": 0,
             "ticks": ""
            },
            "colorscale": [
             [
              0.0,
              "#0d0887"
             ],
             [
              0.1111111111111111,
              "#46039f"
             ],
             [
              0.2222222222222222,
              "#7201a8"
             ],
             [
              0.3333333333333333,
              "#9c179e"
             ],
             [
              0.4444444444444444,
              "#bd3786"
             ],
             [
              0.5555555555555556,
              "#d8576b"
             ],
             [
              0.6666666666666666,
              "#ed7953"
             ],
             [
              0.7777777777777778,
              "#fb9f3a"
             ],
             [
              0.8888888888888888,
              "#fdca26"
             ],
             [
              1.0,
              "#f0f921"
             ]
            ]
           }
          ],
          "heatmapgl": [
           {
            "type": "heatmapgl",
            "colorbar": {
             "outlinewidth": 0,
             "ticks": ""
            },
            "colorscale": [
             [
              0.0,
              "#0d0887"
             ],
             [
              0.1111111111111111,
              "#46039f"
             ],
             [
              0.2222222222222222,
              "#7201a8"
             ],
             [
              0.3333333333333333,
              "#9c179e"
             ],
             [
              0.4444444444444444,
              "#bd3786"
             ],
             [
              0.5555555555555556,
              "#d8576b"
             ],
             [
              0.6666666666666666,
              "#ed7953"
             ],
             [
              0.7777777777777778,
              "#fb9f3a"
             ],
             [
              0.8888888888888888,
              "#fdca26"
             ],
             [
              1.0,
              "#f0f921"
             ]
            ]
           }
          ],
          "contourcarpet": [
           {
            "type": "contourcarpet",
            "colorbar": {
             "outlinewidth": 0,
             "ticks": ""
            }
           }
          ],
          "contour": [
           {
            "type": "contour",
            "colorbar": {
             "outlinewidth": 0,
             "ticks": ""
            },
            "colorscale": [
             [
              0.0,
              "#0d0887"
             ],
             [
              0.1111111111111111,
              "#46039f"
             ],
             [
              0.2222222222222222,
              "#7201a8"
             ],
             [
              0.3333333333333333,
              "#9c179e"
             ],
             [
              0.4444444444444444,
              "#bd3786"
             ],
             [
              0.5555555555555556,
              "#d8576b"
             ],
             [
              0.6666666666666666,
              "#ed7953"
             ],
             [
              0.7777777777777778,
              "#fb9f3a"
             ],
             [
              0.8888888888888888,
              "#fdca26"
             ],
             [
              1.0,
              "#f0f921"
             ]
            ]
           }
          ],
          "surface": [
           {
            "type": "surface",
            "colorbar": {
             "outlinewidth": 0,
             "ticks": ""
            },
            "colorscale": [
             [
              0.0,
              "#0d0887"
             ],
             [
              0.1111111111111111,
              "#46039f"
             ],
             [
              0.2222222222222222,
              "#7201a8"
             ],
             [
              0.3333333333333333,
              "#9c179e"
             ],
             [
              0.4444444444444444,
              "#bd3786"
             ],
             [
              0.5555555555555556,
              "#d8576b"
             ],
             [
              0.6666666666666666,
              "#ed7953"
             ],
             [
              0.7777777777777778,
              "#fb9f3a"
             ],
             [
              0.8888888888888888,
              "#fdca26"
             ],
             [
              1.0,
              "#f0f921"
             ]
            ]
           }
          ],
          "mesh3d": [
           {
            "type": "mesh3d",
            "colorbar": {
             "outlinewidth": 0,
             "ticks": ""
            }
           }
          ],
          "scatter": [
           {
            "fillpattern": {
             "fillmode": "overlay",
             "size": 10,
             "solidity": 0.2
            },
            "type": "scatter"
           }
          ],
          "parcoords": [
           {
            "type": "parcoords",
            "line": {
             "colorbar": {
              "outlinewidth": 0,
              "ticks": ""
             }
            }
           }
          ],
          "scatterpolargl": [
           {
            "type": "scatterpolargl",
            "marker": {
             "colorbar": {
              "outlinewidth": 0,
              "ticks": ""
             }
            }
           }
          ],
          "bar": [
           {
            "error_x": {
             "color": "#2a3f5f"
            },
            "error_y": {
             "color": "#2a3f5f"
            },
            "marker": {
             "line": {
              "color": "#E5ECF6",
              "width": 0.5
             },
             "pattern": {
              "fillmode": "overlay",
              "size": 10,
              "solidity": 0.2
             }
            },
            "type": "bar"
           }
          ],
          "scattergeo": [
           {
            "type": "scattergeo",
            "marker": {
             "colorbar": {
              "outlinewidth": 0,
              "ticks": ""
             }
            }
           }
          ],
          "scatterpolar": [
           {
            "type": "scatterpolar",
            "marker": {
             "colorbar": {
              "outlinewidth": 0,
              "ticks": ""
             }
            }
           }
          ],
          "histogram": [
           {
            "marker": {
             "pattern": {
              "fillmode": "overlay",
              "size": 10,
              "solidity": 0.2
             }
            },
            "type": "histogram"
           }
          ],
          "scattergl": [
           {
            "type": "scattergl",
            "marker": {
             "colorbar": {
              "outlinewidth": 0,
              "ticks": ""
             }
            }
           }
          ],
          "scatter3d": [
           {
            "type": "scatter3d",
            "line": {
             "colorbar": {
              "outlinewidth": 0,
              "ticks": ""
             }
            },
            "marker": {
             "colorbar": {
              "outlinewidth": 0,
              "ticks": ""
             }
            }
           }
          ],
          "scattermapbox": [
           {
            "type": "scattermapbox",
            "marker": {
             "colorbar": {
              "outlinewidth": 0,
              "ticks": ""
             }
            }
           }
          ],
          "scatterternary": [
           {
            "type": "scatterternary",
            "marker": {
             "colorbar": {
              "outlinewidth": 0,
              "ticks": ""
             }
            }
           }
          ],
          "scattercarpet": [
           {
            "type": "scattercarpet",
            "marker": {
             "colorbar": {
              "outlinewidth": 0,
              "ticks": ""
             }
            }
           }
          ],
          "carpet": [
           {
            "aaxis": {
             "endlinecolor": "#2a3f5f",
             "gridcolor": "white",
             "linecolor": "white",
             "minorgridcolor": "white",
             "startlinecolor": "#2a3f5f"
            },
            "baxis": {
             "endlinecolor": "#2a3f5f",
             "gridcolor": "white",
             "linecolor": "white",
             "minorgridcolor": "white",
             "startlinecolor": "#2a3f5f"
            },
            "type": "carpet"
           }
          ],
          "table": [
           {
            "cells": {
             "fill": {
              "color": "#EBF0F8"
             },
             "line": {
              "color": "white"
             }
            },
            "header": {
             "fill": {
              "color": "#C8D4E3"
             },
             "line": {
              "color": "white"
             }
            },
            "type": "table"
           }
          ],
          "barpolar": [
           {
            "marker": {
             "line": {
              "color": "#E5ECF6",
              "width": 0.5
             },
             "pattern": {
              "fillmode": "overlay",
              "size": 10,
              "solidity": 0.2
             }
            },
            "type": "barpolar"
           }
          ],
          "pie": [
           {
            "automargin": true,
            "type": "pie"
           }
          ]
         },
         "layout": {
          "autotypenumbers": "strict",
          "colorway": [
           "#636efa",
           "#EF553B",
           "#00cc96",
           "#ab63fa",
           "#FFA15A",
           "#19d3f3",
           "#FF6692",
           "#B6E880",
           "#FF97FF",
           "#FECB52"
          ],
          "font": {
           "color": "#2a3f5f"
          },
          "hovermode": "closest",
          "hoverlabel": {
           "align": "left"
          },
          "paper_bgcolor": "white",
          "plot_bgcolor": "#E5ECF6",
          "polar": {
           "bgcolor": "#E5ECF6",
           "angularaxis": {
            "gridcolor": "white",
            "linecolor": "white",
            "ticks": ""
           },
           "radialaxis": {
            "gridcolor": "white",
            "linecolor": "white",
            "ticks": ""
           }
          },
          "ternary": {
           "bgcolor": "#E5ECF6",
           "aaxis": {
            "gridcolor": "white",
            "linecolor": "white",
            "ticks": ""
           },
           "baxis": {
            "gridcolor": "white",
            "linecolor": "white",
            "ticks": ""
           },
           "caxis": {
            "gridcolor": "white",
            "linecolor": "white",
            "ticks": ""
           }
          },
          "coloraxis": {
           "colorbar": {
            "outlinewidth": 0,
            "ticks": ""
           }
          },
          "colorscale": {
           "sequential": [
            [
             0.0,
             "#0d0887"
            ],
            [
             0.1111111111111111,
             "#46039f"
            ],
            [
             0.2222222222222222,
             "#7201a8"
            ],
            [
             0.3333333333333333,
             "#9c179e"
            ],
            [
             0.4444444444444444,
             "#bd3786"
            ],
            [
             0.5555555555555556,
             "#d8576b"
            ],
            [
             0.6666666666666666,
             "#ed7953"
            ],
            [
             0.7777777777777778,
             "#fb9f3a"
            ],
            [
             0.8888888888888888,
             "#fdca26"
            ],
            [
             1.0,
             "#f0f921"
            ]
           ],
           "sequentialminus": [
            [
             0.0,
             "#0d0887"
            ],
            [
             0.1111111111111111,
             "#46039f"
            ],
            [
             0.2222222222222222,
             "#7201a8"
            ],
            [
             0.3333333333333333,
             "#9c179e"
            ],
            [
             0.4444444444444444,
             "#bd3786"
            ],
            [
             0.5555555555555556,
             "#d8576b"
            ],
            [
             0.6666666666666666,
             "#ed7953"
            ],
            [
             0.7777777777777778,
             "#fb9f3a"
            ],
            [
             0.8888888888888888,
             "#fdca26"
            ],
            [
             1.0,
             "#f0f921"
            ]
           ],
           "diverging": [
            [
             0,
             "#8e0152"
            ],
            [
             0.1,
             "#c51b7d"
            ],
            [
             0.2,
             "#de77ae"
            ],
            [
             0.3,
             "#f1b6da"
            ],
            [
             0.4,
             "#fde0ef"
            ],
            [
             0.5,
             "#f7f7f7"
            ],
            [
             0.6,
             "#e6f5d0"
            ],
            [
             0.7,
             "#b8e186"
            ],
            [
             0.8,
             "#7fbc41"
            ],
            [
             0.9,
             "#4d9221"
            ],
            [
             1,
             "#276419"
            ]
           ]
          },
          "xaxis": {
           "gridcolor": "white",
           "linecolor": "white",
           "ticks": "",
           "title": {
            "standoff": 15
           },
           "zerolinecolor": "white",
           "automargin": true,
           "zerolinewidth": 2
          },
          "yaxis": {
           "gridcolor": "white",
           "linecolor": "white",
           "ticks": "",
           "title": {
            "standoff": 15
           },
           "zerolinecolor": "white",
           "automargin": true,
           "zerolinewidth": 2
          },
          "scene": {
           "xaxis": {
            "backgroundcolor": "#E5ECF6",
            "gridcolor": "white",
            "linecolor": "white",
            "showbackground": true,
            "ticks": "",
            "zerolinecolor": "white",
            "gridwidth": 2
           },
           "yaxis": {
            "backgroundcolor": "#E5ECF6",
            "gridcolor": "white",
            "linecolor": "white",
            "showbackground": true,
            "ticks": "",
            "zerolinecolor": "white",
            "gridwidth": 2
           },
           "zaxis": {
            "backgroundcolor": "#E5ECF6",
            "gridcolor": "white",
            "linecolor": "white",
            "showbackground": true,
            "ticks": "",
            "zerolinecolor": "white",
            "gridwidth": 2
           }
          },
          "shapedefaults": {
           "line": {
            "color": "#2a3f5f"
           }
          },
          "annotationdefaults": {
           "arrowcolor": "#2a3f5f",
           "arrowhead": 0,
           "arrowwidth": 1
          },
          "geo": {
           "bgcolor": "white",
           "landcolor": "#E5ECF6",
           "subunitcolor": "white",
           "showland": true,
           "showlakes": true,
           "lakecolor": "white"
          },
          "title": {
           "x": 0.05
          },
          "mapbox": {
           "style": "light"
          }
         }
        },
        "xaxis": {
         "anchor": "y",
         "domain": [
          0.0,
          0.98
         ],
         "title": {
          "text": ""
         }
        },
        "yaxis": {
         "anchor": "x",
         "domain": [
          0.0,
          0.485
         ],
         "title": {
          "text": ""
         }
        },
        "xaxis2": {
         "anchor": "y2",
         "domain": [
          0.0,
          0.98
         ],
         "matches": "x",
         "showticklabels": false,
         "title": {
          "text": ""
         }
        },
        "yaxis2": {
         "anchor": "x2",
         "domain": [
          0.515,
          1.0
         ],
         "matches": "y",
         "title": {
          "text": ""
         }
        },
        "annotations": [
         {
          "showarrow": false,
          "text": "5",
          "x": 0.49,
          "xanchor": "center",
          "xref": "paper",
          "y": 1.0,
          "yanchor": "bottom",
          "yref": "paper"
         },
         {
          "showarrow": false,
          "text": "300",
          "textangle": 90,
          "x": 0.98,
          "xanchor": "left",
          "xref": "paper",
          "y": 0.2425,
          "yanchor": "middle",
          "yref": "paper"
         },
         {
          "showarrow": false,
          "text": "180",
          "textangle": 90,
          "x": 0.98,
          "xanchor": "left",
          "xref": "paper",
          "y": 0.7575000000000001,
          "yanchor": "middle",
          "yref": "paper"
         },
         {
          "showarrow": false,
          "text": "travel time per request [s]",
          "textangle": -90,
          "x": -0.06,
          "xref": "paper",
          "y": 0.5,
          "yref": "paper"
         }
        ],
        "legend": {
         "title": {
          "text": "method"
         },
         "tracegroupgap": 0
        },
        "title": {
         "text": "Average Cost per Request"
        },
        "barmode": "group"
       },
       "config": {
        "plotlyServerURL": "https://plot.ly"
       }
      },
      "text/html": "<div>                            <div id=\"fa0a6ef5-71b6-4def-ae0d-631d413cf091\" class=\"plotly-graph-div\" style=\"height:525px; width:100%;\"></div>            <script type=\"text/javascript\">                require([\"plotly\"], function(Plotly) {                    window.PLOTLYENV=window.PLOTLYENV || {};                                    if (document.getElementById(\"fa0a6ef5-71b6-4def-ae0d-631d413cf091\")) {                    Plotly.newPlot(                        \"fa0a6ef5-71b6-4def-ae0d-631d413cf091\",                        [{\"alignmentgroup\":\"True\",\"hovertemplate\":\"method=ih<br>max_delay=180<br>duration_minutes=5<br>area=%{x}<br>cost_per_request=%{y}<extra></extra>\",\"legendgroup\":\"ih\",\"marker\":{\"color\":\"#636efa\",\"pattern\":{\"shape\":\"\"}},\"name\":\"ih\",\"offsetgroup\":\"ih\",\"orientation\":\"v\",\"showlegend\":true,\"textposition\":\"auto\",\"x\":[\"NYC\",\"Manhattan\",\"Chicago\",\"DC\"],\"xaxis\":\"x2\",\"y\":[538.2626146788991,347.30560578661846,915.1648351648352,374.44444444444446],\"yaxis\":\"y2\",\"type\":\"bar\"},{\"alignmentgroup\":\"True\",\"hovertemplate\":\"method=ih<br>max_delay=300<br>duration_minutes=5<br>area=%{x}<br>cost_per_request=%{y}<extra></extra>\",\"legendgroup\":\"ih\",\"marker\":{\"color\":\"#636efa\",\"pattern\":{\"shape\":\"\"}},\"name\":\"ih\",\"offsetgroup\":\"ih\",\"orientation\":\"v\",\"showlegend\":false,\"textposition\":\"auto\",\"x\":[\"NYC\",\"Manhattan\",\"Chicago\",\"DC\"],\"xaxis\":\"x\",\"y\":[501.6915137614679,328.31826401446654,777.3626373626373,372.22222222222223],\"yaxis\":\"y\",\"type\":\"bar\"},{\"alignmentgroup\":\"True\",\"hovertemplate\":\"method=halns<br>max_delay=180<br>duration_minutes=5<br>area=%{x}<br>cost_per_request=%{y}<extra></extra>\",\"legendgroup\":\"halns\",\"marker\":{\"color\":\"#EF553B\",\"pattern\":{\"shape\":\"\"}},\"name\":\"halns\",\"offsetgroup\":\"halns\",\"orientation\":\"v\",\"showlegend\":true,\"textposition\":\"auto\",\"x\":[\"DC\",\"DC\"],\"xaxis\":\"x2\",\"y\":[380.0,373.3333333333333],\"yaxis\":\"y2\",\"type\":\"bar\"},{\"alignmentgroup\":\"True\",\"hovertemplate\":\"method=halns<br>max_delay=300<br>duration_minutes=5<br>area=%{x}<br>cost_per_request=%{y}<extra></extra>\",\"legendgroup\":\"halns\",\"marker\":{\"color\":\"#EF553B\",\"pattern\":{\"shape\":\"\"}},\"name\":\"halns\",\"offsetgroup\":\"halns\",\"orientation\":\"v\",\"showlegend\":false,\"textposition\":\"auto\",\"x\":[\"DC\",\"DC\"],\"xaxis\":\"x\",\"y\":[363.3333333333333,357.77777777777777],\"yaxis\":\"y\",\"type\":\"bar\"},{\"alignmentgroup\":\"True\",\"hovertemplate\":\"method=vga<br>max_delay=180<br>duration_minutes=5<br>area=%{x}<br>cost_per_request=%{y}<extra></extra>\",\"legendgroup\":\"vga\",\"marker\":{\"color\":\"#00cc96\",\"pattern\":{\"shape\":\"\"}},\"name\":\"vga\",\"offsetgroup\":\"vga\",\"orientation\":\"v\",\"showlegend\":true,\"textposition\":\"auto\",\"x\":[\"DC\"],\"xaxis\":\"x2\",\"y\":[370.0],\"yaxis\":\"y2\",\"type\":\"bar\"},{\"alignmentgroup\":\"True\",\"hovertemplate\":\"method=vga<br>max_delay=300<br>duration_minutes=5<br>area=%{x}<br>cost_per_request=%{y}<extra></extra>\",\"legendgroup\":\"vga\",\"marker\":{\"color\":\"#00cc96\",\"pattern\":{\"shape\":\"\"}},\"name\":\"vga\",\"offsetgroup\":\"vga\",\"orientation\":\"v\",\"showlegend\":false,\"textposition\":\"auto\",\"x\":[\"DC\"],\"xaxis\":\"x\",\"y\":[338.8888888888889],\"yaxis\":\"y\",\"type\":\"bar\"}],                        {\"template\":{\"data\":{\"histogram2dcontour\":[{\"type\":\"histogram2dcontour\",\"colorbar\":{\"outlinewidth\":0,\"ticks\":\"\"},\"colorscale\":[[0.0,\"#0d0887\"],[0.1111111111111111,\"#46039f\"],[0.2222222222222222,\"#7201a8\"],[0.3333333333333333,\"#9c179e\"],[0.4444444444444444,\"#bd3786\"],[0.5555555555555556,\"#d8576b\"],[0.6666666666666666,\"#ed7953\"],[0.7777777777777778,\"#fb9f3a\"],[0.8888888888888888,\"#fdca26\"],[1.0,\"#f0f921\"]]}],\"choropleth\":[{\"type\":\"choropleth\",\"colorbar\":{\"outlinewidth\":0,\"ticks\":\"\"}}],\"histogram2d\":[{\"type\":\"histogram2d\",\"colorbar\":{\"outlinewidth\":0,\"ticks\":\"\"},\"colorscale\":[[0.0,\"#0d0887\"],[0.1111111111111111,\"#46039f\"],[0.2222222222222222,\"#7201a8\"],[0.3333333333333333,\"#9c179e\"],[0.4444444444444444,\"#bd3786\"],[0.5555555555555556,\"#d8576b\"],[0.6666666666666666,\"#ed7953\"],[0.7777777777777778,\"#fb9f3a\"],[0.8888888888888888,\"#fdca26\"],[1.0,\"#f0f921\"]]}],\"heatmap\":[{\"type\":\"heatmap\",\"colorbar\":{\"outlinewidth\":0,\"ticks\":\"\"},\"colorscale\":[[0.0,\"#0d0887\"],[0.1111111111111111,\"#46039f\"],[0.2222222222222222,\"#7201a8\"],[0.3333333333333333,\"#9c179e\"],[0.4444444444444444,\"#bd3786\"],[0.5555555555555556,\"#d8576b\"],[0.6666666666666666,\"#ed7953\"],[0.7777777777777778,\"#fb9f3a\"],[0.8888888888888888,\"#fdca26\"],[1.0,\"#f0f921\"]]}],\"heatmapgl\":[{\"type\":\"heatmapgl\",\"colorbar\":{\"outlinewidth\":0,\"ticks\":\"\"},\"colorscale\":[[0.0,\"#0d0887\"],[0.1111111111111111,\"#46039f\"],[0.2222222222222222,\"#7201a8\"],[0.3333333333333333,\"#9c179e\"],[0.4444444444444444,\"#bd3786\"],[0.5555555555555556,\"#d8576b\"],[0.6666666666666666,\"#ed7953\"],[0.7777777777777778,\"#fb9f3a\"],[0.8888888888888888,\"#fdca26\"],[1.0,\"#f0f921\"]]}],\"contourcarpet\":[{\"type\":\"contourcarpet\",\"colorbar\":{\"outlinewidth\":0,\"ticks\":\"\"}}],\"contour\":[{\"type\":\"contour\",\"colorbar\":{\"outlinewidth\":0,\"ticks\":\"\"},\"colorscale\":[[0.0,\"#0d0887\"],[0.1111111111111111,\"#46039f\"],[0.2222222222222222,\"#7201a8\"],[0.3333333333333333,\"#9c179e\"],[0.4444444444444444,\"#bd3786\"],[0.5555555555555556,\"#d8576b\"],[0.6666666666666666,\"#ed7953\"],[0.7777777777777778,\"#fb9f3a\"],[0.8888888888888888,\"#fdca26\"],[1.0,\"#f0f921\"]]}],\"surface\":[{\"type\":\"surface\",\"colorbar\":{\"outlinewidth\":0,\"ticks\":\"\"},\"colorscale\":[[0.0,\"#0d0887\"],[0.1111111111111111,\"#46039f\"],[0.2222222222222222,\"#7201a8\"],[0.3333333333333333,\"#9c179e\"],[0.4444444444444444,\"#bd3786\"],[0.5555555555555556,\"#d8576b\"],[0.6666666666666666,\"#ed7953\"],[0.7777777777777778,\"#fb9f3a\"],[0.8888888888888888,\"#fdca26\"],[1.0,\"#f0f921\"]]}],\"mesh3d\":[{\"type\":\"mesh3d\",\"colorbar\":{\"outlinewidth\":0,\"ticks\":\"\"}}],\"scatter\":[{\"fillpattern\":{\"fillmode\":\"overlay\",\"size\":10,\"solidity\":0.2},\"type\":\"scatter\"}],\"parcoords\":[{\"type\":\"parcoords\",\"line\":{\"colorbar\":{\"outlinewidth\":0,\"ticks\":\"\"}}}],\"scatterpolargl\":[{\"type\":\"scatterpolargl\",\"marker\":{\"colorbar\":{\"outlinewidth\":0,\"ticks\":\"\"}}}],\"bar\":[{\"error_x\":{\"color\":\"#2a3f5f\"},\"error_y\":{\"color\":\"#2a3f5f\"},\"marker\":{\"line\":{\"color\":\"#E5ECF6\",\"width\":0.5},\"pattern\":{\"fillmode\":\"overlay\",\"size\":10,\"solidity\":0.2}},\"type\":\"bar\"}],\"scattergeo\":[{\"type\":\"scattergeo\",\"marker\":{\"colorbar\":{\"outlinewidth\":0,\"ticks\":\"\"}}}],\"scatterpolar\":[{\"type\":\"scatterpolar\",\"marker\":{\"colorbar\":{\"outlinewidth\":0,\"ticks\":\"\"}}}],\"histogram\":[{\"marker\":{\"pattern\":{\"fillmode\":\"overlay\",\"size\":10,\"solidity\":0.2}},\"type\":\"histogram\"}],\"scattergl\":[{\"type\":\"scattergl\",\"marker\":{\"colorbar\":{\"outlinewidth\":0,\"ticks\":\"\"}}}],\"scatter3d\":[{\"type\":\"scatter3d\",\"line\":{\"colorbar\":{\"outlinewidth\":0,\"ticks\":\"\"}},\"marker\":{\"colorbar\":{\"outlinewidth\":0,\"ticks\":\"\"}}}],\"scattermapbox\":[{\"type\":\"scattermapbox\",\"marker\":{\"colorbar\":{\"outlinewidth\":0,\"ticks\":\"\"}}}],\"scatterternary\":[{\"type\":\"scatterternary\",\"marker\":{\"colorbar\":{\"outlinewidth\":0,\"ticks\":\"\"}}}],\"scattercarpet\":[{\"type\":\"scattercarpet\",\"marker\":{\"colorbar\":{\"outlinewidth\":0,\"ticks\":\"\"}}}],\"carpet\":[{\"aaxis\":{\"endlinecolor\":\"#2a3f5f\",\"gridcolor\":\"white\",\"linecolor\":\"white\",\"minorgridcolor\":\"white\",\"startlinecolor\":\"#2a3f5f\"},\"baxis\":{\"endlinecolor\":\"#2a3f5f\",\"gridcolor\":\"white\",\"linecolor\":\"white\",\"minorgridcolor\":\"white\",\"startlinecolor\":\"#2a3f5f\"},\"type\":\"carpet\"}],\"table\":[{\"cells\":{\"fill\":{\"color\":\"#EBF0F8\"},\"line\":{\"color\":\"white\"}},\"header\":{\"fill\":{\"color\":\"#C8D4E3\"},\"line\":{\"color\":\"white\"}},\"type\":\"table\"}],\"barpolar\":[{\"marker\":{\"line\":{\"color\":\"#E5ECF6\",\"width\":0.5},\"pattern\":{\"fillmode\":\"overlay\",\"size\":10,\"solidity\":0.2}},\"type\":\"barpolar\"}],\"pie\":[{\"automargin\":true,\"type\":\"pie\"}]},\"layout\":{\"autotypenumbers\":\"strict\",\"colorway\":[\"#636efa\",\"#EF553B\",\"#00cc96\",\"#ab63fa\",\"#FFA15A\",\"#19d3f3\",\"#FF6692\",\"#B6E880\",\"#FF97FF\",\"#FECB52\"],\"font\":{\"color\":\"#2a3f5f\"},\"hovermode\":\"closest\",\"hoverlabel\":{\"align\":\"left\"},\"paper_bgcolor\":\"white\",\"plot_bgcolor\":\"#E5ECF6\",\"polar\":{\"bgcolor\":\"#E5ECF6\",\"angularaxis\":{\"gridcolor\":\"white\",\"linecolor\":\"white\",\"ticks\":\"\"},\"radialaxis\":{\"gridcolor\":\"white\",\"linecolor\":\"white\",\"ticks\":\"\"}},\"ternary\":{\"bgcolor\":\"#E5ECF6\",\"aaxis\":{\"gridcolor\":\"white\",\"linecolor\":\"white\",\"ticks\":\"\"},\"baxis\":{\"gridcolor\":\"white\",\"linecolor\":\"white\",\"ticks\":\"\"},\"caxis\":{\"gridcolor\":\"white\",\"linecolor\":\"white\",\"ticks\":\"\"}},\"coloraxis\":{\"colorbar\":{\"outlinewidth\":0,\"ticks\":\"\"}},\"colorscale\":{\"sequential\":[[0.0,\"#0d0887\"],[0.1111111111111111,\"#46039f\"],[0.2222222222222222,\"#7201a8\"],[0.3333333333333333,\"#9c179e\"],[0.4444444444444444,\"#bd3786\"],[0.5555555555555556,\"#d8576b\"],[0.6666666666666666,\"#ed7953\"],[0.7777777777777778,\"#fb9f3a\"],[0.8888888888888888,\"#fdca26\"],[1.0,\"#f0f921\"]],\"sequentialminus\":[[0.0,\"#0d0887\"],[0.1111111111111111,\"#46039f\"],[0.2222222222222222,\"#7201a8\"],[0.3333333333333333,\"#9c179e\"],[0.4444444444444444,\"#bd3786\"],[0.5555555555555556,\"#d8576b\"],[0.6666666666666666,\"#ed7953\"],[0.7777777777777778,\"#fb9f3a\"],[0.8888888888888888,\"#fdca26\"],[1.0,\"#f0f921\"]],\"diverging\":[[0,\"#8e0152\"],[0.1,\"#c51b7d\"],[0.2,\"#de77ae\"],[0.3,\"#f1b6da\"],[0.4,\"#fde0ef\"],[0.5,\"#f7f7f7\"],[0.6,\"#e6f5d0\"],[0.7,\"#b8e186\"],[0.8,\"#7fbc41\"],[0.9,\"#4d9221\"],[1,\"#276419\"]]},\"xaxis\":{\"gridcolor\":\"white\",\"linecolor\":\"white\",\"ticks\":\"\",\"title\":{\"standoff\":15},\"zerolinecolor\":\"white\",\"automargin\":true,\"zerolinewidth\":2},\"yaxis\":{\"gridcolor\":\"white\",\"linecolor\":\"white\",\"ticks\":\"\",\"title\":{\"standoff\":15},\"zerolinecolor\":\"white\",\"automargin\":true,\"zerolinewidth\":2},\"scene\":{\"xaxis\":{\"backgroundcolor\":\"#E5ECF6\",\"gridcolor\":\"white\",\"linecolor\":\"white\",\"showbackground\":true,\"ticks\":\"\",\"zerolinecolor\":\"white\",\"gridwidth\":2},\"yaxis\":{\"backgroundcolor\":\"#E5ECF6\",\"gridcolor\":\"white\",\"linecolor\":\"white\",\"showbackground\":true,\"ticks\":\"\",\"zerolinecolor\":\"white\",\"gridwidth\":2},\"zaxis\":{\"backgroundcolor\":\"#E5ECF6\",\"gridcolor\":\"white\",\"linecolor\":\"white\",\"showbackground\":true,\"ticks\":\"\",\"zerolinecolor\":\"white\",\"gridwidth\":2}},\"shapedefaults\":{\"line\":{\"color\":\"#2a3f5f\"}},\"annotationdefaults\":{\"arrowcolor\":\"#2a3f5f\",\"arrowhead\":0,\"arrowwidth\":1},\"geo\":{\"bgcolor\":\"white\",\"landcolor\":\"#E5ECF6\",\"subunitcolor\":\"white\",\"showland\":true,\"showlakes\":true,\"lakecolor\":\"white\"},\"title\":{\"x\":0.05},\"mapbox\":{\"style\":\"light\"}}},\"xaxis\":{\"anchor\":\"y\",\"domain\":[0.0,0.98],\"title\":{\"text\":\"\"}},\"yaxis\":{\"anchor\":\"x\",\"domain\":[0.0,0.485],\"title\":{\"text\":\"\"}},\"xaxis2\":{\"anchor\":\"y2\",\"domain\":[0.0,0.98],\"matches\":\"x\",\"showticklabels\":false,\"title\":{\"text\":\"\"}},\"yaxis2\":{\"anchor\":\"x2\",\"domain\":[0.515,1.0],\"matches\":\"y\",\"title\":{\"text\":\"\"}},\"annotations\":[{\"showarrow\":false,\"text\":\"5\",\"x\":0.49,\"xanchor\":\"center\",\"xref\":\"paper\",\"y\":1.0,\"yanchor\":\"bottom\",\"yref\":\"paper\"},{\"showarrow\":false,\"text\":\"300\",\"textangle\":90,\"x\":0.98,\"xanchor\":\"left\",\"xref\":\"paper\",\"y\":0.2425,\"yanchor\":\"middle\",\"yref\":\"paper\"},{\"showarrow\":false,\"text\":\"180\",\"textangle\":90,\"x\":0.98,\"xanchor\":\"left\",\"xref\":\"paper\",\"y\":0.7575000000000001,\"yanchor\":\"middle\",\"yref\":\"paper\"},{\"showarrow\":false,\"text\":\"travel time per request [s]\",\"textangle\":-90,\"x\":-0.06,\"xref\":\"paper\",\"y\":0.5,\"yref\":\"paper\"}],\"legend\":{\"title\":{\"text\":\"method\"},\"tracegroupgap\":0},\"title\":{\"text\":\"Average Cost per Request\"},\"barmode\":\"group\"},                        {\"responsive\": true}                    ).then(function(){\n                            \nvar gd = document.getElementById('fa0a6ef5-71b6-4def-ae0d-631d413cf091');\nvar x = new MutationObserver(function (mutations, observer) {{\n        var display = window.getComputedStyle(gd).display;\n        if (!display || display === 'none') {{\n            console.log([gd, 'removed!']);\n            Plotly.purge(gd);\n            observer.disconnect();\n        }}\n}});\n\n// Listen for the removal of the full notebook cells\nvar notebookContainer = gd.closest('#notebook-container');\nif (notebookContainer) {{\n    x.observe(notebookContainer, {childList: true});\n}}\n\n// Listen for the clearing of the current output cell\nvar outputEl = gd.closest('.output');\nif (outputEl) {{\n    x.observe(outputEl, {childList: true});\n}}\n\n                        })                };                });            </script>        </div>"
     },
     "metadata": {},
     "output_type": "display_data"
    }
   ],
   "source": [
    "dfsel = df.query('duration_minutes <= 5 and max_delay <= 300')\n",
    "fig = px.bar(\n",
    "    dfsel,\n",
    "    x = 'area',\n",
    "    y = 'cost_per_request',\n",
    "    barmode='group',\n",
    "    title = 'Average Cost per Request',\n",
    "    facet_col='duration_minutes',\n",
    "    facet_row='max_delay',\n",
    "    color='method'\n",
    ")\n",
    "\n",
    "# shared axes titles\n",
    "fig.for_each_yaxis(lambda y: y.update(title = ''))\n",
    "fig.add_annotation(x=-0.06, y=0.5, text=\"travel time per request [s]\", textangle=-90, xref=\"paper\", yref=\"paper\", showarrow=False)\n",
    "fig.for_each_xaxis(lambda y: y.update(title = ''))\n",
    "# fig.add_annotation(x=0.5, y=-0.1, text=\"Area\",  xref=\"paper\", yref=\"paper\", showarrow=False)\n",
    "\n",
    "# faceting label editing\n",
    "fig.for_each_annotation(lambda a: a.update(text=a.text.split(\"=\")[-1]))\n",
    "\n",
    "fig.show()"
   ],
   "metadata": {
    "collapsed": false,
    "ExecuteTime": {
     "end_time": "2023-05-11T15:11:33.845529Z",
     "start_time": "2023-05-11T15:11:33.768527900Z"
    }
   }
  },
  {
   "cell_type": "markdown",
   "source": [
    "# Delay histogram"
   ],
   "metadata": {
    "collapsed": false
   }
  },
  {
   "cell_type": "code",
   "execution_count": 16,
   "outputs": [
    {
     "name": "stderr",
     "output_type": "stream",
     "text": [
      "12:03:56 [INFO] Loading occupancy stats in C:\\Google Drive\\AIC Experiment Data\\DARP\\ITSC_instance_paper\\Results\\NYC\n",
      "12:03:56 [WARNING] No solution found in folder: C:\\Google Drive\\AIC Experiment Data\\DARP\\ITSC_instance_paper\\Results\\NYC\\start_18-00\\duration_005_min\\max_delay_03_min\\halns\n",
      "12:03:56 [WARNING] No solution found in folder: C:\\Google Drive\\AIC Experiment Data\\DARP\\ITSC_instance_paper\\Results\\NYC\\start_18-00\\duration_005_min\\max_delay_03_min\\halns-ih\n",
      "12:03:56 [INFO] Loading json file from: C:\\Google Drive\\AIC Experiment Data\\DARP\\ITSC_instance_paper\\Results\\NYC\\start_18-00\\duration_005_min\\max_delay_03_min\\ih\\config.yaml-performance.json\n",
      "12:03:56 [INFO] Loading json file from: C:\\Google Drive\\AIC Experiment Data\\DARP\\ITSC_instance_paper\\Results\\NYC\\start_18-00\\duration_005_min\\max_delay_03_min\\ih\\config.yaml-solution.json\n",
      "12:03:56 [INFO] Loading experiment config from C:\\Google Drive\\AIC Experiment Data\\DARP\\ITSC_instance_paper\\Results\\NYC\\start_18-00\\duration_005_min\\max_delay_03_min\\ih\\config.yaml\n",
      "12:03:56 [INFO] Loading instance config from C:\\Google Drive\\AIC Experiment Data\\DARP\\ITSC_instance_paper\\Instances\\NYC\\instances\\start_18-00\\duration_005_min\\max_delay_03_min\\config.yaml\n",
      "12:03:56 [WARNING] No solution found in folder: C:\\Google Drive\\AIC Experiment Data\\DARP\\ITSC_instance_paper\\Results\\NYC\\start_18-00\\duration_005_min\\max_delay_03_min\\vga\n",
      "12:03:56 [WARNING] No solution found in folder: C:\\Google Drive\\AIC Experiment Data\\DARP\\ITSC_instance_paper\\Results\\NYC\\start_18-00\\duration_005_min\\max_delay_05_min\\halns\n",
      "12:03:56 [WARNING] No solution found in folder: C:\\Google Drive\\AIC Experiment Data\\DARP\\ITSC_instance_paper\\Results\\NYC\\start_18-00\\duration_005_min\\max_delay_05_min\\halns-ih\n",
      "12:03:56 [INFO] Loading json file from: C:\\Google Drive\\AIC Experiment Data\\DARP\\ITSC_instance_paper\\Results\\NYC\\start_18-00\\duration_005_min\\max_delay_05_min\\ih\\config.yaml-performance.json\n",
      "12:03:56 [INFO] Loading json file from: C:\\Google Drive\\AIC Experiment Data\\DARP\\ITSC_instance_paper\\Results\\NYC\\start_18-00\\duration_005_min\\max_delay_05_min\\ih\\config.yaml-solution.json\n",
      "12:03:56 [INFO] Loading experiment config from C:\\Google Drive\\AIC Experiment Data\\DARP\\ITSC_instance_paper\\Results\\NYC\\start_18-00\\duration_005_min\\max_delay_05_min\\ih\\config.yaml\n",
      "12:03:56 [INFO] Loading instance config from C:\\Google Drive\\AIC Experiment Data\\DARP\\ITSC_instance_paper\\Instances\\NYC\\instances\\start_18-00\\duration_005_min\\max_delay_05_min\\config.yaml\n",
      "12:03:56 [WARNING] No solution found in folder: C:\\Google Drive\\AIC Experiment Data\\DARP\\ITSC_instance_paper\\Results\\NYC\\start_18-00\\duration_005_min\\max_delay_05_min\\vga\n",
      "12:03:56 [WARNING] No solution found in folder: C:\\Google Drive\\AIC Experiment Data\\DARP\\ITSC_instance_paper\\Results\\NYC\\start_18-00\\duration_005_min\\max_delay_10_min\\halns\n",
      "12:03:56 [WARNING] No solution found in folder: C:\\Google Drive\\AIC Experiment Data\\DARP\\ITSC_instance_paper\\Results\\NYC\\start_18-00\\duration_005_min\\max_delay_10_min\\halns-ih\n",
      "12:03:56 [INFO] Loading json file from: C:\\Google Drive\\AIC Experiment Data\\DARP\\ITSC_instance_paper\\Results\\NYC\\start_18-00\\duration_005_min\\max_delay_10_min\\ih\\config.yaml-performance.json\n",
      "12:03:56 [INFO] Loading json file from: C:\\Google Drive\\AIC Experiment Data\\DARP\\ITSC_instance_paper\\Results\\NYC\\start_18-00\\duration_005_min\\max_delay_10_min\\ih\\config.yaml-solution.json\n",
      "12:03:56 [INFO] Loading experiment config from C:\\Google Drive\\AIC Experiment Data\\DARP\\ITSC_instance_paper\\Results\\NYC\\start_18-00\\duration_005_min\\max_delay_10_min\\ih\\config.yaml\n",
      "12:03:56 [INFO] Loading instance config from C:\\Google Drive\\AIC Experiment Data\\DARP\\ITSC_instance_paper\\Instances\\NYC\\instances\\start_18-00\\duration_005_min\\max_delay_10_min\\config.yaml\n",
      "12:03:56 [WARNING] No solution found in folder: C:\\Google Drive\\AIC Experiment Data\\DARP\\ITSC_instance_paper\\Results\\NYC\\start_18-00\\duration_005_min\\max_delay_10_min\\vga\n",
      "12:03:56 [WARNING] No solution found in folder: C:\\Google Drive\\AIC Experiment Data\\DARP\\ITSC_instance_paper\\Results\\NYC\\start_18-00\\duration_015_min\\max_delay_03_min\\halns\n",
      "12:03:56 [WARNING] No solution found in folder: C:\\Google Drive\\AIC Experiment Data\\DARP\\ITSC_instance_paper\\Results\\NYC\\start_18-00\\duration_015_min\\max_delay_03_min\\halns-ih\n",
      "12:03:56 [INFO] Loading json file from: C:\\Google Drive\\AIC Experiment Data\\DARP\\ITSC_instance_paper\\Results\\NYC\\start_18-00\\duration_015_min\\max_delay_03_min\\ih\\config.yaml-performance.json\n",
      "12:03:56 [INFO] Loading json file from: C:\\Google Drive\\AIC Experiment Data\\DARP\\ITSC_instance_paper\\Results\\NYC\\start_18-00\\duration_015_min\\max_delay_03_min\\ih\\config.yaml-solution.json\n",
      "12:03:56 [INFO] Loading experiment config from C:\\Google Drive\\AIC Experiment Data\\DARP\\ITSC_instance_paper\\Results\\NYC\\start_18-00\\duration_015_min\\max_delay_03_min\\ih\\config.yaml\n",
      "12:03:56 [INFO] Loading instance config from C:\\Google Drive\\AIC Experiment Data\\DARP\\ITSC_instance_paper\\Instances\\NYC\\instances\\start_18-00\\duration_015_min\\max_delay_03_min\\config.yaml\n",
      "12:03:56 [WARNING] No solution found in folder: C:\\Google Drive\\AIC Experiment Data\\DARP\\ITSC_instance_paper\\Results\\NYC\\start_18-00\\duration_015_min\\max_delay_03_min\\vga\n",
      "12:03:56 [WARNING] No solution found in folder: C:\\Google Drive\\AIC Experiment Data\\DARP\\ITSC_instance_paper\\Results\\NYC\\start_18-00\\duration_015_min\\max_delay_05_min\\halns\n",
      "12:03:56 [WARNING] No solution found in folder: C:\\Google Drive\\AIC Experiment Data\\DARP\\ITSC_instance_paper\\Results\\NYC\\start_18-00\\duration_015_min\\max_delay_05_min\\halns-ih\n",
      "12:03:56 [INFO] Loading json file from: C:\\Google Drive\\AIC Experiment Data\\DARP\\ITSC_instance_paper\\Results\\NYC\\start_18-00\\duration_015_min\\max_delay_05_min\\ih\\config.yaml-performance.json\n",
      "12:03:56 [INFO] Loading json file from: C:\\Google Drive\\AIC Experiment Data\\DARP\\ITSC_instance_paper\\Results\\NYC\\start_18-00\\duration_015_min\\max_delay_05_min\\ih\\config.yaml-solution.json\n",
      "12:03:56 [INFO] Loading experiment config from C:\\Google Drive\\AIC Experiment Data\\DARP\\ITSC_instance_paper\\Results\\NYC\\start_18-00\\duration_015_min\\max_delay_05_min\\ih\\config.yaml\n",
      "12:03:56 [INFO] Loading instance config from C:\\Google Drive\\AIC Experiment Data\\DARP\\ITSC_instance_paper\\Instances\\NYC\\instances\\start_18-00\\duration_015_min\\max_delay_05_min\\config.yaml\n",
      "12:03:56 [WARNING] No solution found in folder: C:\\Google Drive\\AIC Experiment Data\\DARP\\ITSC_instance_paper\\Results\\NYC\\start_18-00\\duration_015_min\\max_delay_05_min\\vga\n",
      "12:03:56 [WARNING] No solution found in folder: C:\\Google Drive\\AIC Experiment Data\\DARP\\ITSC_instance_paper\\Results\\NYC\\start_18-00\\duration_015_min\\max_delay_10_min\\halns\n",
      "12:03:56 [WARNING] No solution found in folder: C:\\Google Drive\\AIC Experiment Data\\DARP\\ITSC_instance_paper\\Results\\NYC\\start_18-00\\duration_015_min\\max_delay_10_min\\halns-ih\n",
      "12:03:56 [INFO] Loading json file from: C:\\Google Drive\\AIC Experiment Data\\DARP\\ITSC_instance_paper\\Results\\NYC\\start_18-00\\duration_015_min\\max_delay_10_min\\ih\\config.yaml-performance.json\n",
      "12:03:56 [INFO] Loading json file from: C:\\Google Drive\\AIC Experiment Data\\DARP\\ITSC_instance_paper\\Results\\NYC\\start_18-00\\duration_015_min\\max_delay_10_min\\ih\\config.yaml-solution.json\n",
      "12:03:56 [INFO] Loading experiment config from C:\\Google Drive\\AIC Experiment Data\\DARP\\ITSC_instance_paper\\Results\\NYC\\start_18-00\\duration_015_min\\max_delay_10_min\\ih\\config.yaml\n",
      "12:03:56 [INFO] Loading instance config from C:\\Google Drive\\AIC Experiment Data\\DARP\\ITSC_instance_paper\\Instances\\NYC\\instances\\start_18-00\\duration_015_min\\max_delay_10_min\\config.yaml\n",
      "12:03:56 [WARNING] No solution found in folder: C:\\Google Drive\\AIC Experiment Data\\DARP\\ITSC_instance_paper\\Results\\NYC\\start_18-00\\duration_015_min\\max_delay_10_min\\vga\n",
      "12:03:56 [WARNING] No solution found in folder: C:\\Google Drive\\AIC Experiment Data\\DARP\\ITSC_instance_paper\\Results\\NYC\\start_18-00\\duration_030_min\\max_delay_03_min\\halns\n",
      "12:03:56 [WARNING] No solution found in folder: C:\\Google Drive\\AIC Experiment Data\\DARP\\ITSC_instance_paper\\Results\\NYC\\start_18-00\\duration_030_min\\max_delay_03_min\\halns-ih\n",
      "12:03:56 [INFO] Loading json file from: C:\\Google Drive\\AIC Experiment Data\\DARP\\ITSC_instance_paper\\Results\\NYC\\start_18-00\\duration_030_min\\max_delay_03_min\\ih\\config.yaml-performance.json\n",
      "12:03:56 [INFO] Loading json file from: C:\\Google Drive\\AIC Experiment Data\\DARP\\ITSC_instance_paper\\Results\\NYC\\start_18-00\\duration_030_min\\max_delay_03_min\\ih\\config.yaml-solution.json\n",
      "12:03:57 [INFO] Loading experiment config from C:\\Google Drive\\AIC Experiment Data\\DARP\\ITSC_instance_paper\\Results\\NYC\\start_18-00\\duration_030_min\\max_delay_03_min\\ih\\config.yaml\n",
      "12:03:57 [INFO] Loading instance config from C:\\Google Drive\\AIC Experiment Data\\DARP\\ITSC_instance_paper\\Instances\\NYC\\instances\\start_18-00\\duration_030_min\\max_delay_03_min\\config.yaml\n",
      "12:03:57 [WARNING] No solution found in folder: C:\\Google Drive\\AIC Experiment Data\\DARP\\ITSC_instance_paper\\Results\\NYC\\start_18-00\\duration_030_min\\max_delay_03_min\\vga\n",
      "12:03:57 [WARNING] No solution found in folder: C:\\Google Drive\\AIC Experiment Data\\DARP\\ITSC_instance_paper\\Results\\NYC\\start_18-00\\duration_030_min\\max_delay_05_min\\halns\n",
      "12:03:57 [WARNING] No solution found in folder: C:\\Google Drive\\AIC Experiment Data\\DARP\\ITSC_instance_paper\\Results\\NYC\\start_18-00\\duration_030_min\\max_delay_05_min\\halns-ih\n",
      "12:03:57 [INFO] Loading json file from: C:\\Google Drive\\AIC Experiment Data\\DARP\\ITSC_instance_paper\\Results\\NYC\\start_18-00\\duration_030_min\\max_delay_05_min\\ih\\config.yaml-performance.json\n",
      "12:03:57 [INFO] Loading json file from: C:\\Google Drive\\AIC Experiment Data\\DARP\\ITSC_instance_paper\\Results\\NYC\\start_18-00\\duration_030_min\\max_delay_05_min\\ih\\config.yaml-solution.json\n",
      "12:03:57 [INFO] Loading experiment config from C:\\Google Drive\\AIC Experiment Data\\DARP\\ITSC_instance_paper\\Results\\NYC\\start_18-00\\duration_030_min\\max_delay_05_min\\ih\\config.yaml\n",
      "12:03:57 [INFO] Loading instance config from C:\\Google Drive\\AIC Experiment Data\\DARP\\ITSC_instance_paper\\Instances\\NYC\\instances\\start_18-00\\duration_030_min\\max_delay_05_min\\config.yaml\n",
      "12:03:57 [WARNING] No solution found in folder: C:\\Google Drive\\AIC Experiment Data\\DARP\\ITSC_instance_paper\\Results\\NYC\\start_18-00\\duration_030_min\\max_delay_05_min\\vga\n",
      "12:03:57 [WARNING] No solution found in folder: C:\\Google Drive\\AIC Experiment Data\\DARP\\ITSC_instance_paper\\Results\\NYC\\start_18-00\\duration_030_min\\max_delay_10_min\\halns\n",
      "12:03:57 [WARNING] No solution found in folder: C:\\Google Drive\\AIC Experiment Data\\DARP\\ITSC_instance_paper\\Results\\NYC\\start_18-00\\duration_030_min\\max_delay_10_min\\halns-ih\n",
      "12:03:57 [INFO] Loading json file from: C:\\Google Drive\\AIC Experiment Data\\DARP\\ITSC_instance_paper\\Results\\NYC\\start_18-00\\duration_030_min\\max_delay_10_min\\ih\\config.yaml-performance.json\n",
      "12:03:57 [INFO] Loading json file from: C:\\Google Drive\\AIC Experiment Data\\DARP\\ITSC_instance_paper\\Results\\NYC\\start_18-00\\duration_030_min\\max_delay_10_min\\ih\\config.yaml-solution.json\n",
      "12:03:57 [INFO] Loading experiment config from C:\\Google Drive\\AIC Experiment Data\\DARP\\ITSC_instance_paper\\Results\\NYC\\start_18-00\\duration_030_min\\max_delay_10_min\\ih\\config.yaml\n",
      "12:03:57 [INFO] Loading instance config from C:\\Google Drive\\AIC Experiment Data\\DARP\\ITSC_instance_paper\\Instances\\NYC\\instances\\start_18-00\\duration_030_min\\max_delay_10_min\\config.yaml\n",
      "12:03:57 [WARNING] No solution found in folder: C:\\Google Drive\\AIC Experiment Data\\DARP\\ITSC_instance_paper\\Results\\NYC\\start_18-00\\duration_030_min\\max_delay_10_min\\vga\n",
      "12:03:57 [WARNING] No solution found in folder: C:\\Google Drive\\AIC Experiment Data\\DARP\\ITSC_instance_paper\\Results\\NYC\\start_18-00\\duration_120_min\\max_delay_03_min\\halns\n",
      "12:03:57 [WARNING] No solution found in folder: C:\\Google Drive\\AIC Experiment Data\\DARP\\ITSC_instance_paper\\Results\\NYC\\start_18-00\\duration_120_min\\max_delay_03_min\\halns-ih\n",
      "12:03:57 [WARNING] No solution found in folder: C:\\Google Drive\\AIC Experiment Data\\DARP\\ITSC_instance_paper\\Results\\NYC\\start_18-00\\duration_120_min\\max_delay_03_min\\ih\n",
      "12:03:57 [WARNING] No solution found in folder: C:\\Google Drive\\AIC Experiment Data\\DARP\\ITSC_instance_paper\\Results\\NYC\\start_18-00\\duration_120_min\\max_delay_03_min\\vga\n",
      "12:03:57 [WARNING] No solution found in folder: C:\\Google Drive\\AIC Experiment Data\\DARP\\ITSC_instance_paper\\Results\\NYC\\start_18-00\\duration_120_min\\max_delay_05_min\\halns\n",
      "12:03:57 [WARNING] No solution found in folder: C:\\Google Drive\\AIC Experiment Data\\DARP\\ITSC_instance_paper\\Results\\NYC\\start_18-00\\duration_120_min\\max_delay_05_min\\halns-ih\n",
      "12:03:57 [WARNING] No solution found in folder: C:\\Google Drive\\AIC Experiment Data\\DARP\\ITSC_instance_paper\\Results\\NYC\\start_18-00\\duration_120_min\\max_delay_05_min\\ih\n",
      "12:03:57 [WARNING] No solution found in folder: C:\\Google Drive\\AIC Experiment Data\\DARP\\ITSC_instance_paper\\Results\\NYC\\start_18-00\\duration_120_min\\max_delay_05_min\\vga\n",
      "12:03:57 [WARNING] No solution found in folder: C:\\Google Drive\\AIC Experiment Data\\DARP\\ITSC_instance_paper\\Results\\NYC\\start_18-00\\duration_120_min\\max_delay_10_min\\halns\n",
      "12:03:57 [WARNING] No solution found in folder: C:\\Google Drive\\AIC Experiment Data\\DARP\\ITSC_instance_paper\\Results\\NYC\\start_18-00\\duration_120_min\\max_delay_10_min\\halns-ih\n",
      "12:03:57 [WARNING] No solution found in folder: C:\\Google Drive\\AIC Experiment Data\\DARP\\ITSC_instance_paper\\Results\\NYC\\start_18-00\\duration_120_min\\max_delay_10_min\\ih\n",
      "12:03:57 [WARNING] No solution found in folder: C:\\Google Drive\\AIC Experiment Data\\DARP\\ITSC_instance_paper\\Results\\NYC\\start_18-00\\duration_120_min\\max_delay_10_min\\vga\n",
      "12:03:57 [WARNING] No solution found in folder: C:\\Google Drive\\AIC Experiment Data\\DARP\\ITSC_instance_paper\\Results\\NYC\\start_18-00\\duration_960_min\\max_delay_03_min\\halns\n",
      "12:03:57 [WARNING] No solution found in folder: C:\\Google Drive\\AIC Experiment Data\\DARP\\ITSC_instance_paper\\Results\\NYC\\start_18-00\\duration_960_min\\max_delay_03_min\\halns-ih\n",
      "12:03:57 [WARNING] No solution found in folder: C:\\Google Drive\\AIC Experiment Data\\DARP\\ITSC_instance_paper\\Results\\NYC\\start_18-00\\duration_960_min\\max_delay_03_min\\ih\n",
      "12:03:57 [WARNING] No solution found in folder: C:\\Google Drive\\AIC Experiment Data\\DARP\\ITSC_instance_paper\\Results\\NYC\\start_18-00\\duration_960_min\\max_delay_03_min\\vga\n",
      "12:03:57 [WARNING] No solution found in folder: C:\\Google Drive\\AIC Experiment Data\\DARP\\ITSC_instance_paper\\Results\\NYC\\start_18-00\\duration_960_min\\max_delay_05_min\\halns\n",
      "12:03:57 [WARNING] No solution found in folder: C:\\Google Drive\\AIC Experiment Data\\DARP\\ITSC_instance_paper\\Results\\NYC\\start_18-00\\duration_960_min\\max_delay_05_min\\halns-ih\n",
      "12:03:57 [WARNING] No solution found in folder: C:\\Google Drive\\AIC Experiment Data\\DARP\\ITSC_instance_paper\\Results\\NYC\\start_18-00\\duration_960_min\\max_delay_05_min\\ih\n",
      "12:03:57 [WARNING] No solution found in folder: C:\\Google Drive\\AIC Experiment Data\\DARP\\ITSC_instance_paper\\Results\\NYC\\start_18-00\\duration_960_min\\max_delay_05_min\\vga\n",
      "12:03:57 [WARNING] No solution found in folder: C:\\Google Drive\\AIC Experiment Data\\DARP\\ITSC_instance_paper\\Results\\NYC\\start_18-00\\duration_960_min\\max_delay_10_min\\halns\n",
      "12:03:57 [WARNING] No solution found in folder: C:\\Google Drive\\AIC Experiment Data\\DARP\\ITSC_instance_paper\\Results\\NYC\\start_18-00\\duration_960_min\\max_delay_10_min\\halns-ih\n",
      "12:03:57 [WARNING] No solution found in folder: C:\\Google Drive\\AIC Experiment Data\\DARP\\ITSC_instance_paper\\Results\\NYC\\start_18-00\\duration_960_min\\max_delay_10_min\\ih\n",
      "12:03:57 [WARNING] No solution found in folder: C:\\Google Drive\\AIC Experiment Data\\DARP\\ITSC_instance_paper\\Results\\NYC\\start_18-00\\duration_960_min\\max_delay_10_min\\vga\n",
      "12:03:57 [INFO] Loading occupancy stats in C:\\Google Drive\\AIC Experiment Data\\DARP\\ITSC_instance_paper\\Results\\Manhattan\n",
      "12:03:57 [WARNING] No solution found in folder: C:\\Google Drive\\AIC Experiment Data\\DARP\\ITSC_instance_paper\\Results\\Manhattan\\start_18-00\\duration_005_min\\max_delay_03_min\\halns\n",
      "12:03:57 [WARNING] No solution found in folder: C:\\Google Drive\\AIC Experiment Data\\DARP\\ITSC_instance_paper\\Results\\Manhattan\\start_18-00\\duration_005_min\\max_delay_03_min\\halns-ih\n",
      "12:03:57 [INFO] Loading json file from: C:\\Google Drive\\AIC Experiment Data\\DARP\\ITSC_instance_paper\\Results\\Manhattan\\start_18-00\\duration_005_min\\max_delay_03_min\\ih\\config.yaml-performance.json\n",
      "12:03:57 [INFO] Loading json file from: C:\\Google Drive\\AIC Experiment Data\\DARP\\ITSC_instance_paper\\Results\\Manhattan\\start_18-00\\duration_005_min\\max_delay_03_min\\ih\\config.yaml-solution.json\n",
      "12:03:57 [INFO] Loading experiment config from C:\\Google Drive\\AIC Experiment Data\\DARP\\ITSC_instance_paper\\Results\\Manhattan\\start_18-00\\duration_005_min\\max_delay_03_min\\ih\\config.yaml\n",
      "12:03:57 [INFO] Loading instance config from C:\\Google Drive\\AIC Experiment Data\\DARP\\ITSC_instance_paper\\Instances\\Manhattan\\instances\\start_18-00\\duration_005_min\\max_delay_03_min\\config.yaml\n",
      "12:03:57 [WARNING] No solution found in folder: C:\\Google Drive\\AIC Experiment Data\\DARP\\ITSC_instance_paper\\Results\\Manhattan\\start_18-00\\duration_005_min\\max_delay_03_min\\vga\n",
      "12:03:57 [WARNING] No solution found in folder: C:\\Google Drive\\AIC Experiment Data\\DARP\\ITSC_instance_paper\\Results\\Manhattan\\start_18-00\\duration_005_min\\max_delay_05_min\\halns\n",
      "12:03:57 [WARNING] No solution found in folder: C:\\Google Drive\\AIC Experiment Data\\DARP\\ITSC_instance_paper\\Results\\Manhattan\\start_18-00\\duration_005_min\\max_delay_05_min\\halns-ih\n",
      "12:03:57 [INFO] Loading json file from: C:\\Google Drive\\AIC Experiment Data\\DARP\\ITSC_instance_paper\\Results\\Manhattan\\start_18-00\\duration_005_min\\max_delay_05_min\\ih\\config.yaml-performance.json\n",
      "12:03:57 [INFO] Loading json file from: C:\\Google Drive\\AIC Experiment Data\\DARP\\ITSC_instance_paper\\Results\\Manhattan\\start_18-00\\duration_005_min\\max_delay_05_min\\ih\\config.yaml-solution.json\n",
      "12:03:57 [INFO] Loading experiment config from C:\\Google Drive\\AIC Experiment Data\\DARP\\ITSC_instance_paper\\Results\\Manhattan\\start_18-00\\duration_005_min\\max_delay_05_min\\ih\\config.yaml\n",
      "12:03:57 [INFO] Loading instance config from C:\\Google Drive\\AIC Experiment Data\\DARP\\ITSC_instance_paper\\Instances\\Manhattan\\instances\\start_18-00\\duration_005_min\\max_delay_05_min\\config.yaml\n",
      "12:03:57 [WARNING] No solution found in folder: C:\\Google Drive\\AIC Experiment Data\\DARP\\ITSC_instance_paper\\Results\\Manhattan\\start_18-00\\duration_005_min\\max_delay_05_min\\vga\n",
      "12:03:57 [WARNING] No solution found in folder: C:\\Google Drive\\AIC Experiment Data\\DARP\\ITSC_instance_paper\\Results\\Manhattan\\start_18-00\\duration_005_min\\max_delay_10_min\\halns\n",
      "12:03:57 [WARNING] No solution found in folder: C:\\Google Drive\\AIC Experiment Data\\DARP\\ITSC_instance_paper\\Results\\Manhattan\\start_18-00\\duration_005_min\\max_delay_10_min\\halns-ih\n",
      "12:03:57 [INFO] Loading json file from: C:\\Google Drive\\AIC Experiment Data\\DARP\\ITSC_instance_paper\\Results\\Manhattan\\start_18-00\\duration_005_min\\max_delay_10_min\\ih\\config.yaml-performance.json\n",
      "12:03:57 [INFO] Loading json file from: C:\\Google Drive\\AIC Experiment Data\\DARP\\ITSC_instance_paper\\Results\\Manhattan\\start_18-00\\duration_005_min\\max_delay_10_min\\ih\\config.yaml-solution.json\n",
      "12:03:57 [INFO] Loading experiment config from C:\\Google Drive\\AIC Experiment Data\\DARP\\ITSC_instance_paper\\Results\\Manhattan\\start_18-00\\duration_005_min\\max_delay_10_min\\ih\\config.yaml\n",
      "12:03:57 [INFO] Loading instance config from C:\\Google Drive\\AIC Experiment Data\\DARP\\ITSC_instance_paper\\Instances\\Manhattan\\instances\\start_18-00\\duration_005_min\\max_delay_10_min\\config.yaml\n",
      "12:03:57 [WARNING] No solution found in folder: C:\\Google Drive\\AIC Experiment Data\\DARP\\ITSC_instance_paper\\Results\\Manhattan\\start_18-00\\duration_005_min\\max_delay_10_min\\vga\n",
      "12:03:57 [WARNING] No solution found in folder: C:\\Google Drive\\AIC Experiment Data\\DARP\\ITSC_instance_paper\\Results\\Manhattan\\start_18-00\\duration_015_min\\max_delay_03_min\\halns\n",
      "12:03:57 [WARNING] No solution found in folder: C:\\Google Drive\\AIC Experiment Data\\DARP\\ITSC_instance_paper\\Results\\Manhattan\\start_18-00\\duration_015_min\\max_delay_03_min\\halns-ih\n",
      "12:03:57 [INFO] Loading json file from: C:\\Google Drive\\AIC Experiment Data\\DARP\\ITSC_instance_paper\\Results\\Manhattan\\start_18-00\\duration_015_min\\max_delay_03_min\\ih\\config.yaml-performance.json\n",
      "12:03:57 [INFO] Loading json file from: C:\\Google Drive\\AIC Experiment Data\\DARP\\ITSC_instance_paper\\Results\\Manhattan\\start_18-00\\duration_015_min\\max_delay_03_min\\ih\\config.yaml-solution.json\n",
      "12:03:57 [INFO] Loading experiment config from C:\\Google Drive\\AIC Experiment Data\\DARP\\ITSC_instance_paper\\Results\\Manhattan\\start_18-00\\duration_015_min\\max_delay_03_min\\ih\\config.yaml\n",
      "12:03:57 [INFO] Loading instance config from C:\\Google Drive\\AIC Experiment Data\\DARP\\ITSC_instance_paper\\Instances\\Manhattan\\instances\\start_18-00\\duration_015_min\\max_delay_03_min\\config.yaml\n",
      "12:03:57 [WARNING] No solution found in folder: C:\\Google Drive\\AIC Experiment Data\\DARP\\ITSC_instance_paper\\Results\\Manhattan\\start_18-00\\duration_015_min\\max_delay_03_min\\vga\n",
      "12:03:57 [WARNING] No solution found in folder: C:\\Google Drive\\AIC Experiment Data\\DARP\\ITSC_instance_paper\\Results\\Manhattan\\start_18-00\\duration_015_min\\max_delay_05_min\\halns\n",
      "12:03:57 [WARNING] No solution found in folder: C:\\Google Drive\\AIC Experiment Data\\DARP\\ITSC_instance_paper\\Results\\Manhattan\\start_18-00\\duration_015_min\\max_delay_05_min\\halns-ih\n",
      "12:03:57 [INFO] Loading json file from: C:\\Google Drive\\AIC Experiment Data\\DARP\\ITSC_instance_paper\\Results\\Manhattan\\start_18-00\\duration_015_min\\max_delay_05_min\\ih\\config.yaml-performance.json\n",
      "12:03:57 [INFO] Loading json file from: C:\\Google Drive\\AIC Experiment Data\\DARP\\ITSC_instance_paper\\Results\\Manhattan\\start_18-00\\duration_015_min\\max_delay_05_min\\ih\\config.yaml-solution.json\n",
      "12:03:57 [INFO] Loading experiment config from C:\\Google Drive\\AIC Experiment Data\\DARP\\ITSC_instance_paper\\Results\\Manhattan\\start_18-00\\duration_015_min\\max_delay_05_min\\ih\\config.yaml\n",
      "12:03:57 [INFO] Loading instance config from C:\\Google Drive\\AIC Experiment Data\\DARP\\ITSC_instance_paper\\Instances\\Manhattan\\instances\\start_18-00\\duration_015_min\\max_delay_05_min\\config.yaml\n",
      "12:03:57 [WARNING] No solution found in folder: C:\\Google Drive\\AIC Experiment Data\\DARP\\ITSC_instance_paper\\Results\\Manhattan\\start_18-00\\duration_015_min\\max_delay_05_min\\vga\n",
      "12:03:57 [WARNING] No solution found in folder: C:\\Google Drive\\AIC Experiment Data\\DARP\\ITSC_instance_paper\\Results\\Manhattan\\start_18-00\\duration_015_min\\max_delay_10_min\\halns\n",
      "12:03:57 [WARNING] No solution found in folder: C:\\Google Drive\\AIC Experiment Data\\DARP\\ITSC_instance_paper\\Results\\Manhattan\\start_18-00\\duration_015_min\\max_delay_10_min\\halns-ih\n",
      "12:03:57 [INFO] Loading json file from: C:\\Google Drive\\AIC Experiment Data\\DARP\\ITSC_instance_paper\\Results\\Manhattan\\start_18-00\\duration_015_min\\max_delay_10_min\\ih\\config.yaml-performance.json\n",
      "12:03:57 [INFO] Loading json file from: C:\\Google Drive\\AIC Experiment Data\\DARP\\ITSC_instance_paper\\Results\\Manhattan\\start_18-00\\duration_015_min\\max_delay_10_min\\ih\\config.yaml-solution.json\n",
      "12:03:57 [INFO] Loading experiment config from C:\\Google Drive\\AIC Experiment Data\\DARP\\ITSC_instance_paper\\Results\\Manhattan\\start_18-00\\duration_015_min\\max_delay_10_min\\ih\\config.yaml\n",
      "12:03:57 [INFO] Loading instance config from C:\\Google Drive\\AIC Experiment Data\\DARP\\ITSC_instance_paper\\Instances\\Manhattan\\instances\\start_18-00\\duration_015_min\\max_delay_10_min\\config.yaml\n",
      "12:03:57 [WARNING] No solution found in folder: C:\\Google Drive\\AIC Experiment Data\\DARP\\ITSC_instance_paper\\Results\\Manhattan\\start_18-00\\duration_015_min\\max_delay_10_min\\vga\n",
      "12:03:57 [WARNING] No solution found in folder: C:\\Google Drive\\AIC Experiment Data\\DARP\\ITSC_instance_paper\\Results\\Manhattan\\start_18-00\\duration_030_min\\max_delay_03_min\\halns\n",
      "12:03:57 [WARNING] No solution found in folder: C:\\Google Drive\\AIC Experiment Data\\DARP\\ITSC_instance_paper\\Results\\Manhattan\\start_18-00\\duration_030_min\\max_delay_03_min\\halns-ih\n",
      "12:03:57 [INFO] Loading json file from: C:\\Google Drive\\AIC Experiment Data\\DARP\\ITSC_instance_paper\\Results\\Manhattan\\start_18-00\\duration_030_min\\max_delay_03_min\\ih\\config.yaml-performance.json\n",
      "12:03:57 [INFO] Loading json file from: C:\\Google Drive\\AIC Experiment Data\\DARP\\ITSC_instance_paper\\Results\\Manhattan\\start_18-00\\duration_030_min\\max_delay_03_min\\ih\\config.yaml-solution.json\n",
      "12:03:57 [INFO] Loading experiment config from C:\\Google Drive\\AIC Experiment Data\\DARP\\ITSC_instance_paper\\Results\\Manhattan\\start_18-00\\duration_030_min\\max_delay_03_min\\ih\\config.yaml\n",
      "12:03:57 [INFO] Loading instance config from C:\\Google Drive\\AIC Experiment Data\\DARP\\ITSC_instance_paper\\Instances\\Manhattan\\instances\\start_18-00\\duration_030_min\\max_delay_03_min\\config.yaml\n",
      "12:03:57 [WARNING] No solution found in folder: C:\\Google Drive\\AIC Experiment Data\\DARP\\ITSC_instance_paper\\Results\\Manhattan\\start_18-00\\duration_030_min\\max_delay_03_min\\vga\n",
      "12:03:57 [WARNING] No solution found in folder: C:\\Google Drive\\AIC Experiment Data\\DARP\\ITSC_instance_paper\\Results\\Manhattan\\start_18-00\\duration_030_min\\max_delay_05_min\\halns\n",
      "12:03:57 [WARNING] No solution found in folder: C:\\Google Drive\\AIC Experiment Data\\DARP\\ITSC_instance_paper\\Results\\Manhattan\\start_18-00\\duration_030_min\\max_delay_05_min\\halns-ih\n",
      "12:03:57 [INFO] Loading json file from: C:\\Google Drive\\AIC Experiment Data\\DARP\\ITSC_instance_paper\\Results\\Manhattan\\start_18-00\\duration_030_min\\max_delay_05_min\\ih\\config.yaml-performance.json\n",
      "12:03:57 [INFO] Loading json file from: C:\\Google Drive\\AIC Experiment Data\\DARP\\ITSC_instance_paper\\Results\\Manhattan\\start_18-00\\duration_030_min\\max_delay_05_min\\ih\\config.yaml-solution.json\n",
      "12:03:58 [INFO] Loading experiment config from C:\\Google Drive\\AIC Experiment Data\\DARP\\ITSC_instance_paper\\Results\\Manhattan\\start_18-00\\duration_030_min\\max_delay_05_min\\ih\\config.yaml\n",
      "12:03:58 [INFO] Loading instance config from C:\\Google Drive\\AIC Experiment Data\\DARP\\ITSC_instance_paper\\Instances\\Manhattan\\instances\\start_18-00\\duration_030_min\\max_delay_05_min\\config.yaml\n",
      "12:03:58 [WARNING] No solution found in folder: C:\\Google Drive\\AIC Experiment Data\\DARP\\ITSC_instance_paper\\Results\\Manhattan\\start_18-00\\duration_030_min\\max_delay_05_min\\vga\n",
      "12:03:58 [WARNING] No solution found in folder: C:\\Google Drive\\AIC Experiment Data\\DARP\\ITSC_instance_paper\\Results\\Manhattan\\start_18-00\\duration_030_min\\max_delay_10_min\\halns\n",
      "12:03:58 [WARNING] No solution found in folder: C:\\Google Drive\\AIC Experiment Data\\DARP\\ITSC_instance_paper\\Results\\Manhattan\\start_18-00\\duration_030_min\\max_delay_10_min\\halns-ih\n",
      "12:03:58 [INFO] Loading json file from: C:\\Google Drive\\AIC Experiment Data\\DARP\\ITSC_instance_paper\\Results\\Manhattan\\start_18-00\\duration_030_min\\max_delay_10_min\\ih\\config.yaml-performance.json\n",
      "12:03:58 [INFO] Loading json file from: C:\\Google Drive\\AIC Experiment Data\\DARP\\ITSC_instance_paper\\Results\\Manhattan\\start_18-00\\duration_030_min\\max_delay_10_min\\ih\\config.yaml-solution.json\n",
      "12:03:58 [INFO] Loading experiment config from C:\\Google Drive\\AIC Experiment Data\\DARP\\ITSC_instance_paper\\Results\\Manhattan\\start_18-00\\duration_030_min\\max_delay_10_min\\ih\\config.yaml\n",
      "12:03:58 [INFO] Loading instance config from C:\\Google Drive\\AIC Experiment Data\\DARP\\ITSC_instance_paper\\Instances\\Manhattan\\instances\\start_18-00\\duration_030_min\\max_delay_10_min\\config.yaml\n",
      "12:03:58 [WARNING] No solution found in folder: C:\\Google Drive\\AIC Experiment Data\\DARP\\ITSC_instance_paper\\Results\\Manhattan\\start_18-00\\duration_030_min\\max_delay_10_min\\vga\n",
      "12:03:58 [WARNING] No solution found in folder: C:\\Google Drive\\AIC Experiment Data\\DARP\\ITSC_instance_paper\\Results\\Manhattan\\start_18-00\\duration_120_min\\max_delay_03_min\\halns\n",
      "12:03:58 [WARNING] No solution found in folder: C:\\Google Drive\\AIC Experiment Data\\DARP\\ITSC_instance_paper\\Results\\Manhattan\\start_18-00\\duration_120_min\\max_delay_03_min\\halns-ih\n",
      "12:03:58 [INFO] Loading json file from: C:\\Google Drive\\AIC Experiment Data\\DARP\\ITSC_instance_paper\\Results\\Manhattan\\start_18-00\\duration_120_min\\max_delay_03_min\\ih\\config.yaml-performance.json\n",
      "12:03:58 [INFO] Loading json file from: C:\\Google Drive\\AIC Experiment Data\\DARP\\ITSC_instance_paper\\Results\\Manhattan\\start_18-00\\duration_120_min\\max_delay_03_min\\ih\\config.yaml-solution.json\n",
      "12:03:58 [INFO] Loading experiment config from C:\\Google Drive\\AIC Experiment Data\\DARP\\ITSC_instance_paper\\Results\\Manhattan\\start_18-00\\duration_120_min\\max_delay_03_min\\ih\\config.yaml\n",
      "12:03:58 [INFO] Loading instance config from C:\\Google Drive\\AIC Experiment Data\\DARP\\ITSC_instance_paper\\Instances\\Manhattan\\instances\\start_18-00\\duration_120_min\\max_delay_03_min\\config.yaml\n",
      "12:03:58 [WARNING] No solution found in folder: C:\\Google Drive\\AIC Experiment Data\\DARP\\ITSC_instance_paper\\Results\\Manhattan\\start_18-00\\duration_120_min\\max_delay_03_min\\vga\n",
      "12:03:58 [WARNING] No solution found in folder: C:\\Google Drive\\AIC Experiment Data\\DARP\\ITSC_instance_paper\\Results\\Manhattan\\start_18-00\\duration_120_min\\max_delay_05_min\\halns\n",
      "12:03:58 [WARNING] No solution found in folder: C:\\Google Drive\\AIC Experiment Data\\DARP\\ITSC_instance_paper\\Results\\Manhattan\\start_18-00\\duration_120_min\\max_delay_05_min\\halns-ih\n",
      "12:03:58 [INFO] Loading json file from: C:\\Google Drive\\AIC Experiment Data\\DARP\\ITSC_instance_paper\\Results\\Manhattan\\start_18-00\\duration_120_min\\max_delay_05_min\\ih\\config.yaml-performance.json\n",
      "12:03:58 [INFO] Loading json file from: C:\\Google Drive\\AIC Experiment Data\\DARP\\ITSC_instance_paper\\Results\\Manhattan\\start_18-00\\duration_120_min\\max_delay_05_min\\ih\\config.yaml-solution.json\n",
      "12:03:58 [INFO] Loading experiment config from C:\\Google Drive\\AIC Experiment Data\\DARP\\ITSC_instance_paper\\Results\\Manhattan\\start_18-00\\duration_120_min\\max_delay_05_min\\ih\\config.yaml\n",
      "12:03:58 [INFO] Loading instance config from C:\\Google Drive\\AIC Experiment Data\\DARP\\ITSC_instance_paper\\Instances\\Manhattan\\instances\\start_18-00\\duration_120_min\\max_delay_05_min\\config.yaml\n",
      "12:03:59 [WARNING] No solution found in folder: C:\\Google Drive\\AIC Experiment Data\\DARP\\ITSC_instance_paper\\Results\\Manhattan\\start_18-00\\duration_120_min\\max_delay_05_min\\vga\n",
      "12:03:59 [WARNING] No solution found in folder: C:\\Google Drive\\AIC Experiment Data\\DARP\\ITSC_instance_paper\\Results\\Manhattan\\start_18-00\\duration_120_min\\max_delay_10_min\\halns\n",
      "12:03:59 [WARNING] No solution found in folder: C:\\Google Drive\\AIC Experiment Data\\DARP\\ITSC_instance_paper\\Results\\Manhattan\\start_18-00\\duration_120_min\\max_delay_10_min\\halns-ih\n",
      "12:03:59 [INFO] Loading json file from: C:\\Google Drive\\AIC Experiment Data\\DARP\\ITSC_instance_paper\\Results\\Manhattan\\start_18-00\\duration_120_min\\max_delay_10_min\\ih\\config.yaml-performance.json\n",
      "12:03:59 [INFO] Loading json file from: C:\\Google Drive\\AIC Experiment Data\\DARP\\ITSC_instance_paper\\Results\\Manhattan\\start_18-00\\duration_120_min\\max_delay_10_min\\ih\\config.yaml-solution.json\n",
      "12:03:59 [INFO] Loading experiment config from C:\\Google Drive\\AIC Experiment Data\\DARP\\ITSC_instance_paper\\Results\\Manhattan\\start_18-00\\duration_120_min\\max_delay_10_min\\ih\\config.yaml\n",
      "12:03:59 [INFO] Loading instance config from C:\\Google Drive\\AIC Experiment Data\\DARP\\ITSC_instance_paper\\Instances\\Manhattan\\instances\\start_18-00\\duration_120_min\\max_delay_10_min\\config.yaml\n",
      "12:03:59 [WARNING] No solution found in folder: C:\\Google Drive\\AIC Experiment Data\\DARP\\ITSC_instance_paper\\Results\\Manhattan\\start_18-00\\duration_120_min\\max_delay_10_min\\vga\n",
      "12:03:59 [WARNING] No solution found in folder: C:\\Google Drive\\AIC Experiment Data\\DARP\\ITSC_instance_paper\\Results\\Manhattan\\start_18-00\\duration_960_min\\max_delay_03_min\\halns\n",
      "12:03:59 [WARNING] No solution found in folder: C:\\Google Drive\\AIC Experiment Data\\DARP\\ITSC_instance_paper\\Results\\Manhattan\\start_18-00\\duration_960_min\\max_delay_03_min\\halns-ih\n",
      "12:03:59 [INFO] Loading json file from: C:\\Google Drive\\AIC Experiment Data\\DARP\\ITSC_instance_paper\\Results\\Manhattan\\start_18-00\\duration_960_min\\max_delay_03_min\\ih\\config.yaml-performance.json\n",
      "12:03:59 [INFO] Loading json file from: C:\\Google Drive\\AIC Experiment Data\\DARP\\ITSC_instance_paper\\Results\\Manhattan\\start_18-00\\duration_960_min\\max_delay_03_min\\ih\\config.yaml-solution.json\n",
      "12:04:00 [INFO] Loading experiment config from C:\\Google Drive\\AIC Experiment Data\\DARP\\ITSC_instance_paper\\Results\\Manhattan\\start_18-00\\duration_960_min\\max_delay_03_min\\ih\\config.yaml\n",
      "12:04:00 [INFO] Loading instance config from C:\\Google Drive\\AIC Experiment Data\\DARP\\ITSC_instance_paper\\Instances\\Manhattan\\instances\\start_18-00\\duration_960_min\\max_delay_03_min\\config.yaml\n",
      "12:04:00 [WARNING] No solution found in folder: C:\\Google Drive\\AIC Experiment Data\\DARP\\ITSC_instance_paper\\Results\\Manhattan\\start_18-00\\duration_960_min\\max_delay_03_min\\vga\n",
      "12:04:00 [WARNING] No solution found in folder: C:\\Google Drive\\AIC Experiment Data\\DARP\\ITSC_instance_paper\\Results\\Manhattan\\start_18-00\\duration_960_min\\max_delay_05_min\\halns\n",
      "12:04:00 [WARNING] No solution found in folder: C:\\Google Drive\\AIC Experiment Data\\DARP\\ITSC_instance_paper\\Results\\Manhattan\\start_18-00\\duration_960_min\\max_delay_05_min\\halns-ih\n",
      "12:04:00 [INFO] Loading json file from: C:\\Google Drive\\AIC Experiment Data\\DARP\\ITSC_instance_paper\\Results\\Manhattan\\start_18-00\\duration_960_min\\max_delay_05_min\\ih\\config.yaml-performance.json\n",
      "12:04:00 [INFO] Loading json file from: C:\\Google Drive\\AIC Experiment Data\\DARP\\ITSC_instance_paper\\Results\\Manhattan\\start_18-00\\duration_960_min\\max_delay_05_min\\ih\\config.yaml-solution.json\n",
      "12:04:01 [INFO] Loading experiment config from C:\\Google Drive\\AIC Experiment Data\\DARP\\ITSC_instance_paper\\Results\\Manhattan\\start_18-00\\duration_960_min\\max_delay_05_min\\ih\\config.yaml\n",
      "12:04:01 [INFO] Loading instance config from C:\\Google Drive\\AIC Experiment Data\\DARP\\ITSC_instance_paper\\Instances\\Manhattan\\instances\\start_18-00\\duration_960_min\\max_delay_05_min\\config.yaml\n",
      "12:04:01 [WARNING] No solution found in folder: C:\\Google Drive\\AIC Experiment Data\\DARP\\ITSC_instance_paper\\Results\\Manhattan\\start_18-00\\duration_960_min\\max_delay_05_min\\vga\n",
      "12:04:01 [WARNING] No solution found in folder: C:\\Google Drive\\AIC Experiment Data\\DARP\\ITSC_instance_paper\\Results\\Manhattan\\start_18-00\\duration_960_min\\max_delay_10_min\\halns\n",
      "12:04:01 [WARNING] No solution found in folder: C:\\Google Drive\\AIC Experiment Data\\DARP\\ITSC_instance_paper\\Results\\Manhattan\\start_18-00\\duration_960_min\\max_delay_10_min\\halns-ih\n",
      "12:04:01 [INFO] Loading json file from: C:\\Google Drive\\AIC Experiment Data\\DARP\\ITSC_instance_paper\\Results\\Manhattan\\start_18-00\\duration_960_min\\max_delay_10_min\\ih\\config.yaml-performance.json\n",
      "12:04:01 [INFO] Loading json file from: C:\\Google Drive\\AIC Experiment Data\\DARP\\ITSC_instance_paper\\Results\\Manhattan\\start_18-00\\duration_960_min\\max_delay_10_min\\ih\\config.yaml-solution.json\n",
      "12:04:02 [INFO] Loading experiment config from C:\\Google Drive\\AIC Experiment Data\\DARP\\ITSC_instance_paper\\Results\\Manhattan\\start_18-00\\duration_960_min\\max_delay_10_min\\ih\\config.yaml\n",
      "12:04:02 [INFO] Loading instance config from C:\\Google Drive\\AIC Experiment Data\\DARP\\ITSC_instance_paper\\Instances\\Manhattan\\instances\\start_18-00\\duration_960_min\\max_delay_10_min\\config.yaml\n",
      "12:04:02 [WARNING] No solution found in folder: C:\\Google Drive\\AIC Experiment Data\\DARP\\ITSC_instance_paper\\Results\\Manhattan\\start_18-00\\duration_960_min\\max_delay_10_min\\vga\n",
      "12:04:02 [INFO] Loading occupancy stats in C:\\Google Drive\\AIC Experiment Data\\DARP\\ITSC_instance_paper\\Results\\Chicago\n",
      "12:04:02 [WARNING] No solution found in folder: C:\\Google Drive\\AIC Experiment Data\\DARP\\ITSC_instance_paper\\Results\\Chicago\\start_18-00\\duration_005_min\\max_delay_03_min\\halns\n",
      "12:04:02 [WARNING] No solution found in folder: C:\\Google Drive\\AIC Experiment Data\\DARP\\ITSC_instance_paper\\Results\\Chicago\\start_18-00\\duration_005_min\\max_delay_03_min\\halns-ih\n",
      "12:04:02 [INFO] Loading json file from: C:\\Google Drive\\AIC Experiment Data\\DARP\\ITSC_instance_paper\\Results\\Chicago\\start_18-00\\duration_005_min\\max_delay_03_min\\ih\\config.yaml-performance.json\n",
      "12:04:02 [INFO] Loading json file from: C:\\Google Drive\\AIC Experiment Data\\DARP\\ITSC_instance_paper\\Results\\Chicago\\start_18-00\\duration_005_min\\max_delay_03_min\\ih\\config.yaml-solution.json\n",
      "12:04:02 [INFO] Loading experiment config from C:\\Google Drive\\AIC Experiment Data\\DARP\\ITSC_instance_paper\\Results\\Chicago\\start_18-00\\duration_005_min\\max_delay_03_min\\ih\\config.yaml\n",
      "12:04:02 [INFO] Loading instance config from C:\\Google Drive\\AIC Experiment Data\\DARP\\ITSC_instance_paper\\Instances\\Chicago\\instances\\start_18-00\\duration_005_min\\max_delay_03_min\\config.yaml\n",
      "12:04:02 [WARNING] No solution found in folder: C:\\Google Drive\\AIC Experiment Data\\DARP\\ITSC_instance_paper\\Results\\Chicago\\start_18-00\\duration_005_min\\max_delay_03_min\\vga\n",
      "12:04:02 [WARNING] No solution found in folder: C:\\Google Drive\\AIC Experiment Data\\DARP\\ITSC_instance_paper\\Results\\Chicago\\start_18-00\\duration_005_min\\max_delay_05_min\\halns\n",
      "12:04:02 [WARNING] No solution found in folder: C:\\Google Drive\\AIC Experiment Data\\DARP\\ITSC_instance_paper\\Results\\Chicago\\start_18-00\\duration_005_min\\max_delay_05_min\\halns-ih\n",
      "12:04:02 [INFO] Loading json file from: C:\\Google Drive\\AIC Experiment Data\\DARP\\ITSC_instance_paper\\Results\\Chicago\\start_18-00\\duration_005_min\\max_delay_05_min\\ih\\config.yaml-performance.json\n",
      "12:04:02 [INFO] Loading json file from: C:\\Google Drive\\AIC Experiment Data\\DARP\\ITSC_instance_paper\\Results\\Chicago\\start_18-00\\duration_005_min\\max_delay_05_min\\ih\\config.yaml-solution.json\n",
      "12:04:02 [INFO] Loading experiment config from C:\\Google Drive\\AIC Experiment Data\\DARP\\ITSC_instance_paper\\Results\\Chicago\\start_18-00\\duration_005_min\\max_delay_05_min\\ih\\config.yaml\n",
      "12:04:02 [INFO] Loading instance config from C:\\Google Drive\\AIC Experiment Data\\DARP\\ITSC_instance_paper\\Instances\\Chicago\\instances\\start_18-00\\duration_005_min\\max_delay_05_min\\config.yaml\n",
      "12:04:02 [WARNING] No solution found in folder: C:\\Google Drive\\AIC Experiment Data\\DARP\\ITSC_instance_paper\\Results\\Chicago\\start_18-00\\duration_005_min\\max_delay_05_min\\vga\n",
      "12:04:02 [WARNING] No solution found in folder: C:\\Google Drive\\AIC Experiment Data\\DARP\\ITSC_instance_paper\\Results\\Chicago\\start_18-00\\duration_005_min\\max_delay_10_min\\halns\n",
      "12:04:02 [WARNING] No solution found in folder: C:\\Google Drive\\AIC Experiment Data\\DARP\\ITSC_instance_paper\\Results\\Chicago\\start_18-00\\duration_005_min\\max_delay_10_min\\halns-ih\n",
      "12:04:02 [INFO] Loading json file from: C:\\Google Drive\\AIC Experiment Data\\DARP\\ITSC_instance_paper\\Results\\Chicago\\start_18-00\\duration_005_min\\max_delay_10_min\\ih\\config.yaml-performance.json\n",
      "12:04:02 [INFO] Loading json file from: C:\\Google Drive\\AIC Experiment Data\\DARP\\ITSC_instance_paper\\Results\\Chicago\\start_18-00\\duration_005_min\\max_delay_10_min\\ih\\config.yaml-solution.json\n",
      "12:04:02 [INFO] Loading experiment config from C:\\Google Drive\\AIC Experiment Data\\DARP\\ITSC_instance_paper\\Results\\Chicago\\start_18-00\\duration_005_min\\max_delay_10_min\\ih\\config.yaml\n",
      "12:04:02 [INFO] Loading instance config from C:\\Google Drive\\AIC Experiment Data\\DARP\\ITSC_instance_paper\\Instances\\Chicago\\instances\\start_18-00\\duration_005_min\\max_delay_10_min\\config.yaml\n",
      "12:04:02 [WARNING] No solution found in folder: C:\\Google Drive\\AIC Experiment Data\\DARP\\ITSC_instance_paper\\Results\\Chicago\\start_18-00\\duration_005_min\\max_delay_10_min\\vga\n",
      "12:04:02 [WARNING] No solution found in folder: C:\\Google Drive\\AIC Experiment Data\\DARP\\ITSC_instance_paper\\Results\\Chicago\\start_18-00\\duration_015_min\\max_delay_03_min\\halns\n",
      "12:04:02 [WARNING] No solution found in folder: C:\\Google Drive\\AIC Experiment Data\\DARP\\ITSC_instance_paper\\Results\\Chicago\\start_18-00\\duration_015_min\\max_delay_03_min\\halns-ih\n",
      "12:04:02 [INFO] Loading json file from: C:\\Google Drive\\AIC Experiment Data\\DARP\\ITSC_instance_paper\\Results\\Chicago\\start_18-00\\duration_015_min\\max_delay_03_min\\ih\\config.yaml-performance.json\n",
      "12:04:02 [INFO] Loading json file from: C:\\Google Drive\\AIC Experiment Data\\DARP\\ITSC_instance_paper\\Results\\Chicago\\start_18-00\\duration_015_min\\max_delay_03_min\\ih\\config.yaml-solution.json\n",
      "12:04:02 [INFO] Loading experiment config from C:\\Google Drive\\AIC Experiment Data\\DARP\\ITSC_instance_paper\\Results\\Chicago\\start_18-00\\duration_015_min\\max_delay_03_min\\ih\\config.yaml\n",
      "12:04:02 [INFO] Loading instance config from C:\\Google Drive\\AIC Experiment Data\\DARP\\ITSC_instance_paper\\Instances\\Chicago\\instances\\start_18-00\\duration_015_min\\max_delay_03_min\\config.yaml\n",
      "12:04:02 [WARNING] No solution found in folder: C:\\Google Drive\\AIC Experiment Data\\DARP\\ITSC_instance_paper\\Results\\Chicago\\start_18-00\\duration_015_min\\max_delay_03_min\\vga\n",
      "12:04:02 [WARNING] No solution found in folder: C:\\Google Drive\\AIC Experiment Data\\DARP\\ITSC_instance_paper\\Results\\Chicago\\start_18-00\\duration_015_min\\max_delay_05_min\\halns\n",
      "12:04:02 [WARNING] No solution found in folder: C:\\Google Drive\\AIC Experiment Data\\DARP\\ITSC_instance_paper\\Results\\Chicago\\start_18-00\\duration_015_min\\max_delay_05_min\\halns-ih\n",
      "12:04:02 [INFO] Loading json file from: C:\\Google Drive\\AIC Experiment Data\\DARP\\ITSC_instance_paper\\Results\\Chicago\\start_18-00\\duration_015_min\\max_delay_05_min\\ih\\config.yaml-performance.json\n",
      "12:04:02 [INFO] Loading json file from: C:\\Google Drive\\AIC Experiment Data\\DARP\\ITSC_instance_paper\\Results\\Chicago\\start_18-00\\duration_015_min\\max_delay_05_min\\ih\\config.yaml-solution.json\n",
      "12:04:02 [INFO] Loading experiment config from C:\\Google Drive\\AIC Experiment Data\\DARP\\ITSC_instance_paper\\Results\\Chicago\\start_18-00\\duration_015_min\\max_delay_05_min\\ih\\config.yaml\n",
      "12:04:02 [INFO] Loading instance config from C:\\Google Drive\\AIC Experiment Data\\DARP\\ITSC_instance_paper\\Instances\\Chicago\\instances\\start_18-00\\duration_015_min\\max_delay_05_min\\config.yaml\n",
      "12:04:02 [WARNING] No solution found in folder: C:\\Google Drive\\AIC Experiment Data\\DARP\\ITSC_instance_paper\\Results\\Chicago\\start_18-00\\duration_015_min\\max_delay_05_min\\vga\n",
      "12:04:02 [WARNING] No solution found in folder: C:\\Google Drive\\AIC Experiment Data\\DARP\\ITSC_instance_paper\\Results\\Chicago\\start_18-00\\duration_015_min\\max_delay_10_min\\halns\n",
      "12:04:02 [WARNING] No solution found in folder: C:\\Google Drive\\AIC Experiment Data\\DARP\\ITSC_instance_paper\\Results\\Chicago\\start_18-00\\duration_015_min\\max_delay_10_min\\halns-ih\n",
      "12:04:02 [INFO] Loading json file from: C:\\Google Drive\\AIC Experiment Data\\DARP\\ITSC_instance_paper\\Results\\Chicago\\start_18-00\\duration_015_min\\max_delay_10_min\\ih\\config.yaml-performance.json\n",
      "12:04:02 [INFO] Loading json file from: C:\\Google Drive\\AIC Experiment Data\\DARP\\ITSC_instance_paper\\Results\\Chicago\\start_18-00\\duration_015_min\\max_delay_10_min\\ih\\config.yaml-solution.json\n",
      "12:04:02 [INFO] Loading experiment config from C:\\Google Drive\\AIC Experiment Data\\DARP\\ITSC_instance_paper\\Results\\Chicago\\start_18-00\\duration_015_min\\max_delay_10_min\\ih\\config.yaml\n",
      "12:04:02 [INFO] Loading instance config from C:\\Google Drive\\AIC Experiment Data\\DARP\\ITSC_instance_paper\\Instances\\Chicago\\instances\\start_18-00\\duration_015_min\\max_delay_10_min\\config.yaml\n",
      "12:04:02 [WARNING] No solution found in folder: C:\\Google Drive\\AIC Experiment Data\\DARP\\ITSC_instance_paper\\Results\\Chicago\\start_18-00\\duration_015_min\\max_delay_10_min\\vga\n",
      "12:04:02 [WARNING] No solution found in folder: C:\\Google Drive\\AIC Experiment Data\\DARP\\ITSC_instance_paper\\Results\\Chicago\\start_18-00\\duration_030_min\\max_delay_03_min\\halns\n",
      "12:04:02 [WARNING] No solution found in folder: C:\\Google Drive\\AIC Experiment Data\\DARP\\ITSC_instance_paper\\Results\\Chicago\\start_18-00\\duration_030_min\\max_delay_03_min\\halns-ih\n",
      "12:04:02 [INFO] Loading json file from: C:\\Google Drive\\AIC Experiment Data\\DARP\\ITSC_instance_paper\\Results\\Chicago\\start_18-00\\duration_030_min\\max_delay_03_min\\ih\\config.yaml-performance.json\n",
      "12:04:02 [INFO] Loading json file from: C:\\Google Drive\\AIC Experiment Data\\DARP\\ITSC_instance_paper\\Results\\Chicago\\start_18-00\\duration_030_min\\max_delay_03_min\\ih\\config.yaml-solution.json\n",
      "12:04:02 [INFO] Loading experiment config from C:\\Google Drive\\AIC Experiment Data\\DARP\\ITSC_instance_paper\\Results\\Chicago\\start_18-00\\duration_030_min\\max_delay_03_min\\ih\\config.yaml\n",
      "12:04:02 [INFO] Loading instance config from C:\\Google Drive\\AIC Experiment Data\\DARP\\ITSC_instance_paper\\Instances\\Chicago\\instances\\start_18-00\\duration_030_min\\max_delay_03_min\\config.yaml\n",
      "12:04:02 [WARNING] No solution found in folder: C:\\Google Drive\\AIC Experiment Data\\DARP\\ITSC_instance_paper\\Results\\Chicago\\start_18-00\\duration_030_min\\max_delay_03_min\\vga\n",
      "12:04:02 [WARNING] No solution found in folder: C:\\Google Drive\\AIC Experiment Data\\DARP\\ITSC_instance_paper\\Results\\Chicago\\start_18-00\\duration_030_min\\max_delay_05_min\\halns\n",
      "12:04:02 [WARNING] No solution found in folder: C:\\Google Drive\\AIC Experiment Data\\DARP\\ITSC_instance_paper\\Results\\Chicago\\start_18-00\\duration_030_min\\max_delay_05_min\\halns-ih\n",
      "12:04:02 [INFO] Loading json file from: C:\\Google Drive\\AIC Experiment Data\\DARP\\ITSC_instance_paper\\Results\\Chicago\\start_18-00\\duration_030_min\\max_delay_05_min\\ih\\config.yaml-performance.json\n",
      "12:04:02 [INFO] Loading json file from: C:\\Google Drive\\AIC Experiment Data\\DARP\\ITSC_instance_paper\\Results\\Chicago\\start_18-00\\duration_030_min\\max_delay_05_min\\ih\\config.yaml-solution.json\n",
      "12:04:02 [INFO] Loading experiment config from C:\\Google Drive\\AIC Experiment Data\\DARP\\ITSC_instance_paper\\Results\\Chicago\\start_18-00\\duration_030_min\\max_delay_05_min\\ih\\config.yaml\n",
      "12:04:02 [INFO] Loading instance config from C:\\Google Drive\\AIC Experiment Data\\DARP\\ITSC_instance_paper\\Instances\\Chicago\\instances\\start_18-00\\duration_030_min\\max_delay_05_min\\config.yaml\n",
      "12:04:02 [WARNING] No solution found in folder: C:\\Google Drive\\AIC Experiment Data\\DARP\\ITSC_instance_paper\\Results\\Chicago\\start_18-00\\duration_030_min\\max_delay_05_min\\vga\n",
      "12:04:02 [WARNING] No solution found in folder: C:\\Google Drive\\AIC Experiment Data\\DARP\\ITSC_instance_paper\\Results\\Chicago\\start_18-00\\duration_030_min\\max_delay_10_min\\halns\n",
      "12:04:02 [WARNING] No solution found in folder: C:\\Google Drive\\AIC Experiment Data\\DARP\\ITSC_instance_paper\\Results\\Chicago\\start_18-00\\duration_030_min\\max_delay_10_min\\halns-ih\n",
      "12:04:02 [INFO] Loading json file from: C:\\Google Drive\\AIC Experiment Data\\DARP\\ITSC_instance_paper\\Results\\Chicago\\start_18-00\\duration_030_min\\max_delay_10_min\\ih\\config.yaml-performance.json\n",
      "12:04:02 [INFO] Loading json file from: C:\\Google Drive\\AIC Experiment Data\\DARP\\ITSC_instance_paper\\Results\\Chicago\\start_18-00\\duration_030_min\\max_delay_10_min\\ih\\config.yaml-solution.json\n",
      "12:04:02 [INFO] Loading experiment config from C:\\Google Drive\\AIC Experiment Data\\DARP\\ITSC_instance_paper\\Results\\Chicago\\start_18-00\\duration_030_min\\max_delay_10_min\\ih\\config.yaml\n",
      "12:04:02 [INFO] Loading instance config from C:\\Google Drive\\AIC Experiment Data\\DARP\\ITSC_instance_paper\\Instances\\Chicago\\instances\\start_18-00\\duration_030_min\\max_delay_10_min\\config.yaml\n",
      "12:04:02 [WARNING] No solution found in folder: C:\\Google Drive\\AIC Experiment Data\\DARP\\ITSC_instance_paper\\Results\\Chicago\\start_18-00\\duration_030_min\\max_delay_10_min\\vga\n",
      "12:04:02 [WARNING] No solution found in folder: C:\\Google Drive\\AIC Experiment Data\\DARP\\ITSC_instance_paper\\Results\\Chicago\\start_18-00\\duration_120_min\\max_delay_03_min\\halns\n",
      "12:04:02 [WARNING] No solution found in folder: C:\\Google Drive\\AIC Experiment Data\\DARP\\ITSC_instance_paper\\Results\\Chicago\\start_18-00\\duration_120_min\\max_delay_03_min\\halns-ih\n",
      "12:04:02 [INFO] Loading json file from: C:\\Google Drive\\AIC Experiment Data\\DARP\\ITSC_instance_paper\\Results\\Chicago\\start_18-00\\duration_120_min\\max_delay_03_min\\ih\\config.yaml-performance.json\n",
      "12:04:02 [INFO] Loading json file from: C:\\Google Drive\\AIC Experiment Data\\DARP\\ITSC_instance_paper\\Results\\Chicago\\start_18-00\\duration_120_min\\max_delay_03_min\\ih\\config.yaml-solution.json\n",
      "12:04:02 [INFO] Loading experiment config from C:\\Google Drive\\AIC Experiment Data\\DARP\\ITSC_instance_paper\\Results\\Chicago\\start_18-00\\duration_120_min\\max_delay_03_min\\ih\\config.yaml\n",
      "12:04:02 [INFO] Loading instance config from C:\\Google Drive\\AIC Experiment Data\\DARP\\ITSC_instance_paper\\Instances\\Chicago\\instances\\start_18-00\\duration_120_min\\max_delay_03_min\\config.yaml\n",
      "12:04:02 [WARNING] No solution found in folder: C:\\Google Drive\\AIC Experiment Data\\DARP\\ITSC_instance_paper\\Results\\Chicago\\start_18-00\\duration_120_min\\max_delay_03_min\\vga\n",
      "12:04:02 [WARNING] No solution found in folder: C:\\Google Drive\\AIC Experiment Data\\DARP\\ITSC_instance_paper\\Results\\Chicago\\start_18-00\\duration_120_min\\max_delay_05_min\\halns\n",
      "12:04:02 [WARNING] No solution found in folder: C:\\Google Drive\\AIC Experiment Data\\DARP\\ITSC_instance_paper\\Results\\Chicago\\start_18-00\\duration_120_min\\max_delay_05_min\\halns-ih\n",
      "12:04:02 [INFO] Loading json file from: C:\\Google Drive\\AIC Experiment Data\\DARP\\ITSC_instance_paper\\Results\\Chicago\\start_18-00\\duration_120_min\\max_delay_05_min\\ih\\config.yaml-performance.json\n",
      "12:04:02 [INFO] Loading json file from: C:\\Google Drive\\AIC Experiment Data\\DARP\\ITSC_instance_paper\\Results\\Chicago\\start_18-00\\duration_120_min\\max_delay_05_min\\ih\\config.yaml-solution.json\n",
      "12:04:02 [INFO] Loading experiment config from C:\\Google Drive\\AIC Experiment Data\\DARP\\ITSC_instance_paper\\Results\\Chicago\\start_18-00\\duration_120_min\\max_delay_05_min\\ih\\config.yaml\n",
      "12:04:02 [INFO] Loading instance config from C:\\Google Drive\\AIC Experiment Data\\DARP\\ITSC_instance_paper\\Instances\\Chicago\\instances\\start_18-00\\duration_120_min\\max_delay_05_min\\config.yaml\n",
      "12:04:02 [WARNING] No solution found in folder: C:\\Google Drive\\AIC Experiment Data\\DARP\\ITSC_instance_paper\\Results\\Chicago\\start_18-00\\duration_120_min\\max_delay_05_min\\vga\n",
      "12:04:02 [WARNING] No solution found in folder: C:\\Google Drive\\AIC Experiment Data\\DARP\\ITSC_instance_paper\\Results\\Chicago\\start_18-00\\duration_120_min\\max_delay_10_min\\halns\n",
      "12:04:02 [WARNING] No solution found in folder: C:\\Google Drive\\AIC Experiment Data\\DARP\\ITSC_instance_paper\\Results\\Chicago\\start_18-00\\duration_120_min\\max_delay_10_min\\halns-ih\n",
      "12:04:02 [INFO] Loading json file from: C:\\Google Drive\\AIC Experiment Data\\DARP\\ITSC_instance_paper\\Results\\Chicago\\start_18-00\\duration_120_min\\max_delay_10_min\\ih\\config.yaml-performance.json\n",
      "12:04:02 [INFO] Loading json file from: C:\\Google Drive\\AIC Experiment Data\\DARP\\ITSC_instance_paper\\Results\\Chicago\\start_18-00\\duration_120_min\\max_delay_10_min\\ih\\config.yaml-solution.json\n",
      "12:04:02 [INFO] Loading experiment config from C:\\Google Drive\\AIC Experiment Data\\DARP\\ITSC_instance_paper\\Results\\Chicago\\start_18-00\\duration_120_min\\max_delay_10_min\\ih\\config.yaml\n",
      "12:04:02 [INFO] Loading instance config from C:\\Google Drive\\AIC Experiment Data\\DARP\\ITSC_instance_paper\\Instances\\Chicago\\instances\\start_18-00\\duration_120_min\\max_delay_10_min\\config.yaml\n",
      "12:04:02 [WARNING] No solution found in folder: C:\\Google Drive\\AIC Experiment Data\\DARP\\ITSC_instance_paper\\Results\\Chicago\\start_18-00\\duration_120_min\\max_delay_10_min\\vga\n",
      "12:04:02 [WARNING] No solution found in folder: C:\\Google Drive\\AIC Experiment Data\\DARP\\ITSC_instance_paper\\Results\\Chicago\\start_18-00\\duration_960_min\\max_delay_03_min\\halns\n",
      "12:04:02 [WARNING] No solution found in folder: C:\\Google Drive\\AIC Experiment Data\\DARP\\ITSC_instance_paper\\Results\\Chicago\\start_18-00\\duration_960_min\\max_delay_03_min\\halns-ih\n",
      "12:04:02 [INFO] Loading json file from: C:\\Google Drive\\AIC Experiment Data\\DARP\\ITSC_instance_paper\\Results\\Chicago\\start_18-00\\duration_960_min\\max_delay_03_min\\ih\\config.yaml-performance.json\n",
      "12:04:02 [INFO] Loading json file from: C:\\Google Drive\\AIC Experiment Data\\DARP\\ITSC_instance_paper\\Results\\Chicago\\start_18-00\\duration_960_min\\max_delay_03_min\\ih\\config.yaml-solution.json\n",
      "12:04:02 [INFO] Loading experiment config from C:\\Google Drive\\AIC Experiment Data\\DARP\\ITSC_instance_paper\\Results\\Chicago\\start_18-00\\duration_960_min\\max_delay_03_min\\ih\\config.yaml\n",
      "12:04:02 [INFO] Loading instance config from C:\\Google Drive\\AIC Experiment Data\\DARP\\ITSC_instance_paper\\Instances\\Chicago\\instances\\start_18-00\\duration_960_min\\max_delay_03_min\\config.yaml\n",
      "12:04:02 [WARNING] No solution found in folder: C:\\Google Drive\\AIC Experiment Data\\DARP\\ITSC_instance_paper\\Results\\Chicago\\start_18-00\\duration_960_min\\max_delay_03_min\\vga\n",
      "12:04:02 [WARNING] No solution found in folder: C:\\Google Drive\\AIC Experiment Data\\DARP\\ITSC_instance_paper\\Results\\Chicago\\start_18-00\\duration_960_min\\max_delay_05_min\\halns\n",
      "12:04:02 [WARNING] No solution found in folder: C:\\Google Drive\\AIC Experiment Data\\DARP\\ITSC_instance_paper\\Results\\Chicago\\start_18-00\\duration_960_min\\max_delay_05_min\\halns-ih\n",
      "12:04:02 [INFO] Loading json file from: C:\\Google Drive\\AIC Experiment Data\\DARP\\ITSC_instance_paper\\Results\\Chicago\\start_18-00\\duration_960_min\\max_delay_05_min\\ih\\config.yaml-performance.json\n",
      "12:04:02 [INFO] Loading json file from: C:\\Google Drive\\AIC Experiment Data\\DARP\\ITSC_instance_paper\\Results\\Chicago\\start_18-00\\duration_960_min\\max_delay_05_min\\ih\\config.yaml-solution.json\n",
      "12:04:02 [INFO] Loading experiment config from C:\\Google Drive\\AIC Experiment Data\\DARP\\ITSC_instance_paper\\Results\\Chicago\\start_18-00\\duration_960_min\\max_delay_05_min\\ih\\config.yaml\n",
      "12:04:02 [INFO] Loading instance config from C:\\Google Drive\\AIC Experiment Data\\DARP\\ITSC_instance_paper\\Instances\\Chicago\\instances\\start_18-00\\duration_960_min\\max_delay_05_min\\config.yaml\n",
      "12:04:02 [WARNING] No solution found in folder: C:\\Google Drive\\AIC Experiment Data\\DARP\\ITSC_instance_paper\\Results\\Chicago\\start_18-00\\duration_960_min\\max_delay_05_min\\vga\n",
      "12:04:02 [WARNING] No solution found in folder: C:\\Google Drive\\AIC Experiment Data\\DARP\\ITSC_instance_paper\\Results\\Chicago\\start_18-00\\duration_960_min\\max_delay_10_min\\halns\n",
      "12:04:02 [WARNING] No solution found in folder: C:\\Google Drive\\AIC Experiment Data\\DARP\\ITSC_instance_paper\\Results\\Chicago\\start_18-00\\duration_960_min\\max_delay_10_min\\halns-ih\n",
      "12:04:02 [INFO] Loading json file from: C:\\Google Drive\\AIC Experiment Data\\DARP\\ITSC_instance_paper\\Results\\Chicago\\start_18-00\\duration_960_min\\max_delay_10_min\\ih\\config.yaml-performance.json\n",
      "12:04:02 [INFO] Loading json file from: C:\\Google Drive\\AIC Experiment Data\\DARP\\ITSC_instance_paper\\Results\\Chicago\\start_18-00\\duration_960_min\\max_delay_10_min\\ih\\config.yaml-solution.json\n",
      "12:04:02 [INFO] Loading experiment config from C:\\Google Drive\\AIC Experiment Data\\DARP\\ITSC_instance_paper\\Results\\Chicago\\start_18-00\\duration_960_min\\max_delay_10_min\\ih\\config.yaml\n",
      "12:04:02 [INFO] Loading instance config from C:\\Google Drive\\AIC Experiment Data\\DARP\\ITSC_instance_paper\\Instances\\Chicago\\instances\\start_18-00\\duration_960_min\\max_delay_10_min\\config.yaml\n",
      "12:04:02 [WARNING] No solution found in folder: C:\\Google Drive\\AIC Experiment Data\\DARP\\ITSC_instance_paper\\Results\\Chicago\\start_18-00\\duration_960_min\\max_delay_10_min\\vga\n",
      "12:04:02 [INFO] Loading occupancy stats in C:\\Google Drive\\AIC Experiment Data\\DARP\\ITSC_instance_paper\\Results\\DC\n",
      "12:04:02 [INFO] Loading json file from: C:\\Google Drive\\AIC Experiment Data\\DARP\\ITSC_instance_paper\\Results\\DC\\start_18-00\\duration_005_min\\max_delay_03_min\\halns\\config.yaml-performance.json\n",
      "12:04:02 [INFO] Loading json file from: C:\\Google Drive\\AIC Experiment Data\\DARP\\ITSC_instance_paper\\Results\\DC\\start_18-00\\duration_005_min\\max_delay_03_min\\halns\\config.yaml-solution.json\n",
      "12:04:02 [INFO] Loading experiment config from C:\\Google Drive\\AIC Experiment Data\\DARP\\ITSC_instance_paper\\Results\\DC\\start_18-00\\duration_005_min\\max_delay_03_min\\halns\\config.yaml\n",
      "12:04:02 [INFO] Loading instance config from C:\\Google Drive\\AIC Experiment Data\\DARP\\ITSC_instance_paper\\Instances\\DC\\instances\\start_18-00\\duration_005_min\\max_delay_03_min\\config.yaml\n",
      "12:04:02 [INFO] Loading json file from: C:\\Google Drive\\AIC Experiment Data\\DARP\\ITSC_instance_paper\\Results\\DC\\start_18-00\\duration_005_min\\max_delay_03_min\\halns-ih\\config.yaml-performance.json\n",
      "12:04:02 [INFO] Loading json file from: C:\\Google Drive\\AIC Experiment Data\\DARP\\ITSC_instance_paper\\Results\\DC\\start_18-00\\duration_005_min\\max_delay_03_min\\halns-ih\\config.yaml-solution.json\n",
      "12:04:02 [INFO] Loading experiment config from C:\\Google Drive\\AIC Experiment Data\\DARP\\ITSC_instance_paper\\Results\\DC\\start_18-00\\duration_005_min\\max_delay_03_min\\halns-ih\\config.yaml\n",
      "12:04:02 [INFO] Loading instance config from C:\\Google Drive\\AIC Experiment Data\\DARP\\ITSC_instance_paper\\Instances\\DC\\instances\\start_18-00\\duration_005_min\\max_delay_03_min\\config.yaml\n",
      "12:04:02 [INFO] Loading json file from: C:\\Google Drive\\AIC Experiment Data\\DARP\\ITSC_instance_paper\\Results\\DC\\start_18-00\\duration_005_min\\max_delay_03_min\\ih\\config.yaml-performance.json\n",
      "12:04:02 [INFO] Loading json file from: C:\\Google Drive\\AIC Experiment Data\\DARP\\ITSC_instance_paper\\Results\\DC\\start_18-00\\duration_005_min\\max_delay_03_min\\ih\\config.yaml-solution.json\n",
      "12:04:02 [INFO] Loading experiment config from C:\\Google Drive\\AIC Experiment Data\\DARP\\ITSC_instance_paper\\Results\\DC\\start_18-00\\duration_005_min\\max_delay_03_min\\ih\\config.yaml\n",
      "12:04:02 [INFO] Loading instance config from C:\\Google Drive\\AIC Experiment Data\\DARP\\ITSC_instance_paper\\Instances\\DC\\instances\\start_18-00\\duration_005_min\\max_delay_03_min\\config.yaml\n",
      "12:04:02 [INFO] Loading json file from: C:\\Google Drive\\AIC Experiment Data\\DARP\\ITSC_instance_paper\\Results\\DC\\start_18-00\\duration_005_min\\max_delay_03_min\\vga\\config.yaml-performance.json\n",
      "12:04:02 [INFO] Loading json file from: C:\\Google Drive\\AIC Experiment Data\\DARP\\ITSC_instance_paper\\Results\\DC\\start_18-00\\duration_005_min\\max_delay_03_min\\vga\\config.yaml-solution.json\n",
      "12:04:02 [INFO] Loading experiment config from C:\\Google Drive\\AIC Experiment Data\\DARP\\ITSC_instance_paper\\Results\\DC\\start_18-00\\duration_005_min\\max_delay_03_min\\vga\\config.yaml\n",
      "12:04:02 [INFO] Loading instance config from C:\\Google Drive\\AIC Experiment Data\\DARP\\ITSC_instance_paper\\Instances\\DC\\instances\\start_18-00\\duration_005_min\\max_delay_03_min\\config.yaml\n",
      "12:04:02 [INFO] Loading json file from: C:\\Google Drive\\AIC Experiment Data\\DARP\\ITSC_instance_paper\\Results\\DC\\start_18-00\\duration_005_min\\max_delay_05_min\\halns\\config.yaml-performance.json\n",
      "12:04:02 [INFO] Loading json file from: C:\\Google Drive\\AIC Experiment Data\\DARP\\ITSC_instance_paper\\Results\\DC\\start_18-00\\duration_005_min\\max_delay_05_min\\halns\\config.yaml-solution.json\n",
      "12:04:02 [INFO] Loading experiment config from C:\\Google Drive\\AIC Experiment Data\\DARP\\ITSC_instance_paper\\Results\\DC\\start_18-00\\duration_005_min\\max_delay_05_min\\halns\\config.yaml\n",
      "12:04:02 [INFO] Loading instance config from C:\\Google Drive\\AIC Experiment Data\\DARP\\ITSC_instance_paper\\Instances\\DC\\instances\\start_18-00\\duration_005_min\\max_delay_05_min\\config.yaml\n",
      "12:04:02 [INFO] Loading json file from: C:\\Google Drive\\AIC Experiment Data\\DARP\\ITSC_instance_paper\\Results\\DC\\start_18-00\\duration_005_min\\max_delay_05_min\\halns-ih\\config.yaml-performance.json\n",
      "12:04:02 [INFO] Loading json file from: C:\\Google Drive\\AIC Experiment Data\\DARP\\ITSC_instance_paper\\Results\\DC\\start_18-00\\duration_005_min\\max_delay_05_min\\halns-ih\\config.yaml-solution.json\n",
      "12:04:02 [INFO] Loading experiment config from C:\\Google Drive\\AIC Experiment Data\\DARP\\ITSC_instance_paper\\Results\\DC\\start_18-00\\duration_005_min\\max_delay_05_min\\halns-ih\\config.yaml\n",
      "12:04:02 [INFO] Loading instance config from C:\\Google Drive\\AIC Experiment Data\\DARP\\ITSC_instance_paper\\Instances\\DC\\instances\\start_18-00\\duration_005_min\\max_delay_05_min\\config.yaml\n",
      "12:04:02 [INFO] Loading json file from: C:\\Google Drive\\AIC Experiment Data\\DARP\\ITSC_instance_paper\\Results\\DC\\start_18-00\\duration_005_min\\max_delay_05_min\\ih\\config.yaml-performance.json\n",
      "12:04:02 [INFO] Loading json file from: C:\\Google Drive\\AIC Experiment Data\\DARP\\ITSC_instance_paper\\Results\\DC\\start_18-00\\duration_005_min\\max_delay_05_min\\ih\\config.yaml-solution.json\n",
      "12:04:02 [INFO] Loading experiment config from C:\\Google Drive\\AIC Experiment Data\\DARP\\ITSC_instance_paper\\Results\\DC\\start_18-00\\duration_005_min\\max_delay_05_min\\ih\\config.yaml\n",
      "12:04:02 [INFO] Loading instance config from C:\\Google Drive\\AIC Experiment Data\\DARP\\ITSC_instance_paper\\Instances\\DC\\instances\\start_18-00\\duration_005_min\\max_delay_05_min\\config.yaml\n",
      "12:04:02 [INFO] Loading json file from: C:\\Google Drive\\AIC Experiment Data\\DARP\\ITSC_instance_paper\\Results\\DC\\start_18-00\\duration_005_min\\max_delay_05_min\\vga\\config.yaml-performance.json\n",
      "12:04:02 [INFO] Loading json file from: C:\\Google Drive\\AIC Experiment Data\\DARP\\ITSC_instance_paper\\Results\\DC\\start_18-00\\duration_005_min\\max_delay_05_min\\vga\\config.yaml-solution.json\n",
      "12:04:02 [INFO] Loading experiment config from C:\\Google Drive\\AIC Experiment Data\\DARP\\ITSC_instance_paper\\Results\\DC\\start_18-00\\duration_005_min\\max_delay_05_min\\vga\\config.yaml\n",
      "12:04:02 [INFO] Loading instance config from C:\\Google Drive\\AIC Experiment Data\\DARP\\ITSC_instance_paper\\Instances\\DC\\instances\\start_18-00\\duration_005_min\\max_delay_05_min\\config.yaml\n",
      "12:04:02 [INFO] Loading json file from: C:\\Google Drive\\AIC Experiment Data\\DARP\\ITSC_instance_paper\\Results\\DC\\start_18-00\\duration_005_min\\max_delay_10_min\\halns\\config.yaml-performance.json\n",
      "12:04:02 [INFO] Loading json file from: C:\\Google Drive\\AIC Experiment Data\\DARP\\ITSC_instance_paper\\Results\\DC\\start_18-00\\duration_005_min\\max_delay_10_min\\halns\\config.yaml-solution.json\n",
      "12:04:02 [INFO] Loading experiment config from C:\\Google Drive\\AIC Experiment Data\\DARP\\ITSC_instance_paper\\Results\\DC\\start_18-00\\duration_005_min\\max_delay_10_min\\halns\\config.yaml\n",
      "12:04:02 [INFO] Loading instance config from C:\\Google Drive\\AIC Experiment Data\\DARP\\ITSC_instance_paper\\Instances\\DC\\instances\\start_18-00\\duration_005_min\\max_delay_10_min\\config.yaml\n",
      "12:04:02 [INFO] Loading json file from: C:\\Google Drive\\AIC Experiment Data\\DARP\\ITSC_instance_paper\\Results\\DC\\start_18-00\\duration_005_min\\max_delay_10_min\\halns-ih\\config.yaml-performance.json\n",
      "12:04:02 [INFO] Loading json file from: C:\\Google Drive\\AIC Experiment Data\\DARP\\ITSC_instance_paper\\Results\\DC\\start_18-00\\duration_005_min\\max_delay_10_min\\halns-ih\\config.yaml-solution.json\n",
      "12:04:02 [INFO] Loading experiment config from C:\\Google Drive\\AIC Experiment Data\\DARP\\ITSC_instance_paper\\Results\\DC\\start_18-00\\duration_005_min\\max_delay_10_min\\halns-ih\\config.yaml\n",
      "12:04:02 [INFO] Loading instance config from C:\\Google Drive\\AIC Experiment Data\\DARP\\ITSC_instance_paper\\Instances\\DC\\instances\\start_18-00\\duration_005_min\\max_delay_10_min\\config.yaml\n",
      "12:04:02 [INFO] Loading json file from: C:\\Google Drive\\AIC Experiment Data\\DARP\\ITSC_instance_paper\\Results\\DC\\start_18-00\\duration_005_min\\max_delay_10_min\\ih\\config.yaml-performance.json\n",
      "12:04:02 [INFO] Loading json file from: C:\\Google Drive\\AIC Experiment Data\\DARP\\ITSC_instance_paper\\Results\\DC\\start_18-00\\duration_005_min\\max_delay_10_min\\ih\\config.yaml-solution.json\n",
      "12:04:02 [INFO] Loading experiment config from C:\\Google Drive\\AIC Experiment Data\\DARP\\ITSC_instance_paper\\Results\\DC\\start_18-00\\duration_005_min\\max_delay_10_min\\ih\\config.yaml\n",
      "12:04:02 [INFO] Loading instance config from C:\\Google Drive\\AIC Experiment Data\\DARP\\ITSC_instance_paper\\Instances\\DC\\instances\\start_18-00\\duration_005_min\\max_delay_10_min\\config.yaml\n",
      "12:04:02 [WARNING] No solution found in folder: C:\\Google Drive\\AIC Experiment Data\\DARP\\ITSC_instance_paper\\Results\\DC\\start_18-00\\duration_005_min\\max_delay_10_min\\vga\n",
      "12:04:02 [WARNING] No solution found in folder: C:\\Google Drive\\AIC Experiment Data\\DARP\\ITSC_instance_paper\\Results\\DC\\start_18-00\\duration_015_min\\max_delay_03_min\\halns\n",
      "12:04:02 [INFO] Loading json file from: C:\\Google Drive\\AIC Experiment Data\\DARP\\ITSC_instance_paper\\Results\\DC\\start_18-00\\duration_015_min\\max_delay_03_min\\halns-ih\\config.yaml-performance.json\n",
      "12:04:02 [INFO] Loading json file from: C:\\Google Drive\\AIC Experiment Data\\DARP\\ITSC_instance_paper\\Results\\DC\\start_18-00\\duration_015_min\\max_delay_03_min\\halns-ih\\config.yaml-solution.json\n",
      "12:04:02 [INFO] Loading experiment config from C:\\Google Drive\\AIC Experiment Data\\DARP\\ITSC_instance_paper\\Results\\DC\\start_18-00\\duration_015_min\\max_delay_03_min\\halns-ih\\config.yaml\n",
      "12:04:02 [INFO] Loading instance config from C:\\Google Drive\\AIC Experiment Data\\DARP\\ITSC_instance_paper\\Instances\\DC\\instances\\start_18-00\\duration_015_min\\max_delay_03_min\\config.yaml\n",
      "12:04:02 [INFO] Loading json file from: C:\\Google Drive\\AIC Experiment Data\\DARP\\ITSC_instance_paper\\Results\\DC\\start_18-00\\duration_015_min\\max_delay_03_min\\ih\\config.yaml-performance.json\n",
      "12:04:02 [INFO] Loading json file from: C:\\Google Drive\\AIC Experiment Data\\DARP\\ITSC_instance_paper\\Results\\DC\\start_18-00\\duration_015_min\\max_delay_03_min\\ih\\config.yaml-solution.json\n",
      "12:04:02 [INFO] Loading experiment config from C:\\Google Drive\\AIC Experiment Data\\DARP\\ITSC_instance_paper\\Results\\DC\\start_18-00\\duration_015_min\\max_delay_03_min\\ih\\config.yaml\n",
      "12:04:02 [INFO] Loading instance config from C:\\Google Drive\\AIC Experiment Data\\DARP\\ITSC_instance_paper\\Instances\\DC\\instances\\start_18-00\\duration_015_min\\max_delay_03_min\\config.yaml\n",
      "12:04:02 [WARNING] No solution found in folder: C:\\Google Drive\\AIC Experiment Data\\DARP\\ITSC_instance_paper\\Results\\DC\\start_18-00\\duration_015_min\\max_delay_03_min\\vga\n",
      "12:04:02 [INFO] Loading json file from: C:\\Google Drive\\AIC Experiment Data\\DARP\\ITSC_instance_paper\\Results\\DC\\start_18-00\\duration_015_min\\max_delay_05_min\\halns\\config.yaml-performance.json\n",
      "12:04:02 [INFO] Loading json file from: C:\\Google Drive\\AIC Experiment Data\\DARP\\ITSC_instance_paper\\Results\\DC\\start_18-00\\duration_015_min\\max_delay_05_min\\halns\\config.yaml-solution.json\n",
      "12:04:02 [INFO] Loading experiment config from C:\\Google Drive\\AIC Experiment Data\\DARP\\ITSC_instance_paper\\Results\\DC\\start_18-00\\duration_015_min\\max_delay_05_min\\halns\\config.yaml\n",
      "12:04:02 [INFO] Loading instance config from C:\\Google Drive\\AIC Experiment Data\\DARP\\ITSC_instance_paper\\Instances\\DC\\instances\\start_18-00\\duration_015_min\\max_delay_05_min\\config.yaml\n",
      "12:04:02 [INFO] Loading json file from: C:\\Google Drive\\AIC Experiment Data\\DARP\\ITSC_instance_paper\\Results\\DC\\start_18-00\\duration_015_min\\max_delay_05_min\\halns-ih\\config.yaml-performance.json\n",
      "12:04:02 [INFO] Loading json file from: C:\\Google Drive\\AIC Experiment Data\\DARP\\ITSC_instance_paper\\Results\\DC\\start_18-00\\duration_015_min\\max_delay_05_min\\halns-ih\\config.yaml-solution.json\n",
      "12:04:02 [INFO] Loading experiment config from C:\\Google Drive\\AIC Experiment Data\\DARP\\ITSC_instance_paper\\Results\\DC\\start_18-00\\duration_015_min\\max_delay_05_min\\halns-ih\\config.yaml\n",
      "12:04:02 [INFO] Loading instance config from C:\\Google Drive\\AIC Experiment Data\\DARP\\ITSC_instance_paper\\Instances\\DC\\instances\\start_18-00\\duration_015_min\\max_delay_05_min\\config.yaml\n",
      "12:04:02 [INFO] Loading json file from: C:\\Google Drive\\AIC Experiment Data\\DARP\\ITSC_instance_paper\\Results\\DC\\start_18-00\\duration_015_min\\max_delay_05_min\\ih\\config.yaml-performance.json\n",
      "12:04:02 [INFO] Loading json file from: C:\\Google Drive\\AIC Experiment Data\\DARP\\ITSC_instance_paper\\Results\\DC\\start_18-00\\duration_015_min\\max_delay_05_min\\ih\\config.yaml-solution.json\n",
      "12:04:02 [INFO] Loading experiment config from C:\\Google Drive\\AIC Experiment Data\\DARP\\ITSC_instance_paper\\Results\\DC\\start_18-00\\duration_015_min\\max_delay_05_min\\ih\\config.yaml\n",
      "12:04:02 [INFO] Loading instance config from C:\\Google Drive\\AIC Experiment Data\\DARP\\ITSC_instance_paper\\Instances\\DC\\instances\\start_18-00\\duration_015_min\\max_delay_05_min\\config.yaml\n",
      "12:04:02 [WARNING] No solution found in folder: C:\\Google Drive\\AIC Experiment Data\\DARP\\ITSC_instance_paper\\Results\\DC\\start_18-00\\duration_015_min\\max_delay_05_min\\vga\n",
      "12:04:02 [INFO] Loading json file from: C:\\Google Drive\\AIC Experiment Data\\DARP\\ITSC_instance_paper\\Results\\DC\\start_18-00\\duration_015_min\\max_delay_10_min\\halns\\config.yaml-performance.json\n",
      "12:04:02 [INFO] Loading json file from: C:\\Google Drive\\AIC Experiment Data\\DARP\\ITSC_instance_paper\\Results\\DC\\start_18-00\\duration_015_min\\max_delay_10_min\\halns\\config.yaml-solution.json\n",
      "12:04:02 [INFO] Loading experiment config from C:\\Google Drive\\AIC Experiment Data\\DARP\\ITSC_instance_paper\\Results\\DC\\start_18-00\\duration_015_min\\max_delay_10_min\\halns\\config.yaml\n",
      "12:04:02 [INFO] Loading instance config from C:\\Google Drive\\AIC Experiment Data\\DARP\\ITSC_instance_paper\\Instances\\DC\\instances\\start_18-00\\duration_015_min\\max_delay_10_min\\config.yaml\n",
      "12:04:02 [INFO] Loading json file from: C:\\Google Drive\\AIC Experiment Data\\DARP\\ITSC_instance_paper\\Results\\DC\\start_18-00\\duration_015_min\\max_delay_10_min\\halns-ih\\config.yaml-performance.json\n",
      "12:04:02 [INFO] Loading json file from: C:\\Google Drive\\AIC Experiment Data\\DARP\\ITSC_instance_paper\\Results\\DC\\start_18-00\\duration_015_min\\max_delay_10_min\\halns-ih\\config.yaml-solution.json\n",
      "12:04:02 [INFO] Loading experiment config from C:\\Google Drive\\AIC Experiment Data\\DARP\\ITSC_instance_paper\\Results\\DC\\start_18-00\\duration_015_min\\max_delay_10_min\\halns-ih\\config.yaml\n",
      "12:04:02 [INFO] Loading instance config from C:\\Google Drive\\AIC Experiment Data\\DARP\\ITSC_instance_paper\\Instances\\DC\\instances\\start_18-00\\duration_015_min\\max_delay_10_min\\config.yaml\n",
      "12:04:02 [INFO] Loading json file from: C:\\Google Drive\\AIC Experiment Data\\DARP\\ITSC_instance_paper\\Results\\DC\\start_18-00\\duration_015_min\\max_delay_10_min\\ih\\config.yaml-performance.json\n",
      "12:04:02 [INFO] Loading json file from: C:\\Google Drive\\AIC Experiment Data\\DARP\\ITSC_instance_paper\\Results\\DC\\start_18-00\\duration_015_min\\max_delay_10_min\\ih\\config.yaml-solution.json\n",
      "12:04:02 [INFO] Loading experiment config from C:\\Google Drive\\AIC Experiment Data\\DARP\\ITSC_instance_paper\\Results\\DC\\start_18-00\\duration_015_min\\max_delay_10_min\\ih\\config.yaml\n",
      "12:04:02 [INFO] Loading instance config from C:\\Google Drive\\AIC Experiment Data\\DARP\\ITSC_instance_paper\\Instances\\DC\\instances\\start_18-00\\duration_015_min\\max_delay_10_min\\config.yaml\n",
      "12:04:02 [WARNING] No solution found in folder: C:\\Google Drive\\AIC Experiment Data\\DARP\\ITSC_instance_paper\\Results\\DC\\start_18-00\\duration_015_min\\max_delay_10_min\\vga\n",
      "12:04:02 [INFO] Loading json file from: C:\\Google Drive\\AIC Experiment Data\\DARP\\ITSC_instance_paper\\Results\\DC\\start_18-00\\duration_030_min\\max_delay_03_min\\halns\\config.yaml-performance.json\n",
      "12:04:02 [INFO] Loading json file from: C:\\Google Drive\\AIC Experiment Data\\DARP\\ITSC_instance_paper\\Results\\DC\\start_18-00\\duration_030_min\\max_delay_03_min\\halns\\config.yaml-solution.json\n",
      "12:04:02 [INFO] Loading experiment config from C:\\Google Drive\\AIC Experiment Data\\DARP\\ITSC_instance_paper\\Results\\DC\\start_18-00\\duration_030_min\\max_delay_03_min\\halns\\config.yaml\n",
      "12:04:02 [INFO] Loading instance config from C:\\Google Drive\\AIC Experiment Data\\DARP\\ITSC_instance_paper\\Instances\\DC\\instances\\start_18-00\\duration_030_min\\max_delay_03_min\\config.yaml\n",
      "12:04:02 [INFO] Loading json file from: C:\\Google Drive\\AIC Experiment Data\\DARP\\ITSC_instance_paper\\Results\\DC\\start_18-00\\duration_030_min\\max_delay_03_min\\halns-ih\\config.yaml-performance.json\n",
      "12:04:02 [INFO] Loading json file from: C:\\Google Drive\\AIC Experiment Data\\DARP\\ITSC_instance_paper\\Results\\DC\\start_18-00\\duration_030_min\\max_delay_03_min\\halns-ih\\config.yaml-solution.json\n",
      "12:04:02 [INFO] Loading experiment config from C:\\Google Drive\\AIC Experiment Data\\DARP\\ITSC_instance_paper\\Results\\DC\\start_18-00\\duration_030_min\\max_delay_03_min\\halns-ih\\config.yaml\n",
      "12:04:02 [INFO] Loading instance config from C:\\Google Drive\\AIC Experiment Data\\DARP\\ITSC_instance_paper\\Instances\\DC\\instances\\start_18-00\\duration_030_min\\max_delay_03_min\\config.yaml\n",
      "12:04:02 [INFO] Loading json file from: C:\\Google Drive\\AIC Experiment Data\\DARP\\ITSC_instance_paper\\Results\\DC\\start_18-00\\duration_030_min\\max_delay_03_min\\ih\\config.yaml-performance.json\n",
      "12:04:02 [INFO] Loading json file from: C:\\Google Drive\\AIC Experiment Data\\DARP\\ITSC_instance_paper\\Results\\DC\\start_18-00\\duration_030_min\\max_delay_03_min\\ih\\config.yaml-solution.json\n",
      "12:04:02 [INFO] Loading experiment config from C:\\Google Drive\\AIC Experiment Data\\DARP\\ITSC_instance_paper\\Results\\DC\\start_18-00\\duration_030_min\\max_delay_03_min\\ih\\config.yaml\n",
      "12:04:02 [INFO] Loading instance config from C:\\Google Drive\\AIC Experiment Data\\DARP\\ITSC_instance_paper\\Instances\\DC\\instances\\start_18-00\\duration_030_min\\max_delay_03_min\\config.yaml\n",
      "12:04:02 [WARNING] No solution found in folder: C:\\Google Drive\\AIC Experiment Data\\DARP\\ITSC_instance_paper\\Results\\DC\\start_18-00\\duration_030_min\\max_delay_03_min\\vga\n",
      "12:04:02 [INFO] Loading json file from: C:\\Google Drive\\AIC Experiment Data\\DARP\\ITSC_instance_paper\\Results\\DC\\start_18-00\\duration_030_min\\max_delay_05_min\\halns\\config.yaml-performance.json\n",
      "12:04:02 [INFO] Loading json file from: C:\\Google Drive\\AIC Experiment Data\\DARP\\ITSC_instance_paper\\Results\\DC\\start_18-00\\duration_030_min\\max_delay_05_min\\halns\\config.yaml-solution.json\n",
      "12:04:02 [INFO] Loading experiment config from C:\\Google Drive\\AIC Experiment Data\\DARP\\ITSC_instance_paper\\Results\\DC\\start_18-00\\duration_030_min\\max_delay_05_min\\halns\\config.yaml\n",
      "12:04:02 [INFO] Loading instance config from C:\\Google Drive\\AIC Experiment Data\\DARP\\ITSC_instance_paper\\Instances\\DC\\instances\\start_18-00\\duration_030_min\\max_delay_05_min\\config.yaml\n",
      "12:04:02 [INFO] Loading json file from: C:\\Google Drive\\AIC Experiment Data\\DARP\\ITSC_instance_paper\\Results\\DC\\start_18-00\\duration_030_min\\max_delay_05_min\\halns-ih\\config.yaml-performance.json\n",
      "12:04:02 [INFO] Loading json file from: C:\\Google Drive\\AIC Experiment Data\\DARP\\ITSC_instance_paper\\Results\\DC\\start_18-00\\duration_030_min\\max_delay_05_min\\halns-ih\\config.yaml-solution.json\n",
      "12:04:02 [INFO] Loading experiment config from C:\\Google Drive\\AIC Experiment Data\\DARP\\ITSC_instance_paper\\Results\\DC\\start_18-00\\duration_030_min\\max_delay_05_min\\halns-ih\\config.yaml\n",
      "12:04:02 [INFO] Loading instance config from C:\\Google Drive\\AIC Experiment Data\\DARP\\ITSC_instance_paper\\Instances\\DC\\instances\\start_18-00\\duration_030_min\\max_delay_05_min\\config.yaml\n",
      "12:04:02 [INFO] Loading json file from: C:\\Google Drive\\AIC Experiment Data\\DARP\\ITSC_instance_paper\\Results\\DC\\start_18-00\\duration_030_min\\max_delay_05_min\\ih\\config.yaml-performance.json\n",
      "12:04:02 [INFO] Loading json file from: C:\\Google Drive\\AIC Experiment Data\\DARP\\ITSC_instance_paper\\Results\\DC\\start_18-00\\duration_030_min\\max_delay_05_min\\ih\\config.yaml-solution.json\n",
      "12:04:02 [INFO] Loading experiment config from C:\\Google Drive\\AIC Experiment Data\\DARP\\ITSC_instance_paper\\Results\\DC\\start_18-00\\duration_030_min\\max_delay_05_min\\ih\\config.yaml\n",
      "12:04:02 [INFO] Loading instance config from C:\\Google Drive\\AIC Experiment Data\\DARP\\ITSC_instance_paper\\Instances\\DC\\instances\\start_18-00\\duration_030_min\\max_delay_05_min\\config.yaml\n",
      "12:04:02 [WARNING] No solution found in folder: C:\\Google Drive\\AIC Experiment Data\\DARP\\ITSC_instance_paper\\Results\\DC\\start_18-00\\duration_030_min\\max_delay_05_min\\vga\n",
      "12:04:02 [WARNING] No solution found in folder: C:\\Google Drive\\AIC Experiment Data\\DARP\\ITSC_instance_paper\\Results\\DC\\start_18-00\\duration_030_min\\max_delay_10_min\\halns\n",
      "12:04:02 [INFO] Loading json file from: C:\\Google Drive\\AIC Experiment Data\\DARP\\ITSC_instance_paper\\Results\\DC\\start_18-00\\duration_030_min\\max_delay_10_min\\halns-ih\\config.yaml-performance.json\n",
      "12:04:02 [INFO] Loading json file from: C:\\Google Drive\\AIC Experiment Data\\DARP\\ITSC_instance_paper\\Results\\DC\\start_18-00\\duration_030_min\\max_delay_10_min\\halns-ih\\config.yaml-solution.json\n",
      "12:04:02 [INFO] Loading experiment config from C:\\Google Drive\\AIC Experiment Data\\DARP\\ITSC_instance_paper\\Results\\DC\\start_18-00\\duration_030_min\\max_delay_10_min\\halns-ih\\config.yaml\n",
      "12:04:02 [INFO] Loading instance config from C:\\Google Drive\\AIC Experiment Data\\DARP\\ITSC_instance_paper\\Instances\\DC\\instances\\start_18-00\\duration_030_min\\max_delay_10_min\\config.yaml\n",
      "12:04:02 [INFO] Loading json file from: C:\\Google Drive\\AIC Experiment Data\\DARP\\ITSC_instance_paper\\Results\\DC\\start_18-00\\duration_030_min\\max_delay_10_min\\ih\\config.yaml-performance.json\n",
      "12:04:02 [INFO] Loading json file from: C:\\Google Drive\\AIC Experiment Data\\DARP\\ITSC_instance_paper\\Results\\DC\\start_18-00\\duration_030_min\\max_delay_10_min\\ih\\config.yaml-solution.json\n",
      "12:04:02 [INFO] Loading experiment config from C:\\Google Drive\\AIC Experiment Data\\DARP\\ITSC_instance_paper\\Results\\DC\\start_18-00\\duration_030_min\\max_delay_10_min\\ih\\config.yaml\n",
      "12:04:02 [INFO] Loading instance config from C:\\Google Drive\\AIC Experiment Data\\DARP\\ITSC_instance_paper\\Instances\\DC\\instances\\start_18-00\\duration_030_min\\max_delay_10_min\\config.yaml\n",
      "12:04:02 [WARNING] No solution found in folder: C:\\Google Drive\\AIC Experiment Data\\DARP\\ITSC_instance_paper\\Results\\DC\\start_18-00\\duration_030_min\\max_delay_10_min\\vga\n",
      "12:04:02 [WARNING] No solution found in folder: C:\\Google Drive\\AIC Experiment Data\\DARP\\ITSC_instance_paper\\Results\\DC\\start_18-00\\duration_120_min\\max_delay_03_min\\halns\n",
      "12:04:02 [INFO] Loading json file from: C:\\Google Drive\\AIC Experiment Data\\DARP\\ITSC_instance_paper\\Results\\DC\\start_18-00\\duration_120_min\\max_delay_03_min\\halns-ih\\config.yaml-performance.json\n",
      "12:04:02 [INFO] Loading json file from: C:\\Google Drive\\AIC Experiment Data\\DARP\\ITSC_instance_paper\\Results\\DC\\start_18-00\\duration_120_min\\max_delay_03_min\\halns-ih\\config.yaml-solution.json\n",
      "12:04:02 [INFO] Loading experiment config from C:\\Google Drive\\AIC Experiment Data\\DARP\\ITSC_instance_paper\\Results\\DC\\start_18-00\\duration_120_min\\max_delay_03_min\\halns-ih\\config.yaml\n",
      "12:04:02 [INFO] Loading instance config from C:\\Google Drive\\AIC Experiment Data\\DARP\\ITSC_instance_paper\\Instances\\DC\\instances\\start_18-00\\duration_120_min\\max_delay_03_min\\config.yaml\n",
      "12:04:02 [INFO] Loading json file from: C:\\Google Drive\\AIC Experiment Data\\DARP\\ITSC_instance_paper\\Results\\DC\\start_18-00\\duration_120_min\\max_delay_03_min\\ih\\config.yaml-performance.json\n",
      "12:04:02 [INFO] Loading json file from: C:\\Google Drive\\AIC Experiment Data\\DARP\\ITSC_instance_paper\\Results\\DC\\start_18-00\\duration_120_min\\max_delay_03_min\\ih\\config.yaml-solution.json\n",
      "12:04:02 [INFO] Loading experiment config from C:\\Google Drive\\AIC Experiment Data\\DARP\\ITSC_instance_paper\\Results\\DC\\start_18-00\\duration_120_min\\max_delay_03_min\\ih\\config.yaml\n",
      "12:04:02 [INFO] Loading instance config from C:\\Google Drive\\AIC Experiment Data\\DARP\\ITSC_instance_paper\\Instances\\DC\\instances\\start_18-00\\duration_120_min\\max_delay_03_min\\config.yaml\n",
      "12:04:02 [WARNING] No solution found in folder: C:\\Google Drive\\AIC Experiment Data\\DARP\\ITSC_instance_paper\\Results\\DC\\start_18-00\\duration_120_min\\max_delay_03_min\\vga\n",
      "12:04:02 [WARNING] No solution found in folder: C:\\Google Drive\\AIC Experiment Data\\DARP\\ITSC_instance_paper\\Results\\DC\\start_18-00\\duration_120_min\\max_delay_05_min\\halns\n",
      "12:04:02 [INFO] Loading json file from: C:\\Google Drive\\AIC Experiment Data\\DARP\\ITSC_instance_paper\\Results\\DC\\start_18-00\\duration_120_min\\max_delay_05_min\\halns-ih\\config.yaml-performance.json\n",
      "12:04:02 [INFO] Loading json file from: C:\\Google Drive\\AIC Experiment Data\\DARP\\ITSC_instance_paper\\Results\\DC\\start_18-00\\duration_120_min\\max_delay_05_min\\halns-ih\\config.yaml-solution.json\n",
      "12:04:02 [INFO] Loading experiment config from C:\\Google Drive\\AIC Experiment Data\\DARP\\ITSC_instance_paper\\Results\\DC\\start_18-00\\duration_120_min\\max_delay_05_min\\halns-ih\\config.yaml\n",
      "12:04:02 [INFO] Loading instance config from C:\\Google Drive\\AIC Experiment Data\\DARP\\ITSC_instance_paper\\Instances\\DC\\instances\\start_18-00\\duration_120_min\\max_delay_05_min\\config.yaml\n",
      "12:04:02 [INFO] Loading json file from: C:\\Google Drive\\AIC Experiment Data\\DARP\\ITSC_instance_paper\\Results\\DC\\start_18-00\\duration_120_min\\max_delay_05_min\\ih\\config.yaml-performance.json\n",
      "12:04:02 [INFO] Loading json file from: C:\\Google Drive\\AIC Experiment Data\\DARP\\ITSC_instance_paper\\Results\\DC\\start_18-00\\duration_120_min\\max_delay_05_min\\ih\\config.yaml-solution.json\n",
      "12:04:02 [INFO] Loading experiment config from C:\\Google Drive\\AIC Experiment Data\\DARP\\ITSC_instance_paper\\Results\\DC\\start_18-00\\duration_120_min\\max_delay_05_min\\ih\\config.yaml\n",
      "12:04:02 [INFO] Loading instance config from C:\\Google Drive\\AIC Experiment Data\\DARP\\ITSC_instance_paper\\Instances\\DC\\instances\\start_18-00\\duration_120_min\\max_delay_05_min\\config.yaml\n",
      "12:04:02 [WARNING] No solution found in folder: C:\\Google Drive\\AIC Experiment Data\\DARP\\ITSC_instance_paper\\Results\\DC\\start_18-00\\duration_120_min\\max_delay_05_min\\vga\n",
      "12:04:02 [WARNING] No solution found in folder: C:\\Google Drive\\AIC Experiment Data\\DARP\\ITSC_instance_paper\\Results\\DC\\start_18-00\\duration_120_min\\max_delay_10_min\\halns\n",
      "12:04:02 [WARNING] No solution found in folder: C:\\Google Drive\\AIC Experiment Data\\DARP\\ITSC_instance_paper\\Results\\DC\\start_18-00\\duration_120_min\\max_delay_10_min\\halns-ih\n",
      "12:04:02 [INFO] Loading json file from: C:\\Google Drive\\AIC Experiment Data\\DARP\\ITSC_instance_paper\\Results\\DC\\start_18-00\\duration_120_min\\max_delay_10_min\\ih\\config.yaml-performance.json\n",
      "12:04:02 [INFO] Loading json file from: C:\\Google Drive\\AIC Experiment Data\\DARP\\ITSC_instance_paper\\Results\\DC\\start_18-00\\duration_120_min\\max_delay_10_min\\ih\\config.yaml-solution.json\n",
      "12:04:02 [INFO] Loading experiment config from C:\\Google Drive\\AIC Experiment Data\\DARP\\ITSC_instance_paper\\Results\\DC\\start_18-00\\duration_120_min\\max_delay_10_min\\ih\\config.yaml\n",
      "12:04:02 [INFO] Loading instance config from C:\\Google Drive\\AIC Experiment Data\\DARP\\ITSC_instance_paper\\Instances\\DC\\instances\\start_18-00\\duration_120_min\\max_delay_10_min\\config.yaml\n",
      "12:04:02 [WARNING] No solution found in folder: C:\\Google Drive\\AIC Experiment Data\\DARP\\ITSC_instance_paper\\Results\\DC\\start_18-00\\duration_120_min\\max_delay_10_min\\vga\n",
      "12:04:02 [WARNING] No solution found in folder: C:\\Google Drive\\AIC Experiment Data\\DARP\\ITSC_instance_paper\\Results\\DC\\start_18-00\\duration_960_min\\max_delay_03_min\\halns\n",
      "12:04:02 [INFO] Loading json file from: C:\\Google Drive\\AIC Experiment Data\\DARP\\ITSC_instance_paper\\Results\\DC\\start_18-00\\duration_960_min\\max_delay_03_min\\halns-ih\\config.yaml-performance.json\n",
      "12:04:02 [INFO] Loading json file from: C:\\Google Drive\\AIC Experiment Data\\DARP\\ITSC_instance_paper\\Results\\DC\\start_18-00\\duration_960_min\\max_delay_03_min\\halns-ih\\config.yaml-solution.json\n",
      "12:04:02 [INFO] Loading experiment config from C:\\Google Drive\\AIC Experiment Data\\DARP\\ITSC_instance_paper\\Results\\DC\\start_18-00\\duration_960_min\\max_delay_03_min\\halns-ih\\config.yaml\n",
      "12:04:02 [INFO] Loading instance config from C:\\Google Drive\\AIC Experiment Data\\DARP\\ITSC_instance_paper\\Instances\\DC\\instances\\start_18-00\\duration_960_min\\max_delay_03_min\\config.yaml\n",
      "12:04:02 [INFO] Loading json file from: C:\\Google Drive\\AIC Experiment Data\\DARP\\ITSC_instance_paper\\Results\\DC\\start_18-00\\duration_960_min\\max_delay_03_min\\ih\\config.yaml-performance.json\n",
      "12:04:02 [INFO] Loading json file from: C:\\Google Drive\\AIC Experiment Data\\DARP\\ITSC_instance_paper\\Results\\DC\\start_18-00\\duration_960_min\\max_delay_03_min\\ih\\config.yaml-solution.json\n",
      "12:04:03 [INFO] Loading experiment config from C:\\Google Drive\\AIC Experiment Data\\DARP\\ITSC_instance_paper\\Results\\DC\\start_18-00\\duration_960_min\\max_delay_03_min\\ih\\config.yaml\n",
      "12:04:03 [INFO] Loading instance config from C:\\Google Drive\\AIC Experiment Data\\DARP\\ITSC_instance_paper\\Instances\\DC\\instances\\start_18-00\\duration_960_min\\max_delay_03_min\\config.yaml\n",
      "12:04:03 [WARNING] No solution found in folder: C:\\Google Drive\\AIC Experiment Data\\DARP\\ITSC_instance_paper\\Results\\DC\\start_18-00\\duration_960_min\\max_delay_03_min\\vga\n",
      "12:04:03 [WARNING] No solution found in folder: C:\\Google Drive\\AIC Experiment Data\\DARP\\ITSC_instance_paper\\Results\\DC\\start_18-00\\duration_960_min\\max_delay_05_min\\halns\n",
      "12:04:03 [WARNING] No solution found in folder: C:\\Google Drive\\AIC Experiment Data\\DARP\\ITSC_instance_paper\\Results\\DC\\start_18-00\\duration_960_min\\max_delay_05_min\\halns-ih\n",
      "12:04:03 [INFO] Loading json file from: C:\\Google Drive\\AIC Experiment Data\\DARP\\ITSC_instance_paper\\Results\\DC\\start_18-00\\duration_960_min\\max_delay_05_min\\ih\\config.yaml-performance.json\n",
      "12:04:03 [INFO] Loading json file from: C:\\Google Drive\\AIC Experiment Data\\DARP\\ITSC_instance_paper\\Results\\DC\\start_18-00\\duration_960_min\\max_delay_05_min\\ih\\config.yaml-solution.json\n",
      "12:04:03 [INFO] Loading experiment config from C:\\Google Drive\\AIC Experiment Data\\DARP\\ITSC_instance_paper\\Results\\DC\\start_18-00\\duration_960_min\\max_delay_05_min\\ih\\config.yaml\n",
      "12:04:03 [INFO] Loading instance config from C:\\Google Drive\\AIC Experiment Data\\DARP\\ITSC_instance_paper\\Instances\\DC\\instances\\start_18-00\\duration_960_min\\max_delay_05_min\\config.yaml\n",
      "12:04:03 [WARNING] No solution found in folder: C:\\Google Drive\\AIC Experiment Data\\DARP\\ITSC_instance_paper\\Results\\DC\\start_18-00\\duration_960_min\\max_delay_05_min\\vga\n",
      "12:04:03 [WARNING] No solution found in folder: C:\\Google Drive\\AIC Experiment Data\\DARP\\ITSC_instance_paper\\Results\\DC\\start_18-00\\duration_960_min\\max_delay_10_min\\halns\n",
      "12:04:03 [WARNING] No solution found in folder: C:\\Google Drive\\AIC Experiment Data\\DARP\\ITSC_instance_paper\\Results\\DC\\start_18-00\\duration_960_min\\max_delay_10_min\\halns-ih\n",
      "12:04:03 [INFO] Loading json file from: C:\\Google Drive\\AIC Experiment Data\\DARP\\ITSC_instance_paper\\Results\\DC\\start_18-00\\duration_960_min\\max_delay_10_min\\ih\\config.yaml-performance.json\n",
      "12:04:03 [INFO] Loading json file from: C:\\Google Drive\\AIC Experiment Data\\DARP\\ITSC_instance_paper\\Results\\DC\\start_18-00\\duration_960_min\\max_delay_10_min\\ih\\config.yaml-solution.json\n",
      "12:04:03 [INFO] Loading experiment config from C:\\Google Drive\\AIC Experiment Data\\DARP\\ITSC_instance_paper\\Results\\DC\\start_18-00\\duration_960_min\\max_delay_10_min\\ih\\config.yaml\n",
      "12:04:03 [INFO] Loading instance config from C:\\Google Drive\\AIC Experiment Data\\DARP\\ITSC_instance_paper\\Instances\\DC\\instances\\start_18-00\\duration_960_min\\max_delay_10_min\\config.yaml\n",
      "12:04:03 [WARNING] No solution found in folder: C:\\Google Drive\\AIC Experiment Data\\DARP\\ITSC_instance_paper\\Results\\DC\\start_18-00\\duration_960_min\\max_delay_10_min\\vga\n"
     ]
    },
    {
     "data": {
      "text/plain": "     cost_minutes  total_time  dropped_requests   avg_delay  plan_count   \n0           31291       4.939                 0  649.588303        2040  \\\n1           31291       4.939                 0  649.588303        2040   \n2           31291       4.939                 0  649.588303        2040   \n3           31291       4.939                 0  649.588303        2040   \n4           31291       4.939                 0  649.588303        2040   \n..            ...         ...               ...         ...         ...   \n370         13015       2.075                 0  505.841978         604   \n371         13015       2.075                 0  505.841978         604   \n372         13015       2.075                 0  505.841978         604   \n373         13015       2.075                 0  505.841978         604   \n374         13015       2.075                 0  505.841978         604   \n\n     req_count  avg_occupancy  used_connections  total_driving_duration   \n0         3488       1.203135                -1                 1877450  \\\n1         3488       1.203135                -1                 1877450   \n2         3488       1.203135                -1                 1877450   \n3         3488       1.203135                -1                 1877450   \n4         3488       1.203135                -1                 1877450   \n..         ...            ...               ...                     ...   \n370       3297       2.039316                -1                  780871   \n371       3297       2.039316                -1                  780871   \n372       3297       2.039316                -1                  780871   \n373       3297       2.039316                -1                  780871   \n374       3297       2.039316                -1                  780871   \n\n     total_waiting_duration  ...  tts_cost  tts_cost_per_plan  method   \n0                      6606  ...    130288          63.866667      ih  \\\n1                      6606  ...    130288          63.866667      ih   \n2                      6606  ...    130288          63.866667      ih   \n3                      6606  ...    130288          63.866667      ih   \n4                      6606  ...    130288          63.866667      ih   \n..                      ...  ...       ...                ...     ...   \n370                 1112067  ...      8056          13.337748      ih   \n371                 1112067  ...      8056          13.337748      ih   \n372                 1112067  ...      8056          13.337748      ih   \n373                 1112067  ...      8056          13.337748      ih   \n374                 1112067  ...      8056          13.337748      ih   \n\n    max_delay          start_time            end_time duration_minutes   \n0         180 2022-04-05 18:00:00 2022-04-05 18:05:00                5  \\\n1         180 2022-04-05 18:00:00 2022-04-05 18:05:00                5   \n2         180 2022-04-05 18:00:00 2022-04-05 18:05:00                5   \n3         180 2022-04-05 18:00:00 2022-04-05 18:05:00                5   \n4         180 2022-04-05 18:00:00 2022-04-05 18:05:00                5   \n..        ...                 ...                 ...              ...   \n370       600 2022-04-05 18:00:00 2022-04-06 10:00:00              960   \n371       600 2022-04-05 18:00:00 2022-04-06 10:00:00              960   \n372       600 2022-04-05 18:00:00 2022-04-06 10:00:00              960   \n373       600 2022-04-05 18:00:00 2022-04-06 10:00:00              960   \n374       600 2022-04-05 18:00:00 2022-04-06 10:00:00              960   \n\n     occupancy  vehicle_hours  area  \n0            0      36.615833   NYC  \n1            1     361.187500   NYC  \n2            2     107.265556   NYC  \n3            3      14.047222   NYC  \n4            4       2.397778   NYC  \n..         ...            ...   ...  \n370          0       3.978056    DC  \n371          1      82.753056    DC  \n372          2      58.227222    DC  \n373          3      44.663333    DC  \n374          4      27.286944    DC  \n\n[375 rows x 21 columns]",
      "text/html": "<div>\n<style scoped>\n    .dataframe tbody tr th:only-of-type {\n        vertical-align: middle;\n    }\n\n    .dataframe tbody tr th {\n        vertical-align: top;\n    }\n\n    .dataframe thead th {\n        text-align: right;\n    }\n</style>\n<table border=\"1\" class=\"dataframe\">\n  <thead>\n    <tr style=\"text-align: right;\">\n      <th></th>\n      <th>cost_minutes</th>\n      <th>total_time</th>\n      <th>dropped_requests</th>\n      <th>avg_delay</th>\n      <th>plan_count</th>\n      <th>req_count</th>\n      <th>avg_occupancy</th>\n      <th>used_connections</th>\n      <th>total_driving_duration</th>\n      <th>total_waiting_duration</th>\n      <th>...</th>\n      <th>tts_cost</th>\n      <th>tts_cost_per_plan</th>\n      <th>method</th>\n      <th>max_delay</th>\n      <th>start_time</th>\n      <th>end_time</th>\n      <th>duration_minutes</th>\n      <th>occupancy</th>\n      <th>vehicle_hours</th>\n      <th>area</th>\n    </tr>\n  </thead>\n  <tbody>\n    <tr>\n      <th>0</th>\n      <td>31291</td>\n      <td>4.939</td>\n      <td>0</td>\n      <td>649.588303</td>\n      <td>2040</td>\n      <td>3488</td>\n      <td>1.203135</td>\n      <td>-1</td>\n      <td>1877450</td>\n      <td>6606</td>\n      <td>...</td>\n      <td>130288</td>\n      <td>63.866667</td>\n      <td>ih</td>\n      <td>180</td>\n      <td>2022-04-05 18:00:00</td>\n      <td>2022-04-05 18:05:00</td>\n      <td>5</td>\n      <td>0</td>\n      <td>36.615833</td>\n      <td>NYC</td>\n    </tr>\n    <tr>\n      <th>1</th>\n      <td>31291</td>\n      <td>4.939</td>\n      <td>0</td>\n      <td>649.588303</td>\n      <td>2040</td>\n      <td>3488</td>\n      <td>1.203135</td>\n      <td>-1</td>\n      <td>1877450</td>\n      <td>6606</td>\n      <td>...</td>\n      <td>130288</td>\n      <td>63.866667</td>\n      <td>ih</td>\n      <td>180</td>\n      <td>2022-04-05 18:00:00</td>\n      <td>2022-04-05 18:05:00</td>\n      <td>5</td>\n      <td>1</td>\n      <td>361.187500</td>\n      <td>NYC</td>\n    </tr>\n    <tr>\n      <th>2</th>\n      <td>31291</td>\n      <td>4.939</td>\n      <td>0</td>\n      <td>649.588303</td>\n      <td>2040</td>\n      <td>3488</td>\n      <td>1.203135</td>\n      <td>-1</td>\n      <td>1877450</td>\n      <td>6606</td>\n      <td>...</td>\n      <td>130288</td>\n      <td>63.866667</td>\n      <td>ih</td>\n      <td>180</td>\n      <td>2022-04-05 18:00:00</td>\n      <td>2022-04-05 18:05:00</td>\n      <td>5</td>\n      <td>2</td>\n      <td>107.265556</td>\n      <td>NYC</td>\n    </tr>\n    <tr>\n      <th>3</th>\n      <td>31291</td>\n      <td>4.939</td>\n      <td>0</td>\n      <td>649.588303</td>\n      <td>2040</td>\n      <td>3488</td>\n      <td>1.203135</td>\n      <td>-1</td>\n      <td>1877450</td>\n      <td>6606</td>\n      <td>...</td>\n      <td>130288</td>\n      <td>63.866667</td>\n      <td>ih</td>\n      <td>180</td>\n      <td>2022-04-05 18:00:00</td>\n      <td>2022-04-05 18:05:00</td>\n      <td>5</td>\n      <td>3</td>\n      <td>14.047222</td>\n      <td>NYC</td>\n    </tr>\n    <tr>\n      <th>4</th>\n      <td>31291</td>\n      <td>4.939</td>\n      <td>0</td>\n      <td>649.588303</td>\n      <td>2040</td>\n      <td>3488</td>\n      <td>1.203135</td>\n      <td>-1</td>\n      <td>1877450</td>\n      <td>6606</td>\n      <td>...</td>\n      <td>130288</td>\n      <td>63.866667</td>\n      <td>ih</td>\n      <td>180</td>\n      <td>2022-04-05 18:00:00</td>\n      <td>2022-04-05 18:05:00</td>\n      <td>5</td>\n      <td>4</td>\n      <td>2.397778</td>\n      <td>NYC</td>\n    </tr>\n    <tr>\n      <th>...</th>\n      <td>...</td>\n      <td>...</td>\n      <td>...</td>\n      <td>...</td>\n      <td>...</td>\n      <td>...</td>\n      <td>...</td>\n      <td>...</td>\n      <td>...</td>\n      <td>...</td>\n      <td>...</td>\n      <td>...</td>\n      <td>...</td>\n      <td>...</td>\n      <td>...</td>\n      <td>...</td>\n      <td>...</td>\n      <td>...</td>\n      <td>...</td>\n      <td>...</td>\n      <td>...</td>\n    </tr>\n    <tr>\n      <th>370</th>\n      <td>13015</td>\n      <td>2.075</td>\n      <td>0</td>\n      <td>505.841978</td>\n      <td>604</td>\n      <td>3297</td>\n      <td>2.039316</td>\n      <td>-1</td>\n      <td>780871</td>\n      <td>1112067</td>\n      <td>...</td>\n      <td>8056</td>\n      <td>13.337748</td>\n      <td>ih</td>\n      <td>600</td>\n      <td>2022-04-05 18:00:00</td>\n      <td>2022-04-06 10:00:00</td>\n      <td>960</td>\n      <td>0</td>\n      <td>3.978056</td>\n      <td>DC</td>\n    </tr>\n    <tr>\n      <th>371</th>\n      <td>13015</td>\n      <td>2.075</td>\n      <td>0</td>\n      <td>505.841978</td>\n      <td>604</td>\n      <td>3297</td>\n      <td>2.039316</td>\n      <td>-1</td>\n      <td>780871</td>\n      <td>1112067</td>\n      <td>...</td>\n      <td>8056</td>\n      <td>13.337748</td>\n      <td>ih</td>\n      <td>600</td>\n      <td>2022-04-05 18:00:00</td>\n      <td>2022-04-06 10:00:00</td>\n      <td>960</td>\n      <td>1</td>\n      <td>82.753056</td>\n      <td>DC</td>\n    </tr>\n    <tr>\n      <th>372</th>\n      <td>13015</td>\n      <td>2.075</td>\n      <td>0</td>\n      <td>505.841978</td>\n      <td>604</td>\n      <td>3297</td>\n      <td>2.039316</td>\n      <td>-1</td>\n      <td>780871</td>\n      <td>1112067</td>\n      <td>...</td>\n      <td>8056</td>\n      <td>13.337748</td>\n      <td>ih</td>\n      <td>600</td>\n      <td>2022-04-05 18:00:00</td>\n      <td>2022-04-06 10:00:00</td>\n      <td>960</td>\n      <td>2</td>\n      <td>58.227222</td>\n      <td>DC</td>\n    </tr>\n    <tr>\n      <th>373</th>\n      <td>13015</td>\n      <td>2.075</td>\n      <td>0</td>\n      <td>505.841978</td>\n      <td>604</td>\n      <td>3297</td>\n      <td>2.039316</td>\n      <td>-1</td>\n      <td>780871</td>\n      <td>1112067</td>\n      <td>...</td>\n      <td>8056</td>\n      <td>13.337748</td>\n      <td>ih</td>\n      <td>600</td>\n      <td>2022-04-05 18:00:00</td>\n      <td>2022-04-06 10:00:00</td>\n      <td>960</td>\n      <td>3</td>\n      <td>44.663333</td>\n      <td>DC</td>\n    </tr>\n    <tr>\n      <th>374</th>\n      <td>13015</td>\n      <td>2.075</td>\n      <td>0</td>\n      <td>505.841978</td>\n      <td>604</td>\n      <td>3297</td>\n      <td>2.039316</td>\n      <td>-1</td>\n      <td>780871</td>\n      <td>1112067</td>\n      <td>...</td>\n      <td>8056</td>\n      <td>13.337748</td>\n      <td>ih</td>\n      <td>600</td>\n      <td>2022-04-05 18:00:00</td>\n      <td>2022-04-06 10:00:00</td>\n      <td>960</td>\n      <td>4</td>\n      <td>27.286944</td>\n      <td>DC</td>\n    </tr>\n  </tbody>\n</table>\n<p>375 rows × 21 columns</p>\n</div>"
     },
     "execution_count": 16,
     "metadata": {},
     "output_type": "execute_result"
    }
   ],
   "source": [
    "occupancy_df = pd.DataFrame()\n",
    "for area in areas:\n",
    "    occ_in_area = load_occupancies_in_dir(final_results_path / area)\n",
    "    if occ_in_area is not None:\n",
    "        occ_in_area['area'] = area\n",
    "        occupancy_df = pd.concat([occupancy_df, occ_in_area], ignore_index=True)\n",
    "occupancy_df"
   ],
   "metadata": {
    "collapsed": false,
    "ExecuteTime": {
     "end_time": "2023-05-11T10:04:03.153387Z",
     "start_time": "2023-05-11T10:03:56.325388200Z"
    }
   }
  },
  {
   "cell_type": "code",
   "execution_count": 17,
   "outputs": [
    {
     "data": {
      "text/plain": "     cost_minutes  total_time  dropped_requests   avg_delay  plan_count   \n0           31291       4.939                 0  649.588303        2040  \\\n1           31291       4.939                 0  649.588303        2040   \n2           31291       4.939                 0  649.588303        2040   \n3           31291       4.939                 0  649.588303        2040   \n4           31291       4.939                 0  649.588303        2040   \n..            ...         ...               ...         ...         ...   \n370         13015       2.075                 0  505.841978         604   \n371         13015       2.075                 0  505.841978         604   \n372         13015       2.075                 0  505.841978         604   \n373         13015       2.075                 0  505.841978         604   \n374         13015       2.075                 0  505.841978         604   \n\n     req_count  avg_occupancy  used_connections  total_driving_duration   \n0         3488       1.203135                -1                 1877450  \\\n1         3488       1.203135                -1                 1877450   \n2         3488       1.203135                -1                 1877450   \n3         3488       1.203135                -1                 1877450   \n4         3488       1.203135                -1                 1877450   \n..         ...            ...               ...                     ...   \n370       3297       2.039316                -1                  780871   \n371       3297       2.039316                -1                  780871   \n372       3297       2.039316                -1                  780871   \n373       3297       2.039316                -1                  780871   \n374       3297       2.039316                -1                  780871   \n\n     total_waiting_duration  ...  tts_cost_per_plan  method  max_delay   \n0                      6606  ...          63.866667      ih        180  \\\n1                      6606  ...          63.866667      ih        180   \n2                      6606  ...          63.866667      ih        180   \n3                      6606  ...          63.866667      ih        180   \n4                      6606  ...          63.866667      ih        180   \n..                      ...  ...                ...     ...        ...   \n370                 1112067  ...          13.337748      ih        600   \n371                 1112067  ...          13.337748      ih        600   \n372                 1112067  ...          13.337748      ih        600   \n373                 1112067  ...          13.337748      ih        600   \n374                 1112067  ...          13.337748      ih        600   \n\n             start_time            end_time duration_minutes occupancy   \n0   2022-04-05 18:00:00 2022-04-05 18:05:00                5         0  \\\n1   2022-04-05 18:00:00 2022-04-05 18:05:00                5         1   \n2   2022-04-05 18:00:00 2022-04-05 18:05:00                5         2   \n3   2022-04-05 18:00:00 2022-04-05 18:05:00                5         3   \n4   2022-04-05 18:00:00 2022-04-05 18:05:00                5         4   \n..                  ...                 ...              ...       ...   \n370 2022-04-05 18:00:00 2022-04-06 10:00:00              960         0   \n371 2022-04-05 18:00:00 2022-04-06 10:00:00              960         1   \n372 2022-04-05 18:00:00 2022-04-06 10:00:00              960         2   \n373 2022-04-05 18:00:00 2022-04-06 10:00:00              960         3   \n374 2022-04-05 18:00:00 2022-04-06 10:00:00              960         4   \n\n     vehicle_hours  area    percent  \n0        36.615833   NYC   6.996448  \n1       361.187500   NYC  69.014668  \n2       107.265556   NYC  20.495994  \n3        14.047222   NYC   2.684103  \n4         2.397778   NYC   0.458160  \n..             ...   ...        ...  \n370       3.978056    DC   0.756549  \n371      82.753056    DC  15.738022  \n372      58.227222    DC  11.073685  \n373      44.663333    DC   8.494098  \n374      27.286944    DC   5.189446  \n\n[270 rows x 22 columns]",
      "text/html": "<div>\n<style scoped>\n    .dataframe tbody tr th:only-of-type {\n        vertical-align: middle;\n    }\n\n    .dataframe tbody tr th {\n        vertical-align: top;\n    }\n\n    .dataframe thead th {\n        text-align: right;\n    }\n</style>\n<table border=\"1\" class=\"dataframe\">\n  <thead>\n    <tr style=\"text-align: right;\">\n      <th></th>\n      <th>cost_minutes</th>\n      <th>total_time</th>\n      <th>dropped_requests</th>\n      <th>avg_delay</th>\n      <th>plan_count</th>\n      <th>req_count</th>\n      <th>avg_occupancy</th>\n      <th>used_connections</th>\n      <th>total_driving_duration</th>\n      <th>total_waiting_duration</th>\n      <th>...</th>\n      <th>tts_cost_per_plan</th>\n      <th>method</th>\n      <th>max_delay</th>\n      <th>start_time</th>\n      <th>end_time</th>\n      <th>duration_minutes</th>\n      <th>occupancy</th>\n      <th>vehicle_hours</th>\n      <th>area</th>\n      <th>percent</th>\n    </tr>\n  </thead>\n  <tbody>\n    <tr>\n      <th>0</th>\n      <td>31291</td>\n      <td>4.939</td>\n      <td>0</td>\n      <td>649.588303</td>\n      <td>2040</td>\n      <td>3488</td>\n      <td>1.203135</td>\n      <td>-1</td>\n      <td>1877450</td>\n      <td>6606</td>\n      <td>...</td>\n      <td>63.866667</td>\n      <td>ih</td>\n      <td>180</td>\n      <td>2022-04-05 18:00:00</td>\n      <td>2022-04-05 18:05:00</td>\n      <td>5</td>\n      <td>0</td>\n      <td>36.615833</td>\n      <td>NYC</td>\n      <td>6.996448</td>\n    </tr>\n    <tr>\n      <th>1</th>\n      <td>31291</td>\n      <td>4.939</td>\n      <td>0</td>\n      <td>649.588303</td>\n      <td>2040</td>\n      <td>3488</td>\n      <td>1.203135</td>\n      <td>-1</td>\n      <td>1877450</td>\n      <td>6606</td>\n      <td>...</td>\n      <td>63.866667</td>\n      <td>ih</td>\n      <td>180</td>\n      <td>2022-04-05 18:00:00</td>\n      <td>2022-04-05 18:05:00</td>\n      <td>5</td>\n      <td>1</td>\n      <td>361.187500</td>\n      <td>NYC</td>\n      <td>69.014668</td>\n    </tr>\n    <tr>\n      <th>2</th>\n      <td>31291</td>\n      <td>4.939</td>\n      <td>0</td>\n      <td>649.588303</td>\n      <td>2040</td>\n      <td>3488</td>\n      <td>1.203135</td>\n      <td>-1</td>\n      <td>1877450</td>\n      <td>6606</td>\n      <td>...</td>\n      <td>63.866667</td>\n      <td>ih</td>\n      <td>180</td>\n      <td>2022-04-05 18:00:00</td>\n      <td>2022-04-05 18:05:00</td>\n      <td>5</td>\n      <td>2</td>\n      <td>107.265556</td>\n      <td>NYC</td>\n      <td>20.495994</td>\n    </tr>\n    <tr>\n      <th>3</th>\n      <td>31291</td>\n      <td>4.939</td>\n      <td>0</td>\n      <td>649.588303</td>\n      <td>2040</td>\n      <td>3488</td>\n      <td>1.203135</td>\n      <td>-1</td>\n      <td>1877450</td>\n      <td>6606</td>\n      <td>...</td>\n      <td>63.866667</td>\n      <td>ih</td>\n      <td>180</td>\n      <td>2022-04-05 18:00:00</td>\n      <td>2022-04-05 18:05:00</td>\n      <td>5</td>\n      <td>3</td>\n      <td>14.047222</td>\n      <td>NYC</td>\n      <td>2.684103</td>\n    </tr>\n    <tr>\n      <th>4</th>\n      <td>31291</td>\n      <td>4.939</td>\n      <td>0</td>\n      <td>649.588303</td>\n      <td>2040</td>\n      <td>3488</td>\n      <td>1.203135</td>\n      <td>-1</td>\n      <td>1877450</td>\n      <td>6606</td>\n      <td>...</td>\n      <td>63.866667</td>\n      <td>ih</td>\n      <td>180</td>\n      <td>2022-04-05 18:00:00</td>\n      <td>2022-04-05 18:05:00</td>\n      <td>5</td>\n      <td>4</td>\n      <td>2.397778</td>\n      <td>NYC</td>\n      <td>0.458160</td>\n    </tr>\n    <tr>\n      <th>...</th>\n      <td>...</td>\n      <td>...</td>\n      <td>...</td>\n      <td>...</td>\n      <td>...</td>\n      <td>...</td>\n      <td>...</td>\n      <td>...</td>\n      <td>...</td>\n      <td>...</td>\n      <td>...</td>\n      <td>...</td>\n      <td>...</td>\n      <td>...</td>\n      <td>...</td>\n      <td>...</td>\n      <td>...</td>\n      <td>...</td>\n      <td>...</td>\n      <td>...</td>\n      <td>...</td>\n    </tr>\n    <tr>\n      <th>370</th>\n      <td>13015</td>\n      <td>2.075</td>\n      <td>0</td>\n      <td>505.841978</td>\n      <td>604</td>\n      <td>3297</td>\n      <td>2.039316</td>\n      <td>-1</td>\n      <td>780871</td>\n      <td>1112067</td>\n      <td>...</td>\n      <td>13.337748</td>\n      <td>ih</td>\n      <td>600</td>\n      <td>2022-04-05 18:00:00</td>\n      <td>2022-04-06 10:00:00</td>\n      <td>960</td>\n      <td>0</td>\n      <td>3.978056</td>\n      <td>DC</td>\n      <td>0.756549</td>\n    </tr>\n    <tr>\n      <th>371</th>\n      <td>13015</td>\n      <td>2.075</td>\n      <td>0</td>\n      <td>505.841978</td>\n      <td>604</td>\n      <td>3297</td>\n      <td>2.039316</td>\n      <td>-1</td>\n      <td>780871</td>\n      <td>1112067</td>\n      <td>...</td>\n      <td>13.337748</td>\n      <td>ih</td>\n      <td>600</td>\n      <td>2022-04-05 18:00:00</td>\n      <td>2022-04-06 10:00:00</td>\n      <td>960</td>\n      <td>1</td>\n      <td>82.753056</td>\n      <td>DC</td>\n      <td>15.738022</td>\n    </tr>\n    <tr>\n      <th>372</th>\n      <td>13015</td>\n      <td>2.075</td>\n      <td>0</td>\n      <td>505.841978</td>\n      <td>604</td>\n      <td>3297</td>\n      <td>2.039316</td>\n      <td>-1</td>\n      <td>780871</td>\n      <td>1112067</td>\n      <td>...</td>\n      <td>13.337748</td>\n      <td>ih</td>\n      <td>600</td>\n      <td>2022-04-05 18:00:00</td>\n      <td>2022-04-06 10:00:00</td>\n      <td>960</td>\n      <td>2</td>\n      <td>58.227222</td>\n      <td>DC</td>\n      <td>11.073685</td>\n    </tr>\n    <tr>\n      <th>373</th>\n      <td>13015</td>\n      <td>2.075</td>\n      <td>0</td>\n      <td>505.841978</td>\n      <td>604</td>\n      <td>3297</td>\n      <td>2.039316</td>\n      <td>-1</td>\n      <td>780871</td>\n      <td>1112067</td>\n      <td>...</td>\n      <td>13.337748</td>\n      <td>ih</td>\n      <td>600</td>\n      <td>2022-04-05 18:00:00</td>\n      <td>2022-04-06 10:00:00</td>\n      <td>960</td>\n      <td>3</td>\n      <td>44.663333</td>\n      <td>DC</td>\n      <td>8.494098</td>\n    </tr>\n    <tr>\n      <th>374</th>\n      <td>13015</td>\n      <td>2.075</td>\n      <td>0</td>\n      <td>505.841978</td>\n      <td>604</td>\n      <td>3297</td>\n      <td>2.039316</td>\n      <td>-1</td>\n      <td>780871</td>\n      <td>1112067</td>\n      <td>...</td>\n      <td>13.337748</td>\n      <td>ih</td>\n      <td>600</td>\n      <td>2022-04-05 18:00:00</td>\n      <td>2022-04-06 10:00:00</td>\n      <td>960</td>\n      <td>4</td>\n      <td>27.286944</td>\n      <td>DC</td>\n      <td>5.189446</td>\n    </tr>\n  </tbody>\n</table>\n<p>270 rows × 22 columns</p>\n</div>"
     },
     "execution_count": 17,
     "metadata": {},
     "output_type": "execute_result"
    }
   ],
   "source": [
    "occupancy_df_ih = pd.DataFrame(occupancy_df[occupancy_df['method'] == 'ih'])\n",
    "occupancy_df_ih['percent'] = occupancy_df_ih['vehicle_hours'] * 3600 /  (occupancy_df_ih['total_driving_duration'] + occupancy_df_ih['total_waiting_duration']) * 100\n",
    "occupancy_df_ih"
   ],
   "metadata": {
    "collapsed": false,
    "ExecuteTime": {
     "end_time": "2023-05-11T10:04:14.746454700Z",
     "start_time": "2023-05-11T10:04:14.710455200Z"
    }
   }
  },
  {
   "cell_type": "code",
   "execution_count": 18,
   "outputs": [
    {
     "data": {
      "application/vnd.plotly.v1+json": {
       "data": [
        {
         "alignmentgroup": "True",
         "hovertemplate": "area=NYC<br>max_delay=180<br>duration_minutes=5<br>occupancy=%{x}<br>percent=%{y}<extra></extra>",
         "legendgroup": "NYC",
         "marker": {
          "color": "#636efa",
          "pattern": {
           "shape": ""
          }
         },
         "name": "NYC",
         "offsetgroup": "NYC",
         "orientation": "v",
         "showlegend": true,
         "textposition": "auto",
         "x": [
          0,
          1,
          2,
          3,
          4
         ],
         "xaxis": "x11",
         "y": [
          6.996448088591846,
          69.0146683538069,
          20.495993749655,
          2.6841028079844764,
          0.45816047930634757
         ],
         "yaxis": "y11",
         "type": "bar"
        },
        {
         "alignmentgroup": "True",
         "hovertemplate": "area=NYC<br>max_delay=180<br>duration_minutes=15<br>occupancy=%{x}<br>percent=%{y}<extra></extra>",
         "legendgroup": "NYC",
         "marker": {
          "color": "#636efa",
          "pattern": {
           "shape": ""
          }
         },
         "name": "NYC",
         "offsetgroup": "NYC",
         "orientation": "v",
         "showlegend": false,
         "textposition": "auto",
         "x": [
          0,
          1,
          2,
          3,
          4
         ],
         "xaxis": "x12",
         "y": [
          3.1999290458839877,
          64.09270452201599,
          25.724813291237535,
          4.959638008979057,
          0.859380937059284
         ],
         "yaxis": "y12",
         "type": "bar"
        },
        {
         "alignmentgroup": "True",
         "hovertemplate": "area=NYC<br>max_delay=180<br>duration_minutes=30<br>occupancy=%{x}<br>percent=%{y}<extra></extra>",
         "legendgroup": "NYC",
         "marker": {
          "color": "#636efa",
          "pattern": {
           "shape": ""
          }
         },
         "name": "NYC",
         "offsetgroup": "NYC",
         "orientation": "v",
         "showlegend": false,
         "textposition": "auto",
         "x": [
          0,
          1,
          2,
          3,
          4
         ],
         "xaxis": "x13",
         "y": [
          1.802740559614104,
          60.391517565550835,
          28.073842407860717,
          5.747371524837937,
          1.114132020067209
         ],
         "yaxis": "y13",
         "type": "bar"
        },
        {
         "alignmentgroup": "True",
         "hovertemplate": "area=NYC<br>max_delay=300<br>duration_minutes=5<br>occupancy=%{x}<br>percent=%{y}<extra></extra>",
         "legendgroup": "NYC",
         "marker": {
          "color": "#636efa",
          "pattern": {
           "shape": ""
          }
         },
         "name": "NYC",
         "offsetgroup": "NYC",
         "orientation": "v",
         "showlegend": false,
         "textposition": "auto",
         "x": [
          0,
          1,
          2,
          3,
          4
         ],
         "xaxis": "x6",
         "y": [
          5.909314919424907,
          59.19684137659919,
          27.035742467361178,
          6.114819151148447,
          1.4406376499477265
         ],
         "yaxis": "y6",
         "type": "bar"
        },
        {
         "alignmentgroup": "True",
         "hovertemplate": "area=NYC<br>max_delay=300<br>duration_minutes=15<br>occupancy=%{x}<br>percent=%{y}<extra></extra>",
         "legendgroup": "NYC",
         "marker": {
          "color": "#636efa",
          "pattern": {
           "shape": ""
          }
         },
         "name": "NYC",
         "offsetgroup": "NYC",
         "orientation": "v",
         "showlegend": false,
         "textposition": "auto",
         "x": [
          0,
          1,
          2,
          3,
          4
         ],
         "xaxis": "x7",
         "y": [
          2.9520081949774646,
          52.97225642794074,
          30.36472857312512,
          9.756303572347159,
          3.0335303540381835
         ],
         "yaxis": "y7",
         "type": "bar"
        },
        {
         "alignmentgroup": "True",
         "hovertemplate": "area=NYC<br>max_delay=300<br>duration_minutes=30<br>occupancy=%{x}<br>percent=%{y}<extra></extra>",
         "legendgroup": "NYC",
         "marker": {
          "color": "#636efa",
          "pattern": {
           "shape": ""
          }
         },
         "name": "NYC",
         "offsetgroup": "NYC",
         "orientation": "v",
         "showlegend": false,
         "textposition": "auto",
         "x": [
          0,
          1,
          2,
          3,
          4
         ],
         "xaxis": "x8",
         "y": [
          1.745303655442106,
          49.64037880368573,
          31.990166450162544,
          11.246143870914185,
          3.705406321022887
         ],
         "yaxis": "y8",
         "type": "bar"
        },
        {
         "alignmentgroup": "True",
         "hovertemplate": "area=NYC<br>max_delay=600<br>duration_minutes=5<br>occupancy=%{x}<br>percent=%{y}<extra></extra>",
         "legendgroup": "NYC",
         "marker": {
          "color": "#636efa",
          "pattern": {
           "shape": ""
          }
         },
         "name": "NYC",
         "offsetgroup": "NYC",
         "orientation": "v",
         "showlegend": false,
         "textposition": "auto",
         "x": [
          0,
          1,
          2,
          3,
          4
         ],
         "xaxis": "x",
         "y": [
          4.033519251691098,
          48.55388285644925,
          30.1892051465718,
          12.323899550139513,
          4.683344372548021
         ],
         "yaxis": "y",
         "type": "bar"
        },
        {
         "alignmentgroup": "True",
         "hovertemplate": "area=NYC<br>max_delay=600<br>duration_minutes=15<br>occupancy=%{x}<br>percent=%{y}<extra></extra>",
         "legendgroup": "NYC",
         "marker": {
          "color": "#636efa",
          "pattern": {
           "shape": ""
          }
         },
         "name": "NYC",
         "offsetgroup": "NYC",
         "orientation": "v",
         "showlegend": false,
         "textposition": "auto",
         "x": [
          0,
          1,
          2,
          3,
          4
         ],
         "xaxis": "x2",
         "y": [
          2.1709802605319903,
          41.388513770467014,
          30.209411432652228,
          16.849367224643945,
          8.495727389333583
         ],
         "yaxis": "y2",
         "type": "bar"
        },
        {
         "alignmentgroup": "True",
         "hovertemplate": "area=NYC<br>max_delay=600<br>duration_minutes=30<br>occupancy=%{x}<br>percent=%{y}<extra></extra>",
         "legendgroup": "NYC",
         "marker": {
          "color": "#636efa",
          "pattern": {
           "shape": ""
          }
         },
         "name": "NYC",
         "offsetgroup": "NYC",
         "orientation": "v",
         "showlegend": false,
         "textposition": "auto",
         "x": [
          0,
          1,
          2,
          3,
          4
         ],
         "xaxis": "x3",
         "y": [
          1.385361068957479,
          36.99738299169727,
          30.70861109746111,
          19.608632472156614,
          10.02272302001451
         ],
         "yaxis": "y3",
         "type": "bar"
        },
        {
         "alignmentgroup": "True",
         "hovertemplate": "area=Manhattan<br>max_delay=180<br>duration_minutes=5<br>occupancy=%{x}<br>percent=%{y}<extra></extra>",
         "legendgroup": "Manhattan",
         "marker": {
          "color": "#EF553B",
          "pattern": {
           "shape": ""
          }
         },
         "name": "Manhattan",
         "offsetgroup": "Manhattan",
         "orientation": "v",
         "showlegend": true,
         "textposition": "auto",
         "x": [
          0,
          1,
          2,
          3,
          4
         ],
         "xaxis": "x11",
         "y": [
          4.364167091274948,
          51.91574620227475,
          33.81188845612429,
          7.81048940782258,
          1.6163325935073796
         ],
         "yaxis": "y11",
         "type": "bar"
        },
        {
         "alignmentgroup": "True",
         "hovertemplate": "area=Manhattan<br>max_delay=180<br>duration_minutes=15<br>occupancy=%{x}<br>percent=%{y}<extra></extra>",
         "legendgroup": "Manhattan",
         "marker": {
          "color": "#EF553B",
          "pattern": {
           "shape": ""
          }
         },
         "name": "Manhattan",
         "offsetgroup": "Manhattan",
         "orientation": "v",
         "showlegend": false,
         "textposition": "auto",
         "x": [
          0,
          1,
          2,
          3,
          4
         ],
         "xaxis": "x12",
         "y": [
          2.1525939276116985,
          45.50024969417905,
          36.21890250235235,
          12.50417452596975,
          2.558634598844379
         ],
         "yaxis": "y12",
         "type": "bar"
        },
        {
         "alignmentgroup": "True",
         "hovertemplate": "area=Manhattan<br>max_delay=180<br>duration_minutes=30<br>occupancy=%{x}<br>percent=%{y}<extra></extra>",
         "legendgroup": "Manhattan",
         "marker": {
          "color": "#EF553B",
          "pattern": {
           "shape": ""
          }
         },
         "name": "Manhattan",
         "offsetgroup": "Manhattan",
         "orientation": "v",
         "showlegend": false,
         "textposition": "auto",
         "x": [
          0,
          1,
          2,
          3,
          4
         ],
         "xaxis": "x13",
         "y": [
          1.2514859962768865,
          41.23157077929276,
          37.727422731379015,
          13.726082308585205,
          3.3449728411484316
         ],
         "yaxis": "y13",
         "type": "bar"
        },
        {
         "alignmentgroup": "True",
         "hovertemplate": "area=Manhattan<br>max_delay=180<br>duration_minutes=120<br>occupancy=%{x}<br>percent=%{y}<extra></extra>",
         "legendgroup": "Manhattan",
         "marker": {
          "color": "#EF553B",
          "pattern": {
           "shape": ""
          }
         },
         "name": "Manhattan",
         "offsetgroup": "Manhattan",
         "orientation": "v",
         "showlegend": false,
         "textposition": "auto",
         "x": [
          0,
          1,
          2,
          3,
          4
         ],
         "xaxis": "x14",
         "y": [
          0.6612345127185824,
          31.024124075740716,
          30.819990513116792,
          10.964942939106251,
          2.3508405147136404
         ],
         "yaxis": "y14",
         "type": "bar"
        },
        {
         "alignmentgroup": "True",
         "hovertemplate": "area=Manhattan<br>max_delay=180<br>duration_minutes=960<br>occupancy=%{x}<br>percent=%{y}<extra></extra>",
         "legendgroup": "Manhattan",
         "marker": {
          "color": "#EF553B",
          "pattern": {
           "shape": ""
          }
         },
         "name": "Manhattan",
         "offsetgroup": "Manhattan",
         "orientation": "v",
         "showlegend": false,
         "textposition": "auto",
         "x": [
          0,
          1,
          2,
          3,
          4
         ],
         "xaxis": "x15",
         "y": [
          0.35442495070668334,
          17.829641090104317,
          17.142790113391563,
          5.644461180068461,
          1.1271493840834272
         ],
         "yaxis": "y15",
         "type": "bar"
        },
        {
         "alignmentgroup": "True",
         "hovertemplate": "area=Manhattan<br>max_delay=300<br>duration_minutes=5<br>occupancy=%{x}<br>percent=%{y}<extra></extra>",
         "legendgroup": "Manhattan",
         "marker": {
          "color": "#EF553B",
          "pattern": {
           "shape": ""
          }
         },
         "name": "Manhattan",
         "offsetgroup": "Manhattan",
         "orientation": "v",
         "showlegend": false,
         "textposition": "auto",
         "x": [
          0,
          1,
          2,
          3,
          4
         ],
         "xaxis": "x6",
         "y": [
          3.895503262095529,
          44.68824091795678,
          32.37472145597862,
          14.097663612051017,
          4.509899623611393
         ],
         "yaxis": "y6",
         "type": "bar"
        },
        {
         "alignmentgroup": "True",
         "hovertemplate": "area=Manhattan<br>max_delay=300<br>duration_minutes=15<br>occupancy=%{x}<br>percent=%{y}<extra></extra>",
         "legendgroup": "Manhattan",
         "marker": {
          "color": "#EF553B",
          "pattern": {
           "shape": ""
          }
         },
         "name": "Manhattan",
         "offsetgroup": "Manhattan",
         "orientation": "v",
         "showlegend": false,
         "textposition": "auto",
         "x": [
          0,
          1,
          2,
          3,
          4
         ],
         "xaxis": "x7",
         "y": [
          2.1141041080503093,
          37.29087123932755,
          31.50344542670908,
          19.941892176505213,
          8.461479265335658
         ],
         "yaxis": "y7",
         "type": "bar"
        },
        {
         "alignmentgroup": "True",
         "hovertemplate": "area=Manhattan<br>max_delay=300<br>duration_minutes=30<br>occupancy=%{x}<br>percent=%{y}<extra></extra>",
         "legendgroup": "Manhattan",
         "marker": {
          "color": "#EF553B",
          "pattern": {
           "shape": ""
          }
         },
         "name": "Manhattan",
         "offsetgroup": "Manhattan",
         "orientation": "v",
         "showlegend": false,
         "textposition": "auto",
         "x": [
          0,
          1,
          2,
          3,
          4
         ],
         "xaxis": "x8",
         "y": [
          1.1896507228867825,
          31.950305433136517,
          32.44262848327066,
          22.562100483815165,
          10.26937387624995
         ],
         "yaxis": "y8",
         "type": "bar"
        },
        {
         "alignmentgroup": "True",
         "hovertemplate": "area=Manhattan<br>max_delay=300<br>duration_minutes=120<br>occupancy=%{x}<br>percent=%{y}<extra></extra>",
         "legendgroup": "Manhattan",
         "marker": {
          "color": "#EF553B",
          "pattern": {
           "shape": ""
          }
         },
         "name": "Manhattan",
         "offsetgroup": "Manhattan",
         "orientation": "v",
         "showlegend": false,
         "textposition": "auto",
         "x": [
          0,
          1,
          2,
          3,
          4
         ],
         "xaxis": "x9",
         "y": [
          0.634238515174833,
          24.43719763848482,
          30.13471187713128,
          20.80188491426841,
          8.621285473320066
         ],
         "yaxis": "y9",
         "type": "bar"
        },
        {
         "alignmentgroup": "True",
         "hovertemplate": "area=Manhattan<br>max_delay=300<br>duration_minutes=960<br>occupancy=%{x}<br>percent=%{y}<extra></extra>",
         "legendgroup": "Manhattan",
         "marker": {
          "color": "#EF553B",
          "pattern": {
           "shape": ""
          }
         },
         "name": "Manhattan",
         "offsetgroup": "Manhattan",
         "orientation": "v",
         "showlegend": false,
         "textposition": "auto",
         "x": [
          0,
          1,
          2,
          3,
          4
         ],
         "xaxis": "x10",
         "y": [
          0.42326035859180083,
          15.785115213383492,
          19.431943423280888,
          12.32636369083752,
          4.70445537021498
         ],
         "yaxis": "y10",
         "type": "bar"
        },
        {
         "alignmentgroup": "True",
         "hovertemplate": "area=Manhattan<br>max_delay=600<br>duration_minutes=5<br>occupancy=%{x}<br>percent=%{y}<extra></extra>",
         "legendgroup": "Manhattan",
         "marker": {
          "color": "#EF553B",
          "pattern": {
           "shape": ""
          }
         },
         "name": "Manhattan",
         "offsetgroup": "Manhattan",
         "orientation": "v",
         "showlegend": false,
         "textposition": "auto",
         "x": [
          0,
          1,
          2,
          3,
          4
         ],
         "xaxis": "x",
         "y": [
          2.607239599856582,
          35.48710459181279,
          29.01377675241079,
          21.777743571067884,
          10.948566665853214
         ],
         "yaxis": "y",
         "type": "bar"
        },
        {
         "alignmentgroup": "True",
         "hovertemplate": "area=Manhattan<br>max_delay=600<br>duration_minutes=15<br>occupancy=%{x}<br>percent=%{y}<extra></extra>",
         "legendgroup": "Manhattan",
         "marker": {
          "color": "#EF553B",
          "pattern": {
           "shape": ""
          }
         },
         "name": "Manhattan",
         "offsetgroup": "Manhattan",
         "orientation": "v",
         "showlegend": false,
         "textposition": "auto",
         "x": [
          0,
          1,
          2,
          3,
          4
         ],
         "xaxis": "x2",
         "y": [
          1.4190598164294042,
          29.71822679780416,
          24.740776316437614,
          25.533635453097546,
          17.771907787793705
         ],
         "yaxis": "y2",
         "type": "bar"
        },
        {
         "alignmentgroup": "True",
         "hovertemplate": "area=Manhattan<br>max_delay=600<br>duration_minutes=30<br>occupancy=%{x}<br>percent=%{y}<extra></extra>",
         "legendgroup": "Manhattan",
         "marker": {
          "color": "#EF553B",
          "pattern": {
           "shape": ""
          }
         },
         "name": "Manhattan",
         "offsetgroup": "Manhattan",
         "orientation": "v",
         "showlegend": false,
         "textposition": "auto",
         "x": [
          0,
          1,
          2,
          3,
          4
         ],
         "xaxis": "x3",
         "y": [
          0.7511112346024825,
          22.550796882310138,
          24.889852789106858,
          28.67293168432301,
          22.118806542672985
         ],
         "yaxis": "y3",
         "type": "bar"
        },
        {
         "alignmentgroup": "True",
         "hovertemplate": "area=Manhattan<br>max_delay=600<br>duration_minutes=120<br>occupancy=%{x}<br>percent=%{y}<extra></extra>",
         "legendgroup": "Manhattan",
         "marker": {
          "color": "#EF553B",
          "pattern": {
           "shape": ""
          }
         },
         "name": "Manhattan",
         "offsetgroup": "Manhattan",
         "orientation": "v",
         "showlegend": false,
         "textposition": "auto",
         "x": [
          0,
          1,
          2,
          3,
          4
         ],
         "xaxis": "x4",
         "y": [
          0.37581639534069344,
          15.315129077586201,
          23.315438422838568,
          30.662790188381102,
          24.300973887409754
         ],
         "yaxis": "y4",
         "type": "bar"
        },
        {
         "alignmentgroup": "True",
         "hovertemplate": "area=Manhattan<br>max_delay=600<br>duration_minutes=960<br>occupancy=%{x}<br>percent=%{y}<extra></extra>",
         "legendgroup": "Manhattan",
         "marker": {
          "color": "#EF553B",
          "pattern": {
           "shape": ""
          }
         },
         "name": "Manhattan",
         "offsetgroup": "Manhattan",
         "orientation": "v",
         "showlegend": false,
         "textposition": "auto",
         "x": [
          0,
          1,
          2,
          3,
          4
         ],
         "xaxis": "x5",
         "y": [
          0.2830211653548688,
          11.545991720316055,
          18.187474316442845,
          23.758273723255467,
          17.884397185636765
         ],
         "yaxis": "y5",
         "type": "bar"
        },
        {
         "alignmentgroup": "True",
         "hovertemplate": "area=Chicago<br>max_delay=180<br>duration_minutes=5<br>occupancy=%{x}<br>percent=%{y}<extra></extra>",
         "legendgroup": "Chicago",
         "marker": {
          "color": "#00cc96",
          "pattern": {
           "shape": ""
          }
         },
         "name": "Chicago",
         "offsetgroup": "Chicago",
         "orientation": "v",
         "showlegend": true,
         "textposition": "auto",
         "x": [
          0,
          1,
          2,
          3,
          4
         ],
         "xaxis": "x11",
         "y": [
          17.488488907492673,
          68.8345392573103,
          13.166297913053878,
          0.126771512288465,
          0.0
         ],
         "yaxis": "y11",
         "type": "bar"
        },
        {
         "alignmentgroup": "True",
         "hovertemplate": "area=Chicago<br>max_delay=180<br>duration_minutes=15<br>occupancy=%{x}<br>percent=%{y}<extra></extra>",
         "legendgroup": "Chicago",
         "marker": {
          "color": "#00cc96",
          "pattern": {
           "shape": ""
          }
         },
         "name": "Chicago",
         "offsetgroup": "Chicago",
         "orientation": "v",
         "showlegend": false,
         "textposition": "auto",
         "x": [
          0,
          1,
          2,
          3,
          4
         ],
         "xaxis": "x12",
         "y": [
          8.160747752235903,
          73.96009773918819,
          15.070339003155173,
          1.7023699380826989,
          0.1119730505539345
         ],
         "yaxis": "y12",
         "type": "bar"
        },
        {
         "alignmentgroup": "True",
         "hovertemplate": "area=Chicago<br>max_delay=180<br>duration_minutes=30<br>occupancy=%{x}<br>percent=%{y}<extra></extra>",
         "legendgroup": "Chicago",
         "marker": {
          "color": "#00cc96",
          "pattern": {
           "shape": ""
          }
         },
         "name": "Chicago",
         "offsetgroup": "Chicago",
         "orientation": "v",
         "showlegend": false,
         "textposition": "auto",
         "x": [
          0,
          1,
          2,
          3,
          4
         ],
         "xaxis": "x13",
         "y": [
          4.624931900573716,
          69.40043359437179,
          20.325128520151825,
          2.530496212214627,
          0.20222446916076842
         ],
         "yaxis": "y13",
         "type": "bar"
        },
        {
         "alignmentgroup": "True",
         "hovertemplate": "area=Chicago<br>max_delay=180<br>duration_minutes=120<br>occupancy=%{x}<br>percent=%{y}<extra></extra>",
         "legendgroup": "Chicago",
         "marker": {
          "color": "#00cc96",
          "pattern": {
           "shape": ""
          }
         },
         "name": "Chicago",
         "offsetgroup": "Chicago",
         "orientation": "v",
         "showlegend": false,
         "textposition": "auto",
         "x": [
          0,
          1,
          2,
          3,
          4
         ],
         "xaxis": "x14",
         "y": [
          2.2505084704966762,
          59.35651618767189,
          20.439167214441305,
          2.3150952554788446,
          0.12974665590029222
         ],
         "yaxis": "y14",
         "type": "bar"
        },
        {
         "alignmentgroup": "True",
         "hovertemplate": "area=Chicago<br>max_delay=180<br>duration_minutes=960<br>occupancy=%{x}<br>percent=%{y}<extra></extra>",
         "legendgroup": "Chicago",
         "marker": {
          "color": "#00cc96",
          "pattern": {
           "shape": ""
          }
         },
         "name": "Chicago",
         "offsetgroup": "Chicago",
         "orientation": "v",
         "showlegend": false,
         "textposition": "auto",
         "x": [
          0,
          1,
          2,
          3,
          4
         ],
         "xaxis": "x15",
         "y": [
          11.046014198116158,
          36.00479182429087,
          10.861966694382886,
          1.0453160918998055,
          0.04047854963426346
         ],
         "yaxis": "y15",
         "type": "bar"
        },
        {
         "alignmentgroup": "True",
         "hovertemplate": "area=Chicago<br>max_delay=300<br>duration_minutes=5<br>occupancy=%{x}<br>percent=%{y}<extra></extra>",
         "legendgroup": "Chicago",
         "marker": {
          "color": "#00cc96",
          "pattern": {
           "shape": ""
          }
         },
         "name": "Chicago",
         "offsetgroup": "Chicago",
         "orientation": "v",
         "showlegend": false,
         "textposition": "auto",
         "x": [
          0,
          1,
          2,
          3,
          4
         ],
         "xaxis": "x6",
         "y": [
          9.615790436262856,
          69.90897708248336,
          12.995033834639354,
          6.7964716309562325,
          0.23494323377555182
         ],
         "yaxis": "y6",
         "type": "bar"
        },
        {
         "alignmentgroup": "True",
         "hovertemplate": "area=Chicago<br>max_delay=300<br>duration_minutes=15<br>occupancy=%{x}<br>percent=%{y}<extra></extra>",
         "legendgroup": "Chicago",
         "marker": {
          "color": "#00cc96",
          "pattern": {
           "shape": ""
          }
         },
         "name": "Chicago",
         "offsetgroup": "Chicago",
         "orientation": "v",
         "showlegend": false,
         "textposition": "auto",
         "x": [
          0,
          1,
          2,
          3,
          4
         ],
         "xaxis": "x7",
         "y": [
          6.838464013729487,
          63.138474739890604,
          20.917086774643355,
          7.430011798777218,
          0.7899817655261182
         ],
         "yaxis": "y7",
         "type": "bar"
        },
        {
         "alignmentgroup": "True",
         "hovertemplate": "area=Chicago<br>max_delay=300<br>duration_minutes=30<br>occupancy=%{x}<br>percent=%{y}<extra></extra>",
         "legendgroup": "Chicago",
         "marker": {
          "color": "#00cc96",
          "pattern": {
           "shape": ""
          }
         },
         "name": "Chicago",
         "offsetgroup": "Chicago",
         "orientation": "v",
         "showlegend": false,
         "textposition": "auto",
         "x": [
          0,
          1,
          2,
          3,
          4
         ],
         "xaxis": "x8",
         "y": [
          3.564976390884828,
          57.089406692670906,
          27.33858550605625,
          7.920344898378158,
          1.7596489427222337
         ],
         "yaxis": "y8",
         "type": "bar"
        },
        {
         "alignmentgroup": "True",
         "hovertemplate": "area=Chicago<br>max_delay=300<br>duration_minutes=120<br>occupancy=%{x}<br>percent=%{y}<extra></extra>",
         "legendgroup": "Chicago",
         "marker": {
          "color": "#00cc96",
          "pattern": {
           "shape": ""
          }
         },
         "name": "Chicago",
         "offsetgroup": "Chicago",
         "orientation": "v",
         "showlegend": false,
         "textposition": "auto",
         "x": [
          0,
          1,
          2,
          3,
          4
         ],
         "xaxis": "x9",
         "y": [
          1.7030303821885047,
          47.008835492654505,
          29.569787880808494,
          8.083104363027179,
          1.0685357334600032
         ],
         "yaxis": "y9",
         "type": "bar"
        },
        {
         "alignmentgroup": "True",
         "hovertemplate": "area=Chicago<br>max_delay=300<br>duration_minutes=960<br>occupancy=%{x}<br>percent=%{y}<extra></extra>",
         "legendgroup": "Chicago",
         "marker": {
          "color": "#00cc96",
          "pattern": {
           "shape": ""
          }
         },
         "name": "Chicago",
         "offsetgroup": "Chicago",
         "orientation": "v",
         "showlegend": false,
         "textposition": "auto",
         "x": [
          0,
          1,
          2,
          3,
          4
         ],
         "xaxis": "x10",
         "y": [
          8.2755483754319,
          29.941364296906166,
          16.992525164474443,
          3.853591547819872,
          0.4638959014684324
         ],
         "yaxis": "y10",
         "type": "bar"
        },
        {
         "alignmentgroup": "True",
         "hovertemplate": "area=Chicago<br>max_delay=600<br>duration_minutes=5<br>occupancy=%{x}<br>percent=%{y}<extra></extra>",
         "legendgroup": "Chicago",
         "marker": {
          "color": "#00cc96",
          "pattern": {
           "shape": ""
          }
         },
         "name": "Chicago",
         "offsetgroup": "Chicago",
         "orientation": "v",
         "showlegend": false,
         "textposition": "auto",
         "x": [
          0,
          1,
          2,
          3,
          4
         ],
         "xaxis": "x",
         "y": [
          7.639575195695484,
          60.30872041037225,
          20.0731014792853,
          5.531240685836196,
          5.873217563179444
         ],
         "yaxis": "y",
         "type": "bar"
        },
        {
         "alignmentgroup": "True",
         "hovertemplate": "area=Chicago<br>max_delay=600<br>duration_minutes=15<br>occupancy=%{x}<br>percent=%{y}<extra></extra>",
         "legendgroup": "Chicago",
         "marker": {
          "color": "#00cc96",
          "pattern": {
           "shape": ""
          }
         },
         "name": "Chicago",
         "offsetgroup": "Chicago",
         "orientation": "v",
         "showlegend": false,
         "textposition": "auto",
         "x": [
          0,
          1,
          2,
          3,
          4
         ],
         "xaxis": "x2",
         "y": [
          6.040742296151575,
          47.745296741955315,
          27.29015648109263,
          11.527623082026281,
          6.027352237661365
         ],
         "yaxis": "y2",
         "type": "bar"
        },
        {
         "alignmentgroup": "True",
         "hovertemplate": "area=Chicago<br>max_delay=600<br>duration_minutes=30<br>occupancy=%{x}<br>percent=%{y}<extra></extra>",
         "legendgroup": "Chicago",
         "marker": {
          "color": "#00cc96",
          "pattern": {
           "shape": ""
          }
         },
         "name": "Chicago",
         "offsetgroup": "Chicago",
         "orientation": "v",
         "showlegend": false,
         "textposition": "auto",
         "x": [
          0,
          1,
          2,
          3,
          4
         ],
         "xaxis": "x3",
         "y": [
          3.2256017720044072,
          43.847879882097104,
          26.63457600526064,
          18.094979897671358,
          5.5686622866470925
         ],
         "yaxis": "y3",
         "type": "bar"
        },
        {
         "alignmentgroup": "True",
         "hovertemplate": "area=Chicago<br>max_delay=600<br>duration_minutes=120<br>occupancy=%{x}<br>percent=%{y}<extra></extra>",
         "legendgroup": "Chicago",
         "marker": {
          "color": "#00cc96",
          "pattern": {
           "shape": ""
          }
         },
         "name": "Chicago",
         "offsetgroup": "Chicago",
         "orientation": "v",
         "showlegend": false,
         "textposition": "auto",
         "x": [
          0,
          1,
          2,
          3,
          4
         ],
         "xaxis": "x4",
         "y": [
          1.7411764705882353,
          36.639866971523595,
          25.557929744335894,
          17.354562461026813,
          9.055248389108293
         ],
         "yaxis": "y4",
         "type": "bar"
        },
        {
         "alignmentgroup": "True",
         "hovertemplate": "area=Chicago<br>max_delay=600<br>duration_minutes=960<br>occupancy=%{x}<br>percent=%{y}<extra></extra>",
         "legendgroup": "Chicago",
         "marker": {
          "color": "#00cc96",
          "pattern": {
           "shape": ""
          }
         },
         "name": "Chicago",
         "offsetgroup": "Chicago",
         "orientation": "v",
         "showlegend": false,
         "textposition": "auto",
         "x": [
          0,
          1,
          2,
          3,
          4
         ],
         "xaxis": "x5",
         "y": [
          3.7181387432505404,
          26.279555496842832,
          21.14634741532924,
          12.810769755210089,
          4.837172185916892
         ],
         "yaxis": "y5",
         "type": "bar"
        },
        {
         "alignmentgroup": "True",
         "hovertemplate": "area=DC<br>max_delay=180<br>duration_minutes=5<br>occupancy=%{x}<br>percent=%{y}<extra></extra>",
         "legendgroup": "DC",
         "marker": {
          "color": "#ab63fa",
          "pattern": {
           "shape": ""
          }
         },
         "name": "DC",
         "offsetgroup": "DC",
         "orientation": "v",
         "showlegend": true,
         "textposition": "auto",
         "x": [
          0,
          1,
          2,
          3,
          4
         ],
         "xaxis": "x11",
         "y": [
          15.65484142298748,
          63.20815397555787,
          17.841769333531246,
          1.7614170501212212,
          1.48434021077631
         ],
         "yaxis": "y11",
         "type": "bar"
        },
        {
         "alignmentgroup": "True",
         "hovertemplate": "area=DC<br>max_delay=180<br>duration_minutes=15<br>occupancy=%{x}<br>percent=%{y}<extra></extra>",
         "legendgroup": "DC",
         "marker": {
          "color": "#ab63fa",
          "pattern": {
           "shape": ""
          }
         },
         "name": "DC",
         "offsetgroup": "DC",
         "orientation": "v",
         "showlegend": false,
         "textposition": "auto",
         "x": [
          0,
          1,
          2,
          3,
          4
         ],
         "xaxis": "x12",
         "y": [
          7.790863668807995,
          62.64810849393291,
          20.735189150606708,
          6.258029978586724,
          1.3758029978586723
         ],
         "yaxis": "y12",
         "type": "bar"
        },
        {
         "alignmentgroup": "True",
         "hovertemplate": "area=DC<br>max_delay=180<br>duration_minutes=30<br>occupancy=%{x}<br>percent=%{y}<extra></extra>",
         "legendgroup": "DC",
         "marker": {
          "color": "#ab63fa",
          "pattern": {
           "shape": ""
          }
         },
         "name": "DC",
         "offsetgroup": "DC",
         "orientation": "v",
         "showlegend": false,
         "textposition": "auto",
         "x": [
          0,
          1,
          2,
          3,
          4
         ],
         "xaxis": "x13",
         "y": [
          4.502727272727273,
          60.75454545454545,
          21.18,
          6.196363636363636,
          1.0627272727272727
         ],
         "yaxis": "y13",
         "type": "bar"
        },
        {
         "alignmentgroup": "True",
         "hovertemplate": "area=DC<br>max_delay=180<br>duration_minutes=120<br>occupancy=%{x}<br>percent=%{y}<extra></extra>",
         "legendgroup": "DC",
         "marker": {
          "color": "#ab63fa",
          "pattern": {
           "shape": ""
          }
         },
         "name": "DC",
         "offsetgroup": "DC",
         "orientation": "v",
         "showlegend": false,
         "textposition": "auto",
         "x": [
          0,
          1,
          2,
          3,
          4
         ],
         "xaxis": "x14",
         "y": [
          1.4113026531762574,
          39.47448894413469,
          14.376344068247674,
          3.6459478356885353,
          0.7440001454610371
         ],
         "yaxis": "y14",
         "type": "bar"
        },
        {
         "alignmentgroup": "True",
         "hovertemplate": "area=DC<br>max_delay=180<br>duration_minutes=960<br>occupancy=%{x}<br>percent=%{y}<extra></extra>",
         "legendgroup": "DC",
         "marker": {
          "color": "#ab63fa",
          "pattern": {
           "shape": ""
          }
         },
         "name": "DC",
         "offsetgroup": "DC",
         "orientation": "v",
         "showlegend": false,
         "textposition": "auto",
         "x": [
          0,
          1,
          2,
          3,
          4
         ],
         "xaxis": "x15",
         "y": [
          0.7059803814276937,
          15.461409186900871,
          6.245036033117311,
          1.7440115462005135,
          0.30902556178831747
         ],
         "yaxis": "y15",
         "type": "bar"
        },
        {
         "alignmentgroup": "True",
         "hovertemplate": "area=DC<br>max_delay=300<br>duration_minutes=5<br>occupancy=%{x}<br>percent=%{y}<extra></extra>",
         "legendgroup": "DC",
         "marker": {
          "color": "#ab63fa",
          "pattern": {
           "shape": ""
          }
         },
         "name": "DC",
         "offsetgroup": "DC",
         "orientation": "v",
         "showlegend": false,
         "textposition": "auto",
         "x": [
          0,
          1,
          2,
          3,
          4
         ],
         "xaxis": "x6",
         "y": [
          11.988056730529982,
          67.80791241602388,
          13.172430952973377,
          5.36451853694949,
          1.632246827569047
         ],
         "yaxis": "y6",
         "type": "bar"
        },
        {
         "alignmentgroup": "True",
         "hovertemplate": "area=DC<br>max_delay=300<br>duration_minutes=15<br>occupancy=%{x}<br>percent=%{y}<extra></extra>",
         "legendgroup": "DC",
         "marker": {
          "color": "#ab63fa",
          "pattern": {
           "shape": ""
          }
         },
         "name": "DC",
         "offsetgroup": "DC",
         "orientation": "v",
         "showlegend": false,
         "textposition": "auto",
         "x": [
          0,
          1,
          2,
          3,
          4
         ],
         "xaxis": "x7",
         "y": [
          4.87539053985323,
          57.674562232071494,
          23.129041633364817,
          7.572840223788418,
          3.162464578943544
         ],
         "yaxis": "y7",
         "type": "bar"
        },
        {
         "alignmentgroup": "True",
         "hovertemplate": "area=DC<br>max_delay=300<br>duration_minutes=30<br>occupancy=%{x}<br>percent=%{y}<extra></extra>",
         "legendgroup": "DC",
         "marker": {
          "color": "#ab63fa",
          "pattern": {
           "shape": ""
          }
         },
         "name": "DC",
         "offsetgroup": "DC",
         "orientation": "v",
         "showlegend": false,
         "textposition": "auto",
         "x": [
          0,
          1,
          2,
          3,
          4
         ],
         "xaxis": "x8",
         "y": [
          4.073109615290129,
          54.34677934456836,
          24.63322360339999,
          9.369626099346535,
          3.5169262516582327
         ],
         "yaxis": "y8",
         "type": "bar"
        },
        {
         "alignmentgroup": "True",
         "hovertemplate": "area=DC<br>max_delay=300<br>duration_minutes=120<br>occupancy=%{x}<br>percent=%{y}<extra></extra>",
         "legendgroup": "DC",
         "marker": {
          "color": "#ab63fa",
          "pattern": {
           "shape": ""
          }
         },
         "name": "DC",
         "offsetgroup": "DC",
         "orientation": "v",
         "showlegend": false,
         "textposition": "auto",
         "x": [
          0,
          1,
          2,
          3,
          4
         ],
         "xaxis": "x9",
         "y": [
          1.3724242875400967,
          35.97151513862491,
          18.348682391475425,
          6.852840461960567,
          2.4861413763300315
         ],
         "yaxis": "y9",
         "type": "bar"
        },
        {
         "alignmentgroup": "True",
         "hovertemplate": "area=DC<br>max_delay=300<br>duration_minutes=960<br>occupancy=%{x}<br>percent=%{y}<extra></extra>",
         "legendgroup": "DC",
         "marker": {
          "color": "#ab63fa",
          "pattern": {
           "shape": ""
          }
         },
         "name": "DC",
         "offsetgroup": "DC",
         "orientation": "v",
         "showlegend": false,
         "textposition": "auto",
         "x": [
          0,
          1,
          2,
          3,
          4
         ],
         "xaxis": "x10",
         "y": [
          0.813400143898518,
          16.643972655508684,
          9.08288652730318,
          3.815197177566772,
          1.4164232201047433
         ],
         "yaxis": "y10",
         "type": "bar"
        },
        {
         "alignmentgroup": "True",
         "hovertemplate": "area=DC<br>max_delay=600<br>duration_minutes=5<br>occupancy=%{x}<br>percent=%{y}<extra></extra>",
         "legendgroup": "DC",
         "marker": {
          "color": "#ab63fa",
          "pattern": {
           "shape": ""
          }
         },
         "name": "DC",
         "offsetgroup": "DC",
         "orientation": "v",
         "showlegend": false,
         "textposition": "auto",
         "x": [
          0,
          1,
          2,
          3,
          4
         ],
         "xaxis": "x",
         "y": [
          10.002693239967682,
          52.588203608941555,
          20.856450309722597,
          11.18233234581201,
          4.643145704282252
         ],
         "yaxis": "y",
         "type": "bar"
        },
        {
         "alignmentgroup": "True",
         "hovertemplate": "area=DC<br>max_delay=600<br>duration_minutes=15<br>occupancy=%{x}<br>percent=%{y}<extra></extra>",
         "legendgroup": "DC",
         "marker": {
          "color": "#ab63fa",
          "pattern": {
           "shape": ""
          }
         },
         "name": "DC",
         "offsetgroup": "DC",
         "orientation": "v",
         "showlegend": false,
         "textposition": "auto",
         "x": [
          0,
          1,
          2,
          3,
          4
         ],
         "xaxis": "x2",
         "y": [
          4.326494201605709,
          40.801638147757686,
          22.344092125537262,
          18.378477009163895,
          11.142648609196334
         ],
         "yaxis": "y2",
         "type": "bar"
        },
        {
         "alignmentgroup": "True",
         "hovertemplate": "area=DC<br>max_delay=600<br>duration_minutes=30<br>occupancy=%{x}<br>percent=%{y}<extra></extra>",
         "legendgroup": "DC",
         "marker": {
          "color": "#ab63fa",
          "pattern": {
           "shape": ""
          }
         },
         "name": "DC",
         "offsetgroup": "DC",
         "orientation": "v",
         "showlegend": false,
         "textposition": "auto",
         "x": [
          0,
          1,
          2,
          3,
          4
         ],
         "xaxis": "x3",
         "y": [
          2.198828884615802,
          37.622353311823055,
          23.359297765320644,
          18.87581614140295,
          10.813805690447479
         ],
         "yaxis": "y3",
         "type": "bar"
        },
        {
         "alignmentgroup": "True",
         "hovertemplate": "area=DC<br>max_delay=600<br>duration_minutes=120<br>occupancy=%{x}<br>percent=%{y}<extra></extra>",
         "legendgroup": "DC",
         "marker": {
          "color": "#ab63fa",
          "pattern": {
           "shape": ""
          }
         },
         "name": "DC",
         "offsetgroup": "DC",
         "orientation": "v",
         "showlegend": false,
         "textposition": "auto",
         "x": [
          0,
          1,
          2,
          3,
          4
         ],
         "xaxis": "x4",
         "y": [
          1.5364983586649208,
          31.06392668070815,
          19.284975617160967,
          13.722462571867705,
          8.622701656515057
         ],
         "yaxis": "y4",
         "type": "bar"
        },
        {
         "alignmentgroup": "True",
         "hovertemplate": "area=DC<br>max_delay=600<br>duration_minutes=960<br>occupancy=%{x}<br>percent=%{y}<extra></extra>",
         "legendgroup": "DC",
         "marker": {
          "color": "#ab63fa",
          "pattern": {
           "shape": ""
          }
         },
         "name": "DC",
         "offsetgroup": "DC",
         "orientation": "v",
         "showlegend": false,
         "textposition": "auto",
         "x": [
          0,
          1,
          2,
          3,
          4
         ],
         "xaxis": "x5",
         "y": [
          0.7565488145940332,
          15.738022058831296,
          11.073685456153344,
          8.494097535154348,
          5.18944624705088
         ],
         "yaxis": "y5",
         "type": "bar"
        }
       ],
       "layout": {
        "template": {
         "data": {
          "histogram2dcontour": [
           {
            "type": "histogram2dcontour",
            "colorbar": {
             "outlinewidth": 0,
             "ticks": ""
            },
            "colorscale": [
             [
              0.0,
              "#0d0887"
             ],
             [
              0.1111111111111111,
              "#46039f"
             ],
             [
              0.2222222222222222,
              "#7201a8"
             ],
             [
              0.3333333333333333,
              "#9c179e"
             ],
             [
              0.4444444444444444,
              "#bd3786"
             ],
             [
              0.5555555555555556,
              "#d8576b"
             ],
             [
              0.6666666666666666,
              "#ed7953"
             ],
             [
              0.7777777777777778,
              "#fb9f3a"
             ],
             [
              0.8888888888888888,
              "#fdca26"
             ],
             [
              1.0,
              "#f0f921"
             ]
            ]
           }
          ],
          "choropleth": [
           {
            "type": "choropleth",
            "colorbar": {
             "outlinewidth": 0,
             "ticks": ""
            }
           }
          ],
          "histogram2d": [
           {
            "type": "histogram2d",
            "colorbar": {
             "outlinewidth": 0,
             "ticks": ""
            },
            "colorscale": [
             [
              0.0,
              "#0d0887"
             ],
             [
              0.1111111111111111,
              "#46039f"
             ],
             [
              0.2222222222222222,
              "#7201a8"
             ],
             [
              0.3333333333333333,
              "#9c179e"
             ],
             [
              0.4444444444444444,
              "#bd3786"
             ],
             [
              0.5555555555555556,
              "#d8576b"
             ],
             [
              0.6666666666666666,
              "#ed7953"
             ],
             [
              0.7777777777777778,
              "#fb9f3a"
             ],
             [
              0.8888888888888888,
              "#fdca26"
             ],
             [
              1.0,
              "#f0f921"
             ]
            ]
           }
          ],
          "heatmap": [
           {
            "type": "heatmap",
            "colorbar": {
             "outlinewidth": 0,
             "ticks": ""
            },
            "colorscale": [
             [
              0.0,
              "#0d0887"
             ],
             [
              0.1111111111111111,
              "#46039f"
             ],
             [
              0.2222222222222222,
              "#7201a8"
             ],
             [
              0.3333333333333333,
              "#9c179e"
             ],
             [
              0.4444444444444444,
              "#bd3786"
             ],
             [
              0.5555555555555556,
              "#d8576b"
             ],
             [
              0.6666666666666666,
              "#ed7953"
             ],
             [
              0.7777777777777778,
              "#fb9f3a"
             ],
             [
              0.8888888888888888,
              "#fdca26"
             ],
             [
              1.0,
              "#f0f921"
             ]
            ]
           }
          ],
          "heatmapgl": [
           {
            "type": "heatmapgl",
            "colorbar": {
             "outlinewidth": 0,
             "ticks": ""
            },
            "colorscale": [
             [
              0.0,
              "#0d0887"
             ],
             [
              0.1111111111111111,
              "#46039f"
             ],
             [
              0.2222222222222222,
              "#7201a8"
             ],
             [
              0.3333333333333333,
              "#9c179e"
             ],
             [
              0.4444444444444444,
              "#bd3786"
             ],
             [
              0.5555555555555556,
              "#d8576b"
             ],
             [
              0.6666666666666666,
              "#ed7953"
             ],
             [
              0.7777777777777778,
              "#fb9f3a"
             ],
             [
              0.8888888888888888,
              "#fdca26"
             ],
             [
              1.0,
              "#f0f921"
             ]
            ]
           }
          ],
          "contourcarpet": [
           {
            "type": "contourcarpet",
            "colorbar": {
             "outlinewidth": 0,
             "ticks": ""
            }
           }
          ],
          "contour": [
           {
            "type": "contour",
            "colorbar": {
             "outlinewidth": 0,
             "ticks": ""
            },
            "colorscale": [
             [
              0.0,
              "#0d0887"
             ],
             [
              0.1111111111111111,
              "#46039f"
             ],
             [
              0.2222222222222222,
              "#7201a8"
             ],
             [
              0.3333333333333333,
              "#9c179e"
             ],
             [
              0.4444444444444444,
              "#bd3786"
             ],
             [
              0.5555555555555556,
              "#d8576b"
             ],
             [
              0.6666666666666666,
              "#ed7953"
             ],
             [
              0.7777777777777778,
              "#fb9f3a"
             ],
             [
              0.8888888888888888,
              "#fdca26"
             ],
             [
              1.0,
              "#f0f921"
             ]
            ]
           }
          ],
          "surface": [
           {
            "type": "surface",
            "colorbar": {
             "outlinewidth": 0,
             "ticks": ""
            },
            "colorscale": [
             [
              0.0,
              "#0d0887"
             ],
             [
              0.1111111111111111,
              "#46039f"
             ],
             [
              0.2222222222222222,
              "#7201a8"
             ],
             [
              0.3333333333333333,
              "#9c179e"
             ],
             [
              0.4444444444444444,
              "#bd3786"
             ],
             [
              0.5555555555555556,
              "#d8576b"
             ],
             [
              0.6666666666666666,
              "#ed7953"
             ],
             [
              0.7777777777777778,
              "#fb9f3a"
             ],
             [
              0.8888888888888888,
              "#fdca26"
             ],
             [
              1.0,
              "#f0f921"
             ]
            ]
           }
          ],
          "mesh3d": [
           {
            "type": "mesh3d",
            "colorbar": {
             "outlinewidth": 0,
             "ticks": ""
            }
           }
          ],
          "scatter": [
           {
            "fillpattern": {
             "fillmode": "overlay",
             "size": 10,
             "solidity": 0.2
            },
            "type": "scatter"
           }
          ],
          "parcoords": [
           {
            "type": "parcoords",
            "line": {
             "colorbar": {
              "outlinewidth": 0,
              "ticks": ""
             }
            }
           }
          ],
          "scatterpolargl": [
           {
            "type": "scatterpolargl",
            "marker": {
             "colorbar": {
              "outlinewidth": 0,
              "ticks": ""
             }
            }
           }
          ],
          "bar": [
           {
            "error_x": {
             "color": "#2a3f5f"
            },
            "error_y": {
             "color": "#2a3f5f"
            },
            "marker": {
             "line": {
              "color": "#E5ECF6",
              "width": 0.5
             },
             "pattern": {
              "fillmode": "overlay",
              "size": 10,
              "solidity": 0.2
             }
            },
            "type": "bar"
           }
          ],
          "scattergeo": [
           {
            "type": "scattergeo",
            "marker": {
             "colorbar": {
              "outlinewidth": 0,
              "ticks": ""
             }
            }
           }
          ],
          "scatterpolar": [
           {
            "type": "scatterpolar",
            "marker": {
             "colorbar": {
              "outlinewidth": 0,
              "ticks": ""
             }
            }
           }
          ],
          "histogram": [
           {
            "marker": {
             "pattern": {
              "fillmode": "overlay",
              "size": 10,
              "solidity": 0.2
             }
            },
            "type": "histogram"
           }
          ],
          "scattergl": [
           {
            "type": "scattergl",
            "marker": {
             "colorbar": {
              "outlinewidth": 0,
              "ticks": ""
             }
            }
           }
          ],
          "scatter3d": [
           {
            "type": "scatter3d",
            "line": {
             "colorbar": {
              "outlinewidth": 0,
              "ticks": ""
             }
            },
            "marker": {
             "colorbar": {
              "outlinewidth": 0,
              "ticks": ""
             }
            }
           }
          ],
          "scattermapbox": [
           {
            "type": "scattermapbox",
            "marker": {
             "colorbar": {
              "outlinewidth": 0,
              "ticks": ""
             }
            }
           }
          ],
          "scatterternary": [
           {
            "type": "scatterternary",
            "marker": {
             "colorbar": {
              "outlinewidth": 0,
              "ticks": ""
             }
            }
           }
          ],
          "scattercarpet": [
           {
            "type": "scattercarpet",
            "marker": {
             "colorbar": {
              "outlinewidth": 0,
              "ticks": ""
             }
            }
           }
          ],
          "carpet": [
           {
            "aaxis": {
             "endlinecolor": "#2a3f5f",
             "gridcolor": "white",
             "linecolor": "white",
             "minorgridcolor": "white",
             "startlinecolor": "#2a3f5f"
            },
            "baxis": {
             "endlinecolor": "#2a3f5f",
             "gridcolor": "white",
             "linecolor": "white",
             "minorgridcolor": "white",
             "startlinecolor": "#2a3f5f"
            },
            "type": "carpet"
           }
          ],
          "table": [
           {
            "cells": {
             "fill": {
              "color": "#EBF0F8"
             },
             "line": {
              "color": "white"
             }
            },
            "header": {
             "fill": {
              "color": "#C8D4E3"
             },
             "line": {
              "color": "white"
             }
            },
            "type": "table"
           }
          ],
          "barpolar": [
           {
            "marker": {
             "line": {
              "color": "#E5ECF6",
              "width": 0.5
             },
             "pattern": {
              "fillmode": "overlay",
              "size": 10,
              "solidity": 0.2
             }
            },
            "type": "barpolar"
           }
          ],
          "pie": [
           {
            "automargin": true,
            "type": "pie"
           }
          ]
         },
         "layout": {
          "autotypenumbers": "strict",
          "colorway": [
           "#636efa",
           "#EF553B",
           "#00cc96",
           "#ab63fa",
           "#FFA15A",
           "#19d3f3",
           "#FF6692",
           "#B6E880",
           "#FF97FF",
           "#FECB52"
          ],
          "font": {
           "color": "#2a3f5f"
          },
          "hovermode": "closest",
          "hoverlabel": {
           "align": "left"
          },
          "paper_bgcolor": "white",
          "plot_bgcolor": "#E5ECF6",
          "polar": {
           "bgcolor": "#E5ECF6",
           "angularaxis": {
            "gridcolor": "white",
            "linecolor": "white",
            "ticks": ""
           },
           "radialaxis": {
            "gridcolor": "white",
            "linecolor": "white",
            "ticks": ""
           }
          },
          "ternary": {
           "bgcolor": "#E5ECF6",
           "aaxis": {
            "gridcolor": "white",
            "linecolor": "white",
            "ticks": ""
           },
           "baxis": {
            "gridcolor": "white",
            "linecolor": "white",
            "ticks": ""
           },
           "caxis": {
            "gridcolor": "white",
            "linecolor": "white",
            "ticks": ""
           }
          },
          "coloraxis": {
           "colorbar": {
            "outlinewidth": 0,
            "ticks": ""
           }
          },
          "colorscale": {
           "sequential": [
            [
             0.0,
             "#0d0887"
            ],
            [
             0.1111111111111111,
             "#46039f"
            ],
            [
             0.2222222222222222,
             "#7201a8"
            ],
            [
             0.3333333333333333,
             "#9c179e"
            ],
            [
             0.4444444444444444,
             "#bd3786"
            ],
            [
             0.5555555555555556,
             "#d8576b"
            ],
            [
             0.6666666666666666,
             "#ed7953"
            ],
            [
             0.7777777777777778,
             "#fb9f3a"
            ],
            [
             0.8888888888888888,
             "#fdca26"
            ],
            [
             1.0,
             "#f0f921"
            ]
           ],
           "sequentialminus": [
            [
             0.0,
             "#0d0887"
            ],
            [
             0.1111111111111111,
             "#46039f"
            ],
            [
             0.2222222222222222,
             "#7201a8"
            ],
            [
             0.3333333333333333,
             "#9c179e"
            ],
            [
             0.4444444444444444,
             "#bd3786"
            ],
            [
             0.5555555555555556,
             "#d8576b"
            ],
            [
             0.6666666666666666,
             "#ed7953"
            ],
            [
             0.7777777777777778,
             "#fb9f3a"
            ],
            [
             0.8888888888888888,
             "#fdca26"
            ],
            [
             1.0,
             "#f0f921"
            ]
           ],
           "diverging": [
            [
             0,
             "#8e0152"
            ],
            [
             0.1,
             "#c51b7d"
            ],
            [
             0.2,
             "#de77ae"
            ],
            [
             0.3,
             "#f1b6da"
            ],
            [
             0.4,
             "#fde0ef"
            ],
            [
             0.5,
             "#f7f7f7"
            ],
            [
             0.6,
             "#e6f5d0"
            ],
            [
             0.7,
             "#b8e186"
            ],
            [
             0.8,
             "#7fbc41"
            ],
            [
             0.9,
             "#4d9221"
            ],
            [
             1,
             "#276419"
            ]
           ]
          },
          "xaxis": {
           "gridcolor": "white",
           "linecolor": "white",
           "ticks": "",
           "title": {
            "standoff": 15
           },
           "zerolinecolor": "white",
           "automargin": true,
           "zerolinewidth": 2
          },
          "yaxis": {
           "gridcolor": "white",
           "linecolor": "white",
           "ticks": "",
           "title": {
            "standoff": 15
           },
           "zerolinecolor": "white",
           "automargin": true,
           "zerolinewidth": 2
          },
          "scene": {
           "xaxis": {
            "backgroundcolor": "#E5ECF6",
            "gridcolor": "white",
            "linecolor": "white",
            "showbackground": true,
            "ticks": "",
            "zerolinecolor": "white",
            "gridwidth": 2
           },
           "yaxis": {
            "backgroundcolor": "#E5ECF6",
            "gridcolor": "white",
            "linecolor": "white",
            "showbackground": true,
            "ticks": "",
            "zerolinecolor": "white",
            "gridwidth": 2
           },
           "zaxis": {
            "backgroundcolor": "#E5ECF6",
            "gridcolor": "white",
            "linecolor": "white",
            "showbackground": true,
            "ticks": "",
            "zerolinecolor": "white",
            "gridwidth": 2
           }
          },
          "shapedefaults": {
           "line": {
            "color": "#2a3f5f"
           }
          },
          "annotationdefaults": {
           "arrowcolor": "#2a3f5f",
           "arrowhead": 0,
           "arrowwidth": 1
          },
          "geo": {
           "bgcolor": "white",
           "landcolor": "#E5ECF6",
           "subunitcolor": "white",
           "showland": true,
           "showlakes": true,
           "lakecolor": "white"
          },
          "title": {
           "x": 0.05
          },
          "mapbox": {
           "style": "light"
          }
         }
        },
        "xaxis": {
         "anchor": "y",
         "domain": [
          0.0,
          0.18000000000000002
         ],
         "title": {
          "text": ""
         },
         "dtick": 1
        },
        "yaxis": {
         "anchor": "x",
         "domain": [
          0.0,
          0.3133333333333333
         ],
         "title": {
          "text": ""
         }
        },
        "xaxis2": {
         "anchor": "y2",
         "domain": [
          0.2,
          0.38
         ],
         "matches": "x",
         "title": {
          "text": ""
         },
         "dtick": 1
        },
        "yaxis2": {
         "anchor": "x2",
         "domain": [
          0.0,
          0.3133333333333333
         ],
         "matches": "y",
         "showticklabels": false,
         "title": {
          "text": ""
         }
        },
        "xaxis3": {
         "anchor": "y3",
         "domain": [
          0.4,
          0.5800000000000001
         ],
         "matches": "x",
         "title": {
          "text": ""
         },
         "dtick": 1
        },
        "yaxis3": {
         "anchor": "x3",
         "domain": [
          0.0,
          0.3133333333333333
         ],
         "matches": "y",
         "showticklabels": false,
         "title": {
          "text": ""
         }
        },
        "xaxis4": {
         "anchor": "y4",
         "domain": [
          0.6000000000000001,
          0.7800000000000001
         ],
         "matches": "x",
         "title": {
          "text": ""
         },
         "dtick": 1
        },
        "yaxis4": {
         "anchor": "x4",
         "domain": [
          0.0,
          0.3133333333333333
         ],
         "matches": "y",
         "showticklabels": false,
         "title": {
          "text": ""
         }
        },
        "xaxis5": {
         "anchor": "y5",
         "domain": [
          0.8,
          0.9800000000000001
         ],
         "matches": "x",
         "title": {
          "text": ""
         },
         "dtick": 1
        },
        "yaxis5": {
         "anchor": "x5",
         "domain": [
          0.0,
          0.3133333333333333
         ],
         "matches": "y",
         "showticklabels": false,
         "title": {
          "text": ""
         }
        },
        "xaxis6": {
         "anchor": "y6",
         "domain": [
          0.0,
          0.18000000000000002
         ],
         "matches": "x",
         "showticklabels": false,
         "title": {
          "text": ""
         },
         "dtick": 1
        },
        "yaxis6": {
         "anchor": "x6",
         "domain": [
          0.34333333333333327,
          0.6566666666666665
         ],
         "matches": "y",
         "title": {
          "text": ""
         }
        },
        "xaxis7": {
         "anchor": "y7",
         "domain": [
          0.2,
          0.38
         ],
         "matches": "x",
         "showticklabels": false,
         "title": {
          "text": ""
         },
         "dtick": 1
        },
        "yaxis7": {
         "anchor": "x7",
         "domain": [
          0.34333333333333327,
          0.6566666666666665
         ],
         "matches": "y",
         "showticklabels": false,
         "title": {
          "text": ""
         }
        },
        "xaxis8": {
         "anchor": "y8",
         "domain": [
          0.4,
          0.5800000000000001
         ],
         "matches": "x",
         "showticklabels": false,
         "title": {
          "text": ""
         },
         "dtick": 1
        },
        "yaxis8": {
         "anchor": "x8",
         "domain": [
          0.34333333333333327,
          0.6566666666666665
         ],
         "matches": "y",
         "showticklabels": false,
         "title": {
          "text": ""
         }
        },
        "xaxis9": {
         "anchor": "y9",
         "domain": [
          0.6000000000000001,
          0.7800000000000001
         ],
         "matches": "x",
         "showticklabels": false,
         "title": {
          "text": ""
         },
         "dtick": 1
        },
        "yaxis9": {
         "anchor": "x9",
         "domain": [
          0.34333333333333327,
          0.6566666666666665
         ],
         "matches": "y",
         "showticklabels": false,
         "title": {
          "text": ""
         }
        },
        "xaxis10": {
         "anchor": "y10",
         "domain": [
          0.8,
          0.9800000000000001
         ],
         "matches": "x",
         "showticklabels": false,
         "title": {
          "text": ""
         },
         "dtick": 1
        },
        "yaxis10": {
         "anchor": "x10",
         "domain": [
          0.34333333333333327,
          0.6566666666666665
         ],
         "matches": "y",
         "showticklabels": false,
         "title": {
          "text": ""
         }
        },
        "xaxis11": {
         "anchor": "y11",
         "domain": [
          0.0,
          0.18000000000000002
         ],
         "matches": "x",
         "showticklabels": false,
         "title": {
          "text": ""
         },
         "dtick": 1
        },
        "yaxis11": {
         "anchor": "x11",
         "domain": [
          0.6866666666666665,
          0.9999999999999998
         ],
         "matches": "y",
         "title": {
          "text": ""
         }
        },
        "xaxis12": {
         "anchor": "y12",
         "domain": [
          0.2,
          0.38
         ],
         "matches": "x",
         "showticklabels": false,
         "title": {
          "text": ""
         },
         "dtick": 1
        },
        "yaxis12": {
         "anchor": "x12",
         "domain": [
          0.6866666666666665,
          0.9999999999999998
         ],
         "matches": "y",
         "showticklabels": false,
         "title": {
          "text": ""
         }
        },
        "xaxis13": {
         "anchor": "y13",
         "domain": [
          0.4,
          0.5800000000000001
         ],
         "matches": "x",
         "showticklabels": false,
         "title": {
          "text": ""
         },
         "dtick": 1
        },
        "yaxis13": {
         "anchor": "x13",
         "domain": [
          0.6866666666666665,
          0.9999999999999998
         ],
         "matches": "y",
         "showticklabels": false,
         "title": {
          "text": ""
         }
        },
        "xaxis14": {
         "anchor": "y14",
         "domain": [
          0.6000000000000001,
          0.7800000000000001
         ],
         "matches": "x",
         "showticklabels": false,
         "title": {
          "text": ""
         },
         "dtick": 1
        },
        "yaxis14": {
         "anchor": "x14",
         "domain": [
          0.6866666666666665,
          0.9999999999999998
         ],
         "matches": "y",
         "showticklabels": false,
         "title": {
          "text": ""
         }
        },
        "xaxis15": {
         "anchor": "y15",
         "domain": [
          0.8,
          0.9800000000000001
         ],
         "matches": "x",
         "showticklabels": false,
         "title": {
          "text": ""
         },
         "dtick": 1
        },
        "yaxis15": {
         "anchor": "x15",
         "domain": [
          0.6866666666666665,
          0.9999999999999998
         ],
         "matches": "y",
         "showticklabels": false,
         "title": {
          "text": ""
         }
        },
        "annotations": [
         {
          "showarrow": false,
          "text": "5",
          "x": 0.09000000000000001,
          "xanchor": "center",
          "xref": "paper",
          "y": 0.9999999999999998,
          "yanchor": "bottom",
          "yref": "paper"
         },
         {
          "showarrow": false,
          "text": "15",
          "x": 0.29000000000000004,
          "xanchor": "center",
          "xref": "paper",
          "y": 0.9999999999999998,
          "yanchor": "bottom",
          "yref": "paper"
         },
         {
          "showarrow": false,
          "text": "30",
          "x": 0.49000000000000005,
          "xanchor": "center",
          "xref": "paper",
          "y": 0.9999999999999998,
          "yanchor": "bottom",
          "yref": "paper"
         },
         {
          "showarrow": false,
          "text": "120",
          "x": 0.6900000000000002,
          "xanchor": "center",
          "xref": "paper",
          "y": 0.9999999999999998,
          "yanchor": "bottom",
          "yref": "paper"
         },
         {
          "showarrow": false,
          "text": "960",
          "x": 0.8900000000000001,
          "xanchor": "center",
          "xref": "paper",
          "y": 0.9999999999999998,
          "yanchor": "bottom",
          "yref": "paper"
         },
         {
          "showarrow": false,
          "text": "600",
          "textangle": 90,
          "x": 0.9800000000000001,
          "xanchor": "left",
          "xref": "paper",
          "y": 0.15666666666666665,
          "yanchor": "middle",
          "yref": "paper"
         },
         {
          "showarrow": false,
          "text": "300",
          "textangle": 90,
          "x": 0.9800000000000001,
          "xanchor": "left",
          "xref": "paper",
          "y": 0.4999999999999999,
          "yanchor": "middle",
          "yref": "paper"
         },
         {
          "showarrow": false,
          "text": "180",
          "textangle": 90,
          "x": 0.9800000000000001,
          "xanchor": "left",
          "xref": "paper",
          "y": 0.8433333333333332,
          "yanchor": "middle",
          "yref": "paper"
         },
         {
          "showarrow": false,
          "text": "% of time",
          "textangle": -90,
          "x": -0.04,
          "xref": "paper",
          "y": 0.5,
          "yref": "paper"
         },
         {
          "showarrow": false,
          "text": "Occupancy",
          "x": 0.5,
          "xref": "paper",
          "y": -0.1,
          "yref": "paper"
         }
        ],
        "legend": {
         "title": {
          "text": "area"
         },
         "tracegroupgap": 0
        },
        "margin": {
         "t": 30,
         "l": 10,
         "r": 10,
         "b": 10
        },
        "barmode": "group"
       },
       "config": {
        "plotlyServerURL": "https://plot.ly"
       }
      },
      "text/html": "<div>                            <div id=\"919a507c-2261-4d3f-9136-1b3006cc7a95\" class=\"plotly-graph-div\" style=\"height:525px; width:100%;\"></div>            <script type=\"text/javascript\">                require([\"plotly\"], function(Plotly) {                    window.PLOTLYENV=window.PLOTLYENV || {};                                    if (document.getElementById(\"919a507c-2261-4d3f-9136-1b3006cc7a95\")) {                    Plotly.newPlot(                        \"919a507c-2261-4d3f-9136-1b3006cc7a95\",                        [{\"alignmentgroup\":\"True\",\"hovertemplate\":\"area=NYC<br>max_delay=180<br>duration_minutes=5<br>occupancy=%{x}<br>percent=%{y}<extra></extra>\",\"legendgroup\":\"NYC\",\"marker\":{\"color\":\"#636efa\",\"pattern\":{\"shape\":\"\"}},\"name\":\"NYC\",\"offsetgroup\":\"NYC\",\"orientation\":\"v\",\"showlegend\":true,\"textposition\":\"auto\",\"x\":[0,1,2,3,4],\"xaxis\":\"x11\",\"y\":[6.996448088591846,69.0146683538069,20.495993749655,2.6841028079844764,0.45816047930634757],\"yaxis\":\"y11\",\"type\":\"bar\"},{\"alignmentgroup\":\"True\",\"hovertemplate\":\"area=NYC<br>max_delay=180<br>duration_minutes=15<br>occupancy=%{x}<br>percent=%{y}<extra></extra>\",\"legendgroup\":\"NYC\",\"marker\":{\"color\":\"#636efa\",\"pattern\":{\"shape\":\"\"}},\"name\":\"NYC\",\"offsetgroup\":\"NYC\",\"orientation\":\"v\",\"showlegend\":false,\"textposition\":\"auto\",\"x\":[0,1,2,3,4],\"xaxis\":\"x12\",\"y\":[3.1999290458839877,64.09270452201599,25.724813291237535,4.959638008979057,0.859380937059284],\"yaxis\":\"y12\",\"type\":\"bar\"},{\"alignmentgroup\":\"True\",\"hovertemplate\":\"area=NYC<br>max_delay=180<br>duration_minutes=30<br>occupancy=%{x}<br>percent=%{y}<extra></extra>\",\"legendgroup\":\"NYC\",\"marker\":{\"color\":\"#636efa\",\"pattern\":{\"shape\":\"\"}},\"name\":\"NYC\",\"offsetgroup\":\"NYC\",\"orientation\":\"v\",\"showlegend\":false,\"textposition\":\"auto\",\"x\":[0,1,2,3,4],\"xaxis\":\"x13\",\"y\":[1.802740559614104,60.391517565550835,28.073842407860717,5.747371524837937,1.114132020067209],\"yaxis\":\"y13\",\"type\":\"bar\"},{\"alignmentgroup\":\"True\",\"hovertemplate\":\"area=NYC<br>max_delay=300<br>duration_minutes=5<br>occupancy=%{x}<br>percent=%{y}<extra></extra>\",\"legendgroup\":\"NYC\",\"marker\":{\"color\":\"#636efa\",\"pattern\":{\"shape\":\"\"}},\"name\":\"NYC\",\"offsetgroup\":\"NYC\",\"orientation\":\"v\",\"showlegend\":false,\"textposition\":\"auto\",\"x\":[0,1,2,3,4],\"xaxis\":\"x6\",\"y\":[5.909314919424907,59.19684137659919,27.035742467361178,6.114819151148447,1.4406376499477265],\"yaxis\":\"y6\",\"type\":\"bar\"},{\"alignmentgroup\":\"True\",\"hovertemplate\":\"area=NYC<br>max_delay=300<br>duration_minutes=15<br>occupancy=%{x}<br>percent=%{y}<extra></extra>\",\"legendgroup\":\"NYC\",\"marker\":{\"color\":\"#636efa\",\"pattern\":{\"shape\":\"\"}},\"name\":\"NYC\",\"offsetgroup\":\"NYC\",\"orientation\":\"v\",\"showlegend\":false,\"textposition\":\"auto\",\"x\":[0,1,2,3,4],\"xaxis\":\"x7\",\"y\":[2.9520081949774646,52.97225642794074,30.36472857312512,9.756303572347159,3.0335303540381835],\"yaxis\":\"y7\",\"type\":\"bar\"},{\"alignmentgroup\":\"True\",\"hovertemplate\":\"area=NYC<br>max_delay=300<br>duration_minutes=30<br>occupancy=%{x}<br>percent=%{y}<extra></extra>\",\"legendgroup\":\"NYC\",\"marker\":{\"color\":\"#636efa\",\"pattern\":{\"shape\":\"\"}},\"name\":\"NYC\",\"offsetgroup\":\"NYC\",\"orientation\":\"v\",\"showlegend\":false,\"textposition\":\"auto\",\"x\":[0,1,2,3,4],\"xaxis\":\"x8\",\"y\":[1.745303655442106,49.64037880368573,31.990166450162544,11.246143870914185,3.705406321022887],\"yaxis\":\"y8\",\"type\":\"bar\"},{\"alignmentgroup\":\"True\",\"hovertemplate\":\"area=NYC<br>max_delay=600<br>duration_minutes=5<br>occupancy=%{x}<br>percent=%{y}<extra></extra>\",\"legendgroup\":\"NYC\",\"marker\":{\"color\":\"#636efa\",\"pattern\":{\"shape\":\"\"}},\"name\":\"NYC\",\"offsetgroup\":\"NYC\",\"orientation\":\"v\",\"showlegend\":false,\"textposition\":\"auto\",\"x\":[0,1,2,3,4],\"xaxis\":\"x\",\"y\":[4.033519251691098,48.55388285644925,30.1892051465718,12.323899550139513,4.683344372548021],\"yaxis\":\"y\",\"type\":\"bar\"},{\"alignmentgroup\":\"True\",\"hovertemplate\":\"area=NYC<br>max_delay=600<br>duration_minutes=15<br>occupancy=%{x}<br>percent=%{y}<extra></extra>\",\"legendgroup\":\"NYC\",\"marker\":{\"color\":\"#636efa\",\"pattern\":{\"shape\":\"\"}},\"name\":\"NYC\",\"offsetgroup\":\"NYC\",\"orientation\":\"v\",\"showlegend\":false,\"textposition\":\"auto\",\"x\":[0,1,2,3,4],\"xaxis\":\"x2\",\"y\":[2.1709802605319903,41.388513770467014,30.209411432652228,16.849367224643945,8.495727389333583],\"yaxis\":\"y2\",\"type\":\"bar\"},{\"alignmentgroup\":\"True\",\"hovertemplate\":\"area=NYC<br>max_delay=600<br>duration_minutes=30<br>occupancy=%{x}<br>percent=%{y}<extra></extra>\",\"legendgroup\":\"NYC\",\"marker\":{\"color\":\"#636efa\",\"pattern\":{\"shape\":\"\"}},\"name\":\"NYC\",\"offsetgroup\":\"NYC\",\"orientation\":\"v\",\"showlegend\":false,\"textposition\":\"auto\",\"x\":[0,1,2,3,4],\"xaxis\":\"x3\",\"y\":[1.385361068957479,36.99738299169727,30.70861109746111,19.608632472156614,10.02272302001451],\"yaxis\":\"y3\",\"type\":\"bar\"},{\"alignmentgroup\":\"True\",\"hovertemplate\":\"area=Manhattan<br>max_delay=180<br>duration_minutes=5<br>occupancy=%{x}<br>percent=%{y}<extra></extra>\",\"legendgroup\":\"Manhattan\",\"marker\":{\"color\":\"#EF553B\",\"pattern\":{\"shape\":\"\"}},\"name\":\"Manhattan\",\"offsetgroup\":\"Manhattan\",\"orientation\":\"v\",\"showlegend\":true,\"textposition\":\"auto\",\"x\":[0,1,2,3,4],\"xaxis\":\"x11\",\"y\":[4.364167091274948,51.91574620227475,33.81188845612429,7.81048940782258,1.6163325935073796],\"yaxis\":\"y11\",\"type\":\"bar\"},{\"alignmentgroup\":\"True\",\"hovertemplate\":\"area=Manhattan<br>max_delay=180<br>duration_minutes=15<br>occupancy=%{x}<br>percent=%{y}<extra></extra>\",\"legendgroup\":\"Manhattan\",\"marker\":{\"color\":\"#EF553B\",\"pattern\":{\"shape\":\"\"}},\"name\":\"Manhattan\",\"offsetgroup\":\"Manhattan\",\"orientation\":\"v\",\"showlegend\":false,\"textposition\":\"auto\",\"x\":[0,1,2,3,4],\"xaxis\":\"x12\",\"y\":[2.1525939276116985,45.50024969417905,36.21890250235235,12.50417452596975,2.558634598844379],\"yaxis\":\"y12\",\"type\":\"bar\"},{\"alignmentgroup\":\"True\",\"hovertemplate\":\"area=Manhattan<br>max_delay=180<br>duration_minutes=30<br>occupancy=%{x}<br>percent=%{y}<extra></extra>\",\"legendgroup\":\"Manhattan\",\"marker\":{\"color\":\"#EF553B\",\"pattern\":{\"shape\":\"\"}},\"name\":\"Manhattan\",\"offsetgroup\":\"Manhattan\",\"orientation\":\"v\",\"showlegend\":false,\"textposition\":\"auto\",\"x\":[0,1,2,3,4],\"xaxis\":\"x13\",\"y\":[1.2514859962768865,41.23157077929276,37.727422731379015,13.726082308585205,3.3449728411484316],\"yaxis\":\"y13\",\"type\":\"bar\"},{\"alignmentgroup\":\"True\",\"hovertemplate\":\"area=Manhattan<br>max_delay=180<br>duration_minutes=120<br>occupancy=%{x}<br>percent=%{y}<extra></extra>\",\"legendgroup\":\"Manhattan\",\"marker\":{\"color\":\"#EF553B\",\"pattern\":{\"shape\":\"\"}},\"name\":\"Manhattan\",\"offsetgroup\":\"Manhattan\",\"orientation\":\"v\",\"showlegend\":false,\"textposition\":\"auto\",\"x\":[0,1,2,3,4],\"xaxis\":\"x14\",\"y\":[0.6612345127185824,31.024124075740716,30.819990513116792,10.964942939106251,2.3508405147136404],\"yaxis\":\"y14\",\"type\":\"bar\"},{\"alignmentgroup\":\"True\",\"hovertemplate\":\"area=Manhattan<br>max_delay=180<br>duration_minutes=960<br>occupancy=%{x}<br>percent=%{y}<extra></extra>\",\"legendgroup\":\"Manhattan\",\"marker\":{\"color\":\"#EF553B\",\"pattern\":{\"shape\":\"\"}},\"name\":\"Manhattan\",\"offsetgroup\":\"Manhattan\",\"orientation\":\"v\",\"showlegend\":false,\"textposition\":\"auto\",\"x\":[0,1,2,3,4],\"xaxis\":\"x15\",\"y\":[0.35442495070668334,17.829641090104317,17.142790113391563,5.644461180068461,1.1271493840834272],\"yaxis\":\"y15\",\"type\":\"bar\"},{\"alignmentgroup\":\"True\",\"hovertemplate\":\"area=Manhattan<br>max_delay=300<br>duration_minutes=5<br>occupancy=%{x}<br>percent=%{y}<extra></extra>\",\"legendgroup\":\"Manhattan\",\"marker\":{\"color\":\"#EF553B\",\"pattern\":{\"shape\":\"\"}},\"name\":\"Manhattan\",\"offsetgroup\":\"Manhattan\",\"orientation\":\"v\",\"showlegend\":false,\"textposition\":\"auto\",\"x\":[0,1,2,3,4],\"xaxis\":\"x6\",\"y\":[3.895503262095529,44.68824091795678,32.37472145597862,14.097663612051017,4.509899623611393],\"yaxis\":\"y6\",\"type\":\"bar\"},{\"alignmentgroup\":\"True\",\"hovertemplate\":\"area=Manhattan<br>max_delay=300<br>duration_minutes=15<br>occupancy=%{x}<br>percent=%{y}<extra></extra>\",\"legendgroup\":\"Manhattan\",\"marker\":{\"color\":\"#EF553B\",\"pattern\":{\"shape\":\"\"}},\"name\":\"Manhattan\",\"offsetgroup\":\"Manhattan\",\"orientation\":\"v\",\"showlegend\":false,\"textposition\":\"auto\",\"x\":[0,1,2,3,4],\"xaxis\":\"x7\",\"y\":[2.1141041080503093,37.29087123932755,31.50344542670908,19.941892176505213,8.461479265335658],\"yaxis\":\"y7\",\"type\":\"bar\"},{\"alignmentgroup\":\"True\",\"hovertemplate\":\"area=Manhattan<br>max_delay=300<br>duration_minutes=30<br>occupancy=%{x}<br>percent=%{y}<extra></extra>\",\"legendgroup\":\"Manhattan\",\"marker\":{\"color\":\"#EF553B\",\"pattern\":{\"shape\":\"\"}},\"name\":\"Manhattan\",\"offsetgroup\":\"Manhattan\",\"orientation\":\"v\",\"showlegend\":false,\"textposition\":\"auto\",\"x\":[0,1,2,3,4],\"xaxis\":\"x8\",\"y\":[1.1896507228867825,31.950305433136517,32.44262848327066,22.562100483815165,10.26937387624995],\"yaxis\":\"y8\",\"type\":\"bar\"},{\"alignmentgroup\":\"True\",\"hovertemplate\":\"area=Manhattan<br>max_delay=300<br>duration_minutes=120<br>occupancy=%{x}<br>percent=%{y}<extra></extra>\",\"legendgroup\":\"Manhattan\",\"marker\":{\"color\":\"#EF553B\",\"pattern\":{\"shape\":\"\"}},\"name\":\"Manhattan\",\"offsetgroup\":\"Manhattan\",\"orientation\":\"v\",\"showlegend\":false,\"textposition\":\"auto\",\"x\":[0,1,2,3,4],\"xaxis\":\"x9\",\"y\":[0.634238515174833,24.43719763848482,30.13471187713128,20.80188491426841,8.621285473320066],\"yaxis\":\"y9\",\"type\":\"bar\"},{\"alignmentgroup\":\"True\",\"hovertemplate\":\"area=Manhattan<br>max_delay=300<br>duration_minutes=960<br>occupancy=%{x}<br>percent=%{y}<extra></extra>\",\"legendgroup\":\"Manhattan\",\"marker\":{\"color\":\"#EF553B\",\"pattern\":{\"shape\":\"\"}},\"name\":\"Manhattan\",\"offsetgroup\":\"Manhattan\",\"orientation\":\"v\",\"showlegend\":false,\"textposition\":\"auto\",\"x\":[0,1,2,3,4],\"xaxis\":\"x10\",\"y\":[0.42326035859180083,15.785115213383492,19.431943423280888,12.32636369083752,4.70445537021498],\"yaxis\":\"y10\",\"type\":\"bar\"},{\"alignmentgroup\":\"True\",\"hovertemplate\":\"area=Manhattan<br>max_delay=600<br>duration_minutes=5<br>occupancy=%{x}<br>percent=%{y}<extra></extra>\",\"legendgroup\":\"Manhattan\",\"marker\":{\"color\":\"#EF553B\",\"pattern\":{\"shape\":\"\"}},\"name\":\"Manhattan\",\"offsetgroup\":\"Manhattan\",\"orientation\":\"v\",\"showlegend\":false,\"textposition\":\"auto\",\"x\":[0,1,2,3,4],\"xaxis\":\"x\",\"y\":[2.607239599856582,35.48710459181279,29.01377675241079,21.777743571067884,10.948566665853214],\"yaxis\":\"y\",\"type\":\"bar\"},{\"alignmentgroup\":\"True\",\"hovertemplate\":\"area=Manhattan<br>max_delay=600<br>duration_minutes=15<br>occupancy=%{x}<br>percent=%{y}<extra></extra>\",\"legendgroup\":\"Manhattan\",\"marker\":{\"color\":\"#EF553B\",\"pattern\":{\"shape\":\"\"}},\"name\":\"Manhattan\",\"offsetgroup\":\"Manhattan\",\"orientation\":\"v\",\"showlegend\":false,\"textposition\":\"auto\",\"x\":[0,1,2,3,4],\"xaxis\":\"x2\",\"y\":[1.4190598164294042,29.71822679780416,24.740776316437614,25.533635453097546,17.771907787793705],\"yaxis\":\"y2\",\"type\":\"bar\"},{\"alignmentgroup\":\"True\",\"hovertemplate\":\"area=Manhattan<br>max_delay=600<br>duration_minutes=30<br>occupancy=%{x}<br>percent=%{y}<extra></extra>\",\"legendgroup\":\"Manhattan\",\"marker\":{\"color\":\"#EF553B\",\"pattern\":{\"shape\":\"\"}},\"name\":\"Manhattan\",\"offsetgroup\":\"Manhattan\",\"orientation\":\"v\",\"showlegend\":false,\"textposition\":\"auto\",\"x\":[0,1,2,3,4],\"xaxis\":\"x3\",\"y\":[0.7511112346024825,22.550796882310138,24.889852789106858,28.67293168432301,22.118806542672985],\"yaxis\":\"y3\",\"type\":\"bar\"},{\"alignmentgroup\":\"True\",\"hovertemplate\":\"area=Manhattan<br>max_delay=600<br>duration_minutes=120<br>occupancy=%{x}<br>percent=%{y}<extra></extra>\",\"legendgroup\":\"Manhattan\",\"marker\":{\"color\":\"#EF553B\",\"pattern\":{\"shape\":\"\"}},\"name\":\"Manhattan\",\"offsetgroup\":\"Manhattan\",\"orientation\":\"v\",\"showlegend\":false,\"textposition\":\"auto\",\"x\":[0,1,2,3,4],\"xaxis\":\"x4\",\"y\":[0.37581639534069344,15.315129077586201,23.315438422838568,30.662790188381102,24.300973887409754],\"yaxis\":\"y4\",\"type\":\"bar\"},{\"alignmentgroup\":\"True\",\"hovertemplate\":\"area=Manhattan<br>max_delay=600<br>duration_minutes=960<br>occupancy=%{x}<br>percent=%{y}<extra></extra>\",\"legendgroup\":\"Manhattan\",\"marker\":{\"color\":\"#EF553B\",\"pattern\":{\"shape\":\"\"}},\"name\":\"Manhattan\",\"offsetgroup\":\"Manhattan\",\"orientation\":\"v\",\"showlegend\":false,\"textposition\":\"auto\",\"x\":[0,1,2,3,4],\"xaxis\":\"x5\",\"y\":[0.2830211653548688,11.545991720316055,18.187474316442845,23.758273723255467,17.884397185636765],\"yaxis\":\"y5\",\"type\":\"bar\"},{\"alignmentgroup\":\"True\",\"hovertemplate\":\"area=Chicago<br>max_delay=180<br>duration_minutes=5<br>occupancy=%{x}<br>percent=%{y}<extra></extra>\",\"legendgroup\":\"Chicago\",\"marker\":{\"color\":\"#00cc96\",\"pattern\":{\"shape\":\"\"}},\"name\":\"Chicago\",\"offsetgroup\":\"Chicago\",\"orientation\":\"v\",\"showlegend\":true,\"textposition\":\"auto\",\"x\":[0,1,2,3,4],\"xaxis\":\"x11\",\"y\":[17.488488907492673,68.8345392573103,13.166297913053878,0.126771512288465,0.0],\"yaxis\":\"y11\",\"type\":\"bar\"},{\"alignmentgroup\":\"True\",\"hovertemplate\":\"area=Chicago<br>max_delay=180<br>duration_minutes=15<br>occupancy=%{x}<br>percent=%{y}<extra></extra>\",\"legendgroup\":\"Chicago\",\"marker\":{\"color\":\"#00cc96\",\"pattern\":{\"shape\":\"\"}},\"name\":\"Chicago\",\"offsetgroup\":\"Chicago\",\"orientation\":\"v\",\"showlegend\":false,\"textposition\":\"auto\",\"x\":[0,1,2,3,4],\"xaxis\":\"x12\",\"y\":[8.160747752235903,73.96009773918819,15.070339003155173,1.7023699380826989,0.1119730505539345],\"yaxis\":\"y12\",\"type\":\"bar\"},{\"alignmentgroup\":\"True\",\"hovertemplate\":\"area=Chicago<br>max_delay=180<br>duration_minutes=30<br>occupancy=%{x}<br>percent=%{y}<extra></extra>\",\"legendgroup\":\"Chicago\",\"marker\":{\"color\":\"#00cc96\",\"pattern\":{\"shape\":\"\"}},\"name\":\"Chicago\",\"offsetgroup\":\"Chicago\",\"orientation\":\"v\",\"showlegend\":false,\"textposition\":\"auto\",\"x\":[0,1,2,3,4],\"xaxis\":\"x13\",\"y\":[4.624931900573716,69.40043359437179,20.325128520151825,2.530496212214627,0.20222446916076842],\"yaxis\":\"y13\",\"type\":\"bar\"},{\"alignmentgroup\":\"True\",\"hovertemplate\":\"area=Chicago<br>max_delay=180<br>duration_minutes=120<br>occupancy=%{x}<br>percent=%{y}<extra></extra>\",\"legendgroup\":\"Chicago\",\"marker\":{\"color\":\"#00cc96\",\"pattern\":{\"shape\":\"\"}},\"name\":\"Chicago\",\"offsetgroup\":\"Chicago\",\"orientation\":\"v\",\"showlegend\":false,\"textposition\":\"auto\",\"x\":[0,1,2,3,4],\"xaxis\":\"x14\",\"y\":[2.2505084704966762,59.35651618767189,20.439167214441305,2.3150952554788446,0.12974665590029222],\"yaxis\":\"y14\",\"type\":\"bar\"},{\"alignmentgroup\":\"True\",\"hovertemplate\":\"area=Chicago<br>max_delay=180<br>duration_minutes=960<br>occupancy=%{x}<br>percent=%{y}<extra></extra>\",\"legendgroup\":\"Chicago\",\"marker\":{\"color\":\"#00cc96\",\"pattern\":{\"shape\":\"\"}},\"name\":\"Chicago\",\"offsetgroup\":\"Chicago\",\"orientation\":\"v\",\"showlegend\":false,\"textposition\":\"auto\",\"x\":[0,1,2,3,4],\"xaxis\":\"x15\",\"y\":[11.046014198116158,36.00479182429087,10.861966694382886,1.0453160918998055,0.04047854963426346],\"yaxis\":\"y15\",\"type\":\"bar\"},{\"alignmentgroup\":\"True\",\"hovertemplate\":\"area=Chicago<br>max_delay=300<br>duration_minutes=5<br>occupancy=%{x}<br>percent=%{y}<extra></extra>\",\"legendgroup\":\"Chicago\",\"marker\":{\"color\":\"#00cc96\",\"pattern\":{\"shape\":\"\"}},\"name\":\"Chicago\",\"offsetgroup\":\"Chicago\",\"orientation\":\"v\",\"showlegend\":false,\"textposition\":\"auto\",\"x\":[0,1,2,3,4],\"xaxis\":\"x6\",\"y\":[9.615790436262856,69.90897708248336,12.995033834639354,6.7964716309562325,0.23494323377555182],\"yaxis\":\"y6\",\"type\":\"bar\"},{\"alignmentgroup\":\"True\",\"hovertemplate\":\"area=Chicago<br>max_delay=300<br>duration_minutes=15<br>occupancy=%{x}<br>percent=%{y}<extra></extra>\",\"legendgroup\":\"Chicago\",\"marker\":{\"color\":\"#00cc96\",\"pattern\":{\"shape\":\"\"}},\"name\":\"Chicago\",\"offsetgroup\":\"Chicago\",\"orientation\":\"v\",\"showlegend\":false,\"textposition\":\"auto\",\"x\":[0,1,2,3,4],\"xaxis\":\"x7\",\"y\":[6.838464013729487,63.138474739890604,20.917086774643355,7.430011798777218,0.7899817655261182],\"yaxis\":\"y7\",\"type\":\"bar\"},{\"alignmentgroup\":\"True\",\"hovertemplate\":\"area=Chicago<br>max_delay=300<br>duration_minutes=30<br>occupancy=%{x}<br>percent=%{y}<extra></extra>\",\"legendgroup\":\"Chicago\",\"marker\":{\"color\":\"#00cc96\",\"pattern\":{\"shape\":\"\"}},\"name\":\"Chicago\",\"offsetgroup\":\"Chicago\",\"orientation\":\"v\",\"showlegend\":false,\"textposition\":\"auto\",\"x\":[0,1,2,3,4],\"xaxis\":\"x8\",\"y\":[3.564976390884828,57.089406692670906,27.33858550605625,7.920344898378158,1.7596489427222337],\"yaxis\":\"y8\",\"type\":\"bar\"},{\"alignmentgroup\":\"True\",\"hovertemplate\":\"area=Chicago<br>max_delay=300<br>duration_minutes=120<br>occupancy=%{x}<br>percent=%{y}<extra></extra>\",\"legendgroup\":\"Chicago\",\"marker\":{\"color\":\"#00cc96\",\"pattern\":{\"shape\":\"\"}},\"name\":\"Chicago\",\"offsetgroup\":\"Chicago\",\"orientation\":\"v\",\"showlegend\":false,\"textposition\":\"auto\",\"x\":[0,1,2,3,4],\"xaxis\":\"x9\",\"y\":[1.7030303821885047,47.008835492654505,29.569787880808494,8.083104363027179,1.0685357334600032],\"yaxis\":\"y9\",\"type\":\"bar\"},{\"alignmentgroup\":\"True\",\"hovertemplate\":\"area=Chicago<br>max_delay=300<br>duration_minutes=960<br>occupancy=%{x}<br>percent=%{y}<extra></extra>\",\"legendgroup\":\"Chicago\",\"marker\":{\"color\":\"#00cc96\",\"pattern\":{\"shape\":\"\"}},\"name\":\"Chicago\",\"offsetgroup\":\"Chicago\",\"orientation\":\"v\",\"showlegend\":false,\"textposition\":\"auto\",\"x\":[0,1,2,3,4],\"xaxis\":\"x10\",\"y\":[8.2755483754319,29.941364296906166,16.992525164474443,3.853591547819872,0.4638959014684324],\"yaxis\":\"y10\",\"type\":\"bar\"},{\"alignmentgroup\":\"True\",\"hovertemplate\":\"area=Chicago<br>max_delay=600<br>duration_minutes=5<br>occupancy=%{x}<br>percent=%{y}<extra></extra>\",\"legendgroup\":\"Chicago\",\"marker\":{\"color\":\"#00cc96\",\"pattern\":{\"shape\":\"\"}},\"name\":\"Chicago\",\"offsetgroup\":\"Chicago\",\"orientation\":\"v\",\"showlegend\":false,\"textposition\":\"auto\",\"x\":[0,1,2,3,4],\"xaxis\":\"x\",\"y\":[7.639575195695484,60.30872041037225,20.0731014792853,5.531240685836196,5.873217563179444],\"yaxis\":\"y\",\"type\":\"bar\"},{\"alignmentgroup\":\"True\",\"hovertemplate\":\"area=Chicago<br>max_delay=600<br>duration_minutes=15<br>occupancy=%{x}<br>percent=%{y}<extra></extra>\",\"legendgroup\":\"Chicago\",\"marker\":{\"color\":\"#00cc96\",\"pattern\":{\"shape\":\"\"}},\"name\":\"Chicago\",\"offsetgroup\":\"Chicago\",\"orientation\":\"v\",\"showlegend\":false,\"textposition\":\"auto\",\"x\":[0,1,2,3,4],\"xaxis\":\"x2\",\"y\":[6.040742296151575,47.745296741955315,27.29015648109263,11.527623082026281,6.027352237661365],\"yaxis\":\"y2\",\"type\":\"bar\"},{\"alignmentgroup\":\"True\",\"hovertemplate\":\"area=Chicago<br>max_delay=600<br>duration_minutes=30<br>occupancy=%{x}<br>percent=%{y}<extra></extra>\",\"legendgroup\":\"Chicago\",\"marker\":{\"color\":\"#00cc96\",\"pattern\":{\"shape\":\"\"}},\"name\":\"Chicago\",\"offsetgroup\":\"Chicago\",\"orientation\":\"v\",\"showlegend\":false,\"textposition\":\"auto\",\"x\":[0,1,2,3,4],\"xaxis\":\"x3\",\"y\":[3.2256017720044072,43.847879882097104,26.63457600526064,18.094979897671358,5.5686622866470925],\"yaxis\":\"y3\",\"type\":\"bar\"},{\"alignmentgroup\":\"True\",\"hovertemplate\":\"area=Chicago<br>max_delay=600<br>duration_minutes=120<br>occupancy=%{x}<br>percent=%{y}<extra></extra>\",\"legendgroup\":\"Chicago\",\"marker\":{\"color\":\"#00cc96\",\"pattern\":{\"shape\":\"\"}},\"name\":\"Chicago\",\"offsetgroup\":\"Chicago\",\"orientation\":\"v\",\"showlegend\":false,\"textposition\":\"auto\",\"x\":[0,1,2,3,4],\"xaxis\":\"x4\",\"y\":[1.7411764705882353,36.639866971523595,25.557929744335894,17.354562461026813,9.055248389108293],\"yaxis\":\"y4\",\"type\":\"bar\"},{\"alignmentgroup\":\"True\",\"hovertemplate\":\"area=Chicago<br>max_delay=600<br>duration_minutes=960<br>occupancy=%{x}<br>percent=%{y}<extra></extra>\",\"legendgroup\":\"Chicago\",\"marker\":{\"color\":\"#00cc96\",\"pattern\":{\"shape\":\"\"}},\"name\":\"Chicago\",\"offsetgroup\":\"Chicago\",\"orientation\":\"v\",\"showlegend\":false,\"textposition\":\"auto\",\"x\":[0,1,2,3,4],\"xaxis\":\"x5\",\"y\":[3.7181387432505404,26.279555496842832,21.14634741532924,12.810769755210089,4.837172185916892],\"yaxis\":\"y5\",\"type\":\"bar\"},{\"alignmentgroup\":\"True\",\"hovertemplate\":\"area=DC<br>max_delay=180<br>duration_minutes=5<br>occupancy=%{x}<br>percent=%{y}<extra></extra>\",\"legendgroup\":\"DC\",\"marker\":{\"color\":\"#ab63fa\",\"pattern\":{\"shape\":\"\"}},\"name\":\"DC\",\"offsetgroup\":\"DC\",\"orientation\":\"v\",\"showlegend\":true,\"textposition\":\"auto\",\"x\":[0,1,2,3,4],\"xaxis\":\"x11\",\"y\":[15.65484142298748,63.20815397555787,17.841769333531246,1.7614170501212212,1.48434021077631],\"yaxis\":\"y11\",\"type\":\"bar\"},{\"alignmentgroup\":\"True\",\"hovertemplate\":\"area=DC<br>max_delay=180<br>duration_minutes=15<br>occupancy=%{x}<br>percent=%{y}<extra></extra>\",\"legendgroup\":\"DC\",\"marker\":{\"color\":\"#ab63fa\",\"pattern\":{\"shape\":\"\"}},\"name\":\"DC\",\"offsetgroup\":\"DC\",\"orientation\":\"v\",\"showlegend\":false,\"textposition\":\"auto\",\"x\":[0,1,2,3,4],\"xaxis\":\"x12\",\"y\":[7.790863668807995,62.64810849393291,20.735189150606708,6.258029978586724,1.3758029978586723],\"yaxis\":\"y12\",\"type\":\"bar\"},{\"alignmentgroup\":\"True\",\"hovertemplate\":\"area=DC<br>max_delay=180<br>duration_minutes=30<br>occupancy=%{x}<br>percent=%{y}<extra></extra>\",\"legendgroup\":\"DC\",\"marker\":{\"color\":\"#ab63fa\",\"pattern\":{\"shape\":\"\"}},\"name\":\"DC\",\"offsetgroup\":\"DC\",\"orientation\":\"v\",\"showlegend\":false,\"textposition\":\"auto\",\"x\":[0,1,2,3,4],\"xaxis\":\"x13\",\"y\":[4.502727272727273,60.75454545454545,21.18,6.196363636363636,1.0627272727272727],\"yaxis\":\"y13\",\"type\":\"bar\"},{\"alignmentgroup\":\"True\",\"hovertemplate\":\"area=DC<br>max_delay=180<br>duration_minutes=120<br>occupancy=%{x}<br>percent=%{y}<extra></extra>\",\"legendgroup\":\"DC\",\"marker\":{\"color\":\"#ab63fa\",\"pattern\":{\"shape\":\"\"}},\"name\":\"DC\",\"offsetgroup\":\"DC\",\"orientation\":\"v\",\"showlegend\":false,\"textposition\":\"auto\",\"x\":[0,1,2,3,4],\"xaxis\":\"x14\",\"y\":[1.4113026531762574,39.47448894413469,14.376344068247674,3.6459478356885353,0.7440001454610371],\"yaxis\":\"y14\",\"type\":\"bar\"},{\"alignmentgroup\":\"True\",\"hovertemplate\":\"area=DC<br>max_delay=180<br>duration_minutes=960<br>occupancy=%{x}<br>percent=%{y}<extra></extra>\",\"legendgroup\":\"DC\",\"marker\":{\"color\":\"#ab63fa\",\"pattern\":{\"shape\":\"\"}},\"name\":\"DC\",\"offsetgroup\":\"DC\",\"orientation\":\"v\",\"showlegend\":false,\"textposition\":\"auto\",\"x\":[0,1,2,3,4],\"xaxis\":\"x15\",\"y\":[0.7059803814276937,15.461409186900871,6.245036033117311,1.7440115462005135,0.30902556178831747],\"yaxis\":\"y15\",\"type\":\"bar\"},{\"alignmentgroup\":\"True\",\"hovertemplate\":\"area=DC<br>max_delay=300<br>duration_minutes=5<br>occupancy=%{x}<br>percent=%{y}<extra></extra>\",\"legendgroup\":\"DC\",\"marker\":{\"color\":\"#ab63fa\",\"pattern\":{\"shape\":\"\"}},\"name\":\"DC\",\"offsetgroup\":\"DC\",\"orientation\":\"v\",\"showlegend\":false,\"textposition\":\"auto\",\"x\":[0,1,2,3,4],\"xaxis\":\"x6\",\"y\":[11.988056730529982,67.80791241602388,13.172430952973377,5.36451853694949,1.632246827569047],\"yaxis\":\"y6\",\"type\":\"bar\"},{\"alignmentgroup\":\"True\",\"hovertemplate\":\"area=DC<br>max_delay=300<br>duration_minutes=15<br>occupancy=%{x}<br>percent=%{y}<extra></extra>\",\"legendgroup\":\"DC\",\"marker\":{\"color\":\"#ab63fa\",\"pattern\":{\"shape\":\"\"}},\"name\":\"DC\",\"offsetgroup\":\"DC\",\"orientation\":\"v\",\"showlegend\":false,\"textposition\":\"auto\",\"x\":[0,1,2,3,4],\"xaxis\":\"x7\",\"y\":[4.87539053985323,57.674562232071494,23.129041633364817,7.572840223788418,3.162464578943544],\"yaxis\":\"y7\",\"type\":\"bar\"},{\"alignmentgroup\":\"True\",\"hovertemplate\":\"area=DC<br>max_delay=300<br>duration_minutes=30<br>occupancy=%{x}<br>percent=%{y}<extra></extra>\",\"legendgroup\":\"DC\",\"marker\":{\"color\":\"#ab63fa\",\"pattern\":{\"shape\":\"\"}},\"name\":\"DC\",\"offsetgroup\":\"DC\",\"orientation\":\"v\",\"showlegend\":false,\"textposition\":\"auto\",\"x\":[0,1,2,3,4],\"xaxis\":\"x8\",\"y\":[4.073109615290129,54.34677934456836,24.63322360339999,9.369626099346535,3.5169262516582327],\"yaxis\":\"y8\",\"type\":\"bar\"},{\"alignmentgroup\":\"True\",\"hovertemplate\":\"area=DC<br>max_delay=300<br>duration_minutes=120<br>occupancy=%{x}<br>percent=%{y}<extra></extra>\",\"legendgroup\":\"DC\",\"marker\":{\"color\":\"#ab63fa\",\"pattern\":{\"shape\":\"\"}},\"name\":\"DC\",\"offsetgroup\":\"DC\",\"orientation\":\"v\",\"showlegend\":false,\"textposition\":\"auto\",\"x\":[0,1,2,3,4],\"xaxis\":\"x9\",\"y\":[1.3724242875400967,35.97151513862491,18.348682391475425,6.852840461960567,2.4861413763300315],\"yaxis\":\"y9\",\"type\":\"bar\"},{\"alignmentgroup\":\"True\",\"hovertemplate\":\"area=DC<br>max_delay=300<br>duration_minutes=960<br>occupancy=%{x}<br>percent=%{y}<extra></extra>\",\"legendgroup\":\"DC\",\"marker\":{\"color\":\"#ab63fa\",\"pattern\":{\"shape\":\"\"}},\"name\":\"DC\",\"offsetgroup\":\"DC\",\"orientation\":\"v\",\"showlegend\":false,\"textposition\":\"auto\",\"x\":[0,1,2,3,4],\"xaxis\":\"x10\",\"y\":[0.813400143898518,16.643972655508684,9.08288652730318,3.815197177566772,1.4164232201047433],\"yaxis\":\"y10\",\"type\":\"bar\"},{\"alignmentgroup\":\"True\",\"hovertemplate\":\"area=DC<br>max_delay=600<br>duration_minutes=5<br>occupancy=%{x}<br>percent=%{y}<extra></extra>\",\"legendgroup\":\"DC\",\"marker\":{\"color\":\"#ab63fa\",\"pattern\":{\"shape\":\"\"}},\"name\":\"DC\",\"offsetgroup\":\"DC\",\"orientation\":\"v\",\"showlegend\":false,\"textposition\":\"auto\",\"x\":[0,1,2,3,4],\"xaxis\":\"x\",\"y\":[10.002693239967682,52.588203608941555,20.856450309722597,11.18233234581201,4.643145704282252],\"yaxis\":\"y\",\"type\":\"bar\"},{\"alignmentgroup\":\"True\",\"hovertemplate\":\"area=DC<br>max_delay=600<br>duration_minutes=15<br>occupancy=%{x}<br>percent=%{y}<extra></extra>\",\"legendgroup\":\"DC\",\"marker\":{\"color\":\"#ab63fa\",\"pattern\":{\"shape\":\"\"}},\"name\":\"DC\",\"offsetgroup\":\"DC\",\"orientation\":\"v\",\"showlegend\":false,\"textposition\":\"auto\",\"x\":[0,1,2,3,4],\"xaxis\":\"x2\",\"y\":[4.326494201605709,40.801638147757686,22.344092125537262,18.378477009163895,11.142648609196334],\"yaxis\":\"y2\",\"type\":\"bar\"},{\"alignmentgroup\":\"True\",\"hovertemplate\":\"area=DC<br>max_delay=600<br>duration_minutes=30<br>occupancy=%{x}<br>percent=%{y}<extra></extra>\",\"legendgroup\":\"DC\",\"marker\":{\"color\":\"#ab63fa\",\"pattern\":{\"shape\":\"\"}},\"name\":\"DC\",\"offsetgroup\":\"DC\",\"orientation\":\"v\",\"showlegend\":false,\"textposition\":\"auto\",\"x\":[0,1,2,3,4],\"xaxis\":\"x3\",\"y\":[2.198828884615802,37.622353311823055,23.359297765320644,18.87581614140295,10.813805690447479],\"yaxis\":\"y3\",\"type\":\"bar\"},{\"alignmentgroup\":\"True\",\"hovertemplate\":\"area=DC<br>max_delay=600<br>duration_minutes=120<br>occupancy=%{x}<br>percent=%{y}<extra></extra>\",\"legendgroup\":\"DC\",\"marker\":{\"color\":\"#ab63fa\",\"pattern\":{\"shape\":\"\"}},\"name\":\"DC\",\"offsetgroup\":\"DC\",\"orientation\":\"v\",\"showlegend\":false,\"textposition\":\"auto\",\"x\":[0,1,2,3,4],\"xaxis\":\"x4\",\"y\":[1.5364983586649208,31.06392668070815,19.284975617160967,13.722462571867705,8.622701656515057],\"yaxis\":\"y4\",\"type\":\"bar\"},{\"alignmentgroup\":\"True\",\"hovertemplate\":\"area=DC<br>max_delay=600<br>duration_minutes=960<br>occupancy=%{x}<br>percent=%{y}<extra></extra>\",\"legendgroup\":\"DC\",\"marker\":{\"color\":\"#ab63fa\",\"pattern\":{\"shape\":\"\"}},\"name\":\"DC\",\"offsetgroup\":\"DC\",\"orientation\":\"v\",\"showlegend\":false,\"textposition\":\"auto\",\"x\":[0,1,2,3,4],\"xaxis\":\"x5\",\"y\":[0.7565488145940332,15.738022058831296,11.073685456153344,8.494097535154348,5.18944624705088],\"yaxis\":\"y5\",\"type\":\"bar\"}],                        {\"template\":{\"data\":{\"histogram2dcontour\":[{\"type\":\"histogram2dcontour\",\"colorbar\":{\"outlinewidth\":0,\"ticks\":\"\"},\"colorscale\":[[0.0,\"#0d0887\"],[0.1111111111111111,\"#46039f\"],[0.2222222222222222,\"#7201a8\"],[0.3333333333333333,\"#9c179e\"],[0.4444444444444444,\"#bd3786\"],[0.5555555555555556,\"#d8576b\"],[0.6666666666666666,\"#ed7953\"],[0.7777777777777778,\"#fb9f3a\"],[0.8888888888888888,\"#fdca26\"],[1.0,\"#f0f921\"]]}],\"choropleth\":[{\"type\":\"choropleth\",\"colorbar\":{\"outlinewidth\":0,\"ticks\":\"\"}}],\"histogram2d\":[{\"type\":\"histogram2d\",\"colorbar\":{\"outlinewidth\":0,\"ticks\":\"\"},\"colorscale\":[[0.0,\"#0d0887\"],[0.1111111111111111,\"#46039f\"],[0.2222222222222222,\"#7201a8\"],[0.3333333333333333,\"#9c179e\"],[0.4444444444444444,\"#bd3786\"],[0.5555555555555556,\"#d8576b\"],[0.6666666666666666,\"#ed7953\"],[0.7777777777777778,\"#fb9f3a\"],[0.8888888888888888,\"#fdca26\"],[1.0,\"#f0f921\"]]}],\"heatmap\":[{\"type\":\"heatmap\",\"colorbar\":{\"outlinewidth\":0,\"ticks\":\"\"},\"colorscale\":[[0.0,\"#0d0887\"],[0.1111111111111111,\"#46039f\"],[0.2222222222222222,\"#7201a8\"],[0.3333333333333333,\"#9c179e\"],[0.4444444444444444,\"#bd3786\"],[0.5555555555555556,\"#d8576b\"],[0.6666666666666666,\"#ed7953\"],[0.7777777777777778,\"#fb9f3a\"],[0.8888888888888888,\"#fdca26\"],[1.0,\"#f0f921\"]]}],\"heatmapgl\":[{\"type\":\"heatmapgl\",\"colorbar\":{\"outlinewidth\":0,\"ticks\":\"\"},\"colorscale\":[[0.0,\"#0d0887\"],[0.1111111111111111,\"#46039f\"],[0.2222222222222222,\"#7201a8\"],[0.3333333333333333,\"#9c179e\"],[0.4444444444444444,\"#bd3786\"],[0.5555555555555556,\"#d8576b\"],[0.6666666666666666,\"#ed7953\"],[0.7777777777777778,\"#fb9f3a\"],[0.8888888888888888,\"#fdca26\"],[1.0,\"#f0f921\"]]}],\"contourcarpet\":[{\"type\":\"contourcarpet\",\"colorbar\":{\"outlinewidth\":0,\"ticks\":\"\"}}],\"contour\":[{\"type\":\"contour\",\"colorbar\":{\"outlinewidth\":0,\"ticks\":\"\"},\"colorscale\":[[0.0,\"#0d0887\"],[0.1111111111111111,\"#46039f\"],[0.2222222222222222,\"#7201a8\"],[0.3333333333333333,\"#9c179e\"],[0.4444444444444444,\"#bd3786\"],[0.5555555555555556,\"#d8576b\"],[0.6666666666666666,\"#ed7953\"],[0.7777777777777778,\"#fb9f3a\"],[0.8888888888888888,\"#fdca26\"],[1.0,\"#f0f921\"]]}],\"surface\":[{\"type\":\"surface\",\"colorbar\":{\"outlinewidth\":0,\"ticks\":\"\"},\"colorscale\":[[0.0,\"#0d0887\"],[0.1111111111111111,\"#46039f\"],[0.2222222222222222,\"#7201a8\"],[0.3333333333333333,\"#9c179e\"],[0.4444444444444444,\"#bd3786\"],[0.5555555555555556,\"#d8576b\"],[0.6666666666666666,\"#ed7953\"],[0.7777777777777778,\"#fb9f3a\"],[0.8888888888888888,\"#fdca26\"],[1.0,\"#f0f921\"]]}],\"mesh3d\":[{\"type\":\"mesh3d\",\"colorbar\":{\"outlinewidth\":0,\"ticks\":\"\"}}],\"scatter\":[{\"fillpattern\":{\"fillmode\":\"overlay\",\"size\":10,\"solidity\":0.2},\"type\":\"scatter\"}],\"parcoords\":[{\"type\":\"parcoords\",\"line\":{\"colorbar\":{\"outlinewidth\":0,\"ticks\":\"\"}}}],\"scatterpolargl\":[{\"type\":\"scatterpolargl\",\"marker\":{\"colorbar\":{\"outlinewidth\":0,\"ticks\":\"\"}}}],\"bar\":[{\"error_x\":{\"color\":\"#2a3f5f\"},\"error_y\":{\"color\":\"#2a3f5f\"},\"marker\":{\"line\":{\"color\":\"#E5ECF6\",\"width\":0.5},\"pattern\":{\"fillmode\":\"overlay\",\"size\":10,\"solidity\":0.2}},\"type\":\"bar\"}],\"scattergeo\":[{\"type\":\"scattergeo\",\"marker\":{\"colorbar\":{\"outlinewidth\":0,\"ticks\":\"\"}}}],\"scatterpolar\":[{\"type\":\"scatterpolar\",\"marker\":{\"colorbar\":{\"outlinewidth\":0,\"ticks\":\"\"}}}],\"histogram\":[{\"marker\":{\"pattern\":{\"fillmode\":\"overlay\",\"size\":10,\"solidity\":0.2}},\"type\":\"histogram\"}],\"scattergl\":[{\"type\":\"scattergl\",\"marker\":{\"colorbar\":{\"outlinewidth\":0,\"ticks\":\"\"}}}],\"scatter3d\":[{\"type\":\"scatter3d\",\"line\":{\"colorbar\":{\"outlinewidth\":0,\"ticks\":\"\"}},\"marker\":{\"colorbar\":{\"outlinewidth\":0,\"ticks\":\"\"}}}],\"scattermapbox\":[{\"type\":\"scattermapbox\",\"marker\":{\"colorbar\":{\"outlinewidth\":0,\"ticks\":\"\"}}}],\"scatterternary\":[{\"type\":\"scatterternary\",\"marker\":{\"colorbar\":{\"outlinewidth\":0,\"ticks\":\"\"}}}],\"scattercarpet\":[{\"type\":\"scattercarpet\",\"marker\":{\"colorbar\":{\"outlinewidth\":0,\"ticks\":\"\"}}}],\"carpet\":[{\"aaxis\":{\"endlinecolor\":\"#2a3f5f\",\"gridcolor\":\"white\",\"linecolor\":\"white\",\"minorgridcolor\":\"white\",\"startlinecolor\":\"#2a3f5f\"},\"baxis\":{\"endlinecolor\":\"#2a3f5f\",\"gridcolor\":\"white\",\"linecolor\":\"white\",\"minorgridcolor\":\"white\",\"startlinecolor\":\"#2a3f5f\"},\"type\":\"carpet\"}],\"table\":[{\"cells\":{\"fill\":{\"color\":\"#EBF0F8\"},\"line\":{\"color\":\"white\"}},\"header\":{\"fill\":{\"color\":\"#C8D4E3\"},\"line\":{\"color\":\"white\"}},\"type\":\"table\"}],\"barpolar\":[{\"marker\":{\"line\":{\"color\":\"#E5ECF6\",\"width\":0.5},\"pattern\":{\"fillmode\":\"overlay\",\"size\":10,\"solidity\":0.2}},\"type\":\"barpolar\"}],\"pie\":[{\"automargin\":true,\"type\":\"pie\"}]},\"layout\":{\"autotypenumbers\":\"strict\",\"colorway\":[\"#636efa\",\"#EF553B\",\"#00cc96\",\"#ab63fa\",\"#FFA15A\",\"#19d3f3\",\"#FF6692\",\"#B6E880\",\"#FF97FF\",\"#FECB52\"],\"font\":{\"color\":\"#2a3f5f\"},\"hovermode\":\"closest\",\"hoverlabel\":{\"align\":\"left\"},\"paper_bgcolor\":\"white\",\"plot_bgcolor\":\"#E5ECF6\",\"polar\":{\"bgcolor\":\"#E5ECF6\",\"angularaxis\":{\"gridcolor\":\"white\",\"linecolor\":\"white\",\"ticks\":\"\"},\"radialaxis\":{\"gridcolor\":\"white\",\"linecolor\":\"white\",\"ticks\":\"\"}},\"ternary\":{\"bgcolor\":\"#E5ECF6\",\"aaxis\":{\"gridcolor\":\"white\",\"linecolor\":\"white\",\"ticks\":\"\"},\"baxis\":{\"gridcolor\":\"white\",\"linecolor\":\"white\",\"ticks\":\"\"},\"caxis\":{\"gridcolor\":\"white\",\"linecolor\":\"white\",\"ticks\":\"\"}},\"coloraxis\":{\"colorbar\":{\"outlinewidth\":0,\"ticks\":\"\"}},\"colorscale\":{\"sequential\":[[0.0,\"#0d0887\"],[0.1111111111111111,\"#46039f\"],[0.2222222222222222,\"#7201a8\"],[0.3333333333333333,\"#9c179e\"],[0.4444444444444444,\"#bd3786\"],[0.5555555555555556,\"#d8576b\"],[0.6666666666666666,\"#ed7953\"],[0.7777777777777778,\"#fb9f3a\"],[0.8888888888888888,\"#fdca26\"],[1.0,\"#f0f921\"]],\"sequentialminus\":[[0.0,\"#0d0887\"],[0.1111111111111111,\"#46039f\"],[0.2222222222222222,\"#7201a8\"],[0.3333333333333333,\"#9c179e\"],[0.4444444444444444,\"#bd3786\"],[0.5555555555555556,\"#d8576b\"],[0.6666666666666666,\"#ed7953\"],[0.7777777777777778,\"#fb9f3a\"],[0.8888888888888888,\"#fdca26\"],[1.0,\"#f0f921\"]],\"diverging\":[[0,\"#8e0152\"],[0.1,\"#c51b7d\"],[0.2,\"#de77ae\"],[0.3,\"#f1b6da\"],[0.4,\"#fde0ef\"],[0.5,\"#f7f7f7\"],[0.6,\"#e6f5d0\"],[0.7,\"#b8e186\"],[0.8,\"#7fbc41\"],[0.9,\"#4d9221\"],[1,\"#276419\"]]},\"xaxis\":{\"gridcolor\":\"white\",\"linecolor\":\"white\",\"ticks\":\"\",\"title\":{\"standoff\":15},\"zerolinecolor\":\"white\",\"automargin\":true,\"zerolinewidth\":2},\"yaxis\":{\"gridcolor\":\"white\",\"linecolor\":\"white\",\"ticks\":\"\",\"title\":{\"standoff\":15},\"zerolinecolor\":\"white\",\"automargin\":true,\"zerolinewidth\":2},\"scene\":{\"xaxis\":{\"backgroundcolor\":\"#E5ECF6\",\"gridcolor\":\"white\",\"linecolor\":\"white\",\"showbackground\":true,\"ticks\":\"\",\"zerolinecolor\":\"white\",\"gridwidth\":2},\"yaxis\":{\"backgroundcolor\":\"#E5ECF6\",\"gridcolor\":\"white\",\"linecolor\":\"white\",\"showbackground\":true,\"ticks\":\"\",\"zerolinecolor\":\"white\",\"gridwidth\":2},\"zaxis\":{\"backgroundcolor\":\"#E5ECF6\",\"gridcolor\":\"white\",\"linecolor\":\"white\",\"showbackground\":true,\"ticks\":\"\",\"zerolinecolor\":\"white\",\"gridwidth\":2}},\"shapedefaults\":{\"line\":{\"color\":\"#2a3f5f\"}},\"annotationdefaults\":{\"arrowcolor\":\"#2a3f5f\",\"arrowhead\":0,\"arrowwidth\":1},\"geo\":{\"bgcolor\":\"white\",\"landcolor\":\"#E5ECF6\",\"subunitcolor\":\"white\",\"showland\":true,\"showlakes\":true,\"lakecolor\":\"white\"},\"title\":{\"x\":0.05},\"mapbox\":{\"style\":\"light\"}}},\"xaxis\":{\"anchor\":\"y\",\"domain\":[0.0,0.18000000000000002],\"title\":{\"text\":\"\"},\"dtick\":1},\"yaxis\":{\"anchor\":\"x\",\"domain\":[0.0,0.3133333333333333],\"title\":{\"text\":\"\"}},\"xaxis2\":{\"anchor\":\"y2\",\"domain\":[0.2,0.38],\"matches\":\"x\",\"title\":{\"text\":\"\"},\"dtick\":1},\"yaxis2\":{\"anchor\":\"x2\",\"domain\":[0.0,0.3133333333333333],\"matches\":\"y\",\"showticklabels\":false,\"title\":{\"text\":\"\"}},\"xaxis3\":{\"anchor\":\"y3\",\"domain\":[0.4,0.5800000000000001],\"matches\":\"x\",\"title\":{\"text\":\"\"},\"dtick\":1},\"yaxis3\":{\"anchor\":\"x3\",\"domain\":[0.0,0.3133333333333333],\"matches\":\"y\",\"showticklabels\":false,\"title\":{\"text\":\"\"}},\"xaxis4\":{\"anchor\":\"y4\",\"domain\":[0.6000000000000001,0.7800000000000001],\"matches\":\"x\",\"title\":{\"text\":\"\"},\"dtick\":1},\"yaxis4\":{\"anchor\":\"x4\",\"domain\":[0.0,0.3133333333333333],\"matches\":\"y\",\"showticklabels\":false,\"title\":{\"text\":\"\"}},\"xaxis5\":{\"anchor\":\"y5\",\"domain\":[0.8,0.9800000000000001],\"matches\":\"x\",\"title\":{\"text\":\"\"},\"dtick\":1},\"yaxis5\":{\"anchor\":\"x5\",\"domain\":[0.0,0.3133333333333333],\"matches\":\"y\",\"showticklabels\":false,\"title\":{\"text\":\"\"}},\"xaxis6\":{\"anchor\":\"y6\",\"domain\":[0.0,0.18000000000000002],\"matches\":\"x\",\"showticklabels\":false,\"title\":{\"text\":\"\"},\"dtick\":1},\"yaxis6\":{\"anchor\":\"x6\",\"domain\":[0.34333333333333327,0.6566666666666665],\"matches\":\"y\",\"title\":{\"text\":\"\"}},\"xaxis7\":{\"anchor\":\"y7\",\"domain\":[0.2,0.38],\"matches\":\"x\",\"showticklabels\":false,\"title\":{\"text\":\"\"},\"dtick\":1},\"yaxis7\":{\"anchor\":\"x7\",\"domain\":[0.34333333333333327,0.6566666666666665],\"matches\":\"y\",\"showticklabels\":false,\"title\":{\"text\":\"\"}},\"xaxis8\":{\"anchor\":\"y8\",\"domain\":[0.4,0.5800000000000001],\"matches\":\"x\",\"showticklabels\":false,\"title\":{\"text\":\"\"},\"dtick\":1},\"yaxis8\":{\"anchor\":\"x8\",\"domain\":[0.34333333333333327,0.6566666666666665],\"matches\":\"y\",\"showticklabels\":false,\"title\":{\"text\":\"\"}},\"xaxis9\":{\"anchor\":\"y9\",\"domain\":[0.6000000000000001,0.7800000000000001],\"matches\":\"x\",\"showticklabels\":false,\"title\":{\"text\":\"\"},\"dtick\":1},\"yaxis9\":{\"anchor\":\"x9\",\"domain\":[0.34333333333333327,0.6566666666666665],\"matches\":\"y\",\"showticklabels\":false,\"title\":{\"text\":\"\"}},\"xaxis10\":{\"anchor\":\"y10\",\"domain\":[0.8,0.9800000000000001],\"matches\":\"x\",\"showticklabels\":false,\"title\":{\"text\":\"\"},\"dtick\":1},\"yaxis10\":{\"anchor\":\"x10\",\"domain\":[0.34333333333333327,0.6566666666666665],\"matches\":\"y\",\"showticklabels\":false,\"title\":{\"text\":\"\"}},\"xaxis11\":{\"anchor\":\"y11\",\"domain\":[0.0,0.18000000000000002],\"matches\":\"x\",\"showticklabels\":false,\"title\":{\"text\":\"\"},\"dtick\":1},\"yaxis11\":{\"anchor\":\"x11\",\"domain\":[0.6866666666666665,0.9999999999999998],\"matches\":\"y\",\"title\":{\"text\":\"\"}},\"xaxis12\":{\"anchor\":\"y12\",\"domain\":[0.2,0.38],\"matches\":\"x\",\"showticklabels\":false,\"title\":{\"text\":\"\"},\"dtick\":1},\"yaxis12\":{\"anchor\":\"x12\",\"domain\":[0.6866666666666665,0.9999999999999998],\"matches\":\"y\",\"showticklabels\":false,\"title\":{\"text\":\"\"}},\"xaxis13\":{\"anchor\":\"y13\",\"domain\":[0.4,0.5800000000000001],\"matches\":\"x\",\"showticklabels\":false,\"title\":{\"text\":\"\"},\"dtick\":1},\"yaxis13\":{\"anchor\":\"x13\",\"domain\":[0.6866666666666665,0.9999999999999998],\"matches\":\"y\",\"showticklabels\":false,\"title\":{\"text\":\"\"}},\"xaxis14\":{\"anchor\":\"y14\",\"domain\":[0.6000000000000001,0.7800000000000001],\"matches\":\"x\",\"showticklabels\":false,\"title\":{\"text\":\"\"},\"dtick\":1},\"yaxis14\":{\"anchor\":\"x14\",\"domain\":[0.6866666666666665,0.9999999999999998],\"matches\":\"y\",\"showticklabels\":false,\"title\":{\"text\":\"\"}},\"xaxis15\":{\"anchor\":\"y15\",\"domain\":[0.8,0.9800000000000001],\"matches\":\"x\",\"showticklabels\":false,\"title\":{\"text\":\"\"},\"dtick\":1},\"yaxis15\":{\"anchor\":\"x15\",\"domain\":[0.6866666666666665,0.9999999999999998],\"matches\":\"y\",\"showticklabels\":false,\"title\":{\"text\":\"\"}},\"annotations\":[{\"showarrow\":false,\"text\":\"5\",\"x\":0.09000000000000001,\"xanchor\":\"center\",\"xref\":\"paper\",\"y\":0.9999999999999998,\"yanchor\":\"bottom\",\"yref\":\"paper\"},{\"showarrow\":false,\"text\":\"15\",\"x\":0.29000000000000004,\"xanchor\":\"center\",\"xref\":\"paper\",\"y\":0.9999999999999998,\"yanchor\":\"bottom\",\"yref\":\"paper\"},{\"showarrow\":false,\"text\":\"30\",\"x\":0.49000000000000005,\"xanchor\":\"center\",\"xref\":\"paper\",\"y\":0.9999999999999998,\"yanchor\":\"bottom\",\"yref\":\"paper\"},{\"showarrow\":false,\"text\":\"120\",\"x\":0.6900000000000002,\"xanchor\":\"center\",\"xref\":\"paper\",\"y\":0.9999999999999998,\"yanchor\":\"bottom\",\"yref\":\"paper\"},{\"showarrow\":false,\"text\":\"960\",\"x\":0.8900000000000001,\"xanchor\":\"center\",\"xref\":\"paper\",\"y\":0.9999999999999998,\"yanchor\":\"bottom\",\"yref\":\"paper\"},{\"showarrow\":false,\"text\":\"600\",\"textangle\":90,\"x\":0.9800000000000001,\"xanchor\":\"left\",\"xref\":\"paper\",\"y\":0.15666666666666665,\"yanchor\":\"middle\",\"yref\":\"paper\"},{\"showarrow\":false,\"text\":\"300\",\"textangle\":90,\"x\":0.9800000000000001,\"xanchor\":\"left\",\"xref\":\"paper\",\"y\":0.4999999999999999,\"yanchor\":\"middle\",\"yref\":\"paper\"},{\"showarrow\":false,\"text\":\"180\",\"textangle\":90,\"x\":0.9800000000000001,\"xanchor\":\"left\",\"xref\":\"paper\",\"y\":0.8433333333333332,\"yanchor\":\"middle\",\"yref\":\"paper\"},{\"showarrow\":false,\"text\":\"% of time\",\"textangle\":-90,\"x\":-0.04,\"xref\":\"paper\",\"y\":0.5,\"yref\":\"paper\"},{\"showarrow\":false,\"text\":\"Occupancy\",\"x\":0.5,\"xref\":\"paper\",\"y\":-0.1,\"yref\":\"paper\"}],\"legend\":{\"title\":{\"text\":\"area\"},\"tracegroupgap\":0},\"margin\":{\"t\":30,\"l\":10,\"r\":10,\"b\":10},\"barmode\":\"group\"},                        {\"responsive\": true}                    ).then(function(){\n                            \nvar gd = document.getElementById('919a507c-2261-4d3f-9136-1b3006cc7a95');\nvar x = new MutationObserver(function (mutations, observer) {{\n        var display = window.getComputedStyle(gd).display;\n        if (!display || display === 'none') {{\n            console.log([gd, 'removed!']);\n            Plotly.purge(gd);\n            observer.disconnect();\n        }}\n}});\n\n// Listen for the removal of the full notebook cells\nvar notebookContainer = gd.closest('#notebook-container');\nif (notebookContainer) {{\n    x.observe(notebookContainer, {childList: true});\n}}\n\n// Listen for the clearing of the current output cell\nvar outputEl = gd.closest('.output');\nif (outputEl) {{\n    x.observe(outputEl, {childList: true});\n}}\n\n                        })                };                });            </script>        </div>"
     },
     "metadata": {},
     "output_type": "display_data"
    }
   ],
   "source": [
    "fig = px.bar(\n",
    "    occupancy_df_ih,\n",
    "    x=\"occupancy\",\n",
    "    y=\"percent\",\n",
    "    facet_row=\"max_delay\",\n",
    "    facet_col=\"duration_minutes\",\n",
    "    color=\"area\",\n",
    "    barmode='group',\n",
    ")\n",
    "\n",
    "# fig.update_yaxes(matches=None)\n",
    "# make the facet labels nicer\n",
    "fig.for_each_annotation(lambda a: a.update(text=a.text.split(\"=\")[-1]))\n",
    "\n",
    "# shared axes titles\n",
    "fig.for_each_yaxis(lambda y: y.update(title = ''))\n",
    "fig.add_annotation(x=-0.04, y=0.5, text=\"% of time\", textangle=-90, xref=\"paper\", yref=\"paper\", showarrow=False)\n",
    "fig.for_each_xaxis(lambda y: y.update(title = ''))\n",
    "fig.add_annotation(x=0.5, y=-0.1, text=\"Occupancy\",  xref=\"paper\", yref=\"paper\", showarrow=False)\n",
    "\n",
    "# # legend style\n",
    "# fig.update_layout(legend=dict(\n",
    "#     orientation=\"h\",\n",
    "#     title=\"Method:\",\n",
    "#     y=1.15,\n",
    "#     xanchor=\"center\",\n",
    "#     x=0.5,\n",
    "# ))\n",
    "\n",
    "# ticks for all occupancy values\n",
    "fig.update_xaxes(dtick=1)\n",
    "\n",
    "\n",
    "fig.update_layout(\n",
    "    margin=dict(l=10,r=10,b=10,t=30)\n",
    ")\n",
    "\n",
    "fig.show()"
   ],
   "metadata": {
    "collapsed": false,
    "ExecuteTime": {
     "end_time": "2023-05-11T10:04:16.633145700Z",
     "start_time": "2023-05-11T10:04:16.311514400Z"
    }
   }
  },
  {
   "cell_type": "code",
   "execution_count": null,
   "outputs": [],
   "source": [],
   "metadata": {
    "collapsed": false
   }
  }
 ],
 "metadata": {
  "kernelspec": {
   "display_name": "Python 3",
   "language": "python",
   "name": "python3"
  },
  "language_info": {
   "codemirror_mode": {
    "name": "ipython",
    "version": 2
   },
   "file_extension": ".py",
   "mimetype": "text/x-python",
   "name": "python",
   "nbconvert_exporter": "python",
   "pygments_lexer": "ipython2",
   "version": "2.7.6"
  }
 },
 "nbformat": 4,
 "nbformat_minor": 0
}
