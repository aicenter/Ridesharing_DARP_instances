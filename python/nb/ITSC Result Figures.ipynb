{
 "cells": [
  {
   "cell_type": "code",
   "execution_count": 1,
   "outputs": [],
   "source": [
    "%load_ext autoreload"
   ],
   "metadata": {
    "collapsed": false,
    "ExecuteTime": {
     "end_time": "2023-05-21T15:45:11.727266Z",
     "start_time": "2023-05-21T15:45:11.653748Z"
    }
   }
  },
  {
   "cell_type": "code",
   "execution_count": 17,
   "outputs": [
    {
     "name": "stderr",
     "output_type": "stream",
     "text": [
      "[autoreload of _pydevd_bundle.pydevd_additional_thread_info_regular failed: Traceback (most recent call last):\n",
      "  File \"C:\\Program Files\\Python310\\lib\\site-packages\\IPython\\extensions\\autoreload.py\", line 257, in check\n",
      "    superreload(m, reload, self.old_objects)\n",
      "  File \"C:\\Program Files\\Python310\\lib\\site-packages\\IPython\\extensions\\autoreload.py\", line 480, in superreload\n",
      "    update_generic(old_obj, new_obj)\n",
      "  File \"C:\\Program Files\\Python310\\lib\\site-packages\\IPython\\extensions\\autoreload.py\", line 377, in update_generic\n",
      "    update(a, b)\n",
      "  File \"C:\\Program Files\\Python310\\lib\\site-packages\\IPython\\extensions\\autoreload.py\", line 345, in update_class\n",
      "    update_instances(old, new)\n",
      "  File \"C:\\Program Files\\Python310\\lib\\site-packages\\IPython\\extensions\\autoreload.py\", line 294, in update_instances\n",
      "    def update_instances(old, new):\n",
      "  File \"C:\\Users\\david\\AppData\\Local\\JetBrains\\Toolbox\\apps\\PyCharm-P\\ch-0\\231.8770.66\\plugins\\python\\helpers\\pydev\\_pydevd_bundle\\pydevd_trace_dispatch_regular.py\", line 391, in __call__\n",
      "    pydev_step_cmd = additional_info.pydev_step_cmd\n",
      "TypeError: descriptor 'pydev_step_cmd' for 'PyDBAdditionalThreadInfo' objects doesn't apply to a 'PyDBAdditionalThreadInfo' object\n",
      "]\n",
      "[autoreload of pydevd failed: Traceback (most recent call last):\n",
      "  File \"C:\\Program Files\\Python310\\lib\\site-packages\\IPython\\extensions\\autoreload.py\", line 257, in check\n",
      "    superreload(m, reload, self.old_objects)\n",
      "  File \"C:\\Program Files\\Python310\\lib\\site-packages\\IPython\\extensions\\autoreload.py\", line 480, in superreload\n",
      "    update_generic(old_obj, new_obj)\n",
      "  File \"C:\\Program Files\\Python310\\lib\\site-packages\\IPython\\extensions\\autoreload.py\", line 377, in update_generic\n",
      "    update(a, b)\n",
      "  File \"C:\\Program Files\\Python310\\lib\\site-packages\\IPython\\extensions\\autoreload.py\", line 345, in update_class\n",
      "    update_instances(old, new)\n",
      "  File \"C:\\Program Files\\Python310\\lib\\site-packages\\IPython\\extensions\\autoreload.py\", line 303, in update_instances\n",
      "    ref.__class__ = new\n",
      "TypeError: __class__ assignment: 'ThreadsSuspendedSingleNotification' object layout differs from 'ThreadsSuspendedSingleNotification'\n",
      "]\n"
     ]
    }
   ],
   "source": [
    "%autoreload"
   ],
   "metadata": {
    "collapsed": false,
    "ExecuteTime": {
     "end_time": "2023-05-17T09:35:21.384546200Z",
     "start_time": "2023-05-17T09:35:19.856546700Z"
    }
   }
  },
  {
   "cell_type": "code",
   "execution_count": 3,
   "outputs": [],
   "source": [
    "import logging\n",
    "import os\n",
    "from pathlib import Path\n",
    "import pandas as pd\n",
    "import yaml\n",
    "from typing import Dict, List\n",
    "import plotly.express as px\n",
    "import plotly.graph_objs as go\n",
    "import numpy as np\n",
    "\n",
    "from darpinstances.results import load_instance_series, instance_series_results_to_dataframe, load_instance_results, load_results_from_folder, get_processed_results, load_aggregate_stats_in_dir,load_occupancies_in_dir"
   ],
   "metadata": {
    "collapsed": false,
    "ExecuteTime": {
     "end_time": "2023-05-21T15:46:11.339543300Z",
     "start_time": "2023-05-21T15:46:11.272403800Z"
    }
   }
  },
  {
   "cell_type": "code",
   "execution_count": 7,
   "outputs": [],
   "source": [
    "# darp_data_path = r\"D:/Google Drive/AIC Experiment Data/DARP\"\n",
    "# darp_data_path = r\"C:/Google Drive/AIC Experiment Data/DARP\"\n",
    "darp_data_path = r\"C:/AIC Experiment Data/DARP\"\n",
    "\n",
    "fig_path = Path(\"C:/Workspaces/AIC/Ridesharing_DARP_instances/figures\")"
   ],
   "metadata": {
    "collapsed": false,
    "ExecuteTime": {
     "end_time": "2023-05-21T15:47:04.185112700Z",
     "start_time": "2023-05-21T15:47:04.150845600Z"
    }
   }
  },
  {
   "cell_type": "code",
   "execution_count": 8,
   "outputs": [],
   "source": [
    "final_results_path = Path(darp_data_path) / Path(\"ITSC_instance_paper/Results\")\n",
    "areas = [\n",
    "    'NYC',\n",
    "    'Manhattan',\n",
    "    'Chicago',\n",
    "    'DC'\n",
    "]"
   ],
   "metadata": {
    "collapsed": false,
    "ExecuteTime": {
     "end_time": "2023-05-21T15:47:04.703751700Z",
     "start_time": "2023-05-21T15:47:04.691760400Z"
    }
   }
  },
  {
   "cell_type": "code",
   "execution_count": 225,
   "outputs": [
    {
     "name": "stderr",
     "output_type": "stream",
     "text": [
      "14:28:28 [INFO] Loading aggregate stats in C:\\Google Drive\\AIC Experiment Data\\DARP\\ITSC_instance_paper\\Results\\NYC\n",
      "14:28:28 [WARNING] No solution found in folder: C:\\Google Drive\\AIC Experiment Data\\DARP\\ITSC_instance_paper\\Results\\NYC\\start_18-00\\duration_01_min\\max_delay_03_min\\halns\n",
      "14:28:28 [WARNING] No solution found in folder: C:\\Google Drive\\AIC Experiment Data\\DARP\\ITSC_instance_paper\\Results\\NYC\\start_18-00\\duration_01_min\\max_delay_03_min\\halns-ih\n",
      "14:28:28 [INFO] Loading json file from: C:\\Google Drive\\AIC Experiment Data\\DARP\\ITSC_instance_paper\\Results\\NYC\\start_18-00\\duration_01_min\\max_delay_03_min\\ih\\config.yaml-performance.json\n",
      "14:28:28 [INFO] Loading json file from: C:\\Google Drive\\AIC Experiment Data\\DARP\\ITSC_instance_paper\\Results\\NYC\\start_18-00\\duration_01_min\\max_delay_03_min\\ih\\config.yaml-solution.json\n",
      "14:28:28 [INFO] Loading experiment config from C:\\Google Drive\\AIC Experiment Data\\DARP\\ITSC_instance_paper\\Results\\NYC\\start_18-00\\duration_01_min\\max_delay_03_min\\ih\\config.yaml\n",
      "14:28:28 [INFO] Loading instance config from C:\\Google Drive\\AIC Experiment Data\\DARP\\ITSC_instance_paper\\Instances\\NYC\\instances\\start_18-00\\duration_01_min\\max_delay_03_min\\config.yaml\n",
      "14:28:28 [INFO] Loading json file from: C:\\Google Drive\\AIC Experiment Data\\DARP\\ITSC_instance_paper\\Results\\NYC\\start_18-00\\duration_01_min\\max_delay_03_min\\vga\\config.yaml-performance.json\n",
      "14:28:28 [INFO] Loading json file from: C:\\Google Drive\\AIC Experiment Data\\DARP\\ITSC_instance_paper\\Results\\NYC\\start_18-00\\duration_01_min\\max_delay_03_min\\vga\\config.yaml-solution.json\n",
      "14:28:28 [INFO] Loading experiment config from C:\\Google Drive\\AIC Experiment Data\\DARP\\ITSC_instance_paper\\Results\\NYC\\start_18-00\\duration_01_min\\max_delay_03_min\\vga\\config.yaml\n",
      "14:28:28 [INFO] Loading instance config from C:\\Google Drive\\AIC Experiment Data\\DARP\\ITSC_instance_paper\\Instances\\NYC\\instances\\start_18-00\\duration_01_min\\max_delay_03_min\\config.yaml\n",
      "14:28:28 [WARNING] No solution found in folder: C:\\Google Drive\\AIC Experiment Data\\DARP\\ITSC_instance_paper\\Results\\NYC\\start_18-00\\duration_01_min\\max_delay_05_min\\halns\n",
      "14:28:28 [WARNING] No solution found in folder: C:\\Google Drive\\AIC Experiment Data\\DARP\\ITSC_instance_paper\\Results\\NYC\\start_18-00\\duration_01_min\\max_delay_05_min\\halns-ih\n",
      "14:28:28 [INFO] Loading json file from: C:\\Google Drive\\AIC Experiment Data\\DARP\\ITSC_instance_paper\\Results\\NYC\\start_18-00\\duration_01_min\\max_delay_05_min\\ih\\config.yaml-performance.json\n",
      "14:28:28 [INFO] Loading json file from: C:\\Google Drive\\AIC Experiment Data\\DARP\\ITSC_instance_paper\\Results\\NYC\\start_18-00\\duration_01_min\\max_delay_05_min\\ih\\config.yaml-solution.json\n",
      "14:28:28 [INFO] Loading experiment config from C:\\Google Drive\\AIC Experiment Data\\DARP\\ITSC_instance_paper\\Results\\NYC\\start_18-00\\duration_01_min\\max_delay_05_min\\ih\\config.yaml\n",
      "14:28:28 [INFO] Loading instance config from C:\\Google Drive\\AIC Experiment Data\\DARP\\ITSC_instance_paper\\Instances\\NYC\\instances\\start_18-00\\duration_01_min\\max_delay_05_min\\config.yaml\n",
      "14:28:28 [INFO] Loading json file from: C:\\Google Drive\\AIC Experiment Data\\DARP\\ITSC_instance_paper\\Results\\NYC\\start_18-00\\duration_01_min\\max_delay_05_min\\vga\\config.yaml-performance.json\n",
      "14:28:28 [INFO] Loading json file from: C:\\Google Drive\\AIC Experiment Data\\DARP\\ITSC_instance_paper\\Results\\NYC\\start_18-00\\duration_01_min\\max_delay_05_min\\vga\\config.yaml-solution.json\n",
      "14:28:28 [INFO] Loading experiment config from C:\\Google Drive\\AIC Experiment Data\\DARP\\ITSC_instance_paper\\Results\\NYC\\start_18-00\\duration_01_min\\max_delay_05_min\\vga\\config.yaml\n",
      "14:28:28 [INFO] Loading instance config from C:\\Google Drive\\AIC Experiment Data\\DARP\\ITSC_instance_paper\\Instances\\NYC\\instances\\start_18-00\\duration_01_min\\max_delay_05_min\\config.yaml\n",
      "14:28:28 [WARNING] No solution found in folder: C:\\Google Drive\\AIC Experiment Data\\DARP\\ITSC_instance_paper\\Results\\NYC\\start_18-00\\duration_01_min\\max_delay_10_min\\halns\n",
      "14:28:28 [WARNING] No solution found in folder: C:\\Google Drive\\AIC Experiment Data\\DARP\\ITSC_instance_paper\\Results\\NYC\\start_18-00\\duration_01_min\\max_delay_10_min\\halns-ih\n",
      "14:28:28 [INFO] Loading json file from: C:\\Google Drive\\AIC Experiment Data\\DARP\\ITSC_instance_paper\\Results\\NYC\\start_18-00\\duration_01_min\\max_delay_10_min\\ih\\config.yaml-performance.json\n",
      "14:28:28 [INFO] Loading json file from: C:\\Google Drive\\AIC Experiment Data\\DARP\\ITSC_instance_paper\\Results\\NYC\\start_18-00\\duration_01_min\\max_delay_10_min\\ih\\config.yaml-solution.json\n",
      "14:28:28 [INFO] Loading experiment config from C:\\Google Drive\\AIC Experiment Data\\DARP\\ITSC_instance_paper\\Results\\NYC\\start_18-00\\duration_01_min\\max_delay_10_min\\ih\\config.yaml\n",
      "14:28:28 [INFO] Loading instance config from C:\\Google Drive\\AIC Experiment Data\\DARP\\ITSC_instance_paper\\Instances\\NYC\\instances\\start_18-00\\duration_01_min\\max_delay_10_min\\config.yaml\n",
      "14:28:28 [WARNING] No solution found in folder: C:\\Google Drive\\AIC Experiment Data\\DARP\\ITSC_instance_paper\\Results\\NYC\\start_18-00\\duration_01_min\\max_delay_10_min\\vga\n",
      "14:28:28 [WARNING] No solution found in folder: C:\\Google Drive\\AIC Experiment Data\\DARP\\ITSC_instance_paper\\Results\\NYC\\start_18-00\\duration_02_h\\max_delay_03_min\\halns\n",
      "14:28:28 [WARNING] No solution found in folder: C:\\Google Drive\\AIC Experiment Data\\DARP\\ITSC_instance_paper\\Results\\NYC\\start_18-00\\duration_02_h\\max_delay_03_min\\halns-ih\n",
      "14:28:28 [WARNING] No solution found in folder: C:\\Google Drive\\AIC Experiment Data\\DARP\\ITSC_instance_paper\\Results\\NYC\\start_18-00\\duration_02_h\\max_delay_03_min\\ih\n",
      "14:28:28 [WARNING] No solution found in folder: C:\\Google Drive\\AIC Experiment Data\\DARP\\ITSC_instance_paper\\Results\\NYC\\start_18-00\\duration_02_h\\max_delay_03_min\\vga\n",
      "14:28:28 [WARNING] No solution found in folder: C:\\Google Drive\\AIC Experiment Data\\DARP\\ITSC_instance_paper\\Results\\NYC\\start_18-00\\duration_02_h\\max_delay_05_min\\halns\n",
      "14:28:28 [WARNING] No solution found in folder: C:\\Google Drive\\AIC Experiment Data\\DARP\\ITSC_instance_paper\\Results\\NYC\\start_18-00\\duration_02_h\\max_delay_05_min\\halns-ih\n",
      "14:28:28 [WARNING] No solution found in folder: C:\\Google Drive\\AIC Experiment Data\\DARP\\ITSC_instance_paper\\Results\\NYC\\start_18-00\\duration_02_h\\max_delay_05_min\\ih\n",
      "14:28:28 [WARNING] No solution found in folder: C:\\Google Drive\\AIC Experiment Data\\DARP\\ITSC_instance_paper\\Results\\NYC\\start_18-00\\duration_02_h\\max_delay_05_min\\vga\n",
      "14:28:28 [WARNING] No solution found in folder: C:\\Google Drive\\AIC Experiment Data\\DARP\\ITSC_instance_paper\\Results\\NYC\\start_18-00\\duration_02_h\\max_delay_10_min\\halns\n",
      "14:28:28 [WARNING] No solution found in folder: C:\\Google Drive\\AIC Experiment Data\\DARP\\ITSC_instance_paper\\Results\\NYC\\start_18-00\\duration_02_h\\max_delay_10_min\\halns-ih\n",
      "14:28:28 [WARNING] No solution found in folder: C:\\Google Drive\\AIC Experiment Data\\DARP\\ITSC_instance_paper\\Results\\NYC\\start_18-00\\duration_02_h\\max_delay_10_min\\ih\n",
      "14:28:28 [WARNING] No solution found in folder: C:\\Google Drive\\AIC Experiment Data\\DARP\\ITSC_instance_paper\\Results\\NYC\\start_18-00\\duration_02_h\\max_delay_10_min\\vga\n",
      "14:28:28 [WARNING] No solution found in folder: C:\\Google Drive\\AIC Experiment Data\\DARP\\ITSC_instance_paper\\Results\\NYC\\start_18-00\\duration_02_min\\max_delay_03_min\\halns\n",
      "14:28:28 [WARNING] No solution found in folder: C:\\Google Drive\\AIC Experiment Data\\DARP\\ITSC_instance_paper\\Results\\NYC\\start_18-00\\duration_02_min\\max_delay_03_min\\halns-ih\n",
      "14:28:28 [INFO] Loading json file from: C:\\Google Drive\\AIC Experiment Data\\DARP\\ITSC_instance_paper\\Results\\NYC\\start_18-00\\duration_02_min\\max_delay_03_min\\ih\\config.yaml-performance.json\n",
      "14:28:28 [INFO] Loading json file from: C:\\Google Drive\\AIC Experiment Data\\DARP\\ITSC_instance_paper\\Results\\NYC\\start_18-00\\duration_02_min\\max_delay_03_min\\ih\\config.yaml-solution.json\n",
      "14:28:28 [INFO] Loading experiment config from C:\\Google Drive\\AIC Experiment Data\\DARP\\ITSC_instance_paper\\Results\\NYC\\start_18-00\\duration_02_min\\max_delay_03_min\\ih\\config.yaml\n",
      "14:28:28 [INFO] Loading instance config from C:\\Google Drive\\AIC Experiment Data\\DARP\\ITSC_instance_paper\\Instances\\NYC\\instances\\start_18-00\\duration_02_min\\max_delay_03_min\\config.yaml\n",
      "14:28:28 [INFO] Loading json file from: C:\\Google Drive\\AIC Experiment Data\\DARP\\ITSC_instance_paper\\Results\\NYC\\start_18-00\\duration_02_min\\max_delay_03_min\\vga\\config.yaml-performance.json\n",
      "14:28:28 [INFO] Loading json file from: C:\\Google Drive\\AIC Experiment Data\\DARP\\ITSC_instance_paper\\Results\\NYC\\start_18-00\\duration_02_min\\max_delay_03_min\\vga\\config.yaml-solution.json\n",
      "14:28:28 [INFO] Loading experiment config from C:\\Google Drive\\AIC Experiment Data\\DARP\\ITSC_instance_paper\\Results\\NYC\\start_18-00\\duration_02_min\\max_delay_03_min\\vga\\config.yaml\n",
      "14:28:28 [INFO] Loading instance config from C:\\Google Drive\\AIC Experiment Data\\DARP\\ITSC_instance_paper\\Instances\\NYC\\instances\\start_18-00\\duration_02_min\\max_delay_03_min\\config.yaml\n",
      "14:28:28 [WARNING] No solution found in folder: C:\\Google Drive\\AIC Experiment Data\\DARP\\ITSC_instance_paper\\Results\\NYC\\start_18-00\\duration_02_min\\max_delay_05_min\\halns\n",
      "14:28:28 [WARNING] No solution found in folder: C:\\Google Drive\\AIC Experiment Data\\DARP\\ITSC_instance_paper\\Results\\NYC\\start_18-00\\duration_02_min\\max_delay_05_min\\halns-ih\n",
      "14:28:28 [INFO] Loading json file from: C:\\Google Drive\\AIC Experiment Data\\DARP\\ITSC_instance_paper\\Results\\NYC\\start_18-00\\duration_02_min\\max_delay_05_min\\ih\\config.yaml-performance.json\n",
      "14:28:28 [INFO] Loading json file from: C:\\Google Drive\\AIC Experiment Data\\DARP\\ITSC_instance_paper\\Results\\NYC\\start_18-00\\duration_02_min\\max_delay_05_min\\ih\\config.yaml-solution.json\n",
      "14:28:28 [INFO] Loading experiment config from C:\\Google Drive\\AIC Experiment Data\\DARP\\ITSC_instance_paper\\Results\\NYC\\start_18-00\\duration_02_min\\max_delay_05_min\\ih\\config.yaml\n",
      "14:28:28 [INFO] Loading instance config from C:\\Google Drive\\AIC Experiment Data\\DARP\\ITSC_instance_paper\\Instances\\NYC\\instances\\start_18-00\\duration_02_min\\max_delay_05_min\\config.yaml\n",
      "14:28:28 [WARNING] No solution found in folder: C:\\Google Drive\\AIC Experiment Data\\DARP\\ITSC_instance_paper\\Results\\NYC\\start_18-00\\duration_02_min\\max_delay_05_min\\vga\n",
      "14:28:28 [WARNING] No solution found in folder: C:\\Google Drive\\AIC Experiment Data\\DARP\\ITSC_instance_paper\\Results\\NYC\\start_18-00\\duration_02_min\\max_delay_10_min\\halns\n",
      "14:28:28 [WARNING] No solution found in folder: C:\\Google Drive\\AIC Experiment Data\\DARP\\ITSC_instance_paper\\Results\\NYC\\start_18-00\\duration_02_min\\max_delay_10_min\\halns-ih\n",
      "14:28:28 [INFO] Loading json file from: C:\\Google Drive\\AIC Experiment Data\\DARP\\ITSC_instance_paper\\Results\\NYC\\start_18-00\\duration_02_min\\max_delay_10_min\\ih\\config.yaml-performance.json\n",
      "14:28:28 [INFO] Loading json file from: C:\\Google Drive\\AIC Experiment Data\\DARP\\ITSC_instance_paper\\Results\\NYC\\start_18-00\\duration_02_min\\max_delay_10_min\\ih\\config.yaml-solution.json\n",
      "14:28:28 [INFO] Loading experiment config from C:\\Google Drive\\AIC Experiment Data\\DARP\\ITSC_instance_paper\\Results\\NYC\\start_18-00\\duration_02_min\\max_delay_10_min\\ih\\config.yaml\n",
      "14:28:28 [INFO] Loading instance config from C:\\Google Drive\\AIC Experiment Data\\DARP\\ITSC_instance_paper\\Instances\\NYC\\instances\\start_18-00\\duration_02_min\\max_delay_10_min\\config.yaml\n",
      "14:28:28 [WARNING] No solution found in folder: C:\\Google Drive\\AIC Experiment Data\\DARP\\ITSC_instance_paper\\Results\\NYC\\start_18-00\\duration_02_min\\max_delay_10_min\\vga\n",
      "14:28:28 [WARNING] No solution found in folder: C:\\Google Drive\\AIC Experiment Data\\DARP\\ITSC_instance_paper\\Results\\NYC\\start_18-00\\duration_05_min\\max_delay_03_min\\halns\n",
      "14:28:28 [WARNING] No solution found in folder: C:\\Google Drive\\AIC Experiment Data\\DARP\\ITSC_instance_paper\\Results\\NYC\\start_18-00\\duration_05_min\\max_delay_03_min\\halns-ih\n",
      "14:28:28 [INFO] Loading json file from: C:\\Google Drive\\AIC Experiment Data\\DARP\\ITSC_instance_paper\\Results\\NYC\\start_18-00\\duration_05_min\\max_delay_03_min\\ih\\config.yaml-performance.json\n",
      "14:28:28 [INFO] Loading json file from: C:\\Google Drive\\AIC Experiment Data\\DARP\\ITSC_instance_paper\\Results\\NYC\\start_18-00\\duration_05_min\\max_delay_03_min\\ih\\config.yaml-solution.json\n",
      "14:28:28 [INFO] Loading experiment config from C:\\Google Drive\\AIC Experiment Data\\DARP\\ITSC_instance_paper\\Results\\NYC\\start_18-00\\duration_05_min\\max_delay_03_min\\ih\\config.yaml\n",
      "14:28:28 [INFO] Loading instance config from C:\\Google Drive\\AIC Experiment Data\\DARP\\ITSC_instance_paper\\Instances\\NYC\\instances\\start_18-00\\duration_05_min\\max_delay_03_min\\config.yaml\n",
      "14:28:28 [WARNING] No solution found in folder: C:\\Google Drive\\AIC Experiment Data\\DARP\\ITSC_instance_paper\\Results\\NYC\\start_18-00\\duration_05_min\\max_delay_03_min\\vga\n",
      "14:28:28 [WARNING] No solution found in folder: C:\\Google Drive\\AIC Experiment Data\\DARP\\ITSC_instance_paper\\Results\\NYC\\start_18-00\\duration_05_min\\max_delay_05_min\\halns\n",
      "14:28:28 [WARNING] No solution found in folder: C:\\Google Drive\\AIC Experiment Data\\DARP\\ITSC_instance_paper\\Results\\NYC\\start_18-00\\duration_05_min\\max_delay_05_min\\halns-ih\n",
      "14:28:28 [INFO] Loading json file from: C:\\Google Drive\\AIC Experiment Data\\DARP\\ITSC_instance_paper\\Results\\NYC\\start_18-00\\duration_05_min\\max_delay_05_min\\ih\\config.yaml-performance.json\n",
      "14:28:28 [INFO] Loading json file from: C:\\Google Drive\\AIC Experiment Data\\DARP\\ITSC_instance_paper\\Results\\NYC\\start_18-00\\duration_05_min\\max_delay_05_min\\ih\\config.yaml-solution.json\n",
      "14:28:28 [INFO] Loading experiment config from C:\\Google Drive\\AIC Experiment Data\\DARP\\ITSC_instance_paper\\Results\\NYC\\start_18-00\\duration_05_min\\max_delay_05_min\\ih\\config.yaml\n",
      "14:28:28 [INFO] Loading instance config from C:\\Google Drive\\AIC Experiment Data\\DARP\\ITSC_instance_paper\\Instances\\NYC\\instances\\start_18-00\\duration_05_min\\max_delay_05_min\\config.yaml\n",
      "14:28:28 [WARNING] No solution found in folder: C:\\Google Drive\\AIC Experiment Data\\DARP\\ITSC_instance_paper\\Results\\NYC\\start_18-00\\duration_05_min\\max_delay_05_min\\vga\n",
      "14:28:28 [WARNING] No solution found in folder: C:\\Google Drive\\AIC Experiment Data\\DARP\\ITSC_instance_paper\\Results\\NYC\\start_18-00\\duration_05_min\\max_delay_10_min\\halns\n",
      "14:28:28 [WARNING] No solution found in folder: C:\\Google Drive\\AIC Experiment Data\\DARP\\ITSC_instance_paper\\Results\\NYC\\start_18-00\\duration_05_min\\max_delay_10_min\\halns-ih\n",
      "14:28:28 [INFO] Loading json file from: C:\\Google Drive\\AIC Experiment Data\\DARP\\ITSC_instance_paper\\Results\\NYC\\start_18-00\\duration_05_min\\max_delay_10_min\\ih\\config.yaml-performance.json\n",
      "14:28:28 [INFO] Loading json file from: C:\\Google Drive\\AIC Experiment Data\\DARP\\ITSC_instance_paper\\Results\\NYC\\start_18-00\\duration_05_min\\max_delay_10_min\\ih\\config.yaml-solution.json\n",
      "14:28:28 [INFO] Loading experiment config from C:\\Google Drive\\AIC Experiment Data\\DARP\\ITSC_instance_paper\\Results\\NYC\\start_18-00\\duration_05_min\\max_delay_10_min\\ih\\config.yaml\n",
      "14:28:28 [INFO] Loading instance config from C:\\Google Drive\\AIC Experiment Data\\DARP\\ITSC_instance_paper\\Instances\\NYC\\instances\\start_18-00\\duration_05_min\\max_delay_10_min\\config.yaml\n",
      "14:28:28 [WARNING] No solution found in folder: C:\\Google Drive\\AIC Experiment Data\\DARP\\ITSC_instance_paper\\Results\\NYC\\start_18-00\\duration_05_min\\max_delay_10_min\\vga\n",
      "14:28:28 [WARNING] No solution found in folder: C:\\Google Drive\\AIC Experiment Data\\DARP\\ITSC_instance_paper\\Results\\NYC\\start_18-00\\duration_15_min\\max_delay_03_min\\halns\n",
      "14:28:28 [WARNING] No solution found in folder: C:\\Google Drive\\AIC Experiment Data\\DARP\\ITSC_instance_paper\\Results\\NYC\\start_18-00\\duration_15_min\\max_delay_03_min\\halns-ih\n",
      "14:28:28 [INFO] Loading json file from: C:\\Google Drive\\AIC Experiment Data\\DARP\\ITSC_instance_paper\\Results\\NYC\\start_18-00\\duration_15_min\\max_delay_03_min\\ih\\config.yaml-performance.json\n",
      "14:28:28 [INFO] Loading json file from: C:\\Google Drive\\AIC Experiment Data\\DARP\\ITSC_instance_paper\\Results\\NYC\\start_18-00\\duration_15_min\\max_delay_03_min\\ih\\config.yaml-solution.json\n",
      "14:28:29 [INFO] Loading experiment config from C:\\Google Drive\\AIC Experiment Data\\DARP\\ITSC_instance_paper\\Results\\NYC\\start_18-00\\duration_15_min\\max_delay_03_min\\ih\\config.yaml\n",
      "14:28:29 [INFO] Loading instance config from C:\\Google Drive\\AIC Experiment Data\\DARP\\ITSC_instance_paper\\Instances\\NYC\\instances\\start_18-00\\duration_15_min\\max_delay_03_min\\config.yaml\n",
      "14:28:29 [WARNING] No solution found in folder: C:\\Google Drive\\AIC Experiment Data\\DARP\\ITSC_instance_paper\\Results\\NYC\\start_18-00\\duration_15_min\\max_delay_03_min\\vga\n",
      "14:28:29 [WARNING] No solution found in folder: C:\\Google Drive\\AIC Experiment Data\\DARP\\ITSC_instance_paper\\Results\\NYC\\start_18-00\\duration_15_min\\max_delay_05_min\\halns\n",
      "14:28:29 [WARNING] No solution found in folder: C:\\Google Drive\\AIC Experiment Data\\DARP\\ITSC_instance_paper\\Results\\NYC\\start_18-00\\duration_15_min\\max_delay_05_min\\halns-ih\n",
      "14:28:29 [INFO] Loading json file from: C:\\Google Drive\\AIC Experiment Data\\DARP\\ITSC_instance_paper\\Results\\NYC\\start_18-00\\duration_15_min\\max_delay_05_min\\ih\\config.yaml-performance.json\n",
      "14:28:29 [INFO] Loading json file from: C:\\Google Drive\\AIC Experiment Data\\DARP\\ITSC_instance_paper\\Results\\NYC\\start_18-00\\duration_15_min\\max_delay_05_min\\ih\\config.yaml-solution.json\n",
      "14:28:29 [INFO] Loading experiment config from C:\\Google Drive\\AIC Experiment Data\\DARP\\ITSC_instance_paper\\Results\\NYC\\start_18-00\\duration_15_min\\max_delay_05_min\\ih\\config.yaml\n",
      "14:28:29 [INFO] Loading instance config from C:\\Google Drive\\AIC Experiment Data\\DARP\\ITSC_instance_paper\\Instances\\NYC\\instances\\start_18-00\\duration_15_min\\max_delay_05_min\\config.yaml\n",
      "14:28:29 [WARNING] No solution found in folder: C:\\Google Drive\\AIC Experiment Data\\DARP\\ITSC_instance_paper\\Results\\NYC\\start_18-00\\duration_15_min\\max_delay_05_min\\vga\n",
      "14:28:29 [WARNING] No solution found in folder: C:\\Google Drive\\AIC Experiment Data\\DARP\\ITSC_instance_paper\\Results\\NYC\\start_18-00\\duration_15_min\\max_delay_10_min\\halns\n",
      "14:28:29 [WARNING] No solution found in folder: C:\\Google Drive\\AIC Experiment Data\\DARP\\ITSC_instance_paper\\Results\\NYC\\start_18-00\\duration_15_min\\max_delay_10_min\\halns-ih\n",
      "14:28:29 [INFO] Loading json file from: C:\\Google Drive\\AIC Experiment Data\\DARP\\ITSC_instance_paper\\Results\\NYC\\start_18-00\\duration_15_min\\max_delay_10_min\\ih\\config.yaml-performance.json\n",
      "14:28:29 [INFO] Loading json file from: C:\\Google Drive\\AIC Experiment Data\\DARP\\ITSC_instance_paper\\Results\\NYC\\start_18-00\\duration_15_min\\max_delay_10_min\\ih\\config.yaml-solution.json\n",
      "14:28:29 [INFO] Loading experiment config from C:\\Google Drive\\AIC Experiment Data\\DARP\\ITSC_instance_paper\\Results\\NYC\\start_18-00\\duration_15_min\\max_delay_10_min\\ih\\config.yaml\n",
      "14:28:29 [INFO] Loading instance config from C:\\Google Drive\\AIC Experiment Data\\DARP\\ITSC_instance_paper\\Instances\\NYC\\instances\\start_18-00\\duration_15_min\\max_delay_10_min\\config.yaml\n",
      "14:28:29 [WARNING] No solution found in folder: C:\\Google Drive\\AIC Experiment Data\\DARP\\ITSC_instance_paper\\Results\\NYC\\start_18-00\\duration_15_min\\max_delay_10_min\\vga\n",
      "14:28:29 [WARNING] No solution found in folder: C:\\Google Drive\\AIC Experiment Data\\DARP\\ITSC_instance_paper\\Results\\NYC\\start_18-00\\duration_16_h\\max_delay_03_min\\halns\n",
      "14:28:29 [WARNING] No solution found in folder: C:\\Google Drive\\AIC Experiment Data\\DARP\\ITSC_instance_paper\\Results\\NYC\\start_18-00\\duration_16_h\\max_delay_03_min\\halns-ih\n",
      "14:28:29 [WARNING] No solution found in folder: C:\\Google Drive\\AIC Experiment Data\\DARP\\ITSC_instance_paper\\Results\\NYC\\start_18-00\\duration_16_h\\max_delay_03_min\\ih\n",
      "14:28:29 [WARNING] No solution found in folder: C:\\Google Drive\\AIC Experiment Data\\DARP\\ITSC_instance_paper\\Results\\NYC\\start_18-00\\duration_16_h\\max_delay_03_min\\vga\n",
      "14:28:29 [WARNING] No solution found in folder: C:\\Google Drive\\AIC Experiment Data\\DARP\\ITSC_instance_paper\\Results\\NYC\\start_18-00\\duration_16_h\\max_delay_05_min\\halns\n",
      "14:28:29 [WARNING] No solution found in folder: C:\\Google Drive\\AIC Experiment Data\\DARP\\ITSC_instance_paper\\Results\\NYC\\start_18-00\\duration_16_h\\max_delay_05_min\\halns-ih\n",
      "14:28:29 [WARNING] No solution found in folder: C:\\Google Drive\\AIC Experiment Data\\DARP\\ITSC_instance_paper\\Results\\NYC\\start_18-00\\duration_16_h\\max_delay_05_min\\ih\n",
      "14:28:29 [WARNING] No solution found in folder: C:\\Google Drive\\AIC Experiment Data\\DARP\\ITSC_instance_paper\\Results\\NYC\\start_18-00\\duration_16_h\\max_delay_05_min\\vga\n",
      "14:28:29 [WARNING] No solution found in folder: C:\\Google Drive\\AIC Experiment Data\\DARP\\ITSC_instance_paper\\Results\\NYC\\start_18-00\\duration_16_h\\max_delay_10_min\\halns\n",
      "14:28:29 [WARNING] No solution found in folder: C:\\Google Drive\\AIC Experiment Data\\DARP\\ITSC_instance_paper\\Results\\NYC\\start_18-00\\duration_16_h\\max_delay_10_min\\halns-ih\n",
      "14:28:29 [WARNING] No solution found in folder: C:\\Google Drive\\AIC Experiment Data\\DARP\\ITSC_instance_paper\\Results\\NYC\\start_18-00\\duration_16_h\\max_delay_10_min\\ih\n",
      "14:28:29 [WARNING] No solution found in folder: C:\\Google Drive\\AIC Experiment Data\\DARP\\ITSC_instance_paper\\Results\\NYC\\start_18-00\\duration_16_h\\max_delay_10_min\\vga\n",
      "14:28:29 [WARNING] No solution found in folder: C:\\Google Drive\\AIC Experiment Data\\DARP\\ITSC_instance_paper\\Results\\NYC\\start_18-00\\duration_30_min\\max_delay_03_min\\halns\n",
      "14:28:29 [WARNING] No solution found in folder: C:\\Google Drive\\AIC Experiment Data\\DARP\\ITSC_instance_paper\\Results\\NYC\\start_18-00\\duration_30_min\\max_delay_03_min\\halns-ih\n",
      "14:28:29 [INFO] Loading json file from: C:\\Google Drive\\AIC Experiment Data\\DARP\\ITSC_instance_paper\\Results\\NYC\\start_18-00\\duration_30_min\\max_delay_03_min\\ih\\config.yaml-performance.json\n",
      "14:28:29 [INFO] Loading json file from: C:\\Google Drive\\AIC Experiment Data\\DARP\\ITSC_instance_paper\\Results\\NYC\\start_18-00\\duration_30_min\\max_delay_03_min\\ih\\config.yaml-solution.json\n",
      "14:28:29 [INFO] Loading experiment config from C:\\Google Drive\\AIC Experiment Data\\DARP\\ITSC_instance_paper\\Results\\NYC\\start_18-00\\duration_30_min\\max_delay_03_min\\ih\\config.yaml\n",
      "14:28:29 [INFO] Loading instance config from C:\\Google Drive\\AIC Experiment Data\\DARP\\ITSC_instance_paper\\Instances\\NYC\\instances\\start_18-00\\duration_30_min\\max_delay_03_min\\config.yaml\n",
      "14:28:29 [WARNING] No solution found in folder: C:\\Google Drive\\AIC Experiment Data\\DARP\\ITSC_instance_paper\\Results\\NYC\\start_18-00\\duration_30_min\\max_delay_03_min\\vga\n",
      "14:28:29 [WARNING] No solution found in folder: C:\\Google Drive\\AIC Experiment Data\\DARP\\ITSC_instance_paper\\Results\\NYC\\start_18-00\\duration_30_min\\max_delay_05_min\\halns\n",
      "14:28:29 [WARNING] No solution found in folder: C:\\Google Drive\\AIC Experiment Data\\DARP\\ITSC_instance_paper\\Results\\NYC\\start_18-00\\duration_30_min\\max_delay_05_min\\halns-ih\n",
      "14:28:29 [INFO] Loading json file from: C:\\Google Drive\\AIC Experiment Data\\DARP\\ITSC_instance_paper\\Results\\NYC\\start_18-00\\duration_30_min\\max_delay_05_min\\ih\\config.yaml-performance.json\n",
      "14:28:29 [INFO] Loading json file from: C:\\Google Drive\\AIC Experiment Data\\DARP\\ITSC_instance_paper\\Results\\NYC\\start_18-00\\duration_30_min\\max_delay_05_min\\ih\\config.yaml-solution.json\n",
      "14:28:30 [INFO] Loading experiment config from C:\\Google Drive\\AIC Experiment Data\\DARP\\ITSC_instance_paper\\Results\\NYC\\start_18-00\\duration_30_min\\max_delay_05_min\\ih\\config.yaml\n",
      "14:28:30 [INFO] Loading instance config from C:\\Google Drive\\AIC Experiment Data\\DARP\\ITSC_instance_paper\\Instances\\NYC\\instances\\start_18-00\\duration_30_min\\max_delay_05_min\\config.yaml\n",
      "14:28:30 [WARNING] No solution found in folder: C:\\Google Drive\\AIC Experiment Data\\DARP\\ITSC_instance_paper\\Results\\NYC\\start_18-00\\duration_30_min\\max_delay_05_min\\vga\n",
      "14:28:30 [WARNING] No solution found in folder: C:\\Google Drive\\AIC Experiment Data\\DARP\\ITSC_instance_paper\\Results\\NYC\\start_18-00\\duration_30_min\\max_delay_10_min\\halns\n",
      "14:28:30 [WARNING] No solution found in folder: C:\\Google Drive\\AIC Experiment Data\\DARP\\ITSC_instance_paper\\Results\\NYC\\start_18-00\\duration_30_min\\max_delay_10_min\\halns-ih\n",
      "14:28:30 [INFO] Loading json file from: C:\\Google Drive\\AIC Experiment Data\\DARP\\ITSC_instance_paper\\Results\\NYC\\start_18-00\\duration_30_min\\max_delay_10_min\\ih\\config.yaml-performance.json\n",
      "14:28:30 [INFO] Loading json file from: C:\\Google Drive\\AIC Experiment Data\\DARP\\ITSC_instance_paper\\Results\\NYC\\start_18-00\\duration_30_min\\max_delay_10_min\\ih\\config.yaml-solution.json\n",
      "14:28:30 [INFO] Loading experiment config from C:\\Google Drive\\AIC Experiment Data\\DARP\\ITSC_instance_paper\\Results\\NYC\\start_18-00\\duration_30_min\\max_delay_10_min\\ih\\config.yaml\n",
      "14:28:30 [INFO] Loading instance config from C:\\Google Drive\\AIC Experiment Data\\DARP\\ITSC_instance_paper\\Instances\\NYC\\instances\\start_18-00\\duration_30_min\\max_delay_10_min\\config.yaml\n",
      "14:28:30 [WARNING] No solution found in folder: C:\\Google Drive\\AIC Experiment Data\\DARP\\ITSC_instance_paper\\Results\\NYC\\start_18-00\\duration_30_min\\max_delay_10_min\\vga\n",
      "14:28:30 [WARNING] No solution found in folder: C:\\Google Drive\\AIC Experiment Data\\DARP\\ITSC_instance_paper\\Results\\NYC\\start_18-00\\duration_30_s\\max_delay_03_min\\halns\n",
      "14:28:30 [WARNING] No solution found in folder: C:\\Google Drive\\AIC Experiment Data\\DARP\\ITSC_instance_paper\\Results\\NYC\\start_18-00\\duration_30_s\\max_delay_03_min\\halns-ih\n",
      "14:28:30 [INFO] Loading json file from: C:\\Google Drive\\AIC Experiment Data\\DARP\\ITSC_instance_paper\\Results\\NYC\\start_18-00\\duration_30_s\\max_delay_03_min\\ih\\config.yaml-performance.json\n",
      "14:28:30 [INFO] Loading json file from: C:\\Google Drive\\AIC Experiment Data\\DARP\\ITSC_instance_paper\\Results\\NYC\\start_18-00\\duration_30_s\\max_delay_03_min\\ih\\config.yaml-solution.json\n",
      "14:28:30 [INFO] Loading experiment config from C:\\Google Drive\\AIC Experiment Data\\DARP\\ITSC_instance_paper\\Results\\NYC\\start_18-00\\duration_30_s\\max_delay_03_min\\ih\\config.yaml\n",
      "14:28:30 [INFO] Loading instance config from C:\\Google Drive\\AIC Experiment Data\\DARP\\ITSC_instance_paper\\Instances\\NYC\\instances\\start_18-00\\duration_30_s\\max_delay_03_min\\config.yaml\n",
      "14:28:30 [INFO] Loading json file from: C:\\Google Drive\\AIC Experiment Data\\DARP\\ITSC_instance_paper\\Results\\NYC\\start_18-00\\duration_30_s\\max_delay_03_min\\vga\\config.yaml-performance.json\n",
      "14:28:30 [INFO] Loading json file from: C:\\Google Drive\\AIC Experiment Data\\DARP\\ITSC_instance_paper\\Results\\NYC\\start_18-00\\duration_30_s\\max_delay_03_min\\vga\\config.yaml-solution.json\n",
      "14:28:30 [INFO] Loading experiment config from C:\\Google Drive\\AIC Experiment Data\\DARP\\ITSC_instance_paper\\Results\\NYC\\start_18-00\\duration_30_s\\max_delay_03_min\\vga\\config.yaml\n",
      "14:28:30 [INFO] Loading instance config from C:\\Google Drive\\AIC Experiment Data\\DARP\\ITSC_instance_paper\\Instances\\NYC\\instances\\start_18-00\\duration_30_s\\max_delay_03_min\\config.yaml\n",
      "14:28:30 [WARNING] No solution found in folder: C:\\Google Drive\\AIC Experiment Data\\DARP\\ITSC_instance_paper\\Results\\NYC\\start_18-00\\duration_30_s\\max_delay_05_min\\halns\n",
      "14:28:30 [WARNING] No solution found in folder: C:\\Google Drive\\AIC Experiment Data\\DARP\\ITSC_instance_paper\\Results\\NYC\\start_18-00\\duration_30_s\\max_delay_05_min\\halns-ih\n",
      "14:28:30 [INFO] Loading json file from: C:\\Google Drive\\AIC Experiment Data\\DARP\\ITSC_instance_paper\\Results\\NYC\\start_18-00\\duration_30_s\\max_delay_05_min\\ih\\config.yaml-performance.json\n",
      "14:28:30 [INFO] Loading json file from: C:\\Google Drive\\AIC Experiment Data\\DARP\\ITSC_instance_paper\\Results\\NYC\\start_18-00\\duration_30_s\\max_delay_05_min\\ih\\config.yaml-solution.json\n",
      "14:28:30 [INFO] Loading experiment config from C:\\Google Drive\\AIC Experiment Data\\DARP\\ITSC_instance_paper\\Results\\NYC\\start_18-00\\duration_30_s\\max_delay_05_min\\ih\\config.yaml\n",
      "14:28:30 [INFO] Loading instance config from C:\\Google Drive\\AIC Experiment Data\\DARP\\ITSC_instance_paper\\Instances\\NYC\\instances\\start_18-00\\duration_30_s\\max_delay_05_min\\config.yaml\n",
      "14:28:30 [INFO] Loading json file from: C:\\Google Drive\\AIC Experiment Data\\DARP\\ITSC_instance_paper\\Results\\NYC\\start_18-00\\duration_30_s\\max_delay_05_min\\vga\\config.yaml-performance.json\n",
      "14:28:30 [INFO] Loading json file from: C:\\Google Drive\\AIC Experiment Data\\DARP\\ITSC_instance_paper\\Results\\NYC\\start_18-00\\duration_30_s\\max_delay_05_min\\vga\\config.yaml-solution.json\n",
      "14:28:30 [INFO] Loading experiment config from C:\\Google Drive\\AIC Experiment Data\\DARP\\ITSC_instance_paper\\Results\\NYC\\start_18-00\\duration_30_s\\max_delay_05_min\\vga\\config.yaml\n",
      "14:28:30 [INFO] Loading instance config from C:\\Google Drive\\AIC Experiment Data\\DARP\\ITSC_instance_paper\\Instances\\NYC\\instances\\start_18-00\\duration_30_s\\max_delay_05_min\\config.yaml\n",
      "14:28:30 [WARNING] No solution found in folder: C:\\Google Drive\\AIC Experiment Data\\DARP\\ITSC_instance_paper\\Results\\NYC\\start_18-00\\duration_30_s\\max_delay_10_min\\halns\n",
      "14:28:30 [WARNING] No solution found in folder: C:\\Google Drive\\AIC Experiment Data\\DARP\\ITSC_instance_paper\\Results\\NYC\\start_18-00\\duration_30_s\\max_delay_10_min\\halns-ih\n",
      "14:28:30 [INFO] Loading json file from: C:\\Google Drive\\AIC Experiment Data\\DARP\\ITSC_instance_paper\\Results\\NYC\\start_18-00\\duration_30_s\\max_delay_10_min\\ih\\config.yaml-performance.json\n",
      "14:28:30 [INFO] Loading json file from: C:\\Google Drive\\AIC Experiment Data\\DARP\\ITSC_instance_paper\\Results\\NYC\\start_18-00\\duration_30_s\\max_delay_10_min\\ih\\config.yaml-solution.json\n",
      "14:28:30 [INFO] Loading experiment config from C:\\Google Drive\\AIC Experiment Data\\DARP\\ITSC_instance_paper\\Results\\NYC\\start_18-00\\duration_30_s\\max_delay_10_min\\ih\\config.yaml\n",
      "14:28:30 [INFO] Loading instance config from C:\\Google Drive\\AIC Experiment Data\\DARP\\ITSC_instance_paper\\Instances\\NYC\\instances\\start_18-00\\duration_30_s\\max_delay_10_min\\config.yaml\n",
      "14:28:30 [INFO] Loading json file from: C:\\Google Drive\\AIC Experiment Data\\DARP\\ITSC_instance_paper\\Results\\NYC\\start_18-00\\duration_30_s\\max_delay_10_min\\vga\\config.yaml-performance.json\n",
      "14:28:30 [INFO] Loading json file from: C:\\Google Drive\\AIC Experiment Data\\DARP\\ITSC_instance_paper\\Results\\NYC\\start_18-00\\duration_30_s\\max_delay_10_min\\vga\\config.yaml-solution.json\n",
      "14:28:30 [INFO] Loading experiment config from C:\\Google Drive\\AIC Experiment Data\\DARP\\ITSC_instance_paper\\Results\\NYC\\start_18-00\\duration_30_s\\max_delay_10_min\\vga\\config.yaml\n",
      "14:28:30 [INFO] Loading instance config from C:\\Google Drive\\AIC Experiment Data\\DARP\\ITSC_instance_paper\\Instances\\NYC\\instances\\start_18-00\\duration_30_s\\max_delay_10_min\\config.yaml\n",
      "14:28:30 [INFO] Loading aggregate stats in C:\\Google Drive\\AIC Experiment Data\\DARP\\ITSC_instance_paper\\Results\\Manhattan\n",
      "14:28:30 [WARNING] No solution found in folder: C:\\Google Drive\\AIC Experiment Data\\DARP\\ITSC_instance_paper\\Results\\Manhattan\\start_18-00\\duration_01_min\\max_delay_03_min\\halns\n",
      "14:28:30 [WARNING] No solution found in folder: C:\\Google Drive\\AIC Experiment Data\\DARP\\ITSC_instance_paper\\Results\\Manhattan\\start_18-00\\duration_01_min\\max_delay_03_min\\halns-ih\n",
      "14:28:30 [INFO] Loading json file from: C:\\Google Drive\\AIC Experiment Data\\DARP\\ITSC_instance_paper\\Results\\Manhattan\\start_18-00\\duration_01_min\\max_delay_03_min\\ih\\config.yaml-performance.json\n",
      "14:28:30 [INFO] Loading json file from: C:\\Google Drive\\AIC Experiment Data\\DARP\\ITSC_instance_paper\\Results\\Manhattan\\start_18-00\\duration_01_min\\max_delay_03_min\\ih\\config.yaml-solution.json\n",
      "14:28:30 [INFO] Loading experiment config from C:\\Google Drive\\AIC Experiment Data\\DARP\\ITSC_instance_paper\\Results\\Manhattan\\start_18-00\\duration_01_min\\max_delay_03_min\\ih\\config.yaml\n",
      "14:28:30 [INFO] Loading instance config from C:\\Google Drive\\AIC Experiment Data\\DARP\\ITSC_instance_paper\\Instances\\Manhattan\\instances\\start_18-00\\duration_01_min\\max_delay_03_min\\config.yaml\n",
      "14:28:30 [INFO] Loading json file from: C:\\Google Drive\\AIC Experiment Data\\DARP\\ITSC_instance_paper\\Results\\Manhattan\\start_18-00\\duration_01_min\\max_delay_03_min\\vga\\config.yaml-performance.json\n",
      "14:28:30 [INFO] Loading json file from: C:\\Google Drive\\AIC Experiment Data\\DARP\\ITSC_instance_paper\\Results\\Manhattan\\start_18-00\\duration_01_min\\max_delay_03_min\\vga\\config.yaml-solution.json\n",
      "14:28:30 [INFO] Loading experiment config from C:\\Google Drive\\AIC Experiment Data\\DARP\\ITSC_instance_paper\\Results\\Manhattan\\start_18-00\\duration_01_min\\max_delay_03_min\\vga\\config.yaml\n",
      "14:28:30 [INFO] Loading instance config from C:\\Google Drive\\AIC Experiment Data\\DARP\\ITSC_instance_paper\\Instances\\Manhattan\\instances\\start_18-00\\duration_01_min\\max_delay_03_min\\config.yaml\n",
      "14:28:30 [WARNING] No solution found in folder: C:\\Google Drive\\AIC Experiment Data\\DARP\\ITSC_instance_paper\\Results\\Manhattan\\start_18-00\\duration_01_min\\max_delay_05_min\\halns\n",
      "14:28:30 [WARNING] No solution found in folder: C:\\Google Drive\\AIC Experiment Data\\DARP\\ITSC_instance_paper\\Results\\Manhattan\\start_18-00\\duration_01_min\\max_delay_05_min\\halns-ih\n",
      "14:28:30 [INFO] Loading json file from: C:\\Google Drive\\AIC Experiment Data\\DARP\\ITSC_instance_paper\\Results\\Manhattan\\start_18-00\\duration_01_min\\max_delay_05_min\\ih\\config.yaml-performance.json\n",
      "14:28:30 [INFO] Loading json file from: C:\\Google Drive\\AIC Experiment Data\\DARP\\ITSC_instance_paper\\Results\\Manhattan\\start_18-00\\duration_01_min\\max_delay_05_min\\ih\\config.yaml-solution.json\n",
      "14:28:30 [INFO] Loading experiment config from C:\\Google Drive\\AIC Experiment Data\\DARP\\ITSC_instance_paper\\Results\\Manhattan\\start_18-00\\duration_01_min\\max_delay_05_min\\ih\\config.yaml\n",
      "14:28:30 [INFO] Loading instance config from C:\\Google Drive\\AIC Experiment Data\\DARP\\ITSC_instance_paper\\Instances\\Manhattan\\instances\\start_18-00\\duration_01_min\\max_delay_05_min\\config.yaml\n",
      "14:28:30 [INFO] Loading json file from: C:\\Google Drive\\AIC Experiment Data\\DARP\\ITSC_instance_paper\\Results\\Manhattan\\start_18-00\\duration_01_min\\max_delay_05_min\\vga\\config.yaml-performance.json\n",
      "14:28:30 [INFO] Loading json file from: C:\\Google Drive\\AIC Experiment Data\\DARP\\ITSC_instance_paper\\Results\\Manhattan\\start_18-00\\duration_01_min\\max_delay_05_min\\vga\\config.yaml-solution.json\n",
      "14:28:30 [INFO] Loading experiment config from C:\\Google Drive\\AIC Experiment Data\\DARP\\ITSC_instance_paper\\Results\\Manhattan\\start_18-00\\duration_01_min\\max_delay_05_min\\vga\\config.yaml\n",
      "14:28:30 [INFO] Loading instance config from C:\\Google Drive\\AIC Experiment Data\\DARP\\ITSC_instance_paper\\Instances\\Manhattan\\instances\\start_18-00\\duration_01_min\\max_delay_05_min\\config.yaml\n",
      "14:28:30 [WARNING] No solution found in folder: C:\\Google Drive\\AIC Experiment Data\\DARP\\ITSC_instance_paper\\Results\\Manhattan\\start_18-00\\duration_01_min\\max_delay_10_min\\halns\n",
      "14:28:30 [WARNING] No solution found in folder: C:\\Google Drive\\AIC Experiment Data\\DARP\\ITSC_instance_paper\\Results\\Manhattan\\start_18-00\\duration_01_min\\max_delay_10_min\\halns-ih\n",
      "14:28:30 [INFO] Loading json file from: C:\\Google Drive\\AIC Experiment Data\\DARP\\ITSC_instance_paper\\Results\\Manhattan\\start_18-00\\duration_01_min\\max_delay_10_min\\ih\\config.yaml-performance.json\n",
      "14:28:30 [INFO] Loading json file from: C:\\Google Drive\\AIC Experiment Data\\DARP\\ITSC_instance_paper\\Results\\Manhattan\\start_18-00\\duration_01_min\\max_delay_10_min\\ih\\config.yaml-solution.json\n",
      "14:28:30 [INFO] Loading experiment config from C:\\Google Drive\\AIC Experiment Data\\DARP\\ITSC_instance_paper\\Results\\Manhattan\\start_18-00\\duration_01_min\\max_delay_10_min\\ih\\config.yaml\n",
      "14:28:30 [INFO] Loading instance config from C:\\Google Drive\\AIC Experiment Data\\DARP\\ITSC_instance_paper\\Instances\\Manhattan\\instances\\start_18-00\\duration_01_min\\max_delay_10_min\\config.yaml\n",
      "14:28:30 [WARNING] No solution found in folder: C:\\Google Drive\\AIC Experiment Data\\DARP\\ITSC_instance_paper\\Results\\Manhattan\\start_18-00\\duration_01_min\\max_delay_10_min\\vga\n",
      "14:28:30 [WARNING] No solution found in folder: C:\\Google Drive\\AIC Experiment Data\\DARP\\ITSC_instance_paper\\Results\\Manhattan\\start_18-00\\duration_02_h\\max_delay_03_min\\halns\n",
      "14:28:30 [WARNING] No solution found in folder: C:\\Google Drive\\AIC Experiment Data\\DARP\\ITSC_instance_paper\\Results\\Manhattan\\start_18-00\\duration_02_h\\max_delay_03_min\\halns-ih\n",
      "14:28:30 [WARNING] No solution found in folder: C:\\Google Drive\\AIC Experiment Data\\DARP\\ITSC_instance_paper\\Results\\Manhattan\\start_18-00\\duration_02_h\\max_delay_03_min\\ih\n",
      "14:28:30 [WARNING] No solution found in folder: C:\\Google Drive\\AIC Experiment Data\\DARP\\ITSC_instance_paper\\Results\\Manhattan\\start_18-00\\duration_02_h\\max_delay_03_min\\vga\n",
      "14:28:30 [WARNING] No solution found in folder: C:\\Google Drive\\AIC Experiment Data\\DARP\\ITSC_instance_paper\\Results\\Manhattan\\start_18-00\\duration_02_h\\max_delay_05_min\\halns\n",
      "14:28:30 [WARNING] No solution found in folder: C:\\Google Drive\\AIC Experiment Data\\DARP\\ITSC_instance_paper\\Results\\Manhattan\\start_18-00\\duration_02_h\\max_delay_05_min\\halns-ih\n",
      "14:28:30 [WARNING] No solution found in folder: C:\\Google Drive\\AIC Experiment Data\\DARP\\ITSC_instance_paper\\Results\\Manhattan\\start_18-00\\duration_02_h\\max_delay_05_min\\ih\n",
      "14:28:30 [WARNING] No solution found in folder: C:\\Google Drive\\AIC Experiment Data\\DARP\\ITSC_instance_paper\\Results\\Manhattan\\start_18-00\\duration_02_h\\max_delay_05_min\\vga\n",
      "14:28:30 [WARNING] No solution found in folder: C:\\Google Drive\\AIC Experiment Data\\DARP\\ITSC_instance_paper\\Results\\Manhattan\\start_18-00\\duration_02_h\\max_delay_10_min\\halns\n",
      "14:28:30 [WARNING] No solution found in folder: C:\\Google Drive\\AIC Experiment Data\\DARP\\ITSC_instance_paper\\Results\\Manhattan\\start_18-00\\duration_02_h\\max_delay_10_min\\halns-ih\n",
      "14:28:30 [WARNING] No solution found in folder: C:\\Google Drive\\AIC Experiment Data\\DARP\\ITSC_instance_paper\\Results\\Manhattan\\start_18-00\\duration_02_h\\max_delay_10_min\\ih\n",
      "14:28:30 [WARNING] No solution found in folder: C:\\Google Drive\\AIC Experiment Data\\DARP\\ITSC_instance_paper\\Results\\Manhattan\\start_18-00\\duration_02_h\\max_delay_10_min\\vga\n",
      "14:28:30 [WARNING] No solution found in folder: C:\\Google Drive\\AIC Experiment Data\\DARP\\ITSC_instance_paper\\Results\\Manhattan\\start_18-00\\duration_02_min\\max_delay_03_min\\halns\n",
      "14:28:30 [WARNING] No solution found in folder: C:\\Google Drive\\AIC Experiment Data\\DARP\\ITSC_instance_paper\\Results\\Manhattan\\start_18-00\\duration_02_min\\max_delay_03_min\\halns-ih\n",
      "14:28:30 [INFO] Loading json file from: C:\\Google Drive\\AIC Experiment Data\\DARP\\ITSC_instance_paper\\Results\\Manhattan\\start_18-00\\duration_02_min\\max_delay_03_min\\ih\\config.yaml-performance.json\n",
      "14:28:30 [INFO] Loading json file from: C:\\Google Drive\\AIC Experiment Data\\DARP\\ITSC_instance_paper\\Results\\Manhattan\\start_18-00\\duration_02_min\\max_delay_03_min\\ih\\config.yaml-solution.json\n",
      "14:28:30 [INFO] Loading experiment config from C:\\Google Drive\\AIC Experiment Data\\DARP\\ITSC_instance_paper\\Results\\Manhattan\\start_18-00\\duration_02_min\\max_delay_03_min\\ih\\config.yaml\n",
      "14:28:30 [INFO] Loading instance config from C:\\Google Drive\\AIC Experiment Data\\DARP\\ITSC_instance_paper\\Instances\\Manhattan\\instances\\start_18-00\\duration_02_min\\max_delay_03_min\\config.yaml\n",
      "14:28:30 [INFO] Loading json file from: C:\\Google Drive\\AIC Experiment Data\\DARP\\ITSC_instance_paper\\Results\\Manhattan\\start_18-00\\duration_02_min\\max_delay_03_min\\vga\\config.yaml-performance.json\n",
      "14:28:30 [INFO] Loading json file from: C:\\Google Drive\\AIC Experiment Data\\DARP\\ITSC_instance_paper\\Results\\Manhattan\\start_18-00\\duration_02_min\\max_delay_03_min\\vga\\config.yaml-solution.json\n",
      "14:28:30 [INFO] Loading experiment config from C:\\Google Drive\\AIC Experiment Data\\DARP\\ITSC_instance_paper\\Results\\Manhattan\\start_18-00\\duration_02_min\\max_delay_03_min\\vga\\config.yaml\n",
      "14:28:30 [INFO] Loading instance config from C:\\Google Drive\\AIC Experiment Data\\DARP\\ITSC_instance_paper\\Instances\\Manhattan\\instances\\start_18-00\\duration_02_min\\max_delay_03_min\\config.yaml\n",
      "14:28:30 [WARNING] No solution found in folder: C:\\Google Drive\\AIC Experiment Data\\DARP\\ITSC_instance_paper\\Results\\Manhattan\\start_18-00\\duration_02_min\\max_delay_05_min\\halns\n",
      "14:28:30 [WARNING] No solution found in folder: C:\\Google Drive\\AIC Experiment Data\\DARP\\ITSC_instance_paper\\Results\\Manhattan\\start_18-00\\duration_02_min\\max_delay_05_min\\halns-ih\n",
      "14:28:30 [INFO] Loading json file from: C:\\Google Drive\\AIC Experiment Data\\DARP\\ITSC_instance_paper\\Results\\Manhattan\\start_18-00\\duration_02_min\\max_delay_05_min\\ih\\config.yaml-performance.json\n",
      "14:28:30 [INFO] Loading json file from: C:\\Google Drive\\AIC Experiment Data\\DARP\\ITSC_instance_paper\\Results\\Manhattan\\start_18-00\\duration_02_min\\max_delay_05_min\\ih\\config.yaml-solution.json\n",
      "14:28:30 [INFO] Loading experiment config from C:\\Google Drive\\AIC Experiment Data\\DARP\\ITSC_instance_paper\\Results\\Manhattan\\start_18-00\\duration_02_min\\max_delay_05_min\\ih\\config.yaml\n",
      "14:28:30 [INFO] Loading instance config from C:\\Google Drive\\AIC Experiment Data\\DARP\\ITSC_instance_paper\\Instances\\Manhattan\\instances\\start_18-00\\duration_02_min\\max_delay_05_min\\config.yaml\n",
      "14:28:30 [INFO] Loading json file from: C:\\Google Drive\\AIC Experiment Data\\DARP\\ITSC_instance_paper\\Results\\Manhattan\\start_18-00\\duration_02_min\\max_delay_05_min\\vga\\config.yaml-performance.json\n",
      "14:28:30 [INFO] Loading json file from: C:\\Google Drive\\AIC Experiment Data\\DARP\\ITSC_instance_paper\\Results\\Manhattan\\start_18-00\\duration_02_min\\max_delay_05_min\\vga\\config.yaml-solution.json\n",
      "14:28:30 [INFO] Loading experiment config from C:\\Google Drive\\AIC Experiment Data\\DARP\\ITSC_instance_paper\\Results\\Manhattan\\start_18-00\\duration_02_min\\max_delay_05_min\\vga\\config.yaml\n",
      "14:28:30 [INFO] Loading instance config from C:\\Google Drive\\AIC Experiment Data\\DARP\\ITSC_instance_paper\\Instances\\Manhattan\\instances\\start_18-00\\duration_02_min\\max_delay_05_min\\config.yaml\n",
      "14:28:30 [WARNING] No solution found in folder: C:\\Google Drive\\AIC Experiment Data\\DARP\\ITSC_instance_paper\\Results\\Manhattan\\start_18-00\\duration_02_min\\max_delay_10_min\\halns\n",
      "14:28:30 [WARNING] No solution found in folder: C:\\Google Drive\\AIC Experiment Data\\DARP\\ITSC_instance_paper\\Results\\Manhattan\\start_18-00\\duration_02_min\\max_delay_10_min\\halns-ih\n",
      "14:28:30 [INFO] Loading json file from: C:\\Google Drive\\AIC Experiment Data\\DARP\\ITSC_instance_paper\\Results\\Manhattan\\start_18-00\\duration_02_min\\max_delay_10_min\\ih\\config.yaml-performance.json\n",
      "14:28:31 [INFO] Loading json file from: C:\\Google Drive\\AIC Experiment Data\\DARP\\ITSC_instance_paper\\Results\\Manhattan\\start_18-00\\duration_02_min\\max_delay_10_min\\ih\\config.yaml-solution.json\n",
      "14:28:31 [INFO] Loading experiment config from C:\\Google Drive\\AIC Experiment Data\\DARP\\ITSC_instance_paper\\Results\\Manhattan\\start_18-00\\duration_02_min\\max_delay_10_min\\ih\\config.yaml\n",
      "14:28:31 [INFO] Loading instance config from C:\\Google Drive\\AIC Experiment Data\\DARP\\ITSC_instance_paper\\Instances\\Manhattan\\instances\\start_18-00\\duration_02_min\\max_delay_10_min\\config.yaml\n",
      "14:28:31 [WARNING] No solution found in folder: C:\\Google Drive\\AIC Experiment Data\\DARP\\ITSC_instance_paper\\Results\\Manhattan\\start_18-00\\duration_02_min\\max_delay_10_min\\vga\n",
      "14:28:31 [WARNING] No solution found in folder: C:\\Google Drive\\AIC Experiment Data\\DARP\\ITSC_instance_paper\\Results\\Manhattan\\start_18-00\\duration_05_min\\max_delay_03_min\\halns\n",
      "14:28:31 [WARNING] No solution found in folder: C:\\Google Drive\\AIC Experiment Data\\DARP\\ITSC_instance_paper\\Results\\Manhattan\\start_18-00\\duration_05_min\\max_delay_03_min\\halns-ih\n",
      "14:28:31 [INFO] Loading json file from: C:\\Google Drive\\AIC Experiment Data\\DARP\\ITSC_instance_paper\\Results\\Manhattan\\start_18-00\\duration_05_min\\max_delay_03_min\\ih\\config.yaml-performance.json\n",
      "14:28:31 [INFO] Loading json file from: C:\\Google Drive\\AIC Experiment Data\\DARP\\ITSC_instance_paper\\Results\\Manhattan\\start_18-00\\duration_05_min\\max_delay_03_min\\ih\\config.yaml-solution.json\n",
      "14:28:31 [INFO] Loading experiment config from C:\\Google Drive\\AIC Experiment Data\\DARP\\ITSC_instance_paper\\Results\\Manhattan\\start_18-00\\duration_05_min\\max_delay_03_min\\ih\\config.yaml\n",
      "14:28:31 [INFO] Loading instance config from C:\\Google Drive\\AIC Experiment Data\\DARP\\ITSC_instance_paper\\Instances\\Manhattan\\instances\\start_18-00\\duration_05_min\\max_delay_03_min\\config.yaml\n",
      "14:28:31 [WARNING] No solution found in folder: C:\\Google Drive\\AIC Experiment Data\\DARP\\ITSC_instance_paper\\Results\\Manhattan\\start_18-00\\duration_05_min\\max_delay_03_min\\vga\n",
      "14:28:31 [WARNING] No solution found in folder: C:\\Google Drive\\AIC Experiment Data\\DARP\\ITSC_instance_paper\\Results\\Manhattan\\start_18-00\\duration_05_min\\max_delay_05_min\\halns\n",
      "14:28:31 [WARNING] No solution found in folder: C:\\Google Drive\\AIC Experiment Data\\DARP\\ITSC_instance_paper\\Results\\Manhattan\\start_18-00\\duration_05_min\\max_delay_05_min\\halns-ih\n",
      "14:28:31 [INFO] Loading json file from: C:\\Google Drive\\AIC Experiment Data\\DARP\\ITSC_instance_paper\\Results\\Manhattan\\start_18-00\\duration_05_min\\max_delay_05_min\\ih\\config.yaml-performance.json\n",
      "14:28:31 [INFO] Loading json file from: C:\\Google Drive\\AIC Experiment Data\\DARP\\ITSC_instance_paper\\Results\\Manhattan\\start_18-00\\duration_05_min\\max_delay_05_min\\ih\\config.yaml-solution.json\n",
      "14:28:31 [INFO] Loading experiment config from C:\\Google Drive\\AIC Experiment Data\\DARP\\ITSC_instance_paper\\Results\\Manhattan\\start_18-00\\duration_05_min\\max_delay_05_min\\ih\\config.yaml\n",
      "14:28:31 [INFO] Loading instance config from C:\\Google Drive\\AIC Experiment Data\\DARP\\ITSC_instance_paper\\Instances\\Manhattan\\instances\\start_18-00\\duration_05_min\\max_delay_05_min\\config.yaml\n",
      "14:28:31 [WARNING] No solution found in folder: C:\\Google Drive\\AIC Experiment Data\\DARP\\ITSC_instance_paper\\Results\\Manhattan\\start_18-00\\duration_05_min\\max_delay_05_min\\vga\n",
      "14:28:31 [WARNING] No solution found in folder: C:\\Google Drive\\AIC Experiment Data\\DARP\\ITSC_instance_paper\\Results\\Manhattan\\start_18-00\\duration_05_min\\max_delay_10_min\\halns\n",
      "14:28:31 [WARNING] No solution found in folder: C:\\Google Drive\\AIC Experiment Data\\DARP\\ITSC_instance_paper\\Results\\Manhattan\\start_18-00\\duration_05_min\\max_delay_10_min\\halns-ih\n",
      "14:28:31 [INFO] Loading json file from: C:\\Google Drive\\AIC Experiment Data\\DARP\\ITSC_instance_paper\\Results\\Manhattan\\start_18-00\\duration_05_min\\max_delay_10_min\\ih\\config.yaml-performance.json\n",
      "14:28:31 [INFO] Loading json file from: C:\\Google Drive\\AIC Experiment Data\\DARP\\ITSC_instance_paper\\Results\\Manhattan\\start_18-00\\duration_05_min\\max_delay_10_min\\ih\\config.yaml-solution.json\n",
      "14:28:31 [INFO] Loading experiment config from C:\\Google Drive\\AIC Experiment Data\\DARP\\ITSC_instance_paper\\Results\\Manhattan\\start_18-00\\duration_05_min\\max_delay_10_min\\ih\\config.yaml\n",
      "14:28:31 [INFO] Loading instance config from C:\\Google Drive\\AIC Experiment Data\\DARP\\ITSC_instance_paper\\Instances\\Manhattan\\instances\\start_18-00\\duration_05_min\\max_delay_10_min\\config.yaml\n",
      "14:28:31 [WARNING] No solution found in folder: C:\\Google Drive\\AIC Experiment Data\\DARP\\ITSC_instance_paper\\Results\\Manhattan\\start_18-00\\duration_05_min\\max_delay_10_min\\vga\n",
      "14:28:31 [WARNING] No solution found in folder: C:\\Google Drive\\AIC Experiment Data\\DARP\\ITSC_instance_paper\\Results\\Manhattan\\start_18-00\\duration_15_min\\max_delay_03_min\\halns\n",
      "14:28:31 [WARNING] No solution found in folder: C:\\Google Drive\\AIC Experiment Data\\DARP\\ITSC_instance_paper\\Results\\Manhattan\\start_18-00\\duration_15_min\\max_delay_03_min\\halns-ih\n",
      "14:28:31 [INFO] Loading json file from: C:\\Google Drive\\AIC Experiment Data\\DARP\\ITSC_instance_paper\\Results\\Manhattan\\start_18-00\\duration_15_min\\max_delay_03_min\\ih\\config.yaml-performance.json\n",
      "14:28:31 [INFO] Loading json file from: C:\\Google Drive\\AIC Experiment Data\\DARP\\ITSC_instance_paper\\Results\\Manhattan\\start_18-00\\duration_15_min\\max_delay_03_min\\ih\\config.yaml-solution.json\n",
      "14:28:31 [INFO] Loading experiment config from C:\\Google Drive\\AIC Experiment Data\\DARP\\ITSC_instance_paper\\Results\\Manhattan\\start_18-00\\duration_15_min\\max_delay_03_min\\ih\\config.yaml\n",
      "14:28:31 [INFO] Loading instance config from C:\\Google Drive\\AIC Experiment Data\\DARP\\ITSC_instance_paper\\Instances\\Manhattan\\instances\\start_18-00\\duration_15_min\\max_delay_03_min\\config.yaml\n",
      "14:28:31 [WARNING] No solution found in folder: C:\\Google Drive\\AIC Experiment Data\\DARP\\ITSC_instance_paper\\Results\\Manhattan\\start_18-00\\duration_15_min\\max_delay_03_min\\vga\n",
      "14:28:31 [WARNING] No solution found in folder: C:\\Google Drive\\AIC Experiment Data\\DARP\\ITSC_instance_paper\\Results\\Manhattan\\start_18-00\\duration_15_min\\max_delay_05_min\\halns\n",
      "14:28:31 [WARNING] No solution found in folder: C:\\Google Drive\\AIC Experiment Data\\DARP\\ITSC_instance_paper\\Results\\Manhattan\\start_18-00\\duration_15_min\\max_delay_05_min\\halns-ih\n",
      "14:28:31 [INFO] Loading json file from: C:\\Google Drive\\AIC Experiment Data\\DARP\\ITSC_instance_paper\\Results\\Manhattan\\start_18-00\\duration_15_min\\max_delay_05_min\\ih\\config.yaml-performance.json\n",
      "14:28:31 [INFO] Loading json file from: C:\\Google Drive\\AIC Experiment Data\\DARP\\ITSC_instance_paper\\Results\\Manhattan\\start_18-00\\duration_15_min\\max_delay_05_min\\ih\\config.yaml-solution.json\n",
      "14:28:31 [INFO] Loading experiment config from C:\\Google Drive\\AIC Experiment Data\\DARP\\ITSC_instance_paper\\Results\\Manhattan\\start_18-00\\duration_15_min\\max_delay_05_min\\ih\\config.yaml\n",
      "14:28:31 [INFO] Loading instance config from C:\\Google Drive\\AIC Experiment Data\\DARP\\ITSC_instance_paper\\Instances\\Manhattan\\instances\\start_18-00\\duration_15_min\\max_delay_05_min\\config.yaml\n",
      "14:28:31 [WARNING] No solution found in folder: C:\\Google Drive\\AIC Experiment Data\\DARP\\ITSC_instance_paper\\Results\\Manhattan\\start_18-00\\duration_15_min\\max_delay_05_min\\vga\n",
      "14:28:31 [WARNING] No solution found in folder: C:\\Google Drive\\AIC Experiment Data\\DARP\\ITSC_instance_paper\\Results\\Manhattan\\start_18-00\\duration_15_min\\max_delay_10_min\\halns\n",
      "14:28:31 [WARNING] No solution found in folder: C:\\Google Drive\\AIC Experiment Data\\DARP\\ITSC_instance_paper\\Results\\Manhattan\\start_18-00\\duration_15_min\\max_delay_10_min\\halns-ih\n",
      "14:28:31 [INFO] Loading json file from: C:\\Google Drive\\AIC Experiment Data\\DARP\\ITSC_instance_paper\\Results\\Manhattan\\start_18-00\\duration_15_min\\max_delay_10_min\\ih\\config.yaml-performance.json\n",
      "14:28:31 [INFO] Loading json file from: C:\\Google Drive\\AIC Experiment Data\\DARP\\ITSC_instance_paper\\Results\\Manhattan\\start_18-00\\duration_15_min\\max_delay_10_min\\ih\\config.yaml-solution.json\n",
      "14:28:31 [INFO] Loading experiment config from C:\\Google Drive\\AIC Experiment Data\\DARP\\ITSC_instance_paper\\Results\\Manhattan\\start_18-00\\duration_15_min\\max_delay_10_min\\ih\\config.yaml\n",
      "14:28:31 [INFO] Loading instance config from C:\\Google Drive\\AIC Experiment Data\\DARP\\ITSC_instance_paper\\Instances\\Manhattan\\instances\\start_18-00\\duration_15_min\\max_delay_10_min\\config.yaml\n",
      "14:28:31 [WARNING] No solution found in folder: C:\\Google Drive\\AIC Experiment Data\\DARP\\ITSC_instance_paper\\Results\\Manhattan\\start_18-00\\duration_15_min\\max_delay_10_min\\vga\n",
      "14:28:31 [WARNING] No solution found in folder: C:\\Google Drive\\AIC Experiment Data\\DARP\\ITSC_instance_paper\\Results\\Manhattan\\start_18-00\\duration_16_h\\max_delay_03_min\\halns\n",
      "14:28:31 [WARNING] No solution found in folder: C:\\Google Drive\\AIC Experiment Data\\DARP\\ITSC_instance_paper\\Results\\Manhattan\\start_18-00\\duration_16_h\\max_delay_03_min\\halns-ih\n",
      "14:28:31 [WARNING] No solution found in folder: C:\\Google Drive\\AIC Experiment Data\\DARP\\ITSC_instance_paper\\Results\\Manhattan\\start_18-00\\duration_16_h\\max_delay_03_min\\ih\n",
      "14:28:31 [WARNING] No solution found in folder: C:\\Google Drive\\AIC Experiment Data\\DARP\\ITSC_instance_paper\\Results\\Manhattan\\start_18-00\\duration_16_h\\max_delay_03_min\\vga\n",
      "14:28:31 [WARNING] No solution found in folder: C:\\Google Drive\\AIC Experiment Data\\DARP\\ITSC_instance_paper\\Results\\Manhattan\\start_18-00\\duration_16_h\\max_delay_05_min\\halns\n",
      "14:28:31 [WARNING] No solution found in folder: C:\\Google Drive\\AIC Experiment Data\\DARP\\ITSC_instance_paper\\Results\\Manhattan\\start_18-00\\duration_16_h\\max_delay_05_min\\halns-ih\n",
      "14:28:31 [WARNING] No solution found in folder: C:\\Google Drive\\AIC Experiment Data\\DARP\\ITSC_instance_paper\\Results\\Manhattan\\start_18-00\\duration_16_h\\max_delay_05_min\\ih\n",
      "14:28:31 [WARNING] No solution found in folder: C:\\Google Drive\\AIC Experiment Data\\DARP\\ITSC_instance_paper\\Results\\Manhattan\\start_18-00\\duration_16_h\\max_delay_05_min\\vga\n",
      "14:28:31 [WARNING] No solution found in folder: C:\\Google Drive\\AIC Experiment Data\\DARP\\ITSC_instance_paper\\Results\\Manhattan\\start_18-00\\duration_16_h\\max_delay_10_min\\halns\n",
      "14:28:31 [WARNING] No solution found in folder: C:\\Google Drive\\AIC Experiment Data\\DARP\\ITSC_instance_paper\\Results\\Manhattan\\start_18-00\\duration_16_h\\max_delay_10_min\\halns-ih\n",
      "14:28:31 [WARNING] No solution found in folder: C:\\Google Drive\\AIC Experiment Data\\DARP\\ITSC_instance_paper\\Results\\Manhattan\\start_18-00\\duration_16_h\\max_delay_10_min\\ih\n",
      "14:28:31 [WARNING] No solution found in folder: C:\\Google Drive\\AIC Experiment Data\\DARP\\ITSC_instance_paper\\Results\\Manhattan\\start_18-00\\duration_16_h\\max_delay_10_min\\vga\n",
      "14:28:31 [WARNING] No solution found in folder: C:\\Google Drive\\AIC Experiment Data\\DARP\\ITSC_instance_paper\\Results\\Manhattan\\start_18-00\\duration_30_min\\max_delay_03_min\\halns\n",
      "14:28:31 [WARNING] No solution found in folder: C:\\Google Drive\\AIC Experiment Data\\DARP\\ITSC_instance_paper\\Results\\Manhattan\\start_18-00\\duration_30_min\\max_delay_03_min\\halns-ih\n",
      "14:28:31 [INFO] Loading json file from: C:\\Google Drive\\AIC Experiment Data\\DARP\\ITSC_instance_paper\\Results\\Manhattan\\start_18-00\\duration_30_min\\max_delay_03_min\\ih\\config.yaml-performance.json\n",
      "14:28:31 [INFO] Loading json file from: C:\\Google Drive\\AIC Experiment Data\\DARP\\ITSC_instance_paper\\Results\\Manhattan\\start_18-00\\duration_30_min\\max_delay_03_min\\ih\\config.yaml-solution.json\n",
      "14:28:31 [INFO] Loading experiment config from C:\\Google Drive\\AIC Experiment Data\\DARP\\ITSC_instance_paper\\Results\\Manhattan\\start_18-00\\duration_30_min\\max_delay_03_min\\ih\\config.yaml\n",
      "14:28:31 [INFO] Loading instance config from C:\\Google Drive\\AIC Experiment Data\\DARP\\ITSC_instance_paper\\Instances\\Manhattan\\instances\\start_18-00\\duration_30_min\\max_delay_03_min\\config.yaml\n",
      "14:28:31 [WARNING] No solution found in folder: C:\\Google Drive\\AIC Experiment Data\\DARP\\ITSC_instance_paper\\Results\\Manhattan\\start_18-00\\duration_30_min\\max_delay_03_min\\vga\n",
      "14:28:31 [WARNING] No solution found in folder: C:\\Google Drive\\AIC Experiment Data\\DARP\\ITSC_instance_paper\\Results\\Manhattan\\start_18-00\\duration_30_min\\max_delay_05_min\\halns\n",
      "14:28:31 [WARNING] No solution found in folder: C:\\Google Drive\\AIC Experiment Data\\DARP\\ITSC_instance_paper\\Results\\Manhattan\\start_18-00\\duration_30_min\\max_delay_05_min\\halns-ih\n",
      "14:28:31 [INFO] Loading json file from: C:\\Google Drive\\AIC Experiment Data\\DARP\\ITSC_instance_paper\\Results\\Manhattan\\start_18-00\\duration_30_min\\max_delay_05_min\\ih\\config.yaml-performance.json\n",
      "14:28:31 [INFO] Loading json file from: C:\\Google Drive\\AIC Experiment Data\\DARP\\ITSC_instance_paper\\Results\\Manhattan\\start_18-00\\duration_30_min\\max_delay_05_min\\ih\\config.yaml-solution.json\n",
      "14:28:31 [INFO] Loading experiment config from C:\\Google Drive\\AIC Experiment Data\\DARP\\ITSC_instance_paper\\Results\\Manhattan\\start_18-00\\duration_30_min\\max_delay_05_min\\ih\\config.yaml\n",
      "14:28:31 [INFO] Loading instance config from C:\\Google Drive\\AIC Experiment Data\\DARP\\ITSC_instance_paper\\Instances\\Manhattan\\instances\\start_18-00\\duration_30_min\\max_delay_05_min\\config.yaml\n",
      "14:28:31 [WARNING] No solution found in folder: C:\\Google Drive\\AIC Experiment Data\\DARP\\ITSC_instance_paper\\Results\\Manhattan\\start_18-00\\duration_30_min\\max_delay_05_min\\vga\n",
      "14:28:31 [WARNING] No solution found in folder: C:\\Google Drive\\AIC Experiment Data\\DARP\\ITSC_instance_paper\\Results\\Manhattan\\start_18-00\\duration_30_min\\max_delay_10_min\\halns\n",
      "14:28:31 [WARNING] No solution found in folder: C:\\Google Drive\\AIC Experiment Data\\DARP\\ITSC_instance_paper\\Results\\Manhattan\\start_18-00\\duration_30_min\\max_delay_10_min\\halns-ih\n",
      "14:28:31 [INFO] Loading json file from: C:\\Google Drive\\AIC Experiment Data\\DARP\\ITSC_instance_paper\\Results\\Manhattan\\start_18-00\\duration_30_min\\max_delay_10_min\\ih\\config.yaml-performance.json\n",
      "14:28:31 [INFO] Loading json file from: C:\\Google Drive\\AIC Experiment Data\\DARP\\ITSC_instance_paper\\Results\\Manhattan\\start_18-00\\duration_30_min\\max_delay_10_min\\ih\\config.yaml-solution.json\n",
      "14:28:31 [INFO] Loading experiment config from C:\\Google Drive\\AIC Experiment Data\\DARP\\ITSC_instance_paper\\Results\\Manhattan\\start_18-00\\duration_30_min\\max_delay_10_min\\ih\\config.yaml\n",
      "14:28:31 [INFO] Loading instance config from C:\\Google Drive\\AIC Experiment Data\\DARP\\ITSC_instance_paper\\Instances\\Manhattan\\instances\\start_18-00\\duration_30_min\\max_delay_10_min\\config.yaml\n",
      "14:28:31 [WARNING] No solution found in folder: C:\\Google Drive\\AIC Experiment Data\\DARP\\ITSC_instance_paper\\Results\\Manhattan\\start_18-00\\duration_30_min\\max_delay_10_min\\vga\n",
      "14:28:31 [WARNING] No solution found in folder: C:\\Google Drive\\AIC Experiment Data\\DARP\\ITSC_instance_paper\\Results\\Manhattan\\start_18-00\\duration_30_s\\max_delay_03_min\\halns\n",
      "14:28:31 [WARNING] No solution found in folder: C:\\Google Drive\\AIC Experiment Data\\DARP\\ITSC_instance_paper\\Results\\Manhattan\\start_18-00\\duration_30_s\\max_delay_03_min\\halns-ih\n",
      "14:28:31 [INFO] Loading json file from: C:\\Google Drive\\AIC Experiment Data\\DARP\\ITSC_instance_paper\\Results\\Manhattan\\start_18-00\\duration_30_s\\max_delay_03_min\\ih\\config.yaml-performance.json\n",
      "14:28:31 [INFO] Loading json file from: C:\\Google Drive\\AIC Experiment Data\\DARP\\ITSC_instance_paper\\Results\\Manhattan\\start_18-00\\duration_30_s\\max_delay_03_min\\ih\\config.yaml-solution.json\n",
      "14:28:31 [INFO] Loading experiment config from C:\\Google Drive\\AIC Experiment Data\\DARP\\ITSC_instance_paper\\Results\\Manhattan\\start_18-00\\duration_30_s\\max_delay_03_min\\ih\\config.yaml\n",
      "14:28:31 [INFO] Loading instance config from C:\\Google Drive\\AIC Experiment Data\\DARP\\ITSC_instance_paper\\Instances\\Manhattan\\instances\\start_18-00\\duration_30_s\\max_delay_03_min\\config.yaml\n",
      "14:28:31 [INFO] Loading json file from: C:\\Google Drive\\AIC Experiment Data\\DARP\\ITSC_instance_paper\\Results\\Manhattan\\start_18-00\\duration_30_s\\max_delay_03_min\\vga\\config.yaml-performance.json\n",
      "14:28:31 [INFO] Loading json file from: C:\\Google Drive\\AIC Experiment Data\\DARP\\ITSC_instance_paper\\Results\\Manhattan\\start_18-00\\duration_30_s\\max_delay_03_min\\vga\\config.yaml-solution.json\n",
      "14:28:31 [INFO] Loading experiment config from C:\\Google Drive\\AIC Experiment Data\\DARP\\ITSC_instance_paper\\Results\\Manhattan\\start_18-00\\duration_30_s\\max_delay_03_min\\vga\\config.yaml\n",
      "14:28:31 [INFO] Loading instance config from C:\\Google Drive\\AIC Experiment Data\\DARP\\ITSC_instance_paper\\Instances\\Manhattan\\instances\\start_18-00\\duration_30_s\\max_delay_03_min\\config.yaml\n",
      "14:28:31 [WARNING] No solution found in folder: C:\\Google Drive\\AIC Experiment Data\\DARP\\ITSC_instance_paper\\Results\\Manhattan\\start_18-00\\duration_30_s\\max_delay_05_min\\halns\n",
      "14:28:31 [WARNING] No solution found in folder: C:\\Google Drive\\AIC Experiment Data\\DARP\\ITSC_instance_paper\\Results\\Manhattan\\start_18-00\\duration_30_s\\max_delay_05_min\\halns-ih\n",
      "14:28:31 [INFO] Loading json file from: C:\\Google Drive\\AIC Experiment Data\\DARP\\ITSC_instance_paper\\Results\\Manhattan\\start_18-00\\duration_30_s\\max_delay_05_min\\ih\\config.yaml-performance.json\n",
      "14:28:31 [INFO] Loading json file from: C:\\Google Drive\\AIC Experiment Data\\DARP\\ITSC_instance_paper\\Results\\Manhattan\\start_18-00\\duration_30_s\\max_delay_05_min\\ih\\config.yaml-solution.json\n",
      "14:28:31 [INFO] Loading experiment config from C:\\Google Drive\\AIC Experiment Data\\DARP\\ITSC_instance_paper\\Results\\Manhattan\\start_18-00\\duration_30_s\\max_delay_05_min\\ih\\config.yaml\n",
      "14:28:31 [INFO] Loading instance config from C:\\Google Drive\\AIC Experiment Data\\DARP\\ITSC_instance_paper\\Instances\\Manhattan\\instances\\start_18-00\\duration_30_s\\max_delay_05_min\\config.yaml\n",
      "14:28:31 [INFO] Loading json file from: C:\\Google Drive\\AIC Experiment Data\\DARP\\ITSC_instance_paper\\Results\\Manhattan\\start_18-00\\duration_30_s\\max_delay_05_min\\vga\\config.yaml-performance.json\n",
      "14:28:32 [INFO] Loading json file from: C:\\Google Drive\\AIC Experiment Data\\DARP\\ITSC_instance_paper\\Results\\Manhattan\\start_18-00\\duration_30_s\\max_delay_05_min\\vga\\config.yaml-solution.json\n",
      "14:28:32 [INFO] Loading experiment config from C:\\Google Drive\\AIC Experiment Data\\DARP\\ITSC_instance_paper\\Results\\Manhattan\\start_18-00\\duration_30_s\\max_delay_05_min\\vga\\config.yaml\n",
      "14:28:32 [INFO] Loading instance config from C:\\Google Drive\\AIC Experiment Data\\DARP\\ITSC_instance_paper\\Instances\\Manhattan\\instances\\start_18-00\\duration_30_s\\max_delay_05_min\\config.yaml\n",
      "14:28:32 [WARNING] No solution found in folder: C:\\Google Drive\\AIC Experiment Data\\DARP\\ITSC_instance_paper\\Results\\Manhattan\\start_18-00\\duration_30_s\\max_delay_10_min\\halns\n",
      "14:28:32 [WARNING] No solution found in folder: C:\\Google Drive\\AIC Experiment Data\\DARP\\ITSC_instance_paper\\Results\\Manhattan\\start_18-00\\duration_30_s\\max_delay_10_min\\halns-ih\n",
      "14:28:32 [INFO] Loading json file from: C:\\Google Drive\\AIC Experiment Data\\DARP\\ITSC_instance_paper\\Results\\Manhattan\\start_18-00\\duration_30_s\\max_delay_10_min\\ih\\config.yaml-performance.json\n",
      "14:28:32 [INFO] Loading json file from: C:\\Google Drive\\AIC Experiment Data\\DARP\\ITSC_instance_paper\\Results\\Manhattan\\start_18-00\\duration_30_s\\max_delay_10_min\\ih\\config.yaml-solution.json\n",
      "14:28:32 [INFO] Loading experiment config from C:\\Google Drive\\AIC Experiment Data\\DARP\\ITSC_instance_paper\\Results\\Manhattan\\start_18-00\\duration_30_s\\max_delay_10_min\\ih\\config.yaml\n",
      "14:28:32 [INFO] Loading instance config from C:\\Google Drive\\AIC Experiment Data\\DARP\\ITSC_instance_paper\\Instances\\Manhattan\\instances\\start_18-00\\duration_30_s\\max_delay_10_min\\config.yaml\n",
      "14:28:32 [INFO] Loading json file from: C:\\Google Drive\\AIC Experiment Data\\DARP\\ITSC_instance_paper\\Results\\Manhattan\\start_18-00\\duration_30_s\\max_delay_10_min\\vga\\config.yaml-performance.json\n",
      "14:28:32 [INFO] Loading json file from: C:\\Google Drive\\AIC Experiment Data\\DARP\\ITSC_instance_paper\\Results\\Manhattan\\start_18-00\\duration_30_s\\max_delay_10_min\\vga\\config.yaml-solution.json\n",
      "14:28:32 [INFO] Loading experiment config from C:\\Google Drive\\AIC Experiment Data\\DARP\\ITSC_instance_paper\\Results\\Manhattan\\start_18-00\\duration_30_s\\max_delay_10_min\\vga\\config.yaml\n",
      "14:28:32 [INFO] Loading instance config from C:\\Google Drive\\AIC Experiment Data\\DARP\\ITSC_instance_paper\\Instances\\Manhattan\\instances\\start_18-00\\duration_30_s\\max_delay_10_min\\config.yaml\n",
      "14:28:32 [INFO] Loading aggregate stats in C:\\Google Drive\\AIC Experiment Data\\DARP\\ITSC_instance_paper\\Results\\Chicago\n",
      "14:28:32 [WARNING] No solution found in folder: C:\\Google Drive\\AIC Experiment Data\\DARP\\ITSC_instance_paper\\Results\\Chicago\\start_18-00\\duration_01_min\\max_delay_03_min\\halns\n",
      "14:28:32 [WARNING] No solution found in folder: C:\\Google Drive\\AIC Experiment Data\\DARP\\ITSC_instance_paper\\Results\\Chicago\\start_18-00\\duration_01_min\\max_delay_03_min\\halns-ih\n",
      "14:28:32 [INFO] Loading json file from: C:\\Google Drive\\AIC Experiment Data\\DARP\\ITSC_instance_paper\\Results\\Chicago\\start_18-00\\duration_01_min\\max_delay_03_min\\ih\\config.yaml-performance.json\n",
      "14:28:32 [INFO] Loading json file from: C:\\Google Drive\\AIC Experiment Data\\DARP\\ITSC_instance_paper\\Results\\Chicago\\start_18-00\\duration_01_min\\max_delay_03_min\\ih\\config.yaml-solution.json\n",
      "14:28:32 [INFO] Loading experiment config from C:\\Google Drive\\AIC Experiment Data\\DARP\\ITSC_instance_paper\\Results\\Chicago\\start_18-00\\duration_01_min\\max_delay_03_min\\ih\\config.yaml\n",
      "14:28:32 [INFO] Loading instance config from C:\\Google Drive\\AIC Experiment Data\\DARP\\ITSC_instance_paper\\Instances\\Chicago\\instances\\start_18-00\\duration_01_min\\max_delay_03_min\\config.yaml\n",
      "14:28:32 [INFO] Loading json file from: C:\\Google Drive\\AIC Experiment Data\\DARP\\ITSC_instance_paper\\Results\\Chicago\\start_18-00\\duration_01_min\\max_delay_03_min\\vga\\config.yaml-performance.json\n",
      "14:28:32 [INFO] Loading json file from: C:\\Google Drive\\AIC Experiment Data\\DARP\\ITSC_instance_paper\\Results\\Chicago\\start_18-00\\duration_01_min\\max_delay_03_min\\vga\\config.yaml-solution.json\n",
      "14:28:32 [INFO] Loading experiment config from C:\\Google Drive\\AIC Experiment Data\\DARP\\ITSC_instance_paper\\Results\\Chicago\\start_18-00\\duration_01_min\\max_delay_03_min\\vga\\config.yaml\n",
      "14:28:32 [INFO] Loading instance config from C:\\Google Drive\\AIC Experiment Data\\DARP\\ITSC_instance_paper\\Instances\\Chicago\\instances\\start_18-00\\duration_01_min\\max_delay_03_min\\config.yaml\n",
      "14:28:32 [WARNING] No solution found in folder: C:\\Google Drive\\AIC Experiment Data\\DARP\\ITSC_instance_paper\\Results\\Chicago\\start_18-00\\duration_01_min\\max_delay_05_min\\halns\n",
      "14:28:32 [WARNING] No solution found in folder: C:\\Google Drive\\AIC Experiment Data\\DARP\\ITSC_instance_paper\\Results\\Chicago\\start_18-00\\duration_01_min\\max_delay_05_min\\halns-ih\n",
      "14:28:32 [INFO] Loading json file from: C:\\Google Drive\\AIC Experiment Data\\DARP\\ITSC_instance_paper\\Results\\Chicago\\start_18-00\\duration_01_min\\max_delay_05_min\\ih\\config.yaml-performance.json\n",
      "14:28:32 [INFO] Loading json file from: C:\\Google Drive\\AIC Experiment Data\\DARP\\ITSC_instance_paper\\Results\\Chicago\\start_18-00\\duration_01_min\\max_delay_05_min\\ih\\config.yaml-solution.json\n",
      "14:28:32 [INFO] Loading experiment config from C:\\Google Drive\\AIC Experiment Data\\DARP\\ITSC_instance_paper\\Results\\Chicago\\start_18-00\\duration_01_min\\max_delay_05_min\\ih\\config.yaml\n",
      "14:28:32 [INFO] Loading instance config from C:\\Google Drive\\AIC Experiment Data\\DARP\\ITSC_instance_paper\\Instances\\Chicago\\instances\\start_18-00\\duration_01_min\\max_delay_05_min\\config.yaml\n",
      "14:28:32 [INFO] Loading json file from: C:\\Google Drive\\AIC Experiment Data\\DARP\\ITSC_instance_paper\\Results\\Chicago\\start_18-00\\duration_01_min\\max_delay_05_min\\vga\\config.yaml-performance.json\n",
      "14:28:32 [INFO] Loading json file from: C:\\Google Drive\\AIC Experiment Data\\DARP\\ITSC_instance_paper\\Results\\Chicago\\start_18-00\\duration_01_min\\max_delay_05_min\\vga\\config.yaml-solution.json\n",
      "14:28:32 [INFO] Loading experiment config from C:\\Google Drive\\AIC Experiment Data\\DARP\\ITSC_instance_paper\\Results\\Chicago\\start_18-00\\duration_01_min\\max_delay_05_min\\vga\\config.yaml\n",
      "14:28:32 [INFO] Loading instance config from C:\\Google Drive\\AIC Experiment Data\\DARP\\ITSC_instance_paper\\Instances\\Chicago\\instances\\start_18-00\\duration_01_min\\max_delay_05_min\\config.yaml\n",
      "14:28:32 [WARNING] No solution found in folder: C:\\Google Drive\\AIC Experiment Data\\DARP\\ITSC_instance_paper\\Results\\Chicago\\start_18-00\\duration_01_min\\max_delay_10_min\\halns\n",
      "14:28:32 [WARNING] No solution found in folder: C:\\Google Drive\\AIC Experiment Data\\DARP\\ITSC_instance_paper\\Results\\Chicago\\start_18-00\\duration_01_min\\max_delay_10_min\\halns-ih\n",
      "14:28:32 [INFO] Loading json file from: C:\\Google Drive\\AIC Experiment Data\\DARP\\ITSC_instance_paper\\Results\\Chicago\\start_18-00\\duration_01_min\\max_delay_10_min\\ih\\config.yaml-performance.json\n",
      "14:28:32 [INFO] Loading json file from: C:\\Google Drive\\AIC Experiment Data\\DARP\\ITSC_instance_paper\\Results\\Chicago\\start_18-00\\duration_01_min\\max_delay_10_min\\ih\\config.yaml-solution.json\n",
      "14:28:32 [INFO] Loading experiment config from C:\\Google Drive\\AIC Experiment Data\\DARP\\ITSC_instance_paper\\Results\\Chicago\\start_18-00\\duration_01_min\\max_delay_10_min\\ih\\config.yaml\n",
      "14:28:32 [INFO] Loading instance config from C:\\Google Drive\\AIC Experiment Data\\DARP\\ITSC_instance_paper\\Instances\\Chicago\\instances\\start_18-00\\duration_01_min\\max_delay_10_min\\config.yaml\n",
      "14:28:32 [INFO] Loading json file from: C:\\Google Drive\\AIC Experiment Data\\DARP\\ITSC_instance_paper\\Results\\Chicago\\start_18-00\\duration_01_min\\max_delay_10_min\\vga\\config.yaml-performance.json\n",
      "14:28:32 [INFO] Loading json file from: C:\\Google Drive\\AIC Experiment Data\\DARP\\ITSC_instance_paper\\Results\\Chicago\\start_18-00\\duration_01_min\\max_delay_10_min\\vga\\config.yaml-solution.json\n",
      "14:28:32 [INFO] Loading experiment config from C:\\Google Drive\\AIC Experiment Data\\DARP\\ITSC_instance_paper\\Results\\Chicago\\start_18-00\\duration_01_min\\max_delay_10_min\\vga\\config.yaml\n",
      "14:28:32 [INFO] Loading instance config from C:\\Google Drive\\AIC Experiment Data\\DARP\\ITSC_instance_paper\\Instances\\Chicago\\instances\\start_18-00\\duration_01_min\\max_delay_10_min\\config.yaml\n",
      "14:28:32 [WARNING] No solution found in folder: C:\\Google Drive\\AIC Experiment Data\\DARP\\ITSC_instance_paper\\Results\\Chicago\\start_18-00\\duration_02_h\\max_delay_03_min\\halns\n",
      "14:28:32 [WARNING] No solution found in folder: C:\\Google Drive\\AIC Experiment Data\\DARP\\ITSC_instance_paper\\Results\\Chicago\\start_18-00\\duration_02_h\\max_delay_03_min\\halns-ih\n",
      "14:28:32 [INFO] Loading json file from: C:\\Google Drive\\AIC Experiment Data\\DARP\\ITSC_instance_paper\\Results\\Chicago\\start_18-00\\duration_02_h\\max_delay_03_min\\ih\\config.yaml-performance.json\n",
      "14:28:32 [INFO] Loading json file from: C:\\Google Drive\\AIC Experiment Data\\DARP\\ITSC_instance_paper\\Results\\Chicago\\start_18-00\\duration_02_h\\max_delay_03_min\\ih\\config.yaml-solution.json\n",
      "14:28:32 [INFO] Loading experiment config from C:\\Google Drive\\AIC Experiment Data\\DARP\\ITSC_instance_paper\\Results\\Chicago\\start_18-00\\duration_02_h\\max_delay_03_min\\ih\\config.yaml\n",
      "14:28:32 [INFO] Loading instance config from C:\\Google Drive\\AIC Experiment Data\\DARP\\ITSC_instance_paper\\Instances\\Chicago\\instances\\start_18-00\\duration_02_h\\max_delay_03_min\\config.yaml\n",
      "14:28:32 [WARNING] No solution found in folder: C:\\Google Drive\\AIC Experiment Data\\DARP\\ITSC_instance_paper\\Results\\Chicago\\start_18-00\\duration_02_h\\max_delay_03_min\\vga\n",
      "14:28:32 [WARNING] No solution found in folder: C:\\Google Drive\\AIC Experiment Data\\DARP\\ITSC_instance_paper\\Results\\Chicago\\start_18-00\\duration_02_h\\max_delay_05_min\\halns\n",
      "14:28:32 [WARNING] No solution found in folder: C:\\Google Drive\\AIC Experiment Data\\DARP\\ITSC_instance_paper\\Results\\Chicago\\start_18-00\\duration_02_h\\max_delay_05_min\\halns-ih\n",
      "14:28:32 [WARNING] No solution found in folder: C:\\Google Drive\\AIC Experiment Data\\DARP\\ITSC_instance_paper\\Results\\Chicago\\start_18-00\\duration_02_h\\max_delay_05_min\\ih\n",
      "14:28:32 [WARNING] No solution found in folder: C:\\Google Drive\\AIC Experiment Data\\DARP\\ITSC_instance_paper\\Results\\Chicago\\start_18-00\\duration_02_h\\max_delay_05_min\\vga\n",
      "14:28:32 [WARNING] No solution found in folder: C:\\Google Drive\\AIC Experiment Data\\DARP\\ITSC_instance_paper\\Results\\Chicago\\start_18-00\\duration_02_h\\max_delay_10_min\\halns\n",
      "14:28:32 [WARNING] No solution found in folder: C:\\Google Drive\\AIC Experiment Data\\DARP\\ITSC_instance_paper\\Results\\Chicago\\start_18-00\\duration_02_h\\max_delay_10_min\\halns-ih\n",
      "14:28:32 [WARNING] No solution found in folder: C:\\Google Drive\\AIC Experiment Data\\DARP\\ITSC_instance_paper\\Results\\Chicago\\start_18-00\\duration_02_h\\max_delay_10_min\\ih\n",
      "14:28:32 [WARNING] No solution found in folder: C:\\Google Drive\\AIC Experiment Data\\DARP\\ITSC_instance_paper\\Results\\Chicago\\start_18-00\\duration_02_h\\max_delay_10_min\\vga\n",
      "14:28:32 [WARNING] No solution found in folder: C:\\Google Drive\\AIC Experiment Data\\DARP\\ITSC_instance_paper\\Results\\Chicago\\start_18-00\\duration_02_min\\max_delay_03_min\\halns\n",
      "14:28:32 [WARNING] No solution found in folder: C:\\Google Drive\\AIC Experiment Data\\DARP\\ITSC_instance_paper\\Results\\Chicago\\start_18-00\\duration_02_min\\max_delay_03_min\\halns-ih\n",
      "14:28:32 [INFO] Loading json file from: C:\\Google Drive\\AIC Experiment Data\\DARP\\ITSC_instance_paper\\Results\\Chicago\\start_18-00\\duration_02_min\\max_delay_03_min\\ih\\config.yaml-performance.json\n",
      "14:28:32 [INFO] Loading json file from: C:\\Google Drive\\AIC Experiment Data\\DARP\\ITSC_instance_paper\\Results\\Chicago\\start_18-00\\duration_02_min\\max_delay_03_min\\ih\\config.yaml-solution.json\n",
      "14:28:32 [INFO] Loading experiment config from C:\\Google Drive\\AIC Experiment Data\\DARP\\ITSC_instance_paper\\Results\\Chicago\\start_18-00\\duration_02_min\\max_delay_03_min\\ih\\config.yaml\n",
      "14:28:32 [INFO] Loading instance config from C:\\Google Drive\\AIC Experiment Data\\DARP\\ITSC_instance_paper\\Instances\\Chicago\\instances\\start_18-00\\duration_02_min\\max_delay_03_min\\config.yaml\n",
      "14:28:32 [INFO] Loading json file from: C:\\Google Drive\\AIC Experiment Data\\DARP\\ITSC_instance_paper\\Results\\Chicago\\start_18-00\\duration_02_min\\max_delay_03_min\\vga\\config.yaml-performance.json\n",
      "14:28:32 [INFO] Loading json file from: C:\\Google Drive\\AIC Experiment Data\\DARP\\ITSC_instance_paper\\Results\\Chicago\\start_18-00\\duration_02_min\\max_delay_03_min\\vga\\config.yaml-solution.json\n",
      "14:28:32 [INFO] Loading experiment config from C:\\Google Drive\\AIC Experiment Data\\DARP\\ITSC_instance_paper\\Results\\Chicago\\start_18-00\\duration_02_min\\max_delay_03_min\\vga\\config.yaml\n",
      "14:28:32 [INFO] Loading instance config from C:\\Google Drive\\AIC Experiment Data\\DARP\\ITSC_instance_paper\\Instances\\Chicago\\instances\\start_18-00\\duration_02_min\\max_delay_03_min\\config.yaml\n",
      "14:28:32 [WARNING] No solution found in folder: C:\\Google Drive\\AIC Experiment Data\\DARP\\ITSC_instance_paper\\Results\\Chicago\\start_18-00\\duration_02_min\\max_delay_05_min\\halns\n",
      "14:28:32 [WARNING] No solution found in folder: C:\\Google Drive\\AIC Experiment Data\\DARP\\ITSC_instance_paper\\Results\\Chicago\\start_18-00\\duration_02_min\\max_delay_05_min\\halns-ih\n",
      "14:28:32 [INFO] Loading json file from: C:\\Google Drive\\AIC Experiment Data\\DARP\\ITSC_instance_paper\\Results\\Chicago\\start_18-00\\duration_02_min\\max_delay_05_min\\ih\\config.yaml-performance.json\n",
      "14:28:32 [INFO] Loading json file from: C:\\Google Drive\\AIC Experiment Data\\DARP\\ITSC_instance_paper\\Results\\Chicago\\start_18-00\\duration_02_min\\max_delay_05_min\\ih\\config.yaml-solution.json\n",
      "14:28:32 [INFO] Loading experiment config from C:\\Google Drive\\AIC Experiment Data\\DARP\\ITSC_instance_paper\\Results\\Chicago\\start_18-00\\duration_02_min\\max_delay_05_min\\ih\\config.yaml\n",
      "14:28:32 [INFO] Loading instance config from C:\\Google Drive\\AIC Experiment Data\\DARP\\ITSC_instance_paper\\Instances\\Chicago\\instances\\start_18-00\\duration_02_min\\max_delay_05_min\\config.yaml\n",
      "14:28:32 [INFO] Loading json file from: C:\\Google Drive\\AIC Experiment Data\\DARP\\ITSC_instance_paper\\Results\\Chicago\\start_18-00\\duration_02_min\\max_delay_05_min\\vga\\config.yaml-performance.json\n",
      "14:28:32 [INFO] Loading json file from: C:\\Google Drive\\AIC Experiment Data\\DARP\\ITSC_instance_paper\\Results\\Chicago\\start_18-00\\duration_02_min\\max_delay_05_min\\vga\\config.yaml-solution.json\n",
      "14:28:32 [INFO] Loading experiment config from C:\\Google Drive\\AIC Experiment Data\\DARP\\ITSC_instance_paper\\Results\\Chicago\\start_18-00\\duration_02_min\\max_delay_05_min\\vga\\config.yaml\n",
      "14:28:32 [INFO] Loading instance config from C:\\Google Drive\\AIC Experiment Data\\DARP\\ITSC_instance_paper\\Instances\\Chicago\\instances\\start_18-00\\duration_02_min\\max_delay_05_min\\config.yaml\n",
      "14:28:32 [WARNING] No solution found in folder: C:\\Google Drive\\AIC Experiment Data\\DARP\\ITSC_instance_paper\\Results\\Chicago\\start_18-00\\duration_02_min\\max_delay_10_min\\halns\n",
      "14:28:32 [WARNING] No solution found in folder: C:\\Google Drive\\AIC Experiment Data\\DARP\\ITSC_instance_paper\\Results\\Chicago\\start_18-00\\duration_02_min\\max_delay_10_min\\halns-ih\n",
      "14:28:32 [INFO] Loading json file from: C:\\Google Drive\\AIC Experiment Data\\DARP\\ITSC_instance_paper\\Results\\Chicago\\start_18-00\\duration_02_min\\max_delay_10_min\\ih\\config.yaml-performance.json\n",
      "14:28:32 [INFO] Loading json file from: C:\\Google Drive\\AIC Experiment Data\\DARP\\ITSC_instance_paper\\Results\\Chicago\\start_18-00\\duration_02_min\\max_delay_10_min\\ih\\config.yaml-solution.json\n",
      "14:28:32 [INFO] Loading experiment config from C:\\Google Drive\\AIC Experiment Data\\DARP\\ITSC_instance_paper\\Results\\Chicago\\start_18-00\\duration_02_min\\max_delay_10_min\\ih\\config.yaml\n",
      "14:28:32 [INFO] Loading instance config from C:\\Google Drive\\AIC Experiment Data\\DARP\\ITSC_instance_paper\\Instances\\Chicago\\instances\\start_18-00\\duration_02_min\\max_delay_10_min\\config.yaml\n",
      "14:28:32 [INFO] Loading json file from: C:\\Google Drive\\AIC Experiment Data\\DARP\\ITSC_instance_paper\\Results\\Chicago\\start_18-00\\duration_02_min\\max_delay_10_min\\vga\\config.yaml-performance.json\n",
      "14:28:32 [INFO] Loading json file from: C:\\Google Drive\\AIC Experiment Data\\DARP\\ITSC_instance_paper\\Results\\Chicago\\start_18-00\\duration_02_min\\max_delay_10_min\\vga\\config.yaml-solution.json\n",
      "14:28:32 [INFO] Loading experiment config from C:\\Google Drive\\AIC Experiment Data\\DARP\\ITSC_instance_paper\\Results\\Chicago\\start_18-00\\duration_02_min\\max_delay_10_min\\vga\\config.yaml\n",
      "14:28:32 [INFO] Loading instance config from C:\\Google Drive\\AIC Experiment Data\\DARP\\ITSC_instance_paper\\Instances\\Chicago\\instances\\start_18-00\\duration_02_min\\max_delay_10_min\\config.yaml\n",
      "14:28:32 [WARNING] No solution found in folder: C:\\Google Drive\\AIC Experiment Data\\DARP\\ITSC_instance_paper\\Results\\Chicago\\start_18-00\\duration_05_min\\max_delay_03_min\\halns\n",
      "14:28:32 [WARNING] No solution found in folder: C:\\Google Drive\\AIC Experiment Data\\DARP\\ITSC_instance_paper\\Results\\Chicago\\start_18-00\\duration_05_min\\max_delay_03_min\\halns-ih\n",
      "14:28:32 [INFO] Loading json file from: C:\\Google Drive\\AIC Experiment Data\\DARP\\ITSC_instance_paper\\Results\\Chicago\\start_18-00\\duration_05_min\\max_delay_03_min\\ih\\config.yaml-performance.json\n",
      "14:28:32 [INFO] Loading json file from: C:\\Google Drive\\AIC Experiment Data\\DARP\\ITSC_instance_paper\\Results\\Chicago\\start_18-00\\duration_05_min\\max_delay_03_min\\ih\\config.yaml-solution.json\n",
      "14:28:32 [INFO] Loading experiment config from C:\\Google Drive\\AIC Experiment Data\\DARP\\ITSC_instance_paper\\Results\\Chicago\\start_18-00\\duration_05_min\\max_delay_03_min\\ih\\config.yaml\n",
      "14:28:32 [INFO] Loading instance config from C:\\Google Drive\\AIC Experiment Data\\DARP\\ITSC_instance_paper\\Instances\\Chicago\\instances\\start_18-00\\duration_05_min\\max_delay_03_min\\config.yaml\n",
      "14:28:32 [INFO] Loading json file from: C:\\Google Drive\\AIC Experiment Data\\DARP\\ITSC_instance_paper\\Results\\Chicago\\start_18-00\\duration_05_min\\max_delay_03_min\\vga\\config.yaml-performance.json\n",
      "14:28:32 [INFO] Loading json file from: C:\\Google Drive\\AIC Experiment Data\\DARP\\ITSC_instance_paper\\Results\\Chicago\\start_18-00\\duration_05_min\\max_delay_03_min\\vga\\config.yaml-solution.json\n",
      "14:28:32 [INFO] Loading experiment config from C:\\Google Drive\\AIC Experiment Data\\DARP\\ITSC_instance_paper\\Results\\Chicago\\start_18-00\\duration_05_min\\max_delay_03_min\\vga\\config.yaml\n",
      "14:28:32 [INFO] Loading instance config from C:\\Google Drive\\AIC Experiment Data\\DARP\\ITSC_instance_paper\\Instances\\Chicago\\instances\\start_18-00\\duration_05_min\\max_delay_03_min\\config.yaml\n",
      "14:28:32 [WARNING] No solution found in folder: C:\\Google Drive\\AIC Experiment Data\\DARP\\ITSC_instance_paper\\Results\\Chicago\\start_18-00\\duration_05_min\\max_delay_05_min\\halns\n",
      "14:28:32 [WARNING] No solution found in folder: C:\\Google Drive\\AIC Experiment Data\\DARP\\ITSC_instance_paper\\Results\\Chicago\\start_18-00\\duration_05_min\\max_delay_05_min\\halns-ih\n",
      "14:28:32 [INFO] Loading json file from: C:\\Google Drive\\AIC Experiment Data\\DARP\\ITSC_instance_paper\\Results\\Chicago\\start_18-00\\duration_05_min\\max_delay_05_min\\ih\\config.yaml-performance.json\n",
      "14:28:32 [INFO] Loading json file from: C:\\Google Drive\\AIC Experiment Data\\DARP\\ITSC_instance_paper\\Results\\Chicago\\start_18-00\\duration_05_min\\max_delay_05_min\\ih\\config.yaml-solution.json\n",
      "14:28:32 [INFO] Loading experiment config from C:\\Google Drive\\AIC Experiment Data\\DARP\\ITSC_instance_paper\\Results\\Chicago\\start_18-00\\duration_05_min\\max_delay_05_min\\ih\\config.yaml\n",
      "14:28:32 [INFO] Loading instance config from C:\\Google Drive\\AIC Experiment Data\\DARP\\ITSC_instance_paper\\Instances\\Chicago\\instances\\start_18-00\\duration_05_min\\max_delay_05_min\\config.yaml\n",
      "14:28:32 [INFO] Loading json file from: C:\\Google Drive\\AIC Experiment Data\\DARP\\ITSC_instance_paper\\Results\\Chicago\\start_18-00\\duration_05_min\\max_delay_05_min\\vga\\config.yaml-performance.json\n",
      "14:28:32 [INFO] Loading json file from: C:\\Google Drive\\AIC Experiment Data\\DARP\\ITSC_instance_paper\\Results\\Chicago\\start_18-00\\duration_05_min\\max_delay_05_min\\vga\\config.yaml-solution.json\n",
      "14:28:32 [INFO] Loading experiment config from C:\\Google Drive\\AIC Experiment Data\\DARP\\ITSC_instance_paper\\Results\\Chicago\\start_18-00\\duration_05_min\\max_delay_05_min\\vga\\config.yaml\n",
      "14:28:32 [INFO] Loading instance config from C:\\Google Drive\\AIC Experiment Data\\DARP\\ITSC_instance_paper\\Instances\\Chicago\\instances\\start_18-00\\duration_05_min\\max_delay_05_min\\config.yaml\n",
      "14:28:32 [WARNING] No solution found in folder: C:\\Google Drive\\AIC Experiment Data\\DARP\\ITSC_instance_paper\\Results\\Chicago\\start_18-00\\duration_05_min\\max_delay_10_min\\halns\n",
      "14:28:32 [WARNING] No solution found in folder: C:\\Google Drive\\AIC Experiment Data\\DARP\\ITSC_instance_paper\\Results\\Chicago\\start_18-00\\duration_05_min\\max_delay_10_min\\halns-ih\n",
      "14:28:32 [INFO] Loading json file from: C:\\Google Drive\\AIC Experiment Data\\DARP\\ITSC_instance_paper\\Results\\Chicago\\start_18-00\\duration_05_min\\max_delay_10_min\\ih\\config.yaml-performance.json\n",
      "14:28:32 [INFO] Loading json file from: C:\\Google Drive\\AIC Experiment Data\\DARP\\ITSC_instance_paper\\Results\\Chicago\\start_18-00\\duration_05_min\\max_delay_10_min\\ih\\config.yaml-solution.json\n",
      "14:28:32 [INFO] Loading experiment config from C:\\Google Drive\\AIC Experiment Data\\DARP\\ITSC_instance_paper\\Results\\Chicago\\start_18-00\\duration_05_min\\max_delay_10_min\\ih\\config.yaml\n",
      "14:28:32 [INFO] Loading instance config from C:\\Google Drive\\AIC Experiment Data\\DARP\\ITSC_instance_paper\\Instances\\Chicago\\instances\\start_18-00\\duration_05_min\\max_delay_10_min\\config.yaml\n",
      "14:28:32 [WARNING] No solution found in folder: C:\\Google Drive\\AIC Experiment Data\\DARP\\ITSC_instance_paper\\Results\\Chicago\\start_18-00\\duration_05_min\\max_delay_10_min\\vga\n",
      "14:28:32 [WARNING] No solution found in folder: C:\\Google Drive\\AIC Experiment Data\\DARP\\ITSC_instance_paper\\Results\\Chicago\\start_18-00\\duration_15_min\\max_delay_03_min\\halns\n",
      "14:28:32 [WARNING] No solution found in folder: C:\\Google Drive\\AIC Experiment Data\\DARP\\ITSC_instance_paper\\Results\\Chicago\\start_18-00\\duration_15_min\\max_delay_03_min\\halns-ih\n",
      "14:28:32 [INFO] Loading json file from: C:\\Google Drive\\AIC Experiment Data\\DARP\\ITSC_instance_paper\\Results\\Chicago\\start_18-00\\duration_15_min\\max_delay_03_min\\ih\\config.yaml-performance.json\n",
      "14:28:32 [INFO] Loading json file from: C:\\Google Drive\\AIC Experiment Data\\DARP\\ITSC_instance_paper\\Results\\Chicago\\start_18-00\\duration_15_min\\max_delay_03_min\\ih\\config.yaml-solution.json\n",
      "14:28:32 [INFO] Loading experiment config from C:\\Google Drive\\AIC Experiment Data\\DARP\\ITSC_instance_paper\\Results\\Chicago\\start_18-00\\duration_15_min\\max_delay_03_min\\ih\\config.yaml\n",
      "14:28:32 [INFO] Loading instance config from C:\\Google Drive\\AIC Experiment Data\\DARP\\ITSC_instance_paper\\Instances\\Chicago\\instances\\start_18-00\\duration_15_min\\max_delay_03_min\\config.yaml\n",
      "14:28:32 [WARNING] No solution found in folder: C:\\Google Drive\\AIC Experiment Data\\DARP\\ITSC_instance_paper\\Results\\Chicago\\start_18-00\\duration_15_min\\max_delay_03_min\\vga\n",
      "14:28:32 [WARNING] No solution found in folder: C:\\Google Drive\\AIC Experiment Data\\DARP\\ITSC_instance_paper\\Results\\Chicago\\start_18-00\\duration_15_min\\max_delay_05_min\\halns\n",
      "14:28:32 [WARNING] No solution found in folder: C:\\Google Drive\\AIC Experiment Data\\DARP\\ITSC_instance_paper\\Results\\Chicago\\start_18-00\\duration_15_min\\max_delay_05_min\\halns-ih\n",
      "14:28:32 [INFO] Loading json file from: C:\\Google Drive\\AIC Experiment Data\\DARP\\ITSC_instance_paper\\Results\\Chicago\\start_18-00\\duration_15_min\\max_delay_05_min\\ih\\config.yaml-performance.json\n",
      "14:28:32 [INFO] Loading json file from: C:\\Google Drive\\AIC Experiment Data\\DARP\\ITSC_instance_paper\\Results\\Chicago\\start_18-00\\duration_15_min\\max_delay_05_min\\ih\\config.yaml-solution.json\n",
      "14:28:32 [INFO] Loading experiment config from C:\\Google Drive\\AIC Experiment Data\\DARP\\ITSC_instance_paper\\Results\\Chicago\\start_18-00\\duration_15_min\\max_delay_05_min\\ih\\config.yaml\n",
      "14:28:32 [INFO] Loading instance config from C:\\Google Drive\\AIC Experiment Data\\DARP\\ITSC_instance_paper\\Instances\\Chicago\\instances\\start_18-00\\duration_15_min\\max_delay_05_min\\config.yaml\n",
      "14:28:32 [WARNING] No solution found in folder: C:\\Google Drive\\AIC Experiment Data\\DARP\\ITSC_instance_paper\\Results\\Chicago\\start_18-00\\duration_15_min\\max_delay_05_min\\vga\n",
      "14:28:32 [WARNING] No solution found in folder: C:\\Google Drive\\AIC Experiment Data\\DARP\\ITSC_instance_paper\\Results\\Chicago\\start_18-00\\duration_15_min\\max_delay_10_min\\halns\n",
      "14:28:32 [WARNING] No solution found in folder: C:\\Google Drive\\AIC Experiment Data\\DARP\\ITSC_instance_paper\\Results\\Chicago\\start_18-00\\duration_15_min\\max_delay_10_min\\halns-ih\n",
      "14:28:32 [INFO] Loading json file from: C:\\Google Drive\\AIC Experiment Data\\DARP\\ITSC_instance_paper\\Results\\Chicago\\start_18-00\\duration_15_min\\max_delay_10_min\\ih\\config.yaml-performance.json\n",
      "14:28:32 [INFO] Loading json file from: C:\\Google Drive\\AIC Experiment Data\\DARP\\ITSC_instance_paper\\Results\\Chicago\\start_18-00\\duration_15_min\\max_delay_10_min\\ih\\config.yaml-solution.json\n",
      "14:28:32 [INFO] Loading experiment config from C:\\Google Drive\\AIC Experiment Data\\DARP\\ITSC_instance_paper\\Results\\Chicago\\start_18-00\\duration_15_min\\max_delay_10_min\\ih\\config.yaml\n",
      "14:28:32 [INFO] Loading instance config from C:\\Google Drive\\AIC Experiment Data\\DARP\\ITSC_instance_paper\\Instances\\Chicago\\instances\\start_18-00\\duration_15_min\\max_delay_10_min\\config.yaml\n",
      "14:28:32 [WARNING] No solution found in folder: C:\\Google Drive\\AIC Experiment Data\\DARP\\ITSC_instance_paper\\Results\\Chicago\\start_18-00\\duration_15_min\\max_delay_10_min\\vga\n",
      "14:28:32 [WARNING] No solution found in folder: C:\\Google Drive\\AIC Experiment Data\\DARP\\ITSC_instance_paper\\Results\\Chicago\\start_18-00\\duration_16_h\\max_delay_03_min\\halns\n",
      "14:28:32 [WARNING] No solution found in folder: C:\\Google Drive\\AIC Experiment Data\\DARP\\ITSC_instance_paper\\Results\\Chicago\\start_18-00\\duration_16_h\\max_delay_03_min\\halns-ih\n",
      "14:28:32 [INFO] Loading json file from: C:\\Google Drive\\AIC Experiment Data\\DARP\\ITSC_instance_paper\\Results\\Chicago\\start_18-00\\duration_16_h\\max_delay_03_min\\ih\\config.yaml-performance.json\n",
      "14:28:32 [INFO] Loading json file from: C:\\Google Drive\\AIC Experiment Data\\DARP\\ITSC_instance_paper\\Results\\Chicago\\start_18-00\\duration_16_h\\max_delay_03_min\\ih\\config.yaml-solution.json\n",
      "14:28:32 [INFO] Loading experiment config from C:\\Google Drive\\AIC Experiment Data\\DARP\\ITSC_instance_paper\\Results\\Chicago\\start_18-00\\duration_16_h\\max_delay_03_min\\ih\\config.yaml\n",
      "14:28:32 [INFO] Loading instance config from C:\\Google Drive\\AIC Experiment Data\\DARP\\ITSC_instance_paper\\Instances\\Chicago\\instances\\start_18-00\\duration_16_h\\max_delay_03_min\\config.yaml\n",
      "14:28:32 [WARNING] No solution found in folder: C:\\Google Drive\\AIC Experiment Data\\DARP\\ITSC_instance_paper\\Results\\Chicago\\start_18-00\\duration_16_h\\max_delay_03_min\\vga\n",
      "14:28:32 [WARNING] No solution found in folder: C:\\Google Drive\\AIC Experiment Data\\DARP\\ITSC_instance_paper\\Results\\Chicago\\start_18-00\\duration_16_h\\max_delay_05_min\\halns\n",
      "14:28:32 [WARNING] No solution found in folder: C:\\Google Drive\\AIC Experiment Data\\DARP\\ITSC_instance_paper\\Results\\Chicago\\start_18-00\\duration_16_h\\max_delay_05_min\\halns-ih\n",
      "14:28:32 [WARNING] No solution found in folder: C:\\Google Drive\\AIC Experiment Data\\DARP\\ITSC_instance_paper\\Results\\Chicago\\start_18-00\\duration_16_h\\max_delay_05_min\\ih\n",
      "14:28:32 [WARNING] No solution found in folder: C:\\Google Drive\\AIC Experiment Data\\DARP\\ITSC_instance_paper\\Results\\Chicago\\start_18-00\\duration_16_h\\max_delay_05_min\\vga\n",
      "14:28:32 [WARNING] No solution found in folder: C:\\Google Drive\\AIC Experiment Data\\DARP\\ITSC_instance_paper\\Results\\Chicago\\start_18-00\\duration_16_h\\max_delay_10_min\\halns\n",
      "14:28:32 [WARNING] No solution found in folder: C:\\Google Drive\\AIC Experiment Data\\DARP\\ITSC_instance_paper\\Results\\Chicago\\start_18-00\\duration_16_h\\max_delay_10_min\\halns-ih\n",
      "14:28:32 [WARNING] No solution found in folder: C:\\Google Drive\\AIC Experiment Data\\DARP\\ITSC_instance_paper\\Results\\Chicago\\start_18-00\\duration_16_h\\max_delay_10_min\\ih\n",
      "14:28:32 [WARNING] No solution found in folder: C:\\Google Drive\\AIC Experiment Data\\DARP\\ITSC_instance_paper\\Results\\Chicago\\start_18-00\\duration_16_h\\max_delay_10_min\\vga\n",
      "14:28:32 [WARNING] No solution found in folder: C:\\Google Drive\\AIC Experiment Data\\DARP\\ITSC_instance_paper\\Results\\Chicago\\start_18-00\\duration_30_min\\max_delay_03_min\\halns\n",
      "14:28:32 [WARNING] No solution found in folder: C:\\Google Drive\\AIC Experiment Data\\DARP\\ITSC_instance_paper\\Results\\Chicago\\start_18-00\\duration_30_min\\max_delay_03_min\\halns-ih\n",
      "14:28:32 [INFO] Loading json file from: C:\\Google Drive\\AIC Experiment Data\\DARP\\ITSC_instance_paper\\Results\\Chicago\\start_18-00\\duration_30_min\\max_delay_03_min\\ih\\config.yaml-performance.json\n",
      "14:28:32 [INFO] Loading json file from: C:\\Google Drive\\AIC Experiment Data\\DARP\\ITSC_instance_paper\\Results\\Chicago\\start_18-00\\duration_30_min\\max_delay_03_min\\ih\\config.yaml-solution.json\n",
      "14:28:32 [INFO] Loading experiment config from C:\\Google Drive\\AIC Experiment Data\\DARP\\ITSC_instance_paper\\Results\\Chicago\\start_18-00\\duration_30_min\\max_delay_03_min\\ih\\config.yaml\n",
      "14:28:32 [INFO] Loading instance config from C:\\Google Drive\\AIC Experiment Data\\DARP\\ITSC_instance_paper\\Instances\\Chicago\\instances\\start_18-00\\duration_30_min\\max_delay_03_min\\config.yaml\n",
      "14:28:32 [WARNING] No solution found in folder: C:\\Google Drive\\AIC Experiment Data\\DARP\\ITSC_instance_paper\\Results\\Chicago\\start_18-00\\duration_30_min\\max_delay_03_min\\vga\n",
      "14:28:32 [WARNING] No solution found in folder: C:\\Google Drive\\AIC Experiment Data\\DARP\\ITSC_instance_paper\\Results\\Chicago\\start_18-00\\duration_30_min\\max_delay_05_min\\halns\n",
      "14:28:32 [WARNING] No solution found in folder: C:\\Google Drive\\AIC Experiment Data\\DARP\\ITSC_instance_paper\\Results\\Chicago\\start_18-00\\duration_30_min\\max_delay_05_min\\halns-ih\n",
      "14:28:32 [INFO] Loading json file from: C:\\Google Drive\\AIC Experiment Data\\DARP\\ITSC_instance_paper\\Results\\Chicago\\start_18-00\\duration_30_min\\max_delay_05_min\\ih\\config.yaml-performance.json\n",
      "14:28:32 [INFO] Loading json file from: C:\\Google Drive\\AIC Experiment Data\\DARP\\ITSC_instance_paper\\Results\\Chicago\\start_18-00\\duration_30_min\\max_delay_05_min\\ih\\config.yaml-solution.json\n",
      "14:28:32 [INFO] Loading experiment config from C:\\Google Drive\\AIC Experiment Data\\DARP\\ITSC_instance_paper\\Results\\Chicago\\start_18-00\\duration_30_min\\max_delay_05_min\\ih\\config.yaml\n",
      "14:28:32 [INFO] Loading instance config from C:\\Google Drive\\AIC Experiment Data\\DARP\\ITSC_instance_paper\\Instances\\Chicago\\instances\\start_18-00\\duration_30_min\\max_delay_05_min\\config.yaml\n",
      "14:28:32 [WARNING] No solution found in folder: C:\\Google Drive\\AIC Experiment Data\\DARP\\ITSC_instance_paper\\Results\\Chicago\\start_18-00\\duration_30_min\\max_delay_05_min\\vga\n",
      "14:28:32 [WARNING] No solution found in folder: C:\\Google Drive\\AIC Experiment Data\\DARP\\ITSC_instance_paper\\Results\\Chicago\\start_18-00\\duration_30_min\\max_delay_10_min\\halns\n",
      "14:28:32 [WARNING] No solution found in folder: C:\\Google Drive\\AIC Experiment Data\\DARP\\ITSC_instance_paper\\Results\\Chicago\\start_18-00\\duration_30_min\\max_delay_10_min\\halns-ih\n",
      "14:28:32 [INFO] Loading json file from: C:\\Google Drive\\AIC Experiment Data\\DARP\\ITSC_instance_paper\\Results\\Chicago\\start_18-00\\duration_30_min\\max_delay_10_min\\ih\\config.yaml-performance.json\n",
      "14:28:32 [INFO] Loading json file from: C:\\Google Drive\\AIC Experiment Data\\DARP\\ITSC_instance_paper\\Results\\Chicago\\start_18-00\\duration_30_min\\max_delay_10_min\\ih\\config.yaml-solution.json\n",
      "14:28:32 [INFO] Loading experiment config from C:\\Google Drive\\AIC Experiment Data\\DARP\\ITSC_instance_paper\\Results\\Chicago\\start_18-00\\duration_30_min\\max_delay_10_min\\ih\\config.yaml\n",
      "14:28:32 [INFO] Loading instance config from C:\\Google Drive\\AIC Experiment Data\\DARP\\ITSC_instance_paper\\Instances\\Chicago\\instances\\start_18-00\\duration_30_min\\max_delay_10_min\\config.yaml\n",
      "14:28:32 [WARNING] No solution found in folder: C:\\Google Drive\\AIC Experiment Data\\DARP\\ITSC_instance_paper\\Results\\Chicago\\start_18-00\\duration_30_min\\max_delay_10_min\\vga\n",
      "14:28:32 [WARNING] No solution found in folder: C:\\Google Drive\\AIC Experiment Data\\DARP\\ITSC_instance_paper\\Results\\Chicago\\start_18-00\\duration_30_s\\max_delay_03_min\\halns\n",
      "14:28:32 [WARNING] No solution found in folder: C:\\Google Drive\\AIC Experiment Data\\DARP\\ITSC_instance_paper\\Results\\Chicago\\start_18-00\\duration_30_s\\max_delay_03_min\\halns-ih\n",
      "14:28:32 [INFO] Loading json file from: C:\\Google Drive\\AIC Experiment Data\\DARP\\ITSC_instance_paper\\Results\\Chicago\\start_18-00\\duration_30_s\\max_delay_03_min\\ih\\config.yaml-performance.json\n",
      "14:28:32 [INFO] Loading json file from: C:\\Google Drive\\AIC Experiment Data\\DARP\\ITSC_instance_paper\\Results\\Chicago\\start_18-00\\duration_30_s\\max_delay_03_min\\ih\\config.yaml-solution.json\n",
      "14:28:32 [INFO] Loading experiment config from C:\\Google Drive\\AIC Experiment Data\\DARP\\ITSC_instance_paper\\Results\\Chicago\\start_18-00\\duration_30_s\\max_delay_03_min\\ih\\config.yaml\n",
      "14:28:32 [INFO] Loading instance config from C:\\Google Drive\\AIC Experiment Data\\DARP\\ITSC_instance_paper\\Instances\\Chicago\\instances\\start_18-00\\duration_30_s\\max_delay_03_min\\config.yaml\n",
      "14:28:32 [INFO] Loading json file from: C:\\Google Drive\\AIC Experiment Data\\DARP\\ITSC_instance_paper\\Results\\Chicago\\start_18-00\\duration_30_s\\max_delay_03_min\\vga\\config.yaml-performance.json\n",
      "14:28:32 [INFO] Loading json file from: C:\\Google Drive\\AIC Experiment Data\\DARP\\ITSC_instance_paper\\Results\\Chicago\\start_18-00\\duration_30_s\\max_delay_03_min\\vga\\config.yaml-solution.json\n",
      "14:28:32 [INFO] Loading experiment config from C:\\Google Drive\\AIC Experiment Data\\DARP\\ITSC_instance_paper\\Results\\Chicago\\start_18-00\\duration_30_s\\max_delay_03_min\\vga\\config.yaml\n",
      "14:28:32 [INFO] Loading instance config from C:\\Google Drive\\AIC Experiment Data\\DARP\\ITSC_instance_paper\\Instances\\Chicago\\instances\\start_18-00\\duration_30_s\\max_delay_03_min\\config.yaml\n",
      "14:28:32 [WARNING] No solution found in folder: C:\\Google Drive\\AIC Experiment Data\\DARP\\ITSC_instance_paper\\Results\\Chicago\\start_18-00\\duration_30_s\\max_delay_05_min\\halns\n",
      "14:28:32 [WARNING] No solution found in folder: C:\\Google Drive\\AIC Experiment Data\\DARP\\ITSC_instance_paper\\Results\\Chicago\\start_18-00\\duration_30_s\\max_delay_05_min\\halns-ih\n",
      "14:28:32 [INFO] Loading json file from: C:\\Google Drive\\AIC Experiment Data\\DARP\\ITSC_instance_paper\\Results\\Chicago\\start_18-00\\duration_30_s\\max_delay_05_min\\ih\\config.yaml-performance.json\n",
      "14:28:32 [INFO] Loading json file from: C:\\Google Drive\\AIC Experiment Data\\DARP\\ITSC_instance_paper\\Results\\Chicago\\start_18-00\\duration_30_s\\max_delay_05_min\\ih\\config.yaml-solution.json\n",
      "14:28:32 [INFO] Loading experiment config from C:\\Google Drive\\AIC Experiment Data\\DARP\\ITSC_instance_paper\\Results\\Chicago\\start_18-00\\duration_30_s\\max_delay_05_min\\ih\\config.yaml\n",
      "14:28:32 [INFO] Loading instance config from C:\\Google Drive\\AIC Experiment Data\\DARP\\ITSC_instance_paper\\Instances\\Chicago\\instances\\start_18-00\\duration_30_s\\max_delay_05_min\\config.yaml\n",
      "14:28:32 [INFO] Loading json file from: C:\\Google Drive\\AIC Experiment Data\\DARP\\ITSC_instance_paper\\Results\\Chicago\\start_18-00\\duration_30_s\\max_delay_05_min\\vga\\config.yaml-performance.json\n",
      "14:28:32 [INFO] Loading json file from: C:\\Google Drive\\AIC Experiment Data\\DARP\\ITSC_instance_paper\\Results\\Chicago\\start_18-00\\duration_30_s\\max_delay_05_min\\vga\\config.yaml-solution.json\n",
      "14:28:32 [INFO] Loading experiment config from C:\\Google Drive\\AIC Experiment Data\\DARP\\ITSC_instance_paper\\Results\\Chicago\\start_18-00\\duration_30_s\\max_delay_05_min\\vga\\config.yaml\n",
      "14:28:32 [INFO] Loading instance config from C:\\Google Drive\\AIC Experiment Data\\DARP\\ITSC_instance_paper\\Instances\\Chicago\\instances\\start_18-00\\duration_30_s\\max_delay_05_min\\config.yaml\n",
      "14:28:32 [WARNING] No solution found in folder: C:\\Google Drive\\AIC Experiment Data\\DARP\\ITSC_instance_paper\\Results\\Chicago\\start_18-00\\duration_30_s\\max_delay_10_min\\halns\n",
      "14:28:32 [WARNING] No solution found in folder: C:\\Google Drive\\AIC Experiment Data\\DARP\\ITSC_instance_paper\\Results\\Chicago\\start_18-00\\duration_30_s\\max_delay_10_min\\halns-ih\n",
      "14:28:32 [INFO] Loading json file from: C:\\Google Drive\\AIC Experiment Data\\DARP\\ITSC_instance_paper\\Results\\Chicago\\start_18-00\\duration_30_s\\max_delay_10_min\\ih\\config.yaml-performance.json\n",
      "14:28:32 [INFO] Loading json file from: C:\\Google Drive\\AIC Experiment Data\\DARP\\ITSC_instance_paper\\Results\\Chicago\\start_18-00\\duration_30_s\\max_delay_10_min\\ih\\config.yaml-solution.json\n",
      "14:28:32 [INFO] Loading experiment config from C:\\Google Drive\\AIC Experiment Data\\DARP\\ITSC_instance_paper\\Results\\Chicago\\start_18-00\\duration_30_s\\max_delay_10_min\\ih\\config.yaml\n",
      "14:28:32 [INFO] Loading instance config from C:\\Google Drive\\AIC Experiment Data\\DARP\\ITSC_instance_paper\\Instances\\Chicago\\instances\\start_18-00\\duration_30_s\\max_delay_10_min\\config.yaml\n",
      "14:28:32 [INFO] Loading json file from: C:\\Google Drive\\AIC Experiment Data\\DARP\\ITSC_instance_paper\\Results\\Chicago\\start_18-00\\duration_30_s\\max_delay_10_min\\vga\\config.yaml-performance.json\n",
      "14:28:32 [INFO] Loading json file from: C:\\Google Drive\\AIC Experiment Data\\DARP\\ITSC_instance_paper\\Results\\Chicago\\start_18-00\\duration_30_s\\max_delay_10_min\\vga\\config.yaml-solution.json\n",
      "14:28:32 [INFO] Loading experiment config from C:\\Google Drive\\AIC Experiment Data\\DARP\\ITSC_instance_paper\\Results\\Chicago\\start_18-00\\duration_30_s\\max_delay_10_min\\vga\\config.yaml\n",
      "14:28:32 [INFO] Loading instance config from C:\\Google Drive\\AIC Experiment Data\\DARP\\ITSC_instance_paper\\Instances\\Chicago\\instances\\start_18-00\\duration_30_s\\max_delay_10_min\\config.yaml\n",
      "14:28:32 [INFO] Loading aggregate stats in C:\\Google Drive\\AIC Experiment Data\\DARP\\ITSC_instance_paper\\Results\\DC\n",
      "14:28:32 [WARNING] No solution found in folder: C:\\Google Drive\\AIC Experiment Data\\DARP\\ITSC_instance_paper\\Results\\DC\\start_18-00\\duration_01_min\\max_delay_03_min\\halns\n",
      "14:28:32 [WARNING] No solution found in folder: C:\\Google Drive\\AIC Experiment Data\\DARP\\ITSC_instance_paper\\Results\\DC\\start_18-00\\duration_01_min\\max_delay_03_min\\halns-ih\n",
      "14:28:32 [INFO] Loading json file from: C:\\Google Drive\\AIC Experiment Data\\DARP\\ITSC_instance_paper\\Results\\DC\\start_18-00\\duration_01_min\\max_delay_03_min\\ih\\config.yaml-performance.json\n",
      "14:28:32 [INFO] Loading json file from: C:\\Google Drive\\AIC Experiment Data\\DARP\\ITSC_instance_paper\\Results\\DC\\start_18-00\\duration_01_min\\max_delay_03_min\\ih\\config.yaml-solution.json\n",
      "14:28:32 [INFO] Loading experiment config from C:\\Google Drive\\AIC Experiment Data\\DARP\\ITSC_instance_paper\\Results\\DC\\start_18-00\\duration_01_min\\max_delay_03_min\\ih\\config.yaml\n",
      "14:28:32 [INFO] Loading instance config from C:\\Google Drive\\AIC Experiment Data\\DARP\\ITSC_instance_paper\\Instances\\DC\\instances\\start_18-00\\duration_01_min\\max_delay_03_min\\config.yaml\n",
      "14:28:32 [INFO] Loading json file from: C:\\Google Drive\\AIC Experiment Data\\DARP\\ITSC_instance_paper\\Results\\DC\\start_18-00\\duration_01_min\\max_delay_03_min\\vga\\config.yaml-performance.json\n",
      "14:28:32 [INFO] Loading json file from: C:\\Google Drive\\AIC Experiment Data\\DARP\\ITSC_instance_paper\\Results\\DC\\start_18-00\\duration_01_min\\max_delay_03_min\\vga\\config.yaml-solution.json\n",
      "14:28:32 [INFO] Loading experiment config from C:\\Google Drive\\AIC Experiment Data\\DARP\\ITSC_instance_paper\\Results\\DC\\start_18-00\\duration_01_min\\max_delay_03_min\\vga\\config.yaml\n",
      "14:28:32 [INFO] Loading instance config from C:\\Google Drive\\AIC Experiment Data\\DARP\\ITSC_instance_paper\\Instances\\DC\\instances\\start_18-00\\duration_01_min\\max_delay_03_min\\config.yaml\n",
      "14:28:32 [WARNING] No solution found in folder: C:\\Google Drive\\AIC Experiment Data\\DARP\\ITSC_instance_paper\\Results\\DC\\start_18-00\\duration_01_min\\max_delay_05_min\\halns\n",
      "14:28:32 [WARNING] No solution found in folder: C:\\Google Drive\\AIC Experiment Data\\DARP\\ITSC_instance_paper\\Results\\DC\\start_18-00\\duration_01_min\\max_delay_05_min\\halns-ih\n",
      "14:28:32 [INFO] Loading json file from: C:\\Google Drive\\AIC Experiment Data\\DARP\\ITSC_instance_paper\\Results\\DC\\start_18-00\\duration_01_min\\max_delay_05_min\\ih\\config.yaml-performance.json\n",
      "14:28:32 [INFO] Loading json file from: C:\\Google Drive\\AIC Experiment Data\\DARP\\ITSC_instance_paper\\Results\\DC\\start_18-00\\duration_01_min\\max_delay_05_min\\ih\\config.yaml-solution.json\n",
      "14:28:32 [INFO] Loading experiment config from C:\\Google Drive\\AIC Experiment Data\\DARP\\ITSC_instance_paper\\Results\\DC\\start_18-00\\duration_01_min\\max_delay_05_min\\ih\\config.yaml\n",
      "14:28:32 [INFO] Loading instance config from C:\\Google Drive\\AIC Experiment Data\\DARP\\ITSC_instance_paper\\Instances\\DC\\instances\\start_18-00\\duration_01_min\\max_delay_05_min\\config.yaml\n",
      "14:28:32 [INFO] Loading json file from: C:\\Google Drive\\AIC Experiment Data\\DARP\\ITSC_instance_paper\\Results\\DC\\start_18-00\\duration_01_min\\max_delay_05_min\\vga\\config.yaml-performance.json\n",
      "14:28:32 [INFO] Loading json file from: C:\\Google Drive\\AIC Experiment Data\\DARP\\ITSC_instance_paper\\Results\\DC\\start_18-00\\duration_01_min\\max_delay_05_min\\vga\\config.yaml-solution.json\n",
      "14:28:33 [INFO] Loading experiment config from C:\\Google Drive\\AIC Experiment Data\\DARP\\ITSC_instance_paper\\Results\\DC\\start_18-00\\duration_01_min\\max_delay_05_min\\vga\\config.yaml\n",
      "14:28:33 [INFO] Loading instance config from C:\\Google Drive\\AIC Experiment Data\\DARP\\ITSC_instance_paper\\Instances\\DC\\instances\\start_18-00\\duration_01_min\\max_delay_05_min\\config.yaml\n",
      "14:28:33 [WARNING] No solution found in folder: C:\\Google Drive\\AIC Experiment Data\\DARP\\ITSC_instance_paper\\Results\\DC\\start_18-00\\duration_01_min\\max_delay_10_min\\halns\n",
      "14:28:33 [WARNING] No solution found in folder: C:\\Google Drive\\AIC Experiment Data\\DARP\\ITSC_instance_paper\\Results\\DC\\start_18-00\\duration_01_min\\max_delay_10_min\\halns-ih\n",
      "14:28:33 [INFO] Loading json file from: C:\\Google Drive\\AIC Experiment Data\\DARP\\ITSC_instance_paper\\Results\\DC\\start_18-00\\duration_01_min\\max_delay_10_min\\ih\\config.yaml-performance.json\n",
      "14:28:33 [INFO] Loading json file from: C:\\Google Drive\\AIC Experiment Data\\DARP\\ITSC_instance_paper\\Results\\DC\\start_18-00\\duration_01_min\\max_delay_10_min\\ih\\config.yaml-solution.json\n",
      "14:28:33 [INFO] Loading experiment config from C:\\Google Drive\\AIC Experiment Data\\DARP\\ITSC_instance_paper\\Results\\DC\\start_18-00\\duration_01_min\\max_delay_10_min\\ih\\config.yaml\n",
      "14:28:33 [INFO] Loading instance config from C:\\Google Drive\\AIC Experiment Data\\DARP\\ITSC_instance_paper\\Instances\\DC\\instances\\start_18-00\\duration_01_min\\max_delay_10_min\\config.yaml\n",
      "14:28:33 [INFO] Loading json file from: C:\\Google Drive\\AIC Experiment Data\\DARP\\ITSC_instance_paper\\Results\\DC\\start_18-00\\duration_01_min\\max_delay_10_min\\vga\\config.yaml-performance.json\n",
      "14:28:33 [INFO] Loading json file from: C:\\Google Drive\\AIC Experiment Data\\DARP\\ITSC_instance_paper\\Results\\DC\\start_18-00\\duration_01_min\\max_delay_10_min\\vga\\config.yaml-solution.json\n",
      "14:28:33 [INFO] Loading experiment config from C:\\Google Drive\\AIC Experiment Data\\DARP\\ITSC_instance_paper\\Results\\DC\\start_18-00\\duration_01_min\\max_delay_10_min\\vga\\config.yaml\n",
      "14:28:33 [INFO] Loading instance config from C:\\Google Drive\\AIC Experiment Data\\DARP\\ITSC_instance_paper\\Instances\\DC\\instances\\start_18-00\\duration_01_min\\max_delay_10_min\\config.yaml\n",
      "14:28:33 [WARNING] No solution found in folder: C:\\Google Drive\\AIC Experiment Data\\DARP\\ITSC_instance_paper\\Results\\DC\\start_18-00\\duration_02_h\\max_delay_03_min\\halns\n",
      "14:28:33 [WARNING] No solution found in folder: C:\\Google Drive\\AIC Experiment Data\\DARP\\ITSC_instance_paper\\Results\\DC\\start_18-00\\duration_02_h\\max_delay_03_min\\halns-ih\n",
      "14:28:33 [INFO] Loading json file from: C:\\Google Drive\\AIC Experiment Data\\DARP\\ITSC_instance_paper\\Results\\DC\\start_18-00\\duration_02_h\\max_delay_03_min\\ih\\config.yaml-performance.json\n",
      "14:28:33 [INFO] Loading json file from: C:\\Google Drive\\AIC Experiment Data\\DARP\\ITSC_instance_paper\\Results\\DC\\start_18-00\\duration_02_h\\max_delay_03_min\\ih\\config.yaml-solution.json\n",
      "14:28:33 [INFO] Loading experiment config from C:\\Google Drive\\AIC Experiment Data\\DARP\\ITSC_instance_paper\\Results\\DC\\start_18-00\\duration_02_h\\max_delay_03_min\\ih\\config.yaml\n",
      "14:28:33 [INFO] Loading instance config from C:\\Google Drive\\AIC Experiment Data\\DARP\\ITSC_instance_paper\\Instances\\DC\\instances\\start_18-00\\duration_02_h\\max_delay_03_min\\config.yaml\n",
      "14:28:33 [WARNING] No solution found in folder: C:\\Google Drive\\AIC Experiment Data\\DARP\\ITSC_instance_paper\\Results\\DC\\start_18-00\\duration_02_h\\max_delay_03_min\\vga\n",
      "14:28:33 [WARNING] No solution found in folder: C:\\Google Drive\\AIC Experiment Data\\DARP\\ITSC_instance_paper\\Results\\DC\\start_18-00\\duration_02_h\\max_delay_05_min\\halns\n",
      "14:28:33 [WARNING] No solution found in folder: C:\\Google Drive\\AIC Experiment Data\\DARP\\ITSC_instance_paper\\Results\\DC\\start_18-00\\duration_02_h\\max_delay_05_min\\halns-ih\n",
      "14:28:33 [WARNING] No solution found in folder: C:\\Google Drive\\AIC Experiment Data\\DARP\\ITSC_instance_paper\\Results\\DC\\start_18-00\\duration_02_h\\max_delay_05_min\\ih\n",
      "14:28:33 [WARNING] No solution found in folder: C:\\Google Drive\\AIC Experiment Data\\DARP\\ITSC_instance_paper\\Results\\DC\\start_18-00\\duration_02_h\\max_delay_05_min\\vga\n",
      "14:28:33 [WARNING] No solution found in folder: C:\\Google Drive\\AIC Experiment Data\\DARP\\ITSC_instance_paper\\Results\\DC\\start_18-00\\duration_02_h\\max_delay_10_min\\halns\n",
      "14:28:33 [WARNING] No solution found in folder: C:\\Google Drive\\AIC Experiment Data\\DARP\\ITSC_instance_paper\\Results\\DC\\start_18-00\\duration_02_h\\max_delay_10_min\\halns-ih\n",
      "14:28:33 [WARNING] No solution found in folder: C:\\Google Drive\\AIC Experiment Data\\DARP\\ITSC_instance_paper\\Results\\DC\\start_18-00\\duration_02_h\\max_delay_10_min\\ih\n",
      "14:28:33 [WARNING] No solution found in folder: C:\\Google Drive\\AIC Experiment Data\\DARP\\ITSC_instance_paper\\Results\\DC\\start_18-00\\duration_02_h\\max_delay_10_min\\vga\n",
      "14:28:33 [WARNING] No solution found in folder: C:\\Google Drive\\AIC Experiment Data\\DARP\\ITSC_instance_paper\\Results\\DC\\start_18-00\\duration_02_min\\max_delay_03_min\\halns\n",
      "14:28:33 [WARNING] No solution found in folder: C:\\Google Drive\\AIC Experiment Data\\DARP\\ITSC_instance_paper\\Results\\DC\\start_18-00\\duration_02_min\\max_delay_03_min\\halns-ih\n",
      "14:28:33 [INFO] Loading json file from: C:\\Google Drive\\AIC Experiment Data\\DARP\\ITSC_instance_paper\\Results\\DC\\start_18-00\\duration_02_min\\max_delay_03_min\\ih\\config.yaml-performance.json\n",
      "14:28:33 [INFO] Loading json file from: C:\\Google Drive\\AIC Experiment Data\\DARP\\ITSC_instance_paper\\Results\\DC\\start_18-00\\duration_02_min\\max_delay_03_min\\ih\\config.yaml-solution.json\n",
      "14:28:33 [INFO] Loading experiment config from C:\\Google Drive\\AIC Experiment Data\\DARP\\ITSC_instance_paper\\Results\\DC\\start_18-00\\duration_02_min\\max_delay_03_min\\ih\\config.yaml\n",
      "14:28:33 [INFO] Loading instance config from C:\\Google Drive\\AIC Experiment Data\\DARP\\ITSC_instance_paper\\Instances\\DC\\instances\\start_18-00\\duration_02_min\\max_delay_03_min\\config.yaml\n",
      "14:28:33 [INFO] Loading json file from: C:\\Google Drive\\AIC Experiment Data\\DARP\\ITSC_instance_paper\\Results\\DC\\start_18-00\\duration_02_min\\max_delay_03_min\\vga\\config.yaml-performance.json\n",
      "14:28:33 [INFO] Loading json file from: C:\\Google Drive\\AIC Experiment Data\\DARP\\ITSC_instance_paper\\Results\\DC\\start_18-00\\duration_02_min\\max_delay_03_min\\vga\\config.yaml-solution.json\n",
      "14:28:33 [INFO] Loading experiment config from C:\\Google Drive\\AIC Experiment Data\\DARP\\ITSC_instance_paper\\Results\\DC\\start_18-00\\duration_02_min\\max_delay_03_min\\vga\\config.yaml\n",
      "14:28:33 [INFO] Loading instance config from C:\\Google Drive\\AIC Experiment Data\\DARP\\ITSC_instance_paper\\Instances\\DC\\instances\\start_18-00\\duration_02_min\\max_delay_03_min\\config.yaml\n",
      "14:28:33 [WARNING] No solution found in folder: C:\\Google Drive\\AIC Experiment Data\\DARP\\ITSC_instance_paper\\Results\\DC\\start_18-00\\duration_02_min\\max_delay_05_min\\halns\n",
      "14:28:33 [WARNING] No solution found in folder: C:\\Google Drive\\AIC Experiment Data\\DARP\\ITSC_instance_paper\\Results\\DC\\start_18-00\\duration_02_min\\max_delay_05_min\\halns-ih\n",
      "14:28:33 [INFO] Loading json file from: C:\\Google Drive\\AIC Experiment Data\\DARP\\ITSC_instance_paper\\Results\\DC\\start_18-00\\duration_02_min\\max_delay_05_min\\ih\\config.yaml-performance.json\n",
      "14:28:33 [INFO] Loading json file from: C:\\Google Drive\\AIC Experiment Data\\DARP\\ITSC_instance_paper\\Results\\DC\\start_18-00\\duration_02_min\\max_delay_05_min\\ih\\config.yaml-solution.json\n",
      "14:28:33 [INFO] Loading experiment config from C:\\Google Drive\\AIC Experiment Data\\DARP\\ITSC_instance_paper\\Results\\DC\\start_18-00\\duration_02_min\\max_delay_05_min\\ih\\config.yaml\n",
      "14:28:33 [INFO] Loading instance config from C:\\Google Drive\\AIC Experiment Data\\DARP\\ITSC_instance_paper\\Instances\\DC\\instances\\start_18-00\\duration_02_min\\max_delay_05_min\\config.yaml\n",
      "14:28:33 [INFO] Loading json file from: C:\\Google Drive\\AIC Experiment Data\\DARP\\ITSC_instance_paper\\Results\\DC\\start_18-00\\duration_02_min\\max_delay_05_min\\vga\\config.yaml-performance.json\n",
      "14:28:33 [INFO] Loading json file from: C:\\Google Drive\\AIC Experiment Data\\DARP\\ITSC_instance_paper\\Results\\DC\\start_18-00\\duration_02_min\\max_delay_05_min\\vga\\config.yaml-solution.json\n",
      "14:28:33 [INFO] Loading experiment config from C:\\Google Drive\\AIC Experiment Data\\DARP\\ITSC_instance_paper\\Results\\DC\\start_18-00\\duration_02_min\\max_delay_05_min\\vga\\config.yaml\n",
      "14:28:33 [INFO] Loading instance config from C:\\Google Drive\\AIC Experiment Data\\DARP\\ITSC_instance_paper\\Instances\\DC\\instances\\start_18-00\\duration_02_min\\max_delay_05_min\\config.yaml\n",
      "14:28:33 [WARNING] No solution found in folder: C:\\Google Drive\\AIC Experiment Data\\DARP\\ITSC_instance_paper\\Results\\DC\\start_18-00\\duration_02_min\\max_delay_10_min\\halns\n",
      "14:28:33 [WARNING] No solution found in folder: C:\\Google Drive\\AIC Experiment Data\\DARP\\ITSC_instance_paper\\Results\\DC\\start_18-00\\duration_02_min\\max_delay_10_min\\halns-ih\n",
      "14:28:33 [INFO] Loading json file from: C:\\Google Drive\\AIC Experiment Data\\DARP\\ITSC_instance_paper\\Results\\DC\\start_18-00\\duration_02_min\\max_delay_10_min\\ih\\config.yaml-performance.json\n",
      "14:28:33 [INFO] Loading json file from: C:\\Google Drive\\AIC Experiment Data\\DARP\\ITSC_instance_paper\\Results\\DC\\start_18-00\\duration_02_min\\max_delay_10_min\\ih\\config.yaml-solution.json\n",
      "14:28:33 [INFO] Loading experiment config from C:\\Google Drive\\AIC Experiment Data\\DARP\\ITSC_instance_paper\\Results\\DC\\start_18-00\\duration_02_min\\max_delay_10_min\\ih\\config.yaml\n",
      "14:28:33 [INFO] Loading instance config from C:\\Google Drive\\AIC Experiment Data\\DARP\\ITSC_instance_paper\\Instances\\DC\\instances\\start_18-00\\duration_02_min\\max_delay_10_min\\config.yaml\n",
      "14:28:33 [INFO] Loading json file from: C:\\Google Drive\\AIC Experiment Data\\DARP\\ITSC_instance_paper\\Results\\DC\\start_18-00\\duration_02_min\\max_delay_10_min\\vga\\config.yaml-performance.json\n",
      "14:28:33 [INFO] Loading json file from: C:\\Google Drive\\AIC Experiment Data\\DARP\\ITSC_instance_paper\\Results\\DC\\start_18-00\\duration_02_min\\max_delay_10_min\\vga\\config.yaml-solution.json\n",
      "14:28:33 [INFO] Loading experiment config from C:\\Google Drive\\AIC Experiment Data\\DARP\\ITSC_instance_paper\\Results\\DC\\start_18-00\\duration_02_min\\max_delay_10_min\\vga\\config.yaml\n",
      "14:28:33 [INFO] Loading instance config from C:\\Google Drive\\AIC Experiment Data\\DARP\\ITSC_instance_paper\\Instances\\DC\\instances\\start_18-00\\duration_02_min\\max_delay_10_min\\config.yaml\n",
      "14:28:33 [WARNING] No solution found in folder: C:\\Google Drive\\AIC Experiment Data\\DARP\\ITSC_instance_paper\\Results\\DC\\start_18-00\\duration_05_min\\max_delay_03_min\\halns\n",
      "14:28:33 [WARNING] No solution found in folder: C:\\Google Drive\\AIC Experiment Data\\DARP\\ITSC_instance_paper\\Results\\DC\\start_18-00\\duration_05_min\\max_delay_03_min\\halns-ih\n",
      "14:28:33 [INFO] Loading json file from: C:\\Google Drive\\AIC Experiment Data\\DARP\\ITSC_instance_paper\\Results\\DC\\start_18-00\\duration_05_min\\max_delay_03_min\\ih\\config.yaml-performance.json\n",
      "14:28:33 [INFO] Loading json file from: C:\\Google Drive\\AIC Experiment Data\\DARP\\ITSC_instance_paper\\Results\\DC\\start_18-00\\duration_05_min\\max_delay_03_min\\ih\\config.yaml-solution.json\n",
      "14:28:33 [INFO] Loading experiment config from C:\\Google Drive\\AIC Experiment Data\\DARP\\ITSC_instance_paper\\Results\\DC\\start_18-00\\duration_05_min\\max_delay_03_min\\ih\\config.yaml\n",
      "14:28:33 [INFO] Loading instance config from C:\\Google Drive\\AIC Experiment Data\\DARP\\ITSC_instance_paper\\Instances\\DC\\instances\\start_18-00\\duration_05_min\\max_delay_03_min\\config.yaml\n",
      "14:28:33 [INFO] Loading json file from: C:\\Google Drive\\AIC Experiment Data\\DARP\\ITSC_instance_paper\\Results\\DC\\start_18-00\\duration_05_min\\max_delay_03_min\\vga\\config.yaml-performance.json\n",
      "14:28:33 [INFO] Loading json file from: C:\\Google Drive\\AIC Experiment Data\\DARP\\ITSC_instance_paper\\Results\\DC\\start_18-00\\duration_05_min\\max_delay_03_min\\vga\\config.yaml-solution.json\n",
      "14:28:33 [INFO] Loading experiment config from C:\\Google Drive\\AIC Experiment Data\\DARP\\ITSC_instance_paper\\Results\\DC\\start_18-00\\duration_05_min\\max_delay_03_min\\vga\\config.yaml\n",
      "14:28:33 [INFO] Loading instance config from C:\\Google Drive\\AIC Experiment Data\\DARP\\ITSC_instance_paper\\Instances\\DC\\instances\\start_18-00\\duration_05_min\\max_delay_03_min\\config.yaml\n",
      "14:28:33 [WARNING] No solution found in folder: C:\\Google Drive\\AIC Experiment Data\\DARP\\ITSC_instance_paper\\Results\\DC\\start_18-00\\duration_05_min\\max_delay_05_min\\halns\n",
      "14:28:33 [WARNING] No solution found in folder: C:\\Google Drive\\AIC Experiment Data\\DARP\\ITSC_instance_paper\\Results\\DC\\start_18-00\\duration_05_min\\max_delay_05_min\\halns-ih\n",
      "14:28:33 [INFO] Loading json file from: C:\\Google Drive\\AIC Experiment Data\\DARP\\ITSC_instance_paper\\Results\\DC\\start_18-00\\duration_05_min\\max_delay_05_min\\ih\\config.yaml-performance.json\n",
      "14:28:33 [INFO] Loading json file from: C:\\Google Drive\\AIC Experiment Data\\DARP\\ITSC_instance_paper\\Results\\DC\\start_18-00\\duration_05_min\\max_delay_05_min\\ih\\config.yaml-solution.json\n",
      "14:28:33 [INFO] Loading experiment config from C:\\Google Drive\\AIC Experiment Data\\DARP\\ITSC_instance_paper\\Results\\DC\\start_18-00\\duration_05_min\\max_delay_05_min\\ih\\config.yaml\n",
      "14:28:33 [INFO] Loading instance config from C:\\Google Drive\\AIC Experiment Data\\DARP\\ITSC_instance_paper\\Instances\\DC\\instances\\start_18-00\\duration_05_min\\max_delay_05_min\\config.yaml\n",
      "14:28:33 [INFO] Loading json file from: C:\\Google Drive\\AIC Experiment Data\\DARP\\ITSC_instance_paper\\Results\\DC\\start_18-00\\duration_05_min\\max_delay_05_min\\vga\\config.yaml-performance.json\n",
      "14:28:33 [INFO] Loading json file from: C:\\Google Drive\\AIC Experiment Data\\DARP\\ITSC_instance_paper\\Results\\DC\\start_18-00\\duration_05_min\\max_delay_05_min\\vga\\config.yaml-solution.json\n",
      "14:28:33 [INFO] Loading experiment config from C:\\Google Drive\\AIC Experiment Data\\DARP\\ITSC_instance_paper\\Results\\DC\\start_18-00\\duration_05_min\\max_delay_05_min\\vga\\config.yaml\n",
      "14:28:33 [INFO] Loading instance config from C:\\Google Drive\\AIC Experiment Data\\DARP\\ITSC_instance_paper\\Instances\\DC\\instances\\start_18-00\\duration_05_min\\max_delay_05_min\\config.yaml\n",
      "14:28:33 [WARNING] No solution found in folder: C:\\Google Drive\\AIC Experiment Data\\DARP\\ITSC_instance_paper\\Results\\DC\\start_18-00\\duration_05_min\\max_delay_10_min\\halns\n",
      "14:28:33 [WARNING] No solution found in folder: C:\\Google Drive\\AIC Experiment Data\\DARP\\ITSC_instance_paper\\Results\\DC\\start_18-00\\duration_05_min\\max_delay_10_min\\halns-ih\n",
      "14:28:33 [INFO] Loading json file from: C:\\Google Drive\\AIC Experiment Data\\DARP\\ITSC_instance_paper\\Results\\DC\\start_18-00\\duration_05_min\\max_delay_10_min\\ih\\config.yaml-performance.json\n",
      "14:28:33 [INFO] Loading json file from: C:\\Google Drive\\AIC Experiment Data\\DARP\\ITSC_instance_paper\\Results\\DC\\start_18-00\\duration_05_min\\max_delay_10_min\\ih\\config.yaml-solution.json\n",
      "14:28:33 [INFO] Loading experiment config from C:\\Google Drive\\AIC Experiment Data\\DARP\\ITSC_instance_paper\\Results\\DC\\start_18-00\\duration_05_min\\max_delay_10_min\\ih\\config.yaml\n",
      "14:28:33 [INFO] Loading instance config from C:\\Google Drive\\AIC Experiment Data\\DARP\\ITSC_instance_paper\\Instances\\DC\\instances\\start_18-00\\duration_05_min\\max_delay_10_min\\config.yaml\n",
      "14:28:33 [INFO] Loading json file from: C:\\Google Drive\\AIC Experiment Data\\DARP\\ITSC_instance_paper\\Results\\DC\\start_18-00\\duration_05_min\\max_delay_10_min\\vga\\config.yaml-performance.json\n",
      "14:28:33 [INFO] Loading json file from: C:\\Google Drive\\AIC Experiment Data\\DARP\\ITSC_instance_paper\\Results\\DC\\start_18-00\\duration_05_min\\max_delay_10_min\\vga\\config.yaml-solution.json\n",
      "14:28:33 [INFO] Loading experiment config from C:\\Google Drive\\AIC Experiment Data\\DARP\\ITSC_instance_paper\\Results\\DC\\start_18-00\\duration_05_min\\max_delay_10_min\\vga\\config.yaml\n",
      "14:28:33 [INFO] Loading instance config from C:\\Google Drive\\AIC Experiment Data\\DARP\\ITSC_instance_paper\\Instances\\DC\\instances\\start_18-00\\duration_05_min\\max_delay_10_min\\config.yaml\n",
      "14:28:33 [WARNING] No solution found in folder: C:\\Google Drive\\AIC Experiment Data\\DARP\\ITSC_instance_paper\\Results\\DC\\start_18-00\\duration_15_min\\max_delay_03_min\\halns\n",
      "14:28:33 [WARNING] No solution found in folder: C:\\Google Drive\\AIC Experiment Data\\DARP\\ITSC_instance_paper\\Results\\DC\\start_18-00\\duration_15_min\\max_delay_03_min\\halns-ih\n",
      "14:28:33 [INFO] Loading json file from: C:\\Google Drive\\AIC Experiment Data\\DARP\\ITSC_instance_paper\\Results\\DC\\start_18-00\\duration_15_min\\max_delay_03_min\\ih\\config.yaml-performance.json\n",
      "14:28:33 [INFO] Loading json file from: C:\\Google Drive\\AIC Experiment Data\\DARP\\ITSC_instance_paper\\Results\\DC\\start_18-00\\duration_15_min\\max_delay_03_min\\ih\\config.yaml-solution.json\n",
      "14:28:33 [INFO] Loading experiment config from C:\\Google Drive\\AIC Experiment Data\\DARP\\ITSC_instance_paper\\Results\\DC\\start_18-00\\duration_15_min\\max_delay_03_min\\ih\\config.yaml\n",
      "14:28:33 [INFO] Loading instance config from C:\\Google Drive\\AIC Experiment Data\\DARP\\ITSC_instance_paper\\Instances\\DC\\instances\\start_18-00\\duration_15_min\\max_delay_03_min\\config.yaml\n",
      "14:28:33 [INFO] Loading json file from: C:\\Google Drive\\AIC Experiment Data\\DARP\\ITSC_instance_paper\\Results\\DC\\start_18-00\\duration_15_min\\max_delay_03_min\\vga\\config.yaml-performance.json\n",
      "14:28:33 [INFO] Loading json file from: C:\\Google Drive\\AIC Experiment Data\\DARP\\ITSC_instance_paper\\Results\\DC\\start_18-00\\duration_15_min\\max_delay_03_min\\vga\\config.yaml-solution.json\n",
      "14:28:33 [INFO] Loading experiment config from C:\\Google Drive\\AIC Experiment Data\\DARP\\ITSC_instance_paper\\Results\\DC\\start_18-00\\duration_15_min\\max_delay_03_min\\vga\\config.yaml\n",
      "14:28:33 [INFO] Loading instance config from C:\\Google Drive\\AIC Experiment Data\\DARP\\ITSC_instance_paper\\Instances\\DC\\instances\\start_18-00\\duration_15_min\\max_delay_03_min\\config.yaml\n",
      "14:28:33 [WARNING] No solution found in folder: C:\\Google Drive\\AIC Experiment Data\\DARP\\ITSC_instance_paper\\Results\\DC\\start_18-00\\duration_15_min\\max_delay_05_min\\halns\n",
      "14:28:33 [WARNING] No solution found in folder: C:\\Google Drive\\AIC Experiment Data\\DARP\\ITSC_instance_paper\\Results\\DC\\start_18-00\\duration_15_min\\max_delay_05_min\\halns-ih\n",
      "14:28:33 [INFO] Loading json file from: C:\\Google Drive\\AIC Experiment Data\\DARP\\ITSC_instance_paper\\Results\\DC\\start_18-00\\duration_15_min\\max_delay_05_min\\ih\\config.yaml-performance.json\n",
      "14:28:33 [INFO] Loading json file from: C:\\Google Drive\\AIC Experiment Data\\DARP\\ITSC_instance_paper\\Results\\DC\\start_18-00\\duration_15_min\\max_delay_05_min\\ih\\config.yaml-solution.json\n",
      "14:28:33 [INFO] Loading experiment config from C:\\Google Drive\\AIC Experiment Data\\DARP\\ITSC_instance_paper\\Results\\DC\\start_18-00\\duration_15_min\\max_delay_05_min\\ih\\config.yaml\n",
      "14:28:33 [INFO] Loading instance config from C:\\Google Drive\\AIC Experiment Data\\DARP\\ITSC_instance_paper\\Instances\\DC\\instances\\start_18-00\\duration_15_min\\max_delay_05_min\\config.yaml\n",
      "14:28:33 [INFO] Loading json file from: C:\\Google Drive\\AIC Experiment Data\\DARP\\ITSC_instance_paper\\Results\\DC\\start_18-00\\duration_15_min\\max_delay_05_min\\vga\\config.yaml-performance.json\n",
      "14:28:33 [INFO] Loading json file from: C:\\Google Drive\\AIC Experiment Data\\DARP\\ITSC_instance_paper\\Results\\DC\\start_18-00\\duration_15_min\\max_delay_05_min\\vga\\config.yaml-solution.json\n",
      "14:28:33 [INFO] Loading experiment config from C:\\Google Drive\\AIC Experiment Data\\DARP\\ITSC_instance_paper\\Results\\DC\\start_18-00\\duration_15_min\\max_delay_05_min\\vga\\config.yaml\n",
      "14:28:33 [INFO] Loading instance config from C:\\Google Drive\\AIC Experiment Data\\DARP\\ITSC_instance_paper\\Instances\\DC\\instances\\start_18-00\\duration_15_min\\max_delay_05_min\\config.yaml\n",
      "14:28:33 [WARNING] No solution found in folder: C:\\Google Drive\\AIC Experiment Data\\DARP\\ITSC_instance_paper\\Results\\DC\\start_18-00\\duration_15_min\\max_delay_10_min\\halns\n",
      "14:28:33 [WARNING] No solution found in folder: C:\\Google Drive\\AIC Experiment Data\\DARP\\ITSC_instance_paper\\Results\\DC\\start_18-00\\duration_15_min\\max_delay_10_min\\halns-ih\n",
      "14:28:33 [INFO] Loading json file from: C:\\Google Drive\\AIC Experiment Data\\DARP\\ITSC_instance_paper\\Results\\DC\\start_18-00\\duration_15_min\\max_delay_10_min\\ih\\config.yaml-performance.json\n",
      "14:28:33 [INFO] Loading json file from: C:\\Google Drive\\AIC Experiment Data\\DARP\\ITSC_instance_paper\\Results\\DC\\start_18-00\\duration_15_min\\max_delay_10_min\\ih\\config.yaml-solution.json\n",
      "14:28:33 [INFO] Loading experiment config from C:\\Google Drive\\AIC Experiment Data\\DARP\\ITSC_instance_paper\\Results\\DC\\start_18-00\\duration_15_min\\max_delay_10_min\\ih\\config.yaml\n",
      "14:28:33 [INFO] Loading instance config from C:\\Google Drive\\AIC Experiment Data\\DARP\\ITSC_instance_paper\\Instances\\DC\\instances\\start_18-00\\duration_15_min\\max_delay_10_min\\config.yaml\n",
      "14:28:33 [INFO] Loading json file from: C:\\Google Drive\\AIC Experiment Data\\DARP\\ITSC_instance_paper\\Results\\DC\\start_18-00\\duration_15_min\\max_delay_10_min\\vga\\config.yaml-performance.json\n",
      "14:28:33 [INFO] Loading json file from: C:\\Google Drive\\AIC Experiment Data\\DARP\\ITSC_instance_paper\\Results\\DC\\start_18-00\\duration_15_min\\max_delay_10_min\\vga\\config.yaml-solution.json\n",
      "14:28:33 [INFO] Loading experiment config from C:\\Google Drive\\AIC Experiment Data\\DARP\\ITSC_instance_paper\\Results\\DC\\start_18-00\\duration_15_min\\max_delay_10_min\\vga\\config.yaml\n",
      "14:28:33 [INFO] Loading instance config from C:\\Google Drive\\AIC Experiment Data\\DARP\\ITSC_instance_paper\\Instances\\DC\\instances\\start_18-00\\duration_15_min\\max_delay_10_min\\config.yaml\n",
      "14:28:33 [WARNING] No solution found in folder: C:\\Google Drive\\AIC Experiment Data\\DARP\\ITSC_instance_paper\\Results\\DC\\start_18-00\\duration_16_h\\max_delay_03_min\\halns\n",
      "14:28:33 [WARNING] No solution found in folder: C:\\Google Drive\\AIC Experiment Data\\DARP\\ITSC_instance_paper\\Results\\DC\\start_18-00\\duration_16_h\\max_delay_03_min\\halns-ih\n",
      "14:28:33 [INFO] Loading json file from: C:\\Google Drive\\AIC Experiment Data\\DARP\\ITSC_instance_paper\\Results\\DC\\start_18-00\\duration_16_h\\max_delay_03_min\\ih\\config.yaml-performance.json\n",
      "14:28:33 [INFO] Loading json file from: C:\\Google Drive\\AIC Experiment Data\\DARP\\ITSC_instance_paper\\Results\\DC\\start_18-00\\duration_16_h\\max_delay_03_min\\ih\\config.yaml-solution.json\n",
      "14:28:33 [INFO] Loading experiment config from C:\\Google Drive\\AIC Experiment Data\\DARP\\ITSC_instance_paper\\Results\\DC\\start_18-00\\duration_16_h\\max_delay_03_min\\ih\\config.yaml\n",
      "14:28:33 [INFO] Loading instance config from C:\\Google Drive\\AIC Experiment Data\\DARP\\ITSC_instance_paper\\Instances\\DC\\instances\\start_18-00\\duration_16_h\\max_delay_03_min\\config.yaml\n",
      "14:28:33 [WARNING] No solution found in folder: C:\\Google Drive\\AIC Experiment Data\\DARP\\ITSC_instance_paper\\Results\\DC\\start_18-00\\duration_16_h\\max_delay_03_min\\vga\n",
      "14:28:33 [WARNING] No solution found in folder: C:\\Google Drive\\AIC Experiment Data\\DARP\\ITSC_instance_paper\\Results\\DC\\start_18-00\\duration_16_h\\max_delay_05_min\\halns\n",
      "14:28:33 [WARNING] No solution found in folder: C:\\Google Drive\\AIC Experiment Data\\DARP\\ITSC_instance_paper\\Results\\DC\\start_18-00\\duration_16_h\\max_delay_05_min\\halns-ih\n",
      "14:28:33 [WARNING] No solution found in folder: C:\\Google Drive\\AIC Experiment Data\\DARP\\ITSC_instance_paper\\Results\\DC\\start_18-00\\duration_16_h\\max_delay_05_min\\ih\n",
      "14:28:33 [WARNING] No solution found in folder: C:\\Google Drive\\AIC Experiment Data\\DARP\\ITSC_instance_paper\\Results\\DC\\start_18-00\\duration_16_h\\max_delay_05_min\\vga\n",
      "14:28:33 [WARNING] No solution found in folder: C:\\Google Drive\\AIC Experiment Data\\DARP\\ITSC_instance_paper\\Results\\DC\\start_18-00\\duration_16_h\\max_delay_10_min\\halns\n",
      "14:28:33 [WARNING] No solution found in folder: C:\\Google Drive\\AIC Experiment Data\\DARP\\ITSC_instance_paper\\Results\\DC\\start_18-00\\duration_16_h\\max_delay_10_min\\halns-ih\n",
      "14:28:33 [WARNING] No solution found in folder: C:\\Google Drive\\AIC Experiment Data\\DARP\\ITSC_instance_paper\\Results\\DC\\start_18-00\\duration_16_h\\max_delay_10_min\\ih\n",
      "14:28:33 [WARNING] No solution found in folder: C:\\Google Drive\\AIC Experiment Data\\DARP\\ITSC_instance_paper\\Results\\DC\\start_18-00\\duration_16_h\\max_delay_10_min\\vga\n",
      "14:28:33 [WARNING] No solution found in folder: C:\\Google Drive\\AIC Experiment Data\\DARP\\ITSC_instance_paper\\Results\\DC\\start_18-00\\duration_30_min\\max_delay_03_min\\halns\n",
      "14:28:33 [WARNING] No solution found in folder: C:\\Google Drive\\AIC Experiment Data\\DARP\\ITSC_instance_paper\\Results\\DC\\start_18-00\\duration_30_min\\max_delay_03_min\\halns-ih\n",
      "14:28:33 [INFO] Loading json file from: C:\\Google Drive\\AIC Experiment Data\\DARP\\ITSC_instance_paper\\Results\\DC\\start_18-00\\duration_30_min\\max_delay_03_min\\ih\\config.yaml-performance.json\n",
      "14:28:33 [INFO] Loading json file from: C:\\Google Drive\\AIC Experiment Data\\DARP\\ITSC_instance_paper\\Results\\DC\\start_18-00\\duration_30_min\\max_delay_03_min\\ih\\config.yaml-solution.json\n",
      "14:28:33 [INFO] Loading experiment config from C:\\Google Drive\\AIC Experiment Data\\DARP\\ITSC_instance_paper\\Results\\DC\\start_18-00\\duration_30_min\\max_delay_03_min\\ih\\config.yaml\n",
      "14:28:33 [INFO] Loading instance config from C:\\Google Drive\\AIC Experiment Data\\DARP\\ITSC_instance_paper\\Instances\\DC\\instances\\start_18-00\\duration_30_min\\max_delay_03_min\\config.yaml\n",
      "14:28:33 [INFO] Loading json file from: C:\\Google Drive\\AIC Experiment Data\\DARP\\ITSC_instance_paper\\Results\\DC\\start_18-00\\duration_30_min\\max_delay_03_min\\vga\\config.yaml-performance.json\n",
      "14:28:33 [INFO] Loading json file from: C:\\Google Drive\\AIC Experiment Data\\DARP\\ITSC_instance_paper\\Results\\DC\\start_18-00\\duration_30_min\\max_delay_03_min\\vga\\config.yaml-solution.json\n",
      "14:28:33 [INFO] Loading experiment config from C:\\Google Drive\\AIC Experiment Data\\DARP\\ITSC_instance_paper\\Results\\DC\\start_18-00\\duration_30_min\\max_delay_03_min\\vga\\config.yaml\n",
      "14:28:33 [INFO] Loading instance config from C:\\Google Drive\\AIC Experiment Data\\DARP\\ITSC_instance_paper\\Instances\\DC\\instances\\start_18-00\\duration_30_min\\max_delay_03_min\\config.yaml\n",
      "14:28:33 [WARNING] No solution found in folder: C:\\Google Drive\\AIC Experiment Data\\DARP\\ITSC_instance_paper\\Results\\DC\\start_18-00\\duration_30_min\\max_delay_05_min\\halns\n",
      "14:28:33 [WARNING] No solution found in folder: C:\\Google Drive\\AIC Experiment Data\\DARP\\ITSC_instance_paper\\Results\\DC\\start_18-00\\duration_30_min\\max_delay_05_min\\halns-ih\n",
      "14:28:33 [INFO] Loading json file from: C:\\Google Drive\\AIC Experiment Data\\DARP\\ITSC_instance_paper\\Results\\DC\\start_18-00\\duration_30_min\\max_delay_05_min\\ih\\config.yaml-performance.json\n",
      "14:28:33 [INFO] Loading json file from: C:\\Google Drive\\AIC Experiment Data\\DARP\\ITSC_instance_paper\\Results\\DC\\start_18-00\\duration_30_min\\max_delay_05_min\\ih\\config.yaml-solution.json\n",
      "14:28:33 [INFO] Loading experiment config from C:\\Google Drive\\AIC Experiment Data\\DARP\\ITSC_instance_paper\\Results\\DC\\start_18-00\\duration_30_min\\max_delay_05_min\\ih\\config.yaml\n",
      "14:28:33 [INFO] Loading instance config from C:\\Google Drive\\AIC Experiment Data\\DARP\\ITSC_instance_paper\\Instances\\DC\\instances\\start_18-00\\duration_30_min\\max_delay_05_min\\config.yaml\n",
      "14:28:33 [INFO] Loading json file from: C:\\Google Drive\\AIC Experiment Data\\DARP\\ITSC_instance_paper\\Results\\DC\\start_18-00\\duration_30_min\\max_delay_05_min\\vga\\config.yaml-performance.json\n",
      "14:28:33 [INFO] Loading json file from: C:\\Google Drive\\AIC Experiment Data\\DARP\\ITSC_instance_paper\\Results\\DC\\start_18-00\\duration_30_min\\max_delay_05_min\\vga\\config.yaml-solution.json\n",
      "14:28:33 [INFO] Loading experiment config from C:\\Google Drive\\AIC Experiment Data\\DARP\\ITSC_instance_paper\\Results\\DC\\start_18-00\\duration_30_min\\max_delay_05_min\\vga\\config.yaml\n",
      "14:28:33 [INFO] Loading instance config from C:\\Google Drive\\AIC Experiment Data\\DARP\\ITSC_instance_paper\\Instances\\DC\\instances\\start_18-00\\duration_30_min\\max_delay_05_min\\config.yaml\n",
      "14:28:33 [WARNING] No solution found in folder: C:\\Google Drive\\AIC Experiment Data\\DARP\\ITSC_instance_paper\\Results\\DC\\start_18-00\\duration_30_min\\max_delay_10_min\\halns\n",
      "14:28:33 [WARNING] No solution found in folder: C:\\Google Drive\\AIC Experiment Data\\DARP\\ITSC_instance_paper\\Results\\DC\\start_18-00\\duration_30_min\\max_delay_10_min\\halns-ih\n",
      "14:28:33 [INFO] Loading json file from: C:\\Google Drive\\AIC Experiment Data\\DARP\\ITSC_instance_paper\\Results\\DC\\start_18-00\\duration_30_min\\max_delay_10_min\\ih\\config.yaml-performance.json\n",
      "14:28:33 [INFO] Loading json file from: C:\\Google Drive\\AIC Experiment Data\\DARP\\ITSC_instance_paper\\Results\\DC\\start_18-00\\duration_30_min\\max_delay_10_min\\ih\\config.yaml-solution.json\n",
      "14:28:33 [INFO] Loading experiment config from C:\\Google Drive\\AIC Experiment Data\\DARP\\ITSC_instance_paper\\Results\\DC\\start_18-00\\duration_30_min\\max_delay_10_min\\ih\\config.yaml\n",
      "14:28:33 [INFO] Loading instance config from C:\\Google Drive\\AIC Experiment Data\\DARP\\ITSC_instance_paper\\Instances\\DC\\instances\\start_18-00\\duration_30_min\\max_delay_10_min\\config.yaml\n",
      "14:28:33 [WARNING] No solution found in folder: C:\\Google Drive\\AIC Experiment Data\\DARP\\ITSC_instance_paper\\Results\\DC\\start_18-00\\duration_30_min\\max_delay_10_min\\vga\n",
      "14:28:33 [WARNING] No solution found in folder: C:\\Google Drive\\AIC Experiment Data\\DARP\\ITSC_instance_paper\\Results\\DC\\start_18-00\\duration_30_s\\max_delay_03_min\\halns\n",
      "14:28:33 [WARNING] No solution found in folder: C:\\Google Drive\\AIC Experiment Data\\DARP\\ITSC_instance_paper\\Results\\DC\\start_18-00\\duration_30_s\\max_delay_03_min\\halns-ih\n",
      "14:28:33 [INFO] Loading json file from: C:\\Google Drive\\AIC Experiment Data\\DARP\\ITSC_instance_paper\\Results\\DC\\start_18-00\\duration_30_s\\max_delay_03_min\\ih\\config.yaml-performance.json\n",
      "14:28:33 [INFO] Loading json file from: C:\\Google Drive\\AIC Experiment Data\\DARP\\ITSC_instance_paper\\Results\\DC\\start_18-00\\duration_30_s\\max_delay_03_min\\ih\\config.yaml-solution.json\n",
      "14:28:33 [INFO] Loading experiment config from C:\\Google Drive\\AIC Experiment Data\\DARP\\ITSC_instance_paper\\Results\\DC\\start_18-00\\duration_30_s\\max_delay_03_min\\ih\\config.yaml\n",
      "14:28:33 [INFO] Loading instance config from C:\\Google Drive\\AIC Experiment Data\\DARP\\ITSC_instance_paper\\Instances\\DC\\instances\\start_18-00\\duration_30_s\\max_delay_03_min\\config.yaml\n",
      "14:28:33 [INFO] Loading json file from: C:\\Google Drive\\AIC Experiment Data\\DARP\\ITSC_instance_paper\\Results\\DC\\start_18-00\\duration_30_s\\max_delay_03_min\\vga\\config.yaml-performance.json\n",
      "14:28:33 [INFO] Loading json file from: C:\\Google Drive\\AIC Experiment Data\\DARP\\ITSC_instance_paper\\Results\\DC\\start_18-00\\duration_30_s\\max_delay_03_min\\vga\\config.yaml-solution.json\n",
      "14:28:33 [INFO] Loading experiment config from C:\\Google Drive\\AIC Experiment Data\\DARP\\ITSC_instance_paper\\Results\\DC\\start_18-00\\duration_30_s\\max_delay_03_min\\vga\\config.yaml\n",
      "14:28:33 [INFO] Loading instance config from C:\\Google Drive\\AIC Experiment Data\\DARP\\ITSC_instance_paper\\Instances\\DC\\instances\\start_18-00\\duration_30_s\\max_delay_03_min\\config.yaml\n",
      "14:28:33 [WARNING] No solution found in folder: C:\\Google Drive\\AIC Experiment Data\\DARP\\ITSC_instance_paper\\Results\\DC\\start_18-00\\duration_30_s\\max_delay_05_min\\halns\n",
      "14:28:33 [WARNING] No solution found in folder: C:\\Google Drive\\AIC Experiment Data\\DARP\\ITSC_instance_paper\\Results\\DC\\start_18-00\\duration_30_s\\max_delay_05_min\\halns-ih\n",
      "14:28:33 [INFO] Loading json file from: C:\\Google Drive\\AIC Experiment Data\\DARP\\ITSC_instance_paper\\Results\\DC\\start_18-00\\duration_30_s\\max_delay_05_min\\ih\\config.yaml-performance.json\n",
      "14:28:33 [INFO] Loading json file from: C:\\Google Drive\\AIC Experiment Data\\DARP\\ITSC_instance_paper\\Results\\DC\\start_18-00\\duration_30_s\\max_delay_05_min\\ih\\config.yaml-solution.json\n",
      "14:28:33 [INFO] Loading experiment config from C:\\Google Drive\\AIC Experiment Data\\DARP\\ITSC_instance_paper\\Results\\DC\\start_18-00\\duration_30_s\\max_delay_05_min\\ih\\config.yaml\n",
      "14:28:33 [INFO] Loading instance config from C:\\Google Drive\\AIC Experiment Data\\DARP\\ITSC_instance_paper\\Instances\\DC\\instances\\start_18-00\\duration_30_s\\max_delay_05_min\\config.yaml\n",
      "14:28:33 [INFO] Loading json file from: C:\\Google Drive\\AIC Experiment Data\\DARP\\ITSC_instance_paper\\Results\\DC\\start_18-00\\duration_30_s\\max_delay_05_min\\vga\\config.yaml-performance.json\n",
      "14:28:33 [INFO] Loading json file from: C:\\Google Drive\\AIC Experiment Data\\DARP\\ITSC_instance_paper\\Results\\DC\\start_18-00\\duration_30_s\\max_delay_05_min\\vga\\config.yaml-solution.json\n",
      "14:28:33 [INFO] Loading experiment config from C:\\Google Drive\\AIC Experiment Data\\DARP\\ITSC_instance_paper\\Results\\DC\\start_18-00\\duration_30_s\\max_delay_05_min\\vga\\config.yaml\n",
      "14:28:33 [INFO] Loading instance config from C:\\Google Drive\\AIC Experiment Data\\DARP\\ITSC_instance_paper\\Instances\\DC\\instances\\start_18-00\\duration_30_s\\max_delay_05_min\\config.yaml\n",
      "14:28:33 [WARNING] No solution found in folder: C:\\Google Drive\\AIC Experiment Data\\DARP\\ITSC_instance_paper\\Results\\DC\\start_18-00\\duration_30_s\\max_delay_10_min\\halns\n",
      "14:28:33 [WARNING] No solution found in folder: C:\\Google Drive\\AIC Experiment Data\\DARP\\ITSC_instance_paper\\Results\\DC\\start_18-00\\duration_30_s\\max_delay_10_min\\halns-ih\n",
      "14:28:33 [INFO] Loading json file from: C:\\Google Drive\\AIC Experiment Data\\DARP\\ITSC_instance_paper\\Results\\DC\\start_18-00\\duration_30_s\\max_delay_10_min\\ih\\config.yaml-performance.json\n",
      "14:28:33 [INFO] Loading json file from: C:\\Google Drive\\AIC Experiment Data\\DARP\\ITSC_instance_paper\\Results\\DC\\start_18-00\\duration_30_s\\max_delay_10_min\\ih\\config.yaml-solution.json\n",
      "14:28:33 [INFO] Loading experiment config from C:\\Google Drive\\AIC Experiment Data\\DARP\\ITSC_instance_paper\\Results\\DC\\start_18-00\\duration_30_s\\max_delay_10_min\\ih\\config.yaml\n",
      "14:28:33 [INFO] Loading instance config from C:\\Google Drive\\AIC Experiment Data\\DARP\\ITSC_instance_paper\\Instances\\DC\\instances\\start_18-00\\duration_30_s\\max_delay_10_min\\config.yaml\n",
      "14:28:33 [INFO] Loading json file from: C:\\Google Drive\\AIC Experiment Data\\DARP\\ITSC_instance_paper\\Results\\DC\\start_18-00\\duration_30_s\\max_delay_10_min\\vga\\config.yaml-performance.json\n",
      "14:28:33 [INFO] Loading json file from: C:\\Google Drive\\AIC Experiment Data\\DARP\\ITSC_instance_paper\\Results\\DC\\start_18-00\\duration_30_s\\max_delay_10_min\\vga\\config.yaml-solution.json\n",
      "14:28:33 [INFO] Loading experiment config from C:\\Google Drive\\AIC Experiment Data\\DARP\\ITSC_instance_paper\\Results\\DC\\start_18-00\\duration_30_s\\max_delay_10_min\\vga\\config.yaml\n",
      "14:28:33 [INFO] Loading instance config from C:\\Google Drive\\AIC Experiment Data\\DARP\\ITSC_instance_paper\\Instances\\DC\\instances\\start_18-00\\duration_30_s\\max_delay_10_min\\config.yaml\n"
     ]
    },
    {
     "data": {
      "text/plain": "     cost_minutes  total_time  dropped_requests    avg_delay  plan_count   \n0            7839       0.226                 0   637.519637         516  \\\n1            7380     130.069                 0   640.537764         496   \n2            6931       0.172                 0   672.321752         417   \n3            6383     218.668                 0   673.291541         390   \n4            6249       0.386                 0   765.814199         297   \n..            ...         ...               ...          ...         ...   \n112           141       0.026                 0  1499.000000           4   \n113           141       0.003                 0  1499.000000           4   \n114           141       0.027                 0  1499.000000           4   \n115           141       0.003                 0  1499.000000           4   \n116           141       0.037                 0  1499.000000           4   \n\n     req_count  avg_occupancy  used_connections  total_driving_duration   \n0          662       0.897298                -1                  470321  \\\n1          662       0.957339                -1                  442790   \n2          662       1.070182                -1                  415875   \n3          662       1.163298                -1                  382994   \n4          662       1.352056                -1                  374926   \n..         ...            ...               ...                     ...   \n112          4       0.707576                -1                    8474   \n113          4       0.707576                -1                    8474   \n114          4       0.707576                -1                    8474   \n115          4       0.707576                -1                    8474   \n116          4       0.707576                -1                    8474   \n\n     total_waiting_duration  avg_waiting_duration  tts_cost   \n0                        20              0.038760     95363  \\\n1                       136              0.274194     77352   \n2                        15              0.035971     62226   \n3                       163              0.417949     48989   \n4                        48              0.161616     34751   \n..                      ...                   ...       ...   \n112                       0              0.000000      2478   \n113                       0              0.000000      2478   \n114                       0              0.000000      2478   \n115                       0              0.000000      2478   \n116                       0              0.000000      2478   \n\n     tts_cost_per_plan method  max_delay          start_time   \n0           184.812016     ih        180 2022-04-05 18:00:00  \\\n1           155.951613    vga        180 2022-04-05 18:00:00   \n2           149.223022     ih        300 2022-04-05 18:00:00   \n3           125.612821    vga        300 2022-04-05 18:00:00   \n4           117.006734     ih        600 2022-04-05 18:00:00   \n..                 ...    ...        ...                 ...   \n112         619.500000    vga        180 2022-04-05 18:00:00   \n113         619.500000     ih        300 2022-04-05 18:00:00   \n114         619.500000    vga        300 2022-04-05 18:00:00   \n115         619.500000     ih        600 2022-04-05 18:00:00   \n116         619.500000    vga        600 2022-04-05 18:00:00   \n\n               end_time  duration_minutes area  \n0   2022-04-05 18:01:00               1.0  NYC  \n1   2022-04-05 18:01:00               1.0  NYC  \n2   2022-04-05 18:01:00               1.0  NYC  \n3   2022-04-05 18:01:00               1.0  NYC  \n4   2022-04-05 18:01:00               1.0  NYC  \n..                  ...               ...  ...  \n112 2022-04-05 18:00:30               0.5   DC  \n113 2022-04-05 18:00:30               0.5   DC  \n114 2022-04-05 18:00:30               0.5   DC  \n115 2022-04-05 18:00:30               0.5   DC  \n116 2022-04-05 18:00:30               0.5   DC  \n\n[117 rows x 19 columns]",
      "text/html": "<div>\n<style scoped>\n    .dataframe tbody tr th:only-of-type {\n        vertical-align: middle;\n    }\n\n    .dataframe tbody tr th {\n        vertical-align: top;\n    }\n\n    .dataframe thead th {\n        text-align: right;\n    }\n</style>\n<table border=\"1\" class=\"dataframe\">\n  <thead>\n    <tr style=\"text-align: right;\">\n      <th></th>\n      <th>cost_minutes</th>\n      <th>total_time</th>\n      <th>dropped_requests</th>\n      <th>avg_delay</th>\n      <th>plan_count</th>\n      <th>req_count</th>\n      <th>avg_occupancy</th>\n      <th>used_connections</th>\n      <th>total_driving_duration</th>\n      <th>total_waiting_duration</th>\n      <th>avg_waiting_duration</th>\n      <th>tts_cost</th>\n      <th>tts_cost_per_plan</th>\n      <th>method</th>\n      <th>max_delay</th>\n      <th>start_time</th>\n      <th>end_time</th>\n      <th>duration_minutes</th>\n      <th>area</th>\n    </tr>\n  </thead>\n  <tbody>\n    <tr>\n      <th>0</th>\n      <td>7839</td>\n      <td>0.226</td>\n      <td>0</td>\n      <td>637.519637</td>\n      <td>516</td>\n      <td>662</td>\n      <td>0.897298</td>\n      <td>-1</td>\n      <td>470321</td>\n      <td>20</td>\n      <td>0.038760</td>\n      <td>95363</td>\n      <td>184.812016</td>\n      <td>ih</td>\n      <td>180</td>\n      <td>2022-04-05 18:00:00</td>\n      <td>2022-04-05 18:01:00</td>\n      <td>1.0</td>\n      <td>NYC</td>\n    </tr>\n    <tr>\n      <th>1</th>\n      <td>7380</td>\n      <td>130.069</td>\n      <td>0</td>\n      <td>640.537764</td>\n      <td>496</td>\n      <td>662</td>\n      <td>0.957339</td>\n      <td>-1</td>\n      <td>442790</td>\n      <td>136</td>\n      <td>0.274194</td>\n      <td>77352</td>\n      <td>155.951613</td>\n      <td>vga</td>\n      <td>180</td>\n      <td>2022-04-05 18:00:00</td>\n      <td>2022-04-05 18:01:00</td>\n      <td>1.0</td>\n      <td>NYC</td>\n    </tr>\n    <tr>\n      <th>2</th>\n      <td>6931</td>\n      <td>0.172</td>\n      <td>0</td>\n      <td>672.321752</td>\n      <td>417</td>\n      <td>662</td>\n      <td>1.070182</td>\n      <td>-1</td>\n      <td>415875</td>\n      <td>15</td>\n      <td>0.035971</td>\n      <td>62226</td>\n      <td>149.223022</td>\n      <td>ih</td>\n      <td>300</td>\n      <td>2022-04-05 18:00:00</td>\n      <td>2022-04-05 18:01:00</td>\n      <td>1.0</td>\n      <td>NYC</td>\n    </tr>\n    <tr>\n      <th>3</th>\n      <td>6383</td>\n      <td>218.668</td>\n      <td>0</td>\n      <td>673.291541</td>\n      <td>390</td>\n      <td>662</td>\n      <td>1.163298</td>\n      <td>-1</td>\n      <td>382994</td>\n      <td>163</td>\n      <td>0.417949</td>\n      <td>48989</td>\n      <td>125.612821</td>\n      <td>vga</td>\n      <td>300</td>\n      <td>2022-04-05 18:00:00</td>\n      <td>2022-04-05 18:01:00</td>\n      <td>1.0</td>\n      <td>NYC</td>\n    </tr>\n    <tr>\n      <th>4</th>\n      <td>6249</td>\n      <td>0.386</td>\n      <td>0</td>\n      <td>765.814199</td>\n      <td>297</td>\n      <td>662</td>\n      <td>1.352056</td>\n      <td>-1</td>\n      <td>374926</td>\n      <td>48</td>\n      <td>0.161616</td>\n      <td>34751</td>\n      <td>117.006734</td>\n      <td>ih</td>\n      <td>600</td>\n      <td>2022-04-05 18:00:00</td>\n      <td>2022-04-05 18:01:00</td>\n      <td>1.0</td>\n      <td>NYC</td>\n    </tr>\n    <tr>\n      <th>...</th>\n      <td>...</td>\n      <td>...</td>\n      <td>...</td>\n      <td>...</td>\n      <td>...</td>\n      <td>...</td>\n      <td>...</td>\n      <td>...</td>\n      <td>...</td>\n      <td>...</td>\n      <td>...</td>\n      <td>...</td>\n      <td>...</td>\n      <td>...</td>\n      <td>...</td>\n      <td>...</td>\n      <td>...</td>\n      <td>...</td>\n      <td>...</td>\n    </tr>\n    <tr>\n      <th>112</th>\n      <td>141</td>\n      <td>0.026</td>\n      <td>0</td>\n      <td>1499.000000</td>\n      <td>4</td>\n      <td>4</td>\n      <td>0.707576</td>\n      <td>-1</td>\n      <td>8474</td>\n      <td>0</td>\n      <td>0.000000</td>\n      <td>2478</td>\n      <td>619.500000</td>\n      <td>vga</td>\n      <td>180</td>\n      <td>2022-04-05 18:00:00</td>\n      <td>2022-04-05 18:00:30</td>\n      <td>0.5</td>\n      <td>DC</td>\n    </tr>\n    <tr>\n      <th>113</th>\n      <td>141</td>\n      <td>0.003</td>\n      <td>0</td>\n      <td>1499.000000</td>\n      <td>4</td>\n      <td>4</td>\n      <td>0.707576</td>\n      <td>-1</td>\n      <td>8474</td>\n      <td>0</td>\n      <td>0.000000</td>\n      <td>2478</td>\n      <td>619.500000</td>\n      <td>ih</td>\n      <td>300</td>\n      <td>2022-04-05 18:00:00</td>\n      <td>2022-04-05 18:00:30</td>\n      <td>0.5</td>\n      <td>DC</td>\n    </tr>\n    <tr>\n      <th>114</th>\n      <td>141</td>\n      <td>0.027</td>\n      <td>0</td>\n      <td>1499.000000</td>\n      <td>4</td>\n      <td>4</td>\n      <td>0.707576</td>\n      <td>-1</td>\n      <td>8474</td>\n      <td>0</td>\n      <td>0.000000</td>\n      <td>2478</td>\n      <td>619.500000</td>\n      <td>vga</td>\n      <td>300</td>\n      <td>2022-04-05 18:00:00</td>\n      <td>2022-04-05 18:00:30</td>\n      <td>0.5</td>\n      <td>DC</td>\n    </tr>\n    <tr>\n      <th>115</th>\n      <td>141</td>\n      <td>0.003</td>\n      <td>0</td>\n      <td>1499.000000</td>\n      <td>4</td>\n      <td>4</td>\n      <td>0.707576</td>\n      <td>-1</td>\n      <td>8474</td>\n      <td>0</td>\n      <td>0.000000</td>\n      <td>2478</td>\n      <td>619.500000</td>\n      <td>ih</td>\n      <td>600</td>\n      <td>2022-04-05 18:00:00</td>\n      <td>2022-04-05 18:00:30</td>\n      <td>0.5</td>\n      <td>DC</td>\n    </tr>\n    <tr>\n      <th>116</th>\n      <td>141</td>\n      <td>0.037</td>\n      <td>0</td>\n      <td>1499.000000</td>\n      <td>4</td>\n      <td>4</td>\n      <td>0.707576</td>\n      <td>-1</td>\n      <td>8474</td>\n      <td>0</td>\n      <td>0.000000</td>\n      <td>2478</td>\n      <td>619.500000</td>\n      <td>vga</td>\n      <td>600</td>\n      <td>2022-04-05 18:00:00</td>\n      <td>2022-04-05 18:00:30</td>\n      <td>0.5</td>\n      <td>DC</td>\n    </tr>\n  </tbody>\n</table>\n<p>117 rows × 19 columns</p>\n</div>"
     },
     "execution_count": 225,
     "metadata": {},
     "output_type": "execute_result"
    }
   ],
   "source": [
    "df = pd.DataFrame()\n",
    "for area in areas:\n",
    "    res_in_area = load_aggregate_stats_in_dir(final_results_path / area)\n",
    "    res_in_area['area'] = area\n",
    "    df = pd.concat([df, res_in_area], ignore_index=True)\n",
    "df"
   ],
   "metadata": {
    "collapsed": false,
    "ExecuteTime": {
     "end_time": "2023-05-19T12:28:34.010042600Z",
     "start_time": "2023-05-19T12:28:28.493687200Z"
    }
   }
  },
  {
   "cell_type": "code",
   "execution_count": 226,
   "outputs": [
    {
     "data": {
      "text/plain": "    cost_minutes  total_time  dropped_requests   avg_delay  plan_count   \n74            84       0.000                 0  441.000000           5  \\\n75            75       0.042                 0  441.000000           5   \n76            58       0.000                 0  461.400000           4   \n77            58       0.052                 0  461.400000           4   \n78            52       0.000                 0  494.400000           3   \n..           ...         ...               ...         ...         ...   \n13         82236      34.838                 0  699.090092        3706   \n14         76254      28.960                 0  791.981736        2813   \n15        183282      77.818                 0  653.519169        5623   \n16        158574     100.103                 0  697.611631        4935   \n17        141621     129.568                 0  785.274747        4022   \n\n    req_count  avg_occupancy  used_connections  total_driving_duration   \n74          5       0.438021                -1                    5034  \\\n75          5       0.492627                -1                    4476   \n76          5       0.658390                -1                    3504   \n77          5       0.661221                -1                    3489   \n78          5       0.789020                -1                    3133   \n..        ...            ...               ...                     ...   \n13      10567       1.489949                -1                 4934147   \n14      10567       1.823348                -1                 4575239   \n15      20841       1.230080                -1                10996915   \n16      20841       1.519391                -1                 9514443   \n17      20841       1.918106                -1                 8497256   \n\n    total_waiting_duration  avg_waiting_duration  tts_cost  tts_cost_per_plan   \n74                       0              0.000000      2829         565.800000  \\\n75                       0              0.000000      2271         454.200000   \n76                       0              0.000000      1363         340.750000   \n77                       0              0.000000      1348         337.000000   \n78                       0              0.000000      1019         339.666667   \n..                     ...                   ...       ...                ...   \n13                   35630              9.614139    293817          79.281436   \n14                   25714              9.141130    163601          58.158905   \n15                  150410             26.749066   1052341         187.149386   \n16                  113996             23.099493    506844         102.703951   \n17                   78085             19.414470    249498          62.033317   \n\n   method  max_delay          start_time            end_time   \n74     ih        180 2022-04-05 18:00:00 2022-04-05 18:00:30  \\\n75    vga        180 2022-04-05 18:00:00 2022-04-05 18:00:30   \n76     ih        300 2022-04-05 18:00:00 2022-04-05 18:00:30   \n77    vga        300 2022-04-05 18:00:00 2022-04-05 18:00:30   \n78     ih        600 2022-04-05 18:00:00 2022-04-05 18:00:30   \n..    ...        ...                 ...                 ...   \n13     ih        300 2022-04-05 18:00:00 2022-04-05 18:15:00   \n14     ih        600 2022-04-05 18:00:00 2022-04-05 18:15:00   \n15     ih        180 2022-04-05 18:00:00 2022-04-05 18:30:00   \n16     ih        300 2022-04-05 18:00:00 2022-04-05 18:30:00   \n17     ih        600 2022-04-05 18:00:00 2022-04-05 18:30:00   \n\n    duration_minutes     area  cost_per_request  \n74               0.5  Chicago       1008.000000  \n75               0.5  Chicago        900.000000  \n76               0.5  Chicago        696.000000  \n77               0.5  Chicago        696.000000  \n78               0.5  Chicago        624.000000  \n..               ...      ...               ...  \n13              15.0      NYC        466.940475  \n14              15.0      NYC        432.974354  \n15              30.0      NYC        527.657982  \n16              30.0      NYC        456.525119  \n17              30.0      NYC        407.718440  \n\n[117 rows x 20 columns]",
      "text/html": "<div>\n<style scoped>\n    .dataframe tbody tr th:only-of-type {\n        vertical-align: middle;\n    }\n\n    .dataframe tbody tr th {\n        vertical-align: top;\n    }\n\n    .dataframe thead th {\n        text-align: right;\n    }\n</style>\n<table border=\"1\" class=\"dataframe\">\n  <thead>\n    <tr style=\"text-align: right;\">\n      <th></th>\n      <th>cost_minutes</th>\n      <th>total_time</th>\n      <th>dropped_requests</th>\n      <th>avg_delay</th>\n      <th>plan_count</th>\n      <th>req_count</th>\n      <th>avg_occupancy</th>\n      <th>used_connections</th>\n      <th>total_driving_duration</th>\n      <th>total_waiting_duration</th>\n      <th>avg_waiting_duration</th>\n      <th>tts_cost</th>\n      <th>tts_cost_per_plan</th>\n      <th>method</th>\n      <th>max_delay</th>\n      <th>start_time</th>\n      <th>end_time</th>\n      <th>duration_minutes</th>\n      <th>area</th>\n      <th>cost_per_request</th>\n    </tr>\n  </thead>\n  <tbody>\n    <tr>\n      <th>74</th>\n      <td>84</td>\n      <td>0.000</td>\n      <td>0</td>\n      <td>441.000000</td>\n      <td>5</td>\n      <td>5</td>\n      <td>0.438021</td>\n      <td>-1</td>\n      <td>5034</td>\n      <td>0</td>\n      <td>0.000000</td>\n      <td>2829</td>\n      <td>565.800000</td>\n      <td>ih</td>\n      <td>180</td>\n      <td>2022-04-05 18:00:00</td>\n      <td>2022-04-05 18:00:30</td>\n      <td>0.5</td>\n      <td>Chicago</td>\n      <td>1008.000000</td>\n    </tr>\n    <tr>\n      <th>75</th>\n      <td>75</td>\n      <td>0.042</td>\n      <td>0</td>\n      <td>441.000000</td>\n      <td>5</td>\n      <td>5</td>\n      <td>0.492627</td>\n      <td>-1</td>\n      <td>4476</td>\n      <td>0</td>\n      <td>0.000000</td>\n      <td>2271</td>\n      <td>454.200000</td>\n      <td>vga</td>\n      <td>180</td>\n      <td>2022-04-05 18:00:00</td>\n      <td>2022-04-05 18:00:30</td>\n      <td>0.5</td>\n      <td>Chicago</td>\n      <td>900.000000</td>\n    </tr>\n    <tr>\n      <th>76</th>\n      <td>58</td>\n      <td>0.000</td>\n      <td>0</td>\n      <td>461.400000</td>\n      <td>4</td>\n      <td>5</td>\n      <td>0.658390</td>\n      <td>-1</td>\n      <td>3504</td>\n      <td>0</td>\n      <td>0.000000</td>\n      <td>1363</td>\n      <td>340.750000</td>\n      <td>ih</td>\n      <td>300</td>\n      <td>2022-04-05 18:00:00</td>\n      <td>2022-04-05 18:00:30</td>\n      <td>0.5</td>\n      <td>Chicago</td>\n      <td>696.000000</td>\n    </tr>\n    <tr>\n      <th>77</th>\n      <td>58</td>\n      <td>0.052</td>\n      <td>0</td>\n      <td>461.400000</td>\n      <td>4</td>\n      <td>5</td>\n      <td>0.661221</td>\n      <td>-1</td>\n      <td>3489</td>\n      <td>0</td>\n      <td>0.000000</td>\n      <td>1348</td>\n      <td>337.000000</td>\n      <td>vga</td>\n      <td>300</td>\n      <td>2022-04-05 18:00:00</td>\n      <td>2022-04-05 18:00:30</td>\n      <td>0.5</td>\n      <td>Chicago</td>\n      <td>696.000000</td>\n    </tr>\n    <tr>\n      <th>78</th>\n      <td>52</td>\n      <td>0.000</td>\n      <td>0</td>\n      <td>494.400000</td>\n      <td>3</td>\n      <td>5</td>\n      <td>0.789020</td>\n      <td>-1</td>\n      <td>3133</td>\n      <td>0</td>\n      <td>0.000000</td>\n      <td>1019</td>\n      <td>339.666667</td>\n      <td>ih</td>\n      <td>600</td>\n      <td>2022-04-05 18:00:00</td>\n      <td>2022-04-05 18:00:30</td>\n      <td>0.5</td>\n      <td>Chicago</td>\n      <td>624.000000</td>\n    </tr>\n    <tr>\n      <th>...</th>\n      <td>...</td>\n      <td>...</td>\n      <td>...</td>\n      <td>...</td>\n      <td>...</td>\n      <td>...</td>\n      <td>...</td>\n      <td>...</td>\n      <td>...</td>\n      <td>...</td>\n      <td>...</td>\n      <td>...</td>\n      <td>...</td>\n      <td>...</td>\n      <td>...</td>\n      <td>...</td>\n      <td>...</td>\n      <td>...</td>\n      <td>...</td>\n      <td>...</td>\n    </tr>\n    <tr>\n      <th>13</th>\n      <td>82236</td>\n      <td>34.838</td>\n      <td>0</td>\n      <td>699.090092</td>\n      <td>3706</td>\n      <td>10567</td>\n      <td>1.489949</td>\n      <td>-1</td>\n      <td>4934147</td>\n      <td>35630</td>\n      <td>9.614139</td>\n      <td>293817</td>\n      <td>79.281436</td>\n      <td>ih</td>\n      <td>300</td>\n      <td>2022-04-05 18:00:00</td>\n      <td>2022-04-05 18:15:00</td>\n      <td>15.0</td>\n      <td>NYC</td>\n      <td>466.940475</td>\n    </tr>\n    <tr>\n      <th>14</th>\n      <td>76254</td>\n      <td>28.960</td>\n      <td>0</td>\n      <td>791.981736</td>\n      <td>2813</td>\n      <td>10567</td>\n      <td>1.823348</td>\n      <td>-1</td>\n      <td>4575239</td>\n      <td>25714</td>\n      <td>9.141130</td>\n      <td>163601</td>\n      <td>58.158905</td>\n      <td>ih</td>\n      <td>600</td>\n      <td>2022-04-05 18:00:00</td>\n      <td>2022-04-05 18:15:00</td>\n      <td>15.0</td>\n      <td>NYC</td>\n      <td>432.974354</td>\n    </tr>\n    <tr>\n      <th>15</th>\n      <td>183282</td>\n      <td>77.818</td>\n      <td>0</td>\n      <td>653.519169</td>\n      <td>5623</td>\n      <td>20841</td>\n      <td>1.230080</td>\n      <td>-1</td>\n      <td>10996915</td>\n      <td>150410</td>\n      <td>26.749066</td>\n      <td>1052341</td>\n      <td>187.149386</td>\n      <td>ih</td>\n      <td>180</td>\n      <td>2022-04-05 18:00:00</td>\n      <td>2022-04-05 18:30:00</td>\n      <td>30.0</td>\n      <td>NYC</td>\n      <td>527.657982</td>\n    </tr>\n    <tr>\n      <th>16</th>\n      <td>158574</td>\n      <td>100.103</td>\n      <td>0</td>\n      <td>697.611631</td>\n      <td>4935</td>\n      <td>20841</td>\n      <td>1.519391</td>\n      <td>-1</td>\n      <td>9514443</td>\n      <td>113996</td>\n      <td>23.099493</td>\n      <td>506844</td>\n      <td>102.703951</td>\n      <td>ih</td>\n      <td>300</td>\n      <td>2022-04-05 18:00:00</td>\n      <td>2022-04-05 18:30:00</td>\n      <td>30.0</td>\n      <td>NYC</td>\n      <td>456.525119</td>\n    </tr>\n    <tr>\n      <th>17</th>\n      <td>141621</td>\n      <td>129.568</td>\n      <td>0</td>\n      <td>785.274747</td>\n      <td>4022</td>\n      <td>20841</td>\n      <td>1.918106</td>\n      <td>-1</td>\n      <td>8497256</td>\n      <td>78085</td>\n      <td>19.414470</td>\n      <td>249498</td>\n      <td>62.033317</td>\n      <td>ih</td>\n      <td>600</td>\n      <td>2022-04-05 18:00:00</td>\n      <td>2022-04-05 18:30:00</td>\n      <td>30.0</td>\n      <td>NYC</td>\n      <td>407.718440</td>\n    </tr>\n  </tbody>\n</table>\n<p>117 rows × 20 columns</p>\n</div>"
     },
     "execution_count": 226,
     "metadata": {},
     "output_type": "execute_result"
    }
   ],
   "source": [
    "df['cost_per_request'] = df['cost_minutes'] * 60 / df['req_count']\n",
    "df.sort_values(by=['area', 'duration_minutes', 'max_delay', 'method'], inplace=True)\n",
    "df"
   ],
   "metadata": {
    "collapsed": false,
    "ExecuteTime": {
     "end_time": "2023-05-19T12:28:36.662964600Z",
     "start_time": "2023-05-19T12:28:36.624419Z"
    }
   }
  },
  {
   "cell_type": "markdown",
   "source": [
    "# Main Results"
   ],
   "metadata": {
    "collapsed": false
   }
  },
  {
   "cell_type": "markdown",
   "source": [
    "## IH all instances"
   ],
   "metadata": {
    "collapsed": false
   }
  },
  {
   "cell_type": "code",
   "execution_count": 18,
   "outputs": [
    {
     "data": {
      "application/vnd.plotly.v1+json": {
       "data": [
        {
         "alignmentgroup": "True",
         "hovertemplate": "max_delay=180<br>duration_minutes=0.5<br>area=%{x}<br>cost_per_request=%{y}<extra></extra>",
         "legendgroup": "",
         "marker": {
          "color": "#636efa",
          "pattern": {
           "shape": ""
          }
         },
         "name": "",
         "offsetgroup": "",
         "orientation": "v",
         "showlegend": false,
         "textposition": "auto",
         "x": [
          "Chicago",
          "DC",
          "Manhattan",
          "NYC"
         ],
         "xaxis": "x13",
         "y": [
          1008.0,
          2115.0,
          498.42857142857144,
          823.7689969604863
         ],
         "yaxis": "y13",
         "type": "bar"
        },
        {
         "alignmentgroup": "True",
         "hovertemplate": "max_delay=180<br>duration_minutes=1.0<br>area=%{x}<br>cost_per_request=%{y}<extra></extra>",
         "legendgroup": "",
         "marker": {
          "color": "#636efa",
          "pattern": {
           "shape": ""
          }
         },
         "name": "",
         "offsetgroup": "",
         "orientation": "v",
         "showlegend": false,
         "textposition": "auto",
         "x": [
          "Chicago",
          "DC",
          "Manhattan",
          "NYC"
         ],
         "xaxis": "x14",
         "y": [
          1153.8461538461538,
          1705.7142857142858,
          488.8111888111888,
          710.4833836858006
         ],
         "yaxis": "y14",
         "type": "bar"
        },
        {
         "alignmentgroup": "True",
         "hovertemplate": "max_delay=180<br>duration_minutes=2.0<br>area=%{x}<br>cost_per_request=%{y}<extra></extra>",
         "legendgroup": "",
         "marker": {
          "color": "#636efa",
          "pattern": {
           "shape": ""
          }
         },
         "name": "",
         "offsetgroup": "",
         "orientation": "v",
         "showlegend": false,
         "textposition": "auto",
         "x": [
          "Chicago",
          "DC",
          "Manhattan",
          "NYC"
         ],
         "xaxis": "x15",
         "y": [
          949.2857142857143,
          1320.0,
          433.1900826446281,
          685.7528089887641
         ],
         "yaxis": "y15",
         "type": "bar"
        },
        {
         "alignmentgroup": "True",
         "hovertemplate": "max_delay=180<br>duration_minutes=5.0<br>area=%{x}<br>cost_per_request=%{y}<extra></extra>",
         "legendgroup": "",
         "marker": {
          "color": "#636efa",
          "pattern": {
           "shape": ""
          }
         },
         "name": "",
         "offsetgroup": "",
         "orientation": "v",
         "showlegend": false,
         "textposition": "auto",
         "x": [
          "Chicago",
          "DC",
          "Manhattan",
          "NYC"
         ],
         "xaxis": "x16",
         "y": [
          954.065934065934,
          1334.4444444444443,
          378.45597104945716,
          597.1616972477065
         ],
         "yaxis": "y16",
         "type": "bar"
        },
        {
         "alignmentgroup": "True",
         "hovertemplate": "max_delay=180<br>duration_minutes=15.0<br>area=%{x}<br>cost_per_request=%{y}<extra></extra>",
         "legendgroup": "",
         "marker": {
          "color": "#636efa",
          "pattern": {
           "shape": ""
          }
         },
         "name": "",
         "offsetgroup": "",
         "orientation": "v",
         "showlegend": false,
         "textposition": "auto",
         "x": [
          "Chicago",
          "DC",
          "Manhattan",
          "NYC"
         ],
         "xaxis": "x17",
         "y": [
          792.043795620438,
          1266.993865030675,
          333.84314492470173,
          534.2083845935459
         ],
         "yaxis": "y17",
         "type": "bar"
        },
        {
         "alignmentgroup": "True",
         "hovertemplate": "max_delay=180<br>duration_minutes=30.0<br>area=%{x}<br>cost_per_request=%{y}<extra></extra>",
         "legendgroup": "",
         "marker": {
          "color": "#636efa",
          "pattern": {
           "shape": ""
          }
         },
         "name": "",
         "offsetgroup": "",
         "orientation": "v",
         "showlegend": false,
         "textposition": "auto",
         "x": [
          "Chicago",
          "DC",
          "Manhattan",
          "NYC"
         ],
         "xaxis": "x18",
         "y": [
          863.7583892617449,
          1169.0853658536585,
          320.48639258830343,
          527.6579818626745
         ],
         "yaxis": "y18",
         "type": "bar"
        },
        {
         "alignmentgroup": "True",
         "hovertemplate": "max_delay=300<br>duration_minutes=0.5<br>area=%{x}<br>cost_per_request=%{y}<extra></extra>",
         "legendgroup": "",
         "marker": {
          "color": "#636efa",
          "pattern": {
           "shape": ""
          }
         },
         "name": "",
         "offsetgroup": "",
         "orientation": "v",
         "showlegend": false,
         "textposition": "auto",
         "x": [
          "Chicago",
          "DC",
          "Manhattan",
          "NYC"
         ],
         "xaxis": "x7",
         "y": [
          696.0,
          2115.0,
          464.57142857142856,
          716.5349544072948
         ],
         "yaxis": "y7",
         "type": "bar"
        },
        {
         "alignmentgroup": "True",
         "hovertemplate": "max_delay=300<br>duration_minutes=1.0<br>area=%{x}<br>cost_per_request=%{y}<extra></extra>",
         "legendgroup": "",
         "marker": {
          "color": "#636efa",
          "pattern": {
           "shape": ""
          }
         },
         "name": "",
         "offsetgroup": "",
         "orientation": "v",
         "showlegend": false,
         "textposition": "auto",
         "x": [
          "Chicago",
          "DC",
          "Manhattan",
          "NYC"
         ],
         "xaxis": "x8",
         "y": [
          1144.6153846153845,
          1705.7142857142858,
          434.8951048951049,
          628.1873111782477
         ],
         "yaxis": "y8",
         "type": "bar"
        },
        {
         "alignmentgroup": "True",
         "hovertemplate": "max_delay=300<br>duration_minutes=2.0<br>area=%{x}<br>cost_per_request=%{y}<extra></extra>",
         "legendgroup": "",
         "marker": {
          "color": "#636efa",
          "pattern": {
           "shape": ""
          }
         },
         "name": "",
         "offsetgroup": "",
         "orientation": "v",
         "showlegend": false,
         "textposition": "auto",
         "x": [
          "Chicago",
          "DC",
          "Manhattan",
          "NYC"
         ],
         "xaxis": "x9",
         "y": [
          930.0,
          1303.3333333333333,
          387.07438016528926,
          586.3370786516854
         ],
         "yaxis": "y9",
         "type": "bar"
        },
        {
         "alignmentgroup": "True",
         "hovertemplate": "max_delay=300<br>duration_minutes=5.0<br>area=%{x}<br>cost_per_request=%{y}<extra></extra>",
         "legendgroup": "",
         "marker": {
          "color": "#636efa",
          "pattern": {
           "shape": ""
          }
         },
         "name": "",
         "offsetgroup": "",
         "orientation": "v",
         "showlegend": false,
         "textposition": "auto",
         "x": [
          "Chicago",
          "DC",
          "Manhattan",
          "NYC"
         ],
         "xaxis": "x10",
         "y": [
          805.7142857142857,
          1207.7777777777778,
          349.65018094089265,
          525.9977064220184
         ],
         "yaxis": "y10",
         "type": "bar"
        },
        {
         "alignmentgroup": "True",
         "hovertemplate": "max_delay=300<br>duration_minutes=15.0<br>area=%{x}<br>cost_per_request=%{y}<extra></extra>",
         "legendgroup": "",
         "marker": {
          "color": "#636efa",
          "pattern": {
           "shape": ""
          }
         },
         "name": "",
         "offsetgroup": "",
         "orientation": "v",
         "showlegend": false,
         "textposition": "auto",
         "x": [
          "Chicago",
          "DC",
          "Manhattan",
          "NYC"
         ],
         "xaxis": "x11",
         "y": [
          679.051094890511,
          1089.9386503067485,
          299.8005085077254,
          466.9404750638781
         ],
         "yaxis": "y11",
         "type": "bar"
        },
        {
         "alignmentgroup": "True",
         "hovertemplate": "max_delay=300<br>duration_minutes=30.0<br>area=%{x}<br>cost_per_request=%{y}<extra></extra>",
         "legendgroup": "",
         "marker": {
          "color": "#636efa",
          "pattern": {
           "shape": ""
          }
         },
         "name": "",
         "offsetgroup": "",
         "orientation": "v",
         "showlegend": false,
         "textposition": "auto",
         "x": [
          "Chicago",
          "DC",
          "Manhattan",
          "NYC"
         ],
         "xaxis": "x12",
         "y": [
          721.2080536912752,
          1027.3170731707316,
          282.18876664736536,
          456.5251187562977
         ],
         "yaxis": "y12",
         "type": "bar"
        },
        {
         "alignmentgroup": "True",
         "hovertemplate": "max_delay=600<br>duration_minutes=0.5<br>area=%{x}<br>cost_per_request=%{y}<extra></extra>",
         "legendgroup": "",
         "marker": {
          "color": "#636efa",
          "pattern": {
           "shape": ""
          }
         },
         "name": "",
         "offsetgroup": "",
         "orientation": "v",
         "showlegend": false,
         "textposition": "auto",
         "x": [
          "Chicago",
          "DC",
          "Manhattan",
          "NYC"
         ],
         "xaxis": "x",
         "y": [
          624.0,
          2115.0,
          417.85714285714283,
          639.3920972644377
         ],
         "yaxis": "y",
         "type": "bar"
        },
        {
         "alignmentgroup": "True",
         "hovertemplate": "max_delay=600<br>duration_minutes=1.0<br>area=%{x}<br>cost_per_request=%{y}<extra></extra>",
         "legendgroup": "",
         "marker": {
          "color": "#636efa",
          "pattern": {
           "shape": ""
          }
         },
         "name": "",
         "offsetgroup": "",
         "orientation": "v",
         "showlegend": false,
         "textposition": "auto",
         "x": [
          "Chicago",
          "DC",
          "Manhattan",
          "NYC"
         ],
         "xaxis": "x2",
         "y": [
          1001.5384615384615,
          1525.7142857142858,
          392.0979020979021,
          566.3746223564955
         ],
         "yaxis": "y2",
         "type": "bar"
        },
        {
         "alignmentgroup": "True",
         "hovertemplate": "max_delay=600<br>duration_minutes=2.0<br>area=%{x}<br>cost_per_request=%{y}<extra></extra>",
         "legendgroup": "",
         "marker": {
          "color": "#636efa",
          "pattern": {
           "shape": ""
          }
         },
         "name": "",
         "offsetgroup": "",
         "orientation": "v",
         "showlegend": false,
         "textposition": "auto",
         "x": [
          "Chicago",
          "DC",
          "Manhattan",
          "NYC"
         ],
         "xaxis": "x3",
         "y": [
          865.7142857142857,
          1250.0,
          358.7107438016529,
          519.1011235955057
         ],
         "yaxis": "y3",
         "type": "bar"
        },
        {
         "alignmentgroup": "True",
         "hovertemplate": "max_delay=600<br>duration_minutes=5.0<br>area=%{x}<br>cost_per_request=%{y}<extra></extra>",
         "legendgroup": "",
         "marker": {
          "color": "#636efa",
          "pattern": {
           "shape": ""
          }
         },
         "name": "",
         "offsetgroup": "",
         "orientation": "v",
         "showlegend": false,
         "textposition": "auto",
         "x": [
          "Chicago",
          "DC",
          "Manhattan",
          "NYC"
         ],
         "xaxis": "x4",
         "y": [
          670.5494505494505,
          1042.2222222222222,
          329.4571773220748,
          484.5756880733945
         ],
         "yaxis": "y4",
         "type": "bar"
        },
        {
         "alignmentgroup": "True",
         "hovertemplate": "max_delay=600<br>duration_minutes=15.0<br>area=%{x}<br>cost_per_request=%{y}<extra></extra>",
         "legendgroup": "",
         "marker": {
          "color": "#636efa",
          "pattern": {
           "shape": ""
          }
         },
         "name": "",
         "offsetgroup": "",
         "orientation": "v",
         "showlegend": false,
         "textposition": "auto",
         "x": [
          "Chicago",
          "DC",
          "Manhattan",
          "NYC"
         ],
         "xaxis": "x5",
         "y": [
          595.4014598540145,
          902.5766871165645,
          287.6549970663016,
          432.9743541213211
         ],
         "yaxis": "y5",
         "type": "bar"
        },
        {
         "alignmentgroup": "True",
         "hovertemplate": "max_delay=600<br>duration_minutes=30.0<br>area=%{x}<br>cost_per_request=%{y}<extra></extra>",
         "legendgroup": "",
         "marker": {
          "color": "#636efa",
          "pattern": {
           "shape": ""
          }
         },
         "name": "",
         "offsetgroup": "",
         "orientation": "v",
         "showlegend": false,
         "textposition": "auto",
         "x": [
          "Chicago",
          "DC",
          "Manhattan",
          "NYC"
         ],
         "xaxis": "x6",
         "y": [
          579.9664429530201,
          872.7439024390244,
          260.2374059061957,
          407.71843961422195
         ],
         "yaxis": "y6",
         "type": "bar"
        }
       ],
       "layout": {
        "template": {
         "data": {
          "histogram2dcontour": [
           {
            "type": "histogram2dcontour",
            "colorbar": {
             "outlinewidth": 0,
             "ticks": ""
            },
            "colorscale": [
             [
              0.0,
              "#0d0887"
             ],
             [
              0.1111111111111111,
              "#46039f"
             ],
             [
              0.2222222222222222,
              "#7201a8"
             ],
             [
              0.3333333333333333,
              "#9c179e"
             ],
             [
              0.4444444444444444,
              "#bd3786"
             ],
             [
              0.5555555555555556,
              "#d8576b"
             ],
             [
              0.6666666666666666,
              "#ed7953"
             ],
             [
              0.7777777777777778,
              "#fb9f3a"
             ],
             [
              0.8888888888888888,
              "#fdca26"
             ],
             [
              1.0,
              "#f0f921"
             ]
            ]
           }
          ],
          "choropleth": [
           {
            "type": "choropleth",
            "colorbar": {
             "outlinewidth": 0,
             "ticks": ""
            }
           }
          ],
          "histogram2d": [
           {
            "type": "histogram2d",
            "colorbar": {
             "outlinewidth": 0,
             "ticks": ""
            },
            "colorscale": [
             [
              0.0,
              "#0d0887"
             ],
             [
              0.1111111111111111,
              "#46039f"
             ],
             [
              0.2222222222222222,
              "#7201a8"
             ],
             [
              0.3333333333333333,
              "#9c179e"
             ],
             [
              0.4444444444444444,
              "#bd3786"
             ],
             [
              0.5555555555555556,
              "#d8576b"
             ],
             [
              0.6666666666666666,
              "#ed7953"
             ],
             [
              0.7777777777777778,
              "#fb9f3a"
             ],
             [
              0.8888888888888888,
              "#fdca26"
             ],
             [
              1.0,
              "#f0f921"
             ]
            ]
           }
          ],
          "heatmap": [
           {
            "type": "heatmap",
            "colorbar": {
             "outlinewidth": 0,
             "ticks": ""
            },
            "colorscale": [
             [
              0.0,
              "#0d0887"
             ],
             [
              0.1111111111111111,
              "#46039f"
             ],
             [
              0.2222222222222222,
              "#7201a8"
             ],
             [
              0.3333333333333333,
              "#9c179e"
             ],
             [
              0.4444444444444444,
              "#bd3786"
             ],
             [
              0.5555555555555556,
              "#d8576b"
             ],
             [
              0.6666666666666666,
              "#ed7953"
             ],
             [
              0.7777777777777778,
              "#fb9f3a"
             ],
             [
              0.8888888888888888,
              "#fdca26"
             ],
             [
              1.0,
              "#f0f921"
             ]
            ]
           }
          ],
          "heatmapgl": [
           {
            "type": "heatmapgl",
            "colorbar": {
             "outlinewidth": 0,
             "ticks": ""
            },
            "colorscale": [
             [
              0.0,
              "#0d0887"
             ],
             [
              0.1111111111111111,
              "#46039f"
             ],
             [
              0.2222222222222222,
              "#7201a8"
             ],
             [
              0.3333333333333333,
              "#9c179e"
             ],
             [
              0.4444444444444444,
              "#bd3786"
             ],
             [
              0.5555555555555556,
              "#d8576b"
             ],
             [
              0.6666666666666666,
              "#ed7953"
             ],
             [
              0.7777777777777778,
              "#fb9f3a"
             ],
             [
              0.8888888888888888,
              "#fdca26"
             ],
             [
              1.0,
              "#f0f921"
             ]
            ]
           }
          ],
          "contourcarpet": [
           {
            "type": "contourcarpet",
            "colorbar": {
             "outlinewidth": 0,
             "ticks": ""
            }
           }
          ],
          "contour": [
           {
            "type": "contour",
            "colorbar": {
             "outlinewidth": 0,
             "ticks": ""
            },
            "colorscale": [
             [
              0.0,
              "#0d0887"
             ],
             [
              0.1111111111111111,
              "#46039f"
             ],
             [
              0.2222222222222222,
              "#7201a8"
             ],
             [
              0.3333333333333333,
              "#9c179e"
             ],
             [
              0.4444444444444444,
              "#bd3786"
             ],
             [
              0.5555555555555556,
              "#d8576b"
             ],
             [
              0.6666666666666666,
              "#ed7953"
             ],
             [
              0.7777777777777778,
              "#fb9f3a"
             ],
             [
              0.8888888888888888,
              "#fdca26"
             ],
             [
              1.0,
              "#f0f921"
             ]
            ]
           }
          ],
          "surface": [
           {
            "type": "surface",
            "colorbar": {
             "outlinewidth": 0,
             "ticks": ""
            },
            "colorscale": [
             [
              0.0,
              "#0d0887"
             ],
             [
              0.1111111111111111,
              "#46039f"
             ],
             [
              0.2222222222222222,
              "#7201a8"
             ],
             [
              0.3333333333333333,
              "#9c179e"
             ],
             [
              0.4444444444444444,
              "#bd3786"
             ],
             [
              0.5555555555555556,
              "#d8576b"
             ],
             [
              0.6666666666666666,
              "#ed7953"
             ],
             [
              0.7777777777777778,
              "#fb9f3a"
             ],
             [
              0.8888888888888888,
              "#fdca26"
             ],
             [
              1.0,
              "#f0f921"
             ]
            ]
           }
          ],
          "mesh3d": [
           {
            "type": "mesh3d",
            "colorbar": {
             "outlinewidth": 0,
             "ticks": ""
            }
           }
          ],
          "scatter": [
           {
            "fillpattern": {
             "fillmode": "overlay",
             "size": 10,
             "solidity": 0.2
            },
            "type": "scatter"
           }
          ],
          "parcoords": [
           {
            "type": "parcoords",
            "line": {
             "colorbar": {
              "outlinewidth": 0,
              "ticks": ""
             }
            }
           }
          ],
          "scatterpolargl": [
           {
            "type": "scatterpolargl",
            "marker": {
             "colorbar": {
              "outlinewidth": 0,
              "ticks": ""
             }
            }
           }
          ],
          "bar": [
           {
            "error_x": {
             "color": "#2a3f5f"
            },
            "error_y": {
             "color": "#2a3f5f"
            },
            "marker": {
             "line": {
              "color": "#E5ECF6",
              "width": 0.5
             },
             "pattern": {
              "fillmode": "overlay",
              "size": 10,
              "solidity": 0.2
             }
            },
            "type": "bar"
           }
          ],
          "scattergeo": [
           {
            "type": "scattergeo",
            "marker": {
             "colorbar": {
              "outlinewidth": 0,
              "ticks": ""
             }
            }
           }
          ],
          "scatterpolar": [
           {
            "type": "scatterpolar",
            "marker": {
             "colorbar": {
              "outlinewidth": 0,
              "ticks": ""
             }
            }
           }
          ],
          "histogram": [
           {
            "marker": {
             "pattern": {
              "fillmode": "overlay",
              "size": 10,
              "solidity": 0.2
             }
            },
            "type": "histogram"
           }
          ],
          "scattergl": [
           {
            "type": "scattergl",
            "marker": {
             "colorbar": {
              "outlinewidth": 0,
              "ticks": ""
             }
            }
           }
          ],
          "scatter3d": [
           {
            "type": "scatter3d",
            "line": {
             "colorbar": {
              "outlinewidth": 0,
              "ticks": ""
             }
            },
            "marker": {
             "colorbar": {
              "outlinewidth": 0,
              "ticks": ""
             }
            }
           }
          ],
          "scattermapbox": [
           {
            "type": "scattermapbox",
            "marker": {
             "colorbar": {
              "outlinewidth": 0,
              "ticks": ""
             }
            }
           }
          ],
          "scatterternary": [
           {
            "type": "scatterternary",
            "marker": {
             "colorbar": {
              "outlinewidth": 0,
              "ticks": ""
             }
            }
           }
          ],
          "scattercarpet": [
           {
            "type": "scattercarpet",
            "marker": {
             "colorbar": {
              "outlinewidth": 0,
              "ticks": ""
             }
            }
           }
          ],
          "carpet": [
           {
            "aaxis": {
             "endlinecolor": "#2a3f5f",
             "gridcolor": "white",
             "linecolor": "white",
             "minorgridcolor": "white",
             "startlinecolor": "#2a3f5f"
            },
            "baxis": {
             "endlinecolor": "#2a3f5f",
             "gridcolor": "white",
             "linecolor": "white",
             "minorgridcolor": "white",
             "startlinecolor": "#2a3f5f"
            },
            "type": "carpet"
           }
          ],
          "table": [
           {
            "cells": {
             "fill": {
              "color": "#EBF0F8"
             },
             "line": {
              "color": "white"
             }
            },
            "header": {
             "fill": {
              "color": "#C8D4E3"
             },
             "line": {
              "color": "white"
             }
            },
            "type": "table"
           }
          ],
          "barpolar": [
           {
            "marker": {
             "line": {
              "color": "#E5ECF6",
              "width": 0.5
             },
             "pattern": {
              "fillmode": "overlay",
              "size": 10,
              "solidity": 0.2
             }
            },
            "type": "barpolar"
           }
          ],
          "pie": [
           {
            "automargin": true,
            "type": "pie"
           }
          ]
         },
         "layout": {
          "autotypenumbers": "strict",
          "colorway": [
           "#636efa",
           "#EF553B",
           "#00cc96",
           "#ab63fa",
           "#FFA15A",
           "#19d3f3",
           "#FF6692",
           "#B6E880",
           "#FF97FF",
           "#FECB52"
          ],
          "font": {
           "color": "#2a3f5f"
          },
          "hovermode": "closest",
          "hoverlabel": {
           "align": "left"
          },
          "paper_bgcolor": "white",
          "plot_bgcolor": "#E5ECF6",
          "polar": {
           "bgcolor": "#E5ECF6",
           "angularaxis": {
            "gridcolor": "white",
            "linecolor": "white",
            "ticks": ""
           },
           "radialaxis": {
            "gridcolor": "white",
            "linecolor": "white",
            "ticks": ""
           }
          },
          "ternary": {
           "bgcolor": "#E5ECF6",
           "aaxis": {
            "gridcolor": "white",
            "linecolor": "white",
            "ticks": ""
           },
           "baxis": {
            "gridcolor": "white",
            "linecolor": "white",
            "ticks": ""
           },
           "caxis": {
            "gridcolor": "white",
            "linecolor": "white",
            "ticks": ""
           }
          },
          "coloraxis": {
           "colorbar": {
            "outlinewidth": 0,
            "ticks": ""
           }
          },
          "colorscale": {
           "sequential": [
            [
             0.0,
             "#0d0887"
            ],
            [
             0.1111111111111111,
             "#46039f"
            ],
            [
             0.2222222222222222,
             "#7201a8"
            ],
            [
             0.3333333333333333,
             "#9c179e"
            ],
            [
             0.4444444444444444,
             "#bd3786"
            ],
            [
             0.5555555555555556,
             "#d8576b"
            ],
            [
             0.6666666666666666,
             "#ed7953"
            ],
            [
             0.7777777777777778,
             "#fb9f3a"
            ],
            [
             0.8888888888888888,
             "#fdca26"
            ],
            [
             1.0,
             "#f0f921"
            ]
           ],
           "sequentialminus": [
            [
             0.0,
             "#0d0887"
            ],
            [
             0.1111111111111111,
             "#46039f"
            ],
            [
             0.2222222222222222,
             "#7201a8"
            ],
            [
             0.3333333333333333,
             "#9c179e"
            ],
            [
             0.4444444444444444,
             "#bd3786"
            ],
            [
             0.5555555555555556,
             "#d8576b"
            ],
            [
             0.6666666666666666,
             "#ed7953"
            ],
            [
             0.7777777777777778,
             "#fb9f3a"
            ],
            [
             0.8888888888888888,
             "#fdca26"
            ],
            [
             1.0,
             "#f0f921"
            ]
           ],
           "diverging": [
            [
             0,
             "#8e0152"
            ],
            [
             0.1,
             "#c51b7d"
            ],
            [
             0.2,
             "#de77ae"
            ],
            [
             0.3,
             "#f1b6da"
            ],
            [
             0.4,
             "#fde0ef"
            ],
            [
             0.5,
             "#f7f7f7"
            ],
            [
             0.6,
             "#e6f5d0"
            ],
            [
             0.7,
             "#b8e186"
            ],
            [
             0.8,
             "#7fbc41"
            ],
            [
             0.9,
             "#4d9221"
            ],
            [
             1,
             "#276419"
            ]
           ]
          },
          "xaxis": {
           "gridcolor": "white",
           "linecolor": "white",
           "ticks": "",
           "title": {
            "standoff": 15
           },
           "zerolinecolor": "white",
           "automargin": true,
           "zerolinewidth": 2
          },
          "yaxis": {
           "gridcolor": "white",
           "linecolor": "white",
           "ticks": "",
           "title": {
            "standoff": 15
           },
           "zerolinecolor": "white",
           "automargin": true,
           "zerolinewidth": 2
          },
          "scene": {
           "xaxis": {
            "backgroundcolor": "#E5ECF6",
            "gridcolor": "white",
            "linecolor": "white",
            "showbackground": true,
            "ticks": "",
            "zerolinecolor": "white",
            "gridwidth": 2
           },
           "yaxis": {
            "backgroundcolor": "#E5ECF6",
            "gridcolor": "white",
            "linecolor": "white",
            "showbackground": true,
            "ticks": "",
            "zerolinecolor": "white",
            "gridwidth": 2
           },
           "zaxis": {
            "backgroundcolor": "#E5ECF6",
            "gridcolor": "white",
            "linecolor": "white",
            "showbackground": true,
            "ticks": "",
            "zerolinecolor": "white",
            "gridwidth": 2
           }
          },
          "shapedefaults": {
           "line": {
            "color": "#2a3f5f"
           }
          },
          "annotationdefaults": {
           "arrowcolor": "#2a3f5f",
           "arrowhead": 0,
           "arrowwidth": 1
          },
          "geo": {
           "bgcolor": "white",
           "landcolor": "#E5ECF6",
           "subunitcolor": "white",
           "showland": true,
           "showlakes": true,
           "lakecolor": "white"
          },
          "title": {
           "x": 0.05
          },
          "mapbox": {
           "style": "light"
          }
         }
        },
        "xaxis": {
         "anchor": "y",
         "domain": [
          0.0,
          0.14666666666666667
         ],
         "title": {
          "text": ""
         }
        },
        "yaxis": {
         "anchor": "x",
         "domain": [
          0.0,
          0.3133333333333333
         ],
         "title": {
          "text": ""
         }
        },
        "xaxis2": {
         "anchor": "y2",
         "domain": [
          0.16666666666666666,
          0.31333333333333335
         ],
         "matches": "x",
         "title": {
          "text": ""
         }
        },
        "yaxis2": {
         "anchor": "x2",
         "domain": [
          0.0,
          0.3133333333333333
         ],
         "matches": "y",
         "showticklabels": false,
         "title": {
          "text": ""
         }
        },
        "xaxis3": {
         "anchor": "y3",
         "domain": [
          0.3333333333333333,
          0.48
         ],
         "matches": "x",
         "title": {
          "text": ""
         }
        },
        "yaxis3": {
         "anchor": "x3",
         "domain": [
          0.0,
          0.3133333333333333
         ],
         "matches": "y",
         "showticklabels": false,
         "title": {
          "text": ""
         }
        },
        "xaxis4": {
         "anchor": "y4",
         "domain": [
          0.5,
          0.6466666666666667
         ],
         "matches": "x",
         "title": {
          "text": ""
         }
        },
        "yaxis4": {
         "anchor": "x4",
         "domain": [
          0.0,
          0.3133333333333333
         ],
         "matches": "y",
         "showticklabels": false,
         "title": {
          "text": ""
         }
        },
        "xaxis5": {
         "anchor": "y5",
         "domain": [
          0.6666666666666666,
          0.8133333333333332
         ],
         "matches": "x",
         "title": {
          "text": ""
         }
        },
        "yaxis5": {
         "anchor": "x5",
         "domain": [
          0.0,
          0.3133333333333333
         ],
         "matches": "y",
         "showticklabels": false,
         "title": {
          "text": ""
         }
        },
        "xaxis6": {
         "anchor": "y6",
         "domain": [
          0.8333333333333334,
          0.98
         ],
         "matches": "x",
         "title": {
          "text": ""
         }
        },
        "yaxis6": {
         "anchor": "x6",
         "domain": [
          0.0,
          0.3133333333333333
         ],
         "matches": "y",
         "showticklabels": false,
         "title": {
          "text": ""
         }
        },
        "xaxis7": {
         "anchor": "y7",
         "domain": [
          0.0,
          0.14666666666666667
         ],
         "matches": "x",
         "showticklabels": false,
         "title": {
          "text": ""
         }
        },
        "yaxis7": {
         "anchor": "x7",
         "domain": [
          0.34333333333333327,
          0.6566666666666665
         ],
         "matches": "y",
         "title": {
          "text": ""
         }
        },
        "xaxis8": {
         "anchor": "y8",
         "domain": [
          0.16666666666666666,
          0.31333333333333335
         ],
         "matches": "x",
         "showticklabels": false,
         "title": {
          "text": ""
         }
        },
        "yaxis8": {
         "anchor": "x8",
         "domain": [
          0.34333333333333327,
          0.6566666666666665
         ],
         "matches": "y",
         "showticklabels": false,
         "title": {
          "text": ""
         }
        },
        "xaxis9": {
         "anchor": "y9",
         "domain": [
          0.3333333333333333,
          0.48
         ],
         "matches": "x",
         "showticklabels": false,
         "title": {
          "text": ""
         }
        },
        "yaxis9": {
         "anchor": "x9",
         "domain": [
          0.34333333333333327,
          0.6566666666666665
         ],
         "matches": "y",
         "showticklabels": false,
         "title": {
          "text": ""
         }
        },
        "xaxis10": {
         "anchor": "y10",
         "domain": [
          0.5,
          0.6466666666666667
         ],
         "matches": "x",
         "showticklabels": false,
         "title": {
          "text": ""
         }
        },
        "yaxis10": {
         "anchor": "x10",
         "domain": [
          0.34333333333333327,
          0.6566666666666665
         ],
         "matches": "y",
         "showticklabels": false,
         "title": {
          "text": ""
         }
        },
        "xaxis11": {
         "anchor": "y11",
         "domain": [
          0.6666666666666666,
          0.8133333333333332
         ],
         "matches": "x",
         "showticklabels": false,
         "title": {
          "text": ""
         }
        },
        "yaxis11": {
         "anchor": "x11",
         "domain": [
          0.34333333333333327,
          0.6566666666666665
         ],
         "matches": "y",
         "showticklabels": false,
         "title": {
          "text": ""
         }
        },
        "xaxis12": {
         "anchor": "y12",
         "domain": [
          0.8333333333333334,
          0.98
         ],
         "matches": "x",
         "showticklabels": false,
         "title": {
          "text": ""
         }
        },
        "yaxis12": {
         "anchor": "x12",
         "domain": [
          0.34333333333333327,
          0.6566666666666665
         ],
         "matches": "y",
         "showticklabels": false,
         "title": {
          "text": ""
         }
        },
        "xaxis13": {
         "anchor": "y13",
         "domain": [
          0.0,
          0.14666666666666667
         ],
         "matches": "x",
         "showticklabels": false,
         "title": {
          "text": ""
         }
        },
        "yaxis13": {
         "anchor": "x13",
         "domain": [
          0.6866666666666665,
          0.9999999999999998
         ],
         "matches": "y",
         "title": {
          "text": ""
         }
        },
        "xaxis14": {
         "anchor": "y14",
         "domain": [
          0.16666666666666666,
          0.31333333333333335
         ],
         "matches": "x",
         "showticklabels": false,
         "title": {
          "text": ""
         }
        },
        "yaxis14": {
         "anchor": "x14",
         "domain": [
          0.6866666666666665,
          0.9999999999999998
         ],
         "matches": "y",
         "showticklabels": false,
         "title": {
          "text": ""
         }
        },
        "xaxis15": {
         "anchor": "y15",
         "domain": [
          0.3333333333333333,
          0.48
         ],
         "matches": "x",
         "showticklabels": false,
         "title": {
          "text": ""
         }
        },
        "yaxis15": {
         "anchor": "x15",
         "domain": [
          0.6866666666666665,
          0.9999999999999998
         ],
         "matches": "y",
         "showticklabels": false,
         "title": {
          "text": ""
         }
        },
        "xaxis16": {
         "anchor": "y16",
         "domain": [
          0.5,
          0.6466666666666667
         ],
         "matches": "x",
         "showticklabels": false,
         "title": {
          "text": ""
         }
        },
        "yaxis16": {
         "anchor": "x16",
         "domain": [
          0.6866666666666665,
          0.9999999999999998
         ],
         "matches": "y",
         "showticklabels": false,
         "title": {
          "text": ""
         }
        },
        "xaxis17": {
         "anchor": "y17",
         "domain": [
          0.6666666666666666,
          0.8133333333333332
         ],
         "matches": "x",
         "showticklabels": false,
         "title": {
          "text": ""
         }
        },
        "yaxis17": {
         "anchor": "x17",
         "domain": [
          0.6866666666666665,
          0.9999999999999998
         ],
         "matches": "y",
         "showticklabels": false,
         "title": {
          "text": ""
         }
        },
        "xaxis18": {
         "anchor": "y18",
         "domain": [
          0.8333333333333334,
          0.98
         ],
         "matches": "x",
         "showticklabels": false,
         "title": {
          "text": ""
         }
        },
        "yaxis18": {
         "anchor": "x18",
         "domain": [
          0.6866666666666665,
          0.9999999999999998
         ],
         "matches": "y",
         "showticklabels": false,
         "title": {
          "text": ""
         }
        },
        "annotations": [
         {
          "showarrow": false,
          "text": "0.5",
          "x": 0.07333333333333333,
          "xanchor": "center",
          "xref": "paper",
          "y": 0.9999999999999998,
          "yanchor": "bottom",
          "yref": "paper"
         },
         {
          "showarrow": false,
          "text": "1.0",
          "x": 0.24,
          "xanchor": "center",
          "xref": "paper",
          "y": 0.9999999999999998,
          "yanchor": "bottom",
          "yref": "paper"
         },
         {
          "showarrow": false,
          "text": "2.0",
          "x": 0.4066666666666666,
          "xanchor": "center",
          "xref": "paper",
          "y": 0.9999999999999998,
          "yanchor": "bottom",
          "yref": "paper"
         },
         {
          "showarrow": false,
          "text": "5.0",
          "x": 0.5733333333333334,
          "xanchor": "center",
          "xref": "paper",
          "y": 0.9999999999999998,
          "yanchor": "bottom",
          "yref": "paper"
         },
         {
          "showarrow": false,
          "text": "15.0",
          "x": 0.74,
          "xanchor": "center",
          "xref": "paper",
          "y": 0.9999999999999998,
          "yanchor": "bottom",
          "yref": "paper"
         },
         {
          "showarrow": false,
          "text": "30.0",
          "x": 0.9066666666666667,
          "xanchor": "center",
          "xref": "paper",
          "y": 0.9999999999999998,
          "yanchor": "bottom",
          "yref": "paper"
         },
         {
          "showarrow": false,
          "text": "600",
          "textangle": 90,
          "x": 0.98,
          "xanchor": "left",
          "xref": "paper",
          "y": 0.15666666666666665,
          "yanchor": "middle",
          "yref": "paper"
         },
         {
          "showarrow": false,
          "text": "300",
          "textangle": 90,
          "x": 0.98,
          "xanchor": "left",
          "xref": "paper",
          "y": 0.4999999999999999,
          "yanchor": "middle",
          "yref": "paper"
         },
         {
          "showarrow": false,
          "text": "180",
          "textangle": 90,
          "x": 0.98,
          "xanchor": "left",
          "xref": "paper",
          "y": 0.8433333333333332,
          "yanchor": "middle",
          "yref": "paper"
         },
         {
          "showarrow": false,
          "text": "travel time per request [s]",
          "textangle": -90,
          "x": -0.06,
          "xref": "paper",
          "y": 0.5,
          "yref": "paper"
         },
         {
          "showarrow": false,
          "text": "instance length [min]",
          "x": 0.5,
          "xref": "paper",
          "y": 1.15,
          "yref": "paper"
         },
         {
          "showarrow": false,
          "text": "maximum delay [s]",
          "textangle": 90,
          "x": 1.02,
          "xref": "paper",
          "y": 0.5,
          "yref": "paper"
         }
        ],
        "legend": {
         "tracegroupgap": 0
        },
        "title": {
         "text": "Average Cost per Request"
        },
        "barmode": "group"
       },
       "config": {
        "plotlyServerURL": "https://plot.ly"
       }
      },
      "text/html": "<div>                            <div id=\"3828302c-4282-45f9-b905-b22f10ae786e\" class=\"plotly-graph-div\" style=\"height:525px; width:100%;\"></div>            <script type=\"text/javascript\">                require([\"plotly\"], function(Plotly) {                    window.PLOTLYENV=window.PLOTLYENV || {};                                    if (document.getElementById(\"3828302c-4282-45f9-b905-b22f10ae786e\")) {                    Plotly.newPlot(                        \"3828302c-4282-45f9-b905-b22f10ae786e\",                        [{\"alignmentgroup\":\"True\",\"hovertemplate\":\"max_delay=180<br>duration_minutes=0.5<br>area=%{x}<br>cost_per_request=%{y}<extra></extra>\",\"legendgroup\":\"\",\"marker\":{\"color\":\"#636efa\",\"pattern\":{\"shape\":\"\"}},\"name\":\"\",\"offsetgroup\":\"\",\"orientation\":\"v\",\"showlegend\":false,\"textposition\":\"auto\",\"x\":[\"Chicago\",\"DC\",\"Manhattan\",\"NYC\"],\"xaxis\":\"x13\",\"y\":[1008.0,2115.0,498.42857142857144,823.7689969604863],\"yaxis\":\"y13\",\"type\":\"bar\"},{\"alignmentgroup\":\"True\",\"hovertemplate\":\"max_delay=180<br>duration_minutes=1.0<br>area=%{x}<br>cost_per_request=%{y}<extra></extra>\",\"legendgroup\":\"\",\"marker\":{\"color\":\"#636efa\",\"pattern\":{\"shape\":\"\"}},\"name\":\"\",\"offsetgroup\":\"\",\"orientation\":\"v\",\"showlegend\":false,\"textposition\":\"auto\",\"x\":[\"Chicago\",\"DC\",\"Manhattan\",\"NYC\"],\"xaxis\":\"x14\",\"y\":[1153.8461538461538,1705.7142857142858,488.8111888111888,710.4833836858006],\"yaxis\":\"y14\",\"type\":\"bar\"},{\"alignmentgroup\":\"True\",\"hovertemplate\":\"max_delay=180<br>duration_minutes=2.0<br>area=%{x}<br>cost_per_request=%{y}<extra></extra>\",\"legendgroup\":\"\",\"marker\":{\"color\":\"#636efa\",\"pattern\":{\"shape\":\"\"}},\"name\":\"\",\"offsetgroup\":\"\",\"orientation\":\"v\",\"showlegend\":false,\"textposition\":\"auto\",\"x\":[\"Chicago\",\"DC\",\"Manhattan\",\"NYC\"],\"xaxis\":\"x15\",\"y\":[949.2857142857143,1320.0,433.1900826446281,685.7528089887641],\"yaxis\":\"y15\",\"type\":\"bar\"},{\"alignmentgroup\":\"True\",\"hovertemplate\":\"max_delay=180<br>duration_minutes=5.0<br>area=%{x}<br>cost_per_request=%{y}<extra></extra>\",\"legendgroup\":\"\",\"marker\":{\"color\":\"#636efa\",\"pattern\":{\"shape\":\"\"}},\"name\":\"\",\"offsetgroup\":\"\",\"orientation\":\"v\",\"showlegend\":false,\"textposition\":\"auto\",\"x\":[\"Chicago\",\"DC\",\"Manhattan\",\"NYC\"],\"xaxis\":\"x16\",\"y\":[954.065934065934,1334.4444444444443,378.45597104945716,597.1616972477065],\"yaxis\":\"y16\",\"type\":\"bar\"},{\"alignmentgroup\":\"True\",\"hovertemplate\":\"max_delay=180<br>duration_minutes=15.0<br>area=%{x}<br>cost_per_request=%{y}<extra></extra>\",\"legendgroup\":\"\",\"marker\":{\"color\":\"#636efa\",\"pattern\":{\"shape\":\"\"}},\"name\":\"\",\"offsetgroup\":\"\",\"orientation\":\"v\",\"showlegend\":false,\"textposition\":\"auto\",\"x\":[\"Chicago\",\"DC\",\"Manhattan\",\"NYC\"],\"xaxis\":\"x17\",\"y\":[792.043795620438,1266.993865030675,333.84314492470173,534.2083845935459],\"yaxis\":\"y17\",\"type\":\"bar\"},{\"alignmentgroup\":\"True\",\"hovertemplate\":\"max_delay=180<br>duration_minutes=30.0<br>area=%{x}<br>cost_per_request=%{y}<extra></extra>\",\"legendgroup\":\"\",\"marker\":{\"color\":\"#636efa\",\"pattern\":{\"shape\":\"\"}},\"name\":\"\",\"offsetgroup\":\"\",\"orientation\":\"v\",\"showlegend\":false,\"textposition\":\"auto\",\"x\":[\"Chicago\",\"DC\",\"Manhattan\",\"NYC\"],\"xaxis\":\"x18\",\"y\":[863.7583892617449,1169.0853658536585,320.48639258830343,527.6579818626745],\"yaxis\":\"y18\",\"type\":\"bar\"},{\"alignmentgroup\":\"True\",\"hovertemplate\":\"max_delay=300<br>duration_minutes=0.5<br>area=%{x}<br>cost_per_request=%{y}<extra></extra>\",\"legendgroup\":\"\",\"marker\":{\"color\":\"#636efa\",\"pattern\":{\"shape\":\"\"}},\"name\":\"\",\"offsetgroup\":\"\",\"orientation\":\"v\",\"showlegend\":false,\"textposition\":\"auto\",\"x\":[\"Chicago\",\"DC\",\"Manhattan\",\"NYC\"],\"xaxis\":\"x7\",\"y\":[696.0,2115.0,464.57142857142856,716.5349544072948],\"yaxis\":\"y7\",\"type\":\"bar\"},{\"alignmentgroup\":\"True\",\"hovertemplate\":\"max_delay=300<br>duration_minutes=1.0<br>area=%{x}<br>cost_per_request=%{y}<extra></extra>\",\"legendgroup\":\"\",\"marker\":{\"color\":\"#636efa\",\"pattern\":{\"shape\":\"\"}},\"name\":\"\",\"offsetgroup\":\"\",\"orientation\":\"v\",\"showlegend\":false,\"textposition\":\"auto\",\"x\":[\"Chicago\",\"DC\",\"Manhattan\",\"NYC\"],\"xaxis\":\"x8\",\"y\":[1144.6153846153845,1705.7142857142858,434.8951048951049,628.1873111782477],\"yaxis\":\"y8\",\"type\":\"bar\"},{\"alignmentgroup\":\"True\",\"hovertemplate\":\"max_delay=300<br>duration_minutes=2.0<br>area=%{x}<br>cost_per_request=%{y}<extra></extra>\",\"legendgroup\":\"\",\"marker\":{\"color\":\"#636efa\",\"pattern\":{\"shape\":\"\"}},\"name\":\"\",\"offsetgroup\":\"\",\"orientation\":\"v\",\"showlegend\":false,\"textposition\":\"auto\",\"x\":[\"Chicago\",\"DC\",\"Manhattan\",\"NYC\"],\"xaxis\":\"x9\",\"y\":[930.0,1303.3333333333333,387.07438016528926,586.3370786516854],\"yaxis\":\"y9\",\"type\":\"bar\"},{\"alignmentgroup\":\"True\",\"hovertemplate\":\"max_delay=300<br>duration_minutes=5.0<br>area=%{x}<br>cost_per_request=%{y}<extra></extra>\",\"legendgroup\":\"\",\"marker\":{\"color\":\"#636efa\",\"pattern\":{\"shape\":\"\"}},\"name\":\"\",\"offsetgroup\":\"\",\"orientation\":\"v\",\"showlegend\":false,\"textposition\":\"auto\",\"x\":[\"Chicago\",\"DC\",\"Manhattan\",\"NYC\"],\"xaxis\":\"x10\",\"y\":[805.7142857142857,1207.7777777777778,349.65018094089265,525.9977064220184],\"yaxis\":\"y10\",\"type\":\"bar\"},{\"alignmentgroup\":\"True\",\"hovertemplate\":\"max_delay=300<br>duration_minutes=15.0<br>area=%{x}<br>cost_per_request=%{y}<extra></extra>\",\"legendgroup\":\"\",\"marker\":{\"color\":\"#636efa\",\"pattern\":{\"shape\":\"\"}},\"name\":\"\",\"offsetgroup\":\"\",\"orientation\":\"v\",\"showlegend\":false,\"textposition\":\"auto\",\"x\":[\"Chicago\",\"DC\",\"Manhattan\",\"NYC\"],\"xaxis\":\"x11\",\"y\":[679.051094890511,1089.9386503067485,299.8005085077254,466.9404750638781],\"yaxis\":\"y11\",\"type\":\"bar\"},{\"alignmentgroup\":\"True\",\"hovertemplate\":\"max_delay=300<br>duration_minutes=30.0<br>area=%{x}<br>cost_per_request=%{y}<extra></extra>\",\"legendgroup\":\"\",\"marker\":{\"color\":\"#636efa\",\"pattern\":{\"shape\":\"\"}},\"name\":\"\",\"offsetgroup\":\"\",\"orientation\":\"v\",\"showlegend\":false,\"textposition\":\"auto\",\"x\":[\"Chicago\",\"DC\",\"Manhattan\",\"NYC\"],\"xaxis\":\"x12\",\"y\":[721.2080536912752,1027.3170731707316,282.18876664736536,456.5251187562977],\"yaxis\":\"y12\",\"type\":\"bar\"},{\"alignmentgroup\":\"True\",\"hovertemplate\":\"max_delay=600<br>duration_minutes=0.5<br>area=%{x}<br>cost_per_request=%{y}<extra></extra>\",\"legendgroup\":\"\",\"marker\":{\"color\":\"#636efa\",\"pattern\":{\"shape\":\"\"}},\"name\":\"\",\"offsetgroup\":\"\",\"orientation\":\"v\",\"showlegend\":false,\"textposition\":\"auto\",\"x\":[\"Chicago\",\"DC\",\"Manhattan\",\"NYC\"],\"xaxis\":\"x\",\"y\":[624.0,2115.0,417.85714285714283,639.3920972644377],\"yaxis\":\"y\",\"type\":\"bar\"},{\"alignmentgroup\":\"True\",\"hovertemplate\":\"max_delay=600<br>duration_minutes=1.0<br>area=%{x}<br>cost_per_request=%{y}<extra></extra>\",\"legendgroup\":\"\",\"marker\":{\"color\":\"#636efa\",\"pattern\":{\"shape\":\"\"}},\"name\":\"\",\"offsetgroup\":\"\",\"orientation\":\"v\",\"showlegend\":false,\"textposition\":\"auto\",\"x\":[\"Chicago\",\"DC\",\"Manhattan\",\"NYC\"],\"xaxis\":\"x2\",\"y\":[1001.5384615384615,1525.7142857142858,392.0979020979021,566.3746223564955],\"yaxis\":\"y2\",\"type\":\"bar\"},{\"alignmentgroup\":\"True\",\"hovertemplate\":\"max_delay=600<br>duration_minutes=2.0<br>area=%{x}<br>cost_per_request=%{y}<extra></extra>\",\"legendgroup\":\"\",\"marker\":{\"color\":\"#636efa\",\"pattern\":{\"shape\":\"\"}},\"name\":\"\",\"offsetgroup\":\"\",\"orientation\":\"v\",\"showlegend\":false,\"textposition\":\"auto\",\"x\":[\"Chicago\",\"DC\",\"Manhattan\",\"NYC\"],\"xaxis\":\"x3\",\"y\":[865.7142857142857,1250.0,358.7107438016529,519.1011235955057],\"yaxis\":\"y3\",\"type\":\"bar\"},{\"alignmentgroup\":\"True\",\"hovertemplate\":\"max_delay=600<br>duration_minutes=5.0<br>area=%{x}<br>cost_per_request=%{y}<extra></extra>\",\"legendgroup\":\"\",\"marker\":{\"color\":\"#636efa\",\"pattern\":{\"shape\":\"\"}},\"name\":\"\",\"offsetgroup\":\"\",\"orientation\":\"v\",\"showlegend\":false,\"textposition\":\"auto\",\"x\":[\"Chicago\",\"DC\",\"Manhattan\",\"NYC\"],\"xaxis\":\"x4\",\"y\":[670.5494505494505,1042.2222222222222,329.4571773220748,484.5756880733945],\"yaxis\":\"y4\",\"type\":\"bar\"},{\"alignmentgroup\":\"True\",\"hovertemplate\":\"max_delay=600<br>duration_minutes=15.0<br>area=%{x}<br>cost_per_request=%{y}<extra></extra>\",\"legendgroup\":\"\",\"marker\":{\"color\":\"#636efa\",\"pattern\":{\"shape\":\"\"}},\"name\":\"\",\"offsetgroup\":\"\",\"orientation\":\"v\",\"showlegend\":false,\"textposition\":\"auto\",\"x\":[\"Chicago\",\"DC\",\"Manhattan\",\"NYC\"],\"xaxis\":\"x5\",\"y\":[595.4014598540145,902.5766871165645,287.6549970663016,432.9743541213211],\"yaxis\":\"y5\",\"type\":\"bar\"},{\"alignmentgroup\":\"True\",\"hovertemplate\":\"max_delay=600<br>duration_minutes=30.0<br>area=%{x}<br>cost_per_request=%{y}<extra></extra>\",\"legendgroup\":\"\",\"marker\":{\"color\":\"#636efa\",\"pattern\":{\"shape\":\"\"}},\"name\":\"\",\"offsetgroup\":\"\",\"orientation\":\"v\",\"showlegend\":false,\"textposition\":\"auto\",\"x\":[\"Chicago\",\"DC\",\"Manhattan\",\"NYC\"],\"xaxis\":\"x6\",\"y\":[579.9664429530201,872.7439024390244,260.2374059061957,407.71843961422195],\"yaxis\":\"y6\",\"type\":\"bar\"}],                        {\"template\":{\"data\":{\"histogram2dcontour\":[{\"type\":\"histogram2dcontour\",\"colorbar\":{\"outlinewidth\":0,\"ticks\":\"\"},\"colorscale\":[[0.0,\"#0d0887\"],[0.1111111111111111,\"#46039f\"],[0.2222222222222222,\"#7201a8\"],[0.3333333333333333,\"#9c179e\"],[0.4444444444444444,\"#bd3786\"],[0.5555555555555556,\"#d8576b\"],[0.6666666666666666,\"#ed7953\"],[0.7777777777777778,\"#fb9f3a\"],[0.8888888888888888,\"#fdca26\"],[1.0,\"#f0f921\"]]}],\"choropleth\":[{\"type\":\"choropleth\",\"colorbar\":{\"outlinewidth\":0,\"ticks\":\"\"}}],\"histogram2d\":[{\"type\":\"histogram2d\",\"colorbar\":{\"outlinewidth\":0,\"ticks\":\"\"},\"colorscale\":[[0.0,\"#0d0887\"],[0.1111111111111111,\"#46039f\"],[0.2222222222222222,\"#7201a8\"],[0.3333333333333333,\"#9c179e\"],[0.4444444444444444,\"#bd3786\"],[0.5555555555555556,\"#d8576b\"],[0.6666666666666666,\"#ed7953\"],[0.7777777777777778,\"#fb9f3a\"],[0.8888888888888888,\"#fdca26\"],[1.0,\"#f0f921\"]]}],\"heatmap\":[{\"type\":\"heatmap\",\"colorbar\":{\"outlinewidth\":0,\"ticks\":\"\"},\"colorscale\":[[0.0,\"#0d0887\"],[0.1111111111111111,\"#46039f\"],[0.2222222222222222,\"#7201a8\"],[0.3333333333333333,\"#9c179e\"],[0.4444444444444444,\"#bd3786\"],[0.5555555555555556,\"#d8576b\"],[0.6666666666666666,\"#ed7953\"],[0.7777777777777778,\"#fb9f3a\"],[0.8888888888888888,\"#fdca26\"],[1.0,\"#f0f921\"]]}],\"heatmapgl\":[{\"type\":\"heatmapgl\",\"colorbar\":{\"outlinewidth\":0,\"ticks\":\"\"},\"colorscale\":[[0.0,\"#0d0887\"],[0.1111111111111111,\"#46039f\"],[0.2222222222222222,\"#7201a8\"],[0.3333333333333333,\"#9c179e\"],[0.4444444444444444,\"#bd3786\"],[0.5555555555555556,\"#d8576b\"],[0.6666666666666666,\"#ed7953\"],[0.7777777777777778,\"#fb9f3a\"],[0.8888888888888888,\"#fdca26\"],[1.0,\"#f0f921\"]]}],\"contourcarpet\":[{\"type\":\"contourcarpet\",\"colorbar\":{\"outlinewidth\":0,\"ticks\":\"\"}}],\"contour\":[{\"type\":\"contour\",\"colorbar\":{\"outlinewidth\":0,\"ticks\":\"\"},\"colorscale\":[[0.0,\"#0d0887\"],[0.1111111111111111,\"#46039f\"],[0.2222222222222222,\"#7201a8\"],[0.3333333333333333,\"#9c179e\"],[0.4444444444444444,\"#bd3786\"],[0.5555555555555556,\"#d8576b\"],[0.6666666666666666,\"#ed7953\"],[0.7777777777777778,\"#fb9f3a\"],[0.8888888888888888,\"#fdca26\"],[1.0,\"#f0f921\"]]}],\"surface\":[{\"type\":\"surface\",\"colorbar\":{\"outlinewidth\":0,\"ticks\":\"\"},\"colorscale\":[[0.0,\"#0d0887\"],[0.1111111111111111,\"#46039f\"],[0.2222222222222222,\"#7201a8\"],[0.3333333333333333,\"#9c179e\"],[0.4444444444444444,\"#bd3786\"],[0.5555555555555556,\"#d8576b\"],[0.6666666666666666,\"#ed7953\"],[0.7777777777777778,\"#fb9f3a\"],[0.8888888888888888,\"#fdca26\"],[1.0,\"#f0f921\"]]}],\"mesh3d\":[{\"type\":\"mesh3d\",\"colorbar\":{\"outlinewidth\":0,\"ticks\":\"\"}}],\"scatter\":[{\"fillpattern\":{\"fillmode\":\"overlay\",\"size\":10,\"solidity\":0.2},\"type\":\"scatter\"}],\"parcoords\":[{\"type\":\"parcoords\",\"line\":{\"colorbar\":{\"outlinewidth\":0,\"ticks\":\"\"}}}],\"scatterpolargl\":[{\"type\":\"scatterpolargl\",\"marker\":{\"colorbar\":{\"outlinewidth\":0,\"ticks\":\"\"}}}],\"bar\":[{\"error_x\":{\"color\":\"#2a3f5f\"},\"error_y\":{\"color\":\"#2a3f5f\"},\"marker\":{\"line\":{\"color\":\"#E5ECF6\",\"width\":0.5},\"pattern\":{\"fillmode\":\"overlay\",\"size\":10,\"solidity\":0.2}},\"type\":\"bar\"}],\"scattergeo\":[{\"type\":\"scattergeo\",\"marker\":{\"colorbar\":{\"outlinewidth\":0,\"ticks\":\"\"}}}],\"scatterpolar\":[{\"type\":\"scatterpolar\",\"marker\":{\"colorbar\":{\"outlinewidth\":0,\"ticks\":\"\"}}}],\"histogram\":[{\"marker\":{\"pattern\":{\"fillmode\":\"overlay\",\"size\":10,\"solidity\":0.2}},\"type\":\"histogram\"}],\"scattergl\":[{\"type\":\"scattergl\",\"marker\":{\"colorbar\":{\"outlinewidth\":0,\"ticks\":\"\"}}}],\"scatter3d\":[{\"type\":\"scatter3d\",\"line\":{\"colorbar\":{\"outlinewidth\":0,\"ticks\":\"\"}},\"marker\":{\"colorbar\":{\"outlinewidth\":0,\"ticks\":\"\"}}}],\"scattermapbox\":[{\"type\":\"scattermapbox\",\"marker\":{\"colorbar\":{\"outlinewidth\":0,\"ticks\":\"\"}}}],\"scatterternary\":[{\"type\":\"scatterternary\",\"marker\":{\"colorbar\":{\"outlinewidth\":0,\"ticks\":\"\"}}}],\"scattercarpet\":[{\"type\":\"scattercarpet\",\"marker\":{\"colorbar\":{\"outlinewidth\":0,\"ticks\":\"\"}}}],\"carpet\":[{\"aaxis\":{\"endlinecolor\":\"#2a3f5f\",\"gridcolor\":\"white\",\"linecolor\":\"white\",\"minorgridcolor\":\"white\",\"startlinecolor\":\"#2a3f5f\"},\"baxis\":{\"endlinecolor\":\"#2a3f5f\",\"gridcolor\":\"white\",\"linecolor\":\"white\",\"minorgridcolor\":\"white\",\"startlinecolor\":\"#2a3f5f\"},\"type\":\"carpet\"}],\"table\":[{\"cells\":{\"fill\":{\"color\":\"#EBF0F8\"},\"line\":{\"color\":\"white\"}},\"header\":{\"fill\":{\"color\":\"#C8D4E3\"},\"line\":{\"color\":\"white\"}},\"type\":\"table\"}],\"barpolar\":[{\"marker\":{\"line\":{\"color\":\"#E5ECF6\",\"width\":0.5},\"pattern\":{\"fillmode\":\"overlay\",\"size\":10,\"solidity\":0.2}},\"type\":\"barpolar\"}],\"pie\":[{\"automargin\":true,\"type\":\"pie\"}]},\"layout\":{\"autotypenumbers\":\"strict\",\"colorway\":[\"#636efa\",\"#EF553B\",\"#00cc96\",\"#ab63fa\",\"#FFA15A\",\"#19d3f3\",\"#FF6692\",\"#B6E880\",\"#FF97FF\",\"#FECB52\"],\"font\":{\"color\":\"#2a3f5f\"},\"hovermode\":\"closest\",\"hoverlabel\":{\"align\":\"left\"},\"paper_bgcolor\":\"white\",\"plot_bgcolor\":\"#E5ECF6\",\"polar\":{\"bgcolor\":\"#E5ECF6\",\"angularaxis\":{\"gridcolor\":\"white\",\"linecolor\":\"white\",\"ticks\":\"\"},\"radialaxis\":{\"gridcolor\":\"white\",\"linecolor\":\"white\",\"ticks\":\"\"}},\"ternary\":{\"bgcolor\":\"#E5ECF6\",\"aaxis\":{\"gridcolor\":\"white\",\"linecolor\":\"white\",\"ticks\":\"\"},\"baxis\":{\"gridcolor\":\"white\",\"linecolor\":\"white\",\"ticks\":\"\"},\"caxis\":{\"gridcolor\":\"white\",\"linecolor\":\"white\",\"ticks\":\"\"}},\"coloraxis\":{\"colorbar\":{\"outlinewidth\":0,\"ticks\":\"\"}},\"colorscale\":{\"sequential\":[[0.0,\"#0d0887\"],[0.1111111111111111,\"#46039f\"],[0.2222222222222222,\"#7201a8\"],[0.3333333333333333,\"#9c179e\"],[0.4444444444444444,\"#bd3786\"],[0.5555555555555556,\"#d8576b\"],[0.6666666666666666,\"#ed7953\"],[0.7777777777777778,\"#fb9f3a\"],[0.8888888888888888,\"#fdca26\"],[1.0,\"#f0f921\"]],\"sequentialminus\":[[0.0,\"#0d0887\"],[0.1111111111111111,\"#46039f\"],[0.2222222222222222,\"#7201a8\"],[0.3333333333333333,\"#9c179e\"],[0.4444444444444444,\"#bd3786\"],[0.5555555555555556,\"#d8576b\"],[0.6666666666666666,\"#ed7953\"],[0.7777777777777778,\"#fb9f3a\"],[0.8888888888888888,\"#fdca26\"],[1.0,\"#f0f921\"]],\"diverging\":[[0,\"#8e0152\"],[0.1,\"#c51b7d\"],[0.2,\"#de77ae\"],[0.3,\"#f1b6da\"],[0.4,\"#fde0ef\"],[0.5,\"#f7f7f7\"],[0.6,\"#e6f5d0\"],[0.7,\"#b8e186\"],[0.8,\"#7fbc41\"],[0.9,\"#4d9221\"],[1,\"#276419\"]]},\"xaxis\":{\"gridcolor\":\"white\",\"linecolor\":\"white\",\"ticks\":\"\",\"title\":{\"standoff\":15},\"zerolinecolor\":\"white\",\"automargin\":true,\"zerolinewidth\":2},\"yaxis\":{\"gridcolor\":\"white\",\"linecolor\":\"white\",\"ticks\":\"\",\"title\":{\"standoff\":15},\"zerolinecolor\":\"white\",\"automargin\":true,\"zerolinewidth\":2},\"scene\":{\"xaxis\":{\"backgroundcolor\":\"#E5ECF6\",\"gridcolor\":\"white\",\"linecolor\":\"white\",\"showbackground\":true,\"ticks\":\"\",\"zerolinecolor\":\"white\",\"gridwidth\":2},\"yaxis\":{\"backgroundcolor\":\"#E5ECF6\",\"gridcolor\":\"white\",\"linecolor\":\"white\",\"showbackground\":true,\"ticks\":\"\",\"zerolinecolor\":\"white\",\"gridwidth\":2},\"zaxis\":{\"backgroundcolor\":\"#E5ECF6\",\"gridcolor\":\"white\",\"linecolor\":\"white\",\"showbackground\":true,\"ticks\":\"\",\"zerolinecolor\":\"white\",\"gridwidth\":2}},\"shapedefaults\":{\"line\":{\"color\":\"#2a3f5f\"}},\"annotationdefaults\":{\"arrowcolor\":\"#2a3f5f\",\"arrowhead\":0,\"arrowwidth\":1},\"geo\":{\"bgcolor\":\"white\",\"landcolor\":\"#E5ECF6\",\"subunitcolor\":\"white\",\"showland\":true,\"showlakes\":true,\"lakecolor\":\"white\"},\"title\":{\"x\":0.05},\"mapbox\":{\"style\":\"light\"}}},\"xaxis\":{\"anchor\":\"y\",\"domain\":[0.0,0.14666666666666667],\"title\":{\"text\":\"\"}},\"yaxis\":{\"anchor\":\"x\",\"domain\":[0.0,0.3133333333333333],\"title\":{\"text\":\"\"}},\"xaxis2\":{\"anchor\":\"y2\",\"domain\":[0.16666666666666666,0.31333333333333335],\"matches\":\"x\",\"title\":{\"text\":\"\"}},\"yaxis2\":{\"anchor\":\"x2\",\"domain\":[0.0,0.3133333333333333],\"matches\":\"y\",\"showticklabels\":false,\"title\":{\"text\":\"\"}},\"xaxis3\":{\"anchor\":\"y3\",\"domain\":[0.3333333333333333,0.48],\"matches\":\"x\",\"title\":{\"text\":\"\"}},\"yaxis3\":{\"anchor\":\"x3\",\"domain\":[0.0,0.3133333333333333],\"matches\":\"y\",\"showticklabels\":false,\"title\":{\"text\":\"\"}},\"xaxis4\":{\"anchor\":\"y4\",\"domain\":[0.5,0.6466666666666667],\"matches\":\"x\",\"title\":{\"text\":\"\"}},\"yaxis4\":{\"anchor\":\"x4\",\"domain\":[0.0,0.3133333333333333],\"matches\":\"y\",\"showticklabels\":false,\"title\":{\"text\":\"\"}},\"xaxis5\":{\"anchor\":\"y5\",\"domain\":[0.6666666666666666,0.8133333333333332],\"matches\":\"x\",\"title\":{\"text\":\"\"}},\"yaxis5\":{\"anchor\":\"x5\",\"domain\":[0.0,0.3133333333333333],\"matches\":\"y\",\"showticklabels\":false,\"title\":{\"text\":\"\"}},\"xaxis6\":{\"anchor\":\"y6\",\"domain\":[0.8333333333333334,0.98],\"matches\":\"x\",\"title\":{\"text\":\"\"}},\"yaxis6\":{\"anchor\":\"x6\",\"domain\":[0.0,0.3133333333333333],\"matches\":\"y\",\"showticklabels\":false,\"title\":{\"text\":\"\"}},\"xaxis7\":{\"anchor\":\"y7\",\"domain\":[0.0,0.14666666666666667],\"matches\":\"x\",\"showticklabels\":false,\"title\":{\"text\":\"\"}},\"yaxis7\":{\"anchor\":\"x7\",\"domain\":[0.34333333333333327,0.6566666666666665],\"matches\":\"y\",\"title\":{\"text\":\"\"}},\"xaxis8\":{\"anchor\":\"y8\",\"domain\":[0.16666666666666666,0.31333333333333335],\"matches\":\"x\",\"showticklabels\":false,\"title\":{\"text\":\"\"}},\"yaxis8\":{\"anchor\":\"x8\",\"domain\":[0.34333333333333327,0.6566666666666665],\"matches\":\"y\",\"showticklabels\":false,\"title\":{\"text\":\"\"}},\"xaxis9\":{\"anchor\":\"y9\",\"domain\":[0.3333333333333333,0.48],\"matches\":\"x\",\"showticklabels\":false,\"title\":{\"text\":\"\"}},\"yaxis9\":{\"anchor\":\"x9\",\"domain\":[0.34333333333333327,0.6566666666666665],\"matches\":\"y\",\"showticklabels\":false,\"title\":{\"text\":\"\"}},\"xaxis10\":{\"anchor\":\"y10\",\"domain\":[0.5,0.6466666666666667],\"matches\":\"x\",\"showticklabels\":false,\"title\":{\"text\":\"\"}},\"yaxis10\":{\"anchor\":\"x10\",\"domain\":[0.34333333333333327,0.6566666666666665],\"matches\":\"y\",\"showticklabels\":false,\"title\":{\"text\":\"\"}},\"xaxis11\":{\"anchor\":\"y11\",\"domain\":[0.6666666666666666,0.8133333333333332],\"matches\":\"x\",\"showticklabels\":false,\"title\":{\"text\":\"\"}},\"yaxis11\":{\"anchor\":\"x11\",\"domain\":[0.34333333333333327,0.6566666666666665],\"matches\":\"y\",\"showticklabels\":false,\"title\":{\"text\":\"\"}},\"xaxis12\":{\"anchor\":\"y12\",\"domain\":[0.8333333333333334,0.98],\"matches\":\"x\",\"showticklabels\":false,\"title\":{\"text\":\"\"}},\"yaxis12\":{\"anchor\":\"x12\",\"domain\":[0.34333333333333327,0.6566666666666665],\"matches\":\"y\",\"showticklabels\":false,\"title\":{\"text\":\"\"}},\"xaxis13\":{\"anchor\":\"y13\",\"domain\":[0.0,0.14666666666666667],\"matches\":\"x\",\"showticklabels\":false,\"title\":{\"text\":\"\"}},\"yaxis13\":{\"anchor\":\"x13\",\"domain\":[0.6866666666666665,0.9999999999999998],\"matches\":\"y\",\"title\":{\"text\":\"\"}},\"xaxis14\":{\"anchor\":\"y14\",\"domain\":[0.16666666666666666,0.31333333333333335],\"matches\":\"x\",\"showticklabels\":false,\"title\":{\"text\":\"\"}},\"yaxis14\":{\"anchor\":\"x14\",\"domain\":[0.6866666666666665,0.9999999999999998],\"matches\":\"y\",\"showticklabels\":false,\"title\":{\"text\":\"\"}},\"xaxis15\":{\"anchor\":\"y15\",\"domain\":[0.3333333333333333,0.48],\"matches\":\"x\",\"showticklabels\":false,\"title\":{\"text\":\"\"}},\"yaxis15\":{\"anchor\":\"x15\",\"domain\":[0.6866666666666665,0.9999999999999998],\"matches\":\"y\",\"showticklabels\":false,\"title\":{\"text\":\"\"}},\"xaxis16\":{\"anchor\":\"y16\",\"domain\":[0.5,0.6466666666666667],\"matches\":\"x\",\"showticklabels\":false,\"title\":{\"text\":\"\"}},\"yaxis16\":{\"anchor\":\"x16\",\"domain\":[0.6866666666666665,0.9999999999999998],\"matches\":\"y\",\"showticklabels\":false,\"title\":{\"text\":\"\"}},\"xaxis17\":{\"anchor\":\"y17\",\"domain\":[0.6666666666666666,0.8133333333333332],\"matches\":\"x\",\"showticklabels\":false,\"title\":{\"text\":\"\"}},\"yaxis17\":{\"anchor\":\"x17\",\"domain\":[0.6866666666666665,0.9999999999999998],\"matches\":\"y\",\"showticklabels\":false,\"title\":{\"text\":\"\"}},\"xaxis18\":{\"anchor\":\"y18\",\"domain\":[0.8333333333333334,0.98],\"matches\":\"x\",\"showticklabels\":false,\"title\":{\"text\":\"\"}},\"yaxis18\":{\"anchor\":\"x18\",\"domain\":[0.6866666666666665,0.9999999999999998],\"matches\":\"y\",\"showticklabels\":false,\"title\":{\"text\":\"\"}},\"annotations\":[{\"showarrow\":false,\"text\":\"0.5\",\"x\":0.07333333333333333,\"xanchor\":\"center\",\"xref\":\"paper\",\"y\":0.9999999999999998,\"yanchor\":\"bottom\",\"yref\":\"paper\"},{\"showarrow\":false,\"text\":\"1.0\",\"x\":0.24,\"xanchor\":\"center\",\"xref\":\"paper\",\"y\":0.9999999999999998,\"yanchor\":\"bottom\",\"yref\":\"paper\"},{\"showarrow\":false,\"text\":\"2.0\",\"x\":0.4066666666666666,\"xanchor\":\"center\",\"xref\":\"paper\",\"y\":0.9999999999999998,\"yanchor\":\"bottom\",\"yref\":\"paper\"},{\"showarrow\":false,\"text\":\"5.0\",\"x\":0.5733333333333334,\"xanchor\":\"center\",\"xref\":\"paper\",\"y\":0.9999999999999998,\"yanchor\":\"bottom\",\"yref\":\"paper\"},{\"showarrow\":false,\"text\":\"15.0\",\"x\":0.74,\"xanchor\":\"center\",\"xref\":\"paper\",\"y\":0.9999999999999998,\"yanchor\":\"bottom\",\"yref\":\"paper\"},{\"showarrow\":false,\"text\":\"30.0\",\"x\":0.9066666666666667,\"xanchor\":\"center\",\"xref\":\"paper\",\"y\":0.9999999999999998,\"yanchor\":\"bottom\",\"yref\":\"paper\"},{\"showarrow\":false,\"text\":\"600\",\"textangle\":90,\"x\":0.98,\"xanchor\":\"left\",\"xref\":\"paper\",\"y\":0.15666666666666665,\"yanchor\":\"middle\",\"yref\":\"paper\"},{\"showarrow\":false,\"text\":\"300\",\"textangle\":90,\"x\":0.98,\"xanchor\":\"left\",\"xref\":\"paper\",\"y\":0.4999999999999999,\"yanchor\":\"middle\",\"yref\":\"paper\"},{\"showarrow\":false,\"text\":\"180\",\"textangle\":90,\"x\":0.98,\"xanchor\":\"left\",\"xref\":\"paper\",\"y\":0.8433333333333332,\"yanchor\":\"middle\",\"yref\":\"paper\"},{\"showarrow\":false,\"text\":\"travel time per request [s]\",\"textangle\":-90,\"x\":-0.06,\"xref\":\"paper\",\"y\":0.5,\"yref\":\"paper\"},{\"showarrow\":false,\"text\":\"instance length [min]\",\"x\":0.5,\"xref\":\"paper\",\"y\":1.15,\"yref\":\"paper\"},{\"showarrow\":false,\"text\":\"maximum delay [s]\",\"textangle\":90,\"x\":1.02,\"xref\":\"paper\",\"y\":0.5,\"yref\":\"paper\"}],\"legend\":{\"tracegroupgap\":0},\"title\":{\"text\":\"Average Cost per Request\"},\"barmode\":\"group\"},                        {\"responsive\": true}                    ).then(function(){\n                            \nvar gd = document.getElementById('3828302c-4282-45f9-b905-b22f10ae786e');\nvar x = new MutationObserver(function (mutations, observer) {{\n        var display = window.getComputedStyle(gd).display;\n        if (!display || display === 'none') {{\n            console.log([gd, 'removed!']);\n            Plotly.purge(gd);\n            observer.disconnect();\n        }}\n}});\n\n// Listen for the removal of the full notebook cells\nvar notebookContainer = gd.closest('#notebook-container');\nif (notebookContainer) {{\n    x.observe(notebookContainer, {childList: true});\n}}\n\n// Listen for the clearing of the current output cell\nvar outputEl = gd.closest('.output');\nif (outputEl) {{\n    x.observe(outputEl, {childList: true});\n}}\n\n                        })                };                });            </script>        </div>"
     },
     "metadata": {},
     "output_type": "display_data"
    }
   ],
   "source": [
    "dfih = df[df['method'] == 'ih']\n",
    "fig = px.bar(\n",
    "    dfih,\n",
    "    x = 'area',\n",
    "    y = 'cost_per_request',\n",
    "    barmode='group',\n",
    "    title = 'Average Cost per Request',\n",
    "    facet_col='duration_minutes',\n",
    "    facet_row='max_delay'\n",
    ")\n",
    "\n",
    "# shared axes titles\n",
    "fig.for_each_yaxis(lambda y: y.update(title = ''))\n",
    "fig.add_annotation(x=-0.06, y=0.5, text=\"travel time per request [s]\", textangle=-90, xref=\"paper\", yref=\"paper\", showarrow=False)\n",
    "fig.for_each_xaxis(lambda y: y.update(title = ''))\n",
    "\n",
    "# faceting annotations\n",
    "fig.add_annotation(x=0.5, y=1.15, text=\"instance length [min]\",  xref=\"paper\", yref=\"paper\", showarrow=False)\n",
    "fig.add_annotation(x=1.02, y=0.5, text=\"maximum delay [s]\",  xref=\"paper\", yref=\"paper\", showarrow=False, textangle=90)\n",
    "\n",
    "# faceting label editing\n",
    "fig.for_each_annotation(lambda a: a.update(text=a.text.split(\"=\")[-1]))\n",
    "\n",
    "fig.show()"
   ],
   "metadata": {
    "collapsed": false,
    "ExecuteTime": {
     "end_time": "2023-05-17T09:52:34.121999800Z",
     "start_time": "2023-05-17T09:52:33.944971900Z"
    }
   }
  },
  {
   "cell_type": "markdown",
   "source": [
    "## IH and VGA all instances"
   ],
   "metadata": {
    "collapsed": false
   }
  },
  {
   "cell_type": "code",
   "execution_count": 232,
   "outputs": [],
   "source": [
    "def plot_main_result(width: int, height: int) -> go.Figure:\n",
    "    fig = px.bar(\n",
    "        df[df['duration_minutes'] <= 30],\n",
    "        x = 'area',\n",
    "        y = 'cost_per_request',\n",
    "        barmode='group',\n",
    "        # title = 'Average Cost per Request',\n",
    "        facet_col='duration_minutes',\n",
    "        facet_row='max_delay',\n",
    "        color='method',\n",
    "        width=width,\n",
    "        height=height\n",
    "    )\n",
    "\n",
    "    # shared axes titles\n",
    "    fig.for_each_yaxis(lambda y: y.update(title = ''))\n",
    "    fig.add_annotation(x=-0.06, y=0.5, text=\"travel time per request [s]\", textangle=-90, xref=\"paper\", yref=\"paper\", showarrow=False)\n",
    "    fig.for_each_xaxis(lambda y: y.update(title = ''))\n",
    "\n",
    "\n",
    "\n",
    "    # faceting annotations\n",
    "    duration_annotation_y = 1 + 0.08 * 600 / height\n",
    "    fig.add_annotation(x=0.5, y=duration_annotation_y, text=\"instance length [min]\",  xref=\"paper\", yref=\"paper\", showarrow=False)\n",
    "    fig.add_annotation(x=1.02, y=0.5, text=\"maximum delay [s]\",  xref=\"paper\", yref=\"paper\", showarrow=False, textangle=90)\n",
    "\n",
    "    # faceting label editing\n",
    "    fig.for_each_annotation(lambda a: a.update(text=a.text.split(\"=\")[-1]))\n",
    "\n",
    "    # legend editing\n",
    "    legend_y = 1 + 0.04 * 600 / height\n",
    "    fig.update_layout(legend=dict(\n",
    "        orientation=\"h\",\n",
    "        yanchor=\"bottom\",\n",
    "        y=legend_y,\n",
    "        xanchor=\"right\",\n",
    "        x=1,\n",
    "        bordercolor=\"Black\",\n",
    "        borderwidth=0,\n",
    "        tracegroupgap=0\n",
    "    ))\n",
    "\n",
    "    # set margins\n",
    "    fig.update_layout(margin=dict(l=0, r=0, t=0, b=0, pad=0))\n",
    "\n",
    "    # fig.update_xaxes(automargin=True)\n",
    "    # fig.update_yaxes(automargin=True)\n",
    "\n",
    "    fig.show()\n",
    "\n",
    "    return fig"
   ],
   "metadata": {
    "collapsed": false,
    "ExecuteTime": {
     "end_time": "2023-05-19T12:31:13.036081500Z",
     "start_time": "2023-05-19T12:31:12.987083800Z"
    }
   }
  },
  {
   "cell_type": "code",
   "execution_count": 233,
   "outputs": [
    {
     "data": {
      "application/vnd.plotly.v1+json": {
       "data": [
        {
         "alignmentgroup": "True",
         "hovertemplate": "method=ih<br>max_delay=180<br>duration_minutes=0.5<br>area=%{x}<br>cost_per_request=%{y}<extra></extra>",
         "legendgroup": "ih",
         "marker": {
          "color": "#636efa",
          "pattern": {
           "shape": ""
          }
         },
         "name": "ih",
         "offsetgroup": "ih",
         "orientation": "v",
         "showlegend": true,
         "textposition": "auto",
         "x": [
          "Chicago",
          "DC",
          "Manhattan",
          "NYC"
         ],
         "xaxis": "x13",
         "y": [
          1008.0,
          2115.0,
          498.42857142857144,
          823.7689969604863
         ],
         "yaxis": "y13",
         "type": "bar"
        },
        {
         "alignmentgroup": "True",
         "hovertemplate": "method=ih<br>max_delay=180<br>duration_minutes=1.0<br>area=%{x}<br>cost_per_request=%{y}<extra></extra>",
         "legendgroup": "ih",
         "marker": {
          "color": "#636efa",
          "pattern": {
           "shape": ""
          }
         },
         "name": "ih",
         "offsetgroup": "ih",
         "orientation": "v",
         "showlegend": false,
         "textposition": "auto",
         "x": [
          "Chicago",
          "DC",
          "Manhattan",
          "NYC"
         ],
         "xaxis": "x14",
         "y": [
          1153.8461538461538,
          1705.7142857142858,
          488.8111888111888,
          710.4833836858006
         ],
         "yaxis": "y14",
         "type": "bar"
        },
        {
         "alignmentgroup": "True",
         "hovertemplate": "method=ih<br>max_delay=180<br>duration_minutes=2.0<br>area=%{x}<br>cost_per_request=%{y}<extra></extra>",
         "legendgroup": "ih",
         "marker": {
          "color": "#636efa",
          "pattern": {
           "shape": ""
          }
         },
         "name": "ih",
         "offsetgroup": "ih",
         "orientation": "v",
         "showlegend": false,
         "textposition": "auto",
         "x": [
          "Chicago",
          "DC",
          "Manhattan",
          "NYC"
         ],
         "xaxis": "x15",
         "y": [
          949.2857142857143,
          1320.0,
          433.1900826446281,
          685.7528089887641
         ],
         "yaxis": "y15",
         "type": "bar"
        },
        {
         "alignmentgroup": "True",
         "hovertemplate": "method=ih<br>max_delay=180<br>duration_minutes=5.0<br>area=%{x}<br>cost_per_request=%{y}<extra></extra>",
         "legendgroup": "ih",
         "marker": {
          "color": "#636efa",
          "pattern": {
           "shape": ""
          }
         },
         "name": "ih",
         "offsetgroup": "ih",
         "orientation": "v",
         "showlegend": false,
         "textposition": "auto",
         "x": [
          "Chicago",
          "DC",
          "Manhattan",
          "NYC"
         ],
         "xaxis": "x16",
         "y": [
          954.065934065934,
          1334.4444444444443,
          378.45597104945716,
          597.1616972477065
         ],
         "yaxis": "y16",
         "type": "bar"
        },
        {
         "alignmentgroup": "True",
         "hovertemplate": "method=ih<br>max_delay=180<br>duration_minutes=15.0<br>area=%{x}<br>cost_per_request=%{y}<extra></extra>",
         "legendgroup": "ih",
         "marker": {
          "color": "#636efa",
          "pattern": {
           "shape": ""
          }
         },
         "name": "ih",
         "offsetgroup": "ih",
         "orientation": "v",
         "showlegend": false,
         "textposition": "auto",
         "x": [
          "Chicago",
          "DC",
          "Manhattan",
          "NYC"
         ],
         "xaxis": "x17",
         "y": [
          792.043795620438,
          1266.993865030675,
          333.84314492470173,
          534.2083845935459
         ],
         "yaxis": "y17",
         "type": "bar"
        },
        {
         "alignmentgroup": "True",
         "hovertemplate": "method=ih<br>max_delay=180<br>duration_minutes=30.0<br>area=%{x}<br>cost_per_request=%{y}<extra></extra>",
         "legendgroup": "ih",
         "marker": {
          "color": "#636efa",
          "pattern": {
           "shape": ""
          }
         },
         "name": "ih",
         "offsetgroup": "ih",
         "orientation": "v",
         "showlegend": false,
         "textposition": "auto",
         "x": [
          "Chicago",
          "DC",
          "Manhattan",
          "NYC"
         ],
         "xaxis": "x18",
         "y": [
          863.7583892617449,
          1169.0853658536585,
          320.48639258830343,
          527.6579818626745
         ],
         "yaxis": "y18",
         "type": "bar"
        },
        {
         "alignmentgroup": "True",
         "hovertemplate": "method=ih<br>max_delay=300<br>duration_minutes=0.5<br>area=%{x}<br>cost_per_request=%{y}<extra></extra>",
         "legendgroup": "ih",
         "marker": {
          "color": "#636efa",
          "pattern": {
           "shape": ""
          }
         },
         "name": "ih",
         "offsetgroup": "ih",
         "orientation": "v",
         "showlegend": false,
         "textposition": "auto",
         "x": [
          "Chicago",
          "DC",
          "Manhattan",
          "NYC"
         ],
         "xaxis": "x7",
         "y": [
          696.0,
          2115.0,
          464.57142857142856,
          716.5349544072948
         ],
         "yaxis": "y7",
         "type": "bar"
        },
        {
         "alignmentgroup": "True",
         "hovertemplate": "method=ih<br>max_delay=300<br>duration_minutes=1.0<br>area=%{x}<br>cost_per_request=%{y}<extra></extra>",
         "legendgroup": "ih",
         "marker": {
          "color": "#636efa",
          "pattern": {
           "shape": ""
          }
         },
         "name": "ih",
         "offsetgroup": "ih",
         "orientation": "v",
         "showlegend": false,
         "textposition": "auto",
         "x": [
          "Chicago",
          "DC",
          "Manhattan",
          "NYC"
         ],
         "xaxis": "x8",
         "y": [
          1144.6153846153845,
          1705.7142857142858,
          434.8951048951049,
          628.1873111782477
         ],
         "yaxis": "y8",
         "type": "bar"
        },
        {
         "alignmentgroup": "True",
         "hovertemplate": "method=ih<br>max_delay=300<br>duration_minutes=2.0<br>area=%{x}<br>cost_per_request=%{y}<extra></extra>",
         "legendgroup": "ih",
         "marker": {
          "color": "#636efa",
          "pattern": {
           "shape": ""
          }
         },
         "name": "ih",
         "offsetgroup": "ih",
         "orientation": "v",
         "showlegend": false,
         "textposition": "auto",
         "x": [
          "Chicago",
          "DC",
          "Manhattan",
          "NYC"
         ],
         "xaxis": "x9",
         "y": [
          930.0,
          1303.3333333333333,
          387.07438016528926,
          586.3370786516854
         ],
         "yaxis": "y9",
         "type": "bar"
        },
        {
         "alignmentgroup": "True",
         "hovertemplate": "method=ih<br>max_delay=300<br>duration_minutes=5.0<br>area=%{x}<br>cost_per_request=%{y}<extra></extra>",
         "legendgroup": "ih",
         "marker": {
          "color": "#636efa",
          "pattern": {
           "shape": ""
          }
         },
         "name": "ih",
         "offsetgroup": "ih",
         "orientation": "v",
         "showlegend": false,
         "textposition": "auto",
         "x": [
          "Chicago",
          "DC",
          "Manhattan",
          "NYC"
         ],
         "xaxis": "x10",
         "y": [
          805.7142857142857,
          1207.7777777777778,
          349.65018094089265,
          525.9977064220184
         ],
         "yaxis": "y10",
         "type": "bar"
        },
        {
         "alignmentgroup": "True",
         "hovertemplate": "method=ih<br>max_delay=300<br>duration_minutes=15.0<br>area=%{x}<br>cost_per_request=%{y}<extra></extra>",
         "legendgroup": "ih",
         "marker": {
          "color": "#636efa",
          "pattern": {
           "shape": ""
          }
         },
         "name": "ih",
         "offsetgroup": "ih",
         "orientation": "v",
         "showlegend": false,
         "textposition": "auto",
         "x": [
          "Chicago",
          "DC",
          "Manhattan",
          "NYC"
         ],
         "xaxis": "x11",
         "y": [
          679.051094890511,
          1089.9386503067485,
          299.8005085077254,
          466.9404750638781
         ],
         "yaxis": "y11",
         "type": "bar"
        },
        {
         "alignmentgroup": "True",
         "hovertemplate": "method=ih<br>max_delay=300<br>duration_minutes=30.0<br>area=%{x}<br>cost_per_request=%{y}<extra></extra>",
         "legendgroup": "ih",
         "marker": {
          "color": "#636efa",
          "pattern": {
           "shape": ""
          }
         },
         "name": "ih",
         "offsetgroup": "ih",
         "orientation": "v",
         "showlegend": false,
         "textposition": "auto",
         "x": [
          "Chicago",
          "DC",
          "Manhattan",
          "NYC"
         ],
         "xaxis": "x12",
         "y": [
          721.2080536912752,
          1027.3170731707316,
          282.18876664736536,
          456.5251187562977
         ],
         "yaxis": "y12",
         "type": "bar"
        },
        {
         "alignmentgroup": "True",
         "hovertemplate": "method=ih<br>max_delay=600<br>duration_minutes=0.5<br>area=%{x}<br>cost_per_request=%{y}<extra></extra>",
         "legendgroup": "ih",
         "marker": {
          "color": "#636efa",
          "pattern": {
           "shape": ""
          }
         },
         "name": "ih",
         "offsetgroup": "ih",
         "orientation": "v",
         "showlegend": false,
         "textposition": "auto",
         "x": [
          "Chicago",
          "DC",
          "Manhattan",
          "NYC"
         ],
         "xaxis": "x",
         "y": [
          624.0,
          2115.0,
          417.85714285714283,
          639.3920972644377
         ],
         "yaxis": "y",
         "type": "bar"
        },
        {
         "alignmentgroup": "True",
         "hovertemplate": "method=ih<br>max_delay=600<br>duration_minutes=1.0<br>area=%{x}<br>cost_per_request=%{y}<extra></extra>",
         "legendgroup": "ih",
         "marker": {
          "color": "#636efa",
          "pattern": {
           "shape": ""
          }
         },
         "name": "ih",
         "offsetgroup": "ih",
         "orientation": "v",
         "showlegend": false,
         "textposition": "auto",
         "x": [
          "Chicago",
          "DC",
          "Manhattan",
          "NYC"
         ],
         "xaxis": "x2",
         "y": [
          1001.5384615384615,
          1525.7142857142858,
          392.0979020979021,
          566.3746223564955
         ],
         "yaxis": "y2",
         "type": "bar"
        },
        {
         "alignmentgroup": "True",
         "hovertemplate": "method=ih<br>max_delay=600<br>duration_minutes=2.0<br>area=%{x}<br>cost_per_request=%{y}<extra></extra>",
         "legendgroup": "ih",
         "marker": {
          "color": "#636efa",
          "pattern": {
           "shape": ""
          }
         },
         "name": "ih",
         "offsetgroup": "ih",
         "orientation": "v",
         "showlegend": false,
         "textposition": "auto",
         "x": [
          "Chicago",
          "DC",
          "Manhattan",
          "NYC"
         ],
         "xaxis": "x3",
         "y": [
          865.7142857142857,
          1250.0,
          358.7107438016529,
          519.1011235955057
         ],
         "yaxis": "y3",
         "type": "bar"
        },
        {
         "alignmentgroup": "True",
         "hovertemplate": "method=ih<br>max_delay=600<br>duration_minutes=5.0<br>area=%{x}<br>cost_per_request=%{y}<extra></extra>",
         "legendgroup": "ih",
         "marker": {
          "color": "#636efa",
          "pattern": {
           "shape": ""
          }
         },
         "name": "ih",
         "offsetgroup": "ih",
         "orientation": "v",
         "showlegend": false,
         "textposition": "auto",
         "x": [
          "Chicago",
          "DC",
          "Manhattan",
          "NYC"
         ],
         "xaxis": "x4",
         "y": [
          670.5494505494505,
          1042.2222222222222,
          329.4571773220748,
          484.5756880733945
         ],
         "yaxis": "y4",
         "type": "bar"
        },
        {
         "alignmentgroup": "True",
         "hovertemplate": "method=ih<br>max_delay=600<br>duration_minutes=15.0<br>area=%{x}<br>cost_per_request=%{y}<extra></extra>",
         "legendgroup": "ih",
         "marker": {
          "color": "#636efa",
          "pattern": {
           "shape": ""
          }
         },
         "name": "ih",
         "offsetgroup": "ih",
         "orientation": "v",
         "showlegend": false,
         "textposition": "auto",
         "x": [
          "Chicago",
          "DC",
          "Manhattan",
          "NYC"
         ],
         "xaxis": "x5",
         "y": [
          595.4014598540145,
          902.5766871165645,
          287.6549970663016,
          432.9743541213211
         ],
         "yaxis": "y5",
         "type": "bar"
        },
        {
         "alignmentgroup": "True",
         "hovertemplate": "method=ih<br>max_delay=600<br>duration_minutes=30.0<br>area=%{x}<br>cost_per_request=%{y}<extra></extra>",
         "legendgroup": "ih",
         "marker": {
          "color": "#636efa",
          "pattern": {
           "shape": ""
          }
         },
         "name": "ih",
         "offsetgroup": "ih",
         "orientation": "v",
         "showlegend": false,
         "textposition": "auto",
         "x": [
          "Chicago",
          "DC",
          "Manhattan",
          "NYC"
         ],
         "xaxis": "x6",
         "y": [
          579.9664429530201,
          872.7439024390244,
          260.2374059061957,
          407.71843961422195
         ],
         "yaxis": "y6",
         "type": "bar"
        },
        {
         "alignmentgroup": "True",
         "hovertemplate": "method=vga<br>max_delay=180<br>duration_minutes=0.5<br>area=%{x}<br>cost_per_request=%{y}<extra></extra>",
         "legendgroup": "vga",
         "marker": {
          "color": "#EF553B",
          "pattern": {
           "shape": ""
          }
         },
         "name": "vga",
         "offsetgroup": "vga",
         "orientation": "v",
         "showlegend": true,
         "textposition": "auto",
         "x": [
          "Chicago",
          "DC",
          "Manhattan",
          "NYC"
         ],
         "xaxis": "x13",
         "y": [
          900.0,
          2115.0,
          469.7142857142857,
          774.7112462006079
         ],
         "yaxis": "y13",
         "type": "bar"
        },
        {
         "alignmentgroup": "True",
         "hovertemplate": "method=vga<br>max_delay=180<br>duration_minutes=1.0<br>area=%{x}<br>cost_per_request=%{y}<extra></extra>",
         "legendgroup": "vga",
         "marker": {
          "color": "#EF553B",
          "pattern": {
           "shape": ""
          }
         },
         "name": "vga",
         "offsetgroup": "vga",
         "orientation": "v",
         "showlegend": false,
         "textposition": "auto",
         "x": [
          "Chicago",
          "DC",
          "Manhattan",
          "NYC"
         ],
         "xaxis": "x14",
         "y": [
          1144.6153846153845,
          1705.7142857142858,
          424.4055944055944,
          668.8821752265861
         ],
         "yaxis": "y14",
         "type": "bar"
        },
        {
         "alignmentgroup": "True",
         "hovertemplate": "method=vga<br>max_delay=180<br>duration_minutes=2.0<br>area=%{x}<br>cost_per_request=%{y}<extra></extra>",
         "legendgroup": "vga",
         "marker": {
          "color": "#EF553B",
          "pattern": {
           "shape": ""
          }
         },
         "name": "vga",
         "offsetgroup": "vga",
         "orientation": "v",
         "showlegend": false,
         "textposition": "auto",
         "x": [
          "Chicago",
          "DC",
          "Manhattan",
          "NYC"
         ],
         "xaxis": "x15",
         "y": [
          919.2857142857143,
          1303.3333333333333,
          357.6198347107438,
          614.1123595505618
         ],
         "yaxis": "y15",
         "type": "bar"
        },
        {
         "alignmentgroup": "True",
         "hovertemplate": "method=vga<br>max_delay=180<br>duration_minutes=5.0<br>area=%{x}<br>cost_per_request=%{y}<extra></extra>",
         "legendgroup": "vga",
         "marker": {
          "color": "#EF553B",
          "pattern": {
           "shape": ""
          }
         },
         "name": "vga",
         "offsetgroup": "vga",
         "orientation": "v",
         "showlegend": false,
         "textposition": "auto",
         "x": [
          "Chicago",
          "DC"
         ],
         "xaxis": "x16",
         "y": [
          867.6923076923077,
          1314.4444444444443
         ],
         "yaxis": "y16",
         "type": "bar"
        },
        {
         "alignmentgroup": "True",
         "hovertemplate": "method=vga<br>max_delay=180<br>duration_minutes=15.0<br>area=%{x}<br>cost_per_request=%{y}<extra></extra>",
         "legendgroup": "vga",
         "marker": {
          "color": "#EF553B",
          "pattern": {
           "shape": ""
          }
         },
         "name": "vga",
         "offsetgroup": "vga",
         "orientation": "v",
         "showlegend": false,
         "textposition": "auto",
         "x": [
          "DC"
         ],
         "xaxis": "x17",
         "y": [
          1205.8895705521472
         ],
         "yaxis": "y17",
         "type": "bar"
        },
        {
         "alignmentgroup": "True",
         "hovertemplate": "method=vga<br>max_delay=180<br>duration_minutes=30.0<br>area=%{x}<br>cost_per_request=%{y}<extra></extra>",
         "legendgroup": "vga",
         "marker": {
          "color": "#EF553B",
          "pattern": {
           "shape": ""
          }
         },
         "name": "vga",
         "offsetgroup": "vga",
         "orientation": "v",
         "showlegend": false,
         "textposition": "auto",
         "x": [
          "DC"
         ],
         "xaxis": "x18",
         "y": [
          1092.2560975609756
         ],
         "yaxis": "y18",
         "type": "bar"
        },
        {
         "alignmentgroup": "True",
         "hovertemplate": "method=vga<br>max_delay=300<br>duration_minutes=0.5<br>area=%{x}<br>cost_per_request=%{y}<extra></extra>",
         "legendgroup": "vga",
         "marker": {
          "color": "#EF553B",
          "pattern": {
           "shape": ""
          }
         },
         "name": "vga",
         "offsetgroup": "vga",
         "orientation": "v",
         "showlegend": false,
         "textposition": "auto",
         "x": [
          "Chicago",
          "DC",
          "Manhattan",
          "NYC"
         ],
         "xaxis": "x7",
         "y": [
          696.0,
          2115.0,
          398.57142857142856,
          667.112462006079
         ],
         "yaxis": "y7",
         "type": "bar"
        },
        {
         "alignmentgroup": "True",
         "hovertemplate": "method=vga<br>max_delay=300<br>duration_minutes=1.0<br>area=%{x}<br>cost_per_request=%{y}<extra></extra>",
         "legendgroup": "vga",
         "marker": {
          "color": "#EF553B",
          "pattern": {
           "shape": ""
          }
         },
         "name": "vga",
         "offsetgroup": "vga",
         "orientation": "v",
         "showlegend": false,
         "textposition": "auto",
         "x": [
          "Chicago",
          "DC",
          "Manhattan",
          "NYC"
         ],
         "xaxis": "x8",
         "y": [
          1107.6923076923076,
          1705.7142857142858,
          352.02797202797206,
          578.5196374622357
         ],
         "yaxis": "y8",
         "type": "bar"
        },
        {
         "alignmentgroup": "True",
         "hovertemplate": "method=vga<br>max_delay=300<br>duration_minutes=2.0<br>area=%{x}<br>cost_per_request=%{y}<extra></extra>",
         "legendgroup": "vga",
         "marker": {
          "color": "#EF553B",
          "pattern": {
           "shape": ""
          }
         },
         "name": "vga",
         "offsetgroup": "vga",
         "orientation": "v",
         "showlegend": false,
         "textposition": "auto",
         "x": [
          "Chicago",
          "DC",
          "Manhattan"
         ],
         "xaxis": "x9",
         "y": [
          895.7142857142857,
          1276.6666666666667,
          296.1322314049587
         ],
         "yaxis": "y9",
         "type": "bar"
        },
        {
         "alignmentgroup": "True",
         "hovertemplate": "method=vga<br>max_delay=300<br>duration_minutes=5.0<br>area=%{x}<br>cost_per_request=%{y}<extra></extra>",
         "legendgroup": "vga",
         "marker": {
          "color": "#EF553B",
          "pattern": {
           "shape": ""
          }
         },
         "name": "vga",
         "offsetgroup": "vga",
         "orientation": "v",
         "showlegend": false,
         "textposition": "auto",
         "x": [
          "Chicago",
          "DC"
         ],
         "xaxis": "x10",
         "y": [
          754.2857142857143,
          1138.888888888889
         ],
         "yaxis": "y10",
         "type": "bar"
        },
        {
         "alignmentgroup": "True",
         "hovertemplate": "method=vga<br>max_delay=300<br>duration_minutes=15.0<br>area=%{x}<br>cost_per_request=%{y}<extra></extra>",
         "legendgroup": "vga",
         "marker": {
          "color": "#EF553B",
          "pattern": {
           "shape": ""
          }
         },
         "name": "vga",
         "offsetgroup": "vga",
         "orientation": "v",
         "showlegend": false,
         "textposition": "auto",
         "x": [
          "DC"
         ],
         "xaxis": "x11",
         "y": [
          994.9693251533743
         ],
         "yaxis": "y11",
         "type": "bar"
        },
        {
         "alignmentgroup": "True",
         "hovertemplate": "method=vga<br>max_delay=300<br>duration_minutes=30.0<br>area=%{x}<br>cost_per_request=%{y}<extra></extra>",
         "legendgroup": "vga",
         "marker": {
          "color": "#EF553B",
          "pattern": {
           "shape": ""
          }
         },
         "name": "vga",
         "offsetgroup": "vga",
         "orientation": "v",
         "showlegend": false,
         "textposition": "auto",
         "x": [
          "DC"
         ],
         "xaxis": "x12",
         "y": [
          885.5487804878048
         ],
         "yaxis": "y12",
         "type": "bar"
        },
        {
         "alignmentgroup": "True",
         "hovertemplate": "method=vga<br>max_delay=600<br>duration_minutes=0.5<br>area=%{x}<br>cost_per_request=%{y}<extra></extra>",
         "legendgroup": "vga",
         "marker": {
          "color": "#EF553B",
          "pattern": {
           "shape": ""
          }
         },
         "name": "vga",
         "offsetgroup": "vga",
         "orientation": "v",
         "showlegend": false,
         "textposition": "auto",
         "x": [
          "Chicago",
          "DC",
          "Manhattan",
          "NYC"
         ],
         "xaxis": "x",
         "y": [
          612.0,
          2115.0,
          330.42857142857144,
          558.9665653495441
         ],
         "yaxis": "y",
         "type": "bar"
        },
        {
         "alignmentgroup": "True",
         "hovertemplate": "method=vga<br>max_delay=600<br>duration_minutes=1.0<br>area=%{x}<br>cost_per_request=%{y}<extra></extra>",
         "legendgroup": "vga",
         "marker": {
          "color": "#EF553B",
          "pattern": {
           "shape": ""
          }
         },
         "name": "vga",
         "offsetgroup": "vga",
         "orientation": "v",
         "showlegend": false,
         "textposition": "auto",
         "x": [
          "Chicago",
          "DC"
         ],
         "xaxis": "x2",
         "y": [
          983.0769230769231,
          1525.7142857142858
         ],
         "yaxis": "y2",
         "type": "bar"
        },
        {
         "alignmentgroup": "True",
         "hovertemplate": "method=vga<br>max_delay=600<br>duration_minutes=2.0<br>area=%{x}<br>cost_per_request=%{y}<extra></extra>",
         "legendgroup": "vga",
         "marker": {
          "color": "#EF553B",
          "pattern": {
           "shape": ""
          }
         },
         "name": "vga",
         "offsetgroup": "vga",
         "orientation": "v",
         "showlegend": false,
         "textposition": "auto",
         "x": [
          "Chicago",
          "DC"
         ],
         "xaxis": "x3",
         "y": [
          850.7142857142857,
          1063.3333333333333
         ],
         "yaxis": "y3",
         "type": "bar"
        },
        {
         "alignmentgroup": "True",
         "hovertemplate": "method=vga<br>max_delay=600<br>duration_minutes=5.0<br>area=%{x}<br>cost_per_request=%{y}<extra></extra>",
         "legendgroup": "vga",
         "marker": {
          "color": "#EF553B",
          "pattern": {
           "shape": ""
          }
         },
         "name": "vga",
         "offsetgroup": "vga",
         "orientation": "v",
         "showlegend": false,
         "textposition": "auto",
         "x": [
          "DC"
         ],
         "xaxis": "x4",
         "y": [
          874.4444444444445
         ],
         "yaxis": "y4",
         "type": "bar"
        },
        {
         "alignmentgroup": "True",
         "hovertemplate": "method=vga<br>max_delay=600<br>duration_minutes=15.0<br>area=%{x}<br>cost_per_request=%{y}<extra></extra>",
         "legendgroup": "vga",
         "marker": {
          "color": "#EF553B",
          "pattern": {
           "shape": ""
          }
         },
         "name": "vga",
         "offsetgroup": "vga",
         "orientation": "v",
         "showlegend": false,
         "textposition": "auto",
         "x": [
          "DC"
         ],
         "xaxis": "x5",
         "y": [
          710.4294478527607
         ],
         "yaxis": "y5",
         "type": "bar"
        }
       ],
       "layout": {
        "template": {
         "data": {
          "histogram2dcontour": [
           {
            "type": "histogram2dcontour",
            "colorbar": {
             "outlinewidth": 0,
             "ticks": ""
            },
            "colorscale": [
             [
              0.0,
              "#0d0887"
             ],
             [
              0.1111111111111111,
              "#46039f"
             ],
             [
              0.2222222222222222,
              "#7201a8"
             ],
             [
              0.3333333333333333,
              "#9c179e"
             ],
             [
              0.4444444444444444,
              "#bd3786"
             ],
             [
              0.5555555555555556,
              "#d8576b"
             ],
             [
              0.6666666666666666,
              "#ed7953"
             ],
             [
              0.7777777777777778,
              "#fb9f3a"
             ],
             [
              0.8888888888888888,
              "#fdca26"
             ],
             [
              1.0,
              "#f0f921"
             ]
            ]
           }
          ],
          "choropleth": [
           {
            "type": "choropleth",
            "colorbar": {
             "outlinewidth": 0,
             "ticks": ""
            }
           }
          ],
          "histogram2d": [
           {
            "type": "histogram2d",
            "colorbar": {
             "outlinewidth": 0,
             "ticks": ""
            },
            "colorscale": [
             [
              0.0,
              "#0d0887"
             ],
             [
              0.1111111111111111,
              "#46039f"
             ],
             [
              0.2222222222222222,
              "#7201a8"
             ],
             [
              0.3333333333333333,
              "#9c179e"
             ],
             [
              0.4444444444444444,
              "#bd3786"
             ],
             [
              0.5555555555555556,
              "#d8576b"
             ],
             [
              0.6666666666666666,
              "#ed7953"
             ],
             [
              0.7777777777777778,
              "#fb9f3a"
             ],
             [
              0.8888888888888888,
              "#fdca26"
             ],
             [
              1.0,
              "#f0f921"
             ]
            ]
           }
          ],
          "heatmap": [
           {
            "type": "heatmap",
            "colorbar": {
             "outlinewidth": 0,
             "ticks": ""
            },
            "colorscale": [
             [
              0.0,
              "#0d0887"
             ],
             [
              0.1111111111111111,
              "#46039f"
             ],
             [
              0.2222222222222222,
              "#7201a8"
             ],
             [
              0.3333333333333333,
              "#9c179e"
             ],
             [
              0.4444444444444444,
              "#bd3786"
             ],
             [
              0.5555555555555556,
              "#d8576b"
             ],
             [
              0.6666666666666666,
              "#ed7953"
             ],
             [
              0.7777777777777778,
              "#fb9f3a"
             ],
             [
              0.8888888888888888,
              "#fdca26"
             ],
             [
              1.0,
              "#f0f921"
             ]
            ]
           }
          ],
          "heatmapgl": [
           {
            "type": "heatmapgl",
            "colorbar": {
             "outlinewidth": 0,
             "ticks": ""
            },
            "colorscale": [
             [
              0.0,
              "#0d0887"
             ],
             [
              0.1111111111111111,
              "#46039f"
             ],
             [
              0.2222222222222222,
              "#7201a8"
             ],
             [
              0.3333333333333333,
              "#9c179e"
             ],
             [
              0.4444444444444444,
              "#bd3786"
             ],
             [
              0.5555555555555556,
              "#d8576b"
             ],
             [
              0.6666666666666666,
              "#ed7953"
             ],
             [
              0.7777777777777778,
              "#fb9f3a"
             ],
             [
              0.8888888888888888,
              "#fdca26"
             ],
             [
              1.0,
              "#f0f921"
             ]
            ]
           }
          ],
          "contourcarpet": [
           {
            "type": "contourcarpet",
            "colorbar": {
             "outlinewidth": 0,
             "ticks": ""
            }
           }
          ],
          "contour": [
           {
            "type": "contour",
            "colorbar": {
             "outlinewidth": 0,
             "ticks": ""
            },
            "colorscale": [
             [
              0.0,
              "#0d0887"
             ],
             [
              0.1111111111111111,
              "#46039f"
             ],
             [
              0.2222222222222222,
              "#7201a8"
             ],
             [
              0.3333333333333333,
              "#9c179e"
             ],
             [
              0.4444444444444444,
              "#bd3786"
             ],
             [
              0.5555555555555556,
              "#d8576b"
             ],
             [
              0.6666666666666666,
              "#ed7953"
             ],
             [
              0.7777777777777778,
              "#fb9f3a"
             ],
             [
              0.8888888888888888,
              "#fdca26"
             ],
             [
              1.0,
              "#f0f921"
             ]
            ]
           }
          ],
          "surface": [
           {
            "type": "surface",
            "colorbar": {
             "outlinewidth": 0,
             "ticks": ""
            },
            "colorscale": [
             [
              0.0,
              "#0d0887"
             ],
             [
              0.1111111111111111,
              "#46039f"
             ],
             [
              0.2222222222222222,
              "#7201a8"
             ],
             [
              0.3333333333333333,
              "#9c179e"
             ],
             [
              0.4444444444444444,
              "#bd3786"
             ],
             [
              0.5555555555555556,
              "#d8576b"
             ],
             [
              0.6666666666666666,
              "#ed7953"
             ],
             [
              0.7777777777777778,
              "#fb9f3a"
             ],
             [
              0.8888888888888888,
              "#fdca26"
             ],
             [
              1.0,
              "#f0f921"
             ]
            ]
           }
          ],
          "mesh3d": [
           {
            "type": "mesh3d",
            "colorbar": {
             "outlinewidth": 0,
             "ticks": ""
            }
           }
          ],
          "scatter": [
           {
            "fillpattern": {
             "fillmode": "overlay",
             "size": 10,
             "solidity": 0.2
            },
            "type": "scatter"
           }
          ],
          "parcoords": [
           {
            "type": "parcoords",
            "line": {
             "colorbar": {
              "outlinewidth": 0,
              "ticks": ""
             }
            }
           }
          ],
          "scatterpolargl": [
           {
            "type": "scatterpolargl",
            "marker": {
             "colorbar": {
              "outlinewidth": 0,
              "ticks": ""
             }
            }
           }
          ],
          "bar": [
           {
            "error_x": {
             "color": "#2a3f5f"
            },
            "error_y": {
             "color": "#2a3f5f"
            },
            "marker": {
             "line": {
              "color": "#E5ECF6",
              "width": 0.5
             },
             "pattern": {
              "fillmode": "overlay",
              "size": 10,
              "solidity": 0.2
             }
            },
            "type": "bar"
           }
          ],
          "scattergeo": [
           {
            "type": "scattergeo",
            "marker": {
             "colorbar": {
              "outlinewidth": 0,
              "ticks": ""
             }
            }
           }
          ],
          "scatterpolar": [
           {
            "type": "scatterpolar",
            "marker": {
             "colorbar": {
              "outlinewidth": 0,
              "ticks": ""
             }
            }
           }
          ],
          "histogram": [
           {
            "marker": {
             "pattern": {
              "fillmode": "overlay",
              "size": 10,
              "solidity": 0.2
             }
            },
            "type": "histogram"
           }
          ],
          "scattergl": [
           {
            "type": "scattergl",
            "marker": {
             "colorbar": {
              "outlinewidth": 0,
              "ticks": ""
             }
            }
           }
          ],
          "scatter3d": [
           {
            "type": "scatter3d",
            "line": {
             "colorbar": {
              "outlinewidth": 0,
              "ticks": ""
             }
            },
            "marker": {
             "colorbar": {
              "outlinewidth": 0,
              "ticks": ""
             }
            }
           }
          ],
          "scattermapbox": [
           {
            "type": "scattermapbox",
            "marker": {
             "colorbar": {
              "outlinewidth": 0,
              "ticks": ""
             }
            }
           }
          ],
          "scatterternary": [
           {
            "type": "scatterternary",
            "marker": {
             "colorbar": {
              "outlinewidth": 0,
              "ticks": ""
             }
            }
           }
          ],
          "scattercarpet": [
           {
            "type": "scattercarpet",
            "marker": {
             "colorbar": {
              "outlinewidth": 0,
              "ticks": ""
             }
            }
           }
          ],
          "carpet": [
           {
            "aaxis": {
             "endlinecolor": "#2a3f5f",
             "gridcolor": "white",
             "linecolor": "white",
             "minorgridcolor": "white",
             "startlinecolor": "#2a3f5f"
            },
            "baxis": {
             "endlinecolor": "#2a3f5f",
             "gridcolor": "white",
             "linecolor": "white",
             "minorgridcolor": "white",
             "startlinecolor": "#2a3f5f"
            },
            "type": "carpet"
           }
          ],
          "table": [
           {
            "cells": {
             "fill": {
              "color": "#EBF0F8"
             },
             "line": {
              "color": "white"
             }
            },
            "header": {
             "fill": {
              "color": "#C8D4E3"
             },
             "line": {
              "color": "white"
             }
            },
            "type": "table"
           }
          ],
          "barpolar": [
           {
            "marker": {
             "line": {
              "color": "#E5ECF6",
              "width": 0.5
             },
             "pattern": {
              "fillmode": "overlay",
              "size": 10,
              "solidity": 0.2
             }
            },
            "type": "barpolar"
           }
          ],
          "pie": [
           {
            "automargin": true,
            "type": "pie"
           }
          ]
         },
         "layout": {
          "autotypenumbers": "strict",
          "colorway": [
           "#636efa",
           "#EF553B",
           "#00cc96",
           "#ab63fa",
           "#FFA15A",
           "#19d3f3",
           "#FF6692",
           "#B6E880",
           "#FF97FF",
           "#FECB52"
          ],
          "font": {
           "color": "#2a3f5f"
          },
          "hovermode": "closest",
          "hoverlabel": {
           "align": "left"
          },
          "paper_bgcolor": "white",
          "plot_bgcolor": "#E5ECF6",
          "polar": {
           "bgcolor": "#E5ECF6",
           "angularaxis": {
            "gridcolor": "white",
            "linecolor": "white",
            "ticks": ""
           },
           "radialaxis": {
            "gridcolor": "white",
            "linecolor": "white",
            "ticks": ""
           }
          },
          "ternary": {
           "bgcolor": "#E5ECF6",
           "aaxis": {
            "gridcolor": "white",
            "linecolor": "white",
            "ticks": ""
           },
           "baxis": {
            "gridcolor": "white",
            "linecolor": "white",
            "ticks": ""
           },
           "caxis": {
            "gridcolor": "white",
            "linecolor": "white",
            "ticks": ""
           }
          },
          "coloraxis": {
           "colorbar": {
            "outlinewidth": 0,
            "ticks": ""
           }
          },
          "colorscale": {
           "sequential": [
            [
             0.0,
             "#0d0887"
            ],
            [
             0.1111111111111111,
             "#46039f"
            ],
            [
             0.2222222222222222,
             "#7201a8"
            ],
            [
             0.3333333333333333,
             "#9c179e"
            ],
            [
             0.4444444444444444,
             "#bd3786"
            ],
            [
             0.5555555555555556,
             "#d8576b"
            ],
            [
             0.6666666666666666,
             "#ed7953"
            ],
            [
             0.7777777777777778,
             "#fb9f3a"
            ],
            [
             0.8888888888888888,
             "#fdca26"
            ],
            [
             1.0,
             "#f0f921"
            ]
           ],
           "sequentialminus": [
            [
             0.0,
             "#0d0887"
            ],
            [
             0.1111111111111111,
             "#46039f"
            ],
            [
             0.2222222222222222,
             "#7201a8"
            ],
            [
             0.3333333333333333,
             "#9c179e"
            ],
            [
             0.4444444444444444,
             "#bd3786"
            ],
            [
             0.5555555555555556,
             "#d8576b"
            ],
            [
             0.6666666666666666,
             "#ed7953"
            ],
            [
             0.7777777777777778,
             "#fb9f3a"
            ],
            [
             0.8888888888888888,
             "#fdca26"
            ],
            [
             1.0,
             "#f0f921"
            ]
           ],
           "diverging": [
            [
             0,
             "#8e0152"
            ],
            [
             0.1,
             "#c51b7d"
            ],
            [
             0.2,
             "#de77ae"
            ],
            [
             0.3,
             "#f1b6da"
            ],
            [
             0.4,
             "#fde0ef"
            ],
            [
             0.5,
             "#f7f7f7"
            ],
            [
             0.6,
             "#e6f5d0"
            ],
            [
             0.7,
             "#b8e186"
            ],
            [
             0.8,
             "#7fbc41"
            ],
            [
             0.9,
             "#4d9221"
            ],
            [
             1,
             "#276419"
            ]
           ]
          },
          "xaxis": {
           "gridcolor": "white",
           "linecolor": "white",
           "ticks": "",
           "title": {
            "standoff": 15
           },
           "zerolinecolor": "white",
           "automargin": true,
           "zerolinewidth": 2
          },
          "yaxis": {
           "gridcolor": "white",
           "linecolor": "white",
           "ticks": "",
           "title": {
            "standoff": 15
           },
           "zerolinecolor": "white",
           "automargin": true,
           "zerolinewidth": 2
          },
          "scene": {
           "xaxis": {
            "backgroundcolor": "#E5ECF6",
            "gridcolor": "white",
            "linecolor": "white",
            "showbackground": true,
            "ticks": "",
            "zerolinecolor": "white",
            "gridwidth": 2
           },
           "yaxis": {
            "backgroundcolor": "#E5ECF6",
            "gridcolor": "white",
            "linecolor": "white",
            "showbackground": true,
            "ticks": "",
            "zerolinecolor": "white",
            "gridwidth": 2
           },
           "zaxis": {
            "backgroundcolor": "#E5ECF6",
            "gridcolor": "white",
            "linecolor": "white",
            "showbackground": true,
            "ticks": "",
            "zerolinecolor": "white",
            "gridwidth": 2
           }
          },
          "shapedefaults": {
           "line": {
            "color": "#2a3f5f"
           }
          },
          "annotationdefaults": {
           "arrowcolor": "#2a3f5f",
           "arrowhead": 0,
           "arrowwidth": 1
          },
          "geo": {
           "bgcolor": "white",
           "landcolor": "#E5ECF6",
           "subunitcolor": "white",
           "showland": true,
           "showlakes": true,
           "lakecolor": "white"
          },
          "title": {
           "x": 0.05
          },
          "mapbox": {
           "style": "light"
          }
         }
        },
        "xaxis": {
         "anchor": "y",
         "domain": [
          0.0,
          0.14666666666666667
         ],
         "title": {
          "text": ""
         }
        },
        "yaxis": {
         "anchor": "x",
         "domain": [
          0.0,
          0.3133333333333333
         ],
         "title": {
          "text": ""
         }
        },
        "xaxis2": {
         "anchor": "y2",
         "domain": [
          0.16666666666666666,
          0.31333333333333335
         ],
         "matches": "x",
         "title": {
          "text": ""
         }
        },
        "yaxis2": {
         "anchor": "x2",
         "domain": [
          0.0,
          0.3133333333333333
         ],
         "matches": "y",
         "showticklabels": false,
         "title": {
          "text": ""
         }
        },
        "xaxis3": {
         "anchor": "y3",
         "domain": [
          0.3333333333333333,
          0.48
         ],
         "matches": "x",
         "title": {
          "text": ""
         }
        },
        "yaxis3": {
         "anchor": "x3",
         "domain": [
          0.0,
          0.3133333333333333
         ],
         "matches": "y",
         "showticklabels": false,
         "title": {
          "text": ""
         }
        },
        "xaxis4": {
         "anchor": "y4",
         "domain": [
          0.5,
          0.6466666666666667
         ],
         "matches": "x",
         "title": {
          "text": ""
         }
        },
        "yaxis4": {
         "anchor": "x4",
         "domain": [
          0.0,
          0.3133333333333333
         ],
         "matches": "y",
         "showticklabels": false,
         "title": {
          "text": ""
         }
        },
        "xaxis5": {
         "anchor": "y5",
         "domain": [
          0.6666666666666666,
          0.8133333333333332
         ],
         "matches": "x",
         "title": {
          "text": ""
         }
        },
        "yaxis5": {
         "anchor": "x5",
         "domain": [
          0.0,
          0.3133333333333333
         ],
         "matches": "y",
         "showticklabels": false,
         "title": {
          "text": ""
         }
        },
        "xaxis6": {
         "anchor": "y6",
         "domain": [
          0.8333333333333334,
          0.98
         ],
         "matches": "x",
         "title": {
          "text": ""
         }
        },
        "yaxis6": {
         "anchor": "x6",
         "domain": [
          0.0,
          0.3133333333333333
         ],
         "matches": "y",
         "showticklabels": false,
         "title": {
          "text": ""
         }
        },
        "xaxis7": {
         "anchor": "y7",
         "domain": [
          0.0,
          0.14666666666666667
         ],
         "matches": "x",
         "showticklabels": false,
         "title": {
          "text": ""
         }
        },
        "yaxis7": {
         "anchor": "x7",
         "domain": [
          0.34333333333333327,
          0.6566666666666665
         ],
         "matches": "y",
         "title": {
          "text": ""
         }
        },
        "xaxis8": {
         "anchor": "y8",
         "domain": [
          0.16666666666666666,
          0.31333333333333335
         ],
         "matches": "x",
         "showticklabels": false,
         "title": {
          "text": ""
         }
        },
        "yaxis8": {
         "anchor": "x8",
         "domain": [
          0.34333333333333327,
          0.6566666666666665
         ],
         "matches": "y",
         "showticklabels": false,
         "title": {
          "text": ""
         }
        },
        "xaxis9": {
         "anchor": "y9",
         "domain": [
          0.3333333333333333,
          0.48
         ],
         "matches": "x",
         "showticklabels": false,
         "title": {
          "text": ""
         }
        },
        "yaxis9": {
         "anchor": "x9",
         "domain": [
          0.34333333333333327,
          0.6566666666666665
         ],
         "matches": "y",
         "showticklabels": false,
         "title": {
          "text": ""
         }
        },
        "xaxis10": {
         "anchor": "y10",
         "domain": [
          0.5,
          0.6466666666666667
         ],
         "matches": "x",
         "showticklabels": false,
         "title": {
          "text": ""
         }
        },
        "yaxis10": {
         "anchor": "x10",
         "domain": [
          0.34333333333333327,
          0.6566666666666665
         ],
         "matches": "y",
         "showticklabels": false,
         "title": {
          "text": ""
         }
        },
        "xaxis11": {
         "anchor": "y11",
         "domain": [
          0.6666666666666666,
          0.8133333333333332
         ],
         "matches": "x",
         "showticklabels": false,
         "title": {
          "text": ""
         }
        },
        "yaxis11": {
         "anchor": "x11",
         "domain": [
          0.34333333333333327,
          0.6566666666666665
         ],
         "matches": "y",
         "showticklabels": false,
         "title": {
          "text": ""
         }
        },
        "xaxis12": {
         "anchor": "y12",
         "domain": [
          0.8333333333333334,
          0.98
         ],
         "matches": "x",
         "showticklabels": false,
         "title": {
          "text": ""
         }
        },
        "yaxis12": {
         "anchor": "x12",
         "domain": [
          0.34333333333333327,
          0.6566666666666665
         ],
         "matches": "y",
         "showticklabels": false,
         "title": {
          "text": ""
         }
        },
        "xaxis13": {
         "anchor": "y13",
         "domain": [
          0.0,
          0.14666666666666667
         ],
         "matches": "x",
         "showticklabels": false,
         "title": {
          "text": ""
         }
        },
        "yaxis13": {
         "anchor": "x13",
         "domain": [
          0.6866666666666665,
          0.9999999999999998
         ],
         "matches": "y",
         "title": {
          "text": ""
         }
        },
        "xaxis14": {
         "anchor": "y14",
         "domain": [
          0.16666666666666666,
          0.31333333333333335
         ],
         "matches": "x",
         "showticklabels": false,
         "title": {
          "text": ""
         }
        },
        "yaxis14": {
         "anchor": "x14",
         "domain": [
          0.6866666666666665,
          0.9999999999999998
         ],
         "matches": "y",
         "showticklabels": false,
         "title": {
          "text": ""
         }
        },
        "xaxis15": {
         "anchor": "y15",
         "domain": [
          0.3333333333333333,
          0.48
         ],
         "matches": "x",
         "showticklabels": false,
         "title": {
          "text": ""
         }
        },
        "yaxis15": {
         "anchor": "x15",
         "domain": [
          0.6866666666666665,
          0.9999999999999998
         ],
         "matches": "y",
         "showticklabels": false,
         "title": {
          "text": ""
         }
        },
        "xaxis16": {
         "anchor": "y16",
         "domain": [
          0.5,
          0.6466666666666667
         ],
         "matches": "x",
         "showticklabels": false,
         "title": {
          "text": ""
         }
        },
        "yaxis16": {
         "anchor": "x16",
         "domain": [
          0.6866666666666665,
          0.9999999999999998
         ],
         "matches": "y",
         "showticklabels": false,
         "title": {
          "text": ""
         }
        },
        "xaxis17": {
         "anchor": "y17",
         "domain": [
          0.6666666666666666,
          0.8133333333333332
         ],
         "matches": "x",
         "showticklabels": false,
         "title": {
          "text": ""
         }
        },
        "yaxis17": {
         "anchor": "x17",
         "domain": [
          0.6866666666666665,
          0.9999999999999998
         ],
         "matches": "y",
         "showticklabels": false,
         "title": {
          "text": ""
         }
        },
        "xaxis18": {
         "anchor": "y18",
         "domain": [
          0.8333333333333334,
          0.98
         ],
         "matches": "x",
         "showticklabels": false,
         "title": {
          "text": ""
         }
        },
        "yaxis18": {
         "anchor": "x18",
         "domain": [
          0.6866666666666665,
          0.9999999999999998
         ],
         "matches": "y",
         "showticklabels": false,
         "title": {
          "text": ""
         }
        },
        "annotations": [
         {
          "showarrow": false,
          "text": "0.5",
          "x": 0.07333333333333333,
          "xanchor": "center",
          "xref": "paper",
          "y": 0.9999999999999998,
          "yanchor": "bottom",
          "yref": "paper"
         },
         {
          "showarrow": false,
          "text": "1.0",
          "x": 0.24,
          "xanchor": "center",
          "xref": "paper",
          "y": 0.9999999999999998,
          "yanchor": "bottom",
          "yref": "paper"
         },
         {
          "showarrow": false,
          "text": "2.0",
          "x": 0.4066666666666666,
          "xanchor": "center",
          "xref": "paper",
          "y": 0.9999999999999998,
          "yanchor": "bottom",
          "yref": "paper"
         },
         {
          "showarrow": false,
          "text": "5.0",
          "x": 0.5733333333333334,
          "xanchor": "center",
          "xref": "paper",
          "y": 0.9999999999999998,
          "yanchor": "bottom",
          "yref": "paper"
         },
         {
          "showarrow": false,
          "text": "15.0",
          "x": 0.74,
          "xanchor": "center",
          "xref": "paper",
          "y": 0.9999999999999998,
          "yanchor": "bottom",
          "yref": "paper"
         },
         {
          "showarrow": false,
          "text": "30.0",
          "x": 0.9066666666666667,
          "xanchor": "center",
          "xref": "paper",
          "y": 0.9999999999999998,
          "yanchor": "bottom",
          "yref": "paper"
         },
         {
          "showarrow": false,
          "text": "600",
          "textangle": 90,
          "x": 0.98,
          "xanchor": "left",
          "xref": "paper",
          "y": 0.15666666666666665,
          "yanchor": "middle",
          "yref": "paper"
         },
         {
          "showarrow": false,
          "text": "300",
          "textangle": 90,
          "x": 0.98,
          "xanchor": "left",
          "xref": "paper",
          "y": 0.4999999999999999,
          "yanchor": "middle",
          "yref": "paper"
         },
         {
          "showarrow": false,
          "text": "180",
          "textangle": 90,
          "x": 0.98,
          "xanchor": "left",
          "xref": "paper",
          "y": 0.8433333333333332,
          "yanchor": "middle",
          "yref": "paper"
         },
         {
          "showarrow": false,
          "text": "travel time per request [s]",
          "textangle": -90,
          "x": -0.06,
          "xref": "paper",
          "y": 0.5,
          "yref": "paper"
         },
         {
          "showarrow": false,
          "text": "instance length [min]",
          "x": 0.5,
          "xref": "paper",
          "y": 1.12,
          "yref": "paper"
         },
         {
          "showarrow": false,
          "text": "maximum delay [s]",
          "textangle": 90,
          "x": 1.02,
          "xref": "paper",
          "y": 0.5,
          "yref": "paper"
         }
        ],
        "legend": {
         "title": {
          "text": "method"
         },
         "tracegroupgap": 0,
         "orientation": "h",
         "yanchor": "bottom",
         "y": 1.06,
         "xanchor": "right",
         "x": 1,
         "bordercolor": "Black",
         "borderwidth": 0
        },
        "margin": {
         "t": 0,
         "l": 0,
         "r": 0,
         "b": 0,
         "pad": 0
        },
        "barmode": "group",
        "height": 400,
        "width": 900
       },
       "config": {
        "plotlyServerURL": "https://plot.ly"
       }
      },
      "text/html": "<div>                            <div id=\"f64a9438-ecc4-4d46-899e-ec53b7fa4aa3\" class=\"plotly-graph-div\" style=\"height:400px; width:900px;\"></div>            <script type=\"text/javascript\">                require([\"plotly\"], function(Plotly) {                    window.PLOTLYENV=window.PLOTLYENV || {};                                    if (document.getElementById(\"f64a9438-ecc4-4d46-899e-ec53b7fa4aa3\")) {                    Plotly.newPlot(                        \"f64a9438-ecc4-4d46-899e-ec53b7fa4aa3\",                        [{\"alignmentgroup\":\"True\",\"hovertemplate\":\"method=ih<br>max_delay=180<br>duration_minutes=0.5<br>area=%{x}<br>cost_per_request=%{y}<extra></extra>\",\"legendgroup\":\"ih\",\"marker\":{\"color\":\"#636efa\",\"pattern\":{\"shape\":\"\"}},\"name\":\"ih\",\"offsetgroup\":\"ih\",\"orientation\":\"v\",\"showlegend\":true,\"textposition\":\"auto\",\"x\":[\"Chicago\",\"DC\",\"Manhattan\",\"NYC\"],\"xaxis\":\"x13\",\"y\":[1008.0,2115.0,498.42857142857144,823.7689969604863],\"yaxis\":\"y13\",\"type\":\"bar\"},{\"alignmentgroup\":\"True\",\"hovertemplate\":\"method=ih<br>max_delay=180<br>duration_minutes=1.0<br>area=%{x}<br>cost_per_request=%{y}<extra></extra>\",\"legendgroup\":\"ih\",\"marker\":{\"color\":\"#636efa\",\"pattern\":{\"shape\":\"\"}},\"name\":\"ih\",\"offsetgroup\":\"ih\",\"orientation\":\"v\",\"showlegend\":false,\"textposition\":\"auto\",\"x\":[\"Chicago\",\"DC\",\"Manhattan\",\"NYC\"],\"xaxis\":\"x14\",\"y\":[1153.8461538461538,1705.7142857142858,488.8111888111888,710.4833836858006],\"yaxis\":\"y14\",\"type\":\"bar\"},{\"alignmentgroup\":\"True\",\"hovertemplate\":\"method=ih<br>max_delay=180<br>duration_minutes=2.0<br>area=%{x}<br>cost_per_request=%{y}<extra></extra>\",\"legendgroup\":\"ih\",\"marker\":{\"color\":\"#636efa\",\"pattern\":{\"shape\":\"\"}},\"name\":\"ih\",\"offsetgroup\":\"ih\",\"orientation\":\"v\",\"showlegend\":false,\"textposition\":\"auto\",\"x\":[\"Chicago\",\"DC\",\"Manhattan\",\"NYC\"],\"xaxis\":\"x15\",\"y\":[949.2857142857143,1320.0,433.1900826446281,685.7528089887641],\"yaxis\":\"y15\",\"type\":\"bar\"},{\"alignmentgroup\":\"True\",\"hovertemplate\":\"method=ih<br>max_delay=180<br>duration_minutes=5.0<br>area=%{x}<br>cost_per_request=%{y}<extra></extra>\",\"legendgroup\":\"ih\",\"marker\":{\"color\":\"#636efa\",\"pattern\":{\"shape\":\"\"}},\"name\":\"ih\",\"offsetgroup\":\"ih\",\"orientation\":\"v\",\"showlegend\":false,\"textposition\":\"auto\",\"x\":[\"Chicago\",\"DC\",\"Manhattan\",\"NYC\"],\"xaxis\":\"x16\",\"y\":[954.065934065934,1334.4444444444443,378.45597104945716,597.1616972477065],\"yaxis\":\"y16\",\"type\":\"bar\"},{\"alignmentgroup\":\"True\",\"hovertemplate\":\"method=ih<br>max_delay=180<br>duration_minutes=15.0<br>area=%{x}<br>cost_per_request=%{y}<extra></extra>\",\"legendgroup\":\"ih\",\"marker\":{\"color\":\"#636efa\",\"pattern\":{\"shape\":\"\"}},\"name\":\"ih\",\"offsetgroup\":\"ih\",\"orientation\":\"v\",\"showlegend\":false,\"textposition\":\"auto\",\"x\":[\"Chicago\",\"DC\",\"Manhattan\",\"NYC\"],\"xaxis\":\"x17\",\"y\":[792.043795620438,1266.993865030675,333.84314492470173,534.2083845935459],\"yaxis\":\"y17\",\"type\":\"bar\"},{\"alignmentgroup\":\"True\",\"hovertemplate\":\"method=ih<br>max_delay=180<br>duration_minutes=30.0<br>area=%{x}<br>cost_per_request=%{y}<extra></extra>\",\"legendgroup\":\"ih\",\"marker\":{\"color\":\"#636efa\",\"pattern\":{\"shape\":\"\"}},\"name\":\"ih\",\"offsetgroup\":\"ih\",\"orientation\":\"v\",\"showlegend\":false,\"textposition\":\"auto\",\"x\":[\"Chicago\",\"DC\",\"Manhattan\",\"NYC\"],\"xaxis\":\"x18\",\"y\":[863.7583892617449,1169.0853658536585,320.48639258830343,527.6579818626745],\"yaxis\":\"y18\",\"type\":\"bar\"},{\"alignmentgroup\":\"True\",\"hovertemplate\":\"method=ih<br>max_delay=300<br>duration_minutes=0.5<br>area=%{x}<br>cost_per_request=%{y}<extra></extra>\",\"legendgroup\":\"ih\",\"marker\":{\"color\":\"#636efa\",\"pattern\":{\"shape\":\"\"}},\"name\":\"ih\",\"offsetgroup\":\"ih\",\"orientation\":\"v\",\"showlegend\":false,\"textposition\":\"auto\",\"x\":[\"Chicago\",\"DC\",\"Manhattan\",\"NYC\"],\"xaxis\":\"x7\",\"y\":[696.0,2115.0,464.57142857142856,716.5349544072948],\"yaxis\":\"y7\",\"type\":\"bar\"},{\"alignmentgroup\":\"True\",\"hovertemplate\":\"method=ih<br>max_delay=300<br>duration_minutes=1.0<br>area=%{x}<br>cost_per_request=%{y}<extra></extra>\",\"legendgroup\":\"ih\",\"marker\":{\"color\":\"#636efa\",\"pattern\":{\"shape\":\"\"}},\"name\":\"ih\",\"offsetgroup\":\"ih\",\"orientation\":\"v\",\"showlegend\":false,\"textposition\":\"auto\",\"x\":[\"Chicago\",\"DC\",\"Manhattan\",\"NYC\"],\"xaxis\":\"x8\",\"y\":[1144.6153846153845,1705.7142857142858,434.8951048951049,628.1873111782477],\"yaxis\":\"y8\",\"type\":\"bar\"},{\"alignmentgroup\":\"True\",\"hovertemplate\":\"method=ih<br>max_delay=300<br>duration_minutes=2.0<br>area=%{x}<br>cost_per_request=%{y}<extra></extra>\",\"legendgroup\":\"ih\",\"marker\":{\"color\":\"#636efa\",\"pattern\":{\"shape\":\"\"}},\"name\":\"ih\",\"offsetgroup\":\"ih\",\"orientation\":\"v\",\"showlegend\":false,\"textposition\":\"auto\",\"x\":[\"Chicago\",\"DC\",\"Manhattan\",\"NYC\"],\"xaxis\":\"x9\",\"y\":[930.0,1303.3333333333333,387.07438016528926,586.3370786516854],\"yaxis\":\"y9\",\"type\":\"bar\"},{\"alignmentgroup\":\"True\",\"hovertemplate\":\"method=ih<br>max_delay=300<br>duration_minutes=5.0<br>area=%{x}<br>cost_per_request=%{y}<extra></extra>\",\"legendgroup\":\"ih\",\"marker\":{\"color\":\"#636efa\",\"pattern\":{\"shape\":\"\"}},\"name\":\"ih\",\"offsetgroup\":\"ih\",\"orientation\":\"v\",\"showlegend\":false,\"textposition\":\"auto\",\"x\":[\"Chicago\",\"DC\",\"Manhattan\",\"NYC\"],\"xaxis\":\"x10\",\"y\":[805.7142857142857,1207.7777777777778,349.65018094089265,525.9977064220184],\"yaxis\":\"y10\",\"type\":\"bar\"},{\"alignmentgroup\":\"True\",\"hovertemplate\":\"method=ih<br>max_delay=300<br>duration_minutes=15.0<br>area=%{x}<br>cost_per_request=%{y}<extra></extra>\",\"legendgroup\":\"ih\",\"marker\":{\"color\":\"#636efa\",\"pattern\":{\"shape\":\"\"}},\"name\":\"ih\",\"offsetgroup\":\"ih\",\"orientation\":\"v\",\"showlegend\":false,\"textposition\":\"auto\",\"x\":[\"Chicago\",\"DC\",\"Manhattan\",\"NYC\"],\"xaxis\":\"x11\",\"y\":[679.051094890511,1089.9386503067485,299.8005085077254,466.9404750638781],\"yaxis\":\"y11\",\"type\":\"bar\"},{\"alignmentgroup\":\"True\",\"hovertemplate\":\"method=ih<br>max_delay=300<br>duration_minutes=30.0<br>area=%{x}<br>cost_per_request=%{y}<extra></extra>\",\"legendgroup\":\"ih\",\"marker\":{\"color\":\"#636efa\",\"pattern\":{\"shape\":\"\"}},\"name\":\"ih\",\"offsetgroup\":\"ih\",\"orientation\":\"v\",\"showlegend\":false,\"textposition\":\"auto\",\"x\":[\"Chicago\",\"DC\",\"Manhattan\",\"NYC\"],\"xaxis\":\"x12\",\"y\":[721.2080536912752,1027.3170731707316,282.18876664736536,456.5251187562977],\"yaxis\":\"y12\",\"type\":\"bar\"},{\"alignmentgroup\":\"True\",\"hovertemplate\":\"method=ih<br>max_delay=600<br>duration_minutes=0.5<br>area=%{x}<br>cost_per_request=%{y}<extra></extra>\",\"legendgroup\":\"ih\",\"marker\":{\"color\":\"#636efa\",\"pattern\":{\"shape\":\"\"}},\"name\":\"ih\",\"offsetgroup\":\"ih\",\"orientation\":\"v\",\"showlegend\":false,\"textposition\":\"auto\",\"x\":[\"Chicago\",\"DC\",\"Manhattan\",\"NYC\"],\"xaxis\":\"x\",\"y\":[624.0,2115.0,417.85714285714283,639.3920972644377],\"yaxis\":\"y\",\"type\":\"bar\"},{\"alignmentgroup\":\"True\",\"hovertemplate\":\"method=ih<br>max_delay=600<br>duration_minutes=1.0<br>area=%{x}<br>cost_per_request=%{y}<extra></extra>\",\"legendgroup\":\"ih\",\"marker\":{\"color\":\"#636efa\",\"pattern\":{\"shape\":\"\"}},\"name\":\"ih\",\"offsetgroup\":\"ih\",\"orientation\":\"v\",\"showlegend\":false,\"textposition\":\"auto\",\"x\":[\"Chicago\",\"DC\",\"Manhattan\",\"NYC\"],\"xaxis\":\"x2\",\"y\":[1001.5384615384615,1525.7142857142858,392.0979020979021,566.3746223564955],\"yaxis\":\"y2\",\"type\":\"bar\"},{\"alignmentgroup\":\"True\",\"hovertemplate\":\"method=ih<br>max_delay=600<br>duration_minutes=2.0<br>area=%{x}<br>cost_per_request=%{y}<extra></extra>\",\"legendgroup\":\"ih\",\"marker\":{\"color\":\"#636efa\",\"pattern\":{\"shape\":\"\"}},\"name\":\"ih\",\"offsetgroup\":\"ih\",\"orientation\":\"v\",\"showlegend\":false,\"textposition\":\"auto\",\"x\":[\"Chicago\",\"DC\",\"Manhattan\",\"NYC\"],\"xaxis\":\"x3\",\"y\":[865.7142857142857,1250.0,358.7107438016529,519.1011235955057],\"yaxis\":\"y3\",\"type\":\"bar\"},{\"alignmentgroup\":\"True\",\"hovertemplate\":\"method=ih<br>max_delay=600<br>duration_minutes=5.0<br>area=%{x}<br>cost_per_request=%{y}<extra></extra>\",\"legendgroup\":\"ih\",\"marker\":{\"color\":\"#636efa\",\"pattern\":{\"shape\":\"\"}},\"name\":\"ih\",\"offsetgroup\":\"ih\",\"orientation\":\"v\",\"showlegend\":false,\"textposition\":\"auto\",\"x\":[\"Chicago\",\"DC\",\"Manhattan\",\"NYC\"],\"xaxis\":\"x4\",\"y\":[670.5494505494505,1042.2222222222222,329.4571773220748,484.5756880733945],\"yaxis\":\"y4\",\"type\":\"bar\"},{\"alignmentgroup\":\"True\",\"hovertemplate\":\"method=ih<br>max_delay=600<br>duration_minutes=15.0<br>area=%{x}<br>cost_per_request=%{y}<extra></extra>\",\"legendgroup\":\"ih\",\"marker\":{\"color\":\"#636efa\",\"pattern\":{\"shape\":\"\"}},\"name\":\"ih\",\"offsetgroup\":\"ih\",\"orientation\":\"v\",\"showlegend\":false,\"textposition\":\"auto\",\"x\":[\"Chicago\",\"DC\",\"Manhattan\",\"NYC\"],\"xaxis\":\"x5\",\"y\":[595.4014598540145,902.5766871165645,287.6549970663016,432.9743541213211],\"yaxis\":\"y5\",\"type\":\"bar\"},{\"alignmentgroup\":\"True\",\"hovertemplate\":\"method=ih<br>max_delay=600<br>duration_minutes=30.0<br>area=%{x}<br>cost_per_request=%{y}<extra></extra>\",\"legendgroup\":\"ih\",\"marker\":{\"color\":\"#636efa\",\"pattern\":{\"shape\":\"\"}},\"name\":\"ih\",\"offsetgroup\":\"ih\",\"orientation\":\"v\",\"showlegend\":false,\"textposition\":\"auto\",\"x\":[\"Chicago\",\"DC\",\"Manhattan\",\"NYC\"],\"xaxis\":\"x6\",\"y\":[579.9664429530201,872.7439024390244,260.2374059061957,407.71843961422195],\"yaxis\":\"y6\",\"type\":\"bar\"},{\"alignmentgroup\":\"True\",\"hovertemplate\":\"method=vga<br>max_delay=180<br>duration_minutes=0.5<br>area=%{x}<br>cost_per_request=%{y}<extra></extra>\",\"legendgroup\":\"vga\",\"marker\":{\"color\":\"#EF553B\",\"pattern\":{\"shape\":\"\"}},\"name\":\"vga\",\"offsetgroup\":\"vga\",\"orientation\":\"v\",\"showlegend\":true,\"textposition\":\"auto\",\"x\":[\"Chicago\",\"DC\",\"Manhattan\",\"NYC\"],\"xaxis\":\"x13\",\"y\":[900.0,2115.0,469.7142857142857,774.7112462006079],\"yaxis\":\"y13\",\"type\":\"bar\"},{\"alignmentgroup\":\"True\",\"hovertemplate\":\"method=vga<br>max_delay=180<br>duration_minutes=1.0<br>area=%{x}<br>cost_per_request=%{y}<extra></extra>\",\"legendgroup\":\"vga\",\"marker\":{\"color\":\"#EF553B\",\"pattern\":{\"shape\":\"\"}},\"name\":\"vga\",\"offsetgroup\":\"vga\",\"orientation\":\"v\",\"showlegend\":false,\"textposition\":\"auto\",\"x\":[\"Chicago\",\"DC\",\"Manhattan\",\"NYC\"],\"xaxis\":\"x14\",\"y\":[1144.6153846153845,1705.7142857142858,424.4055944055944,668.8821752265861],\"yaxis\":\"y14\",\"type\":\"bar\"},{\"alignmentgroup\":\"True\",\"hovertemplate\":\"method=vga<br>max_delay=180<br>duration_minutes=2.0<br>area=%{x}<br>cost_per_request=%{y}<extra></extra>\",\"legendgroup\":\"vga\",\"marker\":{\"color\":\"#EF553B\",\"pattern\":{\"shape\":\"\"}},\"name\":\"vga\",\"offsetgroup\":\"vga\",\"orientation\":\"v\",\"showlegend\":false,\"textposition\":\"auto\",\"x\":[\"Chicago\",\"DC\",\"Manhattan\",\"NYC\"],\"xaxis\":\"x15\",\"y\":[919.2857142857143,1303.3333333333333,357.6198347107438,614.1123595505618],\"yaxis\":\"y15\",\"type\":\"bar\"},{\"alignmentgroup\":\"True\",\"hovertemplate\":\"method=vga<br>max_delay=180<br>duration_minutes=5.0<br>area=%{x}<br>cost_per_request=%{y}<extra></extra>\",\"legendgroup\":\"vga\",\"marker\":{\"color\":\"#EF553B\",\"pattern\":{\"shape\":\"\"}},\"name\":\"vga\",\"offsetgroup\":\"vga\",\"orientation\":\"v\",\"showlegend\":false,\"textposition\":\"auto\",\"x\":[\"Chicago\",\"DC\"],\"xaxis\":\"x16\",\"y\":[867.6923076923077,1314.4444444444443],\"yaxis\":\"y16\",\"type\":\"bar\"},{\"alignmentgroup\":\"True\",\"hovertemplate\":\"method=vga<br>max_delay=180<br>duration_minutes=15.0<br>area=%{x}<br>cost_per_request=%{y}<extra></extra>\",\"legendgroup\":\"vga\",\"marker\":{\"color\":\"#EF553B\",\"pattern\":{\"shape\":\"\"}},\"name\":\"vga\",\"offsetgroup\":\"vga\",\"orientation\":\"v\",\"showlegend\":false,\"textposition\":\"auto\",\"x\":[\"DC\"],\"xaxis\":\"x17\",\"y\":[1205.8895705521472],\"yaxis\":\"y17\",\"type\":\"bar\"},{\"alignmentgroup\":\"True\",\"hovertemplate\":\"method=vga<br>max_delay=180<br>duration_minutes=30.0<br>area=%{x}<br>cost_per_request=%{y}<extra></extra>\",\"legendgroup\":\"vga\",\"marker\":{\"color\":\"#EF553B\",\"pattern\":{\"shape\":\"\"}},\"name\":\"vga\",\"offsetgroup\":\"vga\",\"orientation\":\"v\",\"showlegend\":false,\"textposition\":\"auto\",\"x\":[\"DC\"],\"xaxis\":\"x18\",\"y\":[1092.2560975609756],\"yaxis\":\"y18\",\"type\":\"bar\"},{\"alignmentgroup\":\"True\",\"hovertemplate\":\"method=vga<br>max_delay=300<br>duration_minutes=0.5<br>area=%{x}<br>cost_per_request=%{y}<extra></extra>\",\"legendgroup\":\"vga\",\"marker\":{\"color\":\"#EF553B\",\"pattern\":{\"shape\":\"\"}},\"name\":\"vga\",\"offsetgroup\":\"vga\",\"orientation\":\"v\",\"showlegend\":false,\"textposition\":\"auto\",\"x\":[\"Chicago\",\"DC\",\"Manhattan\",\"NYC\"],\"xaxis\":\"x7\",\"y\":[696.0,2115.0,398.57142857142856,667.112462006079],\"yaxis\":\"y7\",\"type\":\"bar\"},{\"alignmentgroup\":\"True\",\"hovertemplate\":\"method=vga<br>max_delay=300<br>duration_minutes=1.0<br>area=%{x}<br>cost_per_request=%{y}<extra></extra>\",\"legendgroup\":\"vga\",\"marker\":{\"color\":\"#EF553B\",\"pattern\":{\"shape\":\"\"}},\"name\":\"vga\",\"offsetgroup\":\"vga\",\"orientation\":\"v\",\"showlegend\":false,\"textposition\":\"auto\",\"x\":[\"Chicago\",\"DC\",\"Manhattan\",\"NYC\"],\"xaxis\":\"x8\",\"y\":[1107.6923076923076,1705.7142857142858,352.02797202797206,578.5196374622357],\"yaxis\":\"y8\",\"type\":\"bar\"},{\"alignmentgroup\":\"True\",\"hovertemplate\":\"method=vga<br>max_delay=300<br>duration_minutes=2.0<br>area=%{x}<br>cost_per_request=%{y}<extra></extra>\",\"legendgroup\":\"vga\",\"marker\":{\"color\":\"#EF553B\",\"pattern\":{\"shape\":\"\"}},\"name\":\"vga\",\"offsetgroup\":\"vga\",\"orientation\":\"v\",\"showlegend\":false,\"textposition\":\"auto\",\"x\":[\"Chicago\",\"DC\",\"Manhattan\"],\"xaxis\":\"x9\",\"y\":[895.7142857142857,1276.6666666666667,296.1322314049587],\"yaxis\":\"y9\",\"type\":\"bar\"},{\"alignmentgroup\":\"True\",\"hovertemplate\":\"method=vga<br>max_delay=300<br>duration_minutes=5.0<br>area=%{x}<br>cost_per_request=%{y}<extra></extra>\",\"legendgroup\":\"vga\",\"marker\":{\"color\":\"#EF553B\",\"pattern\":{\"shape\":\"\"}},\"name\":\"vga\",\"offsetgroup\":\"vga\",\"orientation\":\"v\",\"showlegend\":false,\"textposition\":\"auto\",\"x\":[\"Chicago\",\"DC\"],\"xaxis\":\"x10\",\"y\":[754.2857142857143,1138.888888888889],\"yaxis\":\"y10\",\"type\":\"bar\"},{\"alignmentgroup\":\"True\",\"hovertemplate\":\"method=vga<br>max_delay=300<br>duration_minutes=15.0<br>area=%{x}<br>cost_per_request=%{y}<extra></extra>\",\"legendgroup\":\"vga\",\"marker\":{\"color\":\"#EF553B\",\"pattern\":{\"shape\":\"\"}},\"name\":\"vga\",\"offsetgroup\":\"vga\",\"orientation\":\"v\",\"showlegend\":false,\"textposition\":\"auto\",\"x\":[\"DC\"],\"xaxis\":\"x11\",\"y\":[994.9693251533743],\"yaxis\":\"y11\",\"type\":\"bar\"},{\"alignmentgroup\":\"True\",\"hovertemplate\":\"method=vga<br>max_delay=300<br>duration_minutes=30.0<br>area=%{x}<br>cost_per_request=%{y}<extra></extra>\",\"legendgroup\":\"vga\",\"marker\":{\"color\":\"#EF553B\",\"pattern\":{\"shape\":\"\"}},\"name\":\"vga\",\"offsetgroup\":\"vga\",\"orientation\":\"v\",\"showlegend\":false,\"textposition\":\"auto\",\"x\":[\"DC\"],\"xaxis\":\"x12\",\"y\":[885.5487804878048],\"yaxis\":\"y12\",\"type\":\"bar\"},{\"alignmentgroup\":\"True\",\"hovertemplate\":\"method=vga<br>max_delay=600<br>duration_minutes=0.5<br>area=%{x}<br>cost_per_request=%{y}<extra></extra>\",\"legendgroup\":\"vga\",\"marker\":{\"color\":\"#EF553B\",\"pattern\":{\"shape\":\"\"}},\"name\":\"vga\",\"offsetgroup\":\"vga\",\"orientation\":\"v\",\"showlegend\":false,\"textposition\":\"auto\",\"x\":[\"Chicago\",\"DC\",\"Manhattan\",\"NYC\"],\"xaxis\":\"x\",\"y\":[612.0,2115.0,330.42857142857144,558.9665653495441],\"yaxis\":\"y\",\"type\":\"bar\"},{\"alignmentgroup\":\"True\",\"hovertemplate\":\"method=vga<br>max_delay=600<br>duration_minutes=1.0<br>area=%{x}<br>cost_per_request=%{y}<extra></extra>\",\"legendgroup\":\"vga\",\"marker\":{\"color\":\"#EF553B\",\"pattern\":{\"shape\":\"\"}},\"name\":\"vga\",\"offsetgroup\":\"vga\",\"orientation\":\"v\",\"showlegend\":false,\"textposition\":\"auto\",\"x\":[\"Chicago\",\"DC\"],\"xaxis\":\"x2\",\"y\":[983.0769230769231,1525.7142857142858],\"yaxis\":\"y2\",\"type\":\"bar\"},{\"alignmentgroup\":\"True\",\"hovertemplate\":\"method=vga<br>max_delay=600<br>duration_minutes=2.0<br>area=%{x}<br>cost_per_request=%{y}<extra></extra>\",\"legendgroup\":\"vga\",\"marker\":{\"color\":\"#EF553B\",\"pattern\":{\"shape\":\"\"}},\"name\":\"vga\",\"offsetgroup\":\"vga\",\"orientation\":\"v\",\"showlegend\":false,\"textposition\":\"auto\",\"x\":[\"Chicago\",\"DC\"],\"xaxis\":\"x3\",\"y\":[850.7142857142857,1063.3333333333333],\"yaxis\":\"y3\",\"type\":\"bar\"},{\"alignmentgroup\":\"True\",\"hovertemplate\":\"method=vga<br>max_delay=600<br>duration_minutes=5.0<br>area=%{x}<br>cost_per_request=%{y}<extra></extra>\",\"legendgroup\":\"vga\",\"marker\":{\"color\":\"#EF553B\",\"pattern\":{\"shape\":\"\"}},\"name\":\"vga\",\"offsetgroup\":\"vga\",\"orientation\":\"v\",\"showlegend\":false,\"textposition\":\"auto\",\"x\":[\"DC\"],\"xaxis\":\"x4\",\"y\":[874.4444444444445],\"yaxis\":\"y4\",\"type\":\"bar\"},{\"alignmentgroup\":\"True\",\"hovertemplate\":\"method=vga<br>max_delay=600<br>duration_minutes=15.0<br>area=%{x}<br>cost_per_request=%{y}<extra></extra>\",\"legendgroup\":\"vga\",\"marker\":{\"color\":\"#EF553B\",\"pattern\":{\"shape\":\"\"}},\"name\":\"vga\",\"offsetgroup\":\"vga\",\"orientation\":\"v\",\"showlegend\":false,\"textposition\":\"auto\",\"x\":[\"DC\"],\"xaxis\":\"x5\",\"y\":[710.4294478527607],\"yaxis\":\"y5\",\"type\":\"bar\"}],                        {\"template\":{\"data\":{\"histogram2dcontour\":[{\"type\":\"histogram2dcontour\",\"colorbar\":{\"outlinewidth\":0,\"ticks\":\"\"},\"colorscale\":[[0.0,\"#0d0887\"],[0.1111111111111111,\"#46039f\"],[0.2222222222222222,\"#7201a8\"],[0.3333333333333333,\"#9c179e\"],[0.4444444444444444,\"#bd3786\"],[0.5555555555555556,\"#d8576b\"],[0.6666666666666666,\"#ed7953\"],[0.7777777777777778,\"#fb9f3a\"],[0.8888888888888888,\"#fdca26\"],[1.0,\"#f0f921\"]]}],\"choropleth\":[{\"type\":\"choropleth\",\"colorbar\":{\"outlinewidth\":0,\"ticks\":\"\"}}],\"histogram2d\":[{\"type\":\"histogram2d\",\"colorbar\":{\"outlinewidth\":0,\"ticks\":\"\"},\"colorscale\":[[0.0,\"#0d0887\"],[0.1111111111111111,\"#46039f\"],[0.2222222222222222,\"#7201a8\"],[0.3333333333333333,\"#9c179e\"],[0.4444444444444444,\"#bd3786\"],[0.5555555555555556,\"#d8576b\"],[0.6666666666666666,\"#ed7953\"],[0.7777777777777778,\"#fb9f3a\"],[0.8888888888888888,\"#fdca26\"],[1.0,\"#f0f921\"]]}],\"heatmap\":[{\"type\":\"heatmap\",\"colorbar\":{\"outlinewidth\":0,\"ticks\":\"\"},\"colorscale\":[[0.0,\"#0d0887\"],[0.1111111111111111,\"#46039f\"],[0.2222222222222222,\"#7201a8\"],[0.3333333333333333,\"#9c179e\"],[0.4444444444444444,\"#bd3786\"],[0.5555555555555556,\"#d8576b\"],[0.6666666666666666,\"#ed7953\"],[0.7777777777777778,\"#fb9f3a\"],[0.8888888888888888,\"#fdca26\"],[1.0,\"#f0f921\"]]}],\"heatmapgl\":[{\"type\":\"heatmapgl\",\"colorbar\":{\"outlinewidth\":0,\"ticks\":\"\"},\"colorscale\":[[0.0,\"#0d0887\"],[0.1111111111111111,\"#46039f\"],[0.2222222222222222,\"#7201a8\"],[0.3333333333333333,\"#9c179e\"],[0.4444444444444444,\"#bd3786\"],[0.5555555555555556,\"#d8576b\"],[0.6666666666666666,\"#ed7953\"],[0.7777777777777778,\"#fb9f3a\"],[0.8888888888888888,\"#fdca26\"],[1.0,\"#f0f921\"]]}],\"contourcarpet\":[{\"type\":\"contourcarpet\",\"colorbar\":{\"outlinewidth\":0,\"ticks\":\"\"}}],\"contour\":[{\"type\":\"contour\",\"colorbar\":{\"outlinewidth\":0,\"ticks\":\"\"},\"colorscale\":[[0.0,\"#0d0887\"],[0.1111111111111111,\"#46039f\"],[0.2222222222222222,\"#7201a8\"],[0.3333333333333333,\"#9c179e\"],[0.4444444444444444,\"#bd3786\"],[0.5555555555555556,\"#d8576b\"],[0.6666666666666666,\"#ed7953\"],[0.7777777777777778,\"#fb9f3a\"],[0.8888888888888888,\"#fdca26\"],[1.0,\"#f0f921\"]]}],\"surface\":[{\"type\":\"surface\",\"colorbar\":{\"outlinewidth\":0,\"ticks\":\"\"},\"colorscale\":[[0.0,\"#0d0887\"],[0.1111111111111111,\"#46039f\"],[0.2222222222222222,\"#7201a8\"],[0.3333333333333333,\"#9c179e\"],[0.4444444444444444,\"#bd3786\"],[0.5555555555555556,\"#d8576b\"],[0.6666666666666666,\"#ed7953\"],[0.7777777777777778,\"#fb9f3a\"],[0.8888888888888888,\"#fdca26\"],[1.0,\"#f0f921\"]]}],\"mesh3d\":[{\"type\":\"mesh3d\",\"colorbar\":{\"outlinewidth\":0,\"ticks\":\"\"}}],\"scatter\":[{\"fillpattern\":{\"fillmode\":\"overlay\",\"size\":10,\"solidity\":0.2},\"type\":\"scatter\"}],\"parcoords\":[{\"type\":\"parcoords\",\"line\":{\"colorbar\":{\"outlinewidth\":0,\"ticks\":\"\"}}}],\"scatterpolargl\":[{\"type\":\"scatterpolargl\",\"marker\":{\"colorbar\":{\"outlinewidth\":0,\"ticks\":\"\"}}}],\"bar\":[{\"error_x\":{\"color\":\"#2a3f5f\"},\"error_y\":{\"color\":\"#2a3f5f\"},\"marker\":{\"line\":{\"color\":\"#E5ECF6\",\"width\":0.5},\"pattern\":{\"fillmode\":\"overlay\",\"size\":10,\"solidity\":0.2}},\"type\":\"bar\"}],\"scattergeo\":[{\"type\":\"scattergeo\",\"marker\":{\"colorbar\":{\"outlinewidth\":0,\"ticks\":\"\"}}}],\"scatterpolar\":[{\"type\":\"scatterpolar\",\"marker\":{\"colorbar\":{\"outlinewidth\":0,\"ticks\":\"\"}}}],\"histogram\":[{\"marker\":{\"pattern\":{\"fillmode\":\"overlay\",\"size\":10,\"solidity\":0.2}},\"type\":\"histogram\"}],\"scattergl\":[{\"type\":\"scattergl\",\"marker\":{\"colorbar\":{\"outlinewidth\":0,\"ticks\":\"\"}}}],\"scatter3d\":[{\"type\":\"scatter3d\",\"line\":{\"colorbar\":{\"outlinewidth\":0,\"ticks\":\"\"}},\"marker\":{\"colorbar\":{\"outlinewidth\":0,\"ticks\":\"\"}}}],\"scattermapbox\":[{\"type\":\"scattermapbox\",\"marker\":{\"colorbar\":{\"outlinewidth\":0,\"ticks\":\"\"}}}],\"scatterternary\":[{\"type\":\"scatterternary\",\"marker\":{\"colorbar\":{\"outlinewidth\":0,\"ticks\":\"\"}}}],\"scattercarpet\":[{\"type\":\"scattercarpet\",\"marker\":{\"colorbar\":{\"outlinewidth\":0,\"ticks\":\"\"}}}],\"carpet\":[{\"aaxis\":{\"endlinecolor\":\"#2a3f5f\",\"gridcolor\":\"white\",\"linecolor\":\"white\",\"minorgridcolor\":\"white\",\"startlinecolor\":\"#2a3f5f\"},\"baxis\":{\"endlinecolor\":\"#2a3f5f\",\"gridcolor\":\"white\",\"linecolor\":\"white\",\"minorgridcolor\":\"white\",\"startlinecolor\":\"#2a3f5f\"},\"type\":\"carpet\"}],\"table\":[{\"cells\":{\"fill\":{\"color\":\"#EBF0F8\"},\"line\":{\"color\":\"white\"}},\"header\":{\"fill\":{\"color\":\"#C8D4E3\"},\"line\":{\"color\":\"white\"}},\"type\":\"table\"}],\"barpolar\":[{\"marker\":{\"line\":{\"color\":\"#E5ECF6\",\"width\":0.5},\"pattern\":{\"fillmode\":\"overlay\",\"size\":10,\"solidity\":0.2}},\"type\":\"barpolar\"}],\"pie\":[{\"automargin\":true,\"type\":\"pie\"}]},\"layout\":{\"autotypenumbers\":\"strict\",\"colorway\":[\"#636efa\",\"#EF553B\",\"#00cc96\",\"#ab63fa\",\"#FFA15A\",\"#19d3f3\",\"#FF6692\",\"#B6E880\",\"#FF97FF\",\"#FECB52\"],\"font\":{\"color\":\"#2a3f5f\"},\"hovermode\":\"closest\",\"hoverlabel\":{\"align\":\"left\"},\"paper_bgcolor\":\"white\",\"plot_bgcolor\":\"#E5ECF6\",\"polar\":{\"bgcolor\":\"#E5ECF6\",\"angularaxis\":{\"gridcolor\":\"white\",\"linecolor\":\"white\",\"ticks\":\"\"},\"radialaxis\":{\"gridcolor\":\"white\",\"linecolor\":\"white\",\"ticks\":\"\"}},\"ternary\":{\"bgcolor\":\"#E5ECF6\",\"aaxis\":{\"gridcolor\":\"white\",\"linecolor\":\"white\",\"ticks\":\"\"},\"baxis\":{\"gridcolor\":\"white\",\"linecolor\":\"white\",\"ticks\":\"\"},\"caxis\":{\"gridcolor\":\"white\",\"linecolor\":\"white\",\"ticks\":\"\"}},\"coloraxis\":{\"colorbar\":{\"outlinewidth\":0,\"ticks\":\"\"}},\"colorscale\":{\"sequential\":[[0.0,\"#0d0887\"],[0.1111111111111111,\"#46039f\"],[0.2222222222222222,\"#7201a8\"],[0.3333333333333333,\"#9c179e\"],[0.4444444444444444,\"#bd3786\"],[0.5555555555555556,\"#d8576b\"],[0.6666666666666666,\"#ed7953\"],[0.7777777777777778,\"#fb9f3a\"],[0.8888888888888888,\"#fdca26\"],[1.0,\"#f0f921\"]],\"sequentialminus\":[[0.0,\"#0d0887\"],[0.1111111111111111,\"#46039f\"],[0.2222222222222222,\"#7201a8\"],[0.3333333333333333,\"#9c179e\"],[0.4444444444444444,\"#bd3786\"],[0.5555555555555556,\"#d8576b\"],[0.6666666666666666,\"#ed7953\"],[0.7777777777777778,\"#fb9f3a\"],[0.8888888888888888,\"#fdca26\"],[1.0,\"#f0f921\"]],\"diverging\":[[0,\"#8e0152\"],[0.1,\"#c51b7d\"],[0.2,\"#de77ae\"],[0.3,\"#f1b6da\"],[0.4,\"#fde0ef\"],[0.5,\"#f7f7f7\"],[0.6,\"#e6f5d0\"],[0.7,\"#b8e186\"],[0.8,\"#7fbc41\"],[0.9,\"#4d9221\"],[1,\"#276419\"]]},\"xaxis\":{\"gridcolor\":\"white\",\"linecolor\":\"white\",\"ticks\":\"\",\"title\":{\"standoff\":15},\"zerolinecolor\":\"white\",\"automargin\":true,\"zerolinewidth\":2},\"yaxis\":{\"gridcolor\":\"white\",\"linecolor\":\"white\",\"ticks\":\"\",\"title\":{\"standoff\":15},\"zerolinecolor\":\"white\",\"automargin\":true,\"zerolinewidth\":2},\"scene\":{\"xaxis\":{\"backgroundcolor\":\"#E5ECF6\",\"gridcolor\":\"white\",\"linecolor\":\"white\",\"showbackground\":true,\"ticks\":\"\",\"zerolinecolor\":\"white\",\"gridwidth\":2},\"yaxis\":{\"backgroundcolor\":\"#E5ECF6\",\"gridcolor\":\"white\",\"linecolor\":\"white\",\"showbackground\":true,\"ticks\":\"\",\"zerolinecolor\":\"white\",\"gridwidth\":2},\"zaxis\":{\"backgroundcolor\":\"#E5ECF6\",\"gridcolor\":\"white\",\"linecolor\":\"white\",\"showbackground\":true,\"ticks\":\"\",\"zerolinecolor\":\"white\",\"gridwidth\":2}},\"shapedefaults\":{\"line\":{\"color\":\"#2a3f5f\"}},\"annotationdefaults\":{\"arrowcolor\":\"#2a3f5f\",\"arrowhead\":0,\"arrowwidth\":1},\"geo\":{\"bgcolor\":\"white\",\"landcolor\":\"#E5ECF6\",\"subunitcolor\":\"white\",\"showland\":true,\"showlakes\":true,\"lakecolor\":\"white\"},\"title\":{\"x\":0.05},\"mapbox\":{\"style\":\"light\"}}},\"xaxis\":{\"anchor\":\"y\",\"domain\":[0.0,0.14666666666666667],\"title\":{\"text\":\"\"}},\"yaxis\":{\"anchor\":\"x\",\"domain\":[0.0,0.3133333333333333],\"title\":{\"text\":\"\"}},\"xaxis2\":{\"anchor\":\"y2\",\"domain\":[0.16666666666666666,0.31333333333333335],\"matches\":\"x\",\"title\":{\"text\":\"\"}},\"yaxis2\":{\"anchor\":\"x2\",\"domain\":[0.0,0.3133333333333333],\"matches\":\"y\",\"showticklabels\":false,\"title\":{\"text\":\"\"}},\"xaxis3\":{\"anchor\":\"y3\",\"domain\":[0.3333333333333333,0.48],\"matches\":\"x\",\"title\":{\"text\":\"\"}},\"yaxis3\":{\"anchor\":\"x3\",\"domain\":[0.0,0.3133333333333333],\"matches\":\"y\",\"showticklabels\":false,\"title\":{\"text\":\"\"}},\"xaxis4\":{\"anchor\":\"y4\",\"domain\":[0.5,0.6466666666666667],\"matches\":\"x\",\"title\":{\"text\":\"\"}},\"yaxis4\":{\"anchor\":\"x4\",\"domain\":[0.0,0.3133333333333333],\"matches\":\"y\",\"showticklabels\":false,\"title\":{\"text\":\"\"}},\"xaxis5\":{\"anchor\":\"y5\",\"domain\":[0.6666666666666666,0.8133333333333332],\"matches\":\"x\",\"title\":{\"text\":\"\"}},\"yaxis5\":{\"anchor\":\"x5\",\"domain\":[0.0,0.3133333333333333],\"matches\":\"y\",\"showticklabels\":false,\"title\":{\"text\":\"\"}},\"xaxis6\":{\"anchor\":\"y6\",\"domain\":[0.8333333333333334,0.98],\"matches\":\"x\",\"title\":{\"text\":\"\"}},\"yaxis6\":{\"anchor\":\"x6\",\"domain\":[0.0,0.3133333333333333],\"matches\":\"y\",\"showticklabels\":false,\"title\":{\"text\":\"\"}},\"xaxis7\":{\"anchor\":\"y7\",\"domain\":[0.0,0.14666666666666667],\"matches\":\"x\",\"showticklabels\":false,\"title\":{\"text\":\"\"}},\"yaxis7\":{\"anchor\":\"x7\",\"domain\":[0.34333333333333327,0.6566666666666665],\"matches\":\"y\",\"title\":{\"text\":\"\"}},\"xaxis8\":{\"anchor\":\"y8\",\"domain\":[0.16666666666666666,0.31333333333333335],\"matches\":\"x\",\"showticklabels\":false,\"title\":{\"text\":\"\"}},\"yaxis8\":{\"anchor\":\"x8\",\"domain\":[0.34333333333333327,0.6566666666666665],\"matches\":\"y\",\"showticklabels\":false,\"title\":{\"text\":\"\"}},\"xaxis9\":{\"anchor\":\"y9\",\"domain\":[0.3333333333333333,0.48],\"matches\":\"x\",\"showticklabels\":false,\"title\":{\"text\":\"\"}},\"yaxis9\":{\"anchor\":\"x9\",\"domain\":[0.34333333333333327,0.6566666666666665],\"matches\":\"y\",\"showticklabels\":false,\"title\":{\"text\":\"\"}},\"xaxis10\":{\"anchor\":\"y10\",\"domain\":[0.5,0.6466666666666667],\"matches\":\"x\",\"showticklabels\":false,\"title\":{\"text\":\"\"}},\"yaxis10\":{\"anchor\":\"x10\",\"domain\":[0.34333333333333327,0.6566666666666665],\"matches\":\"y\",\"showticklabels\":false,\"title\":{\"text\":\"\"}},\"xaxis11\":{\"anchor\":\"y11\",\"domain\":[0.6666666666666666,0.8133333333333332],\"matches\":\"x\",\"showticklabels\":false,\"title\":{\"text\":\"\"}},\"yaxis11\":{\"anchor\":\"x11\",\"domain\":[0.34333333333333327,0.6566666666666665],\"matches\":\"y\",\"showticklabels\":false,\"title\":{\"text\":\"\"}},\"xaxis12\":{\"anchor\":\"y12\",\"domain\":[0.8333333333333334,0.98],\"matches\":\"x\",\"showticklabels\":false,\"title\":{\"text\":\"\"}},\"yaxis12\":{\"anchor\":\"x12\",\"domain\":[0.34333333333333327,0.6566666666666665],\"matches\":\"y\",\"showticklabels\":false,\"title\":{\"text\":\"\"}},\"xaxis13\":{\"anchor\":\"y13\",\"domain\":[0.0,0.14666666666666667],\"matches\":\"x\",\"showticklabels\":false,\"title\":{\"text\":\"\"}},\"yaxis13\":{\"anchor\":\"x13\",\"domain\":[0.6866666666666665,0.9999999999999998],\"matches\":\"y\",\"title\":{\"text\":\"\"}},\"xaxis14\":{\"anchor\":\"y14\",\"domain\":[0.16666666666666666,0.31333333333333335],\"matches\":\"x\",\"showticklabels\":false,\"title\":{\"text\":\"\"}},\"yaxis14\":{\"anchor\":\"x14\",\"domain\":[0.6866666666666665,0.9999999999999998],\"matches\":\"y\",\"showticklabels\":false,\"title\":{\"text\":\"\"}},\"xaxis15\":{\"anchor\":\"y15\",\"domain\":[0.3333333333333333,0.48],\"matches\":\"x\",\"showticklabels\":false,\"title\":{\"text\":\"\"}},\"yaxis15\":{\"anchor\":\"x15\",\"domain\":[0.6866666666666665,0.9999999999999998],\"matches\":\"y\",\"showticklabels\":false,\"title\":{\"text\":\"\"}},\"xaxis16\":{\"anchor\":\"y16\",\"domain\":[0.5,0.6466666666666667],\"matches\":\"x\",\"showticklabels\":false,\"title\":{\"text\":\"\"}},\"yaxis16\":{\"anchor\":\"x16\",\"domain\":[0.6866666666666665,0.9999999999999998],\"matches\":\"y\",\"showticklabels\":false,\"title\":{\"text\":\"\"}},\"xaxis17\":{\"anchor\":\"y17\",\"domain\":[0.6666666666666666,0.8133333333333332],\"matches\":\"x\",\"showticklabels\":false,\"title\":{\"text\":\"\"}},\"yaxis17\":{\"anchor\":\"x17\",\"domain\":[0.6866666666666665,0.9999999999999998],\"matches\":\"y\",\"showticklabels\":false,\"title\":{\"text\":\"\"}},\"xaxis18\":{\"anchor\":\"y18\",\"domain\":[0.8333333333333334,0.98],\"matches\":\"x\",\"showticklabels\":false,\"title\":{\"text\":\"\"}},\"yaxis18\":{\"anchor\":\"x18\",\"domain\":[0.6866666666666665,0.9999999999999998],\"matches\":\"y\",\"showticklabels\":false,\"title\":{\"text\":\"\"}},\"annotations\":[{\"showarrow\":false,\"text\":\"0.5\",\"x\":0.07333333333333333,\"xanchor\":\"center\",\"xref\":\"paper\",\"y\":0.9999999999999998,\"yanchor\":\"bottom\",\"yref\":\"paper\"},{\"showarrow\":false,\"text\":\"1.0\",\"x\":0.24,\"xanchor\":\"center\",\"xref\":\"paper\",\"y\":0.9999999999999998,\"yanchor\":\"bottom\",\"yref\":\"paper\"},{\"showarrow\":false,\"text\":\"2.0\",\"x\":0.4066666666666666,\"xanchor\":\"center\",\"xref\":\"paper\",\"y\":0.9999999999999998,\"yanchor\":\"bottom\",\"yref\":\"paper\"},{\"showarrow\":false,\"text\":\"5.0\",\"x\":0.5733333333333334,\"xanchor\":\"center\",\"xref\":\"paper\",\"y\":0.9999999999999998,\"yanchor\":\"bottom\",\"yref\":\"paper\"},{\"showarrow\":false,\"text\":\"15.0\",\"x\":0.74,\"xanchor\":\"center\",\"xref\":\"paper\",\"y\":0.9999999999999998,\"yanchor\":\"bottom\",\"yref\":\"paper\"},{\"showarrow\":false,\"text\":\"30.0\",\"x\":0.9066666666666667,\"xanchor\":\"center\",\"xref\":\"paper\",\"y\":0.9999999999999998,\"yanchor\":\"bottom\",\"yref\":\"paper\"},{\"showarrow\":false,\"text\":\"600\",\"textangle\":90,\"x\":0.98,\"xanchor\":\"left\",\"xref\":\"paper\",\"y\":0.15666666666666665,\"yanchor\":\"middle\",\"yref\":\"paper\"},{\"showarrow\":false,\"text\":\"300\",\"textangle\":90,\"x\":0.98,\"xanchor\":\"left\",\"xref\":\"paper\",\"y\":0.4999999999999999,\"yanchor\":\"middle\",\"yref\":\"paper\"},{\"showarrow\":false,\"text\":\"180\",\"textangle\":90,\"x\":0.98,\"xanchor\":\"left\",\"xref\":\"paper\",\"y\":0.8433333333333332,\"yanchor\":\"middle\",\"yref\":\"paper\"},{\"showarrow\":false,\"text\":\"travel time per request [s]\",\"textangle\":-90,\"x\":-0.06,\"xref\":\"paper\",\"y\":0.5,\"yref\":\"paper\"},{\"showarrow\":false,\"text\":\"instance length [min]\",\"x\":0.5,\"xref\":\"paper\",\"y\":1.12,\"yref\":\"paper\"},{\"showarrow\":false,\"text\":\"maximum delay [s]\",\"textangle\":90,\"x\":1.02,\"xref\":\"paper\",\"y\":0.5,\"yref\":\"paper\"}],\"legend\":{\"title\":{\"text\":\"method\"},\"tracegroupgap\":0,\"orientation\":\"h\",\"yanchor\":\"bottom\",\"y\":1.06,\"xanchor\":\"right\",\"x\":1,\"bordercolor\":\"Black\",\"borderwidth\":0},\"margin\":{\"t\":0,\"l\":0,\"r\":0,\"b\":0,\"pad\":0},\"barmode\":\"group\",\"height\":400,\"width\":900},                        {\"responsive\": true}                    ).then(function(){\n                            \nvar gd = document.getElementById('f64a9438-ecc4-4d46-899e-ec53b7fa4aa3');\nvar x = new MutationObserver(function (mutations, observer) {{\n        var display = window.getComputedStyle(gd).display;\n        if (!display || display === 'none') {{\n            console.log([gd, 'removed!']);\n            Plotly.purge(gd);\n            observer.disconnect();\n        }}\n}});\n\n// Listen for the removal of the full notebook cells\nvar notebookContainer = gd.closest('#notebook-container');\nif (notebookContainer) {{\n    x.observe(notebookContainer, {childList: true});\n}}\n\n// Listen for the clearing of the current output cell\nvar outputEl = gd.closest('.output');\nif (outputEl) {{\n    x.observe(outputEl, {childList: true});\n}}\n\n                        })                };                });            </script>        </div>"
     },
     "metadata": {},
     "output_type": "display_data"
    }
   ],
   "source": [
    "fig = plot_main_result(900, 400)"
   ],
   "metadata": {
    "collapsed": false,
    "ExecuteTime": {
     "end_time": "2023-05-19T12:31:13.922140100Z",
     "start_time": "2023-05-19T12:31:13.581079900Z"
    }
   }
  },
  {
   "cell_type": "code",
   "execution_count": 234,
   "outputs": [],
   "source": [
    "fig.write_image(fig_path / \"main_result-wide.pdf\")\n",
    "# fig.write_image(fig_path / \"main_result.png\")"
   ],
   "metadata": {
    "collapsed": false,
    "ExecuteTime": {
     "end_time": "2023-05-19T12:35:20.680297600Z",
     "start_time": "2023-05-19T12:35:20.345281300Z"
    }
   }
  },
  {
   "cell_type": "markdown",
   "source": [
    "## All methods selected instances"
   ],
   "metadata": {
    "collapsed": false
   }
  },
  {
   "cell_type": "code",
   "execution_count": 89,
   "outputs": [],
   "source": [
    "def plot_main_result(width: int, height: int) -> None:\n",
    "    dfsel = df.query('duration_minutes <= 5 and max_delay <= 300')\n",
    "    fig = px.bar(\n",
    "        dfsel,\n",
    "        x = 'area',\n",
    "        y = 'cost_per_request',\n",
    "        barmode='group',\n",
    "        title = 'Average Cost per Request',\n",
    "        facet_col='duration_minutes',\n",
    "        facet_row='max_delay',\n",
    "        color='method'\n",
    "    )\n",
    "\n",
    "    # shared axes titles\n",
    "    fig.for_each_yaxis(lambda y: y.update(title = ''))\n",
    "    fig.add_annotation(x=-0.06, y=0.5, text=\"travel time per request [s]\", textangle=-90, xref=\"paper\", yref=\"paper\", showarrow=False)\n",
    "    fig.for_each_xaxis(lambda y: y.update(title = ''))\n",
    "    # fig.add_annotation(x=0.5, y=-0.1, text=\"Area\",  xref=\"paper\", yref=\"paper\", showarrow=False)\n",
    "\n",
    "    # faceting label editing\n",
    "    fig.for_each_annotation(lambda a: a.update(text=a.text.split(\"=\")[-1]))\n",
    "\n",
    "    fig.show()\n",
    "    return fig"
   ],
   "metadata": {
    "collapsed": false,
    "ExecuteTime": {
     "end_time": "2023-05-17T14:54:16.058502500Z",
     "start_time": "2023-05-17T14:54:16.033501700Z"
    }
   }
  },
  {
   "cell_type": "code",
   "execution_count": 90,
   "outputs": [
    {
     "data": {
      "application/vnd.plotly.v1+json": {
       "data": [
        {
         "alignmentgroup": "True",
         "hovertemplate": "method=ih<br>max_delay=180<br>duration_minutes=0.5<br>area=%{x}<br>cost_per_request=%{y}<extra></extra>",
         "legendgroup": "ih",
         "marker": {
          "color": "#636efa",
          "pattern": {
           "shape": ""
          }
         },
         "name": "ih",
         "offsetgroup": "ih",
         "orientation": "v",
         "showlegend": true,
         "textposition": "auto",
         "x": [
          "Chicago",
          "DC",
          "Manhattan",
          "NYC"
         ],
         "xaxis": "x5",
         "y": [
          1008.0,
          2115.0,
          498.42857142857144,
          823.7689969604863
         ],
         "yaxis": "y5",
         "type": "bar"
        },
        {
         "alignmentgroup": "True",
         "hovertemplate": "method=ih<br>max_delay=180<br>duration_minutes=1.0<br>area=%{x}<br>cost_per_request=%{y}<extra></extra>",
         "legendgroup": "ih",
         "marker": {
          "color": "#636efa",
          "pattern": {
           "shape": ""
          }
         },
         "name": "ih",
         "offsetgroup": "ih",
         "orientation": "v",
         "showlegend": false,
         "textposition": "auto",
         "x": [
          "Chicago",
          "DC",
          "Manhattan",
          "NYC"
         ],
         "xaxis": "x6",
         "y": [
          1153.8461538461538,
          1705.7142857142858,
          488.8111888111888,
          710.4833836858006
         ],
         "yaxis": "y6",
         "type": "bar"
        },
        {
         "alignmentgroup": "True",
         "hovertemplate": "method=ih<br>max_delay=180<br>duration_minutes=2.0<br>area=%{x}<br>cost_per_request=%{y}<extra></extra>",
         "legendgroup": "ih",
         "marker": {
          "color": "#636efa",
          "pattern": {
           "shape": ""
          }
         },
         "name": "ih",
         "offsetgroup": "ih",
         "orientation": "v",
         "showlegend": false,
         "textposition": "auto",
         "x": [
          "Chicago",
          "DC",
          "Manhattan",
          "NYC"
         ],
         "xaxis": "x7",
         "y": [
          949.2857142857143,
          1320.0,
          433.1900826446281,
          685.7528089887641
         ],
         "yaxis": "y7",
         "type": "bar"
        },
        {
         "alignmentgroup": "True",
         "hovertemplate": "method=ih<br>max_delay=180<br>duration_minutes=5.0<br>area=%{x}<br>cost_per_request=%{y}<extra></extra>",
         "legendgroup": "ih",
         "marker": {
          "color": "#636efa",
          "pattern": {
           "shape": ""
          }
         },
         "name": "ih",
         "offsetgroup": "ih",
         "orientation": "v",
         "showlegend": false,
         "textposition": "auto",
         "x": [
          "Chicago",
          "DC",
          "Manhattan",
          "NYC"
         ],
         "xaxis": "x8",
         "y": [
          954.065934065934,
          1334.4444444444443,
          378.45597104945716,
          597.1616972477065
         ],
         "yaxis": "y8",
         "type": "bar"
        },
        {
         "alignmentgroup": "True",
         "hovertemplate": "method=ih<br>max_delay=300<br>duration_minutes=0.5<br>area=%{x}<br>cost_per_request=%{y}<extra></extra>",
         "legendgroup": "ih",
         "marker": {
          "color": "#636efa",
          "pattern": {
           "shape": ""
          }
         },
         "name": "ih",
         "offsetgroup": "ih",
         "orientation": "v",
         "showlegend": false,
         "textposition": "auto",
         "x": [
          "Chicago",
          "DC",
          "Manhattan",
          "NYC"
         ],
         "xaxis": "x",
         "y": [
          696.0,
          2115.0,
          464.57142857142856,
          716.5349544072948
         ],
         "yaxis": "y",
         "type": "bar"
        },
        {
         "alignmentgroup": "True",
         "hovertemplate": "method=ih<br>max_delay=300<br>duration_minutes=1.0<br>area=%{x}<br>cost_per_request=%{y}<extra></extra>",
         "legendgroup": "ih",
         "marker": {
          "color": "#636efa",
          "pattern": {
           "shape": ""
          }
         },
         "name": "ih",
         "offsetgroup": "ih",
         "orientation": "v",
         "showlegend": false,
         "textposition": "auto",
         "x": [
          "Chicago",
          "DC",
          "Manhattan",
          "NYC"
         ],
         "xaxis": "x2",
         "y": [
          1144.6153846153845,
          1705.7142857142858,
          434.8951048951049,
          628.1873111782477
         ],
         "yaxis": "y2",
         "type": "bar"
        },
        {
         "alignmentgroup": "True",
         "hovertemplate": "method=ih<br>max_delay=300<br>duration_minutes=2.0<br>area=%{x}<br>cost_per_request=%{y}<extra></extra>",
         "legendgroup": "ih",
         "marker": {
          "color": "#636efa",
          "pattern": {
           "shape": ""
          }
         },
         "name": "ih",
         "offsetgroup": "ih",
         "orientation": "v",
         "showlegend": false,
         "textposition": "auto",
         "x": [
          "Chicago",
          "DC",
          "Manhattan",
          "NYC"
         ],
         "xaxis": "x3",
         "y": [
          930.0,
          1303.3333333333333,
          387.07438016528926,
          586.3370786516854
         ],
         "yaxis": "y3",
         "type": "bar"
        },
        {
         "alignmentgroup": "True",
         "hovertemplate": "method=ih<br>max_delay=300<br>duration_minutes=5.0<br>area=%{x}<br>cost_per_request=%{y}<extra></extra>",
         "legendgroup": "ih",
         "marker": {
          "color": "#636efa",
          "pattern": {
           "shape": ""
          }
         },
         "name": "ih",
         "offsetgroup": "ih",
         "orientation": "v",
         "showlegend": false,
         "textposition": "auto",
         "x": [
          "Chicago",
          "DC",
          "Manhattan",
          "NYC"
         ],
         "xaxis": "x4",
         "y": [
          805.7142857142857,
          1207.7777777777778,
          349.65018094089265,
          525.9977064220184
         ],
         "yaxis": "y4",
         "type": "bar"
        },
        {
         "alignmentgroup": "True",
         "hovertemplate": "method=vga<br>max_delay=180<br>duration_minutes=0.5<br>area=%{x}<br>cost_per_request=%{y}<extra></extra>",
         "legendgroup": "vga",
         "marker": {
          "color": "#EF553B",
          "pattern": {
           "shape": ""
          }
         },
         "name": "vga",
         "offsetgroup": "vga",
         "orientation": "v",
         "showlegend": true,
         "textposition": "auto",
         "x": [
          "Chicago",
          "DC",
          "Manhattan",
          "NYC"
         ],
         "xaxis": "x5",
         "y": [
          900.0,
          2115.0,
          469.7142857142857,
          774.7112462006079
         ],
         "yaxis": "y5",
         "type": "bar"
        },
        {
         "alignmentgroup": "True",
         "hovertemplate": "method=vga<br>max_delay=180<br>duration_minutes=1.0<br>area=%{x}<br>cost_per_request=%{y}<extra></extra>",
         "legendgroup": "vga",
         "marker": {
          "color": "#EF553B",
          "pattern": {
           "shape": ""
          }
         },
         "name": "vga",
         "offsetgroup": "vga",
         "orientation": "v",
         "showlegend": false,
         "textposition": "auto",
         "x": [
          "Chicago",
          "DC",
          "Manhattan",
          "NYC"
         ],
         "xaxis": "x6",
         "y": [
          1144.6153846153845,
          1705.7142857142858,
          424.4055944055944,
          668.8821752265861
         ],
         "yaxis": "y6",
         "type": "bar"
        },
        {
         "alignmentgroup": "True",
         "hovertemplate": "method=vga<br>max_delay=180<br>duration_minutes=2.0<br>area=%{x}<br>cost_per_request=%{y}<extra></extra>",
         "legendgroup": "vga",
         "marker": {
          "color": "#EF553B",
          "pattern": {
           "shape": ""
          }
         },
         "name": "vga",
         "offsetgroup": "vga",
         "orientation": "v",
         "showlegend": false,
         "textposition": "auto",
         "x": [
          "Chicago",
          "DC",
          "Manhattan",
          "NYC"
         ],
         "xaxis": "x7",
         "y": [
          919.2857142857143,
          1303.3333333333333,
          357.6198347107438,
          614.1123595505618
         ],
         "yaxis": "y7",
         "type": "bar"
        },
        {
         "alignmentgroup": "True",
         "hovertemplate": "method=vga<br>max_delay=180<br>duration_minutes=5.0<br>area=%{x}<br>cost_per_request=%{y}<extra></extra>",
         "legendgroup": "vga",
         "marker": {
          "color": "#EF553B",
          "pattern": {
           "shape": ""
          }
         },
         "name": "vga",
         "offsetgroup": "vga",
         "orientation": "v",
         "showlegend": false,
         "textposition": "auto",
         "x": [
          "Chicago",
          "DC"
         ],
         "xaxis": "x8",
         "y": [
          867.6923076923077,
          1314.4444444444443
         ],
         "yaxis": "y8",
         "type": "bar"
        },
        {
         "alignmentgroup": "True",
         "hovertemplate": "method=vga<br>max_delay=300<br>duration_minutes=0.5<br>area=%{x}<br>cost_per_request=%{y}<extra></extra>",
         "legendgroup": "vga",
         "marker": {
          "color": "#EF553B",
          "pattern": {
           "shape": ""
          }
         },
         "name": "vga",
         "offsetgroup": "vga",
         "orientation": "v",
         "showlegend": false,
         "textposition": "auto",
         "x": [
          "Chicago",
          "DC",
          "Manhattan",
          "NYC"
         ],
         "xaxis": "x",
         "y": [
          696.0,
          2115.0,
          398.57142857142856,
          667.112462006079
         ],
         "yaxis": "y",
         "type": "bar"
        },
        {
         "alignmentgroup": "True",
         "hovertemplate": "method=vga<br>max_delay=300<br>duration_minutes=1.0<br>area=%{x}<br>cost_per_request=%{y}<extra></extra>",
         "legendgroup": "vga",
         "marker": {
          "color": "#EF553B",
          "pattern": {
           "shape": ""
          }
         },
         "name": "vga",
         "offsetgroup": "vga",
         "orientation": "v",
         "showlegend": false,
         "textposition": "auto",
         "x": [
          "Chicago",
          "DC",
          "Manhattan",
          "NYC"
         ],
         "xaxis": "x2",
         "y": [
          1107.6923076923076,
          1705.7142857142858,
          352.02797202797206,
          578.5196374622357
         ],
         "yaxis": "y2",
         "type": "bar"
        },
        {
         "alignmentgroup": "True",
         "hovertemplate": "method=vga<br>max_delay=300<br>duration_minutes=2.0<br>area=%{x}<br>cost_per_request=%{y}<extra></extra>",
         "legendgroup": "vga",
         "marker": {
          "color": "#EF553B",
          "pattern": {
           "shape": ""
          }
         },
         "name": "vga",
         "offsetgroup": "vga",
         "orientation": "v",
         "showlegend": false,
         "textposition": "auto",
         "x": [
          "Chicago",
          "DC",
          "Manhattan"
         ],
         "xaxis": "x3",
         "y": [
          895.7142857142857,
          1276.6666666666667,
          296.1322314049587
         ],
         "yaxis": "y3",
         "type": "bar"
        },
        {
         "alignmentgroup": "True",
         "hovertemplate": "method=vga<br>max_delay=300<br>duration_minutes=5.0<br>area=%{x}<br>cost_per_request=%{y}<extra></extra>",
         "legendgroup": "vga",
         "marker": {
          "color": "#EF553B",
          "pattern": {
           "shape": ""
          }
         },
         "name": "vga",
         "offsetgroup": "vga",
         "orientation": "v",
         "showlegend": false,
         "textposition": "auto",
         "x": [
          "Chicago",
          "DC"
         ],
         "xaxis": "x4",
         "y": [
          754.2857142857143,
          1138.888888888889
         ],
         "yaxis": "y4",
         "type": "bar"
        }
       ],
       "layout": {
        "template": {
         "data": {
          "histogram2dcontour": [
           {
            "type": "histogram2dcontour",
            "colorbar": {
             "outlinewidth": 0,
             "ticks": ""
            },
            "colorscale": [
             [
              0.0,
              "#0d0887"
             ],
             [
              0.1111111111111111,
              "#46039f"
             ],
             [
              0.2222222222222222,
              "#7201a8"
             ],
             [
              0.3333333333333333,
              "#9c179e"
             ],
             [
              0.4444444444444444,
              "#bd3786"
             ],
             [
              0.5555555555555556,
              "#d8576b"
             ],
             [
              0.6666666666666666,
              "#ed7953"
             ],
             [
              0.7777777777777778,
              "#fb9f3a"
             ],
             [
              0.8888888888888888,
              "#fdca26"
             ],
             [
              1.0,
              "#f0f921"
             ]
            ]
           }
          ],
          "choropleth": [
           {
            "type": "choropleth",
            "colorbar": {
             "outlinewidth": 0,
             "ticks": ""
            }
           }
          ],
          "histogram2d": [
           {
            "type": "histogram2d",
            "colorbar": {
             "outlinewidth": 0,
             "ticks": ""
            },
            "colorscale": [
             [
              0.0,
              "#0d0887"
             ],
             [
              0.1111111111111111,
              "#46039f"
             ],
             [
              0.2222222222222222,
              "#7201a8"
             ],
             [
              0.3333333333333333,
              "#9c179e"
             ],
             [
              0.4444444444444444,
              "#bd3786"
             ],
             [
              0.5555555555555556,
              "#d8576b"
             ],
             [
              0.6666666666666666,
              "#ed7953"
             ],
             [
              0.7777777777777778,
              "#fb9f3a"
             ],
             [
              0.8888888888888888,
              "#fdca26"
             ],
             [
              1.0,
              "#f0f921"
             ]
            ]
           }
          ],
          "heatmap": [
           {
            "type": "heatmap",
            "colorbar": {
             "outlinewidth": 0,
             "ticks": ""
            },
            "colorscale": [
             [
              0.0,
              "#0d0887"
             ],
             [
              0.1111111111111111,
              "#46039f"
             ],
             [
              0.2222222222222222,
              "#7201a8"
             ],
             [
              0.3333333333333333,
              "#9c179e"
             ],
             [
              0.4444444444444444,
              "#bd3786"
             ],
             [
              0.5555555555555556,
              "#d8576b"
             ],
             [
              0.6666666666666666,
              "#ed7953"
             ],
             [
              0.7777777777777778,
              "#fb9f3a"
             ],
             [
              0.8888888888888888,
              "#fdca26"
             ],
             [
              1.0,
              "#f0f921"
             ]
            ]
           }
          ],
          "heatmapgl": [
           {
            "type": "heatmapgl",
            "colorbar": {
             "outlinewidth": 0,
             "ticks": ""
            },
            "colorscale": [
             [
              0.0,
              "#0d0887"
             ],
             [
              0.1111111111111111,
              "#46039f"
             ],
             [
              0.2222222222222222,
              "#7201a8"
             ],
             [
              0.3333333333333333,
              "#9c179e"
             ],
             [
              0.4444444444444444,
              "#bd3786"
             ],
             [
              0.5555555555555556,
              "#d8576b"
             ],
             [
              0.6666666666666666,
              "#ed7953"
             ],
             [
              0.7777777777777778,
              "#fb9f3a"
             ],
             [
              0.8888888888888888,
              "#fdca26"
             ],
             [
              1.0,
              "#f0f921"
             ]
            ]
           }
          ],
          "contourcarpet": [
           {
            "type": "contourcarpet",
            "colorbar": {
             "outlinewidth": 0,
             "ticks": ""
            }
           }
          ],
          "contour": [
           {
            "type": "contour",
            "colorbar": {
             "outlinewidth": 0,
             "ticks": ""
            },
            "colorscale": [
             [
              0.0,
              "#0d0887"
             ],
             [
              0.1111111111111111,
              "#46039f"
             ],
             [
              0.2222222222222222,
              "#7201a8"
             ],
             [
              0.3333333333333333,
              "#9c179e"
             ],
             [
              0.4444444444444444,
              "#bd3786"
             ],
             [
              0.5555555555555556,
              "#d8576b"
             ],
             [
              0.6666666666666666,
              "#ed7953"
             ],
             [
              0.7777777777777778,
              "#fb9f3a"
             ],
             [
              0.8888888888888888,
              "#fdca26"
             ],
             [
              1.0,
              "#f0f921"
             ]
            ]
           }
          ],
          "surface": [
           {
            "type": "surface",
            "colorbar": {
             "outlinewidth": 0,
             "ticks": ""
            },
            "colorscale": [
             [
              0.0,
              "#0d0887"
             ],
             [
              0.1111111111111111,
              "#46039f"
             ],
             [
              0.2222222222222222,
              "#7201a8"
             ],
             [
              0.3333333333333333,
              "#9c179e"
             ],
             [
              0.4444444444444444,
              "#bd3786"
             ],
             [
              0.5555555555555556,
              "#d8576b"
             ],
             [
              0.6666666666666666,
              "#ed7953"
             ],
             [
              0.7777777777777778,
              "#fb9f3a"
             ],
             [
              0.8888888888888888,
              "#fdca26"
             ],
             [
              1.0,
              "#f0f921"
             ]
            ]
           }
          ],
          "mesh3d": [
           {
            "type": "mesh3d",
            "colorbar": {
             "outlinewidth": 0,
             "ticks": ""
            }
           }
          ],
          "scatter": [
           {
            "fillpattern": {
             "fillmode": "overlay",
             "size": 10,
             "solidity": 0.2
            },
            "type": "scatter"
           }
          ],
          "parcoords": [
           {
            "type": "parcoords",
            "line": {
             "colorbar": {
              "outlinewidth": 0,
              "ticks": ""
             }
            }
           }
          ],
          "scatterpolargl": [
           {
            "type": "scatterpolargl",
            "marker": {
             "colorbar": {
              "outlinewidth": 0,
              "ticks": ""
             }
            }
           }
          ],
          "bar": [
           {
            "error_x": {
             "color": "#2a3f5f"
            },
            "error_y": {
             "color": "#2a3f5f"
            },
            "marker": {
             "line": {
              "color": "#E5ECF6",
              "width": 0.5
             },
             "pattern": {
              "fillmode": "overlay",
              "size": 10,
              "solidity": 0.2
             }
            },
            "type": "bar"
           }
          ],
          "scattergeo": [
           {
            "type": "scattergeo",
            "marker": {
             "colorbar": {
              "outlinewidth": 0,
              "ticks": ""
             }
            }
           }
          ],
          "scatterpolar": [
           {
            "type": "scatterpolar",
            "marker": {
             "colorbar": {
              "outlinewidth": 0,
              "ticks": ""
             }
            }
           }
          ],
          "histogram": [
           {
            "marker": {
             "pattern": {
              "fillmode": "overlay",
              "size": 10,
              "solidity": 0.2
             }
            },
            "type": "histogram"
           }
          ],
          "scattergl": [
           {
            "type": "scattergl",
            "marker": {
             "colorbar": {
              "outlinewidth": 0,
              "ticks": ""
             }
            }
           }
          ],
          "scatter3d": [
           {
            "type": "scatter3d",
            "line": {
             "colorbar": {
              "outlinewidth": 0,
              "ticks": ""
             }
            },
            "marker": {
             "colorbar": {
              "outlinewidth": 0,
              "ticks": ""
             }
            }
           }
          ],
          "scattermapbox": [
           {
            "type": "scattermapbox",
            "marker": {
             "colorbar": {
              "outlinewidth": 0,
              "ticks": ""
             }
            }
           }
          ],
          "scatterternary": [
           {
            "type": "scatterternary",
            "marker": {
             "colorbar": {
              "outlinewidth": 0,
              "ticks": ""
             }
            }
           }
          ],
          "scattercarpet": [
           {
            "type": "scattercarpet",
            "marker": {
             "colorbar": {
              "outlinewidth": 0,
              "ticks": ""
             }
            }
           }
          ],
          "carpet": [
           {
            "aaxis": {
             "endlinecolor": "#2a3f5f",
             "gridcolor": "white",
             "linecolor": "white",
             "minorgridcolor": "white",
             "startlinecolor": "#2a3f5f"
            },
            "baxis": {
             "endlinecolor": "#2a3f5f",
             "gridcolor": "white",
             "linecolor": "white",
             "minorgridcolor": "white",
             "startlinecolor": "#2a3f5f"
            },
            "type": "carpet"
           }
          ],
          "table": [
           {
            "cells": {
             "fill": {
              "color": "#EBF0F8"
             },
             "line": {
              "color": "white"
             }
            },
            "header": {
             "fill": {
              "color": "#C8D4E3"
             },
             "line": {
              "color": "white"
             }
            },
            "type": "table"
           }
          ],
          "barpolar": [
           {
            "marker": {
             "line": {
              "color": "#E5ECF6",
              "width": 0.5
             },
             "pattern": {
              "fillmode": "overlay",
              "size": 10,
              "solidity": 0.2
             }
            },
            "type": "barpolar"
           }
          ],
          "pie": [
           {
            "automargin": true,
            "type": "pie"
           }
          ]
         },
         "layout": {
          "autotypenumbers": "strict",
          "colorway": [
           "#636efa",
           "#EF553B",
           "#00cc96",
           "#ab63fa",
           "#FFA15A",
           "#19d3f3",
           "#FF6692",
           "#B6E880",
           "#FF97FF",
           "#FECB52"
          ],
          "font": {
           "color": "#2a3f5f"
          },
          "hovermode": "closest",
          "hoverlabel": {
           "align": "left"
          },
          "paper_bgcolor": "white",
          "plot_bgcolor": "#E5ECF6",
          "polar": {
           "bgcolor": "#E5ECF6",
           "angularaxis": {
            "gridcolor": "white",
            "linecolor": "white",
            "ticks": ""
           },
           "radialaxis": {
            "gridcolor": "white",
            "linecolor": "white",
            "ticks": ""
           }
          },
          "ternary": {
           "bgcolor": "#E5ECF6",
           "aaxis": {
            "gridcolor": "white",
            "linecolor": "white",
            "ticks": ""
           },
           "baxis": {
            "gridcolor": "white",
            "linecolor": "white",
            "ticks": ""
           },
           "caxis": {
            "gridcolor": "white",
            "linecolor": "white",
            "ticks": ""
           }
          },
          "coloraxis": {
           "colorbar": {
            "outlinewidth": 0,
            "ticks": ""
           }
          },
          "colorscale": {
           "sequential": [
            [
             0.0,
             "#0d0887"
            ],
            [
             0.1111111111111111,
             "#46039f"
            ],
            [
             0.2222222222222222,
             "#7201a8"
            ],
            [
             0.3333333333333333,
             "#9c179e"
            ],
            [
             0.4444444444444444,
             "#bd3786"
            ],
            [
             0.5555555555555556,
             "#d8576b"
            ],
            [
             0.6666666666666666,
             "#ed7953"
            ],
            [
             0.7777777777777778,
             "#fb9f3a"
            ],
            [
             0.8888888888888888,
             "#fdca26"
            ],
            [
             1.0,
             "#f0f921"
            ]
           ],
           "sequentialminus": [
            [
             0.0,
             "#0d0887"
            ],
            [
             0.1111111111111111,
             "#46039f"
            ],
            [
             0.2222222222222222,
             "#7201a8"
            ],
            [
             0.3333333333333333,
             "#9c179e"
            ],
            [
             0.4444444444444444,
             "#bd3786"
            ],
            [
             0.5555555555555556,
             "#d8576b"
            ],
            [
             0.6666666666666666,
             "#ed7953"
            ],
            [
             0.7777777777777778,
             "#fb9f3a"
            ],
            [
             0.8888888888888888,
             "#fdca26"
            ],
            [
             1.0,
             "#f0f921"
            ]
           ],
           "diverging": [
            [
             0,
             "#8e0152"
            ],
            [
             0.1,
             "#c51b7d"
            ],
            [
             0.2,
             "#de77ae"
            ],
            [
             0.3,
             "#f1b6da"
            ],
            [
             0.4,
             "#fde0ef"
            ],
            [
             0.5,
             "#f7f7f7"
            ],
            [
             0.6,
             "#e6f5d0"
            ],
            [
             0.7,
             "#b8e186"
            ],
            [
             0.8,
             "#7fbc41"
            ],
            [
             0.9,
             "#4d9221"
            ],
            [
             1,
             "#276419"
            ]
           ]
          },
          "xaxis": {
           "gridcolor": "white",
           "linecolor": "white",
           "ticks": "",
           "title": {
            "standoff": 15
           },
           "zerolinecolor": "white",
           "automargin": true,
           "zerolinewidth": 2
          },
          "yaxis": {
           "gridcolor": "white",
           "linecolor": "white",
           "ticks": "",
           "title": {
            "standoff": 15
           },
           "zerolinecolor": "white",
           "automargin": true,
           "zerolinewidth": 2
          },
          "scene": {
           "xaxis": {
            "backgroundcolor": "#E5ECF6",
            "gridcolor": "white",
            "linecolor": "white",
            "showbackground": true,
            "ticks": "",
            "zerolinecolor": "white",
            "gridwidth": 2
           },
           "yaxis": {
            "backgroundcolor": "#E5ECF6",
            "gridcolor": "white",
            "linecolor": "white",
            "showbackground": true,
            "ticks": "",
            "zerolinecolor": "white",
            "gridwidth": 2
           },
           "zaxis": {
            "backgroundcolor": "#E5ECF6",
            "gridcolor": "white",
            "linecolor": "white",
            "showbackground": true,
            "ticks": "",
            "zerolinecolor": "white",
            "gridwidth": 2
           }
          },
          "shapedefaults": {
           "line": {
            "color": "#2a3f5f"
           }
          },
          "annotationdefaults": {
           "arrowcolor": "#2a3f5f",
           "arrowhead": 0,
           "arrowwidth": 1
          },
          "geo": {
           "bgcolor": "white",
           "landcolor": "#E5ECF6",
           "subunitcolor": "white",
           "showland": true,
           "showlakes": true,
           "lakecolor": "white"
          },
          "title": {
           "x": 0.05
          },
          "mapbox": {
           "style": "light"
          }
         }
        },
        "xaxis": {
         "anchor": "y",
         "domain": [
          0.0,
          0.22999999999999998
         ],
         "title": {
          "text": ""
         }
        },
        "yaxis": {
         "anchor": "x",
         "domain": [
          0.0,
          0.485
         ],
         "title": {
          "text": ""
         }
        },
        "xaxis2": {
         "anchor": "y2",
         "domain": [
          0.24999999999999997,
          0.48
         ],
         "matches": "x",
         "title": {
          "text": ""
         }
        },
        "yaxis2": {
         "anchor": "x2",
         "domain": [
          0.0,
          0.485
         ],
         "matches": "y",
         "showticklabels": false,
         "title": {
          "text": ""
         }
        },
        "xaxis3": {
         "anchor": "y3",
         "domain": [
          0.49999999999999994,
          0.73
         ],
         "matches": "x",
         "title": {
          "text": ""
         }
        },
        "yaxis3": {
         "anchor": "x3",
         "domain": [
          0.0,
          0.485
         ],
         "matches": "y",
         "showticklabels": false,
         "title": {
          "text": ""
         }
        },
        "xaxis4": {
         "anchor": "y4",
         "domain": [
          0.75,
          0.98
         ],
         "matches": "x",
         "title": {
          "text": ""
         }
        },
        "yaxis4": {
         "anchor": "x4",
         "domain": [
          0.0,
          0.485
         ],
         "matches": "y",
         "showticklabels": false,
         "title": {
          "text": ""
         }
        },
        "xaxis5": {
         "anchor": "y5",
         "domain": [
          0.0,
          0.22999999999999998
         ],
         "matches": "x",
         "showticklabels": false,
         "title": {
          "text": ""
         }
        },
        "yaxis5": {
         "anchor": "x5",
         "domain": [
          0.515,
          1.0
         ],
         "matches": "y",
         "title": {
          "text": ""
         }
        },
        "xaxis6": {
         "anchor": "y6",
         "domain": [
          0.24999999999999997,
          0.48
         ],
         "matches": "x",
         "showticklabels": false,
         "title": {
          "text": ""
         }
        },
        "yaxis6": {
         "anchor": "x6",
         "domain": [
          0.515,
          1.0
         ],
         "matches": "y",
         "showticklabels": false,
         "title": {
          "text": ""
         }
        },
        "xaxis7": {
         "anchor": "y7",
         "domain": [
          0.49999999999999994,
          0.73
         ],
         "matches": "x",
         "showticklabels": false,
         "title": {
          "text": ""
         }
        },
        "yaxis7": {
         "anchor": "x7",
         "domain": [
          0.515,
          1.0
         ],
         "matches": "y",
         "showticklabels": false,
         "title": {
          "text": ""
         }
        },
        "xaxis8": {
         "anchor": "y8",
         "domain": [
          0.75,
          0.98
         ],
         "matches": "x",
         "showticklabels": false,
         "title": {
          "text": ""
         }
        },
        "yaxis8": {
         "anchor": "x8",
         "domain": [
          0.515,
          1.0
         ],
         "matches": "y",
         "showticklabels": false,
         "title": {
          "text": ""
         }
        },
        "annotations": [
         {
          "showarrow": false,
          "text": "0.5",
          "x": 0.11499999999999999,
          "xanchor": "center",
          "xref": "paper",
          "y": 1.0,
          "yanchor": "bottom",
          "yref": "paper"
         },
         {
          "showarrow": false,
          "text": "1.0",
          "x": 0.365,
          "xanchor": "center",
          "xref": "paper",
          "y": 1.0,
          "yanchor": "bottom",
          "yref": "paper"
         },
         {
          "showarrow": false,
          "text": "2.0",
          "x": 0.615,
          "xanchor": "center",
          "xref": "paper",
          "y": 1.0,
          "yanchor": "bottom",
          "yref": "paper"
         },
         {
          "showarrow": false,
          "text": "5.0",
          "x": 0.865,
          "xanchor": "center",
          "xref": "paper",
          "y": 1.0,
          "yanchor": "bottom",
          "yref": "paper"
         },
         {
          "showarrow": false,
          "text": "300",
          "textangle": 90,
          "x": 0.98,
          "xanchor": "left",
          "xref": "paper",
          "y": 0.2425,
          "yanchor": "middle",
          "yref": "paper"
         },
         {
          "showarrow": false,
          "text": "180",
          "textangle": 90,
          "x": 0.98,
          "xanchor": "left",
          "xref": "paper",
          "y": 0.7575000000000001,
          "yanchor": "middle",
          "yref": "paper"
         },
         {
          "showarrow": false,
          "text": "travel time per request [s]",
          "textangle": -90,
          "x": -0.06,
          "xref": "paper",
          "y": 0.5,
          "yref": "paper"
         }
        ],
        "legend": {
         "title": {
          "text": "method"
         },
         "tracegroupgap": 0
        },
        "title": {
         "text": "Average Cost per Request"
        },
        "barmode": "group"
       },
       "config": {
        "plotlyServerURL": "https://plot.ly"
       }
      },
      "text/html": "<div>                            <div id=\"20c8a773-b2f7-4afa-a954-7e12777ac347\" class=\"plotly-graph-div\" style=\"height:525px; width:100%;\"></div>            <script type=\"text/javascript\">                require([\"plotly\"], function(Plotly) {                    window.PLOTLYENV=window.PLOTLYENV || {};                                    if (document.getElementById(\"20c8a773-b2f7-4afa-a954-7e12777ac347\")) {                    Plotly.newPlot(                        \"20c8a773-b2f7-4afa-a954-7e12777ac347\",                        [{\"alignmentgroup\":\"True\",\"hovertemplate\":\"method=ih<br>max_delay=180<br>duration_minutes=0.5<br>area=%{x}<br>cost_per_request=%{y}<extra></extra>\",\"legendgroup\":\"ih\",\"marker\":{\"color\":\"#636efa\",\"pattern\":{\"shape\":\"\"}},\"name\":\"ih\",\"offsetgroup\":\"ih\",\"orientation\":\"v\",\"showlegend\":true,\"textposition\":\"auto\",\"x\":[\"Chicago\",\"DC\",\"Manhattan\",\"NYC\"],\"xaxis\":\"x5\",\"y\":[1008.0,2115.0,498.42857142857144,823.7689969604863],\"yaxis\":\"y5\",\"type\":\"bar\"},{\"alignmentgroup\":\"True\",\"hovertemplate\":\"method=ih<br>max_delay=180<br>duration_minutes=1.0<br>area=%{x}<br>cost_per_request=%{y}<extra></extra>\",\"legendgroup\":\"ih\",\"marker\":{\"color\":\"#636efa\",\"pattern\":{\"shape\":\"\"}},\"name\":\"ih\",\"offsetgroup\":\"ih\",\"orientation\":\"v\",\"showlegend\":false,\"textposition\":\"auto\",\"x\":[\"Chicago\",\"DC\",\"Manhattan\",\"NYC\"],\"xaxis\":\"x6\",\"y\":[1153.8461538461538,1705.7142857142858,488.8111888111888,710.4833836858006],\"yaxis\":\"y6\",\"type\":\"bar\"},{\"alignmentgroup\":\"True\",\"hovertemplate\":\"method=ih<br>max_delay=180<br>duration_minutes=2.0<br>area=%{x}<br>cost_per_request=%{y}<extra></extra>\",\"legendgroup\":\"ih\",\"marker\":{\"color\":\"#636efa\",\"pattern\":{\"shape\":\"\"}},\"name\":\"ih\",\"offsetgroup\":\"ih\",\"orientation\":\"v\",\"showlegend\":false,\"textposition\":\"auto\",\"x\":[\"Chicago\",\"DC\",\"Manhattan\",\"NYC\"],\"xaxis\":\"x7\",\"y\":[949.2857142857143,1320.0,433.1900826446281,685.7528089887641],\"yaxis\":\"y7\",\"type\":\"bar\"},{\"alignmentgroup\":\"True\",\"hovertemplate\":\"method=ih<br>max_delay=180<br>duration_minutes=5.0<br>area=%{x}<br>cost_per_request=%{y}<extra></extra>\",\"legendgroup\":\"ih\",\"marker\":{\"color\":\"#636efa\",\"pattern\":{\"shape\":\"\"}},\"name\":\"ih\",\"offsetgroup\":\"ih\",\"orientation\":\"v\",\"showlegend\":false,\"textposition\":\"auto\",\"x\":[\"Chicago\",\"DC\",\"Manhattan\",\"NYC\"],\"xaxis\":\"x8\",\"y\":[954.065934065934,1334.4444444444443,378.45597104945716,597.1616972477065],\"yaxis\":\"y8\",\"type\":\"bar\"},{\"alignmentgroup\":\"True\",\"hovertemplate\":\"method=ih<br>max_delay=300<br>duration_minutes=0.5<br>area=%{x}<br>cost_per_request=%{y}<extra></extra>\",\"legendgroup\":\"ih\",\"marker\":{\"color\":\"#636efa\",\"pattern\":{\"shape\":\"\"}},\"name\":\"ih\",\"offsetgroup\":\"ih\",\"orientation\":\"v\",\"showlegend\":false,\"textposition\":\"auto\",\"x\":[\"Chicago\",\"DC\",\"Manhattan\",\"NYC\"],\"xaxis\":\"x\",\"y\":[696.0,2115.0,464.57142857142856,716.5349544072948],\"yaxis\":\"y\",\"type\":\"bar\"},{\"alignmentgroup\":\"True\",\"hovertemplate\":\"method=ih<br>max_delay=300<br>duration_minutes=1.0<br>area=%{x}<br>cost_per_request=%{y}<extra></extra>\",\"legendgroup\":\"ih\",\"marker\":{\"color\":\"#636efa\",\"pattern\":{\"shape\":\"\"}},\"name\":\"ih\",\"offsetgroup\":\"ih\",\"orientation\":\"v\",\"showlegend\":false,\"textposition\":\"auto\",\"x\":[\"Chicago\",\"DC\",\"Manhattan\",\"NYC\"],\"xaxis\":\"x2\",\"y\":[1144.6153846153845,1705.7142857142858,434.8951048951049,628.1873111782477],\"yaxis\":\"y2\",\"type\":\"bar\"},{\"alignmentgroup\":\"True\",\"hovertemplate\":\"method=ih<br>max_delay=300<br>duration_minutes=2.0<br>area=%{x}<br>cost_per_request=%{y}<extra></extra>\",\"legendgroup\":\"ih\",\"marker\":{\"color\":\"#636efa\",\"pattern\":{\"shape\":\"\"}},\"name\":\"ih\",\"offsetgroup\":\"ih\",\"orientation\":\"v\",\"showlegend\":false,\"textposition\":\"auto\",\"x\":[\"Chicago\",\"DC\",\"Manhattan\",\"NYC\"],\"xaxis\":\"x3\",\"y\":[930.0,1303.3333333333333,387.07438016528926,586.3370786516854],\"yaxis\":\"y3\",\"type\":\"bar\"},{\"alignmentgroup\":\"True\",\"hovertemplate\":\"method=ih<br>max_delay=300<br>duration_minutes=5.0<br>area=%{x}<br>cost_per_request=%{y}<extra></extra>\",\"legendgroup\":\"ih\",\"marker\":{\"color\":\"#636efa\",\"pattern\":{\"shape\":\"\"}},\"name\":\"ih\",\"offsetgroup\":\"ih\",\"orientation\":\"v\",\"showlegend\":false,\"textposition\":\"auto\",\"x\":[\"Chicago\",\"DC\",\"Manhattan\",\"NYC\"],\"xaxis\":\"x4\",\"y\":[805.7142857142857,1207.7777777777778,349.65018094089265,525.9977064220184],\"yaxis\":\"y4\",\"type\":\"bar\"},{\"alignmentgroup\":\"True\",\"hovertemplate\":\"method=vga<br>max_delay=180<br>duration_minutes=0.5<br>area=%{x}<br>cost_per_request=%{y}<extra></extra>\",\"legendgroup\":\"vga\",\"marker\":{\"color\":\"#EF553B\",\"pattern\":{\"shape\":\"\"}},\"name\":\"vga\",\"offsetgroup\":\"vga\",\"orientation\":\"v\",\"showlegend\":true,\"textposition\":\"auto\",\"x\":[\"Chicago\",\"DC\",\"Manhattan\",\"NYC\"],\"xaxis\":\"x5\",\"y\":[900.0,2115.0,469.7142857142857,774.7112462006079],\"yaxis\":\"y5\",\"type\":\"bar\"},{\"alignmentgroup\":\"True\",\"hovertemplate\":\"method=vga<br>max_delay=180<br>duration_minutes=1.0<br>area=%{x}<br>cost_per_request=%{y}<extra></extra>\",\"legendgroup\":\"vga\",\"marker\":{\"color\":\"#EF553B\",\"pattern\":{\"shape\":\"\"}},\"name\":\"vga\",\"offsetgroup\":\"vga\",\"orientation\":\"v\",\"showlegend\":false,\"textposition\":\"auto\",\"x\":[\"Chicago\",\"DC\",\"Manhattan\",\"NYC\"],\"xaxis\":\"x6\",\"y\":[1144.6153846153845,1705.7142857142858,424.4055944055944,668.8821752265861],\"yaxis\":\"y6\",\"type\":\"bar\"},{\"alignmentgroup\":\"True\",\"hovertemplate\":\"method=vga<br>max_delay=180<br>duration_minutes=2.0<br>area=%{x}<br>cost_per_request=%{y}<extra></extra>\",\"legendgroup\":\"vga\",\"marker\":{\"color\":\"#EF553B\",\"pattern\":{\"shape\":\"\"}},\"name\":\"vga\",\"offsetgroup\":\"vga\",\"orientation\":\"v\",\"showlegend\":false,\"textposition\":\"auto\",\"x\":[\"Chicago\",\"DC\",\"Manhattan\",\"NYC\"],\"xaxis\":\"x7\",\"y\":[919.2857142857143,1303.3333333333333,357.6198347107438,614.1123595505618],\"yaxis\":\"y7\",\"type\":\"bar\"},{\"alignmentgroup\":\"True\",\"hovertemplate\":\"method=vga<br>max_delay=180<br>duration_minutes=5.0<br>area=%{x}<br>cost_per_request=%{y}<extra></extra>\",\"legendgroup\":\"vga\",\"marker\":{\"color\":\"#EF553B\",\"pattern\":{\"shape\":\"\"}},\"name\":\"vga\",\"offsetgroup\":\"vga\",\"orientation\":\"v\",\"showlegend\":false,\"textposition\":\"auto\",\"x\":[\"Chicago\",\"DC\"],\"xaxis\":\"x8\",\"y\":[867.6923076923077,1314.4444444444443],\"yaxis\":\"y8\",\"type\":\"bar\"},{\"alignmentgroup\":\"True\",\"hovertemplate\":\"method=vga<br>max_delay=300<br>duration_minutes=0.5<br>area=%{x}<br>cost_per_request=%{y}<extra></extra>\",\"legendgroup\":\"vga\",\"marker\":{\"color\":\"#EF553B\",\"pattern\":{\"shape\":\"\"}},\"name\":\"vga\",\"offsetgroup\":\"vga\",\"orientation\":\"v\",\"showlegend\":false,\"textposition\":\"auto\",\"x\":[\"Chicago\",\"DC\",\"Manhattan\",\"NYC\"],\"xaxis\":\"x\",\"y\":[696.0,2115.0,398.57142857142856,667.112462006079],\"yaxis\":\"y\",\"type\":\"bar\"},{\"alignmentgroup\":\"True\",\"hovertemplate\":\"method=vga<br>max_delay=300<br>duration_minutes=1.0<br>area=%{x}<br>cost_per_request=%{y}<extra></extra>\",\"legendgroup\":\"vga\",\"marker\":{\"color\":\"#EF553B\",\"pattern\":{\"shape\":\"\"}},\"name\":\"vga\",\"offsetgroup\":\"vga\",\"orientation\":\"v\",\"showlegend\":false,\"textposition\":\"auto\",\"x\":[\"Chicago\",\"DC\",\"Manhattan\",\"NYC\"],\"xaxis\":\"x2\",\"y\":[1107.6923076923076,1705.7142857142858,352.02797202797206,578.5196374622357],\"yaxis\":\"y2\",\"type\":\"bar\"},{\"alignmentgroup\":\"True\",\"hovertemplate\":\"method=vga<br>max_delay=300<br>duration_minutes=2.0<br>area=%{x}<br>cost_per_request=%{y}<extra></extra>\",\"legendgroup\":\"vga\",\"marker\":{\"color\":\"#EF553B\",\"pattern\":{\"shape\":\"\"}},\"name\":\"vga\",\"offsetgroup\":\"vga\",\"orientation\":\"v\",\"showlegend\":false,\"textposition\":\"auto\",\"x\":[\"Chicago\",\"DC\",\"Manhattan\"],\"xaxis\":\"x3\",\"y\":[895.7142857142857,1276.6666666666667,296.1322314049587],\"yaxis\":\"y3\",\"type\":\"bar\"},{\"alignmentgroup\":\"True\",\"hovertemplate\":\"method=vga<br>max_delay=300<br>duration_minutes=5.0<br>area=%{x}<br>cost_per_request=%{y}<extra></extra>\",\"legendgroup\":\"vga\",\"marker\":{\"color\":\"#EF553B\",\"pattern\":{\"shape\":\"\"}},\"name\":\"vga\",\"offsetgroup\":\"vga\",\"orientation\":\"v\",\"showlegend\":false,\"textposition\":\"auto\",\"x\":[\"Chicago\",\"DC\"],\"xaxis\":\"x4\",\"y\":[754.2857142857143,1138.888888888889],\"yaxis\":\"y4\",\"type\":\"bar\"}],                        {\"template\":{\"data\":{\"histogram2dcontour\":[{\"type\":\"histogram2dcontour\",\"colorbar\":{\"outlinewidth\":0,\"ticks\":\"\"},\"colorscale\":[[0.0,\"#0d0887\"],[0.1111111111111111,\"#46039f\"],[0.2222222222222222,\"#7201a8\"],[0.3333333333333333,\"#9c179e\"],[0.4444444444444444,\"#bd3786\"],[0.5555555555555556,\"#d8576b\"],[0.6666666666666666,\"#ed7953\"],[0.7777777777777778,\"#fb9f3a\"],[0.8888888888888888,\"#fdca26\"],[1.0,\"#f0f921\"]]}],\"choropleth\":[{\"type\":\"choropleth\",\"colorbar\":{\"outlinewidth\":0,\"ticks\":\"\"}}],\"histogram2d\":[{\"type\":\"histogram2d\",\"colorbar\":{\"outlinewidth\":0,\"ticks\":\"\"},\"colorscale\":[[0.0,\"#0d0887\"],[0.1111111111111111,\"#46039f\"],[0.2222222222222222,\"#7201a8\"],[0.3333333333333333,\"#9c179e\"],[0.4444444444444444,\"#bd3786\"],[0.5555555555555556,\"#d8576b\"],[0.6666666666666666,\"#ed7953\"],[0.7777777777777778,\"#fb9f3a\"],[0.8888888888888888,\"#fdca26\"],[1.0,\"#f0f921\"]]}],\"heatmap\":[{\"type\":\"heatmap\",\"colorbar\":{\"outlinewidth\":0,\"ticks\":\"\"},\"colorscale\":[[0.0,\"#0d0887\"],[0.1111111111111111,\"#46039f\"],[0.2222222222222222,\"#7201a8\"],[0.3333333333333333,\"#9c179e\"],[0.4444444444444444,\"#bd3786\"],[0.5555555555555556,\"#d8576b\"],[0.6666666666666666,\"#ed7953\"],[0.7777777777777778,\"#fb9f3a\"],[0.8888888888888888,\"#fdca26\"],[1.0,\"#f0f921\"]]}],\"heatmapgl\":[{\"type\":\"heatmapgl\",\"colorbar\":{\"outlinewidth\":0,\"ticks\":\"\"},\"colorscale\":[[0.0,\"#0d0887\"],[0.1111111111111111,\"#46039f\"],[0.2222222222222222,\"#7201a8\"],[0.3333333333333333,\"#9c179e\"],[0.4444444444444444,\"#bd3786\"],[0.5555555555555556,\"#d8576b\"],[0.6666666666666666,\"#ed7953\"],[0.7777777777777778,\"#fb9f3a\"],[0.8888888888888888,\"#fdca26\"],[1.0,\"#f0f921\"]]}],\"contourcarpet\":[{\"type\":\"contourcarpet\",\"colorbar\":{\"outlinewidth\":0,\"ticks\":\"\"}}],\"contour\":[{\"type\":\"contour\",\"colorbar\":{\"outlinewidth\":0,\"ticks\":\"\"},\"colorscale\":[[0.0,\"#0d0887\"],[0.1111111111111111,\"#46039f\"],[0.2222222222222222,\"#7201a8\"],[0.3333333333333333,\"#9c179e\"],[0.4444444444444444,\"#bd3786\"],[0.5555555555555556,\"#d8576b\"],[0.6666666666666666,\"#ed7953\"],[0.7777777777777778,\"#fb9f3a\"],[0.8888888888888888,\"#fdca26\"],[1.0,\"#f0f921\"]]}],\"surface\":[{\"type\":\"surface\",\"colorbar\":{\"outlinewidth\":0,\"ticks\":\"\"},\"colorscale\":[[0.0,\"#0d0887\"],[0.1111111111111111,\"#46039f\"],[0.2222222222222222,\"#7201a8\"],[0.3333333333333333,\"#9c179e\"],[0.4444444444444444,\"#bd3786\"],[0.5555555555555556,\"#d8576b\"],[0.6666666666666666,\"#ed7953\"],[0.7777777777777778,\"#fb9f3a\"],[0.8888888888888888,\"#fdca26\"],[1.0,\"#f0f921\"]]}],\"mesh3d\":[{\"type\":\"mesh3d\",\"colorbar\":{\"outlinewidth\":0,\"ticks\":\"\"}}],\"scatter\":[{\"fillpattern\":{\"fillmode\":\"overlay\",\"size\":10,\"solidity\":0.2},\"type\":\"scatter\"}],\"parcoords\":[{\"type\":\"parcoords\",\"line\":{\"colorbar\":{\"outlinewidth\":0,\"ticks\":\"\"}}}],\"scatterpolargl\":[{\"type\":\"scatterpolargl\",\"marker\":{\"colorbar\":{\"outlinewidth\":0,\"ticks\":\"\"}}}],\"bar\":[{\"error_x\":{\"color\":\"#2a3f5f\"},\"error_y\":{\"color\":\"#2a3f5f\"},\"marker\":{\"line\":{\"color\":\"#E5ECF6\",\"width\":0.5},\"pattern\":{\"fillmode\":\"overlay\",\"size\":10,\"solidity\":0.2}},\"type\":\"bar\"}],\"scattergeo\":[{\"type\":\"scattergeo\",\"marker\":{\"colorbar\":{\"outlinewidth\":0,\"ticks\":\"\"}}}],\"scatterpolar\":[{\"type\":\"scatterpolar\",\"marker\":{\"colorbar\":{\"outlinewidth\":0,\"ticks\":\"\"}}}],\"histogram\":[{\"marker\":{\"pattern\":{\"fillmode\":\"overlay\",\"size\":10,\"solidity\":0.2}},\"type\":\"histogram\"}],\"scattergl\":[{\"type\":\"scattergl\",\"marker\":{\"colorbar\":{\"outlinewidth\":0,\"ticks\":\"\"}}}],\"scatter3d\":[{\"type\":\"scatter3d\",\"line\":{\"colorbar\":{\"outlinewidth\":0,\"ticks\":\"\"}},\"marker\":{\"colorbar\":{\"outlinewidth\":0,\"ticks\":\"\"}}}],\"scattermapbox\":[{\"type\":\"scattermapbox\",\"marker\":{\"colorbar\":{\"outlinewidth\":0,\"ticks\":\"\"}}}],\"scatterternary\":[{\"type\":\"scatterternary\",\"marker\":{\"colorbar\":{\"outlinewidth\":0,\"ticks\":\"\"}}}],\"scattercarpet\":[{\"type\":\"scattercarpet\",\"marker\":{\"colorbar\":{\"outlinewidth\":0,\"ticks\":\"\"}}}],\"carpet\":[{\"aaxis\":{\"endlinecolor\":\"#2a3f5f\",\"gridcolor\":\"white\",\"linecolor\":\"white\",\"minorgridcolor\":\"white\",\"startlinecolor\":\"#2a3f5f\"},\"baxis\":{\"endlinecolor\":\"#2a3f5f\",\"gridcolor\":\"white\",\"linecolor\":\"white\",\"minorgridcolor\":\"white\",\"startlinecolor\":\"#2a3f5f\"},\"type\":\"carpet\"}],\"table\":[{\"cells\":{\"fill\":{\"color\":\"#EBF0F8\"},\"line\":{\"color\":\"white\"}},\"header\":{\"fill\":{\"color\":\"#C8D4E3\"},\"line\":{\"color\":\"white\"}},\"type\":\"table\"}],\"barpolar\":[{\"marker\":{\"line\":{\"color\":\"#E5ECF6\",\"width\":0.5},\"pattern\":{\"fillmode\":\"overlay\",\"size\":10,\"solidity\":0.2}},\"type\":\"barpolar\"}],\"pie\":[{\"automargin\":true,\"type\":\"pie\"}]},\"layout\":{\"autotypenumbers\":\"strict\",\"colorway\":[\"#636efa\",\"#EF553B\",\"#00cc96\",\"#ab63fa\",\"#FFA15A\",\"#19d3f3\",\"#FF6692\",\"#B6E880\",\"#FF97FF\",\"#FECB52\"],\"font\":{\"color\":\"#2a3f5f\"},\"hovermode\":\"closest\",\"hoverlabel\":{\"align\":\"left\"},\"paper_bgcolor\":\"white\",\"plot_bgcolor\":\"#E5ECF6\",\"polar\":{\"bgcolor\":\"#E5ECF6\",\"angularaxis\":{\"gridcolor\":\"white\",\"linecolor\":\"white\",\"ticks\":\"\"},\"radialaxis\":{\"gridcolor\":\"white\",\"linecolor\":\"white\",\"ticks\":\"\"}},\"ternary\":{\"bgcolor\":\"#E5ECF6\",\"aaxis\":{\"gridcolor\":\"white\",\"linecolor\":\"white\",\"ticks\":\"\"},\"baxis\":{\"gridcolor\":\"white\",\"linecolor\":\"white\",\"ticks\":\"\"},\"caxis\":{\"gridcolor\":\"white\",\"linecolor\":\"white\",\"ticks\":\"\"}},\"coloraxis\":{\"colorbar\":{\"outlinewidth\":0,\"ticks\":\"\"}},\"colorscale\":{\"sequential\":[[0.0,\"#0d0887\"],[0.1111111111111111,\"#46039f\"],[0.2222222222222222,\"#7201a8\"],[0.3333333333333333,\"#9c179e\"],[0.4444444444444444,\"#bd3786\"],[0.5555555555555556,\"#d8576b\"],[0.6666666666666666,\"#ed7953\"],[0.7777777777777778,\"#fb9f3a\"],[0.8888888888888888,\"#fdca26\"],[1.0,\"#f0f921\"]],\"sequentialminus\":[[0.0,\"#0d0887\"],[0.1111111111111111,\"#46039f\"],[0.2222222222222222,\"#7201a8\"],[0.3333333333333333,\"#9c179e\"],[0.4444444444444444,\"#bd3786\"],[0.5555555555555556,\"#d8576b\"],[0.6666666666666666,\"#ed7953\"],[0.7777777777777778,\"#fb9f3a\"],[0.8888888888888888,\"#fdca26\"],[1.0,\"#f0f921\"]],\"diverging\":[[0,\"#8e0152\"],[0.1,\"#c51b7d\"],[0.2,\"#de77ae\"],[0.3,\"#f1b6da\"],[0.4,\"#fde0ef\"],[0.5,\"#f7f7f7\"],[0.6,\"#e6f5d0\"],[0.7,\"#b8e186\"],[0.8,\"#7fbc41\"],[0.9,\"#4d9221\"],[1,\"#276419\"]]},\"xaxis\":{\"gridcolor\":\"white\",\"linecolor\":\"white\",\"ticks\":\"\",\"title\":{\"standoff\":15},\"zerolinecolor\":\"white\",\"automargin\":true,\"zerolinewidth\":2},\"yaxis\":{\"gridcolor\":\"white\",\"linecolor\":\"white\",\"ticks\":\"\",\"title\":{\"standoff\":15},\"zerolinecolor\":\"white\",\"automargin\":true,\"zerolinewidth\":2},\"scene\":{\"xaxis\":{\"backgroundcolor\":\"#E5ECF6\",\"gridcolor\":\"white\",\"linecolor\":\"white\",\"showbackground\":true,\"ticks\":\"\",\"zerolinecolor\":\"white\",\"gridwidth\":2},\"yaxis\":{\"backgroundcolor\":\"#E5ECF6\",\"gridcolor\":\"white\",\"linecolor\":\"white\",\"showbackground\":true,\"ticks\":\"\",\"zerolinecolor\":\"white\",\"gridwidth\":2},\"zaxis\":{\"backgroundcolor\":\"#E5ECF6\",\"gridcolor\":\"white\",\"linecolor\":\"white\",\"showbackground\":true,\"ticks\":\"\",\"zerolinecolor\":\"white\",\"gridwidth\":2}},\"shapedefaults\":{\"line\":{\"color\":\"#2a3f5f\"}},\"annotationdefaults\":{\"arrowcolor\":\"#2a3f5f\",\"arrowhead\":0,\"arrowwidth\":1},\"geo\":{\"bgcolor\":\"white\",\"landcolor\":\"#E5ECF6\",\"subunitcolor\":\"white\",\"showland\":true,\"showlakes\":true,\"lakecolor\":\"white\"},\"title\":{\"x\":0.05},\"mapbox\":{\"style\":\"light\"}}},\"xaxis\":{\"anchor\":\"y\",\"domain\":[0.0,0.22999999999999998],\"title\":{\"text\":\"\"}},\"yaxis\":{\"anchor\":\"x\",\"domain\":[0.0,0.485],\"title\":{\"text\":\"\"}},\"xaxis2\":{\"anchor\":\"y2\",\"domain\":[0.24999999999999997,0.48],\"matches\":\"x\",\"title\":{\"text\":\"\"}},\"yaxis2\":{\"anchor\":\"x2\",\"domain\":[0.0,0.485],\"matches\":\"y\",\"showticklabels\":false,\"title\":{\"text\":\"\"}},\"xaxis3\":{\"anchor\":\"y3\",\"domain\":[0.49999999999999994,0.73],\"matches\":\"x\",\"title\":{\"text\":\"\"}},\"yaxis3\":{\"anchor\":\"x3\",\"domain\":[0.0,0.485],\"matches\":\"y\",\"showticklabels\":false,\"title\":{\"text\":\"\"}},\"xaxis4\":{\"anchor\":\"y4\",\"domain\":[0.75,0.98],\"matches\":\"x\",\"title\":{\"text\":\"\"}},\"yaxis4\":{\"anchor\":\"x4\",\"domain\":[0.0,0.485],\"matches\":\"y\",\"showticklabels\":false,\"title\":{\"text\":\"\"}},\"xaxis5\":{\"anchor\":\"y5\",\"domain\":[0.0,0.22999999999999998],\"matches\":\"x\",\"showticklabels\":false,\"title\":{\"text\":\"\"}},\"yaxis5\":{\"anchor\":\"x5\",\"domain\":[0.515,1.0],\"matches\":\"y\",\"title\":{\"text\":\"\"}},\"xaxis6\":{\"anchor\":\"y6\",\"domain\":[0.24999999999999997,0.48],\"matches\":\"x\",\"showticklabels\":false,\"title\":{\"text\":\"\"}},\"yaxis6\":{\"anchor\":\"x6\",\"domain\":[0.515,1.0],\"matches\":\"y\",\"showticklabels\":false,\"title\":{\"text\":\"\"}},\"xaxis7\":{\"anchor\":\"y7\",\"domain\":[0.49999999999999994,0.73],\"matches\":\"x\",\"showticklabels\":false,\"title\":{\"text\":\"\"}},\"yaxis7\":{\"anchor\":\"x7\",\"domain\":[0.515,1.0],\"matches\":\"y\",\"showticklabels\":false,\"title\":{\"text\":\"\"}},\"xaxis8\":{\"anchor\":\"y8\",\"domain\":[0.75,0.98],\"matches\":\"x\",\"showticklabels\":false,\"title\":{\"text\":\"\"}},\"yaxis8\":{\"anchor\":\"x8\",\"domain\":[0.515,1.0],\"matches\":\"y\",\"showticklabels\":false,\"title\":{\"text\":\"\"}},\"annotations\":[{\"showarrow\":false,\"text\":\"0.5\",\"x\":0.11499999999999999,\"xanchor\":\"center\",\"xref\":\"paper\",\"y\":1.0,\"yanchor\":\"bottom\",\"yref\":\"paper\"},{\"showarrow\":false,\"text\":\"1.0\",\"x\":0.365,\"xanchor\":\"center\",\"xref\":\"paper\",\"y\":1.0,\"yanchor\":\"bottom\",\"yref\":\"paper\"},{\"showarrow\":false,\"text\":\"2.0\",\"x\":0.615,\"xanchor\":\"center\",\"xref\":\"paper\",\"y\":1.0,\"yanchor\":\"bottom\",\"yref\":\"paper\"},{\"showarrow\":false,\"text\":\"5.0\",\"x\":0.865,\"xanchor\":\"center\",\"xref\":\"paper\",\"y\":1.0,\"yanchor\":\"bottom\",\"yref\":\"paper\"},{\"showarrow\":false,\"text\":\"300\",\"textangle\":90,\"x\":0.98,\"xanchor\":\"left\",\"xref\":\"paper\",\"y\":0.2425,\"yanchor\":\"middle\",\"yref\":\"paper\"},{\"showarrow\":false,\"text\":\"180\",\"textangle\":90,\"x\":0.98,\"xanchor\":\"left\",\"xref\":\"paper\",\"y\":0.7575000000000001,\"yanchor\":\"middle\",\"yref\":\"paper\"},{\"showarrow\":false,\"text\":\"travel time per request [s]\",\"textangle\":-90,\"x\":-0.06,\"xref\":\"paper\",\"y\":0.5,\"yref\":\"paper\"}],\"legend\":{\"title\":{\"text\":\"method\"},\"tracegroupgap\":0},\"title\":{\"text\":\"Average Cost per Request\"},\"barmode\":\"group\"},                        {\"responsive\": true}                    ).then(function(){\n                            \nvar gd = document.getElementById('20c8a773-b2f7-4afa-a954-7e12777ac347');\nvar x = new MutationObserver(function (mutations, observer) {{\n        var display = window.getComputedStyle(gd).display;\n        if (!display || display === 'none') {{\n            console.log([gd, 'removed!']);\n            Plotly.purge(gd);\n            observer.disconnect();\n        }}\n}});\n\n// Listen for the removal of the full notebook cells\nvar notebookContainer = gd.closest('#notebook-container');\nif (notebookContainer) {{\n    x.observe(notebookContainer, {childList: true});\n}}\n\n// Listen for the clearing of the current output cell\nvar outputEl = gd.closest('.output');\nif (outputEl) {{\n    x.observe(outputEl, {childList: true});\n}}\n\n                        })                };                });            </script>        </div>"
     },
     "metadata": {},
     "output_type": "display_data"
    }
   ],
   "source": [
    "fig = plot_main_result(900, 600)"
   ],
   "metadata": {
    "collapsed": false,
    "ExecuteTime": {
     "end_time": "2023-05-17T14:54:17.398136300Z",
     "start_time": "2023-05-17T14:54:17.213080900Z"
    }
   }
  },
  {
   "cell_type": "markdown",
   "source": [
    "# VGA/IH cost ratio"
   ],
   "metadata": {
    "collapsed": false
   }
  },
  {
   "cell_type": "code",
   "execution_count": 235,
   "outputs": [
    {
     "data": {
      "text/plain": "duration_minutes  max_delay  area     \n0.5               180        Chicago      0.120000\n                             DC           0.000000\n                             Manhattan    0.061131\n                             NYC          0.063324\n                  300        Chicago      0.000000\n                                            ...   \n30.0              600        NYC               NaN\n120.0             180        Chicago           NaN\n                             DC                NaN\n960.0             180        Chicago           NaN\n                             DC                NaN\nName: cost_per_request, Length: 76, dtype: float64"
     },
     "execution_count": 235,
     "metadata": {},
     "output_type": "execute_result"
    }
   ],
   "source": [
    "def compute_ih_vga_cost_ratio(s: pd.Series):\n",
    "    if len(s) != 2:\n",
    "        return None\n",
    "    diff = s.max() - s.min()\n",
    "    return diff / s.min()\n",
    "\n",
    "vga_ih_diff = df.groupby(['duration_minutes', 'max_delay', 'area'])['cost_per_request'].apply(compute_ih_vga_cost_ratio)\n",
    "# vga_ih_diff.sort_values(inplace=True)\n",
    "vga_ih_diff"
   ],
   "metadata": {
    "collapsed": false,
    "ExecuteTime": {
     "end_time": "2023-05-19T12:35:28.410523700Z",
     "start_time": "2023-05-19T12:35:28.385527300Z"
    }
   }
  },
  {
   "cell_type": "code",
   "execution_count": 238,
   "outputs": [
    {
     "data": {
      "text/plain": "    duration_minutes  max_delay       area  cost_ratio  cost_ratio_percent\n0                0.5        180    Chicago    0.120000           12.000000\n1                0.5        180         DC    0.000000            0.000000\n2                0.5        180  Manhattan    0.061131            6.113139\n3                0.5        180        NYC    0.063324            6.332392\n4                0.5        300    Chicago    0.000000            0.000000\n..               ...        ...        ...         ...                 ...\n67              30.0        300        NYC         NaN                 NaN\n68              30.0        600    Chicago         NaN                 NaN\n69              30.0        600         DC         NaN                 NaN\n70              30.0        600  Manhattan         NaN                 NaN\n71              30.0        600        NYC         NaN                 NaN\n\n[72 rows x 5 columns]",
      "text/html": "<div>\n<style scoped>\n    .dataframe tbody tr th:only-of-type {\n        vertical-align: middle;\n    }\n\n    .dataframe tbody tr th {\n        vertical-align: top;\n    }\n\n    .dataframe thead th {\n        text-align: right;\n    }\n</style>\n<table border=\"1\" class=\"dataframe\">\n  <thead>\n    <tr style=\"text-align: right;\">\n      <th></th>\n      <th>duration_minutes</th>\n      <th>max_delay</th>\n      <th>area</th>\n      <th>cost_ratio</th>\n      <th>cost_ratio_percent</th>\n    </tr>\n  </thead>\n  <tbody>\n    <tr>\n      <th>0</th>\n      <td>0.5</td>\n      <td>180</td>\n      <td>Chicago</td>\n      <td>0.120000</td>\n      <td>12.000000</td>\n    </tr>\n    <tr>\n      <th>1</th>\n      <td>0.5</td>\n      <td>180</td>\n      <td>DC</td>\n      <td>0.000000</td>\n      <td>0.000000</td>\n    </tr>\n    <tr>\n      <th>2</th>\n      <td>0.5</td>\n      <td>180</td>\n      <td>Manhattan</td>\n      <td>0.061131</td>\n      <td>6.113139</td>\n    </tr>\n    <tr>\n      <th>3</th>\n      <td>0.5</td>\n      <td>180</td>\n      <td>NYC</td>\n      <td>0.063324</td>\n      <td>6.332392</td>\n    </tr>\n    <tr>\n      <th>4</th>\n      <td>0.5</td>\n      <td>300</td>\n      <td>Chicago</td>\n      <td>0.000000</td>\n      <td>0.000000</td>\n    </tr>\n    <tr>\n      <th>...</th>\n      <td>...</td>\n      <td>...</td>\n      <td>...</td>\n      <td>...</td>\n      <td>...</td>\n    </tr>\n    <tr>\n      <th>67</th>\n      <td>30.0</td>\n      <td>300</td>\n      <td>NYC</td>\n      <td>NaN</td>\n      <td>NaN</td>\n    </tr>\n    <tr>\n      <th>68</th>\n      <td>30.0</td>\n      <td>600</td>\n      <td>Chicago</td>\n      <td>NaN</td>\n      <td>NaN</td>\n    </tr>\n    <tr>\n      <th>69</th>\n      <td>30.0</td>\n      <td>600</td>\n      <td>DC</td>\n      <td>NaN</td>\n      <td>NaN</td>\n    </tr>\n    <tr>\n      <th>70</th>\n      <td>30.0</td>\n      <td>600</td>\n      <td>Manhattan</td>\n      <td>NaN</td>\n      <td>NaN</td>\n    </tr>\n    <tr>\n      <th>71</th>\n      <td>30.0</td>\n      <td>600</td>\n      <td>NYC</td>\n      <td>NaN</td>\n      <td>NaN</td>\n    </tr>\n  </tbody>\n</table>\n<p>72 rows × 5 columns</p>\n</div>"
     },
     "execution_count": 238,
     "metadata": {},
     "output_type": "execute_result"
    }
   ],
   "source": [
    "vga_ih_diff_df = pd.DataFrame(vga_ih_diff)\n",
    "vga_ih_diff_df.reset_index(inplace=True)\n",
    "vga_ih_diff_df.rename(columns={'cost_per_request': 'cost_ratio'}, inplace=True)\n",
    "vga_ih_diff_df['cost_ratio_percent'] = vga_ih_diff_df['cost_ratio'] * 100\n",
    "vga_ih_diff_df = vga_ih_diff_df.query('duration_minutes <= 30')\n",
    "vga_ih_diff_df"
   ],
   "metadata": {
    "collapsed": false,
    "ExecuteTime": {
     "end_time": "2023-05-19T12:36:42.950474100Z",
     "start_time": "2023-05-19T12:36:42.921473Z"
    }
   }
  },
  {
   "cell_type": "code",
   "execution_count": 239,
   "outputs": [
    {
     "data": {
      "text/plain": "{(0.5, 600): 1,\n (1.0, 600): 2,\n (2.0, 600): 3,\n (5.0, 600): 4,\n (15.0, 600): 5,\n (30.0, 600): 6,\n (0.5, 300): 7,\n (1.0, 300): 8,\n (2.0, 300): 9,\n (5.0, 300): 10,\n (15.0, 300): 11,\n (30.0, 300): 12,\n (0.5, 180): 13,\n (1.0, 180): 14,\n (2.0, 180): 15,\n (5.0, 180): 16,\n (15.0, 180): 17,\n (30.0, 180): 18}"
     },
     "execution_count": 239,
     "metadata": {},
     "output_type": "execute_result"
    }
   ],
   "source": [
    "vals_to_axis = {}\n",
    "i = 1\n",
    "delays = vga_ih_diff_df['max_delay'].unique()\n",
    "delays[::-1].sort()\n",
    "durations = vga_ih_diff_df['duration_minutes'].unique()\n",
    "durations.sort()\n",
    "for max_delay in delays:\n",
    "    for duration in durations:\n",
    "        vals_to_axis[(duration, max_delay)] = i\n",
    "        i += 1\n",
    "vals_to_axis"
   ],
   "metadata": {
    "collapsed": false,
    "ExecuteTime": {
     "end_time": "2023-05-19T12:36:47.100037900Z",
     "start_time": "2023-05-19T12:36:47.092734800Z"
    }
   }
  },
  {
   "cell_type": "code",
   "execution_count": 240,
   "outputs": [
    {
     "data": {
      "application/vnd.plotly.v1+json": {
       "data": [
        {
         "alignmentgroup": "True",
         "hovertemplate": "max_delay=180<br>duration_minutes=0.5<br>area=%{x}<br>cost_ratio_percent=%{y}<extra></extra>",
         "legendgroup": "",
         "marker": {
          "color": "#636efa",
          "pattern": {
           "shape": ""
          }
         },
         "name": "",
         "offsetgroup": "",
         "orientation": "v",
         "showlegend": false,
         "textposition": "auto",
         "x": [
          "Chicago",
          "DC",
          "Manhattan",
          "NYC"
         ],
         "xaxis": "x13",
         "y": [
          12.0,
          0.0,
          6.113138686131388,
          6.33239171374765
         ],
         "yaxis": "y13",
         "type": "bar"
        },
        {
         "alignmentgroup": "True",
         "hovertemplate": "max_delay=180<br>duration_minutes=1.0<br>area=%{x}<br>cost_ratio_percent=%{y}<extra></extra>",
         "legendgroup": "",
         "marker": {
          "color": "#636efa",
          "pattern": {
           "shape": ""
          }
         },
         "name": "",
         "offsetgroup": "",
         "orientation": "v",
         "showlegend": false,
         "textposition": "auto",
         "x": [
          "Chicago",
          "DC",
          "Manhattan",
          "NYC"
         ],
         "xaxis": "x14",
         "y": [
          0.8064516129032304,
          0.0,
          15.175481957488875,
          6.219512195121949
         ],
         "yaxis": "y14",
         "type": "bar"
        },
        {
         "alignmentgroup": "True",
         "hovertemplate": "max_delay=180<br>duration_minutes=2.0<br>area=%{x}<br>cost_ratio_percent=%{y}<extra></extra>",
         "legendgroup": "",
         "marker": {
          "color": "#636efa",
          "pattern": {
           "shape": ""
          }
         },
         "name": "",
         "offsetgroup": "",
         "orientation": "v",
         "showlegend": false,
         "textposition": "auto",
         "x": [
          "Chicago",
          "DC",
          "Manhattan",
          "NYC"
         ],
         "xaxis": "x15",
         "y": [
          3.263403263403263,
          1.2787723785166298,
          21.1314475873544,
          11.665690866510541
         ],
         "yaxis": "y15",
         "type": "bar"
        },
        {
         "alignmentgroup": "True",
         "hovertemplate": "max_delay=180<br>duration_minutes=5.0<br>area=%{x}<br>cost_ratio_percent=%{y}<extra></extra>",
         "legendgroup": "",
         "marker": {
          "color": "#636efa",
          "pattern": {
           "shape": ""
          }
         },
         "name": "",
         "offsetgroup": "",
         "orientation": "v",
         "showlegend": false,
         "textposition": "auto",
         "x": [
          "Chicago",
          "DC",
          "Manhattan",
          "NYC"
         ],
         "xaxis": "x16",
         "y": [
          9.954407294832816,
          1.521555367709214,
          null,
          null
         ],
         "yaxis": "y16",
         "type": "bar"
        },
        {
         "alignmentgroup": "True",
         "hovertemplate": "max_delay=180<br>duration_minutes=15.0<br>area=%{x}<br>cost_ratio_percent=%{y}<extra></extra>",
         "legendgroup": "",
         "marker": {
          "color": "#636efa",
          "pattern": {
           "shape": ""
          }
         },
         "name": "",
         "offsetgroup": "",
         "orientation": "v",
         "showlegend": false,
         "textposition": "auto",
         "x": [
          "Chicago",
          "DC",
          "Manhattan",
          "NYC"
         ],
         "xaxis": "x17",
         "y": [
          null,
          5.067155067155072,
          null,
          null
         ],
         "yaxis": "y17",
         "type": "bar"
        },
        {
         "alignmentgroup": "True",
         "hovertemplate": "max_delay=180<br>duration_minutes=30.0<br>area=%{x}<br>cost_ratio_percent=%{y}<extra></extra>",
         "legendgroup": "",
         "marker": {
          "color": "#636efa",
          "pattern": {
           "shape": ""
          }
         },
         "name": "",
         "offsetgroup": "",
         "orientation": "v",
         "showlegend": false,
         "textposition": "auto",
         "x": [
          "Chicago",
          "DC",
          "Manhattan",
          "NYC"
         ],
         "xaxis": "x18",
         "y": [
          null,
          7.033997655334108,
          null,
          null
         ],
         "yaxis": "y18",
         "type": "bar"
        },
        {
         "alignmentgroup": "True",
         "hovertemplate": "max_delay=300<br>duration_minutes=0.5<br>area=%{x}<br>cost_ratio_percent=%{y}<extra></extra>",
         "legendgroup": "",
         "marker": {
          "color": "#636efa",
          "pattern": {
           "shape": ""
          }
         },
         "name": "",
         "offsetgroup": "",
         "orientation": "v",
         "showlegend": false,
         "textposition": "auto",
         "x": [
          "Chicago",
          "DC",
          "Manhattan",
          "NYC"
         ],
         "xaxis": "x7",
         "y": [
          0.0,
          0.0,
          16.559139784946236,
          7.408419901585563
         ],
         "yaxis": "y7",
         "type": "bar"
        },
        {
         "alignmentgroup": "True",
         "hovertemplate": "max_delay=300<br>duration_minutes=1.0<br>area=%{x}<br>cost_ratio_percent=%{y}<extra></extra>",
         "legendgroup": "",
         "marker": {
          "color": "#636efa",
          "pattern": {
           "shape": ""
          }
         },
         "name": "",
         "offsetgroup": "",
         "orientation": "v",
         "showlegend": false,
         "textposition": "auto",
         "x": [
          "Chicago",
          "DC",
          "Manhattan",
          "NYC"
         ],
         "xaxis": "x8",
         "y": [
          3.3333333333333317,
          0.0,
          23.5399284862932,
          8.585304715650937
         ],
         "yaxis": "y8",
         "type": "bar"
        },
        {
         "alignmentgroup": "True",
         "hovertemplate": "max_delay=300<br>duration_minutes=2.0<br>area=%{x}<br>cost_ratio_percent=%{y}<extra></extra>",
         "legendgroup": "",
         "marker": {
          "color": "#636efa",
          "pattern": {
           "shape": ""
          }
         },
         "name": "",
         "offsetgroup": "",
         "orientation": "v",
         "showlegend": false,
         "textposition": "auto",
         "x": [
          "Chicago",
          "DC",
          "Manhattan",
          "NYC"
         ],
         "xaxis": "x9",
         "y": [
          3.827751196172254,
          2.0887728459529904,
          30.70997990622906,
          null
         ],
         "yaxis": "y9",
         "type": "bar"
        },
        {
         "alignmentgroup": "True",
         "hovertemplate": "max_delay=300<br>duration_minutes=5.0<br>area=%{x}<br>cost_ratio_percent=%{y}<extra></extra>",
         "legendgroup": "",
         "marker": {
          "color": "#636efa",
          "pattern": {
           "shape": ""
          }
         },
         "name": "",
         "offsetgroup": "",
         "orientation": "v",
         "showlegend": false,
         "textposition": "auto",
         "x": [
          "Chicago",
          "DC",
          "Manhattan",
          "NYC"
         ],
         "xaxis": "x10",
         "y": [
          6.818181818181805,
          6.04878048780488,
          null,
          null
         ],
         "yaxis": "y10",
         "type": "bar"
        },
        {
         "alignmentgroup": "True",
         "hovertemplate": "max_delay=300<br>duration_minutes=15.0<br>area=%{x}<br>cost_ratio_percent=%{y}<extra></extra>",
         "legendgroup": "",
         "marker": {
          "color": "#636efa",
          "pattern": {
           "shape": ""
          }
         },
         "name": "",
         "offsetgroup": "",
         "orientation": "v",
         "showlegend": false,
         "textposition": "auto",
         "x": [
          "Chicago",
          "DC",
          "Manhattan",
          "NYC"
         ],
         "xaxis": "x11",
         "y": [
          null,
          9.544950055493898,
          null,
          null
         ],
         "yaxis": "y11",
         "type": "bar"
        },
        {
         "alignmentgroup": "True",
         "hovertemplate": "max_delay=300<br>duration_minutes=30.0<br>area=%{x}<br>cost_ratio_percent=%{y}<extra></extra>",
         "legendgroup": "",
         "marker": {
          "color": "#636efa",
          "pattern": {
           "shape": ""
          }
         },
         "name": "",
         "offsetgroup": "",
         "orientation": "v",
         "showlegend": false,
         "textposition": "auto",
         "x": [
          "Chicago",
          "DC",
          "Manhattan",
          "NYC"
         ],
         "xaxis": "x12",
         "y": [
          null,
          16.009089031191902,
          null,
          null
         ],
         "yaxis": "y12",
         "type": "bar"
        },
        {
         "alignmentgroup": "True",
         "hovertemplate": "max_delay=600<br>duration_minutes=0.5<br>area=%{x}<br>cost_ratio_percent=%{y}<extra></extra>",
         "legendgroup": "",
         "marker": {
          "color": "#636efa",
          "pattern": {
           "shape": ""
          }
         },
         "name": "",
         "offsetgroup": "",
         "orientation": "v",
         "showlegend": false,
         "textposition": "auto",
         "x": [
          "Chicago",
          "DC",
          "Manhattan",
          "NYC"
         ],
         "xaxis": "x",
         "y": [
          1.9607843137254901,
          0.0,
          26.45914396887158,
          14.388254486133755
         ],
         "yaxis": "y",
         "type": "bar"
        },
        {
         "alignmentgroup": "True",
         "hovertemplate": "max_delay=600<br>duration_minutes=1.0<br>area=%{x}<br>cost_ratio_percent=%{y}<extra></extra>",
         "legendgroup": "",
         "marker": {
          "color": "#636efa",
          "pattern": {
           "shape": ""
          }
         },
         "name": "",
         "offsetgroup": "",
         "orientation": "v",
         "showlegend": false,
         "textposition": "auto",
         "x": [
          "Chicago",
          "DC",
          "Manhattan",
          "NYC"
         ],
         "xaxis": "x2",
         "y": [
          1.8779342723004684,
          0.0,
          null,
          null
         ],
         "yaxis": "y2",
         "type": "bar"
        },
        {
         "alignmentgroup": "True",
         "hovertemplate": "max_delay=600<br>duration_minutes=2.0<br>area=%{x}<br>cost_ratio_percent=%{y}<extra></extra>",
         "legendgroup": "",
         "marker": {
          "color": "#636efa",
          "pattern": {
           "shape": ""
          }
         },
         "name": "",
         "offsetgroup": "",
         "orientation": "v",
         "showlegend": false,
         "textposition": "auto",
         "x": [
          "Chicago",
          "DC",
          "Manhattan",
          "NYC"
         ],
         "xaxis": "x3",
         "y": [
          1.7632241813602016,
          17.55485893416929,
          null,
          null
         ],
         "yaxis": "y3",
         "type": "bar"
        },
        {
         "alignmentgroup": "True",
         "hovertemplate": "max_delay=600<br>duration_minutes=5.0<br>area=%{x}<br>cost_ratio_percent=%{y}<extra></extra>",
         "legendgroup": "",
         "marker": {
          "color": "#636efa",
          "pattern": {
           "shape": ""
          }
         },
         "name": "",
         "offsetgroup": "",
         "orientation": "v",
         "showlegend": false,
         "textposition": "auto",
         "x": [
          "Chicago",
          "DC",
          "Manhattan",
          "NYC"
         ],
         "xaxis": "x4",
         "y": [
          null,
          19.18678526048284,
          null,
          null
         ],
         "yaxis": "y4",
         "type": "bar"
        },
        {
         "alignmentgroup": "True",
         "hovertemplate": "max_delay=600<br>duration_minutes=15.0<br>area=%{x}<br>cost_ratio_percent=%{y}<extra></extra>",
         "legendgroup": "",
         "marker": {
          "color": "#636efa",
          "pattern": {
           "shape": ""
          }
         },
         "name": "",
         "offsetgroup": "",
         "orientation": "v",
         "showlegend": false,
         "textposition": "auto",
         "x": [
          "Chicago",
          "DC",
          "Manhattan",
          "NYC"
         ],
         "xaxis": "x5",
         "y": [
          null,
          27.04663212435234,
          null,
          null
         ],
         "yaxis": "y5",
         "type": "bar"
        },
        {
         "alignmentgroup": "True",
         "hovertemplate": "max_delay=600<br>duration_minutes=30.0<br>area=%{x}<br>cost_ratio_percent=%{y}<extra></extra>",
         "legendgroup": "",
         "marker": {
          "color": "#636efa",
          "pattern": {
           "shape": ""
          }
         },
         "name": "",
         "offsetgroup": "",
         "orientation": "v",
         "showlegend": false,
         "textposition": "auto",
         "x": [
          "Chicago",
          "DC",
          "Manhattan",
          "NYC"
         ],
         "xaxis": "x6",
         "y": [
          null,
          null,
          null,
          null
         ],
         "yaxis": "y6",
         "type": "bar"
        }
       ],
       "layout": {
        "template": {
         "data": {
          "histogram2dcontour": [
           {
            "type": "histogram2dcontour",
            "colorbar": {
             "outlinewidth": 0,
             "ticks": ""
            },
            "colorscale": [
             [
              0.0,
              "#0d0887"
             ],
             [
              0.1111111111111111,
              "#46039f"
             ],
             [
              0.2222222222222222,
              "#7201a8"
             ],
             [
              0.3333333333333333,
              "#9c179e"
             ],
             [
              0.4444444444444444,
              "#bd3786"
             ],
             [
              0.5555555555555556,
              "#d8576b"
             ],
             [
              0.6666666666666666,
              "#ed7953"
             ],
             [
              0.7777777777777778,
              "#fb9f3a"
             ],
             [
              0.8888888888888888,
              "#fdca26"
             ],
             [
              1.0,
              "#f0f921"
             ]
            ]
           }
          ],
          "choropleth": [
           {
            "type": "choropleth",
            "colorbar": {
             "outlinewidth": 0,
             "ticks": ""
            }
           }
          ],
          "histogram2d": [
           {
            "type": "histogram2d",
            "colorbar": {
             "outlinewidth": 0,
             "ticks": ""
            },
            "colorscale": [
             [
              0.0,
              "#0d0887"
             ],
             [
              0.1111111111111111,
              "#46039f"
             ],
             [
              0.2222222222222222,
              "#7201a8"
             ],
             [
              0.3333333333333333,
              "#9c179e"
             ],
             [
              0.4444444444444444,
              "#bd3786"
             ],
             [
              0.5555555555555556,
              "#d8576b"
             ],
             [
              0.6666666666666666,
              "#ed7953"
             ],
             [
              0.7777777777777778,
              "#fb9f3a"
             ],
             [
              0.8888888888888888,
              "#fdca26"
             ],
             [
              1.0,
              "#f0f921"
             ]
            ]
           }
          ],
          "heatmap": [
           {
            "type": "heatmap",
            "colorbar": {
             "outlinewidth": 0,
             "ticks": ""
            },
            "colorscale": [
             [
              0.0,
              "#0d0887"
             ],
             [
              0.1111111111111111,
              "#46039f"
             ],
             [
              0.2222222222222222,
              "#7201a8"
             ],
             [
              0.3333333333333333,
              "#9c179e"
             ],
             [
              0.4444444444444444,
              "#bd3786"
             ],
             [
              0.5555555555555556,
              "#d8576b"
             ],
             [
              0.6666666666666666,
              "#ed7953"
             ],
             [
              0.7777777777777778,
              "#fb9f3a"
             ],
             [
              0.8888888888888888,
              "#fdca26"
             ],
             [
              1.0,
              "#f0f921"
             ]
            ]
           }
          ],
          "heatmapgl": [
           {
            "type": "heatmapgl",
            "colorbar": {
             "outlinewidth": 0,
             "ticks": ""
            },
            "colorscale": [
             [
              0.0,
              "#0d0887"
             ],
             [
              0.1111111111111111,
              "#46039f"
             ],
             [
              0.2222222222222222,
              "#7201a8"
             ],
             [
              0.3333333333333333,
              "#9c179e"
             ],
             [
              0.4444444444444444,
              "#bd3786"
             ],
             [
              0.5555555555555556,
              "#d8576b"
             ],
             [
              0.6666666666666666,
              "#ed7953"
             ],
             [
              0.7777777777777778,
              "#fb9f3a"
             ],
             [
              0.8888888888888888,
              "#fdca26"
             ],
             [
              1.0,
              "#f0f921"
             ]
            ]
           }
          ],
          "contourcarpet": [
           {
            "type": "contourcarpet",
            "colorbar": {
             "outlinewidth": 0,
             "ticks": ""
            }
           }
          ],
          "contour": [
           {
            "type": "contour",
            "colorbar": {
             "outlinewidth": 0,
             "ticks": ""
            },
            "colorscale": [
             [
              0.0,
              "#0d0887"
             ],
             [
              0.1111111111111111,
              "#46039f"
             ],
             [
              0.2222222222222222,
              "#7201a8"
             ],
             [
              0.3333333333333333,
              "#9c179e"
             ],
             [
              0.4444444444444444,
              "#bd3786"
             ],
             [
              0.5555555555555556,
              "#d8576b"
             ],
             [
              0.6666666666666666,
              "#ed7953"
             ],
             [
              0.7777777777777778,
              "#fb9f3a"
             ],
             [
              0.8888888888888888,
              "#fdca26"
             ],
             [
              1.0,
              "#f0f921"
             ]
            ]
           }
          ],
          "surface": [
           {
            "type": "surface",
            "colorbar": {
             "outlinewidth": 0,
             "ticks": ""
            },
            "colorscale": [
             [
              0.0,
              "#0d0887"
             ],
             [
              0.1111111111111111,
              "#46039f"
             ],
             [
              0.2222222222222222,
              "#7201a8"
             ],
             [
              0.3333333333333333,
              "#9c179e"
             ],
             [
              0.4444444444444444,
              "#bd3786"
             ],
             [
              0.5555555555555556,
              "#d8576b"
             ],
             [
              0.6666666666666666,
              "#ed7953"
             ],
             [
              0.7777777777777778,
              "#fb9f3a"
             ],
             [
              0.8888888888888888,
              "#fdca26"
             ],
             [
              1.0,
              "#f0f921"
             ]
            ]
           }
          ],
          "mesh3d": [
           {
            "type": "mesh3d",
            "colorbar": {
             "outlinewidth": 0,
             "ticks": ""
            }
           }
          ],
          "scatter": [
           {
            "fillpattern": {
             "fillmode": "overlay",
             "size": 10,
             "solidity": 0.2
            },
            "type": "scatter"
           }
          ],
          "parcoords": [
           {
            "type": "parcoords",
            "line": {
             "colorbar": {
              "outlinewidth": 0,
              "ticks": ""
             }
            }
           }
          ],
          "scatterpolargl": [
           {
            "type": "scatterpolargl",
            "marker": {
             "colorbar": {
              "outlinewidth": 0,
              "ticks": ""
             }
            }
           }
          ],
          "bar": [
           {
            "error_x": {
             "color": "#2a3f5f"
            },
            "error_y": {
             "color": "#2a3f5f"
            },
            "marker": {
             "line": {
              "color": "#E5ECF6",
              "width": 0.5
             },
             "pattern": {
              "fillmode": "overlay",
              "size": 10,
              "solidity": 0.2
             }
            },
            "type": "bar"
           }
          ],
          "scattergeo": [
           {
            "type": "scattergeo",
            "marker": {
             "colorbar": {
              "outlinewidth": 0,
              "ticks": ""
             }
            }
           }
          ],
          "scatterpolar": [
           {
            "type": "scatterpolar",
            "marker": {
             "colorbar": {
              "outlinewidth": 0,
              "ticks": ""
             }
            }
           }
          ],
          "histogram": [
           {
            "marker": {
             "pattern": {
              "fillmode": "overlay",
              "size": 10,
              "solidity": 0.2
             }
            },
            "type": "histogram"
           }
          ],
          "scattergl": [
           {
            "type": "scattergl",
            "marker": {
             "colorbar": {
              "outlinewidth": 0,
              "ticks": ""
             }
            }
           }
          ],
          "scatter3d": [
           {
            "type": "scatter3d",
            "line": {
             "colorbar": {
              "outlinewidth": 0,
              "ticks": ""
             }
            },
            "marker": {
             "colorbar": {
              "outlinewidth": 0,
              "ticks": ""
             }
            }
           }
          ],
          "scattermapbox": [
           {
            "type": "scattermapbox",
            "marker": {
             "colorbar": {
              "outlinewidth": 0,
              "ticks": ""
             }
            }
           }
          ],
          "scatterternary": [
           {
            "type": "scatterternary",
            "marker": {
             "colorbar": {
              "outlinewidth": 0,
              "ticks": ""
             }
            }
           }
          ],
          "scattercarpet": [
           {
            "type": "scattercarpet",
            "marker": {
             "colorbar": {
              "outlinewidth": 0,
              "ticks": ""
             }
            }
           }
          ],
          "carpet": [
           {
            "aaxis": {
             "endlinecolor": "#2a3f5f",
             "gridcolor": "white",
             "linecolor": "white",
             "minorgridcolor": "white",
             "startlinecolor": "#2a3f5f"
            },
            "baxis": {
             "endlinecolor": "#2a3f5f",
             "gridcolor": "white",
             "linecolor": "white",
             "minorgridcolor": "white",
             "startlinecolor": "#2a3f5f"
            },
            "type": "carpet"
           }
          ],
          "table": [
           {
            "cells": {
             "fill": {
              "color": "#EBF0F8"
             },
             "line": {
              "color": "white"
             }
            },
            "header": {
             "fill": {
              "color": "#C8D4E3"
             },
             "line": {
              "color": "white"
             }
            },
            "type": "table"
           }
          ],
          "barpolar": [
           {
            "marker": {
             "line": {
              "color": "#E5ECF6",
              "width": 0.5
             },
             "pattern": {
              "fillmode": "overlay",
              "size": 10,
              "solidity": 0.2
             }
            },
            "type": "barpolar"
           }
          ],
          "pie": [
           {
            "automargin": true,
            "type": "pie"
           }
          ]
         },
         "layout": {
          "autotypenumbers": "strict",
          "colorway": [
           "#636efa",
           "#EF553B",
           "#00cc96",
           "#ab63fa",
           "#FFA15A",
           "#19d3f3",
           "#FF6692",
           "#B6E880",
           "#FF97FF",
           "#FECB52"
          ],
          "font": {
           "color": "#2a3f5f"
          },
          "hovermode": "closest",
          "hoverlabel": {
           "align": "left"
          },
          "paper_bgcolor": "white",
          "plot_bgcolor": "#E5ECF6",
          "polar": {
           "bgcolor": "#E5ECF6",
           "angularaxis": {
            "gridcolor": "white",
            "linecolor": "white",
            "ticks": ""
           },
           "radialaxis": {
            "gridcolor": "white",
            "linecolor": "white",
            "ticks": ""
           }
          },
          "ternary": {
           "bgcolor": "#E5ECF6",
           "aaxis": {
            "gridcolor": "white",
            "linecolor": "white",
            "ticks": ""
           },
           "baxis": {
            "gridcolor": "white",
            "linecolor": "white",
            "ticks": ""
           },
           "caxis": {
            "gridcolor": "white",
            "linecolor": "white",
            "ticks": ""
           }
          },
          "coloraxis": {
           "colorbar": {
            "outlinewidth": 0,
            "ticks": ""
           }
          },
          "colorscale": {
           "sequential": [
            [
             0.0,
             "#0d0887"
            ],
            [
             0.1111111111111111,
             "#46039f"
            ],
            [
             0.2222222222222222,
             "#7201a8"
            ],
            [
             0.3333333333333333,
             "#9c179e"
            ],
            [
             0.4444444444444444,
             "#bd3786"
            ],
            [
             0.5555555555555556,
             "#d8576b"
            ],
            [
             0.6666666666666666,
             "#ed7953"
            ],
            [
             0.7777777777777778,
             "#fb9f3a"
            ],
            [
             0.8888888888888888,
             "#fdca26"
            ],
            [
             1.0,
             "#f0f921"
            ]
           ],
           "sequentialminus": [
            [
             0.0,
             "#0d0887"
            ],
            [
             0.1111111111111111,
             "#46039f"
            ],
            [
             0.2222222222222222,
             "#7201a8"
            ],
            [
             0.3333333333333333,
             "#9c179e"
            ],
            [
             0.4444444444444444,
             "#bd3786"
            ],
            [
             0.5555555555555556,
             "#d8576b"
            ],
            [
             0.6666666666666666,
             "#ed7953"
            ],
            [
             0.7777777777777778,
             "#fb9f3a"
            ],
            [
             0.8888888888888888,
             "#fdca26"
            ],
            [
             1.0,
             "#f0f921"
            ]
           ],
           "diverging": [
            [
             0,
             "#8e0152"
            ],
            [
             0.1,
             "#c51b7d"
            ],
            [
             0.2,
             "#de77ae"
            ],
            [
             0.3,
             "#f1b6da"
            ],
            [
             0.4,
             "#fde0ef"
            ],
            [
             0.5,
             "#f7f7f7"
            ],
            [
             0.6,
             "#e6f5d0"
            ],
            [
             0.7,
             "#b8e186"
            ],
            [
             0.8,
             "#7fbc41"
            ],
            [
             0.9,
             "#4d9221"
            ],
            [
             1,
             "#276419"
            ]
           ]
          },
          "xaxis": {
           "gridcolor": "white",
           "linecolor": "white",
           "ticks": "",
           "title": {
            "standoff": 15
           },
           "zerolinecolor": "white",
           "automargin": true,
           "zerolinewidth": 2
          },
          "yaxis": {
           "gridcolor": "white",
           "linecolor": "white",
           "ticks": "",
           "title": {
            "standoff": 15
           },
           "zerolinecolor": "white",
           "automargin": true,
           "zerolinewidth": 2
          },
          "scene": {
           "xaxis": {
            "backgroundcolor": "#E5ECF6",
            "gridcolor": "white",
            "linecolor": "white",
            "showbackground": true,
            "ticks": "",
            "zerolinecolor": "white",
            "gridwidth": 2
           },
           "yaxis": {
            "backgroundcolor": "#E5ECF6",
            "gridcolor": "white",
            "linecolor": "white",
            "showbackground": true,
            "ticks": "",
            "zerolinecolor": "white",
            "gridwidth": 2
           },
           "zaxis": {
            "backgroundcolor": "#E5ECF6",
            "gridcolor": "white",
            "linecolor": "white",
            "showbackground": true,
            "ticks": "",
            "zerolinecolor": "white",
            "gridwidth": 2
           }
          },
          "shapedefaults": {
           "line": {
            "color": "#2a3f5f"
           }
          },
          "annotationdefaults": {
           "arrowcolor": "#2a3f5f",
           "arrowhead": 0,
           "arrowwidth": 1
          },
          "geo": {
           "bgcolor": "white",
           "landcolor": "#E5ECF6",
           "subunitcolor": "white",
           "showland": true,
           "showlakes": true,
           "lakecolor": "white"
          },
          "title": {
           "x": 0.05
          },
          "mapbox": {
           "style": "light"
          }
         }
        },
        "xaxis": {
         "anchor": "y",
         "domain": [
          0.0,
          0.14666666666666667
         ],
         "title": {
          "text": ""
         }
        },
        "yaxis": {
         "anchor": "x",
         "domain": [
          0.0,
          0.3133333333333333
         ],
         "title": {
          "text": ""
         }
        },
        "xaxis2": {
         "anchor": "y2",
         "domain": [
          0.16666666666666666,
          0.31333333333333335
         ],
         "matches": "x",
         "title": {
          "text": ""
         }
        },
        "yaxis2": {
         "anchor": "x2",
         "domain": [
          0.0,
          0.3133333333333333
         ],
         "matches": "y",
         "showticklabels": false,
         "title": {
          "text": ""
         }
        },
        "xaxis3": {
         "anchor": "y3",
         "domain": [
          0.3333333333333333,
          0.48
         ],
         "matches": "x",
         "title": {
          "text": ""
         }
        },
        "yaxis3": {
         "anchor": "x3",
         "domain": [
          0.0,
          0.3133333333333333
         ],
         "matches": "y",
         "showticklabels": false,
         "title": {
          "text": ""
         }
        },
        "xaxis4": {
         "anchor": "y4",
         "domain": [
          0.5,
          0.6466666666666667
         ],
         "matches": "x",
         "title": {
          "text": ""
         }
        },
        "yaxis4": {
         "anchor": "x4",
         "domain": [
          0.0,
          0.3133333333333333
         ],
         "matches": "y",
         "showticklabels": false,
         "title": {
          "text": ""
         }
        },
        "xaxis5": {
         "anchor": "y5",
         "domain": [
          0.6666666666666666,
          0.8133333333333332
         ],
         "matches": "x",
         "title": {
          "text": ""
         }
        },
        "yaxis5": {
         "anchor": "x5",
         "domain": [
          0.0,
          0.3133333333333333
         ],
         "matches": "y",
         "showticklabels": false,
         "title": {
          "text": ""
         }
        },
        "xaxis6": {
         "anchor": "y6",
         "domain": [
          0.8333333333333334,
          0.98
         ],
         "matches": "x",
         "title": {
          "text": ""
         }
        },
        "yaxis6": {
         "anchor": "x6",
         "domain": [
          0.0,
          0.3133333333333333
         ],
         "matches": "y",
         "showticklabels": false,
         "title": {
          "text": ""
         }
        },
        "xaxis7": {
         "anchor": "y7",
         "domain": [
          0.0,
          0.14666666666666667
         ],
         "matches": "x",
         "showticklabels": false,
         "title": {
          "text": ""
         }
        },
        "yaxis7": {
         "anchor": "x7",
         "domain": [
          0.34333333333333327,
          0.6566666666666665
         ],
         "matches": "y",
         "title": {
          "text": ""
         }
        },
        "xaxis8": {
         "anchor": "y8",
         "domain": [
          0.16666666666666666,
          0.31333333333333335
         ],
         "matches": "x",
         "showticklabels": false,
         "title": {
          "text": ""
         }
        },
        "yaxis8": {
         "anchor": "x8",
         "domain": [
          0.34333333333333327,
          0.6566666666666665
         ],
         "matches": "y",
         "showticklabels": false,
         "title": {
          "text": ""
         }
        },
        "xaxis9": {
         "anchor": "y9",
         "domain": [
          0.3333333333333333,
          0.48
         ],
         "matches": "x",
         "showticklabels": false,
         "title": {
          "text": ""
         }
        },
        "yaxis9": {
         "anchor": "x9",
         "domain": [
          0.34333333333333327,
          0.6566666666666665
         ],
         "matches": "y",
         "showticklabels": false,
         "title": {
          "text": ""
         }
        },
        "xaxis10": {
         "anchor": "y10",
         "domain": [
          0.5,
          0.6466666666666667
         ],
         "matches": "x",
         "showticklabels": false,
         "title": {
          "text": ""
         }
        },
        "yaxis10": {
         "anchor": "x10",
         "domain": [
          0.34333333333333327,
          0.6566666666666665
         ],
         "matches": "y",
         "showticklabels": false,
         "title": {
          "text": ""
         }
        },
        "xaxis11": {
         "anchor": "y11",
         "domain": [
          0.6666666666666666,
          0.8133333333333332
         ],
         "matches": "x",
         "showticklabels": false,
         "title": {
          "text": ""
         }
        },
        "yaxis11": {
         "anchor": "x11",
         "domain": [
          0.34333333333333327,
          0.6566666666666665
         ],
         "matches": "y",
         "showticklabels": false,
         "title": {
          "text": ""
         }
        },
        "xaxis12": {
         "anchor": "y12",
         "domain": [
          0.8333333333333334,
          0.98
         ],
         "matches": "x",
         "showticklabels": false,
         "title": {
          "text": ""
         }
        },
        "yaxis12": {
         "anchor": "x12",
         "domain": [
          0.34333333333333327,
          0.6566666666666665
         ],
         "matches": "y",
         "showticklabels": false,
         "title": {
          "text": ""
         }
        },
        "xaxis13": {
         "anchor": "y13",
         "domain": [
          0.0,
          0.14666666666666667
         ],
         "matches": "x",
         "showticklabels": false,
         "title": {
          "text": ""
         }
        },
        "yaxis13": {
         "anchor": "x13",
         "domain": [
          0.6866666666666665,
          0.9999999999999998
         ],
         "matches": "y",
         "title": {
          "text": ""
         }
        },
        "xaxis14": {
         "anchor": "y14",
         "domain": [
          0.16666666666666666,
          0.31333333333333335
         ],
         "matches": "x",
         "showticklabels": false,
         "title": {
          "text": ""
         }
        },
        "yaxis14": {
         "anchor": "x14",
         "domain": [
          0.6866666666666665,
          0.9999999999999998
         ],
         "matches": "y",
         "showticklabels": false,
         "title": {
          "text": ""
         }
        },
        "xaxis15": {
         "anchor": "y15",
         "domain": [
          0.3333333333333333,
          0.48
         ],
         "matches": "x",
         "showticklabels": false,
         "title": {
          "text": ""
         }
        },
        "yaxis15": {
         "anchor": "x15",
         "domain": [
          0.6866666666666665,
          0.9999999999999998
         ],
         "matches": "y",
         "showticklabels": false,
         "title": {
          "text": ""
         }
        },
        "xaxis16": {
         "anchor": "y16",
         "domain": [
          0.5,
          0.6466666666666667
         ],
         "matches": "x",
         "showticklabels": false,
         "title": {
          "text": ""
         }
        },
        "yaxis16": {
         "anchor": "x16",
         "domain": [
          0.6866666666666665,
          0.9999999999999998
         ],
         "matches": "y",
         "showticklabels": false,
         "title": {
          "text": ""
         }
        },
        "xaxis17": {
         "anchor": "y17",
         "domain": [
          0.6666666666666666,
          0.8133333333333332
         ],
         "matches": "x",
         "showticklabels": false,
         "title": {
          "text": ""
         }
        },
        "yaxis17": {
         "anchor": "x17",
         "domain": [
          0.6866666666666665,
          0.9999999999999998
         ],
         "matches": "y",
         "showticklabels": false,
         "title": {
          "text": ""
         }
        },
        "xaxis18": {
         "anchor": "y18",
         "domain": [
          0.8333333333333334,
          0.98
         ],
         "matches": "x",
         "showticklabels": false,
         "title": {
          "text": ""
         }
        },
        "yaxis18": {
         "anchor": "x18",
         "domain": [
          0.6866666666666665,
          0.9999999999999998
         ],
         "matches": "y",
         "showticklabels": false,
         "title": {
          "text": ""
         }
        },
        "annotations": [
         {
          "showarrow": false,
          "text": "0.5",
          "x": 0.07333333333333333,
          "xanchor": "center",
          "xref": "paper",
          "y": 0.9999999999999998,
          "yanchor": "bottom",
          "yref": "paper"
         },
         {
          "showarrow": false,
          "text": "1.0",
          "x": 0.24,
          "xanchor": "center",
          "xref": "paper",
          "y": 0.9999999999999998,
          "yanchor": "bottom",
          "yref": "paper"
         },
         {
          "showarrow": false,
          "text": "2.0",
          "x": 0.4066666666666666,
          "xanchor": "center",
          "xref": "paper",
          "y": 0.9999999999999998,
          "yanchor": "bottom",
          "yref": "paper"
         },
         {
          "showarrow": false,
          "text": "5.0",
          "x": 0.5733333333333334,
          "xanchor": "center",
          "xref": "paper",
          "y": 0.9999999999999998,
          "yanchor": "bottom",
          "yref": "paper"
         },
         {
          "showarrow": false,
          "text": "15.0",
          "x": 0.74,
          "xanchor": "center",
          "xref": "paper",
          "y": 0.9999999999999998,
          "yanchor": "bottom",
          "yref": "paper"
         },
         {
          "showarrow": false,
          "text": "30.0",
          "x": 0.9066666666666667,
          "xanchor": "center",
          "xref": "paper",
          "y": 0.9999999999999998,
          "yanchor": "bottom",
          "yref": "paper"
         },
         {
          "showarrow": false,
          "text": "600",
          "textangle": 90,
          "x": 0.98,
          "xanchor": "left",
          "xref": "paper",
          "y": 0.15666666666666665,
          "yanchor": "middle",
          "yref": "paper"
         },
         {
          "showarrow": false,
          "text": "300",
          "textangle": 90,
          "x": 0.98,
          "xanchor": "left",
          "xref": "paper",
          "y": 0.4999999999999999,
          "yanchor": "middle",
          "yref": "paper"
         },
         {
          "showarrow": false,
          "text": "180",
          "textangle": 90,
          "x": 0.98,
          "xanchor": "left",
          "xref": "paper",
          "y": 0.8433333333333332,
          "yanchor": "middle",
          "yref": "paper"
         },
         {
          "showarrow": false,
          "text": "X",
          "x": "Manhattan",
          "xanchor": "center",
          "xref": "x2",
          "y": 0,
          "yanchor": "bottom",
          "yref": "y2"
         },
         {
          "showarrow": false,
          "text": "X",
          "x": "NYC",
          "xanchor": "center",
          "xref": "x2",
          "y": 0,
          "yanchor": "bottom",
          "yref": "y2"
         },
         {
          "showarrow": false,
          "text": "X",
          "x": "NYC",
          "xanchor": "center",
          "xref": "x9",
          "y": 0,
          "yanchor": "bottom",
          "yref": "y9"
         },
         {
          "showarrow": false,
          "text": "X",
          "x": "Manhattan",
          "xanchor": "center",
          "xref": "x3",
          "y": 0,
          "yanchor": "bottom",
          "yref": "y3"
         },
         {
          "showarrow": false,
          "text": "X",
          "x": "NYC",
          "xanchor": "center",
          "xref": "x3",
          "y": 0,
          "yanchor": "bottom",
          "yref": "y3"
         },
         {
          "showarrow": false,
          "text": "X",
          "x": "Manhattan",
          "xanchor": "center",
          "xref": "x16",
          "y": 0,
          "yanchor": "bottom",
          "yref": "y16"
         },
         {
          "showarrow": false,
          "text": "X",
          "x": "NYC",
          "xanchor": "center",
          "xref": "x16",
          "y": 0,
          "yanchor": "bottom",
          "yref": "y16"
         },
         {
          "showarrow": false,
          "text": "X",
          "x": "Manhattan",
          "xanchor": "center",
          "xref": "x10",
          "y": 0,
          "yanchor": "bottom",
          "yref": "y10"
         },
         {
          "showarrow": false,
          "text": "X",
          "x": "NYC",
          "xanchor": "center",
          "xref": "x10",
          "y": 0,
          "yanchor": "bottom",
          "yref": "y10"
         },
         {
          "showarrow": false,
          "text": "X",
          "x": "Chicago",
          "xanchor": "center",
          "xref": "x4",
          "y": 0,
          "yanchor": "bottom",
          "yref": "y4"
         },
         {
          "showarrow": false,
          "text": "X",
          "x": "Manhattan",
          "xanchor": "center",
          "xref": "x4",
          "y": 0,
          "yanchor": "bottom",
          "yref": "y4"
         },
         {
          "showarrow": false,
          "text": "X",
          "x": "NYC",
          "xanchor": "center",
          "xref": "x4",
          "y": 0,
          "yanchor": "bottom",
          "yref": "y4"
         },
         {
          "showarrow": false,
          "text": "X",
          "x": "Chicago",
          "xanchor": "center",
          "xref": "x17",
          "y": 0,
          "yanchor": "bottom",
          "yref": "y17"
         },
         {
          "showarrow": false,
          "text": "X",
          "x": "Manhattan",
          "xanchor": "center",
          "xref": "x17",
          "y": 0,
          "yanchor": "bottom",
          "yref": "y17"
         },
         {
          "showarrow": false,
          "text": "X",
          "x": "NYC",
          "xanchor": "center",
          "xref": "x17",
          "y": 0,
          "yanchor": "bottom",
          "yref": "y17"
         },
         {
          "showarrow": false,
          "text": "X",
          "x": "Chicago",
          "xanchor": "center",
          "xref": "x11",
          "y": 0,
          "yanchor": "bottom",
          "yref": "y11"
         },
         {
          "showarrow": false,
          "text": "X",
          "x": "Manhattan",
          "xanchor": "center",
          "xref": "x11",
          "y": 0,
          "yanchor": "bottom",
          "yref": "y11"
         },
         {
          "showarrow": false,
          "text": "X",
          "x": "NYC",
          "xanchor": "center",
          "xref": "x11",
          "y": 0,
          "yanchor": "bottom",
          "yref": "y11"
         },
         {
          "showarrow": false,
          "text": "X",
          "x": "Chicago",
          "xanchor": "center",
          "xref": "x5",
          "y": 0,
          "yanchor": "bottom",
          "yref": "y5"
         },
         {
          "showarrow": false,
          "text": "X",
          "x": "Manhattan",
          "xanchor": "center",
          "xref": "x5",
          "y": 0,
          "yanchor": "bottom",
          "yref": "y5"
         },
         {
          "showarrow": false,
          "text": "X",
          "x": "NYC",
          "xanchor": "center",
          "xref": "x5",
          "y": 0,
          "yanchor": "bottom",
          "yref": "y5"
         },
         {
          "showarrow": false,
          "text": "X",
          "x": "Chicago",
          "xanchor": "center",
          "xref": "x18",
          "y": 0,
          "yanchor": "bottom",
          "yref": "y18"
         },
         {
          "showarrow": false,
          "text": "X",
          "x": "Manhattan",
          "xanchor": "center",
          "xref": "x18",
          "y": 0,
          "yanchor": "bottom",
          "yref": "y18"
         },
         {
          "showarrow": false,
          "text": "X",
          "x": "NYC",
          "xanchor": "center",
          "xref": "x18",
          "y": 0,
          "yanchor": "bottom",
          "yref": "y18"
         },
         {
          "showarrow": false,
          "text": "X",
          "x": "Chicago",
          "xanchor": "center",
          "xref": "x12",
          "y": 0,
          "yanchor": "bottom",
          "yref": "y12"
         },
         {
          "showarrow": false,
          "text": "X",
          "x": "Manhattan",
          "xanchor": "center",
          "xref": "x12",
          "y": 0,
          "yanchor": "bottom",
          "yref": "y12"
         },
         {
          "showarrow": false,
          "text": "X",
          "x": "NYC",
          "xanchor": "center",
          "xref": "x12",
          "y": 0,
          "yanchor": "bottom",
          "yref": "y12"
         },
         {
          "showarrow": false,
          "text": "X",
          "x": "Chicago",
          "xanchor": "center",
          "xref": "x6",
          "y": 0,
          "yanchor": "bottom",
          "yref": "y6"
         },
         {
          "showarrow": false,
          "text": "X",
          "x": "DC",
          "xanchor": "center",
          "xref": "x6",
          "y": 0,
          "yanchor": "bottom",
          "yref": "y6"
         },
         {
          "showarrow": false,
          "text": "X",
          "x": "Manhattan",
          "xanchor": "center",
          "xref": "x6",
          "y": 0,
          "yanchor": "bottom",
          "yref": "y6"
         },
         {
          "showarrow": false,
          "text": "X",
          "x": "NYC",
          "xanchor": "center",
          "xref": "x6",
          "y": 0,
          "yanchor": "bottom",
          "yref": "y6"
         },
         {
          "showarrow": false,
          "text": "cost diff between VGA and IH [%]",
          "textangle": -90,
          "x": -0.05,
          "xref": "paper",
          "y": 0.5,
          "yref": "paper"
         },
         {
          "showarrow": false,
          "text": "instance length [min]",
          "x": 0.5,
          "xref": "paper",
          "y": 1.12,
          "yref": "paper"
         },
         {
          "showarrow": false,
          "text": "maximum delay [s]",
          "textangle": 90,
          "x": 1.02,
          "xref": "paper",
          "y": 0.5,
          "yref": "paper"
         }
        ],
        "legend": {
         "tracegroupgap": 0,
         "orientation": "h",
         "yanchor": "bottom",
         "y": 1.06,
         "xanchor": "right",
         "x": 1,
         "bordercolor": "Black",
         "borderwidth": 1
        },
        "margin": {
         "t": 35,
         "l": 0,
         "r": 0,
         "b": 0,
         "pad": 0
        },
        "barmode": "group",
        "height": 400,
        "width": 900
       },
       "config": {
        "plotlyServerURL": "https://plot.ly"
       }
      },
      "text/html": "<div>                            <div id=\"0fa2e3d5-21ee-4afa-8d87-79288e049d28\" class=\"plotly-graph-div\" style=\"height:400px; width:900px;\"></div>            <script type=\"text/javascript\">                require([\"plotly\"], function(Plotly) {                    window.PLOTLYENV=window.PLOTLYENV || {};                                    if (document.getElementById(\"0fa2e3d5-21ee-4afa-8d87-79288e049d28\")) {                    Plotly.newPlot(                        \"0fa2e3d5-21ee-4afa-8d87-79288e049d28\",                        [{\"alignmentgroup\":\"True\",\"hovertemplate\":\"max_delay=180<br>duration_minutes=0.5<br>area=%{x}<br>cost_ratio_percent=%{y}<extra></extra>\",\"legendgroup\":\"\",\"marker\":{\"color\":\"#636efa\",\"pattern\":{\"shape\":\"\"}},\"name\":\"\",\"offsetgroup\":\"\",\"orientation\":\"v\",\"showlegend\":false,\"textposition\":\"auto\",\"x\":[\"Chicago\",\"DC\",\"Manhattan\",\"NYC\"],\"xaxis\":\"x13\",\"y\":[12.0,0.0,6.113138686131388,6.33239171374765],\"yaxis\":\"y13\",\"type\":\"bar\"},{\"alignmentgroup\":\"True\",\"hovertemplate\":\"max_delay=180<br>duration_minutes=1.0<br>area=%{x}<br>cost_ratio_percent=%{y}<extra></extra>\",\"legendgroup\":\"\",\"marker\":{\"color\":\"#636efa\",\"pattern\":{\"shape\":\"\"}},\"name\":\"\",\"offsetgroup\":\"\",\"orientation\":\"v\",\"showlegend\":false,\"textposition\":\"auto\",\"x\":[\"Chicago\",\"DC\",\"Manhattan\",\"NYC\"],\"xaxis\":\"x14\",\"y\":[0.8064516129032304,0.0,15.175481957488875,6.219512195121949],\"yaxis\":\"y14\",\"type\":\"bar\"},{\"alignmentgroup\":\"True\",\"hovertemplate\":\"max_delay=180<br>duration_minutes=2.0<br>area=%{x}<br>cost_ratio_percent=%{y}<extra></extra>\",\"legendgroup\":\"\",\"marker\":{\"color\":\"#636efa\",\"pattern\":{\"shape\":\"\"}},\"name\":\"\",\"offsetgroup\":\"\",\"orientation\":\"v\",\"showlegend\":false,\"textposition\":\"auto\",\"x\":[\"Chicago\",\"DC\",\"Manhattan\",\"NYC\"],\"xaxis\":\"x15\",\"y\":[3.263403263403263,1.2787723785166298,21.1314475873544,11.665690866510541],\"yaxis\":\"y15\",\"type\":\"bar\"},{\"alignmentgroup\":\"True\",\"hovertemplate\":\"max_delay=180<br>duration_minutes=5.0<br>area=%{x}<br>cost_ratio_percent=%{y}<extra></extra>\",\"legendgroup\":\"\",\"marker\":{\"color\":\"#636efa\",\"pattern\":{\"shape\":\"\"}},\"name\":\"\",\"offsetgroup\":\"\",\"orientation\":\"v\",\"showlegend\":false,\"textposition\":\"auto\",\"x\":[\"Chicago\",\"DC\",\"Manhattan\",\"NYC\"],\"xaxis\":\"x16\",\"y\":[9.954407294832816,1.521555367709214,null,null],\"yaxis\":\"y16\",\"type\":\"bar\"},{\"alignmentgroup\":\"True\",\"hovertemplate\":\"max_delay=180<br>duration_minutes=15.0<br>area=%{x}<br>cost_ratio_percent=%{y}<extra></extra>\",\"legendgroup\":\"\",\"marker\":{\"color\":\"#636efa\",\"pattern\":{\"shape\":\"\"}},\"name\":\"\",\"offsetgroup\":\"\",\"orientation\":\"v\",\"showlegend\":false,\"textposition\":\"auto\",\"x\":[\"Chicago\",\"DC\",\"Manhattan\",\"NYC\"],\"xaxis\":\"x17\",\"y\":[null,5.067155067155072,null,null],\"yaxis\":\"y17\",\"type\":\"bar\"},{\"alignmentgroup\":\"True\",\"hovertemplate\":\"max_delay=180<br>duration_minutes=30.0<br>area=%{x}<br>cost_ratio_percent=%{y}<extra></extra>\",\"legendgroup\":\"\",\"marker\":{\"color\":\"#636efa\",\"pattern\":{\"shape\":\"\"}},\"name\":\"\",\"offsetgroup\":\"\",\"orientation\":\"v\",\"showlegend\":false,\"textposition\":\"auto\",\"x\":[\"Chicago\",\"DC\",\"Manhattan\",\"NYC\"],\"xaxis\":\"x18\",\"y\":[null,7.033997655334108,null,null],\"yaxis\":\"y18\",\"type\":\"bar\"},{\"alignmentgroup\":\"True\",\"hovertemplate\":\"max_delay=300<br>duration_minutes=0.5<br>area=%{x}<br>cost_ratio_percent=%{y}<extra></extra>\",\"legendgroup\":\"\",\"marker\":{\"color\":\"#636efa\",\"pattern\":{\"shape\":\"\"}},\"name\":\"\",\"offsetgroup\":\"\",\"orientation\":\"v\",\"showlegend\":false,\"textposition\":\"auto\",\"x\":[\"Chicago\",\"DC\",\"Manhattan\",\"NYC\"],\"xaxis\":\"x7\",\"y\":[0.0,0.0,16.559139784946236,7.408419901585563],\"yaxis\":\"y7\",\"type\":\"bar\"},{\"alignmentgroup\":\"True\",\"hovertemplate\":\"max_delay=300<br>duration_minutes=1.0<br>area=%{x}<br>cost_ratio_percent=%{y}<extra></extra>\",\"legendgroup\":\"\",\"marker\":{\"color\":\"#636efa\",\"pattern\":{\"shape\":\"\"}},\"name\":\"\",\"offsetgroup\":\"\",\"orientation\":\"v\",\"showlegend\":false,\"textposition\":\"auto\",\"x\":[\"Chicago\",\"DC\",\"Manhattan\",\"NYC\"],\"xaxis\":\"x8\",\"y\":[3.3333333333333317,0.0,23.5399284862932,8.585304715650937],\"yaxis\":\"y8\",\"type\":\"bar\"},{\"alignmentgroup\":\"True\",\"hovertemplate\":\"max_delay=300<br>duration_minutes=2.0<br>area=%{x}<br>cost_ratio_percent=%{y}<extra></extra>\",\"legendgroup\":\"\",\"marker\":{\"color\":\"#636efa\",\"pattern\":{\"shape\":\"\"}},\"name\":\"\",\"offsetgroup\":\"\",\"orientation\":\"v\",\"showlegend\":false,\"textposition\":\"auto\",\"x\":[\"Chicago\",\"DC\",\"Manhattan\",\"NYC\"],\"xaxis\":\"x9\",\"y\":[3.827751196172254,2.0887728459529904,30.70997990622906,null],\"yaxis\":\"y9\",\"type\":\"bar\"},{\"alignmentgroup\":\"True\",\"hovertemplate\":\"max_delay=300<br>duration_minutes=5.0<br>area=%{x}<br>cost_ratio_percent=%{y}<extra></extra>\",\"legendgroup\":\"\",\"marker\":{\"color\":\"#636efa\",\"pattern\":{\"shape\":\"\"}},\"name\":\"\",\"offsetgroup\":\"\",\"orientation\":\"v\",\"showlegend\":false,\"textposition\":\"auto\",\"x\":[\"Chicago\",\"DC\",\"Manhattan\",\"NYC\"],\"xaxis\":\"x10\",\"y\":[6.818181818181805,6.04878048780488,null,null],\"yaxis\":\"y10\",\"type\":\"bar\"},{\"alignmentgroup\":\"True\",\"hovertemplate\":\"max_delay=300<br>duration_minutes=15.0<br>area=%{x}<br>cost_ratio_percent=%{y}<extra></extra>\",\"legendgroup\":\"\",\"marker\":{\"color\":\"#636efa\",\"pattern\":{\"shape\":\"\"}},\"name\":\"\",\"offsetgroup\":\"\",\"orientation\":\"v\",\"showlegend\":false,\"textposition\":\"auto\",\"x\":[\"Chicago\",\"DC\",\"Manhattan\",\"NYC\"],\"xaxis\":\"x11\",\"y\":[null,9.544950055493898,null,null],\"yaxis\":\"y11\",\"type\":\"bar\"},{\"alignmentgroup\":\"True\",\"hovertemplate\":\"max_delay=300<br>duration_minutes=30.0<br>area=%{x}<br>cost_ratio_percent=%{y}<extra></extra>\",\"legendgroup\":\"\",\"marker\":{\"color\":\"#636efa\",\"pattern\":{\"shape\":\"\"}},\"name\":\"\",\"offsetgroup\":\"\",\"orientation\":\"v\",\"showlegend\":false,\"textposition\":\"auto\",\"x\":[\"Chicago\",\"DC\",\"Manhattan\",\"NYC\"],\"xaxis\":\"x12\",\"y\":[null,16.009089031191902,null,null],\"yaxis\":\"y12\",\"type\":\"bar\"},{\"alignmentgroup\":\"True\",\"hovertemplate\":\"max_delay=600<br>duration_minutes=0.5<br>area=%{x}<br>cost_ratio_percent=%{y}<extra></extra>\",\"legendgroup\":\"\",\"marker\":{\"color\":\"#636efa\",\"pattern\":{\"shape\":\"\"}},\"name\":\"\",\"offsetgroup\":\"\",\"orientation\":\"v\",\"showlegend\":false,\"textposition\":\"auto\",\"x\":[\"Chicago\",\"DC\",\"Manhattan\",\"NYC\"],\"xaxis\":\"x\",\"y\":[1.9607843137254901,0.0,26.45914396887158,14.388254486133755],\"yaxis\":\"y\",\"type\":\"bar\"},{\"alignmentgroup\":\"True\",\"hovertemplate\":\"max_delay=600<br>duration_minutes=1.0<br>area=%{x}<br>cost_ratio_percent=%{y}<extra></extra>\",\"legendgroup\":\"\",\"marker\":{\"color\":\"#636efa\",\"pattern\":{\"shape\":\"\"}},\"name\":\"\",\"offsetgroup\":\"\",\"orientation\":\"v\",\"showlegend\":false,\"textposition\":\"auto\",\"x\":[\"Chicago\",\"DC\",\"Manhattan\",\"NYC\"],\"xaxis\":\"x2\",\"y\":[1.8779342723004684,0.0,null,null],\"yaxis\":\"y2\",\"type\":\"bar\"},{\"alignmentgroup\":\"True\",\"hovertemplate\":\"max_delay=600<br>duration_minutes=2.0<br>area=%{x}<br>cost_ratio_percent=%{y}<extra></extra>\",\"legendgroup\":\"\",\"marker\":{\"color\":\"#636efa\",\"pattern\":{\"shape\":\"\"}},\"name\":\"\",\"offsetgroup\":\"\",\"orientation\":\"v\",\"showlegend\":false,\"textposition\":\"auto\",\"x\":[\"Chicago\",\"DC\",\"Manhattan\",\"NYC\"],\"xaxis\":\"x3\",\"y\":[1.7632241813602016,17.55485893416929,null,null],\"yaxis\":\"y3\",\"type\":\"bar\"},{\"alignmentgroup\":\"True\",\"hovertemplate\":\"max_delay=600<br>duration_minutes=5.0<br>area=%{x}<br>cost_ratio_percent=%{y}<extra></extra>\",\"legendgroup\":\"\",\"marker\":{\"color\":\"#636efa\",\"pattern\":{\"shape\":\"\"}},\"name\":\"\",\"offsetgroup\":\"\",\"orientation\":\"v\",\"showlegend\":false,\"textposition\":\"auto\",\"x\":[\"Chicago\",\"DC\",\"Manhattan\",\"NYC\"],\"xaxis\":\"x4\",\"y\":[null,19.18678526048284,null,null],\"yaxis\":\"y4\",\"type\":\"bar\"},{\"alignmentgroup\":\"True\",\"hovertemplate\":\"max_delay=600<br>duration_minutes=15.0<br>area=%{x}<br>cost_ratio_percent=%{y}<extra></extra>\",\"legendgroup\":\"\",\"marker\":{\"color\":\"#636efa\",\"pattern\":{\"shape\":\"\"}},\"name\":\"\",\"offsetgroup\":\"\",\"orientation\":\"v\",\"showlegend\":false,\"textposition\":\"auto\",\"x\":[\"Chicago\",\"DC\",\"Manhattan\",\"NYC\"],\"xaxis\":\"x5\",\"y\":[null,27.04663212435234,null,null],\"yaxis\":\"y5\",\"type\":\"bar\"},{\"alignmentgroup\":\"True\",\"hovertemplate\":\"max_delay=600<br>duration_minutes=30.0<br>area=%{x}<br>cost_ratio_percent=%{y}<extra></extra>\",\"legendgroup\":\"\",\"marker\":{\"color\":\"#636efa\",\"pattern\":{\"shape\":\"\"}},\"name\":\"\",\"offsetgroup\":\"\",\"orientation\":\"v\",\"showlegend\":false,\"textposition\":\"auto\",\"x\":[\"Chicago\",\"DC\",\"Manhattan\",\"NYC\"],\"xaxis\":\"x6\",\"y\":[null,null,null,null],\"yaxis\":\"y6\",\"type\":\"bar\"}],                        {\"template\":{\"data\":{\"histogram2dcontour\":[{\"type\":\"histogram2dcontour\",\"colorbar\":{\"outlinewidth\":0,\"ticks\":\"\"},\"colorscale\":[[0.0,\"#0d0887\"],[0.1111111111111111,\"#46039f\"],[0.2222222222222222,\"#7201a8\"],[0.3333333333333333,\"#9c179e\"],[0.4444444444444444,\"#bd3786\"],[0.5555555555555556,\"#d8576b\"],[0.6666666666666666,\"#ed7953\"],[0.7777777777777778,\"#fb9f3a\"],[0.8888888888888888,\"#fdca26\"],[1.0,\"#f0f921\"]]}],\"choropleth\":[{\"type\":\"choropleth\",\"colorbar\":{\"outlinewidth\":0,\"ticks\":\"\"}}],\"histogram2d\":[{\"type\":\"histogram2d\",\"colorbar\":{\"outlinewidth\":0,\"ticks\":\"\"},\"colorscale\":[[0.0,\"#0d0887\"],[0.1111111111111111,\"#46039f\"],[0.2222222222222222,\"#7201a8\"],[0.3333333333333333,\"#9c179e\"],[0.4444444444444444,\"#bd3786\"],[0.5555555555555556,\"#d8576b\"],[0.6666666666666666,\"#ed7953\"],[0.7777777777777778,\"#fb9f3a\"],[0.8888888888888888,\"#fdca26\"],[1.0,\"#f0f921\"]]}],\"heatmap\":[{\"type\":\"heatmap\",\"colorbar\":{\"outlinewidth\":0,\"ticks\":\"\"},\"colorscale\":[[0.0,\"#0d0887\"],[0.1111111111111111,\"#46039f\"],[0.2222222222222222,\"#7201a8\"],[0.3333333333333333,\"#9c179e\"],[0.4444444444444444,\"#bd3786\"],[0.5555555555555556,\"#d8576b\"],[0.6666666666666666,\"#ed7953\"],[0.7777777777777778,\"#fb9f3a\"],[0.8888888888888888,\"#fdca26\"],[1.0,\"#f0f921\"]]}],\"heatmapgl\":[{\"type\":\"heatmapgl\",\"colorbar\":{\"outlinewidth\":0,\"ticks\":\"\"},\"colorscale\":[[0.0,\"#0d0887\"],[0.1111111111111111,\"#46039f\"],[0.2222222222222222,\"#7201a8\"],[0.3333333333333333,\"#9c179e\"],[0.4444444444444444,\"#bd3786\"],[0.5555555555555556,\"#d8576b\"],[0.6666666666666666,\"#ed7953\"],[0.7777777777777778,\"#fb9f3a\"],[0.8888888888888888,\"#fdca26\"],[1.0,\"#f0f921\"]]}],\"contourcarpet\":[{\"type\":\"contourcarpet\",\"colorbar\":{\"outlinewidth\":0,\"ticks\":\"\"}}],\"contour\":[{\"type\":\"contour\",\"colorbar\":{\"outlinewidth\":0,\"ticks\":\"\"},\"colorscale\":[[0.0,\"#0d0887\"],[0.1111111111111111,\"#46039f\"],[0.2222222222222222,\"#7201a8\"],[0.3333333333333333,\"#9c179e\"],[0.4444444444444444,\"#bd3786\"],[0.5555555555555556,\"#d8576b\"],[0.6666666666666666,\"#ed7953\"],[0.7777777777777778,\"#fb9f3a\"],[0.8888888888888888,\"#fdca26\"],[1.0,\"#f0f921\"]]}],\"surface\":[{\"type\":\"surface\",\"colorbar\":{\"outlinewidth\":0,\"ticks\":\"\"},\"colorscale\":[[0.0,\"#0d0887\"],[0.1111111111111111,\"#46039f\"],[0.2222222222222222,\"#7201a8\"],[0.3333333333333333,\"#9c179e\"],[0.4444444444444444,\"#bd3786\"],[0.5555555555555556,\"#d8576b\"],[0.6666666666666666,\"#ed7953\"],[0.7777777777777778,\"#fb9f3a\"],[0.8888888888888888,\"#fdca26\"],[1.0,\"#f0f921\"]]}],\"mesh3d\":[{\"type\":\"mesh3d\",\"colorbar\":{\"outlinewidth\":0,\"ticks\":\"\"}}],\"scatter\":[{\"fillpattern\":{\"fillmode\":\"overlay\",\"size\":10,\"solidity\":0.2},\"type\":\"scatter\"}],\"parcoords\":[{\"type\":\"parcoords\",\"line\":{\"colorbar\":{\"outlinewidth\":0,\"ticks\":\"\"}}}],\"scatterpolargl\":[{\"type\":\"scatterpolargl\",\"marker\":{\"colorbar\":{\"outlinewidth\":0,\"ticks\":\"\"}}}],\"bar\":[{\"error_x\":{\"color\":\"#2a3f5f\"},\"error_y\":{\"color\":\"#2a3f5f\"},\"marker\":{\"line\":{\"color\":\"#E5ECF6\",\"width\":0.5},\"pattern\":{\"fillmode\":\"overlay\",\"size\":10,\"solidity\":0.2}},\"type\":\"bar\"}],\"scattergeo\":[{\"type\":\"scattergeo\",\"marker\":{\"colorbar\":{\"outlinewidth\":0,\"ticks\":\"\"}}}],\"scatterpolar\":[{\"type\":\"scatterpolar\",\"marker\":{\"colorbar\":{\"outlinewidth\":0,\"ticks\":\"\"}}}],\"histogram\":[{\"marker\":{\"pattern\":{\"fillmode\":\"overlay\",\"size\":10,\"solidity\":0.2}},\"type\":\"histogram\"}],\"scattergl\":[{\"type\":\"scattergl\",\"marker\":{\"colorbar\":{\"outlinewidth\":0,\"ticks\":\"\"}}}],\"scatter3d\":[{\"type\":\"scatter3d\",\"line\":{\"colorbar\":{\"outlinewidth\":0,\"ticks\":\"\"}},\"marker\":{\"colorbar\":{\"outlinewidth\":0,\"ticks\":\"\"}}}],\"scattermapbox\":[{\"type\":\"scattermapbox\",\"marker\":{\"colorbar\":{\"outlinewidth\":0,\"ticks\":\"\"}}}],\"scatterternary\":[{\"type\":\"scatterternary\",\"marker\":{\"colorbar\":{\"outlinewidth\":0,\"ticks\":\"\"}}}],\"scattercarpet\":[{\"type\":\"scattercarpet\",\"marker\":{\"colorbar\":{\"outlinewidth\":0,\"ticks\":\"\"}}}],\"carpet\":[{\"aaxis\":{\"endlinecolor\":\"#2a3f5f\",\"gridcolor\":\"white\",\"linecolor\":\"white\",\"minorgridcolor\":\"white\",\"startlinecolor\":\"#2a3f5f\"},\"baxis\":{\"endlinecolor\":\"#2a3f5f\",\"gridcolor\":\"white\",\"linecolor\":\"white\",\"minorgridcolor\":\"white\",\"startlinecolor\":\"#2a3f5f\"},\"type\":\"carpet\"}],\"table\":[{\"cells\":{\"fill\":{\"color\":\"#EBF0F8\"},\"line\":{\"color\":\"white\"}},\"header\":{\"fill\":{\"color\":\"#C8D4E3\"},\"line\":{\"color\":\"white\"}},\"type\":\"table\"}],\"barpolar\":[{\"marker\":{\"line\":{\"color\":\"#E5ECF6\",\"width\":0.5},\"pattern\":{\"fillmode\":\"overlay\",\"size\":10,\"solidity\":0.2}},\"type\":\"barpolar\"}],\"pie\":[{\"automargin\":true,\"type\":\"pie\"}]},\"layout\":{\"autotypenumbers\":\"strict\",\"colorway\":[\"#636efa\",\"#EF553B\",\"#00cc96\",\"#ab63fa\",\"#FFA15A\",\"#19d3f3\",\"#FF6692\",\"#B6E880\",\"#FF97FF\",\"#FECB52\"],\"font\":{\"color\":\"#2a3f5f\"},\"hovermode\":\"closest\",\"hoverlabel\":{\"align\":\"left\"},\"paper_bgcolor\":\"white\",\"plot_bgcolor\":\"#E5ECF6\",\"polar\":{\"bgcolor\":\"#E5ECF6\",\"angularaxis\":{\"gridcolor\":\"white\",\"linecolor\":\"white\",\"ticks\":\"\"},\"radialaxis\":{\"gridcolor\":\"white\",\"linecolor\":\"white\",\"ticks\":\"\"}},\"ternary\":{\"bgcolor\":\"#E5ECF6\",\"aaxis\":{\"gridcolor\":\"white\",\"linecolor\":\"white\",\"ticks\":\"\"},\"baxis\":{\"gridcolor\":\"white\",\"linecolor\":\"white\",\"ticks\":\"\"},\"caxis\":{\"gridcolor\":\"white\",\"linecolor\":\"white\",\"ticks\":\"\"}},\"coloraxis\":{\"colorbar\":{\"outlinewidth\":0,\"ticks\":\"\"}},\"colorscale\":{\"sequential\":[[0.0,\"#0d0887\"],[0.1111111111111111,\"#46039f\"],[0.2222222222222222,\"#7201a8\"],[0.3333333333333333,\"#9c179e\"],[0.4444444444444444,\"#bd3786\"],[0.5555555555555556,\"#d8576b\"],[0.6666666666666666,\"#ed7953\"],[0.7777777777777778,\"#fb9f3a\"],[0.8888888888888888,\"#fdca26\"],[1.0,\"#f0f921\"]],\"sequentialminus\":[[0.0,\"#0d0887\"],[0.1111111111111111,\"#46039f\"],[0.2222222222222222,\"#7201a8\"],[0.3333333333333333,\"#9c179e\"],[0.4444444444444444,\"#bd3786\"],[0.5555555555555556,\"#d8576b\"],[0.6666666666666666,\"#ed7953\"],[0.7777777777777778,\"#fb9f3a\"],[0.8888888888888888,\"#fdca26\"],[1.0,\"#f0f921\"]],\"diverging\":[[0,\"#8e0152\"],[0.1,\"#c51b7d\"],[0.2,\"#de77ae\"],[0.3,\"#f1b6da\"],[0.4,\"#fde0ef\"],[0.5,\"#f7f7f7\"],[0.6,\"#e6f5d0\"],[0.7,\"#b8e186\"],[0.8,\"#7fbc41\"],[0.9,\"#4d9221\"],[1,\"#276419\"]]},\"xaxis\":{\"gridcolor\":\"white\",\"linecolor\":\"white\",\"ticks\":\"\",\"title\":{\"standoff\":15},\"zerolinecolor\":\"white\",\"automargin\":true,\"zerolinewidth\":2},\"yaxis\":{\"gridcolor\":\"white\",\"linecolor\":\"white\",\"ticks\":\"\",\"title\":{\"standoff\":15},\"zerolinecolor\":\"white\",\"automargin\":true,\"zerolinewidth\":2},\"scene\":{\"xaxis\":{\"backgroundcolor\":\"#E5ECF6\",\"gridcolor\":\"white\",\"linecolor\":\"white\",\"showbackground\":true,\"ticks\":\"\",\"zerolinecolor\":\"white\",\"gridwidth\":2},\"yaxis\":{\"backgroundcolor\":\"#E5ECF6\",\"gridcolor\":\"white\",\"linecolor\":\"white\",\"showbackground\":true,\"ticks\":\"\",\"zerolinecolor\":\"white\",\"gridwidth\":2},\"zaxis\":{\"backgroundcolor\":\"#E5ECF6\",\"gridcolor\":\"white\",\"linecolor\":\"white\",\"showbackground\":true,\"ticks\":\"\",\"zerolinecolor\":\"white\",\"gridwidth\":2}},\"shapedefaults\":{\"line\":{\"color\":\"#2a3f5f\"}},\"annotationdefaults\":{\"arrowcolor\":\"#2a3f5f\",\"arrowhead\":0,\"arrowwidth\":1},\"geo\":{\"bgcolor\":\"white\",\"landcolor\":\"#E5ECF6\",\"subunitcolor\":\"white\",\"showland\":true,\"showlakes\":true,\"lakecolor\":\"white\"},\"title\":{\"x\":0.05},\"mapbox\":{\"style\":\"light\"}}},\"xaxis\":{\"anchor\":\"y\",\"domain\":[0.0,0.14666666666666667],\"title\":{\"text\":\"\"}},\"yaxis\":{\"anchor\":\"x\",\"domain\":[0.0,0.3133333333333333],\"title\":{\"text\":\"\"}},\"xaxis2\":{\"anchor\":\"y2\",\"domain\":[0.16666666666666666,0.31333333333333335],\"matches\":\"x\",\"title\":{\"text\":\"\"}},\"yaxis2\":{\"anchor\":\"x2\",\"domain\":[0.0,0.3133333333333333],\"matches\":\"y\",\"showticklabels\":false,\"title\":{\"text\":\"\"}},\"xaxis3\":{\"anchor\":\"y3\",\"domain\":[0.3333333333333333,0.48],\"matches\":\"x\",\"title\":{\"text\":\"\"}},\"yaxis3\":{\"anchor\":\"x3\",\"domain\":[0.0,0.3133333333333333],\"matches\":\"y\",\"showticklabels\":false,\"title\":{\"text\":\"\"}},\"xaxis4\":{\"anchor\":\"y4\",\"domain\":[0.5,0.6466666666666667],\"matches\":\"x\",\"title\":{\"text\":\"\"}},\"yaxis4\":{\"anchor\":\"x4\",\"domain\":[0.0,0.3133333333333333],\"matches\":\"y\",\"showticklabels\":false,\"title\":{\"text\":\"\"}},\"xaxis5\":{\"anchor\":\"y5\",\"domain\":[0.6666666666666666,0.8133333333333332],\"matches\":\"x\",\"title\":{\"text\":\"\"}},\"yaxis5\":{\"anchor\":\"x5\",\"domain\":[0.0,0.3133333333333333],\"matches\":\"y\",\"showticklabels\":false,\"title\":{\"text\":\"\"}},\"xaxis6\":{\"anchor\":\"y6\",\"domain\":[0.8333333333333334,0.98],\"matches\":\"x\",\"title\":{\"text\":\"\"}},\"yaxis6\":{\"anchor\":\"x6\",\"domain\":[0.0,0.3133333333333333],\"matches\":\"y\",\"showticklabels\":false,\"title\":{\"text\":\"\"}},\"xaxis7\":{\"anchor\":\"y7\",\"domain\":[0.0,0.14666666666666667],\"matches\":\"x\",\"showticklabels\":false,\"title\":{\"text\":\"\"}},\"yaxis7\":{\"anchor\":\"x7\",\"domain\":[0.34333333333333327,0.6566666666666665],\"matches\":\"y\",\"title\":{\"text\":\"\"}},\"xaxis8\":{\"anchor\":\"y8\",\"domain\":[0.16666666666666666,0.31333333333333335],\"matches\":\"x\",\"showticklabels\":false,\"title\":{\"text\":\"\"}},\"yaxis8\":{\"anchor\":\"x8\",\"domain\":[0.34333333333333327,0.6566666666666665],\"matches\":\"y\",\"showticklabels\":false,\"title\":{\"text\":\"\"}},\"xaxis9\":{\"anchor\":\"y9\",\"domain\":[0.3333333333333333,0.48],\"matches\":\"x\",\"showticklabels\":false,\"title\":{\"text\":\"\"}},\"yaxis9\":{\"anchor\":\"x9\",\"domain\":[0.34333333333333327,0.6566666666666665],\"matches\":\"y\",\"showticklabels\":false,\"title\":{\"text\":\"\"}},\"xaxis10\":{\"anchor\":\"y10\",\"domain\":[0.5,0.6466666666666667],\"matches\":\"x\",\"showticklabels\":false,\"title\":{\"text\":\"\"}},\"yaxis10\":{\"anchor\":\"x10\",\"domain\":[0.34333333333333327,0.6566666666666665],\"matches\":\"y\",\"showticklabels\":false,\"title\":{\"text\":\"\"}},\"xaxis11\":{\"anchor\":\"y11\",\"domain\":[0.6666666666666666,0.8133333333333332],\"matches\":\"x\",\"showticklabels\":false,\"title\":{\"text\":\"\"}},\"yaxis11\":{\"anchor\":\"x11\",\"domain\":[0.34333333333333327,0.6566666666666665],\"matches\":\"y\",\"showticklabels\":false,\"title\":{\"text\":\"\"}},\"xaxis12\":{\"anchor\":\"y12\",\"domain\":[0.8333333333333334,0.98],\"matches\":\"x\",\"showticklabels\":false,\"title\":{\"text\":\"\"}},\"yaxis12\":{\"anchor\":\"x12\",\"domain\":[0.34333333333333327,0.6566666666666665],\"matches\":\"y\",\"showticklabels\":false,\"title\":{\"text\":\"\"}},\"xaxis13\":{\"anchor\":\"y13\",\"domain\":[0.0,0.14666666666666667],\"matches\":\"x\",\"showticklabels\":false,\"title\":{\"text\":\"\"}},\"yaxis13\":{\"anchor\":\"x13\",\"domain\":[0.6866666666666665,0.9999999999999998],\"matches\":\"y\",\"title\":{\"text\":\"\"}},\"xaxis14\":{\"anchor\":\"y14\",\"domain\":[0.16666666666666666,0.31333333333333335],\"matches\":\"x\",\"showticklabels\":false,\"title\":{\"text\":\"\"}},\"yaxis14\":{\"anchor\":\"x14\",\"domain\":[0.6866666666666665,0.9999999999999998],\"matches\":\"y\",\"showticklabels\":false,\"title\":{\"text\":\"\"}},\"xaxis15\":{\"anchor\":\"y15\",\"domain\":[0.3333333333333333,0.48],\"matches\":\"x\",\"showticklabels\":false,\"title\":{\"text\":\"\"}},\"yaxis15\":{\"anchor\":\"x15\",\"domain\":[0.6866666666666665,0.9999999999999998],\"matches\":\"y\",\"showticklabels\":false,\"title\":{\"text\":\"\"}},\"xaxis16\":{\"anchor\":\"y16\",\"domain\":[0.5,0.6466666666666667],\"matches\":\"x\",\"showticklabels\":false,\"title\":{\"text\":\"\"}},\"yaxis16\":{\"anchor\":\"x16\",\"domain\":[0.6866666666666665,0.9999999999999998],\"matches\":\"y\",\"showticklabels\":false,\"title\":{\"text\":\"\"}},\"xaxis17\":{\"anchor\":\"y17\",\"domain\":[0.6666666666666666,0.8133333333333332],\"matches\":\"x\",\"showticklabels\":false,\"title\":{\"text\":\"\"}},\"yaxis17\":{\"anchor\":\"x17\",\"domain\":[0.6866666666666665,0.9999999999999998],\"matches\":\"y\",\"showticklabels\":false,\"title\":{\"text\":\"\"}},\"xaxis18\":{\"anchor\":\"y18\",\"domain\":[0.8333333333333334,0.98],\"matches\":\"x\",\"showticklabels\":false,\"title\":{\"text\":\"\"}},\"yaxis18\":{\"anchor\":\"x18\",\"domain\":[0.6866666666666665,0.9999999999999998],\"matches\":\"y\",\"showticklabels\":false,\"title\":{\"text\":\"\"}},\"annotations\":[{\"showarrow\":false,\"text\":\"0.5\",\"x\":0.07333333333333333,\"xanchor\":\"center\",\"xref\":\"paper\",\"y\":0.9999999999999998,\"yanchor\":\"bottom\",\"yref\":\"paper\"},{\"showarrow\":false,\"text\":\"1.0\",\"x\":0.24,\"xanchor\":\"center\",\"xref\":\"paper\",\"y\":0.9999999999999998,\"yanchor\":\"bottom\",\"yref\":\"paper\"},{\"showarrow\":false,\"text\":\"2.0\",\"x\":0.4066666666666666,\"xanchor\":\"center\",\"xref\":\"paper\",\"y\":0.9999999999999998,\"yanchor\":\"bottom\",\"yref\":\"paper\"},{\"showarrow\":false,\"text\":\"5.0\",\"x\":0.5733333333333334,\"xanchor\":\"center\",\"xref\":\"paper\",\"y\":0.9999999999999998,\"yanchor\":\"bottom\",\"yref\":\"paper\"},{\"showarrow\":false,\"text\":\"15.0\",\"x\":0.74,\"xanchor\":\"center\",\"xref\":\"paper\",\"y\":0.9999999999999998,\"yanchor\":\"bottom\",\"yref\":\"paper\"},{\"showarrow\":false,\"text\":\"30.0\",\"x\":0.9066666666666667,\"xanchor\":\"center\",\"xref\":\"paper\",\"y\":0.9999999999999998,\"yanchor\":\"bottom\",\"yref\":\"paper\"},{\"showarrow\":false,\"text\":\"600\",\"textangle\":90,\"x\":0.98,\"xanchor\":\"left\",\"xref\":\"paper\",\"y\":0.15666666666666665,\"yanchor\":\"middle\",\"yref\":\"paper\"},{\"showarrow\":false,\"text\":\"300\",\"textangle\":90,\"x\":0.98,\"xanchor\":\"left\",\"xref\":\"paper\",\"y\":0.4999999999999999,\"yanchor\":\"middle\",\"yref\":\"paper\"},{\"showarrow\":false,\"text\":\"180\",\"textangle\":90,\"x\":0.98,\"xanchor\":\"left\",\"xref\":\"paper\",\"y\":0.8433333333333332,\"yanchor\":\"middle\",\"yref\":\"paper\"},{\"showarrow\":false,\"text\":\"X\",\"x\":\"Manhattan\",\"xanchor\":\"center\",\"xref\":\"x2\",\"y\":0,\"yanchor\":\"bottom\",\"yref\":\"y2\"},{\"showarrow\":false,\"text\":\"X\",\"x\":\"NYC\",\"xanchor\":\"center\",\"xref\":\"x2\",\"y\":0,\"yanchor\":\"bottom\",\"yref\":\"y2\"},{\"showarrow\":false,\"text\":\"X\",\"x\":\"NYC\",\"xanchor\":\"center\",\"xref\":\"x9\",\"y\":0,\"yanchor\":\"bottom\",\"yref\":\"y9\"},{\"showarrow\":false,\"text\":\"X\",\"x\":\"Manhattan\",\"xanchor\":\"center\",\"xref\":\"x3\",\"y\":0,\"yanchor\":\"bottom\",\"yref\":\"y3\"},{\"showarrow\":false,\"text\":\"X\",\"x\":\"NYC\",\"xanchor\":\"center\",\"xref\":\"x3\",\"y\":0,\"yanchor\":\"bottom\",\"yref\":\"y3\"},{\"showarrow\":false,\"text\":\"X\",\"x\":\"Manhattan\",\"xanchor\":\"center\",\"xref\":\"x16\",\"y\":0,\"yanchor\":\"bottom\",\"yref\":\"y16\"},{\"showarrow\":false,\"text\":\"X\",\"x\":\"NYC\",\"xanchor\":\"center\",\"xref\":\"x16\",\"y\":0,\"yanchor\":\"bottom\",\"yref\":\"y16\"},{\"showarrow\":false,\"text\":\"X\",\"x\":\"Manhattan\",\"xanchor\":\"center\",\"xref\":\"x10\",\"y\":0,\"yanchor\":\"bottom\",\"yref\":\"y10\"},{\"showarrow\":false,\"text\":\"X\",\"x\":\"NYC\",\"xanchor\":\"center\",\"xref\":\"x10\",\"y\":0,\"yanchor\":\"bottom\",\"yref\":\"y10\"},{\"showarrow\":false,\"text\":\"X\",\"x\":\"Chicago\",\"xanchor\":\"center\",\"xref\":\"x4\",\"y\":0,\"yanchor\":\"bottom\",\"yref\":\"y4\"},{\"showarrow\":false,\"text\":\"X\",\"x\":\"Manhattan\",\"xanchor\":\"center\",\"xref\":\"x4\",\"y\":0,\"yanchor\":\"bottom\",\"yref\":\"y4\"},{\"showarrow\":false,\"text\":\"X\",\"x\":\"NYC\",\"xanchor\":\"center\",\"xref\":\"x4\",\"y\":0,\"yanchor\":\"bottom\",\"yref\":\"y4\"},{\"showarrow\":false,\"text\":\"X\",\"x\":\"Chicago\",\"xanchor\":\"center\",\"xref\":\"x17\",\"y\":0,\"yanchor\":\"bottom\",\"yref\":\"y17\"},{\"showarrow\":false,\"text\":\"X\",\"x\":\"Manhattan\",\"xanchor\":\"center\",\"xref\":\"x17\",\"y\":0,\"yanchor\":\"bottom\",\"yref\":\"y17\"},{\"showarrow\":false,\"text\":\"X\",\"x\":\"NYC\",\"xanchor\":\"center\",\"xref\":\"x17\",\"y\":0,\"yanchor\":\"bottom\",\"yref\":\"y17\"},{\"showarrow\":false,\"text\":\"X\",\"x\":\"Chicago\",\"xanchor\":\"center\",\"xref\":\"x11\",\"y\":0,\"yanchor\":\"bottom\",\"yref\":\"y11\"},{\"showarrow\":false,\"text\":\"X\",\"x\":\"Manhattan\",\"xanchor\":\"center\",\"xref\":\"x11\",\"y\":0,\"yanchor\":\"bottom\",\"yref\":\"y11\"},{\"showarrow\":false,\"text\":\"X\",\"x\":\"NYC\",\"xanchor\":\"center\",\"xref\":\"x11\",\"y\":0,\"yanchor\":\"bottom\",\"yref\":\"y11\"},{\"showarrow\":false,\"text\":\"X\",\"x\":\"Chicago\",\"xanchor\":\"center\",\"xref\":\"x5\",\"y\":0,\"yanchor\":\"bottom\",\"yref\":\"y5\"},{\"showarrow\":false,\"text\":\"X\",\"x\":\"Manhattan\",\"xanchor\":\"center\",\"xref\":\"x5\",\"y\":0,\"yanchor\":\"bottom\",\"yref\":\"y5\"},{\"showarrow\":false,\"text\":\"X\",\"x\":\"NYC\",\"xanchor\":\"center\",\"xref\":\"x5\",\"y\":0,\"yanchor\":\"bottom\",\"yref\":\"y5\"},{\"showarrow\":false,\"text\":\"X\",\"x\":\"Chicago\",\"xanchor\":\"center\",\"xref\":\"x18\",\"y\":0,\"yanchor\":\"bottom\",\"yref\":\"y18\"},{\"showarrow\":false,\"text\":\"X\",\"x\":\"Manhattan\",\"xanchor\":\"center\",\"xref\":\"x18\",\"y\":0,\"yanchor\":\"bottom\",\"yref\":\"y18\"},{\"showarrow\":false,\"text\":\"X\",\"x\":\"NYC\",\"xanchor\":\"center\",\"xref\":\"x18\",\"y\":0,\"yanchor\":\"bottom\",\"yref\":\"y18\"},{\"showarrow\":false,\"text\":\"X\",\"x\":\"Chicago\",\"xanchor\":\"center\",\"xref\":\"x12\",\"y\":0,\"yanchor\":\"bottom\",\"yref\":\"y12\"},{\"showarrow\":false,\"text\":\"X\",\"x\":\"Manhattan\",\"xanchor\":\"center\",\"xref\":\"x12\",\"y\":0,\"yanchor\":\"bottom\",\"yref\":\"y12\"},{\"showarrow\":false,\"text\":\"X\",\"x\":\"NYC\",\"xanchor\":\"center\",\"xref\":\"x12\",\"y\":0,\"yanchor\":\"bottom\",\"yref\":\"y12\"},{\"showarrow\":false,\"text\":\"X\",\"x\":\"Chicago\",\"xanchor\":\"center\",\"xref\":\"x6\",\"y\":0,\"yanchor\":\"bottom\",\"yref\":\"y6\"},{\"showarrow\":false,\"text\":\"X\",\"x\":\"DC\",\"xanchor\":\"center\",\"xref\":\"x6\",\"y\":0,\"yanchor\":\"bottom\",\"yref\":\"y6\"},{\"showarrow\":false,\"text\":\"X\",\"x\":\"Manhattan\",\"xanchor\":\"center\",\"xref\":\"x6\",\"y\":0,\"yanchor\":\"bottom\",\"yref\":\"y6\"},{\"showarrow\":false,\"text\":\"X\",\"x\":\"NYC\",\"xanchor\":\"center\",\"xref\":\"x6\",\"y\":0,\"yanchor\":\"bottom\",\"yref\":\"y6\"},{\"showarrow\":false,\"text\":\"cost diff between VGA and IH [%]\",\"textangle\":-90,\"x\":-0.05,\"xref\":\"paper\",\"y\":0.5,\"yref\":\"paper\"},{\"showarrow\":false,\"text\":\"instance length [min]\",\"x\":0.5,\"xref\":\"paper\",\"y\":1.12,\"yref\":\"paper\"},{\"showarrow\":false,\"text\":\"maximum delay [s]\",\"textangle\":90,\"x\":1.02,\"xref\":\"paper\",\"y\":0.5,\"yref\":\"paper\"}],\"legend\":{\"tracegroupgap\":0,\"orientation\":\"h\",\"yanchor\":\"bottom\",\"y\":1.06,\"xanchor\":\"right\",\"x\":1,\"bordercolor\":\"Black\",\"borderwidth\":1},\"margin\":{\"t\":35,\"l\":0,\"r\":0,\"b\":0,\"pad\":0},\"barmode\":\"group\",\"height\":400,\"width\":900},                        {\"responsive\": true}                    ).then(function(){\n                            \nvar gd = document.getElementById('0fa2e3d5-21ee-4afa-8d87-79288e049d28');\nvar x = new MutationObserver(function (mutations, observer) {{\n        var display = window.getComputedStyle(gd).display;\n        if (!display || display === 'none') {{\n            console.log([gd, 'removed!']);\n            Plotly.purge(gd);\n            observer.disconnect();\n        }}\n}});\n\n// Listen for the removal of the full notebook cells\nvar notebookContainer = gd.closest('#notebook-container');\nif (notebookContainer) {{\n    x.observe(notebookContainer, {childList: true});\n}}\n\n// Listen for the clearing of the current output cell\nvar outputEl = gd.closest('.output');\nif (outputEl) {{\n    x.observe(outputEl, {childList: true});\n}}\n\n                        })                };                });            </script>        </div>"
     },
     "metadata": {},
     "output_type": "display_data"
    }
   ],
   "source": [
    "def plot_cost_ratio(width: int, height: int) -> go.Figure:\n",
    "\n",
    "    fig = px.bar(\n",
    "        vga_ih_diff_df,\n",
    "        x = 'area',\n",
    "        y = 'cost_ratio_percent',\n",
    "        barmode='group',\n",
    "        # title = 'Average Cost per Request',\n",
    "        facet_col='duration_minutes',\n",
    "        facet_row='max_delay',\n",
    "        width=width,\n",
    "        height=height,\n",
    "    )\n",
    "\n",
    "    # annotations for missing values\n",
    "    for xi, yi, duration, max_delay in zip(vga_ih_diff_df['area'], vga_ih_diff_df['cost_ratio'], vga_ih_diff_df['duration_minutes'], vga_ih_diff_df['max_delay']):\n",
    "        if np.isnan(yi):\n",
    "            axis_ref = vals_to_axis[(duration, max_delay)]\n",
    "            # axis_ref = 11\n",
    "            fig.add_annotation(dict(\n",
    "                x=xi,\n",
    "                y=0,\n",
    "                text=\"X\",\n",
    "                xanchor='center',\n",
    "                yanchor='bottom',\n",
    "                showarrow=False,\n",
    "                xref=f'x{axis_ref}',\n",
    "                yref=f'y{axis_ref}'\n",
    "            ))\n",
    "\n",
    "    # shared axes titles\n",
    "    fig.for_each_yaxis(lambda y: y.update(title = ''))\n",
    "    fig.add_annotation(x=-0.05, y=0.5, text=\"cost diff between VGA and IH [%]\", textangle=-90, xref=\"paper\", yref=\"paper\", showarrow=False)\n",
    "    fig.for_each_xaxis(lambda y: y.update(title = ''))\n",
    "\n",
    "    # faceting annotations\n",
    "    duration_annotation_y = 1 + 0.08 * 600 / height\n",
    "    fig.add_annotation(x=0.5, y=duration_annotation_y, text=\"instance length [min]\",  xref=\"paper\", yref=\"paper\", showarrow=False)\n",
    "    fig.add_annotation(x=1.02, y=0.5, text=\"maximum delay [s]\",  xref=\"paper\", yref=\"paper\", showarrow=False, textangle=90)\n",
    "\n",
    "    # faceting label editing\n",
    "    fig.for_each_annotation(lambda a: a.update(text=a.text.split(\"=\")[-1]))\n",
    "\n",
    "    # legend editing\n",
    "    legend_y = 1 + 0.04 * 600 / height\n",
    "    fig.update_layout(legend=dict(\n",
    "        orientation=\"h\",\n",
    "        yanchor=\"bottom\",\n",
    "        y=legend_y,\n",
    "        xanchor=\"right\",\n",
    "        x=1,\n",
    "        bordercolor=\"Black\",\n",
    "        borderwidth=1,\n",
    "        tracegroupgap=0\n",
    "    ))\n",
    "\n",
    "    # set margins\n",
    "    fig.update_layout(margin=dict(l=0, r=0, t=35, b=0, pad=0))\n",
    "\n",
    "    return fig\n",
    "\n",
    "fig = plot_cost_ratio(900, 400)\n",
    "fig"
   ],
   "metadata": {
    "collapsed": false,
    "ExecuteTime": {
     "end_time": "2023-05-19T12:36:49.572729300Z",
     "start_time": "2023-05-19T12:36:49.022732700Z"
    }
   }
  },
  {
   "cell_type": "code",
   "execution_count": 183,
   "outputs": [],
   "source": [
    "fig.write_image(fig_path / \"cost_ratio-wide.pdf\")"
   ],
   "metadata": {
    "collapsed": false,
    "ExecuteTime": {
     "end_time": "2023-05-17T17:23:41.452416Z",
     "start_time": "2023-05-17T17:23:41.032415900Z"
    }
   }
  },
  {
   "cell_type": "markdown",
   "source": [
    "# Occupancy histogram"
   ],
   "metadata": {
    "collapsed": false
   }
  },
  {
   "cell_type": "code",
   "execution_count": 9,
   "outputs": [
    {
     "name": "stderr",
     "output_type": "stream",
     "text": [
      "17:47:08 [INFO] Loading occupancy stats in C:\\AIC Experiment Data\\DARP\\ITSC_instance_paper\\Results\\NYC\n",
      "17:47:08 [WARNING] No solution found in folder: C:\\AIC Experiment Data\\DARP\\ITSC_instance_paper\\Results\\NYC\\start_18-00\\duration_01_min\\max_delay_03_min\\halns\n",
      "17:47:08 [WARNING] No solution found in folder: C:\\AIC Experiment Data\\DARP\\ITSC_instance_paper\\Results\\NYC\\start_18-00\\duration_01_min\\max_delay_03_min\\halns-ih\n",
      "17:47:08 [INFO] Loading json file from: C:\\AIC Experiment Data\\DARP\\ITSC_instance_paper\\Results\\NYC\\start_18-00\\duration_01_min\\max_delay_03_min\\ih\\config.yaml-performance.json\n",
      "17:47:08 [INFO] Loading json file from: C:\\AIC Experiment Data\\DARP\\ITSC_instance_paper\\Results\\NYC\\start_18-00\\duration_01_min\\max_delay_03_min\\ih\\config.yaml-solution.json\n",
      "17:47:08 [INFO] Loading experiment config from C:\\AIC Experiment Data\\DARP\\ITSC_instance_paper\\Results\\NYC\\start_18-00\\duration_01_min\\max_delay_03_min\\ih\\config.yaml\n",
      "17:47:08 [INFO] Loading instance config from C:\\AIC Experiment Data\\DARP\\ITSC_instance_paper\\Instances\\NYC\\instances\\start_18-00\\duration_01_min\\max_delay_03_min\\config.yaml\n",
      "17:47:08 [INFO] Loading json file from: C:\\AIC Experiment Data\\DARP\\ITSC_instance_paper\\Results\\NYC\\start_18-00\\duration_01_min\\max_delay_03_min\\vga\\config.yaml-performance.json\n",
      "17:47:08 [INFO] Loading json file from: C:\\AIC Experiment Data\\DARP\\ITSC_instance_paper\\Results\\NYC\\start_18-00\\duration_01_min\\max_delay_03_min\\vga\\config.yaml-solution.json\n",
      "17:47:08 [INFO] Loading experiment config from C:\\AIC Experiment Data\\DARP\\ITSC_instance_paper\\Results\\NYC\\start_18-00\\duration_01_min\\max_delay_03_min\\vga\\config.yaml\n",
      "17:47:08 [INFO] Loading instance config from C:\\AIC Experiment Data\\DARP\\ITSC_instance_paper\\Instances\\NYC\\instances\\start_18-00\\duration_01_min\\max_delay_03_min\\config.yaml\n",
      "17:47:08 [WARNING] No solution found in folder: C:\\AIC Experiment Data\\DARP\\ITSC_instance_paper\\Results\\NYC\\start_18-00\\duration_01_min\\max_delay_05_min\\halns\n",
      "17:47:08 [WARNING] No solution found in folder: C:\\AIC Experiment Data\\DARP\\ITSC_instance_paper\\Results\\NYC\\start_18-00\\duration_01_min\\max_delay_05_min\\halns-ih\n",
      "17:47:08 [INFO] Loading json file from: C:\\AIC Experiment Data\\DARP\\ITSC_instance_paper\\Results\\NYC\\start_18-00\\duration_01_min\\max_delay_05_min\\ih\\config.yaml-performance.json\n",
      "17:47:08 [INFO] Loading json file from: C:\\AIC Experiment Data\\DARP\\ITSC_instance_paper\\Results\\NYC\\start_18-00\\duration_01_min\\max_delay_05_min\\ih\\config.yaml-solution.json\n",
      "17:47:08 [INFO] Loading experiment config from C:\\AIC Experiment Data\\DARP\\ITSC_instance_paper\\Results\\NYC\\start_18-00\\duration_01_min\\max_delay_05_min\\ih\\config.yaml\n",
      "17:47:08 [INFO] Loading instance config from C:\\AIC Experiment Data\\DARP\\ITSC_instance_paper\\Instances\\NYC\\instances\\start_18-00\\duration_01_min\\max_delay_05_min\\config.yaml\n",
      "17:47:08 [INFO] Loading json file from: C:\\AIC Experiment Data\\DARP\\ITSC_instance_paper\\Results\\NYC\\start_18-00\\duration_01_min\\max_delay_05_min\\vga\\config.yaml-performance.json\n",
      "17:47:08 [INFO] Loading json file from: C:\\AIC Experiment Data\\DARP\\ITSC_instance_paper\\Results\\NYC\\start_18-00\\duration_01_min\\max_delay_05_min\\vga\\config.yaml-solution.json\n",
      "17:47:08 [INFO] Loading experiment config from C:\\AIC Experiment Data\\DARP\\ITSC_instance_paper\\Results\\NYC\\start_18-00\\duration_01_min\\max_delay_05_min\\vga\\config.yaml\n",
      "17:47:08 [INFO] Loading instance config from C:\\AIC Experiment Data\\DARP\\ITSC_instance_paper\\Instances\\NYC\\instances\\start_18-00\\duration_01_min\\max_delay_05_min\\config.yaml\n",
      "17:47:08 [WARNING] No solution found in folder: C:\\AIC Experiment Data\\DARP\\ITSC_instance_paper\\Results\\NYC\\start_18-00\\duration_01_min\\max_delay_10_min\\halns\n",
      "17:47:08 [WARNING] No solution found in folder: C:\\AIC Experiment Data\\DARP\\ITSC_instance_paper\\Results\\NYC\\start_18-00\\duration_01_min\\max_delay_10_min\\halns-ih\n",
      "17:47:08 [INFO] Loading json file from: C:\\AIC Experiment Data\\DARP\\ITSC_instance_paper\\Results\\NYC\\start_18-00\\duration_01_min\\max_delay_10_min\\ih\\config.yaml-performance.json\n",
      "17:47:08 [INFO] Loading json file from: C:\\AIC Experiment Data\\DARP\\ITSC_instance_paper\\Results\\NYC\\start_18-00\\duration_01_min\\max_delay_10_min\\ih\\config.yaml-solution.json\n",
      "17:47:08 [INFO] Loading experiment config from C:\\AIC Experiment Data\\DARP\\ITSC_instance_paper\\Results\\NYC\\start_18-00\\duration_01_min\\max_delay_10_min\\ih\\config.yaml\n",
      "17:47:09 [INFO] Loading instance config from C:\\AIC Experiment Data\\DARP\\ITSC_instance_paper\\Instances\\NYC\\instances\\start_18-00\\duration_01_min\\max_delay_10_min\\config.yaml\n",
      "17:47:09 [WARNING] No solution found in folder: C:\\AIC Experiment Data\\DARP\\ITSC_instance_paper\\Results\\NYC\\start_18-00\\duration_01_min\\max_delay_10_min\\vga\n",
      "17:47:09 [WARNING] No solution found in folder: C:\\AIC Experiment Data\\DARP\\ITSC_instance_paper\\Results\\NYC\\start_18-00\\duration_02_h\\max_delay_03_min\\halns\n",
      "17:47:09 [WARNING] No solution found in folder: C:\\AIC Experiment Data\\DARP\\ITSC_instance_paper\\Results\\NYC\\start_18-00\\duration_02_h\\max_delay_03_min\\halns-ih\n",
      "17:47:09 [INFO] Loading json file from: C:\\AIC Experiment Data\\DARP\\ITSC_instance_paper\\Results\\NYC\\start_18-00\\duration_02_h\\max_delay_03_min\\ih\\config.yaml-performance.json\n",
      "17:47:09 [INFO] Loading json file from: C:\\AIC Experiment Data\\DARP\\ITSC_instance_paper\\Results\\NYC\\start_18-00\\duration_02_h\\max_delay_03_min\\ih\\config.yaml-solution.json\n",
      "17:47:10 [INFO] Loading experiment config from C:\\AIC Experiment Data\\DARP\\ITSC_instance_paper\\Results\\NYC\\start_18-00\\duration_02_h\\max_delay_03_min\\ih\\config.yaml\n",
      "17:47:10 [INFO] Loading instance config from C:\\AIC Experiment Data\\DARP\\ITSC_instance_paper\\Instances\\NYC\\instances\\start_18-00\\duration_02_h\\max_delay_03_min\\config.yaml\n",
      "17:47:10 [WARNING] No solution found in folder: C:\\AIC Experiment Data\\DARP\\ITSC_instance_paper\\Results\\NYC\\start_18-00\\duration_02_h\\max_delay_03_min\\vga\n",
      "17:47:10 [WARNING] No solution found in folder: C:\\AIC Experiment Data\\DARP\\ITSC_instance_paper\\Results\\NYC\\start_18-00\\duration_02_h\\max_delay_05_min\\halns\n",
      "17:47:10 [WARNING] No solution found in folder: C:\\AIC Experiment Data\\DARP\\ITSC_instance_paper\\Results\\NYC\\start_18-00\\duration_02_h\\max_delay_05_min\\halns-ih\n",
      "17:47:10 [WARNING] No solution found in folder: C:\\AIC Experiment Data\\DARP\\ITSC_instance_paper\\Results\\NYC\\start_18-00\\duration_02_h\\max_delay_05_min\\ih\n",
      "17:47:10 [WARNING] No solution found in folder: C:\\AIC Experiment Data\\DARP\\ITSC_instance_paper\\Results\\NYC\\start_18-00\\duration_02_h\\max_delay_05_min\\vga\n",
      "17:47:10 [WARNING] No solution found in folder: C:\\AIC Experiment Data\\DARP\\ITSC_instance_paper\\Results\\NYC\\start_18-00\\duration_02_h\\max_delay_10_min\\halns\n",
      "17:47:10 [WARNING] No solution found in folder: C:\\AIC Experiment Data\\DARP\\ITSC_instance_paper\\Results\\NYC\\start_18-00\\duration_02_h\\max_delay_10_min\\halns-ih\n",
      "17:47:10 [WARNING] No solution found in folder: C:\\AIC Experiment Data\\DARP\\ITSC_instance_paper\\Results\\NYC\\start_18-00\\duration_02_h\\max_delay_10_min\\ih\n",
      "17:47:10 [WARNING] No solution found in folder: C:\\AIC Experiment Data\\DARP\\ITSC_instance_paper\\Results\\NYC\\start_18-00\\duration_02_h\\max_delay_10_min\\vga\n",
      "17:47:10 [WARNING] No solution found in folder: C:\\AIC Experiment Data\\DARP\\ITSC_instance_paper\\Results\\NYC\\start_18-00\\duration_02_min\\max_delay_03_min\\halns\n",
      "17:47:10 [WARNING] No solution found in folder: C:\\AIC Experiment Data\\DARP\\ITSC_instance_paper\\Results\\NYC\\start_18-00\\duration_02_min\\max_delay_03_min\\halns-ih\n",
      "17:47:10 [INFO] Loading json file from: C:\\AIC Experiment Data\\DARP\\ITSC_instance_paper\\Results\\NYC\\start_18-00\\duration_02_min\\max_delay_03_min\\ih\\config.yaml-performance.json\n",
      "17:47:10 [INFO] Loading json file from: C:\\AIC Experiment Data\\DARP\\ITSC_instance_paper\\Results\\NYC\\start_18-00\\duration_02_min\\max_delay_03_min\\ih\\config.yaml-solution.json\n",
      "17:47:10 [INFO] Loading experiment config from C:\\AIC Experiment Data\\DARP\\ITSC_instance_paper\\Results\\NYC\\start_18-00\\duration_02_min\\max_delay_03_min\\ih\\config.yaml\n",
      "17:47:10 [INFO] Loading instance config from C:\\AIC Experiment Data\\DARP\\ITSC_instance_paper\\Instances\\NYC\\instances\\start_18-00\\duration_02_min\\max_delay_03_min\\config.yaml\n",
      "17:47:10 [INFO] Loading json file from: C:\\AIC Experiment Data\\DARP\\ITSC_instance_paper\\Results\\NYC\\start_18-00\\duration_02_min\\max_delay_03_min\\vga\\config.yaml-performance.json\n",
      "17:47:10 [INFO] Loading json file from: C:\\AIC Experiment Data\\DARP\\ITSC_instance_paper\\Results\\NYC\\start_18-00\\duration_02_min\\max_delay_03_min\\vga\\config.yaml-solution.json\n",
      "17:47:10 [INFO] Loading experiment config from C:\\AIC Experiment Data\\DARP\\ITSC_instance_paper\\Results\\NYC\\start_18-00\\duration_02_min\\max_delay_03_min\\vga\\config.yaml\n",
      "17:47:10 [INFO] Loading instance config from C:\\AIC Experiment Data\\DARP\\ITSC_instance_paper\\Instances\\NYC\\instances\\start_18-00\\duration_02_min\\max_delay_03_min\\config.yaml\n",
      "17:47:10 [WARNING] No solution found in folder: C:\\AIC Experiment Data\\DARP\\ITSC_instance_paper\\Results\\NYC\\start_18-00\\duration_02_min\\max_delay_05_min\\halns\n",
      "17:47:10 [WARNING] No solution found in folder: C:\\AIC Experiment Data\\DARP\\ITSC_instance_paper\\Results\\NYC\\start_18-00\\duration_02_min\\max_delay_05_min\\halns-ih\n",
      "17:47:10 [INFO] Loading json file from: C:\\AIC Experiment Data\\DARP\\ITSC_instance_paper\\Results\\NYC\\start_18-00\\duration_02_min\\max_delay_05_min\\ih\\config.yaml-performance.json\n",
      "17:47:10 [INFO] Loading json file from: C:\\AIC Experiment Data\\DARP\\ITSC_instance_paper\\Results\\NYC\\start_18-00\\duration_02_min\\max_delay_05_min\\ih\\config.yaml-solution.json\n",
      "17:47:10 [INFO] Loading experiment config from C:\\AIC Experiment Data\\DARP\\ITSC_instance_paper\\Results\\NYC\\start_18-00\\duration_02_min\\max_delay_05_min\\ih\\config.yaml\n",
      "17:47:10 [INFO] Loading instance config from C:\\AIC Experiment Data\\DARP\\ITSC_instance_paper\\Instances\\NYC\\instances\\start_18-00\\duration_02_min\\max_delay_05_min\\config.yaml\n",
      "17:47:10 [WARNING] No solution found in folder: C:\\AIC Experiment Data\\DARP\\ITSC_instance_paper\\Results\\NYC\\start_18-00\\duration_02_min\\max_delay_05_min\\vga\n",
      "17:47:10 [WARNING] No solution found in folder: C:\\AIC Experiment Data\\DARP\\ITSC_instance_paper\\Results\\NYC\\start_18-00\\duration_02_min\\max_delay_10_min\\halns\n",
      "17:47:10 [WARNING] No solution found in folder: C:\\AIC Experiment Data\\DARP\\ITSC_instance_paper\\Results\\NYC\\start_18-00\\duration_02_min\\max_delay_10_min\\halns-ih\n",
      "17:47:10 [INFO] Loading json file from: C:\\AIC Experiment Data\\DARP\\ITSC_instance_paper\\Results\\NYC\\start_18-00\\duration_02_min\\max_delay_10_min\\ih\\config.yaml-performance.json\n",
      "17:47:10 [INFO] Loading json file from: C:\\AIC Experiment Data\\DARP\\ITSC_instance_paper\\Results\\NYC\\start_18-00\\duration_02_min\\max_delay_10_min\\ih\\config.yaml-solution.json\n",
      "17:47:10 [INFO] Loading experiment config from C:\\AIC Experiment Data\\DARP\\ITSC_instance_paper\\Results\\NYC\\start_18-00\\duration_02_min\\max_delay_10_min\\ih\\config.yaml\n",
      "17:47:11 [INFO] Loading instance config from C:\\AIC Experiment Data\\DARP\\ITSC_instance_paper\\Instances\\NYC\\instances\\start_18-00\\duration_02_min\\max_delay_10_min\\config.yaml\n",
      "17:47:11 [WARNING] No solution found in folder: C:\\AIC Experiment Data\\DARP\\ITSC_instance_paper\\Results\\NYC\\start_18-00\\duration_02_min\\max_delay_10_min\\vga\n",
      "17:47:11 [WARNING] No solution found in folder: C:\\AIC Experiment Data\\DARP\\ITSC_instance_paper\\Results\\NYC\\start_18-00\\duration_05_min\\max_delay_03_min\\halns\n",
      "17:47:11 [WARNING] No solution found in folder: C:\\AIC Experiment Data\\DARP\\ITSC_instance_paper\\Results\\NYC\\start_18-00\\duration_05_min\\max_delay_03_min\\halns-ih\n",
      "17:47:11 [INFO] Loading json file from: C:\\AIC Experiment Data\\DARP\\ITSC_instance_paper\\Results\\NYC\\start_18-00\\duration_05_min\\max_delay_03_min\\ih\\config.yaml-performance.json\n",
      "17:47:11 [INFO] Loading json file from: C:\\AIC Experiment Data\\DARP\\ITSC_instance_paper\\Results\\NYC\\start_18-00\\duration_05_min\\max_delay_03_min\\ih\\config.yaml-solution.json\n",
      "17:47:11 [INFO] Loading experiment config from C:\\AIC Experiment Data\\DARP\\ITSC_instance_paper\\Results\\NYC\\start_18-00\\duration_05_min\\max_delay_03_min\\ih\\config.yaml\n",
      "17:47:11 [INFO] Loading instance config from C:\\AIC Experiment Data\\DARP\\ITSC_instance_paper\\Instances\\NYC\\instances\\start_18-00\\duration_05_min\\max_delay_03_min\\config.yaml\n",
      "17:47:11 [WARNING] No solution found in folder: C:\\AIC Experiment Data\\DARP\\ITSC_instance_paper\\Results\\NYC\\start_18-00\\duration_05_min\\max_delay_03_min\\vga\n",
      "17:47:11 [WARNING] No solution found in folder: C:\\AIC Experiment Data\\DARP\\ITSC_instance_paper\\Results\\NYC\\start_18-00\\duration_05_min\\max_delay_05_min\\halns\n",
      "17:47:11 [WARNING] No solution found in folder: C:\\AIC Experiment Data\\DARP\\ITSC_instance_paper\\Results\\NYC\\start_18-00\\duration_05_min\\max_delay_05_min\\halns-ih\n",
      "17:47:11 [INFO] Loading json file from: C:\\AIC Experiment Data\\DARP\\ITSC_instance_paper\\Results\\NYC\\start_18-00\\duration_05_min\\max_delay_05_min\\ih\\config.yaml-performance.json\n",
      "17:47:11 [INFO] Loading json file from: C:\\AIC Experiment Data\\DARP\\ITSC_instance_paper\\Results\\NYC\\start_18-00\\duration_05_min\\max_delay_05_min\\ih\\config.yaml-solution.json\n",
      "17:47:11 [INFO] Loading experiment config from C:\\AIC Experiment Data\\DARP\\ITSC_instance_paper\\Results\\NYC\\start_18-00\\duration_05_min\\max_delay_05_min\\ih\\config.yaml\n",
      "17:47:11 [INFO] Loading instance config from C:\\AIC Experiment Data\\DARP\\ITSC_instance_paper\\Instances\\NYC\\instances\\start_18-00\\duration_05_min\\max_delay_05_min\\config.yaml\n",
      "17:47:11 [WARNING] No solution found in folder: C:\\AIC Experiment Data\\DARP\\ITSC_instance_paper\\Results\\NYC\\start_18-00\\duration_05_min\\max_delay_05_min\\vga\n",
      "17:47:11 [WARNING] No solution found in folder: C:\\AIC Experiment Data\\DARP\\ITSC_instance_paper\\Results\\NYC\\start_18-00\\duration_05_min\\max_delay_10_min\\halns\n",
      "17:47:11 [WARNING] No solution found in folder: C:\\AIC Experiment Data\\DARP\\ITSC_instance_paper\\Results\\NYC\\start_18-00\\duration_05_min\\max_delay_10_min\\halns-ih\n",
      "17:47:11 [INFO] Loading json file from: C:\\AIC Experiment Data\\DARP\\ITSC_instance_paper\\Results\\NYC\\start_18-00\\duration_05_min\\max_delay_10_min\\ih\\config.yaml-performance.json\n",
      "17:47:11 [INFO] Loading json file from: C:\\AIC Experiment Data\\DARP\\ITSC_instance_paper\\Results\\NYC\\start_18-00\\duration_05_min\\max_delay_10_min\\ih\\config.yaml-solution.json\n",
      "17:47:11 [INFO] Loading experiment config from C:\\AIC Experiment Data\\DARP\\ITSC_instance_paper\\Results\\NYC\\start_18-00\\duration_05_min\\max_delay_10_min\\ih\\config.yaml\n",
      "17:47:11 [INFO] Loading instance config from C:\\AIC Experiment Data\\DARP\\ITSC_instance_paper\\Instances\\NYC\\instances\\start_18-00\\duration_05_min\\max_delay_10_min\\config.yaml\n",
      "17:47:11 [WARNING] No solution found in folder: C:\\AIC Experiment Data\\DARP\\ITSC_instance_paper\\Results\\NYC\\start_18-00\\duration_05_min\\max_delay_10_min\\vga\n",
      "17:47:11 [WARNING] No solution found in folder: C:\\AIC Experiment Data\\DARP\\ITSC_instance_paper\\Results\\NYC\\start_18-00\\duration_15_min\\max_delay_03_min\\halns\n",
      "17:47:11 [WARNING] No solution found in folder: C:\\AIC Experiment Data\\DARP\\ITSC_instance_paper\\Results\\NYC\\start_18-00\\duration_15_min\\max_delay_03_min\\halns-ih\n",
      "17:47:11 [INFO] Loading json file from: C:\\AIC Experiment Data\\DARP\\ITSC_instance_paper\\Results\\NYC\\start_18-00\\duration_15_min\\max_delay_03_min\\ih\\config.yaml-performance.json\n",
      "17:47:11 [INFO] Loading json file from: C:\\AIC Experiment Data\\DARP\\ITSC_instance_paper\\Results\\NYC\\start_18-00\\duration_15_min\\max_delay_03_min\\ih\\config.yaml-solution.json\n",
      "17:47:11 [INFO] Loading experiment config from C:\\AIC Experiment Data\\DARP\\ITSC_instance_paper\\Results\\NYC\\start_18-00\\duration_15_min\\max_delay_03_min\\ih\\config.yaml\n",
      "17:47:11 [INFO] Loading instance config from C:\\AIC Experiment Data\\DARP\\ITSC_instance_paper\\Instances\\NYC\\instances\\start_18-00\\duration_15_min\\max_delay_03_min\\config.yaml\n",
      "17:47:11 [WARNING] No solution found in folder: C:\\AIC Experiment Data\\DARP\\ITSC_instance_paper\\Results\\NYC\\start_18-00\\duration_15_min\\max_delay_03_min\\vga\n",
      "17:47:11 [WARNING] No solution found in folder: C:\\AIC Experiment Data\\DARP\\ITSC_instance_paper\\Results\\NYC\\start_18-00\\duration_15_min\\max_delay_05_min\\halns\n",
      "17:47:11 [WARNING] No solution found in folder: C:\\AIC Experiment Data\\DARP\\ITSC_instance_paper\\Results\\NYC\\start_18-00\\duration_15_min\\max_delay_05_min\\halns-ih\n",
      "17:47:11 [INFO] Loading json file from: C:\\AIC Experiment Data\\DARP\\ITSC_instance_paper\\Results\\NYC\\start_18-00\\duration_15_min\\max_delay_05_min\\ih\\config.yaml-performance.json\n",
      "17:47:11 [INFO] Loading json file from: C:\\AIC Experiment Data\\DARP\\ITSC_instance_paper\\Results\\NYC\\start_18-00\\duration_15_min\\max_delay_05_min\\ih\\config.yaml-solution.json\n",
      "17:47:11 [INFO] Loading experiment config from C:\\AIC Experiment Data\\DARP\\ITSC_instance_paper\\Results\\NYC\\start_18-00\\duration_15_min\\max_delay_05_min\\ih\\config.yaml\n",
      "17:47:11 [INFO] Loading instance config from C:\\AIC Experiment Data\\DARP\\ITSC_instance_paper\\Instances\\NYC\\instances\\start_18-00\\duration_15_min\\max_delay_05_min\\config.yaml\n",
      "17:47:11 [WARNING] No solution found in folder: C:\\AIC Experiment Data\\DARP\\ITSC_instance_paper\\Results\\NYC\\start_18-00\\duration_15_min\\max_delay_05_min\\vga\n",
      "17:47:11 [WARNING] No solution found in folder: C:\\AIC Experiment Data\\DARP\\ITSC_instance_paper\\Results\\NYC\\start_18-00\\duration_15_min\\max_delay_10_min\\halns\n",
      "17:47:11 [WARNING] No solution found in folder: C:\\AIC Experiment Data\\DARP\\ITSC_instance_paper\\Results\\NYC\\start_18-00\\duration_15_min\\max_delay_10_min\\halns-ih\n",
      "17:47:11 [INFO] Loading json file from: C:\\AIC Experiment Data\\DARP\\ITSC_instance_paper\\Results\\NYC\\start_18-00\\duration_15_min\\max_delay_10_min\\ih\\config.yaml-performance.json\n",
      "17:47:11 [INFO] Loading json file from: C:\\AIC Experiment Data\\DARP\\ITSC_instance_paper\\Results\\NYC\\start_18-00\\duration_15_min\\max_delay_10_min\\ih\\config.yaml-solution.json\n",
      "17:47:12 [INFO] Loading experiment config from C:\\AIC Experiment Data\\DARP\\ITSC_instance_paper\\Results\\NYC\\start_18-00\\duration_15_min\\max_delay_10_min\\ih\\config.yaml\n",
      "17:47:12 [INFO] Loading instance config from C:\\AIC Experiment Data\\DARP\\ITSC_instance_paper\\Instances\\NYC\\instances\\start_18-00\\duration_15_min\\max_delay_10_min\\config.yaml\n",
      "17:47:12 [WARNING] No solution found in folder: C:\\AIC Experiment Data\\DARP\\ITSC_instance_paper\\Results\\NYC\\start_18-00\\duration_15_min\\max_delay_10_min\\vga\n",
      "17:47:12 [WARNING] No solution found in folder: C:\\AIC Experiment Data\\DARP\\ITSC_instance_paper\\Results\\NYC\\start_18-00\\duration_16_h\\max_delay_03_min\\halns\n",
      "17:47:12 [WARNING] No solution found in folder: C:\\AIC Experiment Data\\DARP\\ITSC_instance_paper\\Results\\NYC\\start_18-00\\duration_16_h\\max_delay_03_min\\halns-ih\n",
      "17:47:12 [INFO] Loading json file from: C:\\AIC Experiment Data\\DARP\\ITSC_instance_paper\\Results\\NYC\\start_18-00\\duration_16_h\\max_delay_03_min\\ih\\config.yaml-performance.json\n",
      "17:47:12 [INFO] Loading json file from: C:\\AIC Experiment Data\\DARP\\ITSC_instance_paper\\Results\\NYC\\start_18-00\\duration_16_h\\max_delay_03_min\\ih\\config.yaml-solution.json\n",
      "17:47:15 [INFO] Loading experiment config from C:\\AIC Experiment Data\\DARP\\ITSC_instance_paper\\Results\\NYC\\start_18-00\\duration_16_h\\max_delay_03_min\\ih\\config.yaml\n",
      "17:47:15 [INFO] Loading instance config from C:\\AIC Experiment Data\\DARP\\ITSC_instance_paper\\Instances\\NYC\\instances\\start_18-00\\duration_16_h\\max_delay_03_min\\config.yaml\n",
      "17:47:15 [WARNING] No solution found in folder: C:\\AIC Experiment Data\\DARP\\ITSC_instance_paper\\Results\\NYC\\start_18-00\\duration_16_h\\max_delay_03_min\\vga\n",
      "17:47:15 [WARNING] No solution found in folder: C:\\AIC Experiment Data\\DARP\\ITSC_instance_paper\\Results\\NYC\\start_18-00\\duration_16_h\\max_delay_05_min\\halns\n",
      "17:47:15 [WARNING] No solution found in folder: C:\\AIC Experiment Data\\DARP\\ITSC_instance_paper\\Results\\NYC\\start_18-00\\duration_16_h\\max_delay_05_min\\halns-ih\n",
      "17:47:15 [WARNING] No solution found in folder: C:\\AIC Experiment Data\\DARP\\ITSC_instance_paper\\Results\\NYC\\start_18-00\\duration_16_h\\max_delay_05_min\\ih\n",
      "17:47:15 [WARNING] No solution found in folder: C:\\AIC Experiment Data\\DARP\\ITSC_instance_paper\\Results\\NYC\\start_18-00\\duration_16_h\\max_delay_05_min\\vga\n",
      "17:47:15 [WARNING] No solution found in folder: C:\\AIC Experiment Data\\DARP\\ITSC_instance_paper\\Results\\NYC\\start_18-00\\duration_16_h\\max_delay_10_min\\halns\n",
      "17:47:15 [WARNING] No solution found in folder: C:\\AIC Experiment Data\\DARP\\ITSC_instance_paper\\Results\\NYC\\start_18-00\\duration_16_h\\max_delay_10_min\\halns-ih\n",
      "17:47:15 [WARNING] No solution found in folder: C:\\AIC Experiment Data\\DARP\\ITSC_instance_paper\\Results\\NYC\\start_18-00\\duration_16_h\\max_delay_10_min\\ih\n",
      "17:47:15 [WARNING] No solution found in folder: C:\\AIC Experiment Data\\DARP\\ITSC_instance_paper\\Results\\NYC\\start_18-00\\duration_16_h\\max_delay_10_min\\vga\n",
      "17:47:15 [WARNING] No solution found in folder: C:\\AIC Experiment Data\\DARP\\ITSC_instance_paper\\Results\\NYC\\start_18-00\\duration_30_min\\max_delay_03_min\\halns\n",
      "17:47:15 [WARNING] No solution found in folder: C:\\AIC Experiment Data\\DARP\\ITSC_instance_paper\\Results\\NYC\\start_18-00\\duration_30_min\\max_delay_03_min\\halns-ih\n",
      "17:47:15 [INFO] Loading json file from: C:\\AIC Experiment Data\\DARP\\ITSC_instance_paper\\Results\\NYC\\start_18-00\\duration_30_min\\max_delay_03_min\\ih\\config.yaml-performance.json\n",
      "17:47:15 [INFO] Loading json file from: C:\\AIC Experiment Data\\DARP\\ITSC_instance_paper\\Results\\NYC\\start_18-00\\duration_30_min\\max_delay_03_min\\ih\\config.yaml-solution.json\n",
      "17:47:15 [INFO] Loading experiment config from C:\\AIC Experiment Data\\DARP\\ITSC_instance_paper\\Results\\NYC\\start_18-00\\duration_30_min\\max_delay_03_min\\ih\\config.yaml\n",
      "17:47:15 [INFO] Loading instance config from C:\\AIC Experiment Data\\DARP\\ITSC_instance_paper\\Instances\\NYC\\instances\\start_18-00\\duration_30_min\\max_delay_03_min\\config.yaml\n",
      "17:47:15 [WARNING] No solution found in folder: C:\\AIC Experiment Data\\DARP\\ITSC_instance_paper\\Results\\NYC\\start_18-00\\duration_30_min\\max_delay_03_min\\vga\n",
      "17:47:15 [WARNING] No solution found in folder: C:\\AIC Experiment Data\\DARP\\ITSC_instance_paper\\Results\\NYC\\start_18-00\\duration_30_min\\max_delay_05_min\\halns\n",
      "17:47:15 [WARNING] No solution found in folder: C:\\AIC Experiment Data\\DARP\\ITSC_instance_paper\\Results\\NYC\\start_18-00\\duration_30_min\\max_delay_05_min\\halns-ih\n",
      "17:47:15 [INFO] Loading json file from: C:\\AIC Experiment Data\\DARP\\ITSC_instance_paper\\Results\\NYC\\start_18-00\\duration_30_min\\max_delay_05_min\\ih\\config.yaml-performance.json\n",
      "17:47:15 [INFO] Loading json file from: C:\\AIC Experiment Data\\DARP\\ITSC_instance_paper\\Results\\NYC\\start_18-00\\duration_30_min\\max_delay_05_min\\ih\\config.yaml-solution.json\n",
      "17:47:15 [INFO] Loading experiment config from C:\\AIC Experiment Data\\DARP\\ITSC_instance_paper\\Results\\NYC\\start_18-00\\duration_30_min\\max_delay_05_min\\ih\\config.yaml\n",
      "17:47:16 [INFO] Loading instance config from C:\\AIC Experiment Data\\DARP\\ITSC_instance_paper\\Instances\\NYC\\instances\\start_18-00\\duration_30_min\\max_delay_05_min\\config.yaml\n",
      "17:47:16 [WARNING] No solution found in folder: C:\\AIC Experiment Data\\DARP\\ITSC_instance_paper\\Results\\NYC\\start_18-00\\duration_30_min\\max_delay_05_min\\vga\n",
      "17:47:16 [WARNING] No solution found in folder: C:\\AIC Experiment Data\\DARP\\ITSC_instance_paper\\Results\\NYC\\start_18-00\\duration_30_min\\max_delay_10_min\\halns\n",
      "17:47:16 [WARNING] No solution found in folder: C:\\AIC Experiment Data\\DARP\\ITSC_instance_paper\\Results\\NYC\\start_18-00\\duration_30_min\\max_delay_10_min\\halns-ih\n",
      "17:47:16 [INFO] Loading json file from: C:\\AIC Experiment Data\\DARP\\ITSC_instance_paper\\Results\\NYC\\start_18-00\\duration_30_min\\max_delay_10_min\\ih\\config.yaml-performance.json\n",
      "17:47:16 [INFO] Loading json file from: C:\\AIC Experiment Data\\DARP\\ITSC_instance_paper\\Results\\NYC\\start_18-00\\duration_30_min\\max_delay_10_min\\ih\\config.yaml-solution.json\n",
      "17:47:16 [INFO] Loading experiment config from C:\\AIC Experiment Data\\DARP\\ITSC_instance_paper\\Results\\NYC\\start_18-00\\duration_30_min\\max_delay_10_min\\ih\\config.yaml\n",
      "17:47:16 [INFO] Loading instance config from C:\\AIC Experiment Data\\DARP\\ITSC_instance_paper\\Instances\\NYC\\instances\\start_18-00\\duration_30_min\\max_delay_10_min\\config.yaml\n",
      "17:47:16 [WARNING] No solution found in folder: C:\\AIC Experiment Data\\DARP\\ITSC_instance_paper\\Results\\NYC\\start_18-00\\duration_30_min\\max_delay_10_min\\vga\n",
      "17:47:16 [WARNING] No solution found in folder: C:\\AIC Experiment Data\\DARP\\ITSC_instance_paper\\Results\\NYC\\start_18-00\\duration_30_s\\max_delay_03_min\\halns\n",
      "17:47:16 [WARNING] No solution found in folder: C:\\AIC Experiment Data\\DARP\\ITSC_instance_paper\\Results\\NYC\\start_18-00\\duration_30_s\\max_delay_03_min\\halns-ih\n",
      "17:47:16 [INFO] Loading json file from: C:\\AIC Experiment Data\\DARP\\ITSC_instance_paper\\Results\\NYC\\start_18-00\\duration_30_s\\max_delay_03_min\\ih\\config.yaml-performance.json\n",
      "17:47:16 [INFO] Loading json file from: C:\\AIC Experiment Data\\DARP\\ITSC_instance_paper\\Results\\NYC\\start_18-00\\duration_30_s\\max_delay_03_min\\ih\\config.yaml-solution.json\n",
      "17:47:16 [INFO] Loading experiment config from C:\\AIC Experiment Data\\DARP\\ITSC_instance_paper\\Results\\NYC\\start_18-00\\duration_30_s\\max_delay_03_min\\ih\\config.yaml\n",
      "17:47:16 [INFO] Loading instance config from C:\\AIC Experiment Data\\DARP\\ITSC_instance_paper\\Instances\\NYC\\instances\\start_18-00\\duration_30_s\\max_delay_03_min\\config.yaml\n",
      "17:47:16 [INFO] Loading json file from: C:\\AIC Experiment Data\\DARP\\ITSC_instance_paper\\Results\\NYC\\start_18-00\\duration_30_s\\max_delay_03_min\\vga\\config.yaml-performance.json\n",
      "17:47:16 [INFO] Loading json file from: C:\\AIC Experiment Data\\DARP\\ITSC_instance_paper\\Results\\NYC\\start_18-00\\duration_30_s\\max_delay_03_min\\vga\\config.yaml-solution.json\n",
      "17:47:16 [INFO] Loading experiment config from C:\\AIC Experiment Data\\DARP\\ITSC_instance_paper\\Results\\NYC\\start_18-00\\duration_30_s\\max_delay_03_min\\vga\\config.yaml\n",
      "17:47:16 [INFO] Loading instance config from C:\\AIC Experiment Data\\DARP\\ITSC_instance_paper\\Instances\\NYC\\instances\\start_18-00\\duration_30_s\\max_delay_03_min\\config.yaml\n",
      "17:47:16 [WARNING] No solution found in folder: C:\\AIC Experiment Data\\DARP\\ITSC_instance_paper\\Results\\NYC\\start_18-00\\duration_30_s\\max_delay_05_min\\halns\n",
      "17:47:16 [WARNING] No solution found in folder: C:\\AIC Experiment Data\\DARP\\ITSC_instance_paper\\Results\\NYC\\start_18-00\\duration_30_s\\max_delay_05_min\\halns-ih\n",
      "17:47:16 [INFO] Loading json file from: C:\\AIC Experiment Data\\DARP\\ITSC_instance_paper\\Results\\NYC\\start_18-00\\duration_30_s\\max_delay_05_min\\ih\\config.yaml-performance.json\n",
      "17:47:16 [INFO] Loading json file from: C:\\AIC Experiment Data\\DARP\\ITSC_instance_paper\\Results\\NYC\\start_18-00\\duration_30_s\\max_delay_05_min\\ih\\config.yaml-solution.json\n",
      "17:47:16 [INFO] Loading experiment config from C:\\AIC Experiment Data\\DARP\\ITSC_instance_paper\\Results\\NYC\\start_18-00\\duration_30_s\\max_delay_05_min\\ih\\config.yaml\n",
      "17:47:16 [INFO] Loading instance config from C:\\AIC Experiment Data\\DARP\\ITSC_instance_paper\\Instances\\NYC\\instances\\start_18-00\\duration_30_s\\max_delay_05_min\\config.yaml\n",
      "17:47:16 [INFO] Loading json file from: C:\\AIC Experiment Data\\DARP\\ITSC_instance_paper\\Results\\NYC\\start_18-00\\duration_30_s\\max_delay_05_min\\vga\\config.yaml-performance.json\n",
      "17:47:16 [INFO] Loading json file from: C:\\AIC Experiment Data\\DARP\\ITSC_instance_paper\\Results\\NYC\\start_18-00\\duration_30_s\\max_delay_05_min\\vga\\config.yaml-solution.json\n",
      "17:47:16 [INFO] Loading experiment config from C:\\AIC Experiment Data\\DARP\\ITSC_instance_paper\\Results\\NYC\\start_18-00\\duration_30_s\\max_delay_05_min\\vga\\config.yaml\n",
      "17:47:16 [INFO] Loading instance config from C:\\AIC Experiment Data\\DARP\\ITSC_instance_paper\\Instances\\NYC\\instances\\start_18-00\\duration_30_s\\max_delay_05_min\\config.yaml\n",
      "17:47:16 [WARNING] No solution found in folder: C:\\AIC Experiment Data\\DARP\\ITSC_instance_paper\\Results\\NYC\\start_18-00\\duration_30_s\\max_delay_10_min\\halns\n",
      "17:47:16 [WARNING] No solution found in folder: C:\\AIC Experiment Data\\DARP\\ITSC_instance_paper\\Results\\NYC\\start_18-00\\duration_30_s\\max_delay_10_min\\halns-ih\n",
      "17:47:16 [INFO] Loading json file from: C:\\AIC Experiment Data\\DARP\\ITSC_instance_paper\\Results\\NYC\\start_18-00\\duration_30_s\\max_delay_10_min\\ih\\config.yaml-performance.json\n",
      "17:47:16 [INFO] Loading json file from: C:\\AIC Experiment Data\\DARP\\ITSC_instance_paper\\Results\\NYC\\start_18-00\\duration_30_s\\max_delay_10_min\\ih\\config.yaml-solution.json\n",
      "17:47:16 [INFO] Loading experiment config from C:\\AIC Experiment Data\\DARP\\ITSC_instance_paper\\Results\\NYC\\start_18-00\\duration_30_s\\max_delay_10_min\\ih\\config.yaml\n",
      "17:47:16 [INFO] Loading instance config from C:\\AIC Experiment Data\\DARP\\ITSC_instance_paper\\Instances\\NYC\\instances\\start_18-00\\duration_30_s\\max_delay_10_min\\config.yaml\n",
      "17:47:16 [INFO] Loading json file from: C:\\AIC Experiment Data\\DARP\\ITSC_instance_paper\\Results\\NYC\\start_18-00\\duration_30_s\\max_delay_10_min\\vga\\config.yaml-performance.json\n",
      "17:47:16 [INFO] Loading json file from: C:\\AIC Experiment Data\\DARP\\ITSC_instance_paper\\Results\\NYC\\start_18-00\\duration_30_s\\max_delay_10_min\\vga\\config.yaml-solution.json\n",
      "17:47:16 [INFO] Loading experiment config from C:\\AIC Experiment Data\\DARP\\ITSC_instance_paper\\Results\\NYC\\start_18-00\\duration_30_s\\max_delay_10_min\\vga\\config.yaml\n",
      "17:47:16 [INFO] Loading instance config from C:\\AIC Experiment Data\\DARP\\ITSC_instance_paper\\Instances\\NYC\\instances\\start_18-00\\duration_30_s\\max_delay_10_min\\config.yaml\n",
      "17:47:16 [INFO] Loading occupancy stats in C:\\AIC Experiment Data\\DARP\\ITSC_instance_paper\\Results\\Manhattan\n",
      "17:47:16 [WARNING] No solution found in folder: C:\\AIC Experiment Data\\DARP\\ITSC_instance_paper\\Results\\Manhattan\\start_18-00\\duration_01_min\\max_delay_03_min\\halns\n",
      "17:47:16 [WARNING] No solution found in folder: C:\\AIC Experiment Data\\DARP\\ITSC_instance_paper\\Results\\Manhattan\\start_18-00\\duration_01_min\\max_delay_03_min\\halns-ih\n",
      "17:47:16 [INFO] Loading json file from: C:\\AIC Experiment Data\\DARP\\ITSC_instance_paper\\Results\\Manhattan\\start_18-00\\duration_01_min\\max_delay_03_min\\ih\\config.yaml-performance.json\n",
      "17:47:16 [INFO] Loading json file from: C:\\AIC Experiment Data\\DARP\\ITSC_instance_paper\\Results\\Manhattan\\start_18-00\\duration_01_min\\max_delay_03_min\\ih\\config.yaml-solution.json\n",
      "17:47:16 [INFO] Loading experiment config from C:\\AIC Experiment Data\\DARP\\ITSC_instance_paper\\Results\\Manhattan\\start_18-00\\duration_01_min\\max_delay_03_min\\ih\\config.yaml\n",
      "17:47:16 [INFO] Loading instance config from C:\\AIC Experiment Data\\DARP\\ITSC_instance_paper\\Instances\\Manhattan\\instances\\start_18-00\\duration_01_min\\max_delay_03_min\\config.yaml\n",
      "17:47:16 [INFO] Loading json file from: C:\\AIC Experiment Data\\DARP\\ITSC_instance_paper\\Results\\Manhattan\\start_18-00\\duration_01_min\\max_delay_03_min\\vga\\config.yaml-performance.json\n",
      "17:47:16 [INFO] Loading json file from: C:\\AIC Experiment Data\\DARP\\ITSC_instance_paper\\Results\\Manhattan\\start_18-00\\duration_01_min\\max_delay_03_min\\vga\\config.yaml-solution.json\n",
      "17:47:16 [INFO] Loading experiment config from C:\\AIC Experiment Data\\DARP\\ITSC_instance_paper\\Results\\Manhattan\\start_18-00\\duration_01_min\\max_delay_03_min\\vga\\config.yaml\n",
      "17:47:16 [INFO] Loading instance config from C:\\AIC Experiment Data\\DARP\\ITSC_instance_paper\\Instances\\Manhattan\\instances\\start_18-00\\duration_01_min\\max_delay_03_min\\config.yaml\n",
      "17:47:17 [WARNING] No solution found in folder: C:\\AIC Experiment Data\\DARP\\ITSC_instance_paper\\Results\\Manhattan\\start_18-00\\duration_01_min\\max_delay_05_min\\halns\n",
      "17:47:17 [WARNING] No solution found in folder: C:\\AIC Experiment Data\\DARP\\ITSC_instance_paper\\Results\\Manhattan\\start_18-00\\duration_01_min\\max_delay_05_min\\halns-ih\n",
      "17:47:17 [INFO] Loading json file from: C:\\AIC Experiment Data\\DARP\\ITSC_instance_paper\\Results\\Manhattan\\start_18-00\\duration_01_min\\max_delay_05_min\\ih\\config.yaml-performance.json\n",
      "17:47:17 [INFO] Loading json file from: C:\\AIC Experiment Data\\DARP\\ITSC_instance_paper\\Results\\Manhattan\\start_18-00\\duration_01_min\\max_delay_05_min\\ih\\config.yaml-solution.json\n",
      "17:47:17 [INFO] Loading experiment config from C:\\AIC Experiment Data\\DARP\\ITSC_instance_paper\\Results\\Manhattan\\start_18-00\\duration_01_min\\max_delay_05_min\\ih\\config.yaml\n",
      "17:47:17 [INFO] Loading instance config from C:\\AIC Experiment Data\\DARP\\ITSC_instance_paper\\Instances\\Manhattan\\instances\\start_18-00\\duration_01_min\\max_delay_05_min\\config.yaml\n",
      "17:47:17 [INFO] Loading json file from: C:\\AIC Experiment Data\\DARP\\ITSC_instance_paper\\Results\\Manhattan\\start_18-00\\duration_01_min\\max_delay_05_min\\vga\\config.yaml-performance.json\n",
      "17:47:17 [INFO] Loading json file from: C:\\AIC Experiment Data\\DARP\\ITSC_instance_paper\\Results\\Manhattan\\start_18-00\\duration_01_min\\max_delay_05_min\\vga\\config.yaml-solution.json\n",
      "17:47:17 [INFO] Loading experiment config from C:\\AIC Experiment Data\\DARP\\ITSC_instance_paper\\Results\\Manhattan\\start_18-00\\duration_01_min\\max_delay_05_min\\vga\\config.yaml\n",
      "17:47:17 [INFO] Loading instance config from C:\\AIC Experiment Data\\DARP\\ITSC_instance_paper\\Instances\\Manhattan\\instances\\start_18-00\\duration_01_min\\max_delay_05_min\\config.yaml\n",
      "17:47:17 [WARNING] No solution found in folder: C:\\AIC Experiment Data\\DARP\\ITSC_instance_paper\\Results\\Manhattan\\start_18-00\\duration_01_min\\max_delay_10_min\\halns\n",
      "17:47:17 [WARNING] No solution found in folder: C:\\AIC Experiment Data\\DARP\\ITSC_instance_paper\\Results\\Manhattan\\start_18-00\\duration_01_min\\max_delay_10_min\\halns-ih\n",
      "17:47:17 [INFO] Loading json file from: C:\\AIC Experiment Data\\DARP\\ITSC_instance_paper\\Results\\Manhattan\\start_18-00\\duration_01_min\\max_delay_10_min\\ih\\config.yaml-performance.json\n",
      "17:47:17 [INFO] Loading json file from: C:\\AIC Experiment Data\\DARP\\ITSC_instance_paper\\Results\\Manhattan\\start_18-00\\duration_01_min\\max_delay_10_min\\ih\\config.yaml-solution.json\n",
      "17:47:17 [INFO] Loading experiment config from C:\\AIC Experiment Data\\DARP\\ITSC_instance_paper\\Results\\Manhattan\\start_18-00\\duration_01_min\\max_delay_10_min\\ih\\config.yaml\n",
      "17:47:17 [INFO] Loading instance config from C:\\AIC Experiment Data\\DARP\\ITSC_instance_paper\\Instances\\Manhattan\\instances\\start_18-00\\duration_01_min\\max_delay_10_min\\config.yaml\n",
      "17:47:17 [WARNING] No solution found in folder: C:\\AIC Experiment Data\\DARP\\ITSC_instance_paper\\Results\\Manhattan\\start_18-00\\duration_01_min\\max_delay_10_min\\vga\n",
      "17:47:17 [WARNING] No solution found in folder: C:\\AIC Experiment Data\\DARP\\ITSC_instance_paper\\Results\\Manhattan\\start_18-00\\duration_02_h\\max_delay_03_min\\halns\n",
      "17:47:17 [WARNING] No solution found in folder: C:\\AIC Experiment Data\\DARP\\ITSC_instance_paper\\Results\\Manhattan\\start_18-00\\duration_02_h\\max_delay_03_min\\halns-ih\n",
      "17:47:17 [INFO] Loading json file from: C:\\AIC Experiment Data\\DARP\\ITSC_instance_paper\\Results\\Manhattan\\start_18-00\\duration_02_h\\max_delay_03_min\\ih\\config.yaml-performance.json\n",
      "17:47:17 [INFO] Loading json file from: C:\\AIC Experiment Data\\DARP\\ITSC_instance_paper\\Results\\Manhattan\\start_18-00\\duration_02_h\\max_delay_03_min\\ih\\config.yaml-solution.json\n",
      "17:47:17 [INFO] Loading experiment config from C:\\AIC Experiment Data\\DARP\\ITSC_instance_paper\\Results\\Manhattan\\start_18-00\\duration_02_h\\max_delay_03_min\\ih\\config.yaml\n",
      "17:47:17 [INFO] Loading instance config from C:\\AIC Experiment Data\\DARP\\ITSC_instance_paper\\Instances\\Manhattan\\instances\\start_18-00\\duration_02_h\\max_delay_03_min\\config.yaml\n",
      "17:47:17 [WARNING] No solution found in folder: C:\\AIC Experiment Data\\DARP\\ITSC_instance_paper\\Results\\Manhattan\\start_18-00\\duration_02_h\\max_delay_03_min\\vga\n",
      "17:47:17 [WARNING] No solution found in folder: C:\\AIC Experiment Data\\DARP\\ITSC_instance_paper\\Results\\Manhattan\\start_18-00\\duration_02_h\\max_delay_05_min\\halns\n",
      "17:47:17 [WARNING] No solution found in folder: C:\\AIC Experiment Data\\DARP\\ITSC_instance_paper\\Results\\Manhattan\\start_18-00\\duration_02_h\\max_delay_05_min\\halns-ih\n",
      "17:47:17 [WARNING] No solution found in folder: C:\\AIC Experiment Data\\DARP\\ITSC_instance_paper\\Results\\Manhattan\\start_18-00\\duration_02_h\\max_delay_05_min\\ih\n",
      "17:47:17 [WARNING] No solution found in folder: C:\\AIC Experiment Data\\DARP\\ITSC_instance_paper\\Results\\Manhattan\\start_18-00\\duration_02_h\\max_delay_05_min\\vga\n",
      "17:47:17 [WARNING] No solution found in folder: C:\\AIC Experiment Data\\DARP\\ITSC_instance_paper\\Results\\Manhattan\\start_18-00\\duration_02_h\\max_delay_10_min\\halns\n",
      "17:47:17 [WARNING] No solution found in folder: C:\\AIC Experiment Data\\DARP\\ITSC_instance_paper\\Results\\Manhattan\\start_18-00\\duration_02_h\\max_delay_10_min\\halns-ih\n",
      "17:47:17 [WARNING] No solution found in folder: C:\\AIC Experiment Data\\DARP\\ITSC_instance_paper\\Results\\Manhattan\\start_18-00\\duration_02_h\\max_delay_10_min\\ih\n",
      "17:47:17 [WARNING] No solution found in folder: C:\\AIC Experiment Data\\DARP\\ITSC_instance_paper\\Results\\Manhattan\\start_18-00\\duration_02_h\\max_delay_10_min\\vga\n",
      "17:47:17 [WARNING] No solution found in folder: C:\\AIC Experiment Data\\DARP\\ITSC_instance_paper\\Results\\Manhattan\\start_18-00\\duration_02_min\\max_delay_03_min\\halns\n",
      "17:47:17 [WARNING] No solution found in folder: C:\\AIC Experiment Data\\DARP\\ITSC_instance_paper\\Results\\Manhattan\\start_18-00\\duration_02_min\\max_delay_03_min\\halns-ih\n",
      "17:47:17 [INFO] Loading json file from: C:\\AIC Experiment Data\\DARP\\ITSC_instance_paper\\Results\\Manhattan\\start_18-00\\duration_02_min\\max_delay_03_min\\ih\\config.yaml-performance.json\n",
      "17:47:18 [INFO] Loading json file from: C:\\AIC Experiment Data\\DARP\\ITSC_instance_paper\\Results\\Manhattan\\start_18-00\\duration_02_min\\max_delay_03_min\\ih\\config.yaml-solution.json\n",
      "17:47:18 [INFO] Loading experiment config from C:\\AIC Experiment Data\\DARP\\ITSC_instance_paper\\Results\\Manhattan\\start_18-00\\duration_02_min\\max_delay_03_min\\ih\\config.yaml\n",
      "17:47:18 [INFO] Loading instance config from C:\\AIC Experiment Data\\DARP\\ITSC_instance_paper\\Instances\\Manhattan\\instances\\start_18-00\\duration_02_min\\max_delay_03_min\\config.yaml\n",
      "17:47:18 [INFO] Loading json file from: C:\\AIC Experiment Data\\DARP\\ITSC_instance_paper\\Results\\Manhattan\\start_18-00\\duration_02_min\\max_delay_03_min\\vga\\config.yaml-performance.json\n",
      "17:47:18 [INFO] Loading json file from: C:\\AIC Experiment Data\\DARP\\ITSC_instance_paper\\Results\\Manhattan\\start_18-00\\duration_02_min\\max_delay_03_min\\vga\\config.yaml-solution.json\n",
      "17:47:18 [INFO] Loading experiment config from C:\\AIC Experiment Data\\DARP\\ITSC_instance_paper\\Results\\Manhattan\\start_18-00\\duration_02_min\\max_delay_03_min\\vga\\config.yaml\n",
      "17:47:18 [INFO] Loading instance config from C:\\AIC Experiment Data\\DARP\\ITSC_instance_paper\\Instances\\Manhattan\\instances\\start_18-00\\duration_02_min\\max_delay_03_min\\config.yaml\n",
      "17:47:18 [WARNING] No solution found in folder: C:\\AIC Experiment Data\\DARP\\ITSC_instance_paper\\Results\\Manhattan\\start_18-00\\duration_02_min\\max_delay_05_min\\halns\n",
      "17:47:18 [WARNING] No solution found in folder: C:\\AIC Experiment Data\\DARP\\ITSC_instance_paper\\Results\\Manhattan\\start_18-00\\duration_02_min\\max_delay_05_min\\halns-ih\n",
      "17:47:18 [INFO] Loading json file from: C:\\AIC Experiment Data\\DARP\\ITSC_instance_paper\\Results\\Manhattan\\start_18-00\\duration_02_min\\max_delay_05_min\\ih\\config.yaml-performance.json\n",
      "17:47:18 [INFO] Loading json file from: C:\\AIC Experiment Data\\DARP\\ITSC_instance_paper\\Results\\Manhattan\\start_18-00\\duration_02_min\\max_delay_05_min\\ih\\config.yaml-solution.json\n",
      "17:47:18 [INFO] Loading experiment config from C:\\AIC Experiment Data\\DARP\\ITSC_instance_paper\\Results\\Manhattan\\start_18-00\\duration_02_min\\max_delay_05_min\\ih\\config.yaml\n",
      "17:47:18 [INFO] Loading instance config from C:\\AIC Experiment Data\\DARP\\ITSC_instance_paper\\Instances\\Manhattan\\instances\\start_18-00\\duration_02_min\\max_delay_05_min\\config.yaml\n",
      "17:47:18 [INFO] Loading json file from: C:\\AIC Experiment Data\\DARP\\ITSC_instance_paper\\Results\\Manhattan\\start_18-00\\duration_02_min\\max_delay_05_min\\vga\\config.yaml-performance.json\n",
      "17:47:18 [INFO] Loading json file from: C:\\AIC Experiment Data\\DARP\\ITSC_instance_paper\\Results\\Manhattan\\start_18-00\\duration_02_min\\max_delay_05_min\\vga\\config.yaml-solution.json\n",
      "17:47:18 [INFO] Loading experiment config from C:\\AIC Experiment Data\\DARP\\ITSC_instance_paper\\Results\\Manhattan\\start_18-00\\duration_02_min\\max_delay_05_min\\vga\\config.yaml\n",
      "17:47:18 [INFO] Loading instance config from C:\\AIC Experiment Data\\DARP\\ITSC_instance_paper\\Instances\\Manhattan\\instances\\start_18-00\\duration_02_min\\max_delay_05_min\\config.yaml\n",
      "17:47:18 [WARNING] No solution found in folder: C:\\AIC Experiment Data\\DARP\\ITSC_instance_paper\\Results\\Manhattan\\start_18-00\\duration_02_min\\max_delay_10_min\\halns\n",
      "17:47:18 [WARNING] No solution found in folder: C:\\AIC Experiment Data\\DARP\\ITSC_instance_paper\\Results\\Manhattan\\start_18-00\\duration_02_min\\max_delay_10_min\\halns-ih\n",
      "17:47:18 [INFO] Loading json file from: C:\\AIC Experiment Data\\DARP\\ITSC_instance_paper\\Results\\Manhattan\\start_18-00\\duration_02_min\\max_delay_10_min\\ih\\config.yaml-performance.json\n",
      "17:47:18 [INFO] Loading json file from: C:\\AIC Experiment Data\\DARP\\ITSC_instance_paper\\Results\\Manhattan\\start_18-00\\duration_02_min\\max_delay_10_min\\ih\\config.yaml-solution.json\n",
      "17:47:18 [INFO] Loading experiment config from C:\\AIC Experiment Data\\DARP\\ITSC_instance_paper\\Results\\Manhattan\\start_18-00\\duration_02_min\\max_delay_10_min\\ih\\config.yaml\n",
      "17:47:18 [INFO] Loading instance config from C:\\AIC Experiment Data\\DARP\\ITSC_instance_paper\\Instances\\Manhattan\\instances\\start_18-00\\duration_02_min\\max_delay_10_min\\config.yaml\n",
      "17:47:18 [WARNING] No solution found in folder: C:\\AIC Experiment Data\\DARP\\ITSC_instance_paper\\Results\\Manhattan\\start_18-00\\duration_02_min\\max_delay_10_min\\vga\n",
      "17:47:18 [WARNING] No solution found in folder: C:\\AIC Experiment Data\\DARP\\ITSC_instance_paper\\Results\\Manhattan\\start_18-00\\duration_05_min\\max_delay_03_min\\halns\n",
      "17:47:18 [WARNING] No solution found in folder: C:\\AIC Experiment Data\\DARP\\ITSC_instance_paper\\Results\\Manhattan\\start_18-00\\duration_05_min\\max_delay_03_min\\halns-ih\n",
      "17:47:18 [INFO] Loading json file from: C:\\AIC Experiment Data\\DARP\\ITSC_instance_paper\\Results\\Manhattan\\start_18-00\\duration_05_min\\max_delay_03_min\\ih\\config.yaml-performance.json\n",
      "17:47:18 [INFO] Loading json file from: C:\\AIC Experiment Data\\DARP\\ITSC_instance_paper\\Results\\Manhattan\\start_18-00\\duration_05_min\\max_delay_03_min\\ih\\config.yaml-solution.json\n",
      "17:47:18 [INFO] Loading experiment config from C:\\AIC Experiment Data\\DARP\\ITSC_instance_paper\\Results\\Manhattan\\start_18-00\\duration_05_min\\max_delay_03_min\\ih\\config.yaml\n",
      "17:47:18 [INFO] Loading instance config from C:\\AIC Experiment Data\\DARP\\ITSC_instance_paper\\Instances\\Manhattan\\instances\\start_18-00\\duration_05_min\\max_delay_03_min\\config.yaml\n",
      "17:47:18 [WARNING] No solution found in folder: C:\\AIC Experiment Data\\DARP\\ITSC_instance_paper\\Results\\Manhattan\\start_18-00\\duration_05_min\\max_delay_03_min\\vga\n",
      "17:47:18 [WARNING] No solution found in folder: C:\\AIC Experiment Data\\DARP\\ITSC_instance_paper\\Results\\Manhattan\\start_18-00\\duration_05_min\\max_delay_05_min\\halns\n",
      "17:47:18 [WARNING] No solution found in folder: C:\\AIC Experiment Data\\DARP\\ITSC_instance_paper\\Results\\Manhattan\\start_18-00\\duration_05_min\\max_delay_05_min\\halns-ih\n",
      "17:47:18 [INFO] Loading json file from: C:\\AIC Experiment Data\\DARP\\ITSC_instance_paper\\Results\\Manhattan\\start_18-00\\duration_05_min\\max_delay_05_min\\ih\\config.yaml-performance.json\n",
      "17:47:18 [INFO] Loading json file from: C:\\AIC Experiment Data\\DARP\\ITSC_instance_paper\\Results\\Manhattan\\start_18-00\\duration_05_min\\max_delay_05_min\\ih\\config.yaml-solution.json\n",
      "17:47:18 [INFO] Loading experiment config from C:\\AIC Experiment Data\\DARP\\ITSC_instance_paper\\Results\\Manhattan\\start_18-00\\duration_05_min\\max_delay_05_min\\ih\\config.yaml\n",
      "17:47:18 [INFO] Loading instance config from C:\\AIC Experiment Data\\DARP\\ITSC_instance_paper\\Instances\\Manhattan\\instances\\start_18-00\\duration_05_min\\max_delay_05_min\\config.yaml\n",
      "17:47:18 [WARNING] No solution found in folder: C:\\AIC Experiment Data\\DARP\\ITSC_instance_paper\\Results\\Manhattan\\start_18-00\\duration_05_min\\max_delay_05_min\\vga\n",
      "17:47:18 [WARNING] No solution found in folder: C:\\AIC Experiment Data\\DARP\\ITSC_instance_paper\\Results\\Manhattan\\start_18-00\\duration_05_min\\max_delay_10_min\\halns\n",
      "17:47:18 [WARNING] No solution found in folder: C:\\AIC Experiment Data\\DARP\\ITSC_instance_paper\\Results\\Manhattan\\start_18-00\\duration_05_min\\max_delay_10_min\\halns-ih\n",
      "17:47:18 [INFO] Loading json file from: C:\\AIC Experiment Data\\DARP\\ITSC_instance_paper\\Results\\Manhattan\\start_18-00\\duration_05_min\\max_delay_10_min\\ih\\config.yaml-performance.json\n",
      "17:47:18 [INFO] Loading json file from: C:\\AIC Experiment Data\\DARP\\ITSC_instance_paper\\Results\\Manhattan\\start_18-00\\duration_05_min\\max_delay_10_min\\ih\\config.yaml-solution.json\n",
      "17:47:18 [INFO] Loading experiment config from C:\\AIC Experiment Data\\DARP\\ITSC_instance_paper\\Results\\Manhattan\\start_18-00\\duration_05_min\\max_delay_10_min\\ih\\config.yaml\n",
      "17:47:18 [INFO] Loading instance config from C:\\AIC Experiment Data\\DARP\\ITSC_instance_paper\\Instances\\Manhattan\\instances\\start_18-00\\duration_05_min\\max_delay_10_min\\config.yaml\n",
      "17:47:18 [WARNING] No solution found in folder: C:\\AIC Experiment Data\\DARP\\ITSC_instance_paper\\Results\\Manhattan\\start_18-00\\duration_05_min\\max_delay_10_min\\vga\n",
      "17:47:18 [WARNING] No solution found in folder: C:\\AIC Experiment Data\\DARP\\ITSC_instance_paper\\Results\\Manhattan\\start_18-00\\duration_15_min\\max_delay_03_min\\halns\n",
      "17:47:18 [WARNING] No solution found in folder: C:\\AIC Experiment Data\\DARP\\ITSC_instance_paper\\Results\\Manhattan\\start_18-00\\duration_15_min\\max_delay_03_min\\halns-ih\n",
      "17:47:18 [INFO] Loading json file from: C:\\AIC Experiment Data\\DARP\\ITSC_instance_paper\\Results\\Manhattan\\start_18-00\\duration_15_min\\max_delay_03_min\\ih\\config.yaml-performance.json\n",
      "17:47:18 [INFO] Loading json file from: C:\\AIC Experiment Data\\DARP\\ITSC_instance_paper\\Results\\Manhattan\\start_18-00\\duration_15_min\\max_delay_03_min\\ih\\config.yaml-solution.json\n",
      "17:47:18 [INFO] Loading experiment config from C:\\AIC Experiment Data\\DARP\\ITSC_instance_paper\\Results\\Manhattan\\start_18-00\\duration_15_min\\max_delay_03_min\\ih\\config.yaml\n",
      "17:47:18 [INFO] Loading instance config from C:\\AIC Experiment Data\\DARP\\ITSC_instance_paper\\Instances\\Manhattan\\instances\\start_18-00\\duration_15_min\\max_delay_03_min\\config.yaml\n",
      "17:47:18 [WARNING] No solution found in folder: C:\\AIC Experiment Data\\DARP\\ITSC_instance_paper\\Results\\Manhattan\\start_18-00\\duration_15_min\\max_delay_03_min\\vga\n",
      "17:47:18 [WARNING] No solution found in folder: C:\\AIC Experiment Data\\DARP\\ITSC_instance_paper\\Results\\Manhattan\\start_18-00\\duration_15_min\\max_delay_05_min\\halns\n",
      "17:47:18 [WARNING] No solution found in folder: C:\\AIC Experiment Data\\DARP\\ITSC_instance_paper\\Results\\Manhattan\\start_18-00\\duration_15_min\\max_delay_05_min\\halns-ih\n",
      "17:47:18 [INFO] Loading json file from: C:\\AIC Experiment Data\\DARP\\ITSC_instance_paper\\Results\\Manhattan\\start_18-00\\duration_15_min\\max_delay_05_min\\ih\\config.yaml-performance.json\n",
      "17:47:18 [INFO] Loading json file from: C:\\AIC Experiment Data\\DARP\\ITSC_instance_paper\\Results\\Manhattan\\start_18-00\\duration_15_min\\max_delay_05_min\\ih\\config.yaml-solution.json\n",
      "17:47:18 [INFO] Loading experiment config from C:\\AIC Experiment Data\\DARP\\ITSC_instance_paper\\Results\\Manhattan\\start_18-00\\duration_15_min\\max_delay_05_min\\ih\\config.yaml\n",
      "17:47:18 [INFO] Loading instance config from C:\\AIC Experiment Data\\DARP\\ITSC_instance_paper\\Instances\\Manhattan\\instances\\start_18-00\\duration_15_min\\max_delay_05_min\\config.yaml\n",
      "17:47:18 [WARNING] No solution found in folder: C:\\AIC Experiment Data\\DARP\\ITSC_instance_paper\\Results\\Manhattan\\start_18-00\\duration_15_min\\max_delay_05_min\\vga\n",
      "17:47:18 [WARNING] No solution found in folder: C:\\AIC Experiment Data\\DARP\\ITSC_instance_paper\\Results\\Manhattan\\start_18-00\\duration_15_min\\max_delay_10_min\\halns\n",
      "17:47:18 [WARNING] No solution found in folder: C:\\AIC Experiment Data\\DARP\\ITSC_instance_paper\\Results\\Manhattan\\start_18-00\\duration_15_min\\max_delay_10_min\\halns-ih\n",
      "17:47:18 [INFO] Loading json file from: C:\\AIC Experiment Data\\DARP\\ITSC_instance_paper\\Results\\Manhattan\\start_18-00\\duration_15_min\\max_delay_10_min\\ih\\config.yaml-performance.json\n",
      "17:47:18 [INFO] Loading json file from: C:\\AIC Experiment Data\\DARP\\ITSC_instance_paper\\Results\\Manhattan\\start_18-00\\duration_15_min\\max_delay_10_min\\ih\\config.yaml-solution.json\n",
      "17:47:19 [INFO] Loading experiment config from C:\\AIC Experiment Data\\DARP\\ITSC_instance_paper\\Results\\Manhattan\\start_18-00\\duration_15_min\\max_delay_10_min\\ih\\config.yaml\n",
      "17:47:19 [INFO] Loading instance config from C:\\AIC Experiment Data\\DARP\\ITSC_instance_paper\\Instances\\Manhattan\\instances\\start_18-00\\duration_15_min\\max_delay_10_min\\config.yaml\n",
      "17:47:19 [WARNING] No solution found in folder: C:\\AIC Experiment Data\\DARP\\ITSC_instance_paper\\Results\\Manhattan\\start_18-00\\duration_15_min\\max_delay_10_min\\vga\n",
      "17:47:19 [WARNING] No solution found in folder: C:\\AIC Experiment Data\\DARP\\ITSC_instance_paper\\Results\\Manhattan\\start_18-00\\duration_16_h\\max_delay_03_min\\halns\n",
      "17:47:19 [WARNING] No solution found in folder: C:\\AIC Experiment Data\\DARP\\ITSC_instance_paper\\Results\\Manhattan\\start_18-00\\duration_16_h\\max_delay_03_min\\halns-ih\n",
      "17:47:19 [INFO] Loading json file from: C:\\AIC Experiment Data\\DARP\\ITSC_instance_paper\\Results\\Manhattan\\start_18-00\\duration_16_h\\max_delay_03_min\\ih\\config.yaml-performance.json\n",
      "17:47:19 [INFO] Loading json file from: C:\\AIC Experiment Data\\DARP\\ITSC_instance_paper\\Results\\Manhattan\\start_18-00\\duration_16_h\\max_delay_03_min\\ih\\config.yaml-solution.json\n",
      "17:47:21 [INFO] Loading experiment config from C:\\AIC Experiment Data\\DARP\\ITSC_instance_paper\\Results\\Manhattan\\start_18-00\\duration_16_h\\max_delay_03_min\\ih\\config.yaml\n",
      "17:47:21 [INFO] Loading instance config from C:\\AIC Experiment Data\\DARP\\ITSC_instance_paper\\Instances\\Manhattan\\instances\\start_18-00\\duration_16_h\\max_delay_03_min\\config.yaml\n",
      "17:47:21 [WARNING] No solution found in folder: C:\\AIC Experiment Data\\DARP\\ITSC_instance_paper\\Results\\Manhattan\\start_18-00\\duration_16_h\\max_delay_03_min\\vga\n",
      "17:47:21 [WARNING] No solution found in folder: C:\\AIC Experiment Data\\DARP\\ITSC_instance_paper\\Results\\Manhattan\\start_18-00\\duration_16_h\\max_delay_05_min\\halns\n",
      "17:47:21 [WARNING] No solution found in folder: C:\\AIC Experiment Data\\DARP\\ITSC_instance_paper\\Results\\Manhattan\\start_18-00\\duration_16_h\\max_delay_05_min\\halns-ih\n",
      "17:47:21 [WARNING] No solution found in folder: C:\\AIC Experiment Data\\DARP\\ITSC_instance_paper\\Results\\Manhattan\\start_18-00\\duration_16_h\\max_delay_05_min\\ih\n",
      "17:47:21 [WARNING] No solution found in folder: C:\\AIC Experiment Data\\DARP\\ITSC_instance_paper\\Results\\Manhattan\\start_18-00\\duration_16_h\\max_delay_05_min\\vga\n",
      "17:47:21 [WARNING] No solution found in folder: C:\\AIC Experiment Data\\DARP\\ITSC_instance_paper\\Results\\Manhattan\\start_18-00\\duration_16_h\\max_delay_10_min\\halns\n",
      "17:47:21 [WARNING] No solution found in folder: C:\\AIC Experiment Data\\DARP\\ITSC_instance_paper\\Results\\Manhattan\\start_18-00\\duration_16_h\\max_delay_10_min\\halns-ih\n",
      "17:47:21 [WARNING] No solution found in folder: C:\\AIC Experiment Data\\DARP\\ITSC_instance_paper\\Results\\Manhattan\\start_18-00\\duration_16_h\\max_delay_10_min\\ih\n",
      "17:47:21 [WARNING] No solution found in folder: C:\\AIC Experiment Data\\DARP\\ITSC_instance_paper\\Results\\Manhattan\\start_18-00\\duration_16_h\\max_delay_10_min\\vga\n",
      "17:47:21 [WARNING] No solution found in folder: C:\\AIC Experiment Data\\DARP\\ITSC_instance_paper\\Results\\Manhattan\\start_18-00\\duration_30_min\\max_delay_03_min\\halns\n",
      "17:47:21 [WARNING] No solution found in folder: C:\\AIC Experiment Data\\DARP\\ITSC_instance_paper\\Results\\Manhattan\\start_18-00\\duration_30_min\\max_delay_03_min\\halns-ih\n",
      "17:47:21 [INFO] Loading json file from: C:\\AIC Experiment Data\\DARP\\ITSC_instance_paper\\Results\\Manhattan\\start_18-00\\duration_30_min\\max_delay_03_min\\ih\\config.yaml-performance.json\n",
      "17:47:21 [INFO] Loading json file from: C:\\AIC Experiment Data\\DARP\\ITSC_instance_paper\\Results\\Manhattan\\start_18-00\\duration_30_min\\max_delay_03_min\\ih\\config.yaml-solution.json\n",
      "17:47:22 [INFO] Loading experiment config from C:\\AIC Experiment Data\\DARP\\ITSC_instance_paper\\Results\\Manhattan\\start_18-00\\duration_30_min\\max_delay_03_min\\ih\\config.yaml\n",
      "17:47:22 [INFO] Loading instance config from C:\\AIC Experiment Data\\DARP\\ITSC_instance_paper\\Instances\\Manhattan\\instances\\start_18-00\\duration_30_min\\max_delay_03_min\\config.yaml\n",
      "17:47:22 [WARNING] No solution found in folder: C:\\AIC Experiment Data\\DARP\\ITSC_instance_paper\\Results\\Manhattan\\start_18-00\\duration_30_min\\max_delay_03_min\\vga\n",
      "17:47:22 [WARNING] No solution found in folder: C:\\AIC Experiment Data\\DARP\\ITSC_instance_paper\\Results\\Manhattan\\start_18-00\\duration_30_min\\max_delay_05_min\\halns\n",
      "17:47:22 [WARNING] No solution found in folder: C:\\AIC Experiment Data\\DARP\\ITSC_instance_paper\\Results\\Manhattan\\start_18-00\\duration_30_min\\max_delay_05_min\\halns-ih\n",
      "17:47:22 [INFO] Loading json file from: C:\\AIC Experiment Data\\DARP\\ITSC_instance_paper\\Results\\Manhattan\\start_18-00\\duration_30_min\\max_delay_05_min\\ih\\config.yaml-performance.json\n",
      "17:47:22 [INFO] Loading json file from: C:\\AIC Experiment Data\\DARP\\ITSC_instance_paper\\Results\\Manhattan\\start_18-00\\duration_30_min\\max_delay_05_min\\ih\\config.yaml-solution.json\n",
      "17:47:22 [INFO] Loading experiment config from C:\\AIC Experiment Data\\DARP\\ITSC_instance_paper\\Results\\Manhattan\\start_18-00\\duration_30_min\\max_delay_05_min\\ih\\config.yaml\n",
      "17:47:22 [INFO] Loading instance config from C:\\AIC Experiment Data\\DARP\\ITSC_instance_paper\\Instances\\Manhattan\\instances\\start_18-00\\duration_30_min\\max_delay_05_min\\config.yaml\n",
      "17:47:22 [WARNING] No solution found in folder: C:\\AIC Experiment Data\\DARP\\ITSC_instance_paper\\Results\\Manhattan\\start_18-00\\duration_30_min\\max_delay_05_min\\vga\n",
      "17:47:22 [WARNING] No solution found in folder: C:\\AIC Experiment Data\\DARP\\ITSC_instance_paper\\Results\\Manhattan\\start_18-00\\duration_30_min\\max_delay_10_min\\halns\n",
      "17:47:22 [WARNING] No solution found in folder: C:\\AIC Experiment Data\\DARP\\ITSC_instance_paper\\Results\\Manhattan\\start_18-00\\duration_30_min\\max_delay_10_min\\halns-ih\n",
      "17:47:22 [INFO] Loading json file from: C:\\AIC Experiment Data\\DARP\\ITSC_instance_paper\\Results\\Manhattan\\start_18-00\\duration_30_min\\max_delay_10_min\\ih\\config.yaml-performance.json\n",
      "17:47:22 [INFO] Loading json file from: C:\\AIC Experiment Data\\DARP\\ITSC_instance_paper\\Results\\Manhattan\\start_18-00\\duration_30_min\\max_delay_10_min\\ih\\config.yaml-solution.json\n",
      "17:47:23 [INFO] Loading experiment config from C:\\AIC Experiment Data\\DARP\\ITSC_instance_paper\\Results\\Manhattan\\start_18-00\\duration_30_min\\max_delay_10_min\\ih\\config.yaml\n",
      "17:47:23 [INFO] Loading instance config from C:\\AIC Experiment Data\\DARP\\ITSC_instance_paper\\Instances\\Manhattan\\instances\\start_18-00\\duration_30_min\\max_delay_10_min\\config.yaml\n",
      "17:47:23 [WARNING] No solution found in folder: C:\\AIC Experiment Data\\DARP\\ITSC_instance_paper\\Results\\Manhattan\\start_18-00\\duration_30_min\\max_delay_10_min\\vga\n",
      "17:47:23 [WARNING] No solution found in folder: C:\\AIC Experiment Data\\DARP\\ITSC_instance_paper\\Results\\Manhattan\\start_18-00\\duration_30_s\\max_delay_03_min\\halns\n",
      "17:47:23 [WARNING] No solution found in folder: C:\\AIC Experiment Data\\DARP\\ITSC_instance_paper\\Results\\Manhattan\\start_18-00\\duration_30_s\\max_delay_03_min\\halns-ih\n",
      "17:47:23 [INFO] Loading json file from: C:\\AIC Experiment Data\\DARP\\ITSC_instance_paper\\Results\\Manhattan\\start_18-00\\duration_30_s\\max_delay_03_min\\ih\\config.yaml-performance.json\n",
      "17:47:23 [INFO] Loading json file from: C:\\AIC Experiment Data\\DARP\\ITSC_instance_paper\\Results\\Manhattan\\start_18-00\\duration_30_s\\max_delay_03_min\\ih\\config.yaml-solution.json\n",
      "17:47:23 [INFO] Loading experiment config from C:\\AIC Experiment Data\\DARP\\ITSC_instance_paper\\Results\\Manhattan\\start_18-00\\duration_30_s\\max_delay_03_min\\ih\\config.yaml\n",
      "17:47:23 [INFO] Loading instance config from C:\\AIC Experiment Data\\DARP\\ITSC_instance_paper\\Instances\\Manhattan\\instances\\start_18-00\\duration_30_s\\max_delay_03_min\\config.yaml\n",
      "17:47:23 [INFO] Loading json file from: C:\\AIC Experiment Data\\DARP\\ITSC_instance_paper\\Results\\Manhattan\\start_18-00\\duration_30_s\\max_delay_03_min\\vga\\config.yaml-performance.json\n",
      "17:47:23 [INFO] Loading json file from: C:\\AIC Experiment Data\\DARP\\ITSC_instance_paper\\Results\\Manhattan\\start_18-00\\duration_30_s\\max_delay_03_min\\vga\\config.yaml-solution.json\n",
      "17:47:23 [INFO] Loading experiment config from C:\\AIC Experiment Data\\DARP\\ITSC_instance_paper\\Results\\Manhattan\\start_18-00\\duration_30_s\\max_delay_03_min\\vga\\config.yaml\n",
      "17:47:23 [INFO] Loading instance config from C:\\AIC Experiment Data\\DARP\\ITSC_instance_paper\\Instances\\Manhattan\\instances\\start_18-00\\duration_30_s\\max_delay_03_min\\config.yaml\n",
      "17:47:23 [WARNING] No solution found in folder: C:\\AIC Experiment Data\\DARP\\ITSC_instance_paper\\Results\\Manhattan\\start_18-00\\duration_30_s\\max_delay_05_min\\halns\n",
      "17:47:23 [WARNING] No solution found in folder: C:\\AIC Experiment Data\\DARP\\ITSC_instance_paper\\Results\\Manhattan\\start_18-00\\duration_30_s\\max_delay_05_min\\halns-ih\n",
      "17:47:23 [INFO] Loading json file from: C:\\AIC Experiment Data\\DARP\\ITSC_instance_paper\\Results\\Manhattan\\start_18-00\\duration_30_s\\max_delay_05_min\\ih\\config.yaml-performance.json\n",
      "17:47:23 [INFO] Loading json file from: C:\\AIC Experiment Data\\DARP\\ITSC_instance_paper\\Results\\Manhattan\\start_18-00\\duration_30_s\\max_delay_05_min\\ih\\config.yaml-solution.json\n",
      "17:47:23 [INFO] Loading experiment config from C:\\AIC Experiment Data\\DARP\\ITSC_instance_paper\\Results\\Manhattan\\start_18-00\\duration_30_s\\max_delay_05_min\\ih\\config.yaml\n",
      "17:47:23 [INFO] Loading instance config from C:\\AIC Experiment Data\\DARP\\ITSC_instance_paper\\Instances\\Manhattan\\instances\\start_18-00\\duration_30_s\\max_delay_05_min\\config.yaml\n",
      "17:47:23 [INFO] Loading json file from: C:\\AIC Experiment Data\\DARP\\ITSC_instance_paper\\Results\\Manhattan\\start_18-00\\duration_30_s\\max_delay_05_min\\vga\\config.yaml-performance.json\n",
      "17:47:23 [INFO] Loading json file from: C:\\AIC Experiment Data\\DARP\\ITSC_instance_paper\\Results\\Manhattan\\start_18-00\\duration_30_s\\max_delay_05_min\\vga\\config.yaml-solution.json\n",
      "17:47:23 [INFO] Loading experiment config from C:\\AIC Experiment Data\\DARP\\ITSC_instance_paper\\Results\\Manhattan\\start_18-00\\duration_30_s\\max_delay_05_min\\vga\\config.yaml\n",
      "17:47:23 [INFO] Loading instance config from C:\\AIC Experiment Data\\DARP\\ITSC_instance_paper\\Instances\\Manhattan\\instances\\start_18-00\\duration_30_s\\max_delay_05_min\\config.yaml\n",
      "17:47:23 [WARNING] No solution found in folder: C:\\AIC Experiment Data\\DARP\\ITSC_instance_paper\\Results\\Manhattan\\start_18-00\\duration_30_s\\max_delay_10_min\\halns\n",
      "17:47:23 [WARNING] No solution found in folder: C:\\AIC Experiment Data\\DARP\\ITSC_instance_paper\\Results\\Manhattan\\start_18-00\\duration_30_s\\max_delay_10_min\\halns-ih\n",
      "17:47:23 [INFO] Loading json file from: C:\\AIC Experiment Data\\DARP\\ITSC_instance_paper\\Results\\Manhattan\\start_18-00\\duration_30_s\\max_delay_10_min\\ih\\config.yaml-performance.json\n",
      "17:47:23 [INFO] Loading json file from: C:\\AIC Experiment Data\\DARP\\ITSC_instance_paper\\Results\\Manhattan\\start_18-00\\duration_30_s\\max_delay_10_min\\ih\\config.yaml-solution.json\n",
      "17:47:23 [INFO] Loading experiment config from C:\\AIC Experiment Data\\DARP\\ITSC_instance_paper\\Results\\Manhattan\\start_18-00\\duration_30_s\\max_delay_10_min\\ih\\config.yaml\n",
      "17:47:23 [INFO] Loading instance config from C:\\AIC Experiment Data\\DARP\\ITSC_instance_paper\\Instances\\Manhattan\\instances\\start_18-00\\duration_30_s\\max_delay_10_min\\config.yaml\n",
      "17:47:23 [INFO] Loading json file from: C:\\AIC Experiment Data\\DARP\\ITSC_instance_paper\\Results\\Manhattan\\start_18-00\\duration_30_s\\max_delay_10_min\\vga\\config.yaml-performance.json\n",
      "17:47:23 [INFO] Loading json file from: C:\\AIC Experiment Data\\DARP\\ITSC_instance_paper\\Results\\Manhattan\\start_18-00\\duration_30_s\\max_delay_10_min\\vga\\config.yaml-solution.json\n",
      "17:47:23 [INFO] Loading experiment config from C:\\AIC Experiment Data\\DARP\\ITSC_instance_paper\\Results\\Manhattan\\start_18-00\\duration_30_s\\max_delay_10_min\\vga\\config.yaml\n",
      "17:47:23 [INFO] Loading instance config from C:\\AIC Experiment Data\\DARP\\ITSC_instance_paper\\Instances\\Manhattan\\instances\\start_18-00\\duration_30_s\\max_delay_10_min\\config.yaml\n",
      "17:47:23 [INFO] Loading occupancy stats in C:\\AIC Experiment Data\\DARP\\ITSC_instance_paper\\Results\\Chicago\n",
      "17:47:23 [WARNING] No solution found in folder: C:\\AIC Experiment Data\\DARP\\ITSC_instance_paper\\Results\\Chicago\\start_18-00\\duration_01_min\\max_delay_03_min\\halns\n",
      "17:47:23 [WARNING] No solution found in folder: C:\\AIC Experiment Data\\DARP\\ITSC_instance_paper\\Results\\Chicago\\start_18-00\\duration_01_min\\max_delay_03_min\\halns-ih\n",
      "17:47:23 [INFO] Loading json file from: C:\\AIC Experiment Data\\DARP\\ITSC_instance_paper\\Results\\Chicago\\start_18-00\\duration_01_min\\max_delay_03_min\\ih\\config.yaml-performance.json\n",
      "17:47:23 [INFO] Loading json file from: C:\\AIC Experiment Data\\DARP\\ITSC_instance_paper\\Results\\Chicago\\start_18-00\\duration_01_min\\max_delay_03_min\\ih\\config.yaml-solution.json\n",
      "17:47:23 [INFO] Loading experiment config from C:\\AIC Experiment Data\\DARP\\ITSC_instance_paper\\Results\\Chicago\\start_18-00\\duration_01_min\\max_delay_03_min\\ih\\config.yaml\n",
      "17:47:23 [INFO] Loading instance config from C:\\AIC Experiment Data\\DARP\\ITSC_instance_paper\\Instances\\Chicago\\instances\\start_18-00\\duration_01_min\\max_delay_03_min\\config.yaml\n",
      "17:47:23 [INFO] Loading json file from: C:\\AIC Experiment Data\\DARP\\ITSC_instance_paper\\Results\\Chicago\\start_18-00\\duration_01_min\\max_delay_03_min\\vga\\config.yaml-performance.json\n",
      "17:47:23 [INFO] Loading json file from: C:\\AIC Experiment Data\\DARP\\ITSC_instance_paper\\Results\\Chicago\\start_18-00\\duration_01_min\\max_delay_03_min\\vga\\config.yaml-solution.json\n",
      "17:47:23 [INFO] Loading experiment config from C:\\AIC Experiment Data\\DARP\\ITSC_instance_paper\\Results\\Chicago\\start_18-00\\duration_01_min\\max_delay_03_min\\vga\\config.yaml\n",
      "17:47:23 [INFO] Loading instance config from C:\\AIC Experiment Data\\DARP\\ITSC_instance_paper\\Instances\\Chicago\\instances\\start_18-00\\duration_01_min\\max_delay_03_min\\config.yaml\n",
      "17:47:23 [WARNING] No solution found in folder: C:\\AIC Experiment Data\\DARP\\ITSC_instance_paper\\Results\\Chicago\\start_18-00\\duration_01_min\\max_delay_05_min\\halns\n",
      "17:47:23 [WARNING] No solution found in folder: C:\\AIC Experiment Data\\DARP\\ITSC_instance_paper\\Results\\Chicago\\start_18-00\\duration_01_min\\max_delay_05_min\\halns-ih\n",
      "17:47:23 [INFO] Loading json file from: C:\\AIC Experiment Data\\DARP\\ITSC_instance_paper\\Results\\Chicago\\start_18-00\\duration_01_min\\max_delay_05_min\\ih\\config.yaml-performance.json\n",
      "17:47:24 [INFO] Loading json file from: C:\\AIC Experiment Data\\DARP\\ITSC_instance_paper\\Results\\Chicago\\start_18-00\\duration_01_min\\max_delay_05_min\\ih\\config.yaml-solution.json\n",
      "17:47:24 [INFO] Loading experiment config from C:\\AIC Experiment Data\\DARP\\ITSC_instance_paper\\Results\\Chicago\\start_18-00\\duration_01_min\\max_delay_05_min\\ih\\config.yaml\n",
      "17:47:24 [INFO] Loading instance config from C:\\AIC Experiment Data\\DARP\\ITSC_instance_paper\\Instances\\Chicago\\instances\\start_18-00\\duration_01_min\\max_delay_05_min\\config.yaml\n",
      "17:47:24 [INFO] Loading json file from: C:\\AIC Experiment Data\\DARP\\ITSC_instance_paper\\Results\\Chicago\\start_18-00\\duration_01_min\\max_delay_05_min\\vga\\config.yaml-performance.json\n",
      "17:47:24 [INFO] Loading json file from: C:\\AIC Experiment Data\\DARP\\ITSC_instance_paper\\Results\\Chicago\\start_18-00\\duration_01_min\\max_delay_05_min\\vga\\config.yaml-solution.json\n",
      "17:47:24 [INFO] Loading experiment config from C:\\AIC Experiment Data\\DARP\\ITSC_instance_paper\\Results\\Chicago\\start_18-00\\duration_01_min\\max_delay_05_min\\vga\\config.yaml\n",
      "17:47:24 [INFO] Loading instance config from C:\\AIC Experiment Data\\DARP\\ITSC_instance_paper\\Instances\\Chicago\\instances\\start_18-00\\duration_01_min\\max_delay_05_min\\config.yaml\n",
      "17:47:24 [WARNING] No solution found in folder: C:\\AIC Experiment Data\\DARP\\ITSC_instance_paper\\Results\\Chicago\\start_18-00\\duration_01_min\\max_delay_10_min\\halns\n",
      "17:47:24 [WARNING] No solution found in folder: C:\\AIC Experiment Data\\DARP\\ITSC_instance_paper\\Results\\Chicago\\start_18-00\\duration_01_min\\max_delay_10_min\\halns-ih\n",
      "17:47:24 [INFO] Loading json file from: C:\\AIC Experiment Data\\DARP\\ITSC_instance_paper\\Results\\Chicago\\start_18-00\\duration_01_min\\max_delay_10_min\\ih\\config.yaml-performance.json\n",
      "17:47:24 [INFO] Loading json file from: C:\\AIC Experiment Data\\DARP\\ITSC_instance_paper\\Results\\Chicago\\start_18-00\\duration_01_min\\max_delay_10_min\\ih\\config.yaml-solution.json\n",
      "17:47:24 [INFO] Loading experiment config from C:\\AIC Experiment Data\\DARP\\ITSC_instance_paper\\Results\\Chicago\\start_18-00\\duration_01_min\\max_delay_10_min\\ih\\config.yaml\n",
      "17:47:24 [INFO] Loading instance config from C:\\AIC Experiment Data\\DARP\\ITSC_instance_paper\\Instances\\Chicago\\instances\\start_18-00\\duration_01_min\\max_delay_10_min\\config.yaml\n",
      "17:47:24 [INFO] Loading json file from: C:\\AIC Experiment Data\\DARP\\ITSC_instance_paper\\Results\\Chicago\\start_18-00\\duration_01_min\\max_delay_10_min\\vga\\config.yaml-performance.json\n",
      "17:47:24 [INFO] Loading json file from: C:\\AIC Experiment Data\\DARP\\ITSC_instance_paper\\Results\\Chicago\\start_18-00\\duration_01_min\\max_delay_10_min\\vga\\config.yaml-solution.json\n",
      "17:47:24 [INFO] Loading experiment config from C:\\AIC Experiment Data\\DARP\\ITSC_instance_paper\\Results\\Chicago\\start_18-00\\duration_01_min\\max_delay_10_min\\vga\\config.yaml\n",
      "17:47:24 [INFO] Loading instance config from C:\\AIC Experiment Data\\DARP\\ITSC_instance_paper\\Instances\\Chicago\\instances\\start_18-00\\duration_01_min\\max_delay_10_min\\config.yaml\n",
      "17:47:24 [WARNING] No solution found in folder: C:\\AIC Experiment Data\\DARP\\ITSC_instance_paper\\Results\\Chicago\\start_18-00\\duration_02_h\\max_delay_03_min\\halns\n",
      "17:47:24 [WARNING] No solution found in folder: C:\\AIC Experiment Data\\DARP\\ITSC_instance_paper\\Results\\Chicago\\start_18-00\\duration_02_h\\max_delay_03_min\\halns-ih\n",
      "17:47:24 [INFO] Loading json file from: C:\\AIC Experiment Data\\DARP\\ITSC_instance_paper\\Results\\Chicago\\start_18-00\\duration_02_h\\max_delay_03_min\\ih\\config.yaml-performance.json\n",
      "17:47:24 [INFO] Loading json file from: C:\\AIC Experiment Data\\DARP\\ITSC_instance_paper\\Results\\Chicago\\start_18-00\\duration_02_h\\max_delay_03_min\\ih\\config.yaml-solution.json\n",
      "17:47:24 [INFO] Loading experiment config from C:\\AIC Experiment Data\\DARP\\ITSC_instance_paper\\Results\\Chicago\\start_18-00\\duration_02_h\\max_delay_03_min\\ih\\config.yaml\n",
      "17:47:24 [INFO] Loading instance config from C:\\AIC Experiment Data\\DARP\\ITSC_instance_paper\\Instances\\Chicago\\instances\\start_18-00\\duration_02_h\\max_delay_03_min\\config.yaml\n",
      "17:47:24 [WARNING] No solution found in folder: C:\\AIC Experiment Data\\DARP\\ITSC_instance_paper\\Results\\Chicago\\start_18-00\\duration_02_h\\max_delay_03_min\\vga\n",
      "17:47:24 [WARNING] No solution found in folder: C:\\AIC Experiment Data\\DARP\\ITSC_instance_paper\\Results\\Chicago\\start_18-00\\duration_02_h\\max_delay_05_min\\halns\n",
      "17:47:24 [WARNING] No solution found in folder: C:\\AIC Experiment Data\\DARP\\ITSC_instance_paper\\Results\\Chicago\\start_18-00\\duration_02_h\\max_delay_05_min\\halns-ih\n",
      "17:47:24 [WARNING] No solution found in folder: C:\\AIC Experiment Data\\DARP\\ITSC_instance_paper\\Results\\Chicago\\start_18-00\\duration_02_h\\max_delay_05_min\\ih\n",
      "17:47:24 [WARNING] No solution found in folder: C:\\AIC Experiment Data\\DARP\\ITSC_instance_paper\\Results\\Chicago\\start_18-00\\duration_02_h\\max_delay_05_min\\vga\n",
      "17:47:24 [WARNING] No solution found in folder: C:\\AIC Experiment Data\\DARP\\ITSC_instance_paper\\Results\\Chicago\\start_18-00\\duration_02_h\\max_delay_10_min\\halns\n",
      "17:47:24 [WARNING] No solution found in folder: C:\\AIC Experiment Data\\DARP\\ITSC_instance_paper\\Results\\Chicago\\start_18-00\\duration_02_h\\max_delay_10_min\\halns-ih\n",
      "17:47:24 [WARNING] No solution found in folder: C:\\AIC Experiment Data\\DARP\\ITSC_instance_paper\\Results\\Chicago\\start_18-00\\duration_02_h\\max_delay_10_min\\ih\n",
      "17:47:24 [WARNING] No solution found in folder: C:\\AIC Experiment Data\\DARP\\ITSC_instance_paper\\Results\\Chicago\\start_18-00\\duration_02_h\\max_delay_10_min\\vga\n",
      "17:47:24 [WARNING] No solution found in folder: C:\\AIC Experiment Data\\DARP\\ITSC_instance_paper\\Results\\Chicago\\start_18-00\\duration_02_min\\max_delay_03_min\\halns\n",
      "17:47:24 [WARNING] No solution found in folder: C:\\AIC Experiment Data\\DARP\\ITSC_instance_paper\\Results\\Chicago\\start_18-00\\duration_02_min\\max_delay_03_min\\halns-ih\n",
      "17:47:24 [INFO] Loading json file from: C:\\AIC Experiment Data\\DARP\\ITSC_instance_paper\\Results\\Chicago\\start_18-00\\duration_02_min\\max_delay_03_min\\ih\\config.yaml-performance.json\n",
      "17:47:24 [INFO] Loading json file from: C:\\AIC Experiment Data\\DARP\\ITSC_instance_paper\\Results\\Chicago\\start_18-00\\duration_02_min\\max_delay_03_min\\ih\\config.yaml-solution.json\n",
      "17:47:24 [INFO] Loading experiment config from C:\\AIC Experiment Data\\DARP\\ITSC_instance_paper\\Results\\Chicago\\start_18-00\\duration_02_min\\max_delay_03_min\\ih\\config.yaml\n",
      "17:47:24 [INFO] Loading instance config from C:\\AIC Experiment Data\\DARP\\ITSC_instance_paper\\Instances\\Chicago\\instances\\start_18-00\\duration_02_min\\max_delay_03_min\\config.yaml\n",
      "17:47:24 [INFO] Loading json file from: C:\\AIC Experiment Data\\DARP\\ITSC_instance_paper\\Results\\Chicago\\start_18-00\\duration_02_min\\max_delay_03_min\\vga\\config.yaml-performance.json\n",
      "17:47:24 [INFO] Loading json file from: C:\\AIC Experiment Data\\DARP\\ITSC_instance_paper\\Results\\Chicago\\start_18-00\\duration_02_min\\max_delay_03_min\\vga\\config.yaml-solution.json\n",
      "17:47:24 [INFO] Loading experiment config from C:\\AIC Experiment Data\\DARP\\ITSC_instance_paper\\Results\\Chicago\\start_18-00\\duration_02_min\\max_delay_03_min\\vga\\config.yaml\n",
      "17:47:24 [INFO] Loading instance config from C:\\AIC Experiment Data\\DARP\\ITSC_instance_paper\\Instances\\Chicago\\instances\\start_18-00\\duration_02_min\\max_delay_03_min\\config.yaml\n",
      "17:47:24 [WARNING] No solution found in folder: C:\\AIC Experiment Data\\DARP\\ITSC_instance_paper\\Results\\Chicago\\start_18-00\\duration_02_min\\max_delay_05_min\\halns\n",
      "17:47:24 [WARNING] No solution found in folder: C:\\AIC Experiment Data\\DARP\\ITSC_instance_paper\\Results\\Chicago\\start_18-00\\duration_02_min\\max_delay_05_min\\halns-ih\n",
      "17:47:24 [INFO] Loading json file from: C:\\AIC Experiment Data\\DARP\\ITSC_instance_paper\\Results\\Chicago\\start_18-00\\duration_02_min\\max_delay_05_min\\ih\\config.yaml-performance.json\n",
      "17:47:24 [INFO] Loading json file from: C:\\AIC Experiment Data\\DARP\\ITSC_instance_paper\\Results\\Chicago\\start_18-00\\duration_02_min\\max_delay_05_min\\ih\\config.yaml-solution.json\n",
      "17:47:24 [INFO] Loading experiment config from C:\\AIC Experiment Data\\DARP\\ITSC_instance_paper\\Results\\Chicago\\start_18-00\\duration_02_min\\max_delay_05_min\\ih\\config.yaml\n",
      "17:47:24 [INFO] Loading instance config from C:\\AIC Experiment Data\\DARP\\ITSC_instance_paper\\Instances\\Chicago\\instances\\start_18-00\\duration_02_min\\max_delay_05_min\\config.yaml\n",
      "17:47:24 [INFO] Loading json file from: C:\\AIC Experiment Data\\DARP\\ITSC_instance_paper\\Results\\Chicago\\start_18-00\\duration_02_min\\max_delay_05_min\\vga\\config.yaml-performance.json\n",
      "17:47:24 [INFO] Loading json file from: C:\\AIC Experiment Data\\DARP\\ITSC_instance_paper\\Results\\Chicago\\start_18-00\\duration_02_min\\max_delay_05_min\\vga\\config.yaml-solution.json\n",
      "17:47:24 [INFO] Loading experiment config from C:\\AIC Experiment Data\\DARP\\ITSC_instance_paper\\Results\\Chicago\\start_18-00\\duration_02_min\\max_delay_05_min\\vga\\config.yaml\n",
      "17:47:24 [INFO] Loading instance config from C:\\AIC Experiment Data\\DARP\\ITSC_instance_paper\\Instances\\Chicago\\instances\\start_18-00\\duration_02_min\\max_delay_05_min\\config.yaml\n",
      "17:47:24 [WARNING] No solution found in folder: C:\\AIC Experiment Data\\DARP\\ITSC_instance_paper\\Results\\Chicago\\start_18-00\\duration_02_min\\max_delay_10_min\\halns\n",
      "17:47:24 [WARNING] No solution found in folder: C:\\AIC Experiment Data\\DARP\\ITSC_instance_paper\\Results\\Chicago\\start_18-00\\duration_02_min\\max_delay_10_min\\halns-ih\n",
      "17:47:24 [INFO] Loading json file from: C:\\AIC Experiment Data\\DARP\\ITSC_instance_paper\\Results\\Chicago\\start_18-00\\duration_02_min\\max_delay_10_min\\ih\\config.yaml-performance.json\n",
      "17:47:24 [INFO] Loading json file from: C:\\AIC Experiment Data\\DARP\\ITSC_instance_paper\\Results\\Chicago\\start_18-00\\duration_02_min\\max_delay_10_min\\ih\\config.yaml-solution.json\n",
      "17:47:24 [INFO] Loading experiment config from C:\\AIC Experiment Data\\DARP\\ITSC_instance_paper\\Results\\Chicago\\start_18-00\\duration_02_min\\max_delay_10_min\\ih\\config.yaml\n",
      "17:47:25 [INFO] Loading instance config from C:\\AIC Experiment Data\\DARP\\ITSC_instance_paper\\Instances\\Chicago\\instances\\start_18-00\\duration_02_min\\max_delay_10_min\\config.yaml\n",
      "17:47:25 [INFO] Loading json file from: C:\\AIC Experiment Data\\DARP\\ITSC_instance_paper\\Results\\Chicago\\start_18-00\\duration_02_min\\max_delay_10_min\\vga\\config.yaml-performance.json\n",
      "17:47:25 [INFO] Loading json file from: C:\\AIC Experiment Data\\DARP\\ITSC_instance_paper\\Results\\Chicago\\start_18-00\\duration_02_min\\max_delay_10_min\\vga\\config.yaml-solution.json\n",
      "17:47:25 [INFO] Loading experiment config from C:\\AIC Experiment Data\\DARP\\ITSC_instance_paper\\Results\\Chicago\\start_18-00\\duration_02_min\\max_delay_10_min\\vga\\config.yaml\n",
      "17:47:25 [INFO] Loading instance config from C:\\AIC Experiment Data\\DARP\\ITSC_instance_paper\\Instances\\Chicago\\instances\\start_18-00\\duration_02_min\\max_delay_10_min\\config.yaml\n",
      "17:47:25 [WARNING] No solution found in folder: C:\\AIC Experiment Data\\DARP\\ITSC_instance_paper\\Results\\Chicago\\start_18-00\\duration_05_min\\max_delay_03_min\\halns\n",
      "17:47:25 [WARNING] No solution found in folder: C:\\AIC Experiment Data\\DARP\\ITSC_instance_paper\\Results\\Chicago\\start_18-00\\duration_05_min\\max_delay_03_min\\halns-ih\n",
      "17:47:25 [INFO] Loading json file from: C:\\AIC Experiment Data\\DARP\\ITSC_instance_paper\\Results\\Chicago\\start_18-00\\duration_05_min\\max_delay_03_min\\ih\\config.yaml-performance.json\n",
      "17:47:25 [INFO] Loading json file from: C:\\AIC Experiment Data\\DARP\\ITSC_instance_paper\\Results\\Chicago\\start_18-00\\duration_05_min\\max_delay_03_min\\ih\\config.yaml-solution.json\n",
      "17:47:25 [INFO] Loading experiment config from C:\\AIC Experiment Data\\DARP\\ITSC_instance_paper\\Results\\Chicago\\start_18-00\\duration_05_min\\max_delay_03_min\\ih\\config.yaml\n",
      "17:47:25 [INFO] Loading instance config from C:\\AIC Experiment Data\\DARP\\ITSC_instance_paper\\Instances\\Chicago\\instances\\start_18-00\\duration_05_min\\max_delay_03_min\\config.yaml\n",
      "17:47:25 [INFO] Loading json file from: C:\\AIC Experiment Data\\DARP\\ITSC_instance_paper\\Results\\Chicago\\start_18-00\\duration_05_min\\max_delay_03_min\\vga\\config.yaml-performance.json\n",
      "17:47:25 [INFO] Loading json file from: C:\\AIC Experiment Data\\DARP\\ITSC_instance_paper\\Results\\Chicago\\start_18-00\\duration_05_min\\max_delay_03_min\\vga\\config.yaml-solution.json\n",
      "17:47:25 [INFO] Loading experiment config from C:\\AIC Experiment Data\\DARP\\ITSC_instance_paper\\Results\\Chicago\\start_18-00\\duration_05_min\\max_delay_03_min\\vga\\config.yaml\n",
      "17:47:25 [INFO] Loading instance config from C:\\AIC Experiment Data\\DARP\\ITSC_instance_paper\\Instances\\Chicago\\instances\\start_18-00\\duration_05_min\\max_delay_03_min\\config.yaml\n",
      "17:47:25 [WARNING] No solution found in folder: C:\\AIC Experiment Data\\DARP\\ITSC_instance_paper\\Results\\Chicago\\start_18-00\\duration_05_min\\max_delay_05_min\\halns\n",
      "17:47:25 [WARNING] No solution found in folder: C:\\AIC Experiment Data\\DARP\\ITSC_instance_paper\\Results\\Chicago\\start_18-00\\duration_05_min\\max_delay_05_min\\halns-ih\n",
      "17:47:25 [INFO] Loading json file from: C:\\AIC Experiment Data\\DARP\\ITSC_instance_paper\\Results\\Chicago\\start_18-00\\duration_05_min\\max_delay_05_min\\ih\\config.yaml-performance.json\n",
      "17:47:25 [INFO] Loading json file from: C:\\AIC Experiment Data\\DARP\\ITSC_instance_paper\\Results\\Chicago\\start_18-00\\duration_05_min\\max_delay_05_min\\ih\\config.yaml-solution.json\n",
      "17:47:25 [INFO] Loading experiment config from C:\\AIC Experiment Data\\DARP\\ITSC_instance_paper\\Results\\Chicago\\start_18-00\\duration_05_min\\max_delay_05_min\\ih\\config.yaml\n",
      "17:47:25 [INFO] Loading instance config from C:\\AIC Experiment Data\\DARP\\ITSC_instance_paper\\Instances\\Chicago\\instances\\start_18-00\\duration_05_min\\max_delay_05_min\\config.yaml\n",
      "17:47:25 [INFO] Loading json file from: C:\\AIC Experiment Data\\DARP\\ITSC_instance_paper\\Results\\Chicago\\start_18-00\\duration_05_min\\max_delay_05_min\\vga\\config.yaml-performance.json\n",
      "17:47:25 [INFO] Loading json file from: C:\\AIC Experiment Data\\DARP\\ITSC_instance_paper\\Results\\Chicago\\start_18-00\\duration_05_min\\max_delay_05_min\\vga\\config.yaml-solution.json\n",
      "17:47:25 [INFO] Loading experiment config from C:\\AIC Experiment Data\\DARP\\ITSC_instance_paper\\Results\\Chicago\\start_18-00\\duration_05_min\\max_delay_05_min\\vga\\config.yaml\n",
      "17:47:25 [INFO] Loading instance config from C:\\AIC Experiment Data\\DARP\\ITSC_instance_paper\\Instances\\Chicago\\instances\\start_18-00\\duration_05_min\\max_delay_05_min\\config.yaml\n",
      "17:47:25 [WARNING] No solution found in folder: C:\\AIC Experiment Data\\DARP\\ITSC_instance_paper\\Results\\Chicago\\start_18-00\\duration_05_min\\max_delay_10_min\\halns\n",
      "17:47:25 [WARNING] No solution found in folder: C:\\AIC Experiment Data\\DARP\\ITSC_instance_paper\\Results\\Chicago\\start_18-00\\duration_05_min\\max_delay_10_min\\halns-ih\n",
      "17:47:25 [INFO] Loading json file from: C:\\AIC Experiment Data\\DARP\\ITSC_instance_paper\\Results\\Chicago\\start_18-00\\duration_05_min\\max_delay_10_min\\ih\\config.yaml-performance.json\n",
      "17:47:25 [INFO] Loading json file from: C:\\AIC Experiment Data\\DARP\\ITSC_instance_paper\\Results\\Chicago\\start_18-00\\duration_05_min\\max_delay_10_min\\ih\\config.yaml-solution.json\n",
      "17:47:25 [INFO] Loading experiment config from C:\\AIC Experiment Data\\DARP\\ITSC_instance_paper\\Results\\Chicago\\start_18-00\\duration_05_min\\max_delay_10_min\\ih\\config.yaml\n",
      "17:47:25 [INFO] Loading instance config from C:\\AIC Experiment Data\\DARP\\ITSC_instance_paper\\Instances\\Chicago\\instances\\start_18-00\\duration_05_min\\max_delay_10_min\\config.yaml\n",
      "17:47:25 [WARNING] No solution found in folder: C:\\AIC Experiment Data\\DARP\\ITSC_instance_paper\\Results\\Chicago\\start_18-00\\duration_05_min\\max_delay_10_min\\vga\n",
      "17:47:25 [WARNING] No solution found in folder: C:\\AIC Experiment Data\\DARP\\ITSC_instance_paper\\Results\\Chicago\\start_18-00\\duration_15_min\\max_delay_03_min\\halns\n",
      "17:47:25 [WARNING] No solution found in folder: C:\\AIC Experiment Data\\DARP\\ITSC_instance_paper\\Results\\Chicago\\start_18-00\\duration_15_min\\max_delay_03_min\\halns-ih\n",
      "17:47:25 [INFO] Loading json file from: C:\\AIC Experiment Data\\DARP\\ITSC_instance_paper\\Results\\Chicago\\start_18-00\\duration_15_min\\max_delay_03_min\\ih\\config.yaml-performance.json\n",
      "17:47:25 [INFO] Loading json file from: C:\\AIC Experiment Data\\DARP\\ITSC_instance_paper\\Results\\Chicago\\start_18-00\\duration_15_min\\max_delay_03_min\\ih\\config.yaml-solution.json\n",
      "17:47:25 [INFO] Loading experiment config from C:\\AIC Experiment Data\\DARP\\ITSC_instance_paper\\Results\\Chicago\\start_18-00\\duration_15_min\\max_delay_03_min\\ih\\config.yaml\n",
      "17:47:25 [INFO] Loading instance config from C:\\AIC Experiment Data\\DARP\\ITSC_instance_paper\\Instances\\Chicago\\instances\\start_18-00\\duration_15_min\\max_delay_03_min\\config.yaml\n",
      "17:47:25 [WARNING] No solution found in folder: C:\\AIC Experiment Data\\DARP\\ITSC_instance_paper\\Results\\Chicago\\start_18-00\\duration_15_min\\max_delay_03_min\\vga\n",
      "17:47:25 [WARNING] No solution found in folder: C:\\AIC Experiment Data\\DARP\\ITSC_instance_paper\\Results\\Chicago\\start_18-00\\duration_15_min\\max_delay_05_min\\halns\n",
      "17:47:25 [WARNING] No solution found in folder: C:\\AIC Experiment Data\\DARP\\ITSC_instance_paper\\Results\\Chicago\\start_18-00\\duration_15_min\\max_delay_05_min\\halns-ih\n",
      "17:47:25 [INFO] Loading json file from: C:\\AIC Experiment Data\\DARP\\ITSC_instance_paper\\Results\\Chicago\\start_18-00\\duration_15_min\\max_delay_05_min\\ih\\config.yaml-performance.json\n",
      "17:47:25 [INFO] Loading json file from: C:\\AIC Experiment Data\\DARP\\ITSC_instance_paper\\Results\\Chicago\\start_18-00\\duration_15_min\\max_delay_05_min\\ih\\config.yaml-solution.json\n",
      "17:47:25 [INFO] Loading experiment config from C:\\AIC Experiment Data\\DARP\\ITSC_instance_paper\\Results\\Chicago\\start_18-00\\duration_15_min\\max_delay_05_min\\ih\\config.yaml\n",
      "17:47:25 [INFO] Loading instance config from C:\\AIC Experiment Data\\DARP\\ITSC_instance_paper\\Instances\\Chicago\\instances\\start_18-00\\duration_15_min\\max_delay_05_min\\config.yaml\n",
      "17:47:25 [WARNING] No solution found in folder: C:\\AIC Experiment Data\\DARP\\ITSC_instance_paper\\Results\\Chicago\\start_18-00\\duration_15_min\\max_delay_05_min\\vga\n",
      "17:47:25 [WARNING] No solution found in folder: C:\\AIC Experiment Data\\DARP\\ITSC_instance_paper\\Results\\Chicago\\start_18-00\\duration_15_min\\max_delay_10_min\\halns\n",
      "17:47:25 [WARNING] No solution found in folder: C:\\AIC Experiment Data\\DARP\\ITSC_instance_paper\\Results\\Chicago\\start_18-00\\duration_15_min\\max_delay_10_min\\halns-ih\n",
      "17:47:25 [INFO] Loading json file from: C:\\AIC Experiment Data\\DARP\\ITSC_instance_paper\\Results\\Chicago\\start_18-00\\duration_15_min\\max_delay_10_min\\ih\\config.yaml-performance.json\n",
      "17:47:25 [INFO] Loading json file from: C:\\AIC Experiment Data\\DARP\\ITSC_instance_paper\\Results\\Chicago\\start_18-00\\duration_15_min\\max_delay_10_min\\ih\\config.yaml-solution.json\n",
      "17:47:25 [INFO] Loading experiment config from C:\\AIC Experiment Data\\DARP\\ITSC_instance_paper\\Results\\Chicago\\start_18-00\\duration_15_min\\max_delay_10_min\\ih\\config.yaml\n",
      "17:47:25 [INFO] Loading instance config from C:\\AIC Experiment Data\\DARP\\ITSC_instance_paper\\Instances\\Chicago\\instances\\start_18-00\\duration_15_min\\max_delay_10_min\\config.yaml\n",
      "17:47:25 [WARNING] No solution found in folder: C:\\AIC Experiment Data\\DARP\\ITSC_instance_paper\\Results\\Chicago\\start_18-00\\duration_15_min\\max_delay_10_min\\vga\n",
      "17:47:25 [WARNING] No solution found in folder: C:\\AIC Experiment Data\\DARP\\ITSC_instance_paper\\Results\\Chicago\\start_18-00\\duration_16_h\\max_delay_03_min\\halns\n",
      "17:47:25 [WARNING] No solution found in folder: C:\\AIC Experiment Data\\DARP\\ITSC_instance_paper\\Results\\Chicago\\start_18-00\\duration_16_h\\max_delay_03_min\\halns-ih\n",
      "17:47:25 [INFO] Loading json file from: C:\\AIC Experiment Data\\DARP\\ITSC_instance_paper\\Results\\Chicago\\start_18-00\\duration_16_h\\max_delay_03_min\\ih\\config.yaml-performance.json\n",
      "17:47:25 [INFO] Loading json file from: C:\\AIC Experiment Data\\DARP\\ITSC_instance_paper\\Results\\Chicago\\start_18-00\\duration_16_h\\max_delay_03_min\\ih\\config.yaml-solution.json\n",
      "17:47:26 [INFO] Loading experiment config from C:\\AIC Experiment Data\\DARP\\ITSC_instance_paper\\Results\\Chicago\\start_18-00\\duration_16_h\\max_delay_03_min\\ih\\config.yaml\n",
      "17:47:26 [INFO] Loading instance config from C:\\AIC Experiment Data\\DARP\\ITSC_instance_paper\\Instances\\Chicago\\instances\\start_18-00\\duration_16_h\\max_delay_03_min\\config.yaml\n",
      "17:47:26 [WARNING] No solution found in folder: C:\\AIC Experiment Data\\DARP\\ITSC_instance_paper\\Results\\Chicago\\start_18-00\\duration_16_h\\max_delay_03_min\\vga\n",
      "17:47:26 [WARNING] No solution found in folder: C:\\AIC Experiment Data\\DARP\\ITSC_instance_paper\\Results\\Chicago\\start_18-00\\duration_16_h\\max_delay_05_min\\halns\n",
      "17:47:26 [WARNING] No solution found in folder: C:\\AIC Experiment Data\\DARP\\ITSC_instance_paper\\Results\\Chicago\\start_18-00\\duration_16_h\\max_delay_05_min\\halns-ih\n",
      "17:47:26 [WARNING] No solution found in folder: C:\\AIC Experiment Data\\DARP\\ITSC_instance_paper\\Results\\Chicago\\start_18-00\\duration_16_h\\max_delay_05_min\\ih\n",
      "17:47:26 [WARNING] No solution found in folder: C:\\AIC Experiment Data\\DARP\\ITSC_instance_paper\\Results\\Chicago\\start_18-00\\duration_16_h\\max_delay_05_min\\vga\n",
      "17:47:26 [WARNING] No solution found in folder: C:\\AIC Experiment Data\\DARP\\ITSC_instance_paper\\Results\\Chicago\\start_18-00\\duration_16_h\\max_delay_10_min\\halns\n",
      "17:47:26 [WARNING] No solution found in folder: C:\\AIC Experiment Data\\DARP\\ITSC_instance_paper\\Results\\Chicago\\start_18-00\\duration_16_h\\max_delay_10_min\\halns-ih\n",
      "17:47:26 [WARNING] No solution found in folder: C:\\AIC Experiment Data\\DARP\\ITSC_instance_paper\\Results\\Chicago\\start_18-00\\duration_16_h\\max_delay_10_min\\ih\n",
      "17:47:26 [WARNING] No solution found in folder: C:\\AIC Experiment Data\\DARP\\ITSC_instance_paper\\Results\\Chicago\\start_18-00\\duration_16_h\\max_delay_10_min\\vga\n",
      "17:47:26 [WARNING] No solution found in folder: C:\\AIC Experiment Data\\DARP\\ITSC_instance_paper\\Results\\Chicago\\start_18-00\\duration_30_min\\max_delay_03_min\\halns\n",
      "17:47:26 [WARNING] No solution found in folder: C:\\AIC Experiment Data\\DARP\\ITSC_instance_paper\\Results\\Chicago\\start_18-00\\duration_30_min\\max_delay_03_min\\halns-ih\n",
      "17:47:26 [INFO] Loading json file from: C:\\AIC Experiment Data\\DARP\\ITSC_instance_paper\\Results\\Chicago\\start_18-00\\duration_30_min\\max_delay_03_min\\ih\\config.yaml-performance.json\n",
      "17:47:26 [INFO] Loading json file from: C:\\AIC Experiment Data\\DARP\\ITSC_instance_paper\\Results\\Chicago\\start_18-00\\duration_30_min\\max_delay_03_min\\ih\\config.yaml-solution.json\n",
      "17:47:26 [INFO] Loading experiment config from C:\\AIC Experiment Data\\DARP\\ITSC_instance_paper\\Results\\Chicago\\start_18-00\\duration_30_min\\max_delay_03_min\\ih\\config.yaml\n",
      "17:47:26 [INFO] Loading instance config from C:\\AIC Experiment Data\\DARP\\ITSC_instance_paper\\Instances\\Chicago\\instances\\start_18-00\\duration_30_min\\max_delay_03_min\\config.yaml\n",
      "17:47:26 [WARNING] No solution found in folder: C:\\AIC Experiment Data\\DARP\\ITSC_instance_paper\\Results\\Chicago\\start_18-00\\duration_30_min\\max_delay_03_min\\vga\n",
      "17:47:26 [WARNING] No solution found in folder: C:\\AIC Experiment Data\\DARP\\ITSC_instance_paper\\Results\\Chicago\\start_18-00\\duration_30_min\\max_delay_05_min\\halns\n",
      "17:47:26 [WARNING] No solution found in folder: C:\\AIC Experiment Data\\DARP\\ITSC_instance_paper\\Results\\Chicago\\start_18-00\\duration_30_min\\max_delay_05_min\\halns-ih\n",
      "17:47:26 [INFO] Loading json file from: C:\\AIC Experiment Data\\DARP\\ITSC_instance_paper\\Results\\Chicago\\start_18-00\\duration_30_min\\max_delay_05_min\\ih\\config.yaml-performance.json\n",
      "17:47:26 [INFO] Loading json file from: C:\\AIC Experiment Data\\DARP\\ITSC_instance_paper\\Results\\Chicago\\start_18-00\\duration_30_min\\max_delay_05_min\\ih\\config.yaml-solution.json\n",
      "17:47:26 [INFO] Loading experiment config from C:\\AIC Experiment Data\\DARP\\ITSC_instance_paper\\Results\\Chicago\\start_18-00\\duration_30_min\\max_delay_05_min\\ih\\config.yaml\n",
      "17:47:26 [INFO] Loading instance config from C:\\AIC Experiment Data\\DARP\\ITSC_instance_paper\\Instances\\Chicago\\instances\\start_18-00\\duration_30_min\\max_delay_05_min\\config.yaml\n",
      "17:47:26 [WARNING] No solution found in folder: C:\\AIC Experiment Data\\DARP\\ITSC_instance_paper\\Results\\Chicago\\start_18-00\\duration_30_min\\max_delay_05_min\\vga\n",
      "17:47:26 [WARNING] No solution found in folder: C:\\AIC Experiment Data\\DARP\\ITSC_instance_paper\\Results\\Chicago\\start_18-00\\duration_30_min\\max_delay_10_min\\halns\n",
      "17:47:26 [WARNING] No solution found in folder: C:\\AIC Experiment Data\\DARP\\ITSC_instance_paper\\Results\\Chicago\\start_18-00\\duration_30_min\\max_delay_10_min\\halns-ih\n",
      "17:47:26 [INFO] Loading json file from: C:\\AIC Experiment Data\\DARP\\ITSC_instance_paper\\Results\\Chicago\\start_18-00\\duration_30_min\\max_delay_10_min\\ih\\config.yaml-performance.json\n",
      "17:47:26 [INFO] Loading json file from: C:\\AIC Experiment Data\\DARP\\ITSC_instance_paper\\Results\\Chicago\\start_18-00\\duration_30_min\\max_delay_10_min\\ih\\config.yaml-solution.json\n",
      "17:47:26 [INFO] Loading experiment config from C:\\AIC Experiment Data\\DARP\\ITSC_instance_paper\\Results\\Chicago\\start_18-00\\duration_30_min\\max_delay_10_min\\ih\\config.yaml\n",
      "17:47:26 [INFO] Loading instance config from C:\\AIC Experiment Data\\DARP\\ITSC_instance_paper\\Instances\\Chicago\\instances\\start_18-00\\duration_30_min\\max_delay_10_min\\config.yaml\n",
      "17:47:26 [WARNING] No solution found in folder: C:\\AIC Experiment Data\\DARP\\ITSC_instance_paper\\Results\\Chicago\\start_18-00\\duration_30_min\\max_delay_10_min\\vga\n",
      "17:47:26 [WARNING] No solution found in folder: C:\\AIC Experiment Data\\DARP\\ITSC_instance_paper\\Results\\Chicago\\start_18-00\\duration_30_s\\max_delay_03_min\\halns\n",
      "17:47:26 [WARNING] No solution found in folder: C:\\AIC Experiment Data\\DARP\\ITSC_instance_paper\\Results\\Chicago\\start_18-00\\duration_30_s\\max_delay_03_min\\halns-ih\n",
      "17:47:26 [INFO] Loading json file from: C:\\AIC Experiment Data\\DARP\\ITSC_instance_paper\\Results\\Chicago\\start_18-00\\duration_30_s\\max_delay_03_min\\ih\\config.yaml-performance.json\n",
      "17:47:26 [INFO] Loading json file from: C:\\AIC Experiment Data\\DARP\\ITSC_instance_paper\\Results\\Chicago\\start_18-00\\duration_30_s\\max_delay_03_min\\ih\\config.yaml-solution.json\n",
      "17:47:26 [INFO] Loading experiment config from C:\\AIC Experiment Data\\DARP\\ITSC_instance_paper\\Results\\Chicago\\start_18-00\\duration_30_s\\max_delay_03_min\\ih\\config.yaml\n",
      "17:47:26 [INFO] Loading instance config from C:\\AIC Experiment Data\\DARP\\ITSC_instance_paper\\Instances\\Chicago\\instances\\start_18-00\\duration_30_s\\max_delay_03_min\\config.yaml\n",
      "17:47:26 [INFO] Loading json file from: C:\\AIC Experiment Data\\DARP\\ITSC_instance_paper\\Results\\Chicago\\start_18-00\\duration_30_s\\max_delay_03_min\\vga\\config.yaml-performance.json\n",
      "17:47:26 [INFO] Loading json file from: C:\\AIC Experiment Data\\DARP\\ITSC_instance_paper\\Results\\Chicago\\start_18-00\\duration_30_s\\max_delay_03_min\\vga\\config.yaml-solution.json\n",
      "17:47:26 [INFO] Loading experiment config from C:\\AIC Experiment Data\\DARP\\ITSC_instance_paper\\Results\\Chicago\\start_18-00\\duration_30_s\\max_delay_03_min\\vga\\config.yaml\n",
      "17:47:26 [INFO] Loading instance config from C:\\AIC Experiment Data\\DARP\\ITSC_instance_paper\\Instances\\Chicago\\instances\\start_18-00\\duration_30_s\\max_delay_03_min\\config.yaml\n",
      "17:47:26 [WARNING] No solution found in folder: C:\\AIC Experiment Data\\DARP\\ITSC_instance_paper\\Results\\Chicago\\start_18-00\\duration_30_s\\max_delay_05_min\\halns\n",
      "17:47:26 [WARNING] No solution found in folder: C:\\AIC Experiment Data\\DARP\\ITSC_instance_paper\\Results\\Chicago\\start_18-00\\duration_30_s\\max_delay_05_min\\halns-ih\n",
      "17:47:26 [INFO] Loading json file from: C:\\AIC Experiment Data\\DARP\\ITSC_instance_paper\\Results\\Chicago\\start_18-00\\duration_30_s\\max_delay_05_min\\ih\\config.yaml-performance.json\n",
      "17:47:26 [INFO] Loading json file from: C:\\AIC Experiment Data\\DARP\\ITSC_instance_paper\\Results\\Chicago\\start_18-00\\duration_30_s\\max_delay_05_min\\ih\\config.yaml-solution.json\n",
      "17:47:26 [INFO] Loading experiment config from C:\\AIC Experiment Data\\DARP\\ITSC_instance_paper\\Results\\Chicago\\start_18-00\\duration_30_s\\max_delay_05_min\\ih\\config.yaml\n",
      "17:47:26 [INFO] Loading instance config from C:\\AIC Experiment Data\\DARP\\ITSC_instance_paper\\Instances\\Chicago\\instances\\start_18-00\\duration_30_s\\max_delay_05_min\\config.yaml\n",
      "17:47:26 [INFO] Loading json file from: C:\\AIC Experiment Data\\DARP\\ITSC_instance_paper\\Results\\Chicago\\start_18-00\\duration_30_s\\max_delay_05_min\\vga\\config.yaml-performance.json\n",
      "17:47:26 [INFO] Loading json file from: C:\\AIC Experiment Data\\DARP\\ITSC_instance_paper\\Results\\Chicago\\start_18-00\\duration_30_s\\max_delay_05_min\\vga\\config.yaml-solution.json\n",
      "17:47:26 [INFO] Loading experiment config from C:\\AIC Experiment Data\\DARP\\ITSC_instance_paper\\Results\\Chicago\\start_18-00\\duration_30_s\\max_delay_05_min\\vga\\config.yaml\n",
      "17:47:26 [INFO] Loading instance config from C:\\AIC Experiment Data\\DARP\\ITSC_instance_paper\\Instances\\Chicago\\instances\\start_18-00\\duration_30_s\\max_delay_05_min\\config.yaml\n",
      "17:47:26 [WARNING] No solution found in folder: C:\\AIC Experiment Data\\DARP\\ITSC_instance_paper\\Results\\Chicago\\start_18-00\\duration_30_s\\max_delay_10_min\\halns\n",
      "17:47:26 [WARNING] No solution found in folder: C:\\AIC Experiment Data\\DARP\\ITSC_instance_paper\\Results\\Chicago\\start_18-00\\duration_30_s\\max_delay_10_min\\halns-ih\n",
      "17:47:26 [INFO] Loading json file from: C:\\AIC Experiment Data\\DARP\\ITSC_instance_paper\\Results\\Chicago\\start_18-00\\duration_30_s\\max_delay_10_min\\ih\\config.yaml-performance.json\n",
      "17:47:26 [INFO] Loading json file from: C:\\AIC Experiment Data\\DARP\\ITSC_instance_paper\\Results\\Chicago\\start_18-00\\duration_30_s\\max_delay_10_min\\ih\\config.yaml-solution.json\n",
      "17:47:27 [INFO] Loading experiment config from C:\\AIC Experiment Data\\DARP\\ITSC_instance_paper\\Results\\Chicago\\start_18-00\\duration_30_s\\max_delay_10_min\\ih\\config.yaml\n",
      "17:47:27 [INFO] Loading instance config from C:\\AIC Experiment Data\\DARP\\ITSC_instance_paper\\Instances\\Chicago\\instances\\start_18-00\\duration_30_s\\max_delay_10_min\\config.yaml\n",
      "17:47:27 [INFO] Loading json file from: C:\\AIC Experiment Data\\DARP\\ITSC_instance_paper\\Results\\Chicago\\start_18-00\\duration_30_s\\max_delay_10_min\\vga\\config.yaml-performance.json\n",
      "17:47:27 [INFO] Loading json file from: C:\\AIC Experiment Data\\DARP\\ITSC_instance_paper\\Results\\Chicago\\start_18-00\\duration_30_s\\max_delay_10_min\\vga\\config.yaml-solution.json\n",
      "17:47:27 [INFO] Loading experiment config from C:\\AIC Experiment Data\\DARP\\ITSC_instance_paper\\Results\\Chicago\\start_18-00\\duration_30_s\\max_delay_10_min\\vga\\config.yaml\n",
      "17:47:27 [INFO] Loading instance config from C:\\AIC Experiment Data\\DARP\\ITSC_instance_paper\\Instances\\Chicago\\instances\\start_18-00\\duration_30_s\\max_delay_10_min\\config.yaml\n",
      "17:47:27 [INFO] Loading occupancy stats in C:\\AIC Experiment Data\\DARP\\ITSC_instance_paper\\Results\\DC\n",
      "17:47:27 [WARNING] No solution found in folder: C:\\AIC Experiment Data\\DARP\\ITSC_instance_paper\\Results\\DC\\start_18-00\\duration_01_min\\max_delay_03_min\\halns\n",
      "17:47:27 [WARNING] No solution found in folder: C:\\AIC Experiment Data\\DARP\\ITSC_instance_paper\\Results\\DC\\start_18-00\\duration_01_min\\max_delay_03_min\\halns-ih\n",
      "17:47:27 [INFO] Loading json file from: C:\\AIC Experiment Data\\DARP\\ITSC_instance_paper\\Results\\DC\\start_18-00\\duration_01_min\\max_delay_03_min\\ih\\config.yaml-performance.json\n",
      "17:47:27 [INFO] Loading json file from: C:\\AIC Experiment Data\\DARP\\ITSC_instance_paper\\Results\\DC\\start_18-00\\duration_01_min\\max_delay_03_min\\ih\\config.yaml-solution.json\n",
      "17:47:27 [INFO] Loading experiment config from C:\\AIC Experiment Data\\DARP\\ITSC_instance_paper\\Results\\DC\\start_18-00\\duration_01_min\\max_delay_03_min\\ih\\config.yaml\n",
      "17:47:27 [INFO] Loading instance config from C:\\AIC Experiment Data\\DARP\\ITSC_instance_paper\\Instances\\DC\\instances\\start_18-00\\duration_01_min\\max_delay_03_min\\config.yaml\n",
      "17:47:27 [INFO] Loading json file from: C:\\AIC Experiment Data\\DARP\\ITSC_instance_paper\\Results\\DC\\start_18-00\\duration_01_min\\max_delay_03_min\\vga\\config.yaml-performance.json\n",
      "17:47:27 [INFO] Loading json file from: C:\\AIC Experiment Data\\DARP\\ITSC_instance_paper\\Results\\DC\\start_18-00\\duration_01_min\\max_delay_03_min\\vga\\config.yaml-solution.json\n",
      "17:47:27 [INFO] Loading experiment config from C:\\AIC Experiment Data\\DARP\\ITSC_instance_paper\\Results\\DC\\start_18-00\\duration_01_min\\max_delay_03_min\\vga\\config.yaml\n",
      "17:47:27 [INFO] Loading instance config from C:\\AIC Experiment Data\\DARP\\ITSC_instance_paper\\Instances\\DC\\instances\\start_18-00\\duration_01_min\\max_delay_03_min\\config.yaml\n",
      "17:47:27 [WARNING] No solution found in folder: C:\\AIC Experiment Data\\DARP\\ITSC_instance_paper\\Results\\DC\\start_18-00\\duration_01_min\\max_delay_05_min\\halns\n",
      "17:47:27 [WARNING] No solution found in folder: C:\\AIC Experiment Data\\DARP\\ITSC_instance_paper\\Results\\DC\\start_18-00\\duration_01_min\\max_delay_05_min\\halns-ih\n",
      "17:47:27 [INFO] Loading json file from: C:\\AIC Experiment Data\\DARP\\ITSC_instance_paper\\Results\\DC\\start_18-00\\duration_01_min\\max_delay_05_min\\ih\\config.yaml-performance.json\n",
      "17:47:27 [INFO] Loading json file from: C:\\AIC Experiment Data\\DARP\\ITSC_instance_paper\\Results\\DC\\start_18-00\\duration_01_min\\max_delay_05_min\\ih\\config.yaml-solution.json\n",
      "17:47:27 [INFO] Loading experiment config from C:\\AIC Experiment Data\\DARP\\ITSC_instance_paper\\Results\\DC\\start_18-00\\duration_01_min\\max_delay_05_min\\ih\\config.yaml\n",
      "17:47:27 [INFO] Loading instance config from C:\\AIC Experiment Data\\DARP\\ITSC_instance_paper\\Instances\\DC\\instances\\start_18-00\\duration_01_min\\max_delay_05_min\\config.yaml\n",
      "17:47:27 [INFO] Loading json file from: C:\\AIC Experiment Data\\DARP\\ITSC_instance_paper\\Results\\DC\\start_18-00\\duration_01_min\\max_delay_05_min\\vga\\config.yaml-performance.json\n",
      "17:47:27 [INFO] Loading json file from: C:\\AIC Experiment Data\\DARP\\ITSC_instance_paper\\Results\\DC\\start_18-00\\duration_01_min\\max_delay_05_min\\vga\\config.yaml-solution.json\n",
      "17:47:27 [INFO] Loading experiment config from C:\\AIC Experiment Data\\DARP\\ITSC_instance_paper\\Results\\DC\\start_18-00\\duration_01_min\\max_delay_05_min\\vga\\config.yaml\n",
      "17:47:27 [INFO] Loading instance config from C:\\AIC Experiment Data\\DARP\\ITSC_instance_paper\\Instances\\DC\\instances\\start_18-00\\duration_01_min\\max_delay_05_min\\config.yaml\n",
      "17:47:27 [WARNING] No solution found in folder: C:\\AIC Experiment Data\\DARP\\ITSC_instance_paper\\Results\\DC\\start_18-00\\duration_01_min\\max_delay_10_min\\halns\n",
      "17:47:27 [WARNING] No solution found in folder: C:\\AIC Experiment Data\\DARP\\ITSC_instance_paper\\Results\\DC\\start_18-00\\duration_01_min\\max_delay_10_min\\halns-ih\n",
      "17:47:27 [INFO] Loading json file from: C:\\AIC Experiment Data\\DARP\\ITSC_instance_paper\\Results\\DC\\start_18-00\\duration_01_min\\max_delay_10_min\\ih\\config.yaml-performance.json\n",
      "17:47:27 [INFO] Loading json file from: C:\\AIC Experiment Data\\DARP\\ITSC_instance_paper\\Results\\DC\\start_18-00\\duration_01_min\\max_delay_10_min\\ih\\config.yaml-solution.json\n",
      "17:47:27 [INFO] Loading experiment config from C:\\AIC Experiment Data\\DARP\\ITSC_instance_paper\\Results\\DC\\start_18-00\\duration_01_min\\max_delay_10_min\\ih\\config.yaml\n",
      "17:47:27 [INFO] Loading instance config from C:\\AIC Experiment Data\\DARP\\ITSC_instance_paper\\Instances\\DC\\instances\\start_18-00\\duration_01_min\\max_delay_10_min\\config.yaml\n",
      "17:47:27 [INFO] Loading json file from: C:\\AIC Experiment Data\\DARP\\ITSC_instance_paper\\Results\\DC\\start_18-00\\duration_01_min\\max_delay_10_min\\vga\\config.yaml-performance.json\n",
      "17:47:27 [INFO] Loading json file from: C:\\AIC Experiment Data\\DARP\\ITSC_instance_paper\\Results\\DC\\start_18-00\\duration_01_min\\max_delay_10_min\\vga\\config.yaml-solution.json\n",
      "17:47:27 [INFO] Loading experiment config from C:\\AIC Experiment Data\\DARP\\ITSC_instance_paper\\Results\\DC\\start_18-00\\duration_01_min\\max_delay_10_min\\vga\\config.yaml\n",
      "17:47:27 [INFO] Loading instance config from C:\\AIC Experiment Data\\DARP\\ITSC_instance_paper\\Instances\\DC\\instances\\start_18-00\\duration_01_min\\max_delay_10_min\\config.yaml\n",
      "17:47:27 [WARNING] No solution found in folder: C:\\AIC Experiment Data\\DARP\\ITSC_instance_paper\\Results\\DC\\start_18-00\\duration_02_h\\max_delay_03_min\\halns\n",
      "17:47:27 [WARNING] No solution found in folder: C:\\AIC Experiment Data\\DARP\\ITSC_instance_paper\\Results\\DC\\start_18-00\\duration_02_h\\max_delay_03_min\\halns-ih\n",
      "17:47:27 [INFO] Loading json file from: C:\\AIC Experiment Data\\DARP\\ITSC_instance_paper\\Results\\DC\\start_18-00\\duration_02_h\\max_delay_03_min\\ih\\config.yaml-performance.json\n",
      "17:47:27 [INFO] Loading json file from: C:\\AIC Experiment Data\\DARP\\ITSC_instance_paper\\Results\\DC\\start_18-00\\duration_02_h\\max_delay_03_min\\ih\\config.yaml-solution.json\n",
      "17:47:27 [INFO] Loading experiment config from C:\\AIC Experiment Data\\DARP\\ITSC_instance_paper\\Results\\DC\\start_18-00\\duration_02_h\\max_delay_03_min\\ih\\config.yaml\n",
      "17:47:27 [INFO] Loading instance config from C:\\AIC Experiment Data\\DARP\\ITSC_instance_paper\\Instances\\DC\\instances\\start_18-00\\duration_02_h\\max_delay_03_min\\config.yaml\n",
      "17:47:27 [WARNING] No solution found in folder: C:\\AIC Experiment Data\\DARP\\ITSC_instance_paper\\Results\\DC\\start_18-00\\duration_02_h\\max_delay_03_min\\vga\n",
      "17:47:27 [WARNING] No solution found in folder: C:\\AIC Experiment Data\\DARP\\ITSC_instance_paper\\Results\\DC\\start_18-00\\duration_02_h\\max_delay_05_min\\halns\n",
      "17:47:27 [WARNING] No solution found in folder: C:\\AIC Experiment Data\\DARP\\ITSC_instance_paper\\Results\\DC\\start_18-00\\duration_02_h\\max_delay_05_min\\halns-ih\n",
      "17:47:27 [WARNING] No solution found in folder: C:\\AIC Experiment Data\\DARP\\ITSC_instance_paper\\Results\\DC\\start_18-00\\duration_02_h\\max_delay_05_min\\ih\n",
      "17:47:27 [WARNING] No solution found in folder: C:\\AIC Experiment Data\\DARP\\ITSC_instance_paper\\Results\\DC\\start_18-00\\duration_02_h\\max_delay_05_min\\vga\n",
      "17:47:27 [WARNING] No solution found in folder: C:\\AIC Experiment Data\\DARP\\ITSC_instance_paper\\Results\\DC\\start_18-00\\duration_02_h\\max_delay_10_min\\halns\n",
      "17:47:27 [WARNING] No solution found in folder: C:\\AIC Experiment Data\\DARP\\ITSC_instance_paper\\Results\\DC\\start_18-00\\duration_02_h\\max_delay_10_min\\halns-ih\n",
      "17:47:27 [WARNING] No solution found in folder: C:\\AIC Experiment Data\\DARP\\ITSC_instance_paper\\Results\\DC\\start_18-00\\duration_02_h\\max_delay_10_min\\ih\n",
      "17:47:27 [WARNING] No solution found in folder: C:\\AIC Experiment Data\\DARP\\ITSC_instance_paper\\Results\\DC\\start_18-00\\duration_02_h\\max_delay_10_min\\vga\n",
      "17:47:27 [WARNING] No solution found in folder: C:\\AIC Experiment Data\\DARP\\ITSC_instance_paper\\Results\\DC\\start_18-00\\duration_02_min\\max_delay_03_min\\halns\n",
      "17:47:27 [WARNING] No solution found in folder: C:\\AIC Experiment Data\\DARP\\ITSC_instance_paper\\Results\\DC\\start_18-00\\duration_02_min\\max_delay_03_min\\halns-ih\n",
      "17:47:27 [INFO] Loading json file from: C:\\AIC Experiment Data\\DARP\\ITSC_instance_paper\\Results\\DC\\start_18-00\\duration_02_min\\max_delay_03_min\\ih\\config.yaml-performance.json\n",
      "17:47:27 [INFO] Loading json file from: C:\\AIC Experiment Data\\DARP\\ITSC_instance_paper\\Results\\DC\\start_18-00\\duration_02_min\\max_delay_03_min\\ih\\config.yaml-solution.json\n",
      "17:47:27 [INFO] Loading experiment config from C:\\AIC Experiment Data\\DARP\\ITSC_instance_paper\\Results\\DC\\start_18-00\\duration_02_min\\max_delay_03_min\\ih\\config.yaml\n",
      "17:47:27 [INFO] Loading instance config from C:\\AIC Experiment Data\\DARP\\ITSC_instance_paper\\Instances\\DC\\instances\\start_18-00\\duration_02_min\\max_delay_03_min\\config.yaml\n",
      "17:47:28 [INFO] Loading json file from: C:\\AIC Experiment Data\\DARP\\ITSC_instance_paper\\Results\\DC\\start_18-00\\duration_02_min\\max_delay_03_min\\vga\\config.yaml-performance.json\n",
      "17:47:28 [INFO] Loading json file from: C:\\AIC Experiment Data\\DARP\\ITSC_instance_paper\\Results\\DC\\start_18-00\\duration_02_min\\max_delay_03_min\\vga\\config.yaml-solution.json\n",
      "17:47:28 [INFO] Loading experiment config from C:\\AIC Experiment Data\\DARP\\ITSC_instance_paper\\Results\\DC\\start_18-00\\duration_02_min\\max_delay_03_min\\vga\\config.yaml\n",
      "17:47:28 [INFO] Loading instance config from C:\\AIC Experiment Data\\DARP\\ITSC_instance_paper\\Instances\\DC\\instances\\start_18-00\\duration_02_min\\max_delay_03_min\\config.yaml\n",
      "17:47:28 [WARNING] No solution found in folder: C:\\AIC Experiment Data\\DARP\\ITSC_instance_paper\\Results\\DC\\start_18-00\\duration_02_min\\max_delay_05_min\\halns\n",
      "17:47:28 [WARNING] No solution found in folder: C:\\AIC Experiment Data\\DARP\\ITSC_instance_paper\\Results\\DC\\start_18-00\\duration_02_min\\max_delay_05_min\\halns-ih\n",
      "17:47:28 [INFO] Loading json file from: C:\\AIC Experiment Data\\DARP\\ITSC_instance_paper\\Results\\DC\\start_18-00\\duration_02_min\\max_delay_05_min\\ih\\config.yaml-performance.json\n",
      "17:47:28 [INFO] Loading json file from: C:\\AIC Experiment Data\\DARP\\ITSC_instance_paper\\Results\\DC\\start_18-00\\duration_02_min\\max_delay_05_min\\ih\\config.yaml-solution.json\n",
      "17:47:28 [INFO] Loading experiment config from C:\\AIC Experiment Data\\DARP\\ITSC_instance_paper\\Results\\DC\\start_18-00\\duration_02_min\\max_delay_05_min\\ih\\config.yaml\n",
      "17:47:28 [INFO] Loading instance config from C:\\AIC Experiment Data\\DARP\\ITSC_instance_paper\\Instances\\DC\\instances\\start_18-00\\duration_02_min\\max_delay_05_min\\config.yaml\n",
      "17:47:28 [INFO] Loading json file from: C:\\AIC Experiment Data\\DARP\\ITSC_instance_paper\\Results\\DC\\start_18-00\\duration_02_min\\max_delay_05_min\\vga\\config.yaml-performance.json\n",
      "17:47:28 [INFO] Loading json file from: C:\\AIC Experiment Data\\DARP\\ITSC_instance_paper\\Results\\DC\\start_18-00\\duration_02_min\\max_delay_05_min\\vga\\config.yaml-solution.json\n",
      "17:47:28 [INFO] Loading experiment config from C:\\AIC Experiment Data\\DARP\\ITSC_instance_paper\\Results\\DC\\start_18-00\\duration_02_min\\max_delay_05_min\\vga\\config.yaml\n",
      "17:47:28 [INFO] Loading instance config from C:\\AIC Experiment Data\\DARP\\ITSC_instance_paper\\Instances\\DC\\instances\\start_18-00\\duration_02_min\\max_delay_05_min\\config.yaml\n",
      "17:47:28 [WARNING] No solution found in folder: C:\\AIC Experiment Data\\DARP\\ITSC_instance_paper\\Results\\DC\\start_18-00\\duration_02_min\\max_delay_10_min\\halns\n",
      "17:47:28 [WARNING] No solution found in folder: C:\\AIC Experiment Data\\DARP\\ITSC_instance_paper\\Results\\DC\\start_18-00\\duration_02_min\\max_delay_10_min\\halns-ih\n",
      "17:47:28 [INFO] Loading json file from: C:\\AIC Experiment Data\\DARP\\ITSC_instance_paper\\Results\\DC\\start_18-00\\duration_02_min\\max_delay_10_min\\ih\\config.yaml-performance.json\n",
      "17:47:28 [INFO] Loading json file from: C:\\AIC Experiment Data\\DARP\\ITSC_instance_paper\\Results\\DC\\start_18-00\\duration_02_min\\max_delay_10_min\\ih\\config.yaml-solution.json\n",
      "17:47:28 [INFO] Loading experiment config from C:\\AIC Experiment Data\\DARP\\ITSC_instance_paper\\Results\\DC\\start_18-00\\duration_02_min\\max_delay_10_min\\ih\\config.yaml\n",
      "17:47:28 [INFO] Loading instance config from C:\\AIC Experiment Data\\DARP\\ITSC_instance_paper\\Instances\\DC\\instances\\start_18-00\\duration_02_min\\max_delay_10_min\\config.yaml\n",
      "17:47:28 [INFO] Loading json file from: C:\\AIC Experiment Data\\DARP\\ITSC_instance_paper\\Results\\DC\\start_18-00\\duration_02_min\\max_delay_10_min\\vga\\config.yaml-performance.json\n",
      "17:47:28 [INFO] Loading json file from: C:\\AIC Experiment Data\\DARP\\ITSC_instance_paper\\Results\\DC\\start_18-00\\duration_02_min\\max_delay_10_min\\vga\\config.yaml-solution.json\n",
      "17:47:28 [INFO] Loading experiment config from C:\\AIC Experiment Data\\DARP\\ITSC_instance_paper\\Results\\DC\\start_18-00\\duration_02_min\\max_delay_10_min\\vga\\config.yaml\n",
      "17:47:28 [INFO] Loading instance config from C:\\AIC Experiment Data\\DARP\\ITSC_instance_paper\\Instances\\DC\\instances\\start_18-00\\duration_02_min\\max_delay_10_min\\config.yaml\n",
      "17:47:28 [WARNING] No solution found in folder: C:\\AIC Experiment Data\\DARP\\ITSC_instance_paper\\Results\\DC\\start_18-00\\duration_05_min\\max_delay_03_min\\halns\n",
      "17:47:28 [WARNING] No solution found in folder: C:\\AIC Experiment Data\\DARP\\ITSC_instance_paper\\Results\\DC\\start_18-00\\duration_05_min\\max_delay_03_min\\halns-ih\n",
      "17:47:28 [INFO] Loading json file from: C:\\AIC Experiment Data\\DARP\\ITSC_instance_paper\\Results\\DC\\start_18-00\\duration_05_min\\max_delay_03_min\\ih\\config.yaml-performance.json\n",
      "17:47:28 [INFO] Loading json file from: C:\\AIC Experiment Data\\DARP\\ITSC_instance_paper\\Results\\DC\\start_18-00\\duration_05_min\\max_delay_03_min\\ih\\config.yaml-solution.json\n",
      "17:47:28 [INFO] Loading experiment config from C:\\AIC Experiment Data\\DARP\\ITSC_instance_paper\\Results\\DC\\start_18-00\\duration_05_min\\max_delay_03_min\\ih\\config.yaml\n",
      "17:47:28 [INFO] Loading instance config from C:\\AIC Experiment Data\\DARP\\ITSC_instance_paper\\Instances\\DC\\instances\\start_18-00\\duration_05_min\\max_delay_03_min\\config.yaml\n",
      "17:47:28 [INFO] Loading json file from: C:\\AIC Experiment Data\\DARP\\ITSC_instance_paper\\Results\\DC\\start_18-00\\duration_05_min\\max_delay_03_min\\vga\\config.yaml-performance.json\n",
      "17:47:28 [INFO] Loading json file from: C:\\AIC Experiment Data\\DARP\\ITSC_instance_paper\\Results\\DC\\start_18-00\\duration_05_min\\max_delay_03_min\\vga\\config.yaml-solution.json\n",
      "17:47:28 [INFO] Loading experiment config from C:\\AIC Experiment Data\\DARP\\ITSC_instance_paper\\Results\\DC\\start_18-00\\duration_05_min\\max_delay_03_min\\vga\\config.yaml\n",
      "17:47:28 [INFO] Loading instance config from C:\\AIC Experiment Data\\DARP\\ITSC_instance_paper\\Instances\\DC\\instances\\start_18-00\\duration_05_min\\max_delay_03_min\\config.yaml\n",
      "17:47:28 [WARNING] No solution found in folder: C:\\AIC Experiment Data\\DARP\\ITSC_instance_paper\\Results\\DC\\start_18-00\\duration_05_min\\max_delay_05_min\\halns\n",
      "17:47:28 [WARNING] No solution found in folder: C:\\AIC Experiment Data\\DARP\\ITSC_instance_paper\\Results\\DC\\start_18-00\\duration_05_min\\max_delay_05_min\\halns-ih\n",
      "17:47:28 [INFO] Loading json file from: C:\\AIC Experiment Data\\DARP\\ITSC_instance_paper\\Results\\DC\\start_18-00\\duration_05_min\\max_delay_05_min\\ih\\config.yaml-performance.json\n",
      "17:47:28 [INFO] Loading json file from: C:\\AIC Experiment Data\\DARP\\ITSC_instance_paper\\Results\\DC\\start_18-00\\duration_05_min\\max_delay_05_min\\ih\\config.yaml-solution.json\n",
      "17:47:28 [INFO] Loading experiment config from C:\\AIC Experiment Data\\DARP\\ITSC_instance_paper\\Results\\DC\\start_18-00\\duration_05_min\\max_delay_05_min\\ih\\config.yaml\n",
      "17:47:28 [INFO] Loading instance config from C:\\AIC Experiment Data\\DARP\\ITSC_instance_paper\\Instances\\DC\\instances\\start_18-00\\duration_05_min\\max_delay_05_min\\config.yaml\n",
      "17:47:28 [INFO] Loading json file from: C:\\AIC Experiment Data\\DARP\\ITSC_instance_paper\\Results\\DC\\start_18-00\\duration_05_min\\max_delay_05_min\\vga\\config.yaml-performance.json\n",
      "17:47:28 [INFO] Loading json file from: C:\\AIC Experiment Data\\DARP\\ITSC_instance_paper\\Results\\DC\\start_18-00\\duration_05_min\\max_delay_05_min\\vga\\config.yaml-solution.json\n",
      "17:47:28 [INFO] Loading experiment config from C:\\AIC Experiment Data\\DARP\\ITSC_instance_paper\\Results\\DC\\start_18-00\\duration_05_min\\max_delay_05_min\\vga\\config.yaml\n",
      "17:47:28 [INFO] Loading instance config from C:\\AIC Experiment Data\\DARP\\ITSC_instance_paper\\Instances\\DC\\instances\\start_18-00\\duration_05_min\\max_delay_05_min\\config.yaml\n",
      "17:47:28 [WARNING] No solution found in folder: C:\\AIC Experiment Data\\DARP\\ITSC_instance_paper\\Results\\DC\\start_18-00\\duration_05_min\\max_delay_10_min\\halns\n",
      "17:47:28 [WARNING] No solution found in folder: C:\\AIC Experiment Data\\DARP\\ITSC_instance_paper\\Results\\DC\\start_18-00\\duration_05_min\\max_delay_10_min\\halns-ih\n",
      "17:47:28 [INFO] Loading json file from: C:\\AIC Experiment Data\\DARP\\ITSC_instance_paper\\Results\\DC\\start_18-00\\duration_05_min\\max_delay_10_min\\ih\\config.yaml-performance.json\n",
      "17:47:28 [INFO] Loading json file from: C:\\AIC Experiment Data\\DARP\\ITSC_instance_paper\\Results\\DC\\start_18-00\\duration_05_min\\max_delay_10_min\\ih\\config.yaml-solution.json\n",
      "17:47:28 [INFO] Loading experiment config from C:\\AIC Experiment Data\\DARP\\ITSC_instance_paper\\Results\\DC\\start_18-00\\duration_05_min\\max_delay_10_min\\ih\\config.yaml\n",
      "17:47:28 [INFO] Loading instance config from C:\\AIC Experiment Data\\DARP\\ITSC_instance_paper\\Instances\\DC\\instances\\start_18-00\\duration_05_min\\max_delay_10_min\\config.yaml\n",
      "17:47:28 [INFO] Loading json file from: C:\\AIC Experiment Data\\DARP\\ITSC_instance_paper\\Results\\DC\\start_18-00\\duration_05_min\\max_delay_10_min\\vga\\config.yaml-performance.json\n",
      "17:47:28 [INFO] Loading json file from: C:\\AIC Experiment Data\\DARP\\ITSC_instance_paper\\Results\\DC\\start_18-00\\duration_05_min\\max_delay_10_min\\vga\\config.yaml-solution.json\n",
      "17:47:29 [INFO] Loading experiment config from C:\\AIC Experiment Data\\DARP\\ITSC_instance_paper\\Results\\DC\\start_18-00\\duration_05_min\\max_delay_10_min\\vga\\config.yaml\n",
      "17:47:29 [INFO] Loading instance config from C:\\AIC Experiment Data\\DARP\\ITSC_instance_paper\\Instances\\DC\\instances\\start_18-00\\duration_05_min\\max_delay_10_min\\config.yaml\n",
      "17:47:29 [WARNING] No solution found in folder: C:\\AIC Experiment Data\\DARP\\ITSC_instance_paper\\Results\\DC\\start_18-00\\duration_15_min\\max_delay_03_min\\halns\n",
      "17:47:29 [WARNING] No solution found in folder: C:\\AIC Experiment Data\\DARP\\ITSC_instance_paper\\Results\\DC\\start_18-00\\duration_15_min\\max_delay_03_min\\halns-ih\n",
      "17:47:29 [INFO] Loading json file from: C:\\AIC Experiment Data\\DARP\\ITSC_instance_paper\\Results\\DC\\start_18-00\\duration_15_min\\max_delay_03_min\\ih\\config.yaml-performance.json\n",
      "17:47:29 [INFO] Loading json file from: C:\\AIC Experiment Data\\DARP\\ITSC_instance_paper\\Results\\DC\\start_18-00\\duration_15_min\\max_delay_03_min\\ih\\config.yaml-solution.json\n",
      "17:47:29 [INFO] Loading experiment config from C:\\AIC Experiment Data\\DARP\\ITSC_instance_paper\\Results\\DC\\start_18-00\\duration_15_min\\max_delay_03_min\\ih\\config.yaml\n",
      "17:47:29 [INFO] Loading instance config from C:\\AIC Experiment Data\\DARP\\ITSC_instance_paper\\Instances\\DC\\instances\\start_18-00\\duration_15_min\\max_delay_03_min\\config.yaml\n",
      "17:47:29 [INFO] Loading json file from: C:\\AIC Experiment Data\\DARP\\ITSC_instance_paper\\Results\\DC\\start_18-00\\duration_15_min\\max_delay_03_min\\vga\\config.yaml-performance.json\n",
      "17:47:29 [INFO] Loading json file from: C:\\AIC Experiment Data\\DARP\\ITSC_instance_paper\\Results\\DC\\start_18-00\\duration_15_min\\max_delay_03_min\\vga\\config.yaml-solution.json\n",
      "17:47:29 [INFO] Loading experiment config from C:\\AIC Experiment Data\\DARP\\ITSC_instance_paper\\Results\\DC\\start_18-00\\duration_15_min\\max_delay_03_min\\vga\\config.yaml\n",
      "17:47:29 [INFO] Loading instance config from C:\\AIC Experiment Data\\DARP\\ITSC_instance_paper\\Instances\\DC\\instances\\start_18-00\\duration_15_min\\max_delay_03_min\\config.yaml\n",
      "17:47:29 [WARNING] No solution found in folder: C:\\AIC Experiment Data\\DARP\\ITSC_instance_paper\\Results\\DC\\start_18-00\\duration_15_min\\max_delay_05_min\\halns\n",
      "17:47:29 [WARNING] No solution found in folder: C:\\AIC Experiment Data\\DARP\\ITSC_instance_paper\\Results\\DC\\start_18-00\\duration_15_min\\max_delay_05_min\\halns-ih\n",
      "17:47:29 [INFO] Loading json file from: C:\\AIC Experiment Data\\DARP\\ITSC_instance_paper\\Results\\DC\\start_18-00\\duration_15_min\\max_delay_05_min\\ih\\config.yaml-performance.json\n",
      "17:47:29 [INFO] Loading json file from: C:\\AIC Experiment Data\\DARP\\ITSC_instance_paper\\Results\\DC\\start_18-00\\duration_15_min\\max_delay_05_min\\ih\\config.yaml-solution.json\n",
      "17:47:29 [INFO] Loading experiment config from C:\\AIC Experiment Data\\DARP\\ITSC_instance_paper\\Results\\DC\\start_18-00\\duration_15_min\\max_delay_05_min\\ih\\config.yaml\n",
      "17:47:29 [INFO] Loading instance config from C:\\AIC Experiment Data\\DARP\\ITSC_instance_paper\\Instances\\DC\\instances\\start_18-00\\duration_15_min\\max_delay_05_min\\config.yaml\n",
      "17:47:29 [INFO] Loading json file from: C:\\AIC Experiment Data\\DARP\\ITSC_instance_paper\\Results\\DC\\start_18-00\\duration_15_min\\max_delay_05_min\\vga\\config.yaml-performance.json\n",
      "17:47:29 [INFO] Loading json file from: C:\\AIC Experiment Data\\DARP\\ITSC_instance_paper\\Results\\DC\\start_18-00\\duration_15_min\\max_delay_05_min\\vga\\config.yaml-solution.json\n",
      "17:47:29 [INFO] Loading experiment config from C:\\AIC Experiment Data\\DARP\\ITSC_instance_paper\\Results\\DC\\start_18-00\\duration_15_min\\max_delay_05_min\\vga\\config.yaml\n",
      "17:47:29 [INFO] Loading instance config from C:\\AIC Experiment Data\\DARP\\ITSC_instance_paper\\Instances\\DC\\instances\\start_18-00\\duration_15_min\\max_delay_05_min\\config.yaml\n",
      "17:47:29 [WARNING] No solution found in folder: C:\\AIC Experiment Data\\DARP\\ITSC_instance_paper\\Results\\DC\\start_18-00\\duration_15_min\\max_delay_10_min\\halns\n",
      "17:47:29 [WARNING] No solution found in folder: C:\\AIC Experiment Data\\DARP\\ITSC_instance_paper\\Results\\DC\\start_18-00\\duration_15_min\\max_delay_10_min\\halns-ih\n",
      "17:47:29 [INFO] Loading json file from: C:\\AIC Experiment Data\\DARP\\ITSC_instance_paper\\Results\\DC\\start_18-00\\duration_15_min\\max_delay_10_min\\ih\\config.yaml-performance.json\n",
      "17:47:29 [INFO] Loading json file from: C:\\AIC Experiment Data\\DARP\\ITSC_instance_paper\\Results\\DC\\start_18-00\\duration_15_min\\max_delay_10_min\\ih\\config.yaml-solution.json\n",
      "17:47:29 [INFO] Loading experiment config from C:\\AIC Experiment Data\\DARP\\ITSC_instance_paper\\Results\\DC\\start_18-00\\duration_15_min\\max_delay_10_min\\ih\\config.yaml\n",
      "17:47:29 [INFO] Loading instance config from C:\\AIC Experiment Data\\DARP\\ITSC_instance_paper\\Instances\\DC\\instances\\start_18-00\\duration_15_min\\max_delay_10_min\\config.yaml\n",
      "17:47:29 [INFO] Loading json file from: C:\\AIC Experiment Data\\DARP\\ITSC_instance_paper\\Results\\DC\\start_18-00\\duration_15_min\\max_delay_10_min\\vga\\config.yaml-performance.json\n",
      "17:47:29 [INFO] Loading json file from: C:\\AIC Experiment Data\\DARP\\ITSC_instance_paper\\Results\\DC\\start_18-00\\duration_15_min\\max_delay_10_min\\vga\\config.yaml-solution.json\n",
      "17:47:29 [INFO] Loading experiment config from C:\\AIC Experiment Data\\DARP\\ITSC_instance_paper\\Results\\DC\\start_18-00\\duration_15_min\\max_delay_10_min\\vga\\config.yaml\n",
      "17:47:29 [INFO] Loading instance config from C:\\AIC Experiment Data\\DARP\\ITSC_instance_paper\\Instances\\DC\\instances\\start_18-00\\duration_15_min\\max_delay_10_min\\config.yaml\n",
      "17:47:29 [WARNING] No solution found in folder: C:\\AIC Experiment Data\\DARP\\ITSC_instance_paper\\Results\\DC\\start_18-00\\duration_16_h\\max_delay_03_min\\halns\n",
      "17:47:29 [WARNING] No solution found in folder: C:\\AIC Experiment Data\\DARP\\ITSC_instance_paper\\Results\\DC\\start_18-00\\duration_16_h\\max_delay_03_min\\halns-ih\n",
      "17:47:29 [INFO] Loading json file from: C:\\AIC Experiment Data\\DARP\\ITSC_instance_paper\\Results\\DC\\start_18-00\\duration_16_h\\max_delay_03_min\\ih\\config.yaml-performance.json\n",
      "17:47:29 [INFO] Loading json file from: C:\\AIC Experiment Data\\DARP\\ITSC_instance_paper\\Results\\DC\\start_18-00\\duration_16_h\\max_delay_03_min\\ih\\config.yaml-solution.json\n",
      "17:47:29 [INFO] Loading experiment config from C:\\AIC Experiment Data\\DARP\\ITSC_instance_paper\\Results\\DC\\start_18-00\\duration_16_h\\max_delay_03_min\\ih\\config.yaml\n",
      "17:47:29 [INFO] Loading instance config from C:\\AIC Experiment Data\\DARP\\ITSC_instance_paper\\Instances\\DC\\instances\\start_18-00\\duration_16_h\\max_delay_03_min\\config.yaml\n",
      "17:47:29 [WARNING] No solution found in folder: C:\\AIC Experiment Data\\DARP\\ITSC_instance_paper\\Results\\DC\\start_18-00\\duration_16_h\\max_delay_03_min\\vga\n",
      "17:47:29 [WARNING] No solution found in folder: C:\\AIC Experiment Data\\DARP\\ITSC_instance_paper\\Results\\DC\\start_18-00\\duration_16_h\\max_delay_05_min\\halns\n",
      "17:47:29 [WARNING] No solution found in folder: C:\\AIC Experiment Data\\DARP\\ITSC_instance_paper\\Results\\DC\\start_18-00\\duration_16_h\\max_delay_05_min\\halns-ih\n",
      "17:47:29 [WARNING] No solution found in folder: C:\\AIC Experiment Data\\DARP\\ITSC_instance_paper\\Results\\DC\\start_18-00\\duration_16_h\\max_delay_05_min\\ih\n",
      "17:47:29 [WARNING] No solution found in folder: C:\\AIC Experiment Data\\DARP\\ITSC_instance_paper\\Results\\DC\\start_18-00\\duration_16_h\\max_delay_05_min\\vga\n",
      "17:47:29 [WARNING] No solution found in folder: C:\\AIC Experiment Data\\DARP\\ITSC_instance_paper\\Results\\DC\\start_18-00\\duration_16_h\\max_delay_10_min\\halns\n",
      "17:47:29 [WARNING] No solution found in folder: C:\\AIC Experiment Data\\DARP\\ITSC_instance_paper\\Results\\DC\\start_18-00\\duration_16_h\\max_delay_10_min\\halns-ih\n",
      "17:47:29 [WARNING] No solution found in folder: C:\\AIC Experiment Data\\DARP\\ITSC_instance_paper\\Results\\DC\\start_18-00\\duration_16_h\\max_delay_10_min\\ih\n",
      "17:47:29 [WARNING] No solution found in folder: C:\\AIC Experiment Data\\DARP\\ITSC_instance_paper\\Results\\DC\\start_18-00\\duration_16_h\\max_delay_10_min\\vga\n",
      "17:47:29 [WARNING] No solution found in folder: C:\\AIC Experiment Data\\DARP\\ITSC_instance_paper\\Results\\DC\\start_18-00\\duration_30_min\\max_delay_03_min\\halns\n",
      "17:47:29 [WARNING] No solution found in folder: C:\\AIC Experiment Data\\DARP\\ITSC_instance_paper\\Results\\DC\\start_18-00\\duration_30_min\\max_delay_03_min\\halns-ih\n",
      "17:47:29 [INFO] Loading json file from: C:\\AIC Experiment Data\\DARP\\ITSC_instance_paper\\Results\\DC\\start_18-00\\duration_30_min\\max_delay_03_min\\ih\\config.yaml-performance.json\n",
      "17:47:29 [INFO] Loading json file from: C:\\AIC Experiment Data\\DARP\\ITSC_instance_paper\\Results\\DC\\start_18-00\\duration_30_min\\max_delay_03_min\\ih\\config.yaml-solution.json\n",
      "17:47:29 [INFO] Loading experiment config from C:\\AIC Experiment Data\\DARP\\ITSC_instance_paper\\Results\\DC\\start_18-00\\duration_30_min\\max_delay_03_min\\ih\\config.yaml\n",
      "17:47:29 [INFO] Loading instance config from C:\\AIC Experiment Data\\DARP\\ITSC_instance_paper\\Instances\\DC\\instances\\start_18-00\\duration_30_min\\max_delay_03_min\\config.yaml\n",
      "17:47:29 [INFO] Loading json file from: C:\\AIC Experiment Data\\DARP\\ITSC_instance_paper\\Results\\DC\\start_18-00\\duration_30_min\\max_delay_03_min\\vga\\config.yaml-performance.json\n",
      "17:47:29 [INFO] Loading json file from: C:\\AIC Experiment Data\\DARP\\ITSC_instance_paper\\Results\\DC\\start_18-00\\duration_30_min\\max_delay_03_min\\vga\\config.yaml-solution.json\n",
      "17:47:30 [INFO] Loading experiment config from C:\\AIC Experiment Data\\DARP\\ITSC_instance_paper\\Results\\DC\\start_18-00\\duration_30_min\\max_delay_03_min\\vga\\config.yaml\n",
      "17:47:30 [INFO] Loading instance config from C:\\AIC Experiment Data\\DARP\\ITSC_instance_paper\\Instances\\DC\\instances\\start_18-00\\duration_30_min\\max_delay_03_min\\config.yaml\n",
      "17:47:30 [WARNING] No solution found in folder: C:\\AIC Experiment Data\\DARP\\ITSC_instance_paper\\Results\\DC\\start_18-00\\duration_30_min\\max_delay_05_min\\halns\n",
      "17:47:30 [WARNING] No solution found in folder: C:\\AIC Experiment Data\\DARP\\ITSC_instance_paper\\Results\\DC\\start_18-00\\duration_30_min\\max_delay_05_min\\halns-ih\n",
      "17:47:30 [INFO] Loading json file from: C:\\AIC Experiment Data\\DARP\\ITSC_instance_paper\\Results\\DC\\start_18-00\\duration_30_min\\max_delay_05_min\\ih\\config.yaml-performance.json\n",
      "17:47:30 [INFO] Loading json file from: C:\\AIC Experiment Data\\DARP\\ITSC_instance_paper\\Results\\DC\\start_18-00\\duration_30_min\\max_delay_05_min\\ih\\config.yaml-solution.json\n",
      "17:47:30 [INFO] Loading experiment config from C:\\AIC Experiment Data\\DARP\\ITSC_instance_paper\\Results\\DC\\start_18-00\\duration_30_min\\max_delay_05_min\\ih\\config.yaml\n",
      "17:47:30 [INFO] Loading instance config from C:\\AIC Experiment Data\\DARP\\ITSC_instance_paper\\Instances\\DC\\instances\\start_18-00\\duration_30_min\\max_delay_05_min\\config.yaml\n",
      "17:47:30 [INFO] Loading json file from: C:\\AIC Experiment Data\\DARP\\ITSC_instance_paper\\Results\\DC\\start_18-00\\duration_30_min\\max_delay_05_min\\vga\\config.yaml-performance.json\n",
      "17:47:30 [INFO] Loading json file from: C:\\AIC Experiment Data\\DARP\\ITSC_instance_paper\\Results\\DC\\start_18-00\\duration_30_min\\max_delay_05_min\\vga\\config.yaml-solution.json\n",
      "17:47:30 [INFO] Loading experiment config from C:\\AIC Experiment Data\\DARP\\ITSC_instance_paper\\Results\\DC\\start_18-00\\duration_30_min\\max_delay_05_min\\vga\\config.yaml\n",
      "17:47:30 [INFO] Loading instance config from C:\\AIC Experiment Data\\DARP\\ITSC_instance_paper\\Instances\\DC\\instances\\start_18-00\\duration_30_min\\max_delay_05_min\\config.yaml\n",
      "17:47:30 [WARNING] No solution found in folder: C:\\AIC Experiment Data\\DARP\\ITSC_instance_paper\\Results\\DC\\start_18-00\\duration_30_min\\max_delay_10_min\\halns\n",
      "17:47:30 [WARNING] No solution found in folder: C:\\AIC Experiment Data\\DARP\\ITSC_instance_paper\\Results\\DC\\start_18-00\\duration_30_min\\max_delay_10_min\\halns-ih\n",
      "17:47:30 [INFO] Loading json file from: C:\\AIC Experiment Data\\DARP\\ITSC_instance_paper\\Results\\DC\\start_18-00\\duration_30_min\\max_delay_10_min\\ih\\config.yaml-performance.json\n",
      "17:47:30 [INFO] Loading json file from: C:\\AIC Experiment Data\\DARP\\ITSC_instance_paper\\Results\\DC\\start_18-00\\duration_30_min\\max_delay_10_min\\ih\\config.yaml-solution.json\n",
      "17:47:30 [INFO] Loading experiment config from C:\\AIC Experiment Data\\DARP\\ITSC_instance_paper\\Results\\DC\\start_18-00\\duration_30_min\\max_delay_10_min\\ih\\config.yaml\n",
      "17:47:30 [INFO] Loading instance config from C:\\AIC Experiment Data\\DARP\\ITSC_instance_paper\\Instances\\DC\\instances\\start_18-00\\duration_30_min\\max_delay_10_min\\config.yaml\n",
      "17:47:30 [WARNING] No solution found in folder: C:\\AIC Experiment Data\\DARP\\ITSC_instance_paper\\Results\\DC\\start_18-00\\duration_30_min\\max_delay_10_min\\vga\n",
      "17:47:30 [WARNING] No solution found in folder: C:\\AIC Experiment Data\\DARP\\ITSC_instance_paper\\Results\\DC\\start_18-00\\duration_30_s\\max_delay_03_min\\halns\n",
      "17:47:30 [WARNING] No solution found in folder: C:\\AIC Experiment Data\\DARP\\ITSC_instance_paper\\Results\\DC\\start_18-00\\duration_30_s\\max_delay_03_min\\halns-ih\n",
      "17:47:30 [INFO] Loading json file from: C:\\AIC Experiment Data\\DARP\\ITSC_instance_paper\\Results\\DC\\start_18-00\\duration_30_s\\max_delay_03_min\\ih\\config.yaml-performance.json\n",
      "17:47:30 [INFO] Loading json file from: C:\\AIC Experiment Data\\DARP\\ITSC_instance_paper\\Results\\DC\\start_18-00\\duration_30_s\\max_delay_03_min\\ih\\config.yaml-solution.json\n",
      "17:47:30 [INFO] Loading experiment config from C:\\AIC Experiment Data\\DARP\\ITSC_instance_paper\\Results\\DC\\start_18-00\\duration_30_s\\max_delay_03_min\\ih\\config.yaml\n",
      "17:47:30 [INFO] Loading instance config from C:\\AIC Experiment Data\\DARP\\ITSC_instance_paper\\Instances\\DC\\instances\\start_18-00\\duration_30_s\\max_delay_03_min\\config.yaml\n",
      "17:47:30 [INFO] Loading json file from: C:\\AIC Experiment Data\\DARP\\ITSC_instance_paper\\Results\\DC\\start_18-00\\duration_30_s\\max_delay_03_min\\vga\\config.yaml-performance.json\n",
      "17:47:30 [INFO] Loading json file from: C:\\AIC Experiment Data\\DARP\\ITSC_instance_paper\\Results\\DC\\start_18-00\\duration_30_s\\max_delay_03_min\\vga\\config.yaml-solution.json\n",
      "17:47:30 [INFO] Loading experiment config from C:\\AIC Experiment Data\\DARP\\ITSC_instance_paper\\Results\\DC\\start_18-00\\duration_30_s\\max_delay_03_min\\vga\\config.yaml\n",
      "17:47:30 [INFO] Loading instance config from C:\\AIC Experiment Data\\DARP\\ITSC_instance_paper\\Instances\\DC\\instances\\start_18-00\\duration_30_s\\max_delay_03_min\\config.yaml\n",
      "17:47:30 [WARNING] No solution found in folder: C:\\AIC Experiment Data\\DARP\\ITSC_instance_paper\\Results\\DC\\start_18-00\\duration_30_s\\max_delay_05_min\\halns\n",
      "17:47:30 [WARNING] No solution found in folder: C:\\AIC Experiment Data\\DARP\\ITSC_instance_paper\\Results\\DC\\start_18-00\\duration_30_s\\max_delay_05_min\\halns-ih\n",
      "17:47:30 [INFO] Loading json file from: C:\\AIC Experiment Data\\DARP\\ITSC_instance_paper\\Results\\DC\\start_18-00\\duration_30_s\\max_delay_05_min\\ih\\config.yaml-performance.json\n",
      "17:47:30 [INFO] Loading json file from: C:\\AIC Experiment Data\\DARP\\ITSC_instance_paper\\Results\\DC\\start_18-00\\duration_30_s\\max_delay_05_min\\ih\\config.yaml-solution.json\n",
      "17:47:30 [INFO] Loading experiment config from C:\\AIC Experiment Data\\DARP\\ITSC_instance_paper\\Results\\DC\\start_18-00\\duration_30_s\\max_delay_05_min\\ih\\config.yaml\n",
      "17:47:30 [INFO] Loading instance config from C:\\AIC Experiment Data\\DARP\\ITSC_instance_paper\\Instances\\DC\\instances\\start_18-00\\duration_30_s\\max_delay_05_min\\config.yaml\n",
      "17:47:30 [INFO] Loading json file from: C:\\AIC Experiment Data\\DARP\\ITSC_instance_paper\\Results\\DC\\start_18-00\\duration_30_s\\max_delay_05_min\\vga\\config.yaml-performance.json\n",
      "17:47:30 [INFO] Loading json file from: C:\\AIC Experiment Data\\DARP\\ITSC_instance_paper\\Results\\DC\\start_18-00\\duration_30_s\\max_delay_05_min\\vga\\config.yaml-solution.json\n",
      "17:47:30 [INFO] Loading experiment config from C:\\AIC Experiment Data\\DARP\\ITSC_instance_paper\\Results\\DC\\start_18-00\\duration_30_s\\max_delay_05_min\\vga\\config.yaml\n",
      "17:47:30 [INFO] Loading instance config from C:\\AIC Experiment Data\\DARP\\ITSC_instance_paper\\Instances\\DC\\instances\\start_18-00\\duration_30_s\\max_delay_05_min\\config.yaml\n",
      "17:47:30 [WARNING] No solution found in folder: C:\\AIC Experiment Data\\DARP\\ITSC_instance_paper\\Results\\DC\\start_18-00\\duration_30_s\\max_delay_10_min\\halns\n",
      "17:47:30 [WARNING] No solution found in folder: C:\\AIC Experiment Data\\DARP\\ITSC_instance_paper\\Results\\DC\\start_18-00\\duration_30_s\\max_delay_10_min\\halns-ih\n",
      "17:47:30 [INFO] Loading json file from: C:\\AIC Experiment Data\\DARP\\ITSC_instance_paper\\Results\\DC\\start_18-00\\duration_30_s\\max_delay_10_min\\ih\\config.yaml-performance.json\n",
      "17:47:30 [INFO] Loading json file from: C:\\AIC Experiment Data\\DARP\\ITSC_instance_paper\\Results\\DC\\start_18-00\\duration_30_s\\max_delay_10_min\\ih\\config.yaml-solution.json\n",
      "17:47:30 [INFO] Loading experiment config from C:\\AIC Experiment Data\\DARP\\ITSC_instance_paper\\Results\\DC\\start_18-00\\duration_30_s\\max_delay_10_min\\ih\\config.yaml\n",
      "17:47:31 [INFO] Loading instance config from C:\\AIC Experiment Data\\DARP\\ITSC_instance_paper\\Instances\\DC\\instances\\start_18-00\\duration_30_s\\max_delay_10_min\\config.yaml\n",
      "17:47:31 [INFO] Loading json file from: C:\\AIC Experiment Data\\DARP\\ITSC_instance_paper\\Results\\DC\\start_18-00\\duration_30_s\\max_delay_10_min\\vga\\config.yaml-performance.json\n",
      "17:47:31 [INFO] Loading json file from: C:\\AIC Experiment Data\\DARP\\ITSC_instance_paper\\Results\\DC\\start_18-00\\duration_30_s\\max_delay_10_min\\vga\\config.yaml-solution.json\n",
      "17:47:31 [INFO] Loading experiment config from C:\\AIC Experiment Data\\DARP\\ITSC_instance_paper\\Results\\DC\\start_18-00\\duration_30_s\\max_delay_10_min\\vga\\config.yaml\n",
      "17:47:31 [INFO] Loading instance config from C:\\AIC Experiment Data\\DARP\\ITSC_instance_paper\\Instances\\DC\\instances\\start_18-00\\duration_30_s\\max_delay_10_min\\config.yaml\n"
     ]
    },
    {
     "data": {
      "text/plain": "     cost_minutes  total_time  dropped_requests    avg_delay  plan_count   \n0            7839       0.226                 0   637.519637         516  \\\n1            7839       0.226                 0   637.519637         516   \n2            7839       0.226                 0   637.519637         516   \n3            7839       0.226                 0   637.519637         516   \n4            7839       0.226                 0   637.519637         516   \n..            ...         ...               ...          ...         ...   \n600           141       0.037                 0  1499.000000           4   \n601           141       0.037                 0  1499.000000           4   \n602           141       0.037                 0  1499.000000           4   \n603           141       0.037                 0  1499.000000           4   \n604           141       0.037                 0  1499.000000           4   \n\n     req_count  avg_occupancy  used_connections  total_driving_duration   \n0          662       0.897298                -1                  470321  \\\n1          662       0.897298                -1                  470321   \n2          662       0.897298                -1                  470321   \n3          662       0.897298                -1                  470321   \n4          662       0.897298                -1                  470321   \n..         ...            ...               ...                     ...   \n600          4       0.707576                -1                    8474   \n601          4       0.707576                -1                    8474   \n602          4       0.707576                -1                    8474   \n603          4       0.707576                -1                    8474   \n604          4       0.707576                -1                    8474   \n\n     total_waiting_duration  ...  tts_cost  tts_cost_per_plan  method   \n0                        20  ...     95363         184.812016      ih  \\\n1                        20  ...     95363         184.812016      ih   \n2                        20  ...     95363         184.812016      ih   \n3                        20  ...     95363         184.812016      ih   \n4                        20  ...     95363         184.812016      ih   \n..                      ...  ...       ...                ...     ...   \n600                       0  ...      2478         619.500000     vga   \n601                       0  ...      2478         619.500000     vga   \n602                       0  ...      2478         619.500000     vga   \n603                       0  ...      2478         619.500000     vga   \n604                       0  ...      2478         619.500000     vga   \n\n    max_delay          start_time            end_time duration_minutes   \n0         180 2022-04-05 18:00:00 2022-04-05 18:01:00              1.0  \\\n1         180 2022-04-05 18:00:00 2022-04-05 18:01:00              1.0   \n2         180 2022-04-05 18:00:00 2022-04-05 18:01:00              1.0   \n3         180 2022-04-05 18:00:00 2022-04-05 18:01:00              1.0   \n4         180 2022-04-05 18:00:00 2022-04-05 18:01:00              1.0   \n..        ...                 ...                 ...              ...   \n600       600 2022-04-05 18:00:00 2022-04-05 18:00:30              0.5   \n601       600 2022-04-05 18:00:00 2022-04-05 18:00:30              0.5   \n602       600 2022-04-05 18:00:00 2022-04-05 18:00:30              0.5   \n603       600 2022-04-05 18:00:00 2022-04-05 18:00:30              0.5   \n604       600 2022-04-05 18:00:00 2022-04-05 18:00:30              0.5   \n\n     occupancy  vehicle_hours  area  \n0            0      26.523333   NYC  \n1            1      91.753056   NYC  \n2            2      11.650278   NYC  \n3            3       0.698611   NYC  \n4            4       0.019444   NYC  \n..         ...            ...   ...  \n600          0       0.688333    DC  \n601          1       1.665556    DC  \n602          2       0.000000    DC  \n603          3       0.000000    DC  \n604          4       0.000000    DC  \n\n[605 rows x 21 columns]",
      "text/html": "<div>\n<style scoped>\n    .dataframe tbody tr th:only-of-type {\n        vertical-align: middle;\n    }\n\n    .dataframe tbody tr th {\n        vertical-align: top;\n    }\n\n    .dataframe thead th {\n        text-align: right;\n    }\n</style>\n<table border=\"1\" class=\"dataframe\">\n  <thead>\n    <tr style=\"text-align: right;\">\n      <th></th>\n      <th>cost_minutes</th>\n      <th>total_time</th>\n      <th>dropped_requests</th>\n      <th>avg_delay</th>\n      <th>plan_count</th>\n      <th>req_count</th>\n      <th>avg_occupancy</th>\n      <th>used_connections</th>\n      <th>total_driving_duration</th>\n      <th>total_waiting_duration</th>\n      <th>...</th>\n      <th>tts_cost</th>\n      <th>tts_cost_per_plan</th>\n      <th>method</th>\n      <th>max_delay</th>\n      <th>start_time</th>\n      <th>end_time</th>\n      <th>duration_minutes</th>\n      <th>occupancy</th>\n      <th>vehicle_hours</th>\n      <th>area</th>\n    </tr>\n  </thead>\n  <tbody>\n    <tr>\n      <th>0</th>\n      <td>7839</td>\n      <td>0.226</td>\n      <td>0</td>\n      <td>637.519637</td>\n      <td>516</td>\n      <td>662</td>\n      <td>0.897298</td>\n      <td>-1</td>\n      <td>470321</td>\n      <td>20</td>\n      <td>...</td>\n      <td>95363</td>\n      <td>184.812016</td>\n      <td>ih</td>\n      <td>180</td>\n      <td>2022-04-05 18:00:00</td>\n      <td>2022-04-05 18:01:00</td>\n      <td>1.0</td>\n      <td>0</td>\n      <td>26.523333</td>\n      <td>NYC</td>\n    </tr>\n    <tr>\n      <th>1</th>\n      <td>7839</td>\n      <td>0.226</td>\n      <td>0</td>\n      <td>637.519637</td>\n      <td>516</td>\n      <td>662</td>\n      <td>0.897298</td>\n      <td>-1</td>\n      <td>470321</td>\n      <td>20</td>\n      <td>...</td>\n      <td>95363</td>\n      <td>184.812016</td>\n      <td>ih</td>\n      <td>180</td>\n      <td>2022-04-05 18:00:00</td>\n      <td>2022-04-05 18:01:00</td>\n      <td>1.0</td>\n      <td>1</td>\n      <td>91.753056</td>\n      <td>NYC</td>\n    </tr>\n    <tr>\n      <th>2</th>\n      <td>7839</td>\n      <td>0.226</td>\n      <td>0</td>\n      <td>637.519637</td>\n      <td>516</td>\n      <td>662</td>\n      <td>0.897298</td>\n      <td>-1</td>\n      <td>470321</td>\n      <td>20</td>\n      <td>...</td>\n      <td>95363</td>\n      <td>184.812016</td>\n      <td>ih</td>\n      <td>180</td>\n      <td>2022-04-05 18:00:00</td>\n      <td>2022-04-05 18:01:00</td>\n      <td>1.0</td>\n      <td>2</td>\n      <td>11.650278</td>\n      <td>NYC</td>\n    </tr>\n    <tr>\n      <th>3</th>\n      <td>7839</td>\n      <td>0.226</td>\n      <td>0</td>\n      <td>637.519637</td>\n      <td>516</td>\n      <td>662</td>\n      <td>0.897298</td>\n      <td>-1</td>\n      <td>470321</td>\n      <td>20</td>\n      <td>...</td>\n      <td>95363</td>\n      <td>184.812016</td>\n      <td>ih</td>\n      <td>180</td>\n      <td>2022-04-05 18:00:00</td>\n      <td>2022-04-05 18:01:00</td>\n      <td>1.0</td>\n      <td>3</td>\n      <td>0.698611</td>\n      <td>NYC</td>\n    </tr>\n    <tr>\n      <th>4</th>\n      <td>7839</td>\n      <td>0.226</td>\n      <td>0</td>\n      <td>637.519637</td>\n      <td>516</td>\n      <td>662</td>\n      <td>0.897298</td>\n      <td>-1</td>\n      <td>470321</td>\n      <td>20</td>\n      <td>...</td>\n      <td>95363</td>\n      <td>184.812016</td>\n      <td>ih</td>\n      <td>180</td>\n      <td>2022-04-05 18:00:00</td>\n      <td>2022-04-05 18:01:00</td>\n      <td>1.0</td>\n      <td>4</td>\n      <td>0.019444</td>\n      <td>NYC</td>\n    </tr>\n    <tr>\n      <th>...</th>\n      <td>...</td>\n      <td>...</td>\n      <td>...</td>\n      <td>...</td>\n      <td>...</td>\n      <td>...</td>\n      <td>...</td>\n      <td>...</td>\n      <td>...</td>\n      <td>...</td>\n      <td>...</td>\n      <td>...</td>\n      <td>...</td>\n      <td>...</td>\n      <td>...</td>\n      <td>...</td>\n      <td>...</td>\n      <td>...</td>\n      <td>...</td>\n      <td>...</td>\n      <td>...</td>\n    </tr>\n    <tr>\n      <th>600</th>\n      <td>141</td>\n      <td>0.037</td>\n      <td>0</td>\n      <td>1499.000000</td>\n      <td>4</td>\n      <td>4</td>\n      <td>0.707576</td>\n      <td>-1</td>\n      <td>8474</td>\n      <td>0</td>\n      <td>...</td>\n      <td>2478</td>\n      <td>619.500000</td>\n      <td>vga</td>\n      <td>600</td>\n      <td>2022-04-05 18:00:00</td>\n      <td>2022-04-05 18:00:30</td>\n      <td>0.5</td>\n      <td>0</td>\n      <td>0.688333</td>\n      <td>DC</td>\n    </tr>\n    <tr>\n      <th>601</th>\n      <td>141</td>\n      <td>0.037</td>\n      <td>0</td>\n      <td>1499.000000</td>\n      <td>4</td>\n      <td>4</td>\n      <td>0.707576</td>\n      <td>-1</td>\n      <td>8474</td>\n      <td>0</td>\n      <td>...</td>\n      <td>2478</td>\n      <td>619.500000</td>\n      <td>vga</td>\n      <td>600</td>\n      <td>2022-04-05 18:00:00</td>\n      <td>2022-04-05 18:00:30</td>\n      <td>0.5</td>\n      <td>1</td>\n      <td>1.665556</td>\n      <td>DC</td>\n    </tr>\n    <tr>\n      <th>602</th>\n      <td>141</td>\n      <td>0.037</td>\n      <td>0</td>\n      <td>1499.000000</td>\n      <td>4</td>\n      <td>4</td>\n      <td>0.707576</td>\n      <td>-1</td>\n      <td>8474</td>\n      <td>0</td>\n      <td>...</td>\n      <td>2478</td>\n      <td>619.500000</td>\n      <td>vga</td>\n      <td>600</td>\n      <td>2022-04-05 18:00:00</td>\n      <td>2022-04-05 18:00:30</td>\n      <td>0.5</td>\n      <td>2</td>\n      <td>0.000000</td>\n      <td>DC</td>\n    </tr>\n    <tr>\n      <th>603</th>\n      <td>141</td>\n      <td>0.037</td>\n      <td>0</td>\n      <td>1499.000000</td>\n      <td>4</td>\n      <td>4</td>\n      <td>0.707576</td>\n      <td>-1</td>\n      <td>8474</td>\n      <td>0</td>\n      <td>...</td>\n      <td>2478</td>\n      <td>619.500000</td>\n      <td>vga</td>\n      <td>600</td>\n      <td>2022-04-05 18:00:00</td>\n      <td>2022-04-05 18:00:30</td>\n      <td>0.5</td>\n      <td>3</td>\n      <td>0.000000</td>\n      <td>DC</td>\n    </tr>\n    <tr>\n      <th>604</th>\n      <td>141</td>\n      <td>0.037</td>\n      <td>0</td>\n      <td>1499.000000</td>\n      <td>4</td>\n      <td>4</td>\n      <td>0.707576</td>\n      <td>-1</td>\n      <td>8474</td>\n      <td>0</td>\n      <td>...</td>\n      <td>2478</td>\n      <td>619.500000</td>\n      <td>vga</td>\n      <td>600</td>\n      <td>2022-04-05 18:00:00</td>\n      <td>2022-04-05 18:00:30</td>\n      <td>0.5</td>\n      <td>4</td>\n      <td>0.000000</td>\n      <td>DC</td>\n    </tr>\n  </tbody>\n</table>\n<p>605 rows × 21 columns</p>\n</div>"
     },
     "execution_count": 9,
     "metadata": {},
     "output_type": "execute_result"
    }
   ],
   "source": [
    "occupancy_df = pd.DataFrame()\n",
    "for area in areas:\n",
    "    occ_in_area = load_occupancies_in_dir(final_results_path / area)\n",
    "    if occ_in_area is not None:\n",
    "        occ_in_area['area'] = area\n",
    "        occupancy_df = pd.concat([occupancy_df, occ_in_area], ignore_index=True)\n",
    "occupancy_df"
   ],
   "metadata": {
    "collapsed": false,
    "ExecuteTime": {
     "end_time": "2023-05-21T15:47:31.388980100Z",
     "start_time": "2023-05-21T15:47:08.698518600Z"
    }
   }
  },
  {
   "cell_type": "code",
   "execution_count": 10,
   "outputs": [
    {
     "data": {
      "text/plain": "     cost_minutes  total_time  dropped_requests    avg_delay  plan_count   \n100          4517       0.041                 0   636.112462         271  \\\n101          4517       0.041                 0   636.112462         271   \n102          4517       0.041                 0   636.112462         271   \n103          4517       0.041                 0   636.112462         271   \n104          4517       0.041                 0   636.112462         271   \n..            ...         ...               ...          ...         ...   \n570          4771       0.028                 0  1145.286585         113   \n571          4771       0.028                 0  1145.286585         113   \n572          4771       0.028                 0  1145.286585         113   \n573          4771       0.028                 0  1145.286585         113   \n574          4771       0.028                 0  1145.286585         113   \n\n     req_count  avg_occupancy  used_connections  total_driving_duration   \n100        329       0.772272                -1                  270994  \\\n101        329       0.772272                -1                  270994   \n102        329       0.772272                -1                  270994   \n103        329       0.772272                -1                  270994   \n104        329       0.772272                -1                  270994   \n..         ...            ...               ...                     ...   \n570        328       1.303753                -1                  286242   \n571        328       1.303753                -1                  286242   \n572        328       1.303753                -1                  286242   \n573        328       1.303753                -1                  286242   \n574        328       1.303753                -1                  286242   \n\n     total_waiting_duration  ...  tts_cost_per_plan  method  max_delay   \n100                       0  ...         296.302583      ih        180  \\\n101                       0  ...         296.302583      ih        180   \n102                       0  ...         296.302583      ih        180   \n103                       0  ...         296.302583      ih        180   \n104                       0  ...         296.302583      ih        180   \n..                      ...  ...                ...     ...        ...   \n570                    1820  ...         470.477876      ih        600   \n571                    1820  ...         470.477876      ih        600   \n572                    1820  ...         470.477876      ih        600   \n573                    1820  ...         470.477876      ih        600   \n574                    1820  ...         470.477876      ih        600   \n\n             start_time            end_time duration_minutes occupancy   \n100 2022-04-05 18:00:00 2022-04-05 18:00:30              0.5         0  \\\n101 2022-04-05 18:00:00 2022-04-05 18:00:30              0.5         1   \n102 2022-04-05 18:00:00 2022-04-05 18:00:30              0.5         2   \n103 2022-04-05 18:00:00 2022-04-05 18:00:30              0.5         3   \n104 2022-04-05 18:00:00 2022-04-05 18:00:30              0.5         4   \n..                  ...                 ...              ...       ...   \n570 2022-04-05 18:00:00 2022-04-05 18:30:00             30.0         0   \n571 2022-04-05 18:00:00 2022-04-05 18:30:00             30.0         1   \n572 2022-04-05 18:00:00 2022-04-05 18:30:00             30.0         2   \n573 2022-04-05 18:00:00 2022-04-05 18:30:00             30.0         3   \n574 2022-04-05 18:00:00 2022-04-05 18:30:00             30.0         4   \n\n     vehicle_hours  area    percent  \n100      22.311111   NYC  29.639033  \n101      47.966389   NYC  63.720599  \n102       4.828611   NYC   6.414533  \n103       0.170000   NYC   0.225835  \n104       0.000000   NYC   0.000000  \n..             ...   ...        ...  \n570      15.525278    DC  19.402420  \n571      33.013611    DC  41.258132  \n572      23.033333    DC  28.785470  \n573       7.174444    DC   8.966125  \n574       0.765000    DC   0.956044  \n\n[400 rows x 22 columns]",
      "text/html": "<div>\n<style scoped>\n    .dataframe tbody tr th:only-of-type {\n        vertical-align: middle;\n    }\n\n    .dataframe tbody tr th {\n        vertical-align: top;\n    }\n\n    .dataframe thead th {\n        text-align: right;\n    }\n</style>\n<table border=\"1\" class=\"dataframe\">\n  <thead>\n    <tr style=\"text-align: right;\">\n      <th></th>\n      <th>cost_minutes</th>\n      <th>total_time</th>\n      <th>dropped_requests</th>\n      <th>avg_delay</th>\n      <th>plan_count</th>\n      <th>req_count</th>\n      <th>avg_occupancy</th>\n      <th>used_connections</th>\n      <th>total_driving_duration</th>\n      <th>total_waiting_duration</th>\n      <th>...</th>\n      <th>tts_cost_per_plan</th>\n      <th>method</th>\n      <th>max_delay</th>\n      <th>start_time</th>\n      <th>end_time</th>\n      <th>duration_minutes</th>\n      <th>occupancy</th>\n      <th>vehicle_hours</th>\n      <th>area</th>\n      <th>percent</th>\n    </tr>\n  </thead>\n  <tbody>\n    <tr>\n      <th>100</th>\n      <td>4517</td>\n      <td>0.041</td>\n      <td>0</td>\n      <td>636.112462</td>\n      <td>271</td>\n      <td>329</td>\n      <td>0.772272</td>\n      <td>-1</td>\n      <td>270994</td>\n      <td>0</td>\n      <td>...</td>\n      <td>296.302583</td>\n      <td>ih</td>\n      <td>180</td>\n      <td>2022-04-05 18:00:00</td>\n      <td>2022-04-05 18:00:30</td>\n      <td>0.5</td>\n      <td>0</td>\n      <td>22.311111</td>\n      <td>NYC</td>\n      <td>29.639033</td>\n    </tr>\n    <tr>\n      <th>101</th>\n      <td>4517</td>\n      <td>0.041</td>\n      <td>0</td>\n      <td>636.112462</td>\n      <td>271</td>\n      <td>329</td>\n      <td>0.772272</td>\n      <td>-1</td>\n      <td>270994</td>\n      <td>0</td>\n      <td>...</td>\n      <td>296.302583</td>\n      <td>ih</td>\n      <td>180</td>\n      <td>2022-04-05 18:00:00</td>\n      <td>2022-04-05 18:00:30</td>\n      <td>0.5</td>\n      <td>1</td>\n      <td>47.966389</td>\n      <td>NYC</td>\n      <td>63.720599</td>\n    </tr>\n    <tr>\n      <th>102</th>\n      <td>4517</td>\n      <td>0.041</td>\n      <td>0</td>\n      <td>636.112462</td>\n      <td>271</td>\n      <td>329</td>\n      <td>0.772272</td>\n      <td>-1</td>\n      <td>270994</td>\n      <td>0</td>\n      <td>...</td>\n      <td>296.302583</td>\n      <td>ih</td>\n      <td>180</td>\n      <td>2022-04-05 18:00:00</td>\n      <td>2022-04-05 18:00:30</td>\n      <td>0.5</td>\n      <td>2</td>\n      <td>4.828611</td>\n      <td>NYC</td>\n      <td>6.414533</td>\n    </tr>\n    <tr>\n      <th>103</th>\n      <td>4517</td>\n      <td>0.041</td>\n      <td>0</td>\n      <td>636.112462</td>\n      <td>271</td>\n      <td>329</td>\n      <td>0.772272</td>\n      <td>-1</td>\n      <td>270994</td>\n      <td>0</td>\n      <td>...</td>\n      <td>296.302583</td>\n      <td>ih</td>\n      <td>180</td>\n      <td>2022-04-05 18:00:00</td>\n      <td>2022-04-05 18:00:30</td>\n      <td>0.5</td>\n      <td>3</td>\n      <td>0.170000</td>\n      <td>NYC</td>\n      <td>0.225835</td>\n    </tr>\n    <tr>\n      <th>104</th>\n      <td>4517</td>\n      <td>0.041</td>\n      <td>0</td>\n      <td>636.112462</td>\n      <td>271</td>\n      <td>329</td>\n      <td>0.772272</td>\n      <td>-1</td>\n      <td>270994</td>\n      <td>0</td>\n      <td>...</td>\n      <td>296.302583</td>\n      <td>ih</td>\n      <td>180</td>\n      <td>2022-04-05 18:00:00</td>\n      <td>2022-04-05 18:00:30</td>\n      <td>0.5</td>\n      <td>4</td>\n      <td>0.000000</td>\n      <td>NYC</td>\n      <td>0.000000</td>\n    </tr>\n    <tr>\n      <th>...</th>\n      <td>...</td>\n      <td>...</td>\n      <td>...</td>\n      <td>...</td>\n      <td>...</td>\n      <td>...</td>\n      <td>...</td>\n      <td>...</td>\n      <td>...</td>\n      <td>...</td>\n      <td>...</td>\n      <td>...</td>\n      <td>...</td>\n      <td>...</td>\n      <td>...</td>\n      <td>...</td>\n      <td>...</td>\n      <td>...</td>\n      <td>...</td>\n      <td>...</td>\n      <td>...</td>\n    </tr>\n    <tr>\n      <th>570</th>\n      <td>4771</td>\n      <td>0.028</td>\n      <td>0</td>\n      <td>1145.286585</td>\n      <td>113</td>\n      <td>328</td>\n      <td>1.303753</td>\n      <td>-1</td>\n      <td>286242</td>\n      <td>1820</td>\n      <td>...</td>\n      <td>470.477876</td>\n      <td>ih</td>\n      <td>600</td>\n      <td>2022-04-05 18:00:00</td>\n      <td>2022-04-05 18:30:00</td>\n      <td>30.0</td>\n      <td>0</td>\n      <td>15.525278</td>\n      <td>DC</td>\n      <td>19.402420</td>\n    </tr>\n    <tr>\n      <th>571</th>\n      <td>4771</td>\n      <td>0.028</td>\n      <td>0</td>\n      <td>1145.286585</td>\n      <td>113</td>\n      <td>328</td>\n      <td>1.303753</td>\n      <td>-1</td>\n      <td>286242</td>\n      <td>1820</td>\n      <td>...</td>\n      <td>470.477876</td>\n      <td>ih</td>\n      <td>600</td>\n      <td>2022-04-05 18:00:00</td>\n      <td>2022-04-05 18:30:00</td>\n      <td>30.0</td>\n      <td>1</td>\n      <td>33.013611</td>\n      <td>DC</td>\n      <td>41.258132</td>\n    </tr>\n    <tr>\n      <th>572</th>\n      <td>4771</td>\n      <td>0.028</td>\n      <td>0</td>\n      <td>1145.286585</td>\n      <td>113</td>\n      <td>328</td>\n      <td>1.303753</td>\n      <td>-1</td>\n      <td>286242</td>\n      <td>1820</td>\n      <td>...</td>\n      <td>470.477876</td>\n      <td>ih</td>\n      <td>600</td>\n      <td>2022-04-05 18:00:00</td>\n      <td>2022-04-05 18:30:00</td>\n      <td>30.0</td>\n      <td>2</td>\n      <td>23.033333</td>\n      <td>DC</td>\n      <td>28.785470</td>\n    </tr>\n    <tr>\n      <th>573</th>\n      <td>4771</td>\n      <td>0.028</td>\n      <td>0</td>\n      <td>1145.286585</td>\n      <td>113</td>\n      <td>328</td>\n      <td>1.303753</td>\n      <td>-1</td>\n      <td>286242</td>\n      <td>1820</td>\n      <td>...</td>\n      <td>470.477876</td>\n      <td>ih</td>\n      <td>600</td>\n      <td>2022-04-05 18:00:00</td>\n      <td>2022-04-05 18:30:00</td>\n      <td>30.0</td>\n      <td>3</td>\n      <td>7.174444</td>\n      <td>DC</td>\n      <td>8.966125</td>\n    </tr>\n    <tr>\n      <th>574</th>\n      <td>4771</td>\n      <td>0.028</td>\n      <td>0</td>\n      <td>1145.286585</td>\n      <td>113</td>\n      <td>328</td>\n      <td>1.303753</td>\n      <td>-1</td>\n      <td>286242</td>\n      <td>1820</td>\n      <td>...</td>\n      <td>470.477876</td>\n      <td>ih</td>\n      <td>600</td>\n      <td>2022-04-05 18:00:00</td>\n      <td>2022-04-05 18:30:00</td>\n      <td>30.0</td>\n      <td>4</td>\n      <td>0.765000</td>\n      <td>DC</td>\n      <td>0.956044</td>\n    </tr>\n  </tbody>\n</table>\n<p>400 rows × 22 columns</p>\n</div>"
     },
     "execution_count": 10,
     "metadata": {},
     "output_type": "execute_result"
    }
   ],
   "source": [
    "occupancy_df.sort_values(by=['max_delay', 'duration_minutes'], inplace=True)\n",
    "occupancy_df_ih = pd.DataFrame(occupancy_df[occupancy_df['method'] == 'ih'])\n",
    "occupancy_df_ih['percent'] = occupancy_df_ih['vehicle_hours'] * 3600 /  (occupancy_df_ih['total_driving_duration'] + occupancy_df_ih['total_waiting_duration']) * 100\n",
    "occupancy_df_ih"
   ],
   "metadata": {
    "collapsed": false,
    "ExecuteTime": {
     "end_time": "2023-05-21T15:50:57.850723200Z",
     "start_time": "2023-05-21T15:50:57.677244100Z"
    }
   }
  },
  {
   "cell_type": "code",
   "execution_count": 15,
   "outputs": [
    {
     "data": {
      "text/plain": "     cost_minutes  total_time  dropped_requests    avg_delay  plan_count   \n0            7839       0.226                 0   637.519637         516  \\\n1            7839       0.226                 0   637.519637         516   \n2            7839       0.226                 0   637.519637         516   \n3            7839       0.226                 0   637.519637         516   \n4            7839       0.226                 0   637.519637         516   \n..            ...         ...               ...          ...         ...   \n570          4771       0.028                 0  1145.286585         113   \n571          4771       0.028                 0  1145.286585         113   \n572          4771       0.028                 0  1145.286585         113   \n573          4771       0.028                 0  1145.286585         113   \n574          4771       0.028                 0  1145.286585         113   \n\n     req_count  avg_occupancy  used_connections  total_driving_duration   \n0          662       0.897298                -1                  470321  \\\n1          662       0.897298                -1                  470321   \n2          662       0.897298                -1                  470321   \n3          662       0.897298                -1                  470321   \n4          662       0.897298                -1                  470321   \n..         ...            ...               ...                     ...   \n570        328       1.303753                -1                  286242   \n571        328       1.303753                -1                  286242   \n572        328       1.303753                -1                  286242   \n573        328       1.303753                -1                  286242   \n574        328       1.303753                -1                  286242   \n\n     total_waiting_duration  ...  method  max_delay          start_time   \n0                        20  ...      ih        180 2022-04-05 18:00:00  \\\n1                        20  ...      ih        180 2022-04-05 18:00:00   \n2                        20  ...      ih        180 2022-04-05 18:00:00   \n3                        20  ...      ih        180 2022-04-05 18:00:00   \n4                        20  ...      ih        180 2022-04-05 18:00:00   \n..                      ...  ...     ...        ...                 ...   \n570                    1820  ...      ih        600 2022-04-05 18:00:00   \n571                    1820  ...      ih        600 2022-04-05 18:00:00   \n572                    1820  ...      ih        600 2022-04-05 18:00:00   \n573                    1820  ...      ih        600 2022-04-05 18:00:00   \n574                    1820  ...      ih        600 2022-04-05 18:00:00   \n\n               end_time  duration_minutes occupancy vehicle_hours  area   \n0   2022-04-05 18:01:00               1.0         0     26.523333   NYC  \\\n1   2022-04-05 18:01:00               1.0         1     91.753056   NYC   \n2   2022-04-05 18:01:00               1.0         2     11.650278   NYC   \n3   2022-04-05 18:01:00               1.0         3      0.698611   NYC   \n4   2022-04-05 18:01:00               1.0         4      0.019444   NYC   \n..                  ...               ...       ...           ...   ...   \n570 2022-04-05 18:30:00              30.0         0     15.525278    DC   \n571 2022-04-05 18:30:00              30.0         1     33.013611    DC   \n572 2022-04-05 18:30:00              30.0         2     23.033333    DC   \n573 2022-04-05 18:30:00              30.0         3      7.174444    DC   \n574 2022-04-05 18:30:00              30.0         4      0.765000    DC   \n\n       percent  oc_str  \n0    20.301016       0  \n1    70.227984       1  \n2     8.917147       2  \n3     0.534718       3  \n4     0.014883       4  \n..         ...     ...  \n570  19.402420       0  \n571  41.258132       1  \n572  28.785470       2  \n573   8.966125       3  \n574   0.956044       4  \n\n[180 rows x 23 columns]",
      "text/html": "<div>\n<style scoped>\n    .dataframe tbody tr th:only-of-type {\n        vertical-align: middle;\n    }\n\n    .dataframe tbody tr th {\n        vertical-align: top;\n    }\n\n    .dataframe thead th {\n        text-align: right;\n    }\n</style>\n<table border=\"1\" class=\"dataframe\">\n  <thead>\n    <tr style=\"text-align: right;\">\n      <th></th>\n      <th>cost_minutes</th>\n      <th>total_time</th>\n      <th>dropped_requests</th>\n      <th>avg_delay</th>\n      <th>plan_count</th>\n      <th>req_count</th>\n      <th>avg_occupancy</th>\n      <th>used_connections</th>\n      <th>total_driving_duration</th>\n      <th>total_waiting_duration</th>\n      <th>...</th>\n      <th>method</th>\n      <th>max_delay</th>\n      <th>start_time</th>\n      <th>end_time</th>\n      <th>duration_minutes</th>\n      <th>occupancy</th>\n      <th>vehicle_hours</th>\n      <th>area</th>\n      <th>percent</th>\n      <th>oc_str</th>\n    </tr>\n  </thead>\n  <tbody>\n    <tr>\n      <th>0</th>\n      <td>7839</td>\n      <td>0.226</td>\n      <td>0</td>\n      <td>637.519637</td>\n      <td>516</td>\n      <td>662</td>\n      <td>0.897298</td>\n      <td>-1</td>\n      <td>470321</td>\n      <td>20</td>\n      <td>...</td>\n      <td>ih</td>\n      <td>180</td>\n      <td>2022-04-05 18:00:00</td>\n      <td>2022-04-05 18:01:00</td>\n      <td>1.0</td>\n      <td>0</td>\n      <td>26.523333</td>\n      <td>NYC</td>\n      <td>20.301016</td>\n      <td>0</td>\n    </tr>\n    <tr>\n      <th>1</th>\n      <td>7839</td>\n      <td>0.226</td>\n      <td>0</td>\n      <td>637.519637</td>\n      <td>516</td>\n      <td>662</td>\n      <td>0.897298</td>\n      <td>-1</td>\n      <td>470321</td>\n      <td>20</td>\n      <td>...</td>\n      <td>ih</td>\n      <td>180</td>\n      <td>2022-04-05 18:00:00</td>\n      <td>2022-04-05 18:01:00</td>\n      <td>1.0</td>\n      <td>1</td>\n      <td>91.753056</td>\n      <td>NYC</td>\n      <td>70.227984</td>\n      <td>1</td>\n    </tr>\n    <tr>\n      <th>2</th>\n      <td>7839</td>\n      <td>0.226</td>\n      <td>0</td>\n      <td>637.519637</td>\n      <td>516</td>\n      <td>662</td>\n      <td>0.897298</td>\n      <td>-1</td>\n      <td>470321</td>\n      <td>20</td>\n      <td>...</td>\n      <td>ih</td>\n      <td>180</td>\n      <td>2022-04-05 18:00:00</td>\n      <td>2022-04-05 18:01:00</td>\n      <td>1.0</td>\n      <td>2</td>\n      <td>11.650278</td>\n      <td>NYC</td>\n      <td>8.917147</td>\n      <td>2</td>\n    </tr>\n    <tr>\n      <th>3</th>\n      <td>7839</td>\n      <td>0.226</td>\n      <td>0</td>\n      <td>637.519637</td>\n      <td>516</td>\n      <td>662</td>\n      <td>0.897298</td>\n      <td>-1</td>\n      <td>470321</td>\n      <td>20</td>\n      <td>...</td>\n      <td>ih</td>\n      <td>180</td>\n      <td>2022-04-05 18:00:00</td>\n      <td>2022-04-05 18:01:00</td>\n      <td>1.0</td>\n      <td>3</td>\n      <td>0.698611</td>\n      <td>NYC</td>\n      <td>0.534718</td>\n      <td>3</td>\n    </tr>\n    <tr>\n      <th>4</th>\n      <td>7839</td>\n      <td>0.226</td>\n      <td>0</td>\n      <td>637.519637</td>\n      <td>516</td>\n      <td>662</td>\n      <td>0.897298</td>\n      <td>-1</td>\n      <td>470321</td>\n      <td>20</td>\n      <td>...</td>\n      <td>ih</td>\n      <td>180</td>\n      <td>2022-04-05 18:00:00</td>\n      <td>2022-04-05 18:01:00</td>\n      <td>1.0</td>\n      <td>4</td>\n      <td>0.019444</td>\n      <td>NYC</td>\n      <td>0.014883</td>\n      <td>4</td>\n    </tr>\n    <tr>\n      <th>...</th>\n      <td>...</td>\n      <td>...</td>\n      <td>...</td>\n      <td>...</td>\n      <td>...</td>\n      <td>...</td>\n      <td>...</td>\n      <td>...</td>\n      <td>...</td>\n      <td>...</td>\n      <td>...</td>\n      <td>...</td>\n      <td>...</td>\n      <td>...</td>\n      <td>...</td>\n      <td>...</td>\n      <td>...</td>\n      <td>...</td>\n      <td>...</td>\n      <td>...</td>\n      <td>...</td>\n    </tr>\n    <tr>\n      <th>570</th>\n      <td>4771</td>\n      <td>0.028</td>\n      <td>0</td>\n      <td>1145.286585</td>\n      <td>113</td>\n      <td>328</td>\n      <td>1.303753</td>\n      <td>-1</td>\n      <td>286242</td>\n      <td>1820</td>\n      <td>...</td>\n      <td>ih</td>\n      <td>600</td>\n      <td>2022-04-05 18:00:00</td>\n      <td>2022-04-05 18:30:00</td>\n      <td>30.0</td>\n      <td>0</td>\n      <td>15.525278</td>\n      <td>DC</td>\n      <td>19.402420</td>\n      <td>0</td>\n    </tr>\n    <tr>\n      <th>571</th>\n      <td>4771</td>\n      <td>0.028</td>\n      <td>0</td>\n      <td>1145.286585</td>\n      <td>113</td>\n      <td>328</td>\n      <td>1.303753</td>\n      <td>-1</td>\n      <td>286242</td>\n      <td>1820</td>\n      <td>...</td>\n      <td>ih</td>\n      <td>600</td>\n      <td>2022-04-05 18:00:00</td>\n      <td>2022-04-05 18:30:00</td>\n      <td>30.0</td>\n      <td>1</td>\n      <td>33.013611</td>\n      <td>DC</td>\n      <td>41.258132</td>\n      <td>1</td>\n    </tr>\n    <tr>\n      <th>572</th>\n      <td>4771</td>\n      <td>0.028</td>\n      <td>0</td>\n      <td>1145.286585</td>\n      <td>113</td>\n      <td>328</td>\n      <td>1.303753</td>\n      <td>-1</td>\n      <td>286242</td>\n      <td>1820</td>\n      <td>...</td>\n      <td>ih</td>\n      <td>600</td>\n      <td>2022-04-05 18:00:00</td>\n      <td>2022-04-05 18:30:00</td>\n      <td>30.0</td>\n      <td>2</td>\n      <td>23.033333</td>\n      <td>DC</td>\n      <td>28.785470</td>\n      <td>2</td>\n    </tr>\n    <tr>\n      <th>573</th>\n      <td>4771</td>\n      <td>0.028</td>\n      <td>0</td>\n      <td>1145.286585</td>\n      <td>113</td>\n      <td>328</td>\n      <td>1.303753</td>\n      <td>-1</td>\n      <td>286242</td>\n      <td>1820</td>\n      <td>...</td>\n      <td>ih</td>\n      <td>600</td>\n      <td>2022-04-05 18:00:00</td>\n      <td>2022-04-05 18:30:00</td>\n      <td>30.0</td>\n      <td>3</td>\n      <td>7.174444</td>\n      <td>DC</td>\n      <td>8.966125</td>\n      <td>3</td>\n    </tr>\n    <tr>\n      <th>574</th>\n      <td>4771</td>\n      <td>0.028</td>\n      <td>0</td>\n      <td>1145.286585</td>\n      <td>113</td>\n      <td>328</td>\n      <td>1.303753</td>\n      <td>-1</td>\n      <td>286242</td>\n      <td>1820</td>\n      <td>...</td>\n      <td>ih</td>\n      <td>600</td>\n      <td>2022-04-05 18:00:00</td>\n      <td>2022-04-05 18:30:00</td>\n      <td>30.0</td>\n      <td>4</td>\n      <td>0.765000</td>\n      <td>DC</td>\n      <td>0.956044</td>\n      <td>4</td>\n    </tr>\n  </tbody>\n</table>\n<p>180 rows × 23 columns</p>\n</div>"
     },
     "execution_count": 15,
     "metadata": {},
     "output_type": "execute_result"
    }
   ],
   "source": [
    "occupancy_df_ih_red = pd.DataFrame(occupancy_df_ih[occupancy_df_ih['duration_minutes'].isin((1, 5, 30))])\n",
    "occupancy_df_ih_red['oc_str'] = occupancy_df_ih_red['occupancy'].astype(str)\n",
    "occupancy_df_ih_red"
   ],
   "metadata": {
    "collapsed": false,
    "ExecuteTime": {
     "end_time": "2023-05-21T15:55:43.398993700Z",
     "start_time": "2023-05-21T15:55:43.375841900Z"
    }
   }
  },
  {
   "cell_type": "code",
   "execution_count": 34,
   "outputs": [
    {
     "data": {
      "application/vnd.plotly.v1+json": {
       "data": [
        {
         "alignmentgroup": "True",
         "hovertemplate": "oc_str=0<br>max_delay=180<br>duration_minutes=1.0<br>area=%{x}<br>percent=%{y}<extra></extra>",
         "legendgroup": "0",
         "marker": {
          "color": "#f51302",
          "pattern": {
           "shape": ""
          }
         },
         "name": "0",
         "offsetgroup": "0",
         "orientation": "v",
         "showlegend": true,
         "textposition": "auto",
         "x": [
          "NYC",
          "Manhattan",
          "Chicago",
          "DC"
         ],
         "xaxis": "x7",
         "y": [
          20.301015646095067,
          18.65922986163252,
          26.346986346986345,
          29.606088483733377
         ],
         "yaxis": "y7",
         "type": "bar"
        },
        {
         "alignmentgroup": "True",
         "hovertemplate": "oc_str=0<br>max_delay=180<br>duration_minutes=5.0<br>area=%{x}<br>percent=%{y}<extra></extra>",
         "legendgroup": "0",
         "marker": {
          "color": "#f51302",
          "pattern": {
           "shape": ""
          }
         },
         "name": "0",
         "offsetgroup": "0",
         "orientation": "v",
         "showlegend": false,
         "textposition": "auto",
         "x": [
          "NYC",
          "Manhattan",
          "Chicago",
          "DC"
         ],
         "xaxis": "x8",
         "y": [
          15.556003441165783,
          11.473902813104322,
          20.6190311816822,
          33.4605297847836
         ],
         "yaxis": "y8",
         "type": "bar"
        },
        {
         "alignmentgroup": "True",
         "hovertemplate": "oc_str=0<br>max_delay=180<br>duration_minutes=30.0<br>area=%{x}<br>percent=%{y}<extra></extra>",
         "legendgroup": "0",
         "marker": {
          "color": "#f51302",
          "pattern": {
           "shape": ""
          }
         },
         "name": "0",
         "offsetgroup": "0",
         "orientation": "v",
         "showlegend": false,
         "textposition": "auto",
         "x": [
          "NYC",
          "Manhattan",
          "Chicago",
          "DC"
         ],
         "xaxis": "x9",
         "y": [
          12.698490445017077,
          6.513740145272191,
          19.089328182134363,
          27.663949284745026
         ],
         "yaxis": "y9",
         "type": "bar"
        },
        {
         "alignmentgroup": "True",
         "hovertemplate": "oc_str=0<br>max_delay=300<br>duration_minutes=1.0<br>area=%{x}<br>percent=%{y}<extra></extra>",
         "legendgroup": "0",
         "marker": {
          "color": "#f51302",
          "pattern": {
           "shape": ""
          }
         },
         "name": "0",
         "offsetgroup": "0",
         "orientation": "v",
         "showlegend": false,
         "textposition": "auto",
         "x": [
          "NYC",
          "Manhattan",
          "Chicago",
          "DC"
         ],
         "xaxis": "x4",
         "y": [
          15.115294909711702,
          12.457289866141414,
          25.497445549879,
          29.606088483733377
         ],
         "yaxis": "y4",
         "type": "bar"
        },
        {
         "alignmentgroup": "True",
         "hovertemplate": "oc_str=0<br>max_delay=300<br>duration_minutes=5.0<br>area=%{x}<br>percent=%{y}<extra></extra>",
         "legendgroup": "0",
         "marker": {
          "color": "#f51302",
          "pattern": {
           "shape": ""
          }
         },
         "name": "0",
         "offsetgroup": "0",
         "orientation": "v",
         "showlegend": false,
         "textposition": "auto",
         "x": [
          "NYC",
          "Manhattan",
          "Chicago",
          "DC"
         ],
         "xaxis": "x5",
         "y": [
          8.733201042591709,
          7.412009706899816,
          12.53574443748468,
          28.41468086736649
         ],
         "yaxis": "y5",
         "type": "bar"
        },
        {
         "alignmentgroup": "True",
         "hovertemplate": "oc_str=0<br>max_delay=300<br>duration_minutes=30.0<br>area=%{x}<br>percent=%{y}<extra></extra>",
         "legendgroup": "0",
         "marker": {
          "color": "#f51302",
          "pattern": {
           "shape": ""
          }
         },
         "name": "0",
         "offsetgroup": "0",
         "orientation": "v",
         "showlegend": false,
         "textposition": "auto",
         "x": [
          "NYC",
          "Manhattan",
          "Chicago",
          "DC"
         ],
         "xaxis": "x6",
         "y": [
          7.2496902145820314,
          3.85389518885636,
          14.332808122454354,
          24.74279744302587
         ],
         "yaxis": "y6",
         "type": "bar"
        },
        {
         "alignmentgroup": "True",
         "hovertemplate": "oc_str=0<br>max_delay=600<br>duration_minutes=1.0<br>area=%{x}<br>percent=%{y}<extra></extra>",
         "legendgroup": "0",
         "marker": {
          "color": "#f51302",
          "pattern": {
           "shape": ""
          }
         },
         "name": "0",
         "offsetgroup": "0",
         "orientation": "v",
         "showlegend": false,
         "textposition": "auto",
         "x": [
          "NYC",
          "Manhattan",
          "Chicago",
          "DC"
         ],
         "xaxis": "x",
         "y": [
          9.766543813704418,
          7.5531098942261385,
          17.198038013488656,
          25.644631973745895
         ],
         "yaxis": "y",
         "type": "bar"
        },
        {
         "alignmentgroup": "True",
         "hovertemplate": "oc_str=0<br>max_delay=600<br>duration_minutes=5.0<br>area=%{x}<br>percent=%{y}<extra></extra>",
         "legendgroup": "0",
         "marker": {
          "color": "#f51302",
          "pattern": {
           "shape": ""
          }
         },
         "name": "0",
         "offsetgroup": "0",
         "orientation": "v",
         "showlegend": false,
         "textposition": "auto",
         "x": [
          "NYC",
          "Manhattan",
          "Chicago",
          "DC"
         ],
         "xaxis": "x2",
         "y": [
          5.2751774666790325,
          4.127845868406862,
          8.000785032055475,
          20.933994631397436
         ],
         "yaxis": "y2",
         "type": "bar"
        },
        {
         "alignmentgroup": "True",
         "hovertemplate": "oc_str=0<br>max_delay=600<br>duration_minutes=30.0<br>area=%{x}<br>percent=%{y}<extra></extra>",
         "legendgroup": "0",
         "marker": {
          "color": "#f51302",
          "pattern": {
           "shape": ""
          }
         },
         "name": "0",
         "offsetgroup": "0",
         "orientation": "v",
         "showlegend": false,
         "textposition": "auto",
         "x": [
          "NYC",
          "Manhattan",
          "Chicago",
          "DC"
         ],
         "xaxis": "x3",
         "y": [
          3.505843091254331,
          2.001858710686406,
          5.6071149081395975,
          19.40242031229388
         ],
         "yaxis": "y3",
         "type": "bar"
        },
        {
         "alignmentgroup": "True",
         "hovertemplate": "oc_str=1<br>max_delay=180<br>duration_minutes=1.0<br>area=%{x}<br>percent=%{y}<extra></extra>",
         "legendgroup": "1",
         "marker": {
          "color": "#0206f5",
          "pattern": {
           "shape": ""
          }
         },
         "name": "1",
         "offsetgroup": "1",
         "orientation": "v",
         "showlegend": true,
         "textposition": "auto",
         "x": [
          "NYC",
          "Manhattan",
          "Chicago",
          "DC"
         ],
         "xaxis": "x7",
         "y": [
          70.22798352684542,
          60.19092566770353,
          71.9014319014319,
          70.39391151626663
         ],
         "yaxis": "y7",
         "type": "bar"
        },
        {
         "alignmentgroup": "True",
         "hovertemplate": "oc_str=1<br>max_delay=180<br>duration_minutes=5.0<br>area=%{x}<br>percent=%{y}<extra></extra>",
         "legendgroup": "1",
         "marker": {
          "color": "#0206f5",
          "pattern": {
           "shape": ""
          }
         },
         "name": "1",
         "offsetgroup": "1",
         "orientation": "v",
         "showlegend": false,
         "textposition": "auto",
         "x": [
          "NYC",
          "Manhattan",
          "Chicago",
          "DC"
         ],
         "xaxis": "x8",
         "y": [
          62.8134354831683,
          48.626630974949116,
          66.56196064894719,
          63.785088875629626
         ],
         "yaxis": "y8",
         "type": "bar"
        },
        {
         "alignmentgroup": "True",
         "hovertemplate": "oc_str=1<br>max_delay=180<br>duration_minutes=30.0<br>area=%{x}<br>percent=%{y}<extra></extra>",
         "legendgroup": "1",
         "marker": {
          "color": "#0206f5",
          "pattern": {
           "shape": ""
          }
         },
         "name": "1",
         "offsetgroup": "1",
         "orientation": "v",
         "showlegend": false,
         "textposition": "auto",
         "x": [
          "NYC",
          "Manhattan",
          "Chicago",
          "DC"
         ],
         "xaxis": "x9",
         "y": [
          57.06247911494462,
          42.88203615855788,
          58.40801631839674,
          59.54484716021504
         ],
         "yaxis": "y9",
         "type": "bar"
        },
        {
         "alignmentgroup": "True",
         "hovertemplate": "oc_str=1<br>max_delay=300<br>duration_minutes=1.0<br>area=%{x}<br>percent=%{y}<extra></extra>",
         "legendgroup": "1",
         "marker": {
          "color": "#0206f5",
          "pattern": {
           "shape": ""
          }
         },
         "name": "1",
         "offsetgroup": "1",
         "orientation": "v",
         "showlegend": false,
         "textposition": "auto",
         "x": [
          "NYC",
          "Manhattan",
          "Chicago",
          "DC"
         ],
         "xaxis": "x4",
         "y": [
          65.00060112048858,
          54.10057482815452,
          71.16160258133907,
          70.39391151626663
         ],
         "yaxis": "y4",
         "type": "bar"
        },
        {
         "alignmentgroup": "True",
         "hovertemplate": "oc_str=1<br>max_delay=300<br>duration_minutes=5.0<br>area=%{x}<br>percent=%{y}<extra></extra>",
         "legendgroup": "1",
         "marker": {
          "color": "#0206f5",
          "pattern": {
           "shape": ""
          }
         },
         "name": "1",
         "offsetgroup": "1",
         "orientation": "v",
         "showlegend": false,
         "textposition": "auto",
         "x": [
          "NYC",
          "Manhattan",
          "Chicago",
          "DC"
         ],
         "xaxis": "x5",
         "y": [
          58.08299512909767,
          44.600967247818524,
          69.38778289169095,
          64.23569075166654
         ],
         "yaxis": "y5",
         "type": "bar"
        },
        {
         "alignmentgroup": "True",
         "hovertemplate": "oc_str=1<br>max_delay=300<br>duration_minutes=30.0<br>area=%{x}<br>percent=%{y}<extra></extra>",
         "legendgroup": "1",
         "marker": {
          "color": "#0206f5",
          "pattern": {
           "shape": ""
          }
         },
         "name": "1",
         "offsetgroup": "1",
         "orientation": "v",
         "showlegend": false,
         "textposition": "auto",
         "x": [
          "NYC",
          "Manhattan",
          "Chicago",
          "DC"
         ],
         "xaxis": "x6",
         "y": [
          49.32882682229175,
          33.420093454623824,
          50.497209722606925,
          50.487253495770844
         ],
         "yaxis": "y6",
         "type": "bar"
        },
        {
         "alignmentgroup": "True",
         "hovertemplate": "oc_str=1<br>max_delay=600<br>duration_minutes=1.0<br>area=%{x}<br>percent=%{y}<extra></extra>",
         "legendgroup": "1",
         "marker": {
          "color": "#0206f5",
          "pattern": {
           "shape": ""
          }
         },
         "name": "1",
         "offsetgroup": "1",
         "orientation": "v",
         "showlegend": false,
         "textposition": "auto",
         "x": [
          "NYC",
          "Manhattan",
          "Chicago",
          "DC"
         ],
         "xaxis": "x",
         "y": [
          55.26729853269827,
          41.258940834418425,
          74.06499080318822,
          64.91326769807783
         ],
         "yaxis": "y",
         "type": "bar"
        },
        {
         "alignmentgroup": "True",
         "hovertemplate": "oc_str=1<br>max_delay=600<br>duration_minutes=5.0<br>area=%{x}<br>percent=%{y}<extra></extra>",
         "legendgroup": "1",
         "marker": {
          "color": "#0206f5",
          "pattern": {
           "shape": ""
          }
         },
         "name": "1",
         "offsetgroup": "1",
         "orientation": "v",
         "showlegend": false,
         "textposition": "auto",
         "x": [
          "NYC",
          "Manhattan",
          "Chicago",
          "DC"
         ],
         "xaxis": "x2",
         "y": [
          47.84550105650048,
          34.987250143949986,
          54.82467617427712,
          58.54798855172169
         ],
         "yaxis": "y2",
         "type": "bar"
        },
        {
         "alignmentgroup": "True",
         "hovertemplate": "oc_str=1<br>max_delay=600<br>duration_minutes=30.0<br>area=%{x}<br>percent=%{y}<extra></extra>",
         "legendgroup": "1",
         "marker": {
          "color": "#0206f5",
          "pattern": {
           "shape": ""
          }
         },
         "name": "1",
         "offsetgroup": "1",
         "orientation": "v",
         "showlegend": false,
         "textposition": "auto",
         "x": [
          "NYC",
          "Manhattan",
          "Chicago",
          "DC"
         ],
         "xaxis": "x3",
         "y": [
          38.43281567461865,
          23.090551086689043,
          42.61797203646729,
          41.25813192993175
         ],
         "yaxis": "y3",
         "type": "bar"
        },
        {
         "alignmentgroup": "True",
         "hovertemplate": "oc_str=2<br>max_delay=180<br>duration_minutes=1.0<br>area=%{x}<br>percent=%{y}<extra></extra>",
         "legendgroup": "2",
         "marker": {
          "color": "#0206f5",
          "pattern": {
           "shape": ""
          }
         },
         "name": "2",
         "offsetgroup": "2",
         "orientation": "v",
         "showlegend": true,
         "textposition": "auto",
         "x": [
          "NYC",
          "Manhattan",
          "Chicago",
          "DC"
         ],
         "xaxis": "x7",
         "y": [
          8.917147346287056,
          19.74900783009761,
          1.7515817515817518,
          0.0
         ],
         "yaxis": "y7",
         "type": "bar"
        },
        {
         "alignmentgroup": "True",
         "hovertemplate": "oc_str=2<br>max_delay=180<br>duration_minutes=5.0<br>area=%{x}<br>percent=%{y}<extra></extra>",
         "legendgroup": "2",
         "marker": {
          "color": "#0206f5",
          "pattern": {
           "shape": ""
          }
         },
         "name": "2",
         "offsetgroup": "2",
         "orientation": "v",
         "showlegend": false,
         "textposition": "auto",
         "x": [
          "NYC",
          "Manhattan",
          "Chicago",
          "DC"
         ],
         "xaxis": "x8",
         "y": [
          18.38318826786517,
          31.381085294948857,
          12.56011966402025,
          2.754381339586774
         ],
         "yaxis": "y8",
         "type": "bar"
        },
        {
         "alignmentgroup": "True",
         "hovertemplate": "oc_str=2<br>max_delay=180<br>duration_minutes=30.0<br>area=%{x}<br>percent=%{y}<extra></extra>",
         "legendgroup": "2",
         "marker": {
          "color": "#0206f5",
          "pattern": {
           "shape": ""
          }
         },
         "name": "2",
         "offsetgroup": "2",
         "orientation": "v",
         "showlegend": false,
         "textposition": "auto",
         "x": [
          "NYC",
          "Manhattan",
          "Chicago",
          "DC"
         ],
         "xaxis": "x9",
         "y": [
          23.278338076623765,
          34.40351660444188,
          16.96530460693908,
          11.741368773241902
         ],
         "yaxis": "y9",
         "type": "bar"
        },
        {
         "alignmentgroup": "True",
         "hovertemplate": "oc_str=2<br>max_delay=300<br>duration_minutes=1.0<br>area=%{x}<br>percent=%{y}<extra></extra>",
         "legendgroup": "2",
         "marker": {
          "color": "#0206f5",
          "pattern": {
           "shape": ""
          }
         },
         "name": "2",
         "offsetgroup": "2",
         "orientation": "v",
         "showlegend": false,
         "textposition": "auto",
         "x": [
          "NYC",
          "Manhattan",
          "Chicago",
          "DC"
         ],
         "xaxis": "x4",
         "y": [
          17.8931929115872,
          27.863488362744704,
          2.6283947297660664,
          0.0
         ],
         "yaxis": "y4",
         "type": "bar"
        },
        {
         "alignmentgroup": "True",
         "hovertemplate": "oc_str=2<br>max_delay=300<br>duration_minutes=5.0<br>area=%{x}<br>percent=%{y}<extra></extra>",
         "legendgroup": "2",
         "marker": {
          "color": "#0206f5",
          "pattern": {
           "shape": ""
          }
         },
         "name": "2",
         "offsetgroup": "2",
         "orientation": "v",
         "showlegend": false,
         "textposition": "auto",
         "x": [
          "NYC",
          "Manhattan",
          "Chicago",
          "DC"
         ],
         "xaxis": "x5",
         "y": [
          25.848356525905185,
          30.976541658778377,
          11.018818595277649,
          7.259213853344572
         ],
         "yaxis": "y5",
         "type": "bar"
        },
        {
         "alignmentgroup": "True",
         "hovertemplate": "oc_str=2<br>max_delay=300<br>duration_minutes=30.0<br>area=%{x}<br>percent=%{y}<extra></extra>",
         "legendgroup": "2",
         "marker": {
          "color": "#0206f5",
          "pattern": {
           "shape": ""
          }
         },
         "name": "2",
         "offsetgroup": "2",
         "orientation": "v",
         "showlegend": false,
         "textposition": "auto",
         "x": [
          "NYC",
          "Manhattan",
          "Chicago",
          "DC"
         ],
         "xaxis": "x6",
         "y": [
          29.07483757232091,
          31.679635573657183,
          24.92246706836974,
          22.859301495109758
         ],
         "yaxis": "y6",
         "type": "bar"
        },
        {
         "alignmentgroup": "True",
         "hovertemplate": "oc_str=2<br>max_delay=600<br>duration_minutes=1.0<br>area=%{x}<br>percent=%{y}<extra></extra>",
         "legendgroup": "2",
         "marker": {
          "color": "#0206f5",
          "pattern": {
           "shape": ""
          }
         },
         "name": "2",
         "offsetgroup": "2",
         "orientation": "v",
         "showlegend": false,
         "textposition": "auto",
         "x": [
          "NYC",
          "Manhattan",
          "Chicago",
          "DC"
         ],
         "xaxis": "x",
         "y": [
          26.31302436968963,
          31.733050318391808,
          7.2271612507664,
          9.442100328176277
         ],
         "yaxis": "y",
         "type": "bar"
        },
        {
         "alignmentgroup": "True",
         "hovertemplate": "oc_str=2<br>max_delay=600<br>duration_minutes=5.0<br>area=%{x}<br>percent=%{y}<extra></extra>",
         "legendgroup": "2",
         "marker": {
          "color": "#0206f5",
          "pattern": {
           "shape": ""
          }
         },
         "name": "2",
         "offsetgroup": "2",
         "orientation": "v",
         "showlegend": false,
         "textposition": "auto",
         "x": [
          "NYC",
          "Manhattan",
          "Chicago",
          "DC"
         ],
         "xaxis": "x2",
         "y": [
          28.645546896275103,
          28.72766490270809,
          24.02688734790004,
          17.673724068049705
         ],
         "yaxis": "y2",
         "type": "bar"
        },
        {
         "alignmentgroup": "True",
         "hovertemplate": "oc_str=2<br>max_delay=600<br>duration_minutes=30.0<br>area=%{x}<br>percent=%{y}<extra></extra>",
         "legendgroup": "2",
         "marker": {
          "color": "#0206f5",
          "pattern": {
           "shape": ""
          }
         },
         "name": "2",
         "offsetgroup": "2",
         "orientation": "v",
         "showlegend": false,
         "textposition": "auto",
         "x": [
          "NYC",
          "Manhattan",
          "Chicago",
          "DC"
         ],
         "xaxis": "x3",
         "y": [
          29.29417034261378,
          24.985343929730554,
          26.313633422891225,
          28.785469794696976
         ],
         "yaxis": "y3",
         "type": "bar"
        },
        {
         "alignmentgroup": "True",
         "hovertemplate": "oc_str=3<br>max_delay=180<br>duration_minutes=1.0<br>area=%{x}<br>percent=%{y}<extra></extra>",
         "legendgroup": "3",
         "marker": {
          "color": "#0206f5",
          "pattern": {
           "shape": ""
          }
         },
         "name": "3",
         "offsetgroup": "3",
         "orientation": "v",
         "showlegend": true,
         "textposition": "auto",
         "x": [
          "NYC",
          "Manhattan",
          "Chicago",
          "DC"
         ],
         "xaxis": "x7",
         "y": [
          0.5347184276939497,
          1.386535092423755,
          0.0,
          0.0
         ],
         "yaxis": "y7",
         "type": "bar"
        },
        {
         "alignmentgroup": "True",
         "hovertemplate": "oc_str=3<br>max_delay=180<br>duration_minutes=5.0<br>area=%{x}<br>percent=%{y}<extra></extra>",
         "legendgroup": "3",
         "marker": {
          "color": "#0206f5",
          "pattern": {
           "shape": ""
          }
         },
         "name": "3",
         "offsetgroup": "3",
         "orientation": "v",
         "showlegend": false,
         "textposition": "auto",
         "x": [
          "NYC",
          "Manhattan",
          "Chicago",
          "DC"
         ],
         "xaxis": "x8",
         "y": [
          2.6171147730281157,
          7.036571308812742,
          0.15993556552755725,
          0.0
         ],
         "yaxis": "y8",
         "type": "bar"
        },
        {
         "alignmentgroup": "True",
         "hovertemplate": "oc_str=3<br>max_delay=180<br>duration_minutes=30.0<br>area=%{x}<br>percent=%{y}<extra></extra>",
         "legendgroup": "3",
         "marker": {
          "color": "#0206f5",
          "pattern": {
           "shape": ""
          }
         },
         "name": "3",
         "offsetgroup": "3",
         "orientation": "v",
         "showlegend": false,
         "textposition": "auto",
         "x": [
          "NYC",
          "Manhattan",
          "Chicago",
          "DC"
         ],
         "xaxis": "x9",
         "y": [
          4.716449910628783,
          11.90636696791881,
          2.052019589596082,
          0.35659163654067266
         ],
         "yaxis": "y9",
         "type": "bar"
        },
        {
         "alignmentgroup": "True",
         "hovertemplate": "oc_str=3<br>max_delay=300<br>duration_minutes=1.0<br>area=%{x}<br>percent=%{y}<extra></extra>",
         "legendgroup": "3",
         "marker": {
          "color": "#0206f5",
          "pattern": {
           "shape": ""
          }
         },
         "name": "3",
         "offsetgroup": "3",
         "orientation": "v",
         "showlegend": false,
         "textposition": "auto",
         "x": [
          "NYC",
          "Manhattan",
          "Chicago",
          "DC"
         ],
         "xaxis": "x4",
         "y": [
          1.721849527519296,
          5.188728544438638,
          0.7125571390158645,
          0.0
         ],
         "yaxis": "y4",
         "type": "bar"
        },
        {
         "alignmentgroup": "True",
         "hovertemplate": "oc_str=3<br>max_delay=300<br>duration_minutes=5.0<br>area=%{x}<br>percent=%{y}<extra></extra>",
         "legendgroup": "3",
         "marker": {
          "color": "#0206f5",
          "pattern": {
           "shape": ""
          }
         },
         "name": "3",
         "offsetgroup": "3",
         "orientation": "v",
         "showlegend": false,
         "textposition": "auto",
         "x": [
          "NYC",
          "Manhattan",
          "Chicago",
          "DC"
         ],
         "xaxis": "x5",
         "y": [
          5.881844319283651,
          12.549438066881228,
          6.71859255426346,
          0.0
         ],
         "yaxis": "y5",
         "type": "bar"
        },
        {
         "alignmentgroup": "True",
         "hovertemplate": "oc_str=3<br>max_delay=300<br>duration_minutes=30.0<br>area=%{x}<br>percent=%{y}<extra></extra>",
         "legendgroup": "3",
         "marker": {
          "color": "#0206f5",
          "pattern": {
           "shape": ""
          }
         },
         "name": "3",
         "offsetgroup": "3",
         "orientation": "v",
         "showlegend": false,
         "textposition": "auto",
         "x": [
          "NYC",
          "Manhattan",
          "Chicago",
          "DC"
         ],
         "xaxis": "x6",
         "y": [
          9.98906468639413,
          21.243282800891443,
          6.369279250234983,
          1.3510881306110885
         ],
         "yaxis": "y6",
         "type": "bar"
        },
        {
         "alignmentgroup": "True",
         "hovertemplate": "oc_str=3<br>max_delay=600<br>duration_minutes=1.0<br>area=%{x}<br>percent=%{y}<extra></extra>",
         "legendgroup": "3",
         "marker": {
          "color": "#0206f5",
          "pattern": {
           "shape": ""
          }
         },
         "name": "3",
         "offsetgroup": "3",
         "orientation": "v",
         "showlegend": false,
         "textposition": "auto",
         "x": [
          "NYC",
          "Manhattan",
          "Chicago",
          "DC"
         ],
         "xaxis": "x",
         "y": [
          7.266370468352472,
          15.460285749959867,
          1.5098099325567136,
          0.0
         ],
         "yaxis": "y",
         "type": "bar"
        },
        {
         "alignmentgroup": "True",
         "hovertemplate": "oc_str=3<br>max_delay=600<br>duration_minutes=5.0<br>area=%{x}<br>percent=%{y}<extra></extra>",
         "legendgroup": "3",
         "marker": {
          "color": "#0206f5",
          "pattern": {
           "shape": ""
          }
         },
         "name": "3",
         "offsetgroup": "3",
         "orientation": "v",
         "showlegend": false,
         "textposition": "auto",
         "x": [
          "NYC",
          "Manhattan",
          "Chicago",
          "DC"
         ],
         "xaxis": "x2",
         "y": [
          13.558176640263508,
          20.474166689515872,
          6.38329190108596,
          2.8442927488311733
         ],
         "yaxis": "y2",
         "type": "bar"
        },
        {
         "alignmentgroup": "True",
         "hovertemplate": "oc_str=3<br>max_delay=600<br>duration_minutes=30.0<br>area=%{x}<br>percent=%{y}<extra></extra>",
         "legendgroup": "3",
         "marker": {
          "color": "#0206f5",
          "pattern": {
           "shape": ""
          }
         },
         "name": "3",
         "offsetgroup": "3",
         "orientation": "v",
         "showlegend": false,
         "textposition": "auto",
         "x": [
          "NYC",
          "Manhattan",
          "Chicago",
          "DC"
         ],
         "xaxis": "x3",
         "y": [
          18.383548829136938,
          28.061476911293603,
          16.62414785809736,
          8.966125348015359
         ],
         "yaxis": "y3",
         "type": "bar"
        },
        {
         "alignmentgroup": "True",
         "hovertemplate": "oc_str=4<br>max_delay=180<br>duration_minutes=1.0<br>area=%{x}<br>percent=%{y}<extra></extra>",
         "legendgroup": "4",
         "marker": {
          "color": "#0206f5",
          "pattern": {
           "shape": ""
          }
         },
         "name": "4",
         "offsetgroup": "4",
         "orientation": "v",
         "showlegend": true,
         "textposition": "auto",
         "x": [
          "NYC",
          "Manhattan",
          "Chicago",
          "DC"
         ],
         "xaxis": "x7",
         "y": [
          0.014882819061064206,
          0.0,
          0.0,
          0.0
         ],
         "yaxis": "y7",
         "type": "bar"
        },
        {
         "alignmentgroup": "True",
         "hovertemplate": "oc_str=4<br>max_delay=180<br>duration_minutes=5.0<br>area=%{x}<br>percent=%{y}<extra></extra>",
         "legendgroup": "4",
         "marker": {
          "color": "#0206f5",
          "pattern": {
           "shape": ""
          }
         },
         "name": "4",
         "offsetgroup": "4",
         "orientation": "v",
         "showlegend": false,
         "textposition": "auto",
         "x": [
          "NYC",
          "Manhattan",
          "Chicago",
          "DC"
         ],
         "xaxis": "x8",
         "y": [
          0.34536129607669763,
          1.1106030439573351,
          0.0,
          0.0
         ],
         "yaxis": "y8",
         "type": "bar"
        },
        {
         "alignmentgroup": "True",
         "hovertemplate": "oc_str=4<br>max_delay=180<br>duration_minutes=30.0<br>area=%{x}<br>percent=%{y}<extra></extra>",
         "legendgroup": "4",
         "marker": {
          "color": "#0206f5",
          "pattern": {
           "shape": ""
          }
         },
         "name": "4",
         "offsetgroup": "4",
         "orientation": "v",
         "showlegend": false,
         "textposition": "auto",
         "x": [
          "NYC",
          "Manhattan",
          "Chicago",
          "DC"
         ],
         "xaxis": "x9",
         "y": [
          0.8949501337764889,
          2.741210712267739,
          0.2716599456680109,
          0.0
         ],
         "yaxis": "y9",
         "type": "bar"
        },
        {
         "alignmentgroup": "True",
         "hovertemplate": "oc_str=4<br>max_delay=300<br>duration_minutes=1.0<br>area=%{x}<br>percent=%{y}<extra></extra>",
         "legendgroup": "4",
         "marker": {
          "color": "#0206f5",
          "pattern": {
           "shape": ""
          }
         },
         "name": "4",
         "offsetgroup": "4",
         "orientation": "v",
         "showlegend": false,
         "textposition": "auto",
         "x": [
          "NYC",
          "Manhattan",
          "Chicago",
          "DC"
         ],
         "xaxis": "x4",
         "y": [
          0.26545480776166774,
          0.36177995739036056,
          0.0,
          0.0
         ],
         "yaxis": "y4",
         "type": "bar"
        },
        {
         "alignmentgroup": "True",
         "hovertemplate": "oc_str=4<br>max_delay=300<br>duration_minutes=5.0<br>area=%{x}<br>percent=%{y}<extra></extra>",
         "legendgroup": "4",
         "marker": {
          "color": "#0206f5",
          "pattern": {
           "shape": ""
          }
         },
         "name": "4",
         "offsetgroup": "4",
         "orientation": "v",
         "showlegend": false,
         "textposition": "auto",
         "x": [
          "NYC",
          "Manhattan",
          "Chicago",
          "DC"
         ],
         "xaxis": "x5",
         "y": [
          1.2268343920399332,
          4.235753747655027,
          0.1593180642174351,
          0.0
         ],
         "yaxis": "y5",
         "type": "bar"
        },
        {
         "alignmentgroup": "True",
         "hovertemplate": "oc_str=4<br>max_delay=300<br>duration_minutes=30.0<br>area=%{x}<br>percent=%{y}<extra></extra>",
         "legendgroup": "4",
         "marker": {
          "color": "#0206f5",
          "pattern": {
           "shape": ""
          }
         },
         "name": "4",
         "offsetgroup": "4",
         "orientation": "v",
         "showlegend": false,
         "textposition": "auto",
         "x": [
          "NYC",
          "Manhattan",
          "Chicago",
          "DC"
         ],
         "xaxis": "x6",
         "y": [
          3.1736297025924975,
          8.734092802992496,
          1.4655199814738296,
          0.0
         ],
         "yaxis": "y6",
         "type": "bar"
        },
        {
         "alignmentgroup": "True",
         "hovertemplate": "oc_str=4<br>max_delay=600<br>duration_minutes=1.0<br>area=%{x}<br>percent=%{y}<extra></extra>",
         "legendgroup": "4",
         "marker": {
          "color": "#0206f5",
          "pattern": {
           "shape": ""
          }
         },
         "name": "4",
         "offsetgroup": "4",
         "orientation": "v",
         "showlegend": false,
         "textposition": "auto",
         "x": [
          "NYC",
          "Manhattan",
          "Chicago",
          "DC"
         ],
         "xaxis": "x",
         "y": [
          1.37396192802701,
          3.9946132030037633,
          0.0,
          0.0
         ],
         "yaxis": "y",
         "type": "bar"
        },
        {
         "alignmentgroup": "True",
         "hovertemplate": "oc_str=4<br>max_delay=600<br>duration_minutes=5.0<br>area=%{x}<br>percent=%{y}<extra></extra>",
         "legendgroup": "4",
         "marker": {
          "color": "#0206f5",
          "pattern": {
           "shape": ""
          }
         },
         "name": "4",
         "offsetgroup": "4",
         "orientation": "v",
         "showlegend": false,
         "textposition": "auto",
         "x": [
          "NYC",
          "Manhattan",
          "Chicago",
          "DC"
         ],
         "xaxis": "x2",
         "y": [
          4.518053250932007,
          11.536654693683564,
          6.5762789480570465,
          0.0
         ],
         "yaxis": "y2",
         "type": "bar"
        },
        {
         "alignmentgroup": "True",
         "hovertemplate": "oc_str=4<br>max_delay=600<br>duration_minutes=30.0<br>area=%{x}<br>percent=%{y}<extra></extra>",
         "legendgroup": "4",
         "marker": {
          "color": "#0206f5",
          "pattern": {
           "shape": ""
          }
         },
         "name": "4",
         "offsetgroup": "4",
         "orientation": "v",
         "showlegend": false,
         "textposition": "auto",
         "x": [
          "NYC",
          "Manhattan",
          "Chicago",
          "DC"
         ],
         "xaxis": "x3",
         "y": [
          9.473046028140455,
          21.347871466355972,
          6.486025296572222,
          0.9560441849324104
         ],
         "yaxis": "y3",
         "type": "bar"
        }
       ],
       "layout": {
        "template": {
         "data": {
          "histogram2dcontour": [
           {
            "type": "histogram2dcontour",
            "colorbar": {
             "outlinewidth": 0,
             "ticks": ""
            },
            "colorscale": [
             [
              0.0,
              "#0d0887"
             ],
             [
              0.1111111111111111,
              "#46039f"
             ],
             [
              0.2222222222222222,
              "#7201a8"
             ],
             [
              0.3333333333333333,
              "#9c179e"
             ],
             [
              0.4444444444444444,
              "#bd3786"
             ],
             [
              0.5555555555555556,
              "#d8576b"
             ],
             [
              0.6666666666666666,
              "#ed7953"
             ],
             [
              0.7777777777777778,
              "#fb9f3a"
             ],
             [
              0.8888888888888888,
              "#fdca26"
             ],
             [
              1.0,
              "#f0f921"
             ]
            ]
           }
          ],
          "choropleth": [
           {
            "type": "choropleth",
            "colorbar": {
             "outlinewidth": 0,
             "ticks": ""
            }
           }
          ],
          "histogram2d": [
           {
            "type": "histogram2d",
            "colorbar": {
             "outlinewidth": 0,
             "ticks": ""
            },
            "colorscale": [
             [
              0.0,
              "#0d0887"
             ],
             [
              0.1111111111111111,
              "#46039f"
             ],
             [
              0.2222222222222222,
              "#7201a8"
             ],
             [
              0.3333333333333333,
              "#9c179e"
             ],
             [
              0.4444444444444444,
              "#bd3786"
             ],
             [
              0.5555555555555556,
              "#d8576b"
             ],
             [
              0.6666666666666666,
              "#ed7953"
             ],
             [
              0.7777777777777778,
              "#fb9f3a"
             ],
             [
              0.8888888888888888,
              "#fdca26"
             ],
             [
              1.0,
              "#f0f921"
             ]
            ]
           }
          ],
          "heatmap": [
           {
            "type": "heatmap",
            "colorbar": {
             "outlinewidth": 0,
             "ticks": ""
            },
            "colorscale": [
             [
              0.0,
              "#0d0887"
             ],
             [
              0.1111111111111111,
              "#46039f"
             ],
             [
              0.2222222222222222,
              "#7201a8"
             ],
             [
              0.3333333333333333,
              "#9c179e"
             ],
             [
              0.4444444444444444,
              "#bd3786"
             ],
             [
              0.5555555555555556,
              "#d8576b"
             ],
             [
              0.6666666666666666,
              "#ed7953"
             ],
             [
              0.7777777777777778,
              "#fb9f3a"
             ],
             [
              0.8888888888888888,
              "#fdca26"
             ],
             [
              1.0,
              "#f0f921"
             ]
            ]
           }
          ],
          "heatmapgl": [
           {
            "type": "heatmapgl",
            "colorbar": {
             "outlinewidth": 0,
             "ticks": ""
            },
            "colorscale": [
             [
              0.0,
              "#0d0887"
             ],
             [
              0.1111111111111111,
              "#46039f"
             ],
             [
              0.2222222222222222,
              "#7201a8"
             ],
             [
              0.3333333333333333,
              "#9c179e"
             ],
             [
              0.4444444444444444,
              "#bd3786"
             ],
             [
              0.5555555555555556,
              "#d8576b"
             ],
             [
              0.6666666666666666,
              "#ed7953"
             ],
             [
              0.7777777777777778,
              "#fb9f3a"
             ],
             [
              0.8888888888888888,
              "#fdca26"
             ],
             [
              1.0,
              "#f0f921"
             ]
            ]
           }
          ],
          "contourcarpet": [
           {
            "type": "contourcarpet",
            "colorbar": {
             "outlinewidth": 0,
             "ticks": ""
            }
           }
          ],
          "contour": [
           {
            "type": "contour",
            "colorbar": {
             "outlinewidth": 0,
             "ticks": ""
            },
            "colorscale": [
             [
              0.0,
              "#0d0887"
             ],
             [
              0.1111111111111111,
              "#46039f"
             ],
             [
              0.2222222222222222,
              "#7201a8"
             ],
             [
              0.3333333333333333,
              "#9c179e"
             ],
             [
              0.4444444444444444,
              "#bd3786"
             ],
             [
              0.5555555555555556,
              "#d8576b"
             ],
             [
              0.6666666666666666,
              "#ed7953"
             ],
             [
              0.7777777777777778,
              "#fb9f3a"
             ],
             [
              0.8888888888888888,
              "#fdca26"
             ],
             [
              1.0,
              "#f0f921"
             ]
            ]
           }
          ],
          "surface": [
           {
            "type": "surface",
            "colorbar": {
             "outlinewidth": 0,
             "ticks": ""
            },
            "colorscale": [
             [
              0.0,
              "#0d0887"
             ],
             [
              0.1111111111111111,
              "#46039f"
             ],
             [
              0.2222222222222222,
              "#7201a8"
             ],
             [
              0.3333333333333333,
              "#9c179e"
             ],
             [
              0.4444444444444444,
              "#bd3786"
             ],
             [
              0.5555555555555556,
              "#d8576b"
             ],
             [
              0.6666666666666666,
              "#ed7953"
             ],
             [
              0.7777777777777778,
              "#fb9f3a"
             ],
             [
              0.8888888888888888,
              "#fdca26"
             ],
             [
              1.0,
              "#f0f921"
             ]
            ]
           }
          ],
          "mesh3d": [
           {
            "type": "mesh3d",
            "colorbar": {
             "outlinewidth": 0,
             "ticks": ""
            }
           }
          ],
          "scatter": [
           {
            "fillpattern": {
             "fillmode": "overlay",
             "size": 10,
             "solidity": 0.2
            },
            "type": "scatter"
           }
          ],
          "parcoords": [
           {
            "type": "parcoords",
            "line": {
             "colorbar": {
              "outlinewidth": 0,
              "ticks": ""
             }
            }
           }
          ],
          "scatterpolargl": [
           {
            "type": "scatterpolargl",
            "marker": {
             "colorbar": {
              "outlinewidth": 0,
              "ticks": ""
             }
            }
           }
          ],
          "bar": [
           {
            "error_x": {
             "color": "#2a3f5f"
            },
            "error_y": {
             "color": "#2a3f5f"
            },
            "marker": {
             "line": {
              "color": "#E5ECF6",
              "width": 0.5
             },
             "pattern": {
              "fillmode": "overlay",
              "size": 10,
              "solidity": 0.2
             }
            },
            "type": "bar"
           }
          ],
          "scattergeo": [
           {
            "type": "scattergeo",
            "marker": {
             "colorbar": {
              "outlinewidth": 0,
              "ticks": ""
             }
            }
           }
          ],
          "scatterpolar": [
           {
            "type": "scatterpolar",
            "marker": {
             "colorbar": {
              "outlinewidth": 0,
              "ticks": ""
             }
            }
           }
          ],
          "histogram": [
           {
            "marker": {
             "pattern": {
              "fillmode": "overlay",
              "size": 10,
              "solidity": 0.2
             }
            },
            "type": "histogram"
           }
          ],
          "scattergl": [
           {
            "type": "scattergl",
            "marker": {
             "colorbar": {
              "outlinewidth": 0,
              "ticks": ""
             }
            }
           }
          ],
          "scatter3d": [
           {
            "type": "scatter3d",
            "line": {
             "colorbar": {
              "outlinewidth": 0,
              "ticks": ""
             }
            },
            "marker": {
             "colorbar": {
              "outlinewidth": 0,
              "ticks": ""
             }
            }
           }
          ],
          "scattermapbox": [
           {
            "type": "scattermapbox",
            "marker": {
             "colorbar": {
              "outlinewidth": 0,
              "ticks": ""
             }
            }
           }
          ],
          "scatterternary": [
           {
            "type": "scatterternary",
            "marker": {
             "colorbar": {
              "outlinewidth": 0,
              "ticks": ""
             }
            }
           }
          ],
          "scattercarpet": [
           {
            "type": "scattercarpet",
            "marker": {
             "colorbar": {
              "outlinewidth": 0,
              "ticks": ""
             }
            }
           }
          ],
          "carpet": [
           {
            "aaxis": {
             "endlinecolor": "#2a3f5f",
             "gridcolor": "white",
             "linecolor": "white",
             "minorgridcolor": "white",
             "startlinecolor": "#2a3f5f"
            },
            "baxis": {
             "endlinecolor": "#2a3f5f",
             "gridcolor": "white",
             "linecolor": "white",
             "minorgridcolor": "white",
             "startlinecolor": "#2a3f5f"
            },
            "type": "carpet"
           }
          ],
          "table": [
           {
            "cells": {
             "fill": {
              "color": "#EBF0F8"
             },
             "line": {
              "color": "white"
             }
            },
            "header": {
             "fill": {
              "color": "#C8D4E3"
             },
             "line": {
              "color": "white"
             }
            },
            "type": "table"
           }
          ],
          "barpolar": [
           {
            "marker": {
             "line": {
              "color": "#E5ECF6",
              "width": 0.5
             },
             "pattern": {
              "fillmode": "overlay",
              "size": 10,
              "solidity": 0.2
             }
            },
            "type": "barpolar"
           }
          ],
          "pie": [
           {
            "automargin": true,
            "type": "pie"
           }
          ]
         },
         "layout": {
          "autotypenumbers": "strict",
          "colorway": [
           "#636efa",
           "#EF553B",
           "#00cc96",
           "#ab63fa",
           "#FFA15A",
           "#19d3f3",
           "#FF6692",
           "#B6E880",
           "#FF97FF",
           "#FECB52"
          ],
          "font": {
           "color": "#2a3f5f"
          },
          "hovermode": "closest",
          "hoverlabel": {
           "align": "left"
          },
          "paper_bgcolor": "white",
          "plot_bgcolor": "#E5ECF6",
          "polar": {
           "bgcolor": "#E5ECF6",
           "angularaxis": {
            "gridcolor": "white",
            "linecolor": "white",
            "ticks": ""
           },
           "radialaxis": {
            "gridcolor": "white",
            "linecolor": "white",
            "ticks": ""
           }
          },
          "ternary": {
           "bgcolor": "#E5ECF6",
           "aaxis": {
            "gridcolor": "white",
            "linecolor": "white",
            "ticks": ""
           },
           "baxis": {
            "gridcolor": "white",
            "linecolor": "white",
            "ticks": ""
           },
           "caxis": {
            "gridcolor": "white",
            "linecolor": "white",
            "ticks": ""
           }
          },
          "coloraxis": {
           "colorbar": {
            "outlinewidth": 0,
            "ticks": ""
           }
          },
          "colorscale": {
           "sequential": [
            [
             0.0,
             "#0d0887"
            ],
            [
             0.1111111111111111,
             "#46039f"
            ],
            [
             0.2222222222222222,
             "#7201a8"
            ],
            [
             0.3333333333333333,
             "#9c179e"
            ],
            [
             0.4444444444444444,
             "#bd3786"
            ],
            [
             0.5555555555555556,
             "#d8576b"
            ],
            [
             0.6666666666666666,
             "#ed7953"
            ],
            [
             0.7777777777777778,
             "#fb9f3a"
            ],
            [
             0.8888888888888888,
             "#fdca26"
            ],
            [
             1.0,
             "#f0f921"
            ]
           ],
           "sequentialminus": [
            [
             0.0,
             "#0d0887"
            ],
            [
             0.1111111111111111,
             "#46039f"
            ],
            [
             0.2222222222222222,
             "#7201a8"
            ],
            [
             0.3333333333333333,
             "#9c179e"
            ],
            [
             0.4444444444444444,
             "#bd3786"
            ],
            [
             0.5555555555555556,
             "#d8576b"
            ],
            [
             0.6666666666666666,
             "#ed7953"
            ],
            [
             0.7777777777777778,
             "#fb9f3a"
            ],
            [
             0.8888888888888888,
             "#fdca26"
            ],
            [
             1.0,
             "#f0f921"
            ]
           ],
           "diverging": [
            [
             0,
             "#8e0152"
            ],
            [
             0.1,
             "#c51b7d"
            ],
            [
             0.2,
             "#de77ae"
            ],
            [
             0.3,
             "#f1b6da"
            ],
            [
             0.4,
             "#fde0ef"
            ],
            [
             0.5,
             "#f7f7f7"
            ],
            [
             0.6,
             "#e6f5d0"
            ],
            [
             0.7,
             "#b8e186"
            ],
            [
             0.8,
             "#7fbc41"
            ],
            [
             0.9,
             "#4d9221"
            ],
            [
             1,
             "#276419"
            ]
           ]
          },
          "xaxis": {
           "gridcolor": "white",
           "linecolor": "white",
           "ticks": "",
           "title": {
            "standoff": 15
           },
           "zerolinecolor": "white",
           "automargin": true,
           "zerolinewidth": 2
          },
          "yaxis": {
           "gridcolor": "white",
           "linecolor": "white",
           "ticks": "",
           "title": {
            "standoff": 15
           },
           "zerolinecolor": "white",
           "automargin": true,
           "zerolinewidth": 2
          },
          "scene": {
           "xaxis": {
            "backgroundcolor": "#E5ECF6",
            "gridcolor": "white",
            "linecolor": "white",
            "showbackground": true,
            "ticks": "",
            "zerolinecolor": "white",
            "gridwidth": 2
           },
           "yaxis": {
            "backgroundcolor": "#E5ECF6",
            "gridcolor": "white",
            "linecolor": "white",
            "showbackground": true,
            "ticks": "",
            "zerolinecolor": "white",
            "gridwidth": 2
           },
           "zaxis": {
            "backgroundcolor": "#E5ECF6",
            "gridcolor": "white",
            "linecolor": "white",
            "showbackground": true,
            "ticks": "",
            "zerolinecolor": "white",
            "gridwidth": 2
           }
          },
          "shapedefaults": {
           "line": {
            "color": "#2a3f5f"
           }
          },
          "annotationdefaults": {
           "arrowcolor": "#2a3f5f",
           "arrowhead": 0,
           "arrowwidth": 1
          },
          "geo": {
           "bgcolor": "white",
           "landcolor": "#E5ECF6",
           "subunitcolor": "white",
           "showland": true,
           "showlakes": true,
           "lakecolor": "white"
          },
          "title": {
           "x": 0.05
          },
          "mapbox": {
           "style": "light"
          }
         }
        },
        "xaxis": {
         "anchor": "y",
         "domain": [
          0.0,
          0.3133333333333333
         ],
         "title": {
          "text": ""
         },
         "tickvals": [
          0,
          1,
          2,
          3
         ],
         "ticktext": [
          "NYC",
          "Man",
          "Chic",
          "DC"
         ]
        },
        "yaxis": {
         "anchor": "x",
         "domain": [
          0.0,
          0.3133333333333333
         ],
         "title": {
          "text": ""
         }
        },
        "xaxis2": {
         "anchor": "y2",
         "domain": [
          0.3333333333333333,
          0.6466666666666666
         ],
         "matches": "x",
         "title": {
          "text": ""
         },
         "tickvals": [
          0,
          1,
          2,
          3
         ],
         "ticktext": [
          "NYC",
          "Man",
          "Chic",
          "DC"
         ]
        },
        "yaxis2": {
         "anchor": "x2",
         "domain": [
          0.0,
          0.3133333333333333
         ],
         "matches": "y",
         "showticklabels": false,
         "title": {
          "text": ""
         }
        },
        "xaxis3": {
         "anchor": "y3",
         "domain": [
          0.6666666666666666,
          0.98
         ],
         "matches": "x",
         "title": {
          "text": ""
         },
         "tickvals": [
          0,
          1,
          2,
          3
         ],
         "ticktext": [
          "NYC",
          "Man",
          "Chic",
          "DC"
         ]
        },
        "yaxis3": {
         "anchor": "x3",
         "domain": [
          0.0,
          0.3133333333333333
         ],
         "matches": "y",
         "showticklabels": false,
         "title": {
          "text": ""
         }
        },
        "xaxis4": {
         "anchor": "y4",
         "domain": [
          0.0,
          0.3133333333333333
         ],
         "matches": "x",
         "showticklabels": false,
         "title": {
          "text": ""
         },
         "tickvals": [
          0,
          1,
          2,
          3
         ],
         "ticktext": [
          "NYC",
          "Man",
          "Chic",
          "DC"
         ]
        },
        "yaxis4": {
         "anchor": "x4",
         "domain": [
          0.34333333333333327,
          0.6566666666666665
         ],
         "matches": "y",
         "title": {
          "text": ""
         }
        },
        "xaxis5": {
         "anchor": "y5",
         "domain": [
          0.3333333333333333,
          0.6466666666666666
         ],
         "matches": "x",
         "showticklabels": false,
         "title": {
          "text": ""
         },
         "tickvals": [
          0,
          1,
          2,
          3
         ],
         "ticktext": [
          "NYC",
          "Man",
          "Chic",
          "DC"
         ]
        },
        "yaxis5": {
         "anchor": "x5",
         "domain": [
          0.34333333333333327,
          0.6566666666666665
         ],
         "matches": "y",
         "showticklabels": false,
         "title": {
          "text": ""
         }
        },
        "xaxis6": {
         "anchor": "y6",
         "domain": [
          0.6666666666666666,
          0.98
         ],
         "matches": "x",
         "showticklabels": false,
         "title": {
          "text": ""
         },
         "tickvals": [
          0,
          1,
          2,
          3
         ],
         "ticktext": [
          "NYC",
          "Man",
          "Chic",
          "DC"
         ]
        },
        "yaxis6": {
         "anchor": "x6",
         "domain": [
          0.34333333333333327,
          0.6566666666666665
         ],
         "matches": "y",
         "showticklabels": false,
         "title": {
          "text": ""
         }
        },
        "xaxis7": {
         "anchor": "y7",
         "domain": [
          0.0,
          0.3133333333333333
         ],
         "matches": "x",
         "showticklabels": false,
         "title": {
          "text": ""
         },
         "tickvals": [
          0,
          1,
          2,
          3
         ],
         "ticktext": [
          "NYC",
          "Man",
          "Chic",
          "DC"
         ]
        },
        "yaxis7": {
         "anchor": "x7",
         "domain": [
          0.6866666666666665,
          0.9999999999999998
         ],
         "matches": "y",
         "title": {
          "text": ""
         }
        },
        "xaxis8": {
         "anchor": "y8",
         "domain": [
          0.3333333333333333,
          0.6466666666666666
         ],
         "matches": "x",
         "showticklabels": false,
         "title": {
          "text": ""
         },
         "tickvals": [
          0,
          1,
          2,
          3
         ],
         "ticktext": [
          "NYC",
          "Man",
          "Chic",
          "DC"
         ]
        },
        "yaxis8": {
         "anchor": "x8",
         "domain": [
          0.6866666666666665,
          0.9999999999999998
         ],
         "matches": "y",
         "showticklabels": false,
         "title": {
          "text": ""
         }
        },
        "xaxis9": {
         "anchor": "y9",
         "domain": [
          0.6666666666666666,
          0.98
         ],
         "matches": "x",
         "showticklabels": false,
         "title": {
          "text": ""
         },
         "tickvals": [
          0,
          1,
          2,
          3
         ],
         "ticktext": [
          "NYC",
          "Man",
          "Chic",
          "DC"
         ]
        },
        "yaxis9": {
         "anchor": "x9",
         "domain": [
          0.6866666666666665,
          0.9999999999999998
         ],
         "matches": "y",
         "showticklabels": false,
         "title": {
          "text": ""
         }
        },
        "annotations": [
         {
          "showarrow": false,
          "text": "1.0",
          "x": 0.15666666666666665,
          "xanchor": "center",
          "xref": "paper",
          "y": 0.9999999999999998,
          "yanchor": "bottom",
          "yref": "paper"
         },
         {
          "showarrow": false,
          "text": "5.0",
          "x": 0.49,
          "xanchor": "center",
          "xref": "paper",
          "y": 0.9999999999999998,
          "yanchor": "bottom",
          "yref": "paper"
         },
         {
          "showarrow": false,
          "text": "30.0",
          "x": 0.8233333333333333,
          "xanchor": "center",
          "xref": "paper",
          "y": 0.9999999999999998,
          "yanchor": "bottom",
          "yref": "paper"
         },
         {
          "showarrow": false,
          "text": "600",
          "textangle": 90,
          "x": 0.98,
          "xanchor": "left",
          "xref": "paper",
          "y": 0.15666666666666665,
          "yanchor": "middle",
          "yref": "paper"
         },
         {
          "showarrow": false,
          "text": "300",
          "textangle": 90,
          "x": 0.98,
          "xanchor": "left",
          "xref": "paper",
          "y": 0.4999999999999999,
          "yanchor": "middle",
          "yref": "paper"
         },
         {
          "showarrow": false,
          "text": "180",
          "textangle": 90,
          "x": 0.98,
          "xanchor": "left",
          "xref": "paper",
          "y": 0.8433333333333332,
          "yanchor": "middle",
          "yref": "paper"
         },
         {
          "showarrow": false,
          "text": "% of time",
          "textangle": -90,
          "x": -0.08,
          "xref": "paper",
          "y": 0.5,
          "yref": "paper"
         },
         {
          "showarrow": false,
          "text": "Occupancy",
          "x": 0.5,
          "xref": "paper",
          "y": -0.12,
          "yref": "paper"
         }
        ],
        "legend": {
         "title": {
          "text": "oc_str"
         },
         "tracegroupgap": 0
        },
        "margin": {
         "t": 0,
         "l": 0,
         "r": 7,
         "b": 0
        },
        "barmode": "group",
        "height": 300,
        "width": 450,
        "showlegend": false
       },
       "config": {
        "plotlyServerURL": "https://plot.ly"
       }
      },
      "text/html": "<div>                            <div id=\"5eb592a6-5936-4f15-8e1f-599c4f149449\" class=\"plotly-graph-div\" style=\"height:300px; width:450px;\"></div>            <script type=\"text/javascript\">                require([\"plotly\"], function(Plotly) {                    window.PLOTLYENV=window.PLOTLYENV || {};                                    if (document.getElementById(\"5eb592a6-5936-4f15-8e1f-599c4f149449\")) {                    Plotly.newPlot(                        \"5eb592a6-5936-4f15-8e1f-599c4f149449\",                        [{\"alignmentgroup\":\"True\",\"hovertemplate\":\"oc_str=0<br>max_delay=180<br>duration_minutes=1.0<br>area=%{x}<br>percent=%{y}<extra></extra>\",\"legendgroup\":\"0\",\"marker\":{\"color\":\"#f51302\",\"pattern\":{\"shape\":\"\"}},\"name\":\"0\",\"offsetgroup\":\"0\",\"orientation\":\"v\",\"showlegend\":true,\"textposition\":\"auto\",\"x\":[\"NYC\",\"Manhattan\",\"Chicago\",\"DC\"],\"xaxis\":\"x7\",\"y\":[20.301015646095067,18.65922986163252,26.346986346986345,29.606088483733377],\"yaxis\":\"y7\",\"type\":\"bar\"},{\"alignmentgroup\":\"True\",\"hovertemplate\":\"oc_str=0<br>max_delay=180<br>duration_minutes=5.0<br>area=%{x}<br>percent=%{y}<extra></extra>\",\"legendgroup\":\"0\",\"marker\":{\"color\":\"#f51302\",\"pattern\":{\"shape\":\"\"}},\"name\":\"0\",\"offsetgroup\":\"0\",\"orientation\":\"v\",\"showlegend\":false,\"textposition\":\"auto\",\"x\":[\"NYC\",\"Manhattan\",\"Chicago\",\"DC\"],\"xaxis\":\"x8\",\"y\":[15.556003441165783,11.473902813104322,20.6190311816822,33.4605297847836],\"yaxis\":\"y8\",\"type\":\"bar\"},{\"alignmentgroup\":\"True\",\"hovertemplate\":\"oc_str=0<br>max_delay=180<br>duration_minutes=30.0<br>area=%{x}<br>percent=%{y}<extra></extra>\",\"legendgroup\":\"0\",\"marker\":{\"color\":\"#f51302\",\"pattern\":{\"shape\":\"\"}},\"name\":\"0\",\"offsetgroup\":\"0\",\"orientation\":\"v\",\"showlegend\":false,\"textposition\":\"auto\",\"x\":[\"NYC\",\"Manhattan\",\"Chicago\",\"DC\"],\"xaxis\":\"x9\",\"y\":[12.698490445017077,6.513740145272191,19.089328182134363,27.663949284745026],\"yaxis\":\"y9\",\"type\":\"bar\"},{\"alignmentgroup\":\"True\",\"hovertemplate\":\"oc_str=0<br>max_delay=300<br>duration_minutes=1.0<br>area=%{x}<br>percent=%{y}<extra></extra>\",\"legendgroup\":\"0\",\"marker\":{\"color\":\"#f51302\",\"pattern\":{\"shape\":\"\"}},\"name\":\"0\",\"offsetgroup\":\"0\",\"orientation\":\"v\",\"showlegend\":false,\"textposition\":\"auto\",\"x\":[\"NYC\",\"Manhattan\",\"Chicago\",\"DC\"],\"xaxis\":\"x4\",\"y\":[15.115294909711702,12.457289866141414,25.497445549879,29.606088483733377],\"yaxis\":\"y4\",\"type\":\"bar\"},{\"alignmentgroup\":\"True\",\"hovertemplate\":\"oc_str=0<br>max_delay=300<br>duration_minutes=5.0<br>area=%{x}<br>percent=%{y}<extra></extra>\",\"legendgroup\":\"0\",\"marker\":{\"color\":\"#f51302\",\"pattern\":{\"shape\":\"\"}},\"name\":\"0\",\"offsetgroup\":\"0\",\"orientation\":\"v\",\"showlegend\":false,\"textposition\":\"auto\",\"x\":[\"NYC\",\"Manhattan\",\"Chicago\",\"DC\"],\"xaxis\":\"x5\",\"y\":[8.733201042591709,7.412009706899816,12.53574443748468,28.41468086736649],\"yaxis\":\"y5\",\"type\":\"bar\"},{\"alignmentgroup\":\"True\",\"hovertemplate\":\"oc_str=0<br>max_delay=300<br>duration_minutes=30.0<br>area=%{x}<br>percent=%{y}<extra></extra>\",\"legendgroup\":\"0\",\"marker\":{\"color\":\"#f51302\",\"pattern\":{\"shape\":\"\"}},\"name\":\"0\",\"offsetgroup\":\"0\",\"orientation\":\"v\",\"showlegend\":false,\"textposition\":\"auto\",\"x\":[\"NYC\",\"Manhattan\",\"Chicago\",\"DC\"],\"xaxis\":\"x6\",\"y\":[7.2496902145820314,3.85389518885636,14.332808122454354,24.74279744302587],\"yaxis\":\"y6\",\"type\":\"bar\"},{\"alignmentgroup\":\"True\",\"hovertemplate\":\"oc_str=0<br>max_delay=600<br>duration_minutes=1.0<br>area=%{x}<br>percent=%{y}<extra></extra>\",\"legendgroup\":\"0\",\"marker\":{\"color\":\"#f51302\",\"pattern\":{\"shape\":\"\"}},\"name\":\"0\",\"offsetgroup\":\"0\",\"orientation\":\"v\",\"showlegend\":false,\"textposition\":\"auto\",\"x\":[\"NYC\",\"Manhattan\",\"Chicago\",\"DC\"],\"xaxis\":\"x\",\"y\":[9.766543813704418,7.5531098942261385,17.198038013488656,25.644631973745895],\"yaxis\":\"y\",\"type\":\"bar\"},{\"alignmentgroup\":\"True\",\"hovertemplate\":\"oc_str=0<br>max_delay=600<br>duration_minutes=5.0<br>area=%{x}<br>percent=%{y}<extra></extra>\",\"legendgroup\":\"0\",\"marker\":{\"color\":\"#f51302\",\"pattern\":{\"shape\":\"\"}},\"name\":\"0\",\"offsetgroup\":\"0\",\"orientation\":\"v\",\"showlegend\":false,\"textposition\":\"auto\",\"x\":[\"NYC\",\"Manhattan\",\"Chicago\",\"DC\"],\"xaxis\":\"x2\",\"y\":[5.2751774666790325,4.127845868406862,8.000785032055475,20.933994631397436],\"yaxis\":\"y2\",\"type\":\"bar\"},{\"alignmentgroup\":\"True\",\"hovertemplate\":\"oc_str=0<br>max_delay=600<br>duration_minutes=30.0<br>area=%{x}<br>percent=%{y}<extra></extra>\",\"legendgroup\":\"0\",\"marker\":{\"color\":\"#f51302\",\"pattern\":{\"shape\":\"\"}},\"name\":\"0\",\"offsetgroup\":\"0\",\"orientation\":\"v\",\"showlegend\":false,\"textposition\":\"auto\",\"x\":[\"NYC\",\"Manhattan\",\"Chicago\",\"DC\"],\"xaxis\":\"x3\",\"y\":[3.505843091254331,2.001858710686406,5.6071149081395975,19.40242031229388],\"yaxis\":\"y3\",\"type\":\"bar\"},{\"alignmentgroup\":\"True\",\"hovertemplate\":\"oc_str=1<br>max_delay=180<br>duration_minutes=1.0<br>area=%{x}<br>percent=%{y}<extra></extra>\",\"legendgroup\":\"1\",\"marker\":{\"color\":\"#0206f5\",\"pattern\":{\"shape\":\"\"}},\"name\":\"1\",\"offsetgroup\":\"1\",\"orientation\":\"v\",\"showlegend\":true,\"textposition\":\"auto\",\"x\":[\"NYC\",\"Manhattan\",\"Chicago\",\"DC\"],\"xaxis\":\"x7\",\"y\":[70.22798352684542,60.19092566770353,71.9014319014319,70.39391151626663],\"yaxis\":\"y7\",\"type\":\"bar\"},{\"alignmentgroup\":\"True\",\"hovertemplate\":\"oc_str=1<br>max_delay=180<br>duration_minutes=5.0<br>area=%{x}<br>percent=%{y}<extra></extra>\",\"legendgroup\":\"1\",\"marker\":{\"color\":\"#0206f5\",\"pattern\":{\"shape\":\"\"}},\"name\":\"1\",\"offsetgroup\":\"1\",\"orientation\":\"v\",\"showlegend\":false,\"textposition\":\"auto\",\"x\":[\"NYC\",\"Manhattan\",\"Chicago\",\"DC\"],\"xaxis\":\"x8\",\"y\":[62.8134354831683,48.626630974949116,66.56196064894719,63.785088875629626],\"yaxis\":\"y8\",\"type\":\"bar\"},{\"alignmentgroup\":\"True\",\"hovertemplate\":\"oc_str=1<br>max_delay=180<br>duration_minutes=30.0<br>area=%{x}<br>percent=%{y}<extra></extra>\",\"legendgroup\":\"1\",\"marker\":{\"color\":\"#0206f5\",\"pattern\":{\"shape\":\"\"}},\"name\":\"1\",\"offsetgroup\":\"1\",\"orientation\":\"v\",\"showlegend\":false,\"textposition\":\"auto\",\"x\":[\"NYC\",\"Manhattan\",\"Chicago\",\"DC\"],\"xaxis\":\"x9\",\"y\":[57.06247911494462,42.88203615855788,58.40801631839674,59.54484716021504],\"yaxis\":\"y9\",\"type\":\"bar\"},{\"alignmentgroup\":\"True\",\"hovertemplate\":\"oc_str=1<br>max_delay=300<br>duration_minutes=1.0<br>area=%{x}<br>percent=%{y}<extra></extra>\",\"legendgroup\":\"1\",\"marker\":{\"color\":\"#0206f5\",\"pattern\":{\"shape\":\"\"}},\"name\":\"1\",\"offsetgroup\":\"1\",\"orientation\":\"v\",\"showlegend\":false,\"textposition\":\"auto\",\"x\":[\"NYC\",\"Manhattan\",\"Chicago\",\"DC\"],\"xaxis\":\"x4\",\"y\":[65.00060112048858,54.10057482815452,71.16160258133907,70.39391151626663],\"yaxis\":\"y4\",\"type\":\"bar\"},{\"alignmentgroup\":\"True\",\"hovertemplate\":\"oc_str=1<br>max_delay=300<br>duration_minutes=5.0<br>area=%{x}<br>percent=%{y}<extra></extra>\",\"legendgroup\":\"1\",\"marker\":{\"color\":\"#0206f5\",\"pattern\":{\"shape\":\"\"}},\"name\":\"1\",\"offsetgroup\":\"1\",\"orientation\":\"v\",\"showlegend\":false,\"textposition\":\"auto\",\"x\":[\"NYC\",\"Manhattan\",\"Chicago\",\"DC\"],\"xaxis\":\"x5\",\"y\":[58.08299512909767,44.600967247818524,69.38778289169095,64.23569075166654],\"yaxis\":\"y5\",\"type\":\"bar\"},{\"alignmentgroup\":\"True\",\"hovertemplate\":\"oc_str=1<br>max_delay=300<br>duration_minutes=30.0<br>area=%{x}<br>percent=%{y}<extra></extra>\",\"legendgroup\":\"1\",\"marker\":{\"color\":\"#0206f5\",\"pattern\":{\"shape\":\"\"}},\"name\":\"1\",\"offsetgroup\":\"1\",\"orientation\":\"v\",\"showlegend\":false,\"textposition\":\"auto\",\"x\":[\"NYC\",\"Manhattan\",\"Chicago\",\"DC\"],\"xaxis\":\"x6\",\"y\":[49.32882682229175,33.420093454623824,50.497209722606925,50.487253495770844],\"yaxis\":\"y6\",\"type\":\"bar\"},{\"alignmentgroup\":\"True\",\"hovertemplate\":\"oc_str=1<br>max_delay=600<br>duration_minutes=1.0<br>area=%{x}<br>percent=%{y}<extra></extra>\",\"legendgroup\":\"1\",\"marker\":{\"color\":\"#0206f5\",\"pattern\":{\"shape\":\"\"}},\"name\":\"1\",\"offsetgroup\":\"1\",\"orientation\":\"v\",\"showlegend\":false,\"textposition\":\"auto\",\"x\":[\"NYC\",\"Manhattan\",\"Chicago\",\"DC\"],\"xaxis\":\"x\",\"y\":[55.26729853269827,41.258940834418425,74.06499080318822,64.91326769807783],\"yaxis\":\"y\",\"type\":\"bar\"},{\"alignmentgroup\":\"True\",\"hovertemplate\":\"oc_str=1<br>max_delay=600<br>duration_minutes=5.0<br>area=%{x}<br>percent=%{y}<extra></extra>\",\"legendgroup\":\"1\",\"marker\":{\"color\":\"#0206f5\",\"pattern\":{\"shape\":\"\"}},\"name\":\"1\",\"offsetgroup\":\"1\",\"orientation\":\"v\",\"showlegend\":false,\"textposition\":\"auto\",\"x\":[\"NYC\",\"Manhattan\",\"Chicago\",\"DC\"],\"xaxis\":\"x2\",\"y\":[47.84550105650048,34.987250143949986,54.82467617427712,58.54798855172169],\"yaxis\":\"y2\",\"type\":\"bar\"},{\"alignmentgroup\":\"True\",\"hovertemplate\":\"oc_str=1<br>max_delay=600<br>duration_minutes=30.0<br>area=%{x}<br>percent=%{y}<extra></extra>\",\"legendgroup\":\"1\",\"marker\":{\"color\":\"#0206f5\",\"pattern\":{\"shape\":\"\"}},\"name\":\"1\",\"offsetgroup\":\"1\",\"orientation\":\"v\",\"showlegend\":false,\"textposition\":\"auto\",\"x\":[\"NYC\",\"Manhattan\",\"Chicago\",\"DC\"],\"xaxis\":\"x3\",\"y\":[38.43281567461865,23.090551086689043,42.61797203646729,41.25813192993175],\"yaxis\":\"y3\",\"type\":\"bar\"},{\"alignmentgroup\":\"True\",\"hovertemplate\":\"oc_str=2<br>max_delay=180<br>duration_minutes=1.0<br>area=%{x}<br>percent=%{y}<extra></extra>\",\"legendgroup\":\"2\",\"marker\":{\"color\":\"#0206f5\",\"pattern\":{\"shape\":\"\"}},\"name\":\"2\",\"offsetgroup\":\"2\",\"orientation\":\"v\",\"showlegend\":true,\"textposition\":\"auto\",\"x\":[\"NYC\",\"Manhattan\",\"Chicago\",\"DC\"],\"xaxis\":\"x7\",\"y\":[8.917147346287056,19.74900783009761,1.7515817515817518,0.0],\"yaxis\":\"y7\",\"type\":\"bar\"},{\"alignmentgroup\":\"True\",\"hovertemplate\":\"oc_str=2<br>max_delay=180<br>duration_minutes=5.0<br>area=%{x}<br>percent=%{y}<extra></extra>\",\"legendgroup\":\"2\",\"marker\":{\"color\":\"#0206f5\",\"pattern\":{\"shape\":\"\"}},\"name\":\"2\",\"offsetgroup\":\"2\",\"orientation\":\"v\",\"showlegend\":false,\"textposition\":\"auto\",\"x\":[\"NYC\",\"Manhattan\",\"Chicago\",\"DC\"],\"xaxis\":\"x8\",\"y\":[18.38318826786517,31.381085294948857,12.56011966402025,2.754381339586774],\"yaxis\":\"y8\",\"type\":\"bar\"},{\"alignmentgroup\":\"True\",\"hovertemplate\":\"oc_str=2<br>max_delay=180<br>duration_minutes=30.0<br>area=%{x}<br>percent=%{y}<extra></extra>\",\"legendgroup\":\"2\",\"marker\":{\"color\":\"#0206f5\",\"pattern\":{\"shape\":\"\"}},\"name\":\"2\",\"offsetgroup\":\"2\",\"orientation\":\"v\",\"showlegend\":false,\"textposition\":\"auto\",\"x\":[\"NYC\",\"Manhattan\",\"Chicago\",\"DC\"],\"xaxis\":\"x9\",\"y\":[23.278338076623765,34.40351660444188,16.96530460693908,11.741368773241902],\"yaxis\":\"y9\",\"type\":\"bar\"},{\"alignmentgroup\":\"True\",\"hovertemplate\":\"oc_str=2<br>max_delay=300<br>duration_minutes=1.0<br>area=%{x}<br>percent=%{y}<extra></extra>\",\"legendgroup\":\"2\",\"marker\":{\"color\":\"#0206f5\",\"pattern\":{\"shape\":\"\"}},\"name\":\"2\",\"offsetgroup\":\"2\",\"orientation\":\"v\",\"showlegend\":false,\"textposition\":\"auto\",\"x\":[\"NYC\",\"Manhattan\",\"Chicago\",\"DC\"],\"xaxis\":\"x4\",\"y\":[17.8931929115872,27.863488362744704,2.6283947297660664,0.0],\"yaxis\":\"y4\",\"type\":\"bar\"},{\"alignmentgroup\":\"True\",\"hovertemplate\":\"oc_str=2<br>max_delay=300<br>duration_minutes=5.0<br>area=%{x}<br>percent=%{y}<extra></extra>\",\"legendgroup\":\"2\",\"marker\":{\"color\":\"#0206f5\",\"pattern\":{\"shape\":\"\"}},\"name\":\"2\",\"offsetgroup\":\"2\",\"orientation\":\"v\",\"showlegend\":false,\"textposition\":\"auto\",\"x\":[\"NYC\",\"Manhattan\",\"Chicago\",\"DC\"],\"xaxis\":\"x5\",\"y\":[25.848356525905185,30.976541658778377,11.018818595277649,7.259213853344572],\"yaxis\":\"y5\",\"type\":\"bar\"},{\"alignmentgroup\":\"True\",\"hovertemplate\":\"oc_str=2<br>max_delay=300<br>duration_minutes=30.0<br>area=%{x}<br>percent=%{y}<extra></extra>\",\"legendgroup\":\"2\",\"marker\":{\"color\":\"#0206f5\",\"pattern\":{\"shape\":\"\"}},\"name\":\"2\",\"offsetgroup\":\"2\",\"orientation\":\"v\",\"showlegend\":false,\"textposition\":\"auto\",\"x\":[\"NYC\",\"Manhattan\",\"Chicago\",\"DC\"],\"xaxis\":\"x6\",\"y\":[29.07483757232091,31.679635573657183,24.92246706836974,22.859301495109758],\"yaxis\":\"y6\",\"type\":\"bar\"},{\"alignmentgroup\":\"True\",\"hovertemplate\":\"oc_str=2<br>max_delay=600<br>duration_minutes=1.0<br>area=%{x}<br>percent=%{y}<extra></extra>\",\"legendgroup\":\"2\",\"marker\":{\"color\":\"#0206f5\",\"pattern\":{\"shape\":\"\"}},\"name\":\"2\",\"offsetgroup\":\"2\",\"orientation\":\"v\",\"showlegend\":false,\"textposition\":\"auto\",\"x\":[\"NYC\",\"Manhattan\",\"Chicago\",\"DC\"],\"xaxis\":\"x\",\"y\":[26.31302436968963,31.733050318391808,7.2271612507664,9.442100328176277],\"yaxis\":\"y\",\"type\":\"bar\"},{\"alignmentgroup\":\"True\",\"hovertemplate\":\"oc_str=2<br>max_delay=600<br>duration_minutes=5.0<br>area=%{x}<br>percent=%{y}<extra></extra>\",\"legendgroup\":\"2\",\"marker\":{\"color\":\"#0206f5\",\"pattern\":{\"shape\":\"\"}},\"name\":\"2\",\"offsetgroup\":\"2\",\"orientation\":\"v\",\"showlegend\":false,\"textposition\":\"auto\",\"x\":[\"NYC\",\"Manhattan\",\"Chicago\",\"DC\"],\"xaxis\":\"x2\",\"y\":[28.645546896275103,28.72766490270809,24.02688734790004,17.673724068049705],\"yaxis\":\"y2\",\"type\":\"bar\"},{\"alignmentgroup\":\"True\",\"hovertemplate\":\"oc_str=2<br>max_delay=600<br>duration_minutes=30.0<br>area=%{x}<br>percent=%{y}<extra></extra>\",\"legendgroup\":\"2\",\"marker\":{\"color\":\"#0206f5\",\"pattern\":{\"shape\":\"\"}},\"name\":\"2\",\"offsetgroup\":\"2\",\"orientation\":\"v\",\"showlegend\":false,\"textposition\":\"auto\",\"x\":[\"NYC\",\"Manhattan\",\"Chicago\",\"DC\"],\"xaxis\":\"x3\",\"y\":[29.29417034261378,24.985343929730554,26.313633422891225,28.785469794696976],\"yaxis\":\"y3\",\"type\":\"bar\"},{\"alignmentgroup\":\"True\",\"hovertemplate\":\"oc_str=3<br>max_delay=180<br>duration_minutes=1.0<br>area=%{x}<br>percent=%{y}<extra></extra>\",\"legendgroup\":\"3\",\"marker\":{\"color\":\"#0206f5\",\"pattern\":{\"shape\":\"\"}},\"name\":\"3\",\"offsetgroup\":\"3\",\"orientation\":\"v\",\"showlegend\":true,\"textposition\":\"auto\",\"x\":[\"NYC\",\"Manhattan\",\"Chicago\",\"DC\"],\"xaxis\":\"x7\",\"y\":[0.5347184276939497,1.386535092423755,0.0,0.0],\"yaxis\":\"y7\",\"type\":\"bar\"},{\"alignmentgroup\":\"True\",\"hovertemplate\":\"oc_str=3<br>max_delay=180<br>duration_minutes=5.0<br>area=%{x}<br>percent=%{y}<extra></extra>\",\"legendgroup\":\"3\",\"marker\":{\"color\":\"#0206f5\",\"pattern\":{\"shape\":\"\"}},\"name\":\"3\",\"offsetgroup\":\"3\",\"orientation\":\"v\",\"showlegend\":false,\"textposition\":\"auto\",\"x\":[\"NYC\",\"Manhattan\",\"Chicago\",\"DC\"],\"xaxis\":\"x8\",\"y\":[2.6171147730281157,7.036571308812742,0.15993556552755725,0.0],\"yaxis\":\"y8\",\"type\":\"bar\"},{\"alignmentgroup\":\"True\",\"hovertemplate\":\"oc_str=3<br>max_delay=180<br>duration_minutes=30.0<br>area=%{x}<br>percent=%{y}<extra></extra>\",\"legendgroup\":\"3\",\"marker\":{\"color\":\"#0206f5\",\"pattern\":{\"shape\":\"\"}},\"name\":\"3\",\"offsetgroup\":\"3\",\"orientation\":\"v\",\"showlegend\":false,\"textposition\":\"auto\",\"x\":[\"NYC\",\"Manhattan\",\"Chicago\",\"DC\"],\"xaxis\":\"x9\",\"y\":[4.716449910628783,11.90636696791881,2.052019589596082,0.35659163654067266],\"yaxis\":\"y9\",\"type\":\"bar\"},{\"alignmentgroup\":\"True\",\"hovertemplate\":\"oc_str=3<br>max_delay=300<br>duration_minutes=1.0<br>area=%{x}<br>percent=%{y}<extra></extra>\",\"legendgroup\":\"3\",\"marker\":{\"color\":\"#0206f5\",\"pattern\":{\"shape\":\"\"}},\"name\":\"3\",\"offsetgroup\":\"3\",\"orientation\":\"v\",\"showlegend\":false,\"textposition\":\"auto\",\"x\":[\"NYC\",\"Manhattan\",\"Chicago\",\"DC\"],\"xaxis\":\"x4\",\"y\":[1.721849527519296,5.188728544438638,0.7125571390158645,0.0],\"yaxis\":\"y4\",\"type\":\"bar\"},{\"alignmentgroup\":\"True\",\"hovertemplate\":\"oc_str=3<br>max_delay=300<br>duration_minutes=5.0<br>area=%{x}<br>percent=%{y}<extra></extra>\",\"legendgroup\":\"3\",\"marker\":{\"color\":\"#0206f5\",\"pattern\":{\"shape\":\"\"}},\"name\":\"3\",\"offsetgroup\":\"3\",\"orientation\":\"v\",\"showlegend\":false,\"textposition\":\"auto\",\"x\":[\"NYC\",\"Manhattan\",\"Chicago\",\"DC\"],\"xaxis\":\"x5\",\"y\":[5.881844319283651,12.549438066881228,6.71859255426346,0.0],\"yaxis\":\"y5\",\"type\":\"bar\"},{\"alignmentgroup\":\"True\",\"hovertemplate\":\"oc_str=3<br>max_delay=300<br>duration_minutes=30.0<br>area=%{x}<br>percent=%{y}<extra></extra>\",\"legendgroup\":\"3\",\"marker\":{\"color\":\"#0206f5\",\"pattern\":{\"shape\":\"\"}},\"name\":\"3\",\"offsetgroup\":\"3\",\"orientation\":\"v\",\"showlegend\":false,\"textposition\":\"auto\",\"x\":[\"NYC\",\"Manhattan\",\"Chicago\",\"DC\"],\"xaxis\":\"x6\",\"y\":[9.98906468639413,21.243282800891443,6.369279250234983,1.3510881306110885],\"yaxis\":\"y6\",\"type\":\"bar\"},{\"alignmentgroup\":\"True\",\"hovertemplate\":\"oc_str=3<br>max_delay=600<br>duration_minutes=1.0<br>area=%{x}<br>percent=%{y}<extra></extra>\",\"legendgroup\":\"3\",\"marker\":{\"color\":\"#0206f5\",\"pattern\":{\"shape\":\"\"}},\"name\":\"3\",\"offsetgroup\":\"3\",\"orientation\":\"v\",\"showlegend\":false,\"textposition\":\"auto\",\"x\":[\"NYC\",\"Manhattan\",\"Chicago\",\"DC\"],\"xaxis\":\"x\",\"y\":[7.266370468352472,15.460285749959867,1.5098099325567136,0.0],\"yaxis\":\"y\",\"type\":\"bar\"},{\"alignmentgroup\":\"True\",\"hovertemplate\":\"oc_str=3<br>max_delay=600<br>duration_minutes=5.0<br>area=%{x}<br>percent=%{y}<extra></extra>\",\"legendgroup\":\"3\",\"marker\":{\"color\":\"#0206f5\",\"pattern\":{\"shape\":\"\"}},\"name\":\"3\",\"offsetgroup\":\"3\",\"orientation\":\"v\",\"showlegend\":false,\"textposition\":\"auto\",\"x\":[\"NYC\",\"Manhattan\",\"Chicago\",\"DC\"],\"xaxis\":\"x2\",\"y\":[13.558176640263508,20.474166689515872,6.38329190108596,2.8442927488311733],\"yaxis\":\"y2\",\"type\":\"bar\"},{\"alignmentgroup\":\"True\",\"hovertemplate\":\"oc_str=3<br>max_delay=600<br>duration_minutes=30.0<br>area=%{x}<br>percent=%{y}<extra></extra>\",\"legendgroup\":\"3\",\"marker\":{\"color\":\"#0206f5\",\"pattern\":{\"shape\":\"\"}},\"name\":\"3\",\"offsetgroup\":\"3\",\"orientation\":\"v\",\"showlegend\":false,\"textposition\":\"auto\",\"x\":[\"NYC\",\"Manhattan\",\"Chicago\",\"DC\"],\"xaxis\":\"x3\",\"y\":[18.383548829136938,28.061476911293603,16.62414785809736,8.966125348015359],\"yaxis\":\"y3\",\"type\":\"bar\"},{\"alignmentgroup\":\"True\",\"hovertemplate\":\"oc_str=4<br>max_delay=180<br>duration_minutes=1.0<br>area=%{x}<br>percent=%{y}<extra></extra>\",\"legendgroup\":\"4\",\"marker\":{\"color\":\"#0206f5\",\"pattern\":{\"shape\":\"\"}},\"name\":\"4\",\"offsetgroup\":\"4\",\"orientation\":\"v\",\"showlegend\":true,\"textposition\":\"auto\",\"x\":[\"NYC\",\"Manhattan\",\"Chicago\",\"DC\"],\"xaxis\":\"x7\",\"y\":[0.014882819061064206,0.0,0.0,0.0],\"yaxis\":\"y7\",\"type\":\"bar\"},{\"alignmentgroup\":\"True\",\"hovertemplate\":\"oc_str=4<br>max_delay=180<br>duration_minutes=5.0<br>area=%{x}<br>percent=%{y}<extra></extra>\",\"legendgroup\":\"4\",\"marker\":{\"color\":\"#0206f5\",\"pattern\":{\"shape\":\"\"}},\"name\":\"4\",\"offsetgroup\":\"4\",\"orientation\":\"v\",\"showlegend\":false,\"textposition\":\"auto\",\"x\":[\"NYC\",\"Manhattan\",\"Chicago\",\"DC\"],\"xaxis\":\"x8\",\"y\":[0.34536129607669763,1.1106030439573351,0.0,0.0],\"yaxis\":\"y8\",\"type\":\"bar\"},{\"alignmentgroup\":\"True\",\"hovertemplate\":\"oc_str=4<br>max_delay=180<br>duration_minutes=30.0<br>area=%{x}<br>percent=%{y}<extra></extra>\",\"legendgroup\":\"4\",\"marker\":{\"color\":\"#0206f5\",\"pattern\":{\"shape\":\"\"}},\"name\":\"4\",\"offsetgroup\":\"4\",\"orientation\":\"v\",\"showlegend\":false,\"textposition\":\"auto\",\"x\":[\"NYC\",\"Manhattan\",\"Chicago\",\"DC\"],\"xaxis\":\"x9\",\"y\":[0.8949501337764889,2.741210712267739,0.2716599456680109,0.0],\"yaxis\":\"y9\",\"type\":\"bar\"},{\"alignmentgroup\":\"True\",\"hovertemplate\":\"oc_str=4<br>max_delay=300<br>duration_minutes=1.0<br>area=%{x}<br>percent=%{y}<extra></extra>\",\"legendgroup\":\"4\",\"marker\":{\"color\":\"#0206f5\",\"pattern\":{\"shape\":\"\"}},\"name\":\"4\",\"offsetgroup\":\"4\",\"orientation\":\"v\",\"showlegend\":false,\"textposition\":\"auto\",\"x\":[\"NYC\",\"Manhattan\",\"Chicago\",\"DC\"],\"xaxis\":\"x4\",\"y\":[0.26545480776166774,0.36177995739036056,0.0,0.0],\"yaxis\":\"y4\",\"type\":\"bar\"},{\"alignmentgroup\":\"True\",\"hovertemplate\":\"oc_str=4<br>max_delay=300<br>duration_minutes=5.0<br>area=%{x}<br>percent=%{y}<extra></extra>\",\"legendgroup\":\"4\",\"marker\":{\"color\":\"#0206f5\",\"pattern\":{\"shape\":\"\"}},\"name\":\"4\",\"offsetgroup\":\"4\",\"orientation\":\"v\",\"showlegend\":false,\"textposition\":\"auto\",\"x\":[\"NYC\",\"Manhattan\",\"Chicago\",\"DC\"],\"xaxis\":\"x5\",\"y\":[1.2268343920399332,4.235753747655027,0.1593180642174351,0.0],\"yaxis\":\"y5\",\"type\":\"bar\"},{\"alignmentgroup\":\"True\",\"hovertemplate\":\"oc_str=4<br>max_delay=300<br>duration_minutes=30.0<br>area=%{x}<br>percent=%{y}<extra></extra>\",\"legendgroup\":\"4\",\"marker\":{\"color\":\"#0206f5\",\"pattern\":{\"shape\":\"\"}},\"name\":\"4\",\"offsetgroup\":\"4\",\"orientation\":\"v\",\"showlegend\":false,\"textposition\":\"auto\",\"x\":[\"NYC\",\"Manhattan\",\"Chicago\",\"DC\"],\"xaxis\":\"x6\",\"y\":[3.1736297025924975,8.734092802992496,1.4655199814738296,0.0],\"yaxis\":\"y6\",\"type\":\"bar\"},{\"alignmentgroup\":\"True\",\"hovertemplate\":\"oc_str=4<br>max_delay=600<br>duration_minutes=1.0<br>area=%{x}<br>percent=%{y}<extra></extra>\",\"legendgroup\":\"4\",\"marker\":{\"color\":\"#0206f5\",\"pattern\":{\"shape\":\"\"}},\"name\":\"4\",\"offsetgroup\":\"4\",\"orientation\":\"v\",\"showlegend\":false,\"textposition\":\"auto\",\"x\":[\"NYC\",\"Manhattan\",\"Chicago\",\"DC\"],\"xaxis\":\"x\",\"y\":[1.37396192802701,3.9946132030037633,0.0,0.0],\"yaxis\":\"y\",\"type\":\"bar\"},{\"alignmentgroup\":\"True\",\"hovertemplate\":\"oc_str=4<br>max_delay=600<br>duration_minutes=5.0<br>area=%{x}<br>percent=%{y}<extra></extra>\",\"legendgroup\":\"4\",\"marker\":{\"color\":\"#0206f5\",\"pattern\":{\"shape\":\"\"}},\"name\":\"4\",\"offsetgroup\":\"4\",\"orientation\":\"v\",\"showlegend\":false,\"textposition\":\"auto\",\"x\":[\"NYC\",\"Manhattan\",\"Chicago\",\"DC\"],\"xaxis\":\"x2\",\"y\":[4.518053250932007,11.536654693683564,6.5762789480570465,0.0],\"yaxis\":\"y2\",\"type\":\"bar\"},{\"alignmentgroup\":\"True\",\"hovertemplate\":\"oc_str=4<br>max_delay=600<br>duration_minutes=30.0<br>area=%{x}<br>percent=%{y}<extra></extra>\",\"legendgroup\":\"4\",\"marker\":{\"color\":\"#0206f5\",\"pattern\":{\"shape\":\"\"}},\"name\":\"4\",\"offsetgroup\":\"4\",\"orientation\":\"v\",\"showlegend\":false,\"textposition\":\"auto\",\"x\":[\"NYC\",\"Manhattan\",\"Chicago\",\"DC\"],\"xaxis\":\"x3\",\"y\":[9.473046028140455,21.347871466355972,6.486025296572222,0.9560441849324104],\"yaxis\":\"y3\",\"type\":\"bar\"}],                        {\"template\":{\"data\":{\"histogram2dcontour\":[{\"type\":\"histogram2dcontour\",\"colorbar\":{\"outlinewidth\":0,\"ticks\":\"\"},\"colorscale\":[[0.0,\"#0d0887\"],[0.1111111111111111,\"#46039f\"],[0.2222222222222222,\"#7201a8\"],[0.3333333333333333,\"#9c179e\"],[0.4444444444444444,\"#bd3786\"],[0.5555555555555556,\"#d8576b\"],[0.6666666666666666,\"#ed7953\"],[0.7777777777777778,\"#fb9f3a\"],[0.8888888888888888,\"#fdca26\"],[1.0,\"#f0f921\"]]}],\"choropleth\":[{\"type\":\"choropleth\",\"colorbar\":{\"outlinewidth\":0,\"ticks\":\"\"}}],\"histogram2d\":[{\"type\":\"histogram2d\",\"colorbar\":{\"outlinewidth\":0,\"ticks\":\"\"},\"colorscale\":[[0.0,\"#0d0887\"],[0.1111111111111111,\"#46039f\"],[0.2222222222222222,\"#7201a8\"],[0.3333333333333333,\"#9c179e\"],[0.4444444444444444,\"#bd3786\"],[0.5555555555555556,\"#d8576b\"],[0.6666666666666666,\"#ed7953\"],[0.7777777777777778,\"#fb9f3a\"],[0.8888888888888888,\"#fdca26\"],[1.0,\"#f0f921\"]]}],\"heatmap\":[{\"type\":\"heatmap\",\"colorbar\":{\"outlinewidth\":0,\"ticks\":\"\"},\"colorscale\":[[0.0,\"#0d0887\"],[0.1111111111111111,\"#46039f\"],[0.2222222222222222,\"#7201a8\"],[0.3333333333333333,\"#9c179e\"],[0.4444444444444444,\"#bd3786\"],[0.5555555555555556,\"#d8576b\"],[0.6666666666666666,\"#ed7953\"],[0.7777777777777778,\"#fb9f3a\"],[0.8888888888888888,\"#fdca26\"],[1.0,\"#f0f921\"]]}],\"heatmapgl\":[{\"type\":\"heatmapgl\",\"colorbar\":{\"outlinewidth\":0,\"ticks\":\"\"},\"colorscale\":[[0.0,\"#0d0887\"],[0.1111111111111111,\"#46039f\"],[0.2222222222222222,\"#7201a8\"],[0.3333333333333333,\"#9c179e\"],[0.4444444444444444,\"#bd3786\"],[0.5555555555555556,\"#d8576b\"],[0.6666666666666666,\"#ed7953\"],[0.7777777777777778,\"#fb9f3a\"],[0.8888888888888888,\"#fdca26\"],[1.0,\"#f0f921\"]]}],\"contourcarpet\":[{\"type\":\"contourcarpet\",\"colorbar\":{\"outlinewidth\":0,\"ticks\":\"\"}}],\"contour\":[{\"type\":\"contour\",\"colorbar\":{\"outlinewidth\":0,\"ticks\":\"\"},\"colorscale\":[[0.0,\"#0d0887\"],[0.1111111111111111,\"#46039f\"],[0.2222222222222222,\"#7201a8\"],[0.3333333333333333,\"#9c179e\"],[0.4444444444444444,\"#bd3786\"],[0.5555555555555556,\"#d8576b\"],[0.6666666666666666,\"#ed7953\"],[0.7777777777777778,\"#fb9f3a\"],[0.8888888888888888,\"#fdca26\"],[1.0,\"#f0f921\"]]}],\"surface\":[{\"type\":\"surface\",\"colorbar\":{\"outlinewidth\":0,\"ticks\":\"\"},\"colorscale\":[[0.0,\"#0d0887\"],[0.1111111111111111,\"#46039f\"],[0.2222222222222222,\"#7201a8\"],[0.3333333333333333,\"#9c179e\"],[0.4444444444444444,\"#bd3786\"],[0.5555555555555556,\"#d8576b\"],[0.6666666666666666,\"#ed7953\"],[0.7777777777777778,\"#fb9f3a\"],[0.8888888888888888,\"#fdca26\"],[1.0,\"#f0f921\"]]}],\"mesh3d\":[{\"type\":\"mesh3d\",\"colorbar\":{\"outlinewidth\":0,\"ticks\":\"\"}}],\"scatter\":[{\"fillpattern\":{\"fillmode\":\"overlay\",\"size\":10,\"solidity\":0.2},\"type\":\"scatter\"}],\"parcoords\":[{\"type\":\"parcoords\",\"line\":{\"colorbar\":{\"outlinewidth\":0,\"ticks\":\"\"}}}],\"scatterpolargl\":[{\"type\":\"scatterpolargl\",\"marker\":{\"colorbar\":{\"outlinewidth\":0,\"ticks\":\"\"}}}],\"bar\":[{\"error_x\":{\"color\":\"#2a3f5f\"},\"error_y\":{\"color\":\"#2a3f5f\"},\"marker\":{\"line\":{\"color\":\"#E5ECF6\",\"width\":0.5},\"pattern\":{\"fillmode\":\"overlay\",\"size\":10,\"solidity\":0.2}},\"type\":\"bar\"}],\"scattergeo\":[{\"type\":\"scattergeo\",\"marker\":{\"colorbar\":{\"outlinewidth\":0,\"ticks\":\"\"}}}],\"scatterpolar\":[{\"type\":\"scatterpolar\",\"marker\":{\"colorbar\":{\"outlinewidth\":0,\"ticks\":\"\"}}}],\"histogram\":[{\"marker\":{\"pattern\":{\"fillmode\":\"overlay\",\"size\":10,\"solidity\":0.2}},\"type\":\"histogram\"}],\"scattergl\":[{\"type\":\"scattergl\",\"marker\":{\"colorbar\":{\"outlinewidth\":0,\"ticks\":\"\"}}}],\"scatter3d\":[{\"type\":\"scatter3d\",\"line\":{\"colorbar\":{\"outlinewidth\":0,\"ticks\":\"\"}},\"marker\":{\"colorbar\":{\"outlinewidth\":0,\"ticks\":\"\"}}}],\"scattermapbox\":[{\"type\":\"scattermapbox\",\"marker\":{\"colorbar\":{\"outlinewidth\":0,\"ticks\":\"\"}}}],\"scatterternary\":[{\"type\":\"scatterternary\",\"marker\":{\"colorbar\":{\"outlinewidth\":0,\"ticks\":\"\"}}}],\"scattercarpet\":[{\"type\":\"scattercarpet\",\"marker\":{\"colorbar\":{\"outlinewidth\":0,\"ticks\":\"\"}}}],\"carpet\":[{\"aaxis\":{\"endlinecolor\":\"#2a3f5f\",\"gridcolor\":\"white\",\"linecolor\":\"white\",\"minorgridcolor\":\"white\",\"startlinecolor\":\"#2a3f5f\"},\"baxis\":{\"endlinecolor\":\"#2a3f5f\",\"gridcolor\":\"white\",\"linecolor\":\"white\",\"minorgridcolor\":\"white\",\"startlinecolor\":\"#2a3f5f\"},\"type\":\"carpet\"}],\"table\":[{\"cells\":{\"fill\":{\"color\":\"#EBF0F8\"},\"line\":{\"color\":\"white\"}},\"header\":{\"fill\":{\"color\":\"#C8D4E3\"},\"line\":{\"color\":\"white\"}},\"type\":\"table\"}],\"barpolar\":[{\"marker\":{\"line\":{\"color\":\"#E5ECF6\",\"width\":0.5},\"pattern\":{\"fillmode\":\"overlay\",\"size\":10,\"solidity\":0.2}},\"type\":\"barpolar\"}],\"pie\":[{\"automargin\":true,\"type\":\"pie\"}]},\"layout\":{\"autotypenumbers\":\"strict\",\"colorway\":[\"#636efa\",\"#EF553B\",\"#00cc96\",\"#ab63fa\",\"#FFA15A\",\"#19d3f3\",\"#FF6692\",\"#B6E880\",\"#FF97FF\",\"#FECB52\"],\"font\":{\"color\":\"#2a3f5f\"},\"hovermode\":\"closest\",\"hoverlabel\":{\"align\":\"left\"},\"paper_bgcolor\":\"white\",\"plot_bgcolor\":\"#E5ECF6\",\"polar\":{\"bgcolor\":\"#E5ECF6\",\"angularaxis\":{\"gridcolor\":\"white\",\"linecolor\":\"white\",\"ticks\":\"\"},\"radialaxis\":{\"gridcolor\":\"white\",\"linecolor\":\"white\",\"ticks\":\"\"}},\"ternary\":{\"bgcolor\":\"#E5ECF6\",\"aaxis\":{\"gridcolor\":\"white\",\"linecolor\":\"white\",\"ticks\":\"\"},\"baxis\":{\"gridcolor\":\"white\",\"linecolor\":\"white\",\"ticks\":\"\"},\"caxis\":{\"gridcolor\":\"white\",\"linecolor\":\"white\",\"ticks\":\"\"}},\"coloraxis\":{\"colorbar\":{\"outlinewidth\":0,\"ticks\":\"\"}},\"colorscale\":{\"sequential\":[[0.0,\"#0d0887\"],[0.1111111111111111,\"#46039f\"],[0.2222222222222222,\"#7201a8\"],[0.3333333333333333,\"#9c179e\"],[0.4444444444444444,\"#bd3786\"],[0.5555555555555556,\"#d8576b\"],[0.6666666666666666,\"#ed7953\"],[0.7777777777777778,\"#fb9f3a\"],[0.8888888888888888,\"#fdca26\"],[1.0,\"#f0f921\"]],\"sequentialminus\":[[0.0,\"#0d0887\"],[0.1111111111111111,\"#46039f\"],[0.2222222222222222,\"#7201a8\"],[0.3333333333333333,\"#9c179e\"],[0.4444444444444444,\"#bd3786\"],[0.5555555555555556,\"#d8576b\"],[0.6666666666666666,\"#ed7953\"],[0.7777777777777778,\"#fb9f3a\"],[0.8888888888888888,\"#fdca26\"],[1.0,\"#f0f921\"]],\"diverging\":[[0,\"#8e0152\"],[0.1,\"#c51b7d\"],[0.2,\"#de77ae\"],[0.3,\"#f1b6da\"],[0.4,\"#fde0ef\"],[0.5,\"#f7f7f7\"],[0.6,\"#e6f5d0\"],[0.7,\"#b8e186\"],[0.8,\"#7fbc41\"],[0.9,\"#4d9221\"],[1,\"#276419\"]]},\"xaxis\":{\"gridcolor\":\"white\",\"linecolor\":\"white\",\"ticks\":\"\",\"title\":{\"standoff\":15},\"zerolinecolor\":\"white\",\"automargin\":true,\"zerolinewidth\":2},\"yaxis\":{\"gridcolor\":\"white\",\"linecolor\":\"white\",\"ticks\":\"\",\"title\":{\"standoff\":15},\"zerolinecolor\":\"white\",\"automargin\":true,\"zerolinewidth\":2},\"scene\":{\"xaxis\":{\"backgroundcolor\":\"#E5ECF6\",\"gridcolor\":\"white\",\"linecolor\":\"white\",\"showbackground\":true,\"ticks\":\"\",\"zerolinecolor\":\"white\",\"gridwidth\":2},\"yaxis\":{\"backgroundcolor\":\"#E5ECF6\",\"gridcolor\":\"white\",\"linecolor\":\"white\",\"showbackground\":true,\"ticks\":\"\",\"zerolinecolor\":\"white\",\"gridwidth\":2},\"zaxis\":{\"backgroundcolor\":\"#E5ECF6\",\"gridcolor\":\"white\",\"linecolor\":\"white\",\"showbackground\":true,\"ticks\":\"\",\"zerolinecolor\":\"white\",\"gridwidth\":2}},\"shapedefaults\":{\"line\":{\"color\":\"#2a3f5f\"}},\"annotationdefaults\":{\"arrowcolor\":\"#2a3f5f\",\"arrowhead\":0,\"arrowwidth\":1},\"geo\":{\"bgcolor\":\"white\",\"landcolor\":\"#E5ECF6\",\"subunitcolor\":\"white\",\"showland\":true,\"showlakes\":true,\"lakecolor\":\"white\"},\"title\":{\"x\":0.05},\"mapbox\":{\"style\":\"light\"}}},\"xaxis\":{\"anchor\":\"y\",\"domain\":[0.0,0.3133333333333333],\"title\":{\"text\":\"\"},\"tickvals\":[0,1,2,3],\"ticktext\":[\"NYC\",\"Man\",\"Chic\",\"DC\"]},\"yaxis\":{\"anchor\":\"x\",\"domain\":[0.0,0.3133333333333333],\"title\":{\"text\":\"\"}},\"xaxis2\":{\"anchor\":\"y2\",\"domain\":[0.3333333333333333,0.6466666666666666],\"matches\":\"x\",\"title\":{\"text\":\"\"},\"tickvals\":[0,1,2,3],\"ticktext\":[\"NYC\",\"Man\",\"Chic\",\"DC\"]},\"yaxis2\":{\"anchor\":\"x2\",\"domain\":[0.0,0.3133333333333333],\"matches\":\"y\",\"showticklabels\":false,\"title\":{\"text\":\"\"}},\"xaxis3\":{\"anchor\":\"y3\",\"domain\":[0.6666666666666666,0.98],\"matches\":\"x\",\"title\":{\"text\":\"\"},\"tickvals\":[0,1,2,3],\"ticktext\":[\"NYC\",\"Man\",\"Chic\",\"DC\"]},\"yaxis3\":{\"anchor\":\"x3\",\"domain\":[0.0,0.3133333333333333],\"matches\":\"y\",\"showticklabels\":false,\"title\":{\"text\":\"\"}},\"xaxis4\":{\"anchor\":\"y4\",\"domain\":[0.0,0.3133333333333333],\"matches\":\"x\",\"showticklabels\":false,\"title\":{\"text\":\"\"},\"tickvals\":[0,1,2,3],\"ticktext\":[\"NYC\",\"Man\",\"Chic\",\"DC\"]},\"yaxis4\":{\"anchor\":\"x4\",\"domain\":[0.34333333333333327,0.6566666666666665],\"matches\":\"y\",\"title\":{\"text\":\"\"}},\"xaxis5\":{\"anchor\":\"y5\",\"domain\":[0.3333333333333333,0.6466666666666666],\"matches\":\"x\",\"showticklabels\":false,\"title\":{\"text\":\"\"},\"tickvals\":[0,1,2,3],\"ticktext\":[\"NYC\",\"Man\",\"Chic\",\"DC\"]},\"yaxis5\":{\"anchor\":\"x5\",\"domain\":[0.34333333333333327,0.6566666666666665],\"matches\":\"y\",\"showticklabels\":false,\"title\":{\"text\":\"\"}},\"xaxis6\":{\"anchor\":\"y6\",\"domain\":[0.6666666666666666,0.98],\"matches\":\"x\",\"showticklabels\":false,\"title\":{\"text\":\"\"},\"tickvals\":[0,1,2,3],\"ticktext\":[\"NYC\",\"Man\",\"Chic\",\"DC\"]},\"yaxis6\":{\"anchor\":\"x6\",\"domain\":[0.34333333333333327,0.6566666666666665],\"matches\":\"y\",\"showticklabels\":false,\"title\":{\"text\":\"\"}},\"xaxis7\":{\"anchor\":\"y7\",\"domain\":[0.0,0.3133333333333333],\"matches\":\"x\",\"showticklabels\":false,\"title\":{\"text\":\"\"},\"tickvals\":[0,1,2,3],\"ticktext\":[\"NYC\",\"Man\",\"Chic\",\"DC\"]},\"yaxis7\":{\"anchor\":\"x7\",\"domain\":[0.6866666666666665,0.9999999999999998],\"matches\":\"y\",\"title\":{\"text\":\"\"}},\"xaxis8\":{\"anchor\":\"y8\",\"domain\":[0.3333333333333333,0.6466666666666666],\"matches\":\"x\",\"showticklabels\":false,\"title\":{\"text\":\"\"},\"tickvals\":[0,1,2,3],\"ticktext\":[\"NYC\",\"Man\",\"Chic\",\"DC\"]},\"yaxis8\":{\"anchor\":\"x8\",\"domain\":[0.6866666666666665,0.9999999999999998],\"matches\":\"y\",\"showticklabels\":false,\"title\":{\"text\":\"\"}},\"xaxis9\":{\"anchor\":\"y9\",\"domain\":[0.6666666666666666,0.98],\"matches\":\"x\",\"showticklabels\":false,\"title\":{\"text\":\"\"},\"tickvals\":[0,1,2,3],\"ticktext\":[\"NYC\",\"Man\",\"Chic\",\"DC\"]},\"yaxis9\":{\"anchor\":\"x9\",\"domain\":[0.6866666666666665,0.9999999999999998],\"matches\":\"y\",\"showticklabels\":false,\"title\":{\"text\":\"\"}},\"annotations\":[{\"showarrow\":false,\"text\":\"1.0\",\"x\":0.15666666666666665,\"xanchor\":\"center\",\"xref\":\"paper\",\"y\":0.9999999999999998,\"yanchor\":\"bottom\",\"yref\":\"paper\"},{\"showarrow\":false,\"text\":\"5.0\",\"x\":0.49,\"xanchor\":\"center\",\"xref\":\"paper\",\"y\":0.9999999999999998,\"yanchor\":\"bottom\",\"yref\":\"paper\"},{\"showarrow\":false,\"text\":\"30.0\",\"x\":0.8233333333333333,\"xanchor\":\"center\",\"xref\":\"paper\",\"y\":0.9999999999999998,\"yanchor\":\"bottom\",\"yref\":\"paper\"},{\"showarrow\":false,\"text\":\"600\",\"textangle\":90,\"x\":0.98,\"xanchor\":\"left\",\"xref\":\"paper\",\"y\":0.15666666666666665,\"yanchor\":\"middle\",\"yref\":\"paper\"},{\"showarrow\":false,\"text\":\"300\",\"textangle\":90,\"x\":0.98,\"xanchor\":\"left\",\"xref\":\"paper\",\"y\":0.4999999999999999,\"yanchor\":\"middle\",\"yref\":\"paper\"},{\"showarrow\":false,\"text\":\"180\",\"textangle\":90,\"x\":0.98,\"xanchor\":\"left\",\"xref\":\"paper\",\"y\":0.8433333333333332,\"yanchor\":\"middle\",\"yref\":\"paper\"},{\"showarrow\":false,\"text\":\"% of time\",\"textangle\":-90,\"x\":-0.08,\"xref\":\"paper\",\"y\":0.5,\"yref\":\"paper\"},{\"showarrow\":false,\"text\":\"Occupancy\",\"x\":0.5,\"xref\":\"paper\",\"y\":-0.12,\"yref\":\"paper\"}],\"legend\":{\"title\":{\"text\":\"oc_str\"},\"tracegroupgap\":0},\"margin\":{\"t\":0,\"l\":0,\"r\":7,\"b\":0},\"barmode\":\"group\",\"height\":300,\"width\":450,\"showlegend\":false},                        {\"responsive\": true}                    ).then(function(){\n                            \nvar gd = document.getElementById('5eb592a6-5936-4f15-8e1f-599c4f149449');\nvar x = new MutationObserver(function (mutations, observer) {{\n        var display = window.getComputedStyle(gd).display;\n        if (!display || display === 'none') {{\n            console.log([gd, 'removed!']);\n            Plotly.purge(gd);\n            observer.disconnect();\n        }}\n}});\n\n// Listen for the removal of the full notebook cells\nvar notebookContainer = gd.closest('#notebook-container');\nif (notebookContainer) {{\n    x.observe(notebookContainer, {childList: true});\n}}\n\n// Listen for the clearing of the current output cell\nvar outputEl = gd.closest('.output');\nif (outputEl) {{\n    x.observe(outputEl, {childList: true});\n}}\n\n                        })                };                });            </script>        </div>"
     },
     "metadata": {},
     "output_type": "display_data"
    }
   ],
   "source": [
    "def get_occupancy_histogram(width: int, height: int, oc_df: pd.DataFrame) -> go.Figure:\n",
    "    fig = px.bar(\n",
    "        oc_df,\n",
    "        x=\"area\",\n",
    "        y=\"percent\",\n",
    "        facet_row=\"max_delay\",\n",
    "        facet_col=\"duration_minutes\",\n",
    "        color=\"oc_str\",\n",
    "        barmode='group',\n",
    "        width=width,\n",
    "        height=height,\n",
    "        color_discrete_sequence=['#f51302', '#0206f5', '#0206f5', '#0206f5', '#0206f5', '#0206f5'],\n",
    "    )\n",
    "\n",
    "    # fig.update_yaxes(matches=None)\n",
    "    # make the facet labels nicer\n",
    "    fig.for_each_annotation(lambda a: a.update(text=a.text.split(\"=\")[-1]))\n",
    "\n",
    "    # shared axes titles\n",
    "    fig.for_each_yaxis(lambda y: y.update(title = ''))\n",
    "    fig.add_annotation(x=-0.08, y=0.5, text=\"% of time\", textangle=-90, xref=\"paper\", yref=\"paper\", showarrow=False)\n",
    "    fig.for_each_xaxis(lambda y: y.update(title = ''))\n",
    "    fig.add_annotation(x=0.5, y=-0.12, text=\"Occupancy\",  xref=\"paper\", yref=\"paper\", showarrow=False)\n",
    "\n",
    "    # legend style\n",
    "    fig.update_layout(\n",
    "        showlegend=False\n",
    "        # orientation=\"h\",\n",
    "        # title=\"Occupancy:\",\n",
    "        # y=1.18,\n",
    "        # xanchor=\"center\",\n",
    "        # x=0.5,\n",
    "    )\n",
    "\n",
    "    # ticks for all occupancy values\n",
    "    # fig.update_xaxes(dtick=1)\n",
    "\n",
    "    # custom city tick labels\n",
    "    fig.update_xaxes(tickvals=[0, 1, 2, 3], ticktext=['NYC', 'Man', 'Chic', 'DC'])\n",
    "    # fig.for_each_xaxis(lambda x: x.update(ticktext=['NYC, Man, Ch, DC']))\n",
    "\n",
    "\n",
    "    fig.update_layout(\n",
    "        margin=dict(l=0,r=7,b=0,t=0)\n",
    "    )\n",
    "\n",
    "    return fig\n",
    "\n",
    "fig = get_occupancy_histogram(450, 300, occupancy_df_ih_red)\n",
    "fig"
   ],
   "metadata": {
    "collapsed": false,
    "ExecuteTime": {
     "end_time": "2023-05-22T09:41:11.504525Z",
     "start_time": "2023-05-22T09:41:11.285907300Z"
    }
   }
  },
  {
   "cell_type": "code",
   "execution_count": 38,
   "outputs": [
    {
     "ename": "ValueError",
     "evalue": "\nImage export using the \"kaleido\" engine requires the kaleido package,\nwhich can be installed using pip:\n    $ pip install -U kaleido\n",
     "output_type": "error",
     "traceback": [
      "\u001B[1;31m---------------------------------------------------------------------------\u001B[0m",
      "\u001B[1;31mValueError\u001B[0m                                Traceback (most recent call last)",
      "Cell \u001B[1;32mIn[38], line 1\u001B[0m\n\u001B[1;32m----> 1\u001B[0m \u001B[43mfig\u001B[49m\u001B[38;5;241;43m.\u001B[39;49m\u001B[43mwrite_image\u001B[49m\u001B[43m(\u001B[49m\u001B[43mfig_path\u001B[49m\u001B[43m \u001B[49m\u001B[38;5;241;43m/\u001B[39;49m\u001B[43m \u001B[49m\u001B[38;5;124;43m\"\u001B[39;49m\u001B[38;5;124;43moccupancy.pdf\u001B[39;49m\u001B[38;5;124;43m\"\u001B[39;49m\u001B[43m)\u001B[49m\n\u001B[0;32m      2\u001B[0m \u001B[38;5;66;03m# fig.close()\u001B[39;00m\n",
      "File \u001B[1;32mC:\\Program Files\\Python311\\Lib\\site-packages\\plotly\\basedatatypes.py:3821\u001B[0m, in \u001B[0;36mBaseFigure.write_image\u001B[1;34m(self, *args, **kwargs)\u001B[0m\n\u001B[0;32m   3761\u001B[0m \u001B[38;5;250m\u001B[39m\u001B[38;5;124;03m\"\"\"\u001B[39;00m\n\u001B[0;32m   3762\u001B[0m \u001B[38;5;124;03mConvert a figure to a static image and write it to a file or writeable\u001B[39;00m\n\u001B[0;32m   3763\u001B[0m \u001B[38;5;124;03mobject\u001B[39;00m\n\u001B[1;32m   (...)\u001B[0m\n\u001B[0;32m   3817\u001B[0m \u001B[38;5;124;03mNone\u001B[39;00m\n\u001B[0;32m   3818\u001B[0m \u001B[38;5;124;03m\"\"\"\u001B[39;00m\n\u001B[0;32m   3819\u001B[0m \u001B[38;5;28;01mimport\u001B[39;00m \u001B[38;5;21;01mplotly\u001B[39;00m\u001B[38;5;21;01m.\u001B[39;00m\u001B[38;5;21;01mio\u001B[39;00m \u001B[38;5;28;01mas\u001B[39;00m \u001B[38;5;21;01mpio\u001B[39;00m\n\u001B[1;32m-> 3821\u001B[0m \u001B[38;5;28;01mreturn\u001B[39;00m \u001B[43mpio\u001B[49m\u001B[38;5;241;43m.\u001B[39;49m\u001B[43mwrite_image\u001B[49m\u001B[43m(\u001B[49m\u001B[38;5;28;43mself\u001B[39;49m\u001B[43m,\u001B[49m\u001B[43m \u001B[49m\u001B[38;5;241;43m*\u001B[39;49m\u001B[43margs\u001B[49m\u001B[43m,\u001B[49m\u001B[43m \u001B[49m\u001B[38;5;241;43m*\u001B[39;49m\u001B[38;5;241;43m*\u001B[39;49m\u001B[43mkwargs\u001B[49m\u001B[43m)\u001B[49m\n",
      "File \u001B[1;32mC:\\Program Files\\Python311\\Lib\\site-packages\\plotly\\io\\_kaleido.py:267\u001B[0m, in \u001B[0;36mwrite_image\u001B[1;34m(fig, file, format, scale, width, height, validate, engine)\u001B[0m\n\u001B[0;32m    251\u001B[0m             \u001B[38;5;28;01mraise\u001B[39;00m \u001B[38;5;167;01mValueError\u001B[39;00m(\n\u001B[0;32m    252\u001B[0m \u001B[38;5;250m                \u001B[39m\u001B[38;5;124;03m\"\"\"\u001B[39;00m\n\u001B[0;32m    253\u001B[0m \u001B[38;5;124;03mCannot infer image type from output path '{file}'.\u001B[39;00m\n\u001B[1;32m   (...)\u001B[0m\n\u001B[0;32m    261\u001B[0m                 )\n\u001B[0;32m    262\u001B[0m             )\n\u001B[0;32m    264\u001B[0m     \u001B[38;5;66;03m# Request image\u001B[39;00m\n\u001B[0;32m    265\u001B[0m     \u001B[38;5;66;03m# -------------\u001B[39;00m\n\u001B[0;32m    266\u001B[0m     \u001B[38;5;66;03m# Do this first so we don't create a file if image conversion fails\u001B[39;00m\n\u001B[1;32m--> 267\u001B[0m     img_data \u001B[38;5;241m=\u001B[39m \u001B[43mto_image\u001B[49m\u001B[43m(\u001B[49m\n\u001B[0;32m    268\u001B[0m \u001B[43m        \u001B[49m\u001B[43mfig\u001B[49m\u001B[43m,\u001B[49m\n\u001B[0;32m    269\u001B[0m \u001B[43m        \u001B[49m\u001B[38;5;28;43mformat\u001B[39;49m\u001B[38;5;241;43m=\u001B[39;49m\u001B[38;5;28;43mformat\u001B[39;49m\u001B[43m,\u001B[49m\n\u001B[0;32m    270\u001B[0m \u001B[43m        \u001B[49m\u001B[43mscale\u001B[49m\u001B[38;5;241;43m=\u001B[39;49m\u001B[43mscale\u001B[49m\u001B[43m,\u001B[49m\n\u001B[0;32m    271\u001B[0m \u001B[43m        \u001B[49m\u001B[43mwidth\u001B[49m\u001B[38;5;241;43m=\u001B[39;49m\u001B[43mwidth\u001B[49m\u001B[43m,\u001B[49m\n\u001B[0;32m    272\u001B[0m \u001B[43m        \u001B[49m\u001B[43mheight\u001B[49m\u001B[38;5;241;43m=\u001B[39;49m\u001B[43mheight\u001B[49m\u001B[43m,\u001B[49m\n\u001B[0;32m    273\u001B[0m \u001B[43m        \u001B[49m\u001B[43mvalidate\u001B[49m\u001B[38;5;241;43m=\u001B[39;49m\u001B[43mvalidate\u001B[49m\u001B[43m,\u001B[49m\n\u001B[0;32m    274\u001B[0m \u001B[43m        \u001B[49m\u001B[43mengine\u001B[49m\u001B[38;5;241;43m=\u001B[39;49m\u001B[43mengine\u001B[49m\u001B[43m,\u001B[49m\n\u001B[0;32m    275\u001B[0m \u001B[43m    \u001B[49m\u001B[43m)\u001B[49m\n\u001B[0;32m    277\u001B[0m     \u001B[38;5;66;03m# Open file\u001B[39;00m\n\u001B[0;32m    278\u001B[0m     \u001B[38;5;66;03m# ---------\u001B[39;00m\n\u001B[0;32m    279\u001B[0m     \u001B[38;5;28;01mif\u001B[39;00m path \u001B[38;5;129;01mis\u001B[39;00m \u001B[38;5;28;01mNone\u001B[39;00m:\n\u001B[0;32m    280\u001B[0m         \u001B[38;5;66;03m# We previously failed to make sense of `file` as a pathlib object.\u001B[39;00m\n\u001B[0;32m    281\u001B[0m         \u001B[38;5;66;03m# Attempt to write to `file` as an open file descriptor.\u001B[39;00m\n",
      "File \u001B[1;32mC:\\Program Files\\Python311\\Lib\\site-packages\\plotly\\io\\_kaleido.py:133\u001B[0m, in \u001B[0;36mto_image\u001B[1;34m(fig, format, width, height, scale, validate, engine)\u001B[0m\n\u001B[0;32m    131\u001B[0m     \u001B[38;5;66;03m# Raise informative error message if Kaleido is not installed\u001B[39;00m\n\u001B[0;32m    132\u001B[0m     \u001B[38;5;28;01mif\u001B[39;00m scope \u001B[38;5;129;01mis\u001B[39;00m \u001B[38;5;28;01mNone\u001B[39;00m:\n\u001B[1;32m--> 133\u001B[0m         \u001B[38;5;28;01mraise\u001B[39;00m \u001B[38;5;167;01mValueError\u001B[39;00m(\n\u001B[0;32m    134\u001B[0m \u001B[38;5;250m            \u001B[39m\u001B[38;5;124;03m\"\"\"\u001B[39;00m\n\u001B[0;32m    135\u001B[0m \u001B[38;5;124;03mImage export using the \"kaleido\" engine requires the kaleido package,\u001B[39;00m\n\u001B[0;32m    136\u001B[0m \u001B[38;5;124;03mwhich can be installed using pip:\u001B[39;00m\n\u001B[0;32m    137\u001B[0m \u001B[38;5;124;03m    $ pip install -U kaleido\u001B[39;00m\n\u001B[0;32m    138\u001B[0m \u001B[38;5;124;03m\"\"\"\u001B[39;00m\n\u001B[0;32m    139\u001B[0m         )\n\u001B[0;32m    141\u001B[0m     \u001B[38;5;66;03m# Validate figure\u001B[39;00m\n\u001B[0;32m    142\u001B[0m     \u001B[38;5;66;03m# ---------------\u001B[39;00m\n\u001B[0;32m    143\u001B[0m     fig_dict \u001B[38;5;241m=\u001B[39m validate_coerce_fig_to_dict(fig, validate)\n",
      "\u001B[1;31mValueError\u001B[0m: \nImage export using the \"kaleido\" engine requires the kaleido package,\nwhich can be installed using pip:\n    $ pip install -U kaleido\n"
     ]
    }
   ],
   "source": [
    "fig.write_image(fig_path / \"occupancy.pdf\")\n",
    "# fig.close()"
   ],
   "metadata": {
    "collapsed": false,
    "ExecuteTime": {
     "end_time": "2023-05-22T09:43:49.334726300Z",
     "start_time": "2023-05-22T09:43:49.259023200Z"
    }
   }
  }
 ],
 "metadata": {
  "kernelspec": {
   "display_name": "Python 3",
   "language": "python",
   "name": "python3"
  },
  "language_info": {
   "codemirror_mode": {
    "name": "ipython",
    "version": 2
   },
   "file_extension": ".py",
   "mimetype": "text/x-python",
   "name": "python",
   "nbconvert_exporter": "python",
   "pygments_lexer": "ipython2",
   "version": "2.7.6"
  }
 },
 "nbformat": 4,
 "nbformat_minor": 0
}
