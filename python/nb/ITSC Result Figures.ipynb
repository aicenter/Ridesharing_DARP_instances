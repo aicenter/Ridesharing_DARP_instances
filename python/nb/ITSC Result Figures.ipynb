{
 "cells": [
  {
   "cell_type": "code",
   "execution_count": 1,
   "outputs": [],
   "source": [
    "\n",
    "\n",
    "%load_ext autoreload"
   ],
   "metadata": {
    "collapsed": false,
    "ExecuteTime": {
     "end_time": "2023-05-17T09:35:36.365574800Z",
     "start_time": "2023-05-17T09:35:36.282545600Z"
    }
   }
  },
  {
   "cell_type": "code",
   "execution_count": 17,
   "outputs": [
    {
     "name": "stderr",
     "output_type": "stream",
     "text": [
      "[autoreload of _pydevd_bundle.pydevd_additional_thread_info_regular failed: Traceback (most recent call last):\n",
      "  File \"C:\\Program Files\\Python310\\lib\\site-packages\\IPython\\extensions\\autoreload.py\", line 257, in check\n",
      "    superreload(m, reload, self.old_objects)\n",
      "  File \"C:\\Program Files\\Python310\\lib\\site-packages\\IPython\\extensions\\autoreload.py\", line 480, in superreload\n",
      "    update_generic(old_obj, new_obj)\n",
      "  File \"C:\\Program Files\\Python310\\lib\\site-packages\\IPython\\extensions\\autoreload.py\", line 377, in update_generic\n",
      "    update(a, b)\n",
      "  File \"C:\\Program Files\\Python310\\lib\\site-packages\\IPython\\extensions\\autoreload.py\", line 345, in update_class\n",
      "    update_instances(old, new)\n",
      "  File \"C:\\Program Files\\Python310\\lib\\site-packages\\IPython\\extensions\\autoreload.py\", line 294, in update_instances\n",
      "    def update_instances(old, new):\n",
      "  File \"C:\\Users\\david\\AppData\\Local\\JetBrains\\Toolbox\\apps\\PyCharm-P\\ch-0\\231.8770.66\\plugins\\python\\helpers\\pydev\\_pydevd_bundle\\pydevd_trace_dispatch_regular.py\", line 391, in __call__\n",
      "    pydev_step_cmd = additional_info.pydev_step_cmd\n",
      "TypeError: descriptor 'pydev_step_cmd' for 'PyDBAdditionalThreadInfo' objects doesn't apply to a 'PyDBAdditionalThreadInfo' object\n",
      "]\n",
      "[autoreload of pydevd failed: Traceback (most recent call last):\n",
      "  File \"C:\\Program Files\\Python310\\lib\\site-packages\\IPython\\extensions\\autoreload.py\", line 257, in check\n",
      "    superreload(m, reload, self.old_objects)\n",
      "  File \"C:\\Program Files\\Python310\\lib\\site-packages\\IPython\\extensions\\autoreload.py\", line 480, in superreload\n",
      "    update_generic(old_obj, new_obj)\n",
      "  File \"C:\\Program Files\\Python310\\lib\\site-packages\\IPython\\extensions\\autoreload.py\", line 377, in update_generic\n",
      "    update(a, b)\n",
      "  File \"C:\\Program Files\\Python310\\lib\\site-packages\\IPython\\extensions\\autoreload.py\", line 345, in update_class\n",
      "    update_instances(old, new)\n",
      "  File \"C:\\Program Files\\Python310\\lib\\site-packages\\IPython\\extensions\\autoreload.py\", line 303, in update_instances\n",
      "    ref.__class__ = new\n",
      "TypeError: __class__ assignment: 'ThreadsSuspendedSingleNotification' object layout differs from 'ThreadsSuspendedSingleNotification'\n",
      "]\n"
     ]
    }
   ],
   "source": [
    "%autoreload"
   ],
   "metadata": {
    "collapsed": false,
    "ExecuteTime": {
     "end_time": "2023-05-17T09:35:21.384546200Z",
     "start_time": "2023-05-17T09:35:19.856546700Z"
    }
   }
  },
  {
   "cell_type": "code",
   "execution_count": 128,
   "outputs": [],
   "source": [
    "import logging\n",
    "import os\n",
    "from pathlib import Path\n",
    "import pandas as pd\n",
    "import yaml\n",
    "from typing import Dict, List\n",
    "import plotly.express as px\n",
    "import plotly.graph_objs as go\n",
    "import numpy as np\n",
    "\n",
    "from darpinstances.results import load_instance_series, instance_series_results_to_dataframe, load_instance_results, load_results_from_folder, get_processed_results, load_aggregate_stats_in_dir,load_occupancies_in_dir"
   ],
   "metadata": {
    "collapsed": false,
    "ExecuteTime": {
     "end_time": "2023-05-17T15:55:49.427297600Z",
     "start_time": "2023-05-17T15:55:49.383267500Z"
    }
   }
  },
  {
   "cell_type": "code",
   "execution_count": 3,
   "outputs": [],
   "source": [
    "# darp_data_path = r\"D:/Google Drive/AIC Experiment Data/DARP\"\n",
    "darp_data_path = r\"C:/Google Drive/AIC Experiment Data/DARP\""
   ],
   "metadata": {
    "collapsed": false,
    "ExecuteTime": {
     "end_time": "2023-05-17T09:35:42.885574700Z",
     "start_time": "2023-05-17T09:35:42.836545900Z"
    }
   }
  },
  {
   "cell_type": "code",
   "execution_count": 4,
   "outputs": [],
   "source": [
    "final_results_path = Path(darp_data_path) / Path(\"ITSC_instance_paper/Results\")\n",
    "areas = [\n",
    "    'NYC',\n",
    "    'Manhattan',\n",
    "    'Chicago',\n",
    "    'DC'\n",
    "]"
   ],
   "metadata": {
    "collapsed": false,
    "ExecuteTime": {
     "end_time": "2023-05-17T09:35:43.643543300Z",
     "start_time": "2023-05-17T09:35:43.607545100Z"
    }
   }
  },
  {
   "cell_type": "code",
   "execution_count": 5,
   "outputs": [
    {
     "name": "stderr",
     "output_type": "stream",
     "text": [
      "11:35:45 [INFO] Loading aggregate stats in C:\\Google Drive\\AIC Experiment Data\\DARP\\ITSC_instance_paper\\Results\\NYC\n",
      "11:35:45 [WARNING] No solution found in folder: C:\\Google Drive\\AIC Experiment Data\\DARP\\ITSC_instance_paper\\Results\\NYC\\start_18-00\\duration_01_min\\max_delay_03_min\\halns\n",
      "11:35:45 [WARNING] No solution found in folder: C:\\Google Drive\\AIC Experiment Data\\DARP\\ITSC_instance_paper\\Results\\NYC\\start_18-00\\duration_01_min\\max_delay_03_min\\halns-ih\n",
      "11:35:45 [INFO] Loading json file from: C:\\Google Drive\\AIC Experiment Data\\DARP\\ITSC_instance_paper\\Results\\NYC\\start_18-00\\duration_01_min\\max_delay_03_min\\ih\\config.yaml-performance.json\n",
      "11:35:45 [INFO] Loading json file from: C:\\Google Drive\\AIC Experiment Data\\DARP\\ITSC_instance_paper\\Results\\NYC\\start_18-00\\duration_01_min\\max_delay_03_min\\ih\\config.yaml-solution.json\n",
      "11:35:45 [INFO] Loading experiment config from C:\\Google Drive\\AIC Experiment Data\\DARP\\ITSC_instance_paper\\Results\\NYC\\start_18-00\\duration_01_min\\max_delay_03_min\\ih\\config.yaml\n",
      "11:35:45 [INFO] Loading instance config from C:\\Google Drive\\AIC Experiment Data\\DARP\\ITSC_instance_paper\\Instances\\NYC\\instances\\start_18-00\\duration_01_min\\max_delay_03_min\\config.yaml\n",
      "11:35:45 [INFO] Loading json file from: C:\\Google Drive\\AIC Experiment Data\\DARP\\ITSC_instance_paper\\Results\\NYC\\start_18-00\\duration_01_min\\max_delay_03_min\\vga\\config.yaml-performance.json\n",
      "11:35:45 [INFO] Loading json file from: C:\\Google Drive\\AIC Experiment Data\\DARP\\ITSC_instance_paper\\Results\\NYC\\start_18-00\\duration_01_min\\max_delay_03_min\\vga\\config.yaml-solution.json\n",
      "11:35:45 [INFO] Loading experiment config from C:\\Google Drive\\AIC Experiment Data\\DARP\\ITSC_instance_paper\\Results\\NYC\\start_18-00\\duration_01_min\\max_delay_03_min\\vga\\config.yaml\n",
      "11:35:45 [INFO] Loading instance config from C:\\Google Drive\\AIC Experiment Data\\DARP\\ITSC_instance_paper\\Instances\\NYC\\instances\\start_18-00\\duration_01_min\\max_delay_03_min\\config.yaml\n",
      "11:35:45 [WARNING] No solution found in folder: C:\\Google Drive\\AIC Experiment Data\\DARP\\ITSC_instance_paper\\Results\\NYC\\start_18-00\\duration_01_min\\max_delay_05_min\\halns\n",
      "11:35:45 [WARNING] No solution found in folder: C:\\Google Drive\\AIC Experiment Data\\DARP\\ITSC_instance_paper\\Results\\NYC\\start_18-00\\duration_01_min\\max_delay_05_min\\halns-ih\n",
      "11:35:45 [INFO] Loading json file from: C:\\Google Drive\\AIC Experiment Data\\DARP\\ITSC_instance_paper\\Results\\NYC\\start_18-00\\duration_01_min\\max_delay_05_min\\ih\\config.yaml-performance.json\n",
      "11:35:45 [INFO] Loading json file from: C:\\Google Drive\\AIC Experiment Data\\DARP\\ITSC_instance_paper\\Results\\NYC\\start_18-00\\duration_01_min\\max_delay_05_min\\ih\\config.yaml-solution.json\n",
      "11:35:45 [INFO] Loading experiment config from C:\\Google Drive\\AIC Experiment Data\\DARP\\ITSC_instance_paper\\Results\\NYC\\start_18-00\\duration_01_min\\max_delay_05_min\\ih\\config.yaml\n",
      "11:35:45 [INFO] Loading instance config from C:\\Google Drive\\AIC Experiment Data\\DARP\\ITSC_instance_paper\\Instances\\NYC\\instances\\start_18-00\\duration_01_min\\max_delay_05_min\\config.yaml\n",
      "11:35:45 [INFO] Loading json file from: C:\\Google Drive\\AIC Experiment Data\\DARP\\ITSC_instance_paper\\Results\\NYC\\start_18-00\\duration_01_min\\max_delay_05_min\\vga\\config.yaml-performance.json\n",
      "11:35:45 [INFO] Loading json file from: C:\\Google Drive\\AIC Experiment Data\\DARP\\ITSC_instance_paper\\Results\\NYC\\start_18-00\\duration_01_min\\max_delay_05_min\\vga\\config.yaml-solution.json\n",
      "11:35:45 [INFO] Loading experiment config from C:\\Google Drive\\AIC Experiment Data\\DARP\\ITSC_instance_paper\\Results\\NYC\\start_18-00\\duration_01_min\\max_delay_05_min\\vga\\config.yaml\n",
      "11:35:45 [INFO] Loading instance config from C:\\Google Drive\\AIC Experiment Data\\DARP\\ITSC_instance_paper\\Instances\\NYC\\instances\\start_18-00\\duration_01_min\\max_delay_05_min\\config.yaml\n",
      "11:35:45 [WARNING] No solution found in folder: C:\\Google Drive\\AIC Experiment Data\\DARP\\ITSC_instance_paper\\Results\\NYC\\start_18-00\\duration_01_min\\max_delay_10_min\\halns\n",
      "11:35:45 [WARNING] No solution found in folder: C:\\Google Drive\\AIC Experiment Data\\DARP\\ITSC_instance_paper\\Results\\NYC\\start_18-00\\duration_01_min\\max_delay_10_min\\halns-ih\n",
      "11:35:45 [INFO] Loading json file from: C:\\Google Drive\\AIC Experiment Data\\DARP\\ITSC_instance_paper\\Results\\NYC\\start_18-00\\duration_01_min\\max_delay_10_min\\ih\\config.yaml-performance.json\n",
      "11:35:45 [INFO] Loading json file from: C:\\Google Drive\\AIC Experiment Data\\DARP\\ITSC_instance_paper\\Results\\NYC\\start_18-00\\duration_01_min\\max_delay_10_min\\ih\\config.yaml-solution.json\n",
      "11:35:45 [INFO] Loading experiment config from C:\\Google Drive\\AIC Experiment Data\\DARP\\ITSC_instance_paper\\Results\\NYC\\start_18-00\\duration_01_min\\max_delay_10_min\\ih\\config.yaml\n",
      "11:35:45 [INFO] Loading instance config from C:\\Google Drive\\AIC Experiment Data\\DARP\\ITSC_instance_paper\\Instances\\NYC\\instances\\start_18-00\\duration_01_min\\max_delay_10_min\\config.yaml\n",
      "11:35:45 [WARNING] No solution found in folder: C:\\Google Drive\\AIC Experiment Data\\DARP\\ITSC_instance_paper\\Results\\NYC\\start_18-00\\duration_01_min\\max_delay_10_min\\vga\n",
      "11:35:45 [WARNING] No solution found in folder: C:\\Google Drive\\AIC Experiment Data\\DARP\\ITSC_instance_paper\\Results\\NYC\\start_18-00\\duration_02_h\\max_delay_03_min\\halns\n",
      "11:35:45 [WARNING] No solution found in folder: C:\\Google Drive\\AIC Experiment Data\\DARP\\ITSC_instance_paper\\Results\\NYC\\start_18-00\\duration_02_h\\max_delay_03_min\\halns-ih\n",
      "11:35:45 [WARNING] No solution found in folder: C:\\Google Drive\\AIC Experiment Data\\DARP\\ITSC_instance_paper\\Results\\NYC\\start_18-00\\duration_02_h\\max_delay_03_min\\ih\n",
      "11:35:45 [WARNING] No solution found in folder: C:\\Google Drive\\AIC Experiment Data\\DARP\\ITSC_instance_paper\\Results\\NYC\\start_18-00\\duration_02_h\\max_delay_03_min\\vga\n",
      "11:35:45 [WARNING] No solution found in folder: C:\\Google Drive\\AIC Experiment Data\\DARP\\ITSC_instance_paper\\Results\\NYC\\start_18-00\\duration_02_h\\max_delay_05_min\\halns\n",
      "11:35:45 [WARNING] No solution found in folder: C:\\Google Drive\\AIC Experiment Data\\DARP\\ITSC_instance_paper\\Results\\NYC\\start_18-00\\duration_02_h\\max_delay_05_min\\halns-ih\n",
      "11:35:45 [WARNING] No solution found in folder: C:\\Google Drive\\AIC Experiment Data\\DARP\\ITSC_instance_paper\\Results\\NYC\\start_18-00\\duration_02_h\\max_delay_05_min\\ih\n",
      "11:35:45 [WARNING] No solution found in folder: C:\\Google Drive\\AIC Experiment Data\\DARP\\ITSC_instance_paper\\Results\\NYC\\start_18-00\\duration_02_h\\max_delay_05_min\\vga\n",
      "11:35:45 [WARNING] No solution found in folder: C:\\Google Drive\\AIC Experiment Data\\DARP\\ITSC_instance_paper\\Results\\NYC\\start_18-00\\duration_02_h\\max_delay_10_min\\halns\n",
      "11:35:45 [WARNING] No solution found in folder: C:\\Google Drive\\AIC Experiment Data\\DARP\\ITSC_instance_paper\\Results\\NYC\\start_18-00\\duration_02_h\\max_delay_10_min\\halns-ih\n",
      "11:35:45 [WARNING] No solution found in folder: C:\\Google Drive\\AIC Experiment Data\\DARP\\ITSC_instance_paper\\Results\\NYC\\start_18-00\\duration_02_h\\max_delay_10_min\\ih\n",
      "11:35:45 [WARNING] No solution found in folder: C:\\Google Drive\\AIC Experiment Data\\DARP\\ITSC_instance_paper\\Results\\NYC\\start_18-00\\duration_02_h\\max_delay_10_min\\vga\n",
      "11:35:45 [WARNING] No solution found in folder: C:\\Google Drive\\AIC Experiment Data\\DARP\\ITSC_instance_paper\\Results\\NYC\\start_18-00\\duration_02_min\\max_delay_03_min\\halns\n",
      "11:35:45 [WARNING] No solution found in folder: C:\\Google Drive\\AIC Experiment Data\\DARP\\ITSC_instance_paper\\Results\\NYC\\start_18-00\\duration_02_min\\max_delay_03_min\\halns-ih\n",
      "11:35:45 [INFO] Loading json file from: C:\\Google Drive\\AIC Experiment Data\\DARP\\ITSC_instance_paper\\Results\\NYC\\start_18-00\\duration_02_min\\max_delay_03_min\\ih\\config.yaml-performance.json\n",
      "11:35:45 [INFO] Loading json file from: C:\\Google Drive\\AIC Experiment Data\\DARP\\ITSC_instance_paper\\Results\\NYC\\start_18-00\\duration_02_min\\max_delay_03_min\\ih\\config.yaml-solution.json\n",
      "11:35:45 [INFO] Loading experiment config from C:\\Google Drive\\AIC Experiment Data\\DARP\\ITSC_instance_paper\\Results\\NYC\\start_18-00\\duration_02_min\\max_delay_03_min\\ih\\config.yaml\n",
      "11:35:45 [INFO] Loading instance config from C:\\Google Drive\\AIC Experiment Data\\DARP\\ITSC_instance_paper\\Instances\\NYC\\instances\\start_18-00\\duration_02_min\\max_delay_03_min\\config.yaml\n",
      "11:35:45 [INFO] Loading json file from: C:\\Google Drive\\AIC Experiment Data\\DARP\\ITSC_instance_paper\\Results\\NYC\\start_18-00\\duration_02_min\\max_delay_03_min\\vga\\config.yaml-performance.json\n",
      "11:35:45 [INFO] Loading json file from: C:\\Google Drive\\AIC Experiment Data\\DARP\\ITSC_instance_paper\\Results\\NYC\\start_18-00\\duration_02_min\\max_delay_03_min\\vga\\config.yaml-solution.json\n",
      "11:35:45 [INFO] Loading experiment config from C:\\Google Drive\\AIC Experiment Data\\DARP\\ITSC_instance_paper\\Results\\NYC\\start_18-00\\duration_02_min\\max_delay_03_min\\vga\\config.yaml\n",
      "11:35:45 [INFO] Loading instance config from C:\\Google Drive\\AIC Experiment Data\\DARP\\ITSC_instance_paper\\Instances\\NYC\\instances\\start_18-00\\duration_02_min\\max_delay_03_min\\config.yaml\n",
      "11:35:45 [WARNING] No solution found in folder: C:\\Google Drive\\AIC Experiment Data\\DARP\\ITSC_instance_paper\\Results\\NYC\\start_18-00\\duration_02_min\\max_delay_05_min\\halns\n",
      "11:35:45 [WARNING] No solution found in folder: C:\\Google Drive\\AIC Experiment Data\\DARP\\ITSC_instance_paper\\Results\\NYC\\start_18-00\\duration_02_min\\max_delay_05_min\\halns-ih\n",
      "11:35:45 [INFO] Loading json file from: C:\\Google Drive\\AIC Experiment Data\\DARP\\ITSC_instance_paper\\Results\\NYC\\start_18-00\\duration_02_min\\max_delay_05_min\\ih\\config.yaml-performance.json\n",
      "11:35:45 [INFO] Loading json file from: C:\\Google Drive\\AIC Experiment Data\\DARP\\ITSC_instance_paper\\Results\\NYC\\start_18-00\\duration_02_min\\max_delay_05_min\\ih\\config.yaml-solution.json\n",
      "11:35:45 [INFO] Loading experiment config from C:\\Google Drive\\AIC Experiment Data\\DARP\\ITSC_instance_paper\\Results\\NYC\\start_18-00\\duration_02_min\\max_delay_05_min\\ih\\config.yaml\n",
      "11:35:45 [INFO] Loading instance config from C:\\Google Drive\\AIC Experiment Data\\DARP\\ITSC_instance_paper\\Instances\\NYC\\instances\\start_18-00\\duration_02_min\\max_delay_05_min\\config.yaml\n",
      "11:35:45 [WARNING] No solution found in folder: C:\\Google Drive\\AIC Experiment Data\\DARP\\ITSC_instance_paper\\Results\\NYC\\start_18-00\\duration_02_min\\max_delay_05_min\\vga\n",
      "11:35:45 [WARNING] No solution found in folder: C:\\Google Drive\\AIC Experiment Data\\DARP\\ITSC_instance_paper\\Results\\NYC\\start_18-00\\duration_02_min\\max_delay_10_min\\halns\n",
      "11:35:45 [WARNING] No solution found in folder: C:\\Google Drive\\AIC Experiment Data\\DARP\\ITSC_instance_paper\\Results\\NYC\\start_18-00\\duration_02_min\\max_delay_10_min\\halns-ih\n",
      "11:35:45 [INFO] Loading json file from: C:\\Google Drive\\AIC Experiment Data\\DARP\\ITSC_instance_paper\\Results\\NYC\\start_18-00\\duration_02_min\\max_delay_10_min\\ih\\config.yaml-performance.json\n",
      "11:35:45 [INFO] Loading json file from: C:\\Google Drive\\AIC Experiment Data\\DARP\\ITSC_instance_paper\\Results\\NYC\\start_18-00\\duration_02_min\\max_delay_10_min\\ih\\config.yaml-solution.json\n",
      "11:35:45 [INFO] Loading experiment config from C:\\Google Drive\\AIC Experiment Data\\DARP\\ITSC_instance_paper\\Results\\NYC\\start_18-00\\duration_02_min\\max_delay_10_min\\ih\\config.yaml\n",
      "11:35:45 [INFO] Loading instance config from C:\\Google Drive\\AIC Experiment Data\\DARP\\ITSC_instance_paper\\Instances\\NYC\\instances\\start_18-00\\duration_02_min\\max_delay_10_min\\config.yaml\n",
      "11:35:45 [WARNING] No solution found in folder: C:\\Google Drive\\AIC Experiment Data\\DARP\\ITSC_instance_paper\\Results\\NYC\\start_18-00\\duration_02_min\\max_delay_10_min\\vga\n",
      "11:35:45 [WARNING] No solution found in folder: C:\\Google Drive\\AIC Experiment Data\\DARP\\ITSC_instance_paper\\Results\\NYC\\start_18-00\\duration_05_min\\max_delay_03_min\\halns\n",
      "11:35:45 [WARNING] No solution found in folder: C:\\Google Drive\\AIC Experiment Data\\DARP\\ITSC_instance_paper\\Results\\NYC\\start_18-00\\duration_05_min\\max_delay_03_min\\halns-ih\n",
      "11:35:45 [INFO] Loading json file from: C:\\Google Drive\\AIC Experiment Data\\DARP\\ITSC_instance_paper\\Results\\NYC\\start_18-00\\duration_05_min\\max_delay_03_min\\ih\\config.yaml-performance.json\n",
      "11:35:45 [INFO] Loading json file from: C:\\Google Drive\\AIC Experiment Data\\DARP\\ITSC_instance_paper\\Results\\NYC\\start_18-00\\duration_05_min\\max_delay_03_min\\ih\\config.yaml-solution.json\n",
      "11:35:45 [INFO] Loading experiment config from C:\\Google Drive\\AIC Experiment Data\\DARP\\ITSC_instance_paper\\Results\\NYC\\start_18-00\\duration_05_min\\max_delay_03_min\\ih\\config.yaml\n",
      "11:35:45 [INFO] Loading instance config from C:\\Google Drive\\AIC Experiment Data\\DARP\\ITSC_instance_paper\\Instances\\NYC\\instances\\start_18-00\\duration_05_min\\max_delay_03_min\\config.yaml\n",
      "11:35:45 [WARNING] No solution found in folder: C:\\Google Drive\\AIC Experiment Data\\DARP\\ITSC_instance_paper\\Results\\NYC\\start_18-00\\duration_05_min\\max_delay_03_min\\vga\n",
      "11:35:45 [WARNING] No solution found in folder: C:\\Google Drive\\AIC Experiment Data\\DARP\\ITSC_instance_paper\\Results\\NYC\\start_18-00\\duration_05_min\\max_delay_05_min\\halns\n",
      "11:35:45 [WARNING] No solution found in folder: C:\\Google Drive\\AIC Experiment Data\\DARP\\ITSC_instance_paper\\Results\\NYC\\start_18-00\\duration_05_min\\max_delay_05_min\\halns-ih\n",
      "11:35:45 [INFO] Loading json file from: C:\\Google Drive\\AIC Experiment Data\\DARP\\ITSC_instance_paper\\Results\\NYC\\start_18-00\\duration_05_min\\max_delay_05_min\\ih\\config.yaml-performance.json\n",
      "11:35:45 [INFO] Loading json file from: C:\\Google Drive\\AIC Experiment Data\\DARP\\ITSC_instance_paper\\Results\\NYC\\start_18-00\\duration_05_min\\max_delay_05_min\\ih\\config.yaml-solution.json\n",
      "11:35:45 [INFO] Loading experiment config from C:\\Google Drive\\AIC Experiment Data\\DARP\\ITSC_instance_paper\\Results\\NYC\\start_18-00\\duration_05_min\\max_delay_05_min\\ih\\config.yaml\n",
      "11:35:45 [INFO] Loading instance config from C:\\Google Drive\\AIC Experiment Data\\DARP\\ITSC_instance_paper\\Instances\\NYC\\instances\\start_18-00\\duration_05_min\\max_delay_05_min\\config.yaml\n",
      "11:35:45 [WARNING] No solution found in folder: C:\\Google Drive\\AIC Experiment Data\\DARP\\ITSC_instance_paper\\Results\\NYC\\start_18-00\\duration_05_min\\max_delay_05_min\\vga\n",
      "11:35:45 [WARNING] No solution found in folder: C:\\Google Drive\\AIC Experiment Data\\DARP\\ITSC_instance_paper\\Results\\NYC\\start_18-00\\duration_05_min\\max_delay_10_min\\halns\n",
      "11:35:45 [WARNING] No solution found in folder: C:\\Google Drive\\AIC Experiment Data\\DARP\\ITSC_instance_paper\\Results\\NYC\\start_18-00\\duration_05_min\\max_delay_10_min\\halns-ih\n",
      "11:35:45 [INFO] Loading json file from: C:\\Google Drive\\AIC Experiment Data\\DARP\\ITSC_instance_paper\\Results\\NYC\\start_18-00\\duration_05_min\\max_delay_10_min\\ih\\config.yaml-performance.json\n",
      "11:35:45 [INFO] Loading json file from: C:\\Google Drive\\AIC Experiment Data\\DARP\\ITSC_instance_paper\\Results\\NYC\\start_18-00\\duration_05_min\\max_delay_10_min\\ih\\config.yaml-solution.json\n",
      "11:35:45 [INFO] Loading experiment config from C:\\Google Drive\\AIC Experiment Data\\DARP\\ITSC_instance_paper\\Results\\NYC\\start_18-00\\duration_05_min\\max_delay_10_min\\ih\\config.yaml\n",
      "11:35:45 [INFO] Loading instance config from C:\\Google Drive\\AIC Experiment Data\\DARP\\ITSC_instance_paper\\Instances\\NYC\\instances\\start_18-00\\duration_05_min\\max_delay_10_min\\config.yaml\n",
      "11:35:45 [WARNING] No solution found in folder: C:\\Google Drive\\AIC Experiment Data\\DARP\\ITSC_instance_paper\\Results\\NYC\\start_18-00\\duration_05_min\\max_delay_10_min\\vga\n",
      "11:35:45 [WARNING] No solution found in folder: C:\\Google Drive\\AIC Experiment Data\\DARP\\ITSC_instance_paper\\Results\\NYC\\start_18-00\\duration_15_min\\max_delay_03_min\\halns\n",
      "11:35:45 [WARNING] No solution found in folder: C:\\Google Drive\\AIC Experiment Data\\DARP\\ITSC_instance_paper\\Results\\NYC\\start_18-00\\duration_15_min\\max_delay_03_min\\halns-ih\n",
      "11:35:45 [INFO] Loading json file from: C:\\Google Drive\\AIC Experiment Data\\DARP\\ITSC_instance_paper\\Results\\NYC\\start_18-00\\duration_15_min\\max_delay_03_min\\ih\\config.yaml-performance.json\n",
      "11:35:45 [INFO] Loading json file from: C:\\Google Drive\\AIC Experiment Data\\DARP\\ITSC_instance_paper\\Results\\NYC\\start_18-00\\duration_15_min\\max_delay_03_min\\ih\\config.yaml-solution.json\n",
      "11:35:45 [INFO] Loading experiment config from C:\\Google Drive\\AIC Experiment Data\\DARP\\ITSC_instance_paper\\Results\\NYC\\start_18-00\\duration_15_min\\max_delay_03_min\\ih\\config.yaml\n",
      "11:35:45 [INFO] Loading instance config from C:\\Google Drive\\AIC Experiment Data\\DARP\\ITSC_instance_paper\\Instances\\NYC\\instances\\start_18-00\\duration_15_min\\max_delay_03_min\\config.yaml\n",
      "11:35:45 [WARNING] No solution found in folder: C:\\Google Drive\\AIC Experiment Data\\DARP\\ITSC_instance_paper\\Results\\NYC\\start_18-00\\duration_15_min\\max_delay_03_min\\vga\n",
      "11:35:45 [WARNING] No solution found in folder: C:\\Google Drive\\AIC Experiment Data\\DARP\\ITSC_instance_paper\\Results\\NYC\\start_18-00\\duration_15_min\\max_delay_05_min\\halns\n",
      "11:35:45 [WARNING] No solution found in folder: C:\\Google Drive\\AIC Experiment Data\\DARP\\ITSC_instance_paper\\Results\\NYC\\start_18-00\\duration_15_min\\max_delay_05_min\\halns-ih\n",
      "11:35:45 [INFO] Loading json file from: C:\\Google Drive\\AIC Experiment Data\\DARP\\ITSC_instance_paper\\Results\\NYC\\start_18-00\\duration_15_min\\max_delay_05_min\\ih\\config.yaml-performance.json\n",
      "11:35:45 [INFO] Loading json file from: C:\\Google Drive\\AIC Experiment Data\\DARP\\ITSC_instance_paper\\Results\\NYC\\start_18-00\\duration_15_min\\max_delay_05_min\\ih\\config.yaml-solution.json\n",
      "11:35:46 [INFO] Loading experiment config from C:\\Google Drive\\AIC Experiment Data\\DARP\\ITSC_instance_paper\\Results\\NYC\\start_18-00\\duration_15_min\\max_delay_05_min\\ih\\config.yaml\n",
      "11:35:46 [INFO] Loading instance config from C:\\Google Drive\\AIC Experiment Data\\DARP\\ITSC_instance_paper\\Instances\\NYC\\instances\\start_18-00\\duration_15_min\\max_delay_05_min\\config.yaml\n",
      "11:35:46 [WARNING] No solution found in folder: C:\\Google Drive\\AIC Experiment Data\\DARP\\ITSC_instance_paper\\Results\\NYC\\start_18-00\\duration_15_min\\max_delay_05_min\\vga\n",
      "11:35:46 [WARNING] No solution found in folder: C:\\Google Drive\\AIC Experiment Data\\DARP\\ITSC_instance_paper\\Results\\NYC\\start_18-00\\duration_15_min\\max_delay_10_min\\halns\n",
      "11:35:46 [WARNING] No solution found in folder: C:\\Google Drive\\AIC Experiment Data\\DARP\\ITSC_instance_paper\\Results\\NYC\\start_18-00\\duration_15_min\\max_delay_10_min\\halns-ih\n",
      "11:35:46 [INFO] Loading json file from: C:\\Google Drive\\AIC Experiment Data\\DARP\\ITSC_instance_paper\\Results\\NYC\\start_18-00\\duration_15_min\\max_delay_10_min\\ih\\config.yaml-performance.json\n",
      "11:35:46 [INFO] Loading json file from: C:\\Google Drive\\AIC Experiment Data\\DARP\\ITSC_instance_paper\\Results\\NYC\\start_18-00\\duration_15_min\\max_delay_10_min\\ih\\config.yaml-solution.json\n",
      "11:35:46 [INFO] Loading experiment config from C:\\Google Drive\\AIC Experiment Data\\DARP\\ITSC_instance_paper\\Results\\NYC\\start_18-00\\duration_15_min\\max_delay_10_min\\ih\\config.yaml\n",
      "11:35:46 [INFO] Loading instance config from C:\\Google Drive\\AIC Experiment Data\\DARP\\ITSC_instance_paper\\Instances\\NYC\\instances\\start_18-00\\duration_15_min\\max_delay_10_min\\config.yaml\n",
      "11:35:46 [WARNING] No solution found in folder: C:\\Google Drive\\AIC Experiment Data\\DARP\\ITSC_instance_paper\\Results\\NYC\\start_18-00\\duration_15_min\\max_delay_10_min\\vga\n",
      "11:35:46 [WARNING] No solution found in folder: C:\\Google Drive\\AIC Experiment Data\\DARP\\ITSC_instance_paper\\Results\\NYC\\start_18-00\\duration_16_h\\max_delay_03_min\\halns\n",
      "11:35:46 [WARNING] No solution found in folder: C:\\Google Drive\\AIC Experiment Data\\DARP\\ITSC_instance_paper\\Results\\NYC\\start_18-00\\duration_16_h\\max_delay_03_min\\halns-ih\n",
      "11:35:46 [WARNING] No solution found in folder: C:\\Google Drive\\AIC Experiment Data\\DARP\\ITSC_instance_paper\\Results\\NYC\\start_18-00\\duration_16_h\\max_delay_03_min\\ih\n",
      "11:35:46 [WARNING] No solution found in folder: C:\\Google Drive\\AIC Experiment Data\\DARP\\ITSC_instance_paper\\Results\\NYC\\start_18-00\\duration_16_h\\max_delay_03_min\\vga\n",
      "11:35:46 [WARNING] No solution found in folder: C:\\Google Drive\\AIC Experiment Data\\DARP\\ITSC_instance_paper\\Results\\NYC\\start_18-00\\duration_16_h\\max_delay_05_min\\halns\n",
      "11:35:46 [WARNING] No solution found in folder: C:\\Google Drive\\AIC Experiment Data\\DARP\\ITSC_instance_paper\\Results\\NYC\\start_18-00\\duration_16_h\\max_delay_05_min\\halns-ih\n",
      "11:35:46 [WARNING] No solution found in folder: C:\\Google Drive\\AIC Experiment Data\\DARP\\ITSC_instance_paper\\Results\\NYC\\start_18-00\\duration_16_h\\max_delay_05_min\\ih\n",
      "11:35:46 [WARNING] No solution found in folder: C:\\Google Drive\\AIC Experiment Data\\DARP\\ITSC_instance_paper\\Results\\NYC\\start_18-00\\duration_16_h\\max_delay_05_min\\vga\n",
      "11:35:46 [WARNING] No solution found in folder: C:\\Google Drive\\AIC Experiment Data\\DARP\\ITSC_instance_paper\\Results\\NYC\\start_18-00\\duration_16_h\\max_delay_10_min\\halns\n",
      "11:35:46 [WARNING] No solution found in folder: C:\\Google Drive\\AIC Experiment Data\\DARP\\ITSC_instance_paper\\Results\\NYC\\start_18-00\\duration_16_h\\max_delay_10_min\\halns-ih\n",
      "11:35:46 [WARNING] No solution found in folder: C:\\Google Drive\\AIC Experiment Data\\DARP\\ITSC_instance_paper\\Results\\NYC\\start_18-00\\duration_16_h\\max_delay_10_min\\ih\n",
      "11:35:46 [WARNING] No solution found in folder: C:\\Google Drive\\AIC Experiment Data\\DARP\\ITSC_instance_paper\\Results\\NYC\\start_18-00\\duration_16_h\\max_delay_10_min\\vga\n",
      "11:35:46 [WARNING] No solution found in folder: C:\\Google Drive\\AIC Experiment Data\\DARP\\ITSC_instance_paper\\Results\\NYC\\start_18-00\\duration_30_min\\max_delay_03_min\\halns\n",
      "11:35:46 [WARNING] No solution found in folder: C:\\Google Drive\\AIC Experiment Data\\DARP\\ITSC_instance_paper\\Results\\NYC\\start_18-00\\duration_30_min\\max_delay_03_min\\halns-ih\n",
      "11:35:46 [INFO] Loading json file from: C:\\Google Drive\\AIC Experiment Data\\DARP\\ITSC_instance_paper\\Results\\NYC\\start_18-00\\duration_30_min\\max_delay_03_min\\ih\\config.yaml-performance.json\n",
      "11:35:46 [INFO] Loading json file from: C:\\Google Drive\\AIC Experiment Data\\DARP\\ITSC_instance_paper\\Results\\NYC\\start_18-00\\duration_30_min\\max_delay_03_min\\ih\\config.yaml-solution.json\n",
      "11:35:46 [INFO] Loading experiment config from C:\\Google Drive\\AIC Experiment Data\\DARP\\ITSC_instance_paper\\Results\\NYC\\start_18-00\\duration_30_min\\max_delay_03_min\\ih\\config.yaml\n",
      "11:35:46 [INFO] Loading instance config from C:\\Google Drive\\AIC Experiment Data\\DARP\\ITSC_instance_paper\\Instances\\NYC\\instances\\start_18-00\\duration_30_min\\max_delay_03_min\\config.yaml\n",
      "11:35:46 [WARNING] No solution found in folder: C:\\Google Drive\\AIC Experiment Data\\DARP\\ITSC_instance_paper\\Results\\NYC\\start_18-00\\duration_30_min\\max_delay_03_min\\vga\n",
      "11:35:46 [WARNING] No solution found in folder: C:\\Google Drive\\AIC Experiment Data\\DARP\\ITSC_instance_paper\\Results\\NYC\\start_18-00\\duration_30_min\\max_delay_05_min\\halns\n",
      "11:35:46 [WARNING] No solution found in folder: C:\\Google Drive\\AIC Experiment Data\\DARP\\ITSC_instance_paper\\Results\\NYC\\start_18-00\\duration_30_min\\max_delay_05_min\\halns-ih\n",
      "11:35:46 [INFO] Loading json file from: C:\\Google Drive\\AIC Experiment Data\\DARP\\ITSC_instance_paper\\Results\\NYC\\start_18-00\\duration_30_min\\max_delay_05_min\\ih\\config.yaml-performance.json\n",
      "11:35:46 [INFO] Loading json file from: C:\\Google Drive\\AIC Experiment Data\\DARP\\ITSC_instance_paper\\Results\\NYC\\start_18-00\\duration_30_min\\max_delay_05_min\\ih\\config.yaml-solution.json\n",
      "11:35:46 [INFO] Loading experiment config from C:\\Google Drive\\AIC Experiment Data\\DARP\\ITSC_instance_paper\\Results\\NYC\\start_18-00\\duration_30_min\\max_delay_05_min\\ih\\config.yaml\n",
      "11:35:46 [INFO] Loading instance config from C:\\Google Drive\\AIC Experiment Data\\DARP\\ITSC_instance_paper\\Instances\\NYC\\instances\\start_18-00\\duration_30_min\\max_delay_05_min\\config.yaml\n",
      "11:35:46 [WARNING] No solution found in folder: C:\\Google Drive\\AIC Experiment Data\\DARP\\ITSC_instance_paper\\Results\\NYC\\start_18-00\\duration_30_min\\max_delay_05_min\\vga\n",
      "11:35:46 [WARNING] No solution found in folder: C:\\Google Drive\\AIC Experiment Data\\DARP\\ITSC_instance_paper\\Results\\NYC\\start_18-00\\duration_30_min\\max_delay_10_min\\halns\n",
      "11:35:46 [WARNING] No solution found in folder: C:\\Google Drive\\AIC Experiment Data\\DARP\\ITSC_instance_paper\\Results\\NYC\\start_18-00\\duration_30_min\\max_delay_10_min\\halns-ih\n",
      "11:35:46 [INFO] Loading json file from: C:\\Google Drive\\AIC Experiment Data\\DARP\\ITSC_instance_paper\\Results\\NYC\\start_18-00\\duration_30_min\\max_delay_10_min\\ih\\config.yaml-performance.json\n",
      "11:35:46 [INFO] Loading json file from: C:\\Google Drive\\AIC Experiment Data\\DARP\\ITSC_instance_paper\\Results\\NYC\\start_18-00\\duration_30_min\\max_delay_10_min\\ih\\config.yaml-solution.json\n",
      "11:35:46 [INFO] Loading experiment config from C:\\Google Drive\\AIC Experiment Data\\DARP\\ITSC_instance_paper\\Results\\NYC\\start_18-00\\duration_30_min\\max_delay_10_min\\ih\\config.yaml\n",
      "11:35:46 [INFO] Loading instance config from C:\\Google Drive\\AIC Experiment Data\\DARP\\ITSC_instance_paper\\Instances\\NYC\\instances\\start_18-00\\duration_30_min\\max_delay_10_min\\config.yaml\n",
      "11:35:46 [WARNING] No solution found in folder: C:\\Google Drive\\AIC Experiment Data\\DARP\\ITSC_instance_paper\\Results\\NYC\\start_18-00\\duration_30_min\\max_delay_10_min\\vga\n",
      "11:35:46 [WARNING] No solution found in folder: C:\\Google Drive\\AIC Experiment Data\\DARP\\ITSC_instance_paper\\Results\\NYC\\start_18-00\\duration_30_s\\max_delay_03_min\\halns\n",
      "11:35:46 [WARNING] No solution found in folder: C:\\Google Drive\\AIC Experiment Data\\DARP\\ITSC_instance_paper\\Results\\NYC\\start_18-00\\duration_30_s\\max_delay_03_min\\halns-ih\n",
      "11:35:46 [INFO] Loading json file from: C:\\Google Drive\\AIC Experiment Data\\DARP\\ITSC_instance_paper\\Results\\NYC\\start_18-00\\duration_30_s\\max_delay_03_min\\ih\\config.yaml-performance.json\n",
      "11:35:46 [INFO] Loading json file from: C:\\Google Drive\\AIC Experiment Data\\DARP\\ITSC_instance_paper\\Results\\NYC\\start_18-00\\duration_30_s\\max_delay_03_min\\ih\\config.yaml-solution.json\n",
      "11:35:46 [INFO] Loading experiment config from C:\\Google Drive\\AIC Experiment Data\\DARP\\ITSC_instance_paper\\Results\\NYC\\start_18-00\\duration_30_s\\max_delay_03_min\\ih\\config.yaml\n",
      "11:35:46 [INFO] Loading instance config from C:\\Google Drive\\AIC Experiment Data\\DARP\\ITSC_instance_paper\\Instances\\NYC\\instances\\start_18-00\\duration_30_s\\max_delay_03_min\\config.yaml\n",
      "11:35:46 [INFO] Loading json file from: C:\\Google Drive\\AIC Experiment Data\\DARP\\ITSC_instance_paper\\Results\\NYC\\start_18-00\\duration_30_s\\max_delay_03_min\\vga\\config.yaml-performance.json\n",
      "11:35:46 [INFO] Loading json file from: C:\\Google Drive\\AIC Experiment Data\\DARP\\ITSC_instance_paper\\Results\\NYC\\start_18-00\\duration_30_s\\max_delay_03_min\\vga\\config.yaml-solution.json\n",
      "11:35:46 [INFO] Loading experiment config from C:\\Google Drive\\AIC Experiment Data\\DARP\\ITSC_instance_paper\\Results\\NYC\\start_18-00\\duration_30_s\\max_delay_03_min\\vga\\config.yaml\n",
      "11:35:46 [INFO] Loading instance config from C:\\Google Drive\\AIC Experiment Data\\DARP\\ITSC_instance_paper\\Instances\\NYC\\instances\\start_18-00\\duration_30_s\\max_delay_03_min\\config.yaml\n",
      "11:35:46 [WARNING] No solution found in folder: C:\\Google Drive\\AIC Experiment Data\\DARP\\ITSC_instance_paper\\Results\\NYC\\start_18-00\\duration_30_s\\max_delay_05_min\\halns\n",
      "11:35:46 [WARNING] No solution found in folder: C:\\Google Drive\\AIC Experiment Data\\DARP\\ITSC_instance_paper\\Results\\NYC\\start_18-00\\duration_30_s\\max_delay_05_min\\halns-ih\n",
      "11:35:46 [INFO] Loading json file from: C:\\Google Drive\\AIC Experiment Data\\DARP\\ITSC_instance_paper\\Results\\NYC\\start_18-00\\duration_30_s\\max_delay_05_min\\ih\\config.yaml-performance.json\n",
      "11:35:46 [INFO] Loading json file from: C:\\Google Drive\\AIC Experiment Data\\DARP\\ITSC_instance_paper\\Results\\NYC\\start_18-00\\duration_30_s\\max_delay_05_min\\ih\\config.yaml-solution.json\n",
      "11:35:46 [INFO] Loading experiment config from C:\\Google Drive\\AIC Experiment Data\\DARP\\ITSC_instance_paper\\Results\\NYC\\start_18-00\\duration_30_s\\max_delay_05_min\\ih\\config.yaml\n",
      "11:35:46 [INFO] Loading instance config from C:\\Google Drive\\AIC Experiment Data\\DARP\\ITSC_instance_paper\\Instances\\NYC\\instances\\start_18-00\\duration_30_s\\max_delay_05_min\\config.yaml\n",
      "11:35:46 [INFO] Loading json file from: C:\\Google Drive\\AIC Experiment Data\\DARP\\ITSC_instance_paper\\Results\\NYC\\start_18-00\\duration_30_s\\max_delay_05_min\\vga\\config.yaml-performance.json\n",
      "11:35:46 [INFO] Loading json file from: C:\\Google Drive\\AIC Experiment Data\\DARP\\ITSC_instance_paper\\Results\\NYC\\start_18-00\\duration_30_s\\max_delay_05_min\\vga\\config.yaml-solution.json\n",
      "11:35:46 [INFO] Loading experiment config from C:\\Google Drive\\AIC Experiment Data\\DARP\\ITSC_instance_paper\\Results\\NYC\\start_18-00\\duration_30_s\\max_delay_05_min\\vga\\config.yaml\n",
      "11:35:46 [INFO] Loading instance config from C:\\Google Drive\\AIC Experiment Data\\DARP\\ITSC_instance_paper\\Instances\\NYC\\instances\\start_18-00\\duration_30_s\\max_delay_05_min\\config.yaml\n",
      "11:35:46 [WARNING] No solution found in folder: C:\\Google Drive\\AIC Experiment Data\\DARP\\ITSC_instance_paper\\Results\\NYC\\start_18-00\\duration_30_s\\max_delay_10_min\\halns\n",
      "11:35:46 [WARNING] No solution found in folder: C:\\Google Drive\\AIC Experiment Data\\DARP\\ITSC_instance_paper\\Results\\NYC\\start_18-00\\duration_30_s\\max_delay_10_min\\halns-ih\n",
      "11:35:46 [INFO] Loading json file from: C:\\Google Drive\\AIC Experiment Data\\DARP\\ITSC_instance_paper\\Results\\NYC\\start_18-00\\duration_30_s\\max_delay_10_min\\ih\\config.yaml-performance.json\n",
      "11:35:46 [INFO] Loading json file from: C:\\Google Drive\\AIC Experiment Data\\DARP\\ITSC_instance_paper\\Results\\NYC\\start_18-00\\duration_30_s\\max_delay_10_min\\ih\\config.yaml-solution.json\n",
      "11:35:46 [INFO] Loading experiment config from C:\\Google Drive\\AIC Experiment Data\\DARP\\ITSC_instance_paper\\Results\\NYC\\start_18-00\\duration_30_s\\max_delay_10_min\\ih\\config.yaml\n",
      "11:35:46 [INFO] Loading instance config from C:\\Google Drive\\AIC Experiment Data\\DARP\\ITSC_instance_paper\\Instances\\NYC\\instances\\start_18-00\\duration_30_s\\max_delay_10_min\\config.yaml\n",
      "11:35:46 [INFO] Loading json file from: C:\\Google Drive\\AIC Experiment Data\\DARP\\ITSC_instance_paper\\Results\\NYC\\start_18-00\\duration_30_s\\max_delay_10_min\\vga\\config.yaml-performance.json\n",
      "11:35:46 [INFO] Loading json file from: C:\\Google Drive\\AIC Experiment Data\\DARP\\ITSC_instance_paper\\Results\\NYC\\start_18-00\\duration_30_s\\max_delay_10_min\\vga\\config.yaml-solution.json\n",
      "11:35:46 [INFO] Loading experiment config from C:\\Google Drive\\AIC Experiment Data\\DARP\\ITSC_instance_paper\\Results\\NYC\\start_18-00\\duration_30_s\\max_delay_10_min\\vga\\config.yaml\n",
      "11:35:46 [INFO] Loading instance config from C:\\Google Drive\\AIC Experiment Data\\DARP\\ITSC_instance_paper\\Instances\\NYC\\instances\\start_18-00\\duration_30_s\\max_delay_10_min\\config.yaml\n",
      "11:35:46 [INFO] Loading aggregate stats in C:\\Google Drive\\AIC Experiment Data\\DARP\\ITSC_instance_paper\\Results\\Manhattan\n",
      "11:35:46 [WARNING] No solution found in folder: C:\\Google Drive\\AIC Experiment Data\\DARP\\ITSC_instance_paper\\Results\\Manhattan\\start_18-00\\duration_01_min\\max_delay_03_min\\halns\n",
      "11:35:46 [WARNING] No solution found in folder: C:\\Google Drive\\AIC Experiment Data\\DARP\\ITSC_instance_paper\\Results\\Manhattan\\start_18-00\\duration_01_min\\max_delay_03_min\\halns-ih\n",
      "11:35:46 [INFO] Loading json file from: C:\\Google Drive\\AIC Experiment Data\\DARP\\ITSC_instance_paper\\Results\\Manhattan\\start_18-00\\duration_01_min\\max_delay_03_min\\ih\\config.yaml-performance.json\n",
      "11:35:46 [INFO] Loading json file from: C:\\Google Drive\\AIC Experiment Data\\DARP\\ITSC_instance_paper\\Results\\Manhattan\\start_18-00\\duration_01_min\\max_delay_03_min\\ih\\config.yaml-solution.json\n",
      "11:35:46 [INFO] Loading experiment config from C:\\Google Drive\\AIC Experiment Data\\DARP\\ITSC_instance_paper\\Results\\Manhattan\\start_18-00\\duration_01_min\\max_delay_03_min\\ih\\config.yaml\n",
      "11:35:46 [INFO] Loading instance config from C:\\Google Drive\\AIC Experiment Data\\DARP\\ITSC_instance_paper\\Instances\\Manhattan\\instances\\start_18-00\\duration_01_min\\max_delay_03_min\\config.yaml\n",
      "11:35:46 [INFO] Loading json file from: C:\\Google Drive\\AIC Experiment Data\\DARP\\ITSC_instance_paper\\Results\\Manhattan\\start_18-00\\duration_01_min\\max_delay_03_min\\vga\\config.yaml-performance.json\n",
      "11:35:46 [INFO] Loading json file from: C:\\Google Drive\\AIC Experiment Data\\DARP\\ITSC_instance_paper\\Results\\Manhattan\\start_18-00\\duration_01_min\\max_delay_03_min\\vga\\config.yaml-solution.json\n",
      "11:35:46 [INFO] Loading experiment config from C:\\Google Drive\\AIC Experiment Data\\DARP\\ITSC_instance_paper\\Results\\Manhattan\\start_18-00\\duration_01_min\\max_delay_03_min\\vga\\config.yaml\n",
      "11:35:46 [INFO] Loading instance config from C:\\Google Drive\\AIC Experiment Data\\DARP\\ITSC_instance_paper\\Instances\\Manhattan\\instances\\start_18-00\\duration_01_min\\max_delay_03_min\\config.yaml\n",
      "11:35:46 [WARNING] No solution found in folder: C:\\Google Drive\\AIC Experiment Data\\DARP\\ITSC_instance_paper\\Results\\Manhattan\\start_18-00\\duration_01_min\\max_delay_05_min\\halns\n",
      "11:35:46 [WARNING] No solution found in folder: C:\\Google Drive\\AIC Experiment Data\\DARP\\ITSC_instance_paper\\Results\\Manhattan\\start_18-00\\duration_01_min\\max_delay_05_min\\halns-ih\n",
      "11:35:46 [INFO] Loading json file from: C:\\Google Drive\\AIC Experiment Data\\DARP\\ITSC_instance_paper\\Results\\Manhattan\\start_18-00\\duration_01_min\\max_delay_05_min\\ih\\config.yaml-performance.json\n",
      "11:35:46 [INFO] Loading json file from: C:\\Google Drive\\AIC Experiment Data\\DARP\\ITSC_instance_paper\\Results\\Manhattan\\start_18-00\\duration_01_min\\max_delay_05_min\\ih\\config.yaml-solution.json\n",
      "11:35:47 [INFO] Loading experiment config from C:\\Google Drive\\AIC Experiment Data\\DARP\\ITSC_instance_paper\\Results\\Manhattan\\start_18-00\\duration_01_min\\max_delay_05_min\\ih\\config.yaml\n",
      "11:35:47 [INFO] Loading instance config from C:\\Google Drive\\AIC Experiment Data\\DARP\\ITSC_instance_paper\\Instances\\Manhattan\\instances\\start_18-00\\duration_01_min\\max_delay_05_min\\config.yaml\n",
      "11:35:47 [INFO] Loading json file from: C:\\Google Drive\\AIC Experiment Data\\DARP\\ITSC_instance_paper\\Results\\Manhattan\\start_18-00\\duration_01_min\\max_delay_05_min\\vga\\config.yaml-performance.json\n",
      "11:35:47 [INFO] Loading json file from: C:\\Google Drive\\AIC Experiment Data\\DARP\\ITSC_instance_paper\\Results\\Manhattan\\start_18-00\\duration_01_min\\max_delay_05_min\\vga\\config.yaml-solution.json\n",
      "11:35:47 [INFO] Loading experiment config from C:\\Google Drive\\AIC Experiment Data\\DARP\\ITSC_instance_paper\\Results\\Manhattan\\start_18-00\\duration_01_min\\max_delay_05_min\\vga\\config.yaml\n",
      "11:35:47 [INFO] Loading instance config from C:\\Google Drive\\AIC Experiment Data\\DARP\\ITSC_instance_paper\\Instances\\Manhattan\\instances\\start_18-00\\duration_01_min\\max_delay_05_min\\config.yaml\n",
      "11:35:47 [WARNING] No solution found in folder: C:\\Google Drive\\AIC Experiment Data\\DARP\\ITSC_instance_paper\\Results\\Manhattan\\start_18-00\\duration_01_min\\max_delay_10_min\\halns\n",
      "11:35:47 [WARNING] No solution found in folder: C:\\Google Drive\\AIC Experiment Data\\DARP\\ITSC_instance_paper\\Results\\Manhattan\\start_18-00\\duration_01_min\\max_delay_10_min\\halns-ih\n",
      "11:35:47 [INFO] Loading json file from: C:\\Google Drive\\AIC Experiment Data\\DARP\\ITSC_instance_paper\\Results\\Manhattan\\start_18-00\\duration_01_min\\max_delay_10_min\\ih\\config.yaml-performance.json\n",
      "11:35:47 [INFO] Loading json file from: C:\\Google Drive\\AIC Experiment Data\\DARP\\ITSC_instance_paper\\Results\\Manhattan\\start_18-00\\duration_01_min\\max_delay_10_min\\ih\\config.yaml-solution.json\n",
      "11:35:47 [INFO] Loading experiment config from C:\\Google Drive\\AIC Experiment Data\\DARP\\ITSC_instance_paper\\Results\\Manhattan\\start_18-00\\duration_01_min\\max_delay_10_min\\ih\\config.yaml\n",
      "11:35:47 [INFO] Loading instance config from C:\\Google Drive\\AIC Experiment Data\\DARP\\ITSC_instance_paper\\Instances\\Manhattan\\instances\\start_18-00\\duration_01_min\\max_delay_10_min\\config.yaml\n",
      "11:35:47 [WARNING] No solution found in folder: C:\\Google Drive\\AIC Experiment Data\\DARP\\ITSC_instance_paper\\Results\\Manhattan\\start_18-00\\duration_01_min\\max_delay_10_min\\vga\n",
      "11:35:47 [WARNING] No solution found in folder: C:\\Google Drive\\AIC Experiment Data\\DARP\\ITSC_instance_paper\\Results\\Manhattan\\start_18-00\\duration_02_h\\max_delay_03_min\\halns\n",
      "11:35:47 [WARNING] No solution found in folder: C:\\Google Drive\\AIC Experiment Data\\DARP\\ITSC_instance_paper\\Results\\Manhattan\\start_18-00\\duration_02_h\\max_delay_03_min\\halns-ih\n",
      "11:35:47 [WARNING] No solution found in folder: C:\\Google Drive\\AIC Experiment Data\\DARP\\ITSC_instance_paper\\Results\\Manhattan\\start_18-00\\duration_02_h\\max_delay_03_min\\ih\n",
      "11:35:47 [WARNING] No solution found in folder: C:\\Google Drive\\AIC Experiment Data\\DARP\\ITSC_instance_paper\\Results\\Manhattan\\start_18-00\\duration_02_h\\max_delay_03_min\\vga\n",
      "11:35:47 [WARNING] No solution found in folder: C:\\Google Drive\\AIC Experiment Data\\DARP\\ITSC_instance_paper\\Results\\Manhattan\\start_18-00\\duration_02_h\\max_delay_05_min\\halns\n",
      "11:35:47 [WARNING] No solution found in folder: C:\\Google Drive\\AIC Experiment Data\\DARP\\ITSC_instance_paper\\Results\\Manhattan\\start_18-00\\duration_02_h\\max_delay_05_min\\halns-ih\n",
      "11:35:47 [WARNING] No solution found in folder: C:\\Google Drive\\AIC Experiment Data\\DARP\\ITSC_instance_paper\\Results\\Manhattan\\start_18-00\\duration_02_h\\max_delay_05_min\\ih\n",
      "11:35:47 [WARNING] No solution found in folder: C:\\Google Drive\\AIC Experiment Data\\DARP\\ITSC_instance_paper\\Results\\Manhattan\\start_18-00\\duration_02_h\\max_delay_05_min\\vga\n",
      "11:35:47 [WARNING] No solution found in folder: C:\\Google Drive\\AIC Experiment Data\\DARP\\ITSC_instance_paper\\Results\\Manhattan\\start_18-00\\duration_02_h\\max_delay_10_min\\halns\n",
      "11:35:47 [WARNING] No solution found in folder: C:\\Google Drive\\AIC Experiment Data\\DARP\\ITSC_instance_paper\\Results\\Manhattan\\start_18-00\\duration_02_h\\max_delay_10_min\\halns-ih\n",
      "11:35:47 [WARNING] No solution found in folder: C:\\Google Drive\\AIC Experiment Data\\DARP\\ITSC_instance_paper\\Results\\Manhattan\\start_18-00\\duration_02_h\\max_delay_10_min\\ih\n",
      "11:35:47 [WARNING] No solution found in folder: C:\\Google Drive\\AIC Experiment Data\\DARP\\ITSC_instance_paper\\Results\\Manhattan\\start_18-00\\duration_02_h\\max_delay_10_min\\vga\n",
      "11:35:47 [WARNING] No solution found in folder: C:\\Google Drive\\AIC Experiment Data\\DARP\\ITSC_instance_paper\\Results\\Manhattan\\start_18-00\\duration_02_min\\max_delay_03_min\\halns\n",
      "11:35:47 [WARNING] No solution found in folder: C:\\Google Drive\\AIC Experiment Data\\DARP\\ITSC_instance_paper\\Results\\Manhattan\\start_18-00\\duration_02_min\\max_delay_03_min\\halns-ih\n",
      "11:35:47 [INFO] Loading json file from: C:\\Google Drive\\AIC Experiment Data\\DARP\\ITSC_instance_paper\\Results\\Manhattan\\start_18-00\\duration_02_min\\max_delay_03_min\\ih\\config.yaml-performance.json\n",
      "11:35:47 [INFO] Loading json file from: C:\\Google Drive\\AIC Experiment Data\\DARP\\ITSC_instance_paper\\Results\\Manhattan\\start_18-00\\duration_02_min\\max_delay_03_min\\ih\\config.yaml-solution.json\n",
      "11:35:47 [INFO] Loading experiment config from C:\\Google Drive\\AIC Experiment Data\\DARP\\ITSC_instance_paper\\Results\\Manhattan\\start_18-00\\duration_02_min\\max_delay_03_min\\ih\\config.yaml\n",
      "11:35:47 [INFO] Loading instance config from C:\\Google Drive\\AIC Experiment Data\\DARP\\ITSC_instance_paper\\Instances\\Manhattan\\instances\\start_18-00\\duration_02_min\\max_delay_03_min\\config.yaml\n",
      "11:35:47 [INFO] Loading json file from: C:\\Google Drive\\AIC Experiment Data\\DARP\\ITSC_instance_paper\\Results\\Manhattan\\start_18-00\\duration_02_min\\max_delay_03_min\\vga\\config.yaml-performance.json\n",
      "11:35:47 [INFO] Loading json file from: C:\\Google Drive\\AIC Experiment Data\\DARP\\ITSC_instance_paper\\Results\\Manhattan\\start_18-00\\duration_02_min\\max_delay_03_min\\vga\\config.yaml-solution.json\n",
      "11:35:47 [INFO] Loading experiment config from C:\\Google Drive\\AIC Experiment Data\\DARP\\ITSC_instance_paper\\Results\\Manhattan\\start_18-00\\duration_02_min\\max_delay_03_min\\vga\\config.yaml\n",
      "11:35:47 [INFO] Loading instance config from C:\\Google Drive\\AIC Experiment Data\\DARP\\ITSC_instance_paper\\Instances\\Manhattan\\instances\\start_18-00\\duration_02_min\\max_delay_03_min\\config.yaml\n",
      "11:35:47 [WARNING] No solution found in folder: C:\\Google Drive\\AIC Experiment Data\\DARP\\ITSC_instance_paper\\Results\\Manhattan\\start_18-00\\duration_02_min\\max_delay_05_min\\halns\n",
      "11:35:47 [WARNING] No solution found in folder: C:\\Google Drive\\AIC Experiment Data\\DARP\\ITSC_instance_paper\\Results\\Manhattan\\start_18-00\\duration_02_min\\max_delay_05_min\\halns-ih\n",
      "11:35:47 [INFO] Loading json file from: C:\\Google Drive\\AIC Experiment Data\\DARP\\ITSC_instance_paper\\Results\\Manhattan\\start_18-00\\duration_02_min\\max_delay_05_min\\ih\\config.yaml-performance.json\n",
      "11:35:47 [INFO] Loading json file from: C:\\Google Drive\\AIC Experiment Data\\DARP\\ITSC_instance_paper\\Results\\Manhattan\\start_18-00\\duration_02_min\\max_delay_05_min\\ih\\config.yaml-solution.json\n",
      "11:35:47 [INFO] Loading experiment config from C:\\Google Drive\\AIC Experiment Data\\DARP\\ITSC_instance_paper\\Results\\Manhattan\\start_18-00\\duration_02_min\\max_delay_05_min\\ih\\config.yaml\n",
      "11:35:47 [INFO] Loading instance config from C:\\Google Drive\\AIC Experiment Data\\DARP\\ITSC_instance_paper\\Instances\\Manhattan\\instances\\start_18-00\\duration_02_min\\max_delay_05_min\\config.yaml\n",
      "11:35:47 [INFO] Loading json file from: C:\\Google Drive\\AIC Experiment Data\\DARP\\ITSC_instance_paper\\Results\\Manhattan\\start_18-00\\duration_02_min\\max_delay_05_min\\vga\\config.yaml-performance.json\n",
      "11:35:47 [INFO] Loading json file from: C:\\Google Drive\\AIC Experiment Data\\DARP\\ITSC_instance_paper\\Results\\Manhattan\\start_18-00\\duration_02_min\\max_delay_05_min\\vga\\config.yaml-solution.json\n",
      "11:35:47 [INFO] Loading experiment config from C:\\Google Drive\\AIC Experiment Data\\DARP\\ITSC_instance_paper\\Results\\Manhattan\\start_18-00\\duration_02_min\\max_delay_05_min\\vga\\config.yaml\n",
      "11:35:47 [INFO] Loading instance config from C:\\Google Drive\\AIC Experiment Data\\DARP\\ITSC_instance_paper\\Instances\\Manhattan\\instances\\start_18-00\\duration_02_min\\max_delay_05_min\\config.yaml\n",
      "11:35:47 [WARNING] No solution found in folder: C:\\Google Drive\\AIC Experiment Data\\DARP\\ITSC_instance_paper\\Results\\Manhattan\\start_18-00\\duration_02_min\\max_delay_10_min\\halns\n",
      "11:35:47 [WARNING] No solution found in folder: C:\\Google Drive\\AIC Experiment Data\\DARP\\ITSC_instance_paper\\Results\\Manhattan\\start_18-00\\duration_02_min\\max_delay_10_min\\halns-ih\n",
      "11:35:47 [INFO] Loading json file from: C:\\Google Drive\\AIC Experiment Data\\DARP\\ITSC_instance_paper\\Results\\Manhattan\\start_18-00\\duration_02_min\\max_delay_10_min\\ih\\config.yaml-performance.json\n",
      "11:35:47 [INFO] Loading json file from: C:\\Google Drive\\AIC Experiment Data\\DARP\\ITSC_instance_paper\\Results\\Manhattan\\start_18-00\\duration_02_min\\max_delay_10_min\\ih\\config.yaml-solution.json\n",
      "11:35:47 [INFO] Loading experiment config from C:\\Google Drive\\AIC Experiment Data\\DARP\\ITSC_instance_paper\\Results\\Manhattan\\start_18-00\\duration_02_min\\max_delay_10_min\\ih\\config.yaml\n",
      "11:35:47 [INFO] Loading instance config from C:\\Google Drive\\AIC Experiment Data\\DARP\\ITSC_instance_paper\\Instances\\Manhattan\\instances\\start_18-00\\duration_02_min\\max_delay_10_min\\config.yaml\n",
      "11:35:47 [WARNING] No solution found in folder: C:\\Google Drive\\AIC Experiment Data\\DARP\\ITSC_instance_paper\\Results\\Manhattan\\start_18-00\\duration_02_min\\max_delay_10_min\\vga\n",
      "11:35:47 [WARNING] No solution found in folder: C:\\Google Drive\\AIC Experiment Data\\DARP\\ITSC_instance_paper\\Results\\Manhattan\\start_18-00\\duration_05_min\\max_delay_03_min\\halns\n",
      "11:35:47 [WARNING] No solution found in folder: C:\\Google Drive\\AIC Experiment Data\\DARP\\ITSC_instance_paper\\Results\\Manhattan\\start_18-00\\duration_05_min\\max_delay_03_min\\halns-ih\n",
      "11:35:47 [INFO] Loading json file from: C:\\Google Drive\\AIC Experiment Data\\DARP\\ITSC_instance_paper\\Results\\Manhattan\\start_18-00\\duration_05_min\\max_delay_03_min\\ih\\config.yaml-performance.json\n",
      "11:35:47 [INFO] Loading json file from: C:\\Google Drive\\AIC Experiment Data\\DARP\\ITSC_instance_paper\\Results\\Manhattan\\start_18-00\\duration_05_min\\max_delay_03_min\\ih\\config.yaml-solution.json\n",
      "11:35:47 [INFO] Loading experiment config from C:\\Google Drive\\AIC Experiment Data\\DARP\\ITSC_instance_paper\\Results\\Manhattan\\start_18-00\\duration_05_min\\max_delay_03_min\\ih\\config.yaml\n",
      "11:35:47 [INFO] Loading instance config from C:\\Google Drive\\AIC Experiment Data\\DARP\\ITSC_instance_paper\\Instances\\Manhattan\\instances\\start_18-00\\duration_05_min\\max_delay_03_min\\config.yaml\n",
      "11:35:47 [WARNING] No solution found in folder: C:\\Google Drive\\AIC Experiment Data\\DARP\\ITSC_instance_paper\\Results\\Manhattan\\start_18-00\\duration_05_min\\max_delay_03_min\\vga\n",
      "11:35:47 [WARNING] No solution found in folder: C:\\Google Drive\\AIC Experiment Data\\DARP\\ITSC_instance_paper\\Results\\Manhattan\\start_18-00\\duration_05_min\\max_delay_05_min\\halns\n",
      "11:35:47 [WARNING] No solution found in folder: C:\\Google Drive\\AIC Experiment Data\\DARP\\ITSC_instance_paper\\Results\\Manhattan\\start_18-00\\duration_05_min\\max_delay_05_min\\halns-ih\n",
      "11:35:47 [INFO] Loading json file from: C:\\Google Drive\\AIC Experiment Data\\DARP\\ITSC_instance_paper\\Results\\Manhattan\\start_18-00\\duration_05_min\\max_delay_05_min\\ih\\config.yaml-performance.json\n",
      "11:35:47 [INFO] Loading json file from: C:\\Google Drive\\AIC Experiment Data\\DARP\\ITSC_instance_paper\\Results\\Manhattan\\start_18-00\\duration_05_min\\max_delay_05_min\\ih\\config.yaml-solution.json\n",
      "11:35:47 [INFO] Loading experiment config from C:\\Google Drive\\AIC Experiment Data\\DARP\\ITSC_instance_paper\\Results\\Manhattan\\start_18-00\\duration_05_min\\max_delay_05_min\\ih\\config.yaml\n",
      "11:35:47 [INFO] Loading instance config from C:\\Google Drive\\AIC Experiment Data\\DARP\\ITSC_instance_paper\\Instances\\Manhattan\\instances\\start_18-00\\duration_05_min\\max_delay_05_min\\config.yaml\n",
      "11:35:47 [WARNING] No solution found in folder: C:\\Google Drive\\AIC Experiment Data\\DARP\\ITSC_instance_paper\\Results\\Manhattan\\start_18-00\\duration_05_min\\max_delay_05_min\\vga\n",
      "11:35:47 [WARNING] No solution found in folder: C:\\Google Drive\\AIC Experiment Data\\DARP\\ITSC_instance_paper\\Results\\Manhattan\\start_18-00\\duration_05_min\\max_delay_10_min\\halns\n",
      "11:35:47 [WARNING] No solution found in folder: C:\\Google Drive\\AIC Experiment Data\\DARP\\ITSC_instance_paper\\Results\\Manhattan\\start_18-00\\duration_05_min\\max_delay_10_min\\halns-ih\n",
      "11:35:47 [INFO] Loading json file from: C:\\Google Drive\\AIC Experiment Data\\DARP\\ITSC_instance_paper\\Results\\Manhattan\\start_18-00\\duration_05_min\\max_delay_10_min\\ih\\config.yaml-performance.json\n",
      "11:35:47 [INFO] Loading json file from: C:\\Google Drive\\AIC Experiment Data\\DARP\\ITSC_instance_paper\\Results\\Manhattan\\start_18-00\\duration_05_min\\max_delay_10_min\\ih\\config.yaml-solution.json\n",
      "11:35:47 [INFO] Loading experiment config from C:\\Google Drive\\AIC Experiment Data\\DARP\\ITSC_instance_paper\\Results\\Manhattan\\start_18-00\\duration_05_min\\max_delay_10_min\\ih\\config.yaml\n",
      "11:35:47 [INFO] Loading instance config from C:\\Google Drive\\AIC Experiment Data\\DARP\\ITSC_instance_paper\\Instances\\Manhattan\\instances\\start_18-00\\duration_05_min\\max_delay_10_min\\config.yaml\n",
      "11:35:47 [WARNING] No solution found in folder: C:\\Google Drive\\AIC Experiment Data\\DARP\\ITSC_instance_paper\\Results\\Manhattan\\start_18-00\\duration_05_min\\max_delay_10_min\\vga\n",
      "11:35:47 [WARNING] No solution found in folder: C:\\Google Drive\\AIC Experiment Data\\DARP\\ITSC_instance_paper\\Results\\Manhattan\\start_18-00\\duration_15_min\\max_delay_03_min\\halns\n",
      "11:35:47 [WARNING] No solution found in folder: C:\\Google Drive\\AIC Experiment Data\\DARP\\ITSC_instance_paper\\Results\\Manhattan\\start_18-00\\duration_15_min\\max_delay_03_min\\halns-ih\n",
      "11:35:47 [INFO] Loading json file from: C:\\Google Drive\\AIC Experiment Data\\DARP\\ITSC_instance_paper\\Results\\Manhattan\\start_18-00\\duration_15_min\\max_delay_03_min\\ih\\config.yaml-performance.json\n",
      "11:35:47 [INFO] Loading json file from: C:\\Google Drive\\AIC Experiment Data\\DARP\\ITSC_instance_paper\\Results\\Manhattan\\start_18-00\\duration_15_min\\max_delay_03_min\\ih\\config.yaml-solution.json\n",
      "11:35:47 [INFO] Loading experiment config from C:\\Google Drive\\AIC Experiment Data\\DARP\\ITSC_instance_paper\\Results\\Manhattan\\start_18-00\\duration_15_min\\max_delay_03_min\\ih\\config.yaml\n",
      "11:35:47 [INFO] Loading instance config from C:\\Google Drive\\AIC Experiment Data\\DARP\\ITSC_instance_paper\\Instances\\Manhattan\\instances\\start_18-00\\duration_15_min\\max_delay_03_min\\config.yaml\n",
      "11:35:47 [WARNING] No solution found in folder: C:\\Google Drive\\AIC Experiment Data\\DARP\\ITSC_instance_paper\\Results\\Manhattan\\start_18-00\\duration_15_min\\max_delay_03_min\\vga\n",
      "11:35:47 [WARNING] No solution found in folder: C:\\Google Drive\\AIC Experiment Data\\DARP\\ITSC_instance_paper\\Results\\Manhattan\\start_18-00\\duration_15_min\\max_delay_05_min\\halns\n",
      "11:35:47 [WARNING] No solution found in folder: C:\\Google Drive\\AIC Experiment Data\\DARP\\ITSC_instance_paper\\Results\\Manhattan\\start_18-00\\duration_15_min\\max_delay_05_min\\halns-ih\n",
      "11:35:47 [INFO] Loading json file from: C:\\Google Drive\\AIC Experiment Data\\DARP\\ITSC_instance_paper\\Results\\Manhattan\\start_18-00\\duration_15_min\\max_delay_05_min\\ih\\config.yaml-performance.json\n",
      "11:35:47 [INFO] Loading json file from: C:\\Google Drive\\AIC Experiment Data\\DARP\\ITSC_instance_paper\\Results\\Manhattan\\start_18-00\\duration_15_min\\max_delay_05_min\\ih\\config.yaml-solution.json\n",
      "11:35:47 [INFO] Loading experiment config from C:\\Google Drive\\AIC Experiment Data\\DARP\\ITSC_instance_paper\\Results\\Manhattan\\start_18-00\\duration_15_min\\max_delay_05_min\\ih\\config.yaml\n",
      "11:35:47 [INFO] Loading instance config from C:\\Google Drive\\AIC Experiment Data\\DARP\\ITSC_instance_paper\\Instances\\Manhattan\\instances\\start_18-00\\duration_15_min\\max_delay_05_min\\config.yaml\n",
      "11:35:47 [WARNING] No solution found in folder: C:\\Google Drive\\AIC Experiment Data\\DARP\\ITSC_instance_paper\\Results\\Manhattan\\start_18-00\\duration_15_min\\max_delay_05_min\\vga\n",
      "11:35:47 [WARNING] No solution found in folder: C:\\Google Drive\\AIC Experiment Data\\DARP\\ITSC_instance_paper\\Results\\Manhattan\\start_18-00\\duration_15_min\\max_delay_10_min\\halns\n",
      "11:35:47 [WARNING] No solution found in folder: C:\\Google Drive\\AIC Experiment Data\\DARP\\ITSC_instance_paper\\Results\\Manhattan\\start_18-00\\duration_15_min\\max_delay_10_min\\halns-ih\n",
      "11:35:47 [INFO] Loading json file from: C:\\Google Drive\\AIC Experiment Data\\DARP\\ITSC_instance_paper\\Results\\Manhattan\\start_18-00\\duration_15_min\\max_delay_10_min\\ih\\config.yaml-performance.json\n",
      "11:35:47 [INFO] Loading json file from: C:\\Google Drive\\AIC Experiment Data\\DARP\\ITSC_instance_paper\\Results\\Manhattan\\start_18-00\\duration_15_min\\max_delay_10_min\\ih\\config.yaml-solution.json\n",
      "11:35:47 [INFO] Loading experiment config from C:\\Google Drive\\AIC Experiment Data\\DARP\\ITSC_instance_paper\\Results\\Manhattan\\start_18-00\\duration_15_min\\max_delay_10_min\\ih\\config.yaml\n",
      "11:35:47 [INFO] Loading instance config from C:\\Google Drive\\AIC Experiment Data\\DARP\\ITSC_instance_paper\\Instances\\Manhattan\\instances\\start_18-00\\duration_15_min\\max_delay_10_min\\config.yaml\n",
      "11:35:47 [WARNING] No solution found in folder: C:\\Google Drive\\AIC Experiment Data\\DARP\\ITSC_instance_paper\\Results\\Manhattan\\start_18-00\\duration_15_min\\max_delay_10_min\\vga\n",
      "11:35:47 [WARNING] No solution found in folder: C:\\Google Drive\\AIC Experiment Data\\DARP\\ITSC_instance_paper\\Results\\Manhattan\\start_18-00\\duration_16_h\\max_delay_03_min\\halns\n",
      "11:35:47 [WARNING] No solution found in folder: C:\\Google Drive\\AIC Experiment Data\\DARP\\ITSC_instance_paper\\Results\\Manhattan\\start_18-00\\duration_16_h\\max_delay_03_min\\halns-ih\n",
      "11:35:47 [WARNING] No solution found in folder: C:\\Google Drive\\AIC Experiment Data\\DARP\\ITSC_instance_paper\\Results\\Manhattan\\start_18-00\\duration_16_h\\max_delay_03_min\\ih\n",
      "11:35:47 [WARNING] No solution found in folder: C:\\Google Drive\\AIC Experiment Data\\DARP\\ITSC_instance_paper\\Results\\Manhattan\\start_18-00\\duration_16_h\\max_delay_03_min\\vga\n",
      "11:35:47 [WARNING] No solution found in folder: C:\\Google Drive\\AIC Experiment Data\\DARP\\ITSC_instance_paper\\Results\\Manhattan\\start_18-00\\duration_16_h\\max_delay_05_min\\halns\n",
      "11:35:47 [WARNING] No solution found in folder: C:\\Google Drive\\AIC Experiment Data\\DARP\\ITSC_instance_paper\\Results\\Manhattan\\start_18-00\\duration_16_h\\max_delay_05_min\\halns-ih\n",
      "11:35:47 [WARNING] No solution found in folder: C:\\Google Drive\\AIC Experiment Data\\DARP\\ITSC_instance_paper\\Results\\Manhattan\\start_18-00\\duration_16_h\\max_delay_05_min\\ih\n",
      "11:35:47 [WARNING] No solution found in folder: C:\\Google Drive\\AIC Experiment Data\\DARP\\ITSC_instance_paper\\Results\\Manhattan\\start_18-00\\duration_16_h\\max_delay_05_min\\vga\n",
      "11:35:47 [WARNING] No solution found in folder: C:\\Google Drive\\AIC Experiment Data\\DARP\\ITSC_instance_paper\\Results\\Manhattan\\start_18-00\\duration_16_h\\max_delay_10_min\\halns\n",
      "11:35:47 [WARNING] No solution found in folder: C:\\Google Drive\\AIC Experiment Data\\DARP\\ITSC_instance_paper\\Results\\Manhattan\\start_18-00\\duration_16_h\\max_delay_10_min\\halns-ih\n",
      "11:35:47 [WARNING] No solution found in folder: C:\\Google Drive\\AIC Experiment Data\\DARP\\ITSC_instance_paper\\Results\\Manhattan\\start_18-00\\duration_16_h\\max_delay_10_min\\ih\n",
      "11:35:47 [WARNING] No solution found in folder: C:\\Google Drive\\AIC Experiment Data\\DARP\\ITSC_instance_paper\\Results\\Manhattan\\start_18-00\\duration_16_h\\max_delay_10_min\\vga\n",
      "11:35:47 [WARNING] No solution found in folder: C:\\Google Drive\\AIC Experiment Data\\DARP\\ITSC_instance_paper\\Results\\Manhattan\\start_18-00\\duration_30_min\\max_delay_03_min\\halns\n",
      "11:35:47 [WARNING] No solution found in folder: C:\\Google Drive\\AIC Experiment Data\\DARP\\ITSC_instance_paper\\Results\\Manhattan\\start_18-00\\duration_30_min\\max_delay_03_min\\halns-ih\n",
      "11:35:47 [INFO] Loading json file from: C:\\Google Drive\\AIC Experiment Data\\DARP\\ITSC_instance_paper\\Results\\Manhattan\\start_18-00\\duration_30_min\\max_delay_03_min\\ih\\config.yaml-performance.json\n",
      "11:35:47 [INFO] Loading json file from: C:\\Google Drive\\AIC Experiment Data\\DARP\\ITSC_instance_paper\\Results\\Manhattan\\start_18-00\\duration_30_min\\max_delay_03_min\\ih\\config.yaml-solution.json\n",
      "11:35:47 [INFO] Loading experiment config from C:\\Google Drive\\AIC Experiment Data\\DARP\\ITSC_instance_paper\\Results\\Manhattan\\start_18-00\\duration_30_min\\max_delay_03_min\\ih\\config.yaml\n",
      "11:35:47 [INFO] Loading instance config from C:\\Google Drive\\AIC Experiment Data\\DARP\\ITSC_instance_paper\\Instances\\Manhattan\\instances\\start_18-00\\duration_30_min\\max_delay_03_min\\config.yaml\n",
      "11:35:47 [WARNING] No solution found in folder: C:\\Google Drive\\AIC Experiment Data\\DARP\\ITSC_instance_paper\\Results\\Manhattan\\start_18-00\\duration_30_min\\max_delay_03_min\\vga\n",
      "11:35:47 [WARNING] No solution found in folder: C:\\Google Drive\\AIC Experiment Data\\DARP\\ITSC_instance_paper\\Results\\Manhattan\\start_18-00\\duration_30_min\\max_delay_05_min\\halns\n",
      "11:35:47 [WARNING] No solution found in folder: C:\\Google Drive\\AIC Experiment Data\\DARP\\ITSC_instance_paper\\Results\\Manhattan\\start_18-00\\duration_30_min\\max_delay_05_min\\halns-ih\n",
      "11:35:47 [INFO] Loading json file from: C:\\Google Drive\\AIC Experiment Data\\DARP\\ITSC_instance_paper\\Results\\Manhattan\\start_18-00\\duration_30_min\\max_delay_05_min\\ih\\config.yaml-performance.json\n",
      "11:35:47 [INFO] Loading json file from: C:\\Google Drive\\AIC Experiment Data\\DARP\\ITSC_instance_paper\\Results\\Manhattan\\start_18-00\\duration_30_min\\max_delay_05_min\\ih\\config.yaml-solution.json\n",
      "11:35:47 [INFO] Loading experiment config from C:\\Google Drive\\AIC Experiment Data\\DARP\\ITSC_instance_paper\\Results\\Manhattan\\start_18-00\\duration_30_min\\max_delay_05_min\\ih\\config.yaml\n",
      "11:35:47 [INFO] Loading instance config from C:\\Google Drive\\AIC Experiment Data\\DARP\\ITSC_instance_paper\\Instances\\Manhattan\\instances\\start_18-00\\duration_30_min\\max_delay_05_min\\config.yaml\n",
      "11:35:47 [WARNING] No solution found in folder: C:\\Google Drive\\AIC Experiment Data\\DARP\\ITSC_instance_paper\\Results\\Manhattan\\start_18-00\\duration_30_min\\max_delay_05_min\\vga\n",
      "11:35:47 [WARNING] No solution found in folder: C:\\Google Drive\\AIC Experiment Data\\DARP\\ITSC_instance_paper\\Results\\Manhattan\\start_18-00\\duration_30_min\\max_delay_10_min\\halns\n",
      "11:35:47 [WARNING] No solution found in folder: C:\\Google Drive\\AIC Experiment Data\\DARP\\ITSC_instance_paper\\Results\\Manhattan\\start_18-00\\duration_30_min\\max_delay_10_min\\halns-ih\n",
      "11:35:47 [INFO] Loading json file from: C:\\Google Drive\\AIC Experiment Data\\DARP\\ITSC_instance_paper\\Results\\Manhattan\\start_18-00\\duration_30_min\\max_delay_10_min\\ih\\config.yaml-performance.json\n",
      "11:35:47 [INFO] Loading json file from: C:\\Google Drive\\AIC Experiment Data\\DARP\\ITSC_instance_paper\\Results\\Manhattan\\start_18-00\\duration_30_min\\max_delay_10_min\\ih\\config.yaml-solution.json\n",
      "11:35:47 [INFO] Loading experiment config from C:\\Google Drive\\AIC Experiment Data\\DARP\\ITSC_instance_paper\\Results\\Manhattan\\start_18-00\\duration_30_min\\max_delay_10_min\\ih\\config.yaml\n",
      "11:35:47 [INFO] Loading instance config from C:\\Google Drive\\AIC Experiment Data\\DARP\\ITSC_instance_paper\\Instances\\Manhattan\\instances\\start_18-00\\duration_30_min\\max_delay_10_min\\config.yaml\n",
      "11:35:47 [WARNING] No solution found in folder: C:\\Google Drive\\AIC Experiment Data\\DARP\\ITSC_instance_paper\\Results\\Manhattan\\start_18-00\\duration_30_min\\max_delay_10_min\\vga\n",
      "11:35:47 [WARNING] No solution found in folder: C:\\Google Drive\\AIC Experiment Data\\DARP\\ITSC_instance_paper\\Results\\Manhattan\\start_18-00\\duration_30_s\\max_delay_03_min\\halns\n",
      "11:35:47 [WARNING] No solution found in folder: C:\\Google Drive\\AIC Experiment Data\\DARP\\ITSC_instance_paper\\Results\\Manhattan\\start_18-00\\duration_30_s\\max_delay_03_min\\halns-ih\n",
      "11:35:47 [INFO] Loading json file from: C:\\Google Drive\\AIC Experiment Data\\DARP\\ITSC_instance_paper\\Results\\Manhattan\\start_18-00\\duration_30_s\\max_delay_03_min\\ih\\config.yaml-performance.json\n",
      "11:35:47 [INFO] Loading json file from: C:\\Google Drive\\AIC Experiment Data\\DARP\\ITSC_instance_paper\\Results\\Manhattan\\start_18-00\\duration_30_s\\max_delay_03_min\\ih\\config.yaml-solution.json\n",
      "11:35:47 [INFO] Loading experiment config from C:\\Google Drive\\AIC Experiment Data\\DARP\\ITSC_instance_paper\\Results\\Manhattan\\start_18-00\\duration_30_s\\max_delay_03_min\\ih\\config.yaml\n",
      "11:35:47 [INFO] Loading instance config from C:\\Google Drive\\AIC Experiment Data\\DARP\\ITSC_instance_paper\\Instances\\Manhattan\\instances\\start_18-00\\duration_30_s\\max_delay_03_min\\config.yaml\n",
      "11:35:47 [INFO] Loading json file from: C:\\Google Drive\\AIC Experiment Data\\DARP\\ITSC_instance_paper\\Results\\Manhattan\\start_18-00\\duration_30_s\\max_delay_03_min\\vga\\config.yaml-performance.json\n",
      "11:35:47 [INFO] Loading json file from: C:\\Google Drive\\AIC Experiment Data\\DARP\\ITSC_instance_paper\\Results\\Manhattan\\start_18-00\\duration_30_s\\max_delay_03_min\\vga\\config.yaml-solution.json\n",
      "11:35:47 [INFO] Loading experiment config from C:\\Google Drive\\AIC Experiment Data\\DARP\\ITSC_instance_paper\\Results\\Manhattan\\start_18-00\\duration_30_s\\max_delay_03_min\\vga\\config.yaml\n",
      "11:35:47 [INFO] Loading instance config from C:\\Google Drive\\AIC Experiment Data\\DARP\\ITSC_instance_paper\\Instances\\Manhattan\\instances\\start_18-00\\duration_30_s\\max_delay_03_min\\config.yaml\n",
      "11:35:47 [WARNING] No solution found in folder: C:\\Google Drive\\AIC Experiment Data\\DARP\\ITSC_instance_paper\\Results\\Manhattan\\start_18-00\\duration_30_s\\max_delay_05_min\\halns\n",
      "11:35:47 [WARNING] No solution found in folder: C:\\Google Drive\\AIC Experiment Data\\DARP\\ITSC_instance_paper\\Results\\Manhattan\\start_18-00\\duration_30_s\\max_delay_05_min\\halns-ih\n",
      "11:35:47 [INFO] Loading json file from: C:\\Google Drive\\AIC Experiment Data\\DARP\\ITSC_instance_paper\\Results\\Manhattan\\start_18-00\\duration_30_s\\max_delay_05_min\\ih\\config.yaml-performance.json\n",
      "11:35:47 [INFO] Loading json file from: C:\\Google Drive\\AIC Experiment Data\\DARP\\ITSC_instance_paper\\Results\\Manhattan\\start_18-00\\duration_30_s\\max_delay_05_min\\ih\\config.yaml-solution.json\n",
      "11:35:47 [INFO] Loading experiment config from C:\\Google Drive\\AIC Experiment Data\\DARP\\ITSC_instance_paper\\Results\\Manhattan\\start_18-00\\duration_30_s\\max_delay_05_min\\ih\\config.yaml\n",
      "11:35:47 [INFO] Loading instance config from C:\\Google Drive\\AIC Experiment Data\\DARP\\ITSC_instance_paper\\Instances\\Manhattan\\instances\\start_18-00\\duration_30_s\\max_delay_05_min\\config.yaml\n",
      "11:35:47 [INFO] Loading json file from: C:\\Google Drive\\AIC Experiment Data\\DARP\\ITSC_instance_paper\\Results\\Manhattan\\start_18-00\\duration_30_s\\max_delay_05_min\\vga\\config.yaml-performance.json\n",
      "11:35:47 [INFO] Loading json file from: C:\\Google Drive\\AIC Experiment Data\\DARP\\ITSC_instance_paper\\Results\\Manhattan\\start_18-00\\duration_30_s\\max_delay_05_min\\vga\\config.yaml-solution.json\n",
      "11:35:47 [INFO] Loading experiment config from C:\\Google Drive\\AIC Experiment Data\\DARP\\ITSC_instance_paper\\Results\\Manhattan\\start_18-00\\duration_30_s\\max_delay_05_min\\vga\\config.yaml\n",
      "11:35:47 [INFO] Loading instance config from C:\\Google Drive\\AIC Experiment Data\\DARP\\ITSC_instance_paper\\Instances\\Manhattan\\instances\\start_18-00\\duration_30_s\\max_delay_05_min\\config.yaml\n",
      "11:35:47 [WARNING] No solution found in folder: C:\\Google Drive\\AIC Experiment Data\\DARP\\ITSC_instance_paper\\Results\\Manhattan\\start_18-00\\duration_30_s\\max_delay_10_min\\halns\n",
      "11:35:47 [WARNING] No solution found in folder: C:\\Google Drive\\AIC Experiment Data\\DARP\\ITSC_instance_paper\\Results\\Manhattan\\start_18-00\\duration_30_s\\max_delay_10_min\\halns-ih\n",
      "11:35:47 [INFO] Loading json file from: C:\\Google Drive\\AIC Experiment Data\\DARP\\ITSC_instance_paper\\Results\\Manhattan\\start_18-00\\duration_30_s\\max_delay_10_min\\ih\\config.yaml-performance.json\n",
      "11:35:47 [INFO] Loading json file from: C:\\Google Drive\\AIC Experiment Data\\DARP\\ITSC_instance_paper\\Results\\Manhattan\\start_18-00\\duration_30_s\\max_delay_10_min\\ih\\config.yaml-solution.json\n",
      "11:35:47 [INFO] Loading experiment config from C:\\Google Drive\\AIC Experiment Data\\DARP\\ITSC_instance_paper\\Results\\Manhattan\\start_18-00\\duration_30_s\\max_delay_10_min\\ih\\config.yaml\n",
      "11:35:47 [INFO] Loading instance config from C:\\Google Drive\\AIC Experiment Data\\DARP\\ITSC_instance_paper\\Instances\\Manhattan\\instances\\start_18-00\\duration_30_s\\max_delay_10_min\\config.yaml\n",
      "11:35:47 [INFO] Loading json file from: C:\\Google Drive\\AIC Experiment Data\\DARP\\ITSC_instance_paper\\Results\\Manhattan\\start_18-00\\duration_30_s\\max_delay_10_min\\vga\\config.yaml-performance.json\n",
      "11:35:47 [INFO] Loading json file from: C:\\Google Drive\\AIC Experiment Data\\DARP\\ITSC_instance_paper\\Results\\Manhattan\\start_18-00\\duration_30_s\\max_delay_10_min\\vga\\config.yaml-solution.json\n",
      "11:35:47 [INFO] Loading experiment config from C:\\Google Drive\\AIC Experiment Data\\DARP\\ITSC_instance_paper\\Results\\Manhattan\\start_18-00\\duration_30_s\\max_delay_10_min\\vga\\config.yaml\n",
      "11:35:47 [INFO] Loading instance config from C:\\Google Drive\\AIC Experiment Data\\DARP\\ITSC_instance_paper\\Instances\\Manhattan\\instances\\start_18-00\\duration_30_s\\max_delay_10_min\\config.yaml\n",
      "11:35:47 [INFO] Loading aggregate stats in C:\\Google Drive\\AIC Experiment Data\\DARP\\ITSC_instance_paper\\Results\\Chicago\n",
      "11:35:47 [WARNING] No solution found in folder: C:\\Google Drive\\AIC Experiment Data\\DARP\\ITSC_instance_paper\\Results\\Chicago\\start_18-00\\duration_01_min\\max_delay_03_min\\halns\n",
      "11:35:47 [WARNING] No solution found in folder: C:\\Google Drive\\AIC Experiment Data\\DARP\\ITSC_instance_paper\\Results\\Chicago\\start_18-00\\duration_01_min\\max_delay_03_min\\halns-ih\n",
      "11:35:47 [INFO] Loading json file from: C:\\Google Drive\\AIC Experiment Data\\DARP\\ITSC_instance_paper\\Results\\Chicago\\start_18-00\\duration_01_min\\max_delay_03_min\\ih\\config.yaml-performance.json\n",
      "11:35:47 [INFO] Loading json file from: C:\\Google Drive\\AIC Experiment Data\\DARP\\ITSC_instance_paper\\Results\\Chicago\\start_18-00\\duration_01_min\\max_delay_03_min\\ih\\config.yaml-solution.json\n",
      "11:35:47 [INFO] Loading experiment config from C:\\Google Drive\\AIC Experiment Data\\DARP\\ITSC_instance_paper\\Results\\Chicago\\start_18-00\\duration_01_min\\max_delay_03_min\\ih\\config.yaml\n",
      "11:35:47 [INFO] Loading instance config from C:\\Google Drive\\AIC Experiment Data\\DARP\\ITSC_instance_paper\\Instances\\Chicago\\instances\\start_18-00\\duration_01_min\\max_delay_03_min\\config.yaml\n",
      "11:35:47 [INFO] Loading json file from: C:\\Google Drive\\AIC Experiment Data\\DARP\\ITSC_instance_paper\\Results\\Chicago\\start_18-00\\duration_01_min\\max_delay_03_min\\vga\\config.yaml-performance.json\n",
      "11:35:47 [INFO] Loading json file from: C:\\Google Drive\\AIC Experiment Data\\DARP\\ITSC_instance_paper\\Results\\Chicago\\start_18-00\\duration_01_min\\max_delay_03_min\\vga\\config.yaml-solution.json\n",
      "11:35:47 [INFO] Loading experiment config from C:\\Google Drive\\AIC Experiment Data\\DARP\\ITSC_instance_paper\\Results\\Chicago\\start_18-00\\duration_01_min\\max_delay_03_min\\vga\\config.yaml\n",
      "11:35:47 [INFO] Loading instance config from C:\\Google Drive\\AIC Experiment Data\\DARP\\ITSC_instance_paper\\Instances\\Chicago\\instances\\start_18-00\\duration_01_min\\max_delay_03_min\\config.yaml\n",
      "11:35:47 [WARNING] No solution found in folder: C:\\Google Drive\\AIC Experiment Data\\DARP\\ITSC_instance_paper\\Results\\Chicago\\start_18-00\\duration_01_min\\max_delay_05_min\\halns\n",
      "11:35:47 [WARNING] No solution found in folder: C:\\Google Drive\\AIC Experiment Data\\DARP\\ITSC_instance_paper\\Results\\Chicago\\start_18-00\\duration_01_min\\max_delay_05_min\\halns-ih\n",
      "11:35:47 [INFO] Loading json file from: C:\\Google Drive\\AIC Experiment Data\\DARP\\ITSC_instance_paper\\Results\\Chicago\\start_18-00\\duration_01_min\\max_delay_05_min\\ih\\config.yaml-performance.json\n",
      "11:35:47 [INFO] Loading json file from: C:\\Google Drive\\AIC Experiment Data\\DARP\\ITSC_instance_paper\\Results\\Chicago\\start_18-00\\duration_01_min\\max_delay_05_min\\ih\\config.yaml-solution.json\n",
      "11:35:47 [INFO] Loading experiment config from C:\\Google Drive\\AIC Experiment Data\\DARP\\ITSC_instance_paper\\Results\\Chicago\\start_18-00\\duration_01_min\\max_delay_05_min\\ih\\config.yaml\n",
      "11:35:47 [INFO] Loading instance config from C:\\Google Drive\\AIC Experiment Data\\DARP\\ITSC_instance_paper\\Instances\\Chicago\\instances\\start_18-00\\duration_01_min\\max_delay_05_min\\config.yaml\n",
      "11:35:47 [INFO] Loading json file from: C:\\Google Drive\\AIC Experiment Data\\DARP\\ITSC_instance_paper\\Results\\Chicago\\start_18-00\\duration_01_min\\max_delay_05_min\\vga\\config.yaml-performance.json\n",
      "11:35:47 [INFO] Loading json file from: C:\\Google Drive\\AIC Experiment Data\\DARP\\ITSC_instance_paper\\Results\\Chicago\\start_18-00\\duration_01_min\\max_delay_05_min\\vga\\config.yaml-solution.json\n",
      "11:35:47 [INFO] Loading experiment config from C:\\Google Drive\\AIC Experiment Data\\DARP\\ITSC_instance_paper\\Results\\Chicago\\start_18-00\\duration_01_min\\max_delay_05_min\\vga\\config.yaml\n",
      "11:35:47 [INFO] Loading instance config from C:\\Google Drive\\AIC Experiment Data\\DARP\\ITSC_instance_paper\\Instances\\Chicago\\instances\\start_18-00\\duration_01_min\\max_delay_05_min\\config.yaml\n",
      "11:35:47 [WARNING] No solution found in folder: C:\\Google Drive\\AIC Experiment Data\\DARP\\ITSC_instance_paper\\Results\\Chicago\\start_18-00\\duration_01_min\\max_delay_10_min\\halns\n",
      "11:35:47 [WARNING] No solution found in folder: C:\\Google Drive\\AIC Experiment Data\\DARP\\ITSC_instance_paper\\Results\\Chicago\\start_18-00\\duration_01_min\\max_delay_10_min\\halns-ih\n",
      "11:35:47 [INFO] Loading json file from: C:\\Google Drive\\AIC Experiment Data\\DARP\\ITSC_instance_paper\\Results\\Chicago\\start_18-00\\duration_01_min\\max_delay_10_min\\ih\\config.yaml-performance.json\n",
      "11:35:47 [INFO] Loading json file from: C:\\Google Drive\\AIC Experiment Data\\DARP\\ITSC_instance_paper\\Results\\Chicago\\start_18-00\\duration_01_min\\max_delay_10_min\\ih\\config.yaml-solution.json\n",
      "11:35:47 [INFO] Loading experiment config from C:\\Google Drive\\AIC Experiment Data\\DARP\\ITSC_instance_paper\\Results\\Chicago\\start_18-00\\duration_01_min\\max_delay_10_min\\ih\\config.yaml\n",
      "11:35:47 [INFO] Loading instance config from C:\\Google Drive\\AIC Experiment Data\\DARP\\ITSC_instance_paper\\Instances\\Chicago\\instances\\start_18-00\\duration_01_min\\max_delay_10_min\\config.yaml\n",
      "11:35:47 [INFO] Loading json file from: C:\\Google Drive\\AIC Experiment Data\\DARP\\ITSC_instance_paper\\Results\\Chicago\\start_18-00\\duration_01_min\\max_delay_10_min\\vga\\config.yaml-performance.json\n",
      "11:35:47 [INFO] Loading json file from: C:\\Google Drive\\AIC Experiment Data\\DARP\\ITSC_instance_paper\\Results\\Chicago\\start_18-00\\duration_01_min\\max_delay_10_min\\vga\\config.yaml-solution.json\n",
      "11:35:47 [INFO] Loading experiment config from C:\\Google Drive\\AIC Experiment Data\\DARP\\ITSC_instance_paper\\Results\\Chicago\\start_18-00\\duration_01_min\\max_delay_10_min\\vga\\config.yaml\n",
      "11:35:47 [INFO] Loading instance config from C:\\Google Drive\\AIC Experiment Data\\DARP\\ITSC_instance_paper\\Instances\\Chicago\\instances\\start_18-00\\duration_01_min\\max_delay_10_min\\config.yaml\n",
      "11:35:47 [WARNING] No solution found in folder: C:\\Google Drive\\AIC Experiment Data\\DARP\\ITSC_instance_paper\\Results\\Chicago\\start_18-00\\duration_02_h\\max_delay_03_min\\halns\n",
      "11:35:47 [WARNING] No solution found in folder: C:\\Google Drive\\AIC Experiment Data\\DARP\\ITSC_instance_paper\\Results\\Chicago\\start_18-00\\duration_02_h\\max_delay_03_min\\halns-ih\n",
      "11:35:47 [WARNING] No solution found in folder: C:\\Google Drive\\AIC Experiment Data\\DARP\\ITSC_instance_paper\\Results\\Chicago\\start_18-00\\duration_02_h\\max_delay_03_min\\ih\n",
      "11:35:47 [WARNING] No solution found in folder: C:\\Google Drive\\AIC Experiment Data\\DARP\\ITSC_instance_paper\\Results\\Chicago\\start_18-00\\duration_02_h\\max_delay_03_min\\vga\n",
      "11:35:47 [WARNING] No solution found in folder: C:\\Google Drive\\AIC Experiment Data\\DARP\\ITSC_instance_paper\\Results\\Chicago\\start_18-00\\duration_02_h\\max_delay_05_min\\halns\n",
      "11:35:47 [WARNING] No solution found in folder: C:\\Google Drive\\AIC Experiment Data\\DARP\\ITSC_instance_paper\\Results\\Chicago\\start_18-00\\duration_02_h\\max_delay_05_min\\halns-ih\n",
      "11:35:47 [WARNING] No solution found in folder: C:\\Google Drive\\AIC Experiment Data\\DARP\\ITSC_instance_paper\\Results\\Chicago\\start_18-00\\duration_02_h\\max_delay_05_min\\ih\n",
      "11:35:47 [WARNING] No solution found in folder: C:\\Google Drive\\AIC Experiment Data\\DARP\\ITSC_instance_paper\\Results\\Chicago\\start_18-00\\duration_02_h\\max_delay_05_min\\vga\n",
      "11:35:47 [WARNING] No solution found in folder: C:\\Google Drive\\AIC Experiment Data\\DARP\\ITSC_instance_paper\\Results\\Chicago\\start_18-00\\duration_02_h\\max_delay_10_min\\halns\n",
      "11:35:47 [WARNING] No solution found in folder: C:\\Google Drive\\AIC Experiment Data\\DARP\\ITSC_instance_paper\\Results\\Chicago\\start_18-00\\duration_02_h\\max_delay_10_min\\halns-ih\n",
      "11:35:47 [WARNING] No solution found in folder: C:\\Google Drive\\AIC Experiment Data\\DARP\\ITSC_instance_paper\\Results\\Chicago\\start_18-00\\duration_02_h\\max_delay_10_min\\ih\n",
      "11:35:47 [WARNING] No solution found in folder: C:\\Google Drive\\AIC Experiment Data\\DARP\\ITSC_instance_paper\\Results\\Chicago\\start_18-00\\duration_02_h\\max_delay_10_min\\vga\n",
      "11:35:47 [WARNING] No solution found in folder: C:\\Google Drive\\AIC Experiment Data\\DARP\\ITSC_instance_paper\\Results\\Chicago\\start_18-00\\duration_02_min\\max_delay_03_min\\halns\n",
      "11:35:47 [WARNING] No solution found in folder: C:\\Google Drive\\AIC Experiment Data\\DARP\\ITSC_instance_paper\\Results\\Chicago\\start_18-00\\duration_02_min\\max_delay_03_min\\halns-ih\n",
      "11:35:47 [INFO] Loading json file from: C:\\Google Drive\\AIC Experiment Data\\DARP\\ITSC_instance_paper\\Results\\Chicago\\start_18-00\\duration_02_min\\max_delay_03_min\\ih\\config.yaml-performance.json\n",
      "11:35:47 [INFO] Loading json file from: C:\\Google Drive\\AIC Experiment Data\\DARP\\ITSC_instance_paper\\Results\\Chicago\\start_18-00\\duration_02_min\\max_delay_03_min\\ih\\config.yaml-solution.json\n",
      "11:35:47 [INFO] Loading experiment config from C:\\Google Drive\\AIC Experiment Data\\DARP\\ITSC_instance_paper\\Results\\Chicago\\start_18-00\\duration_02_min\\max_delay_03_min\\ih\\config.yaml\n",
      "11:35:47 [INFO] Loading instance config from C:\\Google Drive\\AIC Experiment Data\\DARP\\ITSC_instance_paper\\Instances\\Chicago\\instances\\start_18-00\\duration_02_min\\max_delay_03_min\\config.yaml\n",
      "11:35:47 [INFO] Loading json file from: C:\\Google Drive\\AIC Experiment Data\\DARP\\ITSC_instance_paper\\Results\\Chicago\\start_18-00\\duration_02_min\\max_delay_03_min\\vga\\config.yaml-performance.json\n",
      "11:35:47 [INFO] Loading json file from: C:\\Google Drive\\AIC Experiment Data\\DARP\\ITSC_instance_paper\\Results\\Chicago\\start_18-00\\duration_02_min\\max_delay_03_min\\vga\\config.yaml-solution.json\n",
      "11:35:47 [INFO] Loading experiment config from C:\\Google Drive\\AIC Experiment Data\\DARP\\ITSC_instance_paper\\Results\\Chicago\\start_18-00\\duration_02_min\\max_delay_03_min\\vga\\config.yaml\n",
      "11:35:47 [INFO] Loading instance config from C:\\Google Drive\\AIC Experiment Data\\DARP\\ITSC_instance_paper\\Instances\\Chicago\\instances\\start_18-00\\duration_02_min\\max_delay_03_min\\config.yaml\n",
      "11:35:47 [WARNING] No solution found in folder: C:\\Google Drive\\AIC Experiment Data\\DARP\\ITSC_instance_paper\\Results\\Chicago\\start_18-00\\duration_02_min\\max_delay_05_min\\halns\n",
      "11:35:47 [WARNING] No solution found in folder: C:\\Google Drive\\AIC Experiment Data\\DARP\\ITSC_instance_paper\\Results\\Chicago\\start_18-00\\duration_02_min\\max_delay_05_min\\halns-ih\n",
      "11:35:47 [INFO] Loading json file from: C:\\Google Drive\\AIC Experiment Data\\DARP\\ITSC_instance_paper\\Results\\Chicago\\start_18-00\\duration_02_min\\max_delay_05_min\\ih\\config.yaml-performance.json\n",
      "11:35:47 [INFO] Loading json file from: C:\\Google Drive\\AIC Experiment Data\\DARP\\ITSC_instance_paper\\Results\\Chicago\\start_18-00\\duration_02_min\\max_delay_05_min\\ih\\config.yaml-solution.json\n",
      "11:35:47 [INFO] Loading experiment config from C:\\Google Drive\\AIC Experiment Data\\DARP\\ITSC_instance_paper\\Results\\Chicago\\start_18-00\\duration_02_min\\max_delay_05_min\\ih\\config.yaml\n",
      "11:35:47 [INFO] Loading instance config from C:\\Google Drive\\AIC Experiment Data\\DARP\\ITSC_instance_paper\\Instances\\Chicago\\instances\\start_18-00\\duration_02_min\\max_delay_05_min\\config.yaml\n",
      "11:35:47 [INFO] Loading json file from: C:\\Google Drive\\AIC Experiment Data\\DARP\\ITSC_instance_paper\\Results\\Chicago\\start_18-00\\duration_02_min\\max_delay_05_min\\vga\\config.yaml-performance.json\n",
      "11:35:47 [INFO] Loading json file from: C:\\Google Drive\\AIC Experiment Data\\DARP\\ITSC_instance_paper\\Results\\Chicago\\start_18-00\\duration_02_min\\max_delay_05_min\\vga\\config.yaml-solution.json\n",
      "11:35:47 [INFO] Loading experiment config from C:\\Google Drive\\AIC Experiment Data\\DARP\\ITSC_instance_paper\\Results\\Chicago\\start_18-00\\duration_02_min\\max_delay_05_min\\vga\\config.yaml\n",
      "11:35:47 [INFO] Loading instance config from C:\\Google Drive\\AIC Experiment Data\\DARP\\ITSC_instance_paper\\Instances\\Chicago\\instances\\start_18-00\\duration_02_min\\max_delay_05_min\\config.yaml\n",
      "11:35:47 [WARNING] No solution found in folder: C:\\Google Drive\\AIC Experiment Data\\DARP\\ITSC_instance_paper\\Results\\Chicago\\start_18-00\\duration_02_min\\max_delay_10_min\\halns\n",
      "11:35:47 [WARNING] No solution found in folder: C:\\Google Drive\\AIC Experiment Data\\DARP\\ITSC_instance_paper\\Results\\Chicago\\start_18-00\\duration_02_min\\max_delay_10_min\\halns-ih\n",
      "11:35:47 [INFO] Loading json file from: C:\\Google Drive\\AIC Experiment Data\\DARP\\ITSC_instance_paper\\Results\\Chicago\\start_18-00\\duration_02_min\\max_delay_10_min\\ih\\config.yaml-performance.json\n",
      "11:35:47 [INFO] Loading json file from: C:\\Google Drive\\AIC Experiment Data\\DARP\\ITSC_instance_paper\\Results\\Chicago\\start_18-00\\duration_02_min\\max_delay_10_min\\ih\\config.yaml-solution.json\n",
      "11:35:47 [INFO] Loading experiment config from C:\\Google Drive\\AIC Experiment Data\\DARP\\ITSC_instance_paper\\Results\\Chicago\\start_18-00\\duration_02_min\\max_delay_10_min\\ih\\config.yaml\n",
      "11:35:47 [INFO] Loading instance config from C:\\Google Drive\\AIC Experiment Data\\DARP\\ITSC_instance_paper\\Instances\\Chicago\\instances\\start_18-00\\duration_02_min\\max_delay_10_min\\config.yaml\n",
      "11:35:47 [INFO] Loading json file from: C:\\Google Drive\\AIC Experiment Data\\DARP\\ITSC_instance_paper\\Results\\Chicago\\start_18-00\\duration_02_min\\max_delay_10_min\\vga\\config.yaml-performance.json\n",
      "11:35:47 [INFO] Loading json file from: C:\\Google Drive\\AIC Experiment Data\\DARP\\ITSC_instance_paper\\Results\\Chicago\\start_18-00\\duration_02_min\\max_delay_10_min\\vga\\config.yaml-solution.json\n",
      "11:35:47 [INFO] Loading experiment config from C:\\Google Drive\\AIC Experiment Data\\DARP\\ITSC_instance_paper\\Results\\Chicago\\start_18-00\\duration_02_min\\max_delay_10_min\\vga\\config.yaml\n",
      "11:35:47 [INFO] Loading instance config from C:\\Google Drive\\AIC Experiment Data\\DARP\\ITSC_instance_paper\\Instances\\Chicago\\instances\\start_18-00\\duration_02_min\\max_delay_10_min\\config.yaml\n",
      "11:35:47 [WARNING] No solution found in folder: C:\\Google Drive\\AIC Experiment Data\\DARP\\ITSC_instance_paper\\Results\\Chicago\\start_18-00\\duration_05_min\\max_delay_03_min\\halns\n",
      "11:35:47 [WARNING] No solution found in folder: C:\\Google Drive\\AIC Experiment Data\\DARP\\ITSC_instance_paper\\Results\\Chicago\\start_18-00\\duration_05_min\\max_delay_03_min\\halns-ih\n",
      "11:35:47 [INFO] Loading json file from: C:\\Google Drive\\AIC Experiment Data\\DARP\\ITSC_instance_paper\\Results\\Chicago\\start_18-00\\duration_05_min\\max_delay_03_min\\ih\\config.yaml-performance.json\n",
      "11:35:47 [INFO] Loading json file from: C:\\Google Drive\\AIC Experiment Data\\DARP\\ITSC_instance_paper\\Results\\Chicago\\start_18-00\\duration_05_min\\max_delay_03_min\\ih\\config.yaml-solution.json\n",
      "11:35:47 [INFO] Loading experiment config from C:\\Google Drive\\AIC Experiment Data\\DARP\\ITSC_instance_paper\\Results\\Chicago\\start_18-00\\duration_05_min\\max_delay_03_min\\ih\\config.yaml\n",
      "11:35:47 [INFO] Loading instance config from C:\\Google Drive\\AIC Experiment Data\\DARP\\ITSC_instance_paper\\Instances\\Chicago\\instances\\start_18-00\\duration_05_min\\max_delay_03_min\\config.yaml\n",
      "11:35:47 [INFO] Loading json file from: C:\\Google Drive\\AIC Experiment Data\\DARP\\ITSC_instance_paper\\Results\\Chicago\\start_18-00\\duration_05_min\\max_delay_03_min\\vga\\config.yaml-performance.json\n",
      "11:35:47 [INFO] Loading json file from: C:\\Google Drive\\AIC Experiment Data\\DARP\\ITSC_instance_paper\\Results\\Chicago\\start_18-00\\duration_05_min\\max_delay_03_min\\vga\\config.yaml-solution.json\n",
      "11:35:47 [INFO] Loading experiment config from C:\\Google Drive\\AIC Experiment Data\\DARP\\ITSC_instance_paper\\Results\\Chicago\\start_18-00\\duration_05_min\\max_delay_03_min\\vga\\config.yaml\n",
      "11:35:47 [INFO] Loading instance config from C:\\Google Drive\\AIC Experiment Data\\DARP\\ITSC_instance_paper\\Instances\\Chicago\\instances\\start_18-00\\duration_05_min\\max_delay_03_min\\config.yaml\n",
      "11:35:47 [WARNING] No solution found in folder: C:\\Google Drive\\AIC Experiment Data\\DARP\\ITSC_instance_paper\\Results\\Chicago\\start_18-00\\duration_05_min\\max_delay_05_min\\halns\n",
      "11:35:47 [WARNING] No solution found in folder: C:\\Google Drive\\AIC Experiment Data\\DARP\\ITSC_instance_paper\\Results\\Chicago\\start_18-00\\duration_05_min\\max_delay_05_min\\halns-ih\n",
      "11:35:47 [INFO] Loading json file from: C:\\Google Drive\\AIC Experiment Data\\DARP\\ITSC_instance_paper\\Results\\Chicago\\start_18-00\\duration_05_min\\max_delay_05_min\\ih\\config.yaml-performance.json\n",
      "11:35:47 [INFO] Loading json file from: C:\\Google Drive\\AIC Experiment Data\\DARP\\ITSC_instance_paper\\Results\\Chicago\\start_18-00\\duration_05_min\\max_delay_05_min\\ih\\config.yaml-solution.json\n",
      "11:35:47 [INFO] Loading experiment config from C:\\Google Drive\\AIC Experiment Data\\DARP\\ITSC_instance_paper\\Results\\Chicago\\start_18-00\\duration_05_min\\max_delay_05_min\\ih\\config.yaml\n",
      "11:35:47 [INFO] Loading instance config from C:\\Google Drive\\AIC Experiment Data\\DARP\\ITSC_instance_paper\\Instances\\Chicago\\instances\\start_18-00\\duration_05_min\\max_delay_05_min\\config.yaml\n",
      "11:35:47 [INFO] Loading json file from: C:\\Google Drive\\AIC Experiment Data\\DARP\\ITSC_instance_paper\\Results\\Chicago\\start_18-00\\duration_05_min\\max_delay_05_min\\vga\\config.yaml-performance.json\n",
      "11:35:47 [INFO] Loading json file from: C:\\Google Drive\\AIC Experiment Data\\DARP\\ITSC_instance_paper\\Results\\Chicago\\start_18-00\\duration_05_min\\max_delay_05_min\\vga\\config.yaml-solution.json\n",
      "11:35:47 [INFO] Loading experiment config from C:\\Google Drive\\AIC Experiment Data\\DARP\\ITSC_instance_paper\\Results\\Chicago\\start_18-00\\duration_05_min\\max_delay_05_min\\vga\\config.yaml\n",
      "11:35:47 [INFO] Loading instance config from C:\\Google Drive\\AIC Experiment Data\\DARP\\ITSC_instance_paper\\Instances\\Chicago\\instances\\start_18-00\\duration_05_min\\max_delay_05_min\\config.yaml\n",
      "11:35:47 [WARNING] No solution found in folder: C:\\Google Drive\\AIC Experiment Data\\DARP\\ITSC_instance_paper\\Results\\Chicago\\start_18-00\\duration_05_min\\max_delay_10_min\\halns\n",
      "11:35:47 [WARNING] No solution found in folder: C:\\Google Drive\\AIC Experiment Data\\DARP\\ITSC_instance_paper\\Results\\Chicago\\start_18-00\\duration_05_min\\max_delay_10_min\\halns-ih\n",
      "11:35:47 [INFO] Loading json file from: C:\\Google Drive\\AIC Experiment Data\\DARP\\ITSC_instance_paper\\Results\\Chicago\\start_18-00\\duration_05_min\\max_delay_10_min\\ih\\config.yaml-performance.json\n",
      "11:35:47 [INFO] Loading json file from: C:\\Google Drive\\AIC Experiment Data\\DARP\\ITSC_instance_paper\\Results\\Chicago\\start_18-00\\duration_05_min\\max_delay_10_min\\ih\\config.yaml-solution.json\n",
      "11:35:47 [INFO] Loading experiment config from C:\\Google Drive\\AIC Experiment Data\\DARP\\ITSC_instance_paper\\Results\\Chicago\\start_18-00\\duration_05_min\\max_delay_10_min\\ih\\config.yaml\n",
      "11:35:47 [INFO] Loading instance config from C:\\Google Drive\\AIC Experiment Data\\DARP\\ITSC_instance_paper\\Instances\\Chicago\\instances\\start_18-00\\duration_05_min\\max_delay_10_min\\config.yaml\n",
      "11:35:47 [WARNING] No solution found in folder: C:\\Google Drive\\AIC Experiment Data\\DARP\\ITSC_instance_paper\\Results\\Chicago\\start_18-00\\duration_05_min\\max_delay_10_min\\vga\n",
      "11:35:47 [WARNING] No solution found in folder: C:\\Google Drive\\AIC Experiment Data\\DARP\\ITSC_instance_paper\\Results\\Chicago\\start_18-00\\duration_15_min\\max_delay_03_min\\halns\n",
      "11:35:47 [WARNING] No solution found in folder: C:\\Google Drive\\AIC Experiment Data\\DARP\\ITSC_instance_paper\\Results\\Chicago\\start_18-00\\duration_15_min\\max_delay_03_min\\halns-ih\n",
      "11:35:47 [INFO] Loading json file from: C:\\Google Drive\\AIC Experiment Data\\DARP\\ITSC_instance_paper\\Results\\Chicago\\start_18-00\\duration_15_min\\max_delay_03_min\\ih\\config.yaml-performance.json\n",
      "11:35:47 [INFO] Loading json file from: C:\\Google Drive\\AIC Experiment Data\\DARP\\ITSC_instance_paper\\Results\\Chicago\\start_18-00\\duration_15_min\\max_delay_03_min\\ih\\config.yaml-solution.json\n",
      "11:35:47 [INFO] Loading experiment config from C:\\Google Drive\\AIC Experiment Data\\DARP\\ITSC_instance_paper\\Results\\Chicago\\start_18-00\\duration_15_min\\max_delay_03_min\\ih\\config.yaml\n",
      "11:35:47 [INFO] Loading instance config from C:\\Google Drive\\AIC Experiment Data\\DARP\\ITSC_instance_paper\\Instances\\Chicago\\instances\\start_18-00\\duration_15_min\\max_delay_03_min\\config.yaml\n",
      "11:35:47 [WARNING] No solution found in folder: C:\\Google Drive\\AIC Experiment Data\\DARP\\ITSC_instance_paper\\Results\\Chicago\\start_18-00\\duration_15_min\\max_delay_03_min\\vga\n",
      "11:35:47 [WARNING] No solution found in folder: C:\\Google Drive\\AIC Experiment Data\\DARP\\ITSC_instance_paper\\Results\\Chicago\\start_18-00\\duration_15_min\\max_delay_05_min\\halns\n",
      "11:35:47 [WARNING] No solution found in folder: C:\\Google Drive\\AIC Experiment Data\\DARP\\ITSC_instance_paper\\Results\\Chicago\\start_18-00\\duration_15_min\\max_delay_05_min\\halns-ih\n",
      "11:35:47 [INFO] Loading json file from: C:\\Google Drive\\AIC Experiment Data\\DARP\\ITSC_instance_paper\\Results\\Chicago\\start_18-00\\duration_15_min\\max_delay_05_min\\ih\\config.yaml-performance.json\n",
      "11:35:47 [INFO] Loading json file from: C:\\Google Drive\\AIC Experiment Data\\DARP\\ITSC_instance_paper\\Results\\Chicago\\start_18-00\\duration_15_min\\max_delay_05_min\\ih\\config.yaml-solution.json\n",
      "11:35:47 [INFO] Loading experiment config from C:\\Google Drive\\AIC Experiment Data\\DARP\\ITSC_instance_paper\\Results\\Chicago\\start_18-00\\duration_15_min\\max_delay_05_min\\ih\\config.yaml\n",
      "11:35:47 [INFO] Loading instance config from C:\\Google Drive\\AIC Experiment Data\\DARP\\ITSC_instance_paper\\Instances\\Chicago\\instances\\start_18-00\\duration_15_min\\max_delay_05_min\\config.yaml\n",
      "11:35:47 [WARNING] No solution found in folder: C:\\Google Drive\\AIC Experiment Data\\DARP\\ITSC_instance_paper\\Results\\Chicago\\start_18-00\\duration_15_min\\max_delay_05_min\\vga\n",
      "11:35:47 [WARNING] No solution found in folder: C:\\Google Drive\\AIC Experiment Data\\DARP\\ITSC_instance_paper\\Results\\Chicago\\start_18-00\\duration_15_min\\max_delay_10_min\\halns\n",
      "11:35:47 [WARNING] No solution found in folder: C:\\Google Drive\\AIC Experiment Data\\DARP\\ITSC_instance_paper\\Results\\Chicago\\start_18-00\\duration_15_min\\max_delay_10_min\\halns-ih\n",
      "11:35:47 [INFO] Loading json file from: C:\\Google Drive\\AIC Experiment Data\\DARP\\ITSC_instance_paper\\Results\\Chicago\\start_18-00\\duration_15_min\\max_delay_10_min\\ih\\config.yaml-performance.json\n",
      "11:35:47 [INFO] Loading json file from: C:\\Google Drive\\AIC Experiment Data\\DARP\\ITSC_instance_paper\\Results\\Chicago\\start_18-00\\duration_15_min\\max_delay_10_min\\ih\\config.yaml-solution.json\n",
      "11:35:47 [INFO] Loading experiment config from C:\\Google Drive\\AIC Experiment Data\\DARP\\ITSC_instance_paper\\Results\\Chicago\\start_18-00\\duration_15_min\\max_delay_10_min\\ih\\config.yaml\n",
      "11:35:48 [INFO] Loading instance config from C:\\Google Drive\\AIC Experiment Data\\DARP\\ITSC_instance_paper\\Instances\\Chicago\\instances\\start_18-00\\duration_15_min\\max_delay_10_min\\config.yaml\n",
      "11:35:48 [WARNING] No solution found in folder: C:\\Google Drive\\AIC Experiment Data\\DARP\\ITSC_instance_paper\\Results\\Chicago\\start_18-00\\duration_15_min\\max_delay_10_min\\vga\n",
      "11:35:48 [WARNING] No solution found in folder: C:\\Google Drive\\AIC Experiment Data\\DARP\\ITSC_instance_paper\\Results\\Chicago\\start_18-00\\duration_16_h\\max_delay_03_min\\halns\n",
      "11:35:48 [WARNING] No solution found in folder: C:\\Google Drive\\AIC Experiment Data\\DARP\\ITSC_instance_paper\\Results\\Chicago\\start_18-00\\duration_16_h\\max_delay_03_min\\halns-ih\n",
      "11:35:48 [WARNING] No solution found in folder: C:\\Google Drive\\AIC Experiment Data\\DARP\\ITSC_instance_paper\\Results\\Chicago\\start_18-00\\duration_16_h\\max_delay_03_min\\ih\n",
      "11:35:48 [WARNING] No solution found in folder: C:\\Google Drive\\AIC Experiment Data\\DARP\\ITSC_instance_paper\\Results\\Chicago\\start_18-00\\duration_16_h\\max_delay_03_min\\vga\n",
      "11:35:48 [WARNING] No solution found in folder: C:\\Google Drive\\AIC Experiment Data\\DARP\\ITSC_instance_paper\\Results\\Chicago\\start_18-00\\duration_16_h\\max_delay_05_min\\halns\n",
      "11:35:48 [WARNING] No solution found in folder: C:\\Google Drive\\AIC Experiment Data\\DARP\\ITSC_instance_paper\\Results\\Chicago\\start_18-00\\duration_16_h\\max_delay_05_min\\halns-ih\n",
      "11:35:48 [WARNING] No solution found in folder: C:\\Google Drive\\AIC Experiment Data\\DARP\\ITSC_instance_paper\\Results\\Chicago\\start_18-00\\duration_16_h\\max_delay_05_min\\ih\n",
      "11:35:48 [WARNING] No solution found in folder: C:\\Google Drive\\AIC Experiment Data\\DARP\\ITSC_instance_paper\\Results\\Chicago\\start_18-00\\duration_16_h\\max_delay_05_min\\vga\n",
      "11:35:48 [WARNING] No solution found in folder: C:\\Google Drive\\AIC Experiment Data\\DARP\\ITSC_instance_paper\\Results\\Chicago\\start_18-00\\duration_16_h\\max_delay_10_min\\halns\n",
      "11:35:48 [WARNING] No solution found in folder: C:\\Google Drive\\AIC Experiment Data\\DARP\\ITSC_instance_paper\\Results\\Chicago\\start_18-00\\duration_16_h\\max_delay_10_min\\halns-ih\n",
      "11:35:48 [WARNING] No solution found in folder: C:\\Google Drive\\AIC Experiment Data\\DARP\\ITSC_instance_paper\\Results\\Chicago\\start_18-00\\duration_16_h\\max_delay_10_min\\ih\n",
      "11:35:48 [WARNING] No solution found in folder: C:\\Google Drive\\AIC Experiment Data\\DARP\\ITSC_instance_paper\\Results\\Chicago\\start_18-00\\duration_16_h\\max_delay_10_min\\vga\n",
      "11:35:48 [WARNING] No solution found in folder: C:\\Google Drive\\AIC Experiment Data\\DARP\\ITSC_instance_paper\\Results\\Chicago\\start_18-00\\duration_30_min\\max_delay_03_min\\halns\n",
      "11:35:48 [WARNING] No solution found in folder: C:\\Google Drive\\AIC Experiment Data\\DARP\\ITSC_instance_paper\\Results\\Chicago\\start_18-00\\duration_30_min\\max_delay_03_min\\halns-ih\n",
      "11:35:48 [INFO] Loading json file from: C:\\Google Drive\\AIC Experiment Data\\DARP\\ITSC_instance_paper\\Results\\Chicago\\start_18-00\\duration_30_min\\max_delay_03_min\\ih\\config.yaml-performance.json\n",
      "11:35:48 [INFO] Loading json file from: C:\\Google Drive\\AIC Experiment Data\\DARP\\ITSC_instance_paper\\Results\\Chicago\\start_18-00\\duration_30_min\\max_delay_03_min\\ih\\config.yaml-solution.json\n",
      "11:35:48 [INFO] Loading experiment config from C:\\Google Drive\\AIC Experiment Data\\DARP\\ITSC_instance_paper\\Results\\Chicago\\start_18-00\\duration_30_min\\max_delay_03_min\\ih\\config.yaml\n",
      "11:35:48 [INFO] Loading instance config from C:\\Google Drive\\AIC Experiment Data\\DARP\\ITSC_instance_paper\\Instances\\Chicago\\instances\\start_18-00\\duration_30_min\\max_delay_03_min\\config.yaml\n",
      "11:35:48 [WARNING] No solution found in folder: C:\\Google Drive\\AIC Experiment Data\\DARP\\ITSC_instance_paper\\Results\\Chicago\\start_18-00\\duration_30_min\\max_delay_03_min\\vga\n",
      "11:35:48 [WARNING] No solution found in folder: C:\\Google Drive\\AIC Experiment Data\\DARP\\ITSC_instance_paper\\Results\\Chicago\\start_18-00\\duration_30_min\\max_delay_05_min\\halns\n",
      "11:35:48 [WARNING] No solution found in folder: C:\\Google Drive\\AIC Experiment Data\\DARP\\ITSC_instance_paper\\Results\\Chicago\\start_18-00\\duration_30_min\\max_delay_05_min\\halns-ih\n",
      "11:35:48 [INFO] Loading json file from: C:\\Google Drive\\AIC Experiment Data\\DARP\\ITSC_instance_paper\\Results\\Chicago\\start_18-00\\duration_30_min\\max_delay_05_min\\ih\\config.yaml-performance.json\n",
      "11:35:48 [INFO] Loading json file from: C:\\Google Drive\\AIC Experiment Data\\DARP\\ITSC_instance_paper\\Results\\Chicago\\start_18-00\\duration_30_min\\max_delay_05_min\\ih\\config.yaml-solution.json\n",
      "11:35:48 [INFO] Loading experiment config from C:\\Google Drive\\AIC Experiment Data\\DARP\\ITSC_instance_paper\\Results\\Chicago\\start_18-00\\duration_30_min\\max_delay_05_min\\ih\\config.yaml\n",
      "11:35:48 [INFO] Loading instance config from C:\\Google Drive\\AIC Experiment Data\\DARP\\ITSC_instance_paper\\Instances\\Chicago\\instances\\start_18-00\\duration_30_min\\max_delay_05_min\\config.yaml\n",
      "11:35:48 [WARNING] No solution found in folder: C:\\Google Drive\\AIC Experiment Data\\DARP\\ITSC_instance_paper\\Results\\Chicago\\start_18-00\\duration_30_min\\max_delay_05_min\\vga\n",
      "11:35:48 [WARNING] No solution found in folder: C:\\Google Drive\\AIC Experiment Data\\DARP\\ITSC_instance_paper\\Results\\Chicago\\start_18-00\\duration_30_min\\max_delay_10_min\\halns\n",
      "11:35:48 [WARNING] No solution found in folder: C:\\Google Drive\\AIC Experiment Data\\DARP\\ITSC_instance_paper\\Results\\Chicago\\start_18-00\\duration_30_min\\max_delay_10_min\\halns-ih\n",
      "11:35:48 [INFO] Loading json file from: C:\\Google Drive\\AIC Experiment Data\\DARP\\ITSC_instance_paper\\Results\\Chicago\\start_18-00\\duration_30_min\\max_delay_10_min\\ih\\config.yaml-performance.json\n",
      "11:35:48 [INFO] Loading json file from: C:\\Google Drive\\AIC Experiment Data\\DARP\\ITSC_instance_paper\\Results\\Chicago\\start_18-00\\duration_30_min\\max_delay_10_min\\ih\\config.yaml-solution.json\n",
      "11:35:48 [INFO] Loading experiment config from C:\\Google Drive\\AIC Experiment Data\\DARP\\ITSC_instance_paper\\Results\\Chicago\\start_18-00\\duration_30_min\\max_delay_10_min\\ih\\config.yaml\n",
      "11:35:48 [INFO] Loading instance config from C:\\Google Drive\\AIC Experiment Data\\DARP\\ITSC_instance_paper\\Instances\\Chicago\\instances\\start_18-00\\duration_30_min\\max_delay_10_min\\config.yaml\n",
      "11:35:48 [WARNING] No solution found in folder: C:\\Google Drive\\AIC Experiment Data\\DARP\\ITSC_instance_paper\\Results\\Chicago\\start_18-00\\duration_30_min\\max_delay_10_min\\vga\n",
      "11:35:48 [WARNING] No solution found in folder: C:\\Google Drive\\AIC Experiment Data\\DARP\\ITSC_instance_paper\\Results\\Chicago\\start_18-00\\duration_30_s\\max_delay_03_min\\halns\n",
      "11:35:48 [WARNING] No solution found in folder: C:\\Google Drive\\AIC Experiment Data\\DARP\\ITSC_instance_paper\\Results\\Chicago\\start_18-00\\duration_30_s\\max_delay_03_min\\halns-ih\n",
      "11:35:48 [INFO] Loading json file from: C:\\Google Drive\\AIC Experiment Data\\DARP\\ITSC_instance_paper\\Results\\Chicago\\start_18-00\\duration_30_s\\max_delay_03_min\\ih\\config.yaml-performance.json\n",
      "11:35:48 [INFO] Loading json file from: C:\\Google Drive\\AIC Experiment Data\\DARP\\ITSC_instance_paper\\Results\\Chicago\\start_18-00\\duration_30_s\\max_delay_03_min\\ih\\config.yaml-solution.json\n",
      "11:35:48 [INFO] Loading experiment config from C:\\Google Drive\\AIC Experiment Data\\DARP\\ITSC_instance_paper\\Results\\Chicago\\start_18-00\\duration_30_s\\max_delay_03_min\\ih\\config.yaml\n",
      "11:35:48 [INFO] Loading instance config from C:\\Google Drive\\AIC Experiment Data\\DARP\\ITSC_instance_paper\\Instances\\Chicago\\instances\\start_18-00\\duration_30_s\\max_delay_03_min\\config.yaml\n",
      "11:35:48 [INFO] Loading json file from: C:\\Google Drive\\AIC Experiment Data\\DARP\\ITSC_instance_paper\\Results\\Chicago\\start_18-00\\duration_30_s\\max_delay_03_min\\vga\\config.yaml-performance.json\n",
      "11:35:48 [INFO] Loading json file from: C:\\Google Drive\\AIC Experiment Data\\DARP\\ITSC_instance_paper\\Results\\Chicago\\start_18-00\\duration_30_s\\max_delay_03_min\\vga\\config.yaml-solution.json\n",
      "11:35:48 [INFO] Loading experiment config from C:\\Google Drive\\AIC Experiment Data\\DARP\\ITSC_instance_paper\\Results\\Chicago\\start_18-00\\duration_30_s\\max_delay_03_min\\vga\\config.yaml\n",
      "11:35:48 [INFO] Loading instance config from C:\\Google Drive\\AIC Experiment Data\\DARP\\ITSC_instance_paper\\Instances\\Chicago\\instances\\start_18-00\\duration_30_s\\max_delay_03_min\\config.yaml\n",
      "11:35:48 [WARNING] No solution found in folder: C:\\Google Drive\\AIC Experiment Data\\DARP\\ITSC_instance_paper\\Results\\Chicago\\start_18-00\\duration_30_s\\max_delay_05_min\\halns\n",
      "11:35:48 [WARNING] No solution found in folder: C:\\Google Drive\\AIC Experiment Data\\DARP\\ITSC_instance_paper\\Results\\Chicago\\start_18-00\\duration_30_s\\max_delay_05_min\\halns-ih\n",
      "11:35:48 [INFO] Loading json file from: C:\\Google Drive\\AIC Experiment Data\\DARP\\ITSC_instance_paper\\Results\\Chicago\\start_18-00\\duration_30_s\\max_delay_05_min\\ih\\config.yaml-performance.json\n",
      "11:35:48 [INFO] Loading json file from: C:\\Google Drive\\AIC Experiment Data\\DARP\\ITSC_instance_paper\\Results\\Chicago\\start_18-00\\duration_30_s\\max_delay_05_min\\ih\\config.yaml-solution.json\n",
      "11:35:48 [INFO] Loading experiment config from C:\\Google Drive\\AIC Experiment Data\\DARP\\ITSC_instance_paper\\Results\\Chicago\\start_18-00\\duration_30_s\\max_delay_05_min\\ih\\config.yaml\n",
      "11:35:48 [INFO] Loading instance config from C:\\Google Drive\\AIC Experiment Data\\DARP\\ITSC_instance_paper\\Instances\\Chicago\\instances\\start_18-00\\duration_30_s\\max_delay_05_min\\config.yaml\n",
      "11:35:48 [INFO] Loading json file from: C:\\Google Drive\\AIC Experiment Data\\DARP\\ITSC_instance_paper\\Results\\Chicago\\start_18-00\\duration_30_s\\max_delay_05_min\\vga\\config.yaml-performance.json\n",
      "11:35:48 [INFO] Loading json file from: C:\\Google Drive\\AIC Experiment Data\\DARP\\ITSC_instance_paper\\Results\\Chicago\\start_18-00\\duration_30_s\\max_delay_05_min\\vga\\config.yaml-solution.json\n",
      "11:35:48 [INFO] Loading experiment config from C:\\Google Drive\\AIC Experiment Data\\DARP\\ITSC_instance_paper\\Results\\Chicago\\start_18-00\\duration_30_s\\max_delay_05_min\\vga\\config.yaml\n",
      "11:35:48 [INFO] Loading instance config from C:\\Google Drive\\AIC Experiment Data\\DARP\\ITSC_instance_paper\\Instances\\Chicago\\instances\\start_18-00\\duration_30_s\\max_delay_05_min\\config.yaml\n",
      "11:35:48 [WARNING] No solution found in folder: C:\\Google Drive\\AIC Experiment Data\\DARP\\ITSC_instance_paper\\Results\\Chicago\\start_18-00\\duration_30_s\\max_delay_10_min\\halns\n",
      "11:35:48 [WARNING] No solution found in folder: C:\\Google Drive\\AIC Experiment Data\\DARP\\ITSC_instance_paper\\Results\\Chicago\\start_18-00\\duration_30_s\\max_delay_10_min\\halns-ih\n",
      "11:35:48 [INFO] Loading json file from: C:\\Google Drive\\AIC Experiment Data\\DARP\\ITSC_instance_paper\\Results\\Chicago\\start_18-00\\duration_30_s\\max_delay_10_min\\ih\\config.yaml-performance.json\n",
      "11:35:48 [INFO] Loading json file from: C:\\Google Drive\\AIC Experiment Data\\DARP\\ITSC_instance_paper\\Results\\Chicago\\start_18-00\\duration_30_s\\max_delay_10_min\\ih\\config.yaml-solution.json\n",
      "11:35:48 [INFO] Loading experiment config from C:\\Google Drive\\AIC Experiment Data\\DARP\\ITSC_instance_paper\\Results\\Chicago\\start_18-00\\duration_30_s\\max_delay_10_min\\ih\\config.yaml\n",
      "11:35:48 [INFO] Loading instance config from C:\\Google Drive\\AIC Experiment Data\\DARP\\ITSC_instance_paper\\Instances\\Chicago\\instances\\start_18-00\\duration_30_s\\max_delay_10_min\\config.yaml\n",
      "11:35:48 [INFO] Loading json file from: C:\\Google Drive\\AIC Experiment Data\\DARP\\ITSC_instance_paper\\Results\\Chicago\\start_18-00\\duration_30_s\\max_delay_10_min\\vga\\config.yaml-performance.json\n",
      "11:35:48 [INFO] Loading json file from: C:\\Google Drive\\AIC Experiment Data\\DARP\\ITSC_instance_paper\\Results\\Chicago\\start_18-00\\duration_30_s\\max_delay_10_min\\vga\\config.yaml-solution.json\n",
      "11:35:48 [INFO] Loading experiment config from C:\\Google Drive\\AIC Experiment Data\\DARP\\ITSC_instance_paper\\Results\\Chicago\\start_18-00\\duration_30_s\\max_delay_10_min\\vga\\config.yaml\n",
      "11:35:48 [INFO] Loading instance config from C:\\Google Drive\\AIC Experiment Data\\DARP\\ITSC_instance_paper\\Instances\\Chicago\\instances\\start_18-00\\duration_30_s\\max_delay_10_min\\config.yaml\n",
      "11:35:48 [INFO] Loading aggregate stats in C:\\Google Drive\\AIC Experiment Data\\DARP\\ITSC_instance_paper\\Results\\DC\n",
      "11:35:48 [WARNING] No solution found in folder: C:\\Google Drive\\AIC Experiment Data\\DARP\\ITSC_instance_paper\\Results\\DC\\start_18-00\\duration_01_min\\max_delay_03_min\\halns\n",
      "11:35:48 [WARNING] No solution found in folder: C:\\Google Drive\\AIC Experiment Data\\DARP\\ITSC_instance_paper\\Results\\DC\\start_18-00\\duration_01_min\\max_delay_03_min\\halns-ih\n",
      "11:35:48 [INFO] Loading json file from: C:\\Google Drive\\AIC Experiment Data\\DARP\\ITSC_instance_paper\\Results\\DC\\start_18-00\\duration_01_min\\max_delay_03_min\\ih\\config.yaml-performance.json\n",
      "11:35:48 [INFO] Loading json file from: C:\\Google Drive\\AIC Experiment Data\\DARP\\ITSC_instance_paper\\Results\\DC\\start_18-00\\duration_01_min\\max_delay_03_min\\ih\\config.yaml-solution.json\n",
      "11:35:48 [INFO] Loading experiment config from C:\\Google Drive\\AIC Experiment Data\\DARP\\ITSC_instance_paper\\Results\\DC\\start_18-00\\duration_01_min\\max_delay_03_min\\ih\\config.yaml\n",
      "11:35:48 [INFO] Loading instance config from C:\\Google Drive\\AIC Experiment Data\\DARP\\ITSC_instance_paper\\Instances\\DC\\instances\\start_18-00\\duration_01_min\\max_delay_03_min\\config.yaml\n",
      "11:35:48 [INFO] Loading json file from: C:\\Google Drive\\AIC Experiment Data\\DARP\\ITSC_instance_paper\\Results\\DC\\start_18-00\\duration_01_min\\max_delay_03_min\\vga\\config.yaml-performance.json\n",
      "11:35:48 [INFO] Loading json file from: C:\\Google Drive\\AIC Experiment Data\\DARP\\ITSC_instance_paper\\Results\\DC\\start_18-00\\duration_01_min\\max_delay_03_min\\vga\\config.yaml-solution.json\n",
      "11:35:48 [INFO] Loading experiment config from C:\\Google Drive\\AIC Experiment Data\\DARP\\ITSC_instance_paper\\Results\\DC\\start_18-00\\duration_01_min\\max_delay_03_min\\vga\\config.yaml\n",
      "11:35:48 [INFO] Loading instance config from C:\\Google Drive\\AIC Experiment Data\\DARP\\ITSC_instance_paper\\Instances\\DC\\instances\\start_18-00\\duration_01_min\\max_delay_03_min\\config.yaml\n",
      "11:35:48 [WARNING] No solution found in folder: C:\\Google Drive\\AIC Experiment Data\\DARP\\ITSC_instance_paper\\Results\\DC\\start_18-00\\duration_01_min\\max_delay_05_min\\halns\n",
      "11:35:48 [WARNING] No solution found in folder: C:\\Google Drive\\AIC Experiment Data\\DARP\\ITSC_instance_paper\\Results\\DC\\start_18-00\\duration_01_min\\max_delay_05_min\\halns-ih\n",
      "11:35:48 [INFO] Loading json file from: C:\\Google Drive\\AIC Experiment Data\\DARP\\ITSC_instance_paper\\Results\\DC\\start_18-00\\duration_01_min\\max_delay_05_min\\ih\\config.yaml-performance.json\n",
      "11:35:48 [INFO] Loading json file from: C:\\Google Drive\\AIC Experiment Data\\DARP\\ITSC_instance_paper\\Results\\DC\\start_18-00\\duration_01_min\\max_delay_05_min\\ih\\config.yaml-solution.json\n",
      "11:35:48 [INFO] Loading experiment config from C:\\Google Drive\\AIC Experiment Data\\DARP\\ITSC_instance_paper\\Results\\DC\\start_18-00\\duration_01_min\\max_delay_05_min\\ih\\config.yaml\n",
      "11:35:48 [INFO] Loading instance config from C:\\Google Drive\\AIC Experiment Data\\DARP\\ITSC_instance_paper\\Instances\\DC\\instances\\start_18-00\\duration_01_min\\max_delay_05_min\\config.yaml\n",
      "11:35:48 [INFO] Loading json file from: C:\\Google Drive\\AIC Experiment Data\\DARP\\ITSC_instance_paper\\Results\\DC\\start_18-00\\duration_01_min\\max_delay_05_min\\vga\\config.yaml-performance.json\n",
      "11:35:48 [INFO] Loading json file from: C:\\Google Drive\\AIC Experiment Data\\DARP\\ITSC_instance_paper\\Results\\DC\\start_18-00\\duration_01_min\\max_delay_05_min\\vga\\config.yaml-solution.json\n",
      "11:35:48 [INFO] Loading experiment config from C:\\Google Drive\\AIC Experiment Data\\DARP\\ITSC_instance_paper\\Results\\DC\\start_18-00\\duration_01_min\\max_delay_05_min\\vga\\config.yaml\n",
      "11:35:48 [INFO] Loading instance config from C:\\Google Drive\\AIC Experiment Data\\DARP\\ITSC_instance_paper\\Instances\\DC\\instances\\start_18-00\\duration_01_min\\max_delay_05_min\\config.yaml\n",
      "11:35:48 [WARNING] No solution found in folder: C:\\Google Drive\\AIC Experiment Data\\DARP\\ITSC_instance_paper\\Results\\DC\\start_18-00\\duration_01_min\\max_delay_10_min\\halns\n",
      "11:35:48 [WARNING] No solution found in folder: C:\\Google Drive\\AIC Experiment Data\\DARP\\ITSC_instance_paper\\Results\\DC\\start_18-00\\duration_01_min\\max_delay_10_min\\halns-ih\n",
      "11:35:48 [INFO] Loading json file from: C:\\Google Drive\\AIC Experiment Data\\DARP\\ITSC_instance_paper\\Results\\DC\\start_18-00\\duration_01_min\\max_delay_10_min\\ih\\config.yaml-performance.json\n",
      "11:35:48 [INFO] Loading json file from: C:\\Google Drive\\AIC Experiment Data\\DARP\\ITSC_instance_paper\\Results\\DC\\start_18-00\\duration_01_min\\max_delay_10_min\\ih\\config.yaml-solution.json\n",
      "11:35:48 [INFO] Loading experiment config from C:\\Google Drive\\AIC Experiment Data\\DARP\\ITSC_instance_paper\\Results\\DC\\start_18-00\\duration_01_min\\max_delay_10_min\\ih\\config.yaml\n",
      "11:35:48 [INFO] Loading instance config from C:\\Google Drive\\AIC Experiment Data\\DARP\\ITSC_instance_paper\\Instances\\DC\\instances\\start_18-00\\duration_01_min\\max_delay_10_min\\config.yaml\n",
      "11:35:48 [INFO] Loading json file from: C:\\Google Drive\\AIC Experiment Data\\DARP\\ITSC_instance_paper\\Results\\DC\\start_18-00\\duration_01_min\\max_delay_10_min\\vga\\config.yaml-performance.json\n",
      "11:35:48 [INFO] Loading json file from: C:\\Google Drive\\AIC Experiment Data\\DARP\\ITSC_instance_paper\\Results\\DC\\start_18-00\\duration_01_min\\max_delay_10_min\\vga\\config.yaml-solution.json\n",
      "11:35:48 [INFO] Loading experiment config from C:\\Google Drive\\AIC Experiment Data\\DARP\\ITSC_instance_paper\\Results\\DC\\start_18-00\\duration_01_min\\max_delay_10_min\\vga\\config.yaml\n",
      "11:35:48 [INFO] Loading instance config from C:\\Google Drive\\AIC Experiment Data\\DARP\\ITSC_instance_paper\\Instances\\DC\\instances\\start_18-00\\duration_01_min\\max_delay_10_min\\config.yaml\n",
      "11:35:48 [WARNING] No solution found in folder: C:\\Google Drive\\AIC Experiment Data\\DARP\\ITSC_instance_paper\\Results\\DC\\start_18-00\\duration_02_h\\max_delay_03_min\\halns\n",
      "11:35:48 [WARNING] No solution found in folder: C:\\Google Drive\\AIC Experiment Data\\DARP\\ITSC_instance_paper\\Results\\DC\\start_18-00\\duration_02_h\\max_delay_03_min\\halns-ih\n",
      "11:35:48 [WARNING] No solution found in folder: C:\\Google Drive\\AIC Experiment Data\\DARP\\ITSC_instance_paper\\Results\\DC\\start_18-00\\duration_02_h\\max_delay_03_min\\ih\n",
      "11:35:48 [WARNING] No solution found in folder: C:\\Google Drive\\AIC Experiment Data\\DARP\\ITSC_instance_paper\\Results\\DC\\start_18-00\\duration_02_h\\max_delay_03_min\\vga\n",
      "11:35:48 [WARNING] No solution found in folder: C:\\Google Drive\\AIC Experiment Data\\DARP\\ITSC_instance_paper\\Results\\DC\\start_18-00\\duration_02_h\\max_delay_05_min\\halns\n",
      "11:35:48 [WARNING] No solution found in folder: C:\\Google Drive\\AIC Experiment Data\\DARP\\ITSC_instance_paper\\Results\\DC\\start_18-00\\duration_02_h\\max_delay_05_min\\halns-ih\n",
      "11:35:48 [WARNING] No solution found in folder: C:\\Google Drive\\AIC Experiment Data\\DARP\\ITSC_instance_paper\\Results\\DC\\start_18-00\\duration_02_h\\max_delay_05_min\\ih\n",
      "11:35:48 [WARNING] No solution found in folder: C:\\Google Drive\\AIC Experiment Data\\DARP\\ITSC_instance_paper\\Results\\DC\\start_18-00\\duration_02_h\\max_delay_05_min\\vga\n",
      "11:35:48 [WARNING] No solution found in folder: C:\\Google Drive\\AIC Experiment Data\\DARP\\ITSC_instance_paper\\Results\\DC\\start_18-00\\duration_02_h\\max_delay_10_min\\halns\n",
      "11:35:48 [WARNING] No solution found in folder: C:\\Google Drive\\AIC Experiment Data\\DARP\\ITSC_instance_paper\\Results\\DC\\start_18-00\\duration_02_h\\max_delay_10_min\\halns-ih\n",
      "11:35:48 [WARNING] No solution found in folder: C:\\Google Drive\\AIC Experiment Data\\DARP\\ITSC_instance_paper\\Results\\DC\\start_18-00\\duration_02_h\\max_delay_10_min\\ih\n",
      "11:35:48 [WARNING] No solution found in folder: C:\\Google Drive\\AIC Experiment Data\\DARP\\ITSC_instance_paper\\Results\\DC\\start_18-00\\duration_02_h\\max_delay_10_min\\vga\n",
      "11:35:48 [WARNING] No solution found in folder: C:\\Google Drive\\AIC Experiment Data\\DARP\\ITSC_instance_paper\\Results\\DC\\start_18-00\\duration_02_min\\max_delay_03_min\\halns\n",
      "11:35:48 [WARNING] No solution found in folder: C:\\Google Drive\\AIC Experiment Data\\DARP\\ITSC_instance_paper\\Results\\DC\\start_18-00\\duration_02_min\\max_delay_03_min\\halns-ih\n",
      "11:35:48 [INFO] Loading json file from: C:\\Google Drive\\AIC Experiment Data\\DARP\\ITSC_instance_paper\\Results\\DC\\start_18-00\\duration_02_min\\max_delay_03_min\\ih\\config.yaml-performance.json\n",
      "11:35:48 [INFO] Loading json file from: C:\\Google Drive\\AIC Experiment Data\\DARP\\ITSC_instance_paper\\Results\\DC\\start_18-00\\duration_02_min\\max_delay_03_min\\ih\\config.yaml-solution.json\n",
      "11:35:48 [INFO] Loading experiment config from C:\\Google Drive\\AIC Experiment Data\\DARP\\ITSC_instance_paper\\Results\\DC\\start_18-00\\duration_02_min\\max_delay_03_min\\ih\\config.yaml\n",
      "11:35:48 [INFO] Loading instance config from C:\\Google Drive\\AIC Experiment Data\\DARP\\ITSC_instance_paper\\Instances\\DC\\instances\\start_18-00\\duration_02_min\\max_delay_03_min\\config.yaml\n",
      "11:35:48 [INFO] Loading json file from: C:\\Google Drive\\AIC Experiment Data\\DARP\\ITSC_instance_paper\\Results\\DC\\start_18-00\\duration_02_min\\max_delay_03_min\\vga\\config.yaml-performance.json\n",
      "11:35:48 [INFO] Loading json file from: C:\\Google Drive\\AIC Experiment Data\\DARP\\ITSC_instance_paper\\Results\\DC\\start_18-00\\duration_02_min\\max_delay_03_min\\vga\\config.yaml-solution.json\n",
      "11:35:48 [INFO] Loading experiment config from C:\\Google Drive\\AIC Experiment Data\\DARP\\ITSC_instance_paper\\Results\\DC\\start_18-00\\duration_02_min\\max_delay_03_min\\vga\\config.yaml\n",
      "11:35:48 [INFO] Loading instance config from C:\\Google Drive\\AIC Experiment Data\\DARP\\ITSC_instance_paper\\Instances\\DC\\instances\\start_18-00\\duration_02_min\\max_delay_03_min\\config.yaml\n",
      "11:35:48 [WARNING] No solution found in folder: C:\\Google Drive\\AIC Experiment Data\\DARP\\ITSC_instance_paper\\Results\\DC\\start_18-00\\duration_02_min\\max_delay_05_min\\halns\n",
      "11:35:48 [WARNING] No solution found in folder: C:\\Google Drive\\AIC Experiment Data\\DARP\\ITSC_instance_paper\\Results\\DC\\start_18-00\\duration_02_min\\max_delay_05_min\\halns-ih\n",
      "11:35:48 [INFO] Loading json file from: C:\\Google Drive\\AIC Experiment Data\\DARP\\ITSC_instance_paper\\Results\\DC\\start_18-00\\duration_02_min\\max_delay_05_min\\ih\\config.yaml-performance.json\n",
      "11:35:48 [INFO] Loading json file from: C:\\Google Drive\\AIC Experiment Data\\DARP\\ITSC_instance_paper\\Results\\DC\\start_18-00\\duration_02_min\\max_delay_05_min\\ih\\config.yaml-solution.json\n",
      "11:35:48 [INFO] Loading experiment config from C:\\Google Drive\\AIC Experiment Data\\DARP\\ITSC_instance_paper\\Results\\DC\\start_18-00\\duration_02_min\\max_delay_05_min\\ih\\config.yaml\n",
      "11:35:48 [INFO] Loading instance config from C:\\Google Drive\\AIC Experiment Data\\DARP\\ITSC_instance_paper\\Instances\\DC\\instances\\start_18-00\\duration_02_min\\max_delay_05_min\\config.yaml\n",
      "11:35:48 [INFO] Loading json file from: C:\\Google Drive\\AIC Experiment Data\\DARP\\ITSC_instance_paper\\Results\\DC\\start_18-00\\duration_02_min\\max_delay_05_min\\vga\\config.yaml-performance.json\n",
      "11:35:48 [INFO] Loading json file from: C:\\Google Drive\\AIC Experiment Data\\DARP\\ITSC_instance_paper\\Results\\DC\\start_18-00\\duration_02_min\\max_delay_05_min\\vga\\config.yaml-solution.json\n",
      "11:35:48 [INFO] Loading experiment config from C:\\Google Drive\\AIC Experiment Data\\DARP\\ITSC_instance_paper\\Results\\DC\\start_18-00\\duration_02_min\\max_delay_05_min\\vga\\config.yaml\n",
      "11:35:48 [INFO] Loading instance config from C:\\Google Drive\\AIC Experiment Data\\DARP\\ITSC_instance_paper\\Instances\\DC\\instances\\start_18-00\\duration_02_min\\max_delay_05_min\\config.yaml\n",
      "11:35:48 [WARNING] No solution found in folder: C:\\Google Drive\\AIC Experiment Data\\DARP\\ITSC_instance_paper\\Results\\DC\\start_18-00\\duration_02_min\\max_delay_10_min\\halns\n",
      "11:35:48 [WARNING] No solution found in folder: C:\\Google Drive\\AIC Experiment Data\\DARP\\ITSC_instance_paper\\Results\\DC\\start_18-00\\duration_02_min\\max_delay_10_min\\halns-ih\n",
      "11:35:48 [INFO] Loading json file from: C:\\Google Drive\\AIC Experiment Data\\DARP\\ITSC_instance_paper\\Results\\DC\\start_18-00\\duration_02_min\\max_delay_10_min\\ih\\config.yaml-performance.json\n",
      "11:35:48 [INFO] Loading json file from: C:\\Google Drive\\AIC Experiment Data\\DARP\\ITSC_instance_paper\\Results\\DC\\start_18-00\\duration_02_min\\max_delay_10_min\\ih\\config.yaml-solution.json\n",
      "11:35:48 [INFO] Loading experiment config from C:\\Google Drive\\AIC Experiment Data\\DARP\\ITSC_instance_paper\\Results\\DC\\start_18-00\\duration_02_min\\max_delay_10_min\\ih\\config.yaml\n",
      "11:35:48 [INFO] Loading instance config from C:\\Google Drive\\AIC Experiment Data\\DARP\\ITSC_instance_paper\\Instances\\DC\\instances\\start_18-00\\duration_02_min\\max_delay_10_min\\config.yaml\n",
      "11:35:48 [INFO] Loading json file from: C:\\Google Drive\\AIC Experiment Data\\DARP\\ITSC_instance_paper\\Results\\DC\\start_18-00\\duration_02_min\\max_delay_10_min\\vga\\config.yaml-performance.json\n",
      "11:35:48 [INFO] Loading json file from: C:\\Google Drive\\AIC Experiment Data\\DARP\\ITSC_instance_paper\\Results\\DC\\start_18-00\\duration_02_min\\max_delay_10_min\\vga\\config.yaml-solution.json\n",
      "11:35:48 [INFO] Loading experiment config from C:\\Google Drive\\AIC Experiment Data\\DARP\\ITSC_instance_paper\\Results\\DC\\start_18-00\\duration_02_min\\max_delay_10_min\\vga\\config.yaml\n",
      "11:35:48 [INFO] Loading instance config from C:\\Google Drive\\AIC Experiment Data\\DARP\\ITSC_instance_paper\\Instances\\DC\\instances\\start_18-00\\duration_02_min\\max_delay_10_min\\config.yaml\n",
      "11:35:48 [WARNING] No solution found in folder: C:\\Google Drive\\AIC Experiment Data\\DARP\\ITSC_instance_paper\\Results\\DC\\start_18-00\\duration_05_min\\max_delay_03_min\\halns\n",
      "11:35:48 [WARNING] No solution found in folder: C:\\Google Drive\\AIC Experiment Data\\DARP\\ITSC_instance_paper\\Results\\DC\\start_18-00\\duration_05_min\\max_delay_03_min\\halns-ih\n",
      "11:35:48 [INFO] Loading json file from: C:\\Google Drive\\AIC Experiment Data\\DARP\\ITSC_instance_paper\\Results\\DC\\start_18-00\\duration_05_min\\max_delay_03_min\\ih\\config.yaml-performance.json\n",
      "11:35:48 [INFO] Loading json file from: C:\\Google Drive\\AIC Experiment Data\\DARP\\ITSC_instance_paper\\Results\\DC\\start_18-00\\duration_05_min\\max_delay_03_min\\ih\\config.yaml-solution.json\n",
      "11:35:48 [INFO] Loading experiment config from C:\\Google Drive\\AIC Experiment Data\\DARP\\ITSC_instance_paper\\Results\\DC\\start_18-00\\duration_05_min\\max_delay_03_min\\ih\\config.yaml\n",
      "11:35:48 [INFO] Loading instance config from C:\\Google Drive\\AIC Experiment Data\\DARP\\ITSC_instance_paper\\Instances\\DC\\instances\\start_18-00\\duration_05_min\\max_delay_03_min\\config.yaml\n",
      "11:35:48 [INFO] Loading json file from: C:\\Google Drive\\AIC Experiment Data\\DARP\\ITSC_instance_paper\\Results\\DC\\start_18-00\\duration_05_min\\max_delay_03_min\\vga\\config.yaml-performance.json\n",
      "11:35:48 [INFO] Loading json file from: C:\\Google Drive\\AIC Experiment Data\\DARP\\ITSC_instance_paper\\Results\\DC\\start_18-00\\duration_05_min\\max_delay_03_min\\vga\\config.yaml-solution.json\n",
      "11:35:48 [INFO] Loading experiment config from C:\\Google Drive\\AIC Experiment Data\\DARP\\ITSC_instance_paper\\Results\\DC\\start_18-00\\duration_05_min\\max_delay_03_min\\vga\\config.yaml\n",
      "11:35:48 [INFO] Loading instance config from C:\\Google Drive\\AIC Experiment Data\\DARP\\ITSC_instance_paper\\Instances\\DC\\instances\\start_18-00\\duration_05_min\\max_delay_03_min\\config.yaml\n",
      "11:35:48 [WARNING] No solution found in folder: C:\\Google Drive\\AIC Experiment Data\\DARP\\ITSC_instance_paper\\Results\\DC\\start_18-00\\duration_05_min\\max_delay_05_min\\halns\n",
      "11:35:48 [WARNING] No solution found in folder: C:\\Google Drive\\AIC Experiment Data\\DARP\\ITSC_instance_paper\\Results\\DC\\start_18-00\\duration_05_min\\max_delay_05_min\\halns-ih\n",
      "11:35:48 [INFO] Loading json file from: C:\\Google Drive\\AIC Experiment Data\\DARP\\ITSC_instance_paper\\Results\\DC\\start_18-00\\duration_05_min\\max_delay_05_min\\ih\\config.yaml-performance.json\n",
      "11:35:48 [INFO] Loading json file from: C:\\Google Drive\\AIC Experiment Data\\DARP\\ITSC_instance_paper\\Results\\DC\\start_18-00\\duration_05_min\\max_delay_05_min\\ih\\config.yaml-solution.json\n",
      "11:35:48 [INFO] Loading experiment config from C:\\Google Drive\\AIC Experiment Data\\DARP\\ITSC_instance_paper\\Results\\DC\\start_18-00\\duration_05_min\\max_delay_05_min\\ih\\config.yaml\n",
      "11:35:48 [INFO] Loading instance config from C:\\Google Drive\\AIC Experiment Data\\DARP\\ITSC_instance_paper\\Instances\\DC\\instances\\start_18-00\\duration_05_min\\max_delay_05_min\\config.yaml\n",
      "11:35:48 [INFO] Loading json file from: C:\\Google Drive\\AIC Experiment Data\\DARP\\ITSC_instance_paper\\Results\\DC\\start_18-00\\duration_05_min\\max_delay_05_min\\vga\\config.yaml-performance.json\n",
      "11:35:48 [INFO] Loading json file from: C:\\Google Drive\\AIC Experiment Data\\DARP\\ITSC_instance_paper\\Results\\DC\\start_18-00\\duration_05_min\\max_delay_05_min\\vga\\config.yaml-solution.json\n",
      "11:35:48 [INFO] Loading experiment config from C:\\Google Drive\\AIC Experiment Data\\DARP\\ITSC_instance_paper\\Results\\DC\\start_18-00\\duration_05_min\\max_delay_05_min\\vga\\config.yaml\n",
      "11:35:48 [INFO] Loading instance config from C:\\Google Drive\\AIC Experiment Data\\DARP\\ITSC_instance_paper\\Instances\\DC\\instances\\start_18-00\\duration_05_min\\max_delay_05_min\\config.yaml\n",
      "11:35:48 [WARNING] No solution found in folder: C:\\Google Drive\\AIC Experiment Data\\DARP\\ITSC_instance_paper\\Results\\DC\\start_18-00\\duration_05_min\\max_delay_10_min\\halns\n",
      "11:35:48 [WARNING] No solution found in folder: C:\\Google Drive\\AIC Experiment Data\\DARP\\ITSC_instance_paper\\Results\\DC\\start_18-00\\duration_05_min\\max_delay_10_min\\halns-ih\n",
      "11:35:48 [INFO] Loading json file from: C:\\Google Drive\\AIC Experiment Data\\DARP\\ITSC_instance_paper\\Results\\DC\\start_18-00\\duration_05_min\\max_delay_10_min\\ih\\config.yaml-performance.json\n",
      "11:35:48 [INFO] Loading json file from: C:\\Google Drive\\AIC Experiment Data\\DARP\\ITSC_instance_paper\\Results\\DC\\start_18-00\\duration_05_min\\max_delay_10_min\\ih\\config.yaml-solution.json\n",
      "11:35:48 [INFO] Loading experiment config from C:\\Google Drive\\AIC Experiment Data\\DARP\\ITSC_instance_paper\\Results\\DC\\start_18-00\\duration_05_min\\max_delay_10_min\\ih\\config.yaml\n",
      "11:35:48 [INFO] Loading instance config from C:\\Google Drive\\AIC Experiment Data\\DARP\\ITSC_instance_paper\\Instances\\DC\\instances\\start_18-00\\duration_05_min\\max_delay_10_min\\config.yaml\n",
      "11:35:48 [INFO] Loading json file from: C:\\Google Drive\\AIC Experiment Data\\DARP\\ITSC_instance_paper\\Results\\DC\\start_18-00\\duration_05_min\\max_delay_10_min\\vga\\config.yaml-performance.json\n",
      "11:35:48 [INFO] Loading json file from: C:\\Google Drive\\AIC Experiment Data\\DARP\\ITSC_instance_paper\\Results\\DC\\start_18-00\\duration_05_min\\max_delay_10_min\\vga\\config.yaml-solution.json\n",
      "11:35:48 [INFO] Loading experiment config from C:\\Google Drive\\AIC Experiment Data\\DARP\\ITSC_instance_paper\\Results\\DC\\start_18-00\\duration_05_min\\max_delay_10_min\\vga\\config.yaml\n",
      "11:35:48 [INFO] Loading instance config from C:\\Google Drive\\AIC Experiment Data\\DARP\\ITSC_instance_paper\\Instances\\DC\\instances\\start_18-00\\duration_05_min\\max_delay_10_min\\config.yaml\n",
      "11:35:48 [WARNING] No solution found in folder: C:\\Google Drive\\AIC Experiment Data\\DARP\\ITSC_instance_paper\\Results\\DC\\start_18-00\\duration_15_min\\max_delay_03_min\\halns\n",
      "11:35:48 [WARNING] No solution found in folder: C:\\Google Drive\\AIC Experiment Data\\DARP\\ITSC_instance_paper\\Results\\DC\\start_18-00\\duration_15_min\\max_delay_03_min\\halns-ih\n",
      "11:35:48 [INFO] Loading json file from: C:\\Google Drive\\AIC Experiment Data\\DARP\\ITSC_instance_paper\\Results\\DC\\start_18-00\\duration_15_min\\max_delay_03_min\\ih\\config.yaml-performance.json\n",
      "11:35:48 [INFO] Loading json file from: C:\\Google Drive\\AIC Experiment Data\\DARP\\ITSC_instance_paper\\Results\\DC\\start_18-00\\duration_15_min\\max_delay_03_min\\ih\\config.yaml-solution.json\n",
      "11:35:48 [INFO] Loading experiment config from C:\\Google Drive\\AIC Experiment Data\\DARP\\ITSC_instance_paper\\Results\\DC\\start_18-00\\duration_15_min\\max_delay_03_min\\ih\\config.yaml\n",
      "11:35:48 [INFO] Loading instance config from C:\\Google Drive\\AIC Experiment Data\\DARP\\ITSC_instance_paper\\Instances\\DC\\instances\\start_18-00\\duration_15_min\\max_delay_03_min\\config.yaml\n",
      "11:35:48 [INFO] Loading json file from: C:\\Google Drive\\AIC Experiment Data\\DARP\\ITSC_instance_paper\\Results\\DC\\start_18-00\\duration_15_min\\max_delay_03_min\\vga\\config.yaml-performance.json\n",
      "11:35:48 [INFO] Loading json file from: C:\\Google Drive\\AIC Experiment Data\\DARP\\ITSC_instance_paper\\Results\\DC\\start_18-00\\duration_15_min\\max_delay_03_min\\vga\\config.yaml-solution.json\n",
      "11:35:48 [INFO] Loading experiment config from C:\\Google Drive\\AIC Experiment Data\\DARP\\ITSC_instance_paper\\Results\\DC\\start_18-00\\duration_15_min\\max_delay_03_min\\vga\\config.yaml\n",
      "11:35:48 [INFO] Loading instance config from C:\\Google Drive\\AIC Experiment Data\\DARP\\ITSC_instance_paper\\Instances\\DC\\instances\\start_18-00\\duration_15_min\\max_delay_03_min\\config.yaml\n",
      "11:35:48 [WARNING] No solution found in folder: C:\\Google Drive\\AIC Experiment Data\\DARP\\ITSC_instance_paper\\Results\\DC\\start_18-00\\duration_15_min\\max_delay_05_min\\halns\n",
      "11:35:48 [WARNING] No solution found in folder: C:\\Google Drive\\AIC Experiment Data\\DARP\\ITSC_instance_paper\\Results\\DC\\start_18-00\\duration_15_min\\max_delay_05_min\\halns-ih\n",
      "11:35:48 [INFO] Loading json file from: C:\\Google Drive\\AIC Experiment Data\\DARP\\ITSC_instance_paper\\Results\\DC\\start_18-00\\duration_15_min\\max_delay_05_min\\ih\\config.yaml-performance.json\n",
      "11:35:48 [INFO] Loading json file from: C:\\Google Drive\\AIC Experiment Data\\DARP\\ITSC_instance_paper\\Results\\DC\\start_18-00\\duration_15_min\\max_delay_05_min\\ih\\config.yaml-solution.json\n",
      "11:35:48 [INFO] Loading experiment config from C:\\Google Drive\\AIC Experiment Data\\DARP\\ITSC_instance_paper\\Results\\DC\\start_18-00\\duration_15_min\\max_delay_05_min\\ih\\config.yaml\n",
      "11:35:48 [INFO] Loading instance config from C:\\Google Drive\\AIC Experiment Data\\DARP\\ITSC_instance_paper\\Instances\\DC\\instances\\start_18-00\\duration_15_min\\max_delay_05_min\\config.yaml\n",
      "11:35:48 [INFO] Loading json file from: C:\\Google Drive\\AIC Experiment Data\\DARP\\ITSC_instance_paper\\Results\\DC\\start_18-00\\duration_15_min\\max_delay_05_min\\vga\\config.yaml-performance.json\n",
      "11:35:48 [INFO] Loading json file from: C:\\Google Drive\\AIC Experiment Data\\DARP\\ITSC_instance_paper\\Results\\DC\\start_18-00\\duration_15_min\\max_delay_05_min\\vga\\config.yaml-solution.json\n",
      "11:35:48 [INFO] Loading experiment config from C:\\Google Drive\\AIC Experiment Data\\DARP\\ITSC_instance_paper\\Results\\DC\\start_18-00\\duration_15_min\\max_delay_05_min\\vga\\config.yaml\n",
      "11:35:48 [INFO] Loading instance config from C:\\Google Drive\\AIC Experiment Data\\DARP\\ITSC_instance_paper\\Instances\\DC\\instances\\start_18-00\\duration_15_min\\max_delay_05_min\\config.yaml\n",
      "11:35:48 [WARNING] No solution found in folder: C:\\Google Drive\\AIC Experiment Data\\DARP\\ITSC_instance_paper\\Results\\DC\\start_18-00\\duration_15_min\\max_delay_10_min\\halns\n",
      "11:35:48 [WARNING] No solution found in folder: C:\\Google Drive\\AIC Experiment Data\\DARP\\ITSC_instance_paper\\Results\\DC\\start_18-00\\duration_15_min\\max_delay_10_min\\halns-ih\n",
      "11:35:48 [INFO] Loading json file from: C:\\Google Drive\\AIC Experiment Data\\DARP\\ITSC_instance_paper\\Results\\DC\\start_18-00\\duration_15_min\\max_delay_10_min\\ih\\config.yaml-performance.json\n",
      "11:35:48 [INFO] Loading json file from: C:\\Google Drive\\AIC Experiment Data\\DARP\\ITSC_instance_paper\\Results\\DC\\start_18-00\\duration_15_min\\max_delay_10_min\\ih\\config.yaml-solution.json\n",
      "11:35:48 [INFO] Loading experiment config from C:\\Google Drive\\AIC Experiment Data\\DARP\\ITSC_instance_paper\\Results\\DC\\start_18-00\\duration_15_min\\max_delay_10_min\\ih\\config.yaml\n",
      "11:35:48 [INFO] Loading instance config from C:\\Google Drive\\AIC Experiment Data\\DARP\\ITSC_instance_paper\\Instances\\DC\\instances\\start_18-00\\duration_15_min\\max_delay_10_min\\config.yaml\n",
      "11:35:48 [INFO] Loading json file from: C:\\Google Drive\\AIC Experiment Data\\DARP\\ITSC_instance_paper\\Results\\DC\\start_18-00\\duration_15_min\\max_delay_10_min\\vga\\config.yaml-performance.json\n",
      "11:35:48 [INFO] Loading json file from: C:\\Google Drive\\AIC Experiment Data\\DARP\\ITSC_instance_paper\\Results\\DC\\start_18-00\\duration_15_min\\max_delay_10_min\\vga\\config.yaml-solution.json\n",
      "11:35:48 [INFO] Loading experiment config from C:\\Google Drive\\AIC Experiment Data\\DARP\\ITSC_instance_paper\\Results\\DC\\start_18-00\\duration_15_min\\max_delay_10_min\\vga\\config.yaml\n",
      "11:35:48 [INFO] Loading instance config from C:\\Google Drive\\AIC Experiment Data\\DARP\\ITSC_instance_paper\\Instances\\DC\\instances\\start_18-00\\duration_15_min\\max_delay_10_min\\config.yaml\n",
      "11:35:48 [WARNING] No solution found in folder: C:\\Google Drive\\AIC Experiment Data\\DARP\\ITSC_instance_paper\\Results\\DC\\start_18-00\\duration_16_h\\max_delay_03_min\\halns\n",
      "11:35:48 [WARNING] No solution found in folder: C:\\Google Drive\\AIC Experiment Data\\DARP\\ITSC_instance_paper\\Results\\DC\\start_18-00\\duration_16_h\\max_delay_03_min\\halns-ih\n",
      "11:35:48 [WARNING] No solution found in folder: C:\\Google Drive\\AIC Experiment Data\\DARP\\ITSC_instance_paper\\Results\\DC\\start_18-00\\duration_16_h\\max_delay_03_min\\ih\n",
      "11:35:48 [WARNING] No solution found in folder: C:\\Google Drive\\AIC Experiment Data\\DARP\\ITSC_instance_paper\\Results\\DC\\start_18-00\\duration_16_h\\max_delay_03_min\\vga\n",
      "11:35:48 [WARNING] No solution found in folder: C:\\Google Drive\\AIC Experiment Data\\DARP\\ITSC_instance_paper\\Results\\DC\\start_18-00\\duration_16_h\\max_delay_05_min\\halns\n",
      "11:35:48 [WARNING] No solution found in folder: C:\\Google Drive\\AIC Experiment Data\\DARP\\ITSC_instance_paper\\Results\\DC\\start_18-00\\duration_16_h\\max_delay_05_min\\halns-ih\n",
      "11:35:48 [WARNING] No solution found in folder: C:\\Google Drive\\AIC Experiment Data\\DARP\\ITSC_instance_paper\\Results\\DC\\start_18-00\\duration_16_h\\max_delay_05_min\\ih\n",
      "11:35:48 [WARNING] No solution found in folder: C:\\Google Drive\\AIC Experiment Data\\DARP\\ITSC_instance_paper\\Results\\DC\\start_18-00\\duration_16_h\\max_delay_05_min\\vga\n",
      "11:35:48 [WARNING] No solution found in folder: C:\\Google Drive\\AIC Experiment Data\\DARP\\ITSC_instance_paper\\Results\\DC\\start_18-00\\duration_16_h\\max_delay_10_min\\halns\n",
      "11:35:48 [WARNING] No solution found in folder: C:\\Google Drive\\AIC Experiment Data\\DARP\\ITSC_instance_paper\\Results\\DC\\start_18-00\\duration_16_h\\max_delay_10_min\\halns-ih\n",
      "11:35:48 [WARNING] No solution found in folder: C:\\Google Drive\\AIC Experiment Data\\DARP\\ITSC_instance_paper\\Results\\DC\\start_18-00\\duration_16_h\\max_delay_10_min\\ih\n",
      "11:35:48 [WARNING] No solution found in folder: C:\\Google Drive\\AIC Experiment Data\\DARP\\ITSC_instance_paper\\Results\\DC\\start_18-00\\duration_16_h\\max_delay_10_min\\vga\n",
      "11:35:48 [WARNING] No solution found in folder: C:\\Google Drive\\AIC Experiment Data\\DARP\\ITSC_instance_paper\\Results\\DC\\start_18-00\\duration_30_min\\max_delay_03_min\\halns\n",
      "11:35:48 [WARNING] No solution found in folder: C:\\Google Drive\\AIC Experiment Data\\DARP\\ITSC_instance_paper\\Results\\DC\\start_18-00\\duration_30_min\\max_delay_03_min\\halns-ih\n",
      "11:35:48 [INFO] Loading json file from: C:\\Google Drive\\AIC Experiment Data\\DARP\\ITSC_instance_paper\\Results\\DC\\start_18-00\\duration_30_min\\max_delay_03_min\\ih\\config.yaml-performance.json\n",
      "11:35:48 [INFO] Loading json file from: C:\\Google Drive\\AIC Experiment Data\\DARP\\ITSC_instance_paper\\Results\\DC\\start_18-00\\duration_30_min\\max_delay_03_min\\ih\\config.yaml-solution.json\n",
      "11:35:48 [INFO] Loading experiment config from C:\\Google Drive\\AIC Experiment Data\\DARP\\ITSC_instance_paper\\Results\\DC\\start_18-00\\duration_30_min\\max_delay_03_min\\ih\\config.yaml\n",
      "11:35:48 [INFO] Loading instance config from C:\\Google Drive\\AIC Experiment Data\\DARP\\ITSC_instance_paper\\Instances\\DC\\instances\\start_18-00\\duration_30_min\\max_delay_03_min\\config.yaml\n",
      "11:35:48 [INFO] Loading json file from: C:\\Google Drive\\AIC Experiment Data\\DARP\\ITSC_instance_paper\\Results\\DC\\start_18-00\\duration_30_min\\max_delay_03_min\\vga\\config.yaml-performance.json\n",
      "11:35:48 [INFO] Loading json file from: C:\\Google Drive\\AIC Experiment Data\\DARP\\ITSC_instance_paper\\Results\\DC\\start_18-00\\duration_30_min\\max_delay_03_min\\vga\\config.yaml-solution.json\n",
      "11:35:48 [INFO] Loading experiment config from C:\\Google Drive\\AIC Experiment Data\\DARP\\ITSC_instance_paper\\Results\\DC\\start_18-00\\duration_30_min\\max_delay_03_min\\vga\\config.yaml\n",
      "11:35:48 [INFO] Loading instance config from C:\\Google Drive\\AIC Experiment Data\\DARP\\ITSC_instance_paper\\Instances\\DC\\instances\\start_18-00\\duration_30_min\\max_delay_03_min\\config.yaml\n",
      "11:35:48 [WARNING] No solution found in folder: C:\\Google Drive\\AIC Experiment Data\\DARP\\ITSC_instance_paper\\Results\\DC\\start_18-00\\duration_30_min\\max_delay_05_min\\halns\n",
      "11:35:48 [WARNING] No solution found in folder: C:\\Google Drive\\AIC Experiment Data\\DARP\\ITSC_instance_paper\\Results\\DC\\start_18-00\\duration_30_min\\max_delay_05_min\\halns-ih\n",
      "11:35:48 [INFO] Loading json file from: C:\\Google Drive\\AIC Experiment Data\\DARP\\ITSC_instance_paper\\Results\\DC\\start_18-00\\duration_30_min\\max_delay_05_min\\ih\\config.yaml-performance.json\n",
      "11:35:48 [INFO] Loading json file from: C:\\Google Drive\\AIC Experiment Data\\DARP\\ITSC_instance_paper\\Results\\DC\\start_18-00\\duration_30_min\\max_delay_05_min\\ih\\config.yaml-solution.json\n",
      "11:35:48 [INFO] Loading experiment config from C:\\Google Drive\\AIC Experiment Data\\DARP\\ITSC_instance_paper\\Results\\DC\\start_18-00\\duration_30_min\\max_delay_05_min\\ih\\config.yaml\n",
      "11:35:48 [INFO] Loading instance config from C:\\Google Drive\\AIC Experiment Data\\DARP\\ITSC_instance_paper\\Instances\\DC\\instances\\start_18-00\\duration_30_min\\max_delay_05_min\\config.yaml\n",
      "11:35:48 [INFO] Loading json file from: C:\\Google Drive\\AIC Experiment Data\\DARP\\ITSC_instance_paper\\Results\\DC\\start_18-00\\duration_30_min\\max_delay_05_min\\vga\\config.yaml-performance.json\n",
      "11:35:48 [INFO] Loading json file from: C:\\Google Drive\\AIC Experiment Data\\DARP\\ITSC_instance_paper\\Results\\DC\\start_18-00\\duration_30_min\\max_delay_05_min\\vga\\config.yaml-solution.json\n",
      "11:35:48 [INFO] Loading experiment config from C:\\Google Drive\\AIC Experiment Data\\DARP\\ITSC_instance_paper\\Results\\DC\\start_18-00\\duration_30_min\\max_delay_05_min\\vga\\config.yaml\n",
      "11:35:48 [INFO] Loading instance config from C:\\Google Drive\\AIC Experiment Data\\DARP\\ITSC_instance_paper\\Instances\\DC\\instances\\start_18-00\\duration_30_min\\max_delay_05_min\\config.yaml\n",
      "11:35:48 [WARNING] No solution found in folder: C:\\Google Drive\\AIC Experiment Data\\DARP\\ITSC_instance_paper\\Results\\DC\\start_18-00\\duration_30_min\\max_delay_10_min\\halns\n",
      "11:35:48 [WARNING] No solution found in folder: C:\\Google Drive\\AIC Experiment Data\\DARP\\ITSC_instance_paper\\Results\\DC\\start_18-00\\duration_30_min\\max_delay_10_min\\halns-ih\n",
      "11:35:48 [INFO] Loading json file from: C:\\Google Drive\\AIC Experiment Data\\DARP\\ITSC_instance_paper\\Results\\DC\\start_18-00\\duration_30_min\\max_delay_10_min\\ih\\config.yaml-performance.json\n",
      "11:35:48 [INFO] Loading json file from: C:\\Google Drive\\AIC Experiment Data\\DARP\\ITSC_instance_paper\\Results\\DC\\start_18-00\\duration_30_min\\max_delay_10_min\\ih\\config.yaml-solution.json\n",
      "11:35:48 [INFO] Loading experiment config from C:\\Google Drive\\AIC Experiment Data\\DARP\\ITSC_instance_paper\\Results\\DC\\start_18-00\\duration_30_min\\max_delay_10_min\\ih\\config.yaml\n",
      "11:35:48 [INFO] Loading instance config from C:\\Google Drive\\AIC Experiment Data\\DARP\\ITSC_instance_paper\\Instances\\DC\\instances\\start_18-00\\duration_30_min\\max_delay_10_min\\config.yaml\n",
      "11:35:48 [WARNING] No solution found in folder: C:\\Google Drive\\AIC Experiment Data\\DARP\\ITSC_instance_paper\\Results\\DC\\start_18-00\\duration_30_min\\max_delay_10_min\\vga\n",
      "11:35:48 [WARNING] No solution found in folder: C:\\Google Drive\\AIC Experiment Data\\DARP\\ITSC_instance_paper\\Results\\DC\\start_18-00\\duration_30_s\\max_delay_03_min\\halns\n",
      "11:35:48 [WARNING] No solution found in folder: C:\\Google Drive\\AIC Experiment Data\\DARP\\ITSC_instance_paper\\Results\\DC\\start_18-00\\duration_30_s\\max_delay_03_min\\halns-ih\n",
      "11:35:48 [INFO] Loading json file from: C:\\Google Drive\\AIC Experiment Data\\DARP\\ITSC_instance_paper\\Results\\DC\\start_18-00\\duration_30_s\\max_delay_03_min\\ih\\config.yaml-performance.json\n",
      "11:35:48 [INFO] Loading json file from: C:\\Google Drive\\AIC Experiment Data\\DARP\\ITSC_instance_paper\\Results\\DC\\start_18-00\\duration_30_s\\max_delay_03_min\\ih\\config.yaml-solution.json\n",
      "11:35:48 [INFO] Loading experiment config from C:\\Google Drive\\AIC Experiment Data\\DARP\\ITSC_instance_paper\\Results\\DC\\start_18-00\\duration_30_s\\max_delay_03_min\\ih\\config.yaml\n",
      "11:35:48 [INFO] Loading instance config from C:\\Google Drive\\AIC Experiment Data\\DARP\\ITSC_instance_paper\\Instances\\DC\\instances\\start_18-00\\duration_30_s\\max_delay_03_min\\config.yaml\n",
      "11:35:48 [INFO] Loading json file from: C:\\Google Drive\\AIC Experiment Data\\DARP\\ITSC_instance_paper\\Results\\DC\\start_18-00\\duration_30_s\\max_delay_03_min\\vga\\config.yaml-performance.json\n",
      "11:35:48 [INFO] Loading json file from: C:\\Google Drive\\AIC Experiment Data\\DARP\\ITSC_instance_paper\\Results\\DC\\start_18-00\\duration_30_s\\max_delay_03_min\\vga\\config.yaml-solution.json\n",
      "11:35:48 [INFO] Loading experiment config from C:\\Google Drive\\AIC Experiment Data\\DARP\\ITSC_instance_paper\\Results\\DC\\start_18-00\\duration_30_s\\max_delay_03_min\\vga\\config.yaml\n",
      "11:35:48 [INFO] Loading instance config from C:\\Google Drive\\AIC Experiment Data\\DARP\\ITSC_instance_paper\\Instances\\DC\\instances\\start_18-00\\duration_30_s\\max_delay_03_min\\config.yaml\n",
      "11:35:48 [WARNING] No solution found in folder: C:\\Google Drive\\AIC Experiment Data\\DARP\\ITSC_instance_paper\\Results\\DC\\start_18-00\\duration_30_s\\max_delay_05_min\\halns\n",
      "11:35:48 [WARNING] No solution found in folder: C:\\Google Drive\\AIC Experiment Data\\DARP\\ITSC_instance_paper\\Results\\DC\\start_18-00\\duration_30_s\\max_delay_05_min\\halns-ih\n",
      "11:35:48 [INFO] Loading json file from: C:\\Google Drive\\AIC Experiment Data\\DARP\\ITSC_instance_paper\\Results\\DC\\start_18-00\\duration_30_s\\max_delay_05_min\\ih\\config.yaml-performance.json\n",
      "11:35:48 [INFO] Loading json file from: C:\\Google Drive\\AIC Experiment Data\\DARP\\ITSC_instance_paper\\Results\\DC\\start_18-00\\duration_30_s\\max_delay_05_min\\ih\\config.yaml-solution.json\n",
      "11:35:48 [INFO] Loading experiment config from C:\\Google Drive\\AIC Experiment Data\\DARP\\ITSC_instance_paper\\Results\\DC\\start_18-00\\duration_30_s\\max_delay_05_min\\ih\\config.yaml\n",
      "11:35:48 [INFO] Loading instance config from C:\\Google Drive\\AIC Experiment Data\\DARP\\ITSC_instance_paper\\Instances\\DC\\instances\\start_18-00\\duration_30_s\\max_delay_05_min\\config.yaml\n",
      "11:35:48 [INFO] Loading json file from: C:\\Google Drive\\AIC Experiment Data\\DARP\\ITSC_instance_paper\\Results\\DC\\start_18-00\\duration_30_s\\max_delay_05_min\\vga\\config.yaml-performance.json\n",
      "11:35:48 [INFO] Loading json file from: C:\\Google Drive\\AIC Experiment Data\\DARP\\ITSC_instance_paper\\Results\\DC\\start_18-00\\duration_30_s\\max_delay_05_min\\vga\\config.yaml-solution.json\n",
      "11:35:48 [INFO] Loading experiment config from C:\\Google Drive\\AIC Experiment Data\\DARP\\ITSC_instance_paper\\Results\\DC\\start_18-00\\duration_30_s\\max_delay_05_min\\vga\\config.yaml\n",
      "11:35:48 [INFO] Loading instance config from C:\\Google Drive\\AIC Experiment Data\\DARP\\ITSC_instance_paper\\Instances\\DC\\instances\\start_18-00\\duration_30_s\\max_delay_05_min\\config.yaml\n",
      "11:35:48 [WARNING] No solution found in folder: C:\\Google Drive\\AIC Experiment Data\\DARP\\ITSC_instance_paper\\Results\\DC\\start_18-00\\duration_30_s\\max_delay_10_min\\halns\n",
      "11:35:48 [WARNING] No solution found in folder: C:\\Google Drive\\AIC Experiment Data\\DARP\\ITSC_instance_paper\\Results\\DC\\start_18-00\\duration_30_s\\max_delay_10_min\\halns-ih\n",
      "11:35:48 [INFO] Loading json file from: C:\\Google Drive\\AIC Experiment Data\\DARP\\ITSC_instance_paper\\Results\\DC\\start_18-00\\duration_30_s\\max_delay_10_min\\ih\\config.yaml-performance.json\n",
      "11:35:48 [INFO] Loading json file from: C:\\Google Drive\\AIC Experiment Data\\DARP\\ITSC_instance_paper\\Results\\DC\\start_18-00\\duration_30_s\\max_delay_10_min\\ih\\config.yaml-solution.json\n",
      "11:35:48 [INFO] Loading experiment config from C:\\Google Drive\\AIC Experiment Data\\DARP\\ITSC_instance_paper\\Results\\DC\\start_18-00\\duration_30_s\\max_delay_10_min\\ih\\config.yaml\n",
      "11:35:48 [INFO] Loading instance config from C:\\Google Drive\\AIC Experiment Data\\DARP\\ITSC_instance_paper\\Instances\\DC\\instances\\start_18-00\\duration_30_s\\max_delay_10_min\\config.yaml\n",
      "11:35:48 [INFO] Loading json file from: C:\\Google Drive\\AIC Experiment Data\\DARP\\ITSC_instance_paper\\Results\\DC\\start_18-00\\duration_30_s\\max_delay_10_min\\vga\\config.yaml-performance.json\n",
      "11:35:48 [INFO] Loading json file from: C:\\Google Drive\\AIC Experiment Data\\DARP\\ITSC_instance_paper\\Results\\DC\\start_18-00\\duration_30_s\\max_delay_10_min\\vga\\config.yaml-solution.json\n",
      "11:35:48 [INFO] Loading experiment config from C:\\Google Drive\\AIC Experiment Data\\DARP\\ITSC_instance_paper\\Results\\DC\\start_18-00\\duration_30_s\\max_delay_10_min\\vga\\config.yaml\n",
      "11:35:48 [INFO] Loading instance config from C:\\Google Drive\\AIC Experiment Data\\DARP\\ITSC_instance_paper\\Instances\\DC\\instances\\start_18-00\\duration_30_s\\max_delay_10_min\\config.yaml\n"
     ]
    },
    {
     "data": {
      "text/plain": "     cost_minutes  total_time  dropped_requests    avg_delay  plan_count   \n0            7839       0.226                 0   637.519637         516  \\\n1            7380     130.069                 0   640.537764         496   \n2            6931       0.172                 0   672.321752         417   \n3            6383     218.668                 0   673.291541         390   \n4            6249       0.386                 0   765.814199         297   \n..            ...         ...               ...          ...         ...   \n108           141       0.026                 0  1499.000000           4   \n109           141       0.003                 0  1499.000000           4   \n110           141       0.027                 0  1499.000000           4   \n111           141       0.003                 0  1499.000000           4   \n112           141       0.037                 0  1499.000000           4   \n\n     req_count  avg_occupancy  used_connections  total_driving_duration   \n0          662       0.897298                -1                  470321  \\\n1          662       0.957339                -1                  442790   \n2          662       1.070182                -1                  415875   \n3          662       1.163298                -1                  382994   \n4          662       1.352056                -1                  374926   \n..         ...            ...               ...                     ...   \n108          4       0.707576                -1                    8474   \n109          4       0.707576                -1                    8474   \n110          4       0.707576                -1                    8474   \n111          4       0.707576                -1                    8474   \n112          4       0.707576                -1                    8474   \n\n     total_waiting_duration  avg_waiting_duration  tts_cost   \n0                        20              0.038760     95363  \\\n1                       136              0.274194     77352   \n2                        15              0.035971     62226   \n3                       163              0.417949     48989   \n4                        48              0.161616     34751   \n..                      ...                   ...       ...   \n108                       0              0.000000      2478   \n109                       0              0.000000      2478   \n110                       0              0.000000      2478   \n111                       0              0.000000      2478   \n112                       0              0.000000      2478   \n\n     tts_cost_per_plan method  max_delay          start_time   \n0           184.812016     ih        180 2022-04-05 18:00:00  \\\n1           155.951613    vga        180 2022-04-05 18:00:00   \n2           149.223022     ih        300 2022-04-05 18:00:00   \n3           125.612821    vga        300 2022-04-05 18:00:00   \n4           117.006734     ih        600 2022-04-05 18:00:00   \n..                 ...    ...        ...                 ...   \n108         619.500000    vga        180 2022-04-05 18:00:00   \n109         619.500000     ih        300 2022-04-05 18:00:00   \n110         619.500000    vga        300 2022-04-05 18:00:00   \n111         619.500000     ih        600 2022-04-05 18:00:00   \n112         619.500000    vga        600 2022-04-05 18:00:00   \n\n               end_time  duration_minutes area  \n0   2022-04-05 18:01:00               1.0  NYC  \n1   2022-04-05 18:01:00               1.0  NYC  \n2   2022-04-05 18:01:00               1.0  NYC  \n3   2022-04-05 18:01:00               1.0  NYC  \n4   2022-04-05 18:01:00               1.0  NYC  \n..                  ...               ...  ...  \n108 2022-04-05 18:00:30               0.5   DC  \n109 2022-04-05 18:00:30               0.5   DC  \n110 2022-04-05 18:00:30               0.5   DC  \n111 2022-04-05 18:00:30               0.5   DC  \n112 2022-04-05 18:00:30               0.5   DC  \n\n[113 rows x 19 columns]",
      "text/html": "<div>\n<style scoped>\n    .dataframe tbody tr th:only-of-type {\n        vertical-align: middle;\n    }\n\n    .dataframe tbody tr th {\n        vertical-align: top;\n    }\n\n    .dataframe thead th {\n        text-align: right;\n    }\n</style>\n<table border=\"1\" class=\"dataframe\">\n  <thead>\n    <tr style=\"text-align: right;\">\n      <th></th>\n      <th>cost_minutes</th>\n      <th>total_time</th>\n      <th>dropped_requests</th>\n      <th>avg_delay</th>\n      <th>plan_count</th>\n      <th>req_count</th>\n      <th>avg_occupancy</th>\n      <th>used_connections</th>\n      <th>total_driving_duration</th>\n      <th>total_waiting_duration</th>\n      <th>avg_waiting_duration</th>\n      <th>tts_cost</th>\n      <th>tts_cost_per_plan</th>\n      <th>method</th>\n      <th>max_delay</th>\n      <th>start_time</th>\n      <th>end_time</th>\n      <th>duration_minutes</th>\n      <th>area</th>\n    </tr>\n  </thead>\n  <tbody>\n    <tr>\n      <th>0</th>\n      <td>7839</td>\n      <td>0.226</td>\n      <td>0</td>\n      <td>637.519637</td>\n      <td>516</td>\n      <td>662</td>\n      <td>0.897298</td>\n      <td>-1</td>\n      <td>470321</td>\n      <td>20</td>\n      <td>0.038760</td>\n      <td>95363</td>\n      <td>184.812016</td>\n      <td>ih</td>\n      <td>180</td>\n      <td>2022-04-05 18:00:00</td>\n      <td>2022-04-05 18:01:00</td>\n      <td>1.0</td>\n      <td>NYC</td>\n    </tr>\n    <tr>\n      <th>1</th>\n      <td>7380</td>\n      <td>130.069</td>\n      <td>0</td>\n      <td>640.537764</td>\n      <td>496</td>\n      <td>662</td>\n      <td>0.957339</td>\n      <td>-1</td>\n      <td>442790</td>\n      <td>136</td>\n      <td>0.274194</td>\n      <td>77352</td>\n      <td>155.951613</td>\n      <td>vga</td>\n      <td>180</td>\n      <td>2022-04-05 18:00:00</td>\n      <td>2022-04-05 18:01:00</td>\n      <td>1.0</td>\n      <td>NYC</td>\n    </tr>\n    <tr>\n      <th>2</th>\n      <td>6931</td>\n      <td>0.172</td>\n      <td>0</td>\n      <td>672.321752</td>\n      <td>417</td>\n      <td>662</td>\n      <td>1.070182</td>\n      <td>-1</td>\n      <td>415875</td>\n      <td>15</td>\n      <td>0.035971</td>\n      <td>62226</td>\n      <td>149.223022</td>\n      <td>ih</td>\n      <td>300</td>\n      <td>2022-04-05 18:00:00</td>\n      <td>2022-04-05 18:01:00</td>\n      <td>1.0</td>\n      <td>NYC</td>\n    </tr>\n    <tr>\n      <th>3</th>\n      <td>6383</td>\n      <td>218.668</td>\n      <td>0</td>\n      <td>673.291541</td>\n      <td>390</td>\n      <td>662</td>\n      <td>1.163298</td>\n      <td>-1</td>\n      <td>382994</td>\n      <td>163</td>\n      <td>0.417949</td>\n      <td>48989</td>\n      <td>125.612821</td>\n      <td>vga</td>\n      <td>300</td>\n      <td>2022-04-05 18:00:00</td>\n      <td>2022-04-05 18:01:00</td>\n      <td>1.0</td>\n      <td>NYC</td>\n    </tr>\n    <tr>\n      <th>4</th>\n      <td>6249</td>\n      <td>0.386</td>\n      <td>0</td>\n      <td>765.814199</td>\n      <td>297</td>\n      <td>662</td>\n      <td>1.352056</td>\n      <td>-1</td>\n      <td>374926</td>\n      <td>48</td>\n      <td>0.161616</td>\n      <td>34751</td>\n      <td>117.006734</td>\n      <td>ih</td>\n      <td>600</td>\n      <td>2022-04-05 18:00:00</td>\n      <td>2022-04-05 18:01:00</td>\n      <td>1.0</td>\n      <td>NYC</td>\n    </tr>\n    <tr>\n      <th>...</th>\n      <td>...</td>\n      <td>...</td>\n      <td>...</td>\n      <td>...</td>\n      <td>...</td>\n      <td>...</td>\n      <td>...</td>\n      <td>...</td>\n      <td>...</td>\n      <td>...</td>\n      <td>...</td>\n      <td>...</td>\n      <td>...</td>\n      <td>...</td>\n      <td>...</td>\n      <td>...</td>\n      <td>...</td>\n      <td>...</td>\n      <td>...</td>\n    </tr>\n    <tr>\n      <th>108</th>\n      <td>141</td>\n      <td>0.026</td>\n      <td>0</td>\n      <td>1499.000000</td>\n      <td>4</td>\n      <td>4</td>\n      <td>0.707576</td>\n      <td>-1</td>\n      <td>8474</td>\n      <td>0</td>\n      <td>0.000000</td>\n      <td>2478</td>\n      <td>619.500000</td>\n      <td>vga</td>\n      <td>180</td>\n      <td>2022-04-05 18:00:00</td>\n      <td>2022-04-05 18:00:30</td>\n      <td>0.5</td>\n      <td>DC</td>\n    </tr>\n    <tr>\n      <th>109</th>\n      <td>141</td>\n      <td>0.003</td>\n      <td>0</td>\n      <td>1499.000000</td>\n      <td>4</td>\n      <td>4</td>\n      <td>0.707576</td>\n      <td>-1</td>\n      <td>8474</td>\n      <td>0</td>\n      <td>0.000000</td>\n      <td>2478</td>\n      <td>619.500000</td>\n      <td>ih</td>\n      <td>300</td>\n      <td>2022-04-05 18:00:00</td>\n      <td>2022-04-05 18:00:30</td>\n      <td>0.5</td>\n      <td>DC</td>\n    </tr>\n    <tr>\n      <th>110</th>\n      <td>141</td>\n      <td>0.027</td>\n      <td>0</td>\n      <td>1499.000000</td>\n      <td>4</td>\n      <td>4</td>\n      <td>0.707576</td>\n      <td>-1</td>\n      <td>8474</td>\n      <td>0</td>\n      <td>0.000000</td>\n      <td>2478</td>\n      <td>619.500000</td>\n      <td>vga</td>\n      <td>300</td>\n      <td>2022-04-05 18:00:00</td>\n      <td>2022-04-05 18:00:30</td>\n      <td>0.5</td>\n      <td>DC</td>\n    </tr>\n    <tr>\n      <th>111</th>\n      <td>141</td>\n      <td>0.003</td>\n      <td>0</td>\n      <td>1499.000000</td>\n      <td>4</td>\n      <td>4</td>\n      <td>0.707576</td>\n      <td>-1</td>\n      <td>8474</td>\n      <td>0</td>\n      <td>0.000000</td>\n      <td>2478</td>\n      <td>619.500000</td>\n      <td>ih</td>\n      <td>600</td>\n      <td>2022-04-05 18:00:00</td>\n      <td>2022-04-05 18:00:30</td>\n      <td>0.5</td>\n      <td>DC</td>\n    </tr>\n    <tr>\n      <th>112</th>\n      <td>141</td>\n      <td>0.037</td>\n      <td>0</td>\n      <td>1499.000000</td>\n      <td>4</td>\n      <td>4</td>\n      <td>0.707576</td>\n      <td>-1</td>\n      <td>8474</td>\n      <td>0</td>\n      <td>0.000000</td>\n      <td>2478</td>\n      <td>619.500000</td>\n      <td>vga</td>\n      <td>600</td>\n      <td>2022-04-05 18:00:00</td>\n      <td>2022-04-05 18:00:30</td>\n      <td>0.5</td>\n      <td>DC</td>\n    </tr>\n  </tbody>\n</table>\n<p>113 rows × 19 columns</p>\n</div>"
     },
     "execution_count": 5,
     "metadata": {},
     "output_type": "execute_result"
    }
   ],
   "source": [
    "df = pd.DataFrame()\n",
    "for area in areas:\n",
    "    res_in_area = load_aggregate_stats_in_dir(final_results_path / area)\n",
    "    res_in_area['area'] = area\n",
    "    df = pd.concat([df, res_in_area], ignore_index=True)\n",
    "df"
   ],
   "metadata": {
    "collapsed": false,
    "ExecuteTime": {
     "end_time": "2023-05-17T09:35:48.507543300Z",
     "start_time": "2023-05-17T09:35:45.447545800Z"
    }
   }
  },
  {
   "cell_type": "code",
   "execution_count": 8,
   "outputs": [
    {
     "data": {
      "text/plain": "    cost_minutes  total_time  dropped_requests   avg_delay  plan_count   \n72            84       0.000                 0  441.000000           5  \\\n73            75       0.042                 0  441.000000           5   \n74            58       0.000                 0  461.400000           4   \n75            58       0.052                 0  461.400000           4   \n76            52       0.000                 0  494.400000           3   \n..           ...         ...               ...         ...         ...   \n13         82236      34.838                 0  699.090092        3706   \n14         76254      28.960                 0  791.981736        2813   \n15        183282      77.818                 0  653.519169        5623   \n16        158574     100.103                 0  697.611631        4935   \n17        141621     129.568                 0  785.274747        4022   \n\n    req_count  avg_occupancy  used_connections  total_driving_duration   \n72          5       0.438021                -1                    5034  \\\n73          5       0.492627                -1                    4476   \n74          5       0.658390                -1                    3504   \n75          5       0.661221                -1                    3489   \n76          5       0.789020                -1                    3133   \n..        ...            ...               ...                     ...   \n13      10567       1.489949                -1                 4934147   \n14      10567       1.823348                -1                 4575239   \n15      20841       1.230080                -1                10996915   \n16      20841       1.519391                -1                 9514443   \n17      20841       1.918106                -1                 8497256   \n\n    total_waiting_duration  avg_waiting_duration  tts_cost  tts_cost_per_plan   \n72                       0              0.000000      2829         565.800000  \\\n73                       0              0.000000      2271         454.200000   \n74                       0              0.000000      1363         340.750000   \n75                       0              0.000000      1348         337.000000   \n76                       0              0.000000      1019         339.666667   \n..                     ...                   ...       ...                ...   \n13                   35630              9.614139    293817          79.281436   \n14                   25714              9.141130    163601          58.158905   \n15                  150410             26.749066   1052341         187.149386   \n16                  113996             23.099493    506844         102.703951   \n17                   78085             19.414470    249498          62.033317   \n\n   method  max_delay          start_time            end_time   \n72     ih        180 2022-04-05 18:00:00 2022-04-05 18:00:30  \\\n73    vga        180 2022-04-05 18:00:00 2022-04-05 18:00:30   \n74     ih        300 2022-04-05 18:00:00 2022-04-05 18:00:30   \n75    vga        300 2022-04-05 18:00:00 2022-04-05 18:00:30   \n76     ih        600 2022-04-05 18:00:00 2022-04-05 18:00:30   \n..    ...        ...                 ...                 ...   \n13     ih        300 2022-04-05 18:00:00 2022-04-05 18:15:00   \n14     ih        600 2022-04-05 18:00:00 2022-04-05 18:15:00   \n15     ih        180 2022-04-05 18:00:00 2022-04-05 18:30:00   \n16     ih        300 2022-04-05 18:00:00 2022-04-05 18:30:00   \n17     ih        600 2022-04-05 18:00:00 2022-04-05 18:30:00   \n\n    duration_minutes     area  cost_per_request  \n72               0.5  Chicago       1008.000000  \n73               0.5  Chicago        900.000000  \n74               0.5  Chicago        696.000000  \n75               0.5  Chicago        696.000000  \n76               0.5  Chicago        624.000000  \n..               ...      ...               ...  \n13              15.0      NYC        466.940475  \n14              15.0      NYC        432.974354  \n15              30.0      NYC        527.657982  \n16              30.0      NYC        456.525119  \n17              30.0      NYC        407.718440  \n\n[113 rows x 20 columns]",
      "text/html": "<div>\n<style scoped>\n    .dataframe tbody tr th:only-of-type {\n        vertical-align: middle;\n    }\n\n    .dataframe tbody tr th {\n        vertical-align: top;\n    }\n\n    .dataframe thead th {\n        text-align: right;\n    }\n</style>\n<table border=\"1\" class=\"dataframe\">\n  <thead>\n    <tr style=\"text-align: right;\">\n      <th></th>\n      <th>cost_minutes</th>\n      <th>total_time</th>\n      <th>dropped_requests</th>\n      <th>avg_delay</th>\n      <th>plan_count</th>\n      <th>req_count</th>\n      <th>avg_occupancy</th>\n      <th>used_connections</th>\n      <th>total_driving_duration</th>\n      <th>total_waiting_duration</th>\n      <th>avg_waiting_duration</th>\n      <th>tts_cost</th>\n      <th>tts_cost_per_plan</th>\n      <th>method</th>\n      <th>max_delay</th>\n      <th>start_time</th>\n      <th>end_time</th>\n      <th>duration_minutes</th>\n      <th>area</th>\n      <th>cost_per_request</th>\n    </tr>\n  </thead>\n  <tbody>\n    <tr>\n      <th>72</th>\n      <td>84</td>\n      <td>0.000</td>\n      <td>0</td>\n      <td>441.000000</td>\n      <td>5</td>\n      <td>5</td>\n      <td>0.438021</td>\n      <td>-1</td>\n      <td>5034</td>\n      <td>0</td>\n      <td>0.000000</td>\n      <td>2829</td>\n      <td>565.800000</td>\n      <td>ih</td>\n      <td>180</td>\n      <td>2022-04-05 18:00:00</td>\n      <td>2022-04-05 18:00:30</td>\n      <td>0.5</td>\n      <td>Chicago</td>\n      <td>1008.000000</td>\n    </tr>\n    <tr>\n      <th>73</th>\n      <td>75</td>\n      <td>0.042</td>\n      <td>0</td>\n      <td>441.000000</td>\n      <td>5</td>\n      <td>5</td>\n      <td>0.492627</td>\n      <td>-1</td>\n      <td>4476</td>\n      <td>0</td>\n      <td>0.000000</td>\n      <td>2271</td>\n      <td>454.200000</td>\n      <td>vga</td>\n      <td>180</td>\n      <td>2022-04-05 18:00:00</td>\n      <td>2022-04-05 18:00:30</td>\n      <td>0.5</td>\n      <td>Chicago</td>\n      <td>900.000000</td>\n    </tr>\n    <tr>\n      <th>74</th>\n      <td>58</td>\n      <td>0.000</td>\n      <td>0</td>\n      <td>461.400000</td>\n      <td>4</td>\n      <td>5</td>\n      <td>0.658390</td>\n      <td>-1</td>\n      <td>3504</td>\n      <td>0</td>\n      <td>0.000000</td>\n      <td>1363</td>\n      <td>340.750000</td>\n      <td>ih</td>\n      <td>300</td>\n      <td>2022-04-05 18:00:00</td>\n      <td>2022-04-05 18:00:30</td>\n      <td>0.5</td>\n      <td>Chicago</td>\n      <td>696.000000</td>\n    </tr>\n    <tr>\n      <th>75</th>\n      <td>58</td>\n      <td>0.052</td>\n      <td>0</td>\n      <td>461.400000</td>\n      <td>4</td>\n      <td>5</td>\n      <td>0.661221</td>\n      <td>-1</td>\n      <td>3489</td>\n      <td>0</td>\n      <td>0.000000</td>\n      <td>1348</td>\n      <td>337.000000</td>\n      <td>vga</td>\n      <td>300</td>\n      <td>2022-04-05 18:00:00</td>\n      <td>2022-04-05 18:00:30</td>\n      <td>0.5</td>\n      <td>Chicago</td>\n      <td>696.000000</td>\n    </tr>\n    <tr>\n      <th>76</th>\n      <td>52</td>\n      <td>0.000</td>\n      <td>0</td>\n      <td>494.400000</td>\n      <td>3</td>\n      <td>5</td>\n      <td>0.789020</td>\n      <td>-1</td>\n      <td>3133</td>\n      <td>0</td>\n      <td>0.000000</td>\n      <td>1019</td>\n      <td>339.666667</td>\n      <td>ih</td>\n      <td>600</td>\n      <td>2022-04-05 18:00:00</td>\n      <td>2022-04-05 18:00:30</td>\n      <td>0.5</td>\n      <td>Chicago</td>\n      <td>624.000000</td>\n    </tr>\n    <tr>\n      <th>...</th>\n      <td>...</td>\n      <td>...</td>\n      <td>...</td>\n      <td>...</td>\n      <td>...</td>\n      <td>...</td>\n      <td>...</td>\n      <td>...</td>\n      <td>...</td>\n      <td>...</td>\n      <td>...</td>\n      <td>...</td>\n      <td>...</td>\n      <td>...</td>\n      <td>...</td>\n      <td>...</td>\n      <td>...</td>\n      <td>...</td>\n      <td>...</td>\n      <td>...</td>\n    </tr>\n    <tr>\n      <th>13</th>\n      <td>82236</td>\n      <td>34.838</td>\n      <td>0</td>\n      <td>699.090092</td>\n      <td>3706</td>\n      <td>10567</td>\n      <td>1.489949</td>\n      <td>-1</td>\n      <td>4934147</td>\n      <td>35630</td>\n      <td>9.614139</td>\n      <td>293817</td>\n      <td>79.281436</td>\n      <td>ih</td>\n      <td>300</td>\n      <td>2022-04-05 18:00:00</td>\n      <td>2022-04-05 18:15:00</td>\n      <td>15.0</td>\n      <td>NYC</td>\n      <td>466.940475</td>\n    </tr>\n    <tr>\n      <th>14</th>\n      <td>76254</td>\n      <td>28.960</td>\n      <td>0</td>\n      <td>791.981736</td>\n      <td>2813</td>\n      <td>10567</td>\n      <td>1.823348</td>\n      <td>-1</td>\n      <td>4575239</td>\n      <td>25714</td>\n      <td>9.141130</td>\n      <td>163601</td>\n      <td>58.158905</td>\n      <td>ih</td>\n      <td>600</td>\n      <td>2022-04-05 18:00:00</td>\n      <td>2022-04-05 18:15:00</td>\n      <td>15.0</td>\n      <td>NYC</td>\n      <td>432.974354</td>\n    </tr>\n    <tr>\n      <th>15</th>\n      <td>183282</td>\n      <td>77.818</td>\n      <td>0</td>\n      <td>653.519169</td>\n      <td>5623</td>\n      <td>20841</td>\n      <td>1.230080</td>\n      <td>-1</td>\n      <td>10996915</td>\n      <td>150410</td>\n      <td>26.749066</td>\n      <td>1052341</td>\n      <td>187.149386</td>\n      <td>ih</td>\n      <td>180</td>\n      <td>2022-04-05 18:00:00</td>\n      <td>2022-04-05 18:30:00</td>\n      <td>30.0</td>\n      <td>NYC</td>\n      <td>527.657982</td>\n    </tr>\n    <tr>\n      <th>16</th>\n      <td>158574</td>\n      <td>100.103</td>\n      <td>0</td>\n      <td>697.611631</td>\n      <td>4935</td>\n      <td>20841</td>\n      <td>1.519391</td>\n      <td>-1</td>\n      <td>9514443</td>\n      <td>113996</td>\n      <td>23.099493</td>\n      <td>506844</td>\n      <td>102.703951</td>\n      <td>ih</td>\n      <td>300</td>\n      <td>2022-04-05 18:00:00</td>\n      <td>2022-04-05 18:30:00</td>\n      <td>30.0</td>\n      <td>NYC</td>\n      <td>456.525119</td>\n    </tr>\n    <tr>\n      <th>17</th>\n      <td>141621</td>\n      <td>129.568</td>\n      <td>0</td>\n      <td>785.274747</td>\n      <td>4022</td>\n      <td>20841</td>\n      <td>1.918106</td>\n      <td>-1</td>\n      <td>8497256</td>\n      <td>78085</td>\n      <td>19.414470</td>\n      <td>249498</td>\n      <td>62.033317</td>\n      <td>ih</td>\n      <td>600</td>\n      <td>2022-04-05 18:00:00</td>\n      <td>2022-04-05 18:30:00</td>\n      <td>30.0</td>\n      <td>NYC</td>\n      <td>407.718440</td>\n    </tr>\n  </tbody>\n</table>\n<p>113 rows × 20 columns</p>\n</div>"
     },
     "execution_count": 8,
     "metadata": {},
     "output_type": "execute_result"
    }
   ],
   "source": [
    "df['cost_per_request'] = df['cost_minutes'] * 60 / df['req_count']\n",
    "df.sort_values(by=['area', 'duration_minutes', 'max_delay', 'method'], inplace=True)\n",
    "df"
   ],
   "metadata": {
    "collapsed": false,
    "ExecuteTime": {
     "end_time": "2023-05-17T09:38:07.945430700Z",
     "start_time": "2023-05-17T09:38:07.909432Z"
    }
   }
  },
  {
   "cell_type": "markdown",
   "source": [
    "# Main Results"
   ],
   "metadata": {
    "collapsed": false
   }
  },
  {
   "cell_type": "markdown",
   "source": [
    "## IH all instances"
   ],
   "metadata": {
    "collapsed": false
   }
  },
  {
   "cell_type": "code",
   "execution_count": 18,
   "outputs": [
    {
     "data": {
      "application/vnd.plotly.v1+json": {
       "data": [
        {
         "alignmentgroup": "True",
         "hovertemplate": "max_delay=180<br>duration_minutes=0.5<br>area=%{x}<br>cost_per_request=%{y}<extra></extra>",
         "legendgroup": "",
         "marker": {
          "color": "#636efa",
          "pattern": {
           "shape": ""
          }
         },
         "name": "",
         "offsetgroup": "",
         "orientation": "v",
         "showlegend": false,
         "textposition": "auto",
         "x": [
          "Chicago",
          "DC",
          "Manhattan",
          "NYC"
         ],
         "xaxis": "x13",
         "y": [
          1008.0,
          2115.0,
          498.42857142857144,
          823.7689969604863
         ],
         "yaxis": "y13",
         "type": "bar"
        },
        {
         "alignmentgroup": "True",
         "hovertemplate": "max_delay=180<br>duration_minutes=1.0<br>area=%{x}<br>cost_per_request=%{y}<extra></extra>",
         "legendgroup": "",
         "marker": {
          "color": "#636efa",
          "pattern": {
           "shape": ""
          }
         },
         "name": "",
         "offsetgroup": "",
         "orientation": "v",
         "showlegend": false,
         "textposition": "auto",
         "x": [
          "Chicago",
          "DC",
          "Manhattan",
          "NYC"
         ],
         "xaxis": "x14",
         "y": [
          1153.8461538461538,
          1705.7142857142858,
          488.8111888111888,
          710.4833836858006
         ],
         "yaxis": "y14",
         "type": "bar"
        },
        {
         "alignmentgroup": "True",
         "hovertemplate": "max_delay=180<br>duration_minutes=2.0<br>area=%{x}<br>cost_per_request=%{y}<extra></extra>",
         "legendgroup": "",
         "marker": {
          "color": "#636efa",
          "pattern": {
           "shape": ""
          }
         },
         "name": "",
         "offsetgroup": "",
         "orientation": "v",
         "showlegend": false,
         "textposition": "auto",
         "x": [
          "Chicago",
          "DC",
          "Manhattan",
          "NYC"
         ],
         "xaxis": "x15",
         "y": [
          949.2857142857143,
          1320.0,
          433.1900826446281,
          685.7528089887641
         ],
         "yaxis": "y15",
         "type": "bar"
        },
        {
         "alignmentgroup": "True",
         "hovertemplate": "max_delay=180<br>duration_minutes=5.0<br>area=%{x}<br>cost_per_request=%{y}<extra></extra>",
         "legendgroup": "",
         "marker": {
          "color": "#636efa",
          "pattern": {
           "shape": ""
          }
         },
         "name": "",
         "offsetgroup": "",
         "orientation": "v",
         "showlegend": false,
         "textposition": "auto",
         "x": [
          "Chicago",
          "DC",
          "Manhattan",
          "NYC"
         ],
         "xaxis": "x16",
         "y": [
          954.065934065934,
          1334.4444444444443,
          378.45597104945716,
          597.1616972477065
         ],
         "yaxis": "y16",
         "type": "bar"
        },
        {
         "alignmentgroup": "True",
         "hovertemplate": "max_delay=180<br>duration_minutes=15.0<br>area=%{x}<br>cost_per_request=%{y}<extra></extra>",
         "legendgroup": "",
         "marker": {
          "color": "#636efa",
          "pattern": {
           "shape": ""
          }
         },
         "name": "",
         "offsetgroup": "",
         "orientation": "v",
         "showlegend": false,
         "textposition": "auto",
         "x": [
          "Chicago",
          "DC",
          "Manhattan",
          "NYC"
         ],
         "xaxis": "x17",
         "y": [
          792.043795620438,
          1266.993865030675,
          333.84314492470173,
          534.2083845935459
         ],
         "yaxis": "y17",
         "type": "bar"
        },
        {
         "alignmentgroup": "True",
         "hovertemplate": "max_delay=180<br>duration_minutes=30.0<br>area=%{x}<br>cost_per_request=%{y}<extra></extra>",
         "legendgroup": "",
         "marker": {
          "color": "#636efa",
          "pattern": {
           "shape": ""
          }
         },
         "name": "",
         "offsetgroup": "",
         "orientation": "v",
         "showlegend": false,
         "textposition": "auto",
         "x": [
          "Chicago",
          "DC",
          "Manhattan",
          "NYC"
         ],
         "xaxis": "x18",
         "y": [
          863.7583892617449,
          1169.0853658536585,
          320.48639258830343,
          527.6579818626745
         ],
         "yaxis": "y18",
         "type": "bar"
        },
        {
         "alignmentgroup": "True",
         "hovertemplate": "max_delay=300<br>duration_minutes=0.5<br>area=%{x}<br>cost_per_request=%{y}<extra></extra>",
         "legendgroup": "",
         "marker": {
          "color": "#636efa",
          "pattern": {
           "shape": ""
          }
         },
         "name": "",
         "offsetgroup": "",
         "orientation": "v",
         "showlegend": false,
         "textposition": "auto",
         "x": [
          "Chicago",
          "DC",
          "Manhattan",
          "NYC"
         ],
         "xaxis": "x7",
         "y": [
          696.0,
          2115.0,
          464.57142857142856,
          716.5349544072948
         ],
         "yaxis": "y7",
         "type": "bar"
        },
        {
         "alignmentgroup": "True",
         "hovertemplate": "max_delay=300<br>duration_minutes=1.0<br>area=%{x}<br>cost_per_request=%{y}<extra></extra>",
         "legendgroup": "",
         "marker": {
          "color": "#636efa",
          "pattern": {
           "shape": ""
          }
         },
         "name": "",
         "offsetgroup": "",
         "orientation": "v",
         "showlegend": false,
         "textposition": "auto",
         "x": [
          "Chicago",
          "DC",
          "Manhattan",
          "NYC"
         ],
         "xaxis": "x8",
         "y": [
          1144.6153846153845,
          1705.7142857142858,
          434.8951048951049,
          628.1873111782477
         ],
         "yaxis": "y8",
         "type": "bar"
        },
        {
         "alignmentgroup": "True",
         "hovertemplate": "max_delay=300<br>duration_minutes=2.0<br>area=%{x}<br>cost_per_request=%{y}<extra></extra>",
         "legendgroup": "",
         "marker": {
          "color": "#636efa",
          "pattern": {
           "shape": ""
          }
         },
         "name": "",
         "offsetgroup": "",
         "orientation": "v",
         "showlegend": false,
         "textposition": "auto",
         "x": [
          "Chicago",
          "DC",
          "Manhattan",
          "NYC"
         ],
         "xaxis": "x9",
         "y": [
          930.0,
          1303.3333333333333,
          387.07438016528926,
          586.3370786516854
         ],
         "yaxis": "y9",
         "type": "bar"
        },
        {
         "alignmentgroup": "True",
         "hovertemplate": "max_delay=300<br>duration_minutes=5.0<br>area=%{x}<br>cost_per_request=%{y}<extra></extra>",
         "legendgroup": "",
         "marker": {
          "color": "#636efa",
          "pattern": {
           "shape": ""
          }
         },
         "name": "",
         "offsetgroup": "",
         "orientation": "v",
         "showlegend": false,
         "textposition": "auto",
         "x": [
          "Chicago",
          "DC",
          "Manhattan",
          "NYC"
         ],
         "xaxis": "x10",
         "y": [
          805.7142857142857,
          1207.7777777777778,
          349.65018094089265,
          525.9977064220184
         ],
         "yaxis": "y10",
         "type": "bar"
        },
        {
         "alignmentgroup": "True",
         "hovertemplate": "max_delay=300<br>duration_minutes=15.0<br>area=%{x}<br>cost_per_request=%{y}<extra></extra>",
         "legendgroup": "",
         "marker": {
          "color": "#636efa",
          "pattern": {
           "shape": ""
          }
         },
         "name": "",
         "offsetgroup": "",
         "orientation": "v",
         "showlegend": false,
         "textposition": "auto",
         "x": [
          "Chicago",
          "DC",
          "Manhattan",
          "NYC"
         ],
         "xaxis": "x11",
         "y": [
          679.051094890511,
          1089.9386503067485,
          299.8005085077254,
          466.9404750638781
         ],
         "yaxis": "y11",
         "type": "bar"
        },
        {
         "alignmentgroup": "True",
         "hovertemplate": "max_delay=300<br>duration_minutes=30.0<br>area=%{x}<br>cost_per_request=%{y}<extra></extra>",
         "legendgroup": "",
         "marker": {
          "color": "#636efa",
          "pattern": {
           "shape": ""
          }
         },
         "name": "",
         "offsetgroup": "",
         "orientation": "v",
         "showlegend": false,
         "textposition": "auto",
         "x": [
          "Chicago",
          "DC",
          "Manhattan",
          "NYC"
         ],
         "xaxis": "x12",
         "y": [
          721.2080536912752,
          1027.3170731707316,
          282.18876664736536,
          456.5251187562977
         ],
         "yaxis": "y12",
         "type": "bar"
        },
        {
         "alignmentgroup": "True",
         "hovertemplate": "max_delay=600<br>duration_minutes=0.5<br>area=%{x}<br>cost_per_request=%{y}<extra></extra>",
         "legendgroup": "",
         "marker": {
          "color": "#636efa",
          "pattern": {
           "shape": ""
          }
         },
         "name": "",
         "offsetgroup": "",
         "orientation": "v",
         "showlegend": false,
         "textposition": "auto",
         "x": [
          "Chicago",
          "DC",
          "Manhattan",
          "NYC"
         ],
         "xaxis": "x",
         "y": [
          624.0,
          2115.0,
          417.85714285714283,
          639.3920972644377
         ],
         "yaxis": "y",
         "type": "bar"
        },
        {
         "alignmentgroup": "True",
         "hovertemplate": "max_delay=600<br>duration_minutes=1.0<br>area=%{x}<br>cost_per_request=%{y}<extra></extra>",
         "legendgroup": "",
         "marker": {
          "color": "#636efa",
          "pattern": {
           "shape": ""
          }
         },
         "name": "",
         "offsetgroup": "",
         "orientation": "v",
         "showlegend": false,
         "textposition": "auto",
         "x": [
          "Chicago",
          "DC",
          "Manhattan",
          "NYC"
         ],
         "xaxis": "x2",
         "y": [
          1001.5384615384615,
          1525.7142857142858,
          392.0979020979021,
          566.3746223564955
         ],
         "yaxis": "y2",
         "type": "bar"
        },
        {
         "alignmentgroup": "True",
         "hovertemplate": "max_delay=600<br>duration_minutes=2.0<br>area=%{x}<br>cost_per_request=%{y}<extra></extra>",
         "legendgroup": "",
         "marker": {
          "color": "#636efa",
          "pattern": {
           "shape": ""
          }
         },
         "name": "",
         "offsetgroup": "",
         "orientation": "v",
         "showlegend": false,
         "textposition": "auto",
         "x": [
          "Chicago",
          "DC",
          "Manhattan",
          "NYC"
         ],
         "xaxis": "x3",
         "y": [
          865.7142857142857,
          1250.0,
          358.7107438016529,
          519.1011235955057
         ],
         "yaxis": "y3",
         "type": "bar"
        },
        {
         "alignmentgroup": "True",
         "hovertemplate": "max_delay=600<br>duration_minutes=5.0<br>area=%{x}<br>cost_per_request=%{y}<extra></extra>",
         "legendgroup": "",
         "marker": {
          "color": "#636efa",
          "pattern": {
           "shape": ""
          }
         },
         "name": "",
         "offsetgroup": "",
         "orientation": "v",
         "showlegend": false,
         "textposition": "auto",
         "x": [
          "Chicago",
          "DC",
          "Manhattan",
          "NYC"
         ],
         "xaxis": "x4",
         "y": [
          670.5494505494505,
          1042.2222222222222,
          329.4571773220748,
          484.5756880733945
         ],
         "yaxis": "y4",
         "type": "bar"
        },
        {
         "alignmentgroup": "True",
         "hovertemplate": "max_delay=600<br>duration_minutes=15.0<br>area=%{x}<br>cost_per_request=%{y}<extra></extra>",
         "legendgroup": "",
         "marker": {
          "color": "#636efa",
          "pattern": {
           "shape": ""
          }
         },
         "name": "",
         "offsetgroup": "",
         "orientation": "v",
         "showlegend": false,
         "textposition": "auto",
         "x": [
          "Chicago",
          "DC",
          "Manhattan",
          "NYC"
         ],
         "xaxis": "x5",
         "y": [
          595.4014598540145,
          902.5766871165645,
          287.6549970663016,
          432.9743541213211
         ],
         "yaxis": "y5",
         "type": "bar"
        },
        {
         "alignmentgroup": "True",
         "hovertemplate": "max_delay=600<br>duration_minutes=30.0<br>area=%{x}<br>cost_per_request=%{y}<extra></extra>",
         "legendgroup": "",
         "marker": {
          "color": "#636efa",
          "pattern": {
           "shape": ""
          }
         },
         "name": "",
         "offsetgroup": "",
         "orientation": "v",
         "showlegend": false,
         "textposition": "auto",
         "x": [
          "Chicago",
          "DC",
          "Manhattan",
          "NYC"
         ],
         "xaxis": "x6",
         "y": [
          579.9664429530201,
          872.7439024390244,
          260.2374059061957,
          407.71843961422195
         ],
         "yaxis": "y6",
         "type": "bar"
        }
       ],
       "layout": {
        "template": {
         "data": {
          "histogram2dcontour": [
           {
            "type": "histogram2dcontour",
            "colorbar": {
             "outlinewidth": 0,
             "ticks": ""
            },
            "colorscale": [
             [
              0.0,
              "#0d0887"
             ],
             [
              0.1111111111111111,
              "#46039f"
             ],
             [
              0.2222222222222222,
              "#7201a8"
             ],
             [
              0.3333333333333333,
              "#9c179e"
             ],
             [
              0.4444444444444444,
              "#bd3786"
             ],
             [
              0.5555555555555556,
              "#d8576b"
             ],
             [
              0.6666666666666666,
              "#ed7953"
             ],
             [
              0.7777777777777778,
              "#fb9f3a"
             ],
             [
              0.8888888888888888,
              "#fdca26"
             ],
             [
              1.0,
              "#f0f921"
             ]
            ]
           }
          ],
          "choropleth": [
           {
            "type": "choropleth",
            "colorbar": {
             "outlinewidth": 0,
             "ticks": ""
            }
           }
          ],
          "histogram2d": [
           {
            "type": "histogram2d",
            "colorbar": {
             "outlinewidth": 0,
             "ticks": ""
            },
            "colorscale": [
             [
              0.0,
              "#0d0887"
             ],
             [
              0.1111111111111111,
              "#46039f"
             ],
             [
              0.2222222222222222,
              "#7201a8"
             ],
             [
              0.3333333333333333,
              "#9c179e"
             ],
             [
              0.4444444444444444,
              "#bd3786"
             ],
             [
              0.5555555555555556,
              "#d8576b"
             ],
             [
              0.6666666666666666,
              "#ed7953"
             ],
             [
              0.7777777777777778,
              "#fb9f3a"
             ],
             [
              0.8888888888888888,
              "#fdca26"
             ],
             [
              1.0,
              "#f0f921"
             ]
            ]
           }
          ],
          "heatmap": [
           {
            "type": "heatmap",
            "colorbar": {
             "outlinewidth": 0,
             "ticks": ""
            },
            "colorscale": [
             [
              0.0,
              "#0d0887"
             ],
             [
              0.1111111111111111,
              "#46039f"
             ],
             [
              0.2222222222222222,
              "#7201a8"
             ],
             [
              0.3333333333333333,
              "#9c179e"
             ],
             [
              0.4444444444444444,
              "#bd3786"
             ],
             [
              0.5555555555555556,
              "#d8576b"
             ],
             [
              0.6666666666666666,
              "#ed7953"
             ],
             [
              0.7777777777777778,
              "#fb9f3a"
             ],
             [
              0.8888888888888888,
              "#fdca26"
             ],
             [
              1.0,
              "#f0f921"
             ]
            ]
           }
          ],
          "heatmapgl": [
           {
            "type": "heatmapgl",
            "colorbar": {
             "outlinewidth": 0,
             "ticks": ""
            },
            "colorscale": [
             [
              0.0,
              "#0d0887"
             ],
             [
              0.1111111111111111,
              "#46039f"
             ],
             [
              0.2222222222222222,
              "#7201a8"
             ],
             [
              0.3333333333333333,
              "#9c179e"
             ],
             [
              0.4444444444444444,
              "#bd3786"
             ],
             [
              0.5555555555555556,
              "#d8576b"
             ],
             [
              0.6666666666666666,
              "#ed7953"
             ],
             [
              0.7777777777777778,
              "#fb9f3a"
             ],
             [
              0.8888888888888888,
              "#fdca26"
             ],
             [
              1.0,
              "#f0f921"
             ]
            ]
           }
          ],
          "contourcarpet": [
           {
            "type": "contourcarpet",
            "colorbar": {
             "outlinewidth": 0,
             "ticks": ""
            }
           }
          ],
          "contour": [
           {
            "type": "contour",
            "colorbar": {
             "outlinewidth": 0,
             "ticks": ""
            },
            "colorscale": [
             [
              0.0,
              "#0d0887"
             ],
             [
              0.1111111111111111,
              "#46039f"
             ],
             [
              0.2222222222222222,
              "#7201a8"
             ],
             [
              0.3333333333333333,
              "#9c179e"
             ],
             [
              0.4444444444444444,
              "#bd3786"
             ],
             [
              0.5555555555555556,
              "#d8576b"
             ],
             [
              0.6666666666666666,
              "#ed7953"
             ],
             [
              0.7777777777777778,
              "#fb9f3a"
             ],
             [
              0.8888888888888888,
              "#fdca26"
             ],
             [
              1.0,
              "#f0f921"
             ]
            ]
           }
          ],
          "surface": [
           {
            "type": "surface",
            "colorbar": {
             "outlinewidth": 0,
             "ticks": ""
            },
            "colorscale": [
             [
              0.0,
              "#0d0887"
             ],
             [
              0.1111111111111111,
              "#46039f"
             ],
             [
              0.2222222222222222,
              "#7201a8"
             ],
             [
              0.3333333333333333,
              "#9c179e"
             ],
             [
              0.4444444444444444,
              "#bd3786"
             ],
             [
              0.5555555555555556,
              "#d8576b"
             ],
             [
              0.6666666666666666,
              "#ed7953"
             ],
             [
              0.7777777777777778,
              "#fb9f3a"
             ],
             [
              0.8888888888888888,
              "#fdca26"
             ],
             [
              1.0,
              "#f0f921"
             ]
            ]
           }
          ],
          "mesh3d": [
           {
            "type": "mesh3d",
            "colorbar": {
             "outlinewidth": 0,
             "ticks": ""
            }
           }
          ],
          "scatter": [
           {
            "fillpattern": {
             "fillmode": "overlay",
             "size": 10,
             "solidity": 0.2
            },
            "type": "scatter"
           }
          ],
          "parcoords": [
           {
            "type": "parcoords",
            "line": {
             "colorbar": {
              "outlinewidth": 0,
              "ticks": ""
             }
            }
           }
          ],
          "scatterpolargl": [
           {
            "type": "scatterpolargl",
            "marker": {
             "colorbar": {
              "outlinewidth": 0,
              "ticks": ""
             }
            }
           }
          ],
          "bar": [
           {
            "error_x": {
             "color": "#2a3f5f"
            },
            "error_y": {
             "color": "#2a3f5f"
            },
            "marker": {
             "line": {
              "color": "#E5ECF6",
              "width": 0.5
             },
             "pattern": {
              "fillmode": "overlay",
              "size": 10,
              "solidity": 0.2
             }
            },
            "type": "bar"
           }
          ],
          "scattergeo": [
           {
            "type": "scattergeo",
            "marker": {
             "colorbar": {
              "outlinewidth": 0,
              "ticks": ""
             }
            }
           }
          ],
          "scatterpolar": [
           {
            "type": "scatterpolar",
            "marker": {
             "colorbar": {
              "outlinewidth": 0,
              "ticks": ""
             }
            }
           }
          ],
          "histogram": [
           {
            "marker": {
             "pattern": {
              "fillmode": "overlay",
              "size": 10,
              "solidity": 0.2
             }
            },
            "type": "histogram"
           }
          ],
          "scattergl": [
           {
            "type": "scattergl",
            "marker": {
             "colorbar": {
              "outlinewidth": 0,
              "ticks": ""
             }
            }
           }
          ],
          "scatter3d": [
           {
            "type": "scatter3d",
            "line": {
             "colorbar": {
              "outlinewidth": 0,
              "ticks": ""
             }
            },
            "marker": {
             "colorbar": {
              "outlinewidth": 0,
              "ticks": ""
             }
            }
           }
          ],
          "scattermapbox": [
           {
            "type": "scattermapbox",
            "marker": {
             "colorbar": {
              "outlinewidth": 0,
              "ticks": ""
             }
            }
           }
          ],
          "scatterternary": [
           {
            "type": "scatterternary",
            "marker": {
             "colorbar": {
              "outlinewidth": 0,
              "ticks": ""
             }
            }
           }
          ],
          "scattercarpet": [
           {
            "type": "scattercarpet",
            "marker": {
             "colorbar": {
              "outlinewidth": 0,
              "ticks": ""
             }
            }
           }
          ],
          "carpet": [
           {
            "aaxis": {
             "endlinecolor": "#2a3f5f",
             "gridcolor": "white",
             "linecolor": "white",
             "minorgridcolor": "white",
             "startlinecolor": "#2a3f5f"
            },
            "baxis": {
             "endlinecolor": "#2a3f5f",
             "gridcolor": "white",
             "linecolor": "white",
             "minorgridcolor": "white",
             "startlinecolor": "#2a3f5f"
            },
            "type": "carpet"
           }
          ],
          "table": [
           {
            "cells": {
             "fill": {
              "color": "#EBF0F8"
             },
             "line": {
              "color": "white"
             }
            },
            "header": {
             "fill": {
              "color": "#C8D4E3"
             },
             "line": {
              "color": "white"
             }
            },
            "type": "table"
           }
          ],
          "barpolar": [
           {
            "marker": {
             "line": {
              "color": "#E5ECF6",
              "width": 0.5
             },
             "pattern": {
              "fillmode": "overlay",
              "size": 10,
              "solidity": 0.2
             }
            },
            "type": "barpolar"
           }
          ],
          "pie": [
           {
            "automargin": true,
            "type": "pie"
           }
          ]
         },
         "layout": {
          "autotypenumbers": "strict",
          "colorway": [
           "#636efa",
           "#EF553B",
           "#00cc96",
           "#ab63fa",
           "#FFA15A",
           "#19d3f3",
           "#FF6692",
           "#B6E880",
           "#FF97FF",
           "#FECB52"
          ],
          "font": {
           "color": "#2a3f5f"
          },
          "hovermode": "closest",
          "hoverlabel": {
           "align": "left"
          },
          "paper_bgcolor": "white",
          "plot_bgcolor": "#E5ECF6",
          "polar": {
           "bgcolor": "#E5ECF6",
           "angularaxis": {
            "gridcolor": "white",
            "linecolor": "white",
            "ticks": ""
           },
           "radialaxis": {
            "gridcolor": "white",
            "linecolor": "white",
            "ticks": ""
           }
          },
          "ternary": {
           "bgcolor": "#E5ECF6",
           "aaxis": {
            "gridcolor": "white",
            "linecolor": "white",
            "ticks": ""
           },
           "baxis": {
            "gridcolor": "white",
            "linecolor": "white",
            "ticks": ""
           },
           "caxis": {
            "gridcolor": "white",
            "linecolor": "white",
            "ticks": ""
           }
          },
          "coloraxis": {
           "colorbar": {
            "outlinewidth": 0,
            "ticks": ""
           }
          },
          "colorscale": {
           "sequential": [
            [
             0.0,
             "#0d0887"
            ],
            [
             0.1111111111111111,
             "#46039f"
            ],
            [
             0.2222222222222222,
             "#7201a8"
            ],
            [
             0.3333333333333333,
             "#9c179e"
            ],
            [
             0.4444444444444444,
             "#bd3786"
            ],
            [
             0.5555555555555556,
             "#d8576b"
            ],
            [
             0.6666666666666666,
             "#ed7953"
            ],
            [
             0.7777777777777778,
             "#fb9f3a"
            ],
            [
             0.8888888888888888,
             "#fdca26"
            ],
            [
             1.0,
             "#f0f921"
            ]
           ],
           "sequentialminus": [
            [
             0.0,
             "#0d0887"
            ],
            [
             0.1111111111111111,
             "#46039f"
            ],
            [
             0.2222222222222222,
             "#7201a8"
            ],
            [
             0.3333333333333333,
             "#9c179e"
            ],
            [
             0.4444444444444444,
             "#bd3786"
            ],
            [
             0.5555555555555556,
             "#d8576b"
            ],
            [
             0.6666666666666666,
             "#ed7953"
            ],
            [
             0.7777777777777778,
             "#fb9f3a"
            ],
            [
             0.8888888888888888,
             "#fdca26"
            ],
            [
             1.0,
             "#f0f921"
            ]
           ],
           "diverging": [
            [
             0,
             "#8e0152"
            ],
            [
             0.1,
             "#c51b7d"
            ],
            [
             0.2,
             "#de77ae"
            ],
            [
             0.3,
             "#f1b6da"
            ],
            [
             0.4,
             "#fde0ef"
            ],
            [
             0.5,
             "#f7f7f7"
            ],
            [
             0.6,
             "#e6f5d0"
            ],
            [
             0.7,
             "#b8e186"
            ],
            [
             0.8,
             "#7fbc41"
            ],
            [
             0.9,
             "#4d9221"
            ],
            [
             1,
             "#276419"
            ]
           ]
          },
          "xaxis": {
           "gridcolor": "white",
           "linecolor": "white",
           "ticks": "",
           "title": {
            "standoff": 15
           },
           "zerolinecolor": "white",
           "automargin": true,
           "zerolinewidth": 2
          },
          "yaxis": {
           "gridcolor": "white",
           "linecolor": "white",
           "ticks": "",
           "title": {
            "standoff": 15
           },
           "zerolinecolor": "white",
           "automargin": true,
           "zerolinewidth": 2
          },
          "scene": {
           "xaxis": {
            "backgroundcolor": "#E5ECF6",
            "gridcolor": "white",
            "linecolor": "white",
            "showbackground": true,
            "ticks": "",
            "zerolinecolor": "white",
            "gridwidth": 2
           },
           "yaxis": {
            "backgroundcolor": "#E5ECF6",
            "gridcolor": "white",
            "linecolor": "white",
            "showbackground": true,
            "ticks": "",
            "zerolinecolor": "white",
            "gridwidth": 2
           },
           "zaxis": {
            "backgroundcolor": "#E5ECF6",
            "gridcolor": "white",
            "linecolor": "white",
            "showbackground": true,
            "ticks": "",
            "zerolinecolor": "white",
            "gridwidth": 2
           }
          },
          "shapedefaults": {
           "line": {
            "color": "#2a3f5f"
           }
          },
          "annotationdefaults": {
           "arrowcolor": "#2a3f5f",
           "arrowhead": 0,
           "arrowwidth": 1
          },
          "geo": {
           "bgcolor": "white",
           "landcolor": "#E5ECF6",
           "subunitcolor": "white",
           "showland": true,
           "showlakes": true,
           "lakecolor": "white"
          },
          "title": {
           "x": 0.05
          },
          "mapbox": {
           "style": "light"
          }
         }
        },
        "xaxis": {
         "anchor": "y",
         "domain": [
          0.0,
          0.14666666666666667
         ],
         "title": {
          "text": ""
         }
        },
        "yaxis": {
         "anchor": "x",
         "domain": [
          0.0,
          0.3133333333333333
         ],
         "title": {
          "text": ""
         }
        },
        "xaxis2": {
         "anchor": "y2",
         "domain": [
          0.16666666666666666,
          0.31333333333333335
         ],
         "matches": "x",
         "title": {
          "text": ""
         }
        },
        "yaxis2": {
         "anchor": "x2",
         "domain": [
          0.0,
          0.3133333333333333
         ],
         "matches": "y",
         "showticklabels": false,
         "title": {
          "text": ""
         }
        },
        "xaxis3": {
         "anchor": "y3",
         "domain": [
          0.3333333333333333,
          0.48
         ],
         "matches": "x",
         "title": {
          "text": ""
         }
        },
        "yaxis3": {
         "anchor": "x3",
         "domain": [
          0.0,
          0.3133333333333333
         ],
         "matches": "y",
         "showticklabels": false,
         "title": {
          "text": ""
         }
        },
        "xaxis4": {
         "anchor": "y4",
         "domain": [
          0.5,
          0.6466666666666667
         ],
         "matches": "x",
         "title": {
          "text": ""
         }
        },
        "yaxis4": {
         "anchor": "x4",
         "domain": [
          0.0,
          0.3133333333333333
         ],
         "matches": "y",
         "showticklabels": false,
         "title": {
          "text": ""
         }
        },
        "xaxis5": {
         "anchor": "y5",
         "domain": [
          0.6666666666666666,
          0.8133333333333332
         ],
         "matches": "x",
         "title": {
          "text": ""
         }
        },
        "yaxis5": {
         "anchor": "x5",
         "domain": [
          0.0,
          0.3133333333333333
         ],
         "matches": "y",
         "showticklabels": false,
         "title": {
          "text": ""
         }
        },
        "xaxis6": {
         "anchor": "y6",
         "domain": [
          0.8333333333333334,
          0.98
         ],
         "matches": "x",
         "title": {
          "text": ""
         }
        },
        "yaxis6": {
         "anchor": "x6",
         "domain": [
          0.0,
          0.3133333333333333
         ],
         "matches": "y",
         "showticklabels": false,
         "title": {
          "text": ""
         }
        },
        "xaxis7": {
         "anchor": "y7",
         "domain": [
          0.0,
          0.14666666666666667
         ],
         "matches": "x",
         "showticklabels": false,
         "title": {
          "text": ""
         }
        },
        "yaxis7": {
         "anchor": "x7",
         "domain": [
          0.34333333333333327,
          0.6566666666666665
         ],
         "matches": "y",
         "title": {
          "text": ""
         }
        },
        "xaxis8": {
         "anchor": "y8",
         "domain": [
          0.16666666666666666,
          0.31333333333333335
         ],
         "matches": "x",
         "showticklabels": false,
         "title": {
          "text": ""
         }
        },
        "yaxis8": {
         "anchor": "x8",
         "domain": [
          0.34333333333333327,
          0.6566666666666665
         ],
         "matches": "y",
         "showticklabels": false,
         "title": {
          "text": ""
         }
        },
        "xaxis9": {
         "anchor": "y9",
         "domain": [
          0.3333333333333333,
          0.48
         ],
         "matches": "x",
         "showticklabels": false,
         "title": {
          "text": ""
         }
        },
        "yaxis9": {
         "anchor": "x9",
         "domain": [
          0.34333333333333327,
          0.6566666666666665
         ],
         "matches": "y",
         "showticklabels": false,
         "title": {
          "text": ""
         }
        },
        "xaxis10": {
         "anchor": "y10",
         "domain": [
          0.5,
          0.6466666666666667
         ],
         "matches": "x",
         "showticklabels": false,
         "title": {
          "text": ""
         }
        },
        "yaxis10": {
         "anchor": "x10",
         "domain": [
          0.34333333333333327,
          0.6566666666666665
         ],
         "matches": "y",
         "showticklabels": false,
         "title": {
          "text": ""
         }
        },
        "xaxis11": {
         "anchor": "y11",
         "domain": [
          0.6666666666666666,
          0.8133333333333332
         ],
         "matches": "x",
         "showticklabels": false,
         "title": {
          "text": ""
         }
        },
        "yaxis11": {
         "anchor": "x11",
         "domain": [
          0.34333333333333327,
          0.6566666666666665
         ],
         "matches": "y",
         "showticklabels": false,
         "title": {
          "text": ""
         }
        },
        "xaxis12": {
         "anchor": "y12",
         "domain": [
          0.8333333333333334,
          0.98
         ],
         "matches": "x",
         "showticklabels": false,
         "title": {
          "text": ""
         }
        },
        "yaxis12": {
         "anchor": "x12",
         "domain": [
          0.34333333333333327,
          0.6566666666666665
         ],
         "matches": "y",
         "showticklabels": false,
         "title": {
          "text": ""
         }
        },
        "xaxis13": {
         "anchor": "y13",
         "domain": [
          0.0,
          0.14666666666666667
         ],
         "matches": "x",
         "showticklabels": false,
         "title": {
          "text": ""
         }
        },
        "yaxis13": {
         "anchor": "x13",
         "domain": [
          0.6866666666666665,
          0.9999999999999998
         ],
         "matches": "y",
         "title": {
          "text": ""
         }
        },
        "xaxis14": {
         "anchor": "y14",
         "domain": [
          0.16666666666666666,
          0.31333333333333335
         ],
         "matches": "x",
         "showticklabels": false,
         "title": {
          "text": ""
         }
        },
        "yaxis14": {
         "anchor": "x14",
         "domain": [
          0.6866666666666665,
          0.9999999999999998
         ],
         "matches": "y",
         "showticklabels": false,
         "title": {
          "text": ""
         }
        },
        "xaxis15": {
         "anchor": "y15",
         "domain": [
          0.3333333333333333,
          0.48
         ],
         "matches": "x",
         "showticklabels": false,
         "title": {
          "text": ""
         }
        },
        "yaxis15": {
         "anchor": "x15",
         "domain": [
          0.6866666666666665,
          0.9999999999999998
         ],
         "matches": "y",
         "showticklabels": false,
         "title": {
          "text": ""
         }
        },
        "xaxis16": {
         "anchor": "y16",
         "domain": [
          0.5,
          0.6466666666666667
         ],
         "matches": "x",
         "showticklabels": false,
         "title": {
          "text": ""
         }
        },
        "yaxis16": {
         "anchor": "x16",
         "domain": [
          0.6866666666666665,
          0.9999999999999998
         ],
         "matches": "y",
         "showticklabels": false,
         "title": {
          "text": ""
         }
        },
        "xaxis17": {
         "anchor": "y17",
         "domain": [
          0.6666666666666666,
          0.8133333333333332
         ],
         "matches": "x",
         "showticklabels": false,
         "title": {
          "text": ""
         }
        },
        "yaxis17": {
         "anchor": "x17",
         "domain": [
          0.6866666666666665,
          0.9999999999999998
         ],
         "matches": "y",
         "showticklabels": false,
         "title": {
          "text": ""
         }
        },
        "xaxis18": {
         "anchor": "y18",
         "domain": [
          0.8333333333333334,
          0.98
         ],
         "matches": "x",
         "showticklabels": false,
         "title": {
          "text": ""
         }
        },
        "yaxis18": {
         "anchor": "x18",
         "domain": [
          0.6866666666666665,
          0.9999999999999998
         ],
         "matches": "y",
         "showticklabels": false,
         "title": {
          "text": ""
         }
        },
        "annotations": [
         {
          "showarrow": false,
          "text": "0.5",
          "x": 0.07333333333333333,
          "xanchor": "center",
          "xref": "paper",
          "y": 0.9999999999999998,
          "yanchor": "bottom",
          "yref": "paper"
         },
         {
          "showarrow": false,
          "text": "1.0",
          "x": 0.24,
          "xanchor": "center",
          "xref": "paper",
          "y": 0.9999999999999998,
          "yanchor": "bottom",
          "yref": "paper"
         },
         {
          "showarrow": false,
          "text": "2.0",
          "x": 0.4066666666666666,
          "xanchor": "center",
          "xref": "paper",
          "y": 0.9999999999999998,
          "yanchor": "bottom",
          "yref": "paper"
         },
         {
          "showarrow": false,
          "text": "5.0",
          "x": 0.5733333333333334,
          "xanchor": "center",
          "xref": "paper",
          "y": 0.9999999999999998,
          "yanchor": "bottom",
          "yref": "paper"
         },
         {
          "showarrow": false,
          "text": "15.0",
          "x": 0.74,
          "xanchor": "center",
          "xref": "paper",
          "y": 0.9999999999999998,
          "yanchor": "bottom",
          "yref": "paper"
         },
         {
          "showarrow": false,
          "text": "30.0",
          "x": 0.9066666666666667,
          "xanchor": "center",
          "xref": "paper",
          "y": 0.9999999999999998,
          "yanchor": "bottom",
          "yref": "paper"
         },
         {
          "showarrow": false,
          "text": "600",
          "textangle": 90,
          "x": 0.98,
          "xanchor": "left",
          "xref": "paper",
          "y": 0.15666666666666665,
          "yanchor": "middle",
          "yref": "paper"
         },
         {
          "showarrow": false,
          "text": "300",
          "textangle": 90,
          "x": 0.98,
          "xanchor": "left",
          "xref": "paper",
          "y": 0.4999999999999999,
          "yanchor": "middle",
          "yref": "paper"
         },
         {
          "showarrow": false,
          "text": "180",
          "textangle": 90,
          "x": 0.98,
          "xanchor": "left",
          "xref": "paper",
          "y": 0.8433333333333332,
          "yanchor": "middle",
          "yref": "paper"
         },
         {
          "showarrow": false,
          "text": "travel time per request [s]",
          "textangle": -90,
          "x": -0.06,
          "xref": "paper",
          "y": 0.5,
          "yref": "paper"
         },
         {
          "showarrow": false,
          "text": "instance length [min]",
          "x": 0.5,
          "xref": "paper",
          "y": 1.15,
          "yref": "paper"
         },
         {
          "showarrow": false,
          "text": "maximum delay [s]",
          "textangle": 90,
          "x": 1.02,
          "xref": "paper",
          "y": 0.5,
          "yref": "paper"
         }
        ],
        "legend": {
         "tracegroupgap": 0
        },
        "title": {
         "text": "Average Cost per Request"
        },
        "barmode": "group"
       },
       "config": {
        "plotlyServerURL": "https://plot.ly"
       }
      },
      "text/html": "<div>                            <div id=\"3828302c-4282-45f9-b905-b22f10ae786e\" class=\"plotly-graph-div\" style=\"height:525px; width:100%;\"></div>            <script type=\"text/javascript\">                require([\"plotly\"], function(Plotly) {                    window.PLOTLYENV=window.PLOTLYENV || {};                                    if (document.getElementById(\"3828302c-4282-45f9-b905-b22f10ae786e\")) {                    Plotly.newPlot(                        \"3828302c-4282-45f9-b905-b22f10ae786e\",                        [{\"alignmentgroup\":\"True\",\"hovertemplate\":\"max_delay=180<br>duration_minutes=0.5<br>area=%{x}<br>cost_per_request=%{y}<extra></extra>\",\"legendgroup\":\"\",\"marker\":{\"color\":\"#636efa\",\"pattern\":{\"shape\":\"\"}},\"name\":\"\",\"offsetgroup\":\"\",\"orientation\":\"v\",\"showlegend\":false,\"textposition\":\"auto\",\"x\":[\"Chicago\",\"DC\",\"Manhattan\",\"NYC\"],\"xaxis\":\"x13\",\"y\":[1008.0,2115.0,498.42857142857144,823.7689969604863],\"yaxis\":\"y13\",\"type\":\"bar\"},{\"alignmentgroup\":\"True\",\"hovertemplate\":\"max_delay=180<br>duration_minutes=1.0<br>area=%{x}<br>cost_per_request=%{y}<extra></extra>\",\"legendgroup\":\"\",\"marker\":{\"color\":\"#636efa\",\"pattern\":{\"shape\":\"\"}},\"name\":\"\",\"offsetgroup\":\"\",\"orientation\":\"v\",\"showlegend\":false,\"textposition\":\"auto\",\"x\":[\"Chicago\",\"DC\",\"Manhattan\",\"NYC\"],\"xaxis\":\"x14\",\"y\":[1153.8461538461538,1705.7142857142858,488.8111888111888,710.4833836858006],\"yaxis\":\"y14\",\"type\":\"bar\"},{\"alignmentgroup\":\"True\",\"hovertemplate\":\"max_delay=180<br>duration_minutes=2.0<br>area=%{x}<br>cost_per_request=%{y}<extra></extra>\",\"legendgroup\":\"\",\"marker\":{\"color\":\"#636efa\",\"pattern\":{\"shape\":\"\"}},\"name\":\"\",\"offsetgroup\":\"\",\"orientation\":\"v\",\"showlegend\":false,\"textposition\":\"auto\",\"x\":[\"Chicago\",\"DC\",\"Manhattan\",\"NYC\"],\"xaxis\":\"x15\",\"y\":[949.2857142857143,1320.0,433.1900826446281,685.7528089887641],\"yaxis\":\"y15\",\"type\":\"bar\"},{\"alignmentgroup\":\"True\",\"hovertemplate\":\"max_delay=180<br>duration_minutes=5.0<br>area=%{x}<br>cost_per_request=%{y}<extra></extra>\",\"legendgroup\":\"\",\"marker\":{\"color\":\"#636efa\",\"pattern\":{\"shape\":\"\"}},\"name\":\"\",\"offsetgroup\":\"\",\"orientation\":\"v\",\"showlegend\":false,\"textposition\":\"auto\",\"x\":[\"Chicago\",\"DC\",\"Manhattan\",\"NYC\"],\"xaxis\":\"x16\",\"y\":[954.065934065934,1334.4444444444443,378.45597104945716,597.1616972477065],\"yaxis\":\"y16\",\"type\":\"bar\"},{\"alignmentgroup\":\"True\",\"hovertemplate\":\"max_delay=180<br>duration_minutes=15.0<br>area=%{x}<br>cost_per_request=%{y}<extra></extra>\",\"legendgroup\":\"\",\"marker\":{\"color\":\"#636efa\",\"pattern\":{\"shape\":\"\"}},\"name\":\"\",\"offsetgroup\":\"\",\"orientation\":\"v\",\"showlegend\":false,\"textposition\":\"auto\",\"x\":[\"Chicago\",\"DC\",\"Manhattan\",\"NYC\"],\"xaxis\":\"x17\",\"y\":[792.043795620438,1266.993865030675,333.84314492470173,534.2083845935459],\"yaxis\":\"y17\",\"type\":\"bar\"},{\"alignmentgroup\":\"True\",\"hovertemplate\":\"max_delay=180<br>duration_minutes=30.0<br>area=%{x}<br>cost_per_request=%{y}<extra></extra>\",\"legendgroup\":\"\",\"marker\":{\"color\":\"#636efa\",\"pattern\":{\"shape\":\"\"}},\"name\":\"\",\"offsetgroup\":\"\",\"orientation\":\"v\",\"showlegend\":false,\"textposition\":\"auto\",\"x\":[\"Chicago\",\"DC\",\"Manhattan\",\"NYC\"],\"xaxis\":\"x18\",\"y\":[863.7583892617449,1169.0853658536585,320.48639258830343,527.6579818626745],\"yaxis\":\"y18\",\"type\":\"bar\"},{\"alignmentgroup\":\"True\",\"hovertemplate\":\"max_delay=300<br>duration_minutes=0.5<br>area=%{x}<br>cost_per_request=%{y}<extra></extra>\",\"legendgroup\":\"\",\"marker\":{\"color\":\"#636efa\",\"pattern\":{\"shape\":\"\"}},\"name\":\"\",\"offsetgroup\":\"\",\"orientation\":\"v\",\"showlegend\":false,\"textposition\":\"auto\",\"x\":[\"Chicago\",\"DC\",\"Manhattan\",\"NYC\"],\"xaxis\":\"x7\",\"y\":[696.0,2115.0,464.57142857142856,716.5349544072948],\"yaxis\":\"y7\",\"type\":\"bar\"},{\"alignmentgroup\":\"True\",\"hovertemplate\":\"max_delay=300<br>duration_minutes=1.0<br>area=%{x}<br>cost_per_request=%{y}<extra></extra>\",\"legendgroup\":\"\",\"marker\":{\"color\":\"#636efa\",\"pattern\":{\"shape\":\"\"}},\"name\":\"\",\"offsetgroup\":\"\",\"orientation\":\"v\",\"showlegend\":false,\"textposition\":\"auto\",\"x\":[\"Chicago\",\"DC\",\"Manhattan\",\"NYC\"],\"xaxis\":\"x8\",\"y\":[1144.6153846153845,1705.7142857142858,434.8951048951049,628.1873111782477],\"yaxis\":\"y8\",\"type\":\"bar\"},{\"alignmentgroup\":\"True\",\"hovertemplate\":\"max_delay=300<br>duration_minutes=2.0<br>area=%{x}<br>cost_per_request=%{y}<extra></extra>\",\"legendgroup\":\"\",\"marker\":{\"color\":\"#636efa\",\"pattern\":{\"shape\":\"\"}},\"name\":\"\",\"offsetgroup\":\"\",\"orientation\":\"v\",\"showlegend\":false,\"textposition\":\"auto\",\"x\":[\"Chicago\",\"DC\",\"Manhattan\",\"NYC\"],\"xaxis\":\"x9\",\"y\":[930.0,1303.3333333333333,387.07438016528926,586.3370786516854],\"yaxis\":\"y9\",\"type\":\"bar\"},{\"alignmentgroup\":\"True\",\"hovertemplate\":\"max_delay=300<br>duration_minutes=5.0<br>area=%{x}<br>cost_per_request=%{y}<extra></extra>\",\"legendgroup\":\"\",\"marker\":{\"color\":\"#636efa\",\"pattern\":{\"shape\":\"\"}},\"name\":\"\",\"offsetgroup\":\"\",\"orientation\":\"v\",\"showlegend\":false,\"textposition\":\"auto\",\"x\":[\"Chicago\",\"DC\",\"Manhattan\",\"NYC\"],\"xaxis\":\"x10\",\"y\":[805.7142857142857,1207.7777777777778,349.65018094089265,525.9977064220184],\"yaxis\":\"y10\",\"type\":\"bar\"},{\"alignmentgroup\":\"True\",\"hovertemplate\":\"max_delay=300<br>duration_minutes=15.0<br>area=%{x}<br>cost_per_request=%{y}<extra></extra>\",\"legendgroup\":\"\",\"marker\":{\"color\":\"#636efa\",\"pattern\":{\"shape\":\"\"}},\"name\":\"\",\"offsetgroup\":\"\",\"orientation\":\"v\",\"showlegend\":false,\"textposition\":\"auto\",\"x\":[\"Chicago\",\"DC\",\"Manhattan\",\"NYC\"],\"xaxis\":\"x11\",\"y\":[679.051094890511,1089.9386503067485,299.8005085077254,466.9404750638781],\"yaxis\":\"y11\",\"type\":\"bar\"},{\"alignmentgroup\":\"True\",\"hovertemplate\":\"max_delay=300<br>duration_minutes=30.0<br>area=%{x}<br>cost_per_request=%{y}<extra></extra>\",\"legendgroup\":\"\",\"marker\":{\"color\":\"#636efa\",\"pattern\":{\"shape\":\"\"}},\"name\":\"\",\"offsetgroup\":\"\",\"orientation\":\"v\",\"showlegend\":false,\"textposition\":\"auto\",\"x\":[\"Chicago\",\"DC\",\"Manhattan\",\"NYC\"],\"xaxis\":\"x12\",\"y\":[721.2080536912752,1027.3170731707316,282.18876664736536,456.5251187562977],\"yaxis\":\"y12\",\"type\":\"bar\"},{\"alignmentgroup\":\"True\",\"hovertemplate\":\"max_delay=600<br>duration_minutes=0.5<br>area=%{x}<br>cost_per_request=%{y}<extra></extra>\",\"legendgroup\":\"\",\"marker\":{\"color\":\"#636efa\",\"pattern\":{\"shape\":\"\"}},\"name\":\"\",\"offsetgroup\":\"\",\"orientation\":\"v\",\"showlegend\":false,\"textposition\":\"auto\",\"x\":[\"Chicago\",\"DC\",\"Manhattan\",\"NYC\"],\"xaxis\":\"x\",\"y\":[624.0,2115.0,417.85714285714283,639.3920972644377],\"yaxis\":\"y\",\"type\":\"bar\"},{\"alignmentgroup\":\"True\",\"hovertemplate\":\"max_delay=600<br>duration_minutes=1.0<br>area=%{x}<br>cost_per_request=%{y}<extra></extra>\",\"legendgroup\":\"\",\"marker\":{\"color\":\"#636efa\",\"pattern\":{\"shape\":\"\"}},\"name\":\"\",\"offsetgroup\":\"\",\"orientation\":\"v\",\"showlegend\":false,\"textposition\":\"auto\",\"x\":[\"Chicago\",\"DC\",\"Manhattan\",\"NYC\"],\"xaxis\":\"x2\",\"y\":[1001.5384615384615,1525.7142857142858,392.0979020979021,566.3746223564955],\"yaxis\":\"y2\",\"type\":\"bar\"},{\"alignmentgroup\":\"True\",\"hovertemplate\":\"max_delay=600<br>duration_minutes=2.0<br>area=%{x}<br>cost_per_request=%{y}<extra></extra>\",\"legendgroup\":\"\",\"marker\":{\"color\":\"#636efa\",\"pattern\":{\"shape\":\"\"}},\"name\":\"\",\"offsetgroup\":\"\",\"orientation\":\"v\",\"showlegend\":false,\"textposition\":\"auto\",\"x\":[\"Chicago\",\"DC\",\"Manhattan\",\"NYC\"],\"xaxis\":\"x3\",\"y\":[865.7142857142857,1250.0,358.7107438016529,519.1011235955057],\"yaxis\":\"y3\",\"type\":\"bar\"},{\"alignmentgroup\":\"True\",\"hovertemplate\":\"max_delay=600<br>duration_minutes=5.0<br>area=%{x}<br>cost_per_request=%{y}<extra></extra>\",\"legendgroup\":\"\",\"marker\":{\"color\":\"#636efa\",\"pattern\":{\"shape\":\"\"}},\"name\":\"\",\"offsetgroup\":\"\",\"orientation\":\"v\",\"showlegend\":false,\"textposition\":\"auto\",\"x\":[\"Chicago\",\"DC\",\"Manhattan\",\"NYC\"],\"xaxis\":\"x4\",\"y\":[670.5494505494505,1042.2222222222222,329.4571773220748,484.5756880733945],\"yaxis\":\"y4\",\"type\":\"bar\"},{\"alignmentgroup\":\"True\",\"hovertemplate\":\"max_delay=600<br>duration_minutes=15.0<br>area=%{x}<br>cost_per_request=%{y}<extra></extra>\",\"legendgroup\":\"\",\"marker\":{\"color\":\"#636efa\",\"pattern\":{\"shape\":\"\"}},\"name\":\"\",\"offsetgroup\":\"\",\"orientation\":\"v\",\"showlegend\":false,\"textposition\":\"auto\",\"x\":[\"Chicago\",\"DC\",\"Manhattan\",\"NYC\"],\"xaxis\":\"x5\",\"y\":[595.4014598540145,902.5766871165645,287.6549970663016,432.9743541213211],\"yaxis\":\"y5\",\"type\":\"bar\"},{\"alignmentgroup\":\"True\",\"hovertemplate\":\"max_delay=600<br>duration_minutes=30.0<br>area=%{x}<br>cost_per_request=%{y}<extra></extra>\",\"legendgroup\":\"\",\"marker\":{\"color\":\"#636efa\",\"pattern\":{\"shape\":\"\"}},\"name\":\"\",\"offsetgroup\":\"\",\"orientation\":\"v\",\"showlegend\":false,\"textposition\":\"auto\",\"x\":[\"Chicago\",\"DC\",\"Manhattan\",\"NYC\"],\"xaxis\":\"x6\",\"y\":[579.9664429530201,872.7439024390244,260.2374059061957,407.71843961422195],\"yaxis\":\"y6\",\"type\":\"bar\"}],                        {\"template\":{\"data\":{\"histogram2dcontour\":[{\"type\":\"histogram2dcontour\",\"colorbar\":{\"outlinewidth\":0,\"ticks\":\"\"},\"colorscale\":[[0.0,\"#0d0887\"],[0.1111111111111111,\"#46039f\"],[0.2222222222222222,\"#7201a8\"],[0.3333333333333333,\"#9c179e\"],[0.4444444444444444,\"#bd3786\"],[0.5555555555555556,\"#d8576b\"],[0.6666666666666666,\"#ed7953\"],[0.7777777777777778,\"#fb9f3a\"],[0.8888888888888888,\"#fdca26\"],[1.0,\"#f0f921\"]]}],\"choropleth\":[{\"type\":\"choropleth\",\"colorbar\":{\"outlinewidth\":0,\"ticks\":\"\"}}],\"histogram2d\":[{\"type\":\"histogram2d\",\"colorbar\":{\"outlinewidth\":0,\"ticks\":\"\"},\"colorscale\":[[0.0,\"#0d0887\"],[0.1111111111111111,\"#46039f\"],[0.2222222222222222,\"#7201a8\"],[0.3333333333333333,\"#9c179e\"],[0.4444444444444444,\"#bd3786\"],[0.5555555555555556,\"#d8576b\"],[0.6666666666666666,\"#ed7953\"],[0.7777777777777778,\"#fb9f3a\"],[0.8888888888888888,\"#fdca26\"],[1.0,\"#f0f921\"]]}],\"heatmap\":[{\"type\":\"heatmap\",\"colorbar\":{\"outlinewidth\":0,\"ticks\":\"\"},\"colorscale\":[[0.0,\"#0d0887\"],[0.1111111111111111,\"#46039f\"],[0.2222222222222222,\"#7201a8\"],[0.3333333333333333,\"#9c179e\"],[0.4444444444444444,\"#bd3786\"],[0.5555555555555556,\"#d8576b\"],[0.6666666666666666,\"#ed7953\"],[0.7777777777777778,\"#fb9f3a\"],[0.8888888888888888,\"#fdca26\"],[1.0,\"#f0f921\"]]}],\"heatmapgl\":[{\"type\":\"heatmapgl\",\"colorbar\":{\"outlinewidth\":0,\"ticks\":\"\"},\"colorscale\":[[0.0,\"#0d0887\"],[0.1111111111111111,\"#46039f\"],[0.2222222222222222,\"#7201a8\"],[0.3333333333333333,\"#9c179e\"],[0.4444444444444444,\"#bd3786\"],[0.5555555555555556,\"#d8576b\"],[0.6666666666666666,\"#ed7953\"],[0.7777777777777778,\"#fb9f3a\"],[0.8888888888888888,\"#fdca26\"],[1.0,\"#f0f921\"]]}],\"contourcarpet\":[{\"type\":\"contourcarpet\",\"colorbar\":{\"outlinewidth\":0,\"ticks\":\"\"}}],\"contour\":[{\"type\":\"contour\",\"colorbar\":{\"outlinewidth\":0,\"ticks\":\"\"},\"colorscale\":[[0.0,\"#0d0887\"],[0.1111111111111111,\"#46039f\"],[0.2222222222222222,\"#7201a8\"],[0.3333333333333333,\"#9c179e\"],[0.4444444444444444,\"#bd3786\"],[0.5555555555555556,\"#d8576b\"],[0.6666666666666666,\"#ed7953\"],[0.7777777777777778,\"#fb9f3a\"],[0.8888888888888888,\"#fdca26\"],[1.0,\"#f0f921\"]]}],\"surface\":[{\"type\":\"surface\",\"colorbar\":{\"outlinewidth\":0,\"ticks\":\"\"},\"colorscale\":[[0.0,\"#0d0887\"],[0.1111111111111111,\"#46039f\"],[0.2222222222222222,\"#7201a8\"],[0.3333333333333333,\"#9c179e\"],[0.4444444444444444,\"#bd3786\"],[0.5555555555555556,\"#d8576b\"],[0.6666666666666666,\"#ed7953\"],[0.7777777777777778,\"#fb9f3a\"],[0.8888888888888888,\"#fdca26\"],[1.0,\"#f0f921\"]]}],\"mesh3d\":[{\"type\":\"mesh3d\",\"colorbar\":{\"outlinewidth\":0,\"ticks\":\"\"}}],\"scatter\":[{\"fillpattern\":{\"fillmode\":\"overlay\",\"size\":10,\"solidity\":0.2},\"type\":\"scatter\"}],\"parcoords\":[{\"type\":\"parcoords\",\"line\":{\"colorbar\":{\"outlinewidth\":0,\"ticks\":\"\"}}}],\"scatterpolargl\":[{\"type\":\"scatterpolargl\",\"marker\":{\"colorbar\":{\"outlinewidth\":0,\"ticks\":\"\"}}}],\"bar\":[{\"error_x\":{\"color\":\"#2a3f5f\"},\"error_y\":{\"color\":\"#2a3f5f\"},\"marker\":{\"line\":{\"color\":\"#E5ECF6\",\"width\":0.5},\"pattern\":{\"fillmode\":\"overlay\",\"size\":10,\"solidity\":0.2}},\"type\":\"bar\"}],\"scattergeo\":[{\"type\":\"scattergeo\",\"marker\":{\"colorbar\":{\"outlinewidth\":0,\"ticks\":\"\"}}}],\"scatterpolar\":[{\"type\":\"scatterpolar\",\"marker\":{\"colorbar\":{\"outlinewidth\":0,\"ticks\":\"\"}}}],\"histogram\":[{\"marker\":{\"pattern\":{\"fillmode\":\"overlay\",\"size\":10,\"solidity\":0.2}},\"type\":\"histogram\"}],\"scattergl\":[{\"type\":\"scattergl\",\"marker\":{\"colorbar\":{\"outlinewidth\":0,\"ticks\":\"\"}}}],\"scatter3d\":[{\"type\":\"scatter3d\",\"line\":{\"colorbar\":{\"outlinewidth\":0,\"ticks\":\"\"}},\"marker\":{\"colorbar\":{\"outlinewidth\":0,\"ticks\":\"\"}}}],\"scattermapbox\":[{\"type\":\"scattermapbox\",\"marker\":{\"colorbar\":{\"outlinewidth\":0,\"ticks\":\"\"}}}],\"scatterternary\":[{\"type\":\"scatterternary\",\"marker\":{\"colorbar\":{\"outlinewidth\":0,\"ticks\":\"\"}}}],\"scattercarpet\":[{\"type\":\"scattercarpet\",\"marker\":{\"colorbar\":{\"outlinewidth\":0,\"ticks\":\"\"}}}],\"carpet\":[{\"aaxis\":{\"endlinecolor\":\"#2a3f5f\",\"gridcolor\":\"white\",\"linecolor\":\"white\",\"minorgridcolor\":\"white\",\"startlinecolor\":\"#2a3f5f\"},\"baxis\":{\"endlinecolor\":\"#2a3f5f\",\"gridcolor\":\"white\",\"linecolor\":\"white\",\"minorgridcolor\":\"white\",\"startlinecolor\":\"#2a3f5f\"},\"type\":\"carpet\"}],\"table\":[{\"cells\":{\"fill\":{\"color\":\"#EBF0F8\"},\"line\":{\"color\":\"white\"}},\"header\":{\"fill\":{\"color\":\"#C8D4E3\"},\"line\":{\"color\":\"white\"}},\"type\":\"table\"}],\"barpolar\":[{\"marker\":{\"line\":{\"color\":\"#E5ECF6\",\"width\":0.5},\"pattern\":{\"fillmode\":\"overlay\",\"size\":10,\"solidity\":0.2}},\"type\":\"barpolar\"}],\"pie\":[{\"automargin\":true,\"type\":\"pie\"}]},\"layout\":{\"autotypenumbers\":\"strict\",\"colorway\":[\"#636efa\",\"#EF553B\",\"#00cc96\",\"#ab63fa\",\"#FFA15A\",\"#19d3f3\",\"#FF6692\",\"#B6E880\",\"#FF97FF\",\"#FECB52\"],\"font\":{\"color\":\"#2a3f5f\"},\"hovermode\":\"closest\",\"hoverlabel\":{\"align\":\"left\"},\"paper_bgcolor\":\"white\",\"plot_bgcolor\":\"#E5ECF6\",\"polar\":{\"bgcolor\":\"#E5ECF6\",\"angularaxis\":{\"gridcolor\":\"white\",\"linecolor\":\"white\",\"ticks\":\"\"},\"radialaxis\":{\"gridcolor\":\"white\",\"linecolor\":\"white\",\"ticks\":\"\"}},\"ternary\":{\"bgcolor\":\"#E5ECF6\",\"aaxis\":{\"gridcolor\":\"white\",\"linecolor\":\"white\",\"ticks\":\"\"},\"baxis\":{\"gridcolor\":\"white\",\"linecolor\":\"white\",\"ticks\":\"\"},\"caxis\":{\"gridcolor\":\"white\",\"linecolor\":\"white\",\"ticks\":\"\"}},\"coloraxis\":{\"colorbar\":{\"outlinewidth\":0,\"ticks\":\"\"}},\"colorscale\":{\"sequential\":[[0.0,\"#0d0887\"],[0.1111111111111111,\"#46039f\"],[0.2222222222222222,\"#7201a8\"],[0.3333333333333333,\"#9c179e\"],[0.4444444444444444,\"#bd3786\"],[0.5555555555555556,\"#d8576b\"],[0.6666666666666666,\"#ed7953\"],[0.7777777777777778,\"#fb9f3a\"],[0.8888888888888888,\"#fdca26\"],[1.0,\"#f0f921\"]],\"sequentialminus\":[[0.0,\"#0d0887\"],[0.1111111111111111,\"#46039f\"],[0.2222222222222222,\"#7201a8\"],[0.3333333333333333,\"#9c179e\"],[0.4444444444444444,\"#bd3786\"],[0.5555555555555556,\"#d8576b\"],[0.6666666666666666,\"#ed7953\"],[0.7777777777777778,\"#fb9f3a\"],[0.8888888888888888,\"#fdca26\"],[1.0,\"#f0f921\"]],\"diverging\":[[0,\"#8e0152\"],[0.1,\"#c51b7d\"],[0.2,\"#de77ae\"],[0.3,\"#f1b6da\"],[0.4,\"#fde0ef\"],[0.5,\"#f7f7f7\"],[0.6,\"#e6f5d0\"],[0.7,\"#b8e186\"],[0.8,\"#7fbc41\"],[0.9,\"#4d9221\"],[1,\"#276419\"]]},\"xaxis\":{\"gridcolor\":\"white\",\"linecolor\":\"white\",\"ticks\":\"\",\"title\":{\"standoff\":15},\"zerolinecolor\":\"white\",\"automargin\":true,\"zerolinewidth\":2},\"yaxis\":{\"gridcolor\":\"white\",\"linecolor\":\"white\",\"ticks\":\"\",\"title\":{\"standoff\":15},\"zerolinecolor\":\"white\",\"automargin\":true,\"zerolinewidth\":2},\"scene\":{\"xaxis\":{\"backgroundcolor\":\"#E5ECF6\",\"gridcolor\":\"white\",\"linecolor\":\"white\",\"showbackground\":true,\"ticks\":\"\",\"zerolinecolor\":\"white\",\"gridwidth\":2},\"yaxis\":{\"backgroundcolor\":\"#E5ECF6\",\"gridcolor\":\"white\",\"linecolor\":\"white\",\"showbackground\":true,\"ticks\":\"\",\"zerolinecolor\":\"white\",\"gridwidth\":2},\"zaxis\":{\"backgroundcolor\":\"#E5ECF6\",\"gridcolor\":\"white\",\"linecolor\":\"white\",\"showbackground\":true,\"ticks\":\"\",\"zerolinecolor\":\"white\",\"gridwidth\":2}},\"shapedefaults\":{\"line\":{\"color\":\"#2a3f5f\"}},\"annotationdefaults\":{\"arrowcolor\":\"#2a3f5f\",\"arrowhead\":0,\"arrowwidth\":1},\"geo\":{\"bgcolor\":\"white\",\"landcolor\":\"#E5ECF6\",\"subunitcolor\":\"white\",\"showland\":true,\"showlakes\":true,\"lakecolor\":\"white\"},\"title\":{\"x\":0.05},\"mapbox\":{\"style\":\"light\"}}},\"xaxis\":{\"anchor\":\"y\",\"domain\":[0.0,0.14666666666666667],\"title\":{\"text\":\"\"}},\"yaxis\":{\"anchor\":\"x\",\"domain\":[0.0,0.3133333333333333],\"title\":{\"text\":\"\"}},\"xaxis2\":{\"anchor\":\"y2\",\"domain\":[0.16666666666666666,0.31333333333333335],\"matches\":\"x\",\"title\":{\"text\":\"\"}},\"yaxis2\":{\"anchor\":\"x2\",\"domain\":[0.0,0.3133333333333333],\"matches\":\"y\",\"showticklabels\":false,\"title\":{\"text\":\"\"}},\"xaxis3\":{\"anchor\":\"y3\",\"domain\":[0.3333333333333333,0.48],\"matches\":\"x\",\"title\":{\"text\":\"\"}},\"yaxis3\":{\"anchor\":\"x3\",\"domain\":[0.0,0.3133333333333333],\"matches\":\"y\",\"showticklabels\":false,\"title\":{\"text\":\"\"}},\"xaxis4\":{\"anchor\":\"y4\",\"domain\":[0.5,0.6466666666666667],\"matches\":\"x\",\"title\":{\"text\":\"\"}},\"yaxis4\":{\"anchor\":\"x4\",\"domain\":[0.0,0.3133333333333333],\"matches\":\"y\",\"showticklabels\":false,\"title\":{\"text\":\"\"}},\"xaxis5\":{\"anchor\":\"y5\",\"domain\":[0.6666666666666666,0.8133333333333332],\"matches\":\"x\",\"title\":{\"text\":\"\"}},\"yaxis5\":{\"anchor\":\"x5\",\"domain\":[0.0,0.3133333333333333],\"matches\":\"y\",\"showticklabels\":false,\"title\":{\"text\":\"\"}},\"xaxis6\":{\"anchor\":\"y6\",\"domain\":[0.8333333333333334,0.98],\"matches\":\"x\",\"title\":{\"text\":\"\"}},\"yaxis6\":{\"anchor\":\"x6\",\"domain\":[0.0,0.3133333333333333],\"matches\":\"y\",\"showticklabels\":false,\"title\":{\"text\":\"\"}},\"xaxis7\":{\"anchor\":\"y7\",\"domain\":[0.0,0.14666666666666667],\"matches\":\"x\",\"showticklabels\":false,\"title\":{\"text\":\"\"}},\"yaxis7\":{\"anchor\":\"x7\",\"domain\":[0.34333333333333327,0.6566666666666665],\"matches\":\"y\",\"title\":{\"text\":\"\"}},\"xaxis8\":{\"anchor\":\"y8\",\"domain\":[0.16666666666666666,0.31333333333333335],\"matches\":\"x\",\"showticklabels\":false,\"title\":{\"text\":\"\"}},\"yaxis8\":{\"anchor\":\"x8\",\"domain\":[0.34333333333333327,0.6566666666666665],\"matches\":\"y\",\"showticklabels\":false,\"title\":{\"text\":\"\"}},\"xaxis9\":{\"anchor\":\"y9\",\"domain\":[0.3333333333333333,0.48],\"matches\":\"x\",\"showticklabels\":false,\"title\":{\"text\":\"\"}},\"yaxis9\":{\"anchor\":\"x9\",\"domain\":[0.34333333333333327,0.6566666666666665],\"matches\":\"y\",\"showticklabels\":false,\"title\":{\"text\":\"\"}},\"xaxis10\":{\"anchor\":\"y10\",\"domain\":[0.5,0.6466666666666667],\"matches\":\"x\",\"showticklabels\":false,\"title\":{\"text\":\"\"}},\"yaxis10\":{\"anchor\":\"x10\",\"domain\":[0.34333333333333327,0.6566666666666665],\"matches\":\"y\",\"showticklabels\":false,\"title\":{\"text\":\"\"}},\"xaxis11\":{\"anchor\":\"y11\",\"domain\":[0.6666666666666666,0.8133333333333332],\"matches\":\"x\",\"showticklabels\":false,\"title\":{\"text\":\"\"}},\"yaxis11\":{\"anchor\":\"x11\",\"domain\":[0.34333333333333327,0.6566666666666665],\"matches\":\"y\",\"showticklabels\":false,\"title\":{\"text\":\"\"}},\"xaxis12\":{\"anchor\":\"y12\",\"domain\":[0.8333333333333334,0.98],\"matches\":\"x\",\"showticklabels\":false,\"title\":{\"text\":\"\"}},\"yaxis12\":{\"anchor\":\"x12\",\"domain\":[0.34333333333333327,0.6566666666666665],\"matches\":\"y\",\"showticklabels\":false,\"title\":{\"text\":\"\"}},\"xaxis13\":{\"anchor\":\"y13\",\"domain\":[0.0,0.14666666666666667],\"matches\":\"x\",\"showticklabels\":false,\"title\":{\"text\":\"\"}},\"yaxis13\":{\"anchor\":\"x13\",\"domain\":[0.6866666666666665,0.9999999999999998],\"matches\":\"y\",\"title\":{\"text\":\"\"}},\"xaxis14\":{\"anchor\":\"y14\",\"domain\":[0.16666666666666666,0.31333333333333335],\"matches\":\"x\",\"showticklabels\":false,\"title\":{\"text\":\"\"}},\"yaxis14\":{\"anchor\":\"x14\",\"domain\":[0.6866666666666665,0.9999999999999998],\"matches\":\"y\",\"showticklabels\":false,\"title\":{\"text\":\"\"}},\"xaxis15\":{\"anchor\":\"y15\",\"domain\":[0.3333333333333333,0.48],\"matches\":\"x\",\"showticklabels\":false,\"title\":{\"text\":\"\"}},\"yaxis15\":{\"anchor\":\"x15\",\"domain\":[0.6866666666666665,0.9999999999999998],\"matches\":\"y\",\"showticklabels\":false,\"title\":{\"text\":\"\"}},\"xaxis16\":{\"anchor\":\"y16\",\"domain\":[0.5,0.6466666666666667],\"matches\":\"x\",\"showticklabels\":false,\"title\":{\"text\":\"\"}},\"yaxis16\":{\"anchor\":\"x16\",\"domain\":[0.6866666666666665,0.9999999999999998],\"matches\":\"y\",\"showticklabels\":false,\"title\":{\"text\":\"\"}},\"xaxis17\":{\"anchor\":\"y17\",\"domain\":[0.6666666666666666,0.8133333333333332],\"matches\":\"x\",\"showticklabels\":false,\"title\":{\"text\":\"\"}},\"yaxis17\":{\"anchor\":\"x17\",\"domain\":[0.6866666666666665,0.9999999999999998],\"matches\":\"y\",\"showticklabels\":false,\"title\":{\"text\":\"\"}},\"xaxis18\":{\"anchor\":\"y18\",\"domain\":[0.8333333333333334,0.98],\"matches\":\"x\",\"showticklabels\":false,\"title\":{\"text\":\"\"}},\"yaxis18\":{\"anchor\":\"x18\",\"domain\":[0.6866666666666665,0.9999999999999998],\"matches\":\"y\",\"showticklabels\":false,\"title\":{\"text\":\"\"}},\"annotations\":[{\"showarrow\":false,\"text\":\"0.5\",\"x\":0.07333333333333333,\"xanchor\":\"center\",\"xref\":\"paper\",\"y\":0.9999999999999998,\"yanchor\":\"bottom\",\"yref\":\"paper\"},{\"showarrow\":false,\"text\":\"1.0\",\"x\":0.24,\"xanchor\":\"center\",\"xref\":\"paper\",\"y\":0.9999999999999998,\"yanchor\":\"bottom\",\"yref\":\"paper\"},{\"showarrow\":false,\"text\":\"2.0\",\"x\":0.4066666666666666,\"xanchor\":\"center\",\"xref\":\"paper\",\"y\":0.9999999999999998,\"yanchor\":\"bottom\",\"yref\":\"paper\"},{\"showarrow\":false,\"text\":\"5.0\",\"x\":0.5733333333333334,\"xanchor\":\"center\",\"xref\":\"paper\",\"y\":0.9999999999999998,\"yanchor\":\"bottom\",\"yref\":\"paper\"},{\"showarrow\":false,\"text\":\"15.0\",\"x\":0.74,\"xanchor\":\"center\",\"xref\":\"paper\",\"y\":0.9999999999999998,\"yanchor\":\"bottom\",\"yref\":\"paper\"},{\"showarrow\":false,\"text\":\"30.0\",\"x\":0.9066666666666667,\"xanchor\":\"center\",\"xref\":\"paper\",\"y\":0.9999999999999998,\"yanchor\":\"bottom\",\"yref\":\"paper\"},{\"showarrow\":false,\"text\":\"600\",\"textangle\":90,\"x\":0.98,\"xanchor\":\"left\",\"xref\":\"paper\",\"y\":0.15666666666666665,\"yanchor\":\"middle\",\"yref\":\"paper\"},{\"showarrow\":false,\"text\":\"300\",\"textangle\":90,\"x\":0.98,\"xanchor\":\"left\",\"xref\":\"paper\",\"y\":0.4999999999999999,\"yanchor\":\"middle\",\"yref\":\"paper\"},{\"showarrow\":false,\"text\":\"180\",\"textangle\":90,\"x\":0.98,\"xanchor\":\"left\",\"xref\":\"paper\",\"y\":0.8433333333333332,\"yanchor\":\"middle\",\"yref\":\"paper\"},{\"showarrow\":false,\"text\":\"travel time per request [s]\",\"textangle\":-90,\"x\":-0.06,\"xref\":\"paper\",\"y\":0.5,\"yref\":\"paper\"},{\"showarrow\":false,\"text\":\"instance length [min]\",\"x\":0.5,\"xref\":\"paper\",\"y\":1.15,\"yref\":\"paper\"},{\"showarrow\":false,\"text\":\"maximum delay [s]\",\"textangle\":90,\"x\":1.02,\"xref\":\"paper\",\"y\":0.5,\"yref\":\"paper\"}],\"legend\":{\"tracegroupgap\":0},\"title\":{\"text\":\"Average Cost per Request\"},\"barmode\":\"group\"},                        {\"responsive\": true}                    ).then(function(){\n                            \nvar gd = document.getElementById('3828302c-4282-45f9-b905-b22f10ae786e');\nvar x = new MutationObserver(function (mutations, observer) {{\n        var display = window.getComputedStyle(gd).display;\n        if (!display || display === 'none') {{\n            console.log([gd, 'removed!']);\n            Plotly.purge(gd);\n            observer.disconnect();\n        }}\n}});\n\n// Listen for the removal of the full notebook cells\nvar notebookContainer = gd.closest('#notebook-container');\nif (notebookContainer) {{\n    x.observe(notebookContainer, {childList: true});\n}}\n\n// Listen for the clearing of the current output cell\nvar outputEl = gd.closest('.output');\nif (outputEl) {{\n    x.observe(outputEl, {childList: true});\n}}\n\n                        })                };                });            </script>        </div>"
     },
     "metadata": {},
     "output_type": "display_data"
    }
   ],
   "source": [
    "dfih = df[df['method'] == 'ih']\n",
    "fig = px.bar(\n",
    "    dfih,\n",
    "    x = 'area',\n",
    "    y = 'cost_per_request',\n",
    "    barmode='group',\n",
    "    title = 'Average Cost per Request',\n",
    "    facet_col='duration_minutes',\n",
    "    facet_row='max_delay'\n",
    ")\n",
    "\n",
    "# shared axes titles\n",
    "fig.for_each_yaxis(lambda y: y.update(title = ''))\n",
    "fig.add_annotation(x=-0.06, y=0.5, text=\"travel time per request [s]\", textangle=-90, xref=\"paper\", yref=\"paper\", showarrow=False)\n",
    "fig.for_each_xaxis(lambda y: y.update(title = ''))\n",
    "\n",
    "# faceting annotations\n",
    "fig.add_annotation(x=0.5, y=1.15, text=\"instance length [min]\",  xref=\"paper\", yref=\"paper\", showarrow=False)\n",
    "fig.add_annotation(x=1.02, y=0.5, text=\"maximum delay [s]\",  xref=\"paper\", yref=\"paper\", showarrow=False, textangle=90)\n",
    "\n",
    "# faceting label editing\n",
    "fig.for_each_annotation(lambda a: a.update(text=a.text.split(\"=\")[-1]))\n",
    "\n",
    "fig.show()"
   ],
   "metadata": {
    "collapsed": false,
    "ExecuteTime": {
     "end_time": "2023-05-17T09:52:34.121999800Z",
     "start_time": "2023-05-17T09:52:33.944971900Z"
    }
   }
  },
  {
   "cell_type": "markdown",
   "source": [
    "## IH and VGA all instances"
   ],
   "metadata": {
    "collapsed": false
   }
  },
  {
   "cell_type": "code",
   "execution_count": 117,
   "outputs": [],
   "source": [
    "def plot_main_result(width: int, height: int) -> go.Figure:\n",
    "    fig = px.bar(\n",
    "        df,\n",
    "        x = 'area',\n",
    "        y = 'cost_per_request',\n",
    "        barmode='group',\n",
    "        # title = 'Average Cost per Request',\n",
    "        facet_col='duration_minutes',\n",
    "        facet_row='max_delay',\n",
    "        color='method',\n",
    "        width=width,\n",
    "        height=height\n",
    "    )\n",
    "\n",
    "    # shared axes titles\n",
    "    fig.for_each_yaxis(lambda y: y.update(title = ''))\n",
    "    fig.add_annotation(x=-0.06, y=0.5, text=\"travel time per request [s]\", textangle=-90, xref=\"paper\", yref=\"paper\", showarrow=False)\n",
    "    fig.for_each_xaxis(lambda y: y.update(title = ''))\n",
    "\n",
    "\n",
    "\n",
    "    # faceting annotations\n",
    "    duration_annotation_y = 1 + 0.08 * 600 / height\n",
    "    fig.add_annotation(x=0.5, y=duration_annotation_y, text=\"instance length [min]\",  xref=\"paper\", yref=\"paper\", showarrow=False)\n",
    "    fig.add_annotation(x=1.02, y=0.5, text=\"maximum delay [s]\",  xref=\"paper\", yref=\"paper\", showarrow=False, textangle=90)\n",
    "\n",
    "    # faceting label editing\n",
    "    fig.for_each_annotation(lambda a: a.update(text=a.text.split(\"=\")[-1]))\n",
    "\n",
    "    # legend editing\n",
    "    legend_y = 1 + 0.04 * 600 / height\n",
    "    fig.update_layout(legend=dict(\n",
    "        orientation=\"h\",\n",
    "        yanchor=\"bottom\",\n",
    "        y=legend_y,\n",
    "        xanchor=\"right\",\n",
    "        x=1,\n",
    "        bordercolor=\"Black\",\n",
    "        borderwidth=1,\n",
    "        tracegroupgap=0\n",
    "    ))\n",
    "\n",
    "    # set margins\n",
    "    fig.update_layout(margin=dict(l=0, r=0, t=0, b=0, pad=0))\n",
    "\n",
    "    # fig.update_xaxes(automargin=True)\n",
    "    # fig.update_yaxes(automargin=True)\n",
    "\n",
    "    fig.show()\n",
    "\n",
    "    return fig"
   ],
   "metadata": {
    "collapsed": false,
    "ExecuteTime": {
     "end_time": "2023-05-17T15:03:08.281934Z",
     "start_time": "2023-05-17T15:03:08.265934100Z"
    }
   }
  },
  {
   "cell_type": "code",
   "execution_count": 118,
   "outputs": [
    {
     "data": {
      "application/vnd.plotly.v1+json": {
       "data": [
        {
         "alignmentgroup": "True",
         "hovertemplate": "method=ih<br>max_delay=180<br>duration_minutes=0.5<br>area=%{x}<br>cost_per_request=%{y}<extra></extra>",
         "legendgroup": "ih",
         "marker": {
          "color": "#636efa",
          "pattern": {
           "shape": ""
          }
         },
         "name": "ih",
         "offsetgroup": "ih",
         "orientation": "v",
         "showlegend": true,
         "textposition": "auto",
         "x": [
          "Chicago",
          "DC",
          "Manhattan",
          "NYC"
         ],
         "xaxis": "x13",
         "y": [
          1008.0,
          2115.0,
          498.42857142857144,
          823.7689969604863
         ],
         "yaxis": "y13",
         "type": "bar"
        },
        {
         "alignmentgroup": "True",
         "hovertemplate": "method=ih<br>max_delay=180<br>duration_minutes=1.0<br>area=%{x}<br>cost_per_request=%{y}<extra></extra>",
         "legendgroup": "ih",
         "marker": {
          "color": "#636efa",
          "pattern": {
           "shape": ""
          }
         },
         "name": "ih",
         "offsetgroup": "ih",
         "orientation": "v",
         "showlegend": false,
         "textposition": "auto",
         "x": [
          "Chicago",
          "DC",
          "Manhattan",
          "NYC"
         ],
         "xaxis": "x14",
         "y": [
          1153.8461538461538,
          1705.7142857142858,
          488.8111888111888,
          710.4833836858006
         ],
         "yaxis": "y14",
         "type": "bar"
        },
        {
         "alignmentgroup": "True",
         "hovertemplate": "method=ih<br>max_delay=180<br>duration_minutes=2.0<br>area=%{x}<br>cost_per_request=%{y}<extra></extra>",
         "legendgroup": "ih",
         "marker": {
          "color": "#636efa",
          "pattern": {
           "shape": ""
          }
         },
         "name": "ih",
         "offsetgroup": "ih",
         "orientation": "v",
         "showlegend": false,
         "textposition": "auto",
         "x": [
          "Chicago",
          "DC",
          "Manhattan",
          "NYC"
         ],
         "xaxis": "x15",
         "y": [
          949.2857142857143,
          1320.0,
          433.1900826446281,
          685.7528089887641
         ],
         "yaxis": "y15",
         "type": "bar"
        },
        {
         "alignmentgroup": "True",
         "hovertemplate": "method=ih<br>max_delay=180<br>duration_minutes=5.0<br>area=%{x}<br>cost_per_request=%{y}<extra></extra>",
         "legendgroup": "ih",
         "marker": {
          "color": "#636efa",
          "pattern": {
           "shape": ""
          }
         },
         "name": "ih",
         "offsetgroup": "ih",
         "orientation": "v",
         "showlegend": false,
         "textposition": "auto",
         "x": [
          "Chicago",
          "DC",
          "Manhattan",
          "NYC"
         ],
         "xaxis": "x16",
         "y": [
          954.065934065934,
          1334.4444444444443,
          378.45597104945716,
          597.1616972477065
         ],
         "yaxis": "y16",
         "type": "bar"
        },
        {
         "alignmentgroup": "True",
         "hovertemplate": "method=ih<br>max_delay=180<br>duration_minutes=15.0<br>area=%{x}<br>cost_per_request=%{y}<extra></extra>",
         "legendgroup": "ih",
         "marker": {
          "color": "#636efa",
          "pattern": {
           "shape": ""
          }
         },
         "name": "ih",
         "offsetgroup": "ih",
         "orientation": "v",
         "showlegend": false,
         "textposition": "auto",
         "x": [
          "Chicago",
          "DC",
          "Manhattan",
          "NYC"
         ],
         "xaxis": "x17",
         "y": [
          792.043795620438,
          1266.993865030675,
          333.84314492470173,
          534.2083845935459
         ],
         "yaxis": "y17",
         "type": "bar"
        },
        {
         "alignmentgroup": "True",
         "hovertemplate": "method=ih<br>max_delay=180<br>duration_minutes=30.0<br>area=%{x}<br>cost_per_request=%{y}<extra></extra>",
         "legendgroup": "ih",
         "marker": {
          "color": "#636efa",
          "pattern": {
           "shape": ""
          }
         },
         "name": "ih",
         "offsetgroup": "ih",
         "orientation": "v",
         "showlegend": false,
         "textposition": "auto",
         "x": [
          "Chicago",
          "DC",
          "Manhattan",
          "NYC"
         ],
         "xaxis": "x18",
         "y": [
          863.7583892617449,
          1169.0853658536585,
          320.48639258830343,
          527.6579818626745
         ],
         "yaxis": "y18",
         "type": "bar"
        },
        {
         "alignmentgroup": "True",
         "hovertemplate": "method=ih<br>max_delay=300<br>duration_minutes=0.5<br>area=%{x}<br>cost_per_request=%{y}<extra></extra>",
         "legendgroup": "ih",
         "marker": {
          "color": "#636efa",
          "pattern": {
           "shape": ""
          }
         },
         "name": "ih",
         "offsetgroup": "ih",
         "orientation": "v",
         "showlegend": false,
         "textposition": "auto",
         "x": [
          "Chicago",
          "DC",
          "Manhattan",
          "NYC"
         ],
         "xaxis": "x7",
         "y": [
          696.0,
          2115.0,
          464.57142857142856,
          716.5349544072948
         ],
         "yaxis": "y7",
         "type": "bar"
        },
        {
         "alignmentgroup": "True",
         "hovertemplate": "method=ih<br>max_delay=300<br>duration_minutes=1.0<br>area=%{x}<br>cost_per_request=%{y}<extra></extra>",
         "legendgroup": "ih",
         "marker": {
          "color": "#636efa",
          "pattern": {
           "shape": ""
          }
         },
         "name": "ih",
         "offsetgroup": "ih",
         "orientation": "v",
         "showlegend": false,
         "textposition": "auto",
         "x": [
          "Chicago",
          "DC",
          "Manhattan",
          "NYC"
         ],
         "xaxis": "x8",
         "y": [
          1144.6153846153845,
          1705.7142857142858,
          434.8951048951049,
          628.1873111782477
         ],
         "yaxis": "y8",
         "type": "bar"
        },
        {
         "alignmentgroup": "True",
         "hovertemplate": "method=ih<br>max_delay=300<br>duration_minutes=2.0<br>area=%{x}<br>cost_per_request=%{y}<extra></extra>",
         "legendgroup": "ih",
         "marker": {
          "color": "#636efa",
          "pattern": {
           "shape": ""
          }
         },
         "name": "ih",
         "offsetgroup": "ih",
         "orientation": "v",
         "showlegend": false,
         "textposition": "auto",
         "x": [
          "Chicago",
          "DC",
          "Manhattan",
          "NYC"
         ],
         "xaxis": "x9",
         "y": [
          930.0,
          1303.3333333333333,
          387.07438016528926,
          586.3370786516854
         ],
         "yaxis": "y9",
         "type": "bar"
        },
        {
         "alignmentgroup": "True",
         "hovertemplate": "method=ih<br>max_delay=300<br>duration_minutes=5.0<br>area=%{x}<br>cost_per_request=%{y}<extra></extra>",
         "legendgroup": "ih",
         "marker": {
          "color": "#636efa",
          "pattern": {
           "shape": ""
          }
         },
         "name": "ih",
         "offsetgroup": "ih",
         "orientation": "v",
         "showlegend": false,
         "textposition": "auto",
         "x": [
          "Chicago",
          "DC",
          "Manhattan",
          "NYC"
         ],
         "xaxis": "x10",
         "y": [
          805.7142857142857,
          1207.7777777777778,
          349.65018094089265,
          525.9977064220184
         ],
         "yaxis": "y10",
         "type": "bar"
        },
        {
         "alignmentgroup": "True",
         "hovertemplate": "method=ih<br>max_delay=300<br>duration_minutes=15.0<br>area=%{x}<br>cost_per_request=%{y}<extra></extra>",
         "legendgroup": "ih",
         "marker": {
          "color": "#636efa",
          "pattern": {
           "shape": ""
          }
         },
         "name": "ih",
         "offsetgroup": "ih",
         "orientation": "v",
         "showlegend": false,
         "textposition": "auto",
         "x": [
          "Chicago",
          "DC",
          "Manhattan",
          "NYC"
         ],
         "xaxis": "x11",
         "y": [
          679.051094890511,
          1089.9386503067485,
          299.8005085077254,
          466.9404750638781
         ],
         "yaxis": "y11",
         "type": "bar"
        },
        {
         "alignmentgroup": "True",
         "hovertemplate": "method=ih<br>max_delay=300<br>duration_minutes=30.0<br>area=%{x}<br>cost_per_request=%{y}<extra></extra>",
         "legendgroup": "ih",
         "marker": {
          "color": "#636efa",
          "pattern": {
           "shape": ""
          }
         },
         "name": "ih",
         "offsetgroup": "ih",
         "orientation": "v",
         "showlegend": false,
         "textposition": "auto",
         "x": [
          "Chicago",
          "DC",
          "Manhattan",
          "NYC"
         ],
         "xaxis": "x12",
         "y": [
          721.2080536912752,
          1027.3170731707316,
          282.18876664736536,
          456.5251187562977
         ],
         "yaxis": "y12",
         "type": "bar"
        },
        {
         "alignmentgroup": "True",
         "hovertemplate": "method=ih<br>max_delay=600<br>duration_minutes=0.5<br>area=%{x}<br>cost_per_request=%{y}<extra></extra>",
         "legendgroup": "ih",
         "marker": {
          "color": "#636efa",
          "pattern": {
           "shape": ""
          }
         },
         "name": "ih",
         "offsetgroup": "ih",
         "orientation": "v",
         "showlegend": false,
         "textposition": "auto",
         "x": [
          "Chicago",
          "DC",
          "Manhattan",
          "NYC"
         ],
         "xaxis": "x",
         "y": [
          624.0,
          2115.0,
          417.85714285714283,
          639.3920972644377
         ],
         "yaxis": "y",
         "type": "bar"
        },
        {
         "alignmentgroup": "True",
         "hovertemplate": "method=ih<br>max_delay=600<br>duration_minutes=1.0<br>area=%{x}<br>cost_per_request=%{y}<extra></extra>",
         "legendgroup": "ih",
         "marker": {
          "color": "#636efa",
          "pattern": {
           "shape": ""
          }
         },
         "name": "ih",
         "offsetgroup": "ih",
         "orientation": "v",
         "showlegend": false,
         "textposition": "auto",
         "x": [
          "Chicago",
          "DC",
          "Manhattan",
          "NYC"
         ],
         "xaxis": "x2",
         "y": [
          1001.5384615384615,
          1525.7142857142858,
          392.0979020979021,
          566.3746223564955
         ],
         "yaxis": "y2",
         "type": "bar"
        },
        {
         "alignmentgroup": "True",
         "hovertemplate": "method=ih<br>max_delay=600<br>duration_minutes=2.0<br>area=%{x}<br>cost_per_request=%{y}<extra></extra>",
         "legendgroup": "ih",
         "marker": {
          "color": "#636efa",
          "pattern": {
           "shape": ""
          }
         },
         "name": "ih",
         "offsetgroup": "ih",
         "orientation": "v",
         "showlegend": false,
         "textposition": "auto",
         "x": [
          "Chicago",
          "DC",
          "Manhattan",
          "NYC"
         ],
         "xaxis": "x3",
         "y": [
          865.7142857142857,
          1250.0,
          358.7107438016529,
          519.1011235955057
         ],
         "yaxis": "y3",
         "type": "bar"
        },
        {
         "alignmentgroup": "True",
         "hovertemplate": "method=ih<br>max_delay=600<br>duration_minutes=5.0<br>area=%{x}<br>cost_per_request=%{y}<extra></extra>",
         "legendgroup": "ih",
         "marker": {
          "color": "#636efa",
          "pattern": {
           "shape": ""
          }
         },
         "name": "ih",
         "offsetgroup": "ih",
         "orientation": "v",
         "showlegend": false,
         "textposition": "auto",
         "x": [
          "Chicago",
          "DC",
          "Manhattan",
          "NYC"
         ],
         "xaxis": "x4",
         "y": [
          670.5494505494505,
          1042.2222222222222,
          329.4571773220748,
          484.5756880733945
         ],
         "yaxis": "y4",
         "type": "bar"
        },
        {
         "alignmentgroup": "True",
         "hovertemplate": "method=ih<br>max_delay=600<br>duration_minutes=15.0<br>area=%{x}<br>cost_per_request=%{y}<extra></extra>",
         "legendgroup": "ih",
         "marker": {
          "color": "#636efa",
          "pattern": {
           "shape": ""
          }
         },
         "name": "ih",
         "offsetgroup": "ih",
         "orientation": "v",
         "showlegend": false,
         "textposition": "auto",
         "x": [
          "Chicago",
          "DC",
          "Manhattan",
          "NYC"
         ],
         "xaxis": "x5",
         "y": [
          595.4014598540145,
          902.5766871165645,
          287.6549970663016,
          432.9743541213211
         ],
         "yaxis": "y5",
         "type": "bar"
        },
        {
         "alignmentgroup": "True",
         "hovertemplate": "method=ih<br>max_delay=600<br>duration_minutes=30.0<br>area=%{x}<br>cost_per_request=%{y}<extra></extra>",
         "legendgroup": "ih",
         "marker": {
          "color": "#636efa",
          "pattern": {
           "shape": ""
          }
         },
         "name": "ih",
         "offsetgroup": "ih",
         "orientation": "v",
         "showlegend": false,
         "textposition": "auto",
         "x": [
          "Chicago",
          "DC",
          "Manhattan",
          "NYC"
         ],
         "xaxis": "x6",
         "y": [
          579.9664429530201,
          872.7439024390244,
          260.2374059061957,
          407.71843961422195
         ],
         "yaxis": "y6",
         "type": "bar"
        },
        {
         "alignmentgroup": "True",
         "hovertemplate": "method=vga<br>max_delay=180<br>duration_minutes=0.5<br>area=%{x}<br>cost_per_request=%{y}<extra></extra>",
         "legendgroup": "vga",
         "marker": {
          "color": "#EF553B",
          "pattern": {
           "shape": ""
          }
         },
         "name": "vga",
         "offsetgroup": "vga",
         "orientation": "v",
         "showlegend": true,
         "textposition": "auto",
         "x": [
          "Chicago",
          "DC",
          "Manhattan",
          "NYC"
         ],
         "xaxis": "x13",
         "y": [
          900.0,
          2115.0,
          469.7142857142857,
          774.7112462006079
         ],
         "yaxis": "y13",
         "type": "bar"
        },
        {
         "alignmentgroup": "True",
         "hovertemplate": "method=vga<br>max_delay=180<br>duration_minutes=1.0<br>area=%{x}<br>cost_per_request=%{y}<extra></extra>",
         "legendgroup": "vga",
         "marker": {
          "color": "#EF553B",
          "pattern": {
           "shape": ""
          }
         },
         "name": "vga",
         "offsetgroup": "vga",
         "orientation": "v",
         "showlegend": false,
         "textposition": "auto",
         "x": [
          "Chicago",
          "DC",
          "Manhattan",
          "NYC"
         ],
         "xaxis": "x14",
         "y": [
          1144.6153846153845,
          1705.7142857142858,
          424.4055944055944,
          668.8821752265861
         ],
         "yaxis": "y14",
         "type": "bar"
        },
        {
         "alignmentgroup": "True",
         "hovertemplate": "method=vga<br>max_delay=180<br>duration_minutes=2.0<br>area=%{x}<br>cost_per_request=%{y}<extra></extra>",
         "legendgroup": "vga",
         "marker": {
          "color": "#EF553B",
          "pattern": {
           "shape": ""
          }
         },
         "name": "vga",
         "offsetgroup": "vga",
         "orientation": "v",
         "showlegend": false,
         "textposition": "auto",
         "x": [
          "Chicago",
          "DC",
          "Manhattan",
          "NYC"
         ],
         "xaxis": "x15",
         "y": [
          919.2857142857143,
          1303.3333333333333,
          357.6198347107438,
          614.1123595505618
         ],
         "yaxis": "y15",
         "type": "bar"
        },
        {
         "alignmentgroup": "True",
         "hovertemplate": "method=vga<br>max_delay=180<br>duration_minutes=5.0<br>area=%{x}<br>cost_per_request=%{y}<extra></extra>",
         "legendgroup": "vga",
         "marker": {
          "color": "#EF553B",
          "pattern": {
           "shape": ""
          }
         },
         "name": "vga",
         "offsetgroup": "vga",
         "orientation": "v",
         "showlegend": false,
         "textposition": "auto",
         "x": [
          "Chicago",
          "DC"
         ],
         "xaxis": "x16",
         "y": [
          867.6923076923077,
          1314.4444444444443
         ],
         "yaxis": "y16",
         "type": "bar"
        },
        {
         "alignmentgroup": "True",
         "hovertemplate": "method=vga<br>max_delay=180<br>duration_minutes=15.0<br>area=%{x}<br>cost_per_request=%{y}<extra></extra>",
         "legendgroup": "vga",
         "marker": {
          "color": "#EF553B",
          "pattern": {
           "shape": ""
          }
         },
         "name": "vga",
         "offsetgroup": "vga",
         "orientation": "v",
         "showlegend": false,
         "textposition": "auto",
         "x": [
          "DC"
         ],
         "xaxis": "x17",
         "y": [
          1205.8895705521472
         ],
         "yaxis": "y17",
         "type": "bar"
        },
        {
         "alignmentgroup": "True",
         "hovertemplate": "method=vga<br>max_delay=180<br>duration_minutes=30.0<br>area=%{x}<br>cost_per_request=%{y}<extra></extra>",
         "legendgroup": "vga",
         "marker": {
          "color": "#EF553B",
          "pattern": {
           "shape": ""
          }
         },
         "name": "vga",
         "offsetgroup": "vga",
         "orientation": "v",
         "showlegend": false,
         "textposition": "auto",
         "x": [
          "DC"
         ],
         "xaxis": "x18",
         "y": [
          1092.2560975609756
         ],
         "yaxis": "y18",
         "type": "bar"
        },
        {
         "alignmentgroup": "True",
         "hovertemplate": "method=vga<br>max_delay=300<br>duration_minutes=0.5<br>area=%{x}<br>cost_per_request=%{y}<extra></extra>",
         "legendgroup": "vga",
         "marker": {
          "color": "#EF553B",
          "pattern": {
           "shape": ""
          }
         },
         "name": "vga",
         "offsetgroup": "vga",
         "orientation": "v",
         "showlegend": false,
         "textposition": "auto",
         "x": [
          "Chicago",
          "DC",
          "Manhattan",
          "NYC"
         ],
         "xaxis": "x7",
         "y": [
          696.0,
          2115.0,
          398.57142857142856,
          667.112462006079
         ],
         "yaxis": "y7",
         "type": "bar"
        },
        {
         "alignmentgroup": "True",
         "hovertemplate": "method=vga<br>max_delay=300<br>duration_minutes=1.0<br>area=%{x}<br>cost_per_request=%{y}<extra></extra>",
         "legendgroup": "vga",
         "marker": {
          "color": "#EF553B",
          "pattern": {
           "shape": ""
          }
         },
         "name": "vga",
         "offsetgroup": "vga",
         "orientation": "v",
         "showlegend": false,
         "textposition": "auto",
         "x": [
          "Chicago",
          "DC",
          "Manhattan",
          "NYC"
         ],
         "xaxis": "x8",
         "y": [
          1107.6923076923076,
          1705.7142857142858,
          352.02797202797206,
          578.5196374622357
         ],
         "yaxis": "y8",
         "type": "bar"
        },
        {
         "alignmentgroup": "True",
         "hovertemplate": "method=vga<br>max_delay=300<br>duration_minutes=2.0<br>area=%{x}<br>cost_per_request=%{y}<extra></extra>",
         "legendgroup": "vga",
         "marker": {
          "color": "#EF553B",
          "pattern": {
           "shape": ""
          }
         },
         "name": "vga",
         "offsetgroup": "vga",
         "orientation": "v",
         "showlegend": false,
         "textposition": "auto",
         "x": [
          "Chicago",
          "DC",
          "Manhattan"
         ],
         "xaxis": "x9",
         "y": [
          895.7142857142857,
          1276.6666666666667,
          296.1322314049587
         ],
         "yaxis": "y9",
         "type": "bar"
        },
        {
         "alignmentgroup": "True",
         "hovertemplate": "method=vga<br>max_delay=300<br>duration_minutes=5.0<br>area=%{x}<br>cost_per_request=%{y}<extra></extra>",
         "legendgroup": "vga",
         "marker": {
          "color": "#EF553B",
          "pattern": {
           "shape": ""
          }
         },
         "name": "vga",
         "offsetgroup": "vga",
         "orientation": "v",
         "showlegend": false,
         "textposition": "auto",
         "x": [
          "Chicago",
          "DC"
         ],
         "xaxis": "x10",
         "y": [
          754.2857142857143,
          1138.888888888889
         ],
         "yaxis": "y10",
         "type": "bar"
        },
        {
         "alignmentgroup": "True",
         "hovertemplate": "method=vga<br>max_delay=300<br>duration_minutes=15.0<br>area=%{x}<br>cost_per_request=%{y}<extra></extra>",
         "legendgroup": "vga",
         "marker": {
          "color": "#EF553B",
          "pattern": {
           "shape": ""
          }
         },
         "name": "vga",
         "offsetgroup": "vga",
         "orientation": "v",
         "showlegend": false,
         "textposition": "auto",
         "x": [
          "DC"
         ],
         "xaxis": "x11",
         "y": [
          994.9693251533743
         ],
         "yaxis": "y11",
         "type": "bar"
        },
        {
         "alignmentgroup": "True",
         "hovertemplate": "method=vga<br>max_delay=300<br>duration_minutes=30.0<br>area=%{x}<br>cost_per_request=%{y}<extra></extra>",
         "legendgroup": "vga",
         "marker": {
          "color": "#EF553B",
          "pattern": {
           "shape": ""
          }
         },
         "name": "vga",
         "offsetgroup": "vga",
         "orientation": "v",
         "showlegend": false,
         "textposition": "auto",
         "x": [
          "DC"
         ],
         "xaxis": "x12",
         "y": [
          885.5487804878048
         ],
         "yaxis": "y12",
         "type": "bar"
        },
        {
         "alignmentgroup": "True",
         "hovertemplate": "method=vga<br>max_delay=600<br>duration_minutes=0.5<br>area=%{x}<br>cost_per_request=%{y}<extra></extra>",
         "legendgroup": "vga",
         "marker": {
          "color": "#EF553B",
          "pattern": {
           "shape": ""
          }
         },
         "name": "vga",
         "offsetgroup": "vga",
         "orientation": "v",
         "showlegend": false,
         "textposition": "auto",
         "x": [
          "Chicago",
          "DC",
          "Manhattan",
          "NYC"
         ],
         "xaxis": "x",
         "y": [
          612.0,
          2115.0,
          330.42857142857144,
          558.9665653495441
         ],
         "yaxis": "y",
         "type": "bar"
        },
        {
         "alignmentgroup": "True",
         "hovertemplate": "method=vga<br>max_delay=600<br>duration_minutes=1.0<br>area=%{x}<br>cost_per_request=%{y}<extra></extra>",
         "legendgroup": "vga",
         "marker": {
          "color": "#EF553B",
          "pattern": {
           "shape": ""
          }
         },
         "name": "vga",
         "offsetgroup": "vga",
         "orientation": "v",
         "showlegend": false,
         "textposition": "auto",
         "x": [
          "Chicago",
          "DC"
         ],
         "xaxis": "x2",
         "y": [
          983.0769230769231,
          1525.7142857142858
         ],
         "yaxis": "y2",
         "type": "bar"
        },
        {
         "alignmentgroup": "True",
         "hovertemplate": "method=vga<br>max_delay=600<br>duration_minutes=2.0<br>area=%{x}<br>cost_per_request=%{y}<extra></extra>",
         "legendgroup": "vga",
         "marker": {
          "color": "#EF553B",
          "pattern": {
           "shape": ""
          }
         },
         "name": "vga",
         "offsetgroup": "vga",
         "orientation": "v",
         "showlegend": false,
         "textposition": "auto",
         "x": [
          "Chicago",
          "DC"
         ],
         "xaxis": "x3",
         "y": [
          850.7142857142857,
          1063.3333333333333
         ],
         "yaxis": "y3",
         "type": "bar"
        },
        {
         "alignmentgroup": "True",
         "hovertemplate": "method=vga<br>max_delay=600<br>duration_minutes=5.0<br>area=%{x}<br>cost_per_request=%{y}<extra></extra>",
         "legendgroup": "vga",
         "marker": {
          "color": "#EF553B",
          "pattern": {
           "shape": ""
          }
         },
         "name": "vga",
         "offsetgroup": "vga",
         "orientation": "v",
         "showlegend": false,
         "textposition": "auto",
         "x": [
          "DC"
         ],
         "xaxis": "x4",
         "y": [
          874.4444444444445
         ],
         "yaxis": "y4",
         "type": "bar"
        },
        {
         "alignmentgroup": "True",
         "hovertemplate": "method=vga<br>max_delay=600<br>duration_minutes=15.0<br>area=%{x}<br>cost_per_request=%{y}<extra></extra>",
         "legendgroup": "vga",
         "marker": {
          "color": "#EF553B",
          "pattern": {
           "shape": ""
          }
         },
         "name": "vga",
         "offsetgroup": "vga",
         "orientation": "v",
         "showlegend": false,
         "textposition": "auto",
         "x": [
          "DC"
         ],
         "xaxis": "x5",
         "y": [
          710.4294478527607
         ],
         "yaxis": "y5",
         "type": "bar"
        }
       ],
       "layout": {
        "template": {
         "data": {
          "histogram2dcontour": [
           {
            "type": "histogram2dcontour",
            "colorbar": {
             "outlinewidth": 0,
             "ticks": ""
            },
            "colorscale": [
             [
              0.0,
              "#0d0887"
             ],
             [
              0.1111111111111111,
              "#46039f"
             ],
             [
              0.2222222222222222,
              "#7201a8"
             ],
             [
              0.3333333333333333,
              "#9c179e"
             ],
             [
              0.4444444444444444,
              "#bd3786"
             ],
             [
              0.5555555555555556,
              "#d8576b"
             ],
             [
              0.6666666666666666,
              "#ed7953"
             ],
             [
              0.7777777777777778,
              "#fb9f3a"
             ],
             [
              0.8888888888888888,
              "#fdca26"
             ],
             [
              1.0,
              "#f0f921"
             ]
            ]
           }
          ],
          "choropleth": [
           {
            "type": "choropleth",
            "colorbar": {
             "outlinewidth": 0,
             "ticks": ""
            }
           }
          ],
          "histogram2d": [
           {
            "type": "histogram2d",
            "colorbar": {
             "outlinewidth": 0,
             "ticks": ""
            },
            "colorscale": [
             [
              0.0,
              "#0d0887"
             ],
             [
              0.1111111111111111,
              "#46039f"
             ],
             [
              0.2222222222222222,
              "#7201a8"
             ],
             [
              0.3333333333333333,
              "#9c179e"
             ],
             [
              0.4444444444444444,
              "#bd3786"
             ],
             [
              0.5555555555555556,
              "#d8576b"
             ],
             [
              0.6666666666666666,
              "#ed7953"
             ],
             [
              0.7777777777777778,
              "#fb9f3a"
             ],
             [
              0.8888888888888888,
              "#fdca26"
             ],
             [
              1.0,
              "#f0f921"
             ]
            ]
           }
          ],
          "heatmap": [
           {
            "type": "heatmap",
            "colorbar": {
             "outlinewidth": 0,
             "ticks": ""
            },
            "colorscale": [
             [
              0.0,
              "#0d0887"
             ],
             [
              0.1111111111111111,
              "#46039f"
             ],
             [
              0.2222222222222222,
              "#7201a8"
             ],
             [
              0.3333333333333333,
              "#9c179e"
             ],
             [
              0.4444444444444444,
              "#bd3786"
             ],
             [
              0.5555555555555556,
              "#d8576b"
             ],
             [
              0.6666666666666666,
              "#ed7953"
             ],
             [
              0.7777777777777778,
              "#fb9f3a"
             ],
             [
              0.8888888888888888,
              "#fdca26"
             ],
             [
              1.0,
              "#f0f921"
             ]
            ]
           }
          ],
          "heatmapgl": [
           {
            "type": "heatmapgl",
            "colorbar": {
             "outlinewidth": 0,
             "ticks": ""
            },
            "colorscale": [
             [
              0.0,
              "#0d0887"
             ],
             [
              0.1111111111111111,
              "#46039f"
             ],
             [
              0.2222222222222222,
              "#7201a8"
             ],
             [
              0.3333333333333333,
              "#9c179e"
             ],
             [
              0.4444444444444444,
              "#bd3786"
             ],
             [
              0.5555555555555556,
              "#d8576b"
             ],
             [
              0.6666666666666666,
              "#ed7953"
             ],
             [
              0.7777777777777778,
              "#fb9f3a"
             ],
             [
              0.8888888888888888,
              "#fdca26"
             ],
             [
              1.0,
              "#f0f921"
             ]
            ]
           }
          ],
          "contourcarpet": [
           {
            "type": "contourcarpet",
            "colorbar": {
             "outlinewidth": 0,
             "ticks": ""
            }
           }
          ],
          "contour": [
           {
            "type": "contour",
            "colorbar": {
             "outlinewidth": 0,
             "ticks": ""
            },
            "colorscale": [
             [
              0.0,
              "#0d0887"
             ],
             [
              0.1111111111111111,
              "#46039f"
             ],
             [
              0.2222222222222222,
              "#7201a8"
             ],
             [
              0.3333333333333333,
              "#9c179e"
             ],
             [
              0.4444444444444444,
              "#bd3786"
             ],
             [
              0.5555555555555556,
              "#d8576b"
             ],
             [
              0.6666666666666666,
              "#ed7953"
             ],
             [
              0.7777777777777778,
              "#fb9f3a"
             ],
             [
              0.8888888888888888,
              "#fdca26"
             ],
             [
              1.0,
              "#f0f921"
             ]
            ]
           }
          ],
          "surface": [
           {
            "type": "surface",
            "colorbar": {
             "outlinewidth": 0,
             "ticks": ""
            },
            "colorscale": [
             [
              0.0,
              "#0d0887"
             ],
             [
              0.1111111111111111,
              "#46039f"
             ],
             [
              0.2222222222222222,
              "#7201a8"
             ],
             [
              0.3333333333333333,
              "#9c179e"
             ],
             [
              0.4444444444444444,
              "#bd3786"
             ],
             [
              0.5555555555555556,
              "#d8576b"
             ],
             [
              0.6666666666666666,
              "#ed7953"
             ],
             [
              0.7777777777777778,
              "#fb9f3a"
             ],
             [
              0.8888888888888888,
              "#fdca26"
             ],
             [
              1.0,
              "#f0f921"
             ]
            ]
           }
          ],
          "mesh3d": [
           {
            "type": "mesh3d",
            "colorbar": {
             "outlinewidth": 0,
             "ticks": ""
            }
           }
          ],
          "scatter": [
           {
            "fillpattern": {
             "fillmode": "overlay",
             "size": 10,
             "solidity": 0.2
            },
            "type": "scatter"
           }
          ],
          "parcoords": [
           {
            "type": "parcoords",
            "line": {
             "colorbar": {
              "outlinewidth": 0,
              "ticks": ""
             }
            }
           }
          ],
          "scatterpolargl": [
           {
            "type": "scatterpolargl",
            "marker": {
             "colorbar": {
              "outlinewidth": 0,
              "ticks": ""
             }
            }
           }
          ],
          "bar": [
           {
            "error_x": {
             "color": "#2a3f5f"
            },
            "error_y": {
             "color": "#2a3f5f"
            },
            "marker": {
             "line": {
              "color": "#E5ECF6",
              "width": 0.5
             },
             "pattern": {
              "fillmode": "overlay",
              "size": 10,
              "solidity": 0.2
             }
            },
            "type": "bar"
           }
          ],
          "scattergeo": [
           {
            "type": "scattergeo",
            "marker": {
             "colorbar": {
              "outlinewidth": 0,
              "ticks": ""
             }
            }
           }
          ],
          "scatterpolar": [
           {
            "type": "scatterpolar",
            "marker": {
             "colorbar": {
              "outlinewidth": 0,
              "ticks": ""
             }
            }
           }
          ],
          "histogram": [
           {
            "marker": {
             "pattern": {
              "fillmode": "overlay",
              "size": 10,
              "solidity": 0.2
             }
            },
            "type": "histogram"
           }
          ],
          "scattergl": [
           {
            "type": "scattergl",
            "marker": {
             "colorbar": {
              "outlinewidth": 0,
              "ticks": ""
             }
            }
           }
          ],
          "scatter3d": [
           {
            "type": "scatter3d",
            "line": {
             "colorbar": {
              "outlinewidth": 0,
              "ticks": ""
             }
            },
            "marker": {
             "colorbar": {
              "outlinewidth": 0,
              "ticks": ""
             }
            }
           }
          ],
          "scattermapbox": [
           {
            "type": "scattermapbox",
            "marker": {
             "colorbar": {
              "outlinewidth": 0,
              "ticks": ""
             }
            }
           }
          ],
          "scatterternary": [
           {
            "type": "scatterternary",
            "marker": {
             "colorbar": {
              "outlinewidth": 0,
              "ticks": ""
             }
            }
           }
          ],
          "scattercarpet": [
           {
            "type": "scattercarpet",
            "marker": {
             "colorbar": {
              "outlinewidth": 0,
              "ticks": ""
             }
            }
           }
          ],
          "carpet": [
           {
            "aaxis": {
             "endlinecolor": "#2a3f5f",
             "gridcolor": "white",
             "linecolor": "white",
             "minorgridcolor": "white",
             "startlinecolor": "#2a3f5f"
            },
            "baxis": {
             "endlinecolor": "#2a3f5f",
             "gridcolor": "white",
             "linecolor": "white",
             "minorgridcolor": "white",
             "startlinecolor": "#2a3f5f"
            },
            "type": "carpet"
           }
          ],
          "table": [
           {
            "cells": {
             "fill": {
              "color": "#EBF0F8"
             },
             "line": {
              "color": "white"
             }
            },
            "header": {
             "fill": {
              "color": "#C8D4E3"
             },
             "line": {
              "color": "white"
             }
            },
            "type": "table"
           }
          ],
          "barpolar": [
           {
            "marker": {
             "line": {
              "color": "#E5ECF6",
              "width": 0.5
             },
             "pattern": {
              "fillmode": "overlay",
              "size": 10,
              "solidity": 0.2
             }
            },
            "type": "barpolar"
           }
          ],
          "pie": [
           {
            "automargin": true,
            "type": "pie"
           }
          ]
         },
         "layout": {
          "autotypenumbers": "strict",
          "colorway": [
           "#636efa",
           "#EF553B",
           "#00cc96",
           "#ab63fa",
           "#FFA15A",
           "#19d3f3",
           "#FF6692",
           "#B6E880",
           "#FF97FF",
           "#FECB52"
          ],
          "font": {
           "color": "#2a3f5f"
          },
          "hovermode": "closest",
          "hoverlabel": {
           "align": "left"
          },
          "paper_bgcolor": "white",
          "plot_bgcolor": "#E5ECF6",
          "polar": {
           "bgcolor": "#E5ECF6",
           "angularaxis": {
            "gridcolor": "white",
            "linecolor": "white",
            "ticks": ""
           },
           "radialaxis": {
            "gridcolor": "white",
            "linecolor": "white",
            "ticks": ""
           }
          },
          "ternary": {
           "bgcolor": "#E5ECF6",
           "aaxis": {
            "gridcolor": "white",
            "linecolor": "white",
            "ticks": ""
           },
           "baxis": {
            "gridcolor": "white",
            "linecolor": "white",
            "ticks": ""
           },
           "caxis": {
            "gridcolor": "white",
            "linecolor": "white",
            "ticks": ""
           }
          },
          "coloraxis": {
           "colorbar": {
            "outlinewidth": 0,
            "ticks": ""
           }
          },
          "colorscale": {
           "sequential": [
            [
             0.0,
             "#0d0887"
            ],
            [
             0.1111111111111111,
             "#46039f"
            ],
            [
             0.2222222222222222,
             "#7201a8"
            ],
            [
             0.3333333333333333,
             "#9c179e"
            ],
            [
             0.4444444444444444,
             "#bd3786"
            ],
            [
             0.5555555555555556,
             "#d8576b"
            ],
            [
             0.6666666666666666,
             "#ed7953"
            ],
            [
             0.7777777777777778,
             "#fb9f3a"
            ],
            [
             0.8888888888888888,
             "#fdca26"
            ],
            [
             1.0,
             "#f0f921"
            ]
           ],
           "sequentialminus": [
            [
             0.0,
             "#0d0887"
            ],
            [
             0.1111111111111111,
             "#46039f"
            ],
            [
             0.2222222222222222,
             "#7201a8"
            ],
            [
             0.3333333333333333,
             "#9c179e"
            ],
            [
             0.4444444444444444,
             "#bd3786"
            ],
            [
             0.5555555555555556,
             "#d8576b"
            ],
            [
             0.6666666666666666,
             "#ed7953"
            ],
            [
             0.7777777777777778,
             "#fb9f3a"
            ],
            [
             0.8888888888888888,
             "#fdca26"
            ],
            [
             1.0,
             "#f0f921"
            ]
           ],
           "diverging": [
            [
             0,
             "#8e0152"
            ],
            [
             0.1,
             "#c51b7d"
            ],
            [
             0.2,
             "#de77ae"
            ],
            [
             0.3,
             "#f1b6da"
            ],
            [
             0.4,
             "#fde0ef"
            ],
            [
             0.5,
             "#f7f7f7"
            ],
            [
             0.6,
             "#e6f5d0"
            ],
            [
             0.7,
             "#b8e186"
            ],
            [
             0.8,
             "#7fbc41"
            ],
            [
             0.9,
             "#4d9221"
            ],
            [
             1,
             "#276419"
            ]
           ]
          },
          "xaxis": {
           "gridcolor": "white",
           "linecolor": "white",
           "ticks": "",
           "title": {
            "standoff": 15
           },
           "zerolinecolor": "white",
           "automargin": true,
           "zerolinewidth": 2
          },
          "yaxis": {
           "gridcolor": "white",
           "linecolor": "white",
           "ticks": "",
           "title": {
            "standoff": 15
           },
           "zerolinecolor": "white",
           "automargin": true,
           "zerolinewidth": 2
          },
          "scene": {
           "xaxis": {
            "backgroundcolor": "#E5ECF6",
            "gridcolor": "white",
            "linecolor": "white",
            "showbackground": true,
            "ticks": "",
            "zerolinecolor": "white",
            "gridwidth": 2
           },
           "yaxis": {
            "backgroundcolor": "#E5ECF6",
            "gridcolor": "white",
            "linecolor": "white",
            "showbackground": true,
            "ticks": "",
            "zerolinecolor": "white",
            "gridwidth": 2
           },
           "zaxis": {
            "backgroundcolor": "#E5ECF6",
            "gridcolor": "white",
            "linecolor": "white",
            "showbackground": true,
            "ticks": "",
            "zerolinecolor": "white",
            "gridwidth": 2
           }
          },
          "shapedefaults": {
           "line": {
            "color": "#2a3f5f"
           }
          },
          "annotationdefaults": {
           "arrowcolor": "#2a3f5f",
           "arrowhead": 0,
           "arrowwidth": 1
          },
          "geo": {
           "bgcolor": "white",
           "landcolor": "#E5ECF6",
           "subunitcolor": "white",
           "showland": true,
           "showlakes": true,
           "lakecolor": "white"
          },
          "title": {
           "x": 0.05
          },
          "mapbox": {
           "style": "light"
          }
         }
        },
        "xaxis": {
         "anchor": "y",
         "domain": [
          0.0,
          0.14666666666666667
         ],
         "title": {
          "text": ""
         }
        },
        "yaxis": {
         "anchor": "x",
         "domain": [
          0.0,
          0.3133333333333333
         ],
         "title": {
          "text": ""
         }
        },
        "xaxis2": {
         "anchor": "y2",
         "domain": [
          0.16666666666666666,
          0.31333333333333335
         ],
         "matches": "x",
         "title": {
          "text": ""
         }
        },
        "yaxis2": {
         "anchor": "x2",
         "domain": [
          0.0,
          0.3133333333333333
         ],
         "matches": "y",
         "showticklabels": false,
         "title": {
          "text": ""
         }
        },
        "xaxis3": {
         "anchor": "y3",
         "domain": [
          0.3333333333333333,
          0.48
         ],
         "matches": "x",
         "title": {
          "text": ""
         }
        },
        "yaxis3": {
         "anchor": "x3",
         "domain": [
          0.0,
          0.3133333333333333
         ],
         "matches": "y",
         "showticklabels": false,
         "title": {
          "text": ""
         }
        },
        "xaxis4": {
         "anchor": "y4",
         "domain": [
          0.5,
          0.6466666666666667
         ],
         "matches": "x",
         "title": {
          "text": ""
         }
        },
        "yaxis4": {
         "anchor": "x4",
         "domain": [
          0.0,
          0.3133333333333333
         ],
         "matches": "y",
         "showticklabels": false,
         "title": {
          "text": ""
         }
        },
        "xaxis5": {
         "anchor": "y5",
         "domain": [
          0.6666666666666666,
          0.8133333333333332
         ],
         "matches": "x",
         "title": {
          "text": ""
         }
        },
        "yaxis5": {
         "anchor": "x5",
         "domain": [
          0.0,
          0.3133333333333333
         ],
         "matches": "y",
         "showticklabels": false,
         "title": {
          "text": ""
         }
        },
        "xaxis6": {
         "anchor": "y6",
         "domain": [
          0.8333333333333334,
          0.98
         ],
         "matches": "x",
         "title": {
          "text": ""
         }
        },
        "yaxis6": {
         "anchor": "x6",
         "domain": [
          0.0,
          0.3133333333333333
         ],
         "matches": "y",
         "showticklabels": false,
         "title": {
          "text": ""
         }
        },
        "xaxis7": {
         "anchor": "y7",
         "domain": [
          0.0,
          0.14666666666666667
         ],
         "matches": "x",
         "showticklabels": false,
         "title": {
          "text": ""
         }
        },
        "yaxis7": {
         "anchor": "x7",
         "domain": [
          0.34333333333333327,
          0.6566666666666665
         ],
         "matches": "y",
         "title": {
          "text": ""
         }
        },
        "xaxis8": {
         "anchor": "y8",
         "domain": [
          0.16666666666666666,
          0.31333333333333335
         ],
         "matches": "x",
         "showticklabels": false,
         "title": {
          "text": ""
         }
        },
        "yaxis8": {
         "anchor": "x8",
         "domain": [
          0.34333333333333327,
          0.6566666666666665
         ],
         "matches": "y",
         "showticklabels": false,
         "title": {
          "text": ""
         }
        },
        "xaxis9": {
         "anchor": "y9",
         "domain": [
          0.3333333333333333,
          0.48
         ],
         "matches": "x",
         "showticklabels": false,
         "title": {
          "text": ""
         }
        },
        "yaxis9": {
         "anchor": "x9",
         "domain": [
          0.34333333333333327,
          0.6566666666666665
         ],
         "matches": "y",
         "showticklabels": false,
         "title": {
          "text": ""
         }
        },
        "xaxis10": {
         "anchor": "y10",
         "domain": [
          0.5,
          0.6466666666666667
         ],
         "matches": "x",
         "showticklabels": false,
         "title": {
          "text": ""
         }
        },
        "yaxis10": {
         "anchor": "x10",
         "domain": [
          0.34333333333333327,
          0.6566666666666665
         ],
         "matches": "y",
         "showticklabels": false,
         "title": {
          "text": ""
         }
        },
        "xaxis11": {
         "anchor": "y11",
         "domain": [
          0.6666666666666666,
          0.8133333333333332
         ],
         "matches": "x",
         "showticklabels": false,
         "title": {
          "text": ""
         }
        },
        "yaxis11": {
         "anchor": "x11",
         "domain": [
          0.34333333333333327,
          0.6566666666666665
         ],
         "matches": "y",
         "showticklabels": false,
         "title": {
          "text": ""
         }
        },
        "xaxis12": {
         "anchor": "y12",
         "domain": [
          0.8333333333333334,
          0.98
         ],
         "matches": "x",
         "showticklabels": false,
         "title": {
          "text": ""
         }
        },
        "yaxis12": {
         "anchor": "x12",
         "domain": [
          0.34333333333333327,
          0.6566666666666665
         ],
         "matches": "y",
         "showticklabels": false,
         "title": {
          "text": ""
         }
        },
        "xaxis13": {
         "anchor": "y13",
         "domain": [
          0.0,
          0.14666666666666667
         ],
         "matches": "x",
         "showticklabels": false,
         "title": {
          "text": ""
         }
        },
        "yaxis13": {
         "anchor": "x13",
         "domain": [
          0.6866666666666665,
          0.9999999999999998
         ],
         "matches": "y",
         "title": {
          "text": ""
         }
        },
        "xaxis14": {
         "anchor": "y14",
         "domain": [
          0.16666666666666666,
          0.31333333333333335
         ],
         "matches": "x",
         "showticklabels": false,
         "title": {
          "text": ""
         }
        },
        "yaxis14": {
         "anchor": "x14",
         "domain": [
          0.6866666666666665,
          0.9999999999999998
         ],
         "matches": "y",
         "showticklabels": false,
         "title": {
          "text": ""
         }
        },
        "xaxis15": {
         "anchor": "y15",
         "domain": [
          0.3333333333333333,
          0.48
         ],
         "matches": "x",
         "showticklabels": false,
         "title": {
          "text": ""
         }
        },
        "yaxis15": {
         "anchor": "x15",
         "domain": [
          0.6866666666666665,
          0.9999999999999998
         ],
         "matches": "y",
         "showticklabels": false,
         "title": {
          "text": ""
         }
        },
        "xaxis16": {
         "anchor": "y16",
         "domain": [
          0.5,
          0.6466666666666667
         ],
         "matches": "x",
         "showticklabels": false,
         "title": {
          "text": ""
         }
        },
        "yaxis16": {
         "anchor": "x16",
         "domain": [
          0.6866666666666665,
          0.9999999999999998
         ],
         "matches": "y",
         "showticklabels": false,
         "title": {
          "text": ""
         }
        },
        "xaxis17": {
         "anchor": "y17",
         "domain": [
          0.6666666666666666,
          0.8133333333333332
         ],
         "matches": "x",
         "showticklabels": false,
         "title": {
          "text": ""
         }
        },
        "yaxis17": {
         "anchor": "x17",
         "domain": [
          0.6866666666666665,
          0.9999999999999998
         ],
         "matches": "y",
         "showticklabels": false,
         "title": {
          "text": ""
         }
        },
        "xaxis18": {
         "anchor": "y18",
         "domain": [
          0.8333333333333334,
          0.98
         ],
         "matches": "x",
         "showticklabels": false,
         "title": {
          "text": ""
         }
        },
        "yaxis18": {
         "anchor": "x18",
         "domain": [
          0.6866666666666665,
          0.9999999999999998
         ],
         "matches": "y",
         "showticklabels": false,
         "title": {
          "text": ""
         }
        },
        "annotations": [
         {
          "showarrow": false,
          "text": "0.5",
          "x": 0.07333333333333333,
          "xanchor": "center",
          "xref": "paper",
          "y": 0.9999999999999998,
          "yanchor": "bottom",
          "yref": "paper"
         },
         {
          "showarrow": false,
          "text": "1.0",
          "x": 0.24,
          "xanchor": "center",
          "xref": "paper",
          "y": 0.9999999999999998,
          "yanchor": "bottom",
          "yref": "paper"
         },
         {
          "showarrow": false,
          "text": "2.0",
          "x": 0.4066666666666666,
          "xanchor": "center",
          "xref": "paper",
          "y": 0.9999999999999998,
          "yanchor": "bottom",
          "yref": "paper"
         },
         {
          "showarrow": false,
          "text": "5.0",
          "x": 0.5733333333333334,
          "xanchor": "center",
          "xref": "paper",
          "y": 0.9999999999999998,
          "yanchor": "bottom",
          "yref": "paper"
         },
         {
          "showarrow": false,
          "text": "15.0",
          "x": 0.74,
          "xanchor": "center",
          "xref": "paper",
          "y": 0.9999999999999998,
          "yanchor": "bottom",
          "yref": "paper"
         },
         {
          "showarrow": false,
          "text": "30.0",
          "x": 0.9066666666666667,
          "xanchor": "center",
          "xref": "paper",
          "y": 0.9999999999999998,
          "yanchor": "bottom",
          "yref": "paper"
         },
         {
          "showarrow": false,
          "text": "600",
          "textangle": 90,
          "x": 0.98,
          "xanchor": "left",
          "xref": "paper",
          "y": 0.15666666666666665,
          "yanchor": "middle",
          "yref": "paper"
         },
         {
          "showarrow": false,
          "text": "300",
          "textangle": 90,
          "x": 0.98,
          "xanchor": "left",
          "xref": "paper",
          "y": 0.4999999999999999,
          "yanchor": "middle",
          "yref": "paper"
         },
         {
          "showarrow": false,
          "text": "180",
          "textangle": 90,
          "x": 0.98,
          "xanchor": "left",
          "xref": "paper",
          "y": 0.8433333333333332,
          "yanchor": "middle",
          "yref": "paper"
         },
         {
          "showarrow": false,
          "text": "travel time per request [s]",
          "textangle": -90,
          "x": -0.06,
          "xref": "paper",
          "y": 0.5,
          "yref": "paper"
         },
         {
          "showarrow": false,
          "text": "instance length [min]",
          "x": 0.5,
          "xref": "paper",
          "y": 1.12,
          "yref": "paper"
         },
         {
          "showarrow": false,
          "text": "maximum delay [s]",
          "textangle": 90,
          "x": 1.02,
          "xref": "paper",
          "y": 0.5,
          "yref": "paper"
         }
        ],
        "legend": {
         "title": {
          "text": "method"
         },
         "tracegroupgap": 0,
         "orientation": "h",
         "yanchor": "bottom",
         "y": 1.06,
         "xanchor": "right",
         "x": 1,
         "bordercolor": "Black",
         "borderwidth": 1
        },
        "margin": {
         "t": 0,
         "l": 0,
         "r": 0,
         "b": 0,
         "pad": 0
        },
        "barmode": "group",
        "height": 400,
        "width": 900
       },
       "config": {
        "plotlyServerURL": "https://plot.ly"
       }
      },
      "text/html": "<div>                            <div id=\"ec730976-4567-4fcf-b1e8-425f59686ab5\" class=\"plotly-graph-div\" style=\"height:400px; width:900px;\"></div>            <script type=\"text/javascript\">                require([\"plotly\"], function(Plotly) {                    window.PLOTLYENV=window.PLOTLYENV || {};                                    if (document.getElementById(\"ec730976-4567-4fcf-b1e8-425f59686ab5\")) {                    Plotly.newPlot(                        \"ec730976-4567-4fcf-b1e8-425f59686ab5\",                        [{\"alignmentgroup\":\"True\",\"hovertemplate\":\"method=ih<br>max_delay=180<br>duration_minutes=0.5<br>area=%{x}<br>cost_per_request=%{y}<extra></extra>\",\"legendgroup\":\"ih\",\"marker\":{\"color\":\"#636efa\",\"pattern\":{\"shape\":\"\"}},\"name\":\"ih\",\"offsetgroup\":\"ih\",\"orientation\":\"v\",\"showlegend\":true,\"textposition\":\"auto\",\"x\":[\"Chicago\",\"DC\",\"Manhattan\",\"NYC\"],\"xaxis\":\"x13\",\"y\":[1008.0,2115.0,498.42857142857144,823.7689969604863],\"yaxis\":\"y13\",\"type\":\"bar\"},{\"alignmentgroup\":\"True\",\"hovertemplate\":\"method=ih<br>max_delay=180<br>duration_minutes=1.0<br>area=%{x}<br>cost_per_request=%{y}<extra></extra>\",\"legendgroup\":\"ih\",\"marker\":{\"color\":\"#636efa\",\"pattern\":{\"shape\":\"\"}},\"name\":\"ih\",\"offsetgroup\":\"ih\",\"orientation\":\"v\",\"showlegend\":false,\"textposition\":\"auto\",\"x\":[\"Chicago\",\"DC\",\"Manhattan\",\"NYC\"],\"xaxis\":\"x14\",\"y\":[1153.8461538461538,1705.7142857142858,488.8111888111888,710.4833836858006],\"yaxis\":\"y14\",\"type\":\"bar\"},{\"alignmentgroup\":\"True\",\"hovertemplate\":\"method=ih<br>max_delay=180<br>duration_minutes=2.0<br>area=%{x}<br>cost_per_request=%{y}<extra></extra>\",\"legendgroup\":\"ih\",\"marker\":{\"color\":\"#636efa\",\"pattern\":{\"shape\":\"\"}},\"name\":\"ih\",\"offsetgroup\":\"ih\",\"orientation\":\"v\",\"showlegend\":false,\"textposition\":\"auto\",\"x\":[\"Chicago\",\"DC\",\"Manhattan\",\"NYC\"],\"xaxis\":\"x15\",\"y\":[949.2857142857143,1320.0,433.1900826446281,685.7528089887641],\"yaxis\":\"y15\",\"type\":\"bar\"},{\"alignmentgroup\":\"True\",\"hovertemplate\":\"method=ih<br>max_delay=180<br>duration_minutes=5.0<br>area=%{x}<br>cost_per_request=%{y}<extra></extra>\",\"legendgroup\":\"ih\",\"marker\":{\"color\":\"#636efa\",\"pattern\":{\"shape\":\"\"}},\"name\":\"ih\",\"offsetgroup\":\"ih\",\"orientation\":\"v\",\"showlegend\":false,\"textposition\":\"auto\",\"x\":[\"Chicago\",\"DC\",\"Manhattan\",\"NYC\"],\"xaxis\":\"x16\",\"y\":[954.065934065934,1334.4444444444443,378.45597104945716,597.1616972477065],\"yaxis\":\"y16\",\"type\":\"bar\"},{\"alignmentgroup\":\"True\",\"hovertemplate\":\"method=ih<br>max_delay=180<br>duration_minutes=15.0<br>area=%{x}<br>cost_per_request=%{y}<extra></extra>\",\"legendgroup\":\"ih\",\"marker\":{\"color\":\"#636efa\",\"pattern\":{\"shape\":\"\"}},\"name\":\"ih\",\"offsetgroup\":\"ih\",\"orientation\":\"v\",\"showlegend\":false,\"textposition\":\"auto\",\"x\":[\"Chicago\",\"DC\",\"Manhattan\",\"NYC\"],\"xaxis\":\"x17\",\"y\":[792.043795620438,1266.993865030675,333.84314492470173,534.2083845935459],\"yaxis\":\"y17\",\"type\":\"bar\"},{\"alignmentgroup\":\"True\",\"hovertemplate\":\"method=ih<br>max_delay=180<br>duration_minutes=30.0<br>area=%{x}<br>cost_per_request=%{y}<extra></extra>\",\"legendgroup\":\"ih\",\"marker\":{\"color\":\"#636efa\",\"pattern\":{\"shape\":\"\"}},\"name\":\"ih\",\"offsetgroup\":\"ih\",\"orientation\":\"v\",\"showlegend\":false,\"textposition\":\"auto\",\"x\":[\"Chicago\",\"DC\",\"Manhattan\",\"NYC\"],\"xaxis\":\"x18\",\"y\":[863.7583892617449,1169.0853658536585,320.48639258830343,527.6579818626745],\"yaxis\":\"y18\",\"type\":\"bar\"},{\"alignmentgroup\":\"True\",\"hovertemplate\":\"method=ih<br>max_delay=300<br>duration_minutes=0.5<br>area=%{x}<br>cost_per_request=%{y}<extra></extra>\",\"legendgroup\":\"ih\",\"marker\":{\"color\":\"#636efa\",\"pattern\":{\"shape\":\"\"}},\"name\":\"ih\",\"offsetgroup\":\"ih\",\"orientation\":\"v\",\"showlegend\":false,\"textposition\":\"auto\",\"x\":[\"Chicago\",\"DC\",\"Manhattan\",\"NYC\"],\"xaxis\":\"x7\",\"y\":[696.0,2115.0,464.57142857142856,716.5349544072948],\"yaxis\":\"y7\",\"type\":\"bar\"},{\"alignmentgroup\":\"True\",\"hovertemplate\":\"method=ih<br>max_delay=300<br>duration_minutes=1.0<br>area=%{x}<br>cost_per_request=%{y}<extra></extra>\",\"legendgroup\":\"ih\",\"marker\":{\"color\":\"#636efa\",\"pattern\":{\"shape\":\"\"}},\"name\":\"ih\",\"offsetgroup\":\"ih\",\"orientation\":\"v\",\"showlegend\":false,\"textposition\":\"auto\",\"x\":[\"Chicago\",\"DC\",\"Manhattan\",\"NYC\"],\"xaxis\":\"x8\",\"y\":[1144.6153846153845,1705.7142857142858,434.8951048951049,628.1873111782477],\"yaxis\":\"y8\",\"type\":\"bar\"},{\"alignmentgroup\":\"True\",\"hovertemplate\":\"method=ih<br>max_delay=300<br>duration_minutes=2.0<br>area=%{x}<br>cost_per_request=%{y}<extra></extra>\",\"legendgroup\":\"ih\",\"marker\":{\"color\":\"#636efa\",\"pattern\":{\"shape\":\"\"}},\"name\":\"ih\",\"offsetgroup\":\"ih\",\"orientation\":\"v\",\"showlegend\":false,\"textposition\":\"auto\",\"x\":[\"Chicago\",\"DC\",\"Manhattan\",\"NYC\"],\"xaxis\":\"x9\",\"y\":[930.0,1303.3333333333333,387.07438016528926,586.3370786516854],\"yaxis\":\"y9\",\"type\":\"bar\"},{\"alignmentgroup\":\"True\",\"hovertemplate\":\"method=ih<br>max_delay=300<br>duration_minutes=5.0<br>area=%{x}<br>cost_per_request=%{y}<extra></extra>\",\"legendgroup\":\"ih\",\"marker\":{\"color\":\"#636efa\",\"pattern\":{\"shape\":\"\"}},\"name\":\"ih\",\"offsetgroup\":\"ih\",\"orientation\":\"v\",\"showlegend\":false,\"textposition\":\"auto\",\"x\":[\"Chicago\",\"DC\",\"Manhattan\",\"NYC\"],\"xaxis\":\"x10\",\"y\":[805.7142857142857,1207.7777777777778,349.65018094089265,525.9977064220184],\"yaxis\":\"y10\",\"type\":\"bar\"},{\"alignmentgroup\":\"True\",\"hovertemplate\":\"method=ih<br>max_delay=300<br>duration_minutes=15.0<br>area=%{x}<br>cost_per_request=%{y}<extra></extra>\",\"legendgroup\":\"ih\",\"marker\":{\"color\":\"#636efa\",\"pattern\":{\"shape\":\"\"}},\"name\":\"ih\",\"offsetgroup\":\"ih\",\"orientation\":\"v\",\"showlegend\":false,\"textposition\":\"auto\",\"x\":[\"Chicago\",\"DC\",\"Manhattan\",\"NYC\"],\"xaxis\":\"x11\",\"y\":[679.051094890511,1089.9386503067485,299.8005085077254,466.9404750638781],\"yaxis\":\"y11\",\"type\":\"bar\"},{\"alignmentgroup\":\"True\",\"hovertemplate\":\"method=ih<br>max_delay=300<br>duration_minutes=30.0<br>area=%{x}<br>cost_per_request=%{y}<extra></extra>\",\"legendgroup\":\"ih\",\"marker\":{\"color\":\"#636efa\",\"pattern\":{\"shape\":\"\"}},\"name\":\"ih\",\"offsetgroup\":\"ih\",\"orientation\":\"v\",\"showlegend\":false,\"textposition\":\"auto\",\"x\":[\"Chicago\",\"DC\",\"Manhattan\",\"NYC\"],\"xaxis\":\"x12\",\"y\":[721.2080536912752,1027.3170731707316,282.18876664736536,456.5251187562977],\"yaxis\":\"y12\",\"type\":\"bar\"},{\"alignmentgroup\":\"True\",\"hovertemplate\":\"method=ih<br>max_delay=600<br>duration_minutes=0.5<br>area=%{x}<br>cost_per_request=%{y}<extra></extra>\",\"legendgroup\":\"ih\",\"marker\":{\"color\":\"#636efa\",\"pattern\":{\"shape\":\"\"}},\"name\":\"ih\",\"offsetgroup\":\"ih\",\"orientation\":\"v\",\"showlegend\":false,\"textposition\":\"auto\",\"x\":[\"Chicago\",\"DC\",\"Manhattan\",\"NYC\"],\"xaxis\":\"x\",\"y\":[624.0,2115.0,417.85714285714283,639.3920972644377],\"yaxis\":\"y\",\"type\":\"bar\"},{\"alignmentgroup\":\"True\",\"hovertemplate\":\"method=ih<br>max_delay=600<br>duration_minutes=1.0<br>area=%{x}<br>cost_per_request=%{y}<extra></extra>\",\"legendgroup\":\"ih\",\"marker\":{\"color\":\"#636efa\",\"pattern\":{\"shape\":\"\"}},\"name\":\"ih\",\"offsetgroup\":\"ih\",\"orientation\":\"v\",\"showlegend\":false,\"textposition\":\"auto\",\"x\":[\"Chicago\",\"DC\",\"Manhattan\",\"NYC\"],\"xaxis\":\"x2\",\"y\":[1001.5384615384615,1525.7142857142858,392.0979020979021,566.3746223564955],\"yaxis\":\"y2\",\"type\":\"bar\"},{\"alignmentgroup\":\"True\",\"hovertemplate\":\"method=ih<br>max_delay=600<br>duration_minutes=2.0<br>area=%{x}<br>cost_per_request=%{y}<extra></extra>\",\"legendgroup\":\"ih\",\"marker\":{\"color\":\"#636efa\",\"pattern\":{\"shape\":\"\"}},\"name\":\"ih\",\"offsetgroup\":\"ih\",\"orientation\":\"v\",\"showlegend\":false,\"textposition\":\"auto\",\"x\":[\"Chicago\",\"DC\",\"Manhattan\",\"NYC\"],\"xaxis\":\"x3\",\"y\":[865.7142857142857,1250.0,358.7107438016529,519.1011235955057],\"yaxis\":\"y3\",\"type\":\"bar\"},{\"alignmentgroup\":\"True\",\"hovertemplate\":\"method=ih<br>max_delay=600<br>duration_minutes=5.0<br>area=%{x}<br>cost_per_request=%{y}<extra></extra>\",\"legendgroup\":\"ih\",\"marker\":{\"color\":\"#636efa\",\"pattern\":{\"shape\":\"\"}},\"name\":\"ih\",\"offsetgroup\":\"ih\",\"orientation\":\"v\",\"showlegend\":false,\"textposition\":\"auto\",\"x\":[\"Chicago\",\"DC\",\"Manhattan\",\"NYC\"],\"xaxis\":\"x4\",\"y\":[670.5494505494505,1042.2222222222222,329.4571773220748,484.5756880733945],\"yaxis\":\"y4\",\"type\":\"bar\"},{\"alignmentgroup\":\"True\",\"hovertemplate\":\"method=ih<br>max_delay=600<br>duration_minutes=15.0<br>area=%{x}<br>cost_per_request=%{y}<extra></extra>\",\"legendgroup\":\"ih\",\"marker\":{\"color\":\"#636efa\",\"pattern\":{\"shape\":\"\"}},\"name\":\"ih\",\"offsetgroup\":\"ih\",\"orientation\":\"v\",\"showlegend\":false,\"textposition\":\"auto\",\"x\":[\"Chicago\",\"DC\",\"Manhattan\",\"NYC\"],\"xaxis\":\"x5\",\"y\":[595.4014598540145,902.5766871165645,287.6549970663016,432.9743541213211],\"yaxis\":\"y5\",\"type\":\"bar\"},{\"alignmentgroup\":\"True\",\"hovertemplate\":\"method=ih<br>max_delay=600<br>duration_minutes=30.0<br>area=%{x}<br>cost_per_request=%{y}<extra></extra>\",\"legendgroup\":\"ih\",\"marker\":{\"color\":\"#636efa\",\"pattern\":{\"shape\":\"\"}},\"name\":\"ih\",\"offsetgroup\":\"ih\",\"orientation\":\"v\",\"showlegend\":false,\"textposition\":\"auto\",\"x\":[\"Chicago\",\"DC\",\"Manhattan\",\"NYC\"],\"xaxis\":\"x6\",\"y\":[579.9664429530201,872.7439024390244,260.2374059061957,407.71843961422195],\"yaxis\":\"y6\",\"type\":\"bar\"},{\"alignmentgroup\":\"True\",\"hovertemplate\":\"method=vga<br>max_delay=180<br>duration_minutes=0.5<br>area=%{x}<br>cost_per_request=%{y}<extra></extra>\",\"legendgroup\":\"vga\",\"marker\":{\"color\":\"#EF553B\",\"pattern\":{\"shape\":\"\"}},\"name\":\"vga\",\"offsetgroup\":\"vga\",\"orientation\":\"v\",\"showlegend\":true,\"textposition\":\"auto\",\"x\":[\"Chicago\",\"DC\",\"Manhattan\",\"NYC\"],\"xaxis\":\"x13\",\"y\":[900.0,2115.0,469.7142857142857,774.7112462006079],\"yaxis\":\"y13\",\"type\":\"bar\"},{\"alignmentgroup\":\"True\",\"hovertemplate\":\"method=vga<br>max_delay=180<br>duration_minutes=1.0<br>area=%{x}<br>cost_per_request=%{y}<extra></extra>\",\"legendgroup\":\"vga\",\"marker\":{\"color\":\"#EF553B\",\"pattern\":{\"shape\":\"\"}},\"name\":\"vga\",\"offsetgroup\":\"vga\",\"orientation\":\"v\",\"showlegend\":false,\"textposition\":\"auto\",\"x\":[\"Chicago\",\"DC\",\"Manhattan\",\"NYC\"],\"xaxis\":\"x14\",\"y\":[1144.6153846153845,1705.7142857142858,424.4055944055944,668.8821752265861],\"yaxis\":\"y14\",\"type\":\"bar\"},{\"alignmentgroup\":\"True\",\"hovertemplate\":\"method=vga<br>max_delay=180<br>duration_minutes=2.0<br>area=%{x}<br>cost_per_request=%{y}<extra></extra>\",\"legendgroup\":\"vga\",\"marker\":{\"color\":\"#EF553B\",\"pattern\":{\"shape\":\"\"}},\"name\":\"vga\",\"offsetgroup\":\"vga\",\"orientation\":\"v\",\"showlegend\":false,\"textposition\":\"auto\",\"x\":[\"Chicago\",\"DC\",\"Manhattan\",\"NYC\"],\"xaxis\":\"x15\",\"y\":[919.2857142857143,1303.3333333333333,357.6198347107438,614.1123595505618],\"yaxis\":\"y15\",\"type\":\"bar\"},{\"alignmentgroup\":\"True\",\"hovertemplate\":\"method=vga<br>max_delay=180<br>duration_minutes=5.0<br>area=%{x}<br>cost_per_request=%{y}<extra></extra>\",\"legendgroup\":\"vga\",\"marker\":{\"color\":\"#EF553B\",\"pattern\":{\"shape\":\"\"}},\"name\":\"vga\",\"offsetgroup\":\"vga\",\"orientation\":\"v\",\"showlegend\":false,\"textposition\":\"auto\",\"x\":[\"Chicago\",\"DC\"],\"xaxis\":\"x16\",\"y\":[867.6923076923077,1314.4444444444443],\"yaxis\":\"y16\",\"type\":\"bar\"},{\"alignmentgroup\":\"True\",\"hovertemplate\":\"method=vga<br>max_delay=180<br>duration_minutes=15.0<br>area=%{x}<br>cost_per_request=%{y}<extra></extra>\",\"legendgroup\":\"vga\",\"marker\":{\"color\":\"#EF553B\",\"pattern\":{\"shape\":\"\"}},\"name\":\"vga\",\"offsetgroup\":\"vga\",\"orientation\":\"v\",\"showlegend\":false,\"textposition\":\"auto\",\"x\":[\"DC\"],\"xaxis\":\"x17\",\"y\":[1205.8895705521472],\"yaxis\":\"y17\",\"type\":\"bar\"},{\"alignmentgroup\":\"True\",\"hovertemplate\":\"method=vga<br>max_delay=180<br>duration_minutes=30.0<br>area=%{x}<br>cost_per_request=%{y}<extra></extra>\",\"legendgroup\":\"vga\",\"marker\":{\"color\":\"#EF553B\",\"pattern\":{\"shape\":\"\"}},\"name\":\"vga\",\"offsetgroup\":\"vga\",\"orientation\":\"v\",\"showlegend\":false,\"textposition\":\"auto\",\"x\":[\"DC\"],\"xaxis\":\"x18\",\"y\":[1092.2560975609756],\"yaxis\":\"y18\",\"type\":\"bar\"},{\"alignmentgroup\":\"True\",\"hovertemplate\":\"method=vga<br>max_delay=300<br>duration_minutes=0.5<br>area=%{x}<br>cost_per_request=%{y}<extra></extra>\",\"legendgroup\":\"vga\",\"marker\":{\"color\":\"#EF553B\",\"pattern\":{\"shape\":\"\"}},\"name\":\"vga\",\"offsetgroup\":\"vga\",\"orientation\":\"v\",\"showlegend\":false,\"textposition\":\"auto\",\"x\":[\"Chicago\",\"DC\",\"Manhattan\",\"NYC\"],\"xaxis\":\"x7\",\"y\":[696.0,2115.0,398.57142857142856,667.112462006079],\"yaxis\":\"y7\",\"type\":\"bar\"},{\"alignmentgroup\":\"True\",\"hovertemplate\":\"method=vga<br>max_delay=300<br>duration_minutes=1.0<br>area=%{x}<br>cost_per_request=%{y}<extra></extra>\",\"legendgroup\":\"vga\",\"marker\":{\"color\":\"#EF553B\",\"pattern\":{\"shape\":\"\"}},\"name\":\"vga\",\"offsetgroup\":\"vga\",\"orientation\":\"v\",\"showlegend\":false,\"textposition\":\"auto\",\"x\":[\"Chicago\",\"DC\",\"Manhattan\",\"NYC\"],\"xaxis\":\"x8\",\"y\":[1107.6923076923076,1705.7142857142858,352.02797202797206,578.5196374622357],\"yaxis\":\"y8\",\"type\":\"bar\"},{\"alignmentgroup\":\"True\",\"hovertemplate\":\"method=vga<br>max_delay=300<br>duration_minutes=2.0<br>area=%{x}<br>cost_per_request=%{y}<extra></extra>\",\"legendgroup\":\"vga\",\"marker\":{\"color\":\"#EF553B\",\"pattern\":{\"shape\":\"\"}},\"name\":\"vga\",\"offsetgroup\":\"vga\",\"orientation\":\"v\",\"showlegend\":false,\"textposition\":\"auto\",\"x\":[\"Chicago\",\"DC\",\"Manhattan\"],\"xaxis\":\"x9\",\"y\":[895.7142857142857,1276.6666666666667,296.1322314049587],\"yaxis\":\"y9\",\"type\":\"bar\"},{\"alignmentgroup\":\"True\",\"hovertemplate\":\"method=vga<br>max_delay=300<br>duration_minutes=5.0<br>area=%{x}<br>cost_per_request=%{y}<extra></extra>\",\"legendgroup\":\"vga\",\"marker\":{\"color\":\"#EF553B\",\"pattern\":{\"shape\":\"\"}},\"name\":\"vga\",\"offsetgroup\":\"vga\",\"orientation\":\"v\",\"showlegend\":false,\"textposition\":\"auto\",\"x\":[\"Chicago\",\"DC\"],\"xaxis\":\"x10\",\"y\":[754.2857142857143,1138.888888888889],\"yaxis\":\"y10\",\"type\":\"bar\"},{\"alignmentgroup\":\"True\",\"hovertemplate\":\"method=vga<br>max_delay=300<br>duration_minutes=15.0<br>area=%{x}<br>cost_per_request=%{y}<extra></extra>\",\"legendgroup\":\"vga\",\"marker\":{\"color\":\"#EF553B\",\"pattern\":{\"shape\":\"\"}},\"name\":\"vga\",\"offsetgroup\":\"vga\",\"orientation\":\"v\",\"showlegend\":false,\"textposition\":\"auto\",\"x\":[\"DC\"],\"xaxis\":\"x11\",\"y\":[994.9693251533743],\"yaxis\":\"y11\",\"type\":\"bar\"},{\"alignmentgroup\":\"True\",\"hovertemplate\":\"method=vga<br>max_delay=300<br>duration_minutes=30.0<br>area=%{x}<br>cost_per_request=%{y}<extra></extra>\",\"legendgroup\":\"vga\",\"marker\":{\"color\":\"#EF553B\",\"pattern\":{\"shape\":\"\"}},\"name\":\"vga\",\"offsetgroup\":\"vga\",\"orientation\":\"v\",\"showlegend\":false,\"textposition\":\"auto\",\"x\":[\"DC\"],\"xaxis\":\"x12\",\"y\":[885.5487804878048],\"yaxis\":\"y12\",\"type\":\"bar\"},{\"alignmentgroup\":\"True\",\"hovertemplate\":\"method=vga<br>max_delay=600<br>duration_minutes=0.5<br>area=%{x}<br>cost_per_request=%{y}<extra></extra>\",\"legendgroup\":\"vga\",\"marker\":{\"color\":\"#EF553B\",\"pattern\":{\"shape\":\"\"}},\"name\":\"vga\",\"offsetgroup\":\"vga\",\"orientation\":\"v\",\"showlegend\":false,\"textposition\":\"auto\",\"x\":[\"Chicago\",\"DC\",\"Manhattan\",\"NYC\"],\"xaxis\":\"x\",\"y\":[612.0,2115.0,330.42857142857144,558.9665653495441],\"yaxis\":\"y\",\"type\":\"bar\"},{\"alignmentgroup\":\"True\",\"hovertemplate\":\"method=vga<br>max_delay=600<br>duration_minutes=1.0<br>area=%{x}<br>cost_per_request=%{y}<extra></extra>\",\"legendgroup\":\"vga\",\"marker\":{\"color\":\"#EF553B\",\"pattern\":{\"shape\":\"\"}},\"name\":\"vga\",\"offsetgroup\":\"vga\",\"orientation\":\"v\",\"showlegend\":false,\"textposition\":\"auto\",\"x\":[\"Chicago\",\"DC\"],\"xaxis\":\"x2\",\"y\":[983.0769230769231,1525.7142857142858],\"yaxis\":\"y2\",\"type\":\"bar\"},{\"alignmentgroup\":\"True\",\"hovertemplate\":\"method=vga<br>max_delay=600<br>duration_minutes=2.0<br>area=%{x}<br>cost_per_request=%{y}<extra></extra>\",\"legendgroup\":\"vga\",\"marker\":{\"color\":\"#EF553B\",\"pattern\":{\"shape\":\"\"}},\"name\":\"vga\",\"offsetgroup\":\"vga\",\"orientation\":\"v\",\"showlegend\":false,\"textposition\":\"auto\",\"x\":[\"Chicago\",\"DC\"],\"xaxis\":\"x3\",\"y\":[850.7142857142857,1063.3333333333333],\"yaxis\":\"y3\",\"type\":\"bar\"},{\"alignmentgroup\":\"True\",\"hovertemplate\":\"method=vga<br>max_delay=600<br>duration_minutes=5.0<br>area=%{x}<br>cost_per_request=%{y}<extra></extra>\",\"legendgroup\":\"vga\",\"marker\":{\"color\":\"#EF553B\",\"pattern\":{\"shape\":\"\"}},\"name\":\"vga\",\"offsetgroup\":\"vga\",\"orientation\":\"v\",\"showlegend\":false,\"textposition\":\"auto\",\"x\":[\"DC\"],\"xaxis\":\"x4\",\"y\":[874.4444444444445],\"yaxis\":\"y4\",\"type\":\"bar\"},{\"alignmentgroup\":\"True\",\"hovertemplate\":\"method=vga<br>max_delay=600<br>duration_minutes=15.0<br>area=%{x}<br>cost_per_request=%{y}<extra></extra>\",\"legendgroup\":\"vga\",\"marker\":{\"color\":\"#EF553B\",\"pattern\":{\"shape\":\"\"}},\"name\":\"vga\",\"offsetgroup\":\"vga\",\"orientation\":\"v\",\"showlegend\":false,\"textposition\":\"auto\",\"x\":[\"DC\"],\"xaxis\":\"x5\",\"y\":[710.4294478527607],\"yaxis\":\"y5\",\"type\":\"bar\"}],                        {\"template\":{\"data\":{\"histogram2dcontour\":[{\"type\":\"histogram2dcontour\",\"colorbar\":{\"outlinewidth\":0,\"ticks\":\"\"},\"colorscale\":[[0.0,\"#0d0887\"],[0.1111111111111111,\"#46039f\"],[0.2222222222222222,\"#7201a8\"],[0.3333333333333333,\"#9c179e\"],[0.4444444444444444,\"#bd3786\"],[0.5555555555555556,\"#d8576b\"],[0.6666666666666666,\"#ed7953\"],[0.7777777777777778,\"#fb9f3a\"],[0.8888888888888888,\"#fdca26\"],[1.0,\"#f0f921\"]]}],\"choropleth\":[{\"type\":\"choropleth\",\"colorbar\":{\"outlinewidth\":0,\"ticks\":\"\"}}],\"histogram2d\":[{\"type\":\"histogram2d\",\"colorbar\":{\"outlinewidth\":0,\"ticks\":\"\"},\"colorscale\":[[0.0,\"#0d0887\"],[0.1111111111111111,\"#46039f\"],[0.2222222222222222,\"#7201a8\"],[0.3333333333333333,\"#9c179e\"],[0.4444444444444444,\"#bd3786\"],[0.5555555555555556,\"#d8576b\"],[0.6666666666666666,\"#ed7953\"],[0.7777777777777778,\"#fb9f3a\"],[0.8888888888888888,\"#fdca26\"],[1.0,\"#f0f921\"]]}],\"heatmap\":[{\"type\":\"heatmap\",\"colorbar\":{\"outlinewidth\":0,\"ticks\":\"\"},\"colorscale\":[[0.0,\"#0d0887\"],[0.1111111111111111,\"#46039f\"],[0.2222222222222222,\"#7201a8\"],[0.3333333333333333,\"#9c179e\"],[0.4444444444444444,\"#bd3786\"],[0.5555555555555556,\"#d8576b\"],[0.6666666666666666,\"#ed7953\"],[0.7777777777777778,\"#fb9f3a\"],[0.8888888888888888,\"#fdca26\"],[1.0,\"#f0f921\"]]}],\"heatmapgl\":[{\"type\":\"heatmapgl\",\"colorbar\":{\"outlinewidth\":0,\"ticks\":\"\"},\"colorscale\":[[0.0,\"#0d0887\"],[0.1111111111111111,\"#46039f\"],[0.2222222222222222,\"#7201a8\"],[0.3333333333333333,\"#9c179e\"],[0.4444444444444444,\"#bd3786\"],[0.5555555555555556,\"#d8576b\"],[0.6666666666666666,\"#ed7953\"],[0.7777777777777778,\"#fb9f3a\"],[0.8888888888888888,\"#fdca26\"],[1.0,\"#f0f921\"]]}],\"contourcarpet\":[{\"type\":\"contourcarpet\",\"colorbar\":{\"outlinewidth\":0,\"ticks\":\"\"}}],\"contour\":[{\"type\":\"contour\",\"colorbar\":{\"outlinewidth\":0,\"ticks\":\"\"},\"colorscale\":[[0.0,\"#0d0887\"],[0.1111111111111111,\"#46039f\"],[0.2222222222222222,\"#7201a8\"],[0.3333333333333333,\"#9c179e\"],[0.4444444444444444,\"#bd3786\"],[0.5555555555555556,\"#d8576b\"],[0.6666666666666666,\"#ed7953\"],[0.7777777777777778,\"#fb9f3a\"],[0.8888888888888888,\"#fdca26\"],[1.0,\"#f0f921\"]]}],\"surface\":[{\"type\":\"surface\",\"colorbar\":{\"outlinewidth\":0,\"ticks\":\"\"},\"colorscale\":[[0.0,\"#0d0887\"],[0.1111111111111111,\"#46039f\"],[0.2222222222222222,\"#7201a8\"],[0.3333333333333333,\"#9c179e\"],[0.4444444444444444,\"#bd3786\"],[0.5555555555555556,\"#d8576b\"],[0.6666666666666666,\"#ed7953\"],[0.7777777777777778,\"#fb9f3a\"],[0.8888888888888888,\"#fdca26\"],[1.0,\"#f0f921\"]]}],\"mesh3d\":[{\"type\":\"mesh3d\",\"colorbar\":{\"outlinewidth\":0,\"ticks\":\"\"}}],\"scatter\":[{\"fillpattern\":{\"fillmode\":\"overlay\",\"size\":10,\"solidity\":0.2},\"type\":\"scatter\"}],\"parcoords\":[{\"type\":\"parcoords\",\"line\":{\"colorbar\":{\"outlinewidth\":0,\"ticks\":\"\"}}}],\"scatterpolargl\":[{\"type\":\"scatterpolargl\",\"marker\":{\"colorbar\":{\"outlinewidth\":0,\"ticks\":\"\"}}}],\"bar\":[{\"error_x\":{\"color\":\"#2a3f5f\"},\"error_y\":{\"color\":\"#2a3f5f\"},\"marker\":{\"line\":{\"color\":\"#E5ECF6\",\"width\":0.5},\"pattern\":{\"fillmode\":\"overlay\",\"size\":10,\"solidity\":0.2}},\"type\":\"bar\"}],\"scattergeo\":[{\"type\":\"scattergeo\",\"marker\":{\"colorbar\":{\"outlinewidth\":0,\"ticks\":\"\"}}}],\"scatterpolar\":[{\"type\":\"scatterpolar\",\"marker\":{\"colorbar\":{\"outlinewidth\":0,\"ticks\":\"\"}}}],\"histogram\":[{\"marker\":{\"pattern\":{\"fillmode\":\"overlay\",\"size\":10,\"solidity\":0.2}},\"type\":\"histogram\"}],\"scattergl\":[{\"type\":\"scattergl\",\"marker\":{\"colorbar\":{\"outlinewidth\":0,\"ticks\":\"\"}}}],\"scatter3d\":[{\"type\":\"scatter3d\",\"line\":{\"colorbar\":{\"outlinewidth\":0,\"ticks\":\"\"}},\"marker\":{\"colorbar\":{\"outlinewidth\":0,\"ticks\":\"\"}}}],\"scattermapbox\":[{\"type\":\"scattermapbox\",\"marker\":{\"colorbar\":{\"outlinewidth\":0,\"ticks\":\"\"}}}],\"scatterternary\":[{\"type\":\"scatterternary\",\"marker\":{\"colorbar\":{\"outlinewidth\":0,\"ticks\":\"\"}}}],\"scattercarpet\":[{\"type\":\"scattercarpet\",\"marker\":{\"colorbar\":{\"outlinewidth\":0,\"ticks\":\"\"}}}],\"carpet\":[{\"aaxis\":{\"endlinecolor\":\"#2a3f5f\",\"gridcolor\":\"white\",\"linecolor\":\"white\",\"minorgridcolor\":\"white\",\"startlinecolor\":\"#2a3f5f\"},\"baxis\":{\"endlinecolor\":\"#2a3f5f\",\"gridcolor\":\"white\",\"linecolor\":\"white\",\"minorgridcolor\":\"white\",\"startlinecolor\":\"#2a3f5f\"},\"type\":\"carpet\"}],\"table\":[{\"cells\":{\"fill\":{\"color\":\"#EBF0F8\"},\"line\":{\"color\":\"white\"}},\"header\":{\"fill\":{\"color\":\"#C8D4E3\"},\"line\":{\"color\":\"white\"}},\"type\":\"table\"}],\"barpolar\":[{\"marker\":{\"line\":{\"color\":\"#E5ECF6\",\"width\":0.5},\"pattern\":{\"fillmode\":\"overlay\",\"size\":10,\"solidity\":0.2}},\"type\":\"barpolar\"}],\"pie\":[{\"automargin\":true,\"type\":\"pie\"}]},\"layout\":{\"autotypenumbers\":\"strict\",\"colorway\":[\"#636efa\",\"#EF553B\",\"#00cc96\",\"#ab63fa\",\"#FFA15A\",\"#19d3f3\",\"#FF6692\",\"#B6E880\",\"#FF97FF\",\"#FECB52\"],\"font\":{\"color\":\"#2a3f5f\"},\"hovermode\":\"closest\",\"hoverlabel\":{\"align\":\"left\"},\"paper_bgcolor\":\"white\",\"plot_bgcolor\":\"#E5ECF6\",\"polar\":{\"bgcolor\":\"#E5ECF6\",\"angularaxis\":{\"gridcolor\":\"white\",\"linecolor\":\"white\",\"ticks\":\"\"},\"radialaxis\":{\"gridcolor\":\"white\",\"linecolor\":\"white\",\"ticks\":\"\"}},\"ternary\":{\"bgcolor\":\"#E5ECF6\",\"aaxis\":{\"gridcolor\":\"white\",\"linecolor\":\"white\",\"ticks\":\"\"},\"baxis\":{\"gridcolor\":\"white\",\"linecolor\":\"white\",\"ticks\":\"\"},\"caxis\":{\"gridcolor\":\"white\",\"linecolor\":\"white\",\"ticks\":\"\"}},\"coloraxis\":{\"colorbar\":{\"outlinewidth\":0,\"ticks\":\"\"}},\"colorscale\":{\"sequential\":[[0.0,\"#0d0887\"],[0.1111111111111111,\"#46039f\"],[0.2222222222222222,\"#7201a8\"],[0.3333333333333333,\"#9c179e\"],[0.4444444444444444,\"#bd3786\"],[0.5555555555555556,\"#d8576b\"],[0.6666666666666666,\"#ed7953\"],[0.7777777777777778,\"#fb9f3a\"],[0.8888888888888888,\"#fdca26\"],[1.0,\"#f0f921\"]],\"sequentialminus\":[[0.0,\"#0d0887\"],[0.1111111111111111,\"#46039f\"],[0.2222222222222222,\"#7201a8\"],[0.3333333333333333,\"#9c179e\"],[0.4444444444444444,\"#bd3786\"],[0.5555555555555556,\"#d8576b\"],[0.6666666666666666,\"#ed7953\"],[0.7777777777777778,\"#fb9f3a\"],[0.8888888888888888,\"#fdca26\"],[1.0,\"#f0f921\"]],\"diverging\":[[0,\"#8e0152\"],[0.1,\"#c51b7d\"],[0.2,\"#de77ae\"],[0.3,\"#f1b6da\"],[0.4,\"#fde0ef\"],[0.5,\"#f7f7f7\"],[0.6,\"#e6f5d0\"],[0.7,\"#b8e186\"],[0.8,\"#7fbc41\"],[0.9,\"#4d9221\"],[1,\"#276419\"]]},\"xaxis\":{\"gridcolor\":\"white\",\"linecolor\":\"white\",\"ticks\":\"\",\"title\":{\"standoff\":15},\"zerolinecolor\":\"white\",\"automargin\":true,\"zerolinewidth\":2},\"yaxis\":{\"gridcolor\":\"white\",\"linecolor\":\"white\",\"ticks\":\"\",\"title\":{\"standoff\":15},\"zerolinecolor\":\"white\",\"automargin\":true,\"zerolinewidth\":2},\"scene\":{\"xaxis\":{\"backgroundcolor\":\"#E5ECF6\",\"gridcolor\":\"white\",\"linecolor\":\"white\",\"showbackground\":true,\"ticks\":\"\",\"zerolinecolor\":\"white\",\"gridwidth\":2},\"yaxis\":{\"backgroundcolor\":\"#E5ECF6\",\"gridcolor\":\"white\",\"linecolor\":\"white\",\"showbackground\":true,\"ticks\":\"\",\"zerolinecolor\":\"white\",\"gridwidth\":2},\"zaxis\":{\"backgroundcolor\":\"#E5ECF6\",\"gridcolor\":\"white\",\"linecolor\":\"white\",\"showbackground\":true,\"ticks\":\"\",\"zerolinecolor\":\"white\",\"gridwidth\":2}},\"shapedefaults\":{\"line\":{\"color\":\"#2a3f5f\"}},\"annotationdefaults\":{\"arrowcolor\":\"#2a3f5f\",\"arrowhead\":0,\"arrowwidth\":1},\"geo\":{\"bgcolor\":\"white\",\"landcolor\":\"#E5ECF6\",\"subunitcolor\":\"white\",\"showland\":true,\"showlakes\":true,\"lakecolor\":\"white\"},\"title\":{\"x\":0.05},\"mapbox\":{\"style\":\"light\"}}},\"xaxis\":{\"anchor\":\"y\",\"domain\":[0.0,0.14666666666666667],\"title\":{\"text\":\"\"}},\"yaxis\":{\"anchor\":\"x\",\"domain\":[0.0,0.3133333333333333],\"title\":{\"text\":\"\"}},\"xaxis2\":{\"anchor\":\"y2\",\"domain\":[0.16666666666666666,0.31333333333333335],\"matches\":\"x\",\"title\":{\"text\":\"\"}},\"yaxis2\":{\"anchor\":\"x2\",\"domain\":[0.0,0.3133333333333333],\"matches\":\"y\",\"showticklabels\":false,\"title\":{\"text\":\"\"}},\"xaxis3\":{\"anchor\":\"y3\",\"domain\":[0.3333333333333333,0.48],\"matches\":\"x\",\"title\":{\"text\":\"\"}},\"yaxis3\":{\"anchor\":\"x3\",\"domain\":[0.0,0.3133333333333333],\"matches\":\"y\",\"showticklabels\":false,\"title\":{\"text\":\"\"}},\"xaxis4\":{\"anchor\":\"y4\",\"domain\":[0.5,0.6466666666666667],\"matches\":\"x\",\"title\":{\"text\":\"\"}},\"yaxis4\":{\"anchor\":\"x4\",\"domain\":[0.0,0.3133333333333333],\"matches\":\"y\",\"showticklabels\":false,\"title\":{\"text\":\"\"}},\"xaxis5\":{\"anchor\":\"y5\",\"domain\":[0.6666666666666666,0.8133333333333332],\"matches\":\"x\",\"title\":{\"text\":\"\"}},\"yaxis5\":{\"anchor\":\"x5\",\"domain\":[0.0,0.3133333333333333],\"matches\":\"y\",\"showticklabels\":false,\"title\":{\"text\":\"\"}},\"xaxis6\":{\"anchor\":\"y6\",\"domain\":[0.8333333333333334,0.98],\"matches\":\"x\",\"title\":{\"text\":\"\"}},\"yaxis6\":{\"anchor\":\"x6\",\"domain\":[0.0,0.3133333333333333],\"matches\":\"y\",\"showticklabels\":false,\"title\":{\"text\":\"\"}},\"xaxis7\":{\"anchor\":\"y7\",\"domain\":[0.0,0.14666666666666667],\"matches\":\"x\",\"showticklabels\":false,\"title\":{\"text\":\"\"}},\"yaxis7\":{\"anchor\":\"x7\",\"domain\":[0.34333333333333327,0.6566666666666665],\"matches\":\"y\",\"title\":{\"text\":\"\"}},\"xaxis8\":{\"anchor\":\"y8\",\"domain\":[0.16666666666666666,0.31333333333333335],\"matches\":\"x\",\"showticklabels\":false,\"title\":{\"text\":\"\"}},\"yaxis8\":{\"anchor\":\"x8\",\"domain\":[0.34333333333333327,0.6566666666666665],\"matches\":\"y\",\"showticklabels\":false,\"title\":{\"text\":\"\"}},\"xaxis9\":{\"anchor\":\"y9\",\"domain\":[0.3333333333333333,0.48],\"matches\":\"x\",\"showticklabels\":false,\"title\":{\"text\":\"\"}},\"yaxis9\":{\"anchor\":\"x9\",\"domain\":[0.34333333333333327,0.6566666666666665],\"matches\":\"y\",\"showticklabels\":false,\"title\":{\"text\":\"\"}},\"xaxis10\":{\"anchor\":\"y10\",\"domain\":[0.5,0.6466666666666667],\"matches\":\"x\",\"showticklabels\":false,\"title\":{\"text\":\"\"}},\"yaxis10\":{\"anchor\":\"x10\",\"domain\":[0.34333333333333327,0.6566666666666665],\"matches\":\"y\",\"showticklabels\":false,\"title\":{\"text\":\"\"}},\"xaxis11\":{\"anchor\":\"y11\",\"domain\":[0.6666666666666666,0.8133333333333332],\"matches\":\"x\",\"showticklabels\":false,\"title\":{\"text\":\"\"}},\"yaxis11\":{\"anchor\":\"x11\",\"domain\":[0.34333333333333327,0.6566666666666665],\"matches\":\"y\",\"showticklabels\":false,\"title\":{\"text\":\"\"}},\"xaxis12\":{\"anchor\":\"y12\",\"domain\":[0.8333333333333334,0.98],\"matches\":\"x\",\"showticklabels\":false,\"title\":{\"text\":\"\"}},\"yaxis12\":{\"anchor\":\"x12\",\"domain\":[0.34333333333333327,0.6566666666666665],\"matches\":\"y\",\"showticklabels\":false,\"title\":{\"text\":\"\"}},\"xaxis13\":{\"anchor\":\"y13\",\"domain\":[0.0,0.14666666666666667],\"matches\":\"x\",\"showticklabels\":false,\"title\":{\"text\":\"\"}},\"yaxis13\":{\"anchor\":\"x13\",\"domain\":[0.6866666666666665,0.9999999999999998],\"matches\":\"y\",\"title\":{\"text\":\"\"}},\"xaxis14\":{\"anchor\":\"y14\",\"domain\":[0.16666666666666666,0.31333333333333335],\"matches\":\"x\",\"showticklabels\":false,\"title\":{\"text\":\"\"}},\"yaxis14\":{\"anchor\":\"x14\",\"domain\":[0.6866666666666665,0.9999999999999998],\"matches\":\"y\",\"showticklabels\":false,\"title\":{\"text\":\"\"}},\"xaxis15\":{\"anchor\":\"y15\",\"domain\":[0.3333333333333333,0.48],\"matches\":\"x\",\"showticklabels\":false,\"title\":{\"text\":\"\"}},\"yaxis15\":{\"anchor\":\"x15\",\"domain\":[0.6866666666666665,0.9999999999999998],\"matches\":\"y\",\"showticklabels\":false,\"title\":{\"text\":\"\"}},\"xaxis16\":{\"anchor\":\"y16\",\"domain\":[0.5,0.6466666666666667],\"matches\":\"x\",\"showticklabels\":false,\"title\":{\"text\":\"\"}},\"yaxis16\":{\"anchor\":\"x16\",\"domain\":[0.6866666666666665,0.9999999999999998],\"matches\":\"y\",\"showticklabels\":false,\"title\":{\"text\":\"\"}},\"xaxis17\":{\"anchor\":\"y17\",\"domain\":[0.6666666666666666,0.8133333333333332],\"matches\":\"x\",\"showticklabels\":false,\"title\":{\"text\":\"\"}},\"yaxis17\":{\"anchor\":\"x17\",\"domain\":[0.6866666666666665,0.9999999999999998],\"matches\":\"y\",\"showticklabels\":false,\"title\":{\"text\":\"\"}},\"xaxis18\":{\"anchor\":\"y18\",\"domain\":[0.8333333333333334,0.98],\"matches\":\"x\",\"showticklabels\":false,\"title\":{\"text\":\"\"}},\"yaxis18\":{\"anchor\":\"x18\",\"domain\":[0.6866666666666665,0.9999999999999998],\"matches\":\"y\",\"showticklabels\":false,\"title\":{\"text\":\"\"}},\"annotations\":[{\"showarrow\":false,\"text\":\"0.5\",\"x\":0.07333333333333333,\"xanchor\":\"center\",\"xref\":\"paper\",\"y\":0.9999999999999998,\"yanchor\":\"bottom\",\"yref\":\"paper\"},{\"showarrow\":false,\"text\":\"1.0\",\"x\":0.24,\"xanchor\":\"center\",\"xref\":\"paper\",\"y\":0.9999999999999998,\"yanchor\":\"bottom\",\"yref\":\"paper\"},{\"showarrow\":false,\"text\":\"2.0\",\"x\":0.4066666666666666,\"xanchor\":\"center\",\"xref\":\"paper\",\"y\":0.9999999999999998,\"yanchor\":\"bottom\",\"yref\":\"paper\"},{\"showarrow\":false,\"text\":\"5.0\",\"x\":0.5733333333333334,\"xanchor\":\"center\",\"xref\":\"paper\",\"y\":0.9999999999999998,\"yanchor\":\"bottom\",\"yref\":\"paper\"},{\"showarrow\":false,\"text\":\"15.0\",\"x\":0.74,\"xanchor\":\"center\",\"xref\":\"paper\",\"y\":0.9999999999999998,\"yanchor\":\"bottom\",\"yref\":\"paper\"},{\"showarrow\":false,\"text\":\"30.0\",\"x\":0.9066666666666667,\"xanchor\":\"center\",\"xref\":\"paper\",\"y\":0.9999999999999998,\"yanchor\":\"bottom\",\"yref\":\"paper\"},{\"showarrow\":false,\"text\":\"600\",\"textangle\":90,\"x\":0.98,\"xanchor\":\"left\",\"xref\":\"paper\",\"y\":0.15666666666666665,\"yanchor\":\"middle\",\"yref\":\"paper\"},{\"showarrow\":false,\"text\":\"300\",\"textangle\":90,\"x\":0.98,\"xanchor\":\"left\",\"xref\":\"paper\",\"y\":0.4999999999999999,\"yanchor\":\"middle\",\"yref\":\"paper\"},{\"showarrow\":false,\"text\":\"180\",\"textangle\":90,\"x\":0.98,\"xanchor\":\"left\",\"xref\":\"paper\",\"y\":0.8433333333333332,\"yanchor\":\"middle\",\"yref\":\"paper\"},{\"showarrow\":false,\"text\":\"travel time per request [s]\",\"textangle\":-90,\"x\":-0.06,\"xref\":\"paper\",\"y\":0.5,\"yref\":\"paper\"},{\"showarrow\":false,\"text\":\"instance length [min]\",\"x\":0.5,\"xref\":\"paper\",\"y\":1.12,\"yref\":\"paper\"},{\"showarrow\":false,\"text\":\"maximum delay [s]\",\"textangle\":90,\"x\":1.02,\"xref\":\"paper\",\"y\":0.5,\"yref\":\"paper\"}],\"legend\":{\"title\":{\"text\":\"method\"},\"tracegroupgap\":0,\"orientation\":\"h\",\"yanchor\":\"bottom\",\"y\":1.06,\"xanchor\":\"right\",\"x\":1,\"bordercolor\":\"Black\",\"borderwidth\":1},\"margin\":{\"t\":0,\"l\":0,\"r\":0,\"b\":0,\"pad\":0},\"barmode\":\"group\",\"height\":400,\"width\":900},                        {\"responsive\": true}                    ).then(function(){\n                            \nvar gd = document.getElementById('ec730976-4567-4fcf-b1e8-425f59686ab5');\nvar x = new MutationObserver(function (mutations, observer) {{\n        var display = window.getComputedStyle(gd).display;\n        if (!display || display === 'none') {{\n            console.log([gd, 'removed!']);\n            Plotly.purge(gd);\n            observer.disconnect();\n        }}\n}});\n\n// Listen for the removal of the full notebook cells\nvar notebookContainer = gd.closest('#notebook-container');\nif (notebookContainer) {{\n    x.observe(notebookContainer, {childList: true});\n}}\n\n// Listen for the clearing of the current output cell\nvar outputEl = gd.closest('.output');\nif (outputEl) {{\n    x.observe(outputEl, {childList: true});\n}}\n\n                        })                };                });            </script>        </div>"
     },
     "metadata": {},
     "output_type": "display_data"
    }
   ],
   "source": [
    "fig = plot_main_result(900, 400)"
   ],
   "metadata": {
    "collapsed": false,
    "ExecuteTime": {
     "end_time": "2023-05-17T15:03:08.956933600Z",
     "start_time": "2023-05-17T15:03:08.645931600Z"
    }
   }
  },
  {
   "cell_type": "code",
   "execution_count": 119,
   "outputs": [],
   "source": [
    "fig_path = Path(\"C:/Workspaces/AIC/Ridesharing_DARP_instances/figures\")\n",
    "fig.write_image(fig_path / \"main_result-wide.pdf\")\n",
    "# fig.write_image(fig_path / \"main_result.png\")"
   ],
   "metadata": {
    "collapsed": false,
    "ExecuteTime": {
     "end_time": "2023-05-17T15:03:19.112384200Z",
     "start_time": "2023-05-17T15:03:18.765386300Z"
    }
   }
  },
  {
   "cell_type": "markdown",
   "source": [
    "## All methods selected instances"
   ],
   "metadata": {
    "collapsed": false
   }
  },
  {
   "cell_type": "code",
   "execution_count": 89,
   "outputs": [],
   "source": [
    "def plot_main_result(width: int, height: int) -> None:\n",
    "    dfsel = df.query('duration_minutes <= 5 and max_delay <= 300')\n",
    "    fig = px.bar(\n",
    "        dfsel,\n",
    "        x = 'area',\n",
    "        y = 'cost_per_request',\n",
    "        barmode='group',\n",
    "        title = 'Average Cost per Request',\n",
    "        facet_col='duration_minutes',\n",
    "        facet_row='max_delay',\n",
    "        color='method'\n",
    "    )\n",
    "\n",
    "    # shared axes titles\n",
    "    fig.for_each_yaxis(lambda y: y.update(title = ''))\n",
    "    fig.add_annotation(x=-0.06, y=0.5, text=\"travel time per request [s]\", textangle=-90, xref=\"paper\", yref=\"paper\", showarrow=False)\n",
    "    fig.for_each_xaxis(lambda y: y.update(title = ''))\n",
    "    # fig.add_annotation(x=0.5, y=-0.1, text=\"Area\",  xref=\"paper\", yref=\"paper\", showarrow=False)\n",
    "\n",
    "    # faceting label editing\n",
    "    fig.for_each_annotation(lambda a: a.update(text=a.text.split(\"=\")[-1]))\n",
    "\n",
    "    fig.show()\n",
    "    return fig"
   ],
   "metadata": {
    "collapsed": false,
    "ExecuteTime": {
     "end_time": "2023-05-17T14:54:16.058502500Z",
     "start_time": "2023-05-17T14:54:16.033501700Z"
    }
   }
  },
  {
   "cell_type": "code",
   "execution_count": 90,
   "outputs": [
    {
     "data": {
      "application/vnd.plotly.v1+json": {
       "data": [
        {
         "alignmentgroup": "True",
         "hovertemplate": "method=ih<br>max_delay=180<br>duration_minutes=0.5<br>area=%{x}<br>cost_per_request=%{y}<extra></extra>",
         "legendgroup": "ih",
         "marker": {
          "color": "#636efa",
          "pattern": {
           "shape": ""
          }
         },
         "name": "ih",
         "offsetgroup": "ih",
         "orientation": "v",
         "showlegend": true,
         "textposition": "auto",
         "x": [
          "Chicago",
          "DC",
          "Manhattan",
          "NYC"
         ],
         "xaxis": "x5",
         "y": [
          1008.0,
          2115.0,
          498.42857142857144,
          823.7689969604863
         ],
         "yaxis": "y5",
         "type": "bar"
        },
        {
         "alignmentgroup": "True",
         "hovertemplate": "method=ih<br>max_delay=180<br>duration_minutes=1.0<br>area=%{x}<br>cost_per_request=%{y}<extra></extra>",
         "legendgroup": "ih",
         "marker": {
          "color": "#636efa",
          "pattern": {
           "shape": ""
          }
         },
         "name": "ih",
         "offsetgroup": "ih",
         "orientation": "v",
         "showlegend": false,
         "textposition": "auto",
         "x": [
          "Chicago",
          "DC",
          "Manhattan",
          "NYC"
         ],
         "xaxis": "x6",
         "y": [
          1153.8461538461538,
          1705.7142857142858,
          488.8111888111888,
          710.4833836858006
         ],
         "yaxis": "y6",
         "type": "bar"
        },
        {
         "alignmentgroup": "True",
         "hovertemplate": "method=ih<br>max_delay=180<br>duration_minutes=2.0<br>area=%{x}<br>cost_per_request=%{y}<extra></extra>",
         "legendgroup": "ih",
         "marker": {
          "color": "#636efa",
          "pattern": {
           "shape": ""
          }
         },
         "name": "ih",
         "offsetgroup": "ih",
         "orientation": "v",
         "showlegend": false,
         "textposition": "auto",
         "x": [
          "Chicago",
          "DC",
          "Manhattan",
          "NYC"
         ],
         "xaxis": "x7",
         "y": [
          949.2857142857143,
          1320.0,
          433.1900826446281,
          685.7528089887641
         ],
         "yaxis": "y7",
         "type": "bar"
        },
        {
         "alignmentgroup": "True",
         "hovertemplate": "method=ih<br>max_delay=180<br>duration_minutes=5.0<br>area=%{x}<br>cost_per_request=%{y}<extra></extra>",
         "legendgroup": "ih",
         "marker": {
          "color": "#636efa",
          "pattern": {
           "shape": ""
          }
         },
         "name": "ih",
         "offsetgroup": "ih",
         "orientation": "v",
         "showlegend": false,
         "textposition": "auto",
         "x": [
          "Chicago",
          "DC",
          "Manhattan",
          "NYC"
         ],
         "xaxis": "x8",
         "y": [
          954.065934065934,
          1334.4444444444443,
          378.45597104945716,
          597.1616972477065
         ],
         "yaxis": "y8",
         "type": "bar"
        },
        {
         "alignmentgroup": "True",
         "hovertemplate": "method=ih<br>max_delay=300<br>duration_minutes=0.5<br>area=%{x}<br>cost_per_request=%{y}<extra></extra>",
         "legendgroup": "ih",
         "marker": {
          "color": "#636efa",
          "pattern": {
           "shape": ""
          }
         },
         "name": "ih",
         "offsetgroup": "ih",
         "orientation": "v",
         "showlegend": false,
         "textposition": "auto",
         "x": [
          "Chicago",
          "DC",
          "Manhattan",
          "NYC"
         ],
         "xaxis": "x",
         "y": [
          696.0,
          2115.0,
          464.57142857142856,
          716.5349544072948
         ],
         "yaxis": "y",
         "type": "bar"
        },
        {
         "alignmentgroup": "True",
         "hovertemplate": "method=ih<br>max_delay=300<br>duration_minutes=1.0<br>area=%{x}<br>cost_per_request=%{y}<extra></extra>",
         "legendgroup": "ih",
         "marker": {
          "color": "#636efa",
          "pattern": {
           "shape": ""
          }
         },
         "name": "ih",
         "offsetgroup": "ih",
         "orientation": "v",
         "showlegend": false,
         "textposition": "auto",
         "x": [
          "Chicago",
          "DC",
          "Manhattan",
          "NYC"
         ],
         "xaxis": "x2",
         "y": [
          1144.6153846153845,
          1705.7142857142858,
          434.8951048951049,
          628.1873111782477
         ],
         "yaxis": "y2",
         "type": "bar"
        },
        {
         "alignmentgroup": "True",
         "hovertemplate": "method=ih<br>max_delay=300<br>duration_minutes=2.0<br>area=%{x}<br>cost_per_request=%{y}<extra></extra>",
         "legendgroup": "ih",
         "marker": {
          "color": "#636efa",
          "pattern": {
           "shape": ""
          }
         },
         "name": "ih",
         "offsetgroup": "ih",
         "orientation": "v",
         "showlegend": false,
         "textposition": "auto",
         "x": [
          "Chicago",
          "DC",
          "Manhattan",
          "NYC"
         ],
         "xaxis": "x3",
         "y": [
          930.0,
          1303.3333333333333,
          387.07438016528926,
          586.3370786516854
         ],
         "yaxis": "y3",
         "type": "bar"
        },
        {
         "alignmentgroup": "True",
         "hovertemplate": "method=ih<br>max_delay=300<br>duration_minutes=5.0<br>area=%{x}<br>cost_per_request=%{y}<extra></extra>",
         "legendgroup": "ih",
         "marker": {
          "color": "#636efa",
          "pattern": {
           "shape": ""
          }
         },
         "name": "ih",
         "offsetgroup": "ih",
         "orientation": "v",
         "showlegend": false,
         "textposition": "auto",
         "x": [
          "Chicago",
          "DC",
          "Manhattan",
          "NYC"
         ],
         "xaxis": "x4",
         "y": [
          805.7142857142857,
          1207.7777777777778,
          349.65018094089265,
          525.9977064220184
         ],
         "yaxis": "y4",
         "type": "bar"
        },
        {
         "alignmentgroup": "True",
         "hovertemplate": "method=vga<br>max_delay=180<br>duration_minutes=0.5<br>area=%{x}<br>cost_per_request=%{y}<extra></extra>",
         "legendgroup": "vga",
         "marker": {
          "color": "#EF553B",
          "pattern": {
           "shape": ""
          }
         },
         "name": "vga",
         "offsetgroup": "vga",
         "orientation": "v",
         "showlegend": true,
         "textposition": "auto",
         "x": [
          "Chicago",
          "DC",
          "Manhattan",
          "NYC"
         ],
         "xaxis": "x5",
         "y": [
          900.0,
          2115.0,
          469.7142857142857,
          774.7112462006079
         ],
         "yaxis": "y5",
         "type": "bar"
        },
        {
         "alignmentgroup": "True",
         "hovertemplate": "method=vga<br>max_delay=180<br>duration_minutes=1.0<br>area=%{x}<br>cost_per_request=%{y}<extra></extra>",
         "legendgroup": "vga",
         "marker": {
          "color": "#EF553B",
          "pattern": {
           "shape": ""
          }
         },
         "name": "vga",
         "offsetgroup": "vga",
         "orientation": "v",
         "showlegend": false,
         "textposition": "auto",
         "x": [
          "Chicago",
          "DC",
          "Manhattan",
          "NYC"
         ],
         "xaxis": "x6",
         "y": [
          1144.6153846153845,
          1705.7142857142858,
          424.4055944055944,
          668.8821752265861
         ],
         "yaxis": "y6",
         "type": "bar"
        },
        {
         "alignmentgroup": "True",
         "hovertemplate": "method=vga<br>max_delay=180<br>duration_minutes=2.0<br>area=%{x}<br>cost_per_request=%{y}<extra></extra>",
         "legendgroup": "vga",
         "marker": {
          "color": "#EF553B",
          "pattern": {
           "shape": ""
          }
         },
         "name": "vga",
         "offsetgroup": "vga",
         "orientation": "v",
         "showlegend": false,
         "textposition": "auto",
         "x": [
          "Chicago",
          "DC",
          "Manhattan",
          "NYC"
         ],
         "xaxis": "x7",
         "y": [
          919.2857142857143,
          1303.3333333333333,
          357.6198347107438,
          614.1123595505618
         ],
         "yaxis": "y7",
         "type": "bar"
        },
        {
         "alignmentgroup": "True",
         "hovertemplate": "method=vga<br>max_delay=180<br>duration_minutes=5.0<br>area=%{x}<br>cost_per_request=%{y}<extra></extra>",
         "legendgroup": "vga",
         "marker": {
          "color": "#EF553B",
          "pattern": {
           "shape": ""
          }
         },
         "name": "vga",
         "offsetgroup": "vga",
         "orientation": "v",
         "showlegend": false,
         "textposition": "auto",
         "x": [
          "Chicago",
          "DC"
         ],
         "xaxis": "x8",
         "y": [
          867.6923076923077,
          1314.4444444444443
         ],
         "yaxis": "y8",
         "type": "bar"
        },
        {
         "alignmentgroup": "True",
         "hovertemplate": "method=vga<br>max_delay=300<br>duration_minutes=0.5<br>area=%{x}<br>cost_per_request=%{y}<extra></extra>",
         "legendgroup": "vga",
         "marker": {
          "color": "#EF553B",
          "pattern": {
           "shape": ""
          }
         },
         "name": "vga",
         "offsetgroup": "vga",
         "orientation": "v",
         "showlegend": false,
         "textposition": "auto",
         "x": [
          "Chicago",
          "DC",
          "Manhattan",
          "NYC"
         ],
         "xaxis": "x",
         "y": [
          696.0,
          2115.0,
          398.57142857142856,
          667.112462006079
         ],
         "yaxis": "y",
         "type": "bar"
        },
        {
         "alignmentgroup": "True",
         "hovertemplate": "method=vga<br>max_delay=300<br>duration_minutes=1.0<br>area=%{x}<br>cost_per_request=%{y}<extra></extra>",
         "legendgroup": "vga",
         "marker": {
          "color": "#EF553B",
          "pattern": {
           "shape": ""
          }
         },
         "name": "vga",
         "offsetgroup": "vga",
         "orientation": "v",
         "showlegend": false,
         "textposition": "auto",
         "x": [
          "Chicago",
          "DC",
          "Manhattan",
          "NYC"
         ],
         "xaxis": "x2",
         "y": [
          1107.6923076923076,
          1705.7142857142858,
          352.02797202797206,
          578.5196374622357
         ],
         "yaxis": "y2",
         "type": "bar"
        },
        {
         "alignmentgroup": "True",
         "hovertemplate": "method=vga<br>max_delay=300<br>duration_minutes=2.0<br>area=%{x}<br>cost_per_request=%{y}<extra></extra>",
         "legendgroup": "vga",
         "marker": {
          "color": "#EF553B",
          "pattern": {
           "shape": ""
          }
         },
         "name": "vga",
         "offsetgroup": "vga",
         "orientation": "v",
         "showlegend": false,
         "textposition": "auto",
         "x": [
          "Chicago",
          "DC",
          "Manhattan"
         ],
         "xaxis": "x3",
         "y": [
          895.7142857142857,
          1276.6666666666667,
          296.1322314049587
         ],
         "yaxis": "y3",
         "type": "bar"
        },
        {
         "alignmentgroup": "True",
         "hovertemplate": "method=vga<br>max_delay=300<br>duration_minutes=5.0<br>area=%{x}<br>cost_per_request=%{y}<extra></extra>",
         "legendgroup": "vga",
         "marker": {
          "color": "#EF553B",
          "pattern": {
           "shape": ""
          }
         },
         "name": "vga",
         "offsetgroup": "vga",
         "orientation": "v",
         "showlegend": false,
         "textposition": "auto",
         "x": [
          "Chicago",
          "DC"
         ],
         "xaxis": "x4",
         "y": [
          754.2857142857143,
          1138.888888888889
         ],
         "yaxis": "y4",
         "type": "bar"
        }
       ],
       "layout": {
        "template": {
         "data": {
          "histogram2dcontour": [
           {
            "type": "histogram2dcontour",
            "colorbar": {
             "outlinewidth": 0,
             "ticks": ""
            },
            "colorscale": [
             [
              0.0,
              "#0d0887"
             ],
             [
              0.1111111111111111,
              "#46039f"
             ],
             [
              0.2222222222222222,
              "#7201a8"
             ],
             [
              0.3333333333333333,
              "#9c179e"
             ],
             [
              0.4444444444444444,
              "#bd3786"
             ],
             [
              0.5555555555555556,
              "#d8576b"
             ],
             [
              0.6666666666666666,
              "#ed7953"
             ],
             [
              0.7777777777777778,
              "#fb9f3a"
             ],
             [
              0.8888888888888888,
              "#fdca26"
             ],
             [
              1.0,
              "#f0f921"
             ]
            ]
           }
          ],
          "choropleth": [
           {
            "type": "choropleth",
            "colorbar": {
             "outlinewidth": 0,
             "ticks": ""
            }
           }
          ],
          "histogram2d": [
           {
            "type": "histogram2d",
            "colorbar": {
             "outlinewidth": 0,
             "ticks": ""
            },
            "colorscale": [
             [
              0.0,
              "#0d0887"
             ],
             [
              0.1111111111111111,
              "#46039f"
             ],
             [
              0.2222222222222222,
              "#7201a8"
             ],
             [
              0.3333333333333333,
              "#9c179e"
             ],
             [
              0.4444444444444444,
              "#bd3786"
             ],
             [
              0.5555555555555556,
              "#d8576b"
             ],
             [
              0.6666666666666666,
              "#ed7953"
             ],
             [
              0.7777777777777778,
              "#fb9f3a"
             ],
             [
              0.8888888888888888,
              "#fdca26"
             ],
             [
              1.0,
              "#f0f921"
             ]
            ]
           }
          ],
          "heatmap": [
           {
            "type": "heatmap",
            "colorbar": {
             "outlinewidth": 0,
             "ticks": ""
            },
            "colorscale": [
             [
              0.0,
              "#0d0887"
             ],
             [
              0.1111111111111111,
              "#46039f"
             ],
             [
              0.2222222222222222,
              "#7201a8"
             ],
             [
              0.3333333333333333,
              "#9c179e"
             ],
             [
              0.4444444444444444,
              "#bd3786"
             ],
             [
              0.5555555555555556,
              "#d8576b"
             ],
             [
              0.6666666666666666,
              "#ed7953"
             ],
             [
              0.7777777777777778,
              "#fb9f3a"
             ],
             [
              0.8888888888888888,
              "#fdca26"
             ],
             [
              1.0,
              "#f0f921"
             ]
            ]
           }
          ],
          "heatmapgl": [
           {
            "type": "heatmapgl",
            "colorbar": {
             "outlinewidth": 0,
             "ticks": ""
            },
            "colorscale": [
             [
              0.0,
              "#0d0887"
             ],
             [
              0.1111111111111111,
              "#46039f"
             ],
             [
              0.2222222222222222,
              "#7201a8"
             ],
             [
              0.3333333333333333,
              "#9c179e"
             ],
             [
              0.4444444444444444,
              "#bd3786"
             ],
             [
              0.5555555555555556,
              "#d8576b"
             ],
             [
              0.6666666666666666,
              "#ed7953"
             ],
             [
              0.7777777777777778,
              "#fb9f3a"
             ],
             [
              0.8888888888888888,
              "#fdca26"
             ],
             [
              1.0,
              "#f0f921"
             ]
            ]
           }
          ],
          "contourcarpet": [
           {
            "type": "contourcarpet",
            "colorbar": {
             "outlinewidth": 0,
             "ticks": ""
            }
           }
          ],
          "contour": [
           {
            "type": "contour",
            "colorbar": {
             "outlinewidth": 0,
             "ticks": ""
            },
            "colorscale": [
             [
              0.0,
              "#0d0887"
             ],
             [
              0.1111111111111111,
              "#46039f"
             ],
             [
              0.2222222222222222,
              "#7201a8"
             ],
             [
              0.3333333333333333,
              "#9c179e"
             ],
             [
              0.4444444444444444,
              "#bd3786"
             ],
             [
              0.5555555555555556,
              "#d8576b"
             ],
             [
              0.6666666666666666,
              "#ed7953"
             ],
             [
              0.7777777777777778,
              "#fb9f3a"
             ],
             [
              0.8888888888888888,
              "#fdca26"
             ],
             [
              1.0,
              "#f0f921"
             ]
            ]
           }
          ],
          "surface": [
           {
            "type": "surface",
            "colorbar": {
             "outlinewidth": 0,
             "ticks": ""
            },
            "colorscale": [
             [
              0.0,
              "#0d0887"
             ],
             [
              0.1111111111111111,
              "#46039f"
             ],
             [
              0.2222222222222222,
              "#7201a8"
             ],
             [
              0.3333333333333333,
              "#9c179e"
             ],
             [
              0.4444444444444444,
              "#bd3786"
             ],
             [
              0.5555555555555556,
              "#d8576b"
             ],
             [
              0.6666666666666666,
              "#ed7953"
             ],
             [
              0.7777777777777778,
              "#fb9f3a"
             ],
             [
              0.8888888888888888,
              "#fdca26"
             ],
             [
              1.0,
              "#f0f921"
             ]
            ]
           }
          ],
          "mesh3d": [
           {
            "type": "mesh3d",
            "colorbar": {
             "outlinewidth": 0,
             "ticks": ""
            }
           }
          ],
          "scatter": [
           {
            "fillpattern": {
             "fillmode": "overlay",
             "size": 10,
             "solidity": 0.2
            },
            "type": "scatter"
           }
          ],
          "parcoords": [
           {
            "type": "parcoords",
            "line": {
             "colorbar": {
              "outlinewidth": 0,
              "ticks": ""
             }
            }
           }
          ],
          "scatterpolargl": [
           {
            "type": "scatterpolargl",
            "marker": {
             "colorbar": {
              "outlinewidth": 0,
              "ticks": ""
             }
            }
           }
          ],
          "bar": [
           {
            "error_x": {
             "color": "#2a3f5f"
            },
            "error_y": {
             "color": "#2a3f5f"
            },
            "marker": {
             "line": {
              "color": "#E5ECF6",
              "width": 0.5
             },
             "pattern": {
              "fillmode": "overlay",
              "size": 10,
              "solidity": 0.2
             }
            },
            "type": "bar"
           }
          ],
          "scattergeo": [
           {
            "type": "scattergeo",
            "marker": {
             "colorbar": {
              "outlinewidth": 0,
              "ticks": ""
             }
            }
           }
          ],
          "scatterpolar": [
           {
            "type": "scatterpolar",
            "marker": {
             "colorbar": {
              "outlinewidth": 0,
              "ticks": ""
             }
            }
           }
          ],
          "histogram": [
           {
            "marker": {
             "pattern": {
              "fillmode": "overlay",
              "size": 10,
              "solidity": 0.2
             }
            },
            "type": "histogram"
           }
          ],
          "scattergl": [
           {
            "type": "scattergl",
            "marker": {
             "colorbar": {
              "outlinewidth": 0,
              "ticks": ""
             }
            }
           }
          ],
          "scatter3d": [
           {
            "type": "scatter3d",
            "line": {
             "colorbar": {
              "outlinewidth": 0,
              "ticks": ""
             }
            },
            "marker": {
             "colorbar": {
              "outlinewidth": 0,
              "ticks": ""
             }
            }
           }
          ],
          "scattermapbox": [
           {
            "type": "scattermapbox",
            "marker": {
             "colorbar": {
              "outlinewidth": 0,
              "ticks": ""
             }
            }
           }
          ],
          "scatterternary": [
           {
            "type": "scatterternary",
            "marker": {
             "colorbar": {
              "outlinewidth": 0,
              "ticks": ""
             }
            }
           }
          ],
          "scattercarpet": [
           {
            "type": "scattercarpet",
            "marker": {
             "colorbar": {
              "outlinewidth": 0,
              "ticks": ""
             }
            }
           }
          ],
          "carpet": [
           {
            "aaxis": {
             "endlinecolor": "#2a3f5f",
             "gridcolor": "white",
             "linecolor": "white",
             "minorgridcolor": "white",
             "startlinecolor": "#2a3f5f"
            },
            "baxis": {
             "endlinecolor": "#2a3f5f",
             "gridcolor": "white",
             "linecolor": "white",
             "minorgridcolor": "white",
             "startlinecolor": "#2a3f5f"
            },
            "type": "carpet"
           }
          ],
          "table": [
           {
            "cells": {
             "fill": {
              "color": "#EBF0F8"
             },
             "line": {
              "color": "white"
             }
            },
            "header": {
             "fill": {
              "color": "#C8D4E3"
             },
             "line": {
              "color": "white"
             }
            },
            "type": "table"
           }
          ],
          "barpolar": [
           {
            "marker": {
             "line": {
              "color": "#E5ECF6",
              "width": 0.5
             },
             "pattern": {
              "fillmode": "overlay",
              "size": 10,
              "solidity": 0.2
             }
            },
            "type": "barpolar"
           }
          ],
          "pie": [
           {
            "automargin": true,
            "type": "pie"
           }
          ]
         },
         "layout": {
          "autotypenumbers": "strict",
          "colorway": [
           "#636efa",
           "#EF553B",
           "#00cc96",
           "#ab63fa",
           "#FFA15A",
           "#19d3f3",
           "#FF6692",
           "#B6E880",
           "#FF97FF",
           "#FECB52"
          ],
          "font": {
           "color": "#2a3f5f"
          },
          "hovermode": "closest",
          "hoverlabel": {
           "align": "left"
          },
          "paper_bgcolor": "white",
          "plot_bgcolor": "#E5ECF6",
          "polar": {
           "bgcolor": "#E5ECF6",
           "angularaxis": {
            "gridcolor": "white",
            "linecolor": "white",
            "ticks": ""
           },
           "radialaxis": {
            "gridcolor": "white",
            "linecolor": "white",
            "ticks": ""
           }
          },
          "ternary": {
           "bgcolor": "#E5ECF6",
           "aaxis": {
            "gridcolor": "white",
            "linecolor": "white",
            "ticks": ""
           },
           "baxis": {
            "gridcolor": "white",
            "linecolor": "white",
            "ticks": ""
           },
           "caxis": {
            "gridcolor": "white",
            "linecolor": "white",
            "ticks": ""
           }
          },
          "coloraxis": {
           "colorbar": {
            "outlinewidth": 0,
            "ticks": ""
           }
          },
          "colorscale": {
           "sequential": [
            [
             0.0,
             "#0d0887"
            ],
            [
             0.1111111111111111,
             "#46039f"
            ],
            [
             0.2222222222222222,
             "#7201a8"
            ],
            [
             0.3333333333333333,
             "#9c179e"
            ],
            [
             0.4444444444444444,
             "#bd3786"
            ],
            [
             0.5555555555555556,
             "#d8576b"
            ],
            [
             0.6666666666666666,
             "#ed7953"
            ],
            [
             0.7777777777777778,
             "#fb9f3a"
            ],
            [
             0.8888888888888888,
             "#fdca26"
            ],
            [
             1.0,
             "#f0f921"
            ]
           ],
           "sequentialminus": [
            [
             0.0,
             "#0d0887"
            ],
            [
             0.1111111111111111,
             "#46039f"
            ],
            [
             0.2222222222222222,
             "#7201a8"
            ],
            [
             0.3333333333333333,
             "#9c179e"
            ],
            [
             0.4444444444444444,
             "#bd3786"
            ],
            [
             0.5555555555555556,
             "#d8576b"
            ],
            [
             0.6666666666666666,
             "#ed7953"
            ],
            [
             0.7777777777777778,
             "#fb9f3a"
            ],
            [
             0.8888888888888888,
             "#fdca26"
            ],
            [
             1.0,
             "#f0f921"
            ]
           ],
           "diverging": [
            [
             0,
             "#8e0152"
            ],
            [
             0.1,
             "#c51b7d"
            ],
            [
             0.2,
             "#de77ae"
            ],
            [
             0.3,
             "#f1b6da"
            ],
            [
             0.4,
             "#fde0ef"
            ],
            [
             0.5,
             "#f7f7f7"
            ],
            [
             0.6,
             "#e6f5d0"
            ],
            [
             0.7,
             "#b8e186"
            ],
            [
             0.8,
             "#7fbc41"
            ],
            [
             0.9,
             "#4d9221"
            ],
            [
             1,
             "#276419"
            ]
           ]
          },
          "xaxis": {
           "gridcolor": "white",
           "linecolor": "white",
           "ticks": "",
           "title": {
            "standoff": 15
           },
           "zerolinecolor": "white",
           "automargin": true,
           "zerolinewidth": 2
          },
          "yaxis": {
           "gridcolor": "white",
           "linecolor": "white",
           "ticks": "",
           "title": {
            "standoff": 15
           },
           "zerolinecolor": "white",
           "automargin": true,
           "zerolinewidth": 2
          },
          "scene": {
           "xaxis": {
            "backgroundcolor": "#E5ECF6",
            "gridcolor": "white",
            "linecolor": "white",
            "showbackground": true,
            "ticks": "",
            "zerolinecolor": "white",
            "gridwidth": 2
           },
           "yaxis": {
            "backgroundcolor": "#E5ECF6",
            "gridcolor": "white",
            "linecolor": "white",
            "showbackground": true,
            "ticks": "",
            "zerolinecolor": "white",
            "gridwidth": 2
           },
           "zaxis": {
            "backgroundcolor": "#E5ECF6",
            "gridcolor": "white",
            "linecolor": "white",
            "showbackground": true,
            "ticks": "",
            "zerolinecolor": "white",
            "gridwidth": 2
           }
          },
          "shapedefaults": {
           "line": {
            "color": "#2a3f5f"
           }
          },
          "annotationdefaults": {
           "arrowcolor": "#2a3f5f",
           "arrowhead": 0,
           "arrowwidth": 1
          },
          "geo": {
           "bgcolor": "white",
           "landcolor": "#E5ECF6",
           "subunitcolor": "white",
           "showland": true,
           "showlakes": true,
           "lakecolor": "white"
          },
          "title": {
           "x": 0.05
          },
          "mapbox": {
           "style": "light"
          }
         }
        },
        "xaxis": {
         "anchor": "y",
         "domain": [
          0.0,
          0.22999999999999998
         ],
         "title": {
          "text": ""
         }
        },
        "yaxis": {
         "anchor": "x",
         "domain": [
          0.0,
          0.485
         ],
         "title": {
          "text": ""
         }
        },
        "xaxis2": {
         "anchor": "y2",
         "domain": [
          0.24999999999999997,
          0.48
         ],
         "matches": "x",
         "title": {
          "text": ""
         }
        },
        "yaxis2": {
         "anchor": "x2",
         "domain": [
          0.0,
          0.485
         ],
         "matches": "y",
         "showticklabels": false,
         "title": {
          "text": ""
         }
        },
        "xaxis3": {
         "anchor": "y3",
         "domain": [
          0.49999999999999994,
          0.73
         ],
         "matches": "x",
         "title": {
          "text": ""
         }
        },
        "yaxis3": {
         "anchor": "x3",
         "domain": [
          0.0,
          0.485
         ],
         "matches": "y",
         "showticklabels": false,
         "title": {
          "text": ""
         }
        },
        "xaxis4": {
         "anchor": "y4",
         "domain": [
          0.75,
          0.98
         ],
         "matches": "x",
         "title": {
          "text": ""
         }
        },
        "yaxis4": {
         "anchor": "x4",
         "domain": [
          0.0,
          0.485
         ],
         "matches": "y",
         "showticklabels": false,
         "title": {
          "text": ""
         }
        },
        "xaxis5": {
         "anchor": "y5",
         "domain": [
          0.0,
          0.22999999999999998
         ],
         "matches": "x",
         "showticklabels": false,
         "title": {
          "text": ""
         }
        },
        "yaxis5": {
         "anchor": "x5",
         "domain": [
          0.515,
          1.0
         ],
         "matches": "y",
         "title": {
          "text": ""
         }
        },
        "xaxis6": {
         "anchor": "y6",
         "domain": [
          0.24999999999999997,
          0.48
         ],
         "matches": "x",
         "showticklabels": false,
         "title": {
          "text": ""
         }
        },
        "yaxis6": {
         "anchor": "x6",
         "domain": [
          0.515,
          1.0
         ],
         "matches": "y",
         "showticklabels": false,
         "title": {
          "text": ""
         }
        },
        "xaxis7": {
         "anchor": "y7",
         "domain": [
          0.49999999999999994,
          0.73
         ],
         "matches": "x",
         "showticklabels": false,
         "title": {
          "text": ""
         }
        },
        "yaxis7": {
         "anchor": "x7",
         "domain": [
          0.515,
          1.0
         ],
         "matches": "y",
         "showticklabels": false,
         "title": {
          "text": ""
         }
        },
        "xaxis8": {
         "anchor": "y8",
         "domain": [
          0.75,
          0.98
         ],
         "matches": "x",
         "showticklabels": false,
         "title": {
          "text": ""
         }
        },
        "yaxis8": {
         "anchor": "x8",
         "domain": [
          0.515,
          1.0
         ],
         "matches": "y",
         "showticklabels": false,
         "title": {
          "text": ""
         }
        },
        "annotations": [
         {
          "showarrow": false,
          "text": "0.5",
          "x": 0.11499999999999999,
          "xanchor": "center",
          "xref": "paper",
          "y": 1.0,
          "yanchor": "bottom",
          "yref": "paper"
         },
         {
          "showarrow": false,
          "text": "1.0",
          "x": 0.365,
          "xanchor": "center",
          "xref": "paper",
          "y": 1.0,
          "yanchor": "bottom",
          "yref": "paper"
         },
         {
          "showarrow": false,
          "text": "2.0",
          "x": 0.615,
          "xanchor": "center",
          "xref": "paper",
          "y": 1.0,
          "yanchor": "bottom",
          "yref": "paper"
         },
         {
          "showarrow": false,
          "text": "5.0",
          "x": 0.865,
          "xanchor": "center",
          "xref": "paper",
          "y": 1.0,
          "yanchor": "bottom",
          "yref": "paper"
         },
         {
          "showarrow": false,
          "text": "300",
          "textangle": 90,
          "x": 0.98,
          "xanchor": "left",
          "xref": "paper",
          "y": 0.2425,
          "yanchor": "middle",
          "yref": "paper"
         },
         {
          "showarrow": false,
          "text": "180",
          "textangle": 90,
          "x": 0.98,
          "xanchor": "left",
          "xref": "paper",
          "y": 0.7575000000000001,
          "yanchor": "middle",
          "yref": "paper"
         },
         {
          "showarrow": false,
          "text": "travel time per request [s]",
          "textangle": -90,
          "x": -0.06,
          "xref": "paper",
          "y": 0.5,
          "yref": "paper"
         }
        ],
        "legend": {
         "title": {
          "text": "method"
         },
         "tracegroupgap": 0
        },
        "title": {
         "text": "Average Cost per Request"
        },
        "barmode": "group"
       },
       "config": {
        "plotlyServerURL": "https://plot.ly"
       }
      },
      "text/html": "<div>                            <div id=\"20c8a773-b2f7-4afa-a954-7e12777ac347\" class=\"plotly-graph-div\" style=\"height:525px; width:100%;\"></div>            <script type=\"text/javascript\">                require([\"plotly\"], function(Plotly) {                    window.PLOTLYENV=window.PLOTLYENV || {};                                    if (document.getElementById(\"20c8a773-b2f7-4afa-a954-7e12777ac347\")) {                    Plotly.newPlot(                        \"20c8a773-b2f7-4afa-a954-7e12777ac347\",                        [{\"alignmentgroup\":\"True\",\"hovertemplate\":\"method=ih<br>max_delay=180<br>duration_minutes=0.5<br>area=%{x}<br>cost_per_request=%{y}<extra></extra>\",\"legendgroup\":\"ih\",\"marker\":{\"color\":\"#636efa\",\"pattern\":{\"shape\":\"\"}},\"name\":\"ih\",\"offsetgroup\":\"ih\",\"orientation\":\"v\",\"showlegend\":true,\"textposition\":\"auto\",\"x\":[\"Chicago\",\"DC\",\"Manhattan\",\"NYC\"],\"xaxis\":\"x5\",\"y\":[1008.0,2115.0,498.42857142857144,823.7689969604863],\"yaxis\":\"y5\",\"type\":\"bar\"},{\"alignmentgroup\":\"True\",\"hovertemplate\":\"method=ih<br>max_delay=180<br>duration_minutes=1.0<br>area=%{x}<br>cost_per_request=%{y}<extra></extra>\",\"legendgroup\":\"ih\",\"marker\":{\"color\":\"#636efa\",\"pattern\":{\"shape\":\"\"}},\"name\":\"ih\",\"offsetgroup\":\"ih\",\"orientation\":\"v\",\"showlegend\":false,\"textposition\":\"auto\",\"x\":[\"Chicago\",\"DC\",\"Manhattan\",\"NYC\"],\"xaxis\":\"x6\",\"y\":[1153.8461538461538,1705.7142857142858,488.8111888111888,710.4833836858006],\"yaxis\":\"y6\",\"type\":\"bar\"},{\"alignmentgroup\":\"True\",\"hovertemplate\":\"method=ih<br>max_delay=180<br>duration_minutes=2.0<br>area=%{x}<br>cost_per_request=%{y}<extra></extra>\",\"legendgroup\":\"ih\",\"marker\":{\"color\":\"#636efa\",\"pattern\":{\"shape\":\"\"}},\"name\":\"ih\",\"offsetgroup\":\"ih\",\"orientation\":\"v\",\"showlegend\":false,\"textposition\":\"auto\",\"x\":[\"Chicago\",\"DC\",\"Manhattan\",\"NYC\"],\"xaxis\":\"x7\",\"y\":[949.2857142857143,1320.0,433.1900826446281,685.7528089887641],\"yaxis\":\"y7\",\"type\":\"bar\"},{\"alignmentgroup\":\"True\",\"hovertemplate\":\"method=ih<br>max_delay=180<br>duration_minutes=5.0<br>area=%{x}<br>cost_per_request=%{y}<extra></extra>\",\"legendgroup\":\"ih\",\"marker\":{\"color\":\"#636efa\",\"pattern\":{\"shape\":\"\"}},\"name\":\"ih\",\"offsetgroup\":\"ih\",\"orientation\":\"v\",\"showlegend\":false,\"textposition\":\"auto\",\"x\":[\"Chicago\",\"DC\",\"Manhattan\",\"NYC\"],\"xaxis\":\"x8\",\"y\":[954.065934065934,1334.4444444444443,378.45597104945716,597.1616972477065],\"yaxis\":\"y8\",\"type\":\"bar\"},{\"alignmentgroup\":\"True\",\"hovertemplate\":\"method=ih<br>max_delay=300<br>duration_minutes=0.5<br>area=%{x}<br>cost_per_request=%{y}<extra></extra>\",\"legendgroup\":\"ih\",\"marker\":{\"color\":\"#636efa\",\"pattern\":{\"shape\":\"\"}},\"name\":\"ih\",\"offsetgroup\":\"ih\",\"orientation\":\"v\",\"showlegend\":false,\"textposition\":\"auto\",\"x\":[\"Chicago\",\"DC\",\"Manhattan\",\"NYC\"],\"xaxis\":\"x\",\"y\":[696.0,2115.0,464.57142857142856,716.5349544072948],\"yaxis\":\"y\",\"type\":\"bar\"},{\"alignmentgroup\":\"True\",\"hovertemplate\":\"method=ih<br>max_delay=300<br>duration_minutes=1.0<br>area=%{x}<br>cost_per_request=%{y}<extra></extra>\",\"legendgroup\":\"ih\",\"marker\":{\"color\":\"#636efa\",\"pattern\":{\"shape\":\"\"}},\"name\":\"ih\",\"offsetgroup\":\"ih\",\"orientation\":\"v\",\"showlegend\":false,\"textposition\":\"auto\",\"x\":[\"Chicago\",\"DC\",\"Manhattan\",\"NYC\"],\"xaxis\":\"x2\",\"y\":[1144.6153846153845,1705.7142857142858,434.8951048951049,628.1873111782477],\"yaxis\":\"y2\",\"type\":\"bar\"},{\"alignmentgroup\":\"True\",\"hovertemplate\":\"method=ih<br>max_delay=300<br>duration_minutes=2.0<br>area=%{x}<br>cost_per_request=%{y}<extra></extra>\",\"legendgroup\":\"ih\",\"marker\":{\"color\":\"#636efa\",\"pattern\":{\"shape\":\"\"}},\"name\":\"ih\",\"offsetgroup\":\"ih\",\"orientation\":\"v\",\"showlegend\":false,\"textposition\":\"auto\",\"x\":[\"Chicago\",\"DC\",\"Manhattan\",\"NYC\"],\"xaxis\":\"x3\",\"y\":[930.0,1303.3333333333333,387.07438016528926,586.3370786516854],\"yaxis\":\"y3\",\"type\":\"bar\"},{\"alignmentgroup\":\"True\",\"hovertemplate\":\"method=ih<br>max_delay=300<br>duration_minutes=5.0<br>area=%{x}<br>cost_per_request=%{y}<extra></extra>\",\"legendgroup\":\"ih\",\"marker\":{\"color\":\"#636efa\",\"pattern\":{\"shape\":\"\"}},\"name\":\"ih\",\"offsetgroup\":\"ih\",\"orientation\":\"v\",\"showlegend\":false,\"textposition\":\"auto\",\"x\":[\"Chicago\",\"DC\",\"Manhattan\",\"NYC\"],\"xaxis\":\"x4\",\"y\":[805.7142857142857,1207.7777777777778,349.65018094089265,525.9977064220184],\"yaxis\":\"y4\",\"type\":\"bar\"},{\"alignmentgroup\":\"True\",\"hovertemplate\":\"method=vga<br>max_delay=180<br>duration_minutes=0.5<br>area=%{x}<br>cost_per_request=%{y}<extra></extra>\",\"legendgroup\":\"vga\",\"marker\":{\"color\":\"#EF553B\",\"pattern\":{\"shape\":\"\"}},\"name\":\"vga\",\"offsetgroup\":\"vga\",\"orientation\":\"v\",\"showlegend\":true,\"textposition\":\"auto\",\"x\":[\"Chicago\",\"DC\",\"Manhattan\",\"NYC\"],\"xaxis\":\"x5\",\"y\":[900.0,2115.0,469.7142857142857,774.7112462006079],\"yaxis\":\"y5\",\"type\":\"bar\"},{\"alignmentgroup\":\"True\",\"hovertemplate\":\"method=vga<br>max_delay=180<br>duration_minutes=1.0<br>area=%{x}<br>cost_per_request=%{y}<extra></extra>\",\"legendgroup\":\"vga\",\"marker\":{\"color\":\"#EF553B\",\"pattern\":{\"shape\":\"\"}},\"name\":\"vga\",\"offsetgroup\":\"vga\",\"orientation\":\"v\",\"showlegend\":false,\"textposition\":\"auto\",\"x\":[\"Chicago\",\"DC\",\"Manhattan\",\"NYC\"],\"xaxis\":\"x6\",\"y\":[1144.6153846153845,1705.7142857142858,424.4055944055944,668.8821752265861],\"yaxis\":\"y6\",\"type\":\"bar\"},{\"alignmentgroup\":\"True\",\"hovertemplate\":\"method=vga<br>max_delay=180<br>duration_minutes=2.0<br>area=%{x}<br>cost_per_request=%{y}<extra></extra>\",\"legendgroup\":\"vga\",\"marker\":{\"color\":\"#EF553B\",\"pattern\":{\"shape\":\"\"}},\"name\":\"vga\",\"offsetgroup\":\"vga\",\"orientation\":\"v\",\"showlegend\":false,\"textposition\":\"auto\",\"x\":[\"Chicago\",\"DC\",\"Manhattan\",\"NYC\"],\"xaxis\":\"x7\",\"y\":[919.2857142857143,1303.3333333333333,357.6198347107438,614.1123595505618],\"yaxis\":\"y7\",\"type\":\"bar\"},{\"alignmentgroup\":\"True\",\"hovertemplate\":\"method=vga<br>max_delay=180<br>duration_minutes=5.0<br>area=%{x}<br>cost_per_request=%{y}<extra></extra>\",\"legendgroup\":\"vga\",\"marker\":{\"color\":\"#EF553B\",\"pattern\":{\"shape\":\"\"}},\"name\":\"vga\",\"offsetgroup\":\"vga\",\"orientation\":\"v\",\"showlegend\":false,\"textposition\":\"auto\",\"x\":[\"Chicago\",\"DC\"],\"xaxis\":\"x8\",\"y\":[867.6923076923077,1314.4444444444443],\"yaxis\":\"y8\",\"type\":\"bar\"},{\"alignmentgroup\":\"True\",\"hovertemplate\":\"method=vga<br>max_delay=300<br>duration_minutes=0.5<br>area=%{x}<br>cost_per_request=%{y}<extra></extra>\",\"legendgroup\":\"vga\",\"marker\":{\"color\":\"#EF553B\",\"pattern\":{\"shape\":\"\"}},\"name\":\"vga\",\"offsetgroup\":\"vga\",\"orientation\":\"v\",\"showlegend\":false,\"textposition\":\"auto\",\"x\":[\"Chicago\",\"DC\",\"Manhattan\",\"NYC\"],\"xaxis\":\"x\",\"y\":[696.0,2115.0,398.57142857142856,667.112462006079],\"yaxis\":\"y\",\"type\":\"bar\"},{\"alignmentgroup\":\"True\",\"hovertemplate\":\"method=vga<br>max_delay=300<br>duration_minutes=1.0<br>area=%{x}<br>cost_per_request=%{y}<extra></extra>\",\"legendgroup\":\"vga\",\"marker\":{\"color\":\"#EF553B\",\"pattern\":{\"shape\":\"\"}},\"name\":\"vga\",\"offsetgroup\":\"vga\",\"orientation\":\"v\",\"showlegend\":false,\"textposition\":\"auto\",\"x\":[\"Chicago\",\"DC\",\"Manhattan\",\"NYC\"],\"xaxis\":\"x2\",\"y\":[1107.6923076923076,1705.7142857142858,352.02797202797206,578.5196374622357],\"yaxis\":\"y2\",\"type\":\"bar\"},{\"alignmentgroup\":\"True\",\"hovertemplate\":\"method=vga<br>max_delay=300<br>duration_minutes=2.0<br>area=%{x}<br>cost_per_request=%{y}<extra></extra>\",\"legendgroup\":\"vga\",\"marker\":{\"color\":\"#EF553B\",\"pattern\":{\"shape\":\"\"}},\"name\":\"vga\",\"offsetgroup\":\"vga\",\"orientation\":\"v\",\"showlegend\":false,\"textposition\":\"auto\",\"x\":[\"Chicago\",\"DC\",\"Manhattan\"],\"xaxis\":\"x3\",\"y\":[895.7142857142857,1276.6666666666667,296.1322314049587],\"yaxis\":\"y3\",\"type\":\"bar\"},{\"alignmentgroup\":\"True\",\"hovertemplate\":\"method=vga<br>max_delay=300<br>duration_minutes=5.0<br>area=%{x}<br>cost_per_request=%{y}<extra></extra>\",\"legendgroup\":\"vga\",\"marker\":{\"color\":\"#EF553B\",\"pattern\":{\"shape\":\"\"}},\"name\":\"vga\",\"offsetgroup\":\"vga\",\"orientation\":\"v\",\"showlegend\":false,\"textposition\":\"auto\",\"x\":[\"Chicago\",\"DC\"],\"xaxis\":\"x4\",\"y\":[754.2857142857143,1138.888888888889],\"yaxis\":\"y4\",\"type\":\"bar\"}],                        {\"template\":{\"data\":{\"histogram2dcontour\":[{\"type\":\"histogram2dcontour\",\"colorbar\":{\"outlinewidth\":0,\"ticks\":\"\"},\"colorscale\":[[0.0,\"#0d0887\"],[0.1111111111111111,\"#46039f\"],[0.2222222222222222,\"#7201a8\"],[0.3333333333333333,\"#9c179e\"],[0.4444444444444444,\"#bd3786\"],[0.5555555555555556,\"#d8576b\"],[0.6666666666666666,\"#ed7953\"],[0.7777777777777778,\"#fb9f3a\"],[0.8888888888888888,\"#fdca26\"],[1.0,\"#f0f921\"]]}],\"choropleth\":[{\"type\":\"choropleth\",\"colorbar\":{\"outlinewidth\":0,\"ticks\":\"\"}}],\"histogram2d\":[{\"type\":\"histogram2d\",\"colorbar\":{\"outlinewidth\":0,\"ticks\":\"\"},\"colorscale\":[[0.0,\"#0d0887\"],[0.1111111111111111,\"#46039f\"],[0.2222222222222222,\"#7201a8\"],[0.3333333333333333,\"#9c179e\"],[0.4444444444444444,\"#bd3786\"],[0.5555555555555556,\"#d8576b\"],[0.6666666666666666,\"#ed7953\"],[0.7777777777777778,\"#fb9f3a\"],[0.8888888888888888,\"#fdca26\"],[1.0,\"#f0f921\"]]}],\"heatmap\":[{\"type\":\"heatmap\",\"colorbar\":{\"outlinewidth\":0,\"ticks\":\"\"},\"colorscale\":[[0.0,\"#0d0887\"],[0.1111111111111111,\"#46039f\"],[0.2222222222222222,\"#7201a8\"],[0.3333333333333333,\"#9c179e\"],[0.4444444444444444,\"#bd3786\"],[0.5555555555555556,\"#d8576b\"],[0.6666666666666666,\"#ed7953\"],[0.7777777777777778,\"#fb9f3a\"],[0.8888888888888888,\"#fdca26\"],[1.0,\"#f0f921\"]]}],\"heatmapgl\":[{\"type\":\"heatmapgl\",\"colorbar\":{\"outlinewidth\":0,\"ticks\":\"\"},\"colorscale\":[[0.0,\"#0d0887\"],[0.1111111111111111,\"#46039f\"],[0.2222222222222222,\"#7201a8\"],[0.3333333333333333,\"#9c179e\"],[0.4444444444444444,\"#bd3786\"],[0.5555555555555556,\"#d8576b\"],[0.6666666666666666,\"#ed7953\"],[0.7777777777777778,\"#fb9f3a\"],[0.8888888888888888,\"#fdca26\"],[1.0,\"#f0f921\"]]}],\"contourcarpet\":[{\"type\":\"contourcarpet\",\"colorbar\":{\"outlinewidth\":0,\"ticks\":\"\"}}],\"contour\":[{\"type\":\"contour\",\"colorbar\":{\"outlinewidth\":0,\"ticks\":\"\"},\"colorscale\":[[0.0,\"#0d0887\"],[0.1111111111111111,\"#46039f\"],[0.2222222222222222,\"#7201a8\"],[0.3333333333333333,\"#9c179e\"],[0.4444444444444444,\"#bd3786\"],[0.5555555555555556,\"#d8576b\"],[0.6666666666666666,\"#ed7953\"],[0.7777777777777778,\"#fb9f3a\"],[0.8888888888888888,\"#fdca26\"],[1.0,\"#f0f921\"]]}],\"surface\":[{\"type\":\"surface\",\"colorbar\":{\"outlinewidth\":0,\"ticks\":\"\"},\"colorscale\":[[0.0,\"#0d0887\"],[0.1111111111111111,\"#46039f\"],[0.2222222222222222,\"#7201a8\"],[0.3333333333333333,\"#9c179e\"],[0.4444444444444444,\"#bd3786\"],[0.5555555555555556,\"#d8576b\"],[0.6666666666666666,\"#ed7953\"],[0.7777777777777778,\"#fb9f3a\"],[0.8888888888888888,\"#fdca26\"],[1.0,\"#f0f921\"]]}],\"mesh3d\":[{\"type\":\"mesh3d\",\"colorbar\":{\"outlinewidth\":0,\"ticks\":\"\"}}],\"scatter\":[{\"fillpattern\":{\"fillmode\":\"overlay\",\"size\":10,\"solidity\":0.2},\"type\":\"scatter\"}],\"parcoords\":[{\"type\":\"parcoords\",\"line\":{\"colorbar\":{\"outlinewidth\":0,\"ticks\":\"\"}}}],\"scatterpolargl\":[{\"type\":\"scatterpolargl\",\"marker\":{\"colorbar\":{\"outlinewidth\":0,\"ticks\":\"\"}}}],\"bar\":[{\"error_x\":{\"color\":\"#2a3f5f\"},\"error_y\":{\"color\":\"#2a3f5f\"},\"marker\":{\"line\":{\"color\":\"#E5ECF6\",\"width\":0.5},\"pattern\":{\"fillmode\":\"overlay\",\"size\":10,\"solidity\":0.2}},\"type\":\"bar\"}],\"scattergeo\":[{\"type\":\"scattergeo\",\"marker\":{\"colorbar\":{\"outlinewidth\":0,\"ticks\":\"\"}}}],\"scatterpolar\":[{\"type\":\"scatterpolar\",\"marker\":{\"colorbar\":{\"outlinewidth\":0,\"ticks\":\"\"}}}],\"histogram\":[{\"marker\":{\"pattern\":{\"fillmode\":\"overlay\",\"size\":10,\"solidity\":0.2}},\"type\":\"histogram\"}],\"scattergl\":[{\"type\":\"scattergl\",\"marker\":{\"colorbar\":{\"outlinewidth\":0,\"ticks\":\"\"}}}],\"scatter3d\":[{\"type\":\"scatter3d\",\"line\":{\"colorbar\":{\"outlinewidth\":0,\"ticks\":\"\"}},\"marker\":{\"colorbar\":{\"outlinewidth\":0,\"ticks\":\"\"}}}],\"scattermapbox\":[{\"type\":\"scattermapbox\",\"marker\":{\"colorbar\":{\"outlinewidth\":0,\"ticks\":\"\"}}}],\"scatterternary\":[{\"type\":\"scatterternary\",\"marker\":{\"colorbar\":{\"outlinewidth\":0,\"ticks\":\"\"}}}],\"scattercarpet\":[{\"type\":\"scattercarpet\",\"marker\":{\"colorbar\":{\"outlinewidth\":0,\"ticks\":\"\"}}}],\"carpet\":[{\"aaxis\":{\"endlinecolor\":\"#2a3f5f\",\"gridcolor\":\"white\",\"linecolor\":\"white\",\"minorgridcolor\":\"white\",\"startlinecolor\":\"#2a3f5f\"},\"baxis\":{\"endlinecolor\":\"#2a3f5f\",\"gridcolor\":\"white\",\"linecolor\":\"white\",\"minorgridcolor\":\"white\",\"startlinecolor\":\"#2a3f5f\"},\"type\":\"carpet\"}],\"table\":[{\"cells\":{\"fill\":{\"color\":\"#EBF0F8\"},\"line\":{\"color\":\"white\"}},\"header\":{\"fill\":{\"color\":\"#C8D4E3\"},\"line\":{\"color\":\"white\"}},\"type\":\"table\"}],\"barpolar\":[{\"marker\":{\"line\":{\"color\":\"#E5ECF6\",\"width\":0.5},\"pattern\":{\"fillmode\":\"overlay\",\"size\":10,\"solidity\":0.2}},\"type\":\"barpolar\"}],\"pie\":[{\"automargin\":true,\"type\":\"pie\"}]},\"layout\":{\"autotypenumbers\":\"strict\",\"colorway\":[\"#636efa\",\"#EF553B\",\"#00cc96\",\"#ab63fa\",\"#FFA15A\",\"#19d3f3\",\"#FF6692\",\"#B6E880\",\"#FF97FF\",\"#FECB52\"],\"font\":{\"color\":\"#2a3f5f\"},\"hovermode\":\"closest\",\"hoverlabel\":{\"align\":\"left\"},\"paper_bgcolor\":\"white\",\"plot_bgcolor\":\"#E5ECF6\",\"polar\":{\"bgcolor\":\"#E5ECF6\",\"angularaxis\":{\"gridcolor\":\"white\",\"linecolor\":\"white\",\"ticks\":\"\"},\"radialaxis\":{\"gridcolor\":\"white\",\"linecolor\":\"white\",\"ticks\":\"\"}},\"ternary\":{\"bgcolor\":\"#E5ECF6\",\"aaxis\":{\"gridcolor\":\"white\",\"linecolor\":\"white\",\"ticks\":\"\"},\"baxis\":{\"gridcolor\":\"white\",\"linecolor\":\"white\",\"ticks\":\"\"},\"caxis\":{\"gridcolor\":\"white\",\"linecolor\":\"white\",\"ticks\":\"\"}},\"coloraxis\":{\"colorbar\":{\"outlinewidth\":0,\"ticks\":\"\"}},\"colorscale\":{\"sequential\":[[0.0,\"#0d0887\"],[0.1111111111111111,\"#46039f\"],[0.2222222222222222,\"#7201a8\"],[0.3333333333333333,\"#9c179e\"],[0.4444444444444444,\"#bd3786\"],[0.5555555555555556,\"#d8576b\"],[0.6666666666666666,\"#ed7953\"],[0.7777777777777778,\"#fb9f3a\"],[0.8888888888888888,\"#fdca26\"],[1.0,\"#f0f921\"]],\"sequentialminus\":[[0.0,\"#0d0887\"],[0.1111111111111111,\"#46039f\"],[0.2222222222222222,\"#7201a8\"],[0.3333333333333333,\"#9c179e\"],[0.4444444444444444,\"#bd3786\"],[0.5555555555555556,\"#d8576b\"],[0.6666666666666666,\"#ed7953\"],[0.7777777777777778,\"#fb9f3a\"],[0.8888888888888888,\"#fdca26\"],[1.0,\"#f0f921\"]],\"diverging\":[[0,\"#8e0152\"],[0.1,\"#c51b7d\"],[0.2,\"#de77ae\"],[0.3,\"#f1b6da\"],[0.4,\"#fde0ef\"],[0.5,\"#f7f7f7\"],[0.6,\"#e6f5d0\"],[0.7,\"#b8e186\"],[0.8,\"#7fbc41\"],[0.9,\"#4d9221\"],[1,\"#276419\"]]},\"xaxis\":{\"gridcolor\":\"white\",\"linecolor\":\"white\",\"ticks\":\"\",\"title\":{\"standoff\":15},\"zerolinecolor\":\"white\",\"automargin\":true,\"zerolinewidth\":2},\"yaxis\":{\"gridcolor\":\"white\",\"linecolor\":\"white\",\"ticks\":\"\",\"title\":{\"standoff\":15},\"zerolinecolor\":\"white\",\"automargin\":true,\"zerolinewidth\":2},\"scene\":{\"xaxis\":{\"backgroundcolor\":\"#E5ECF6\",\"gridcolor\":\"white\",\"linecolor\":\"white\",\"showbackground\":true,\"ticks\":\"\",\"zerolinecolor\":\"white\",\"gridwidth\":2},\"yaxis\":{\"backgroundcolor\":\"#E5ECF6\",\"gridcolor\":\"white\",\"linecolor\":\"white\",\"showbackground\":true,\"ticks\":\"\",\"zerolinecolor\":\"white\",\"gridwidth\":2},\"zaxis\":{\"backgroundcolor\":\"#E5ECF6\",\"gridcolor\":\"white\",\"linecolor\":\"white\",\"showbackground\":true,\"ticks\":\"\",\"zerolinecolor\":\"white\",\"gridwidth\":2}},\"shapedefaults\":{\"line\":{\"color\":\"#2a3f5f\"}},\"annotationdefaults\":{\"arrowcolor\":\"#2a3f5f\",\"arrowhead\":0,\"arrowwidth\":1},\"geo\":{\"bgcolor\":\"white\",\"landcolor\":\"#E5ECF6\",\"subunitcolor\":\"white\",\"showland\":true,\"showlakes\":true,\"lakecolor\":\"white\"},\"title\":{\"x\":0.05},\"mapbox\":{\"style\":\"light\"}}},\"xaxis\":{\"anchor\":\"y\",\"domain\":[0.0,0.22999999999999998],\"title\":{\"text\":\"\"}},\"yaxis\":{\"anchor\":\"x\",\"domain\":[0.0,0.485],\"title\":{\"text\":\"\"}},\"xaxis2\":{\"anchor\":\"y2\",\"domain\":[0.24999999999999997,0.48],\"matches\":\"x\",\"title\":{\"text\":\"\"}},\"yaxis2\":{\"anchor\":\"x2\",\"domain\":[0.0,0.485],\"matches\":\"y\",\"showticklabels\":false,\"title\":{\"text\":\"\"}},\"xaxis3\":{\"anchor\":\"y3\",\"domain\":[0.49999999999999994,0.73],\"matches\":\"x\",\"title\":{\"text\":\"\"}},\"yaxis3\":{\"anchor\":\"x3\",\"domain\":[0.0,0.485],\"matches\":\"y\",\"showticklabels\":false,\"title\":{\"text\":\"\"}},\"xaxis4\":{\"anchor\":\"y4\",\"domain\":[0.75,0.98],\"matches\":\"x\",\"title\":{\"text\":\"\"}},\"yaxis4\":{\"anchor\":\"x4\",\"domain\":[0.0,0.485],\"matches\":\"y\",\"showticklabels\":false,\"title\":{\"text\":\"\"}},\"xaxis5\":{\"anchor\":\"y5\",\"domain\":[0.0,0.22999999999999998],\"matches\":\"x\",\"showticklabels\":false,\"title\":{\"text\":\"\"}},\"yaxis5\":{\"anchor\":\"x5\",\"domain\":[0.515,1.0],\"matches\":\"y\",\"title\":{\"text\":\"\"}},\"xaxis6\":{\"anchor\":\"y6\",\"domain\":[0.24999999999999997,0.48],\"matches\":\"x\",\"showticklabels\":false,\"title\":{\"text\":\"\"}},\"yaxis6\":{\"anchor\":\"x6\",\"domain\":[0.515,1.0],\"matches\":\"y\",\"showticklabels\":false,\"title\":{\"text\":\"\"}},\"xaxis7\":{\"anchor\":\"y7\",\"domain\":[0.49999999999999994,0.73],\"matches\":\"x\",\"showticklabels\":false,\"title\":{\"text\":\"\"}},\"yaxis7\":{\"anchor\":\"x7\",\"domain\":[0.515,1.0],\"matches\":\"y\",\"showticklabels\":false,\"title\":{\"text\":\"\"}},\"xaxis8\":{\"anchor\":\"y8\",\"domain\":[0.75,0.98],\"matches\":\"x\",\"showticklabels\":false,\"title\":{\"text\":\"\"}},\"yaxis8\":{\"anchor\":\"x8\",\"domain\":[0.515,1.0],\"matches\":\"y\",\"showticklabels\":false,\"title\":{\"text\":\"\"}},\"annotations\":[{\"showarrow\":false,\"text\":\"0.5\",\"x\":0.11499999999999999,\"xanchor\":\"center\",\"xref\":\"paper\",\"y\":1.0,\"yanchor\":\"bottom\",\"yref\":\"paper\"},{\"showarrow\":false,\"text\":\"1.0\",\"x\":0.365,\"xanchor\":\"center\",\"xref\":\"paper\",\"y\":1.0,\"yanchor\":\"bottom\",\"yref\":\"paper\"},{\"showarrow\":false,\"text\":\"2.0\",\"x\":0.615,\"xanchor\":\"center\",\"xref\":\"paper\",\"y\":1.0,\"yanchor\":\"bottom\",\"yref\":\"paper\"},{\"showarrow\":false,\"text\":\"5.0\",\"x\":0.865,\"xanchor\":\"center\",\"xref\":\"paper\",\"y\":1.0,\"yanchor\":\"bottom\",\"yref\":\"paper\"},{\"showarrow\":false,\"text\":\"300\",\"textangle\":90,\"x\":0.98,\"xanchor\":\"left\",\"xref\":\"paper\",\"y\":0.2425,\"yanchor\":\"middle\",\"yref\":\"paper\"},{\"showarrow\":false,\"text\":\"180\",\"textangle\":90,\"x\":0.98,\"xanchor\":\"left\",\"xref\":\"paper\",\"y\":0.7575000000000001,\"yanchor\":\"middle\",\"yref\":\"paper\"},{\"showarrow\":false,\"text\":\"travel time per request [s]\",\"textangle\":-90,\"x\":-0.06,\"xref\":\"paper\",\"y\":0.5,\"yref\":\"paper\"}],\"legend\":{\"title\":{\"text\":\"method\"},\"tracegroupgap\":0},\"title\":{\"text\":\"Average Cost per Request\"},\"barmode\":\"group\"},                        {\"responsive\": true}                    ).then(function(){\n                            \nvar gd = document.getElementById('20c8a773-b2f7-4afa-a954-7e12777ac347');\nvar x = new MutationObserver(function (mutations, observer) {{\n        var display = window.getComputedStyle(gd).display;\n        if (!display || display === 'none') {{\n            console.log([gd, 'removed!']);\n            Plotly.purge(gd);\n            observer.disconnect();\n        }}\n}});\n\n// Listen for the removal of the full notebook cells\nvar notebookContainer = gd.closest('#notebook-container');\nif (notebookContainer) {{\n    x.observe(notebookContainer, {childList: true});\n}}\n\n// Listen for the clearing of the current output cell\nvar outputEl = gd.closest('.output');\nif (outputEl) {{\n    x.observe(outputEl, {childList: true});\n}}\n\n                        })                };                });            </script>        </div>"
     },
     "metadata": {},
     "output_type": "display_data"
    }
   ],
   "source": [
    "fig = plot_main_result(900, 600)"
   ],
   "metadata": {
    "collapsed": false,
    "ExecuteTime": {
     "end_time": "2023-05-17T14:54:17.398136300Z",
     "start_time": "2023-05-17T14:54:17.213080900Z"
    }
   }
  },
  {
   "cell_type": "markdown",
   "source": [
    "# VGA/IH cost ratio"
   ],
   "metadata": {
    "collapsed": false
   }
  },
  {
   "cell_type": "code",
   "execution_count": 120,
   "outputs": [
    {
     "data": {
      "text/plain": "duration_minutes  max_delay  area     \n0.5               180        Chicago      0.120000\n                             DC           0.000000\n                             Manhattan    0.061131\n                             NYC          0.063324\n                  300        Chicago      0.000000\n                                            ...   \n30.0              300        NYC               NaN\n                  600        Chicago           NaN\n                             DC                NaN\n                             Manhattan         NaN\n                             NYC               NaN\nName: cost_per_request, Length: 72, dtype: float64"
     },
     "execution_count": 120,
     "metadata": {},
     "output_type": "execute_result"
    }
   ],
   "source": [
    "def compute_ih_vga_cost_ratio(s: pd.Series):\n",
    "    if len(s) != 2:\n",
    "        return None\n",
    "    diff = s.max() - s.min()\n",
    "    return diff / s.min()\n",
    "\n",
    "vga_ih_diff = df.groupby(['duration_minutes', 'max_delay', 'area'])['cost_per_request'].apply(compute_ih_vga_cost_ratio)\n",
    "# vga_ih_diff.sort_values(inplace=True)\n",
    "vga_ih_diff"
   ],
   "metadata": {
    "collapsed": false,
    "ExecuteTime": {
     "end_time": "2023-05-17T15:07:43.855394600Z",
     "start_time": "2023-05-17T15:07:43.814395300Z"
    }
   }
  },
  {
   "cell_type": "code",
   "execution_count": 178,
   "outputs": [
    {
     "data": {
      "text/plain": "    duration_minutes  max_delay       area  cost_ratio  cost_ratio_percent\n0                0.5        180    Chicago    0.120000           12.000000\n1                0.5        180         DC    0.000000            0.000000\n2                0.5        180  Manhattan    0.061131            6.113139\n3                0.5        180        NYC    0.063324            6.332392\n4                0.5        300    Chicago    0.000000            0.000000\n..               ...        ...        ...         ...                 ...\n67              30.0        300        NYC         NaN                 NaN\n68              30.0        600    Chicago         NaN                 NaN\n69              30.0        600         DC         NaN                 NaN\n70              30.0        600  Manhattan         NaN                 NaN\n71              30.0        600        NYC         NaN                 NaN\n\n[72 rows x 5 columns]",
      "text/html": "<div>\n<style scoped>\n    .dataframe tbody tr th:only-of-type {\n        vertical-align: middle;\n    }\n\n    .dataframe tbody tr th {\n        vertical-align: top;\n    }\n\n    .dataframe thead th {\n        text-align: right;\n    }\n</style>\n<table border=\"1\" class=\"dataframe\">\n  <thead>\n    <tr style=\"text-align: right;\">\n      <th></th>\n      <th>duration_minutes</th>\n      <th>max_delay</th>\n      <th>area</th>\n      <th>cost_ratio</th>\n      <th>cost_ratio_percent</th>\n    </tr>\n  </thead>\n  <tbody>\n    <tr>\n      <th>0</th>\n      <td>0.5</td>\n      <td>180</td>\n      <td>Chicago</td>\n      <td>0.120000</td>\n      <td>12.000000</td>\n    </tr>\n    <tr>\n      <th>1</th>\n      <td>0.5</td>\n      <td>180</td>\n      <td>DC</td>\n      <td>0.000000</td>\n      <td>0.000000</td>\n    </tr>\n    <tr>\n      <th>2</th>\n      <td>0.5</td>\n      <td>180</td>\n      <td>Manhattan</td>\n      <td>0.061131</td>\n      <td>6.113139</td>\n    </tr>\n    <tr>\n      <th>3</th>\n      <td>0.5</td>\n      <td>180</td>\n      <td>NYC</td>\n      <td>0.063324</td>\n      <td>6.332392</td>\n    </tr>\n    <tr>\n      <th>4</th>\n      <td>0.5</td>\n      <td>300</td>\n      <td>Chicago</td>\n      <td>0.000000</td>\n      <td>0.000000</td>\n    </tr>\n    <tr>\n      <th>...</th>\n      <td>...</td>\n      <td>...</td>\n      <td>...</td>\n      <td>...</td>\n      <td>...</td>\n    </tr>\n    <tr>\n      <th>67</th>\n      <td>30.0</td>\n      <td>300</td>\n      <td>NYC</td>\n      <td>NaN</td>\n      <td>NaN</td>\n    </tr>\n    <tr>\n      <th>68</th>\n      <td>30.0</td>\n      <td>600</td>\n      <td>Chicago</td>\n      <td>NaN</td>\n      <td>NaN</td>\n    </tr>\n    <tr>\n      <th>69</th>\n      <td>30.0</td>\n      <td>600</td>\n      <td>DC</td>\n      <td>NaN</td>\n      <td>NaN</td>\n    </tr>\n    <tr>\n      <th>70</th>\n      <td>30.0</td>\n      <td>600</td>\n      <td>Manhattan</td>\n      <td>NaN</td>\n      <td>NaN</td>\n    </tr>\n    <tr>\n      <th>71</th>\n      <td>30.0</td>\n      <td>600</td>\n      <td>NYC</td>\n      <td>NaN</td>\n      <td>NaN</td>\n    </tr>\n  </tbody>\n</table>\n<p>72 rows × 5 columns</p>\n</div>"
     },
     "execution_count": 178,
     "metadata": {},
     "output_type": "execute_result"
    }
   ],
   "source": [
    "vga_ih_diff_df = pd.DataFrame(vga_ih_diff)\n",
    "vga_ih_diff_df.reset_index(inplace=True)\n",
    "vga_ih_diff_df.rename(columns={'cost_per_request': 'cost_ratio'}, inplace=True)\n",
    "vga_ih_diff_df['cost_ratio_percent'] = vga_ih_diff_df['cost_ratio'] * 100\n",
    "vga_ih_diff_df"
   ],
   "metadata": {
    "collapsed": false,
    "ExecuteTime": {
     "end_time": "2023-05-17T17:21:49.448476800Z",
     "start_time": "2023-05-17T17:21:49.426479300Z"
    }
   }
  },
  {
   "cell_type": "code",
   "execution_count": 166,
   "outputs": [
    {
     "data": {
      "text/plain": "{(0.5, 600): 1,\n (1.0, 600): 2,\n (2.0, 600): 3,\n (5.0, 600): 4,\n (15.0, 600): 5,\n (30.0, 600): 6,\n (0.5, 300): 7,\n (1.0, 300): 8,\n (2.0, 300): 9,\n (5.0, 300): 10,\n (15.0, 300): 11,\n (30.0, 300): 12,\n (0.5, 180): 13,\n (1.0, 180): 14,\n (2.0, 180): 15,\n (5.0, 180): 16,\n (15.0, 180): 17,\n (30.0, 180): 18}"
     },
     "execution_count": 166,
     "metadata": {},
     "output_type": "execute_result"
    }
   ],
   "source": [
    "vals_to_axis = {}\n",
    "i = 1\n",
    "delays = vga_ih_diff_df['max_delay'].unique()\n",
    "delays[::-1].sort()\n",
    "durations = vga_ih_diff_df['duration_minutes'].unique()\n",
    "durations.sort()\n",
    "for max_delay in delays:\n",
    "    for duration in durations:\n",
    "        vals_to_axis[(duration, max_delay)] = i\n",
    "        i += 1\n",
    "vals_to_axis"
   ],
   "metadata": {
    "collapsed": false,
    "ExecuteTime": {
     "end_time": "2023-05-17T17:04:25.419455300Z",
     "start_time": "2023-05-17T17:04:25.319443500Z"
    }
   }
  },
  {
   "cell_type": "code",
   "execution_count": 182,
   "outputs": [
    {
     "data": {
      "application/vnd.plotly.v1+json": {
       "data": [
        {
         "alignmentgroup": "True",
         "hovertemplate": "max_delay=180<br>duration_minutes=0.5<br>area=%{x}<br>cost_ratio_percent=%{y}<extra></extra>",
         "legendgroup": "",
         "marker": {
          "color": "#636efa",
          "pattern": {
           "shape": ""
          }
         },
         "name": "",
         "offsetgroup": "",
         "orientation": "v",
         "showlegend": false,
         "textposition": "auto",
         "x": [
          "Chicago",
          "DC",
          "Manhattan",
          "NYC"
         ],
         "xaxis": "x13",
         "y": [
          12.0,
          0.0,
          6.113138686131388,
          6.33239171374765
         ],
         "yaxis": "y13",
         "type": "bar"
        },
        {
         "alignmentgroup": "True",
         "hovertemplate": "max_delay=180<br>duration_minutes=1.0<br>area=%{x}<br>cost_ratio_percent=%{y}<extra></extra>",
         "legendgroup": "",
         "marker": {
          "color": "#636efa",
          "pattern": {
           "shape": ""
          }
         },
         "name": "",
         "offsetgroup": "",
         "orientation": "v",
         "showlegend": false,
         "textposition": "auto",
         "x": [
          "Chicago",
          "DC",
          "Manhattan",
          "NYC"
         ],
         "xaxis": "x14",
         "y": [
          0.8064516129032304,
          0.0,
          15.175481957488875,
          6.219512195121949
         ],
         "yaxis": "y14",
         "type": "bar"
        },
        {
         "alignmentgroup": "True",
         "hovertemplate": "max_delay=180<br>duration_minutes=2.0<br>area=%{x}<br>cost_ratio_percent=%{y}<extra></extra>",
         "legendgroup": "",
         "marker": {
          "color": "#636efa",
          "pattern": {
           "shape": ""
          }
         },
         "name": "",
         "offsetgroup": "",
         "orientation": "v",
         "showlegend": false,
         "textposition": "auto",
         "x": [
          "Chicago",
          "DC",
          "Manhattan",
          "NYC"
         ],
         "xaxis": "x15",
         "y": [
          3.263403263403263,
          1.2787723785166298,
          21.1314475873544,
          11.665690866510541
         ],
         "yaxis": "y15",
         "type": "bar"
        },
        {
         "alignmentgroup": "True",
         "hovertemplate": "max_delay=180<br>duration_minutes=5.0<br>area=%{x}<br>cost_ratio_percent=%{y}<extra></extra>",
         "legendgroup": "",
         "marker": {
          "color": "#636efa",
          "pattern": {
           "shape": ""
          }
         },
         "name": "",
         "offsetgroup": "",
         "orientation": "v",
         "showlegend": false,
         "textposition": "auto",
         "x": [
          "Chicago",
          "DC",
          "Manhattan",
          "NYC"
         ],
         "xaxis": "x16",
         "y": [
          9.954407294832816,
          1.521555367709214,
          null,
          null
         ],
         "yaxis": "y16",
         "type": "bar"
        },
        {
         "alignmentgroup": "True",
         "hovertemplate": "max_delay=180<br>duration_minutes=15.0<br>area=%{x}<br>cost_ratio_percent=%{y}<extra></extra>",
         "legendgroup": "",
         "marker": {
          "color": "#636efa",
          "pattern": {
           "shape": ""
          }
         },
         "name": "",
         "offsetgroup": "",
         "orientation": "v",
         "showlegend": false,
         "textposition": "auto",
         "x": [
          "Chicago",
          "DC",
          "Manhattan",
          "NYC"
         ],
         "xaxis": "x17",
         "y": [
          null,
          5.067155067155072,
          null,
          null
         ],
         "yaxis": "y17",
         "type": "bar"
        },
        {
         "alignmentgroup": "True",
         "hovertemplate": "max_delay=180<br>duration_minutes=30.0<br>area=%{x}<br>cost_ratio_percent=%{y}<extra></extra>",
         "legendgroup": "",
         "marker": {
          "color": "#636efa",
          "pattern": {
           "shape": ""
          }
         },
         "name": "",
         "offsetgroup": "",
         "orientation": "v",
         "showlegend": false,
         "textposition": "auto",
         "x": [
          "Chicago",
          "DC",
          "Manhattan",
          "NYC"
         ],
         "xaxis": "x18",
         "y": [
          null,
          7.033997655334108,
          null,
          null
         ],
         "yaxis": "y18",
         "type": "bar"
        },
        {
         "alignmentgroup": "True",
         "hovertemplate": "max_delay=300<br>duration_minutes=0.5<br>area=%{x}<br>cost_ratio_percent=%{y}<extra></extra>",
         "legendgroup": "",
         "marker": {
          "color": "#636efa",
          "pattern": {
           "shape": ""
          }
         },
         "name": "",
         "offsetgroup": "",
         "orientation": "v",
         "showlegend": false,
         "textposition": "auto",
         "x": [
          "Chicago",
          "DC",
          "Manhattan",
          "NYC"
         ],
         "xaxis": "x7",
         "y": [
          0.0,
          0.0,
          16.559139784946236,
          7.408419901585563
         ],
         "yaxis": "y7",
         "type": "bar"
        },
        {
         "alignmentgroup": "True",
         "hovertemplate": "max_delay=300<br>duration_minutes=1.0<br>area=%{x}<br>cost_ratio_percent=%{y}<extra></extra>",
         "legendgroup": "",
         "marker": {
          "color": "#636efa",
          "pattern": {
           "shape": ""
          }
         },
         "name": "",
         "offsetgroup": "",
         "orientation": "v",
         "showlegend": false,
         "textposition": "auto",
         "x": [
          "Chicago",
          "DC",
          "Manhattan",
          "NYC"
         ],
         "xaxis": "x8",
         "y": [
          3.3333333333333317,
          0.0,
          23.5399284862932,
          8.585304715650937
         ],
         "yaxis": "y8",
         "type": "bar"
        },
        {
         "alignmentgroup": "True",
         "hovertemplate": "max_delay=300<br>duration_minutes=2.0<br>area=%{x}<br>cost_ratio_percent=%{y}<extra></extra>",
         "legendgroup": "",
         "marker": {
          "color": "#636efa",
          "pattern": {
           "shape": ""
          }
         },
         "name": "",
         "offsetgroup": "",
         "orientation": "v",
         "showlegend": false,
         "textposition": "auto",
         "x": [
          "Chicago",
          "DC",
          "Manhattan",
          "NYC"
         ],
         "xaxis": "x9",
         "y": [
          3.827751196172254,
          2.0887728459529904,
          30.70997990622906,
          null
         ],
         "yaxis": "y9",
         "type": "bar"
        },
        {
         "alignmentgroup": "True",
         "hovertemplate": "max_delay=300<br>duration_minutes=5.0<br>area=%{x}<br>cost_ratio_percent=%{y}<extra></extra>",
         "legendgroup": "",
         "marker": {
          "color": "#636efa",
          "pattern": {
           "shape": ""
          }
         },
         "name": "",
         "offsetgroup": "",
         "orientation": "v",
         "showlegend": false,
         "textposition": "auto",
         "x": [
          "Chicago",
          "DC",
          "Manhattan",
          "NYC"
         ],
         "xaxis": "x10",
         "y": [
          6.818181818181805,
          6.04878048780488,
          null,
          null
         ],
         "yaxis": "y10",
         "type": "bar"
        },
        {
         "alignmentgroup": "True",
         "hovertemplate": "max_delay=300<br>duration_minutes=15.0<br>area=%{x}<br>cost_ratio_percent=%{y}<extra></extra>",
         "legendgroup": "",
         "marker": {
          "color": "#636efa",
          "pattern": {
           "shape": ""
          }
         },
         "name": "",
         "offsetgroup": "",
         "orientation": "v",
         "showlegend": false,
         "textposition": "auto",
         "x": [
          "Chicago",
          "DC",
          "Manhattan",
          "NYC"
         ],
         "xaxis": "x11",
         "y": [
          null,
          9.544950055493898,
          null,
          null
         ],
         "yaxis": "y11",
         "type": "bar"
        },
        {
         "alignmentgroup": "True",
         "hovertemplate": "max_delay=300<br>duration_minutes=30.0<br>area=%{x}<br>cost_ratio_percent=%{y}<extra></extra>",
         "legendgroup": "",
         "marker": {
          "color": "#636efa",
          "pattern": {
           "shape": ""
          }
         },
         "name": "",
         "offsetgroup": "",
         "orientation": "v",
         "showlegend": false,
         "textposition": "auto",
         "x": [
          "Chicago",
          "DC",
          "Manhattan",
          "NYC"
         ],
         "xaxis": "x12",
         "y": [
          null,
          16.009089031191902,
          null,
          null
         ],
         "yaxis": "y12",
         "type": "bar"
        },
        {
         "alignmentgroup": "True",
         "hovertemplate": "max_delay=600<br>duration_minutes=0.5<br>area=%{x}<br>cost_ratio_percent=%{y}<extra></extra>",
         "legendgroup": "",
         "marker": {
          "color": "#636efa",
          "pattern": {
           "shape": ""
          }
         },
         "name": "",
         "offsetgroup": "",
         "orientation": "v",
         "showlegend": false,
         "textposition": "auto",
         "x": [
          "Chicago",
          "DC",
          "Manhattan",
          "NYC"
         ],
         "xaxis": "x",
         "y": [
          1.9607843137254901,
          0.0,
          26.45914396887158,
          14.388254486133755
         ],
         "yaxis": "y",
         "type": "bar"
        },
        {
         "alignmentgroup": "True",
         "hovertemplate": "max_delay=600<br>duration_minutes=1.0<br>area=%{x}<br>cost_ratio_percent=%{y}<extra></extra>",
         "legendgroup": "",
         "marker": {
          "color": "#636efa",
          "pattern": {
           "shape": ""
          }
         },
         "name": "",
         "offsetgroup": "",
         "orientation": "v",
         "showlegend": false,
         "textposition": "auto",
         "x": [
          "Chicago",
          "DC",
          "Manhattan",
          "NYC"
         ],
         "xaxis": "x2",
         "y": [
          1.8779342723004684,
          0.0,
          null,
          null
         ],
         "yaxis": "y2",
         "type": "bar"
        },
        {
         "alignmentgroup": "True",
         "hovertemplate": "max_delay=600<br>duration_minutes=2.0<br>area=%{x}<br>cost_ratio_percent=%{y}<extra></extra>",
         "legendgroup": "",
         "marker": {
          "color": "#636efa",
          "pattern": {
           "shape": ""
          }
         },
         "name": "",
         "offsetgroup": "",
         "orientation": "v",
         "showlegend": false,
         "textposition": "auto",
         "x": [
          "Chicago",
          "DC",
          "Manhattan",
          "NYC"
         ],
         "xaxis": "x3",
         "y": [
          1.7632241813602016,
          17.55485893416929,
          null,
          null
         ],
         "yaxis": "y3",
         "type": "bar"
        },
        {
         "alignmentgroup": "True",
         "hovertemplate": "max_delay=600<br>duration_minutes=5.0<br>area=%{x}<br>cost_ratio_percent=%{y}<extra></extra>",
         "legendgroup": "",
         "marker": {
          "color": "#636efa",
          "pattern": {
           "shape": ""
          }
         },
         "name": "",
         "offsetgroup": "",
         "orientation": "v",
         "showlegend": false,
         "textposition": "auto",
         "x": [
          "Chicago",
          "DC",
          "Manhattan",
          "NYC"
         ],
         "xaxis": "x4",
         "y": [
          null,
          19.18678526048284,
          null,
          null
         ],
         "yaxis": "y4",
         "type": "bar"
        },
        {
         "alignmentgroup": "True",
         "hovertemplate": "max_delay=600<br>duration_minutes=15.0<br>area=%{x}<br>cost_ratio_percent=%{y}<extra></extra>",
         "legendgroup": "",
         "marker": {
          "color": "#636efa",
          "pattern": {
           "shape": ""
          }
         },
         "name": "",
         "offsetgroup": "",
         "orientation": "v",
         "showlegend": false,
         "textposition": "auto",
         "x": [
          "Chicago",
          "DC",
          "Manhattan",
          "NYC"
         ],
         "xaxis": "x5",
         "y": [
          null,
          27.04663212435234,
          null,
          null
         ],
         "yaxis": "y5",
         "type": "bar"
        },
        {
         "alignmentgroup": "True",
         "hovertemplate": "max_delay=600<br>duration_minutes=30.0<br>area=%{x}<br>cost_ratio_percent=%{y}<extra></extra>",
         "legendgroup": "",
         "marker": {
          "color": "#636efa",
          "pattern": {
           "shape": ""
          }
         },
         "name": "",
         "offsetgroup": "",
         "orientation": "v",
         "showlegend": false,
         "textposition": "auto",
         "x": [
          "Chicago",
          "DC",
          "Manhattan",
          "NYC"
         ],
         "xaxis": "x6",
         "y": [
          null,
          null,
          null,
          null
         ],
         "yaxis": "y6",
         "type": "bar"
        }
       ],
       "layout": {
        "template": {
         "data": {
          "histogram2dcontour": [
           {
            "type": "histogram2dcontour",
            "colorbar": {
             "outlinewidth": 0,
             "ticks": ""
            },
            "colorscale": [
             [
              0.0,
              "#0d0887"
             ],
             [
              0.1111111111111111,
              "#46039f"
             ],
             [
              0.2222222222222222,
              "#7201a8"
             ],
             [
              0.3333333333333333,
              "#9c179e"
             ],
             [
              0.4444444444444444,
              "#bd3786"
             ],
             [
              0.5555555555555556,
              "#d8576b"
             ],
             [
              0.6666666666666666,
              "#ed7953"
             ],
             [
              0.7777777777777778,
              "#fb9f3a"
             ],
             [
              0.8888888888888888,
              "#fdca26"
             ],
             [
              1.0,
              "#f0f921"
             ]
            ]
           }
          ],
          "choropleth": [
           {
            "type": "choropleth",
            "colorbar": {
             "outlinewidth": 0,
             "ticks": ""
            }
           }
          ],
          "histogram2d": [
           {
            "type": "histogram2d",
            "colorbar": {
             "outlinewidth": 0,
             "ticks": ""
            },
            "colorscale": [
             [
              0.0,
              "#0d0887"
             ],
             [
              0.1111111111111111,
              "#46039f"
             ],
             [
              0.2222222222222222,
              "#7201a8"
             ],
             [
              0.3333333333333333,
              "#9c179e"
             ],
             [
              0.4444444444444444,
              "#bd3786"
             ],
             [
              0.5555555555555556,
              "#d8576b"
             ],
             [
              0.6666666666666666,
              "#ed7953"
             ],
             [
              0.7777777777777778,
              "#fb9f3a"
             ],
             [
              0.8888888888888888,
              "#fdca26"
             ],
             [
              1.0,
              "#f0f921"
             ]
            ]
           }
          ],
          "heatmap": [
           {
            "type": "heatmap",
            "colorbar": {
             "outlinewidth": 0,
             "ticks": ""
            },
            "colorscale": [
             [
              0.0,
              "#0d0887"
             ],
             [
              0.1111111111111111,
              "#46039f"
             ],
             [
              0.2222222222222222,
              "#7201a8"
             ],
             [
              0.3333333333333333,
              "#9c179e"
             ],
             [
              0.4444444444444444,
              "#bd3786"
             ],
             [
              0.5555555555555556,
              "#d8576b"
             ],
             [
              0.6666666666666666,
              "#ed7953"
             ],
             [
              0.7777777777777778,
              "#fb9f3a"
             ],
             [
              0.8888888888888888,
              "#fdca26"
             ],
             [
              1.0,
              "#f0f921"
             ]
            ]
           }
          ],
          "heatmapgl": [
           {
            "type": "heatmapgl",
            "colorbar": {
             "outlinewidth": 0,
             "ticks": ""
            },
            "colorscale": [
             [
              0.0,
              "#0d0887"
             ],
             [
              0.1111111111111111,
              "#46039f"
             ],
             [
              0.2222222222222222,
              "#7201a8"
             ],
             [
              0.3333333333333333,
              "#9c179e"
             ],
             [
              0.4444444444444444,
              "#bd3786"
             ],
             [
              0.5555555555555556,
              "#d8576b"
             ],
             [
              0.6666666666666666,
              "#ed7953"
             ],
             [
              0.7777777777777778,
              "#fb9f3a"
             ],
             [
              0.8888888888888888,
              "#fdca26"
             ],
             [
              1.0,
              "#f0f921"
             ]
            ]
           }
          ],
          "contourcarpet": [
           {
            "type": "contourcarpet",
            "colorbar": {
             "outlinewidth": 0,
             "ticks": ""
            }
           }
          ],
          "contour": [
           {
            "type": "contour",
            "colorbar": {
             "outlinewidth": 0,
             "ticks": ""
            },
            "colorscale": [
             [
              0.0,
              "#0d0887"
             ],
             [
              0.1111111111111111,
              "#46039f"
             ],
             [
              0.2222222222222222,
              "#7201a8"
             ],
             [
              0.3333333333333333,
              "#9c179e"
             ],
             [
              0.4444444444444444,
              "#bd3786"
             ],
             [
              0.5555555555555556,
              "#d8576b"
             ],
             [
              0.6666666666666666,
              "#ed7953"
             ],
             [
              0.7777777777777778,
              "#fb9f3a"
             ],
             [
              0.8888888888888888,
              "#fdca26"
             ],
             [
              1.0,
              "#f0f921"
             ]
            ]
           }
          ],
          "surface": [
           {
            "type": "surface",
            "colorbar": {
             "outlinewidth": 0,
             "ticks": ""
            },
            "colorscale": [
             [
              0.0,
              "#0d0887"
             ],
             [
              0.1111111111111111,
              "#46039f"
             ],
             [
              0.2222222222222222,
              "#7201a8"
             ],
             [
              0.3333333333333333,
              "#9c179e"
             ],
             [
              0.4444444444444444,
              "#bd3786"
             ],
             [
              0.5555555555555556,
              "#d8576b"
             ],
             [
              0.6666666666666666,
              "#ed7953"
             ],
             [
              0.7777777777777778,
              "#fb9f3a"
             ],
             [
              0.8888888888888888,
              "#fdca26"
             ],
             [
              1.0,
              "#f0f921"
             ]
            ]
           }
          ],
          "mesh3d": [
           {
            "type": "mesh3d",
            "colorbar": {
             "outlinewidth": 0,
             "ticks": ""
            }
           }
          ],
          "scatter": [
           {
            "fillpattern": {
             "fillmode": "overlay",
             "size": 10,
             "solidity": 0.2
            },
            "type": "scatter"
           }
          ],
          "parcoords": [
           {
            "type": "parcoords",
            "line": {
             "colorbar": {
              "outlinewidth": 0,
              "ticks": ""
             }
            }
           }
          ],
          "scatterpolargl": [
           {
            "type": "scatterpolargl",
            "marker": {
             "colorbar": {
              "outlinewidth": 0,
              "ticks": ""
             }
            }
           }
          ],
          "bar": [
           {
            "error_x": {
             "color": "#2a3f5f"
            },
            "error_y": {
             "color": "#2a3f5f"
            },
            "marker": {
             "line": {
              "color": "#E5ECF6",
              "width": 0.5
             },
             "pattern": {
              "fillmode": "overlay",
              "size": 10,
              "solidity": 0.2
             }
            },
            "type": "bar"
           }
          ],
          "scattergeo": [
           {
            "type": "scattergeo",
            "marker": {
             "colorbar": {
              "outlinewidth": 0,
              "ticks": ""
             }
            }
           }
          ],
          "scatterpolar": [
           {
            "type": "scatterpolar",
            "marker": {
             "colorbar": {
              "outlinewidth": 0,
              "ticks": ""
             }
            }
           }
          ],
          "histogram": [
           {
            "marker": {
             "pattern": {
              "fillmode": "overlay",
              "size": 10,
              "solidity": 0.2
             }
            },
            "type": "histogram"
           }
          ],
          "scattergl": [
           {
            "type": "scattergl",
            "marker": {
             "colorbar": {
              "outlinewidth": 0,
              "ticks": ""
             }
            }
           }
          ],
          "scatter3d": [
           {
            "type": "scatter3d",
            "line": {
             "colorbar": {
              "outlinewidth": 0,
              "ticks": ""
             }
            },
            "marker": {
             "colorbar": {
              "outlinewidth": 0,
              "ticks": ""
             }
            }
           }
          ],
          "scattermapbox": [
           {
            "type": "scattermapbox",
            "marker": {
             "colorbar": {
              "outlinewidth": 0,
              "ticks": ""
             }
            }
           }
          ],
          "scatterternary": [
           {
            "type": "scatterternary",
            "marker": {
             "colorbar": {
              "outlinewidth": 0,
              "ticks": ""
             }
            }
           }
          ],
          "scattercarpet": [
           {
            "type": "scattercarpet",
            "marker": {
             "colorbar": {
              "outlinewidth": 0,
              "ticks": ""
             }
            }
           }
          ],
          "carpet": [
           {
            "aaxis": {
             "endlinecolor": "#2a3f5f",
             "gridcolor": "white",
             "linecolor": "white",
             "minorgridcolor": "white",
             "startlinecolor": "#2a3f5f"
            },
            "baxis": {
             "endlinecolor": "#2a3f5f",
             "gridcolor": "white",
             "linecolor": "white",
             "minorgridcolor": "white",
             "startlinecolor": "#2a3f5f"
            },
            "type": "carpet"
           }
          ],
          "table": [
           {
            "cells": {
             "fill": {
              "color": "#EBF0F8"
             },
             "line": {
              "color": "white"
             }
            },
            "header": {
             "fill": {
              "color": "#C8D4E3"
             },
             "line": {
              "color": "white"
             }
            },
            "type": "table"
           }
          ],
          "barpolar": [
           {
            "marker": {
             "line": {
              "color": "#E5ECF6",
              "width": 0.5
             },
             "pattern": {
              "fillmode": "overlay",
              "size": 10,
              "solidity": 0.2
             }
            },
            "type": "barpolar"
           }
          ],
          "pie": [
           {
            "automargin": true,
            "type": "pie"
           }
          ]
         },
         "layout": {
          "autotypenumbers": "strict",
          "colorway": [
           "#636efa",
           "#EF553B",
           "#00cc96",
           "#ab63fa",
           "#FFA15A",
           "#19d3f3",
           "#FF6692",
           "#B6E880",
           "#FF97FF",
           "#FECB52"
          ],
          "font": {
           "color": "#2a3f5f"
          },
          "hovermode": "closest",
          "hoverlabel": {
           "align": "left"
          },
          "paper_bgcolor": "white",
          "plot_bgcolor": "#E5ECF6",
          "polar": {
           "bgcolor": "#E5ECF6",
           "angularaxis": {
            "gridcolor": "white",
            "linecolor": "white",
            "ticks": ""
           },
           "radialaxis": {
            "gridcolor": "white",
            "linecolor": "white",
            "ticks": ""
           }
          },
          "ternary": {
           "bgcolor": "#E5ECF6",
           "aaxis": {
            "gridcolor": "white",
            "linecolor": "white",
            "ticks": ""
           },
           "baxis": {
            "gridcolor": "white",
            "linecolor": "white",
            "ticks": ""
           },
           "caxis": {
            "gridcolor": "white",
            "linecolor": "white",
            "ticks": ""
           }
          },
          "coloraxis": {
           "colorbar": {
            "outlinewidth": 0,
            "ticks": ""
           }
          },
          "colorscale": {
           "sequential": [
            [
             0.0,
             "#0d0887"
            ],
            [
             0.1111111111111111,
             "#46039f"
            ],
            [
             0.2222222222222222,
             "#7201a8"
            ],
            [
             0.3333333333333333,
             "#9c179e"
            ],
            [
             0.4444444444444444,
             "#bd3786"
            ],
            [
             0.5555555555555556,
             "#d8576b"
            ],
            [
             0.6666666666666666,
             "#ed7953"
            ],
            [
             0.7777777777777778,
             "#fb9f3a"
            ],
            [
             0.8888888888888888,
             "#fdca26"
            ],
            [
             1.0,
             "#f0f921"
            ]
           ],
           "sequentialminus": [
            [
             0.0,
             "#0d0887"
            ],
            [
             0.1111111111111111,
             "#46039f"
            ],
            [
             0.2222222222222222,
             "#7201a8"
            ],
            [
             0.3333333333333333,
             "#9c179e"
            ],
            [
             0.4444444444444444,
             "#bd3786"
            ],
            [
             0.5555555555555556,
             "#d8576b"
            ],
            [
             0.6666666666666666,
             "#ed7953"
            ],
            [
             0.7777777777777778,
             "#fb9f3a"
            ],
            [
             0.8888888888888888,
             "#fdca26"
            ],
            [
             1.0,
             "#f0f921"
            ]
           ],
           "diverging": [
            [
             0,
             "#8e0152"
            ],
            [
             0.1,
             "#c51b7d"
            ],
            [
             0.2,
             "#de77ae"
            ],
            [
             0.3,
             "#f1b6da"
            ],
            [
             0.4,
             "#fde0ef"
            ],
            [
             0.5,
             "#f7f7f7"
            ],
            [
             0.6,
             "#e6f5d0"
            ],
            [
             0.7,
             "#b8e186"
            ],
            [
             0.8,
             "#7fbc41"
            ],
            [
             0.9,
             "#4d9221"
            ],
            [
             1,
             "#276419"
            ]
           ]
          },
          "xaxis": {
           "gridcolor": "white",
           "linecolor": "white",
           "ticks": "",
           "title": {
            "standoff": 15
           },
           "zerolinecolor": "white",
           "automargin": true,
           "zerolinewidth": 2
          },
          "yaxis": {
           "gridcolor": "white",
           "linecolor": "white",
           "ticks": "",
           "title": {
            "standoff": 15
           },
           "zerolinecolor": "white",
           "automargin": true,
           "zerolinewidth": 2
          },
          "scene": {
           "xaxis": {
            "backgroundcolor": "#E5ECF6",
            "gridcolor": "white",
            "linecolor": "white",
            "showbackground": true,
            "ticks": "",
            "zerolinecolor": "white",
            "gridwidth": 2
           },
           "yaxis": {
            "backgroundcolor": "#E5ECF6",
            "gridcolor": "white",
            "linecolor": "white",
            "showbackground": true,
            "ticks": "",
            "zerolinecolor": "white",
            "gridwidth": 2
           },
           "zaxis": {
            "backgroundcolor": "#E5ECF6",
            "gridcolor": "white",
            "linecolor": "white",
            "showbackground": true,
            "ticks": "",
            "zerolinecolor": "white",
            "gridwidth": 2
           }
          },
          "shapedefaults": {
           "line": {
            "color": "#2a3f5f"
           }
          },
          "annotationdefaults": {
           "arrowcolor": "#2a3f5f",
           "arrowhead": 0,
           "arrowwidth": 1
          },
          "geo": {
           "bgcolor": "white",
           "landcolor": "#E5ECF6",
           "subunitcolor": "white",
           "showland": true,
           "showlakes": true,
           "lakecolor": "white"
          },
          "title": {
           "x": 0.05
          },
          "mapbox": {
           "style": "light"
          }
         }
        },
        "xaxis": {
         "anchor": "y",
         "domain": [
          0.0,
          0.14666666666666667
         ],
         "title": {
          "text": ""
         }
        },
        "yaxis": {
         "anchor": "x",
         "domain": [
          0.0,
          0.3133333333333333
         ],
         "title": {
          "text": ""
         }
        },
        "xaxis2": {
         "anchor": "y2",
         "domain": [
          0.16666666666666666,
          0.31333333333333335
         ],
         "matches": "x",
         "title": {
          "text": ""
         }
        },
        "yaxis2": {
         "anchor": "x2",
         "domain": [
          0.0,
          0.3133333333333333
         ],
         "matches": "y",
         "showticklabels": false,
         "title": {
          "text": ""
         }
        },
        "xaxis3": {
         "anchor": "y3",
         "domain": [
          0.3333333333333333,
          0.48
         ],
         "matches": "x",
         "title": {
          "text": ""
         }
        },
        "yaxis3": {
         "anchor": "x3",
         "domain": [
          0.0,
          0.3133333333333333
         ],
         "matches": "y",
         "showticklabels": false,
         "title": {
          "text": ""
         }
        },
        "xaxis4": {
         "anchor": "y4",
         "domain": [
          0.5,
          0.6466666666666667
         ],
         "matches": "x",
         "title": {
          "text": ""
         }
        },
        "yaxis4": {
         "anchor": "x4",
         "domain": [
          0.0,
          0.3133333333333333
         ],
         "matches": "y",
         "showticklabels": false,
         "title": {
          "text": ""
         }
        },
        "xaxis5": {
         "anchor": "y5",
         "domain": [
          0.6666666666666666,
          0.8133333333333332
         ],
         "matches": "x",
         "title": {
          "text": ""
         }
        },
        "yaxis5": {
         "anchor": "x5",
         "domain": [
          0.0,
          0.3133333333333333
         ],
         "matches": "y",
         "showticklabels": false,
         "title": {
          "text": ""
         }
        },
        "xaxis6": {
         "anchor": "y6",
         "domain": [
          0.8333333333333334,
          0.98
         ],
         "matches": "x",
         "title": {
          "text": ""
         }
        },
        "yaxis6": {
         "anchor": "x6",
         "domain": [
          0.0,
          0.3133333333333333
         ],
         "matches": "y",
         "showticklabels": false,
         "title": {
          "text": ""
         }
        },
        "xaxis7": {
         "anchor": "y7",
         "domain": [
          0.0,
          0.14666666666666667
         ],
         "matches": "x",
         "showticklabels": false,
         "title": {
          "text": ""
         }
        },
        "yaxis7": {
         "anchor": "x7",
         "domain": [
          0.34333333333333327,
          0.6566666666666665
         ],
         "matches": "y",
         "title": {
          "text": ""
         }
        },
        "xaxis8": {
         "anchor": "y8",
         "domain": [
          0.16666666666666666,
          0.31333333333333335
         ],
         "matches": "x",
         "showticklabels": false,
         "title": {
          "text": ""
         }
        },
        "yaxis8": {
         "anchor": "x8",
         "domain": [
          0.34333333333333327,
          0.6566666666666665
         ],
         "matches": "y",
         "showticklabels": false,
         "title": {
          "text": ""
         }
        },
        "xaxis9": {
         "anchor": "y9",
         "domain": [
          0.3333333333333333,
          0.48
         ],
         "matches": "x",
         "showticklabels": false,
         "title": {
          "text": ""
         }
        },
        "yaxis9": {
         "anchor": "x9",
         "domain": [
          0.34333333333333327,
          0.6566666666666665
         ],
         "matches": "y",
         "showticklabels": false,
         "title": {
          "text": ""
         }
        },
        "xaxis10": {
         "anchor": "y10",
         "domain": [
          0.5,
          0.6466666666666667
         ],
         "matches": "x",
         "showticklabels": false,
         "title": {
          "text": ""
         }
        },
        "yaxis10": {
         "anchor": "x10",
         "domain": [
          0.34333333333333327,
          0.6566666666666665
         ],
         "matches": "y",
         "showticklabels": false,
         "title": {
          "text": ""
         }
        },
        "xaxis11": {
         "anchor": "y11",
         "domain": [
          0.6666666666666666,
          0.8133333333333332
         ],
         "matches": "x",
         "showticklabels": false,
         "title": {
          "text": ""
         }
        },
        "yaxis11": {
         "anchor": "x11",
         "domain": [
          0.34333333333333327,
          0.6566666666666665
         ],
         "matches": "y",
         "showticklabels": false,
         "title": {
          "text": ""
         }
        },
        "xaxis12": {
         "anchor": "y12",
         "domain": [
          0.8333333333333334,
          0.98
         ],
         "matches": "x",
         "showticklabels": false,
         "title": {
          "text": ""
         }
        },
        "yaxis12": {
         "anchor": "x12",
         "domain": [
          0.34333333333333327,
          0.6566666666666665
         ],
         "matches": "y",
         "showticklabels": false,
         "title": {
          "text": ""
         }
        },
        "xaxis13": {
         "anchor": "y13",
         "domain": [
          0.0,
          0.14666666666666667
         ],
         "matches": "x",
         "showticklabels": false,
         "title": {
          "text": ""
         }
        },
        "yaxis13": {
         "anchor": "x13",
         "domain": [
          0.6866666666666665,
          0.9999999999999998
         ],
         "matches": "y",
         "title": {
          "text": ""
         }
        },
        "xaxis14": {
         "anchor": "y14",
         "domain": [
          0.16666666666666666,
          0.31333333333333335
         ],
         "matches": "x",
         "showticklabels": false,
         "title": {
          "text": ""
         }
        },
        "yaxis14": {
         "anchor": "x14",
         "domain": [
          0.6866666666666665,
          0.9999999999999998
         ],
         "matches": "y",
         "showticklabels": false,
         "title": {
          "text": ""
         }
        },
        "xaxis15": {
         "anchor": "y15",
         "domain": [
          0.3333333333333333,
          0.48
         ],
         "matches": "x",
         "showticklabels": false,
         "title": {
          "text": ""
         }
        },
        "yaxis15": {
         "anchor": "x15",
         "domain": [
          0.6866666666666665,
          0.9999999999999998
         ],
         "matches": "y",
         "showticklabels": false,
         "title": {
          "text": ""
         }
        },
        "xaxis16": {
         "anchor": "y16",
         "domain": [
          0.5,
          0.6466666666666667
         ],
         "matches": "x",
         "showticklabels": false,
         "title": {
          "text": ""
         }
        },
        "yaxis16": {
         "anchor": "x16",
         "domain": [
          0.6866666666666665,
          0.9999999999999998
         ],
         "matches": "y",
         "showticklabels": false,
         "title": {
          "text": ""
         }
        },
        "xaxis17": {
         "anchor": "y17",
         "domain": [
          0.6666666666666666,
          0.8133333333333332
         ],
         "matches": "x",
         "showticklabels": false,
         "title": {
          "text": ""
         }
        },
        "yaxis17": {
         "anchor": "x17",
         "domain": [
          0.6866666666666665,
          0.9999999999999998
         ],
         "matches": "y",
         "showticklabels": false,
         "title": {
          "text": ""
         }
        },
        "xaxis18": {
         "anchor": "y18",
         "domain": [
          0.8333333333333334,
          0.98
         ],
         "matches": "x",
         "showticklabels": false,
         "title": {
          "text": ""
         }
        },
        "yaxis18": {
         "anchor": "x18",
         "domain": [
          0.6866666666666665,
          0.9999999999999998
         ],
         "matches": "y",
         "showticklabels": false,
         "title": {
          "text": ""
         }
        },
        "annotations": [
         {
          "showarrow": false,
          "text": "0.5",
          "x": 0.07333333333333333,
          "xanchor": "center",
          "xref": "paper",
          "y": 0.9999999999999998,
          "yanchor": "bottom",
          "yref": "paper"
         },
         {
          "showarrow": false,
          "text": "1.0",
          "x": 0.24,
          "xanchor": "center",
          "xref": "paper",
          "y": 0.9999999999999998,
          "yanchor": "bottom",
          "yref": "paper"
         },
         {
          "showarrow": false,
          "text": "2.0",
          "x": 0.4066666666666666,
          "xanchor": "center",
          "xref": "paper",
          "y": 0.9999999999999998,
          "yanchor": "bottom",
          "yref": "paper"
         },
         {
          "showarrow": false,
          "text": "5.0",
          "x": 0.5733333333333334,
          "xanchor": "center",
          "xref": "paper",
          "y": 0.9999999999999998,
          "yanchor": "bottom",
          "yref": "paper"
         },
         {
          "showarrow": false,
          "text": "15.0",
          "x": 0.74,
          "xanchor": "center",
          "xref": "paper",
          "y": 0.9999999999999998,
          "yanchor": "bottom",
          "yref": "paper"
         },
         {
          "showarrow": false,
          "text": "30.0",
          "x": 0.9066666666666667,
          "xanchor": "center",
          "xref": "paper",
          "y": 0.9999999999999998,
          "yanchor": "bottom",
          "yref": "paper"
         },
         {
          "showarrow": false,
          "text": "600",
          "textangle": 90,
          "x": 0.98,
          "xanchor": "left",
          "xref": "paper",
          "y": 0.15666666666666665,
          "yanchor": "middle",
          "yref": "paper"
         },
         {
          "showarrow": false,
          "text": "300",
          "textangle": 90,
          "x": 0.98,
          "xanchor": "left",
          "xref": "paper",
          "y": 0.4999999999999999,
          "yanchor": "middle",
          "yref": "paper"
         },
         {
          "showarrow": false,
          "text": "180",
          "textangle": 90,
          "x": 0.98,
          "xanchor": "left",
          "xref": "paper",
          "y": 0.8433333333333332,
          "yanchor": "middle",
          "yref": "paper"
         },
         {
          "showarrow": false,
          "text": "X",
          "x": "Manhattan",
          "xanchor": "center",
          "xref": "x2",
          "y": 0,
          "yanchor": "bottom",
          "yref": "y2"
         },
         {
          "showarrow": false,
          "text": "X",
          "x": "NYC",
          "xanchor": "center",
          "xref": "x2",
          "y": 0,
          "yanchor": "bottom",
          "yref": "y2"
         },
         {
          "showarrow": false,
          "text": "X",
          "x": "NYC",
          "xanchor": "center",
          "xref": "x9",
          "y": 0,
          "yanchor": "bottom",
          "yref": "y9"
         },
         {
          "showarrow": false,
          "text": "X",
          "x": "Manhattan",
          "xanchor": "center",
          "xref": "x3",
          "y": 0,
          "yanchor": "bottom",
          "yref": "y3"
         },
         {
          "showarrow": false,
          "text": "X",
          "x": "NYC",
          "xanchor": "center",
          "xref": "x3",
          "y": 0,
          "yanchor": "bottom",
          "yref": "y3"
         },
         {
          "showarrow": false,
          "text": "X",
          "x": "Manhattan",
          "xanchor": "center",
          "xref": "x16",
          "y": 0,
          "yanchor": "bottom",
          "yref": "y16"
         },
         {
          "showarrow": false,
          "text": "X",
          "x": "NYC",
          "xanchor": "center",
          "xref": "x16",
          "y": 0,
          "yanchor": "bottom",
          "yref": "y16"
         },
         {
          "showarrow": false,
          "text": "X",
          "x": "Manhattan",
          "xanchor": "center",
          "xref": "x10",
          "y": 0,
          "yanchor": "bottom",
          "yref": "y10"
         },
         {
          "showarrow": false,
          "text": "X",
          "x": "NYC",
          "xanchor": "center",
          "xref": "x10",
          "y": 0,
          "yanchor": "bottom",
          "yref": "y10"
         },
         {
          "showarrow": false,
          "text": "X",
          "x": "Chicago",
          "xanchor": "center",
          "xref": "x4",
          "y": 0,
          "yanchor": "bottom",
          "yref": "y4"
         },
         {
          "showarrow": false,
          "text": "X",
          "x": "Manhattan",
          "xanchor": "center",
          "xref": "x4",
          "y": 0,
          "yanchor": "bottom",
          "yref": "y4"
         },
         {
          "showarrow": false,
          "text": "X",
          "x": "NYC",
          "xanchor": "center",
          "xref": "x4",
          "y": 0,
          "yanchor": "bottom",
          "yref": "y4"
         },
         {
          "showarrow": false,
          "text": "X",
          "x": "Chicago",
          "xanchor": "center",
          "xref": "x17",
          "y": 0,
          "yanchor": "bottom",
          "yref": "y17"
         },
         {
          "showarrow": false,
          "text": "X",
          "x": "Manhattan",
          "xanchor": "center",
          "xref": "x17",
          "y": 0,
          "yanchor": "bottom",
          "yref": "y17"
         },
         {
          "showarrow": false,
          "text": "X",
          "x": "NYC",
          "xanchor": "center",
          "xref": "x17",
          "y": 0,
          "yanchor": "bottom",
          "yref": "y17"
         },
         {
          "showarrow": false,
          "text": "X",
          "x": "Chicago",
          "xanchor": "center",
          "xref": "x11",
          "y": 0,
          "yanchor": "bottom",
          "yref": "y11"
         },
         {
          "showarrow": false,
          "text": "X",
          "x": "Manhattan",
          "xanchor": "center",
          "xref": "x11",
          "y": 0,
          "yanchor": "bottom",
          "yref": "y11"
         },
         {
          "showarrow": false,
          "text": "X",
          "x": "NYC",
          "xanchor": "center",
          "xref": "x11",
          "y": 0,
          "yanchor": "bottom",
          "yref": "y11"
         },
         {
          "showarrow": false,
          "text": "X",
          "x": "Chicago",
          "xanchor": "center",
          "xref": "x5",
          "y": 0,
          "yanchor": "bottom",
          "yref": "y5"
         },
         {
          "showarrow": false,
          "text": "X",
          "x": "Manhattan",
          "xanchor": "center",
          "xref": "x5",
          "y": 0,
          "yanchor": "bottom",
          "yref": "y5"
         },
         {
          "showarrow": false,
          "text": "X",
          "x": "NYC",
          "xanchor": "center",
          "xref": "x5",
          "y": 0,
          "yanchor": "bottom",
          "yref": "y5"
         },
         {
          "showarrow": false,
          "text": "X",
          "x": "Chicago",
          "xanchor": "center",
          "xref": "x18",
          "y": 0,
          "yanchor": "bottom",
          "yref": "y18"
         },
         {
          "showarrow": false,
          "text": "X",
          "x": "Manhattan",
          "xanchor": "center",
          "xref": "x18",
          "y": 0,
          "yanchor": "bottom",
          "yref": "y18"
         },
         {
          "showarrow": false,
          "text": "X",
          "x": "NYC",
          "xanchor": "center",
          "xref": "x18",
          "y": 0,
          "yanchor": "bottom",
          "yref": "y18"
         },
         {
          "showarrow": false,
          "text": "X",
          "x": "Chicago",
          "xanchor": "center",
          "xref": "x12",
          "y": 0,
          "yanchor": "bottom",
          "yref": "y12"
         },
         {
          "showarrow": false,
          "text": "X",
          "x": "Manhattan",
          "xanchor": "center",
          "xref": "x12",
          "y": 0,
          "yanchor": "bottom",
          "yref": "y12"
         },
         {
          "showarrow": false,
          "text": "X",
          "x": "NYC",
          "xanchor": "center",
          "xref": "x12",
          "y": 0,
          "yanchor": "bottom",
          "yref": "y12"
         },
         {
          "showarrow": false,
          "text": "X",
          "x": "Chicago",
          "xanchor": "center",
          "xref": "x6",
          "y": 0,
          "yanchor": "bottom",
          "yref": "y6"
         },
         {
          "showarrow": false,
          "text": "X",
          "x": "DC",
          "xanchor": "center",
          "xref": "x6",
          "y": 0,
          "yanchor": "bottom",
          "yref": "y6"
         },
         {
          "showarrow": false,
          "text": "X",
          "x": "Manhattan",
          "xanchor": "center",
          "xref": "x6",
          "y": 0,
          "yanchor": "bottom",
          "yref": "y6"
         },
         {
          "showarrow": false,
          "text": "X",
          "x": "NYC",
          "xanchor": "center",
          "xref": "x6",
          "y": 0,
          "yanchor": "bottom",
          "yref": "y6"
         },
         {
          "showarrow": false,
          "text": "cost diff between VGA and IH [%]",
          "textangle": -90,
          "x": -0.05,
          "xref": "paper",
          "y": 0.5,
          "yref": "paper"
         },
         {
          "showarrow": false,
          "text": "instance length [min]",
          "x": 0.5,
          "xref": "paper",
          "y": 1.12,
          "yref": "paper"
         },
         {
          "showarrow": false,
          "text": "maximum delay [s]",
          "textangle": 90,
          "x": 1.02,
          "xref": "paper",
          "y": 0.5,
          "yref": "paper"
         }
        ],
        "legend": {
         "tracegroupgap": 0,
         "orientation": "h",
         "yanchor": "bottom",
         "y": 1.06,
         "xanchor": "right",
         "x": 1,
         "bordercolor": "Black",
         "borderwidth": 1
        },
        "margin": {
         "t": 35,
         "l": 0,
         "r": 0,
         "b": 0,
         "pad": 0
        },
        "barmode": "group",
        "height": 400,
        "width": 900
       },
       "config": {
        "plotlyServerURL": "https://plot.ly"
       }
      },
      "text/html": "<div>                            <div id=\"dd1c0889-6225-4b48-a1cb-929f2893bd85\" class=\"plotly-graph-div\" style=\"height:400px; width:900px;\"></div>            <script type=\"text/javascript\">                require([\"plotly\"], function(Plotly) {                    window.PLOTLYENV=window.PLOTLYENV || {};                                    if (document.getElementById(\"dd1c0889-6225-4b48-a1cb-929f2893bd85\")) {                    Plotly.newPlot(                        \"dd1c0889-6225-4b48-a1cb-929f2893bd85\",                        [{\"alignmentgroup\":\"True\",\"hovertemplate\":\"max_delay=180<br>duration_minutes=0.5<br>area=%{x}<br>cost_ratio_percent=%{y}<extra></extra>\",\"legendgroup\":\"\",\"marker\":{\"color\":\"#636efa\",\"pattern\":{\"shape\":\"\"}},\"name\":\"\",\"offsetgroup\":\"\",\"orientation\":\"v\",\"showlegend\":false,\"textposition\":\"auto\",\"x\":[\"Chicago\",\"DC\",\"Manhattan\",\"NYC\"],\"xaxis\":\"x13\",\"y\":[12.0,0.0,6.113138686131388,6.33239171374765],\"yaxis\":\"y13\",\"type\":\"bar\"},{\"alignmentgroup\":\"True\",\"hovertemplate\":\"max_delay=180<br>duration_minutes=1.0<br>area=%{x}<br>cost_ratio_percent=%{y}<extra></extra>\",\"legendgroup\":\"\",\"marker\":{\"color\":\"#636efa\",\"pattern\":{\"shape\":\"\"}},\"name\":\"\",\"offsetgroup\":\"\",\"orientation\":\"v\",\"showlegend\":false,\"textposition\":\"auto\",\"x\":[\"Chicago\",\"DC\",\"Manhattan\",\"NYC\"],\"xaxis\":\"x14\",\"y\":[0.8064516129032304,0.0,15.175481957488875,6.219512195121949],\"yaxis\":\"y14\",\"type\":\"bar\"},{\"alignmentgroup\":\"True\",\"hovertemplate\":\"max_delay=180<br>duration_minutes=2.0<br>area=%{x}<br>cost_ratio_percent=%{y}<extra></extra>\",\"legendgroup\":\"\",\"marker\":{\"color\":\"#636efa\",\"pattern\":{\"shape\":\"\"}},\"name\":\"\",\"offsetgroup\":\"\",\"orientation\":\"v\",\"showlegend\":false,\"textposition\":\"auto\",\"x\":[\"Chicago\",\"DC\",\"Manhattan\",\"NYC\"],\"xaxis\":\"x15\",\"y\":[3.263403263403263,1.2787723785166298,21.1314475873544,11.665690866510541],\"yaxis\":\"y15\",\"type\":\"bar\"},{\"alignmentgroup\":\"True\",\"hovertemplate\":\"max_delay=180<br>duration_minutes=5.0<br>area=%{x}<br>cost_ratio_percent=%{y}<extra></extra>\",\"legendgroup\":\"\",\"marker\":{\"color\":\"#636efa\",\"pattern\":{\"shape\":\"\"}},\"name\":\"\",\"offsetgroup\":\"\",\"orientation\":\"v\",\"showlegend\":false,\"textposition\":\"auto\",\"x\":[\"Chicago\",\"DC\",\"Manhattan\",\"NYC\"],\"xaxis\":\"x16\",\"y\":[9.954407294832816,1.521555367709214,null,null],\"yaxis\":\"y16\",\"type\":\"bar\"},{\"alignmentgroup\":\"True\",\"hovertemplate\":\"max_delay=180<br>duration_minutes=15.0<br>area=%{x}<br>cost_ratio_percent=%{y}<extra></extra>\",\"legendgroup\":\"\",\"marker\":{\"color\":\"#636efa\",\"pattern\":{\"shape\":\"\"}},\"name\":\"\",\"offsetgroup\":\"\",\"orientation\":\"v\",\"showlegend\":false,\"textposition\":\"auto\",\"x\":[\"Chicago\",\"DC\",\"Manhattan\",\"NYC\"],\"xaxis\":\"x17\",\"y\":[null,5.067155067155072,null,null],\"yaxis\":\"y17\",\"type\":\"bar\"},{\"alignmentgroup\":\"True\",\"hovertemplate\":\"max_delay=180<br>duration_minutes=30.0<br>area=%{x}<br>cost_ratio_percent=%{y}<extra></extra>\",\"legendgroup\":\"\",\"marker\":{\"color\":\"#636efa\",\"pattern\":{\"shape\":\"\"}},\"name\":\"\",\"offsetgroup\":\"\",\"orientation\":\"v\",\"showlegend\":false,\"textposition\":\"auto\",\"x\":[\"Chicago\",\"DC\",\"Manhattan\",\"NYC\"],\"xaxis\":\"x18\",\"y\":[null,7.033997655334108,null,null],\"yaxis\":\"y18\",\"type\":\"bar\"},{\"alignmentgroup\":\"True\",\"hovertemplate\":\"max_delay=300<br>duration_minutes=0.5<br>area=%{x}<br>cost_ratio_percent=%{y}<extra></extra>\",\"legendgroup\":\"\",\"marker\":{\"color\":\"#636efa\",\"pattern\":{\"shape\":\"\"}},\"name\":\"\",\"offsetgroup\":\"\",\"orientation\":\"v\",\"showlegend\":false,\"textposition\":\"auto\",\"x\":[\"Chicago\",\"DC\",\"Manhattan\",\"NYC\"],\"xaxis\":\"x7\",\"y\":[0.0,0.0,16.559139784946236,7.408419901585563],\"yaxis\":\"y7\",\"type\":\"bar\"},{\"alignmentgroup\":\"True\",\"hovertemplate\":\"max_delay=300<br>duration_minutes=1.0<br>area=%{x}<br>cost_ratio_percent=%{y}<extra></extra>\",\"legendgroup\":\"\",\"marker\":{\"color\":\"#636efa\",\"pattern\":{\"shape\":\"\"}},\"name\":\"\",\"offsetgroup\":\"\",\"orientation\":\"v\",\"showlegend\":false,\"textposition\":\"auto\",\"x\":[\"Chicago\",\"DC\",\"Manhattan\",\"NYC\"],\"xaxis\":\"x8\",\"y\":[3.3333333333333317,0.0,23.5399284862932,8.585304715650937],\"yaxis\":\"y8\",\"type\":\"bar\"},{\"alignmentgroup\":\"True\",\"hovertemplate\":\"max_delay=300<br>duration_minutes=2.0<br>area=%{x}<br>cost_ratio_percent=%{y}<extra></extra>\",\"legendgroup\":\"\",\"marker\":{\"color\":\"#636efa\",\"pattern\":{\"shape\":\"\"}},\"name\":\"\",\"offsetgroup\":\"\",\"orientation\":\"v\",\"showlegend\":false,\"textposition\":\"auto\",\"x\":[\"Chicago\",\"DC\",\"Manhattan\",\"NYC\"],\"xaxis\":\"x9\",\"y\":[3.827751196172254,2.0887728459529904,30.70997990622906,null],\"yaxis\":\"y9\",\"type\":\"bar\"},{\"alignmentgroup\":\"True\",\"hovertemplate\":\"max_delay=300<br>duration_minutes=5.0<br>area=%{x}<br>cost_ratio_percent=%{y}<extra></extra>\",\"legendgroup\":\"\",\"marker\":{\"color\":\"#636efa\",\"pattern\":{\"shape\":\"\"}},\"name\":\"\",\"offsetgroup\":\"\",\"orientation\":\"v\",\"showlegend\":false,\"textposition\":\"auto\",\"x\":[\"Chicago\",\"DC\",\"Manhattan\",\"NYC\"],\"xaxis\":\"x10\",\"y\":[6.818181818181805,6.04878048780488,null,null],\"yaxis\":\"y10\",\"type\":\"bar\"},{\"alignmentgroup\":\"True\",\"hovertemplate\":\"max_delay=300<br>duration_minutes=15.0<br>area=%{x}<br>cost_ratio_percent=%{y}<extra></extra>\",\"legendgroup\":\"\",\"marker\":{\"color\":\"#636efa\",\"pattern\":{\"shape\":\"\"}},\"name\":\"\",\"offsetgroup\":\"\",\"orientation\":\"v\",\"showlegend\":false,\"textposition\":\"auto\",\"x\":[\"Chicago\",\"DC\",\"Manhattan\",\"NYC\"],\"xaxis\":\"x11\",\"y\":[null,9.544950055493898,null,null],\"yaxis\":\"y11\",\"type\":\"bar\"},{\"alignmentgroup\":\"True\",\"hovertemplate\":\"max_delay=300<br>duration_minutes=30.0<br>area=%{x}<br>cost_ratio_percent=%{y}<extra></extra>\",\"legendgroup\":\"\",\"marker\":{\"color\":\"#636efa\",\"pattern\":{\"shape\":\"\"}},\"name\":\"\",\"offsetgroup\":\"\",\"orientation\":\"v\",\"showlegend\":false,\"textposition\":\"auto\",\"x\":[\"Chicago\",\"DC\",\"Manhattan\",\"NYC\"],\"xaxis\":\"x12\",\"y\":[null,16.009089031191902,null,null],\"yaxis\":\"y12\",\"type\":\"bar\"},{\"alignmentgroup\":\"True\",\"hovertemplate\":\"max_delay=600<br>duration_minutes=0.5<br>area=%{x}<br>cost_ratio_percent=%{y}<extra></extra>\",\"legendgroup\":\"\",\"marker\":{\"color\":\"#636efa\",\"pattern\":{\"shape\":\"\"}},\"name\":\"\",\"offsetgroup\":\"\",\"orientation\":\"v\",\"showlegend\":false,\"textposition\":\"auto\",\"x\":[\"Chicago\",\"DC\",\"Manhattan\",\"NYC\"],\"xaxis\":\"x\",\"y\":[1.9607843137254901,0.0,26.45914396887158,14.388254486133755],\"yaxis\":\"y\",\"type\":\"bar\"},{\"alignmentgroup\":\"True\",\"hovertemplate\":\"max_delay=600<br>duration_minutes=1.0<br>area=%{x}<br>cost_ratio_percent=%{y}<extra></extra>\",\"legendgroup\":\"\",\"marker\":{\"color\":\"#636efa\",\"pattern\":{\"shape\":\"\"}},\"name\":\"\",\"offsetgroup\":\"\",\"orientation\":\"v\",\"showlegend\":false,\"textposition\":\"auto\",\"x\":[\"Chicago\",\"DC\",\"Manhattan\",\"NYC\"],\"xaxis\":\"x2\",\"y\":[1.8779342723004684,0.0,null,null],\"yaxis\":\"y2\",\"type\":\"bar\"},{\"alignmentgroup\":\"True\",\"hovertemplate\":\"max_delay=600<br>duration_minutes=2.0<br>area=%{x}<br>cost_ratio_percent=%{y}<extra></extra>\",\"legendgroup\":\"\",\"marker\":{\"color\":\"#636efa\",\"pattern\":{\"shape\":\"\"}},\"name\":\"\",\"offsetgroup\":\"\",\"orientation\":\"v\",\"showlegend\":false,\"textposition\":\"auto\",\"x\":[\"Chicago\",\"DC\",\"Manhattan\",\"NYC\"],\"xaxis\":\"x3\",\"y\":[1.7632241813602016,17.55485893416929,null,null],\"yaxis\":\"y3\",\"type\":\"bar\"},{\"alignmentgroup\":\"True\",\"hovertemplate\":\"max_delay=600<br>duration_minutes=5.0<br>area=%{x}<br>cost_ratio_percent=%{y}<extra></extra>\",\"legendgroup\":\"\",\"marker\":{\"color\":\"#636efa\",\"pattern\":{\"shape\":\"\"}},\"name\":\"\",\"offsetgroup\":\"\",\"orientation\":\"v\",\"showlegend\":false,\"textposition\":\"auto\",\"x\":[\"Chicago\",\"DC\",\"Manhattan\",\"NYC\"],\"xaxis\":\"x4\",\"y\":[null,19.18678526048284,null,null],\"yaxis\":\"y4\",\"type\":\"bar\"},{\"alignmentgroup\":\"True\",\"hovertemplate\":\"max_delay=600<br>duration_minutes=15.0<br>area=%{x}<br>cost_ratio_percent=%{y}<extra></extra>\",\"legendgroup\":\"\",\"marker\":{\"color\":\"#636efa\",\"pattern\":{\"shape\":\"\"}},\"name\":\"\",\"offsetgroup\":\"\",\"orientation\":\"v\",\"showlegend\":false,\"textposition\":\"auto\",\"x\":[\"Chicago\",\"DC\",\"Manhattan\",\"NYC\"],\"xaxis\":\"x5\",\"y\":[null,27.04663212435234,null,null],\"yaxis\":\"y5\",\"type\":\"bar\"},{\"alignmentgroup\":\"True\",\"hovertemplate\":\"max_delay=600<br>duration_minutes=30.0<br>area=%{x}<br>cost_ratio_percent=%{y}<extra></extra>\",\"legendgroup\":\"\",\"marker\":{\"color\":\"#636efa\",\"pattern\":{\"shape\":\"\"}},\"name\":\"\",\"offsetgroup\":\"\",\"orientation\":\"v\",\"showlegend\":false,\"textposition\":\"auto\",\"x\":[\"Chicago\",\"DC\",\"Manhattan\",\"NYC\"],\"xaxis\":\"x6\",\"y\":[null,null,null,null],\"yaxis\":\"y6\",\"type\":\"bar\"}],                        {\"template\":{\"data\":{\"histogram2dcontour\":[{\"type\":\"histogram2dcontour\",\"colorbar\":{\"outlinewidth\":0,\"ticks\":\"\"},\"colorscale\":[[0.0,\"#0d0887\"],[0.1111111111111111,\"#46039f\"],[0.2222222222222222,\"#7201a8\"],[0.3333333333333333,\"#9c179e\"],[0.4444444444444444,\"#bd3786\"],[0.5555555555555556,\"#d8576b\"],[0.6666666666666666,\"#ed7953\"],[0.7777777777777778,\"#fb9f3a\"],[0.8888888888888888,\"#fdca26\"],[1.0,\"#f0f921\"]]}],\"choropleth\":[{\"type\":\"choropleth\",\"colorbar\":{\"outlinewidth\":0,\"ticks\":\"\"}}],\"histogram2d\":[{\"type\":\"histogram2d\",\"colorbar\":{\"outlinewidth\":0,\"ticks\":\"\"},\"colorscale\":[[0.0,\"#0d0887\"],[0.1111111111111111,\"#46039f\"],[0.2222222222222222,\"#7201a8\"],[0.3333333333333333,\"#9c179e\"],[0.4444444444444444,\"#bd3786\"],[0.5555555555555556,\"#d8576b\"],[0.6666666666666666,\"#ed7953\"],[0.7777777777777778,\"#fb9f3a\"],[0.8888888888888888,\"#fdca26\"],[1.0,\"#f0f921\"]]}],\"heatmap\":[{\"type\":\"heatmap\",\"colorbar\":{\"outlinewidth\":0,\"ticks\":\"\"},\"colorscale\":[[0.0,\"#0d0887\"],[0.1111111111111111,\"#46039f\"],[0.2222222222222222,\"#7201a8\"],[0.3333333333333333,\"#9c179e\"],[0.4444444444444444,\"#bd3786\"],[0.5555555555555556,\"#d8576b\"],[0.6666666666666666,\"#ed7953\"],[0.7777777777777778,\"#fb9f3a\"],[0.8888888888888888,\"#fdca26\"],[1.0,\"#f0f921\"]]}],\"heatmapgl\":[{\"type\":\"heatmapgl\",\"colorbar\":{\"outlinewidth\":0,\"ticks\":\"\"},\"colorscale\":[[0.0,\"#0d0887\"],[0.1111111111111111,\"#46039f\"],[0.2222222222222222,\"#7201a8\"],[0.3333333333333333,\"#9c179e\"],[0.4444444444444444,\"#bd3786\"],[0.5555555555555556,\"#d8576b\"],[0.6666666666666666,\"#ed7953\"],[0.7777777777777778,\"#fb9f3a\"],[0.8888888888888888,\"#fdca26\"],[1.0,\"#f0f921\"]]}],\"contourcarpet\":[{\"type\":\"contourcarpet\",\"colorbar\":{\"outlinewidth\":0,\"ticks\":\"\"}}],\"contour\":[{\"type\":\"contour\",\"colorbar\":{\"outlinewidth\":0,\"ticks\":\"\"},\"colorscale\":[[0.0,\"#0d0887\"],[0.1111111111111111,\"#46039f\"],[0.2222222222222222,\"#7201a8\"],[0.3333333333333333,\"#9c179e\"],[0.4444444444444444,\"#bd3786\"],[0.5555555555555556,\"#d8576b\"],[0.6666666666666666,\"#ed7953\"],[0.7777777777777778,\"#fb9f3a\"],[0.8888888888888888,\"#fdca26\"],[1.0,\"#f0f921\"]]}],\"surface\":[{\"type\":\"surface\",\"colorbar\":{\"outlinewidth\":0,\"ticks\":\"\"},\"colorscale\":[[0.0,\"#0d0887\"],[0.1111111111111111,\"#46039f\"],[0.2222222222222222,\"#7201a8\"],[0.3333333333333333,\"#9c179e\"],[0.4444444444444444,\"#bd3786\"],[0.5555555555555556,\"#d8576b\"],[0.6666666666666666,\"#ed7953\"],[0.7777777777777778,\"#fb9f3a\"],[0.8888888888888888,\"#fdca26\"],[1.0,\"#f0f921\"]]}],\"mesh3d\":[{\"type\":\"mesh3d\",\"colorbar\":{\"outlinewidth\":0,\"ticks\":\"\"}}],\"scatter\":[{\"fillpattern\":{\"fillmode\":\"overlay\",\"size\":10,\"solidity\":0.2},\"type\":\"scatter\"}],\"parcoords\":[{\"type\":\"parcoords\",\"line\":{\"colorbar\":{\"outlinewidth\":0,\"ticks\":\"\"}}}],\"scatterpolargl\":[{\"type\":\"scatterpolargl\",\"marker\":{\"colorbar\":{\"outlinewidth\":0,\"ticks\":\"\"}}}],\"bar\":[{\"error_x\":{\"color\":\"#2a3f5f\"},\"error_y\":{\"color\":\"#2a3f5f\"},\"marker\":{\"line\":{\"color\":\"#E5ECF6\",\"width\":0.5},\"pattern\":{\"fillmode\":\"overlay\",\"size\":10,\"solidity\":0.2}},\"type\":\"bar\"}],\"scattergeo\":[{\"type\":\"scattergeo\",\"marker\":{\"colorbar\":{\"outlinewidth\":0,\"ticks\":\"\"}}}],\"scatterpolar\":[{\"type\":\"scatterpolar\",\"marker\":{\"colorbar\":{\"outlinewidth\":0,\"ticks\":\"\"}}}],\"histogram\":[{\"marker\":{\"pattern\":{\"fillmode\":\"overlay\",\"size\":10,\"solidity\":0.2}},\"type\":\"histogram\"}],\"scattergl\":[{\"type\":\"scattergl\",\"marker\":{\"colorbar\":{\"outlinewidth\":0,\"ticks\":\"\"}}}],\"scatter3d\":[{\"type\":\"scatter3d\",\"line\":{\"colorbar\":{\"outlinewidth\":0,\"ticks\":\"\"}},\"marker\":{\"colorbar\":{\"outlinewidth\":0,\"ticks\":\"\"}}}],\"scattermapbox\":[{\"type\":\"scattermapbox\",\"marker\":{\"colorbar\":{\"outlinewidth\":0,\"ticks\":\"\"}}}],\"scatterternary\":[{\"type\":\"scatterternary\",\"marker\":{\"colorbar\":{\"outlinewidth\":0,\"ticks\":\"\"}}}],\"scattercarpet\":[{\"type\":\"scattercarpet\",\"marker\":{\"colorbar\":{\"outlinewidth\":0,\"ticks\":\"\"}}}],\"carpet\":[{\"aaxis\":{\"endlinecolor\":\"#2a3f5f\",\"gridcolor\":\"white\",\"linecolor\":\"white\",\"minorgridcolor\":\"white\",\"startlinecolor\":\"#2a3f5f\"},\"baxis\":{\"endlinecolor\":\"#2a3f5f\",\"gridcolor\":\"white\",\"linecolor\":\"white\",\"minorgridcolor\":\"white\",\"startlinecolor\":\"#2a3f5f\"},\"type\":\"carpet\"}],\"table\":[{\"cells\":{\"fill\":{\"color\":\"#EBF0F8\"},\"line\":{\"color\":\"white\"}},\"header\":{\"fill\":{\"color\":\"#C8D4E3\"},\"line\":{\"color\":\"white\"}},\"type\":\"table\"}],\"barpolar\":[{\"marker\":{\"line\":{\"color\":\"#E5ECF6\",\"width\":0.5},\"pattern\":{\"fillmode\":\"overlay\",\"size\":10,\"solidity\":0.2}},\"type\":\"barpolar\"}],\"pie\":[{\"automargin\":true,\"type\":\"pie\"}]},\"layout\":{\"autotypenumbers\":\"strict\",\"colorway\":[\"#636efa\",\"#EF553B\",\"#00cc96\",\"#ab63fa\",\"#FFA15A\",\"#19d3f3\",\"#FF6692\",\"#B6E880\",\"#FF97FF\",\"#FECB52\"],\"font\":{\"color\":\"#2a3f5f\"},\"hovermode\":\"closest\",\"hoverlabel\":{\"align\":\"left\"},\"paper_bgcolor\":\"white\",\"plot_bgcolor\":\"#E5ECF6\",\"polar\":{\"bgcolor\":\"#E5ECF6\",\"angularaxis\":{\"gridcolor\":\"white\",\"linecolor\":\"white\",\"ticks\":\"\"},\"radialaxis\":{\"gridcolor\":\"white\",\"linecolor\":\"white\",\"ticks\":\"\"}},\"ternary\":{\"bgcolor\":\"#E5ECF6\",\"aaxis\":{\"gridcolor\":\"white\",\"linecolor\":\"white\",\"ticks\":\"\"},\"baxis\":{\"gridcolor\":\"white\",\"linecolor\":\"white\",\"ticks\":\"\"},\"caxis\":{\"gridcolor\":\"white\",\"linecolor\":\"white\",\"ticks\":\"\"}},\"coloraxis\":{\"colorbar\":{\"outlinewidth\":0,\"ticks\":\"\"}},\"colorscale\":{\"sequential\":[[0.0,\"#0d0887\"],[0.1111111111111111,\"#46039f\"],[0.2222222222222222,\"#7201a8\"],[0.3333333333333333,\"#9c179e\"],[0.4444444444444444,\"#bd3786\"],[0.5555555555555556,\"#d8576b\"],[0.6666666666666666,\"#ed7953\"],[0.7777777777777778,\"#fb9f3a\"],[0.8888888888888888,\"#fdca26\"],[1.0,\"#f0f921\"]],\"sequentialminus\":[[0.0,\"#0d0887\"],[0.1111111111111111,\"#46039f\"],[0.2222222222222222,\"#7201a8\"],[0.3333333333333333,\"#9c179e\"],[0.4444444444444444,\"#bd3786\"],[0.5555555555555556,\"#d8576b\"],[0.6666666666666666,\"#ed7953\"],[0.7777777777777778,\"#fb9f3a\"],[0.8888888888888888,\"#fdca26\"],[1.0,\"#f0f921\"]],\"diverging\":[[0,\"#8e0152\"],[0.1,\"#c51b7d\"],[0.2,\"#de77ae\"],[0.3,\"#f1b6da\"],[0.4,\"#fde0ef\"],[0.5,\"#f7f7f7\"],[0.6,\"#e6f5d0\"],[0.7,\"#b8e186\"],[0.8,\"#7fbc41\"],[0.9,\"#4d9221\"],[1,\"#276419\"]]},\"xaxis\":{\"gridcolor\":\"white\",\"linecolor\":\"white\",\"ticks\":\"\",\"title\":{\"standoff\":15},\"zerolinecolor\":\"white\",\"automargin\":true,\"zerolinewidth\":2},\"yaxis\":{\"gridcolor\":\"white\",\"linecolor\":\"white\",\"ticks\":\"\",\"title\":{\"standoff\":15},\"zerolinecolor\":\"white\",\"automargin\":true,\"zerolinewidth\":2},\"scene\":{\"xaxis\":{\"backgroundcolor\":\"#E5ECF6\",\"gridcolor\":\"white\",\"linecolor\":\"white\",\"showbackground\":true,\"ticks\":\"\",\"zerolinecolor\":\"white\",\"gridwidth\":2},\"yaxis\":{\"backgroundcolor\":\"#E5ECF6\",\"gridcolor\":\"white\",\"linecolor\":\"white\",\"showbackground\":true,\"ticks\":\"\",\"zerolinecolor\":\"white\",\"gridwidth\":2},\"zaxis\":{\"backgroundcolor\":\"#E5ECF6\",\"gridcolor\":\"white\",\"linecolor\":\"white\",\"showbackground\":true,\"ticks\":\"\",\"zerolinecolor\":\"white\",\"gridwidth\":2}},\"shapedefaults\":{\"line\":{\"color\":\"#2a3f5f\"}},\"annotationdefaults\":{\"arrowcolor\":\"#2a3f5f\",\"arrowhead\":0,\"arrowwidth\":1},\"geo\":{\"bgcolor\":\"white\",\"landcolor\":\"#E5ECF6\",\"subunitcolor\":\"white\",\"showland\":true,\"showlakes\":true,\"lakecolor\":\"white\"},\"title\":{\"x\":0.05},\"mapbox\":{\"style\":\"light\"}}},\"xaxis\":{\"anchor\":\"y\",\"domain\":[0.0,0.14666666666666667],\"title\":{\"text\":\"\"}},\"yaxis\":{\"anchor\":\"x\",\"domain\":[0.0,0.3133333333333333],\"title\":{\"text\":\"\"}},\"xaxis2\":{\"anchor\":\"y2\",\"domain\":[0.16666666666666666,0.31333333333333335],\"matches\":\"x\",\"title\":{\"text\":\"\"}},\"yaxis2\":{\"anchor\":\"x2\",\"domain\":[0.0,0.3133333333333333],\"matches\":\"y\",\"showticklabels\":false,\"title\":{\"text\":\"\"}},\"xaxis3\":{\"anchor\":\"y3\",\"domain\":[0.3333333333333333,0.48],\"matches\":\"x\",\"title\":{\"text\":\"\"}},\"yaxis3\":{\"anchor\":\"x3\",\"domain\":[0.0,0.3133333333333333],\"matches\":\"y\",\"showticklabels\":false,\"title\":{\"text\":\"\"}},\"xaxis4\":{\"anchor\":\"y4\",\"domain\":[0.5,0.6466666666666667],\"matches\":\"x\",\"title\":{\"text\":\"\"}},\"yaxis4\":{\"anchor\":\"x4\",\"domain\":[0.0,0.3133333333333333],\"matches\":\"y\",\"showticklabels\":false,\"title\":{\"text\":\"\"}},\"xaxis5\":{\"anchor\":\"y5\",\"domain\":[0.6666666666666666,0.8133333333333332],\"matches\":\"x\",\"title\":{\"text\":\"\"}},\"yaxis5\":{\"anchor\":\"x5\",\"domain\":[0.0,0.3133333333333333],\"matches\":\"y\",\"showticklabels\":false,\"title\":{\"text\":\"\"}},\"xaxis6\":{\"anchor\":\"y6\",\"domain\":[0.8333333333333334,0.98],\"matches\":\"x\",\"title\":{\"text\":\"\"}},\"yaxis6\":{\"anchor\":\"x6\",\"domain\":[0.0,0.3133333333333333],\"matches\":\"y\",\"showticklabels\":false,\"title\":{\"text\":\"\"}},\"xaxis7\":{\"anchor\":\"y7\",\"domain\":[0.0,0.14666666666666667],\"matches\":\"x\",\"showticklabels\":false,\"title\":{\"text\":\"\"}},\"yaxis7\":{\"anchor\":\"x7\",\"domain\":[0.34333333333333327,0.6566666666666665],\"matches\":\"y\",\"title\":{\"text\":\"\"}},\"xaxis8\":{\"anchor\":\"y8\",\"domain\":[0.16666666666666666,0.31333333333333335],\"matches\":\"x\",\"showticklabels\":false,\"title\":{\"text\":\"\"}},\"yaxis8\":{\"anchor\":\"x8\",\"domain\":[0.34333333333333327,0.6566666666666665],\"matches\":\"y\",\"showticklabels\":false,\"title\":{\"text\":\"\"}},\"xaxis9\":{\"anchor\":\"y9\",\"domain\":[0.3333333333333333,0.48],\"matches\":\"x\",\"showticklabels\":false,\"title\":{\"text\":\"\"}},\"yaxis9\":{\"anchor\":\"x9\",\"domain\":[0.34333333333333327,0.6566666666666665],\"matches\":\"y\",\"showticklabels\":false,\"title\":{\"text\":\"\"}},\"xaxis10\":{\"anchor\":\"y10\",\"domain\":[0.5,0.6466666666666667],\"matches\":\"x\",\"showticklabels\":false,\"title\":{\"text\":\"\"}},\"yaxis10\":{\"anchor\":\"x10\",\"domain\":[0.34333333333333327,0.6566666666666665],\"matches\":\"y\",\"showticklabels\":false,\"title\":{\"text\":\"\"}},\"xaxis11\":{\"anchor\":\"y11\",\"domain\":[0.6666666666666666,0.8133333333333332],\"matches\":\"x\",\"showticklabels\":false,\"title\":{\"text\":\"\"}},\"yaxis11\":{\"anchor\":\"x11\",\"domain\":[0.34333333333333327,0.6566666666666665],\"matches\":\"y\",\"showticklabels\":false,\"title\":{\"text\":\"\"}},\"xaxis12\":{\"anchor\":\"y12\",\"domain\":[0.8333333333333334,0.98],\"matches\":\"x\",\"showticklabels\":false,\"title\":{\"text\":\"\"}},\"yaxis12\":{\"anchor\":\"x12\",\"domain\":[0.34333333333333327,0.6566666666666665],\"matches\":\"y\",\"showticklabels\":false,\"title\":{\"text\":\"\"}},\"xaxis13\":{\"anchor\":\"y13\",\"domain\":[0.0,0.14666666666666667],\"matches\":\"x\",\"showticklabels\":false,\"title\":{\"text\":\"\"}},\"yaxis13\":{\"anchor\":\"x13\",\"domain\":[0.6866666666666665,0.9999999999999998],\"matches\":\"y\",\"title\":{\"text\":\"\"}},\"xaxis14\":{\"anchor\":\"y14\",\"domain\":[0.16666666666666666,0.31333333333333335],\"matches\":\"x\",\"showticklabels\":false,\"title\":{\"text\":\"\"}},\"yaxis14\":{\"anchor\":\"x14\",\"domain\":[0.6866666666666665,0.9999999999999998],\"matches\":\"y\",\"showticklabels\":false,\"title\":{\"text\":\"\"}},\"xaxis15\":{\"anchor\":\"y15\",\"domain\":[0.3333333333333333,0.48],\"matches\":\"x\",\"showticklabels\":false,\"title\":{\"text\":\"\"}},\"yaxis15\":{\"anchor\":\"x15\",\"domain\":[0.6866666666666665,0.9999999999999998],\"matches\":\"y\",\"showticklabels\":false,\"title\":{\"text\":\"\"}},\"xaxis16\":{\"anchor\":\"y16\",\"domain\":[0.5,0.6466666666666667],\"matches\":\"x\",\"showticklabels\":false,\"title\":{\"text\":\"\"}},\"yaxis16\":{\"anchor\":\"x16\",\"domain\":[0.6866666666666665,0.9999999999999998],\"matches\":\"y\",\"showticklabels\":false,\"title\":{\"text\":\"\"}},\"xaxis17\":{\"anchor\":\"y17\",\"domain\":[0.6666666666666666,0.8133333333333332],\"matches\":\"x\",\"showticklabels\":false,\"title\":{\"text\":\"\"}},\"yaxis17\":{\"anchor\":\"x17\",\"domain\":[0.6866666666666665,0.9999999999999998],\"matches\":\"y\",\"showticklabels\":false,\"title\":{\"text\":\"\"}},\"xaxis18\":{\"anchor\":\"y18\",\"domain\":[0.8333333333333334,0.98],\"matches\":\"x\",\"showticklabels\":false,\"title\":{\"text\":\"\"}},\"yaxis18\":{\"anchor\":\"x18\",\"domain\":[0.6866666666666665,0.9999999999999998],\"matches\":\"y\",\"showticklabels\":false,\"title\":{\"text\":\"\"}},\"annotations\":[{\"showarrow\":false,\"text\":\"0.5\",\"x\":0.07333333333333333,\"xanchor\":\"center\",\"xref\":\"paper\",\"y\":0.9999999999999998,\"yanchor\":\"bottom\",\"yref\":\"paper\"},{\"showarrow\":false,\"text\":\"1.0\",\"x\":0.24,\"xanchor\":\"center\",\"xref\":\"paper\",\"y\":0.9999999999999998,\"yanchor\":\"bottom\",\"yref\":\"paper\"},{\"showarrow\":false,\"text\":\"2.0\",\"x\":0.4066666666666666,\"xanchor\":\"center\",\"xref\":\"paper\",\"y\":0.9999999999999998,\"yanchor\":\"bottom\",\"yref\":\"paper\"},{\"showarrow\":false,\"text\":\"5.0\",\"x\":0.5733333333333334,\"xanchor\":\"center\",\"xref\":\"paper\",\"y\":0.9999999999999998,\"yanchor\":\"bottom\",\"yref\":\"paper\"},{\"showarrow\":false,\"text\":\"15.0\",\"x\":0.74,\"xanchor\":\"center\",\"xref\":\"paper\",\"y\":0.9999999999999998,\"yanchor\":\"bottom\",\"yref\":\"paper\"},{\"showarrow\":false,\"text\":\"30.0\",\"x\":0.9066666666666667,\"xanchor\":\"center\",\"xref\":\"paper\",\"y\":0.9999999999999998,\"yanchor\":\"bottom\",\"yref\":\"paper\"},{\"showarrow\":false,\"text\":\"600\",\"textangle\":90,\"x\":0.98,\"xanchor\":\"left\",\"xref\":\"paper\",\"y\":0.15666666666666665,\"yanchor\":\"middle\",\"yref\":\"paper\"},{\"showarrow\":false,\"text\":\"300\",\"textangle\":90,\"x\":0.98,\"xanchor\":\"left\",\"xref\":\"paper\",\"y\":0.4999999999999999,\"yanchor\":\"middle\",\"yref\":\"paper\"},{\"showarrow\":false,\"text\":\"180\",\"textangle\":90,\"x\":0.98,\"xanchor\":\"left\",\"xref\":\"paper\",\"y\":0.8433333333333332,\"yanchor\":\"middle\",\"yref\":\"paper\"},{\"showarrow\":false,\"text\":\"X\",\"x\":\"Manhattan\",\"xanchor\":\"center\",\"xref\":\"x2\",\"y\":0,\"yanchor\":\"bottom\",\"yref\":\"y2\"},{\"showarrow\":false,\"text\":\"X\",\"x\":\"NYC\",\"xanchor\":\"center\",\"xref\":\"x2\",\"y\":0,\"yanchor\":\"bottom\",\"yref\":\"y2\"},{\"showarrow\":false,\"text\":\"X\",\"x\":\"NYC\",\"xanchor\":\"center\",\"xref\":\"x9\",\"y\":0,\"yanchor\":\"bottom\",\"yref\":\"y9\"},{\"showarrow\":false,\"text\":\"X\",\"x\":\"Manhattan\",\"xanchor\":\"center\",\"xref\":\"x3\",\"y\":0,\"yanchor\":\"bottom\",\"yref\":\"y3\"},{\"showarrow\":false,\"text\":\"X\",\"x\":\"NYC\",\"xanchor\":\"center\",\"xref\":\"x3\",\"y\":0,\"yanchor\":\"bottom\",\"yref\":\"y3\"},{\"showarrow\":false,\"text\":\"X\",\"x\":\"Manhattan\",\"xanchor\":\"center\",\"xref\":\"x16\",\"y\":0,\"yanchor\":\"bottom\",\"yref\":\"y16\"},{\"showarrow\":false,\"text\":\"X\",\"x\":\"NYC\",\"xanchor\":\"center\",\"xref\":\"x16\",\"y\":0,\"yanchor\":\"bottom\",\"yref\":\"y16\"},{\"showarrow\":false,\"text\":\"X\",\"x\":\"Manhattan\",\"xanchor\":\"center\",\"xref\":\"x10\",\"y\":0,\"yanchor\":\"bottom\",\"yref\":\"y10\"},{\"showarrow\":false,\"text\":\"X\",\"x\":\"NYC\",\"xanchor\":\"center\",\"xref\":\"x10\",\"y\":0,\"yanchor\":\"bottom\",\"yref\":\"y10\"},{\"showarrow\":false,\"text\":\"X\",\"x\":\"Chicago\",\"xanchor\":\"center\",\"xref\":\"x4\",\"y\":0,\"yanchor\":\"bottom\",\"yref\":\"y4\"},{\"showarrow\":false,\"text\":\"X\",\"x\":\"Manhattan\",\"xanchor\":\"center\",\"xref\":\"x4\",\"y\":0,\"yanchor\":\"bottom\",\"yref\":\"y4\"},{\"showarrow\":false,\"text\":\"X\",\"x\":\"NYC\",\"xanchor\":\"center\",\"xref\":\"x4\",\"y\":0,\"yanchor\":\"bottom\",\"yref\":\"y4\"},{\"showarrow\":false,\"text\":\"X\",\"x\":\"Chicago\",\"xanchor\":\"center\",\"xref\":\"x17\",\"y\":0,\"yanchor\":\"bottom\",\"yref\":\"y17\"},{\"showarrow\":false,\"text\":\"X\",\"x\":\"Manhattan\",\"xanchor\":\"center\",\"xref\":\"x17\",\"y\":0,\"yanchor\":\"bottom\",\"yref\":\"y17\"},{\"showarrow\":false,\"text\":\"X\",\"x\":\"NYC\",\"xanchor\":\"center\",\"xref\":\"x17\",\"y\":0,\"yanchor\":\"bottom\",\"yref\":\"y17\"},{\"showarrow\":false,\"text\":\"X\",\"x\":\"Chicago\",\"xanchor\":\"center\",\"xref\":\"x11\",\"y\":0,\"yanchor\":\"bottom\",\"yref\":\"y11\"},{\"showarrow\":false,\"text\":\"X\",\"x\":\"Manhattan\",\"xanchor\":\"center\",\"xref\":\"x11\",\"y\":0,\"yanchor\":\"bottom\",\"yref\":\"y11\"},{\"showarrow\":false,\"text\":\"X\",\"x\":\"NYC\",\"xanchor\":\"center\",\"xref\":\"x11\",\"y\":0,\"yanchor\":\"bottom\",\"yref\":\"y11\"},{\"showarrow\":false,\"text\":\"X\",\"x\":\"Chicago\",\"xanchor\":\"center\",\"xref\":\"x5\",\"y\":0,\"yanchor\":\"bottom\",\"yref\":\"y5\"},{\"showarrow\":false,\"text\":\"X\",\"x\":\"Manhattan\",\"xanchor\":\"center\",\"xref\":\"x5\",\"y\":0,\"yanchor\":\"bottom\",\"yref\":\"y5\"},{\"showarrow\":false,\"text\":\"X\",\"x\":\"NYC\",\"xanchor\":\"center\",\"xref\":\"x5\",\"y\":0,\"yanchor\":\"bottom\",\"yref\":\"y5\"},{\"showarrow\":false,\"text\":\"X\",\"x\":\"Chicago\",\"xanchor\":\"center\",\"xref\":\"x18\",\"y\":0,\"yanchor\":\"bottom\",\"yref\":\"y18\"},{\"showarrow\":false,\"text\":\"X\",\"x\":\"Manhattan\",\"xanchor\":\"center\",\"xref\":\"x18\",\"y\":0,\"yanchor\":\"bottom\",\"yref\":\"y18\"},{\"showarrow\":false,\"text\":\"X\",\"x\":\"NYC\",\"xanchor\":\"center\",\"xref\":\"x18\",\"y\":0,\"yanchor\":\"bottom\",\"yref\":\"y18\"},{\"showarrow\":false,\"text\":\"X\",\"x\":\"Chicago\",\"xanchor\":\"center\",\"xref\":\"x12\",\"y\":0,\"yanchor\":\"bottom\",\"yref\":\"y12\"},{\"showarrow\":false,\"text\":\"X\",\"x\":\"Manhattan\",\"xanchor\":\"center\",\"xref\":\"x12\",\"y\":0,\"yanchor\":\"bottom\",\"yref\":\"y12\"},{\"showarrow\":false,\"text\":\"X\",\"x\":\"NYC\",\"xanchor\":\"center\",\"xref\":\"x12\",\"y\":0,\"yanchor\":\"bottom\",\"yref\":\"y12\"},{\"showarrow\":false,\"text\":\"X\",\"x\":\"Chicago\",\"xanchor\":\"center\",\"xref\":\"x6\",\"y\":0,\"yanchor\":\"bottom\",\"yref\":\"y6\"},{\"showarrow\":false,\"text\":\"X\",\"x\":\"DC\",\"xanchor\":\"center\",\"xref\":\"x6\",\"y\":0,\"yanchor\":\"bottom\",\"yref\":\"y6\"},{\"showarrow\":false,\"text\":\"X\",\"x\":\"Manhattan\",\"xanchor\":\"center\",\"xref\":\"x6\",\"y\":0,\"yanchor\":\"bottom\",\"yref\":\"y6\"},{\"showarrow\":false,\"text\":\"X\",\"x\":\"NYC\",\"xanchor\":\"center\",\"xref\":\"x6\",\"y\":0,\"yanchor\":\"bottom\",\"yref\":\"y6\"},{\"showarrow\":false,\"text\":\"cost diff between VGA and IH [%]\",\"textangle\":-90,\"x\":-0.05,\"xref\":\"paper\",\"y\":0.5,\"yref\":\"paper\"},{\"showarrow\":false,\"text\":\"instance length [min]\",\"x\":0.5,\"xref\":\"paper\",\"y\":1.12,\"yref\":\"paper\"},{\"showarrow\":false,\"text\":\"maximum delay [s]\",\"textangle\":90,\"x\":1.02,\"xref\":\"paper\",\"y\":0.5,\"yref\":\"paper\"}],\"legend\":{\"tracegroupgap\":0,\"orientation\":\"h\",\"yanchor\":\"bottom\",\"y\":1.06,\"xanchor\":\"right\",\"x\":1,\"bordercolor\":\"Black\",\"borderwidth\":1},\"margin\":{\"t\":35,\"l\":0,\"r\":0,\"b\":0,\"pad\":0},\"barmode\":\"group\",\"height\":400,\"width\":900},                        {\"responsive\": true}                    ).then(function(){\n                            \nvar gd = document.getElementById('dd1c0889-6225-4b48-a1cb-929f2893bd85');\nvar x = new MutationObserver(function (mutations, observer) {{\n        var display = window.getComputedStyle(gd).display;\n        if (!display || display === 'none') {{\n            console.log([gd, 'removed!']);\n            Plotly.purge(gd);\n            observer.disconnect();\n        }}\n}});\n\n// Listen for the removal of the full notebook cells\nvar notebookContainer = gd.closest('#notebook-container');\nif (notebookContainer) {{\n    x.observe(notebookContainer, {childList: true});\n}}\n\n// Listen for the clearing of the current output cell\nvar outputEl = gd.closest('.output');\nif (outputEl) {{\n    x.observe(outputEl, {childList: true});\n}}\n\n                        })                };                });            </script>        </div>"
     },
     "metadata": {},
     "output_type": "display_data"
    }
   ],
   "source": [
    "def plot_cost_ratio(width: int, height: int) -> go.Figure:\n",
    "\n",
    "    fig = px.bar(\n",
    "        vga_ih_diff_df,\n",
    "        x = 'area',\n",
    "        y = 'cost_ratio_percent',\n",
    "        barmode='group',\n",
    "        # title = 'Average Cost per Request',\n",
    "        facet_col='duration_minutes',\n",
    "        facet_row='max_delay',\n",
    "        width=width,\n",
    "        height=height,\n",
    "    )\n",
    "\n",
    "    # annotations for missing values\n",
    "    for xi, yi, duration, max_delay in zip(vga_ih_diff_df['area'], vga_ih_diff_df['cost_ratio'], vga_ih_diff_df['duration_minutes'], vga_ih_diff_df['max_delay']):\n",
    "        if np.isnan(yi):\n",
    "            axis_ref = vals_to_axis[(duration, max_delay)]\n",
    "            # axis_ref = 11\n",
    "            fig.add_annotation(dict(\n",
    "                x=xi,\n",
    "                y=0,\n",
    "                text=\"X\",\n",
    "                xanchor='center',\n",
    "                yanchor='bottom',\n",
    "                showarrow=False,\n",
    "                xref=f'x{axis_ref}',\n",
    "                yref=f'y{axis_ref}'\n",
    "            ))\n",
    "\n",
    "    # shared axes titles\n",
    "    fig.for_each_yaxis(lambda y: y.update(title = ''))\n",
    "    fig.add_annotation(x=-0.05, y=0.5, text=\"cost diff between VGA and IH [%]\", textangle=-90, xref=\"paper\", yref=\"paper\", showarrow=False)\n",
    "    fig.for_each_xaxis(lambda y: y.update(title = ''))\n",
    "\n",
    "    # faceting annotations\n",
    "    duration_annotation_y = 1 + 0.08 * 600 / height\n",
    "    fig.add_annotation(x=0.5, y=duration_annotation_y, text=\"instance length [min]\",  xref=\"paper\", yref=\"paper\", showarrow=False)\n",
    "    fig.add_annotation(x=1.02, y=0.5, text=\"maximum delay [s]\",  xref=\"paper\", yref=\"paper\", showarrow=False, textangle=90)\n",
    "\n",
    "    # faceting label editing\n",
    "    fig.for_each_annotation(lambda a: a.update(text=a.text.split(\"=\")[-1]))\n",
    "\n",
    "    # legend editing\n",
    "    legend_y = 1 + 0.04 * 600 / height\n",
    "    fig.update_layout(legend=dict(\n",
    "        orientation=\"h\",\n",
    "        yanchor=\"bottom\",\n",
    "        y=legend_y,\n",
    "        xanchor=\"right\",\n",
    "        x=1,\n",
    "        bordercolor=\"Black\",\n",
    "        borderwidth=1,\n",
    "        tracegroupgap=0\n",
    "    ))\n",
    "\n",
    "    # set margins\n",
    "    fig.update_layout(margin=dict(l=0, r=0, t=35, b=0, pad=0))\n",
    "\n",
    "    return fig\n",
    "\n",
    "fig = plot_cost_ratio(900, 400)\n",
    "fig"
   ],
   "metadata": {
    "collapsed": false,
    "ExecuteTime": {
     "end_time": "2023-05-17T17:23:32.859414800Z",
     "start_time": "2023-05-17T17:23:32.386415300Z"
    }
   }
  },
  {
   "cell_type": "code",
   "execution_count": 183,
   "outputs": [],
   "source": [
    "fig.write_image(fig_path / \"cost_ratio-wide.pdf\")"
   ],
   "metadata": {
    "collapsed": false,
    "ExecuteTime": {
     "end_time": "2023-05-17T17:23:41.452416Z",
     "start_time": "2023-05-17T17:23:41.032415900Z"
    }
   }
  },
  {
   "cell_type": "markdown",
   "source": [
    "# Occupancy histogram"
   ],
   "metadata": {
    "collapsed": false
   }
  },
  {
   "cell_type": "code",
   "execution_count": 16,
   "outputs": [
    {
     "name": "stderr",
     "output_type": "stream",
     "text": [
      "12:03:56 [INFO] Loading occupancy stats in C:\\Google Drive\\AIC Experiment Data\\DARP\\ITSC_instance_paper\\Results\\NYC\n",
      "12:03:56 [WARNING] No solution found in folder: C:\\Google Drive\\AIC Experiment Data\\DARP\\ITSC_instance_paper\\Results\\NYC\\start_18-00\\duration_005_min\\max_delay_03_min\\halns\n",
      "12:03:56 [WARNING] No solution found in folder: C:\\Google Drive\\AIC Experiment Data\\DARP\\ITSC_instance_paper\\Results\\NYC\\start_18-00\\duration_005_min\\max_delay_03_min\\halns-ih\n",
      "12:03:56 [INFO] Loading json file from: C:\\Google Drive\\AIC Experiment Data\\DARP\\ITSC_instance_paper\\Results\\NYC\\start_18-00\\duration_005_min\\max_delay_03_min\\ih\\config.yaml-performance.json\n",
      "12:03:56 [INFO] Loading json file from: C:\\Google Drive\\AIC Experiment Data\\DARP\\ITSC_instance_paper\\Results\\NYC\\start_18-00\\duration_005_min\\max_delay_03_min\\ih\\config.yaml-solution.json\n",
      "12:03:56 [INFO] Loading experiment config from C:\\Google Drive\\AIC Experiment Data\\DARP\\ITSC_instance_paper\\Results\\NYC\\start_18-00\\duration_005_min\\max_delay_03_min\\ih\\config.yaml\n",
      "12:03:56 [INFO] Loading instance config from C:\\Google Drive\\AIC Experiment Data\\DARP\\ITSC_instance_paper\\Instances\\NYC\\instances\\start_18-00\\duration_005_min\\max_delay_03_min\\config.yaml\n",
      "12:03:56 [WARNING] No solution found in folder: C:\\Google Drive\\AIC Experiment Data\\DARP\\ITSC_instance_paper\\Results\\NYC\\start_18-00\\duration_005_min\\max_delay_03_min\\vga\n",
      "12:03:56 [WARNING] No solution found in folder: C:\\Google Drive\\AIC Experiment Data\\DARP\\ITSC_instance_paper\\Results\\NYC\\start_18-00\\duration_005_min\\max_delay_05_min\\halns\n",
      "12:03:56 [WARNING] No solution found in folder: C:\\Google Drive\\AIC Experiment Data\\DARP\\ITSC_instance_paper\\Results\\NYC\\start_18-00\\duration_005_min\\max_delay_05_min\\halns-ih\n",
      "12:03:56 [INFO] Loading json file from: C:\\Google Drive\\AIC Experiment Data\\DARP\\ITSC_instance_paper\\Results\\NYC\\start_18-00\\duration_005_min\\max_delay_05_min\\ih\\config.yaml-performance.json\n",
      "12:03:56 [INFO] Loading json file from: C:\\Google Drive\\AIC Experiment Data\\DARP\\ITSC_instance_paper\\Results\\NYC\\start_18-00\\duration_005_min\\max_delay_05_min\\ih\\config.yaml-solution.json\n",
      "12:03:56 [INFO] Loading experiment config from C:\\Google Drive\\AIC Experiment Data\\DARP\\ITSC_instance_paper\\Results\\NYC\\start_18-00\\duration_005_min\\max_delay_05_min\\ih\\config.yaml\n",
      "12:03:56 [INFO] Loading instance config from C:\\Google Drive\\AIC Experiment Data\\DARP\\ITSC_instance_paper\\Instances\\NYC\\instances\\start_18-00\\duration_005_min\\max_delay_05_min\\config.yaml\n",
      "12:03:56 [WARNING] No solution found in folder: C:\\Google Drive\\AIC Experiment Data\\DARP\\ITSC_instance_paper\\Results\\NYC\\start_18-00\\duration_005_min\\max_delay_05_min\\vga\n",
      "12:03:56 [WARNING] No solution found in folder: C:\\Google Drive\\AIC Experiment Data\\DARP\\ITSC_instance_paper\\Results\\NYC\\start_18-00\\duration_005_min\\max_delay_10_min\\halns\n",
      "12:03:56 [WARNING] No solution found in folder: C:\\Google Drive\\AIC Experiment Data\\DARP\\ITSC_instance_paper\\Results\\NYC\\start_18-00\\duration_005_min\\max_delay_10_min\\halns-ih\n",
      "12:03:56 [INFO] Loading json file from: C:\\Google Drive\\AIC Experiment Data\\DARP\\ITSC_instance_paper\\Results\\NYC\\start_18-00\\duration_005_min\\max_delay_10_min\\ih\\config.yaml-performance.json\n",
      "12:03:56 [INFO] Loading json file from: C:\\Google Drive\\AIC Experiment Data\\DARP\\ITSC_instance_paper\\Results\\NYC\\start_18-00\\duration_005_min\\max_delay_10_min\\ih\\config.yaml-solution.json\n",
      "12:03:56 [INFO] Loading experiment config from C:\\Google Drive\\AIC Experiment Data\\DARP\\ITSC_instance_paper\\Results\\NYC\\start_18-00\\duration_005_min\\max_delay_10_min\\ih\\config.yaml\n",
      "12:03:56 [INFO] Loading instance config from C:\\Google Drive\\AIC Experiment Data\\DARP\\ITSC_instance_paper\\Instances\\NYC\\instances\\start_18-00\\duration_005_min\\max_delay_10_min\\config.yaml\n",
      "12:03:56 [WARNING] No solution found in folder: C:\\Google Drive\\AIC Experiment Data\\DARP\\ITSC_instance_paper\\Results\\NYC\\start_18-00\\duration_005_min\\max_delay_10_min\\vga\n",
      "12:03:56 [WARNING] No solution found in folder: C:\\Google Drive\\AIC Experiment Data\\DARP\\ITSC_instance_paper\\Results\\NYC\\start_18-00\\duration_015_min\\max_delay_03_min\\halns\n",
      "12:03:56 [WARNING] No solution found in folder: C:\\Google Drive\\AIC Experiment Data\\DARP\\ITSC_instance_paper\\Results\\NYC\\start_18-00\\duration_015_min\\max_delay_03_min\\halns-ih\n",
      "12:03:56 [INFO] Loading json file from: C:\\Google Drive\\AIC Experiment Data\\DARP\\ITSC_instance_paper\\Results\\NYC\\start_18-00\\duration_015_min\\max_delay_03_min\\ih\\config.yaml-performance.json\n",
      "12:03:56 [INFO] Loading json file from: C:\\Google Drive\\AIC Experiment Data\\DARP\\ITSC_instance_paper\\Results\\NYC\\start_18-00\\duration_015_min\\max_delay_03_min\\ih\\config.yaml-solution.json\n",
      "12:03:56 [INFO] Loading experiment config from C:\\Google Drive\\AIC Experiment Data\\DARP\\ITSC_instance_paper\\Results\\NYC\\start_18-00\\duration_015_min\\max_delay_03_min\\ih\\config.yaml\n",
      "12:03:56 [INFO] Loading instance config from C:\\Google Drive\\AIC Experiment Data\\DARP\\ITSC_instance_paper\\Instances\\NYC\\instances\\start_18-00\\duration_015_min\\max_delay_03_min\\config.yaml\n",
      "12:03:56 [WARNING] No solution found in folder: C:\\Google Drive\\AIC Experiment Data\\DARP\\ITSC_instance_paper\\Results\\NYC\\start_18-00\\duration_015_min\\max_delay_03_min\\vga\n",
      "12:03:56 [WARNING] No solution found in folder: C:\\Google Drive\\AIC Experiment Data\\DARP\\ITSC_instance_paper\\Results\\NYC\\start_18-00\\duration_015_min\\max_delay_05_min\\halns\n",
      "12:03:56 [WARNING] No solution found in folder: C:\\Google Drive\\AIC Experiment Data\\DARP\\ITSC_instance_paper\\Results\\NYC\\start_18-00\\duration_015_min\\max_delay_05_min\\halns-ih\n",
      "12:03:56 [INFO] Loading json file from: C:\\Google Drive\\AIC Experiment Data\\DARP\\ITSC_instance_paper\\Results\\NYC\\start_18-00\\duration_015_min\\max_delay_05_min\\ih\\config.yaml-performance.json\n",
      "12:03:56 [INFO] Loading json file from: C:\\Google Drive\\AIC Experiment Data\\DARP\\ITSC_instance_paper\\Results\\NYC\\start_18-00\\duration_015_min\\max_delay_05_min\\ih\\config.yaml-solution.json\n",
      "12:03:56 [INFO] Loading experiment config from C:\\Google Drive\\AIC Experiment Data\\DARP\\ITSC_instance_paper\\Results\\NYC\\start_18-00\\duration_015_min\\max_delay_05_min\\ih\\config.yaml\n",
      "12:03:56 [INFO] Loading instance config from C:\\Google Drive\\AIC Experiment Data\\DARP\\ITSC_instance_paper\\Instances\\NYC\\instances\\start_18-00\\duration_015_min\\max_delay_05_min\\config.yaml\n",
      "12:03:56 [WARNING] No solution found in folder: C:\\Google Drive\\AIC Experiment Data\\DARP\\ITSC_instance_paper\\Results\\NYC\\start_18-00\\duration_015_min\\max_delay_05_min\\vga\n",
      "12:03:56 [WARNING] No solution found in folder: C:\\Google Drive\\AIC Experiment Data\\DARP\\ITSC_instance_paper\\Results\\NYC\\start_18-00\\duration_015_min\\max_delay_10_min\\halns\n",
      "12:03:56 [WARNING] No solution found in folder: C:\\Google Drive\\AIC Experiment Data\\DARP\\ITSC_instance_paper\\Results\\NYC\\start_18-00\\duration_015_min\\max_delay_10_min\\halns-ih\n",
      "12:03:56 [INFO] Loading json file from: C:\\Google Drive\\AIC Experiment Data\\DARP\\ITSC_instance_paper\\Results\\NYC\\start_18-00\\duration_015_min\\max_delay_10_min\\ih\\config.yaml-performance.json\n",
      "12:03:56 [INFO] Loading json file from: C:\\Google Drive\\AIC Experiment Data\\DARP\\ITSC_instance_paper\\Results\\NYC\\start_18-00\\duration_015_min\\max_delay_10_min\\ih\\config.yaml-solution.json\n",
      "12:03:56 [INFO] Loading experiment config from C:\\Google Drive\\AIC Experiment Data\\DARP\\ITSC_instance_paper\\Results\\NYC\\start_18-00\\duration_015_min\\max_delay_10_min\\ih\\config.yaml\n",
      "12:03:56 [INFO] Loading instance config from C:\\Google Drive\\AIC Experiment Data\\DARP\\ITSC_instance_paper\\Instances\\NYC\\instances\\start_18-00\\duration_015_min\\max_delay_10_min\\config.yaml\n",
      "12:03:56 [WARNING] No solution found in folder: C:\\Google Drive\\AIC Experiment Data\\DARP\\ITSC_instance_paper\\Results\\NYC\\start_18-00\\duration_015_min\\max_delay_10_min\\vga\n",
      "12:03:56 [WARNING] No solution found in folder: C:\\Google Drive\\AIC Experiment Data\\DARP\\ITSC_instance_paper\\Results\\NYC\\start_18-00\\duration_030_min\\max_delay_03_min\\halns\n",
      "12:03:56 [WARNING] No solution found in folder: C:\\Google Drive\\AIC Experiment Data\\DARP\\ITSC_instance_paper\\Results\\NYC\\start_18-00\\duration_030_min\\max_delay_03_min\\halns-ih\n",
      "12:03:56 [INFO] Loading json file from: C:\\Google Drive\\AIC Experiment Data\\DARP\\ITSC_instance_paper\\Results\\NYC\\start_18-00\\duration_030_min\\max_delay_03_min\\ih\\config.yaml-performance.json\n",
      "12:03:56 [INFO] Loading json file from: C:\\Google Drive\\AIC Experiment Data\\DARP\\ITSC_instance_paper\\Results\\NYC\\start_18-00\\duration_030_min\\max_delay_03_min\\ih\\config.yaml-solution.json\n",
      "12:03:57 [INFO] Loading experiment config from C:\\Google Drive\\AIC Experiment Data\\DARP\\ITSC_instance_paper\\Results\\NYC\\start_18-00\\duration_030_min\\max_delay_03_min\\ih\\config.yaml\n",
      "12:03:57 [INFO] Loading instance config from C:\\Google Drive\\AIC Experiment Data\\DARP\\ITSC_instance_paper\\Instances\\NYC\\instances\\start_18-00\\duration_030_min\\max_delay_03_min\\config.yaml\n",
      "12:03:57 [WARNING] No solution found in folder: C:\\Google Drive\\AIC Experiment Data\\DARP\\ITSC_instance_paper\\Results\\NYC\\start_18-00\\duration_030_min\\max_delay_03_min\\vga\n",
      "12:03:57 [WARNING] No solution found in folder: C:\\Google Drive\\AIC Experiment Data\\DARP\\ITSC_instance_paper\\Results\\NYC\\start_18-00\\duration_030_min\\max_delay_05_min\\halns\n",
      "12:03:57 [WARNING] No solution found in folder: C:\\Google Drive\\AIC Experiment Data\\DARP\\ITSC_instance_paper\\Results\\NYC\\start_18-00\\duration_030_min\\max_delay_05_min\\halns-ih\n",
      "12:03:57 [INFO] Loading json file from: C:\\Google Drive\\AIC Experiment Data\\DARP\\ITSC_instance_paper\\Results\\NYC\\start_18-00\\duration_030_min\\max_delay_05_min\\ih\\config.yaml-performance.json\n",
      "12:03:57 [INFO] Loading json file from: C:\\Google Drive\\AIC Experiment Data\\DARP\\ITSC_instance_paper\\Results\\NYC\\start_18-00\\duration_030_min\\max_delay_05_min\\ih\\config.yaml-solution.json\n",
      "12:03:57 [INFO] Loading experiment config from C:\\Google Drive\\AIC Experiment Data\\DARP\\ITSC_instance_paper\\Results\\NYC\\start_18-00\\duration_030_min\\max_delay_05_min\\ih\\config.yaml\n",
      "12:03:57 [INFO] Loading instance config from C:\\Google Drive\\AIC Experiment Data\\DARP\\ITSC_instance_paper\\Instances\\NYC\\instances\\start_18-00\\duration_030_min\\max_delay_05_min\\config.yaml\n",
      "12:03:57 [WARNING] No solution found in folder: C:\\Google Drive\\AIC Experiment Data\\DARP\\ITSC_instance_paper\\Results\\NYC\\start_18-00\\duration_030_min\\max_delay_05_min\\vga\n",
      "12:03:57 [WARNING] No solution found in folder: C:\\Google Drive\\AIC Experiment Data\\DARP\\ITSC_instance_paper\\Results\\NYC\\start_18-00\\duration_030_min\\max_delay_10_min\\halns\n",
      "12:03:57 [WARNING] No solution found in folder: C:\\Google Drive\\AIC Experiment Data\\DARP\\ITSC_instance_paper\\Results\\NYC\\start_18-00\\duration_030_min\\max_delay_10_min\\halns-ih\n",
      "12:03:57 [INFO] Loading json file from: C:\\Google Drive\\AIC Experiment Data\\DARP\\ITSC_instance_paper\\Results\\NYC\\start_18-00\\duration_030_min\\max_delay_10_min\\ih\\config.yaml-performance.json\n",
      "12:03:57 [INFO] Loading json file from: C:\\Google Drive\\AIC Experiment Data\\DARP\\ITSC_instance_paper\\Results\\NYC\\start_18-00\\duration_030_min\\max_delay_10_min\\ih\\config.yaml-solution.json\n",
      "12:03:57 [INFO] Loading experiment config from C:\\Google Drive\\AIC Experiment Data\\DARP\\ITSC_instance_paper\\Results\\NYC\\start_18-00\\duration_030_min\\max_delay_10_min\\ih\\config.yaml\n",
      "12:03:57 [INFO] Loading instance config from C:\\Google Drive\\AIC Experiment Data\\DARP\\ITSC_instance_paper\\Instances\\NYC\\instances\\start_18-00\\duration_030_min\\max_delay_10_min\\config.yaml\n",
      "12:03:57 [WARNING] No solution found in folder: C:\\Google Drive\\AIC Experiment Data\\DARP\\ITSC_instance_paper\\Results\\NYC\\start_18-00\\duration_030_min\\max_delay_10_min\\vga\n",
      "12:03:57 [WARNING] No solution found in folder: C:\\Google Drive\\AIC Experiment Data\\DARP\\ITSC_instance_paper\\Results\\NYC\\start_18-00\\duration_120_min\\max_delay_03_min\\halns\n",
      "12:03:57 [WARNING] No solution found in folder: C:\\Google Drive\\AIC Experiment Data\\DARP\\ITSC_instance_paper\\Results\\NYC\\start_18-00\\duration_120_min\\max_delay_03_min\\halns-ih\n",
      "12:03:57 [WARNING] No solution found in folder: C:\\Google Drive\\AIC Experiment Data\\DARP\\ITSC_instance_paper\\Results\\NYC\\start_18-00\\duration_120_min\\max_delay_03_min\\ih\n",
      "12:03:57 [WARNING] No solution found in folder: C:\\Google Drive\\AIC Experiment Data\\DARP\\ITSC_instance_paper\\Results\\NYC\\start_18-00\\duration_120_min\\max_delay_03_min\\vga\n",
      "12:03:57 [WARNING] No solution found in folder: C:\\Google Drive\\AIC Experiment Data\\DARP\\ITSC_instance_paper\\Results\\NYC\\start_18-00\\duration_120_min\\max_delay_05_min\\halns\n",
      "12:03:57 [WARNING] No solution found in folder: C:\\Google Drive\\AIC Experiment Data\\DARP\\ITSC_instance_paper\\Results\\NYC\\start_18-00\\duration_120_min\\max_delay_05_min\\halns-ih\n",
      "12:03:57 [WARNING] No solution found in folder: C:\\Google Drive\\AIC Experiment Data\\DARP\\ITSC_instance_paper\\Results\\NYC\\start_18-00\\duration_120_min\\max_delay_05_min\\ih\n",
      "12:03:57 [WARNING] No solution found in folder: C:\\Google Drive\\AIC Experiment Data\\DARP\\ITSC_instance_paper\\Results\\NYC\\start_18-00\\duration_120_min\\max_delay_05_min\\vga\n",
      "12:03:57 [WARNING] No solution found in folder: C:\\Google Drive\\AIC Experiment Data\\DARP\\ITSC_instance_paper\\Results\\NYC\\start_18-00\\duration_120_min\\max_delay_10_min\\halns\n",
      "12:03:57 [WARNING] No solution found in folder: C:\\Google Drive\\AIC Experiment Data\\DARP\\ITSC_instance_paper\\Results\\NYC\\start_18-00\\duration_120_min\\max_delay_10_min\\halns-ih\n",
      "12:03:57 [WARNING] No solution found in folder: C:\\Google Drive\\AIC Experiment Data\\DARP\\ITSC_instance_paper\\Results\\NYC\\start_18-00\\duration_120_min\\max_delay_10_min\\ih\n",
      "12:03:57 [WARNING] No solution found in folder: C:\\Google Drive\\AIC Experiment Data\\DARP\\ITSC_instance_paper\\Results\\NYC\\start_18-00\\duration_120_min\\max_delay_10_min\\vga\n",
      "12:03:57 [WARNING] No solution found in folder: C:\\Google Drive\\AIC Experiment Data\\DARP\\ITSC_instance_paper\\Results\\NYC\\start_18-00\\duration_960_min\\max_delay_03_min\\halns\n",
      "12:03:57 [WARNING] No solution found in folder: C:\\Google Drive\\AIC Experiment Data\\DARP\\ITSC_instance_paper\\Results\\NYC\\start_18-00\\duration_960_min\\max_delay_03_min\\halns-ih\n",
      "12:03:57 [WARNING] No solution found in folder: C:\\Google Drive\\AIC Experiment Data\\DARP\\ITSC_instance_paper\\Results\\NYC\\start_18-00\\duration_960_min\\max_delay_03_min\\ih\n",
      "12:03:57 [WARNING] No solution found in folder: C:\\Google Drive\\AIC Experiment Data\\DARP\\ITSC_instance_paper\\Results\\NYC\\start_18-00\\duration_960_min\\max_delay_03_min\\vga\n",
      "12:03:57 [WARNING] No solution found in folder: C:\\Google Drive\\AIC Experiment Data\\DARP\\ITSC_instance_paper\\Results\\NYC\\start_18-00\\duration_960_min\\max_delay_05_min\\halns\n",
      "12:03:57 [WARNING] No solution found in folder: C:\\Google Drive\\AIC Experiment Data\\DARP\\ITSC_instance_paper\\Results\\NYC\\start_18-00\\duration_960_min\\max_delay_05_min\\halns-ih\n",
      "12:03:57 [WARNING] No solution found in folder: C:\\Google Drive\\AIC Experiment Data\\DARP\\ITSC_instance_paper\\Results\\NYC\\start_18-00\\duration_960_min\\max_delay_05_min\\ih\n",
      "12:03:57 [WARNING] No solution found in folder: C:\\Google Drive\\AIC Experiment Data\\DARP\\ITSC_instance_paper\\Results\\NYC\\start_18-00\\duration_960_min\\max_delay_05_min\\vga\n",
      "12:03:57 [WARNING] No solution found in folder: C:\\Google Drive\\AIC Experiment Data\\DARP\\ITSC_instance_paper\\Results\\NYC\\start_18-00\\duration_960_min\\max_delay_10_min\\halns\n",
      "12:03:57 [WARNING] No solution found in folder: C:\\Google Drive\\AIC Experiment Data\\DARP\\ITSC_instance_paper\\Results\\NYC\\start_18-00\\duration_960_min\\max_delay_10_min\\halns-ih\n",
      "12:03:57 [WARNING] No solution found in folder: C:\\Google Drive\\AIC Experiment Data\\DARP\\ITSC_instance_paper\\Results\\NYC\\start_18-00\\duration_960_min\\max_delay_10_min\\ih\n",
      "12:03:57 [WARNING] No solution found in folder: C:\\Google Drive\\AIC Experiment Data\\DARP\\ITSC_instance_paper\\Results\\NYC\\start_18-00\\duration_960_min\\max_delay_10_min\\vga\n",
      "12:03:57 [INFO] Loading occupancy stats in C:\\Google Drive\\AIC Experiment Data\\DARP\\ITSC_instance_paper\\Results\\Manhattan\n",
      "12:03:57 [WARNING] No solution found in folder: C:\\Google Drive\\AIC Experiment Data\\DARP\\ITSC_instance_paper\\Results\\Manhattan\\start_18-00\\duration_005_min\\max_delay_03_min\\halns\n",
      "12:03:57 [WARNING] No solution found in folder: C:\\Google Drive\\AIC Experiment Data\\DARP\\ITSC_instance_paper\\Results\\Manhattan\\start_18-00\\duration_005_min\\max_delay_03_min\\halns-ih\n",
      "12:03:57 [INFO] Loading json file from: C:\\Google Drive\\AIC Experiment Data\\DARP\\ITSC_instance_paper\\Results\\Manhattan\\start_18-00\\duration_005_min\\max_delay_03_min\\ih\\config.yaml-performance.json\n",
      "12:03:57 [INFO] Loading json file from: C:\\Google Drive\\AIC Experiment Data\\DARP\\ITSC_instance_paper\\Results\\Manhattan\\start_18-00\\duration_005_min\\max_delay_03_min\\ih\\config.yaml-solution.json\n",
      "12:03:57 [INFO] Loading experiment config from C:\\Google Drive\\AIC Experiment Data\\DARP\\ITSC_instance_paper\\Results\\Manhattan\\start_18-00\\duration_005_min\\max_delay_03_min\\ih\\config.yaml\n",
      "12:03:57 [INFO] Loading instance config from C:\\Google Drive\\AIC Experiment Data\\DARP\\ITSC_instance_paper\\Instances\\Manhattan\\instances\\start_18-00\\duration_005_min\\max_delay_03_min\\config.yaml\n",
      "12:03:57 [WARNING] No solution found in folder: C:\\Google Drive\\AIC Experiment Data\\DARP\\ITSC_instance_paper\\Results\\Manhattan\\start_18-00\\duration_005_min\\max_delay_03_min\\vga\n",
      "12:03:57 [WARNING] No solution found in folder: C:\\Google Drive\\AIC Experiment Data\\DARP\\ITSC_instance_paper\\Results\\Manhattan\\start_18-00\\duration_005_min\\max_delay_05_min\\halns\n",
      "12:03:57 [WARNING] No solution found in folder: C:\\Google Drive\\AIC Experiment Data\\DARP\\ITSC_instance_paper\\Results\\Manhattan\\start_18-00\\duration_005_min\\max_delay_05_min\\halns-ih\n",
      "12:03:57 [INFO] Loading json file from: C:\\Google Drive\\AIC Experiment Data\\DARP\\ITSC_instance_paper\\Results\\Manhattan\\start_18-00\\duration_005_min\\max_delay_05_min\\ih\\config.yaml-performance.json\n",
      "12:03:57 [INFO] Loading json file from: C:\\Google Drive\\AIC Experiment Data\\DARP\\ITSC_instance_paper\\Results\\Manhattan\\start_18-00\\duration_005_min\\max_delay_05_min\\ih\\config.yaml-solution.json\n",
      "12:03:57 [INFO] Loading experiment config from C:\\Google Drive\\AIC Experiment Data\\DARP\\ITSC_instance_paper\\Results\\Manhattan\\start_18-00\\duration_005_min\\max_delay_05_min\\ih\\config.yaml\n",
      "12:03:57 [INFO] Loading instance config from C:\\Google Drive\\AIC Experiment Data\\DARP\\ITSC_instance_paper\\Instances\\Manhattan\\instances\\start_18-00\\duration_005_min\\max_delay_05_min\\config.yaml\n",
      "12:03:57 [WARNING] No solution found in folder: C:\\Google Drive\\AIC Experiment Data\\DARP\\ITSC_instance_paper\\Results\\Manhattan\\start_18-00\\duration_005_min\\max_delay_05_min\\vga\n",
      "12:03:57 [WARNING] No solution found in folder: C:\\Google Drive\\AIC Experiment Data\\DARP\\ITSC_instance_paper\\Results\\Manhattan\\start_18-00\\duration_005_min\\max_delay_10_min\\halns\n",
      "12:03:57 [WARNING] No solution found in folder: C:\\Google Drive\\AIC Experiment Data\\DARP\\ITSC_instance_paper\\Results\\Manhattan\\start_18-00\\duration_005_min\\max_delay_10_min\\halns-ih\n",
      "12:03:57 [INFO] Loading json file from: C:\\Google Drive\\AIC Experiment Data\\DARP\\ITSC_instance_paper\\Results\\Manhattan\\start_18-00\\duration_005_min\\max_delay_10_min\\ih\\config.yaml-performance.json\n",
      "12:03:57 [INFO] Loading json file from: C:\\Google Drive\\AIC Experiment Data\\DARP\\ITSC_instance_paper\\Results\\Manhattan\\start_18-00\\duration_005_min\\max_delay_10_min\\ih\\config.yaml-solution.json\n",
      "12:03:57 [INFO] Loading experiment config from C:\\Google Drive\\AIC Experiment Data\\DARP\\ITSC_instance_paper\\Results\\Manhattan\\start_18-00\\duration_005_min\\max_delay_10_min\\ih\\config.yaml\n",
      "12:03:57 [INFO] Loading instance config from C:\\Google Drive\\AIC Experiment Data\\DARP\\ITSC_instance_paper\\Instances\\Manhattan\\instances\\start_18-00\\duration_005_min\\max_delay_10_min\\config.yaml\n",
      "12:03:57 [WARNING] No solution found in folder: C:\\Google Drive\\AIC Experiment Data\\DARP\\ITSC_instance_paper\\Results\\Manhattan\\start_18-00\\duration_005_min\\max_delay_10_min\\vga\n",
      "12:03:57 [WARNING] No solution found in folder: C:\\Google Drive\\AIC Experiment Data\\DARP\\ITSC_instance_paper\\Results\\Manhattan\\start_18-00\\duration_015_min\\max_delay_03_min\\halns\n",
      "12:03:57 [WARNING] No solution found in folder: C:\\Google Drive\\AIC Experiment Data\\DARP\\ITSC_instance_paper\\Results\\Manhattan\\start_18-00\\duration_015_min\\max_delay_03_min\\halns-ih\n",
      "12:03:57 [INFO] Loading json file from: C:\\Google Drive\\AIC Experiment Data\\DARP\\ITSC_instance_paper\\Results\\Manhattan\\start_18-00\\duration_015_min\\max_delay_03_min\\ih\\config.yaml-performance.json\n",
      "12:03:57 [INFO] Loading json file from: C:\\Google Drive\\AIC Experiment Data\\DARP\\ITSC_instance_paper\\Results\\Manhattan\\start_18-00\\duration_015_min\\max_delay_03_min\\ih\\config.yaml-solution.json\n",
      "12:03:57 [INFO] Loading experiment config from C:\\Google Drive\\AIC Experiment Data\\DARP\\ITSC_instance_paper\\Results\\Manhattan\\start_18-00\\duration_015_min\\max_delay_03_min\\ih\\config.yaml\n",
      "12:03:57 [INFO] Loading instance config from C:\\Google Drive\\AIC Experiment Data\\DARP\\ITSC_instance_paper\\Instances\\Manhattan\\instances\\start_18-00\\duration_015_min\\max_delay_03_min\\config.yaml\n",
      "12:03:57 [WARNING] No solution found in folder: C:\\Google Drive\\AIC Experiment Data\\DARP\\ITSC_instance_paper\\Results\\Manhattan\\start_18-00\\duration_015_min\\max_delay_03_min\\vga\n",
      "12:03:57 [WARNING] No solution found in folder: C:\\Google Drive\\AIC Experiment Data\\DARP\\ITSC_instance_paper\\Results\\Manhattan\\start_18-00\\duration_015_min\\max_delay_05_min\\halns\n",
      "12:03:57 [WARNING] No solution found in folder: C:\\Google Drive\\AIC Experiment Data\\DARP\\ITSC_instance_paper\\Results\\Manhattan\\start_18-00\\duration_015_min\\max_delay_05_min\\halns-ih\n",
      "12:03:57 [INFO] Loading json file from: C:\\Google Drive\\AIC Experiment Data\\DARP\\ITSC_instance_paper\\Results\\Manhattan\\start_18-00\\duration_015_min\\max_delay_05_min\\ih\\config.yaml-performance.json\n",
      "12:03:57 [INFO] Loading json file from: C:\\Google Drive\\AIC Experiment Data\\DARP\\ITSC_instance_paper\\Results\\Manhattan\\start_18-00\\duration_015_min\\max_delay_05_min\\ih\\config.yaml-solution.json\n",
      "12:03:57 [INFO] Loading experiment config from C:\\Google Drive\\AIC Experiment Data\\DARP\\ITSC_instance_paper\\Results\\Manhattan\\start_18-00\\duration_015_min\\max_delay_05_min\\ih\\config.yaml\n",
      "12:03:57 [INFO] Loading instance config from C:\\Google Drive\\AIC Experiment Data\\DARP\\ITSC_instance_paper\\Instances\\Manhattan\\instances\\start_18-00\\duration_015_min\\max_delay_05_min\\config.yaml\n",
      "12:03:57 [WARNING] No solution found in folder: C:\\Google Drive\\AIC Experiment Data\\DARP\\ITSC_instance_paper\\Results\\Manhattan\\start_18-00\\duration_015_min\\max_delay_05_min\\vga\n",
      "12:03:57 [WARNING] No solution found in folder: C:\\Google Drive\\AIC Experiment Data\\DARP\\ITSC_instance_paper\\Results\\Manhattan\\start_18-00\\duration_015_min\\max_delay_10_min\\halns\n",
      "12:03:57 [WARNING] No solution found in folder: C:\\Google Drive\\AIC Experiment Data\\DARP\\ITSC_instance_paper\\Results\\Manhattan\\start_18-00\\duration_015_min\\max_delay_10_min\\halns-ih\n",
      "12:03:57 [INFO] Loading json file from: C:\\Google Drive\\AIC Experiment Data\\DARP\\ITSC_instance_paper\\Results\\Manhattan\\start_18-00\\duration_015_min\\max_delay_10_min\\ih\\config.yaml-performance.json\n",
      "12:03:57 [INFO] Loading json file from: C:\\Google Drive\\AIC Experiment Data\\DARP\\ITSC_instance_paper\\Results\\Manhattan\\start_18-00\\duration_015_min\\max_delay_10_min\\ih\\config.yaml-solution.json\n",
      "12:03:57 [INFO] Loading experiment config from C:\\Google Drive\\AIC Experiment Data\\DARP\\ITSC_instance_paper\\Results\\Manhattan\\start_18-00\\duration_015_min\\max_delay_10_min\\ih\\config.yaml\n",
      "12:03:57 [INFO] Loading instance config from C:\\Google Drive\\AIC Experiment Data\\DARP\\ITSC_instance_paper\\Instances\\Manhattan\\instances\\start_18-00\\duration_015_min\\max_delay_10_min\\config.yaml\n",
      "12:03:57 [WARNING] No solution found in folder: C:\\Google Drive\\AIC Experiment Data\\DARP\\ITSC_instance_paper\\Results\\Manhattan\\start_18-00\\duration_015_min\\max_delay_10_min\\vga\n",
      "12:03:57 [WARNING] No solution found in folder: C:\\Google Drive\\AIC Experiment Data\\DARP\\ITSC_instance_paper\\Results\\Manhattan\\start_18-00\\duration_030_min\\max_delay_03_min\\halns\n",
      "12:03:57 [WARNING] No solution found in folder: C:\\Google Drive\\AIC Experiment Data\\DARP\\ITSC_instance_paper\\Results\\Manhattan\\start_18-00\\duration_030_min\\max_delay_03_min\\halns-ih\n",
      "12:03:57 [INFO] Loading json file from: C:\\Google Drive\\AIC Experiment Data\\DARP\\ITSC_instance_paper\\Results\\Manhattan\\start_18-00\\duration_030_min\\max_delay_03_min\\ih\\config.yaml-performance.json\n",
      "12:03:57 [INFO] Loading json file from: C:\\Google Drive\\AIC Experiment Data\\DARP\\ITSC_instance_paper\\Results\\Manhattan\\start_18-00\\duration_030_min\\max_delay_03_min\\ih\\config.yaml-solution.json\n",
      "12:03:57 [INFO] Loading experiment config from C:\\Google Drive\\AIC Experiment Data\\DARP\\ITSC_instance_paper\\Results\\Manhattan\\start_18-00\\duration_030_min\\max_delay_03_min\\ih\\config.yaml\n",
      "12:03:57 [INFO] Loading instance config from C:\\Google Drive\\AIC Experiment Data\\DARP\\ITSC_instance_paper\\Instances\\Manhattan\\instances\\start_18-00\\duration_030_min\\max_delay_03_min\\config.yaml\n",
      "12:03:57 [WARNING] No solution found in folder: C:\\Google Drive\\AIC Experiment Data\\DARP\\ITSC_instance_paper\\Results\\Manhattan\\start_18-00\\duration_030_min\\max_delay_03_min\\vga\n",
      "12:03:57 [WARNING] No solution found in folder: C:\\Google Drive\\AIC Experiment Data\\DARP\\ITSC_instance_paper\\Results\\Manhattan\\start_18-00\\duration_030_min\\max_delay_05_min\\halns\n",
      "12:03:57 [WARNING] No solution found in folder: C:\\Google Drive\\AIC Experiment Data\\DARP\\ITSC_instance_paper\\Results\\Manhattan\\start_18-00\\duration_030_min\\max_delay_05_min\\halns-ih\n",
      "12:03:57 [INFO] Loading json file from: C:\\Google Drive\\AIC Experiment Data\\DARP\\ITSC_instance_paper\\Results\\Manhattan\\start_18-00\\duration_030_min\\max_delay_05_min\\ih\\config.yaml-performance.json\n",
      "12:03:57 [INFO] Loading json file from: C:\\Google Drive\\AIC Experiment Data\\DARP\\ITSC_instance_paper\\Results\\Manhattan\\start_18-00\\duration_030_min\\max_delay_05_min\\ih\\config.yaml-solution.json\n",
      "12:03:58 [INFO] Loading experiment config from C:\\Google Drive\\AIC Experiment Data\\DARP\\ITSC_instance_paper\\Results\\Manhattan\\start_18-00\\duration_030_min\\max_delay_05_min\\ih\\config.yaml\n",
      "12:03:58 [INFO] Loading instance config from C:\\Google Drive\\AIC Experiment Data\\DARP\\ITSC_instance_paper\\Instances\\Manhattan\\instances\\start_18-00\\duration_030_min\\max_delay_05_min\\config.yaml\n",
      "12:03:58 [WARNING] No solution found in folder: C:\\Google Drive\\AIC Experiment Data\\DARP\\ITSC_instance_paper\\Results\\Manhattan\\start_18-00\\duration_030_min\\max_delay_05_min\\vga\n",
      "12:03:58 [WARNING] No solution found in folder: C:\\Google Drive\\AIC Experiment Data\\DARP\\ITSC_instance_paper\\Results\\Manhattan\\start_18-00\\duration_030_min\\max_delay_10_min\\halns\n",
      "12:03:58 [WARNING] No solution found in folder: C:\\Google Drive\\AIC Experiment Data\\DARP\\ITSC_instance_paper\\Results\\Manhattan\\start_18-00\\duration_030_min\\max_delay_10_min\\halns-ih\n",
      "12:03:58 [INFO] Loading json file from: C:\\Google Drive\\AIC Experiment Data\\DARP\\ITSC_instance_paper\\Results\\Manhattan\\start_18-00\\duration_030_min\\max_delay_10_min\\ih\\config.yaml-performance.json\n",
      "12:03:58 [INFO] Loading json file from: C:\\Google Drive\\AIC Experiment Data\\DARP\\ITSC_instance_paper\\Results\\Manhattan\\start_18-00\\duration_030_min\\max_delay_10_min\\ih\\config.yaml-solution.json\n",
      "12:03:58 [INFO] Loading experiment config from C:\\Google Drive\\AIC Experiment Data\\DARP\\ITSC_instance_paper\\Results\\Manhattan\\start_18-00\\duration_030_min\\max_delay_10_min\\ih\\config.yaml\n",
      "12:03:58 [INFO] Loading instance config from C:\\Google Drive\\AIC Experiment Data\\DARP\\ITSC_instance_paper\\Instances\\Manhattan\\instances\\start_18-00\\duration_030_min\\max_delay_10_min\\config.yaml\n",
      "12:03:58 [WARNING] No solution found in folder: C:\\Google Drive\\AIC Experiment Data\\DARP\\ITSC_instance_paper\\Results\\Manhattan\\start_18-00\\duration_030_min\\max_delay_10_min\\vga\n",
      "12:03:58 [WARNING] No solution found in folder: C:\\Google Drive\\AIC Experiment Data\\DARP\\ITSC_instance_paper\\Results\\Manhattan\\start_18-00\\duration_120_min\\max_delay_03_min\\halns\n",
      "12:03:58 [WARNING] No solution found in folder: C:\\Google Drive\\AIC Experiment Data\\DARP\\ITSC_instance_paper\\Results\\Manhattan\\start_18-00\\duration_120_min\\max_delay_03_min\\halns-ih\n",
      "12:03:58 [INFO] Loading json file from: C:\\Google Drive\\AIC Experiment Data\\DARP\\ITSC_instance_paper\\Results\\Manhattan\\start_18-00\\duration_120_min\\max_delay_03_min\\ih\\config.yaml-performance.json\n",
      "12:03:58 [INFO] Loading json file from: C:\\Google Drive\\AIC Experiment Data\\DARP\\ITSC_instance_paper\\Results\\Manhattan\\start_18-00\\duration_120_min\\max_delay_03_min\\ih\\config.yaml-solution.json\n",
      "12:03:58 [INFO] Loading experiment config from C:\\Google Drive\\AIC Experiment Data\\DARP\\ITSC_instance_paper\\Results\\Manhattan\\start_18-00\\duration_120_min\\max_delay_03_min\\ih\\config.yaml\n",
      "12:03:58 [INFO] Loading instance config from C:\\Google Drive\\AIC Experiment Data\\DARP\\ITSC_instance_paper\\Instances\\Manhattan\\instances\\start_18-00\\duration_120_min\\max_delay_03_min\\config.yaml\n",
      "12:03:58 [WARNING] No solution found in folder: C:\\Google Drive\\AIC Experiment Data\\DARP\\ITSC_instance_paper\\Results\\Manhattan\\start_18-00\\duration_120_min\\max_delay_03_min\\vga\n",
      "12:03:58 [WARNING] No solution found in folder: C:\\Google Drive\\AIC Experiment Data\\DARP\\ITSC_instance_paper\\Results\\Manhattan\\start_18-00\\duration_120_min\\max_delay_05_min\\halns\n",
      "12:03:58 [WARNING] No solution found in folder: C:\\Google Drive\\AIC Experiment Data\\DARP\\ITSC_instance_paper\\Results\\Manhattan\\start_18-00\\duration_120_min\\max_delay_05_min\\halns-ih\n",
      "12:03:58 [INFO] Loading json file from: C:\\Google Drive\\AIC Experiment Data\\DARP\\ITSC_instance_paper\\Results\\Manhattan\\start_18-00\\duration_120_min\\max_delay_05_min\\ih\\config.yaml-performance.json\n",
      "12:03:58 [INFO] Loading json file from: C:\\Google Drive\\AIC Experiment Data\\DARP\\ITSC_instance_paper\\Results\\Manhattan\\start_18-00\\duration_120_min\\max_delay_05_min\\ih\\config.yaml-solution.json\n",
      "12:03:58 [INFO] Loading experiment config from C:\\Google Drive\\AIC Experiment Data\\DARP\\ITSC_instance_paper\\Results\\Manhattan\\start_18-00\\duration_120_min\\max_delay_05_min\\ih\\config.yaml\n",
      "12:03:58 [INFO] Loading instance config from C:\\Google Drive\\AIC Experiment Data\\DARP\\ITSC_instance_paper\\Instances\\Manhattan\\instances\\start_18-00\\duration_120_min\\max_delay_05_min\\config.yaml\n",
      "12:03:59 [WARNING] No solution found in folder: C:\\Google Drive\\AIC Experiment Data\\DARP\\ITSC_instance_paper\\Results\\Manhattan\\start_18-00\\duration_120_min\\max_delay_05_min\\vga\n",
      "12:03:59 [WARNING] No solution found in folder: C:\\Google Drive\\AIC Experiment Data\\DARP\\ITSC_instance_paper\\Results\\Manhattan\\start_18-00\\duration_120_min\\max_delay_10_min\\halns\n",
      "12:03:59 [WARNING] No solution found in folder: C:\\Google Drive\\AIC Experiment Data\\DARP\\ITSC_instance_paper\\Results\\Manhattan\\start_18-00\\duration_120_min\\max_delay_10_min\\halns-ih\n",
      "12:03:59 [INFO] Loading json file from: C:\\Google Drive\\AIC Experiment Data\\DARP\\ITSC_instance_paper\\Results\\Manhattan\\start_18-00\\duration_120_min\\max_delay_10_min\\ih\\config.yaml-performance.json\n",
      "12:03:59 [INFO] Loading json file from: C:\\Google Drive\\AIC Experiment Data\\DARP\\ITSC_instance_paper\\Results\\Manhattan\\start_18-00\\duration_120_min\\max_delay_10_min\\ih\\config.yaml-solution.json\n",
      "12:03:59 [INFO] Loading experiment config from C:\\Google Drive\\AIC Experiment Data\\DARP\\ITSC_instance_paper\\Results\\Manhattan\\start_18-00\\duration_120_min\\max_delay_10_min\\ih\\config.yaml\n",
      "12:03:59 [INFO] Loading instance config from C:\\Google Drive\\AIC Experiment Data\\DARP\\ITSC_instance_paper\\Instances\\Manhattan\\instances\\start_18-00\\duration_120_min\\max_delay_10_min\\config.yaml\n",
      "12:03:59 [WARNING] No solution found in folder: C:\\Google Drive\\AIC Experiment Data\\DARP\\ITSC_instance_paper\\Results\\Manhattan\\start_18-00\\duration_120_min\\max_delay_10_min\\vga\n",
      "12:03:59 [WARNING] No solution found in folder: C:\\Google Drive\\AIC Experiment Data\\DARP\\ITSC_instance_paper\\Results\\Manhattan\\start_18-00\\duration_960_min\\max_delay_03_min\\halns\n",
      "12:03:59 [WARNING] No solution found in folder: C:\\Google Drive\\AIC Experiment Data\\DARP\\ITSC_instance_paper\\Results\\Manhattan\\start_18-00\\duration_960_min\\max_delay_03_min\\halns-ih\n",
      "12:03:59 [INFO] Loading json file from: C:\\Google Drive\\AIC Experiment Data\\DARP\\ITSC_instance_paper\\Results\\Manhattan\\start_18-00\\duration_960_min\\max_delay_03_min\\ih\\config.yaml-performance.json\n",
      "12:03:59 [INFO] Loading json file from: C:\\Google Drive\\AIC Experiment Data\\DARP\\ITSC_instance_paper\\Results\\Manhattan\\start_18-00\\duration_960_min\\max_delay_03_min\\ih\\config.yaml-solution.json\n",
      "12:04:00 [INFO] Loading experiment config from C:\\Google Drive\\AIC Experiment Data\\DARP\\ITSC_instance_paper\\Results\\Manhattan\\start_18-00\\duration_960_min\\max_delay_03_min\\ih\\config.yaml\n",
      "12:04:00 [INFO] Loading instance config from C:\\Google Drive\\AIC Experiment Data\\DARP\\ITSC_instance_paper\\Instances\\Manhattan\\instances\\start_18-00\\duration_960_min\\max_delay_03_min\\config.yaml\n",
      "12:04:00 [WARNING] No solution found in folder: C:\\Google Drive\\AIC Experiment Data\\DARP\\ITSC_instance_paper\\Results\\Manhattan\\start_18-00\\duration_960_min\\max_delay_03_min\\vga\n",
      "12:04:00 [WARNING] No solution found in folder: C:\\Google Drive\\AIC Experiment Data\\DARP\\ITSC_instance_paper\\Results\\Manhattan\\start_18-00\\duration_960_min\\max_delay_05_min\\halns\n",
      "12:04:00 [WARNING] No solution found in folder: C:\\Google Drive\\AIC Experiment Data\\DARP\\ITSC_instance_paper\\Results\\Manhattan\\start_18-00\\duration_960_min\\max_delay_05_min\\halns-ih\n",
      "12:04:00 [INFO] Loading json file from: C:\\Google Drive\\AIC Experiment Data\\DARP\\ITSC_instance_paper\\Results\\Manhattan\\start_18-00\\duration_960_min\\max_delay_05_min\\ih\\config.yaml-performance.json\n",
      "12:04:00 [INFO] Loading json file from: C:\\Google Drive\\AIC Experiment Data\\DARP\\ITSC_instance_paper\\Results\\Manhattan\\start_18-00\\duration_960_min\\max_delay_05_min\\ih\\config.yaml-solution.json\n",
      "12:04:01 [INFO] Loading experiment config from C:\\Google Drive\\AIC Experiment Data\\DARP\\ITSC_instance_paper\\Results\\Manhattan\\start_18-00\\duration_960_min\\max_delay_05_min\\ih\\config.yaml\n",
      "12:04:01 [INFO] Loading instance config from C:\\Google Drive\\AIC Experiment Data\\DARP\\ITSC_instance_paper\\Instances\\Manhattan\\instances\\start_18-00\\duration_960_min\\max_delay_05_min\\config.yaml\n",
      "12:04:01 [WARNING] No solution found in folder: C:\\Google Drive\\AIC Experiment Data\\DARP\\ITSC_instance_paper\\Results\\Manhattan\\start_18-00\\duration_960_min\\max_delay_05_min\\vga\n",
      "12:04:01 [WARNING] No solution found in folder: C:\\Google Drive\\AIC Experiment Data\\DARP\\ITSC_instance_paper\\Results\\Manhattan\\start_18-00\\duration_960_min\\max_delay_10_min\\halns\n",
      "12:04:01 [WARNING] No solution found in folder: C:\\Google Drive\\AIC Experiment Data\\DARP\\ITSC_instance_paper\\Results\\Manhattan\\start_18-00\\duration_960_min\\max_delay_10_min\\halns-ih\n",
      "12:04:01 [INFO] Loading json file from: C:\\Google Drive\\AIC Experiment Data\\DARP\\ITSC_instance_paper\\Results\\Manhattan\\start_18-00\\duration_960_min\\max_delay_10_min\\ih\\config.yaml-performance.json\n",
      "12:04:01 [INFO] Loading json file from: C:\\Google Drive\\AIC Experiment Data\\DARP\\ITSC_instance_paper\\Results\\Manhattan\\start_18-00\\duration_960_min\\max_delay_10_min\\ih\\config.yaml-solution.json\n",
      "12:04:02 [INFO] Loading experiment config from C:\\Google Drive\\AIC Experiment Data\\DARP\\ITSC_instance_paper\\Results\\Manhattan\\start_18-00\\duration_960_min\\max_delay_10_min\\ih\\config.yaml\n",
      "12:04:02 [INFO] Loading instance config from C:\\Google Drive\\AIC Experiment Data\\DARP\\ITSC_instance_paper\\Instances\\Manhattan\\instances\\start_18-00\\duration_960_min\\max_delay_10_min\\config.yaml\n",
      "12:04:02 [WARNING] No solution found in folder: C:\\Google Drive\\AIC Experiment Data\\DARP\\ITSC_instance_paper\\Results\\Manhattan\\start_18-00\\duration_960_min\\max_delay_10_min\\vga\n",
      "12:04:02 [INFO] Loading occupancy stats in C:\\Google Drive\\AIC Experiment Data\\DARP\\ITSC_instance_paper\\Results\\Chicago\n",
      "12:04:02 [WARNING] No solution found in folder: C:\\Google Drive\\AIC Experiment Data\\DARP\\ITSC_instance_paper\\Results\\Chicago\\start_18-00\\duration_005_min\\max_delay_03_min\\halns\n",
      "12:04:02 [WARNING] No solution found in folder: C:\\Google Drive\\AIC Experiment Data\\DARP\\ITSC_instance_paper\\Results\\Chicago\\start_18-00\\duration_005_min\\max_delay_03_min\\halns-ih\n",
      "12:04:02 [INFO] Loading json file from: C:\\Google Drive\\AIC Experiment Data\\DARP\\ITSC_instance_paper\\Results\\Chicago\\start_18-00\\duration_005_min\\max_delay_03_min\\ih\\config.yaml-performance.json\n",
      "12:04:02 [INFO] Loading json file from: C:\\Google Drive\\AIC Experiment Data\\DARP\\ITSC_instance_paper\\Results\\Chicago\\start_18-00\\duration_005_min\\max_delay_03_min\\ih\\config.yaml-solution.json\n",
      "12:04:02 [INFO] Loading experiment config from C:\\Google Drive\\AIC Experiment Data\\DARP\\ITSC_instance_paper\\Results\\Chicago\\start_18-00\\duration_005_min\\max_delay_03_min\\ih\\config.yaml\n",
      "12:04:02 [INFO] Loading instance config from C:\\Google Drive\\AIC Experiment Data\\DARP\\ITSC_instance_paper\\Instances\\Chicago\\instances\\start_18-00\\duration_005_min\\max_delay_03_min\\config.yaml\n",
      "12:04:02 [WARNING] No solution found in folder: C:\\Google Drive\\AIC Experiment Data\\DARP\\ITSC_instance_paper\\Results\\Chicago\\start_18-00\\duration_005_min\\max_delay_03_min\\vga\n",
      "12:04:02 [WARNING] No solution found in folder: C:\\Google Drive\\AIC Experiment Data\\DARP\\ITSC_instance_paper\\Results\\Chicago\\start_18-00\\duration_005_min\\max_delay_05_min\\halns\n",
      "12:04:02 [WARNING] No solution found in folder: C:\\Google Drive\\AIC Experiment Data\\DARP\\ITSC_instance_paper\\Results\\Chicago\\start_18-00\\duration_005_min\\max_delay_05_min\\halns-ih\n",
      "12:04:02 [INFO] Loading json file from: C:\\Google Drive\\AIC Experiment Data\\DARP\\ITSC_instance_paper\\Results\\Chicago\\start_18-00\\duration_005_min\\max_delay_05_min\\ih\\config.yaml-performance.json\n",
      "12:04:02 [INFO] Loading json file from: C:\\Google Drive\\AIC Experiment Data\\DARP\\ITSC_instance_paper\\Results\\Chicago\\start_18-00\\duration_005_min\\max_delay_05_min\\ih\\config.yaml-solution.json\n",
      "12:04:02 [INFO] Loading experiment config from C:\\Google Drive\\AIC Experiment Data\\DARP\\ITSC_instance_paper\\Results\\Chicago\\start_18-00\\duration_005_min\\max_delay_05_min\\ih\\config.yaml\n",
      "12:04:02 [INFO] Loading instance config from C:\\Google Drive\\AIC Experiment Data\\DARP\\ITSC_instance_paper\\Instances\\Chicago\\instances\\start_18-00\\duration_005_min\\max_delay_05_min\\config.yaml\n",
      "12:04:02 [WARNING] No solution found in folder: C:\\Google Drive\\AIC Experiment Data\\DARP\\ITSC_instance_paper\\Results\\Chicago\\start_18-00\\duration_005_min\\max_delay_05_min\\vga\n",
      "12:04:02 [WARNING] No solution found in folder: C:\\Google Drive\\AIC Experiment Data\\DARP\\ITSC_instance_paper\\Results\\Chicago\\start_18-00\\duration_005_min\\max_delay_10_min\\halns\n",
      "12:04:02 [WARNING] No solution found in folder: C:\\Google Drive\\AIC Experiment Data\\DARP\\ITSC_instance_paper\\Results\\Chicago\\start_18-00\\duration_005_min\\max_delay_10_min\\halns-ih\n",
      "12:04:02 [INFO] Loading json file from: C:\\Google Drive\\AIC Experiment Data\\DARP\\ITSC_instance_paper\\Results\\Chicago\\start_18-00\\duration_005_min\\max_delay_10_min\\ih\\config.yaml-performance.json\n",
      "12:04:02 [INFO] Loading json file from: C:\\Google Drive\\AIC Experiment Data\\DARP\\ITSC_instance_paper\\Results\\Chicago\\start_18-00\\duration_005_min\\max_delay_10_min\\ih\\config.yaml-solution.json\n",
      "12:04:02 [INFO] Loading experiment config from C:\\Google Drive\\AIC Experiment Data\\DARP\\ITSC_instance_paper\\Results\\Chicago\\start_18-00\\duration_005_min\\max_delay_10_min\\ih\\config.yaml\n",
      "12:04:02 [INFO] Loading instance config from C:\\Google Drive\\AIC Experiment Data\\DARP\\ITSC_instance_paper\\Instances\\Chicago\\instances\\start_18-00\\duration_005_min\\max_delay_10_min\\config.yaml\n",
      "12:04:02 [WARNING] No solution found in folder: C:\\Google Drive\\AIC Experiment Data\\DARP\\ITSC_instance_paper\\Results\\Chicago\\start_18-00\\duration_005_min\\max_delay_10_min\\vga\n",
      "12:04:02 [WARNING] No solution found in folder: C:\\Google Drive\\AIC Experiment Data\\DARP\\ITSC_instance_paper\\Results\\Chicago\\start_18-00\\duration_015_min\\max_delay_03_min\\halns\n",
      "12:04:02 [WARNING] No solution found in folder: C:\\Google Drive\\AIC Experiment Data\\DARP\\ITSC_instance_paper\\Results\\Chicago\\start_18-00\\duration_015_min\\max_delay_03_min\\halns-ih\n",
      "12:04:02 [INFO] Loading json file from: C:\\Google Drive\\AIC Experiment Data\\DARP\\ITSC_instance_paper\\Results\\Chicago\\start_18-00\\duration_015_min\\max_delay_03_min\\ih\\config.yaml-performance.json\n",
      "12:04:02 [INFO] Loading json file from: C:\\Google Drive\\AIC Experiment Data\\DARP\\ITSC_instance_paper\\Results\\Chicago\\start_18-00\\duration_015_min\\max_delay_03_min\\ih\\config.yaml-solution.json\n",
      "12:04:02 [INFO] Loading experiment config from C:\\Google Drive\\AIC Experiment Data\\DARP\\ITSC_instance_paper\\Results\\Chicago\\start_18-00\\duration_015_min\\max_delay_03_min\\ih\\config.yaml\n",
      "12:04:02 [INFO] Loading instance config from C:\\Google Drive\\AIC Experiment Data\\DARP\\ITSC_instance_paper\\Instances\\Chicago\\instances\\start_18-00\\duration_015_min\\max_delay_03_min\\config.yaml\n",
      "12:04:02 [WARNING] No solution found in folder: C:\\Google Drive\\AIC Experiment Data\\DARP\\ITSC_instance_paper\\Results\\Chicago\\start_18-00\\duration_015_min\\max_delay_03_min\\vga\n",
      "12:04:02 [WARNING] No solution found in folder: C:\\Google Drive\\AIC Experiment Data\\DARP\\ITSC_instance_paper\\Results\\Chicago\\start_18-00\\duration_015_min\\max_delay_05_min\\halns\n",
      "12:04:02 [WARNING] No solution found in folder: C:\\Google Drive\\AIC Experiment Data\\DARP\\ITSC_instance_paper\\Results\\Chicago\\start_18-00\\duration_015_min\\max_delay_05_min\\halns-ih\n",
      "12:04:02 [INFO] Loading json file from: C:\\Google Drive\\AIC Experiment Data\\DARP\\ITSC_instance_paper\\Results\\Chicago\\start_18-00\\duration_015_min\\max_delay_05_min\\ih\\config.yaml-performance.json\n",
      "12:04:02 [INFO] Loading json file from: C:\\Google Drive\\AIC Experiment Data\\DARP\\ITSC_instance_paper\\Results\\Chicago\\start_18-00\\duration_015_min\\max_delay_05_min\\ih\\config.yaml-solution.json\n",
      "12:04:02 [INFO] Loading experiment config from C:\\Google Drive\\AIC Experiment Data\\DARP\\ITSC_instance_paper\\Results\\Chicago\\start_18-00\\duration_015_min\\max_delay_05_min\\ih\\config.yaml\n",
      "12:04:02 [INFO] Loading instance config from C:\\Google Drive\\AIC Experiment Data\\DARP\\ITSC_instance_paper\\Instances\\Chicago\\instances\\start_18-00\\duration_015_min\\max_delay_05_min\\config.yaml\n",
      "12:04:02 [WARNING] No solution found in folder: C:\\Google Drive\\AIC Experiment Data\\DARP\\ITSC_instance_paper\\Results\\Chicago\\start_18-00\\duration_015_min\\max_delay_05_min\\vga\n",
      "12:04:02 [WARNING] No solution found in folder: C:\\Google Drive\\AIC Experiment Data\\DARP\\ITSC_instance_paper\\Results\\Chicago\\start_18-00\\duration_015_min\\max_delay_10_min\\halns\n",
      "12:04:02 [WARNING] No solution found in folder: C:\\Google Drive\\AIC Experiment Data\\DARP\\ITSC_instance_paper\\Results\\Chicago\\start_18-00\\duration_015_min\\max_delay_10_min\\halns-ih\n",
      "12:04:02 [INFO] Loading json file from: C:\\Google Drive\\AIC Experiment Data\\DARP\\ITSC_instance_paper\\Results\\Chicago\\start_18-00\\duration_015_min\\max_delay_10_min\\ih\\config.yaml-performance.json\n",
      "12:04:02 [INFO] Loading json file from: C:\\Google Drive\\AIC Experiment Data\\DARP\\ITSC_instance_paper\\Results\\Chicago\\start_18-00\\duration_015_min\\max_delay_10_min\\ih\\config.yaml-solution.json\n",
      "12:04:02 [INFO] Loading experiment config from C:\\Google Drive\\AIC Experiment Data\\DARP\\ITSC_instance_paper\\Results\\Chicago\\start_18-00\\duration_015_min\\max_delay_10_min\\ih\\config.yaml\n",
      "12:04:02 [INFO] Loading instance config from C:\\Google Drive\\AIC Experiment Data\\DARP\\ITSC_instance_paper\\Instances\\Chicago\\instances\\start_18-00\\duration_015_min\\max_delay_10_min\\config.yaml\n",
      "12:04:02 [WARNING] No solution found in folder: C:\\Google Drive\\AIC Experiment Data\\DARP\\ITSC_instance_paper\\Results\\Chicago\\start_18-00\\duration_015_min\\max_delay_10_min\\vga\n",
      "12:04:02 [WARNING] No solution found in folder: C:\\Google Drive\\AIC Experiment Data\\DARP\\ITSC_instance_paper\\Results\\Chicago\\start_18-00\\duration_030_min\\max_delay_03_min\\halns\n",
      "12:04:02 [WARNING] No solution found in folder: C:\\Google Drive\\AIC Experiment Data\\DARP\\ITSC_instance_paper\\Results\\Chicago\\start_18-00\\duration_030_min\\max_delay_03_min\\halns-ih\n",
      "12:04:02 [INFO] Loading json file from: C:\\Google Drive\\AIC Experiment Data\\DARP\\ITSC_instance_paper\\Results\\Chicago\\start_18-00\\duration_030_min\\max_delay_03_min\\ih\\config.yaml-performance.json\n",
      "12:04:02 [INFO] Loading json file from: C:\\Google Drive\\AIC Experiment Data\\DARP\\ITSC_instance_paper\\Results\\Chicago\\start_18-00\\duration_030_min\\max_delay_03_min\\ih\\config.yaml-solution.json\n",
      "12:04:02 [INFO] Loading experiment config from C:\\Google Drive\\AIC Experiment Data\\DARP\\ITSC_instance_paper\\Results\\Chicago\\start_18-00\\duration_030_min\\max_delay_03_min\\ih\\config.yaml\n",
      "12:04:02 [INFO] Loading instance config from C:\\Google Drive\\AIC Experiment Data\\DARP\\ITSC_instance_paper\\Instances\\Chicago\\instances\\start_18-00\\duration_030_min\\max_delay_03_min\\config.yaml\n",
      "12:04:02 [WARNING] No solution found in folder: C:\\Google Drive\\AIC Experiment Data\\DARP\\ITSC_instance_paper\\Results\\Chicago\\start_18-00\\duration_030_min\\max_delay_03_min\\vga\n",
      "12:04:02 [WARNING] No solution found in folder: C:\\Google Drive\\AIC Experiment Data\\DARP\\ITSC_instance_paper\\Results\\Chicago\\start_18-00\\duration_030_min\\max_delay_05_min\\halns\n",
      "12:04:02 [WARNING] No solution found in folder: C:\\Google Drive\\AIC Experiment Data\\DARP\\ITSC_instance_paper\\Results\\Chicago\\start_18-00\\duration_030_min\\max_delay_05_min\\halns-ih\n",
      "12:04:02 [INFO] Loading json file from: C:\\Google Drive\\AIC Experiment Data\\DARP\\ITSC_instance_paper\\Results\\Chicago\\start_18-00\\duration_030_min\\max_delay_05_min\\ih\\config.yaml-performance.json\n",
      "12:04:02 [INFO] Loading json file from: C:\\Google Drive\\AIC Experiment Data\\DARP\\ITSC_instance_paper\\Results\\Chicago\\start_18-00\\duration_030_min\\max_delay_05_min\\ih\\config.yaml-solution.json\n",
      "12:04:02 [INFO] Loading experiment config from C:\\Google Drive\\AIC Experiment Data\\DARP\\ITSC_instance_paper\\Results\\Chicago\\start_18-00\\duration_030_min\\max_delay_05_min\\ih\\config.yaml\n",
      "12:04:02 [INFO] Loading instance config from C:\\Google Drive\\AIC Experiment Data\\DARP\\ITSC_instance_paper\\Instances\\Chicago\\instances\\start_18-00\\duration_030_min\\max_delay_05_min\\config.yaml\n",
      "12:04:02 [WARNING] No solution found in folder: C:\\Google Drive\\AIC Experiment Data\\DARP\\ITSC_instance_paper\\Results\\Chicago\\start_18-00\\duration_030_min\\max_delay_05_min\\vga\n",
      "12:04:02 [WARNING] No solution found in folder: C:\\Google Drive\\AIC Experiment Data\\DARP\\ITSC_instance_paper\\Results\\Chicago\\start_18-00\\duration_030_min\\max_delay_10_min\\halns\n",
      "12:04:02 [WARNING] No solution found in folder: C:\\Google Drive\\AIC Experiment Data\\DARP\\ITSC_instance_paper\\Results\\Chicago\\start_18-00\\duration_030_min\\max_delay_10_min\\halns-ih\n",
      "12:04:02 [INFO] Loading json file from: C:\\Google Drive\\AIC Experiment Data\\DARP\\ITSC_instance_paper\\Results\\Chicago\\start_18-00\\duration_030_min\\max_delay_10_min\\ih\\config.yaml-performance.json\n",
      "12:04:02 [INFO] Loading json file from: C:\\Google Drive\\AIC Experiment Data\\DARP\\ITSC_instance_paper\\Results\\Chicago\\start_18-00\\duration_030_min\\max_delay_10_min\\ih\\config.yaml-solution.json\n",
      "12:04:02 [INFO] Loading experiment config from C:\\Google Drive\\AIC Experiment Data\\DARP\\ITSC_instance_paper\\Results\\Chicago\\start_18-00\\duration_030_min\\max_delay_10_min\\ih\\config.yaml\n",
      "12:04:02 [INFO] Loading instance config from C:\\Google Drive\\AIC Experiment Data\\DARP\\ITSC_instance_paper\\Instances\\Chicago\\instances\\start_18-00\\duration_030_min\\max_delay_10_min\\config.yaml\n",
      "12:04:02 [WARNING] No solution found in folder: C:\\Google Drive\\AIC Experiment Data\\DARP\\ITSC_instance_paper\\Results\\Chicago\\start_18-00\\duration_030_min\\max_delay_10_min\\vga\n",
      "12:04:02 [WARNING] No solution found in folder: C:\\Google Drive\\AIC Experiment Data\\DARP\\ITSC_instance_paper\\Results\\Chicago\\start_18-00\\duration_120_min\\max_delay_03_min\\halns\n",
      "12:04:02 [WARNING] No solution found in folder: C:\\Google Drive\\AIC Experiment Data\\DARP\\ITSC_instance_paper\\Results\\Chicago\\start_18-00\\duration_120_min\\max_delay_03_min\\halns-ih\n",
      "12:04:02 [INFO] Loading json file from: C:\\Google Drive\\AIC Experiment Data\\DARP\\ITSC_instance_paper\\Results\\Chicago\\start_18-00\\duration_120_min\\max_delay_03_min\\ih\\config.yaml-performance.json\n",
      "12:04:02 [INFO] Loading json file from: C:\\Google Drive\\AIC Experiment Data\\DARP\\ITSC_instance_paper\\Results\\Chicago\\start_18-00\\duration_120_min\\max_delay_03_min\\ih\\config.yaml-solution.json\n",
      "12:04:02 [INFO] Loading experiment config from C:\\Google Drive\\AIC Experiment Data\\DARP\\ITSC_instance_paper\\Results\\Chicago\\start_18-00\\duration_120_min\\max_delay_03_min\\ih\\config.yaml\n",
      "12:04:02 [INFO] Loading instance config from C:\\Google Drive\\AIC Experiment Data\\DARP\\ITSC_instance_paper\\Instances\\Chicago\\instances\\start_18-00\\duration_120_min\\max_delay_03_min\\config.yaml\n",
      "12:04:02 [WARNING] No solution found in folder: C:\\Google Drive\\AIC Experiment Data\\DARP\\ITSC_instance_paper\\Results\\Chicago\\start_18-00\\duration_120_min\\max_delay_03_min\\vga\n",
      "12:04:02 [WARNING] No solution found in folder: C:\\Google Drive\\AIC Experiment Data\\DARP\\ITSC_instance_paper\\Results\\Chicago\\start_18-00\\duration_120_min\\max_delay_05_min\\halns\n",
      "12:04:02 [WARNING] No solution found in folder: C:\\Google Drive\\AIC Experiment Data\\DARP\\ITSC_instance_paper\\Results\\Chicago\\start_18-00\\duration_120_min\\max_delay_05_min\\halns-ih\n",
      "12:04:02 [INFO] Loading json file from: C:\\Google Drive\\AIC Experiment Data\\DARP\\ITSC_instance_paper\\Results\\Chicago\\start_18-00\\duration_120_min\\max_delay_05_min\\ih\\config.yaml-performance.json\n",
      "12:04:02 [INFO] Loading json file from: C:\\Google Drive\\AIC Experiment Data\\DARP\\ITSC_instance_paper\\Results\\Chicago\\start_18-00\\duration_120_min\\max_delay_05_min\\ih\\config.yaml-solution.json\n",
      "12:04:02 [INFO] Loading experiment config from C:\\Google Drive\\AIC Experiment Data\\DARP\\ITSC_instance_paper\\Results\\Chicago\\start_18-00\\duration_120_min\\max_delay_05_min\\ih\\config.yaml\n",
      "12:04:02 [INFO] Loading instance config from C:\\Google Drive\\AIC Experiment Data\\DARP\\ITSC_instance_paper\\Instances\\Chicago\\instances\\start_18-00\\duration_120_min\\max_delay_05_min\\config.yaml\n",
      "12:04:02 [WARNING] No solution found in folder: C:\\Google Drive\\AIC Experiment Data\\DARP\\ITSC_instance_paper\\Results\\Chicago\\start_18-00\\duration_120_min\\max_delay_05_min\\vga\n",
      "12:04:02 [WARNING] No solution found in folder: C:\\Google Drive\\AIC Experiment Data\\DARP\\ITSC_instance_paper\\Results\\Chicago\\start_18-00\\duration_120_min\\max_delay_10_min\\halns\n",
      "12:04:02 [WARNING] No solution found in folder: C:\\Google Drive\\AIC Experiment Data\\DARP\\ITSC_instance_paper\\Results\\Chicago\\start_18-00\\duration_120_min\\max_delay_10_min\\halns-ih\n",
      "12:04:02 [INFO] Loading json file from: C:\\Google Drive\\AIC Experiment Data\\DARP\\ITSC_instance_paper\\Results\\Chicago\\start_18-00\\duration_120_min\\max_delay_10_min\\ih\\config.yaml-performance.json\n",
      "12:04:02 [INFO] Loading json file from: C:\\Google Drive\\AIC Experiment Data\\DARP\\ITSC_instance_paper\\Results\\Chicago\\start_18-00\\duration_120_min\\max_delay_10_min\\ih\\config.yaml-solution.json\n",
      "12:04:02 [INFO] Loading experiment config from C:\\Google Drive\\AIC Experiment Data\\DARP\\ITSC_instance_paper\\Results\\Chicago\\start_18-00\\duration_120_min\\max_delay_10_min\\ih\\config.yaml\n",
      "12:04:02 [INFO] Loading instance config from C:\\Google Drive\\AIC Experiment Data\\DARP\\ITSC_instance_paper\\Instances\\Chicago\\instances\\start_18-00\\duration_120_min\\max_delay_10_min\\config.yaml\n",
      "12:04:02 [WARNING] No solution found in folder: C:\\Google Drive\\AIC Experiment Data\\DARP\\ITSC_instance_paper\\Results\\Chicago\\start_18-00\\duration_120_min\\max_delay_10_min\\vga\n",
      "12:04:02 [WARNING] No solution found in folder: C:\\Google Drive\\AIC Experiment Data\\DARP\\ITSC_instance_paper\\Results\\Chicago\\start_18-00\\duration_960_min\\max_delay_03_min\\halns\n",
      "12:04:02 [WARNING] No solution found in folder: C:\\Google Drive\\AIC Experiment Data\\DARP\\ITSC_instance_paper\\Results\\Chicago\\start_18-00\\duration_960_min\\max_delay_03_min\\halns-ih\n",
      "12:04:02 [INFO] Loading json file from: C:\\Google Drive\\AIC Experiment Data\\DARP\\ITSC_instance_paper\\Results\\Chicago\\start_18-00\\duration_960_min\\max_delay_03_min\\ih\\config.yaml-performance.json\n",
      "12:04:02 [INFO] Loading json file from: C:\\Google Drive\\AIC Experiment Data\\DARP\\ITSC_instance_paper\\Results\\Chicago\\start_18-00\\duration_960_min\\max_delay_03_min\\ih\\config.yaml-solution.json\n",
      "12:04:02 [INFO] Loading experiment config from C:\\Google Drive\\AIC Experiment Data\\DARP\\ITSC_instance_paper\\Results\\Chicago\\start_18-00\\duration_960_min\\max_delay_03_min\\ih\\config.yaml\n",
      "12:04:02 [INFO] Loading instance config from C:\\Google Drive\\AIC Experiment Data\\DARP\\ITSC_instance_paper\\Instances\\Chicago\\instances\\start_18-00\\duration_960_min\\max_delay_03_min\\config.yaml\n",
      "12:04:02 [WARNING] No solution found in folder: C:\\Google Drive\\AIC Experiment Data\\DARP\\ITSC_instance_paper\\Results\\Chicago\\start_18-00\\duration_960_min\\max_delay_03_min\\vga\n",
      "12:04:02 [WARNING] No solution found in folder: C:\\Google Drive\\AIC Experiment Data\\DARP\\ITSC_instance_paper\\Results\\Chicago\\start_18-00\\duration_960_min\\max_delay_05_min\\halns\n",
      "12:04:02 [WARNING] No solution found in folder: C:\\Google Drive\\AIC Experiment Data\\DARP\\ITSC_instance_paper\\Results\\Chicago\\start_18-00\\duration_960_min\\max_delay_05_min\\halns-ih\n",
      "12:04:02 [INFO] Loading json file from: C:\\Google Drive\\AIC Experiment Data\\DARP\\ITSC_instance_paper\\Results\\Chicago\\start_18-00\\duration_960_min\\max_delay_05_min\\ih\\config.yaml-performance.json\n",
      "12:04:02 [INFO] Loading json file from: C:\\Google Drive\\AIC Experiment Data\\DARP\\ITSC_instance_paper\\Results\\Chicago\\start_18-00\\duration_960_min\\max_delay_05_min\\ih\\config.yaml-solution.json\n",
      "12:04:02 [INFO] Loading experiment config from C:\\Google Drive\\AIC Experiment Data\\DARP\\ITSC_instance_paper\\Results\\Chicago\\start_18-00\\duration_960_min\\max_delay_05_min\\ih\\config.yaml\n",
      "12:04:02 [INFO] Loading instance config from C:\\Google Drive\\AIC Experiment Data\\DARP\\ITSC_instance_paper\\Instances\\Chicago\\instances\\start_18-00\\duration_960_min\\max_delay_05_min\\config.yaml\n",
      "12:04:02 [WARNING] No solution found in folder: C:\\Google Drive\\AIC Experiment Data\\DARP\\ITSC_instance_paper\\Results\\Chicago\\start_18-00\\duration_960_min\\max_delay_05_min\\vga\n",
      "12:04:02 [WARNING] No solution found in folder: C:\\Google Drive\\AIC Experiment Data\\DARP\\ITSC_instance_paper\\Results\\Chicago\\start_18-00\\duration_960_min\\max_delay_10_min\\halns\n",
      "12:04:02 [WARNING] No solution found in folder: C:\\Google Drive\\AIC Experiment Data\\DARP\\ITSC_instance_paper\\Results\\Chicago\\start_18-00\\duration_960_min\\max_delay_10_min\\halns-ih\n",
      "12:04:02 [INFO] Loading json file from: C:\\Google Drive\\AIC Experiment Data\\DARP\\ITSC_instance_paper\\Results\\Chicago\\start_18-00\\duration_960_min\\max_delay_10_min\\ih\\config.yaml-performance.json\n",
      "12:04:02 [INFO] Loading json file from: C:\\Google Drive\\AIC Experiment Data\\DARP\\ITSC_instance_paper\\Results\\Chicago\\start_18-00\\duration_960_min\\max_delay_10_min\\ih\\config.yaml-solution.json\n",
      "12:04:02 [INFO] Loading experiment config from C:\\Google Drive\\AIC Experiment Data\\DARP\\ITSC_instance_paper\\Results\\Chicago\\start_18-00\\duration_960_min\\max_delay_10_min\\ih\\config.yaml\n",
      "12:04:02 [INFO] Loading instance config from C:\\Google Drive\\AIC Experiment Data\\DARP\\ITSC_instance_paper\\Instances\\Chicago\\instances\\start_18-00\\duration_960_min\\max_delay_10_min\\config.yaml\n",
      "12:04:02 [WARNING] No solution found in folder: C:\\Google Drive\\AIC Experiment Data\\DARP\\ITSC_instance_paper\\Results\\Chicago\\start_18-00\\duration_960_min\\max_delay_10_min\\vga\n",
      "12:04:02 [INFO] Loading occupancy stats in C:\\Google Drive\\AIC Experiment Data\\DARP\\ITSC_instance_paper\\Results\\DC\n",
      "12:04:02 [INFO] Loading json file from: C:\\Google Drive\\AIC Experiment Data\\DARP\\ITSC_instance_paper\\Results\\DC\\start_18-00\\duration_005_min\\max_delay_03_min\\halns\\config.yaml-performance.json\n",
      "12:04:02 [INFO] Loading json file from: C:\\Google Drive\\AIC Experiment Data\\DARP\\ITSC_instance_paper\\Results\\DC\\start_18-00\\duration_005_min\\max_delay_03_min\\halns\\config.yaml-solution.json\n",
      "12:04:02 [INFO] Loading experiment config from C:\\Google Drive\\AIC Experiment Data\\DARP\\ITSC_instance_paper\\Results\\DC\\start_18-00\\duration_005_min\\max_delay_03_min\\halns\\config.yaml\n",
      "12:04:02 [INFO] Loading instance config from C:\\Google Drive\\AIC Experiment Data\\DARP\\ITSC_instance_paper\\Instances\\DC\\instances\\start_18-00\\duration_005_min\\max_delay_03_min\\config.yaml\n",
      "12:04:02 [INFO] Loading json file from: C:\\Google Drive\\AIC Experiment Data\\DARP\\ITSC_instance_paper\\Results\\DC\\start_18-00\\duration_005_min\\max_delay_03_min\\halns-ih\\config.yaml-performance.json\n",
      "12:04:02 [INFO] Loading json file from: C:\\Google Drive\\AIC Experiment Data\\DARP\\ITSC_instance_paper\\Results\\DC\\start_18-00\\duration_005_min\\max_delay_03_min\\halns-ih\\config.yaml-solution.json\n",
      "12:04:02 [INFO] Loading experiment config from C:\\Google Drive\\AIC Experiment Data\\DARP\\ITSC_instance_paper\\Results\\DC\\start_18-00\\duration_005_min\\max_delay_03_min\\halns-ih\\config.yaml\n",
      "12:04:02 [INFO] Loading instance config from C:\\Google Drive\\AIC Experiment Data\\DARP\\ITSC_instance_paper\\Instances\\DC\\instances\\start_18-00\\duration_005_min\\max_delay_03_min\\config.yaml\n",
      "12:04:02 [INFO] Loading json file from: C:\\Google Drive\\AIC Experiment Data\\DARP\\ITSC_instance_paper\\Results\\DC\\start_18-00\\duration_005_min\\max_delay_03_min\\ih\\config.yaml-performance.json\n",
      "12:04:02 [INFO] Loading json file from: C:\\Google Drive\\AIC Experiment Data\\DARP\\ITSC_instance_paper\\Results\\DC\\start_18-00\\duration_005_min\\max_delay_03_min\\ih\\config.yaml-solution.json\n",
      "12:04:02 [INFO] Loading experiment config from C:\\Google Drive\\AIC Experiment Data\\DARP\\ITSC_instance_paper\\Results\\DC\\start_18-00\\duration_005_min\\max_delay_03_min\\ih\\config.yaml\n",
      "12:04:02 [INFO] Loading instance config from C:\\Google Drive\\AIC Experiment Data\\DARP\\ITSC_instance_paper\\Instances\\DC\\instances\\start_18-00\\duration_005_min\\max_delay_03_min\\config.yaml\n",
      "12:04:02 [INFO] Loading json file from: C:\\Google Drive\\AIC Experiment Data\\DARP\\ITSC_instance_paper\\Results\\DC\\start_18-00\\duration_005_min\\max_delay_03_min\\vga\\config.yaml-performance.json\n",
      "12:04:02 [INFO] Loading json file from: C:\\Google Drive\\AIC Experiment Data\\DARP\\ITSC_instance_paper\\Results\\DC\\start_18-00\\duration_005_min\\max_delay_03_min\\vga\\config.yaml-solution.json\n",
      "12:04:02 [INFO] Loading experiment config from C:\\Google Drive\\AIC Experiment Data\\DARP\\ITSC_instance_paper\\Results\\DC\\start_18-00\\duration_005_min\\max_delay_03_min\\vga\\config.yaml\n",
      "12:04:02 [INFO] Loading instance config from C:\\Google Drive\\AIC Experiment Data\\DARP\\ITSC_instance_paper\\Instances\\DC\\instances\\start_18-00\\duration_005_min\\max_delay_03_min\\config.yaml\n",
      "12:04:02 [INFO] Loading json file from: C:\\Google Drive\\AIC Experiment Data\\DARP\\ITSC_instance_paper\\Results\\DC\\start_18-00\\duration_005_min\\max_delay_05_min\\halns\\config.yaml-performance.json\n",
      "12:04:02 [INFO] Loading json file from: C:\\Google Drive\\AIC Experiment Data\\DARP\\ITSC_instance_paper\\Results\\DC\\start_18-00\\duration_005_min\\max_delay_05_min\\halns\\config.yaml-solution.json\n",
      "12:04:02 [INFO] Loading experiment config from C:\\Google Drive\\AIC Experiment Data\\DARP\\ITSC_instance_paper\\Results\\DC\\start_18-00\\duration_005_min\\max_delay_05_min\\halns\\config.yaml\n",
      "12:04:02 [INFO] Loading instance config from C:\\Google Drive\\AIC Experiment Data\\DARP\\ITSC_instance_paper\\Instances\\DC\\instances\\start_18-00\\duration_005_min\\max_delay_05_min\\config.yaml\n",
      "12:04:02 [INFO] Loading json file from: C:\\Google Drive\\AIC Experiment Data\\DARP\\ITSC_instance_paper\\Results\\DC\\start_18-00\\duration_005_min\\max_delay_05_min\\halns-ih\\config.yaml-performance.json\n",
      "12:04:02 [INFO] Loading json file from: C:\\Google Drive\\AIC Experiment Data\\DARP\\ITSC_instance_paper\\Results\\DC\\start_18-00\\duration_005_min\\max_delay_05_min\\halns-ih\\config.yaml-solution.json\n",
      "12:04:02 [INFO] Loading experiment config from C:\\Google Drive\\AIC Experiment Data\\DARP\\ITSC_instance_paper\\Results\\DC\\start_18-00\\duration_005_min\\max_delay_05_min\\halns-ih\\config.yaml\n",
      "12:04:02 [INFO] Loading instance config from C:\\Google Drive\\AIC Experiment Data\\DARP\\ITSC_instance_paper\\Instances\\DC\\instances\\start_18-00\\duration_005_min\\max_delay_05_min\\config.yaml\n",
      "12:04:02 [INFO] Loading json file from: C:\\Google Drive\\AIC Experiment Data\\DARP\\ITSC_instance_paper\\Results\\DC\\start_18-00\\duration_005_min\\max_delay_05_min\\ih\\config.yaml-performance.json\n",
      "12:04:02 [INFO] Loading json file from: C:\\Google Drive\\AIC Experiment Data\\DARP\\ITSC_instance_paper\\Results\\DC\\start_18-00\\duration_005_min\\max_delay_05_min\\ih\\config.yaml-solution.json\n",
      "12:04:02 [INFO] Loading experiment config from C:\\Google Drive\\AIC Experiment Data\\DARP\\ITSC_instance_paper\\Results\\DC\\start_18-00\\duration_005_min\\max_delay_05_min\\ih\\config.yaml\n",
      "12:04:02 [INFO] Loading instance config from C:\\Google Drive\\AIC Experiment Data\\DARP\\ITSC_instance_paper\\Instances\\DC\\instances\\start_18-00\\duration_005_min\\max_delay_05_min\\config.yaml\n",
      "12:04:02 [INFO] Loading json file from: C:\\Google Drive\\AIC Experiment Data\\DARP\\ITSC_instance_paper\\Results\\DC\\start_18-00\\duration_005_min\\max_delay_05_min\\vga\\config.yaml-performance.json\n",
      "12:04:02 [INFO] Loading json file from: C:\\Google Drive\\AIC Experiment Data\\DARP\\ITSC_instance_paper\\Results\\DC\\start_18-00\\duration_005_min\\max_delay_05_min\\vga\\config.yaml-solution.json\n",
      "12:04:02 [INFO] Loading experiment config from C:\\Google Drive\\AIC Experiment Data\\DARP\\ITSC_instance_paper\\Results\\DC\\start_18-00\\duration_005_min\\max_delay_05_min\\vga\\config.yaml\n",
      "12:04:02 [INFO] Loading instance config from C:\\Google Drive\\AIC Experiment Data\\DARP\\ITSC_instance_paper\\Instances\\DC\\instances\\start_18-00\\duration_005_min\\max_delay_05_min\\config.yaml\n",
      "12:04:02 [INFO] Loading json file from: C:\\Google Drive\\AIC Experiment Data\\DARP\\ITSC_instance_paper\\Results\\DC\\start_18-00\\duration_005_min\\max_delay_10_min\\halns\\config.yaml-performance.json\n",
      "12:04:02 [INFO] Loading json file from: C:\\Google Drive\\AIC Experiment Data\\DARP\\ITSC_instance_paper\\Results\\DC\\start_18-00\\duration_005_min\\max_delay_10_min\\halns\\config.yaml-solution.json\n",
      "12:04:02 [INFO] Loading experiment config from C:\\Google Drive\\AIC Experiment Data\\DARP\\ITSC_instance_paper\\Results\\DC\\start_18-00\\duration_005_min\\max_delay_10_min\\halns\\config.yaml\n",
      "12:04:02 [INFO] Loading instance config from C:\\Google Drive\\AIC Experiment Data\\DARP\\ITSC_instance_paper\\Instances\\DC\\instances\\start_18-00\\duration_005_min\\max_delay_10_min\\config.yaml\n",
      "12:04:02 [INFO] Loading json file from: C:\\Google Drive\\AIC Experiment Data\\DARP\\ITSC_instance_paper\\Results\\DC\\start_18-00\\duration_005_min\\max_delay_10_min\\halns-ih\\config.yaml-performance.json\n",
      "12:04:02 [INFO] Loading json file from: C:\\Google Drive\\AIC Experiment Data\\DARP\\ITSC_instance_paper\\Results\\DC\\start_18-00\\duration_005_min\\max_delay_10_min\\halns-ih\\config.yaml-solution.json\n",
      "12:04:02 [INFO] Loading experiment config from C:\\Google Drive\\AIC Experiment Data\\DARP\\ITSC_instance_paper\\Results\\DC\\start_18-00\\duration_005_min\\max_delay_10_min\\halns-ih\\config.yaml\n",
      "12:04:02 [INFO] Loading instance config from C:\\Google Drive\\AIC Experiment Data\\DARP\\ITSC_instance_paper\\Instances\\DC\\instances\\start_18-00\\duration_005_min\\max_delay_10_min\\config.yaml\n",
      "12:04:02 [INFO] Loading json file from: C:\\Google Drive\\AIC Experiment Data\\DARP\\ITSC_instance_paper\\Results\\DC\\start_18-00\\duration_005_min\\max_delay_10_min\\ih\\config.yaml-performance.json\n",
      "12:04:02 [INFO] Loading json file from: C:\\Google Drive\\AIC Experiment Data\\DARP\\ITSC_instance_paper\\Results\\DC\\start_18-00\\duration_005_min\\max_delay_10_min\\ih\\config.yaml-solution.json\n",
      "12:04:02 [INFO] Loading experiment config from C:\\Google Drive\\AIC Experiment Data\\DARP\\ITSC_instance_paper\\Results\\DC\\start_18-00\\duration_005_min\\max_delay_10_min\\ih\\config.yaml\n",
      "12:04:02 [INFO] Loading instance config from C:\\Google Drive\\AIC Experiment Data\\DARP\\ITSC_instance_paper\\Instances\\DC\\instances\\start_18-00\\duration_005_min\\max_delay_10_min\\config.yaml\n",
      "12:04:02 [WARNING] No solution found in folder: C:\\Google Drive\\AIC Experiment Data\\DARP\\ITSC_instance_paper\\Results\\DC\\start_18-00\\duration_005_min\\max_delay_10_min\\vga\n",
      "12:04:02 [WARNING] No solution found in folder: C:\\Google Drive\\AIC Experiment Data\\DARP\\ITSC_instance_paper\\Results\\DC\\start_18-00\\duration_015_min\\max_delay_03_min\\halns\n",
      "12:04:02 [INFO] Loading json file from: C:\\Google Drive\\AIC Experiment Data\\DARP\\ITSC_instance_paper\\Results\\DC\\start_18-00\\duration_015_min\\max_delay_03_min\\halns-ih\\config.yaml-performance.json\n",
      "12:04:02 [INFO] Loading json file from: C:\\Google Drive\\AIC Experiment Data\\DARP\\ITSC_instance_paper\\Results\\DC\\start_18-00\\duration_015_min\\max_delay_03_min\\halns-ih\\config.yaml-solution.json\n",
      "12:04:02 [INFO] Loading experiment config from C:\\Google Drive\\AIC Experiment Data\\DARP\\ITSC_instance_paper\\Results\\DC\\start_18-00\\duration_015_min\\max_delay_03_min\\halns-ih\\config.yaml\n",
      "12:04:02 [INFO] Loading instance config from C:\\Google Drive\\AIC Experiment Data\\DARP\\ITSC_instance_paper\\Instances\\DC\\instances\\start_18-00\\duration_015_min\\max_delay_03_min\\config.yaml\n",
      "12:04:02 [INFO] Loading json file from: C:\\Google Drive\\AIC Experiment Data\\DARP\\ITSC_instance_paper\\Results\\DC\\start_18-00\\duration_015_min\\max_delay_03_min\\ih\\config.yaml-performance.json\n",
      "12:04:02 [INFO] Loading json file from: C:\\Google Drive\\AIC Experiment Data\\DARP\\ITSC_instance_paper\\Results\\DC\\start_18-00\\duration_015_min\\max_delay_03_min\\ih\\config.yaml-solution.json\n",
      "12:04:02 [INFO] Loading experiment config from C:\\Google Drive\\AIC Experiment Data\\DARP\\ITSC_instance_paper\\Results\\DC\\start_18-00\\duration_015_min\\max_delay_03_min\\ih\\config.yaml\n",
      "12:04:02 [INFO] Loading instance config from C:\\Google Drive\\AIC Experiment Data\\DARP\\ITSC_instance_paper\\Instances\\DC\\instances\\start_18-00\\duration_015_min\\max_delay_03_min\\config.yaml\n",
      "12:04:02 [WARNING] No solution found in folder: C:\\Google Drive\\AIC Experiment Data\\DARP\\ITSC_instance_paper\\Results\\DC\\start_18-00\\duration_015_min\\max_delay_03_min\\vga\n",
      "12:04:02 [INFO] Loading json file from: C:\\Google Drive\\AIC Experiment Data\\DARP\\ITSC_instance_paper\\Results\\DC\\start_18-00\\duration_015_min\\max_delay_05_min\\halns\\config.yaml-performance.json\n",
      "12:04:02 [INFO] Loading json file from: C:\\Google Drive\\AIC Experiment Data\\DARP\\ITSC_instance_paper\\Results\\DC\\start_18-00\\duration_015_min\\max_delay_05_min\\halns\\config.yaml-solution.json\n",
      "12:04:02 [INFO] Loading experiment config from C:\\Google Drive\\AIC Experiment Data\\DARP\\ITSC_instance_paper\\Results\\DC\\start_18-00\\duration_015_min\\max_delay_05_min\\halns\\config.yaml\n",
      "12:04:02 [INFO] Loading instance config from C:\\Google Drive\\AIC Experiment Data\\DARP\\ITSC_instance_paper\\Instances\\DC\\instances\\start_18-00\\duration_015_min\\max_delay_05_min\\config.yaml\n",
      "12:04:02 [INFO] Loading json file from: C:\\Google Drive\\AIC Experiment Data\\DARP\\ITSC_instance_paper\\Results\\DC\\start_18-00\\duration_015_min\\max_delay_05_min\\halns-ih\\config.yaml-performance.json\n",
      "12:04:02 [INFO] Loading json file from: C:\\Google Drive\\AIC Experiment Data\\DARP\\ITSC_instance_paper\\Results\\DC\\start_18-00\\duration_015_min\\max_delay_05_min\\halns-ih\\config.yaml-solution.json\n",
      "12:04:02 [INFO] Loading experiment config from C:\\Google Drive\\AIC Experiment Data\\DARP\\ITSC_instance_paper\\Results\\DC\\start_18-00\\duration_015_min\\max_delay_05_min\\halns-ih\\config.yaml\n",
      "12:04:02 [INFO] Loading instance config from C:\\Google Drive\\AIC Experiment Data\\DARP\\ITSC_instance_paper\\Instances\\DC\\instances\\start_18-00\\duration_015_min\\max_delay_05_min\\config.yaml\n",
      "12:04:02 [INFO] Loading json file from: C:\\Google Drive\\AIC Experiment Data\\DARP\\ITSC_instance_paper\\Results\\DC\\start_18-00\\duration_015_min\\max_delay_05_min\\ih\\config.yaml-performance.json\n",
      "12:04:02 [INFO] Loading json file from: C:\\Google Drive\\AIC Experiment Data\\DARP\\ITSC_instance_paper\\Results\\DC\\start_18-00\\duration_015_min\\max_delay_05_min\\ih\\config.yaml-solution.json\n",
      "12:04:02 [INFO] Loading experiment config from C:\\Google Drive\\AIC Experiment Data\\DARP\\ITSC_instance_paper\\Results\\DC\\start_18-00\\duration_015_min\\max_delay_05_min\\ih\\config.yaml\n",
      "12:04:02 [INFO] Loading instance config from C:\\Google Drive\\AIC Experiment Data\\DARP\\ITSC_instance_paper\\Instances\\DC\\instances\\start_18-00\\duration_015_min\\max_delay_05_min\\config.yaml\n",
      "12:04:02 [WARNING] No solution found in folder: C:\\Google Drive\\AIC Experiment Data\\DARP\\ITSC_instance_paper\\Results\\DC\\start_18-00\\duration_015_min\\max_delay_05_min\\vga\n",
      "12:04:02 [INFO] Loading json file from: C:\\Google Drive\\AIC Experiment Data\\DARP\\ITSC_instance_paper\\Results\\DC\\start_18-00\\duration_015_min\\max_delay_10_min\\halns\\config.yaml-performance.json\n",
      "12:04:02 [INFO] Loading json file from: C:\\Google Drive\\AIC Experiment Data\\DARP\\ITSC_instance_paper\\Results\\DC\\start_18-00\\duration_015_min\\max_delay_10_min\\halns\\config.yaml-solution.json\n",
      "12:04:02 [INFO] Loading experiment config from C:\\Google Drive\\AIC Experiment Data\\DARP\\ITSC_instance_paper\\Results\\DC\\start_18-00\\duration_015_min\\max_delay_10_min\\halns\\config.yaml\n",
      "12:04:02 [INFO] Loading instance config from C:\\Google Drive\\AIC Experiment Data\\DARP\\ITSC_instance_paper\\Instances\\DC\\instances\\start_18-00\\duration_015_min\\max_delay_10_min\\config.yaml\n",
      "12:04:02 [INFO] Loading json file from: C:\\Google Drive\\AIC Experiment Data\\DARP\\ITSC_instance_paper\\Results\\DC\\start_18-00\\duration_015_min\\max_delay_10_min\\halns-ih\\config.yaml-performance.json\n",
      "12:04:02 [INFO] Loading json file from: C:\\Google Drive\\AIC Experiment Data\\DARP\\ITSC_instance_paper\\Results\\DC\\start_18-00\\duration_015_min\\max_delay_10_min\\halns-ih\\config.yaml-solution.json\n",
      "12:04:02 [INFO] Loading experiment config from C:\\Google Drive\\AIC Experiment Data\\DARP\\ITSC_instance_paper\\Results\\DC\\start_18-00\\duration_015_min\\max_delay_10_min\\halns-ih\\config.yaml\n",
      "12:04:02 [INFO] Loading instance config from C:\\Google Drive\\AIC Experiment Data\\DARP\\ITSC_instance_paper\\Instances\\DC\\instances\\start_18-00\\duration_015_min\\max_delay_10_min\\config.yaml\n",
      "12:04:02 [INFO] Loading json file from: C:\\Google Drive\\AIC Experiment Data\\DARP\\ITSC_instance_paper\\Results\\DC\\start_18-00\\duration_015_min\\max_delay_10_min\\ih\\config.yaml-performance.json\n",
      "12:04:02 [INFO] Loading json file from: C:\\Google Drive\\AIC Experiment Data\\DARP\\ITSC_instance_paper\\Results\\DC\\start_18-00\\duration_015_min\\max_delay_10_min\\ih\\config.yaml-solution.json\n",
      "12:04:02 [INFO] Loading experiment config from C:\\Google Drive\\AIC Experiment Data\\DARP\\ITSC_instance_paper\\Results\\DC\\start_18-00\\duration_015_min\\max_delay_10_min\\ih\\config.yaml\n",
      "12:04:02 [INFO] Loading instance config from C:\\Google Drive\\AIC Experiment Data\\DARP\\ITSC_instance_paper\\Instances\\DC\\instances\\start_18-00\\duration_015_min\\max_delay_10_min\\config.yaml\n",
      "12:04:02 [WARNING] No solution found in folder: C:\\Google Drive\\AIC Experiment Data\\DARP\\ITSC_instance_paper\\Results\\DC\\start_18-00\\duration_015_min\\max_delay_10_min\\vga\n",
      "12:04:02 [INFO] Loading json file from: C:\\Google Drive\\AIC Experiment Data\\DARP\\ITSC_instance_paper\\Results\\DC\\start_18-00\\duration_030_min\\max_delay_03_min\\halns\\config.yaml-performance.json\n",
      "12:04:02 [INFO] Loading json file from: C:\\Google Drive\\AIC Experiment Data\\DARP\\ITSC_instance_paper\\Results\\DC\\start_18-00\\duration_030_min\\max_delay_03_min\\halns\\config.yaml-solution.json\n",
      "12:04:02 [INFO] Loading experiment config from C:\\Google Drive\\AIC Experiment Data\\DARP\\ITSC_instance_paper\\Results\\DC\\start_18-00\\duration_030_min\\max_delay_03_min\\halns\\config.yaml\n",
      "12:04:02 [INFO] Loading instance config from C:\\Google Drive\\AIC Experiment Data\\DARP\\ITSC_instance_paper\\Instances\\DC\\instances\\start_18-00\\duration_030_min\\max_delay_03_min\\config.yaml\n",
      "12:04:02 [INFO] Loading json file from: C:\\Google Drive\\AIC Experiment Data\\DARP\\ITSC_instance_paper\\Results\\DC\\start_18-00\\duration_030_min\\max_delay_03_min\\halns-ih\\config.yaml-performance.json\n",
      "12:04:02 [INFO] Loading json file from: C:\\Google Drive\\AIC Experiment Data\\DARP\\ITSC_instance_paper\\Results\\DC\\start_18-00\\duration_030_min\\max_delay_03_min\\halns-ih\\config.yaml-solution.json\n",
      "12:04:02 [INFO] Loading experiment config from C:\\Google Drive\\AIC Experiment Data\\DARP\\ITSC_instance_paper\\Results\\DC\\start_18-00\\duration_030_min\\max_delay_03_min\\halns-ih\\config.yaml\n",
      "12:04:02 [INFO] Loading instance config from C:\\Google Drive\\AIC Experiment Data\\DARP\\ITSC_instance_paper\\Instances\\DC\\instances\\start_18-00\\duration_030_min\\max_delay_03_min\\config.yaml\n",
      "12:04:02 [INFO] Loading json file from: C:\\Google Drive\\AIC Experiment Data\\DARP\\ITSC_instance_paper\\Results\\DC\\start_18-00\\duration_030_min\\max_delay_03_min\\ih\\config.yaml-performance.json\n",
      "12:04:02 [INFO] Loading json file from: C:\\Google Drive\\AIC Experiment Data\\DARP\\ITSC_instance_paper\\Results\\DC\\start_18-00\\duration_030_min\\max_delay_03_min\\ih\\config.yaml-solution.json\n",
      "12:04:02 [INFO] Loading experiment config from C:\\Google Drive\\AIC Experiment Data\\DARP\\ITSC_instance_paper\\Results\\DC\\start_18-00\\duration_030_min\\max_delay_03_min\\ih\\config.yaml\n",
      "12:04:02 [INFO] Loading instance config from C:\\Google Drive\\AIC Experiment Data\\DARP\\ITSC_instance_paper\\Instances\\DC\\instances\\start_18-00\\duration_030_min\\max_delay_03_min\\config.yaml\n",
      "12:04:02 [WARNING] No solution found in folder: C:\\Google Drive\\AIC Experiment Data\\DARP\\ITSC_instance_paper\\Results\\DC\\start_18-00\\duration_030_min\\max_delay_03_min\\vga\n",
      "12:04:02 [INFO] Loading json file from: C:\\Google Drive\\AIC Experiment Data\\DARP\\ITSC_instance_paper\\Results\\DC\\start_18-00\\duration_030_min\\max_delay_05_min\\halns\\config.yaml-performance.json\n",
      "12:04:02 [INFO] Loading json file from: C:\\Google Drive\\AIC Experiment Data\\DARP\\ITSC_instance_paper\\Results\\DC\\start_18-00\\duration_030_min\\max_delay_05_min\\halns\\config.yaml-solution.json\n",
      "12:04:02 [INFO] Loading experiment config from C:\\Google Drive\\AIC Experiment Data\\DARP\\ITSC_instance_paper\\Results\\DC\\start_18-00\\duration_030_min\\max_delay_05_min\\halns\\config.yaml\n",
      "12:04:02 [INFO] Loading instance config from C:\\Google Drive\\AIC Experiment Data\\DARP\\ITSC_instance_paper\\Instances\\DC\\instances\\start_18-00\\duration_030_min\\max_delay_05_min\\config.yaml\n",
      "12:04:02 [INFO] Loading json file from: C:\\Google Drive\\AIC Experiment Data\\DARP\\ITSC_instance_paper\\Results\\DC\\start_18-00\\duration_030_min\\max_delay_05_min\\halns-ih\\config.yaml-performance.json\n",
      "12:04:02 [INFO] Loading json file from: C:\\Google Drive\\AIC Experiment Data\\DARP\\ITSC_instance_paper\\Results\\DC\\start_18-00\\duration_030_min\\max_delay_05_min\\halns-ih\\config.yaml-solution.json\n",
      "12:04:02 [INFO] Loading experiment config from C:\\Google Drive\\AIC Experiment Data\\DARP\\ITSC_instance_paper\\Results\\DC\\start_18-00\\duration_030_min\\max_delay_05_min\\halns-ih\\config.yaml\n",
      "12:04:02 [INFO] Loading instance config from C:\\Google Drive\\AIC Experiment Data\\DARP\\ITSC_instance_paper\\Instances\\DC\\instances\\start_18-00\\duration_030_min\\max_delay_05_min\\config.yaml\n",
      "12:04:02 [INFO] Loading json file from: C:\\Google Drive\\AIC Experiment Data\\DARP\\ITSC_instance_paper\\Results\\DC\\start_18-00\\duration_030_min\\max_delay_05_min\\ih\\config.yaml-performance.json\n",
      "12:04:02 [INFO] Loading json file from: C:\\Google Drive\\AIC Experiment Data\\DARP\\ITSC_instance_paper\\Results\\DC\\start_18-00\\duration_030_min\\max_delay_05_min\\ih\\config.yaml-solution.json\n",
      "12:04:02 [INFO] Loading experiment config from C:\\Google Drive\\AIC Experiment Data\\DARP\\ITSC_instance_paper\\Results\\DC\\start_18-00\\duration_030_min\\max_delay_05_min\\ih\\config.yaml\n",
      "12:04:02 [INFO] Loading instance config from C:\\Google Drive\\AIC Experiment Data\\DARP\\ITSC_instance_paper\\Instances\\DC\\instances\\start_18-00\\duration_030_min\\max_delay_05_min\\config.yaml\n",
      "12:04:02 [WARNING] No solution found in folder: C:\\Google Drive\\AIC Experiment Data\\DARP\\ITSC_instance_paper\\Results\\DC\\start_18-00\\duration_030_min\\max_delay_05_min\\vga\n",
      "12:04:02 [WARNING] No solution found in folder: C:\\Google Drive\\AIC Experiment Data\\DARP\\ITSC_instance_paper\\Results\\DC\\start_18-00\\duration_030_min\\max_delay_10_min\\halns\n",
      "12:04:02 [INFO] Loading json file from: C:\\Google Drive\\AIC Experiment Data\\DARP\\ITSC_instance_paper\\Results\\DC\\start_18-00\\duration_030_min\\max_delay_10_min\\halns-ih\\config.yaml-performance.json\n",
      "12:04:02 [INFO] Loading json file from: C:\\Google Drive\\AIC Experiment Data\\DARP\\ITSC_instance_paper\\Results\\DC\\start_18-00\\duration_030_min\\max_delay_10_min\\halns-ih\\config.yaml-solution.json\n",
      "12:04:02 [INFO] Loading experiment config from C:\\Google Drive\\AIC Experiment Data\\DARP\\ITSC_instance_paper\\Results\\DC\\start_18-00\\duration_030_min\\max_delay_10_min\\halns-ih\\config.yaml\n",
      "12:04:02 [INFO] Loading instance config from C:\\Google Drive\\AIC Experiment Data\\DARP\\ITSC_instance_paper\\Instances\\DC\\instances\\start_18-00\\duration_030_min\\max_delay_10_min\\config.yaml\n",
      "12:04:02 [INFO] Loading json file from: C:\\Google Drive\\AIC Experiment Data\\DARP\\ITSC_instance_paper\\Results\\DC\\start_18-00\\duration_030_min\\max_delay_10_min\\ih\\config.yaml-performance.json\n",
      "12:04:02 [INFO] Loading json file from: C:\\Google Drive\\AIC Experiment Data\\DARP\\ITSC_instance_paper\\Results\\DC\\start_18-00\\duration_030_min\\max_delay_10_min\\ih\\config.yaml-solution.json\n",
      "12:04:02 [INFO] Loading experiment config from C:\\Google Drive\\AIC Experiment Data\\DARP\\ITSC_instance_paper\\Results\\DC\\start_18-00\\duration_030_min\\max_delay_10_min\\ih\\config.yaml\n",
      "12:04:02 [INFO] Loading instance config from C:\\Google Drive\\AIC Experiment Data\\DARP\\ITSC_instance_paper\\Instances\\DC\\instances\\start_18-00\\duration_030_min\\max_delay_10_min\\config.yaml\n",
      "12:04:02 [WARNING] No solution found in folder: C:\\Google Drive\\AIC Experiment Data\\DARP\\ITSC_instance_paper\\Results\\DC\\start_18-00\\duration_030_min\\max_delay_10_min\\vga\n",
      "12:04:02 [WARNING] No solution found in folder: C:\\Google Drive\\AIC Experiment Data\\DARP\\ITSC_instance_paper\\Results\\DC\\start_18-00\\duration_120_min\\max_delay_03_min\\halns\n",
      "12:04:02 [INFO] Loading json file from: C:\\Google Drive\\AIC Experiment Data\\DARP\\ITSC_instance_paper\\Results\\DC\\start_18-00\\duration_120_min\\max_delay_03_min\\halns-ih\\config.yaml-performance.json\n",
      "12:04:02 [INFO] Loading json file from: C:\\Google Drive\\AIC Experiment Data\\DARP\\ITSC_instance_paper\\Results\\DC\\start_18-00\\duration_120_min\\max_delay_03_min\\halns-ih\\config.yaml-solution.json\n",
      "12:04:02 [INFO] Loading experiment config from C:\\Google Drive\\AIC Experiment Data\\DARP\\ITSC_instance_paper\\Results\\DC\\start_18-00\\duration_120_min\\max_delay_03_min\\halns-ih\\config.yaml\n",
      "12:04:02 [INFO] Loading instance config from C:\\Google Drive\\AIC Experiment Data\\DARP\\ITSC_instance_paper\\Instances\\DC\\instances\\start_18-00\\duration_120_min\\max_delay_03_min\\config.yaml\n",
      "12:04:02 [INFO] Loading json file from: C:\\Google Drive\\AIC Experiment Data\\DARP\\ITSC_instance_paper\\Results\\DC\\start_18-00\\duration_120_min\\max_delay_03_min\\ih\\config.yaml-performance.json\n",
      "12:04:02 [INFO] Loading json file from: C:\\Google Drive\\AIC Experiment Data\\DARP\\ITSC_instance_paper\\Results\\DC\\start_18-00\\duration_120_min\\max_delay_03_min\\ih\\config.yaml-solution.json\n",
      "12:04:02 [INFO] Loading experiment config from C:\\Google Drive\\AIC Experiment Data\\DARP\\ITSC_instance_paper\\Results\\DC\\start_18-00\\duration_120_min\\max_delay_03_min\\ih\\config.yaml\n",
      "12:04:02 [INFO] Loading instance config from C:\\Google Drive\\AIC Experiment Data\\DARP\\ITSC_instance_paper\\Instances\\DC\\instances\\start_18-00\\duration_120_min\\max_delay_03_min\\config.yaml\n",
      "12:04:02 [WARNING] No solution found in folder: C:\\Google Drive\\AIC Experiment Data\\DARP\\ITSC_instance_paper\\Results\\DC\\start_18-00\\duration_120_min\\max_delay_03_min\\vga\n",
      "12:04:02 [WARNING] No solution found in folder: C:\\Google Drive\\AIC Experiment Data\\DARP\\ITSC_instance_paper\\Results\\DC\\start_18-00\\duration_120_min\\max_delay_05_min\\halns\n",
      "12:04:02 [INFO] Loading json file from: C:\\Google Drive\\AIC Experiment Data\\DARP\\ITSC_instance_paper\\Results\\DC\\start_18-00\\duration_120_min\\max_delay_05_min\\halns-ih\\config.yaml-performance.json\n",
      "12:04:02 [INFO] Loading json file from: C:\\Google Drive\\AIC Experiment Data\\DARP\\ITSC_instance_paper\\Results\\DC\\start_18-00\\duration_120_min\\max_delay_05_min\\halns-ih\\config.yaml-solution.json\n",
      "12:04:02 [INFO] Loading experiment config from C:\\Google Drive\\AIC Experiment Data\\DARP\\ITSC_instance_paper\\Results\\DC\\start_18-00\\duration_120_min\\max_delay_05_min\\halns-ih\\config.yaml\n",
      "12:04:02 [INFO] Loading instance config from C:\\Google Drive\\AIC Experiment Data\\DARP\\ITSC_instance_paper\\Instances\\DC\\instances\\start_18-00\\duration_120_min\\max_delay_05_min\\config.yaml\n",
      "12:04:02 [INFO] Loading json file from: C:\\Google Drive\\AIC Experiment Data\\DARP\\ITSC_instance_paper\\Results\\DC\\start_18-00\\duration_120_min\\max_delay_05_min\\ih\\config.yaml-performance.json\n",
      "12:04:02 [INFO] Loading json file from: C:\\Google Drive\\AIC Experiment Data\\DARP\\ITSC_instance_paper\\Results\\DC\\start_18-00\\duration_120_min\\max_delay_05_min\\ih\\config.yaml-solution.json\n",
      "12:04:02 [INFO] Loading experiment config from C:\\Google Drive\\AIC Experiment Data\\DARP\\ITSC_instance_paper\\Results\\DC\\start_18-00\\duration_120_min\\max_delay_05_min\\ih\\config.yaml\n",
      "12:04:02 [INFO] Loading instance config from C:\\Google Drive\\AIC Experiment Data\\DARP\\ITSC_instance_paper\\Instances\\DC\\instances\\start_18-00\\duration_120_min\\max_delay_05_min\\config.yaml\n",
      "12:04:02 [WARNING] No solution found in folder: C:\\Google Drive\\AIC Experiment Data\\DARP\\ITSC_instance_paper\\Results\\DC\\start_18-00\\duration_120_min\\max_delay_05_min\\vga\n",
      "12:04:02 [WARNING] No solution found in folder: C:\\Google Drive\\AIC Experiment Data\\DARP\\ITSC_instance_paper\\Results\\DC\\start_18-00\\duration_120_min\\max_delay_10_min\\halns\n",
      "12:04:02 [WARNING] No solution found in folder: C:\\Google Drive\\AIC Experiment Data\\DARP\\ITSC_instance_paper\\Results\\DC\\start_18-00\\duration_120_min\\max_delay_10_min\\halns-ih\n",
      "12:04:02 [INFO] Loading json file from: C:\\Google Drive\\AIC Experiment Data\\DARP\\ITSC_instance_paper\\Results\\DC\\start_18-00\\duration_120_min\\max_delay_10_min\\ih\\config.yaml-performance.json\n",
      "12:04:02 [INFO] Loading json file from: C:\\Google Drive\\AIC Experiment Data\\DARP\\ITSC_instance_paper\\Results\\DC\\start_18-00\\duration_120_min\\max_delay_10_min\\ih\\config.yaml-solution.json\n",
      "12:04:02 [INFO] Loading experiment config from C:\\Google Drive\\AIC Experiment Data\\DARP\\ITSC_instance_paper\\Results\\DC\\start_18-00\\duration_120_min\\max_delay_10_min\\ih\\config.yaml\n",
      "12:04:02 [INFO] Loading instance config from C:\\Google Drive\\AIC Experiment Data\\DARP\\ITSC_instance_paper\\Instances\\DC\\instances\\start_18-00\\duration_120_min\\max_delay_10_min\\config.yaml\n",
      "12:04:02 [WARNING] No solution found in folder: C:\\Google Drive\\AIC Experiment Data\\DARP\\ITSC_instance_paper\\Results\\DC\\start_18-00\\duration_120_min\\max_delay_10_min\\vga\n",
      "12:04:02 [WARNING] No solution found in folder: C:\\Google Drive\\AIC Experiment Data\\DARP\\ITSC_instance_paper\\Results\\DC\\start_18-00\\duration_960_min\\max_delay_03_min\\halns\n",
      "12:04:02 [INFO] Loading json file from: C:\\Google Drive\\AIC Experiment Data\\DARP\\ITSC_instance_paper\\Results\\DC\\start_18-00\\duration_960_min\\max_delay_03_min\\halns-ih\\config.yaml-performance.json\n",
      "12:04:02 [INFO] Loading json file from: C:\\Google Drive\\AIC Experiment Data\\DARP\\ITSC_instance_paper\\Results\\DC\\start_18-00\\duration_960_min\\max_delay_03_min\\halns-ih\\config.yaml-solution.json\n",
      "12:04:02 [INFO] Loading experiment config from C:\\Google Drive\\AIC Experiment Data\\DARP\\ITSC_instance_paper\\Results\\DC\\start_18-00\\duration_960_min\\max_delay_03_min\\halns-ih\\config.yaml\n",
      "12:04:02 [INFO] Loading instance config from C:\\Google Drive\\AIC Experiment Data\\DARP\\ITSC_instance_paper\\Instances\\DC\\instances\\start_18-00\\duration_960_min\\max_delay_03_min\\config.yaml\n",
      "12:04:02 [INFO] Loading json file from: C:\\Google Drive\\AIC Experiment Data\\DARP\\ITSC_instance_paper\\Results\\DC\\start_18-00\\duration_960_min\\max_delay_03_min\\ih\\config.yaml-performance.json\n",
      "12:04:02 [INFO] Loading json file from: C:\\Google Drive\\AIC Experiment Data\\DARP\\ITSC_instance_paper\\Results\\DC\\start_18-00\\duration_960_min\\max_delay_03_min\\ih\\config.yaml-solution.json\n",
      "12:04:03 [INFO] Loading experiment config from C:\\Google Drive\\AIC Experiment Data\\DARP\\ITSC_instance_paper\\Results\\DC\\start_18-00\\duration_960_min\\max_delay_03_min\\ih\\config.yaml\n",
      "12:04:03 [INFO] Loading instance config from C:\\Google Drive\\AIC Experiment Data\\DARP\\ITSC_instance_paper\\Instances\\DC\\instances\\start_18-00\\duration_960_min\\max_delay_03_min\\config.yaml\n",
      "12:04:03 [WARNING] No solution found in folder: C:\\Google Drive\\AIC Experiment Data\\DARP\\ITSC_instance_paper\\Results\\DC\\start_18-00\\duration_960_min\\max_delay_03_min\\vga\n",
      "12:04:03 [WARNING] No solution found in folder: C:\\Google Drive\\AIC Experiment Data\\DARP\\ITSC_instance_paper\\Results\\DC\\start_18-00\\duration_960_min\\max_delay_05_min\\halns\n",
      "12:04:03 [WARNING] No solution found in folder: C:\\Google Drive\\AIC Experiment Data\\DARP\\ITSC_instance_paper\\Results\\DC\\start_18-00\\duration_960_min\\max_delay_05_min\\halns-ih\n",
      "12:04:03 [INFO] Loading json file from: C:\\Google Drive\\AIC Experiment Data\\DARP\\ITSC_instance_paper\\Results\\DC\\start_18-00\\duration_960_min\\max_delay_05_min\\ih\\config.yaml-performance.json\n",
      "12:04:03 [INFO] Loading json file from: C:\\Google Drive\\AIC Experiment Data\\DARP\\ITSC_instance_paper\\Results\\DC\\start_18-00\\duration_960_min\\max_delay_05_min\\ih\\config.yaml-solution.json\n",
      "12:04:03 [INFO] Loading experiment config from C:\\Google Drive\\AIC Experiment Data\\DARP\\ITSC_instance_paper\\Results\\DC\\start_18-00\\duration_960_min\\max_delay_05_min\\ih\\config.yaml\n",
      "12:04:03 [INFO] Loading instance config from C:\\Google Drive\\AIC Experiment Data\\DARP\\ITSC_instance_paper\\Instances\\DC\\instances\\start_18-00\\duration_960_min\\max_delay_05_min\\config.yaml\n",
      "12:04:03 [WARNING] No solution found in folder: C:\\Google Drive\\AIC Experiment Data\\DARP\\ITSC_instance_paper\\Results\\DC\\start_18-00\\duration_960_min\\max_delay_05_min\\vga\n",
      "12:04:03 [WARNING] No solution found in folder: C:\\Google Drive\\AIC Experiment Data\\DARP\\ITSC_instance_paper\\Results\\DC\\start_18-00\\duration_960_min\\max_delay_10_min\\halns\n",
      "12:04:03 [WARNING] No solution found in folder: C:\\Google Drive\\AIC Experiment Data\\DARP\\ITSC_instance_paper\\Results\\DC\\start_18-00\\duration_960_min\\max_delay_10_min\\halns-ih\n",
      "12:04:03 [INFO] Loading json file from: C:\\Google Drive\\AIC Experiment Data\\DARP\\ITSC_instance_paper\\Results\\DC\\start_18-00\\duration_960_min\\max_delay_10_min\\ih\\config.yaml-performance.json\n",
      "12:04:03 [INFO] Loading json file from: C:\\Google Drive\\AIC Experiment Data\\DARP\\ITSC_instance_paper\\Results\\DC\\start_18-00\\duration_960_min\\max_delay_10_min\\ih\\config.yaml-solution.json\n",
      "12:04:03 [INFO] Loading experiment config from C:\\Google Drive\\AIC Experiment Data\\DARP\\ITSC_instance_paper\\Results\\DC\\start_18-00\\duration_960_min\\max_delay_10_min\\ih\\config.yaml\n",
      "12:04:03 [INFO] Loading instance config from C:\\Google Drive\\AIC Experiment Data\\DARP\\ITSC_instance_paper\\Instances\\DC\\instances\\start_18-00\\duration_960_min\\max_delay_10_min\\config.yaml\n",
      "12:04:03 [WARNING] No solution found in folder: C:\\Google Drive\\AIC Experiment Data\\DARP\\ITSC_instance_paper\\Results\\DC\\start_18-00\\duration_960_min\\max_delay_10_min\\vga\n"
     ]
    },
    {
     "data": {
      "text/plain": "     cost_minutes  total_time  dropped_requests   avg_delay  plan_count   \n0           31291       4.939                 0  649.588303        2040  \\\n1           31291       4.939                 0  649.588303        2040   \n2           31291       4.939                 0  649.588303        2040   \n3           31291       4.939                 0  649.588303        2040   \n4           31291       4.939                 0  649.588303        2040   \n..            ...         ...               ...         ...         ...   \n370         13015       2.075                 0  505.841978         604   \n371         13015       2.075                 0  505.841978         604   \n372         13015       2.075                 0  505.841978         604   \n373         13015       2.075                 0  505.841978         604   \n374         13015       2.075                 0  505.841978         604   \n\n     req_count  avg_occupancy  used_connections  total_driving_duration   \n0         3488       1.203135                -1                 1877450  \\\n1         3488       1.203135                -1                 1877450   \n2         3488       1.203135                -1                 1877450   \n3         3488       1.203135                -1                 1877450   \n4         3488       1.203135                -1                 1877450   \n..         ...            ...               ...                     ...   \n370       3297       2.039316                -1                  780871   \n371       3297       2.039316                -1                  780871   \n372       3297       2.039316                -1                  780871   \n373       3297       2.039316                -1                  780871   \n374       3297       2.039316                -1                  780871   \n\n     total_waiting_duration  ...  tts_cost  tts_cost_per_plan  method   \n0                      6606  ...    130288          63.866667      ih  \\\n1                      6606  ...    130288          63.866667      ih   \n2                      6606  ...    130288          63.866667      ih   \n3                      6606  ...    130288          63.866667      ih   \n4                      6606  ...    130288          63.866667      ih   \n..                      ...  ...       ...                ...     ...   \n370                 1112067  ...      8056          13.337748      ih   \n371                 1112067  ...      8056          13.337748      ih   \n372                 1112067  ...      8056          13.337748      ih   \n373                 1112067  ...      8056          13.337748      ih   \n374                 1112067  ...      8056          13.337748      ih   \n\n    max_delay          start_time            end_time duration_minutes   \n0         180 2022-04-05 18:00:00 2022-04-05 18:05:00                5  \\\n1         180 2022-04-05 18:00:00 2022-04-05 18:05:00                5   \n2         180 2022-04-05 18:00:00 2022-04-05 18:05:00                5   \n3         180 2022-04-05 18:00:00 2022-04-05 18:05:00                5   \n4         180 2022-04-05 18:00:00 2022-04-05 18:05:00                5   \n..        ...                 ...                 ...              ...   \n370       600 2022-04-05 18:00:00 2022-04-06 10:00:00              960   \n371       600 2022-04-05 18:00:00 2022-04-06 10:00:00              960   \n372       600 2022-04-05 18:00:00 2022-04-06 10:00:00              960   \n373       600 2022-04-05 18:00:00 2022-04-06 10:00:00              960   \n374       600 2022-04-05 18:00:00 2022-04-06 10:00:00              960   \n\n     occupancy  vehicle_hours  area  \n0            0      36.615833   NYC  \n1            1     361.187500   NYC  \n2            2     107.265556   NYC  \n3            3      14.047222   NYC  \n4            4       2.397778   NYC  \n..         ...            ...   ...  \n370          0       3.978056    DC  \n371          1      82.753056    DC  \n372          2      58.227222    DC  \n373          3      44.663333    DC  \n374          4      27.286944    DC  \n\n[375 rows x 21 columns]",
      "text/html": "<div>\n<style scoped>\n    .dataframe tbody tr th:only-of-type {\n        vertical-align: middle;\n    }\n\n    .dataframe tbody tr th {\n        vertical-align: top;\n    }\n\n    .dataframe thead th {\n        text-align: right;\n    }\n</style>\n<table border=\"1\" class=\"dataframe\">\n  <thead>\n    <tr style=\"text-align: right;\">\n      <th></th>\n      <th>cost_minutes</th>\n      <th>total_time</th>\n      <th>dropped_requests</th>\n      <th>avg_delay</th>\n      <th>plan_count</th>\n      <th>req_count</th>\n      <th>avg_occupancy</th>\n      <th>used_connections</th>\n      <th>total_driving_duration</th>\n      <th>total_waiting_duration</th>\n      <th>...</th>\n      <th>tts_cost</th>\n      <th>tts_cost_per_plan</th>\n      <th>method</th>\n      <th>max_delay</th>\n      <th>start_time</th>\n      <th>end_time</th>\n      <th>duration_minutes</th>\n      <th>occupancy</th>\n      <th>vehicle_hours</th>\n      <th>area</th>\n    </tr>\n  </thead>\n  <tbody>\n    <tr>\n      <th>0</th>\n      <td>31291</td>\n      <td>4.939</td>\n      <td>0</td>\n      <td>649.588303</td>\n      <td>2040</td>\n      <td>3488</td>\n      <td>1.203135</td>\n      <td>-1</td>\n      <td>1877450</td>\n      <td>6606</td>\n      <td>...</td>\n      <td>130288</td>\n      <td>63.866667</td>\n      <td>ih</td>\n      <td>180</td>\n      <td>2022-04-05 18:00:00</td>\n      <td>2022-04-05 18:05:00</td>\n      <td>5</td>\n      <td>0</td>\n      <td>36.615833</td>\n      <td>NYC</td>\n    </tr>\n    <tr>\n      <th>1</th>\n      <td>31291</td>\n      <td>4.939</td>\n      <td>0</td>\n      <td>649.588303</td>\n      <td>2040</td>\n      <td>3488</td>\n      <td>1.203135</td>\n      <td>-1</td>\n      <td>1877450</td>\n      <td>6606</td>\n      <td>...</td>\n      <td>130288</td>\n      <td>63.866667</td>\n      <td>ih</td>\n      <td>180</td>\n      <td>2022-04-05 18:00:00</td>\n      <td>2022-04-05 18:05:00</td>\n      <td>5</td>\n      <td>1</td>\n      <td>361.187500</td>\n      <td>NYC</td>\n    </tr>\n    <tr>\n      <th>2</th>\n      <td>31291</td>\n      <td>4.939</td>\n      <td>0</td>\n      <td>649.588303</td>\n      <td>2040</td>\n      <td>3488</td>\n      <td>1.203135</td>\n      <td>-1</td>\n      <td>1877450</td>\n      <td>6606</td>\n      <td>...</td>\n      <td>130288</td>\n      <td>63.866667</td>\n      <td>ih</td>\n      <td>180</td>\n      <td>2022-04-05 18:00:00</td>\n      <td>2022-04-05 18:05:00</td>\n      <td>5</td>\n      <td>2</td>\n      <td>107.265556</td>\n      <td>NYC</td>\n    </tr>\n    <tr>\n      <th>3</th>\n      <td>31291</td>\n      <td>4.939</td>\n      <td>0</td>\n      <td>649.588303</td>\n      <td>2040</td>\n      <td>3488</td>\n      <td>1.203135</td>\n      <td>-1</td>\n      <td>1877450</td>\n      <td>6606</td>\n      <td>...</td>\n      <td>130288</td>\n      <td>63.866667</td>\n      <td>ih</td>\n      <td>180</td>\n      <td>2022-04-05 18:00:00</td>\n      <td>2022-04-05 18:05:00</td>\n      <td>5</td>\n      <td>3</td>\n      <td>14.047222</td>\n      <td>NYC</td>\n    </tr>\n    <tr>\n      <th>4</th>\n      <td>31291</td>\n      <td>4.939</td>\n      <td>0</td>\n      <td>649.588303</td>\n      <td>2040</td>\n      <td>3488</td>\n      <td>1.203135</td>\n      <td>-1</td>\n      <td>1877450</td>\n      <td>6606</td>\n      <td>...</td>\n      <td>130288</td>\n      <td>63.866667</td>\n      <td>ih</td>\n      <td>180</td>\n      <td>2022-04-05 18:00:00</td>\n      <td>2022-04-05 18:05:00</td>\n      <td>5</td>\n      <td>4</td>\n      <td>2.397778</td>\n      <td>NYC</td>\n    </tr>\n    <tr>\n      <th>...</th>\n      <td>...</td>\n      <td>...</td>\n      <td>...</td>\n      <td>...</td>\n      <td>...</td>\n      <td>...</td>\n      <td>...</td>\n      <td>...</td>\n      <td>...</td>\n      <td>...</td>\n      <td>...</td>\n      <td>...</td>\n      <td>...</td>\n      <td>...</td>\n      <td>...</td>\n      <td>...</td>\n      <td>...</td>\n      <td>...</td>\n      <td>...</td>\n      <td>...</td>\n      <td>...</td>\n    </tr>\n    <tr>\n      <th>370</th>\n      <td>13015</td>\n      <td>2.075</td>\n      <td>0</td>\n      <td>505.841978</td>\n      <td>604</td>\n      <td>3297</td>\n      <td>2.039316</td>\n      <td>-1</td>\n      <td>780871</td>\n      <td>1112067</td>\n      <td>...</td>\n      <td>8056</td>\n      <td>13.337748</td>\n      <td>ih</td>\n      <td>600</td>\n      <td>2022-04-05 18:00:00</td>\n      <td>2022-04-06 10:00:00</td>\n      <td>960</td>\n      <td>0</td>\n      <td>3.978056</td>\n      <td>DC</td>\n    </tr>\n    <tr>\n      <th>371</th>\n      <td>13015</td>\n      <td>2.075</td>\n      <td>0</td>\n      <td>505.841978</td>\n      <td>604</td>\n      <td>3297</td>\n      <td>2.039316</td>\n      <td>-1</td>\n      <td>780871</td>\n      <td>1112067</td>\n      <td>...</td>\n      <td>8056</td>\n      <td>13.337748</td>\n      <td>ih</td>\n      <td>600</td>\n      <td>2022-04-05 18:00:00</td>\n      <td>2022-04-06 10:00:00</td>\n      <td>960</td>\n      <td>1</td>\n      <td>82.753056</td>\n      <td>DC</td>\n    </tr>\n    <tr>\n      <th>372</th>\n      <td>13015</td>\n      <td>2.075</td>\n      <td>0</td>\n      <td>505.841978</td>\n      <td>604</td>\n      <td>3297</td>\n      <td>2.039316</td>\n      <td>-1</td>\n      <td>780871</td>\n      <td>1112067</td>\n      <td>...</td>\n      <td>8056</td>\n      <td>13.337748</td>\n      <td>ih</td>\n      <td>600</td>\n      <td>2022-04-05 18:00:00</td>\n      <td>2022-04-06 10:00:00</td>\n      <td>960</td>\n      <td>2</td>\n      <td>58.227222</td>\n      <td>DC</td>\n    </tr>\n    <tr>\n      <th>373</th>\n      <td>13015</td>\n      <td>2.075</td>\n      <td>0</td>\n      <td>505.841978</td>\n      <td>604</td>\n      <td>3297</td>\n      <td>2.039316</td>\n      <td>-1</td>\n      <td>780871</td>\n      <td>1112067</td>\n      <td>...</td>\n      <td>8056</td>\n      <td>13.337748</td>\n      <td>ih</td>\n      <td>600</td>\n      <td>2022-04-05 18:00:00</td>\n      <td>2022-04-06 10:00:00</td>\n      <td>960</td>\n      <td>3</td>\n      <td>44.663333</td>\n      <td>DC</td>\n    </tr>\n    <tr>\n      <th>374</th>\n      <td>13015</td>\n      <td>2.075</td>\n      <td>0</td>\n      <td>505.841978</td>\n      <td>604</td>\n      <td>3297</td>\n      <td>2.039316</td>\n      <td>-1</td>\n      <td>780871</td>\n      <td>1112067</td>\n      <td>...</td>\n      <td>8056</td>\n      <td>13.337748</td>\n      <td>ih</td>\n      <td>600</td>\n      <td>2022-04-05 18:00:00</td>\n      <td>2022-04-06 10:00:00</td>\n      <td>960</td>\n      <td>4</td>\n      <td>27.286944</td>\n      <td>DC</td>\n    </tr>\n  </tbody>\n</table>\n<p>375 rows × 21 columns</p>\n</div>"
     },
     "execution_count": 16,
     "metadata": {},
     "output_type": "execute_result"
    }
   ],
   "source": [
    "occupancy_df = pd.DataFrame()\n",
    "for area in areas:\n",
    "    occ_in_area = load_occupancies_in_dir(final_results_path / area)\n",
    "    if occ_in_area is not None:\n",
    "        occ_in_area['area'] = area\n",
    "        occupancy_df = pd.concat([occupancy_df, occ_in_area], ignore_index=True)\n",
    "occupancy_df"
   ],
   "metadata": {
    "collapsed": false,
    "ExecuteTime": {
     "end_time": "2023-05-11T10:04:03.153387Z",
     "start_time": "2023-05-11T10:03:56.325388200Z"
    }
   }
  },
  {
   "cell_type": "code",
   "execution_count": 17,
   "outputs": [
    {
     "data": {
      "text/plain": "     cost_minutes  total_time  dropped_requests   avg_delay  plan_count   \n0           31291       4.939                 0  649.588303        2040  \\\n1           31291       4.939                 0  649.588303        2040   \n2           31291       4.939                 0  649.588303        2040   \n3           31291       4.939                 0  649.588303        2040   \n4           31291       4.939                 0  649.588303        2040   \n..            ...         ...               ...         ...         ...   \n370         13015       2.075                 0  505.841978         604   \n371         13015       2.075                 0  505.841978         604   \n372         13015       2.075                 0  505.841978         604   \n373         13015       2.075                 0  505.841978         604   \n374         13015       2.075                 0  505.841978         604   \n\n     req_count  avg_occupancy  used_connections  total_driving_duration   \n0         3488       1.203135                -1                 1877450  \\\n1         3488       1.203135                -1                 1877450   \n2         3488       1.203135                -1                 1877450   \n3         3488       1.203135                -1                 1877450   \n4         3488       1.203135                -1                 1877450   \n..         ...            ...               ...                     ...   \n370       3297       2.039316                -1                  780871   \n371       3297       2.039316                -1                  780871   \n372       3297       2.039316                -1                  780871   \n373       3297       2.039316                -1                  780871   \n374       3297       2.039316                -1                  780871   \n\n     total_waiting_duration  ...  tts_cost_per_plan  method  max_delay   \n0                      6606  ...          63.866667      ih        180  \\\n1                      6606  ...          63.866667      ih        180   \n2                      6606  ...          63.866667      ih        180   \n3                      6606  ...          63.866667      ih        180   \n4                      6606  ...          63.866667      ih        180   \n..                      ...  ...                ...     ...        ...   \n370                 1112067  ...          13.337748      ih        600   \n371                 1112067  ...          13.337748      ih        600   \n372                 1112067  ...          13.337748      ih        600   \n373                 1112067  ...          13.337748      ih        600   \n374                 1112067  ...          13.337748      ih        600   \n\n             start_time            end_time duration_minutes occupancy   \n0   2022-04-05 18:00:00 2022-04-05 18:05:00                5         0  \\\n1   2022-04-05 18:00:00 2022-04-05 18:05:00                5         1   \n2   2022-04-05 18:00:00 2022-04-05 18:05:00                5         2   \n3   2022-04-05 18:00:00 2022-04-05 18:05:00                5         3   \n4   2022-04-05 18:00:00 2022-04-05 18:05:00                5         4   \n..                  ...                 ...              ...       ...   \n370 2022-04-05 18:00:00 2022-04-06 10:00:00              960         0   \n371 2022-04-05 18:00:00 2022-04-06 10:00:00              960         1   \n372 2022-04-05 18:00:00 2022-04-06 10:00:00              960         2   \n373 2022-04-05 18:00:00 2022-04-06 10:00:00              960         3   \n374 2022-04-05 18:00:00 2022-04-06 10:00:00              960         4   \n\n     vehicle_hours  area    percent  \n0        36.615833   NYC   6.996448  \n1       361.187500   NYC  69.014668  \n2       107.265556   NYC  20.495994  \n3        14.047222   NYC   2.684103  \n4         2.397778   NYC   0.458160  \n..             ...   ...        ...  \n370       3.978056    DC   0.756549  \n371      82.753056    DC  15.738022  \n372      58.227222    DC  11.073685  \n373      44.663333    DC   8.494098  \n374      27.286944    DC   5.189446  \n\n[270 rows x 22 columns]",
      "text/html": "<div>\n<style scoped>\n    .dataframe tbody tr th:only-of-type {\n        vertical-align: middle;\n    }\n\n    .dataframe tbody tr th {\n        vertical-align: top;\n    }\n\n    .dataframe thead th {\n        text-align: right;\n    }\n</style>\n<table border=\"1\" class=\"dataframe\">\n  <thead>\n    <tr style=\"text-align: right;\">\n      <th></th>\n      <th>cost_minutes</th>\n      <th>total_time</th>\n      <th>dropped_requests</th>\n      <th>avg_delay</th>\n      <th>plan_count</th>\n      <th>req_count</th>\n      <th>avg_occupancy</th>\n      <th>used_connections</th>\n      <th>total_driving_duration</th>\n      <th>total_waiting_duration</th>\n      <th>...</th>\n      <th>tts_cost_per_plan</th>\n      <th>method</th>\n      <th>max_delay</th>\n      <th>start_time</th>\n      <th>end_time</th>\n      <th>duration_minutes</th>\n      <th>occupancy</th>\n      <th>vehicle_hours</th>\n      <th>area</th>\n      <th>percent</th>\n    </tr>\n  </thead>\n  <tbody>\n    <tr>\n      <th>0</th>\n      <td>31291</td>\n      <td>4.939</td>\n      <td>0</td>\n      <td>649.588303</td>\n      <td>2040</td>\n      <td>3488</td>\n      <td>1.203135</td>\n      <td>-1</td>\n      <td>1877450</td>\n      <td>6606</td>\n      <td>...</td>\n      <td>63.866667</td>\n      <td>ih</td>\n      <td>180</td>\n      <td>2022-04-05 18:00:00</td>\n      <td>2022-04-05 18:05:00</td>\n      <td>5</td>\n      <td>0</td>\n      <td>36.615833</td>\n      <td>NYC</td>\n      <td>6.996448</td>\n    </tr>\n    <tr>\n      <th>1</th>\n      <td>31291</td>\n      <td>4.939</td>\n      <td>0</td>\n      <td>649.588303</td>\n      <td>2040</td>\n      <td>3488</td>\n      <td>1.203135</td>\n      <td>-1</td>\n      <td>1877450</td>\n      <td>6606</td>\n      <td>...</td>\n      <td>63.866667</td>\n      <td>ih</td>\n      <td>180</td>\n      <td>2022-04-05 18:00:00</td>\n      <td>2022-04-05 18:05:00</td>\n      <td>5</td>\n      <td>1</td>\n      <td>361.187500</td>\n      <td>NYC</td>\n      <td>69.014668</td>\n    </tr>\n    <tr>\n      <th>2</th>\n      <td>31291</td>\n      <td>4.939</td>\n      <td>0</td>\n      <td>649.588303</td>\n      <td>2040</td>\n      <td>3488</td>\n      <td>1.203135</td>\n      <td>-1</td>\n      <td>1877450</td>\n      <td>6606</td>\n      <td>...</td>\n      <td>63.866667</td>\n      <td>ih</td>\n      <td>180</td>\n      <td>2022-04-05 18:00:00</td>\n      <td>2022-04-05 18:05:00</td>\n      <td>5</td>\n      <td>2</td>\n      <td>107.265556</td>\n      <td>NYC</td>\n      <td>20.495994</td>\n    </tr>\n    <tr>\n      <th>3</th>\n      <td>31291</td>\n      <td>4.939</td>\n      <td>0</td>\n      <td>649.588303</td>\n      <td>2040</td>\n      <td>3488</td>\n      <td>1.203135</td>\n      <td>-1</td>\n      <td>1877450</td>\n      <td>6606</td>\n      <td>...</td>\n      <td>63.866667</td>\n      <td>ih</td>\n      <td>180</td>\n      <td>2022-04-05 18:00:00</td>\n      <td>2022-04-05 18:05:00</td>\n      <td>5</td>\n      <td>3</td>\n      <td>14.047222</td>\n      <td>NYC</td>\n      <td>2.684103</td>\n    </tr>\n    <tr>\n      <th>4</th>\n      <td>31291</td>\n      <td>4.939</td>\n      <td>0</td>\n      <td>649.588303</td>\n      <td>2040</td>\n      <td>3488</td>\n      <td>1.203135</td>\n      <td>-1</td>\n      <td>1877450</td>\n      <td>6606</td>\n      <td>...</td>\n      <td>63.866667</td>\n      <td>ih</td>\n      <td>180</td>\n      <td>2022-04-05 18:00:00</td>\n      <td>2022-04-05 18:05:00</td>\n      <td>5</td>\n      <td>4</td>\n      <td>2.397778</td>\n      <td>NYC</td>\n      <td>0.458160</td>\n    </tr>\n    <tr>\n      <th>...</th>\n      <td>...</td>\n      <td>...</td>\n      <td>...</td>\n      <td>...</td>\n      <td>...</td>\n      <td>...</td>\n      <td>...</td>\n      <td>...</td>\n      <td>...</td>\n      <td>...</td>\n      <td>...</td>\n      <td>...</td>\n      <td>...</td>\n      <td>...</td>\n      <td>...</td>\n      <td>...</td>\n      <td>...</td>\n      <td>...</td>\n      <td>...</td>\n      <td>...</td>\n      <td>...</td>\n    </tr>\n    <tr>\n      <th>370</th>\n      <td>13015</td>\n      <td>2.075</td>\n      <td>0</td>\n      <td>505.841978</td>\n      <td>604</td>\n      <td>3297</td>\n      <td>2.039316</td>\n      <td>-1</td>\n      <td>780871</td>\n      <td>1112067</td>\n      <td>...</td>\n      <td>13.337748</td>\n      <td>ih</td>\n      <td>600</td>\n      <td>2022-04-05 18:00:00</td>\n      <td>2022-04-06 10:00:00</td>\n      <td>960</td>\n      <td>0</td>\n      <td>3.978056</td>\n      <td>DC</td>\n      <td>0.756549</td>\n    </tr>\n    <tr>\n      <th>371</th>\n      <td>13015</td>\n      <td>2.075</td>\n      <td>0</td>\n      <td>505.841978</td>\n      <td>604</td>\n      <td>3297</td>\n      <td>2.039316</td>\n      <td>-1</td>\n      <td>780871</td>\n      <td>1112067</td>\n      <td>...</td>\n      <td>13.337748</td>\n      <td>ih</td>\n      <td>600</td>\n      <td>2022-04-05 18:00:00</td>\n      <td>2022-04-06 10:00:00</td>\n      <td>960</td>\n      <td>1</td>\n      <td>82.753056</td>\n      <td>DC</td>\n      <td>15.738022</td>\n    </tr>\n    <tr>\n      <th>372</th>\n      <td>13015</td>\n      <td>2.075</td>\n      <td>0</td>\n      <td>505.841978</td>\n      <td>604</td>\n      <td>3297</td>\n      <td>2.039316</td>\n      <td>-1</td>\n      <td>780871</td>\n      <td>1112067</td>\n      <td>...</td>\n      <td>13.337748</td>\n      <td>ih</td>\n      <td>600</td>\n      <td>2022-04-05 18:00:00</td>\n      <td>2022-04-06 10:00:00</td>\n      <td>960</td>\n      <td>2</td>\n      <td>58.227222</td>\n      <td>DC</td>\n      <td>11.073685</td>\n    </tr>\n    <tr>\n      <th>373</th>\n      <td>13015</td>\n      <td>2.075</td>\n      <td>0</td>\n      <td>505.841978</td>\n      <td>604</td>\n      <td>3297</td>\n      <td>2.039316</td>\n      <td>-1</td>\n      <td>780871</td>\n      <td>1112067</td>\n      <td>...</td>\n      <td>13.337748</td>\n      <td>ih</td>\n      <td>600</td>\n      <td>2022-04-05 18:00:00</td>\n      <td>2022-04-06 10:00:00</td>\n      <td>960</td>\n      <td>3</td>\n      <td>44.663333</td>\n      <td>DC</td>\n      <td>8.494098</td>\n    </tr>\n    <tr>\n      <th>374</th>\n      <td>13015</td>\n      <td>2.075</td>\n      <td>0</td>\n      <td>505.841978</td>\n      <td>604</td>\n      <td>3297</td>\n      <td>2.039316</td>\n      <td>-1</td>\n      <td>780871</td>\n      <td>1112067</td>\n      <td>...</td>\n      <td>13.337748</td>\n      <td>ih</td>\n      <td>600</td>\n      <td>2022-04-05 18:00:00</td>\n      <td>2022-04-06 10:00:00</td>\n      <td>960</td>\n      <td>4</td>\n      <td>27.286944</td>\n      <td>DC</td>\n      <td>5.189446</td>\n    </tr>\n  </tbody>\n</table>\n<p>270 rows × 22 columns</p>\n</div>"
     },
     "execution_count": 17,
     "metadata": {},
     "output_type": "execute_result"
    }
   ],
   "source": [
    "occupancy_df_ih = pd.DataFrame(occupancy_df[occupancy_df['method'] == 'ih'])\n",
    "occupancy_df_ih['percent'] = occupancy_df_ih['vehicle_hours'] * 3600 /  (occupancy_df_ih['total_driving_duration'] + occupancy_df_ih['total_waiting_duration']) * 100\n",
    "occupancy_df_ih"
   ],
   "metadata": {
    "collapsed": false,
    "ExecuteTime": {
     "end_time": "2023-05-11T10:04:14.746454700Z",
     "start_time": "2023-05-11T10:04:14.710455200Z"
    }
   }
  },
  {
   "cell_type": "code",
   "execution_count": 18,
   "outputs": [
    {
     "data": {
      "application/vnd.plotly.v1+json": {
       "data": [
        {
         "alignmentgroup": "True",
         "hovertemplate": "area=NYC<br>max_delay=180<br>duration_minutes=5<br>occupancy=%{x}<br>percent=%{y}<extra></extra>",
         "legendgroup": "NYC",
         "marker": {
          "color": "#636efa",
          "pattern": {
           "shape": ""
          }
         },
         "name": "NYC",
         "offsetgroup": "NYC",
         "orientation": "v",
         "showlegend": true,
         "textposition": "auto",
         "x": [
          0,
          1,
          2,
          3,
          4
         ],
         "xaxis": "x11",
         "y": [
          6.996448088591846,
          69.0146683538069,
          20.495993749655,
          2.6841028079844764,
          0.45816047930634757
         ],
         "yaxis": "y11",
         "type": "bar"
        },
        {
         "alignmentgroup": "True",
         "hovertemplate": "area=NYC<br>max_delay=180<br>duration_minutes=15<br>occupancy=%{x}<br>percent=%{y}<extra></extra>",
         "legendgroup": "NYC",
         "marker": {
          "color": "#636efa",
          "pattern": {
           "shape": ""
          }
         },
         "name": "NYC",
         "offsetgroup": "NYC",
         "orientation": "v",
         "showlegend": false,
         "textposition": "auto",
         "x": [
          0,
          1,
          2,
          3,
          4
         ],
         "xaxis": "x12",
         "y": [
          3.1999290458839877,
          64.09270452201599,
          25.724813291237535,
          4.959638008979057,
          0.859380937059284
         ],
         "yaxis": "y12",
         "type": "bar"
        },
        {
         "alignmentgroup": "True",
         "hovertemplate": "area=NYC<br>max_delay=180<br>duration_minutes=30<br>occupancy=%{x}<br>percent=%{y}<extra></extra>",
         "legendgroup": "NYC",
         "marker": {
          "color": "#636efa",
          "pattern": {
           "shape": ""
          }
         },
         "name": "NYC",
         "offsetgroup": "NYC",
         "orientation": "v",
         "showlegend": false,
         "textposition": "auto",
         "x": [
          0,
          1,
          2,
          3,
          4
         ],
         "xaxis": "x13",
         "y": [
          1.802740559614104,
          60.391517565550835,
          28.073842407860717,
          5.747371524837937,
          1.114132020067209
         ],
         "yaxis": "y13",
         "type": "bar"
        },
        {
         "alignmentgroup": "True",
         "hovertemplate": "area=NYC<br>max_delay=300<br>duration_minutes=5<br>occupancy=%{x}<br>percent=%{y}<extra></extra>",
         "legendgroup": "NYC",
         "marker": {
          "color": "#636efa",
          "pattern": {
           "shape": ""
          }
         },
         "name": "NYC",
         "offsetgroup": "NYC",
         "orientation": "v",
         "showlegend": false,
         "textposition": "auto",
         "x": [
          0,
          1,
          2,
          3,
          4
         ],
         "xaxis": "x6",
         "y": [
          5.909314919424907,
          59.19684137659919,
          27.035742467361178,
          6.114819151148447,
          1.4406376499477265
         ],
         "yaxis": "y6",
         "type": "bar"
        },
        {
         "alignmentgroup": "True",
         "hovertemplate": "area=NYC<br>max_delay=300<br>duration_minutes=15<br>occupancy=%{x}<br>percent=%{y}<extra></extra>",
         "legendgroup": "NYC",
         "marker": {
          "color": "#636efa",
          "pattern": {
           "shape": ""
          }
         },
         "name": "NYC",
         "offsetgroup": "NYC",
         "orientation": "v",
         "showlegend": false,
         "textposition": "auto",
         "x": [
          0,
          1,
          2,
          3,
          4
         ],
         "xaxis": "x7",
         "y": [
          2.9520081949774646,
          52.97225642794074,
          30.36472857312512,
          9.756303572347159,
          3.0335303540381835
         ],
         "yaxis": "y7",
         "type": "bar"
        },
        {
         "alignmentgroup": "True",
         "hovertemplate": "area=NYC<br>max_delay=300<br>duration_minutes=30<br>occupancy=%{x}<br>percent=%{y}<extra></extra>",
         "legendgroup": "NYC",
         "marker": {
          "color": "#636efa",
          "pattern": {
           "shape": ""
          }
         },
         "name": "NYC",
         "offsetgroup": "NYC",
         "orientation": "v",
         "showlegend": false,
         "textposition": "auto",
         "x": [
          0,
          1,
          2,
          3,
          4
         ],
         "xaxis": "x8",
         "y": [
          1.745303655442106,
          49.64037880368573,
          31.990166450162544,
          11.246143870914185,
          3.705406321022887
         ],
         "yaxis": "y8",
         "type": "bar"
        },
        {
         "alignmentgroup": "True",
         "hovertemplate": "area=NYC<br>max_delay=600<br>duration_minutes=5<br>occupancy=%{x}<br>percent=%{y}<extra></extra>",
         "legendgroup": "NYC",
         "marker": {
          "color": "#636efa",
          "pattern": {
           "shape": ""
          }
         },
         "name": "NYC",
         "offsetgroup": "NYC",
         "orientation": "v",
         "showlegend": false,
         "textposition": "auto",
         "x": [
          0,
          1,
          2,
          3,
          4
         ],
         "xaxis": "x",
         "y": [
          4.033519251691098,
          48.55388285644925,
          30.1892051465718,
          12.323899550139513,
          4.683344372548021
         ],
         "yaxis": "y",
         "type": "bar"
        },
        {
         "alignmentgroup": "True",
         "hovertemplate": "area=NYC<br>max_delay=600<br>duration_minutes=15<br>occupancy=%{x}<br>percent=%{y}<extra></extra>",
         "legendgroup": "NYC",
         "marker": {
          "color": "#636efa",
          "pattern": {
           "shape": ""
          }
         },
         "name": "NYC",
         "offsetgroup": "NYC",
         "orientation": "v",
         "showlegend": false,
         "textposition": "auto",
         "x": [
          0,
          1,
          2,
          3,
          4
         ],
         "xaxis": "x2",
         "y": [
          2.1709802605319903,
          41.388513770467014,
          30.209411432652228,
          16.849367224643945,
          8.495727389333583
         ],
         "yaxis": "y2",
         "type": "bar"
        },
        {
         "alignmentgroup": "True",
         "hovertemplate": "area=NYC<br>max_delay=600<br>duration_minutes=30<br>occupancy=%{x}<br>percent=%{y}<extra></extra>",
         "legendgroup": "NYC",
         "marker": {
          "color": "#636efa",
          "pattern": {
           "shape": ""
          }
         },
         "name": "NYC",
         "offsetgroup": "NYC",
         "orientation": "v",
         "showlegend": false,
         "textposition": "auto",
         "x": [
          0,
          1,
          2,
          3,
          4
         ],
         "xaxis": "x3",
         "y": [
          1.385361068957479,
          36.99738299169727,
          30.70861109746111,
          19.608632472156614,
          10.02272302001451
         ],
         "yaxis": "y3",
         "type": "bar"
        },
        {
         "alignmentgroup": "True",
         "hovertemplate": "area=Manhattan<br>max_delay=180<br>duration_minutes=5<br>occupancy=%{x}<br>percent=%{y}<extra></extra>",
         "legendgroup": "Manhattan",
         "marker": {
          "color": "#EF553B",
          "pattern": {
           "shape": ""
          }
         },
         "name": "Manhattan",
         "offsetgroup": "Manhattan",
         "orientation": "v",
         "showlegend": true,
         "textposition": "auto",
         "x": [
          0,
          1,
          2,
          3,
          4
         ],
         "xaxis": "x11",
         "y": [
          4.364167091274948,
          51.91574620227475,
          33.81188845612429,
          7.81048940782258,
          1.6163325935073796
         ],
         "yaxis": "y11",
         "type": "bar"
        },
        {
         "alignmentgroup": "True",
         "hovertemplate": "area=Manhattan<br>max_delay=180<br>duration_minutes=15<br>occupancy=%{x}<br>percent=%{y}<extra></extra>",
         "legendgroup": "Manhattan",
         "marker": {
          "color": "#EF553B",
          "pattern": {
           "shape": ""
          }
         },
         "name": "Manhattan",
         "offsetgroup": "Manhattan",
         "orientation": "v",
         "showlegend": false,
         "textposition": "auto",
         "x": [
          0,
          1,
          2,
          3,
          4
         ],
         "xaxis": "x12",
         "y": [
          2.1525939276116985,
          45.50024969417905,
          36.21890250235235,
          12.50417452596975,
          2.558634598844379
         ],
         "yaxis": "y12",
         "type": "bar"
        },
        {
         "alignmentgroup": "True",
         "hovertemplate": "area=Manhattan<br>max_delay=180<br>duration_minutes=30<br>occupancy=%{x}<br>percent=%{y}<extra></extra>",
         "legendgroup": "Manhattan",
         "marker": {
          "color": "#EF553B",
          "pattern": {
           "shape": ""
          }
         },
         "name": "Manhattan",
         "offsetgroup": "Manhattan",
         "orientation": "v",
         "showlegend": false,
         "textposition": "auto",
         "x": [
          0,
          1,
          2,
          3,
          4
         ],
         "xaxis": "x13",
         "y": [
          1.2514859962768865,
          41.23157077929276,
          37.727422731379015,
          13.726082308585205,
          3.3449728411484316
         ],
         "yaxis": "y13",
         "type": "bar"
        },
        {
         "alignmentgroup": "True",
         "hovertemplate": "area=Manhattan<br>max_delay=180<br>duration_minutes=120<br>occupancy=%{x}<br>percent=%{y}<extra></extra>",
         "legendgroup": "Manhattan",
         "marker": {
          "color": "#EF553B",
          "pattern": {
           "shape": ""
          }
         },
         "name": "Manhattan",
         "offsetgroup": "Manhattan",
         "orientation": "v",
         "showlegend": false,
         "textposition": "auto",
         "x": [
          0,
          1,
          2,
          3,
          4
         ],
         "xaxis": "x14",
         "y": [
          0.6612345127185824,
          31.024124075740716,
          30.819990513116792,
          10.964942939106251,
          2.3508405147136404
         ],
         "yaxis": "y14",
         "type": "bar"
        },
        {
         "alignmentgroup": "True",
         "hovertemplate": "area=Manhattan<br>max_delay=180<br>duration_minutes=960<br>occupancy=%{x}<br>percent=%{y}<extra></extra>",
         "legendgroup": "Manhattan",
         "marker": {
          "color": "#EF553B",
          "pattern": {
           "shape": ""
          }
         },
         "name": "Manhattan",
         "offsetgroup": "Manhattan",
         "orientation": "v",
         "showlegend": false,
         "textposition": "auto",
         "x": [
          0,
          1,
          2,
          3,
          4
         ],
         "xaxis": "x15",
         "y": [
          0.35442495070668334,
          17.829641090104317,
          17.142790113391563,
          5.644461180068461,
          1.1271493840834272
         ],
         "yaxis": "y15",
         "type": "bar"
        },
        {
         "alignmentgroup": "True",
         "hovertemplate": "area=Manhattan<br>max_delay=300<br>duration_minutes=5<br>occupancy=%{x}<br>percent=%{y}<extra></extra>",
         "legendgroup": "Manhattan",
         "marker": {
          "color": "#EF553B",
          "pattern": {
           "shape": ""
          }
         },
         "name": "Manhattan",
         "offsetgroup": "Manhattan",
         "orientation": "v",
         "showlegend": false,
         "textposition": "auto",
         "x": [
          0,
          1,
          2,
          3,
          4
         ],
         "xaxis": "x6",
         "y": [
          3.895503262095529,
          44.68824091795678,
          32.37472145597862,
          14.097663612051017,
          4.509899623611393
         ],
         "yaxis": "y6",
         "type": "bar"
        },
        {
         "alignmentgroup": "True",
         "hovertemplate": "area=Manhattan<br>max_delay=300<br>duration_minutes=15<br>occupancy=%{x}<br>percent=%{y}<extra></extra>",
         "legendgroup": "Manhattan",
         "marker": {
          "color": "#EF553B",
          "pattern": {
           "shape": ""
          }
         },
         "name": "Manhattan",
         "offsetgroup": "Manhattan",
         "orientation": "v",
         "showlegend": false,
         "textposition": "auto",
         "x": [
          0,
          1,
          2,
          3,
          4
         ],
         "xaxis": "x7",
         "y": [
          2.1141041080503093,
          37.29087123932755,
          31.50344542670908,
          19.941892176505213,
          8.461479265335658
         ],
         "yaxis": "y7",
         "type": "bar"
        },
        {
         "alignmentgroup": "True",
         "hovertemplate": "area=Manhattan<br>max_delay=300<br>duration_minutes=30<br>occupancy=%{x}<br>percent=%{y}<extra></extra>",
         "legendgroup": "Manhattan",
         "marker": {
          "color": "#EF553B",
          "pattern": {
           "shape": ""
          }
         },
         "name": "Manhattan",
         "offsetgroup": "Manhattan",
         "orientation": "v",
         "showlegend": false,
         "textposition": "auto",
         "x": [
          0,
          1,
          2,
          3,
          4
         ],
         "xaxis": "x8",
         "y": [
          1.1896507228867825,
          31.950305433136517,
          32.44262848327066,
          22.562100483815165,
          10.26937387624995
         ],
         "yaxis": "y8",
         "type": "bar"
        },
        {
         "alignmentgroup": "True",
         "hovertemplate": "area=Manhattan<br>max_delay=300<br>duration_minutes=120<br>occupancy=%{x}<br>percent=%{y}<extra></extra>",
         "legendgroup": "Manhattan",
         "marker": {
          "color": "#EF553B",
          "pattern": {
           "shape": ""
          }
         },
         "name": "Manhattan",
         "offsetgroup": "Manhattan",
         "orientation": "v",
         "showlegend": false,
         "textposition": "auto",
         "x": [
          0,
          1,
          2,
          3,
          4
         ],
         "xaxis": "x9",
         "y": [
          0.634238515174833,
          24.43719763848482,
          30.13471187713128,
          20.80188491426841,
          8.621285473320066
         ],
         "yaxis": "y9",
         "type": "bar"
        },
        {
         "alignmentgroup": "True",
         "hovertemplate": "area=Manhattan<br>max_delay=300<br>duration_minutes=960<br>occupancy=%{x}<br>percent=%{y}<extra></extra>",
         "legendgroup": "Manhattan",
         "marker": {
          "color": "#EF553B",
          "pattern": {
           "shape": ""
          }
         },
         "name": "Manhattan",
         "offsetgroup": "Manhattan",
         "orientation": "v",
         "showlegend": false,
         "textposition": "auto",
         "x": [
          0,
          1,
          2,
          3,
          4
         ],
         "xaxis": "x10",
         "y": [
          0.42326035859180083,
          15.785115213383492,
          19.431943423280888,
          12.32636369083752,
          4.70445537021498
         ],
         "yaxis": "y10",
         "type": "bar"
        },
        {
         "alignmentgroup": "True",
         "hovertemplate": "area=Manhattan<br>max_delay=600<br>duration_minutes=5<br>occupancy=%{x}<br>percent=%{y}<extra></extra>",
         "legendgroup": "Manhattan",
         "marker": {
          "color": "#EF553B",
          "pattern": {
           "shape": ""
          }
         },
         "name": "Manhattan",
         "offsetgroup": "Manhattan",
         "orientation": "v",
         "showlegend": false,
         "textposition": "auto",
         "x": [
          0,
          1,
          2,
          3,
          4
         ],
         "xaxis": "x",
         "y": [
          2.607239599856582,
          35.48710459181279,
          29.01377675241079,
          21.777743571067884,
          10.948566665853214
         ],
         "yaxis": "y",
         "type": "bar"
        },
        {
         "alignmentgroup": "True",
         "hovertemplate": "area=Manhattan<br>max_delay=600<br>duration_minutes=15<br>occupancy=%{x}<br>percent=%{y}<extra></extra>",
         "legendgroup": "Manhattan",
         "marker": {
          "color": "#EF553B",
          "pattern": {
           "shape": ""
          }
         },
         "name": "Manhattan",
         "offsetgroup": "Manhattan",
         "orientation": "v",
         "showlegend": false,
         "textposition": "auto",
         "x": [
          0,
          1,
          2,
          3,
          4
         ],
         "xaxis": "x2",
         "y": [
          1.4190598164294042,
          29.71822679780416,
          24.740776316437614,
          25.533635453097546,
          17.771907787793705
         ],
         "yaxis": "y2",
         "type": "bar"
        },
        {
         "alignmentgroup": "True",
         "hovertemplate": "area=Manhattan<br>max_delay=600<br>duration_minutes=30<br>occupancy=%{x}<br>percent=%{y}<extra></extra>",
         "legendgroup": "Manhattan",
         "marker": {
          "color": "#EF553B",
          "pattern": {
           "shape": ""
          }
         },
         "name": "Manhattan",
         "offsetgroup": "Manhattan",
         "orientation": "v",
         "showlegend": false,
         "textposition": "auto",
         "x": [
          0,
          1,
          2,
          3,
          4
         ],
         "xaxis": "x3",
         "y": [
          0.7511112346024825,
          22.550796882310138,
          24.889852789106858,
          28.67293168432301,
          22.118806542672985
         ],
         "yaxis": "y3",
         "type": "bar"
        },
        {
         "alignmentgroup": "True",
         "hovertemplate": "area=Manhattan<br>max_delay=600<br>duration_minutes=120<br>occupancy=%{x}<br>percent=%{y}<extra></extra>",
         "legendgroup": "Manhattan",
         "marker": {
          "color": "#EF553B",
          "pattern": {
           "shape": ""
          }
         },
         "name": "Manhattan",
         "offsetgroup": "Manhattan",
         "orientation": "v",
         "showlegend": false,
         "textposition": "auto",
         "x": [
          0,
          1,
          2,
          3,
          4
         ],
         "xaxis": "x4",
         "y": [
          0.37581639534069344,
          15.315129077586201,
          23.315438422838568,
          30.662790188381102,
          24.300973887409754
         ],
         "yaxis": "y4",
         "type": "bar"
        },
        {
         "alignmentgroup": "True",
         "hovertemplate": "area=Manhattan<br>max_delay=600<br>duration_minutes=960<br>occupancy=%{x}<br>percent=%{y}<extra></extra>",
         "legendgroup": "Manhattan",
         "marker": {
          "color": "#EF553B",
          "pattern": {
           "shape": ""
          }
         },
         "name": "Manhattan",
         "offsetgroup": "Manhattan",
         "orientation": "v",
         "showlegend": false,
         "textposition": "auto",
         "x": [
          0,
          1,
          2,
          3,
          4
         ],
         "xaxis": "x5",
         "y": [
          0.2830211653548688,
          11.545991720316055,
          18.187474316442845,
          23.758273723255467,
          17.884397185636765
         ],
         "yaxis": "y5",
         "type": "bar"
        },
        {
         "alignmentgroup": "True",
         "hovertemplate": "area=Chicago<br>max_delay=180<br>duration_minutes=5<br>occupancy=%{x}<br>percent=%{y}<extra></extra>",
         "legendgroup": "Chicago",
         "marker": {
          "color": "#00cc96",
          "pattern": {
           "shape": ""
          }
         },
         "name": "Chicago",
         "offsetgroup": "Chicago",
         "orientation": "v",
         "showlegend": true,
         "textposition": "auto",
         "x": [
          0,
          1,
          2,
          3,
          4
         ],
         "xaxis": "x11",
         "y": [
          17.488488907492673,
          68.8345392573103,
          13.166297913053878,
          0.126771512288465,
          0.0
         ],
         "yaxis": "y11",
         "type": "bar"
        },
        {
         "alignmentgroup": "True",
         "hovertemplate": "area=Chicago<br>max_delay=180<br>duration_minutes=15<br>occupancy=%{x}<br>percent=%{y}<extra></extra>",
         "legendgroup": "Chicago",
         "marker": {
          "color": "#00cc96",
          "pattern": {
           "shape": ""
          }
         },
         "name": "Chicago",
         "offsetgroup": "Chicago",
         "orientation": "v",
         "showlegend": false,
         "textposition": "auto",
         "x": [
          0,
          1,
          2,
          3,
          4
         ],
         "xaxis": "x12",
         "y": [
          8.160747752235903,
          73.96009773918819,
          15.070339003155173,
          1.7023699380826989,
          0.1119730505539345
         ],
         "yaxis": "y12",
         "type": "bar"
        },
        {
         "alignmentgroup": "True",
         "hovertemplate": "area=Chicago<br>max_delay=180<br>duration_minutes=30<br>occupancy=%{x}<br>percent=%{y}<extra></extra>",
         "legendgroup": "Chicago",
         "marker": {
          "color": "#00cc96",
          "pattern": {
           "shape": ""
          }
         },
         "name": "Chicago",
         "offsetgroup": "Chicago",
         "orientation": "v",
         "showlegend": false,
         "textposition": "auto",
         "x": [
          0,
          1,
          2,
          3,
          4
         ],
         "xaxis": "x13",
         "y": [
          4.624931900573716,
          69.40043359437179,
          20.325128520151825,
          2.530496212214627,
          0.20222446916076842
         ],
         "yaxis": "y13",
         "type": "bar"
        },
        {
         "alignmentgroup": "True",
         "hovertemplate": "area=Chicago<br>max_delay=180<br>duration_minutes=120<br>occupancy=%{x}<br>percent=%{y}<extra></extra>",
         "legendgroup": "Chicago",
         "marker": {
          "color": "#00cc96",
          "pattern": {
           "shape": ""
          }
         },
         "name": "Chicago",
         "offsetgroup": "Chicago",
         "orientation": "v",
         "showlegend": false,
         "textposition": "auto",
         "x": [
          0,
          1,
          2,
          3,
          4
         ],
         "xaxis": "x14",
         "y": [
          2.2505084704966762,
          59.35651618767189,
          20.439167214441305,
          2.3150952554788446,
          0.12974665590029222
         ],
         "yaxis": "y14",
         "type": "bar"
        },
        {
         "alignmentgroup": "True",
         "hovertemplate": "area=Chicago<br>max_delay=180<br>duration_minutes=960<br>occupancy=%{x}<br>percent=%{y}<extra></extra>",
         "legendgroup": "Chicago",
         "marker": {
          "color": "#00cc96",
          "pattern": {
           "shape": ""
          }
         },
         "name": "Chicago",
         "offsetgroup": "Chicago",
         "orientation": "v",
         "showlegend": false,
         "textposition": "auto",
         "x": [
          0,
          1,
          2,
          3,
          4
         ],
         "xaxis": "x15",
         "y": [
          11.046014198116158,
          36.00479182429087,
          10.861966694382886,
          1.0453160918998055,
          0.04047854963426346
         ],
         "yaxis": "y15",
         "type": "bar"
        },
        {
         "alignmentgroup": "True",
         "hovertemplate": "area=Chicago<br>max_delay=300<br>duration_minutes=5<br>occupancy=%{x}<br>percent=%{y}<extra></extra>",
         "legendgroup": "Chicago",
         "marker": {
          "color": "#00cc96",
          "pattern": {
           "shape": ""
          }
         },
         "name": "Chicago",
         "offsetgroup": "Chicago",
         "orientation": "v",
         "showlegend": false,
         "textposition": "auto",
         "x": [
          0,
          1,
          2,
          3,
          4
         ],
         "xaxis": "x6",
         "y": [
          9.615790436262856,
          69.90897708248336,
          12.995033834639354,
          6.7964716309562325,
          0.23494323377555182
         ],
         "yaxis": "y6",
         "type": "bar"
        },
        {
         "alignmentgroup": "True",
         "hovertemplate": "area=Chicago<br>max_delay=300<br>duration_minutes=15<br>occupancy=%{x}<br>percent=%{y}<extra></extra>",
         "legendgroup": "Chicago",
         "marker": {
          "color": "#00cc96",
          "pattern": {
           "shape": ""
          }
         },
         "name": "Chicago",
         "offsetgroup": "Chicago",
         "orientation": "v",
         "showlegend": false,
         "textposition": "auto",
         "x": [
          0,
          1,
          2,
          3,
          4
         ],
         "xaxis": "x7",
         "y": [
          6.838464013729487,
          63.138474739890604,
          20.917086774643355,
          7.430011798777218,
          0.7899817655261182
         ],
         "yaxis": "y7",
         "type": "bar"
        },
        {
         "alignmentgroup": "True",
         "hovertemplate": "area=Chicago<br>max_delay=300<br>duration_minutes=30<br>occupancy=%{x}<br>percent=%{y}<extra></extra>",
         "legendgroup": "Chicago",
         "marker": {
          "color": "#00cc96",
          "pattern": {
           "shape": ""
          }
         },
         "name": "Chicago",
         "offsetgroup": "Chicago",
         "orientation": "v",
         "showlegend": false,
         "textposition": "auto",
         "x": [
          0,
          1,
          2,
          3,
          4
         ],
         "xaxis": "x8",
         "y": [
          3.564976390884828,
          57.089406692670906,
          27.33858550605625,
          7.920344898378158,
          1.7596489427222337
         ],
         "yaxis": "y8",
         "type": "bar"
        },
        {
         "alignmentgroup": "True",
         "hovertemplate": "area=Chicago<br>max_delay=300<br>duration_minutes=120<br>occupancy=%{x}<br>percent=%{y}<extra></extra>",
         "legendgroup": "Chicago",
         "marker": {
          "color": "#00cc96",
          "pattern": {
           "shape": ""
          }
         },
         "name": "Chicago",
         "offsetgroup": "Chicago",
         "orientation": "v",
         "showlegend": false,
         "textposition": "auto",
         "x": [
          0,
          1,
          2,
          3,
          4
         ],
         "xaxis": "x9",
         "y": [
          1.7030303821885047,
          47.008835492654505,
          29.569787880808494,
          8.083104363027179,
          1.0685357334600032
         ],
         "yaxis": "y9",
         "type": "bar"
        },
        {
         "alignmentgroup": "True",
         "hovertemplate": "area=Chicago<br>max_delay=300<br>duration_minutes=960<br>occupancy=%{x}<br>percent=%{y}<extra></extra>",
         "legendgroup": "Chicago",
         "marker": {
          "color": "#00cc96",
          "pattern": {
           "shape": ""
          }
         },
         "name": "Chicago",
         "offsetgroup": "Chicago",
         "orientation": "v",
         "showlegend": false,
         "textposition": "auto",
         "x": [
          0,
          1,
          2,
          3,
          4
         ],
         "xaxis": "x10",
         "y": [
          8.2755483754319,
          29.941364296906166,
          16.992525164474443,
          3.853591547819872,
          0.4638959014684324
         ],
         "yaxis": "y10",
         "type": "bar"
        },
        {
         "alignmentgroup": "True",
         "hovertemplate": "area=Chicago<br>max_delay=600<br>duration_minutes=5<br>occupancy=%{x}<br>percent=%{y}<extra></extra>",
         "legendgroup": "Chicago",
         "marker": {
          "color": "#00cc96",
          "pattern": {
           "shape": ""
          }
         },
         "name": "Chicago",
         "offsetgroup": "Chicago",
         "orientation": "v",
         "showlegend": false,
         "textposition": "auto",
         "x": [
          0,
          1,
          2,
          3,
          4
         ],
         "xaxis": "x",
         "y": [
          7.639575195695484,
          60.30872041037225,
          20.0731014792853,
          5.531240685836196,
          5.873217563179444
         ],
         "yaxis": "y",
         "type": "bar"
        },
        {
         "alignmentgroup": "True",
         "hovertemplate": "area=Chicago<br>max_delay=600<br>duration_minutes=15<br>occupancy=%{x}<br>percent=%{y}<extra></extra>",
         "legendgroup": "Chicago",
         "marker": {
          "color": "#00cc96",
          "pattern": {
           "shape": ""
          }
         },
         "name": "Chicago",
         "offsetgroup": "Chicago",
         "orientation": "v",
         "showlegend": false,
         "textposition": "auto",
         "x": [
          0,
          1,
          2,
          3,
          4
         ],
         "xaxis": "x2",
         "y": [
          6.040742296151575,
          47.745296741955315,
          27.29015648109263,
          11.527623082026281,
          6.027352237661365
         ],
         "yaxis": "y2",
         "type": "bar"
        },
        {
         "alignmentgroup": "True",
         "hovertemplate": "area=Chicago<br>max_delay=600<br>duration_minutes=30<br>occupancy=%{x}<br>percent=%{y}<extra></extra>",
         "legendgroup": "Chicago",
         "marker": {
          "color": "#00cc96",
          "pattern": {
           "shape": ""
          }
         },
         "name": "Chicago",
         "offsetgroup": "Chicago",
         "orientation": "v",
         "showlegend": false,
         "textposition": "auto",
         "x": [
          0,
          1,
          2,
          3,
          4
         ],
         "xaxis": "x3",
         "y": [
          3.2256017720044072,
          43.847879882097104,
          26.63457600526064,
          18.094979897671358,
          5.5686622866470925
         ],
         "yaxis": "y3",
         "type": "bar"
        },
        {
         "alignmentgroup": "True",
         "hovertemplate": "area=Chicago<br>max_delay=600<br>duration_minutes=120<br>occupancy=%{x}<br>percent=%{y}<extra></extra>",
         "legendgroup": "Chicago",
         "marker": {
          "color": "#00cc96",
          "pattern": {
           "shape": ""
          }
         },
         "name": "Chicago",
         "offsetgroup": "Chicago",
         "orientation": "v",
         "showlegend": false,
         "textposition": "auto",
         "x": [
          0,
          1,
          2,
          3,
          4
         ],
         "xaxis": "x4",
         "y": [
          1.7411764705882353,
          36.639866971523595,
          25.557929744335894,
          17.354562461026813,
          9.055248389108293
         ],
         "yaxis": "y4",
         "type": "bar"
        },
        {
         "alignmentgroup": "True",
         "hovertemplate": "area=Chicago<br>max_delay=600<br>duration_minutes=960<br>occupancy=%{x}<br>percent=%{y}<extra></extra>",
         "legendgroup": "Chicago",
         "marker": {
          "color": "#00cc96",
          "pattern": {
           "shape": ""
          }
         },
         "name": "Chicago",
         "offsetgroup": "Chicago",
         "orientation": "v",
         "showlegend": false,
         "textposition": "auto",
         "x": [
          0,
          1,
          2,
          3,
          4
         ],
         "xaxis": "x5",
         "y": [
          3.7181387432505404,
          26.279555496842832,
          21.14634741532924,
          12.810769755210089,
          4.837172185916892
         ],
         "yaxis": "y5",
         "type": "bar"
        },
        {
         "alignmentgroup": "True",
         "hovertemplate": "area=DC<br>max_delay=180<br>duration_minutes=5<br>occupancy=%{x}<br>percent=%{y}<extra></extra>",
         "legendgroup": "DC",
         "marker": {
          "color": "#ab63fa",
          "pattern": {
           "shape": ""
          }
         },
         "name": "DC",
         "offsetgroup": "DC",
         "orientation": "v",
         "showlegend": true,
         "textposition": "auto",
         "x": [
          0,
          1,
          2,
          3,
          4
         ],
         "xaxis": "x11",
         "y": [
          15.65484142298748,
          63.20815397555787,
          17.841769333531246,
          1.7614170501212212,
          1.48434021077631
         ],
         "yaxis": "y11",
         "type": "bar"
        },
        {
         "alignmentgroup": "True",
         "hovertemplate": "area=DC<br>max_delay=180<br>duration_minutes=15<br>occupancy=%{x}<br>percent=%{y}<extra></extra>",
         "legendgroup": "DC",
         "marker": {
          "color": "#ab63fa",
          "pattern": {
           "shape": ""
          }
         },
         "name": "DC",
         "offsetgroup": "DC",
         "orientation": "v",
         "showlegend": false,
         "textposition": "auto",
         "x": [
          0,
          1,
          2,
          3,
          4
         ],
         "xaxis": "x12",
         "y": [
          7.790863668807995,
          62.64810849393291,
          20.735189150606708,
          6.258029978586724,
          1.3758029978586723
         ],
         "yaxis": "y12",
         "type": "bar"
        },
        {
         "alignmentgroup": "True",
         "hovertemplate": "area=DC<br>max_delay=180<br>duration_minutes=30<br>occupancy=%{x}<br>percent=%{y}<extra></extra>",
         "legendgroup": "DC",
         "marker": {
          "color": "#ab63fa",
          "pattern": {
           "shape": ""
          }
         },
         "name": "DC",
         "offsetgroup": "DC",
         "orientation": "v",
         "showlegend": false,
         "textposition": "auto",
         "x": [
          0,
          1,
          2,
          3,
          4
         ],
         "xaxis": "x13",
         "y": [
          4.502727272727273,
          60.75454545454545,
          21.18,
          6.196363636363636,
          1.0627272727272727
         ],
         "yaxis": "y13",
         "type": "bar"
        },
        {
         "alignmentgroup": "True",
         "hovertemplate": "area=DC<br>max_delay=180<br>duration_minutes=120<br>occupancy=%{x}<br>percent=%{y}<extra></extra>",
         "legendgroup": "DC",
         "marker": {
          "color": "#ab63fa",
          "pattern": {
           "shape": ""
          }
         },
         "name": "DC",
         "offsetgroup": "DC",
         "orientation": "v",
         "showlegend": false,
         "textposition": "auto",
         "x": [
          0,
          1,
          2,
          3,
          4
         ],
         "xaxis": "x14",
         "y": [
          1.4113026531762574,
          39.47448894413469,
          14.376344068247674,
          3.6459478356885353,
          0.7440001454610371
         ],
         "yaxis": "y14",
         "type": "bar"
        },
        {
         "alignmentgroup": "True",
         "hovertemplate": "area=DC<br>max_delay=180<br>duration_minutes=960<br>occupancy=%{x}<br>percent=%{y}<extra></extra>",
         "legendgroup": "DC",
         "marker": {
          "color": "#ab63fa",
          "pattern": {
           "shape": ""
          }
         },
         "name": "DC",
         "offsetgroup": "DC",
         "orientation": "v",
         "showlegend": false,
         "textposition": "auto",
         "x": [
          0,
          1,
          2,
          3,
          4
         ],
         "xaxis": "x15",
         "y": [
          0.7059803814276937,
          15.461409186900871,
          6.245036033117311,
          1.7440115462005135,
          0.30902556178831747
         ],
         "yaxis": "y15",
         "type": "bar"
        },
        {
         "alignmentgroup": "True",
         "hovertemplate": "area=DC<br>max_delay=300<br>duration_minutes=5<br>occupancy=%{x}<br>percent=%{y}<extra></extra>",
         "legendgroup": "DC",
         "marker": {
          "color": "#ab63fa",
          "pattern": {
           "shape": ""
          }
         },
         "name": "DC",
         "offsetgroup": "DC",
         "orientation": "v",
         "showlegend": false,
         "textposition": "auto",
         "x": [
          0,
          1,
          2,
          3,
          4
         ],
         "xaxis": "x6",
         "y": [
          11.988056730529982,
          67.80791241602388,
          13.172430952973377,
          5.36451853694949,
          1.632246827569047
         ],
         "yaxis": "y6",
         "type": "bar"
        },
        {
         "alignmentgroup": "True",
         "hovertemplate": "area=DC<br>max_delay=300<br>duration_minutes=15<br>occupancy=%{x}<br>percent=%{y}<extra></extra>",
         "legendgroup": "DC",
         "marker": {
          "color": "#ab63fa",
          "pattern": {
           "shape": ""
          }
         },
         "name": "DC",
         "offsetgroup": "DC",
         "orientation": "v",
         "showlegend": false,
         "textposition": "auto",
         "x": [
          0,
          1,
          2,
          3,
          4
         ],
         "xaxis": "x7",
         "y": [
          4.87539053985323,
          57.674562232071494,
          23.129041633364817,
          7.572840223788418,
          3.162464578943544
         ],
         "yaxis": "y7",
         "type": "bar"
        },
        {
         "alignmentgroup": "True",
         "hovertemplate": "area=DC<br>max_delay=300<br>duration_minutes=30<br>occupancy=%{x}<br>percent=%{y}<extra></extra>",
         "legendgroup": "DC",
         "marker": {
          "color": "#ab63fa",
          "pattern": {
           "shape": ""
          }
         },
         "name": "DC",
         "offsetgroup": "DC",
         "orientation": "v",
         "showlegend": false,
         "textposition": "auto",
         "x": [
          0,
          1,
          2,
          3,
          4
         ],
         "xaxis": "x8",
         "y": [
          4.073109615290129,
          54.34677934456836,
          24.63322360339999,
          9.369626099346535,
          3.5169262516582327
         ],
         "yaxis": "y8",
         "type": "bar"
        },
        {
         "alignmentgroup": "True",
         "hovertemplate": "area=DC<br>max_delay=300<br>duration_minutes=120<br>occupancy=%{x}<br>percent=%{y}<extra></extra>",
         "legendgroup": "DC",
         "marker": {
          "color": "#ab63fa",
          "pattern": {
           "shape": ""
          }
         },
         "name": "DC",
         "offsetgroup": "DC",
         "orientation": "v",
         "showlegend": false,
         "textposition": "auto",
         "x": [
          0,
          1,
          2,
          3,
          4
         ],
         "xaxis": "x9",
         "y": [
          1.3724242875400967,
          35.97151513862491,
          18.348682391475425,
          6.852840461960567,
          2.4861413763300315
         ],
         "yaxis": "y9",
         "type": "bar"
        },
        {
         "alignmentgroup": "True",
         "hovertemplate": "area=DC<br>max_delay=300<br>duration_minutes=960<br>occupancy=%{x}<br>percent=%{y}<extra></extra>",
         "legendgroup": "DC",
         "marker": {
          "color": "#ab63fa",
          "pattern": {
           "shape": ""
          }
         },
         "name": "DC",
         "offsetgroup": "DC",
         "orientation": "v",
         "showlegend": false,
         "textposition": "auto",
         "x": [
          0,
          1,
          2,
          3,
          4
         ],
         "xaxis": "x10",
         "y": [
          0.813400143898518,
          16.643972655508684,
          9.08288652730318,
          3.815197177566772,
          1.4164232201047433
         ],
         "yaxis": "y10",
         "type": "bar"
        },
        {
         "alignmentgroup": "True",
         "hovertemplate": "area=DC<br>max_delay=600<br>duration_minutes=5<br>occupancy=%{x}<br>percent=%{y}<extra></extra>",
         "legendgroup": "DC",
         "marker": {
          "color": "#ab63fa",
          "pattern": {
           "shape": ""
          }
         },
         "name": "DC",
         "offsetgroup": "DC",
         "orientation": "v",
         "showlegend": false,
         "textposition": "auto",
         "x": [
          0,
          1,
          2,
          3,
          4
         ],
         "xaxis": "x",
         "y": [
          10.002693239967682,
          52.588203608941555,
          20.856450309722597,
          11.18233234581201,
          4.643145704282252
         ],
         "yaxis": "y",
         "type": "bar"
        },
        {
         "alignmentgroup": "True",
         "hovertemplate": "area=DC<br>max_delay=600<br>duration_minutes=15<br>occupancy=%{x}<br>percent=%{y}<extra></extra>",
         "legendgroup": "DC",
         "marker": {
          "color": "#ab63fa",
          "pattern": {
           "shape": ""
          }
         },
         "name": "DC",
         "offsetgroup": "DC",
         "orientation": "v",
         "showlegend": false,
         "textposition": "auto",
         "x": [
          0,
          1,
          2,
          3,
          4
         ],
         "xaxis": "x2",
         "y": [
          4.326494201605709,
          40.801638147757686,
          22.344092125537262,
          18.378477009163895,
          11.142648609196334
         ],
         "yaxis": "y2",
         "type": "bar"
        },
        {
         "alignmentgroup": "True",
         "hovertemplate": "area=DC<br>max_delay=600<br>duration_minutes=30<br>occupancy=%{x}<br>percent=%{y}<extra></extra>",
         "legendgroup": "DC",
         "marker": {
          "color": "#ab63fa",
          "pattern": {
           "shape": ""
          }
         },
         "name": "DC",
         "offsetgroup": "DC",
         "orientation": "v",
         "showlegend": false,
         "textposition": "auto",
         "x": [
          0,
          1,
          2,
          3,
          4
         ],
         "xaxis": "x3",
         "y": [
          2.198828884615802,
          37.622353311823055,
          23.359297765320644,
          18.87581614140295,
          10.813805690447479
         ],
         "yaxis": "y3",
         "type": "bar"
        },
        {
         "alignmentgroup": "True",
         "hovertemplate": "area=DC<br>max_delay=600<br>duration_minutes=120<br>occupancy=%{x}<br>percent=%{y}<extra></extra>",
         "legendgroup": "DC",
         "marker": {
          "color": "#ab63fa",
          "pattern": {
           "shape": ""
          }
         },
         "name": "DC",
         "offsetgroup": "DC",
         "orientation": "v",
         "showlegend": false,
         "textposition": "auto",
         "x": [
          0,
          1,
          2,
          3,
          4
         ],
         "xaxis": "x4",
         "y": [
          1.5364983586649208,
          31.06392668070815,
          19.284975617160967,
          13.722462571867705,
          8.622701656515057
         ],
         "yaxis": "y4",
         "type": "bar"
        },
        {
         "alignmentgroup": "True",
         "hovertemplate": "area=DC<br>max_delay=600<br>duration_minutes=960<br>occupancy=%{x}<br>percent=%{y}<extra></extra>",
         "legendgroup": "DC",
         "marker": {
          "color": "#ab63fa",
          "pattern": {
           "shape": ""
          }
         },
         "name": "DC",
         "offsetgroup": "DC",
         "orientation": "v",
         "showlegend": false,
         "textposition": "auto",
         "x": [
          0,
          1,
          2,
          3,
          4
         ],
         "xaxis": "x5",
         "y": [
          0.7565488145940332,
          15.738022058831296,
          11.073685456153344,
          8.494097535154348,
          5.18944624705088
         ],
         "yaxis": "y5",
         "type": "bar"
        }
       ],
       "layout": {
        "template": {
         "data": {
          "histogram2dcontour": [
           {
            "type": "histogram2dcontour",
            "colorbar": {
             "outlinewidth": 0,
             "ticks": ""
            },
            "colorscale": [
             [
              0.0,
              "#0d0887"
             ],
             [
              0.1111111111111111,
              "#46039f"
             ],
             [
              0.2222222222222222,
              "#7201a8"
             ],
             [
              0.3333333333333333,
              "#9c179e"
             ],
             [
              0.4444444444444444,
              "#bd3786"
             ],
             [
              0.5555555555555556,
              "#d8576b"
             ],
             [
              0.6666666666666666,
              "#ed7953"
             ],
             [
              0.7777777777777778,
              "#fb9f3a"
             ],
             [
              0.8888888888888888,
              "#fdca26"
             ],
             [
              1.0,
              "#f0f921"
             ]
            ]
           }
          ],
          "choropleth": [
           {
            "type": "choropleth",
            "colorbar": {
             "outlinewidth": 0,
             "ticks": ""
            }
           }
          ],
          "histogram2d": [
           {
            "type": "histogram2d",
            "colorbar": {
             "outlinewidth": 0,
             "ticks": ""
            },
            "colorscale": [
             [
              0.0,
              "#0d0887"
             ],
             [
              0.1111111111111111,
              "#46039f"
             ],
             [
              0.2222222222222222,
              "#7201a8"
             ],
             [
              0.3333333333333333,
              "#9c179e"
             ],
             [
              0.4444444444444444,
              "#bd3786"
             ],
             [
              0.5555555555555556,
              "#d8576b"
             ],
             [
              0.6666666666666666,
              "#ed7953"
             ],
             [
              0.7777777777777778,
              "#fb9f3a"
             ],
             [
              0.8888888888888888,
              "#fdca26"
             ],
             [
              1.0,
              "#f0f921"
             ]
            ]
           }
          ],
          "heatmap": [
           {
            "type": "heatmap",
            "colorbar": {
             "outlinewidth": 0,
             "ticks": ""
            },
            "colorscale": [
             [
              0.0,
              "#0d0887"
             ],
             [
              0.1111111111111111,
              "#46039f"
             ],
             [
              0.2222222222222222,
              "#7201a8"
             ],
             [
              0.3333333333333333,
              "#9c179e"
             ],
             [
              0.4444444444444444,
              "#bd3786"
             ],
             [
              0.5555555555555556,
              "#d8576b"
             ],
             [
              0.6666666666666666,
              "#ed7953"
             ],
             [
              0.7777777777777778,
              "#fb9f3a"
             ],
             [
              0.8888888888888888,
              "#fdca26"
             ],
             [
              1.0,
              "#f0f921"
             ]
            ]
           }
          ],
          "heatmapgl": [
           {
            "type": "heatmapgl",
            "colorbar": {
             "outlinewidth": 0,
             "ticks": ""
            },
            "colorscale": [
             [
              0.0,
              "#0d0887"
             ],
             [
              0.1111111111111111,
              "#46039f"
             ],
             [
              0.2222222222222222,
              "#7201a8"
             ],
             [
              0.3333333333333333,
              "#9c179e"
             ],
             [
              0.4444444444444444,
              "#bd3786"
             ],
             [
              0.5555555555555556,
              "#d8576b"
             ],
             [
              0.6666666666666666,
              "#ed7953"
             ],
             [
              0.7777777777777778,
              "#fb9f3a"
             ],
             [
              0.8888888888888888,
              "#fdca26"
             ],
             [
              1.0,
              "#f0f921"
             ]
            ]
           }
          ],
          "contourcarpet": [
           {
            "type": "contourcarpet",
            "colorbar": {
             "outlinewidth": 0,
             "ticks": ""
            }
           }
          ],
          "contour": [
           {
            "type": "contour",
            "colorbar": {
             "outlinewidth": 0,
             "ticks": ""
            },
            "colorscale": [
             [
              0.0,
              "#0d0887"
             ],
             [
              0.1111111111111111,
              "#46039f"
             ],
             [
              0.2222222222222222,
              "#7201a8"
             ],
             [
              0.3333333333333333,
              "#9c179e"
             ],
             [
              0.4444444444444444,
              "#bd3786"
             ],
             [
              0.5555555555555556,
              "#d8576b"
             ],
             [
              0.6666666666666666,
              "#ed7953"
             ],
             [
              0.7777777777777778,
              "#fb9f3a"
             ],
             [
              0.8888888888888888,
              "#fdca26"
             ],
             [
              1.0,
              "#f0f921"
             ]
            ]
           }
          ],
          "surface": [
           {
            "type": "surface",
            "colorbar": {
             "outlinewidth": 0,
             "ticks": ""
            },
            "colorscale": [
             [
              0.0,
              "#0d0887"
             ],
             [
              0.1111111111111111,
              "#46039f"
             ],
             [
              0.2222222222222222,
              "#7201a8"
             ],
             [
              0.3333333333333333,
              "#9c179e"
             ],
             [
              0.4444444444444444,
              "#bd3786"
             ],
             [
              0.5555555555555556,
              "#d8576b"
             ],
             [
              0.6666666666666666,
              "#ed7953"
             ],
             [
              0.7777777777777778,
              "#fb9f3a"
             ],
             [
              0.8888888888888888,
              "#fdca26"
             ],
             [
              1.0,
              "#f0f921"
             ]
            ]
           }
          ],
          "mesh3d": [
           {
            "type": "mesh3d",
            "colorbar": {
             "outlinewidth": 0,
             "ticks": ""
            }
           }
          ],
          "scatter": [
           {
            "fillpattern": {
             "fillmode": "overlay",
             "size": 10,
             "solidity": 0.2
            },
            "type": "scatter"
           }
          ],
          "parcoords": [
           {
            "type": "parcoords",
            "line": {
             "colorbar": {
              "outlinewidth": 0,
              "ticks": ""
             }
            }
           }
          ],
          "scatterpolargl": [
           {
            "type": "scatterpolargl",
            "marker": {
             "colorbar": {
              "outlinewidth": 0,
              "ticks": ""
             }
            }
           }
          ],
          "bar": [
           {
            "error_x": {
             "color": "#2a3f5f"
            },
            "error_y": {
             "color": "#2a3f5f"
            },
            "marker": {
             "line": {
              "color": "#E5ECF6",
              "width": 0.5
             },
             "pattern": {
              "fillmode": "overlay",
              "size": 10,
              "solidity": 0.2
             }
            },
            "type": "bar"
           }
          ],
          "scattergeo": [
           {
            "type": "scattergeo",
            "marker": {
             "colorbar": {
              "outlinewidth": 0,
              "ticks": ""
             }
            }
           }
          ],
          "scatterpolar": [
           {
            "type": "scatterpolar",
            "marker": {
             "colorbar": {
              "outlinewidth": 0,
              "ticks": ""
             }
            }
           }
          ],
          "histogram": [
           {
            "marker": {
             "pattern": {
              "fillmode": "overlay",
              "size": 10,
              "solidity": 0.2
             }
            },
            "type": "histogram"
           }
          ],
          "scattergl": [
           {
            "type": "scattergl",
            "marker": {
             "colorbar": {
              "outlinewidth": 0,
              "ticks": ""
             }
            }
           }
          ],
          "scatter3d": [
           {
            "type": "scatter3d",
            "line": {
             "colorbar": {
              "outlinewidth": 0,
              "ticks": ""
             }
            },
            "marker": {
             "colorbar": {
              "outlinewidth": 0,
              "ticks": ""
             }
            }
           }
          ],
          "scattermapbox": [
           {
            "type": "scattermapbox",
            "marker": {
             "colorbar": {
              "outlinewidth": 0,
              "ticks": ""
             }
            }
           }
          ],
          "scatterternary": [
           {
            "type": "scatterternary",
            "marker": {
             "colorbar": {
              "outlinewidth": 0,
              "ticks": ""
             }
            }
           }
          ],
          "scattercarpet": [
           {
            "type": "scattercarpet",
            "marker": {
             "colorbar": {
              "outlinewidth": 0,
              "ticks": ""
             }
            }
           }
          ],
          "carpet": [
           {
            "aaxis": {
             "endlinecolor": "#2a3f5f",
             "gridcolor": "white",
             "linecolor": "white",
             "minorgridcolor": "white",
             "startlinecolor": "#2a3f5f"
            },
            "baxis": {
             "endlinecolor": "#2a3f5f",
             "gridcolor": "white",
             "linecolor": "white",
             "minorgridcolor": "white",
             "startlinecolor": "#2a3f5f"
            },
            "type": "carpet"
           }
          ],
          "table": [
           {
            "cells": {
             "fill": {
              "color": "#EBF0F8"
             },
             "line": {
              "color": "white"
             }
            },
            "header": {
             "fill": {
              "color": "#C8D4E3"
             },
             "line": {
              "color": "white"
             }
            },
            "type": "table"
           }
          ],
          "barpolar": [
           {
            "marker": {
             "line": {
              "color": "#E5ECF6",
              "width": 0.5
             },
             "pattern": {
              "fillmode": "overlay",
              "size": 10,
              "solidity": 0.2
             }
            },
            "type": "barpolar"
           }
          ],
          "pie": [
           {
            "automargin": true,
            "type": "pie"
           }
          ]
         },
         "layout": {
          "autotypenumbers": "strict",
          "colorway": [
           "#636efa",
           "#EF553B",
           "#00cc96",
           "#ab63fa",
           "#FFA15A",
           "#19d3f3",
           "#FF6692",
           "#B6E880",
           "#FF97FF",
           "#FECB52"
          ],
          "font": {
           "color": "#2a3f5f"
          },
          "hovermode": "closest",
          "hoverlabel": {
           "align": "left"
          },
          "paper_bgcolor": "white",
          "plot_bgcolor": "#E5ECF6",
          "polar": {
           "bgcolor": "#E5ECF6",
           "angularaxis": {
            "gridcolor": "white",
            "linecolor": "white",
            "ticks": ""
           },
           "radialaxis": {
            "gridcolor": "white",
            "linecolor": "white",
            "ticks": ""
           }
          },
          "ternary": {
           "bgcolor": "#E5ECF6",
           "aaxis": {
            "gridcolor": "white",
            "linecolor": "white",
            "ticks": ""
           },
           "baxis": {
            "gridcolor": "white",
            "linecolor": "white",
            "ticks": ""
           },
           "caxis": {
            "gridcolor": "white",
            "linecolor": "white",
            "ticks": ""
           }
          },
          "coloraxis": {
           "colorbar": {
            "outlinewidth": 0,
            "ticks": ""
           }
          },
          "colorscale": {
           "sequential": [
            [
             0.0,
             "#0d0887"
            ],
            [
             0.1111111111111111,
             "#46039f"
            ],
            [
             0.2222222222222222,
             "#7201a8"
            ],
            [
             0.3333333333333333,
             "#9c179e"
            ],
            [
             0.4444444444444444,
             "#bd3786"
            ],
            [
             0.5555555555555556,
             "#d8576b"
            ],
            [
             0.6666666666666666,
             "#ed7953"
            ],
            [
             0.7777777777777778,
             "#fb9f3a"
            ],
            [
             0.8888888888888888,
             "#fdca26"
            ],
            [
             1.0,
             "#f0f921"
            ]
           ],
           "sequentialminus": [
            [
             0.0,
             "#0d0887"
            ],
            [
             0.1111111111111111,
             "#46039f"
            ],
            [
             0.2222222222222222,
             "#7201a8"
            ],
            [
             0.3333333333333333,
             "#9c179e"
            ],
            [
             0.4444444444444444,
             "#bd3786"
            ],
            [
             0.5555555555555556,
             "#d8576b"
            ],
            [
             0.6666666666666666,
             "#ed7953"
            ],
            [
             0.7777777777777778,
             "#fb9f3a"
            ],
            [
             0.8888888888888888,
             "#fdca26"
            ],
            [
             1.0,
             "#f0f921"
            ]
           ],
           "diverging": [
            [
             0,
             "#8e0152"
            ],
            [
             0.1,
             "#c51b7d"
            ],
            [
             0.2,
             "#de77ae"
            ],
            [
             0.3,
             "#f1b6da"
            ],
            [
             0.4,
             "#fde0ef"
            ],
            [
             0.5,
             "#f7f7f7"
            ],
            [
             0.6,
             "#e6f5d0"
            ],
            [
             0.7,
             "#b8e186"
            ],
            [
             0.8,
             "#7fbc41"
            ],
            [
             0.9,
             "#4d9221"
            ],
            [
             1,
             "#276419"
            ]
           ]
          },
          "xaxis": {
           "gridcolor": "white",
           "linecolor": "white",
           "ticks": "",
           "title": {
            "standoff": 15
           },
           "zerolinecolor": "white",
           "automargin": true,
           "zerolinewidth": 2
          },
          "yaxis": {
           "gridcolor": "white",
           "linecolor": "white",
           "ticks": "",
           "title": {
            "standoff": 15
           },
           "zerolinecolor": "white",
           "automargin": true,
           "zerolinewidth": 2
          },
          "scene": {
           "xaxis": {
            "backgroundcolor": "#E5ECF6",
            "gridcolor": "white",
            "linecolor": "white",
            "showbackground": true,
            "ticks": "",
            "zerolinecolor": "white",
            "gridwidth": 2
           },
           "yaxis": {
            "backgroundcolor": "#E5ECF6",
            "gridcolor": "white",
            "linecolor": "white",
            "showbackground": true,
            "ticks": "",
            "zerolinecolor": "white",
            "gridwidth": 2
           },
           "zaxis": {
            "backgroundcolor": "#E5ECF6",
            "gridcolor": "white",
            "linecolor": "white",
            "showbackground": true,
            "ticks": "",
            "zerolinecolor": "white",
            "gridwidth": 2
           }
          },
          "shapedefaults": {
           "line": {
            "color": "#2a3f5f"
           }
          },
          "annotationdefaults": {
           "arrowcolor": "#2a3f5f",
           "arrowhead": 0,
           "arrowwidth": 1
          },
          "geo": {
           "bgcolor": "white",
           "landcolor": "#E5ECF6",
           "subunitcolor": "white",
           "showland": true,
           "showlakes": true,
           "lakecolor": "white"
          },
          "title": {
           "x": 0.05
          },
          "mapbox": {
           "style": "light"
          }
         }
        },
        "xaxis": {
         "anchor": "y",
         "domain": [
          0.0,
          0.18000000000000002
         ],
         "title": {
          "text": ""
         },
         "dtick": 1
        },
        "yaxis": {
         "anchor": "x",
         "domain": [
          0.0,
          0.3133333333333333
         ],
         "title": {
          "text": ""
         }
        },
        "xaxis2": {
         "anchor": "y2",
         "domain": [
          0.2,
          0.38
         ],
         "matches": "x",
         "title": {
          "text": ""
         },
         "dtick": 1
        },
        "yaxis2": {
         "anchor": "x2",
         "domain": [
          0.0,
          0.3133333333333333
         ],
         "matches": "y",
         "showticklabels": false,
         "title": {
          "text": ""
         }
        },
        "xaxis3": {
         "anchor": "y3",
         "domain": [
          0.4,
          0.5800000000000001
         ],
         "matches": "x",
         "title": {
          "text": ""
         },
         "dtick": 1
        },
        "yaxis3": {
         "anchor": "x3",
         "domain": [
          0.0,
          0.3133333333333333
         ],
         "matches": "y",
         "showticklabels": false,
         "title": {
          "text": ""
         }
        },
        "xaxis4": {
         "anchor": "y4",
         "domain": [
          0.6000000000000001,
          0.7800000000000001
         ],
         "matches": "x",
         "title": {
          "text": ""
         },
         "dtick": 1
        },
        "yaxis4": {
         "anchor": "x4",
         "domain": [
          0.0,
          0.3133333333333333
         ],
         "matches": "y",
         "showticklabels": false,
         "title": {
          "text": ""
         }
        },
        "xaxis5": {
         "anchor": "y5",
         "domain": [
          0.8,
          0.9800000000000001
         ],
         "matches": "x",
         "title": {
          "text": ""
         },
         "dtick": 1
        },
        "yaxis5": {
         "anchor": "x5",
         "domain": [
          0.0,
          0.3133333333333333
         ],
         "matches": "y",
         "showticklabels": false,
         "title": {
          "text": ""
         }
        },
        "xaxis6": {
         "anchor": "y6",
         "domain": [
          0.0,
          0.18000000000000002
         ],
         "matches": "x",
         "showticklabels": false,
         "title": {
          "text": ""
         },
         "dtick": 1
        },
        "yaxis6": {
         "anchor": "x6",
         "domain": [
          0.34333333333333327,
          0.6566666666666665
         ],
         "matches": "y",
         "title": {
          "text": ""
         }
        },
        "xaxis7": {
         "anchor": "y7",
         "domain": [
          0.2,
          0.38
         ],
         "matches": "x",
         "showticklabels": false,
         "title": {
          "text": ""
         },
         "dtick": 1
        },
        "yaxis7": {
         "anchor": "x7",
         "domain": [
          0.34333333333333327,
          0.6566666666666665
         ],
         "matches": "y",
         "showticklabels": false,
         "title": {
          "text": ""
         }
        },
        "xaxis8": {
         "anchor": "y8",
         "domain": [
          0.4,
          0.5800000000000001
         ],
         "matches": "x",
         "showticklabels": false,
         "title": {
          "text": ""
         },
         "dtick": 1
        },
        "yaxis8": {
         "anchor": "x8",
         "domain": [
          0.34333333333333327,
          0.6566666666666665
         ],
         "matches": "y",
         "showticklabels": false,
         "title": {
          "text": ""
         }
        },
        "xaxis9": {
         "anchor": "y9",
         "domain": [
          0.6000000000000001,
          0.7800000000000001
         ],
         "matches": "x",
         "showticklabels": false,
         "title": {
          "text": ""
         },
         "dtick": 1
        },
        "yaxis9": {
         "anchor": "x9",
         "domain": [
          0.34333333333333327,
          0.6566666666666665
         ],
         "matches": "y",
         "showticklabels": false,
         "title": {
          "text": ""
         }
        },
        "xaxis10": {
         "anchor": "y10",
         "domain": [
          0.8,
          0.9800000000000001
         ],
         "matches": "x",
         "showticklabels": false,
         "title": {
          "text": ""
         },
         "dtick": 1
        },
        "yaxis10": {
         "anchor": "x10",
         "domain": [
          0.34333333333333327,
          0.6566666666666665
         ],
         "matches": "y",
         "showticklabels": false,
         "title": {
          "text": ""
         }
        },
        "xaxis11": {
         "anchor": "y11",
         "domain": [
          0.0,
          0.18000000000000002
         ],
         "matches": "x",
         "showticklabels": false,
         "title": {
          "text": ""
         },
         "dtick": 1
        },
        "yaxis11": {
         "anchor": "x11",
         "domain": [
          0.6866666666666665,
          0.9999999999999998
         ],
         "matches": "y",
         "title": {
          "text": ""
         }
        },
        "xaxis12": {
         "anchor": "y12",
         "domain": [
          0.2,
          0.38
         ],
         "matches": "x",
         "showticklabels": false,
         "title": {
          "text": ""
         },
         "dtick": 1
        },
        "yaxis12": {
         "anchor": "x12",
         "domain": [
          0.6866666666666665,
          0.9999999999999998
         ],
         "matches": "y",
         "showticklabels": false,
         "title": {
          "text": ""
         }
        },
        "xaxis13": {
         "anchor": "y13",
         "domain": [
          0.4,
          0.5800000000000001
         ],
         "matches": "x",
         "showticklabels": false,
         "title": {
          "text": ""
         },
         "dtick": 1
        },
        "yaxis13": {
         "anchor": "x13",
         "domain": [
          0.6866666666666665,
          0.9999999999999998
         ],
         "matches": "y",
         "showticklabels": false,
         "title": {
          "text": ""
         }
        },
        "xaxis14": {
         "anchor": "y14",
         "domain": [
          0.6000000000000001,
          0.7800000000000001
         ],
         "matches": "x",
         "showticklabels": false,
         "title": {
          "text": ""
         },
         "dtick": 1
        },
        "yaxis14": {
         "anchor": "x14",
         "domain": [
          0.6866666666666665,
          0.9999999999999998
         ],
         "matches": "y",
         "showticklabels": false,
         "title": {
          "text": ""
         }
        },
        "xaxis15": {
         "anchor": "y15",
         "domain": [
          0.8,
          0.9800000000000001
         ],
         "matches": "x",
         "showticklabels": false,
         "title": {
          "text": ""
         },
         "dtick": 1
        },
        "yaxis15": {
         "anchor": "x15",
         "domain": [
          0.6866666666666665,
          0.9999999999999998
         ],
         "matches": "y",
         "showticklabels": false,
         "title": {
          "text": ""
         }
        },
        "annotations": [
         {
          "showarrow": false,
          "text": "5",
          "x": 0.09000000000000001,
          "xanchor": "center",
          "xref": "paper",
          "y": 0.9999999999999998,
          "yanchor": "bottom",
          "yref": "paper"
         },
         {
          "showarrow": false,
          "text": "15",
          "x": 0.29000000000000004,
          "xanchor": "center",
          "xref": "paper",
          "y": 0.9999999999999998,
          "yanchor": "bottom",
          "yref": "paper"
         },
         {
          "showarrow": false,
          "text": "30",
          "x": 0.49000000000000005,
          "xanchor": "center",
          "xref": "paper",
          "y": 0.9999999999999998,
          "yanchor": "bottom",
          "yref": "paper"
         },
         {
          "showarrow": false,
          "text": "120",
          "x": 0.6900000000000002,
          "xanchor": "center",
          "xref": "paper",
          "y": 0.9999999999999998,
          "yanchor": "bottom",
          "yref": "paper"
         },
         {
          "showarrow": false,
          "text": "960",
          "x": 0.8900000000000001,
          "xanchor": "center",
          "xref": "paper",
          "y": 0.9999999999999998,
          "yanchor": "bottom",
          "yref": "paper"
         },
         {
          "showarrow": false,
          "text": "600",
          "textangle": 90,
          "x": 0.9800000000000001,
          "xanchor": "left",
          "xref": "paper",
          "y": 0.15666666666666665,
          "yanchor": "middle",
          "yref": "paper"
         },
         {
          "showarrow": false,
          "text": "300",
          "textangle": 90,
          "x": 0.9800000000000001,
          "xanchor": "left",
          "xref": "paper",
          "y": 0.4999999999999999,
          "yanchor": "middle",
          "yref": "paper"
         },
         {
          "showarrow": false,
          "text": "180",
          "textangle": 90,
          "x": 0.9800000000000001,
          "xanchor": "left",
          "xref": "paper",
          "y": 0.8433333333333332,
          "yanchor": "middle",
          "yref": "paper"
         },
         {
          "showarrow": false,
          "text": "% of time",
          "textangle": -90,
          "x": -0.04,
          "xref": "paper",
          "y": 0.5,
          "yref": "paper"
         },
         {
          "showarrow": false,
          "text": "Occupancy",
          "x": 0.5,
          "xref": "paper",
          "y": -0.1,
          "yref": "paper"
         }
        ],
        "legend": {
         "title": {
          "text": "area"
         },
         "tracegroupgap": 0
        },
        "margin": {
         "t": 30,
         "l": 10,
         "r": 10,
         "b": 10
        },
        "barmode": "group"
       },
       "config": {
        "plotlyServerURL": "https://plot.ly"
       }
      },
      "text/html": "<div>                            <div id=\"919a507c-2261-4d3f-9136-1b3006cc7a95\" class=\"plotly-graph-div\" style=\"height:525px; width:100%;\"></div>            <script type=\"text/javascript\">                require([\"plotly\"], function(Plotly) {                    window.PLOTLYENV=window.PLOTLYENV || {};                                    if (document.getElementById(\"919a507c-2261-4d3f-9136-1b3006cc7a95\")) {                    Plotly.newPlot(                        \"919a507c-2261-4d3f-9136-1b3006cc7a95\",                        [{\"alignmentgroup\":\"True\",\"hovertemplate\":\"area=NYC<br>max_delay=180<br>duration_minutes=5<br>occupancy=%{x}<br>percent=%{y}<extra></extra>\",\"legendgroup\":\"NYC\",\"marker\":{\"color\":\"#636efa\",\"pattern\":{\"shape\":\"\"}},\"name\":\"NYC\",\"offsetgroup\":\"NYC\",\"orientation\":\"v\",\"showlegend\":true,\"textposition\":\"auto\",\"x\":[0,1,2,3,4],\"xaxis\":\"x11\",\"y\":[6.996448088591846,69.0146683538069,20.495993749655,2.6841028079844764,0.45816047930634757],\"yaxis\":\"y11\",\"type\":\"bar\"},{\"alignmentgroup\":\"True\",\"hovertemplate\":\"area=NYC<br>max_delay=180<br>duration_minutes=15<br>occupancy=%{x}<br>percent=%{y}<extra></extra>\",\"legendgroup\":\"NYC\",\"marker\":{\"color\":\"#636efa\",\"pattern\":{\"shape\":\"\"}},\"name\":\"NYC\",\"offsetgroup\":\"NYC\",\"orientation\":\"v\",\"showlegend\":false,\"textposition\":\"auto\",\"x\":[0,1,2,3,4],\"xaxis\":\"x12\",\"y\":[3.1999290458839877,64.09270452201599,25.724813291237535,4.959638008979057,0.859380937059284],\"yaxis\":\"y12\",\"type\":\"bar\"},{\"alignmentgroup\":\"True\",\"hovertemplate\":\"area=NYC<br>max_delay=180<br>duration_minutes=30<br>occupancy=%{x}<br>percent=%{y}<extra></extra>\",\"legendgroup\":\"NYC\",\"marker\":{\"color\":\"#636efa\",\"pattern\":{\"shape\":\"\"}},\"name\":\"NYC\",\"offsetgroup\":\"NYC\",\"orientation\":\"v\",\"showlegend\":false,\"textposition\":\"auto\",\"x\":[0,1,2,3,4],\"xaxis\":\"x13\",\"y\":[1.802740559614104,60.391517565550835,28.073842407860717,5.747371524837937,1.114132020067209],\"yaxis\":\"y13\",\"type\":\"bar\"},{\"alignmentgroup\":\"True\",\"hovertemplate\":\"area=NYC<br>max_delay=300<br>duration_minutes=5<br>occupancy=%{x}<br>percent=%{y}<extra></extra>\",\"legendgroup\":\"NYC\",\"marker\":{\"color\":\"#636efa\",\"pattern\":{\"shape\":\"\"}},\"name\":\"NYC\",\"offsetgroup\":\"NYC\",\"orientation\":\"v\",\"showlegend\":false,\"textposition\":\"auto\",\"x\":[0,1,2,3,4],\"xaxis\":\"x6\",\"y\":[5.909314919424907,59.19684137659919,27.035742467361178,6.114819151148447,1.4406376499477265],\"yaxis\":\"y6\",\"type\":\"bar\"},{\"alignmentgroup\":\"True\",\"hovertemplate\":\"area=NYC<br>max_delay=300<br>duration_minutes=15<br>occupancy=%{x}<br>percent=%{y}<extra></extra>\",\"legendgroup\":\"NYC\",\"marker\":{\"color\":\"#636efa\",\"pattern\":{\"shape\":\"\"}},\"name\":\"NYC\",\"offsetgroup\":\"NYC\",\"orientation\":\"v\",\"showlegend\":false,\"textposition\":\"auto\",\"x\":[0,1,2,3,4],\"xaxis\":\"x7\",\"y\":[2.9520081949774646,52.97225642794074,30.36472857312512,9.756303572347159,3.0335303540381835],\"yaxis\":\"y7\",\"type\":\"bar\"},{\"alignmentgroup\":\"True\",\"hovertemplate\":\"area=NYC<br>max_delay=300<br>duration_minutes=30<br>occupancy=%{x}<br>percent=%{y}<extra></extra>\",\"legendgroup\":\"NYC\",\"marker\":{\"color\":\"#636efa\",\"pattern\":{\"shape\":\"\"}},\"name\":\"NYC\",\"offsetgroup\":\"NYC\",\"orientation\":\"v\",\"showlegend\":false,\"textposition\":\"auto\",\"x\":[0,1,2,3,4],\"xaxis\":\"x8\",\"y\":[1.745303655442106,49.64037880368573,31.990166450162544,11.246143870914185,3.705406321022887],\"yaxis\":\"y8\",\"type\":\"bar\"},{\"alignmentgroup\":\"True\",\"hovertemplate\":\"area=NYC<br>max_delay=600<br>duration_minutes=5<br>occupancy=%{x}<br>percent=%{y}<extra></extra>\",\"legendgroup\":\"NYC\",\"marker\":{\"color\":\"#636efa\",\"pattern\":{\"shape\":\"\"}},\"name\":\"NYC\",\"offsetgroup\":\"NYC\",\"orientation\":\"v\",\"showlegend\":false,\"textposition\":\"auto\",\"x\":[0,1,2,3,4],\"xaxis\":\"x\",\"y\":[4.033519251691098,48.55388285644925,30.1892051465718,12.323899550139513,4.683344372548021],\"yaxis\":\"y\",\"type\":\"bar\"},{\"alignmentgroup\":\"True\",\"hovertemplate\":\"area=NYC<br>max_delay=600<br>duration_minutes=15<br>occupancy=%{x}<br>percent=%{y}<extra></extra>\",\"legendgroup\":\"NYC\",\"marker\":{\"color\":\"#636efa\",\"pattern\":{\"shape\":\"\"}},\"name\":\"NYC\",\"offsetgroup\":\"NYC\",\"orientation\":\"v\",\"showlegend\":false,\"textposition\":\"auto\",\"x\":[0,1,2,3,4],\"xaxis\":\"x2\",\"y\":[2.1709802605319903,41.388513770467014,30.209411432652228,16.849367224643945,8.495727389333583],\"yaxis\":\"y2\",\"type\":\"bar\"},{\"alignmentgroup\":\"True\",\"hovertemplate\":\"area=NYC<br>max_delay=600<br>duration_minutes=30<br>occupancy=%{x}<br>percent=%{y}<extra></extra>\",\"legendgroup\":\"NYC\",\"marker\":{\"color\":\"#636efa\",\"pattern\":{\"shape\":\"\"}},\"name\":\"NYC\",\"offsetgroup\":\"NYC\",\"orientation\":\"v\",\"showlegend\":false,\"textposition\":\"auto\",\"x\":[0,1,2,3,4],\"xaxis\":\"x3\",\"y\":[1.385361068957479,36.99738299169727,30.70861109746111,19.608632472156614,10.02272302001451],\"yaxis\":\"y3\",\"type\":\"bar\"},{\"alignmentgroup\":\"True\",\"hovertemplate\":\"area=Manhattan<br>max_delay=180<br>duration_minutes=5<br>occupancy=%{x}<br>percent=%{y}<extra></extra>\",\"legendgroup\":\"Manhattan\",\"marker\":{\"color\":\"#EF553B\",\"pattern\":{\"shape\":\"\"}},\"name\":\"Manhattan\",\"offsetgroup\":\"Manhattan\",\"orientation\":\"v\",\"showlegend\":true,\"textposition\":\"auto\",\"x\":[0,1,2,3,4],\"xaxis\":\"x11\",\"y\":[4.364167091274948,51.91574620227475,33.81188845612429,7.81048940782258,1.6163325935073796],\"yaxis\":\"y11\",\"type\":\"bar\"},{\"alignmentgroup\":\"True\",\"hovertemplate\":\"area=Manhattan<br>max_delay=180<br>duration_minutes=15<br>occupancy=%{x}<br>percent=%{y}<extra></extra>\",\"legendgroup\":\"Manhattan\",\"marker\":{\"color\":\"#EF553B\",\"pattern\":{\"shape\":\"\"}},\"name\":\"Manhattan\",\"offsetgroup\":\"Manhattan\",\"orientation\":\"v\",\"showlegend\":false,\"textposition\":\"auto\",\"x\":[0,1,2,3,4],\"xaxis\":\"x12\",\"y\":[2.1525939276116985,45.50024969417905,36.21890250235235,12.50417452596975,2.558634598844379],\"yaxis\":\"y12\",\"type\":\"bar\"},{\"alignmentgroup\":\"True\",\"hovertemplate\":\"area=Manhattan<br>max_delay=180<br>duration_minutes=30<br>occupancy=%{x}<br>percent=%{y}<extra></extra>\",\"legendgroup\":\"Manhattan\",\"marker\":{\"color\":\"#EF553B\",\"pattern\":{\"shape\":\"\"}},\"name\":\"Manhattan\",\"offsetgroup\":\"Manhattan\",\"orientation\":\"v\",\"showlegend\":false,\"textposition\":\"auto\",\"x\":[0,1,2,3,4],\"xaxis\":\"x13\",\"y\":[1.2514859962768865,41.23157077929276,37.727422731379015,13.726082308585205,3.3449728411484316],\"yaxis\":\"y13\",\"type\":\"bar\"},{\"alignmentgroup\":\"True\",\"hovertemplate\":\"area=Manhattan<br>max_delay=180<br>duration_minutes=120<br>occupancy=%{x}<br>percent=%{y}<extra></extra>\",\"legendgroup\":\"Manhattan\",\"marker\":{\"color\":\"#EF553B\",\"pattern\":{\"shape\":\"\"}},\"name\":\"Manhattan\",\"offsetgroup\":\"Manhattan\",\"orientation\":\"v\",\"showlegend\":false,\"textposition\":\"auto\",\"x\":[0,1,2,3,4],\"xaxis\":\"x14\",\"y\":[0.6612345127185824,31.024124075740716,30.819990513116792,10.964942939106251,2.3508405147136404],\"yaxis\":\"y14\",\"type\":\"bar\"},{\"alignmentgroup\":\"True\",\"hovertemplate\":\"area=Manhattan<br>max_delay=180<br>duration_minutes=960<br>occupancy=%{x}<br>percent=%{y}<extra></extra>\",\"legendgroup\":\"Manhattan\",\"marker\":{\"color\":\"#EF553B\",\"pattern\":{\"shape\":\"\"}},\"name\":\"Manhattan\",\"offsetgroup\":\"Manhattan\",\"orientation\":\"v\",\"showlegend\":false,\"textposition\":\"auto\",\"x\":[0,1,2,3,4],\"xaxis\":\"x15\",\"y\":[0.35442495070668334,17.829641090104317,17.142790113391563,5.644461180068461,1.1271493840834272],\"yaxis\":\"y15\",\"type\":\"bar\"},{\"alignmentgroup\":\"True\",\"hovertemplate\":\"area=Manhattan<br>max_delay=300<br>duration_minutes=5<br>occupancy=%{x}<br>percent=%{y}<extra></extra>\",\"legendgroup\":\"Manhattan\",\"marker\":{\"color\":\"#EF553B\",\"pattern\":{\"shape\":\"\"}},\"name\":\"Manhattan\",\"offsetgroup\":\"Manhattan\",\"orientation\":\"v\",\"showlegend\":false,\"textposition\":\"auto\",\"x\":[0,1,2,3,4],\"xaxis\":\"x6\",\"y\":[3.895503262095529,44.68824091795678,32.37472145597862,14.097663612051017,4.509899623611393],\"yaxis\":\"y6\",\"type\":\"bar\"},{\"alignmentgroup\":\"True\",\"hovertemplate\":\"area=Manhattan<br>max_delay=300<br>duration_minutes=15<br>occupancy=%{x}<br>percent=%{y}<extra></extra>\",\"legendgroup\":\"Manhattan\",\"marker\":{\"color\":\"#EF553B\",\"pattern\":{\"shape\":\"\"}},\"name\":\"Manhattan\",\"offsetgroup\":\"Manhattan\",\"orientation\":\"v\",\"showlegend\":false,\"textposition\":\"auto\",\"x\":[0,1,2,3,4],\"xaxis\":\"x7\",\"y\":[2.1141041080503093,37.29087123932755,31.50344542670908,19.941892176505213,8.461479265335658],\"yaxis\":\"y7\",\"type\":\"bar\"},{\"alignmentgroup\":\"True\",\"hovertemplate\":\"area=Manhattan<br>max_delay=300<br>duration_minutes=30<br>occupancy=%{x}<br>percent=%{y}<extra></extra>\",\"legendgroup\":\"Manhattan\",\"marker\":{\"color\":\"#EF553B\",\"pattern\":{\"shape\":\"\"}},\"name\":\"Manhattan\",\"offsetgroup\":\"Manhattan\",\"orientation\":\"v\",\"showlegend\":false,\"textposition\":\"auto\",\"x\":[0,1,2,3,4],\"xaxis\":\"x8\",\"y\":[1.1896507228867825,31.950305433136517,32.44262848327066,22.562100483815165,10.26937387624995],\"yaxis\":\"y8\",\"type\":\"bar\"},{\"alignmentgroup\":\"True\",\"hovertemplate\":\"area=Manhattan<br>max_delay=300<br>duration_minutes=120<br>occupancy=%{x}<br>percent=%{y}<extra></extra>\",\"legendgroup\":\"Manhattan\",\"marker\":{\"color\":\"#EF553B\",\"pattern\":{\"shape\":\"\"}},\"name\":\"Manhattan\",\"offsetgroup\":\"Manhattan\",\"orientation\":\"v\",\"showlegend\":false,\"textposition\":\"auto\",\"x\":[0,1,2,3,4],\"xaxis\":\"x9\",\"y\":[0.634238515174833,24.43719763848482,30.13471187713128,20.80188491426841,8.621285473320066],\"yaxis\":\"y9\",\"type\":\"bar\"},{\"alignmentgroup\":\"True\",\"hovertemplate\":\"area=Manhattan<br>max_delay=300<br>duration_minutes=960<br>occupancy=%{x}<br>percent=%{y}<extra></extra>\",\"legendgroup\":\"Manhattan\",\"marker\":{\"color\":\"#EF553B\",\"pattern\":{\"shape\":\"\"}},\"name\":\"Manhattan\",\"offsetgroup\":\"Manhattan\",\"orientation\":\"v\",\"showlegend\":false,\"textposition\":\"auto\",\"x\":[0,1,2,3,4],\"xaxis\":\"x10\",\"y\":[0.42326035859180083,15.785115213383492,19.431943423280888,12.32636369083752,4.70445537021498],\"yaxis\":\"y10\",\"type\":\"bar\"},{\"alignmentgroup\":\"True\",\"hovertemplate\":\"area=Manhattan<br>max_delay=600<br>duration_minutes=5<br>occupancy=%{x}<br>percent=%{y}<extra></extra>\",\"legendgroup\":\"Manhattan\",\"marker\":{\"color\":\"#EF553B\",\"pattern\":{\"shape\":\"\"}},\"name\":\"Manhattan\",\"offsetgroup\":\"Manhattan\",\"orientation\":\"v\",\"showlegend\":false,\"textposition\":\"auto\",\"x\":[0,1,2,3,4],\"xaxis\":\"x\",\"y\":[2.607239599856582,35.48710459181279,29.01377675241079,21.777743571067884,10.948566665853214],\"yaxis\":\"y\",\"type\":\"bar\"},{\"alignmentgroup\":\"True\",\"hovertemplate\":\"area=Manhattan<br>max_delay=600<br>duration_minutes=15<br>occupancy=%{x}<br>percent=%{y}<extra></extra>\",\"legendgroup\":\"Manhattan\",\"marker\":{\"color\":\"#EF553B\",\"pattern\":{\"shape\":\"\"}},\"name\":\"Manhattan\",\"offsetgroup\":\"Manhattan\",\"orientation\":\"v\",\"showlegend\":false,\"textposition\":\"auto\",\"x\":[0,1,2,3,4],\"xaxis\":\"x2\",\"y\":[1.4190598164294042,29.71822679780416,24.740776316437614,25.533635453097546,17.771907787793705],\"yaxis\":\"y2\",\"type\":\"bar\"},{\"alignmentgroup\":\"True\",\"hovertemplate\":\"area=Manhattan<br>max_delay=600<br>duration_minutes=30<br>occupancy=%{x}<br>percent=%{y}<extra></extra>\",\"legendgroup\":\"Manhattan\",\"marker\":{\"color\":\"#EF553B\",\"pattern\":{\"shape\":\"\"}},\"name\":\"Manhattan\",\"offsetgroup\":\"Manhattan\",\"orientation\":\"v\",\"showlegend\":false,\"textposition\":\"auto\",\"x\":[0,1,2,3,4],\"xaxis\":\"x3\",\"y\":[0.7511112346024825,22.550796882310138,24.889852789106858,28.67293168432301,22.118806542672985],\"yaxis\":\"y3\",\"type\":\"bar\"},{\"alignmentgroup\":\"True\",\"hovertemplate\":\"area=Manhattan<br>max_delay=600<br>duration_minutes=120<br>occupancy=%{x}<br>percent=%{y}<extra></extra>\",\"legendgroup\":\"Manhattan\",\"marker\":{\"color\":\"#EF553B\",\"pattern\":{\"shape\":\"\"}},\"name\":\"Manhattan\",\"offsetgroup\":\"Manhattan\",\"orientation\":\"v\",\"showlegend\":false,\"textposition\":\"auto\",\"x\":[0,1,2,3,4],\"xaxis\":\"x4\",\"y\":[0.37581639534069344,15.315129077586201,23.315438422838568,30.662790188381102,24.300973887409754],\"yaxis\":\"y4\",\"type\":\"bar\"},{\"alignmentgroup\":\"True\",\"hovertemplate\":\"area=Manhattan<br>max_delay=600<br>duration_minutes=960<br>occupancy=%{x}<br>percent=%{y}<extra></extra>\",\"legendgroup\":\"Manhattan\",\"marker\":{\"color\":\"#EF553B\",\"pattern\":{\"shape\":\"\"}},\"name\":\"Manhattan\",\"offsetgroup\":\"Manhattan\",\"orientation\":\"v\",\"showlegend\":false,\"textposition\":\"auto\",\"x\":[0,1,2,3,4],\"xaxis\":\"x5\",\"y\":[0.2830211653548688,11.545991720316055,18.187474316442845,23.758273723255467,17.884397185636765],\"yaxis\":\"y5\",\"type\":\"bar\"},{\"alignmentgroup\":\"True\",\"hovertemplate\":\"area=Chicago<br>max_delay=180<br>duration_minutes=5<br>occupancy=%{x}<br>percent=%{y}<extra></extra>\",\"legendgroup\":\"Chicago\",\"marker\":{\"color\":\"#00cc96\",\"pattern\":{\"shape\":\"\"}},\"name\":\"Chicago\",\"offsetgroup\":\"Chicago\",\"orientation\":\"v\",\"showlegend\":true,\"textposition\":\"auto\",\"x\":[0,1,2,3,4],\"xaxis\":\"x11\",\"y\":[17.488488907492673,68.8345392573103,13.166297913053878,0.126771512288465,0.0],\"yaxis\":\"y11\",\"type\":\"bar\"},{\"alignmentgroup\":\"True\",\"hovertemplate\":\"area=Chicago<br>max_delay=180<br>duration_minutes=15<br>occupancy=%{x}<br>percent=%{y}<extra></extra>\",\"legendgroup\":\"Chicago\",\"marker\":{\"color\":\"#00cc96\",\"pattern\":{\"shape\":\"\"}},\"name\":\"Chicago\",\"offsetgroup\":\"Chicago\",\"orientation\":\"v\",\"showlegend\":false,\"textposition\":\"auto\",\"x\":[0,1,2,3,4],\"xaxis\":\"x12\",\"y\":[8.160747752235903,73.96009773918819,15.070339003155173,1.7023699380826989,0.1119730505539345],\"yaxis\":\"y12\",\"type\":\"bar\"},{\"alignmentgroup\":\"True\",\"hovertemplate\":\"area=Chicago<br>max_delay=180<br>duration_minutes=30<br>occupancy=%{x}<br>percent=%{y}<extra></extra>\",\"legendgroup\":\"Chicago\",\"marker\":{\"color\":\"#00cc96\",\"pattern\":{\"shape\":\"\"}},\"name\":\"Chicago\",\"offsetgroup\":\"Chicago\",\"orientation\":\"v\",\"showlegend\":false,\"textposition\":\"auto\",\"x\":[0,1,2,3,4],\"xaxis\":\"x13\",\"y\":[4.624931900573716,69.40043359437179,20.325128520151825,2.530496212214627,0.20222446916076842],\"yaxis\":\"y13\",\"type\":\"bar\"},{\"alignmentgroup\":\"True\",\"hovertemplate\":\"area=Chicago<br>max_delay=180<br>duration_minutes=120<br>occupancy=%{x}<br>percent=%{y}<extra></extra>\",\"legendgroup\":\"Chicago\",\"marker\":{\"color\":\"#00cc96\",\"pattern\":{\"shape\":\"\"}},\"name\":\"Chicago\",\"offsetgroup\":\"Chicago\",\"orientation\":\"v\",\"showlegend\":false,\"textposition\":\"auto\",\"x\":[0,1,2,3,4],\"xaxis\":\"x14\",\"y\":[2.2505084704966762,59.35651618767189,20.439167214441305,2.3150952554788446,0.12974665590029222],\"yaxis\":\"y14\",\"type\":\"bar\"},{\"alignmentgroup\":\"True\",\"hovertemplate\":\"area=Chicago<br>max_delay=180<br>duration_minutes=960<br>occupancy=%{x}<br>percent=%{y}<extra></extra>\",\"legendgroup\":\"Chicago\",\"marker\":{\"color\":\"#00cc96\",\"pattern\":{\"shape\":\"\"}},\"name\":\"Chicago\",\"offsetgroup\":\"Chicago\",\"orientation\":\"v\",\"showlegend\":false,\"textposition\":\"auto\",\"x\":[0,1,2,3,4],\"xaxis\":\"x15\",\"y\":[11.046014198116158,36.00479182429087,10.861966694382886,1.0453160918998055,0.04047854963426346],\"yaxis\":\"y15\",\"type\":\"bar\"},{\"alignmentgroup\":\"True\",\"hovertemplate\":\"area=Chicago<br>max_delay=300<br>duration_minutes=5<br>occupancy=%{x}<br>percent=%{y}<extra></extra>\",\"legendgroup\":\"Chicago\",\"marker\":{\"color\":\"#00cc96\",\"pattern\":{\"shape\":\"\"}},\"name\":\"Chicago\",\"offsetgroup\":\"Chicago\",\"orientation\":\"v\",\"showlegend\":false,\"textposition\":\"auto\",\"x\":[0,1,2,3,4],\"xaxis\":\"x6\",\"y\":[9.615790436262856,69.90897708248336,12.995033834639354,6.7964716309562325,0.23494323377555182],\"yaxis\":\"y6\",\"type\":\"bar\"},{\"alignmentgroup\":\"True\",\"hovertemplate\":\"area=Chicago<br>max_delay=300<br>duration_minutes=15<br>occupancy=%{x}<br>percent=%{y}<extra></extra>\",\"legendgroup\":\"Chicago\",\"marker\":{\"color\":\"#00cc96\",\"pattern\":{\"shape\":\"\"}},\"name\":\"Chicago\",\"offsetgroup\":\"Chicago\",\"orientation\":\"v\",\"showlegend\":false,\"textposition\":\"auto\",\"x\":[0,1,2,3,4],\"xaxis\":\"x7\",\"y\":[6.838464013729487,63.138474739890604,20.917086774643355,7.430011798777218,0.7899817655261182],\"yaxis\":\"y7\",\"type\":\"bar\"},{\"alignmentgroup\":\"True\",\"hovertemplate\":\"area=Chicago<br>max_delay=300<br>duration_minutes=30<br>occupancy=%{x}<br>percent=%{y}<extra></extra>\",\"legendgroup\":\"Chicago\",\"marker\":{\"color\":\"#00cc96\",\"pattern\":{\"shape\":\"\"}},\"name\":\"Chicago\",\"offsetgroup\":\"Chicago\",\"orientation\":\"v\",\"showlegend\":false,\"textposition\":\"auto\",\"x\":[0,1,2,3,4],\"xaxis\":\"x8\",\"y\":[3.564976390884828,57.089406692670906,27.33858550605625,7.920344898378158,1.7596489427222337],\"yaxis\":\"y8\",\"type\":\"bar\"},{\"alignmentgroup\":\"True\",\"hovertemplate\":\"area=Chicago<br>max_delay=300<br>duration_minutes=120<br>occupancy=%{x}<br>percent=%{y}<extra></extra>\",\"legendgroup\":\"Chicago\",\"marker\":{\"color\":\"#00cc96\",\"pattern\":{\"shape\":\"\"}},\"name\":\"Chicago\",\"offsetgroup\":\"Chicago\",\"orientation\":\"v\",\"showlegend\":false,\"textposition\":\"auto\",\"x\":[0,1,2,3,4],\"xaxis\":\"x9\",\"y\":[1.7030303821885047,47.008835492654505,29.569787880808494,8.083104363027179,1.0685357334600032],\"yaxis\":\"y9\",\"type\":\"bar\"},{\"alignmentgroup\":\"True\",\"hovertemplate\":\"area=Chicago<br>max_delay=300<br>duration_minutes=960<br>occupancy=%{x}<br>percent=%{y}<extra></extra>\",\"legendgroup\":\"Chicago\",\"marker\":{\"color\":\"#00cc96\",\"pattern\":{\"shape\":\"\"}},\"name\":\"Chicago\",\"offsetgroup\":\"Chicago\",\"orientation\":\"v\",\"showlegend\":false,\"textposition\":\"auto\",\"x\":[0,1,2,3,4],\"xaxis\":\"x10\",\"y\":[8.2755483754319,29.941364296906166,16.992525164474443,3.853591547819872,0.4638959014684324],\"yaxis\":\"y10\",\"type\":\"bar\"},{\"alignmentgroup\":\"True\",\"hovertemplate\":\"area=Chicago<br>max_delay=600<br>duration_minutes=5<br>occupancy=%{x}<br>percent=%{y}<extra></extra>\",\"legendgroup\":\"Chicago\",\"marker\":{\"color\":\"#00cc96\",\"pattern\":{\"shape\":\"\"}},\"name\":\"Chicago\",\"offsetgroup\":\"Chicago\",\"orientation\":\"v\",\"showlegend\":false,\"textposition\":\"auto\",\"x\":[0,1,2,3,4],\"xaxis\":\"x\",\"y\":[7.639575195695484,60.30872041037225,20.0731014792853,5.531240685836196,5.873217563179444],\"yaxis\":\"y\",\"type\":\"bar\"},{\"alignmentgroup\":\"True\",\"hovertemplate\":\"area=Chicago<br>max_delay=600<br>duration_minutes=15<br>occupancy=%{x}<br>percent=%{y}<extra></extra>\",\"legendgroup\":\"Chicago\",\"marker\":{\"color\":\"#00cc96\",\"pattern\":{\"shape\":\"\"}},\"name\":\"Chicago\",\"offsetgroup\":\"Chicago\",\"orientation\":\"v\",\"showlegend\":false,\"textposition\":\"auto\",\"x\":[0,1,2,3,4],\"xaxis\":\"x2\",\"y\":[6.040742296151575,47.745296741955315,27.29015648109263,11.527623082026281,6.027352237661365],\"yaxis\":\"y2\",\"type\":\"bar\"},{\"alignmentgroup\":\"True\",\"hovertemplate\":\"area=Chicago<br>max_delay=600<br>duration_minutes=30<br>occupancy=%{x}<br>percent=%{y}<extra></extra>\",\"legendgroup\":\"Chicago\",\"marker\":{\"color\":\"#00cc96\",\"pattern\":{\"shape\":\"\"}},\"name\":\"Chicago\",\"offsetgroup\":\"Chicago\",\"orientation\":\"v\",\"showlegend\":false,\"textposition\":\"auto\",\"x\":[0,1,2,3,4],\"xaxis\":\"x3\",\"y\":[3.2256017720044072,43.847879882097104,26.63457600526064,18.094979897671358,5.5686622866470925],\"yaxis\":\"y3\",\"type\":\"bar\"},{\"alignmentgroup\":\"True\",\"hovertemplate\":\"area=Chicago<br>max_delay=600<br>duration_minutes=120<br>occupancy=%{x}<br>percent=%{y}<extra></extra>\",\"legendgroup\":\"Chicago\",\"marker\":{\"color\":\"#00cc96\",\"pattern\":{\"shape\":\"\"}},\"name\":\"Chicago\",\"offsetgroup\":\"Chicago\",\"orientation\":\"v\",\"showlegend\":false,\"textposition\":\"auto\",\"x\":[0,1,2,3,4],\"xaxis\":\"x4\",\"y\":[1.7411764705882353,36.639866971523595,25.557929744335894,17.354562461026813,9.055248389108293],\"yaxis\":\"y4\",\"type\":\"bar\"},{\"alignmentgroup\":\"True\",\"hovertemplate\":\"area=Chicago<br>max_delay=600<br>duration_minutes=960<br>occupancy=%{x}<br>percent=%{y}<extra></extra>\",\"legendgroup\":\"Chicago\",\"marker\":{\"color\":\"#00cc96\",\"pattern\":{\"shape\":\"\"}},\"name\":\"Chicago\",\"offsetgroup\":\"Chicago\",\"orientation\":\"v\",\"showlegend\":false,\"textposition\":\"auto\",\"x\":[0,1,2,3,4],\"xaxis\":\"x5\",\"y\":[3.7181387432505404,26.279555496842832,21.14634741532924,12.810769755210089,4.837172185916892],\"yaxis\":\"y5\",\"type\":\"bar\"},{\"alignmentgroup\":\"True\",\"hovertemplate\":\"area=DC<br>max_delay=180<br>duration_minutes=5<br>occupancy=%{x}<br>percent=%{y}<extra></extra>\",\"legendgroup\":\"DC\",\"marker\":{\"color\":\"#ab63fa\",\"pattern\":{\"shape\":\"\"}},\"name\":\"DC\",\"offsetgroup\":\"DC\",\"orientation\":\"v\",\"showlegend\":true,\"textposition\":\"auto\",\"x\":[0,1,2,3,4],\"xaxis\":\"x11\",\"y\":[15.65484142298748,63.20815397555787,17.841769333531246,1.7614170501212212,1.48434021077631],\"yaxis\":\"y11\",\"type\":\"bar\"},{\"alignmentgroup\":\"True\",\"hovertemplate\":\"area=DC<br>max_delay=180<br>duration_minutes=15<br>occupancy=%{x}<br>percent=%{y}<extra></extra>\",\"legendgroup\":\"DC\",\"marker\":{\"color\":\"#ab63fa\",\"pattern\":{\"shape\":\"\"}},\"name\":\"DC\",\"offsetgroup\":\"DC\",\"orientation\":\"v\",\"showlegend\":false,\"textposition\":\"auto\",\"x\":[0,1,2,3,4],\"xaxis\":\"x12\",\"y\":[7.790863668807995,62.64810849393291,20.735189150606708,6.258029978586724,1.3758029978586723],\"yaxis\":\"y12\",\"type\":\"bar\"},{\"alignmentgroup\":\"True\",\"hovertemplate\":\"area=DC<br>max_delay=180<br>duration_minutes=30<br>occupancy=%{x}<br>percent=%{y}<extra></extra>\",\"legendgroup\":\"DC\",\"marker\":{\"color\":\"#ab63fa\",\"pattern\":{\"shape\":\"\"}},\"name\":\"DC\",\"offsetgroup\":\"DC\",\"orientation\":\"v\",\"showlegend\":false,\"textposition\":\"auto\",\"x\":[0,1,2,3,4],\"xaxis\":\"x13\",\"y\":[4.502727272727273,60.75454545454545,21.18,6.196363636363636,1.0627272727272727],\"yaxis\":\"y13\",\"type\":\"bar\"},{\"alignmentgroup\":\"True\",\"hovertemplate\":\"area=DC<br>max_delay=180<br>duration_minutes=120<br>occupancy=%{x}<br>percent=%{y}<extra></extra>\",\"legendgroup\":\"DC\",\"marker\":{\"color\":\"#ab63fa\",\"pattern\":{\"shape\":\"\"}},\"name\":\"DC\",\"offsetgroup\":\"DC\",\"orientation\":\"v\",\"showlegend\":false,\"textposition\":\"auto\",\"x\":[0,1,2,3,4],\"xaxis\":\"x14\",\"y\":[1.4113026531762574,39.47448894413469,14.376344068247674,3.6459478356885353,0.7440001454610371],\"yaxis\":\"y14\",\"type\":\"bar\"},{\"alignmentgroup\":\"True\",\"hovertemplate\":\"area=DC<br>max_delay=180<br>duration_minutes=960<br>occupancy=%{x}<br>percent=%{y}<extra></extra>\",\"legendgroup\":\"DC\",\"marker\":{\"color\":\"#ab63fa\",\"pattern\":{\"shape\":\"\"}},\"name\":\"DC\",\"offsetgroup\":\"DC\",\"orientation\":\"v\",\"showlegend\":false,\"textposition\":\"auto\",\"x\":[0,1,2,3,4],\"xaxis\":\"x15\",\"y\":[0.7059803814276937,15.461409186900871,6.245036033117311,1.7440115462005135,0.30902556178831747],\"yaxis\":\"y15\",\"type\":\"bar\"},{\"alignmentgroup\":\"True\",\"hovertemplate\":\"area=DC<br>max_delay=300<br>duration_minutes=5<br>occupancy=%{x}<br>percent=%{y}<extra></extra>\",\"legendgroup\":\"DC\",\"marker\":{\"color\":\"#ab63fa\",\"pattern\":{\"shape\":\"\"}},\"name\":\"DC\",\"offsetgroup\":\"DC\",\"orientation\":\"v\",\"showlegend\":false,\"textposition\":\"auto\",\"x\":[0,1,2,3,4],\"xaxis\":\"x6\",\"y\":[11.988056730529982,67.80791241602388,13.172430952973377,5.36451853694949,1.632246827569047],\"yaxis\":\"y6\",\"type\":\"bar\"},{\"alignmentgroup\":\"True\",\"hovertemplate\":\"area=DC<br>max_delay=300<br>duration_minutes=15<br>occupancy=%{x}<br>percent=%{y}<extra></extra>\",\"legendgroup\":\"DC\",\"marker\":{\"color\":\"#ab63fa\",\"pattern\":{\"shape\":\"\"}},\"name\":\"DC\",\"offsetgroup\":\"DC\",\"orientation\":\"v\",\"showlegend\":false,\"textposition\":\"auto\",\"x\":[0,1,2,3,4],\"xaxis\":\"x7\",\"y\":[4.87539053985323,57.674562232071494,23.129041633364817,7.572840223788418,3.162464578943544],\"yaxis\":\"y7\",\"type\":\"bar\"},{\"alignmentgroup\":\"True\",\"hovertemplate\":\"area=DC<br>max_delay=300<br>duration_minutes=30<br>occupancy=%{x}<br>percent=%{y}<extra></extra>\",\"legendgroup\":\"DC\",\"marker\":{\"color\":\"#ab63fa\",\"pattern\":{\"shape\":\"\"}},\"name\":\"DC\",\"offsetgroup\":\"DC\",\"orientation\":\"v\",\"showlegend\":false,\"textposition\":\"auto\",\"x\":[0,1,2,3,4],\"xaxis\":\"x8\",\"y\":[4.073109615290129,54.34677934456836,24.63322360339999,9.369626099346535,3.5169262516582327],\"yaxis\":\"y8\",\"type\":\"bar\"},{\"alignmentgroup\":\"True\",\"hovertemplate\":\"area=DC<br>max_delay=300<br>duration_minutes=120<br>occupancy=%{x}<br>percent=%{y}<extra></extra>\",\"legendgroup\":\"DC\",\"marker\":{\"color\":\"#ab63fa\",\"pattern\":{\"shape\":\"\"}},\"name\":\"DC\",\"offsetgroup\":\"DC\",\"orientation\":\"v\",\"showlegend\":false,\"textposition\":\"auto\",\"x\":[0,1,2,3,4],\"xaxis\":\"x9\",\"y\":[1.3724242875400967,35.97151513862491,18.348682391475425,6.852840461960567,2.4861413763300315],\"yaxis\":\"y9\",\"type\":\"bar\"},{\"alignmentgroup\":\"True\",\"hovertemplate\":\"area=DC<br>max_delay=300<br>duration_minutes=960<br>occupancy=%{x}<br>percent=%{y}<extra></extra>\",\"legendgroup\":\"DC\",\"marker\":{\"color\":\"#ab63fa\",\"pattern\":{\"shape\":\"\"}},\"name\":\"DC\",\"offsetgroup\":\"DC\",\"orientation\":\"v\",\"showlegend\":false,\"textposition\":\"auto\",\"x\":[0,1,2,3,4],\"xaxis\":\"x10\",\"y\":[0.813400143898518,16.643972655508684,9.08288652730318,3.815197177566772,1.4164232201047433],\"yaxis\":\"y10\",\"type\":\"bar\"},{\"alignmentgroup\":\"True\",\"hovertemplate\":\"area=DC<br>max_delay=600<br>duration_minutes=5<br>occupancy=%{x}<br>percent=%{y}<extra></extra>\",\"legendgroup\":\"DC\",\"marker\":{\"color\":\"#ab63fa\",\"pattern\":{\"shape\":\"\"}},\"name\":\"DC\",\"offsetgroup\":\"DC\",\"orientation\":\"v\",\"showlegend\":false,\"textposition\":\"auto\",\"x\":[0,1,2,3,4],\"xaxis\":\"x\",\"y\":[10.002693239967682,52.588203608941555,20.856450309722597,11.18233234581201,4.643145704282252],\"yaxis\":\"y\",\"type\":\"bar\"},{\"alignmentgroup\":\"True\",\"hovertemplate\":\"area=DC<br>max_delay=600<br>duration_minutes=15<br>occupancy=%{x}<br>percent=%{y}<extra></extra>\",\"legendgroup\":\"DC\",\"marker\":{\"color\":\"#ab63fa\",\"pattern\":{\"shape\":\"\"}},\"name\":\"DC\",\"offsetgroup\":\"DC\",\"orientation\":\"v\",\"showlegend\":false,\"textposition\":\"auto\",\"x\":[0,1,2,3,4],\"xaxis\":\"x2\",\"y\":[4.326494201605709,40.801638147757686,22.344092125537262,18.378477009163895,11.142648609196334],\"yaxis\":\"y2\",\"type\":\"bar\"},{\"alignmentgroup\":\"True\",\"hovertemplate\":\"area=DC<br>max_delay=600<br>duration_minutes=30<br>occupancy=%{x}<br>percent=%{y}<extra></extra>\",\"legendgroup\":\"DC\",\"marker\":{\"color\":\"#ab63fa\",\"pattern\":{\"shape\":\"\"}},\"name\":\"DC\",\"offsetgroup\":\"DC\",\"orientation\":\"v\",\"showlegend\":false,\"textposition\":\"auto\",\"x\":[0,1,2,3,4],\"xaxis\":\"x3\",\"y\":[2.198828884615802,37.622353311823055,23.359297765320644,18.87581614140295,10.813805690447479],\"yaxis\":\"y3\",\"type\":\"bar\"},{\"alignmentgroup\":\"True\",\"hovertemplate\":\"area=DC<br>max_delay=600<br>duration_minutes=120<br>occupancy=%{x}<br>percent=%{y}<extra></extra>\",\"legendgroup\":\"DC\",\"marker\":{\"color\":\"#ab63fa\",\"pattern\":{\"shape\":\"\"}},\"name\":\"DC\",\"offsetgroup\":\"DC\",\"orientation\":\"v\",\"showlegend\":false,\"textposition\":\"auto\",\"x\":[0,1,2,3,4],\"xaxis\":\"x4\",\"y\":[1.5364983586649208,31.06392668070815,19.284975617160967,13.722462571867705,8.622701656515057],\"yaxis\":\"y4\",\"type\":\"bar\"},{\"alignmentgroup\":\"True\",\"hovertemplate\":\"area=DC<br>max_delay=600<br>duration_minutes=960<br>occupancy=%{x}<br>percent=%{y}<extra></extra>\",\"legendgroup\":\"DC\",\"marker\":{\"color\":\"#ab63fa\",\"pattern\":{\"shape\":\"\"}},\"name\":\"DC\",\"offsetgroup\":\"DC\",\"orientation\":\"v\",\"showlegend\":false,\"textposition\":\"auto\",\"x\":[0,1,2,3,4],\"xaxis\":\"x5\",\"y\":[0.7565488145940332,15.738022058831296,11.073685456153344,8.494097535154348,5.18944624705088],\"yaxis\":\"y5\",\"type\":\"bar\"}],                        {\"template\":{\"data\":{\"histogram2dcontour\":[{\"type\":\"histogram2dcontour\",\"colorbar\":{\"outlinewidth\":0,\"ticks\":\"\"},\"colorscale\":[[0.0,\"#0d0887\"],[0.1111111111111111,\"#46039f\"],[0.2222222222222222,\"#7201a8\"],[0.3333333333333333,\"#9c179e\"],[0.4444444444444444,\"#bd3786\"],[0.5555555555555556,\"#d8576b\"],[0.6666666666666666,\"#ed7953\"],[0.7777777777777778,\"#fb9f3a\"],[0.8888888888888888,\"#fdca26\"],[1.0,\"#f0f921\"]]}],\"choropleth\":[{\"type\":\"choropleth\",\"colorbar\":{\"outlinewidth\":0,\"ticks\":\"\"}}],\"histogram2d\":[{\"type\":\"histogram2d\",\"colorbar\":{\"outlinewidth\":0,\"ticks\":\"\"},\"colorscale\":[[0.0,\"#0d0887\"],[0.1111111111111111,\"#46039f\"],[0.2222222222222222,\"#7201a8\"],[0.3333333333333333,\"#9c179e\"],[0.4444444444444444,\"#bd3786\"],[0.5555555555555556,\"#d8576b\"],[0.6666666666666666,\"#ed7953\"],[0.7777777777777778,\"#fb9f3a\"],[0.8888888888888888,\"#fdca26\"],[1.0,\"#f0f921\"]]}],\"heatmap\":[{\"type\":\"heatmap\",\"colorbar\":{\"outlinewidth\":0,\"ticks\":\"\"},\"colorscale\":[[0.0,\"#0d0887\"],[0.1111111111111111,\"#46039f\"],[0.2222222222222222,\"#7201a8\"],[0.3333333333333333,\"#9c179e\"],[0.4444444444444444,\"#bd3786\"],[0.5555555555555556,\"#d8576b\"],[0.6666666666666666,\"#ed7953\"],[0.7777777777777778,\"#fb9f3a\"],[0.8888888888888888,\"#fdca26\"],[1.0,\"#f0f921\"]]}],\"heatmapgl\":[{\"type\":\"heatmapgl\",\"colorbar\":{\"outlinewidth\":0,\"ticks\":\"\"},\"colorscale\":[[0.0,\"#0d0887\"],[0.1111111111111111,\"#46039f\"],[0.2222222222222222,\"#7201a8\"],[0.3333333333333333,\"#9c179e\"],[0.4444444444444444,\"#bd3786\"],[0.5555555555555556,\"#d8576b\"],[0.6666666666666666,\"#ed7953\"],[0.7777777777777778,\"#fb9f3a\"],[0.8888888888888888,\"#fdca26\"],[1.0,\"#f0f921\"]]}],\"contourcarpet\":[{\"type\":\"contourcarpet\",\"colorbar\":{\"outlinewidth\":0,\"ticks\":\"\"}}],\"contour\":[{\"type\":\"contour\",\"colorbar\":{\"outlinewidth\":0,\"ticks\":\"\"},\"colorscale\":[[0.0,\"#0d0887\"],[0.1111111111111111,\"#46039f\"],[0.2222222222222222,\"#7201a8\"],[0.3333333333333333,\"#9c179e\"],[0.4444444444444444,\"#bd3786\"],[0.5555555555555556,\"#d8576b\"],[0.6666666666666666,\"#ed7953\"],[0.7777777777777778,\"#fb9f3a\"],[0.8888888888888888,\"#fdca26\"],[1.0,\"#f0f921\"]]}],\"surface\":[{\"type\":\"surface\",\"colorbar\":{\"outlinewidth\":0,\"ticks\":\"\"},\"colorscale\":[[0.0,\"#0d0887\"],[0.1111111111111111,\"#46039f\"],[0.2222222222222222,\"#7201a8\"],[0.3333333333333333,\"#9c179e\"],[0.4444444444444444,\"#bd3786\"],[0.5555555555555556,\"#d8576b\"],[0.6666666666666666,\"#ed7953\"],[0.7777777777777778,\"#fb9f3a\"],[0.8888888888888888,\"#fdca26\"],[1.0,\"#f0f921\"]]}],\"mesh3d\":[{\"type\":\"mesh3d\",\"colorbar\":{\"outlinewidth\":0,\"ticks\":\"\"}}],\"scatter\":[{\"fillpattern\":{\"fillmode\":\"overlay\",\"size\":10,\"solidity\":0.2},\"type\":\"scatter\"}],\"parcoords\":[{\"type\":\"parcoords\",\"line\":{\"colorbar\":{\"outlinewidth\":0,\"ticks\":\"\"}}}],\"scatterpolargl\":[{\"type\":\"scatterpolargl\",\"marker\":{\"colorbar\":{\"outlinewidth\":0,\"ticks\":\"\"}}}],\"bar\":[{\"error_x\":{\"color\":\"#2a3f5f\"},\"error_y\":{\"color\":\"#2a3f5f\"},\"marker\":{\"line\":{\"color\":\"#E5ECF6\",\"width\":0.5},\"pattern\":{\"fillmode\":\"overlay\",\"size\":10,\"solidity\":0.2}},\"type\":\"bar\"}],\"scattergeo\":[{\"type\":\"scattergeo\",\"marker\":{\"colorbar\":{\"outlinewidth\":0,\"ticks\":\"\"}}}],\"scatterpolar\":[{\"type\":\"scatterpolar\",\"marker\":{\"colorbar\":{\"outlinewidth\":0,\"ticks\":\"\"}}}],\"histogram\":[{\"marker\":{\"pattern\":{\"fillmode\":\"overlay\",\"size\":10,\"solidity\":0.2}},\"type\":\"histogram\"}],\"scattergl\":[{\"type\":\"scattergl\",\"marker\":{\"colorbar\":{\"outlinewidth\":0,\"ticks\":\"\"}}}],\"scatter3d\":[{\"type\":\"scatter3d\",\"line\":{\"colorbar\":{\"outlinewidth\":0,\"ticks\":\"\"}},\"marker\":{\"colorbar\":{\"outlinewidth\":0,\"ticks\":\"\"}}}],\"scattermapbox\":[{\"type\":\"scattermapbox\",\"marker\":{\"colorbar\":{\"outlinewidth\":0,\"ticks\":\"\"}}}],\"scatterternary\":[{\"type\":\"scatterternary\",\"marker\":{\"colorbar\":{\"outlinewidth\":0,\"ticks\":\"\"}}}],\"scattercarpet\":[{\"type\":\"scattercarpet\",\"marker\":{\"colorbar\":{\"outlinewidth\":0,\"ticks\":\"\"}}}],\"carpet\":[{\"aaxis\":{\"endlinecolor\":\"#2a3f5f\",\"gridcolor\":\"white\",\"linecolor\":\"white\",\"minorgridcolor\":\"white\",\"startlinecolor\":\"#2a3f5f\"},\"baxis\":{\"endlinecolor\":\"#2a3f5f\",\"gridcolor\":\"white\",\"linecolor\":\"white\",\"minorgridcolor\":\"white\",\"startlinecolor\":\"#2a3f5f\"},\"type\":\"carpet\"}],\"table\":[{\"cells\":{\"fill\":{\"color\":\"#EBF0F8\"},\"line\":{\"color\":\"white\"}},\"header\":{\"fill\":{\"color\":\"#C8D4E3\"},\"line\":{\"color\":\"white\"}},\"type\":\"table\"}],\"barpolar\":[{\"marker\":{\"line\":{\"color\":\"#E5ECF6\",\"width\":0.5},\"pattern\":{\"fillmode\":\"overlay\",\"size\":10,\"solidity\":0.2}},\"type\":\"barpolar\"}],\"pie\":[{\"automargin\":true,\"type\":\"pie\"}]},\"layout\":{\"autotypenumbers\":\"strict\",\"colorway\":[\"#636efa\",\"#EF553B\",\"#00cc96\",\"#ab63fa\",\"#FFA15A\",\"#19d3f3\",\"#FF6692\",\"#B6E880\",\"#FF97FF\",\"#FECB52\"],\"font\":{\"color\":\"#2a3f5f\"},\"hovermode\":\"closest\",\"hoverlabel\":{\"align\":\"left\"},\"paper_bgcolor\":\"white\",\"plot_bgcolor\":\"#E5ECF6\",\"polar\":{\"bgcolor\":\"#E5ECF6\",\"angularaxis\":{\"gridcolor\":\"white\",\"linecolor\":\"white\",\"ticks\":\"\"},\"radialaxis\":{\"gridcolor\":\"white\",\"linecolor\":\"white\",\"ticks\":\"\"}},\"ternary\":{\"bgcolor\":\"#E5ECF6\",\"aaxis\":{\"gridcolor\":\"white\",\"linecolor\":\"white\",\"ticks\":\"\"},\"baxis\":{\"gridcolor\":\"white\",\"linecolor\":\"white\",\"ticks\":\"\"},\"caxis\":{\"gridcolor\":\"white\",\"linecolor\":\"white\",\"ticks\":\"\"}},\"coloraxis\":{\"colorbar\":{\"outlinewidth\":0,\"ticks\":\"\"}},\"colorscale\":{\"sequential\":[[0.0,\"#0d0887\"],[0.1111111111111111,\"#46039f\"],[0.2222222222222222,\"#7201a8\"],[0.3333333333333333,\"#9c179e\"],[0.4444444444444444,\"#bd3786\"],[0.5555555555555556,\"#d8576b\"],[0.6666666666666666,\"#ed7953\"],[0.7777777777777778,\"#fb9f3a\"],[0.8888888888888888,\"#fdca26\"],[1.0,\"#f0f921\"]],\"sequentialminus\":[[0.0,\"#0d0887\"],[0.1111111111111111,\"#46039f\"],[0.2222222222222222,\"#7201a8\"],[0.3333333333333333,\"#9c179e\"],[0.4444444444444444,\"#bd3786\"],[0.5555555555555556,\"#d8576b\"],[0.6666666666666666,\"#ed7953\"],[0.7777777777777778,\"#fb9f3a\"],[0.8888888888888888,\"#fdca26\"],[1.0,\"#f0f921\"]],\"diverging\":[[0,\"#8e0152\"],[0.1,\"#c51b7d\"],[0.2,\"#de77ae\"],[0.3,\"#f1b6da\"],[0.4,\"#fde0ef\"],[0.5,\"#f7f7f7\"],[0.6,\"#e6f5d0\"],[0.7,\"#b8e186\"],[0.8,\"#7fbc41\"],[0.9,\"#4d9221\"],[1,\"#276419\"]]},\"xaxis\":{\"gridcolor\":\"white\",\"linecolor\":\"white\",\"ticks\":\"\",\"title\":{\"standoff\":15},\"zerolinecolor\":\"white\",\"automargin\":true,\"zerolinewidth\":2},\"yaxis\":{\"gridcolor\":\"white\",\"linecolor\":\"white\",\"ticks\":\"\",\"title\":{\"standoff\":15},\"zerolinecolor\":\"white\",\"automargin\":true,\"zerolinewidth\":2},\"scene\":{\"xaxis\":{\"backgroundcolor\":\"#E5ECF6\",\"gridcolor\":\"white\",\"linecolor\":\"white\",\"showbackground\":true,\"ticks\":\"\",\"zerolinecolor\":\"white\",\"gridwidth\":2},\"yaxis\":{\"backgroundcolor\":\"#E5ECF6\",\"gridcolor\":\"white\",\"linecolor\":\"white\",\"showbackground\":true,\"ticks\":\"\",\"zerolinecolor\":\"white\",\"gridwidth\":2},\"zaxis\":{\"backgroundcolor\":\"#E5ECF6\",\"gridcolor\":\"white\",\"linecolor\":\"white\",\"showbackground\":true,\"ticks\":\"\",\"zerolinecolor\":\"white\",\"gridwidth\":2}},\"shapedefaults\":{\"line\":{\"color\":\"#2a3f5f\"}},\"annotationdefaults\":{\"arrowcolor\":\"#2a3f5f\",\"arrowhead\":0,\"arrowwidth\":1},\"geo\":{\"bgcolor\":\"white\",\"landcolor\":\"#E5ECF6\",\"subunitcolor\":\"white\",\"showland\":true,\"showlakes\":true,\"lakecolor\":\"white\"},\"title\":{\"x\":0.05},\"mapbox\":{\"style\":\"light\"}}},\"xaxis\":{\"anchor\":\"y\",\"domain\":[0.0,0.18000000000000002],\"title\":{\"text\":\"\"},\"dtick\":1},\"yaxis\":{\"anchor\":\"x\",\"domain\":[0.0,0.3133333333333333],\"title\":{\"text\":\"\"}},\"xaxis2\":{\"anchor\":\"y2\",\"domain\":[0.2,0.38],\"matches\":\"x\",\"title\":{\"text\":\"\"},\"dtick\":1},\"yaxis2\":{\"anchor\":\"x2\",\"domain\":[0.0,0.3133333333333333],\"matches\":\"y\",\"showticklabels\":false,\"title\":{\"text\":\"\"}},\"xaxis3\":{\"anchor\":\"y3\",\"domain\":[0.4,0.5800000000000001],\"matches\":\"x\",\"title\":{\"text\":\"\"},\"dtick\":1},\"yaxis3\":{\"anchor\":\"x3\",\"domain\":[0.0,0.3133333333333333],\"matches\":\"y\",\"showticklabels\":false,\"title\":{\"text\":\"\"}},\"xaxis4\":{\"anchor\":\"y4\",\"domain\":[0.6000000000000001,0.7800000000000001],\"matches\":\"x\",\"title\":{\"text\":\"\"},\"dtick\":1},\"yaxis4\":{\"anchor\":\"x4\",\"domain\":[0.0,0.3133333333333333],\"matches\":\"y\",\"showticklabels\":false,\"title\":{\"text\":\"\"}},\"xaxis5\":{\"anchor\":\"y5\",\"domain\":[0.8,0.9800000000000001],\"matches\":\"x\",\"title\":{\"text\":\"\"},\"dtick\":1},\"yaxis5\":{\"anchor\":\"x5\",\"domain\":[0.0,0.3133333333333333],\"matches\":\"y\",\"showticklabels\":false,\"title\":{\"text\":\"\"}},\"xaxis6\":{\"anchor\":\"y6\",\"domain\":[0.0,0.18000000000000002],\"matches\":\"x\",\"showticklabels\":false,\"title\":{\"text\":\"\"},\"dtick\":1},\"yaxis6\":{\"anchor\":\"x6\",\"domain\":[0.34333333333333327,0.6566666666666665],\"matches\":\"y\",\"title\":{\"text\":\"\"}},\"xaxis7\":{\"anchor\":\"y7\",\"domain\":[0.2,0.38],\"matches\":\"x\",\"showticklabels\":false,\"title\":{\"text\":\"\"},\"dtick\":1},\"yaxis7\":{\"anchor\":\"x7\",\"domain\":[0.34333333333333327,0.6566666666666665],\"matches\":\"y\",\"showticklabels\":false,\"title\":{\"text\":\"\"}},\"xaxis8\":{\"anchor\":\"y8\",\"domain\":[0.4,0.5800000000000001],\"matches\":\"x\",\"showticklabels\":false,\"title\":{\"text\":\"\"},\"dtick\":1},\"yaxis8\":{\"anchor\":\"x8\",\"domain\":[0.34333333333333327,0.6566666666666665],\"matches\":\"y\",\"showticklabels\":false,\"title\":{\"text\":\"\"}},\"xaxis9\":{\"anchor\":\"y9\",\"domain\":[0.6000000000000001,0.7800000000000001],\"matches\":\"x\",\"showticklabels\":false,\"title\":{\"text\":\"\"},\"dtick\":1},\"yaxis9\":{\"anchor\":\"x9\",\"domain\":[0.34333333333333327,0.6566666666666665],\"matches\":\"y\",\"showticklabels\":false,\"title\":{\"text\":\"\"}},\"xaxis10\":{\"anchor\":\"y10\",\"domain\":[0.8,0.9800000000000001],\"matches\":\"x\",\"showticklabels\":false,\"title\":{\"text\":\"\"},\"dtick\":1},\"yaxis10\":{\"anchor\":\"x10\",\"domain\":[0.34333333333333327,0.6566666666666665],\"matches\":\"y\",\"showticklabels\":false,\"title\":{\"text\":\"\"}},\"xaxis11\":{\"anchor\":\"y11\",\"domain\":[0.0,0.18000000000000002],\"matches\":\"x\",\"showticklabels\":false,\"title\":{\"text\":\"\"},\"dtick\":1},\"yaxis11\":{\"anchor\":\"x11\",\"domain\":[0.6866666666666665,0.9999999999999998],\"matches\":\"y\",\"title\":{\"text\":\"\"}},\"xaxis12\":{\"anchor\":\"y12\",\"domain\":[0.2,0.38],\"matches\":\"x\",\"showticklabels\":false,\"title\":{\"text\":\"\"},\"dtick\":1},\"yaxis12\":{\"anchor\":\"x12\",\"domain\":[0.6866666666666665,0.9999999999999998],\"matches\":\"y\",\"showticklabels\":false,\"title\":{\"text\":\"\"}},\"xaxis13\":{\"anchor\":\"y13\",\"domain\":[0.4,0.5800000000000001],\"matches\":\"x\",\"showticklabels\":false,\"title\":{\"text\":\"\"},\"dtick\":1},\"yaxis13\":{\"anchor\":\"x13\",\"domain\":[0.6866666666666665,0.9999999999999998],\"matches\":\"y\",\"showticklabels\":false,\"title\":{\"text\":\"\"}},\"xaxis14\":{\"anchor\":\"y14\",\"domain\":[0.6000000000000001,0.7800000000000001],\"matches\":\"x\",\"showticklabels\":false,\"title\":{\"text\":\"\"},\"dtick\":1},\"yaxis14\":{\"anchor\":\"x14\",\"domain\":[0.6866666666666665,0.9999999999999998],\"matches\":\"y\",\"showticklabels\":false,\"title\":{\"text\":\"\"}},\"xaxis15\":{\"anchor\":\"y15\",\"domain\":[0.8,0.9800000000000001],\"matches\":\"x\",\"showticklabels\":false,\"title\":{\"text\":\"\"},\"dtick\":1},\"yaxis15\":{\"anchor\":\"x15\",\"domain\":[0.6866666666666665,0.9999999999999998],\"matches\":\"y\",\"showticklabels\":false,\"title\":{\"text\":\"\"}},\"annotations\":[{\"showarrow\":false,\"text\":\"5\",\"x\":0.09000000000000001,\"xanchor\":\"center\",\"xref\":\"paper\",\"y\":0.9999999999999998,\"yanchor\":\"bottom\",\"yref\":\"paper\"},{\"showarrow\":false,\"text\":\"15\",\"x\":0.29000000000000004,\"xanchor\":\"center\",\"xref\":\"paper\",\"y\":0.9999999999999998,\"yanchor\":\"bottom\",\"yref\":\"paper\"},{\"showarrow\":false,\"text\":\"30\",\"x\":0.49000000000000005,\"xanchor\":\"center\",\"xref\":\"paper\",\"y\":0.9999999999999998,\"yanchor\":\"bottom\",\"yref\":\"paper\"},{\"showarrow\":false,\"text\":\"120\",\"x\":0.6900000000000002,\"xanchor\":\"center\",\"xref\":\"paper\",\"y\":0.9999999999999998,\"yanchor\":\"bottom\",\"yref\":\"paper\"},{\"showarrow\":false,\"text\":\"960\",\"x\":0.8900000000000001,\"xanchor\":\"center\",\"xref\":\"paper\",\"y\":0.9999999999999998,\"yanchor\":\"bottom\",\"yref\":\"paper\"},{\"showarrow\":false,\"text\":\"600\",\"textangle\":90,\"x\":0.9800000000000001,\"xanchor\":\"left\",\"xref\":\"paper\",\"y\":0.15666666666666665,\"yanchor\":\"middle\",\"yref\":\"paper\"},{\"showarrow\":false,\"text\":\"300\",\"textangle\":90,\"x\":0.9800000000000001,\"xanchor\":\"left\",\"xref\":\"paper\",\"y\":0.4999999999999999,\"yanchor\":\"middle\",\"yref\":\"paper\"},{\"showarrow\":false,\"text\":\"180\",\"textangle\":90,\"x\":0.9800000000000001,\"xanchor\":\"left\",\"xref\":\"paper\",\"y\":0.8433333333333332,\"yanchor\":\"middle\",\"yref\":\"paper\"},{\"showarrow\":false,\"text\":\"% of time\",\"textangle\":-90,\"x\":-0.04,\"xref\":\"paper\",\"y\":0.5,\"yref\":\"paper\"},{\"showarrow\":false,\"text\":\"Occupancy\",\"x\":0.5,\"xref\":\"paper\",\"y\":-0.1,\"yref\":\"paper\"}],\"legend\":{\"title\":{\"text\":\"area\"},\"tracegroupgap\":0},\"margin\":{\"t\":30,\"l\":10,\"r\":10,\"b\":10},\"barmode\":\"group\"},                        {\"responsive\": true}                    ).then(function(){\n                            \nvar gd = document.getElementById('919a507c-2261-4d3f-9136-1b3006cc7a95');\nvar x = new MutationObserver(function (mutations, observer) {{\n        var display = window.getComputedStyle(gd).display;\n        if (!display || display === 'none') {{\n            console.log([gd, 'removed!']);\n            Plotly.purge(gd);\n            observer.disconnect();\n        }}\n}});\n\n// Listen for the removal of the full notebook cells\nvar notebookContainer = gd.closest('#notebook-container');\nif (notebookContainer) {{\n    x.observe(notebookContainer, {childList: true});\n}}\n\n// Listen for the clearing of the current output cell\nvar outputEl = gd.closest('.output');\nif (outputEl) {{\n    x.observe(outputEl, {childList: true});\n}}\n\n                        })                };                });            </script>        </div>"
     },
     "metadata": {},
     "output_type": "display_data"
    }
   ],
   "source": [
    "fig = px.bar(\n",
    "    occupancy_df_ih,\n",
    "    x=\"occupancy\",\n",
    "    y=\"percent\",\n",
    "    facet_row=\"max_delay\",\n",
    "    facet_col=\"duration_minutes\",\n",
    "    color=\"area\",\n",
    "    barmode='group',\n",
    ")\n",
    "\n",
    "# fig.update_yaxes(matches=None)\n",
    "# make the facet labels nicer\n",
    "fig.for_each_annotation(lambda a: a.update(text=a.text.split(\"=\")[-1]))\n",
    "\n",
    "# shared axes titles\n",
    "fig.for_each_yaxis(lambda y: y.update(title = ''))\n",
    "fig.add_annotation(x=-0.04, y=0.5, text=\"% of time\", textangle=-90, xref=\"paper\", yref=\"paper\", showarrow=False)\n",
    "fig.for_each_xaxis(lambda y: y.update(title = ''))\n",
    "fig.add_annotation(x=0.5, y=-0.1, text=\"Occupancy\",  xref=\"paper\", yref=\"paper\", showarrow=False)\n",
    "\n",
    "# # legend style\n",
    "# fig.update_layout(legend=dict(\n",
    "#     orientation=\"h\",\n",
    "#     title=\"Method:\",\n",
    "#     y=1.15,\n",
    "#     xanchor=\"center\",\n",
    "#     x=0.5,\n",
    "# ))\n",
    "\n",
    "# ticks for all occupancy values\n",
    "fig.update_xaxes(dtick=1)\n",
    "\n",
    "\n",
    "fig.update_layout(\n",
    "    margin=dict(l=10,r=10,b=10,t=30)\n",
    ")\n",
    "\n",
    "fig.show()"
   ],
   "metadata": {
    "collapsed": false,
    "ExecuteTime": {
     "end_time": "2023-05-11T10:04:16.633145700Z",
     "start_time": "2023-05-11T10:04:16.311514400Z"
    }
   }
  },
  {
   "cell_type": "code",
   "execution_count": null,
   "outputs": [],
   "source": [],
   "metadata": {
    "collapsed": false
   }
  }
 ],
 "metadata": {
  "kernelspec": {
   "display_name": "Python 3",
   "language": "python",
   "name": "python3"
  },
  "language_info": {
   "codemirror_mode": {
    "name": "ipython",
    "version": 2
   },
   "file_extension": ".py",
   "mimetype": "text/x-python",
   "name": "python",
   "nbconvert_exporter": "python",
   "pygments_lexer": "ipython2",
   "version": "2.7.6"
  }
 },
 "nbformat": 4,
 "nbformat_minor": 0
}
