{
 "cells": [
  {
   "cell_type": "code",
   "execution_count": 1,
   "outputs": [],
   "source": [
    "%load_ext autoreload"
   ],
   "metadata": {
    "collapsed": false,
    "ExecuteTime": {
     "end_time": "2023-05-09T21:47:27.094510600Z",
     "start_time": "2023-05-09T21:47:27.064168Z"
    }
   }
  },
  {
   "cell_type": "code",
   "execution_count": 7,
   "outputs": [],
   "source": [
    "%autoreload"
   ],
   "metadata": {
    "collapsed": false,
    "ExecuteTime": {
     "end_time": "2023-05-09T22:09:51.463764500Z",
     "start_time": "2023-05-09T22:09:51.040825200Z"
    }
   }
  },
  {
   "cell_type": "code",
   "execution_count": 8,
   "outputs": [],
   "source": [
    "import logging\n",
    "import os\n",
    "from pathlib import Path\n",
    "import pandas as pd\n",
    "import yaml\n",
    "from typing import Dict, List\n",
    "\n",
    "from DARP_instances.results import load_instance_series, instance_series_results_to_dataframe, load_instance_results, load_results_from_folder, get_processed_results, load_aggregate_stats_for_result"
   ],
   "metadata": {
    "collapsed": false,
    "ExecuteTime": {
     "end_time": "2023-05-09T22:09:53.690638400Z",
     "start_time": "2023-05-09T22:09:53.678613300Z"
    }
   }
  },
  {
   "cell_type": "code",
   "execution_count": 3,
   "outputs": [],
   "source": [
    "darp_data_path = r\"D:/Google Drive/AIC Experiment Data/DARP\"\n",
    "# darp_data_path = r\"C:/Google Drive/AIC Experiment Data/DARP\""
   ],
   "metadata": {
    "collapsed": false,
    "ExecuteTime": {
     "end_time": "2023-05-09T21:47:32.521800100Z",
     "start_time": "2023-05-09T21:47:32.509800600Z"
    }
   }
  },
  {
   "cell_type": "code",
   "execution_count": 4,
   "outputs": [],
   "source": [
    "final_results_path = Path(darp_data_path) / Path(\"Results/final-real_speeds\")\n",
    "areas = [\n",
    "    'NYC-more_vehicles'\n",
    "    'Manhattan'\n",
    "    'Chicago-more_vehicles'\n",
    "    'DC'\n",
    "]"
   ],
   "metadata": {
    "collapsed": false,
    "ExecuteTime": {
     "end_time": "2023-05-09T21:47:32.678981900Z",
     "start_time": "2023-05-09T21:47:32.669983100Z"
    }
   }
  },
  {
   "cell_type": "markdown",
   "source": [],
   "metadata": {
    "collapsed": false
   }
  },
  {
   "cell_type": "code",
   "execution_count": 16,
   "outputs": [],
   "source": [
    "def load_aggregate_stats_in_dir(path: Path) -> pd.DataFrame:\n",
    "    logging.info(f\"Loading aggregate stats in {path}\")\n",
    "    data = []\n",
    "\n",
    "    for root, dir, files in os.walk(path):\n",
    "        for file in files:\n",
    "            filename = os.fsdecode(file)\n",
    "            if filename == \"config.yaml\":\n",
    "                exp_config_filepath = Path(root) / filename\n",
    "                agg_data_for_result = load_aggregate_stats_for_result(exp_config_filepath.parent)\n",
    "                if agg_data_for_result is not None:\n",
    "                    data.append(agg_data_for_result)\n",
    "\n",
    "    df = pd.DataFrame(data)\n",
    "    return df\n"
   ],
   "metadata": {
    "collapsed": false,
    "ExecuteTime": {
     "end_time": "2023-05-09T22:50:33.603415700Z",
     "start_time": "2023-05-09T22:50:33.589205900Z"
    }
   }
  },
  {
   "cell_type": "code",
   "execution_count": 9,
   "outputs": [
    {
     "name": "stderr",
     "output_type": "stream",
     "text": [
      "00:09:58 [INFO] Loading json file from: D:\\Google Drive\\AIC Experiment Data\\DARP\\Results\\final-real_speeds\\Manhattan\\05_min\\ih\\config.yaml-performance.json\n",
      "00:09:58 [INFO] Loading json file from: D:\\Google Drive\\AIC Experiment Data\\DARP\\Results\\final-real_speeds\\Manhattan\\05_min\\ih\\config.yaml-solution.json\n",
      "00:09:58 [INFO] Loading experiment config from D:\\Google Drive\\AIC Experiment Data\\DARP\\Results\\final-real_speeds\\Manhattan\\05_min\\ih\\config.yaml\n",
      "00:09:58 [INFO] Loading instance config from D:\\Google Drive\\AIC Experiment Data\\DARP\\Real demand and speeds\\Manhattan\\experiments\\final_experiments\\05_min\\config.yaml\n"
     ]
    },
    {
     "data": {
      "text/plain": "{'cost_minutes': 9203,\n 'total_time': 1.024,\n 'dropped_requests': 0,\n 'avg_delay': 554.799522673031,\n 'plan_count': 593,\n 'req_count': 1676,\n 'avg_occupancy': 1.6790995445202068,\n 'used_connections': -1,\n 'total_driving_duration': 552165,\n 'total_waiting_duration': 2611,\n 'avg_waiting_duration': 4.403035413153457,\n 'tts_cost': 24025,\n 'tts_cost_per_plan': 40.51433389544688,\n 'method': 'ih',\n 'max_delay': 300,\n 'start_time': datetime.datetime(2022, 3, 11, 18, 0),\n 'end_time': datetime.datetime(2022, 3, 11, 18, 5)}"
     },
     "execution_count": 9,
     "metadata": {},
     "output_type": "execute_result"
    }
   ],
   "source": [
    "test_path = r'D:\\Google Drive\\AIC Experiment Data\\DARP\\Results\\final-real_speeds\\Manhattan\\05_min\\ih'\n",
    "load_aggregate_stats_for_result(Path(test_path))"
   ],
   "metadata": {
    "collapsed": false,
    "ExecuteTime": {
     "end_time": "2023-05-09T22:09:58.395650800Z",
     "start_time": "2023-05-09T22:09:58.339607800Z"
    }
   }
  },
  {
   "cell_type": "code",
   "execution_count": 12,
   "outputs": [
    {
     "name": "stderr",
     "output_type": "stream",
     "text": [
      "23:05:30 [WARNING] No solution found in folder: D:\\Google Drive\\AIC Experiment Data\\DARP\\Results\\final-real_speeds\\Manhattan\\05_min\\halns\n",
      "23:05:30 [WARNING] No solution found in folder: D:\\Google Drive\\AIC Experiment Data\\DARP\\Results\\final-real_speeds\\Manhattan\\05_min\\halns-ih\n",
      "23:05:30 [WARNING] No solution found in folder: D:\\Google Drive\\AIC Experiment Data\\DARP\\Results\\final-real_speeds\\Manhattan\\05_min\\halns-vga\n",
      "23:05:30 [INFO] Loading json file from: D:\\Google Drive\\AIC Experiment Data\\DARP\\Results\\final-real_speeds\\Manhattan\\05_min\\ih\\config.yaml-performance.json\n",
      "23:05:30 [INFO] Loading json file from: D:\\Google Drive\\AIC Experiment Data\\DARP\\Results\\final-real_speeds\\Manhattan\\05_min\\ih\\config.yaml-solution.json\n",
      "23:05:30 [WARNING] No solution found in folder: D:\\Google Drive\\AIC Experiment Data\\DARP\\Results\\final-real_speeds\\Manhattan\\05_min\\vga\n",
      "23:05:30 [INFO] Loading json file from: D:\\Google Drive\\AIC Experiment Data\\DARP\\Results\\final-real_speeds\\Manhattan\\05_min\\vga_chaining-batch_120_s\\config.yaml-performance.json\n",
      "23:05:30 [INFO] Loading json file from: D:\\Google Drive\\AIC Experiment Data\\DARP\\Results\\final-real_speeds\\Manhattan\\05_min\\vga_chaining-batch_120_s\\config.yaml-solution.json\n",
      "23:05:30 [INFO] Loading json file from: D:\\Google Drive\\AIC Experiment Data\\DARP\\Results\\final-real_speeds\\Manhattan\\05_min\\vga_chaining-batch_120_s-limited\\config.yaml-performance.json\n",
      "23:05:30 [INFO] Loading json file from: D:\\Google Drive\\AIC Experiment Data\\DARP\\Results\\final-real_speeds\\Manhattan\\05_min\\vga_chaining-batch_120_s-limited\\config.yaml-solution.json\n",
      "23:05:30 [WARNING] No solution found in folder: D:\\Google Drive\\AIC Experiment Data\\DARP\\Results\\final-real_speeds\\Manhattan\\05_min\\vga_chaining-batch_240_s\n",
      "23:05:30 [INFO] Loading json file from: D:\\Google Drive\\AIC Experiment Data\\DARP\\Results\\final-real_speeds\\Manhattan\\05_min\\vga_chaining-batch_240_s-limited\\config.yaml-performance.json\n",
      "23:05:30 [INFO] Loading json file from: D:\\Google Drive\\AIC Experiment Data\\DARP\\Results\\final-real_speeds\\Manhattan\\05_min\\vga_chaining-batch_240_s-limited\\config.yaml-solution.json\n",
      "23:05:30 [INFO] Loading json file from: D:\\Google Drive\\AIC Experiment Data\\DARP\\Results\\final-real_speeds\\Manhattan\\05_min\\vga_chaining-batch_30_s\\config.yaml-performance.json\n",
      "23:05:30 [INFO] Loading json file from: D:\\Google Drive\\AIC Experiment Data\\DARP\\Results\\final-real_speeds\\Manhattan\\05_min\\vga_chaining-batch_30_s\\config.yaml-solution.json\n",
      "23:05:31 [WARNING] No solution found in folder: D:\\Google Drive\\AIC Experiment Data\\DARP\\Results\\final-real_speeds\\Manhattan\\05_min\\vga_chaining-batch_480_s\n",
      "23:05:31 [INFO] Loading json file from: D:\\Google Drive\\AIC Experiment Data\\DARP\\Results\\final-real_speeds\\Manhattan\\05_min\\vga_chaining-batch_480_s-limited\\config.yaml-performance.json\n",
      "23:05:31 [INFO] Loading json file from: D:\\Google Drive\\AIC Experiment Data\\DARP\\Results\\final-real_speeds\\Manhattan\\05_min\\vga_chaining-batch_480_s-limited\\config.yaml-solution.json\n",
      "23:05:31 [INFO] Loading json file from: D:\\Google Drive\\AIC Experiment Data\\DARP\\Results\\final-real_speeds\\Manhattan\\05_min\\vga_chaining-batch_60_s\\config.yaml-performance.json\n",
      "23:05:31 [INFO] Loading json file from: D:\\Google Drive\\AIC Experiment Data\\DARP\\Results\\final-real_speeds\\Manhattan\\05_min\\vga_chaining-batch_60_s\\config.yaml-solution.json\n"
     ]
    },
    {
     "data": {
      "text/plain": "   cost_minutes  total_time  dropped_requests   avg_delay  plan_count  \\\n0          9203       1.024                 0  554.799523         593   \n1          8036     169.488                 0  542.550716         572   \n2          8036     113.903                 0  542.550716         572   \n3          8065     111.654                 0  544.662888         560   \n4          9847      10.407                 0  527.038783         737   \n5          8117     111.799                 0  548.521480         553   \n6          8832      10.052                 0  535.949881         642   \n\n   req_count  avg_occupancy  used_connections  total_driving_duration  \\\n0       1676       1.679100                -1                  552165   \n1       1676       1.881875              1763                  482157   \n2       1676       1.881875              1763                  482157   \n3       1676       1.882138              1688                  483922   \n4       1676       1.494704              2456                  590836   \n5       1676       1.883496              1659                  487046   \n6       1676       1.694257              2019                  529925   \n\n   total_waiting_duration  avg_waiting_duration  tts_cost  tts_cost_per_plan  \n0                    2611              4.403035     24025          40.514334  \n1                    1890              3.304196     15297          26.743007  \n2                    1890              3.304196     15297          26.743007  \n3                    1977              3.530357     14494          25.882143  \n4                     290              0.393487     23941          32.484396  \n5                    1853              3.350814     14206          25.688969  \n6                     599              0.933022     17974          27.996885  ",
      "text/html": "<div>\n<style scoped>\n    .dataframe tbody tr th:only-of-type {\n        vertical-align: middle;\n    }\n\n    .dataframe tbody tr th {\n        vertical-align: top;\n    }\n\n    .dataframe thead th {\n        text-align: right;\n    }\n</style>\n<table border=\"1\" class=\"dataframe\">\n  <thead>\n    <tr style=\"text-align: right;\">\n      <th></th>\n      <th>cost_minutes</th>\n      <th>total_time</th>\n      <th>dropped_requests</th>\n      <th>avg_delay</th>\n      <th>plan_count</th>\n      <th>req_count</th>\n      <th>avg_occupancy</th>\n      <th>used_connections</th>\n      <th>total_driving_duration</th>\n      <th>total_waiting_duration</th>\n      <th>avg_waiting_duration</th>\n      <th>tts_cost</th>\n      <th>tts_cost_per_plan</th>\n    </tr>\n  </thead>\n  <tbody>\n    <tr>\n      <th>0</th>\n      <td>9203</td>\n      <td>1.024</td>\n      <td>0</td>\n      <td>554.799523</td>\n      <td>593</td>\n      <td>1676</td>\n      <td>1.679100</td>\n      <td>-1</td>\n      <td>552165</td>\n      <td>2611</td>\n      <td>4.403035</td>\n      <td>24025</td>\n      <td>40.514334</td>\n    </tr>\n    <tr>\n      <th>1</th>\n      <td>8036</td>\n      <td>169.488</td>\n      <td>0</td>\n      <td>542.550716</td>\n      <td>572</td>\n      <td>1676</td>\n      <td>1.881875</td>\n      <td>1763</td>\n      <td>482157</td>\n      <td>1890</td>\n      <td>3.304196</td>\n      <td>15297</td>\n      <td>26.743007</td>\n    </tr>\n    <tr>\n      <th>2</th>\n      <td>8036</td>\n      <td>113.903</td>\n      <td>0</td>\n      <td>542.550716</td>\n      <td>572</td>\n      <td>1676</td>\n      <td>1.881875</td>\n      <td>1763</td>\n      <td>482157</td>\n      <td>1890</td>\n      <td>3.304196</td>\n      <td>15297</td>\n      <td>26.743007</td>\n    </tr>\n    <tr>\n      <th>3</th>\n      <td>8065</td>\n      <td>111.654</td>\n      <td>0</td>\n      <td>544.662888</td>\n      <td>560</td>\n      <td>1676</td>\n      <td>1.882138</td>\n      <td>1688</td>\n      <td>483922</td>\n      <td>1977</td>\n      <td>3.530357</td>\n      <td>14494</td>\n      <td>25.882143</td>\n    </tr>\n    <tr>\n      <th>4</th>\n      <td>9847</td>\n      <td>10.407</td>\n      <td>0</td>\n      <td>527.038783</td>\n      <td>737</td>\n      <td>1676</td>\n      <td>1.494704</td>\n      <td>2456</td>\n      <td>590836</td>\n      <td>290</td>\n      <td>0.393487</td>\n      <td>23941</td>\n      <td>32.484396</td>\n    </tr>\n    <tr>\n      <th>5</th>\n      <td>8117</td>\n      <td>111.799</td>\n      <td>0</td>\n      <td>548.521480</td>\n      <td>553</td>\n      <td>1676</td>\n      <td>1.883496</td>\n      <td>1659</td>\n      <td>487046</td>\n      <td>1853</td>\n      <td>3.350814</td>\n      <td>14206</td>\n      <td>25.688969</td>\n    </tr>\n    <tr>\n      <th>6</th>\n      <td>8832</td>\n      <td>10.052</td>\n      <td>0</td>\n      <td>535.949881</td>\n      <td>642</td>\n      <td>1676</td>\n      <td>1.694257</td>\n      <td>2019</td>\n      <td>529925</td>\n      <td>599</td>\n      <td>0.933022</td>\n      <td>17974</td>\n      <td>27.996885</td>\n    </tr>\n  </tbody>\n</table>\n</div>"
     },
     "execution_count": 12,
     "metadata": {},
     "output_type": "execute_result"
    }
   ],
   "source": [
    "test_path = r'D:\\Google Drive\\AIC Experiment Data\\DARP\\Results\\final-real_speeds\\Manhattan\\05_min'\n",
    "load_aggregate_stats_in_dir(Path(test_path))"
   ],
   "metadata": {
    "collapsed": false,
    "ExecuteTime": {
     "end_time": "2023-05-09T21:05:31.263166100Z",
     "start_time": "2023-05-09T21:05:30.492463900Z"
    }
   }
  },
  {
   "cell_type": "code",
   "execution_count": 12,
   "outputs": [],
   "source": [
    "darp_data_path = r\"D:/Google Drive/AIC Experiment Data/DARP\"\n",
    "# darp_data_path = r\"C:/Google Drive/AIC Experiment Data/DARP\""
   ],
   "metadata": {
    "collapsed": false,
    "ExecuteTime": {
     "end_time": "2023-05-09T17:47:30.535554300Z",
     "start_time": "2023-05-09T17:47:30.523554700Z"
    }
   }
  },
  {
   "cell_type": "code",
   "execution_count": 23,
   "outputs": [],
   "source": [
    "final_results_path = Path(darp_data_path) / Path(\"Results/final-real_speeds\")\n",
    "areas = [\n",
    "    'NYC',\n",
    "    'Manhattan',\n",
    "    'Chicago',\n",
    "    'DC',\n",
    "]"
   ],
   "metadata": {
    "collapsed": false,
    "ExecuteTime": {
     "end_time": "2023-05-09T22:54:11.070896600Z",
     "start_time": "2023-05-09T22:54:11.057887300Z"
    }
   }
  },
  {
   "cell_type": "code",
   "execution_count": 24,
   "outputs": [
    {
     "name": "stderr",
     "output_type": "stream",
     "text": [
      "00:54:11 [INFO] Loading aggregate stats in D:\\Google Drive\\AIC Experiment Data\\DARP\\Results\\final-real_speeds\\NYC\n",
      "00:54:11 [INFO] Loading aggregate stats in D:\\Google Drive\\AIC Experiment Data\\DARP\\Results\\final-real_speeds\\Manhattan\n",
      "00:54:11 [WARNING] No solution found in folder: D:\\Google Drive\\AIC Experiment Data\\DARP\\Results\\final-real_speeds\\Manhattan\\05_min\\halns\n",
      "00:54:11 [WARNING] No solution found in folder: D:\\Google Drive\\AIC Experiment Data\\DARP\\Results\\final-real_speeds\\Manhattan\\05_min\\halns-ih\n",
      "00:54:11 [WARNING] No solution found in folder: D:\\Google Drive\\AIC Experiment Data\\DARP\\Results\\final-real_speeds\\Manhattan\\05_min\\halns-vga\n",
      "00:54:11 [INFO] Loading json file from: D:\\Google Drive\\AIC Experiment Data\\DARP\\Results\\final-real_speeds\\Manhattan\\05_min\\ih\\config.yaml-performance.json\n",
      "00:54:11 [INFO] Loading json file from: D:\\Google Drive\\AIC Experiment Data\\DARP\\Results\\final-real_speeds\\Manhattan\\05_min\\ih\\config.yaml-solution.json\n",
      "00:54:11 [INFO] Loading experiment config from D:\\Google Drive\\AIC Experiment Data\\DARP\\Results\\final-real_speeds\\Manhattan\\05_min\\ih\\config.yaml\n",
      "00:54:11 [INFO] Loading instance config from D:\\Google Drive\\AIC Experiment Data\\DARP\\Real demand and speeds\\Manhattan\\experiments\\final_experiments\\05_min\\config.yaml\n",
      "00:54:11 [WARNING] No solution found in folder: D:\\Google Drive\\AIC Experiment Data\\DARP\\Results\\final-real_speeds\\Manhattan\\05_min\\vga\n",
      "00:54:11 [INFO] Loading json file from: D:\\Google Drive\\AIC Experiment Data\\DARP\\Results\\final-real_speeds\\Manhattan\\05_min\\vga_chaining-batch_120_s\\config.yaml-performance.json\n",
      "00:54:11 [INFO] Loading json file from: D:\\Google Drive\\AIC Experiment Data\\DARP\\Results\\final-real_speeds\\Manhattan\\05_min\\vga_chaining-batch_120_s\\config.yaml-solution.json\n",
      "00:54:11 [INFO] Loading experiment config from D:\\Google Drive\\AIC Experiment Data\\DARP\\Results\\final-real_speeds\\Manhattan\\05_min\\vga_chaining-batch_120_s\\config.yaml\n",
      "00:54:11 [INFO] Loading instance config from D:\\Google Drive\\AIC Experiment Data\\DARP\\Real demand and speeds\\Manhattan\\experiments\\final_experiments\\05_min\\config.yaml\n",
      "00:54:11 [INFO] Loading json file from: D:\\Google Drive\\AIC Experiment Data\\DARP\\Results\\final-real_speeds\\Manhattan\\05_min\\vga_chaining-batch_120_s-limited\\config.yaml-performance.json\n",
      "00:54:11 [INFO] Loading json file from: D:\\Google Drive\\AIC Experiment Data\\DARP\\Results\\final-real_speeds\\Manhattan\\05_min\\vga_chaining-batch_120_s-limited\\config.yaml-solution.json\n",
      "00:54:11 [INFO] Loading experiment config from D:\\Google Drive\\AIC Experiment Data\\DARP\\Results\\final-real_speeds\\Manhattan\\05_min\\vga_chaining-batch_120_s-limited\\config.yaml\n",
      "00:54:11 [INFO] Loading instance config from D:\\Google Drive\\AIC Experiment Data\\DARP\\Real demand and speeds\\Manhattan\\experiments\\final_experiments\\05_min\\config.yaml\n",
      "00:54:11 [WARNING] No solution found in folder: D:\\Google Drive\\AIC Experiment Data\\DARP\\Results\\final-real_speeds\\Manhattan\\05_min\\vga_chaining-batch_240_s\n",
      "00:54:11 [INFO] Loading json file from: D:\\Google Drive\\AIC Experiment Data\\DARP\\Results\\final-real_speeds\\Manhattan\\05_min\\vga_chaining-batch_240_s-limited\\config.yaml-performance.json\n",
      "00:54:11 [INFO] Loading json file from: D:\\Google Drive\\AIC Experiment Data\\DARP\\Results\\final-real_speeds\\Manhattan\\05_min\\vga_chaining-batch_240_s-limited\\config.yaml-solution.json\n",
      "00:54:11 [INFO] Loading experiment config from D:\\Google Drive\\AIC Experiment Data\\DARP\\Results\\final-real_speeds\\Manhattan\\05_min\\vga_chaining-batch_240_s-limited\\config.yaml\n",
      "00:54:11 [INFO] Loading instance config from D:\\Google Drive\\AIC Experiment Data\\DARP\\Real demand and speeds\\Manhattan\\experiments\\final_experiments\\05_min\\config.yaml\n",
      "00:54:11 [INFO] Loading json file from: D:\\Google Drive\\AIC Experiment Data\\DARP\\Results\\final-real_speeds\\Manhattan\\05_min\\vga_chaining-batch_30_s\\config.yaml-performance.json\n",
      "00:54:11 [INFO] Loading json file from: D:\\Google Drive\\AIC Experiment Data\\DARP\\Results\\final-real_speeds\\Manhattan\\05_min\\vga_chaining-batch_30_s\\config.yaml-solution.json\n",
      "00:54:11 [INFO] Loading experiment config from D:\\Google Drive\\AIC Experiment Data\\DARP\\Results\\final-real_speeds\\Manhattan\\05_min\\vga_chaining-batch_30_s\\config.yaml\n",
      "00:54:11 [INFO] Loading instance config from D:\\Google Drive\\AIC Experiment Data\\DARP\\Real demand and speeds\\Manhattan\\experiments\\final_experiments\\05_min\\config.yaml\n",
      "00:54:11 [WARNING] No solution found in folder: D:\\Google Drive\\AIC Experiment Data\\DARP\\Results\\final-real_speeds\\Manhattan\\05_min\\vga_chaining-batch_480_s\n",
      "00:54:12 [INFO] Loading json file from: D:\\Google Drive\\AIC Experiment Data\\DARP\\Results\\final-real_speeds\\Manhattan\\05_min\\vga_chaining-batch_480_s-limited\\config.yaml-performance.json\n",
      "00:54:12 [INFO] Loading json file from: D:\\Google Drive\\AIC Experiment Data\\DARP\\Results\\final-real_speeds\\Manhattan\\05_min\\vga_chaining-batch_480_s-limited\\config.yaml-solution.json\n",
      "00:54:12 [INFO] Loading experiment config from D:\\Google Drive\\AIC Experiment Data\\DARP\\Results\\final-real_speeds\\Manhattan\\05_min\\vga_chaining-batch_480_s-limited\\config.yaml\n",
      "00:54:12 [INFO] Loading instance config from D:\\Google Drive\\AIC Experiment Data\\DARP\\Real demand and speeds\\Manhattan\\experiments\\final_experiments\\05_min\\config.yaml\n",
      "00:54:12 [INFO] Loading json file from: D:\\Google Drive\\AIC Experiment Data\\DARP\\Results\\final-real_speeds\\Manhattan\\05_min\\vga_chaining-batch_60_s\\config.yaml-performance.json\n",
      "00:54:12 [INFO] Loading json file from: D:\\Google Drive\\AIC Experiment Data\\DARP\\Results\\final-real_speeds\\Manhattan\\05_min\\vga_chaining-batch_60_s\\config.yaml-solution.json\n",
      "00:54:12 [INFO] Loading experiment config from D:\\Google Drive\\AIC Experiment Data\\DARP\\Results\\final-real_speeds\\Manhattan\\05_min\\vga_chaining-batch_60_s\\config.yaml\n",
      "00:54:12 [INFO] Loading instance config from D:\\Google Drive\\AIC Experiment Data\\DARP\\Real demand and speeds\\Manhattan\\experiments\\final_experiments\\05_min\\config.yaml\n",
      "00:54:12 [WARNING] No solution found in folder: D:\\Google Drive\\AIC Experiment Data\\DARP\\Results\\final-real_speeds\\Manhattan\\15_min\\halns\n",
      "00:54:12 [WARNING] No solution found in folder: D:\\Google Drive\\AIC Experiment Data\\DARP\\Results\\final-real_speeds\\Manhattan\\15_min\\halns-ih\n",
      "00:54:12 [WARNING] No solution found in folder: D:\\Google Drive\\AIC Experiment Data\\DARP\\Results\\final-real_speeds\\Manhattan\\15_min\\halns-vga\n",
      "00:54:12 [INFO] Loading json file from: D:\\Google Drive\\AIC Experiment Data\\DARP\\Results\\final-real_speeds\\Manhattan\\15_min\\ih\\config.yaml-performance.json\n",
      "00:54:12 [INFO] Loading json file from: D:\\Google Drive\\AIC Experiment Data\\DARP\\Results\\final-real_speeds\\Manhattan\\15_min\\ih\\config.yaml-solution.json\n",
      "00:54:12 [INFO] Loading experiment config from D:\\Google Drive\\AIC Experiment Data\\DARP\\Results\\final-real_speeds\\Manhattan\\15_min\\ih\\config.yaml\n",
      "00:54:12 [INFO] Loading instance config from D:\\Google Drive\\AIC Experiment Data\\DARP\\Real demand and speeds\\Manhattan\\experiments\\final_experiments\\15_min\\config.yaml\n",
      "00:54:12 [WARNING] No solution found in folder: D:\\Google Drive\\AIC Experiment Data\\DARP\\Results\\final-real_speeds\\Manhattan\\15_min\\vga\n",
      "00:54:13 [INFO] Loading json file from: D:\\Google Drive\\AIC Experiment Data\\DARP\\Results\\final-real_speeds\\Manhattan\\15_min\\vga_chaining-batch_120_s\\config.yaml-performance.json\n",
      "00:54:13 [INFO] Loading json file from: D:\\Google Drive\\AIC Experiment Data\\DARP\\Results\\final-real_speeds\\Manhattan\\15_min\\vga_chaining-batch_120_s\\config.yaml-solution.json\n",
      "00:54:13 [INFO] Loading experiment config from D:\\Google Drive\\AIC Experiment Data\\DARP\\Results\\final-real_speeds\\Manhattan\\15_min\\vga_chaining-batch_120_s\\config.yaml\n",
      "00:54:13 [INFO] Loading instance config from D:\\Google Drive\\AIC Experiment Data\\DARP\\Real demand and speeds\\Manhattan\\experiments\\final_experiments\\15_min\\config.yaml\n",
      "00:54:14 [INFO] Loading json file from: D:\\Google Drive\\AIC Experiment Data\\DARP\\Results\\final-real_speeds\\Manhattan\\15_min\\vga_chaining-batch_120_s-limited\\config.yaml-performance.json\n",
      "00:54:14 [INFO] Loading json file from: D:\\Google Drive\\AIC Experiment Data\\DARP\\Results\\final-real_speeds\\Manhattan\\15_min\\vga_chaining-batch_120_s-limited\\config.yaml-solution.json\n",
      "00:54:14 [INFO] Loading experiment config from D:\\Google Drive\\AIC Experiment Data\\DARP\\Results\\final-real_speeds\\Manhattan\\15_min\\vga_chaining-batch_120_s-limited\\config.yaml\n",
      "00:54:14 [INFO] Loading instance config from D:\\Google Drive\\AIC Experiment Data\\DARP\\Real demand and speeds\\Manhattan\\experiments\\final_experiments\\15_min\\config.yaml\n",
      "00:54:14 [WARNING] No solution found in folder: D:\\Google Drive\\AIC Experiment Data\\DARP\\Results\\final-real_speeds\\Manhattan\\15_min\\vga_chaining-batch_240_s\n",
      "00:54:15 [INFO] Loading json file from: D:\\Google Drive\\AIC Experiment Data\\DARP\\Results\\final-real_speeds\\Manhattan\\15_min\\vga_chaining-batch_240_s-limited\\config.yaml-performance.json\n",
      "00:54:15 [INFO] Loading json file from: D:\\Google Drive\\AIC Experiment Data\\DARP\\Results\\final-real_speeds\\Manhattan\\15_min\\vga_chaining-batch_240_s-limited\\config.yaml-solution.json\n",
      "00:54:15 [INFO] Loading experiment config from D:\\Google Drive\\AIC Experiment Data\\DARP\\Results\\final-real_speeds\\Manhattan\\15_min\\vga_chaining-batch_240_s-limited\\config.yaml\n",
      "00:54:15 [INFO] Loading instance config from D:\\Google Drive\\AIC Experiment Data\\DARP\\Real demand and speeds\\Manhattan\\experiments\\final_experiments\\15_min\\config.yaml\n",
      "00:54:16 [INFO] Loading json file from: D:\\Google Drive\\AIC Experiment Data\\DARP\\Results\\final-real_speeds\\Manhattan\\15_min\\vga_chaining-batch_30_s\\config.yaml-performance.json\n",
      "00:54:16 [INFO] Loading json file from: D:\\Google Drive\\AIC Experiment Data\\DARP\\Results\\final-real_speeds\\Manhattan\\15_min\\vga_chaining-batch_30_s\\config.yaml-solution.json\n",
      "00:54:16 [INFO] Loading experiment config from D:\\Google Drive\\AIC Experiment Data\\DARP\\Results\\final-real_speeds\\Manhattan\\15_min\\vga_chaining-batch_30_s\\config.yaml\n",
      "00:54:16 [INFO] Loading instance config from D:\\Google Drive\\AIC Experiment Data\\DARP\\Real demand and speeds\\Manhattan\\experiments\\final_experiments\\15_min\\config.yaml\n",
      "00:54:16 [WARNING] No solution found in folder: D:\\Google Drive\\AIC Experiment Data\\DARP\\Results\\final-real_speeds\\Manhattan\\15_min\\vga_chaining-batch_480_s\n",
      "00:54:17 [INFO] Loading json file from: D:\\Google Drive\\AIC Experiment Data\\DARP\\Results\\final-real_speeds\\Manhattan\\15_min\\vga_chaining-batch_480_s-limited\\config.yaml-performance.json\n",
      "00:54:17 [INFO] Loading json file from: D:\\Google Drive\\AIC Experiment Data\\DARP\\Results\\final-real_speeds\\Manhattan\\15_min\\vga_chaining-batch_480_s-limited\\config.yaml-solution.json\n",
      "00:54:17 [INFO] Loading experiment config from D:\\Google Drive\\AIC Experiment Data\\DARP\\Results\\final-real_speeds\\Manhattan\\15_min\\vga_chaining-batch_480_s-limited\\config.yaml\n",
      "00:54:17 [INFO] Loading instance config from D:\\Google Drive\\AIC Experiment Data\\DARP\\Real demand and speeds\\Manhattan\\experiments\\final_experiments\\15_min\\config.yaml\n",
      "00:54:18 [INFO] Loading json file from: D:\\Google Drive\\AIC Experiment Data\\DARP\\Results\\final-real_speeds\\Manhattan\\15_min\\vga_chaining-batch_60_s\\config.yaml-performance.json\n",
      "00:54:18 [INFO] Loading json file from: D:\\Google Drive\\AIC Experiment Data\\DARP\\Results\\final-real_speeds\\Manhattan\\15_min\\vga_chaining-batch_60_s\\config.yaml-solution.json\n",
      "00:54:18 [INFO] Loading experiment config from D:\\Google Drive\\AIC Experiment Data\\DARP\\Results\\final-real_speeds\\Manhattan\\15_min\\vga_chaining-batch_60_s\\config.yaml\n",
      "00:54:18 [INFO] Loading instance config from D:\\Google Drive\\AIC Experiment Data\\DARP\\Real demand and speeds\\Manhattan\\experiments\\final_experiments\\15_min\\config.yaml\n",
      "00:54:18 [WARNING] No solution found in folder: D:\\Google Drive\\AIC Experiment Data\\DARP\\Results\\final-real_speeds\\Manhattan\\30_min\\halns\n",
      "00:54:18 [WARNING] No solution found in folder: D:\\Google Drive\\AIC Experiment Data\\DARP\\Results\\final-real_speeds\\Manhattan\\30_min\\halns-ih\n",
      "00:54:18 [WARNING] No solution found in folder: D:\\Google Drive\\AIC Experiment Data\\DARP\\Results\\final-real_speeds\\Manhattan\\30_min\\halns-vga\n",
      "00:54:18 [INFO] Loading json file from: D:\\Google Drive\\AIC Experiment Data\\DARP\\Results\\final-real_speeds\\Manhattan\\30_min\\ih\\config.yaml-performance.json\n",
      "00:54:18 [INFO] Loading json file from: D:\\Google Drive\\AIC Experiment Data\\DARP\\Results\\final-real_speeds\\Manhattan\\30_min\\ih\\config.yaml-solution.json\n",
      "00:54:18 [INFO] Loading experiment config from D:\\Google Drive\\AIC Experiment Data\\DARP\\Results\\final-real_speeds\\Manhattan\\30_min\\ih\\config.yaml\n",
      "00:54:18 [INFO] Loading instance config from D:\\Google Drive\\AIC Experiment Data\\DARP\\Real demand and speeds\\Manhattan\\experiments\\final_experiments\\30_min\\config.yaml\n",
      "00:54:18 [WARNING] No solution found in folder: D:\\Google Drive\\AIC Experiment Data\\DARP\\Results\\final-real_speeds\\Manhattan\\30_min\\vga\n",
      "00:54:23 [INFO] Loading json file from: D:\\Google Drive\\AIC Experiment Data\\DARP\\Results\\final-real_speeds\\Manhattan\\30_min\\vga_chaining-batch_120_s\\config.yaml-performance.json\n",
      "00:54:23 [INFO] Loading json file from: D:\\Google Drive\\AIC Experiment Data\\DARP\\Results\\final-real_speeds\\Manhattan\\30_min\\vga_chaining-batch_120_s\\config.yaml-solution.json\n",
      "00:54:23 [INFO] Loading experiment config from D:\\Google Drive\\AIC Experiment Data\\DARP\\Results\\final-real_speeds\\Manhattan\\30_min\\vga_chaining-batch_120_s\\config.yaml\n",
      "00:54:23 [INFO] Loading instance config from D:\\Google Drive\\AIC Experiment Data\\DARP\\Real demand and speeds\\Manhattan\\experiments\\final_experiments\\30_min\\config.yaml\n",
      "00:54:27 [INFO] Loading json file from: D:\\Google Drive\\AIC Experiment Data\\DARP\\Results\\final-real_speeds\\Manhattan\\30_min\\vga_chaining-batch_120_s-limited\\config.yaml-performance.json\n",
      "00:54:27 [INFO] Loading json file from: D:\\Google Drive\\AIC Experiment Data\\DARP\\Results\\final-real_speeds\\Manhattan\\30_min\\vga_chaining-batch_120_s-limited\\config.yaml-solution.json\n",
      "00:54:27 [INFO] Loading experiment config from D:\\Google Drive\\AIC Experiment Data\\DARP\\Results\\final-real_speeds\\Manhattan\\30_min\\vga_chaining-batch_120_s-limited\\config.yaml\n",
      "00:54:27 [INFO] Loading instance config from D:\\Google Drive\\AIC Experiment Data\\DARP\\Real demand and speeds\\Manhattan\\experiments\\final_experiments\\30_min\\config.yaml\n",
      "00:54:27 [WARNING] No solution found in folder: D:\\Google Drive\\AIC Experiment Data\\DARP\\Results\\final-real_speeds\\Manhattan\\30_min\\vga_chaining-batch_240_s\n",
      "00:54:31 [INFO] Loading json file from: D:\\Google Drive\\AIC Experiment Data\\DARP\\Results\\final-real_speeds\\Manhattan\\30_min\\vga_chaining-batch_240_s-limited\\config.yaml-performance.json\n",
      "00:54:31 [INFO] Loading json file from: D:\\Google Drive\\AIC Experiment Data\\DARP\\Results\\final-real_speeds\\Manhattan\\30_min\\vga_chaining-batch_240_s-limited\\config.yaml-solution.json\n",
      "00:54:31 [INFO] Loading experiment config from D:\\Google Drive\\AIC Experiment Data\\DARP\\Results\\final-real_speeds\\Manhattan\\30_min\\vga_chaining-batch_240_s-limited\\config.yaml\n",
      "00:54:31 [INFO] Loading instance config from D:\\Google Drive\\AIC Experiment Data\\DARP\\Real demand and speeds\\Manhattan\\experiments\\final_experiments\\30_min\\config.yaml\n",
      "00:54:40 [INFO] Loading json file from: D:\\Google Drive\\AIC Experiment Data\\DARP\\Results\\final-real_speeds\\Manhattan\\30_min\\vga_chaining-batch_30_s\\config.yaml-performance.json\n",
      "00:54:40 [INFO] Loading json file from: D:\\Google Drive\\AIC Experiment Data\\DARP\\Results\\final-real_speeds\\Manhattan\\30_min\\vga_chaining-batch_30_s\\config.yaml-solution.json\n",
      "00:54:40 [INFO] Loading experiment config from D:\\Google Drive\\AIC Experiment Data\\DARP\\Results\\final-real_speeds\\Manhattan\\30_min\\vga_chaining-batch_30_s\\config.yaml\n",
      "00:54:40 [INFO] Loading instance config from D:\\Google Drive\\AIC Experiment Data\\DARP\\Real demand and speeds\\Manhattan\\experiments\\final_experiments\\30_min\\config.yaml\n",
      "00:54:40 [WARNING] No solution found in folder: D:\\Google Drive\\AIC Experiment Data\\DARP\\Results\\final-real_speeds\\Manhattan\\30_min\\vga_chaining-batch_480_s\n",
      "00:54:44 [INFO] Loading json file from: D:\\Google Drive\\AIC Experiment Data\\DARP\\Results\\final-real_speeds\\Manhattan\\30_min\\vga_chaining-batch_480_s-limited\\config.yaml-performance.json\n",
      "00:54:44 [INFO] Loading json file from: D:\\Google Drive\\AIC Experiment Data\\DARP\\Results\\final-real_speeds\\Manhattan\\30_min\\vga_chaining-batch_480_s-limited\\config.yaml-solution.json\n",
      "00:54:44 [INFO] Loading experiment config from D:\\Google Drive\\AIC Experiment Data\\DARP\\Results\\final-real_speeds\\Manhattan\\30_min\\vga_chaining-batch_480_s-limited\\config.yaml\n",
      "00:54:44 [INFO] Loading instance config from D:\\Google Drive\\AIC Experiment Data\\DARP\\Real demand and speeds\\Manhattan\\experiments\\final_experiments\\30_min\\config.yaml\n",
      "00:54:50 [INFO] Loading json file from: D:\\Google Drive\\AIC Experiment Data\\DARP\\Results\\final-real_speeds\\Manhattan\\30_min\\vga_chaining-batch_60_s\\config.yaml-performance.json\n",
      "00:54:50 [INFO] Loading json file from: D:\\Google Drive\\AIC Experiment Data\\DARP\\Results\\final-real_speeds\\Manhattan\\30_min\\vga_chaining-batch_60_s\\config.yaml-solution.json\n",
      "00:54:50 [INFO] Loading experiment config from D:\\Google Drive\\AIC Experiment Data\\DARP\\Results\\final-real_speeds\\Manhattan\\30_min\\vga_chaining-batch_60_s\\config.yaml\n",
      "00:54:50 [INFO] Loading instance config from D:\\Google Drive\\AIC Experiment Data\\DARP\\Real demand and speeds\\Manhattan\\experiments\\final_experiments\\30_min\\config.yaml\n",
      "00:54:50 [INFO] Loading aggregate stats in D:\\Google Drive\\AIC Experiment Data\\DARP\\Results\\final-real_speeds\\Chicago\n",
      "00:54:50 [INFO] Loading aggregate stats in D:\\Google Drive\\AIC Experiment Data\\DARP\\Results\\final-real_speeds\\DC\n",
      "00:54:50 [INFO] Loading json file from: D:\\Google Drive\\AIC Experiment Data\\DARP\\Results\\final-real_speeds\\DC\\05_min\\ih\\config.yaml-performance.json\n",
      "00:54:50 [INFO] Loading json file from: D:\\Google Drive\\AIC Experiment Data\\DARP\\Results\\final-real_speeds\\DC\\05_min\\ih\\config.yaml-solution.json\n",
      "00:54:50 [INFO] Loading experiment config from D:\\Google Drive\\AIC Experiment Data\\DARP\\Results\\final-real_speeds\\DC\\05_min\\ih\\config.yaml\n",
      "00:54:50 [INFO] Loading instance config from D:\\Google Drive\\AIC Experiment Data\\DARP\\Real demand and speeds\\DC\\experiments\\final_experiments\\05_min\\config.yaml\n",
      "00:54:50 [INFO] Loading json file from: D:\\Google Drive\\AIC Experiment Data\\DARP\\Results\\final-real_speeds\\DC\\05_min\\vga\\config.yaml-performance.json\n",
      "00:54:50 [INFO] Loading json file from: D:\\Google Drive\\AIC Experiment Data\\DARP\\Results\\final-real_speeds\\DC\\05_min\\vga\\config.yaml-solution.json\n",
      "00:54:50 [INFO] Loading experiment config from D:\\Google Drive\\AIC Experiment Data\\DARP\\Results\\final-real_speeds\\DC\\05_min\\vga\\config.yaml\n",
      "00:54:50 [INFO] Loading instance config from D:\\Google Drive\\AIC Experiment Data\\DARP\\Real demand and speeds\\DC\\experiments\\final_experiments\\05_min\\config.yaml\n",
      "00:54:50 [WARNING] No solution found in folder: D:\\Google Drive\\AIC Experiment Data\\DARP\\Results\\final-real_speeds\\DC\\05_min\\vga_chaining-batch_120_s\n",
      "00:54:50 [WARNING] No solution found in folder: D:\\Google Drive\\AIC Experiment Data\\DARP\\Results\\final-real_speeds\\DC\\05_min\\vga_chaining-batch_120_s-limited\n",
      "00:54:50 [WARNING] No solution found in folder: D:\\Google Drive\\AIC Experiment Data\\DARP\\Results\\final-real_speeds\\DC\\05_min\\vga_chaining-batch_240_s\n",
      "00:54:50 [WARNING] No solution found in folder: D:\\Google Drive\\AIC Experiment Data\\DARP\\Results\\final-real_speeds\\DC\\05_min\\vga_chaining-batch_240_s-limited\n",
      "00:54:50 [WARNING] No solution found in folder: D:\\Google Drive\\AIC Experiment Data\\DARP\\Results\\final-real_speeds\\DC\\05_min\\vga_chaining-batch_30_s\n",
      "00:54:50 [INFO] Loading json file from: D:\\Google Drive\\AIC Experiment Data\\DARP\\Results\\final-real_speeds\\DC\\05_min\\vga_chaining-batch_480_s\\config.yaml-performance.json\n",
      "00:54:50 [INFO] Loading json file from: D:\\Google Drive\\AIC Experiment Data\\DARP\\Results\\final-real_speeds\\DC\\05_min\\vga_chaining-batch_480_s\\config.yaml-solution.json\n",
      "00:54:50 [INFO] Loading experiment config from D:\\Google Drive\\AIC Experiment Data\\DARP\\Results\\final-real_speeds\\DC\\05_min\\vga_chaining-batch_480_s\\config.yaml\n",
      "00:54:50 [INFO] Loading instance config from D:\\Google Drive\\AIC Experiment Data\\DARP\\Real demand and speeds\\DC\\experiments\\final_experiments\\05_min\\config.yaml\n",
      "00:54:50 [WARNING] No solution found in folder: D:\\Google Drive\\AIC Experiment Data\\DARP\\Results\\final-real_speeds\\DC\\05_min\\vga_chaining-batch_480_s-limited\n",
      "00:54:50 [WARNING] No solution found in folder: D:\\Google Drive\\AIC Experiment Data\\DARP\\Results\\final-real_speeds\\DC\\05_min\\vga_chaining-batch_60_s\n",
      "00:54:50 [INFO] Loading json file from: D:\\Google Drive\\AIC Experiment Data\\DARP\\Results\\final-real_speeds\\DC\\15_min\\ih\\config.yaml-performance.json\n",
      "00:54:50 [INFO] Loading json file from: D:\\Google Drive\\AIC Experiment Data\\DARP\\Results\\final-real_speeds\\DC\\15_min\\ih\\config.yaml-solution.json\n",
      "00:54:50 [INFO] Loading experiment config from D:\\Google Drive\\AIC Experiment Data\\DARP\\Results\\final-real_speeds\\DC\\15_min\\ih\\config.yaml\n",
      "00:54:50 [INFO] Loading instance config from D:\\Google Drive\\AIC Experiment Data\\DARP\\Real demand and speeds\\DC\\experiments\\final_experiments\\15_min\\config.yaml\n",
      "00:54:50 [INFO] Loading json file from: D:\\Google Drive\\AIC Experiment Data\\DARP\\Results\\final-real_speeds\\DC\\15_min\\vga\\config.yaml-performance.json\n",
      "00:54:50 [INFO] Loading json file from: D:\\Google Drive\\AIC Experiment Data\\DARP\\Results\\final-real_speeds\\DC\\15_min\\vga\\config.yaml-solution.json\n",
      "00:54:50 [INFO] Loading experiment config from D:\\Google Drive\\AIC Experiment Data\\DARP\\Results\\final-real_speeds\\DC\\15_min\\vga\\config.yaml\n",
      "00:54:50 [INFO] Loading instance config from D:\\Google Drive\\AIC Experiment Data\\DARP\\Real demand and speeds\\DC\\experiments\\final_experiments\\15_min\\config.yaml\n",
      "00:54:50 [WARNING] No solution found in folder: D:\\Google Drive\\AIC Experiment Data\\DARP\\Results\\final-real_speeds\\DC\\15_min\\vga_chaining-batch_120_s\n",
      "00:54:50 [WARNING] No solution found in folder: D:\\Google Drive\\AIC Experiment Data\\DARP\\Results\\final-real_speeds\\DC\\15_min\\vga_chaining-batch_120_s-limited\n",
      "00:54:50 [WARNING] No solution found in folder: D:\\Google Drive\\AIC Experiment Data\\DARP\\Results\\final-real_speeds\\DC\\15_min\\vga_chaining-batch_240_s\n",
      "00:54:50 [WARNING] No solution found in folder: D:\\Google Drive\\AIC Experiment Data\\DARP\\Results\\final-real_speeds\\DC\\15_min\\vga_chaining-batch_240_s-limited\n",
      "00:54:50 [WARNING] No solution found in folder: D:\\Google Drive\\AIC Experiment Data\\DARP\\Results\\final-real_speeds\\DC\\15_min\\vga_chaining-batch_30_s\n",
      "00:54:50 [WARNING] No solution found in folder: D:\\Google Drive\\AIC Experiment Data\\DARP\\Results\\final-real_speeds\\DC\\15_min\\vga_chaining-batch_480_s\n",
      "00:54:50 [WARNING] No solution found in folder: D:\\Google Drive\\AIC Experiment Data\\DARP\\Results\\final-real_speeds\\DC\\15_min\\vga_chaining-batch_480_s-limited\n",
      "00:54:50 [WARNING] No solution found in folder: D:\\Google Drive\\AIC Experiment Data\\DARP\\Results\\final-real_speeds\\DC\\15_min\\vga_chaining-batch_60_s\n",
      "00:54:50 [INFO] Loading json file from: D:\\Google Drive\\AIC Experiment Data\\DARP\\Results\\final-real_speeds\\DC\\30_min\\ih\\config.yaml-performance.json\n",
      "00:54:50 [INFO] Loading json file from: D:\\Google Drive\\AIC Experiment Data\\DARP\\Results\\final-real_speeds\\DC\\30_min\\ih\\config.yaml-solution.json\n",
      "00:54:50 [INFO] Loading experiment config from D:\\Google Drive\\AIC Experiment Data\\DARP\\Results\\final-real_speeds\\DC\\30_min\\ih\\config.yaml\n",
      "00:54:50 [INFO] Loading instance config from D:\\Google Drive\\AIC Experiment Data\\DARP\\Real demand and speeds\\DC\\experiments\\final_experiments\\30_min\\config.yaml\n",
      "00:54:50 [INFO] Loading json file from: D:\\Google Drive\\AIC Experiment Data\\DARP\\Results\\final-real_speeds\\DC\\30_min\\vga\\config.yaml-performance.json\n",
      "00:54:50 [INFO] Loading json file from: D:\\Google Drive\\AIC Experiment Data\\DARP\\Results\\final-real_speeds\\DC\\30_min\\vga\\config.yaml-solution.json\n",
      "00:54:50 [INFO] Loading experiment config from D:\\Google Drive\\AIC Experiment Data\\DARP\\Results\\final-real_speeds\\DC\\30_min\\vga\\config.yaml\n",
      "00:54:50 [INFO] Loading instance config from D:\\Google Drive\\AIC Experiment Data\\DARP\\Real demand and speeds\\DC\\experiments\\final_experiments\\30_min\\config.yaml\n",
      "00:54:50 [WARNING] No solution found in folder: D:\\Google Drive\\AIC Experiment Data\\DARP\\Results\\final-real_speeds\\DC\\30_min\\vga_chaining-batch_120_s\n",
      "00:54:50 [WARNING] No solution found in folder: D:\\Google Drive\\AIC Experiment Data\\DARP\\Results\\final-real_speeds\\DC\\30_min\\vga_chaining-batch_120_s-limited\n",
      "00:54:50 [INFO] Loading json file from: D:\\Google Drive\\AIC Experiment Data\\DARP\\Results\\final-real_speeds\\DC\\30_min\\vga_chaining-batch_240_s\\config.yaml-performance.json\n",
      "00:54:50 [INFO] Loading json file from: D:\\Google Drive\\AIC Experiment Data\\DARP\\Results\\final-real_speeds\\DC\\30_min\\vga_chaining-batch_240_s\\config.yaml-solution.json\n",
      "00:54:50 [INFO] Loading experiment config from D:\\Google Drive\\AIC Experiment Data\\DARP\\Results\\final-real_speeds\\DC\\30_min\\vga_chaining-batch_240_s\\config.yaml\n",
      "00:54:50 [INFO] Loading instance config from D:\\Google Drive\\AIC Experiment Data\\DARP\\Real demand and speeds\\DC\\experiments\\final_experiments\\30_min\\config.yaml\n",
      "00:54:50 [WARNING] No solution found in folder: D:\\Google Drive\\AIC Experiment Data\\DARP\\Results\\final-real_speeds\\DC\\30_min\\vga_chaining-batch_240_s-limited\n",
      "00:54:50 [WARNING] No solution found in folder: D:\\Google Drive\\AIC Experiment Data\\DARP\\Results\\final-real_speeds\\DC\\30_min\\vga_chaining-batch_30_s\n",
      "00:54:50 [INFO] Loading json file from: D:\\Google Drive\\AIC Experiment Data\\DARP\\Results\\final-real_speeds\\DC\\30_min\\vga_chaining-batch_480_s\\config.yaml-performance.json\n",
      "00:54:50 [INFO] Loading json file from: D:\\Google Drive\\AIC Experiment Data\\DARP\\Results\\final-real_speeds\\DC\\30_min\\vga_chaining-batch_480_s\\config.yaml-solution.json\n",
      "00:54:50 [INFO] Loading experiment config from D:\\Google Drive\\AIC Experiment Data\\DARP\\Results\\final-real_speeds\\DC\\30_min\\vga_chaining-batch_480_s\\config.yaml\n",
      "00:54:50 [INFO] Loading instance config from D:\\Google Drive\\AIC Experiment Data\\DARP\\Real demand and speeds\\DC\\experiments\\final_experiments\\30_min\\config.yaml\n",
      "00:54:50 [WARNING] No solution found in folder: D:\\Google Drive\\AIC Experiment Data\\DARP\\Results\\final-real_speeds\\DC\\30_min\\vga_chaining-batch_480_s-limited\n",
      "00:54:50 [WARNING] No solution found in folder: D:\\Google Drive\\AIC Experiment Data\\DARP\\Results\\final-real_speeds\\DC\\30_min\\vga_chaining-batch_60_s\n"
     ]
    },
    {
     "data": {
      "text/plain": "    cost_minutes  total_time  dropped_requests    avg_delay  plan_count  \\\n0           9203       1.024                 0   554.799523         593   \n1           8036     169.488                 0   542.550716         572   \n2           8036     113.903                 0   542.550716         572   \n3           8065     111.654                 0   544.662888         560   \n4           9847      10.407                 0   527.038783         737   \n5           8117     111.799                 0   548.521480         553   \n6           8832      10.052                 0   535.949881         642   \n7          24610       8.791                 0   562.032649        1330   \n8          23543     251.819                 0   545.104203        1631   \n9          23543     250.845                 0   545.104203        1631   \n10         23643     388.632                 0   547.371848        1608   \n11         29418     191.203                 0   529.356012        2049   \n12         23802     379.810                 0   550.086804        1595   \n13         26509     127.335                 0   538.576931        1844   \n14         46869      38.645                 0   563.669268        1993   \n15         47101    1249.247                 0   546.866859        2913   \n16         47101    1286.340                 0   546.866859        2913   \n17         47340    1219.913                 0   549.446339        2843   \n18         59044    1681.038                 0   530.213102        3693   \n19         47643    1139.635                 0   552.166667        2800   \n20         53257     918.119                 0   538.751156        3319   \n21           493       0.000                 6   909.200000          18   \n22           421       0.077                 3   839.090909          18   \n23           439       0.072                 3   839.666667          18   \n24          1723       0.007                 7   988.198276          62   \n25          1650       1.972                 0  1001.227642          62   \n26          3238       0.025                 0  1014.591270         111   \n27          2996     254.966                 0  1029.376984         111   \n28          3744       0.562                 0   974.246032         126   \n29          3413       0.470                 0   990.980159         126   \n\n    req_count  avg_occupancy  used_connections  total_driving_duration  \\\n0        1676       1.679100                -1                  552165   \n1        1676       1.881875              1763                  482157   \n2        1676       1.881875              1763                  482157   \n3        1676       1.882138              1688                  483922   \n4        1676       1.494704              2456                  590836   \n5        1676       1.883496              1659                  487046   \n6        1676       1.694257              2019                  529925   \n7        5115       1.936824                -1                 1476581   \n8        5115       1.968700              5783                 1412599   \n9        5115       1.968700              5783                 1412599   \n10       5115       1.968614              5458                 1418580   \n11       5115       1.533742              8679                 1765103   \n12       5115       1.965225              5256                 1428112   \n13       5115       1.731135              6953                 1590564   \n14      10380       2.068728                -1                 2812152   \n15      10380       2.003390             12692                 2826057   \n16      10380       2.003390             12692                 2826057   \n17      10380       2.002672             12102                 2840385   \n18      10380       1.553248             18787                 3542658   \n19      10380       1.999852             11801                 2858577   \n20      10380       1.749194             15419                 3195412   \n21         30       0.916872                -1                   29605   \n22         33       1.091838                -1                   25240   \n23         33       1.043877                54                   26369   \n24        116       1.102313                -1                  103369   \n25        123       1.231009                -1                   98983   \n26        252       1.307270                -1                  194298   \n27        252       1.418702                -1                  179789   \n28        252       1.090227               676                  224611   \n29        252       1.211336               573                  204764   \n\n    total_waiting_duration  avg_waiting_duration  tts_cost  tts_cost_per_plan  \\\n0                     2611              4.403035     24025          40.514334   \n1                     1890              3.304196     15297          26.743007   \n2                     1890              3.304196     15297          26.743007   \n3                     1977              3.530357     14494          25.882143   \n4                      290              0.393487     23941          32.484396   \n5                     1853              3.350814     14206          25.688969   \n6                      599              0.933022     17974          27.996885   \n7                    13193              9.919549     30240          22.736842   \n8                    12320              7.553648     18171          11.141018   \n9                    12320              7.553648     18171          11.141018   \n10                    9994              6.215174     17826          11.085821   \n11                   20820             10.161054     23553          11.494876   \n12                    8955              5.614420     17750          11.128527   \n13                   11206              6.077007     22189          12.033080   \n14                   49427             24.800301     36997          18.563472   \n15                  161777             55.536217     12497           4.290079   \n16                  161777             55.536217     12497           4.290079   \n17                  152430             53.615899     12181           4.284559   \n18                  316323             85.654752     14915           4.038722   \n19                  150626             53.795000     11655           4.162500   \n20                  217846             65.636035     13434           4.047605   \n21                     132              7.333333      8202         455.666667   \n22                     132              7.333333      4961         275.611111   \n23                     183             10.166667      6502         361.222222   \n24                     865             13.951613     15717         253.500000   \n25                    1467             23.661290     11450         184.677419   \n26                    4107             37.000000     11331         102.081081   \n27                    6808             61.333333      8372          75.423423   \n28                    4396             34.888889     12938         102.682540   \n29                    4467             35.452381     11660          92.539683   \n\n          method  max_delay          start_time            end_time  \n0             ih        300 2022-03-11 18:00:00 2022-03-11 18:05:00  \n1   vga_chaining        300 2022-03-11 18:00:00 2022-03-11 18:05:00  \n2   vga_chaining        300 2022-03-11 18:00:00 2022-03-11 18:05:00  \n3   vga_chaining        300 2022-03-11 18:00:00 2022-03-11 18:05:00  \n4   vga_chaining        300 2022-03-11 18:00:00 2022-03-11 18:05:00  \n5   vga_chaining        300 2022-03-11 18:00:00 2022-03-11 18:05:00  \n6   vga_chaining        300 2022-03-11 18:00:00 2022-03-11 18:05:00  \n7             ih        300 2022-03-11 18:00:00 2022-03-11 18:15:00  \n8   vga_chaining        300 2022-03-11 18:00:00 2022-03-11 18:15:00  \n9   vga_chaining        300 2022-03-11 18:00:00 2022-03-11 18:15:00  \n10  vga_chaining        300 2022-03-11 18:00:00 2022-03-11 18:15:00  \n11  vga_chaining        300 2022-03-11 18:00:00 2022-03-11 18:15:00  \n12  vga_chaining        300 2022-03-11 18:00:00 2022-03-11 18:15:00  \n13  vga_chaining        300 2022-03-11 18:00:00 2022-03-11 18:15:00  \n14            ih        300 2022-03-11 18:00:00 2022-03-11 18:30:00  \n15  vga_chaining        300 2022-03-11 18:00:00 2022-03-11 18:30:00  \n16  vga_chaining        300 2022-03-11 18:00:00 2022-03-11 18:30:00  \n17  vga_chaining        300 2022-03-11 18:00:00 2022-03-11 18:30:00  \n18  vga_chaining        300 2022-03-11 18:00:00 2022-03-11 18:30:00  \n19  vga_chaining        300 2022-03-11 18:00:00 2022-03-11 18:30:00  \n20  vga_chaining        300 2022-03-11 18:00:00 2022-03-11 18:30:00  \n21            ih        300 2021-10-22 18:00:00 2021-10-22 18:05:00  \n22           vga        300 2021-10-22 18:00:00 2021-10-22 18:05:00  \n23  vga_chaining        300 2021-10-22 18:00:00 2021-10-22 18:05:00  \n24            ih        300 2021-10-22 18:00:00 2021-10-22 18:15:00  \n25           vga        300 2021-10-22 18:00:00 2021-10-22 18:15:00  \n26            ih        300 2021-10-22 18:00:00 2021-10-22 18:30:00  \n27           vga        300 2021-10-22 18:00:00 2021-10-22 18:30:00  \n28  vga_chaining        300 2021-10-22 18:00:00 2021-10-22 18:30:00  \n29  vga_chaining        300 2021-10-22 18:00:00 2021-10-22 18:30:00  ",
      "text/html": "<div>\n<style scoped>\n    .dataframe tbody tr th:only-of-type {\n        vertical-align: middle;\n    }\n\n    .dataframe tbody tr th {\n        vertical-align: top;\n    }\n\n    .dataframe thead th {\n        text-align: right;\n    }\n</style>\n<table border=\"1\" class=\"dataframe\">\n  <thead>\n    <tr style=\"text-align: right;\">\n      <th></th>\n      <th>cost_minutes</th>\n      <th>total_time</th>\n      <th>dropped_requests</th>\n      <th>avg_delay</th>\n      <th>plan_count</th>\n      <th>req_count</th>\n      <th>avg_occupancy</th>\n      <th>used_connections</th>\n      <th>total_driving_duration</th>\n      <th>total_waiting_duration</th>\n      <th>avg_waiting_duration</th>\n      <th>tts_cost</th>\n      <th>tts_cost_per_plan</th>\n      <th>method</th>\n      <th>max_delay</th>\n      <th>start_time</th>\n      <th>end_time</th>\n    </tr>\n  </thead>\n  <tbody>\n    <tr>\n      <th>0</th>\n      <td>9203</td>\n      <td>1.024</td>\n      <td>0</td>\n      <td>554.799523</td>\n      <td>593</td>\n      <td>1676</td>\n      <td>1.679100</td>\n      <td>-1</td>\n      <td>552165</td>\n      <td>2611</td>\n      <td>4.403035</td>\n      <td>24025</td>\n      <td>40.514334</td>\n      <td>ih</td>\n      <td>300</td>\n      <td>2022-03-11 18:00:00</td>\n      <td>2022-03-11 18:05:00</td>\n    </tr>\n    <tr>\n      <th>1</th>\n      <td>8036</td>\n      <td>169.488</td>\n      <td>0</td>\n      <td>542.550716</td>\n      <td>572</td>\n      <td>1676</td>\n      <td>1.881875</td>\n      <td>1763</td>\n      <td>482157</td>\n      <td>1890</td>\n      <td>3.304196</td>\n      <td>15297</td>\n      <td>26.743007</td>\n      <td>vga_chaining</td>\n      <td>300</td>\n      <td>2022-03-11 18:00:00</td>\n      <td>2022-03-11 18:05:00</td>\n    </tr>\n    <tr>\n      <th>2</th>\n      <td>8036</td>\n      <td>113.903</td>\n      <td>0</td>\n      <td>542.550716</td>\n      <td>572</td>\n      <td>1676</td>\n      <td>1.881875</td>\n      <td>1763</td>\n      <td>482157</td>\n      <td>1890</td>\n      <td>3.304196</td>\n      <td>15297</td>\n      <td>26.743007</td>\n      <td>vga_chaining</td>\n      <td>300</td>\n      <td>2022-03-11 18:00:00</td>\n      <td>2022-03-11 18:05:00</td>\n    </tr>\n    <tr>\n      <th>3</th>\n      <td>8065</td>\n      <td>111.654</td>\n      <td>0</td>\n      <td>544.662888</td>\n      <td>560</td>\n      <td>1676</td>\n      <td>1.882138</td>\n      <td>1688</td>\n      <td>483922</td>\n      <td>1977</td>\n      <td>3.530357</td>\n      <td>14494</td>\n      <td>25.882143</td>\n      <td>vga_chaining</td>\n      <td>300</td>\n      <td>2022-03-11 18:00:00</td>\n      <td>2022-03-11 18:05:00</td>\n    </tr>\n    <tr>\n      <th>4</th>\n      <td>9847</td>\n      <td>10.407</td>\n      <td>0</td>\n      <td>527.038783</td>\n      <td>737</td>\n      <td>1676</td>\n      <td>1.494704</td>\n      <td>2456</td>\n      <td>590836</td>\n      <td>290</td>\n      <td>0.393487</td>\n      <td>23941</td>\n      <td>32.484396</td>\n      <td>vga_chaining</td>\n      <td>300</td>\n      <td>2022-03-11 18:00:00</td>\n      <td>2022-03-11 18:05:00</td>\n    </tr>\n    <tr>\n      <th>5</th>\n      <td>8117</td>\n      <td>111.799</td>\n      <td>0</td>\n      <td>548.521480</td>\n      <td>553</td>\n      <td>1676</td>\n      <td>1.883496</td>\n      <td>1659</td>\n      <td>487046</td>\n      <td>1853</td>\n      <td>3.350814</td>\n      <td>14206</td>\n      <td>25.688969</td>\n      <td>vga_chaining</td>\n      <td>300</td>\n      <td>2022-03-11 18:00:00</td>\n      <td>2022-03-11 18:05:00</td>\n    </tr>\n    <tr>\n      <th>6</th>\n      <td>8832</td>\n      <td>10.052</td>\n      <td>0</td>\n      <td>535.949881</td>\n      <td>642</td>\n      <td>1676</td>\n      <td>1.694257</td>\n      <td>2019</td>\n      <td>529925</td>\n      <td>599</td>\n      <td>0.933022</td>\n      <td>17974</td>\n      <td>27.996885</td>\n      <td>vga_chaining</td>\n      <td>300</td>\n      <td>2022-03-11 18:00:00</td>\n      <td>2022-03-11 18:05:00</td>\n    </tr>\n    <tr>\n      <th>7</th>\n      <td>24610</td>\n      <td>8.791</td>\n      <td>0</td>\n      <td>562.032649</td>\n      <td>1330</td>\n      <td>5115</td>\n      <td>1.936824</td>\n      <td>-1</td>\n      <td>1476581</td>\n      <td>13193</td>\n      <td>9.919549</td>\n      <td>30240</td>\n      <td>22.736842</td>\n      <td>ih</td>\n      <td>300</td>\n      <td>2022-03-11 18:00:00</td>\n      <td>2022-03-11 18:15:00</td>\n    </tr>\n    <tr>\n      <th>8</th>\n      <td>23543</td>\n      <td>251.819</td>\n      <td>0</td>\n      <td>545.104203</td>\n      <td>1631</td>\n      <td>5115</td>\n      <td>1.968700</td>\n      <td>5783</td>\n      <td>1412599</td>\n      <td>12320</td>\n      <td>7.553648</td>\n      <td>18171</td>\n      <td>11.141018</td>\n      <td>vga_chaining</td>\n      <td>300</td>\n      <td>2022-03-11 18:00:00</td>\n      <td>2022-03-11 18:15:00</td>\n    </tr>\n    <tr>\n      <th>9</th>\n      <td>23543</td>\n      <td>250.845</td>\n      <td>0</td>\n      <td>545.104203</td>\n      <td>1631</td>\n      <td>5115</td>\n      <td>1.968700</td>\n      <td>5783</td>\n      <td>1412599</td>\n      <td>12320</td>\n      <td>7.553648</td>\n      <td>18171</td>\n      <td>11.141018</td>\n      <td>vga_chaining</td>\n      <td>300</td>\n      <td>2022-03-11 18:00:00</td>\n      <td>2022-03-11 18:15:00</td>\n    </tr>\n    <tr>\n      <th>10</th>\n      <td>23643</td>\n      <td>388.632</td>\n      <td>0</td>\n      <td>547.371848</td>\n      <td>1608</td>\n      <td>5115</td>\n      <td>1.968614</td>\n      <td>5458</td>\n      <td>1418580</td>\n      <td>9994</td>\n      <td>6.215174</td>\n      <td>17826</td>\n      <td>11.085821</td>\n      <td>vga_chaining</td>\n      <td>300</td>\n      <td>2022-03-11 18:00:00</td>\n      <td>2022-03-11 18:15:00</td>\n    </tr>\n    <tr>\n      <th>11</th>\n      <td>29418</td>\n      <td>191.203</td>\n      <td>0</td>\n      <td>529.356012</td>\n      <td>2049</td>\n      <td>5115</td>\n      <td>1.533742</td>\n      <td>8679</td>\n      <td>1765103</td>\n      <td>20820</td>\n      <td>10.161054</td>\n      <td>23553</td>\n      <td>11.494876</td>\n      <td>vga_chaining</td>\n      <td>300</td>\n      <td>2022-03-11 18:00:00</td>\n      <td>2022-03-11 18:15:00</td>\n    </tr>\n    <tr>\n      <th>12</th>\n      <td>23802</td>\n      <td>379.810</td>\n      <td>0</td>\n      <td>550.086804</td>\n      <td>1595</td>\n      <td>5115</td>\n      <td>1.965225</td>\n      <td>5256</td>\n      <td>1428112</td>\n      <td>8955</td>\n      <td>5.614420</td>\n      <td>17750</td>\n      <td>11.128527</td>\n      <td>vga_chaining</td>\n      <td>300</td>\n      <td>2022-03-11 18:00:00</td>\n      <td>2022-03-11 18:15:00</td>\n    </tr>\n    <tr>\n      <th>13</th>\n      <td>26509</td>\n      <td>127.335</td>\n      <td>0</td>\n      <td>538.576931</td>\n      <td>1844</td>\n      <td>5115</td>\n      <td>1.731135</td>\n      <td>6953</td>\n      <td>1590564</td>\n      <td>11206</td>\n      <td>6.077007</td>\n      <td>22189</td>\n      <td>12.033080</td>\n      <td>vga_chaining</td>\n      <td>300</td>\n      <td>2022-03-11 18:00:00</td>\n      <td>2022-03-11 18:15:00</td>\n    </tr>\n    <tr>\n      <th>14</th>\n      <td>46869</td>\n      <td>38.645</td>\n      <td>0</td>\n      <td>563.669268</td>\n      <td>1993</td>\n      <td>10380</td>\n      <td>2.068728</td>\n      <td>-1</td>\n      <td>2812152</td>\n      <td>49427</td>\n      <td>24.800301</td>\n      <td>36997</td>\n      <td>18.563472</td>\n      <td>ih</td>\n      <td>300</td>\n      <td>2022-03-11 18:00:00</td>\n      <td>2022-03-11 18:30:00</td>\n    </tr>\n    <tr>\n      <th>15</th>\n      <td>47101</td>\n      <td>1249.247</td>\n      <td>0</td>\n      <td>546.866859</td>\n      <td>2913</td>\n      <td>10380</td>\n      <td>2.003390</td>\n      <td>12692</td>\n      <td>2826057</td>\n      <td>161777</td>\n      <td>55.536217</td>\n      <td>12497</td>\n      <td>4.290079</td>\n      <td>vga_chaining</td>\n      <td>300</td>\n      <td>2022-03-11 18:00:00</td>\n      <td>2022-03-11 18:30:00</td>\n    </tr>\n    <tr>\n      <th>16</th>\n      <td>47101</td>\n      <td>1286.340</td>\n      <td>0</td>\n      <td>546.866859</td>\n      <td>2913</td>\n      <td>10380</td>\n      <td>2.003390</td>\n      <td>12692</td>\n      <td>2826057</td>\n      <td>161777</td>\n      <td>55.536217</td>\n      <td>12497</td>\n      <td>4.290079</td>\n      <td>vga_chaining</td>\n      <td>300</td>\n      <td>2022-03-11 18:00:00</td>\n      <td>2022-03-11 18:30:00</td>\n    </tr>\n    <tr>\n      <th>17</th>\n      <td>47340</td>\n      <td>1219.913</td>\n      <td>0</td>\n      <td>549.446339</td>\n      <td>2843</td>\n      <td>10380</td>\n      <td>2.002672</td>\n      <td>12102</td>\n      <td>2840385</td>\n      <td>152430</td>\n      <td>53.615899</td>\n      <td>12181</td>\n      <td>4.284559</td>\n      <td>vga_chaining</td>\n      <td>300</td>\n      <td>2022-03-11 18:00:00</td>\n      <td>2022-03-11 18:30:00</td>\n    </tr>\n    <tr>\n      <th>18</th>\n      <td>59044</td>\n      <td>1681.038</td>\n      <td>0</td>\n      <td>530.213102</td>\n      <td>3693</td>\n      <td>10380</td>\n      <td>1.553248</td>\n      <td>18787</td>\n      <td>3542658</td>\n      <td>316323</td>\n      <td>85.654752</td>\n      <td>14915</td>\n      <td>4.038722</td>\n      <td>vga_chaining</td>\n      <td>300</td>\n      <td>2022-03-11 18:00:00</td>\n      <td>2022-03-11 18:30:00</td>\n    </tr>\n    <tr>\n      <th>19</th>\n      <td>47643</td>\n      <td>1139.635</td>\n      <td>0</td>\n      <td>552.166667</td>\n      <td>2800</td>\n      <td>10380</td>\n      <td>1.999852</td>\n      <td>11801</td>\n      <td>2858577</td>\n      <td>150626</td>\n      <td>53.795000</td>\n      <td>11655</td>\n      <td>4.162500</td>\n      <td>vga_chaining</td>\n      <td>300</td>\n      <td>2022-03-11 18:00:00</td>\n      <td>2022-03-11 18:30:00</td>\n    </tr>\n    <tr>\n      <th>20</th>\n      <td>53257</td>\n      <td>918.119</td>\n      <td>0</td>\n      <td>538.751156</td>\n      <td>3319</td>\n      <td>10380</td>\n      <td>1.749194</td>\n      <td>15419</td>\n      <td>3195412</td>\n      <td>217846</td>\n      <td>65.636035</td>\n      <td>13434</td>\n      <td>4.047605</td>\n      <td>vga_chaining</td>\n      <td>300</td>\n      <td>2022-03-11 18:00:00</td>\n      <td>2022-03-11 18:30:00</td>\n    </tr>\n    <tr>\n      <th>21</th>\n      <td>493</td>\n      <td>0.000</td>\n      <td>6</td>\n      <td>909.200000</td>\n      <td>18</td>\n      <td>30</td>\n      <td>0.916872</td>\n      <td>-1</td>\n      <td>29605</td>\n      <td>132</td>\n      <td>7.333333</td>\n      <td>8202</td>\n      <td>455.666667</td>\n      <td>ih</td>\n      <td>300</td>\n      <td>2021-10-22 18:00:00</td>\n      <td>2021-10-22 18:05:00</td>\n    </tr>\n    <tr>\n      <th>22</th>\n      <td>421</td>\n      <td>0.077</td>\n      <td>3</td>\n      <td>839.090909</td>\n      <td>18</td>\n      <td>33</td>\n      <td>1.091838</td>\n      <td>-1</td>\n      <td>25240</td>\n      <td>132</td>\n      <td>7.333333</td>\n      <td>4961</td>\n      <td>275.611111</td>\n      <td>vga</td>\n      <td>300</td>\n      <td>2021-10-22 18:00:00</td>\n      <td>2021-10-22 18:05:00</td>\n    </tr>\n    <tr>\n      <th>23</th>\n      <td>439</td>\n      <td>0.072</td>\n      <td>3</td>\n      <td>839.666667</td>\n      <td>18</td>\n      <td>33</td>\n      <td>1.043877</td>\n      <td>54</td>\n      <td>26369</td>\n      <td>183</td>\n      <td>10.166667</td>\n      <td>6502</td>\n      <td>361.222222</td>\n      <td>vga_chaining</td>\n      <td>300</td>\n      <td>2021-10-22 18:00:00</td>\n      <td>2021-10-22 18:05:00</td>\n    </tr>\n    <tr>\n      <th>24</th>\n      <td>1723</td>\n      <td>0.007</td>\n      <td>7</td>\n      <td>988.198276</td>\n      <td>62</td>\n      <td>116</td>\n      <td>1.102313</td>\n      <td>-1</td>\n      <td>103369</td>\n      <td>865</td>\n      <td>13.951613</td>\n      <td>15717</td>\n      <td>253.500000</td>\n      <td>ih</td>\n      <td>300</td>\n      <td>2021-10-22 18:00:00</td>\n      <td>2021-10-22 18:15:00</td>\n    </tr>\n    <tr>\n      <th>25</th>\n      <td>1650</td>\n      <td>1.972</td>\n      <td>0</td>\n      <td>1001.227642</td>\n      <td>62</td>\n      <td>123</td>\n      <td>1.231009</td>\n      <td>-1</td>\n      <td>98983</td>\n      <td>1467</td>\n      <td>23.661290</td>\n      <td>11450</td>\n      <td>184.677419</td>\n      <td>vga</td>\n      <td>300</td>\n      <td>2021-10-22 18:00:00</td>\n      <td>2021-10-22 18:15:00</td>\n    </tr>\n    <tr>\n      <th>26</th>\n      <td>3238</td>\n      <td>0.025</td>\n      <td>0</td>\n      <td>1014.591270</td>\n      <td>111</td>\n      <td>252</td>\n      <td>1.307270</td>\n      <td>-1</td>\n      <td>194298</td>\n      <td>4107</td>\n      <td>37.000000</td>\n      <td>11331</td>\n      <td>102.081081</td>\n      <td>ih</td>\n      <td>300</td>\n      <td>2021-10-22 18:00:00</td>\n      <td>2021-10-22 18:30:00</td>\n    </tr>\n    <tr>\n      <th>27</th>\n      <td>2996</td>\n      <td>254.966</td>\n      <td>0</td>\n      <td>1029.376984</td>\n      <td>111</td>\n      <td>252</td>\n      <td>1.418702</td>\n      <td>-1</td>\n      <td>179789</td>\n      <td>6808</td>\n      <td>61.333333</td>\n      <td>8372</td>\n      <td>75.423423</td>\n      <td>vga</td>\n      <td>300</td>\n      <td>2021-10-22 18:00:00</td>\n      <td>2021-10-22 18:30:00</td>\n    </tr>\n    <tr>\n      <th>28</th>\n      <td>3744</td>\n      <td>0.562</td>\n      <td>0</td>\n      <td>974.246032</td>\n      <td>126</td>\n      <td>252</td>\n      <td>1.090227</td>\n      <td>676</td>\n      <td>224611</td>\n      <td>4396</td>\n      <td>34.888889</td>\n      <td>12938</td>\n      <td>102.682540</td>\n      <td>vga_chaining</td>\n      <td>300</td>\n      <td>2021-10-22 18:00:00</td>\n      <td>2021-10-22 18:30:00</td>\n    </tr>\n    <tr>\n      <th>29</th>\n      <td>3413</td>\n      <td>0.470</td>\n      <td>0</td>\n      <td>990.980159</td>\n      <td>126</td>\n      <td>252</td>\n      <td>1.211336</td>\n      <td>573</td>\n      <td>204764</td>\n      <td>4467</td>\n      <td>35.452381</td>\n      <td>11660</td>\n      <td>92.539683</td>\n      <td>vga_chaining</td>\n      <td>300</td>\n      <td>2021-10-22 18:00:00</td>\n      <td>2021-10-22 18:30:00</td>\n    </tr>\n  </tbody>\n</table>\n</div>"
     },
     "execution_count": 24,
     "metadata": {},
     "output_type": "execute_result"
    }
   ],
   "source": [
    "df = pd.DataFrame()\n",
    "for area in areas:\n",
    "    res_in_area = load_aggregate_stats_in_dir(final_results_path / area)\n",
    "    df = pd.concat([df, res_in_area], ignore_index=True)\n",
    "df"
   ],
   "metadata": {
    "collapsed": false,
    "ExecuteTime": {
     "end_time": "2023-05-09T22:54:50.931800200Z",
     "start_time": "2023-05-09T22:54:11.407474500Z"
    }
   }
  },
  {
   "cell_type": "code",
   "execution_count": 16,
   "outputs": [
    {
     "data": {
      "text/plain": "         area length  trip_count  vehicle_count           start_time  \\\n0         NYC     05        3777           1888  2022-03-11 18:00:00   \n1         NYC     15       11695           5847  2022-03-11 18:00:00   \n2         NYC     30       23674          11836  2022-03-11 18:00:00   \n3   Manhattan     05        1676            837  2022-03-11 18:00:00   \n4   Manhattan     15        5115           2557  2022-03-11 18:00:00   \n5   Manhattan     30       10380           5189  2022-03-11 18:00:00   \n6     Chicago     05         126             62  2022-05-20 18:00:00   \n7     Chicago     15         367            183  2022-05-20 18:00:00   \n8     Chicago     30         790            394  2022-05-20 18:00:00   \n9          DC     05          36             21  2021-10-22 18:00:00   \n10         DC     15         123             73  2021-10-22 18:00:00   \n11         DC     30         252            150  2021-10-22 18:00:00   \n\n     vehicle_start_time  node_count  edge_count    speed   positions    times  \\\n0   2022-03-11 17:30:00      113411      281278    exact     un-area    exact   \n1   2022-03-11 17:30:00      113411      281278    exact     un-area    exact   \n2   2022-03-11 17:30:00      113411      281278    exact     un-area    exact   \n3   2022-03-11 17:45:00        6382       13455    exact     un-area    exact   \n4   2022-03-11 17:45:00        6382       13455    exact     un-area    exact   \n5   2022-03-11 17:45:00        6382       13455    exact     un-area    exact   \n6   2022-05-20 17:00:00      152653      413830  average     un-area  uniform   \n7   2022-05-20 17:00:00      152653      413830  average     un-area  uniform   \n8   2022-05-20 17:00:00      152653      413830  average     un-area  uniform   \n9   2021-10-22 17:45:00       33158       84468  average  un-address  uniform   \n10  2021-10-22 17:45:00       33158       84468  average  un-address  uniform   \n11  2021-10-22 17:45:00       33158       84468  average  un-address  uniform   \n\n   dataset  \n0     TODO  \n1     TODO  \n2     TODO  \n3     TODO  \n4     TODO  \n5     TODO  \n6     TODO  \n7     TODO  \n8     TODO  \n9     TODO  \n10    TODO  \n11    TODO  ",
      "text/html": "<div>\n<style scoped>\n    .dataframe tbody tr th:only-of-type {\n        vertical-align: middle;\n    }\n\n    .dataframe tbody tr th {\n        vertical-align: top;\n    }\n\n    .dataframe thead th {\n        text-align: right;\n    }\n</style>\n<table border=\"1\" class=\"dataframe\">\n  <thead>\n    <tr style=\"text-align: right;\">\n      <th></th>\n      <th>area</th>\n      <th>length</th>\n      <th>trip_count</th>\n      <th>vehicle_count</th>\n      <th>start_time</th>\n      <th>vehicle_start_time</th>\n      <th>node_count</th>\n      <th>edge_count</th>\n      <th>speed</th>\n      <th>positions</th>\n      <th>times</th>\n      <th>dataset</th>\n    </tr>\n  </thead>\n  <tbody>\n    <tr>\n      <th>0</th>\n      <td>NYC</td>\n      <td>05</td>\n      <td>3777</td>\n      <td>1888</td>\n      <td>2022-03-11 18:00:00</td>\n      <td>2022-03-11 17:30:00</td>\n      <td>113411</td>\n      <td>281278</td>\n      <td>exact</td>\n      <td>un-area</td>\n      <td>exact</td>\n      <td>TODO</td>\n    </tr>\n    <tr>\n      <th>1</th>\n      <td>NYC</td>\n      <td>15</td>\n      <td>11695</td>\n      <td>5847</td>\n      <td>2022-03-11 18:00:00</td>\n      <td>2022-03-11 17:30:00</td>\n      <td>113411</td>\n      <td>281278</td>\n      <td>exact</td>\n      <td>un-area</td>\n      <td>exact</td>\n      <td>TODO</td>\n    </tr>\n    <tr>\n      <th>2</th>\n      <td>NYC</td>\n      <td>30</td>\n      <td>23674</td>\n      <td>11836</td>\n      <td>2022-03-11 18:00:00</td>\n      <td>2022-03-11 17:30:00</td>\n      <td>113411</td>\n      <td>281278</td>\n      <td>exact</td>\n      <td>un-area</td>\n      <td>exact</td>\n      <td>TODO</td>\n    </tr>\n    <tr>\n      <th>3</th>\n      <td>Manhattan</td>\n      <td>05</td>\n      <td>1676</td>\n      <td>837</td>\n      <td>2022-03-11 18:00:00</td>\n      <td>2022-03-11 17:45:00</td>\n      <td>6382</td>\n      <td>13455</td>\n      <td>exact</td>\n      <td>un-area</td>\n      <td>exact</td>\n      <td>TODO</td>\n    </tr>\n    <tr>\n      <th>4</th>\n      <td>Manhattan</td>\n      <td>15</td>\n      <td>5115</td>\n      <td>2557</td>\n      <td>2022-03-11 18:00:00</td>\n      <td>2022-03-11 17:45:00</td>\n      <td>6382</td>\n      <td>13455</td>\n      <td>exact</td>\n      <td>un-area</td>\n      <td>exact</td>\n      <td>TODO</td>\n    </tr>\n    <tr>\n      <th>5</th>\n      <td>Manhattan</td>\n      <td>30</td>\n      <td>10380</td>\n      <td>5189</td>\n      <td>2022-03-11 18:00:00</td>\n      <td>2022-03-11 17:45:00</td>\n      <td>6382</td>\n      <td>13455</td>\n      <td>exact</td>\n      <td>un-area</td>\n      <td>exact</td>\n      <td>TODO</td>\n    </tr>\n    <tr>\n      <th>6</th>\n      <td>Chicago</td>\n      <td>05</td>\n      <td>126</td>\n      <td>62</td>\n      <td>2022-05-20 18:00:00</td>\n      <td>2022-05-20 17:00:00</td>\n      <td>152653</td>\n      <td>413830</td>\n      <td>average</td>\n      <td>un-area</td>\n      <td>uniform</td>\n      <td>TODO</td>\n    </tr>\n    <tr>\n      <th>7</th>\n      <td>Chicago</td>\n      <td>15</td>\n      <td>367</td>\n      <td>183</td>\n      <td>2022-05-20 18:00:00</td>\n      <td>2022-05-20 17:00:00</td>\n      <td>152653</td>\n      <td>413830</td>\n      <td>average</td>\n      <td>un-area</td>\n      <td>uniform</td>\n      <td>TODO</td>\n    </tr>\n    <tr>\n      <th>8</th>\n      <td>Chicago</td>\n      <td>30</td>\n      <td>790</td>\n      <td>394</td>\n      <td>2022-05-20 18:00:00</td>\n      <td>2022-05-20 17:00:00</td>\n      <td>152653</td>\n      <td>413830</td>\n      <td>average</td>\n      <td>un-area</td>\n      <td>uniform</td>\n      <td>TODO</td>\n    </tr>\n    <tr>\n      <th>9</th>\n      <td>DC</td>\n      <td>05</td>\n      <td>36</td>\n      <td>21</td>\n      <td>2021-10-22 18:00:00</td>\n      <td>2021-10-22 17:45:00</td>\n      <td>33158</td>\n      <td>84468</td>\n      <td>average</td>\n      <td>un-address</td>\n      <td>uniform</td>\n      <td>TODO</td>\n    </tr>\n    <tr>\n      <th>10</th>\n      <td>DC</td>\n      <td>15</td>\n      <td>123</td>\n      <td>73</td>\n      <td>2021-10-22 18:00:00</td>\n      <td>2021-10-22 17:45:00</td>\n      <td>33158</td>\n      <td>84468</td>\n      <td>average</td>\n      <td>un-address</td>\n      <td>uniform</td>\n      <td>TODO</td>\n    </tr>\n    <tr>\n      <th>11</th>\n      <td>DC</td>\n      <td>30</td>\n      <td>252</td>\n      <td>150</td>\n      <td>2021-10-22 18:00:00</td>\n      <td>2021-10-22 17:45:00</td>\n      <td>33158</td>\n      <td>84468</td>\n      <td>average</td>\n      <td>un-address</td>\n      <td>uniform</td>\n      <td>TODO</td>\n    </tr>\n  </tbody>\n</table>\n</div>"
     },
     "execution_count": 16,
     "metadata": {},
     "output_type": "execute_result"
    }
   ],
   "source": [],
   "metadata": {
    "collapsed": false,
    "ExecuteTime": {
     "end_time": "2023-05-09T17:47:45.289047300Z",
     "start_time": "2023-05-09T17:47:44.450387400Z"
    }
   }
  },
  {
   "cell_type": "code",
   "execution_count": null,
   "outputs": [],
   "source": [],
   "metadata": {
    "collapsed": false
   }
  }
 ],
 "metadata": {
  "kernelspec": {
   "display_name": "Python 3",
   "language": "python",
   "name": "python3"
  },
  "language_info": {
   "codemirror_mode": {
    "name": "ipython",
    "version": 2
   },
   "file_extension": ".py",
   "mimetype": "text/x-python",
   "name": "python",
   "nbconvert_exporter": "python",
   "pygments_lexer": "ipython2",
   "version": "2.7.6"
  }
 },
 "nbformat": 4,
 "nbformat_minor": 0
}
