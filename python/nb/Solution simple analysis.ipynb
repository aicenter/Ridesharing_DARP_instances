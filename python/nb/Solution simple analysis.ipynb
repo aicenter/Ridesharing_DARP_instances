{
 "cells": [
  {
   "cell_type": "code",
   "execution_count": 4,
   "id": "initial_id",
   "metadata": {
    "collapsed": true,
    "ExecuteTime": {
     "end_time": "2023-10-31T21:34:52.658230Z",
     "start_time": "2023-10-31T21:34:52.647229500Z"
    }
   },
   "outputs": [],
   "source": [
    "from pathlib import Path"
   ]
  },
  {
   "cell_type": "code",
   "execution_count": 2,
   "outputs": [],
   "source": [
    "root = Path(r'D:\\Google Drive AIC\\AIC Experiment Data\\DARP\\final\\Results')"
   ],
   "metadata": {
    "collapsed": false,
    "ExecuteTime": {
     "end_time": "2023-10-31T21:33:46.502958400Z",
     "start_time": "2023-10-31T21:33:46.471955900Z"
    }
   },
   "id": "fd5f689c95d98c9"
  },
  {
   "cell_type": "code",
   "execution_count": 10,
   "outputs": [
    {
     "name": "stdout",
     "output_type": "stream",
     "text": [
      "Number of experiments: 1236\n",
      "Number of experiments per city: {'Chicago': 309, 'DC': 309, 'Manhattan': 309, 'NYC': 309}\n",
      "Number of experiments per method: {'halns': 96, 'halns-ih': 96, 'halns-vga': 96, 'ih': 96, 'vga_chaining-batch_120_s': 96, 'vga_chaining-batch_120_s-limited': 96, 'vga_chaining-batch_240_s': 96, 'vga_chaining-batch_240_s-limited': 96, 'vga_chaining-batch_30_s': 96, 'vga_chaining-batch_480_s': 96, 'vga_chaining-batch_480_s-limited': 96, 'vga_chaining-batch_60_s': 96, 'vga': 84}\n",
      "Number of solutions: 158\n",
      "Number of solutions per city: {'Chicago': 51, 'DC': 41, 'Manhattan': 32, 'NYC': 34}\n",
      "Number of solutions per method: {'ih': 96, 'halns-ih': 15, 'vga': 44, 'halns': 3}\n"
     ]
    }
   ],
   "source": [
    "# for all experiments\n",
    "exp_count = 0\n",
    "exp_counts_per_city = {}\n",
    "exp_counts_per_method = {}\n",
    "\n",
    "solution_count = 0\n",
    "solution_counts_per_city = {}\n",
    "solution_counts_per_method = {}\n",
    "for file in root.rglob('config.yaml'):\n",
    "    exp_count += 1\n",
    "    solution_path = file.parent / 'config.yaml-solution.json'\n",
    "    method = file.parts[-2]\n",
    "    if method not in exp_counts_per_method:\n",
    "        exp_counts_per_method[method] = 0\n",
    "    exp_counts_per_method[method] += 1\n",
    "    \n",
    "    city = file.parts[-6]\n",
    "    if city not in exp_counts_per_city:\n",
    "        exp_counts_per_city[city] = 0\n",
    "    exp_counts_per_city[city] += 1\n",
    "    \n",
    "    \n",
    "    # solutions\n",
    "    if solution_path.is_file():\n",
    "        solution_count += 1\n",
    "        if method not in solution_counts_per_method:\n",
    "            solution_counts_per_method[method] = 0\n",
    "        solution_counts_per_method[method] += 1\n",
    "        \n",
    "        if city not in solution_counts_per_city:\n",
    "            solution_counts_per_city[city] = 0\n",
    "        solution_counts_per_city[city] += 1\n",
    "    \n",
    "print(f'Number of experiments: {exp_count}')\n",
    "print(f'Number of experiments per city: {exp_counts_per_city}')\n",
    "print(f'Number of experiments per method: {exp_counts_per_method}')\n",
    "\n",
    "print(f'Number of solutions: {solution_count}')\n",
    "print(f'Number of solutions per city: {solution_counts_per_city}')\n",
    "print(f'Number of solutions per method: {solution_counts_per_method}')"
   ],
   "metadata": {
    "collapsed": false,
    "ExecuteTime": {
     "end_time": "2023-10-31T21:51:43.749062900Z",
     "start_time": "2023-10-31T21:51:43.656548400Z"
    }
   },
   "id": "83eaf43a41eb1562"
  },
  {
   "cell_type": "code",
   "execution_count": null,
   "outputs": [],
   "source": [],
   "metadata": {
    "collapsed": false
   },
   "id": "3938e251ce2f24de"
  }
 ],
 "metadata": {
  "kernelspec": {
   "display_name": "Python 3",
   "language": "python",
   "name": "python3"
  },
  "language_info": {
   "codemirror_mode": {
    "name": "ipython",
    "version": 2
   },
   "file_extension": ".py",
   "mimetype": "text/x-python",
   "name": "python",
   "nbconvert_exporter": "python",
   "pygments_lexer": "ipython2",
   "version": "2.7.6"
  }
 },
 "nbformat": 4,
 "nbformat_minor": 5
}
