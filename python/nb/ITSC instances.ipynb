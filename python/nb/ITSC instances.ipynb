{
 "cells": [
  {
   "cell_type": "code",
   "execution_count": 1,
   "metadata": {
    "collapsed": true,
    "ExecuteTime": {
     "end_time": "2023-05-06T13:43:10.091336500Z",
     "start_time": "2023-05-06T13:43:10.061005600Z"
    }
   },
   "outputs": [],
   "source": [
    "%load_ext autoreload"
   ]
  },
  {
   "cell_type": "code",
   "execution_count": 5,
   "outputs": [],
   "source": [
    "import pandas as pd\n",
    "from pathlib import Path\n",
    "from typing import List, Dict"
   ],
   "metadata": {
    "collapsed": false,
    "ExecuteTime": {
     "end_time": "2023-05-06T13:47:02.114059100Z",
     "start_time": "2023-05-06T13:47:02.089581100Z"
    }
   }
  },
  {
   "cell_type": "code",
   "execution_count": 13,
   "outputs": [],
   "source": [
    "# darp_dir_path = Path(r\"C:/Google Drive/AIC Experiment Data/DARP\")\n",
    "itsc_dir_path = Path(r\"D:/Google Drive/AIC Experiment Data/DARP/ITSC_instance_paper/Instances\")\n",
    "\n",
    "area_dirs  = [\n",
    "    'NYC',\n",
    "    'Manhattan',\n",
    "    'Chicago',\n",
    "    'DC'\n",
    "]"
   ],
   "metadata": {
    "collapsed": false,
    "ExecuteTime": {
     "end_time": "2023-05-06T13:53:11.298462900Z",
     "start_time": "2023-05-06T13:53:11.282533300Z"
    }
   }
  },
  {
   "cell_type": "code",
   "execution_count": 11,
   "outputs": [],
   "source": [
    "def get_data_for_dir(area_dir: str) -> Dict:\n",
    "    area_dir_path = itsc_dir_path / Path(area_dir)\n",
    "    map_dir = area_dir_path / Path('map')\n",
    "    node_path = map_dir / Path('nodes.csv')\n",
    "    edge_path = map_dir / Path('edges.csv')\n",
    "\n",
    "    nodes = pd.read_csv(node_path)\n",
    "    edges = pd.read_csv(edge_path)\n",
    "\n",
    "    area_data = {\n",
    "        'area': area_dir,\n",
    "        'node_count': len(nodes),\n",
    "        'edge_count': len(edges)\n",
    "    }\n",
    "\n",
    "    return area_data"
   ],
   "metadata": {
    "collapsed": false,
    "ExecuteTime": {
     "end_time": "2023-05-06T13:52:34.044950800Z",
     "start_time": "2023-05-06T13:52:34.032056200Z"
    }
   }
  },
  {
   "cell_type": "code",
   "execution_count": 25,
   "outputs": [
    {
     "data": {
      "text/plain": "        Area  Node Count  Edge Count\n0        NYC      113411      281278\n1  Manhattan        6382       13455\n2    Chicago      152653      413830\n3         DC       33158       84468",
      "text/html": "<div>\n<style scoped>\n    .dataframe tbody tr th:only-of-type {\n        vertical-align: middle;\n    }\n\n    .dataframe tbody tr th {\n        vertical-align: top;\n    }\n\n    .dataframe thead th {\n        text-align: right;\n    }\n</style>\n<table border=\"1\" class=\"dataframe\">\n  <thead>\n    <tr style=\"text-align: right;\">\n      <th></th>\n      <th>Area</th>\n      <th>Node Count</th>\n      <th>Edge Count</th>\n    </tr>\n  </thead>\n  <tbody>\n    <tr>\n      <th>0</th>\n      <td>NYC</td>\n      <td>113411</td>\n      <td>281278</td>\n    </tr>\n    <tr>\n      <th>1</th>\n      <td>Manhattan</td>\n      <td>6382</td>\n      <td>13455</td>\n    </tr>\n    <tr>\n      <th>2</th>\n      <td>Chicago</td>\n      <td>152653</td>\n      <td>413830</td>\n    </tr>\n    <tr>\n      <th>3</th>\n      <td>DC</td>\n      <td>33158</td>\n      <td>84468</td>\n    </tr>\n  </tbody>\n</table>\n</div>"
     },
     "execution_count": 25,
     "metadata": {},
     "output_type": "execute_result"
    }
   ],
   "source": [
    "area_data_list = []\n",
    "for area_dir in area_dirs:\n",
    "    area_data = get_data_for_dir(area_dir)\n",
    "    area_data_list.append(area_data)\n",
    "area_data = pd.DataFrame(area_data_list)\n",
    "area_data.rename(\n",
    "    columns={\n",
    "        'area': 'Area',\n",
    "        'node_count': 'Node Count',\n",
    "        'edge_count': 'Edge Count'\n",
    "    },\n",
    "    inplace=True\n",
    ")\n",
    "area_data"
   ],
   "metadata": {
    "collapsed": false,
    "ExecuteTime": {
     "end_time": "2023-05-06T14:01:57.857208100Z",
     "start_time": "2023-05-06T14:01:57.083354500Z"
    }
   }
  },
  {
   "cell_type": "code",
   "execution_count": 26,
   "outputs": [
    {
     "name": "stdout",
     "output_type": "stream",
     "text": [
      "\\begin{tabular}{lrr}\n",
      "Area & Node Count & Edge Count \\\\\n",
      "NYC & 113411 & 281278 \\\\\n",
      "Manhattan & 6382 & 13455 \\\\\n",
      "Chicago & 152653 & 413830 \\\\\n",
      "DC & 33158 & 84468 \\\\\n",
      "\\end{tabular}\n",
      "\n"
     ]
    }
   ],
   "source": [
    "s = area_data.style.format(escape='latex')\n",
    "s = s.hide(axis='index')\n",
    "print(s.to_latex())"
   ],
   "metadata": {
    "collapsed": false,
    "ExecuteTime": {
     "end_time": "2023-05-06T14:02:04.171041600Z",
     "start_time": "2023-05-06T14:02:04.154592700Z"
    }
   }
  },
  {
   "cell_type": "code",
   "execution_count": null,
   "outputs": [],
   "source": [],
   "metadata": {
    "collapsed": false
   }
  }
 ],
 "metadata": {
  "kernelspec": {
   "display_name": "Python 3",
   "language": "python",
   "name": "python3"
  },
  "language_info": {
   "codemirror_mode": {
    "name": "ipython",
    "version": 2
   },
   "file_extension": ".py",
   "mimetype": "text/x-python",
   "name": "python",
   "nbconvert_exporter": "python",
   "pygments_lexer": "ipython2",
   "version": "2.7.6"
  }
 },
 "nbformat": 4,
 "nbformat_minor": 0
}
