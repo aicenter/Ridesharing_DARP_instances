{
 "cells": [
  {
   "cell_type": "code",
   "execution_count": 2,
   "metadata": {
    "collapsed": true,
    "ExecuteTime": {
     "end_time": "2023-05-10T14:45:50.896966200Z",
     "start_time": "2023-05-10T14:45:50.855966600Z"
    }
   },
   "outputs": [],
   "source": [
    "%load_ext autoreload"
   ]
  },
  {
   "cell_type": "code",
   "execution_count": 4,
   "outputs": [
    {
     "name": "stderr",
     "output_type": "stream",
     "text": [
      "16:46:28 [INFO] Connecting to ssh server\n"
     ]
    },
    {
     "name": "stdout",
     "output_type": "stream",
     "text": [
      "Successfully read db config from: ['C:\\\\Workspaces\\\\AIC\\\\Ridesharing_DARP_instances/config.ini']\n"
     ]
    },
    {
     "name": "stderr",
     "output_type": "stream",
     "text": [
      "16:46:29 [INFO] Connected (version 2.0, client OpenSSH_7.9p1)\n",
      "16:46:29 [INFO] Auth banner: b'Debian GNU/Linux \\n _ _          __      _                   _\\n(_) |_ ___   / _| ___| |  _____   ___   _| |_   ___ ____\\n| | __/ __| | |_ / _ \\\\ | / __\\\\ \\\\ / / | | | __| / __|_  /\\n| | |_\\\\__ \\\\_|  _|  __/ || (__ \\\\ V /| |_| | |_ | (__ / /\\n|_|\\\\__|___(_)_|  \\\\___|_(_)___| \\\\_/  \\\\__,_|\\\\__(_)___/___|\\n\\nWelcome to our ultra super duper cool server.\\n\\n'\n",
      "16:46:29 [INFO] Authentication (publickey) successful!\n",
      "16:46:29 [INFO] SSH tunnel established from ('127.0.0.1', 1113) to its.fel.cvut.cz/5432\n",
      "16:46:29 [INFO] Starting _psycopg2 connection\n",
      "16:46:31 [INFO] Starting sql_alchemy connection\n"
     ]
    }
   ],
   "source": [
    "import pandas as pd\n",
    "from pathlib import Path\n",
    "from typing import List, Dict\n",
    "import darpinstances.instance\n",
    "from darpinstances.db import db"
   ],
   "metadata": {
    "collapsed": false,
    "ExecuteTime": {
     "end_time": "2023-05-10T14:46:31.635975500Z",
     "start_time": "2023-05-10T14:46:28.319458100Z"
    }
   }
  },
  {
   "cell_type": "code",
   "execution_count": 8,
   "outputs": [],
   "source": [
    "# darp_dir_path = Path(r\"C:/Google Drive/AIC Experiment Data/DARP\")\n",
    "itsc_dir_path = Path(r\"C:/Google Drive/AIC Experiment Data/DARP/ITSC_instance_paper/Instances\")\n",
    "# itsc_dir_path = Path(r\"D:/Google Drive/AIC Experiment Data/DARP/ITSC_instance_paper/Instances\")\n",
    "\n",
    "area_dirs  = [\n",
    "    'NYC',\n",
    "    'Manhattan',\n",
    "    'Chicago',\n",
    "    'DC'\n",
    "]"
   ],
   "metadata": {
    "collapsed": false,
    "ExecuteTime": {
     "end_time": "2023-05-10T14:48:04.833033600Z",
     "start_time": "2023-05-10T14:48:04.824032900Z"
    }
   }
  },
  {
   "cell_type": "code",
   "execution_count": 30,
   "outputs": [],
   "source": [
    "def get_data_for_dir(area_dir: str) -> Dict:\n",
    "    area_dir_path = itsc_dir_path / Path(area_dir)\n",
    "    map_dir = area_dir_path / Path('map')\n",
    "    node_path = map_dir / Path('nodes.csv')\n",
    "    edge_path = map_dir / Path('edges.csv')\n",
    "\n",
    "    nodes = pd.read_csv(node_path)\n",
    "    edges = pd.read_csv(edge_path)\n",
    "\n",
    "    area_data = {\n",
    "        'area': area_dir,\n",
    "        'node_count': len(nodes),\n",
    "        'edge_count': len(edges)\n",
    "    }\n",
    "\n",
    "\n",
    "    # request count\n",
    "    config = darpinstances.instance.load_instance_config(str(next(area_dir_path.rglob('config.yaml'))))\n",
    "    demand_sets = config['demand']['dataset']\n",
    "    area_id = config['area_id']\n",
    "    # SELECT count(1) FROM demand\n",
    "    #     WHERE\n",
    "    #         dataset IN ({','.join((str(s) for s in demand_sets))})\n",
    "    #         AND origin_time BETWEEN '2022-04-05 18:00:00' AND '2022-04-05 18:59:59'\n",
    "    sql = f\"\"\"\n",
    "    SELECT count(1) FROM demand\n",
    "    JOIN trip_locations\n",
    "        on demand.id = trip_locations.request_id\n",
    "        AND dataset IN ({','.join((str(s) for s in demand_sets))})\n",
    "        AND origin_time BETWEEN '2022-04-05 18:00:00' AND '2022-04-05 18:59:59'\n",
    "    JOIN nodes origin_nodes\n",
    "        ON origin_nodes.id = trip_locations.origin\n",
    "    JOIN areas\n",
    "        ON areas.id = {area_id}\n",
    "        AND st_within(origin_nodes.geom, areas.geom)\n",
    "    \"\"\"\n",
    "    req_count = db.execute_count_query(sql)\n",
    "    area_data['Requests per hour'] = req_count\n",
    "\n",
    "    # area\n",
    "    sql = f\"\"\"\n",
    "    SELECT st_area(st_transform(geom, 32618)) AS area\n",
    "        FROM areas\n",
    "        WHERE id = {area_id}\n",
    "    \"\"\"\n",
    "    area = db.execute_count_query(sql)\n",
    "    area_data['Area [km2]'] = area / 1000000\n",
    "\n",
    "    return area_data"
   ],
   "metadata": {
    "collapsed": false,
    "ExecuteTime": {
     "end_time": "2023-05-10T15:07:50.522390600Z",
     "start_time": "2023-05-10T15:07:50.496365500Z"
    }
   }
  },
  {
   "cell_type": "code",
   "execution_count": 33,
   "outputs": [
    {
     "name": "stderr",
     "output_type": "stream",
     "text": [
      "17:09:07 [INFO] Loading instance config from C:\\Google Drive\\AIC Experiment Data\\DARP\\ITSC_instance_paper\\Instances\\NYC\\instances\\start_18-00\\duration_005_min\\max_delay_03_min\\config.yaml\n",
      "17:09:07 [INFO] Loading instance config from C:\\Google Drive\\AIC Experiment Data\\DARP\\ITSC_instance_paper\\Instances\\Manhattan\\instances\\start_18-00\\duration_005_min\\max_delay_03_min\\config.yaml\n",
      "17:09:08 [INFO] Loading instance config from C:\\Google Drive\\AIC Experiment Data\\DARP\\ITSC_instance_paper\\Instances\\Chicago\\instances\\start_18-00\\duration_005_min\\max_delay_03_min\\config.yaml\n",
      "17:09:08 [INFO] Loading instance config from C:\\Google Drive\\AIC Experiment Data\\DARP\\ITSC_instance_paper\\Instances\\DC\\instances\\start_18-00\\duration_005_min\\max_delay_03_min\\config.yaml\n"
     ]
    },
    {
     "data": {
      "text/plain": "        Area  Node Count  Edge Count  Requests per hour   Area [km2]\n0        NYC      113411      281278              40294  1508.106916\n1  Manhattan        6382       13455              23310    87.344297\n2    Chicago      152653      413830               1138  1004.421323\n3         DC       33230       84788                660   181.038363",
      "text/html": "<div>\n<style scoped>\n    .dataframe tbody tr th:only-of-type {\n        vertical-align: middle;\n    }\n\n    .dataframe tbody tr th {\n        vertical-align: top;\n    }\n\n    .dataframe thead th {\n        text-align: right;\n    }\n</style>\n<table border=\"1\" class=\"dataframe\">\n  <thead>\n    <tr style=\"text-align: right;\">\n      <th></th>\n      <th>Area</th>\n      <th>Node Count</th>\n      <th>Edge Count</th>\n      <th>Requests per hour</th>\n      <th>Area [km2]</th>\n    </tr>\n  </thead>\n  <tbody>\n    <tr>\n      <th>0</th>\n      <td>NYC</td>\n      <td>113411</td>\n      <td>281278</td>\n      <td>40294</td>\n      <td>1508.106916</td>\n    </tr>\n    <tr>\n      <th>1</th>\n      <td>Manhattan</td>\n      <td>6382</td>\n      <td>13455</td>\n      <td>23310</td>\n      <td>87.344297</td>\n    </tr>\n    <tr>\n      <th>2</th>\n      <td>Chicago</td>\n      <td>152653</td>\n      <td>413830</td>\n      <td>1138</td>\n      <td>1004.421323</td>\n    </tr>\n    <tr>\n      <th>3</th>\n      <td>DC</td>\n      <td>33230</td>\n      <td>84788</td>\n      <td>660</td>\n      <td>181.038363</td>\n    </tr>\n  </tbody>\n</table>\n</div>"
     },
     "execution_count": 33,
     "metadata": {},
     "output_type": "execute_result"
    }
   ],
   "source": [
    "area_data_list = []\n",
    "for area_dir in area_dirs:\n",
    "    area_data = get_data_for_dir(area_dir)\n",
    "    area_data_list.append(area_data)\n",
    "area_data = pd.DataFrame(area_data_list)\n",
    "area_data.rename(\n",
    "    columns={\n",
    "        'area': 'Area',\n",
    "        'node_count': 'Node Count',\n",
    "        'edge_count': 'Edge Count'\n",
    "    },\n",
    "    inplace=True\n",
    ")\n",
    "area_data"
   ],
   "metadata": {
    "collapsed": false,
    "ExecuteTime": {
     "end_time": "2023-05-10T15:09:08.469484400Z",
     "start_time": "2023-05-10T15:09:06.780648300Z"
    }
   }
  },
  {
   "cell_type": "code",
   "execution_count": 34,
   "outputs": [
    {
     "data": {
      "text/plain": "        Area  Node Count  Edge Count  Requests per hour   Area [km2]   \n0        NYC      113411      281278              40294  1508.106916  \\\n1  Manhattan        6382       13455              23310    87.344297   \n2    Chicago      152653      413830               1138  1004.421323   \n3         DC       33230       84788                660   181.038363   \n\n   Req./hour and km2  \n0          26.718265  \n1         266.874894  \n2           1.132991  \n3           3.645636  ",
      "text/html": "<div>\n<style scoped>\n    .dataframe tbody tr th:only-of-type {\n        vertical-align: middle;\n    }\n\n    .dataframe tbody tr th {\n        vertical-align: top;\n    }\n\n    .dataframe thead th {\n        text-align: right;\n    }\n</style>\n<table border=\"1\" class=\"dataframe\">\n  <thead>\n    <tr style=\"text-align: right;\">\n      <th></th>\n      <th>Area</th>\n      <th>Node Count</th>\n      <th>Edge Count</th>\n      <th>Requests per hour</th>\n      <th>Area [km2]</th>\n      <th>Req./hour and km2</th>\n    </tr>\n  </thead>\n  <tbody>\n    <tr>\n      <th>0</th>\n      <td>NYC</td>\n      <td>113411</td>\n      <td>281278</td>\n      <td>40294</td>\n      <td>1508.106916</td>\n      <td>26.718265</td>\n    </tr>\n    <tr>\n      <th>1</th>\n      <td>Manhattan</td>\n      <td>6382</td>\n      <td>13455</td>\n      <td>23310</td>\n      <td>87.344297</td>\n      <td>266.874894</td>\n    </tr>\n    <tr>\n      <th>2</th>\n      <td>Chicago</td>\n      <td>152653</td>\n      <td>413830</td>\n      <td>1138</td>\n      <td>1004.421323</td>\n      <td>1.132991</td>\n    </tr>\n    <tr>\n      <th>3</th>\n      <td>DC</td>\n      <td>33230</td>\n      <td>84788</td>\n      <td>660</td>\n      <td>181.038363</td>\n      <td>3.645636</td>\n    </tr>\n  </tbody>\n</table>\n</div>"
     },
     "execution_count": 34,
     "metadata": {},
     "output_type": "execute_result"
    }
   ],
   "source": [
    "area_data['Req./hour and km2'] = area_data['Requests per hour'] / area_data['Area [km2]']\n",
    "area_data"
   ],
   "metadata": {
    "collapsed": false,
    "ExecuteTime": {
     "end_time": "2023-05-10T15:09:10.338531200Z",
     "start_time": "2023-05-10T15:09:10.318084400Z"
    }
   }
  },
  {
   "cell_type": "code",
   "execution_count": 39,
   "outputs": [
    {
     "name": "stdout",
     "output_type": "stream",
     "text": [
      "\\begin{tabular}{lrrrr}\n",
      "Area & Node Count & Edge Count & Area [km2] & Req./hour and km2 \\\\\n",
      "NYC & 113411 & 281278 & 1508 & 27 \\\\\n",
      "Manhattan & 6382 & 13455 & 87 & 267 \\\\\n",
      "Chicago & 152653 & 413830 & 1004 & 1 \\\\\n",
      "DC & 33230 & 84788 & 181 & 4 \\\\\n",
      "\\end{tabular}\n",
      "\n"
     ]
    }
   ],
   "source": [
    "s = area_data.style.format(escape='latex', precision=0)\n",
    "s = s.hide(axis='index')\n",
    "s = s.hide(['Requests per hour'], axis='columns')\n",
    "print(s.to_latex())"
   ],
   "metadata": {
    "collapsed": false,
    "ExecuteTime": {
     "end_time": "2023-05-10T15:11:36.267295700Z",
     "start_time": "2023-05-10T15:11:36.227086500Z"
    }
   }
  },
  {
   "cell_type": "code",
   "execution_count": null,
   "outputs": [],
   "source": [],
   "metadata": {
    "collapsed": false
   }
  }
 ],
 "metadata": {
  "kernelspec": {
   "display_name": "Python 3",
   "language": "python",
   "name": "python3"
  },
  "language_info": {
   "codemirror_mode": {
    "name": "ipython",
    "version": 2
   },
   "file_extension": ".py",
   "mimetype": "text/x-python",
   "name": "python",
   "nbconvert_exporter": "python",
   "pygments_lexer": "ipython2",
   "version": "2.7.6"
  }
 },
 "nbformat": 4,
 "nbformat_minor": 0
}
