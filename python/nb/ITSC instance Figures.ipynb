{
 "cells": [
  {
   "cell_type": "code",
   "execution_count": 1,
   "metadata": {
    "collapsed": true,
    "ExecuteTime": {
     "end_time": "2023-05-26T13:52:59.162423900Z",
     "start_time": "2023-05-26T13:52:59.101391Z"
    }
   },
   "outputs": [],
   "source": [
    "%load_ext autoreload"
   ]
  },
  {
   "cell_type": "code",
   "execution_count": 132,
   "outputs": [],
   "source": [
    "%autoreload"
   ],
   "metadata": {
    "collapsed": false,
    "ExecuteTime": {
     "end_time": "2023-05-20T20:43:43.028386500Z",
     "start_time": "2023-05-20T20:43:42.973148900Z"
    }
   }
  },
  {
   "cell_type": "code",
   "execution_count": 2,
   "outputs": [
    {
     "name": "stdout",
     "output_type": "stream",
     "text": [
      "Successfully read db config from: ['C:\\\\Workspaces\\\\AIC\\\\Ridesharing_DARP_instances/config.ini']\n"
     ]
    }
   ],
   "source": [
    "import pandas as pd\n",
    "from pathlib import Path\n",
    "from typing import List, Dict\n",
    "import darpinstances.instance\n",
    "from darpinstances.db import db\n",
    "import plotly.express as px"
   ],
   "metadata": {
    "collapsed": false,
    "ExecuteTime": {
     "end_time": "2023-05-26T13:53:04.598524500Z",
     "start_time": "2023-05-26T13:53:01.252053700Z"
    }
   }
  },
  {
   "cell_type": "code",
   "execution_count": 26,
   "outputs": [],
   "source": [
    "# darp_dir_path = Path(r\"C:/Google Drive/AIC Experiment Data/DARP\")\n",
    "itsc_dir_path = Path(r\"C:/Google Drive/AIC Experiment Data/DARP/ITSC_instance_paper/Instances\")\n",
    "# itsc_dir_path = Path(r\"D:/Google Drive/AIC Experiment Data/DARP/ITSC_instance_paper/Instances\")\n",
    "\n",
    "# fig_path = Path(\"D:/Workspaces/AIC/Ridesharing_DARP_instances/figures\")\n",
    "fig_path = Path(\"C:/Workspaces/AIC/Ridesharing_DARP_instances/figures\")\n",
    "\n",
    "area_dirs = [\n",
    "    'NYC',\n",
    "    'Manhattan',\n",
    "    'Chicago',\n",
    "    'DC'\n",
    "]\n",
    "\n",
    "areas = [\n",
    "    dict(name='NYC', id=12, dataset_ids=[2, 3, 4, 5], srid=32618, zone_types=[2]),\n",
    "    dict(name='Manhattan', id=4, dataset_ids=[2, 3, 4, 5], srid=32618, zone_types=[2]),\n",
    "    dict(name='Chicago', id=19, dataset_ids=[1], srid=26916, zone_types=[0, 1]),\n",
    "    dict(name='DC', id=22, dataset_ids=[7], srid=32618, zone_types=[4])\n",
    "]"
   ],
   "metadata": {
    "collapsed": false,
    "ExecuteTime": {
     "end_time": "2023-05-26T15:52:44.247775700Z",
     "start_time": "2023-05-26T15:52:44.226780500Z"
    }
   }
  },
  {
   "cell_type": "markdown",
   "source": [
    "# Area table"
   ],
   "metadata": {
    "collapsed": false
   }
  },
  {
   "cell_type": "code",
   "execution_count": 67,
   "outputs": [
    {
     "data": {
      "text/plain": "31982135.314356655"
     },
     "execution_count": 67,
     "metadata": {},
     "output_type": "execute_result"
    }
   ],
   "source": [
    "edge_path = Path('C:\\Google Drive\\AIC Experiment Data\\DARP\\ITSC_instance_paper\\Instances\\Chicago\\map/edges.csv')\n",
    "edges = pd.read_csv(edge_path, sep='\\t')\n",
    "edges['length'].sum()"
   ],
   "metadata": {
    "collapsed": false,
    "ExecuteTime": {
     "end_time": "2023-05-23T09:26:29.168428400Z",
     "start_time": "2023-05-23T09:26:28.925426600Z"
    }
   }
  },
  {
   "cell_type": "code",
   "execution_count": 74,
   "outputs": [],
   "source": [
    "def get_data_for_dir(area_dir: str) -> Dict:\n",
    "    area_dir_path = itsc_dir_path / Path(area_dir)\n",
    "    map_dir = area_dir_path / Path('map')\n",
    "    node_path = map_dir / Path('nodes.csv')\n",
    "    edge_path = map_dir / Path('edges.csv')\n",
    "\n",
    "    nodes = pd.read_csv(node_path, sep='\\t')\n",
    "    edges = pd.read_csv(edge_path, sep='\\t')\n",
    "\n",
    "    total_length = edges['length'].sum()\n",
    "\n",
    "    area_data = {\n",
    "        'area': area_dir,\n",
    "        'node_count': len(nodes),\n",
    "        'edge_count': len(edges),\n",
    "        'Road length [km]': total_length / 1000,\n",
    "    }\n",
    "\n",
    "    # request count\n",
    "    config = darpinstances.instance.load_instance_config(str(next(area_dir_path.rglob('config.yaml'))))\n",
    "    demand_sets = config['demand']['dataset']\n",
    "    area_id = config['area_id']\n",
    "    # SELECT count(1) FROM demand\n",
    "    #     WHERE\n",
    "    #         dataset IN ({','.join((str(s) for s in demand_sets))})\n",
    "    #         AND origin_time BETWEEN '2022-04-05 18:00:00' AND '2022-04-05 18:59:59'\n",
    "    sql = f\"\"\"\n",
    "    SELECT count(1) FROM demand\n",
    "    JOIN trip_locations\n",
    "        on demand.id = trip_locations.request_id\n",
    "        AND dataset IN ({','.join((str(s) for s in demand_sets))})\n",
    "        AND origin_time BETWEEN '2022-04-05 18:00:00' AND '2022-04-05 18:59:59'\n",
    "    JOIN nodes origin_nodes\n",
    "        ON origin_nodes.id = trip_locations.origin\n",
    "    JOIN areas\n",
    "        ON areas.id = {area_id}\n",
    "        AND st_within(origin_nodes.geom, areas.geom)\n",
    "    \"\"\"\n",
    "    req_count = db.execute_count_query(sql)\n",
    "    area_data['Requests per hour'] = req_count\n",
    "\n",
    "    # area\n",
    "    sql = f\"\"\"\n",
    "    SELECT st_area(st_transform(geom, 32618)) AS area\n",
    "        FROM areas\n",
    "        WHERE id = {area_id}\n",
    "    \"\"\"\n",
    "    area = db.execute_count_query(sql)\n",
    "    area_data['Area [km2]'] = area / 1000000\n",
    "\n",
    "    return area_data"
   ],
   "metadata": {
    "collapsed": false,
    "ExecuteTime": {
     "end_time": "2023-05-23T09:27:46.383831Z",
     "start_time": "2023-05-23T09:27:46.366831800Z"
    }
   }
  },
  {
   "cell_type": "code",
   "execution_count": 75,
   "outputs": [
    {
     "name": "stderr",
     "output_type": "stream",
     "text": [
      "11:27:46 [INFO] Loading instance config from C:\\Google Drive\\AIC Experiment Data\\DARP\\ITSC_instance_paper\\Instances\\NYC\\instances\\start_18-00\\duration_01_min\\max_delay_03_min\\config.yaml\n",
      "11:27:46 [INFO] Connected (version 2.0, client OpenSSH_7.9p1)\n",
      "11:27:46 [INFO] Auth banner: b'Debian GNU/Linux \\n _ _          __      _                   _\\n(_) |_ ___   / _| ___| |  _____   ___   _| |_   ___ ____\\n| | __/ __| | |_ / _ \\\\ | / __\\\\ \\\\ / / | | | __| / __|_  /\\n| | |_\\\\__ \\\\_|  _|  __/ || (__ \\\\ V /| |_| | |_ | (__ / /\\n|_|\\\\__|___(_)_|  \\\\___|_(_)___| \\\\_/  \\\\__,_|\\\\__(_)___/___|\\n\\nWelcome to our ultra super duper cool server.\\n\\n'\n",
      "11:27:46 [INFO] Authentication (publickey) successful!\n",
      "11:27:49 [INFO] Loading instance config from C:\\Google Drive\\AIC Experiment Data\\DARP\\ITSC_instance_paper\\Instances\\Manhattan\\instances\\start_18-00\\duration_01_min\\max_delay_03_min\\config.yaml\n",
      "11:27:49 [INFO] Loading instance config from C:\\Google Drive\\AIC Experiment Data\\DARP\\ITSC_instance_paper\\Instances\\Chicago\\instances\\start_18-00\\duration_01_min\\max_delay_03_min\\config.yaml\n",
      "11:27:50 [INFO] Loading instance config from C:\\Google Drive\\AIC Experiment Data\\DARP\\ITSC_instance_paper\\Instances\\DC\\instances\\start_18-00\\duration_01_min\\max_delay_03_min\\config.yaml\n"
     ]
    },
    {
     "data": {
      "text/plain": "        Area  Node Count  Edge Count  Road length [km]  Requests per hour   \n0        NYC      113411      281278      27720.535062              40294  \\\n1  Manhattan        6382       13455       1328.744618              23310   \n2    Chicago      152653      413830      31982.135314               1138   \n3         DC       33230       84788       5876.597523                660   \n\n    Area [km2]  \n0  1508.106916  \n1    87.344297  \n2  1004.421323  \n3   181.038363  ",
      "text/html": "<div>\n<style scoped>\n    .dataframe tbody tr th:only-of-type {\n        vertical-align: middle;\n    }\n\n    .dataframe tbody tr th {\n        vertical-align: top;\n    }\n\n    .dataframe thead th {\n        text-align: right;\n    }\n</style>\n<table border=\"1\" class=\"dataframe\">\n  <thead>\n    <tr style=\"text-align: right;\">\n      <th></th>\n      <th>Area</th>\n      <th>Node Count</th>\n      <th>Edge Count</th>\n      <th>Road length [km]</th>\n      <th>Requests per hour</th>\n      <th>Area [km2]</th>\n    </tr>\n  </thead>\n  <tbody>\n    <tr>\n      <th>0</th>\n      <td>NYC</td>\n      <td>113411</td>\n      <td>281278</td>\n      <td>27720.535062</td>\n      <td>40294</td>\n      <td>1508.106916</td>\n    </tr>\n    <tr>\n      <th>1</th>\n      <td>Manhattan</td>\n      <td>6382</td>\n      <td>13455</td>\n      <td>1328.744618</td>\n      <td>23310</td>\n      <td>87.344297</td>\n    </tr>\n    <tr>\n      <th>2</th>\n      <td>Chicago</td>\n      <td>152653</td>\n      <td>413830</td>\n      <td>31982.135314</td>\n      <td>1138</td>\n      <td>1004.421323</td>\n    </tr>\n    <tr>\n      <th>3</th>\n      <td>DC</td>\n      <td>33230</td>\n      <td>84788</td>\n      <td>5876.597523</td>\n      <td>660</td>\n      <td>181.038363</td>\n    </tr>\n  </tbody>\n</table>\n</div>"
     },
     "execution_count": 75,
     "metadata": {},
     "output_type": "execute_result"
    }
   ],
   "source": [
    "area_data_list = []\n",
    "for area_dir in area_dirs:\n",
    "    area_data = get_data_for_dir(area_dir)\n",
    "    area_data_list.append(area_data)\n",
    "area_data = pd.DataFrame(area_data_list)\n",
    "area_data.rename(\n",
    "    columns={\n",
    "        'area': 'Area',\n",
    "        'node_count': 'Node Count',\n",
    "        'edge_count': 'Edge Count'\n",
    "    },\n",
    "    inplace=True\n",
    ")\n",
    "area_data"
   ],
   "metadata": {
    "collapsed": false,
    "ExecuteTime": {
     "end_time": "2023-05-23T09:27:50.183614300Z",
     "start_time": "2023-05-23T09:27:46.499832100Z"
    }
   }
  },
  {
   "cell_type": "code",
   "execution_count": 34,
   "outputs": [
    {
     "data": {
      "text/plain": "        Area  Node Count  Edge Count  Requests per hour   Area [km2]   \n0        NYC      113411      281278              40294  1508.106916  \\\n1  Manhattan        6382       13455              23310    87.344297   \n2    Chicago      152653      413830               1138  1004.421323   \n3         DC       33230       84788                660   181.038363   \n\n   Req./hour and km2  \n0          26.718265  \n1         266.874894  \n2           1.132991  \n3           3.645636  ",
      "text/html": "<div>\n<style scoped>\n    .dataframe tbody tr th:only-of-type {\n        vertical-align: middle;\n    }\n\n    .dataframe tbody tr th {\n        vertical-align: top;\n    }\n\n    .dataframe thead th {\n        text-align: right;\n    }\n</style>\n<table border=\"1\" class=\"dataframe\">\n  <thead>\n    <tr style=\"text-align: right;\">\n      <th></th>\n      <th>Area</th>\n      <th>Node Count</th>\n      <th>Edge Count</th>\n      <th>Requests per hour</th>\n      <th>Area [km2]</th>\n      <th>Req./hour and km2</th>\n    </tr>\n  </thead>\n  <tbody>\n    <tr>\n      <th>0</th>\n      <td>NYC</td>\n      <td>113411</td>\n      <td>281278</td>\n      <td>40294</td>\n      <td>1508.106916</td>\n      <td>26.718265</td>\n    </tr>\n    <tr>\n      <th>1</th>\n      <td>Manhattan</td>\n      <td>6382</td>\n      <td>13455</td>\n      <td>23310</td>\n      <td>87.344297</td>\n      <td>266.874894</td>\n    </tr>\n    <tr>\n      <th>2</th>\n      <td>Chicago</td>\n      <td>152653</td>\n      <td>413830</td>\n      <td>1138</td>\n      <td>1004.421323</td>\n      <td>1.132991</td>\n    </tr>\n    <tr>\n      <th>3</th>\n      <td>DC</td>\n      <td>33230</td>\n      <td>84788</td>\n      <td>660</td>\n      <td>181.038363</td>\n      <td>3.645636</td>\n    </tr>\n  </tbody>\n</table>\n</div>"
     },
     "execution_count": 34,
     "metadata": {},
     "output_type": "execute_result"
    }
   ],
   "source": [
    "area_data['Req./hour and km2'] = area_data['Requests per hour'] / area_data['Area [km2]']\n",
    "area_data"
   ],
   "metadata": {
    "collapsed": false,
    "ExecuteTime": {
     "end_time": "2023-05-10T15:09:10.338531200Z",
     "start_time": "2023-05-10T15:09:10.318084400Z"
    }
   }
  },
  {
   "cell_type": "code",
   "execution_count": 76,
   "outputs": [
    {
     "name": "stdout",
     "output_type": "stream",
     "text": [
      "\\begin{tabular}{lrrrr}\n",
      "Area & Node Count & Edge Count & Road length [km] & Area [km2] \\\\\n",
      "NYC & 113411 & 281278 & 27721 & 1508 \\\\\n",
      "Manhattan & 6382 & 13455 & 1329 & 87 \\\\\n",
      "Chicago & 152653 & 413830 & 31982 & 1004 \\\\\n",
      "DC & 33230 & 84788 & 5877 & 181 \\\\\n",
      "\\end{tabular}\n",
      "\n"
     ]
    }
   ],
   "source": [
    "s = area_data.style.format(escape='latex', precision=0)\n",
    "s = s.hide(axis='index')\n",
    "s = s.hide(['Requests per hour'], axis='columns')\n",
    "print(s.to_latex())"
   ],
   "metadata": {
    "collapsed": false,
    "ExecuteTime": {
     "end_time": "2023-05-23T09:28:14.820333800Z",
     "start_time": "2023-05-23T09:28:13.960164900Z"
    }
   }
  },
  {
   "cell_type": "markdown",
   "source": [
    "# Demand density histogram"
   ],
   "metadata": {
    "collapsed": false
   }
  },
  {
   "cell_type": "code",
   "execution_count": 4,
   "outputs": [],
   "source": [
    "def get_data_for_area(id: int, dataset_ids: List[int], srid: int) -> pd.DataFrame:\n",
    "    sql = f\"\"\"\n",
    "    SELECT\n",
    "        zones.id,\n",
    "        min(zones.name) AS name,\n",
    "        count(demand.id) AS demand_count,\n",
    "        st_area(st_transform(min(zones.geom), {srid})) AS area\n",
    "    FROM areas\n",
    "        JOIN zones ON areas.id = {id} AND st_within(zones.geom, areas.geom)\n",
    "        JOIN demand ON\n",
    "            demand.dataset IN ({','.join((str(id) for id in dataset_ids))})\n",
    "            AND zones.id = demand.origin\n",
    "            AND demand.origin_time BETWEEN '2022-04-05 00:00:00' AND '2022-04-05 23:59:59'\n",
    "    GROUP BY zones.id\n",
    "    \"\"\"\n",
    "    return db.execute_query_to_pandas(sql)"
   ],
   "metadata": {
    "collapsed": false,
    "ExecuteTime": {
     "end_time": "2023-05-26T13:53:20.076923600Z",
     "start_time": "2023-05-26T13:53:20.052897600Z"
    }
   }
  },
  {
   "cell_type": "code",
   "execution_count": 5,
   "outputs": [
    {
     "name": "stderr",
     "output_type": "stream",
     "text": [
      "15:53:20 [INFO] Connecting to ssh server\n"
     ]
    },
    {
     "name": "stdout",
     "output_type": "stream",
     "text": [
      "Importing data for NYC\n"
     ]
    },
    {
     "name": "stderr",
     "output_type": "stream",
     "text": [
      "15:53:22 [INFO] Connected (version 2.0, client OpenSSH_7.9p1)\n",
      "15:53:22 [INFO] Auth banner: b'Debian GNU/Linux \\n _ _          __      _                   _\\n(_) |_ ___   / _| ___| |  _____   ___   _| |_   ___ ____\\n| | __/ __| | |_ / _ \\\\ | / __\\\\ \\\\ / / | | | __| / __|_  /\\n| | |_\\\\__ \\\\_|  _|  __/ || (__ \\\\ V /| |_| | |_ | (__ / /\\n|_|\\\\__|___(_)_|  \\\\___|_(_)___| \\\\_/  \\\\__,_|\\\\__(_)___/___|\\n\\nWelcome to our ultra super duper cool server.\\n\\n'\n",
      "15:53:22 [INFO] Authentication (publickey) successful!\n",
      "15:53:22 [INFO] SSH tunnel established from ('127.0.0.1', 1113) to its.fel.cvut.cz/5432\n",
      "15:53:22 [INFO] Starting _psycopg2 connection\n",
      "15:53:24 [INFO] Starting sql_alchemy connection\n"
     ]
    },
    {
     "name": "stdout",
     "output_type": "stream",
     "text": [
      "Importing data for Manhattan\n",
      "Importing data for Chicago\n",
      "Importing data for DC\n"
     ]
    },
    {
     "data": {
      "text/plain": "          id                                          name  demand_count   \n0          1                                Newark Airport            25  \\\n1          3                       Allerton/Pelham Gardens          1110   \n2          4                                 Alphabet City          1720   \n3          5                                 Arden Heights           163   \n4          6                       Arrochar/Fort Wadsworth           293   \n...      ...                                           ...           ...   \n1714  816865  1900 - 1999 BLOCK OF MASSACHUSETTS AVENUE SE             4   \n1715  816873               1 - 49 BLOCK OF SUTTON SQUAE SW             8   \n1716  816883            525 - 619 BLOCK OF WATER STREET SW             2   \n1717  816888              1800 - 2099 BLOCK OF ASH ROAD SW             2   \n1718  816905     800 - 899 BLOCK OF PENNSYLVANIA AVENUE SE             2   \n\n              area area_name  \n0     7.338068e+06       NYC  \n1     2.942011e+06       NYC  \n2     7.449769e+05       NYC  \n3     4.680435e+06       NYC  \n4     3.800484e+06       NYC  \n...            ...       ...  \n1714  1.221537e+05        DC  \n1715  4.172806e+03        DC  \n1716  7.364737e+03        DC  \n1717  7.267198e+04        DC  \n1718  4.645477e+03        DC  \n\n[2178 rows x 5 columns]",
      "text/html": "<div>\n<style scoped>\n    .dataframe tbody tr th:only-of-type {\n        vertical-align: middle;\n    }\n\n    .dataframe tbody tr th {\n        vertical-align: top;\n    }\n\n    .dataframe thead th {\n        text-align: right;\n    }\n</style>\n<table border=\"1\" class=\"dataframe\">\n  <thead>\n    <tr style=\"text-align: right;\">\n      <th></th>\n      <th>id</th>\n      <th>name</th>\n      <th>demand_count</th>\n      <th>area</th>\n      <th>area_name</th>\n    </tr>\n  </thead>\n  <tbody>\n    <tr>\n      <th>0</th>\n      <td>1</td>\n      <td>Newark Airport</td>\n      <td>25</td>\n      <td>7.338068e+06</td>\n      <td>NYC</td>\n    </tr>\n    <tr>\n      <th>1</th>\n      <td>3</td>\n      <td>Allerton/Pelham Gardens</td>\n      <td>1110</td>\n      <td>2.942011e+06</td>\n      <td>NYC</td>\n    </tr>\n    <tr>\n      <th>2</th>\n      <td>4</td>\n      <td>Alphabet City</td>\n      <td>1720</td>\n      <td>7.449769e+05</td>\n      <td>NYC</td>\n    </tr>\n    <tr>\n      <th>3</th>\n      <td>5</td>\n      <td>Arden Heights</td>\n      <td>163</td>\n      <td>4.680435e+06</td>\n      <td>NYC</td>\n    </tr>\n    <tr>\n      <th>4</th>\n      <td>6</td>\n      <td>Arrochar/Fort Wadsworth</td>\n      <td>293</td>\n      <td>3.800484e+06</td>\n      <td>NYC</td>\n    </tr>\n    <tr>\n      <th>...</th>\n      <td>...</td>\n      <td>...</td>\n      <td>...</td>\n      <td>...</td>\n      <td>...</td>\n    </tr>\n    <tr>\n      <th>1714</th>\n      <td>816865</td>\n      <td>1900 - 1999 BLOCK OF MASSACHUSETTS AVENUE SE</td>\n      <td>4</td>\n      <td>1.221537e+05</td>\n      <td>DC</td>\n    </tr>\n    <tr>\n      <th>1715</th>\n      <td>816873</td>\n      <td>1 - 49 BLOCK OF SUTTON SQUAE SW</td>\n      <td>8</td>\n      <td>4.172806e+03</td>\n      <td>DC</td>\n    </tr>\n    <tr>\n      <th>1716</th>\n      <td>816883</td>\n      <td>525 - 619 BLOCK OF WATER STREET SW</td>\n      <td>2</td>\n      <td>7.364737e+03</td>\n      <td>DC</td>\n    </tr>\n    <tr>\n      <th>1717</th>\n      <td>816888</td>\n      <td>1800 - 2099 BLOCK OF ASH ROAD SW</td>\n      <td>2</td>\n      <td>7.267198e+04</td>\n      <td>DC</td>\n    </tr>\n    <tr>\n      <th>1718</th>\n      <td>816905</td>\n      <td>800 - 899 BLOCK OF PENNSYLVANIA AVENUE SE</td>\n      <td>2</td>\n      <td>4.645477e+03</td>\n      <td>DC</td>\n    </tr>\n  </tbody>\n</table>\n<p>2178 rows × 5 columns</p>\n</div>"
     },
     "execution_count": 5,
     "metadata": {},
     "output_type": "execute_result"
    }
   ],
   "source": [
    "df = pd.DataFrame()\n",
    "for area in areas:\n",
    "    print(f\"Importing data for {area['name']}\")\n",
    "    df_area = get_data_for_area(area['id'], area['dataset_ids'], area['srid'])\n",
    "    df_area['area_name'] = area['name']\n",
    "    df = pd.concat([df, df_area])\n",
    "df"
   ],
   "metadata": {
    "collapsed": false,
    "ExecuteTime": {
     "end_time": "2023-05-26T13:56:13.930204400Z",
     "start_time": "2023-05-26T13:53:20.980745200Z"
    }
   }
  },
  {
   "cell_type": "code",
   "execution_count": 6,
   "outputs": [
    {
     "data": {
      "text/plain": "          id                                          name  demand_count   \n0          1                                Newark Airport            25  \\\n1          3                       Allerton/Pelham Gardens          1110   \n2          4                                 Alphabet City          1720   \n3          5                                 Arden Heights           163   \n4          6                       Arrochar/Fort Wadsworth           293   \n...      ...                                           ...           ...   \n1714  816865  1900 - 1999 BLOCK OF MASSACHUSETTS AVENUE SE             4   \n1715  816873               1 - 49 BLOCK OF SUTTON SQUAE SW             8   \n1716  816883            525 - 619 BLOCK OF WATER STREET SW             2   \n1717  816888              1800 - 2099 BLOCK OF ASH ROAD SW             2   \n1718  816905     800 - 899 BLOCK OF PENNSYLVANIA AVENUE SE             2   \n\n              area area_name  demand_per_km2  \n0     7.338068e+06       NYC        3.406892  \n1     2.942011e+06       NYC      377.292912  \n2     7.449769e+05       NYC     2308.796538  \n3     4.680435e+06       NYC       34.825823  \n4     3.800484e+06       NYC       77.095439  \n...            ...       ...             ...  \n1714  1.221537e+05        DC       32.745642  \n1715  4.172806e+03        DC     1917.175255  \n1716  7.364737e+03        DC      271.564345  \n1717  7.267198e+04        DC       27.520924  \n1718  4.645477e+03        DC      430.526264  \n\n[2178 rows x 6 columns]",
      "text/html": "<div>\n<style scoped>\n    .dataframe tbody tr th:only-of-type {\n        vertical-align: middle;\n    }\n\n    .dataframe tbody tr th {\n        vertical-align: top;\n    }\n\n    .dataframe thead th {\n        text-align: right;\n    }\n</style>\n<table border=\"1\" class=\"dataframe\">\n  <thead>\n    <tr style=\"text-align: right;\">\n      <th></th>\n      <th>id</th>\n      <th>name</th>\n      <th>demand_count</th>\n      <th>area</th>\n      <th>area_name</th>\n      <th>demand_per_km2</th>\n    </tr>\n  </thead>\n  <tbody>\n    <tr>\n      <th>0</th>\n      <td>1</td>\n      <td>Newark Airport</td>\n      <td>25</td>\n      <td>7.338068e+06</td>\n      <td>NYC</td>\n      <td>3.406892</td>\n    </tr>\n    <tr>\n      <th>1</th>\n      <td>3</td>\n      <td>Allerton/Pelham Gardens</td>\n      <td>1110</td>\n      <td>2.942011e+06</td>\n      <td>NYC</td>\n      <td>377.292912</td>\n    </tr>\n    <tr>\n      <th>2</th>\n      <td>4</td>\n      <td>Alphabet City</td>\n      <td>1720</td>\n      <td>7.449769e+05</td>\n      <td>NYC</td>\n      <td>2308.796538</td>\n    </tr>\n    <tr>\n      <th>3</th>\n      <td>5</td>\n      <td>Arden Heights</td>\n      <td>163</td>\n      <td>4.680435e+06</td>\n      <td>NYC</td>\n      <td>34.825823</td>\n    </tr>\n    <tr>\n      <th>4</th>\n      <td>6</td>\n      <td>Arrochar/Fort Wadsworth</td>\n      <td>293</td>\n      <td>3.800484e+06</td>\n      <td>NYC</td>\n      <td>77.095439</td>\n    </tr>\n    <tr>\n      <th>...</th>\n      <td>...</td>\n      <td>...</td>\n      <td>...</td>\n      <td>...</td>\n      <td>...</td>\n      <td>...</td>\n    </tr>\n    <tr>\n      <th>1714</th>\n      <td>816865</td>\n      <td>1900 - 1999 BLOCK OF MASSACHUSETTS AVENUE SE</td>\n      <td>4</td>\n      <td>1.221537e+05</td>\n      <td>DC</td>\n      <td>32.745642</td>\n    </tr>\n    <tr>\n      <th>1715</th>\n      <td>816873</td>\n      <td>1 - 49 BLOCK OF SUTTON SQUAE SW</td>\n      <td>8</td>\n      <td>4.172806e+03</td>\n      <td>DC</td>\n      <td>1917.175255</td>\n    </tr>\n    <tr>\n      <th>1716</th>\n      <td>816883</td>\n      <td>525 - 619 BLOCK OF WATER STREET SW</td>\n      <td>2</td>\n      <td>7.364737e+03</td>\n      <td>DC</td>\n      <td>271.564345</td>\n    </tr>\n    <tr>\n      <th>1717</th>\n      <td>816888</td>\n      <td>1800 - 2099 BLOCK OF ASH ROAD SW</td>\n      <td>2</td>\n      <td>7.267198e+04</td>\n      <td>DC</td>\n      <td>27.520924</td>\n    </tr>\n    <tr>\n      <th>1718</th>\n      <td>816905</td>\n      <td>800 - 899 BLOCK OF PENNSYLVANIA AVENUE SE</td>\n      <td>2</td>\n      <td>4.645477e+03</td>\n      <td>DC</td>\n      <td>430.526264</td>\n    </tr>\n  </tbody>\n</table>\n<p>2178 rows × 6 columns</p>\n</div>"
     },
     "execution_count": 6,
     "metadata": {},
     "output_type": "execute_result"
    }
   ],
   "source": [
    "df['demand_per_km2'] = df['demand_count'] * 1e6 / df['area']\n",
    "# max = 24000\n",
    "# df['demand_per_km2_gouped_outliers'] = [min(max, demand) for demand in df['demand_per_km2']]\n",
    "df"
   ],
   "metadata": {
    "collapsed": false,
    "ExecuteTime": {
     "end_time": "2023-05-26T14:35:03.748493200Z",
     "start_time": "2023-05-26T14:35:03.712815700Z"
    }
   }
  },
  {
   "cell_type": "code",
   "execution_count": 7,
   "outputs": [
    {
     "ename": "KeyError",
     "evalue": "'demand_per_km2_gouped_outliers'",
     "output_type": "error",
     "traceback": [
      "\u001B[1;31m---------------------------------------------------------------------------\u001B[0m",
      "\u001B[1;31mKeyError\u001B[0m                                  Traceback (most recent call last)",
      "File \u001B[1;32m~\\AppData\\Roaming\\Python\\Python310\\site-packages\\pandas\\core\\indexes\\base.py:3652\u001B[0m, in \u001B[0;36mIndex.get_loc\u001B[1;34m(self, key)\u001B[0m\n\u001B[0;32m   3651\u001B[0m \u001B[38;5;28;01mtry\u001B[39;00m:\n\u001B[1;32m-> 3652\u001B[0m     \u001B[38;5;28;01mreturn\u001B[39;00m \u001B[38;5;28;43mself\u001B[39;49m\u001B[38;5;241;43m.\u001B[39;49m\u001B[43m_engine\u001B[49m\u001B[38;5;241;43m.\u001B[39;49m\u001B[43mget_loc\u001B[49m\u001B[43m(\u001B[49m\u001B[43mcasted_key\u001B[49m\u001B[43m)\u001B[49m\n\u001B[0;32m   3653\u001B[0m \u001B[38;5;28;01mexcept\u001B[39;00m \u001B[38;5;167;01mKeyError\u001B[39;00m \u001B[38;5;28;01mas\u001B[39;00m err:\n",
      "File \u001B[1;32m~\\AppData\\Roaming\\Python\\Python310\\site-packages\\pandas\\_libs\\index.pyx:147\u001B[0m, in \u001B[0;36mpandas._libs.index.IndexEngine.get_loc\u001B[1;34m()\u001B[0m\n",
      "File \u001B[1;32m~\\AppData\\Roaming\\Python\\Python310\\site-packages\\pandas\\_libs\\index.pyx:176\u001B[0m, in \u001B[0;36mpandas._libs.index.IndexEngine.get_loc\u001B[1;34m()\u001B[0m\n",
      "File \u001B[1;32mpandas\\_libs\\hashtable_class_helper.pxi:7080\u001B[0m, in \u001B[0;36mpandas._libs.hashtable.PyObjectHashTable.get_item\u001B[1;34m()\u001B[0m\n",
      "File \u001B[1;32mpandas\\_libs\\hashtable_class_helper.pxi:7088\u001B[0m, in \u001B[0;36mpandas._libs.hashtable.PyObjectHashTable.get_item\u001B[1;34m()\u001B[0m\n",
      "\u001B[1;31mKeyError\u001B[0m: 'demand_per_km2_gouped_outliers'",
      "\nThe above exception was the direct cause of the following exception:\n",
      "\u001B[1;31mKeyError\u001B[0m                                  Traceback (most recent call last)",
      "Input \u001B[1;32mIn [7]\u001B[0m, in \u001B[0;36m<cell line: 2>\u001B[1;34m()\u001B[0m\n\u001B[0;32m      1\u001B[0m size \u001B[38;5;241m=\u001B[39m \u001B[38;5;241m2000\u001B[39m\n\u001B[1;32m----> 2\u001B[0m bins \u001B[38;5;241m=\u001B[39m [i \u001B[38;5;28;01mfor\u001B[39;00m i \u001B[38;5;129;01min\u001B[39;00m \u001B[38;5;28mrange\u001B[39m(\u001B[38;5;241m0\u001B[39m, \u001B[43mdf\u001B[49m\u001B[43m[\u001B[49m\u001B[38;5;124;43m'\u001B[39;49m\u001B[38;5;124;43mdemand_per_km2_gouped_outliers\u001B[39;49m\u001B[38;5;124;43m'\u001B[39;49m\u001B[43m]\u001B[49m\u001B[38;5;241m.\u001B[39mastype(\u001B[38;5;28mint\u001B[39m)\u001B[38;5;241m.\u001B[39mmax() \u001B[38;5;241m+\u001B[39m size, size)]\n\u001B[0;32m      3\u001B[0m bins\u001B[38;5;241m.\u001B[39mappend(\u001B[38;5;241m25000\u001B[39m)\n\u001B[0;32m      4\u001B[0m cut \u001B[38;5;241m=\u001B[39m pd\u001B[38;5;241m.\u001B[39mcut(\n\u001B[0;32m      5\u001B[0m     df[\u001B[38;5;124m'\u001B[39m\u001B[38;5;124mdemand_per_km2_gouped_outliers\u001B[39m\u001B[38;5;124m'\u001B[39m]\u001B[38;5;241m.\u001B[39mastype(\u001B[38;5;28mint\u001B[39m),\n\u001B[0;32m      6\u001B[0m     bins\u001B[38;5;241m=\u001B[39mbins,\n\u001B[0;32m      7\u001B[0m     right\u001B[38;5;241m=\u001B[39m\u001B[38;5;28;01mFalse\u001B[39;00m\n\u001B[0;32m      8\u001B[0m )\n",
      "File \u001B[1;32m~\\AppData\\Roaming\\Python\\Python310\\site-packages\\pandas\\core\\frame.py:3761\u001B[0m, in \u001B[0;36mDataFrame.__getitem__\u001B[1;34m(self, key)\u001B[0m\n\u001B[0;32m   3759\u001B[0m \u001B[38;5;28;01mif\u001B[39;00m \u001B[38;5;28mself\u001B[39m\u001B[38;5;241m.\u001B[39mcolumns\u001B[38;5;241m.\u001B[39mnlevels \u001B[38;5;241m>\u001B[39m \u001B[38;5;241m1\u001B[39m:\n\u001B[0;32m   3760\u001B[0m     \u001B[38;5;28;01mreturn\u001B[39;00m \u001B[38;5;28mself\u001B[39m\u001B[38;5;241m.\u001B[39m_getitem_multilevel(key)\n\u001B[1;32m-> 3761\u001B[0m indexer \u001B[38;5;241m=\u001B[39m \u001B[38;5;28;43mself\u001B[39;49m\u001B[38;5;241;43m.\u001B[39;49m\u001B[43mcolumns\u001B[49m\u001B[38;5;241;43m.\u001B[39;49m\u001B[43mget_loc\u001B[49m\u001B[43m(\u001B[49m\u001B[43mkey\u001B[49m\u001B[43m)\u001B[49m\n\u001B[0;32m   3762\u001B[0m \u001B[38;5;28;01mif\u001B[39;00m is_integer(indexer):\n\u001B[0;32m   3763\u001B[0m     indexer \u001B[38;5;241m=\u001B[39m [indexer]\n",
      "File \u001B[1;32m~\\AppData\\Roaming\\Python\\Python310\\site-packages\\pandas\\core\\indexes\\base.py:3654\u001B[0m, in \u001B[0;36mIndex.get_loc\u001B[1;34m(self, key)\u001B[0m\n\u001B[0;32m   3652\u001B[0m     \u001B[38;5;28;01mreturn\u001B[39;00m \u001B[38;5;28mself\u001B[39m\u001B[38;5;241m.\u001B[39m_engine\u001B[38;5;241m.\u001B[39mget_loc(casted_key)\n\u001B[0;32m   3653\u001B[0m \u001B[38;5;28;01mexcept\u001B[39;00m \u001B[38;5;167;01mKeyError\u001B[39;00m \u001B[38;5;28;01mas\u001B[39;00m err:\n\u001B[1;32m-> 3654\u001B[0m     \u001B[38;5;28;01mraise\u001B[39;00m \u001B[38;5;167;01mKeyError\u001B[39;00m(key) \u001B[38;5;28;01mfrom\u001B[39;00m \u001B[38;5;21;01merr\u001B[39;00m\n\u001B[0;32m   3655\u001B[0m \u001B[38;5;28;01mexcept\u001B[39;00m \u001B[38;5;167;01mTypeError\u001B[39;00m:\n\u001B[0;32m   3656\u001B[0m     \u001B[38;5;66;03m# If we have a listlike key, _check_indexing_error will raise\u001B[39;00m\n\u001B[0;32m   3657\u001B[0m     \u001B[38;5;66;03m#  InvalidIndexError. Otherwise we fall through and re-raise\u001B[39;00m\n\u001B[0;32m   3658\u001B[0m     \u001B[38;5;66;03m#  the TypeError.\u001B[39;00m\n\u001B[0;32m   3659\u001B[0m     \u001B[38;5;28mself\u001B[39m\u001B[38;5;241m.\u001B[39m_check_indexing_error(key)\n",
      "\u001B[1;31mKeyError\u001B[0m: 'demand_per_km2_gouped_outliers'"
     ]
    }
   ],
   "source": [
    "size = 2000\n",
    "bins = [i for i in range(0, df['demand_per_km2_gouped_outliers'].astype(int).max() + size, size)]\n",
    "bins.append(25000)\n",
    "cut = pd.cut(\n",
    "    df['demand_per_km2_gouped_outliers'].astype(int),\n",
    "    bins=bins,\n",
    "    right=False\n",
    ")\n",
    "df['bin'] = cut\n",
    "df_binned = df.groupby(['area_name', 'bin'])['bin'].count().reset_index(name='count')\n",
    "\n",
    "area_sums = df_binned.groupby('area_name')['count'].sum().reset_index(name='sum')\n",
    "\n",
    "df_binned = df_binned.merge(area_sums, on='area_name')\n",
    "df_binned['percent'] = df_binned['count'] / df_binned['sum'] * 100\n",
    "df_binned['x'] = df_binned['bin'].apply(lambda x: x.right - ((x.right - x.left) / 2))\n",
    "df_binned.sort_values(['area_name'], inplace=True, ascending=False)\n",
    "df_binned\n",
    "# bins\n",
    "# df_distances\n"
   ],
   "metadata": {
    "collapsed": false,
    "ExecuteTime": {
     "end_time": "2023-05-26T14:35:06.547797700Z",
     "start_time": "2023-05-26T14:35:04.953778400Z"
    }
   }
  },
  {
   "cell_type": "code",
   "execution_count": 8,
   "outputs": [
    {
     "data": {
      "text/plain": "                 bin   count    percent         x  area_name\n0          (0, 2444]  326184  49.912931    1222.0        NYC\n1       (2444, 4888]   48654   7.445073    3666.0        NYC\n2       (4888, 7332]   46270   7.080272    6110.0        NYC\n3       (7332, 9776]   73721  11.280845    8554.0        NYC\n4      (9776, 12220]   59653   9.128149   10998.0        NYC\n5     (12220, 14664]   31793   4.864990   13442.0        NYC\n6     (14664, 17108]   13696   2.095773   15886.0        NYC\n7     (17108, 19552]       0   0.000000   18330.0        NYC\n8     (19552, 21996]   21514   3.292089   20774.0        NYC\n9     (21996, 24440]   32021   4.899879   23218.0        NYC\n10    (24440, 26884]       0   0.000000   25662.0        NYC\n0          (0, 2444]   30999   9.366049    1222.0  Manhattan\n1       (2444, 4888]   21305   6.437100    3666.0  Manhattan\n2       (4888, 7332]   46270  13.980035    6110.0  Manhattan\n3       (7332, 9776]   73721  22.274090    8554.0  Manhattan\n4      (9776, 12220]   59653  18.023579   10998.0  Manhattan\n5     (12220, 14664]   31793   9.605949   13442.0  Manhattan\n6     (14664, 17108]   13696   4.138114   15886.0  Manhattan\n7     (17108, 19552]       0   0.000000   18330.0  Manhattan\n8     (19552, 21996]   21514   6.500248   20774.0  Manhattan\n9     (21996, 24440]   32021   9.674837   23218.0  Manhattan\n10    (24440, 26884]       0   0.000000   25662.0  Manhattan\n0           (0, 159]    7983  50.915237      79.5    Chicago\n1         (159, 318]    3002  19.146629     238.5    Chicago\n2         (318, 477]     348   2.219529     397.5    Chicago\n3         (477, 636]       0   0.000000     556.5    Chicago\n4         (636, 795]       0   0.000000     715.5    Chicago\n5         (795, 954]    1577  10.058039     874.5    Chicago\n6        (954, 1113]       0   0.000000    1033.5    Chicago\n7       (1113, 1272]    1260   8.036227    1192.5    Chicago\n8       (1272, 1431]     405   2.583073    1351.5    Chicago\n9       (1431, 1590]    1104   7.041265    1510.5    Chicago\n10      (1590, 1749]       0   0.000000    1669.5    Chicago\n0         (0, 13076]   12384  73.130979    6538.0         DC\n1     (13076, 26152]     818   4.830518   19614.0         DC\n2     (26152, 39228]     838   4.948624   32690.0         DC\n3     (39228, 52304]     648   3.826621   45766.0         DC\n4     (52304, 65380]       0   0.000000   58842.0         DC\n5     (65380, 78456]    1414   8.350065   71918.0         DC\n6     (78456, 91532]       0   0.000000   84994.0         DC\n7    (91532, 104608]       0   0.000000   98070.0         DC\n8   (104608, 117684]       0   0.000000  111146.0         DC\n9   (117684, 130760]       0   0.000000  124222.0         DC\n10  (130760, 143836]     832   4.913192  137298.0         DC",
      "text/html": "<div>\n<style scoped>\n    .dataframe tbody tr th:only-of-type {\n        vertical-align: middle;\n    }\n\n    .dataframe tbody tr th {\n        vertical-align: top;\n    }\n\n    .dataframe thead th {\n        text-align: right;\n    }\n</style>\n<table border=\"1\" class=\"dataframe\">\n  <thead>\n    <tr style=\"text-align: right;\">\n      <th></th>\n      <th>bin</th>\n      <th>count</th>\n      <th>percent</th>\n      <th>x</th>\n      <th>area_name</th>\n    </tr>\n  </thead>\n  <tbody>\n    <tr>\n      <th>0</th>\n      <td>(0, 2444]</td>\n      <td>326184</td>\n      <td>49.912931</td>\n      <td>1222.0</td>\n      <td>NYC</td>\n    </tr>\n    <tr>\n      <th>1</th>\n      <td>(2444, 4888]</td>\n      <td>48654</td>\n      <td>7.445073</td>\n      <td>3666.0</td>\n      <td>NYC</td>\n    </tr>\n    <tr>\n      <th>2</th>\n      <td>(4888, 7332]</td>\n      <td>46270</td>\n      <td>7.080272</td>\n      <td>6110.0</td>\n      <td>NYC</td>\n    </tr>\n    <tr>\n      <th>3</th>\n      <td>(7332, 9776]</td>\n      <td>73721</td>\n      <td>11.280845</td>\n      <td>8554.0</td>\n      <td>NYC</td>\n    </tr>\n    <tr>\n      <th>4</th>\n      <td>(9776, 12220]</td>\n      <td>59653</td>\n      <td>9.128149</td>\n      <td>10998.0</td>\n      <td>NYC</td>\n    </tr>\n    <tr>\n      <th>5</th>\n      <td>(12220, 14664]</td>\n      <td>31793</td>\n      <td>4.864990</td>\n      <td>13442.0</td>\n      <td>NYC</td>\n    </tr>\n    <tr>\n      <th>6</th>\n      <td>(14664, 17108]</td>\n      <td>13696</td>\n      <td>2.095773</td>\n      <td>15886.0</td>\n      <td>NYC</td>\n    </tr>\n    <tr>\n      <th>7</th>\n      <td>(17108, 19552]</td>\n      <td>0</td>\n      <td>0.000000</td>\n      <td>18330.0</td>\n      <td>NYC</td>\n    </tr>\n    <tr>\n      <th>8</th>\n      <td>(19552, 21996]</td>\n      <td>21514</td>\n      <td>3.292089</td>\n      <td>20774.0</td>\n      <td>NYC</td>\n    </tr>\n    <tr>\n      <th>9</th>\n      <td>(21996, 24440]</td>\n      <td>32021</td>\n      <td>4.899879</td>\n      <td>23218.0</td>\n      <td>NYC</td>\n    </tr>\n    <tr>\n      <th>10</th>\n      <td>(24440, 26884]</td>\n      <td>0</td>\n      <td>0.000000</td>\n      <td>25662.0</td>\n      <td>NYC</td>\n    </tr>\n    <tr>\n      <th>0</th>\n      <td>(0, 2444]</td>\n      <td>30999</td>\n      <td>9.366049</td>\n      <td>1222.0</td>\n      <td>Manhattan</td>\n    </tr>\n    <tr>\n      <th>1</th>\n      <td>(2444, 4888]</td>\n      <td>21305</td>\n      <td>6.437100</td>\n      <td>3666.0</td>\n      <td>Manhattan</td>\n    </tr>\n    <tr>\n      <th>2</th>\n      <td>(4888, 7332]</td>\n      <td>46270</td>\n      <td>13.980035</td>\n      <td>6110.0</td>\n      <td>Manhattan</td>\n    </tr>\n    <tr>\n      <th>3</th>\n      <td>(7332, 9776]</td>\n      <td>73721</td>\n      <td>22.274090</td>\n      <td>8554.0</td>\n      <td>Manhattan</td>\n    </tr>\n    <tr>\n      <th>4</th>\n      <td>(9776, 12220]</td>\n      <td>59653</td>\n      <td>18.023579</td>\n      <td>10998.0</td>\n      <td>Manhattan</td>\n    </tr>\n    <tr>\n      <th>5</th>\n      <td>(12220, 14664]</td>\n      <td>31793</td>\n      <td>9.605949</td>\n      <td>13442.0</td>\n      <td>Manhattan</td>\n    </tr>\n    <tr>\n      <th>6</th>\n      <td>(14664, 17108]</td>\n      <td>13696</td>\n      <td>4.138114</td>\n      <td>15886.0</td>\n      <td>Manhattan</td>\n    </tr>\n    <tr>\n      <th>7</th>\n      <td>(17108, 19552]</td>\n      <td>0</td>\n      <td>0.000000</td>\n      <td>18330.0</td>\n      <td>Manhattan</td>\n    </tr>\n    <tr>\n      <th>8</th>\n      <td>(19552, 21996]</td>\n      <td>21514</td>\n      <td>6.500248</td>\n      <td>20774.0</td>\n      <td>Manhattan</td>\n    </tr>\n    <tr>\n      <th>9</th>\n      <td>(21996, 24440]</td>\n      <td>32021</td>\n      <td>9.674837</td>\n      <td>23218.0</td>\n      <td>Manhattan</td>\n    </tr>\n    <tr>\n      <th>10</th>\n      <td>(24440, 26884]</td>\n      <td>0</td>\n      <td>0.000000</td>\n      <td>25662.0</td>\n      <td>Manhattan</td>\n    </tr>\n    <tr>\n      <th>0</th>\n      <td>(0, 159]</td>\n      <td>7983</td>\n      <td>50.915237</td>\n      <td>79.5</td>\n      <td>Chicago</td>\n    </tr>\n    <tr>\n      <th>1</th>\n      <td>(159, 318]</td>\n      <td>3002</td>\n      <td>19.146629</td>\n      <td>238.5</td>\n      <td>Chicago</td>\n    </tr>\n    <tr>\n      <th>2</th>\n      <td>(318, 477]</td>\n      <td>348</td>\n      <td>2.219529</td>\n      <td>397.5</td>\n      <td>Chicago</td>\n    </tr>\n    <tr>\n      <th>3</th>\n      <td>(477, 636]</td>\n      <td>0</td>\n      <td>0.000000</td>\n      <td>556.5</td>\n      <td>Chicago</td>\n    </tr>\n    <tr>\n      <th>4</th>\n      <td>(636, 795]</td>\n      <td>0</td>\n      <td>0.000000</td>\n      <td>715.5</td>\n      <td>Chicago</td>\n    </tr>\n    <tr>\n      <th>5</th>\n      <td>(795, 954]</td>\n      <td>1577</td>\n      <td>10.058039</td>\n      <td>874.5</td>\n      <td>Chicago</td>\n    </tr>\n    <tr>\n      <th>6</th>\n      <td>(954, 1113]</td>\n      <td>0</td>\n      <td>0.000000</td>\n      <td>1033.5</td>\n      <td>Chicago</td>\n    </tr>\n    <tr>\n      <th>7</th>\n      <td>(1113, 1272]</td>\n      <td>1260</td>\n      <td>8.036227</td>\n      <td>1192.5</td>\n      <td>Chicago</td>\n    </tr>\n    <tr>\n      <th>8</th>\n      <td>(1272, 1431]</td>\n      <td>405</td>\n      <td>2.583073</td>\n      <td>1351.5</td>\n      <td>Chicago</td>\n    </tr>\n    <tr>\n      <th>9</th>\n      <td>(1431, 1590]</td>\n      <td>1104</td>\n      <td>7.041265</td>\n      <td>1510.5</td>\n      <td>Chicago</td>\n    </tr>\n    <tr>\n      <th>10</th>\n      <td>(1590, 1749]</td>\n      <td>0</td>\n      <td>0.000000</td>\n      <td>1669.5</td>\n      <td>Chicago</td>\n    </tr>\n    <tr>\n      <th>0</th>\n      <td>(0, 13076]</td>\n      <td>12384</td>\n      <td>73.130979</td>\n      <td>6538.0</td>\n      <td>DC</td>\n    </tr>\n    <tr>\n      <th>1</th>\n      <td>(13076, 26152]</td>\n      <td>818</td>\n      <td>4.830518</td>\n      <td>19614.0</td>\n      <td>DC</td>\n    </tr>\n    <tr>\n      <th>2</th>\n      <td>(26152, 39228]</td>\n      <td>838</td>\n      <td>4.948624</td>\n      <td>32690.0</td>\n      <td>DC</td>\n    </tr>\n    <tr>\n      <th>3</th>\n      <td>(39228, 52304]</td>\n      <td>648</td>\n      <td>3.826621</td>\n      <td>45766.0</td>\n      <td>DC</td>\n    </tr>\n    <tr>\n      <th>4</th>\n      <td>(52304, 65380]</td>\n      <td>0</td>\n      <td>0.000000</td>\n      <td>58842.0</td>\n      <td>DC</td>\n    </tr>\n    <tr>\n      <th>5</th>\n      <td>(65380, 78456]</td>\n      <td>1414</td>\n      <td>8.350065</td>\n      <td>71918.0</td>\n      <td>DC</td>\n    </tr>\n    <tr>\n      <th>6</th>\n      <td>(78456, 91532]</td>\n      <td>0</td>\n      <td>0.000000</td>\n      <td>84994.0</td>\n      <td>DC</td>\n    </tr>\n    <tr>\n      <th>7</th>\n      <td>(91532, 104608]</td>\n      <td>0</td>\n      <td>0.000000</td>\n      <td>98070.0</td>\n      <td>DC</td>\n    </tr>\n    <tr>\n      <th>8</th>\n      <td>(104608, 117684]</td>\n      <td>0</td>\n      <td>0.000000</td>\n      <td>111146.0</td>\n      <td>DC</td>\n    </tr>\n    <tr>\n      <th>9</th>\n      <td>(117684, 130760]</td>\n      <td>0</td>\n      <td>0.000000</td>\n      <td>124222.0</td>\n      <td>DC</td>\n    </tr>\n    <tr>\n      <th>10</th>\n      <td>(130760, 143836]</td>\n      <td>832</td>\n      <td>4.913192</td>\n      <td>137298.0</td>\n      <td>DC</td>\n    </tr>\n  </tbody>\n</table>\n</div>"
     },
     "execution_count": 8,
     "metadata": {},
     "output_type": "execute_result"
    }
   ],
   "source": [
    "def get_bins_per_area(area_df: pd.DataFrame):\n",
    "    # area_df = pd.DataFrame(df[df['area_name'] == 'DC'])\n",
    "\n",
    "    # # compute zone count\n",
    "    # count = len(area_df)\n",
    "\n",
    "    # compute maximum\n",
    "    area_df.sort_values(['demand_per_km2'], inplace=True)\n",
    "    # max_index = int(count * 0.99)\n",
    "    # max = area_df.iloc[max_index]['demand_per_km2']\n",
    "    max = area_df.iloc[-1]['demand_per_km2']\n",
    "\n",
    "    # # decrease to max\n",
    "    # area_df['demand_per_km2_gouped_outliers'] = [min(max, demand) for demand in area_df['demand_per_km2']]\n",
    "\n",
    "    # compute size\n",
    "    size = int(max / 10)\n",
    "\n",
    "    # compute bins\n",
    "    bins = [i for i in range(0, int(max) + size + 1, size)]\n",
    "\n",
    "    # compute cut\n",
    "    cut = pd.cut(\n",
    "        area_df['demand_per_km2'].astype(int),\n",
    "        bins=bins,\n",
    "        # right=False\n",
    "    )\n",
    "\n",
    "    # compute binned\n",
    "    area_df['bin'] = cut\n",
    "    area_df_binned = area_df.groupby(['bin'])['demand_count'].sum().reset_index(name='count')\n",
    "    # area_df\n",
    "    # max\n",
    "    # bins\n",
    "    # int(max % size)\n",
    "\n",
    "    # compute area sums\n",
    "    area_sum = area_df_binned['count'].sum()\n",
    "\n",
    "    # compute percent\n",
    "    area_df_binned['percent'] = area_df_binned['count'] / area_sum * 100\n",
    "\n",
    "    # compute x\n",
    "    area_df_binned['x'] = area_df_binned['bin'].apply(lambda x: x.right - ((x.right - x.left) / 2))\n",
    "\n",
    "    # area_df_binned\n",
    "    return area_df_binned\n",
    "\n",
    "\n",
    "df_binned = pd.DataFrame()\n",
    "for area_name in df['area_name'].unique():\n",
    "    area_df = pd.DataFrame(df[df['area_name'] == area_name])\n",
    "    area_df_binned = get_bins_per_area(area_df)\n",
    "    area_df_binned['area_name'] = area_name\n",
    "    df_binned = pd.concat([df_binned, area_df_binned])\n",
    "df_binned"
   ],
   "metadata": {
    "collapsed": false,
    "ExecuteTime": {
     "end_time": "2023-05-26T14:35:07.748166400Z",
     "start_time": "2023-05-26T14:35:07.710197200Z"
    }
   }
  },
  {
   "cell_type": "code",
   "execution_count": 24,
   "outputs": [
    {
     "name": "stdout",
     "output_type": "stream",
     "text": [
      "NYC: col: 0, ticks: [5000, 21000], max: 25662.0, min: 1222.0, margin: 3849.2999999999997\n",
      "Manhattan: col: 1, ticks: [5000, 21000], max: 25662.0, min: 1222.0, margin: 3849.2999999999997\n",
      "Chicago: col: 2, ticks: [329.92499999999995, 1419.075], max: 1669.5, min: 79.5, margin: 250.42499999999998\n",
      "DC: col: 3, ticks: [27000, 116000], max: 137298.0, min: 6538.0, margin: 20594.7\n"
     ]
    },
    {
     "data": {
      "application/vnd.plotly.v1+json": {
       "data": [
        {
         "alignmentgroup": "True",
         "hovertemplate": "area_name=NYC<br>x=%{x}<br>percent=%{y}<extra></extra>",
         "legendgroup": "",
         "marker": {
          "color": "#636efa",
          "pattern": {
           "shape": ""
          }
         },
         "name": "",
         "offsetgroup": "",
         "orientation": "v",
         "showlegend": false,
         "textposition": "auto",
         "x": [
          1222.0,
          3666.0,
          6110.0,
          8554.0,
          10998.0,
          13442.0,
          15886.0,
          18330.0,
          20774.0,
          23218.0,
          25662.0
         ],
         "xaxis": "x",
         "y": [
          49.9129311743121,
          7.4450731898406435,
          7.080271642494483,
          11.280845164390227,
          9.128148785168001,
          4.864989762909598,
          2.09577264784103,
          0.0,
          3.2920891315458465,
          4.8998785014980735,
          0.0
         ],
         "yaxis": "y",
         "type": "bar"
        },
        {
         "alignmentgroup": "True",
         "hovertemplate": "area_name=Manhattan<br>x=%{x}<br>percent=%{y}<extra></extra>",
         "legendgroup": "",
         "marker": {
          "color": "#636efa",
          "pattern": {
           "shape": ""
          }
         },
         "name": "",
         "offsetgroup": "",
         "orientation": "v",
         "showlegend": false,
         "textposition": "auto",
         "x": [
          1222.0,
          3666.0,
          6110.0,
          8554.0,
          10998.0,
          13442.0,
          15886.0,
          18330.0,
          20774.0,
          23218.0,
          25662.0
         ],
         "xaxis": "x2",
         "y": [
          9.36604909176607,
          6.437100419370823,
          13.98003456485745,
          22.27408965108831,
          18.02357903387598,
          9.60594853945349,
          4.138114402426791,
          0.0,
          6.500247755097107,
          9.674836542063982,
          0.0
         ],
         "yaxis": "y2",
         "type": "bar"
        },
        {
         "alignmentgroup": "True",
         "hovertemplate": "area_name=Chicago<br>x=%{x}<br>percent=%{y}<extra></extra>",
         "legendgroup": "",
         "marker": {
          "color": "#636efa",
          "pattern": {
           "shape": ""
          }
         },
         "name": "",
         "offsetgroup": "",
         "orientation": "v",
         "showlegend": false,
         "textposition": "auto",
         "x": [
          79.5,
          238.5,
          397.5,
          556.5,
          715.5,
          874.5,
          1033.5,
          1192.5,
          1351.5,
          1510.5,
          1669.5
         ],
         "xaxis": "x3",
         "y": [
          50.91523694113145,
          19.14662924931437,
          2.2195293067159896,
          0.0,
          0.0,
          10.058039415779067,
          0.0,
          8.036226800178582,
          2.5830729000574015,
          7.04126538682314,
          0.0
         ],
         "yaxis": "y3",
         "type": "bar"
        },
        {
         "alignmentgroup": "True",
         "hovertemplate": "area_name=DC<br>x=%{x}<br>percent=%{y}<extra></extra>",
         "legendgroup": "",
         "marker": {
          "color": "#636efa",
          "pattern": {
           "shape": ""
          }
         },
         "name": "",
         "offsetgroup": "",
         "orientation": "v",
         "showlegend": false,
         "textposition": "auto",
         "x": [
          6538.0,
          19614.0,
          32690.0,
          45766.0,
          58842.0,
          71918.0,
          84994.0,
          98070.0,
          111146.0,
          124222.0,
          137298.0
         ],
         "xaxis": "x4",
         "y": [
          73.1309790953112,
          4.830518483524271,
          4.948624069918507,
          3.8266209991732607,
          0.0,
          8.350064958072517,
          0.0,
          0.0,
          0.0,
          0.0,
          4.913192394000236
         ],
         "yaxis": "y4",
         "type": "bar"
        }
       ],
       "layout": {
        "template": {
         "data": {
          "histogram2dcontour": [
           {
            "type": "histogram2dcontour",
            "colorbar": {
             "outlinewidth": 0,
             "ticks": ""
            },
            "colorscale": [
             [
              0.0,
              "#0d0887"
             ],
             [
              0.1111111111111111,
              "#46039f"
             ],
             [
              0.2222222222222222,
              "#7201a8"
             ],
             [
              0.3333333333333333,
              "#9c179e"
             ],
             [
              0.4444444444444444,
              "#bd3786"
             ],
             [
              0.5555555555555556,
              "#d8576b"
             ],
             [
              0.6666666666666666,
              "#ed7953"
             ],
             [
              0.7777777777777778,
              "#fb9f3a"
             ],
             [
              0.8888888888888888,
              "#fdca26"
             ],
             [
              1.0,
              "#f0f921"
             ]
            ]
           }
          ],
          "choropleth": [
           {
            "type": "choropleth",
            "colorbar": {
             "outlinewidth": 0,
             "ticks": ""
            }
           }
          ],
          "histogram2d": [
           {
            "type": "histogram2d",
            "colorbar": {
             "outlinewidth": 0,
             "ticks": ""
            },
            "colorscale": [
             [
              0.0,
              "#0d0887"
             ],
             [
              0.1111111111111111,
              "#46039f"
             ],
             [
              0.2222222222222222,
              "#7201a8"
             ],
             [
              0.3333333333333333,
              "#9c179e"
             ],
             [
              0.4444444444444444,
              "#bd3786"
             ],
             [
              0.5555555555555556,
              "#d8576b"
             ],
             [
              0.6666666666666666,
              "#ed7953"
             ],
             [
              0.7777777777777778,
              "#fb9f3a"
             ],
             [
              0.8888888888888888,
              "#fdca26"
             ],
             [
              1.0,
              "#f0f921"
             ]
            ]
           }
          ],
          "heatmap": [
           {
            "type": "heatmap",
            "colorbar": {
             "outlinewidth": 0,
             "ticks": ""
            },
            "colorscale": [
             [
              0.0,
              "#0d0887"
             ],
             [
              0.1111111111111111,
              "#46039f"
             ],
             [
              0.2222222222222222,
              "#7201a8"
             ],
             [
              0.3333333333333333,
              "#9c179e"
             ],
             [
              0.4444444444444444,
              "#bd3786"
             ],
             [
              0.5555555555555556,
              "#d8576b"
             ],
             [
              0.6666666666666666,
              "#ed7953"
             ],
             [
              0.7777777777777778,
              "#fb9f3a"
             ],
             [
              0.8888888888888888,
              "#fdca26"
             ],
             [
              1.0,
              "#f0f921"
             ]
            ]
           }
          ],
          "heatmapgl": [
           {
            "type": "heatmapgl",
            "colorbar": {
             "outlinewidth": 0,
             "ticks": ""
            },
            "colorscale": [
             [
              0.0,
              "#0d0887"
             ],
             [
              0.1111111111111111,
              "#46039f"
             ],
             [
              0.2222222222222222,
              "#7201a8"
             ],
             [
              0.3333333333333333,
              "#9c179e"
             ],
             [
              0.4444444444444444,
              "#bd3786"
             ],
             [
              0.5555555555555556,
              "#d8576b"
             ],
             [
              0.6666666666666666,
              "#ed7953"
             ],
             [
              0.7777777777777778,
              "#fb9f3a"
             ],
             [
              0.8888888888888888,
              "#fdca26"
             ],
             [
              1.0,
              "#f0f921"
             ]
            ]
           }
          ],
          "contourcarpet": [
           {
            "type": "contourcarpet",
            "colorbar": {
             "outlinewidth": 0,
             "ticks": ""
            }
           }
          ],
          "contour": [
           {
            "type": "contour",
            "colorbar": {
             "outlinewidth": 0,
             "ticks": ""
            },
            "colorscale": [
             [
              0.0,
              "#0d0887"
             ],
             [
              0.1111111111111111,
              "#46039f"
             ],
             [
              0.2222222222222222,
              "#7201a8"
             ],
             [
              0.3333333333333333,
              "#9c179e"
             ],
             [
              0.4444444444444444,
              "#bd3786"
             ],
             [
              0.5555555555555556,
              "#d8576b"
             ],
             [
              0.6666666666666666,
              "#ed7953"
             ],
             [
              0.7777777777777778,
              "#fb9f3a"
             ],
             [
              0.8888888888888888,
              "#fdca26"
             ],
             [
              1.0,
              "#f0f921"
             ]
            ]
           }
          ],
          "surface": [
           {
            "type": "surface",
            "colorbar": {
             "outlinewidth": 0,
             "ticks": ""
            },
            "colorscale": [
             [
              0.0,
              "#0d0887"
             ],
             [
              0.1111111111111111,
              "#46039f"
             ],
             [
              0.2222222222222222,
              "#7201a8"
             ],
             [
              0.3333333333333333,
              "#9c179e"
             ],
             [
              0.4444444444444444,
              "#bd3786"
             ],
             [
              0.5555555555555556,
              "#d8576b"
             ],
             [
              0.6666666666666666,
              "#ed7953"
             ],
             [
              0.7777777777777778,
              "#fb9f3a"
             ],
             [
              0.8888888888888888,
              "#fdca26"
             ],
             [
              1.0,
              "#f0f921"
             ]
            ]
           }
          ],
          "mesh3d": [
           {
            "type": "mesh3d",
            "colorbar": {
             "outlinewidth": 0,
             "ticks": ""
            }
           }
          ],
          "scatter": [
           {
            "fillpattern": {
             "fillmode": "overlay",
             "size": 10,
             "solidity": 0.2
            },
            "type": "scatter"
           }
          ],
          "parcoords": [
           {
            "type": "parcoords",
            "line": {
             "colorbar": {
              "outlinewidth": 0,
              "ticks": ""
             }
            }
           }
          ],
          "scatterpolargl": [
           {
            "type": "scatterpolargl",
            "marker": {
             "colorbar": {
              "outlinewidth": 0,
              "ticks": ""
             }
            }
           }
          ],
          "bar": [
           {
            "error_x": {
             "color": "#2a3f5f"
            },
            "error_y": {
             "color": "#2a3f5f"
            },
            "marker": {
             "line": {
              "color": "#E5ECF6",
              "width": 0.5
             },
             "pattern": {
              "fillmode": "overlay",
              "size": 10,
              "solidity": 0.2
             }
            },
            "type": "bar"
           }
          ],
          "scattergeo": [
           {
            "type": "scattergeo",
            "marker": {
             "colorbar": {
              "outlinewidth": 0,
              "ticks": ""
             }
            }
           }
          ],
          "scatterpolar": [
           {
            "type": "scatterpolar",
            "marker": {
             "colorbar": {
              "outlinewidth": 0,
              "ticks": ""
             }
            }
           }
          ],
          "histogram": [
           {
            "marker": {
             "pattern": {
              "fillmode": "overlay",
              "size": 10,
              "solidity": 0.2
             }
            },
            "type": "histogram"
           }
          ],
          "scattergl": [
           {
            "type": "scattergl",
            "marker": {
             "colorbar": {
              "outlinewidth": 0,
              "ticks": ""
             }
            }
           }
          ],
          "scatter3d": [
           {
            "type": "scatter3d",
            "line": {
             "colorbar": {
              "outlinewidth": 0,
              "ticks": ""
             }
            },
            "marker": {
             "colorbar": {
              "outlinewidth": 0,
              "ticks": ""
             }
            }
           }
          ],
          "scattermapbox": [
           {
            "type": "scattermapbox",
            "marker": {
             "colorbar": {
              "outlinewidth": 0,
              "ticks": ""
             }
            }
           }
          ],
          "scatterternary": [
           {
            "type": "scatterternary",
            "marker": {
             "colorbar": {
              "outlinewidth": 0,
              "ticks": ""
             }
            }
           }
          ],
          "scattercarpet": [
           {
            "type": "scattercarpet",
            "marker": {
             "colorbar": {
              "outlinewidth": 0,
              "ticks": ""
             }
            }
           }
          ],
          "carpet": [
           {
            "aaxis": {
             "endlinecolor": "#2a3f5f",
             "gridcolor": "white",
             "linecolor": "white",
             "minorgridcolor": "white",
             "startlinecolor": "#2a3f5f"
            },
            "baxis": {
             "endlinecolor": "#2a3f5f",
             "gridcolor": "white",
             "linecolor": "white",
             "minorgridcolor": "white",
             "startlinecolor": "#2a3f5f"
            },
            "type": "carpet"
           }
          ],
          "table": [
           {
            "cells": {
             "fill": {
              "color": "#EBF0F8"
             },
             "line": {
              "color": "white"
             }
            },
            "header": {
             "fill": {
              "color": "#C8D4E3"
             },
             "line": {
              "color": "white"
             }
            },
            "type": "table"
           }
          ],
          "barpolar": [
           {
            "marker": {
             "line": {
              "color": "#E5ECF6",
              "width": 0.5
             },
             "pattern": {
              "fillmode": "overlay",
              "size": 10,
              "solidity": 0.2
             }
            },
            "type": "barpolar"
           }
          ],
          "pie": [
           {
            "automargin": true,
            "type": "pie"
           }
          ]
         },
         "layout": {
          "autotypenumbers": "strict",
          "colorway": [
           "#636efa",
           "#EF553B",
           "#00cc96",
           "#ab63fa",
           "#FFA15A",
           "#19d3f3",
           "#FF6692",
           "#B6E880",
           "#FF97FF",
           "#FECB52"
          ],
          "font": {
           "color": "#2a3f5f"
          },
          "hovermode": "closest",
          "hoverlabel": {
           "align": "left"
          },
          "paper_bgcolor": "white",
          "plot_bgcolor": "#E5ECF6",
          "polar": {
           "bgcolor": "#E5ECF6",
           "angularaxis": {
            "gridcolor": "white",
            "linecolor": "white",
            "ticks": ""
           },
           "radialaxis": {
            "gridcolor": "white",
            "linecolor": "white",
            "ticks": ""
           }
          },
          "ternary": {
           "bgcolor": "#E5ECF6",
           "aaxis": {
            "gridcolor": "white",
            "linecolor": "white",
            "ticks": ""
           },
           "baxis": {
            "gridcolor": "white",
            "linecolor": "white",
            "ticks": ""
           },
           "caxis": {
            "gridcolor": "white",
            "linecolor": "white",
            "ticks": ""
           }
          },
          "coloraxis": {
           "colorbar": {
            "outlinewidth": 0,
            "ticks": ""
           }
          },
          "colorscale": {
           "sequential": [
            [
             0.0,
             "#0d0887"
            ],
            [
             0.1111111111111111,
             "#46039f"
            ],
            [
             0.2222222222222222,
             "#7201a8"
            ],
            [
             0.3333333333333333,
             "#9c179e"
            ],
            [
             0.4444444444444444,
             "#bd3786"
            ],
            [
             0.5555555555555556,
             "#d8576b"
            ],
            [
             0.6666666666666666,
             "#ed7953"
            ],
            [
             0.7777777777777778,
             "#fb9f3a"
            ],
            [
             0.8888888888888888,
             "#fdca26"
            ],
            [
             1.0,
             "#f0f921"
            ]
           ],
           "sequentialminus": [
            [
             0.0,
             "#0d0887"
            ],
            [
             0.1111111111111111,
             "#46039f"
            ],
            [
             0.2222222222222222,
             "#7201a8"
            ],
            [
             0.3333333333333333,
             "#9c179e"
            ],
            [
             0.4444444444444444,
             "#bd3786"
            ],
            [
             0.5555555555555556,
             "#d8576b"
            ],
            [
             0.6666666666666666,
             "#ed7953"
            ],
            [
             0.7777777777777778,
             "#fb9f3a"
            ],
            [
             0.8888888888888888,
             "#fdca26"
            ],
            [
             1.0,
             "#f0f921"
            ]
           ],
           "diverging": [
            [
             0,
             "#8e0152"
            ],
            [
             0.1,
             "#c51b7d"
            ],
            [
             0.2,
             "#de77ae"
            ],
            [
             0.3,
             "#f1b6da"
            ],
            [
             0.4,
             "#fde0ef"
            ],
            [
             0.5,
             "#f7f7f7"
            ],
            [
             0.6,
             "#e6f5d0"
            ],
            [
             0.7,
             "#b8e186"
            ],
            [
             0.8,
             "#7fbc41"
            ],
            [
             0.9,
             "#4d9221"
            ],
            [
             1,
             "#276419"
            ]
           ]
          },
          "xaxis": {
           "gridcolor": "white",
           "linecolor": "white",
           "ticks": "",
           "title": {
            "standoff": 15
           },
           "zerolinecolor": "white",
           "automargin": true,
           "zerolinewidth": 2
          },
          "yaxis": {
           "gridcolor": "white",
           "linecolor": "white",
           "ticks": "",
           "title": {
            "standoff": 15
           },
           "zerolinecolor": "white",
           "automargin": true,
           "zerolinewidth": 2
          },
          "scene": {
           "xaxis": {
            "backgroundcolor": "#E5ECF6",
            "gridcolor": "white",
            "linecolor": "white",
            "showbackground": true,
            "ticks": "",
            "zerolinecolor": "white",
            "gridwidth": 2
           },
           "yaxis": {
            "backgroundcolor": "#E5ECF6",
            "gridcolor": "white",
            "linecolor": "white",
            "showbackground": true,
            "ticks": "",
            "zerolinecolor": "white",
            "gridwidth": 2
           },
           "zaxis": {
            "backgroundcolor": "#E5ECF6",
            "gridcolor": "white",
            "linecolor": "white",
            "showbackground": true,
            "ticks": "",
            "zerolinecolor": "white",
            "gridwidth": 2
           }
          },
          "shapedefaults": {
           "line": {
            "color": "#2a3f5f"
           }
          },
          "annotationdefaults": {
           "arrowcolor": "#2a3f5f",
           "arrowhead": 0,
           "arrowwidth": 1
          },
          "geo": {
           "bgcolor": "white",
           "landcolor": "#E5ECF6",
           "subunitcolor": "white",
           "showland": true,
           "showlakes": true,
           "lakecolor": "white"
          },
          "title": {
           "x": 0.05
          },
          "mapbox": {
           "style": "light"
          }
         }
        },
        "xaxis": {
         "anchor": "y",
         "domain": [
          0.0,
          0.235
         ],
         "title": {
          "text": ""
         },
         "tickvals": [
          5000,
          21000
         ],
         "ticktext": [
          "5k",
          "21k"
         ]
        },
        "yaxis": {
         "anchor": "x",
         "domain": [
          0.0,
          1.0
         ],
         "title": {
          "text": ""
         }
        },
        "xaxis2": {
         "anchor": "y2",
         "domain": [
          0.255,
          0.49
         ],
         "title": {
          "text": ""
         },
         "tickvals": [
          5000,
          21000
         ],
         "ticktext": [
          "5k",
          "21k"
         ]
        },
        "yaxis2": {
         "anchor": "x2",
         "domain": [
          0.0,
          1.0
         ],
         "matches": "y",
         "showticklabels": false,
         "title": {
          "text": ""
         }
        },
        "xaxis3": {
         "anchor": "y3",
         "domain": [
          0.51,
          0.745
         ],
         "title": {
          "text": ""
         },
         "tickvals": [
          329.92499999999995,
          1419.075
         ],
         "ticktext": [
          "0.3k",
          "1.4k"
         ]
        },
        "yaxis3": {
         "anchor": "x3",
         "domain": [
          0.0,
          1.0
         ],
         "matches": "y",
         "showticklabels": false,
         "title": {
          "text": ""
         }
        },
        "xaxis4": {
         "anchor": "y4",
         "domain": [
          0.7649999999999999,
          0.9999999999999999
         ],
         "title": {
          "text": ""
         },
         "tickvals": [
          27000,
          116000
         ],
         "ticktext": [
          "27k",
          "116k"
         ]
        },
        "yaxis4": {
         "anchor": "x4",
         "domain": [
          0.0,
          1.0
         ],
         "matches": "y",
         "showticklabels": false,
         "title": {
          "text": ""
         }
        },
        "annotations": [
         {
          "showarrow": false,
          "text": "NYC",
          "x": 0.1175,
          "xanchor": "center",
          "xref": "paper",
          "y": 1.0,
          "yanchor": "bottom",
          "yref": "paper"
         },
         {
          "showarrow": false,
          "text": "Manhattan",
          "x": 0.3725,
          "xanchor": "center",
          "xref": "paper",
          "y": 1.0,
          "yanchor": "bottom",
          "yref": "paper"
         },
         {
          "showarrow": false,
          "text": "Chicago",
          "x": 0.6275,
          "xanchor": "center",
          "xref": "paper",
          "y": 1.0,
          "yanchor": "bottom",
          "yref": "paper"
         },
         {
          "showarrow": false,
          "text": "DC",
          "x": 0.8824999999999998,
          "xanchor": "center",
          "xref": "paper",
          "y": 1.0,
          "yanchor": "bottom",
          "yref": "paper"
         },
         {
          "showarrow": false,
          "text": "request count per km<sup>2</sup>",
          "x": 0.5,
          "xref": "paper",
          "y": -0.3,
          "yref": "paper"
         },
         {
          "showarrow": false,
          "text": "% of demand",
          "textangle": -90,
          "x": -0.08,
          "xref": "paper",
          "y": 0.5,
          "yref": "paper"
         }
        ],
        "legend": {
         "tracegroupgap": 0
        },
        "margin": {
         "t": 15,
         "l": 0,
         "r": 0,
         "b": 0,
         "pad": 0
        },
        "barmode": "relative",
        "height": 165,
        "width": 450,
        "shapes": [
         {
          "line": {
           "color": "White",
           "width": 1
          },
          "type": "line",
          "x0": 5000,
          "x1": 5000,
          "xref": "x",
          "y0": 0,
          "y1": 100,
          "yref": "y"
         },
         {
          "line": {
           "color": "White",
           "width": 1
          },
          "type": "line",
          "x0": 21000,
          "x1": 21000,
          "xref": "x",
          "y0": 0,
          "y1": 100,
          "yref": "y"
         },
         {
          "line": {
           "color": "White",
           "width": 1
          },
          "type": "line",
          "x0": 5000,
          "x1": 5000,
          "xref": "x2",
          "y0": 0,
          "y1": 100,
          "yref": "y2"
         },
         {
          "line": {
           "color": "White",
           "width": 1
          },
          "type": "line",
          "x0": 21000,
          "x1": 21000,
          "xref": "x2",
          "y0": 0,
          "y1": 100,
          "yref": "y2"
         },
         {
          "line": {
           "color": "White",
           "width": 1
          },
          "type": "line",
          "x0": 329.92499999999995,
          "x1": 329.92499999999995,
          "xref": "x3",
          "y0": 0,
          "y1": 100,
          "yref": "y3"
         },
         {
          "line": {
           "color": "White",
           "width": 1
          },
          "type": "line",
          "x0": 1419.075,
          "x1": 1419.075,
          "xref": "x3",
          "y0": 0,
          "y1": 100,
          "yref": "y3"
         },
         {
          "line": {
           "color": "White",
           "width": 1
          },
          "type": "line",
          "x0": 27000,
          "x1": 27000,
          "xref": "x4",
          "y0": 0,
          "y1": 100,
          "yref": "y4"
         },
         {
          "line": {
           "color": "White",
           "width": 1
          },
          "type": "line",
          "x0": 116000,
          "x1": 116000,
          "xref": "x4",
          "y0": 0,
          "y1": 100,
          "yref": "y4"
         }
        ],
        "bargap": 0.1
       },
       "config": {
        "plotlyServerURL": "https://plot.ly"
       }
      },
      "text/html": "<div>                            <div id=\"75277515-2657-4742-a509-b9af39f50207\" class=\"plotly-graph-div\" style=\"height:165px; width:450px;\"></div>            <script type=\"text/javascript\">                require([\"plotly\"], function(Plotly) {                    window.PLOTLYENV=window.PLOTLYENV || {};                                    if (document.getElementById(\"75277515-2657-4742-a509-b9af39f50207\")) {                    Plotly.newPlot(                        \"75277515-2657-4742-a509-b9af39f50207\",                        [{\"alignmentgroup\":\"True\",\"hovertemplate\":\"area_name=NYC<br>x=%{x}<br>percent=%{y}<extra></extra>\",\"legendgroup\":\"\",\"marker\":{\"color\":\"#636efa\",\"pattern\":{\"shape\":\"\"}},\"name\":\"\",\"offsetgroup\":\"\",\"orientation\":\"v\",\"showlegend\":false,\"textposition\":\"auto\",\"x\":[1222.0,3666.0,6110.0,8554.0,10998.0,13442.0,15886.0,18330.0,20774.0,23218.0,25662.0],\"xaxis\":\"x\",\"y\":[49.9129311743121,7.4450731898406435,7.080271642494483,11.280845164390227,9.128148785168001,4.864989762909598,2.09577264784103,0.0,3.2920891315458465,4.8998785014980735,0.0],\"yaxis\":\"y\",\"type\":\"bar\"},{\"alignmentgroup\":\"True\",\"hovertemplate\":\"area_name=Manhattan<br>x=%{x}<br>percent=%{y}<extra></extra>\",\"legendgroup\":\"\",\"marker\":{\"color\":\"#636efa\",\"pattern\":{\"shape\":\"\"}},\"name\":\"\",\"offsetgroup\":\"\",\"orientation\":\"v\",\"showlegend\":false,\"textposition\":\"auto\",\"x\":[1222.0,3666.0,6110.0,8554.0,10998.0,13442.0,15886.0,18330.0,20774.0,23218.0,25662.0],\"xaxis\":\"x2\",\"y\":[9.36604909176607,6.437100419370823,13.98003456485745,22.27408965108831,18.02357903387598,9.60594853945349,4.138114402426791,0.0,6.500247755097107,9.674836542063982,0.0],\"yaxis\":\"y2\",\"type\":\"bar\"},{\"alignmentgroup\":\"True\",\"hovertemplate\":\"area_name=Chicago<br>x=%{x}<br>percent=%{y}<extra></extra>\",\"legendgroup\":\"\",\"marker\":{\"color\":\"#636efa\",\"pattern\":{\"shape\":\"\"}},\"name\":\"\",\"offsetgroup\":\"\",\"orientation\":\"v\",\"showlegend\":false,\"textposition\":\"auto\",\"x\":[79.5,238.5,397.5,556.5,715.5,874.5,1033.5,1192.5,1351.5,1510.5,1669.5],\"xaxis\":\"x3\",\"y\":[50.91523694113145,19.14662924931437,2.2195293067159896,0.0,0.0,10.058039415779067,0.0,8.036226800178582,2.5830729000574015,7.04126538682314,0.0],\"yaxis\":\"y3\",\"type\":\"bar\"},{\"alignmentgroup\":\"True\",\"hovertemplate\":\"area_name=DC<br>x=%{x}<br>percent=%{y}<extra></extra>\",\"legendgroup\":\"\",\"marker\":{\"color\":\"#636efa\",\"pattern\":{\"shape\":\"\"}},\"name\":\"\",\"offsetgroup\":\"\",\"orientation\":\"v\",\"showlegend\":false,\"textposition\":\"auto\",\"x\":[6538.0,19614.0,32690.0,45766.0,58842.0,71918.0,84994.0,98070.0,111146.0,124222.0,137298.0],\"xaxis\":\"x4\",\"y\":[73.1309790953112,4.830518483524271,4.948624069918507,3.8266209991732607,0.0,8.350064958072517,0.0,0.0,0.0,0.0,4.913192394000236],\"yaxis\":\"y4\",\"type\":\"bar\"}],                        {\"template\":{\"data\":{\"histogram2dcontour\":[{\"type\":\"histogram2dcontour\",\"colorbar\":{\"outlinewidth\":0,\"ticks\":\"\"},\"colorscale\":[[0.0,\"#0d0887\"],[0.1111111111111111,\"#46039f\"],[0.2222222222222222,\"#7201a8\"],[0.3333333333333333,\"#9c179e\"],[0.4444444444444444,\"#bd3786\"],[0.5555555555555556,\"#d8576b\"],[0.6666666666666666,\"#ed7953\"],[0.7777777777777778,\"#fb9f3a\"],[0.8888888888888888,\"#fdca26\"],[1.0,\"#f0f921\"]]}],\"choropleth\":[{\"type\":\"choropleth\",\"colorbar\":{\"outlinewidth\":0,\"ticks\":\"\"}}],\"histogram2d\":[{\"type\":\"histogram2d\",\"colorbar\":{\"outlinewidth\":0,\"ticks\":\"\"},\"colorscale\":[[0.0,\"#0d0887\"],[0.1111111111111111,\"#46039f\"],[0.2222222222222222,\"#7201a8\"],[0.3333333333333333,\"#9c179e\"],[0.4444444444444444,\"#bd3786\"],[0.5555555555555556,\"#d8576b\"],[0.6666666666666666,\"#ed7953\"],[0.7777777777777778,\"#fb9f3a\"],[0.8888888888888888,\"#fdca26\"],[1.0,\"#f0f921\"]]}],\"heatmap\":[{\"type\":\"heatmap\",\"colorbar\":{\"outlinewidth\":0,\"ticks\":\"\"},\"colorscale\":[[0.0,\"#0d0887\"],[0.1111111111111111,\"#46039f\"],[0.2222222222222222,\"#7201a8\"],[0.3333333333333333,\"#9c179e\"],[0.4444444444444444,\"#bd3786\"],[0.5555555555555556,\"#d8576b\"],[0.6666666666666666,\"#ed7953\"],[0.7777777777777778,\"#fb9f3a\"],[0.8888888888888888,\"#fdca26\"],[1.0,\"#f0f921\"]]}],\"heatmapgl\":[{\"type\":\"heatmapgl\",\"colorbar\":{\"outlinewidth\":0,\"ticks\":\"\"},\"colorscale\":[[0.0,\"#0d0887\"],[0.1111111111111111,\"#46039f\"],[0.2222222222222222,\"#7201a8\"],[0.3333333333333333,\"#9c179e\"],[0.4444444444444444,\"#bd3786\"],[0.5555555555555556,\"#d8576b\"],[0.6666666666666666,\"#ed7953\"],[0.7777777777777778,\"#fb9f3a\"],[0.8888888888888888,\"#fdca26\"],[1.0,\"#f0f921\"]]}],\"contourcarpet\":[{\"type\":\"contourcarpet\",\"colorbar\":{\"outlinewidth\":0,\"ticks\":\"\"}}],\"contour\":[{\"type\":\"contour\",\"colorbar\":{\"outlinewidth\":0,\"ticks\":\"\"},\"colorscale\":[[0.0,\"#0d0887\"],[0.1111111111111111,\"#46039f\"],[0.2222222222222222,\"#7201a8\"],[0.3333333333333333,\"#9c179e\"],[0.4444444444444444,\"#bd3786\"],[0.5555555555555556,\"#d8576b\"],[0.6666666666666666,\"#ed7953\"],[0.7777777777777778,\"#fb9f3a\"],[0.8888888888888888,\"#fdca26\"],[1.0,\"#f0f921\"]]}],\"surface\":[{\"type\":\"surface\",\"colorbar\":{\"outlinewidth\":0,\"ticks\":\"\"},\"colorscale\":[[0.0,\"#0d0887\"],[0.1111111111111111,\"#46039f\"],[0.2222222222222222,\"#7201a8\"],[0.3333333333333333,\"#9c179e\"],[0.4444444444444444,\"#bd3786\"],[0.5555555555555556,\"#d8576b\"],[0.6666666666666666,\"#ed7953\"],[0.7777777777777778,\"#fb9f3a\"],[0.8888888888888888,\"#fdca26\"],[1.0,\"#f0f921\"]]}],\"mesh3d\":[{\"type\":\"mesh3d\",\"colorbar\":{\"outlinewidth\":0,\"ticks\":\"\"}}],\"scatter\":[{\"fillpattern\":{\"fillmode\":\"overlay\",\"size\":10,\"solidity\":0.2},\"type\":\"scatter\"}],\"parcoords\":[{\"type\":\"parcoords\",\"line\":{\"colorbar\":{\"outlinewidth\":0,\"ticks\":\"\"}}}],\"scatterpolargl\":[{\"type\":\"scatterpolargl\",\"marker\":{\"colorbar\":{\"outlinewidth\":0,\"ticks\":\"\"}}}],\"bar\":[{\"error_x\":{\"color\":\"#2a3f5f\"},\"error_y\":{\"color\":\"#2a3f5f\"},\"marker\":{\"line\":{\"color\":\"#E5ECF6\",\"width\":0.5},\"pattern\":{\"fillmode\":\"overlay\",\"size\":10,\"solidity\":0.2}},\"type\":\"bar\"}],\"scattergeo\":[{\"type\":\"scattergeo\",\"marker\":{\"colorbar\":{\"outlinewidth\":0,\"ticks\":\"\"}}}],\"scatterpolar\":[{\"type\":\"scatterpolar\",\"marker\":{\"colorbar\":{\"outlinewidth\":0,\"ticks\":\"\"}}}],\"histogram\":[{\"marker\":{\"pattern\":{\"fillmode\":\"overlay\",\"size\":10,\"solidity\":0.2}},\"type\":\"histogram\"}],\"scattergl\":[{\"type\":\"scattergl\",\"marker\":{\"colorbar\":{\"outlinewidth\":0,\"ticks\":\"\"}}}],\"scatter3d\":[{\"type\":\"scatter3d\",\"line\":{\"colorbar\":{\"outlinewidth\":0,\"ticks\":\"\"}},\"marker\":{\"colorbar\":{\"outlinewidth\":0,\"ticks\":\"\"}}}],\"scattermapbox\":[{\"type\":\"scattermapbox\",\"marker\":{\"colorbar\":{\"outlinewidth\":0,\"ticks\":\"\"}}}],\"scatterternary\":[{\"type\":\"scatterternary\",\"marker\":{\"colorbar\":{\"outlinewidth\":0,\"ticks\":\"\"}}}],\"scattercarpet\":[{\"type\":\"scattercarpet\",\"marker\":{\"colorbar\":{\"outlinewidth\":0,\"ticks\":\"\"}}}],\"carpet\":[{\"aaxis\":{\"endlinecolor\":\"#2a3f5f\",\"gridcolor\":\"white\",\"linecolor\":\"white\",\"minorgridcolor\":\"white\",\"startlinecolor\":\"#2a3f5f\"},\"baxis\":{\"endlinecolor\":\"#2a3f5f\",\"gridcolor\":\"white\",\"linecolor\":\"white\",\"minorgridcolor\":\"white\",\"startlinecolor\":\"#2a3f5f\"},\"type\":\"carpet\"}],\"table\":[{\"cells\":{\"fill\":{\"color\":\"#EBF0F8\"},\"line\":{\"color\":\"white\"}},\"header\":{\"fill\":{\"color\":\"#C8D4E3\"},\"line\":{\"color\":\"white\"}},\"type\":\"table\"}],\"barpolar\":[{\"marker\":{\"line\":{\"color\":\"#E5ECF6\",\"width\":0.5},\"pattern\":{\"fillmode\":\"overlay\",\"size\":10,\"solidity\":0.2}},\"type\":\"barpolar\"}],\"pie\":[{\"automargin\":true,\"type\":\"pie\"}]},\"layout\":{\"autotypenumbers\":\"strict\",\"colorway\":[\"#636efa\",\"#EF553B\",\"#00cc96\",\"#ab63fa\",\"#FFA15A\",\"#19d3f3\",\"#FF6692\",\"#B6E880\",\"#FF97FF\",\"#FECB52\"],\"font\":{\"color\":\"#2a3f5f\"},\"hovermode\":\"closest\",\"hoverlabel\":{\"align\":\"left\"},\"paper_bgcolor\":\"white\",\"plot_bgcolor\":\"#E5ECF6\",\"polar\":{\"bgcolor\":\"#E5ECF6\",\"angularaxis\":{\"gridcolor\":\"white\",\"linecolor\":\"white\",\"ticks\":\"\"},\"radialaxis\":{\"gridcolor\":\"white\",\"linecolor\":\"white\",\"ticks\":\"\"}},\"ternary\":{\"bgcolor\":\"#E5ECF6\",\"aaxis\":{\"gridcolor\":\"white\",\"linecolor\":\"white\",\"ticks\":\"\"},\"baxis\":{\"gridcolor\":\"white\",\"linecolor\":\"white\",\"ticks\":\"\"},\"caxis\":{\"gridcolor\":\"white\",\"linecolor\":\"white\",\"ticks\":\"\"}},\"coloraxis\":{\"colorbar\":{\"outlinewidth\":0,\"ticks\":\"\"}},\"colorscale\":{\"sequential\":[[0.0,\"#0d0887\"],[0.1111111111111111,\"#46039f\"],[0.2222222222222222,\"#7201a8\"],[0.3333333333333333,\"#9c179e\"],[0.4444444444444444,\"#bd3786\"],[0.5555555555555556,\"#d8576b\"],[0.6666666666666666,\"#ed7953\"],[0.7777777777777778,\"#fb9f3a\"],[0.8888888888888888,\"#fdca26\"],[1.0,\"#f0f921\"]],\"sequentialminus\":[[0.0,\"#0d0887\"],[0.1111111111111111,\"#46039f\"],[0.2222222222222222,\"#7201a8\"],[0.3333333333333333,\"#9c179e\"],[0.4444444444444444,\"#bd3786\"],[0.5555555555555556,\"#d8576b\"],[0.6666666666666666,\"#ed7953\"],[0.7777777777777778,\"#fb9f3a\"],[0.8888888888888888,\"#fdca26\"],[1.0,\"#f0f921\"]],\"diverging\":[[0,\"#8e0152\"],[0.1,\"#c51b7d\"],[0.2,\"#de77ae\"],[0.3,\"#f1b6da\"],[0.4,\"#fde0ef\"],[0.5,\"#f7f7f7\"],[0.6,\"#e6f5d0\"],[0.7,\"#b8e186\"],[0.8,\"#7fbc41\"],[0.9,\"#4d9221\"],[1,\"#276419\"]]},\"xaxis\":{\"gridcolor\":\"white\",\"linecolor\":\"white\",\"ticks\":\"\",\"title\":{\"standoff\":15},\"zerolinecolor\":\"white\",\"automargin\":true,\"zerolinewidth\":2},\"yaxis\":{\"gridcolor\":\"white\",\"linecolor\":\"white\",\"ticks\":\"\",\"title\":{\"standoff\":15},\"zerolinecolor\":\"white\",\"automargin\":true,\"zerolinewidth\":2},\"scene\":{\"xaxis\":{\"backgroundcolor\":\"#E5ECF6\",\"gridcolor\":\"white\",\"linecolor\":\"white\",\"showbackground\":true,\"ticks\":\"\",\"zerolinecolor\":\"white\",\"gridwidth\":2},\"yaxis\":{\"backgroundcolor\":\"#E5ECF6\",\"gridcolor\":\"white\",\"linecolor\":\"white\",\"showbackground\":true,\"ticks\":\"\",\"zerolinecolor\":\"white\",\"gridwidth\":2},\"zaxis\":{\"backgroundcolor\":\"#E5ECF6\",\"gridcolor\":\"white\",\"linecolor\":\"white\",\"showbackground\":true,\"ticks\":\"\",\"zerolinecolor\":\"white\",\"gridwidth\":2}},\"shapedefaults\":{\"line\":{\"color\":\"#2a3f5f\"}},\"annotationdefaults\":{\"arrowcolor\":\"#2a3f5f\",\"arrowhead\":0,\"arrowwidth\":1},\"geo\":{\"bgcolor\":\"white\",\"landcolor\":\"#E5ECF6\",\"subunitcolor\":\"white\",\"showland\":true,\"showlakes\":true,\"lakecolor\":\"white\"},\"title\":{\"x\":0.05},\"mapbox\":{\"style\":\"light\"}}},\"xaxis\":{\"anchor\":\"y\",\"domain\":[0.0,0.235],\"title\":{\"text\":\"\"},\"tickvals\":[5000,21000],\"ticktext\":[\"5k\",\"21k\"]},\"yaxis\":{\"anchor\":\"x\",\"domain\":[0.0,1.0],\"title\":{\"text\":\"\"}},\"xaxis2\":{\"anchor\":\"y2\",\"domain\":[0.255,0.49],\"title\":{\"text\":\"\"},\"tickvals\":[5000,21000],\"ticktext\":[\"5k\",\"21k\"]},\"yaxis2\":{\"anchor\":\"x2\",\"domain\":[0.0,1.0],\"matches\":\"y\",\"showticklabels\":false,\"title\":{\"text\":\"\"}},\"xaxis3\":{\"anchor\":\"y3\",\"domain\":[0.51,0.745],\"title\":{\"text\":\"\"},\"tickvals\":[329.92499999999995,1419.075],\"ticktext\":[\"0.3k\",\"1.4k\"]},\"yaxis3\":{\"anchor\":\"x3\",\"domain\":[0.0,1.0],\"matches\":\"y\",\"showticklabels\":false,\"title\":{\"text\":\"\"}},\"xaxis4\":{\"anchor\":\"y4\",\"domain\":[0.7649999999999999,0.9999999999999999],\"title\":{\"text\":\"\"},\"tickvals\":[27000,116000],\"ticktext\":[\"27k\",\"116k\"]},\"yaxis4\":{\"anchor\":\"x4\",\"domain\":[0.0,1.0],\"matches\":\"y\",\"showticklabels\":false,\"title\":{\"text\":\"\"}},\"annotations\":[{\"showarrow\":false,\"text\":\"NYC\",\"x\":0.1175,\"xanchor\":\"center\",\"xref\":\"paper\",\"y\":1.0,\"yanchor\":\"bottom\",\"yref\":\"paper\"},{\"showarrow\":false,\"text\":\"Manhattan\",\"x\":0.3725,\"xanchor\":\"center\",\"xref\":\"paper\",\"y\":1.0,\"yanchor\":\"bottom\",\"yref\":\"paper\"},{\"showarrow\":false,\"text\":\"Chicago\",\"x\":0.6275,\"xanchor\":\"center\",\"xref\":\"paper\",\"y\":1.0,\"yanchor\":\"bottom\",\"yref\":\"paper\"},{\"showarrow\":false,\"text\":\"DC\",\"x\":0.8824999999999998,\"xanchor\":\"center\",\"xref\":\"paper\",\"y\":1.0,\"yanchor\":\"bottom\",\"yref\":\"paper\"},{\"showarrow\":false,\"text\":\"request count per km<sup>2</sup>\",\"x\":0.5,\"xref\":\"paper\",\"y\":-0.3,\"yref\":\"paper\"},{\"showarrow\":false,\"text\":\"% of demand\",\"textangle\":-90,\"x\":-0.08,\"xref\":\"paper\",\"y\":0.5,\"yref\":\"paper\"}],\"legend\":{\"tracegroupgap\":0},\"margin\":{\"t\":15,\"l\":0,\"r\":0,\"b\":0,\"pad\":0},\"barmode\":\"relative\",\"height\":165,\"width\":450,\"shapes\":[{\"line\":{\"color\":\"White\",\"width\":1},\"type\":\"line\",\"x0\":5000,\"x1\":5000,\"xref\":\"x\",\"y0\":0,\"y1\":100,\"yref\":\"y\"},{\"line\":{\"color\":\"White\",\"width\":1},\"type\":\"line\",\"x0\":21000,\"x1\":21000,\"xref\":\"x\",\"y0\":0,\"y1\":100,\"yref\":\"y\"},{\"line\":{\"color\":\"White\",\"width\":1},\"type\":\"line\",\"x0\":5000,\"x1\":5000,\"xref\":\"x2\",\"y0\":0,\"y1\":100,\"yref\":\"y2\"},{\"line\":{\"color\":\"White\",\"width\":1},\"type\":\"line\",\"x0\":21000,\"x1\":21000,\"xref\":\"x2\",\"y0\":0,\"y1\":100,\"yref\":\"y2\"},{\"line\":{\"color\":\"White\",\"width\":1},\"type\":\"line\",\"x0\":329.92499999999995,\"x1\":329.92499999999995,\"xref\":\"x3\",\"y0\":0,\"y1\":100,\"yref\":\"y3\"},{\"line\":{\"color\":\"White\",\"width\":1},\"type\":\"line\",\"x0\":1419.075,\"x1\":1419.075,\"xref\":\"x3\",\"y0\":0,\"y1\":100,\"yref\":\"y3\"},{\"line\":{\"color\":\"White\",\"width\":1},\"type\":\"line\",\"x0\":27000,\"x1\":27000,\"xref\":\"x4\",\"y0\":0,\"y1\":100,\"yref\":\"y4\"},{\"line\":{\"color\":\"White\",\"width\":1},\"type\":\"line\",\"x0\":116000,\"x1\":116000,\"xref\":\"x4\",\"y0\":0,\"y1\":100,\"yref\":\"y4\"}],\"bargap\":0.1},                        {\"responsive\": true}                    ).then(function(){\n                            \nvar gd = document.getElementById('75277515-2657-4742-a509-b9af39f50207');\nvar x = new MutationObserver(function (mutations, observer) {{\n        var display = window.getComputedStyle(gd).display;\n        if (!display || display === 'none') {{\n            console.log([gd, 'removed!']);\n            Plotly.purge(gd);\n            observer.disconnect();\n        }}\n}});\n\n// Listen for the removal of the full notebook cells\nvar notebookContainer = gd.closest('#notebook-container');\nif (notebookContainer) {{\n    x.observe(notebookContainer, {childList: true});\n}}\n\n// Listen for the clearing of the current output cell\nvar outputEl = gd.closest('.output');\nif (outputEl) {{\n    x.observe(outputEl, {childList: true});\n}}\n\n                        })                };                });            </script>        </div>"
     },
     "metadata": {},
     "output_type": "display_data"
    }
   ],
   "source": [
    "import plotly.graph_objects as go\n",
    "\n",
    "fig = px.bar(\n",
    "    df_binned,\n",
    "    x='x',\n",
    "    y='percent',\n",
    "    facet_col='area_name',\n",
    "    width=450,\n",
    "    height=165,\n",
    ")\n",
    "# fig = px.histogram(\n",
    "#     df,\n",
    "#     'demand_per_km2_gouped_outliers',\n",
    "#     facet_col='area_name',\n",
    "#     nbins=5,\n",
    "#     # log_x=True\n",
    "#         width=600,\n",
    "#         height=250,\n",
    "# )\n",
    "fig.update_xaxes(matches=None)\n",
    "\n",
    "# faceting label editing\n",
    "fig.for_each_annotation(lambda a: a.update(text=a.text.split(\"=\")[-1]))\n",
    "# fig.for_each_annotation(lambda a: a.update(text=''))\n",
    "\n",
    "# shared annotation for axes\n",
    "fig.for_each_xaxis(lambda y: y.update(title=''))\n",
    "fig.add_annotation(x=0.5, y=-0.3, text=\"request count per km<sup>2</sup>\", xref=\"paper\", yref=\"paper\", showarrow=False)\n",
    "fig.for_each_yaxis(lambda y: y.update(title=''))\n",
    "fig.add_annotation(x=-0.08, y=0.5, text=\"% of demand\", xref=\"paper\", yref=\"paper\", showarrow=False, textangle=-90)\n",
    "\n",
    "# manual x axis ticks\n",
    "for i, area in enumerate(areas):\n",
    "    vals_a = df_binned[df_binned['area_name'] == area['name']]['x'].values\n",
    "    min = vals_a.min()\n",
    "    max = vals_a.max()\n",
    "    margin = 0.15 * max\n",
    "    ticks = [\n",
    "        min + margin,\n",
    "        # min + ((max - min) / 2),\n",
    "        max - margin\n",
    "    ]\n",
    "    ticks_t = [tick / 1000 for tick in ticks]\n",
    "    rounded_ticks = [int(tick) for tick in ticks_t]\n",
    "    if rounded_ticks[0] != rounded_ticks[1] and area['name'] != 'Chicago':\n",
    "            # and rounded_ticks[1] != rounded_ticks[2]:\n",
    "        ticks = [tick * 1000 for tick in rounded_ticks]\n",
    "        texts = [f\"{tick:d}k\" for tick in rounded_ticks]\n",
    "    else:\n",
    "        texts = [f\"{tick:.1f}k\" for tick in ticks_t]\n",
    "    fig.update_xaxes(row=1, col=i + 1, tickvals=ticks, ticktext=texts)\n",
    "\n",
    "    for tick in ticks:\n",
    "        fig.add_shape(\n",
    "            go.layout.Shape(\n",
    "                type=\"line\",\n",
    "                xref=\"x\",\n",
    "                yref=\"paper\",\n",
    "                x0=tick,\n",
    "                y0=0,\n",
    "                x1=tick,\n",
    "                y1=100,\n",
    "                line=dict(\n",
    "                    color=\"White\",\n",
    "                    width=1\n",
    "                )\n",
    "            ),\n",
    "            row=1,\n",
    "            col=i + 1\n",
    "        )\n",
    "\n",
    "    print(f'{area[\"name\"]}: col: {i}, ticks: {ticks}, max: {max}, min: {min}, margin: {margin}')\n",
    "\n",
    "fig.update_layout(\n",
    "    bargap=0.1\n",
    ")\n",
    "\n",
    "# set margins\n",
    "fig.update_layout(margin=dict(l=0, r=0, t=15, b=0, pad=0))\n",
    "\n",
    "fig"
   ],
   "metadata": {
    "collapsed": false,
    "ExecuteTime": {
     "end_time": "2023-05-26T15:52:03.790332300Z",
     "start_time": "2023-05-26T15:52:03.630332600Z"
    }
   }
  },
  {
   "cell_type": "code",
   "execution_count": 27,
   "outputs": [
    {
     "name": "stdout",
     "output_type": "stream",
     "text": [
      "Saving to C:\\Workspaces\\AIC\\Ridesharing_DARP_instances\\figures\\demand_density.pdf\n"
     ]
    }
   ],
   "source": [
    "path = fig_path / \"demand_density.pdf\"\n",
    "print(f\"Saving to {path}\")\n",
    "fig.write_image(path)"
   ],
   "metadata": {
    "collapsed": false,
    "ExecuteTime": {
     "end_time": "2023-05-26T15:52:52.488777800Z",
     "start_time": "2023-05-26T15:52:52.370778200Z"
    }
   }
  },
  {
   "cell_type": "code",
   "execution_count": 37,
   "outputs": [
    {
     "data": {
      "application/vnd.plotly.v1+json": {
       "data": [
        {
         "alignmentgroup": "True",
         "bingroup": "x",
         "hovertemplate": "demand_per_km2=%{x}<br>count=%{y}<extra></extra>",
         "legendgroup": "",
         "marker": {
          "color": "#636efa",
          "pattern": {
           "shape": ""
          }
         },
         "name": "",
         "nbinsx": 20,
         "offsetgroup": "",
         "orientation": "v",
         "showlegend": false,
         "x": [
          819.663023309085,
          20819.67488001603,
          4464.65519901941,
          13810.267674499044,
          22304.102021110903,
          24440.603990100033,
          11087.759906944468,
          14185.43801066137,
          13855.513059186529,
          24361.976383515586,
          8827.552090792653,
          7995.838278354731,
          9453.867994829094,
          8095.358203747176,
          15660.99480104056,
          10980.20717557105,
          6311.066560874734,
          21535.40723203158,
          10005.242317215732,
          5651.392278931346,
          9501.940841878977,
          1396.091976780743,
          9522.686247700763,
          9709.08862972871,
          10522.597898212982,
          5211.75626416383,
          535.05483144953,
          15747.33664696636,
          10463.220884960447,
          9977.852236636267,
          8484.606538799771,
          1765.7872793961103,
          2095.0122574465227,
          6461.725065696796,
          8525.039863057851,
          3144.1790655204086,
          7276.48494884722,
          1121.0866482229399,
          10770.257103528218,
          1274.3752554756209,
          2017.9770574255804,
          9950.839493013716,
          9661.546681145102,
          6792.807505688361,
          1002.2235930966754,
          1955.903743602689,
          1342.754507584579,
          6283.087648460089,
          2953.480820956021,
          1374.2340020904358,
          10310.376991926076,
          1195.9014091546608,
          5913.328167813747,
          10437.43648266356,
          1327.142352760269,
          758.8571618066404,
          2832.6625333668135,
          492.6500200473434,
          4555.432474370774,
          820.0965656450584,
          2455.420435821121,
          2351.949437041087,
          1405.568776859012,
          655.2016728383747,
          2665.5180421621744,
          1102.665175577689,
          755.1223978860003,
          1073.7044150666468,
          467.33434694569115,
          871.7200559978384,
          787.2205812254574,
          1308.2114292574047,
          851.3463487091325,
          1540.294717677316,
          374.4012802984812,
          448.0396149300038,
          543.6563275739081,
          3266.1122469773786,
          8377.152757279611,
          1447.3423026744058,
          2309.2504650283654,
          879.8815658532395,
          1258.3870083249444,
          556.7821395084713,
          768.9937911890883,
          6791.397206294979,
          1693.1053765242145,
          2467.356564835999,
          454.9936770102196,
          737.9553018784243,
          1810.2272255702997,
          1767.7653391780216,
          451.0955735122332,
          1351.765063366359,
          1650.044035530829,
          1699.7618220820716,
          510.89776503080293,
          3095.1464618903906,
          673.3382303521821,
          1456.851538274273,
          1160.593141756374,
          628.1764619193982,
          1215.0547000866984,
          458.9826685233588,
          1143.4862626965946,
          293.811698381929,
          631.7943253785736,
          869.2293236920235,
          719.305291241984,
          1310.485951663086,
          487.50883115617023,
          7912.829071945867,
          1219.6987619419733,
          511.2561974647692,
          1225.511659202296,
          428.3446439933282,
          2575.652624558279,
          1259.643225601846,
          845.8161720507563,
          449.13185436089543,
          817.6047486529314,
          423.5358201879559,
          2308.7965381637036,
          365.4618050491335,
          450.21615072243424,
          1235.1778709922928,
          1730.6632113557798,
          1068.452850624455,
          475.3175674110497,
          897.8142435864897,
          435.76894652830106,
          194.56020254898297,
          1153.2723006154565,
          916.3473194616462,
          1221.0459026584506,
          463.23195924424545,
          237.0585206383312,
          830.3939655366032,
          383.1037108043924,
          558.2090285875194,
          997.3125493452095,
          319.1916974569506,
          1148.1464447047963,
          385.4956515909497,
          1624.7568439206373,
          1394.8269051315158,
          212.187497179997,
          409.4233606577501,
          1921.26121770877,
          717.2379484208168,
          5064.084133544099,
          586.813133295199,
          2514.0223833054283,
          471.61189714019685,
          912.6129280448745,
          661.2009031199975,
          3172.457123099732,
          446.1011422051233,
          490.3100376737245,
          816.6171095121776,
          369.9463781237887,
          797.3828087702774,
          227.8317513193115,
          1186.9205259073349,
          1137.744963534623,
          230.0004499097015,
          253.72557431630113,
          428.0793414857729,
          765.0864511072468,
          670.0904515312769,
          1118.0134890566742,
          1034.3039676934843,
          253.23623150821874,
          377.2929116925869,
          687.6929471027701,
          1842.4618960989994,
          194.89819522713427,
          510.15148322016046,
          51.994366606697334,
          955.8366276752334,
          133.4249118800345,
          248.83873743358842,
          230.23586136128475,
          188.56463826029974,
          230.79855854097124,
          243.0779215474205,
          152.99528763786745,
          151.6782675219267,
          197.2211273585217,
          685.8900099269963,
          1910.1057671980975,
          274.9619908003221,
          339.9178415028195,
          345.3715287476425,
          456.696685464126,
          574.4768810870029,
          89.74595479040848,
          157.66634642138487,
          208.3282278442479,
          118.21794311381343,
          649.1139396766654,
          723.9543554296062,
          100.13732497897992,
          319.93618011542526,
          196.98276030872088,
          271.0311370952297,
          33.035015028570754,
          543.6792498950676,
          197.81152223067102,
          284.50680739034084,
          117.03103897849422,
          84.67585846745007,
          1708.6283577938427,
          159.82224307464028,
          134.6935512861107,
          91.31283775853638,
          105.7843989308917,
          105.4165661449483,
          91.47879635928052,
          115.92905430078856,
          88.86318880169252,
          62.62562688060755,
          65.90264846903548,
          40.513388898080414,
          38.062143130099706,
          567.7732959340683,
          44.12235516274649,
          77.09543852382083,
          497.4938636174679,
          20.111107315627336,
          71.50827229409339,
          17.28600863517097,
          85.75554231672348,
          35.42119623464713,
          137.6204602944937,
          53.754326829373916,
          34.82582308895819,
          31.265338942856996,
          157.51318203076838,
          23.384633859851643,
          1344.3897996027097,
          305.41920653489586,
          455.7484127545749,
          47.16956309313977,
          7.53630347832618,
          103.64297632152301,
          78.70919492233145,
          11.097425976309756,
          25.242905245601793,
          5.483802072862345,
          3.40689150856243,
          36.98859686917091,
          9.189675806340356,
          1.4828220379872172,
          9.488056559726939,
          1.0314630829565585,
          20.07267379885957,
          0.46036453947073624
         ],
         "xaxis": "x",
         "yaxis": "y",
         "type": "histogram"
        }
       ],
       "layout": {
        "template": {
         "data": {
          "histogram2dcontour": [
           {
            "type": "histogram2dcontour",
            "colorbar": {
             "outlinewidth": 0,
             "ticks": ""
            },
            "colorscale": [
             [
              0.0,
              "#0d0887"
             ],
             [
              0.1111111111111111,
              "#46039f"
             ],
             [
              0.2222222222222222,
              "#7201a8"
             ],
             [
              0.3333333333333333,
              "#9c179e"
             ],
             [
              0.4444444444444444,
              "#bd3786"
             ],
             [
              0.5555555555555556,
              "#d8576b"
             ],
             [
              0.6666666666666666,
              "#ed7953"
             ],
             [
              0.7777777777777778,
              "#fb9f3a"
             ],
             [
              0.8888888888888888,
              "#fdca26"
             ],
             [
              1.0,
              "#f0f921"
             ]
            ]
           }
          ],
          "choropleth": [
           {
            "type": "choropleth",
            "colorbar": {
             "outlinewidth": 0,
             "ticks": ""
            }
           }
          ],
          "histogram2d": [
           {
            "type": "histogram2d",
            "colorbar": {
             "outlinewidth": 0,
             "ticks": ""
            },
            "colorscale": [
             [
              0.0,
              "#0d0887"
             ],
             [
              0.1111111111111111,
              "#46039f"
             ],
             [
              0.2222222222222222,
              "#7201a8"
             ],
             [
              0.3333333333333333,
              "#9c179e"
             ],
             [
              0.4444444444444444,
              "#bd3786"
             ],
             [
              0.5555555555555556,
              "#d8576b"
             ],
             [
              0.6666666666666666,
              "#ed7953"
             ],
             [
              0.7777777777777778,
              "#fb9f3a"
             ],
             [
              0.8888888888888888,
              "#fdca26"
             ],
             [
              1.0,
              "#f0f921"
             ]
            ]
           }
          ],
          "heatmap": [
           {
            "type": "heatmap",
            "colorbar": {
             "outlinewidth": 0,
             "ticks": ""
            },
            "colorscale": [
             [
              0.0,
              "#0d0887"
             ],
             [
              0.1111111111111111,
              "#46039f"
             ],
             [
              0.2222222222222222,
              "#7201a8"
             ],
             [
              0.3333333333333333,
              "#9c179e"
             ],
             [
              0.4444444444444444,
              "#bd3786"
             ],
             [
              0.5555555555555556,
              "#d8576b"
             ],
             [
              0.6666666666666666,
              "#ed7953"
             ],
             [
              0.7777777777777778,
              "#fb9f3a"
             ],
             [
              0.8888888888888888,
              "#fdca26"
             ],
             [
              1.0,
              "#f0f921"
             ]
            ]
           }
          ],
          "heatmapgl": [
           {
            "type": "heatmapgl",
            "colorbar": {
             "outlinewidth": 0,
             "ticks": ""
            },
            "colorscale": [
             [
              0.0,
              "#0d0887"
             ],
             [
              0.1111111111111111,
              "#46039f"
             ],
             [
              0.2222222222222222,
              "#7201a8"
             ],
             [
              0.3333333333333333,
              "#9c179e"
             ],
             [
              0.4444444444444444,
              "#bd3786"
             ],
             [
              0.5555555555555556,
              "#d8576b"
             ],
             [
              0.6666666666666666,
              "#ed7953"
             ],
             [
              0.7777777777777778,
              "#fb9f3a"
             ],
             [
              0.8888888888888888,
              "#fdca26"
             ],
             [
              1.0,
              "#f0f921"
             ]
            ]
           }
          ],
          "contourcarpet": [
           {
            "type": "contourcarpet",
            "colorbar": {
             "outlinewidth": 0,
             "ticks": ""
            }
           }
          ],
          "contour": [
           {
            "type": "contour",
            "colorbar": {
             "outlinewidth": 0,
             "ticks": ""
            },
            "colorscale": [
             [
              0.0,
              "#0d0887"
             ],
             [
              0.1111111111111111,
              "#46039f"
             ],
             [
              0.2222222222222222,
              "#7201a8"
             ],
             [
              0.3333333333333333,
              "#9c179e"
             ],
             [
              0.4444444444444444,
              "#bd3786"
             ],
             [
              0.5555555555555556,
              "#d8576b"
             ],
             [
              0.6666666666666666,
              "#ed7953"
             ],
             [
              0.7777777777777778,
              "#fb9f3a"
             ],
             [
              0.8888888888888888,
              "#fdca26"
             ],
             [
              1.0,
              "#f0f921"
             ]
            ]
           }
          ],
          "surface": [
           {
            "type": "surface",
            "colorbar": {
             "outlinewidth": 0,
             "ticks": ""
            },
            "colorscale": [
             [
              0.0,
              "#0d0887"
             ],
             [
              0.1111111111111111,
              "#46039f"
             ],
             [
              0.2222222222222222,
              "#7201a8"
             ],
             [
              0.3333333333333333,
              "#9c179e"
             ],
             [
              0.4444444444444444,
              "#bd3786"
             ],
             [
              0.5555555555555556,
              "#d8576b"
             ],
             [
              0.6666666666666666,
              "#ed7953"
             ],
             [
              0.7777777777777778,
              "#fb9f3a"
             ],
             [
              0.8888888888888888,
              "#fdca26"
             ],
             [
              1.0,
              "#f0f921"
             ]
            ]
           }
          ],
          "mesh3d": [
           {
            "type": "mesh3d",
            "colorbar": {
             "outlinewidth": 0,
             "ticks": ""
            }
           }
          ],
          "scatter": [
           {
            "fillpattern": {
             "fillmode": "overlay",
             "size": 10,
             "solidity": 0.2
            },
            "type": "scatter"
           }
          ],
          "parcoords": [
           {
            "type": "parcoords",
            "line": {
             "colorbar": {
              "outlinewidth": 0,
              "ticks": ""
             }
            }
           }
          ],
          "scatterpolargl": [
           {
            "type": "scatterpolargl",
            "marker": {
             "colorbar": {
              "outlinewidth": 0,
              "ticks": ""
             }
            }
           }
          ],
          "bar": [
           {
            "error_x": {
             "color": "#2a3f5f"
            },
            "error_y": {
             "color": "#2a3f5f"
            },
            "marker": {
             "line": {
              "color": "#E5ECF6",
              "width": 0.5
             },
             "pattern": {
              "fillmode": "overlay",
              "size": 10,
              "solidity": 0.2
             }
            },
            "type": "bar"
           }
          ],
          "scattergeo": [
           {
            "type": "scattergeo",
            "marker": {
             "colorbar": {
              "outlinewidth": 0,
              "ticks": ""
             }
            }
           }
          ],
          "scatterpolar": [
           {
            "type": "scatterpolar",
            "marker": {
             "colorbar": {
              "outlinewidth": 0,
              "ticks": ""
             }
            }
           }
          ],
          "histogram": [
           {
            "marker": {
             "pattern": {
              "fillmode": "overlay",
              "size": 10,
              "solidity": 0.2
             }
            },
            "type": "histogram"
           }
          ],
          "scattergl": [
           {
            "type": "scattergl",
            "marker": {
             "colorbar": {
              "outlinewidth": 0,
              "ticks": ""
             }
            }
           }
          ],
          "scatter3d": [
           {
            "type": "scatter3d",
            "line": {
             "colorbar": {
              "outlinewidth": 0,
              "ticks": ""
             }
            },
            "marker": {
             "colorbar": {
              "outlinewidth": 0,
              "ticks": ""
             }
            }
           }
          ],
          "scattermapbox": [
           {
            "type": "scattermapbox",
            "marker": {
             "colorbar": {
              "outlinewidth": 0,
              "ticks": ""
             }
            }
           }
          ],
          "scatterternary": [
           {
            "type": "scatterternary",
            "marker": {
             "colorbar": {
              "outlinewidth": 0,
              "ticks": ""
             }
            }
           }
          ],
          "scattercarpet": [
           {
            "type": "scattercarpet",
            "marker": {
             "colorbar": {
              "outlinewidth": 0,
              "ticks": ""
             }
            }
           }
          ],
          "carpet": [
           {
            "aaxis": {
             "endlinecolor": "#2a3f5f",
             "gridcolor": "white",
             "linecolor": "white",
             "minorgridcolor": "white",
             "startlinecolor": "#2a3f5f"
            },
            "baxis": {
             "endlinecolor": "#2a3f5f",
             "gridcolor": "white",
             "linecolor": "white",
             "minorgridcolor": "white",
             "startlinecolor": "#2a3f5f"
            },
            "type": "carpet"
           }
          ],
          "table": [
           {
            "cells": {
             "fill": {
              "color": "#EBF0F8"
             },
             "line": {
              "color": "white"
             }
            },
            "header": {
             "fill": {
              "color": "#C8D4E3"
             },
             "line": {
              "color": "white"
             }
            },
            "type": "table"
           }
          ],
          "barpolar": [
           {
            "marker": {
             "line": {
              "color": "#E5ECF6",
              "width": 0.5
             },
             "pattern": {
              "fillmode": "overlay",
              "size": 10,
              "solidity": 0.2
             }
            },
            "type": "barpolar"
           }
          ],
          "pie": [
           {
            "automargin": true,
            "type": "pie"
           }
          ]
         },
         "layout": {
          "autotypenumbers": "strict",
          "colorway": [
           "#636efa",
           "#EF553B",
           "#00cc96",
           "#ab63fa",
           "#FFA15A",
           "#19d3f3",
           "#FF6692",
           "#B6E880",
           "#FF97FF",
           "#FECB52"
          ],
          "font": {
           "color": "#2a3f5f"
          },
          "hovermode": "closest",
          "hoverlabel": {
           "align": "left"
          },
          "paper_bgcolor": "white",
          "plot_bgcolor": "#E5ECF6",
          "polar": {
           "bgcolor": "#E5ECF6",
           "angularaxis": {
            "gridcolor": "white",
            "linecolor": "white",
            "ticks": ""
           },
           "radialaxis": {
            "gridcolor": "white",
            "linecolor": "white",
            "ticks": ""
           }
          },
          "ternary": {
           "bgcolor": "#E5ECF6",
           "aaxis": {
            "gridcolor": "white",
            "linecolor": "white",
            "ticks": ""
           },
           "baxis": {
            "gridcolor": "white",
            "linecolor": "white",
            "ticks": ""
           },
           "caxis": {
            "gridcolor": "white",
            "linecolor": "white",
            "ticks": ""
           }
          },
          "coloraxis": {
           "colorbar": {
            "outlinewidth": 0,
            "ticks": ""
           }
          },
          "colorscale": {
           "sequential": [
            [
             0.0,
             "#0d0887"
            ],
            [
             0.1111111111111111,
             "#46039f"
            ],
            [
             0.2222222222222222,
             "#7201a8"
            ],
            [
             0.3333333333333333,
             "#9c179e"
            ],
            [
             0.4444444444444444,
             "#bd3786"
            ],
            [
             0.5555555555555556,
             "#d8576b"
            ],
            [
             0.6666666666666666,
             "#ed7953"
            ],
            [
             0.7777777777777778,
             "#fb9f3a"
            ],
            [
             0.8888888888888888,
             "#fdca26"
            ],
            [
             1.0,
             "#f0f921"
            ]
           ],
           "sequentialminus": [
            [
             0.0,
             "#0d0887"
            ],
            [
             0.1111111111111111,
             "#46039f"
            ],
            [
             0.2222222222222222,
             "#7201a8"
            ],
            [
             0.3333333333333333,
             "#9c179e"
            ],
            [
             0.4444444444444444,
             "#bd3786"
            ],
            [
             0.5555555555555556,
             "#d8576b"
            ],
            [
             0.6666666666666666,
             "#ed7953"
            ],
            [
             0.7777777777777778,
             "#fb9f3a"
            ],
            [
             0.8888888888888888,
             "#fdca26"
            ],
            [
             1.0,
             "#f0f921"
            ]
           ],
           "diverging": [
            [
             0,
             "#8e0152"
            ],
            [
             0.1,
             "#c51b7d"
            ],
            [
             0.2,
             "#de77ae"
            ],
            [
             0.3,
             "#f1b6da"
            ],
            [
             0.4,
             "#fde0ef"
            ],
            [
             0.5,
             "#f7f7f7"
            ],
            [
             0.6,
             "#e6f5d0"
            ],
            [
             0.7,
             "#b8e186"
            ],
            [
             0.8,
             "#7fbc41"
            ],
            [
             0.9,
             "#4d9221"
            ],
            [
             1,
             "#276419"
            ]
           ]
          },
          "xaxis": {
           "gridcolor": "white",
           "linecolor": "white",
           "ticks": "",
           "title": {
            "standoff": 15
           },
           "zerolinecolor": "white",
           "automargin": true,
           "zerolinewidth": 2
          },
          "yaxis": {
           "gridcolor": "white",
           "linecolor": "white",
           "ticks": "",
           "title": {
            "standoff": 15
           },
           "zerolinecolor": "white",
           "automargin": true,
           "zerolinewidth": 2
          },
          "scene": {
           "xaxis": {
            "backgroundcolor": "#E5ECF6",
            "gridcolor": "white",
            "linecolor": "white",
            "showbackground": true,
            "ticks": "",
            "zerolinecolor": "white",
            "gridwidth": 2
           },
           "yaxis": {
            "backgroundcolor": "#E5ECF6",
            "gridcolor": "white",
            "linecolor": "white",
            "showbackground": true,
            "ticks": "",
            "zerolinecolor": "white",
            "gridwidth": 2
           },
           "zaxis": {
            "backgroundcolor": "#E5ECF6",
            "gridcolor": "white",
            "linecolor": "white",
            "showbackground": true,
            "ticks": "",
            "zerolinecolor": "white",
            "gridwidth": 2
           }
          },
          "shapedefaults": {
           "line": {
            "color": "#2a3f5f"
           }
          },
          "annotationdefaults": {
           "arrowcolor": "#2a3f5f",
           "arrowhead": 0,
           "arrowwidth": 1
          },
          "geo": {
           "bgcolor": "white",
           "landcolor": "#E5ECF6",
           "subunitcolor": "white",
           "showland": true,
           "showlakes": true,
           "lakecolor": "white"
          },
          "title": {
           "x": 0.05
          },
          "mapbox": {
           "style": "light"
          }
         }
        },
        "xaxis": {
         "anchor": "y",
         "domain": [
          0.0,
          1.0
         ],
         "title": {
          "text": "demand_per_km2"
         }
        },
        "yaxis": {
         "anchor": "x",
         "domain": [
          0.0,
          1.0
         ],
         "title": {
          "text": "count"
         }
        },
        "legend": {
         "tracegroupgap": 0
        },
        "margin": {
         "t": 60
        },
        "barmode": "relative"
       },
       "config": {
        "plotlyServerURL": "https://plot.ly"
       }
      },
      "text/html": "<div>                            <div id=\"099d4cb6-ca09-45b7-be07-96845f563977\" class=\"plotly-graph-div\" style=\"height:525px; width:100%;\"></div>            <script type=\"text/javascript\">                require([\"plotly\"], function(Plotly) {                    window.PLOTLYENV=window.PLOTLYENV || {};                                    if (document.getElementById(\"099d4cb6-ca09-45b7-be07-96845f563977\")) {                    Plotly.newPlot(                        \"099d4cb6-ca09-45b7-be07-96845f563977\",                        [{\"alignmentgroup\":\"True\",\"bingroup\":\"x\",\"hovertemplate\":\"demand_per_km2=%{x}<br>count=%{y}<extra></extra>\",\"legendgroup\":\"\",\"marker\":{\"color\":\"#636efa\",\"pattern\":{\"shape\":\"\"}},\"name\":\"\",\"nbinsx\":20,\"offsetgroup\":\"\",\"orientation\":\"v\",\"showlegend\":false,\"x\":[819.663023309085,20819.67488001603,4464.65519901941,13810.267674499044,22304.102021110903,24440.603990100033,11087.759906944468,14185.43801066137,13855.513059186529,24361.976383515586,8827.552090792653,7995.838278354731,9453.867994829094,8095.358203747176,15660.99480104056,10980.20717557105,6311.066560874734,21535.40723203158,10005.242317215732,5651.392278931346,9501.940841878977,1396.091976780743,9522.686247700763,9709.08862972871,10522.597898212982,5211.75626416383,535.05483144953,15747.33664696636,10463.220884960447,9977.852236636267,8484.606538799771,1765.7872793961103,2095.0122574465227,6461.725065696796,8525.039863057851,3144.1790655204086,7276.48494884722,1121.0866482229399,10770.257103528218,1274.3752554756209,2017.9770574255804,9950.839493013716,9661.546681145102,6792.807505688361,1002.2235930966754,1955.903743602689,1342.754507584579,6283.087648460089,2953.480820956021,1374.2340020904358,10310.376991926076,1195.9014091546608,5913.328167813747,10437.43648266356,1327.142352760269,758.8571618066404,2832.6625333668135,492.6500200473434,4555.432474370774,820.0965656450584,2455.420435821121,2351.949437041087,1405.568776859012,655.2016728383747,2665.5180421621744,1102.665175577689,755.1223978860003,1073.7044150666468,467.33434694569115,871.7200559978384,787.2205812254574,1308.2114292574047,851.3463487091325,1540.294717677316,374.4012802984812,448.0396149300038,543.6563275739081,3266.1122469773786,8377.152757279611,1447.3423026744058,2309.2504650283654,879.8815658532395,1258.3870083249444,556.7821395084713,768.9937911890883,6791.397206294979,1693.1053765242145,2467.356564835999,454.9936770102196,737.9553018784243,1810.2272255702997,1767.7653391780216,451.0955735122332,1351.765063366359,1650.044035530829,1699.7618220820716,510.89776503080293,3095.1464618903906,673.3382303521821,1456.851538274273,1160.593141756374,628.1764619193982,1215.0547000866984,458.9826685233588,1143.4862626965946,293.811698381929,631.7943253785736,869.2293236920235,719.305291241984,1310.485951663086,487.50883115617023,7912.829071945867,1219.6987619419733,511.2561974647692,1225.511659202296,428.3446439933282,2575.652624558279,1259.643225601846,845.8161720507563,449.13185436089543,817.6047486529314,423.5358201879559,2308.7965381637036,365.4618050491335,450.21615072243424,1235.1778709922928,1730.6632113557798,1068.452850624455,475.3175674110497,897.8142435864897,435.76894652830106,194.56020254898297,1153.2723006154565,916.3473194616462,1221.0459026584506,463.23195924424545,237.0585206383312,830.3939655366032,383.1037108043924,558.2090285875194,997.3125493452095,319.1916974569506,1148.1464447047963,385.4956515909497,1624.7568439206373,1394.8269051315158,212.187497179997,409.4233606577501,1921.26121770877,717.2379484208168,5064.084133544099,586.813133295199,2514.0223833054283,471.61189714019685,912.6129280448745,661.2009031199975,3172.457123099732,446.1011422051233,490.3100376737245,816.6171095121776,369.9463781237887,797.3828087702774,227.8317513193115,1186.9205259073349,1137.744963534623,230.0004499097015,253.72557431630113,428.0793414857729,765.0864511072468,670.0904515312769,1118.0134890566742,1034.3039676934843,253.23623150821874,377.2929116925869,687.6929471027701,1842.4618960989994,194.89819522713427,510.15148322016046,51.994366606697334,955.8366276752334,133.4249118800345,248.83873743358842,230.23586136128475,188.56463826029974,230.79855854097124,243.0779215474205,152.99528763786745,151.6782675219267,197.2211273585217,685.8900099269963,1910.1057671980975,274.9619908003221,339.9178415028195,345.3715287476425,456.696685464126,574.4768810870029,89.74595479040848,157.66634642138487,208.3282278442479,118.21794311381343,649.1139396766654,723.9543554296062,100.13732497897992,319.93618011542526,196.98276030872088,271.0311370952297,33.035015028570754,543.6792498950676,197.81152223067102,284.50680739034084,117.03103897849422,84.67585846745007,1708.6283577938427,159.82224307464028,134.6935512861107,91.31283775853638,105.7843989308917,105.4165661449483,91.47879635928052,115.92905430078856,88.86318880169252,62.62562688060755,65.90264846903548,40.513388898080414,38.062143130099706,567.7732959340683,44.12235516274649,77.09543852382083,497.4938636174679,20.111107315627336,71.50827229409339,17.28600863517097,85.75554231672348,35.42119623464713,137.6204602944937,53.754326829373916,34.82582308895819,31.265338942856996,157.51318203076838,23.384633859851643,1344.3897996027097,305.41920653489586,455.7484127545749,47.16956309313977,7.53630347832618,103.64297632152301,78.70919492233145,11.097425976309756,25.242905245601793,5.483802072862345,3.40689150856243,36.98859686917091,9.189675806340356,1.4828220379872172,9.488056559726939,1.0314630829565585,20.07267379885957,0.46036453947073624],\"xaxis\":\"x\",\"yaxis\":\"y\",\"type\":\"histogram\"}],                        {\"template\":{\"data\":{\"histogram2dcontour\":[{\"type\":\"histogram2dcontour\",\"colorbar\":{\"outlinewidth\":0,\"ticks\":\"\"},\"colorscale\":[[0.0,\"#0d0887\"],[0.1111111111111111,\"#46039f\"],[0.2222222222222222,\"#7201a8\"],[0.3333333333333333,\"#9c179e\"],[0.4444444444444444,\"#bd3786\"],[0.5555555555555556,\"#d8576b\"],[0.6666666666666666,\"#ed7953\"],[0.7777777777777778,\"#fb9f3a\"],[0.8888888888888888,\"#fdca26\"],[1.0,\"#f0f921\"]]}],\"choropleth\":[{\"type\":\"choropleth\",\"colorbar\":{\"outlinewidth\":0,\"ticks\":\"\"}}],\"histogram2d\":[{\"type\":\"histogram2d\",\"colorbar\":{\"outlinewidth\":0,\"ticks\":\"\"},\"colorscale\":[[0.0,\"#0d0887\"],[0.1111111111111111,\"#46039f\"],[0.2222222222222222,\"#7201a8\"],[0.3333333333333333,\"#9c179e\"],[0.4444444444444444,\"#bd3786\"],[0.5555555555555556,\"#d8576b\"],[0.6666666666666666,\"#ed7953\"],[0.7777777777777778,\"#fb9f3a\"],[0.8888888888888888,\"#fdca26\"],[1.0,\"#f0f921\"]]}],\"heatmap\":[{\"type\":\"heatmap\",\"colorbar\":{\"outlinewidth\":0,\"ticks\":\"\"},\"colorscale\":[[0.0,\"#0d0887\"],[0.1111111111111111,\"#46039f\"],[0.2222222222222222,\"#7201a8\"],[0.3333333333333333,\"#9c179e\"],[0.4444444444444444,\"#bd3786\"],[0.5555555555555556,\"#d8576b\"],[0.6666666666666666,\"#ed7953\"],[0.7777777777777778,\"#fb9f3a\"],[0.8888888888888888,\"#fdca26\"],[1.0,\"#f0f921\"]]}],\"heatmapgl\":[{\"type\":\"heatmapgl\",\"colorbar\":{\"outlinewidth\":0,\"ticks\":\"\"},\"colorscale\":[[0.0,\"#0d0887\"],[0.1111111111111111,\"#46039f\"],[0.2222222222222222,\"#7201a8\"],[0.3333333333333333,\"#9c179e\"],[0.4444444444444444,\"#bd3786\"],[0.5555555555555556,\"#d8576b\"],[0.6666666666666666,\"#ed7953\"],[0.7777777777777778,\"#fb9f3a\"],[0.8888888888888888,\"#fdca26\"],[1.0,\"#f0f921\"]]}],\"contourcarpet\":[{\"type\":\"contourcarpet\",\"colorbar\":{\"outlinewidth\":0,\"ticks\":\"\"}}],\"contour\":[{\"type\":\"contour\",\"colorbar\":{\"outlinewidth\":0,\"ticks\":\"\"},\"colorscale\":[[0.0,\"#0d0887\"],[0.1111111111111111,\"#46039f\"],[0.2222222222222222,\"#7201a8\"],[0.3333333333333333,\"#9c179e\"],[0.4444444444444444,\"#bd3786\"],[0.5555555555555556,\"#d8576b\"],[0.6666666666666666,\"#ed7953\"],[0.7777777777777778,\"#fb9f3a\"],[0.8888888888888888,\"#fdca26\"],[1.0,\"#f0f921\"]]}],\"surface\":[{\"type\":\"surface\",\"colorbar\":{\"outlinewidth\":0,\"ticks\":\"\"},\"colorscale\":[[0.0,\"#0d0887\"],[0.1111111111111111,\"#46039f\"],[0.2222222222222222,\"#7201a8\"],[0.3333333333333333,\"#9c179e\"],[0.4444444444444444,\"#bd3786\"],[0.5555555555555556,\"#d8576b\"],[0.6666666666666666,\"#ed7953\"],[0.7777777777777778,\"#fb9f3a\"],[0.8888888888888888,\"#fdca26\"],[1.0,\"#f0f921\"]]}],\"mesh3d\":[{\"type\":\"mesh3d\",\"colorbar\":{\"outlinewidth\":0,\"ticks\":\"\"}}],\"scatter\":[{\"fillpattern\":{\"fillmode\":\"overlay\",\"size\":10,\"solidity\":0.2},\"type\":\"scatter\"}],\"parcoords\":[{\"type\":\"parcoords\",\"line\":{\"colorbar\":{\"outlinewidth\":0,\"ticks\":\"\"}}}],\"scatterpolargl\":[{\"type\":\"scatterpolargl\",\"marker\":{\"colorbar\":{\"outlinewidth\":0,\"ticks\":\"\"}}}],\"bar\":[{\"error_x\":{\"color\":\"#2a3f5f\"},\"error_y\":{\"color\":\"#2a3f5f\"},\"marker\":{\"line\":{\"color\":\"#E5ECF6\",\"width\":0.5},\"pattern\":{\"fillmode\":\"overlay\",\"size\":10,\"solidity\":0.2}},\"type\":\"bar\"}],\"scattergeo\":[{\"type\":\"scattergeo\",\"marker\":{\"colorbar\":{\"outlinewidth\":0,\"ticks\":\"\"}}}],\"scatterpolar\":[{\"type\":\"scatterpolar\",\"marker\":{\"colorbar\":{\"outlinewidth\":0,\"ticks\":\"\"}}}],\"histogram\":[{\"marker\":{\"pattern\":{\"fillmode\":\"overlay\",\"size\":10,\"solidity\":0.2}},\"type\":\"histogram\"}],\"scattergl\":[{\"type\":\"scattergl\",\"marker\":{\"colorbar\":{\"outlinewidth\":0,\"ticks\":\"\"}}}],\"scatter3d\":[{\"type\":\"scatter3d\",\"line\":{\"colorbar\":{\"outlinewidth\":0,\"ticks\":\"\"}},\"marker\":{\"colorbar\":{\"outlinewidth\":0,\"ticks\":\"\"}}}],\"scattermapbox\":[{\"type\":\"scattermapbox\",\"marker\":{\"colorbar\":{\"outlinewidth\":0,\"ticks\":\"\"}}}],\"scatterternary\":[{\"type\":\"scatterternary\",\"marker\":{\"colorbar\":{\"outlinewidth\":0,\"ticks\":\"\"}}}],\"scattercarpet\":[{\"type\":\"scattercarpet\",\"marker\":{\"colorbar\":{\"outlinewidth\":0,\"ticks\":\"\"}}}],\"carpet\":[{\"aaxis\":{\"endlinecolor\":\"#2a3f5f\",\"gridcolor\":\"white\",\"linecolor\":\"white\",\"minorgridcolor\":\"white\",\"startlinecolor\":\"#2a3f5f\"},\"baxis\":{\"endlinecolor\":\"#2a3f5f\",\"gridcolor\":\"white\",\"linecolor\":\"white\",\"minorgridcolor\":\"white\",\"startlinecolor\":\"#2a3f5f\"},\"type\":\"carpet\"}],\"table\":[{\"cells\":{\"fill\":{\"color\":\"#EBF0F8\"},\"line\":{\"color\":\"white\"}},\"header\":{\"fill\":{\"color\":\"#C8D4E3\"},\"line\":{\"color\":\"white\"}},\"type\":\"table\"}],\"barpolar\":[{\"marker\":{\"line\":{\"color\":\"#E5ECF6\",\"width\":0.5},\"pattern\":{\"fillmode\":\"overlay\",\"size\":10,\"solidity\":0.2}},\"type\":\"barpolar\"}],\"pie\":[{\"automargin\":true,\"type\":\"pie\"}]},\"layout\":{\"autotypenumbers\":\"strict\",\"colorway\":[\"#636efa\",\"#EF553B\",\"#00cc96\",\"#ab63fa\",\"#FFA15A\",\"#19d3f3\",\"#FF6692\",\"#B6E880\",\"#FF97FF\",\"#FECB52\"],\"font\":{\"color\":\"#2a3f5f\"},\"hovermode\":\"closest\",\"hoverlabel\":{\"align\":\"left\"},\"paper_bgcolor\":\"white\",\"plot_bgcolor\":\"#E5ECF6\",\"polar\":{\"bgcolor\":\"#E5ECF6\",\"angularaxis\":{\"gridcolor\":\"white\",\"linecolor\":\"white\",\"ticks\":\"\"},\"radialaxis\":{\"gridcolor\":\"white\",\"linecolor\":\"white\",\"ticks\":\"\"}},\"ternary\":{\"bgcolor\":\"#E5ECF6\",\"aaxis\":{\"gridcolor\":\"white\",\"linecolor\":\"white\",\"ticks\":\"\"},\"baxis\":{\"gridcolor\":\"white\",\"linecolor\":\"white\",\"ticks\":\"\"},\"caxis\":{\"gridcolor\":\"white\",\"linecolor\":\"white\",\"ticks\":\"\"}},\"coloraxis\":{\"colorbar\":{\"outlinewidth\":0,\"ticks\":\"\"}},\"colorscale\":{\"sequential\":[[0.0,\"#0d0887\"],[0.1111111111111111,\"#46039f\"],[0.2222222222222222,\"#7201a8\"],[0.3333333333333333,\"#9c179e\"],[0.4444444444444444,\"#bd3786\"],[0.5555555555555556,\"#d8576b\"],[0.6666666666666666,\"#ed7953\"],[0.7777777777777778,\"#fb9f3a\"],[0.8888888888888888,\"#fdca26\"],[1.0,\"#f0f921\"]],\"sequentialminus\":[[0.0,\"#0d0887\"],[0.1111111111111111,\"#46039f\"],[0.2222222222222222,\"#7201a8\"],[0.3333333333333333,\"#9c179e\"],[0.4444444444444444,\"#bd3786\"],[0.5555555555555556,\"#d8576b\"],[0.6666666666666666,\"#ed7953\"],[0.7777777777777778,\"#fb9f3a\"],[0.8888888888888888,\"#fdca26\"],[1.0,\"#f0f921\"]],\"diverging\":[[0,\"#8e0152\"],[0.1,\"#c51b7d\"],[0.2,\"#de77ae\"],[0.3,\"#f1b6da\"],[0.4,\"#fde0ef\"],[0.5,\"#f7f7f7\"],[0.6,\"#e6f5d0\"],[0.7,\"#b8e186\"],[0.8,\"#7fbc41\"],[0.9,\"#4d9221\"],[1,\"#276419\"]]},\"xaxis\":{\"gridcolor\":\"white\",\"linecolor\":\"white\",\"ticks\":\"\",\"title\":{\"standoff\":15},\"zerolinecolor\":\"white\",\"automargin\":true,\"zerolinewidth\":2},\"yaxis\":{\"gridcolor\":\"white\",\"linecolor\":\"white\",\"ticks\":\"\",\"title\":{\"standoff\":15},\"zerolinecolor\":\"white\",\"automargin\":true,\"zerolinewidth\":2},\"scene\":{\"xaxis\":{\"backgroundcolor\":\"#E5ECF6\",\"gridcolor\":\"white\",\"linecolor\":\"white\",\"showbackground\":true,\"ticks\":\"\",\"zerolinecolor\":\"white\",\"gridwidth\":2},\"yaxis\":{\"backgroundcolor\":\"#E5ECF6\",\"gridcolor\":\"white\",\"linecolor\":\"white\",\"showbackground\":true,\"ticks\":\"\",\"zerolinecolor\":\"white\",\"gridwidth\":2},\"zaxis\":{\"backgroundcolor\":\"#E5ECF6\",\"gridcolor\":\"white\",\"linecolor\":\"white\",\"showbackground\":true,\"ticks\":\"\",\"zerolinecolor\":\"white\",\"gridwidth\":2}},\"shapedefaults\":{\"line\":{\"color\":\"#2a3f5f\"}},\"annotationdefaults\":{\"arrowcolor\":\"#2a3f5f\",\"arrowhead\":0,\"arrowwidth\":1},\"geo\":{\"bgcolor\":\"white\",\"landcolor\":\"#E5ECF6\",\"subunitcolor\":\"white\",\"showland\":true,\"showlakes\":true,\"lakecolor\":\"white\"},\"title\":{\"x\":0.05},\"mapbox\":{\"style\":\"light\"}}},\"xaxis\":{\"anchor\":\"y\",\"domain\":[0.0,1.0],\"title\":{\"text\":\"demand_per_km2\"}},\"yaxis\":{\"anchor\":\"x\",\"domain\":[0.0,1.0],\"title\":{\"text\":\"count\"}},\"legend\":{\"tracegroupgap\":0},\"margin\":{\"t\":60},\"barmode\":\"relative\"},                        {\"responsive\": true}                    ).then(function(){\n                            \nvar gd = document.getElementById('099d4cb6-ca09-45b7-be07-96845f563977');\nvar x = new MutationObserver(function (mutations, observer) {{\n        var display = window.getComputedStyle(gd).display;\n        if (!display || display === 'none') {{\n            console.log([gd, 'removed!']);\n            Plotly.purge(gd);\n            observer.disconnect();\n        }}\n}});\n\n// Listen for the removal of the full notebook cells\nvar notebookContainer = gd.closest('#notebook-container');\nif (notebookContainer) {{\n    x.observe(notebookContainer, {childList: true});\n}}\n\n// Listen for the clearing of the current output cell\nvar outputEl = gd.closest('.output');\nif (outputEl) {{\n    x.observe(outputEl, {childList: true});\n}}\n\n                        })                };                });            </script>        </div>"
     },
     "metadata": {},
     "output_type": "display_data"
    }
   ],
   "source": [
    "fig_nyc = px.histogram(\n",
    "    df[df['area_name'] == 'NYC'],\n",
    "    'demand_per_km2',\n",
    "    nbins=20\n",
    ")\n",
    "fig_nyc"
   ],
   "metadata": {
    "collapsed": false,
    "ExecuteTime": {
     "end_time": "2023-05-18T16:04:10.411066800Z",
     "start_time": "2023-05-18T16:04:10.355066200Z"
    }
   }
  },
  {
   "cell_type": "code",
   "execution_count": 39,
   "outputs": [
    {
     "data": {
      "text/plain": "          id                                        name  demand_count   \n82    800713  1900 - 1999 BLOCK OF CONNECTICUT AVENUE NW           832  \\\n1690  816675           0 - 0 BLOCK OF COLUMBUS CIRCLE NE          1414   \n101   800876     1 - 99 BLOCK OF MASSACHUSETTS AVENUE NE           316   \n1353  812637  900 - 999 BLOCK OF MASSACHUSETTS AVENUE NW           332   \n8     800098     400 - 499 BLOCK OF NEW JERSEY AVENUE NW           330   \n...      ...                                         ...           ...   \n61        64                                    CLEARING             4   \n50        51                               SOUTH DEERING            17   \n69        72                                     BEVERLY             4   \n105      110                            Great Kills Park             1   \n17        18                                   MONTCLARE             1   \n\n              area area_name  demand_per_km2  \n82    6.362633e+03        DC   130763.482471  \n1690  1.999868e+04        DC    70704.683213  \n101   6.970222e+03        DC    45335.712157  \n1353  7.712457e+03        DC    43047.240947  \n8     8.936785e+03        DC    36926.032723  \n...            ...       ...             ...  \n61    6.604980e+06   Chicago        0.605604  \n50    2.820138e+07   Chicago        0.602807  \n69    8.241752e+06   Chicago        0.485334  \n105   2.172192e+06       NYC        0.460365  \n17    2.560172e+06   Chicago        0.390599  \n\n[2178 rows x 6 columns]",
      "text/html": "<div>\n<style scoped>\n    .dataframe tbody tr th:only-of-type {\n        vertical-align: middle;\n    }\n\n    .dataframe tbody tr th {\n        vertical-align: top;\n    }\n\n    .dataframe thead th {\n        text-align: right;\n    }\n</style>\n<table border=\"1\" class=\"dataframe\">\n  <thead>\n    <tr style=\"text-align: right;\">\n      <th></th>\n      <th>id</th>\n      <th>name</th>\n      <th>demand_count</th>\n      <th>area</th>\n      <th>area_name</th>\n      <th>demand_per_km2</th>\n    </tr>\n  </thead>\n  <tbody>\n    <tr>\n      <th>82</th>\n      <td>800713</td>\n      <td>1900 - 1999 BLOCK OF CONNECTICUT AVENUE NW</td>\n      <td>832</td>\n      <td>6.362633e+03</td>\n      <td>DC</td>\n      <td>130763.482471</td>\n    </tr>\n    <tr>\n      <th>1690</th>\n      <td>816675</td>\n      <td>0 - 0 BLOCK OF COLUMBUS CIRCLE NE</td>\n      <td>1414</td>\n      <td>1.999868e+04</td>\n      <td>DC</td>\n      <td>70704.683213</td>\n    </tr>\n    <tr>\n      <th>101</th>\n      <td>800876</td>\n      <td>1 - 99 BLOCK OF MASSACHUSETTS AVENUE NE</td>\n      <td>316</td>\n      <td>6.970222e+03</td>\n      <td>DC</td>\n      <td>45335.712157</td>\n    </tr>\n    <tr>\n      <th>1353</th>\n      <td>812637</td>\n      <td>900 - 999 BLOCK OF MASSACHUSETTS AVENUE NW</td>\n      <td>332</td>\n      <td>7.712457e+03</td>\n      <td>DC</td>\n      <td>43047.240947</td>\n    </tr>\n    <tr>\n      <th>8</th>\n      <td>800098</td>\n      <td>400 - 499 BLOCK OF NEW JERSEY AVENUE NW</td>\n      <td>330</td>\n      <td>8.936785e+03</td>\n      <td>DC</td>\n      <td>36926.032723</td>\n    </tr>\n    <tr>\n      <th>...</th>\n      <td>...</td>\n      <td>...</td>\n      <td>...</td>\n      <td>...</td>\n      <td>...</td>\n      <td>...</td>\n    </tr>\n    <tr>\n      <th>61</th>\n      <td>64</td>\n      <td>CLEARING</td>\n      <td>4</td>\n      <td>6.604980e+06</td>\n      <td>Chicago</td>\n      <td>0.605604</td>\n    </tr>\n    <tr>\n      <th>50</th>\n      <td>51</td>\n      <td>SOUTH DEERING</td>\n      <td>17</td>\n      <td>2.820138e+07</td>\n      <td>Chicago</td>\n      <td>0.602807</td>\n    </tr>\n    <tr>\n      <th>69</th>\n      <td>72</td>\n      <td>BEVERLY</td>\n      <td>4</td>\n      <td>8.241752e+06</td>\n      <td>Chicago</td>\n      <td>0.485334</td>\n    </tr>\n    <tr>\n      <th>105</th>\n      <td>110</td>\n      <td>Great Kills Park</td>\n      <td>1</td>\n      <td>2.172192e+06</td>\n      <td>NYC</td>\n      <td>0.460365</td>\n    </tr>\n    <tr>\n      <th>17</th>\n      <td>18</td>\n      <td>MONTCLARE</td>\n      <td>1</td>\n      <td>2.560172e+06</td>\n      <td>Chicago</td>\n      <td>0.390599</td>\n    </tr>\n  </tbody>\n</table>\n<p>2178 rows × 6 columns</p>\n</div>"
     },
     "execution_count": 39,
     "metadata": {},
     "output_type": "execute_result"
    }
   ],
   "source": [
    "df.sort_values('demand_per_km2', inplace=True, ascending=False)\n",
    "df"
   ],
   "metadata": {
    "collapsed": false,
    "ExecuteTime": {
     "end_time": "2023-05-18T16:05:12.884516600Z",
     "start_time": "2023-05-18T16:05:12.845980100Z"
    }
   }
  },
  {
   "cell_type": "markdown",
   "source": [
    "# Trip length histogram"
   ],
   "metadata": {
    "collapsed": false
   }
  },
  {
   "cell_type": "code",
   "execution_count": 28,
   "outputs": [],
   "source": [
    "def get_trip_length_for_area(dataset_ids: List[int], zone_types: List[int], srid: int, area_id: int):\n",
    "    print('Computing zone distances')\n",
    "    sql = f\"\"\"\n",
    "        CREATE TEMPORARY TABLE zones_distances AS (\n",
    "            WITH zone_centorids AS (\n",
    "                SELECT zones.id, st_centroid(st_transform(zones.geom, {srid})) as centroid\n",
    "                FROM zones\n",
    "                    JOIN areas ON areas.id = {area_id}\n",
    "                        AND st_within(zones.geom, areas.geom)\n",
    "                        AND type IN ({','.join((str(id) for id in zone_types))})\n",
    "            )\n",
    "            SELECT\n",
    "                or_zones.id as or_id,\n",
    "                de_zones.id as de_id,\n",
    "                st_distance(or_zones.centroid, de_zones.centroid) AS distance\n",
    "            FROM zone_centorids or_zones\n",
    "                 JOIN zone_centorids de_zones ON TRUE\n",
    "    );\n",
    "    \"\"\"\n",
    "    db.execute_sql(sql)\n",
    "\n",
    "    sql = f\"\"\"\n",
    "        CREATE INDEX zones_distances_idx ON zones_distances (or_id, de_id);\n",
    "    \"\"\"\n",
    "    db.execute_sql(sql)\n",
    "\n",
    "    print('Computing trip lengths')\n",
    "    sql = f\"\"\"\n",
    "        SELECT distance\n",
    "        FROM demand\n",
    "        JOIN zones_distances ON\n",
    "            demand.dataset IN ({','.join((str(id) for id in dataset_ids))})\n",
    "            AND demand.origin_time BETWEEN '2022-04-05 00:00:00' AND '2022-04-05 23:59:59'\n",
    "            AND zones_distances.or_id = demand.origin\n",
    "            AND zones_distances.de_id = demand.destination\n",
    "        \"\"\"\n",
    "    data = db.execute_query_to_pandas(sql)\n",
    "\n",
    "    sql = \"\"\"\n",
    "        DROP TABLE zones_distances;\n",
    "    \"\"\"\n",
    "    db.execute_sql(sql)\n",
    "\n",
    "    return data"
   ],
   "metadata": {
    "collapsed": false,
    "ExecuteTime": {
     "end_time": "2023-05-26T15:59:34.902383900Z",
     "start_time": "2023-05-26T15:59:34.891388600Z"
    }
   }
  },
  {
   "cell_type": "code",
   "execution_count": 29,
   "outputs": [
    {
     "name": "stdout",
     "output_type": "stream",
     "text": [
      "Importing data for NYC\n",
      "Computing zone distances\n",
      "Computing trip lengths\n",
      "Importing data for Manhattan\n",
      "Computing zone distances\n",
      "Computing trip lengths\n",
      "Importing data for Chicago\n",
      "Computing zone distances\n",
      "Computing trip lengths\n",
      "Importing data for DC\n",
      "Computing zone distances\n",
      "Computing trip lengths\n"
     ]
    },
    {
     "data": {
      "text/plain": "         distance area_name\n0        0.000000       NYC\n1        0.000000       NYC\n2        0.000000       NYC\n3        0.000000       NYC\n4        0.000000       NYC\n...           ...       ...\n8431  1384.387971        DC\n8432  4719.339690        DC\n8433  3089.582564        DC\n8434  1114.282270        DC\n8435  3305.002630        DC\n\n[920644 rows x 2 columns]",
      "text/html": "<div>\n<style scoped>\n    .dataframe tbody tr th:only-of-type {\n        vertical-align: middle;\n    }\n\n    .dataframe tbody tr th {\n        vertical-align: top;\n    }\n\n    .dataframe thead th {\n        text-align: right;\n    }\n</style>\n<table border=\"1\" class=\"dataframe\">\n  <thead>\n    <tr style=\"text-align: right;\">\n      <th></th>\n      <th>distance</th>\n      <th>area_name</th>\n    </tr>\n  </thead>\n  <tbody>\n    <tr>\n      <th>0</th>\n      <td>0.000000</td>\n      <td>NYC</td>\n    </tr>\n    <tr>\n      <th>1</th>\n      <td>0.000000</td>\n      <td>NYC</td>\n    </tr>\n    <tr>\n      <th>2</th>\n      <td>0.000000</td>\n      <td>NYC</td>\n    </tr>\n    <tr>\n      <th>3</th>\n      <td>0.000000</td>\n      <td>NYC</td>\n    </tr>\n    <tr>\n      <th>4</th>\n      <td>0.000000</td>\n      <td>NYC</td>\n    </tr>\n    <tr>\n      <th>...</th>\n      <td>...</td>\n      <td>...</td>\n    </tr>\n    <tr>\n      <th>8431</th>\n      <td>1384.387971</td>\n      <td>DC</td>\n    </tr>\n    <tr>\n      <th>8432</th>\n      <td>4719.339690</td>\n      <td>DC</td>\n    </tr>\n    <tr>\n      <th>8433</th>\n      <td>3089.582564</td>\n      <td>DC</td>\n    </tr>\n    <tr>\n      <th>8434</th>\n      <td>1114.282270</td>\n      <td>DC</td>\n    </tr>\n    <tr>\n      <th>8435</th>\n      <td>3305.002630</td>\n      <td>DC</td>\n    </tr>\n  </tbody>\n</table>\n<p>920644 rows × 2 columns</p>\n</div>"
     },
     "execution_count": 29,
     "metadata": {},
     "output_type": "execute_result"
    }
   ],
   "source": [
    "df_distances = pd.DataFrame()\n",
    "for area in areas:\n",
    "    print(f\"Importing data for {area['name']}\")\n",
    "    df_area = get_trip_length_for_area(area['dataset_ids'], area['zone_types'], area['srid'], area['id'])\n",
    "    df_area['area_name'] = area['name']\n",
    "    df_distances = pd.concat([df_distances, df_area])\n",
    "df_distances"
   ],
   "metadata": {
    "collapsed": false,
    "ExecuteTime": {
     "end_time": "2023-05-26T16:04:19.838017700Z",
     "start_time": "2023-05-26T15:59:35.726355300Z"
    }
   }
  },
  {
   "cell_type": "code",
   "execution_count": 30,
   "outputs": [
    {
     "data": {
      "text/plain": "         distance area_name   dist_km  dist_km_lim\n0        0.000000       NYC  0.000000     0.000000\n1        0.000000       NYC  0.000000     0.000000\n2        0.000000       NYC  0.000000     0.000000\n3        0.000000       NYC  0.000000     0.000000\n4        0.000000       NYC  0.000000     0.000000\n...           ...       ...       ...          ...\n8431  1384.387971        DC  1.384388     1.384388\n8432  4719.339690        DC  4.719340     4.719340\n8433  3089.582564        DC  3.089583     3.089583\n8434  1114.282270        DC  1.114282     1.114282\n8435  3305.002630        DC  3.305003     3.305003\n\n[920644 rows x 4 columns]",
      "text/html": "<div>\n<style scoped>\n    .dataframe tbody tr th:only-of-type {\n        vertical-align: middle;\n    }\n\n    .dataframe tbody tr th {\n        vertical-align: top;\n    }\n\n    .dataframe thead th {\n        text-align: right;\n    }\n</style>\n<table border=\"1\" class=\"dataframe\">\n  <thead>\n    <tr style=\"text-align: right;\">\n      <th></th>\n      <th>distance</th>\n      <th>area_name</th>\n      <th>dist_km</th>\n      <th>dist_km_lim</th>\n    </tr>\n  </thead>\n  <tbody>\n    <tr>\n      <th>0</th>\n      <td>0.000000</td>\n      <td>NYC</td>\n      <td>0.000000</td>\n      <td>0.000000</td>\n    </tr>\n    <tr>\n      <th>1</th>\n      <td>0.000000</td>\n      <td>NYC</td>\n      <td>0.000000</td>\n      <td>0.000000</td>\n    </tr>\n    <tr>\n      <th>2</th>\n      <td>0.000000</td>\n      <td>NYC</td>\n      <td>0.000000</td>\n      <td>0.000000</td>\n    </tr>\n    <tr>\n      <th>3</th>\n      <td>0.000000</td>\n      <td>NYC</td>\n      <td>0.000000</td>\n      <td>0.000000</td>\n    </tr>\n    <tr>\n      <th>4</th>\n      <td>0.000000</td>\n      <td>NYC</td>\n      <td>0.000000</td>\n      <td>0.000000</td>\n    </tr>\n    <tr>\n      <th>...</th>\n      <td>...</td>\n      <td>...</td>\n      <td>...</td>\n      <td>...</td>\n    </tr>\n    <tr>\n      <th>8431</th>\n      <td>1384.387971</td>\n      <td>DC</td>\n      <td>1.384388</td>\n      <td>1.384388</td>\n    </tr>\n    <tr>\n      <th>8432</th>\n      <td>4719.339690</td>\n      <td>DC</td>\n      <td>4.719340</td>\n      <td>4.719340</td>\n    </tr>\n    <tr>\n      <th>8433</th>\n      <td>3089.582564</td>\n      <td>DC</td>\n      <td>3.089583</td>\n      <td>3.089583</td>\n    </tr>\n    <tr>\n      <th>8434</th>\n      <td>1114.282270</td>\n      <td>DC</td>\n      <td>1.114282</td>\n      <td>1.114282</td>\n    </tr>\n    <tr>\n      <th>8435</th>\n      <td>3305.002630</td>\n      <td>DC</td>\n      <td>3.305003</td>\n      <td>3.305003</td>\n    </tr>\n  </tbody>\n</table>\n<p>920644 rows × 4 columns</p>\n</div>"
     },
     "execution_count": 30,
     "metadata": {},
     "output_type": "execute_result"
    }
   ],
   "source": [
    "del min\n",
    "df_distances['dist_km'] = df_distances['distance'] / 1000\n",
    "df_distances['dist_km_lim'] = [min(dist, 20) for dist in df_distances['dist_km']]\n",
    "df_distances"
   ],
   "metadata": {
    "collapsed": false,
    "ExecuteTime": {
     "end_time": "2023-05-26T16:05:42.409378200Z",
     "start_time": "2023-05-26T16:05:42.106380100Z"
    }
   }
  },
  {
   "cell_type": "code",
   "execution_count": 31,
   "outputs": [
    {
     "data": {
      "text/plain": "    area_name       bin   count     sum    percent     x\n43        NYC  [20, 21)   11609  631291   1.838930  20.5\n38        NYC  [10, 12)   18544  631291   2.937473  11.0\n33        NYC    [0, 2)  193374  631291  30.631515   1.0\n35        NYC    [4, 6)   91805  631291  14.542422   5.0\n36        NYC    [6, 8)   50378  631291   7.980155   7.0\n37        NYC   [8, 10)   33518  631291   5.309437   9.0\n34        NYC    [2, 4)  192455  631291  30.485941   3.0\n39        NYC  [12, 14)   14019  631291   2.220687  13.0\n40        NYC  [14, 16)   10199  631291   1.615578  15.0\n41        NYC  [16, 18)    7756  631291   1.228593  17.0\n42        NYC  [18, 20)    7634  631291   1.209268  19.0\n23  Manhattan    [2, 4)   93847  265221  35.384453   3.0\n32  Manhattan  [20, 21)       0  265221   0.000000  20.5\n31  Manhattan  [18, 20)      37  265221   0.013951  19.0\n30  Manhattan  [16, 18)     137  265221   0.051655  17.0\n29  Manhattan  [14, 16)     398  265221   0.150064  15.0\n28  Manhattan  [12, 14)     900  265221   0.339340  13.0\n27  Manhattan  [10, 12)    2137  265221   0.805743  11.0\n26  Manhattan   [8, 10)    5224  265221   1.969678   9.0\n25  Manhattan    [6, 8)   13995  265221   5.276731   7.0\n24  Manhattan    [4, 6)   33991  265221  12.816104   5.0\n22  Manhattan    [0, 2)  114555  265221  43.192281   1.0\n11         DC    [0, 2)    4070    8436  48.245614   1.0\n20         DC  [18, 20)       0    8436   0.000000  19.0\n19         DC  [16, 18)       2    8436   0.023708  17.0\n18         DC  [14, 16)       4    8436   0.047416  15.0\n17         DC  [12, 14)      19    8436   0.225225  13.0\n16         DC  [10, 12)      41    8436   0.486012  11.0\n15         DC   [8, 10)     186    8436   2.204836   9.0\n14         DC    [6, 8)     358    8436   4.243717   7.0\n13         DC    [4, 6)     904    8436  10.715979   5.0\n12         DC    [2, 4)    2852    8436  33.807492   3.0\n21         DC  [20, 21)       0    8436   0.000000  20.5\n6     Chicago  [12, 14)     473   15696   3.013507  13.0\n2     Chicago    [4, 6)    1214   15696   7.734455   5.0\n3     Chicago    [6, 8)     827   15696   5.268858   7.0\n4     Chicago   [8, 10)     493   15696   3.140928   9.0\n5     Chicago  [10, 12)     451   15696   2.873344  11.0\n1     Chicago    [2, 4)    3380   15696  21.534149   3.0\n7     Chicago  [14, 16)     670   15696   4.268603  15.0\n8     Chicago  [16, 18)     385   15696   2.452854  17.0\n9     Chicago  [18, 20)     309   15696   1.968654  19.0\n10    Chicago  [20, 21)    2239   15696  14.264781  20.5\n0     Chicago    [0, 2)    5255   15696  33.479867   1.0",
      "text/html": "<div>\n<style scoped>\n    .dataframe tbody tr th:only-of-type {\n        vertical-align: middle;\n    }\n\n    .dataframe tbody tr th {\n        vertical-align: top;\n    }\n\n    .dataframe thead th {\n        text-align: right;\n    }\n</style>\n<table border=\"1\" class=\"dataframe\">\n  <thead>\n    <tr style=\"text-align: right;\">\n      <th></th>\n      <th>area_name</th>\n      <th>bin</th>\n      <th>count</th>\n      <th>sum</th>\n      <th>percent</th>\n      <th>x</th>\n    </tr>\n  </thead>\n  <tbody>\n    <tr>\n      <th>43</th>\n      <td>NYC</td>\n      <td>[20, 21)</td>\n      <td>11609</td>\n      <td>631291</td>\n      <td>1.838930</td>\n      <td>20.5</td>\n    </tr>\n    <tr>\n      <th>38</th>\n      <td>NYC</td>\n      <td>[10, 12)</td>\n      <td>18544</td>\n      <td>631291</td>\n      <td>2.937473</td>\n      <td>11.0</td>\n    </tr>\n    <tr>\n      <th>33</th>\n      <td>NYC</td>\n      <td>[0, 2)</td>\n      <td>193374</td>\n      <td>631291</td>\n      <td>30.631515</td>\n      <td>1.0</td>\n    </tr>\n    <tr>\n      <th>35</th>\n      <td>NYC</td>\n      <td>[4, 6)</td>\n      <td>91805</td>\n      <td>631291</td>\n      <td>14.542422</td>\n      <td>5.0</td>\n    </tr>\n    <tr>\n      <th>36</th>\n      <td>NYC</td>\n      <td>[6, 8)</td>\n      <td>50378</td>\n      <td>631291</td>\n      <td>7.980155</td>\n      <td>7.0</td>\n    </tr>\n    <tr>\n      <th>37</th>\n      <td>NYC</td>\n      <td>[8, 10)</td>\n      <td>33518</td>\n      <td>631291</td>\n      <td>5.309437</td>\n      <td>9.0</td>\n    </tr>\n    <tr>\n      <th>34</th>\n      <td>NYC</td>\n      <td>[2, 4)</td>\n      <td>192455</td>\n      <td>631291</td>\n      <td>30.485941</td>\n      <td>3.0</td>\n    </tr>\n    <tr>\n      <th>39</th>\n      <td>NYC</td>\n      <td>[12, 14)</td>\n      <td>14019</td>\n      <td>631291</td>\n      <td>2.220687</td>\n      <td>13.0</td>\n    </tr>\n    <tr>\n      <th>40</th>\n      <td>NYC</td>\n      <td>[14, 16)</td>\n      <td>10199</td>\n      <td>631291</td>\n      <td>1.615578</td>\n      <td>15.0</td>\n    </tr>\n    <tr>\n      <th>41</th>\n      <td>NYC</td>\n      <td>[16, 18)</td>\n      <td>7756</td>\n      <td>631291</td>\n      <td>1.228593</td>\n      <td>17.0</td>\n    </tr>\n    <tr>\n      <th>42</th>\n      <td>NYC</td>\n      <td>[18, 20)</td>\n      <td>7634</td>\n      <td>631291</td>\n      <td>1.209268</td>\n      <td>19.0</td>\n    </tr>\n    <tr>\n      <th>23</th>\n      <td>Manhattan</td>\n      <td>[2, 4)</td>\n      <td>93847</td>\n      <td>265221</td>\n      <td>35.384453</td>\n      <td>3.0</td>\n    </tr>\n    <tr>\n      <th>32</th>\n      <td>Manhattan</td>\n      <td>[20, 21)</td>\n      <td>0</td>\n      <td>265221</td>\n      <td>0.000000</td>\n      <td>20.5</td>\n    </tr>\n    <tr>\n      <th>31</th>\n      <td>Manhattan</td>\n      <td>[18, 20)</td>\n      <td>37</td>\n      <td>265221</td>\n      <td>0.013951</td>\n      <td>19.0</td>\n    </tr>\n    <tr>\n      <th>30</th>\n      <td>Manhattan</td>\n      <td>[16, 18)</td>\n      <td>137</td>\n      <td>265221</td>\n      <td>0.051655</td>\n      <td>17.0</td>\n    </tr>\n    <tr>\n      <th>29</th>\n      <td>Manhattan</td>\n      <td>[14, 16)</td>\n      <td>398</td>\n      <td>265221</td>\n      <td>0.150064</td>\n      <td>15.0</td>\n    </tr>\n    <tr>\n      <th>28</th>\n      <td>Manhattan</td>\n      <td>[12, 14)</td>\n      <td>900</td>\n      <td>265221</td>\n      <td>0.339340</td>\n      <td>13.0</td>\n    </tr>\n    <tr>\n      <th>27</th>\n      <td>Manhattan</td>\n      <td>[10, 12)</td>\n      <td>2137</td>\n      <td>265221</td>\n      <td>0.805743</td>\n      <td>11.0</td>\n    </tr>\n    <tr>\n      <th>26</th>\n      <td>Manhattan</td>\n      <td>[8, 10)</td>\n      <td>5224</td>\n      <td>265221</td>\n      <td>1.969678</td>\n      <td>9.0</td>\n    </tr>\n    <tr>\n      <th>25</th>\n      <td>Manhattan</td>\n      <td>[6, 8)</td>\n      <td>13995</td>\n      <td>265221</td>\n      <td>5.276731</td>\n      <td>7.0</td>\n    </tr>\n    <tr>\n      <th>24</th>\n      <td>Manhattan</td>\n      <td>[4, 6)</td>\n      <td>33991</td>\n      <td>265221</td>\n      <td>12.816104</td>\n      <td>5.0</td>\n    </tr>\n    <tr>\n      <th>22</th>\n      <td>Manhattan</td>\n      <td>[0, 2)</td>\n      <td>114555</td>\n      <td>265221</td>\n      <td>43.192281</td>\n      <td>1.0</td>\n    </tr>\n    <tr>\n      <th>11</th>\n      <td>DC</td>\n      <td>[0, 2)</td>\n      <td>4070</td>\n      <td>8436</td>\n      <td>48.245614</td>\n      <td>1.0</td>\n    </tr>\n    <tr>\n      <th>20</th>\n      <td>DC</td>\n      <td>[18, 20)</td>\n      <td>0</td>\n      <td>8436</td>\n      <td>0.000000</td>\n      <td>19.0</td>\n    </tr>\n    <tr>\n      <th>19</th>\n      <td>DC</td>\n      <td>[16, 18)</td>\n      <td>2</td>\n      <td>8436</td>\n      <td>0.023708</td>\n      <td>17.0</td>\n    </tr>\n    <tr>\n      <th>18</th>\n      <td>DC</td>\n      <td>[14, 16)</td>\n      <td>4</td>\n      <td>8436</td>\n      <td>0.047416</td>\n      <td>15.0</td>\n    </tr>\n    <tr>\n      <th>17</th>\n      <td>DC</td>\n      <td>[12, 14)</td>\n      <td>19</td>\n      <td>8436</td>\n      <td>0.225225</td>\n      <td>13.0</td>\n    </tr>\n    <tr>\n      <th>16</th>\n      <td>DC</td>\n      <td>[10, 12)</td>\n      <td>41</td>\n      <td>8436</td>\n      <td>0.486012</td>\n      <td>11.0</td>\n    </tr>\n    <tr>\n      <th>15</th>\n      <td>DC</td>\n      <td>[8, 10)</td>\n      <td>186</td>\n      <td>8436</td>\n      <td>2.204836</td>\n      <td>9.0</td>\n    </tr>\n    <tr>\n      <th>14</th>\n      <td>DC</td>\n      <td>[6, 8)</td>\n      <td>358</td>\n      <td>8436</td>\n      <td>4.243717</td>\n      <td>7.0</td>\n    </tr>\n    <tr>\n      <th>13</th>\n      <td>DC</td>\n      <td>[4, 6)</td>\n      <td>904</td>\n      <td>8436</td>\n      <td>10.715979</td>\n      <td>5.0</td>\n    </tr>\n    <tr>\n      <th>12</th>\n      <td>DC</td>\n      <td>[2, 4)</td>\n      <td>2852</td>\n      <td>8436</td>\n      <td>33.807492</td>\n      <td>3.0</td>\n    </tr>\n    <tr>\n      <th>21</th>\n      <td>DC</td>\n      <td>[20, 21)</td>\n      <td>0</td>\n      <td>8436</td>\n      <td>0.000000</td>\n      <td>20.5</td>\n    </tr>\n    <tr>\n      <th>6</th>\n      <td>Chicago</td>\n      <td>[12, 14)</td>\n      <td>473</td>\n      <td>15696</td>\n      <td>3.013507</td>\n      <td>13.0</td>\n    </tr>\n    <tr>\n      <th>2</th>\n      <td>Chicago</td>\n      <td>[4, 6)</td>\n      <td>1214</td>\n      <td>15696</td>\n      <td>7.734455</td>\n      <td>5.0</td>\n    </tr>\n    <tr>\n      <th>3</th>\n      <td>Chicago</td>\n      <td>[6, 8)</td>\n      <td>827</td>\n      <td>15696</td>\n      <td>5.268858</td>\n      <td>7.0</td>\n    </tr>\n    <tr>\n      <th>4</th>\n      <td>Chicago</td>\n      <td>[8, 10)</td>\n      <td>493</td>\n      <td>15696</td>\n      <td>3.140928</td>\n      <td>9.0</td>\n    </tr>\n    <tr>\n      <th>5</th>\n      <td>Chicago</td>\n      <td>[10, 12)</td>\n      <td>451</td>\n      <td>15696</td>\n      <td>2.873344</td>\n      <td>11.0</td>\n    </tr>\n    <tr>\n      <th>1</th>\n      <td>Chicago</td>\n      <td>[2, 4)</td>\n      <td>3380</td>\n      <td>15696</td>\n      <td>21.534149</td>\n      <td>3.0</td>\n    </tr>\n    <tr>\n      <th>7</th>\n      <td>Chicago</td>\n      <td>[14, 16)</td>\n      <td>670</td>\n      <td>15696</td>\n      <td>4.268603</td>\n      <td>15.0</td>\n    </tr>\n    <tr>\n      <th>8</th>\n      <td>Chicago</td>\n      <td>[16, 18)</td>\n      <td>385</td>\n      <td>15696</td>\n      <td>2.452854</td>\n      <td>17.0</td>\n    </tr>\n    <tr>\n      <th>9</th>\n      <td>Chicago</td>\n      <td>[18, 20)</td>\n      <td>309</td>\n      <td>15696</td>\n      <td>1.968654</td>\n      <td>19.0</td>\n    </tr>\n    <tr>\n      <th>10</th>\n      <td>Chicago</td>\n      <td>[20, 21)</td>\n      <td>2239</td>\n      <td>15696</td>\n      <td>14.264781</td>\n      <td>20.5</td>\n    </tr>\n    <tr>\n      <th>0</th>\n      <td>Chicago</td>\n      <td>[0, 2)</td>\n      <td>5255</td>\n      <td>15696</td>\n      <td>33.479867</td>\n      <td>1.0</td>\n    </tr>\n  </tbody>\n</table>\n</div>"
     },
     "execution_count": 31,
     "metadata": {},
     "output_type": "execute_result"
    }
   ],
   "source": [
    "size = 2\n",
    "bins = [i for i in range(0, df_distances['dist_km_lim'].astype(int).max() + size, size)]\n",
    "bins.append(21)\n",
    "cut = pd.cut(\n",
    "    df_distances['dist_km_lim'].astype(int),\n",
    "    bins=bins,\n",
    "    right=False\n",
    ")\n",
    "df_distances['bin'] = cut\n",
    "df_distances_binned = df_distances.groupby(['area_name', 'bin'])['bin'].count().reset_index(name='count')\n",
    "\n",
    "area_sums = df_distances_binned.groupby('area_name')['count'].sum().reset_index(name='sum')\n",
    "area_sums\n",
    "\n",
    "df_distances_binned = df_distances_binned.merge(area_sums, on='area_name')\n",
    "df_distances_binned['percent'] = df_distances_binned['count'] / df_distances_binned['sum'] * 100\n",
    "df_distances_binned['x'] = df_distances_binned['bin'].apply(lambda x: x.right - ((x.right - x.left) / 2))\n",
    "df_distances_binned.sort_values(['area_name'], inplace=True, ascending=False)\n",
    "df_distances_binned\n",
    "# bins\n",
    "# df_distances\n"
   ],
   "metadata": {
    "collapsed": false,
    "ExecuteTime": {
     "end_time": "2023-05-26T16:05:43.657429200Z",
     "start_time": "2023-05-26T16:05:43.528418400Z"
    }
   }
  },
  {
   "cell_type": "code",
   "execution_count": 45,
   "outputs": [
    {
     "data": {
      "application/vnd.plotly.v1+json": {
       "data": [
        {
         "alignmentgroup": "True",
         "hovertemplate": "area_name=NYC<br>x=%{x}<br>percent=%{y}<extra></extra>",
         "legendgroup": "",
         "marker": {
          "color": "#636efa",
          "pattern": {
           "shape": ""
          }
         },
         "name": "",
         "offsetgroup": "",
         "orientation": "v",
         "showlegend": false,
         "textposition": "auto",
         "x": [
          20.5,
          11.0,
          1.0,
          5.0,
          7.0,
          9.0,
          3.0,
          13.0,
          15.0,
          17.0,
          19.0
         ],
         "xaxis": "x",
         "y": [
          1.8389300655323773,
          2.9374725760386253,
          30.631515418404508,
          14.542421799138591,
          7.9801549523120086,
          5.309437327634957,
          30.485940715137712,
          2.220687448419192,
          1.615578235710631,
          1.2285934695726692,
          1.209267992098731
         ],
         "yaxis": "y",
         "type": "bar"
        },
        {
         "alignmentgroup": "True",
         "hovertemplate": "area_name=Manhattan<br>x=%{x}<br>percent=%{y}<extra></extra>",
         "legendgroup": "",
         "marker": {
          "color": "#636efa",
          "pattern": {
           "shape": ""
          }
         },
         "name": "",
         "offsetgroup": "",
         "orientation": "v",
         "showlegend": false,
         "textposition": "auto",
         "x": [
          3.0,
          20.5,
          19.0,
          17.0,
          15.0,
          13.0,
          11.0,
          9.0,
          7.0,
          5.0,
          1.0
         ],
         "xaxis": "x2",
         "y": [
          35.38445296563997,
          0.0,
          0.013950629852085618,
          0.05165503485772243,
          0.1500635319224345,
          0.3393396450507313,
          0.8057431349704587,
          1.969678117494467,
          5.276731480538872,
          12.816104305466009,
          43.192281154207244
         ],
         "yaxis": "y2",
         "type": "bar"
        },
        {
         "alignmentgroup": "True",
         "hovertemplate": "area_name=DC<br>x=%{x}<br>percent=%{y}<extra></extra>",
         "legendgroup": "",
         "marker": {
          "color": "#636efa",
          "pattern": {
           "shape": ""
          }
         },
         "name": "",
         "offsetgroup": "",
         "orientation": "v",
         "showlegend": false,
         "textposition": "auto",
         "x": [
          1.0,
          19.0,
          17.0,
          15.0,
          13.0,
          11.0,
          9.0,
          7.0,
          5.0,
          3.0,
          20.5
         ],
         "xaxis": "x3",
         "y": [
          48.24561403508772,
          0.0,
          0.02370791844476055,
          0.0474158368895211,
          0.22522522522522523,
          0.48601232811759126,
          2.204836415362731,
          4.243717401612138,
          10.715979137031768,
          33.807491702228546,
          0.0
         ],
         "yaxis": "y3",
         "type": "bar"
        },
        {
         "alignmentgroup": "True",
         "hovertemplate": "area_name=Chicago<br>x=%{x}<br>percent=%{y}<extra></extra>",
         "legendgroup": "",
         "marker": {
          "color": "#636efa",
          "pattern": {
           "shape": ""
          }
         },
         "name": "",
         "offsetgroup": "",
         "orientation": "v",
         "showlegend": false,
         "textposition": "auto",
         "x": [
          13.0,
          5.0,
          7.0,
          9.0,
          11.0,
          3.0,
          15.0,
          17.0,
          19.0,
          20.5,
          1.0
         ],
         "xaxis": "x4",
         "y": [
          3.013506625891947,
          7.7344546381243635,
          5.268858307849134,
          3.140927624872579,
          2.873343527013252,
          21.53414882772681,
          4.2686034658511725,
          2.452854230377166,
          1.9686544342507644,
          14.264780835881755,
          33.479867482161055
         ],
         "yaxis": "y4",
         "type": "bar"
        }
       ],
       "layout": {
        "template": {
         "data": {
          "histogram2dcontour": [
           {
            "type": "histogram2dcontour",
            "colorbar": {
             "outlinewidth": 0,
             "ticks": ""
            },
            "colorscale": [
             [
              0.0,
              "#0d0887"
             ],
             [
              0.1111111111111111,
              "#46039f"
             ],
             [
              0.2222222222222222,
              "#7201a8"
             ],
             [
              0.3333333333333333,
              "#9c179e"
             ],
             [
              0.4444444444444444,
              "#bd3786"
             ],
             [
              0.5555555555555556,
              "#d8576b"
             ],
             [
              0.6666666666666666,
              "#ed7953"
             ],
             [
              0.7777777777777778,
              "#fb9f3a"
             ],
             [
              0.8888888888888888,
              "#fdca26"
             ],
             [
              1.0,
              "#f0f921"
             ]
            ]
           }
          ],
          "choropleth": [
           {
            "type": "choropleth",
            "colorbar": {
             "outlinewidth": 0,
             "ticks": ""
            }
           }
          ],
          "histogram2d": [
           {
            "type": "histogram2d",
            "colorbar": {
             "outlinewidth": 0,
             "ticks": ""
            },
            "colorscale": [
             [
              0.0,
              "#0d0887"
             ],
             [
              0.1111111111111111,
              "#46039f"
             ],
             [
              0.2222222222222222,
              "#7201a8"
             ],
             [
              0.3333333333333333,
              "#9c179e"
             ],
             [
              0.4444444444444444,
              "#bd3786"
             ],
             [
              0.5555555555555556,
              "#d8576b"
             ],
             [
              0.6666666666666666,
              "#ed7953"
             ],
             [
              0.7777777777777778,
              "#fb9f3a"
             ],
             [
              0.8888888888888888,
              "#fdca26"
             ],
             [
              1.0,
              "#f0f921"
             ]
            ]
           }
          ],
          "heatmap": [
           {
            "type": "heatmap",
            "colorbar": {
             "outlinewidth": 0,
             "ticks": ""
            },
            "colorscale": [
             [
              0.0,
              "#0d0887"
             ],
             [
              0.1111111111111111,
              "#46039f"
             ],
             [
              0.2222222222222222,
              "#7201a8"
             ],
             [
              0.3333333333333333,
              "#9c179e"
             ],
             [
              0.4444444444444444,
              "#bd3786"
             ],
             [
              0.5555555555555556,
              "#d8576b"
             ],
             [
              0.6666666666666666,
              "#ed7953"
             ],
             [
              0.7777777777777778,
              "#fb9f3a"
             ],
             [
              0.8888888888888888,
              "#fdca26"
             ],
             [
              1.0,
              "#f0f921"
             ]
            ]
           }
          ],
          "heatmapgl": [
           {
            "type": "heatmapgl",
            "colorbar": {
             "outlinewidth": 0,
             "ticks": ""
            },
            "colorscale": [
             [
              0.0,
              "#0d0887"
             ],
             [
              0.1111111111111111,
              "#46039f"
             ],
             [
              0.2222222222222222,
              "#7201a8"
             ],
             [
              0.3333333333333333,
              "#9c179e"
             ],
             [
              0.4444444444444444,
              "#bd3786"
             ],
             [
              0.5555555555555556,
              "#d8576b"
             ],
             [
              0.6666666666666666,
              "#ed7953"
             ],
             [
              0.7777777777777778,
              "#fb9f3a"
             ],
             [
              0.8888888888888888,
              "#fdca26"
             ],
             [
              1.0,
              "#f0f921"
             ]
            ]
           }
          ],
          "contourcarpet": [
           {
            "type": "contourcarpet",
            "colorbar": {
             "outlinewidth": 0,
             "ticks": ""
            }
           }
          ],
          "contour": [
           {
            "type": "contour",
            "colorbar": {
             "outlinewidth": 0,
             "ticks": ""
            },
            "colorscale": [
             [
              0.0,
              "#0d0887"
             ],
             [
              0.1111111111111111,
              "#46039f"
             ],
             [
              0.2222222222222222,
              "#7201a8"
             ],
             [
              0.3333333333333333,
              "#9c179e"
             ],
             [
              0.4444444444444444,
              "#bd3786"
             ],
             [
              0.5555555555555556,
              "#d8576b"
             ],
             [
              0.6666666666666666,
              "#ed7953"
             ],
             [
              0.7777777777777778,
              "#fb9f3a"
             ],
             [
              0.8888888888888888,
              "#fdca26"
             ],
             [
              1.0,
              "#f0f921"
             ]
            ]
           }
          ],
          "surface": [
           {
            "type": "surface",
            "colorbar": {
             "outlinewidth": 0,
             "ticks": ""
            },
            "colorscale": [
             [
              0.0,
              "#0d0887"
             ],
             [
              0.1111111111111111,
              "#46039f"
             ],
             [
              0.2222222222222222,
              "#7201a8"
             ],
             [
              0.3333333333333333,
              "#9c179e"
             ],
             [
              0.4444444444444444,
              "#bd3786"
             ],
             [
              0.5555555555555556,
              "#d8576b"
             ],
             [
              0.6666666666666666,
              "#ed7953"
             ],
             [
              0.7777777777777778,
              "#fb9f3a"
             ],
             [
              0.8888888888888888,
              "#fdca26"
             ],
             [
              1.0,
              "#f0f921"
             ]
            ]
           }
          ],
          "mesh3d": [
           {
            "type": "mesh3d",
            "colorbar": {
             "outlinewidth": 0,
             "ticks": ""
            }
           }
          ],
          "scatter": [
           {
            "fillpattern": {
             "fillmode": "overlay",
             "size": 10,
             "solidity": 0.2
            },
            "type": "scatter"
           }
          ],
          "parcoords": [
           {
            "type": "parcoords",
            "line": {
             "colorbar": {
              "outlinewidth": 0,
              "ticks": ""
             }
            }
           }
          ],
          "scatterpolargl": [
           {
            "type": "scatterpolargl",
            "marker": {
             "colorbar": {
              "outlinewidth": 0,
              "ticks": ""
             }
            }
           }
          ],
          "bar": [
           {
            "error_x": {
             "color": "#2a3f5f"
            },
            "error_y": {
             "color": "#2a3f5f"
            },
            "marker": {
             "line": {
              "color": "#E5ECF6",
              "width": 0.5
             },
             "pattern": {
              "fillmode": "overlay",
              "size": 10,
              "solidity": 0.2
             }
            },
            "type": "bar"
           }
          ],
          "scattergeo": [
           {
            "type": "scattergeo",
            "marker": {
             "colorbar": {
              "outlinewidth": 0,
              "ticks": ""
             }
            }
           }
          ],
          "scatterpolar": [
           {
            "type": "scatterpolar",
            "marker": {
             "colorbar": {
              "outlinewidth": 0,
              "ticks": ""
             }
            }
           }
          ],
          "histogram": [
           {
            "marker": {
             "pattern": {
              "fillmode": "overlay",
              "size": 10,
              "solidity": 0.2
             }
            },
            "type": "histogram"
           }
          ],
          "scattergl": [
           {
            "type": "scattergl",
            "marker": {
             "colorbar": {
              "outlinewidth": 0,
              "ticks": ""
             }
            }
           }
          ],
          "scatter3d": [
           {
            "type": "scatter3d",
            "line": {
             "colorbar": {
              "outlinewidth": 0,
              "ticks": ""
             }
            },
            "marker": {
             "colorbar": {
              "outlinewidth": 0,
              "ticks": ""
             }
            }
           }
          ],
          "scattermapbox": [
           {
            "type": "scattermapbox",
            "marker": {
             "colorbar": {
              "outlinewidth": 0,
              "ticks": ""
             }
            }
           }
          ],
          "scatterternary": [
           {
            "type": "scatterternary",
            "marker": {
             "colorbar": {
              "outlinewidth": 0,
              "ticks": ""
             }
            }
           }
          ],
          "scattercarpet": [
           {
            "type": "scattercarpet",
            "marker": {
             "colorbar": {
              "outlinewidth": 0,
              "ticks": ""
             }
            }
           }
          ],
          "carpet": [
           {
            "aaxis": {
             "endlinecolor": "#2a3f5f",
             "gridcolor": "white",
             "linecolor": "white",
             "minorgridcolor": "white",
             "startlinecolor": "#2a3f5f"
            },
            "baxis": {
             "endlinecolor": "#2a3f5f",
             "gridcolor": "white",
             "linecolor": "white",
             "minorgridcolor": "white",
             "startlinecolor": "#2a3f5f"
            },
            "type": "carpet"
           }
          ],
          "table": [
           {
            "cells": {
             "fill": {
              "color": "#EBF0F8"
             },
             "line": {
              "color": "white"
             }
            },
            "header": {
             "fill": {
              "color": "#C8D4E3"
             },
             "line": {
              "color": "white"
             }
            },
            "type": "table"
           }
          ],
          "barpolar": [
           {
            "marker": {
             "line": {
              "color": "#E5ECF6",
              "width": 0.5
             },
             "pattern": {
              "fillmode": "overlay",
              "size": 10,
              "solidity": 0.2
             }
            },
            "type": "barpolar"
           }
          ],
          "pie": [
           {
            "automargin": true,
            "type": "pie"
           }
          ]
         },
         "layout": {
          "autotypenumbers": "strict",
          "colorway": [
           "#636efa",
           "#EF553B",
           "#00cc96",
           "#ab63fa",
           "#FFA15A",
           "#19d3f3",
           "#FF6692",
           "#B6E880",
           "#FF97FF",
           "#FECB52"
          ],
          "font": {
           "color": "#2a3f5f"
          },
          "hovermode": "closest",
          "hoverlabel": {
           "align": "left"
          },
          "paper_bgcolor": "white",
          "plot_bgcolor": "#E5ECF6",
          "polar": {
           "bgcolor": "#E5ECF6",
           "angularaxis": {
            "gridcolor": "white",
            "linecolor": "white",
            "ticks": ""
           },
           "radialaxis": {
            "gridcolor": "white",
            "linecolor": "white",
            "ticks": ""
           }
          },
          "ternary": {
           "bgcolor": "#E5ECF6",
           "aaxis": {
            "gridcolor": "white",
            "linecolor": "white",
            "ticks": ""
           },
           "baxis": {
            "gridcolor": "white",
            "linecolor": "white",
            "ticks": ""
           },
           "caxis": {
            "gridcolor": "white",
            "linecolor": "white",
            "ticks": ""
           }
          },
          "coloraxis": {
           "colorbar": {
            "outlinewidth": 0,
            "ticks": ""
           }
          },
          "colorscale": {
           "sequential": [
            [
             0.0,
             "#0d0887"
            ],
            [
             0.1111111111111111,
             "#46039f"
            ],
            [
             0.2222222222222222,
             "#7201a8"
            ],
            [
             0.3333333333333333,
             "#9c179e"
            ],
            [
             0.4444444444444444,
             "#bd3786"
            ],
            [
             0.5555555555555556,
             "#d8576b"
            ],
            [
             0.6666666666666666,
             "#ed7953"
            ],
            [
             0.7777777777777778,
             "#fb9f3a"
            ],
            [
             0.8888888888888888,
             "#fdca26"
            ],
            [
             1.0,
             "#f0f921"
            ]
           ],
           "sequentialminus": [
            [
             0.0,
             "#0d0887"
            ],
            [
             0.1111111111111111,
             "#46039f"
            ],
            [
             0.2222222222222222,
             "#7201a8"
            ],
            [
             0.3333333333333333,
             "#9c179e"
            ],
            [
             0.4444444444444444,
             "#bd3786"
            ],
            [
             0.5555555555555556,
             "#d8576b"
            ],
            [
             0.6666666666666666,
             "#ed7953"
            ],
            [
             0.7777777777777778,
             "#fb9f3a"
            ],
            [
             0.8888888888888888,
             "#fdca26"
            ],
            [
             1.0,
             "#f0f921"
            ]
           ],
           "diverging": [
            [
             0,
             "#8e0152"
            ],
            [
             0.1,
             "#c51b7d"
            ],
            [
             0.2,
             "#de77ae"
            ],
            [
             0.3,
             "#f1b6da"
            ],
            [
             0.4,
             "#fde0ef"
            ],
            [
             0.5,
             "#f7f7f7"
            ],
            [
             0.6,
             "#e6f5d0"
            ],
            [
             0.7,
             "#b8e186"
            ],
            [
             0.8,
             "#7fbc41"
            ],
            [
             0.9,
             "#4d9221"
            ],
            [
             1,
             "#276419"
            ]
           ]
          },
          "xaxis": {
           "gridcolor": "white",
           "linecolor": "white",
           "ticks": "",
           "title": {
            "standoff": 15
           },
           "zerolinecolor": "white",
           "automargin": true,
           "zerolinewidth": 2
          },
          "yaxis": {
           "gridcolor": "white",
           "linecolor": "white",
           "ticks": "",
           "title": {
            "standoff": 15
           },
           "zerolinecolor": "white",
           "automargin": true,
           "zerolinewidth": 2
          },
          "scene": {
           "xaxis": {
            "backgroundcolor": "#E5ECF6",
            "gridcolor": "white",
            "linecolor": "white",
            "showbackground": true,
            "ticks": "",
            "zerolinecolor": "white",
            "gridwidth": 2
           },
           "yaxis": {
            "backgroundcolor": "#E5ECF6",
            "gridcolor": "white",
            "linecolor": "white",
            "showbackground": true,
            "ticks": "",
            "zerolinecolor": "white",
            "gridwidth": 2
           },
           "zaxis": {
            "backgroundcolor": "#E5ECF6",
            "gridcolor": "white",
            "linecolor": "white",
            "showbackground": true,
            "ticks": "",
            "zerolinecolor": "white",
            "gridwidth": 2
           }
          },
          "shapedefaults": {
           "line": {
            "color": "#2a3f5f"
           }
          },
          "annotationdefaults": {
           "arrowcolor": "#2a3f5f",
           "arrowhead": 0,
           "arrowwidth": 1
          },
          "geo": {
           "bgcolor": "white",
           "landcolor": "#E5ECF6",
           "subunitcolor": "white",
           "showland": true,
           "showlakes": true,
           "lakecolor": "white"
          },
          "title": {
           "x": 0.05
          },
          "mapbox": {
           "style": "light"
          }
         }
        },
        "xaxis": {
         "anchor": "y",
         "domain": [
          0.0,
          0.235
         ],
         "title": {
          "text": ""
         },
         "tickmode": "array",
         "tickvals": [
          10,
          20
         ],
         "ticktext": [
          "10",
          "20+"
         ]
        },
        "yaxis": {
         "anchor": "x",
         "domain": [
          0.0,
          1.0
         ],
         "title": {
          "text": ""
         }
        },
        "xaxis2": {
         "anchor": "y2",
         "domain": [
          0.255,
          0.49
         ],
         "matches": "x",
         "title": {
          "text": ""
         },
         "tickmode": "array",
         "tickvals": [
          10,
          20
         ],
         "ticktext": [
          "10",
          "20+"
         ]
        },
        "yaxis2": {
         "anchor": "x2",
         "domain": [
          0.0,
          1.0
         ],
         "matches": "y",
         "showticklabels": false,
         "title": {
          "text": ""
         }
        },
        "xaxis3": {
         "anchor": "y3",
         "domain": [
          0.51,
          0.745
         ],
         "matches": "x",
         "title": {
          "text": ""
         },
         "tickmode": "array",
         "tickvals": [
          10,
          20
         ],
         "ticktext": [
          "10",
          "20+"
         ]
        },
        "yaxis3": {
         "anchor": "x3",
         "domain": [
          0.0,
          1.0
         ],
         "matches": "y",
         "showticklabels": false,
         "title": {
          "text": ""
         }
        },
        "xaxis4": {
         "anchor": "y4",
         "domain": [
          0.7649999999999999,
          0.9999999999999999
         ],
         "matches": "x",
         "title": {
          "text": ""
         },
         "tickmode": "array",
         "tickvals": [
          10,
          20
         ],
         "ticktext": [
          "10",
          "20+"
         ]
        },
        "yaxis4": {
         "anchor": "x4",
         "domain": [
          0.0,
          1.0
         ],
         "matches": "y",
         "showticklabels": false,
         "title": {
          "text": ""
         }
        },
        "annotations": [
         {
          "showarrow": false,
          "text": "",
          "x": 0.1175,
          "xanchor": "center",
          "xref": "paper",
          "y": 1.0,
          "yanchor": "bottom",
          "yref": "paper"
         },
         {
          "showarrow": false,
          "text": "",
          "x": 0.3725,
          "xanchor": "center",
          "xref": "paper",
          "y": 1.0,
          "yanchor": "bottom",
          "yref": "paper"
         },
         {
          "showarrow": false,
          "text": "",
          "x": 0.6275,
          "xanchor": "center",
          "xref": "paper",
          "y": 1.0,
          "yanchor": "bottom",
          "yref": "paper"
         },
         {
          "showarrow": false,
          "text": "",
          "x": 0.8824999999999998,
          "xanchor": "center",
          "xref": "paper",
          "y": 1.0,
          "yanchor": "bottom",
          "yref": "paper"
         },
         {
          "showarrow": false,
          "text": "trip distance [km]",
          "x": 0.5,
          "xref": "paper",
          "y": -0.3,
          "yref": "paper"
         },
         {
          "showarrow": false,
          "text": "% of trips",
          "textangle": -90,
          "x": -0.08,
          "xref": "paper",
          "y": 0.5,
          "yref": "paper"
         }
        ],
        "legend": {
         "tracegroupgap": 0
        },
        "margin": {
         "t": 0,
         "l": 0,
         "r": 10,
         "b": 0,
         "pad": 0
        },
        "barmode": "relative",
        "height": 150,
        "width": 450,
        "bargap": 0.1,
        "shapes": [
         {
          "line": {
           "color": "White",
           "width": 1
          },
          "type": "line",
          "x0": 10,
          "x1": 10,
          "xref": "x",
          "y0": 0,
          "y1": 50,
          "yref": "y"
         },
         {
          "line": {
           "color": "White",
           "width": 1
          },
          "type": "line",
          "x0": 20,
          "x1": 20,
          "xref": "x",
          "y0": 0,
          "y1": 50,
          "yref": "y"
         },
         {
          "line": {
           "color": "White",
           "width": 1
          },
          "type": "line",
          "x0": 10,
          "x1": 10,
          "xref": "x2",
          "y0": 0,
          "y1": 50,
          "yref": "y2"
         },
         {
          "line": {
           "color": "White",
           "width": 1
          },
          "type": "line",
          "x0": 20,
          "x1": 20,
          "xref": "x2",
          "y0": 0,
          "y1": 50,
          "yref": "y2"
         },
         {
          "line": {
           "color": "White",
           "width": 1
          },
          "type": "line",
          "x0": 10,
          "x1": 10,
          "xref": "x3",
          "y0": 0,
          "y1": 50,
          "yref": "y3"
         },
         {
          "line": {
           "color": "White",
           "width": 1
          },
          "type": "line",
          "x0": 20,
          "x1": 20,
          "xref": "x3",
          "y0": 0,
          "y1": 50,
          "yref": "y3"
         },
         {
          "line": {
           "color": "White",
           "width": 1
          },
          "type": "line",
          "x0": 10,
          "x1": 10,
          "xref": "x4",
          "y0": 0,
          "y1": 50,
          "yref": "y4"
         },
         {
          "line": {
           "color": "White",
           "width": 1
          },
          "type": "line",
          "x0": 20,
          "x1": 20,
          "xref": "x4",
          "y0": 0,
          "y1": 50,
          "yref": "y4"
         }
        ]
       },
       "config": {
        "plotlyServerURL": "https://plot.ly"
       }
      },
      "text/html": "<div>                            <div id=\"25a83c6b-9639-46cb-8a3e-8f0ab55ea8f2\" class=\"plotly-graph-div\" style=\"height:150px; width:450px;\"></div>            <script type=\"text/javascript\">                require([\"plotly\"], function(Plotly) {                    window.PLOTLYENV=window.PLOTLYENV || {};                                    if (document.getElementById(\"25a83c6b-9639-46cb-8a3e-8f0ab55ea8f2\")) {                    Plotly.newPlot(                        \"25a83c6b-9639-46cb-8a3e-8f0ab55ea8f2\",                        [{\"alignmentgroup\":\"True\",\"hovertemplate\":\"area_name=NYC<br>x=%{x}<br>percent=%{y}<extra></extra>\",\"legendgroup\":\"\",\"marker\":{\"color\":\"#636efa\",\"pattern\":{\"shape\":\"\"}},\"name\":\"\",\"offsetgroup\":\"\",\"orientation\":\"v\",\"showlegend\":false,\"textposition\":\"auto\",\"x\":[20.5,11.0,1.0,5.0,7.0,9.0,3.0,13.0,15.0,17.0,19.0],\"xaxis\":\"x\",\"y\":[1.8389300655323773,2.9374725760386253,30.631515418404508,14.542421799138591,7.9801549523120086,5.309437327634957,30.485940715137712,2.220687448419192,1.615578235710631,1.2285934695726692,1.209267992098731],\"yaxis\":\"y\",\"type\":\"bar\"},{\"alignmentgroup\":\"True\",\"hovertemplate\":\"area_name=Manhattan<br>x=%{x}<br>percent=%{y}<extra></extra>\",\"legendgroup\":\"\",\"marker\":{\"color\":\"#636efa\",\"pattern\":{\"shape\":\"\"}},\"name\":\"\",\"offsetgroup\":\"\",\"orientation\":\"v\",\"showlegend\":false,\"textposition\":\"auto\",\"x\":[3.0,20.5,19.0,17.0,15.0,13.0,11.0,9.0,7.0,5.0,1.0],\"xaxis\":\"x2\",\"y\":[35.38445296563997,0.0,0.013950629852085618,0.05165503485772243,0.1500635319224345,0.3393396450507313,0.8057431349704587,1.969678117494467,5.276731480538872,12.816104305466009,43.192281154207244],\"yaxis\":\"y2\",\"type\":\"bar\"},{\"alignmentgroup\":\"True\",\"hovertemplate\":\"area_name=DC<br>x=%{x}<br>percent=%{y}<extra></extra>\",\"legendgroup\":\"\",\"marker\":{\"color\":\"#636efa\",\"pattern\":{\"shape\":\"\"}},\"name\":\"\",\"offsetgroup\":\"\",\"orientation\":\"v\",\"showlegend\":false,\"textposition\":\"auto\",\"x\":[1.0,19.0,17.0,15.0,13.0,11.0,9.0,7.0,5.0,3.0,20.5],\"xaxis\":\"x3\",\"y\":[48.24561403508772,0.0,0.02370791844476055,0.0474158368895211,0.22522522522522523,0.48601232811759126,2.204836415362731,4.243717401612138,10.715979137031768,33.807491702228546,0.0],\"yaxis\":\"y3\",\"type\":\"bar\"},{\"alignmentgroup\":\"True\",\"hovertemplate\":\"area_name=Chicago<br>x=%{x}<br>percent=%{y}<extra></extra>\",\"legendgroup\":\"\",\"marker\":{\"color\":\"#636efa\",\"pattern\":{\"shape\":\"\"}},\"name\":\"\",\"offsetgroup\":\"\",\"orientation\":\"v\",\"showlegend\":false,\"textposition\":\"auto\",\"x\":[13.0,5.0,7.0,9.0,11.0,3.0,15.0,17.0,19.0,20.5,1.0],\"xaxis\":\"x4\",\"y\":[3.013506625891947,7.7344546381243635,5.268858307849134,3.140927624872579,2.873343527013252,21.53414882772681,4.2686034658511725,2.452854230377166,1.9686544342507644,14.264780835881755,33.479867482161055],\"yaxis\":\"y4\",\"type\":\"bar\"}],                        {\"template\":{\"data\":{\"histogram2dcontour\":[{\"type\":\"histogram2dcontour\",\"colorbar\":{\"outlinewidth\":0,\"ticks\":\"\"},\"colorscale\":[[0.0,\"#0d0887\"],[0.1111111111111111,\"#46039f\"],[0.2222222222222222,\"#7201a8\"],[0.3333333333333333,\"#9c179e\"],[0.4444444444444444,\"#bd3786\"],[0.5555555555555556,\"#d8576b\"],[0.6666666666666666,\"#ed7953\"],[0.7777777777777778,\"#fb9f3a\"],[0.8888888888888888,\"#fdca26\"],[1.0,\"#f0f921\"]]}],\"choropleth\":[{\"type\":\"choropleth\",\"colorbar\":{\"outlinewidth\":0,\"ticks\":\"\"}}],\"histogram2d\":[{\"type\":\"histogram2d\",\"colorbar\":{\"outlinewidth\":0,\"ticks\":\"\"},\"colorscale\":[[0.0,\"#0d0887\"],[0.1111111111111111,\"#46039f\"],[0.2222222222222222,\"#7201a8\"],[0.3333333333333333,\"#9c179e\"],[0.4444444444444444,\"#bd3786\"],[0.5555555555555556,\"#d8576b\"],[0.6666666666666666,\"#ed7953\"],[0.7777777777777778,\"#fb9f3a\"],[0.8888888888888888,\"#fdca26\"],[1.0,\"#f0f921\"]]}],\"heatmap\":[{\"type\":\"heatmap\",\"colorbar\":{\"outlinewidth\":0,\"ticks\":\"\"},\"colorscale\":[[0.0,\"#0d0887\"],[0.1111111111111111,\"#46039f\"],[0.2222222222222222,\"#7201a8\"],[0.3333333333333333,\"#9c179e\"],[0.4444444444444444,\"#bd3786\"],[0.5555555555555556,\"#d8576b\"],[0.6666666666666666,\"#ed7953\"],[0.7777777777777778,\"#fb9f3a\"],[0.8888888888888888,\"#fdca26\"],[1.0,\"#f0f921\"]]}],\"heatmapgl\":[{\"type\":\"heatmapgl\",\"colorbar\":{\"outlinewidth\":0,\"ticks\":\"\"},\"colorscale\":[[0.0,\"#0d0887\"],[0.1111111111111111,\"#46039f\"],[0.2222222222222222,\"#7201a8\"],[0.3333333333333333,\"#9c179e\"],[0.4444444444444444,\"#bd3786\"],[0.5555555555555556,\"#d8576b\"],[0.6666666666666666,\"#ed7953\"],[0.7777777777777778,\"#fb9f3a\"],[0.8888888888888888,\"#fdca26\"],[1.0,\"#f0f921\"]]}],\"contourcarpet\":[{\"type\":\"contourcarpet\",\"colorbar\":{\"outlinewidth\":0,\"ticks\":\"\"}}],\"contour\":[{\"type\":\"contour\",\"colorbar\":{\"outlinewidth\":0,\"ticks\":\"\"},\"colorscale\":[[0.0,\"#0d0887\"],[0.1111111111111111,\"#46039f\"],[0.2222222222222222,\"#7201a8\"],[0.3333333333333333,\"#9c179e\"],[0.4444444444444444,\"#bd3786\"],[0.5555555555555556,\"#d8576b\"],[0.6666666666666666,\"#ed7953\"],[0.7777777777777778,\"#fb9f3a\"],[0.8888888888888888,\"#fdca26\"],[1.0,\"#f0f921\"]]}],\"surface\":[{\"type\":\"surface\",\"colorbar\":{\"outlinewidth\":0,\"ticks\":\"\"},\"colorscale\":[[0.0,\"#0d0887\"],[0.1111111111111111,\"#46039f\"],[0.2222222222222222,\"#7201a8\"],[0.3333333333333333,\"#9c179e\"],[0.4444444444444444,\"#bd3786\"],[0.5555555555555556,\"#d8576b\"],[0.6666666666666666,\"#ed7953\"],[0.7777777777777778,\"#fb9f3a\"],[0.8888888888888888,\"#fdca26\"],[1.0,\"#f0f921\"]]}],\"mesh3d\":[{\"type\":\"mesh3d\",\"colorbar\":{\"outlinewidth\":0,\"ticks\":\"\"}}],\"scatter\":[{\"fillpattern\":{\"fillmode\":\"overlay\",\"size\":10,\"solidity\":0.2},\"type\":\"scatter\"}],\"parcoords\":[{\"type\":\"parcoords\",\"line\":{\"colorbar\":{\"outlinewidth\":0,\"ticks\":\"\"}}}],\"scatterpolargl\":[{\"type\":\"scatterpolargl\",\"marker\":{\"colorbar\":{\"outlinewidth\":0,\"ticks\":\"\"}}}],\"bar\":[{\"error_x\":{\"color\":\"#2a3f5f\"},\"error_y\":{\"color\":\"#2a3f5f\"},\"marker\":{\"line\":{\"color\":\"#E5ECF6\",\"width\":0.5},\"pattern\":{\"fillmode\":\"overlay\",\"size\":10,\"solidity\":0.2}},\"type\":\"bar\"}],\"scattergeo\":[{\"type\":\"scattergeo\",\"marker\":{\"colorbar\":{\"outlinewidth\":0,\"ticks\":\"\"}}}],\"scatterpolar\":[{\"type\":\"scatterpolar\",\"marker\":{\"colorbar\":{\"outlinewidth\":0,\"ticks\":\"\"}}}],\"histogram\":[{\"marker\":{\"pattern\":{\"fillmode\":\"overlay\",\"size\":10,\"solidity\":0.2}},\"type\":\"histogram\"}],\"scattergl\":[{\"type\":\"scattergl\",\"marker\":{\"colorbar\":{\"outlinewidth\":0,\"ticks\":\"\"}}}],\"scatter3d\":[{\"type\":\"scatter3d\",\"line\":{\"colorbar\":{\"outlinewidth\":0,\"ticks\":\"\"}},\"marker\":{\"colorbar\":{\"outlinewidth\":0,\"ticks\":\"\"}}}],\"scattermapbox\":[{\"type\":\"scattermapbox\",\"marker\":{\"colorbar\":{\"outlinewidth\":0,\"ticks\":\"\"}}}],\"scatterternary\":[{\"type\":\"scatterternary\",\"marker\":{\"colorbar\":{\"outlinewidth\":0,\"ticks\":\"\"}}}],\"scattercarpet\":[{\"type\":\"scattercarpet\",\"marker\":{\"colorbar\":{\"outlinewidth\":0,\"ticks\":\"\"}}}],\"carpet\":[{\"aaxis\":{\"endlinecolor\":\"#2a3f5f\",\"gridcolor\":\"white\",\"linecolor\":\"white\",\"minorgridcolor\":\"white\",\"startlinecolor\":\"#2a3f5f\"},\"baxis\":{\"endlinecolor\":\"#2a3f5f\",\"gridcolor\":\"white\",\"linecolor\":\"white\",\"minorgridcolor\":\"white\",\"startlinecolor\":\"#2a3f5f\"},\"type\":\"carpet\"}],\"table\":[{\"cells\":{\"fill\":{\"color\":\"#EBF0F8\"},\"line\":{\"color\":\"white\"}},\"header\":{\"fill\":{\"color\":\"#C8D4E3\"},\"line\":{\"color\":\"white\"}},\"type\":\"table\"}],\"barpolar\":[{\"marker\":{\"line\":{\"color\":\"#E5ECF6\",\"width\":0.5},\"pattern\":{\"fillmode\":\"overlay\",\"size\":10,\"solidity\":0.2}},\"type\":\"barpolar\"}],\"pie\":[{\"automargin\":true,\"type\":\"pie\"}]},\"layout\":{\"autotypenumbers\":\"strict\",\"colorway\":[\"#636efa\",\"#EF553B\",\"#00cc96\",\"#ab63fa\",\"#FFA15A\",\"#19d3f3\",\"#FF6692\",\"#B6E880\",\"#FF97FF\",\"#FECB52\"],\"font\":{\"color\":\"#2a3f5f\"},\"hovermode\":\"closest\",\"hoverlabel\":{\"align\":\"left\"},\"paper_bgcolor\":\"white\",\"plot_bgcolor\":\"#E5ECF6\",\"polar\":{\"bgcolor\":\"#E5ECF6\",\"angularaxis\":{\"gridcolor\":\"white\",\"linecolor\":\"white\",\"ticks\":\"\"},\"radialaxis\":{\"gridcolor\":\"white\",\"linecolor\":\"white\",\"ticks\":\"\"}},\"ternary\":{\"bgcolor\":\"#E5ECF6\",\"aaxis\":{\"gridcolor\":\"white\",\"linecolor\":\"white\",\"ticks\":\"\"},\"baxis\":{\"gridcolor\":\"white\",\"linecolor\":\"white\",\"ticks\":\"\"},\"caxis\":{\"gridcolor\":\"white\",\"linecolor\":\"white\",\"ticks\":\"\"}},\"coloraxis\":{\"colorbar\":{\"outlinewidth\":0,\"ticks\":\"\"}},\"colorscale\":{\"sequential\":[[0.0,\"#0d0887\"],[0.1111111111111111,\"#46039f\"],[0.2222222222222222,\"#7201a8\"],[0.3333333333333333,\"#9c179e\"],[0.4444444444444444,\"#bd3786\"],[0.5555555555555556,\"#d8576b\"],[0.6666666666666666,\"#ed7953\"],[0.7777777777777778,\"#fb9f3a\"],[0.8888888888888888,\"#fdca26\"],[1.0,\"#f0f921\"]],\"sequentialminus\":[[0.0,\"#0d0887\"],[0.1111111111111111,\"#46039f\"],[0.2222222222222222,\"#7201a8\"],[0.3333333333333333,\"#9c179e\"],[0.4444444444444444,\"#bd3786\"],[0.5555555555555556,\"#d8576b\"],[0.6666666666666666,\"#ed7953\"],[0.7777777777777778,\"#fb9f3a\"],[0.8888888888888888,\"#fdca26\"],[1.0,\"#f0f921\"]],\"diverging\":[[0,\"#8e0152\"],[0.1,\"#c51b7d\"],[0.2,\"#de77ae\"],[0.3,\"#f1b6da\"],[0.4,\"#fde0ef\"],[0.5,\"#f7f7f7\"],[0.6,\"#e6f5d0\"],[0.7,\"#b8e186\"],[0.8,\"#7fbc41\"],[0.9,\"#4d9221\"],[1,\"#276419\"]]},\"xaxis\":{\"gridcolor\":\"white\",\"linecolor\":\"white\",\"ticks\":\"\",\"title\":{\"standoff\":15},\"zerolinecolor\":\"white\",\"automargin\":true,\"zerolinewidth\":2},\"yaxis\":{\"gridcolor\":\"white\",\"linecolor\":\"white\",\"ticks\":\"\",\"title\":{\"standoff\":15},\"zerolinecolor\":\"white\",\"automargin\":true,\"zerolinewidth\":2},\"scene\":{\"xaxis\":{\"backgroundcolor\":\"#E5ECF6\",\"gridcolor\":\"white\",\"linecolor\":\"white\",\"showbackground\":true,\"ticks\":\"\",\"zerolinecolor\":\"white\",\"gridwidth\":2},\"yaxis\":{\"backgroundcolor\":\"#E5ECF6\",\"gridcolor\":\"white\",\"linecolor\":\"white\",\"showbackground\":true,\"ticks\":\"\",\"zerolinecolor\":\"white\",\"gridwidth\":2},\"zaxis\":{\"backgroundcolor\":\"#E5ECF6\",\"gridcolor\":\"white\",\"linecolor\":\"white\",\"showbackground\":true,\"ticks\":\"\",\"zerolinecolor\":\"white\",\"gridwidth\":2}},\"shapedefaults\":{\"line\":{\"color\":\"#2a3f5f\"}},\"annotationdefaults\":{\"arrowcolor\":\"#2a3f5f\",\"arrowhead\":0,\"arrowwidth\":1},\"geo\":{\"bgcolor\":\"white\",\"landcolor\":\"#E5ECF6\",\"subunitcolor\":\"white\",\"showland\":true,\"showlakes\":true,\"lakecolor\":\"white\"},\"title\":{\"x\":0.05},\"mapbox\":{\"style\":\"light\"}}},\"xaxis\":{\"anchor\":\"y\",\"domain\":[0.0,0.235],\"title\":{\"text\":\"\"},\"tickmode\":\"array\",\"tickvals\":[10,20],\"ticktext\":[\"10\",\"20+\"]},\"yaxis\":{\"anchor\":\"x\",\"domain\":[0.0,1.0],\"title\":{\"text\":\"\"}},\"xaxis2\":{\"anchor\":\"y2\",\"domain\":[0.255,0.49],\"matches\":\"x\",\"title\":{\"text\":\"\"},\"tickmode\":\"array\",\"tickvals\":[10,20],\"ticktext\":[\"10\",\"20+\"]},\"yaxis2\":{\"anchor\":\"x2\",\"domain\":[0.0,1.0],\"matches\":\"y\",\"showticklabels\":false,\"title\":{\"text\":\"\"}},\"xaxis3\":{\"anchor\":\"y3\",\"domain\":[0.51,0.745],\"matches\":\"x\",\"title\":{\"text\":\"\"},\"tickmode\":\"array\",\"tickvals\":[10,20],\"ticktext\":[\"10\",\"20+\"]},\"yaxis3\":{\"anchor\":\"x3\",\"domain\":[0.0,1.0],\"matches\":\"y\",\"showticklabels\":false,\"title\":{\"text\":\"\"}},\"xaxis4\":{\"anchor\":\"y4\",\"domain\":[0.7649999999999999,0.9999999999999999],\"matches\":\"x\",\"title\":{\"text\":\"\"},\"tickmode\":\"array\",\"tickvals\":[10,20],\"ticktext\":[\"10\",\"20+\"]},\"yaxis4\":{\"anchor\":\"x4\",\"domain\":[0.0,1.0],\"matches\":\"y\",\"showticklabels\":false,\"title\":{\"text\":\"\"}},\"annotations\":[{\"showarrow\":false,\"text\":\"\",\"x\":0.1175,\"xanchor\":\"center\",\"xref\":\"paper\",\"y\":1.0,\"yanchor\":\"bottom\",\"yref\":\"paper\"},{\"showarrow\":false,\"text\":\"\",\"x\":0.3725,\"xanchor\":\"center\",\"xref\":\"paper\",\"y\":1.0,\"yanchor\":\"bottom\",\"yref\":\"paper\"},{\"showarrow\":false,\"text\":\"\",\"x\":0.6275,\"xanchor\":\"center\",\"xref\":\"paper\",\"y\":1.0,\"yanchor\":\"bottom\",\"yref\":\"paper\"},{\"showarrow\":false,\"text\":\"\",\"x\":0.8824999999999998,\"xanchor\":\"center\",\"xref\":\"paper\",\"y\":1.0,\"yanchor\":\"bottom\",\"yref\":\"paper\"},{\"showarrow\":false,\"text\":\"trip distance [km]\",\"x\":0.5,\"xref\":\"paper\",\"y\":-0.3,\"yref\":\"paper\"},{\"showarrow\":false,\"text\":\"% of trips\",\"textangle\":-90,\"x\":-0.08,\"xref\":\"paper\",\"y\":0.5,\"yref\":\"paper\"}],\"legend\":{\"tracegroupgap\":0},\"margin\":{\"t\":0,\"l\":0,\"r\":10,\"b\":0,\"pad\":0},\"barmode\":\"relative\",\"height\":150,\"width\":450,\"bargap\":0.1,\"shapes\":[{\"line\":{\"color\":\"White\",\"width\":1},\"type\":\"line\",\"x0\":10,\"x1\":10,\"xref\":\"x\",\"y0\":0,\"y1\":50,\"yref\":\"y\"},{\"line\":{\"color\":\"White\",\"width\":1},\"type\":\"line\",\"x0\":20,\"x1\":20,\"xref\":\"x\",\"y0\":0,\"y1\":50,\"yref\":\"y\"},{\"line\":{\"color\":\"White\",\"width\":1},\"type\":\"line\",\"x0\":10,\"x1\":10,\"xref\":\"x2\",\"y0\":0,\"y1\":50,\"yref\":\"y2\"},{\"line\":{\"color\":\"White\",\"width\":1},\"type\":\"line\",\"x0\":20,\"x1\":20,\"xref\":\"x2\",\"y0\":0,\"y1\":50,\"yref\":\"y2\"},{\"line\":{\"color\":\"White\",\"width\":1},\"type\":\"line\",\"x0\":10,\"x1\":10,\"xref\":\"x3\",\"y0\":0,\"y1\":50,\"yref\":\"y3\"},{\"line\":{\"color\":\"White\",\"width\":1},\"type\":\"line\",\"x0\":20,\"x1\":20,\"xref\":\"x3\",\"y0\":0,\"y1\":50,\"yref\":\"y3\"},{\"line\":{\"color\":\"White\",\"width\":1},\"type\":\"line\",\"x0\":10,\"x1\":10,\"xref\":\"x4\",\"y0\":0,\"y1\":50,\"yref\":\"y4\"},{\"line\":{\"color\":\"White\",\"width\":1},\"type\":\"line\",\"x0\":20,\"x1\":20,\"xref\":\"x4\",\"y0\":0,\"y1\":50,\"yref\":\"y4\"}]},                        {\"responsive\": true}                    ).then(function(){\n                            \nvar gd = document.getElementById('25a83c6b-9639-46cb-8a3e-8f0ab55ea8f2');\nvar x = new MutationObserver(function (mutations, observer) {{\n        var display = window.getComputedStyle(gd).display;\n        if (!display || display === 'none') {{\n            console.log([gd, 'removed!']);\n            Plotly.purge(gd);\n            observer.disconnect();\n        }}\n}});\n\n// Listen for the removal of the full notebook cells\nvar notebookContainer = gd.closest('#notebook-container');\nif (notebookContainer) {{\n    x.observe(notebookContainer, {childList: true});\n}}\n\n// Listen for the clearing of the current output cell\nvar outputEl = gd.closest('.output');\nif (outputEl) {{\n    x.observe(outputEl, {childList: true});\n}}\n\n                        })                };                });            </script>        </div>"
     },
     "metadata": {},
     "output_type": "display_data"
    }
   ],
   "source": [
    "# dist_fig = px.histogram(\n",
    "#     df_distances_binned,\n",
    "#     'bin',\n",
    "#     nbins=20,\n",
    "#     facet_col='area_name',\n",
    "#     histnorm='percent',\n",
    "#     width=600,\n",
    "#     height=250,\n",
    "# )\n",
    "dist_fig = px.bar(\n",
    "    df_distances_binned,\n",
    "    x='x',\n",
    "    y='percent',\n",
    "    facet_col='area_name',\n",
    "    width=450,\n",
    "    height=150,\n",
    ")\n",
    "\n",
    "# faceting label editing\n",
    "# dist_fig.for_each_annotation(lambda a: a.update(text=a.text.split(\"=\")[-1]))\n",
    "dist_fig.for_each_annotation(lambda a: a.update(text=''))\n",
    "\n",
    "# shared annotation for axes\n",
    "dist_fig.for_each_xaxis(lambda y: y.update(title=''))\n",
    "dist_fig.add_annotation(x=0.5, y=-0.3, text=\"trip distance [km]\", xref=\"paper\", yref=\"paper\", showarrow=False)\n",
    "dist_fig.for_each_yaxis(lambda y: y.update(title=''))\n",
    "dist_fig.add_annotation(x=-0.08, y=0.5, text=\"% of trips\", xref=\"paper\", yref=\"paper\", showarrow=False, textangle=-90)\n",
    "\n",
    "dist_fig.update_layout(\n",
    "    bargap=0.1\n",
    ")\n",
    "\n",
    "ticks = [10, 20]\n",
    "    # list(range(5, 20, 5)) + [20]\n",
    "        # [20.5]\n",
    "\n",
    "# x tick labels\n",
    "dist_fig.for_each_xaxis(lambda x: x.update(\n",
    "    tickmode='array',\n",
    "    tickvals=ticks,\n",
    "    # ticktext=[str(i) for i in range(5, 20, 5)] + ['20+']\n",
    "    ticktext=['10', '20+']\n",
    "))\n",
    "\n",
    "for i in range(len(areas)):\n",
    "    for tick in ticks:\n",
    "        dist_fig.add_shape(\n",
    "            go.layout.Shape(\n",
    "                type=\"line\",\n",
    "                xref=\"x\",\n",
    "                yref=\"paper\",\n",
    "                x0=tick,\n",
    "                y0=0,\n",
    "                x1=tick,\n",
    "                y1=50,\n",
    "                line=dict(\n",
    "                    color=\"White\",\n",
    "                    width=1\n",
    "                )\n",
    "            ),\n",
    "            row=1,\n",
    "            col=i + 1\n",
    "        )\n",
    "\n",
    "# set margins\n",
    "dist_fig.update_layout(margin=dict(l=0, r=10, t=0, b=0, pad=0))\n",
    "\n",
    "dist_fig"
   ],
   "metadata": {
    "collapsed": false,
    "ExecuteTime": {
     "end_time": "2023-05-26T16:13:47.352966Z",
     "start_time": "2023-05-26T16:13:47.239229400Z"
    }
   }
  },
  {
   "cell_type": "code",
   "execution_count": 46,
   "outputs": [
    {
     "name": "stdout",
     "output_type": "stream",
     "text": [
      "Saving to C:\\Workspaces\\AIC\\Ridesharing_DARP_instances\\figures\\trip_length.pdf\n"
     ]
    }
   ],
   "source": [
    "path = fig_path / \"trip_length.pdf\"\n",
    "print(f\"Saving to {path}\")\n",
    "dist_fig.write_image(path)"
   ],
   "metadata": {
    "collapsed": false,
    "ExecuteTime": {
     "end_time": "2023-05-26T16:14:18.648049200Z",
     "start_time": "2023-05-26T16:14:18.532727500Z"
    }
   }
  },
  {
   "cell_type": "markdown",
   "source": [
    "# Instance comparison table\n",
    "Collect metrics on our instances and compare them to the classical DARP instances.\n",
    "Metrics:\n",
    "- Number of requests\n",
    "- Number of vehicles\n",
    "- Average trip length\n",
    "- Instance duration\n",
    "- Requests per hour\n",
    "- Requests per hour and km2 - only to show this does not make sense in classical darp\n",
    "- Area - only to show this does not make sense in classical darp"
   ],
   "metadata": {
    "collapsed": false
   }
  },
  {
   "cell_type": "code",
   "execution_count": 37,
   "outputs": [],
   "source": [
    "from pathlib import Path\n",
    "import pandas as pd\n",
    "from io import StringIO\n",
    "from dataclasses import dataclass\n",
    "import numpy as np\n",
    "import logging\n",
    "from darpinstances.utils import load_yaml\n",
    "import matplotlib.pyplot as plt\n",
    "from abc import abstractmethod, ABC"
   ],
   "metadata": {
    "collapsed": false,
    "ExecuteTime": {
     "end_time": "2023-05-24T08:02:39.991318200Z",
     "start_time": "2023-05-24T08:02:39.971029Z"
    }
   }
  },
  {
   "cell_type": "code",
   "execution_count": 3,
   "outputs": [],
   "source": [
    "@dataclass\n",
    "class ResultsRow:\n",
    "    instance: str\n",
    "    instance_duration: str\n",
    "    num_requests: str\n",
    "    num_vehicles: str\n",
    "    avg_trip_length: str\n",
    "    time_window_lengths: str\n",
    "\n",
    "tbl = []"
   ],
   "metadata": {
    "collapsed": false,
    "ExecuteTime": {
     "end_time": "2023-05-24T07:20:30.161727200Z",
     "start_time": "2023-05-24T07:20:30.152525Z"
    }
   }
  },
  {
   "cell_type": "markdown",
   "source": [
    "## Classical DARP instances\n",
    "\n",
    "### Branch and Cut\n",
    "\n",
    "Filename: described in paper, config-num_requests\n",
    "Content:\n",
    "\n",
    "```txt\n",
    "filename: a2-20\n",
    "\n",
    "first row:\n",
    "vehicle_count request_count ? ? ?\n",
    "2 20 600 3 30\n",
    "following rows:\n",
    "index   x_loc y_loc ?   loc min_time_minutes max_time_minutes\n",
    "  0   0.000   0.000   0   0    0  600\n",
    "  1  -4.374  -7.608   3   1    0 1440\n",
    "  2  -1.990  -1.658   3   1    0 1440\n",
    "  3  -6.500   8.666   3   1    0 1440\n",
    "```\n",
    "loc meaning: `1`: origin, `-1`: destination, `0`: depot"
   ],
   "metadata": {
    "collapsed": false
   }
  },
  {
   "cell_type": "code",
   "execution_count": null,
   "outputs": [],
   "source": [
    "classical_instances_path = Path(r\"C:\\Users\\mrkos\\scth\\projects\\2023_ITSC_DARP_instances_paper\\experiments\\instances_classical_DARP\")"
   ],
   "metadata": {
    "collapsed": false,
    "is_executing": true,
    "ExecuteTime": {
     "start_time": "2023-05-24T07:20:30.163735600Z"
    }
   }
  },
  {
   "cell_type": "code",
   "execution_count": 56,
   "outputs": [],
   "source": [
    "class ClassicalDARPInstance(ABC):\n",
    "    trips_col_names = [\"index\", \"x_loc\", \"y_loc\", \"_\", \"loc\", \"min_time_minutes\", \"max_time_minutes\"]\n",
    "    CFG=None # Needs to be set up by child class\n",
    "    def __init__(self, file: Path):\n",
    "        self.filename = file\n",
    "        self.cfg = None\n",
    "        self.all_trips = None\n",
    "        self.read_file(file)\n",
    "\n",
    "    def read_file(self, file: Path):\n",
    "        try:\n",
    "            with open(file, \"rt\", encoding=\"utf-8\") as f:\n",
    "                cfg = list(map(int, f.readline().strip().split(\" \")))\n",
    "                trips = f.read()\n",
    "        except Exception as e:\n",
    "            logging.error(f\"Problem reading file {file}\")\n",
    "            raise e\n",
    "        self.cfg = self.CFG(*cfg)\n",
    "        self.all_trips = pd.read_csv(StringIO(trips), delim_whitespace=True, header=None, names=self.trips_col_names)\n",
    "\n",
    "    @property\n",
    "    def trips(self):\n",
    "        \"\"\"Trips excluding trips to depot\"\"\"\n",
    "        try:\n",
    "            return self.all_trips.loc[self.all_trips[\"loc\"] != 0, :]\n",
    "        except pd.core.indexing.IndexingError as e:\n",
    "            logging.error(f\"Problem selecting trips from\\n{self.all_trips}\")\n",
    "            raise e\n",
    "\n",
    "    def get_trip_distances_minutes(self):\n",
    "        origins = self.trips.loc[self.trips[\"loc\"] == 1, [\"x_loc\", \"y_loc\"]]\n",
    "        destinations = self.trips.loc[self.trips[\"loc\"] == -1, [\"x_loc\", \"y_loc\"]]\n",
    "        return np.linalg.norm(origins.values - destinations.values, axis=1)\n",
    "\n",
    "    def get_timewindows_minutes(self):\n",
    "        tw = inst.trips[\"max_time_minutes\"] - inst.trips[\"min_time_minutes\"]\n",
    "        tw.name=\"timewindow_minutes\"\n",
    "        return tw\n",
    "\n",
    "    @abstractmethod\n",
    "    def request_count(self):\n",
    "        pass\n",
    "\n",
    "@dataclass\n",
    "class BaC_cfg:\n",
    "    vehicle_count: int\n",
    "    request_count: int\n",
    "    _1: int\n",
    "    _2: int\n",
    "    _3: int\n",
    "\n",
    "class BaC(ClassicalDARPInstance):\n",
    "    CFG = BaC_cfg\n",
    "\n",
    "    @property\n",
    "    def request_count(self):\n",
    "        return self.cfg.request_count\n",
    "\n",
    "\n",
    "\n",
    "file = Path(r\"C:\\Users\\mrkos\\scth\\projects\\2023_ITSC_DARP_instances_paper\\experiments\\instances_classical_DARP\\branch-and-cut\\a2-16\")\n",
    "inst = BaC(file)\n",
    "inst.get_trip_distances_minutes();\n",
    "inst.get_timewindows_minutes();"
   ],
   "metadata": {
    "collapsed": false,
    "ExecuteTime": {
     "end_time": "2023-05-24T08:13:05.731085700Z",
     "start_time": "2023-05-24T08:13:05.667164700Z"
    }
   }
  },
  {
   "cell_type": "code",
   "execution_count": 57,
   "outputs": [
    {
     "data": {
      "text/plain": "48"
     },
     "execution_count": 57,
     "metadata": {},
     "output_type": "execute_result"
    }
   ],
   "source": [
    "bac_instances = [BaC(filepath) for filepath in (classical_instances_path/\"branch-and-cut\").rglob(\"*\")]\n",
    "len(bac_instances)"
   ],
   "metadata": {
    "collapsed": false,
    "ExecuteTime": {
     "end_time": "2023-05-24T08:13:06.444999800Z",
     "start_time": "2023-05-24T08:13:06.293262700Z"
    }
   }
  },
  {
   "cell_type": "code",
   "execution_count": 58,
   "outputs": [
    {
     "data": {
      "text/plain": "<Figure size 1500x200 with 4 Axes>",
      "image/png": "[encoded data removed]"
     },
     "metadata": {},
     "output_type": "display_data"
    }
   ],
   "source": [
    "def classical_instance_stats(instances):\n",
    "    fig, axes = plt.subplots(1, 4, figsize=(15, 2))\n",
    "    vehicle_count = pd.DataFrame([bac.cfg.vehicle_count for bac in instances], columns=(\"vehicle_count\",))\n",
    "    vehicle_count.hist(ax = axes[0])\n",
    "    request_count = pd.DataFrame([bac.request_count for bac in instances], columns=(\"request_count\",))\n",
    "    request_count.hist(ax = axes[1])\n",
    "    trip_distance_minutes=pd.DataFrame(np.concatenate([bac.get_trip_distances_minutes() for bac in instances]), columns=(\"trip_distance_minutes\",))\n",
    "    trip_distance_minutes.hist(ax = axes[2])\n",
    "    time_window_lengths = pd.concat([bac.get_timewindows_minutes() for bac in instances]).unique()\n",
    "    ax = axes[3].text(0.01, 0.5, f\"BaC\\nTime windows: {time_window_lengths}\")\n",
    "    return vehicle_count, request_count, trip_distance_minutes, time_window_lengths\n",
    "\n",
    "vehicle_count, request_count, trip_distance_minutes, time_window_lengths = classical_instance_stats(bac_instances);"
   ],
   "metadata": {
    "collapsed": false,
    "ExecuteTime": {
     "end_time": "2023-05-24T08:13:08.497429100Z",
     "start_time": "2023-05-24T08:13:07.222859600Z"
    }
   }
  },
  {
   "cell_type": "code",
   "execution_count": 59,
   "outputs": [],
   "source": [
    "classical_darp = ResultsRow(\n",
    "    instance=r\"$^a$Classical DARPs\\cite{cordeauBranchandCutAlgorithmDialaRide2006}\",\n",
    "    instance_duration=\"24 h\",\n",
    "    num_requests=f\"{min(request_count.request_count)}-{max(request_count.request_count)}\",\n",
    "    num_vehicles=f\"{min(vehicle_count.vehicle_count)}-{max(vehicle_count.vehicle_count)}\",\n",
    "    avg_trip_length=f\"{trip_distance_minutes.trip_distance_minutes.mean():.1f}$\\pm${trip_distance_minutes.trip_distance_minutes.std():.1f}\",\n",
    "    time_window_lengths=r\"15 min or 24 h$^c$\"\n",
    ")\n",
    "\n",
    "classical_ress = []\n",
    "classical_ress.append(classical_darp.__dict__)"
   ],
   "metadata": {
    "collapsed": false,
    "ExecuteTime": {
     "end_time": "2023-05-24T08:13:08.504350300Z",
     "start_time": "2023-05-24T08:13:08.499662500Z"
    }
   }
  },
  {
   "cell_type": "markdown",
   "source": [
    "### TABU search\n",
    "\n",
    "```text\n",
    "3 48 480 6 90\n",
    "  0   -1.044    2.000  0  0    0 1440\n",
    "  1   -2.973    6.414 10  1    0 1440\n",
    "  2   -3.066    0.546 10  1    0 1440\n",
    "  3    5.164    0.547 10  1    0 1440\n",
    "```\n",
    "\n",
    "Instances description:\n",
    "The randomlygenerated instances contain between 24 and 144 requests. For an n request in-\n",
    "stance, requests 1; . . . ; n=2 are assumed to be outbound while requests n=2 þ 1; . . . ; n are assumed\n",
    "to be inbound. For each instance, origin and destination locations were generated byusing a\n",
    "procedure, previouslydescribed byCordeau et al. (1997), that creates clusters of vertices around a\n",
    "certain number of seed points. For an instance with n requests, 2n vertices are generated in the\n",
    "square [ 10; 10]2 with this procedure. For i ¼ 1; . . . ; n, vertex v i is the origin of request i while\n",
    "vertex vnþi is its destination. For each vertex, the service time d i is equal to 10 and the load\n",
    "qi is equal either to 1 or 1 depending on whether the vertex corresponds to the origin or\n",
    "the destination of a request. The location of the depot is equal to the average location of the\n",
    "seed points used to generate origin and destination locations. For everyarc ðvi; vjÞ 2 A, the routing\n",
    "cost cij and travel time t ij are equal to the Euclidean distance between the two ver-tices.\n",
    "A time window [e i; l i] is also associated to each vertex. As mentioned in Section 4, origin\n",
    "vertices of outbound requests and destination vertices of inbound requests have trivial time\n",
    "windows [0; T ], where T denotes the end of the planning horizon (equal to 24 60 ¼ 1440 in our\n",
    "experiments). Two groups of instances were created byusing different parameters for generating\n",
    "time windows. In the first group (a), narrow time windows were generated byfirst choosing a\n",
    "uniform random number ei in the interval [60, 480] and then choosing a uniform random number\n",
    "li in the interval [e i þ 15; e i þ 45]. In the second group (b), wider time windows were created by\n",
    "choosing the random numbers e i and li in the intervals [60, 480] and [ei þ 30; e i þ 90], respectively.\n",
    "In all instances, maximum route duration is set to 480 while the capacityof a vehicle is equal to 6.\n",
    "Finally, the maximum ride time L is equal to 90."
   ],
   "metadata": {
    "collapsed": false
   }
  },
  {
   "cell_type": "code",
   "execution_count": 60,
   "outputs": [],
   "source": [
    "@dataclass\n",
    "class Tabu_cfg:\n",
    "    vehicle_count: int\n",
    "    vertices_count: int\n",
    "    _1: int\n",
    "    _2: int\n",
    "    _3: int\n",
    "\n",
    "class Tabu(ClassicalDARPInstance):\n",
    "    CFG = Tabu_cfg\n",
    "\n",
    "    @property\n",
    "    def request_count(self):\n",
    "        return self.cfg.vertices_count / 2\n",
    "\n",
    "file = Path(r\"C:\\Users\\mrkos\\scth\\projects\\2023_ITSC_DARP_instances_paper\\experiments\\instances_classical_DARP\\tabu\\pr01\")\n",
    "inst = Tabu(file)\n",
    "inst.get_trip_distances_minutes()\n",
    "inst.get_timewindows_minutes();"
   ],
   "metadata": {
    "collapsed": false,
    "ExecuteTime": {
     "end_time": "2023-05-24T08:13:09.742850Z",
     "start_time": "2023-05-24T08:13:09.723675100Z"
    }
   }
  },
  {
   "cell_type": "code",
   "execution_count": 61,
   "outputs": [
    {
     "data": {
      "text/plain": "20"
     },
     "execution_count": 61,
     "metadata": {},
     "output_type": "execute_result"
    }
   ],
   "source": [
    "tabu_instances = [Tabu(filepath) for filepath in (classical_instances_path/\"tabu\").rglob(\"*\") if filepath.suffix != \".res\"]\n",
    "len(tabu_instances)"
   ],
   "metadata": {
    "collapsed": false,
    "ExecuteTime": {
     "end_time": "2023-05-24T08:13:10.745717100Z",
     "start_time": "2023-05-24T08:13:10.632467700Z"
    }
   }
  },
  {
   "cell_type": "code",
   "execution_count": 62,
   "outputs": [
    {
     "data": {
      "text/plain": "<Figure size 1500x200 with 4 Axes>",
      "image/png": "[encoded data removed]"
     },
     "metadata": {},
     "output_type": "display_data"
    }
   ],
   "source": [
    "vehicle_count, request_count, trip_distance_minutes, time_window_lengths = classical_instance_stats(tabu_instances);"
   ],
   "metadata": {
    "collapsed": false,
    "ExecuteTime": {
     "end_time": "2023-05-24T08:13:12.630592200Z",
     "start_time": "2023-05-24T08:13:11.593300800Z"
    }
   }
  },
  {
   "cell_type": "code",
   "execution_count": 63,
   "outputs": [
    {
     "data": {
      "text/plain": "array([ 3,  5,  7,  9, 11, 13,  4,  6,  8, 10], dtype=int64)"
     },
     "execution_count": 63,
     "metadata": {},
     "output_type": "execute_result"
    }
   ],
   "source": [
    "vehicle_count.vehicle_count.unique()"
   ],
   "metadata": {
    "collapsed": false,
    "ExecuteTime": {
     "end_time": "2023-05-24T08:13:12.631619900Z",
     "start_time": "2023-05-24T08:13:12.629597400Z"
    }
   }
  },
  {
   "cell_type": "code",
   "execution_count": 64,
   "outputs": [],
   "source": [
    "classical_darp = ResultsRow(\n",
    "    instance=r\"$^d$Classical DARPs\\cite{kirchlerGranularTabuSearch2013}\",\n",
    "    instance_duration=\"24 h\",\n",
    "    num_requests=f\"{min(request_count.request_count)}-{max(request_count.request_count)}\",\n",
    "    num_vehicles=f\"{min(vehicle_count.vehicle_count)}-{max(vehicle_count.vehicle_count)}\",\n",
    "    avg_trip_length=f\"{trip_distance_minutes.trip_distance_minutes.mean():.1f}$\\pm${trip_distance_minutes.trip_distance_minutes.std():.1f}\",\n",
    "    time_window_lengths=r\"24 h, 15-45 min$^c$ or 24 h, 30-90 min$^c$\"\n",
    ")\n",
    "\n",
    "classical_ress = []\n",
    "classical_ress.append(classical_darp.__dict__)"
   ],
   "metadata": {
    "collapsed": false,
    "ExecuteTime": {
     "end_time": "2023-05-24T08:13:13.449617700Z",
     "start_time": "2023-05-24T08:13:13.392947600Z"
    }
   }
  },
  {
   "cell_type": "markdown",
   "source": [
    "## Our instances"
   ],
   "metadata": {
    "collapsed": false
   }
  },
  {
   "cell_type": "code",
   "execution_count": 65,
   "outputs": [],
   "source": [
    "our_instances_path = Path(r\"C:\\Users\\mrkos\\scth\\projects\\2023_ITSC_DARP_instances_paper\\experiments\\instances\\Instances\")"
   ],
   "metadata": {
    "collapsed": false,
    "ExecuteTime": {
     "end_time": "2023-05-24T08:13:14.740552800Z",
     "start_time": "2023-05-24T08:13:14.730867200Z"
    }
   }
  },
  {
   "cell_type": "code",
   "execution_count": 66,
   "outputs": [],
   "source": [
    "class DARPInstance():\n",
    "    def __init__(self, instance_folder:Path):\n",
    "        self.instance_folder = instance_folder\n",
    "        self.cfg = load_yaml(self.instance_folder/\"config.yaml\")\n",
    "        self.trips = pd.read_csv(self.instance_folder/\"trips.csv\", header=0, sep=\"\\t\")\n",
    "        self.vehicles=pd.read_csv(self.instance_folder/\"vehicles.csv\", header=None, sep=\"\\t\", names=[\"origin\", \"capacity\"])\n",
    "\n",
    "    @property\n",
    "    def vehicle_count(self):\n",
    "        return len(self.vehicles)\n",
    "\n",
    "    @property\n",
    "    def request_count(self):\n",
    "        return len(self.trips)\n",
    "\n",
    "    def get_trip_distances_minutes(self):\n",
    "        return self.trips.loc[:, \"min_travel_time\"]/60\n",
    "\n",
    "\n",
    "cfg_path = Path(r\"C:\\Users\\mrkos\\scth\\projects\\2023_ITSC_DARP_instances_paper\\experiments\\instances\\Instances\\Chicago\\instances\\start_18-00\\duration_05_min\\max_delay_03_min\\config.yaml\")\n",
    "\n",
    "di = DARPInstance(cfg_path.parent)\n",
    "di.trips\n",
    "di.vehicles\n",
    "di.vehicle_count\n",
    "di.request_count\n",
    "di.get_trip_distances_minutes();"
   ],
   "metadata": {
    "collapsed": false,
    "ExecuteTime": {
     "end_time": "2023-05-24T08:13:15.340701200Z",
     "start_time": "2023-05-24T08:13:15.234212400Z"
    }
   }
  },
  {
   "cell_type": "code",
   "execution_count": 70,
   "outputs": [
    {
     "data": {
      "text/plain": "ResultsRow(instance='DC', instance_duration='5 min', num_requests='54', num_vehicles='50', avg_trip_length='15.2$\\\\pm$9.8min', time_window_lengths='3, 5 or 10$^b$')"
     },
     "execution_count": 70,
     "metadata": {},
     "output_type": "execute_result"
    },
    {
     "data": {
      "text/plain": "<Figure size 1500x200 with 4 Axes>",
      "image/png": "[encoded data removed]"
     },
     "metadata": {},
     "output_type": "display_data"
    }
   ],
   "source": [
    "def instance_stats(darp_instances):\n",
    "    fig, axes = plt.subplots(1, 4, figsize=(15, 2))\n",
    "    vehicle_count = pd.DataFrame([di.vehicle_count for di in darp_instances], columns=(\"vehicle_count\",))\n",
    "    vehicle_count.hist(ax=axes[0])\n",
    "    request_count = pd.DataFrame([di.request_count for di in darp_instances], columns=(\"request_count\",))\n",
    "    request_count.hist(ax=axes[1])\n",
    "    trip_distance_minutes = pd.DataFrame(np.concatenate([di.get_trip_distances_minutes() for di in darp_instances]), columns=(\"trip_distance_minutes\",))\n",
    "    trip_distance_minutes.hist(ax=axes[2])\n",
    "    return vehicle_count, request_count, trip_distance_minutes, axes\n",
    "\n",
    "\n",
    "def get_results_row(city:str, duration:str):\n",
    "    darp_instances = [DARPInstance(cfg_path.parent) for cfg_path in our_instances_path.rglob(f\"**/{city}/*/*/*duration_{duration}*/*/config.yaml\")]\n",
    "    vehicle_count, request_count, trip_distance_minutes, axes = instance_stats(darp_instances)\n",
    "    axes[-1].text(0.02,0.6,f\"{city}\\nduration: {duration}\")\n",
    "\n",
    "    res = ResultsRow(\n",
    "        instance=city,\n",
    "        instance_duration=f\"{int(duration.split('_')[0])} {duration.split('_')[1]}\",\n",
    "        num_requests=f\"{request_count.request_count.mean():.0f}\",\n",
    "        num_vehicles=f\"{vehicle_count.vehicle_count.mean():.0f}\",\n",
    "        avg_trip_length=f\"{trip_distance_minutes.trip_distance_minutes.mean():.1f}$\\pm${trip_distance_minutes.trip_distance_minutes.std():.1f}min\",\n",
    "        time_window_lengths=r\"3, 5 or 10$^b$\"\n",
    "    )\n",
    "    return res\n",
    "\n",
    "\n",
    "get_results_row(\"DC\", \"05_min\")\n",
    "# tbl.append(get_results_row(\"DC\", \"05_min\").__dict__)\n"
   ],
   "metadata": {
    "collapsed": false,
    "ExecuteTime": {
     "end_time": "2023-05-24T08:14:07.776782800Z",
     "start_time": "2023-05-24T08:14:05.956353400Z"
    }
   }
  },
  {
   "cell_type": "code",
   "execution_count": 71,
   "outputs": [
    {
     "data": {
      "text/plain": "<Figure size 1500x200 with 4 Axes>",
      "image/png": "[encoded data removed]"
     },
     "metadata": {},
     "output_type": "display_data"
    },
    {
     "data": {
      "text/plain": "<Figure size 1500x200 with 4 Axes>",
      "image/png": "[encoded data removed]"
     },
     "metadata": {},
     "output_type": "display_data"
    },
    {
     "data": {
      "text/plain": "<Figure size 1500x200 with 4 Axes>",
      "image/png": "[encoded data removed]"
     },
     "metadata": {},
     "output_type": "display_data"
    },
    {
     "data": {
      "text/plain": "<Figure size 1500x200 with 4 Axes>",
      "image/png": "[encoded data removed]"
     },
     "metadata": {},
     "output_type": "display_data"
    },
    {
     "data": {
      "text/plain": "<Figure size 1500x200 with 4 Axes>",
      "image/png": "[encoded data removed]"
     },
     "metadata": {},
     "output_type": "display_data"
    },
    {
     "data": {
      "text/plain": "<Figure size 1500x200 with 4 Axes>",
      "image/png": "[encoded data removed]"
     },
     "metadata": {},
     "output_type": "display_data"
    },
    {
     "data": {
      "text/plain": "<Figure size 1500x200 with 4 Axes>",
      "image/png": "[encoded data removed]"
     },
     "metadata": {},
     "output_type": "display_data"
    },
    {
     "data": {
      "text/plain": "<Figure size 1500x200 with 4 Axes>",
      "image/png": "[encoded data removed]"
     },
     "metadata": {},
     "output_type": "display_data"
    },
    {
     "data": {
      "text/plain": "<Figure size 1500x200 with 4 Axes>",
      "image/png": "[encoded data removed]"
     },
     "metadata": {},
     "output_type": "display_data"
    },
    {
     "data": {
      "text/plain": "<Figure size 1500x200 with 4 Axes>",
      "image/png": "[encoded data removed]"
     },
     "metadata": {},
     "output_type": "display_data"
    },
    {
     "data": {
      "text/plain": "<Figure size 1500x200 with 4 Axes>",
      "image/png": "[encoded data removed]"
     },
     "metadata": {},
     "output_type": "display_data"
    },
    {
     "data": {
      "text/plain": "<Figure size 1500x200 with 4 Axes>",
      "image/png": "[encoded data removed]"
     },
     "metadata": {},
     "output_type": "display_data"
    }
   ],
   "source": [
    "ress = []\n",
    "ress.append(get_results_row(\"DC\", \"30_s\"))\n",
    "ress.append(get_results_row(\"DC\", \"15_min\"))\n",
    "ress.append(get_results_row(\"DC\", \"16_h\"))\n",
    "\n",
    "ress.append(get_results_row(\"Chicago\", \"30_s\"))\n",
    "ress.append(get_results_row(\"Chicago\", \"15_min\"))\n",
    "ress.append(get_results_row(\"Chicago\", \"16_h\"))\n",
    "\n",
    "ress.append(get_results_row(\"Manhattan\", \"30_s\"))\n",
    "ress.append(get_results_row(\"Manhattan\", \"15_min\"))\n",
    "ress.append(get_results_row(\"Manhattan\", \"16_h\"))\n",
    "\n",
    "ress.append(get_results_row(\"NYC\", \"30_s\"))\n",
    "ress.append(get_results_row(\"NYC\", \"15_min\"))\n",
    "ress.append(get_results_row(\"NYC\", \"16_h\"))\n",
    "\n",
    "our_ress = [res.__dict__ for res in ress]\n"
   ],
   "metadata": {
    "collapsed": false,
    "ExecuteTime": {
     "end_time": "2023-05-24T08:14:22.472698400Z",
     "start_time": "2023-05-24T08:14:09.494677200Z"
    }
   }
  },
  {
   "cell_type": "markdown",
   "source": [
    "## Results table\n"
   ],
   "metadata": {
    "collapsed": false
   }
  },
  {
   "cell_type": "code",
   "execution_count": 72,
   "outputs": [
    {
     "data": {
      "text/plain": "                                             instance instance_duration   \n0                                                  DC              30 s  \\\n1                                                  DC            15 min   \n2                                                  DC              16 h   \n3                                             Chicago              30 s   \n4                                             Chicago            15 min   \n5                                             Chicago              16 h   \n6                                           Manhattan              30 s   \n7                                           Manhattan            15 min   \n8                                           Manhattan              16 h   \n9                                                 NYC              30 s   \n10                                                NYC            15 min   \n11                                                NYC              16 h   \n12  $^d$Classical DARPs\\cite{kirchlerGranularTabuS...              24 h   \n\n   num_requests num_vehicles   avg_trip_length   \n0             4           18   25.0$\\pm$7.5min  \\\n1           163          121   15.8$\\pm$8.7min   \n2          3297          218   16.1$\\pm$8.3min   \n3             5            7    7.3$\\pm$4.0min   \n4           274          198  13.4$\\pm$15.1min   \n5          3794          388  17.8$\\pm$17.9min   \n6           140          124    7.9$\\pm$3.7min   \n7          5113         1672    7.7$\\pm$3.8min   \n8         90533         2011    8.0$\\pm$4.0min   \n9           329          336   10.3$\\pm$6.2min   \n10        10567         5085    9.9$\\pm$6.6min   \n11       198727         6461   10.5$\\pm$6.7min   \n12   24.0-144.0         3-13       6.8$\\pm$3.6   \n\n                           time_window_lengths  \n0                               3, 5 or 10$^b$  \n1                               3, 5 or 10$^b$  \n2                               3, 5 or 10$^b$  \n3                               3, 5 or 10$^b$  \n4                               3, 5 or 10$^b$  \n5                               3, 5 or 10$^b$  \n6                               3, 5 or 10$^b$  \n7                               3, 5 or 10$^b$  \n8                               3, 5 or 10$^b$  \n9                               3, 5 or 10$^b$  \n10                              3, 5 or 10$^b$  \n11                              3, 5 or 10$^b$  \n12  24 h, 15-45 min$^c$ or 24 h, 30-90 min$^c$  ",
      "text/html": "<div>\n<style scoped>\n    .dataframe tbody tr th:only-of-type {\n        vertical-align: middle;\n    }\n\n    .dataframe tbody tr th {\n        vertical-align: top;\n    }\n\n    .dataframe thead th {\n        text-align: right;\n    }\n</style>\n<table border=\"1\" class=\"dataframe\">\n  <thead>\n    <tr style=\"text-align: right;\">\n      <th></th>\n      <th>instance</th>\n      <th>instance_duration</th>\n      <th>num_requests</th>\n      <th>num_vehicles</th>\n      <th>avg_trip_length</th>\n      <th>time_window_lengths</th>\n    </tr>\n  </thead>\n  <tbody>\n    <tr>\n      <th>0</th>\n      <td>DC</td>\n      <td>30 s</td>\n      <td>4</td>\n      <td>18</td>\n      <td>25.0$\\pm$7.5min</td>\n      <td>3, 5 or 10$^b$</td>\n    </tr>\n    <tr>\n      <th>1</th>\n      <td>DC</td>\n      <td>15 min</td>\n      <td>163</td>\n      <td>121</td>\n      <td>15.8$\\pm$8.7min</td>\n      <td>3, 5 or 10$^b$</td>\n    </tr>\n    <tr>\n      <th>2</th>\n      <td>DC</td>\n      <td>16 h</td>\n      <td>3297</td>\n      <td>218</td>\n      <td>16.1$\\pm$8.3min</td>\n      <td>3, 5 or 10$^b$</td>\n    </tr>\n    <tr>\n      <th>3</th>\n      <td>Chicago</td>\n      <td>30 s</td>\n      <td>5</td>\n      <td>7</td>\n      <td>7.3$\\pm$4.0min</td>\n      <td>3, 5 or 10$^b$</td>\n    </tr>\n    <tr>\n      <th>4</th>\n      <td>Chicago</td>\n      <td>15 min</td>\n      <td>274</td>\n      <td>198</td>\n      <td>13.4$\\pm$15.1min</td>\n      <td>3, 5 or 10$^b$</td>\n    </tr>\n    <tr>\n      <th>5</th>\n      <td>Chicago</td>\n      <td>16 h</td>\n      <td>3794</td>\n      <td>388</td>\n      <td>17.8$\\pm$17.9min</td>\n      <td>3, 5 or 10$^b$</td>\n    </tr>\n    <tr>\n      <th>6</th>\n      <td>Manhattan</td>\n      <td>30 s</td>\n      <td>140</td>\n      <td>124</td>\n      <td>7.9$\\pm$3.7min</td>\n      <td>3, 5 or 10$^b$</td>\n    </tr>\n    <tr>\n      <th>7</th>\n      <td>Manhattan</td>\n      <td>15 min</td>\n      <td>5113</td>\n      <td>1672</td>\n      <td>7.7$\\pm$3.8min</td>\n      <td>3, 5 or 10$^b$</td>\n    </tr>\n    <tr>\n      <th>8</th>\n      <td>Manhattan</td>\n      <td>16 h</td>\n      <td>90533</td>\n      <td>2011</td>\n      <td>8.0$\\pm$4.0min</td>\n      <td>3, 5 or 10$^b$</td>\n    </tr>\n    <tr>\n      <th>9</th>\n      <td>NYC</td>\n      <td>30 s</td>\n      <td>329</td>\n      <td>336</td>\n      <td>10.3$\\pm$6.2min</td>\n      <td>3, 5 or 10$^b$</td>\n    </tr>\n    <tr>\n      <th>10</th>\n      <td>NYC</td>\n      <td>15 min</td>\n      <td>10567</td>\n      <td>5085</td>\n      <td>9.9$\\pm$6.6min</td>\n      <td>3, 5 or 10$^b$</td>\n    </tr>\n    <tr>\n      <th>11</th>\n      <td>NYC</td>\n      <td>16 h</td>\n      <td>198727</td>\n      <td>6461</td>\n      <td>10.5$\\pm$6.7min</td>\n      <td>3, 5 or 10$^b$</td>\n    </tr>\n    <tr>\n      <th>12</th>\n      <td>$^d$Classical DARPs\\cite{kirchlerGranularTabuS...</td>\n      <td>24 h</td>\n      <td>24.0-144.0</td>\n      <td>3-13</td>\n      <td>6.8$\\pm$3.6</td>\n      <td>24 h, 15-45 min$^c$ or 24 h, 30-90 min$^c$</td>\n    </tr>\n  </tbody>\n</table>\n</div>"
     },
     "execution_count": 72,
     "metadata": {},
     "output_type": "execute_result"
    }
   ],
   "source": [
    "tbl = pd.DataFrame.from_dict(our_ress + classical_ress)\n",
    "tbl"
   ],
   "metadata": {
    "collapsed": false,
    "ExecuteTime": {
     "end_time": "2023-05-24T08:14:23.901740800Z",
     "start_time": "2023-05-24T08:14:23.865477100Z"
    }
   }
  },
  {
   "cell_type": "code",
   "execution_count": 73,
   "outputs": [
    {
     "name": "stdout",
     "output_type": "stream",
     "text": [
      "\\begin{table}\n",
      "\\caption{Comparison of selected proposed instances and classical DARP instances}\n",
      "\\label{tab:instances}\n",
      "\\begin{tabular}{llllll}\n",
      "\\toprule\n",
      "Instances & Duration & Requests & Vehicles & Trip Length [mean$\\pm$std min] & Time Window Lengths \\\\\n",
      "\\midrule\n",
      "DC & 30 s & 4 & 18 & 25.0$\\pm$7.5min & 3, 5 or 10$^b$ \\\\\n",
      "DC & 15 min & 163 & 121 & 15.8$\\pm$8.7min & 3, 5 or 10$^b$ \\\\\n",
      "DC & 16 h & 3297 & 218 & 16.1$\\pm$8.3min & 3, 5 or 10$^b$ \\\\\n",
      "Chicago & 30 s & 5 & 7 & 7.3$\\pm$4.0min & 3, 5 or 10$^b$ \\\\\n",
      "Chicago & 15 min & 274 & 198 & 13.4$\\pm$15.1min & 3, 5 or 10$^b$ \\\\\n",
      "Chicago & 16 h & 3794 & 388 & 17.8$\\pm$17.9min & 3, 5 or 10$^b$ \\\\\n",
      "Manhattan & 30 s & 140 & 124 & 7.9$\\pm$3.7min & 3, 5 or 10$^b$ \\\\\n",
      "Manhattan & 15 min & 5113 & 1672 & 7.7$\\pm$3.8min & 3, 5 or 10$^b$ \\\\\n",
      "Manhattan & 16 h & 90533 & 2011 & 8.0$\\pm$4.0min & 3, 5 or 10$^b$ \\\\\n",
      "NYC & 30 s & 329 & 336 & 10.3$\\pm$6.2min & 3, 5 or 10$^b$ \\\\\n",
      "NYC & 15 min & 10567 & 5085 & 9.9$\\pm$6.6min & 3, 5 or 10$^b$ \\\\\n",
      "NYC & 16 h & 198727 & 6461 & 10.5$\\pm$6.7min & 3, 5 or 10$^b$ \\\\\n",
      "$^d$Classical DARPs\\cite{kirchlerGranularTabuSearch2013} & 24 h & 24.0-144.0 & 3-13 & 6.8$\\pm$3.6 & 24 h, 15-45 min$^c$ or 24 h, 30-90 min$^c$ \\\\\n",
      "\\bottomrule\n",
      "\\end{tabular}\n",
      "\\end{table}\n",
      "\n"
     ]
    }
   ],
   "source": [
    "print(tbl.to_latex(index=False, caption=\"Comparison of selected proposed instances and classical DARP instances\", label=\"tab:instances\",\n",
    "                   header=[\"Instances\", \"Duration\", \"Requests\", \"Vehicles\", \"Trip Length [mean$\\pm$std min]\", \"Time Window Lengths\"]))"
   ],
   "metadata": {
    "collapsed": false,
    "ExecuteTime": {
     "end_time": "2023-05-24T08:14:25.654775Z",
     "start_time": "2023-05-24T08:14:25.371788700Z"
    }
   }
  },
  {
   "cell_type": "code",
   "execution_count": null,
   "outputs": [],
   "source": [],
   "metadata": {
    "collapsed": false
   }
  }
 ],
 "metadata": {
  "kernelspec": {
   "display_name": "Python 3",
   "language": "python",
   "name": "python3"
  },
  "language_info": {
   "codemirror_mode": {
    "name": "ipython",
    "version": 2
   },
   "file_extension": ".py",
   "mimetype": "text/x-python",
   "name": "python",
   "nbconvert_exporter": "python",
   "pygments_lexer": "ipython2",
   "version": "2.7.6"
  }
 },
 "nbformat": 4,
 "nbformat_minor": 0
}
