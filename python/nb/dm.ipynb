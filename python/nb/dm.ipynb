{
 "cells": [
  {
   "metadata": {
    "ExecuteTime": {
     "end_time": "2024-05-07T12:02:00.286244Z",
     "start_time": "2024-05-07T12:02:00.026742Z"
    }
   },
   "cell_type": "code",
   "source": [
    "import h5py\n",
    "import numpy as np"
   ],
   "id": "648241b3174a89df",
   "outputs": [],
   "execution_count": 1
  },
  {
   "metadata": {
    "ExecuteTime": {
     "end_time": "2024-05-07T12:02:01.267935Z",
     "start_time": "2024-05-07T12:02:01.256934Z"
    }
   },
   "cell_type": "code",
   "source": "",
   "id": "648e393491fb022a",
   "outputs": [],
   "execution_count": 1
  },
  {
   "metadata": {
    "ExecuteTime": {
     "end_time": "2024-05-07T12:02:02.120824Z",
     "start_time": "2024-05-07T12:02:02.116825Z"
    }
   },
   "cell_type": "code",
   "source": [
    "path_to_dm = r\"D:\\AIC backup data\\Experiment Data\\DARP\\final\\Instances\\NYC/dm.h5\"\n",
    "dm_csv = r\"C:\\Google Drive\\AIC Experiment Data\\NYC SiMoD\\dm.csv\""
   ],
   "id": "13d15b0e3eb03743",
   "outputs": [],
   "execution_count": 2
  },
  {
   "metadata": {
    "ExecuteTime": {
     "end_time": "2024-05-07T12:06:38.909954Z",
     "start_time": "2024-05-07T12:03:40.008896Z"
    }
   },
   "cell_type": "code",
   "source": [
    "dm_file = h5py.File(path_to_dm, 'r')\n",
    "a_group_key = list(dm_file.keys())[0]\n",
    "dm_arr = dm_file[a_group_key][()]"
   ],
   "id": "initial_id",
   "outputs": [],
   "execution_count": 4
  },
  {
   "metadata": {
    "ExecuteTime": {
     "end_time": "2024-05-07T12:09:57.604158Z",
     "start_time": "2024-05-07T12:09:57.588160Z"
    }
   },
   "cell_type": "code",
   "source": "dm_arr.dtype",
   "id": "1f8e1911af1f26aa",
   "outputs": [
    {
     "data": {
      "text/plain": [
       "dtype('uint16')"
      ]
     },
     "execution_count": 7,
     "metadata": {},
     "output_type": "execute_result"
    }
   ],
   "execution_count": 7
  },
  {
   "metadata": {
    "ExecuteTime": {
     "end_time": "2024-05-07T12:47:23.094500Z",
     "start_time": "2024-05-07T12:12:08.766135Z"
    }
   },
   "cell_type": "code",
   "source": [
    "# export to csv\n",
    "np.savetxt(dm_csv, dm_arr, delimiter=\",\", fmt='%i')"
   ],
   "id": "1fde4c7618d6c0a9",
   "outputs": [],
   "execution_count": 8
  },
  {
   "metadata": {
    "ExecuteTime": {
     "end_time": "2024-05-07T14:19:35.520820Z",
     "start_time": "2024-05-07T14:19:35.464789Z"
    }
   },
   "cell_type": "code",
   "source": "",
   "id": "8edca0a9f6d7b404",
   "outputs": [
    {
     "ename": "NameError",
     "evalue": "name 'Path' is not defined",
     "output_type": "error",
     "traceback": [
      "\u001B[1;31m---------------------------------------------------------------------------\u001B[0m",
      "\u001B[1;31mNameError\u001B[0m                                 Traceback (most recent call last)",
      "Input \u001B[1;32mIn [10]\u001B[0m, in \u001B[0;36m<cell line: 1>\u001B[1;34m()\u001B[0m\n\u001B[1;32m----> 1\u001B[0m map_path \u001B[38;5;241m=\u001B[39m \u001B[43mPath\u001B[49m(\u001B[38;5;124mr\u001B[39m\u001B[38;5;124m\"\u001B[39m\u001B[38;5;124mD:\u001B[39m\u001B[38;5;124m\\\u001B[39m\u001B[38;5;124mAIC backup data\u001B[39m\u001B[38;5;124m\\\u001B[39m\u001B[38;5;124mExperiment Data\u001B[39m\u001B[38;5;124m\\\u001B[39m\u001B[38;5;124mDARP\u001B[39m\u001B[38;5;124m\\\u001B[39m\u001B[38;5;124mfinal\u001B[39m\u001B[38;5;124m\\\u001B[39m\u001B[38;5;124mInstances\u001B[39m\u001B[38;5;124m\\\u001B[39m\u001B[38;5;124mNYC/map/\u001B[39m\u001B[38;5;124m\"\u001B[39m)\n",
      "\u001B[1;31mNameError\u001B[0m: name 'Path' is not defined"
     ]
    }
   ],
   "execution_count": 10
  },
  {
   "metadata": {},
   "cell_type": "code",
   "outputs": [],
   "execution_count": null,
   "source": "",
   "id": "ff389b501a7c2440"
  }
 ],
 "metadata": {
  "kernelspec": {
   "display_name": "Python 3",
   "language": "python",
   "name": "python3"
  },
  "language_info": {
   "codemirror_mode": {
    "name": "ipython",
    "version": 2
   },
   "file_extension": ".py",
   "mimetype": "text/x-python",
   "name": "python",
   "nbconvert_exporter": "python",
   "pygments_lexer": "ipython2",
   "version": "2.7.6"
  }
 },
 "nbformat": 4,
 "nbformat_minor": 5
}
