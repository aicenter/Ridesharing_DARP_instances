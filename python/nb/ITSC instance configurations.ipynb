{
 "cells": [
  {
   "cell_type": "code",
   "execution_count": 1,
   "metadata": {
    "collapsed": true,
    "ExecuteTime": {
     "end_time": "2023-09-07T08:13:00.995085300Z",
     "start_time": "2023-09-07T08:13:00.944683400Z"
    }
   },
   "outputs": [],
   "source": [
    "%load_ext autoreload"
   ]
  },
  {
   "cell_type": "code",
   "execution_count": 2,
   "outputs": [],
   "source": [
    "from pathlib import Path\n",
    "import copy\n",
    "from datetime import datetime, timedelta\n",
    "import os\n",
    "\n",
    "from darpinstances.instance_generation.generate_config import generate_config, default_config"
   ],
   "metadata": {
    "collapsed": false,
    "ExecuteTime": {
     "end_time": "2023-09-07T08:13:02.763086Z",
     "start_time": "2023-09-07T08:13:02.715073500Z"
    }
   }
  },
  {
   "cell_type": "code",
   "execution_count": 3,
   "outputs": [],
   "source": [
    "def generate_instance(area: dict, start_time_str: str, duration: int, max_delay: int):\n",
    "    config = copy.deepcopy(shared_config)\n",
    "    config['max_prolongation'] = max_delay * 60\n",
    "    config['map']['SRID_plane'] = area['srid_plane']\n",
    "    config['demand']['min_time'] = f\"{experiment_date} {start_time_str}:00\"\n",
    "    config['demand']['dataset'] = area['demand datasets']\n",
    "    config['demand']['positions_set'] = area['position_set']\n",
    "    config['area_id'] = area['id']\n",
    "    if 'trip_time_set' in area:\n",
    "        config['demand']['time_set'] = area['trip_time_set']\n",
    "\n",
    "    start_time = datetime.strptime(config['demand']['min_time'], '%Y-%m-%d %H:%M:%S')\n",
    "\n",
    "    vehicle_start_time = start_time - timedelta(minutes=area['vehicle_start_interval'])\n",
    "    config['vehicles']['start_time'] = vehicle_start_time.strftime('%Y-%m-%d %H:%M:%S')\n",
    "\n",
    "    end_time = start_time + timedelta(minutes=duration)\n",
    "    config['demand']['max_time'] = end_time.strftime('%Y-%m-%d %H:%M:%S')\n",
    "\n",
    "    if duration >= 60:\n",
    "        duration_folder_name = f\"duration_{int(duration / 60):0>2d}_h\"\n",
    "    elif duration >= 1:\n",
    "        duration_folder_name = f\"duration_{duration:0>2d}_min\"\n",
    "    else:\n",
    "        duration_folder_name = f\"duration_{int(duration * 60):0>2d}_s\"\n",
    "\n",
    "    instance_dir = root_path / Path(area['name']) / Path('instances') / Path(f\"start_{start_time.hour:0>2d}-00\") \\\n",
    "                   / Path(duration_folder_name) / Path(f\"max_delay_{max_delay:0>2d}_min\")\n",
    "    os.makedirs(instance_dir, exist_ok=True)\n",
    "    config_path = instance_dir / Path(\"config.yaml\")\n",
    "\n",
    "    generate_config(config, config_path)\n",
    "\n"
   ],
   "metadata": {
    "collapsed": false,
    "ExecuteTime": {
     "end_time": "2023-09-07T08:13:03.305166700Z",
     "start_time": "2023-09-07T08:13:03.292167Z"
    }
   }
  },
  {
   "cell_type": "markdown",
   "source": [
    "# Configuration"
   ],
   "metadata": {
    "collapsed": false
   }
  },
  {
   "cell_type": "code",
   "execution_count": 4,
   "outputs": [],
   "source": [
    "root_path = Path(r'C:\\Google Drive\\AIC Experiment Data\\DARP\\ITSC_instance_paper/Instances/')\n",
    "# root_path = Path(r'D:\\Google Drive\\AIC Experiment Data\\DARP\\ITSC_instance_paper/Instances/')\n",
    "\n",
    "experiment_date = '2022-04-05' # Tuesday, the most congested day of the most congested month in 2022 in Washington DC\n",
    "\n",
    "max_delays = [3, 5, 10]\n",
    "\n",
    "# cities\n",
    "# - Washington DC: ~8 000 requests per day\n",
    "# - New York: ~650 000 requests per day\n",
    "# - Chicago: ~15 000 requests per day\n",
    "areas = [\n",
    "    {'name': 'DC', 'demand datasets': [7], 'id': 22, 'zone_types': [4], 'srid_plane': 32618, 'position_set': 4, 'vehicle_start_interval': 11, 'trip_time_set': 2},\n",
    "    {'name': 'NYC', 'demand datasets': [2, 3, 4, 5], 'id': 12, 'zone_types': [2], 'srid_plane': 32618, 'position_set': 1, 'vehicle_start_interval': 24},\n",
    "    {'name': 'Manhattan', 'demand datasets': [2, 3, 4, 5], 'id': 4, 'zone_types': [2], 'srid_plane': 32618, 'position_set': 1, 'vehicle_start_interval': 8},\n",
    "    {'name': 'Chicago', 'demand datasets': [1], 'id': 19, 'zone_types': [0, 1], 'srid_plane': 26916, 'position_set': 3, 'vehicle_start_interval': 31, 'trip_time_set': 1},\n",
    "]\n",
    "\n",
    "shared_config = copy.deepcopy(default_config)\n",
    "shared_config['demand']['mode'] = 'load'\n",
    "shared_config['vehicles']['vehicle_to_request_ratio'] = 1\n",
    "shared_config['area_dir'] = \"../../../../\"\n",
    "shared_config['demand']['filepath'] = \"./trips.di\""
   ],
   "metadata": {
    "collapsed": false,
    "ExecuteTime": {
     "end_time": "2023-09-07T08:15:44.474596600Z",
     "start_time": "2023-09-07T08:15:44.467597700Z"
    }
   }
  },
  {
   "cell_type": "markdown",
   "source": [
    "## Start 18:00 -  Short Instances (up to two hours)"
   ],
   "metadata": {
    "collapsed": false
   }
  },
  {
   "cell_type": "code",
   "execution_count": 13,
   "outputs": [],
   "source": [
    "durations = [0.5, 1, 2, 5, 15, 30, 120] # in minutes, up to 16 hours\n",
    "start_times = ['18:00']"
   ],
   "metadata": {
    "collapsed": false,
    "ExecuteTime": {
     "start_time": "2023-05-11T11:31:49.366171700Z"
    }
   }
  },
  {
   "cell_type": "markdown",
   "source": [
    "## Start 07:00 - Long Instances (16 hours)"
   ],
   "metadata": {
    "collapsed": false
   }
  },
  {
   "cell_type": "code",
   "execution_count": 5,
   "outputs": [],
   "source": [
    "durations = [960] # in minutes, up to 16 hours\n",
    "start_times = ['07:00']"
   ],
   "metadata": {
    "collapsed": false,
    "ExecuteTime": {
     "end_time": "2023-09-07T08:20:02.172523900Z",
     "start_time": "2023-09-07T08:20:02.154522100Z"
    }
   }
  },
  {
   "cell_type": "markdown",
   "source": [
    "# Running the instance generation"
   ],
   "metadata": {
    "collapsed": false
   }
  },
  {
   "cell_type": "code",
   "execution_count": 6,
   "outputs": [
    {
     "name": "stderr",
     "output_type": "stream",
     "text": [
      "10:20:19 [INFO] Saving config to C:\\Google Drive\\AIC Experiment Data\\DARP\\ITSC_instance_paper\\Instances\\DC\\instances\\start_07-00\\duration_16_h\\max_delay_03_min\\config.yaml\n",
      "10:20:19 [INFO] Saving config to C:\\Google Drive\\AIC Experiment Data\\DARP\\ITSC_instance_paper\\Instances\\DC\\instances\\start_07-00\\duration_16_h\\max_delay_05_min\\config.yaml\n",
      "10:20:19 [INFO] Saving config to C:\\Google Drive\\AIC Experiment Data\\DARP\\ITSC_instance_paper\\Instances\\DC\\instances\\start_07-00\\duration_16_h\\max_delay_10_min\\config.yaml\n",
      "10:20:19 [INFO] Saving config to C:\\Google Drive\\AIC Experiment Data\\DARP\\ITSC_instance_paper\\Instances\\NYC\\instances\\start_07-00\\duration_16_h\\max_delay_03_min\\config.yaml\n",
      "10:20:19 [INFO] Saving config to C:\\Google Drive\\AIC Experiment Data\\DARP\\ITSC_instance_paper\\Instances\\NYC\\instances\\start_07-00\\duration_16_h\\max_delay_05_min\\config.yaml\n",
      "10:20:19 [INFO] Saving config to C:\\Google Drive\\AIC Experiment Data\\DARP\\ITSC_instance_paper\\Instances\\NYC\\instances\\start_07-00\\duration_16_h\\max_delay_10_min\\config.yaml\n",
      "10:20:19 [INFO] Saving config to C:\\Google Drive\\AIC Experiment Data\\DARP\\ITSC_instance_paper\\Instances\\Manhattan\\instances\\start_07-00\\duration_16_h\\max_delay_03_min\\config.yaml\n",
      "10:20:19 [INFO] Saving config to C:\\Google Drive\\AIC Experiment Data\\DARP\\ITSC_instance_paper\\Instances\\Manhattan\\instances\\start_07-00\\duration_16_h\\max_delay_05_min\\config.yaml\n",
      "10:20:19 [INFO] Saving config to C:\\Google Drive\\AIC Experiment Data\\DARP\\ITSC_instance_paper\\Instances\\Manhattan\\instances\\start_07-00\\duration_16_h\\max_delay_10_min\\config.yaml\n",
      "10:20:19 [INFO] Saving config to C:\\Google Drive\\AIC Experiment Data\\DARP\\ITSC_instance_paper\\Instances\\Chicago\\instances\\start_07-00\\duration_16_h\\max_delay_03_min\\config.yaml\n",
      "10:20:19 [INFO] Saving config to C:\\Google Drive\\AIC Experiment Data\\DARP\\ITSC_instance_paper\\Instances\\Chicago\\instances\\start_07-00\\duration_16_h\\max_delay_05_min\\config.yaml\n",
      "10:20:19 [INFO] Saving config to C:\\Google Drive\\AIC Experiment Data\\DARP\\ITSC_instance_paper\\Instances\\Chicago\\instances\\start_07-00\\duration_16_h\\max_delay_10_min\\config.yaml\n"
     ]
    }
   ],
   "source": [
    "for area in areas:\n",
    "    for start_time in start_times:\n",
    "        for duration in durations:\n",
    "            for max_delay in max_delays:\n",
    "                generate_instance(area, start_time, duration, max_delay)"
   ],
   "metadata": {
    "collapsed": false,
    "ExecuteTime": {
     "end_time": "2023-09-07T08:20:19.923207900Z",
     "start_time": "2023-09-07T08:20:19.865184100Z"
    }
   }
  },
  {
   "cell_type": "code",
   "execution_count": null,
   "outputs": [],
   "source": [],
   "metadata": {
    "collapsed": false
   }
  }
 ],
 "metadata": {
  "kernelspec": {
   "display_name": "Python 3",
   "language": "python",
   "name": "python3"
  },
  "language_info": {
   "codemirror_mode": {
    "name": "ipython",
    "version": 2
   },
   "file_extension": ".py",
   "mimetype": "text/x-python",
   "name": "python",
   "nbconvert_exporter": "python",
   "pygments_lexer": "ipython2",
   "version": "2.7.6"
  }
 },
 "nbformat": 4,
 "nbformat_minor": 0
}
